{
 "cells": [
  {
   "cell_type": "code",
   "execution_count": 1,
   "metadata": {},
   "outputs": [],
   "source": [
    "%reload_ext autoreload\n",
    "%autoreload 2\n",
    "\n",
    "from pyeed.core.proteinsequence import ProteinSequence\n",
    "from pyeed.blast.blast import pblast"
   ]
  },
  {
   "cell_type": "code",
   "execution_count": 2,
   "metadata": {},
   "outputs": [],
   "source": [
    "seq = ProteinSequence.from_ncbi(\"NP_001287541.1\")"
   ]
  },
  {
   "cell_type": "code",
   "execution_count": 3,
   "metadata": {},
   "outputs": [
    {
     "name": "stdout",
     "output_type": "stream",
     "text": [
      "\u001b[4mProteinSequence\u001b[0m\n",
      "├── \u001b[94mid\u001b[0m = NP_001287541.1\n",
      "├── \u001b[94mname\u001b[0m = aldolase 1, isoform M [Drosophila melanogaster]\n",
      "├── \u001b[94mamino_acid_sequence\u001b[0m = MTTYFNYPSKELQDELREIAQKIVAPGKGILAADESGPTMGKRLQDIGVENTEDNRRAYRQLLFSTDPKLAENISGVILFHETLYQKADDGTPFAEILKKKGIILGIKVDKGVVPLFGSEDEVTTQGLDDLAARCAQYKKDGCDFAKWRCVLKIGKNTPSYQSILENANVLARYASICQSQRIVPIVEPEVLPDGDHDLDRAQKVTETVLAAVYKALSDHHVYLEGTLLKPNMVTAGQSAKKNTPEEIALATVQALRRTVPAAVTGVTFLSGGQSEEEATVNLSAINNVPLIRPWALTFSYGRALQASVLRAWAGKKENIAAGQNELLKRAKANGDAAQGKYVAGSAGAGSGSLFVANHAY\n",
      "├── \u001b[94morganism\u001b[0m\n",
      "│   └── \u001b[4mOrganism\u001b[0m\n",
      "│       ├── \u001b[94mid\u001b[0m = taxon:7227\n",
      "│       ├── \u001b[94mname\u001b[0m = Drosophila melanogaster\n",
      "│       └── \u001b[94mncbi_taxonomy_id\u001b[0m = taxon:7227\n",
      "├── \u001b[94mreference_sequence\u001b[0m = NM_001300612.1\n",
      "└── \u001b[94mannotations\u001b[0m\n",
      "    ├── 0\n",
      "    │   └── \u001b[4mAnnotation\u001b[0m\n",
      "    │       ├── \u001b[94mid\u001b[0m = annotation0\n",
      "    │       ├── \u001b[94mstart_position\u001b[0m = 14\n",
      "    │       ├── \u001b[94mend_position\u001b[0m = 361\n",
      "    │       ├── \u001b[94mnote\u001b[0m = Fructose-bisphosphate aldolase class-I; pfam00274\n",
      "    │       ├── \u001b[94mname\u001b[0m = Glycolytic\n",
      "    │       └── \u001b[94mdb_xref\u001b[0m = CDD:425574\n",
      "    ├── 1\n",
      "    │   └── \u001b[4mAnnotation\u001b[0m\n",
      "    │       ├── \u001b[94mid\u001b[0m = annotation1\n",
      "    │       ├── \u001b[94mstart_position\u001b[0m = 33\n",
      "    │       ├── \u001b[94mend_position\u001b[0m = 303\n",
      "    │       ├── \u001b[94mname\u001b[0m = active\n",
      "    │       └── \u001b[94mdb_xref\u001b[0m = CDD:188635\n",
      "    ├── 2\n",
      "    │   └── \u001b[4mAnnotation\u001b[0m\n",
      "    │       ├── \u001b[94mid\u001b[0m = annotation2\n",
      "    │       ├── \u001b[94mstart_position\u001b[0m = 110\n",
      "    │       ├── \u001b[94mend_position\u001b[0m = 260\n",
      "    │       ├── \u001b[94mname\u001b[0m = other\n",
      "    │       └── \u001b[94mdb_xref\u001b[0m = CDD:188635\n",
      "    └── 3\n",
      "        └── \u001b[4mAnnotation\u001b[0m\n",
      "            ├── \u001b[94mid\u001b[0m = annotation3\n",
      "            ├── \u001b[94mstart_position\u001b[0m = 229\n",
      "            ├── \u001b[94mend_position\u001b[0m = 230\n",
      "            ├── \u001b[94mname\u001b[0m = active\n",
      "            └── \u001b[94mdb_xref\u001b[0m = CDD:188635\n",
      "\n"
     ]
    }
   ],
   "source": [
    "print(seq)"
   ]
  },
  {
   "cell_type": "code",
   "execution_count": 4,
   "metadata": {},
   "outputs": [],
   "source": [
    "rec = pblast(seq.amino_acid_sequence, n_hits=100)"
   ]
  },
  {
   "cell_type": "markdown",
   "metadata": {},
   "source": [
    "### Building the SQL database\n",
    "\n",
    "Next, we are going to use the ```build_sql_database``` function to set up an SQLite database file. This one will be used later on to populate data from our model. The database will construct a tabe for each object/attribute and thus facilitate an easy transfer from an application to the database."
   ]
  },
  {
   "cell_type": "markdown",
   "metadata": {},
   "source": [
    "### Creating a dataset\n",
    "\n",
    "In order to demonstrate how to populate the database using our model, we are going to construct a small dataset using the data model we just loaded."
   ]
  },
  {
   "cell_type": "markdown",
   "metadata": {},
   "source": [
    "### Populating the database\n",
    "\n",
    "Finally, we are going to add the data to our previously created database by using the datasets ```to_sql``` method where we also submit the location of our database file. This will create an Object Relation Model (ORM) that represents the Database structure and map the values present in our dataset to the corresponding tables."
   ]
  },
  {
   "cell_type": "code",
   "execution_count": 11,
   "metadata": {},
   "outputs": [],
   "source": [
    "from sdRDM import DataModel\n",
    "from sdRDM_db import DBConnector, create_tables"
   ]
  },
  {
   "cell_type": "code",
   "execution_count": 12,
   "metadata": {},
   "outputs": [],
   "source": [
    "# Establish a connection to the database\n",
    "db = DBConnector(\n",
    "    username=\"root\", password=\"root\", host=\"localhost\", db_name=\"ExampleDB\"\n",
    ")"
   ]
  },
  {
   "cell_type": "code",
   "execution_count": 14,
   "metadata": {},
   "outputs": [
    {
     "data": {
      "text/plain": [
       "DBConnector(host='localhost', username='root', password='root', db_name='ExampleDB', port=5432, dbtype=<SupportedBackends.POSTGRES: 'postgres'>, connection=<ibis.backends.postgres.Backend object at 0x1295b0910>)"
      ]
     },
     "execution_count": 14,
     "metadata": {},
     "output_type": "execute_result"
    }
   ],
   "source": [
    "db"
   ]
  },
  {
   "cell_type": "code",
   "execution_count": 18,
   "metadata": {},
   "outputs": [
    {
     "data": {
      "text/plain": [
       "DBConnector(host='localhost', username='root', password='root', db_name='ExampleDB', port=5432, dbtype=<SupportedBackends.POSTGRES: 'postgres'>, connection=<ibis.backends.postgres.Backend object at 0x1295b0910>)"
      ]
     },
     "execution_count": 18,
     "metadata": {},
     "output_type": "execute_result"
    }
   ],
   "source": [
    "# Check if there are no tables in the database\n",
    "db"
   ]
  }
 ],
 "metadata": {
  "kernelspec": {
   "display_name": "sdrdm_example",
   "language": "python",
   "name": "python3"
  },
  "language_info": {
   "codemirror_mode": {
    "name": "ipython",
    "version": 3
   },
   "file_extension": ".py",
   "mimetype": "text/x-python",
   "name": "python",
   "nbconvert_exporter": "python",
   "pygments_lexer": "ipython3",
   "version": "3.11.3"
  }
 },
 "nbformat": 4,
 "nbformat_minor": 4
}
