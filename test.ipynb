{
 "cells": [
  {
   "cell_type": "code",
   "execution_count": 8,
   "metadata": {},
   "outputs": [],
   "source": [
    "%reload_ext autoreload\n",
    "%autoreload 2\n",
    "from pyeed.main import Pyeed\n",
    "from pyeed.model import Organism, Protein"
   ]
  },
  {
   "cell_type": "code",
   "execution_count": 11,
   "metadata": {},
   "outputs": [
    {
     "data": {
      "text/plain": [
       "<Protein: {'accession_id': 'P0A8V2', 'sequence': 'MKKTAIAIAVALAGFATVAQA', 'name': None, 'seq_length': None, 'mol_weight': 2.22, 'ec_number': None, 'nucleotide_id': None, 'locus_tag': None, 'structure_ids': None, 'go_terms': None, 'embedding': None}>"
      ]
     },
     "execution_count": 11,
     "metadata": {},
     "output_type": "execute_result"
    }
   ],
   "source": [
    "pr = Protein(accession_id=\"P0A8V2\", sequence=\"MKKTAIAIAVALAGFATVAQA\")\n",
    "pr.mol_weight = 2.22\n",
    "\n",
    "\n",
    "pr"
   ]
  },
  {
   "cell_type": "markdown",
   "metadata": {},
   "source": [
    "# Connect to DB\n",
    "\n",
    "Neo4j DB is hosted locally via Docker."
   ]
  },
  {
   "cell_type": "code",
   "execution_count": 2,
   "metadata": {},
   "outputs": [
    {
     "name": "stdout",
     "output_type": "stream",
     "text": [
      "📡 Connected to database.\n"
     ]
    }
   ],
   "source": [
    "uri = \"bolt://127.0.0.1:7687\"\n",
    "eedb = Pyeed(uri)"
   ]
  },
  {
   "cell_type": "code",
   "execution_count": 6,
   "metadata": {},
   "outputs": [],
   "source": [
    "ids = [\"P12345\", \"P67890\", \"P54321\"]"
   ]
  },
  {
   "cell_type": "code",
   "execution_count": 15,
   "metadata": {},
   "outputs": [],
   "source": [
    "taxonomy_id = 222222\n",
    "organism = Organism.get_or_create(taxonomy_id=taxonomy_id)"
   ]
  },
  {
   "cell_type": "code",
   "execution_count": 7,
   "metadata": {},
   "outputs": [
    {
     "name": "stdout",
     "output_type": "stream",
     "text": [
      "🔌 Connection closed.\n"
     ]
    }
   ],
   "source": [
    "eedb.db.close()"
   ]
  }
 ],
 "metadata": {
  "kernelspec": {
   "display_name": "pyeed-iiMJg_Qc-py3.11",
   "language": "python",
   "name": "python3"
  },
  "language_info": {
   "codemirror_mode": {
    "name": "ipython",
    "version": 3
   },
   "file_extension": ".py",
   "mimetype": "text/x-python",
   "name": "python",
   "nbconvert_exporter": "python",
   "pygments_lexer": "ipython3",
   "version": "3.11.5"
  }
 },
 "nbformat": 4,
 "nbformat_minor": 2
}
