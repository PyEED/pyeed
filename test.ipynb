{
 "cells": [
  {
   "cell_type": "code",
   "execution_count": 1,
   "metadata": {},
   "outputs": [],
   "source": [
    "from pyeed import Pyeed\n",
    "from pyeed.model import GOAnnotation, Protein"
   ]
  },
  {
   "cell_type": "markdown",
   "metadata": {},
   "source": [
    "# Create Neo4j DB\n",
    "\n",
    "Create local Neo4j DB without authentication.\n",
    "Graph data science plugin is not installed.\n",
    "\n",
    "```bash\n",
    "docker run -it --name pyeed-neo4j \\\n",
    "  -p 7474:7474 \\--user=\"$(id -u):$(id -g)\" \\\n",
    "  -e NEO4J_AUTH=none \\\n",
    "  -p 7687:7687 \\\n",
    "  -v $HOME/Documents/db/data:/data \\\n",
    "  -v $HOME/Documents/db/logs:/logs \\\n",
    "  -v $HOME/Documents/db/import:/var/lib/neo4j/import \\\n",
    "  -v $HOME/Documents/db/plugins:/plugins \\\n",
    "  -e NEO4J_AUTH=neo4j/test \\\n",
    "  -e NEO4JLABS_PLUGINS='[\"apoc\"]' \\\n",
    "  -e NEO4J_dbms_security_procedures_unrestricted=\"apoc.*\" \\\n",
    "  -d neo4j:latest\n",
    "```"
   ]
  },
  {
   "cell_type": "markdown",
   "metadata": {},
   "source": [
    "# Connect to DB\n",
    "\n",
    "Neo4j DB is hosted locally via Docker.\n",
    "Also possible to use free hosted Neo4j Sandbox (not tested)."
   ]
  },
  {
   "cell_type": "code",
   "execution_count": 2,
   "metadata": {},
   "outputs": [
    {
     "name": "stdout",
     "output_type": "stream",
     "text": [
      "📡 Connected to database.\n",
      "All data has been wiped from the database.\n",
      "<pyeed.dbconnect.DatabaseConnector object at 0x12a390610>\n"
     ]
    }
   ],
   "source": [
    "uri = \"bolt://127.0.0.1:7687\"\n",
    "user = None\n",
    "password = None\n",
    "\n",
    "# Create a Pyeed object, automatically connecting to the database\n",
    "eedb = Pyeed(uri)\n",
    "eedb.db._wipe_database()\n",
    "\n",
    "# DB connector is a property of the Pyeed object\n",
    "print(eedb.db)\n",
    "\n",
    "# If this is the first time you are running this script, the pyeed graph model needs to be initialized\n",
    "first_time = False\n",
    "if first_time:\n",
    "    eedb.db._initialize_db_constraints(user=user, password=password)"
   ]
  },
  {
   "cell_type": "code",
   "execution_count": 3,
   "metadata": {},
   "outputs": [
    {
     "name": "stderr",
     "output_type": "stream",
     "text": [
      "\u001b[32m2024-10-14 00:25:34.005\u001b[0m | \u001b[34m\u001b[1mDEBUG   \u001b[0m | \u001b[36mpyeed.adapter.primary_db_adapter\u001b[0m:\u001b[36mmake_request\u001b[0m:\u001b[36m142\u001b[0m - \u001b[34m\u001b[1mSending 5 requests in batches of 5\u001b[0m\n",
      "\u001b[32m2024-10-14 00:25:34.009\u001b[0m | \u001b[34m\u001b[1mDEBUG   \u001b[0m | \u001b[36mpyeed.adapter.primary_db_adapter\u001b[0m:\u001b[36msend_request\u001b[0m:\u001b[36m123\u001b[0m - \u001b[34m\u001b[1mSending request to https://www.ebi.ac.uk/proteins/api/proteins with parameters: {'format': 'json', 'accession': 'P04182,Q6QDP7,P04182,P29758,A0A851UXD9'}\u001b[0m\n",
      "\u001b[32m2024-10-14 00:25:34.109\u001b[0m | \u001b[34m\u001b[1mDEBUG   \u001b[0m | \u001b[36mpyeed.adapter.primary_db_adapter\u001b[0m:\u001b[36msend_request\u001b[0m:\u001b[36m123\u001b[0m - \u001b[34m\u001b[1mSending request to https://www.ebi.ac.uk/proteins/api/proteins with parameters: {'format': 'json', 'accession': 'A0A8C6HVU6,A0A8C6GQ10,A0A1U7QEB0,A0A6I9L5L6,G3HVE0'}\u001b[0m\n",
      "\u001b[32m2024-10-14 00:25:34.209\u001b[0m | \u001b[34m\u001b[1mDEBUG   \u001b[0m | \u001b[36mpyeed.adapter.primary_db_adapter\u001b[0m:\u001b[36msend_request\u001b[0m:\u001b[36m123\u001b[0m - \u001b[34m\u001b[1mSending request to https://www.ebi.ac.uk/proteins/api/proteins with parameters: {'format': 'json', 'accession': 'A0A8J6G992,A0A8C6W4W5,A0A8B9YUY7,L8I4V3,A0A6P3IYQ1'}\u001b[0m\n",
      "\u001b[32m2024-10-14 00:25:34.453\u001b[0m | \u001b[34m\u001b[1mDEBUG   \u001b[0m | \u001b[36mpyeed.adapter.primary_db_adapter\u001b[0m:\u001b[36msend_request\u001b[0m:\u001b[36m123\u001b[0m - \u001b[34m\u001b[1mSending request to https://www.ebi.ac.uk/proteins/api/proteins with parameters: {'format': 'json', 'accession': 'A0A452EKJ3,A0A6P5B7Q0,F1MYG0,A0A5J5MK22,A0A6J0Y425'}\u001b[0m\n",
      "\u001b[32m2024-10-14 00:25:34.553\u001b[0m | \u001b[34m\u001b[1mDEBUG   \u001b[0m | \u001b[36mpyeed.adapter.primary_db_adapter\u001b[0m:\u001b[36msend_request\u001b[0m:\u001b[36m123\u001b[0m - \u001b[34m\u001b[1mSending request to https://www.ebi.ac.uk/proteins/api/proteins with parameters: {'format': 'json', 'accession': 'Q3ZCF5'}\u001b[0m\n"
     ]
    },
    {
     "name": "stdout",
     "output_type": "stream",
     "text": [
      "{'nodes': 69, 'relationships': 179}\n"
     ]
    }
   ],
   "source": [
    "ids = [\n",
    "    \"P04182\",\n",
    "    \"Q6QDP7\",\n",
    "    \"P04182\",\n",
    "    \"P29758\",\n",
    "    \"A0A851UXD9\",\n",
    "    \"A0A8C6HVU6\",\n",
    "    \"A0A8C6GQ10\",\n",
    "    \"A0A1U7QEB0\",\n",
    "    \"A0A6I9L5L6\",\n",
    "    \"G3HVE0\",\n",
    "    \"A0A8J6G992\",\n",
    "    \"A0A8C6W4W5\",\n",
    "    \"A0A8B9YUY7\",\n",
    "    \"L8I4V3\",\n",
    "    \"A0A6P3IYQ1\",\n",
    "    \"A0A452EKJ3\",\n",
    "    \"A0A6P5B7Q0\",\n",
    "    \"F1MYG0\",\n",
    "    \"A0A5J5MK22\",\n",
    "    \"A0A6J0Y425\",\n",
    "    \"Q3ZCF5\",\n",
    "]\n",
    "\n",
    "# Fetch proteins from primary database\n",
    "eedb.fetch_from_primary_db(ids)\n",
    "\n",
    "# number of nodes and edges in db\n",
    "print(eedb.db.stats())"
   ]
  },
  {
   "cell_type": "markdown",
   "metadata": {},
   "source": [
    "To use the web interface, open a browser and go to `http://localhost:7474/`."
   ]
  },
  {
   "cell_type": "markdown",
   "metadata": {},
   "source": [
    "# Query DB"
   ]
  },
  {
   "cell_type": "code",
   "execution_count": 4,
   "metadata": {},
   "outputs": [
    {
     "name": "stdout",
     "output_type": "stream",
     "text": [
      "Number of proteins in database:  20\n",
      "{'accession_id': 'P04182', 'sequence': 'MLSKLASLQTVAALRRGLRTSVASATSVATKKTEQGPPSSEYIFERESKYGAHNYHPLPVALERGKGIYMWDVEGRQYFDFLSAYGAVSQGHCHPKIIEAMKSQVDKLTLTSRAFYNNVLGEYEEYITKLFNYNKVLPMNTGVEAGETACKLARRWGYTVKGIQKYKAKIVFAVGNFWGRTLSAVSSSTDPTSYDGFGPFMPGFETIPYNDLPALERALQDPNVAAFMVEPIQGEAGVIVPDPGYLTGVRELCTRHQVLFIADEIQTGLARTGRWLAVDHENVRPDIVLLGKALSGGLYPVSAVLCDDDIMLTIKPGEHGSTYGGNPLGCRIAIAALEVLEEEHLAENADKMGAILRKELMKLPSDVVTAVRGKGLLNAIVIRETKDCDAWKVCLRLRDNGLLAKPTHGDIIRLAPPLVIKEDEIRESVEIINKTILSF', 'name': 'Ornithine aminotransferase, mitochondrial', 'seq_length': 439, 'mol_weight': 48333.0, 'ec_number': '2.6.1.13', 'nucleotide_id': None, 'locus_tag': None, 'structure_ids': None, 'go_terms': None, 'embedding': None, 'element_id_property': '4:2dbbe7d3-51e1-4903-a514-4dd4aed7696d:203'}\n",
      "Number of proteins associated with GO:0005739:  11\n",
      "Number of organisms with at least two proteins:  3\n"
     ]
    }
   ],
   "source": [
    "## Query using pyeed graph objects\n",
    "# Get all proteins\n",
    "proteins = Protein.nodes.all()\n",
    "print(\"Number of proteins in database: \", len(proteins))\n",
    "\n",
    "# Get protein with id P04182\n",
    "protein = Protein.nodes.get(accession_id=\"P04182\")\n",
    "print(protein)\n",
    "\n",
    "# Get all protein which are accociated with GO term GO:0005739 (mitochondrion)\n",
    "go_annotation = GOAnnotation.nodes.get(go_id=\"GO:0005739\")\n",
    "mito_proteins = protein.go_annotation.all()\n",
    "print(\"Number of proteins associated with GO:0005739: \", len(mito_proteins))\n",
    "\n",
    "\n",
    "## Or execute cypher query\n",
    "# Get all organisms that have at least two connected proteins\n",
    "query = \"\"\"\n",
    "MATCH (o:Organism)<-[:ORIGINATES_FROM]-(p:Protein)\n",
    "WITH o, COUNT(p) AS proteinCount\n",
    "WHERE proteinCount >= 2\n",
    "RETURN o\n",
    "\"\"\"\n",
    "\n",
    "organisms = eedb.db.execute_read(query)\n",
    "print(\"Number of organisms with at least two proteins: \", len(organisms))"
   ]
  },
  {
   "cell_type": "code",
   "execution_count": 5,
   "metadata": {},
   "outputs": [
    {
     "name": "stdout",
     "output_type": "stream",
     "text": [
      "🔌 Connection closed.\n"
     ]
    }
   ],
   "source": [
    "# close connection\n",
    "eedb.db.close()"
   ]
  }
 ],
 "metadata": {
  "kernelspec": {
   "display_name": "pyeed-iiMJg_Qc-py3.11",
   "language": "python",
   "name": "python3"
  },
  "language_info": {
   "codemirror_mode": {
    "name": "ipython",
    "version": 3
   },
   "file_extension": ".py",
   "mimetype": "text/x-python",
   "name": "python",
   "nbconvert_exporter": "python",
   "pygments_lexer": "ipython3",
   "version": "3.11.5"
  }
 },
 "nbformat": 4,
 "nbformat_minor": 2
}
