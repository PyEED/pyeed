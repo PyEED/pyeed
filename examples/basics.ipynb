{
 "cells": [
  {
   "cell_type": "code",
   "execution_count": 6,
   "metadata": {},
   "outputs": [],
   "source": [
    "import json\n",
    "from pyeed.core import ProteinInfo"
   ]
  },
  {
   "cell_type": "markdown",
   "metadata": {},
   "source": [
    "# `pyeed` basics - getting sequence data\n",
    "\n",
    "## Get single sequence based on accession id"
   ]
  },
  {
   "cell_type": "code",
   "execution_count": 7,
   "metadata": {},
   "outputs": [],
   "source": [
    "matTS = ProteinInfo.get_id(\"MBP1912539.1\")"
   ]
  },
  {
   "cell_type": "markdown",
   "metadata": {},
   "source": [
    "## Get many sequences based on accession ids"
   ]
  },
  {
   "cell_type": "code",
   "execution_count": 8,
   "metadata": {},
   "outputs": [
    {
     "data": {
      "application/vnd.jupyter.widget-view+json": {
       "model_id": "43e9187bad3b4806a5ace6fc128f573b",
       "version_major": 2,
       "version_minor": 0
      },
      "text/plain": [
       "Output()"
      ]
     },
     "metadata": {},
     "output_type": "display_data"
    },
    {
     "data": {
      "text/html": [
       "<pre style=\"white-space:pre;overflow-x:auto;line-height:normal;font-family:Menlo,'DejaVu Sans Mono',consolas,'Courier New',monospace\"></pre>\n"
      ],
      "text/plain": []
     },
     "metadata": {},
     "output_type": "display_data"
    },
    {
     "data": {
      "text/html": [
       "<pre style=\"white-space:pre;overflow-x:auto;line-height:normal;font-family:Menlo,'DejaVu Sans Mono',consolas,'Courier New',monospace\">\n",
       "</pre>\n"
      ],
      "text/plain": [
       "\n"
      ]
     },
     "metadata": {},
     "output_type": "display_data"
    },
    {
     "name": "stdout",
     "output_type": "stream",
     "text": [
      "Loaded 1047 unique UniProt and NCBI protein accession ids.\n"
     ]
    }
   ],
   "source": [
    "# Load the saved ids from json\n",
    "with open(\"ids.json\", \"r\") as f:\n",
    "    ids = json.load(f)\n",
    "\n",
    "# Get the protein info for each id\n",
    "proteins = ProteinInfo.get_ids(ids)\n",
    "\n",
    "print(f\"Loaded {len(ids)} unique UniProt and NCBI protein accession ids.\")\n"
   ]
  },
  {
   "cell_type": "markdown",
   "metadata": {},
   "source": [
    "## Make BLAST search on NCBI server"
   ]
  },
  {
   "cell_type": "code",
   "execution_count": 5,
   "metadata": {},
   "outputs": [
    {
     "data": {
      "text/html": [
       "<pre style=\"white-space:pre;overflow-x:auto;line-height:normal;font-family:Menlo,'DejaVu Sans Mono',consolas,'Courier New',monospace\"></pre>\n"
      ],
      "text/plain": []
     },
     "metadata": {},
     "output_type": "display_data"
    },
    {
     "data": {
      "application/vnd.jupyter.widget-view+json": {
       "model_id": "59086375d5f3451a88e754b8ece3b58c",
       "version_major": 2,
       "version_minor": 0
      },
      "text/plain": [
       "Output()"
      ]
     },
     "metadata": {},
     "output_type": "display_data"
    },
    {
     "data": {
      "text/html": [
       "<pre style=\"white-space:pre;overflow-x:auto;line-height:normal;font-family:Menlo,'DejaVu Sans Mono',consolas,'Courier New',monospace\"></pre>\n"
      ],
      "text/plain": []
     },
     "metadata": {},
     "output_type": "display_data"
    },
    {
     "data": {
      "text/html": [
       "<pre style=\"white-space:pre;overflow-x:auto;line-height:normal;font-family:Menlo,'DejaVu Sans Mono',consolas,'Courier New',monospace\">\n",
       "</pre>\n"
      ],
      "text/plain": [
       "\n"
      ]
     },
     "metadata": {},
     "output_type": "display_data"
    }
   ],
   "source": [
    "blast_results = matTS.ncbi_blast(\n",
    "    n_hits=100,\n",
    "    e_value=0.05,\n",
    "    db=\"swissprot\",\n",
    "    matrix=\"BLOSUM62\",\n",
    "    identity=0.5,\n",
    ")"
   ]
  },
  {
   "cell_type": "markdown",
   "metadata": {},
   "source": [
    "## Checkout the data\n",
    "\n",
    "Exemplarily check out the first protein in the `blast_results`"
   ]
  },
  {
   "cell_type": "code",
   "execution_count": 9,
   "metadata": {},
   "outputs": [],
   "source": [
    "result1 = blast_results[0]"
   ]
  },
  {
   "cell_type": "markdown",
   "metadata": {},
   "source": [
    "### Organism annotation"
   ]
  },
  {
   "cell_type": "code",
   "execution_count": 12,
   "metadata": {},
   "outputs": [
    {
     "name": "stdout",
     "output_type": "stream",
     "text": [
      "[ProteinRegion(id='proteinregion1385', name='MetK2', spans=[Span(id='span2731', start=0, end=401)], note='Archaeal S-adenosylmethionine synthetase [Coenzyme transport and metabolism]; COG1812', cross_reference='CDD:441417', type=None)]\n"
     ]
    }
   ],
   "source": [
    "print(proteins[-1].regions)"
   ]
  },
  {
   "cell_type": "markdown",
   "metadata": {},
   "source": [
    "### Domain annotations"
   ]
  },
  {
   "cell_type": "code",
   "execution_count": 15,
   "metadata": {},
   "outputs": [
    {
     "name": "stdout",
     "output_type": "stream",
     "text": [
      "\u001b[4mProteinRegion\u001b[0m\n",
      "├── \u001b[94mid\u001b[0m = proteinregion727\n",
      "├── \u001b[94mname\u001b[0m = MetK2\n",
      "├── \u001b[94mspans\u001b[0m\n",
      "│   └── 0\n",
      "│       └── \u001b[4mSpan\u001b[0m\n",
      "│           ├── \u001b[94mid\u001b[0m = span1392\n",
      "│           ├── \u001b[94mstart\u001b[0m = 5\n",
      "│           └── \u001b[94mend\u001b[0m = 405\n",
      "├── \u001b[94mnote\u001b[0m = Archaeal S-adenosylmethionine synthetase [Coenzyme transport and metabolism]; COG1812\n",
      "└── \u001b[94mcross_reference\u001b[0m = CDD:441417\n",
      "\n"
     ]
    }
   ],
   "source": [
    "for domain in blast_results[4].regions:\n",
    "    print(domain)"
   ]
  },
  {
   "cell_type": "code",
   "execution_count": null,
   "metadata": {},
   "outputs": [],
   "source": []
  },
  {
   "cell_type": "code",
   "execution_count": null,
   "metadata": {},
   "outputs": [],
   "source": []
  }
 ],
 "metadata": {
  "kernelspec": {
   "display_name": "Python 3 (ipykernel)",
   "language": "python",
   "name": "python3"
  },
  "language_info": {
   "codemirror_mode": {
    "name": "ipython",
    "version": 3
   },
   "file_extension": ".py",
   "mimetype": "text/x-python",
   "name": "python",
   "nbconvert_exporter": "python",
   "pygments_lexer": "ipython3",
   "version": "3.11.6"
  }
 },
 "nbformat": 4,
 "nbformat_minor": 4
}
