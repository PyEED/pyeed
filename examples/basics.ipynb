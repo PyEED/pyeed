{
 "cells": [
  {
   "cell_type": "code",
   "execution_count": 1,
   "metadata": {},
   "outputs": [],
   "source": [
    "from pyeed.core import ProteinInfo, Alignment\n",
    "from pyeed.aligners import PairwiseAligner\n",
    "from pyeed.network import SequenceNetwork"
   ]
  },
  {
   "cell_type": "markdown",
   "metadata": {},
   "source": [
    "## Get initial sequence"
   ]
  },
  {
   "cell_type": "code",
   "execution_count": 2,
   "metadata": {},
   "outputs": [],
   "source": [
    "matTS = ProteinInfo.get_id(\"MBP1912539.1\")"
   ]
  },
  {
   "cell_type": "markdown",
   "metadata": {},
   "source": [
    "## Get 200 similar sequences using BLAST"
   ]
  },
  {
   "cell_type": "code",
   "execution_count": 3,
   "metadata": {},
   "outputs": [
    {
     "name": "stdout",
     "output_type": "stream",
     "text": [
      "🏃🏼‍♀️ Running PBLAST\n",
      "╭── protein name: S-adenosylmethionine synthetase\n",
      "├── accession: MBP1912539.1\n",
      "├── organism: Thermococcus stetteri\n",
      "├── e-value: 10.0\n",
      "╰── max hits: 200\n",
      "⬇️ Fetching 200 protein entries from NCBI...\n",
      "⬇️ Fetching 124 taxonomy entries from NCBI...\n",
      "🎉 Done\n",
      "\n"
     ]
    }
   ],
   "source": [
    "blast_results = matTS.ncbi_blastp(n_hits=200)"
   ]
  },
  {
   "cell_type": "markdown",
   "metadata": {},
   "source": [
    "## Make pairwise alignment between all sequences"
   ]
  },
  {
   "cell_type": "code",
   "execution_count": 4,
   "metadata": {},
   "outputs": [
    {
     "name": "stderr",
     "output_type": "stream",
     "text": [
      "⛓️ Running pairwise alignments: 100%|██████████| 20100/20100 [00:05<00:00, 3908.11it/s]\n"
     ]
    }
   ],
   "source": [
    "alignments = Alignment.from_sequences(sequences=blast_results, aligner=PairwiseAligner)"
   ]
  },
  {
   "cell_type": "markdown",
   "metadata": {},
   "source": [
    "## Create sequence network"
   ]
  },
  {
   "cell_type": "code",
   "execution_count": 15,
   "metadata": {},
   "outputs": [
    {
     "data": {
      "application/vnd.plotly.v1+json": {
       "config": {
        "plotlyServerURL": "https://plot.ly"
       },
       "data": [
        {
         "customdata": [
          [
           "S-adenosylmethionine synthetase",
           null,
           "Archaea",
           null,
           "Euryarchaeota",
           "Thermococci",
           "Thermococcales",
           "Thermococcaceae",
           "Thermococcus",
           "Thermococcus stetteri",
           "2.5.1.6",
           null,
           "49900",
           0.0014158376642991399,
           0.07115057017828792,
           0.1529992184539091,
           -0.08821977275357183
          ]
         ],
         "hovertemplate": "<b>%{customdata[0]}</b><br>Family Name: %{customdata[1]}<br>Domain: %{customdata[2]}<br>Kingdom: %{customdata[3]}</b><br>Phylum: %{customdata[4]}<br>Class: %{customdata[5]}<br>Order: %{customdata[6]}<br>Family: %{customdata[7]}<br>Genus: %{customdata[8]}<br>Species: %{customdata[9]}<br>EC Number: %{customdata[10]}<br>Mol Weight: %{customdata[11]}<br>Taxonomy ID: %{customdata[12]}<extra></extra>",
         "marker": {
          "color": "red",
          "size": 10,
          "symbol": "cross"
         },
         "mode": "markers",
         "text": "S-adenosylmethionine synthetase",
         "type": "scatter3d",
         "x": [
          0.07115057017828792
         ],
         "y": [
          0.1529992184539091
         ],
         "z": [
          -0.08821977275357183
         ]
        },
        {
         "customdata": [
          [
           "methionine adenosyltransferase",
           null,
           "Archaea",
           null,
           "Euryarchaeota",
           "Thermococci",
           "Thermococcales",
           "Thermococcaceae",
           "Thermococcus",
           "Thermococcus stetteri",
           "2.5.1.6",
           44691,
           "49900",
           0.0014158376642991399,
           0.11795808467559721,
           0.06303127557459626,
           -0.09445009782330577
          ]
         ],
         "hovertemplate": "<b>%{customdata[0]}</b><br>Family Name: %{customdata[1]}<br>Domain: %{customdata[2]}<br>Kingdom: %{customdata[3]}</b><br>Phylum: %{customdata[4]}<br>Class: %{customdata[5]}<br>Order: %{customdata[6]}<br>Family: %{customdata[7]}<br>Genus: %{customdata[8]}<br>Species: %{customdata[9]}<br>EC Number: %{customdata[10]}<br>Mol Weight: %{customdata[11]}<br>Taxonomy ID: %{customdata[12]}<extra></extra>",
         "marker": {
          "color": "rgb(69, 7, 89)",
          "size": 6,
          "symbol": "circle"
         },
         "mode": "markers",
         "text": "methionine adenosyltransferase",
         "type": "scatter3d",
         "x": [
          0.11795808467559721
         ],
         "y": [
          0.06303127557459626
         ],
         "z": [
          -0.09445009782330577
         ]
        },
        {
         "customdata": [
          [
           "methionine adenosyltransferase",
           null,
           "Archaea",
           null,
           "Euryarchaeota",
           "Thermococci",
           "Thermococcales",
           "Thermococcaceae",
           "Thermococcus",
           "Thermococcus peptonophilus",
           "2.5.1.6",
           44602,
           "53952",
           0.006255442375591942,
           0.118561293420029,
           0.048239021098398886,
           -0.027107169951584464
          ]
         ],
         "hovertemplate": "<b>%{customdata[0]}</b><br>Family Name: %{customdata[1]}<br>Domain: %{customdata[2]}<br>Kingdom: %{customdata[3]}</b><br>Phylum: %{customdata[4]}<br>Class: %{customdata[5]}<br>Order: %{customdata[6]}<br>Family: %{customdata[7]}<br>Genus: %{customdata[8]}<br>Species: %{customdata[9]}<br>EC Number: %{customdata[10]}<br>Mol Weight: %{customdata[11]}<br>Taxonomy ID: %{customdata[12]}<extra></extra>",
         "marker": {
          "color": "rgb(52, 182, 122)",
          "size": 6,
          "symbol": "circle"
         },
         "mode": "markers",
         "text": "methionine adenosyltransferase",
         "type": "scatter3d",
         "x": [
          0.118561293420029
         ],
         "y": [
          0.048239021098398886
         ],
         "z": [
          -0.027107169951584464
         ]
        },
        {
         "customdata": [
          [
           "methionine adenosyltransferase",
           null,
           "Archaea",
           null,
           "Euryarchaeota",
           "Thermococci",
           "Thermococcales",
           "Thermococcaceae",
           "Thermococcus",
           "Thermococcus kodakarensis",
           "2.5.1.6",
           44484,
           "311400",
           0.002155277531214451,
           0.1470837122556409,
           0.07097301081926481,
           -0.10741372117597356
          ]
         ],
         "hovertemplate": "<b>%{customdata[0]}</b><br>Family Name: %{customdata[1]}<br>Domain: %{customdata[2]}<br>Kingdom: %{customdata[3]}</b><br>Phylum: %{customdata[4]}<br>Class: %{customdata[5]}<br>Order: %{customdata[6]}<br>Family: %{customdata[7]}<br>Genus: %{customdata[8]}<br>Species: %{customdata[9]}<br>EC Number: %{customdata[10]}<br>Mol Weight: %{customdata[11]}<br>Taxonomy ID: %{customdata[12]}<extra></extra>",
         "marker": {
          "color": "rgb(48, 107, 142)",
          "size": 6,
          "symbol": "circle"
         },
         "mode": "markers",
         "text": "methionine adenosyltransferase",
         "type": "scatter3d",
         "x": [
          0.1470837122556409
         ],
         "y": [
          0.07097301081926481
         ],
         "z": [
          -0.10741372117597356
         ]
        },
        {
         "customdata": [
          [
           "methionine adenosyltransferase",
           null,
           "Archaea",
           null,
           "Euryarchaeota",
           "Thermococci",
           "Thermococcales",
           "Thermococcaceae",
           "Thermococcus",
           "Thermococcus sp.",
           "2.5.1.6",
           44603,
           "35749",
           0.002882880812495921,
           0.09665932083008952,
           -0.027963227209786078,
           -0.07961577612699777
          ]
         ],
         "hovertemplate": "<b>%{customdata[0]}</b><br>Family Name: %{customdata[1]}<br>Domain: %{customdata[2]}<br>Kingdom: %{customdata[3]}</b><br>Phylum: %{customdata[4]}<br>Class: %{customdata[5]}<br>Order: %{customdata[6]}<br>Family: %{customdata[7]}<br>Genus: %{customdata[8]}<br>Species: %{customdata[9]}<br>EC Number: %{customdata[10]}<br>Mol Weight: %{customdata[11]}<br>Taxonomy ID: %{customdata[12]}<extra></extra>",
         "marker": {
          "color": "rgb(71, 35, 115)",
          "size": 6,
          "symbol": "circle"
         },
         "mode": "markers",
         "text": "methionine adenosyltransferase",
         "type": "scatter3d",
         "x": [
          0.09665932083008952
         ],
         "y": [
          -0.027963227209786078
         ],
         "z": [
          -0.07961577612699777
         ]
        },
        {
         "customdata": [
          [
           "S-adenosylmethionine synthase",
           null,
           "Archaea",
           null,
           "Euryarchaeota",
           "Thermococci",
           "Thermococcales",
           "Thermococcaceae",
           "Thermococcus",
           "Thermococcus nautili",
           "2.5.1.6",
           null,
           "195522",
           0.013754794461796359,
           0.02156769016381012,
           -0.007102240048730726,
           -0.07537620836321049
          ]
         ],
         "hovertemplate": "<b>%{customdata[0]}</b><br>Family Name: %{customdata[1]}<br>Domain: %{customdata[2]}<br>Kingdom: %{customdata[3]}</b><br>Phylum: %{customdata[4]}<br>Class: %{customdata[5]}<br>Order: %{customdata[6]}<br>Family: %{customdata[7]}<br>Genus: %{customdata[8]}<br>Species: %{customdata[9]}<br>EC Number: %{customdata[10]}<br>Mol Weight: %{customdata[11]}<br>Taxonomy ID: %{customdata[12]}<extra></extra>",
         "marker": {
          "color": "rgb(31, 158, 137)",
          "size": 6,
          "symbol": "circle"
         },
         "mode": "markers",
         "text": "S-adenosylmethionine synthase",
         "type": "scatter3d",
         "x": [
          0.02156769016381012
         ],
         "y": [
          -0.007102240048730726
         ],
         "z": [
          -0.07537620836321049
         ]
        },
        {
         "customdata": [
          [
           "methionine adenosyltransferase",
           null,
           "Archaea",
           null,
           "Euryarchaeota",
           "Thermococci",
           "Thermococcales",
           "Thermococcaceae",
           "Thermococcus",
           "Thermococcus sp.",
           "2.5.1.6",
           44644,
           "35749",
           0.005672080738742508,
           0.09276520205065772,
           -0.012996138211819995,
           -0.10105032335672735
          ]
         ],
         "hovertemplate": "<b>%{customdata[0]}</b><br>Family Name: %{customdata[1]}<br>Domain: %{customdata[2]}<br>Kingdom: %{customdata[3]}</b><br>Phylum: %{customdata[4]}<br>Class: %{customdata[5]}<br>Order: %{customdata[6]}<br>Family: %{customdata[7]}<br>Genus: %{customdata[8]}<br>Species: %{customdata[9]}<br>EC Number: %{customdata[10]}<br>Mol Weight: %{customdata[11]}<br>Taxonomy ID: %{customdata[12]}<extra></extra>",
         "marker": {
          "color": "rgb(71, 35, 115)",
          "size": 6,
          "symbol": "circle"
         },
         "mode": "markers",
         "text": "methionine adenosyltransferase",
         "type": "scatter3d",
         "x": [
          0.09276520205065772
         ],
         "y": [
          -0.012996138211819995
         ],
         "z": [
          -0.10105032335672735
         ]
        },
        {
         "customdata": [
          [
           "methionine adenosyltransferase",
           null,
           "Archaea",
           null,
           "Euryarchaeota",
           "Thermococci",
           "Thermococcales",
           "Thermococcaceae",
           "Thermococcus",
           "Thermococcus sp.",
           "2.5.1.6",
           44649,
           "35749",
           0.014099491096953043,
           0.009342577618780138,
           -0.0037271212012584816,
           -0.04414075098737802
          ]
         ],
         "hovertemplate": "<b>%{customdata[0]}</b><br>Family Name: %{customdata[1]}<br>Domain: %{customdata[2]}<br>Kingdom: %{customdata[3]}</b><br>Phylum: %{customdata[4]}<br>Class: %{customdata[5]}<br>Order: %{customdata[6]}<br>Family: %{customdata[7]}<br>Genus: %{customdata[8]}<br>Species: %{customdata[9]}<br>EC Number: %{customdata[10]}<br>Mol Weight: %{customdata[11]}<br>Taxonomy ID: %{customdata[12]}<extra></extra>",
         "marker": {
          "color": "rgb(71, 35, 115)",
          "size": 6,
          "symbol": "circle"
         },
         "mode": "markers",
         "text": "methionine adenosyltransferase",
         "type": "scatter3d",
         "x": [
          0.009342577618780138
         ],
         "y": [
          -0.0037271212012584816
         ],
         "z": [
          -0.04414075098737802
         ]
        },
        {
         "customdata": [
          [
           "methionine adenosyltransferase",
           null,
           "Archaea",
           null,
           "Euryarchaeota",
           "Thermococci",
           "Thermococcales",
           "Thermococcaceae",
           "Thermococcus",
           "Thermococcus sp.",
           "2.5.1.6",
           44585,
           "35749",
           0.0018131569954634222,
           0.11954466752382145,
           0.0401855295495056,
           -0.1350052497185134
          ]
         ],
         "hovertemplate": "<b>%{customdata[0]}</b><br>Family Name: %{customdata[1]}<br>Domain: %{customdata[2]}<br>Kingdom: %{customdata[3]}</b><br>Phylum: %{customdata[4]}<br>Class: %{customdata[5]}<br>Order: %{customdata[6]}<br>Family: %{customdata[7]}<br>Genus: %{customdata[8]}<br>Species: %{customdata[9]}<br>EC Number: %{customdata[10]}<br>Mol Weight: %{customdata[11]}<br>Taxonomy ID: %{customdata[12]}<extra></extra>",
         "marker": {
          "color": "rgb(71, 35, 115)",
          "size": 6,
          "symbol": "circle"
         },
         "mode": "markers",
         "text": "methionine adenosyltransferase",
         "type": "scatter3d",
         "x": [
          0.11954466752382145
         ],
         "y": [
          0.0401855295495056
         ],
         "z": [
          -0.1350052497185134
         ]
        },
        {
         "customdata": [
          [
           "methionine adenosyltransferase",
           null,
           "Archaea",
           null,
           "Euryarchaeota",
           "Thermococci",
           "Thermococcales",
           "Thermococcaceae",
           "Thermococcus",
           "Thermococcus nautili",
           "2.5.1.6",
           44562,
           "195522",
           0.012967939433539287,
           0.019233055098702483,
           -0.026157060740240178,
           -0.08687019118941015
          ]
         ],
         "hovertemplate": "<b>%{customdata[0]}</b><br>Family Name: %{customdata[1]}<br>Domain: %{customdata[2]}<br>Kingdom: %{customdata[3]}</b><br>Phylum: %{customdata[4]}<br>Class: %{customdata[5]}<br>Order: %{customdata[6]}<br>Family: %{customdata[7]}<br>Genus: %{customdata[8]}<br>Species: %{customdata[9]}<br>EC Number: %{customdata[10]}<br>Mol Weight: %{customdata[11]}<br>Taxonomy ID: %{customdata[12]}<extra></extra>",
         "marker": {
          "color": "rgb(31, 158, 137)",
          "size": 6,
          "symbol": "circle"
         },
         "mode": "markers",
         "text": "methionine adenosyltransferase",
         "type": "scatter3d",
         "x": [
          0.019233055098702483
         ],
         "y": [
          -0.026157060740240178
         ],
         "z": [
          -0.08687019118941015
         ]
        },
        {
         "customdata": [
          [
           "methionine adenosyltransferase",
           null,
           "Archaea",
           null,
           "Euryarchaeota",
           "Thermococci",
           "Thermococcales",
           "Thermococcaceae",
           "Thermococcus",
           "Thermococcus nautili",
           "2.5.1.6",
           44563,
           "195522",
           0.016626048164633637,
           -0.040774479665596074,
           -0.007933344745355396,
           -0.017470396966250253
          ]
         ],
         "hovertemplate": "<b>%{customdata[0]}</b><br>Family Name: %{customdata[1]}<br>Domain: %{customdata[2]}<br>Kingdom: %{customdata[3]}</b><br>Phylum: %{customdata[4]}<br>Class: %{customdata[5]}<br>Order: %{customdata[6]}<br>Family: %{customdata[7]}<br>Genus: %{customdata[8]}<br>Species: %{customdata[9]}<br>EC Number: %{customdata[10]}<br>Mol Weight: %{customdata[11]}<br>Taxonomy ID: %{customdata[12]}<extra></extra>",
         "marker": {
          "color": "rgb(31, 158, 137)",
          "size": 6,
          "symbol": "circle"
         },
         "mode": "markers",
         "text": "methionine adenosyltransferase",
         "type": "scatter3d",
         "x": [
          -0.040774479665596074
         ],
         "y": [
          -0.007933344745355396
         ],
         "z": [
          -0.017470396966250253
         ]
        },
        {
         "customdata": [
          [
           "methionine adenosyltransferase",
           null,
           "Archaea",
           null,
           "Euryarchaeota",
           "Thermococci",
           "Thermococcales",
           "Thermococcaceae",
           "Thermococcus",
           "Thermococcus henrietii",
           "2.5.1.6",
           44633,
           "2016361",
           0.021094819142758996,
           0.018488037498788717,
           -0.005989122854749506,
           -0.008590009899513298
          ]
         ],
         "hovertemplate": "<b>%{customdata[0]}</b><br>Family Name: %{customdata[1]}<br>Domain: %{customdata[2]}<br>Kingdom: %{customdata[3]}</b><br>Phylum: %{customdata[4]}<br>Class: %{customdata[5]}<br>Order: %{customdata[6]}<br>Family: %{customdata[7]}<br>Genus: %{customdata[8]}<br>Species: %{customdata[9]}<br>EC Number: %{customdata[10]}<br>Mol Weight: %{customdata[11]}<br>Taxonomy ID: %{customdata[12]}<extra></extra>",
         "marker": {
          "color": "rgb(39, 128, 142)",
          "size": 6,
          "symbol": "circle"
         },
         "mode": "markers",
         "text": "methionine adenosyltransferase",
         "type": "scatter3d",
         "x": [
          0.018488037498788717
         ],
         "y": [
          -0.005989122854749506
         ],
         "z": [
          -0.008590009899513298
         ]
        },
        {
         "customdata": [
          [
           "methionine adenosyltransferase",
           null,
           "Archaea",
           null,
           "Euryarchaeota",
           "Thermococci",
           "Thermococcales",
           "Thermococcaceae",
           "Thermococcus",
           "Thermococcus eurythermalis",
           "2.5.1.6",
           44466,
           "1505907",
           0.009341267729686856,
           -0.06150815802496022,
           0.047970870513529364,
           -0.021288301133858937
          ]
         ],
         "hovertemplate": "<b>%{customdata[0]}</b><br>Family Name: %{customdata[1]}<br>Domain: %{customdata[2]}<br>Kingdom: %{customdata[3]}</b><br>Phylum: %{customdata[4]}<br>Class: %{customdata[5]}<br>Order: %{customdata[6]}<br>Family: %{customdata[7]}<br>Genus: %{customdata[8]}<br>Species: %{customdata[9]}<br>EC Number: %{customdata[10]}<br>Mol Weight: %{customdata[11]}<br>Taxonomy ID: %{customdata[12]}<extra></extra>",
         "marker": {
          "color": "rgb(87, 197, 101)",
          "size": 6,
          "symbol": "circle"
         },
         "mode": "markers",
         "text": "methionine adenosyltransferase",
         "type": "scatter3d",
         "x": [
          -0.06150815802496022
         ],
         "y": [
          0.047970870513529364
         ],
         "z": [
          -0.021288301133858937
         ]
        },
        {
         "customdata": [
          [
           "methionine adenosyltransferase",
           null,
           "Archaea",
           null,
           "Euryarchaeota",
           "Thermococci",
           "Thermococcales",
           "Thermococcaceae",
           "Thermococcus",
           "Thermococcus sp. 21S9",
           "2.5.1.6",
           44591,
           "1638223",
           0.012241127451440627,
           -0.02341041247831846,
           0.035123877795800826,
           -0.07154556784720618
          ]
         ],
         "hovertemplate": "<b>%{customdata[0]}</b><br>Family Name: %{customdata[1]}<br>Domain: %{customdata[2]}<br>Kingdom: %{customdata[3]}</b><br>Phylum: %{customdata[4]}<br>Class: %{customdata[5]}<br>Order: %{customdata[6]}<br>Family: %{customdata[7]}<br>Genus: %{customdata[8]}<br>Species: %{customdata[9]}<br>EC Number: %{customdata[10]}<br>Mol Weight: %{customdata[11]}<br>Taxonomy ID: %{customdata[12]}<extra></extra>",
         "marker": {
          "color": "rgb(52, 96, 141)",
          "size": 6,
          "symbol": "circle"
         },
         "mode": "markers",
         "text": "methionine adenosyltransferase",
         "type": "scatter3d",
         "x": [
          -0.02341041247831846
         ],
         "y": [
          0.035123877795800826
         ],
         "z": [
          -0.07154556784720618
         ]
        },
        {
         "customdata": [
          [
           "methionine adenosyltransferase",
           null,
           "Archaea",
           null,
           "Euryarchaeota",
           "Thermococci",
           "Thermococcales",
           "Thermococcaceae",
           "Thermococcus",
           "Thermococcus guaymasensis",
           "2.5.1.6",
           44537,
           "110164",
           0.02414576540991789,
           -0.07834587317129825,
           0.0963779688071831,
           -0.0135964500819803
          ]
         ],
         "hovertemplate": "<b>%{customdata[0]}</b><br>Family Name: %{customdata[1]}<br>Domain: %{customdata[2]}<br>Kingdom: %{customdata[3]}</b><br>Phylum: %{customdata[4]}<br>Class: %{customdata[5]}<br>Order: %{customdata[6]}<br>Family: %{customdata[7]}<br>Genus: %{customdata[8]}<br>Species: %{customdata[9]}<br>EC Number: %{customdata[10]}<br>Mol Weight: %{customdata[11]}<br>Taxonomy ID: %{customdata[12]}<extra></extra>",
         "marker": {
          "color": "rgb(50, 101, 142)",
          "size": 6,
          "symbol": "circle"
         },
         "mode": "markers",
         "text": "methionine adenosyltransferase",
         "type": "scatter3d",
         "x": [
          -0.07834587317129825
         ],
         "y": [
          0.0963779688071831
         ],
         "z": [
          -0.0135964500819803
         ]
        },
        {
         "customdata": [
          [
           "methionine adenosyltransferase",
           null,
           "Archaea",
           null,
           "Euryarchaeota",
           "Thermococci",
           "Thermococcales",
           "Thermococcaceae",
           "Thermococcus",
           "Thermococcus sp. 9N3",
           "2.5.1.6",
           44578,
           "163002",
           0.012967939433539287,
           0.01858768756122355,
           -0.03527025905783244,
           -0.05914036420754995
          ]
         ],
         "hovertemplate": "<b>%{customdata[0]}</b><br>Family Name: %{customdata[1]}<br>Domain: %{customdata[2]}<br>Kingdom: %{customdata[3]}</b><br>Phylum: %{customdata[4]}<br>Class: %{customdata[5]}<br>Order: %{customdata[6]}<br>Family: %{customdata[7]}<br>Genus: %{customdata[8]}<br>Species: %{customdata[9]}<br>EC Number: %{customdata[10]}<br>Mol Weight: %{customdata[11]}<br>Taxonomy ID: %{customdata[12]}<extra></extra>",
         "marker": {
          "color": "rgb(61, 76, 138)",
          "size": 6,
          "symbol": "circle"
         },
         "mode": "markers",
         "text": "methionine adenosyltransferase",
         "type": "scatter3d",
         "x": [
          0.01858768756122355
         ],
         "y": [
          -0.03527025905783244
         ],
         "z": [
          -0.05914036420754995
         ]
        },
        {
         "customdata": [
          [
           "methionine adenosyltransferase",
           null,
           "Archaea",
           null,
           "Euryarchaeota",
           "Thermococci",
           "Thermococcales",
           "Thermococcaceae",
           "Thermococcus",
           "Thermococcus gorgonarius",
           "2.5.1.6",
           44702,
           "71997",
           0.0018116801055903721,
           0.04579282064582979,
           0.165261459209646,
           -0.0943079751331388
          ]
         ],
         "hovertemplate": "<b>%{customdata[0]}</b><br>Family Name: %{customdata[1]}<br>Domain: %{customdata[2]}<br>Kingdom: %{customdata[3]}</b><br>Phylum: %{customdata[4]}<br>Class: %{customdata[5]}<br>Order: %{customdata[6]}<br>Family: %{customdata[7]}<br>Genus: %{customdata[8]}<br>Species: %{customdata[9]}<br>EC Number: %{customdata[10]}<br>Mol Weight: %{customdata[11]}<br>Taxonomy ID: %{customdata[12]}<extra></extra>",
         "marker": {
          "color": "rgb(66, 60, 130)",
          "size": 6,
          "symbol": "circle"
         },
         "mode": "markers",
         "text": "methionine adenosyltransferase",
         "type": "scatter3d",
         "x": [
          0.04579282064582979
         ],
         "y": [
          0.165261459209646
         ],
         "z": [
          -0.0943079751331388
         ]
        },
        {
         "customdata": [
          [
           "methionine adenosyltransferase",
           null,
           "Archaea",
           null,
           "Euryarchaeota",
           "Thermococci",
           "Thermococcales",
           "Thermococcaceae",
           "Thermococcus",
           "Thermococcus sp.",
           "2.5.1.6",
           null,
           "35749",
           0.008485500206465574,
           0.11650442561307123,
           0.1347055390036409,
           -0.09007260213331533
          ]
         ],
         "hovertemplate": "<b>%{customdata[0]}</b><br>Family Name: %{customdata[1]}<br>Domain: %{customdata[2]}<br>Kingdom: %{customdata[3]}</b><br>Phylum: %{customdata[4]}<br>Class: %{customdata[5]}<br>Order: %{customdata[6]}<br>Family: %{customdata[7]}<br>Genus: %{customdata[8]}<br>Species: %{customdata[9]}<br>EC Number: %{customdata[10]}<br>Mol Weight: %{customdata[11]}<br>Taxonomy ID: %{customdata[12]}<extra></extra>",
         "marker": {
          "color": "rgb(71, 35, 115)",
          "size": 6,
          "symbol": "circle"
         },
         "mode": "markers",
         "text": "methionine adenosyltransferase",
         "type": "scatter3d",
         "x": [
          0.11650442561307123
         ],
         "y": [
          0.1347055390036409
         ],
         "z": [
          -0.09007260213331533
         ]
        },
        {
         "customdata": [
          [
           "S-adenosylmethionine synthetase",
           null,
           "Archaea",
           null,
           "Euryarchaeota",
           "Thermococci",
           "Thermococcales",
           "Thermococcaceae",
           null,
           "Thermococcaceae archaeon",
           null,
           null,
           "2666349",
           0.0018714367910576445,
           0.08333647510770285,
           0.0055090970058134184,
           0.026528247275395888
          ]
         ],
         "hovertemplate": "<b>%{customdata[0]}</b><br>Family Name: %{customdata[1]}<br>Domain: %{customdata[2]}<br>Kingdom: %{customdata[3]}</b><br>Phylum: %{customdata[4]}<br>Class: %{customdata[5]}<br>Order: %{customdata[6]}<br>Family: %{customdata[7]}<br>Genus: %{customdata[8]}<br>Species: %{customdata[9]}<br>EC Number: %{customdata[10]}<br>Mol Weight: %{customdata[11]}<br>Taxonomy ID: %{customdata[12]}<extra></extra>",
         "marker": {
          "color": "rgb(64, 67, 134)",
          "size": 6,
          "symbol": "circle"
         },
         "mode": "markers",
         "text": "S-adenosylmethionine synthetase",
         "type": "scatter3d",
         "x": [
          0.08333647510770285
         ],
         "y": [
          0.0055090970058134184
         ],
         "z": [
          0.026528247275395888
         ]
        },
        {
         "customdata": [
          [
           "methionine adenosyltransferase",
           null,
           "Archaea",
           null,
           "Euryarchaeota",
           "Thermococci",
           "Thermococcales",
           "Thermococcaceae",
           "Thermococcus",
           "Thermococcus pacificus",
           "2.5.1.6",
           44798,
           "71998",
           0.002188536056022286,
           0.01914611301276409,
           0.1664002547098803,
           0.020006607625778643
          ]
         ],
         "hovertemplate": "<b>%{customdata[0]}</b><br>Family Name: %{customdata[1]}<br>Domain: %{customdata[2]}<br>Kingdom: %{customdata[3]}</b><br>Phylum: %{customdata[4]}<br>Class: %{customdata[5]}<br>Order: %{customdata[6]}<br>Family: %{customdata[7]}<br>Genus: %{customdata[8]}<br>Species: %{customdata[9]}<br>EC Number: %{customdata[10]}<br>Mol Weight: %{customdata[11]}<br>Taxonomy ID: %{customdata[12]}<extra></extra>",
         "marker": {
          "color": "rgb(118, 208, 83)",
          "size": 6,
          "symbol": "circle"
         },
         "mode": "markers",
         "text": "methionine adenosyltransferase",
         "type": "scatter3d",
         "x": [
          0.01914611301276409
         ],
         "y": [
          0.1664002547098803
         ],
         "z": [
          0.020006607625778643
         ]
        },
        {
         "customdata": [
          [
           "methionine adenosyltransferase",
           null,
           "Archaea",
           null,
           "Euryarchaeota",
           "Thermococci",
           "Thermococcales",
           "Thermococcaceae",
           "Thermococcus",
           "Thermococcus zilligii",
           "2.5.1.6",
           44712,
           "54076",
           0.002288532532304379,
           0.0906264430064034,
           0.026526071974626413,
           -0.16523157897224366
          ]
         ],
         "hovertemplate": "<b>%{customdata[0]}</b><br>Family Name: %{customdata[1]}<br>Domain: %{customdata[2]}<br>Kingdom: %{customdata[3]}</b><br>Phylum: %{customdata[4]}<br>Class: %{customdata[5]}<br>Order: %{customdata[6]}<br>Family: %{customdata[7]}<br>Genus: %{customdata[8]}<br>Species: %{customdata[9]}<br>EC Number: %{customdata[10]}<br>Mol Weight: %{customdata[11]}<br>Taxonomy ID: %{customdata[12]}<extra></extra>",
         "marker": {
          "color": "rgb(44, 115, 142)",
          "size": 6,
          "symbol": "circle"
         },
         "mode": "markers",
         "text": "methionine adenosyltransferase",
         "type": "scatter3d",
         "x": [
          0.0906264430064034
         ],
         "y": [
          0.026526071974626413
         ],
         "z": [
          -0.16523157897224366
         ]
        },
        {
         "customdata": [
          [
           "methionine adenosyltransferase",
           null,
           "Archaea",
           null,
           "Euryarchaeota",
           "Thermococci",
           "Thermococcales",
           "Thermococcaceae",
           "Thermococcus",
           "Thermococcus siculi",
           "2.5.1.6",
           44710,
           "72803",
           0.006761543423385524,
           0.0976792777170093,
           0.03267587122657714,
           0.027021676261187417
          ]
         ],
         "hovertemplate": "<b>%{customdata[0]}</b><br>Family Name: %{customdata[1]}<br>Domain: %{customdata[2]}<br>Kingdom: %{customdata[3]}</b><br>Phylum: %{customdata[4]}<br>Class: %{customdata[5]}<br>Order: %{customdata[6]}<br>Family: %{customdata[7]}<br>Genus: %{customdata[8]}<br>Species: %{customdata[9]}<br>EC Number: %{customdata[10]}<br>Mol Weight: %{customdata[11]}<br>Taxonomy ID: %{customdata[12]}<extra></extra>",
         "marker": {
          "color": "rgb(69, 15, 97)",
          "size": 6,
          "symbol": "circle"
         },
         "mode": "markers",
         "text": "methionine adenosyltransferase",
         "type": "scatter3d",
         "x": [
          0.0976792777170093
         ],
         "y": [
          0.03267587122657714
         ],
         "z": [
          0.027021676261187417
         ]
        },
        {
         "customdata": [
          [
           "methionine adenosyltransferase",
           null,
           "Archaea",
           null,
           "Euryarchaeota",
           "Thermococci",
           "Thermococcales",
           "Thermococcaceae",
           "Thermococcus",
           "Thermococcus sp.",
           "2.5.1.6",
           44662,
           "35749",
           0.0021025634520356906,
           0.07894977420519853,
           0.05008990650581212,
           -0.14299349524142813
          ]
         ],
         "hovertemplate": "<b>%{customdata[0]}</b><br>Family Name: %{customdata[1]}<br>Domain: %{customdata[2]}<br>Kingdom: %{customdata[3]}</b><br>Phylum: %{customdata[4]}<br>Class: %{customdata[5]}<br>Order: %{customdata[6]}<br>Family: %{customdata[7]}<br>Genus: %{customdata[8]}<br>Species: %{customdata[9]}<br>EC Number: %{customdata[10]}<br>Mol Weight: %{customdata[11]}<br>Taxonomy ID: %{customdata[12]}<extra></extra>",
         "marker": {
          "color": "rgb(71, 35, 115)",
          "size": 6,
          "symbol": "circle"
         },
         "mode": "markers",
         "text": "methionine adenosyltransferase",
         "type": "scatter3d",
         "x": [
          0.07894977420519853
         ],
         "y": [
          0.05008990650581212
         ],
         "z": [
          -0.14299349524142813
         ]
        },
        {
         "customdata": [
          [
           "methionine adenosyltransferase",
           null,
           "Archaea",
           null,
           "Euryarchaeota",
           "Thermococci",
           "Thermococcales",
           "Thermococcaceae",
           "Thermococcus",
           "Thermococcus waiotapuensis",
           "2.5.1.6",
           44736,
           "90909",
           0.0030267723482420342,
           0.09180301427949843,
           0.20524509935287313,
           -0.0756806198356772
          ]
         ],
         "hovertemplate": "<b>%{customdata[0]}</b><br>Family Name: %{customdata[1]}<br>Domain: %{customdata[2]}<br>Kingdom: %{customdata[3]}</b><br>Phylum: %{customdata[4]}<br>Class: %{customdata[5]}<br>Order: %{customdata[6]}<br>Family: %{customdata[7]}<br>Genus: %{customdata[8]}<br>Species: %{customdata[9]}<br>EC Number: %{customdata[10]}<br>Mol Weight: %{customdata[11]}<br>Taxonomy ID: %{customdata[12]}<extra></extra>",
         "marker": {
          "color": "rgb(71, 26, 108)",
          "size": 6,
          "symbol": "circle"
         },
         "mode": "markers",
         "text": "methionine adenosyltransferase",
         "type": "scatter3d",
         "x": [
          0.09180301427949843
         ],
         "y": [
          0.20524509935287313
         ],
         "z": [
          -0.0756806198356772
         ]
        },
        {
         "customdata": [
          [
           "methionine adenosyltransferase",
           null,
           "Archaea",
           null,
           "Euryarchaeota",
           "Thermococci",
           "Thermococcales",
           "Thermococcaceae",
           "Thermococcus",
           "Thermococcus gammatolerans",
           "2.5.1.6",
           44398,
           "187878",
           0.02686874632927652,
           -0.020562746198511044,
           -0.008939075321130776,
           0.007995188653836015
          ]
         ],
         "hovertemplate": "<b>%{customdata[0]}</b><br>Family Name: %{customdata[1]}<br>Domain: %{customdata[2]}<br>Kingdom: %{customdata[3]}</b><br>Phylum: %{customdata[4]}<br>Class: %{customdata[5]}<br>Order: %{customdata[6]}<br>Family: %{customdata[7]}<br>Genus: %{customdata[8]}<br>Species: %{customdata[9]}<br>EC Number: %{customdata[10]}<br>Mol Weight: %{customdata[11]}<br>Taxonomy ID: %{customdata[12]}<extra></extra>",
         "marker": {
          "color": "rgb(68, 53, 126)",
          "size": 6,
          "symbol": "circle"
         },
         "mode": "markers",
         "text": "methionine adenosyltransferase",
         "type": "scatter3d",
         "x": [
          -0.020562746198511044
         ],
         "y": [
          -0.008939075321130776
         ],
         "z": [
          0.007995188653836015
         ]
        },
        {
         "customdata": [
          [
           "methionine adenosyltransferase",
           null,
           "Archaea",
           null,
           "Euryarchaeota",
           "Thermococci",
           "Thermococcales",
           "Thermococcaceae",
           "Thermococcus",
           "Thermococcus sp. AM4",
           "2.5.1.6",
           44439,
           "246969",
           0.0037655377835518738,
           0.10111138507810037,
           0.1583033062882394,
           -0.108659774271082
          ]
         ],
         "hovertemplate": "<b>%{customdata[0]}</b><br>Family Name: %{customdata[1]}<br>Domain: %{customdata[2]}<br>Kingdom: %{customdata[3]}</b><br>Phylum: %{customdata[4]}<br>Class: %{customdata[5]}<br>Order: %{customdata[6]}<br>Family: %{customdata[7]}<br>Genus: %{customdata[8]}<br>Species: %{customdata[9]}<br>EC Number: %{customdata[10]}<br>Mol Weight: %{customdata[11]}<br>Taxonomy ID: %{customdata[12]}<extra></extra>",
         "marker": {
          "color": "rgb(227, 228, 39)",
          "size": 6,
          "symbol": "circle"
         },
         "mode": "markers",
         "text": "methionine adenosyltransferase",
         "type": "scatter3d",
         "x": [
          0.10111138507810037
         ],
         "y": [
          0.1583033062882394
         ],
         "z": [
          -0.108659774271082
         ]
        },
        {
         "customdata": [
          [
           "methionine adenosyltransferase",
           null,
           "Archaea",
           null,
           "Euryarchaeota",
           "Thermococci",
           "Thermococcales",
           "Thermococcaceae",
           null,
           "Thermococcus",
           "2.5.1.6",
           44607,
           "2263",
           0.004837930237814892,
           0.008770891622001101,
           0.03089244790711448,
           0.04147233540801598
          ]
         ],
         "hovertemplate": "<b>%{customdata[0]}</b><br>Family Name: %{customdata[1]}<br>Domain: %{customdata[2]}<br>Kingdom: %{customdata[3]}</b><br>Phylum: %{customdata[4]}<br>Class: %{customdata[5]}<br>Order: %{customdata[6]}<br>Family: %{customdata[7]}<br>Genus: %{customdata[8]}<br>Species: %{customdata[9]}<br>EC Number: %{customdata[10]}<br>Mol Weight: %{customdata[11]}<br>Taxonomy ID: %{customdata[12]}<extra></extra>",
         "marker": {
          "color": "rgb(60, 78, 138)",
          "size": 6,
          "symbol": "circle"
         },
         "mode": "markers",
         "text": "methionine adenosyltransferase",
         "type": "scatter3d",
         "x": [
          0.008770891622001101
         ],
         "y": [
          0.03089244790711448
         ],
         "z": [
          0.04147233540801598
         ]
        },
        {
         "customdata": [
          [
           "methionine adenosyltransferase",
           null,
           "Archaea",
           null,
           "Euryarchaeota",
           "Thermococci",
           "Thermococcales",
           "Thermococcaceae",
           "Thermococcus",
           "Thermococcus sp.",
           "2.5.1.6",
           null,
           "35749",
           0.00024364351073302853,
           0.09423905888264995,
           0.08908077787637413,
           0.03576234679721769
          ]
         ],
         "hovertemplate": "<b>%{customdata[0]}</b><br>Family Name: %{customdata[1]}<br>Domain: %{customdata[2]}<br>Kingdom: %{customdata[3]}</b><br>Phylum: %{customdata[4]}<br>Class: %{customdata[5]}<br>Order: %{customdata[6]}<br>Family: %{customdata[7]}<br>Genus: %{customdata[8]}<br>Species: %{customdata[9]}<br>EC Number: %{customdata[10]}<br>Mol Weight: %{customdata[11]}<br>Taxonomy ID: %{customdata[12]}<extra></extra>",
         "marker": {
          "color": "rgb(71, 35, 115)",
          "size": 6,
          "symbol": "circle"
         },
         "mode": "markers",
         "text": "methionine adenosyltransferase",
         "type": "scatter3d",
         "x": [
          0.09423905888264995
         ],
         "y": [
          0.08908077787637413
         ],
         "z": [
          0.03576234679721769
         ]
        },
        {
         "customdata": [
          [
           "methionine adenosyltransferase",
           null,
           "Archaea",
           null,
           "Euryarchaeota",
           "Thermococci",
           "Thermococcales",
           "Thermococcaceae",
           "Thermococcus",
           "Thermococcus sp.",
           "2.5.1.6",
           44687,
           "35749",
           0.0000960611891867396,
           -0.003306795164744513,
           0.13843378258226832,
           -0.05628452393494489
          ]
         ],
         "hovertemplate": "<b>%{customdata[0]}</b><br>Family Name: %{customdata[1]}<br>Domain: %{customdata[2]}<br>Kingdom: %{customdata[3]}</b><br>Phylum: %{customdata[4]}<br>Class: %{customdata[5]}<br>Order: %{customdata[6]}<br>Family: %{customdata[7]}<br>Genus: %{customdata[8]}<br>Species: %{customdata[9]}<br>EC Number: %{customdata[10]}<br>Mol Weight: %{customdata[11]}<br>Taxonomy ID: %{customdata[12]}<extra></extra>",
         "marker": {
          "color": "rgb(71, 35, 115)",
          "size": 6,
          "symbol": "circle"
         },
         "mode": "markers",
         "text": "methionine adenosyltransferase",
         "type": "scatter3d",
         "x": [
          -0.003306795164744513
         ],
         "y": [
          0.13843378258226832
         ],
         "z": [
          -0.05628452393494489
         ]
        },
        {
         "customdata": [
          [
           "methionine adenosyltransferase",
           null,
           "Archaea",
           null,
           "Euryarchaeota",
           "Thermococci",
           "Thermococcales",
           "Thermococcaceae",
           "Thermococcus",
           "Thermococcus sp. M36",
           "2.5.1.6",
           44626,
           "1638261",
           0.0006483746635405684,
           -0.023423219231528417,
           0.16984807291753373,
           0.0022761927366514844
          ]
         ],
         "hovertemplate": "<b>%{customdata[0]}</b><br>Family Name: %{customdata[1]}<br>Domain: %{customdata[2]}<br>Kingdom: %{customdata[3]}</b><br>Phylum: %{customdata[4]}<br>Class: %{customdata[5]}<br>Order: %{customdata[6]}<br>Family: %{customdata[7]}<br>Genus: %{customdata[8]}<br>Species: %{customdata[9]}<br>EC Number: %{customdata[10]}<br>Mol Weight: %{customdata[11]}<br>Taxonomy ID: %{customdata[12]}<extra></extra>",
         "marker": {
          "color": "rgb(96, 200, 96)",
          "size": 6,
          "symbol": "circle"
         },
         "mode": "markers",
         "text": "methionine adenosyltransferase",
         "type": "scatter3d",
         "x": [
          -0.023423219231528417
         ],
         "y": [
          0.16984807291753373
         ],
         "z": [
          0.0022761927366514844
         ]
        },
        {
         "customdata": [
          [
           "methionine adenosyltransferase",
           null,
           "Archaea",
           null,
           "Euryarchaeota",
           "Thermococci",
           "Thermococcales",
           "Thermococcaceae",
           "Thermococcus",
           "Thermococcus sp.",
           "2.5.1.6",
           44646,
           "35749",
           0.00010199830236366332,
           -0.053114827159432616,
           0.11086825982109427,
           -0.04664533725173082
          ]
         ],
         "hovertemplate": "<b>%{customdata[0]}</b><br>Family Name: %{customdata[1]}<br>Domain: %{customdata[2]}<br>Kingdom: %{customdata[3]}</b><br>Phylum: %{customdata[4]}<br>Class: %{customdata[5]}<br>Order: %{customdata[6]}<br>Family: %{customdata[7]}<br>Genus: %{customdata[8]}<br>Species: %{customdata[9]}<br>EC Number: %{customdata[10]}<br>Mol Weight: %{customdata[11]}<br>Taxonomy ID: %{customdata[12]}<extra></extra>",
         "marker": {
          "color": "rgb(71, 35, 115)",
          "size": 6,
          "symbol": "circle"
         },
         "mode": "markers",
         "text": "methionine adenosyltransferase",
         "type": "scatter3d",
         "x": [
          -0.053114827159432616
         ],
         "y": [
          0.11086825982109427
         ],
         "z": [
          -0.04664533725173082
         ]
        },
        {
         "customdata": [
          [
           "methionine adenosyltransferase",
           null,
           "Archaea",
           null,
           "Euryarchaeota",
           "Thermococci",
           "Thermococcales",
           "Thermococcaceae",
           "Thermococcus",
           "Thermococcus profundus",
           "2.5.1.6",
           44704,
           "49899",
           0.001124223121454032,
           0.029167887562118466,
           0.19308507295078264,
           -0.04309451894813263
          ]
         ],
         "hovertemplate": "<b>%{customdata[0]}</b><br>Family Name: %{customdata[1]}<br>Domain: %{customdata[2]}<br>Kingdom: %{customdata[3]}</b><br>Phylum: %{customdata[4]}<br>Class: %{customdata[5]}<br>Order: %{customdata[6]}<br>Family: %{customdata[7]}<br>Genus: %{customdata[8]}<br>Species: %{customdata[9]}<br>EC Number: %{customdata[10]}<br>Mol Weight: %{customdata[11]}<br>Taxonomy ID: %{customdata[12]}<extra></extra>",
         "marker": {
          "color": "rgb(71, 190, 111)",
          "size": 6,
          "symbol": "circle"
         },
         "mode": "markers",
         "text": "methionine adenosyltransferase",
         "type": "scatter3d",
         "x": [
          0.029167887562118466
         ],
         "y": [
          0.19308507295078264
         ],
         "z": [
          -0.04309451894813263
         ]
        },
        {
         "customdata": [
          [
           "methionine adenosyltransferase",
           null,
           "Archaea",
           null,
           "Euryarchaeota",
           "Thermococci",
           "Thermococcales",
           "Thermococcaceae",
           "Thermococcus",
           "Thermococcus sp.",
           "2.5.1.6",
           null,
           "35749",
           0.010815404050706853,
           0.10130942569090069,
           -0.01574713550048033,
           -0.07142399076404107
          ]
         ],
         "hovertemplate": "<b>%{customdata[0]}</b><br>Family Name: %{customdata[1]}<br>Domain: %{customdata[2]}<br>Kingdom: %{customdata[3]}</b><br>Phylum: %{customdata[4]}<br>Class: %{customdata[5]}<br>Order: %{customdata[6]}<br>Family: %{customdata[7]}<br>Genus: %{customdata[8]}<br>Species: %{customdata[9]}<br>EC Number: %{customdata[10]}<br>Mol Weight: %{customdata[11]}<br>Taxonomy ID: %{customdata[12]}<extra></extra>",
         "marker": {
          "color": "rgb(71, 35, 115)",
          "size": 6,
          "symbol": "circle"
         },
         "mode": "markers",
         "text": "methionine adenosyltransferase",
         "type": "scatter3d",
         "x": [
          0.10130942569090069
         ],
         "y": [
          -0.01574713550048033
         ],
         "z": [
          -0.07142399076404107
         ]
        },
        {
         "customdata": [
          [
           "methionine adenosyltransferase",
           null,
           "Archaea",
           null,
           "Euryarchaeota",
           "Thermococci",
           "Thermococcales",
           "Thermococcaceae",
           "Thermococcus",
           "Thermococcus sp. ES12",
           "2.5.1.6",
           44646,
           "1638246",
           0.005200795027576314,
           0.04409761465125064,
           0.07157793796008612,
           0.05171848225925197
          ]
         ],
         "hovertemplate": "<b>%{customdata[0]}</b><br>Family Name: %{customdata[1]}<br>Domain: %{customdata[2]}<br>Kingdom: %{customdata[3]}</b><br>Phylum: %{customdata[4]}<br>Class: %{customdata[5]}<br>Order: %{customdata[6]}<br>Family: %{customdata[7]}<br>Genus: %{customdata[8]}<br>Species: %{customdata[9]}<br>EC Number: %{customdata[10]}<br>Mol Weight: %{customdata[11]}<br>Taxonomy ID: %{customdata[12]}<extra></extra>",
         "marker": {
          "color": "rgb(128, 210, 76)",
          "size": 6,
          "symbol": "circle"
         },
         "mode": "markers",
         "text": "methionine adenosyltransferase",
         "type": "scatter3d",
         "x": [
          0.04409761465125064
         ],
         "y": [
          0.07157793796008612
         ],
         "z": [
          0.05171848225925197
         ]
        },
        {
         "customdata": [
          [
           "methionine adenosyltransferase",
           null,
           "Archaea",
           null,
           "Euryarchaeota",
           "Thermococci",
           "Thermococcales",
           "Thermococcaceae",
           "Thermococcus",
           "Thermococcus barossii",
           "2.5.1.6",
           44618,
           "54077",
           0.0011344710471907628,
           0.004277513344765636,
           0.06968468290505198,
           -0.1494090550922961
          ]
         ],
         "hovertemplate": "<b>%{customdata[0]}</b><br>Family Name: %{customdata[1]}<br>Domain: %{customdata[2]}<br>Kingdom: %{customdata[3]}</b><br>Phylum: %{customdata[4]}<br>Class: %{customdata[5]}<br>Order: %{customdata[6]}<br>Family: %{customdata[7]}<br>Genus: %{customdata[8]}<br>Species: %{customdata[9]}<br>EC Number: %{customdata[10]}<br>Mol Weight: %{customdata[11]}<br>Taxonomy ID: %{customdata[12]}<extra></extra>",
         "marker": {
          "color": "rgb(196, 224, 42)",
          "size": 6,
          "symbol": "circle"
         },
         "mode": "markers",
         "text": "methionine adenosyltransferase",
         "type": "scatter3d",
         "x": [
          0.004277513344765636
         ],
         "y": [
          0.06968468290505198
         ],
         "z": [
          -0.1494090550922961
         ]
        },
        {
         "customdata": [
          [
           "methionine adenosyltransferase",
           null,
           "Archaea",
           null,
           "Euryarchaeota",
           "Thermococci",
           "Thermococcales",
           "Thermococcaceae",
           "Thermococcus",
           "Thermococcus sp.",
           "2.5.1.6",
           44663,
           "35749",
           0.0006905749041567833,
           0.0015614795184402954,
           0.06173532497510061,
           -0.02662566020249377
          ]
         ],
         "hovertemplate": "<b>%{customdata[0]}</b><br>Family Name: %{customdata[1]}<br>Domain: %{customdata[2]}<br>Kingdom: %{customdata[3]}</b><br>Phylum: %{customdata[4]}<br>Class: %{customdata[5]}<br>Order: %{customdata[6]}<br>Family: %{customdata[7]}<br>Genus: %{customdata[8]}<br>Species: %{customdata[9]}<br>EC Number: %{customdata[10]}<br>Mol Weight: %{customdata[11]}<br>Taxonomy ID: %{customdata[12]}<extra></extra>",
         "marker": {
          "color": "rgb(71, 35, 115)",
          "size": 6,
          "symbol": "circle"
         },
         "mode": "markers",
         "text": "methionine adenosyltransferase",
         "type": "scatter3d",
         "x": [
          0.0015614795184402954
         ],
         "y": [
          0.06173532497510061
         ],
         "z": [
          -0.02662566020249377
         ]
        },
        {
         "customdata": [
          [
           "methionine adenosyltransferase",
           null,
           "Archaea",
           null,
           "Euryarchaeota",
           "Thermococci",
           "Thermococcales",
           "Thermococcaceae",
           "Thermococcus",
           "Thermococcus sp.",
           "2.5.1.6",
           44723,
           "35749",
           0.000573801707017399,
           -0.0411723001703598,
           0.08168651078055283,
           0.04278627204156441
          ]
         ],
         "hovertemplate": "<b>%{customdata[0]}</b><br>Family Name: %{customdata[1]}<br>Domain: %{customdata[2]}<br>Kingdom: %{customdata[3]}</b><br>Phylum: %{customdata[4]}<br>Class: %{customdata[5]}<br>Order: %{customdata[6]}<br>Family: %{customdata[7]}<br>Genus: %{customdata[8]}<br>Species: %{customdata[9]}<br>EC Number: %{customdata[10]}<br>Mol Weight: %{customdata[11]}<br>Taxonomy ID: %{customdata[12]}<extra></extra>",
         "marker": {
          "color": "rgb(71, 35, 115)",
          "size": 6,
          "symbol": "circle"
         },
         "mode": "markers",
         "text": "methionine adenosyltransferase",
         "type": "scatter3d",
         "x": [
          -0.0411723001703598
         ],
         "y": [
          0.08168651078055283
         ],
         "z": [
          0.04278627204156441
         ]
        },
        {
         "customdata": [
          [
           "methionine adenosyltransferase",
           null,
           "Archaea",
           null,
           "Euryarchaeota",
           "Thermococci",
           "Thermococcales",
           "Thermococcaceae",
           "Thermococcus",
           "Thermococcus radiotolerans",
           "2.5.1.6",
           44678,
           "187880",
           0.005064005911318683,
           0.15547575785393397,
           0.06286905784157075,
           -0.021956135043651917
          ]
         ],
         "hovertemplate": "<b>%{customdata[0]}</b><br>Family Name: %{customdata[1]}<br>Domain: %{customdata[2]}<br>Kingdom: %{customdata[3]}</b><br>Phylum: %{customdata[4]}<br>Class: %{customdata[5]}<br>Order: %{customdata[6]}<br>Family: %{customdata[7]}<br>Genus: %{customdata[8]}<br>Species: %{customdata[9]}<br>EC Number: %{customdata[10]}<br>Mol Weight: %{customdata[11]}<br>Taxonomy ID: %{customdata[12]}<extra></extra>",
         "marker": {
          "color": "rgb(180, 222, 44)",
          "size": 6,
          "symbol": "circle"
         },
         "mode": "markers",
         "text": "methionine adenosyltransferase",
         "type": "scatter3d",
         "x": [
          0.15547575785393397
         ],
         "y": [
          0.06286905784157075
         ],
         "z": [
          -0.021956135043651917
         ]
        },
        {
         "customdata": [
          [
           "methionine adenosyltransferase",
           null,
           "Archaea",
           null,
           "Euryarchaeota",
           "Thermococci",
           "Thermococcales",
           "Thermococcaceae",
           "Thermococcus",
           "Thermococcus sp. 21S7",
           "2.5.1.6",
           44499,
           "1638221",
           0.0008176031831853268,
           0.09495510948610465,
           0.13777828674353682,
           -0.03209446645477222
          ]
         ],
         "hovertemplate": "<b>%{customdata[0]}</b><br>Family Name: %{customdata[1]}<br>Domain: %{customdata[2]}<br>Kingdom: %{customdata[3]}</b><br>Phylum: %{customdata[4]}<br>Class: %{customdata[5]}<br>Order: %{customdata[6]}<br>Family: %{customdata[7]}<br>Genus: %{customdata[8]}<br>Species: %{customdata[9]}<br>EC Number: %{customdata[10]}<br>Mol Weight: %{customdata[11]}<br>Taxonomy ID: %{customdata[12]}<extra></extra>",
         "marker": {
          "color": "rgb(190, 223, 42)",
          "size": 6,
          "symbol": "circle"
         },
         "mode": "markers",
         "text": "methionine adenosyltransferase",
         "type": "scatter3d",
         "x": [
          0.09495510948610465
         ],
         "y": [
          0.13777828674353682
         ],
         "z": [
          -0.03209446645477222
         ]
        },
        {
         "customdata": [
          [
           "methionine adenosyltransferase",
           null,
           "Archaea",
           null,
           "Euryarchaeota",
           "Thermococci",
           "Thermococcales",
           "Thermococcaceae",
           "Thermococcus",
           "Thermococcus sp.",
           "2.5.1.6",
           44568,
           "35749",
           0.0006848612559238511,
           -0.03314709703438222,
           0.11278878913014183,
           -0.09080000116112893
          ]
         ],
         "hovertemplate": "<b>%{customdata[0]}</b><br>Family Name: %{customdata[1]}<br>Domain: %{customdata[2]}<br>Kingdom: %{customdata[3]}</b><br>Phylum: %{customdata[4]}<br>Class: %{customdata[5]}<br>Order: %{customdata[6]}<br>Family: %{customdata[7]}<br>Genus: %{customdata[8]}<br>Species: %{customdata[9]}<br>EC Number: %{customdata[10]}<br>Mol Weight: %{customdata[11]}<br>Taxonomy ID: %{customdata[12]}<extra></extra>",
         "marker": {
          "color": "rgb(71, 35, 115)",
          "size": 6,
          "symbol": "circle"
         },
         "mode": "markers",
         "text": "methionine adenosyltransferase",
         "type": "scatter3d",
         "x": [
          -0.03314709703438222
         ],
         "y": [
          0.11278878913014183
         ],
         "z": [
          -0.09080000116112893
         ]
        },
        {
         "customdata": [
          [
           "methionine adenosyltransferase",
           null,
           "Archaea",
           null,
           "Euryarchaeota",
           "Thermococci",
           "Thermococcales",
           "Thermococcaceae",
           "Thermococcus",
           "Thermococcus sp. MAR1",
           "2.5.1.6",
           44598,
           "1638263",
           0.001633277023535107,
           0.003607384958594016,
           0.11021422736302156,
           -0.1482850456923047
          ]
         ],
         "hovertemplate": "<b>%{customdata[0]}</b><br>Family Name: %{customdata[1]}<br>Domain: %{customdata[2]}<br>Kingdom: %{customdata[3]}</b><br>Phylum: %{customdata[4]}<br>Class: %{customdata[5]}<br>Order: %{customdata[6]}<br>Family: %{customdata[7]}<br>Genus: %{customdata[8]}<br>Species: %{customdata[9]}<br>EC Number: %{customdata[10]}<br>Mol Weight: %{customdata[11]}<br>Taxonomy ID: %{customdata[12]}<extra></extra>",
         "marker": {
          "color": "rgb(37, 134, 141)",
          "size": 6,
          "symbol": "circle"
         },
         "mode": "markers",
         "text": "methionine adenosyltransferase",
         "type": "scatter3d",
         "x": [
          0.003607384958594016
         ],
         "y": [
          0.11021422736302156
         ],
         "z": [
          -0.1482850456923047
         ]
        },
        {
         "customdata": [
          [
           "methionine adenosyltransferase",
           null,
           "Archaea",
           null,
           "Euryarchaeota",
           "Thermococci",
           "Thermococcales",
           "Thermococcaceae",
           "Thermococcus",
           "Thermococcus sp. 5-4",
           "2.5.1.6",
           44634,
           "2008440",
           0.0033133322670607346,
           -0.0036300299023544562,
           0.1278344825419065,
           0.024397682669595355
          ]
         ],
         "hovertemplate": "<b>%{customdata[0]}</b><br>Family Name: %{customdata[1]}<br>Domain: %{customdata[2]}<br>Kingdom: %{customdata[3]}</b><br>Phylum: %{customdata[4]}<br>Class: %{customdata[5]}<br>Order: %{customdata[6]}<br>Family: %{customdata[7]}<br>Genus: %{customdata[8]}<br>Species: %{customdata[9]}<br>EC Number: %{customdata[10]}<br>Mol Weight: %{customdata[11]}<br>Taxonomy ID: %{customdata[12]}<extra></extra>",
         "marker": {
          "color": "rgb(41, 122, 142)",
          "size": 6,
          "symbol": "circle"
         },
         "mode": "markers",
         "text": "methionine adenosyltransferase",
         "type": "scatter3d",
         "x": [
          -0.0036300299023544562
         ],
         "y": [
          0.1278344825419065
         ],
         "z": [
          0.024397682669595355
         ]
        },
        {
         "customdata": [
          [
           "methionine adenosyltransferase",
           null,
           "Archaea",
           null,
           "Euryarchaeota",
           "Thermococci",
           "Thermococcales",
           "Thermococcaceae",
           "Thermococcus",
           "Thermococcus thioreducens",
           null,
           null,
           "277988",
           0.0016210342071700465,
           0.13547083204216323,
           0.12782394022873714,
           -0.06605330094159312
          ]
         ],
         "hovertemplate": "<b>%{customdata[0]}</b><br>Family Name: %{customdata[1]}<br>Domain: %{customdata[2]}<br>Kingdom: %{customdata[3]}</b><br>Phylum: %{customdata[4]}<br>Class: %{customdata[5]}<br>Order: %{customdata[6]}<br>Family: %{customdata[7]}<br>Genus: %{customdata[8]}<br>Species: %{customdata[9]}<br>EC Number: %{customdata[10]}<br>Mol Weight: %{customdata[11]}<br>Taxonomy ID: %{customdata[12]}<extra></extra>",
         "marker": {
          "color": "rgb(67, 55, 128)",
          "size": 6,
          "symbol": "circle"
         },
         "mode": "markers",
         "text": "methionine adenosyltransferase",
         "type": "scatter3d",
         "x": [
          0.13547083204216323
         ],
         "y": [
          0.12782394022873714
         ],
         "z": [
          -0.06605330094159312
         ]
        },
        {
         "customdata": [
          [
           "methionine adenosyltransferase",
           null,
           "Archaea",
           null,
           "Euryarchaeota",
           "Thermococci",
           "Thermococcales",
           "Thermococcaceae",
           "Thermococcus",
           "Thermococcus sp.",
           "2.5.1.6",
           44649,
           "35749",
           0.0015991029364498415,
           0.10699703139670565,
           0.047515796930784254,
           -0.031189616654346504
          ]
         ],
         "hovertemplate": "<b>%{customdata[0]}</b><br>Family Name: %{customdata[1]}<br>Domain: %{customdata[2]}<br>Kingdom: %{customdata[3]}</b><br>Phylum: %{customdata[4]}<br>Class: %{customdata[5]}<br>Order: %{customdata[6]}<br>Family: %{customdata[7]}<br>Genus: %{customdata[8]}<br>Species: %{customdata[9]}<br>EC Number: %{customdata[10]}<br>Mol Weight: %{customdata[11]}<br>Taxonomy ID: %{customdata[12]}<extra></extra>",
         "marker": {
          "color": "rgb(71, 35, 115)",
          "size": 6,
          "symbol": "circle"
         },
         "mode": "markers",
         "text": "methionine adenosyltransferase",
         "type": "scatter3d",
         "x": [
          0.10699703139670565
         ],
         "y": [
          0.047515796930784254
         ],
         "z": [
          -0.031189616654346504
         ]
        },
        {
         "customdata": [
          [
           "methionine adenosyltransferase",
           null,
           "Archaea",
           null,
           "Euryarchaeota",
           "Thermococci",
           "Thermococcales",
           "Thermococcaceae",
           "Thermococcus",
           "Thermococcus thioreducens",
           "2.5.1.6",
           44589,
           "277988",
           0.0012240264370092097,
           0.10515703092845552,
           0.15631978757524082,
           -0.0481298507876878
          ]
         ],
         "hovertemplate": "<b>%{customdata[0]}</b><br>Family Name: %{customdata[1]}<br>Domain: %{customdata[2]}<br>Kingdom: %{customdata[3]}</b><br>Phylum: %{customdata[4]}<br>Class: %{customdata[5]}<br>Order: %{customdata[6]}<br>Family: %{customdata[7]}<br>Genus: %{customdata[8]}<br>Species: %{customdata[9]}<br>EC Number: %{customdata[10]}<br>Mol Weight: %{customdata[11]}<br>Taxonomy ID: %{customdata[12]}<extra></extra>",
         "marker": {
          "color": "rgb(67, 55, 128)",
          "size": 6,
          "symbol": "circle"
         },
         "mode": "markers",
         "text": "methionine adenosyltransferase",
         "type": "scatter3d",
         "x": [
          0.10515703092845552
         ],
         "y": [
          0.15631978757524082
         ],
         "z": [
          -0.0481298507876878
         ]
        },
        {
         "customdata": [
          [
           "methionine adenosyltransferase",
           null,
           "Archaea",
           null,
           "Euryarchaeota",
           "Thermococci",
           "Thermococcales",
           "Thermococcaceae",
           "Thermococcus",
           "Thermococcus celer",
           "2.5.1.6",
           44569,
           "2264",
           0.0015057902311622674,
           0.030387153905337232,
           0.17026148055576934,
           -0.008139567216738789
          ]
         ],
         "hovertemplate": "<b>%{customdata[0]}</b><br>Family Name: %{customdata[1]}<br>Domain: %{customdata[2]}<br>Kingdom: %{customdata[3]}</b><br>Phylum: %{customdata[4]}<br>Class: %{customdata[5]}<br>Order: %{customdata[6]}<br>Family: %{customdata[7]}<br>Genus: %{customdata[8]}<br>Species: %{customdata[9]}<br>EC Number: %{customdata[10]}<br>Mol Weight: %{customdata[11]}<br>Taxonomy ID: %{customdata[12]}<extra></extra>",
         "marker": {
          "color": "rgb(68, 1, 84)",
          "size": 6,
          "symbol": "circle"
         },
         "mode": "markers",
         "text": "methionine adenosyltransferase",
         "type": "scatter3d",
         "x": [
          0.030387153905337232
         ],
         "y": [
          0.17026148055576934
         ],
         "z": [
          -0.008139567216738789
         ]
        },
        {
         "customdata": [
          [
           "methionine adenosyltransferase",
           null,
           "Archaea",
           null,
           "Euryarchaeota",
           "Thermococci",
           "Thermococcales",
           "Thermococcaceae",
           "Thermococcus",
           "Thermococcus sp.",
           "2.5.1.6",
           44550,
           "35749",
           0.001260007593515787,
           -0.06873702055255493,
           0.1328539038672796,
           -0.020289755241365295
          ]
         ],
         "hovertemplate": "<b>%{customdata[0]}</b><br>Family Name: %{customdata[1]}<br>Domain: %{customdata[2]}<br>Kingdom: %{customdata[3]}</b><br>Phylum: %{customdata[4]}<br>Class: %{customdata[5]}<br>Order: %{customdata[6]}<br>Family: %{customdata[7]}<br>Genus: %{customdata[8]}<br>Species: %{customdata[9]}<br>EC Number: %{customdata[10]}<br>Mol Weight: %{customdata[11]}<br>Taxonomy ID: %{customdata[12]}<extra></extra>",
         "marker": {
          "color": "rgb(71, 35, 115)",
          "size": 6,
          "symbol": "circle"
         },
         "mode": "markers",
         "text": "methionine adenosyltransferase",
         "type": "scatter3d",
         "x": [
          -0.06873702055255493
         ],
         "y": [
          0.1328539038672796
         ],
         "z": [
          -0.020289755241365295
         ]
        },
        {
         "customdata": [
          [
           "methionine adenosyltransferase",
           null,
           "Archaea",
           null,
           "Euryarchaeota",
           "Thermococci",
           "Thermococcales",
           "Thermococcaceae",
           "Thermococcus",
           "Thermococcus sp.",
           "2.5.1.6",
           null,
           "35749",
           0.0014025826669744064,
           0.04883039899816725,
           0.1317906180305224,
           0.02588149818880392
          ]
         ],
         "hovertemplate": "<b>%{customdata[0]}</b><br>Family Name: %{customdata[1]}<br>Domain: %{customdata[2]}<br>Kingdom: %{customdata[3]}</b><br>Phylum: %{customdata[4]}<br>Class: %{customdata[5]}<br>Order: %{customdata[6]}<br>Family: %{customdata[7]}<br>Genus: %{customdata[8]}<br>Species: %{customdata[9]}<br>EC Number: %{customdata[10]}<br>Mol Weight: %{customdata[11]}<br>Taxonomy ID: %{customdata[12]}<extra></extra>",
         "marker": {
          "color": "rgb(71, 35, 115)",
          "size": 6,
          "symbol": "circle"
         },
         "mode": "markers",
         "text": "methionine adenosyltransferase",
         "type": "scatter3d",
         "x": [
          0.04883039899816725
         ],
         "y": [
          0.1317906180305224
         ],
         "z": [
          0.02588149818880392
         ]
        },
        {
         "customdata": [
          [
           "methionine adenosyltransferase",
           null,
           "Archaea",
           null,
           "Euryarchaeota",
           "Thermococci",
           "Thermococcales",
           "Thermococcaceae",
           "Thermococcus",
           "Thermococcus thermotolerans",
           "2.5.1.6",
           44534,
           "2969672",
           0.006640188725858682,
           0.05164735696090605,
           0.050170266190642514,
           0.010342592283759519
          ]
         ],
         "hovertemplate": "<b>%{customdata[0]}</b><br>Family Name: %{customdata[1]}<br>Domain: %{customdata[2]}<br>Kingdom: %{customdata[3]}</b><br>Phylum: %{customdata[4]}<br>Class: %{customdata[5]}<br>Order: %{customdata[6]}<br>Family: %{customdata[7]}<br>Genus: %{customdata[8]}<br>Species: %{customdata[9]}<br>EC Number: %{customdata[10]}<br>Mol Weight: %{customdata[11]}<br>Taxonomy ID: %{customdata[12]}<extra></extra>",
         "marker": {
          "color": "rgb(139, 212, 70)",
          "size": 6,
          "symbol": "circle"
         },
         "mode": "markers",
         "text": "methionine adenosyltransferase",
         "type": "scatter3d",
         "x": [
          0.05164735696090605
         ],
         "y": [
          0.050170266190642514
         ],
         "z": [
          0.010342592283759519
         ]
        },
        {
         "customdata": [
          [
           "methionine adenosyltransferase",
           null,
           "Archaea",
           null,
           "Euryarchaeota",
           "Thermococci",
           "Thermococcales",
           "Thermococcaceae",
           "Thermococcus",
           "Thermococcus sp. Bubb.Bath",
           "2.5.1.6",
           44564,
           "1638242",
           0.0006880456638598128,
           0.09099125245119606,
           0.11162896771257447,
           0.07039761422909131
          ]
         ],
         "hovertemplate": "<b>%{customdata[0]}</b><br>Family Name: %{customdata[1]}<br>Domain: %{customdata[2]}<br>Kingdom: %{customdata[3]}</b><br>Phylum: %{customdata[4]}<br>Class: %{customdata[5]}<br>Order: %{customdata[6]}<br>Family: %{customdata[7]}<br>Genus: %{customdata[8]}<br>Species: %{customdata[9]}<br>EC Number: %{customdata[10]}<br>Mol Weight: %{customdata[11]}<br>Taxonomy ID: %{customdata[12]}<extra></extra>",
         "marker": {
          "color": "rgb(48, 105, 142)",
          "size": 6,
          "symbol": "circle"
         },
         "mode": "markers",
         "text": "methionine adenosyltransferase",
         "type": "scatter3d",
         "x": [
          0.09099125245119606
         ],
         "y": [
          0.11162896771257447
         ],
         "z": [
          0.07039761422909131
         ]
        },
        {
         "customdata": [
          [
           "methionine adenosyltransferase",
           null,
           "Archaea",
           null,
           "Euryarchaeota",
           "Thermococci",
           "Thermococcales",
           "Thermococcaceae",
           "Thermococcus",
           "Thermococcus sp. CX2",
           "2.5.1.6",
           44509,
           "163006",
           0.0031934596694720018,
           0.1598260737390041,
           0.11182856211349021,
           -0.06986652343456198
          ]
         ],
         "hovertemplate": "<b>%{customdata[0]}</b><br>Family Name: %{customdata[1]}<br>Domain: %{customdata[2]}<br>Kingdom: %{customdata[3]}</b><br>Phylum: %{customdata[4]}<br>Class: %{customdata[5]}<br>Order: %{customdata[6]}<br>Family: %{customdata[7]}<br>Genus: %{customdata[8]}<br>Species: %{customdata[9]}<br>EC Number: %{customdata[10]}<br>Mol Weight: %{customdata[11]}<br>Taxonomy ID: %{customdata[12]}<extra></extra>",
         "marker": {
          "color": "rgb(35, 142, 140)",
          "size": 6,
          "symbol": "circle"
         },
         "mode": "markers",
         "text": "methionine adenosyltransferase",
         "type": "scatter3d",
         "x": [
          0.1598260737390041
         ],
         "y": [
          0.11182856211349021
         ],
         "z": [
          -0.06986652343456198
         ]
        },
        {
         "customdata": [
          [
           "methionine adenosyltransferase",
           null,
           "Archaea",
           null,
           "Euryarchaeota",
           "Thermococci",
           "Thermococcales",
           "Thermococcaceae",
           "Thermococcus",
           "Thermococcus camini",
           "2.5.1.6",
           44335,
           "2016373",
           0.0022233292298860837,
           -0.061347190276248624,
           0.09421533056855527,
           -0.1297522811124511
          ]
         ],
         "hovertemplate": "<b>%{customdata[0]}</b><br>Family Name: %{customdata[1]}<br>Domain: %{customdata[2]}<br>Kingdom: %{customdata[3]}</b><br>Phylum: %{customdata[4]}<br>Class: %{customdata[5]}<br>Order: %{customdata[6]}<br>Family: %{customdata[7]}<br>Genus: %{customdata[8]}<br>Species: %{customdata[9]}<br>EC Number: %{customdata[10]}<br>Mol Weight: %{customdata[11]}<br>Taxonomy ID: %{customdata[12]}<extra></extra>",
         "marker": {
          "color": "rgb(108, 205, 89)",
          "size": 6,
          "symbol": "circle"
         },
         "mode": "markers",
         "text": "methionine adenosyltransferase",
         "type": "scatter3d",
         "x": [
          -0.061347190276248624
         ],
         "y": [
          0.09421533056855527
         ],
         "z": [
          -0.1297522811124511
         ]
        },
        {
         "customdata": [
          [
           "methionine adenosyltransferase",
           null,
           "Archaea",
           null,
           "Euryarchaeota",
           "Thermococci",
           "Thermococcales",
           "Thermococcaceae",
           "Thermococcus",
           "Thermococcus celericrescens",
           "2.5.1.6",
           44678,
           "227598",
           0.0018270855629744088,
           0.1276316295651171,
           0.09721287165571986,
           0.008748458837266966
          ]
         ],
         "hovertemplate": "<b>%{customdata[0]}</b><br>Family Name: %{customdata[1]}<br>Domain: %{customdata[2]}<br>Kingdom: %{customdata[3]}</b><br>Phylum: %{customdata[4]}<br>Class: %{customdata[5]}<br>Order: %{customdata[6]}<br>Family: %{customdata[7]}<br>Genus: %{customdata[8]}<br>Species: %{customdata[9]}<br>EC Number: %{customdata[10]}<br>Mol Weight: %{customdata[11]}<br>Taxonomy ID: %{customdata[12]}<extra></extra>",
         "marker": {
          "color": "rgb(232, 228, 39)",
          "size": 6,
          "symbol": "circle"
         },
         "mode": "markers",
         "text": "methionine adenosyltransferase",
         "type": "scatter3d",
         "x": [
          0.1276316295651171
         ],
         "y": [
          0.09721287165571986
         ],
         "z": [
          0.008748458837266966
         ]
        },
        {
         "customdata": [
          [
           "methionine adenosyltransferase",
           null,
           "Archaea",
           null,
           "Euryarchaeota",
           "Thermococci",
           "Thermococcales",
           "Thermococcaceae",
           "Thermococcus",
           "Thermococcus sp. 18S1",
           "2.5.1.6",
           44488,
           "1638210",
           0.0013861212878338886,
           0.025720184498201643,
           0.10512198068926228,
           -0.16541637758918826
          ]
         ],
         "hovertemplate": "<b>%{customdata[0]}</b><br>Family Name: %{customdata[1]}<br>Domain: %{customdata[2]}<br>Kingdom: %{customdata[3]}</b><br>Phylum: %{customdata[4]}<br>Class: %{customdata[5]}<br>Order: %{customdata[6]}<br>Family: %{customdata[7]}<br>Genus: %{customdata[8]}<br>Species: %{customdata[9]}<br>EC Number: %{customdata[10]}<br>Mol Weight: %{customdata[11]}<br>Taxonomy ID: %{customdata[12]}<extra></extra>",
         "marker": {
          "color": "rgb(58, 83, 139)",
          "size": 6,
          "symbol": "circle"
         },
         "mode": "markers",
         "text": "methionine adenosyltransferase",
         "type": "scatter3d",
         "x": [
          0.025720184498201643
         ],
         "y": [
          0.10512198068926228
         ],
         "z": [
          -0.16541637758918826
         ]
        },
        {
         "customdata": [
          [
           "methionine adenosyltransferase",
           null,
           "Archaea",
           null,
           "Euryarchaeota",
           "Thermococci",
           "Thermococcales",
           "Thermococcaceae",
           "Thermococcus",
           "Thermococcus indicus",
           "2.5.1.6",
           44591,
           "2586643",
           0.0010740065830919028,
           0.07898891123293961,
           0.060986309346091616,
           0.019691829502663634
          ]
         ],
         "hovertemplate": "<b>%{customdata[0]}</b><br>Family Name: %{customdata[1]}<br>Domain: %{customdata[2]}<br>Kingdom: %{customdata[3]}</b><br>Phylum: %{customdata[4]}<br>Class: %{customdata[5]}<br>Order: %{customdata[6]}<br>Family: %{customdata[7]}<br>Genus: %{customdata[8]}<br>Species: %{customdata[9]}<br>EC Number: %{customdata[10]}<br>Mol Weight: %{customdata[11]}<br>Taxonomy ID: %{customdata[12]}<extra></extra>",
         "marker": {
          "color": "rgb(40, 124, 142)",
          "size": 6,
          "symbol": "circle"
         },
         "mode": "markers",
         "text": "methionine adenosyltransferase",
         "type": "scatter3d",
         "x": [
          0.07898891123293961
         ],
         "y": [
          0.060986309346091616
         ],
         "z": [
          0.019691829502663634
         ]
        },
        {
         "customdata": [
          [
           "methionine adenosyltransferase",
           null,
           "Archaea",
           null,
           "Euryarchaeota",
           "Thermococci",
           "Thermococcales",
           "Thermococcaceae",
           "Thermococcus",
           "Thermococcus sp. GR6",
           "2.5.1.6",
           44638,
           "1638256",
           0.0024589433416093874,
           0.153050214900205,
           0.032167787671613116,
           -0.06496090581276436
          ]
         ],
         "hovertemplate": "<b>%{customdata[0]}</b><br>Family Name: %{customdata[1]}<br>Domain: %{customdata[2]}<br>Kingdom: %{customdata[3]}</b><br>Phylum: %{customdata[4]}<br>Class: %{customdata[5]}<br>Order: %{customdata[6]}<br>Family: %{customdata[7]}<br>Genus: %{customdata[8]}<br>Species: %{customdata[9]}<br>EC Number: %{customdata[10]}<br>Mol Weight: %{customdata[11]}<br>Taxonomy ID: %{customdata[12]}<extra></extra>",
         "marker": {
          "color": "rgb(63, 187, 115)",
          "size": 6,
          "symbol": "circle"
         },
         "mode": "markers",
         "text": "methionine adenosyltransferase",
         "type": "scatter3d",
         "x": [
          0.153050214900205
         ],
         "y": [
          0.032167787671613116
         ],
         "z": [
          -0.06496090581276436
         ]
        },
        {
         "customdata": [
          [
           "methionine adenosyltransferase",
           null,
           "Archaea",
           null,
           "Euryarchaeota",
           "Thermococci",
           "Thermococcales",
           "Thermococcaceae",
           "Thermococcus",
           "Thermococcus sp. LS1",
           "2.5.1.6",
           44691,
           "1638259",
           0.005553621251038395,
           0.10756058939378586,
           -0.004372785510778541,
           -0.044938398273479514
          ]
         ],
         "hovertemplate": "<b>%{customdata[0]}</b><br>Family Name: %{customdata[1]}<br>Domain: %{customdata[2]}<br>Kingdom: %{customdata[3]}</b><br>Phylum: %{customdata[4]}<br>Class: %{customdata[5]}<br>Order: %{customdata[6]}<br>Family: %{customdata[7]}<br>Genus: %{customdata[8]}<br>Species: %{customdata[9]}<br>EC Number: %{customdata[10]}<br>Mol Weight: %{customdata[11]}<br>Taxonomy ID: %{customdata[12]}<extra></extra>",
         "marker": {
          "color": "rgb(71, 32, 113)",
          "size": 6,
          "symbol": "circle"
         },
         "mode": "markers",
         "text": "methionine adenosyltransferase",
         "type": "scatter3d",
         "x": [
          0.10756058939378586
         ],
         "y": [
          -0.004372785510778541
         ],
         "z": [
          -0.044938398273479514
         ]
        },
        {
         "customdata": [
          [
           "methionine adenosyltransferase",
           null,
           "Archaea",
           null,
           "Euryarchaeota",
           "Thermococci",
           "Thermococcales",
           "Thermococcaceae",
           null,
           "Thermococcus",
           "2.5.1.6",
           44598,
           "2263",
           0.0009059002665779449,
           0.07960371709360223,
           0.09361009015447085,
           -0.07376292376598668
          ]
         ],
         "hovertemplate": "<b>%{customdata[0]}</b><br>Family Name: %{customdata[1]}<br>Domain: %{customdata[2]}<br>Kingdom: %{customdata[3]}</b><br>Phylum: %{customdata[4]}<br>Class: %{customdata[5]}<br>Order: %{customdata[6]}<br>Family: %{customdata[7]}<br>Genus: %{customdata[8]}<br>Species: %{customdata[9]}<br>EC Number: %{customdata[10]}<br>Mol Weight: %{customdata[11]}<br>Taxonomy ID: %{customdata[12]}<extra></extra>",
         "marker": {
          "color": "rgb(60, 78, 138)",
          "size": 6,
          "symbol": "circle"
         },
         "mode": "markers",
         "text": "methionine adenosyltransferase",
         "type": "scatter3d",
         "x": [
          0.07960371709360223
         ],
         "y": [
          0.09361009015447085
         ],
         "z": [
          -0.07376292376598668
         ]
        },
        {
         "customdata": [
          [
           "methionine adenosyltransferase",
           null,
           "Archaea",
           null,
           "Euryarchaeota",
           "Thermococci",
           "Thermococcales",
           "Thermococcaceae",
           "Thermococcus",
           "Thermococcus aciditolerans",
           "2.5.1.6",
           44634,
           "2598455",
           0.0011832663182526533,
           -0.02406223248148121,
           0.19608069077156065,
           -0.06946434328140685
          ]
         ],
         "hovertemplate": "<b>%{customdata[0]}</b><br>Family Name: %{customdata[1]}<br>Domain: %{customdata[2]}<br>Kingdom: %{customdata[3]}</b><br>Phylum: %{customdata[4]}<br>Class: %{customdata[5]}<br>Order: %{customdata[6]}<br>Family: %{customdata[7]}<br>Genus: %{customdata[8]}<br>Species: %{customdata[9]}<br>EC Number: %{customdata[10]}<br>Mol Weight: %{customdata[11]}<br>Taxonomy ID: %{customdata[12]}<extra></extra>",
         "marker": {
          "color": "rgb(70, 48, 124)",
          "size": 6,
          "symbol": "circle"
         },
         "mode": "markers",
         "text": "methionine adenosyltransferase",
         "type": "scatter3d",
         "x": [
          -0.02406223248148121
         ],
         "y": [
          0.19608069077156065
         ],
         "z": [
          -0.06946434328140685
         ]
        },
        {
         "customdata": [
          [
           "methionine adenosyltransferase",
           null,
           "Archaea",
           null,
           "Euryarchaeota",
           "Thermococci",
           "Thermococcales",
           "Thermococcaceae",
           "Thermococcus",
           "Thermococcus sp. 4557",
           "2.5.1.6",
           44538,
           "1042877",
           0.001008062437774732,
           0.1256717817993545,
           0.10088618513979056,
           -0.026909462720072767
          ]
         ],
         "hovertemplate": "<b>%{customdata[0]}</b><br>Family Name: %{customdata[1]}<br>Domain: %{customdata[2]}<br>Kingdom: %{customdata[3]}</b><br>Phylum: %{customdata[4]}<br>Class: %{customdata[5]}<br>Order: %{customdata[6]}<br>Family: %{customdata[7]}<br>Genus: %{customdata[8]}<br>Species: %{customdata[9]}<br>EC Number: %{customdata[10]}<br>Mol Weight: %{customdata[11]}<br>Taxonomy ID: %{customdata[12]}<extra></extra>",
         "marker": {
          "color": "rgb(79, 194, 106)",
          "size": 6,
          "symbol": "circle"
         },
         "mode": "markers",
         "text": "methionine adenosyltransferase",
         "type": "scatter3d",
         "x": [
          0.1256717817993545
         ],
         "y": [
          0.10088618513979056
         ],
         "z": [
          -0.026909462720072767
         ]
        },
        {
         "customdata": [
          [
           "methionine adenosyltransferase",
           null,
           "Archaea",
           null,
           "Euryarchaeota",
           "Thermococci",
           "Thermococcales",
           "Thermococcaceae",
           "Thermococcus",
           "Thermococcus sp. JdF3",
           "2.5.1.6",
           44503,
           "1638258",
           0.001845941122413445,
           0.029505530787795588,
           0.188527906035241,
           -0.10228082128603991
          ]
         ],
         "hovertemplate": "<b>%{customdata[0]}</b><br>Family Name: %{customdata[1]}<br>Domain: %{customdata[2]}<br>Kingdom: %{customdata[3]}</b><br>Phylum: %{customdata[4]}<br>Class: %{customdata[5]}<br>Order: %{customdata[6]}<br>Family: %{customdata[7]}<br>Genus: %{customdata[8]}<br>Species: %{customdata[9]}<br>EC Number: %{customdata[10]}<br>Mol Weight: %{customdata[11]}<br>Taxonomy ID: %{customdata[12]}<extra></extra>",
         "marker": {
          "color": "rgb(113, 207, 86)",
          "size": 6,
          "symbol": "circle"
         },
         "mode": "markers",
         "text": "methionine adenosyltransferase",
         "type": "scatter3d",
         "x": [
          0.029505530787795588
         ],
         "y": [
          0.188527906035241
         ],
         "z": [
          -0.10228082128603991
         ]
        },
        {
         "customdata": [
          [
           "methionine adenosyltransferase",
           null,
           "Archaea",
           null,
           "Euryarchaeota",
           "Thermococci",
           "Thermococcales",
           "Thermococcaceae",
           "Thermococcus",
           "Thermococcus piezophilus",
           "2.5.1.6",
           44340,
           "1712654",
           0.002245152433110349,
           0.05858040243208214,
           0.09110795295579033,
           0.04455771266077514
          ]
         ],
         "hovertemplate": "<b>%{customdata[0]}</b><br>Family Name: %{customdata[1]}<br>Domain: %{customdata[2]}<br>Kingdom: %{customdata[3]}</b><br>Phylum: %{customdata[4]}<br>Class: %{customdata[5]}<br>Order: %{customdata[6]}<br>Family: %{customdata[7]}<br>Genus: %{customdata[8]}<br>Species: %{customdata[9]}<br>EC Number: %{customdata[10]}<br>Mol Weight: %{customdata[11]}<br>Taxonomy ID: %{customdata[12]}<extra></extra>",
         "marker": {
          "color": "rgb(62, 72, 136)",
          "size": 6,
          "symbol": "circle"
         },
         "mode": "markers",
         "text": "methionine adenosyltransferase",
         "type": "scatter3d",
         "x": [
          0.05858040243208214
         ],
         "y": [
          0.09110795295579033
         ],
         "z": [
          0.04455771266077514
         ]
        },
        {
         "customdata": [
          [
           "methionine adenosyltransferase",
           null,
           "Archaea",
           null,
           "Euryarchaeota",
           "Thermococci",
           "Thermococcales",
           "Thermococcaceae",
           "Thermococcus",
           "Thermococcus sp. P6",
           "2.5.1.6",
           44592,
           "122420",
           0.0034505050522202745,
           0.16737025313789794,
           0.1214014171038935,
           -0.022926573674837206
          ]
         ],
         "hovertemplate": "<b>%{customdata[0]}</b><br>Family Name: %{customdata[1]}<br>Domain: %{customdata[2]}<br>Kingdom: %{customdata[3]}</b><br>Phylum: %{customdata[4]}<br>Class: %{customdata[5]}<br>Order: %{customdata[6]}<br>Family: %{customdata[7]}<br>Genus: %{customdata[8]}<br>Species: %{customdata[9]}<br>EC Number: %{customdata[10]}<br>Mol Weight: %{customdata[11]}<br>Taxonomy ID: %{customdata[12]}<extra></extra>",
         "marker": {
          "color": "rgb(34, 144, 140)",
          "size": 6,
          "symbol": "circle"
         },
         "mode": "markers",
         "text": "methionine adenosyltransferase",
         "type": "scatter3d",
         "x": [
          0.16737025313789794
         ],
         "y": [
          0.1214014171038935
         ],
         "z": [
          -0.022926573674837206
         ]
        },
        {
         "customdata": [
          [
           "methionine adenosyltransferase",
           null,
           "Archaea",
           null,
           "Euryarchaeota",
           "Thermococci",
           "Thermococcales",
           "Thermococcaceae",
           "Thermococcus",
           "Thermococcus sp.",
           "2.5.1.6",
           44670,
           "35749",
           0.0010944100425941794,
           0.07104776156551752,
           -0.008637464218462008,
           -0.006285836412795316
          ]
         ],
         "hovertemplate": "<b>%{customdata[0]}</b><br>Family Name: %{customdata[1]}<br>Domain: %{customdata[2]}<br>Kingdom: %{customdata[3]}</b><br>Phylum: %{customdata[4]}<br>Class: %{customdata[5]}<br>Order: %{customdata[6]}<br>Family: %{customdata[7]}<br>Genus: %{customdata[8]}<br>Species: %{customdata[9]}<br>EC Number: %{customdata[10]}<br>Mol Weight: %{customdata[11]}<br>Taxonomy ID: %{customdata[12]}<extra></extra>",
         "marker": {
          "color": "rgb(71, 35, 115)",
          "size": 6,
          "symbol": "circle"
         },
         "mode": "markers",
         "text": "methionine adenosyltransferase",
         "type": "scatter3d",
         "x": [
          0.07104776156551752
         ],
         "y": [
          -0.008637464218462008
         ],
         "z": [
          -0.006285836412795316
         ]
        },
        {
         "customdata": [
          [
           "methionine adenosyltransferase",
           null,
           "Archaea",
           null,
           "Euryarchaeota",
           "Thermococci",
           "Thermococcales",
           "Thermococcaceae",
           "Thermococcus",
           "Thermococcus barophilus",
           "2.5.1.6",
           44980,
           "55802",
           0.002902194621315402,
           -0.024929327425796493,
           -0.0010073804644466502,
           -0.07854604901129622
          ]
         ],
         "hovertemplate": "<b>%{customdata[0]}</b><br>Family Name: %{customdata[1]}<br>Domain: %{customdata[2]}<br>Kingdom: %{customdata[3]}</b><br>Phylum: %{customdata[4]}<br>Class: %{customdata[5]}<br>Order: %{customdata[6]}<br>Family: %{customdata[7]}<br>Genus: %{customdata[8]}<br>Species: %{customdata[9]}<br>EC Number: %{customdata[10]}<br>Mol Weight: %{customdata[11]}<br>Taxonomy ID: %{customdata[12]}<extra></extra>",
         "marker": {
          "color": "rgb(70, 24, 105)",
          "size": 6,
          "symbol": "circle"
         },
         "mode": "markers",
         "text": "methionine adenosyltransferase",
         "type": "scatter3d",
         "x": [
          -0.024929327425796493
         ],
         "y": [
          -0.0010073804644466502
         ],
         "z": [
          -0.07854604901129622
         ]
        },
        {
         "customdata": [
          [
           "methionine adenosyltransferase",
           null,
           "Archaea",
           null,
           "Euryarchaeota",
           "Thermococci",
           "Thermococcales",
           "Thermococcaceae",
           "Thermococcus",
           "Thermococcus sp. SY098",
           "2.5.1.6",
           44924,
           "3111325",
           0.003187134613295199,
           -0.00876498851083359,
           -0.0060647915958339255,
           -0.13178633177137428
          ]
         ],
         "hovertemplate": "<b>%{customdata[0]}</b><br>Family Name: %{customdata[1]}<br>Domain: %{customdata[2]}<br>Kingdom: %{customdata[3]}</b><br>Phylum: %{customdata[4]}<br>Class: %{customdata[5]}<br>Order: %{customdata[6]}<br>Family: %{customdata[7]}<br>Genus: %{customdata[8]}<br>Species: %{customdata[9]}<br>EC Number: %{customdata[10]}<br>Mol Weight: %{customdata[11]}<br>Taxonomy ID: %{customdata[12]}<extra></extra>",
         "marker": {
          "color": "rgb(216, 226, 40)",
          "size": 6,
          "symbol": "circle"
         },
         "mode": "markers",
         "text": "methionine adenosyltransferase",
         "type": "scatter3d",
         "x": [
          -0.00876498851083359
         ],
         "y": [
          -0.0060647915958339255
         ],
         "z": [
          -0.13178633177137428
         ]
        },
        {
         "customdata": [
          [
           "methionine adenosyltransferase",
           null,
           "Archaea",
           null,
           "Euryarchaeota",
           "Thermococci",
           "Thermococcales",
           "Thermococcaceae",
           "Thermococcus",
           "unclassified Thermococcus",
           "2.5.1.6",
           45022,
           "2627626",
           0.0027344728666779047,
           0.03916265019598803,
           0.04379929691560458,
           -0.14647755110071936
          ]
         ],
         "hovertemplate": "<b>%{customdata[0]}</b><br>Family Name: %{customdata[1]}<br>Domain: %{customdata[2]}<br>Kingdom: %{customdata[3]}</b><br>Phylum: %{customdata[4]}<br>Class: %{customdata[5]}<br>Order: %{customdata[6]}<br>Family: %{customdata[7]}<br>Genus: %{customdata[8]}<br>Species: %{customdata[9]}<br>EC Number: %{customdata[10]}<br>Mol Weight: %{customdata[11]}<br>Taxonomy ID: %{customdata[12]}<extra></extra>",
         "marker": {
          "color": "rgb(72, 41, 120)",
          "size": 6,
          "symbol": "circle"
         },
         "mode": "markers",
         "text": "methionine adenosyltransferase",
         "type": "scatter3d",
         "x": [
          0.03916265019598803
         ],
         "y": [
          0.04379929691560458
         ],
         "z": [
          -0.14647755110071936
         ]
        },
        {
         "customdata": [
          [
           "methionine adenosyltransferase",
           null,
           "Archaea",
           null,
           "Euryarchaeota",
           "Thermococci",
           "Thermococcales",
           "Thermococcaceae",
           "Thermococcus",
           "Thermococcus sp.",
           "2.5.1.6",
           44950,
           "35749",
           0.00180527698745747,
           -0.03489541452217023,
           0.06378776864226035,
           -0.1314764356313908
          ]
         ],
         "hovertemplate": "<b>%{customdata[0]}</b><br>Family Name: %{customdata[1]}<br>Domain: %{customdata[2]}<br>Kingdom: %{customdata[3]}</b><br>Phylum: %{customdata[4]}<br>Class: %{customdata[5]}<br>Order: %{customdata[6]}<br>Family: %{customdata[7]}<br>Genus: %{customdata[8]}<br>Species: %{customdata[9]}<br>EC Number: %{customdata[10]}<br>Mol Weight: %{customdata[11]}<br>Taxonomy ID: %{customdata[12]}<extra></extra>",
         "marker": {
          "color": "rgb(71, 35, 115)",
          "size": 6,
          "symbol": "circle"
         },
         "mode": "markers",
         "text": "methionine adenosyltransferase",
         "type": "scatter3d",
         "x": [
          -0.03489541452217023
         ],
         "y": [
          0.06378776864226035
         ],
         "z": [
          -0.1314764356313908
         ]
        },
        {
         "customdata": [
          [
           "methionine adenosyltransferase",
           null,
           "Archaea",
           null,
           "Euryarchaeota",
           "Thermococci",
           "Thermococcales",
           "Thermococcaceae",
           "Thermococcus",
           "Thermococcus sp. PK",
           "2.5.1.6",
           45033,
           "913025",
           0.0010210587126037577,
           0.01583803243332855,
           0.09462952689063045,
           0.01087044027192237
          ]
         ],
         "hovertemplate": "<b>%{customdata[0]}</b><br>Family Name: %{customdata[1]}<br>Domain: %{customdata[2]}<br>Kingdom: %{customdata[3]}</b><br>Phylum: %{customdata[4]}<br>Class: %{customdata[5]}<br>Order: %{customdata[6]}<br>Family: %{customdata[7]}<br>Genus: %{customdata[8]}<br>Species: %{customdata[9]}<br>EC Number: %{customdata[10]}<br>Mol Weight: %{customdata[11]}<br>Taxonomy ID: %{customdata[12]}<extra></extra>",
         "marker": {
          "color": "rgb(57, 85, 139)",
          "size": 6,
          "symbol": "circle"
         },
         "mode": "markers",
         "text": "methionine adenosyltransferase",
         "type": "scatter3d",
         "x": [
          0.01583803243332855
         ],
         "y": [
          0.09462952689063045
         ],
         "z": [
          0.01087044027192237
         ]
        },
        {
         "customdata": [
          [
           "methionine adenosyltransferase",
           null,
           "Archaea",
           null,
           "Euryarchaeota",
           "Thermococci",
           "Thermococcales",
           "Thermococcaceae",
           "Thermococcus",
           "Thermococcus bergensis",
           "2.5.1.6",
           45019,
           "2689387",
           0.0010210587126037577,
           0.01731576920632159,
           0.009979984832473117,
           0.008269966863610569
          ]
         ],
         "hovertemplate": "<b>%{customdata[0]}</b><br>Family Name: %{customdata[1]}<br>Domain: %{customdata[2]}<br>Kingdom: %{customdata[3]}</b><br>Phylum: %{customdata[4]}<br>Class: %{customdata[5]}<br>Order: %{customdata[6]}<br>Family: %{customdata[7]}<br>Genus: %{customdata[8]}<br>Species: %{customdata[9]}<br>EC Number: %{customdata[10]}<br>Mol Weight: %{customdata[11]}<br>Taxonomy ID: %{customdata[12]}<extra></extra>",
         "marker": {
          "color": "rgb(65, 64, 133)",
          "size": 6,
          "symbol": "circle"
         },
         "mode": "markers",
         "text": "methionine adenosyltransferase",
         "type": "scatter3d",
         "x": [
          0.01731576920632159
         ],
         "y": [
          0.009979984832473117
         ],
         "z": [
          0.008269966863610569
         ]
        },
        {
         "customdata": [
          [
           "methionine adenosyltransferase",
           null,
           "Archaea",
           null,
           "Euryarchaeota",
           "Thermococci",
           "Thermococcales",
           "Thermococcaceae",
           "Thermococcus",
           "Thermococcus sp. 101 C5",
           "2.5.1.6",
           45033,
           "2654197",
           0.0010210587126037577,
           -0.01587867210167328,
           0.12717465872902614,
           -0.009855176994721685
          ]
         ],
         "hovertemplate": "<b>%{customdata[0]}</b><br>Family Name: %{customdata[1]}<br>Domain: %{customdata[2]}<br>Kingdom: %{customdata[3]}</b><br>Phylum: %{customdata[4]}<br>Class: %{customdata[5]}<br>Order: %{customdata[6]}<br>Family: %{customdata[7]}<br>Genus: %{customdata[8]}<br>Species: %{customdata[9]}<br>EC Number: %{customdata[10]}<br>Mol Weight: %{customdata[11]}<br>Taxonomy ID: %{customdata[12]}<extra></extra>",
         "marker": {
          "color": "rgb(206, 225, 41)",
          "size": 6,
          "symbol": "circle"
         },
         "mode": "markers",
         "text": "methionine adenosyltransferase",
         "type": "scatter3d",
         "x": [
          -0.01587867210167328
         ],
         "y": [
          0.12717465872902614
         ],
         "z": [
          -0.009855176994721685
         ]
        },
        {
         "customdata": [
          [
           "methionine adenosyltransferase",
           null,
           "Archaea",
           null,
           "Euryarchaeota",
           "Thermococci",
           "Thermococcales",
           "Thermococcaceae",
           "Thermococcus",
           "Thermococcus paralvinellae",
           "2.5.1.6",
           44913,
           "582419",
           0.002722595827986876,
           -0.00699422247747369,
           0.022456184953875594,
           -0.1161844953565462
          ]
         ],
         "hovertemplate": "<b>%{customdata[0]}</b><br>Family Name: %{customdata[1]}<br>Domain: %{customdata[2]}<br>Kingdom: %{customdata[3]}</b><br>Phylum: %{customdata[4]}<br>Class: %{customdata[5]}<br>Order: %{customdata[6]}<br>Family: %{customdata[7]}<br>Genus: %{customdata[8]}<br>Species: %{customdata[9]}<br>EC Number: %{customdata[10]}<br>Mol Weight: %{customdata[11]}<br>Taxonomy ID: %{customdata[12]}<extra></extra>",
         "marker": {
          "color": "rgb(133, 211, 73)",
          "size": 6,
          "symbol": "circle"
         },
         "mode": "markers",
         "text": "methionine adenosyltransferase",
         "type": "scatter3d",
         "x": [
          -0.00699422247747369
         ],
         "y": [
          0.022456184953875594
         ],
         "z": [
          -0.1161844953565462
         ]
        },
        {
         "customdata": [
          [
           "S-adenosylmethionine synthetase",
           null,
           "Archaea",
           null,
           "Euryarchaeota",
           "Thermococci",
           "Thermococcales",
           "Thermococcaceae",
           null,
           "Thermococcaceae archaeon",
           null,
           null,
           "2666349",
           0.0010210587126037577,
           0.06290094388135734,
           -0.015771922803491475,
           -0.04223264840736806
          ]
         ],
         "hovertemplate": "<b>%{customdata[0]}</b><br>Family Name: %{customdata[1]}<br>Domain: %{customdata[2]}<br>Kingdom: %{customdata[3]}</b><br>Phylum: %{customdata[4]}<br>Class: %{customdata[5]}<br>Order: %{customdata[6]}<br>Family: %{customdata[7]}<br>Genus: %{customdata[8]}<br>Species: %{customdata[9]}<br>EC Number: %{customdata[10]}<br>Mol Weight: %{customdata[11]}<br>Taxonomy ID: %{customdata[12]}<extra></extra>",
         "marker": {
          "color": "rgb(64, 67, 134)",
          "size": 6,
          "symbol": "circle"
         },
         "mode": "markers",
         "text": "S-adenosylmethionine synthetase",
         "type": "scatter3d",
         "x": [
          0.06290094388135734
         ],
         "y": [
          -0.015771922803491475
         ],
         "z": [
          -0.04223264840736806
         ]
        },
        {
         "customdata": [
          [
           "methionine adenosyltransferase",
           null,
           "Archaea",
           null,
           "Euryarchaeota",
           "Thermococci",
           "Thermococcales",
           "Thermococcaceae",
           null,
           "Thermococcaceae archaeon",
           "2.5.1.6",
           null,
           "2666349",
           0.0010210587126037577,
           0.1174296303923666,
           0.14760193430555818,
           -0.007552278837785237
          ]
         ],
         "hovertemplate": "<b>%{customdata[0]}</b><br>Family Name: %{customdata[1]}<br>Domain: %{customdata[2]}<br>Kingdom: %{customdata[3]}</b><br>Phylum: %{customdata[4]}<br>Class: %{customdata[5]}<br>Order: %{customdata[6]}<br>Family: %{customdata[7]}<br>Genus: %{customdata[8]}<br>Species: %{customdata[9]}<br>EC Number: %{customdata[10]}<br>Mol Weight: %{customdata[11]}<br>Taxonomy ID: %{customdata[12]}<extra></extra>",
         "marker": {
          "color": "rgb(64, 67, 134)",
          "size": 6,
          "symbol": "circle"
         },
         "mode": "markers",
         "text": "methionine adenosyltransferase",
         "type": "scatter3d",
         "x": [
          0.1174296303923666
         ],
         "y": [
          0.14760193430555818
         ],
         "z": [
          -0.007552278837785237
         ]
        },
        {
         "customdata": [
          [
           "methionine adenosyltransferase",
           null,
           "Archaea",
           null,
           "Euryarchaeota",
           "Thermococci",
           "Thermococcales",
           "Thermococcaceae",
           null,
           "Thermococcus",
           "2.5.1.6",
           45089,
           "2263",
           0.0020206911247118817,
           -0.020422687420950304,
           0.06351545944289828,
           -0.08359898511711515
          ]
         ],
         "hovertemplate": "<b>%{customdata[0]}</b><br>Family Name: %{customdata[1]}<br>Domain: %{customdata[2]}<br>Kingdom: %{customdata[3]}</b><br>Phylum: %{customdata[4]}<br>Class: %{customdata[5]}<br>Order: %{customdata[6]}<br>Family: %{customdata[7]}<br>Genus: %{customdata[8]}<br>Species: %{customdata[9]}<br>EC Number: %{customdata[10]}<br>Mol Weight: %{customdata[11]}<br>Taxonomy ID: %{customdata[12]}<extra></extra>",
         "marker": {
          "color": "rgb(60, 78, 138)",
          "size": 6,
          "symbol": "circle"
         },
         "mode": "markers",
         "text": "methionine adenosyltransferase",
         "type": "scatter3d",
         "x": [
          -0.020422687420950304
         ],
         "y": [
          0.06351545944289828
         ],
         "z": [
          -0.08359898511711515
         ]
        },
        {
         "customdata": [
          [
           "methionine adenosyltransferase",
           null,
           "Archaea",
           null,
           "Euryarchaeota",
           "Thermococci",
           "Thermococcales",
           "Thermococcaceae",
           "Thermococcus",
           "Thermococcus sp.",
           "2.5.1.6",
           null,
           "35749",
           0.0015422953770956537,
           0.09840985547052175,
           0.10246532319854351,
           0.009137686403631011
          ]
         ],
         "hovertemplate": "<b>%{customdata[0]}</b><br>Family Name: %{customdata[1]}<br>Domain: %{customdata[2]}<br>Kingdom: %{customdata[3]}</b><br>Phylum: %{customdata[4]}<br>Class: %{customdata[5]}<br>Order: %{customdata[6]}<br>Family: %{customdata[7]}<br>Genus: %{customdata[8]}<br>Species: %{customdata[9]}<br>EC Number: %{customdata[10]}<br>Mol Weight: %{customdata[11]}<br>Taxonomy ID: %{customdata[12]}<extra></extra>",
         "marker": {
          "color": "rgb(71, 35, 115)",
          "size": 6,
          "symbol": "circle"
         },
         "mode": "markers",
         "text": "methionine adenosyltransferase",
         "type": "scatter3d",
         "x": [
          0.09840985547052175
         ],
         "y": [
          0.10246532319854351
         ],
         "z": [
          0.009137686403631011
         ]
        },
        {
         "customdata": [
          [
           "methionine adenosyltransferase",
           null,
           "Archaea",
           null,
           "Euryarchaeota",
           "Thermococci",
           "Thermococcales",
           "Thermococcaceae",
           "Thermococcus",
           "Thermococcus sp. 2319x1",
           "2.5.1.6",
           45048,
           "1674923",
           0.0012734434550844853,
           0.06370133113072148,
           0.17429932405112586,
           0.017802718397798522
          ]
         ],
         "hovertemplate": "<b>%{customdata[0]}</b><br>Family Name: %{customdata[1]}<br>Domain: %{customdata[2]}<br>Kingdom: %{customdata[3]}</b><br>Phylum: %{customdata[4]}<br>Class: %{customdata[5]}<br>Order: %{customdata[6]}<br>Family: %{customdata[7]}<br>Genus: %{customdata[8]}<br>Species: %{customdata[9]}<br>EC Number: %{customdata[10]}<br>Mol Weight: %{customdata[11]}<br>Taxonomy ID: %{customdata[12]}<extra></extra>",
         "marker": {
          "color": "rgb(63, 69, 135)",
          "size": 6,
          "symbol": "circle"
         },
         "mode": "markers",
         "text": "methionine adenosyltransferase",
         "type": "scatter3d",
         "x": [
          0.06370133113072148
         ],
         "y": [
          0.17429932405112586
         ],
         "z": [
          0.017802718397798522
         ]
        },
        {
         "customdata": [
          [
           "methionine adenosyltransferase",
           null,
           "Archaea",
           null,
           "Euryarchaeota",
           "Thermococci",
           "Thermococcales",
           "Thermococcaceae",
           "Thermococcus",
           "Thermococcus aggregans",
           "2.5.1.6",
           45205,
           "110163",
           0.006558805205811301,
           0.14220660320532977,
           0.01193855383487135,
           -0.005349278566981564
          ]
         ],
         "hovertemplate": "<b>%{customdata[0]}</b><br>Family Name: %{customdata[1]}<br>Domain: %{customdata[2]}<br>Kingdom: %{customdata[3]}</b><br>Phylum: %{customdata[4]}<br>Class: %{customdata[5]}<br>Order: %{customdata[6]}<br>Family: %{customdata[7]}<br>Genus: %{customdata[8]}<br>Species: %{customdata[9]}<br>EC Number: %{customdata[10]}<br>Mol Weight: %{customdata[11]}<br>Taxonomy ID: %{customdata[12]}<extra></extra>",
         "marker": {
          "color": "rgb(248, 230, 37)",
          "size": 6,
          "symbol": "circle"
         },
         "mode": "markers",
         "text": "methionine adenosyltransferase",
         "type": "scatter3d",
         "x": [
          0.14220660320532977
         ],
         "y": [
          0.01193855383487135
         ],
         "z": [
          -0.005349278566981564
         ]
        },
        {
         "customdata": [
          [
           "methionine adenosyltransferase",
           null,
           "Archaea",
           null,
           "Euryarchaeota",
           "Thermococci",
           "Thermococcales",
           "Thermococcaceae",
           "Thermococcus",
           "Thermococcus litoralis",
           "2.5.1.6",
           null,
           "2265",
           0.000515777814296103,
           -0.046701041246529885,
           0.05878440093807913,
           0.010888935298593052
          ]
         ],
         "hovertemplate": "<b>%{customdata[0]}</b><br>Family Name: %{customdata[1]}<br>Domain: %{customdata[2]}<br>Kingdom: %{customdata[3]}</b><br>Phylum: %{customdata[4]}<br>Class: %{customdata[5]}<br>Order: %{customdata[6]}<br>Family: %{customdata[7]}<br>Genus: %{customdata[8]}<br>Species: %{customdata[9]}<br>EC Number: %{customdata[10]}<br>Mol Weight: %{customdata[11]}<br>Taxonomy ID: %{customdata[12]}<extra></extra>",
         "marker": {
          "color": "rgb(36, 140, 140)",
          "size": 6,
          "symbol": "circle"
         },
         "mode": "markers",
         "text": "methionine adenosyltransferase",
         "type": "scatter3d",
         "x": [
          -0.046701041246529885
         ],
         "y": [
          0.05878440093807913
         ],
         "z": [
          0.010888935298593052
         ]
        },
        {
         "customdata": [
          [
           "methionine adenosyltransferase",
           null,
           "Archaea",
           null,
           "Euryarchaeota",
           "Thermococci",
           "Thermococcales",
           "Thermococcaceae",
           "Thermococcus",
           "Thermococcus sp. 2319x1",
           "2.5.1.6",
           45062,
           "1674923",
           0.0012734434550844853,
           0.008649262056815198,
           0.1426524771453794,
           0.04884621260443213
          ]
         ],
         "hovertemplate": "<b>%{customdata[0]}</b><br>Family Name: %{customdata[1]}<br>Domain: %{customdata[2]}<br>Kingdom: %{customdata[3]}</b><br>Phylum: %{customdata[4]}<br>Class: %{customdata[5]}<br>Order: %{customdata[6]}<br>Family: %{customdata[7]}<br>Genus: %{customdata[8]}<br>Species: %{customdata[9]}<br>EC Number: %{customdata[10]}<br>Mol Weight: %{customdata[11]}<br>Taxonomy ID: %{customdata[12]}<extra></extra>",
         "marker": {
          "color": "rgb(63, 69, 135)",
          "size": 6,
          "symbol": "circle"
         },
         "mode": "markers",
         "text": "methionine adenosyltransferase",
         "type": "scatter3d",
         "x": [
          0.008649262056815198
         ],
         "y": [
          0.1426524771453794
         ],
         "z": [
          0.04884621260443213
         ]
        },
        {
         "customdata": [
          [
           "methionine adenosyltransferase",
           null,
           "Archaea",
           null,
           "Euryarchaeota",
           "Thermococci",
           "Thermococcales",
           "Thermococcaceae",
           "Thermococcus",
           "Thermococcus sp. MV5",
           "2.5.1.6",
           45052,
           "1638272",
           0.0028885753977815924,
           0.06964717908333962,
           0.0841591429147073,
           -0.15970974639637897
          ]
         ],
         "hovertemplate": "<b>%{customdata[0]}</b><br>Family Name: %{customdata[1]}<br>Domain: %{customdata[2]}<br>Kingdom: %{customdata[3]}</b><br>Phylum: %{customdata[4]}<br>Class: %{customdata[5]}<br>Order: %{customdata[6]}<br>Family: %{customdata[7]}<br>Genus: %{customdata[8]}<br>Species: %{customdata[9]}<br>EC Number: %{customdata[10]}<br>Mol Weight: %{customdata[11]}<br>Taxonomy ID: %{customdata[12]}<extra></extra>",
         "marker": {
          "color": "rgb(59, 81, 138)",
          "size": 6,
          "symbol": "circle"
         },
         "mode": "markers",
         "text": "methionine adenosyltransferase",
         "type": "scatter3d",
         "x": [
          0.06964717908333962
         ],
         "y": [
          0.0841591429147073
         ],
         "z": [
          -0.15970974639637897
         ]
        },
        {
         "customdata": [
          [
           "methionine adenosyltransferase",
           null,
           "Archaea",
           null,
           "Euryarchaeota",
           "Thermococci",
           "Thermococcales",
           "Thermococcaceae",
           "Thermococcus",
           "Thermococcus argininiproducens",
           "2.5.1.6",
           44980,
           "2866384",
           0.002573847484015141,
           0.10386943982118411,
           0.13076488673517098,
           -0.0029420150185037615
          ]
         ],
         "hovertemplate": "<b>%{customdata[0]}</b><br>Family Name: %{customdata[1]}<br>Domain: %{customdata[2]}<br>Kingdom: %{customdata[3]}</b><br>Phylum: %{customdata[4]}<br>Class: %{customdata[5]}<br>Order: %{customdata[6]}<br>Family: %{customdata[7]}<br>Genus: %{customdata[8]}<br>Species: %{customdata[9]}<br>EC Number: %{customdata[10]}<br>Mol Weight: %{customdata[11]}<br>Taxonomy ID: %{customdata[12]}<extra></extra>",
         "marker": {
          "color": "rgb(43, 118, 142)",
          "size": 6,
          "symbol": "circle"
         },
         "mode": "markers",
         "text": "methionine adenosyltransferase",
         "type": "scatter3d",
         "x": [
          0.10386943982118411
         ],
         "y": [
          0.13076488673517098
         ],
         "z": [
          -0.0029420150185037615
         ]
        },
        {
         "customdata": [
          [
           "methionine adenosyltransferase",
           null,
           "Archaea",
           null,
           "Euryarchaeota",
           "Thermococci",
           "Thermococcales",
           "Thermococcaceae",
           "Thermococcus",
           "Thermococcus sp. EP1",
           "2.5.1.6",
           45063,
           "1591054",
           0.0024320372620531307,
           0.08922546964647884,
           0.15441038332665705,
           0.009180156344869487
          ]
         ],
         "hovertemplate": "<b>%{customdata[0]}</b><br>Family Name: %{customdata[1]}<br>Domain: %{customdata[2]}<br>Kingdom: %{customdata[3]}</b><br>Phylum: %{customdata[4]}<br>Class: %{customdata[5]}<br>Order: %{customdata[6]}<br>Family: %{customdata[7]}<br>Genus: %{customdata[8]}<br>Species: %{customdata[9]}<br>EC Number: %{customdata[10]}<br>Mol Weight: %{customdata[11]}<br>Taxonomy ID: %{customdata[12]}<extra></extra>",
         "marker": {
          "color": "rgb(70, 21, 102)",
          "size": 6,
          "symbol": "circle"
         },
         "mode": "markers",
         "text": "methionine adenosyltransferase",
         "type": "scatter3d",
         "x": [
          0.08922546964647884
         ],
         "y": [
          0.15441038332665705
         ],
         "z": [
          0.009180156344869487
         ]
        },
        {
         "customdata": [
          [
           "S-adenosylmethionine synthetase",
           null,
           "Archaea",
           null,
           "Euryarchaeota",
           "Thermococci",
           "Thermococcales",
           "Thermococcaceae",
           "Thermococcus",
           "Thermococcus sibiricus",
           "2.5.1.6",
           null,
           "604354",
           0.0009659648653725727,
           -0.04505202668837773,
           0.12217545317253165,
           -0.0639287391736623
          ]
         ],
         "hovertemplate": "<b>%{customdata[0]}</b><br>Family Name: %{customdata[1]}<br>Domain: %{customdata[2]}<br>Kingdom: %{customdata[3]}</b><br>Phylum: %{customdata[4]}<br>Class: %{customdata[5]}<br>Order: %{customdata[6]}<br>Family: %{customdata[7]}<br>Genus: %{customdata[8]}<br>Species: %{customdata[9]}<br>EC Number: %{customdata[10]}<br>Mol Weight: %{customdata[11]}<br>Taxonomy ID: %{customdata[12]}<extra></extra>",
         "marker": {
          "color": "rgb(71, 43, 122)",
          "size": 6,
          "symbol": "circle"
         },
         "mode": "markers",
         "text": "S-adenosylmethionine synthetase",
         "type": "scatter3d",
         "x": [
          -0.04505202668837773
         ],
         "y": [
          0.12217545317253165
         ],
         "z": [
          -0.0639287391736623
         ]
        },
        {
         "customdata": [
          [
           "methionine adenosyltransferase",
           null,
           "Archaea",
           null,
           "Euryarchaeota",
           "Thermococci",
           null,
           null,
           null,
           "Thermococci archaeon",
           "2.5.1.6",
           null,
           "2250254",
           0.0005773236351172298,
           -0.004905908809825102,
           0.10047826220919978,
           -0.10211796622205023
          ]
         ],
         "hovertemplate": "<b>%{customdata[0]}</b><br>Family Name: %{customdata[1]}<br>Domain: %{customdata[2]}<br>Kingdom: %{customdata[3]}</b><br>Phylum: %{customdata[4]}<br>Class: %{customdata[5]}<br>Order: %{customdata[6]}<br>Family: %{customdata[7]}<br>Genus: %{customdata[8]}<br>Species: %{customdata[9]}<br>EC Number: %{customdata[10]}<br>Mol Weight: %{customdata[11]}<br>Taxonomy ID: %{customdata[12]}<extra></extra>",
         "marker": {
          "color": "rgb(42, 120, 142)",
          "size": 6,
          "symbol": "circle"
         },
         "mode": "markers",
         "text": "methionine adenosyltransferase",
         "type": "scatter3d",
         "x": [
          -0.004905908809825102
         ],
         "y": [
          0.10047826220919978
         ],
         "z": [
          -0.10211796622205023
         ]
        },
        {
         "customdata": [
          [
           "methionine adenosyltransferase",
           null,
           "Archaea",
           null,
           "Euryarchaeota",
           "Thermococci",
           "Thermococcales",
           "Thermococcaceae",
           "Thermococcus",
           "Thermococcus sp.",
           "2.5.1.6",
           null,
           "35749",
           0.001777149278409307,
           0.12224486274490932,
           0.023850106906048916,
           -0.07844187413103262
          ]
         ],
         "hovertemplate": "<b>%{customdata[0]}</b><br>Family Name: %{customdata[1]}<br>Domain: %{customdata[2]}<br>Kingdom: %{customdata[3]}</b><br>Phylum: %{customdata[4]}<br>Class: %{customdata[5]}<br>Order: %{customdata[6]}<br>Family: %{customdata[7]}<br>Genus: %{customdata[8]}<br>Species: %{customdata[9]}<br>EC Number: %{customdata[10]}<br>Mol Weight: %{customdata[11]}<br>Taxonomy ID: %{customdata[12]}<extra></extra>",
         "marker": {
          "color": "rgb(71, 35, 115)",
          "size": 6,
          "symbol": "circle"
         },
         "mode": "markers",
         "text": "methionine adenosyltransferase",
         "type": "scatter3d",
         "x": [
          0.12224486274490932
         ],
         "y": [
          0.023850106906048916
         ],
         "z": [
          -0.07844187413103262
         ]
        },
        {
         "customdata": [
          [
           "methionine adenosyltransferase",
           null,
           "Archaea",
           null,
           "Euryarchaeota",
           "Thermococci",
           null,
           null,
           null,
           "Thermococci archaeon",
           "2.5.1.6",
           null,
           "2250254",
           0.0018144072637077122,
           0.021190972665828773,
           0.021862384896627025,
           -0.12716342796673946
          ]
         ],
         "hovertemplate": "<b>%{customdata[0]}</b><br>Family Name: %{customdata[1]}<br>Domain: %{customdata[2]}<br>Kingdom: %{customdata[3]}</b><br>Phylum: %{customdata[4]}<br>Class: %{customdata[5]}<br>Order: %{customdata[6]}<br>Family: %{customdata[7]}<br>Genus: %{customdata[8]}<br>Species: %{customdata[9]}<br>EC Number: %{customdata[10]}<br>Mol Weight: %{customdata[11]}<br>Taxonomy ID: %{customdata[12]}<extra></extra>",
         "marker": {
          "color": "rgb(42, 120, 142)",
          "size": 6,
          "symbol": "circle"
         },
         "mode": "markers",
         "text": "methionine adenosyltransferase",
         "type": "scatter3d",
         "x": [
          0.021190972665828773
         ],
         "y": [
          0.021862384896627025
         ],
         "z": [
          -0.12716342796673946
         ]
        },
        {
         "customdata": [
          [
           "methionine adenosyltransferase",
           null,
           "Archaea",
           null,
           "Euryarchaeota",
           "Thermococci",
           "Thermococcales",
           "Thermococcaceae",
           "Thermococcus",
           "Thermococcus sp.",
           "2.5.1.6",
           45047,
           "35749",
           0.0006742155323897652,
           0.1287558399671095,
           0.06490603699712534,
           0.013852952645584164
          ]
         ],
         "hovertemplate": "<b>%{customdata[0]}</b><br>Family Name: %{customdata[1]}<br>Domain: %{customdata[2]}<br>Kingdom: %{customdata[3]}</b><br>Phylum: %{customdata[4]}<br>Class: %{customdata[5]}<br>Order: %{customdata[6]}<br>Family: %{customdata[7]}<br>Genus: %{customdata[8]}<br>Species: %{customdata[9]}<br>EC Number: %{customdata[10]}<br>Mol Weight: %{customdata[11]}<br>Taxonomy ID: %{customdata[12]}<extra></extra>",
         "marker": {
          "color": "rgb(71, 35, 115)",
          "size": 6,
          "symbol": "circle"
         },
         "mode": "markers",
         "text": "methionine adenosyltransferase",
         "type": "scatter3d",
         "x": [
          0.1287558399671095
         ],
         "y": [
          0.06490603699712534
         ],
         "z": [
          0.013852952645584164
         ]
        },
        {
         "customdata": [
          [
           "methionine adenosyltransferase",
           null,
           "Archaea",
           null,
           "Euryarchaeota",
           "Thermococci",
           null,
           null,
           null,
           "Thermococci archaeon",
           "2.5.1.6",
           null,
           "2250254",
           0.0028090201840060788,
           -0.021925378464537033,
           0.17211166025576788,
           -0.0655465401771077
          ]
         ],
         "hovertemplate": "<b>%{customdata[0]}</b><br>Family Name: %{customdata[1]}<br>Domain: %{customdata[2]}<br>Kingdom: %{customdata[3]}</b><br>Phylum: %{customdata[4]}<br>Class: %{customdata[5]}<br>Order: %{customdata[6]}<br>Family: %{customdata[7]}<br>Genus: %{customdata[8]}<br>Species: %{customdata[9]}<br>EC Number: %{customdata[10]}<br>Mol Weight: %{customdata[11]}<br>Taxonomy ID: %{customdata[12]}<extra></extra>",
         "marker": {
          "color": "rgb(42, 120, 142)",
          "size": 6,
          "symbol": "circle"
         },
         "mode": "markers",
         "text": "methionine adenosyltransferase",
         "type": "scatter3d",
         "x": [
          -0.021925378464537033
         ],
         "y": [
          0.17211166025576788
         ],
         "z": [
          -0.0655465401771077
         ]
        },
        {
         "customdata": [
          [
           "methionine adenosyltransferase",
           null,
           "Archaea",
           null,
           "Euryarchaeota",
           "Thermococci",
           "Thermococcales",
           "Thermococcaceae",
           null,
           "Thermococcus",
           "2.5.1.6",
           45161,
           "2263",
           0.0009659648653725727,
           0.041480841219591294,
           0.1294673894583062,
           0.04541334936938895
          ]
         ],
         "hovertemplate": "<b>%{customdata[0]}</b><br>Family Name: %{customdata[1]}<br>Domain: %{customdata[2]}<br>Kingdom: %{customdata[3]}</b><br>Phylum: %{customdata[4]}<br>Class: %{customdata[5]}<br>Order: %{customdata[6]}<br>Family: %{customdata[7]}<br>Genus: %{customdata[8]}<br>Species: %{customdata[9]}<br>EC Number: %{customdata[10]}<br>Mol Weight: %{customdata[11]}<br>Taxonomy ID: %{customdata[12]}<extra></extra>",
         "marker": {
          "color": "rgb(60, 78, 138)",
          "size": 6,
          "symbol": "circle"
         },
         "mode": "markers",
         "text": "methionine adenosyltransferase",
         "type": "scatter3d",
         "x": [
          0.041480841219591294
         ],
         "y": [
          0.1294673894583062
         ],
         "z": [
          0.04541334936938895
         ]
        },
        {
         "customdata": [
          [
           "methionine adenosyltransferase",
           null,
           "Archaea",
           null,
           "Euryarchaeota",
           "Thermococci",
           null,
           null,
           null,
           "Thermococci archaeon",
           "2.5.1.6",
           null,
           "2250254",
           0.0006635802105412196,
           -0.011323745110435993,
           0.05442747828359479,
           -0.04391896699524144
          ]
         ],
         "hovertemplate": "<b>%{customdata[0]}</b><br>Family Name: %{customdata[1]}<br>Domain: %{customdata[2]}<br>Kingdom: %{customdata[3]}</b><br>Phylum: %{customdata[4]}<br>Class: %{customdata[5]}<br>Order: %{customdata[6]}<br>Family: %{customdata[7]}<br>Genus: %{customdata[8]}<br>Species: %{customdata[9]}<br>EC Number: %{customdata[10]}<br>Mol Weight: %{customdata[11]}<br>Taxonomy ID: %{customdata[12]}<extra></extra>",
         "marker": {
          "color": "rgb(42, 120, 142)",
          "size": 6,
          "symbol": "circle"
         },
         "mode": "markers",
         "text": "methionine adenosyltransferase",
         "type": "scatter3d",
         "x": [
          -0.011323745110435993
         ],
         "y": [
          0.05442747828359479
         ],
         "z": [
          -0.04391896699524144
         ]
        },
        {
         "customdata": [
          [
           "methionine adenosyltransferase",
           null,
           "Archaea",
           null,
           "Euryarchaeota",
           "Thermococci",
           "Thermococcales",
           "Thermococcaceae",
           "Palaeococcus",
           "Palaeococcus pacificus",
           "2.5.1.6",
           45068,
           "971279",
           0.004302195636582812,
           0.04314792351597866,
           0.0001371059775304057,
           -0.14773132531570185
          ]
         ],
         "hovertemplate": "<b>%{customdata[0]}</b><br>Family Name: %{customdata[1]}<br>Domain: %{customdata[2]}<br>Kingdom: %{customdata[3]}</b><br>Phylum: %{customdata[4]}<br>Class: %{customdata[5]}<br>Order: %{customdata[6]}<br>Family: %{customdata[7]}<br>Genus: %{customdata[8]}<br>Species: %{customdata[9]}<br>EC Number: %{customdata[10]}<br>Mol Weight: %{customdata[11]}<br>Taxonomy ID: %{customdata[12]}<extra></extra>",
         "marker": {
          "color": "rgb(31, 156, 137)",
          "size": 6,
          "symbol": "circle"
         },
         "mode": "markers",
         "text": "methionine adenosyltransferase",
         "type": "scatter3d",
         "x": [
          0.04314792351597866
         ],
         "y": [
          0.0001371059775304057
         ],
         "z": [
          -0.14773132531570185
         ]
        },
        {
         "customdata": [
          [
           "methionine adenosyltransferase",
           null,
           "Archaea",
           null,
           "Euryarchaeota",
           "Thermococci",
           "Thermococcales",
           "Thermococcaceae",
           "Palaeococcus",
           "Palaeococcus ferrophilus",
           "2.5.1.6",
           44895,
           "83868",
           0.002901013187238019,
           0.09653871541578589,
           -0.0003937781778966983,
           -0.13800905132042451
          ]
         ],
         "hovertemplate": "<b>%{customdata[0]}</b><br>Family Name: %{customdata[1]}<br>Domain: %{customdata[2]}<br>Kingdom: %{customdata[3]}</b><br>Phylum: %{customdata[4]}<br>Class: %{customdata[5]}<br>Order: %{customdata[6]}<br>Family: %{customdata[7]}<br>Genus: %{customdata[8]}<br>Species: %{customdata[9]}<br>EC Number: %{customdata[10]}<br>Mol Weight: %{customdata[11]}<br>Taxonomy ID: %{customdata[12]}<extra></extra>",
         "marker": {
          "color": "rgb(201, 224, 41)",
          "size": 6,
          "symbol": "circle"
         },
         "mode": "markers",
         "text": "methionine adenosyltransferase",
         "type": "scatter3d",
         "x": [
          0.09653871541578589
         ],
         "y": [
          -0.0003937781778966983
         ],
         "z": [
          -0.13800905132042451
         ]
        },
        {
         "customdata": [
          [
           "methionine adenosyltransferase",
           null,
           "Archaea",
           null,
           "Euryarchaeota",
           "Thermococci",
           "Thermococcales",
           "Thermococcaceae",
           "Pyrococcus",
           "Pyrococcus sp. ST04",
           "2.5.1.6",
           44187,
           "1183377",
           0.0020266194545405913,
           0.04184378652964044,
           0.10276196203327348,
           -0.13009422208226665
          ]
         ],
         "hovertemplate": "<b>%{customdata[0]}</b><br>Family Name: %{customdata[1]}<br>Domain: %{customdata[2]}<br>Kingdom: %{customdata[3]}</b><br>Phylum: %{customdata[4]}<br>Class: %{customdata[5]}<br>Order: %{customdata[6]}<br>Family: %{customdata[7]}<br>Genus: %{customdata[8]}<br>Species: %{customdata[9]}<br>EC Number: %{customdata[10]}<br>Mol Weight: %{customdata[11]}<br>Taxonomy ID: %{customdata[12]}<extra></extra>",
         "marker": {
          "color": "rgb(144, 214, 67)",
          "size": 6,
          "symbol": "circle"
         },
         "mode": "markers",
         "text": "methionine adenosyltransferase",
         "type": "scatter3d",
         "x": [
          0.04184378652964044
         ],
         "y": [
          0.10276196203327348
         ],
         "z": [
          -0.13009422208226665
         ]
        },
        {
         "customdata": [
          [
           "methionine adenosyltransferase",
           null,
           "Archaea",
           null,
           "Euryarchaeota",
           "Thermococci",
           "Thermococcales",
           "Thermococcaceae",
           "Pyrococcus",
           "Pyrococcus yayanosii",
           "2.5.1.6",
           44326,
           "1008460",
           0.003365125779151867,
           -0.00202314313171357,
           0.16174544773313157,
           -0.11020280684008332
          ]
         ],
         "hovertemplate": "<b>%{customdata[0]}</b><br>Family Name: %{customdata[1]}<br>Domain: %{customdata[2]}<br>Kingdom: %{customdata[3]}</b><br>Phylum: %{customdata[4]}<br>Class: %{customdata[5]}<br>Order: %{customdata[6]}<br>Family: %{customdata[7]}<br>Genus: %{customdata[8]}<br>Species: %{customdata[9]}<br>EC Number: %{customdata[10]}<br>Mol Weight: %{customdata[11]}<br>Taxonomy ID: %{customdata[12]}<extra></extra>",
         "marker": {
          "color": "rgb(222, 227, 40)",
          "size": 6,
          "symbol": "circle"
         },
         "mode": "markers",
         "text": "methionine adenosyltransferase",
         "type": "scatter3d",
         "x": [
          -0.00202314313171357
         ],
         "y": [
          0.16174544773313157
         ],
         "z": [
          -0.11020280684008332
         ]
        },
        {
         "customdata": [
          [
           "methionine adenosyltransferase",
           null,
           "Archaea",
           null,
           "Euryarchaeota",
           "Thermococci",
           null,
           null,
           null,
           "Thermococci archaeon",
           "2.5.1.6",
           null,
           "2250254",
           0.0008898677226412726,
           -0.035213302094749085,
           0.14803732615676168,
           -0.11045279476631771
          ]
         ],
         "hovertemplate": "<b>%{customdata[0]}</b><br>Family Name: %{customdata[1]}<br>Domain: %{customdata[2]}<br>Kingdom: %{customdata[3]}</b><br>Phylum: %{customdata[4]}<br>Class: %{customdata[5]}<br>Order: %{customdata[6]}<br>Family: %{customdata[7]}<br>Genus: %{customdata[8]}<br>Species: %{customdata[9]}<br>EC Number: %{customdata[10]}<br>Mol Weight: %{customdata[11]}<br>Taxonomy ID: %{customdata[12]}<extra></extra>",
         "marker": {
          "color": "rgb(42, 120, 142)",
          "size": 6,
          "symbol": "circle"
         },
         "mode": "markers",
         "text": "methionine adenosyltransferase",
         "type": "scatter3d",
         "x": [
          -0.035213302094749085
         ],
         "y": [
          0.14803732615676168
         ],
         "z": [
          -0.11045279476631771
         ]
        },
        {
         "customdata": [
          [
           "methionine adenosyltransferase",
           null,
           "Archaea",
           null,
           "Euryarchaeota",
           "Thermococci",
           "Thermococcales",
           "Thermococcaceae",
           "Pyrococcus",
           "Pyrococcus kukulkanii",
           "2.5.1.6",
           44273,
           "1609559",
           0.006271684232713308,
           0.04447183902203648,
           0.13445999183354965,
           -0.12714600225152167
          ]
         ],
         "hovertemplate": "<b>%{customdata[0]}</b><br>Family Name: %{customdata[1]}<br>Domain: %{customdata[2]}<br>Kingdom: %{customdata[3]}</b><br>Phylum: %{customdata[4]}<br>Class: %{customdata[5]}<br>Order: %{customdata[6]}<br>Family: %{customdata[7]}<br>Genus: %{customdata[8]}<br>Species: %{customdata[9]}<br>EC Number: %{customdata[10]}<br>Mol Weight: %{customdata[11]}<br>Taxonomy ID: %{customdata[12]}<extra></extra>",
         "marker": {
          "color": "rgb(38, 130, 142)",
          "size": 6,
          "symbol": "circle"
         },
         "mode": "markers",
         "text": "methionine adenosyltransferase",
         "type": "scatter3d",
         "x": [
          0.04447183902203648
         ],
         "y": [
          0.13445999183354965
         ],
         "z": [
          -0.12714600225152167
         ]
        },
        {
         "customdata": [
          [
           "methionine adenosyltransferase",
           null,
           "Archaea",
           null,
           "Euryarchaeota",
           "Thermococci",
           "Thermococcales",
           "Thermococcaceae",
           "Thermococcus",
           "Thermococcus chitonophagus",
           "2.5.1.6",
           44200,
           "54262",
           0.0016120648122409124,
           -0.009116680237649406,
           0.15604391398239498,
           -0.15343793699880312
          ]
         ],
         "hovertemplate": "<b>%{customdata[0]}</b><br>Family Name: %{customdata[1]}<br>Domain: %{customdata[2]}<br>Kingdom: %{customdata[3]}</b><br>Phylum: %{customdata[4]}<br>Class: %{customdata[5]}<br>Order: %{customdata[6]}<br>Family: %{customdata[7]}<br>Genus: %{customdata[8]}<br>Species: %{customdata[9]}<br>EC Number: %{customdata[10]}<br>Mol Weight: %{customdata[11]}<br>Taxonomy ID: %{customdata[12]}<extra></extra>",
         "marker": {
          "color": "rgb(75, 192, 108)",
          "size": 6,
          "symbol": "circle"
         },
         "mode": "markers",
         "text": "methionine adenosyltransferase",
         "type": "scatter3d",
         "x": [
          -0.009116680237649406
         ],
         "y": [
          0.15604391398239498
         ],
         "z": [
          -0.15343793699880312
         ]
        },
        {
         "customdata": [
          [
           "methionine adenosyltransferase",
           null,
           "Archaea",
           null,
           "Euryarchaeota",
           "Thermococci",
           null,
           null,
           null,
           "Thermococci archaeon",
           "2.5.1.6",
           null,
           "2250254",
           0.0019549367497661806,
           -0.052787741350028776,
           0.016410189053334197,
           -0.10541545883280969
          ]
         ],
         "hovertemplate": "<b>%{customdata[0]}</b><br>Family Name: %{customdata[1]}<br>Domain: %{customdata[2]}<br>Kingdom: %{customdata[3]}</b><br>Phylum: %{customdata[4]}<br>Class: %{customdata[5]}<br>Order: %{customdata[6]}<br>Family: %{customdata[7]}<br>Genus: %{customdata[8]}<br>Species: %{customdata[9]}<br>EC Number: %{customdata[10]}<br>Mol Weight: %{customdata[11]}<br>Taxonomy ID: %{customdata[12]}<extra></extra>",
         "marker": {
          "color": "rgb(42, 120, 142)",
          "size": 6,
          "symbol": "circle"
         },
         "mode": "markers",
         "text": "methionine adenosyltransferase",
         "type": "scatter3d",
         "x": [
          -0.052787741350028776
         ],
         "y": [
          0.016410189053334197
         ],
         "z": [
          -0.10541545883280969
         ]
        },
        {
         "customdata": [
          [
           "methionine adenosyltransferase",
           null,
           "Archaea",
           null,
           "Euryarchaeota",
           "Thermococci",
           "Thermococcales",
           "Thermococcaceae",
           null,
           "Pyrococcus",
           "2.5.1.6",
           44150,
           "2260",
           0.002147255785456271,
           0.011857015966475341,
           0.18608252130119224,
           -0.14687584063916923
          ]
         ],
         "hovertemplate": "<b>%{customdata[0]}</b><br>Family Name: %{customdata[1]}<br>Domain: %{customdata[2]}<br>Kingdom: %{customdata[3]}</b><br>Phylum: %{customdata[4]}<br>Class: %{customdata[5]}<br>Order: %{customdata[6]}<br>Family: %{customdata[7]}<br>Genus: %{customdata[8]}<br>Species: %{customdata[9]}<br>EC Number: %{customdata[10]}<br>Mol Weight: %{customdata[11]}<br>Taxonomy ID: %{customdata[12]}<extra></extra>",
         "marker": {
          "color": "rgb(69, 50, 125)",
          "size": 6,
          "symbol": "circle"
         },
         "mode": "markers",
         "text": "methionine adenosyltransferase",
         "type": "scatter3d",
         "x": [
          0.011857015966475341
         ],
         "y": [
          0.18608252130119224
         ],
         "z": [
          -0.14687584063916923
         ]
        },
        {
         "customdata": [
          [
           "methionine adenosyltransferase",
           null,
           "Archaea",
           null,
           "Euryarchaeota",
           "Thermococci",
           "Thermococcales",
           "Thermococcaceae",
           "Pyrococcus",
           "Pyrococcus sp. NA2",
           "2.5.1.6",
           44177,
           "342949",
           0.00021765335433369826,
           -0.07294185911706183,
           0.0843467094675998,
           -0.04624417667815372
          ]
         ],
         "hovertemplate": "<b>%{customdata[0]}</b><br>Family Name: %{customdata[1]}<br>Domain: %{customdata[2]}<br>Kingdom: %{customdata[3]}</b><br>Phylum: %{customdata[4]}<br>Class: %{customdata[5]}<br>Order: %{customdata[6]}<br>Family: %{customdata[7]}<br>Genus: %{customdata[8]}<br>Species: %{customdata[9]}<br>EC Number: %{customdata[10]}<br>Mol Weight: %{customdata[11]}<br>Taxonomy ID: %{customdata[12]}<extra></extra>",
         "marker": {
          "color": "rgb(53, 94, 140)",
          "size": 6,
          "symbol": "circle"
         },
         "mode": "markers",
         "text": "methionine adenosyltransferase",
         "type": "scatter3d",
         "x": [
          -0.07294185911706183
         ],
         "y": [
          0.0843467094675998
         ],
         "z": [
          -0.04624417667815372
         ]
        },
        {
         "customdata": [
          [
           "methionine adenosyltransferase",
           null,
           "Archaea",
           null,
           "Euryarchaeota",
           "Thermococci",
           "Thermococcales",
           "Thermococcaceae",
           "Palaeococcus",
           "Palaeococcus sp. (in: euryarchaeotes)",
           "2.5.1.6",
           45050,
           "2820298",
           0.001543329097431631,
           0.035316830579125845,
           0.04976628356813571,
           -0.10198254249369178
          ]
         ],
         "hovertemplate": "<b>%{customdata[0]}</b><br>Family Name: %{customdata[1]}<br>Domain: %{customdata[2]}<br>Kingdom: %{customdata[3]}</b><br>Phylum: %{customdata[4]}<br>Class: %{customdata[5]}<br>Order: %{customdata[6]}<br>Family: %{customdata[7]}<br>Genus: %{customdata[8]}<br>Species: %{customdata[9]}<br>EC Number: %{customdata[10]}<br>Mol Weight: %{customdata[11]}<br>Taxonomy ID: %{customdata[12]}<extra></extra>",
         "marker": {
          "color": "rgb(39, 167, 131)",
          "size": 6,
          "symbol": "circle"
         },
         "mode": "markers",
         "text": "methionine adenosyltransferase",
         "type": "scatter3d",
         "x": [
          0.035316830579125845
         ],
         "y": [
          0.04976628356813571
         ],
         "z": [
          -0.10198254249369178
         ]
        },
        {
         "customdata": [
          [
           "methionine adenosyltransferase",
           null,
           "Archaea",
           null,
           "Euryarchaeota",
           "Thermococci",
           null,
           null,
           null,
           "Thermococci archaeon",
           "2.5.1.6",
           null,
           "2250254",
           0.0008147332281752727,
           -0.011857088800016275,
           0.06995754496613026,
           -0.06812726088828737
          ]
         ],
         "hovertemplate": "<b>%{customdata[0]}</b><br>Family Name: %{customdata[1]}<br>Domain: %{customdata[2]}<br>Kingdom: %{customdata[3]}</b><br>Phylum: %{customdata[4]}<br>Class: %{customdata[5]}<br>Order: %{customdata[6]}<br>Family: %{customdata[7]}<br>Genus: %{customdata[8]}<br>Species: %{customdata[9]}<br>EC Number: %{customdata[10]}<br>Mol Weight: %{customdata[11]}<br>Taxonomy ID: %{customdata[12]}<extra></extra>",
         "marker": {
          "color": "rgb(42, 120, 142)",
          "size": 6,
          "symbol": "circle"
         },
         "mode": "markers",
         "text": "methionine adenosyltransferase",
         "type": "scatter3d",
         "x": [
          -0.011857088800016275
         ],
         "y": [
          0.06995754496613026
         ],
         "z": [
          -0.06812726088828737
         ]
        },
        {
         "customdata": [
          [
           "S-adenosylmethionine synthetase (EC 2.5.1.6)",
           null,
           "Archaea",
           null,
           "Euryarchaeota",
           "Thermococci",
           "Thermococcales",
           "Thermococcaceae",
           "Pyrococcus",
           "Pyrococcus abyssi",
           null,
           null,
           "272844",
           0.0016531906454113742,
           -0.009200671724305607,
           0.16613967346906416,
           -0.03208423622822123
          ]
         ],
         "hovertemplate": "<b>%{customdata[0]}</b><br>Family Name: %{customdata[1]}<br>Domain: %{customdata[2]}<br>Kingdom: %{customdata[3]}</b><br>Phylum: %{customdata[4]}<br>Class: %{customdata[5]}<br>Order: %{customdata[6]}<br>Family: %{customdata[7]}<br>Genus: %{customdata[8]}<br>Species: %{customdata[9]}<br>EC Number: %{customdata[10]}<br>Mol Weight: %{customdata[11]}<br>Taxonomy ID: %{customdata[12]}<extra></extra>",
         "marker": {
          "color": "rgb(51, 99, 141)",
          "size": 6,
          "symbol": "circle"
         },
         "mode": "markers",
         "text": "S-adenosylmethionine synthetase (EC 2.5.1.6)",
         "type": "scatter3d",
         "x": [
          -0.009200671724305607
         ],
         "y": [
          0.16613967346906416
         ],
         "z": [
          -0.03208423622822123
         ]
        },
        {
         "customdata": [
          [
           "methionine adenosyltransferase",
           null,
           "Archaea",
           null,
           "Euryarchaeota",
           "Thermococci",
           "Thermococcales",
           "Thermococcaceae",
           "Pyrococcus",
           "Pyrococcus abyssi",
           "2.5.1.6",
           44058,
           "29292",
           0.0016531906454113742,
           0.02343616979537212,
           0.06336773901386505,
           0.010688650038967124
          ]
         ],
         "hovertemplate": "<b>%{customdata[0]}</b><br>Family Name: %{customdata[1]}<br>Domain: %{customdata[2]}<br>Kingdom: %{customdata[3]}</b><br>Phylum: %{customdata[4]}<br>Class: %{customdata[5]}<br>Order: %{customdata[6]}<br>Family: %{customdata[7]}<br>Genus: %{customdata[8]}<br>Species: %{customdata[9]}<br>EC Number: %{customdata[10]}<br>Mol Weight: %{customdata[11]}<br>Taxonomy ID: %{customdata[12]}<extra></extra>",
         "marker": {
          "color": "rgb(47, 109, 142)",
          "size": 6,
          "symbol": "circle"
         },
         "mode": "markers",
         "text": "methionine adenosyltransferase",
         "type": "scatter3d",
         "x": [
          0.02343616979537212
         ],
         "y": [
          0.06336773901386505
         ],
         "z": [
          0.010688650038967124
         ]
        },
        {
         "customdata": [
          [
           "404aa long hypothetical protein",
           null,
           "Archaea",
           null,
           "Euryarchaeota",
           "Thermococci",
           "Thermococcales",
           "Thermococcaceae",
           "Pyrococcus",
           "Pyrococcus horikoshii",
           null,
           null,
           "70601",
           0.00015047406446253863,
           0.018729562259272126,
           0.18414215356885974,
           -0.04903331997022246
          ]
         ],
         "hovertemplate": "<b>%{customdata[0]}</b><br>Family Name: %{customdata[1]}<br>Domain: %{customdata[2]}<br>Kingdom: %{customdata[3]}</b><br>Phylum: %{customdata[4]}<br>Class: %{customdata[5]}<br>Order: %{customdata[6]}<br>Family: %{customdata[7]}<br>Genus: %{customdata[8]}<br>Species: %{customdata[9]}<br>EC Number: %{customdata[10]}<br>Mol Weight: %{customdata[11]}<br>Taxonomy ID: %{customdata[12]}<extra></extra>",
         "marker": {
          "color": "rgb(104, 204, 91)",
          "size": 6,
          "symbol": "circle"
         },
         "mode": "markers",
         "text": "404aa long hypothetical protein",
         "type": "scatter3d",
         "x": [
          0.018729562259272126
         ],
         "y": [
          0.18414215356885974
         ],
         "z": [
          -0.04903331997022246
         ]
        },
        {
         "customdata": [
          [
           "methionine adenosyltransferase",
           null,
           "Archaea",
           null,
           "Euryarchaeota",
           "Thermococci",
           "Thermococcales",
           "Thermococcaceae",
           "Pyrococcus",
           "Pyrococcus horikoshii",
           "2.5.1.6",
           43845,
           "53953",
           0.00015047406446253863,
           0.12375880687538866,
           0.09273590409163493,
           -0.1330012682065417
          ]
         ],
         "hovertemplate": "<b>%{customdata[0]}</b><br>Family Name: %{customdata[1]}<br>Domain: %{customdata[2]}<br>Kingdom: %{customdata[3]}</b><br>Phylum: %{customdata[4]}<br>Class: %{customdata[5]}<br>Order: %{customdata[6]}<br>Family: %{customdata[7]}<br>Genus: %{customdata[8]}<br>Species: %{customdata[9]}<br>EC Number: %{customdata[10]}<br>Mol Weight: %{customdata[11]}<br>Taxonomy ID: %{customdata[12]}<extra></extra>",
         "marker": {
          "color": "rgb(69, 9, 92)",
          "size": 6,
          "symbol": "circle"
         },
         "mode": "markers",
         "text": "methionine adenosyltransferase",
         "type": "scatter3d",
         "x": [
          0.12375880687538866
         ],
         "y": [
          0.09273590409163493
         ],
         "z": [
          -0.1330012682065417
         ]
        },
        {
         "customdata": [
          [
           "methionine adenosyltransferase",
           null,
           "Archaea",
           null,
           "Euryarchaeota",
           "Thermococci",
           "Thermococcales",
           "Thermococcaceae",
           "Thermococcus",
           "Thermococcus sp.",
           null,
           null,
           "35749",
           0.000017923231818796605,
           -0.06352767545612417,
           0.09601535844791421,
           0.021561763286217176
          ]
         ],
         "hovertemplate": "<b>%{customdata[0]}</b><br>Family Name: %{customdata[1]}<br>Domain: %{customdata[2]}<br>Kingdom: %{customdata[3]}</b><br>Phylum: %{customdata[4]}<br>Class: %{customdata[5]}<br>Order: %{customdata[6]}<br>Family: %{customdata[7]}<br>Genus: %{customdata[8]}<br>Species: %{customdata[9]}<br>EC Number: %{customdata[10]}<br>Mol Weight: %{customdata[11]}<br>Taxonomy ID: %{customdata[12]}<extra></extra>",
         "marker": {
          "color": "rgb(71, 35, 115)",
          "size": 6,
          "symbol": "circle"
         },
         "mode": "markers",
         "text": "methionine adenosyltransferase",
         "type": "scatter3d",
         "x": [
          -0.06352767545612417
         ],
         "y": [
          0.09601535844791421
         ],
         "z": [
          0.021561763286217176
         ]
        },
        {
         "customdata": [
          [
           "methionine adenosyltransferase",
           null,
           "Archaea",
           null,
           "Euryarchaeota",
           "Thermococci",
           "Thermococcales",
           "Thermococcaceae",
           "Thermococcus",
           "Thermococcus sp.",
           null,
           null,
           "35749",
           0,
           -0.019516339832876418,
           0.06911462562827451,
           0.11904398160251588
          ]
         ],
         "hovertemplate": "<b>%{customdata[0]}</b><br>Family Name: %{customdata[1]}<br>Domain: %{customdata[2]}<br>Kingdom: %{customdata[3]}</b><br>Phylum: %{customdata[4]}<br>Class: %{customdata[5]}<br>Order: %{customdata[6]}<br>Family: %{customdata[7]}<br>Genus: %{customdata[8]}<br>Species: %{customdata[9]}<br>EC Number: %{customdata[10]}<br>Mol Weight: %{customdata[11]}<br>Taxonomy ID: %{customdata[12]}<extra></extra>",
         "marker": {
          "color": "rgb(71, 35, 115)",
          "size": 6,
          "symbol": "circle"
         },
         "mode": "markers",
         "text": "methionine adenosyltransferase",
         "type": "scatter3d",
         "x": [
          -0.019516339832876418
         ],
         "y": [
          0.06911462562827451
         ],
         "z": [
          0.11904398160251588
         ]
        },
        {
         "customdata": [
          [
           "methionine adenosyltransferase",
           null,
           "Archaea",
           null,
           "Euryarchaeota",
           null,
           null,
           null,
           null,
           "Euryarchaeota archaeon",
           "2.5.1.6",
           null,
           "2026739",
           0.0031160366263334356,
           -0.07957345942371301,
           0.09692584973468721,
           -0.1968176824338711
          ]
         ],
         "hovertemplate": "<b>%{customdata[0]}</b><br>Family Name: %{customdata[1]}<br>Domain: %{customdata[2]}<br>Kingdom: %{customdata[3]}</b><br>Phylum: %{customdata[4]}<br>Class: %{customdata[5]}<br>Order: %{customdata[6]}<br>Family: %{customdata[7]}<br>Genus: %{customdata[8]}<br>Species: %{customdata[9]}<br>EC Number: %{customdata[10]}<br>Mol Weight: %{customdata[11]}<br>Taxonomy ID: %{customdata[12]}<extra></extra>",
         "marker": {
          "color": "rgb(65, 62, 131)",
          "size": 6,
          "symbol": "circle"
         },
         "mode": "markers",
         "text": "methionine adenosyltransferase",
         "type": "scatter3d",
         "x": [
          -0.07957345942371301
         ],
         "y": [
          0.09692584973468721
         ],
         "z": [
          -0.1968176824338711
         ]
        },
        {
         "customdata": [
          [
           "methionine adenosyltransferase",
           null,
           "Archaea",
           null,
           "Euryarchaeota",
           "Methanococci",
           "Methanococcales",
           "Methanocaldococcaceae",
           "Methanocaldococcus",
           "Methanocaldococcus villosus",
           "2.5.1.6",
           45056,
           "667126",
           0.0006269562515374568,
           0.1083117745628321,
           0.11655125142690587,
           -0.16090516774612149
          ]
         ],
         "hovertemplate": "<b>%{customdata[0]}</b><br>Family Name: %{customdata[1]}<br>Domain: %{customdata[2]}<br>Kingdom: %{customdata[3]}</b><br>Phylum: %{customdata[4]}<br>Class: %{customdata[5]}<br>Order: %{customdata[6]}<br>Family: %{customdata[7]}<br>Genus: %{customdata[8]}<br>Species: %{customdata[9]}<br>EC Number: %{customdata[10]}<br>Mol Weight: %{customdata[11]}<br>Taxonomy ID: %{customdata[12]}<extra></extra>",
         "marker": {
          "color": "rgb(164, 218, 54)",
          "size": 6,
          "symbol": "circle"
         },
         "mode": "markers",
         "text": "methionine adenosyltransferase",
         "type": "scatter3d",
         "x": [
          0.1083117745628321
         ],
         "y": [
          0.11655125142690587
         ],
         "z": [
          -0.16090516774612149
         ]
        },
        {
         "customdata": [
          [
           "S-adenosylmethionine synthetase",
           null,
           "Archaea",
           null,
           "Candidatus Diapherotrites",
           null,
           null,
           null,
           null,
           "Candidatus Diapherotrites archaeon",
           null,
           null,
           "2026736",
           0.0008158539309761262,
           0.2423856941755324,
           0.09299882174306334,
           0.051990797581702435
          ]
         ],
         "hovertemplate": "<b>%{customdata[0]}</b><br>Family Name: %{customdata[1]}<br>Domain: %{customdata[2]}<br>Kingdom: %{customdata[3]}</b><br>Phylum: %{customdata[4]}<br>Class: %{customdata[5]}<br>Order: %{customdata[6]}<br>Family: %{customdata[7]}<br>Genus: %{customdata[8]}<br>Species: %{customdata[9]}<br>EC Number: %{customdata[10]}<br>Mol Weight: %{customdata[11]}<br>Taxonomy ID: %{customdata[12]}<extra></extra>",
         "marker": {
          "color": "rgb(47, 176, 125)",
          "size": 6,
          "symbol": "circle"
         },
         "mode": "markers",
         "text": "S-adenosylmethionine synthetase",
         "type": "scatter3d",
         "x": [
          0.2423856941755324
         ],
         "y": [
          0.09299882174306334
         ],
         "z": [
          0.051990797581702435
         ]
        },
        {
         "customdata": [
          [
           "methionine adenosyltransferase",
           null,
           "Archaea",
           null,
           "Euryarchaeota",
           "Methanococci",
           "Methanococcales",
           "Methanocaldococcaceae",
           "Methanocaldococcus",
           "Methanocaldococcus infernus",
           "2.5.1.6",
           45193,
           "67760",
           0.00014350813787613077,
           0.20117816032769145,
           0.11937310858765629,
           -0.1158624761626947
          ]
         ],
         "hovertemplate": "<b>%{customdata[0]}</b><br>Family Name: %{customdata[1]}<br>Domain: %{customdata[2]}<br>Kingdom: %{customdata[3]}</b><br>Phylum: %{customdata[4]}<br>Class: %{customdata[5]}<br>Order: %{customdata[6]}<br>Family: %{customdata[7]}<br>Genus: %{customdata[8]}<br>Species: %{customdata[9]}<br>EC Number: %{customdata[10]}<br>Mol Weight: %{customdata[11]}<br>Taxonomy ID: %{customdata[12]}<extra></extra>",
         "marker": {
          "color": "rgb(237, 229, 38)",
          "size": 6,
          "symbol": "circle"
         },
         "mode": "markers",
         "text": "methionine adenosyltransferase",
         "type": "scatter3d",
         "x": [
          0.20117816032769145
         ],
         "y": [
          0.11937310858765629
         ],
         "z": [
          -0.1158624761626947
         ]
        },
        {
         "customdata": [
          [
           "methionine adenosyltransferase",
           null,
           "Archaea",
           null,
           "Euryarchaeota",
           "Methanococci",
           "Methanococcales",
           "Methanocaldococcaceae",
           "Methanocaldococcus",
           "Methanocaldococcus sp. FS406-22",
           "2.5.1.6",
           45143,
           "644281",
           0.00007337929972469209,
           0.09972674704394889,
           0.2495619574089005,
           -0.10426767173092187
          ]
         ],
         "hovertemplate": "<b>%{customdata[0]}</b><br>Family Name: %{customdata[1]}<br>Domain: %{customdata[2]}<br>Kingdom: %{customdata[3]}</b><br>Phylum: %{customdata[4]}<br>Class: %{customdata[5]}<br>Order: %{customdata[6]}<br>Family: %{customdata[7]}<br>Genus: %{customdata[8]}<br>Species: %{customdata[9]}<br>EC Number: %{customdata[10]}<br>Mol Weight: %{customdata[11]}<br>Taxonomy ID: %{customdata[12]}<extra></extra>",
         "marker": {
          "color": "rgb(42, 171, 129)",
          "size": 6,
          "symbol": "circle"
         },
         "mode": "markers",
         "text": "methionine adenosyltransferase",
         "type": "scatter3d",
         "x": [
          0.09972674704394889
         ],
         "y": [
          0.2495619574089005
         ],
         "z": [
          -0.10426767173092187
         ]
        },
        {
         "customdata": [
          [
           "methionine adenosyltransferase",
           null,
           "Archaea",
           null,
           "Euryarchaeota",
           "Archaeoglobi",
           "Archaeoglobales",
           null,
           null,
           "Archaeoglobales archaeon",
           "2.5.1.6",
           null,
           "2250258",
           0.028133299802179743,
           0.030963361775305277,
           -0.2747876207514188,
           0.13572134866097993
          ]
         ],
         "hovertemplate": "<b>%{customdata[0]}</b><br>Family Name: %{customdata[1]}<br>Domain: %{customdata[2]}<br>Kingdom: %{customdata[3]}</b><br>Phylum: %{customdata[4]}<br>Class: %{customdata[5]}<br>Order: %{customdata[6]}<br>Family: %{customdata[7]}<br>Genus: %{customdata[8]}<br>Species: %{customdata[9]}<br>EC Number: %{customdata[10]}<br>Mol Weight: %{customdata[11]}<br>Taxonomy ID: %{customdata[12]}<extra></extra>",
         "marker": {
          "color": "rgb(38, 165, 132)",
          "size": 6,
          "symbol": "circle"
         },
         "mode": "markers",
         "text": "methionine adenosyltransferase",
         "type": "scatter3d",
         "x": [
          0.030963361775305277
         ],
         "y": [
          -0.2747876207514188
         ],
         "z": [
          0.13572134866097993
         ]
        },
        {
         "customdata": [
          [
           "methionine adenosyltransferase",
           null,
           "Archaea",
           null,
           "Candidatus Diapherotrites",
           null,
           null,
           null,
           null,
           "Candidatus Diapherotrites archaeon",
           "2.5.1.6",
           null,
           "2026736",
           0.0007673399367838758,
           0.2975033078883492,
           0.13956861019753078,
           -0.05201227853454168
          ]
         ],
         "hovertemplate": "<b>%{customdata[0]}</b><br>Family Name: %{customdata[1]}<br>Domain: %{customdata[2]}<br>Kingdom: %{customdata[3]}</b><br>Phylum: %{customdata[4]}<br>Class: %{customdata[5]}<br>Order: %{customdata[6]}<br>Family: %{customdata[7]}<br>Genus: %{customdata[8]}<br>Species: %{customdata[9]}<br>EC Number: %{customdata[10]}<br>Mol Weight: %{customdata[11]}<br>Taxonomy ID: %{customdata[12]}<extra></extra>",
         "marker": {
          "color": "rgb(47, 176, 125)",
          "size": 6,
          "symbol": "circle"
         },
         "mode": "markers",
         "text": "methionine adenosyltransferase",
         "type": "scatter3d",
         "x": [
          0.2975033078883492
         ],
         "y": [
          0.13956861019753078
         ],
         "z": [
          -0.05201227853454168
         ]
        },
        {
         "customdata": [
          [
           "methionine adenosyltransferase",
           null,
           "Archaea",
           null,
           "Euryarchaeota",
           "Archaeoglobi",
           "Archaeoglobales",
           "Archaeoglobaceae",
           "Archaeoglobus",
           "Archaeoglobus veneficus",
           "2.5.1.6",
           44437,
           "58290",
           0.011638449179605301,
           0.07773865483305697,
           -0.2917601890272337,
           0.12083101712021883
          ]
         ],
         "hovertemplate": "<b>%{customdata[0]}</b><br>Family Name: %{customdata[1]}<br>Domain: %{customdata[2]}<br>Kingdom: %{customdata[3]}</b><br>Phylum: %{customdata[4]}<br>Class: %{customdata[5]}<br>Order: %{customdata[6]}<br>Family: %{customdata[7]}<br>Genus: %{customdata[8]}<br>Species: %{customdata[9]}<br>EC Number: %{customdata[10]}<br>Mol Weight: %{customdata[11]}<br>Taxonomy ID: %{customdata[12]}<extra></extra>",
         "marker": {
          "color": "rgb(72, 38, 118)",
          "size": 6,
          "symbol": "circle"
         },
         "mode": "markers",
         "text": "methionine adenosyltransferase",
         "type": "scatter3d",
         "x": [
          0.07773865483305697
         ],
         "y": [
          -0.2917601890272337
         ],
         "z": [
          0.12083101712021883
         ]
        },
        {
         "customdata": [
          [
           "S-adenosylmethionine synthetase",
           null,
           "Archaea",
           null,
           "Candidatus Hadarchaeota",
           "Candidatus Hadarchaeia",
           null,
           null,
           null,
           "Hadesarchaea archaeon CG08_land_8_20_14_0_20_51_8",
           "2.5.1.6",
           null,
           "1975561",
           0,
           -0.19941719833094546,
           0.7621020248762271,
           -0.2668466905860088
          ]
         ],
         "hovertemplate": "<b>%{customdata[0]}</b><br>Family Name: %{customdata[1]}<br>Domain: %{customdata[2]}<br>Kingdom: %{customdata[3]}</b><br>Phylum: %{customdata[4]}<br>Class: %{customdata[5]}<br>Order: %{customdata[6]}<br>Family: %{customdata[7]}<br>Genus: %{customdata[8]}<br>Species: %{customdata[9]}<br>EC Number: %{customdata[10]}<br>Mol Weight: %{customdata[11]}<br>Taxonomy ID: %{customdata[12]}<extra></extra>",
         "marker": {
          "color": "rgb(70, 45, 123)",
          "size": 6,
          "symbol": "circle"
         },
         "mode": "markers",
         "text": "S-adenosylmethionine synthetase",
         "type": "scatter3d",
         "x": [
          -0.19941719833094546
         ],
         "y": [
          0.7621020248762271
         ],
         "z": [
          -0.2668466905860088
         ]
        },
        {
         "customdata": [
          [
           "methionine adenosyltransferase",
           null,
           "Archaea",
           null,
           "Euryarchaeota",
           "Archaeoglobi",
           "Archaeoglobales",
           "Archaeoglobaceae",
           "Ferroglobus",
           "Ferroglobus sp.",
           "2.5.1.6",
           44121,
           "2614230",
           0.013179864173308723,
           -0.010319246873689363,
           -0.3540484137876344,
           0.1489954090840818
          ]
         ],
         "hovertemplate": "<b>%{customdata[0]}</b><br>Family Name: %{customdata[1]}<br>Domain: %{customdata[2]}<br>Kingdom: %{customdata[3]}</b><br>Phylum: %{customdata[4]}<br>Class: %{customdata[5]}<br>Order: %{customdata[6]}<br>Family: %{customdata[7]}<br>Genus: %{customdata[8]}<br>Species: %{customdata[9]}<br>EC Number: %{customdata[10]}<br>Mol Weight: %{customdata[11]}<br>Taxonomy ID: %{customdata[12]}<extra></extra>",
         "marker": {
          "color": "rgb(170, 219, 50)",
          "size": 6,
          "symbol": "circle"
         },
         "mode": "markers",
         "text": "methionine adenosyltransferase",
         "type": "scatter3d",
         "x": [
          -0.010319246873689363
         ],
         "y": [
          -0.3540484137876344
         ],
         "z": [
          0.1489954090840818
         ]
        },
        {
         "customdata": [
          [
           "methionine adenosyltransferase",
           null,
           "Archaea",
           null,
           "Euryarchaeota",
           "Methanomicrobia",
           "Methanocellales",
           null,
           null,
           "Methanocellales archaeon",
           "2.5.1.6",
           null,
           "2666334",
           0.013766987147712342,
           -0.019593669947993046,
           -0.13967817859802803,
           0.20906788011886082
          ]
         ],
         "hovertemplate": "<b>%{customdata[0]}</b><br>Family Name: %{customdata[1]}<br>Domain: %{customdata[2]}<br>Kingdom: %{customdata[3]}</b><br>Phylum: %{customdata[4]}<br>Class: %{customdata[5]}<br>Order: %{customdata[6]}<br>Family: %{customdata[7]}<br>Genus: %{customdata[8]}<br>Species: %{customdata[9]}<br>EC Number: %{customdata[10]}<br>Mol Weight: %{customdata[11]}<br>Taxonomy ID: %{customdata[12]}<extra></extra>",
         "marker": {
          "color": "rgb(32, 154, 138)",
          "size": 6,
          "symbol": "circle"
         },
         "mode": "markers",
         "text": "methionine adenosyltransferase",
         "type": "scatter3d",
         "x": [
          -0.019593669947993046
         ],
         "y": [
          -0.13967817859802803
         ],
         "z": [
          0.20906788011886082
         ]
        },
        {
         "customdata": [
          [
           "methionine adenosyltransferase",
           null,
           "Archaea",
           null,
           "Euryarchaeota",
           "Archaeoglobi",
           "Archaeoglobales",
           "Archaeoglobaceae",
           "Ferroglobus",
           "Ferroglobus placidus",
           "2.5.1.6",
           44327,
           "54261",
           0.01828714260704186,
           0.04384946102380257,
           -0.23409800237222642,
           0.06266524675325685
          ]
         ],
         "hovertemplate": "<b>%{customdata[0]}</b><br>Family Name: %{customdata[1]}<br>Domain: %{customdata[2]}<br>Kingdom: %{customdata[3]}</b><br>Phylum: %{customdata[4]}<br>Class: %{customdata[5]}<br>Order: %{customdata[6]}<br>Family: %{customdata[7]}<br>Genus: %{customdata[8]}<br>Species: %{customdata[9]}<br>EC Number: %{customdata[10]}<br>Mol Weight: %{customdata[11]}<br>Taxonomy ID: %{customdata[12]}<extra></extra>",
         "marker": {
          "color": "rgb(54, 92, 140)",
          "size": 6,
          "symbol": "circle"
         },
         "mode": "markers",
         "text": "methionine adenosyltransferase",
         "type": "scatter3d",
         "x": [
          0.04384946102380257
         ],
         "y": [
          -0.23409800237222642
         ],
         "z": [
          0.06266524675325685
         ]
        },
        {
         "customdata": [
          [
           "methionine adenosyltransferase",
           null,
           "Archaea",
           null,
           "Euryarchaeota",
           "Methanococci",
           "Methanococcales",
           "Methanocaldococcaceae",
           "Methanocaldococcus",
           "Methanocaldococcus bathoardescens",
           "2.5.1.6",
           44976,
           "1301915",
           0.00008470541227458839,
           0.0664933839358613,
           0.22324233427150755,
           -0.06354413775697783
          ]
         ],
         "hovertemplate": "<b>%{customdata[0]}</b><br>Family Name: %{customdata[1]}<br>Domain: %{customdata[2]}<br>Kingdom: %{customdata[3]}</b><br>Phylum: %{customdata[4]}<br>Class: %{customdata[5]}<br>Order: %{customdata[6]}<br>Family: %{customdata[7]}<br>Genus: %{customdata[8]}<br>Species: %{customdata[9]}<br>EC Number: %{customdata[10]}<br>Mol Weight: %{customdata[11]}<br>Taxonomy ID: %{customdata[12]}<extra></extra>",
         "marker": {
          "color": "rgb(175, 221, 47)",
          "size": 6,
          "symbol": "circle"
         },
         "mode": "markers",
         "text": "methionine adenosyltransferase",
         "type": "scatter3d",
         "x": [
          0.0664933839358613
         ],
         "y": [
          0.22324233427150755
         ],
         "z": [
          -0.06354413775697783
         ]
        },
        {
         "customdata": [
          [
           "methionine adenosyltransferase",
           null,
           "Archaea",
           null,
           "Euryarchaeota",
           "Methanococci",
           "Methanococcales",
           "Methanocaldococcaceae",
           "Methanocaldococcus",
           "Methanocaldococcus fervens",
           "2.5.1.6",
           45038,
           "83171",
           0.00007337929972469209,
           0.11370967683536312,
           0.22528737100616797,
           -0.014705200193509722
          ]
         ],
         "hovertemplate": "<b>%{customdata[0]}</b><br>Family Name: %{customdata[1]}<br>Domain: %{customdata[2]}<br>Kingdom: %{customdata[3]}</b><br>Phylum: %{customdata[4]}<br>Class: %{customdata[5]}<br>Order: %{customdata[6]}<br>Family: %{customdata[7]}<br>Genus: %{customdata[8]}<br>Species: %{customdata[9]}<br>EC Number: %{customdata[10]}<br>Mol Weight: %{customdata[11]}<br>Taxonomy ID: %{customdata[12]}<extra></extra>",
         "marker": {
          "color": "rgb(100, 202, 94)",
          "size": 6,
          "symbol": "circle"
         },
         "mode": "markers",
         "text": "methionine adenosyltransferase",
         "type": "scatter3d",
         "x": [
          0.11370967683536312
         ],
         "y": [
          0.22528737100616797
         ],
         "z": [
          -0.014705200193509722
         ]
        },
        {
         "customdata": [
          [
           "methionine adenosyltransferase",
           null,
           "Archaea",
           null,
           "Euryarchaeota",
           "Archaeoglobi",
           "Archaeoglobales",
           "Archaeoglobaceae",
           "Archaeoglobus",
           "Archaeoglobus profundus",
           "2.5.1.6",
           44630,
           "84156",
           0.016090795146185957,
           0.09911454027910821,
           -0.16713065764478244,
           0.008514720596439727
          ]
         ],
         "hovertemplate": "<b>%{customdata[0]}</b><br>Family Name: %{customdata[1]}<br>Domain: %{customdata[2]}<br>Kingdom: %{customdata[3]}</b><br>Phylum: %{customdata[4]}<br>Class: %{customdata[5]}<br>Order: %{customdata[6]}<br>Family: %{customdata[7]}<br>Genus: %{customdata[8]}<br>Species: %{customdata[9]}<br>EC Number: %{customdata[10]}<br>Mol Weight: %{customdata[11]}<br>Taxonomy ID: %{customdata[12]}<extra></extra>",
         "marker": {
          "color": "rgb(49, 178, 124)",
          "size": 6,
          "symbol": "circle"
         },
         "mode": "markers",
         "text": "methionine adenosyltransferase",
         "type": "scatter3d",
         "x": [
          0.09911454027910821
         ],
         "y": [
          -0.16713065764478244
         ],
         "z": [
          0.008514720596439727
         ]
        },
        {
         "customdata": [
          [
           "methionine adenosyltransferase",
           null,
           "Archaea",
           null,
           "Euryarchaeota",
           "Methanococci",
           "Methanococcales",
           "Methanocaldococcaceae",
           "Methanocaldococcus",
           "Methanocaldococcus jannaschii",
           "2.5.1.6",
           45121,
           "2190",
           0.00006922959127797005,
           0.09808410978331751,
           0.2228427723556587,
           -0.03553342998810646
          ]
         ],
         "hovertemplate": "<b>%{customdata[0]}</b><br>Family Name: %{customdata[1]}<br>Domain: %{customdata[2]}<br>Kingdom: %{customdata[3]}</b><br>Phylum: %{customdata[4]}<br>Class: %{customdata[5]}<br>Order: %{customdata[6]}<br>Family: %{customdata[7]}<br>Genus: %{customdata[8]}<br>Species: %{customdata[9]}<br>EC Number: %{customdata[10]}<br>Mol Weight: %{customdata[11]}<br>Taxonomy ID: %{customdata[12]}<extra></extra>",
         "marker": {
          "color": "rgb(44, 173, 128)",
          "size": 6,
          "symbol": "circle"
         },
         "mode": "markers",
         "text": "methionine adenosyltransferase",
         "type": "scatter3d",
         "x": [
          0.09808410978331751
         ],
         "y": [
          0.2228427723556587
         ],
         "z": [
          -0.03553342998810646
         ]
        },
        {
         "customdata": [
          [
           "methionine adenosyltransferase",
           null,
           "Archaea",
           null,
           "Euryarchaeota",
           null,
           null,
           null,
           null,
           "Euryarchaeota archaeon",
           "2.5.1.6",
           null,
           "2026739",
           0.0000031646203440367035,
           -0.1692048969015903,
           0.2299718835365446,
           -0.6766107275484915
          ]
         ],
         "hovertemplate": "<b>%{customdata[0]}</b><br>Family Name: %{customdata[1]}<br>Domain: %{customdata[2]}<br>Kingdom: %{customdata[3]}</b><br>Phylum: %{customdata[4]}<br>Class: %{customdata[5]}<br>Order: %{customdata[6]}<br>Family: %{customdata[7]}<br>Genus: %{customdata[8]}<br>Species: %{customdata[9]}<br>EC Number: %{customdata[10]}<br>Mol Weight: %{customdata[11]}<br>Taxonomy ID: %{customdata[12]}<extra></extra>",
         "marker": {
          "color": "rgb(65, 62, 131)",
          "size": 6,
          "symbol": "circle"
         },
         "mode": "markers",
         "text": "methionine adenosyltransferase",
         "type": "scatter3d",
         "x": [
          -0.1692048969015903
         ],
         "y": [
          0.2299718835365446
         ],
         "z": [
          -0.6766107275484915
         ]
        },
        {
         "customdata": [
          [
           null,
           null,
           "Archaea",
           null,
           "Euryarchaeota",
           "Methanococci",
           "Methanococcales",
           "Methanocaldococcaceae",
           "Methanocaldococcus",
           "Methanocaldococcus jannaschii",
           null,
           null,
           "243232",
           0.00006922959127797005,
           0.1431180984869387,
           0.197845460811406,
           -0.11834262627180517
          ]
         ],
         "hovertemplate": "<b>%{customdata[0]}</b><br>Family Name: %{customdata[1]}<br>Domain: %{customdata[2]}<br>Kingdom: %{customdata[3]}</b><br>Phylum: %{customdata[4]}<br>Class: %{customdata[5]}<br>Order: %{customdata[6]}<br>Family: %{customdata[7]}<br>Genus: %{customdata[8]}<br>Species: %{customdata[9]}<br>EC Number: %{customdata[10]}<br>Mol Weight: %{customdata[11]}<br>Taxonomy ID: %{customdata[12]}<extra></extra>",
         "marker": {
          "color": "rgb(36, 164, 133)",
          "size": 6,
          "symbol": "circle"
         },
         "mode": "markers",
         "type": "scatter3d",
         "x": [
          0.1431180984869387
         ],
         "y": [
          0.197845460811406
         ],
         "z": [
          -0.11834262627180517
         ]
        },
        {
         "customdata": [
          [
           "S-adenosylmethionine synthase",
           null,
           "Archaea",
           null,
           "Euryarchaeota",
           "Methanococci",
           "Methanococcales",
           "Methanocaldococcaceae",
           "Methanocaldococcus",
           "Methanocaldococcus lauensis",
           "2.5.1.6",
           null,
           "2546128",
           0.003548416655720397,
           0.07870258742404075,
           0.1778092602723315,
           -0.1796089934593485
          ]
         ],
         "hovertemplate": "<b>%{customdata[0]}</b><br>Family Name: %{customdata[1]}<br>Domain: %{customdata[2]}<br>Kingdom: %{customdata[3]}</b><br>Phylum: %{customdata[4]}<br>Class: %{customdata[5]}<br>Order: %{customdata[6]}<br>Family: %{customdata[7]}<br>Genus: %{customdata[8]}<br>Species: %{customdata[9]}<br>EC Number: %{customdata[10]}<br>Mol Weight: %{customdata[11]}<br>Taxonomy ID: %{customdata[12]}<extra></extra>",
         "marker": {
          "color": "rgb(62, 74, 137)",
          "size": 6,
          "symbol": "circle"
         },
         "mode": "markers",
         "text": "S-adenosylmethionine synthase",
         "type": "scatter3d",
         "x": [
          0.07870258742404075
         ],
         "y": [
          0.1778092602723315
         ],
         "z": [
          -0.1796089934593485
         ]
        },
        {
         "customdata": [
          [
           "Methionine adenosyltransferase",
           null,
           "Archaea",
           null,
           "Euryarchaeota",
           "Methanococci",
           "Methanococcales",
           "Methanocaldococcaceae",
           "Methanocaldococcus",
           "Methanocaldococcus vulcanius",
           "2.5.1.6",
           null,
           "579137",
           0.0005252155112502646,
           0.08596649695145184,
           0.16227898111040676,
           -0.1809769350239775
          ]
         ],
         "hovertemplate": "<b>%{customdata[0]}</b><br>Family Name: %{customdata[1]}<br>Domain: %{customdata[2]}<br>Kingdom: %{customdata[3]}</b><br>Phylum: %{customdata[4]}<br>Class: %{customdata[5]}<br>Order: %{customdata[6]}<br>Family: %{customdata[7]}<br>Genus: %{customdata[8]}<br>Species: %{customdata[9]}<br>EC Number: %{customdata[10]}<br>Mol Weight: %{customdata[11]}<br>Taxonomy ID: %{customdata[12]}<extra></extra>",
         "marker": {
          "color": "rgb(123, 209, 80)",
          "size": 6,
          "symbol": "circle"
         },
         "mode": "markers",
         "text": "Methionine adenosyltransferase",
         "type": "scatter3d",
         "x": [
          0.08596649695145184
         ],
         "y": [
          0.16227898111040676
         ],
         "z": [
          -0.1809769350239775
         ]
        },
        {
         "customdata": [
          [
           "methionine adenosyltransferase",
           null,
           "Archaea",
           null,
           "Euryarchaeota",
           "Methanococci",
           "Methanococcales",
           "Methanocaldococcaceae",
           "Methanocaldococcus",
           "Methanocaldococcus sp.",
           "2.5.1.6",
           45111,
           "2152917",
           0.005603770973823871,
           0.12064691155245305,
           0.09127535803285901,
           -0.19021480251159395
          ]
         ],
         "hovertemplate": "<b>%{customdata[0]}</b><br>Family Name: %{customdata[1]}<br>Domain: %{customdata[2]}<br>Kingdom: %{customdata[3]}</b><br>Phylum: %{customdata[4]}<br>Class: %{customdata[5]}<br>Order: %{customdata[6]}<br>Family: %{customdata[7]}<br>Genus: %{customdata[8]}<br>Species: %{customdata[9]}<br>EC Number: %{customdata[10]}<br>Mol Weight: %{customdata[11]}<br>Taxonomy ID: %{customdata[12]}<extra></extra>",
         "marker": {
          "color": "rgb(37, 136, 141)",
          "size": 6,
          "symbol": "circle"
         },
         "mode": "markers",
         "text": "methionine adenosyltransferase",
         "type": "scatter3d",
         "x": [
          0.12064691155245305
         ],
         "y": [
          0.09127535803285901
         ],
         "z": [
          -0.19021480251159395
         ]
        },
        {
         "customdata": [
          [
           "methionine adenosyltransferase",
           null,
           "Archaea",
           null,
           "Euryarchaeota",
           null,
           null,
           null,
           null,
           "Euryarchaeota archaeon",
           "2.5.1.6",
           null,
           "2026739",
           0.00008063355547397835,
           0.3849569639376704,
           0.28593778721422347,
           0.08605387693978143
          ]
         ],
         "hovertemplate": "<b>%{customdata[0]}</b><br>Family Name: %{customdata[1]}<br>Domain: %{customdata[2]}<br>Kingdom: %{customdata[3]}</b><br>Phylum: %{customdata[4]}<br>Class: %{customdata[5]}<br>Order: %{customdata[6]}<br>Family: %{customdata[7]}<br>Genus: %{customdata[8]}<br>Species: %{customdata[9]}<br>EC Number: %{customdata[10]}<br>Mol Weight: %{customdata[11]}<br>Taxonomy ID: %{customdata[12]}<extra></extra>",
         "marker": {
          "color": "rgb(65, 62, 131)",
          "size": 6,
          "symbol": "circle"
         },
         "mode": "markers",
         "text": "methionine adenosyltransferase",
         "type": "scatter3d",
         "x": [
          0.3849569639376704
         ],
         "y": [
          0.28593778721422347
         ],
         "z": [
          0.08605387693978143
         ]
        },
        {
         "customdata": [
          [
           "methionine adenosyltransferase",
           null,
           "Archaea",
           null,
           "Euryarchaeota",
           "Archaeoglobi",
           "Archaeoglobales",
           "Archaeoglobaceae",
           "Geoglobus",
           "Geoglobus ahangari",
           "2.5.1.6",
           44228,
           "113653",
           0.0031886903686540393,
           0.16152376427897255,
           -0.3505983651114608,
           0.1088714174295585
          ]
         ],
         "hovertemplate": "<b>%{customdata[0]}</b><br>Family Name: %{customdata[1]}<br>Domain: %{customdata[2]}<br>Kingdom: %{customdata[3]}</b><br>Phylum: %{customdata[4]}<br>Class: %{customdata[5]}<br>Order: %{customdata[6]}<br>Family: %{customdata[7]}<br>Genus: %{customdata[8]}<br>Species: %{customdata[9]}<br>EC Number: %{customdata[10]}<br>Mol Weight: %{customdata[11]}<br>Taxonomy ID: %{customdata[12]}<extra></extra>",
         "marker": {
          "color": "rgb(70, 18, 100)",
          "size": 6,
          "symbol": "circle"
         },
         "mode": "markers",
         "text": "methionine adenosyltransferase",
         "type": "scatter3d",
         "x": [
          0.16152376427897255
         ],
         "y": [
          -0.3505983651114608
         ],
         "z": [
          0.1088714174295585
         ]
        },
        {
         "customdata": [
          [
           "methionine adenosyltransferase",
           null,
           "Archaea",
           null,
           "Euryarchaeota",
           "Methanococci",
           "Methanococcales",
           "Methanocaldococcaceae",
           "Methanocaldococcus",
           "Methanocaldococcus vulcanius",
           "2.5.1.6",
           44947,
           "73913",
           0.000218638259288191,
           0.15784626673705446,
           0.15340503685979073,
           -0.15365612495945047
          ]
         ],
         "hovertemplate": "<b>%{customdata[0]}</b><br>Family Name: %{customdata[1]}<br>Domain: %{customdata[2]}<br>Kingdom: %{customdata[3]}</b><br>Phylum: %{customdata[4]}<br>Class: %{customdata[5]}<br>Order: %{customdata[6]}<br>Family: %{customdata[7]}<br>Genus: %{customdata[8]}<br>Species: %{customdata[9]}<br>EC Number: %{customdata[10]}<br>Mol Weight: %{customdata[11]}<br>Taxonomy ID: %{customdata[12]}<extra></extra>",
         "marker": {
          "color": "rgb(33, 150, 138)",
          "size": 6,
          "symbol": "circle"
         },
         "mode": "markers",
         "text": "methionine adenosyltransferase",
         "type": "scatter3d",
         "x": [
          0.15784626673705446
         ],
         "y": [
          0.15340503685979073
         ],
         "z": [
          -0.15365612495945047
         ]
        },
        {
         "customdata": [
          [
           "methionine adenosyltransferase",
           null,
           "Archaea",
           null,
           "Euryarchaeota",
           "Methanococci",
           "Methanococcales",
           "Methanocaldococcaceae",
           "Methanotorris",
           "Methanotorris formicicus",
           "2.5.1.6",
           45301,
           "213185",
           0.000010036672576358792,
           0.2007444672623907,
           0.18337366886871065,
           -0.024952941347091456
          ]
         ],
         "hovertemplate": "<b>%{customdata[0]}</b><br>Family Name: %{customdata[1]}<br>Domain: %{customdata[2]}<br>Kingdom: %{customdata[3]}</b><br>Phylum: %{customdata[4]}<br>Class: %{customdata[5]}<br>Order: %{customdata[6]}<br>Family: %{customdata[7]}<br>Genus: %{customdata[8]}<br>Species: %{customdata[9]}<br>EC Number: %{customdata[10]}<br>Mol Weight: %{customdata[11]}<br>Taxonomy ID: %{customdata[12]}<extra></extra>",
         "marker": {
          "color": "rgb(45, 113, 142)",
          "size": 6,
          "symbol": "circle"
         },
         "mode": "markers",
         "text": "methionine adenosyltransferase",
         "type": "scatter3d",
         "x": [
          0.2007444672623907
         ],
         "y": [
          0.18337366886871065
         ],
         "z": [
          -0.024952941347091456
         ]
        },
        {
         "customdata": [
          [
           null,
           null,
           "Archaea",
           null,
           "Euryarchaeota",
           "Methanococci",
           "Methanococcales",
           "Methanocaldococcaceae",
           "Methanocaldococcus",
           "Methanocaldococcus jannaschii",
           null,
           null,
           "243232",
           0.00004499066599298633,
           0.16400166322649362,
           0.21855471789612177,
           -0.060457302733626775
          ]
         ],
         "hovertemplate": "<b>%{customdata[0]}</b><br>Family Name: %{customdata[1]}<br>Domain: %{customdata[2]}<br>Kingdom: %{customdata[3]}</b><br>Phylum: %{customdata[4]}<br>Class: %{customdata[5]}<br>Order: %{customdata[6]}<br>Family: %{customdata[7]}<br>Genus: %{customdata[8]}<br>Species: %{customdata[9]}<br>EC Number: %{customdata[10]}<br>Mol Weight: %{customdata[11]}<br>Taxonomy ID: %{customdata[12]}<extra></extra>",
         "marker": {
          "color": "rgb(36, 164, 133)",
          "size": 6,
          "symbol": "circle"
         },
         "mode": "markers",
         "type": "scatter3d",
         "x": [
          0.16400166322649362
         ],
         "y": [
          0.21855471789612177
         ],
         "z": [
          -0.060457302733626775
         ]
        },
        {
         "customdata": [
          [
           "methionine adenosyltransferase",
           null,
           "Archaea",
           null,
           "Euryarchaeota",
           null,
           null,
           null,
           null,
           "Euryarchaeota archaeon",
           "2.5.1.6",
           null,
           "2026739",
           0.019659870635878308,
           0.1120111731618314,
           0.272122897326876,
           -0.3485217870435194
          ]
         ],
         "hovertemplate": "<b>%{customdata[0]}</b><br>Family Name: %{customdata[1]}<br>Domain: %{customdata[2]}<br>Kingdom: %{customdata[3]}</b><br>Phylum: %{customdata[4]}<br>Class: %{customdata[5]}<br>Order: %{customdata[6]}<br>Family: %{customdata[7]}<br>Genus: %{customdata[8]}<br>Species: %{customdata[9]}<br>EC Number: %{customdata[10]}<br>Mol Weight: %{customdata[11]}<br>Taxonomy ID: %{customdata[12]}<extra></extra>",
         "marker": {
          "color": "rgb(65, 62, 131)",
          "size": 6,
          "symbol": "circle"
         },
         "mode": "markers",
         "text": "methionine adenosyltransferase",
         "type": "scatter3d",
         "x": [
          0.1120111731618314
         ],
         "y": [
          0.272122897326876
         ],
         "z": [
          -0.3485217870435194
         ]
        },
        {
         "customdata": [
          [
           "methionine adenosyltransferase",
           null,
           "Archaea",
           null,
           "Euryarchaeota",
           "Archaeoglobi",
           "Archaeoglobales",
           null,
           null,
           "Archaeoglobales archaeon",
           "2.5.1.6",
           null,
           "2250258",
           0.0007252575930309287,
           0.22522242754488384,
           -0.39480156612968054,
           -0.02345366098991508
          ]
         ],
         "hovertemplate": "<b>%{customdata[0]}</b><br>Family Name: %{customdata[1]}<br>Domain: %{customdata[2]}<br>Kingdom: %{customdata[3]}</b><br>Phylum: %{customdata[4]}<br>Class: %{customdata[5]}<br>Order: %{customdata[6]}<br>Family: %{customdata[7]}<br>Genus: %{customdata[8]}<br>Species: %{customdata[9]}<br>EC Number: %{customdata[10]}<br>Mol Weight: %{customdata[11]}<br>Taxonomy ID: %{customdata[12]}<extra></extra>",
         "marker": {
          "color": "rgb(38, 165, 132)",
          "size": 6,
          "symbol": "circle"
         },
         "mode": "markers",
         "text": "methionine adenosyltransferase",
         "type": "scatter3d",
         "x": [
          0.22522242754488384
         ],
         "y": [
          -0.39480156612968054
         ],
         "z": [
          -0.02345366098991508
         ]
        },
        {
         "customdata": [
          [
           "Methionine adenosyltransferase",
           null,
           "Archaea",
           null,
           "Euryarchaeota",
           "Methanococci",
           "Methanococcales",
           "Methanocaldococcaceae",
           "Methanotorris",
           "Methanotorris formicicus",
           "2.5.1.6",
           null,
           "647171",
           0.0005983694158655009,
           0.11505745332107417,
           0.1372612308593163,
           -0.23495732945588288
          ]
         ],
         "hovertemplate": "<b>%{customdata[0]}</b><br>Family Name: %{customdata[1]}<br>Domain: %{customdata[2]}<br>Kingdom: %{customdata[3]}</b><br>Phylum: %{customdata[4]}<br>Class: %{customdata[5]}<br>Order: %{customdata[6]}<br>Family: %{customdata[7]}<br>Genus: %{customdata[8]}<br>Species: %{customdata[9]}<br>EC Number: %{customdata[10]}<br>Mol Weight: %{customdata[11]}<br>Taxonomy ID: %{customdata[12]}<extra></extra>",
         "marker": {
          "color": "rgb(67, 57, 129)",
          "size": 6,
          "symbol": "circle"
         },
         "mode": "markers",
         "text": "Methionine adenosyltransferase",
         "type": "scatter3d",
         "x": [
          0.11505745332107417
         ],
         "y": [
          0.1372612308593163
         ],
         "z": [
          -0.23495732945588288
         ]
        },
        {
         "customdata": [
          [
           "methionine adenosyltransferase",
           null,
           "Archaea",
           null,
           "Euryarchaeota",
           "Archaeoglobi",
           "Archaeoglobales",
           null,
           null,
           "Archaeoglobales archaeon",
           "2.5.1.6",
           null,
           "2250258",
           0.00046624089017606083,
           0.054928702578286276,
           -0.4707130485639278,
           -0.02202692978014351
          ]
         ],
         "hovertemplate": "<b>%{customdata[0]}</b><br>Family Name: %{customdata[1]}<br>Domain: %{customdata[2]}<br>Kingdom: %{customdata[3]}</b><br>Phylum: %{customdata[4]}<br>Class: %{customdata[5]}<br>Order: %{customdata[6]}<br>Family: %{customdata[7]}<br>Genus: %{customdata[8]}<br>Species: %{customdata[9]}<br>EC Number: %{customdata[10]}<br>Mol Weight: %{customdata[11]}<br>Taxonomy ID: %{customdata[12]}<extra></extra>",
         "marker": {
          "color": "rgb(38, 165, 132)",
          "size": 6,
          "symbol": "circle"
         },
         "mode": "markers",
         "text": "methionine adenosyltransferase",
         "type": "scatter3d",
         "x": [
          0.054928702578286276
         ],
         "y": [
          -0.4707130485639278
         ],
         "z": [
          -0.02202692978014351
         ]
        },
        {
         "customdata": [
          [
           "methionine adenosyltransferase",
           null,
           "Archaea",
           null,
           "Euryarchaeota",
           "Methanomicrobia",
           "Methanotrichales",
           "Methanotrichaceae",
           null,
           "Methanotrichaceae archaeon",
           "2.5.1.6",
           null,
           "2595067",
           0.007721902046420445,
           -0.49369984994890087,
           -0.34409226416411176,
           0.4896827755855079
          ]
         ],
         "hovertemplate": "<b>%{customdata[0]}</b><br>Family Name: %{customdata[1]}<br>Domain: %{customdata[2]}<br>Kingdom: %{customdata[3]}</b><br>Phylum: %{customdata[4]}<br>Class: %{customdata[5]}<br>Order: %{customdata[6]}<br>Family: %{customdata[7]}<br>Genus: %{customdata[8]}<br>Species: %{customdata[9]}<br>EC Number: %{customdata[10]}<br>Mol Weight: %{customdata[11]}<br>Taxonomy ID: %{customdata[12]}<extra></extra>",
         "marker": {
          "color": "rgb(154, 216, 60)",
          "size": 6,
          "symbol": "circle"
         },
         "mode": "markers",
         "text": "methionine adenosyltransferase",
         "type": "scatter3d",
         "x": [
          -0.49369984994890087
         ],
         "y": [
          -0.34409226416411176
         ],
         "z": [
          0.4896827755855079
         ]
        },
        {
         "customdata": [
          [
           "methionine adenosyltransferase",
           null,
           "Archaea",
           null,
           "Euryarchaeota",
           "Archaeoglobi",
           null,
           null,
           null,
           "Archaeoglobi archaeon",
           "2.5.1.6",
           null,
           "2250530",
           0.0009328422821070287,
           0.1584491837998661,
           -0.3921102036262194,
           -0.04831602782149458
          ]
         ],
         "hovertemplate": "<b>%{customdata[0]}</b><br>Family Name: %{customdata[1]}<br>Domain: %{customdata[2]}<br>Kingdom: %{customdata[3]}</b><br>Phylum: %{customdata[4]}<br>Class: %{customdata[5]}<br>Order: %{customdata[6]}<br>Family: %{customdata[7]}<br>Genus: %{customdata[8]}<br>Species: %{customdata[9]}<br>EC Number: %{customdata[10]}<br>Mol Weight: %{customdata[11]}<br>Taxonomy ID: %{customdata[12]}<extra></extra>",
         "marker": {
          "color": "rgb(49, 103, 142)",
          "size": 6,
          "symbol": "circle"
         },
         "mode": "markers",
         "text": "methionine adenosyltransferase",
         "type": "scatter3d",
         "x": [
          0.1584491837998661
         ],
         "y": [
          -0.3921102036262194
         ],
         "z": [
          -0.04831602782149458
         ]
        },
        {
         "customdata": [
          [
           "methionine adenosyltransferase",
           null,
           "Archaea",
           null,
           "Euryarchaeota",
           "Archaeoglobi",
           "Archaeoglobales",
           null,
           null,
           "Archaeoglobales archaeon",
           "2.5.1.6",
           null,
           "2250258",
           0.00407917965432019,
           0.07746535812067142,
           -0.2829114297978625,
           -0.06751333998194287
          ]
         ],
         "hovertemplate": "<b>%{customdata[0]}</b><br>Family Name: %{customdata[1]}<br>Domain: %{customdata[2]}<br>Kingdom: %{customdata[3]}</b><br>Phylum: %{customdata[4]}<br>Class: %{customdata[5]}<br>Order: %{customdata[6]}<br>Family: %{customdata[7]}<br>Genus: %{customdata[8]}<br>Species: %{customdata[9]}<br>EC Number: %{customdata[10]}<br>Mol Weight: %{customdata[11]}<br>Taxonomy ID: %{customdata[12]}<extra></extra>",
         "marker": {
          "color": "rgb(38, 165, 132)",
          "size": 6,
          "symbol": "circle"
         },
         "mode": "markers",
         "text": "methionine adenosyltransferase",
         "type": "scatter3d",
         "x": [
          0.07746535812067142
         ],
         "y": [
          -0.2829114297978625
         ],
         "z": [
          -0.06751333998194287
         ]
        },
        {
         "customdata": [
          [
           "methionine adenosyltransferase",
           null,
           "Archaea",
           null,
           "Euryarchaeota",
           "Archaeoglobi",
           "Archaeoglobales",
           "Archaeoglobaceae",
           "Archaeoglobus",
           "Archaeoglobus sulfaticallidus",
           "2.5.1.6",
           44416,
           "1316941",
           0.0007941189086998337,
           0.11734570060909232,
           -0.4928574066234491,
           0.15778398674459565
          ]
         ],
         "hovertemplate": "<b>%{customdata[0]}</b><br>Family Name: %{customdata[1]}<br>Domain: %{customdata[2]}<br>Kingdom: %{customdata[3]}</b><br>Phylum: %{customdata[4]}<br>Class: %{customdata[5]}<br>Order: %{customdata[6]}<br>Family: %{customdata[7]}<br>Genus: %{customdata[8]}<br>Species: %{customdata[9]}<br>EC Number: %{customdata[10]}<br>Mol Weight: %{customdata[11]}<br>Taxonomy ID: %{customdata[12]}<extra></extra>",
         "marker": {
          "color": "rgb(36, 138, 141)",
          "size": 6,
          "symbol": "circle"
         },
         "mode": "markers",
         "text": "methionine adenosyltransferase",
         "type": "scatter3d",
         "x": [
          0.11734570060909232
         ],
         "y": [
          -0.4928574066234491
         ],
         "z": [
          0.15778398674459565
         ]
        },
        {
         "customdata": [
          [
           "S-adenosylmethionine synthetase",
           null,
           "Archaea",
           null,
           "Euryarchaeota",
           "Archaeoglobi",
           null,
           null,
           null,
           "Archaeoglobi archaeon",
           null,
           null,
           "2250530",
           0.013194770834631157,
           0.08675297983074495,
           -0.12146265898431576,
           -0.02084848963010843
          ]
         ],
         "hovertemplate": "<b>%{customdata[0]}</b><br>Family Name: %{customdata[1]}<br>Domain: %{customdata[2]}<br>Kingdom: %{customdata[3]}</b><br>Phylum: %{customdata[4]}<br>Class: %{customdata[5]}<br>Order: %{customdata[6]}<br>Family: %{customdata[7]}<br>Genus: %{customdata[8]}<br>Species: %{customdata[9]}<br>EC Number: %{customdata[10]}<br>Mol Weight: %{customdata[11]}<br>Taxonomy ID: %{customdata[12]}<extra></extra>",
         "marker": {
          "color": "rgb(49, 103, 142)",
          "size": 6,
          "symbol": "circle"
         },
         "mode": "markers",
         "text": "S-adenosylmethionine synthetase",
         "type": "scatter3d",
         "x": [
          0.08675297983074495
         ],
         "y": [
          -0.12146265898431576
         ],
         "z": [
          -0.02084848963010843
         ]
        },
        {
         "customdata": [
          [
           "methionine adenosyltransferase",
           null,
           "Archaea",
           null,
           "Euryarchaeota",
           "Archaeoglobi",
           "Archaeoglobales",
           null,
           null,
           "Archaeoglobales archaeon",
           "2.5.1.6",
           null,
           "2250258",
           0.0009470517748792188,
           0.1004010692342316,
           -0.4025321055639407,
           -0.055190988240918566
          ]
         ],
         "hovertemplate": "<b>%{customdata[0]}</b><br>Family Name: %{customdata[1]}<br>Domain: %{customdata[2]}<br>Kingdom: %{customdata[3]}</b><br>Phylum: %{customdata[4]}<br>Class: %{customdata[5]}<br>Order: %{customdata[6]}<br>Family: %{customdata[7]}<br>Genus: %{customdata[8]}<br>Species: %{customdata[9]}<br>EC Number: %{customdata[10]}<br>Mol Weight: %{customdata[11]}<br>Taxonomy ID: %{customdata[12]}<extra></extra>",
         "marker": {
          "color": "rgb(38, 165, 132)",
          "size": 6,
          "symbol": "circle"
         },
         "mode": "markers",
         "text": "methionine adenosyltransferase",
         "type": "scatter3d",
         "x": [
          0.1004010692342316
         ],
         "y": [
          -0.4025321055639407
         ],
         "z": [
          -0.055190988240918566
         ]
        },
        {
         "customdata": [
          [
           "methionine adenosyltransferase",
           null,
           "Archaea",
           null,
           "Euryarchaeota",
           "Methanococci",
           "Methanococcales",
           "Methanocaldococcaceae",
           "Methanotorris",
           "Methanotorris igneus",
           "2.5.1.6",
           45071,
           "2189",
           0.00580164754356336,
           0.15331765176178502,
           -0.00004534456188079839,
           -0.14175744153088798
          ]
         ],
         "hovertemplate": "<b>%{customdata[0]}</b><br>Family Name: %{customdata[1]}<br>Domain: %{customdata[2]}<br>Kingdom: %{customdata[3]}</b><br>Phylum: %{customdata[4]}<br>Class: %{customdata[5]}<br>Order: %{customdata[6]}<br>Family: %{customdata[7]}<br>Genus: %{customdata[8]}<br>Species: %{customdata[9]}<br>EC Number: %{customdata[10]}<br>Mol Weight: %{customdata[11]}<br>Taxonomy ID: %{customdata[12]}<extra></extra>",
         "marker": {
          "color": "rgb(33, 160, 136)",
          "size": 6,
          "symbol": "circle"
         },
         "mode": "markers",
         "text": "methionine adenosyltransferase",
         "type": "scatter3d",
         "x": [
          0.15331765176178502
         ],
         "y": [
          -0.00004534456188079839
         ],
         "z": [
          -0.14175744153088798
         ]
        },
        {
         "customdata": [
          [
           "methionine adenosyltransferase",
           null,
           "Archaea",
           null,
           "Euryarchaeota",
           null,
           null,
           null,
           null,
           "Euryarchaeota archaeon",
           "2.5.1.6",
           null,
           "2026739",
           0.00023207400353903707,
           -0.16520519559248756,
           -0.6164066012606216,
           0.47748194644383884
          ]
         ],
         "hovertemplate": "<b>%{customdata[0]}</b><br>Family Name: %{customdata[1]}<br>Domain: %{customdata[2]}<br>Kingdom: %{customdata[3]}</b><br>Phylum: %{customdata[4]}<br>Class: %{customdata[5]}<br>Order: %{customdata[6]}<br>Family: %{customdata[7]}<br>Genus: %{customdata[8]}<br>Species: %{customdata[9]}<br>EC Number: %{customdata[10]}<br>Mol Weight: %{customdata[11]}<br>Taxonomy ID: %{customdata[12]}<extra></extra>",
         "marker": {
          "color": "rgb(65, 62, 131)",
          "size": 6,
          "symbol": "circle"
         },
         "mode": "markers",
         "text": "methionine adenosyltransferase",
         "type": "scatter3d",
         "x": [
          -0.16520519559248756
         ],
         "y": [
          -0.6164066012606216
         ],
         "z": [
          0.47748194644383884
         ]
        },
        {
         "customdata": [
          [
           "methionine adenosyltransferase",
           null,
           "Archaea",
           null,
           "Candidatus Hydrothermarchaeota",
           null,
           null,
           null,
           null,
           "Candidatus Hydrothermarchaeota archaeon",
           "2.5.1.6",
           null,
           "2250275",
           0.0008836999872228206,
           0.020600071982689955,
           0.10625186315137591,
           -0.35287287288231683
          ]
         ],
         "hovertemplate": "<b>%{customdata[0]}</b><br>Family Name: %{customdata[1]}<br>Domain: %{customdata[2]}<br>Kingdom: %{customdata[3]}</b><br>Phylum: %{customdata[4]}<br>Class: %{customdata[5]}<br>Order: %{customdata[6]}<br>Family: %{customdata[7]}<br>Genus: %{customdata[8]}<br>Species: %{customdata[9]}<br>EC Number: %{customdata[10]}<br>Mol Weight: %{customdata[11]}<br>Taxonomy ID: %{customdata[12]}<extra></extra>",
         "marker": {
          "color": "rgb(185, 223, 43)",
          "size": 6,
          "symbol": "circle"
         },
         "mode": "markers",
         "text": "methionine adenosyltransferase",
         "type": "scatter3d",
         "x": [
          0.020600071982689955
         ],
         "y": [
          0.10625186315137591
         ],
         "z": [
          -0.35287287288231683
         ]
        },
        {
         "customdata": [
          [
           "methionine adenosyltransferase",
           null,
           "Archaea",
           null,
           "Euryarchaeota",
           null,
           null,
           null,
           null,
           "Euryarchaeota archaeon",
           "2.5.1.6",
           null,
           "2026739",
           0.0000018364510315792147,
           0.5762512205949809,
           0.26462806976566844,
           0.12552921791238708
          ]
         ],
         "hovertemplate": "<b>%{customdata[0]}</b><br>Family Name: %{customdata[1]}<br>Domain: %{customdata[2]}<br>Kingdom: %{customdata[3]}</b><br>Phylum: %{customdata[4]}<br>Class: %{customdata[5]}<br>Order: %{customdata[6]}<br>Family: %{customdata[7]}<br>Genus: %{customdata[8]}<br>Species: %{customdata[9]}<br>EC Number: %{customdata[10]}<br>Mol Weight: %{customdata[11]}<br>Taxonomy ID: %{customdata[12]}<extra></extra>",
         "marker": {
          "color": "rgb(65, 62, 131)",
          "size": 6,
          "symbol": "circle"
         },
         "mode": "markers",
         "text": "methionine adenosyltransferase",
         "type": "scatter3d",
         "x": [
          0.5762512205949809
         ],
         "y": [
          0.26462806976566844
         ],
         "z": [
          0.12552921791238708
         ]
        },
        {
         "customdata": [
          [
           "methionine adenosyltransferase",
           null,
           "Archaea",
           null,
           "Candidatus Hydrothermarchaeota",
           "Candidatus Hydrothermarchaeia",
           "Candidatus Hydrothermarchaeales",
           "Candidatus Hydrothermarchaeaceae",
           null,
           "Candidatus Hydrothermarchaeaceae archaeon",
           "2.5.1.6",
           null,
           "3107143",
           0.000476519572092557,
           0.01423994193249838,
           0.1859199929317504,
           -0.43686451463148945
          ]
         ],
         "hovertemplate": "<b>%{customdata[0]}</b><br>Family Name: %{customdata[1]}<br>Domain: %{customdata[2]}<br>Kingdom: %{customdata[3]}</b><br>Phylum: %{customdata[4]}<br>Class: %{customdata[5]}<br>Order: %{customdata[6]}<br>Family: %{customdata[7]}<br>Genus: %{customdata[8]}<br>Species: %{customdata[9]}<br>EC Number: %{customdata[10]}<br>Mol Weight: %{customdata[11]}<br>Taxonomy ID: %{customdata[12]}<extra></extra>",
         "marker": {
          "color": "rgb(46, 175, 126)",
          "size": 6,
          "symbol": "circle"
         },
         "mode": "markers",
         "text": "methionine adenosyltransferase",
         "type": "scatter3d",
         "x": [
          0.01423994193249838
         ],
         "y": [
          0.1859199929317504
         ],
         "z": [
          -0.43686451463148945
         ]
        },
        {
         "customdata": [
          [
           "methionine adenosyltransferase",
           null,
           "Archaea",
           null,
           "Euryarchaeota",
           "Methanomicrobia",
           "Methanosarcinales",
           null,
           null,
           "Methanosarcinales archaeon",
           "2.5.1.6",
           null,
           "2250255",
           0.0005619649903173566,
           0.026238816212244505,
           -0.46639577736001686,
           0.54292012948815
          ]
         ],
         "hovertemplate": "<b>%{customdata[0]}</b><br>Family Name: %{customdata[1]}<br>Domain: %{customdata[2]}<br>Kingdom: %{customdata[3]}</b><br>Phylum: %{customdata[4]}<br>Class: %{customdata[5]}<br>Order: %{customdata[6]}<br>Family: %{customdata[7]}<br>Genus: %{customdata[8]}<br>Species: %{customdata[9]}<br>EC Number: %{customdata[10]}<br>Mol Weight: %{customdata[11]}<br>Taxonomy ID: %{customdata[12]}<extra></extra>",
         "marker": {
          "color": "rgb(243, 230, 38)",
          "size": 6,
          "symbol": "circle"
         },
         "mode": "markers",
         "text": "methionine adenosyltransferase",
         "type": "scatter3d",
         "x": [
          0.026238816212244505
         ],
         "y": [
          -0.46639577736001686
         ],
         "z": [
          0.54292012948815
         ]
        },
        {
         "customdata": [
          [
           "methionine adenosyltransferase",
           null,
           "Archaea",
           null,
           "Euryarchaeota",
           "Archaeoglobi",
           null,
           null,
           null,
           "Archaeoglobi archaeon",
           "2.5.1.6",
           null,
           "2250530",
           0.00044905105872741633,
           0.2136513544707584,
           -0.4209525409174886,
           0.04795003749754154
          ]
         ],
         "hovertemplate": "<b>%{customdata[0]}</b><br>Family Name: %{customdata[1]}<br>Domain: %{customdata[2]}<br>Kingdom: %{customdata[3]}</b><br>Phylum: %{customdata[4]}<br>Class: %{customdata[5]}<br>Order: %{customdata[6]}<br>Family: %{customdata[7]}<br>Genus: %{customdata[8]}<br>Species: %{customdata[9]}<br>EC Number: %{customdata[10]}<br>Mol Weight: %{customdata[11]}<br>Taxonomy ID: %{customdata[12]}<extra></extra>",
         "marker": {
          "color": "rgb(49, 103, 142)",
          "size": 6,
          "symbol": "circle"
         },
         "mode": "markers",
         "text": "methionine adenosyltransferase",
         "type": "scatter3d",
         "x": [
          0.2136513544707584
         ],
         "y": [
          -0.4209525409174886
         ],
         "z": [
          0.04795003749754154
         ]
        },
        {
         "customdata": [
          [
           "methionine adenosyltransferase",
           null,
           "Archaea",
           null,
           "Euryarchaeota",
           "Thermococci",
           null,
           null,
           null,
           "Thermococci archaeon",
           "2.5.1.6",
           null,
           "2250254",
           0,
           -0.21448797111483375,
           0.05543664291370773,
           0.10523465208172743
          ]
         ],
         "hovertemplate": "<b>%{customdata[0]}</b><br>Family Name: %{customdata[1]}<br>Domain: %{customdata[2]}<br>Kingdom: %{customdata[3]}</b><br>Phylum: %{customdata[4]}<br>Class: %{customdata[5]}<br>Order: %{customdata[6]}<br>Family: %{customdata[7]}<br>Genus: %{customdata[8]}<br>Species: %{customdata[9]}<br>EC Number: %{customdata[10]}<br>Mol Weight: %{customdata[11]}<br>Taxonomy ID: %{customdata[12]}<extra></extra>",
         "marker": {
          "color": "rgb(42, 120, 142)",
          "size": 6,
          "symbol": "circle"
         },
         "mode": "markers",
         "text": "methionine adenosyltransferase",
         "type": "scatter3d",
         "x": [
          -0.21448797111483375
         ],
         "y": [
          0.05543664291370773
         ],
         "z": [
          0.10523465208172743
         ]
        },
        {
         "customdata": [
          [
           "methionine adenosyltransferase",
           null,
           "Archaea",
           null,
           "Candidatus Hydrothermarchaeota",
           null,
           null,
           null,
           null,
           "Candidatus Hydrothermarchaeota archaeon",
           "2.5.1.6",
           null,
           "2250275",
           0.0004322121832679138,
           -0.11748330605639495,
           0.180316176023954,
           -0.40121364096546025
          ]
         ],
         "hovertemplate": "<b>%{customdata[0]}</b><br>Family Name: %{customdata[1]}<br>Domain: %{customdata[2]}<br>Kingdom: %{customdata[3]}</b><br>Phylum: %{customdata[4]}<br>Class: %{customdata[5]}<br>Order: %{customdata[6]}<br>Family: %{customdata[7]}<br>Genus: %{customdata[8]}<br>Species: %{customdata[9]}<br>EC Number: %{customdata[10]}<br>Mol Weight: %{customdata[11]}<br>Taxonomy ID: %{customdata[12]}<extra></extra>",
         "marker": {
          "color": "rgb(185, 223, 43)",
          "size": 6,
          "symbol": "circle"
         },
         "mode": "markers",
         "text": "methionine adenosyltransferase",
         "type": "scatter3d",
         "x": [
          -0.11748330605639495
         ],
         "y": [
          0.180316176023954
         ],
         "z": [
          -0.40121364096546025
         ]
        },
        {
         "customdata": [
          [
           "methionine adenosyltransferase",
           null,
           "Archaea",
           null,
           "Euryarchaeota",
           "Methanomicrobia",
           "Methanosarcinales",
           null,
           null,
           "Methanosarcinales archaeon",
           "2.5.1.6",
           null,
           "2250255",
           0.01285189635252575,
           -0.14377168307639923,
           -0.41248754106885693,
           0.24352412669577156
          ]
         ],
         "hovertemplate": "<b>%{customdata[0]}</b><br>Family Name: %{customdata[1]}<br>Domain: %{customdata[2]}<br>Kingdom: %{customdata[3]}</b><br>Phylum: %{customdata[4]}<br>Class: %{customdata[5]}<br>Order: %{customdata[6]}<br>Family: %{customdata[7]}<br>Genus: %{customdata[8]}<br>Species: %{customdata[9]}<br>EC Number: %{customdata[10]}<br>Mol Weight: %{customdata[11]}<br>Taxonomy ID: %{customdata[12]}<extra></extra>",
         "marker": {
          "color": "rgb(243, 230, 38)",
          "size": 6,
          "symbol": "circle"
         },
         "mode": "markers",
         "text": "methionine adenosyltransferase",
         "type": "scatter3d",
         "x": [
          -0.14377168307639923
         ],
         "y": [
          -0.41248754106885693
         ],
         "z": [
          0.24352412669577156
         ]
        },
        {
         "customdata": [
          [
           "methionine adenosyltransferase",
           null,
           "Archaea",
           null,
           "Euryarchaeota",
           "Archaeoglobi",
           "Candidatus Mnemosynellales",
           "Candidatus Mnemosynellaceae",
           "Mnemosynella",
           "Candidatus Mnemosynella bozhongmuii",
           "2.5.1.6",
           null,
           "3072938",
           0.013196897721882202,
           0.07723111329813262,
           -0.11162462408472079,
           -0.012277900617165164
          ]
         ],
         "hovertemplate": "<b>%{customdata[0]}</b><br>Family Name: %{customdata[1]}<br>Domain: %{customdata[2]}<br>Kingdom: %{customdata[3]}</b><br>Phylum: %{customdata[4]}<br>Class: %{customdata[5]}<br>Order: %{customdata[6]}<br>Family: %{customdata[7]}<br>Genus: %{customdata[8]}<br>Species: %{customdata[9]}<br>EC Number: %{customdata[10]}<br>Mol Weight: %{customdata[11]}<br>Taxonomy ID: %{customdata[12]}<extra></extra>",
         "marker": {
          "color": "rgb(149, 215, 63)",
          "size": 6,
          "symbol": "circle"
         },
         "mode": "markers",
         "text": "methionine adenosyltransferase",
         "type": "scatter3d",
         "x": [
          0.07723111329813262
         ],
         "y": [
          -0.11162462408472079
         ],
         "z": [
          -0.012277900617165164
         ]
        },
        {
         "customdata": [
          [
           "methionine adenosyltransferase",
           null,
           "Archaea",
           null,
           "Euryarchaeota",
           "Archaeoglobi",
           "Archaeoglobales",
           "Archaeoglobaceae",
           "Geoglobus",
           "Geoglobus acetivorans",
           "2.5.1.6",
           null,
           "565033",
           0.007609810294381453,
           0.09333307490446055,
           -0.2542174619284255,
           -0.009656834860037024
          ]
         ],
         "hovertemplate": "<b>%{customdata[0]}</b><br>Family Name: %{customdata[1]}<br>Domain: %{customdata[2]}<br>Kingdom: %{customdata[3]}</b><br>Phylum: %{customdata[4]}<br>Class: %{customdata[5]}<br>Order: %{customdata[6]}<br>Family: %{customdata[7]}<br>Genus: %{customdata[8]}<br>Species: %{customdata[9]}<br>EC Number: %{customdata[10]}<br>Mol Weight: %{customdata[11]}<br>Taxonomy ID: %{customdata[12]}<extra></extra>",
         "marker": {
          "color": "rgb(71, 29, 110)",
          "size": 6,
          "symbol": "circle"
         },
         "mode": "markers",
         "text": "methionine adenosyltransferase",
         "type": "scatter3d",
         "x": [
          0.09333307490446055
         ],
         "y": [
          -0.2542174619284255
         ],
         "z": [
          -0.009656834860037024
         ]
        },
        {
         "customdata": [
          [
           "methionine adenosyltransferase",
           null,
           "Archaea",
           null,
           "Euryarchaeota",
           "Archaeoglobi",
           "Archaeoglobales",
           null,
           null,
           "Archaeoglobales archaeon",
           "2.5.1.6",
           null,
           "2250258",
           0.00020409989394648727,
           0.14668741481984443,
           -0.5077849143623466,
           0.08022277997859369
          ]
         ],
         "hovertemplate": "<b>%{customdata[0]}</b><br>Family Name: %{customdata[1]}<br>Domain: %{customdata[2]}<br>Kingdom: %{customdata[3]}</b><br>Phylum: %{customdata[4]}<br>Class: %{customdata[5]}<br>Order: %{customdata[6]}<br>Family: %{customdata[7]}<br>Genus: %{customdata[8]}<br>Species: %{customdata[9]}<br>EC Number: %{customdata[10]}<br>Mol Weight: %{customdata[11]}<br>Taxonomy ID: %{customdata[12]}<extra></extra>",
         "marker": {
          "color": "rgb(38, 165, 132)",
          "size": 6,
          "symbol": "circle"
         },
         "mode": "markers",
         "text": "methionine adenosyltransferase",
         "type": "scatter3d",
         "x": [
          0.14668741481984443
         ],
         "y": [
          -0.5077849143623466
         ],
         "z": [
          0.08022277997859369
         ]
        },
        {
         "customdata": [
          [
           "methionine adenosyltransferase",
           null,
           "Archaea",
           null,
           "Candidatus Hydrothermarchaeota",
           "Candidatus Hydrothermarchaeia",
           "Candidatus Hydrothermarchaeales",
           null,
           null,
           "Candidatus Hydrothermarchaeales archaeon",
           "2.5.1.6",
           null,
           "3107144",
           0.0013366320523918913,
           -0.07019254142406038,
           0.1120940626229995,
           -0.29115454840341215
          ]
         ],
         "hovertemplate": "<b>%{customdata[0]}</b><br>Family Name: %{customdata[1]}<br>Domain: %{customdata[2]}<br>Kingdom: %{customdata[3]}</b><br>Phylum: %{customdata[4]}<br>Class: %{customdata[5]}<br>Order: %{customdata[6]}<br>Family: %{customdata[7]}<br>Genus: %{customdata[8]}<br>Species: %{customdata[9]}<br>EC Number: %{customdata[10]}<br>Mol Weight: %{customdata[11]}<br>Taxonomy ID: %{customdata[12]}<extra></extra>",
         "marker": {
          "color": "rgb(41, 169, 130)",
          "size": 6,
          "symbol": "circle"
         },
         "mode": "markers",
         "text": "methionine adenosyltransferase",
         "type": "scatter3d",
         "x": [
          -0.07019254142406038
         ],
         "y": [
          0.1120940626229995
         ],
         "z": [
          -0.29115454840341215
         ]
        },
        {
         "customdata": [
          [
           "methionine adenosyltransferase",
           null,
           "Archaea",
           null,
           "Euryarchaeota",
           "Archaeoglobi",
           "Archaeoglobales",
           "Archaeoglobaceae",
           null,
           "Archaeoglobaceae archaeon",
           "2.5.1.6",
           null,
           "2511821",
           0.000013983673152762218,
           0.26272586724600927,
           -0.5246480958342065,
           0.008054552480894128
          ]
         ],
         "hovertemplate": "<b>%{customdata[0]}</b><br>Family Name: %{customdata[1]}<br>Domain: %{customdata[2]}<br>Kingdom: %{customdata[3]}</b><br>Phylum: %{customdata[4]}<br>Class: %{customdata[5]}<br>Order: %{customdata[6]}<br>Family: %{customdata[7]}<br>Genus: %{customdata[8]}<br>Species: %{customdata[9]}<br>EC Number: %{customdata[10]}<br>Mol Weight: %{customdata[11]}<br>Taxonomy ID: %{customdata[12]}<extra></extra>",
         "marker": {
          "color": "rgb(211, 226, 40)",
          "size": 6,
          "symbol": "circle"
         },
         "mode": "markers",
         "text": "methionine adenosyltransferase",
         "type": "scatter3d",
         "x": [
          0.26272586724600927
         ],
         "y": [
          -0.5246480958342065
         ],
         "z": [
          0.008054552480894128
         ]
        },
        {
         "customdata": [
          [
           "S-adenosylmethionine synthetase",
           null,
           "Archaea",
           null,
           "Euryarchaeota",
           "Archaeoglobi",
           "Archaeoglobales",
           "Archaeoglobaceae",
           null,
           "Archaeoglobaceae archaeon",
           null,
           null,
           "2511821",
           0.00016481886572886463,
           0.2266865281242833,
           -0.5271408369131164,
           0.08498902755448842
          ]
         ],
         "hovertemplate": "<b>%{customdata[0]}</b><br>Family Name: %{customdata[1]}<br>Domain: %{customdata[2]}<br>Kingdom: %{customdata[3]}</b><br>Phylum: %{customdata[4]}<br>Class: %{customdata[5]}<br>Order: %{customdata[6]}<br>Family: %{customdata[7]}<br>Genus: %{customdata[8]}<br>Species: %{customdata[9]}<br>EC Number: %{customdata[10]}<br>Mol Weight: %{customdata[11]}<br>Taxonomy ID: %{customdata[12]}<extra></extra>",
         "marker": {
          "color": "rgb(211, 226, 40)",
          "size": 6,
          "symbol": "circle"
         },
         "mode": "markers",
         "text": "S-adenosylmethionine synthetase",
         "type": "scatter3d",
         "x": [
          0.2266865281242833
         ],
         "y": [
          -0.5271408369131164
         ],
         "z": [
          0.08498902755448842
         ]
        },
        {
         "customdata": [
          [
           "methionine adenosyltransferase",
           null,
           "Archaea",
           null,
           "Euryarchaeota",
           "Methanomicrobia",
           "Methanotrichales",
           "Methanotrichaceae",
           "Methanothrix",
           "Methanothrix sp.",
           "2.5.1.6",
           43288,
           "90426",
           0.023643631455249437,
           -0.46869307422771855,
           -0.15587517520852925,
           0.30451341953086114
          ]
         ],
         "hovertemplate": "<b>%{customdata[0]}</b><br>Family Name: %{customdata[1]}<br>Domain: %{customdata[2]}<br>Kingdom: %{customdata[3]}</b><br>Phylum: %{customdata[4]}<br>Class: %{customdata[5]}<br>Order: %{customdata[6]}<br>Family: %{customdata[7]}<br>Genus: %{customdata[8]}<br>Species: %{customdata[9]}<br>EC Number: %{customdata[10]}<br>Mol Weight: %{customdata[11]}<br>Taxonomy ID: %{customdata[12]}<extra></extra>",
         "marker": {
          "color": "rgb(67, 189, 113)",
          "size": 6,
          "symbol": "circle"
         },
         "mode": "markers",
         "text": "methionine adenosyltransferase",
         "type": "scatter3d",
         "x": [
          -0.46869307422771855
         ],
         "y": [
          -0.15587517520852925
         ],
         "z": [
          0.30451341953086114
         ]
        },
        {
         "customdata": [
          [
           "methionine adenosyltransferase",
           null,
           "Archaea",
           null,
           "Euryarchaeota",
           "Methanomicrobia",
           "Methanosarcinales",
           "Methanosarcinaceae",
           "Methanosarcina",
           "Methanosarcina mazei",
           "2.5.1.6",
           43773,
           "2209",
           0.0005792265420484422,
           -0.20024787395878352,
           -0.5271067108716242,
           0.5957366710913522
          ]
         ],
         "hovertemplate": "<b>%{customdata[0]}</b><br>Family Name: %{customdata[1]}<br>Domain: %{customdata[2]}<br>Kingdom: %{customdata[3]}</b><br>Phylum: %{customdata[4]}<br>Class: %{customdata[5]}<br>Order: %{customdata[6]}<br>Family: %{customdata[7]}<br>Genus: %{customdata[8]}<br>Species: %{customdata[9]}<br>EC Number: %{customdata[10]}<br>Mol Weight: %{customdata[11]}<br>Taxonomy ID: %{customdata[12]}<extra></extra>",
         "marker": {
          "color": "rgb(69, 12, 94)",
          "size": 6,
          "symbol": "circle"
         },
         "mode": "markers",
         "text": "methionine adenosyltransferase",
         "type": "scatter3d",
         "x": [
          -0.20024787395878352
         ],
         "y": [
          -0.5271067108716242
         ],
         "z": [
          0.5957366710913522
         ]
        },
        {
         "customdata": [
          [
           "methionine adenosyltransferase",
           null,
           "Archaea",
           null,
           "Euryarchaeota",
           "Archaeoglobi",
           "Archaeoglobales",
           "Archaeoglobaceae",
           "Archaeoglobus",
           "Archaeoglobus sp.",
           "2.5.1.6",
           null,
           "1872626",
           0.0028227541077249637,
           0.14551849062693217,
           -0.2954811986239641,
           -0.008224494985533841
          ]
         ],
         "hovertemplate": "<b>%{customdata[0]}</b><br>Family Name: %{customdata[1]}<br>Domain: %{customdata[2]}<br>Kingdom: %{customdata[3]}</b><br>Phylum: %{customdata[4]}<br>Class: %{customdata[5]}<br>Order: %{customdata[6]}<br>Family: %{customdata[7]}<br>Genus: %{customdata[8]}<br>Species: %{customdata[9]}<br>EC Number: %{customdata[10]}<br>Mol Weight: %{customdata[11]}<br>Taxonomy ID: %{customdata[12]}<extra></extra>",
         "marker": {
          "color": "rgb(68, 4, 87)",
          "size": 6,
          "symbol": "circle"
         },
         "mode": "markers",
         "text": "methionine adenosyltransferase",
         "type": "scatter3d",
         "x": [
          0.14551849062693217
         ],
         "y": [
          -0.2954811986239641
         ],
         "z": [
          -0.008224494985533841
         ]
        },
        {
         "customdata": [
          [
           "methionine adenosyltransferase",
           null,
           "Archaea",
           null,
           "Candidatus Thermoplasmatota",
           "Thermoplasmata",
           null,
           null,
           null,
           "Thermoplasmata archaeon",
           "2.5.1.6",
           null,
           "1906666",
           0.0007493866722323438,
           0.048851160266163096,
           0.38605487768750646,
           0.06986869482363005
          ]
         ],
         "hovertemplate": "<b>%{customdata[0]}</b><br>Family Name: %{customdata[1]}<br>Domain: %{customdata[2]}<br>Kingdom: %{customdata[3]}</b><br>Phylum: %{customdata[4]}<br>Class: %{customdata[5]}<br>Order: %{customdata[6]}<br>Family: %{customdata[7]}<br>Genus: %{customdata[8]}<br>Species: %{customdata[9]}<br>EC Number: %{customdata[10]}<br>Mol Weight: %{customdata[11]}<br>Taxonomy ID: %{customdata[12]}<extra></extra>",
         "marker": {
          "color": "rgb(50, 180, 123)",
          "size": 6,
          "symbol": "circle"
         },
         "mode": "markers",
         "text": "methionine adenosyltransferase",
         "type": "scatter3d",
         "x": [
          0.048851160266163096
         ],
         "y": [
          0.38605487768750646
         ],
         "z": [
          0.06986869482363005
         ]
        },
        {
         "customdata": [
          [
           "methionine adenosyltransferase",
           null,
           "Archaea",
           null,
           "Euryarchaeota",
           "Methanomicrobia",
           "Methanotrichales",
           "Methanotrichaceae",
           "Methanothrix",
           "Methanothrix sp.",
           "2.5.1.6",
           43259,
           "90426",
           0.021061026940849756,
           -0.48328266042817597,
           -0.13427649131759548,
           0.32930715650333925
          ]
         ],
         "hovertemplate": "<b>%{customdata[0]}</b><br>Family Name: %{customdata[1]}<br>Domain: %{customdata[2]}<br>Kingdom: %{customdata[3]}</b><br>Phylum: %{customdata[4]}<br>Class: %{customdata[5]}<br>Order: %{customdata[6]}<br>Family: %{customdata[7]}<br>Genus: %{customdata[8]}<br>Species: %{customdata[9]}<br>EC Number: %{customdata[10]}<br>Mol Weight: %{customdata[11]}<br>Taxonomy ID: %{customdata[12]}<extra></extra>",
         "marker": {
          "color": "rgb(67, 189, 113)",
          "size": 6,
          "symbol": "circle"
         },
         "mode": "markers",
         "text": "methionine adenosyltransferase",
         "type": "scatter3d",
         "x": [
          -0.48328266042817597
         ],
         "y": [
          -0.13427649131759548
         ],
         "z": [
          0.32930715650333925
         ]
        },
        {
         "customdata": [
          [
           "methionine adenosyltransferase",
           null,
           "Archaea",
           null,
           "Euryarchaeota",
           "Methanomicrobia",
           "Methanotrichales",
           "Methanotrichaceae",
           "Methanothrix",
           "Methanothrix sp.",
           "2.5.1.6",
           null,
           "90426",
           0.0013646675866673173,
           -0.6117292270021328,
           -0.3186013005987738,
           0.6224269147694809
          ]
         ],
         "hovertemplate": "<b>%{customdata[0]}</b><br>Family Name: %{customdata[1]}<br>Domain: %{customdata[2]}<br>Kingdom: %{customdata[3]}</b><br>Phylum: %{customdata[4]}<br>Class: %{customdata[5]}<br>Order: %{customdata[6]}<br>Family: %{customdata[7]}<br>Genus: %{customdata[8]}<br>Species: %{customdata[9]}<br>EC Number: %{customdata[10]}<br>Mol Weight: %{customdata[11]}<br>Taxonomy ID: %{customdata[12]}<extra></extra>",
         "marker": {
          "color": "rgb(67, 189, 113)",
          "size": 6,
          "symbol": "circle"
         },
         "mode": "markers",
         "text": "methionine adenosyltransferase",
         "type": "scatter3d",
         "x": [
          -0.6117292270021328
         ],
         "y": [
          -0.3186013005987738
         ],
         "z": [
          0.6224269147694809
         ]
        },
        {
         "customdata": [
          [
           "methionine adenosyltransferase",
           null,
           "Archaea",
           null,
           "Euryarchaeota",
           "Archaeoglobi",
           "Archaeoglobales",
           null,
           null,
           "Archaeoglobales archaeon",
           "2.5.1.6",
           null,
           "2250258",
           0.0003408147545669542,
           0.11215236027842736,
           -0.5046649198967167,
           0.01819146298054175
          ]
         ],
         "hovertemplate": "<b>%{customdata[0]}</b><br>Family Name: %{customdata[1]}<br>Domain: %{customdata[2]}<br>Kingdom: %{customdata[3]}</b><br>Phylum: %{customdata[4]}<br>Class: %{customdata[5]}<br>Order: %{customdata[6]}<br>Family: %{customdata[7]}<br>Genus: %{customdata[8]}<br>Species: %{customdata[9]}<br>EC Number: %{customdata[10]}<br>Mol Weight: %{customdata[11]}<br>Taxonomy ID: %{customdata[12]}<extra></extra>",
         "marker": {
          "color": "rgb(38, 165, 132)",
          "size": 6,
          "symbol": "circle"
         },
         "mode": "markers",
         "text": "methionine adenosyltransferase",
         "type": "scatter3d",
         "x": [
          0.11215236027842736
         ],
         "y": [
          -0.5046649198967167
         ],
         "z": [
          0.01819146298054175
         ]
        },
        {
         "customdata": [
          [
           "methionine adenosyltransferase",
           null,
           "Archaea",
           null,
           "Euryarchaeota",
           "Archaeoglobi",
           "Archaeoglobales",
           "Archaeoglobaceae",
           null,
           "Archaeoglobaceae archaeon",
           "2.5.1.6",
           null,
           "2511821",
           0.0002787650181809073,
           0.1675088953959842,
           -0.5128079855997196,
           -0.018808453716542363
          ]
         ],
         "hovertemplate": "<b>%{customdata[0]}</b><br>Family Name: %{customdata[1]}<br>Domain: %{customdata[2]}<br>Kingdom: %{customdata[3]}</b><br>Phylum: %{customdata[4]}<br>Class: %{customdata[5]}<br>Order: %{customdata[6]}<br>Family: %{customdata[7]}<br>Genus: %{customdata[8]}<br>Species: %{customdata[9]}<br>EC Number: %{customdata[10]}<br>Mol Weight: %{customdata[11]}<br>Taxonomy ID: %{customdata[12]}<extra></extra>",
         "marker": {
          "color": "rgb(211, 226, 40)",
          "size": 6,
          "symbol": "circle"
         },
         "mode": "markers",
         "text": "methionine adenosyltransferase",
         "type": "scatter3d",
         "x": [
          0.1675088953959842
         ],
         "y": [
          -0.5128079855997196
         ],
         "z": [
          -0.018808453716542363
         ]
        },
        {
         "customdata": [
          [
           "methionine adenosyltransferase",
           null,
           "Archaea",
           null,
           "Euryarchaeota",
           "Methanomicrobia",
           "Methanosarcinales",
           "Methanosarcinaceae",
           "Methanosarcina",
           "Methanosarcina mazei",
           "2.5.1.6",
           43801,
           "2209",
           0.000733132503634174,
           -0.17200093752658238,
           -0.5369728040501671,
           0.5355872917175669
          ]
         ],
         "hovertemplate": "<b>%{customdata[0]}</b><br>Family Name: %{customdata[1]}<br>Domain: %{customdata[2]}<br>Kingdom: %{customdata[3]}</b><br>Phylum: %{customdata[4]}<br>Class: %{customdata[5]}<br>Order: %{customdata[6]}<br>Family: %{customdata[7]}<br>Genus: %{customdata[8]}<br>Species: %{customdata[9]}<br>EC Number: %{customdata[10]}<br>Mol Weight: %{customdata[11]}<br>Taxonomy ID: %{customdata[12]}<extra></extra>",
         "marker": {
          "color": "rgb(69, 12, 94)",
          "size": 6,
          "symbol": "circle"
         },
         "mode": "markers",
         "text": "methionine adenosyltransferase",
         "type": "scatter3d",
         "x": [
          -0.17200093752658238
         ],
         "y": [
          -0.5369728040501671
         ],
         "z": [
          0.5355872917175669
         ]
        },
        {
         "customdata": [
          [
           "S-adenosylmethionine synthetase",
           null,
           "Archaea",
           null,
           null,
           null,
           null,
           null,
           null,
           "archaeon BMS3Bbin15",
           null,
           null,
           "2005738",
           0.00027746733993043205,
           -0.08027433102795521,
           0.06100121787737275,
           -0.47372275640509837
          ]
         ],
         "hovertemplate": "<b>%{customdata[0]}</b><br>Family Name: %{customdata[1]}<br>Domain: %{customdata[2]}<br>Kingdom: %{customdata[3]}</b><br>Phylum: %{customdata[4]}<br>Class: %{customdata[5]}<br>Order: %{customdata[6]}<br>Family: %{customdata[7]}<br>Genus: %{customdata[8]}<br>Species: %{customdata[9]}<br>EC Number: %{customdata[10]}<br>Mol Weight: %{customdata[11]}<br>Taxonomy ID: %{customdata[12]}<extra></extra>",
         "marker": {
          "color": "rgb(34, 162, 135)",
          "size": 6,
          "symbol": "circle"
         },
         "mode": "markers",
         "text": "S-adenosylmethionine synthetase",
         "type": "scatter3d",
         "x": [
          -0.08027433102795521
         ],
         "y": [
          0.06100121787737275
         ],
         "z": [
          -0.47372275640509837
         ]
        },
        {
         "customdata": [
          [
           "methionine adenosyltransferase",
           null,
           "Archaea",
           null,
           "Euryarchaeota",
           "Archaeoglobi",
           "Archaeoglobales",
           "Archaeoglobaceae",
           "Archaeoglobus",
           "Archaeoglobus neptunius",
           "2.5.1.6",
           44994,
           "2798580",
           0.000049210614082568315,
           0.16064171317214412,
           -0.5638706423845019,
           0.056448228245761546
          ]
         ],
         "hovertemplate": "<b>%{customdata[0]}</b><br>Family Name: %{customdata[1]}<br>Domain: %{customdata[2]}<br>Kingdom: %{customdata[3]}</b><br>Phylum: %{customdata[4]}<br>Class: %{customdata[5]}<br>Order: %{customdata[6]}<br>Family: %{customdata[7]}<br>Genus: %{customdata[8]}<br>Species: %{customdata[9]}<br>EC Number: %{customdata[10]}<br>Mol Weight: %{customdata[11]}<br>Taxonomy ID: %{customdata[12]}<extra></extra>",
         "marker": {
          "color": "rgb(38, 132, 142)",
          "size": 6,
          "symbol": "circle"
         },
         "mode": "markers",
         "text": "methionine adenosyltransferase",
         "type": "scatter3d",
         "x": [
          0.16064171317214412
         ],
         "y": [
          -0.5638706423845019
         ],
         "z": [
          0.056448228245761546
         ]
        },
        {
         "customdata": [
          [
           "methionine adenosyltransferase",
           null,
           "Archaea",
           null,
           "Euryarchaeota",
           "Archaeoglobi",
           "Archaeoglobales",
           "Archaeoglobaceae",
           null,
           "Archaeoglobus",
           "2.5.1.6",
           44356,
           "2233",
           0.001517274759410091,
           0.07292490688525759,
           -0.35013709352493805,
           -0.004314542521310125
          ]
         ],
         "hovertemplate": "<b>%{customdata[0]}</b><br>Family Name: %{customdata[1]}<br>Domain: %{customdata[2]}<br>Kingdom: %{customdata[3]}</b><br>Phylum: %{customdata[4]}<br>Class: %{customdata[5]}<br>Order: %{customdata[6]}<br>Family: %{customdata[7]}<br>Genus: %{customdata[8]}<br>Species: %{customdata[9]}<br>EC Number: %{customdata[10]}<br>Mol Weight: %{customdata[11]}<br>Taxonomy ID: %{customdata[12]}<extra></extra>",
         "marker": {
          "color": "rgb(40, 126, 142)",
          "size": 6,
          "symbol": "circle"
         },
         "mode": "markers",
         "text": "methionine adenosyltransferase",
         "type": "scatter3d",
         "x": [
          0.07292490688525759
         ],
         "y": [
          -0.35013709352493805
         ],
         "z": [
          -0.004314542521310125
         ]
        },
        {
         "customdata": [
          [
           "methionine adenosyltransferase",
           null,
           "Archaea",
           null,
           "Euryarchaeota",
           "Archaeoglobi",
           "Archaeoglobales",
           "Archaeoglobaceae",
           "Archaeoglobus",
           "Archaeoglobus sp.",
           "2.5.1.6",
           null,
           "1872626",
           0,
           0.23509258150893514,
           -0.5900879830725089,
           -0.00011938384388418347
          ]
         ],
         "hovertemplate": "<b>%{customdata[0]}</b><br>Family Name: %{customdata[1]}<br>Domain: %{customdata[2]}<br>Kingdom: %{customdata[3]}</b><br>Phylum: %{customdata[4]}<br>Class: %{customdata[5]}<br>Order: %{customdata[6]}<br>Family: %{customdata[7]}<br>Genus: %{customdata[8]}<br>Species: %{customdata[9]}<br>EC Number: %{customdata[10]}<br>Mol Weight: %{customdata[11]}<br>Taxonomy ID: %{customdata[12]}<extra></extra>",
         "marker": {
          "color": "rgb(68, 4, 87)",
          "size": 6,
          "symbol": "circle"
         },
         "mode": "markers",
         "text": "methionine adenosyltransferase",
         "type": "scatter3d",
         "x": [
          0.23509258150893514
         ],
         "y": [
          -0.5900879830725089
         ],
         "z": [
          -0.00011938384388418347
         ]
        },
        {
         "customdata": [
          [
           "methionine adenosyltransferase",
           null,
           "Archaea",
           null,
           "Euryarchaeota",
           "Methanomicrobia",
           "Methanosarcinales",
           "Candidatus Methanoperedenaceae",
           "Methanoperedens",
           "Candidatus Methanoperedens sp.",
           "2.5.1.6",
           null,
           "2032688",
           0.0007157132684095589,
           -0.031221682782825028,
           -0.5402904179033895,
           0.38709849097282034
          ]
         ],
         "hovertemplate": "<b>%{customdata[0]}</b><br>Family Name: %{customdata[1]}<br>Domain: %{customdata[2]}<br>Kingdom: %{customdata[3]}</b><br>Phylum: %{customdata[4]}<br>Class: %{customdata[5]}<br>Order: %{customdata[6]}<br>Family: %{customdata[7]}<br>Genus: %{customdata[8]}<br>Species: %{customdata[9]}<br>EC Number: %{customdata[10]}<br>Mol Weight: %{customdata[11]}<br>Taxonomy ID: %{customdata[12]}<extra></extra>",
         "marker": {
          "color": "rgb(92, 199, 99)",
          "size": 6,
          "symbol": "circle"
         },
         "mode": "markers",
         "text": "methionine adenosyltransferase",
         "type": "scatter3d",
         "x": [
          -0.031221682782825028
         ],
         "y": [
          -0.5402904179033895
         ],
         "z": [
          0.38709849097282034
         ]
        },
        {
         "customdata": [
          [
           "methionine adenosyltransferase",
           null,
           "Archaea",
           null,
           "Euryarchaeota",
           "Methanomicrobia",
           "Methanotrichales",
           "Methanotrichaceae",
           "Methanothrix",
           "Methanothrix sp.",
           "2.5.1.6",
           null,
           "90426",
           0.00021138691654881383,
           -0.7590236291480374,
           -0.2601049906462562,
           0.6265738354847333
          ]
         ],
         "hovertemplate": "<b>%{customdata[0]}</b><br>Family Name: %{customdata[1]}<br>Domain: %{customdata[2]}<br>Kingdom: %{customdata[3]}</b><br>Phylum: %{customdata[4]}<br>Class: %{customdata[5]}<br>Order: %{customdata[6]}<br>Family: %{customdata[7]}<br>Genus: %{customdata[8]}<br>Species: %{customdata[9]}<br>EC Number: %{customdata[10]}<br>Mol Weight: %{customdata[11]}<br>Taxonomy ID: %{customdata[12]}<extra></extra>",
         "marker": {
          "color": "rgb(67, 189, 113)",
          "size": 6,
          "symbol": "circle"
         },
         "mode": "markers",
         "text": "methionine adenosyltransferase",
         "type": "scatter3d",
         "x": [
          -0.7590236291480374
         ],
         "y": [
          -0.2601049906462562
         ],
         "z": [
          0.6265738354847333
         ]
        },
        {
         "customdata": [
          [
           "methionine adenosyltransferase",
           null,
           "Archaea",
           null,
           "Euryarchaeota",
           "Methanomicrobia",
           "Methanotrichales",
           "Methanotrichaceae",
           "Methanothrix",
           "Methanothrix sp.",
           "2.5.1.6",
           null,
           "90426",
           0,
           -0.8467875306316597,
           -0.18813007098922913,
           0.5205684065957202
          ]
         ],
         "hovertemplate": "<b>%{customdata[0]}</b><br>Family Name: %{customdata[1]}<br>Domain: %{customdata[2]}<br>Kingdom: %{customdata[3]}</b><br>Phylum: %{customdata[4]}<br>Class: %{customdata[5]}<br>Order: %{customdata[6]}<br>Family: %{customdata[7]}<br>Genus: %{customdata[8]}<br>Species: %{customdata[9]}<br>EC Number: %{customdata[10]}<br>Mol Weight: %{customdata[11]}<br>Taxonomy ID: %{customdata[12]}<extra></extra>",
         "marker": {
          "color": "rgb(67, 189, 113)",
          "size": 6,
          "symbol": "circle"
         },
         "mode": "markers",
         "text": "methionine adenosyltransferase",
         "type": "scatter3d",
         "x": [
          -0.8467875306316597
         ],
         "y": [
          -0.18813007098922913
         ],
         "z": [
          0.5205684065957202
         ]
        },
        {
         "customdata": [
          [
           "methionine adenosyltransferase",
           null,
           "Archaea",
           null,
           "Candidatus Thermoplasmatota",
           "Thermoplasmata",
           null,
           null,
           null,
           "Thermoplasmata archaeon",
           "2.5.1.6",
           null,
           "1906666",
           0.000149714913336636,
           0.23754597260493854,
           0.5816718593601037,
           0.0933277794513803
          ]
         ],
         "hovertemplate": "<b>%{customdata[0]}</b><br>Family Name: %{customdata[1]}<br>Domain: %{customdata[2]}<br>Kingdom: %{customdata[3]}</b><br>Phylum: %{customdata[4]}<br>Class: %{customdata[5]}<br>Order: %{customdata[6]}<br>Family: %{customdata[7]}<br>Genus: %{customdata[8]}<br>Species: %{customdata[9]}<br>EC Number: %{customdata[10]}<br>Mol Weight: %{customdata[11]}<br>Taxonomy ID: %{customdata[12]}<extra></extra>",
         "marker": {
          "color": "rgb(50, 180, 123)",
          "size": 6,
          "symbol": "circle"
         },
         "mode": "markers",
         "text": "methionine adenosyltransferase",
         "type": "scatter3d",
         "x": [
          0.23754597260493854
         ],
         "y": [
          0.5816718593601037
         ],
         "z": [
          0.0933277794513803
         ]
        },
        {
         "customdata": [
          [
           "archaeal S-adenosylmethionine synthetase",
           null,
           "Archaea",
           null,
           "Candidatus Thermoplasmatota",
           null,
           null,
           null,
           "Aciduliprofundum",
           "Aciduliprofundum sp. MAR08-339",
           null,
           null,
           "673860",
           0.0011640194612695925,
           0.23193445773452093,
           0.5278545796439903,
           -0.6947623317751618
          ]
         ],
         "hovertemplate": "<b>%{customdata[0]}</b><br>Family Name: %{customdata[1]}<br>Domain: %{customdata[2]}<br>Kingdom: %{customdata[3]}</b><br>Phylum: %{customdata[4]}<br>Class: %{customdata[5]}<br>Order: %{customdata[6]}<br>Family: %{customdata[7]}<br>Genus: %{customdata[8]}<br>Species: %{customdata[9]}<br>EC Number: %{customdata[10]}<br>Mol Weight: %{customdata[11]}<br>Taxonomy ID: %{customdata[12]}<extra></extra>",
         "marker": {
          "color": "rgb(159, 217, 57)",
          "size": 6,
          "symbol": "circle"
         },
         "mode": "markers",
         "text": "archaeal S-adenosylmethionine synthetase",
         "type": "scatter3d",
         "x": [
          0.23193445773452093
         ],
         "y": [
          0.5278545796439903
         ],
         "z": [
          -0.6947623317751618
         ]
        },
        {
         "customdata": [
          [
           "S-adenosylmethionine synthetase",
           null,
           "Archaea",
           null,
           null,
           null,
           null,
           null,
           null,
           "archaeon",
           null,
           null,
           "1906665",
           0.000488416168403696,
           -0.13613725924295,
           0.11084058248255264,
           -0.4017254362422126
          ]
         ],
         "hovertemplate": "<b>%{customdata[0]}</b><br>Family Name: %{customdata[1]}<br>Domain: %{customdata[2]}<br>Kingdom: %{customdata[3]}</b><br>Phylum: %{customdata[4]}<br>Class: %{customdata[5]}<br>Order: %{customdata[6]}<br>Family: %{customdata[7]}<br>Genus: %{customdata[8]}<br>Species: %{customdata[9]}<br>EC Number: %{customdata[10]}<br>Mol Weight: %{customdata[11]}<br>Taxonomy ID: %{customdata[12]}<extra></extra>",
         "marker": {
          "color": "rgb(44, 117, 142)",
          "size": 6,
          "symbol": "circle"
         },
         "mode": "markers",
         "text": "S-adenosylmethionine synthetase",
         "type": "scatter3d",
         "x": [
          -0.13613725924295
         ],
         "y": [
          0.11084058248255264
         ],
         "z": [
          -0.4017254362422126
         ]
        },
        {
         "customdata": [
          [
           "methionine adenosyltransferase",
           null,
           "Archaea",
           null,
           "Euryarchaeota",
           "Methanomicrobia",
           "Methanosarcinales",
           "Methanosarcinaceae",
           "Methanosarcina",
           "Methanosarcina sp.",
           "2.5.1.6",
           null,
           "2213",
           0.0017601531400530945,
           -0.21904370722786762,
           -0.499040612059039,
           0.4607670624670329
          ]
         ],
         "hovertemplate": "<b>%{customdata[0]}</b><br>Family Name: %{customdata[1]}<br>Domain: %{customdata[2]}<br>Kingdom: %{customdata[3]}</b><br>Phylum: %{customdata[4]}<br>Class: %{customdata[5]}<br>Order: %{customdata[6]}<br>Family: %{customdata[7]}<br>Genus: %{customdata[8]}<br>Species: %{customdata[9]}<br>EC Number: %{customdata[10]}<br>Mol Weight: %{customdata[11]}<br>Taxonomy ID: %{customdata[12]}<extra></extra>",
         "marker": {
          "color": "rgb(55, 90, 140)",
          "size": 6,
          "symbol": "circle"
         },
         "mode": "markers",
         "text": "methionine adenosyltransferase",
         "type": "scatter3d",
         "x": [
          -0.21904370722786762
         ],
         "y": [
          -0.499040612059039
         ],
         "z": [
          0.4607670624670329
         ]
        },
        {
         "customdata": [
          [
           "methionine adenosyltransferase",
           null,
           "Archaea",
           null,
           "Euryarchaeota",
           "Methanomicrobia",
           "Methanosarcinales",
           "Methanosarcinaceae",
           "Methanosarcina",
           "Methanosarcina soligelidi",
           "2.5.1.6",
           43757,
           "1036677",
           0.0014050555205036238,
           -0.2950797487371673,
           -0.5087746081707909,
           0.5652860088667918
          ]
         ],
         "hovertemplate": "<b>%{customdata[0]}</b><br>Family Name: %{customdata[1]}<br>Domain: %{customdata[2]}<br>Kingdom: %{customdata[3]}</b><br>Phylum: %{customdata[4]}<br>Class: %{customdata[5]}<br>Order: %{customdata[6]}<br>Family: %{customdata[7]}<br>Genus: %{customdata[8]}<br>Species: %{customdata[9]}<br>EC Number: %{customdata[10]}<br>Mol Weight: %{customdata[11]}<br>Taxonomy ID: %{customdata[12]}<extra></extra>",
         "marker": {
          "color": "rgb(83, 195, 103)",
          "size": 6,
          "symbol": "circle"
         },
         "mode": "markers",
         "text": "methionine adenosyltransferase",
         "type": "scatter3d",
         "x": [
          -0.2950797487371673
         ],
         "y": [
          -0.5087746081707909
         ],
         "z": [
          0.5652860088667918
         ]
        },
        {
         "customdata": [
          [
           "S-adenosylmethionine synthetase",
           null,
           "Archaea",
           null,
           "Candidatus Thermoplasmatota",
           null,
           null,
           null,
           "Aciduliprofundum",
           "Candidatus Aciduliprofundum boonei",
           "2.5.1.6",
           null,
           "439481",
           0,
           0.2805129738219005,
           0.7523602739546581,
           -0.9450793499187526
          ]
         ],
         "hovertemplate": "<b>%{customdata[0]}</b><br>Family Name: %{customdata[1]}<br>Domain: %{customdata[2]}<br>Kingdom: %{customdata[3]}</b><br>Phylum: %{customdata[4]}<br>Class: %{customdata[5]}<br>Order: %{customdata[6]}<br>Family: %{customdata[7]}<br>Genus: %{customdata[8]}<br>Species: %{customdata[9]}<br>EC Number: %{customdata[10]}<br>Mol Weight: %{customdata[11]}<br>Taxonomy ID: %{customdata[12]}<extra></extra>",
         "marker": {
          "color": "rgb(34, 146, 139)",
          "size": 6,
          "symbol": "circle"
         },
         "mode": "markers",
         "text": "S-adenosylmethionine synthetase",
         "type": "scatter3d",
         "x": [
          0.2805129738219005
         ],
         "y": [
          0.7523602739546581
         ],
         "z": [
          -0.9450793499187526
         ]
        },
        {
         "customdata": [
          [
           "methionine adenosyltransferase",
           null,
           "Archaea",
           null,
           "Euryarchaeota",
           "Methanomicrobia",
           "Methanotrichales",
           "Methanotrichaceae",
           "Methanothrix",
           "Methanothrix sp.",
           "2.5.1.6",
           43392,
           "90426",
           0.0032352472788727995,
           -0.6944669095042945,
           -0.1631936179115082,
           0.48359151270116235
          ]
         ],
         "hovertemplate": "<b>%{customdata[0]}</b><br>Family Name: %{customdata[1]}<br>Domain: %{customdata[2]}<br>Kingdom: %{customdata[3]}</b><br>Phylum: %{customdata[4]}<br>Class: %{customdata[5]}<br>Order: %{customdata[6]}<br>Family: %{customdata[7]}<br>Genus: %{customdata[8]}<br>Species: %{customdata[9]}<br>EC Number: %{customdata[10]}<br>Mol Weight: %{customdata[11]}<br>Taxonomy ID: %{customdata[12]}<extra></extra>",
         "marker": {
          "color": "rgb(67, 189, 113)",
          "size": 6,
          "symbol": "circle"
         },
         "mode": "markers",
         "text": "methionine adenosyltransferase",
         "type": "scatter3d",
         "x": [
          -0.6944669095042945
         ],
         "y": [
          -0.1631936179115082
         ],
         "z": [
          0.48359151270116235
         ]
        },
        {
         "customdata": [
          [
           "methionine adenosyltransferase",
           null,
           "Archaea",
           null,
           "Candidatus Thermoplasmatota",
           "Thermoplasmata",
           null,
           null,
           null,
           "Thermoplasmata archaeon",
           "2.5.1.6",
           null,
           "1906666",
           0.00004748447159014569,
           0.11563974023076518,
           0.6460333985435714,
           0.2257573804945138
          ]
         ],
         "hovertemplate": "<b>%{customdata[0]}</b><br>Family Name: %{customdata[1]}<br>Domain: %{customdata[2]}<br>Kingdom: %{customdata[3]}</b><br>Phylum: %{customdata[4]}<br>Class: %{customdata[5]}<br>Order: %{customdata[6]}<br>Family: %{customdata[7]}<br>Genus: %{customdata[8]}<br>Species: %{customdata[9]}<br>EC Number: %{customdata[10]}<br>Mol Weight: %{customdata[11]}<br>Taxonomy ID: %{customdata[12]}<extra></extra>",
         "marker": {
          "color": "rgb(50, 180, 123)",
          "size": 6,
          "symbol": "circle"
         },
         "mode": "markers",
         "text": "methionine adenosyltransferase",
         "type": "scatter3d",
         "x": [
          0.11563974023076518
         ],
         "y": [
          0.6460333985435714
         ],
         "z": [
          0.2257573804945138
         ]
        },
        {
         "customdata": [
          [
           "methionine adenosyltransferase",
           null,
           "Archaea",
           null,
           "Candidatus Thermoplasmatota",
           null,
           null,
           null,
           "Aciduliprofundum",
           "Candidatus Aciduliprofundum boonei",
           "2.5.1.6",
           44094,
           "379547",
           0,
           0.28410937698655975,
           0.6520733493169488,
           -0.9999999999999999
          ]
         ],
         "hovertemplate": "<b>%{customdata[0]}</b><br>Family Name: %{customdata[1]}<br>Domain: %{customdata[2]}<br>Kingdom: %{customdata[3]}</b><br>Phylum: %{customdata[4]}<br>Class: %{customdata[5]}<br>Order: %{customdata[6]}<br>Family: %{customdata[7]}<br>Genus: %{customdata[8]}<br>Species: %{customdata[9]}<br>EC Number: %{customdata[10]}<br>Mol Weight: %{customdata[11]}<br>Taxonomy ID: %{customdata[12]}<extra></extra>",
         "marker": {
          "color": "rgb(54, 184, 120)",
          "size": 6,
          "symbol": "circle"
         },
         "mode": "markers",
         "text": "methionine adenosyltransferase",
         "type": "scatter3d",
         "x": [
          0.28410937698655975
         ],
         "y": [
          0.6520733493169488
         ],
         "z": [
          -0.9999999999999999
         ]
        },
        {
         "customdata": [
          [
           "methionine adenosyltransferase",
           null,
           "Archaea",
           null,
           "Euryarchaeota",
           "Methanococci",
           "Methanococcales",
           "Methanocaldococcaceae",
           "Methanocaldococcus",
           "Methanocaldococcus lauensis",
           "2.5.1.6",
           45138,
           "2546128",
           0.0036754919247120985,
           0.09176985078693078,
           0.18224050013359377,
           -0.14602592057388172
          ]
         ],
         "hovertemplate": "<b>%{customdata[0]}</b><br>Family Name: %{customdata[1]}<br>Domain: %{customdata[2]}<br>Kingdom: %{customdata[3]}</b><br>Phylum: %{customdata[4]}<br>Class: %{customdata[5]}<br>Order: %{customdata[6]}<br>Family: %{customdata[7]}<br>Genus: %{customdata[8]}<br>Species: %{customdata[9]}<br>EC Number: %{customdata[10]}<br>Mol Weight: %{customdata[11]}<br>Taxonomy ID: %{customdata[12]}<extra></extra>",
         "marker": {
          "color": "rgb(62, 74, 137)",
          "size": 6,
          "symbol": "circle"
         },
         "mode": "markers",
         "text": "methionine adenosyltransferase",
         "type": "scatter3d",
         "x": [
          0.09176985078693078
         ],
         "y": [
          0.18224050013359377
         ],
         "z": [
          -0.14602592057388172
         ]
        },
        {
         "customdata": [
          [
           "methionine adenosyltransferase",
           null,
           "Archaea",
           null,
           "Euryarchaeota",
           null,
           null,
           null,
           null,
           "Euryarchaeota archaeon",
           "2.5.1.6",
           null,
           "2026739",
           0.0036889464237118,
           0.009998031153057432,
           0.1526023630347933,
           -0.22002493313287325
          ]
         ],
         "hovertemplate": "<b>%{customdata[0]}</b><br>Family Name: %{customdata[1]}<br>Domain: %{customdata[2]}<br>Kingdom: %{customdata[3]}</b><br>Phylum: %{customdata[4]}<br>Class: %{customdata[5]}<br>Order: %{customdata[6]}<br>Family: %{customdata[7]}<br>Genus: %{customdata[8]}<br>Species: %{customdata[9]}<br>EC Number: %{customdata[10]}<br>Mol Weight: %{customdata[11]}<br>Taxonomy ID: %{customdata[12]}<extra></extra>",
         "marker": {
          "color": "rgb(65, 62, 131)",
          "size": 6,
          "symbol": "circle"
         },
         "mode": "markers",
         "text": "methionine adenosyltransferase",
         "type": "scatter3d",
         "x": [
          0.009998031153057432
         ],
         "y": [
          0.1526023630347933
         ],
         "z": [
          -0.22002493313287325
         ]
        },
        {
         "customdata": [
          [
           "S-adenosylmethionine synthase",
           null,
           "Archaea",
           null,
           "Euryarchaeota",
           "Methanomicrobia",
           "Methanotrichales",
           "Methanotrichaceae",
           "Methanothrix",
           "Methanosaeta sp. PtaB.Bin039",
           "2.5.1.6",
           null,
           "1811685",
           0,
           -0.8826322961795507,
           -0.20227299734053467,
           0.598579977868121
          ]
         ],
         "hovertemplate": "<b>%{customdata[0]}</b><br>Family Name: %{customdata[1]}<br>Domain: %{customdata[2]}<br>Kingdom: %{customdata[3]}</b><br>Phylum: %{customdata[4]}<br>Class: %{customdata[5]}<br>Order: %{customdata[6]}<br>Family: %{customdata[7]}<br>Genus: %{customdata[8]}<br>Species: %{customdata[9]}<br>EC Number: %{customdata[10]}<br>Mol Weight: %{customdata[11]}<br>Taxonomy ID: %{customdata[12]}<extra></extra>",
         "marker": {
          "color": "rgb(32, 152, 138)",
          "size": 6,
          "symbol": "circle"
         },
         "mode": "markers",
         "text": "S-adenosylmethionine synthase",
         "type": "scatter3d",
         "x": [
          -0.8826322961795507
         ],
         "y": [
          -0.20227299734053467
         ],
         "z": [
          0.598579977868121
         ]
        },
        {
         "customdata": [
          [
           "methionine adenosyltransferase",
           null,
           "Archaea",
           null,
           "Euryarchaeota",
           "Methanomicrobia",
           "Methanosarcinales",
           "Candidatus Methanoperedenaceae",
           "Methanoperedens",
           "Candidatus Methanoperedens sp.",
           "2.5.1.6",
           null,
           "2032688",
           0.0006394671919899155,
           -0.05493088001539203,
           -0.5977878068150796,
           0.3476636571748884
          ]
         ],
         "hovertemplate": "<b>%{customdata[0]}</b><br>Family Name: %{customdata[1]}<br>Domain: %{customdata[2]}<br>Kingdom: %{customdata[3]}</b><br>Phylum: %{customdata[4]}<br>Class: %{customdata[5]}<br>Order: %{customdata[6]}<br>Family: %{customdata[7]}<br>Genus: %{customdata[8]}<br>Species: %{customdata[9]}<br>EC Number: %{customdata[10]}<br>Mol Weight: %{customdata[11]}<br>Taxonomy ID: %{customdata[12]}<extra></extra>",
         "marker": {
          "color": "rgb(92, 199, 99)",
          "size": 6,
          "symbol": "circle"
         },
         "mode": "markers",
         "text": "methionine adenosyltransferase",
         "type": "scatter3d",
         "x": [
          -0.05493088001539203
         ],
         "y": [
          -0.5977878068150796
         ],
         "z": [
          0.3476636571748884
         ]
        },
        {
         "customdata": [
          [
           "methionine adenosyltransferase",
           null,
           "Archaea",
           null,
           "Candidatus Thermoplasmatota",
           "Thermoplasmata",
           null,
           null,
           null,
           "Thermoplasmata archaeon",
           "2.5.1.6",
           null,
           "1906666",
           0.00022936324050882377,
           0.07924675411604007,
           0.5672544127564695,
           0.0992408642483225
          ]
         ],
         "hovertemplate": "<b>%{customdata[0]}</b><br>Family Name: %{customdata[1]}<br>Domain: %{customdata[2]}<br>Kingdom: %{customdata[3]}</b><br>Phylum: %{customdata[4]}<br>Class: %{customdata[5]}<br>Order: %{customdata[6]}<br>Family: %{customdata[7]}<br>Genus: %{customdata[8]}<br>Species: %{customdata[9]}<br>EC Number: %{customdata[10]}<br>Mol Weight: %{customdata[11]}<br>Taxonomy ID: %{customdata[12]}<extra></extra>",
         "marker": {
          "color": "rgb(50, 180, 123)",
          "size": 6,
          "symbol": "circle"
         },
         "mode": "markers",
         "text": "methionine adenosyltransferase",
         "type": "scatter3d",
         "x": [
          0.07924675411604007
         ],
         "y": [
          0.5672544127564695
         ],
         "z": [
          0.0992408642483225
         ]
        },
        {
         "customdata": [
          [
           "methionine adenosyltransferase",
           null,
           "Archaea",
           null,
           "Euryarchaeota",
           "Archaeoglobi",
           "Archaeoglobales",
           null,
           null,
           "Archaeoglobales archaeon",
           "2.5.1.6",
           null,
           "2250258",
           0.001975791114640196,
           0.04140581202278751,
           -0.4938029175037387,
           0.11940664962001399
          ]
         ],
         "hovertemplate": "<b>%{customdata[0]}</b><br>Family Name: %{customdata[1]}<br>Domain: %{customdata[2]}<br>Kingdom: %{customdata[3]}</b><br>Phylum: %{customdata[4]}<br>Class: %{customdata[5]}<br>Order: %{customdata[6]}<br>Family: %{customdata[7]}<br>Genus: %{customdata[8]}<br>Species: %{customdata[9]}<br>EC Number: %{customdata[10]}<br>Mol Weight: %{customdata[11]}<br>Taxonomy ID: %{customdata[12]}<extra></extra>",
         "marker": {
          "color": "rgb(38, 165, 132)",
          "size": 6,
          "symbol": "circle"
         },
         "mode": "markers",
         "text": "methionine adenosyltransferase",
         "type": "scatter3d",
         "x": [
          0.04140581202278751
         ],
         "y": [
          -0.4938029175037387
         ],
         "z": [
          0.11940664962001399
         ]
        },
        {
         "customdata": [
          [
           "methionine adenosyltransferase",
           null,
           "Archaea",
           null,
           "Euryarchaeota",
           "Methanomicrobia",
           "Methanosarcinales",
           null,
           null,
           "Methanosarcinales archaeon",
           "2.5.1.6",
           null,
           "2250255",
           0,
           -0.8683968213946431,
           -0.10600522621257598,
           0.5548020166119975
          ]
         ],
         "hovertemplate": "<b>%{customdata[0]}</b><br>Family Name: %{customdata[1]}<br>Domain: %{customdata[2]}<br>Kingdom: %{customdata[3]}</b><br>Phylum: %{customdata[4]}<br>Class: %{customdata[5]}<br>Order: %{customdata[6]}<br>Family: %{customdata[7]}<br>Genus: %{customdata[8]}<br>Species: %{customdata[9]}<br>EC Number: %{customdata[10]}<br>Mol Weight: %{customdata[11]}<br>Taxonomy ID: %{customdata[12]}<extra></extra>",
         "marker": {
          "color": "rgb(243, 230, 38)",
          "size": 6,
          "symbol": "circle"
         },
         "mode": "markers",
         "text": "methionine adenosyltransferase",
         "type": "scatter3d",
         "x": [
          -0.8683968213946431
         ],
         "y": [
          -0.10600522621257598
         ],
         "z": [
          0.5548020166119975
         ]
        },
        {
         "customdata": [
          [
           "methionine adenosyltransferase",
           null,
           "Archaea",
           null,
           "Euryarchaeota",
           "Methanomicrobia",
           "Methanosarcinales",
           "Candidatus Methanoperedenaceae",
           "Methanoperedens",
           "Candidatus Methanoperedens nitroreducens",
           "2.5.1.6",
           43675,
           "1392998",
           0.0009903304901813703,
           -0.3141748591227729,
           -0.536018259806824,
           0.4451126114415145
          ]
         ],
         "hovertemplate": "<b>%{customdata[0]}</b><br>Family Name: %{customdata[1]}<br>Domain: %{customdata[2]}<br>Kingdom: %{customdata[3]}</b><br>Phylum: %{customdata[4]}<br>Class: %{customdata[5]}<br>Order: %{customdata[6]}<br>Family: %{customdata[7]}<br>Genus: %{customdata[8]}<br>Species: %{customdata[9]}<br>EC Number: %{customdata[10]}<br>Mol Weight: %{customdata[11]}<br>Taxonomy ID: %{customdata[12]}<extra></extra>",
         "marker": {
          "color": "rgb(59, 185, 118)",
          "size": 6,
          "symbol": "circle"
         },
         "mode": "markers",
         "text": "methionine adenosyltransferase",
         "type": "scatter3d",
         "x": [
          -0.3141748591227729
         ],
         "y": [
          -0.536018259806824
         ],
         "z": [
          0.4451126114415145
         ]
        },
        {
         "customdata": [
          [
           "S-adenosylmethionine synthase",
           null,
           "Archaea",
           null,
           "Euryarchaeota",
           "Methanomicrobia",
           "Methanotrichales",
           "Methanotrichaceae",
           "Methanothrix",
           "Methanosaeta sp. PtaU1.Bin060",
           "2.5.1.6",
           null,
           "1811688",
           0,
           -0.8061548819187357,
           -0.1366387191123802,
           0.6096099887299159
          ]
         ],
         "hovertemplate": "<b>%{customdata[0]}</b><br>Family Name: %{customdata[1]}<br>Domain: %{customdata[2]}<br>Kingdom: %{customdata[3]}</b><br>Phylum: %{customdata[4]}<br>Class: %{customdata[5]}<br>Order: %{customdata[6]}<br>Family: %{customdata[7]}<br>Genus: %{customdata[8]}<br>Species: %{customdata[9]}<br>EC Number: %{customdata[10]}<br>Mol Weight: %{customdata[11]}<br>Taxonomy ID: %{customdata[12]}<extra></extra>",
         "marker": {
          "color": "rgb(46, 111, 142)",
          "size": 6,
          "symbol": "circle"
         },
         "mode": "markers",
         "text": "S-adenosylmethionine synthase",
         "type": "scatter3d",
         "x": [
          -0.8061548819187357
         ],
         "y": [
          -0.1366387191123802
         ],
         "z": [
          0.6096099887299159
         ]
        },
        {
         "customdata": [
          [
           "methionine adenosyltransferase",
           null,
           "Archaea",
           null,
           "Euryarchaeota",
           "Methanomicrobia",
           "Methanotrichales",
           "Methanotrichaceae",
           "Methanothrix",
           "Methanothrix soehngenii",
           "2.5.1.6",
           43378,
           "2223",
           0.005717623585307773,
           -0.6480545322108807,
           -0.17195685942960134,
           0.43107334764607563
          ]
         ],
         "hovertemplate": "<b>%{customdata[0]}</b><br>Family Name: %{customdata[1]}<br>Domain: %{customdata[2]}<br>Kingdom: %{customdata[3]}</b><br>Phylum: %{customdata[4]}<br>Class: %{customdata[5]}<br>Order: %{customdata[6]}<br>Family: %{customdata[7]}<br>Genus: %{customdata[8]}<br>Species: %{customdata[9]}<br>EC Number: %{customdata[10]}<br>Mol Weight: %{customdata[11]}<br>Taxonomy ID: %{customdata[12]}<extra></extra>",
         "marker": {
          "color": "rgb(33, 148, 139)",
          "size": 6,
          "symbol": "circle"
         },
         "mode": "markers",
         "text": "methionine adenosyltransferase",
         "type": "scatter3d",
         "x": [
          -0.6480545322108807
         ],
         "y": [
          -0.17195685942960134
         ],
         "z": [
          0.43107334764607563
         ]
        },
        {
         "customdata": [
          [
           "methionine adenosyltransferase",
           null,
           "Archaea",
           null,
           "Euryarchaeota",
           "Methanomicrobia",
           "Methanotrichales",
           "Methanotrichaceae",
           "Methanothrix",
           "Methanothrix soehngenii",
           "2.5.1.6",
           43365,
           "2223",
           0.007878413329772946,
           -0.5803567531184749,
           -0.18851463880639047,
           0.41559427155547296
          ]
         ],
         "hovertemplate": "<b>%{customdata[0]}</b><br>Family Name: %{customdata[1]}<br>Domain: %{customdata[2]}<br>Kingdom: %{customdata[3]}</b><br>Phylum: %{customdata[4]}<br>Class: %{customdata[5]}<br>Order: %{customdata[6]}<br>Family: %{customdata[7]}<br>Genus: %{customdata[8]}<br>Species: %{customdata[9]}<br>EC Number: %{customdata[10]}<br>Mol Weight: %{customdata[11]}<br>Taxonomy ID: %{customdata[12]}<extra></extra>",
         "marker": {
          "color": "rgb(33, 148, 139)",
          "size": 6,
          "symbol": "circle"
         },
         "mode": "markers",
         "text": "methionine adenosyltransferase",
         "type": "scatter3d",
         "x": [
          -0.5803567531184749
         ],
         "y": [
          -0.18851463880639047
         ],
         "z": [
          0.41559427155547296
         ]
        },
        {
         "customdata": [
          [
           "methionine adenosyltransferase",
           null,
           "Archaea",
           null,
           "Euryarchaeota",
           "Methanomicrobia",
           "Methanotrichales",
           "Methanotrichaceae",
           null,
           "Methanothrix",
           "2.5.1.6",
           43454,
           "2222",
           0.00043679284553687617,
           -0.7695759741948311,
           -0.2884947103018802,
           0.5168299401606605
          ]
         ],
         "hovertemplate": "<b>%{customdata[0]}</b><br>Family Name: %{customdata[1]}<br>Domain: %{customdata[2]}<br>Kingdom: %{customdata[3]}</b><br>Phylum: %{customdata[4]}<br>Class: %{customdata[5]}<br>Order: %{customdata[6]}<br>Family: %{customdata[7]}<br>Genus: %{customdata[8]}<br>Species: %{customdata[9]}<br>EC Number: %{customdata[10]}<br>Mol Weight: %{customdata[11]}<br>Taxonomy ID: %{customdata[12]}<extra></extra>",
         "marker": {
          "color": "rgb(56, 88, 139)",
          "size": 6,
          "symbol": "circle"
         },
         "mode": "markers",
         "text": "methionine adenosyltransferase",
         "type": "scatter3d",
         "x": [
          -0.7695759741948311
         ],
         "y": [
          -0.2884947103018802
         ],
         "z": [
          0.5168299401606605
         ]
        },
        {
         "customdata": [
          [
           "methionine adenosyltransferase",
           null,
           "Archaea",
           null,
           "Euryarchaeota",
           "Methanomicrobia",
           "Methanosarcinales",
           "Methanosarcinaceae",
           "Methanosarcina",
           "Methanosarcina sp.",
           "2.5.1.6",
           43852,
           "2213",
           0.00029806041564377255,
           -0.25763429220316436,
           -0.6264235007506463,
           0.6533056579217994
          ]
         ],
         "hovertemplate": "<b>%{customdata[0]}</b><br>Family Name: %{customdata[1]}<br>Domain: %{customdata[2]}<br>Kingdom: %{customdata[3]}</b><br>Phylum: %{customdata[4]}<br>Class: %{customdata[5]}<br>Order: %{customdata[6]}<br>Family: %{customdata[7]}<br>Genus: %{customdata[8]}<br>Species: %{customdata[9]}<br>EC Number: %{customdata[10]}<br>Mol Weight: %{customdata[11]}<br>Taxonomy ID: %{customdata[12]}<extra></extra>",
         "marker": {
          "color": "rgb(55, 90, 140)",
          "size": 6,
          "symbol": "circle"
         },
         "mode": "markers",
         "text": "methionine adenosyltransferase",
         "type": "scatter3d",
         "x": [
          -0.25763429220316436
         ],
         "y": [
          -0.6264235007506463
         ],
         "z": [
          0.6533056579217994
         ]
        },
        {
         "customdata": [
          [
           "methionine adenosyltransferase",
           null,
           "Archaea",
           null,
           "Euryarchaeota",
           "Methanomicrobia",
           "Methanotrichales",
           "Methanotrichaceae",
           "Methanothrix",
           "Methanothrix sp.",
           "2.5.1.6",
           null,
           "90426",
           0.000862714359596911,
           -0.6811682879513803,
           -0.3347031178000126,
           0.5487317222647019
          ]
         ],
         "hovertemplate": "<b>%{customdata[0]}</b><br>Family Name: %{customdata[1]}<br>Domain: %{customdata[2]}<br>Kingdom: %{customdata[3]}</b><br>Phylum: %{customdata[4]}<br>Class: %{customdata[5]}<br>Order: %{customdata[6]}<br>Family: %{customdata[7]}<br>Genus: %{customdata[8]}<br>Species: %{customdata[9]}<br>EC Number: %{customdata[10]}<br>Mol Weight: %{customdata[11]}<br>Taxonomy ID: %{customdata[12]}<extra></extra>",
         "marker": {
          "color": "rgb(67, 189, 113)",
          "size": 6,
          "symbol": "circle"
         },
         "mode": "markers",
         "text": "methionine adenosyltransferase",
         "type": "scatter3d",
         "x": [
          -0.6811682879513803
         ],
         "y": [
          -0.3347031178000126
         ],
         "z": [
          0.5487317222647019
         ]
        }
       ],
       "layout": {
        "hovermode": "closest",
        "margin": {
         "b": 0,
         "l": 0,
         "r": 0,
         "t": 0
        },
        "plot_bgcolor": "white",
        "scene": {
         "xaxis": {
          "visible": false
         },
         "yaxis": {
          "visible": false
         },
         "zaxis": {
          "visible": false
         }
        },
        "showlegend": false,
        "template": {
         "data": {
          "bar": [
           {
            "error_x": {
             "color": "#2a3f5f"
            },
            "error_y": {
             "color": "#2a3f5f"
            },
            "marker": {
             "line": {
              "color": "#E5ECF6",
              "width": 0.5
             },
             "pattern": {
              "fillmode": "overlay",
              "size": 10,
              "solidity": 0.2
             }
            },
            "type": "bar"
           }
          ],
          "barpolar": [
           {
            "marker": {
             "line": {
              "color": "#E5ECF6",
              "width": 0.5
             },
             "pattern": {
              "fillmode": "overlay",
              "size": 10,
              "solidity": 0.2
             }
            },
            "type": "barpolar"
           }
          ],
          "carpet": [
           {
            "aaxis": {
             "endlinecolor": "#2a3f5f",
             "gridcolor": "white",
             "linecolor": "white",
             "minorgridcolor": "white",
             "startlinecolor": "#2a3f5f"
            },
            "baxis": {
             "endlinecolor": "#2a3f5f",
             "gridcolor": "white",
             "linecolor": "white",
             "minorgridcolor": "white",
             "startlinecolor": "#2a3f5f"
            },
            "type": "carpet"
           }
          ],
          "choropleth": [
           {
            "colorbar": {
             "outlinewidth": 0,
             "ticks": ""
            },
            "type": "choropleth"
           }
          ],
          "contour": [
           {
            "colorbar": {
             "outlinewidth": 0,
             "ticks": ""
            },
            "colorscale": [
             [
              0,
              "#0d0887"
             ],
             [
              0.1111111111111111,
              "#46039f"
             ],
             [
              0.2222222222222222,
              "#7201a8"
             ],
             [
              0.3333333333333333,
              "#9c179e"
             ],
             [
              0.4444444444444444,
              "#bd3786"
             ],
             [
              0.5555555555555556,
              "#d8576b"
             ],
             [
              0.6666666666666666,
              "#ed7953"
             ],
             [
              0.7777777777777778,
              "#fb9f3a"
             ],
             [
              0.8888888888888888,
              "#fdca26"
             ],
             [
              1,
              "#f0f921"
             ]
            ],
            "type": "contour"
           }
          ],
          "contourcarpet": [
           {
            "colorbar": {
             "outlinewidth": 0,
             "ticks": ""
            },
            "type": "contourcarpet"
           }
          ],
          "heatmap": [
           {
            "colorbar": {
             "outlinewidth": 0,
             "ticks": ""
            },
            "colorscale": [
             [
              0,
              "#0d0887"
             ],
             [
              0.1111111111111111,
              "#46039f"
             ],
             [
              0.2222222222222222,
              "#7201a8"
             ],
             [
              0.3333333333333333,
              "#9c179e"
             ],
             [
              0.4444444444444444,
              "#bd3786"
             ],
             [
              0.5555555555555556,
              "#d8576b"
             ],
             [
              0.6666666666666666,
              "#ed7953"
             ],
             [
              0.7777777777777778,
              "#fb9f3a"
             ],
             [
              0.8888888888888888,
              "#fdca26"
             ],
             [
              1,
              "#f0f921"
             ]
            ],
            "type": "heatmap"
           }
          ],
          "heatmapgl": [
           {
            "colorbar": {
             "outlinewidth": 0,
             "ticks": ""
            },
            "colorscale": [
             [
              0,
              "#0d0887"
             ],
             [
              0.1111111111111111,
              "#46039f"
             ],
             [
              0.2222222222222222,
              "#7201a8"
             ],
             [
              0.3333333333333333,
              "#9c179e"
             ],
             [
              0.4444444444444444,
              "#bd3786"
             ],
             [
              0.5555555555555556,
              "#d8576b"
             ],
             [
              0.6666666666666666,
              "#ed7953"
             ],
             [
              0.7777777777777778,
              "#fb9f3a"
             ],
             [
              0.8888888888888888,
              "#fdca26"
             ],
             [
              1,
              "#f0f921"
             ]
            ],
            "type": "heatmapgl"
           }
          ],
          "histogram": [
           {
            "marker": {
             "pattern": {
              "fillmode": "overlay",
              "size": 10,
              "solidity": 0.2
             }
            },
            "type": "histogram"
           }
          ],
          "histogram2d": [
           {
            "colorbar": {
             "outlinewidth": 0,
             "ticks": ""
            },
            "colorscale": [
             [
              0,
              "#0d0887"
             ],
             [
              0.1111111111111111,
              "#46039f"
             ],
             [
              0.2222222222222222,
              "#7201a8"
             ],
             [
              0.3333333333333333,
              "#9c179e"
             ],
             [
              0.4444444444444444,
              "#bd3786"
             ],
             [
              0.5555555555555556,
              "#d8576b"
             ],
             [
              0.6666666666666666,
              "#ed7953"
             ],
             [
              0.7777777777777778,
              "#fb9f3a"
             ],
             [
              0.8888888888888888,
              "#fdca26"
             ],
             [
              1,
              "#f0f921"
             ]
            ],
            "type": "histogram2d"
           }
          ],
          "histogram2dcontour": [
           {
            "colorbar": {
             "outlinewidth": 0,
             "ticks": ""
            },
            "colorscale": [
             [
              0,
              "#0d0887"
             ],
             [
              0.1111111111111111,
              "#46039f"
             ],
             [
              0.2222222222222222,
              "#7201a8"
             ],
             [
              0.3333333333333333,
              "#9c179e"
             ],
             [
              0.4444444444444444,
              "#bd3786"
             ],
             [
              0.5555555555555556,
              "#d8576b"
             ],
             [
              0.6666666666666666,
              "#ed7953"
             ],
             [
              0.7777777777777778,
              "#fb9f3a"
             ],
             [
              0.8888888888888888,
              "#fdca26"
             ],
             [
              1,
              "#f0f921"
             ]
            ],
            "type": "histogram2dcontour"
           }
          ],
          "mesh3d": [
           {
            "colorbar": {
             "outlinewidth": 0,
             "ticks": ""
            },
            "type": "mesh3d"
           }
          ],
          "parcoords": [
           {
            "line": {
             "colorbar": {
              "outlinewidth": 0,
              "ticks": ""
             }
            },
            "type": "parcoords"
           }
          ],
          "pie": [
           {
            "automargin": true,
            "type": "pie"
           }
          ],
          "scatter": [
           {
            "fillpattern": {
             "fillmode": "overlay",
             "size": 10,
             "solidity": 0.2
            },
            "type": "scatter"
           }
          ],
          "scatter3d": [
           {
            "line": {
             "colorbar": {
              "outlinewidth": 0,
              "ticks": ""
             }
            },
            "marker": {
             "colorbar": {
              "outlinewidth": 0,
              "ticks": ""
             }
            },
            "type": "scatter3d"
           }
          ],
          "scattercarpet": [
           {
            "marker": {
             "colorbar": {
              "outlinewidth": 0,
              "ticks": ""
             }
            },
            "type": "scattercarpet"
           }
          ],
          "scattergeo": [
           {
            "marker": {
             "colorbar": {
              "outlinewidth": 0,
              "ticks": ""
             }
            },
            "type": "scattergeo"
           }
          ],
          "scattergl": [
           {
            "marker": {
             "colorbar": {
              "outlinewidth": 0,
              "ticks": ""
             }
            },
            "type": "scattergl"
           }
          ],
          "scattermapbox": [
           {
            "marker": {
             "colorbar": {
              "outlinewidth": 0,
              "ticks": ""
             }
            },
            "type": "scattermapbox"
           }
          ],
          "scatterpolar": [
           {
            "marker": {
             "colorbar": {
              "outlinewidth": 0,
              "ticks": ""
             }
            },
            "type": "scatterpolar"
           }
          ],
          "scatterpolargl": [
           {
            "marker": {
             "colorbar": {
              "outlinewidth": 0,
              "ticks": ""
             }
            },
            "type": "scatterpolargl"
           }
          ],
          "scatterternary": [
           {
            "marker": {
             "colorbar": {
              "outlinewidth": 0,
              "ticks": ""
             }
            },
            "type": "scatterternary"
           }
          ],
          "surface": [
           {
            "colorbar": {
             "outlinewidth": 0,
             "ticks": ""
            },
            "colorscale": [
             [
              0,
              "#0d0887"
             ],
             [
              0.1111111111111111,
              "#46039f"
             ],
             [
              0.2222222222222222,
              "#7201a8"
             ],
             [
              0.3333333333333333,
              "#9c179e"
             ],
             [
              0.4444444444444444,
              "#bd3786"
             ],
             [
              0.5555555555555556,
              "#d8576b"
             ],
             [
              0.6666666666666666,
              "#ed7953"
             ],
             [
              0.7777777777777778,
              "#fb9f3a"
             ],
             [
              0.8888888888888888,
              "#fdca26"
             ],
             [
              1,
              "#f0f921"
             ]
            ],
            "type": "surface"
           }
          ],
          "table": [
           {
            "cells": {
             "fill": {
              "color": "#EBF0F8"
             },
             "line": {
              "color": "white"
             }
            },
            "header": {
             "fill": {
              "color": "#C8D4E3"
             },
             "line": {
              "color": "white"
             }
            },
            "type": "table"
           }
          ]
         },
         "layout": {
          "annotationdefaults": {
           "arrowcolor": "#2a3f5f",
           "arrowhead": 0,
           "arrowwidth": 1
          },
          "autotypenumbers": "strict",
          "coloraxis": {
           "colorbar": {
            "outlinewidth": 0,
            "ticks": ""
           }
          },
          "colorscale": {
           "diverging": [
            [
             0,
             "#8e0152"
            ],
            [
             0.1,
             "#c51b7d"
            ],
            [
             0.2,
             "#de77ae"
            ],
            [
             0.3,
             "#f1b6da"
            ],
            [
             0.4,
             "#fde0ef"
            ],
            [
             0.5,
             "#f7f7f7"
            ],
            [
             0.6,
             "#e6f5d0"
            ],
            [
             0.7,
             "#b8e186"
            ],
            [
             0.8,
             "#7fbc41"
            ],
            [
             0.9,
             "#4d9221"
            ],
            [
             1,
             "#276419"
            ]
           ],
           "sequential": [
            [
             0,
             "#0d0887"
            ],
            [
             0.1111111111111111,
             "#46039f"
            ],
            [
             0.2222222222222222,
             "#7201a8"
            ],
            [
             0.3333333333333333,
             "#9c179e"
            ],
            [
             0.4444444444444444,
             "#bd3786"
            ],
            [
             0.5555555555555556,
             "#d8576b"
            ],
            [
             0.6666666666666666,
             "#ed7953"
            ],
            [
             0.7777777777777778,
             "#fb9f3a"
            ],
            [
             0.8888888888888888,
             "#fdca26"
            ],
            [
             1,
             "#f0f921"
            ]
           ],
           "sequentialminus": [
            [
             0,
             "#0d0887"
            ],
            [
             0.1111111111111111,
             "#46039f"
            ],
            [
             0.2222222222222222,
             "#7201a8"
            ],
            [
             0.3333333333333333,
             "#9c179e"
            ],
            [
             0.4444444444444444,
             "#bd3786"
            ],
            [
             0.5555555555555556,
             "#d8576b"
            ],
            [
             0.6666666666666666,
             "#ed7953"
            ],
            [
             0.7777777777777778,
             "#fb9f3a"
            ],
            [
             0.8888888888888888,
             "#fdca26"
            ],
            [
             1,
             "#f0f921"
            ]
           ]
          },
          "colorway": [
           "#636efa",
           "#EF553B",
           "#00cc96",
           "#ab63fa",
           "#FFA15A",
           "#19d3f3",
           "#FF6692",
           "#B6E880",
           "#FF97FF",
           "#FECB52"
          ],
          "font": {
           "color": "#2a3f5f"
          },
          "geo": {
           "bgcolor": "white",
           "lakecolor": "white",
           "landcolor": "#E5ECF6",
           "showlakes": true,
           "showland": true,
           "subunitcolor": "white"
          },
          "hoverlabel": {
           "align": "left"
          },
          "hovermode": "closest",
          "mapbox": {
           "style": "light"
          },
          "paper_bgcolor": "white",
          "plot_bgcolor": "#E5ECF6",
          "polar": {
           "angularaxis": {
            "gridcolor": "white",
            "linecolor": "white",
            "ticks": ""
           },
           "bgcolor": "#E5ECF6",
           "radialaxis": {
            "gridcolor": "white",
            "linecolor": "white",
            "ticks": ""
           }
          },
          "scene": {
           "xaxis": {
            "backgroundcolor": "#E5ECF6",
            "gridcolor": "white",
            "gridwidth": 2,
            "linecolor": "white",
            "showbackground": true,
            "ticks": "",
            "zerolinecolor": "white"
           },
           "yaxis": {
            "backgroundcolor": "#E5ECF6",
            "gridcolor": "white",
            "gridwidth": 2,
            "linecolor": "white",
            "showbackground": true,
            "ticks": "",
            "zerolinecolor": "white"
           },
           "zaxis": {
            "backgroundcolor": "#E5ECF6",
            "gridcolor": "white",
            "gridwidth": 2,
            "linecolor": "white",
            "showbackground": true,
            "ticks": "",
            "zerolinecolor": "white"
           }
          },
          "shapedefaults": {
           "line": {
            "color": "#2a3f5f"
           }
          },
          "ternary": {
           "aaxis": {
            "gridcolor": "white",
            "linecolor": "white",
            "ticks": ""
           },
           "baxis": {
            "gridcolor": "white",
            "linecolor": "white",
            "ticks": ""
           },
           "bgcolor": "#E5ECF6",
           "caxis": {
            "gridcolor": "white",
            "linecolor": "white",
            "ticks": ""
           }
          },
          "title": {
           "x": 0.05
          },
          "xaxis": {
           "automargin": true,
           "gridcolor": "white",
           "linecolor": "white",
           "ticks": "",
           "title": {
            "standoff": 15
           },
           "zerolinecolor": "white",
           "zerolinewidth": 2
          },
          "yaxis": {
           "automargin": true,
           "gridcolor": "white",
           "linecolor": "white",
           "ticks": "",
           "title": {
            "standoff": 15
           },
           "zerolinecolor": "white",
           "zerolinewidth": 2
          }
         }
        },
        "xaxis": {
         "visible": false
        },
        "yaxis": {
         "visible": false
        }
       }
      }
     },
     "metadata": {},
     "output_type": "display_data"
    }
   ],
   "source": [
    "network = SequenceNetwork(\n",
    "    sequences=blast_results,\n",
    "    pairwise_alignments=alignments,\n",
    "    threshold=0.87,\n",
    "    weight=\"identity\",\n",
    "    dimensions=3,\n",
    "    color=\"taxonomy_id\",\n",
    ")\n",
    "network.add_target(matTS)\n",
    "network.visualize()"
   ]
  }
 ],
 "metadata": {
  "kernelspec": {
   "display_name": "pye",
   "language": "python",
   "name": "python3"
  },
  "language_info": {
   "codemirror_mode": {
    "name": "ipython",
    "version": 3
   },
   "file_extension": ".py",
   "mimetype": "text/x-python",
   "name": "python",
   "nbconvert_exporter": "python",
   "pygments_lexer": "ipython3",
   "version": "3.10.13"
  }
 },
 "nbformat": 4,
 "nbformat_minor": 2
}
