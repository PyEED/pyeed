{
 "cells": [
  {
   "cell_type": "markdown",
   "metadata": {},
   "source": [
    "# Example 1: Get protein information, run BLAST, and dump the results into a database\n"
   ]
  },
  {
   "cell_type": "code",
   "execution_count": 1,
   "metadata": {},
   "outputs": [],
   "source": [
    "%reload_ext autoreload\n",
    "%autoreload 2\n",
    "from pyEED.core import ProteinInfo"
   ]
  },
  {
   "cell_type": "markdown",
   "metadata": {},
   "source": [
    "## Query NCBI\n",
    "\n",
    "The pyEED library is centered around the `ProteinSequence` object, which integrates available information on protein sequence, corresponding nucleotide sequence, as well as regions and sites within the sequences. The `ProteinSequence` can be initialized directly with a protein sequence accession number."
   ]
  },
  {
   "cell_type": "code",
   "execution_count": 2,
   "metadata": {},
   "outputs": [
    {
     "name": "stdout",
     "output_type": "stream",
     "text": [
      "\u001b[4mProteinInfo\u001b[0m\n",
      "├── \u001b[94mid\u001b[0m = proteininfo0\n",
      "├── \u001b[94msource_id\u001b[0m = NP_001287541.1\n",
      "├── \u001b[94mname\u001b[0m = aldolase 1, isoform M\n",
      "├── \u001b[94msequence\u001b[0m = MTTYFNYPSKELQDELREIAQKIVAPGKGILAADESGPTMGKRLQDIGVENTEDNRRAYRQLLFSTDPKLAENISGVILFHETLYQKADDGTPFAEILKKKGIILGIKVDKGVVPLFGSEDEVTTQGLDDLAARCAQYKKDGCDFAKWRCVLKIGKNTPSYQSILENANVLARYASICQSQRIVPIVEPEVLPDGDHDLDRAQKVTETVLAAVYKALSDHHVYLEGTLLKPNMVTAGQSAKKNTPEEIALATVQALRRTVPAAVTGVTFLSGGQSEEEATVNLSAINNVPLIRPWALTFSYGRALQASVLRAWAGKKENIAAGQNELLKRAKANGDAAQGKYVAGSAGAGSGSLFVANHAY\n",
      "├── \u001b[94morganism\u001b[0m\n",
      "│   └── \u001b[4mOrganism\u001b[0m\n",
      "│       ├── \u001b[94mid\u001b[0m = organism0\n",
      "│       ├── \u001b[94mname\u001b[0m = Drosophila melanogaster\n",
      "│       ├── \u001b[94mtaxonomy_id\u001b[0m = taxon:7227\n",
      "│       ├── \u001b[94mdomain\u001b[0m = Eukaryota\n",
      "│       ├── \u001b[94mkingdom\u001b[0m = Metazoa\n",
      "│       ├── \u001b[94mphylum\u001b[0m = Arthropoda\n",
      "│       ├── \u001b[94mtax_class\u001b[0m = Insecta\n",
      "│       ├── \u001b[94morder\u001b[0m = Diptera\n",
      "│       ├── \u001b[94mfamily\u001b[0m = Drosophilidae\n",
      "│       ├── \u001b[94mgenus\u001b[0m = Drosophila\n",
      "│       └── \u001b[94mspecies\u001b[0m = melanogaster\n",
      "├── \u001b[94mregions\u001b[0m\n",
      "│   └── 0\n",
      "│       └── \u001b[4mProteinRegion\u001b[0m\n",
      "│           ├── \u001b[94mid\u001b[0m = proteinregion0\n",
      "│           ├── \u001b[94mname\u001b[0m = Glycolytic\n",
      "│           ├── \u001b[94mspans\u001b[0m\n",
      "│           │   └── 0\n",
      "│           │       └── \u001b[4mSpan\u001b[0m\n",
      "│           │           ├── \u001b[94mid\u001b[0m = span0\n",
      "│           │           ├── \u001b[94mstart\u001b[0m = 14\n",
      "│           │           └── \u001b[94mend\u001b[0m = 361\n",
      "│           ├── \u001b[94mnote\u001b[0m = Fructose-bisphosphate aldolase class-I; pfam00274\n",
      "│           └── \u001b[94mcross_reference\u001b[0m = CDD:425574\n",
      "├── \u001b[94msites\u001b[0m\n",
      "│   ├── 0\n",
      "│   │   └── \u001b[4mSite\u001b[0m\n",
      "│   │       ├── \u001b[94mid\u001b[0m = site0\n",
      "│   │       ├── \u001b[94mname\u001b[0m = active\n",
      "│   │       ├── \u001b[94mtype\u001b[0m = active\n",
      "│   │       ├── \u001b[94mpositions\u001b[0m = [33, 34, 35, 38, 107, ...]\n",
      "│   │       └── \u001b[94mcross_ref\u001b[0m = CDD:188635\n",
      "│   ├── 1\n",
      "│   │   └── \u001b[4mSite\u001b[0m\n",
      "│   │       ├── \u001b[94mid\u001b[0m = site1\n",
      "│   │       ├── \u001b[94mname\u001b[0m = intersubunit interface [polypeptide binding]\n",
      "│   │       ├── \u001b[94mtype\u001b[0m = unannotated\n",
      "│   │       ├── \u001b[94mpositions\u001b[0m = [110, 161, 164, 165, 168, ...]\n",
      "│   │       └── \u001b[94mcross_ref\u001b[0m = CDD:188635\n",
      "│   └── 2\n",
      "│       └── \u001b[4mSite\u001b[0m\n",
      "│           ├── \u001b[94mid\u001b[0m = site2\n",
      "│           ├── \u001b[94mname\u001b[0m = catalytic residue [active]\n",
      "│           ├── \u001b[94mtype\u001b[0m = active\n",
      "│           ├── \u001b[94mpositions\u001b[0m = [229, ...]\n",
      "│           └── \u001b[94mcross_ref\u001b[0m = CDD:188635\n",
      "├── \u001b[94mcoding_sequence_ref\u001b[0m\n",
      "│   └── \u001b[4mDNARegion\u001b[0m\n",
      "│       ├── \u001b[94mid\u001b[0m = NM_001300612.1\n",
      "│       ├── \u001b[94mspans\u001b[0m\n",
      "│       │   └── 0\n",
      "│       │       └── \u001b[4mSpan\u001b[0m\n",
      "│       │           ├── \u001b[94mid\u001b[0m = span1\n",
      "│       │           ├── \u001b[94mstart\u001b[0m = 278\n",
      "│       │           └── \u001b[94mend\u001b[0m = 1363\n",
      "│       └── \u001b[94mtype\u001b[0m = coding sequence\n",
      "├── \u001b[94mec_number\u001b[0m = 4.1.2.13\n",
      "└── \u001b[94mmol_weight\u001b[0m = 38916.0\n",
      "\n"
     ]
    }
   ],
   "source": [
    "aldolase = ProteinInfo.from_ncbi(\"NP_001287541.1\")\n",
    "print(aldolase)"
   ]
  },
  {
   "cell_type": "markdown",
   "metadata": {},
   "source": [
    "## BLAST search"
   ]
  },
  {
   "cell_type": "code",
   "execution_count": 3,
   "metadata": {},
   "outputs": [
    {
     "name": "stdout",
     "output_type": "stream",
     "text": [
      "🏃🏼‍♀️ Running PBLAST\n",
      "╭── protein name: aldolase 1, isoform M\n",
      "├── accession: NP_001287541.1\n",
      "├── organism: Drosophila melanogaster\n",
      "├── e-value: 1e-50\n",
      "╰── max hits: 10\n"
     ]
    },
    {
     "name": "stderr",
     "output_type": "stream",
     "text": [
      "⬇️ Fetching protein sequences: 100%|██████████| 10/10 [00:00<00:00, 52.96it/s]"
     ]
    },
    {
     "name": "stdout",
     "output_type": "stream",
     "text": [
      "🎉 Done\n",
      "\n"
     ]
    },
    {
     "name": "stderr",
     "output_type": "stream",
     "text": [
      "\n"
     ]
    }
   ],
   "source": [
    "blast_results = aldolase.pblast(n_hits=10, e_value=1e-50)\n",
    "blast_results.append(aldolase)"
   ]
  },
  {
   "cell_type": "markdown",
   "metadata": {},
   "source": [
    "## Storing `ProteinSequence`s in a PostgreSQL database\n",
    "\n"
   ]
  },
  {
   "cell_type": "code",
   "execution_count": 4,
   "metadata": {},
   "outputs": [],
   "source": [
    "from sdrdm_database import DBConnector"
   ]
  },
  {
   "cell_type": "markdown",
   "metadata": {},
   "source": [
    "### Setting up a local MySQL database\n",
    "\n",
    "First, a local MySQL database needs to be setup. Therefore, we run a docker container with a MySQL database. \n",
    "If docker is not installed on your system, please follow the instructions on the [docker website](https://docs.docker.com/get-docker/).\n",
    "\n",
    "\n",
    "In case this notebook is run on a macOS system with a M1 chip, the following command needs to be run in the terminal first:\n",
    "\n",
    ">```bash\n",
    ">export DOCKER_DEFAULT_PLATFORM=linux/amd64\n",
    ">```\n",
    "\n",
    "Next, navigate to the directory where this notebook is located and run the following command to start the docker container:\n",
    "\n",
    ">```bash\n",
    ">docker compose up -d\n",
    ">```\n",
    "\n",
    "### Delete contianers\n",
    "\n",
    ">```    \n",
    ">docker rm -vf $(docker ps -aq)\n",
    ">docker rmi -f $(docker images -aq)\n",
    ">```"
   ]
  },
  {
   "cell_type": "markdown",
   "metadata": {},
   "source": [
    "### Connect to the PostgreSQL database"
   ]
  },
  {
   "cell_type": "code",
   "execution_count": 5,
   "metadata": {},
   "outputs": [
    {
     "name": "stdout",
     "output_type": "stream",
     "text": [
      "🎉 Connected                                                                                        \n"
     ]
    }
   ],
   "source": [
    "import toml\n",
    "\n",
    "# Establish a connection to the database\n",
    "db = DBConnector(**toml.load(open(\"./env.toml\")))"
   ]
  },
  {
   "cell_type": "markdown",
   "metadata": {},
   "source": [
    "### Create tables for `ProteinInfo`"
   ]
  },
  {
   "cell_type": "code",
   "execution_count": 6,
   "metadata": {},
   "outputs": [
    {
     "name": "stdout",
     "output_type": "stream",
     "text": [
      "\n",
      "🚀 Creating tables for data model ProteinInfo\n",
      "│\n",
      "├── Table __model_meta__ not existing. Adding to DB!\n",
      "├── Added table model 'ProteinInfo' to __model_meta__ table\n",
      "├── Model 'ProteinInfo' already registered. Skipping.\n",
      "├── Created table 'ProteinInfo'\n",
      "├── Added table model 'ProteinInfo_coding_sequence_ref' to __model_meta__ table\n",
      "├── Created table 'ProteinInfo_coding_sequence_ref'\n",
      "├── Added table model 'DNARegion_spans' to __model_meta__ table\n",
      "├── Created table 'DNARegion_spans'\n",
      "├── Added table model 'ProteinInfo_sites' to __model_meta__ table\n",
      "├── Created table 'ProteinInfo_sites'\n",
      "├── Created table 'Site_positions'\n",
      "├── Added table model 'ProteinInfo_regions' to __model_meta__ table\n",
      "├── Created table 'ProteinInfo_regions'\n",
      "├── Added table model 'ProteinRegion_spans' to __model_meta__ table\n",
      "├── Created table 'ProteinRegion_spans'\n",
      "├── Added table model 'ProteinInfo_organism' to __model_meta__ table\n",
      "├── Created table 'ProteinInfo_organism'\n",
      "├── Added primary key 'ProteinInfo_id' to table ProteinInfo\n",
      "├── Added primary key 'ProteinInfo_coding_sequence_ref_id' to table ProteinInfo_coding_sequence_ref\n",
      "├── Added primary key 'DNARegion_spans_id' to table DNARegion_spans\n",
      "├── Added primary key 'ProteinInfo_sites_id' to table ProteinInfo_sites\n",
      "├── Added primary key 'ProteinInfo_regions_id' to table ProteinInfo_regions\n",
      "├── Added primary key 'ProteinRegion_spans_id' to table ProteinRegion_spans\n",
      "├── Added primary key 'ProteinInfo_organism_id' to table ProteinInfo_organism\n",
      "├── Added foreign key 'ProteinInfo_id'(ProteinInfo) to table ProteinInfo_coding_sequence_ref\n",
      "├── Added foreign key 'ProteinInfo_coding_sequence_ref_id'(ProteinInfo_coding_sequence_ref) to table DNARegion_spans\n",
      "├── Added foreign key 'ProteinInfo_id'(ProteinInfo) to table ProteinInfo_sites\n",
      "├── Added foreign key 'ProteinInfo_sites_id'(ProteinInfo_sites) to table Site_positions\n",
      "├── Added foreign key 'ProteinInfo_id'(ProteinInfo) to table ProteinInfo_regions\n",
      "├── Added foreign key 'ProteinInfo_regions_id'(ProteinInfo_regions) to table ProteinRegion_spans\n",
      "├── Added foreign key 'ProteinInfo_id'(ProteinInfo) to table ProteinInfo_organism\n",
      "│\n",
      "╰── 🎉 Created all tables for data model ProteinInfo\n",
      "\n"
     ]
    }
   ],
   "source": [
    "db.create_tables(\n",
    "    model=ProteinInfo,\n",
    "    markdown_path=\"/Users/max/Documents/GitHub/pyeed/specifications/data_model.md\",\n",
    ")"
   ]
  },
  {
   "cell_type": "code",
   "execution_count": 7,
   "metadata": {},
   "outputs": [
    {
     "data": {
      "text/plain": [
       "['DNARegion_spans',\n",
       " 'ProteinInfo',\n",
       " 'ProteinInfo_coding_sequence_ref',\n",
       " 'ProteinInfo_organism',\n",
       " 'ProteinInfo_regions',\n",
       " 'ProteinInfo_sites',\n",
       " 'ProteinRegion_spans',\n",
       " 'Site_positions',\n",
       " '__model_meta__']"
      ]
     },
     "execution_count": 7,
     "metadata": {},
     "output_type": "execute_result"
    }
   ],
   "source": [
    "# See all created table names\n",
    "db.connection.list_tables()"
   ]
  },
  {
   "cell_type": "markdown",
   "metadata": {},
   "source": [
    "### Populate the database with `ProteinSequence`s"
   ]
  },
  {
   "cell_type": "code",
   "execution_count": 8,
   "metadata": {},
   "outputs": [
    {
     "name": "stdout",
     "output_type": "stream",
     "text": [
      "Added dataset ProteinInfo (4f426ec3-20b9-4507-b932-b08b56931bea)\n",
      "Added dataset ProteinInfo (f279b756-1be7-4052-97a0-0b96e33c03d1)\n",
      "Added dataset ProteinInfo (23f7184f-22e5-4c05-aba1-d078fdd489f9)\n",
      "Added dataset ProteinInfo (d2eba4c6-e6ef-41d6-a0b7-263f3527988f)\n",
      "Added dataset ProteinInfo (6581d172-39b2-488a-8930-661aa23c695c)\n",
      "Added dataset ProteinInfo (49a9524c-ee3b-411c-b461-510739ce8f4d)\n",
      "Added dataset ProteinInfo (d9c6aed7-d4b4-4a8c-b07d-b103e12e0597)\n",
      "Added dataset ProteinInfo (cf180852-232f-47fd-8bb8-36de45243afc)\n",
      "Added dataset ProteinInfo (e20ad027-116a-49c5-a868-9ffb4d4e563d)\n",
      "Added dataset ProteinInfo (123dbc69-5043-46e6-a8ec-57780d6cfc5d)\n",
      "Added dataset ProteinInfo (a931df8e-e3b0-441c-bec7-7117e801025a)\n"
     ]
    }
   ],
   "source": [
    "# Insert all blast results into the database\n",
    "db.insert(*blast_results, verbose=True)"
   ]
  },
  {
   "cell_type": "markdown",
   "metadata": {},
   "source": [
    "### Look at entries in the database"
   ]
  },
  {
   "cell_type": "code",
   "execution_count": 9,
   "metadata": {},
   "outputs": [
    {
     "data": {
      "text/html": [
       "<pre style=\"white-space:pre;overflow-x:auto;line-height:normal;font-family:Menlo,'DejaVu Sans Mono',consolas,'Courier New',monospace\">┏━━━━━━━━━━━━━━━━━━━━━━━━━┳━━━━━━━━━━━━━┳━━━━━━━━━━━┳━━━━━━━━━┳━━━━━━━━━━━━┳━━━━━━━━━━━┳━━━━━━━━━┳━━━━━━━━━━━━━━━┳━━━━━━━━━━━━┳━━━━━━━━━━━━━━┳━━━━━━━━━━━━━━━━━━━━━━━━━━━━━━━━━━━━━━┳━━━━━━━━━━━━━━━━━━━━━━━━━━━━━━━━━━━━━━┓\n",
       "┃<span style=\"font-weight: bold\"> name                    </span>┃<span style=\"font-weight: bold\"> taxonomy_id </span>┃<span style=\"font-weight: bold\"> domain    </span>┃<span style=\"font-weight: bold\"> kingdom </span>┃<span style=\"font-weight: bold\"> phylum     </span>┃<span style=\"font-weight: bold\"> tax_class </span>┃<span style=\"font-weight: bold\"> order   </span>┃<span style=\"font-weight: bold\"> family        </span>┃<span style=\"font-weight: bold\"> genus      </span>┃<span style=\"font-weight: bold\"> species      </span>┃<span style=\"font-weight: bold\"> ProteinInfo_organism_id              </span>┃<span style=\"font-weight: bold\"> ProteinInfo_id                       </span>┃\n",
       "┡━━━━━━━━━━━━━━━━━━━━━━━━━╇━━━━━━━━━━━━━╇━━━━━━━━━━━╇━━━━━━━━━╇━━━━━━━━━━━━╇━━━━━━━━━━━╇━━━━━━━━━╇━━━━━━━━━━━━━━━╇━━━━━━━━━━━━╇━━━━━━━━━━━━━━╇━━━━━━━━━━━━━━━━━━━━━━━━━━━━━━━━━━━━━━╇━━━━━━━━━━━━━━━━━━━━━━━━━━━━━━━━━━━━━━┩\n",
       "│ <span style=\"color: #7f7f7f; text-decoration-color: #7f7f7f\">string</span>                  │ <span style=\"color: #7f7f7f; text-decoration-color: #7f7f7f\">!string</span>     │ <span style=\"color: #7f7f7f; text-decoration-color: #7f7f7f\">string</span>    │ <span style=\"color: #7f7f7f; text-decoration-color: #7f7f7f\">string</span>  │ <span style=\"color: #7f7f7f; text-decoration-color: #7f7f7f\">string</span>     │ <span style=\"color: #7f7f7f; text-decoration-color: #7f7f7f\">string</span>    │ <span style=\"color: #7f7f7f; text-decoration-color: #7f7f7f\">string</span>  │ <span style=\"color: #7f7f7f; text-decoration-color: #7f7f7f\">string</span>        │ <span style=\"color: #7f7f7f; text-decoration-color: #7f7f7f\">string</span>     │ <span style=\"color: #7f7f7f; text-decoration-color: #7f7f7f\">string</span>       │ <span style=\"color: #7f7f7f; text-decoration-color: #7f7f7f\">!string</span>                              │ <span style=\"color: #7f7f7f; text-decoration-color: #7f7f7f\">string</span>                               │\n",
       "├─────────────────────────┼─────────────┼───────────┼─────────┼────────────┼───────────┼─────────┼───────────────┼────────────┼──────────────┼──────────────────────────────────────┼──────────────────────────────────────┤\n",
       "│ <span style=\"color: #008000; text-decoration-color: #008000\">Drosophila melanogaster</span> │ <span style=\"color: #008000; text-decoration-color: #008000\">taxon:7227 </span> │ <span style=\"color: #008000; text-decoration-color: #008000\">Eukaryota</span> │ <span style=\"color: #008000; text-decoration-color: #008000\">Metazoa</span> │ <span style=\"color: #008000; text-decoration-color: #008000\">Arthropoda</span> │ <span style=\"color: #008000; text-decoration-color: #008000\">Insecta  </span> │ <span style=\"color: #008000; text-decoration-color: #008000\">Diptera</span> │ <span style=\"color: #008000; text-decoration-color: #008000\">Drosophilidae</span> │ <span style=\"color: #008000; text-decoration-color: #008000\">Drosophila</span> │ <span style=\"color: #008000; text-decoration-color: #008000\">melanogaster</span> │ <span style=\"color: #008000; text-decoration-color: #008000\">d0e04035-dba0-4b6c-9f6c-d0c994dbd27f</span> │ <span style=\"color: #008000; text-decoration-color: #008000\">4f426ec3-20b9-4507-b932-b08b56931bea</span> │\n",
       "│ <span style=\"color: #008000; text-decoration-color: #008000\">Drosophila melanogaster</span> │ <span style=\"color: #008000; text-decoration-color: #008000\">taxon:7227 </span> │ <span style=\"color: #008000; text-decoration-color: #008000\">Eukaryota</span> │ <span style=\"color: #008000; text-decoration-color: #008000\">Metazoa</span> │ <span style=\"color: #008000; text-decoration-color: #008000\">Arthropoda</span> │ <span style=\"color: #008000; text-decoration-color: #008000\">Insecta  </span> │ <span style=\"color: #008000; text-decoration-color: #008000\">Diptera</span> │ <span style=\"color: #008000; text-decoration-color: #008000\">Drosophilidae</span> │ <span style=\"color: #008000; text-decoration-color: #008000\">Drosophila</span> │ <span style=\"color: #008000; text-decoration-color: #008000\">melanogaster</span> │ <span style=\"color: #008000; text-decoration-color: #008000\">bca9a960-f3c7-44fc-8d69-60f0b13bd4d3</span> │ <span style=\"color: #008000; text-decoration-color: #008000\">f279b756-1be7-4052-97a0-0b96e33c03d1</span> │\n",
       "│ <span style=\"color: #008000; text-decoration-color: #008000\">Drosophila sechellia   </span> │ <span style=\"color: #008000; text-decoration-color: #008000\">taxon:7238 </span> │ <span style=\"color: #008000; text-decoration-color: #008000\">Eukaryota</span> │ <span style=\"color: #008000; text-decoration-color: #008000\">Metazoa</span> │ <span style=\"color: #008000; text-decoration-color: #008000\">Arthropoda</span> │ <span style=\"color: #008000; text-decoration-color: #008000\">Insecta  </span> │ <span style=\"color: #008000; text-decoration-color: #008000\">Diptera</span> │ <span style=\"color: #008000; text-decoration-color: #008000\">Drosophilidae</span> │ <span style=\"color: #008000; text-decoration-color: #008000\">Drosophila</span> │ <span style=\"color: #008000; text-decoration-color: #008000\">sechellia   </span> │ <span style=\"color: #008000; text-decoration-color: #008000\">50163d4d-8532-4fa2-9a00-1050745e2a88</span> │ <span style=\"color: #008000; text-decoration-color: #008000\">23f7184f-22e5-4c05-aba1-d078fdd489f9</span> │\n",
       "│ <span style=\"color: #008000; text-decoration-color: #008000\">Drosophila simulans    </span> │ <span style=\"color: #008000; text-decoration-color: #008000\">taxon:7240 </span> │ <span style=\"color: #008000; text-decoration-color: #008000\">Eukaryota</span> │ <span style=\"color: #008000; text-decoration-color: #008000\">Metazoa</span> │ <span style=\"color: #008000; text-decoration-color: #008000\">Arthropoda</span> │ <span style=\"color: #008000; text-decoration-color: #008000\">Insecta  </span> │ <span style=\"color: #008000; text-decoration-color: #008000\">Diptera</span> │ <span style=\"color: #008000; text-decoration-color: #008000\">Drosophilidae</span> │ <span style=\"color: #008000; text-decoration-color: #008000\">Drosophila</span> │ <span style=\"color: #008000; text-decoration-color: #008000\">simulans    </span> │ <span style=\"color: #008000; text-decoration-color: #008000\">d90eebd0-6f72-4cd5-a4b0-21ca78bc771a</span> │ <span style=\"color: #008000; text-decoration-color: #008000\">d2eba4c6-e6ef-41d6-a0b7-263f3527988f</span> │\n",
       "│ <span style=\"color: #008000; text-decoration-color: #008000\">Drosophila melanogaster</span> │ <span style=\"color: #008000; text-decoration-color: #008000\">taxon:7227 </span> │ <span style=\"color: #008000; text-decoration-color: #008000\">Eukaryota</span> │ <span style=\"color: #008000; text-decoration-color: #008000\">Metazoa</span> │ <span style=\"color: #008000; text-decoration-color: #008000\">Arthropoda</span> │ <span style=\"color: #008000; text-decoration-color: #008000\">Insecta  </span> │ <span style=\"color: #008000; text-decoration-color: #008000\">Diptera</span> │ <span style=\"color: #008000; text-decoration-color: #008000\">Drosophilidae</span> │ <span style=\"color: #008000; text-decoration-color: #008000\">Drosophila</span> │ <span style=\"color: #008000; text-decoration-color: #008000\">melanogaster</span> │ <span style=\"color: #008000; text-decoration-color: #008000\">b9851da1-47f4-4a7d-b84b-db4aeb117831</span> │ <span style=\"color: #008000; text-decoration-color: #008000\">6581d172-39b2-488a-8930-661aa23c695c</span> │\n",
       "│ <span style=\"color: #008000; text-decoration-color: #008000\">Drosophila erecta      </span> │ <span style=\"color: #008000; text-decoration-color: #008000\">taxon:7220 </span> │ <span style=\"color: #008000; text-decoration-color: #008000\">Eukaryota</span> │ <span style=\"color: #008000; text-decoration-color: #008000\">Metazoa</span> │ <span style=\"color: #008000; text-decoration-color: #008000\">Arthropoda</span> │ <span style=\"color: #008000; text-decoration-color: #008000\">Insecta  </span> │ <span style=\"color: #008000; text-decoration-color: #008000\">Diptera</span> │ <span style=\"color: #008000; text-decoration-color: #008000\">Drosophilidae</span> │ <span style=\"color: #008000; text-decoration-color: #008000\">Drosophila</span> │ <span style=\"color: #008000; text-decoration-color: #008000\">erecta      </span> │ <span style=\"color: #008000; text-decoration-color: #008000\">e2f21c88-4a38-4d88-9ae6-734d31e639b3</span> │ <span style=\"color: #008000; text-decoration-color: #008000\">49a9524c-ee3b-411c-b461-510739ce8f4d</span> │\n",
       "│ <span style=\"color: #008000; text-decoration-color: #008000\">Drosophila yakuba      </span> │ <span style=\"color: #008000; text-decoration-color: #008000\">taxon:7245 </span> │ <span style=\"color: #008000; text-decoration-color: #008000\">Eukaryota</span> │ <span style=\"color: #008000; text-decoration-color: #008000\">Metazoa</span> │ <span style=\"color: #008000; text-decoration-color: #008000\">Arthropoda</span> │ <span style=\"color: #008000; text-decoration-color: #008000\">Insecta  </span> │ <span style=\"color: #008000; text-decoration-color: #008000\">Diptera</span> │ <span style=\"color: #008000; text-decoration-color: #008000\">Drosophilidae</span> │ <span style=\"color: #008000; text-decoration-color: #008000\">Drosophila</span> │ <span style=\"color: #008000; text-decoration-color: #008000\">yakuba      </span> │ <span style=\"color: #008000; text-decoration-color: #008000\">505aa0cb-507b-4416-8611-34632d05ebd4</span> │ <span style=\"color: #008000; text-decoration-color: #008000\">d9c6aed7-d4b4-4a8c-b07d-b103e12e0597</span> │\n",
       "│ <span style=\"color: #008000; text-decoration-color: #008000\">Drosophila melanogaster</span> │ <span style=\"color: #008000; text-decoration-color: #008000\">taxon:7227 </span> │ <span style=\"color: #008000; text-decoration-color: #008000\">Eukaryota</span> │ <span style=\"color: #008000; text-decoration-color: #008000\">Metazoa</span> │ <span style=\"color: #008000; text-decoration-color: #008000\">Arthropoda</span> │ <span style=\"color: #008000; text-decoration-color: #008000\">Insecta  </span> │ <span style=\"color: #008000; text-decoration-color: #008000\">Diptera</span> │ <span style=\"color: #008000; text-decoration-color: #008000\">Drosophilidae</span> │ <span style=\"color: #008000; text-decoration-color: #008000\">Drosophila</span> │ <span style=\"color: #008000; text-decoration-color: #008000\">melanogaster</span> │ <span style=\"color: #008000; text-decoration-color: #008000\">9a3197c7-1543-4a88-8662-69211be58db4</span> │ <span style=\"color: #008000; text-decoration-color: #008000\">cf180852-232f-47fd-8bb8-36de45243afc</span> │\n",
       "│ <span style=\"color: #008000; text-decoration-color: #008000\">Drosophila teissieri   </span> │ <span style=\"color: #008000; text-decoration-color: #008000\">taxon:7243 </span> │ <span style=\"color: #008000; text-decoration-color: #008000\">Eukaryota</span> │ <span style=\"color: #008000; text-decoration-color: #008000\">Metazoa</span> │ <span style=\"color: #008000; text-decoration-color: #008000\">Arthropoda</span> │ <span style=\"color: #008000; text-decoration-color: #008000\">Insecta  </span> │ <span style=\"color: #008000; text-decoration-color: #008000\">Diptera</span> │ <span style=\"color: #008000; text-decoration-color: #008000\">Drosophilidae</span> │ <span style=\"color: #008000; text-decoration-color: #008000\">Drosophila</span> │ <span style=\"color: #008000; text-decoration-color: #008000\">teissieri   </span> │ <span style=\"color: #008000; text-decoration-color: #008000\">f0c643b7-9b8c-4675-95f6-a4e58767e021</span> │ <span style=\"color: #008000; text-decoration-color: #008000\">e20ad027-116a-49c5-a868-9ffb4d4e563d</span> │\n",
       "│ <span style=\"color: #008000; text-decoration-color: #008000\">Drosophila ficusphila  </span> │ <span style=\"color: #008000; text-decoration-color: #008000\">taxon:30025</span> │ <span style=\"color: #008000; text-decoration-color: #008000\">Eukaryota</span> │ <span style=\"color: #008000; text-decoration-color: #008000\">Metazoa</span> │ <span style=\"color: #008000; text-decoration-color: #008000\">Arthropoda</span> │ <span style=\"color: #008000; text-decoration-color: #008000\">Insecta  </span> │ <span style=\"color: #008000; text-decoration-color: #008000\">Diptera</span> │ <span style=\"color: #008000; text-decoration-color: #008000\">Drosophilidae</span> │ <span style=\"color: #008000; text-decoration-color: #008000\">Drosophila</span> │ <span style=\"color: #008000; text-decoration-color: #008000\">ficusphila  </span> │ <span style=\"color: #008000; text-decoration-color: #008000\">5f9b00b9-7e26-4124-aefd-ef3d1145a355</span> │ <span style=\"color: #008000; text-decoration-color: #008000\">123dbc69-5043-46e6-a8ec-57780d6cfc5d</span> │\n",
       "│ <span style=\"color: #7f7f7f; text-decoration-color: #7f7f7f\">…</span>                       │ <span style=\"color: #7f7f7f; text-decoration-color: #7f7f7f\">…</span>           │ <span style=\"color: #7f7f7f; text-decoration-color: #7f7f7f\">…</span>         │ <span style=\"color: #7f7f7f; text-decoration-color: #7f7f7f\">…</span>       │ <span style=\"color: #7f7f7f; text-decoration-color: #7f7f7f\">…</span>          │ <span style=\"color: #7f7f7f; text-decoration-color: #7f7f7f\">…</span>         │ <span style=\"color: #7f7f7f; text-decoration-color: #7f7f7f\">…</span>       │ <span style=\"color: #7f7f7f; text-decoration-color: #7f7f7f\">…</span>             │ <span style=\"color: #7f7f7f; text-decoration-color: #7f7f7f\">…</span>          │ <span style=\"color: #7f7f7f; text-decoration-color: #7f7f7f\">…</span>            │ <span style=\"color: #7f7f7f; text-decoration-color: #7f7f7f\">…</span>                                    │ <span style=\"color: #7f7f7f; text-decoration-color: #7f7f7f\">…</span>                                    │\n",
       "└─────────────────────────┴─────────────┴───────────┴─────────┴────────────┴───────────┴─────────┴───────────────┴────────────┴──────────────┴──────────────────────────────────────┴──────────────────────────────────────┘\n",
       "</pre>\n"
      ],
      "text/plain": [
       "┏━━━━━━━━━━━━━━━━━━━━━━━━━┳━━━━━━━━━━━━━┳━━━━━━━━━━━┳━━━━━━━━━┳━━━━━━━━━━━━┳━━━━━━━━━━━┳━━━━━━━━━┳━━━━━━━━━━━━━━━┳━━━━━━━━━━━━┳━━━━━━━━━━━━━━┳━━━━━━━━━━━━━━━━━━━━━━━━━━━━━━━━━━━━━━┳━━━━━━━━━━━━━━━━━━━━━━━━━━━━━━━━━━━━━━┓\n",
       "┃\u001b[1m \u001b[0m\u001b[1mname\u001b[0m\u001b[1m                   \u001b[0m\u001b[1m \u001b[0m┃\u001b[1m \u001b[0m\u001b[1mtaxonomy_id\u001b[0m\u001b[1m \u001b[0m┃\u001b[1m \u001b[0m\u001b[1mdomain\u001b[0m\u001b[1m   \u001b[0m\u001b[1m \u001b[0m┃\u001b[1m \u001b[0m\u001b[1mkingdom\u001b[0m\u001b[1m \u001b[0m┃\u001b[1m \u001b[0m\u001b[1mphylum\u001b[0m\u001b[1m    \u001b[0m\u001b[1m \u001b[0m┃\u001b[1m \u001b[0m\u001b[1mtax_class\u001b[0m\u001b[1m \u001b[0m┃\u001b[1m \u001b[0m\u001b[1morder\u001b[0m\u001b[1m  \u001b[0m\u001b[1m \u001b[0m┃\u001b[1m \u001b[0m\u001b[1mfamily\u001b[0m\u001b[1m       \u001b[0m\u001b[1m \u001b[0m┃\u001b[1m \u001b[0m\u001b[1mgenus\u001b[0m\u001b[1m     \u001b[0m\u001b[1m \u001b[0m┃\u001b[1m \u001b[0m\u001b[1mspecies\u001b[0m\u001b[1m     \u001b[0m\u001b[1m \u001b[0m┃\u001b[1m \u001b[0m\u001b[1mProteinInfo_organism_id\u001b[0m\u001b[1m             \u001b[0m\u001b[1m \u001b[0m┃\u001b[1m \u001b[0m\u001b[1mProteinInfo_id\u001b[0m\u001b[1m                      \u001b[0m\u001b[1m \u001b[0m┃\n",
       "┡━━━━━━━━━━━━━━━━━━━━━━━━━╇━━━━━━━━━━━━━╇━━━━━━━━━━━╇━━━━━━━━━╇━━━━━━━━━━━━╇━━━━━━━━━━━╇━━━━━━━━━╇━━━━━━━━━━━━━━━╇━━━━━━━━━━━━╇━━━━━━━━━━━━━━╇━━━━━━━━━━━━━━━━━━━━━━━━━━━━━━━━━━━━━━╇━━━━━━━━━━━━━━━━━━━━━━━━━━━━━━━━━━━━━━┩\n",
       "│ \u001b[2mstring\u001b[0m                  │ \u001b[2m!string\u001b[0m     │ \u001b[2mstring\u001b[0m    │ \u001b[2mstring\u001b[0m  │ \u001b[2mstring\u001b[0m     │ \u001b[2mstring\u001b[0m    │ \u001b[2mstring\u001b[0m  │ \u001b[2mstring\u001b[0m        │ \u001b[2mstring\u001b[0m     │ \u001b[2mstring\u001b[0m       │ \u001b[2m!string\u001b[0m                              │ \u001b[2mstring\u001b[0m                               │\n",
       "├─────────────────────────┼─────────────┼───────────┼─────────┼────────────┼───────────┼─────────┼───────────────┼────────────┼──────────────┼──────────────────────────────────────┼──────────────────────────────────────┤\n",
       "│ \u001b[32mDrosophila melanogaster\u001b[0m │ \u001b[32mtaxon:7227 \u001b[0m │ \u001b[32mEukaryota\u001b[0m │ \u001b[32mMetazoa\u001b[0m │ \u001b[32mArthropoda\u001b[0m │ \u001b[32mInsecta  \u001b[0m │ \u001b[32mDiptera\u001b[0m │ \u001b[32mDrosophilidae\u001b[0m │ \u001b[32mDrosophila\u001b[0m │ \u001b[32mmelanogaster\u001b[0m │ \u001b[32md0e04035-dba0-4b6c-9f6c-d0c994dbd27f\u001b[0m │ \u001b[32m4f426ec3-20b9-4507-b932-b08b56931bea\u001b[0m │\n",
       "│ \u001b[32mDrosophila melanogaster\u001b[0m │ \u001b[32mtaxon:7227 \u001b[0m │ \u001b[32mEukaryota\u001b[0m │ \u001b[32mMetazoa\u001b[0m │ \u001b[32mArthropoda\u001b[0m │ \u001b[32mInsecta  \u001b[0m │ \u001b[32mDiptera\u001b[0m │ \u001b[32mDrosophilidae\u001b[0m │ \u001b[32mDrosophila\u001b[0m │ \u001b[32mmelanogaster\u001b[0m │ \u001b[32mbca9a960-f3c7-44fc-8d69-60f0b13bd4d3\u001b[0m │ \u001b[32mf279b756-1be7-4052-97a0-0b96e33c03d1\u001b[0m │\n",
       "│ \u001b[32mDrosophila sechellia   \u001b[0m │ \u001b[32mtaxon:7238 \u001b[0m │ \u001b[32mEukaryota\u001b[0m │ \u001b[32mMetazoa\u001b[0m │ \u001b[32mArthropoda\u001b[0m │ \u001b[32mInsecta  \u001b[0m │ \u001b[32mDiptera\u001b[0m │ \u001b[32mDrosophilidae\u001b[0m │ \u001b[32mDrosophila\u001b[0m │ \u001b[32msechellia   \u001b[0m │ \u001b[32m50163d4d-8532-4fa2-9a00-1050745e2a88\u001b[0m │ \u001b[32m23f7184f-22e5-4c05-aba1-d078fdd489f9\u001b[0m │\n",
       "│ \u001b[32mDrosophila simulans    \u001b[0m │ \u001b[32mtaxon:7240 \u001b[0m │ \u001b[32mEukaryota\u001b[0m │ \u001b[32mMetazoa\u001b[0m │ \u001b[32mArthropoda\u001b[0m │ \u001b[32mInsecta  \u001b[0m │ \u001b[32mDiptera\u001b[0m │ \u001b[32mDrosophilidae\u001b[0m │ \u001b[32mDrosophila\u001b[0m │ \u001b[32msimulans    \u001b[0m │ \u001b[32md90eebd0-6f72-4cd5-a4b0-21ca78bc771a\u001b[0m │ \u001b[32md2eba4c6-e6ef-41d6-a0b7-263f3527988f\u001b[0m │\n",
       "│ \u001b[32mDrosophila melanogaster\u001b[0m │ \u001b[32mtaxon:7227 \u001b[0m │ \u001b[32mEukaryota\u001b[0m │ \u001b[32mMetazoa\u001b[0m │ \u001b[32mArthropoda\u001b[0m │ \u001b[32mInsecta  \u001b[0m │ \u001b[32mDiptera\u001b[0m │ \u001b[32mDrosophilidae\u001b[0m │ \u001b[32mDrosophila\u001b[0m │ \u001b[32mmelanogaster\u001b[0m │ \u001b[32mb9851da1-47f4-4a7d-b84b-db4aeb117831\u001b[0m │ \u001b[32m6581d172-39b2-488a-8930-661aa23c695c\u001b[0m │\n",
       "│ \u001b[32mDrosophila erecta      \u001b[0m │ \u001b[32mtaxon:7220 \u001b[0m │ \u001b[32mEukaryota\u001b[0m │ \u001b[32mMetazoa\u001b[0m │ \u001b[32mArthropoda\u001b[0m │ \u001b[32mInsecta  \u001b[0m │ \u001b[32mDiptera\u001b[0m │ \u001b[32mDrosophilidae\u001b[0m │ \u001b[32mDrosophila\u001b[0m │ \u001b[32merecta      \u001b[0m │ \u001b[32me2f21c88-4a38-4d88-9ae6-734d31e639b3\u001b[0m │ \u001b[32m49a9524c-ee3b-411c-b461-510739ce8f4d\u001b[0m │\n",
       "│ \u001b[32mDrosophila yakuba      \u001b[0m │ \u001b[32mtaxon:7245 \u001b[0m │ \u001b[32mEukaryota\u001b[0m │ \u001b[32mMetazoa\u001b[0m │ \u001b[32mArthropoda\u001b[0m │ \u001b[32mInsecta  \u001b[0m │ \u001b[32mDiptera\u001b[0m │ \u001b[32mDrosophilidae\u001b[0m │ \u001b[32mDrosophila\u001b[0m │ \u001b[32myakuba      \u001b[0m │ \u001b[32m505aa0cb-507b-4416-8611-34632d05ebd4\u001b[0m │ \u001b[32md9c6aed7-d4b4-4a8c-b07d-b103e12e0597\u001b[0m │\n",
       "│ \u001b[32mDrosophila melanogaster\u001b[0m │ \u001b[32mtaxon:7227 \u001b[0m │ \u001b[32mEukaryota\u001b[0m │ \u001b[32mMetazoa\u001b[0m │ \u001b[32mArthropoda\u001b[0m │ \u001b[32mInsecta  \u001b[0m │ \u001b[32mDiptera\u001b[0m │ \u001b[32mDrosophilidae\u001b[0m │ \u001b[32mDrosophila\u001b[0m │ \u001b[32mmelanogaster\u001b[0m │ \u001b[32m9a3197c7-1543-4a88-8662-69211be58db4\u001b[0m │ \u001b[32mcf180852-232f-47fd-8bb8-36de45243afc\u001b[0m │\n",
       "│ \u001b[32mDrosophila teissieri   \u001b[0m │ \u001b[32mtaxon:7243 \u001b[0m │ \u001b[32mEukaryota\u001b[0m │ \u001b[32mMetazoa\u001b[0m │ \u001b[32mArthropoda\u001b[0m │ \u001b[32mInsecta  \u001b[0m │ \u001b[32mDiptera\u001b[0m │ \u001b[32mDrosophilidae\u001b[0m │ \u001b[32mDrosophila\u001b[0m │ \u001b[32mteissieri   \u001b[0m │ \u001b[32mf0c643b7-9b8c-4675-95f6-a4e58767e021\u001b[0m │ \u001b[32me20ad027-116a-49c5-a868-9ffb4d4e563d\u001b[0m │\n",
       "│ \u001b[32mDrosophila ficusphila  \u001b[0m │ \u001b[32mtaxon:30025\u001b[0m │ \u001b[32mEukaryota\u001b[0m │ \u001b[32mMetazoa\u001b[0m │ \u001b[32mArthropoda\u001b[0m │ \u001b[32mInsecta  \u001b[0m │ \u001b[32mDiptera\u001b[0m │ \u001b[32mDrosophilidae\u001b[0m │ \u001b[32mDrosophila\u001b[0m │ \u001b[32mficusphila  \u001b[0m │ \u001b[32m5f9b00b9-7e26-4124-aefd-ef3d1145a355\u001b[0m │ \u001b[32m123dbc69-5043-46e6-a8ec-57780d6cfc5d\u001b[0m │\n",
       "│ \u001b[2m…\u001b[0m                       │ \u001b[2m…\u001b[0m           │ \u001b[2m…\u001b[0m         │ \u001b[2m…\u001b[0m       │ \u001b[2m…\u001b[0m          │ \u001b[2m…\u001b[0m         │ \u001b[2m…\u001b[0m       │ \u001b[2m…\u001b[0m             │ \u001b[2m…\u001b[0m          │ \u001b[2m…\u001b[0m            │ \u001b[2m…\u001b[0m                                    │ \u001b[2m…\u001b[0m                                    │\n",
       "└─────────────────────────┴─────────────┴───────────┴─────────┴────────────┴───────────┴─────────┴───────────────┴────────────┴──────────────┴──────────────────────────────────────┴──────────────────────────────────────┘"
      ]
     },
     "execution_count": 9,
     "metadata": {},
     "output_type": "execute_result"
    }
   ],
   "source": [
    "db.connection.table(\"ProteinInfo_organism\")"
   ]
  },
  {
   "cell_type": "code",
   "execution_count": 10,
   "metadata": {},
   "outputs": [
    {
     "name": "stdout",
     "output_type": "stream",
     "text": [
      "5\n"
     ]
    }
   ],
   "source": [
    "# Lets filter the blast results for a specific organism\n",
    "target = \"Drosophila melanogaster\"\n",
    "\n",
    "# First, join the ProteinSequence table with the ProteinSequence_organism table\n",
    "prot_seqs = db.connection.table(\"ProteinInfo\")\n",
    "organisms = db.connection.table(\"ProteinInfo_organism\")\n",
    "joined = prot_seqs.join(\n",
    "    organisms,\n",
    "    prot_seqs.ProteinInfo_id == organisms.ProteinInfo_id,\n",
    "    rname=\"organism_{name}\",\n",
    ")\n",
    "\n",
    "# Next, filter the joined table for the target organism\n",
    "filtered = joined.filter(joined.organism_name == target)\n",
    "filtered\n",
    "\n",
    "# Finally, we can get the corresponding ProteinSequence objects\n",
    "results = db.get(\"ProteinInfo\", filtered)\n",
    "print(len(results))"
   ]
  }
 ],
 "metadata": {
  "kernelspec": {
   "display_name": "sdrdm_example",
   "language": "python",
   "name": "python3"
  },
  "language_info": {
   "codemirror_mode": {
    "name": "ipython",
    "version": 3
   },
   "file_extension": ".py",
   "mimetype": "text/x-python",
   "name": "python",
   "nbconvert_exporter": "python",
   "pygments_lexer": "ipython3",
   "version": "3.10.13"
  }
 },
 "nbformat": 4,
 "nbformat_minor": 4
}
