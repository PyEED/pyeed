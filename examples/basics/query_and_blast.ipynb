{
 "cells": [
  {
   "cell_type": "markdown",
   "metadata": {},
   "source": [
    "# Example 1: Get protein information, run BLAST, and dump the results into a database\n"
   ]
  },
  {
   "cell_type": "code",
   "execution_count": 1,
   "metadata": {},
   "outputs": [],
   "source": [
    "%reload_ext autoreload\n",
    "%autoreload 2\n",
    "from pyEED.core import ProteinInfo"
   ]
  },
  {
   "cell_type": "markdown",
   "metadata": {},
   "source": [
    "## Query NCBI\n",
    "\n",
    "The pyEED library is centered around the `ProteinSequence` object, which integrates available information on protein sequence, corresponding nucleotide sequence, as well as regions and sites within the sequences. The `ProteinSequence` can be initialized directly with a protein sequence accession number."
   ]
  },
  {
   "cell_type": "code",
   "execution_count": 2,
   "metadata": {},
   "outputs": [
    {
     "name": "stdout",
     "output_type": "stream",
     "text": [
      "\u001b[4mProteinInfo\u001b[0m\n",
      "├── \u001b[94mid\u001b[0m = proteininfo0\n",
      "├── \u001b[94msource_id\u001b[0m = NP_001287541.1\n",
      "├── \u001b[94mname\u001b[0m = aldolase 1, isoform M\n",
      "├── \u001b[94msequence\u001b[0m = MTTYFNYPSKELQDELREIAQKIVAPGKGILAADESGPTMGKRLQDIGVENTEDNRRAYRQLLFSTDPKLAENISGVILFHETLYQKADDGTPFAEILKKKGIILGIKVDKGVVPLFGSEDEVTTQGLDDLAARCAQYKKDGCDFAKWRCVLKIGKNTPSYQSILENANVLARYASICQSQRIVPIVEPEVLPDGDHDLDRAQKVTETVLAAVYKALSDHHVYLEGTLLKPNMVTAGQSAKKNTPEEIALATVQALRRTVPAAVTGVTFLSGGQSEEEATVNLSAINNVPLIRPWALTFSYGRALQASVLRAWAGKKENIAAGQNELLKRAKANGDAAQGKYVAGSAGAGSGSLFVANHAY\n",
      "├── \u001b[94morganism\u001b[0m\n",
      "│   └── \u001b[4mOrganism\u001b[0m\n",
      "│       ├── \u001b[94mid\u001b[0m = organism0\n",
      "│       ├── \u001b[94mname\u001b[0m = Drosophila melanogaster\n",
      "│       ├── \u001b[94mtaxonomy_id\u001b[0m = taxon:7227\n",
      "│       ├── \u001b[94mdomain\u001b[0m = Eukaryota\n",
      "│       ├── \u001b[94mkingdom\u001b[0m = Metazoa\n",
      "│       ├── \u001b[94mphylum\u001b[0m = Arthropoda\n",
      "│       ├── \u001b[94mtax_class\u001b[0m = Insecta\n",
      "│       ├── \u001b[94morder\u001b[0m = Diptera\n",
      "│       ├── \u001b[94mfamily\u001b[0m = Drosophilidae\n",
      "│       ├── \u001b[94mgenus\u001b[0m = Drosophila\n",
      "│       └── \u001b[94mspecies\u001b[0m = melanogaster\n",
      "├── \u001b[94mregions\u001b[0m\n",
      "│   └── 0\n",
      "│       └── \u001b[4mProteinRegion\u001b[0m\n",
      "│           ├── \u001b[94mid\u001b[0m = proteinregion0\n",
      "│           ├── \u001b[94mname\u001b[0m = Glycolytic\n",
      "│           ├── \u001b[94mspans\u001b[0m\n",
      "│           │   └── 0\n",
      "│           │       └── \u001b[4mSpan\u001b[0m\n",
      "│           │           ├── \u001b[94mid\u001b[0m = span0\n",
      "│           │           ├── \u001b[94mstart\u001b[0m = 14\n",
      "│           │           └── \u001b[94mend\u001b[0m = 361\n",
      "│           ├── \u001b[94mnote\u001b[0m = Fructose-bisphosphate aldolase class-I; pfam00274\n",
      "│           └── \u001b[94mcross_reference\u001b[0m = CDD:425574\n",
      "├── \u001b[94msites\u001b[0m\n",
      "│   ├── 0\n",
      "│   │   └── \u001b[4mSite\u001b[0m\n",
      "│   │       ├── \u001b[94mid\u001b[0m = site0\n",
      "│   │       ├── \u001b[94mname\u001b[0m = active\n",
      "│   │       ├── \u001b[94mtype\u001b[0m = active\n",
      "│   │       ├── \u001b[94mpositions\u001b[0m = [33, 34, 35, 38, 107, ...]\n",
      "│   │       └── \u001b[94mcross_ref\u001b[0m = CDD:188635\n",
      "│   ├── 1\n",
      "│   │   └── \u001b[4mSite\u001b[0m\n",
      "│   │       ├── \u001b[94mid\u001b[0m = site1\n",
      "│   │       ├── \u001b[94mname\u001b[0m = intersubunit interface [polypeptide binding]\n",
      "│   │       ├── \u001b[94mtype\u001b[0m = unannotated\n",
      "│   │       ├── \u001b[94mpositions\u001b[0m = [110, 161, 164, 165, 168, ...]\n",
      "│   │       └── \u001b[94mcross_ref\u001b[0m = CDD:188635\n",
      "│   └── 2\n",
      "│       └── \u001b[4mSite\u001b[0m\n",
      "│           ├── \u001b[94mid\u001b[0m = site2\n",
      "│           ├── \u001b[94mname\u001b[0m = catalytic residue [active]\n",
      "│           ├── \u001b[94mtype\u001b[0m = active\n",
      "│           ├── \u001b[94mpositions\u001b[0m = [229, ...]\n",
      "│           └── \u001b[94mcross_ref\u001b[0m = CDD:188635\n",
      "├── \u001b[94mcoding_sequence_ref\u001b[0m\n",
      "│   └── \u001b[4mDNARegion\u001b[0m\n",
      "│       ├── \u001b[94mid\u001b[0m = NM_001300612.1\n",
      "│       ├── \u001b[94mspans\u001b[0m\n",
      "│       │   └── 0\n",
      "│       │       └── \u001b[4mSpan\u001b[0m\n",
      "│       │           ├── \u001b[94mid\u001b[0m = span1\n",
      "│       │           ├── \u001b[94mstart\u001b[0m = 278\n",
      "│       │           └── \u001b[94mend\u001b[0m = 1363\n",
      "│       └── \u001b[94mtype\u001b[0m = coding sequence\n",
      "├── \u001b[94mec_number\u001b[0m = 4.1.2.13\n",
      "└── \u001b[94mmol_weight\u001b[0m = 38916.0\n",
      "\n"
     ]
    }
   ],
   "source": [
    "aldolase = ProteinInfo.from_ncbi(\"NP_001287541.1\")\n",
    "print(aldolase)"
   ]
  },
  {
   "cell_type": "markdown",
   "metadata": {},
   "source": [
    "## BLAST search"
   ]
  },
  {
   "cell_type": "code",
   "execution_count": 3,
   "metadata": {},
   "outputs": [
    {
     "name": "stdout",
     "output_type": "stream",
     "text": [
      "🏃🏼‍♀️ Running PBLAST\n",
      "├── protein name: aldolase 1, isoform M\n",
      "├── organism: Drosophila melanogaster\n",
      "├── e-value: 1e-50\n",
      "└── max hits: 100\n"
     ]
    },
    {
     "name": "stderr",
     "output_type": "stream",
     "text": [
      "Fetching protein sequences: 100it [00:23,  4.24it/s]\n"
     ]
    }
   ],
   "source": [
    "blast_results = aldolase.pblast(n_hits=100, e_value=1e-50)"
   ]
  },
  {
   "cell_type": "code",
   "execution_count": null,
   "metadata": {},
   "outputs": [],
   "source": [
    "blast_results.append(aldolase)"
   ]
  },
  {
   "cell_type": "code",
   "execution_count": null,
   "metadata": {},
   "outputs": [],
   "source": [
    "v[\"f\"]"
   ]
  },
  {
   "cell_type": "markdown",
   "metadata": {},
   "source": [
    "## Storing `ProteinSequence`s in a PostgreSQL database\n",
    "\n"
   ]
  },
  {
   "cell_type": "code",
   "execution_count": 4,
   "metadata": {},
   "outputs": [],
   "source": [
    "from sdrdm_database import DBConnector"
   ]
  },
  {
   "cell_type": "markdown",
   "metadata": {},
   "source": [
    "### Setting up a local MySQL database\n",
    "\n",
    "First, a local MySQL database needs to be setup. Therefore, we run a docker container with a MySQL database. \n",
    "If docker is not installed on your system, please follow the instructions on the [docker website](https://docs.docker.com/get-docker/).\n",
    "\n",
    "\n",
    "In case this notebook is run on a macOS system with a M1 chip, the following command needs to be run in the terminal first:\n",
    "\n",
    ">```bash\n",
    ">export DOCKER_DEFAULT_PLATFORM=linux/amd64\n",
    ">```\n",
    "\n",
    "Next, navigate to the directory where this notebook is located and run the following command to start the docker container:\n",
    "\n",
    ">```bash\n",
    ">docker compose up -d\n",
    ">```\n",
    "\n",
    "### Delete contianers\n",
    "\n",
    ">```    \n",
    ">docker rm -vf $(docker ps -aq)\n",
    ">docker rmi -f $(docker images -aq)\n",
    ">```"
   ]
  },
  {
   "cell_type": "markdown",
   "metadata": {},
   "source": [
    "### Connect to the PostgreSQL database"
   ]
  },
  {
   "cell_type": "code",
   "execution_count": 5,
   "metadata": {},
   "outputs": [
    {
     "name": "stdout",
     "output_type": "stream",
     "text": [
      "🎉 Connected                                                                                        \n"
     ]
    }
   ],
   "source": [
    "import toml\n",
    "\n",
    "# Establish a connection to the database\n",
    "db = DBConnector(**toml.load(open(\"./env.toml\")))"
   ]
  },
  {
   "cell_type": "markdown",
   "metadata": {},
   "source": [
    "### Create tables for `ProteinInfo`"
   ]
  },
  {
   "cell_type": "code",
   "execution_count": 6,
   "metadata": {},
   "outputs": [
    {
     "name": "stdout",
     "output_type": "stream",
     "text": [
      "\n",
      "🚀 Creating tables for data model ProteinInfo\n",
      "│\n",
      "├── Model 'ProteinInfo' already registered. Skipping.\n",
      "├── Table 'ProteinInfo'. Already exists in database. Skipping.\n",
      "├── Table 'ProteinInfo_coding_sequence_ref'. Already exists in database. Skipping.\n",
      "├── Table 'DNARegion_spans'. Already exists in database. Skipping.\n",
      "├── Table 'ProteinInfo_sites'. Already exists in database. Skipping.\n",
      "├── Table 'Site_positions'. Already exists in database. Skipping.\n",
      "├── Table 'ProteinInfo_regions'. Already exists in database. Skipping.\n",
      "├── Table 'ProteinRegion_spans'. Already exists in database. Skipping.\n",
      "├── Table 'ProteinInfo_organism'. Already exists in database. Skipping.\n",
      "│\n",
      "╰── 🎉 Created all tables for data model ProteinInfo\n",
      "\n"
     ]
    }
   ],
   "source": [
    "db.create_tables(\n",
    "    model=ProteinInfo,\n",
    "    markdown_path=\"/Users/max/Documents/GitHub/pyeed/specifications/data_model.md\",\n",
    ")"
   ]
  },
  {
   "cell_type": "code",
   "execution_count": 7,
   "metadata": {},
   "outputs": [
    {
     "data": {
      "text/plain": [
       "['DNARegion_spans',\n",
       " 'ProteinInfo',\n",
       " 'ProteinInfo_coding_sequence_ref',\n",
       " 'ProteinInfo_organism',\n",
       " 'ProteinInfo_regions',\n",
       " 'ProteinInfo_sites',\n",
       " 'ProteinRegion_spans',\n",
       " 'Site_positions',\n",
       " '__model_meta__']"
      ]
     },
     "execution_count": 7,
     "metadata": {},
     "output_type": "execute_result"
    }
   ],
   "source": [
    "# See all created table names\n",
    "db.connection.list_tables()"
   ]
  },
  {
   "cell_type": "markdown",
   "metadata": {},
   "source": [
    "### Populate the database with `ProteinSequence`s"
   ]
  },
  {
   "cell_type": "code",
   "execution_count": 8,
   "metadata": {},
   "outputs": [
    {
     "name": "stdout",
     "output_type": "stream",
     "text": [
      "Added dataset ProteinInfo (47452444-edfe-42c1-b85c-7ec6ad4dd154)\n",
      "Added dataset ProteinInfo (ed6f6103-5371-4618-9b73-d56f72de7b98)\n",
      "Added dataset ProteinInfo (eaa4f927-e724-4cd6-80df-11a1e7fa2649)\n",
      "Added dataset ProteinInfo (0e4110e3-2990-4be3-ac4b-52912094bf7e)\n",
      "Added dataset ProteinInfo (0ea2b50c-009e-4e58-b035-390698ceb91a)\n",
      "Added dataset ProteinInfo (5520301b-e9e5-46a7-b382-fae567c86580)\n",
      "Added dataset ProteinInfo (e91b6929-2e1f-4c46-abef-725d44c2d1b5)\n",
      "Added dataset ProteinInfo (4f85e625-d663-4996-9a84-d8a542aefcba)\n",
      "Added dataset ProteinInfo (29be2ae5-4529-4721-b073-447dcb3e16c0)\n",
      "Added dataset ProteinInfo (4c1ad7f0-cbf3-4825-9728-913489189cef)\n",
      "Added dataset ProteinInfo (155e461e-9bfb-4c8e-8a69-63655878bc74)\n",
      "Added dataset ProteinInfo (db3397d5-eda9-4144-bef4-16bc6d1fc94c)\n",
      "Added dataset ProteinInfo (69fc5280-5771-4e92-99c0-17297c43c763)\n",
      "Added dataset ProteinInfo (81a90d8e-a1bd-4a92-8f23-e571a315f274)\n",
      "Added dataset ProteinInfo (2ecc5cbd-90bf-4ae6-83cc-9030317dee5e)\n",
      "Added dataset ProteinInfo (f4205ffd-7eee-4402-875b-b0a19582623d)\n",
      "Added dataset ProteinInfo (2c8a6ff3-ef2e-40de-85eb-0b355ea68e0a)\n",
      "Added dataset ProteinInfo (1dd1809b-b8b5-45e7-96a8-2b5f8c2fb253)\n",
      "Added dataset ProteinInfo (47cd622c-15c1-46f8-9c2f-3b4fd72ab409)\n",
      "Added dataset ProteinInfo (10a53ac1-30da-4156-9413-5260ea526c24)\n",
      "Added dataset ProteinInfo (d6e77b64-dd0c-4217-93f9-169362ea1137)\n",
      "Added dataset ProteinInfo (b7d99ae5-db9f-47b2-8cf0-10dcbbb4082c)\n",
      "Added dataset ProteinInfo (23a9df35-87d2-47ce-9cb8-a22c2d7de27b)\n",
      "Added dataset ProteinInfo (b66b606d-7ec2-4ba4-9c55-e72661188cfb)\n",
      "Added dataset ProteinInfo (348e4673-6384-4b32-935c-f526596fde9c)\n",
      "Added dataset ProteinInfo (235d4937-3d29-4c7e-9f8e-e54314e7d1a2)\n",
      "Added dataset ProteinInfo (a9ddecdc-4d10-4516-9612-88be9803c90b)\n"
     ]
    },
    {
     "ename": "KeyboardInterrupt",
     "evalue": "",
     "output_type": "error",
     "traceback": [
      "\u001b[0;31m---------------------------------------------------------------------------\u001b[0m",
      "\u001b[0;31mKeyboardInterrupt\u001b[0m                         Traceback (most recent call last)",
      "\u001b[1;32m/Users/max/Documents/GitHub/pyeed/examples/query_and_blast.ipynb Cell 18\u001b[0m line \u001b[0;36m2\n\u001b[1;32m      <a href='vscode-notebook-cell:/Users/max/Documents/GitHub/pyeed/examples/query_and_blast.ipynb#X22sZmlsZQ%3D%3D?line=0'>1</a>\u001b[0m \u001b[39m# Insert all blast results into the database\u001b[39;00m\n\u001b[0;32m----> <a href='vscode-notebook-cell:/Users/max/Documents/GitHub/pyeed/examples/query_and_blast.ipynb#X22sZmlsZQ%3D%3D?line=1'>2</a>\u001b[0m db\u001b[39m.\u001b[39;49minsert(\u001b[39m*\u001b[39;49mblast_results, verbose\u001b[39m=\u001b[39;49m\u001b[39mTrue\u001b[39;49;00m)\n",
      "File \u001b[0;32m~/miniconda3/envs/pye/lib/python3.10/site-packages/sdrdm_database/dbconnector.py:259\u001b[0m, in \u001b[0;36mDBConnector.insert\u001b[0;34m(self, verbose, *datasets)\u001b[0m\n\u001b[1;32m    257\u001b[0m \u001b[39mfor\u001b[39;00m dataset \u001b[39min\u001b[39;00m datasets:\n\u001b[1;32m    258\u001b[0m     \u001b[39mtry\u001b[39;00m:\n\u001b[0;32m--> 259\u001b[0m         insert_into_database(dataset\u001b[39m=\u001b[39;49mdataset, db\u001b[39m=\u001b[39;49m\u001b[39mself\u001b[39;49m)\n\u001b[1;32m    261\u001b[0m         \u001b[39mif\u001b[39;00m verbose:\n\u001b[1;32m    262\u001b[0m             \u001b[39mprint\u001b[39m(\n\u001b[1;32m    263\u001b[0m                 \u001b[39mf\u001b[39m\u001b[39m\"\u001b[39m\u001b[39mAdded dataset \u001b[39m\u001b[39m{\u001b[39;00mdataset\u001b[39m.\u001b[39m\u001b[39m__class__\u001b[39m\u001b[39m.\u001b[39m\u001b[39m__name__\u001b[39m\u001b[39m}\u001b[39;00m\u001b[39m (\u001b[39m\u001b[39m{\u001b[39;00m\u001b[39mstr\u001b[39m(dataset\u001b[39m.\u001b[39m__id__)\u001b[39m}\u001b[39;00m\u001b[39m)\u001b[39m\u001b[39m\"\u001b[39m\n\u001b[1;32m    264\u001b[0m             )\n",
      "File \u001b[0;32m~/miniconda3/envs/pye/lib/python3.10/site-packages/sdrdm_database/dataio.py:73\u001b[0m, in \u001b[0;36minsert_into_database\u001b[0;34m(dataset, db, table_name, parent_id, parent_col)\u001b[0m\n\u001b[1;32m     70\u001b[0m \u001b[39mif\u001b[39;00m _is_empty(sub_dataset):\n\u001b[1;32m     71\u001b[0m     \u001b[39mcontinue\u001b[39;00m\n\u001b[0;32m---> 73\u001b[0m insert_into_database(\n\u001b[1;32m     74\u001b[0m     dataset\u001b[39m=\u001b[39;49msub_dataset,\n\u001b[1;32m     75\u001b[0m     db\u001b[39m=\u001b[39;49mdb,\n\u001b[1;32m     76\u001b[0m     table_name\u001b[39m=\u001b[39;49msub_table,\n\u001b[1;32m     77\u001b[0m     parent_id\u001b[39m=\u001b[39;49m\u001b[39mstr\u001b[39;49m(dataset\u001b[39m.\u001b[39;49m__id__),\n\u001b[1;32m     78\u001b[0m     parent_col\u001b[39m=\u001b[39;49mtable_name,\n\u001b[1;32m     79\u001b[0m )\n",
      "File \u001b[0;32m~/miniconda3/envs/pye/lib/python3.10/site-packages/sdrdm_database/dataio.py:66\u001b[0m, in \u001b[0;36minsert_into_database\u001b[0;34m(dataset, db, table_name, parent_id, parent_col)\u001b[0m\n\u001b[1;32m     63\u001b[0m db\u001b[39m.\u001b[39mconnection\u001b[39m.\u001b[39minsert(table_name, to_insert)\n\u001b[1;32m     65\u001b[0m \u001b[39mfor\u001b[39;00m func \u001b[39min\u001b[39;00m post_insert:\n\u001b[0;32m---> 66\u001b[0m     func()\n\u001b[1;32m     68\u001b[0m \u001b[39mfor\u001b[39;00m sub_table, sub_data \u001b[39min\u001b[39;00m sub_objects\u001b[39m.\u001b[39mitems():\n\u001b[1;32m     69\u001b[0m     \u001b[39mfor\u001b[39;00m sub_dataset \u001b[39min\u001b[39;00m sub_data:\n",
      "File \u001b[0;32m~/miniconda3/envs/pye/lib/python3.10/site-packages/sdrdm_database/dataio.py:129\u001b[0m, in \u001b[0;36m_insert_primitive_array\u001b[0;34m(table, column, array, db, parent_col, parent_id)\u001b[0m\n\u001b[1;32m    124\u001b[0m \u001b[39mfor\u001b[39;00m value \u001b[39min\u001b[39;00m array:\n\u001b[1;32m    125\u001b[0m     to_insert \u001b[39m=\u001b[39m {\n\u001b[1;32m    126\u001b[0m         column: value,\n\u001b[1;32m    127\u001b[0m         parent_col: parent_id,\n\u001b[1;32m    128\u001b[0m     }\n\u001b[0;32m--> 129\u001b[0m     db\u001b[39m.\u001b[39;49mconnection\u001b[39m.\u001b[39;49minsert(table, to_insert)\n",
      "File \u001b[0;32m~/miniconda3/envs/pye/lib/python3.10/site-packages/ibis/backends/base/sql/alchemy/__init__.py:714\u001b[0m, in \u001b[0;36mBaseAlchemyBackend.insert\u001b[0;34m(self, table_name, obj, database, overwrite)\u001b[0m\n\u001b[1;32m    712\u001b[0m             bind\u001b[39m.\u001b[39mexecute(to_table\u001b[39m.\u001b[39minsert()\u001b[39m.\u001b[39mfrom_select(columns, compiled))\n\u001b[1;32m    713\u001b[0m \u001b[39melif\u001b[39;00m \u001b[39misinstance\u001b[39m(obj, (\u001b[39mlist\u001b[39m, \u001b[39mdict\u001b[39m)):\n\u001b[0;32m--> 714\u001b[0m     to_table \u001b[39m=\u001b[39m \u001b[39mself\u001b[39;49m\u001b[39m.\u001b[39;49m_get_sqla_table(table_name, schema\u001b[39m=\u001b[39;49mdatabase)\n\u001b[1;32m    716\u001b[0m     \u001b[39mwith\u001b[39;00m \u001b[39mself\u001b[39m\u001b[39m.\u001b[39mbegin() \u001b[39mas\u001b[39;00m bind:\n\u001b[1;32m    717\u001b[0m         \u001b[39mif\u001b[39;00m overwrite:\n",
      "File \u001b[0;32m~/miniconda3/envs/pye/lib/python3.10/site-packages/ibis/backends/base/sql/alchemy/__init__.py:501\u001b[0m, in \u001b[0;36mBaseAlchemyBackend._get_sqla_table\u001b[0;34m(self, name, schema, autoload, **_)\u001b[0m\n\u001b[1;32m    495\u001b[0m warnings\u001b[39m.\u001b[39mfilterwarnings(\n\u001b[1;32m    496\u001b[0m     \u001b[39m\"\u001b[39m\u001b[39mignore\u001b[39m\u001b[39m\"\u001b[39m, message\u001b[39m=\u001b[39m\u001b[39m\"\u001b[39m\u001b[39mDid not recognize type\u001b[39m\u001b[39m\"\u001b[39m, category\u001b[39m=\u001b[39msa\u001b[39m.\u001b[39mexc\u001b[39m.\u001b[39mSAWarning\n\u001b[1;32m    497\u001b[0m )\n\u001b[1;32m    498\u001b[0m warnings\u001b[39m.\u001b[39mfilterwarnings(\n\u001b[1;32m    499\u001b[0m     \u001b[39m\"\u001b[39m\u001b[39mignore\u001b[39m\u001b[39m\"\u001b[39m, message\u001b[39m=\u001b[39m\u001b[39m\"\u001b[39m\u001b[39mindex key\u001b[39m\u001b[39m\"\u001b[39m, category\u001b[39m=\u001b[39msa\u001b[39m.\u001b[39mexc\u001b[39m.\u001b[39mSAWarning\n\u001b[1;32m    500\u001b[0m )\n\u001b[0;32m--> 501\u001b[0m table \u001b[39m=\u001b[39m sa\u001b[39m.\u001b[39;49mTable(\n\u001b[1;32m    502\u001b[0m     name,\n\u001b[1;32m    503\u001b[0m     meta,\n\u001b[1;32m    504\u001b[0m     schema\u001b[39m=\u001b[39;49mschema,\n\u001b[1;32m    505\u001b[0m     autoload_with\u001b[39m=\u001b[39;49m\u001b[39mself\u001b[39;49m\u001b[39m.\u001b[39;49mcon \u001b[39mif\u001b[39;49;00m autoload \u001b[39melse\u001b[39;49;00m \u001b[39mNone\u001b[39;49;00m,\n\u001b[1;32m    506\u001b[0m     quote\u001b[39m=\u001b[39;49m\u001b[39mself\u001b[39;49m\u001b[39m.\u001b[39;49mcompiler\u001b[39m.\u001b[39;49mtranslator_class\u001b[39m.\u001b[39;49m_quote_table_names,\n\u001b[1;32m    507\u001b[0m )\n\u001b[1;32m    508\u001b[0m nulltype_cols \u001b[39m=\u001b[39m \u001b[39mfrozenset\u001b[39m(\n\u001b[1;32m    509\u001b[0m     col\u001b[39m.\u001b[39mname \u001b[39mfor\u001b[39;00m col \u001b[39min\u001b[39;00m table\u001b[39m.\u001b[39mc \u001b[39mif\u001b[39;00m \u001b[39misinstance\u001b[39m(col\u001b[39m.\u001b[39mtype, sa\u001b[39m.\u001b[39mtypes\u001b[39m.\u001b[39mNullType)\n\u001b[1;32m    510\u001b[0m )\n\u001b[1;32m    512\u001b[0m \u001b[39mif\u001b[39;00m \u001b[39mnot\u001b[39;00m nulltype_cols:\n",
      "File \u001b[0;32m<string>:2\u001b[0m, in \u001b[0;36m__new__\u001b[0;34m(cls, *args, **kw)\u001b[0m\n",
      "File \u001b[0;32m~/miniconda3/envs/pye/lib/python3.10/site-packages/sqlalchemy/util/deprecations.py:281\u001b[0m, in \u001b[0;36mdeprecated_params.<locals>.decorate.<locals>.warned\u001b[0;34m(fn, *args, **kwargs)\u001b[0m\n\u001b[1;32m    274\u001b[0m     \u001b[39mif\u001b[39;00m m \u001b[39min\u001b[39;00m kwargs:\n\u001b[1;32m    275\u001b[0m         _warn_with_version(\n\u001b[1;32m    276\u001b[0m             messages[m],\n\u001b[1;32m    277\u001b[0m             versions[m],\n\u001b[1;32m    278\u001b[0m             version_warnings[m],\n\u001b[1;32m    279\u001b[0m             stacklevel\u001b[39m=\u001b[39m\u001b[39m3\u001b[39m,\n\u001b[1;32m    280\u001b[0m         )\n\u001b[0;32m--> 281\u001b[0m \u001b[39mreturn\u001b[39;00m fn(\u001b[39m*\u001b[39;49margs, \u001b[39m*\u001b[39;49m\u001b[39m*\u001b[39;49mkwargs)\n",
      "File \u001b[0;32m~/miniconda3/envs/pye/lib/python3.10/site-packages/sqlalchemy/sql/schema.py:436\u001b[0m, in \u001b[0;36mTable.__new__\u001b[0;34m(cls, *args, **kw)\u001b[0m\n\u001b[1;32m    429\u001b[0m \u001b[39m@util\u001b[39m\u001b[39m.\u001b[39mdeprecated_params(\n\u001b[1;32m    430\u001b[0m     mustexist\u001b[39m=\u001b[39m(\n\u001b[1;32m    431\u001b[0m         \u001b[39m\"\u001b[39m\u001b[39m1.4\u001b[39m\u001b[39m\"\u001b[39m,\n\u001b[0;32m   (...)\u001b[0m\n\u001b[1;32m    434\u001b[0m )\n\u001b[1;32m    435\u001b[0m \u001b[39mdef\u001b[39;00m \u001b[39m__new__\u001b[39m(\u001b[39mcls\u001b[39m, \u001b[39m*\u001b[39margs: Any, \u001b[39m*\u001b[39m\u001b[39m*\u001b[39mkw: Any) \u001b[39m-\u001b[39m\u001b[39m>\u001b[39m Any:\n\u001b[0;32m--> 436\u001b[0m     \u001b[39mreturn\u001b[39;00m \u001b[39mcls\u001b[39;49m\u001b[39m.\u001b[39;49m_new(\u001b[39m*\u001b[39;49margs, \u001b[39m*\u001b[39;49m\u001b[39m*\u001b[39;49mkw)\n",
      "File \u001b[0;32m~/miniconda3/envs/pye/lib/python3.10/site-packages/sqlalchemy/sql/schema.py:486\u001b[0m, in \u001b[0;36mTable._new\u001b[0;34m(cls, *args, **kw)\u001b[0m\n\u001b[1;32m    484\u001b[0m metadata\u001b[39m.\u001b[39m_add_table(name, schema, table)\n\u001b[1;32m    485\u001b[0m \u001b[39mtry\u001b[39;00m:\n\u001b[0;32m--> 486\u001b[0m     table\u001b[39m.\u001b[39;49m\u001b[39m__init__\u001b[39;49m(name, metadata, \u001b[39m*\u001b[39;49margs, _no_init\u001b[39m=\u001b[39;49m\u001b[39mFalse\u001b[39;49;00m, \u001b[39m*\u001b[39;49m\u001b[39m*\u001b[39;49mkw)\n\u001b[1;32m    487\u001b[0m     table\u001b[39m.\u001b[39mdispatch\u001b[39m.\u001b[39mafter_parent_attach(table, metadata)\n\u001b[1;32m    488\u001b[0m     \u001b[39mreturn\u001b[39;00m table\n",
      "File \u001b[0;32m~/miniconda3/envs/pye/lib/python3.10/site-packages/sqlalchemy/sql/schema.py:866\u001b[0m, in \u001b[0;36mTable.__init__\u001b[0;34m(self, name, metadata, schema, quote, quote_schema, autoload_with, autoload_replace, keep_existing, extend_existing, resolve_fks, include_columns, implicit_returning, comment, info, listeners, prefixes, _extend_on, _no_init, *args, **kw)\u001b[0m\n\u001b[1;32m    862\u001b[0m \u001b[39m# load column definitions from the database if 'autoload' is defined\u001b[39;00m\n\u001b[1;32m    863\u001b[0m \u001b[39m# we do it after the table is in the singleton dictionary to support\u001b[39;00m\n\u001b[1;32m    864\u001b[0m \u001b[39m# circular foreign keys\u001b[39;00m\n\u001b[1;32m    865\u001b[0m \u001b[39mif\u001b[39;00m autoload_with \u001b[39mis\u001b[39;00m \u001b[39mnot\u001b[39;00m \u001b[39mNone\u001b[39;00m:\n\u001b[0;32m--> 866\u001b[0m     \u001b[39mself\u001b[39;49m\u001b[39m.\u001b[39;49m_autoload(\n\u001b[1;32m    867\u001b[0m         metadata,\n\u001b[1;32m    868\u001b[0m         autoload_with,\n\u001b[1;32m    869\u001b[0m         include_columns,\n\u001b[1;32m    870\u001b[0m         _extend_on\u001b[39m=\u001b[39;49m_extend_on,\n\u001b[1;32m    871\u001b[0m         _reflect_info\u001b[39m=\u001b[39;49m_reflect_info,\n\u001b[1;32m    872\u001b[0m         resolve_fks\u001b[39m=\u001b[39;49mresolve_fks,\n\u001b[1;32m    873\u001b[0m     )\n\u001b[1;32m    875\u001b[0m \u001b[39m# initialize all the column, etc. objects.  done after reflection to\u001b[39;00m\n\u001b[1;32m    876\u001b[0m \u001b[39m# allow user-overrides\u001b[39;00m\n\u001b[1;32m    878\u001b[0m \u001b[39mself\u001b[39m\u001b[39m.\u001b[39m_init_items(\n\u001b[1;32m    879\u001b[0m     \u001b[39m*\u001b[39margs,\n\u001b[1;32m    880\u001b[0m     allow_replacements\u001b[39m=\u001b[39mextend_existing\n\u001b[0;32m   (...)\u001b[0m\n\u001b[1;32m    883\u001b[0m     all_names\u001b[39m=\u001b[39m{},\n\u001b[1;32m    884\u001b[0m )\n",
      "File \u001b[0;32m~/miniconda3/envs/pye/lib/python3.10/site-packages/sqlalchemy/sql/schema.py:898\u001b[0m, in \u001b[0;36mTable._autoload\u001b[0;34m(self, metadata, autoload_with, include_columns, exclude_columns, resolve_fks, _extend_on, _reflect_info)\u001b[0m\n\u001b[1;32m    896\u001b[0m insp \u001b[39m=\u001b[39m inspection\u001b[39m.\u001b[39minspect(autoload_with)\n\u001b[1;32m    897\u001b[0m \u001b[39mwith\u001b[39;00m insp\u001b[39m.\u001b[39m_inspection_context() \u001b[39mas\u001b[39;00m conn_insp:\n\u001b[0;32m--> 898\u001b[0m     conn_insp\u001b[39m.\u001b[39;49mreflect_table(\n\u001b[1;32m    899\u001b[0m         \u001b[39mself\u001b[39;49m,\n\u001b[1;32m    900\u001b[0m         include_columns,\n\u001b[1;32m    901\u001b[0m         exclude_columns,\n\u001b[1;32m    902\u001b[0m         resolve_fks,\n\u001b[1;32m    903\u001b[0m         _extend_on\u001b[39m=\u001b[39;49m_extend_on,\n\u001b[1;32m    904\u001b[0m         _reflect_info\u001b[39m=\u001b[39;49m_reflect_info,\n\u001b[1;32m    905\u001b[0m     )\n",
      "File \u001b[0;32m~/miniconda3/envs/pye/lib/python3.10/site-packages/sqlalchemy/engine/reflection.py:1570\u001b[0m, in \u001b[0;36mInspector.reflect_table\u001b[0;34m(self, table, include_columns, exclude_columns, resolve_fks, _extend_on, _reflect_info)\u001b[0m\n\u001b[1;32m   1564\u001b[0m     \u001b[39mraise\u001b[39;00m exc\u001b[39m.\u001b[39mNoSuchTableError(table_name)\n\u001b[1;32m   1566\u001b[0m \u001b[39mself\u001b[39m\u001b[39m.\u001b[39m_reflect_pk(\n\u001b[1;32m   1567\u001b[0m     _reflect_info, table_key, table, cols_by_orig_name, exclude_columns\n\u001b[1;32m   1568\u001b[0m )\n\u001b[0;32m-> 1570\u001b[0m \u001b[39mself\u001b[39;49m\u001b[39m.\u001b[39;49m_reflect_fk(\n\u001b[1;32m   1571\u001b[0m     _reflect_info,\n\u001b[1;32m   1572\u001b[0m     table_key,\n\u001b[1;32m   1573\u001b[0m     table,\n\u001b[1;32m   1574\u001b[0m     cols_by_orig_name,\n\u001b[1;32m   1575\u001b[0m     include_columns,\n\u001b[1;32m   1576\u001b[0m     exclude_columns,\n\u001b[1;32m   1577\u001b[0m     resolve_fks,\n\u001b[1;32m   1578\u001b[0m     _extend_on,\n\u001b[1;32m   1579\u001b[0m     reflection_options,\n\u001b[1;32m   1580\u001b[0m )\n\u001b[1;32m   1582\u001b[0m \u001b[39mself\u001b[39m\u001b[39m.\u001b[39m_reflect_indexes(\n\u001b[1;32m   1583\u001b[0m     _reflect_info,\n\u001b[1;32m   1584\u001b[0m     table_key,\n\u001b[0;32m   (...)\u001b[0m\n\u001b[1;32m   1589\u001b[0m     reflection_options,\n\u001b[1;32m   1590\u001b[0m )\n\u001b[1;32m   1592\u001b[0m \u001b[39mself\u001b[39m\u001b[39m.\u001b[39m_reflect_unique_constraints(\n\u001b[1;32m   1593\u001b[0m     _reflect_info,\n\u001b[1;32m   1594\u001b[0m     table_key,\n\u001b[0;32m   (...)\u001b[0m\n\u001b[1;32m   1599\u001b[0m     reflection_options,\n\u001b[1;32m   1600\u001b[0m )\n",
      "File \u001b[0;32m~/miniconda3/envs/pye/lib/python3.10/site-packages/sqlalchemy/engine/reflection.py:1768\u001b[0m, in \u001b[0;36mInspector._reflect_fk\u001b[0;34m(self, _reflect_info, table_key, table, cols_by_orig_name, include_columns, exclude_columns, resolve_fks, _extend_on, reflection_options)\u001b[0m\n\u001b[1;32m   1766\u001b[0m \u001b[39melse\u001b[39;00m:\n\u001b[1;32m   1767\u001b[0m     \u001b[39mif\u001b[39;00m resolve_fks:\n\u001b[0;32m-> 1768\u001b[0m         sa_schema\u001b[39m.\u001b[39;49mTable(\n\u001b[1;32m   1769\u001b[0m             referred_table,\n\u001b[1;32m   1770\u001b[0m             table\u001b[39m.\u001b[39;49mmetadata,\n\u001b[1;32m   1771\u001b[0m             autoload_with\u001b[39m=\u001b[39;49m\u001b[39mself\u001b[39;49m\u001b[39m.\u001b[39;49mbind,\n\u001b[1;32m   1772\u001b[0m             schema\u001b[39m=\u001b[39;49msa_schema\u001b[39m.\u001b[39;49mBLANK_SCHEMA,\n\u001b[1;32m   1773\u001b[0m             _extend_on\u001b[39m=\u001b[39;49m_extend_on,\n\u001b[1;32m   1774\u001b[0m             _reflect_info\u001b[39m=\u001b[39;49m_reflect_info,\n\u001b[1;32m   1775\u001b[0m             \u001b[39m*\u001b[39;49m\u001b[39m*\u001b[39;49mreflection_options,\n\u001b[1;32m   1776\u001b[0m         )\n\u001b[1;32m   1777\u001b[0m     \u001b[39mfor\u001b[39;00m column \u001b[39min\u001b[39;00m referred_columns:\n\u001b[1;32m   1778\u001b[0m         refspec\u001b[39m.\u001b[39mappend(\u001b[39m\"\u001b[39m\u001b[39m.\u001b[39m\u001b[39m\"\u001b[39m\u001b[39m.\u001b[39mjoin([referred_table, column]))\n",
      "File \u001b[0;32m<string>:2\u001b[0m, in \u001b[0;36m__new__\u001b[0;34m(cls, *args, **kw)\u001b[0m\n",
      "File \u001b[0;32m~/miniconda3/envs/pye/lib/python3.10/site-packages/sqlalchemy/util/deprecations.py:281\u001b[0m, in \u001b[0;36mdeprecated_params.<locals>.decorate.<locals>.warned\u001b[0;34m(fn, *args, **kwargs)\u001b[0m\n\u001b[1;32m    274\u001b[0m     \u001b[39mif\u001b[39;00m m \u001b[39min\u001b[39;00m kwargs:\n\u001b[1;32m    275\u001b[0m         _warn_with_version(\n\u001b[1;32m    276\u001b[0m             messages[m],\n\u001b[1;32m    277\u001b[0m             versions[m],\n\u001b[1;32m    278\u001b[0m             version_warnings[m],\n\u001b[1;32m    279\u001b[0m             stacklevel\u001b[39m=\u001b[39m\u001b[39m3\u001b[39m,\n\u001b[1;32m    280\u001b[0m         )\n\u001b[0;32m--> 281\u001b[0m \u001b[39mreturn\u001b[39;00m fn(\u001b[39m*\u001b[39;49margs, \u001b[39m*\u001b[39;49m\u001b[39m*\u001b[39;49mkwargs)\n",
      "File \u001b[0;32m~/miniconda3/envs/pye/lib/python3.10/site-packages/sqlalchemy/sql/schema.py:436\u001b[0m, in \u001b[0;36mTable.__new__\u001b[0;34m(cls, *args, **kw)\u001b[0m\n\u001b[1;32m    429\u001b[0m \u001b[39m@util\u001b[39m\u001b[39m.\u001b[39mdeprecated_params(\n\u001b[1;32m    430\u001b[0m     mustexist\u001b[39m=\u001b[39m(\n\u001b[1;32m    431\u001b[0m         \u001b[39m\"\u001b[39m\u001b[39m1.4\u001b[39m\u001b[39m\"\u001b[39m,\n\u001b[0;32m   (...)\u001b[0m\n\u001b[1;32m    434\u001b[0m )\n\u001b[1;32m    435\u001b[0m \u001b[39mdef\u001b[39;00m \u001b[39m__new__\u001b[39m(\u001b[39mcls\u001b[39m, \u001b[39m*\u001b[39margs: Any, \u001b[39m*\u001b[39m\u001b[39m*\u001b[39mkw: Any) \u001b[39m-\u001b[39m\u001b[39m>\u001b[39m Any:\n\u001b[0;32m--> 436\u001b[0m     \u001b[39mreturn\u001b[39;00m \u001b[39mcls\u001b[39;49m\u001b[39m.\u001b[39;49m_new(\u001b[39m*\u001b[39;49margs, \u001b[39m*\u001b[39;49m\u001b[39m*\u001b[39;49mkw)\n",
      "File \u001b[0;32m~/miniconda3/envs/pye/lib/python3.10/site-packages/sqlalchemy/sql/schema.py:486\u001b[0m, in \u001b[0;36mTable._new\u001b[0;34m(cls, *args, **kw)\u001b[0m\n\u001b[1;32m    484\u001b[0m metadata\u001b[39m.\u001b[39m_add_table(name, schema, table)\n\u001b[1;32m    485\u001b[0m \u001b[39mtry\u001b[39;00m:\n\u001b[0;32m--> 486\u001b[0m     table\u001b[39m.\u001b[39;49m\u001b[39m__init__\u001b[39;49m(name, metadata, \u001b[39m*\u001b[39;49margs, _no_init\u001b[39m=\u001b[39;49m\u001b[39mFalse\u001b[39;49;00m, \u001b[39m*\u001b[39;49m\u001b[39m*\u001b[39;49mkw)\n\u001b[1;32m    487\u001b[0m     table\u001b[39m.\u001b[39mdispatch\u001b[39m.\u001b[39mafter_parent_attach(table, metadata)\n\u001b[1;32m    488\u001b[0m     \u001b[39mreturn\u001b[39;00m table\n",
      "File \u001b[0;32m~/miniconda3/envs/pye/lib/python3.10/site-packages/sqlalchemy/sql/schema.py:866\u001b[0m, in \u001b[0;36mTable.__init__\u001b[0;34m(self, name, metadata, schema, quote, quote_schema, autoload_with, autoload_replace, keep_existing, extend_existing, resolve_fks, include_columns, implicit_returning, comment, info, listeners, prefixes, _extend_on, _no_init, *args, **kw)\u001b[0m\n\u001b[1;32m    862\u001b[0m \u001b[39m# load column definitions from the database if 'autoload' is defined\u001b[39;00m\n\u001b[1;32m    863\u001b[0m \u001b[39m# we do it after the table is in the singleton dictionary to support\u001b[39;00m\n\u001b[1;32m    864\u001b[0m \u001b[39m# circular foreign keys\u001b[39;00m\n\u001b[1;32m    865\u001b[0m \u001b[39mif\u001b[39;00m autoload_with \u001b[39mis\u001b[39;00m \u001b[39mnot\u001b[39;00m \u001b[39mNone\u001b[39;00m:\n\u001b[0;32m--> 866\u001b[0m     \u001b[39mself\u001b[39;49m\u001b[39m.\u001b[39;49m_autoload(\n\u001b[1;32m    867\u001b[0m         metadata,\n\u001b[1;32m    868\u001b[0m         autoload_with,\n\u001b[1;32m    869\u001b[0m         include_columns,\n\u001b[1;32m    870\u001b[0m         _extend_on\u001b[39m=\u001b[39;49m_extend_on,\n\u001b[1;32m    871\u001b[0m         _reflect_info\u001b[39m=\u001b[39;49m_reflect_info,\n\u001b[1;32m    872\u001b[0m         resolve_fks\u001b[39m=\u001b[39;49mresolve_fks,\n\u001b[1;32m    873\u001b[0m     )\n\u001b[1;32m    875\u001b[0m \u001b[39m# initialize all the column, etc. objects.  done after reflection to\u001b[39;00m\n\u001b[1;32m    876\u001b[0m \u001b[39m# allow user-overrides\u001b[39;00m\n\u001b[1;32m    878\u001b[0m \u001b[39mself\u001b[39m\u001b[39m.\u001b[39m_init_items(\n\u001b[1;32m    879\u001b[0m     \u001b[39m*\u001b[39margs,\n\u001b[1;32m    880\u001b[0m     allow_replacements\u001b[39m=\u001b[39mextend_existing\n\u001b[0;32m   (...)\u001b[0m\n\u001b[1;32m    883\u001b[0m     all_names\u001b[39m=\u001b[39m{},\n\u001b[1;32m    884\u001b[0m )\n",
      "File \u001b[0;32m~/miniconda3/envs/pye/lib/python3.10/site-packages/sqlalchemy/sql/schema.py:898\u001b[0m, in \u001b[0;36mTable._autoload\u001b[0;34m(self, metadata, autoload_with, include_columns, exclude_columns, resolve_fks, _extend_on, _reflect_info)\u001b[0m\n\u001b[1;32m    896\u001b[0m insp \u001b[39m=\u001b[39m inspection\u001b[39m.\u001b[39minspect(autoload_with)\n\u001b[1;32m    897\u001b[0m \u001b[39mwith\u001b[39;00m insp\u001b[39m.\u001b[39m_inspection_context() \u001b[39mas\u001b[39;00m conn_insp:\n\u001b[0;32m--> 898\u001b[0m     conn_insp\u001b[39m.\u001b[39;49mreflect_table(\n\u001b[1;32m    899\u001b[0m         \u001b[39mself\u001b[39;49m,\n\u001b[1;32m    900\u001b[0m         include_columns,\n\u001b[1;32m    901\u001b[0m         exclude_columns,\n\u001b[1;32m    902\u001b[0m         resolve_fks,\n\u001b[1;32m    903\u001b[0m         _extend_on\u001b[39m=\u001b[39;49m_extend_on,\n\u001b[1;32m    904\u001b[0m         _reflect_info\u001b[39m=\u001b[39;49m_reflect_info,\n\u001b[1;32m    905\u001b[0m     )\n",
      "File \u001b[0;32m~/miniconda3/envs/pye/lib/python3.10/site-packages/sqlalchemy/engine/reflection.py:1526\u001b[0m, in \u001b[0;36mInspector.reflect_table\u001b[0;34m(self, table, include_columns, exclude_columns, resolve_fks, _extend_on, _reflect_info)\u001b[0m\n\u001b[1;32m   1524\u001b[0m table_key \u001b[39m=\u001b[39m (schema, table_name)\n\u001b[1;32m   1525\u001b[0m \u001b[39mif\u001b[39;00m _reflect_info \u001b[39mis\u001b[39;00m \u001b[39mNone\u001b[39;00m \u001b[39mor\u001b[39;00m table_key \u001b[39mnot\u001b[39;00m \u001b[39min\u001b[39;00m _reflect_info\u001b[39m.\u001b[39mcolumns:\n\u001b[0;32m-> 1526\u001b[0m     _reflect_info \u001b[39m=\u001b[39m \u001b[39mself\u001b[39;49m\u001b[39m.\u001b[39;49m_get_reflection_info(\n\u001b[1;32m   1527\u001b[0m         schema,\n\u001b[1;32m   1528\u001b[0m         filter_names\u001b[39m=\u001b[39;49m[table_name],\n\u001b[1;32m   1529\u001b[0m         kind\u001b[39m=\u001b[39;49mObjectKind\u001b[39m.\u001b[39;49mANY,\n\u001b[1;32m   1530\u001b[0m         scope\u001b[39m=\u001b[39;49mObjectScope\u001b[39m.\u001b[39;49mANY,\n\u001b[1;32m   1531\u001b[0m         _reflect_info\u001b[39m=\u001b[39;49m_reflect_info,\n\u001b[1;32m   1532\u001b[0m         \u001b[39m*\u001b[39;49m\u001b[39m*\u001b[39;49mtable\u001b[39m.\u001b[39;49mdialect_kwargs,\n\u001b[1;32m   1533\u001b[0m     )\n\u001b[1;32m   1534\u001b[0m \u001b[39mif\u001b[39;00m table_key \u001b[39min\u001b[39;00m _reflect_info\u001b[39m.\u001b[39munreflectable:\n\u001b[1;32m   1535\u001b[0m     \u001b[39mraise\u001b[39;00m _reflect_info\u001b[39m.\u001b[39munreflectable[table_key]\n",
      "File \u001b[0;32m~/miniconda3/envs/pye/lib/python3.10/site-packages/sqlalchemy/engine/reflection.py:2010\u001b[0m, in \u001b[0;36mInspector._get_reflection_info\u001b[0;34m(self, schema, filter_names, available, _reflect_info, **kw)\u001b[0m\n\u001b[1;32m   2002\u001b[0m         res \u001b[39m=\u001b[39m {}\n\u001b[1;32m   2003\u001b[0m     \u001b[39mreturn\u001b[39;00m res\n\u001b[1;32m   2005\u001b[0m info \u001b[39m=\u001b[39m _ReflectionInfo(\n\u001b[1;32m   2006\u001b[0m     columns\u001b[39m=\u001b[39mrun(\n\u001b[1;32m   2007\u001b[0m         \u001b[39mself\u001b[39m\u001b[39m.\u001b[39mget_multi_columns, check_filter_names_from_meth\u001b[39m=\u001b[39m\u001b[39mTrue\u001b[39;00m\n\u001b[1;32m   2008\u001b[0m     ),\n\u001b[1;32m   2009\u001b[0m     pk_constraint\u001b[39m=\u001b[39mrun(\u001b[39mself\u001b[39m\u001b[39m.\u001b[39mget_multi_pk_constraint),\n\u001b[0;32m-> 2010\u001b[0m     foreign_keys\u001b[39m=\u001b[39mrun(\u001b[39mself\u001b[39;49m\u001b[39m.\u001b[39;49mget_multi_foreign_keys),\n\u001b[1;32m   2011\u001b[0m     indexes\u001b[39m=\u001b[39mrun(\u001b[39mself\u001b[39m\u001b[39m.\u001b[39mget_multi_indexes),\n\u001b[1;32m   2012\u001b[0m     unique_constraints\u001b[39m=\u001b[39mrun(\n\u001b[1;32m   2013\u001b[0m         \u001b[39mself\u001b[39m\u001b[39m.\u001b[39mget_multi_unique_constraints, optional\u001b[39m=\u001b[39m\u001b[39mTrue\u001b[39;00m\n\u001b[1;32m   2014\u001b[0m     ),\n\u001b[1;32m   2015\u001b[0m     table_comment\u001b[39m=\u001b[39mrun(\u001b[39mself\u001b[39m\u001b[39m.\u001b[39mget_multi_table_comment, optional\u001b[39m=\u001b[39m\u001b[39mTrue\u001b[39;00m),\n\u001b[1;32m   2016\u001b[0m     check_constraints\u001b[39m=\u001b[39mrun(\n\u001b[1;32m   2017\u001b[0m         \u001b[39mself\u001b[39m\u001b[39m.\u001b[39mget_multi_check_constraints, optional\u001b[39m=\u001b[39m\u001b[39mTrue\u001b[39;00m\n\u001b[1;32m   2018\u001b[0m     ),\n\u001b[1;32m   2019\u001b[0m     table_options\u001b[39m=\u001b[39mrun(\u001b[39mself\u001b[39m\u001b[39m.\u001b[39mget_multi_table_options, optional\u001b[39m=\u001b[39m\u001b[39mTrue\u001b[39;00m),\n\u001b[1;32m   2020\u001b[0m     unreflectable\u001b[39m=\u001b[39munreflectable,\n\u001b[1;32m   2021\u001b[0m )\n\u001b[1;32m   2022\u001b[0m \u001b[39mif\u001b[39;00m _reflect_info:\n\u001b[1;32m   2023\u001b[0m     _reflect_info\u001b[39m.\u001b[39mupdate(info)\n",
      "File \u001b[0;32m~/miniconda3/envs/pye/lib/python3.10/site-packages/sqlalchemy/engine/reflection.py:1992\u001b[0m, in \u001b[0;36mInspector._get_reflection_info.<locals>.run\u001b[0;34m(meth, optional, check_filter_names_from_meth)\u001b[0m\n\u001b[1;32m   1990\u001b[0m \u001b[39mtry\u001b[39;00m:\n\u001b[1;32m   1991\u001b[0m     \u001b[39mif\u001b[39;00m has_result:\n\u001b[0;32m-> 1992\u001b[0m         res \u001b[39m=\u001b[39m meth(filter_names\u001b[39m=\u001b[39;49m_fn, \u001b[39m*\u001b[39;49m\u001b[39m*\u001b[39;49mkw)\n\u001b[1;32m   1993\u001b[0m         \u001b[39mif\u001b[39;00m check_filter_names_from_meth \u001b[39mand\u001b[39;00m \u001b[39mnot\u001b[39;00m res:\n\u001b[1;32m   1994\u001b[0m             \u001b[39m# method returned no result data.\u001b[39;00m\n\u001b[1;32m   1995\u001b[0m             \u001b[39m# skip any future call methods\u001b[39;00m\n\u001b[1;32m   1996\u001b[0m             has_result \u001b[39m=\u001b[39m \u001b[39mFalse\u001b[39;00m\n",
      "File \u001b[0;32m~/miniconda3/envs/pye/lib/python3.10/site-packages/sqlalchemy/engine/reflection.py:1098\u001b[0m, in \u001b[0;36mInspector.get_multi_foreign_keys\u001b[0;34m(self, schema, filter_names, kind, scope, **kw)\u001b[0m\n\u001b[1;32m   1059\u001b[0m \u001b[39m\u001b[39m\u001b[39mr\u001b[39m\u001b[39m\"\"\"Return information about foreign_keys in all tables\u001b[39;00m\n\u001b[1;32m   1060\u001b[0m \u001b[39min the given schema.\u001b[39;00m\n\u001b[1;32m   1061\u001b[0m \n\u001b[0;32m   (...)\u001b[0m\n\u001b[1;32m   1093\u001b[0m \u001b[39m.. seealso:: :meth:`Inspector.get_foreign_keys`\u001b[39;00m\n\u001b[1;32m   1094\u001b[0m \u001b[39m\"\"\"\u001b[39;00m\n\u001b[1;32m   1096\u001b[0m \u001b[39mwith\u001b[39;00m \u001b[39mself\u001b[39m\u001b[39m.\u001b[39m_operation_context() \u001b[39mas\u001b[39;00m conn:\n\u001b[1;32m   1097\u001b[0m     \u001b[39mreturn\u001b[39;00m \u001b[39mdict\u001b[39m(\n\u001b[0;32m-> 1098\u001b[0m         \u001b[39mself\u001b[39;49m\u001b[39m.\u001b[39;49mdialect\u001b[39m.\u001b[39;49mget_multi_foreign_keys(\n\u001b[1;32m   1099\u001b[0m             conn,\n\u001b[1;32m   1100\u001b[0m             schema\u001b[39m=\u001b[39;49mschema,\n\u001b[1;32m   1101\u001b[0m             filter_names\u001b[39m=\u001b[39;49mfilter_names,\n\u001b[1;32m   1102\u001b[0m             kind\u001b[39m=\u001b[39;49mkind,\n\u001b[1;32m   1103\u001b[0m             scope\u001b[39m=\u001b[39;49mscope,\n\u001b[1;32m   1104\u001b[0m             info_cache\u001b[39m=\u001b[39;49m\u001b[39mself\u001b[39;49m\u001b[39m.\u001b[39;49minfo_cache,\n\u001b[1;32m   1105\u001b[0m             \u001b[39m*\u001b[39;49m\u001b[39m*\u001b[39;49mkw,\n\u001b[1;32m   1106\u001b[0m         )\n\u001b[1;32m   1107\u001b[0m     )\n",
      "File \u001b[0;32m~/miniconda3/envs/pye/lib/python3.10/site-packages/sqlalchemy/dialects/postgresql/base.py:4150\u001b[0m, in \u001b[0;36mPGDialect.get_multi_foreign_keys\u001b[0;34m(self, connection, schema, filter_names, scope, kind, postgresql_ignore_search_path, **kw)\u001b[0m\n\u001b[1;32m   4148\u001b[0m has_filter_names, params \u001b[39m=\u001b[39m \u001b[39mself\u001b[39m\u001b[39m.\u001b[39m_prepare_filter_names(filter_names)\n\u001b[1;32m   4149\u001b[0m query \u001b[39m=\u001b[39m \u001b[39mself\u001b[39m\u001b[39m.\u001b[39m_foreing_key_query(schema, has_filter_names, scope, kind)\n\u001b[0;32m-> 4150\u001b[0m result \u001b[39m=\u001b[39m connection\u001b[39m.\u001b[39;49mexecute(query, params)\n\u001b[1;32m   4152\u001b[0m FK_REGEX \u001b[39m=\u001b[39m \u001b[39mself\u001b[39m\u001b[39m.\u001b[39m_fk_regex_pattern\n\u001b[1;32m   4154\u001b[0m fkeys \u001b[39m=\u001b[39m defaultdict(\u001b[39mlist\u001b[39m)\n",
      "File \u001b[0;32m~/miniconda3/envs/pye/lib/python3.10/site-packages/sqlalchemy/engine/base.py:1416\u001b[0m, in \u001b[0;36mConnection.execute\u001b[0;34m(self, statement, parameters, execution_options)\u001b[0m\n\u001b[1;32m   1414\u001b[0m     \u001b[39mraise\u001b[39;00m exc\u001b[39m.\u001b[39mObjectNotExecutableError(statement) \u001b[39mfrom\u001b[39;00m \u001b[39merr\u001b[39;00m\n\u001b[1;32m   1415\u001b[0m \u001b[39melse\u001b[39;00m:\n\u001b[0;32m-> 1416\u001b[0m     \u001b[39mreturn\u001b[39;00m meth(\n\u001b[1;32m   1417\u001b[0m         \u001b[39mself\u001b[39;49m,\n\u001b[1;32m   1418\u001b[0m         distilled_parameters,\n\u001b[1;32m   1419\u001b[0m         execution_options \u001b[39mor\u001b[39;49;00m NO_OPTIONS,\n\u001b[1;32m   1420\u001b[0m     )\n",
      "File \u001b[0;32m~/miniconda3/envs/pye/lib/python3.10/site-packages/sqlalchemy/sql/elements.py:516\u001b[0m, in \u001b[0;36mClauseElement._execute_on_connection\u001b[0;34m(self, connection, distilled_params, execution_options)\u001b[0m\n\u001b[1;32m    514\u001b[0m     \u001b[39mif\u001b[39;00m TYPE_CHECKING:\n\u001b[1;32m    515\u001b[0m         \u001b[39massert\u001b[39;00m \u001b[39misinstance\u001b[39m(\u001b[39mself\u001b[39m, Executable)\n\u001b[0;32m--> 516\u001b[0m     \u001b[39mreturn\u001b[39;00m connection\u001b[39m.\u001b[39;49m_execute_clauseelement(\n\u001b[1;32m    517\u001b[0m         \u001b[39mself\u001b[39;49m, distilled_params, execution_options\n\u001b[1;32m    518\u001b[0m     )\n\u001b[1;32m    519\u001b[0m \u001b[39melse\u001b[39;00m:\n\u001b[1;32m    520\u001b[0m     \u001b[39mraise\u001b[39;00m exc\u001b[39m.\u001b[39mObjectNotExecutableError(\u001b[39mself\u001b[39m)\n",
      "File \u001b[0;32m~/miniconda3/envs/pye/lib/python3.10/site-packages/sqlalchemy/engine/base.py:1639\u001b[0m, in \u001b[0;36mConnection._execute_clauseelement\u001b[0;34m(self, elem, distilled_parameters, execution_options)\u001b[0m\n\u001b[1;32m   1627\u001b[0m compiled_cache: Optional[CompiledCacheType] \u001b[39m=\u001b[39m execution_options\u001b[39m.\u001b[39mget(\n\u001b[1;32m   1628\u001b[0m     \u001b[39m\"\u001b[39m\u001b[39mcompiled_cache\u001b[39m\u001b[39m\"\u001b[39m, \u001b[39mself\u001b[39m\u001b[39m.\u001b[39mengine\u001b[39m.\u001b[39m_compiled_cache\n\u001b[1;32m   1629\u001b[0m )\n\u001b[1;32m   1631\u001b[0m compiled_sql, extracted_params, cache_hit \u001b[39m=\u001b[39m elem\u001b[39m.\u001b[39m_compile_w_cache(\n\u001b[1;32m   1632\u001b[0m     dialect\u001b[39m=\u001b[39mdialect,\n\u001b[1;32m   1633\u001b[0m     compiled_cache\u001b[39m=\u001b[39mcompiled_cache,\n\u001b[0;32m   (...)\u001b[0m\n\u001b[1;32m   1637\u001b[0m     linting\u001b[39m=\u001b[39m\u001b[39mself\u001b[39m\u001b[39m.\u001b[39mdialect\u001b[39m.\u001b[39mcompiler_linting \u001b[39m|\u001b[39m compiler\u001b[39m.\u001b[39mWARN_LINTING,\n\u001b[1;32m   1638\u001b[0m )\n\u001b[0;32m-> 1639\u001b[0m ret \u001b[39m=\u001b[39m \u001b[39mself\u001b[39;49m\u001b[39m.\u001b[39;49m_execute_context(\n\u001b[1;32m   1640\u001b[0m     dialect,\n\u001b[1;32m   1641\u001b[0m     dialect\u001b[39m.\u001b[39;49mexecution_ctx_cls\u001b[39m.\u001b[39;49m_init_compiled,\n\u001b[1;32m   1642\u001b[0m     compiled_sql,\n\u001b[1;32m   1643\u001b[0m     distilled_parameters,\n\u001b[1;32m   1644\u001b[0m     execution_options,\n\u001b[1;32m   1645\u001b[0m     compiled_sql,\n\u001b[1;32m   1646\u001b[0m     distilled_parameters,\n\u001b[1;32m   1647\u001b[0m     elem,\n\u001b[1;32m   1648\u001b[0m     extracted_params,\n\u001b[1;32m   1649\u001b[0m     cache_hit\u001b[39m=\u001b[39;49mcache_hit,\n\u001b[1;32m   1650\u001b[0m )\n\u001b[1;32m   1651\u001b[0m \u001b[39mif\u001b[39;00m has_events:\n\u001b[1;32m   1652\u001b[0m     \u001b[39mself\u001b[39m\u001b[39m.\u001b[39mdispatch\u001b[39m.\u001b[39mafter_execute(\n\u001b[1;32m   1653\u001b[0m         \u001b[39mself\u001b[39m,\n\u001b[1;32m   1654\u001b[0m         elem,\n\u001b[0;32m   (...)\u001b[0m\n\u001b[1;32m   1658\u001b[0m         ret,\n\u001b[1;32m   1659\u001b[0m     )\n",
      "File \u001b[0;32m~/miniconda3/envs/pye/lib/python3.10/site-packages/sqlalchemy/engine/base.py:1848\u001b[0m, in \u001b[0;36mConnection._execute_context\u001b[0;34m(self, dialect, constructor, statement, parameters, execution_options, *args, **kw)\u001b[0m\n\u001b[1;32m   1843\u001b[0m     \u001b[39mreturn\u001b[39;00m \u001b[39mself\u001b[39m\u001b[39m.\u001b[39m_exec_insertmany_context(\n\u001b[1;32m   1844\u001b[0m         dialect,\n\u001b[1;32m   1845\u001b[0m         context,\n\u001b[1;32m   1846\u001b[0m     )\n\u001b[1;32m   1847\u001b[0m \u001b[39melse\u001b[39;00m:\n\u001b[0;32m-> 1848\u001b[0m     \u001b[39mreturn\u001b[39;00m \u001b[39mself\u001b[39;49m\u001b[39m.\u001b[39;49m_exec_single_context(\n\u001b[1;32m   1849\u001b[0m         dialect, context, statement, parameters\n\u001b[1;32m   1850\u001b[0m     )\n",
      "File \u001b[0;32m~/miniconda3/envs/pye/lib/python3.10/site-packages/sqlalchemy/engine/base.py:1988\u001b[0m, in \u001b[0;36mConnection._exec_single_context\u001b[0;34m(self, dialect, context, statement, parameters)\u001b[0m\n\u001b[1;32m   1985\u001b[0m     result \u001b[39m=\u001b[39m context\u001b[39m.\u001b[39m_setup_result_proxy()\n\u001b[1;32m   1987\u001b[0m \u001b[39mexcept\u001b[39;00m \u001b[39mBaseException\u001b[39;00m \u001b[39mas\u001b[39;00m e:\n\u001b[0;32m-> 1988\u001b[0m     \u001b[39mself\u001b[39;49m\u001b[39m.\u001b[39;49m_handle_dbapi_exception(\n\u001b[1;32m   1989\u001b[0m         e, str_statement, effective_parameters, cursor, context\n\u001b[1;32m   1990\u001b[0m     )\n\u001b[1;32m   1992\u001b[0m \u001b[39mreturn\u001b[39;00m result\n",
      "File \u001b[0;32m~/miniconda3/envs/pye/lib/python3.10/site-packages/sqlalchemy/engine/base.py:2346\u001b[0m, in \u001b[0;36mConnection._handle_dbapi_exception\u001b[0;34m(self, e, statement, parameters, cursor, context, is_sub_exec)\u001b[0m\n\u001b[1;32m   2344\u001b[0m     \u001b[39melse\u001b[39;00m:\n\u001b[1;32m   2345\u001b[0m         \u001b[39massert\u001b[39;00m exc_info[\u001b[39m1\u001b[39m] \u001b[39mis\u001b[39;00m \u001b[39mnot\u001b[39;00m \u001b[39mNone\u001b[39;00m\n\u001b[0;32m-> 2346\u001b[0m         \u001b[39mraise\u001b[39;00m exc_info[\u001b[39m1\u001b[39m]\u001b[39m.\u001b[39mwith_traceback(exc_info[\u001b[39m2\u001b[39m])\n\u001b[1;32m   2347\u001b[0m \u001b[39mfinally\u001b[39;00m:\n\u001b[1;32m   2348\u001b[0m     \u001b[39mdel\u001b[39;00m \u001b[39mself\u001b[39m\u001b[39m.\u001b[39m_reentrant_error\n",
      "File \u001b[0;32m~/miniconda3/envs/pye/lib/python3.10/site-packages/sqlalchemy/engine/base.py:1969\u001b[0m, in \u001b[0;36mConnection._exec_single_context\u001b[0;34m(self, dialect, context, statement, parameters)\u001b[0m\n\u001b[1;32m   1967\u001b[0m                 \u001b[39mbreak\u001b[39;00m\n\u001b[1;32m   1968\u001b[0m     \u001b[39mif\u001b[39;00m \u001b[39mnot\u001b[39;00m evt_handled:\n\u001b[0;32m-> 1969\u001b[0m         \u001b[39mself\u001b[39;49m\u001b[39m.\u001b[39;49mdialect\u001b[39m.\u001b[39;49mdo_execute(\n\u001b[1;32m   1970\u001b[0m             cursor, str_statement, effective_parameters, context\n\u001b[1;32m   1971\u001b[0m         )\n\u001b[1;32m   1973\u001b[0m \u001b[39mif\u001b[39;00m \u001b[39mself\u001b[39m\u001b[39m.\u001b[39m_has_events \u001b[39mor\u001b[39;00m \u001b[39mself\u001b[39m\u001b[39m.\u001b[39mengine\u001b[39m.\u001b[39m_has_events:\n\u001b[1;32m   1974\u001b[0m     \u001b[39mself\u001b[39m\u001b[39m.\u001b[39mdispatch\u001b[39m.\u001b[39mafter_cursor_execute(\n\u001b[1;32m   1975\u001b[0m         \u001b[39mself\u001b[39m,\n\u001b[1;32m   1976\u001b[0m         cursor,\n\u001b[0;32m   (...)\u001b[0m\n\u001b[1;32m   1980\u001b[0m         context\u001b[39m.\u001b[39mexecutemany,\n\u001b[1;32m   1981\u001b[0m     )\n",
      "File \u001b[0;32m~/miniconda3/envs/pye/lib/python3.10/site-packages/sqlalchemy/engine/default.py:922\u001b[0m, in \u001b[0;36mDefaultDialect.do_execute\u001b[0;34m(self, cursor, statement, parameters, context)\u001b[0m\n\u001b[1;32m    921\u001b[0m \u001b[39mdef\u001b[39;00m \u001b[39mdo_execute\u001b[39m(\u001b[39mself\u001b[39m, cursor, statement, parameters, context\u001b[39m=\u001b[39m\u001b[39mNone\u001b[39;00m):\n\u001b[0;32m--> 922\u001b[0m     cursor\u001b[39m.\u001b[39;49mexecute(statement, parameters)\n",
      "File \u001b[0;32m~/miniconda3/envs/pye/lib/python3.10/encodings/utf_8.py:15\u001b[0m, in \u001b[0;36mdecode\u001b[0;34m(input, errors)\u001b[0m\n\u001b[1;32m     11\u001b[0m \u001b[39m### Codec APIs\u001b[39;00m\n\u001b[1;32m     13\u001b[0m encode \u001b[39m=\u001b[39m codecs\u001b[39m.\u001b[39mutf_8_encode\n\u001b[0;32m---> 15\u001b[0m \u001b[39mdef\u001b[39;00m \u001b[39mdecode\u001b[39m(\u001b[39minput\u001b[39m, errors\u001b[39m=\u001b[39m\u001b[39m'\u001b[39m\u001b[39mstrict\u001b[39m\u001b[39m'\u001b[39m):\n\u001b[1;32m     16\u001b[0m     \u001b[39mreturn\u001b[39;00m codecs\u001b[39m.\u001b[39mutf_8_decode(\u001b[39minput\u001b[39m, errors, \u001b[39mTrue\u001b[39;00m)\n\u001b[1;32m     18\u001b[0m \u001b[39mclass\u001b[39;00m \u001b[39mIncrementalEncoder\u001b[39;00m(codecs\u001b[39m.\u001b[39mIncrementalEncoder):\n",
      "\u001b[0;31mKeyboardInterrupt\u001b[0m: "
     ]
    }
   ],
   "source": [
    "# Insert all blast results into the database\n",
    "db.insert(*blast_results, verbose=True)"
   ]
  },
  {
   "cell_type": "markdown",
   "metadata": {},
   "source": [
    "### Look at entries in the database"
   ]
  },
  {
   "cell_type": "code",
   "execution_count": null,
   "metadata": {},
   "outputs": [],
   "source": [
    "db.connection.table(\"ProteinInfo_organism\")"
   ]
  },
  {
   "cell_type": "code",
   "execution_count": null,
   "metadata": {},
   "outputs": [],
   "source": [
    "# Lets filter the blast results for a specific organism\n",
    "target = \"Drosophila melanogaster\"\n",
    "\n",
    "# First, join the ProteinSequence table with the ProteinSequence_organism table\n",
    "prot_seqs = db.connection.table(\"ProteinInfo\")\n",
    "organisms = db.connection.table(\"ProteinInfo_organism\")\n",
    "joined = prot_seqs.join(\n",
    "    organisms,\n",
    "    prot_seqs.ProteinInfo_id == organisms.ProteinInfo_id,\n",
    "    rname=\"organism_{name}\",\n",
    ")\n",
    "\n",
    "# Next, filter the joined table for the target organism\n",
    "filtered = joined.filter(joined.organism_name == target)\n",
    "filtered\n",
    "\n",
    "# Finally, we can get the corresponding ProteinSequence objects\n",
    "results = db.get(\"ProteinInfo\", filtered)\n",
    "print(len(results))"
   ]
  }
 ],
 "metadata": {
  "kernelspec": {
   "display_name": "sdrdm_example",
   "language": "python",
   "name": "python3"
  },
  "language_info": {
   "codemirror_mode": {
    "name": "ipython",
    "version": 3
   },
   "file_extension": ".py",
   "mimetype": "text/x-python",
   "name": "python",
   "nbconvert_exporter": "python",
   "pygments_lexer": "ipython3",
   "version": "3.10.13"
  }
 },
 "nbformat": 4,
 "nbformat_minor": 4
}
