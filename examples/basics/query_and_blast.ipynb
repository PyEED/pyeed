{
 "cells": [
  {
   "cell_type": "markdown",
   "metadata": {},
   "source": [
    "# Example 1: Get protein information, run BLAST, and dump the results into a database\n"
   ]
  },
  {
   "cell_type": "code",
   "execution_count": 1,
   "metadata": {},
   "outputs": [],
   "source": [
    "from sdRDM.generator import generate_python_api\n",
    "\n",
    "generate_python_api(\"../../specifications/data_model.md\", \"../../\", \"pyEED\")"
   ]
  },
  {
   "cell_type": "code",
   "execution_count": 2,
   "metadata": {},
   "outputs": [],
   "source": [
    "%reload_ext autoreload\n",
    "%autoreload 2\n",
    "from pyEED.core import ProteinInfo"
   ]
  },
  {
   "cell_type": "markdown",
   "metadata": {},
   "source": [
    "## Query NCBI\n",
    "\n",
    "The pyEED library is centered around the `ProteinSequence` object, which integrates available information on protein sequence, corresponding nucleotide sequence, as well as regions and sites within the sequences. The `ProteinSequence` can be initialized directly with a protein sequence accession number."
   ]
  },
  {
   "cell_type": "code",
   "execution_count": 3,
   "metadata": {},
   "outputs": [
    {
     "name": "stdout",
     "output_type": "stream",
     "text": [
      "\u001b[4mProteinInfo\u001b[0m\n",
      "├── \u001b[94mid\u001b[0m = proteininfo0\n",
      "├── \u001b[94msource_id\u001b[0m = NP_001287541.1\n",
      "├── \u001b[94mname\u001b[0m = aldolase 1, isoform M\n",
      "├── \u001b[94msequence\u001b[0m = MTTYFNYPSKELQDELREIAQKIVAPGKGILAADESGPTMGKRLQDIGVENTEDNRRAYRQLLFSTDPKLAENISGVILFHETLYQKADDGTPFAEILKKKGIILGIKVDKGVVPLFGSEDEVTTQGLDDLAARCAQYKKDGCDFAKWRCVLKIGKNTPSYQSILENANVLARYASICQSQRIVPIVEPEVLPDGDHDLDRAQKVTETVLAAVYKALSDHHVYLEGTLLKPNMVTAGQSAKKNTPEEIALATVQALRRTVPAAVTGVTFLSGGQSEEEATVNLSAINNVPLIRPWALTFSYGRALQASVLRAWAGKKENIAAGQNELLKRAKANGDAAQGKYVAGSAGAGSGSLFVANHAY\n",
      "├── \u001b[94morganism\u001b[0m\n",
      "│   └── \u001b[4mOrganism\u001b[0m\n",
      "│       ├── \u001b[94mid\u001b[0m = organism0\n",
      "│       ├── \u001b[94mname\u001b[0m = Drosophila melanogaster\n",
      "│       ├── \u001b[94mtaxonomy_id\u001b[0m = taxon:7227\n",
      "│       ├── \u001b[94mdomain\u001b[0m = Eukaryota\n",
      "│       ├── \u001b[94mkingdom\u001b[0m = Metazoa\n",
      "│       ├── \u001b[94mphylum\u001b[0m = Arthropoda\n",
      "│       ├── \u001b[94mtax_class\u001b[0m = Insecta\n",
      "│       ├── \u001b[94morder\u001b[0m = Diptera\n",
      "│       ├── \u001b[94mfamily\u001b[0m = Drosophilidae\n",
      "│       ├── \u001b[94mgenus\u001b[0m = Drosophila\n",
      "│       └── \u001b[94mspecies\u001b[0m = melanogaster\n",
      "├── \u001b[94mregions\u001b[0m\n",
      "│   └── 0\n",
      "│       └── \u001b[4mProteinRegion\u001b[0m\n",
      "│           ├── \u001b[94mid\u001b[0m = proteinregion0\n",
      "│           ├── \u001b[94mname\u001b[0m = Glycolytic\n",
      "│           ├── \u001b[94mspans\u001b[0m\n",
      "│           │   └── 0\n",
      "│           │       └── \u001b[4mSpan\u001b[0m\n",
      "│           │           ├── \u001b[94mid\u001b[0m = span0\n",
      "│           │           ├── \u001b[94mstart\u001b[0m = 14\n",
      "│           │           └── \u001b[94mend\u001b[0m = 361\n",
      "│           ├── \u001b[94mnote\u001b[0m = Fructose-bisphosphate aldolase class-I; pfam00274\n",
      "│           └── \u001b[94mcross_reference\u001b[0m = CDD:425574\n",
      "├── \u001b[94msites\u001b[0m\n",
      "│   ├── 0\n",
      "│   │   └── \u001b[4mSite\u001b[0m\n",
      "│   │       ├── \u001b[94mid\u001b[0m = site0\n",
      "│   │       ├── \u001b[94mname\u001b[0m = active\n",
      "│   │       ├── \u001b[94mtype\u001b[0m = active\n",
      "│   │       ├── \u001b[94mpositions\u001b[0m = [33, 34, 35, 38, 107, ...]\n",
      "│   │       └── \u001b[94mcross_ref\u001b[0m = CDD:188635\n",
      "│   ├── 1\n",
      "│   │   └── \u001b[4mSite\u001b[0m\n",
      "│   │       ├── \u001b[94mid\u001b[0m = site1\n",
      "│   │       ├── \u001b[94mname\u001b[0m = intersubunit interface [polypeptide binding]\n",
      "│   │       ├── \u001b[94mtype\u001b[0m = unannotated\n",
      "│   │       ├── \u001b[94mpositions\u001b[0m = [110, 161, 164, 165, 168, ...]\n",
      "│   │       └── \u001b[94mcross_ref\u001b[0m = CDD:188635\n",
      "│   └── 2\n",
      "│       └── \u001b[4mSite\u001b[0m\n",
      "│           ├── \u001b[94mid\u001b[0m = site2\n",
      "│           ├── \u001b[94mname\u001b[0m = catalytic residue [active]\n",
      "│           ├── \u001b[94mtype\u001b[0m = active\n",
      "│           ├── \u001b[94mpositions\u001b[0m = [229, ...]\n",
      "│           └── \u001b[94mcross_ref\u001b[0m = CDD:188635\n",
      "├── \u001b[94mcoding_sequence_ref\u001b[0m\n",
      "│   └── \u001b[4mDNARegion\u001b[0m\n",
      "│       ├── \u001b[94mid\u001b[0m = NM_001300612.1\n",
      "│       ├── \u001b[94mspans\u001b[0m\n",
      "│       │   └── 0\n",
      "│       │       └── \u001b[4mSpan\u001b[0m\n",
      "│       │           ├── \u001b[94mid\u001b[0m = span1\n",
      "│       │           ├── \u001b[94mstart\u001b[0m = 278\n",
      "│       │           └── \u001b[94mend\u001b[0m = 1363\n",
      "│       └── \u001b[94mtype\u001b[0m = coding sequence\n",
      "├── \u001b[94mec_number\u001b[0m = 4.1.2.13\n",
      "├── \u001b[94mmol_weight\u001b[0m = 38916.0\n",
      "└── \u001b[94mcitation\u001b[0m\n",
      "    └── \u001b[4mCitation\u001b[0m\n",
      "        └── \u001b[94mid\u001b[0m = citation0\n",
      "\n"
     ]
    }
   ],
   "source": [
    "aldolase = ProteinInfo.from_ncbi(\"NP_001287541.1\")\n",
    "print(aldolase)"
   ]
  },
  {
   "cell_type": "markdown",
   "metadata": {},
   "source": [
    "## BLAST search"
   ]
  },
  {
   "cell_type": "code",
   "execution_count": 4,
   "metadata": {},
   "outputs": [
    {
     "name": "stdout",
     "output_type": "stream",
     "text": [
      "🏃🏼‍♀️ Running PBLAST\n",
      "╭── protein name: aldolase 1, isoform M\n",
      "├── accession: NP_001287541.1\n",
      "├── organism: Drosophila melanogaster\n",
      "├── e-value: 1e-50\n",
      "╰── max hits: 10\n"
     ]
    },
    {
     "name": "stderr",
     "output_type": "stream",
     "text": [
      "⬇️ Fetching protein sequences: 100%|██████████| 10/10 [00:00<00:00, 57.62it/s]"
     ]
    },
    {
     "name": "stdout",
     "output_type": "stream",
     "text": [
      "🎉 Done\n",
      "\n"
     ]
    },
    {
     "name": "stderr",
     "output_type": "stream",
     "text": [
      "\n"
     ]
    }
   ],
   "source": [
    "blast_results = aldolase.pblast(n_hits=10, e_value=1e-50)\n",
    "blast_results.append(aldolase)"
   ]
  },
  {
   "cell_type": "markdown",
   "metadata": {},
   "source": [
    "## Storing `ProteinSequence`s in a PostgreSQL database\n",
    "\n"
   ]
  },
  {
   "cell_type": "code",
   "execution_count": 5,
   "metadata": {},
   "outputs": [],
   "source": [
    "from sdrdm_database import DBConnector"
   ]
  },
  {
   "cell_type": "markdown",
   "metadata": {},
   "source": [
    "### Setting up a local MySQL database\n",
    "\n",
    "First, a local MySQL database needs to be setup. Therefore, we run a docker container with a MySQL database. \n",
    "If docker is not installed on your system, please follow the instructions on the [docker website](https://docs.docker.com/get-docker/).\n",
    "\n",
    "\n",
    "In case this notebook is run on a macOS system with a M1 chip, the following command needs to be run in the terminal first:\n",
    "\n",
    ">```bash\n",
    ">export DOCKER_DEFAULT_PLATFORM=linux/amd64\n",
    ">```\n",
    "\n",
    "Next, navigate to the directory where this notebook is located and run the following command to start the docker container:\n",
    "\n",
    ">```bash\n",
    ">docker compose up -d\n",
    ">```\n",
    "\n",
    "### Delete contianers\n",
    "\n",
    ">```    \n",
    ">docker rm -vf $(docker ps -aq)\n",
    ">docker rmi -f $(docker images -aq)\n",
    ">```"
   ]
  },
  {
   "cell_type": "markdown",
   "metadata": {},
   "source": [
    "### Connect to the PostgreSQL database"
   ]
  },
  {
   "cell_type": "code",
   "execution_count": 6,
   "metadata": {},
   "outputs": [
    {
     "name": "stdout",
     "output_type": "stream",
     "text": [
      "🎉 Connected                                                                                        \n"
     ]
    }
   ],
   "source": [
    "import toml\n",
    "\n",
    "# Establish a connection to the database\n",
    "db = DBConnector(**toml.load(open(\"./env.toml\")))"
   ]
  },
  {
   "cell_type": "markdown",
   "metadata": {},
   "source": [
    "### Create tables for `ProteinInfo`"
   ]
  },
  {
   "cell_type": "code",
   "execution_count": 7,
   "metadata": {},
   "outputs": [
    {
     "name": "stdout",
     "output_type": "stream",
     "text": [
      "\n",
      "🚀 Creating tables for data model ProteinInfo\n",
      "│\n",
      "├── Table __model_meta__ not existing. Adding to DB!\n",
      "├── Added table model 'ProteinInfo' to __model_meta__ table\n",
      "├── Model 'ProteinInfo' already registered. Skipping.\n",
      "├── Created table 'ProteinInfo'\n",
      "├── Added table model 'ProteinInfo_citation' to __model_meta__ table\n",
      "├── Created table 'ProteinInfo_citation'\n",
      "├── Added table model 'Citation_authors' to __model_meta__ table\n",
      "├── Created table 'Citation_authors'\n",
      "├── Added table model 'ProteinInfo_substrates' to __model_meta__ table\n",
      "├── Created table 'ProteinInfo_substrates'\n",
      "├── Added table model 'ProteinInfo_coding_sequence_ref' to __model_meta__ table\n",
      "├── Created table 'ProteinInfo_coding_sequence_ref'\n",
      "├── Added table model 'DNARegion_spans' to __model_meta__ table\n",
      "├── Created table 'DNARegion_spans'\n",
      "├── Added table model 'ProteinInfo_sites' to __model_meta__ table\n",
      "├── Created table 'ProteinInfo_sites'\n",
      "├── Created table 'Site_positions'\n",
      "├── Added table model 'ProteinInfo_regions' to __model_meta__ table\n",
      "├── Created table 'ProteinInfo_regions'\n",
      "├── Added table model 'ProteinRegion_spans' to __model_meta__ table\n",
      "├── Created table 'ProteinRegion_spans'\n",
      "├── Added table model 'ProteinInfo_organism' to __model_meta__ table\n",
      "├── Created table 'ProteinInfo_organism'\n",
      "├── Added primary key 'ProteinInfo_id' to table ProteinInfo\n",
      "├── Added primary key 'ProteinInfo_citation_id' to table ProteinInfo_citation\n",
      "├── Added primary key 'Citation_authors_id' to table Citation_authors\n",
      "├── Added primary key 'ProteinInfo_substrates_id' to table ProteinInfo_substrates\n",
      "├── Added primary key 'ProteinInfo_coding_sequence_ref_id' to table ProteinInfo_coding_sequence_ref\n",
      "├── Added primary key 'DNARegion_spans_id' to table DNARegion_spans\n",
      "├── Added primary key 'ProteinInfo_sites_id' to table ProteinInfo_sites\n",
      "├── Added primary key 'ProteinInfo_regions_id' to table ProteinInfo_regions\n",
      "├── Added primary key 'ProteinRegion_spans_id' to table ProteinRegion_spans\n",
      "├── Added primary key 'ProteinInfo_organism_id' to table ProteinInfo_organism\n",
      "├── Added foreign key 'ProteinInfo_id'(ProteinInfo) to table ProteinInfo_citation\n",
      "├── Added foreign key 'ProteinInfo_citation_id'(ProteinInfo_citation) to table Citation_authors\n",
      "├── Added foreign key 'ProteinInfo_id'(ProteinInfo) to table ProteinInfo_substrates\n",
      "├── Added foreign key 'ProteinInfo_id'(ProteinInfo) to table ProteinInfo_coding_sequence_ref\n",
      "├── Added foreign key 'ProteinInfo_coding_sequence_ref_id'(ProteinInfo_coding_sequence_ref) to table DNARegion_spans\n",
      "├── Added foreign key 'ProteinInfo_id'(ProteinInfo) to table ProteinInfo_sites\n",
      "├── Added foreign key 'ProteinInfo_sites_id'(ProteinInfo_sites) to table Site_positions\n",
      "├── Added foreign key 'ProteinInfo_id'(ProteinInfo) to table ProteinInfo_regions\n",
      "├── Added foreign key 'ProteinInfo_regions_id'(ProteinInfo_regions) to table ProteinRegion_spans\n",
      "├── Added foreign key 'ProteinInfo_id'(ProteinInfo) to table ProteinInfo_organism\n",
      "│\n",
      "╰── 🎉 Created all tables for data model ProteinInfo\n",
      "\n"
     ]
    }
   ],
   "source": [
    "db.create_tables(\n",
    "    model=ProteinInfo,\n",
    "    markdown_path=\"/Users/max/Documents/GitHub/pyeed/specifications/data_model.md\",\n",
    ")"
   ]
  },
  {
   "cell_type": "code",
   "execution_count": 8,
   "metadata": {},
   "outputs": [
    {
     "data": {
      "text/plain": [
       "['Citation_authors',\n",
       " 'DNARegion_spans',\n",
       " 'ProteinInfo',\n",
       " 'ProteinInfo_citation',\n",
       " 'ProteinInfo_coding_sequence_ref',\n",
       " 'ProteinInfo_organism',\n",
       " 'ProteinInfo_regions',\n",
       " 'ProteinInfo_sites',\n",
       " 'ProteinInfo_substrates',\n",
       " 'ProteinRegion_spans',\n",
       " 'Site_positions',\n",
       " '__model_meta__']"
      ]
     },
     "execution_count": 8,
     "metadata": {},
     "output_type": "execute_result"
    }
   ],
   "source": [
    "# See all created table names\n",
    "db.connection.list_tables()"
   ]
  },
  {
   "cell_type": "markdown",
   "metadata": {},
   "source": [
    "### Populate the database with `ProteinSequence`s"
   ]
  },
  {
   "cell_type": "code",
   "execution_count": 9,
   "metadata": {},
   "outputs": [
    {
     "name": "stdout",
     "output_type": "stream",
     "text": [
      "Added dataset ProteinInfo (f788c966-2df5-4393-a1f0-3dfee82fde20)\n",
      "Added dataset ProteinInfo (e35241aa-bc18-4acd-b93e-9962ecb2ad32)\n",
      "Added dataset ProteinInfo (3e9048bc-fac4-4ea1-8084-f592d1b8003a)\n",
      "Added dataset ProteinInfo (6bfb0751-4c7c-4d6f-ac8f-6dffaad32efa)\n",
      "Added dataset ProteinInfo (74fd1ced-4901-41c2-8199-f0e6b2802c17)\n",
      "Added dataset ProteinInfo (04158b95-54d2-4cee-b726-0d551f4057c4)\n",
      "Added dataset ProteinInfo (b865b87d-0ef9-4567-af9b-6c32817abbf1)\n",
      "Added dataset ProteinInfo (1133dd16-9e23-4591-9234-3f497b844f03)\n",
      "Added dataset ProteinInfo (e9251cb1-2281-407e-9664-8662c95ce449)\n",
      "Added dataset ProteinInfo (0a59c085-feb5-405f-b3d4-8d1447bc2f5a)\n",
      "Added dataset ProteinInfo (ff58b48a-61a0-4386-96c6-967d32b8fa21)\n"
     ]
    }
   ],
   "source": [
    "# Insert all blast results into the database\n",
    "db.insert(*blast_results, verbose=True)"
   ]
  },
  {
   "cell_type": "markdown",
   "metadata": {},
   "source": [
    "### Look at entries in the database"
   ]
  },
  {
   "cell_type": "code",
   "execution_count": 10,
   "metadata": {},
   "outputs": [
    {
     "data": {
      "text/html": [
       "<pre style=\"white-space:pre;overflow-x:auto;line-height:normal;font-family:Menlo,'DejaVu Sans Mono',consolas,'Courier New',monospace\">┏━━━━━━━━━━━━━━━━┳━━━━━━━━━━━━━━━━━━━━━━━━━━━━━━━━━━━━━━━━━━━━━┳━━━━━━━━━━━━━━━━━━━━━━━━━━━━━━━━━━━━━━━━━━━━━━━━━━━━━━━━━━━━━━━━━━━━━━━━━━━━━━━━━━┳━━━━━━━━━━━┳━━━━━━━━━━━━┳━━━━━━━━━━━━━━━━━━━━━━━━━━━━━━━━━━━━━━┓\n",
       "┃<span style=\"font-weight: bold\"> source_id      </span>┃<span style=\"font-weight: bold\"> name                                        </span>┃<span style=\"font-weight: bold\"> sequence                                                                         </span>┃<span style=\"font-weight: bold\"> ec_number </span>┃<span style=\"font-weight: bold\"> mol_weight </span>┃<span style=\"font-weight: bold\"> ProteinInfo_id                       </span>┃\n",
       "┡━━━━━━━━━━━━━━━━╇━━━━━━━━━━━━━━━━━━━━━━━━━━━━━━━━━━━━━━━━━━━━━╇━━━━━━━━━━━━━━━━━━━━━━━━━━━━━━━━━━━━━━━━━━━━━━━━━━━━━━━━━━━━━━━━━━━━━━━━━━━━━━━━━━╇━━━━━━━━━━━╇━━━━━━━━━━━━╇━━━━━━━━━━━━━━━━━━━━━━━━━━━━━━━━━━━━━━┩\n",
       "│ <span style=\"color: #7f7f7f; text-decoration-color: #7f7f7f\">string</span>         │ <span style=\"color: #7f7f7f; text-decoration-color: #7f7f7f\">string</span>                                      │ <span style=\"color: #7f7f7f; text-decoration-color: #7f7f7f\">!string</span>                                                                          │ <span style=\"color: #7f7f7f; text-decoration-color: #7f7f7f\">string</span>    │ <span style=\"color: #7f7f7f; text-decoration-color: #7f7f7f\">float64</span>    │ <span style=\"color: #7f7f7f; text-decoration-color: #7f7f7f\">!string</span>                              │\n",
       "├────────────────┼─────────────────────────────────────────────┼──────────────────────────────────────────────────────────────────────────────────┼───────────┼────────────┼──────────────────────────────────────┤\n",
       "│ <span style=\"color: #008000; text-decoration-color: #008000\">AEB39622.1    </span> │ <span style=\"color: #008000; text-decoration-color: #008000\">FI14722p                                   </span> │ <span style=\"color: #008000; text-decoration-color: #008000\">MTLIASEGIIAEVSVTLLSYKNIIVENYTRISKMTTYFNYPSKELQDELREIAQKIVAPGKGILAADESGPTMGKRLQD…</span> │ <span style=\"color: #7f7f7f; text-decoration-color: #7f7f7f\">NULL</span>      │       <span style=\"color: #7f7f7f; text-decoration-color: #7f7f7f\">NULL</span> │ <span style=\"color: #008000; text-decoration-color: #008000\">f788c966-2df5-4393-a1f0-3dfee82fde20</span> │\n",
       "│ <span style=\"color: #008000; text-decoration-color: #008000\">NP_001287541.1</span> │ <span style=\"color: #008000; text-decoration-color: #008000\">aldolase 1, isoform M                      </span> │ <span style=\"color: #008000; text-decoration-color: #008000\">MTTYFNYPSKELQDELREIAQKIVAPGKGILAADESGPTMGKRLQDIGVENTEDNRRAYRQLLFSTDPKLAENISGVIL…</span> │ <span style=\"color: #008000; text-decoration-color: #008000\">4.1.2.13 </span> │    <span style=\"color: #008080; text-decoration-color: #008080; font-weight: bold\">38916.0</span> │ <span style=\"color: #008000; text-decoration-color: #008000\">e35241aa-bc18-4acd-b93e-9962ecb2ad32</span> │\n",
       "│ <span style=\"color: #008000; text-decoration-color: #008000\">XP_032576247.1</span> │ <span style=\"color: #008000; text-decoration-color: #008000\">fructose-bisphosphate aldolase isoform X1  </span> │ <span style=\"color: #008000; text-decoration-color: #008000\">MTTYFNYPSKELQDELREIAQRIVAPGKGILAADESGPTMGKRLQDIGVENTEDNRRAYRQLLFSTDPKLAENISGVIL…</span> │ <span style=\"color: #7f7f7f; text-decoration-color: #7f7f7f\">NULL</span>      │    <span style=\"color: #008080; text-decoration-color: #008080; font-weight: bold\">38944.0</span> │ <span style=\"color: #008000; text-decoration-color: #008000\">3e9048bc-fac4-4ea1-8084-f592d1b8003a</span> │\n",
       "│ <span style=\"color: #008000; text-decoration-color: #008000\">XP_016036385.1</span> │ <span style=\"color: #008000; text-decoration-color: #008000\">fructose-bisphosphate aldolase isoform X1  </span> │ <span style=\"color: #008000; text-decoration-color: #008000\">MTTYFNYPSKELQDELRDIAQRIVAPGKGILAADESGPTMGKRLQDIGVENTEDNRRAYRQLLFSTDPKLAENISGVIL…</span> │ <span style=\"color: #7f7f7f; text-decoration-color: #7f7f7f\">NULL</span>      │    <span style=\"color: #008080; text-decoration-color: #008080; font-weight: bold\">38930.0</span> │ <span style=\"color: #008000; text-decoration-color: #008000\">6bfb0751-4c7c-4d6f-ac8f-6dffaad32efa</span> │\n",
       "│ <span style=\"color: #008000; text-decoration-color: #008000\">1FBA_A        </span> │ <span style=\"color: #008000; text-decoration-color: #008000\">Chain A, FRUCTOSE 1,6-BISPHOSPHATE ALDOLASE</span> │ <span style=\"color: #008000; text-decoration-color: #008000\">XTTYFNYPSKELQDELREIAQKIVAPGKGILAADESGPTMGKRLQDIGVENTEDNRRAYRQLLFSTDPKLAENISGVIL…</span> │ <span style=\"color: #7f7f7f; text-decoration-color: #7f7f7f\">NULL</span>      │       <span style=\"color: #7f7f7f; text-decoration-color: #7f7f7f\">NULL</span> │ <span style=\"color: #008000; text-decoration-color: #008000\">74fd1ced-4901-41c2-8199-f0e6b2802c17</span> │\n",
       "│ <span style=\"color: #008000; text-decoration-color: #008000\">XP_015009248.1</span> │ <span style=\"color: #008000; text-decoration-color: #008000\">fructose-bisphosphate aldolase isoform X3  </span> │ <span style=\"color: #008000; text-decoration-color: #008000\">MTTYFNYPSKELQDELRDIAQRIVAPGKGILAADESGPTMGKRLQDIGVENTEDNRRAYRQLLFSTDPKLAENISGVIL…</span> │ <span style=\"color: #7f7f7f; text-decoration-color: #7f7f7f\">NULL</span>      │    <span style=\"color: #008080; text-decoration-color: #008080; font-weight: bold\">38929.0</span> │ <span style=\"color: #008000; text-decoration-color: #008000\">04158b95-54d2-4cee-b726-0d551f4057c4</span> │\n",
       "│ <span style=\"color: #008000; text-decoration-color: #008000\">XP_039231177.1</span> │ <span style=\"color: #008000; text-decoration-color: #008000\">fructose-bisphosphate aldolase isoform X1  </span> │ <span style=\"color: #008000; text-decoration-color: #008000\">MTTYFNYPSKELQDELRDIAQRIVAPGKGILAADESGPTMGKRLQDIGVENTEDNRRAYRQLLFSTDPKLAENISGVIL…</span> │ <span style=\"color: #7f7f7f; text-decoration-color: #7f7f7f\">NULL</span>      │    <span style=\"color: #008080; text-decoration-color: #008080; font-weight: bold\">38916.0</span> │ <span style=\"color: #008000; text-decoration-color: #008000\">b865b87d-0ef9-4567-af9b-6c32817abbf1</span> │\n",
       "│ <span style=\"color: #008000; text-decoration-color: #008000\">BAA01236.1    </span> │ <span style=\"color: #008000; text-decoration-color: #008000\">aldolase gamma                             </span> │ <span style=\"color: #008000; text-decoration-color: #008000\">MTTYFNYPSKELQDELREIAQKIVAPGKGILAADESGPTHGKRLQDIGVENTEDNRRAYRQLLFSTDPKLAENISGVIL…</span> │ <span style=\"color: #7f7f7f; text-decoration-color: #7f7f7f\">NULL</span>      │       <span style=\"color: #7f7f7f; text-decoration-color: #7f7f7f\">NULL</span> │ <span style=\"color: #008000; text-decoration-color: #008000\">1133dd16-9e23-4591-9234-3f497b844f03</span> │\n",
       "│ <span style=\"color: #008000; text-decoration-color: #008000\">XP_043651204.1</span> │ <span style=\"color: #008000; text-decoration-color: #008000\">fructose-bisphosphate aldolase isoform X2  </span> │ <span style=\"color: #008000; text-decoration-color: #008000\">MTTYFNYPSKELQDELRDIAQRIVAPGKGILAADESGPTMGKRLQDIGVENTEDNRRAYRQLLFSTDPKLAENISGVIL…</span> │ <span style=\"color: #7f7f7f; text-decoration-color: #7f7f7f\">NULL</span>      │    <span style=\"color: #008080; text-decoration-color: #008080; font-weight: bold\">38930.0</span> │ <span style=\"color: #008000; text-decoration-color: #008000\">e9251cb1-2281-407e-9664-8662c95ce449</span> │\n",
       "│ <span style=\"color: #008000; text-decoration-color: #008000\">XP_017052602.1</span> │ <span style=\"color: #008000; text-decoration-color: #008000\">fructose-bisphosphate aldolase isoform X2  </span> │ <span style=\"color: #008000; text-decoration-color: #008000\">MTTYFNYPSKELQDELRDIAQRIVAPGKGILAADESGPTMGKRLQDIGVENTEDNRRAYRQLLFSTDPKLAENISGVIL…</span> │ <span style=\"color: #7f7f7f; text-decoration-color: #7f7f7f\">NULL</span>      │    <span style=\"color: #008080; text-decoration-color: #008080; font-weight: bold\">38930.0</span> │ <span style=\"color: #008000; text-decoration-color: #008000\">0a59c085-feb5-405f-b3d4-8d1447bc2f5a</span> │\n",
       "│ <span style=\"color: #7f7f7f; text-decoration-color: #7f7f7f\">…</span>              │ <span style=\"color: #7f7f7f; text-decoration-color: #7f7f7f\">…</span>                                           │ <span style=\"color: #7f7f7f; text-decoration-color: #7f7f7f\">…</span>                                                                                │ <span style=\"color: #7f7f7f; text-decoration-color: #7f7f7f\">…</span>         │          <span style=\"color: #7f7f7f; text-decoration-color: #7f7f7f\">…</span> │ <span style=\"color: #7f7f7f; text-decoration-color: #7f7f7f\">…</span>                                    │\n",
       "└────────────────┴─────────────────────────────────────────────┴──────────────────────────────────────────────────────────────────────────────────┴───────────┴────────────┴──────────────────────────────────────┘\n",
       "</pre>\n"
      ],
      "text/plain": [
       "┏━━━━━━━━━━━━━━━━┳━━━━━━━━━━━━━━━━━━━━━━━━━━━━━━━━━━━━━━━━━━━━━┳━━━━━━━━━━━━━━━━━━━━━━━━━━━━━━━━━━━━━━━━━━━━━━━━━━━━━━━━━━━━━━━━━━━━━━━━━━━━━━━━━━┳━━━━━━━━━━━┳━━━━━━━━━━━━┳━━━━━━━━━━━━━━━━━━━━━━━━━━━━━━━━━━━━━━┓\n",
       "┃\u001b[1m \u001b[0m\u001b[1msource_id\u001b[0m\u001b[1m     \u001b[0m\u001b[1m \u001b[0m┃\u001b[1m \u001b[0m\u001b[1mname\u001b[0m\u001b[1m                                       \u001b[0m\u001b[1m \u001b[0m┃\u001b[1m \u001b[0m\u001b[1msequence\u001b[0m\u001b[1m                                                                        \u001b[0m\u001b[1m \u001b[0m┃\u001b[1m \u001b[0m\u001b[1mec_number\u001b[0m\u001b[1m \u001b[0m┃\u001b[1m \u001b[0m\u001b[1mmol_weight\u001b[0m\u001b[1m \u001b[0m┃\u001b[1m \u001b[0m\u001b[1mProteinInfo_id\u001b[0m\u001b[1m                      \u001b[0m\u001b[1m \u001b[0m┃\n",
       "┡━━━━━━━━━━━━━━━━╇━━━━━━━━━━━━━━━━━━━━━━━━━━━━━━━━━━━━━━━━━━━━━╇━━━━━━━━━━━━━━━━━━━━━━━━━━━━━━━━━━━━━━━━━━━━━━━━━━━━━━━━━━━━━━━━━━━━━━━━━━━━━━━━━━╇━━━━━━━━━━━╇━━━━━━━━━━━━╇━━━━━━━━━━━━━━━━━━━━━━━━━━━━━━━━━━━━━━┩\n",
       "│ \u001b[2mstring\u001b[0m         │ \u001b[2mstring\u001b[0m                                      │ \u001b[2m!string\u001b[0m                                                                          │ \u001b[2mstring\u001b[0m    │ \u001b[2mfloat64\u001b[0m    │ \u001b[2m!string\u001b[0m                              │\n",
       "├────────────────┼─────────────────────────────────────────────┼──────────────────────────────────────────────────────────────────────────────────┼───────────┼────────────┼──────────────────────────────────────┤\n",
       "│ \u001b[32mAEB39622.1    \u001b[0m │ \u001b[32mFI14722p                                   \u001b[0m │ \u001b[32mMTLIASEGIIAEVSVTLLSYKNIIVENYTRISKMTTYFNYPSKELQDELREIAQKIVAPGKGILAADESGPTMGKRLQD…\u001b[0m │ \u001b[2mNULL\u001b[0m      │       \u001b[2mNULL\u001b[0m │ \u001b[32mf788c966-2df5-4393-a1f0-3dfee82fde20\u001b[0m │\n",
       "│ \u001b[32mNP_001287541.1\u001b[0m │ \u001b[32maldolase 1, isoform M                      \u001b[0m │ \u001b[32mMTTYFNYPSKELQDELREIAQKIVAPGKGILAADESGPTMGKRLQDIGVENTEDNRRAYRQLLFSTDPKLAENISGVIL…\u001b[0m │ \u001b[32m4.1.2.13 \u001b[0m │    \u001b[1;36m38916.0\u001b[0m │ \u001b[32me35241aa-bc18-4acd-b93e-9962ecb2ad32\u001b[0m │\n",
       "│ \u001b[32mXP_032576247.1\u001b[0m │ \u001b[32mfructose-bisphosphate aldolase isoform X1  \u001b[0m │ \u001b[32mMTTYFNYPSKELQDELREIAQRIVAPGKGILAADESGPTMGKRLQDIGVENTEDNRRAYRQLLFSTDPKLAENISGVIL…\u001b[0m │ \u001b[2mNULL\u001b[0m      │    \u001b[1;36m38944.0\u001b[0m │ \u001b[32m3e9048bc-fac4-4ea1-8084-f592d1b8003a\u001b[0m │\n",
       "│ \u001b[32mXP_016036385.1\u001b[0m │ \u001b[32mfructose-bisphosphate aldolase isoform X1  \u001b[0m │ \u001b[32mMTTYFNYPSKELQDELRDIAQRIVAPGKGILAADESGPTMGKRLQDIGVENTEDNRRAYRQLLFSTDPKLAENISGVIL…\u001b[0m │ \u001b[2mNULL\u001b[0m      │    \u001b[1;36m38930.0\u001b[0m │ \u001b[32m6bfb0751-4c7c-4d6f-ac8f-6dffaad32efa\u001b[0m │\n",
       "│ \u001b[32m1FBA_A        \u001b[0m │ \u001b[32mChain A, FRUCTOSE 1,6-BISPHOSPHATE ALDOLASE\u001b[0m │ \u001b[32mXTTYFNYPSKELQDELREIAQKIVAPGKGILAADESGPTMGKRLQDIGVENTEDNRRAYRQLLFSTDPKLAENISGVIL…\u001b[0m │ \u001b[2mNULL\u001b[0m      │       \u001b[2mNULL\u001b[0m │ \u001b[32m74fd1ced-4901-41c2-8199-f0e6b2802c17\u001b[0m │\n",
       "│ \u001b[32mXP_015009248.1\u001b[0m │ \u001b[32mfructose-bisphosphate aldolase isoform X3  \u001b[0m │ \u001b[32mMTTYFNYPSKELQDELRDIAQRIVAPGKGILAADESGPTMGKRLQDIGVENTEDNRRAYRQLLFSTDPKLAENISGVIL…\u001b[0m │ \u001b[2mNULL\u001b[0m      │    \u001b[1;36m38929.0\u001b[0m │ \u001b[32m04158b95-54d2-4cee-b726-0d551f4057c4\u001b[0m │\n",
       "│ \u001b[32mXP_039231177.1\u001b[0m │ \u001b[32mfructose-bisphosphate aldolase isoform X1  \u001b[0m │ \u001b[32mMTTYFNYPSKELQDELRDIAQRIVAPGKGILAADESGPTMGKRLQDIGVENTEDNRRAYRQLLFSTDPKLAENISGVIL…\u001b[0m │ \u001b[2mNULL\u001b[0m      │    \u001b[1;36m38916.0\u001b[0m │ \u001b[32mb865b87d-0ef9-4567-af9b-6c32817abbf1\u001b[0m │\n",
       "│ \u001b[32mBAA01236.1    \u001b[0m │ \u001b[32maldolase gamma                             \u001b[0m │ \u001b[32mMTTYFNYPSKELQDELREIAQKIVAPGKGILAADESGPTHGKRLQDIGVENTEDNRRAYRQLLFSTDPKLAENISGVIL…\u001b[0m │ \u001b[2mNULL\u001b[0m      │       \u001b[2mNULL\u001b[0m │ \u001b[32m1133dd16-9e23-4591-9234-3f497b844f03\u001b[0m │\n",
       "│ \u001b[32mXP_043651204.1\u001b[0m │ \u001b[32mfructose-bisphosphate aldolase isoform X2  \u001b[0m │ \u001b[32mMTTYFNYPSKELQDELRDIAQRIVAPGKGILAADESGPTMGKRLQDIGVENTEDNRRAYRQLLFSTDPKLAENISGVIL…\u001b[0m │ \u001b[2mNULL\u001b[0m      │    \u001b[1;36m38930.0\u001b[0m │ \u001b[32me9251cb1-2281-407e-9664-8662c95ce449\u001b[0m │\n",
       "│ \u001b[32mXP_017052602.1\u001b[0m │ \u001b[32mfructose-bisphosphate aldolase isoform X2  \u001b[0m │ \u001b[32mMTTYFNYPSKELQDELRDIAQRIVAPGKGILAADESGPTMGKRLQDIGVENTEDNRRAYRQLLFSTDPKLAENISGVIL…\u001b[0m │ \u001b[2mNULL\u001b[0m      │    \u001b[1;36m38930.0\u001b[0m │ \u001b[32m0a59c085-feb5-405f-b3d4-8d1447bc2f5a\u001b[0m │\n",
       "│ \u001b[2m…\u001b[0m              │ \u001b[2m…\u001b[0m                                           │ \u001b[2m…\u001b[0m                                                                                │ \u001b[2m…\u001b[0m         │          \u001b[2m…\u001b[0m │ \u001b[2m…\u001b[0m                                    │\n",
       "└────────────────┴─────────────────────────────────────────────┴──────────────────────────────────────────────────────────────────────────────────┴───────────┴────────────┴──────────────────────────────────────┘"
      ]
     },
     "execution_count": 10,
     "metadata": {},
     "output_type": "execute_result"
    }
   ],
   "source": [
    "db.connection.table(\"ProteinInfo\")"
   ]
  },
  {
   "cell_type": "code",
   "execution_count": 11,
   "metadata": {},
   "outputs": [
    {
     "name": "stdout",
     "output_type": "stream",
     "text": [
      "5\n"
     ]
    }
   ],
   "source": [
    "# Lets filter the blast results for a specific organism\n",
    "target = \"Drosophila melanogaster\"\n",
    "\n",
    "# First, join the ProteinSequence table with the ProteinSequence_organism table\n",
    "prot_seqs = db.connection.table(\"ProteinInfo\")\n",
    "organisms = db.connection.table(\"ProteinInfo_organism\")\n",
    "joined = prot_seqs.join(\n",
    "    organisms,\n",
    "    prot_seqs.ProteinInfo_id == organisms.ProteinInfo_id,\n",
    "    rname=\"organism_{name}\",\n",
    ")\n",
    "\n",
    "# Next, filter the joined table for the target organism\n",
    "filtered = joined.filter(joined.organism_name == target)\n",
    "filtered\n",
    "\n",
    "# Finally, we can get the corresponding ProteinSequence objects\n",
    "results = db.get(\"ProteinInfo\", filtered)\n",
    "print(len(results))"
   ]
  }
 ],
 "metadata": {
  "kernelspec": {
   "display_name": "sdrdm_example",
   "language": "python",
   "name": "python3"
  },
  "language_info": {
   "codemirror_mode": {
    "name": "ipython",
    "version": 3
   },
   "file_extension": ".py",
   "mimetype": "text/x-python",
   "name": "python",
   "nbconvert_exporter": "python",
   "pygments_lexer": "ipython3",
   "version": "3.10.13"
  }
 },
 "nbformat": 4,
 "nbformat_minor": 4
}
