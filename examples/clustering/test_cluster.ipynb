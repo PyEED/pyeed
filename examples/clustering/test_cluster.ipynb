{
 "cells": [
  {
   "cell_type": "code",
   "execution_count": 1,
   "metadata": {},
   "outputs": [],
   "source": [
    "from pathlib import Path\n",
    "import json\n",
    "\n",
    "%reload_ext autoreload\n",
    "%autoreload 2\n",
    "from pyeed.core import ProteinInfo\n",
    "from pyeed.containers.mmseqs2 import MMSeqs2"
   ]
  },
  {
   "cell_type": "code",
   "execution_count": 2,
   "metadata": {},
   "outputs": [
    {
     "data": {
      "text/plain": [
       "'/Users/max/Documents/GitHub/pyeed/examples/networks/test_data/EQL02201.1.json'"
      ]
     },
     "execution_count": 2,
     "metadata": {},
     "output_type": "execute_result"
    }
   ],
   "source": [
    "list(Path(\"test_data\").rglob(\"*.json\"))[0].absolute().__str__()"
   ]
  },
  {
   "cell_type": "code",
   "execution_count": 3,
   "metadata": {},
   "outputs": [],
   "source": [
    "sequences = []\n",
    "for path in Path(\"test_data\").rglob(\"*.json\"):\n",
    "    with open(str(path.absolute())) as f:\n",
    "        sequences.append(ProteinInfo.from_json(f))"
   ]
  },
  {
   "cell_type": "code",
   "execution_count": 4,
   "metadata": {},
   "outputs": [],
   "source": [
    "multifasta_string = \"\\n\".join(\n",
    "    [f\">{seq.source_id}\\n{seq.sequence}\" for seq in sequences]\n",
    ")"
   ]
  },
  {
   "cell_type": "code",
   "execution_count": 37,
   "metadata": {},
   "outputs": [
    {
     "name": "stdout",
     "output_type": "stream",
     "text": [
      "🏃 Clustering sequences with MMSeqs2...\n",
      "╭── initial sequences: 201\n",
      "├── min. coverage: 80 %\n",
      "╰── min. sequence identity: 0 %\n",
      "🎉 Clustering completed\n",
      "\n"
     ]
    },
    {
     "data": {
      "text/plain": [
       "[ProteinInfo(id='proteininfo190', source_id='KAE8211275.1', name='hypothetical protein', sequence='MASSASASGSSSSSSSQAQQLPTQQQQQQQSQPQSNGASSQDEAAERNSVIIKVGMVGDSQIGKTSLMVRYVEGSFNEDYIQTLGVNFMEKTISIRNTEITFSIWDLGGQREFVNMLPLVCNDAVAILFMFDLSRKSTLNSIKEWYRQARGFNKTAIPFLVGTKYDQFATFAQEEQEEITKQARRFARAMKAPLIFSSTSHSINVQKIFKIILSKAFDLKCTIPEIKGIGEPLLIYVET', organism=Organism(id='organism720', name='Tilletia walkeri', taxonomy_id='117179', domain='Eukaryota', kingdom='Fungi', phylum='Basidiomycota', tax_class='Exobasidiomycetes', order='Tilletiales', family='Tilletiaceae', genus='Tilletia', species='Tilletia walkeri'), citation=Citation(id='citation25', doi=None, pubmed_id=None, medline_id=None, year=None, authors=[]), family_name=None, regions=[ProteinRegion(id='proteinregion395', name='Spg1', spans=[Span(id='span1478', start=51, end=233)], note='Septum-promoting GTPase (Spg1); cd04128', cross_reference='CDD:206701', type=None)], sites=[Site(id='site7088', name='other', type='unannotated', positions=[51], cross_ref='CDD:206701'), Site(id='site7089', name='other', type='unannotated', positions=[57], cross_ref='CDD:206701'), Site(id='site7090', name='other', type='unannotated', positions=[59, 75, 81, 108, 162, 165, 197], cross_ref='CDD:206701'), Site(id='site7091', name='other', type='unannotated', positions=[65, 80], cross_ref='CDD:206701'), Site(id='site7092', name='other', type='unannotated', positions=[75, 80], cross_ref='CDD:206701'), Site(id='site7093', name='other', type='unannotated', positions=[80, 84, 98, 100], cross_ref='CDD:206701'), Site(id='site7094', name='other', type='unannotated', positions=[82], cross_ref='CDD:206701'), Site(id='site7095', name='active', type='active', positions=[83, 85, 102, 104, 111, 115, 119, 121], cross_ref='CDD:206701'), Site(id='site7096', name='other', type='unannotated', positions=[83, 86, 104, 112, 114, 116], cross_ref='CDD:206701'), Site(id='site7097', name='other', type='unannotated', positions=[83], cross_ref='CDD:206701'), Site(id='site7098', name='other', type='unannotated', positions=[100], cross_ref='CDD:206701'), Site(id='site7099', name='other', type='unannotated', positions=[105], cross_ref='CDD:206701'), Site(id='site7100', name='other', type='unannotated', positions=[108, 110], cross_ref='CDD:206701'), Site(id='site7101', name='other', type='unannotated', positions=[111], cross_ref='CDD:206701'), Site(id='site7102', name='other', type='unannotated', positions=[119], cross_ref='CDD:206701'), Site(id='site7103', name='other', type='unannotated', positions=[128], cross_ref='CDD:206701'), Site(id='site7104', name='other', type='unannotated', positions=[151], cross_ref='CDD:206701'), Site(id='site7105', name='other', type='unannotated', positions=[162], cross_ref='CDD:206701'), Site(id='site7106', name='other', type='unannotated', positions=[197], cross_ref='CDD:206701'), Site(id='site7107', name='other', type='unannotated', positions=[212], cross_ref='CDD:206701')], coding_sequence_ref=DNARegion(id='RDSH01000145.1', name=None, spans=[Span(id='span1486', start=10948, end=10959)], note=None, cross_reference=None, type='coding sequence'), ec_number=None, mol_weight=None, substrates=[]),\n",
       " ProteinInfo(id='proteininfo112', source_id='KAI8960093.1', name='small GTPase', sequence='MHIAGGPGIHEPHHRQSRSLDQGLPSGAHHDDIDPHAADPNAIDHNGQFEVPSYEPPAQSMSRPASSSGTGERQLNGEASREGNGADRTRNHVVIKVGMVGDAQIGKTSLMVKYVEGSWDEDYIQTLGVNFMEKTISIRNTEITFSIWDLGGQREFVNMLPLVCNDAVAILFMFDLTRKSTLNSIKEWYRQGRGFNKTAIPILVGTKYDHFVNFPREDQEEISNQAKRFAKAMRAALIFSSTSHSINVQKIFKIVLSKAFDLKCTIPEIENVGEPLLLYQSV', organism=Organism(id='organism606', name='Daldinia sp. FL1419', taxonomy_id='2614575', domain='Eukaryota', kingdom='Fungi', phylum='Ascomycota', tax_class='Sordariomycetes', order='Xylariales', family='Hypoxylaceae', genus='Daldinia', species='Daldinia sp. FL1419'), citation=Citation(id='citation40', doi=None, pubmed_id=None, medline_id=None, year=None, authors=[]), family_name=None, regions=[ProteinRegion(id='proteinregion319', name='Spg1', spans=[Span(id='span1163', start=94, end=276)], note='Septum-promoting GTPase (Spg1); cd04128', cross_reference='CDD:206701', type=None)], sites=[Site(id='site5628', name='other', type='unannotated', positions=[94], cross_ref='CDD:206701'), Site(id='site5629', name='other', type='unannotated', positions=[100], cross_ref='CDD:206701'), Site(id='site5630', name='other', type='unannotated', positions=[102, 118, 124, 151, 205, 208, 240], cross_ref='CDD:206701'), Site(id='site5631', name='other', type='unannotated', positions=[108, 123], cross_ref='CDD:206701'), Site(id='site5632', name='other', type='unannotated', positions=[118, 123], cross_ref='CDD:206701'), Site(id='site5633', name='other', type='unannotated', positions=[123, 127, 141, 143], cross_ref='CDD:206701'), Site(id='site5634', name='other', type='unannotated', positions=[125], cross_ref='CDD:206701'), Site(id='site5635', name='active', type='active', positions=[126, 128, 145, 147, 154, 158, 162, 164], cross_ref='CDD:206701'), Site(id='site5636', name='other', type='unannotated', positions=[126, 129, 147, 155, 157, 159], cross_ref='CDD:206701'), Site(id='site5637', name='other', type='unannotated', positions=[126], cross_ref='CDD:206701'), Site(id='site5638', name='other', type='unannotated', positions=[143], cross_ref='CDD:206701'), Site(id='site5639', name='other', type='unannotated', positions=[148], cross_ref='CDD:206701'), Site(id='site5640', name='other', type='unannotated', positions=[151, 153], cross_ref='CDD:206701'), Site(id='site5641', name='other', type='unannotated', positions=[154], cross_ref='CDD:206701'), Site(id='site5642', name='other', type='unannotated', positions=[162], cross_ref='CDD:206701'), Site(id='site5643', name='other', type='unannotated', positions=[171], cross_ref='CDD:206701'), Site(id='site5644', name='other', type='unannotated', positions=[194], cross_ref='CDD:206701'), Site(id='site5645', name='other', type='unannotated', positions=[205], cross_ref='CDD:206701'), Site(id='site5646', name='other', type='unannotated', positions=[240], cross_ref='CDD:206701'), Site(id='site5647', name='other', type='unannotated', positions=[255], cross_ref='CDD:206701')], coding_sequence_ref=DNARegion(id='MU623420.1', name=None, spans=[Span(id='span1166', start=59976, end=60074)], note=None, cross_reference=None, type='coding sequence'), ec_number=None, mol_weight=None, substrates=[]),\n",
       " ProteinInfo(id='proteininfo26', source_id='SCV02624.1', name='LAMI_0H01266g1_1', sequence='MSTNEANVPTLPQPKNTFTIKVGLIGDAQVGKTSLMVKYVENVFDEEYTQTLGVNCLDKKIKLGSADIVFYIMDLGGQREFINMLPLASEGARAIIFLFDLTRPETLKSIKEWHRQATGFNEMAVPLLVGTKYDLFVNFDPEYQVQVSKQSMRYAQAMDAPLIFCSTSHSINIQKIFKVIIAKLYNLTMRASEIKQIGDPLLIYKHLGSKRRFSENPSSRNSSSRTPSPHRSP', organism=Organism(id='organism620', name='Lachancea mirantina', taxonomy_id='1230905', domain='Eukaryota', kingdom='Fungi', phylum='Ascomycota', tax_class='Saccharomycetes', order='Saccharomycetales', family='Saccharomycetaceae', genus='Lachancea', species='Lachancea mirantina'), citation=Citation(id='citation47', doi=None, pubmed_id=None, medline_id=None, year=None, authors=[]), family_name=None, regions=[ProteinRegion(id='proteinregion231', name='P-loop_NTPase', spans=[Span(id='span816', start=19, end=201)], note='P-loop containing Nucleoside Triphosphate Hydrolases; cl38936', cross_reference='CDD:453896', type=None)], sites=[Site(id='site4048', name='other', type='unannotated', positions=[25], cross_ref='CDD:206648'), Site(id='site4049', name='other', type='unannotated', positions=[27, 76, 130, 133, 165], cross_ref='CDD:206648'), Site(id='site4050', name='other', type='unannotated', positions=[50], cross_ref='CDD:206648'), Site(id='site4051', name='other', type='unannotated', positions=[54], cross_ref='CDD:206648'), Site(id='site4052', name='other', type='unannotated', positions=[73], cross_ref='CDD:206648'), Site(id='site4053', name='other', type='unannotated', positions=[75, 92], cross_ref='CDD:206648'), Site(id='site4054', name='other', type='unannotated', positions=[130], cross_ref='CDD:206648'), Site(id='site4055', name='other', type='unannotated', positions=[165], cross_ref='CDD:206648')], coding_sequence_ref=DNARegion(id='LT598468.1', name=None, spans=[Span(id='span817', start=103775, end=104476)], note=None, cross_reference=None, type='coding sequence'), ec_number=None, mol_weight=None, substrates=[]),\n",
       " ProteinInfo(id='proteininfo195', source_id='KAJ5714723.1', name='hypothetical protein', sequence='MDPLQQPVSEVPAVAEPESQPPIEPQAPEVAQPLPMSSEQPLEHAPAPVTVNVEEPAPEDPTTDSTVGPEESTTSRVAVEPGYASDSKAHYHSRSSEFHHSAPEYNPRDTDPASRFTSSPSLTQQPQLHNASRPGSGFSSGPERQAAPQPTLPEVPHRGQLSQASRNSVVIKVGMVGDAQIGKTSLMVKYVEGSWDEDYIQTLGVNFMEKTISIRNTEITFSIWDLGGQREFVNMLPLVCNDAVAILFMFDLTRKSTLNSIKEWYRQGRGFNKTAIPFLVGTKYDHFVNFPREDQEEISLQAKRFAKAMKASLIFSSTSHSINVQKIFKIVLAKAFDLKCTIPEIENVGEPLLLYKSV', organism=Organism(id='organism626', name='Penicillium malachiteum', taxonomy_id='1324776', domain='Eukaryota', kingdom='Fungi', phylum='Ascomycota', tax_class='Eurotiomycetes', order='Eurotiales', family='Aspergillaceae', genus='Penicillium', species='Penicillium malachiteum'), citation=Citation(id='citation71', doi=None, pubmed_id=None, medline_id=None, year=None, authors=[]), family_name=None, regions=[ProteinRegion(id='proteinregion400', name='PHA03247', spans=[Span(id='span1501', start=6, end=156)], note='large tegument protein UL36; Provisional', cross_reference='CDD:223021', type=None), ProteinRegion(id='proteinregion401', name='Spg1', spans=[Span(id='span1502', start=170, end=352)], note='Septum-promoting GTPase (Spg1); cd04128', cross_reference='CDD:206701', type=None)], sites=[Site(id='site7188', name='other', type='unannotated', positions=[170], cross_ref='CDD:206701'), Site(id='site7189', name='other', type='unannotated', positions=[176], cross_ref='CDD:206701'), Site(id='site7190', name='other', type='unannotated', positions=[178, 194, 200, 227, 281, 284, 316], cross_ref='CDD:206701'), Site(id='site7191', name='other', type='unannotated', positions=[184, 199], cross_ref='CDD:206701'), Site(id='site7192', name='other', type='unannotated', positions=[194, 199], cross_ref='CDD:206701'), Site(id='site7193', name='other', type='unannotated', positions=[199, 203, 217, 219], cross_ref='CDD:206701'), Site(id='site7194', name='other', type='unannotated', positions=[201], cross_ref='CDD:206701'), Site(id='site7195', name='active', type='active', positions=[202, 204, 221, 223, 230, 234, 238, 240], cross_ref='CDD:206701'), Site(id='site7196', name='other', type='unannotated', positions=[202, 205, 223, 231, 233, 235], cross_ref='CDD:206701'), Site(id='site7197', name='other', type='unannotated', positions=[202], cross_ref='CDD:206701'), Site(id='site7198', name='other', type='unannotated', positions=[219], cross_ref='CDD:206701'), Site(id='site7199', name='other', type='unannotated', positions=[224], cross_ref='CDD:206701'), Site(id='site7200', name='other', type='unannotated', positions=[227, 229], cross_ref='CDD:206701'), Site(id='site7201', name='other', type='unannotated', positions=[230], cross_ref='CDD:206701'), Site(id='site7202', name='other', type='unannotated', positions=[238], cross_ref='CDD:206701'), Site(id='site7203', name='other', type='unannotated', positions=[247], cross_ref='CDD:206701'), Site(id='site7204', name='other', type='unannotated', positions=[270], cross_ref='CDD:206701'), Site(id='site7205', name='other', type='unannotated', positions=[281], cross_ref='CDD:206701'), Site(id='site7206', name='other', type='unannotated', positions=[316], cross_ref='CDD:206701'), Site(id='site7207', name='other', type='unannotated', positions=[331], cross_ref='CDD:206701')], coding_sequence_ref=DNARegion(id='JAQJAO010000006.1', name=None, spans=[Span(id='span1505', start=5087556, end=5087654)], note=None, cross_reference=None, type='coding sequence'), ec_number=None, mol_weight=None, substrates=[])]"
      ]
     },
     "execution_count": 37,
     "metadata": {},
     "output_type": "execute_result"
    }
   ],
   "source": [
    "MMSeqs2(coverage=0.8).cluster(sequences)"
   ]
  }
 ],
 "metadata": {
  "kernelspec": {
   "display_name": "pye",
   "language": "python",
   "name": "python3"
  },
  "language_info": {
   "codemirror_mode": {
    "name": "ipython",
    "version": 3
   },
   "file_extension": ".py",
   "mimetype": "text/x-python",
   "name": "python",
   "nbconvert_exporter": "python",
   "pygments_lexer": "ipython3",
   "version": "3.10.13"
  }
 },
 "nbformat": 4,
 "nbformat_minor": 2
}
