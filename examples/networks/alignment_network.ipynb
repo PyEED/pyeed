{
 "cells": [
  {
   "cell_type": "code",
   "execution_count": 3,
   "metadata": {},
   "outputs": [],
   "source": [
    "from pyEED.core import ProteinInfo\n",
    "from pyEED.alignment.pairwise import multi_pairwise_alignment\n",
    "from pyEED.network import pairwise_network\n",
    "from pyEED.ncbi.utils import load_accessions"
   ]
  },
  {
   "cell_type": "markdown",
   "metadata": {},
   "source": [
    "# Visualize networks of pairwise sequence alignments\n",
    "\n",
    "In the following example, a protein BLAST search is conducted based on TEM-1 and TEM-109 variant of beta-lactamase. After pairwise alignment of all sequences, a network is constructed based on the alignment scores and then visualized.\n",
    "\n",
    "## PBLAST search for seed sequences\n",
    "\n",
    "Results from the BLAST search are renamed based to the name of query protein variant."
   ]
  },
  {
   "cell_type": "code",
   "execution_count": 4,
   "metadata": {},
   "outputs": [
    {
     "name": "stdout",
     "output_type": "stream",
     "text": [
      "🏃🏼‍♀️ Running PBLAST\n",
      "╭── protein name: TEM family beta-lactamase\n",
      "├── accession: QGC48744.1\n",
      "├── organism: Escherichia coli\n",
      "├── e-value: 0.05\n",
      "╰── max hits: 50\n"
     ]
    },
    {
     "name": "stderr",
     "output_type": "stream",
     "text": [
      "⬇️ Fetching protein sequences: 100%|██████████| 50/50 [02:21<00:00,  2.83s/it]"
     ]
    },
    {
     "name": "stdout",
     "output_type": "stream",
     "text": [
      "🎉 Done\n",
      "\n"
     ]
    },
    {
     "name": "stderr",
     "output_type": "stream",
     "text": [
      "\n"
     ]
    }
   ],
   "source": [
    "tem1 = ProteinInfo.from_ncbi(\"QGC48744.1\")\n",
    "tem109 = ProteinInfo.from_ncbi(\"AAT46413.1\")\n",
    "\n",
    "blast_results = []\n",
    "for tem in [tem1, tem109]:\n",
    "    sequences = tem.pblast(\n",
    "        e_value=0.05, n_hits=50, api_key=\"161e6eb71dcc94511d2d0e2fc5336c1af709\"\n",
    "    )\n",
    "\n",
    "    for sequence in sequences:\n",
    "        sequence.name = tem.name\n",
    "\n",
    "    blast_results.extend(sequences)\n",
    "    blast_results.append(tem)"
   ]
  },
  {
   "cell_type": "markdown",
   "metadata": {},
   "source": [
    "## Pairwise alignment of unique sequence pairs"
   ]
  },
  {
   "cell_type": "code",
   "execution_count": 9,
   "metadata": {},
   "outputs": [
    {
     "name": "stderr",
     "output_type": "stream",
     "text": [
      "⛓️ Aligning sequences:   0%|          | 0/1275 [00:00<?, ?it/s]"
     ]
    },
    {
     "name": "stderr",
     "output_type": "stream",
     "text": [
      "⛓️ Aligning sequences: 100%|██████████| 1275/1275 [00:00<00:00, 5052.69it/s]\n"
     ]
    }
   ],
   "source": [
    "alignments = multi_pairwise_alignment(\n",
    "    blast_results,\n",
    "    mode=\"global\",\n",
    "    match=1,\n",
    "    mismatch=-1,\n",
    "    gap_open=-1,\n",
    "    gap_extend=0,\n",
    "    n_jobs=8,\n",
    ")"
   ]
  },
  {
   "cell_type": "markdown",
   "metadata": {},
   "source": [
    "## Visualize the alignment network"
   ]
  },
  {
   "cell_type": "code",
   "execution_count": 8,
   "metadata": {},
   "outputs": [
    {
     "name": "stdout",
     "output_type": "stream",
     "text": [
      "{'TEM family beta-lactamase': 'blue'}\n"
     ]
    },
    {
     "data": {
      "application/vnd.plotly.v1+json": {
       "config": {
        "plotlyServerURL": "https://plot.ly"
       },
       "data": [
        {
         "hoverinfo": "text",
         "line": {
          "color": "rgba(128, 128, 128, 0.1)",
          "width": 1
         },
         "mode": "lines",
         "text": "0.07692307692307693",
         "type": "scatter",
         "x": [
          -0.28174583003701575,
          -0.23804313032807764
         ],
         "y": [
          -0.7495484709738683,
          -0.9898825043506606
         ]
        },
        {
         "hoverinfo": "text",
         "line": {
          "color": "rgba(128, 128, 128, 0.1)",
          "width": 1
         },
         "mode": "lines",
         "text": "0.0625",
         "type": "scatter",
         "x": [
          -0.28174583003701575,
          -0.7692043206658865
         ],
         "y": [
          -0.7495484709738683,
          -0.510743249469289
         ]
        },
        {
         "hoverinfo": "text",
         "line": {
          "color": "rgba(128, 128, 128, 0.1)",
          "width": 1
         },
         "mode": "lines",
         "text": "0.2",
         "type": "scatter",
         "x": [
          -0.28174583003701575,
          0.7956628930422169
         ],
         "y": [
          -0.7495484709738683,
          0.1122905423981816
         ]
        },
        {
         "hoverinfo": "text",
         "line": {
          "color": "rgba(128, 128, 128, 0.1)",
          "width": 1
         },
         "mode": "lines",
         "text": "0.2",
         "type": "scatter",
         "x": [
          -0.28174583003701575,
          0.1629257116714322
         ],
         "y": [
          -0.7495484709738683,
          0.3577320930627341
         ]
        },
        {
         "hoverinfo": "text",
         "line": {
          "color": "rgba(128, 128, 128, 0.1)",
          "width": 1
         },
         "mode": "lines",
         "text": "0.2",
         "type": "scatter",
         "x": [
          -0.28174583003701575,
          0.4105409797767385
         ],
         "y": [
          -0.7495484709738683,
          0.7266523503950164
         ]
        },
        {
         "hoverinfo": "text",
         "line": {
          "color": "rgba(128, 128, 128, 0.1)",
          "width": 1
         },
         "mode": "lines",
         "text": "0.2",
         "type": "scatter",
         "x": [
          -0.28174583003701575,
          0.5406252526159936
         ],
         "y": [
          -0.7495484709738683,
          0.5854119605306543
         ]
        },
        {
         "hoverinfo": "text",
         "line": {
          "color": "rgba(128, 128, 128, 0.1)",
          "width": 1
         },
         "mode": "lines",
         "text": "0.2",
         "type": "scatter",
         "x": [
          -0.28174583003701575,
          0.4152404281918263
         ],
         "y": [
          -0.7495484709738683,
          0.3261041426820075
         ]
        },
        {
         "hoverinfo": "text",
         "line": {
          "color": "rgba(128, 128, 128, 0.1)",
          "width": 1
         },
         "mode": "lines",
         "text": "0.2",
         "type": "scatter",
         "x": [
          -0.28174583003701575,
          0.5876073942509931
         ],
         "y": [
          -0.7495484709738683,
          -0.5008315944643879
         ]
        },
        {
         "hoverinfo": "text",
         "line": {
          "color": "rgba(128, 128, 128, 0.1)",
          "width": 1
         },
         "mode": "lines",
         "text": "0.2",
         "type": "scatter",
         "x": [
          -0.28174583003701575,
          -0.5559910802111033
         ],
         "y": [
          -0.7495484709738683,
          -0.8220405900208866
         ]
        },
        {
         "hoverinfo": "text",
         "line": {
          "color": "rgba(128, 128, 128, 0.1)",
          "width": 1
         },
         "mode": "lines",
         "text": "0.2",
         "type": "scatter",
         "x": [
          -0.28174583003701575,
          -0.6450334324398341
         ],
         "y": [
          -0.7495484709738683,
          0.27707889223447446
         ]
        },
        {
         "hoverinfo": "text",
         "line": {
          "color": "rgba(128, 128, 128, 0.1)",
          "width": 1
         },
         "mode": "lines",
         "text": "0.2",
         "type": "scatter",
         "x": [
          -0.28174583003701575,
          0.41087781322486794
         ],
         "y": [
          -0.7495484709738683,
          0.0614320803326031
         ]
        },
        {
         "hoverinfo": "text",
         "line": {
          "color": "rgba(128, 128, 128, 0.1)",
          "width": 1
         },
         "mode": "lines",
         "text": "0.2",
         "type": "scatter",
         "x": [
          -0.28174583003701575,
          -0.3660082442049612
         ],
         "y": [
          -0.7495484709738683,
          0.8678869100507792
         ]
        },
        {
         "hoverinfo": "text",
         "line": {
          "color": "rgba(128, 128, 128, 0.1)",
          "width": 1
         },
         "mode": "lines",
         "text": "0.2",
         "type": "scatter",
         "x": [
          -0.28174583003701575,
          0.17192888814352225
         ],
         "y": [
          -0.7495484709738683,
          -0.4447705166163436
         ]
        },
        {
         "hoverinfo": "text",
         "line": {
          "color": "rgba(128, 128, 128, 0.1)",
          "width": 1
         },
         "mode": "lines",
         "text": "0.2",
         "type": "scatter",
         "x": [
          -0.28174583003701575,
          0.9532683662972562
         ],
         "y": [
          -0.7495484709738683,
          0.2902557824658834
         ]
        },
        {
         "hoverinfo": "text",
         "line": {
          "color": "rgba(128, 128, 128, 0.1)",
          "width": 1
         },
         "mode": "lines",
         "text": "0.2",
         "type": "scatter",
         "x": [
          -0.28174583003701575,
          -0.8884686789090365
         ],
         "y": [
          -0.7495484709738683,
          -0.31069767497084494
         ]
        },
        {
         "hoverinfo": "text",
         "line": {
          "color": "rgba(128, 128, 128, 0.1)",
          "width": 1
         },
         "mode": "lines",
         "text": "0.2",
         "type": "scatter",
         "x": [
          -0.28174583003701575,
          -0.33280924839566023
         ],
         "y": [
          -0.7495484709738683,
          -0.5065195179912579
         ]
        },
        {
         "hoverinfo": "text",
         "line": {
          "color": "rgba(128, 128, 128, 0.1)",
          "width": 1
         },
         "mode": "lines",
         "text": "0.2",
         "type": "scatter",
         "x": [
          -0.28174583003701575,
          -0.015856194826003367
         ],
         "y": [
          -0.7495484709738683,
          0.11145031512701231
         ]
        },
        {
         "hoverinfo": "text",
         "line": {
          "color": "rgba(128, 128, 128, 0.1)",
          "width": 1
         },
         "mode": "lines",
         "text": "0.2",
         "type": "scatter",
         "x": [
          -0.28174583003701575,
          -0.1953259850843532
         ],
         "y": [
          -0.7495484709738683,
          0.3518955956777661
         ]
        },
        {
         "hoverinfo": "text",
         "line": {
          "color": "rgba(128, 128, 128, 0.1)",
          "width": 1
         },
         "mode": "lines",
         "text": "0.07692307692307693",
         "type": "scatter",
         "x": [
          -0.28174583003701575,
          0.029357573635267073
         ],
         "y": [
          -0.7495484709738683,
          -0.9111388969932189
         ]
        },
        {
         "hoverinfo": "text",
         "line": {
          "color": "rgba(128, 128, 128, 0.1)",
          "width": 1
         },
         "mode": "lines",
         "text": "0.2",
         "type": "scatter",
         "x": [
          -0.28174583003701575,
          -0.01919280536162062
         ],
         "y": [
          -0.7495484709738683,
          -0.6521212445085668
         ]
        },
        {
         "hoverinfo": "text",
         "line": {
          "color": "rgba(128, 128, 128, 0.1)",
          "width": 1
         },
         "mode": "lines",
         "text": "0.2",
         "type": "scatter",
         "x": [
          -0.28174583003701575,
          -0.10911439248384298
         ],
         "y": [
          -0.7495484709738683,
          0.7578267516911958
         ]
        },
        {
         "hoverinfo": "text",
         "line": {
          "color": "rgba(128, 128, 128, 0.1)",
          "width": 1
         },
         "mode": "lines",
         "text": "0.2",
         "type": "scatter",
         "x": [
          -0.28174583003701575,
          0.6999593653183844
         ],
         "y": [
          -0.7495484709738683,
          0.34086743938130765
         ]
        },
        {
         "hoverinfo": "text",
         "line": {
          "color": "rgba(128, 128, 128, 0.1)",
          "width": 1
         },
         "mode": "lines",
         "text": "0.2",
         "type": "scatter",
         "x": [
          -0.28174583003701575,
          -0.7711438777564555
         ],
         "y": [
          -0.7495484709738683,
          0.5446514515452328
         ]
        },
        {
         "hoverinfo": "text",
         "line": {
          "color": "rgba(128, 128, 128, 0.1)",
          "width": 1
         },
         "mode": "lines",
         "text": "0.2",
         "type": "scatter",
         "x": [
          -0.28174583003701575,
          0.9159172652301071
         ],
         "y": [
          -0.7495484709738683,
          -0.2876278366482088
         ]
        },
        {
         "hoverinfo": "text",
         "line": {
          "color": "rgba(128, 128, 128, 0.1)",
          "width": 1
         },
         "mode": "lines",
         "text": "0.14285714285714285",
         "type": "scatter",
         "x": [
          -0.28174583003701575,
          0.3042346205107624
         ],
         "y": [
          -0.7495484709738683,
          -0.21400329594720793
         ]
        },
        {
         "hoverinfo": "text",
         "line": {
          "color": "rgba(128, 128, 128, 0.1)",
          "width": 1
         },
         "mode": "lines",
         "text": "0.2",
         "type": "scatter",
         "x": [
          -0.28174583003701575,
          0.7925432626107755
         ],
         "y": [
          -0.7495484709738683,
          0.5855468854554127
         ]
        },
        {
         "hoverinfo": "text",
         "line": {
          "color": "rgba(128, 128, 128, 0.1)",
          "width": 1
         },
         "mode": "lines",
         "text": "0.2",
         "type": "scatter",
         "x": [
          -0.28174583003701575,
          -0.52981302729874
         ],
         "y": [
          -0.7495484709738683,
          -0.26861457638885444
         ]
        },
        {
         "hoverinfo": "text",
         "line": {
          "color": "rgba(128, 128, 128, 0.1)",
          "width": 1
         },
         "mode": "lines",
         "text": "0.2",
         "type": "scatter",
         "x": [
          -0.28174583003701575,
          -0.6047526130559822
         ],
         "y": [
          -0.7495484709738683,
          0.7655665975288818
         ]
        },
        {
         "hoverinfo": "text",
         "line": {
          "color": "rgba(128, 128, 128, 0.1)",
          "width": 1
         },
         "mode": "lines",
         "text": "0.2",
         "type": "scatter",
         "x": [
          -0.28174583003701575,
          0.6074389952577244
         ],
         "y": [
          -0.7495484709738683,
          -0.12243029093157637
         ]
        },
        {
         "hoverinfo": "text",
         "line": {
          "color": "rgba(128, 128, 128, 0.1)",
          "width": 1
         },
         "mode": "lines",
         "text": "0.2",
         "type": "scatter",
         "x": [
          -0.28174583003701575,
          -0.918938735340811
         ],
         "y": [
          -0.7495484709738683,
          0.29892269802325433
         ]
        },
        {
         "hoverinfo": "text",
         "line": {
          "color": "rgba(128, 128, 128, 0.1)",
          "width": 1
         },
         "mode": "lines",
         "text": "0.2",
         "type": "scatter",
         "x": [
          -0.28174583003701575,
          -0.39369798424770713
         ],
         "y": [
          -0.7495484709738683,
          0.1564690190913819
         ]
        },
        {
         "hoverinfo": "text",
         "line": {
          "color": "rgba(128, 128, 128, 0.1)",
          "width": 1
         },
         "mode": "lines",
         "text": "0.2",
         "type": "scatter",
         "x": [
          -0.28174583003701575,
          -0.4965138359262507
         ],
         "y": [
          -0.7495484709738683,
          0.5147073335073147
         ]
        },
        {
         "hoverinfo": "text",
         "line": {
          "color": "rgba(128, 128, 128, 0.1)",
          "width": 1
         },
         "mode": "lines",
         "text": "0.2",
         "type": "scatter",
         "x": [
          -0.28174583003701575,
          -0.7047942282637657
         ],
         "y": [
          -0.7495484709738683,
          0.05639581663858665
         ]
        },
        {
         "hoverinfo": "text",
         "line": {
          "color": "rgba(128, 128, 128, 0.1)",
          "width": 1
         },
         "mode": "lines",
         "text": "0.0625",
         "type": "scatter",
         "x": [
          -0.28174583003701575,
          0.22697673177044278
         ],
         "y": [
          -0.7495484709738683,
          -0.8456600770640139
         ]
        },
        {
         "hoverinfo": "text",
         "line": {
          "color": "rgba(128, 128, 128, 0.1)",
          "width": 1
         },
         "mode": "lines",
         "text": "0.16666666666666666",
         "type": "scatter",
         "x": [
          -0.28174583003701575,
          0.17107928195038022
         ],
         "y": [
          -0.7495484709738683,
          0.7959403993931851
         ]
        },
        {
         "hoverinfo": "text",
         "line": {
          "color": "rgba(128, 128, 128, 0.1)",
          "width": 1
         },
         "mode": "lines",
         "text": "0.07142857142857142",
         "type": "scatter",
         "x": [
          -0.28174583003701575,
          0.7198791291336225
         ],
         "y": [
          -0.7495484709738683,
          -0.3555785138076284
         ]
        },
        {
         "hoverinfo": "text",
         "line": {
          "color": "rgba(128, 128, 128, 0.1)",
          "width": 1
         },
         "mode": "lines",
         "text": "0.2",
         "type": "scatter",
         "x": [
          -0.28174583003701575,
          0.07592479646616518
         ],
         "y": [
          -0.7495484709738683,
          0.5489404396993625
         ]
        },
        {
         "hoverinfo": "text",
         "line": {
          "color": "rgba(128, 128, 128, 0.1)",
          "width": 1
         },
         "mode": "lines",
         "text": "0.2",
         "type": "scatter",
         "x": [
          -0.28174583003701575,
          -0.13240271109312432
         ],
         "y": [
          -0.7495484709738683,
          -0.36406482848700933
         ]
        },
        {
         "hoverinfo": "text",
         "line": {
          "color": "rgba(128, 128, 128, 0.1)",
          "width": 1
         },
         "mode": "lines",
         "text": "0.2",
         "type": "scatter",
         "x": [
          -0.28174583003701575,
          -1
         ],
         "y": [
          -0.7495484709738683,
          0.006663047876623049
         ]
        },
        {
         "hoverinfo": "text",
         "line": {
          "color": "rgba(128, 128, 128, 0.1)",
          "width": 1
         },
         "mode": "lines",
         "text": "0.2",
         "type": "scatter",
         "x": [
          -0.28174583003701575,
          0.40794135944224913
         ],
         "y": [
          -0.7495484709738683,
          -0.5939736404506816
         ]
        },
        {
         "hoverinfo": "text",
         "line": {
          "color": "rgba(128, 128, 128, 0.1)",
          "width": 1
         },
         "mode": "lines",
         "text": "0.16666666666666666",
         "type": "scatter",
         "x": [
          -0.28174583003701575,
          0.42727580252097486
         ],
         "y": [
          -0.7495484709738683,
          -0.8147374733359818
         ]
        },
        {
         "hoverinfo": "text",
         "line": {
          "color": "rgba(128, 128, 128, 0.1)",
          "width": 1
         },
         "mode": "lines",
         "text": "0.08333333333333333",
         "type": "scatter",
         "x": [
          -0.28174583003701575,
          -0.7464498563171527
         ],
         "y": [
          -0.7495484709738683,
          -0.15240867563536542
         ]
        },
        {
         "hoverinfo": "text",
         "line": {
          "color": "rgba(128, 128, 128, 0.1)",
          "width": 1
         },
         "mode": "lines",
         "text": "0.2",
         "type": "scatter",
         "x": [
          -0.28174583003701575,
          0.42220986898347856
         ],
         "y": [
          -0.7495484709738683,
          0.9443298132713931
         ]
        },
        {
         "hoverinfo": "text",
         "line": {
          "color": "rgba(128, 128, 128, 0.1)",
          "width": 1
         },
         "mode": "lines",
         "text": "0.2",
         "type": "scatter",
         "x": [
          -0.28174583003701575,
          0.7213026942444919
         ],
         "y": [
          -0.7495484709738683,
          -0.7028614856381851
         ]
        },
        {
         "hoverinfo": "text",
         "line": {
          "color": "rgba(128, 128, 128, 0.1)",
          "width": 1
         },
         "mode": "lines",
         "text": "0.2",
         "type": "scatter",
         "x": [
          -0.28174583003701575,
          0.9131728451074601
         ],
         "y": [
          -0.7495484709738683,
          -0.0786216846079524
         ]
        },
        {
         "hoverinfo": "text",
         "line": {
          "color": "rgba(128, 128, 128, 0.1)",
          "width": 1
         },
         "mode": "lines",
         "text": "0.2",
         "type": "scatter",
         "x": [
          -0.28174583003701575,
          -0.02029748952421764
         ],
         "y": [
          -0.7495484709738683,
          0.966511761384103
         ]
        },
        {
         "hoverinfo": "text",
         "line": {
          "color": "rgba(128, 128, 128, 0.1)",
          "width": 1
         },
         "mode": "lines",
         "text": "0.07692307692307693",
         "type": "scatter",
         "x": [
          -0.28174583003701575,
          -0.3235081883111062
         ],
         "y": [
          -0.7495484709738683,
          -0.08513015582825498
         ]
        },
        {
         "hoverinfo": "text",
         "line": {
          "color": "rgba(128, 128, 128, 0.1)",
          "width": 1
         },
         "mode": "lines",
         "text": "0.2",
         "type": "scatter",
         "x": [
          -0.28174583003701575,
          0.05287296895782892
         ],
         "y": [
          -0.7495484709738683,
          -0.09353267533807239
         ]
        },
        {
         "hoverinfo": "text",
         "line": {
          "color": "rgba(128, 128, 128, 0.1)",
          "width": 1
         },
         "mode": "lines",
         "text": "0.2",
         "type": "scatter",
         "x": [
          -0.28174583003701575,
          -0.5645297566213534
         ],
         "y": [
          -0.7495484709738683,
          -0.5714605612882918
         ]
        },
        {
         "hoverinfo": "text",
         "line": {
          "color": "rgba(128, 128, 128, 0.1)",
          "width": 1
         },
         "mode": "lines",
         "text": "0.07692307692307693",
         "type": "scatter",
         "x": [
          -0.28174583003701575,
          -0.3131286416509119
         ],
         "y": [
          -0.7495484709738683,
          0.597469912312249
         ]
        },
        {
         "hoverinfo": "text",
         "line": {
          "color": "rgba(128, 128, 128, 0.1)",
          "width": 1
         },
         "mode": "lines",
         "text": "0.05555555555555555",
         "type": "scatter",
         "x": [
          -0.23804313032807764,
          -0.7692043206658865
         ],
         "y": [
          -0.9898825043506606,
          -0.510743249469289
         ]
        },
        {
         "hoverinfo": "text",
         "line": {
          "color": "rgba(128, 128, 128, 0.1)",
          "width": 1
         },
         "mode": "lines",
         "text": "0.1111111111111111",
         "type": "scatter",
         "x": [
          -0.23804313032807764,
          0.7956628930422169
         ],
         "y": [
          -0.9898825043506606,
          0.1122905423981816
         ]
        },
        {
         "hoverinfo": "text",
         "line": {
          "color": "rgba(128, 128, 128, 0.1)",
          "width": 1
         },
         "mode": "lines",
         "text": "0.1111111111111111",
         "type": "scatter",
         "x": [
          -0.23804313032807764,
          0.1629257116714322
         ],
         "y": [
          -0.9898825043506606,
          0.3577320930627341
         ]
        },
        {
         "hoverinfo": "text",
         "line": {
          "color": "rgba(128, 128, 128, 0.1)",
          "width": 1
         },
         "mode": "lines",
         "text": "0.1111111111111111",
         "type": "scatter",
         "x": [
          -0.23804313032807764,
          0.4105409797767385
         ],
         "y": [
          -0.9898825043506606,
          0.7266523503950164
         ]
        },
        {
         "hoverinfo": "text",
         "line": {
          "color": "rgba(128, 128, 128, 0.1)",
          "width": 1
         },
         "mode": "lines",
         "text": "0.1111111111111111",
         "type": "scatter",
         "x": [
          -0.23804313032807764,
          0.5406252526159936
         ],
         "y": [
          -0.9898825043506606,
          0.5854119605306543
         ]
        },
        {
         "hoverinfo": "text",
         "line": {
          "color": "rgba(128, 128, 128, 0.1)",
          "width": 1
         },
         "mode": "lines",
         "text": "0.1111111111111111",
         "type": "scatter",
         "x": [
          -0.23804313032807764,
          0.4152404281918263
         ],
         "y": [
          -0.9898825043506606,
          0.3261041426820075
         ]
        },
        {
         "hoverinfo": "text",
         "line": {
          "color": "rgba(128, 128, 128, 0.1)",
          "width": 1
         },
         "mode": "lines",
         "text": "0.1111111111111111",
         "type": "scatter",
         "x": [
          -0.23804313032807764,
          0.5876073942509931
         ],
         "y": [
          -0.9898825043506606,
          -0.5008315944643879
         ]
        },
        {
         "hoverinfo": "text",
         "line": {
          "color": "rgba(128, 128, 128, 0.1)",
          "width": 1
         },
         "mode": "lines",
         "text": "0.1111111111111111",
         "type": "scatter",
         "x": [
          -0.23804313032807764,
          -0.5559910802111033
         ],
         "y": [
          -0.9898825043506606,
          -0.8220405900208866
         ]
        },
        {
         "hoverinfo": "text",
         "line": {
          "color": "rgba(128, 128, 128, 0.1)",
          "width": 1
         },
         "mode": "lines",
         "text": "0.1111111111111111",
         "type": "scatter",
         "x": [
          -0.23804313032807764,
          -0.6450334324398341
         ],
         "y": [
          -0.9898825043506606,
          0.27707889223447446
         ]
        },
        {
         "hoverinfo": "text",
         "line": {
          "color": "rgba(128, 128, 128, 0.1)",
          "width": 1
         },
         "mode": "lines",
         "text": "0.1111111111111111",
         "type": "scatter",
         "x": [
          -0.23804313032807764,
          0.41087781322486794
         ],
         "y": [
          -0.9898825043506606,
          0.0614320803326031
         ]
        },
        {
         "hoverinfo": "text",
         "line": {
          "color": "rgba(128, 128, 128, 0.1)",
          "width": 1
         },
         "mode": "lines",
         "text": "0.1111111111111111",
         "type": "scatter",
         "x": [
          -0.23804313032807764,
          -0.3660082442049612
         ],
         "y": [
          -0.9898825043506606,
          0.8678869100507792
         ]
        },
        {
         "hoverinfo": "text",
         "line": {
          "color": "rgba(128, 128, 128, 0.1)",
          "width": 1
         },
         "mode": "lines",
         "text": "0.1111111111111111",
         "type": "scatter",
         "x": [
          -0.23804313032807764,
          0.17192888814352225
         ],
         "y": [
          -0.9898825043506606,
          -0.4447705166163436
         ]
        },
        {
         "hoverinfo": "text",
         "line": {
          "color": "rgba(128, 128, 128, 0.1)",
          "width": 1
         },
         "mode": "lines",
         "text": "0.1111111111111111",
         "type": "scatter",
         "x": [
          -0.23804313032807764,
          0.9532683662972562
         ],
         "y": [
          -0.9898825043506606,
          0.2902557824658834
         ]
        },
        {
         "hoverinfo": "text",
         "line": {
          "color": "rgba(128, 128, 128, 0.1)",
          "width": 1
         },
         "mode": "lines",
         "text": "0.1111111111111111",
         "type": "scatter",
         "x": [
          -0.23804313032807764,
          -0.8884686789090365
         ],
         "y": [
          -0.9898825043506606,
          -0.31069767497084494
         ]
        },
        {
         "hoverinfo": "text",
         "line": {
          "color": "rgba(128, 128, 128, 0.1)",
          "width": 1
         },
         "mode": "lines",
         "text": "0.1111111111111111",
         "type": "scatter",
         "x": [
          -0.23804313032807764,
          -0.33280924839566023
         ],
         "y": [
          -0.9898825043506606,
          -0.5065195179912579
         ]
        },
        {
         "hoverinfo": "text",
         "line": {
          "color": "rgba(128, 128, 128, 0.1)",
          "width": 1
         },
         "mode": "lines",
         "text": "0.1111111111111111",
         "type": "scatter",
         "x": [
          -0.23804313032807764,
          -0.015856194826003367
         ],
         "y": [
          -0.9898825043506606,
          0.11145031512701231
         ]
        },
        {
         "hoverinfo": "text",
         "line": {
          "color": "rgba(128, 128, 128, 0.1)",
          "width": 1
         },
         "mode": "lines",
         "text": "0.1111111111111111",
         "type": "scatter",
         "x": [
          -0.23804313032807764,
          -0.1953259850843532
         ],
         "y": [
          -0.9898825043506606,
          0.3518955956777661
         ]
        },
        {
         "hoverinfo": "text",
         "line": {
          "color": "rgba(128, 128, 128, 0.1)",
          "width": 1
         },
         "mode": "lines",
         "text": "0.058823529411764705",
         "type": "scatter",
         "x": [
          -0.23804313032807764,
          0.029357573635267073
         ],
         "y": [
          -0.9898825043506606,
          -0.9111388969932189
         ]
        },
        {
         "hoverinfo": "text",
         "line": {
          "color": "rgba(128, 128, 128, 0.1)",
          "width": 1
         },
         "mode": "lines",
         "text": "0.1111111111111111",
         "type": "scatter",
         "x": [
          -0.23804313032807764,
          -0.01919280536162062
         ],
         "y": [
          -0.9898825043506606,
          -0.6521212445085668
         ]
        },
        {
         "hoverinfo": "text",
         "line": {
          "color": "rgba(128, 128, 128, 0.1)",
          "width": 1
         },
         "mode": "lines",
         "text": "0.1111111111111111",
         "type": "scatter",
         "x": [
          -0.23804313032807764,
          -0.10911439248384298
         ],
         "y": [
          -0.9898825043506606,
          0.7578267516911958
         ]
        },
        {
         "hoverinfo": "text",
         "line": {
          "color": "rgba(128, 128, 128, 0.1)",
          "width": 1
         },
         "mode": "lines",
         "text": "0.1111111111111111",
         "type": "scatter",
         "x": [
          -0.23804313032807764,
          0.6999593653183844
         ],
         "y": [
          -0.9898825043506606,
          0.34086743938130765
         ]
        },
        {
         "hoverinfo": "text",
         "line": {
          "color": "rgba(128, 128, 128, 0.1)",
          "width": 1
         },
         "mode": "lines",
         "text": "0.1111111111111111",
         "type": "scatter",
         "x": [
          -0.23804313032807764,
          -0.7711438777564555
         ],
         "y": [
          -0.9898825043506606,
          0.5446514515452328
         ]
        },
        {
         "hoverinfo": "text",
         "line": {
          "color": "rgba(128, 128, 128, 0.1)",
          "width": 1
         },
         "mode": "lines",
         "text": "0.1111111111111111",
         "type": "scatter",
         "x": [
          -0.23804313032807764,
          0.9159172652301071
         ],
         "y": [
          -0.9898825043506606,
          -0.2876278366482088
         ]
        },
        {
         "hoverinfo": "text",
         "line": {
          "color": "rgba(128, 128, 128, 0.1)",
          "width": 1
         },
         "mode": "lines",
         "text": "0.09090909090909091",
         "type": "scatter",
         "x": [
          -0.23804313032807764,
          0.3042346205107624
         ],
         "y": [
          -0.9898825043506606,
          -0.21400329594720793
         ]
        },
        {
         "hoverinfo": "text",
         "line": {
          "color": "rgba(128, 128, 128, 0.1)",
          "width": 1
         },
         "mode": "lines",
         "text": "0.1111111111111111",
         "type": "scatter",
         "x": [
          -0.23804313032807764,
          0.7925432626107755
         ],
         "y": [
          -0.9898825043506606,
          0.5855468854554127
         ]
        },
        {
         "hoverinfo": "text",
         "line": {
          "color": "rgba(128, 128, 128, 0.1)",
          "width": 1
         },
         "mode": "lines",
         "text": "0.1111111111111111",
         "type": "scatter",
         "x": [
          -0.23804313032807764,
          -0.52981302729874
         ],
         "y": [
          -0.9898825043506606,
          -0.26861457638885444
         ]
        },
        {
         "hoverinfo": "text",
         "line": {
          "color": "rgba(128, 128, 128, 0.1)",
          "width": 1
         },
         "mode": "lines",
         "text": "0.1111111111111111",
         "type": "scatter",
         "x": [
          -0.23804313032807764,
          -0.6047526130559822
         ],
         "y": [
          -0.9898825043506606,
          0.7655665975288818
         ]
        },
        {
         "hoverinfo": "text",
         "line": {
          "color": "rgba(128, 128, 128, 0.1)",
          "width": 1
         },
         "mode": "lines",
         "text": "0.1111111111111111",
         "type": "scatter",
         "x": [
          -0.23804313032807764,
          0.6074389952577244
         ],
         "y": [
          -0.9898825043506606,
          -0.12243029093157637
         ]
        },
        {
         "hoverinfo": "text",
         "line": {
          "color": "rgba(128, 128, 128, 0.1)",
          "width": 1
         },
         "mode": "lines",
         "text": "0.1111111111111111",
         "type": "scatter",
         "x": [
          -0.23804313032807764,
          -0.918938735340811
         ],
         "y": [
          -0.9898825043506606,
          0.29892269802325433
         ]
        },
        {
         "hoverinfo": "text",
         "line": {
          "color": "rgba(128, 128, 128, 0.1)",
          "width": 1
         },
         "mode": "lines",
         "text": "0.1111111111111111",
         "type": "scatter",
         "x": [
          -0.23804313032807764,
          -0.39369798424770713
         ],
         "y": [
          -0.9898825043506606,
          0.1564690190913819
         ]
        },
        {
         "hoverinfo": "text",
         "line": {
          "color": "rgba(128, 128, 128, 0.1)",
          "width": 1
         },
         "mode": "lines",
         "text": "0.1111111111111111",
         "type": "scatter",
         "x": [
          -0.23804313032807764,
          -0.4965138359262507
         ],
         "y": [
          -0.9898825043506606,
          0.5147073335073147
         ]
        },
        {
         "hoverinfo": "text",
         "line": {
          "color": "rgba(128, 128, 128, 0.1)",
          "width": 1
         },
         "mode": "lines",
         "text": "0.1111111111111111",
         "type": "scatter",
         "x": [
          -0.23804313032807764,
          -0.7047942282637657
         ],
         "y": [
          -0.9898825043506606,
          0.05639581663858665
         ]
        },
        {
         "hoverinfo": "text",
         "line": {
          "color": "rgba(128, 128, 128, 0.1)",
          "width": 1
         },
         "mode": "lines",
         "text": "0.05",
         "type": "scatter",
         "x": [
          -0.23804313032807764,
          0.22697673177044278
         ],
         "y": [
          -0.9898825043506606,
          -0.8456600770640139
         ]
        },
        {
         "hoverinfo": "text",
         "line": {
          "color": "rgba(128, 128, 128, 0.1)",
          "width": 1
         },
         "mode": "lines",
         "text": "0.1",
         "type": "scatter",
         "x": [
          -0.23804313032807764,
          0.17107928195038022
         ],
         "y": [
          -0.9898825043506606,
          0.7959403993931851
         ]
        },
        {
         "hoverinfo": "text",
         "line": {
          "color": "rgba(128, 128, 128, 0.1)",
          "width": 1
         },
         "mode": "lines",
         "text": "0.0625",
         "type": "scatter",
         "x": [
          -0.23804313032807764,
          0.7198791291336225
         ],
         "y": [
          -0.9898825043506606,
          -0.3555785138076284
         ]
        },
        {
         "hoverinfo": "text",
         "line": {
          "color": "rgba(128, 128, 128, 0.1)",
          "width": 1
         },
         "mode": "lines",
         "text": "0.1111111111111111",
         "type": "scatter",
         "x": [
          -0.23804313032807764,
          0.07592479646616518
         ],
         "y": [
          -0.9898825043506606,
          0.5489404396993625
         ]
        },
        {
         "hoverinfo": "text",
         "line": {
          "color": "rgba(128, 128, 128, 0.1)",
          "width": 1
         },
         "mode": "lines",
         "text": "0.1111111111111111",
         "type": "scatter",
         "x": [
          -0.23804313032807764,
          -0.13240271109312432
         ],
         "y": [
          -0.9898825043506606,
          -0.36406482848700933
         ]
        },
        {
         "hoverinfo": "text",
         "line": {
          "color": "rgba(128, 128, 128, 0.1)",
          "width": 1
         },
         "mode": "lines",
         "text": "0.1111111111111111",
         "type": "scatter",
         "x": [
          -0.23804313032807764,
          -1
         ],
         "y": [
          -0.9898825043506606,
          0.006663047876623049
         ]
        },
        {
         "hoverinfo": "text",
         "line": {
          "color": "rgba(128, 128, 128, 0.1)",
          "width": 1
         },
         "mode": "lines",
         "text": "0.1111111111111111",
         "type": "scatter",
         "x": [
          -0.23804313032807764,
          0.40794135944224913
         ],
         "y": [
          -0.9898825043506606,
          -0.5939736404506816
         ]
        },
        {
         "hoverinfo": "text",
         "line": {
          "color": "rgba(128, 128, 128, 0.1)",
          "width": 1
         },
         "mode": "lines",
         "text": "0.1",
         "type": "scatter",
         "x": [
          -0.23804313032807764,
          0.42727580252097486
         ],
         "y": [
          -0.9898825043506606,
          -0.8147374733359818
         ]
        },
        {
         "hoverinfo": "text",
         "line": {
          "color": "rgba(128, 128, 128, 0.1)",
          "width": 1
         },
         "mode": "lines",
         "text": "0.0625",
         "type": "scatter",
         "x": [
          -0.23804313032807764,
          -0.7464498563171527
         ],
         "y": [
          -0.9898825043506606,
          -0.15240867563536542
         ]
        },
        {
         "hoverinfo": "text",
         "line": {
          "color": "rgba(128, 128, 128, 0.1)",
          "width": 1
         },
         "mode": "lines",
         "text": "0.1111111111111111",
         "type": "scatter",
         "x": [
          -0.23804313032807764,
          0.42220986898347856
         ],
         "y": [
          -0.9898825043506606,
          0.9443298132713931
         ]
        },
        {
         "hoverinfo": "text",
         "line": {
          "color": "rgba(128, 128, 128, 0.1)",
          "width": 1
         },
         "mode": "lines",
         "text": "0.1111111111111111",
         "type": "scatter",
         "x": [
          -0.23804313032807764,
          0.7213026942444919
         ],
         "y": [
          -0.9898825043506606,
          -0.7028614856381851
         ]
        },
        {
         "hoverinfo": "text",
         "line": {
          "color": "rgba(128, 128, 128, 0.1)",
          "width": 1
         },
         "mode": "lines",
         "text": "0.1111111111111111",
         "type": "scatter",
         "x": [
          -0.23804313032807764,
          0.9131728451074601
         ],
         "y": [
          -0.9898825043506606,
          -0.0786216846079524
         ]
        },
        {
         "hoverinfo": "text",
         "line": {
          "color": "rgba(128, 128, 128, 0.1)",
          "width": 1
         },
         "mode": "lines",
         "text": "0.1111111111111111",
         "type": "scatter",
         "x": [
          -0.23804313032807764,
          -0.02029748952421764
         ],
         "y": [
          -0.9898825043506606,
          0.966511761384103
         ]
        },
        {
         "hoverinfo": "text",
         "line": {
          "color": "rgba(128, 128, 128, 0.1)",
          "width": 1
         },
         "mode": "lines",
         "text": "0.058823529411764705",
         "type": "scatter",
         "x": [
          -0.23804313032807764,
          -0.3235081883111062
         ],
         "y": [
          -0.9898825043506606,
          -0.08513015582825498
         ]
        },
        {
         "hoverinfo": "text",
         "line": {
          "color": "rgba(128, 128, 128, 0.1)",
          "width": 1
         },
         "mode": "lines",
         "text": "0.1111111111111111",
         "type": "scatter",
         "x": [
          -0.23804313032807764,
          0.05287296895782892
         ],
         "y": [
          -0.9898825043506606,
          -0.09353267533807239
         ]
        },
        {
         "hoverinfo": "text",
         "line": {
          "color": "rgba(128, 128, 128, 0.1)",
          "width": 1
         },
         "mode": "lines",
         "text": "0.1111111111111111",
         "type": "scatter",
         "x": [
          -0.23804313032807764,
          -0.5645297566213534
         ],
         "y": [
          -0.9898825043506606,
          -0.5714605612882918
         ]
        },
        {
         "hoverinfo": "text",
         "line": {
          "color": "rgba(128, 128, 128, 0.1)",
          "width": 1
         },
         "mode": "lines",
         "text": "0.058823529411764705",
         "type": "scatter",
         "x": [
          -0.23804313032807764,
          -0.3131286416509119
         ],
         "y": [
          -0.9898825043506606,
          0.597469912312249
         ]
        },
        {
         "hoverinfo": "text",
         "line": {
          "color": "rgba(128, 128, 128, 0.1)",
          "width": 1
         },
         "mode": "lines",
         "text": "0.08333333333333333",
         "type": "scatter",
         "x": [
          -0.7692043206658865,
          0.7956628930422169
         ],
         "y": [
          -0.510743249469289,
          0.1122905423981816
         ]
        },
        {
         "hoverinfo": "text",
         "line": {
          "color": "rgba(128, 128, 128, 0.1)",
          "width": 1
         },
         "mode": "lines",
         "text": "0.08333333333333333",
         "type": "scatter",
         "x": [
          -0.7692043206658865,
          0.1629257116714322
         ],
         "y": [
          -0.510743249469289,
          0.3577320930627341
         ]
        },
        {
         "hoverinfo": "text",
         "line": {
          "color": "rgba(128, 128, 128, 0.1)",
          "width": 1
         },
         "mode": "lines",
         "text": "0.1",
         "type": "scatter",
         "x": [
          -0.7692043206658865,
          0.4105409797767385
         ],
         "y": [
          -0.510743249469289,
          0.7266523503950164
         ]
        },
        {
         "hoverinfo": "text",
         "line": {
          "color": "rgba(128, 128, 128, 0.1)",
          "width": 1
         },
         "mode": "lines",
         "text": "0.1",
         "type": "scatter",
         "x": [
          -0.7692043206658865,
          0.5406252526159936
         ],
         "y": [
          -0.510743249469289,
          0.5854119605306543
         ]
        },
        {
         "hoverinfo": "text",
         "line": {
          "color": "rgba(128, 128, 128, 0.1)",
          "width": 1
         },
         "mode": "lines",
         "text": "0.1",
         "type": "scatter",
         "x": [
          -0.7692043206658865,
          0.4152404281918263
         ],
         "y": [
          -0.510743249469289,
          0.3261041426820075
         ]
        },
        {
         "hoverinfo": "text",
         "line": {
          "color": "rgba(128, 128, 128, 0.1)",
          "width": 1
         },
         "mode": "lines",
         "text": "0.1",
         "type": "scatter",
         "x": [
          -0.7692043206658865,
          0.5876073942509931
         ],
         "y": [
          -0.510743249469289,
          -0.5008315944643879
         ]
        },
        {
         "hoverinfo": "text",
         "line": {
          "color": "rgba(128, 128, 128, 0.1)",
          "width": 1
         },
         "mode": "lines",
         "text": "0.1",
         "type": "scatter",
         "x": [
          -0.7692043206658865,
          -0.5559910802111033
         ],
         "y": [
          -0.510743249469289,
          -0.8220405900208866
         ]
        },
        {
         "hoverinfo": "text",
         "line": {
          "color": "rgba(128, 128, 128, 0.1)",
          "width": 1
         },
         "mode": "lines",
         "text": "0.1",
         "type": "scatter",
         "x": [
          -0.7692043206658865,
          -0.6450334324398341
         ],
         "y": [
          -0.510743249469289,
          0.27707889223447446
         ]
        },
        {
         "hoverinfo": "text",
         "line": {
          "color": "rgba(128, 128, 128, 0.1)",
          "width": 1
         },
         "mode": "lines",
         "text": "0.1",
         "type": "scatter",
         "x": [
          -0.7692043206658865,
          0.41087781322486794
         ],
         "y": [
          -0.510743249469289,
          0.0614320803326031
         ]
        },
        {
         "hoverinfo": "text",
         "line": {
          "color": "rgba(128, 128, 128, 0.1)",
          "width": 1
         },
         "mode": "lines",
         "text": "0.08333333333333333",
         "type": "scatter",
         "x": [
          -0.7692043206658865,
          -0.3660082442049612
         ],
         "y": [
          -0.510743249469289,
          0.8678869100507792
         ]
        },
        {
         "hoverinfo": "text",
         "line": {
          "color": "rgba(128, 128, 128, 0.1)",
          "width": 1
         },
         "mode": "lines",
         "text": "0.1",
         "type": "scatter",
         "x": [
          -0.7692043206658865,
          0.17192888814352225
         ],
         "y": [
          -0.510743249469289,
          -0.4447705166163436
         ]
        },
        {
         "hoverinfo": "text",
         "line": {
          "color": "rgba(128, 128, 128, 0.1)",
          "width": 1
         },
         "mode": "lines",
         "text": "0.1",
         "type": "scatter",
         "x": [
          -0.7692043206658865,
          0.9532683662972562
         ],
         "y": [
          -0.510743249469289,
          0.2902557824658834
         ]
        },
        {
         "hoverinfo": "text",
         "line": {
          "color": "rgba(128, 128, 128, 0.1)",
          "width": 1
         },
         "mode": "lines",
         "text": "0.1",
         "type": "scatter",
         "x": [
          -0.7692043206658865,
          -0.8884686789090365
         ],
         "y": [
          -0.510743249469289,
          -0.31069767497084494
         ]
        },
        {
         "hoverinfo": "text",
         "line": {
          "color": "rgba(128, 128, 128, 0.1)",
          "width": 1
         },
         "mode": "lines",
         "text": "0.1",
         "type": "scatter",
         "x": [
          -0.7692043206658865,
          -0.33280924839566023
         ],
         "y": [
          -0.510743249469289,
          -0.5065195179912579
         ]
        },
        {
         "hoverinfo": "text",
         "line": {
          "color": "rgba(128, 128, 128, 0.1)",
          "width": 1
         },
         "mode": "lines",
         "text": "0.1",
         "type": "scatter",
         "x": [
          -0.7692043206658865,
          -0.015856194826003367
         ],
         "y": [
          -0.510743249469289,
          0.11145031512701231
         ]
        },
        {
         "hoverinfo": "text",
         "line": {
          "color": "rgba(128, 128, 128, 0.1)",
          "width": 1
         },
         "mode": "lines",
         "text": "0.08333333333333333",
         "type": "scatter",
         "x": [
          -0.7692043206658865,
          -0.1953259850843532
         ],
         "y": [
          -0.510743249469289,
          0.3518955956777661
         ]
        },
        {
         "hoverinfo": "text",
         "line": {
          "color": "rgba(128, 128, 128, 0.1)",
          "width": 1
         },
         "mode": "lines",
         "text": "0.1",
         "type": "scatter",
         "x": [
          -0.7692043206658865,
          0.029357573635267073
         ],
         "y": [
          -0.510743249469289,
          -0.9111388969932189
         ]
        },
        {
         "hoverinfo": "text",
         "line": {
          "color": "rgba(128, 128, 128, 0.1)",
          "width": 1
         },
         "mode": "lines",
         "text": "0.1",
         "type": "scatter",
         "x": [
          -0.7692043206658865,
          -0.01919280536162062
         ],
         "y": [
          -0.510743249469289,
          -0.6521212445085668
         ]
        },
        {
         "hoverinfo": "text",
         "line": {
          "color": "rgba(128, 128, 128, 0.1)",
          "width": 1
         },
         "mode": "lines",
         "text": "0.1",
         "type": "scatter",
         "x": [
          -0.7692043206658865,
          -0.10911439248384298
         ],
         "y": [
          -0.510743249469289,
          0.7578267516911958
         ]
        },
        {
         "hoverinfo": "text",
         "line": {
          "color": "rgba(128, 128, 128, 0.1)",
          "width": 1
         },
         "mode": "lines",
         "text": "0.1",
         "type": "scatter",
         "x": [
          -0.7692043206658865,
          0.6999593653183844
         ],
         "y": [
          -0.510743249469289,
          0.34086743938130765
         ]
        },
        {
         "hoverinfo": "text",
         "line": {
          "color": "rgba(128, 128, 128, 0.1)",
          "width": 1
         },
         "mode": "lines",
         "text": "0.08333333333333333",
         "type": "scatter",
         "x": [
          -0.7692043206658865,
          -0.7711438777564555
         ],
         "y": [
          -0.510743249469289,
          0.5446514515452328
         ]
        },
        {
         "hoverinfo": "text",
         "line": {
          "color": "rgba(128, 128, 128, 0.1)",
          "width": 1
         },
         "mode": "lines",
         "text": "0.1",
         "type": "scatter",
         "x": [
          -0.7692043206658865,
          0.9159172652301071
         ],
         "y": [
          -0.510743249469289,
          -0.2876278366482088
         ]
        },
        {
         "hoverinfo": "text",
         "line": {
          "color": "rgba(128, 128, 128, 0.1)",
          "width": 1
         },
         "mode": "lines",
         "text": "0.1",
         "type": "scatter",
         "x": [
          -0.7692043206658865,
          0.3042346205107624
         ],
         "y": [
          -0.510743249469289,
          -0.21400329594720793
         ]
        },
        {
         "hoverinfo": "text",
         "line": {
          "color": "rgba(128, 128, 128, 0.1)",
          "width": 1
         },
         "mode": "lines",
         "text": "0.1",
         "type": "scatter",
         "x": [
          -0.7692043206658865,
          0.7925432626107755
         ],
         "y": [
          -0.510743249469289,
          0.5855468854554127
         ]
        },
        {
         "hoverinfo": "text",
         "line": {
          "color": "rgba(128, 128, 128, 0.1)",
          "width": 1
         },
         "mode": "lines",
         "text": "0.1",
         "type": "scatter",
         "x": [
          -0.7692043206658865,
          -0.52981302729874
         ],
         "y": [
          -0.510743249469289,
          -0.26861457638885444
         ]
        },
        {
         "hoverinfo": "text",
         "line": {
          "color": "rgba(128, 128, 128, 0.1)",
          "width": 1
         },
         "mode": "lines",
         "text": "0.08333333333333333",
         "type": "scatter",
         "x": [
          -0.7692043206658865,
          -0.6047526130559822
         ],
         "y": [
          -0.510743249469289,
          0.7655665975288818
         ]
        },
        {
         "hoverinfo": "text",
         "line": {
          "color": "rgba(128, 128, 128, 0.1)",
          "width": 1
         },
         "mode": "lines",
         "text": "0.1",
         "type": "scatter",
         "x": [
          -0.7692043206658865,
          0.6074389952577244
         ],
         "y": [
          -0.510743249469289,
          -0.12243029093157637
         ]
        },
        {
         "hoverinfo": "text",
         "line": {
          "color": "rgba(128, 128, 128, 0.1)",
          "width": 1
         },
         "mode": "lines",
         "text": "0.1",
         "type": "scatter",
         "x": [
          -0.7692043206658865,
          -0.918938735340811
         ],
         "y": [
          -0.510743249469289,
          0.29892269802325433
         ]
        },
        {
         "hoverinfo": "text",
         "line": {
          "color": "rgba(128, 128, 128, 0.1)",
          "width": 1
         },
         "mode": "lines",
         "text": "0.1",
         "type": "scatter",
         "x": [
          -0.7692043206658865,
          -0.39369798424770713
         ],
         "y": [
          -0.510743249469289,
          0.1564690190913819
         ]
        },
        {
         "hoverinfo": "text",
         "line": {
          "color": "rgba(128, 128, 128, 0.1)",
          "width": 1
         },
         "mode": "lines",
         "text": "0.1",
         "type": "scatter",
         "x": [
          -0.7692043206658865,
          -0.4965138359262507
         ],
         "y": [
          -0.510743249469289,
          0.5147073335073147
         ]
        },
        {
         "hoverinfo": "text",
         "line": {
          "color": "rgba(128, 128, 128, 0.1)",
          "width": 1
         },
         "mode": "lines",
         "text": "0.1",
         "type": "scatter",
         "x": [
          -0.7692043206658865,
          -0.7047942282637657
         ],
         "y": [
          -0.510743249469289,
          0.05639581663858665
         ]
        },
        {
         "hoverinfo": "text",
         "line": {
          "color": "rgba(128, 128, 128, 0.1)",
          "width": 1
         },
         "mode": "lines",
         "text": "0.05263157894736842",
         "type": "scatter",
         "x": [
          -0.7692043206658865,
          0.22697673177044278
         ],
         "y": [
          -0.510743249469289,
          -0.8456600770640139
         ]
        },
        {
         "hoverinfo": "text",
         "line": {
          "color": "rgba(128, 128, 128, 0.1)",
          "width": 1
         },
         "mode": "lines",
         "text": "0.09090909090909091",
         "type": "scatter",
         "x": [
          -0.7692043206658865,
          0.17107928195038022
         ],
         "y": [
          -0.510743249469289,
          0.7959403993931851
         ]
        },
        {
         "hoverinfo": "text",
         "line": {
          "color": "rgba(128, 128, 128, 0.1)",
          "width": 1
         },
         "mode": "lines",
         "text": "1.0",
         "type": "scatter",
         "x": [
          -0.7692043206658865,
          0.7198791291336225
         ],
         "y": [
          -0.510743249469289,
          -0.3555785138076284
         ]
        },
        {
         "hoverinfo": "text",
         "line": {
          "color": "rgba(128, 128, 128, 0.1)",
          "width": 1
         },
         "mode": "lines",
         "text": "0.1",
         "type": "scatter",
         "x": [
          -0.7692043206658865,
          0.07592479646616518
         ],
         "y": [
          -0.510743249469289,
          0.5489404396993625
         ]
        },
        {
         "hoverinfo": "text",
         "line": {
          "color": "rgba(128, 128, 128, 0.1)",
          "width": 1
         },
         "mode": "lines",
         "text": "0.25",
         "type": "scatter",
         "x": [
          -0.7692043206658865,
          -0.13240271109312432
         ],
         "y": [
          -0.510743249469289,
          -0.36406482848700933
         ]
        },
        {
         "hoverinfo": "text",
         "line": {
          "color": "rgba(128, 128, 128, 0.1)",
          "width": 1
         },
         "mode": "lines",
         "text": "0.1",
         "type": "scatter",
         "x": [
          -0.7692043206658865,
          -1
         ],
         "y": [
          -0.510743249469289,
          0.006663047876623049
         ]
        },
        {
         "hoverinfo": "text",
         "line": {
          "color": "rgba(128, 128, 128, 0.1)",
          "width": 1
         },
         "mode": "lines",
         "text": "0.1",
         "type": "scatter",
         "x": [
          -0.7692043206658865,
          0.40794135944224913
         ],
         "y": [
          -0.510743249469289,
          -0.5939736404506816
         ]
        },
        {
         "hoverinfo": "text",
         "line": {
          "color": "rgba(128, 128, 128, 0.1)",
          "width": 1
         },
         "mode": "lines",
         "text": "0.09090909090909091",
         "type": "scatter",
         "x": [
          -0.7692043206658865,
          0.42727580252097486
         ],
         "y": [
          -0.510743249469289,
          -0.8147374733359818
         ]
        },
        {
         "hoverinfo": "text",
         "line": {
          "color": "rgba(128, 128, 128, 0.1)",
          "width": 1
         },
         "mode": "lines",
         "text": "0.2",
         "type": "scatter",
         "x": [
          -0.7692043206658865,
          -0.7464498563171527
         ],
         "y": [
          -0.510743249469289,
          -0.15240867563536542
         ]
        },
        {
         "hoverinfo": "text",
         "line": {
          "color": "rgba(128, 128, 128, 0.1)",
          "width": 1
         },
         "mode": "lines",
         "text": "0.08333333333333333",
         "type": "scatter",
         "x": [
          -0.7692043206658865,
          0.42220986898347856
         ],
         "y": [
          -0.510743249469289,
          0.9443298132713931
         ]
        },
        {
         "hoverinfo": "text",
         "line": {
          "color": "rgba(128, 128, 128, 0.1)",
          "width": 1
         },
         "mode": "lines",
         "text": "0.25",
         "type": "scatter",
         "x": [
          -0.7692043206658865,
          0.7213026942444919
         ],
         "y": [
          -0.510743249469289,
          -0.7028614856381851
         ]
        },
        {
         "hoverinfo": "text",
         "line": {
          "color": "rgba(128, 128, 128, 0.1)",
          "width": 1
         },
         "mode": "lines",
         "text": "0.1",
         "type": "scatter",
         "x": [
          -0.7692043206658865,
          0.9131728451074601
         ],
         "y": [
          -0.510743249469289,
          -0.0786216846079524
         ]
        },
        {
         "hoverinfo": "text",
         "line": {
          "color": "rgba(128, 128, 128, 0.1)",
          "width": 1
         },
         "mode": "lines",
         "text": "0.1",
         "type": "scatter",
         "x": [
          -0.7692043206658865,
          -0.02029748952421764
         ],
         "y": [
          -0.510743249469289,
          0.966511761384103
         ]
        },
        {
         "hoverinfo": "text",
         "line": {
          "color": "rgba(128, 128, 128, 0.1)",
          "width": 1
         },
         "mode": "lines",
         "text": "0.16666666666666666",
         "type": "scatter",
         "x": [
          -0.7692043206658865,
          -0.3235081883111062
         ],
         "y": [
          -0.510743249469289,
          -0.08513015582825498
         ]
        },
        {
         "hoverinfo": "text",
         "line": {
          "color": "rgba(128, 128, 128, 0.1)",
          "width": 1
         },
         "mode": "lines",
         "text": "0.08333333333333333",
         "type": "scatter",
         "x": [
          -0.7692043206658865,
          0.05287296895782892
         ],
         "y": [
          -0.510743249469289,
          -0.09353267533807239
         ]
        },
        {
         "hoverinfo": "text",
         "line": {
          "color": "rgba(128, 128, 128, 0.1)",
          "width": 1
         },
         "mode": "lines",
         "text": "0.1",
         "type": "scatter",
         "x": [
          -0.7692043206658865,
          -0.5645297566213534
         ],
         "y": [
          -0.510743249469289,
          -0.5714605612882918
         ]
        },
        {
         "hoverinfo": "text",
         "line": {
          "color": "rgba(128, 128, 128, 0.1)",
          "width": 1
         },
         "mode": "lines",
         "text": "0.16666666666666666",
         "type": "scatter",
         "x": [
          -0.7692043206658865,
          -0.3131286416509119
         ],
         "y": [
          -0.510743249469289,
          0.597469912312249
         ]
        },
        {
         "hoverinfo": "text",
         "line": {
          "color": "rgba(128, 128, 128, 0.1)",
          "width": 1
         },
         "mode": "lines",
         "text": "1.0",
         "type": "scatter",
         "x": [
          0.7956628930422169,
          0.1629257116714322
         ],
         "y": [
          0.1122905423981816,
          0.3577320930627341
         ]
        },
        {
         "hoverinfo": "text",
         "line": {
          "color": "rgba(128, 128, 128, 0.1)",
          "width": 1
         },
         "mode": "lines",
         "text": "1.0",
         "type": "scatter",
         "x": [
          0.7956628930422169,
          0.4105409797767385
         ],
         "y": [
          0.1122905423981816,
          0.7266523503950164
         ]
        },
        {
         "hoverinfo": "text",
         "line": {
          "color": "rgba(128, 128, 128, 0.1)",
          "width": 1
         },
         "mode": "lines",
         "text": "0.3333333333333333",
         "type": "scatter",
         "x": [
          0.7956628930422169,
          0.5406252526159936
         ],
         "y": [
          0.1122905423981816,
          0.5854119605306543
         ]
        },
        {
         "hoverinfo": "text",
         "line": {
          "color": "rgba(128, 128, 128, 0.1)",
          "width": 1
         },
         "mode": "lines",
         "text": "1.0",
         "type": "scatter",
         "x": [
          0.7956628930422169,
          0.4152404281918263
         ],
         "y": [
          0.1122905423981816,
          0.3261041426820075
         ]
        },
        {
         "hoverinfo": "text",
         "line": {
          "color": "rgba(128, 128, 128, 0.1)",
          "width": 1
         },
         "mode": "lines",
         "text": "1.0",
         "type": "scatter",
         "x": [
          0.7956628930422169,
          0.5876073942509931
         ],
         "y": [
          0.1122905423981816,
          -0.5008315944643879
         ]
        },
        {
         "hoverinfo": "text",
         "line": {
          "color": "rgba(128, 128, 128, 0.1)",
          "width": 1
         },
         "mode": "lines",
         "text": "1.0",
         "type": "scatter",
         "x": [
          0.7956628930422169,
          -0.5559910802111033
         ],
         "y": [
          0.1122905423981816,
          -0.8220405900208866
         ]
        },
        {
         "hoverinfo": "text",
         "line": {
          "color": "rgba(128, 128, 128, 0.1)",
          "width": 1
         },
         "mode": "lines",
         "text": "1.0",
         "type": "scatter",
         "x": [
          0.7956628930422169,
          -0.6450334324398341
         ],
         "y": [
          0.1122905423981816,
          0.27707889223447446
         ]
        },
        {
         "hoverinfo": "text",
         "line": {
          "color": "rgba(128, 128, 128, 0.1)",
          "width": 1
         },
         "mode": "lines",
         "text": "1.0",
         "type": "scatter",
         "x": [
          0.7956628930422169,
          0.41087781322486794
         ],
         "y": [
          0.1122905423981816,
          0.0614320803326031
         ]
        },
        {
         "hoverinfo": "text",
         "line": {
          "color": "rgba(128, 128, 128, 0.1)",
          "width": 1
         },
         "mode": "lines",
         "text": "1.0",
         "type": "scatter",
         "x": [
          0.7956628930422169,
          -0.3660082442049612
         ],
         "y": [
          0.1122905423981816,
          0.8678869100507792
         ]
        },
        {
         "hoverinfo": "text",
         "line": {
          "color": "rgba(128, 128, 128, 0.1)",
          "width": 1
         },
         "mode": "lines",
         "text": "1.0",
         "type": "scatter",
         "x": [
          0.7956628930422169,
          0.17192888814352225
         ],
         "y": [
          0.1122905423981816,
          -0.4447705166163436
         ]
        },
        {
         "hoverinfo": "text",
         "line": {
          "color": "rgba(128, 128, 128, 0.1)",
          "width": 1
         },
         "mode": "lines",
         "text": "1.0",
         "type": "scatter",
         "x": [
          0.7956628930422169,
          0.9532683662972562
         ],
         "y": [
          0.1122905423981816,
          0.2902557824658834
         ]
        },
        {
         "hoverinfo": "text",
         "line": {
          "color": "rgba(128, 128, 128, 0.1)",
          "width": 1
         },
         "mode": "lines",
         "text": "1.0",
         "type": "scatter",
         "x": [
          0.7956628930422169,
          -0.8884686789090365
         ],
         "y": [
          0.1122905423981816,
          -0.31069767497084494
         ]
        },
        {
         "hoverinfo": "text",
         "line": {
          "color": "rgba(128, 128, 128, 0.1)",
          "width": 1
         },
         "mode": "lines",
         "text": "1.0",
         "type": "scatter",
         "x": [
          0.7956628930422169,
          -0.33280924839566023
         ],
         "y": [
          0.1122905423981816,
          -0.5065195179912579
         ]
        },
        {
         "hoverinfo": "text",
         "line": {
          "color": "rgba(128, 128, 128, 0.1)",
          "width": 1
         },
         "mode": "lines",
         "text": "1.0",
         "type": "scatter",
         "x": [
          0.7956628930422169,
          -0.015856194826003367
         ],
         "y": [
          0.1122905423981816,
          0.11145031512701231
         ]
        },
        {
         "hoverinfo": "text",
         "line": {
          "color": "rgba(128, 128, 128, 0.1)",
          "width": 1
         },
         "mode": "lines",
         "text": "1.0",
         "type": "scatter",
         "x": [
          0.7956628930422169,
          -0.1953259850843532
         ],
         "y": [
          0.1122905423981816,
          0.3518955956777661
         ]
        },
        {
         "hoverinfo": "text",
         "line": {
          "color": "rgba(128, 128, 128, 0.1)",
          "width": 1
         },
         "mode": "lines",
         "text": "1.0",
         "type": "scatter",
         "x": [
          0.7956628930422169,
          0.029357573635267073
         ],
         "y": [
          0.1122905423981816,
          -0.9111388969932189
         ]
        },
        {
         "hoverinfo": "text",
         "line": {
          "color": "rgba(128, 128, 128, 0.1)",
          "width": 1
         },
         "mode": "lines",
         "text": "1.0",
         "type": "scatter",
         "x": [
          0.7956628930422169,
          -0.01919280536162062
         ],
         "y": [
          0.1122905423981816,
          -0.6521212445085668
         ]
        },
        {
         "hoverinfo": "text",
         "line": {
          "color": "rgba(128, 128, 128, 0.1)",
          "width": 1
         },
         "mode": "lines",
         "text": "1.0",
         "type": "scatter",
         "x": [
          0.7956628930422169,
          -0.10911439248384298
         ],
         "y": [
          0.1122905423981816,
          0.7578267516911958
         ]
        },
        {
         "hoverinfo": "text",
         "line": {
          "color": "rgba(128, 128, 128, 0.1)",
          "width": 1
         },
         "mode": "lines",
         "text": "1.0",
         "type": "scatter",
         "x": [
          0.7956628930422169,
          0.6999593653183844
         ],
         "y": [
          0.1122905423981816,
          0.34086743938130765
         ]
        },
        {
         "hoverinfo": "text",
         "line": {
          "color": "rgba(128, 128, 128, 0.1)",
          "width": 1
         },
         "mode": "lines",
         "text": "1.0",
         "type": "scatter",
         "x": [
          0.7956628930422169,
          -0.7711438777564555
         ],
         "y": [
          0.1122905423981816,
          0.5446514515452328
         ]
        },
        {
         "hoverinfo": "text",
         "line": {
          "color": "rgba(128, 128, 128, 0.1)",
          "width": 1
         },
         "mode": "lines",
         "text": "1.0",
         "type": "scatter",
         "x": [
          0.7956628930422169,
          0.9159172652301071
         ],
         "y": [
          0.1122905423981816,
          -0.2876278366482088
         ]
        },
        {
         "hoverinfo": "text",
         "line": {
          "color": "rgba(128, 128, 128, 0.1)",
          "width": 1
         },
         "mode": "lines",
         "text": "0.3333333333333333",
         "type": "scatter",
         "x": [
          0.7956628930422169,
          0.3042346205107624
         ],
         "y": [
          0.1122905423981816,
          -0.21400329594720793
         ]
        },
        {
         "hoverinfo": "text",
         "line": {
          "color": "rgba(128, 128, 128, 0.1)",
          "width": 1
         },
         "mode": "lines",
         "text": "1.0",
         "type": "scatter",
         "x": [
          0.7956628930422169,
          0.7925432626107755
         ],
         "y": [
          0.1122905423981816,
          0.5855468854554127
         ]
        },
        {
         "hoverinfo": "text",
         "line": {
          "color": "rgba(128, 128, 128, 0.1)",
          "width": 1
         },
         "mode": "lines",
         "text": "1.0",
         "type": "scatter",
         "x": [
          0.7956628930422169,
          -0.52981302729874
         ],
         "y": [
          0.1122905423981816,
          -0.26861457638885444
         ]
        },
        {
         "hoverinfo": "text",
         "line": {
          "color": "rgba(128, 128, 128, 0.1)",
          "width": 1
         },
         "mode": "lines",
         "text": "1.0",
         "type": "scatter",
         "x": [
          0.7956628930422169,
          -0.6047526130559822
         ],
         "y": [
          0.1122905423981816,
          0.7655665975288818
         ]
        },
        {
         "hoverinfo": "text",
         "line": {
          "color": "rgba(128, 128, 128, 0.1)",
          "width": 1
         },
         "mode": "lines",
         "text": "0.14285714285714285",
         "type": "scatter",
         "x": [
          0.7956628930422169,
          0.6074389952577244
         ],
         "y": [
          0.1122905423981816,
          -0.12243029093157637
         ]
        },
        {
         "hoverinfo": "text",
         "line": {
          "color": "rgba(128, 128, 128, 0.1)",
          "width": 1
         },
         "mode": "lines",
         "text": "0.14285714285714285",
         "type": "scatter",
         "x": [
          0.7956628930422169,
          -0.918938735340811
         ],
         "y": [
          0.1122905423981816,
          0.29892269802325433
         ]
        },
        {
         "hoverinfo": "text",
         "line": {
          "color": "rgba(128, 128, 128, 0.1)",
          "width": 1
         },
         "mode": "lines",
         "text": "0.14285714285714285",
         "type": "scatter",
         "x": [
          0.7956628930422169,
          -0.39369798424770713
         ],
         "y": [
          0.1122905423981816,
          0.1564690190913819
         ]
        },
        {
         "hoverinfo": "text",
         "line": {
          "color": "rgba(128, 128, 128, 0.1)",
          "width": 1
         },
         "mode": "lines",
         "text": "1.0",
         "type": "scatter",
         "x": [
          0.7956628930422169,
          -0.4965138359262507
         ],
         "y": [
          0.1122905423981816,
          0.5147073335073147
         ]
        },
        {
         "hoverinfo": "text",
         "line": {
          "color": "rgba(128, 128, 128, 0.1)",
          "width": 1
         },
         "mode": "lines",
         "text": "1.0",
         "type": "scatter",
         "x": [
          0.7956628930422169,
          -0.7047942282637657
         ],
         "y": [
          0.1122905423981816,
          0.05639581663858665
         ]
        },
        {
         "hoverinfo": "text",
         "line": {
          "color": "rgba(128, 128, 128, 0.1)",
          "width": 1
         },
         "mode": "lines",
         "text": "0.0625",
         "type": "scatter",
         "x": [
          0.7956628930422169,
          0.22697673177044278
         ],
         "y": [
          0.1122905423981816,
          -0.8456600770640139
         ]
        },
        {
         "hoverinfo": "text",
         "line": {
          "color": "rgba(128, 128, 128, 0.1)",
          "width": 1
         },
         "mode": "lines",
         "text": "0.16666666666666666",
         "type": "scatter",
         "x": [
          0.7956628930422169,
          0.17107928195038022
         ],
         "y": [
          0.1122905423981816,
          0.7959403993931851
         ]
        },
        {
         "hoverinfo": "text",
         "line": {
          "color": "rgba(128, 128, 128, 0.1)",
          "width": 1
         },
         "mode": "lines",
         "text": "0.125",
         "type": "scatter",
         "x": [
          0.7956628930422169,
          0.7198791291336225
         ],
         "y": [
          0.1122905423981816,
          -0.3555785138076284
         ]
        },
        {
         "hoverinfo": "text",
         "line": {
          "color": "rgba(128, 128, 128, 0.1)",
          "width": 1
         },
         "mode": "lines",
         "text": "1.0",
         "type": "scatter",
         "x": [
          0.7956628930422169,
          0.07592479646616518
         ],
         "y": [
          0.1122905423981816,
          0.5489404396993625
         ]
        },
        {
         "hoverinfo": "text",
         "line": {
          "color": "rgba(128, 128, 128, 0.1)",
          "width": 1
         },
         "mode": "lines",
         "text": "1.0",
         "type": "scatter",
         "x": [
          0.7956628930422169,
          -0.13240271109312432
         ],
         "y": [
          0.1122905423981816,
          -0.36406482848700933
         ]
        },
        {
         "hoverinfo": "text",
         "line": {
          "color": "rgba(128, 128, 128, 0.1)",
          "width": 1
         },
         "mode": "lines",
         "text": "1.0",
         "type": "scatter",
         "x": [
          0.7956628930422169,
          -1
         ],
         "y": [
          0.1122905423981816,
          0.006663047876623049
         ]
        },
        {
         "hoverinfo": "text",
         "line": {
          "color": "rgba(128, 128, 128, 0.1)",
          "width": 1
         },
         "mode": "lines",
         "text": "1.0",
         "type": "scatter",
         "x": [
          0.7956628930422169,
          0.40794135944224913
         ],
         "y": [
          0.1122905423981816,
          -0.5939736404506816
         ]
        },
        {
         "hoverinfo": "text",
         "line": {
          "color": "rgba(128, 128, 128, 0.1)",
          "width": 1
         },
         "mode": "lines",
         "text": "0.5",
         "type": "scatter",
         "x": [
          0.7956628930422169,
          0.42727580252097486
         ],
         "y": [
          0.1122905423981816,
          -0.8147374733359818
         ]
        },
        {
         "hoverinfo": "text",
         "line": {
          "color": "rgba(128, 128, 128, 0.1)",
          "width": 1
         },
         "mode": "lines",
         "text": "0.125",
         "type": "scatter",
         "x": [
          0.7956628930422169,
          -0.7464498563171527
         ],
         "y": [
          0.1122905423981816,
          -0.15240867563536542
         ]
        },
        {
         "hoverinfo": "text",
         "line": {
          "color": "rgba(128, 128, 128, 0.1)",
          "width": 1
         },
         "mode": "lines",
         "text": "1.0",
         "type": "scatter",
         "x": [
          0.7956628930422169,
          0.42220986898347856
         ],
         "y": [
          0.1122905423981816,
          0.9443298132713931
         ]
        },
        {
         "hoverinfo": "text",
         "line": {
          "color": "rgba(128, 128, 128, 0.1)",
          "width": 1
         },
         "mode": "lines",
         "text": "1.0",
         "type": "scatter",
         "x": [
          0.7956628930422169,
          0.7213026942444919
         ],
         "y": [
          0.1122905423981816,
          -0.7028614856381851
         ]
        },
        {
         "hoverinfo": "text",
         "line": {
          "color": "rgba(128, 128, 128, 0.1)",
          "width": 1
         },
         "mode": "lines",
         "text": "1.0",
         "type": "scatter",
         "x": [
          0.7956628930422169,
          0.9131728451074601
         ],
         "y": [
          0.1122905423981816,
          -0.0786216846079524
         ]
        },
        {
         "hoverinfo": "text",
         "line": {
          "color": "rgba(128, 128, 128, 0.1)",
          "width": 1
         },
         "mode": "lines",
         "text": "1.0",
         "type": "scatter",
         "x": [
          0.7956628930422169,
          -0.02029748952421764
         ],
         "y": [
          0.1122905423981816,
          0.966511761384103
         ]
        },
        {
         "hoverinfo": "text",
         "line": {
          "color": "rgba(128, 128, 128, 0.1)",
          "width": 1
         },
         "mode": "lines",
         "text": "0.1111111111111111",
         "type": "scatter",
         "x": [
          0.7956628930422169,
          -0.3235081883111062
         ],
         "y": [
          0.1122905423981816,
          -0.08513015582825498
         ]
        },
        {
         "hoverinfo": "text",
         "line": {
          "color": "rgba(128, 128, 128, 0.1)",
          "width": 1
         },
         "mode": "lines",
         "text": "1.0",
         "type": "scatter",
         "x": [
          0.7956628930422169,
          0.05287296895782892
         ],
         "y": [
          0.1122905423981816,
          -0.09353267533807239
         ]
        },
        {
         "hoverinfo": "text",
         "line": {
          "color": "rgba(128, 128, 128, 0.1)",
          "width": 1
         },
         "mode": "lines",
         "text": "1.0",
         "type": "scatter",
         "x": [
          0.7956628930422169,
          -0.5645297566213534
         ],
         "y": [
          0.1122905423981816,
          -0.5714605612882918
         ]
        },
        {
         "hoverinfo": "text",
         "line": {
          "color": "rgba(128, 128, 128, 0.1)",
          "width": 1
         },
         "mode": "lines",
         "text": "0.1111111111111111",
         "type": "scatter",
         "x": [
          0.7956628930422169,
          -0.3131286416509119
         ],
         "y": [
          0.1122905423981816,
          0.597469912312249
         ]
        },
        {
         "hoverinfo": "text",
         "line": {
          "color": "rgba(128, 128, 128, 0.1)",
          "width": 1
         },
         "mode": "lines",
         "text": "1.0",
         "type": "scatter",
         "x": [
          0.1629257116714322,
          0.4105409797767385
         ],
         "y": [
          0.3577320930627341,
          0.7266523503950164
         ]
        },
        {
         "hoverinfo": "text",
         "line": {
          "color": "rgba(128, 128, 128, 0.1)",
          "width": 1
         },
         "mode": "lines",
         "text": "1.0",
         "type": "scatter",
         "x": [
          0.1629257116714322,
          0.5406252526159936
         ],
         "y": [
          0.3577320930627341,
          0.5854119605306543
         ]
        },
        {
         "hoverinfo": "text",
         "line": {
          "color": "rgba(128, 128, 128, 0.1)",
          "width": 1
         },
         "mode": "lines",
         "text": "1.0",
         "type": "scatter",
         "x": [
          0.1629257116714322,
          0.4152404281918263
         ],
         "y": [
          0.3577320930627341,
          0.3261041426820075
         ]
        },
        {
         "hoverinfo": "text",
         "line": {
          "color": "rgba(128, 128, 128, 0.1)",
          "width": 1
         },
         "mode": "lines",
         "text": "1.0",
         "type": "scatter",
         "x": [
          0.1629257116714322,
          0.5876073942509931
         ],
         "y": [
          0.3577320930627341,
          -0.5008315944643879
         ]
        },
        {
         "hoverinfo": "text",
         "line": {
          "color": "rgba(128, 128, 128, 0.1)",
          "width": 1
         },
         "mode": "lines",
         "text": "1.0",
         "type": "scatter",
         "x": [
          0.1629257116714322,
          -0.5559910802111033
         ],
         "y": [
          0.3577320930627341,
          -0.8220405900208866
         ]
        },
        {
         "hoverinfo": "text",
         "line": {
          "color": "rgba(128, 128, 128, 0.1)",
          "width": 1
         },
         "mode": "lines",
         "text": "1.0",
         "type": "scatter",
         "x": [
          0.1629257116714322,
          -0.6450334324398341
         ],
         "y": [
          0.3577320930627341,
          0.27707889223447446
         ]
        },
        {
         "hoverinfo": "text",
         "line": {
          "color": "rgba(128, 128, 128, 0.1)",
          "width": 1
         },
         "mode": "lines",
         "text": "1.0",
         "type": "scatter",
         "x": [
          0.1629257116714322,
          0.41087781322486794
         ],
         "y": [
          0.3577320930627341,
          0.0614320803326031
         ]
        },
        {
         "hoverinfo": "text",
         "line": {
          "color": "rgba(128, 128, 128, 0.1)",
          "width": 1
         },
         "mode": "lines",
         "text": "1.0",
         "type": "scatter",
         "x": [
          0.1629257116714322,
          -0.3660082442049612
         ],
         "y": [
          0.3577320930627341,
          0.8678869100507792
         ]
        },
        {
         "hoverinfo": "text",
         "line": {
          "color": "rgba(128, 128, 128, 0.1)",
          "width": 1
         },
         "mode": "lines",
         "text": "1.0",
         "type": "scatter",
         "x": [
          0.1629257116714322,
          0.17192888814352225
         ],
         "y": [
          0.3577320930627341,
          -0.4447705166163436
         ]
        },
        {
         "hoverinfo": "text",
         "line": {
          "color": "rgba(128, 128, 128, 0.1)",
          "width": 1
         },
         "mode": "lines",
         "text": "1.0",
         "type": "scatter",
         "x": [
          0.1629257116714322,
          0.9532683662972562
         ],
         "y": [
          0.3577320930627341,
          0.2902557824658834
         ]
        },
        {
         "hoverinfo": "text",
         "line": {
          "color": "rgba(128, 128, 128, 0.1)",
          "width": 1
         },
         "mode": "lines",
         "text": "1.0",
         "type": "scatter",
         "x": [
          0.1629257116714322,
          -0.8884686789090365
         ],
         "y": [
          0.3577320930627341,
          -0.31069767497084494
         ]
        },
        {
         "hoverinfo": "text",
         "line": {
          "color": "rgba(128, 128, 128, 0.1)",
          "width": 1
         },
         "mode": "lines",
         "text": "1.0",
         "type": "scatter",
         "x": [
          0.1629257116714322,
          -0.33280924839566023
         ],
         "y": [
          0.3577320930627341,
          -0.5065195179912579
         ]
        },
        {
         "hoverinfo": "text",
         "line": {
          "color": "rgba(128, 128, 128, 0.1)",
          "width": 1
         },
         "mode": "lines",
         "text": "1.0",
         "type": "scatter",
         "x": [
          0.1629257116714322,
          -0.015856194826003367
         ],
         "y": [
          0.3577320930627341,
          0.11145031512701231
         ]
        },
        {
         "hoverinfo": "text",
         "line": {
          "color": "rgba(128, 128, 128, 0.1)",
          "width": 1
         },
         "mode": "lines",
         "text": "1.0",
         "type": "scatter",
         "x": [
          0.1629257116714322,
          -0.1953259850843532
         ],
         "y": [
          0.3577320930627341,
          0.3518955956777661
         ]
        },
        {
         "hoverinfo": "text",
         "line": {
          "color": "rgba(128, 128, 128, 0.1)",
          "width": 1
         },
         "mode": "lines",
         "text": "0.1111111111111111",
         "type": "scatter",
         "x": [
          0.1629257116714322,
          0.029357573635267073
         ],
         "y": [
          0.3577320930627341,
          -0.9111388969932189
         ]
        },
        {
         "hoverinfo": "text",
         "line": {
          "color": "rgba(128, 128, 128, 0.1)",
          "width": 1
         },
         "mode": "lines",
         "text": "1.0",
         "type": "scatter",
         "x": [
          0.1629257116714322,
          -0.01919280536162062
         ],
         "y": [
          0.3577320930627341,
          -0.6521212445085668
         ]
        },
        {
         "hoverinfo": "text",
         "line": {
          "color": "rgba(128, 128, 128, 0.1)",
          "width": 1
         },
         "mode": "lines",
         "text": "1.0",
         "type": "scatter",
         "x": [
          0.1629257116714322,
          -0.10911439248384298
         ],
         "y": [
          0.3577320930627341,
          0.7578267516911958
         ]
        },
        {
         "hoverinfo": "text",
         "line": {
          "color": "rgba(128, 128, 128, 0.1)",
          "width": 1
         },
         "mode": "lines",
         "text": "1.0",
         "type": "scatter",
         "x": [
          0.1629257116714322,
          0.6999593653183844
         ],
         "y": [
          0.3577320930627341,
          0.34086743938130765
         ]
        },
        {
         "hoverinfo": "text",
         "line": {
          "color": "rgba(128, 128, 128, 0.1)",
          "width": 1
         },
         "mode": "lines",
         "text": "1.0",
         "type": "scatter",
         "x": [
          0.1629257116714322,
          -0.7711438777564555
         ],
         "y": [
          0.3577320930627341,
          0.5446514515452328
         ]
        },
        {
         "hoverinfo": "text",
         "line": {
          "color": "rgba(128, 128, 128, 0.1)",
          "width": 1
         },
         "mode": "lines",
         "text": "1.0",
         "type": "scatter",
         "x": [
          0.1629257116714322,
          0.9159172652301071
         ],
         "y": [
          0.3577320930627341,
          -0.2876278366482088
         ]
        },
        {
         "hoverinfo": "text",
         "line": {
          "color": "rgba(128, 128, 128, 0.1)",
          "width": 1
         },
         "mode": "lines",
         "text": "0.3333333333333333",
         "type": "scatter",
         "x": [
          0.1629257116714322,
          0.3042346205107624
         ],
         "y": [
          0.3577320930627341,
          -0.21400329594720793
         ]
        },
        {
         "hoverinfo": "text",
         "line": {
          "color": "rgba(128, 128, 128, 0.1)",
          "width": 1
         },
         "mode": "lines",
         "text": "1.0",
         "type": "scatter",
         "x": [
          0.1629257116714322,
          0.7925432626107755
         ],
         "y": [
          0.3577320930627341,
          0.5855468854554127
         ]
        },
        {
         "hoverinfo": "text",
         "line": {
          "color": "rgba(128, 128, 128, 0.1)",
          "width": 1
         },
         "mode": "lines",
         "text": "1.0",
         "type": "scatter",
         "x": [
          0.1629257116714322,
          -0.52981302729874
         ],
         "y": [
          0.3577320930627341,
          -0.26861457638885444
         ]
        },
        {
         "hoverinfo": "text",
         "line": {
          "color": "rgba(128, 128, 128, 0.1)",
          "width": 1
         },
         "mode": "lines",
         "text": "1.0",
         "type": "scatter",
         "x": [
          0.1629257116714322,
          -0.6047526130559822
         ],
         "y": [
          0.3577320930627341,
          0.7655665975288818
         ]
        },
        {
         "hoverinfo": "text",
         "line": {
          "color": "rgba(128, 128, 128, 0.1)",
          "width": 1
         },
         "mode": "lines",
         "text": "1.0",
         "type": "scatter",
         "x": [
          0.1629257116714322,
          0.6074389952577244
         ],
         "y": [
          0.3577320930627341,
          -0.12243029093157637
         ]
        },
        {
         "hoverinfo": "text",
         "line": {
          "color": "rgba(128, 128, 128, 0.1)",
          "width": 1
         },
         "mode": "lines",
         "text": "1.0",
         "type": "scatter",
         "x": [
          0.1629257116714322,
          -0.918938735340811
         ],
         "y": [
          0.3577320930627341,
          0.29892269802325433
         ]
        },
        {
         "hoverinfo": "text",
         "line": {
          "color": "rgba(128, 128, 128, 0.1)",
          "width": 1
         },
         "mode": "lines",
         "text": "1.0",
         "type": "scatter",
         "x": [
          0.1629257116714322,
          -0.39369798424770713
         ],
         "y": [
          0.3577320930627341,
          0.1564690190913819
         ]
        },
        {
         "hoverinfo": "text",
         "line": {
          "color": "rgba(128, 128, 128, 0.1)",
          "width": 1
         },
         "mode": "lines",
         "text": "1.0",
         "type": "scatter",
         "x": [
          0.1629257116714322,
          -0.4965138359262507
         ],
         "y": [
          0.3577320930627341,
          0.5147073335073147
         ]
        },
        {
         "hoverinfo": "text",
         "line": {
          "color": "rgba(128, 128, 128, 0.1)",
          "width": 1
         },
         "mode": "lines",
         "text": "1.0",
         "type": "scatter",
         "x": [
          0.1629257116714322,
          -0.7047942282637657
         ],
         "y": [
          0.3577320930627341,
          0.05639581663858665
         ]
        },
        {
         "hoverinfo": "text",
         "line": {
          "color": "rgba(128, 128, 128, 0.1)",
          "width": 1
         },
         "mode": "lines",
         "text": "0.08333333333333333",
         "type": "scatter",
         "x": [
          0.1629257116714322,
          0.22697673177044278
         ],
         "y": [
          0.3577320930627341,
          -0.8456600770640139
         ]
        },
        {
         "hoverinfo": "text",
         "line": {
          "color": "rgba(128, 128, 128, 0.1)",
          "width": 1
         },
         "mode": "lines",
         "text": "0.5",
         "type": "scatter",
         "x": [
          0.1629257116714322,
          0.17107928195038022
         ],
         "y": [
          0.3577320930627341,
          0.7959403993931851
         ]
        },
        {
         "hoverinfo": "text",
         "line": {
          "color": "rgba(128, 128, 128, 0.1)",
          "width": 1
         },
         "mode": "lines",
         "text": "0.125",
         "type": "scatter",
         "x": [
          0.1629257116714322,
          0.7198791291336225
         ],
         "y": [
          0.3577320930627341,
          -0.3555785138076284
         ]
        },
        {
         "hoverinfo": "text",
         "line": {
          "color": "rgba(128, 128, 128, 0.1)",
          "width": 1
         },
         "mode": "lines",
         "text": "1.0",
         "type": "scatter",
         "x": [
          0.1629257116714322,
          0.07592479646616518
         ],
         "y": [
          0.3577320930627341,
          0.5489404396993625
         ]
        },
        {
         "hoverinfo": "text",
         "line": {
          "color": "rgba(128, 128, 128, 0.1)",
          "width": 1
         },
         "mode": "lines",
         "text": "1.0",
         "type": "scatter",
         "x": [
          0.1629257116714322,
          -0.13240271109312432
         ],
         "y": [
          0.3577320930627341,
          -0.36406482848700933
         ]
        },
        {
         "hoverinfo": "text",
         "line": {
          "color": "rgba(128, 128, 128, 0.1)",
          "width": 1
         },
         "mode": "lines",
         "text": "1.0",
         "type": "scatter",
         "x": [
          0.1629257116714322,
          -1
         ],
         "y": [
          0.3577320930627341,
          0.006663047876623049
         ]
        },
        {
         "hoverinfo": "text",
         "line": {
          "color": "rgba(128, 128, 128, 0.1)",
          "width": 1
         },
         "mode": "lines",
         "text": "1.0",
         "type": "scatter",
         "x": [
          0.1629257116714322,
          0.40794135944224913
         ],
         "y": [
          0.3577320930627341,
          -0.5939736404506816
         ]
        },
        {
         "hoverinfo": "text",
         "line": {
          "color": "rgba(128, 128, 128, 0.1)",
          "width": 1
         },
         "mode": "lines",
         "text": "0.5",
         "type": "scatter",
         "x": [
          0.1629257116714322,
          0.42727580252097486
         ],
         "y": [
          0.3577320930627341,
          -0.8147374733359818
         ]
        },
        {
         "hoverinfo": "text",
         "line": {
          "color": "rgba(128, 128, 128, 0.1)",
          "width": 1
         },
         "mode": "lines",
         "text": "0.125",
         "type": "scatter",
         "x": [
          0.1629257116714322,
          -0.7464498563171527
         ],
         "y": [
          0.3577320930627341,
          -0.15240867563536542
         ]
        },
        {
         "hoverinfo": "text",
         "line": {
          "color": "rgba(128, 128, 128, 0.1)",
          "width": 1
         },
         "mode": "lines",
         "text": "1.0",
         "type": "scatter",
         "x": [
          0.1629257116714322,
          0.42220986898347856
         ],
         "y": [
          0.3577320930627341,
          0.9443298132713931
         ]
        },
        {
         "hoverinfo": "text",
         "line": {
          "color": "rgba(128, 128, 128, 0.1)",
          "width": 1
         },
         "mode": "lines",
         "text": "1.0",
         "type": "scatter",
         "x": [
          0.1629257116714322,
          0.7213026942444919
         ],
         "y": [
          0.3577320930627341,
          -0.7028614856381851
         ]
        },
        {
         "hoverinfo": "text",
         "line": {
          "color": "rgba(128, 128, 128, 0.1)",
          "width": 1
         },
         "mode": "lines",
         "text": "1.0",
         "type": "scatter",
         "x": [
          0.1629257116714322,
          0.9131728451074601
         ],
         "y": [
          0.3577320930627341,
          -0.0786216846079524
         ]
        },
        {
         "hoverinfo": "text",
         "line": {
          "color": "rgba(128, 128, 128, 0.1)",
          "width": 1
         },
         "mode": "lines",
         "text": "1.0",
         "type": "scatter",
         "x": [
          0.1629257116714322,
          -0.02029748952421764
         ],
         "y": [
          0.3577320930627341,
          0.966511761384103
         ]
        },
        {
         "hoverinfo": "text",
         "line": {
          "color": "rgba(128, 128, 128, 0.1)",
          "width": 1
         },
         "mode": "lines",
         "text": "0.1111111111111111",
         "type": "scatter",
         "x": [
          0.1629257116714322,
          -0.3235081883111062
         ],
         "y": [
          0.3577320930627341,
          -0.08513015582825498
         ]
        },
        {
         "hoverinfo": "text",
         "line": {
          "color": "rgba(128, 128, 128, 0.1)",
          "width": 1
         },
         "mode": "lines",
         "text": "1.0",
         "type": "scatter",
         "x": [
          0.1629257116714322,
          0.05287296895782892
         ],
         "y": [
          0.3577320930627341,
          -0.09353267533807239
         ]
        },
        {
         "hoverinfo": "text",
         "line": {
          "color": "rgba(128, 128, 128, 0.1)",
          "width": 1
         },
         "mode": "lines",
         "text": "1.0",
         "type": "scatter",
         "x": [
          0.1629257116714322,
          -0.5645297566213534
         ],
         "y": [
          0.3577320930627341,
          -0.5714605612882918
         ]
        },
        {
         "hoverinfo": "text",
         "line": {
          "color": "rgba(128, 128, 128, 0.1)",
          "width": 1
         },
         "mode": "lines",
         "text": "0.1111111111111111",
         "type": "scatter",
         "x": [
          0.1629257116714322,
          -0.3131286416509119
         ],
         "y": [
          0.3577320930627341,
          0.597469912312249
         ]
        },
        {
         "hoverinfo": "text",
         "line": {
          "color": "rgba(128, 128, 128, 0.1)",
          "width": 1
         },
         "mode": "lines",
         "text": "0.3333333333333333",
         "type": "scatter",
         "x": [
          0.4105409797767385,
          0.5406252526159936
         ],
         "y": [
          0.7266523503950164,
          0.5854119605306543
         ]
        },
        {
         "hoverinfo": "text",
         "line": {
          "color": "rgba(128, 128, 128, 0.1)",
          "width": 1
         },
         "mode": "lines",
         "text": "0.2",
         "type": "scatter",
         "x": [
          0.4105409797767385,
          0.4152404281918263
         ],
         "y": [
          0.7266523503950164,
          0.3261041426820075
         ]
        },
        {
         "hoverinfo": "text",
         "line": {
          "color": "rgba(128, 128, 128, 0.1)",
          "width": 1
         },
         "mode": "lines",
         "text": "1.0",
         "type": "scatter",
         "x": [
          0.4105409797767385,
          0.5876073942509931
         ],
         "y": [
          0.7266523503950164,
          -0.5008315944643879
         ]
        },
        {
         "hoverinfo": "text",
         "line": {
          "color": "rgba(128, 128, 128, 0.1)",
          "width": 1
         },
         "mode": "lines",
         "text": "1.0",
         "type": "scatter",
         "x": [
          0.4105409797767385,
          -0.5559910802111033
         ],
         "y": [
          0.7266523503950164,
          -0.8220405900208866
         ]
        },
        {
         "hoverinfo": "text",
         "line": {
          "color": "rgba(128, 128, 128, 0.1)",
          "width": 1
         },
         "mode": "lines",
         "text": "1.0",
         "type": "scatter",
         "x": [
          0.4105409797767385,
          -0.6450334324398341
         ],
         "y": [
          0.7266523503950164,
          0.27707889223447446
         ]
        },
        {
         "hoverinfo": "text",
         "line": {
          "color": "rgba(128, 128, 128, 0.1)",
          "width": 1
         },
         "mode": "lines",
         "text": "1.0",
         "type": "scatter",
         "x": [
          0.4105409797767385,
          0.41087781322486794
         ],
         "y": [
          0.7266523503950164,
          0.0614320803326031
         ]
        },
        {
         "hoverinfo": "text",
         "line": {
          "color": "rgba(128, 128, 128, 0.1)",
          "width": 1
         },
         "mode": "lines",
         "text": "1.0",
         "type": "scatter",
         "x": [
          0.4105409797767385,
          -0.3660082442049612
         ],
         "y": [
          0.7266523503950164,
          0.8678869100507792
         ]
        },
        {
         "hoverinfo": "text",
         "line": {
          "color": "rgba(128, 128, 128, 0.1)",
          "width": 1
         },
         "mode": "lines",
         "text": "1.0",
         "type": "scatter",
         "x": [
          0.4105409797767385,
          0.17192888814352225
         ],
         "y": [
          0.7266523503950164,
          -0.4447705166163436
         ]
        },
        {
         "hoverinfo": "text",
         "line": {
          "color": "rgba(128, 128, 128, 0.1)",
          "width": 1
         },
         "mode": "lines",
         "text": "1.0",
         "type": "scatter",
         "x": [
          0.4105409797767385,
          0.9532683662972562
         ],
         "y": [
          0.7266523503950164,
          0.2902557824658834
         ]
        },
        {
         "hoverinfo": "text",
         "line": {
          "color": "rgba(128, 128, 128, 0.1)",
          "width": 1
         },
         "mode": "lines",
         "text": "1.0",
         "type": "scatter",
         "x": [
          0.4105409797767385,
          -0.8884686789090365
         ],
         "y": [
          0.7266523503950164,
          -0.31069767497084494
         ]
        },
        {
         "hoverinfo": "text",
         "line": {
          "color": "rgba(128, 128, 128, 0.1)",
          "width": 1
         },
         "mode": "lines",
         "text": "1.0",
         "type": "scatter",
         "x": [
          0.4105409797767385,
          -0.33280924839566023
         ],
         "y": [
          0.7266523503950164,
          -0.5065195179912579
         ]
        },
        {
         "hoverinfo": "text",
         "line": {
          "color": "rgba(128, 128, 128, 0.1)",
          "width": 1
         },
         "mode": "lines",
         "text": "1.0",
         "type": "scatter",
         "x": [
          0.4105409797767385,
          -0.015856194826003367
         ],
         "y": [
          0.7266523503950164,
          0.11145031512701231
         ]
        },
        {
         "hoverinfo": "text",
         "line": {
          "color": "rgba(128, 128, 128, 0.1)",
          "width": 1
         },
         "mode": "lines",
         "text": "1.0",
         "type": "scatter",
         "x": [
          0.4105409797767385,
          -0.1953259850843532
         ],
         "y": [
          0.7266523503950164,
          0.3518955956777661
         ]
        },
        {
         "hoverinfo": "text",
         "line": {
          "color": "rgba(128, 128, 128, 0.1)",
          "width": 1
         },
         "mode": "lines",
         "text": "1.0",
         "type": "scatter",
         "x": [
          0.4105409797767385,
          0.029357573635267073
         ],
         "y": [
          0.7266523503950164,
          -0.9111388969932189
         ]
        },
        {
         "hoverinfo": "text",
         "line": {
          "color": "rgba(128, 128, 128, 0.1)",
          "width": 1
         },
         "mode": "lines",
         "text": "1.0",
         "type": "scatter",
         "x": [
          0.4105409797767385,
          -0.01919280536162062
         ],
         "y": [
          0.7266523503950164,
          -0.6521212445085668
         ]
        },
        {
         "hoverinfo": "text",
         "line": {
          "color": "rgba(128, 128, 128, 0.1)",
          "width": 1
         },
         "mode": "lines",
         "text": "1.0",
         "type": "scatter",
         "x": [
          0.4105409797767385,
          -0.10911439248384298
         ],
         "y": [
          0.7266523503950164,
          0.7578267516911958
         ]
        },
        {
         "hoverinfo": "text",
         "line": {
          "color": "rgba(128, 128, 128, 0.1)",
          "width": 1
         },
         "mode": "lines",
         "text": "1.0",
         "type": "scatter",
         "x": [
          0.4105409797767385,
          0.6999593653183844
         ],
         "y": [
          0.7266523503950164,
          0.34086743938130765
         ]
        },
        {
         "hoverinfo": "text",
         "line": {
          "color": "rgba(128, 128, 128, 0.1)",
          "width": 1
         },
         "mode": "lines",
         "text": "1.0",
         "type": "scatter",
         "x": [
          0.4105409797767385,
          -0.7711438777564555
         ],
         "y": [
          0.7266523503950164,
          0.5446514515452328
         ]
        },
        {
         "hoverinfo": "text",
         "line": {
          "color": "rgba(128, 128, 128, 0.1)",
          "width": 1
         },
         "mode": "lines",
         "text": "1.0",
         "type": "scatter",
         "x": [
          0.4105409797767385,
          0.9159172652301071
         ],
         "y": [
          0.7266523503950164,
          -0.2876278366482088
         ]
        },
        {
         "hoverinfo": "text",
         "line": {
          "color": "rgba(128, 128, 128, 0.1)",
          "width": 1
         },
         "mode": "lines",
         "text": "0.3333333333333333",
         "type": "scatter",
         "x": [
          0.4105409797767385,
          0.3042346205107624
         ],
         "y": [
          0.7266523503950164,
          -0.21400329594720793
         ]
        },
        {
         "hoverinfo": "text",
         "line": {
          "color": "rgba(128, 128, 128, 0.1)",
          "width": 1
         },
         "mode": "lines",
         "text": "0.3333333333333333",
         "type": "scatter",
         "x": [
          0.4105409797767385,
          0.7925432626107755
         ],
         "y": [
          0.7266523503950164,
          0.5855468854554127
         ]
        },
        {
         "hoverinfo": "text",
         "line": {
          "color": "rgba(128, 128, 128, 0.1)",
          "width": 1
         },
         "mode": "lines",
         "text": "0.14285714285714285",
         "type": "scatter",
         "x": [
          0.4105409797767385,
          -0.52981302729874
         ],
         "y": [
          0.7266523503950164,
          -0.26861457638885444
         ]
        },
        {
         "hoverinfo": "text",
         "line": {
          "color": "rgba(128, 128, 128, 0.1)",
          "width": 1
         },
         "mode": "lines",
         "text": "1.0",
         "type": "scatter",
         "x": [
          0.4105409797767385,
          -0.6047526130559822
         ],
         "y": [
          0.7266523503950164,
          0.7655665975288818
         ]
        },
        {
         "hoverinfo": "text",
         "line": {
          "color": "rgba(128, 128, 128, 0.1)",
          "width": 1
         },
         "mode": "lines",
         "text": "0.14285714285714285",
         "type": "scatter",
         "x": [
          0.4105409797767385,
          0.6074389952577244
         ],
         "y": [
          0.7266523503950164,
          -0.12243029093157637
         ]
        },
        {
         "hoverinfo": "text",
         "line": {
          "color": "rgba(128, 128, 128, 0.1)",
          "width": 1
         },
         "mode": "lines",
         "text": "0.1111111111111111",
         "type": "scatter",
         "x": [
          0.4105409797767385,
          -0.918938735340811
         ],
         "y": [
          0.7266523503950164,
          0.29892269802325433
         ]
        },
        {
         "hoverinfo": "text",
         "line": {
          "color": "rgba(128, 128, 128, 0.1)",
          "width": 1
         },
         "mode": "lines",
         "text": "0.14285714285714285",
         "type": "scatter",
         "x": [
          0.4105409797767385,
          -0.39369798424770713
         ],
         "y": [
          0.7266523503950164,
          0.1564690190913819
         ]
        },
        {
         "hoverinfo": "text",
         "line": {
          "color": "rgba(128, 128, 128, 0.1)",
          "width": 1
         },
         "mode": "lines",
         "text": "1.0",
         "type": "scatter",
         "x": [
          0.4105409797767385,
          -0.4965138359262507
         ],
         "y": [
          0.7266523503950164,
          0.5147073335073147
         ]
        },
        {
         "hoverinfo": "text",
         "line": {
          "color": "rgba(128, 128, 128, 0.1)",
          "width": 1
         },
         "mode": "lines",
         "text": "1.0",
         "type": "scatter",
         "x": [
          0.4105409797767385,
          -0.7047942282637657
         ],
         "y": [
          0.7266523503950164,
          0.05639581663858665
         ]
        },
        {
         "hoverinfo": "text",
         "line": {
          "color": "rgba(128, 128, 128, 0.1)",
          "width": 1
         },
         "mode": "lines",
         "text": "0.0625",
         "type": "scatter",
         "x": [
          0.4105409797767385,
          0.22697673177044278
         ],
         "y": [
          0.7266523503950164,
          -0.8456600770640139
         ]
        },
        {
         "hoverinfo": "text",
         "line": {
          "color": "rgba(128, 128, 128, 0.1)",
          "width": 1
         },
         "mode": "lines",
         "text": "0.16666666666666666",
         "type": "scatter",
         "x": [
          0.4105409797767385,
          0.17107928195038022
         ],
         "y": [
          0.7266523503950164,
          0.7959403993931851
         ]
        },
        {
         "hoverinfo": "text",
         "line": {
          "color": "rgba(128, 128, 128, 0.1)",
          "width": 1
         },
         "mode": "lines",
         "text": "0.125",
         "type": "scatter",
         "x": [
          0.4105409797767385,
          0.7198791291336225
         ],
         "y": [
          0.7266523503950164,
          -0.3555785138076284
         ]
        },
        {
         "hoverinfo": "text",
         "line": {
          "color": "rgba(128, 128, 128, 0.1)",
          "width": 1
         },
         "mode": "lines",
         "text": "1.0",
         "type": "scatter",
         "x": [
          0.4105409797767385,
          0.07592479646616518
         ],
         "y": [
          0.7266523503950164,
          0.5489404396993625
         ]
        },
        {
         "hoverinfo": "text",
         "line": {
          "color": "rgba(128, 128, 128, 0.1)",
          "width": 1
         },
         "mode": "lines",
         "text": "1.0",
         "type": "scatter",
         "x": [
          0.4105409797767385,
          -0.13240271109312432
         ],
         "y": [
          0.7266523503950164,
          -0.36406482848700933
         ]
        },
        {
         "hoverinfo": "text",
         "line": {
          "color": "rgba(128, 128, 128, 0.1)",
          "width": 1
         },
         "mode": "lines",
         "text": "1.0",
         "type": "scatter",
         "x": [
          0.4105409797767385,
          -1
         ],
         "y": [
          0.7266523503950164,
          0.006663047876623049
         ]
        },
        {
         "hoverinfo": "text",
         "line": {
          "color": "rgba(128, 128, 128, 0.1)",
          "width": 1
         },
         "mode": "lines",
         "text": "1.0",
         "type": "scatter",
         "x": [
          0.4105409797767385,
          0.40794135944224913
         ],
         "y": [
          0.7266523503950164,
          -0.5939736404506816
         ]
        },
        {
         "hoverinfo": "text",
         "line": {
          "color": "rgba(128, 128, 128, 0.1)",
          "width": 1
         },
         "mode": "lines",
         "text": "0.5",
         "type": "scatter",
         "x": [
          0.4105409797767385,
          0.42727580252097486
         ],
         "y": [
          0.7266523503950164,
          -0.8147374733359818
         ]
        },
        {
         "hoverinfo": "text",
         "line": {
          "color": "rgba(128, 128, 128, 0.1)",
          "width": 1
         },
         "mode": "lines",
         "text": "0.125",
         "type": "scatter",
         "x": [
          0.4105409797767385,
          -0.7464498563171527
         ],
         "y": [
          0.7266523503950164,
          -0.15240867563536542
         ]
        },
        {
         "hoverinfo": "text",
         "line": {
          "color": "rgba(128, 128, 128, 0.1)",
          "width": 1
         },
         "mode": "lines",
         "text": "1.0",
         "type": "scatter",
         "x": [
          0.4105409797767385,
          0.42220986898347856
         ],
         "y": [
          0.7266523503950164,
          0.9443298132713931
         ]
        },
        {
         "hoverinfo": "text",
         "line": {
          "color": "rgba(128, 128, 128, 0.1)",
          "width": 1
         },
         "mode": "lines",
         "text": "1.0",
         "type": "scatter",
         "x": [
          0.4105409797767385,
          0.7213026942444919
         ],
         "y": [
          0.7266523503950164,
          -0.7028614856381851
         ]
        },
        {
         "hoverinfo": "text",
         "line": {
          "color": "rgba(128, 128, 128, 0.1)",
          "width": 1
         },
         "mode": "lines",
         "text": "0.14285714285714285",
         "type": "scatter",
         "x": [
          0.4105409797767385,
          0.9131728451074601
         ],
         "y": [
          0.7266523503950164,
          -0.0786216846079524
         ]
        },
        {
         "hoverinfo": "text",
         "line": {
          "color": "rgba(128, 128, 128, 0.1)",
          "width": 1
         },
         "mode": "lines",
         "text": "0.14285714285714285",
         "type": "scatter",
         "x": [
          0.4105409797767385,
          -0.02029748952421764
         ],
         "y": [
          0.7266523503950164,
          0.966511761384103
         ]
        },
        {
         "hoverinfo": "text",
         "line": {
          "color": "rgba(128, 128, 128, 0.1)",
          "width": 1
         },
         "mode": "lines",
         "text": "0.1111111111111111",
         "type": "scatter",
         "x": [
          0.4105409797767385,
          -0.3235081883111062
         ],
         "y": [
          0.7266523503950164,
          -0.08513015582825498
         ]
        },
        {
         "hoverinfo": "text",
         "line": {
          "color": "rgba(128, 128, 128, 0.1)",
          "width": 1
         },
         "mode": "lines",
         "text": "1.0",
         "type": "scatter",
         "x": [
          0.4105409797767385,
          0.05287296895782892
         ],
         "y": [
          0.7266523503950164,
          -0.09353267533807239
         ]
        },
        {
         "hoverinfo": "text",
         "line": {
          "color": "rgba(128, 128, 128, 0.1)",
          "width": 1
         },
         "mode": "lines",
         "text": "1.0",
         "type": "scatter",
         "x": [
          0.4105409797767385,
          -0.5645297566213534
         ],
         "y": [
          0.7266523503950164,
          -0.5714605612882918
         ]
        },
        {
         "hoverinfo": "text",
         "line": {
          "color": "rgba(128, 128, 128, 0.1)",
          "width": 1
         },
         "mode": "lines",
         "text": "0.1111111111111111",
         "type": "scatter",
         "x": [
          0.4105409797767385,
          -0.3131286416509119
         ],
         "y": [
          0.7266523503950164,
          0.597469912312249
         ]
        },
        {
         "hoverinfo": "text",
         "line": {
          "color": "rgba(128, 128, 128, 0.1)",
          "width": 1
         },
         "mode": "lines",
         "text": "1.0",
         "type": "scatter",
         "x": [
          0.5406252526159936,
          0.4152404281918263
         ],
         "y": [
          0.5854119605306543,
          0.3261041426820075
         ]
        },
        {
         "hoverinfo": "text",
         "line": {
          "color": "rgba(128, 128, 128, 0.1)",
          "width": 1
         },
         "mode": "lines",
         "text": "1.0",
         "type": "scatter",
         "x": [
          0.5406252526159936,
          0.5876073942509931
         ],
         "y": [
          0.5854119605306543,
          -0.5008315944643879
         ]
        },
        {
         "hoverinfo": "text",
         "line": {
          "color": "rgba(128, 128, 128, 0.1)",
          "width": 1
         },
         "mode": "lines",
         "text": "1.0",
         "type": "scatter",
         "x": [
          0.5406252526159936,
          -0.5559910802111033
         ],
         "y": [
          0.5854119605306543,
          -0.8220405900208866
         ]
        },
        {
         "hoverinfo": "text",
         "line": {
          "color": "rgba(128, 128, 128, 0.1)",
          "width": 1
         },
         "mode": "lines",
         "text": "1.0",
         "type": "scatter",
         "x": [
          0.5406252526159936,
          -0.6450334324398341
         ],
         "y": [
          0.5854119605306543,
          0.27707889223447446
         ]
        },
        {
         "hoverinfo": "text",
         "line": {
          "color": "rgba(128, 128, 128, 0.1)",
          "width": 1
         },
         "mode": "lines",
         "text": "0.3333333333333333",
         "type": "scatter",
         "x": [
          0.5406252526159936,
          0.41087781322486794
         ],
         "y": [
          0.5854119605306543,
          0.0614320803326031
         ]
        },
        {
         "hoverinfo": "text",
         "line": {
          "color": "rgba(128, 128, 128, 0.1)",
          "width": 1
         },
         "mode": "lines",
         "text": "0.14285714285714285",
         "type": "scatter",
         "x": [
          0.5406252526159936,
          -0.3660082442049612
         ],
         "y": [
          0.5854119605306543,
          0.8678869100507792
         ]
        },
        {
         "hoverinfo": "text",
         "line": {
          "color": "rgba(128, 128, 128, 0.1)",
          "width": 1
         },
         "mode": "lines",
         "text": "1.0",
         "type": "scatter",
         "x": [
          0.5406252526159936,
          0.17192888814352225
         ],
         "y": [
          0.5854119605306543,
          -0.4447705166163436
         ]
        },
        {
         "hoverinfo": "text",
         "line": {
          "color": "rgba(128, 128, 128, 0.1)",
          "width": 1
         },
         "mode": "lines",
         "text": "0.14285714285714285",
         "type": "scatter",
         "x": [
          0.5406252526159936,
          0.9532683662972562
         ],
         "y": [
          0.5854119605306543,
          0.2902557824658834
         ]
        },
        {
         "hoverinfo": "text",
         "line": {
          "color": "rgba(128, 128, 128, 0.1)",
          "width": 1
         },
         "mode": "lines",
         "text": "1.0",
         "type": "scatter",
         "x": [
          0.5406252526159936,
          -0.8884686789090365
         ],
         "y": [
          0.5854119605306543,
          -0.31069767497084494
         ]
        },
        {
         "hoverinfo": "text",
         "line": {
          "color": "rgba(128, 128, 128, 0.1)",
          "width": 1
         },
         "mode": "lines",
         "text": "1.0",
         "type": "scatter",
         "x": [
          0.5406252526159936,
          -0.33280924839566023
         ],
         "y": [
          0.5854119605306543,
          -0.5065195179912579
         ]
        },
        {
         "hoverinfo": "text",
         "line": {
          "color": "rgba(128, 128, 128, 0.1)",
          "width": 1
         },
         "mode": "lines",
         "text": "1.0",
         "type": "scatter",
         "x": [
          0.5406252526159936,
          -0.015856194826003367
         ],
         "y": [
          0.5854119605306543,
          0.11145031512701231
         ]
        },
        {
         "hoverinfo": "text",
         "line": {
          "color": "rgba(128, 128, 128, 0.1)",
          "width": 1
         },
         "mode": "lines",
         "text": "1.0",
         "type": "scatter",
         "x": [
          0.5406252526159936,
          -0.1953259850843532
         ],
         "y": [
          0.5854119605306543,
          0.3518955956777661
         ]
        },
        {
         "hoverinfo": "text",
         "line": {
          "color": "rgba(128, 128, 128, 0.1)",
          "width": 1
         },
         "mode": "lines",
         "text": "0.1111111111111111",
         "type": "scatter",
         "x": [
          0.5406252526159936,
          0.029357573635267073
         ],
         "y": [
          0.5854119605306543,
          -0.9111388969932189
         ]
        },
        {
         "hoverinfo": "text",
         "line": {
          "color": "rgba(128, 128, 128, 0.1)",
          "width": 1
         },
         "mode": "lines",
         "text": "1.0",
         "type": "scatter",
         "x": [
          0.5406252526159936,
          -0.01919280536162062
         ],
         "y": [
          0.5854119605306543,
          -0.6521212445085668
         ]
        },
        {
         "hoverinfo": "text",
         "line": {
          "color": "rgba(128, 128, 128, 0.1)",
          "width": 1
         },
         "mode": "lines",
         "text": "1.0",
         "type": "scatter",
         "x": [
          0.5406252526159936,
          -0.10911439248384298
         ],
         "y": [
          0.5854119605306543,
          0.7578267516911958
         ]
        },
        {
         "hoverinfo": "text",
         "line": {
          "color": "rgba(128, 128, 128, 0.1)",
          "width": 1
         },
         "mode": "lines",
         "text": "1.0",
         "type": "scatter",
         "x": [
          0.5406252526159936,
          0.6999593653183844
         ],
         "y": [
          0.5854119605306543,
          0.34086743938130765
         ]
        },
        {
         "hoverinfo": "text",
         "line": {
          "color": "rgba(128, 128, 128, 0.1)",
          "width": 1
         },
         "mode": "lines",
         "text": "1.0",
         "type": "scatter",
         "x": [
          0.5406252526159936,
          -0.7711438777564555
         ],
         "y": [
          0.5854119605306543,
          0.5446514515452328
         ]
        },
        {
         "hoverinfo": "text",
         "line": {
          "color": "rgba(128, 128, 128, 0.1)",
          "width": 1
         },
         "mode": "lines",
         "text": "1.0",
         "type": "scatter",
         "x": [
          0.5406252526159936,
          0.9159172652301071
         ],
         "y": [
          0.5854119605306543,
          -0.2876278366482088
         ]
        },
        {
         "hoverinfo": "text",
         "line": {
          "color": "rgba(128, 128, 128, 0.1)",
          "width": 1
         },
         "mode": "lines",
         "text": "0.3333333333333333",
         "type": "scatter",
         "x": [
          0.5406252526159936,
          0.3042346205107624
         ],
         "y": [
          0.5854119605306543,
          -0.21400329594720793
         ]
        },
        {
         "hoverinfo": "text",
         "line": {
          "color": "rgba(128, 128, 128, 0.1)",
          "width": 1
         },
         "mode": "lines",
         "text": "0.3333333333333333",
         "type": "scatter",
         "x": [
          0.5406252526159936,
          0.7925432626107755
         ],
         "y": [
          0.5854119605306543,
          0.5855468854554127
         ]
        },
        {
         "hoverinfo": "text",
         "line": {
          "color": "rgba(128, 128, 128, 0.1)",
          "width": 1
         },
         "mode": "lines",
         "text": "1.0",
         "type": "scatter",
         "x": [
          0.5406252526159936,
          -0.52981302729874
         ],
         "y": [
          0.5854119605306543,
          -0.26861457638885444
         ]
        },
        {
         "hoverinfo": "text",
         "line": {
          "color": "rgba(128, 128, 128, 0.1)",
          "width": 1
         },
         "mode": "lines",
         "text": "1.0",
         "type": "scatter",
         "x": [
          0.5406252526159936,
          -0.6047526130559822
         ],
         "y": [
          0.5854119605306543,
          0.7655665975288818
         ]
        },
        {
         "hoverinfo": "text",
         "line": {
          "color": "rgba(128, 128, 128, 0.1)",
          "width": 1
         },
         "mode": "lines",
         "text": "1.0",
         "type": "scatter",
         "x": [
          0.5406252526159936,
          0.6074389952577244
         ],
         "y": [
          0.5854119605306543,
          -0.12243029093157637
         ]
        },
        {
         "hoverinfo": "text",
         "line": {
          "color": "rgba(128, 128, 128, 0.1)",
          "width": 1
         },
         "mode": "lines",
         "text": "1.0",
         "type": "scatter",
         "x": [
          0.5406252526159936,
          -0.918938735340811
         ],
         "y": [
          0.5854119605306543,
          0.29892269802325433
         ]
        },
        {
         "hoverinfo": "text",
         "line": {
          "color": "rgba(128, 128, 128, 0.1)",
          "width": 1
         },
         "mode": "lines",
         "text": "1.0",
         "type": "scatter",
         "x": [
          0.5406252526159936,
          -0.39369798424770713
         ],
         "y": [
          0.5854119605306543,
          0.1564690190913819
         ]
        },
        {
         "hoverinfo": "text",
         "line": {
          "color": "rgba(128, 128, 128, 0.1)",
          "width": 1
         },
         "mode": "lines",
         "text": "1.0",
         "type": "scatter",
         "x": [
          0.5406252526159936,
          -0.4965138359262507
         ],
         "y": [
          0.5854119605306543,
          0.5147073335073147
         ]
        },
        {
         "hoverinfo": "text",
         "line": {
          "color": "rgba(128, 128, 128, 0.1)",
          "width": 1
         },
         "mode": "lines",
         "text": "1.0",
         "type": "scatter",
         "x": [
          0.5406252526159936,
          -0.7047942282637657
         ],
         "y": [
          0.5854119605306543,
          0.05639581663858665
         ]
        },
        {
         "hoverinfo": "text",
         "line": {
          "color": "rgba(128, 128, 128, 0.1)",
          "width": 1
         },
         "mode": "lines",
         "text": "0.08333333333333333",
         "type": "scatter",
         "x": [
          0.5406252526159936,
          0.22697673177044278
         ],
         "y": [
          0.5854119605306543,
          -0.8456600770640139
         ]
        },
        {
         "hoverinfo": "text",
         "line": {
          "color": "rgba(128, 128, 128, 0.1)",
          "width": 1
         },
         "mode": "lines",
         "text": "0.5",
         "type": "scatter",
         "x": [
          0.5406252526159936,
          0.17107928195038022
         ],
         "y": [
          0.5854119605306543,
          0.7959403993931851
         ]
        },
        {
         "hoverinfo": "text",
         "line": {
          "color": "rgba(128, 128, 128, 0.1)",
          "width": 1
         },
         "mode": "lines",
         "text": "0.1",
         "type": "scatter",
         "x": [
          0.5406252526159936,
          0.7198791291336225
         ],
         "y": [
          0.5854119605306543,
          -0.3555785138076284
         ]
        },
        {
         "hoverinfo": "text",
         "line": {
          "color": "rgba(128, 128, 128, 0.1)",
          "width": 1
         },
         "mode": "lines",
         "text": "1.0",
         "type": "scatter",
         "x": [
          0.5406252526159936,
          0.07592479646616518
         ],
         "y": [
          0.5854119605306543,
          0.5489404396993625
         ]
        },
        {
         "hoverinfo": "text",
         "line": {
          "color": "rgba(128, 128, 128, 0.1)",
          "width": 1
         },
         "mode": "lines",
         "text": "1.0",
         "type": "scatter",
         "x": [
          0.5406252526159936,
          -0.13240271109312432
         ],
         "y": [
          0.5854119605306543,
          -0.36406482848700933
         ]
        },
        {
         "hoverinfo": "text",
         "line": {
          "color": "rgba(128, 128, 128, 0.1)",
          "width": 1
         },
         "mode": "lines",
         "text": "1.0",
         "type": "scatter",
         "x": [
          0.5406252526159936,
          -1
         ],
         "y": [
          0.5854119605306543,
          0.006663047876623049
         ]
        },
        {
         "hoverinfo": "text",
         "line": {
          "color": "rgba(128, 128, 128, 0.1)",
          "width": 1
         },
         "mode": "lines",
         "text": "1.0",
         "type": "scatter",
         "x": [
          0.5406252526159936,
          0.40794135944224913
         ],
         "y": [
          0.5854119605306543,
          -0.5939736404506816
         ]
        },
        {
         "hoverinfo": "text",
         "line": {
          "color": "rgba(128, 128, 128, 0.1)",
          "width": 1
         },
         "mode": "lines",
         "text": "0.5",
         "type": "scatter",
         "x": [
          0.5406252526159936,
          0.42727580252097486
         ],
         "y": [
          0.5854119605306543,
          -0.8147374733359818
         ]
        },
        {
         "hoverinfo": "text",
         "line": {
          "color": "rgba(128, 128, 128, 0.1)",
          "width": 1
         },
         "mode": "lines",
         "text": "0.125",
         "type": "scatter",
         "x": [
          0.5406252526159936,
          -0.7464498563171527
         ],
         "y": [
          0.5854119605306543,
          -0.15240867563536542
         ]
        },
        {
         "hoverinfo": "text",
         "line": {
          "color": "rgba(128, 128, 128, 0.1)",
          "width": 1
         },
         "mode": "lines",
         "text": "1.0",
         "type": "scatter",
         "x": [
          0.5406252526159936,
          0.42220986898347856
         ],
         "y": [
          0.5854119605306543,
          0.9443298132713931
         ]
        },
        {
         "hoverinfo": "text",
         "line": {
          "color": "rgba(128, 128, 128, 0.1)",
          "width": 1
         },
         "mode": "lines",
         "text": "1.0",
         "type": "scatter",
         "x": [
          0.5406252526159936,
          0.7213026942444919
         ],
         "y": [
          0.5854119605306543,
          -0.7028614856381851
         ]
        },
        {
         "hoverinfo": "text",
         "line": {
          "color": "rgba(128, 128, 128, 0.1)",
          "width": 1
         },
         "mode": "lines",
         "text": "0.09090909090909091",
         "type": "scatter",
         "x": [
          0.5406252526159936,
          0.9131728451074601
         ],
         "y": [
          0.5854119605306543,
          -0.0786216846079524
         ]
        },
        {
         "hoverinfo": "text",
         "line": {
          "color": "rgba(128, 128, 128, 0.1)",
          "width": 1
         },
         "mode": "lines",
         "text": "1.0",
         "type": "scatter",
         "x": [
          0.5406252526159936,
          -0.02029748952421764
         ],
         "y": [
          0.5854119605306543,
          0.966511761384103
         ]
        },
        {
         "hoverinfo": "text",
         "line": {
          "color": "rgba(128, 128, 128, 0.1)",
          "width": 1
         },
         "mode": "lines",
         "text": "0.1111111111111111",
         "type": "scatter",
         "x": [
          0.5406252526159936,
          -0.3235081883111062
         ],
         "y": [
          0.5854119605306543,
          -0.08513015582825498
         ]
        },
        {
         "hoverinfo": "text",
         "line": {
          "color": "rgba(128, 128, 128, 0.1)",
          "width": 1
         },
         "mode": "lines",
         "text": "1.0",
         "type": "scatter",
         "x": [
          0.5406252526159936,
          0.05287296895782892
         ],
         "y": [
          0.5854119605306543,
          -0.09353267533807239
         ]
        },
        {
         "hoverinfo": "text",
         "line": {
          "color": "rgba(128, 128, 128, 0.1)",
          "width": 1
         },
         "mode": "lines",
         "text": "0.3333333333333333",
         "type": "scatter",
         "x": [
          0.5406252526159936,
          -0.5645297566213534
         ],
         "y": [
          0.5854119605306543,
          -0.5714605612882918
         ]
        },
        {
         "hoverinfo": "text",
         "line": {
          "color": "rgba(128, 128, 128, 0.1)",
          "width": 1
         },
         "mode": "lines",
         "text": "0.1111111111111111",
         "type": "scatter",
         "x": [
          0.5406252526159936,
          -0.3131286416509119
         ],
         "y": [
          0.5854119605306543,
          0.597469912312249
         ]
        },
        {
         "hoverinfo": "text",
         "line": {
          "color": "rgba(128, 128, 128, 0.1)",
          "width": 1
         },
         "mode": "lines",
         "text": "1.0",
         "type": "scatter",
         "x": [
          0.4152404281918263,
          0.5876073942509931
         ],
         "y": [
          0.3261041426820075,
          -0.5008315944643879
         ]
        },
        {
         "hoverinfo": "text",
         "line": {
          "color": "rgba(128, 128, 128, 0.1)",
          "width": 1
         },
         "mode": "lines",
         "text": "1.0",
         "type": "scatter",
         "x": [
          0.4152404281918263,
          -0.5559910802111033
         ],
         "y": [
          0.3261041426820075,
          -0.8220405900208866
         ]
        },
        {
         "hoverinfo": "text",
         "line": {
          "color": "rgba(128, 128, 128, 0.1)",
          "width": 1
         },
         "mode": "lines",
         "text": "1.0",
         "type": "scatter",
         "x": [
          0.4152404281918263,
          -0.6450334324398341
         ],
         "y": [
          0.3261041426820075,
          0.27707889223447446
         ]
        },
        {
         "hoverinfo": "text",
         "line": {
          "color": "rgba(128, 128, 128, 0.1)",
          "width": 1
         },
         "mode": "lines",
         "text": "1.0",
         "type": "scatter",
         "x": [
          0.4152404281918263,
          0.41087781322486794
         ],
         "y": [
          0.3261041426820075,
          0.0614320803326031
         ]
        },
        {
         "hoverinfo": "text",
         "line": {
          "color": "rgba(128, 128, 128, 0.1)",
          "width": 1
         },
         "mode": "lines",
         "text": "1.0",
         "type": "scatter",
         "x": [
          0.4152404281918263,
          -0.3660082442049612
         ],
         "y": [
          0.3261041426820075,
          0.8678869100507792
         ]
        },
        {
         "hoverinfo": "text",
         "line": {
          "color": "rgba(128, 128, 128, 0.1)",
          "width": 1
         },
         "mode": "lines",
         "text": "1.0",
         "type": "scatter",
         "x": [
          0.4152404281918263,
          0.17192888814352225
         ],
         "y": [
          0.3261041426820075,
          -0.4447705166163436
         ]
        },
        {
         "hoverinfo": "text",
         "line": {
          "color": "rgba(128, 128, 128, 0.1)",
          "width": 1
         },
         "mode": "lines",
         "text": "0.2",
         "type": "scatter",
         "x": [
          0.4152404281918263,
          0.9532683662972562
         ],
         "y": [
          0.3261041426820075,
          0.2902557824658834
         ]
        },
        {
         "hoverinfo": "text",
         "line": {
          "color": "rgba(128, 128, 128, 0.1)",
          "width": 1
         },
         "mode": "lines",
         "text": "1.0",
         "type": "scatter",
         "x": [
          0.4152404281918263,
          -0.8884686789090365
         ],
         "y": [
          0.3261041426820075,
          -0.31069767497084494
         ]
        },
        {
         "hoverinfo": "text",
         "line": {
          "color": "rgba(128, 128, 128, 0.1)",
          "width": 1
         },
         "mode": "lines",
         "text": "1.0",
         "type": "scatter",
         "x": [
          0.4152404281918263,
          -0.33280924839566023
         ],
         "y": [
          0.3261041426820075,
          -0.5065195179912579
         ]
        },
        {
         "hoverinfo": "text",
         "line": {
          "color": "rgba(128, 128, 128, 0.1)",
          "width": 1
         },
         "mode": "lines",
         "text": "1.0",
         "type": "scatter",
         "x": [
          0.4152404281918263,
          -0.015856194826003367
         ],
         "y": [
          0.3261041426820075,
          0.11145031512701231
         ]
        },
        {
         "hoverinfo": "text",
         "line": {
          "color": "rgba(128, 128, 128, 0.1)",
          "width": 1
         },
         "mode": "lines",
         "text": "1.0",
         "type": "scatter",
         "x": [
          0.4152404281918263,
          -0.1953259850843532
         ],
         "y": [
          0.3261041426820075,
          0.3518955956777661
         ]
        },
        {
         "hoverinfo": "text",
         "line": {
          "color": "rgba(128, 128, 128, 0.1)",
          "width": 1
         },
         "mode": "lines",
         "text": "0.1111111111111111",
         "type": "scatter",
         "x": [
          0.4152404281918263,
          0.029357573635267073
         ],
         "y": [
          0.3261041426820075,
          -0.9111388969932189
         ]
        },
        {
         "hoverinfo": "text",
         "line": {
          "color": "rgba(128, 128, 128, 0.1)",
          "width": 1
         },
         "mode": "lines",
         "text": "1.0",
         "type": "scatter",
         "x": [
          0.4152404281918263,
          -0.01919280536162062
         ],
         "y": [
          0.3261041426820075,
          -0.6521212445085668
         ]
        },
        {
         "hoverinfo": "text",
         "line": {
          "color": "rgba(128, 128, 128, 0.1)",
          "width": 1
         },
         "mode": "lines",
         "text": "0.14285714285714285",
         "type": "scatter",
         "x": [
          0.4152404281918263,
          -0.10911439248384298
         ],
         "y": [
          0.3261041426820075,
          0.7578267516911958
         ]
        },
        {
         "hoverinfo": "text",
         "line": {
          "color": "rgba(128, 128, 128, 0.1)",
          "width": 1
         },
         "mode": "lines",
         "text": "0.14285714285714285",
         "type": "scatter",
         "x": [
          0.4152404281918263,
          0.6999593653183844
         ],
         "y": [
          0.3261041426820075,
          0.34086743938130765
         ]
        },
        {
         "hoverinfo": "text",
         "line": {
          "color": "rgba(128, 128, 128, 0.1)",
          "width": 1
         },
         "mode": "lines",
         "text": "1.0",
         "type": "scatter",
         "x": [
          0.4152404281918263,
          -0.7711438777564555
         ],
         "y": [
          0.3261041426820075,
          0.5446514515452328
         ]
        },
        {
         "hoverinfo": "text",
         "line": {
          "color": "rgba(128, 128, 128, 0.1)",
          "width": 1
         },
         "mode": "lines",
         "text": "1.0",
         "type": "scatter",
         "x": [
          0.4152404281918263,
          0.9159172652301071
         ],
         "y": [
          0.3261041426820075,
          -0.2876278366482088
         ]
        },
        {
         "hoverinfo": "text",
         "line": {
          "color": "rgba(128, 128, 128, 0.1)",
          "width": 1
         },
         "mode": "lines",
         "text": "0.3333333333333333",
         "type": "scatter",
         "x": [
          0.4152404281918263,
          0.3042346205107624
         ],
         "y": [
          0.3261041426820075,
          -0.21400329594720793
         ]
        },
        {
         "hoverinfo": "text",
         "line": {
          "color": "rgba(128, 128, 128, 0.1)",
          "width": 1
         },
         "mode": "lines",
         "text": "1.0",
         "type": "scatter",
         "x": [
          0.4152404281918263,
          0.7925432626107755
         ],
         "y": [
          0.3261041426820075,
          0.5855468854554127
         ]
        },
        {
         "hoverinfo": "text",
         "line": {
          "color": "rgba(128, 128, 128, 0.1)",
          "width": 1
         },
         "mode": "lines",
         "text": "0.3333333333333333",
         "type": "scatter",
         "x": [
          0.4152404281918263,
          -0.52981302729874
         ],
         "y": [
          0.3261041426820075,
          -0.26861457638885444
         ]
        },
        {
         "hoverinfo": "text",
         "line": {
          "color": "rgba(128, 128, 128, 0.1)",
          "width": 1
         },
         "mode": "lines",
         "text": "1.0",
         "type": "scatter",
         "x": [
          0.4152404281918263,
          -0.6047526130559822
         ],
         "y": [
          0.3261041426820075,
          0.7655665975288818
         ]
        },
        {
         "hoverinfo": "text",
         "line": {
          "color": "rgba(128, 128, 128, 0.1)",
          "width": 1
         },
         "mode": "lines",
         "text": "1.0",
         "type": "scatter",
         "x": [
          0.4152404281918263,
          0.6074389952577244
         ],
         "y": [
          0.3261041426820075,
          -0.12243029093157637
         ]
        },
        {
         "hoverinfo": "text",
         "line": {
          "color": "rgba(128, 128, 128, 0.1)",
          "width": 1
         },
         "mode": "lines",
         "text": "1.0",
         "type": "scatter",
         "x": [
          0.4152404281918263,
          -0.918938735340811
         ],
         "y": [
          0.3261041426820075,
          0.29892269802325433
         ]
        },
        {
         "hoverinfo": "text",
         "line": {
          "color": "rgba(128, 128, 128, 0.1)",
          "width": 1
         },
         "mode": "lines",
         "text": "1.0",
         "type": "scatter",
         "x": [
          0.4152404281918263,
          -0.39369798424770713
         ],
         "y": [
          0.3261041426820075,
          0.1564690190913819
         ]
        },
        {
         "hoverinfo": "text",
         "line": {
          "color": "rgba(128, 128, 128, 0.1)",
          "width": 1
         },
         "mode": "lines",
         "text": "0.14285714285714285",
         "type": "scatter",
         "x": [
          0.4152404281918263,
          -0.4965138359262507
         ],
         "y": [
          0.3261041426820075,
          0.5147073335073147
         ]
        },
        {
         "hoverinfo": "text",
         "line": {
          "color": "rgba(128, 128, 128, 0.1)",
          "width": 1
         },
         "mode": "lines",
         "text": "1.0",
         "type": "scatter",
         "x": [
          0.4152404281918263,
          -0.7047942282637657
         ],
         "y": [
          0.3261041426820075,
          0.05639581663858665
         ]
        },
        {
         "hoverinfo": "text",
         "line": {
          "color": "rgba(128, 128, 128, 0.1)",
          "width": 1
         },
         "mode": "lines",
         "text": "0.08333333333333333",
         "type": "scatter",
         "x": [
          0.4152404281918263,
          0.22697673177044278
         ],
         "y": [
          0.3261041426820075,
          -0.8456600770640139
         ]
        },
        {
         "hoverinfo": "text",
         "line": {
          "color": "rgba(128, 128, 128, 0.1)",
          "width": 1
         },
         "mode": "lines",
         "text": "0.16666666666666666",
         "type": "scatter",
         "x": [
          0.4152404281918263,
          0.17107928195038022
         ],
         "y": [
          0.3261041426820075,
          0.7959403993931851
         ]
        },
        {
         "hoverinfo": "text",
         "line": {
          "color": "rgba(128, 128, 128, 0.1)",
          "width": 1
         },
         "mode": "lines",
         "text": "0.125",
         "type": "scatter",
         "x": [
          0.4152404281918263,
          0.7198791291336225
         ],
         "y": [
          0.3261041426820075,
          -0.3555785138076284
         ]
        },
        {
         "hoverinfo": "text",
         "line": {
          "color": "rgba(128, 128, 128, 0.1)",
          "width": 1
         },
         "mode": "lines",
         "text": "1.0",
         "type": "scatter",
         "x": [
          0.4152404281918263,
          0.07592479646616518
         ],
         "y": [
          0.3261041426820075,
          0.5489404396993625
         ]
        },
        {
         "hoverinfo": "text",
         "line": {
          "color": "rgba(128, 128, 128, 0.1)",
          "width": 1
         },
         "mode": "lines",
         "text": "1.0",
         "type": "scatter",
         "x": [
          0.4152404281918263,
          -0.13240271109312432
         ],
         "y": [
          0.3261041426820075,
          -0.36406482848700933
         ]
        },
        {
         "hoverinfo": "text",
         "line": {
          "color": "rgba(128, 128, 128, 0.1)",
          "width": 1
         },
         "mode": "lines",
         "text": "1.0",
         "type": "scatter",
         "x": [
          0.4152404281918263,
          -1
         ],
         "y": [
          0.3261041426820075,
          0.006663047876623049
         ]
        },
        {
         "hoverinfo": "text",
         "line": {
          "color": "rgba(128, 128, 128, 0.1)",
          "width": 1
         },
         "mode": "lines",
         "text": "1.0",
         "type": "scatter",
         "x": [
          0.4152404281918263,
          0.40794135944224913
         ],
         "y": [
          0.3261041426820075,
          -0.5939736404506816
         ]
        },
        {
         "hoverinfo": "text",
         "line": {
          "color": "rgba(128, 128, 128, 0.1)",
          "width": 1
         },
         "mode": "lines",
         "text": "0.5",
         "type": "scatter",
         "x": [
          0.4152404281918263,
          0.42727580252097486
         ],
         "y": [
          0.3261041426820075,
          -0.8147374733359818
         ]
        },
        {
         "hoverinfo": "text",
         "line": {
          "color": "rgba(128, 128, 128, 0.1)",
          "width": 1
         },
         "mode": "lines",
         "text": "0.125",
         "type": "scatter",
         "x": [
          0.4152404281918263,
          -0.7464498563171527
         ],
         "y": [
          0.3261041426820075,
          -0.15240867563536542
         ]
        },
        {
         "hoverinfo": "text",
         "line": {
          "color": "rgba(128, 128, 128, 0.1)",
          "width": 1
         },
         "mode": "lines",
         "text": "1.0",
         "type": "scatter",
         "x": [
          0.4152404281918263,
          0.42220986898347856
         ],
         "y": [
          0.3261041426820075,
          0.9443298132713931
         ]
        },
        {
         "hoverinfo": "text",
         "line": {
          "color": "rgba(128, 128, 128, 0.1)",
          "width": 1
         },
         "mode": "lines",
         "text": "1.0",
         "type": "scatter",
         "x": [
          0.4152404281918263,
          0.7213026942444919
         ],
         "y": [
          0.3261041426820075,
          -0.7028614856381851
         ]
        },
        {
         "hoverinfo": "text",
         "line": {
          "color": "rgba(128, 128, 128, 0.1)",
          "width": 1
         },
         "mode": "lines",
         "text": "1.0",
         "type": "scatter",
         "x": [
          0.4152404281918263,
          0.9131728451074601
         ],
         "y": [
          0.3261041426820075,
          -0.0786216846079524
         ]
        },
        {
         "hoverinfo": "text",
         "line": {
          "color": "rgba(128, 128, 128, 0.1)",
          "width": 1
         },
         "mode": "lines",
         "text": "1.0",
         "type": "scatter",
         "x": [
          0.4152404281918263,
          -0.02029748952421764
         ],
         "y": [
          0.3261041426820075,
          0.966511761384103
         ]
        },
        {
         "hoverinfo": "text",
         "line": {
          "color": "rgba(128, 128, 128, 0.1)",
          "width": 1
         },
         "mode": "lines",
         "text": "0.1111111111111111",
         "type": "scatter",
         "x": [
          0.4152404281918263,
          -0.3235081883111062
         ],
         "y": [
          0.3261041426820075,
          -0.08513015582825498
         ]
        },
        {
         "hoverinfo": "text",
         "line": {
          "color": "rgba(128, 128, 128, 0.1)",
          "width": 1
         },
         "mode": "lines",
         "text": "1.0",
         "type": "scatter",
         "x": [
          0.4152404281918263,
          0.05287296895782892
         ],
         "y": [
          0.3261041426820075,
          -0.09353267533807239
         ]
        },
        {
         "hoverinfo": "text",
         "line": {
          "color": "rgba(128, 128, 128, 0.1)",
          "width": 1
         },
         "mode": "lines",
         "text": "1.0",
         "type": "scatter",
         "x": [
          0.4152404281918263,
          -0.5645297566213534
         ],
         "y": [
          0.3261041426820075,
          -0.5714605612882918
         ]
        },
        {
         "hoverinfo": "text",
         "line": {
          "color": "rgba(128, 128, 128, 0.1)",
          "width": 1
         },
         "mode": "lines",
         "text": "0.1111111111111111",
         "type": "scatter",
         "x": [
          0.4152404281918263,
          -0.3131286416509119
         ],
         "y": [
          0.3261041426820075,
          0.597469912312249
         ]
        },
        {
         "hoverinfo": "text",
         "line": {
          "color": "rgba(128, 128, 128, 0.1)",
          "width": 1
         },
         "mode": "lines",
         "text": "1.0",
         "type": "scatter",
         "x": [
          0.5876073942509931,
          -0.5559910802111033
         ],
         "y": [
          -0.5008315944643879,
          -0.8220405900208866
         ]
        },
        {
         "hoverinfo": "text",
         "line": {
          "color": "rgba(128, 128, 128, 0.1)",
          "width": 1
         },
         "mode": "lines",
         "text": "1.0",
         "type": "scatter",
         "x": [
          0.5876073942509931,
          -0.6450334324398341
         ],
         "y": [
          -0.5008315944643879,
          0.27707889223447446
         ]
        },
        {
         "hoverinfo": "text",
         "line": {
          "color": "rgba(128, 128, 128, 0.1)",
          "width": 1
         },
         "mode": "lines",
         "text": "1.0",
         "type": "scatter",
         "x": [
          0.5876073942509931,
          0.41087781322486794
         ],
         "y": [
          -0.5008315944643879,
          0.0614320803326031
         ]
        },
        {
         "hoverinfo": "text",
         "line": {
          "color": "rgba(128, 128, 128, 0.1)",
          "width": 1
         },
         "mode": "lines",
         "text": "1.0",
         "type": "scatter",
         "x": [
          0.5876073942509931,
          -0.3660082442049612
         ],
         "y": [
          -0.5008315944643879,
          0.8678869100507792
         ]
        },
        {
         "hoverinfo": "text",
         "line": {
          "color": "rgba(128, 128, 128, 0.1)",
          "width": 1
         },
         "mode": "lines",
         "text": "1.0",
         "type": "scatter",
         "x": [
          0.5876073942509931,
          0.17192888814352225
         ],
         "y": [
          -0.5008315944643879,
          -0.4447705166163436
         ]
        },
        {
         "hoverinfo": "text",
         "line": {
          "color": "rgba(128, 128, 128, 0.1)",
          "width": 1
         },
         "mode": "lines",
         "text": "0.1111111111111111",
         "type": "scatter",
         "x": [
          0.5876073942509931,
          0.9532683662972562
         ],
         "y": [
          -0.5008315944643879,
          0.2902557824658834
         ]
        },
        {
         "hoverinfo": "text",
         "line": {
          "color": "rgba(128, 128, 128, 0.1)",
          "width": 1
         },
         "mode": "lines",
         "text": "1.0",
         "type": "scatter",
         "x": [
          0.5876073942509931,
          -0.8884686789090365
         ],
         "y": [
          -0.5008315944643879,
          -0.31069767497084494
         ]
        },
        {
         "hoverinfo": "text",
         "line": {
          "color": "rgba(128, 128, 128, 0.1)",
          "width": 1
         },
         "mode": "lines",
         "text": "1.0",
         "type": "scatter",
         "x": [
          0.5876073942509931,
          -0.33280924839566023
         ],
         "y": [
          -0.5008315944643879,
          -0.5065195179912579
         ]
        },
        {
         "hoverinfo": "text",
         "line": {
          "color": "rgba(128, 128, 128, 0.1)",
          "width": 1
         },
         "mode": "lines",
         "text": "1.0",
         "type": "scatter",
         "x": [
          0.5876073942509931,
          -0.015856194826003367
         ],
         "y": [
          -0.5008315944643879,
          0.11145031512701231
         ]
        },
        {
         "hoverinfo": "text",
         "line": {
          "color": "rgba(128, 128, 128, 0.1)",
          "width": 1
         },
         "mode": "lines",
         "text": "1.0",
         "type": "scatter",
         "x": [
          0.5876073942509931,
          -0.1953259850843532
         ],
         "y": [
          -0.5008315944643879,
          0.3518955956777661
         ]
        },
        {
         "hoverinfo": "text",
         "line": {
          "color": "rgba(128, 128, 128, 0.1)",
          "width": 1
         },
         "mode": "lines",
         "text": "0.1111111111111111",
         "type": "scatter",
         "x": [
          0.5876073942509931,
          0.029357573635267073
         ],
         "y": [
          -0.5008315944643879,
          -0.9111388969932189
         ]
        },
        {
         "hoverinfo": "text",
         "line": {
          "color": "rgba(128, 128, 128, 0.1)",
          "width": 1
         },
         "mode": "lines",
         "text": "1.0",
         "type": "scatter",
         "x": [
          0.5876073942509931,
          -0.01919280536162062
         ],
         "y": [
          -0.5008315944643879,
          -0.6521212445085668
         ]
        },
        {
         "hoverinfo": "text",
         "line": {
          "color": "rgba(128, 128, 128, 0.1)",
          "width": 1
         },
         "mode": "lines",
         "text": "1.0",
         "type": "scatter",
         "x": [
          0.5876073942509931,
          -0.10911439248384298
         ],
         "y": [
          -0.5008315944643879,
          0.7578267516911958
         ]
        },
        {
         "hoverinfo": "text",
         "line": {
          "color": "rgba(128, 128, 128, 0.1)",
          "width": 1
         },
         "mode": "lines",
         "text": "1.0",
         "type": "scatter",
         "x": [
          0.5876073942509931,
          0.6999593653183844
         ],
         "y": [
          -0.5008315944643879,
          0.34086743938130765
         ]
        },
        {
         "hoverinfo": "text",
         "line": {
          "color": "rgba(128, 128, 128, 0.1)",
          "width": 1
         },
         "mode": "lines",
         "text": "1.0",
         "type": "scatter",
         "x": [
          0.5876073942509931,
          -0.7711438777564555
         ],
         "y": [
          -0.5008315944643879,
          0.5446514515452328
         ]
        },
        {
         "hoverinfo": "text",
         "line": {
          "color": "rgba(128, 128, 128, 0.1)",
          "width": 1
         },
         "mode": "lines",
         "text": "1.0",
         "type": "scatter",
         "x": [
          0.5876073942509931,
          0.9159172652301071
         ],
         "y": [
          -0.5008315944643879,
          -0.2876278366482088
         ]
        },
        {
         "hoverinfo": "text",
         "line": {
          "color": "rgba(128, 128, 128, 0.1)",
          "width": 1
         },
         "mode": "lines",
         "text": "1.0",
         "type": "scatter",
         "x": [
          0.5876073942509931,
          0.3042346205107624
         ],
         "y": [
          -0.5008315944643879,
          -0.21400329594720793
         ]
        },
        {
         "hoverinfo": "text",
         "line": {
          "color": "rgba(128, 128, 128, 0.1)",
          "width": 1
         },
         "mode": "lines",
         "text": "1.0",
         "type": "scatter",
         "x": [
          0.5876073942509931,
          0.7925432626107755
         ],
         "y": [
          -0.5008315944643879,
          0.5855468854554127
         ]
        },
        {
         "hoverinfo": "text",
         "line": {
          "color": "rgba(128, 128, 128, 0.1)",
          "width": 1
         },
         "mode": "lines",
         "text": "1.0",
         "type": "scatter",
         "x": [
          0.5876073942509931,
          -0.52981302729874
         ],
         "y": [
          -0.5008315944643879,
          -0.26861457638885444
         ]
        },
        {
         "hoverinfo": "text",
         "line": {
          "color": "rgba(128, 128, 128, 0.1)",
          "width": 1
         },
         "mode": "lines",
         "text": "1.0",
         "type": "scatter",
         "x": [
          0.5876073942509931,
          -0.6047526130559822
         ],
         "y": [
          -0.5008315944643879,
          0.7655665975288818
         ]
        },
        {
         "hoverinfo": "text",
         "line": {
          "color": "rgba(128, 128, 128, 0.1)",
          "width": 1
         },
         "mode": "lines",
         "text": "1.0",
         "type": "scatter",
         "x": [
          0.5876073942509931,
          0.6074389952577244
         ],
         "y": [
          -0.5008315944643879,
          -0.12243029093157637
         ]
        },
        {
         "hoverinfo": "text",
         "line": {
          "color": "rgba(128, 128, 128, 0.1)",
          "width": 1
         },
         "mode": "lines",
         "text": "1.0",
         "type": "scatter",
         "x": [
          0.5876073942509931,
          -0.918938735340811
         ],
         "y": [
          -0.5008315944643879,
          0.29892269802325433
         ]
        },
        {
         "hoverinfo": "text",
         "line": {
          "color": "rgba(128, 128, 128, 0.1)",
          "width": 1
         },
         "mode": "lines",
         "text": "1.0",
         "type": "scatter",
         "x": [
          0.5876073942509931,
          -0.39369798424770713
         ],
         "y": [
          -0.5008315944643879,
          0.1564690190913819
         ]
        },
        {
         "hoverinfo": "text",
         "line": {
          "color": "rgba(128, 128, 128, 0.1)",
          "width": 1
         },
         "mode": "lines",
         "text": "1.0",
         "type": "scatter",
         "x": [
          0.5876073942509931,
          -0.4965138359262507
         ],
         "y": [
          -0.5008315944643879,
          0.5147073335073147
         ]
        },
        {
         "hoverinfo": "text",
         "line": {
          "color": "rgba(128, 128, 128, 0.1)",
          "width": 1
         },
         "mode": "lines",
         "text": "1.0",
         "type": "scatter",
         "x": [
          0.5876073942509931,
          -0.7047942282637657
         ],
         "y": [
          -0.5008315944643879,
          0.05639581663858665
         ]
        },
        {
         "hoverinfo": "text",
         "line": {
          "color": "rgba(128, 128, 128, 0.1)",
          "width": 1
         },
         "mode": "lines",
         "text": "0.08333333333333333",
         "type": "scatter",
         "x": [
          0.5876073942509931,
          0.22697673177044278
         ],
         "y": [
          -0.5008315944643879,
          -0.8456600770640139
         ]
        },
        {
         "hoverinfo": "text",
         "line": {
          "color": "rgba(128, 128, 128, 0.1)",
          "width": 1
         },
         "mode": "lines",
         "text": "0.5",
         "type": "scatter",
         "x": [
          0.5876073942509931,
          0.17107928195038022
         ],
         "y": [
          -0.5008315944643879,
          0.7959403993931851
         ]
        },
        {
         "hoverinfo": "text",
         "line": {
          "color": "rgba(128, 128, 128, 0.1)",
          "width": 1
         },
         "mode": "lines",
         "text": "0.125",
         "type": "scatter",
         "x": [
          0.5876073942509931,
          0.7198791291336225
         ],
         "y": [
          -0.5008315944643879,
          -0.3555785138076284
         ]
        },
        {
         "hoverinfo": "text",
         "line": {
          "color": "rgba(128, 128, 128, 0.1)",
          "width": 1
         },
         "mode": "lines",
         "text": "1.0",
         "type": "scatter",
         "x": [
          0.5876073942509931,
          0.07592479646616518
         ],
         "y": [
          -0.5008315944643879,
          0.5489404396993625
         ]
        },
        {
         "hoverinfo": "text",
         "line": {
          "color": "rgba(128, 128, 128, 0.1)",
          "width": 1
         },
         "mode": "lines",
         "text": "1.0",
         "type": "scatter",
         "x": [
          0.5876073942509931,
          -0.13240271109312432
         ],
         "y": [
          -0.5008315944643879,
          -0.36406482848700933
         ]
        },
        {
         "hoverinfo": "text",
         "line": {
          "color": "rgba(128, 128, 128, 0.1)",
          "width": 1
         },
         "mode": "lines",
         "text": "1.0",
         "type": "scatter",
         "x": [
          0.5876073942509931,
          -1
         ],
         "y": [
          -0.5008315944643879,
          0.006663047876623049
         ]
        },
        {
         "hoverinfo": "text",
         "line": {
          "color": "rgba(128, 128, 128, 0.1)",
          "width": 1
         },
         "mode": "lines",
         "text": "1.0",
         "type": "scatter",
         "x": [
          0.5876073942509931,
          0.40794135944224913
         ],
         "y": [
          -0.5008315944643879,
          -0.5939736404506816
         ]
        },
        {
         "hoverinfo": "text",
         "line": {
          "color": "rgba(128, 128, 128, 0.1)",
          "width": 1
         },
         "mode": "lines",
         "text": "0.5",
         "type": "scatter",
         "x": [
          0.5876073942509931,
          0.42727580252097486
         ],
         "y": [
          -0.5008315944643879,
          -0.8147374733359818
         ]
        },
        {
         "hoverinfo": "text",
         "line": {
          "color": "rgba(128, 128, 128, 0.1)",
          "width": 1
         },
         "mode": "lines",
         "text": "0.125",
         "type": "scatter",
         "x": [
          0.5876073942509931,
          -0.7464498563171527
         ],
         "y": [
          -0.5008315944643879,
          -0.15240867563536542
         ]
        },
        {
         "hoverinfo": "text",
         "line": {
          "color": "rgba(128, 128, 128, 0.1)",
          "width": 1
         },
         "mode": "lines",
         "text": "1.0",
         "type": "scatter",
         "x": [
          0.5876073942509931,
          0.42220986898347856
         ],
         "y": [
          -0.5008315944643879,
          0.9443298132713931
         ]
        },
        {
         "hoverinfo": "text",
         "line": {
          "color": "rgba(128, 128, 128, 0.1)",
          "width": 1
         },
         "mode": "lines",
         "text": "1.0",
         "type": "scatter",
         "x": [
          0.5876073942509931,
          0.7213026942444919
         ],
         "y": [
          -0.5008315944643879,
          -0.7028614856381851
         ]
        },
        {
         "hoverinfo": "text",
         "line": {
          "color": "rgba(128, 128, 128, 0.1)",
          "width": 1
         },
         "mode": "lines",
         "text": "1.0",
         "type": "scatter",
         "x": [
          0.5876073942509931,
          0.9131728451074601
         ],
         "y": [
          -0.5008315944643879,
          -0.0786216846079524
         ]
        },
        {
         "hoverinfo": "text",
         "line": {
          "color": "rgba(128, 128, 128, 0.1)",
          "width": 1
         },
         "mode": "lines",
         "text": "1.0",
         "type": "scatter",
         "x": [
          0.5876073942509931,
          -0.02029748952421764
         ],
         "y": [
          -0.5008315944643879,
          0.966511761384103
         ]
        },
        {
         "hoverinfo": "text",
         "line": {
          "color": "rgba(128, 128, 128, 0.1)",
          "width": 1
         },
         "mode": "lines",
         "text": "0.1111111111111111",
         "type": "scatter",
         "x": [
          0.5876073942509931,
          -0.3235081883111062
         ],
         "y": [
          -0.5008315944643879,
          -0.08513015582825498
         ]
        },
        {
         "hoverinfo": "text",
         "line": {
          "color": "rgba(128, 128, 128, 0.1)",
          "width": 1
         },
         "mode": "lines",
         "text": "1.0",
         "type": "scatter",
         "x": [
          0.5876073942509931,
          0.05287296895782892
         ],
         "y": [
          -0.5008315944643879,
          -0.09353267533807239
         ]
        },
        {
         "hoverinfo": "text",
         "line": {
          "color": "rgba(128, 128, 128, 0.1)",
          "width": 1
         },
         "mode": "lines",
         "text": "1.0",
         "type": "scatter",
         "x": [
          0.5876073942509931,
          -0.5645297566213534
         ],
         "y": [
          -0.5008315944643879,
          -0.5714605612882918
         ]
        },
        {
         "hoverinfo": "text",
         "line": {
          "color": "rgba(128, 128, 128, 0.1)",
          "width": 1
         },
         "mode": "lines",
         "text": "0.1111111111111111",
         "type": "scatter",
         "x": [
          0.5876073942509931,
          -0.3131286416509119
         ],
         "y": [
          -0.5008315944643879,
          0.597469912312249
         ]
        },
        {
         "hoverinfo": "text",
         "line": {
          "color": "rgba(128, 128, 128, 0.1)",
          "width": 1
         },
         "mode": "lines",
         "text": "1.0",
         "type": "scatter",
         "x": [
          -0.5559910802111033,
          -0.6450334324398341
         ],
         "y": [
          -0.8220405900208866,
          0.27707889223447446
         ]
        },
        {
         "hoverinfo": "text",
         "line": {
          "color": "rgba(128, 128, 128, 0.1)",
          "width": 1
         },
         "mode": "lines",
         "text": "1.0",
         "type": "scatter",
         "x": [
          -0.5559910802111033,
          0.41087781322486794
         ],
         "y": [
          -0.8220405900208866,
          0.0614320803326031
         ]
        },
        {
         "hoverinfo": "text",
         "line": {
          "color": "rgba(128, 128, 128, 0.1)",
          "width": 1
         },
         "mode": "lines",
         "text": "1.0",
         "type": "scatter",
         "x": [
          -0.5559910802111033,
          -0.3660082442049612
         ],
         "y": [
          -0.8220405900208866,
          0.8678869100507792
         ]
        },
        {
         "hoverinfo": "text",
         "line": {
          "color": "rgba(128, 128, 128, 0.1)",
          "width": 1
         },
         "mode": "lines",
         "text": "1.0",
         "type": "scatter",
         "x": [
          -0.5559910802111033,
          0.17192888814352225
         ],
         "y": [
          -0.8220405900208866,
          -0.4447705166163436
         ]
        },
        {
         "hoverinfo": "text",
         "line": {
          "color": "rgba(128, 128, 128, 0.1)",
          "width": 1
         },
         "mode": "lines",
         "text": "1.0",
         "type": "scatter",
         "x": [
          -0.5559910802111033,
          0.9532683662972562
         ],
         "y": [
          -0.8220405900208866,
          0.2902557824658834
         ]
        },
        {
         "hoverinfo": "text",
         "line": {
          "color": "rgba(128, 128, 128, 0.1)",
          "width": 1
         },
         "mode": "lines",
         "text": "1.0",
         "type": "scatter",
         "x": [
          -0.5559910802111033,
          -0.8884686789090365
         ],
         "y": [
          -0.8220405900208866,
          -0.31069767497084494
         ]
        },
        {
         "hoverinfo": "text",
         "line": {
          "color": "rgba(128, 128, 128, 0.1)",
          "width": 1
         },
         "mode": "lines",
         "text": "1.0",
         "type": "scatter",
         "x": [
          -0.5559910802111033,
          -0.33280924839566023
         ],
         "y": [
          -0.8220405900208866,
          -0.5065195179912579
         ]
        },
        {
         "hoverinfo": "text",
         "line": {
          "color": "rgba(128, 128, 128, 0.1)",
          "width": 1
         },
         "mode": "lines",
         "text": "1.0",
         "type": "scatter",
         "x": [
          -0.5559910802111033,
          -0.015856194826003367
         ],
         "y": [
          -0.8220405900208866,
          0.11145031512701231
         ]
        },
        {
         "hoverinfo": "text",
         "line": {
          "color": "rgba(128, 128, 128, 0.1)",
          "width": 1
         },
         "mode": "lines",
         "text": "1.0",
         "type": "scatter",
         "x": [
          -0.5559910802111033,
          -0.1953259850843532
         ],
         "y": [
          -0.8220405900208866,
          0.3518955956777661
         ]
        },
        {
         "hoverinfo": "text",
         "line": {
          "color": "rgba(128, 128, 128, 0.1)",
          "width": 1
         },
         "mode": "lines",
         "text": "0.1111111111111111",
         "type": "scatter",
         "x": [
          -0.5559910802111033,
          0.029357573635267073
         ],
         "y": [
          -0.8220405900208866,
          -0.9111388969932189
         ]
        },
        {
         "hoverinfo": "text",
         "line": {
          "color": "rgba(128, 128, 128, 0.1)",
          "width": 1
         },
         "mode": "lines",
         "text": "1.0",
         "type": "scatter",
         "x": [
          -0.5559910802111033,
          -0.01919280536162062
         ],
         "y": [
          -0.8220405900208866,
          -0.6521212445085668
         ]
        },
        {
         "hoverinfo": "text",
         "line": {
          "color": "rgba(128, 128, 128, 0.1)",
          "width": 1
         },
         "mode": "lines",
         "text": "1.0",
         "type": "scatter",
         "x": [
          -0.5559910802111033,
          -0.10911439248384298
         ],
         "y": [
          -0.8220405900208866,
          0.7578267516911958
         ]
        },
        {
         "hoverinfo": "text",
         "line": {
          "color": "rgba(128, 128, 128, 0.1)",
          "width": 1
         },
         "mode": "lines",
         "text": "1.0",
         "type": "scatter",
         "x": [
          -0.5559910802111033,
          0.6999593653183844
         ],
         "y": [
          -0.8220405900208866,
          0.34086743938130765
         ]
        },
        {
         "hoverinfo": "text",
         "line": {
          "color": "rgba(128, 128, 128, 0.1)",
          "width": 1
         },
         "mode": "lines",
         "text": "1.0",
         "type": "scatter",
         "x": [
          -0.5559910802111033,
          -0.7711438777564555
         ],
         "y": [
          -0.8220405900208866,
          0.5446514515452328
         ]
        },
        {
         "hoverinfo": "text",
         "line": {
          "color": "rgba(128, 128, 128, 0.1)",
          "width": 1
         },
         "mode": "lines",
         "text": "1.0",
         "type": "scatter",
         "x": [
          -0.5559910802111033,
          0.9159172652301071
         ],
         "y": [
          -0.8220405900208866,
          -0.2876278366482088
         ]
        },
        {
         "hoverinfo": "text",
         "line": {
          "color": "rgba(128, 128, 128, 0.1)",
          "width": 1
         },
         "mode": "lines",
         "text": "0.3333333333333333",
         "type": "scatter",
         "x": [
          -0.5559910802111033,
          0.3042346205107624
         ],
         "y": [
          -0.8220405900208866,
          -0.21400329594720793
         ]
        },
        {
         "hoverinfo": "text",
         "line": {
          "color": "rgba(128, 128, 128, 0.1)",
          "width": 1
         },
         "mode": "lines",
         "text": "0.14285714285714285",
         "type": "scatter",
         "x": [
          -0.5559910802111033,
          0.7925432626107755
         ],
         "y": [
          -0.8220405900208866,
          0.5855468854554127
         ]
        },
        {
         "hoverinfo": "text",
         "line": {
          "color": "rgba(128, 128, 128, 0.1)",
          "width": 1
         },
         "mode": "lines",
         "text": "1.0",
         "type": "scatter",
         "x": [
          -0.5559910802111033,
          -0.52981302729874
         ],
         "y": [
          -0.8220405900208866,
          -0.26861457638885444
         ]
        },
        {
         "hoverinfo": "text",
         "line": {
          "color": "rgba(128, 128, 128, 0.1)",
          "width": 1
         },
         "mode": "lines",
         "text": "1.0",
         "type": "scatter",
         "x": [
          -0.5559910802111033,
          -0.6047526130559822
         ],
         "y": [
          -0.8220405900208866,
          0.7655665975288818
         ]
        },
        {
         "hoverinfo": "text",
         "line": {
          "color": "rgba(128, 128, 128, 0.1)",
          "width": 1
         },
         "mode": "lines",
         "text": "1.0",
         "type": "scatter",
         "x": [
          -0.5559910802111033,
          0.6074389952577244
         ],
         "y": [
          -0.8220405900208866,
          -0.12243029093157637
         ]
        },
        {
         "hoverinfo": "text",
         "line": {
          "color": "rgba(128, 128, 128, 0.1)",
          "width": 1
         },
         "mode": "lines",
         "text": "1.0",
         "type": "scatter",
         "x": [
          -0.5559910802111033,
          -0.918938735340811
         ],
         "y": [
          -0.8220405900208866,
          0.29892269802325433
         ]
        },
        {
         "hoverinfo": "text",
         "line": {
          "color": "rgba(128, 128, 128, 0.1)",
          "width": 1
         },
         "mode": "lines",
         "text": "1.0",
         "type": "scatter",
         "x": [
          -0.5559910802111033,
          -0.39369798424770713
         ],
         "y": [
          -0.8220405900208866,
          0.1564690190913819
         ]
        },
        {
         "hoverinfo": "text",
         "line": {
          "color": "rgba(128, 128, 128, 0.1)",
          "width": 1
         },
         "mode": "lines",
         "text": "1.0",
         "type": "scatter",
         "x": [
          -0.5559910802111033,
          -0.4965138359262507
         ],
         "y": [
          -0.8220405900208866,
          0.5147073335073147
         ]
        },
        {
         "hoverinfo": "text",
         "line": {
          "color": "rgba(128, 128, 128, 0.1)",
          "width": 1
         },
         "mode": "lines",
         "text": "1.0",
         "type": "scatter",
         "x": [
          -0.5559910802111033,
          -0.7047942282637657
         ],
         "y": [
          -0.8220405900208866,
          0.05639581663858665
         ]
        },
        {
         "hoverinfo": "text",
         "line": {
          "color": "rgba(128, 128, 128, 0.1)",
          "width": 1
         },
         "mode": "lines",
         "text": "0.07142857142857142",
         "type": "scatter",
         "x": [
          -0.5559910802111033,
          0.22697673177044278
         ],
         "y": [
          -0.8220405900208866,
          -0.8456600770640139
         ]
        },
        {
         "hoverinfo": "text",
         "line": {
          "color": "rgba(128, 128, 128, 0.1)",
          "width": 1
         },
         "mode": "lines",
         "text": "0.5",
         "type": "scatter",
         "x": [
          -0.5559910802111033,
          0.17107928195038022
         ],
         "y": [
          -0.8220405900208866,
          0.7959403993931851
         ]
        },
        {
         "hoverinfo": "text",
         "line": {
          "color": "rgba(128, 128, 128, 0.1)",
          "width": 1
         },
         "mode": "lines",
         "text": "0.125",
         "type": "scatter",
         "x": [
          -0.5559910802111033,
          0.7198791291336225
         ],
         "y": [
          -0.8220405900208866,
          -0.3555785138076284
         ]
        },
        {
         "hoverinfo": "text",
         "line": {
          "color": "rgba(128, 128, 128, 0.1)",
          "width": 1
         },
         "mode": "lines",
         "text": "1.0",
         "type": "scatter",
         "x": [
          -0.5559910802111033,
          0.07592479646616518
         ],
         "y": [
          -0.8220405900208866,
          0.5489404396993625
         ]
        },
        {
         "hoverinfo": "text",
         "line": {
          "color": "rgba(128, 128, 128, 0.1)",
          "width": 1
         },
         "mode": "lines",
         "text": "1.0",
         "type": "scatter",
         "x": [
          -0.5559910802111033,
          -0.13240271109312432
         ],
         "y": [
          -0.8220405900208866,
          -0.36406482848700933
         ]
        },
        {
         "hoverinfo": "text",
         "line": {
          "color": "rgba(128, 128, 128, 0.1)",
          "width": 1
         },
         "mode": "lines",
         "text": "1.0",
         "type": "scatter",
         "x": [
          -0.5559910802111033,
          -1
         ],
         "y": [
          -0.8220405900208866,
          0.006663047876623049
         ]
        },
        {
         "hoverinfo": "text",
         "line": {
          "color": "rgba(128, 128, 128, 0.1)",
          "width": 1
         },
         "mode": "lines",
         "text": "1.0",
         "type": "scatter",
         "x": [
          -0.5559910802111033,
          0.40794135944224913
         ],
         "y": [
          -0.8220405900208866,
          -0.5939736404506816
         ]
        },
        {
         "hoverinfo": "text",
         "line": {
          "color": "rgba(128, 128, 128, 0.1)",
          "width": 1
         },
         "mode": "lines",
         "text": "0.5",
         "type": "scatter",
         "x": [
          -0.5559910802111033,
          0.42727580252097486
         ],
         "y": [
          -0.8220405900208866,
          -0.8147374733359818
         ]
        },
        {
         "hoverinfo": "text",
         "line": {
          "color": "rgba(128, 128, 128, 0.1)",
          "width": 1
         },
         "mode": "lines",
         "text": "0.125",
         "type": "scatter",
         "x": [
          -0.5559910802111033,
          -0.7464498563171527
         ],
         "y": [
          -0.8220405900208866,
          -0.15240867563536542
         ]
        },
        {
         "hoverinfo": "text",
         "line": {
          "color": "rgba(128, 128, 128, 0.1)",
          "width": 1
         },
         "mode": "lines",
         "text": "1.0",
         "type": "scatter",
         "x": [
          -0.5559910802111033,
          0.42220986898347856
         ],
         "y": [
          -0.8220405900208866,
          0.9443298132713931
         ]
        },
        {
         "hoverinfo": "text",
         "line": {
          "color": "rgba(128, 128, 128, 0.1)",
          "width": 1
         },
         "mode": "lines",
         "text": "1.0",
         "type": "scatter",
         "x": [
          -0.5559910802111033,
          0.7213026942444919
         ],
         "y": [
          -0.8220405900208866,
          -0.7028614856381851
         ]
        },
        {
         "hoverinfo": "text",
         "line": {
          "color": "rgba(128, 128, 128, 0.1)",
          "width": 1
         },
         "mode": "lines",
         "text": "0.1111111111111111",
         "type": "scatter",
         "x": [
          -0.5559910802111033,
          0.9131728451074601
         ],
         "y": [
          -0.8220405900208866,
          -0.0786216846079524
         ]
        },
        {
         "hoverinfo": "text",
         "line": {
          "color": "rgba(128, 128, 128, 0.1)",
          "width": 1
         },
         "mode": "lines",
         "text": "1.0",
         "type": "scatter",
         "x": [
          -0.5559910802111033,
          -0.02029748952421764
         ],
         "y": [
          -0.8220405900208866,
          0.966511761384103
         ]
        },
        {
         "hoverinfo": "text",
         "line": {
          "color": "rgba(128, 128, 128, 0.1)",
          "width": 1
         },
         "mode": "lines",
         "text": "0.1111111111111111",
         "type": "scatter",
         "x": [
          -0.5559910802111033,
          -0.3235081883111062
         ],
         "y": [
          -0.8220405900208866,
          -0.08513015582825498
         ]
        },
        {
         "hoverinfo": "text",
         "line": {
          "color": "rgba(128, 128, 128, 0.1)",
          "width": 1
         },
         "mode": "lines",
         "text": "1.0",
         "type": "scatter",
         "x": [
          -0.5559910802111033,
          0.05287296895782892
         ],
         "y": [
          -0.8220405900208866,
          -0.09353267533807239
         ]
        },
        {
         "hoverinfo": "text",
         "line": {
          "color": "rgba(128, 128, 128, 0.1)",
          "width": 1
         },
         "mode": "lines",
         "text": "1.0",
         "type": "scatter",
         "x": [
          -0.5559910802111033,
          -0.5645297566213534
         ],
         "y": [
          -0.8220405900208866,
          -0.5714605612882918
         ]
        },
        {
         "hoverinfo": "text",
         "line": {
          "color": "rgba(128, 128, 128, 0.1)",
          "width": 1
         },
         "mode": "lines",
         "text": "0.1111111111111111",
         "type": "scatter",
         "x": [
          -0.5559910802111033,
          -0.3131286416509119
         ],
         "y": [
          -0.8220405900208866,
          0.597469912312249
         ]
        },
        {
         "hoverinfo": "text",
         "line": {
          "color": "rgba(128, 128, 128, 0.1)",
          "width": 1
         },
         "mode": "lines",
         "text": "1.0",
         "type": "scatter",
         "x": [
          -0.6450334324398341,
          0.41087781322486794
         ],
         "y": [
          0.27707889223447446,
          0.0614320803326031
         ]
        },
        {
         "hoverinfo": "text",
         "line": {
          "color": "rgba(128, 128, 128, 0.1)",
          "width": 1
         },
         "mode": "lines",
         "text": "1.0",
         "type": "scatter",
         "x": [
          -0.6450334324398341,
          -0.3660082442049612
         ],
         "y": [
          0.27707889223447446,
          0.8678869100507792
         ]
        },
        {
         "hoverinfo": "text",
         "line": {
          "color": "rgba(128, 128, 128, 0.1)",
          "width": 1
         },
         "mode": "lines",
         "text": "1.0",
         "type": "scatter",
         "x": [
          -0.6450334324398341,
          0.17192888814352225
         ],
         "y": [
          0.27707889223447446,
          -0.4447705166163436
         ]
        },
        {
         "hoverinfo": "text",
         "line": {
          "color": "rgba(128, 128, 128, 0.1)",
          "width": 1
         },
         "mode": "lines",
         "text": "1.0",
         "type": "scatter",
         "x": [
          -0.6450334324398341,
          0.9532683662972562
         ],
         "y": [
          0.27707889223447446,
          0.2902557824658834
         ]
        },
        {
         "hoverinfo": "text",
         "line": {
          "color": "rgba(128, 128, 128, 0.1)",
          "width": 1
         },
         "mode": "lines",
         "text": "1.0",
         "type": "scatter",
         "x": [
          -0.6450334324398341,
          -0.8884686789090365
         ],
         "y": [
          0.27707889223447446,
          -0.31069767497084494
         ]
        },
        {
         "hoverinfo": "text",
         "line": {
          "color": "rgba(128, 128, 128, 0.1)",
          "width": 1
         },
         "mode": "lines",
         "text": "1.0",
         "type": "scatter",
         "x": [
          -0.6450334324398341,
          -0.33280924839566023
         ],
         "y": [
          0.27707889223447446,
          -0.5065195179912579
         ]
        },
        {
         "hoverinfo": "text",
         "line": {
          "color": "rgba(128, 128, 128, 0.1)",
          "width": 1
         },
         "mode": "lines",
         "text": "1.0",
         "type": "scatter",
         "x": [
          -0.6450334324398341,
          -0.015856194826003367
         ],
         "y": [
          0.27707889223447446,
          0.11145031512701231
         ]
        },
        {
         "hoverinfo": "text",
         "line": {
          "color": "rgba(128, 128, 128, 0.1)",
          "width": 1
         },
         "mode": "lines",
         "text": "1.0",
         "type": "scatter",
         "x": [
          -0.6450334324398341,
          -0.1953259850843532
         ],
         "y": [
          0.27707889223447446,
          0.3518955956777661
         ]
        },
        {
         "hoverinfo": "text",
         "line": {
          "color": "rgba(128, 128, 128, 0.1)",
          "width": 1
         },
         "mode": "lines",
         "text": "0.1111111111111111",
         "type": "scatter",
         "x": [
          -0.6450334324398341,
          0.029357573635267073
         ],
         "y": [
          0.27707889223447446,
          -0.9111388969932189
         ]
        },
        {
         "hoverinfo": "text",
         "line": {
          "color": "rgba(128, 128, 128, 0.1)",
          "width": 1
         },
         "mode": "lines",
         "text": "1.0",
         "type": "scatter",
         "x": [
          -0.6450334324398341,
          -0.01919280536162062
         ],
         "y": [
          0.27707889223447446,
          -0.6521212445085668
         ]
        },
        {
         "hoverinfo": "text",
         "line": {
          "color": "rgba(128, 128, 128, 0.1)",
          "width": 1
         },
         "mode": "lines",
         "text": "1.0",
         "type": "scatter",
         "x": [
          -0.6450334324398341,
          -0.10911439248384298
         ],
         "y": [
          0.27707889223447446,
          0.7578267516911958
         ]
        },
        {
         "hoverinfo": "text",
         "line": {
          "color": "rgba(128, 128, 128, 0.1)",
          "width": 1
         },
         "mode": "lines",
         "text": "1.0",
         "type": "scatter",
         "x": [
          -0.6450334324398341,
          0.6999593653183844
         ],
         "y": [
          0.27707889223447446,
          0.34086743938130765
         ]
        },
        {
         "hoverinfo": "text",
         "line": {
          "color": "rgba(128, 128, 128, 0.1)",
          "width": 1
         },
         "mode": "lines",
         "text": "1.0",
         "type": "scatter",
         "x": [
          -0.6450334324398341,
          -0.7711438777564555
         ],
         "y": [
          0.27707889223447446,
          0.5446514515452328
         ]
        },
        {
         "hoverinfo": "text",
         "line": {
          "color": "rgba(128, 128, 128, 0.1)",
          "width": 1
         },
         "mode": "lines",
         "text": "1.0",
         "type": "scatter",
         "x": [
          -0.6450334324398341,
          0.9159172652301071
         ],
         "y": [
          0.27707889223447446,
          -0.2876278366482088
         ]
        },
        {
         "hoverinfo": "text",
         "line": {
          "color": "rgba(128, 128, 128, 0.1)",
          "width": 1
         },
         "mode": "lines",
         "text": "0.3333333333333333",
         "type": "scatter",
         "x": [
          -0.6450334324398341,
          0.3042346205107624
         ],
         "y": [
          0.27707889223447446,
          -0.21400329594720793
         ]
        },
        {
         "hoverinfo": "text",
         "line": {
          "color": "rgba(128, 128, 128, 0.1)",
          "width": 1
         },
         "mode": "lines",
         "text": "0.14285714285714285",
         "type": "scatter",
         "x": [
          -0.6450334324398341,
          0.7925432626107755
         ],
         "y": [
          0.27707889223447446,
          0.5855468854554127
         ]
        },
        {
         "hoverinfo": "text",
         "line": {
          "color": "rgba(128, 128, 128, 0.1)",
          "width": 1
         },
         "mode": "lines",
         "text": "1.0",
         "type": "scatter",
         "x": [
          -0.6450334324398341,
          -0.52981302729874
         ],
         "y": [
          0.27707889223447446,
          -0.26861457638885444
         ]
        },
        {
         "hoverinfo": "text",
         "line": {
          "color": "rgba(128, 128, 128, 0.1)",
          "width": 1
         },
         "mode": "lines",
         "text": "1.0",
         "type": "scatter",
         "x": [
          -0.6450334324398341,
          -0.6047526130559822
         ],
         "y": [
          0.27707889223447446,
          0.7655665975288818
         ]
        },
        {
         "hoverinfo": "text",
         "line": {
          "color": "rgba(128, 128, 128, 0.1)",
          "width": 1
         },
         "mode": "lines",
         "text": "1.0",
         "type": "scatter",
         "x": [
          -0.6450334324398341,
          0.6074389952577244
         ],
         "y": [
          0.27707889223447446,
          -0.12243029093157637
         ]
        },
        {
         "hoverinfo": "text",
         "line": {
          "color": "rgba(128, 128, 128, 0.1)",
          "width": 1
         },
         "mode": "lines",
         "text": "1.0",
         "type": "scatter",
         "x": [
          -0.6450334324398341,
          -0.918938735340811
         ],
         "y": [
          0.27707889223447446,
          0.29892269802325433
         ]
        },
        {
         "hoverinfo": "text",
         "line": {
          "color": "rgba(128, 128, 128, 0.1)",
          "width": 1
         },
         "mode": "lines",
         "text": "1.0",
         "type": "scatter",
         "x": [
          -0.6450334324398341,
          -0.39369798424770713
         ],
         "y": [
          0.27707889223447446,
          0.1564690190913819
         ]
        },
        {
         "hoverinfo": "text",
         "line": {
          "color": "rgba(128, 128, 128, 0.1)",
          "width": 1
         },
         "mode": "lines",
         "text": "1.0",
         "type": "scatter",
         "x": [
          -0.6450334324398341,
          -0.4965138359262507
         ],
         "y": [
          0.27707889223447446,
          0.5147073335073147
         ]
        },
        {
         "hoverinfo": "text",
         "line": {
          "color": "rgba(128, 128, 128, 0.1)",
          "width": 1
         },
         "mode": "lines",
         "text": "1.0",
         "type": "scatter",
         "x": [
          -0.6450334324398341,
          -0.7047942282637657
         ],
         "y": [
          0.27707889223447446,
          0.05639581663858665
         ]
        },
        {
         "hoverinfo": "text",
         "line": {
          "color": "rgba(128, 128, 128, 0.1)",
          "width": 1
         },
         "mode": "lines",
         "text": "0.05555555555555555",
         "type": "scatter",
         "x": [
          -0.6450334324398341,
          0.22697673177044278
         ],
         "y": [
          0.27707889223447446,
          -0.8456600770640139
         ]
        },
        {
         "hoverinfo": "text",
         "line": {
          "color": "rgba(128, 128, 128, 0.1)",
          "width": 1
         },
         "mode": "lines",
         "text": "0.5",
         "type": "scatter",
         "x": [
          -0.6450334324398341,
          0.17107928195038022
         ],
         "y": [
          0.27707889223447446,
          0.7959403993931851
         ]
        },
        {
         "hoverinfo": "text",
         "line": {
          "color": "rgba(128, 128, 128, 0.1)",
          "width": 1
         },
         "mode": "lines",
         "text": "0.125",
         "type": "scatter",
         "x": [
          -0.6450334324398341,
          0.7198791291336225
         ],
         "y": [
          0.27707889223447446,
          -0.3555785138076284
         ]
        },
        {
         "hoverinfo": "text",
         "line": {
          "color": "rgba(128, 128, 128, 0.1)",
          "width": 1
         },
         "mode": "lines",
         "text": "1.0",
         "type": "scatter",
         "x": [
          -0.6450334324398341,
          0.07592479646616518
         ],
         "y": [
          0.27707889223447446,
          0.5489404396993625
         ]
        },
        {
         "hoverinfo": "text",
         "line": {
          "color": "rgba(128, 128, 128, 0.1)",
          "width": 1
         },
         "mode": "lines",
         "text": "1.0",
         "type": "scatter",
         "x": [
          -0.6450334324398341,
          -0.13240271109312432
         ],
         "y": [
          0.27707889223447446,
          -0.36406482848700933
         ]
        },
        {
         "hoverinfo": "text",
         "line": {
          "color": "rgba(128, 128, 128, 0.1)",
          "width": 1
         },
         "mode": "lines",
         "text": "1.0",
         "type": "scatter",
         "x": [
          -0.6450334324398341,
          -1
         ],
         "y": [
          0.27707889223447446,
          0.006663047876623049
         ]
        },
        {
         "hoverinfo": "text",
         "line": {
          "color": "rgba(128, 128, 128, 0.1)",
          "width": 1
         },
         "mode": "lines",
         "text": "1.0",
         "type": "scatter",
         "x": [
          -0.6450334324398341,
          0.40794135944224913
         ],
         "y": [
          0.27707889223447446,
          -0.5939736404506816
         ]
        },
        {
         "hoverinfo": "text",
         "line": {
          "color": "rgba(128, 128, 128, 0.1)",
          "width": 1
         },
         "mode": "lines",
         "text": "0.5",
         "type": "scatter",
         "x": [
          -0.6450334324398341,
          0.42727580252097486
         ],
         "y": [
          0.27707889223447446,
          -0.8147374733359818
         ]
        },
        {
         "hoverinfo": "text",
         "line": {
          "color": "rgba(128, 128, 128, 0.1)",
          "width": 1
         },
         "mode": "lines",
         "text": "0.125",
         "type": "scatter",
         "x": [
          -0.6450334324398341,
          -0.7464498563171527
         ],
         "y": [
          0.27707889223447446,
          -0.15240867563536542
         ]
        },
        {
         "hoverinfo": "text",
         "line": {
          "color": "rgba(128, 128, 128, 0.1)",
          "width": 1
         },
         "mode": "lines",
         "text": "1.0",
         "type": "scatter",
         "x": [
          -0.6450334324398341,
          0.42220986898347856
         ],
         "y": [
          0.27707889223447446,
          0.9443298132713931
         ]
        },
        {
         "hoverinfo": "text",
         "line": {
          "color": "rgba(128, 128, 128, 0.1)",
          "width": 1
         },
         "mode": "lines",
         "text": "1.0",
         "type": "scatter",
         "x": [
          -0.6450334324398341,
          0.7213026942444919
         ],
         "y": [
          0.27707889223447446,
          -0.7028614856381851
         ]
        },
        {
         "hoverinfo": "text",
         "line": {
          "color": "rgba(128, 128, 128, 0.1)",
          "width": 1
         },
         "mode": "lines",
         "text": "0.1111111111111111",
         "type": "scatter",
         "x": [
          -0.6450334324398341,
          0.9131728451074601
         ],
         "y": [
          0.27707889223447446,
          -0.0786216846079524
         ]
        },
        {
         "hoverinfo": "text",
         "line": {
          "color": "rgba(128, 128, 128, 0.1)",
          "width": 1
         },
         "mode": "lines",
         "text": "1.0",
         "type": "scatter",
         "x": [
          -0.6450334324398341,
          -0.02029748952421764
         ],
         "y": [
          0.27707889223447446,
          0.966511761384103
         ]
        },
        {
         "hoverinfo": "text",
         "line": {
          "color": "rgba(128, 128, 128, 0.1)",
          "width": 1
         },
         "mode": "lines",
         "text": "0.1111111111111111",
         "type": "scatter",
         "x": [
          -0.6450334324398341,
          -0.3235081883111062
         ],
         "y": [
          0.27707889223447446,
          -0.08513015582825498
         ]
        },
        {
         "hoverinfo": "text",
         "line": {
          "color": "rgba(128, 128, 128, 0.1)",
          "width": 1
         },
         "mode": "lines",
         "text": "1.0",
         "type": "scatter",
         "x": [
          -0.6450334324398341,
          0.05287296895782892
         ],
         "y": [
          0.27707889223447446,
          -0.09353267533807239
         ]
        },
        {
         "hoverinfo": "text",
         "line": {
          "color": "rgba(128, 128, 128, 0.1)",
          "width": 1
         },
         "mode": "lines",
         "text": "1.0",
         "type": "scatter",
         "x": [
          -0.6450334324398341,
          -0.5645297566213534
         ],
         "y": [
          0.27707889223447446,
          -0.5714605612882918
         ]
        },
        {
         "hoverinfo": "text",
         "line": {
          "color": "rgba(128, 128, 128, 0.1)",
          "width": 1
         },
         "mode": "lines",
         "text": "0.1111111111111111",
         "type": "scatter",
         "x": [
          -0.6450334324398341,
          -0.3131286416509119
         ],
         "y": [
          0.27707889223447446,
          0.597469912312249
         ]
        },
        {
         "hoverinfo": "text",
         "line": {
          "color": "rgba(128, 128, 128, 0.1)",
          "width": 1
         },
         "mode": "lines",
         "text": "1.0",
         "type": "scatter",
         "x": [
          0.41087781322486794,
          -0.3660082442049612
         ],
         "y": [
          0.0614320803326031,
          0.8678869100507792
         ]
        },
        {
         "hoverinfo": "text",
         "line": {
          "color": "rgba(128, 128, 128, 0.1)",
          "width": 1
         },
         "mode": "lines",
         "text": "1.0",
         "type": "scatter",
         "x": [
          0.41087781322486794,
          0.17192888814352225
         ],
         "y": [
          0.0614320803326031,
          -0.4447705166163436
         ]
        },
        {
         "hoverinfo": "text",
         "line": {
          "color": "rgba(128, 128, 128, 0.1)",
          "width": 1
         },
         "mode": "lines",
         "text": "1.0",
         "type": "scatter",
         "x": [
          0.41087781322486794,
          0.9532683662972562
         ],
         "y": [
          0.0614320803326031,
          0.2902557824658834
         ]
        },
        {
         "hoverinfo": "text",
         "line": {
          "color": "rgba(128, 128, 128, 0.1)",
          "width": 1
         },
         "mode": "lines",
         "text": "1.0",
         "type": "scatter",
         "x": [
          0.41087781322486794,
          -0.8884686789090365
         ],
         "y": [
          0.0614320803326031,
          -0.31069767497084494
         ]
        },
        {
         "hoverinfo": "text",
         "line": {
          "color": "rgba(128, 128, 128, 0.1)",
          "width": 1
         },
         "mode": "lines",
         "text": "1.0",
         "type": "scatter",
         "x": [
          0.41087781322486794,
          -0.33280924839566023
         ],
         "y": [
          0.0614320803326031,
          -0.5065195179912579
         ]
        },
        {
         "hoverinfo": "text",
         "line": {
          "color": "rgba(128, 128, 128, 0.1)",
          "width": 1
         },
         "mode": "lines",
         "text": "1.0",
         "type": "scatter",
         "x": [
          0.41087781322486794,
          -0.015856194826003367
         ],
         "y": [
          0.0614320803326031,
          0.11145031512701231
         ]
        },
        {
         "hoverinfo": "text",
         "line": {
          "color": "rgba(128, 128, 128, 0.1)",
          "width": 1
         },
         "mode": "lines",
         "text": "1.0",
         "type": "scatter",
         "x": [
          0.41087781322486794,
          -0.1953259850843532
         ],
         "y": [
          0.0614320803326031,
          0.3518955956777661
         ]
        },
        {
         "hoverinfo": "text",
         "line": {
          "color": "rgba(128, 128, 128, 0.1)",
          "width": 1
         },
         "mode": "lines",
         "text": "1.0",
         "type": "scatter",
         "x": [
          0.41087781322486794,
          0.029357573635267073
         ],
         "y": [
          0.0614320803326031,
          -0.9111388969932189
         ]
        },
        {
         "hoverinfo": "text",
         "line": {
          "color": "rgba(128, 128, 128, 0.1)",
          "width": 1
         },
         "mode": "lines",
         "text": "1.0",
         "type": "scatter",
         "x": [
          0.41087781322486794,
          -0.01919280536162062
         ],
         "y": [
          0.0614320803326031,
          -0.6521212445085668
         ]
        },
        {
         "hoverinfo": "text",
         "line": {
          "color": "rgba(128, 128, 128, 0.1)",
          "width": 1
         },
         "mode": "lines",
         "text": "1.0",
         "type": "scatter",
         "x": [
          0.41087781322486794,
          -0.10911439248384298
         ],
         "y": [
          0.0614320803326031,
          0.7578267516911958
         ]
        },
        {
         "hoverinfo": "text",
         "line": {
          "color": "rgba(128, 128, 128, 0.1)",
          "width": 1
         },
         "mode": "lines",
         "text": "1.0",
         "type": "scatter",
         "x": [
          0.41087781322486794,
          0.6999593653183844
         ],
         "y": [
          0.0614320803326031,
          0.34086743938130765
         ]
        },
        {
         "hoverinfo": "text",
         "line": {
          "color": "rgba(128, 128, 128, 0.1)",
          "width": 1
         },
         "mode": "lines",
         "text": "1.0",
         "type": "scatter",
         "x": [
          0.41087781322486794,
          -0.7711438777564555
         ],
         "y": [
          0.0614320803326031,
          0.5446514515452328
         ]
        },
        {
         "hoverinfo": "text",
         "line": {
          "color": "rgba(128, 128, 128, 0.1)",
          "width": 1
         },
         "mode": "lines",
         "text": "1.0",
         "type": "scatter",
         "x": [
          0.41087781322486794,
          0.9159172652301071
         ],
         "y": [
          0.0614320803326031,
          -0.2876278366482088
         ]
        },
        {
         "hoverinfo": "text",
         "line": {
          "color": "rgba(128, 128, 128, 0.1)",
          "width": 1
         },
         "mode": "lines",
         "text": "0.3333333333333333",
         "type": "scatter",
         "x": [
          0.41087781322486794,
          0.3042346205107624
         ],
         "y": [
          0.0614320803326031,
          -0.21400329594720793
         ]
        },
        {
         "hoverinfo": "text",
         "line": {
          "color": "rgba(128, 128, 128, 0.1)",
          "width": 1
         },
         "mode": "lines",
         "text": "1.0",
         "type": "scatter",
         "x": [
          0.41087781322486794,
          0.7925432626107755
         ],
         "y": [
          0.0614320803326031,
          0.5855468854554127
         ]
        },
        {
         "hoverinfo": "text",
         "line": {
          "color": "rgba(128, 128, 128, 0.1)",
          "width": 1
         },
         "mode": "lines",
         "text": "1.0",
         "type": "scatter",
         "x": [
          0.41087781322486794,
          -0.52981302729874
         ],
         "y": [
          0.0614320803326031,
          -0.26861457638885444
         ]
        },
        {
         "hoverinfo": "text",
         "line": {
          "color": "rgba(128, 128, 128, 0.1)",
          "width": 1
         },
         "mode": "lines",
         "text": "1.0",
         "type": "scatter",
         "x": [
          0.41087781322486794,
          -0.6047526130559822
         ],
         "y": [
          0.0614320803326031,
          0.7655665975288818
         ]
        },
        {
         "hoverinfo": "text",
         "line": {
          "color": "rgba(128, 128, 128, 0.1)",
          "width": 1
         },
         "mode": "lines",
         "text": "1.0",
         "type": "scatter",
         "x": [
          0.41087781322486794,
          0.6074389952577244
         ],
         "y": [
          0.0614320803326031,
          -0.12243029093157637
         ]
        },
        {
         "hoverinfo": "text",
         "line": {
          "color": "rgba(128, 128, 128, 0.1)",
          "width": 1
         },
         "mode": "lines",
         "text": "0.14285714285714285",
         "type": "scatter",
         "x": [
          0.41087781322486794,
          -0.918938735340811
         ],
         "y": [
          0.0614320803326031,
          0.29892269802325433
         ]
        },
        {
         "hoverinfo": "text",
         "line": {
          "color": "rgba(128, 128, 128, 0.1)",
          "width": 1
         },
         "mode": "lines",
         "text": "1.0",
         "type": "scatter",
         "x": [
          0.41087781322486794,
          -0.39369798424770713
         ],
         "y": [
          0.0614320803326031,
          0.1564690190913819
         ]
        },
        {
         "hoverinfo": "text",
         "line": {
          "color": "rgba(128, 128, 128, 0.1)",
          "width": 1
         },
         "mode": "lines",
         "text": "1.0",
         "type": "scatter",
         "x": [
          0.41087781322486794,
          -0.4965138359262507
         ],
         "y": [
          0.0614320803326031,
          0.5147073335073147
         ]
        },
        {
         "hoverinfo": "text",
         "line": {
          "color": "rgba(128, 128, 128, 0.1)",
          "width": 1
         },
         "mode": "lines",
         "text": "1.0",
         "type": "scatter",
         "x": [
          0.41087781322486794,
          -0.7047942282637657
         ],
         "y": [
          0.0614320803326031,
          0.05639581663858665
         ]
        },
        {
         "hoverinfo": "text",
         "line": {
          "color": "rgba(128, 128, 128, 0.1)",
          "width": 1
         },
         "mode": "lines",
         "text": "0.0625",
         "type": "scatter",
         "x": [
          0.41087781322486794,
          0.22697673177044278
         ],
         "y": [
          0.0614320803326031,
          -0.8456600770640139
         ]
        },
        {
         "hoverinfo": "text",
         "line": {
          "color": "rgba(128, 128, 128, 0.1)",
          "width": 1
         },
         "mode": "lines",
         "text": "0.16666666666666666",
         "type": "scatter",
         "x": [
          0.41087781322486794,
          0.17107928195038022
         ],
         "y": [
          0.0614320803326031,
          0.7959403993931851
         ]
        },
        {
         "hoverinfo": "text",
         "line": {
          "color": "rgba(128, 128, 128, 0.1)",
          "width": 1
         },
         "mode": "lines",
         "text": "0.125",
         "type": "scatter",
         "x": [
          0.41087781322486794,
          0.7198791291336225
         ],
         "y": [
          0.0614320803326031,
          -0.3555785138076284
         ]
        },
        {
         "hoverinfo": "text",
         "line": {
          "color": "rgba(128, 128, 128, 0.1)",
          "width": 1
         },
         "mode": "lines",
         "text": "1.0",
         "type": "scatter",
         "x": [
          0.41087781322486794,
          0.07592479646616518
         ],
         "y": [
          0.0614320803326031,
          0.5489404396993625
         ]
        },
        {
         "hoverinfo": "text",
         "line": {
          "color": "rgba(128, 128, 128, 0.1)",
          "width": 1
         },
         "mode": "lines",
         "text": "1.0",
         "type": "scatter",
         "x": [
          0.41087781322486794,
          -0.13240271109312432
         ],
         "y": [
          0.0614320803326031,
          -0.36406482848700933
         ]
        },
        {
         "hoverinfo": "text",
         "line": {
          "color": "rgba(128, 128, 128, 0.1)",
          "width": 1
         },
         "mode": "lines",
         "text": "1.0",
         "type": "scatter",
         "x": [
          0.41087781322486794,
          -1
         ],
         "y": [
          0.0614320803326031,
          0.006663047876623049
         ]
        },
        {
         "hoverinfo": "text",
         "line": {
          "color": "rgba(128, 128, 128, 0.1)",
          "width": 1
         },
         "mode": "lines",
         "text": "1.0",
         "type": "scatter",
         "x": [
          0.41087781322486794,
          0.40794135944224913
         ],
         "y": [
          0.0614320803326031,
          -0.5939736404506816
         ]
        },
        {
         "hoverinfo": "text",
         "line": {
          "color": "rgba(128, 128, 128, 0.1)",
          "width": 1
         },
         "mode": "lines",
         "text": "0.5",
         "type": "scatter",
         "x": [
          0.41087781322486794,
          0.42727580252097486
         ],
         "y": [
          0.0614320803326031,
          -0.8147374733359818
         ]
        },
        {
         "hoverinfo": "text",
         "line": {
          "color": "rgba(128, 128, 128, 0.1)",
          "width": 1
         },
         "mode": "lines",
         "text": "0.125",
         "type": "scatter",
         "x": [
          0.41087781322486794,
          -0.7464498563171527
         ],
         "y": [
          0.0614320803326031,
          -0.15240867563536542
         ]
        },
        {
         "hoverinfo": "text",
         "line": {
          "color": "rgba(128, 128, 128, 0.1)",
          "width": 1
         },
         "mode": "lines",
         "text": "1.0",
         "type": "scatter",
         "x": [
          0.41087781322486794,
          0.42220986898347856
         ],
         "y": [
          0.0614320803326031,
          0.9443298132713931
         ]
        },
        {
         "hoverinfo": "text",
         "line": {
          "color": "rgba(128, 128, 128, 0.1)",
          "width": 1
         },
         "mode": "lines",
         "text": "1.0",
         "type": "scatter",
         "x": [
          0.41087781322486794,
          0.7213026942444919
         ],
         "y": [
          0.0614320803326031,
          -0.7028614856381851
         ]
        },
        {
         "hoverinfo": "text",
         "line": {
          "color": "rgba(128, 128, 128, 0.1)",
          "width": 1
         },
         "mode": "lines",
         "text": "1.0",
         "type": "scatter",
         "x": [
          0.41087781322486794,
          0.9131728451074601
         ],
         "y": [
          0.0614320803326031,
          -0.0786216846079524
         ]
        },
        {
         "hoverinfo": "text",
         "line": {
          "color": "rgba(128, 128, 128, 0.1)",
          "width": 1
         },
         "mode": "lines",
         "text": "1.0",
         "type": "scatter",
         "x": [
          0.41087781322486794,
          -0.02029748952421764
         ],
         "y": [
          0.0614320803326031,
          0.966511761384103
         ]
        },
        {
         "hoverinfo": "text",
         "line": {
          "color": "rgba(128, 128, 128, 0.1)",
          "width": 1
         },
         "mode": "lines",
         "text": "0.1111111111111111",
         "type": "scatter",
         "x": [
          0.41087781322486794,
          -0.3235081883111062
         ],
         "y": [
          0.0614320803326031,
          -0.08513015582825498
         ]
        },
        {
         "hoverinfo": "text",
         "line": {
          "color": "rgba(128, 128, 128, 0.1)",
          "width": 1
         },
         "mode": "lines",
         "text": "1.0",
         "type": "scatter",
         "x": [
          0.41087781322486794,
          0.05287296895782892
         ],
         "y": [
          0.0614320803326031,
          -0.09353267533807239
         ]
        },
        {
         "hoverinfo": "text",
         "line": {
          "color": "rgba(128, 128, 128, 0.1)",
          "width": 1
         },
         "mode": "lines",
         "text": "1.0",
         "type": "scatter",
         "x": [
          0.41087781322486794,
          -0.5645297566213534
         ],
         "y": [
          0.0614320803326031,
          -0.5714605612882918
         ]
        },
        {
         "hoverinfo": "text",
         "line": {
          "color": "rgba(128, 128, 128, 0.1)",
          "width": 1
         },
         "mode": "lines",
         "text": "0.1111111111111111",
         "type": "scatter",
         "x": [
          0.41087781322486794,
          -0.3131286416509119
         ],
         "y": [
          0.0614320803326031,
          0.597469912312249
         ]
        },
        {
         "hoverinfo": "text",
         "line": {
          "color": "rgba(128, 128, 128, 0.1)",
          "width": 1
         },
         "mode": "lines",
         "text": "1.0",
         "type": "scatter",
         "x": [
          -0.3660082442049612,
          0.17192888814352225
         ],
         "y": [
          0.8678869100507792,
          -0.4447705166163436
         ]
        },
        {
         "hoverinfo": "text",
         "line": {
          "color": "rgba(128, 128, 128, 0.1)",
          "width": 1
         },
         "mode": "lines",
         "text": "1.0",
         "type": "scatter",
         "x": [
          -0.3660082442049612,
          0.9532683662972562
         ],
         "y": [
          0.8678869100507792,
          0.2902557824658834
         ]
        },
        {
         "hoverinfo": "text",
         "line": {
          "color": "rgba(128, 128, 128, 0.1)",
          "width": 1
         },
         "mode": "lines",
         "text": "1.0",
         "type": "scatter",
         "x": [
          -0.3660082442049612,
          -0.8884686789090365
         ],
         "y": [
          0.8678869100507792,
          -0.31069767497084494
         ]
        },
        {
         "hoverinfo": "text",
         "line": {
          "color": "rgba(128, 128, 128, 0.1)",
          "width": 1
         },
         "mode": "lines",
         "text": "1.0",
         "type": "scatter",
         "x": [
          -0.3660082442049612,
          -0.33280924839566023
         ],
         "y": [
          0.8678869100507792,
          -0.5065195179912579
         ]
        },
        {
         "hoverinfo": "text",
         "line": {
          "color": "rgba(128, 128, 128, 0.1)",
          "width": 1
         },
         "mode": "lines",
         "text": "1.0",
         "type": "scatter",
         "x": [
          -0.3660082442049612,
          -0.015856194826003367
         ],
         "y": [
          0.8678869100507792,
          0.11145031512701231
         ]
        },
        {
         "hoverinfo": "text",
         "line": {
          "color": "rgba(128, 128, 128, 0.1)",
          "width": 1
         },
         "mode": "lines",
         "text": "1.0",
         "type": "scatter",
         "x": [
          -0.3660082442049612,
          -0.1953259850843532
         ],
         "y": [
          0.8678869100507792,
          0.3518955956777661
         ]
        },
        {
         "hoverinfo": "text",
         "line": {
          "color": "rgba(128, 128, 128, 0.1)",
          "width": 1
         },
         "mode": "lines",
         "text": "0.1111111111111111",
         "type": "scatter",
         "x": [
          -0.3660082442049612,
          0.029357573635267073
         ],
         "y": [
          0.8678869100507792,
          -0.9111388969932189
         ]
        },
        {
         "hoverinfo": "text",
         "line": {
          "color": "rgba(128, 128, 128, 0.1)",
          "width": 1
         },
         "mode": "lines",
         "text": "1.0",
         "type": "scatter",
         "x": [
          -0.3660082442049612,
          -0.01919280536162062
         ],
         "y": [
          0.8678869100507792,
          -0.6521212445085668
         ]
        },
        {
         "hoverinfo": "text",
         "line": {
          "color": "rgba(128, 128, 128, 0.1)",
          "width": 1
         },
         "mode": "lines",
         "text": "1.0",
         "type": "scatter",
         "x": [
          -0.3660082442049612,
          -0.10911439248384298
         ],
         "y": [
          0.8678869100507792,
          0.7578267516911958
         ]
        },
        {
         "hoverinfo": "text",
         "line": {
          "color": "rgba(128, 128, 128, 0.1)",
          "width": 1
         },
         "mode": "lines",
         "text": "1.0",
         "type": "scatter",
         "x": [
          -0.3660082442049612,
          0.6999593653183844
         ],
         "y": [
          0.8678869100507792,
          0.34086743938130765
         ]
        },
        {
         "hoverinfo": "text",
         "line": {
          "color": "rgba(128, 128, 128, 0.1)",
          "width": 1
         },
         "mode": "lines",
         "text": "1.0",
         "type": "scatter",
         "x": [
          -0.3660082442049612,
          -0.7711438777564555
         ],
         "y": [
          0.8678869100507792,
          0.5446514515452328
         ]
        },
        {
         "hoverinfo": "text",
         "line": {
          "color": "rgba(128, 128, 128, 0.1)",
          "width": 1
         },
         "mode": "lines",
         "text": "1.0",
         "type": "scatter",
         "x": [
          -0.3660082442049612,
          0.9159172652301071
         ],
         "y": [
          0.8678869100507792,
          -0.2876278366482088
         ]
        },
        {
         "hoverinfo": "text",
         "line": {
          "color": "rgba(128, 128, 128, 0.1)",
          "width": 1
         },
         "mode": "lines",
         "text": "0.3333333333333333",
         "type": "scatter",
         "x": [
          -0.3660082442049612,
          0.3042346205107624
         ],
         "y": [
          0.8678869100507792,
          -0.21400329594720793
         ]
        },
        {
         "hoverinfo": "text",
         "line": {
          "color": "rgba(128, 128, 128, 0.1)",
          "width": 1
         },
         "mode": "lines",
         "text": "1.0",
         "type": "scatter",
         "x": [
          -0.3660082442049612,
          0.7925432626107755
         ],
         "y": [
          0.8678869100507792,
          0.5855468854554127
         ]
        },
        {
         "hoverinfo": "text",
         "line": {
          "color": "rgba(128, 128, 128, 0.1)",
          "width": 1
         },
         "mode": "lines",
         "text": "1.0",
         "type": "scatter",
         "x": [
          -0.3660082442049612,
          -0.52981302729874
         ],
         "y": [
          0.8678869100507792,
          -0.26861457638885444
         ]
        },
        {
         "hoverinfo": "text",
         "line": {
          "color": "rgba(128, 128, 128, 0.1)",
          "width": 1
         },
         "mode": "lines",
         "text": "1.0",
         "type": "scatter",
         "x": [
          -0.3660082442049612,
          -0.6047526130559822
         ],
         "y": [
          0.8678869100507792,
          0.7655665975288818
         ]
        },
        {
         "hoverinfo": "text",
         "line": {
          "color": "rgba(128, 128, 128, 0.1)",
          "width": 1
         },
         "mode": "lines",
         "text": "0.14285714285714285",
         "type": "scatter",
         "x": [
          -0.3660082442049612,
          0.6074389952577244
         ],
         "y": [
          0.8678869100507792,
          -0.12243029093157637
         ]
        },
        {
         "hoverinfo": "text",
         "line": {
          "color": "rgba(128, 128, 128, 0.1)",
          "width": 1
         },
         "mode": "lines",
         "text": "0.14285714285714285",
         "type": "scatter",
         "x": [
          -0.3660082442049612,
          -0.918938735340811
         ],
         "y": [
          0.8678869100507792,
          0.29892269802325433
         ]
        },
        {
         "hoverinfo": "text",
         "line": {
          "color": "rgba(128, 128, 128, 0.1)",
          "width": 1
         },
         "mode": "lines",
         "text": "0.14285714285714285",
         "type": "scatter",
         "x": [
          -0.3660082442049612,
          -0.39369798424770713
         ],
         "y": [
          0.8678869100507792,
          0.1564690190913819
         ]
        },
        {
         "hoverinfo": "text",
         "line": {
          "color": "rgba(128, 128, 128, 0.1)",
          "width": 1
         },
         "mode": "lines",
         "text": "1.0",
         "type": "scatter",
         "x": [
          -0.3660082442049612,
          -0.4965138359262507
         ],
         "y": [
          0.8678869100507792,
          0.5147073335073147
         ]
        },
        {
         "hoverinfo": "text",
         "line": {
          "color": "rgba(128, 128, 128, 0.1)",
          "width": 1
         },
         "mode": "lines",
         "text": "1.0",
         "type": "scatter",
         "x": [
          -0.3660082442049612,
          -0.7047942282637657
         ],
         "y": [
          0.8678869100507792,
          0.05639581663858665
         ]
        },
        {
         "hoverinfo": "text",
         "line": {
          "color": "rgba(128, 128, 128, 0.1)",
          "width": 1
         },
         "mode": "lines",
         "text": "0.0625",
         "type": "scatter",
         "x": [
          -0.3660082442049612,
          0.22697673177044278
         ],
         "y": [
          0.8678869100507792,
          -0.8456600770640139
         ]
        },
        {
         "hoverinfo": "text",
         "line": {
          "color": "rgba(128, 128, 128, 0.1)",
          "width": 1
         },
         "mode": "lines",
         "text": "0.16666666666666666",
         "type": "scatter",
         "x": [
          -0.3660082442049612,
          0.17107928195038022
         ],
         "y": [
          0.8678869100507792,
          0.7959403993931851
         ]
        },
        {
         "hoverinfo": "text",
         "line": {
          "color": "rgba(128, 128, 128, 0.1)",
          "width": 1
         },
         "mode": "lines",
         "text": "0.25",
         "type": "scatter",
         "x": [
          -0.3660082442049612,
          0.7198791291336225
         ],
         "y": [
          0.8678869100507792,
          -0.3555785138076284
         ]
        },
        {
         "hoverinfo": "text",
         "line": {
          "color": "rgba(128, 128, 128, 0.1)",
          "width": 1
         },
         "mode": "lines",
         "text": "1.0",
         "type": "scatter",
         "x": [
          -0.3660082442049612,
          0.07592479646616518
         ],
         "y": [
          0.8678869100507792,
          0.5489404396993625
         ]
        },
        {
         "hoverinfo": "text",
         "line": {
          "color": "rgba(128, 128, 128, 0.1)",
          "width": 1
         },
         "mode": "lines",
         "text": "1.0",
         "type": "scatter",
         "x": [
          -0.3660082442049612,
          -0.13240271109312432
         ],
         "y": [
          0.8678869100507792,
          -0.36406482848700933
         ]
        },
        {
         "hoverinfo": "text",
         "line": {
          "color": "rgba(128, 128, 128, 0.1)",
          "width": 1
         },
         "mode": "lines",
         "text": "1.0",
         "type": "scatter",
         "x": [
          -0.3660082442049612,
          -1
         ],
         "y": [
          0.8678869100507792,
          0.006663047876623049
         ]
        },
        {
         "hoverinfo": "text",
         "line": {
          "color": "rgba(128, 128, 128, 0.1)",
          "width": 1
         },
         "mode": "lines",
         "text": "1.0",
         "type": "scatter",
         "x": [
          -0.3660082442049612,
          0.40794135944224913
         ],
         "y": [
          0.8678869100507792,
          -0.5939736404506816
         ]
        },
        {
         "hoverinfo": "text",
         "line": {
          "color": "rgba(128, 128, 128, 0.1)",
          "width": 1
         },
         "mode": "lines",
         "text": "0.5",
         "type": "scatter",
         "x": [
          -0.3660082442049612,
          0.42727580252097486
         ],
         "y": [
          0.8678869100507792,
          -0.8147374733359818
         ]
        },
        {
         "hoverinfo": "text",
         "line": {
          "color": "rgba(128, 128, 128, 0.1)",
          "width": 1
         },
         "mode": "lines",
         "text": "0.125",
         "type": "scatter",
         "x": [
          -0.3660082442049612,
          -0.7464498563171527
         ],
         "y": [
          0.8678869100507792,
          -0.15240867563536542
         ]
        },
        {
         "hoverinfo": "text",
         "line": {
          "color": "rgba(128, 128, 128, 0.1)",
          "width": 1
         },
         "mode": "lines",
         "text": "1.0",
         "type": "scatter",
         "x": [
          -0.3660082442049612,
          0.42220986898347856
         ],
         "y": [
          0.8678869100507792,
          0.9443298132713931
         ]
        },
        {
         "hoverinfo": "text",
         "line": {
          "color": "rgba(128, 128, 128, 0.1)",
          "width": 1
         },
         "mode": "lines",
         "text": "1.0",
         "type": "scatter",
         "x": [
          -0.3660082442049612,
          0.7213026942444919
         ],
         "y": [
          0.8678869100507792,
          -0.7028614856381851
         ]
        },
        {
         "hoverinfo": "text",
         "line": {
          "color": "rgba(128, 128, 128, 0.1)",
          "width": 1
         },
         "mode": "lines",
         "text": "1.0",
         "type": "scatter",
         "x": [
          -0.3660082442049612,
          0.9131728451074601
         ],
         "y": [
          0.8678869100507792,
          -0.0786216846079524
         ]
        },
        {
         "hoverinfo": "text",
         "line": {
          "color": "rgba(128, 128, 128, 0.1)",
          "width": 1
         },
         "mode": "lines",
         "text": "1.0",
         "type": "scatter",
         "x": [
          -0.3660082442049612,
          -0.02029748952421764
         ],
         "y": [
          0.8678869100507792,
          0.966511761384103
         ]
        },
        {
         "hoverinfo": "text",
         "line": {
          "color": "rgba(128, 128, 128, 0.1)",
          "width": 1
         },
         "mode": "lines",
         "text": "0.1111111111111111",
         "type": "scatter",
         "x": [
          -0.3660082442049612,
          -0.3235081883111062
         ],
         "y": [
          0.8678869100507792,
          -0.08513015582825498
         ]
        },
        {
         "hoverinfo": "text",
         "line": {
          "color": "rgba(128, 128, 128, 0.1)",
          "width": 1
         },
         "mode": "lines",
         "text": "1.0",
         "type": "scatter",
         "x": [
          -0.3660082442049612,
          0.05287296895782892
         ],
         "y": [
          0.8678869100507792,
          -0.09353267533807239
         ]
        },
        {
         "hoverinfo": "text",
         "line": {
          "color": "rgba(128, 128, 128, 0.1)",
          "width": 1
         },
         "mode": "lines",
         "text": "1.0",
         "type": "scatter",
         "x": [
          -0.3660082442049612,
          -0.5645297566213534
         ],
         "y": [
          0.8678869100507792,
          -0.5714605612882918
         ]
        },
        {
         "hoverinfo": "text",
         "line": {
          "color": "rgba(128, 128, 128, 0.1)",
          "width": 1
         },
         "mode": "lines",
         "text": "0.1111111111111111",
         "type": "scatter",
         "x": [
          -0.3660082442049612,
          -0.3131286416509119
         ],
         "y": [
          0.8678869100507792,
          0.597469912312249
         ]
        },
        {
         "hoverinfo": "text",
         "line": {
          "color": "rgba(128, 128, 128, 0.1)",
          "width": 1
         },
         "mode": "lines",
         "text": "1.0",
         "type": "scatter",
         "x": [
          0.17192888814352225,
          0.9532683662972562
         ],
         "y": [
          -0.4447705166163436,
          0.2902557824658834
         ]
        },
        {
         "hoverinfo": "text",
         "line": {
          "color": "rgba(128, 128, 128, 0.1)",
          "width": 1
         },
         "mode": "lines",
         "text": "1.0",
         "type": "scatter",
         "x": [
          0.17192888814352225,
          -0.8884686789090365
         ],
         "y": [
          -0.4447705166163436,
          -0.31069767497084494
         ]
        },
        {
         "hoverinfo": "text",
         "line": {
          "color": "rgba(128, 128, 128, 0.1)",
          "width": 1
         },
         "mode": "lines",
         "text": "1.0",
         "type": "scatter",
         "x": [
          0.17192888814352225,
          -0.33280924839566023
         ],
         "y": [
          -0.4447705166163436,
          -0.5065195179912579
         ]
        },
        {
         "hoverinfo": "text",
         "line": {
          "color": "rgba(128, 128, 128, 0.1)",
          "width": 1
         },
         "mode": "lines",
         "text": "1.0",
         "type": "scatter",
         "x": [
          0.17192888814352225,
          -0.015856194826003367
         ],
         "y": [
          -0.4447705166163436,
          0.11145031512701231
         ]
        },
        {
         "hoverinfo": "text",
         "line": {
          "color": "rgba(128, 128, 128, 0.1)",
          "width": 1
         },
         "mode": "lines",
         "text": "1.0",
         "type": "scatter",
         "x": [
          0.17192888814352225,
          -0.1953259850843532
         ],
         "y": [
          -0.4447705166163436,
          0.3518955956777661
         ]
        },
        {
         "hoverinfo": "text",
         "line": {
          "color": "rgba(128, 128, 128, 0.1)",
          "width": 1
         },
         "mode": "lines",
         "text": "0.1111111111111111",
         "type": "scatter",
         "x": [
          0.17192888814352225,
          0.029357573635267073
         ],
         "y": [
          -0.4447705166163436,
          -0.9111388969932189
         ]
        },
        {
         "hoverinfo": "text",
         "line": {
          "color": "rgba(128, 128, 128, 0.1)",
          "width": 1
         },
         "mode": "lines",
         "text": "1.0",
         "type": "scatter",
         "x": [
          0.17192888814352225,
          -0.01919280536162062
         ],
         "y": [
          -0.4447705166163436,
          -0.6521212445085668
         ]
        },
        {
         "hoverinfo": "text",
         "line": {
          "color": "rgba(128, 128, 128, 0.1)",
          "width": 1
         },
         "mode": "lines",
         "text": "1.0",
         "type": "scatter",
         "x": [
          0.17192888814352225,
          -0.10911439248384298
         ],
         "y": [
          -0.4447705166163436,
          0.7578267516911958
         ]
        },
        {
         "hoverinfo": "text",
         "line": {
          "color": "rgba(128, 128, 128, 0.1)",
          "width": 1
         },
         "mode": "lines",
         "text": "1.0",
         "type": "scatter",
         "x": [
          0.17192888814352225,
          0.6999593653183844
         ],
         "y": [
          -0.4447705166163436,
          0.34086743938130765
         ]
        },
        {
         "hoverinfo": "text",
         "line": {
          "color": "rgba(128, 128, 128, 0.1)",
          "width": 1
         },
         "mode": "lines",
         "text": "1.0",
         "type": "scatter",
         "x": [
          0.17192888814352225,
          -0.7711438777564555
         ],
         "y": [
          -0.4447705166163436,
          0.5446514515452328
         ]
        },
        {
         "hoverinfo": "text",
         "line": {
          "color": "rgba(128, 128, 128, 0.1)",
          "width": 1
         },
         "mode": "lines",
         "text": "1.0",
         "type": "scatter",
         "x": [
          0.17192888814352225,
          0.9159172652301071
         ],
         "y": [
          -0.4447705166163436,
          -0.2876278366482088
         ]
        },
        {
         "hoverinfo": "text",
         "line": {
          "color": "rgba(128, 128, 128, 0.1)",
          "width": 1
         },
         "mode": "lines",
         "text": "0.3333333333333333",
         "type": "scatter",
         "x": [
          0.17192888814352225,
          0.3042346205107624
         ],
         "y": [
          -0.4447705166163436,
          -0.21400329594720793
         ]
        },
        {
         "hoverinfo": "text",
         "line": {
          "color": "rgba(128, 128, 128, 0.1)",
          "width": 1
         },
         "mode": "lines",
         "text": "1.0",
         "type": "scatter",
         "x": [
          0.17192888814352225,
          0.7925432626107755
         ],
         "y": [
          -0.4447705166163436,
          0.5855468854554127
         ]
        },
        {
         "hoverinfo": "text",
         "line": {
          "color": "rgba(128, 128, 128, 0.1)",
          "width": 1
         },
         "mode": "lines",
         "text": "1.0",
         "type": "scatter",
         "x": [
          0.17192888814352225,
          -0.52981302729874
         ],
         "y": [
          -0.4447705166163436,
          -0.26861457638885444
         ]
        },
        {
         "hoverinfo": "text",
         "line": {
          "color": "rgba(128, 128, 128, 0.1)",
          "width": 1
         },
         "mode": "lines",
         "text": "1.0",
         "type": "scatter",
         "x": [
          0.17192888814352225,
          -0.6047526130559822
         ],
         "y": [
          -0.4447705166163436,
          0.7655665975288818
         ]
        },
        {
         "hoverinfo": "text",
         "line": {
          "color": "rgba(128, 128, 128, 0.1)",
          "width": 1
         },
         "mode": "lines",
         "text": "1.0",
         "type": "scatter",
         "x": [
          0.17192888814352225,
          0.6074389952577244
         ],
         "y": [
          -0.4447705166163436,
          -0.12243029093157637
         ]
        },
        {
         "hoverinfo": "text",
         "line": {
          "color": "rgba(128, 128, 128, 0.1)",
          "width": 1
         },
         "mode": "lines",
         "text": "0.14285714285714285",
         "type": "scatter",
         "x": [
          0.17192888814352225,
          -0.918938735340811
         ],
         "y": [
          -0.4447705166163436,
          0.29892269802325433
         ]
        },
        {
         "hoverinfo": "text",
         "line": {
          "color": "rgba(128, 128, 128, 0.1)",
          "width": 1
         },
         "mode": "lines",
         "text": "1.0",
         "type": "scatter",
         "x": [
          0.17192888814352225,
          -0.39369798424770713
         ],
         "y": [
          -0.4447705166163436,
          0.1564690190913819
         ]
        },
        {
         "hoverinfo": "text",
         "line": {
          "color": "rgba(128, 128, 128, 0.1)",
          "width": 1
         },
         "mode": "lines",
         "text": "1.0",
         "type": "scatter",
         "x": [
          0.17192888814352225,
          -0.4965138359262507
         ],
         "y": [
          -0.4447705166163436,
          0.5147073335073147
         ]
        },
        {
         "hoverinfo": "text",
         "line": {
          "color": "rgba(128, 128, 128, 0.1)",
          "width": 1
         },
         "mode": "lines",
         "text": "1.0",
         "type": "scatter",
         "x": [
          0.17192888814352225,
          -0.7047942282637657
         ],
         "y": [
          -0.4447705166163436,
          0.05639581663858665
         ]
        },
        {
         "hoverinfo": "text",
         "line": {
          "color": "rgba(128, 128, 128, 0.1)",
          "width": 1
         },
         "mode": "lines",
         "text": "0.08333333333333333",
         "type": "scatter",
         "x": [
          0.17192888814352225,
          0.22697673177044278
         ],
         "y": [
          -0.4447705166163436,
          -0.8456600770640139
         ]
        },
        {
         "hoverinfo": "text",
         "line": {
          "color": "rgba(128, 128, 128, 0.1)",
          "width": 1
         },
         "mode": "lines",
         "text": "0.16666666666666666",
         "type": "scatter",
         "x": [
          0.17192888814352225,
          0.17107928195038022
         ],
         "y": [
          -0.4447705166163436,
          0.7959403993931851
         ]
        },
        {
         "hoverinfo": "text",
         "line": {
          "color": "rgba(128, 128, 128, 0.1)",
          "width": 1
         },
         "mode": "lines",
         "text": "0.125",
         "type": "scatter",
         "x": [
          0.17192888814352225,
          0.7198791291336225
         ],
         "y": [
          -0.4447705166163436,
          -0.3555785138076284
         ]
        },
        {
         "hoverinfo": "text",
         "line": {
          "color": "rgba(128, 128, 128, 0.1)",
          "width": 1
         },
         "mode": "lines",
         "text": "1.0",
         "type": "scatter",
         "x": [
          0.17192888814352225,
          0.07592479646616518
         ],
         "y": [
          -0.4447705166163436,
          0.5489404396993625
         ]
        },
        {
         "hoverinfo": "text",
         "line": {
          "color": "rgba(128, 128, 128, 0.1)",
          "width": 1
         },
         "mode": "lines",
         "text": "1.0",
         "type": "scatter",
         "x": [
          0.17192888814352225,
          -0.13240271109312432
         ],
         "y": [
          -0.4447705166163436,
          -0.36406482848700933
         ]
        },
        {
         "hoverinfo": "text",
         "line": {
          "color": "rgba(128, 128, 128, 0.1)",
          "width": 1
         },
         "mode": "lines",
         "text": "1.0",
         "type": "scatter",
         "x": [
          0.17192888814352225,
          -1
         ],
         "y": [
          -0.4447705166163436,
          0.006663047876623049
         ]
        },
        {
         "hoverinfo": "text",
         "line": {
          "color": "rgba(128, 128, 128, 0.1)",
          "width": 1
         },
         "mode": "lines",
         "text": "1.0",
         "type": "scatter",
         "x": [
          0.17192888814352225,
          0.40794135944224913
         ],
         "y": [
          -0.4447705166163436,
          -0.5939736404506816
         ]
        },
        {
         "hoverinfo": "text",
         "line": {
          "color": "rgba(128, 128, 128, 0.1)",
          "width": 1
         },
         "mode": "lines",
         "text": "0.5",
         "type": "scatter",
         "x": [
          0.17192888814352225,
          0.42727580252097486
         ],
         "y": [
          -0.4447705166163436,
          -0.8147374733359818
         ]
        },
        {
         "hoverinfo": "text",
         "line": {
          "color": "rgba(128, 128, 128, 0.1)",
          "width": 1
         },
         "mode": "lines",
         "text": "0.125",
         "type": "scatter",
         "x": [
          0.17192888814352225,
          -0.7464498563171527
         ],
         "y": [
          -0.4447705166163436,
          -0.15240867563536542
         ]
        },
        {
         "hoverinfo": "text",
         "line": {
          "color": "rgba(128, 128, 128, 0.1)",
          "width": 1
         },
         "mode": "lines",
         "text": "1.0",
         "type": "scatter",
         "x": [
          0.17192888814352225,
          0.42220986898347856
         ],
         "y": [
          -0.4447705166163436,
          0.9443298132713931
         ]
        },
        {
         "hoverinfo": "text",
         "line": {
          "color": "rgba(128, 128, 128, 0.1)",
          "width": 1
         },
         "mode": "lines",
         "text": "1.0",
         "type": "scatter",
         "x": [
          0.17192888814352225,
          0.7213026942444919
         ],
         "y": [
          -0.4447705166163436,
          -0.7028614856381851
         ]
        },
        {
         "hoverinfo": "text",
         "line": {
          "color": "rgba(128, 128, 128, 0.1)",
          "width": 1
         },
         "mode": "lines",
         "text": "1.0",
         "type": "scatter",
         "x": [
          0.17192888814352225,
          0.9131728451074601
         ],
         "y": [
          -0.4447705166163436,
          -0.0786216846079524
         ]
        },
        {
         "hoverinfo": "text",
         "line": {
          "color": "rgba(128, 128, 128, 0.1)",
          "width": 1
         },
         "mode": "lines",
         "text": "1.0",
         "type": "scatter",
         "x": [
          0.17192888814352225,
          -0.02029748952421764
         ],
         "y": [
          -0.4447705166163436,
          0.966511761384103
         ]
        },
        {
         "hoverinfo": "text",
         "line": {
          "color": "rgba(128, 128, 128, 0.1)",
          "width": 1
         },
         "mode": "lines",
         "text": "0.1111111111111111",
         "type": "scatter",
         "x": [
          0.17192888814352225,
          -0.3235081883111062
         ],
         "y": [
          -0.4447705166163436,
          -0.08513015582825498
         ]
        },
        {
         "hoverinfo": "text",
         "line": {
          "color": "rgba(128, 128, 128, 0.1)",
          "width": 1
         },
         "mode": "lines",
         "text": "1.0",
         "type": "scatter",
         "x": [
          0.17192888814352225,
          0.05287296895782892
         ],
         "y": [
          -0.4447705166163436,
          -0.09353267533807239
         ]
        },
        {
         "hoverinfo": "text",
         "line": {
          "color": "rgba(128, 128, 128, 0.1)",
          "width": 1
         },
         "mode": "lines",
         "text": "1.0",
         "type": "scatter",
         "x": [
          0.17192888814352225,
          -0.5645297566213534
         ],
         "y": [
          -0.4447705166163436,
          -0.5714605612882918
         ]
        },
        {
         "hoverinfo": "text",
         "line": {
          "color": "rgba(128, 128, 128, 0.1)",
          "width": 1
         },
         "mode": "lines",
         "text": "0.1111111111111111",
         "type": "scatter",
         "x": [
          0.17192888814352225,
          -0.3131286416509119
         ],
         "y": [
          -0.4447705166163436,
          0.597469912312249
         ]
        },
        {
         "hoverinfo": "text",
         "line": {
          "color": "rgba(128, 128, 128, 0.1)",
          "width": 1
         },
         "mode": "lines",
         "text": "0.1111111111111111",
         "type": "scatter",
         "x": [
          0.9532683662972562,
          -0.8884686789090365
         ],
         "y": [
          0.2902557824658834,
          -0.31069767497084494
         ]
        },
        {
         "hoverinfo": "text",
         "line": {
          "color": "rgba(128, 128, 128, 0.1)",
          "width": 1
         },
         "mode": "lines",
         "text": "1.0",
         "type": "scatter",
         "x": [
          0.9532683662972562,
          -0.33280924839566023
         ],
         "y": [
          0.2902557824658834,
          -0.5065195179912579
         ]
        },
        {
         "hoverinfo": "text",
         "line": {
          "color": "rgba(128, 128, 128, 0.1)",
          "width": 1
         },
         "mode": "lines",
         "text": "1.0",
         "type": "scatter",
         "x": [
          0.9532683662972562,
          -0.015856194826003367
         ],
         "y": [
          0.2902557824658834,
          0.11145031512701231
         ]
        },
        {
         "hoverinfo": "text",
         "line": {
          "color": "rgba(128, 128, 128, 0.1)",
          "width": 1
         },
         "mode": "lines",
         "text": "1.0",
         "type": "scatter",
         "x": [
          0.9532683662972562,
          -0.1953259850843532
         ],
         "y": [
          0.2902557824658834,
          0.3518955956777661
         ]
        },
        {
         "hoverinfo": "text",
         "line": {
          "color": "rgba(128, 128, 128, 0.1)",
          "width": 1
         },
         "mode": "lines",
         "text": "1.0",
         "type": "scatter",
         "x": [
          0.9532683662972562,
          0.029357573635267073
         ],
         "y": [
          0.2902557824658834,
          -0.9111388969932189
         ]
        },
        {
         "hoverinfo": "text",
         "line": {
          "color": "rgba(128, 128, 128, 0.1)",
          "width": 1
         },
         "mode": "lines",
         "text": "1.0",
         "type": "scatter",
         "x": [
          0.9532683662972562,
          -0.01919280536162062
         ],
         "y": [
          0.2902557824658834,
          -0.6521212445085668
         ]
        },
        {
         "hoverinfo": "text",
         "line": {
          "color": "rgba(128, 128, 128, 0.1)",
          "width": 1
         },
         "mode": "lines",
         "text": "0.1111111111111111",
         "type": "scatter",
         "x": [
          0.9532683662972562,
          -0.10911439248384298
         ],
         "y": [
          0.2902557824658834,
          0.7578267516911958
         ]
        },
        {
         "hoverinfo": "text",
         "line": {
          "color": "rgba(128, 128, 128, 0.1)",
          "width": 1
         },
         "mode": "lines",
         "text": "0.1111111111111111",
         "type": "scatter",
         "x": [
          0.9532683662972562,
          0.6999593653183844
         ],
         "y": [
          0.2902557824658834,
          0.34086743938130765
         ]
        },
        {
         "hoverinfo": "text",
         "line": {
          "color": "rgba(128, 128, 128, 0.1)",
          "width": 1
         },
         "mode": "lines",
         "text": "1.0",
         "type": "scatter",
         "x": [
          0.9532683662972562,
          -0.7711438777564555
         ],
         "y": [
          0.2902557824658834,
          0.5446514515452328
         ]
        },
        {
         "hoverinfo": "text",
         "line": {
          "color": "rgba(128, 128, 128, 0.1)",
          "width": 1
         },
         "mode": "lines",
         "text": "1.0",
         "type": "scatter",
         "x": [
          0.9532683662972562,
          0.9159172652301071
         ],
         "y": [
          0.2902557824658834,
          -0.2876278366482088
         ]
        },
        {
         "hoverinfo": "text",
         "line": {
          "color": "rgba(128, 128, 128, 0.1)",
          "width": 1
         },
         "mode": "lines",
         "text": "0.3333333333333333",
         "type": "scatter",
         "x": [
          0.9532683662972562,
          0.3042346205107624
         ],
         "y": [
          0.2902557824658834,
          -0.21400329594720793
         ]
        },
        {
         "hoverinfo": "text",
         "line": {
          "color": "rgba(128, 128, 128, 0.1)",
          "width": 1
         },
         "mode": "lines",
         "text": "0.3333333333333333",
         "type": "scatter",
         "x": [
          0.9532683662972562,
          0.7925432626107755
         ],
         "y": [
          0.2902557824658834,
          0.5855468854554127
         ]
        },
        {
         "hoverinfo": "text",
         "line": {
          "color": "rgba(128, 128, 128, 0.1)",
          "width": 1
         },
         "mode": "lines",
         "text": "0.1111111111111111",
         "type": "scatter",
         "x": [
          0.9532683662972562,
          -0.52981302729874
         ],
         "y": [
          0.2902557824658834,
          -0.26861457638885444
         ]
        },
        {
         "hoverinfo": "text",
         "line": {
          "color": "rgba(128, 128, 128, 0.1)",
          "width": 1
         },
         "mode": "lines",
         "text": "1.0",
         "type": "scatter",
         "x": [
          0.9532683662972562,
          -0.6047526130559822
         ],
         "y": [
          0.2902557824658834,
          0.7655665975288818
         ]
        },
        {
         "hoverinfo": "text",
         "line": {
          "color": "rgba(128, 128, 128, 0.1)",
          "width": 1
         },
         "mode": "lines",
         "text": "0.14285714285714285",
         "type": "scatter",
         "x": [
          0.9532683662972562,
          0.6074389952577244
         ],
         "y": [
          0.2902557824658834,
          -0.12243029093157637
         ]
        },
        {
         "hoverinfo": "text",
         "line": {
          "color": "rgba(128, 128, 128, 0.1)",
          "width": 1
         },
         "mode": "lines",
         "text": "0.1111111111111111",
         "type": "scatter",
         "x": [
          0.9532683662972562,
          -0.918938735340811
         ],
         "y": [
          0.2902557824658834,
          0.29892269802325433
         ]
        },
        {
         "hoverinfo": "text",
         "line": {
          "color": "rgba(128, 128, 128, 0.1)",
          "width": 1
         },
         "mode": "lines",
         "text": "0.14285714285714285",
         "type": "scatter",
         "x": [
          0.9532683662972562,
          -0.39369798424770713
         ],
         "y": [
          0.2902557824658834,
          0.1564690190913819
         ]
        },
        {
         "hoverinfo": "text",
         "line": {
          "color": "rgba(128, 128, 128, 0.1)",
          "width": 1
         },
         "mode": "lines",
         "text": "0.1111111111111111",
         "type": "scatter",
         "x": [
          0.9532683662972562,
          -0.4965138359262507
         ],
         "y": [
          0.2902557824658834,
          0.5147073335073147
         ]
        },
        {
         "hoverinfo": "text",
         "line": {
          "color": "rgba(128, 128, 128, 0.1)",
          "width": 1
         },
         "mode": "lines",
         "text": "0.1111111111111111",
         "type": "scatter",
         "x": [
          0.9532683662972562,
          -0.7047942282637657
         ],
         "y": [
          0.2902557824658834,
          0.05639581663858665
         ]
        },
        {
         "hoverinfo": "text",
         "line": {
          "color": "rgba(128, 128, 128, 0.1)",
          "width": 1
         },
         "mode": "lines",
         "text": "0.0625",
         "type": "scatter",
         "x": [
          0.9532683662972562,
          0.22697673177044278
         ],
         "y": [
          0.2902557824658834,
          -0.8456600770640139
         ]
        },
        {
         "hoverinfo": "text",
         "line": {
          "color": "rgba(128, 128, 128, 0.1)",
          "width": 1
         },
         "mode": "lines",
         "text": "0.16666666666666666",
         "type": "scatter",
         "x": [
          0.9532683662972562,
          0.17107928195038022
         ],
         "y": [
          0.2902557824658834,
          0.7959403993931851
         ]
        },
        {
         "hoverinfo": "text",
         "line": {
          "color": "rgba(128, 128, 128, 0.1)",
          "width": 1
         },
         "mode": "lines",
         "text": "0.125",
         "type": "scatter",
         "x": [
          0.9532683662972562,
          0.7198791291336225
         ],
         "y": [
          0.2902557824658834,
          -0.3555785138076284
         ]
        },
        {
         "hoverinfo": "text",
         "line": {
          "color": "rgba(128, 128, 128, 0.1)",
          "width": 1
         },
         "mode": "lines",
         "text": "1.0",
         "type": "scatter",
         "x": [
          0.9532683662972562,
          0.07592479646616518
         ],
         "y": [
          0.2902557824658834,
          0.5489404396993625
         ]
        },
        {
         "hoverinfo": "text",
         "line": {
          "color": "rgba(128, 128, 128, 0.1)",
          "width": 1
         },
         "mode": "lines",
         "text": "0.1111111111111111",
         "type": "scatter",
         "x": [
          0.9532683662972562,
          -0.13240271109312432
         ],
         "y": [
          0.2902557824658834,
          -0.36406482848700933
         ]
        },
        {
         "hoverinfo": "text",
         "line": {
          "color": "rgba(128, 128, 128, 0.1)",
          "width": 1
         },
         "mode": "lines",
         "text": "0.1111111111111111",
         "type": "scatter",
         "x": [
          0.9532683662972562,
          -1
         ],
         "y": [
          0.2902557824658834,
          0.006663047876623049
         ]
        },
        {
         "hoverinfo": "text",
         "line": {
          "color": "rgba(128, 128, 128, 0.1)",
          "width": 1
         },
         "mode": "lines",
         "text": "1.0",
         "type": "scatter",
         "x": [
          0.9532683662972562,
          0.40794135944224913
         ],
         "y": [
          0.2902557824658834,
          -0.5939736404506816
         ]
        },
        {
         "hoverinfo": "text",
         "line": {
          "color": "rgba(128, 128, 128, 0.1)",
          "width": 1
         },
         "mode": "lines",
         "text": "0.1",
         "type": "scatter",
         "x": [
          0.9532683662972562,
          0.42727580252097486
         ],
         "y": [
          0.2902557824658834,
          -0.8147374733359818
         ]
        },
        {
         "hoverinfo": "text",
         "line": {
          "color": "rgba(128, 128, 128, 0.1)",
          "width": 1
         },
         "mode": "lines",
         "text": "0.125",
         "type": "scatter",
         "x": [
          0.9532683662972562,
          -0.7464498563171527
         ],
         "y": [
          0.2902557824658834,
          -0.15240867563536542
         ]
        },
        {
         "hoverinfo": "text",
         "line": {
          "color": "rgba(128, 128, 128, 0.1)",
          "width": 1
         },
         "mode": "lines",
         "text": "1.0",
         "type": "scatter",
         "x": [
          0.9532683662972562,
          0.42220986898347856
         ],
         "y": [
          0.2902557824658834,
          0.9443298132713931
         ]
        },
        {
         "hoverinfo": "text",
         "line": {
          "color": "rgba(128, 128, 128, 0.1)",
          "width": 1
         },
         "mode": "lines",
         "text": "0.1111111111111111",
         "type": "scatter",
         "x": [
          0.9532683662972562,
          0.7213026942444919
         ],
         "y": [
          0.2902557824658834,
          -0.7028614856381851
         ]
        },
        {
         "hoverinfo": "text",
         "line": {
          "color": "rgba(128, 128, 128, 0.1)",
          "width": 1
         },
         "mode": "lines",
         "text": "0.1111111111111111",
         "type": "scatter",
         "x": [
          0.9532683662972562,
          0.9131728451074601
         ],
         "y": [
          0.2902557824658834,
          -0.0786216846079524
         ]
        },
        {
         "hoverinfo": "text",
         "line": {
          "color": "rgba(128, 128, 128, 0.1)",
          "width": 1
         },
         "mode": "lines",
         "text": "0.1111111111111111",
         "type": "scatter",
         "x": [
          0.9532683662972562,
          -0.02029748952421764
         ],
         "y": [
          0.2902557824658834,
          0.966511761384103
         ]
        },
        {
         "hoverinfo": "text",
         "line": {
          "color": "rgba(128, 128, 128, 0.1)",
          "width": 1
         },
         "mode": "lines",
         "text": "0.1111111111111111",
         "type": "scatter",
         "x": [
          0.9532683662972562,
          -0.3235081883111062
         ],
         "y": [
          0.2902557824658834,
          -0.08513015582825498
         ]
        },
        {
         "hoverinfo": "text",
         "line": {
          "color": "rgba(128, 128, 128, 0.1)",
          "width": 1
         },
         "mode": "lines",
         "text": "1.0",
         "type": "scatter",
         "x": [
          0.9532683662972562,
          0.05287296895782892
         ],
         "y": [
          0.2902557824658834,
          -0.09353267533807239
         ]
        },
        {
         "hoverinfo": "text",
         "line": {
          "color": "rgba(128, 128, 128, 0.1)",
          "width": 1
         },
         "mode": "lines",
         "text": "1.0",
         "type": "scatter",
         "x": [
          0.9532683662972562,
          -0.5645297566213534
         ],
         "y": [
          0.2902557824658834,
          -0.5714605612882918
         ]
        },
        {
         "hoverinfo": "text",
         "line": {
          "color": "rgba(128, 128, 128, 0.1)",
          "width": 1
         },
         "mode": "lines",
         "text": "0.1111111111111111",
         "type": "scatter",
         "x": [
          0.9532683662972562,
          -0.3131286416509119
         ],
         "y": [
          0.2902557824658834,
          0.597469912312249
         ]
        },
        {
         "hoverinfo": "text",
         "line": {
          "color": "rgba(128, 128, 128, 0.1)",
          "width": 1
         },
         "mode": "lines",
         "text": "1.0",
         "type": "scatter",
         "x": [
          -0.8884686789090365,
          -0.33280924839566023
         ],
         "y": [
          -0.31069767497084494,
          -0.5065195179912579
         ]
        },
        {
         "hoverinfo": "text",
         "line": {
          "color": "rgba(128, 128, 128, 0.1)",
          "width": 1
         },
         "mode": "lines",
         "text": "1.0",
         "type": "scatter",
         "x": [
          -0.8884686789090365,
          -0.015856194826003367
         ],
         "y": [
          -0.31069767497084494,
          0.11145031512701231
         ]
        },
        {
         "hoverinfo": "text",
         "line": {
          "color": "rgba(128, 128, 128, 0.1)",
          "width": 1
         },
         "mode": "lines",
         "text": "1.0",
         "type": "scatter",
         "x": [
          -0.8884686789090365,
          -0.1953259850843532
         ],
         "y": [
          -0.31069767497084494,
          0.3518955956777661
         ]
        },
        {
         "hoverinfo": "text",
         "line": {
          "color": "rgba(128, 128, 128, 0.1)",
          "width": 1
         },
         "mode": "lines",
         "text": "1.0",
         "type": "scatter",
         "x": [
          -0.8884686789090365,
          0.029357573635267073
         ],
         "y": [
          -0.31069767497084494,
          -0.9111388969932189
         ]
        },
        {
         "hoverinfo": "text",
         "line": {
          "color": "rgba(128, 128, 128, 0.1)",
          "width": 1
         },
         "mode": "lines",
         "text": "1.0",
         "type": "scatter",
         "x": [
          -0.8884686789090365,
          -0.01919280536162062
         ],
         "y": [
          -0.31069767497084494,
          -0.6521212445085668
         ]
        },
        {
         "hoverinfo": "text",
         "line": {
          "color": "rgba(128, 128, 128, 0.1)",
          "width": 1
         },
         "mode": "lines",
         "text": "1.0",
         "type": "scatter",
         "x": [
          -0.8884686789090365,
          -0.10911439248384298
         ],
         "y": [
          -0.31069767497084494,
          0.7578267516911958
         ]
        },
        {
         "hoverinfo": "text",
         "line": {
          "color": "rgba(128, 128, 128, 0.1)",
          "width": 1
         },
         "mode": "lines",
         "text": "1.0",
         "type": "scatter",
         "x": [
          -0.8884686789090365,
          0.6999593653183844
         ],
         "y": [
          -0.31069767497084494,
          0.34086743938130765
         ]
        },
        {
         "hoverinfo": "text",
         "line": {
          "color": "rgba(128, 128, 128, 0.1)",
          "width": 1
         },
         "mode": "lines",
         "text": "1.0",
         "type": "scatter",
         "x": [
          -0.8884686789090365,
          -0.7711438777564555
         ],
         "y": [
          -0.31069767497084494,
          0.5446514515452328
         ]
        },
        {
         "hoverinfo": "text",
         "line": {
          "color": "rgba(128, 128, 128, 0.1)",
          "width": 1
         },
         "mode": "lines",
         "text": "1.0",
         "type": "scatter",
         "x": [
          -0.8884686789090365,
          0.9159172652301071
         ],
         "y": [
          -0.31069767497084494,
          -0.2876278366482088
         ]
        },
        {
         "hoverinfo": "text",
         "line": {
          "color": "rgba(128, 128, 128, 0.1)",
          "width": 1
         },
         "mode": "lines",
         "text": "1.0",
         "type": "scatter",
         "x": [
          -0.8884686789090365,
          0.3042346205107624
         ],
         "y": [
          -0.31069767497084494,
          -0.21400329594720793
         ]
        },
        {
         "hoverinfo": "text",
         "line": {
          "color": "rgba(128, 128, 128, 0.1)",
          "width": 1
         },
         "mode": "lines",
         "text": "1.0",
         "type": "scatter",
         "x": [
          -0.8884686789090365,
          0.7925432626107755
         ],
         "y": [
          -0.31069767497084494,
          0.5855468854554127
         ]
        },
        {
         "hoverinfo": "text",
         "line": {
          "color": "rgba(128, 128, 128, 0.1)",
          "width": 1
         },
         "mode": "lines",
         "text": "1.0",
         "type": "scatter",
         "x": [
          -0.8884686789090365,
          -0.52981302729874
         ],
         "y": [
          -0.31069767497084494,
          -0.26861457638885444
         ]
        },
        {
         "hoverinfo": "text",
         "line": {
          "color": "rgba(128, 128, 128, 0.1)",
          "width": 1
         },
         "mode": "lines",
         "text": "1.0",
         "type": "scatter",
         "x": [
          -0.8884686789090365,
          -0.6047526130559822
         ],
         "y": [
          -0.31069767497084494,
          0.7655665975288818
         ]
        },
        {
         "hoverinfo": "text",
         "line": {
          "color": "rgba(128, 128, 128, 0.1)",
          "width": 1
         },
         "mode": "lines",
         "text": "1.0",
         "type": "scatter",
         "x": [
          -0.8884686789090365,
          0.6074389952577244
         ],
         "y": [
          -0.31069767497084494,
          -0.12243029093157637
         ]
        },
        {
         "hoverinfo": "text",
         "line": {
          "color": "rgba(128, 128, 128, 0.1)",
          "width": 1
         },
         "mode": "lines",
         "text": "1.0",
         "type": "scatter",
         "x": [
          -0.8884686789090365,
          -0.918938735340811
         ],
         "y": [
          -0.31069767497084494,
          0.29892269802325433
         ]
        },
        {
         "hoverinfo": "text",
         "line": {
          "color": "rgba(128, 128, 128, 0.1)",
          "width": 1
         },
         "mode": "lines",
         "text": "1.0",
         "type": "scatter",
         "x": [
          -0.8884686789090365,
          -0.39369798424770713
         ],
         "y": [
          -0.31069767497084494,
          0.1564690190913819
         ]
        },
        {
         "hoverinfo": "text",
         "line": {
          "color": "rgba(128, 128, 128, 0.1)",
          "width": 1
         },
         "mode": "lines",
         "text": "1.0",
         "type": "scatter",
         "x": [
          -0.8884686789090365,
          -0.4965138359262507
         ],
         "y": [
          -0.31069767497084494,
          0.5147073335073147
         ]
        },
        {
         "hoverinfo": "text",
         "line": {
          "color": "rgba(128, 128, 128, 0.1)",
          "width": 1
         },
         "mode": "lines",
         "text": "1.0",
         "type": "scatter",
         "x": [
          -0.8884686789090365,
          -0.7047942282637657
         ],
         "y": [
          -0.31069767497084494,
          0.05639581663858665
         ]
        },
        {
         "hoverinfo": "text",
         "line": {
          "color": "rgba(128, 128, 128, 0.1)",
          "width": 1
         },
         "mode": "lines",
         "text": "0.08333333333333333",
         "type": "scatter",
         "x": [
          -0.8884686789090365,
          0.22697673177044278
         ],
         "y": [
          -0.31069767497084494,
          -0.8456600770640139
         ]
        },
        {
         "hoverinfo": "text",
         "line": {
          "color": "rgba(128, 128, 128, 0.1)",
          "width": 1
         },
         "mode": "lines",
         "text": "0.5",
         "type": "scatter",
         "x": [
          -0.8884686789090365,
          0.17107928195038022
         ],
         "y": [
          -0.31069767497084494,
          0.7959403993931851
         ]
        },
        {
         "hoverinfo": "text",
         "line": {
          "color": "rgba(128, 128, 128, 0.1)",
          "width": 1
         },
         "mode": "lines",
         "text": "0.25",
         "type": "scatter",
         "x": [
          -0.8884686789090365,
          0.7198791291336225
         ],
         "y": [
          -0.31069767497084494,
          -0.3555785138076284
         ]
        },
        {
         "hoverinfo": "text",
         "line": {
          "color": "rgba(128, 128, 128, 0.1)",
          "width": 1
         },
         "mode": "lines",
         "text": "1.0",
         "type": "scatter",
         "x": [
          -0.8884686789090365,
          0.07592479646616518
         ],
         "y": [
          -0.31069767497084494,
          0.5489404396993625
         ]
        },
        {
         "hoverinfo": "text",
         "line": {
          "color": "rgba(128, 128, 128, 0.1)",
          "width": 1
         },
         "mode": "lines",
         "text": "1.0",
         "type": "scatter",
         "x": [
          -0.8884686789090365,
          -0.13240271109312432
         ],
         "y": [
          -0.31069767497084494,
          -0.36406482848700933
         ]
        },
        {
         "hoverinfo": "text",
         "line": {
          "color": "rgba(128, 128, 128, 0.1)",
          "width": 1
         },
         "mode": "lines",
         "text": "1.0",
         "type": "scatter",
         "x": [
          -0.8884686789090365,
          -1
         ],
         "y": [
          -0.31069767497084494,
          0.006663047876623049
         ]
        },
        {
         "hoverinfo": "text",
         "line": {
          "color": "rgba(128, 128, 128, 0.1)",
          "width": 1
         },
         "mode": "lines",
         "text": "1.0",
         "type": "scatter",
         "x": [
          -0.8884686789090365,
          0.40794135944224913
         ],
         "y": [
          -0.31069767497084494,
          -0.5939736404506816
         ]
        },
        {
         "hoverinfo": "text",
         "line": {
          "color": "rgba(128, 128, 128, 0.1)",
          "width": 1
         },
         "mode": "lines",
         "text": "0.5",
         "type": "scatter",
         "x": [
          -0.8884686789090365,
          0.42727580252097486
         ],
         "y": [
          -0.31069767497084494,
          -0.8147374733359818
         ]
        },
        {
         "hoverinfo": "text",
         "line": {
          "color": "rgba(128, 128, 128, 0.1)",
          "width": 1
         },
         "mode": "lines",
         "text": "0.125",
         "type": "scatter",
         "x": [
          -0.8884686789090365,
          -0.7464498563171527
         ],
         "y": [
          -0.31069767497084494,
          -0.15240867563536542
         ]
        },
        {
         "hoverinfo": "text",
         "line": {
          "color": "rgba(128, 128, 128, 0.1)",
          "width": 1
         },
         "mode": "lines",
         "text": "1.0",
         "type": "scatter",
         "x": [
          -0.8884686789090365,
          0.42220986898347856
         ],
         "y": [
          -0.31069767497084494,
          0.9443298132713931
         ]
        },
        {
         "hoverinfo": "text",
         "line": {
          "color": "rgba(128, 128, 128, 0.1)",
          "width": 1
         },
         "mode": "lines",
         "text": "1.0",
         "type": "scatter",
         "x": [
          -0.8884686789090365,
          0.7213026942444919
         ],
         "y": [
          -0.31069767497084494,
          -0.7028614856381851
         ]
        },
        {
         "hoverinfo": "text",
         "line": {
          "color": "rgba(128, 128, 128, 0.1)",
          "width": 1
         },
         "mode": "lines",
         "text": "1.0",
         "type": "scatter",
         "x": [
          -0.8884686789090365,
          0.9131728451074601
         ],
         "y": [
          -0.31069767497084494,
          -0.0786216846079524
         ]
        },
        {
         "hoverinfo": "text",
         "line": {
          "color": "rgba(128, 128, 128, 0.1)",
          "width": 1
         },
         "mode": "lines",
         "text": "1.0",
         "type": "scatter",
         "x": [
          -0.8884686789090365,
          -0.02029748952421764
         ],
         "y": [
          -0.31069767497084494,
          0.966511761384103
         ]
        },
        {
         "hoverinfo": "text",
         "line": {
          "color": "rgba(128, 128, 128, 0.1)",
          "width": 1
         },
         "mode": "lines",
         "text": "0.1111111111111111",
         "type": "scatter",
         "x": [
          -0.8884686789090365,
          -0.3235081883111062
         ],
         "y": [
          -0.31069767497084494,
          -0.08513015582825498
         ]
        },
        {
         "hoverinfo": "text",
         "line": {
          "color": "rgba(128, 128, 128, 0.1)",
          "width": 1
         },
         "mode": "lines",
         "text": "1.0",
         "type": "scatter",
         "x": [
          -0.8884686789090365,
          0.05287296895782892
         ],
         "y": [
          -0.31069767497084494,
          -0.09353267533807239
         ]
        },
        {
         "hoverinfo": "text",
         "line": {
          "color": "rgba(128, 128, 128, 0.1)",
          "width": 1
         },
         "mode": "lines",
         "text": "1.0",
         "type": "scatter",
         "x": [
          -0.8884686789090365,
          -0.5645297566213534
         ],
         "y": [
          -0.31069767497084494,
          -0.5714605612882918
         ]
        },
        {
         "hoverinfo": "text",
         "line": {
          "color": "rgba(128, 128, 128, 0.1)",
          "width": 1
         },
         "mode": "lines",
         "text": "0.1111111111111111",
         "type": "scatter",
         "x": [
          -0.8884686789090365,
          -0.3131286416509119
         ],
         "y": [
          -0.31069767497084494,
          0.597469912312249
         ]
        },
        {
         "hoverinfo": "text",
         "line": {
          "color": "rgba(128, 128, 128, 0.1)",
          "width": 1
         },
         "mode": "lines",
         "text": "1.0",
         "type": "scatter",
         "x": [
          -0.33280924839566023,
          -0.015856194826003367
         ],
         "y": [
          -0.5065195179912579,
          0.11145031512701231
         ]
        },
        {
         "hoverinfo": "text",
         "line": {
          "color": "rgba(128, 128, 128, 0.1)",
          "width": 1
         },
         "mode": "lines",
         "text": "1.0",
         "type": "scatter",
         "x": [
          -0.33280924839566023,
          -0.1953259850843532
         ],
         "y": [
          -0.5065195179912579,
          0.3518955956777661
         ]
        },
        {
         "hoverinfo": "text",
         "line": {
          "color": "rgba(128, 128, 128, 0.1)",
          "width": 1
         },
         "mode": "lines",
         "text": "0.1111111111111111",
         "type": "scatter",
         "x": [
          -0.33280924839566023,
          0.029357573635267073
         ],
         "y": [
          -0.5065195179912579,
          -0.9111388969932189
         ]
        },
        {
         "hoverinfo": "text",
         "line": {
          "color": "rgba(128, 128, 128, 0.1)",
          "width": 1
         },
         "mode": "lines",
         "text": "1.0",
         "type": "scatter",
         "x": [
          -0.33280924839566023,
          -0.01919280536162062
         ],
         "y": [
          -0.5065195179912579,
          -0.6521212445085668
         ]
        },
        {
         "hoverinfo": "text",
         "line": {
          "color": "rgba(128, 128, 128, 0.1)",
          "width": 1
         },
         "mode": "lines",
         "text": "1.0",
         "type": "scatter",
         "x": [
          -0.33280924839566023,
          -0.10911439248384298
         ],
         "y": [
          -0.5065195179912579,
          0.7578267516911958
         ]
        },
        {
         "hoverinfo": "text",
         "line": {
          "color": "rgba(128, 128, 128, 0.1)",
          "width": 1
         },
         "mode": "lines",
         "text": "1.0",
         "type": "scatter",
         "x": [
          -0.33280924839566023,
          0.6999593653183844
         ],
         "y": [
          -0.5065195179912579,
          0.34086743938130765
         ]
        },
        {
         "hoverinfo": "text",
         "line": {
          "color": "rgba(128, 128, 128, 0.1)",
          "width": 1
         },
         "mode": "lines",
         "text": "1.0",
         "type": "scatter",
         "x": [
          -0.33280924839566023,
          -0.7711438777564555
         ],
         "y": [
          -0.5065195179912579,
          0.5446514515452328
         ]
        },
        {
         "hoverinfo": "text",
         "line": {
          "color": "rgba(128, 128, 128, 0.1)",
          "width": 1
         },
         "mode": "lines",
         "text": "1.0",
         "type": "scatter",
         "x": [
          -0.33280924839566023,
          0.9159172652301071
         ],
         "y": [
          -0.5065195179912579,
          -0.2876278366482088
         ]
        },
        {
         "hoverinfo": "text",
         "line": {
          "color": "rgba(128, 128, 128, 0.1)",
          "width": 1
         },
         "mode": "lines",
         "text": "0.3333333333333333",
         "type": "scatter",
         "x": [
          -0.33280924839566023,
          0.3042346205107624
         ],
         "y": [
          -0.5065195179912579,
          -0.21400329594720793
         ]
        },
        {
         "hoverinfo": "text",
         "line": {
          "color": "rgba(128, 128, 128, 0.1)",
          "width": 1
         },
         "mode": "lines",
         "text": "1.0",
         "type": "scatter",
         "x": [
          -0.33280924839566023,
          0.7925432626107755
         ],
         "y": [
          -0.5065195179912579,
          0.5855468854554127
         ]
        },
        {
         "hoverinfo": "text",
         "line": {
          "color": "rgba(128, 128, 128, 0.1)",
          "width": 1
         },
         "mode": "lines",
         "text": "1.0",
         "type": "scatter",
         "x": [
          -0.33280924839566023,
          -0.52981302729874
         ],
         "y": [
          -0.5065195179912579,
          -0.26861457638885444
         ]
        },
        {
         "hoverinfo": "text",
         "line": {
          "color": "rgba(128, 128, 128, 0.1)",
          "width": 1
         },
         "mode": "lines",
         "text": "1.0",
         "type": "scatter",
         "x": [
          -0.33280924839566023,
          -0.6047526130559822
         ],
         "y": [
          -0.5065195179912579,
          0.7655665975288818
         ]
        },
        {
         "hoverinfo": "text",
         "line": {
          "color": "rgba(128, 128, 128, 0.1)",
          "width": 1
         },
         "mode": "lines",
         "text": "1.0",
         "type": "scatter",
         "x": [
          -0.33280924839566023,
          0.6074389952577244
         ],
         "y": [
          -0.5065195179912579,
          -0.12243029093157637
         ]
        },
        {
         "hoverinfo": "text",
         "line": {
          "color": "rgba(128, 128, 128, 0.1)",
          "width": 1
         },
         "mode": "lines",
         "text": "1.0",
         "type": "scatter",
         "x": [
          -0.33280924839566023,
          -0.918938735340811
         ],
         "y": [
          -0.5065195179912579,
          0.29892269802325433
         ]
        },
        {
         "hoverinfo": "text",
         "line": {
          "color": "rgba(128, 128, 128, 0.1)",
          "width": 1
         },
         "mode": "lines",
         "text": "1.0",
         "type": "scatter",
         "x": [
          -0.33280924839566023,
          -0.39369798424770713
         ],
         "y": [
          -0.5065195179912579,
          0.1564690190913819
         ]
        },
        {
         "hoverinfo": "text",
         "line": {
          "color": "rgba(128, 128, 128, 0.1)",
          "width": 1
         },
         "mode": "lines",
         "text": "1.0",
         "type": "scatter",
         "x": [
          -0.33280924839566023,
          -0.4965138359262507
         ],
         "y": [
          -0.5065195179912579,
          0.5147073335073147
         ]
        },
        {
         "hoverinfo": "text",
         "line": {
          "color": "rgba(128, 128, 128, 0.1)",
          "width": 1
         },
         "mode": "lines",
         "text": "1.0",
         "type": "scatter",
         "x": [
          -0.33280924839566023,
          -0.7047942282637657
         ],
         "y": [
          -0.5065195179912579,
          0.05639581663858665
         ]
        },
        {
         "hoverinfo": "text",
         "line": {
          "color": "rgba(128, 128, 128, 0.1)",
          "width": 1
         },
         "mode": "lines",
         "text": "0.08333333333333333",
         "type": "scatter",
         "x": [
          -0.33280924839566023,
          0.22697673177044278
         ],
         "y": [
          -0.5065195179912579,
          -0.8456600770640139
         ]
        },
        {
         "hoverinfo": "text",
         "line": {
          "color": "rgba(128, 128, 128, 0.1)",
          "width": 1
         },
         "mode": "lines",
         "text": "0.5",
         "type": "scatter",
         "x": [
          -0.33280924839566023,
          0.17107928195038022
         ],
         "y": [
          -0.5065195179912579,
          0.7959403993931851
         ]
        },
        {
         "hoverinfo": "text",
         "line": {
          "color": "rgba(128, 128, 128, 0.1)",
          "width": 1
         },
         "mode": "lines",
         "text": "0.125",
         "type": "scatter",
         "x": [
          -0.33280924839566023,
          0.7198791291336225
         ],
         "y": [
          -0.5065195179912579,
          -0.3555785138076284
         ]
        },
        {
         "hoverinfo": "text",
         "line": {
          "color": "rgba(128, 128, 128, 0.1)",
          "width": 1
         },
         "mode": "lines",
         "text": "1.0",
         "type": "scatter",
         "x": [
          -0.33280924839566023,
          0.07592479646616518
         ],
         "y": [
          -0.5065195179912579,
          0.5489404396993625
         ]
        },
        {
         "hoverinfo": "text",
         "line": {
          "color": "rgba(128, 128, 128, 0.1)",
          "width": 1
         },
         "mode": "lines",
         "text": "1.0",
         "type": "scatter",
         "x": [
          -0.33280924839566023,
          -0.13240271109312432
         ],
         "y": [
          -0.5065195179912579,
          -0.36406482848700933
         ]
        },
        {
         "hoverinfo": "text",
         "line": {
          "color": "rgba(128, 128, 128, 0.1)",
          "width": 1
         },
         "mode": "lines",
         "text": "1.0",
         "type": "scatter",
         "x": [
          -0.33280924839566023,
          -1
         ],
         "y": [
          -0.5065195179912579,
          0.006663047876623049
         ]
        },
        {
         "hoverinfo": "text",
         "line": {
          "color": "rgba(128, 128, 128, 0.1)",
          "width": 1
         },
         "mode": "lines",
         "text": "1.0",
         "type": "scatter",
         "x": [
          -0.33280924839566023,
          0.40794135944224913
         ],
         "y": [
          -0.5065195179912579,
          -0.5939736404506816
         ]
        },
        {
         "hoverinfo": "text",
         "line": {
          "color": "rgba(128, 128, 128, 0.1)",
          "width": 1
         },
         "mode": "lines",
         "text": "0.5",
         "type": "scatter",
         "x": [
          -0.33280924839566023,
          0.42727580252097486
         ],
         "y": [
          -0.5065195179912579,
          -0.8147374733359818
         ]
        },
        {
         "hoverinfo": "text",
         "line": {
          "color": "rgba(128, 128, 128, 0.1)",
          "width": 1
         },
         "mode": "lines",
         "text": "0.125",
         "type": "scatter",
         "x": [
          -0.33280924839566023,
          -0.7464498563171527
         ],
         "y": [
          -0.5065195179912579,
          -0.15240867563536542
         ]
        },
        {
         "hoverinfo": "text",
         "line": {
          "color": "rgba(128, 128, 128, 0.1)",
          "width": 1
         },
         "mode": "lines",
         "text": "1.0",
         "type": "scatter",
         "x": [
          -0.33280924839566023,
          0.42220986898347856
         ],
         "y": [
          -0.5065195179912579,
          0.9443298132713931
         ]
        },
        {
         "hoverinfo": "text",
         "line": {
          "color": "rgba(128, 128, 128, 0.1)",
          "width": 1
         },
         "mode": "lines",
         "text": "1.0",
         "type": "scatter",
         "x": [
          -0.33280924839566023,
          0.7213026942444919
         ],
         "y": [
          -0.5065195179912579,
          -0.7028614856381851
         ]
        },
        {
         "hoverinfo": "text",
         "line": {
          "color": "rgba(128, 128, 128, 0.1)",
          "width": 1
         },
         "mode": "lines",
         "text": "1.0",
         "type": "scatter",
         "x": [
          -0.33280924839566023,
          0.9131728451074601
         ],
         "y": [
          -0.5065195179912579,
          -0.0786216846079524
         ]
        },
        {
         "hoverinfo": "text",
         "line": {
          "color": "rgba(128, 128, 128, 0.1)",
          "width": 1
         },
         "mode": "lines",
         "text": "1.0",
         "type": "scatter",
         "x": [
          -0.33280924839566023,
          -0.02029748952421764
         ],
         "y": [
          -0.5065195179912579,
          0.966511761384103
         ]
        },
        {
         "hoverinfo": "text",
         "line": {
          "color": "rgba(128, 128, 128, 0.1)",
          "width": 1
         },
         "mode": "lines",
         "text": "0.1111111111111111",
         "type": "scatter",
         "x": [
          -0.33280924839566023,
          -0.3235081883111062
         ],
         "y": [
          -0.5065195179912579,
          -0.08513015582825498
         ]
        },
        {
         "hoverinfo": "text",
         "line": {
          "color": "rgba(128, 128, 128, 0.1)",
          "width": 1
         },
         "mode": "lines",
         "text": "1.0",
         "type": "scatter",
         "x": [
          -0.33280924839566023,
          0.05287296895782892
         ],
         "y": [
          -0.5065195179912579,
          -0.09353267533807239
         ]
        },
        {
         "hoverinfo": "text",
         "line": {
          "color": "rgba(128, 128, 128, 0.1)",
          "width": 1
         },
         "mode": "lines",
         "text": "1.0",
         "type": "scatter",
         "x": [
          -0.33280924839566023,
          -0.5645297566213534
         ],
         "y": [
          -0.5065195179912579,
          -0.5714605612882918
         ]
        },
        {
         "hoverinfo": "text",
         "line": {
          "color": "rgba(128, 128, 128, 0.1)",
          "width": 1
         },
         "mode": "lines",
         "text": "0.1111111111111111",
         "type": "scatter",
         "x": [
          -0.33280924839566023,
          -0.3131286416509119
         ],
         "y": [
          -0.5065195179912579,
          0.597469912312249
         ]
        },
        {
         "hoverinfo": "text",
         "line": {
          "color": "rgba(128, 128, 128, 0.1)",
          "width": 1
         },
         "mode": "lines",
         "text": "1.0",
         "type": "scatter",
         "x": [
          -0.015856194826003367,
          -0.1953259850843532
         ],
         "y": [
          0.11145031512701231,
          0.3518955956777661
         ]
        },
        {
         "hoverinfo": "text",
         "line": {
          "color": "rgba(128, 128, 128, 0.1)",
          "width": 1
         },
         "mode": "lines",
         "text": "0.1111111111111111",
         "type": "scatter",
         "x": [
          -0.015856194826003367,
          0.029357573635267073
         ],
         "y": [
          0.11145031512701231,
          -0.9111388969932189
         ]
        },
        {
         "hoverinfo": "text",
         "line": {
          "color": "rgba(128, 128, 128, 0.1)",
          "width": 1
         },
         "mode": "lines",
         "text": "1.0",
         "type": "scatter",
         "x": [
          -0.015856194826003367,
          -0.01919280536162062
         ],
         "y": [
          0.11145031512701231,
          -0.6521212445085668
         ]
        },
        {
         "hoverinfo": "text",
         "line": {
          "color": "rgba(128, 128, 128, 0.1)",
          "width": 1
         },
         "mode": "lines",
         "text": "1.0",
         "type": "scatter",
         "x": [
          -0.015856194826003367,
          -0.10911439248384298
         ],
         "y": [
          0.11145031512701231,
          0.7578267516911958
         ]
        },
        {
         "hoverinfo": "text",
         "line": {
          "color": "rgba(128, 128, 128, 0.1)",
          "width": 1
         },
         "mode": "lines",
         "text": "1.0",
         "type": "scatter",
         "x": [
          -0.015856194826003367,
          0.6999593653183844
         ],
         "y": [
          0.11145031512701231,
          0.34086743938130765
         ]
        },
        {
         "hoverinfo": "text",
         "line": {
          "color": "rgba(128, 128, 128, 0.1)",
          "width": 1
         },
         "mode": "lines",
         "text": "1.0",
         "type": "scatter",
         "x": [
          -0.015856194826003367,
          -0.7711438777564555
         ],
         "y": [
          0.11145031512701231,
          0.5446514515452328
         ]
        },
        {
         "hoverinfo": "text",
         "line": {
          "color": "rgba(128, 128, 128, 0.1)",
          "width": 1
         },
         "mode": "lines",
         "text": "1.0",
         "type": "scatter",
         "x": [
          -0.015856194826003367,
          0.9159172652301071
         ],
         "y": [
          0.11145031512701231,
          -0.2876278366482088
         ]
        },
        {
         "hoverinfo": "text",
         "line": {
          "color": "rgba(128, 128, 128, 0.1)",
          "width": 1
         },
         "mode": "lines",
         "text": "0.3333333333333333",
         "type": "scatter",
         "x": [
          -0.015856194826003367,
          0.3042346205107624
         ],
         "y": [
          0.11145031512701231,
          -0.21400329594720793
         ]
        },
        {
         "hoverinfo": "text",
         "line": {
          "color": "rgba(128, 128, 128, 0.1)",
          "width": 1
         },
         "mode": "lines",
         "text": "0.14285714285714285",
         "type": "scatter",
         "x": [
          -0.015856194826003367,
          0.7925432626107755
         ],
         "y": [
          0.11145031512701231,
          0.5855468854554127
         ]
        },
        {
         "hoverinfo": "text",
         "line": {
          "color": "rgba(128, 128, 128, 0.1)",
          "width": 1
         },
         "mode": "lines",
         "text": "1.0",
         "type": "scatter",
         "x": [
          -0.015856194826003367,
          -0.52981302729874
         ],
         "y": [
          0.11145031512701231,
          -0.26861457638885444
         ]
        },
        {
         "hoverinfo": "text",
         "line": {
          "color": "rgba(128, 128, 128, 0.1)",
          "width": 1
         },
         "mode": "lines",
         "text": "1.0",
         "type": "scatter",
         "x": [
          -0.015856194826003367,
          -0.6047526130559822
         ],
         "y": [
          0.11145031512701231,
          0.7655665975288818
         ]
        },
        {
         "hoverinfo": "text",
         "line": {
          "color": "rgba(128, 128, 128, 0.1)",
          "width": 1
         },
         "mode": "lines",
         "text": "1.0",
         "type": "scatter",
         "x": [
          -0.015856194826003367,
          0.6074389952577244
         ],
         "y": [
          0.11145031512701231,
          -0.12243029093157637
         ]
        },
        {
         "hoverinfo": "text",
         "line": {
          "color": "rgba(128, 128, 128, 0.1)",
          "width": 1
         },
         "mode": "lines",
         "text": "1.0",
         "type": "scatter",
         "x": [
          -0.015856194826003367,
          -0.918938735340811
         ],
         "y": [
          0.11145031512701231,
          0.29892269802325433
         ]
        },
        {
         "hoverinfo": "text",
         "line": {
          "color": "rgba(128, 128, 128, 0.1)",
          "width": 1
         },
         "mode": "lines",
         "text": "1.0",
         "type": "scatter",
         "x": [
          -0.015856194826003367,
          -0.39369798424770713
         ],
         "y": [
          0.11145031512701231,
          0.1564690190913819
         ]
        },
        {
         "hoverinfo": "text",
         "line": {
          "color": "rgba(128, 128, 128, 0.1)",
          "width": 1
         },
         "mode": "lines",
         "text": "1.0",
         "type": "scatter",
         "x": [
          -0.015856194826003367,
          -0.4965138359262507
         ],
         "y": [
          0.11145031512701231,
          0.5147073335073147
         ]
        },
        {
         "hoverinfo": "text",
         "line": {
          "color": "rgba(128, 128, 128, 0.1)",
          "width": 1
         },
         "mode": "lines",
         "text": "1.0",
         "type": "scatter",
         "x": [
          -0.015856194826003367,
          -0.7047942282637657
         ],
         "y": [
          0.11145031512701231,
          0.05639581663858665
         ]
        },
        {
         "hoverinfo": "text",
         "line": {
          "color": "rgba(128, 128, 128, 0.1)",
          "width": 1
         },
         "mode": "lines",
         "text": "0.1",
         "type": "scatter",
         "x": [
          -0.015856194826003367,
          0.22697673177044278
         ],
         "y": [
          0.11145031512701231,
          -0.8456600770640139
         ]
        },
        {
         "hoverinfo": "text",
         "line": {
          "color": "rgba(128, 128, 128, 0.1)",
          "width": 1
         },
         "mode": "lines",
         "text": "0.5",
         "type": "scatter",
         "x": [
          -0.015856194826003367,
          0.17107928195038022
         ],
         "y": [
          0.11145031512701231,
          0.7959403993931851
         ]
        },
        {
         "hoverinfo": "text",
         "line": {
          "color": "rgba(128, 128, 128, 0.1)",
          "width": 1
         },
         "mode": "lines",
         "text": "0.125",
         "type": "scatter",
         "x": [
          -0.015856194826003367,
          0.7198791291336225
         ],
         "y": [
          0.11145031512701231,
          -0.3555785138076284
         ]
        },
        {
         "hoverinfo": "text",
         "line": {
          "color": "rgba(128, 128, 128, 0.1)",
          "width": 1
         },
         "mode": "lines",
         "text": "1.0",
         "type": "scatter",
         "x": [
          -0.015856194826003367,
          0.07592479646616518
         ],
         "y": [
          0.11145031512701231,
          0.5489404396993625
         ]
        },
        {
         "hoverinfo": "text",
         "line": {
          "color": "rgba(128, 128, 128, 0.1)",
          "width": 1
         },
         "mode": "lines",
         "text": "1.0",
         "type": "scatter",
         "x": [
          -0.015856194826003367,
          -0.13240271109312432
         ],
         "y": [
          0.11145031512701231,
          -0.36406482848700933
         ]
        },
        {
         "hoverinfo": "text",
         "line": {
          "color": "rgba(128, 128, 128, 0.1)",
          "width": 1
         },
         "mode": "lines",
         "text": "1.0",
         "type": "scatter",
         "x": [
          -0.015856194826003367,
          -1
         ],
         "y": [
          0.11145031512701231,
          0.006663047876623049
         ]
        },
        {
         "hoverinfo": "text",
         "line": {
          "color": "rgba(128, 128, 128, 0.1)",
          "width": 1
         },
         "mode": "lines",
         "text": "1.0",
         "type": "scatter",
         "x": [
          -0.015856194826003367,
          0.40794135944224913
         ],
         "y": [
          0.11145031512701231,
          -0.5939736404506816
         ]
        },
        {
         "hoverinfo": "text",
         "line": {
          "color": "rgba(128, 128, 128, 0.1)",
          "width": 1
         },
         "mode": "lines",
         "text": "0.5",
         "type": "scatter",
         "x": [
          -0.015856194826003367,
          0.42727580252097486
         ],
         "y": [
          0.11145031512701231,
          -0.8147374733359818
         ]
        },
        {
         "hoverinfo": "text",
         "line": {
          "color": "rgba(128, 128, 128, 0.1)",
          "width": 1
         },
         "mode": "lines",
         "text": "0.125",
         "type": "scatter",
         "x": [
          -0.015856194826003367,
          -0.7464498563171527
         ],
         "y": [
          0.11145031512701231,
          -0.15240867563536542
         ]
        },
        {
         "hoverinfo": "text",
         "line": {
          "color": "rgba(128, 128, 128, 0.1)",
          "width": 1
         },
         "mode": "lines",
         "text": "1.0",
         "type": "scatter",
         "x": [
          -0.015856194826003367,
          0.42220986898347856
         ],
         "y": [
          0.11145031512701231,
          0.9443298132713931
         ]
        },
        {
         "hoverinfo": "text",
         "line": {
          "color": "rgba(128, 128, 128, 0.1)",
          "width": 1
         },
         "mode": "lines",
         "text": "1.0",
         "type": "scatter",
         "x": [
          -0.015856194826003367,
          0.7213026942444919
         ],
         "y": [
          0.11145031512701231,
          -0.7028614856381851
         ]
        },
        {
         "hoverinfo": "text",
         "line": {
          "color": "rgba(128, 128, 128, 0.1)",
          "width": 1
         },
         "mode": "lines",
         "text": "0.1111111111111111",
         "type": "scatter",
         "x": [
          -0.015856194826003367,
          0.9131728451074601
         ],
         "y": [
          0.11145031512701231,
          -0.0786216846079524
         ]
        },
        {
         "hoverinfo": "text",
         "line": {
          "color": "rgba(128, 128, 128, 0.1)",
          "width": 1
         },
         "mode": "lines",
         "text": "1.0",
         "type": "scatter",
         "x": [
          -0.015856194826003367,
          -0.02029748952421764
         ],
         "y": [
          0.11145031512701231,
          0.966511761384103
         ]
        },
        {
         "hoverinfo": "text",
         "line": {
          "color": "rgba(128, 128, 128, 0.1)",
          "width": 1
         },
         "mode": "lines",
         "text": "0.1111111111111111",
         "type": "scatter",
         "x": [
          -0.015856194826003367,
          -0.3235081883111062
         ],
         "y": [
          0.11145031512701231,
          -0.08513015582825498
         ]
        },
        {
         "hoverinfo": "text",
         "line": {
          "color": "rgba(128, 128, 128, 0.1)",
          "width": 1
         },
         "mode": "lines",
         "text": "1.0",
         "type": "scatter",
         "x": [
          -0.015856194826003367,
          0.05287296895782892
         ],
         "y": [
          0.11145031512701231,
          -0.09353267533807239
         ]
        },
        {
         "hoverinfo": "text",
         "line": {
          "color": "rgba(128, 128, 128, 0.1)",
          "width": 1
         },
         "mode": "lines",
         "text": "1.0",
         "type": "scatter",
         "x": [
          -0.015856194826003367,
          -0.5645297566213534
         ],
         "y": [
          0.11145031512701231,
          -0.5714605612882918
         ]
        },
        {
         "hoverinfo": "text",
         "line": {
          "color": "rgba(128, 128, 128, 0.1)",
          "width": 1
         },
         "mode": "lines",
         "text": "0.1111111111111111",
         "type": "scatter",
         "x": [
          -0.015856194826003367,
          -0.3131286416509119
         ],
         "y": [
          0.11145031512701231,
          0.597469912312249
         ]
        },
        {
         "hoverinfo": "text",
         "line": {
          "color": "rgba(128, 128, 128, 0.1)",
          "width": 1
         },
         "mode": "lines",
         "text": "1.0",
         "type": "scatter",
         "x": [
          -0.1953259850843532,
          0.029357573635267073
         ],
         "y": [
          0.3518955956777661,
          -0.9111388969932189
         ]
        },
        {
         "hoverinfo": "text",
         "line": {
          "color": "rgba(128, 128, 128, 0.1)",
          "width": 1
         },
         "mode": "lines",
         "text": "1.0",
         "type": "scatter",
         "x": [
          -0.1953259850843532,
          -0.01919280536162062
         ],
         "y": [
          0.3518955956777661,
          -0.6521212445085668
         ]
        },
        {
         "hoverinfo": "text",
         "line": {
          "color": "rgba(128, 128, 128, 0.1)",
          "width": 1
         },
         "mode": "lines",
         "text": "1.0",
         "type": "scatter",
         "x": [
          -0.1953259850843532,
          -0.10911439248384298
         ],
         "y": [
          0.3518955956777661,
          0.7578267516911958
         ]
        },
        {
         "hoverinfo": "text",
         "line": {
          "color": "rgba(128, 128, 128, 0.1)",
          "width": 1
         },
         "mode": "lines",
         "text": "1.0",
         "type": "scatter",
         "x": [
          -0.1953259850843532,
          0.6999593653183844
         ],
         "y": [
          0.3518955956777661,
          0.34086743938130765
         ]
        },
        {
         "hoverinfo": "text",
         "line": {
          "color": "rgba(128, 128, 128, 0.1)",
          "width": 1
         },
         "mode": "lines",
         "text": "1.0",
         "type": "scatter",
         "x": [
          -0.1953259850843532,
          -0.7711438777564555
         ],
         "y": [
          0.3518955956777661,
          0.5446514515452328
         ]
        },
        {
         "hoverinfo": "text",
         "line": {
          "color": "rgba(128, 128, 128, 0.1)",
          "width": 1
         },
         "mode": "lines",
         "text": "1.0",
         "type": "scatter",
         "x": [
          -0.1953259850843532,
          0.9159172652301071
         ],
         "y": [
          0.3518955956777661,
          -0.2876278366482088
         ]
        },
        {
         "hoverinfo": "text",
         "line": {
          "color": "rgba(128, 128, 128, 0.1)",
          "width": 1
         },
         "mode": "lines",
         "text": "0.3333333333333333",
         "type": "scatter",
         "x": [
          -0.1953259850843532,
          0.3042346205107624
         ],
         "y": [
          0.3518955956777661,
          -0.21400329594720793
         ]
        },
        {
         "hoverinfo": "text",
         "line": {
          "color": "rgba(128, 128, 128, 0.1)",
          "width": 1
         },
         "mode": "lines",
         "text": "0.3333333333333333",
         "type": "scatter",
         "x": [
          -0.1953259850843532,
          0.7925432626107755
         ],
         "y": [
          0.3518955956777661,
          0.5855468854554127
         ]
        },
        {
         "hoverinfo": "text",
         "line": {
          "color": "rgba(128, 128, 128, 0.1)",
          "width": 1
         },
         "mode": "lines",
         "text": "1.0",
         "type": "scatter",
         "x": [
          -0.1953259850843532,
          -0.52981302729874
         ],
         "y": [
          0.3518955956777661,
          -0.26861457638885444
         ]
        },
        {
         "hoverinfo": "text",
         "line": {
          "color": "rgba(128, 128, 128, 0.1)",
          "width": 1
         },
         "mode": "lines",
         "text": "1.0",
         "type": "scatter",
         "x": [
          -0.1953259850843532,
          -0.6047526130559822
         ],
         "y": [
          0.3518955956777661,
          0.7655665975288818
         ]
        },
        {
         "hoverinfo": "text",
         "line": {
          "color": "rgba(128, 128, 128, 0.1)",
          "width": 1
         },
         "mode": "lines",
         "text": "1.0",
         "type": "scatter",
         "x": [
          -0.1953259850843532,
          0.6074389952577244
         ],
         "y": [
          0.3518955956777661,
          -0.12243029093157637
         ]
        },
        {
         "hoverinfo": "text",
         "line": {
          "color": "rgba(128, 128, 128, 0.1)",
          "width": 1
         },
         "mode": "lines",
         "text": "1.0",
         "type": "scatter",
         "x": [
          -0.1953259850843532,
          -0.918938735340811
         ],
         "y": [
          0.3518955956777661,
          0.29892269802325433
         ]
        },
        {
         "hoverinfo": "text",
         "line": {
          "color": "rgba(128, 128, 128, 0.1)",
          "width": 1
         },
         "mode": "lines",
         "text": "1.0",
         "type": "scatter",
         "x": [
          -0.1953259850843532,
          -0.39369798424770713
         ],
         "y": [
          0.3518955956777661,
          0.1564690190913819
         ]
        },
        {
         "hoverinfo": "text",
         "line": {
          "color": "rgba(128, 128, 128, 0.1)",
          "width": 1
         },
         "mode": "lines",
         "text": "1.0",
         "type": "scatter",
         "x": [
          -0.1953259850843532,
          -0.4965138359262507
         ],
         "y": [
          0.3518955956777661,
          0.5147073335073147
         ]
        },
        {
         "hoverinfo": "text",
         "line": {
          "color": "rgba(128, 128, 128, 0.1)",
          "width": 1
         },
         "mode": "lines",
         "text": "1.0",
         "type": "scatter",
         "x": [
          -0.1953259850843532,
          -0.7047942282637657
         ],
         "y": [
          0.3518955956777661,
          0.05639581663858665
         ]
        },
        {
         "hoverinfo": "text",
         "line": {
          "color": "rgba(128, 128, 128, 0.1)",
          "width": 1
         },
         "mode": "lines",
         "text": "0.05555555555555555",
         "type": "scatter",
         "x": [
          -0.1953259850843532,
          0.22697673177044278
         ],
         "y": [
          0.3518955956777661,
          -0.8456600770640139
         ]
        },
        {
         "hoverinfo": "text",
         "line": {
          "color": "rgba(128, 128, 128, 0.1)",
          "width": 1
         },
         "mode": "lines",
         "text": "0.5",
         "type": "scatter",
         "x": [
          -0.1953259850843532,
          0.17107928195038022
         ],
         "y": [
          0.3518955956777661,
          0.7959403993931851
         ]
        },
        {
         "hoverinfo": "text",
         "line": {
          "color": "rgba(128, 128, 128, 0.1)",
          "width": 1
         },
         "mode": "lines",
         "text": "0.125",
         "type": "scatter",
         "x": [
          -0.1953259850843532,
          0.7198791291336225
         ],
         "y": [
          0.3518955956777661,
          -0.3555785138076284
         ]
        },
        {
         "hoverinfo": "text",
         "line": {
          "color": "rgba(128, 128, 128, 0.1)",
          "width": 1
         },
         "mode": "lines",
         "text": "1.0",
         "type": "scatter",
         "x": [
          -0.1953259850843532,
          0.07592479646616518
         ],
         "y": [
          0.3518955956777661,
          0.5489404396993625
         ]
        },
        {
         "hoverinfo": "text",
         "line": {
          "color": "rgba(128, 128, 128, 0.1)",
          "width": 1
         },
         "mode": "lines",
         "text": "1.0",
         "type": "scatter",
         "x": [
          -0.1953259850843532,
          -0.13240271109312432
         ],
         "y": [
          0.3518955956777661,
          -0.36406482848700933
         ]
        },
        {
         "hoverinfo": "text",
         "line": {
          "color": "rgba(128, 128, 128, 0.1)",
          "width": 1
         },
         "mode": "lines",
         "text": "1.0",
         "type": "scatter",
         "x": [
          -0.1953259850843532,
          -1
         ],
         "y": [
          0.3518955956777661,
          0.006663047876623049
         ]
        },
        {
         "hoverinfo": "text",
         "line": {
          "color": "rgba(128, 128, 128, 0.1)",
          "width": 1
         },
         "mode": "lines",
         "text": "1.0",
         "type": "scatter",
         "x": [
          -0.1953259850843532,
          0.40794135944224913
         ],
         "y": [
          0.3518955956777661,
          -0.5939736404506816
         ]
        },
        {
         "hoverinfo": "text",
         "line": {
          "color": "rgba(128, 128, 128, 0.1)",
          "width": 1
         },
         "mode": "lines",
         "text": "0.5",
         "type": "scatter",
         "x": [
          -0.1953259850843532,
          0.42727580252097486
         ],
         "y": [
          0.3518955956777661,
          -0.8147374733359818
         ]
        },
        {
         "hoverinfo": "text",
         "line": {
          "color": "rgba(128, 128, 128, 0.1)",
          "width": 1
         },
         "mode": "lines",
         "text": "0.125",
         "type": "scatter",
         "x": [
          -0.1953259850843532,
          -0.7464498563171527
         ],
         "y": [
          0.3518955956777661,
          -0.15240867563536542
         ]
        },
        {
         "hoverinfo": "text",
         "line": {
          "color": "rgba(128, 128, 128, 0.1)",
          "width": 1
         },
         "mode": "lines",
         "text": "1.0",
         "type": "scatter",
         "x": [
          -0.1953259850843532,
          0.42220986898347856
         ],
         "y": [
          0.3518955956777661,
          0.9443298132713931
         ]
        },
        {
         "hoverinfo": "text",
         "line": {
          "color": "rgba(128, 128, 128, 0.1)",
          "width": 1
         },
         "mode": "lines",
         "text": "1.0",
         "type": "scatter",
         "x": [
          -0.1953259850843532,
          0.7213026942444919
         ],
         "y": [
          0.3518955956777661,
          -0.7028614856381851
         ]
        },
        {
         "hoverinfo": "text",
         "line": {
          "color": "rgba(128, 128, 128, 0.1)",
          "width": 1
         },
         "mode": "lines",
         "text": "0.1111111111111111",
         "type": "scatter",
         "x": [
          -0.1953259850843532,
          0.9131728451074601
         ],
         "y": [
          0.3518955956777661,
          -0.0786216846079524
         ]
        },
        {
         "hoverinfo": "text",
         "line": {
          "color": "rgba(128, 128, 128, 0.1)",
          "width": 1
         },
         "mode": "lines",
         "text": "1.0",
         "type": "scatter",
         "x": [
          -0.1953259850843532,
          -0.02029748952421764
         ],
         "y": [
          0.3518955956777661,
          0.966511761384103
         ]
        },
        {
         "hoverinfo": "text",
         "line": {
          "color": "rgba(128, 128, 128, 0.1)",
          "width": 1
         },
         "mode": "lines",
         "text": "0.1111111111111111",
         "type": "scatter",
         "x": [
          -0.1953259850843532,
          -0.3235081883111062
         ],
         "y": [
          0.3518955956777661,
          -0.08513015582825498
         ]
        },
        {
         "hoverinfo": "text",
         "line": {
          "color": "rgba(128, 128, 128, 0.1)",
          "width": 1
         },
         "mode": "lines",
         "text": "1.0",
         "type": "scatter",
         "x": [
          -0.1953259850843532,
          0.05287296895782892
         ],
         "y": [
          0.3518955956777661,
          -0.09353267533807239
         ]
        },
        {
         "hoverinfo": "text",
         "line": {
          "color": "rgba(128, 128, 128, 0.1)",
          "width": 1
         },
         "mode": "lines",
         "text": "1.0",
         "type": "scatter",
         "x": [
          -0.1953259850843532,
          -0.5645297566213534
         ],
         "y": [
          0.3518955956777661,
          -0.5714605612882918
         ]
        },
        {
         "hoverinfo": "text",
         "line": {
          "color": "rgba(128, 128, 128, 0.1)",
          "width": 1
         },
         "mode": "lines",
         "text": "0.1111111111111111",
         "type": "scatter",
         "x": [
          -0.1953259850843532,
          -0.3131286416509119
         ],
         "y": [
          0.3518955956777661,
          0.597469912312249
         ]
        },
        {
         "hoverinfo": "text",
         "line": {
          "color": "rgba(128, 128, 128, 0.1)",
          "width": 1
         },
         "mode": "lines",
         "text": "0.1111111111111111",
         "type": "scatter",
         "x": [
          0.029357573635267073,
          -0.01919280536162062
         ],
         "y": [
          -0.9111388969932189,
          -0.6521212445085668
         ]
        },
        {
         "hoverinfo": "text",
         "line": {
          "color": "rgba(128, 128, 128, 0.1)",
          "width": 1
         },
         "mode": "lines",
         "text": "1.0",
         "type": "scatter",
         "x": [
          0.029357573635267073,
          -0.10911439248384298
         ],
         "y": [
          -0.9111388969932189,
          0.7578267516911958
         ]
        },
        {
         "hoverinfo": "text",
         "line": {
          "color": "rgba(128, 128, 128, 0.1)",
          "width": 1
         },
         "mode": "lines",
         "text": "0.1111111111111111",
         "type": "scatter",
         "x": [
          0.029357573635267073,
          0.6999593653183844
         ],
         "y": [
          -0.9111388969932189,
          0.34086743938130765
         ]
        },
        {
         "hoverinfo": "text",
         "line": {
          "color": "rgba(128, 128, 128, 0.1)",
          "width": 1
         },
         "mode": "lines",
         "text": "0.1111111111111111",
         "type": "scatter",
         "x": [
          0.029357573635267073,
          -0.7711438777564555
         ],
         "y": [
          -0.9111388969932189,
          0.5446514515452328
         ]
        },
        {
         "hoverinfo": "text",
         "line": {
          "color": "rgba(128, 128, 128, 0.1)",
          "width": 1
         },
         "mode": "lines",
         "text": "0.1111111111111111",
         "type": "scatter",
         "x": [
          0.029357573635267073,
          0.9159172652301071
         ],
         "y": [
          -0.9111388969932189,
          -0.2876278366482088
         ]
        },
        {
         "hoverinfo": "text",
         "line": {
          "color": "rgba(128, 128, 128, 0.1)",
          "width": 1
         },
         "mode": "lines",
         "text": "0.09090909090909091",
         "type": "scatter",
         "x": [
          0.029357573635267073,
          0.3042346205107624
         ],
         "y": [
          -0.9111388969932189,
          -0.21400329594720793
         ]
        },
        {
         "hoverinfo": "text",
         "line": {
          "color": "rgba(128, 128, 128, 0.1)",
          "width": 1
         },
         "mode": "lines",
         "text": "0.1111111111111111",
         "type": "scatter",
         "x": [
          0.029357573635267073,
          0.7925432626107755
         ],
         "y": [
          -0.9111388969932189,
          0.5855468854554127
         ]
        },
        {
         "hoverinfo": "text",
         "line": {
          "color": "rgba(128, 128, 128, 0.1)",
          "width": 1
         },
         "mode": "lines",
         "text": "0.1111111111111111",
         "type": "scatter",
         "x": [
          0.029357573635267073,
          -0.52981302729874
         ],
         "y": [
          -0.9111388969932189,
          -0.26861457638885444
         ]
        },
        {
         "hoverinfo": "text",
         "line": {
          "color": "rgba(128, 128, 128, 0.1)",
          "width": 1
         },
         "mode": "lines",
         "text": "0.1111111111111111",
         "type": "scatter",
         "x": [
          0.029357573635267073,
          -0.6047526130559822
         ],
         "y": [
          -0.9111388969932189,
          0.7655665975288818
         ]
        },
        {
         "hoverinfo": "text",
         "line": {
          "color": "rgba(128, 128, 128, 0.1)",
          "width": 1
         },
         "mode": "lines",
         "text": "0.1111111111111111",
         "type": "scatter",
         "x": [
          0.029357573635267073,
          0.6074389952577244
         ],
         "y": [
          -0.9111388969932189,
          -0.12243029093157637
         ]
        },
        {
         "hoverinfo": "text",
         "line": {
          "color": "rgba(128, 128, 128, 0.1)",
          "width": 1
         },
         "mode": "lines",
         "text": "0.09090909090909091",
         "type": "scatter",
         "x": [
          0.029357573635267073,
          -0.918938735340811
         ],
         "y": [
          -0.9111388969932189,
          0.29892269802325433
         ]
        },
        {
         "hoverinfo": "text",
         "line": {
          "color": "rgba(128, 128, 128, 0.1)",
          "width": 1
         },
         "mode": "lines",
         "text": "0.1111111111111111",
         "type": "scatter",
         "x": [
          0.029357573635267073,
          -0.39369798424770713
         ],
         "y": [
          -0.9111388969932189,
          0.1564690190913819
         ]
        },
        {
         "hoverinfo": "text",
         "line": {
          "color": "rgba(128, 128, 128, 0.1)",
          "width": 1
         },
         "mode": "lines",
         "text": "1.0",
         "type": "scatter",
         "x": [
          0.029357573635267073,
          -0.4965138359262507
         ],
         "y": [
          -0.9111388969932189,
          0.5147073335073147
         ]
        },
        {
         "hoverinfo": "text",
         "line": {
          "color": "rgba(128, 128, 128, 0.1)",
          "width": 1
         },
         "mode": "lines",
         "text": "0.1111111111111111",
         "type": "scatter",
         "x": [
          0.029357573635267073,
          -0.7047942282637657
         ],
         "y": [
          -0.9111388969932189,
          0.05639581663858665
         ]
        },
        {
         "hoverinfo": "text",
         "line": {
          "color": "rgba(128, 128, 128, 0.1)",
          "width": 1
         },
         "mode": "lines",
         "text": "0.05",
         "type": "scatter",
         "x": [
          0.029357573635267073,
          0.22697673177044278
         ],
         "y": [
          -0.9111388969932189,
          -0.8456600770640139
         ]
        },
        {
         "hoverinfo": "text",
         "line": {
          "color": "rgba(128, 128, 128, 0.1)",
          "width": 1
         },
         "mode": "lines",
         "text": "0.1",
         "type": "scatter",
         "x": [
          0.029357573635267073,
          0.17107928195038022
         ],
         "y": [
          -0.9111388969932189,
          0.7959403993931851
         ]
        },
        {
         "hoverinfo": "text",
         "line": {
          "color": "rgba(128, 128, 128, 0.1)",
          "width": 1
         },
         "mode": "lines",
         "text": "0.25",
         "type": "scatter",
         "x": [
          0.029357573635267073,
          0.7198791291336225
         ],
         "y": [
          -0.9111388969932189,
          -0.3555785138076284
         ]
        },
        {
         "hoverinfo": "text",
         "line": {
          "color": "rgba(128, 128, 128, 0.1)",
          "width": 1
         },
         "mode": "lines",
         "text": "0.1111111111111111",
         "type": "scatter",
         "x": [
          0.029357573635267073,
          0.07592479646616518
         ],
         "y": [
          -0.9111388969932189,
          0.5489404396993625
         ]
        },
        {
         "hoverinfo": "text",
         "line": {
          "color": "rgba(128, 128, 128, 0.1)",
          "width": 1
         },
         "mode": "lines",
         "text": "0.1111111111111111",
         "type": "scatter",
         "x": [
          0.029357573635267073,
          -0.13240271109312432
         ],
         "y": [
          -0.9111388969932189,
          -0.36406482848700933
         ]
        },
        {
         "hoverinfo": "text",
         "line": {
          "color": "rgba(128, 128, 128, 0.1)",
          "width": 1
         },
         "mode": "lines",
         "text": "0.1111111111111111",
         "type": "scatter",
         "x": [
          0.029357573635267073,
          -1
         ],
         "y": [
          -0.9111388969932189,
          0.006663047876623049
         ]
        },
        {
         "hoverinfo": "text",
         "line": {
          "color": "rgba(128, 128, 128, 0.1)",
          "width": 1
         },
         "mode": "lines",
         "text": "0.1111111111111111",
         "type": "scatter",
         "x": [
          0.029357573635267073,
          0.40794135944224913
         ],
         "y": [
          -0.9111388969932189,
          -0.5939736404506816
         ]
        },
        {
         "hoverinfo": "text",
         "line": {
          "color": "rgba(128, 128, 128, 0.1)",
          "width": 1
         },
         "mode": "lines",
         "text": "0.1",
         "type": "scatter",
         "x": [
          0.029357573635267073,
          0.42727580252097486
         ],
         "y": [
          -0.9111388969932189,
          -0.8147374733359818
         ]
        },
        {
         "hoverinfo": "text",
         "line": {
          "color": "rgba(128, 128, 128, 0.1)",
          "width": 1
         },
         "mode": "lines",
         "text": "0.125",
         "type": "scatter",
         "x": [
          0.029357573635267073,
          -0.7464498563171527
         ],
         "y": [
          -0.9111388969932189,
          -0.15240867563536542
         ]
        },
        {
         "hoverinfo": "text",
         "line": {
          "color": "rgba(128, 128, 128, 0.1)",
          "width": 1
         },
         "mode": "lines",
         "text": "1.0",
         "type": "scatter",
         "x": [
          0.029357573635267073,
          0.42220986898347856
         ],
         "y": [
          -0.9111388969932189,
          0.9443298132713931
         ]
        },
        {
         "hoverinfo": "text",
         "line": {
          "color": "rgba(128, 128, 128, 0.1)",
          "width": 1
         },
         "mode": "lines",
         "text": "0.1111111111111111",
         "type": "scatter",
         "x": [
          0.029357573635267073,
          0.7213026942444919
         ],
         "y": [
          -0.9111388969932189,
          -0.7028614856381851
         ]
        },
        {
         "hoverinfo": "text",
         "line": {
          "color": "rgba(128, 128, 128, 0.1)",
          "width": 1
         },
         "mode": "lines",
         "text": "0.3333333333333333",
         "type": "scatter",
         "x": [
          0.029357573635267073,
          0.9131728451074601
         ],
         "y": [
          -0.9111388969932189,
          -0.0786216846079524
         ]
        },
        {
         "hoverinfo": "text",
         "line": {
          "color": "rgba(128, 128, 128, 0.1)",
          "width": 1
         },
         "mode": "lines",
         "text": "0.1111111111111111",
         "type": "scatter",
         "x": [
          0.029357573635267073,
          -0.02029748952421764
         ],
         "y": [
          -0.9111388969932189,
          0.966511761384103
         ]
        },
        {
         "hoverinfo": "text",
         "line": {
          "color": "rgba(128, 128, 128, 0.1)",
          "width": 1
         },
         "mode": "lines",
         "text": "0.1111111111111111",
         "type": "scatter",
         "x": [
          0.029357573635267073,
          -0.3235081883111062
         ],
         "y": [
          -0.9111388969932189,
          -0.08513015582825498
         ]
        },
        {
         "hoverinfo": "text",
         "line": {
          "color": "rgba(128, 128, 128, 0.1)",
          "width": 1
         },
         "mode": "lines",
         "text": "0.1111111111111111",
         "type": "scatter",
         "x": [
          0.029357573635267073,
          0.05287296895782892
         ],
         "y": [
          -0.9111388969932189,
          -0.09353267533807239
         ]
        },
        {
         "hoverinfo": "text",
         "line": {
          "color": "rgba(128, 128, 128, 0.1)",
          "width": 1
         },
         "mode": "lines",
         "text": "1.0",
         "type": "scatter",
         "x": [
          0.029357573635267073,
          -0.5645297566213534
         ],
         "y": [
          -0.9111388969932189,
          -0.5714605612882918
         ]
        },
        {
         "hoverinfo": "text",
         "line": {
          "color": "rgba(128, 128, 128, 0.1)",
          "width": 1
         },
         "mode": "lines",
         "text": "0.1111111111111111",
         "type": "scatter",
         "x": [
          0.029357573635267073,
          -0.3131286416509119
         ],
         "y": [
          -0.9111388969932189,
          0.597469912312249
         ]
        },
        {
         "hoverinfo": "text",
         "line": {
          "color": "rgba(128, 128, 128, 0.1)",
          "width": 1
         },
         "mode": "lines",
         "text": "1.0",
         "type": "scatter",
         "x": [
          -0.01919280536162062,
          -0.10911439248384298
         ],
         "y": [
          -0.6521212445085668,
          0.7578267516911958
         ]
        },
        {
         "hoverinfo": "text",
         "line": {
          "color": "rgba(128, 128, 128, 0.1)",
          "width": 1
         },
         "mode": "lines",
         "text": "0.14285714285714285",
         "type": "scatter",
         "x": [
          -0.01919280536162062,
          0.6999593653183844
         ],
         "y": [
          -0.6521212445085668,
          0.34086743938130765
         ]
        },
        {
         "hoverinfo": "text",
         "line": {
          "color": "rgba(128, 128, 128, 0.1)",
          "width": 1
         },
         "mode": "lines",
         "text": "1.0",
         "type": "scatter",
         "x": [
          -0.01919280536162062,
          -0.7711438777564555
         ],
         "y": [
          -0.6521212445085668,
          0.5446514515452328
         ]
        },
        {
         "hoverinfo": "text",
         "line": {
          "color": "rgba(128, 128, 128, 0.1)",
          "width": 1
         },
         "mode": "lines",
         "text": "1.0",
         "type": "scatter",
         "x": [
          -0.01919280536162062,
          0.9159172652301071
         ],
         "y": [
          -0.6521212445085668,
          -0.2876278366482088
         ]
        },
        {
         "hoverinfo": "text",
         "line": {
          "color": "rgba(128, 128, 128, 0.1)",
          "width": 1
         },
         "mode": "lines",
         "text": "0.3333333333333333",
         "type": "scatter",
         "x": [
          -0.01919280536162062,
          0.3042346205107624
         ],
         "y": [
          -0.6521212445085668,
          -0.21400329594720793
         ]
        },
        {
         "hoverinfo": "text",
         "line": {
          "color": "rgba(128, 128, 128, 0.1)",
          "width": 1
         },
         "mode": "lines",
         "text": "1.0",
         "type": "scatter",
         "x": [
          -0.01919280536162062,
          0.7925432626107755
         ],
         "y": [
          -0.6521212445085668,
          0.5855468854554127
         ]
        },
        {
         "hoverinfo": "text",
         "line": {
          "color": "rgba(128, 128, 128, 0.1)",
          "width": 1
         },
         "mode": "lines",
         "text": "1.0",
         "type": "scatter",
         "x": [
          -0.01919280536162062,
          -0.52981302729874
         ],
         "y": [
          -0.6521212445085668,
          -0.26861457638885444
         ]
        },
        {
         "hoverinfo": "text",
         "line": {
          "color": "rgba(128, 128, 128, 0.1)",
          "width": 1
         },
         "mode": "lines",
         "text": "1.0",
         "type": "scatter",
         "x": [
          -0.01919280536162062,
          -0.6047526130559822
         ],
         "y": [
          -0.6521212445085668,
          0.7655665975288818
         ]
        },
        {
         "hoverinfo": "text",
         "line": {
          "color": "rgba(128, 128, 128, 0.1)",
          "width": 1
         },
         "mode": "lines",
         "text": "1.0",
         "type": "scatter",
         "x": [
          -0.01919280536162062,
          0.6074389952577244
         ],
         "y": [
          -0.6521212445085668,
          -0.12243029093157637
         ]
        },
        {
         "hoverinfo": "text",
         "line": {
          "color": "rgba(128, 128, 128, 0.1)",
          "width": 1
         },
         "mode": "lines",
         "text": "0.14285714285714285",
         "type": "scatter",
         "x": [
          -0.01919280536162062,
          -0.918938735340811
         ],
         "y": [
          -0.6521212445085668,
          0.29892269802325433
         ]
        },
        {
         "hoverinfo": "text",
         "line": {
          "color": "rgba(128, 128, 128, 0.1)",
          "width": 1
         },
         "mode": "lines",
         "text": "1.0",
         "type": "scatter",
         "x": [
          -0.01919280536162062,
          -0.39369798424770713
         ],
         "y": [
          -0.6521212445085668,
          0.1564690190913819
         ]
        },
        {
         "hoverinfo": "text",
         "line": {
          "color": "rgba(128, 128, 128, 0.1)",
          "width": 1
         },
         "mode": "lines",
         "text": "1.0",
         "type": "scatter",
         "x": [
          -0.01919280536162062,
          -0.4965138359262507
         ],
         "y": [
          -0.6521212445085668,
          0.5147073335073147
         ]
        },
        {
         "hoverinfo": "text",
         "line": {
          "color": "rgba(128, 128, 128, 0.1)",
          "width": 1
         },
         "mode": "lines",
         "text": "1.0",
         "type": "scatter",
         "x": [
          -0.01919280536162062,
          -0.7047942282637657
         ],
         "y": [
          -0.6521212445085668,
          0.05639581663858665
         ]
        },
        {
         "hoverinfo": "text",
         "line": {
          "color": "rgba(128, 128, 128, 0.1)",
          "width": 1
         },
         "mode": "lines",
         "text": "0.08333333333333333",
         "type": "scatter",
         "x": [
          -0.01919280536162062,
          0.22697673177044278
         ],
         "y": [
          -0.6521212445085668,
          -0.8456600770640139
         ]
        },
        {
         "hoverinfo": "text",
         "line": {
          "color": "rgba(128, 128, 128, 0.1)",
          "width": 1
         },
         "mode": "lines",
         "text": "0.16666666666666666",
         "type": "scatter",
         "x": [
          -0.01919280536162062,
          0.17107928195038022
         ],
         "y": [
          -0.6521212445085668,
          0.7959403993931851
         ]
        },
        {
         "hoverinfo": "text",
         "line": {
          "color": "rgba(128, 128, 128, 0.1)",
          "width": 1
         },
         "mode": "lines",
         "text": "0.125",
         "type": "scatter",
         "x": [
          -0.01919280536162062,
          0.7198791291336225
         ],
         "y": [
          -0.6521212445085668,
          -0.3555785138076284
         ]
        },
        {
         "hoverinfo": "text",
         "line": {
          "color": "rgba(128, 128, 128, 0.1)",
          "width": 1
         },
         "mode": "lines",
         "text": "1.0",
         "type": "scatter",
         "x": [
          -0.01919280536162062,
          0.07592479646616518
         ],
         "y": [
          -0.6521212445085668,
          0.5489404396993625
         ]
        },
        {
         "hoverinfo": "text",
         "line": {
          "color": "rgba(128, 128, 128, 0.1)",
          "width": 1
         },
         "mode": "lines",
         "text": "1.0",
         "type": "scatter",
         "x": [
          -0.01919280536162062,
          -0.13240271109312432
         ],
         "y": [
          -0.6521212445085668,
          -0.36406482848700933
         ]
        },
        {
         "hoverinfo": "text",
         "line": {
          "color": "rgba(128, 128, 128, 0.1)",
          "width": 1
         },
         "mode": "lines",
         "text": "1.0",
         "type": "scatter",
         "x": [
          -0.01919280536162062,
          -1
         ],
         "y": [
          -0.6521212445085668,
          0.006663047876623049
         ]
        },
        {
         "hoverinfo": "text",
         "line": {
          "color": "rgba(128, 128, 128, 0.1)",
          "width": 1
         },
         "mode": "lines",
         "text": "1.0",
         "type": "scatter",
         "x": [
          -0.01919280536162062,
          0.40794135944224913
         ],
         "y": [
          -0.6521212445085668,
          -0.5939736404506816
         ]
        },
        {
         "hoverinfo": "text",
         "line": {
          "color": "rgba(128, 128, 128, 0.1)",
          "width": 1
         },
         "mode": "lines",
         "text": "0.5",
         "type": "scatter",
         "x": [
          -0.01919280536162062,
          0.42727580252097486
         ],
         "y": [
          -0.6521212445085668,
          -0.8147374733359818
         ]
        },
        {
         "hoverinfo": "text",
         "line": {
          "color": "rgba(128, 128, 128, 0.1)",
          "width": 1
         },
         "mode": "lines",
         "text": "0.125",
         "type": "scatter",
         "x": [
          -0.01919280536162062,
          -0.7464498563171527
         ],
         "y": [
          -0.6521212445085668,
          -0.15240867563536542
         ]
        },
        {
         "hoverinfo": "text",
         "line": {
          "color": "rgba(128, 128, 128, 0.1)",
          "width": 1
         },
         "mode": "lines",
         "text": "1.0",
         "type": "scatter",
         "x": [
          -0.01919280536162062,
          0.42220986898347856
         ],
         "y": [
          -0.6521212445085668,
          0.9443298132713931
         ]
        },
        {
         "hoverinfo": "text",
         "line": {
          "color": "rgba(128, 128, 128, 0.1)",
          "width": 1
         },
         "mode": "lines",
         "text": "1.0",
         "type": "scatter",
         "x": [
          -0.01919280536162062,
          0.7213026942444919
         ],
         "y": [
          -0.6521212445085668,
          -0.7028614856381851
         ]
        },
        {
         "hoverinfo": "text",
         "line": {
          "color": "rgba(128, 128, 128, 0.1)",
          "width": 1
         },
         "mode": "lines",
         "text": "1.0",
         "type": "scatter",
         "x": [
          -0.01919280536162062,
          0.9131728451074601
         ],
         "y": [
          -0.6521212445085668,
          -0.0786216846079524
         ]
        },
        {
         "hoverinfo": "text",
         "line": {
          "color": "rgba(128, 128, 128, 0.1)",
          "width": 1
         },
         "mode": "lines",
         "text": "1.0",
         "type": "scatter",
         "x": [
          -0.01919280536162062,
          -0.02029748952421764
         ],
         "y": [
          -0.6521212445085668,
          0.966511761384103
         ]
        },
        {
         "hoverinfo": "text",
         "line": {
          "color": "rgba(128, 128, 128, 0.1)",
          "width": 1
         },
         "mode": "lines",
         "text": "0.1111111111111111",
         "type": "scatter",
         "x": [
          -0.01919280536162062,
          -0.3235081883111062
         ],
         "y": [
          -0.6521212445085668,
          -0.08513015582825498
         ]
        },
        {
         "hoverinfo": "text",
         "line": {
          "color": "rgba(128, 128, 128, 0.1)",
          "width": 1
         },
         "mode": "lines",
         "text": "1.0",
         "type": "scatter",
         "x": [
          -0.01919280536162062,
          0.05287296895782892
         ],
         "y": [
          -0.6521212445085668,
          -0.09353267533807239
         ]
        },
        {
         "hoverinfo": "text",
         "line": {
          "color": "rgba(128, 128, 128, 0.1)",
          "width": 1
         },
         "mode": "lines",
         "text": "1.0",
         "type": "scatter",
         "x": [
          -0.01919280536162062,
          -0.5645297566213534
         ],
         "y": [
          -0.6521212445085668,
          -0.5714605612882918
         ]
        },
        {
         "hoverinfo": "text",
         "line": {
          "color": "rgba(128, 128, 128, 0.1)",
          "width": 1
         },
         "mode": "lines",
         "text": "0.1111111111111111",
         "type": "scatter",
         "x": [
          -0.01919280536162062,
          -0.3131286416509119
         ],
         "y": [
          -0.6521212445085668,
          0.597469912312249
         ]
        },
        {
         "hoverinfo": "text",
         "line": {
          "color": "rgba(128, 128, 128, 0.1)",
          "width": 1
         },
         "mode": "lines",
         "text": "1.0",
         "type": "scatter",
         "x": [
          -0.10911439248384298,
          0.6999593653183844
         ],
         "y": [
          0.7578267516911958,
          0.34086743938130765
         ]
        },
        {
         "hoverinfo": "text",
         "line": {
          "color": "rgba(128, 128, 128, 0.1)",
          "width": 1
         },
         "mode": "lines",
         "text": "1.0",
         "type": "scatter",
         "x": [
          -0.10911439248384298,
          -0.7711438777564555
         ],
         "y": [
          0.7578267516911958,
          0.5446514515452328
         ]
        },
        {
         "hoverinfo": "text",
         "line": {
          "color": "rgba(128, 128, 128, 0.1)",
          "width": 1
         },
         "mode": "lines",
         "text": "1.0",
         "type": "scatter",
         "x": [
          -0.10911439248384298,
          0.9159172652301071
         ],
         "y": [
          0.7578267516911958,
          -0.2876278366482088
         ]
        },
        {
         "hoverinfo": "text",
         "line": {
          "color": "rgba(128, 128, 128, 0.1)",
          "width": 1
         },
         "mode": "lines",
         "text": "1.0",
         "type": "scatter",
         "x": [
          -0.10911439248384298,
          0.3042346205107624
         ],
         "y": [
          0.7578267516911958,
          -0.21400329594720793
         ]
        },
        {
         "hoverinfo": "text",
         "line": {
          "color": "rgba(128, 128, 128, 0.1)",
          "width": 1
         },
         "mode": "lines",
         "text": "0.1111111111111111",
         "type": "scatter",
         "x": [
          -0.10911439248384298,
          0.7925432626107755
         ],
         "y": [
          0.7578267516911958,
          0.5855468854554127
         ]
        },
        {
         "hoverinfo": "text",
         "line": {
          "color": "rgba(128, 128, 128, 0.1)",
          "width": 1
         },
         "mode": "lines",
         "text": "1.0",
         "type": "scatter",
         "x": [
          -0.10911439248384298,
          -0.52981302729874
         ],
         "y": [
          0.7578267516911958,
          -0.26861457638885444
         ]
        },
        {
         "hoverinfo": "text",
         "line": {
          "color": "rgba(128, 128, 128, 0.1)",
          "width": 1
         },
         "mode": "lines",
         "text": "1.0",
         "type": "scatter",
         "x": [
          -0.10911439248384298,
          -0.6047526130559822
         ],
         "y": [
          0.7578267516911958,
          0.7655665975288818
         ]
        },
        {
         "hoverinfo": "text",
         "line": {
          "color": "rgba(128, 128, 128, 0.1)",
          "width": 1
         },
         "mode": "lines",
         "text": "1.0",
         "type": "scatter",
         "x": [
          -0.10911439248384298,
          0.6074389952577244
         ],
         "y": [
          0.7578267516911958,
          -0.12243029093157637
         ]
        },
        {
         "hoverinfo": "text",
         "line": {
          "color": "rgba(128, 128, 128, 0.1)",
          "width": 1
         },
         "mode": "lines",
         "text": "0.09090909090909091",
         "type": "scatter",
         "x": [
          -0.10911439248384298,
          -0.918938735340811
         ],
         "y": [
          0.7578267516911958,
          0.29892269802325433
         ]
        },
        {
         "hoverinfo": "text",
         "line": {
          "color": "rgba(128, 128, 128, 0.1)",
          "width": 1
         },
         "mode": "lines",
         "text": "1.0",
         "type": "scatter",
         "x": [
          -0.10911439248384298,
          -0.39369798424770713
         ],
         "y": [
          0.7578267516911958,
          0.1564690190913819
         ]
        },
        {
         "hoverinfo": "text",
         "line": {
          "color": "rgba(128, 128, 128, 0.1)",
          "width": 1
         },
         "mode": "lines",
         "text": "1.0",
         "type": "scatter",
         "x": [
          -0.10911439248384298,
          -0.4965138359262507
         ],
         "y": [
          0.7578267516911958,
          0.5147073335073147
         ]
        },
        {
         "hoverinfo": "text",
         "line": {
          "color": "rgba(128, 128, 128, 0.1)",
          "width": 1
         },
         "mode": "lines",
         "text": "1.0",
         "type": "scatter",
         "x": [
          -0.10911439248384298,
          -0.7047942282637657
         ],
         "y": [
          0.7578267516911958,
          0.05639581663858665
         ]
        },
        {
         "hoverinfo": "text",
         "line": {
          "color": "rgba(128, 128, 128, 0.1)",
          "width": 1
         },
         "mode": "lines",
         "text": "0.05555555555555555",
         "type": "scatter",
         "x": [
          -0.10911439248384298,
          0.22697673177044278
         ],
         "y": [
          0.7578267516911958,
          -0.8456600770640139
         ]
        },
        {
         "hoverinfo": "text",
         "line": {
          "color": "rgba(128, 128, 128, 0.1)",
          "width": 1
         },
         "mode": "lines",
         "text": "0.5",
         "type": "scatter",
         "x": [
          -0.10911439248384298,
          0.17107928195038022
         ],
         "y": [
          0.7578267516911958,
          0.7959403993931851
         ]
        },
        {
         "hoverinfo": "text",
         "line": {
          "color": "rgba(128, 128, 128, 0.1)",
          "width": 1
         },
         "mode": "lines",
         "text": "0.25",
         "type": "scatter",
         "x": [
          -0.10911439248384298,
          0.7198791291336225
         ],
         "y": [
          0.7578267516911958,
          -0.3555785138076284
         ]
        },
        {
         "hoverinfo": "text",
         "line": {
          "color": "rgba(128, 128, 128, 0.1)",
          "width": 1
         },
         "mode": "lines",
         "text": "1.0",
         "type": "scatter",
         "x": [
          -0.10911439248384298,
          0.07592479646616518
         ],
         "y": [
          0.7578267516911958,
          0.5489404396993625
         ]
        },
        {
         "hoverinfo": "text",
         "line": {
          "color": "rgba(128, 128, 128, 0.1)",
          "width": 1
         },
         "mode": "lines",
         "text": "1.0",
         "type": "scatter",
         "x": [
          -0.10911439248384298,
          -0.13240271109312432
         ],
         "y": [
          0.7578267516911958,
          -0.36406482848700933
         ]
        },
        {
         "hoverinfo": "text",
         "line": {
          "color": "rgba(128, 128, 128, 0.1)",
          "width": 1
         },
         "mode": "lines",
         "text": "1.0",
         "type": "scatter",
         "x": [
          -0.10911439248384298,
          -1
         ],
         "y": [
          0.7578267516911958,
          0.006663047876623049
         ]
        },
        {
         "hoverinfo": "text",
         "line": {
          "color": "rgba(128, 128, 128, 0.1)",
          "width": 1
         },
         "mode": "lines",
         "text": "1.0",
         "type": "scatter",
         "x": [
          -0.10911439248384298,
          0.40794135944224913
         ],
         "y": [
          0.7578267516911958,
          -0.5939736404506816
         ]
        },
        {
         "hoverinfo": "text",
         "line": {
          "color": "rgba(128, 128, 128, 0.1)",
          "width": 1
         },
         "mode": "lines",
         "text": "0.5",
         "type": "scatter",
         "x": [
          -0.10911439248384298,
          0.42727580252097486
         ],
         "y": [
          0.7578267516911958,
          -0.8147374733359818
         ]
        },
        {
         "hoverinfo": "text",
         "line": {
          "color": "rgba(128, 128, 128, 0.1)",
          "width": 1
         },
         "mode": "lines",
         "text": "0.125",
         "type": "scatter",
         "x": [
          -0.10911439248384298,
          -0.7464498563171527
         ],
         "y": [
          0.7578267516911958,
          -0.15240867563536542
         ]
        },
        {
         "hoverinfo": "text",
         "line": {
          "color": "rgba(128, 128, 128, 0.1)",
          "width": 1
         },
         "mode": "lines",
         "text": "1.0",
         "type": "scatter",
         "x": [
          -0.10911439248384298,
          0.42220986898347856
         ],
         "y": [
          0.7578267516911958,
          0.9443298132713931
         ]
        },
        {
         "hoverinfo": "text",
         "line": {
          "color": "rgba(128, 128, 128, 0.1)",
          "width": 1
         },
         "mode": "lines",
         "text": "1.0",
         "type": "scatter",
         "x": [
          -0.10911439248384298,
          0.7213026942444919
         ],
         "y": [
          0.7578267516911958,
          -0.7028614856381851
         ]
        },
        {
         "hoverinfo": "text",
         "line": {
          "color": "rgba(128, 128, 128, 0.1)",
          "width": 1
         },
         "mode": "lines",
         "text": "0.14285714285714285",
         "type": "scatter",
         "x": [
          -0.10911439248384298,
          0.9131728451074601
         ],
         "y": [
          0.7578267516911958,
          -0.0786216846079524
         ]
        },
        {
         "hoverinfo": "text",
         "line": {
          "color": "rgba(128, 128, 128, 0.1)",
          "width": 1
         },
         "mode": "lines",
         "text": "0.14285714285714285",
         "type": "scatter",
         "x": [
          -0.10911439248384298,
          -0.02029748952421764
         ],
         "y": [
          0.7578267516911958,
          0.966511761384103
         ]
        },
        {
         "hoverinfo": "text",
         "line": {
          "color": "rgba(128, 128, 128, 0.1)",
          "width": 1
         },
         "mode": "lines",
         "text": "0.1111111111111111",
         "type": "scatter",
         "x": [
          -0.10911439248384298,
          -0.3235081883111062
         ],
         "y": [
          0.7578267516911958,
          -0.08513015582825498
         ]
        },
        {
         "hoverinfo": "text",
         "line": {
          "color": "rgba(128, 128, 128, 0.1)",
          "width": 1
         },
         "mode": "lines",
         "text": "1.0",
         "type": "scatter",
         "x": [
          -0.10911439248384298,
          0.05287296895782892
         ],
         "y": [
          0.7578267516911958,
          -0.09353267533807239
         ]
        },
        {
         "hoverinfo": "text",
         "line": {
          "color": "rgba(128, 128, 128, 0.1)",
          "width": 1
         },
         "mode": "lines",
         "text": "1.0",
         "type": "scatter",
         "x": [
          -0.10911439248384298,
          -0.5645297566213534
         ],
         "y": [
          0.7578267516911958,
          -0.5714605612882918
         ]
        },
        {
         "hoverinfo": "text",
         "line": {
          "color": "rgba(128, 128, 128, 0.1)",
          "width": 1
         },
         "mode": "lines",
         "text": "0.1111111111111111",
         "type": "scatter",
         "x": [
          -0.10911439248384298,
          -0.3131286416509119
         ],
         "y": [
          0.7578267516911958,
          0.597469912312249
         ]
        },
        {
         "hoverinfo": "text",
         "line": {
          "color": "rgba(128, 128, 128, 0.1)",
          "width": 1
         },
         "mode": "lines",
         "text": "1.0",
         "type": "scatter",
         "x": [
          0.6999593653183844,
          -0.7711438777564555
         ],
         "y": [
          0.34086743938130765,
          0.5446514515452328
         ]
        },
        {
         "hoverinfo": "text",
         "line": {
          "color": "rgba(128, 128, 128, 0.1)",
          "width": 1
         },
         "mode": "lines",
         "text": "1.0",
         "type": "scatter",
         "x": [
          0.6999593653183844,
          0.9159172652301071
         ],
         "y": [
          0.34086743938130765,
          -0.2876278366482088
         ]
        },
        {
         "hoverinfo": "text",
         "line": {
          "color": "rgba(128, 128, 128, 0.1)",
          "width": 1
         },
         "mode": "lines",
         "text": "1.0",
         "type": "scatter",
         "x": [
          0.6999593653183844,
          0.3042346205107624
         ],
         "y": [
          0.34086743938130765,
          -0.21400329594720793
         ]
        },
        {
         "hoverinfo": "text",
         "line": {
          "color": "rgba(128, 128, 128, 0.1)",
          "width": 1
         },
         "mode": "lines",
         "text": "0.1111111111111111",
         "type": "scatter",
         "x": [
          0.6999593653183844,
          0.7925432626107755
         ],
         "y": [
          0.34086743938130765,
          0.5855468854554127
         ]
        },
        {
         "hoverinfo": "text",
         "line": {
          "color": "rgba(128, 128, 128, 0.1)",
          "width": 1
         },
         "mode": "lines",
         "text": "1.0",
         "type": "scatter",
         "x": [
          0.6999593653183844,
          -0.52981302729874
         ],
         "y": [
          0.34086743938130765,
          -0.26861457638885444
         ]
        },
        {
         "hoverinfo": "text",
         "line": {
          "color": "rgba(128, 128, 128, 0.1)",
          "width": 1
         },
         "mode": "lines",
         "text": "1.0",
         "type": "scatter",
         "x": [
          0.6999593653183844,
          -0.6047526130559822
         ],
         "y": [
          0.34086743938130765,
          0.7655665975288818
         ]
        },
        {
         "hoverinfo": "text",
         "line": {
          "color": "rgba(128, 128, 128, 0.1)",
          "width": 1
         },
         "mode": "lines",
         "text": "1.0",
         "type": "scatter",
         "x": [
          0.6999593653183844,
          0.6074389952577244
         ],
         "y": [
          0.34086743938130765,
          -0.12243029093157637
         ]
        },
        {
         "hoverinfo": "text",
         "line": {
          "color": "rgba(128, 128, 128, 0.1)",
          "width": 1
         },
         "mode": "lines",
         "text": "1.0",
         "type": "scatter",
         "x": [
          0.6999593653183844,
          -0.918938735340811
         ],
         "y": [
          0.34086743938130765,
          0.29892269802325433
         ]
        },
        {
         "hoverinfo": "text",
         "line": {
          "color": "rgba(128, 128, 128, 0.1)",
          "width": 1
         },
         "mode": "lines",
         "text": "1.0",
         "type": "scatter",
         "x": [
          0.6999593653183844,
          -0.39369798424770713
         ],
         "y": [
          0.34086743938130765,
          0.1564690190913819
         ]
        },
        {
         "hoverinfo": "text",
         "line": {
          "color": "rgba(128, 128, 128, 0.1)",
          "width": 1
         },
         "mode": "lines",
         "text": "1.0",
         "type": "scatter",
         "x": [
          0.6999593653183844,
          -0.4965138359262507
         ],
         "y": [
          0.34086743938130765,
          0.5147073335073147
         ]
        },
        {
         "hoverinfo": "text",
         "line": {
          "color": "rgba(128, 128, 128, 0.1)",
          "width": 1
         },
         "mode": "lines",
         "text": "1.0",
         "type": "scatter",
         "x": [
          0.6999593653183844,
          -0.7047942282637657
         ],
         "y": [
          0.34086743938130765,
          0.05639581663858665
         ]
        },
        {
         "hoverinfo": "text",
         "line": {
          "color": "rgba(128, 128, 128, 0.1)",
          "width": 1
         },
         "mode": "lines",
         "text": "0.07142857142857142",
         "type": "scatter",
         "x": [
          0.6999593653183844,
          0.22697673177044278
         ],
         "y": [
          0.34086743938130765,
          -0.8456600770640139
         ]
        },
        {
         "hoverinfo": "text",
         "line": {
          "color": "rgba(128, 128, 128, 0.1)",
          "width": 1
         },
         "mode": "lines",
         "text": "0.5",
         "type": "scatter",
         "x": [
          0.6999593653183844,
          0.17107928195038022
         ],
         "y": [
          0.34086743938130765,
          0.7959403993931851
         ]
        },
        {
         "hoverinfo": "text",
         "line": {
          "color": "rgba(128, 128, 128, 0.1)",
          "width": 1
         },
         "mode": "lines",
         "text": "0.125",
         "type": "scatter",
         "x": [
          0.6999593653183844,
          0.7198791291336225
         ],
         "y": [
          0.34086743938130765,
          -0.3555785138076284
         ]
        },
        {
         "hoverinfo": "text",
         "line": {
          "color": "rgba(128, 128, 128, 0.1)",
          "width": 1
         },
         "mode": "lines",
         "text": "1.0",
         "type": "scatter",
         "x": [
          0.6999593653183844,
          0.07592479646616518
         ],
         "y": [
          0.34086743938130765,
          0.5489404396993625
         ]
        },
        {
         "hoverinfo": "text",
         "line": {
          "color": "rgba(128, 128, 128, 0.1)",
          "width": 1
         },
         "mode": "lines",
         "text": "1.0",
         "type": "scatter",
         "x": [
          0.6999593653183844,
          -0.13240271109312432
         ],
         "y": [
          0.34086743938130765,
          -0.36406482848700933
         ]
        },
        {
         "hoverinfo": "text",
         "line": {
          "color": "rgba(128, 128, 128, 0.1)",
          "width": 1
         },
         "mode": "lines",
         "text": "1.0",
         "type": "scatter",
         "x": [
          0.6999593653183844,
          -1
         ],
         "y": [
          0.34086743938130765,
          0.006663047876623049
         ]
        },
        {
         "hoverinfo": "text",
         "line": {
          "color": "rgba(128, 128, 128, 0.1)",
          "width": 1
         },
         "mode": "lines",
         "text": "1.0",
         "type": "scatter",
         "x": [
          0.6999593653183844,
          0.40794135944224913
         ],
         "y": [
          0.34086743938130765,
          -0.5939736404506816
         ]
        },
        {
         "hoverinfo": "text",
         "line": {
          "color": "rgba(128, 128, 128, 0.1)",
          "width": 1
         },
         "mode": "lines",
         "text": "0.5",
         "type": "scatter",
         "x": [
          0.6999593653183844,
          0.42727580252097486
         ],
         "y": [
          0.34086743938130765,
          -0.8147374733359818
         ]
        },
        {
         "hoverinfo": "text",
         "line": {
          "color": "rgba(128, 128, 128, 0.1)",
          "width": 1
         },
         "mode": "lines",
         "text": "0.125",
         "type": "scatter",
         "x": [
          0.6999593653183844,
          -0.7464498563171527
         ],
         "y": [
          0.34086743938130765,
          -0.15240867563536542
         ]
        },
        {
         "hoverinfo": "text",
         "line": {
          "color": "rgba(128, 128, 128, 0.1)",
          "width": 1
         },
         "mode": "lines",
         "text": "1.0",
         "type": "scatter",
         "x": [
          0.6999593653183844,
          0.42220986898347856
         ],
         "y": [
          0.34086743938130765,
          0.9443298132713931
         ]
        },
        {
         "hoverinfo": "text",
         "line": {
          "color": "rgba(128, 128, 128, 0.1)",
          "width": 1
         },
         "mode": "lines",
         "text": "1.0",
         "type": "scatter",
         "x": [
          0.6999593653183844,
          0.7213026942444919
         ],
         "y": [
          0.34086743938130765,
          -0.7028614856381851
         ]
        },
        {
         "hoverinfo": "text",
         "line": {
          "color": "rgba(128, 128, 128, 0.1)",
          "width": 1
         },
         "mode": "lines",
         "text": "0.1111111111111111",
         "type": "scatter",
         "x": [
          0.6999593653183844,
          0.9131728451074601
         ],
         "y": [
          0.34086743938130765,
          -0.0786216846079524
         ]
        },
        {
         "hoverinfo": "text",
         "line": {
          "color": "rgba(128, 128, 128, 0.1)",
          "width": 1
         },
         "mode": "lines",
         "text": "0.14285714285714285",
         "type": "scatter",
         "x": [
          0.6999593653183844,
          -0.02029748952421764
         ],
         "y": [
          0.34086743938130765,
          0.966511761384103
         ]
        },
        {
         "hoverinfo": "text",
         "line": {
          "color": "rgba(128, 128, 128, 0.1)",
          "width": 1
         },
         "mode": "lines",
         "text": "0.1111111111111111",
         "type": "scatter",
         "x": [
          0.6999593653183844,
          -0.3235081883111062
         ],
         "y": [
          0.34086743938130765,
          -0.08513015582825498
         ]
        },
        {
         "hoverinfo": "text",
         "line": {
          "color": "rgba(128, 128, 128, 0.1)",
          "width": 1
         },
         "mode": "lines",
         "text": "1.0",
         "type": "scatter",
         "x": [
          0.6999593653183844,
          0.05287296895782892
         ],
         "y": [
          0.34086743938130765,
          -0.09353267533807239
         ]
        },
        {
         "hoverinfo": "text",
         "line": {
          "color": "rgba(128, 128, 128, 0.1)",
          "width": 1
         },
         "mode": "lines",
         "text": "1.0",
         "type": "scatter",
         "x": [
          0.6999593653183844,
          -0.5645297566213534
         ],
         "y": [
          0.34086743938130765,
          -0.5714605612882918
         ]
        },
        {
         "hoverinfo": "text",
         "line": {
          "color": "rgba(128, 128, 128, 0.1)",
          "width": 1
         },
         "mode": "lines",
         "text": "0.1111111111111111",
         "type": "scatter",
         "x": [
          0.6999593653183844,
          -0.3131286416509119
         ],
         "y": [
          0.34086743938130765,
          0.597469912312249
         ]
        },
        {
         "hoverinfo": "text",
         "line": {
          "color": "rgba(128, 128, 128, 0.1)",
          "width": 1
         },
         "mode": "lines",
         "text": "1.0",
         "type": "scatter",
         "x": [
          -0.7711438777564555,
          0.9159172652301071
         ],
         "y": [
          0.5446514515452328,
          -0.2876278366482088
         ]
        },
        {
         "hoverinfo": "text",
         "line": {
          "color": "rgba(128, 128, 128, 0.1)",
          "width": 1
         },
         "mode": "lines",
         "text": "0.3333333333333333",
         "type": "scatter",
         "x": [
          -0.7711438777564555,
          0.3042346205107624
         ],
         "y": [
          0.5446514515452328,
          -0.21400329594720793
         ]
        },
        {
         "hoverinfo": "text",
         "line": {
          "color": "rgba(128, 128, 128, 0.1)",
          "width": 1
         },
         "mode": "lines",
         "text": "1.0",
         "type": "scatter",
         "x": [
          -0.7711438777564555,
          0.7925432626107755
         ],
         "y": [
          0.5446514515452328,
          0.5855468854554127
         ]
        },
        {
         "hoverinfo": "text",
         "line": {
          "color": "rgba(128, 128, 128, 0.1)",
          "width": 1
         },
         "mode": "lines",
         "text": "1.0",
         "type": "scatter",
         "x": [
          -0.7711438777564555,
          -0.52981302729874
         ],
         "y": [
          0.5446514515452328,
          -0.26861457638885444
         ]
        },
        {
         "hoverinfo": "text",
         "line": {
          "color": "rgba(128, 128, 128, 0.1)",
          "width": 1
         },
         "mode": "lines",
         "text": "1.0",
         "type": "scatter",
         "x": [
          -0.7711438777564555,
          -0.6047526130559822
         ],
         "y": [
          0.5446514515452328,
          0.7655665975288818
         ]
        },
        {
         "hoverinfo": "text",
         "line": {
          "color": "rgba(128, 128, 128, 0.1)",
          "width": 1
         },
         "mode": "lines",
         "text": "1.0",
         "type": "scatter",
         "x": [
          -0.7711438777564555,
          0.6074389952577244
         ],
         "y": [
          0.5446514515452328,
          -0.12243029093157637
         ]
        },
        {
         "hoverinfo": "text",
         "line": {
          "color": "rgba(128, 128, 128, 0.1)",
          "width": 1
         },
         "mode": "lines",
         "text": "1.0",
         "type": "scatter",
         "x": [
          -0.7711438777564555,
          -0.918938735340811
         ],
         "y": [
          0.5446514515452328,
          0.29892269802325433
         ]
        },
        {
         "hoverinfo": "text",
         "line": {
          "color": "rgba(128, 128, 128, 0.1)",
          "width": 1
         },
         "mode": "lines",
         "text": "1.0",
         "type": "scatter",
         "x": [
          -0.7711438777564555,
          -0.39369798424770713
         ],
         "y": [
          0.5446514515452328,
          0.1564690190913819
         ]
        },
        {
         "hoverinfo": "text",
         "line": {
          "color": "rgba(128, 128, 128, 0.1)",
          "width": 1
         },
         "mode": "lines",
         "text": "1.0",
         "type": "scatter",
         "x": [
          -0.7711438777564555,
          -0.4965138359262507
         ],
         "y": [
          0.5446514515452328,
          0.5147073335073147
         ]
        },
        {
         "hoverinfo": "text",
         "line": {
          "color": "rgba(128, 128, 128, 0.1)",
          "width": 1
         },
         "mode": "lines",
         "text": "1.0",
         "type": "scatter",
         "x": [
          -0.7711438777564555,
          -0.7047942282637657
         ],
         "y": [
          0.5446514515452328,
          0.05639581663858665
         ]
        },
        {
         "hoverinfo": "text",
         "line": {
          "color": "rgba(128, 128, 128, 0.1)",
          "width": 1
         },
         "mode": "lines",
         "text": "0.08333333333333333",
         "type": "scatter",
         "x": [
          -0.7711438777564555,
          0.22697673177044278
         ],
         "y": [
          0.5446514515452328,
          -0.8456600770640139
         ]
        },
        {
         "hoverinfo": "text",
         "line": {
          "color": "rgba(128, 128, 128, 0.1)",
          "width": 1
         },
         "mode": "lines",
         "text": "0.5",
         "type": "scatter",
         "x": [
          -0.7711438777564555,
          0.17107928195038022
         ],
         "y": [
          0.5446514515452328,
          0.7959403993931851
         ]
        },
        {
         "hoverinfo": "text",
         "line": {
          "color": "rgba(128, 128, 128, 0.1)",
          "width": 1
         },
         "mode": "lines",
         "text": "0.125",
         "type": "scatter",
         "x": [
          -0.7711438777564555,
          0.7198791291336225
         ],
         "y": [
          0.5446514515452328,
          -0.3555785138076284
         ]
        },
        {
         "hoverinfo": "text",
         "line": {
          "color": "rgba(128, 128, 128, 0.1)",
          "width": 1
         },
         "mode": "lines",
         "text": "1.0",
         "type": "scatter",
         "x": [
          -0.7711438777564555,
          0.07592479646616518
         ],
         "y": [
          0.5446514515452328,
          0.5489404396993625
         ]
        },
        {
         "hoverinfo": "text",
         "line": {
          "color": "rgba(128, 128, 128, 0.1)",
          "width": 1
         },
         "mode": "lines",
         "text": "1.0",
         "type": "scatter",
         "x": [
          -0.7711438777564555,
          -0.13240271109312432
         ],
         "y": [
          0.5446514515452328,
          -0.36406482848700933
         ]
        },
        {
         "hoverinfo": "text",
         "line": {
          "color": "rgba(128, 128, 128, 0.1)",
          "width": 1
         },
         "mode": "lines",
         "text": "1.0",
         "type": "scatter",
         "x": [
          -0.7711438777564555,
          -1
         ],
         "y": [
          0.5446514515452328,
          0.006663047876623049
         ]
        },
        {
         "hoverinfo": "text",
         "line": {
          "color": "rgba(128, 128, 128, 0.1)",
          "width": 1
         },
         "mode": "lines",
         "text": "1.0",
         "type": "scatter",
         "x": [
          -0.7711438777564555,
          0.40794135944224913
         ],
         "y": [
          0.5446514515452328,
          -0.5939736404506816
         ]
        },
        {
         "hoverinfo": "text",
         "line": {
          "color": "rgba(128, 128, 128, 0.1)",
          "width": 1
         },
         "mode": "lines",
         "text": "0.5",
         "type": "scatter",
         "x": [
          -0.7711438777564555,
          0.42727580252097486
         ],
         "y": [
          0.5446514515452328,
          -0.8147374733359818
         ]
        },
        {
         "hoverinfo": "text",
         "line": {
          "color": "rgba(128, 128, 128, 0.1)",
          "width": 1
         },
         "mode": "lines",
         "text": "0.125",
         "type": "scatter",
         "x": [
          -0.7711438777564555,
          -0.7464498563171527
         ],
         "y": [
          0.5446514515452328,
          -0.15240867563536542
         ]
        },
        {
         "hoverinfo": "text",
         "line": {
          "color": "rgba(128, 128, 128, 0.1)",
          "width": 1
         },
         "mode": "lines",
         "text": "1.0",
         "type": "scatter",
         "x": [
          -0.7711438777564555,
          0.42220986898347856
         ],
         "y": [
          0.5446514515452328,
          0.9443298132713931
         ]
        },
        {
         "hoverinfo": "text",
         "line": {
          "color": "rgba(128, 128, 128, 0.1)",
          "width": 1
         },
         "mode": "lines",
         "text": "1.0",
         "type": "scatter",
         "x": [
          -0.7711438777564555,
          0.7213026942444919
         ],
         "y": [
          0.5446514515452328,
          -0.7028614856381851
         ]
        },
        {
         "hoverinfo": "text",
         "line": {
          "color": "rgba(128, 128, 128, 0.1)",
          "width": 1
         },
         "mode": "lines",
         "text": "1.0",
         "type": "scatter",
         "x": [
          -0.7711438777564555,
          0.9131728451074601
         ],
         "y": [
          0.5446514515452328,
          -0.0786216846079524
         ]
        },
        {
         "hoverinfo": "text",
         "line": {
          "color": "rgba(128, 128, 128, 0.1)",
          "width": 1
         },
         "mode": "lines",
         "text": "1.0",
         "type": "scatter",
         "x": [
          -0.7711438777564555,
          -0.02029748952421764
         ],
         "y": [
          0.5446514515452328,
          0.966511761384103
         ]
        },
        {
         "hoverinfo": "text",
         "line": {
          "color": "rgba(128, 128, 128, 0.1)",
          "width": 1
         },
         "mode": "lines",
         "text": "0.1111111111111111",
         "type": "scatter",
         "x": [
          -0.7711438777564555,
          -0.3235081883111062
         ],
         "y": [
          0.5446514515452328,
          -0.08513015582825498
         ]
        },
        {
         "hoverinfo": "text",
         "line": {
          "color": "rgba(128, 128, 128, 0.1)",
          "width": 1
         },
         "mode": "lines",
         "text": "1.0",
         "type": "scatter",
         "x": [
          -0.7711438777564555,
          0.05287296895782892
         ],
         "y": [
          0.5446514515452328,
          -0.09353267533807239
         ]
        },
        {
         "hoverinfo": "text",
         "line": {
          "color": "rgba(128, 128, 128, 0.1)",
          "width": 1
         },
         "mode": "lines",
         "text": "1.0",
         "type": "scatter",
         "x": [
          -0.7711438777564555,
          -0.5645297566213534
         ],
         "y": [
          0.5446514515452328,
          -0.5714605612882918
         ]
        },
        {
         "hoverinfo": "text",
         "line": {
          "color": "rgba(128, 128, 128, 0.1)",
          "width": 1
         },
         "mode": "lines",
         "text": "0.1111111111111111",
         "type": "scatter",
         "x": [
          -0.7711438777564555,
          -0.3131286416509119
         ],
         "y": [
          0.5446514515452328,
          0.597469912312249
         ]
        },
        {
         "hoverinfo": "text",
         "line": {
          "color": "rgba(128, 128, 128, 0.1)",
          "width": 1
         },
         "mode": "lines",
         "text": "0.3333333333333333",
         "type": "scatter",
         "x": [
          0.9159172652301071,
          0.3042346205107624
         ],
         "y": [
          -0.2876278366482088,
          -0.21400329594720793
         ]
        },
        {
         "hoverinfo": "text",
         "line": {
          "color": "rgba(128, 128, 128, 0.1)",
          "width": 1
         },
         "mode": "lines",
         "text": "1.0",
         "type": "scatter",
         "x": [
          0.9159172652301071,
          0.7925432626107755
         ],
         "y": [
          -0.2876278366482088,
          0.5855468854554127
         ]
        },
        {
         "hoverinfo": "text",
         "line": {
          "color": "rgba(128, 128, 128, 0.1)",
          "width": 1
         },
         "mode": "lines",
         "text": "1.0",
         "type": "scatter",
         "x": [
          0.9159172652301071,
          -0.52981302729874
         ],
         "y": [
          -0.2876278366482088,
          -0.26861457638885444
         ]
        },
        {
         "hoverinfo": "text",
         "line": {
          "color": "rgba(128, 128, 128, 0.1)",
          "width": 1
         },
         "mode": "lines",
         "text": "1.0",
         "type": "scatter",
         "x": [
          0.9159172652301071,
          -0.6047526130559822
         ],
         "y": [
          -0.2876278366482088,
          0.7655665975288818
         ]
        },
        {
         "hoverinfo": "text",
         "line": {
          "color": "rgba(128, 128, 128, 0.1)",
          "width": 1
         },
         "mode": "lines",
         "text": "1.0",
         "type": "scatter",
         "x": [
          0.9159172652301071,
          0.6074389952577244
         ],
         "y": [
          -0.2876278366482088,
          -0.12243029093157637
         ]
        },
        {
         "hoverinfo": "text",
         "line": {
          "color": "rgba(128, 128, 128, 0.1)",
          "width": 1
         },
         "mode": "lines",
         "text": "0.14285714285714285",
         "type": "scatter",
         "x": [
          0.9159172652301071,
          -0.918938735340811
         ],
         "y": [
          -0.2876278366482088,
          0.29892269802325433
         ]
        },
        {
         "hoverinfo": "text",
         "line": {
          "color": "rgba(128, 128, 128, 0.1)",
          "width": 1
         },
         "mode": "lines",
         "text": "0.3333333333333333",
         "type": "scatter",
         "x": [
          0.9159172652301071,
          -0.39369798424770713
         ],
         "y": [
          -0.2876278366482088,
          0.1564690190913819
         ]
        },
        {
         "hoverinfo": "text",
         "line": {
          "color": "rgba(128, 128, 128, 0.1)",
          "width": 1
         },
         "mode": "lines",
         "text": "1.0",
         "type": "scatter",
         "x": [
          0.9159172652301071,
          -0.4965138359262507
         ],
         "y": [
          -0.2876278366482088,
          0.5147073335073147
         ]
        },
        {
         "hoverinfo": "text",
         "line": {
          "color": "rgba(128, 128, 128, 0.1)",
          "width": 1
         },
         "mode": "lines",
         "text": "1.0",
         "type": "scatter",
         "x": [
          0.9159172652301071,
          -0.7047942282637657
         ],
         "y": [
          -0.2876278366482088,
          0.05639581663858665
         ]
        },
        {
         "hoverinfo": "text",
         "line": {
          "color": "rgba(128, 128, 128, 0.1)",
          "width": 1
         },
         "mode": "lines",
         "text": "0.07142857142857142",
         "type": "scatter",
         "x": [
          0.9159172652301071,
          0.22697673177044278
         ],
         "y": [
          -0.2876278366482088,
          -0.8456600770640139
         ]
        },
        {
         "hoverinfo": "text",
         "line": {
          "color": "rgba(128, 128, 128, 0.1)",
          "width": 1
         },
         "mode": "lines",
         "text": "0.16666666666666666",
         "type": "scatter",
         "x": [
          0.9159172652301071,
          0.17107928195038022
         ],
         "y": [
          -0.2876278366482088,
          0.7959403993931851
         ]
        },
        {
         "hoverinfo": "text",
         "line": {
          "color": "rgba(128, 128, 128, 0.1)",
          "width": 1
         },
         "mode": "lines",
         "text": "0.125",
         "type": "scatter",
         "x": [
          0.9159172652301071,
          0.7198791291336225
         ],
         "y": [
          -0.2876278366482088,
          -0.3555785138076284
         ]
        },
        {
         "hoverinfo": "text",
         "line": {
          "color": "rgba(128, 128, 128, 0.1)",
          "width": 1
         },
         "mode": "lines",
         "text": "1.0",
         "type": "scatter",
         "x": [
          0.9159172652301071,
          0.07592479646616518
         ],
         "y": [
          -0.2876278366482088,
          0.5489404396993625
         ]
        },
        {
         "hoverinfo": "text",
         "line": {
          "color": "rgba(128, 128, 128, 0.1)",
          "width": 1
         },
         "mode": "lines",
         "text": "1.0",
         "type": "scatter",
         "x": [
          0.9159172652301071,
          -0.13240271109312432
         ],
         "y": [
          -0.2876278366482088,
          -0.36406482848700933
         ]
        },
        {
         "hoverinfo": "text",
         "line": {
          "color": "rgba(128, 128, 128, 0.1)",
          "width": 1
         },
         "mode": "lines",
         "text": "1.0",
         "type": "scatter",
         "x": [
          0.9159172652301071,
          -1
         ],
         "y": [
          -0.2876278366482088,
          0.006663047876623049
         ]
        },
        {
         "hoverinfo": "text",
         "line": {
          "color": "rgba(128, 128, 128, 0.1)",
          "width": 1
         },
         "mode": "lines",
         "text": "0.3333333333333333",
         "type": "scatter",
         "x": [
          0.9159172652301071,
          0.40794135944224913
         ],
         "y": [
          -0.2876278366482088,
          -0.5939736404506816
         ]
        },
        {
         "hoverinfo": "text",
         "line": {
          "color": "rgba(128, 128, 128, 0.1)",
          "width": 1
         },
         "mode": "lines",
         "text": "0.5",
         "type": "scatter",
         "x": [
          0.9159172652301071,
          0.42727580252097486
         ],
         "y": [
          -0.2876278366482088,
          -0.8147374733359818
         ]
        },
        {
         "hoverinfo": "text",
         "line": {
          "color": "rgba(128, 128, 128, 0.1)",
          "width": 1
         },
         "mode": "lines",
         "text": "0.125",
         "type": "scatter",
         "x": [
          0.9159172652301071,
          -0.7464498563171527
         ],
         "y": [
          -0.2876278366482088,
          -0.15240867563536542
         ]
        },
        {
         "hoverinfo": "text",
         "line": {
          "color": "rgba(128, 128, 128, 0.1)",
          "width": 1
         },
         "mode": "lines",
         "text": "1.0",
         "type": "scatter",
         "x": [
          0.9159172652301071,
          0.42220986898347856
         ],
         "y": [
          -0.2876278366482088,
          0.9443298132713931
         ]
        },
        {
         "hoverinfo": "text",
         "line": {
          "color": "rgba(128, 128, 128, 0.1)",
          "width": 1
         },
         "mode": "lines",
         "text": "1.0",
         "type": "scatter",
         "x": [
          0.9159172652301071,
          0.7213026942444919
         ],
         "y": [
          -0.2876278366482088,
          -0.7028614856381851
         ]
        },
        {
         "hoverinfo": "text",
         "line": {
          "color": "rgba(128, 128, 128, 0.1)",
          "width": 1
         },
         "mode": "lines",
         "text": "1.0",
         "type": "scatter",
         "x": [
          0.9159172652301071,
          0.9131728451074601
         ],
         "y": [
          -0.2876278366482088,
          -0.0786216846079524
         ]
        },
        {
         "hoverinfo": "text",
         "line": {
          "color": "rgba(128, 128, 128, 0.1)",
          "width": 1
         },
         "mode": "lines",
         "text": "1.0",
         "type": "scatter",
         "x": [
          0.9159172652301071,
          -0.02029748952421764
         ],
         "y": [
          -0.2876278366482088,
          0.966511761384103
         ]
        },
        {
         "hoverinfo": "text",
         "line": {
          "color": "rgba(128, 128, 128, 0.1)",
          "width": 1
         },
         "mode": "lines",
         "text": "0.1111111111111111",
         "type": "scatter",
         "x": [
          0.9159172652301071,
          -0.3235081883111062
         ],
         "y": [
          -0.2876278366482088,
          -0.08513015582825498
         ]
        },
        {
         "hoverinfo": "text",
         "line": {
          "color": "rgba(128, 128, 128, 0.1)",
          "width": 1
         },
         "mode": "lines",
         "text": "1.0",
         "type": "scatter",
         "x": [
          0.9159172652301071,
          0.05287296895782892
         ],
         "y": [
          -0.2876278366482088,
          -0.09353267533807239
         ]
        },
        {
         "hoverinfo": "text",
         "line": {
          "color": "rgba(128, 128, 128, 0.1)",
          "width": 1
         },
         "mode": "lines",
         "text": "1.0",
         "type": "scatter",
         "x": [
          0.9159172652301071,
          -0.5645297566213534
         ],
         "y": [
          -0.2876278366482088,
          -0.5714605612882918
         ]
        },
        {
         "hoverinfo": "text",
         "line": {
          "color": "rgba(128, 128, 128, 0.1)",
          "width": 1
         },
         "mode": "lines",
         "text": "0.1111111111111111",
         "type": "scatter",
         "x": [
          0.9159172652301071,
          -0.3131286416509119
         ],
         "y": [
          -0.2876278366482088,
          0.597469912312249
         ]
        },
        {
         "hoverinfo": "text",
         "line": {
          "color": "rgba(128, 128, 128, 0.1)",
          "width": 1
         },
         "mode": "lines",
         "text": "0.3333333333333333",
         "type": "scatter",
         "x": [
          0.3042346205107624,
          0.7925432626107755
         ],
         "y": [
          -0.21400329594720793,
          0.5855468854554127
         ]
        },
        {
         "hoverinfo": "text",
         "line": {
          "color": "rgba(128, 128, 128, 0.1)",
          "width": 1
         },
         "mode": "lines",
         "text": "1.0",
         "type": "scatter",
         "x": [
          0.3042346205107624,
          -0.52981302729874
         ],
         "y": [
          -0.21400329594720793,
          -0.26861457638885444
         ]
        },
        {
         "hoverinfo": "text",
         "line": {
          "color": "rgba(128, 128, 128, 0.1)",
          "width": 1
         },
         "mode": "lines",
         "text": "0.3333333333333333",
         "type": "scatter",
         "x": [
          0.3042346205107624,
          -0.6047526130559822
         ],
         "y": [
          -0.21400329594720793,
          0.7655665975288818
         ]
        },
        {
         "hoverinfo": "text",
         "line": {
          "color": "rgba(128, 128, 128, 0.1)",
          "width": 1
         },
         "mode": "lines",
         "text": "0.3333333333333333",
         "type": "scatter",
         "x": [
          0.3042346205107624,
          0.6074389952577244
         ],
         "y": [
          -0.21400329594720793,
          -0.12243029093157637
         ]
        },
        {
         "hoverinfo": "text",
         "line": {
          "color": "rgba(128, 128, 128, 0.1)",
          "width": 1
         },
         "mode": "lines",
         "text": "0.3333333333333333",
         "type": "scatter",
         "x": [
          0.3042346205107624,
          -0.918938735340811
         ],
         "y": [
          -0.21400329594720793,
          0.29892269802325433
         ]
        },
        {
         "hoverinfo": "text",
         "line": {
          "color": "rgba(128, 128, 128, 0.1)",
          "width": 1
         },
         "mode": "lines",
         "text": "0.3333333333333333",
         "type": "scatter",
         "x": [
          0.3042346205107624,
          -0.39369798424770713
         ],
         "y": [
          -0.21400329594720793,
          0.1564690190913819
         ]
        },
        {
         "hoverinfo": "text",
         "line": {
          "color": "rgba(128, 128, 128, 0.1)",
          "width": 1
         },
         "mode": "lines",
         "text": "1.0",
         "type": "scatter",
         "x": [
          0.3042346205107624,
          -0.4965138359262507
         ],
         "y": [
          -0.21400329594720793,
          0.5147073335073147
         ]
        },
        {
         "hoverinfo": "text",
         "line": {
          "color": "rgba(128, 128, 128, 0.1)",
          "width": 1
         },
         "mode": "lines",
         "text": "1.0",
         "type": "scatter",
         "x": [
          0.3042346205107624,
          -0.7047942282637657
         ],
         "y": [
          -0.21400329594720793,
          0.05639581663858665
         ]
        },
        {
         "hoverinfo": "text",
         "line": {
          "color": "rgba(128, 128, 128, 0.1)",
          "width": 1
         },
         "mode": "lines",
         "text": "0.07142857142857142",
         "type": "scatter",
         "x": [
          0.3042346205107624,
          0.22697673177044278
         ],
         "y": [
          -0.21400329594720793,
          -0.8456600770640139
         ]
        },
        {
         "hoverinfo": "text",
         "line": {
          "color": "rgba(128, 128, 128, 0.1)",
          "width": 1
         },
         "mode": "lines",
         "text": "0.5",
         "type": "scatter",
         "x": [
          0.3042346205107624,
          0.17107928195038022
         ],
         "y": [
          -0.21400329594720793,
          0.7959403993931851
         ]
        },
        {
         "hoverinfo": "text",
         "line": {
          "color": "rgba(128, 128, 128, 0.1)",
          "width": 1
         },
         "mode": "lines",
         "text": "0.125",
         "type": "scatter",
         "x": [
          0.3042346205107624,
          0.7198791291336225
         ],
         "y": [
          -0.21400329594720793,
          -0.3555785138076284
         ]
        },
        {
         "hoverinfo": "text",
         "line": {
          "color": "rgba(128, 128, 128, 0.1)",
          "width": 1
         },
         "mode": "lines",
         "text": "0.3333333333333333",
         "type": "scatter",
         "x": [
          0.3042346205107624,
          0.07592479646616518
         ],
         "y": [
          -0.21400329594720793,
          0.5489404396993625
         ]
        },
        {
         "hoverinfo": "text",
         "line": {
          "color": "rgba(128, 128, 128, 0.1)",
          "width": 1
         },
         "mode": "lines",
         "text": "1.0",
         "type": "scatter",
         "x": [
          0.3042346205107624,
          -0.13240271109312432
         ],
         "y": [
          -0.21400329594720793,
          -0.36406482848700933
         ]
        },
        {
         "hoverinfo": "text",
         "line": {
          "color": "rgba(128, 128, 128, 0.1)",
          "width": 1
         },
         "mode": "lines",
         "text": "1.0",
         "type": "scatter",
         "x": [
          0.3042346205107624,
          -1
         ],
         "y": [
          -0.21400329594720793,
          0.006663047876623049
         ]
        },
        {
         "hoverinfo": "text",
         "line": {
          "color": "rgba(128, 128, 128, 0.1)",
          "width": 1
         },
         "mode": "lines",
         "text": "0.3333333333333333",
         "type": "scatter",
         "x": [
          0.3042346205107624,
          0.40794135944224913
         ],
         "y": [
          -0.21400329594720793,
          -0.5939736404506816
         ]
        },
        {
         "hoverinfo": "text",
         "line": {
          "color": "rgba(128, 128, 128, 0.1)",
          "width": 1
         },
         "mode": "lines",
         "text": "0.5",
         "type": "scatter",
         "x": [
          0.3042346205107624,
          0.42727580252097486
         ],
         "y": [
          -0.21400329594720793,
          -0.8147374733359818
         ]
        },
        {
         "hoverinfo": "text",
         "line": {
          "color": "rgba(128, 128, 128, 0.1)",
          "width": 1
         },
         "mode": "lines",
         "text": "0.125",
         "type": "scatter",
         "x": [
          0.3042346205107624,
          -0.7464498563171527
         ],
         "y": [
          -0.21400329594720793,
          -0.15240867563536542
         ]
        },
        {
         "hoverinfo": "text",
         "line": {
          "color": "rgba(128, 128, 128, 0.1)",
          "width": 1
         },
         "mode": "lines",
         "text": "0.3333333333333333",
         "type": "scatter",
         "x": [
          0.3042346205107624,
          0.42220986898347856
         ],
         "y": [
          -0.21400329594720793,
          0.9443298132713931
         ]
        },
        {
         "hoverinfo": "text",
         "line": {
          "color": "rgba(128, 128, 128, 0.1)",
          "width": 1
         },
         "mode": "lines",
         "text": "1.0",
         "type": "scatter",
         "x": [
          0.3042346205107624,
          0.7213026942444919
         ],
         "y": [
          -0.21400329594720793,
          -0.7028614856381851
         ]
        },
        {
         "hoverinfo": "text",
         "line": {
          "color": "rgba(128, 128, 128, 0.1)",
          "width": 1
         },
         "mode": "lines",
         "text": "0.14285714285714285",
         "type": "scatter",
         "x": [
          0.3042346205107624,
          0.9131728451074601
         ],
         "y": [
          -0.21400329594720793,
          -0.0786216846079524
         ]
        },
        {
         "hoverinfo": "text",
         "line": {
          "color": "rgba(128, 128, 128, 0.1)",
          "width": 1
         },
         "mode": "lines",
         "text": "0.3333333333333333",
         "type": "scatter",
         "x": [
          0.3042346205107624,
          -0.02029748952421764
         ],
         "y": [
          -0.21400329594720793,
          0.966511761384103
         ]
        },
        {
         "hoverinfo": "text",
         "line": {
          "color": "rgba(128, 128, 128, 0.1)",
          "width": 1
         },
         "mode": "lines",
         "text": "0.1111111111111111",
         "type": "scatter",
         "x": [
          0.3042346205107624,
          -0.3235081883111062
         ],
         "y": [
          -0.21400329594720793,
          -0.08513015582825498
         ]
        },
        {
         "hoverinfo": "text",
         "line": {
          "color": "rgba(128, 128, 128, 0.1)",
          "width": 1
         },
         "mode": "lines",
         "text": "0.3333333333333333",
         "type": "scatter",
         "x": [
          0.3042346205107624,
          0.05287296895782892
         ],
         "y": [
          -0.21400329594720793,
          -0.09353267533807239
         ]
        },
        {
         "hoverinfo": "text",
         "line": {
          "color": "rgba(128, 128, 128, 0.1)",
          "width": 1
         },
         "mode": "lines",
         "text": "0.3333333333333333",
         "type": "scatter",
         "x": [
          0.3042346205107624,
          -0.5645297566213534
         ],
         "y": [
          -0.21400329594720793,
          -0.5714605612882918
         ]
        },
        {
         "hoverinfo": "text",
         "line": {
          "color": "rgba(128, 128, 128, 0.1)",
          "width": 1
         },
         "mode": "lines",
         "text": "0.1111111111111111",
         "type": "scatter",
         "x": [
          0.3042346205107624,
          -0.3131286416509119
         ],
         "y": [
          -0.21400329594720793,
          0.597469912312249
         ]
        },
        {
         "hoverinfo": "text",
         "line": {
          "color": "rgba(128, 128, 128, 0.1)",
          "width": 1
         },
         "mode": "lines",
         "text": "0.14285714285714285",
         "type": "scatter",
         "x": [
          0.7925432626107755,
          -0.52981302729874
         ],
         "y": [
          0.5855468854554127,
          -0.26861457638885444
         ]
        },
        {
         "hoverinfo": "text",
         "line": {
          "color": "rgba(128, 128, 128, 0.1)",
          "width": 1
         },
         "mode": "lines",
         "text": "1.0",
         "type": "scatter",
         "x": [
          0.7925432626107755,
          -0.6047526130559822
         ],
         "y": [
          0.5855468854554127,
          0.7655665975288818
         ]
        },
        {
         "hoverinfo": "text",
         "line": {
          "color": "rgba(128, 128, 128, 0.1)",
          "width": 1
         },
         "mode": "lines",
         "text": "1.0",
         "type": "scatter",
         "x": [
          0.7925432626107755,
          0.6074389952577244
         ],
         "y": [
          0.5855468854554127,
          -0.12243029093157637
         ]
        },
        {
         "hoverinfo": "text",
         "line": {
          "color": "rgba(128, 128, 128, 0.1)",
          "width": 1
         },
         "mode": "lines",
         "text": "0.09090909090909091",
         "type": "scatter",
         "x": [
          0.7925432626107755,
          -0.918938735340811
         ],
         "y": [
          0.5855468854554127,
          0.29892269802325433
         ]
        },
        {
         "hoverinfo": "text",
         "line": {
          "color": "rgba(128, 128, 128, 0.1)",
          "width": 1
         },
         "mode": "lines",
         "text": "1.0",
         "type": "scatter",
         "x": [
          0.7925432626107755,
          -0.39369798424770713
         ],
         "y": [
          0.5855468854554127,
          0.1564690190913819
         ]
        },
        {
         "hoverinfo": "text",
         "line": {
          "color": "rgba(128, 128, 128, 0.1)",
          "width": 1
         },
         "mode": "lines",
         "text": "0.1111111111111111",
         "type": "scatter",
         "x": [
          0.7925432626107755,
          -0.4965138359262507
         ],
         "y": [
          0.5855468854554127,
          0.5147073335073147
         ]
        },
        {
         "hoverinfo": "text",
         "line": {
          "color": "rgba(128, 128, 128, 0.1)",
          "width": 1
         },
         "mode": "lines",
         "text": "1.0",
         "type": "scatter",
         "x": [
          0.7925432626107755,
          -0.7047942282637657
         ],
         "y": [
          0.5855468854554127,
          0.05639581663858665
         ]
        },
        {
         "hoverinfo": "text",
         "line": {
          "color": "rgba(128, 128, 128, 0.1)",
          "width": 1
         },
         "mode": "lines",
         "text": "0.0625",
         "type": "scatter",
         "x": [
          0.7925432626107755,
          0.22697673177044278
         ],
         "y": [
          0.5855468854554127,
          -0.8456600770640139
         ]
        },
        {
         "hoverinfo": "text",
         "line": {
          "color": "rgba(128, 128, 128, 0.1)",
          "width": 1
         },
         "mode": "lines",
         "text": "0.125",
         "type": "scatter",
         "x": [
          0.7925432626107755,
          0.17107928195038022
         ],
         "y": [
          0.5855468854554127,
          0.7959403993931851
         ]
        },
        {
         "hoverinfo": "text",
         "line": {
          "color": "rgba(128, 128, 128, 0.1)",
          "width": 1
         },
         "mode": "lines",
         "text": "0.125",
         "type": "scatter",
         "x": [
          0.7925432626107755,
          0.7198791291336225
         ],
         "y": [
          0.5855468854554127,
          -0.3555785138076284
         ]
        },
        {
         "hoverinfo": "text",
         "line": {
          "color": "rgba(128, 128, 128, 0.1)",
          "width": 1
         },
         "mode": "lines",
         "text": "1.0",
         "type": "scatter",
         "x": [
          0.7925432626107755,
          0.07592479646616518
         ],
         "y": [
          0.5855468854554127,
          0.5489404396993625
         ]
        },
        {
         "hoverinfo": "text",
         "line": {
          "color": "rgba(128, 128, 128, 0.1)",
          "width": 1
         },
         "mode": "lines",
         "text": "1.0",
         "type": "scatter",
         "x": [
          0.7925432626107755,
          -0.13240271109312432
         ],
         "y": [
          0.5855468854554127,
          -0.36406482848700933
         ]
        },
        {
         "hoverinfo": "text",
         "line": {
          "color": "rgba(128, 128, 128, 0.1)",
          "width": 1
         },
         "mode": "lines",
         "text": "1.0",
         "type": "scatter",
         "x": [
          0.7925432626107755,
          -1
         ],
         "y": [
          0.5855468854554127,
          0.006663047876623049
         ]
        },
        {
         "hoverinfo": "text",
         "line": {
          "color": "rgba(128, 128, 128, 0.1)",
          "width": 1
         },
         "mode": "lines",
         "text": "0.14285714285714285",
         "type": "scatter",
         "x": [
          0.7925432626107755,
          0.40794135944224913
         ],
         "y": [
          0.5855468854554127,
          -0.5939736404506816
         ]
        },
        {
         "hoverinfo": "text",
         "line": {
          "color": "rgba(128, 128, 128, 0.1)",
          "width": 1
         },
         "mode": "lines",
         "text": "0.5",
         "type": "scatter",
         "x": [
          0.7925432626107755,
          0.42727580252097486
         ],
         "y": [
          0.5855468854554127,
          -0.8147374733359818
         ]
        },
        {
         "hoverinfo": "text",
         "line": {
          "color": "rgba(128, 128, 128, 0.1)",
          "width": 1
         },
         "mode": "lines",
         "text": "0.125",
         "type": "scatter",
         "x": [
          0.7925432626107755,
          -0.7464498563171527
         ],
         "y": [
          0.5855468854554127,
          -0.15240867563536542
         ]
        },
        {
         "hoverinfo": "text",
         "line": {
          "color": "rgba(128, 128, 128, 0.1)",
          "width": 1
         },
         "mode": "lines",
         "text": "1.0",
         "type": "scatter",
         "x": [
          0.7925432626107755,
          0.42220986898347856
         ],
         "y": [
          0.5855468854554127,
          0.9443298132713931
         ]
        },
        {
         "hoverinfo": "text",
         "line": {
          "color": "rgba(128, 128, 128, 0.1)",
          "width": 1
         },
         "mode": "lines",
         "text": "1.0",
         "type": "scatter",
         "x": [
          0.7925432626107755,
          0.7213026942444919
         ],
         "y": [
          0.5855468854554127,
          -0.7028614856381851
         ]
        },
        {
         "hoverinfo": "text",
         "line": {
          "color": "rgba(128, 128, 128, 0.1)",
          "width": 1
         },
         "mode": "lines",
         "text": "1.0",
         "type": "scatter",
         "x": [
          0.7925432626107755,
          0.9131728451074601
         ],
         "y": [
          0.5855468854554127,
          -0.0786216846079524
         ]
        },
        {
         "hoverinfo": "text",
         "line": {
          "color": "rgba(128, 128, 128, 0.1)",
          "width": 1
         },
         "mode": "lines",
         "text": "1.0",
         "type": "scatter",
         "x": [
          0.7925432626107755,
          -0.02029748952421764
         ],
         "y": [
          0.5855468854554127,
          0.966511761384103
         ]
        },
        {
         "hoverinfo": "text",
         "line": {
          "color": "rgba(128, 128, 128, 0.1)",
          "width": 1
         },
         "mode": "lines",
         "text": "0.1111111111111111",
         "type": "scatter",
         "x": [
          0.7925432626107755,
          -0.3235081883111062
         ],
         "y": [
          0.5855468854554127,
          -0.08513015582825498
         ]
        },
        {
         "hoverinfo": "text",
         "line": {
          "color": "rgba(128, 128, 128, 0.1)",
          "width": 1
         },
         "mode": "lines",
         "text": "1.0",
         "type": "scatter",
         "x": [
          0.7925432626107755,
          0.05287296895782892
         ],
         "y": [
          0.5855468854554127,
          -0.09353267533807239
         ]
        },
        {
         "hoverinfo": "text",
         "line": {
          "color": "rgba(128, 128, 128, 0.1)",
          "width": 1
         },
         "mode": "lines",
         "text": "1.0",
         "type": "scatter",
         "x": [
          0.7925432626107755,
          -0.5645297566213534
         ],
         "y": [
          0.5855468854554127,
          -0.5714605612882918
         ]
        },
        {
         "hoverinfo": "text",
         "line": {
          "color": "rgba(128, 128, 128, 0.1)",
          "width": 1
         },
         "mode": "lines",
         "text": "0.1111111111111111",
         "type": "scatter",
         "x": [
          0.7925432626107755,
          -0.3131286416509119
         ],
         "y": [
          0.5855468854554127,
          0.597469912312249
         ]
        },
        {
         "hoverinfo": "text",
         "line": {
          "color": "rgba(128, 128, 128, 0.1)",
          "width": 1
         },
         "mode": "lines",
         "text": "1.0",
         "type": "scatter",
         "x": [
          -0.52981302729874,
          -0.6047526130559822
         ],
         "y": [
          -0.26861457638885444,
          0.7655665975288818
         ]
        },
        {
         "hoverinfo": "text",
         "line": {
          "color": "rgba(128, 128, 128, 0.1)",
          "width": 1
         },
         "mode": "lines",
         "text": "1.0",
         "type": "scatter",
         "x": [
          -0.52981302729874,
          0.6074389952577244
         ],
         "y": [
          -0.26861457638885444,
          -0.12243029093157637
         ]
        },
        {
         "hoverinfo": "text",
         "line": {
          "color": "rgba(128, 128, 128, 0.1)",
          "width": 1
         },
         "mode": "lines",
         "text": "1.0",
         "type": "scatter",
         "x": [
          -0.52981302729874,
          -0.918938735340811
         ],
         "y": [
          -0.26861457638885444,
          0.29892269802325433
         ]
        },
        {
         "hoverinfo": "text",
         "line": {
          "color": "rgba(128, 128, 128, 0.1)",
          "width": 1
         },
         "mode": "lines",
         "text": "1.0",
         "type": "scatter",
         "x": [
          -0.52981302729874,
          -0.39369798424770713
         ],
         "y": [
          -0.26861457638885444,
          0.1564690190913819
         ]
        },
        {
         "hoverinfo": "text",
         "line": {
          "color": "rgba(128, 128, 128, 0.1)",
          "width": 1
         },
         "mode": "lines",
         "text": "1.0",
         "type": "scatter",
         "x": [
          -0.52981302729874,
          -0.4965138359262507
         ],
         "y": [
          -0.26861457638885444,
          0.5147073335073147
         ]
        },
        {
         "hoverinfo": "text",
         "line": {
          "color": "rgba(128, 128, 128, 0.1)",
          "width": 1
         },
         "mode": "lines",
         "text": "1.0",
         "type": "scatter",
         "x": [
          -0.52981302729874,
          -0.7047942282637657
         ],
         "y": [
          -0.26861457638885444,
          0.05639581663858665
         ]
        },
        {
         "hoverinfo": "text",
         "line": {
          "color": "rgba(128, 128, 128, 0.1)",
          "width": 1
         },
         "mode": "lines",
         "text": "0.1",
         "type": "scatter",
         "x": [
          -0.52981302729874,
          0.22697673177044278
         ],
         "y": [
          -0.26861457638885444,
          -0.8456600770640139
         ]
        },
        {
         "hoverinfo": "text",
         "line": {
          "color": "rgba(128, 128, 128, 0.1)",
          "width": 1
         },
         "mode": "lines",
         "text": "0.5",
         "type": "scatter",
         "x": [
          -0.52981302729874,
          0.17107928195038022
         ],
         "y": [
          -0.26861457638885444,
          0.7959403993931851
         ]
        },
        {
         "hoverinfo": "text",
         "line": {
          "color": "rgba(128, 128, 128, 0.1)",
          "width": 1
         },
         "mode": "lines",
         "text": "0.125",
         "type": "scatter",
         "x": [
          -0.52981302729874,
          0.7198791291336225
         ],
         "y": [
          -0.26861457638885444,
          -0.3555785138076284
         ]
        },
        {
         "hoverinfo": "text",
         "line": {
          "color": "rgba(128, 128, 128, 0.1)",
          "width": 1
         },
         "mode": "lines",
         "text": "1.0",
         "type": "scatter",
         "x": [
          -0.52981302729874,
          0.07592479646616518
         ],
         "y": [
          -0.26861457638885444,
          0.5489404396993625
         ]
        },
        {
         "hoverinfo": "text",
         "line": {
          "color": "rgba(128, 128, 128, 0.1)",
          "width": 1
         },
         "mode": "lines",
         "text": "1.0",
         "type": "scatter",
         "x": [
          -0.52981302729874,
          -0.13240271109312432
         ],
         "y": [
          -0.26861457638885444,
          -0.36406482848700933
         ]
        },
        {
         "hoverinfo": "text",
         "line": {
          "color": "rgba(128, 128, 128, 0.1)",
          "width": 1
         },
         "mode": "lines",
         "text": "1.0",
         "type": "scatter",
         "x": [
          -0.52981302729874,
          -1
         ],
         "y": [
          -0.26861457638885444,
          0.006663047876623049
         ]
        },
        {
         "hoverinfo": "text",
         "line": {
          "color": "rgba(128, 128, 128, 0.1)",
          "width": 1
         },
         "mode": "lines",
         "text": "1.0",
         "type": "scatter",
         "x": [
          -0.52981302729874,
          0.40794135944224913
         ],
         "y": [
          -0.26861457638885444,
          -0.5939736404506816
         ]
        },
        {
         "hoverinfo": "text",
         "line": {
          "color": "rgba(128, 128, 128, 0.1)",
          "width": 1
         },
         "mode": "lines",
         "text": "0.5",
         "type": "scatter",
         "x": [
          -0.52981302729874,
          0.42727580252097486
         ],
         "y": [
          -0.26861457638885444,
          -0.8147374733359818
         ]
        },
        {
         "hoverinfo": "text",
         "line": {
          "color": "rgba(128, 128, 128, 0.1)",
          "width": 1
         },
         "mode": "lines",
         "text": "0.125",
         "type": "scatter",
         "x": [
          -0.52981302729874,
          -0.7464498563171527
         ],
         "y": [
          -0.26861457638885444,
          -0.15240867563536542
         ]
        },
        {
         "hoverinfo": "text",
         "line": {
          "color": "rgba(128, 128, 128, 0.1)",
          "width": 1
         },
         "mode": "lines",
         "text": "1.0",
         "type": "scatter",
         "x": [
          -0.52981302729874,
          0.42220986898347856
         ],
         "y": [
          -0.26861457638885444,
          0.9443298132713931
         ]
        },
        {
         "hoverinfo": "text",
         "line": {
          "color": "rgba(128, 128, 128, 0.1)",
          "width": 1
         },
         "mode": "lines",
         "text": "1.0",
         "type": "scatter",
         "x": [
          -0.52981302729874,
          0.7213026942444919
         ],
         "y": [
          -0.26861457638885444,
          -0.7028614856381851
         ]
        },
        {
         "hoverinfo": "text",
         "line": {
          "color": "rgba(128, 128, 128, 0.1)",
          "width": 1
         },
         "mode": "lines",
         "text": "0.14285714285714285",
         "type": "scatter",
         "x": [
          -0.52981302729874,
          0.9131728451074601
         ],
         "y": [
          -0.26861457638885444,
          -0.0786216846079524
         ]
        },
        {
         "hoverinfo": "text",
         "line": {
          "color": "rgba(128, 128, 128, 0.1)",
          "width": 1
         },
         "mode": "lines",
         "text": "1.0",
         "type": "scatter",
         "x": [
          -0.52981302729874,
          -0.02029748952421764
         ],
         "y": [
          -0.26861457638885444,
          0.966511761384103
         ]
        },
        {
         "hoverinfo": "text",
         "line": {
          "color": "rgba(128, 128, 128, 0.1)",
          "width": 1
         },
         "mode": "lines",
         "text": "0.1111111111111111",
         "type": "scatter",
         "x": [
          -0.52981302729874,
          -0.3235081883111062
         ],
         "y": [
          -0.26861457638885444,
          -0.08513015582825498
         ]
        },
        {
         "hoverinfo": "text",
         "line": {
          "color": "rgba(128, 128, 128, 0.1)",
          "width": 1
         },
         "mode": "lines",
         "text": "1.0",
         "type": "scatter",
         "x": [
          -0.52981302729874,
          0.05287296895782892
         ],
         "y": [
          -0.26861457638885444,
          -0.09353267533807239
         ]
        },
        {
         "hoverinfo": "text",
         "line": {
          "color": "rgba(128, 128, 128, 0.1)",
          "width": 1
         },
         "mode": "lines",
         "text": "1.0",
         "type": "scatter",
         "x": [
          -0.52981302729874,
          -0.5645297566213534
         ],
         "y": [
          -0.26861457638885444,
          -0.5714605612882918
         ]
        },
        {
         "hoverinfo": "text",
         "line": {
          "color": "rgba(128, 128, 128, 0.1)",
          "width": 1
         },
         "mode": "lines",
         "text": "0.1111111111111111",
         "type": "scatter",
         "x": [
          -0.52981302729874,
          -0.3131286416509119
         ],
         "y": [
          -0.26861457638885444,
          0.597469912312249
         ]
        },
        {
         "hoverinfo": "text",
         "line": {
          "color": "rgba(128, 128, 128, 0.1)",
          "width": 1
         },
         "mode": "lines",
         "text": "1.0",
         "type": "scatter",
         "x": [
          -0.6047526130559822,
          0.6074389952577244
         ],
         "y": [
          0.7655665975288818,
          -0.12243029093157637
         ]
        },
        {
         "hoverinfo": "text",
         "line": {
          "color": "rgba(128, 128, 128, 0.1)",
          "width": 1
         },
         "mode": "lines",
         "text": "1.0",
         "type": "scatter",
         "x": [
          -0.6047526130559822,
          -0.918938735340811
         ],
         "y": [
          0.7655665975288818,
          0.29892269802325433
         ]
        },
        {
         "hoverinfo": "text",
         "line": {
          "color": "rgba(128, 128, 128, 0.1)",
          "width": 1
         },
         "mode": "lines",
         "text": "1.0",
         "type": "scatter",
         "x": [
          -0.6047526130559822,
          -0.39369798424770713
         ],
         "y": [
          0.7655665975288818,
          0.1564690190913819
         ]
        },
        {
         "hoverinfo": "text",
         "line": {
          "color": "rgba(128, 128, 128, 0.1)",
          "width": 1
         },
         "mode": "lines",
         "text": "1.0",
         "type": "scatter",
         "x": [
          -0.6047526130559822,
          -0.4965138359262507
         ],
         "y": [
          0.7655665975288818,
          0.5147073335073147
         ]
        },
        {
         "hoverinfo": "text",
         "line": {
          "color": "rgba(128, 128, 128, 0.1)",
          "width": 1
         },
         "mode": "lines",
         "text": "1.0",
         "type": "scatter",
         "x": [
          -0.6047526130559822,
          -0.7047942282637657
         ],
         "y": [
          0.7655665975288818,
          0.05639581663858665
         ]
        },
        {
         "hoverinfo": "text",
         "line": {
          "color": "rgba(128, 128, 128, 0.1)",
          "width": 1
         },
         "mode": "lines",
         "text": "0.08333333333333333",
         "type": "scatter",
         "x": [
          -0.6047526130559822,
          0.22697673177044278
         ],
         "y": [
          0.7655665975288818,
          -0.8456600770640139
         ]
        },
        {
         "hoverinfo": "text",
         "line": {
          "color": "rgba(128, 128, 128, 0.1)",
          "width": 1
         },
         "mode": "lines",
         "text": "0.5",
         "type": "scatter",
         "x": [
          -0.6047526130559822,
          0.17107928195038022
         ],
         "y": [
          0.7655665975288818,
          0.7959403993931851
         ]
        },
        {
         "hoverinfo": "text",
         "line": {
          "color": "rgba(128, 128, 128, 0.1)",
          "width": 1
         },
         "mode": "lines",
         "text": "0.125",
         "type": "scatter",
         "x": [
          -0.6047526130559822,
          0.7198791291336225
         ],
         "y": [
          0.7655665975288818,
          -0.3555785138076284
         ]
        },
        {
         "hoverinfo": "text",
         "line": {
          "color": "rgba(128, 128, 128, 0.1)",
          "width": 1
         },
         "mode": "lines",
         "text": "1.0",
         "type": "scatter",
         "x": [
          -0.6047526130559822,
          0.07592479646616518
         ],
         "y": [
          0.7655665975288818,
          0.5489404396993625
         ]
        },
        {
         "hoverinfo": "text",
         "line": {
          "color": "rgba(128, 128, 128, 0.1)",
          "width": 1
         },
         "mode": "lines",
         "text": "1.0",
         "type": "scatter",
         "x": [
          -0.6047526130559822,
          -0.13240271109312432
         ],
         "y": [
          0.7655665975288818,
          -0.36406482848700933
         ]
        },
        {
         "hoverinfo": "text",
         "line": {
          "color": "rgba(128, 128, 128, 0.1)",
          "width": 1
         },
         "mode": "lines",
         "text": "1.0",
         "type": "scatter",
         "x": [
          -0.6047526130559822,
          -1
         ],
         "y": [
          0.7655665975288818,
          0.006663047876623049
         ]
        },
        {
         "hoverinfo": "text",
         "line": {
          "color": "rgba(128, 128, 128, 0.1)",
          "width": 1
         },
         "mode": "lines",
         "text": "1.0",
         "type": "scatter",
         "x": [
          -0.6047526130559822,
          0.40794135944224913
         ],
         "y": [
          0.7655665975288818,
          -0.5939736404506816
         ]
        },
        {
         "hoverinfo": "text",
         "line": {
          "color": "rgba(128, 128, 128, 0.1)",
          "width": 1
         },
         "mode": "lines",
         "text": "0.5",
         "type": "scatter",
         "x": [
          -0.6047526130559822,
          0.42727580252097486
         ],
         "y": [
          0.7655665975288818,
          -0.8147374733359818
         ]
        },
        {
         "hoverinfo": "text",
         "line": {
          "color": "rgba(128, 128, 128, 0.1)",
          "width": 1
         },
         "mode": "lines",
         "text": "0.125",
         "type": "scatter",
         "x": [
          -0.6047526130559822,
          -0.7464498563171527
         ],
         "y": [
          0.7655665975288818,
          -0.15240867563536542
         ]
        },
        {
         "hoverinfo": "text",
         "line": {
          "color": "rgba(128, 128, 128, 0.1)",
          "width": 1
         },
         "mode": "lines",
         "text": "1.0",
         "type": "scatter",
         "x": [
          -0.6047526130559822,
          0.42220986898347856
         ],
         "y": [
          0.7655665975288818,
          0.9443298132713931
         ]
        },
        {
         "hoverinfo": "text",
         "line": {
          "color": "rgba(128, 128, 128, 0.1)",
          "width": 1
         },
         "mode": "lines",
         "text": "1.0",
         "type": "scatter",
         "x": [
          -0.6047526130559822,
          0.7213026942444919
         ],
         "y": [
          0.7655665975288818,
          -0.7028614856381851
         ]
        },
        {
         "hoverinfo": "text",
         "line": {
          "color": "rgba(128, 128, 128, 0.1)",
          "width": 1
         },
         "mode": "lines",
         "text": "1.0",
         "type": "scatter",
         "x": [
          -0.6047526130559822,
          0.9131728451074601
         ],
         "y": [
          0.7655665975288818,
          -0.0786216846079524
         ]
        },
        {
         "hoverinfo": "text",
         "line": {
          "color": "rgba(128, 128, 128, 0.1)",
          "width": 1
         },
         "mode": "lines",
         "text": "1.0",
         "type": "scatter",
         "x": [
          -0.6047526130559822,
          -0.02029748952421764
         ],
         "y": [
          0.7655665975288818,
          0.966511761384103
         ]
        },
        {
         "hoverinfo": "text",
         "line": {
          "color": "rgba(128, 128, 128, 0.1)",
          "width": 1
         },
         "mode": "lines",
         "text": "0.1111111111111111",
         "type": "scatter",
         "x": [
          -0.6047526130559822,
          -0.3235081883111062
         ],
         "y": [
          0.7655665975288818,
          -0.08513015582825498
         ]
        },
        {
         "hoverinfo": "text",
         "line": {
          "color": "rgba(128, 128, 128, 0.1)",
          "width": 1
         },
         "mode": "lines",
         "text": "1.0",
         "type": "scatter",
         "x": [
          -0.6047526130559822,
          0.05287296895782892
         ],
         "y": [
          0.7655665975288818,
          -0.09353267533807239
         ]
        },
        {
         "hoverinfo": "text",
         "line": {
          "color": "rgba(128, 128, 128, 0.1)",
          "width": 1
         },
         "mode": "lines",
         "text": "1.0",
         "type": "scatter",
         "x": [
          -0.6047526130559822,
          -0.5645297566213534
         ],
         "y": [
          0.7655665975288818,
          -0.5714605612882918
         ]
        },
        {
         "hoverinfo": "text",
         "line": {
          "color": "rgba(128, 128, 128, 0.1)",
          "width": 1
         },
         "mode": "lines",
         "text": "0.1111111111111111",
         "type": "scatter",
         "x": [
          -0.6047526130559822,
          -0.3131286416509119
         ],
         "y": [
          0.7655665975288818,
          0.597469912312249
         ]
        },
        {
         "hoverinfo": "text",
         "line": {
          "color": "rgba(128, 128, 128, 0.1)",
          "width": 1
         },
         "mode": "lines",
         "text": "1.0",
         "type": "scatter",
         "x": [
          0.6074389952577244,
          -0.918938735340811
         ],
         "y": [
          -0.12243029093157637,
          0.29892269802325433
         ]
        },
        {
         "hoverinfo": "text",
         "line": {
          "color": "rgba(128, 128, 128, 0.1)",
          "width": 1
         },
         "mode": "lines",
         "text": "1.0",
         "type": "scatter",
         "x": [
          0.6074389952577244,
          -0.39369798424770713
         ],
         "y": [
          -0.12243029093157637,
          0.1564690190913819
         ]
        },
        {
         "hoverinfo": "text",
         "line": {
          "color": "rgba(128, 128, 128, 0.1)",
          "width": 1
         },
         "mode": "lines",
         "text": "1.0",
         "type": "scatter",
         "x": [
          0.6074389952577244,
          -0.4965138359262507
         ],
         "y": [
          -0.12243029093157637,
          0.5147073335073147
         ]
        },
        {
         "hoverinfo": "text",
         "line": {
          "color": "rgba(128, 128, 128, 0.1)",
          "width": 1
         },
         "mode": "lines",
         "text": "1.0",
         "type": "scatter",
         "x": [
          0.6074389952577244,
          -0.7047942282637657
         ],
         "y": [
          -0.12243029093157637,
          0.05639581663858665
         ]
        },
        {
         "hoverinfo": "text",
         "line": {
          "color": "rgba(128, 128, 128, 0.1)",
          "width": 1
         },
         "mode": "lines",
         "text": "0.08333333333333333",
         "type": "scatter",
         "x": [
          0.6074389952577244,
          0.22697673177044278
         ],
         "y": [
          -0.12243029093157637,
          -0.8456600770640139
         ]
        },
        {
         "hoverinfo": "text",
         "line": {
          "color": "rgba(128, 128, 128, 0.1)",
          "width": 1
         },
         "mode": "lines",
         "text": "0.5",
         "type": "scatter",
         "x": [
          0.6074389952577244,
          0.17107928195038022
         ],
         "y": [
          -0.12243029093157637,
          0.7959403993931851
         ]
        },
        {
         "hoverinfo": "text",
         "line": {
          "color": "rgba(128, 128, 128, 0.1)",
          "width": 1
         },
         "mode": "lines",
         "text": "0.1",
         "type": "scatter",
         "x": [
          0.6074389952577244,
          0.7198791291336225
         ],
         "y": [
          -0.12243029093157637,
          -0.3555785138076284
         ]
        },
        {
         "hoverinfo": "text",
         "line": {
          "color": "rgba(128, 128, 128, 0.1)",
          "width": 1
         },
         "mode": "lines",
         "text": "1.0",
         "type": "scatter",
         "x": [
          0.6074389952577244,
          0.07592479646616518
         ],
         "y": [
          -0.12243029093157637,
          0.5489404396993625
         ]
        },
        {
         "hoverinfo": "text",
         "line": {
          "color": "rgba(128, 128, 128, 0.1)",
          "width": 1
         },
         "mode": "lines",
         "text": "1.0",
         "type": "scatter",
         "x": [
          0.6074389952577244,
          -0.13240271109312432
         ],
         "y": [
          -0.12243029093157637,
          -0.36406482848700933
         ]
        },
        {
         "hoverinfo": "text",
         "line": {
          "color": "rgba(128, 128, 128, 0.1)",
          "width": 1
         },
         "mode": "lines",
         "text": "1.0",
         "type": "scatter",
         "x": [
          0.6074389952577244,
          -1
         ],
         "y": [
          -0.12243029093157637,
          0.006663047876623049
         ]
        },
        {
         "hoverinfo": "text",
         "line": {
          "color": "rgba(128, 128, 128, 0.1)",
          "width": 1
         },
         "mode": "lines",
         "text": "1.0",
         "type": "scatter",
         "x": [
          0.6074389952577244,
          0.40794135944224913
         ],
         "y": [
          -0.12243029093157637,
          -0.5939736404506816
         ]
        },
        {
         "hoverinfo": "text",
         "line": {
          "color": "rgba(128, 128, 128, 0.1)",
          "width": 1
         },
         "mode": "lines",
         "text": "0.5",
         "type": "scatter",
         "x": [
          0.6074389952577244,
          0.42727580252097486
         ],
         "y": [
          -0.12243029093157637,
          -0.8147374733359818
         ]
        },
        {
         "hoverinfo": "text",
         "line": {
          "color": "rgba(128, 128, 128, 0.1)",
          "width": 1
         },
         "mode": "lines",
         "text": "0.125",
         "type": "scatter",
         "x": [
          0.6074389952577244,
          -0.7464498563171527
         ],
         "y": [
          -0.12243029093157637,
          -0.15240867563536542
         ]
        },
        {
         "hoverinfo": "text",
         "line": {
          "color": "rgba(128, 128, 128, 0.1)",
          "width": 1
         },
         "mode": "lines",
         "text": "1.0",
         "type": "scatter",
         "x": [
          0.6074389952577244,
          0.42220986898347856
         ],
         "y": [
          -0.12243029093157637,
          0.9443298132713931
         ]
        },
        {
         "hoverinfo": "text",
         "line": {
          "color": "rgba(128, 128, 128, 0.1)",
          "width": 1
         },
         "mode": "lines",
         "text": "1.0",
         "type": "scatter",
         "x": [
          0.6074389952577244,
          0.7213026942444919
         ],
         "y": [
          -0.12243029093157637,
          -0.7028614856381851
         ]
        },
        {
         "hoverinfo": "text",
         "line": {
          "color": "rgba(128, 128, 128, 0.1)",
          "width": 1
         },
         "mode": "lines",
         "text": "0.09090909090909091",
         "type": "scatter",
         "x": [
          0.6074389952577244,
          0.9131728451074601
         ],
         "y": [
          -0.12243029093157637,
          -0.0786216846079524
         ]
        },
        {
         "hoverinfo": "text",
         "line": {
          "color": "rgba(128, 128, 128, 0.1)",
          "width": 1
         },
         "mode": "lines",
         "text": "1.0",
         "type": "scatter",
         "x": [
          0.6074389952577244,
          -0.02029748952421764
         ],
         "y": [
          -0.12243029093157637,
          0.966511761384103
         ]
        },
        {
         "hoverinfo": "text",
         "line": {
          "color": "rgba(128, 128, 128, 0.1)",
          "width": 1
         },
         "mode": "lines",
         "text": "0.1111111111111111",
         "type": "scatter",
         "x": [
          0.6074389952577244,
          -0.3235081883111062
         ],
         "y": [
          -0.12243029093157637,
          -0.08513015582825498
         ]
        },
        {
         "hoverinfo": "text",
         "line": {
          "color": "rgba(128, 128, 128, 0.1)",
          "width": 1
         },
         "mode": "lines",
         "text": "1.0",
         "type": "scatter",
         "x": [
          0.6074389952577244,
          0.05287296895782892
         ],
         "y": [
          -0.12243029093157637,
          -0.09353267533807239
         ]
        },
        {
         "hoverinfo": "text",
         "line": {
          "color": "rgba(128, 128, 128, 0.1)",
          "width": 1
         },
         "mode": "lines",
         "text": "1.0",
         "type": "scatter",
         "x": [
          0.6074389952577244,
          -0.5645297566213534
         ],
         "y": [
          -0.12243029093157637,
          -0.5714605612882918
         ]
        },
        {
         "hoverinfo": "text",
         "line": {
          "color": "rgba(128, 128, 128, 0.1)",
          "width": 1
         },
         "mode": "lines",
         "text": "0.1111111111111111",
         "type": "scatter",
         "x": [
          0.6074389952577244,
          -0.3131286416509119
         ],
         "y": [
          -0.12243029093157637,
          0.597469912312249
         ]
        },
        {
         "hoverinfo": "text",
         "line": {
          "color": "rgba(128, 128, 128, 0.1)",
          "width": 1
         },
         "mode": "lines",
         "text": "1.0",
         "type": "scatter",
         "x": [
          -0.918938735340811,
          -0.39369798424770713
         ],
         "y": [
          0.29892269802325433,
          0.1564690190913819
         ]
        },
        {
         "hoverinfo": "text",
         "line": {
          "color": "rgba(128, 128, 128, 0.1)",
          "width": 1
         },
         "mode": "lines",
         "text": "0.09090909090909091",
         "type": "scatter",
         "x": [
          -0.918938735340811,
          -0.4965138359262507
         ],
         "y": [
          0.29892269802325433,
          0.5147073335073147
         ]
        },
        {
         "hoverinfo": "text",
         "line": {
          "color": "rgba(128, 128, 128, 0.1)",
          "width": 1
         },
         "mode": "lines",
         "text": "1.0",
         "type": "scatter",
         "x": [
          -0.918938735340811,
          -0.7047942282637657
         ],
         "y": [
          0.29892269802325433,
          0.05639581663858665
         ]
        },
        {
         "hoverinfo": "text",
         "line": {
          "color": "rgba(128, 128, 128, 0.1)",
          "width": 1
         },
         "mode": "lines",
         "text": "0.08333333333333333",
         "type": "scatter",
         "x": [
          -0.918938735340811,
          0.22697673177044278
         ],
         "y": [
          0.29892269802325433,
          -0.8456600770640139
         ]
        },
        {
         "hoverinfo": "text",
         "line": {
          "color": "rgba(128, 128, 128, 0.1)",
          "width": 1
         },
         "mode": "lines",
         "text": "0.16666666666666666",
         "type": "scatter",
         "x": [
          -0.918938735340811,
          0.17107928195038022
         ],
         "y": [
          0.29892269802325433,
          0.7959403993931851
         ]
        },
        {
         "hoverinfo": "text",
         "line": {
          "color": "rgba(128, 128, 128, 0.1)",
          "width": 1
         },
         "mode": "lines",
         "text": "0.1",
         "type": "scatter",
         "x": [
          -0.918938735340811,
          0.7198791291336225
         ],
         "y": [
          0.29892269802325433,
          -0.3555785138076284
         ]
        },
        {
         "hoverinfo": "text",
         "line": {
          "color": "rgba(128, 128, 128, 0.1)",
          "width": 1
         },
         "mode": "lines",
         "text": "1.0",
         "type": "scatter",
         "x": [
          -0.918938735340811,
          0.07592479646616518
         ],
         "y": [
          0.29892269802325433,
          0.5489404396993625
         ]
        },
        {
         "hoverinfo": "text",
         "line": {
          "color": "rgba(128, 128, 128, 0.1)",
          "width": 1
         },
         "mode": "lines",
         "text": "0.14285714285714285",
         "type": "scatter",
         "x": [
          -0.918938735340811,
          -0.13240271109312432
         ],
         "y": [
          0.29892269802325433,
          -0.36406482848700933
         ]
        },
        {
         "hoverinfo": "text",
         "line": {
          "color": "rgba(128, 128, 128, 0.1)",
          "width": 1
         },
         "mode": "lines",
         "text": "1.0",
         "type": "scatter",
         "x": [
          -0.918938735340811,
          -1
         ],
         "y": [
          0.29892269802325433,
          0.006663047876623049
         ]
        },
        {
         "hoverinfo": "text",
         "line": {
          "color": "rgba(128, 128, 128, 0.1)",
          "width": 1
         },
         "mode": "lines",
         "text": "1.0",
         "type": "scatter",
         "x": [
          -0.918938735340811,
          0.40794135944224913
         ],
         "y": [
          0.29892269802325433,
          -0.5939736404506816
         ]
        },
        {
         "hoverinfo": "text",
         "line": {
          "color": "rgba(128, 128, 128, 0.1)",
          "width": 1
         },
         "mode": "lines",
         "text": "0.5",
         "type": "scatter",
         "x": [
          -0.918938735340811,
          0.42727580252097486
         ],
         "y": [
          0.29892269802325433,
          -0.8147374733359818
         ]
        },
        {
         "hoverinfo": "text",
         "line": {
          "color": "rgba(128, 128, 128, 0.1)",
          "width": 1
         },
         "mode": "lines",
         "text": "0.125",
         "type": "scatter",
         "x": [
          -0.918938735340811,
          -0.7464498563171527
         ],
         "y": [
          0.29892269802325433,
          -0.15240867563536542
         ]
        },
        {
         "hoverinfo": "text",
         "line": {
          "color": "rgba(128, 128, 128, 0.1)",
          "width": 1
         },
         "mode": "lines",
         "text": "1.0",
         "type": "scatter",
         "x": [
          -0.918938735340811,
          0.42220986898347856
         ],
         "y": [
          0.29892269802325433,
          0.9443298132713931
         ]
        },
        {
         "hoverinfo": "text",
         "line": {
          "color": "rgba(128, 128, 128, 0.1)",
          "width": 1
         },
         "mode": "lines",
         "text": "1.0",
         "type": "scatter",
         "x": [
          -0.918938735340811,
          0.7213026942444919
         ],
         "y": [
          0.29892269802325433,
          -0.7028614856381851
         ]
        },
        {
         "hoverinfo": "text",
         "line": {
          "color": "rgba(128, 128, 128, 0.1)",
          "width": 1
         },
         "mode": "lines",
         "text": "0.09090909090909091",
         "type": "scatter",
         "x": [
          -0.918938735340811,
          0.9131728451074601
         ],
         "y": [
          0.29892269802325433,
          -0.0786216846079524
         ]
        },
        {
         "hoverinfo": "text",
         "line": {
          "color": "rgba(128, 128, 128, 0.1)",
          "width": 1
         },
         "mode": "lines",
         "text": "1.0",
         "type": "scatter",
         "x": [
          -0.918938735340811,
          -0.02029748952421764
         ],
         "y": [
          0.29892269802325433,
          0.966511761384103
         ]
        },
        {
         "hoverinfo": "text",
         "line": {
          "color": "rgba(128, 128, 128, 0.1)",
          "width": 1
         },
         "mode": "lines",
         "text": "0.1111111111111111",
         "type": "scatter",
         "x": [
          -0.918938735340811,
          -0.3235081883111062
         ],
         "y": [
          0.29892269802325433,
          -0.08513015582825498
         ]
        },
        {
         "hoverinfo": "text",
         "line": {
          "color": "rgba(128, 128, 128, 0.1)",
          "width": 1
         },
         "mode": "lines",
         "text": "1.0",
         "type": "scatter",
         "x": [
          -0.918938735340811,
          0.05287296895782892
         ],
         "y": [
          0.29892269802325433,
          -0.09353267533807239
         ]
        },
        {
         "hoverinfo": "text",
         "line": {
          "color": "rgba(128, 128, 128, 0.1)",
          "width": 1
         },
         "mode": "lines",
         "text": "0.14285714285714285",
         "type": "scatter",
         "x": [
          -0.918938735340811,
          -0.5645297566213534
         ],
         "y": [
          0.29892269802325433,
          -0.5714605612882918
         ]
        },
        {
         "hoverinfo": "text",
         "line": {
          "color": "rgba(128, 128, 128, 0.1)",
          "width": 1
         },
         "mode": "lines",
         "text": "0.1111111111111111",
         "type": "scatter",
         "x": [
          -0.918938735340811,
          -0.3131286416509119
         ],
         "y": [
          0.29892269802325433,
          0.597469912312249
         ]
        },
        {
         "hoverinfo": "text",
         "line": {
          "color": "rgba(128, 128, 128, 0.1)",
          "width": 1
         },
         "mode": "lines",
         "text": "1.0",
         "type": "scatter",
         "x": [
          -0.39369798424770713,
          -0.4965138359262507
         ],
         "y": [
          0.1564690190913819,
          0.5147073335073147
         ]
        },
        {
         "hoverinfo": "text",
         "line": {
          "color": "rgba(128, 128, 128, 0.1)",
          "width": 1
         },
         "mode": "lines",
         "text": "1.0",
         "type": "scatter",
         "x": [
          -0.39369798424770713,
          -0.7047942282637657
         ],
         "y": [
          0.1564690190913819,
          0.05639581663858665
         ]
        },
        {
         "hoverinfo": "text",
         "line": {
          "color": "rgba(128, 128, 128, 0.1)",
          "width": 1
         },
         "mode": "lines",
         "text": "0.08333333333333333",
         "type": "scatter",
         "x": [
          -0.39369798424770713,
          0.22697673177044278
         ],
         "y": [
          0.1564690190913819,
          -0.8456600770640139
         ]
        },
        {
         "hoverinfo": "text",
         "line": {
          "color": "rgba(128, 128, 128, 0.1)",
          "width": 1
         },
         "mode": "lines",
         "text": "0.5",
         "type": "scatter",
         "x": [
          -0.39369798424770713,
          0.17107928195038022
         ],
         "y": [
          0.1564690190913819,
          0.7959403993931851
         ]
        },
        {
         "hoverinfo": "text",
         "line": {
          "color": "rgba(128, 128, 128, 0.1)",
          "width": 1
         },
         "mode": "lines",
         "text": "0.1",
         "type": "scatter",
         "x": [
          -0.39369798424770713,
          0.7198791291336225
         ],
         "y": [
          0.1564690190913819,
          -0.3555785138076284
         ]
        },
        {
         "hoverinfo": "text",
         "line": {
          "color": "rgba(128, 128, 128, 0.1)",
          "width": 1
         },
         "mode": "lines",
         "text": "1.0",
         "type": "scatter",
         "x": [
          -0.39369798424770713,
          0.07592479646616518
         ],
         "y": [
          0.1564690190913819,
          0.5489404396993625
         ]
        },
        {
         "hoverinfo": "text",
         "line": {
          "color": "rgba(128, 128, 128, 0.1)",
          "width": 1
         },
         "mode": "lines",
         "text": "1.0",
         "type": "scatter",
         "x": [
          -0.39369798424770713,
          -0.13240271109312432
         ],
         "y": [
          0.1564690190913819,
          -0.36406482848700933
         ]
        },
        {
         "hoverinfo": "text",
         "line": {
          "color": "rgba(128, 128, 128, 0.1)",
          "width": 1
         },
         "mode": "lines",
         "text": "1.0",
         "type": "scatter",
         "x": [
          -0.39369798424770713,
          -1
         ],
         "y": [
          0.1564690190913819,
          0.006663047876623049
         ]
        },
        {
         "hoverinfo": "text",
         "line": {
          "color": "rgba(128, 128, 128, 0.1)",
          "width": 1
         },
         "mode": "lines",
         "text": "1.0",
         "type": "scatter",
         "x": [
          -0.39369798424770713,
          0.40794135944224913
         ],
         "y": [
          0.1564690190913819,
          -0.5939736404506816
         ]
        },
        {
         "hoverinfo": "text",
         "line": {
          "color": "rgba(128, 128, 128, 0.1)",
          "width": 1
         },
         "mode": "lines",
         "text": "0.5",
         "type": "scatter",
         "x": [
          -0.39369798424770713,
          0.42727580252097486
         ],
         "y": [
          0.1564690190913819,
          -0.8147374733359818
         ]
        },
        {
         "hoverinfo": "text",
         "line": {
          "color": "rgba(128, 128, 128, 0.1)",
          "width": 1
         },
         "mode": "lines",
         "text": "0.125",
         "type": "scatter",
         "x": [
          -0.39369798424770713,
          -0.7464498563171527
         ],
         "y": [
          0.1564690190913819,
          -0.15240867563536542
         ]
        },
        {
         "hoverinfo": "text",
         "line": {
          "color": "rgba(128, 128, 128, 0.1)",
          "width": 1
         },
         "mode": "lines",
         "text": "1.0",
         "type": "scatter",
         "x": [
          -0.39369798424770713,
          0.42220986898347856
         ],
         "y": [
          0.1564690190913819,
          0.9443298132713931
         ]
        },
        {
         "hoverinfo": "text",
         "line": {
          "color": "rgba(128, 128, 128, 0.1)",
          "width": 1
         },
         "mode": "lines",
         "text": "1.0",
         "type": "scatter",
         "x": [
          -0.39369798424770713,
          0.7213026942444919
         ],
         "y": [
          0.1564690190913819,
          -0.7028614856381851
         ]
        },
        {
         "hoverinfo": "text",
         "line": {
          "color": "rgba(128, 128, 128, 0.1)",
          "width": 1
         },
         "mode": "lines",
         "text": "0.09090909090909091",
         "type": "scatter",
         "x": [
          -0.39369798424770713,
          0.9131728451074601
         ],
         "y": [
          0.1564690190913819,
          -0.0786216846079524
         ]
        },
        {
         "hoverinfo": "text",
         "line": {
          "color": "rgba(128, 128, 128, 0.1)",
          "width": 1
         },
         "mode": "lines",
         "text": "1.0",
         "type": "scatter",
         "x": [
          -0.39369798424770713,
          -0.02029748952421764
         ],
         "y": [
          0.1564690190913819,
          0.966511761384103
         ]
        },
        {
         "hoverinfo": "text",
         "line": {
          "color": "rgba(128, 128, 128, 0.1)",
          "width": 1
         },
         "mode": "lines",
         "text": "0.1111111111111111",
         "type": "scatter",
         "x": [
          -0.39369798424770713,
          -0.3235081883111062
         ],
         "y": [
          0.1564690190913819,
          -0.08513015582825498
         ]
        },
        {
         "hoverinfo": "text",
         "line": {
          "color": "rgba(128, 128, 128, 0.1)",
          "width": 1
         },
         "mode": "lines",
         "text": "1.0",
         "type": "scatter",
         "x": [
          -0.39369798424770713,
          0.05287296895782892
         ],
         "y": [
          0.1564690190913819,
          -0.09353267533807239
         ]
        },
        {
         "hoverinfo": "text",
         "line": {
          "color": "rgba(128, 128, 128, 0.1)",
          "width": 1
         },
         "mode": "lines",
         "text": "1.0",
         "type": "scatter",
         "x": [
          -0.39369798424770713,
          -0.5645297566213534
         ],
         "y": [
          0.1564690190913819,
          -0.5714605612882918
         ]
        },
        {
         "hoverinfo": "text",
         "line": {
          "color": "rgba(128, 128, 128, 0.1)",
          "width": 1
         },
         "mode": "lines",
         "text": "0.1111111111111111",
         "type": "scatter",
         "x": [
          -0.39369798424770713,
          -0.3131286416509119
         ],
         "y": [
          0.1564690190913819,
          0.597469912312249
         ]
        },
        {
         "hoverinfo": "text",
         "line": {
          "color": "rgba(128, 128, 128, 0.1)",
          "width": 1
         },
         "mode": "lines",
         "text": "1.0",
         "type": "scatter",
         "x": [
          -0.4965138359262507,
          -0.7047942282637657
         ],
         "y": [
          0.5147073335073147,
          0.05639581663858665
         ]
        },
        {
         "hoverinfo": "text",
         "line": {
          "color": "rgba(128, 128, 128, 0.1)",
          "width": 1
         },
         "mode": "lines",
         "text": "0.05555555555555555",
         "type": "scatter",
         "x": [
          -0.4965138359262507,
          0.22697673177044278
         ],
         "y": [
          0.5147073335073147,
          -0.8456600770640139
         ]
        },
        {
         "hoverinfo": "text",
         "line": {
          "color": "rgba(128, 128, 128, 0.1)",
          "width": 1
         },
         "mode": "lines",
         "text": "0.5",
         "type": "scatter",
         "x": [
          -0.4965138359262507,
          0.17107928195038022
         ],
         "y": [
          0.5147073335073147,
          0.7959403993931851
         ]
        },
        {
         "hoverinfo": "text",
         "line": {
          "color": "rgba(128, 128, 128, 0.1)",
          "width": 1
         },
         "mode": "lines",
         "text": "0.25",
         "type": "scatter",
         "x": [
          -0.4965138359262507,
          0.7198791291336225
         ],
         "y": [
          0.5147073335073147,
          -0.3555785138076284
         ]
        },
        {
         "hoverinfo": "text",
         "line": {
          "color": "rgba(128, 128, 128, 0.1)",
          "width": 1
         },
         "mode": "lines",
         "text": "1.0",
         "type": "scatter",
         "x": [
          -0.4965138359262507,
          0.07592479646616518
         ],
         "y": [
          0.5147073335073147,
          0.5489404396993625
         ]
        },
        {
         "hoverinfo": "text",
         "line": {
          "color": "rgba(128, 128, 128, 0.1)",
          "width": 1
         },
         "mode": "lines",
         "text": "1.0",
         "type": "scatter",
         "x": [
          -0.4965138359262507,
          -0.13240271109312432
         ],
         "y": [
          0.5147073335073147,
          -0.36406482848700933
         ]
        },
        {
         "hoverinfo": "text",
         "line": {
          "color": "rgba(128, 128, 128, 0.1)",
          "width": 1
         },
         "mode": "lines",
         "text": "1.0",
         "type": "scatter",
         "x": [
          -0.4965138359262507,
          -1
         ],
         "y": [
          0.5147073335073147,
          0.006663047876623049
         ]
        },
        {
         "hoverinfo": "text",
         "line": {
          "color": "rgba(128, 128, 128, 0.1)",
          "width": 1
         },
         "mode": "lines",
         "text": "1.0",
         "type": "scatter",
         "x": [
          -0.4965138359262507,
          0.40794135944224913
         ],
         "y": [
          0.5147073335073147,
          -0.5939736404506816
         ]
        },
        {
         "hoverinfo": "text",
         "line": {
          "color": "rgba(128, 128, 128, 0.1)",
          "width": 1
         },
         "mode": "lines",
         "text": "0.5",
         "type": "scatter",
         "x": [
          -0.4965138359262507,
          0.42727580252097486
         ],
         "y": [
          0.5147073335073147,
          -0.8147374733359818
         ]
        },
        {
         "hoverinfo": "text",
         "line": {
          "color": "rgba(128, 128, 128, 0.1)",
          "width": 1
         },
         "mode": "lines",
         "text": "0.125",
         "type": "scatter",
         "x": [
          -0.4965138359262507,
          -0.7464498563171527
         ],
         "y": [
          0.5147073335073147,
          -0.15240867563536542
         ]
        },
        {
         "hoverinfo": "text",
         "line": {
          "color": "rgba(128, 128, 128, 0.1)",
          "width": 1
         },
         "mode": "lines",
         "text": "1.0",
         "type": "scatter",
         "x": [
          -0.4965138359262507,
          0.42220986898347856
         ],
         "y": [
          0.5147073335073147,
          0.9443298132713931
         ]
        },
        {
         "hoverinfo": "text",
         "line": {
          "color": "rgba(128, 128, 128, 0.1)",
          "width": 1
         },
         "mode": "lines",
         "text": "1.0",
         "type": "scatter",
         "x": [
          -0.4965138359262507,
          0.7213026942444919
         ],
         "y": [
          0.5147073335073147,
          -0.7028614856381851
         ]
        },
        {
         "hoverinfo": "text",
         "line": {
          "color": "rgba(128, 128, 128, 0.1)",
          "width": 1
         },
         "mode": "lines",
         "text": "0.14285714285714285",
         "type": "scatter",
         "x": [
          -0.4965138359262507,
          0.9131728451074601
         ],
         "y": [
          0.5147073335073147,
          -0.0786216846079524
         ]
        },
        {
         "hoverinfo": "text",
         "line": {
          "color": "rgba(128, 128, 128, 0.1)",
          "width": 1
         },
         "mode": "lines",
         "text": "0.14285714285714285",
         "type": "scatter",
         "x": [
          -0.4965138359262507,
          -0.02029748952421764
         ],
         "y": [
          0.5147073335073147,
          0.966511761384103
         ]
        },
        {
         "hoverinfo": "text",
         "line": {
          "color": "rgba(128, 128, 128, 0.1)",
          "width": 1
         },
         "mode": "lines",
         "text": "0.1111111111111111",
         "type": "scatter",
         "x": [
          -0.4965138359262507,
          -0.3235081883111062
         ],
         "y": [
          0.5147073335073147,
          -0.08513015582825498
         ]
        },
        {
         "hoverinfo": "text",
         "line": {
          "color": "rgba(128, 128, 128, 0.1)",
          "width": 1
         },
         "mode": "lines",
         "text": "1.0",
         "type": "scatter",
         "x": [
          -0.4965138359262507,
          0.05287296895782892
         ],
         "y": [
          0.5147073335073147,
          -0.09353267533807239
         ]
        },
        {
         "hoverinfo": "text",
         "line": {
          "color": "rgba(128, 128, 128, 0.1)",
          "width": 1
         },
         "mode": "lines",
         "text": "1.0",
         "type": "scatter",
         "x": [
          -0.4965138359262507,
          -0.5645297566213534
         ],
         "y": [
          0.5147073335073147,
          -0.5714605612882918
         ]
        },
        {
         "hoverinfo": "text",
         "line": {
          "color": "rgba(128, 128, 128, 0.1)",
          "width": 1
         },
         "mode": "lines",
         "text": "0.1111111111111111",
         "type": "scatter",
         "x": [
          -0.4965138359262507,
          -0.3131286416509119
         ],
         "y": [
          0.5147073335073147,
          0.597469912312249
         ]
        },
        {
         "hoverinfo": "text",
         "line": {
          "color": "rgba(128, 128, 128, 0.1)",
          "width": 1
         },
         "mode": "lines",
         "text": "0.08333333333333333",
         "type": "scatter",
         "x": [
          -0.7047942282637657,
          0.22697673177044278
         ],
         "y": [
          0.05639581663858665,
          -0.8456600770640139
         ]
        },
        {
         "hoverinfo": "text",
         "line": {
          "color": "rgba(128, 128, 128, 0.1)",
          "width": 1
         },
         "mode": "lines",
         "text": "0.5",
         "type": "scatter",
         "x": [
          -0.7047942282637657,
          0.17107928195038022
         ],
         "y": [
          0.05639581663858665,
          0.7959403993931851
         ]
        },
        {
         "hoverinfo": "text",
         "line": {
          "color": "rgba(128, 128, 128, 0.1)",
          "width": 1
         },
         "mode": "lines",
         "text": "0.125",
         "type": "scatter",
         "x": [
          -0.7047942282637657,
          0.7198791291336225
         ],
         "y": [
          0.05639581663858665,
          -0.3555785138076284
         ]
        },
        {
         "hoverinfo": "text",
         "line": {
          "color": "rgba(128, 128, 128, 0.1)",
          "width": 1
         },
         "mode": "lines",
         "text": "1.0",
         "type": "scatter",
         "x": [
          -0.7047942282637657,
          0.07592479646616518
         ],
         "y": [
          0.05639581663858665,
          0.5489404396993625
         ]
        },
        {
         "hoverinfo": "text",
         "line": {
          "color": "rgba(128, 128, 128, 0.1)",
          "width": 1
         },
         "mode": "lines",
         "text": "1.0",
         "type": "scatter",
         "x": [
          -0.7047942282637657,
          -0.13240271109312432
         ],
         "y": [
          0.05639581663858665,
          -0.36406482848700933
         ]
        },
        {
         "hoverinfo": "text",
         "line": {
          "color": "rgba(128, 128, 128, 0.1)",
          "width": 1
         },
         "mode": "lines",
         "text": "1.0",
         "type": "scatter",
         "x": [
          -0.7047942282637657,
          -1
         ],
         "y": [
          0.05639581663858665,
          0.006663047876623049
         ]
        },
        {
         "hoverinfo": "text",
         "line": {
          "color": "rgba(128, 128, 128, 0.1)",
          "width": 1
         },
         "mode": "lines",
         "text": "1.0",
         "type": "scatter",
         "x": [
          -0.7047942282637657,
          0.40794135944224913
         ],
         "y": [
          0.05639581663858665,
          -0.5939736404506816
         ]
        },
        {
         "hoverinfo": "text",
         "line": {
          "color": "rgba(128, 128, 128, 0.1)",
          "width": 1
         },
         "mode": "lines",
         "text": "0.5",
         "type": "scatter",
         "x": [
          -0.7047942282637657,
          0.42727580252097486
         ],
         "y": [
          0.05639581663858665,
          -0.8147374733359818
         ]
        },
        {
         "hoverinfo": "text",
         "line": {
          "color": "rgba(128, 128, 128, 0.1)",
          "width": 1
         },
         "mode": "lines",
         "text": "0.125",
         "type": "scatter",
         "x": [
          -0.7047942282637657,
          -0.7464498563171527
         ],
         "y": [
          0.05639581663858665,
          -0.15240867563536542
         ]
        },
        {
         "hoverinfo": "text",
         "line": {
          "color": "rgba(128, 128, 128, 0.1)",
          "width": 1
         },
         "mode": "lines",
         "text": "1.0",
         "type": "scatter",
         "x": [
          -0.7047942282637657,
          0.42220986898347856
         ],
         "y": [
          0.05639581663858665,
          0.9443298132713931
         ]
        },
        {
         "hoverinfo": "text",
         "line": {
          "color": "rgba(128, 128, 128, 0.1)",
          "width": 1
         },
         "mode": "lines",
         "text": "1.0",
         "type": "scatter",
         "x": [
          -0.7047942282637657,
          0.7213026942444919
         ],
         "y": [
          0.05639581663858665,
          -0.7028614856381851
         ]
        },
        {
         "hoverinfo": "text",
         "line": {
          "color": "rgba(128, 128, 128, 0.1)",
          "width": 1
         },
         "mode": "lines",
         "text": "1.0",
         "type": "scatter",
         "x": [
          -0.7047942282637657,
          0.9131728451074601
         ],
         "y": [
          0.05639581663858665,
          -0.0786216846079524
         ]
        },
        {
         "hoverinfo": "text",
         "line": {
          "color": "rgba(128, 128, 128, 0.1)",
          "width": 1
         },
         "mode": "lines",
         "text": "1.0",
         "type": "scatter",
         "x": [
          -0.7047942282637657,
          -0.02029748952421764
         ],
         "y": [
          0.05639581663858665,
          0.966511761384103
         ]
        },
        {
         "hoverinfo": "text",
         "line": {
          "color": "rgba(128, 128, 128, 0.1)",
          "width": 1
         },
         "mode": "lines",
         "text": "0.1111111111111111",
         "type": "scatter",
         "x": [
          -0.7047942282637657,
          -0.3235081883111062
         ],
         "y": [
          0.05639581663858665,
          -0.08513015582825498
         ]
        },
        {
         "hoverinfo": "text",
         "line": {
          "color": "rgba(128, 128, 128, 0.1)",
          "width": 1
         },
         "mode": "lines",
         "text": "1.0",
         "type": "scatter",
         "x": [
          -0.7047942282637657,
          0.05287296895782892
         ],
         "y": [
          0.05639581663858665,
          -0.09353267533807239
         ]
        },
        {
         "hoverinfo": "text",
         "line": {
          "color": "rgba(128, 128, 128, 0.1)",
          "width": 1
         },
         "mode": "lines",
         "text": "1.0",
         "type": "scatter",
         "x": [
          -0.7047942282637657,
          -0.5645297566213534
         ],
         "y": [
          0.05639581663858665,
          -0.5714605612882918
         ]
        },
        {
         "hoverinfo": "text",
         "line": {
          "color": "rgba(128, 128, 128, 0.1)",
          "width": 1
         },
         "mode": "lines",
         "text": "0.1111111111111111",
         "type": "scatter",
         "x": [
          -0.7047942282637657,
          -0.3131286416509119
         ],
         "y": [
          0.05639581663858665,
          0.597469912312249
         ]
        },
        {
         "hoverinfo": "text",
         "line": {
          "color": "rgba(128, 128, 128, 0.1)",
          "width": 1
         },
         "mode": "lines",
         "text": "0.05263157894736842",
         "type": "scatter",
         "x": [
          0.22697673177044278,
          0.17107928195038022
         ],
         "y": [
          -0.8456600770640139,
          0.7959403993931851
         ]
        },
        {
         "hoverinfo": "text",
         "line": {
          "color": "rgba(128, 128, 128, 0.1)",
          "width": 1
         },
         "mode": "lines",
         "text": "0.07692307692307693",
         "type": "scatter",
         "x": [
          0.22697673177044278,
          0.7198791291336225
         ],
         "y": [
          -0.8456600770640139,
          -0.3555785138076284
         ]
        },
        {
         "hoverinfo": "text",
         "line": {
          "color": "rgba(128, 128, 128, 0.1)",
          "width": 1
         },
         "mode": "lines",
         "text": "0.1",
         "type": "scatter",
         "x": [
          0.22697673177044278,
          0.07592479646616518
         ],
         "y": [
          -0.8456600770640139,
          0.5489404396993625
         ]
        },
        {
         "hoverinfo": "text",
         "line": {
          "color": "rgba(128, 128, 128, 0.1)",
          "width": 1
         },
         "mode": "lines",
         "text": "0.0625",
         "type": "scatter",
         "x": [
          0.22697673177044278,
          -0.13240271109312432
         ],
         "y": [
          -0.8456600770640139,
          -0.36406482848700933
         ]
        },
        {
         "hoverinfo": "text",
         "line": {
          "color": "rgba(128, 128, 128, 0.1)",
          "width": 1
         },
         "mode": "lines",
         "text": "0.08333333333333333",
         "type": "scatter",
         "x": [
          0.22697673177044278,
          -1
         ],
         "y": [
          -0.8456600770640139,
          0.006663047876623049
         ]
        },
        {
         "hoverinfo": "text",
         "line": {
          "color": "rgba(128, 128, 128, 0.1)",
          "width": 1
         },
         "mode": "lines",
         "text": "0.08333333333333333",
         "type": "scatter",
         "x": [
          0.22697673177044278,
          0.40794135944224913
         ],
         "y": [
          -0.8456600770640139,
          -0.5939736404506816
         ]
        },
        {
         "hoverinfo": "text",
         "line": {
          "color": "rgba(128, 128, 128, 0.1)",
          "width": 1
         },
         "mode": "lines",
         "text": "0.09090909090909091",
         "type": "scatter",
         "x": [
          0.22697673177044278,
          0.42727580252097486
         ],
         "y": [
          -0.8456600770640139,
          -0.8147374733359818
         ]
        },
        {
         "hoverinfo": "text",
         "line": {
          "color": "rgba(128, 128, 128, 0.1)",
          "width": 1
         },
         "mode": "lines",
         "text": "0.058823529411764705",
         "type": "scatter",
         "x": [
          0.22697673177044278,
          -0.7464498563171527
         ],
         "y": [
          -0.8456600770640139,
          -0.15240867563536542
         ]
        },
        {
         "hoverinfo": "text",
         "line": {
          "color": "rgba(128, 128, 128, 0.1)",
          "width": 1
         },
         "mode": "lines",
         "text": "0.08333333333333333",
         "type": "scatter",
         "x": [
          0.22697673177044278,
          0.42220986898347856
         ],
         "y": [
          -0.8456600770640139,
          0.9443298132713931
         ]
        },
        {
         "hoverinfo": "text",
         "line": {
          "color": "rgba(128, 128, 128, 0.1)",
          "width": 1
         },
         "mode": "lines",
         "text": "0.1",
         "type": "scatter",
         "x": [
          0.22697673177044278,
          0.7213026942444919
         ],
         "y": [
          -0.8456600770640139,
          -0.7028614856381851
         ]
        },
        {
         "hoverinfo": "text",
         "line": {
          "color": "rgba(128, 128, 128, 0.1)",
          "width": 1
         },
         "mode": "lines",
         "text": "0.1",
         "type": "scatter",
         "x": [
          0.22697673177044278,
          0.9131728451074601
         ],
         "y": [
          -0.8456600770640139,
          -0.0786216846079524
         ]
        },
        {
         "hoverinfo": "text",
         "line": {
          "color": "rgba(128, 128, 128, 0.1)",
          "width": 1
         },
         "mode": "lines",
         "text": "0.1",
         "type": "scatter",
         "x": [
          0.22697673177044278,
          -0.02029748952421764
         ],
         "y": [
          -0.8456600770640139,
          0.966511761384103
         ]
        },
        {
         "hoverinfo": "text",
         "line": {
          "color": "rgba(128, 128, 128, 0.1)",
          "width": 1
         },
         "mode": "lines",
         "text": "0.05555555555555555",
         "type": "scatter",
         "x": [
          0.22697673177044278,
          -0.3235081883111062
         ],
         "y": [
          -0.8456600770640139,
          -0.08513015582825498
         ]
        },
        {
         "hoverinfo": "text",
         "line": {
          "color": "rgba(128, 128, 128, 0.1)",
          "width": 1
         },
         "mode": "lines",
         "text": "0.1",
         "type": "scatter",
         "x": [
          0.22697673177044278,
          0.05287296895782892
         ],
         "y": [
          -0.8456600770640139,
          -0.09353267533807239
         ]
        },
        {
         "hoverinfo": "text",
         "line": {
          "color": "rgba(128, 128, 128, 0.1)",
          "width": 1
         },
         "mode": "lines",
         "text": "0.0625",
         "type": "scatter",
         "x": [
          0.22697673177044278,
          -0.5645297566213534
         ],
         "y": [
          -0.8456600770640139,
          -0.5714605612882918
         ]
        },
        {
         "hoverinfo": "text",
         "line": {
          "color": "rgba(128, 128, 128, 0.1)",
          "width": 1
         },
         "mode": "lines",
         "text": "0.05555555555555555",
         "type": "scatter",
         "x": [
          0.22697673177044278,
          -0.3131286416509119
         ],
         "y": [
          -0.8456600770640139,
          0.597469912312249
         ]
        },
        {
         "hoverinfo": "text",
         "line": {
          "color": "rgba(128, 128, 128, 0.1)",
          "width": 1
         },
         "mode": "lines",
         "text": "0.1111111111111111",
         "type": "scatter",
         "x": [
          0.17107928195038022,
          0.7198791291336225
         ],
         "y": [
          0.7959403993931851,
          -0.3555785138076284
         ]
        },
        {
         "hoverinfo": "text",
         "line": {
          "color": "rgba(128, 128, 128, 0.1)",
          "width": 1
         },
         "mode": "lines",
         "text": "0.5",
         "type": "scatter",
         "x": [
          0.17107928195038022,
          0.07592479646616518
         ],
         "y": [
          0.7959403993931851,
          0.5489404396993625
         ]
        },
        {
         "hoverinfo": "text",
         "line": {
          "color": "rgba(128, 128, 128, 0.1)",
          "width": 1
         },
         "mode": "lines",
         "text": "0.1",
         "type": "scatter",
         "x": [
          0.17107928195038022,
          -0.13240271109312432
         ],
         "y": [
          0.7959403993931851,
          -0.36406482848700933
         ]
        },
        {
         "hoverinfo": "text",
         "line": {
          "color": "rgba(128, 128, 128, 0.1)",
          "width": 1
         },
         "mode": "lines",
         "text": "0.5",
         "type": "scatter",
         "x": [
          0.17107928195038022,
          -1
         ],
         "y": [
          0.7959403993931851,
          0.006663047876623049
         ]
        },
        {
         "hoverinfo": "text",
         "line": {
          "color": "rgba(128, 128, 128, 0.1)",
          "width": 1
         },
         "mode": "lines",
         "text": "0.5",
         "type": "scatter",
         "x": [
          0.17107928195038022,
          0.40794135944224913
         ],
         "y": [
          0.7959403993931851,
          -0.5939736404506816
         ]
        },
        {
         "hoverinfo": "text",
         "line": {
          "color": "rgba(128, 128, 128, 0.1)",
          "width": 1
         },
         "mode": "lines",
         "text": "0.3333333333333333",
         "type": "scatter",
         "x": [
          0.17107928195038022,
          0.42727580252097486
         ],
         "y": [
          0.7959403993931851,
          -0.8147374733359818
         ]
        },
        {
         "hoverinfo": "text",
         "line": {
          "color": "rgba(128, 128, 128, 0.1)",
          "width": 1
         },
         "mode": "lines",
         "text": "0.1111111111111111",
         "type": "scatter",
         "x": [
          0.17107928195038022,
          -0.7464498563171527
         ],
         "y": [
          0.7959403993931851,
          -0.15240867563536542
         ]
        },
        {
         "hoverinfo": "text",
         "line": {
          "color": "rgba(128, 128, 128, 0.1)",
          "width": 1
         },
         "mode": "lines",
         "text": "0.5",
         "type": "scatter",
         "x": [
          0.17107928195038022,
          0.42220986898347856
         ],
         "y": [
          0.7959403993931851,
          0.9443298132713931
         ]
        },
        {
         "hoverinfo": "text",
         "line": {
          "color": "rgba(128, 128, 128, 0.1)",
          "width": 1
         },
         "mode": "lines",
         "text": "0.5",
         "type": "scatter",
         "x": [
          0.17107928195038022,
          0.7213026942444919
         ],
         "y": [
          0.7959403993931851,
          -0.7028614856381851
         ]
        },
        {
         "hoverinfo": "text",
         "line": {
          "color": "rgba(128, 128, 128, 0.1)",
          "width": 1
         },
         "mode": "lines",
         "text": "0.1",
         "type": "scatter",
         "x": [
          0.17107928195038022,
          0.9131728451074601
         ],
         "y": [
          0.7959403993931851,
          -0.0786216846079524
         ]
        },
        {
         "hoverinfo": "text",
         "line": {
          "color": "rgba(128, 128, 128, 0.1)",
          "width": 1
         },
         "mode": "lines",
         "text": "0.16666666666666666",
         "type": "scatter",
         "x": [
          0.17107928195038022,
          -0.02029748952421764
         ],
         "y": [
          0.7959403993931851,
          0.966511761384103
         ]
        },
        {
         "hoverinfo": "text",
         "line": {
          "color": "rgba(128, 128, 128, 0.1)",
          "width": 1
         },
         "mode": "lines",
         "text": "0.1",
         "type": "scatter",
         "x": [
          0.17107928195038022,
          -0.3235081883111062
         ],
         "y": [
          0.7959403993931851,
          -0.08513015582825498
         ]
        },
        {
         "hoverinfo": "text",
         "line": {
          "color": "rgba(128, 128, 128, 0.1)",
          "width": 1
         },
         "mode": "lines",
         "text": "0.5",
         "type": "scatter",
         "x": [
          0.17107928195038022,
          0.05287296895782892
         ],
         "y": [
          0.7959403993931851,
          -0.09353267533807239
         ]
        },
        {
         "hoverinfo": "text",
         "line": {
          "color": "rgba(128, 128, 128, 0.1)",
          "width": 1
         },
         "mode": "lines",
         "text": "0.16666666666666666",
         "type": "scatter",
         "x": [
          0.17107928195038022,
          -0.5645297566213534
         ],
         "y": [
          0.7959403993931851,
          -0.5714605612882918
         ]
        },
        {
         "hoverinfo": "text",
         "line": {
          "color": "rgba(128, 128, 128, 0.1)",
          "width": 1
         },
         "mode": "lines",
         "text": "0.1",
         "type": "scatter",
         "x": [
          0.17107928195038022,
          -0.3131286416509119
         ],
         "y": [
          0.7959403993931851,
          0.597469912312249
         ]
        },
        {
         "hoverinfo": "text",
         "line": {
          "color": "rgba(128, 128, 128, 0.1)",
          "width": 1
         },
         "mode": "lines",
         "text": "0.125",
         "type": "scatter",
         "x": [
          0.7198791291336225,
          0.07592479646616518
         ],
         "y": [
          -0.3555785138076284,
          0.5489404396993625
         ]
        },
        {
         "hoverinfo": "text",
         "line": {
          "color": "rgba(128, 128, 128, 0.1)",
          "width": 1
         },
         "mode": "lines",
         "text": "0.25",
         "type": "scatter",
         "x": [
          0.7198791291336225,
          -0.13240271109312432
         ],
         "y": [
          -0.3555785138076284,
          -0.36406482848700933
         ]
        },
        {
         "hoverinfo": "text",
         "line": {
          "color": "rgba(128, 128, 128, 0.1)",
          "width": 1
         },
         "mode": "lines",
         "text": "0.125",
         "type": "scatter",
         "x": [
          0.7198791291336225,
          -1
         ],
         "y": [
          -0.3555785138076284,
          0.006663047876623049
         ]
        },
        {
         "hoverinfo": "text",
         "line": {
          "color": "rgba(128, 128, 128, 0.1)",
          "width": 1
         },
         "mode": "lines",
         "text": "0.125",
         "type": "scatter",
         "x": [
          0.7198791291336225,
          0.40794135944224913
         ],
         "y": [
          -0.3555785138076284,
          -0.5939736404506816
         ]
        },
        {
         "hoverinfo": "text",
         "line": {
          "color": "rgba(128, 128, 128, 0.1)",
          "width": 1
         },
         "mode": "lines",
         "text": "0.1111111111111111",
         "type": "scatter",
         "x": [
          0.7198791291336225,
          0.42727580252097486
         ],
         "y": [
          -0.3555785138076284,
          -0.8147374733359818
         ]
        },
        {
         "hoverinfo": "text",
         "line": {
          "color": "rgba(128, 128, 128, 0.1)",
          "width": 1
         },
         "mode": "lines",
         "text": "0.2",
         "type": "scatter",
         "x": [
          0.7198791291336225,
          -0.7464498563171527
         ],
         "y": [
          -0.3555785138076284,
          -0.15240867563536542
         ]
        },
        {
         "hoverinfo": "text",
         "line": {
          "color": "rgba(128, 128, 128, 0.1)",
          "width": 1
         },
         "mode": "lines",
         "text": "0.125",
         "type": "scatter",
         "x": [
          0.7198791291336225,
          0.42220986898347856
         ],
         "y": [
          -0.3555785138076284,
          0.9443298132713931
         ]
        },
        {
         "hoverinfo": "text",
         "line": {
          "color": "rgba(128, 128, 128, 0.1)",
          "width": 1
         },
         "mode": "lines",
         "text": "0.25",
         "type": "scatter",
         "x": [
          0.7198791291336225,
          0.7213026942444919
         ],
         "y": [
          -0.3555785138076284,
          -0.7028614856381851
         ]
        },
        {
         "hoverinfo": "text",
         "line": {
          "color": "rgba(128, 128, 128, 0.1)",
          "width": 1
         },
         "mode": "lines",
         "text": "0.25",
         "type": "scatter",
         "x": [
          0.7198791291336225,
          0.9131728451074601
         ],
         "y": [
          -0.3555785138076284,
          -0.0786216846079524
         ]
        },
        {
         "hoverinfo": "text",
         "line": {
          "color": "rgba(128, 128, 128, 0.1)",
          "width": 1
         },
         "mode": "lines",
         "text": "0.125",
         "type": "scatter",
         "x": [
          0.7198791291336225,
          -0.02029748952421764
         ],
         "y": [
          -0.3555785138076284,
          0.966511761384103
         ]
        },
        {
         "hoverinfo": "text",
         "line": {
          "color": "rgba(128, 128, 128, 0.1)",
          "width": 1
         },
         "mode": "lines",
         "text": "0.16666666666666666",
         "type": "scatter",
         "x": [
          0.7198791291336225,
          -0.3235081883111062
         ],
         "y": [
          -0.3555785138076284,
          -0.08513015582825498
         ]
        },
        {
         "hoverinfo": "text",
         "line": {
          "color": "rgba(128, 128, 128, 0.1)",
          "width": 1
         },
         "mode": "lines",
         "text": "0.125",
         "type": "scatter",
         "x": [
          0.7198791291336225,
          0.05287296895782892
         ],
         "y": [
          -0.3555785138076284,
          -0.09353267533807239
         ]
        },
        {
         "hoverinfo": "text",
         "line": {
          "color": "rgba(128, 128, 128, 0.1)",
          "width": 1
         },
         "mode": "lines",
         "text": "0.125",
         "type": "scatter",
         "x": [
          0.7198791291336225,
          -0.5645297566213534
         ],
         "y": [
          -0.3555785138076284,
          -0.5714605612882918
         ]
        },
        {
         "hoverinfo": "text",
         "line": {
          "color": "rgba(128, 128, 128, 0.1)",
          "width": 1
         },
         "mode": "lines",
         "text": "0.16666666666666666",
         "type": "scatter",
         "x": [
          0.7198791291336225,
          -0.3131286416509119
         ],
         "y": [
          -0.3555785138076284,
          0.597469912312249
         ]
        },
        {
         "hoverinfo": "text",
         "line": {
          "color": "rgba(128, 128, 128, 0.1)",
          "width": 1
         },
         "mode": "lines",
         "text": "1.0",
         "type": "scatter",
         "x": [
          0.07592479646616518,
          -0.13240271109312432
         ],
         "y": [
          0.5489404396993625,
          -0.36406482848700933
         ]
        },
        {
         "hoverinfo": "text",
         "line": {
          "color": "rgba(128, 128, 128, 0.1)",
          "width": 1
         },
         "mode": "lines",
         "text": "1.0",
         "type": "scatter",
         "x": [
          0.07592479646616518,
          -1
         ],
         "y": [
          0.5489404396993625,
          0.006663047876623049
         ]
        },
        {
         "hoverinfo": "text",
         "line": {
          "color": "rgba(128, 128, 128, 0.1)",
          "width": 1
         },
         "mode": "lines",
         "text": "1.0",
         "type": "scatter",
         "x": [
          0.07592479646616518,
          0.40794135944224913
         ],
         "y": [
          0.5489404396993625,
          -0.5939736404506816
         ]
        },
        {
         "hoverinfo": "text",
         "line": {
          "color": "rgba(128, 128, 128, 0.1)",
          "width": 1
         },
         "mode": "lines",
         "text": "0.5",
         "type": "scatter",
         "x": [
          0.07592479646616518,
          0.42727580252097486
         ],
         "y": [
          0.5489404396993625,
          -0.8147374733359818
         ]
        },
        {
         "hoverinfo": "text",
         "line": {
          "color": "rgba(128, 128, 128, 0.1)",
          "width": 1
         },
         "mode": "lines",
         "text": "0.125",
         "type": "scatter",
         "x": [
          0.07592479646616518,
          -0.7464498563171527
         ],
         "y": [
          0.5489404396993625,
          -0.15240867563536542
         ]
        },
        {
         "hoverinfo": "text",
         "line": {
          "color": "rgba(128, 128, 128, 0.1)",
          "width": 1
         },
         "mode": "lines",
         "text": "1.0",
         "type": "scatter",
         "x": [
          0.07592479646616518,
          0.42220986898347856
         ],
         "y": [
          0.5489404396993625,
          0.9443298132713931
         ]
        },
        {
         "hoverinfo": "text",
         "line": {
          "color": "rgba(128, 128, 128, 0.1)",
          "width": 1
         },
         "mode": "lines",
         "text": "1.0",
         "type": "scatter",
         "x": [
          0.07592479646616518,
          0.7213026942444919
         ],
         "y": [
          0.5489404396993625,
          -0.7028614856381851
         ]
        },
        {
         "hoverinfo": "text",
         "line": {
          "color": "rgba(128, 128, 128, 0.1)",
          "width": 1
         },
         "mode": "lines",
         "text": "1.0",
         "type": "scatter",
         "x": [
          0.07592479646616518,
          0.9131728451074601
         ],
         "y": [
          0.5489404396993625,
          -0.0786216846079524
         ]
        },
        {
         "hoverinfo": "text",
         "line": {
          "color": "rgba(128, 128, 128, 0.1)",
          "width": 1
         },
         "mode": "lines",
         "text": "1.0",
         "type": "scatter",
         "x": [
          0.07592479646616518,
          -0.02029748952421764
         ],
         "y": [
          0.5489404396993625,
          0.966511761384103
         ]
        },
        {
         "hoverinfo": "text",
         "line": {
          "color": "rgba(128, 128, 128, 0.1)",
          "width": 1
         },
         "mode": "lines",
         "text": "0.1111111111111111",
         "type": "scatter",
         "x": [
          0.07592479646616518,
          -0.3235081883111062
         ],
         "y": [
          0.5489404396993625,
          -0.08513015582825498
         ]
        },
        {
         "hoverinfo": "text",
         "line": {
          "color": "rgba(128, 128, 128, 0.1)",
          "width": 1
         },
         "mode": "lines",
         "text": "1.0",
         "type": "scatter",
         "x": [
          0.07592479646616518,
          0.05287296895782892
         ],
         "y": [
          0.5489404396993625,
          -0.09353267533807239
         ]
        },
        {
         "hoverinfo": "text",
         "line": {
          "color": "rgba(128, 128, 128, 0.1)",
          "width": 1
         },
         "mode": "lines",
         "text": "1.0",
         "type": "scatter",
         "x": [
          0.07592479646616518,
          -0.5645297566213534
         ],
         "y": [
          0.5489404396993625,
          -0.5714605612882918
         ]
        },
        {
         "hoverinfo": "text",
         "line": {
          "color": "rgba(128, 128, 128, 0.1)",
          "width": 1
         },
         "mode": "lines",
         "text": "0.1111111111111111",
         "type": "scatter",
         "x": [
          0.07592479646616518,
          -0.3131286416509119
         ],
         "y": [
          0.5489404396993625,
          0.597469912312249
         ]
        },
        {
         "hoverinfo": "text",
         "line": {
          "color": "rgba(128, 128, 128, 0.1)",
          "width": 1
         },
         "mode": "lines",
         "text": "1.0",
         "type": "scatter",
         "x": [
          -0.13240271109312432,
          -1
         ],
         "y": [
          -0.36406482848700933,
          0.006663047876623049
         ]
        },
        {
         "hoverinfo": "text",
         "line": {
          "color": "rgba(128, 128, 128, 0.1)",
          "width": 1
         },
         "mode": "lines",
         "text": "1.0",
         "type": "scatter",
         "x": [
          -0.13240271109312432,
          0.40794135944224913
         ],
         "y": [
          -0.36406482848700933,
          -0.5939736404506816
         ]
        },
        {
         "hoverinfo": "text",
         "line": {
          "color": "rgba(128, 128, 128, 0.1)",
          "width": 1
         },
         "mode": "lines",
         "text": "0.5",
         "type": "scatter",
         "x": [
          -0.13240271109312432,
          0.42727580252097486
         ],
         "y": [
          -0.36406482848700933,
          -0.8147374733359818
         ]
        },
        {
         "hoverinfo": "text",
         "line": {
          "color": "rgba(128, 128, 128, 0.1)",
          "width": 1
         },
         "mode": "lines",
         "text": "0.125",
         "type": "scatter",
         "x": [
          -0.13240271109312432,
          -0.7464498563171527
         ],
         "y": [
          -0.36406482848700933,
          -0.15240867563536542
         ]
        },
        {
         "hoverinfo": "text",
         "line": {
          "color": "rgba(128, 128, 128, 0.1)",
          "width": 1
         },
         "mode": "lines",
         "text": "1.0",
         "type": "scatter",
         "x": [
          -0.13240271109312432,
          0.42220986898347856
         ],
         "y": [
          -0.36406482848700933,
          0.9443298132713931
         ]
        },
        {
         "hoverinfo": "text",
         "line": {
          "color": "rgba(128, 128, 128, 0.1)",
          "width": 1
         },
         "mode": "lines",
         "text": "1.0",
         "type": "scatter",
         "x": [
          -0.13240271109312432,
          0.7213026942444919
         ],
         "y": [
          -0.36406482848700933,
          -0.7028614856381851
         ]
        },
        {
         "hoverinfo": "text",
         "line": {
          "color": "rgba(128, 128, 128, 0.1)",
          "width": 1
         },
         "mode": "lines",
         "text": "1.0",
         "type": "scatter",
         "x": [
          -0.13240271109312432,
          0.9131728451074601
         ],
         "y": [
          -0.36406482848700933,
          -0.0786216846079524
         ]
        },
        {
         "hoverinfo": "text",
         "line": {
          "color": "rgba(128, 128, 128, 0.1)",
          "width": 1
         },
         "mode": "lines",
         "text": "1.0",
         "type": "scatter",
         "x": [
          -0.13240271109312432,
          -0.02029748952421764
         ],
         "y": [
          -0.36406482848700933,
          0.966511761384103
         ]
        },
        {
         "hoverinfo": "text",
         "line": {
          "color": "rgba(128, 128, 128, 0.1)",
          "width": 1
         },
         "mode": "lines",
         "text": "0.1111111111111111",
         "type": "scatter",
         "x": [
          -0.13240271109312432,
          -0.3235081883111062
         ],
         "y": [
          -0.36406482848700933,
          -0.08513015582825498
         ]
        },
        {
         "hoverinfo": "text",
         "line": {
          "color": "rgba(128, 128, 128, 0.1)",
          "width": 1
         },
         "mode": "lines",
         "text": "1.0",
         "type": "scatter",
         "x": [
          -0.13240271109312432,
          0.05287296895782892
         ],
         "y": [
          -0.36406482848700933,
          -0.09353267533807239
         ]
        },
        {
         "hoverinfo": "text",
         "line": {
          "color": "rgba(128, 128, 128, 0.1)",
          "width": 1
         },
         "mode": "lines",
         "text": "1.0",
         "type": "scatter",
         "x": [
          -0.13240271109312432,
          -0.5645297566213534
         ],
         "y": [
          -0.36406482848700933,
          -0.5714605612882918
         ]
        },
        {
         "hoverinfo": "text",
         "line": {
          "color": "rgba(128, 128, 128, 0.1)",
          "width": 1
         },
         "mode": "lines",
         "text": "0.1111111111111111",
         "type": "scatter",
         "x": [
          -0.13240271109312432,
          -0.3131286416509119
         ],
         "y": [
          -0.36406482848700933,
          0.597469912312249
         ]
        },
        {
         "hoverinfo": "text",
         "line": {
          "color": "rgba(128, 128, 128, 0.1)",
          "width": 1
         },
         "mode": "lines",
         "text": "1.0",
         "type": "scatter",
         "x": [
          -1,
          0.40794135944224913
         ],
         "y": [
          0.006663047876623049,
          -0.5939736404506816
         ]
        },
        {
         "hoverinfo": "text",
         "line": {
          "color": "rgba(128, 128, 128, 0.1)",
          "width": 1
         },
         "mode": "lines",
         "text": "0.5",
         "type": "scatter",
         "x": [
          -1,
          0.42727580252097486
         ],
         "y": [
          0.006663047876623049,
          -0.8147374733359818
         ]
        },
        {
         "hoverinfo": "text",
         "line": {
          "color": "rgba(128, 128, 128, 0.1)",
          "width": 1
         },
         "mode": "lines",
         "text": "0.125",
         "type": "scatter",
         "x": [
          -1,
          -0.7464498563171527
         ],
         "y": [
          0.006663047876623049,
          -0.15240867563536542
         ]
        },
        {
         "hoverinfo": "text",
         "line": {
          "color": "rgba(128, 128, 128, 0.1)",
          "width": 1
         },
         "mode": "lines",
         "text": "1.0",
         "type": "scatter",
         "x": [
          -1,
          0.42220986898347856
         ],
         "y": [
          0.006663047876623049,
          0.9443298132713931
         ]
        },
        {
         "hoverinfo": "text",
         "line": {
          "color": "rgba(128, 128, 128, 0.1)",
          "width": 1
         },
         "mode": "lines",
         "text": "1.0",
         "type": "scatter",
         "x": [
          -1,
          0.7213026942444919
         ],
         "y": [
          0.006663047876623049,
          -0.7028614856381851
         ]
        },
        {
         "hoverinfo": "text",
         "line": {
          "color": "rgba(128, 128, 128, 0.1)",
          "width": 1
         },
         "mode": "lines",
         "text": "1.0",
         "type": "scatter",
         "x": [
          -1,
          0.9131728451074601
         ],
         "y": [
          0.006663047876623049,
          -0.0786216846079524
         ]
        },
        {
         "hoverinfo": "text",
         "line": {
          "color": "rgba(128, 128, 128, 0.1)",
          "width": 1
         },
         "mode": "lines",
         "text": "1.0",
         "type": "scatter",
         "x": [
          -1,
          -0.02029748952421764
         ],
         "y": [
          0.006663047876623049,
          0.966511761384103
         ]
        },
        {
         "hoverinfo": "text",
         "line": {
          "color": "rgba(128, 128, 128, 0.1)",
          "width": 1
         },
         "mode": "lines",
         "text": "0.1111111111111111",
         "type": "scatter",
         "x": [
          -1,
          -0.3235081883111062
         ],
         "y": [
          0.006663047876623049,
          -0.08513015582825498
         ]
        },
        {
         "hoverinfo": "text",
         "line": {
          "color": "rgba(128, 128, 128, 0.1)",
          "width": 1
         },
         "mode": "lines",
         "text": "1.0",
         "type": "scatter",
         "x": [
          -1,
          0.05287296895782892
         ],
         "y": [
          0.006663047876623049,
          -0.09353267533807239
         ]
        },
        {
         "hoverinfo": "text",
         "line": {
          "color": "rgba(128, 128, 128, 0.1)",
          "width": 1
         },
         "mode": "lines",
         "text": "1.0",
         "type": "scatter",
         "x": [
          -1,
          -0.5645297566213534
         ],
         "y": [
          0.006663047876623049,
          -0.5714605612882918
         ]
        },
        {
         "hoverinfo": "text",
         "line": {
          "color": "rgba(128, 128, 128, 0.1)",
          "width": 1
         },
         "mode": "lines",
         "text": "0.1111111111111111",
         "type": "scatter",
         "x": [
          -1,
          -0.3131286416509119
         ],
         "y": [
          0.006663047876623049,
          0.597469912312249
         ]
        },
        {
         "hoverinfo": "text",
         "line": {
          "color": "rgba(128, 128, 128, 0.1)",
          "width": 1
         },
         "mode": "lines",
         "text": "0.5",
         "type": "scatter",
         "x": [
          0.40794135944224913,
          0.42727580252097486
         ],
         "y": [
          -0.5939736404506816,
          -0.8147374733359818
         ]
        },
        {
         "hoverinfo": "text",
         "line": {
          "color": "rgba(128, 128, 128, 0.1)",
          "width": 1
         },
         "mode": "lines",
         "text": "0.125",
         "type": "scatter",
         "x": [
          0.40794135944224913,
          -0.7464498563171527
         ],
         "y": [
          -0.5939736404506816,
          -0.15240867563536542
         ]
        },
        {
         "hoverinfo": "text",
         "line": {
          "color": "rgba(128, 128, 128, 0.1)",
          "width": 1
         },
         "mode": "lines",
         "text": "1.0",
         "type": "scatter",
         "x": [
          0.40794135944224913,
          0.42220986898347856
         ],
         "y": [
          -0.5939736404506816,
          0.9443298132713931
         ]
        },
        {
         "hoverinfo": "text",
         "line": {
          "color": "rgba(128, 128, 128, 0.1)",
          "width": 1
         },
         "mode": "lines",
         "text": "1.0",
         "type": "scatter",
         "x": [
          0.40794135944224913,
          0.7213026942444919
         ],
         "y": [
          -0.5939736404506816,
          -0.7028614856381851
         ]
        },
        {
         "hoverinfo": "text",
         "line": {
          "color": "rgba(128, 128, 128, 0.1)",
          "width": 1
         },
         "mode": "lines",
         "text": "0.1111111111111111",
         "type": "scatter",
         "x": [
          0.40794135944224913,
          0.9131728451074601
         ],
         "y": [
          -0.5939736404506816,
          -0.0786216846079524
         ]
        },
        {
         "hoverinfo": "text",
         "line": {
          "color": "rgba(128, 128, 128, 0.1)",
          "width": 1
         },
         "mode": "lines",
         "text": "1.0",
         "type": "scatter",
         "x": [
          0.40794135944224913,
          -0.02029748952421764
         ],
         "y": [
          -0.5939736404506816,
          0.966511761384103
         ]
        },
        {
         "hoverinfo": "text",
         "line": {
          "color": "rgba(128, 128, 128, 0.1)",
          "width": 1
         },
         "mode": "lines",
         "text": "0.1111111111111111",
         "type": "scatter",
         "x": [
          0.40794135944224913,
          -0.3235081883111062
         ],
         "y": [
          -0.5939736404506816,
          -0.08513015582825498
         ]
        },
        {
         "hoverinfo": "text",
         "line": {
          "color": "rgba(128, 128, 128, 0.1)",
          "width": 1
         },
         "mode": "lines",
         "text": "1.0",
         "type": "scatter",
         "x": [
          0.40794135944224913,
          0.05287296895782892
         ],
         "y": [
          -0.5939736404506816,
          -0.09353267533807239
         ]
        },
        {
         "hoverinfo": "text",
         "line": {
          "color": "rgba(128, 128, 128, 0.1)",
          "width": 1
         },
         "mode": "lines",
         "text": "1.0",
         "type": "scatter",
         "x": [
          0.40794135944224913,
          -0.5645297566213534
         ],
         "y": [
          -0.5939736404506816,
          -0.5714605612882918
         ]
        },
        {
         "hoverinfo": "text",
         "line": {
          "color": "rgba(128, 128, 128, 0.1)",
          "width": 1
         },
         "mode": "lines",
         "text": "0.1111111111111111",
         "type": "scatter",
         "x": [
          0.40794135944224913,
          -0.3131286416509119
         ],
         "y": [
          -0.5939736404506816,
          0.597469912312249
         ]
        },
        {
         "hoverinfo": "text",
         "line": {
          "color": "rgba(128, 128, 128, 0.1)",
          "width": 1
         },
         "mode": "lines",
         "text": "0.14285714285714285",
         "type": "scatter",
         "x": [
          0.42727580252097486,
          -0.7464498563171527
         ],
         "y": [
          -0.8147374733359818,
          -0.15240867563536542
         ]
        },
        {
         "hoverinfo": "text",
         "line": {
          "color": "rgba(128, 128, 128, 0.1)",
          "width": 1
         },
         "mode": "lines",
         "text": "0.5",
         "type": "scatter",
         "x": [
          0.42727580252097486,
          0.42220986898347856
         ],
         "y": [
          -0.8147374733359818,
          0.9443298132713931
         ]
        },
        {
         "hoverinfo": "text",
         "line": {
          "color": "rgba(128, 128, 128, 0.1)",
          "width": 1
         },
         "mode": "lines",
         "text": "0.5",
         "type": "scatter",
         "x": [
          0.42727580252097486,
          0.7213026942444919
         ],
         "y": [
          -0.8147374733359818,
          -0.7028614856381851
         ]
        },
        {
         "hoverinfo": "text",
         "line": {
          "color": "rgba(128, 128, 128, 0.1)",
          "width": 1
         },
         "mode": "lines",
         "text": "0.1",
         "type": "scatter",
         "x": [
          0.42727580252097486,
          0.9131728451074601
         ],
         "y": [
          -0.8147374733359818,
          -0.0786216846079524
         ]
        },
        {
         "hoverinfo": "text",
         "line": {
          "color": "rgba(128, 128, 128, 0.1)",
          "width": 1
         },
         "mode": "lines",
         "text": "0.5",
         "type": "scatter",
         "x": [
          0.42727580252097486,
          -0.02029748952421764
         ],
         "y": [
          -0.8147374733359818,
          0.966511761384103
         ]
        },
        {
         "hoverinfo": "text",
         "line": {
          "color": "rgba(128, 128, 128, 0.1)",
          "width": 1
         },
         "mode": "lines",
         "text": "0.125",
         "type": "scatter",
         "x": [
          0.42727580252097486,
          -0.3235081883111062
         ],
         "y": [
          -0.8147374733359818,
          -0.08513015582825498
         ]
        },
        {
         "hoverinfo": "text",
         "line": {
          "color": "rgba(128, 128, 128, 0.1)",
          "width": 1
         },
         "mode": "lines",
         "text": "0.5",
         "type": "scatter",
         "x": [
          0.42727580252097486,
          0.05287296895782892
         ],
         "y": [
          -0.8147374733359818,
          -0.09353267533807239
         ]
        },
        {
         "hoverinfo": "text",
         "line": {
          "color": "rgba(128, 128, 128, 0.1)",
          "width": 1
         },
         "mode": "lines",
         "text": "0.5",
         "type": "scatter",
         "x": [
          0.42727580252097486,
          -0.5645297566213534
         ],
         "y": [
          -0.8147374733359818,
          -0.5714605612882918
         ]
        },
        {
         "hoverinfo": "text",
         "line": {
          "color": "rgba(128, 128, 128, 0.1)",
          "width": 1
         },
         "mode": "lines",
         "text": "0.125",
         "type": "scatter",
         "x": [
          0.42727580252097486,
          -0.3131286416509119
         ],
         "y": [
          -0.8147374733359818,
          0.597469912312249
         ]
        },
        {
         "hoverinfo": "text",
         "line": {
          "color": "rgba(128, 128, 128, 0.1)",
          "width": 1
         },
         "mode": "lines",
         "text": "0.125",
         "type": "scatter",
         "x": [
          -0.7464498563171527,
          0.42220986898347856
         ],
         "y": [
          -0.15240867563536542,
          0.9443298132713931
         ]
        },
        {
         "hoverinfo": "text",
         "line": {
          "color": "rgba(128, 128, 128, 0.1)",
          "width": 1
         },
         "mode": "lines",
         "text": "0.125",
         "type": "scatter",
         "x": [
          -0.7464498563171527,
          0.7213026942444919
         ],
         "y": [
          -0.15240867563536542,
          -0.7028614856381851
         ]
        },
        {
         "hoverinfo": "text",
         "line": {
          "color": "rgba(128, 128, 128, 0.1)",
          "width": 1
         },
         "mode": "lines",
         "text": "0.125",
         "type": "scatter",
         "x": [
          -0.7464498563171527,
          0.9131728451074601
         ],
         "y": [
          -0.15240867563536542,
          -0.0786216846079524
         ]
        },
        {
         "hoverinfo": "text",
         "line": {
          "color": "rgba(128, 128, 128, 0.1)",
          "width": 1
         },
         "mode": "lines",
         "text": "0.125",
         "type": "scatter",
         "x": [
          -0.7464498563171527,
          -0.02029748952421764
         ],
         "y": [
          -0.15240867563536542,
          0.966511761384103
         ]
        },
        {
         "hoverinfo": "text",
         "line": {
          "color": "rgba(128, 128, 128, 0.1)",
          "width": 1
         },
         "mode": "lines",
         "text": "0.5",
         "type": "scatter",
         "x": [
          -0.7464498563171527,
          -0.3235081883111062
         ],
         "y": [
          -0.15240867563536542,
          -0.08513015582825498
         ]
        },
        {
         "hoverinfo": "text",
         "line": {
          "color": "rgba(128, 128, 128, 0.1)",
          "width": 1
         },
         "mode": "lines",
         "text": "0.125",
         "type": "scatter",
         "x": [
          -0.7464498563171527,
          0.05287296895782892
         ],
         "y": [
          -0.15240867563536542,
          -0.09353267533807239
         ]
        },
        {
         "hoverinfo": "text",
         "line": {
          "color": "rgba(128, 128, 128, 0.1)",
          "width": 1
         },
         "mode": "lines",
         "text": "0.125",
         "type": "scatter",
         "x": [
          -0.7464498563171527,
          -0.5645297566213534
         ],
         "y": [
          -0.15240867563536542,
          -0.5714605612882918
         ]
        },
        {
         "hoverinfo": "text",
         "line": {
          "color": "rgba(128, 128, 128, 0.1)",
          "width": 1
         },
         "mode": "lines",
         "text": "0.5",
         "type": "scatter",
         "x": [
          -0.7464498563171527,
          -0.3131286416509119
         ],
         "y": [
          -0.15240867563536542,
          0.597469912312249
         ]
        },
        {
         "hoverinfo": "text",
         "line": {
          "color": "rgba(128, 128, 128, 0.1)",
          "width": 1
         },
         "mode": "lines",
         "text": "1.0",
         "type": "scatter",
         "x": [
          0.42220986898347856,
          0.7213026942444919
         ],
         "y": [
          0.9443298132713931,
          -0.7028614856381851
         ]
        },
        {
         "hoverinfo": "text",
         "line": {
          "color": "rgba(128, 128, 128, 0.1)",
          "width": 1
         },
         "mode": "lines",
         "text": "0.14285714285714285",
         "type": "scatter",
         "x": [
          0.42220986898347856,
          0.9131728451074601
         ],
         "y": [
          0.9443298132713931,
          -0.0786216846079524
         ]
        },
        {
         "hoverinfo": "text",
         "line": {
          "color": "rgba(128, 128, 128, 0.1)",
          "width": 1
         },
         "mode": "lines",
         "text": "1.0",
         "type": "scatter",
         "x": [
          0.42220986898347856,
          -0.02029748952421764
         ],
         "y": [
          0.9443298132713931,
          0.966511761384103
         ]
        },
        {
         "hoverinfo": "text",
         "line": {
          "color": "rgba(128, 128, 128, 0.1)",
          "width": 1
         },
         "mode": "lines",
         "text": "0.1111111111111111",
         "type": "scatter",
         "x": [
          0.42220986898347856,
          -0.3235081883111062
         ],
         "y": [
          0.9443298132713931,
          -0.08513015582825498
         ]
        },
        {
         "hoverinfo": "text",
         "line": {
          "color": "rgba(128, 128, 128, 0.1)",
          "width": 1
         },
         "mode": "lines",
         "text": "1.0",
         "type": "scatter",
         "x": [
          0.42220986898347856,
          0.05287296895782892
         ],
         "y": [
          0.9443298132713931,
          -0.09353267533807239
         ]
        },
        {
         "hoverinfo": "text",
         "line": {
          "color": "rgba(128, 128, 128, 0.1)",
          "width": 1
         },
         "mode": "lines",
         "text": "1.0",
         "type": "scatter",
         "x": [
          0.42220986898347856,
          -0.5645297566213534
         ],
         "y": [
          0.9443298132713931,
          -0.5714605612882918
         ]
        },
        {
         "hoverinfo": "text",
         "line": {
          "color": "rgba(128, 128, 128, 0.1)",
          "width": 1
         },
         "mode": "lines",
         "text": "0.1111111111111111",
         "type": "scatter",
         "x": [
          0.42220986898347856,
          -0.3131286416509119
         ],
         "y": [
          0.9443298132713931,
          0.597469912312249
         ]
        },
        {
         "hoverinfo": "text",
         "line": {
          "color": "rgba(128, 128, 128, 0.1)",
          "width": 1
         },
         "mode": "lines",
         "text": "1.0",
         "type": "scatter",
         "x": [
          0.7213026942444919,
          0.9131728451074601
         ],
         "y": [
          -0.7028614856381851,
          -0.0786216846079524
         ]
        },
        {
         "hoverinfo": "text",
         "line": {
          "color": "rgba(128, 128, 128, 0.1)",
          "width": 1
         },
         "mode": "lines",
         "text": "1.0",
         "type": "scatter",
         "x": [
          0.7213026942444919,
          -0.02029748952421764
         ],
         "y": [
          -0.7028614856381851,
          0.966511761384103
         ]
        },
        {
         "hoverinfo": "text",
         "line": {
          "color": "rgba(128, 128, 128, 0.1)",
          "width": 1
         },
         "mode": "lines",
         "text": "0.1111111111111111",
         "type": "scatter",
         "x": [
          0.7213026942444919,
          -0.3235081883111062
         ],
         "y": [
          -0.7028614856381851,
          -0.08513015582825498
         ]
        },
        {
         "hoverinfo": "text",
         "line": {
          "color": "rgba(128, 128, 128, 0.1)",
          "width": 1
         },
         "mode": "lines",
         "text": "1.0",
         "type": "scatter",
         "x": [
          0.7213026942444919,
          0.05287296895782892
         ],
         "y": [
          -0.7028614856381851,
          -0.09353267533807239
         ]
        },
        {
         "hoverinfo": "text",
         "line": {
          "color": "rgba(128, 128, 128, 0.1)",
          "width": 1
         },
         "mode": "lines",
         "text": "1.0",
         "type": "scatter",
         "x": [
          0.7213026942444919,
          -0.5645297566213534
         ],
         "y": [
          -0.7028614856381851,
          -0.5714605612882918
         ]
        },
        {
         "hoverinfo": "text",
         "line": {
          "color": "rgba(128, 128, 128, 0.1)",
          "width": 1
         },
         "mode": "lines",
         "text": "0.1111111111111111",
         "type": "scatter",
         "x": [
          0.7213026942444919,
          -0.3131286416509119
         ],
         "y": [
          -0.7028614856381851,
          0.597469912312249
         ]
        },
        {
         "hoverinfo": "text",
         "line": {
          "color": "rgba(128, 128, 128, 0.1)",
          "width": 1
         },
         "mode": "lines",
         "text": "1.0",
         "type": "scatter",
         "x": [
          0.9131728451074601,
          -0.02029748952421764
         ],
         "y": [
          -0.0786216846079524,
          0.966511761384103
         ]
        },
        {
         "hoverinfo": "text",
         "line": {
          "color": "rgba(128, 128, 128, 0.1)",
          "width": 1
         },
         "mode": "lines",
         "text": "0.1111111111111111",
         "type": "scatter",
         "x": [
          0.9131728451074601,
          -0.3235081883111062
         ],
         "y": [
          -0.0786216846079524,
          -0.08513015582825498
         ]
        },
        {
         "hoverinfo": "text",
         "line": {
          "color": "rgba(128, 128, 128, 0.1)",
          "width": 1
         },
         "mode": "lines",
         "text": "1.0",
         "type": "scatter",
         "x": [
          0.9131728451074601,
          0.05287296895782892
         ],
         "y": [
          -0.0786216846079524,
          -0.09353267533807239
         ]
        },
        {
         "hoverinfo": "text",
         "line": {
          "color": "rgba(128, 128, 128, 0.1)",
          "width": 1
         },
         "mode": "lines",
         "text": "1.0",
         "type": "scatter",
         "x": [
          0.9131728451074601,
          -0.5645297566213534
         ],
         "y": [
          -0.0786216846079524,
          -0.5714605612882918
         ]
        },
        {
         "hoverinfo": "text",
         "line": {
          "color": "rgba(128, 128, 128, 0.1)",
          "width": 1
         },
         "mode": "lines",
         "text": "0.1111111111111111",
         "type": "scatter",
         "x": [
          0.9131728451074601,
          -0.3131286416509119
         ],
         "y": [
          -0.0786216846079524,
          0.597469912312249
         ]
        },
        {
         "hoverinfo": "text",
         "line": {
          "color": "rgba(128, 128, 128, 0.1)",
          "width": 1
         },
         "mode": "lines",
         "text": "0.1111111111111111",
         "type": "scatter",
         "x": [
          -0.02029748952421764,
          -0.3235081883111062
         ],
         "y": [
          0.966511761384103,
          -0.08513015582825498
         ]
        },
        {
         "hoverinfo": "text",
         "line": {
          "color": "rgba(128, 128, 128, 0.1)",
          "width": 1
         },
         "mode": "lines",
         "text": "1.0",
         "type": "scatter",
         "x": [
          -0.02029748952421764,
          0.05287296895782892
         ],
         "y": [
          0.966511761384103,
          -0.09353267533807239
         ]
        },
        {
         "hoverinfo": "text",
         "line": {
          "color": "rgba(128, 128, 128, 0.1)",
          "width": 1
         },
         "mode": "lines",
         "text": "1.0",
         "type": "scatter",
         "x": [
          -0.02029748952421764,
          -0.5645297566213534
         ],
         "y": [
          0.966511761384103,
          -0.5714605612882918
         ]
        },
        {
         "hoverinfo": "text",
         "line": {
          "color": "rgba(128, 128, 128, 0.1)",
          "width": 1
         },
         "mode": "lines",
         "text": "0.1111111111111111",
         "type": "scatter",
         "x": [
          -0.02029748952421764,
          -0.3131286416509119
         ],
         "y": [
          0.966511761384103,
          0.597469912312249
         ]
        },
        {
         "hoverinfo": "text",
         "line": {
          "color": "rgba(128, 128, 128, 0.1)",
          "width": 1
         },
         "mode": "lines",
         "text": "0.1111111111111111",
         "type": "scatter",
         "x": [
          -0.3235081883111062,
          0.05287296895782892
         ],
         "y": [
          -0.08513015582825498,
          -0.09353267533807239
         ]
        },
        {
         "hoverinfo": "text",
         "line": {
          "color": "rgba(128, 128, 128, 0.1)",
          "width": 1
         },
         "mode": "lines",
         "text": "0.1111111111111111",
         "type": "scatter",
         "x": [
          -0.3235081883111062,
          -0.5645297566213534
         ],
         "y": [
          -0.08513015582825498,
          -0.5714605612882918
         ]
        },
        {
         "hoverinfo": "text",
         "line": {
          "color": "rgba(128, 128, 128, 0.1)",
          "width": 1
         },
         "mode": "lines",
         "text": "1.0",
         "type": "scatter",
         "x": [
          -0.3235081883111062,
          -0.3131286416509119
         ],
         "y": [
          -0.08513015582825498,
          0.597469912312249
         ]
        },
        {
         "hoverinfo": "text",
         "line": {
          "color": "rgba(128, 128, 128, 0.1)",
          "width": 1
         },
         "mode": "lines",
         "text": "1.0",
         "type": "scatter",
         "x": [
          0.05287296895782892,
          -0.5645297566213534
         ],
         "y": [
          -0.09353267533807239,
          -0.5714605612882918
         ]
        },
        {
         "hoverinfo": "text",
         "line": {
          "color": "rgba(128, 128, 128, 0.1)",
          "width": 1
         },
         "mode": "lines",
         "text": "0.1111111111111111",
         "type": "scatter",
         "x": [
          0.05287296895782892,
          -0.3131286416509119
         ],
         "y": [
          -0.09353267533807239,
          0.597469912312249
         ]
        },
        {
         "hoverinfo": "text",
         "line": {
          "color": "rgba(128, 128, 128, 0.1)",
          "width": 1
         },
         "mode": "lines",
         "text": "0.1111111111111111",
         "type": "scatter",
         "x": [
          -0.5645297566213534,
          -0.3131286416509119
         ],
         "y": [
          -0.5714605612882918,
          0.597469912312249
         ]
        },
        {
         "hoverinfo": "text",
         "marker": {
          "color": "blue",
          "size": 10
         },
         "mode": "markers",
         "text": "Escherichia coli",
         "type": "scatter",
         "x": [
          -0.28174583003701575
         ],
         "y": [
          -0.7495484709738683
         ]
        },
        {
         "hoverinfo": "text",
         "marker": {
          "color": "blue",
          "size": 10
         },
         "mode": "markers",
         "text": "Klebsiella pneumoniae",
         "type": "scatter",
         "x": [
          -0.23804313032807764
         ],
         "y": [
          -0.9898825043506606
         ]
        },
        {
         "hoverinfo": "text",
         "marker": {
          "color": "blue",
          "size": 10
         },
         "mode": "markers",
         "text": "Enterobacter hormaechei",
         "type": "scatter",
         "x": [
          -0.7692043206658865
         ],
         "y": [
          -0.510743249469289
         ]
        },
        {
         "hoverinfo": "text",
         "marker": {
          "color": "blue",
          "size": 10
         },
         "mode": "markers",
         "text": "synthetic construct",
         "type": "scatter",
         "x": [
          0.7956628930422169
         ],
         "y": [
          0.1122905423981816
         ]
        },
        {
         "hoverinfo": "text",
         "marker": {
          "color": "blue",
          "size": 10
         },
         "mode": "markers",
         "text": "synthetic construct",
         "type": "scatter",
         "x": [
          0.1629257116714322
         ],
         "y": [
          0.3577320930627341
         ]
        },
        {
         "hoverinfo": "text",
         "marker": {
          "color": "blue",
          "size": 10
         },
         "mode": "markers",
         "text": "synthetic construct",
         "type": "scatter",
         "x": [
          0.4105409797767385
         ],
         "y": [
          0.7266523503950164
         ]
        },
        {
         "hoverinfo": "text",
         "marker": {
          "color": "blue",
          "size": 10
         },
         "mode": "markers",
         "text": "synthetic construct",
         "type": "scatter",
         "x": [
          0.5406252526159936
         ],
         "y": [
          0.5854119605306543
         ]
        },
        {
         "hoverinfo": "text",
         "marker": {
          "color": "blue",
          "size": 10
         },
         "mode": "markers",
         "text": "Shigella sonnei",
         "type": "scatter",
         "x": [
          0.4152404281918263
         ],
         "y": [
          0.3261041426820075
         ]
        },
        {
         "hoverinfo": "text",
         "marker": {
          "color": "blue",
          "size": 10
         },
         "mode": "markers",
         "text": "synthetic construct",
         "type": "scatter",
         "x": [
          0.5876073942509931
         ],
         "y": [
          -0.5008315944643879
         ]
        },
        {
         "hoverinfo": "text",
         "marker": {
          "color": "blue",
          "size": 10
         },
         "mode": "markers",
         "text": "synthetic construct",
         "type": "scatter",
         "x": [
          -0.5559910802111033
         ],
         "y": [
          -0.8220405900208866
         ]
        },
        {
         "hoverinfo": "text",
         "marker": {
          "color": "blue",
          "size": 10
         },
         "mode": "markers",
         "text": "synthetic construct",
         "type": "scatter",
         "x": [
          -0.6450334324398341
         ],
         "y": [
          0.27707889223447446
         ]
        },
        {
         "hoverinfo": "text",
         "marker": {
          "color": "blue",
          "size": 10
         },
         "mode": "markers",
         "text": "synthetic construct",
         "type": "scatter",
         "x": [
          0.41087781322486794
         ],
         "y": [
          0.0614320803326031
         ]
        },
        {
         "hoverinfo": "text",
         "marker": {
          "color": "blue",
          "size": 10
         },
         "mode": "markers",
         "text": "synthetic construct",
         "type": "scatter",
         "x": [
          -0.3660082442049612
         ],
         "y": [
          0.8678869100507792
         ]
        },
        {
         "hoverinfo": "text",
         "marker": {
          "color": "blue",
          "size": 10
         },
         "mode": "markers",
         "text": "Enterobacteriaceae",
         "type": "scatter",
         "x": [
          0.17192888814352225
         ],
         "y": [
          -0.4447705166163436
         ]
        },
        {
         "hoverinfo": "text",
         "marker": {
          "color": "blue",
          "size": 10
         },
         "mode": "markers",
         "text": "synthetic construct",
         "type": "scatter",
         "x": [
          0.9532683662972562
         ],
         "y": [
          0.2902557824658834
         ]
        },
        {
         "hoverinfo": "text",
         "marker": {
          "color": "blue",
          "size": 10
         },
         "mode": "markers",
         "text": "synthetic construct",
         "type": "scatter",
         "x": [
          -0.8884686789090365
         ],
         "y": [
          -0.31069767497084494
         ]
        },
        {
         "hoverinfo": "text",
         "marker": {
          "color": "blue",
          "size": 10
         },
         "mode": "markers",
         "text": "Bacteria",
         "type": "scatter",
         "x": [
          -0.33280924839566023
         ],
         "y": [
          -0.5065195179912579
         ]
        },
        {
         "hoverinfo": "text",
         "marker": {
          "color": "blue",
          "size": 10
         },
         "mode": "markers",
         "text": "Escherichia coli",
         "type": "scatter",
         "x": [
          -0.015856194826003367
         ],
         "y": [
          0.11145031512701231
         ]
        },
        {
         "hoverinfo": "text",
         "marker": {
          "color": "blue",
          "size": 10
         },
         "mode": "markers",
         "text": "synthetic construct",
         "type": "scatter",
         "x": [
          -0.1953259850843532
         ],
         "y": [
          0.3518955956777661
         ]
        },
        {
         "hoverinfo": "text",
         "marker": {
          "color": "blue",
          "size": 10
         },
         "mode": "markers",
         "text": "synthetic construct",
         "type": "scatter",
         "x": [
          0.029357573635267073
         ],
         "y": [
          -0.9111388969932189
         ]
        },
        {
         "hoverinfo": "text",
         "marker": {
          "color": "blue",
          "size": 10
         },
         "mode": "markers",
         "text": "synthetic construct",
         "type": "scatter",
         "x": [
          -0.01919280536162062
         ],
         "y": [
          -0.6521212445085668
         ]
        },
        {
         "hoverinfo": "text",
         "marker": {
          "color": "blue",
          "size": 10
         },
         "mode": "markers",
         "text": "synthetic construct",
         "type": "scatter",
         "x": [
          -0.10911439248384298
         ],
         "y": [
          0.7578267516911958
         ]
        },
        {
         "hoverinfo": "text",
         "marker": {
          "color": "blue",
          "size": 10
         },
         "mode": "markers",
         "text": "synthetic construct",
         "type": "scatter",
         "x": [
          0.6999593653183844
         ],
         "y": [
          0.34086743938130765
         ]
        },
        {
         "hoverinfo": "text",
         "marker": {
          "color": "blue",
          "size": 10
         },
         "mode": "markers",
         "text": "Salmonella enterica subsp. enterica serovar Ohio",
         "type": "scatter",
         "x": [
          -0.7711438777564555
         ],
         "y": [
          0.5446514515452328
         ]
        },
        {
         "hoverinfo": "text",
         "marker": {
          "color": "blue",
          "size": 10
         },
         "mode": "markers",
         "text": "synthetic construct",
         "type": "scatter",
         "x": [
          0.9159172652301071
         ],
         "y": [
          -0.2876278366482088
         ]
        },
        {
         "hoverinfo": "text",
         "marker": {
          "color": "blue",
          "size": 10
         },
         "mode": "markers",
         "text": "synthetic construct",
         "type": "scatter",
         "x": [
          0.3042346205107624
         ],
         "y": [
          -0.21400329594720793
         ]
        },
        {
         "hoverinfo": "text",
         "marker": {
          "color": "blue",
          "size": 10
         },
         "mode": "markers",
         "text": "synthetic construct",
         "type": "scatter",
         "x": [
          0.7925432626107755
         ],
         "y": [
          0.5855468854554127
         ]
        },
        {
         "hoverinfo": "text",
         "marker": {
          "color": "blue",
          "size": 10
         },
         "mode": "markers",
         "text": "synthetic construct",
         "type": "scatter",
         "x": [
          -0.52981302729874
         ],
         "y": [
          -0.26861457638885444
         ]
        },
        {
         "hoverinfo": "text",
         "marker": {
          "color": "blue",
          "size": 10
         },
         "mode": "markers",
         "text": "synthetic construct",
         "type": "scatter",
         "x": [
          -0.6047526130559822
         ],
         "y": [
          0.7655665975288818
         ]
        },
        {
         "hoverinfo": "text",
         "marker": {
          "color": "blue",
          "size": 10
         },
         "mode": "markers",
         "text": "Escherichia coli",
         "type": "scatter",
         "x": [
          0.6074389952577244
         ],
         "y": [
          -0.12243029093157637
         ]
        },
        {
         "hoverinfo": "text",
         "marker": {
          "color": "blue",
          "size": 10
         },
         "mode": "markers",
         "text": "Klebsiella pneumoniae",
         "type": "scatter",
         "x": [
          -0.918938735340811
         ],
         "y": [
          0.29892269802325433
         ]
        },
        {
         "hoverinfo": "text",
         "marker": {
          "color": "blue",
          "size": 10
         },
         "mode": "markers",
         "text": "synthetic construct",
         "type": "scatter",
         "x": [
          -0.39369798424770713
         ],
         "y": [
          0.1564690190913819
         ]
        },
        {
         "hoverinfo": "text",
         "marker": {
          "color": "blue",
          "size": 10
         },
         "mode": "markers",
         "text": "synthetic construct",
         "type": "scatter",
         "x": [
          -0.4965138359262507
         ],
         "y": [
          0.5147073335073147
         ]
        },
        {
         "hoverinfo": "text",
         "marker": {
          "color": "blue",
          "size": 10
         },
         "mode": "markers",
         "text": "synthetic construct",
         "type": "scatter",
         "x": [
          -0.7047942282637657
         ],
         "y": [
          0.05639581663858665
         ]
        },
        {
         "hoverinfo": "text",
         "marker": {
          "color": "blue",
          "size": 10
         },
         "mode": "markers",
         "text": "Escherichia coli",
         "type": "scatter",
         "x": [
          0.22697673177044278
         ],
         "y": [
          -0.8456600770640139
         ]
        },
        {
         "hoverinfo": "text",
         "marker": {
          "color": "blue",
          "size": 10
         },
         "mode": "markers",
         "text": "Neisseria gonorrhoeae",
         "type": "scatter",
         "x": [
          0.17107928195038022
         ],
         "y": [
          0.7959403993931851
         ]
        },
        {
         "hoverinfo": "text",
         "marker": {
          "color": "blue",
          "size": 10
         },
         "mode": "markers",
         "text": "Klebsiella pneumoniae",
         "type": "scatter",
         "x": [
          0.7198791291336225
         ],
         "y": [
          -0.3555785138076284
         ]
        },
        {
         "hoverinfo": "text",
         "marker": {
          "color": "blue",
          "size": 10
         },
         "mode": "markers",
         "text": "Gluconobacter cerevisiae",
         "type": "scatter",
         "x": [
          0.07592479646616518
         ],
         "y": [
          0.5489404396993625
         ]
        },
        {
         "hoverinfo": "text",
         "marker": {
          "color": "blue",
          "size": 10
         },
         "mode": "markers",
         "text": "synthetic construct",
         "type": "scatter",
         "x": [
          -0.13240271109312432
         ],
         "y": [
          -0.36406482848700933
         ]
        },
        {
         "hoverinfo": "text",
         "marker": {
          "color": "blue",
          "size": 10
         },
         "mode": "markers",
         "text": "synthetic construct",
         "type": "scatter",
         "x": [
          -1
         ],
         "y": [
          0.006663047876623049
         ]
        },
        {
         "hoverinfo": "text",
         "marker": {
          "color": "blue",
          "size": 10
         },
         "mode": "markers",
         "text": "synthetic construct",
         "type": "scatter",
         "x": [
          0.40794135944224913
         ],
         "y": [
          -0.5939736404506816
         ]
        },
        {
         "hoverinfo": "text",
         "marker": {
          "color": "blue",
          "size": 10
         },
         "mode": "markers",
         "text": "Enterobacteriaceae",
         "type": "scatter",
         "x": [
          0.42727580252097486
         ],
         "y": [
          -0.8147374733359818
         ]
        },
        {
         "hoverinfo": "text",
         "marker": {
          "color": "blue",
          "size": 10
         },
         "mode": "markers",
         "text": "Enterobacterales",
         "type": "scatter",
         "x": [
          -0.7464498563171527
         ],
         "y": [
          -0.15240867563536542
         ]
        },
        {
         "hoverinfo": "text",
         "marker": {
          "color": "blue",
          "size": 10
         },
         "mode": "markers",
         "text": "synthetic construct",
         "type": "scatter",
         "x": [
          0.42220986898347856
         ],
         "y": [
          0.9443298132713931
         ]
        },
        {
         "hoverinfo": "text",
         "marker": {
          "color": "blue",
          "size": 10
         },
         "mode": "markers",
         "text": "synthetic construct",
         "type": "scatter",
         "x": [
          0.7213026942444919
         ],
         "y": [
          -0.7028614856381851
         ]
        },
        {
         "hoverinfo": "text",
         "marker": {
          "color": "blue",
          "size": 10
         },
         "mode": "markers",
         "text": "synthetic construct",
         "type": "scatter",
         "x": [
          0.9131728451074601
         ],
         "y": [
          -0.0786216846079524
         ]
        },
        {
         "hoverinfo": "text",
         "marker": {
          "color": "blue",
          "size": 10
         },
         "mode": "markers",
         "text": "Salmonella enterica",
         "type": "scatter",
         "x": [
          -0.02029748952421764
         ],
         "y": [
          0.966511761384103
         ]
        },
        {
         "hoverinfo": "text",
         "marker": {
          "color": "blue",
          "size": 10
         },
         "mode": "markers",
         "text": "Escherichia coli",
         "type": "scatter",
         "x": [
          -0.3235081883111062
         ],
         "y": [
          -0.08513015582825498
         ]
        },
        {
         "hoverinfo": "text",
         "marker": {
          "color": "blue",
          "size": 10
         },
         "mode": "markers",
         "text": "Escherichia coli",
         "type": "scatter",
         "x": [
          0.05287296895782892
         ],
         "y": [
          -0.09353267533807239
         ]
        },
        {
         "hoverinfo": "text",
         "marker": {
          "color": "blue",
          "size": 10
         },
         "mode": "markers",
         "text": "synthetic construct",
         "type": "scatter",
         "x": [
          -0.5645297566213534
         ],
         "y": [
          -0.5714605612882918
         ]
        },
        {
         "hoverinfo": "text",
         "marker": {
          "color": "blue",
          "size": 10
         },
         "mode": "markers",
         "text": "Escherichia coli",
         "type": "scatter",
         "x": [
          -0.3131286416509119
         ],
         "y": [
          0.597469912312249
         ]
        }
       ],
       "layout": {
        "hovermode": "closest",
        "margin": {
         "b": 0,
         "l": 0,
         "r": 0,
         "t": 0
        },
        "plot_bgcolor": "white",
        "showlegend": false,
        "template": {
         "data": {
          "bar": [
           {
            "error_x": {
             "color": "#2a3f5f"
            },
            "error_y": {
             "color": "#2a3f5f"
            },
            "marker": {
             "line": {
              "color": "#E5ECF6",
              "width": 0.5
             },
             "pattern": {
              "fillmode": "overlay",
              "size": 10,
              "solidity": 0.2
             }
            },
            "type": "bar"
           }
          ],
          "barpolar": [
           {
            "marker": {
             "line": {
              "color": "#E5ECF6",
              "width": 0.5
             },
             "pattern": {
              "fillmode": "overlay",
              "size": 10,
              "solidity": 0.2
             }
            },
            "type": "barpolar"
           }
          ],
          "carpet": [
           {
            "aaxis": {
             "endlinecolor": "#2a3f5f",
             "gridcolor": "white",
             "linecolor": "white",
             "minorgridcolor": "white",
             "startlinecolor": "#2a3f5f"
            },
            "baxis": {
             "endlinecolor": "#2a3f5f",
             "gridcolor": "white",
             "linecolor": "white",
             "minorgridcolor": "white",
             "startlinecolor": "#2a3f5f"
            },
            "type": "carpet"
           }
          ],
          "choropleth": [
           {
            "colorbar": {
             "outlinewidth": 0,
             "ticks": ""
            },
            "type": "choropleth"
           }
          ],
          "contour": [
           {
            "colorbar": {
             "outlinewidth": 0,
             "ticks": ""
            },
            "colorscale": [
             [
              0,
              "#0d0887"
             ],
             [
              0.1111111111111111,
              "#46039f"
             ],
             [
              0.2222222222222222,
              "#7201a8"
             ],
             [
              0.3333333333333333,
              "#9c179e"
             ],
             [
              0.4444444444444444,
              "#bd3786"
             ],
             [
              0.5555555555555556,
              "#d8576b"
             ],
             [
              0.6666666666666666,
              "#ed7953"
             ],
             [
              0.7777777777777778,
              "#fb9f3a"
             ],
             [
              0.8888888888888888,
              "#fdca26"
             ],
             [
              1,
              "#f0f921"
             ]
            ],
            "type": "contour"
           }
          ],
          "contourcarpet": [
           {
            "colorbar": {
             "outlinewidth": 0,
             "ticks": ""
            },
            "type": "contourcarpet"
           }
          ],
          "heatmap": [
           {
            "colorbar": {
             "outlinewidth": 0,
             "ticks": ""
            },
            "colorscale": [
             [
              0,
              "#0d0887"
             ],
             [
              0.1111111111111111,
              "#46039f"
             ],
             [
              0.2222222222222222,
              "#7201a8"
             ],
             [
              0.3333333333333333,
              "#9c179e"
             ],
             [
              0.4444444444444444,
              "#bd3786"
             ],
             [
              0.5555555555555556,
              "#d8576b"
             ],
             [
              0.6666666666666666,
              "#ed7953"
             ],
             [
              0.7777777777777778,
              "#fb9f3a"
             ],
             [
              0.8888888888888888,
              "#fdca26"
             ],
             [
              1,
              "#f0f921"
             ]
            ],
            "type": "heatmap"
           }
          ],
          "heatmapgl": [
           {
            "colorbar": {
             "outlinewidth": 0,
             "ticks": ""
            },
            "colorscale": [
             [
              0,
              "#0d0887"
             ],
             [
              0.1111111111111111,
              "#46039f"
             ],
             [
              0.2222222222222222,
              "#7201a8"
             ],
             [
              0.3333333333333333,
              "#9c179e"
             ],
             [
              0.4444444444444444,
              "#bd3786"
             ],
             [
              0.5555555555555556,
              "#d8576b"
             ],
             [
              0.6666666666666666,
              "#ed7953"
             ],
             [
              0.7777777777777778,
              "#fb9f3a"
             ],
             [
              0.8888888888888888,
              "#fdca26"
             ],
             [
              1,
              "#f0f921"
             ]
            ],
            "type": "heatmapgl"
           }
          ],
          "histogram": [
           {
            "marker": {
             "pattern": {
              "fillmode": "overlay",
              "size": 10,
              "solidity": 0.2
             }
            },
            "type": "histogram"
           }
          ],
          "histogram2d": [
           {
            "colorbar": {
             "outlinewidth": 0,
             "ticks": ""
            },
            "colorscale": [
             [
              0,
              "#0d0887"
             ],
             [
              0.1111111111111111,
              "#46039f"
             ],
             [
              0.2222222222222222,
              "#7201a8"
             ],
             [
              0.3333333333333333,
              "#9c179e"
             ],
             [
              0.4444444444444444,
              "#bd3786"
             ],
             [
              0.5555555555555556,
              "#d8576b"
             ],
             [
              0.6666666666666666,
              "#ed7953"
             ],
             [
              0.7777777777777778,
              "#fb9f3a"
             ],
             [
              0.8888888888888888,
              "#fdca26"
             ],
             [
              1,
              "#f0f921"
             ]
            ],
            "type": "histogram2d"
           }
          ],
          "histogram2dcontour": [
           {
            "colorbar": {
             "outlinewidth": 0,
             "ticks": ""
            },
            "colorscale": [
             [
              0,
              "#0d0887"
             ],
             [
              0.1111111111111111,
              "#46039f"
             ],
             [
              0.2222222222222222,
              "#7201a8"
             ],
             [
              0.3333333333333333,
              "#9c179e"
             ],
             [
              0.4444444444444444,
              "#bd3786"
             ],
             [
              0.5555555555555556,
              "#d8576b"
             ],
             [
              0.6666666666666666,
              "#ed7953"
             ],
             [
              0.7777777777777778,
              "#fb9f3a"
             ],
             [
              0.8888888888888888,
              "#fdca26"
             ],
             [
              1,
              "#f0f921"
             ]
            ],
            "type": "histogram2dcontour"
           }
          ],
          "mesh3d": [
           {
            "colorbar": {
             "outlinewidth": 0,
             "ticks": ""
            },
            "type": "mesh3d"
           }
          ],
          "parcoords": [
           {
            "line": {
             "colorbar": {
              "outlinewidth": 0,
              "ticks": ""
             }
            },
            "type": "parcoords"
           }
          ],
          "pie": [
           {
            "automargin": true,
            "type": "pie"
           }
          ],
          "scatter": [
           {
            "fillpattern": {
             "fillmode": "overlay",
             "size": 10,
             "solidity": 0.2
            },
            "type": "scatter"
           }
          ],
          "scatter3d": [
           {
            "line": {
             "colorbar": {
              "outlinewidth": 0,
              "ticks": ""
             }
            },
            "marker": {
             "colorbar": {
              "outlinewidth": 0,
              "ticks": ""
             }
            },
            "type": "scatter3d"
           }
          ],
          "scattercarpet": [
           {
            "marker": {
             "colorbar": {
              "outlinewidth": 0,
              "ticks": ""
             }
            },
            "type": "scattercarpet"
           }
          ],
          "scattergeo": [
           {
            "marker": {
             "colorbar": {
              "outlinewidth": 0,
              "ticks": ""
             }
            },
            "type": "scattergeo"
           }
          ],
          "scattergl": [
           {
            "marker": {
             "colorbar": {
              "outlinewidth": 0,
              "ticks": ""
             }
            },
            "type": "scattergl"
           }
          ],
          "scattermapbox": [
           {
            "marker": {
             "colorbar": {
              "outlinewidth": 0,
              "ticks": ""
             }
            },
            "type": "scattermapbox"
           }
          ],
          "scatterpolar": [
           {
            "marker": {
             "colorbar": {
              "outlinewidth": 0,
              "ticks": ""
             }
            },
            "type": "scatterpolar"
           }
          ],
          "scatterpolargl": [
           {
            "marker": {
             "colorbar": {
              "outlinewidth": 0,
              "ticks": ""
             }
            },
            "type": "scatterpolargl"
           }
          ],
          "scatterternary": [
           {
            "marker": {
             "colorbar": {
              "outlinewidth": 0,
              "ticks": ""
             }
            },
            "type": "scatterternary"
           }
          ],
          "surface": [
           {
            "colorbar": {
             "outlinewidth": 0,
             "ticks": ""
            },
            "colorscale": [
             [
              0,
              "#0d0887"
             ],
             [
              0.1111111111111111,
              "#46039f"
             ],
             [
              0.2222222222222222,
              "#7201a8"
             ],
             [
              0.3333333333333333,
              "#9c179e"
             ],
             [
              0.4444444444444444,
              "#bd3786"
             ],
             [
              0.5555555555555556,
              "#d8576b"
             ],
             [
              0.6666666666666666,
              "#ed7953"
             ],
             [
              0.7777777777777778,
              "#fb9f3a"
             ],
             [
              0.8888888888888888,
              "#fdca26"
             ],
             [
              1,
              "#f0f921"
             ]
            ],
            "type": "surface"
           }
          ],
          "table": [
           {
            "cells": {
             "fill": {
              "color": "#EBF0F8"
             },
             "line": {
              "color": "white"
             }
            },
            "header": {
             "fill": {
              "color": "#C8D4E3"
             },
             "line": {
              "color": "white"
             }
            },
            "type": "table"
           }
          ]
         },
         "layout": {
          "annotationdefaults": {
           "arrowcolor": "#2a3f5f",
           "arrowhead": 0,
           "arrowwidth": 1
          },
          "autotypenumbers": "strict",
          "coloraxis": {
           "colorbar": {
            "outlinewidth": 0,
            "ticks": ""
           }
          },
          "colorscale": {
           "diverging": [
            [
             0,
             "#8e0152"
            ],
            [
             0.1,
             "#c51b7d"
            ],
            [
             0.2,
             "#de77ae"
            ],
            [
             0.3,
             "#f1b6da"
            ],
            [
             0.4,
             "#fde0ef"
            ],
            [
             0.5,
             "#f7f7f7"
            ],
            [
             0.6,
             "#e6f5d0"
            ],
            [
             0.7,
             "#b8e186"
            ],
            [
             0.8,
             "#7fbc41"
            ],
            [
             0.9,
             "#4d9221"
            ],
            [
             1,
             "#276419"
            ]
           ],
           "sequential": [
            [
             0,
             "#0d0887"
            ],
            [
             0.1111111111111111,
             "#46039f"
            ],
            [
             0.2222222222222222,
             "#7201a8"
            ],
            [
             0.3333333333333333,
             "#9c179e"
            ],
            [
             0.4444444444444444,
             "#bd3786"
            ],
            [
             0.5555555555555556,
             "#d8576b"
            ],
            [
             0.6666666666666666,
             "#ed7953"
            ],
            [
             0.7777777777777778,
             "#fb9f3a"
            ],
            [
             0.8888888888888888,
             "#fdca26"
            ],
            [
             1,
             "#f0f921"
            ]
           ],
           "sequentialminus": [
            [
             0,
             "#0d0887"
            ],
            [
             0.1111111111111111,
             "#46039f"
            ],
            [
             0.2222222222222222,
             "#7201a8"
            ],
            [
             0.3333333333333333,
             "#9c179e"
            ],
            [
             0.4444444444444444,
             "#bd3786"
            ],
            [
             0.5555555555555556,
             "#d8576b"
            ],
            [
             0.6666666666666666,
             "#ed7953"
            ],
            [
             0.7777777777777778,
             "#fb9f3a"
            ],
            [
             0.8888888888888888,
             "#fdca26"
            ],
            [
             1,
             "#f0f921"
            ]
           ]
          },
          "colorway": [
           "#636efa",
           "#EF553B",
           "#00cc96",
           "#ab63fa",
           "#FFA15A",
           "#19d3f3",
           "#FF6692",
           "#B6E880",
           "#FF97FF",
           "#FECB52"
          ],
          "font": {
           "color": "#2a3f5f"
          },
          "geo": {
           "bgcolor": "white",
           "lakecolor": "white",
           "landcolor": "#E5ECF6",
           "showlakes": true,
           "showland": true,
           "subunitcolor": "white"
          },
          "hoverlabel": {
           "align": "left"
          },
          "hovermode": "closest",
          "mapbox": {
           "style": "light"
          },
          "paper_bgcolor": "white",
          "plot_bgcolor": "#E5ECF6",
          "polar": {
           "angularaxis": {
            "gridcolor": "white",
            "linecolor": "white",
            "ticks": ""
           },
           "bgcolor": "#E5ECF6",
           "radialaxis": {
            "gridcolor": "white",
            "linecolor": "white",
            "ticks": ""
           }
          },
          "scene": {
           "xaxis": {
            "backgroundcolor": "#E5ECF6",
            "gridcolor": "white",
            "gridwidth": 2,
            "linecolor": "white",
            "showbackground": true,
            "ticks": "",
            "zerolinecolor": "white"
           },
           "yaxis": {
            "backgroundcolor": "#E5ECF6",
            "gridcolor": "white",
            "gridwidth": 2,
            "linecolor": "white",
            "showbackground": true,
            "ticks": "",
            "zerolinecolor": "white"
           },
           "zaxis": {
            "backgroundcolor": "#E5ECF6",
            "gridcolor": "white",
            "gridwidth": 2,
            "linecolor": "white",
            "showbackground": true,
            "ticks": "",
            "zerolinecolor": "white"
           }
          },
          "shapedefaults": {
           "line": {
            "color": "#2a3f5f"
           }
          },
          "ternary": {
           "aaxis": {
            "gridcolor": "white",
            "linecolor": "white",
            "ticks": ""
           },
           "baxis": {
            "gridcolor": "white",
            "linecolor": "white",
            "ticks": ""
           },
           "bgcolor": "#E5ECF6",
           "caxis": {
            "gridcolor": "white",
            "linecolor": "white",
            "ticks": ""
           }
          },
          "title": {
           "x": 0.05
          },
          "xaxis": {
           "automargin": true,
           "gridcolor": "white",
           "linecolor": "white",
           "ticks": "",
           "title": {
            "standoff": 15
           },
           "zerolinecolor": "white",
           "zerolinewidth": 2
          },
          "yaxis": {
           "automargin": true,
           "gridcolor": "white",
           "linecolor": "white",
           "ticks": "",
           "title": {
            "standoff": 15
           },
           "zerolinecolor": "white",
           "zerolinewidth": 2
          }
         }
        },
        "xaxis": {
         "visible": false
        },
        "yaxis": {
         "visible": false
        }
       }
      }
     },
     "metadata": {},
     "output_type": "display_data"
    }
   ],
   "source": [
    "pairwise_network(\n",
    "    alignments=alignments,\n",
    "    weight=\"identity\",\n",
    "    color=\"name\",\n",
    "    label=\"organism\",\n",
    ")"
   ]
  }
 ],
 "metadata": {
  "kernelspec": {
   "display_name": "pye",
   "language": "python",
   "name": "python3"
  },
  "language_info": {
   "codemirror_mode": {
    "name": "ipython",
    "version": 3
   },
   "file_extension": ".py",
   "mimetype": "text/x-python",
   "name": "python",
   "nbconvert_exporter": "python",
   "pygments_lexer": "ipython3",
   "version": "3.10.13"
  }
 },
 "nbformat": 4,
 "nbformat_minor": 2
}
