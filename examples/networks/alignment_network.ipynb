{
 "cells": [
  {
   "cell_type": "code",
   "execution_count": 1,
   "metadata": {},
   "outputs": [],
   "source": [
    "from pyEED.core import ProteinInfo\n",
    "from pyEED.alignment.pairwise import multi_pairwise_alignment\n",
    "from pyEED.network import pairwise_network\n",
    "from pyEED.ncbi.utils import load_accessions"
   ]
  },
  {
   "cell_type": "markdown",
   "metadata": {},
   "source": [
    "# Visualize networks of pairwise sequence alignments\n",
    "\n",
    "In the following example, a protein BLAST search is conducted based on TEM-1 and TEM-109 variant of beta-lactamase. After pairwise alignment of all sequences, a network is constructed based on the alignment scores and then visualized.\n",
    "\n",
    "## PBLAST search for seed sequences\n",
    "\n",
    "Results from the BLAST search are renamed based to the name of query protein variant."
   ]
  },
  {
   "cell_type": "code",
   "execution_count": 2,
   "metadata": {},
   "outputs": [
    {
     "name": "stdout",
     "output_type": "stream",
     "text": [
      "🏃🏼‍♀️ Running PBLAST\n",
      "╭── protein name: TEM family beta-lactamase\n",
      "├── accession: QGC48744.1\n",
      "├── organism: Escherichia coli\n",
      "├── e-value: 0.05\n",
      "╰── max hits: 15\n"
     ]
    },
    {
     "name": "stderr",
     "output_type": "stream",
     "text": [
      "⬇️ Fetching protein sequences: 100%|██████████| 15/15 [00:11<00:00,  1.30it/s]\n"
     ]
    },
    {
     "name": "stdout",
     "output_type": "stream",
     "text": [
      "🎉 Done\n",
      "\n",
      "🏃🏼‍♀️ Running PBLAST\n",
      "╭── protein name: beta-lactamase TEM-109\n",
      "├── accession: AAT46413.1\n",
      "├── organism: Escherichia coli\n",
      "├── e-value: 0.05\n",
      "╰── max hits: 15\n"
     ]
    },
    {
     "name": "stderr",
     "output_type": "stream",
     "text": [
      "⬇️ Fetching protein sequences: 100%|██████████| 15/15 [00:13<00:00,  1.13it/s]"
     ]
    },
    {
     "name": "stdout",
     "output_type": "stream",
     "text": [
      "🎉 Done\n",
      "\n"
     ]
    },
    {
     "name": "stderr",
     "output_type": "stream",
     "text": [
      "\n"
     ]
    }
   ],
   "source": [
    "tem1 = ProteinInfo.from_ncbi(\"QGC48744.1\")\n",
    "tem109 = ProteinInfo.from_ncbi(\"AAT46413.1\")\n",
    "\n",
    "blast_results = []\n",
    "for tem in [tem1, tem109]:\n",
    "    sequences = tem.pblast(\n",
    "        e_value=0.05, n_hits=15, api_key=\"161e6eb71dcc94511d2d0e2fc5336c1af709\"\n",
    "    )\n",
    "\n",
    "    for sequence in sequences:\n",
    "        sequence.name = tem.name\n",
    "\n",
    "    blast_results.extend(sequences)\n",
    "    blast_results.append(tem)"
   ]
  },
  {
   "cell_type": "markdown",
   "metadata": {},
   "source": [
    "## Pairwise alignment of unique sequence pairs"
   ]
  },
  {
   "cell_type": "code",
   "execution_count": 3,
   "metadata": {},
   "outputs": [
    {
     "name": "stderr",
     "output_type": "stream",
     "text": [
      "⛓️ Aligning sequences: 100%|██████████| 496/496 [00:01<00:00, 342.87it/s]\n"
     ]
    }
   ],
   "source": [
    "alignments = multi_pairwise_alignment(\n",
    "    blast_results,\n",
    "    mode=\"global\",\n",
    "    match=1,\n",
    "    mismatch=-1,\n",
    "    gap_open=-1,\n",
    "    gap_extend=0,\n",
    "    n_jobs=8,\n",
    ")"
   ]
  },
  {
   "cell_type": "markdown",
   "metadata": {},
   "source": [
    "## Visualize the alignment network"
   ]
  },
  {
   "cell_type": "code",
   "execution_count": 4,
   "metadata": {},
   "outputs": [
    {
     "name": "stdout",
     "output_type": "stream",
     "text": [
      "{'TEM family beta-lactamase': 'blue', 'beta-lactamase TEM-109': 'red'}\n"
     ]
    },
    {
     "data": {
      "application/vnd.plotly.v1+json": {
       "config": {
        "plotlyServerURL": "https://plot.ly"
       },
       "data": [
        {
         "hoverinfo": "text",
         "line": {
          "color": "rgba(128, 128, 128, 0.1)",
          "width": 1
         },
         "mode": "lines",
         "text": "1.0",
         "type": "scatter",
         "x": [
          -0.6914588236656009,
          -0.7475822584708567
         ],
         "y": [
          0.6937671259213628,
          0.6618414989828777
         ]
        },
        {
         "hoverinfo": "text",
         "line": {
          "color": "rgba(128, 128, 128, 0.1)",
          "width": 1
         },
         "mode": "lines",
         "text": "1.0",
         "type": "scatter",
         "x": [
          -0.2448563136899791,
          -0.1203321469905742
         ],
         "y": [
          0.14734002900774362,
          0.0763339976053082
         ]
        },
        {
         "hoverinfo": "text",
         "line": {
          "color": "rgba(128, 128, 128, 0.1)",
          "width": 1
         },
         "mode": "lines",
         "text": "1.0",
         "type": "scatter",
         "x": [
          -0.0811932367392075,
          -0.1203321469905742
         ],
         "y": [
          0.17382567240497152,
          0.0763339976053082
         ]
        },
        {
         "hoverinfo": "text",
         "line": {
          "color": "rgba(128, 128, 128, 0.1)",
          "width": 1
         },
         "mode": "lines",
         "text": "1.0",
         "type": "scatter",
         "x": [
          -0.0811932367392075,
          -0.04940126911688077
         ],
         "y": [
          0.17382567240497152,
          0.09651404384278645
         ]
        },
        {
         "hoverinfo": "text",
         "line": {
          "color": "rgba(128, 128, 128, 0.1)",
          "width": 1
         },
         "mode": "lines",
         "text": "1.0",
         "type": "scatter",
         "x": [
          -0.24901003045346679,
          -0.1203321469905742
         ],
         "y": [
          0.08803189773933258,
          0.0763339976053082
         ]
        },
        {
         "hoverinfo": "text",
         "line": {
          "color": "rgba(128, 128, 128, 0.1)",
          "width": 1
         },
         "mode": "lines",
         "text": "1.0",
         "type": "scatter",
         "x": [
          -0.24901003045346679,
          -0.25034481810980186
         ],
         "y": [
          0.08803189773933258,
          0.041927515691288705
         ]
        },
        {
         "hoverinfo": "text",
         "line": {
          "color": "rgba(128, 128, 128, 0.1)",
          "width": 1
         },
         "mode": "lines",
         "text": "1.0",
         "type": "scatter",
         "x": [
          -0.1203321469905742,
          -0.14872233118607536
         ],
         "y": [
          0.0763339976053082,
          0.21452566279960705
         ]
        },
        {
         "hoverinfo": "text",
         "line": {
          "color": "rgba(128, 128, 128, 0.1)",
          "width": 1
         },
         "mode": "lines",
         "text": "1.0",
         "type": "scatter",
         "x": [
          -0.1203321469905742,
          -0.25034481810980186
         ],
         "y": [
          0.0763339976053082,
          0.041927515691288705
         ]
        },
        {
         "hoverinfo": "text",
         "line": {
          "color": "rgba(128, 128, 128, 0.1)",
          "width": 1
         },
         "mode": "lines",
         "text": "1.0",
         "type": "scatter",
         "x": [
          -0.1203321469905742,
          -0.20297634886068033
         ],
         "y": [
          0.0763339976053082,
          0.18693913882560567
         ]
        },
        {
         "hoverinfo": "text",
         "line": {
          "color": "rgba(128, 128, 128, 0.1)",
          "width": 1
         },
         "mode": "lines",
         "text": "0.5",
         "type": "scatter",
         "x": [
          -0.1203321469905742,
          -0.04029013809870461
         ],
         "y": [
          0.0763339976053082,
          0.02061650287648177
         ]
        },
        {
         "hoverinfo": "text",
         "line": {
          "color": "rgba(128, 128, 128, 0.1)",
          "width": 1
         },
         "mode": "lines",
         "text": "1.0",
         "type": "scatter",
         "x": [
          -0.1203321469905742,
          -0.04940126911688077
         ],
         "y": [
          0.0763339976053082,
          0.09651404384278645
         ]
        },
        {
         "hoverinfo": "text",
         "line": {
          "color": "rgba(128, 128, 128, 0.1)",
          "width": 1
         },
         "mode": "lines",
         "text": "1.0",
         "type": "scatter",
         "x": [
          -0.1203321469905742,
          0.08532296081240384
         ],
         "y": [
          0.0763339976053082,
          -0.012041709630483113
         ]
        },
        {
         "hoverinfo": "text",
         "line": {
          "color": "rgba(128, 128, 128, 0.1)",
          "width": 1
         },
         "mode": "lines",
         "text": "1.0",
         "type": "scatter",
         "x": [
          -0.1203321469905742,
          -0.03936001583320556
         ],
         "y": [
          0.0763339976053082,
          -0.09737039857521942
         ]
        },
        {
         "hoverinfo": "text",
         "line": {
          "color": "rgba(128, 128, 128, 0.1)",
          "width": 1
         },
         "mode": "lines",
         "text": "0.5",
         "type": "scatter",
         "x": [
          -0.04029013809870461,
          -0.04940126911688077
         ],
         "y": [
          0.02061650287648177,
          0.09651404384278645
         ]
        },
        {
         "hoverinfo": "text",
         "line": {
          "color": "rgba(128, 128, 128, 0.1)",
          "width": 1
         },
         "mode": "lines",
         "text": "0.5",
         "type": "scatter",
         "x": [
          -0.04029013809870461,
          0.08532296081240384
         ],
         "y": [
          0.02061650287648177,
          -0.012041709630483113
         ]
        },
        {
         "hoverinfo": "text",
         "line": {
          "color": "rgba(128, 128, 128, 0.1)",
          "width": 1
         },
         "mode": "lines",
         "text": "0.5",
         "type": "scatter",
         "x": [
          -0.04029013809870461,
          -0.03936001583320556
         ],
         "y": [
          0.02061650287648177,
          -0.09737039857521942
         ]
        },
        {
         "hoverinfo": "text",
         "line": {
          "color": "rgba(128, 128, 128, 0.1)",
          "width": 1
         },
         "mode": "lines",
         "text": "0.125",
         "type": "scatter",
         "x": [
          0.0026449758300490615,
          -0.04940126911688077
         ],
         "y": [
          -0.008140028460294475,
          0.09651404384278645
         ]
        },
        {
         "hoverinfo": "text",
         "line": {
          "color": "rgba(128, 128, 128, 0.1)",
          "width": 1
         },
         "mode": "lines",
         "text": "0.5",
         "type": "scatter",
         "x": [
          0.0026449758300490615,
          0.05466675915745448
         ],
         "y": [
          -0.008140028460294475,
          -0.07452750708175072
         ]
        },
        {
         "hoverinfo": "text",
         "line": {
          "color": "rgba(128, 128, 128, 0.1)",
          "width": 1
         },
         "mode": "lines",
         "text": "0.16666666666666666",
         "type": "scatter",
         "x": [
          0.0026449758300490615,
          0.03719026190426883
         ],
         "y": [
          -0.008140028460294475,
          -0.03440182426628215
         ]
        },
        {
         "hoverinfo": "text",
         "line": {
          "color": "rgba(128, 128, 128, 0.1)",
          "width": 1
         },
         "mode": "lines",
         "text": "0.5",
         "type": "scatter",
         "x": [
          0.0026449758300490615,
          0.015862547165238553
         ],
         "y": [
          -0.008140028460294475,
          -0.08038463467503207
         ]
        },
        {
         "hoverinfo": "text",
         "line": {
          "color": "rgba(128, 128, 128, 0.1)",
          "width": 1
         },
         "mode": "lines",
         "text": "0.125",
         "type": "scatter",
         "x": [
          0.0026449758300490615,
          0.08532296081240384
         ],
         "y": [
          -0.008140028460294475,
          -0.012041709630483113
         ]
        },
        {
         "hoverinfo": "text",
         "line": {
          "color": "rgba(128, 128, 128, 0.1)",
          "width": 1
         },
         "mode": "lines",
         "text": "0.125",
         "type": "scatter",
         "x": [
          0.0026449758300490615,
          -0.03936001583320556
         ],
         "y": [
          -0.008140028460294475,
          -0.09737039857521942
         ]
        },
        {
         "hoverinfo": "text",
         "line": {
          "color": "rgba(128, 128, 128, 0.1)",
          "width": 1
         },
         "mode": "lines",
         "text": "0.14285714285714285",
         "type": "scatter",
         "x": [
          0.05466675915745448,
          0.03719026190426883
         ],
         "y": [
          -0.07452750708175072,
          -0.03440182426628215
         ]
        },
        {
         "hoverinfo": "text",
         "line": {
          "color": "rgba(128, 128, 128, 0.1)",
          "width": 1
         },
         "mode": "lines",
         "text": "1.0",
         "type": "scatter",
         "x": [
          0.05466675915745448,
          0.015862547165238553
         ],
         "y": [
          -0.07452750708175072,
          -0.08038463467503207
         ]
        },
        {
         "hoverinfo": "text",
         "line": {
          "color": "rgba(128, 128, 128, 0.1)",
          "width": 1
         },
         "mode": "lines",
         "text": "0.1111111111111111",
         "type": "scatter",
         "x": [
          0.05466675915745448,
          0.08532296081240384
         ],
         "y": [
          -0.07452750708175072,
          -0.012041709630483113
         ]
        },
        {
         "hoverinfo": "text",
         "line": {
          "color": "rgba(128, 128, 128, 0.1)",
          "width": 1
         },
         "mode": "lines",
         "text": "0.1111111111111111",
         "type": "scatter",
         "x": [
          0.05466675915745448,
          -0.03936001583320556
         ],
         "y": [
          -0.07452750708175072,
          -0.09737039857521942
         ]
        },
        {
         "hoverinfo": "text",
         "line": {
          "color": "rgba(128, 128, 128, 0.1)",
          "width": 1
         },
         "mode": "lines",
         "text": "0.3333333333333333",
         "type": "scatter",
         "x": [
          0.03719026190426883,
          0.08532296081240384
         ],
         "y": [
          -0.03440182426628215,
          -0.012041709630483113
         ]
        },
        {
         "hoverinfo": "text",
         "line": {
          "color": "rgba(128, 128, 128, 0.1)",
          "width": 1
         },
         "mode": "lines",
         "text": "0.3333333333333333",
         "type": "scatter",
         "x": [
          0.03719026190426883,
          -0.03936001583320556
         ],
         "y": [
          -0.03440182426628215,
          -0.09737039857521942
         ]
        },
        {
         "hoverinfo": "text",
         "line": {
          "color": "rgba(128, 128, 128, 0.1)",
          "width": 1
         },
         "mode": "lines",
         "text": "0.1111111111111111",
         "type": "scatter",
         "x": [
          0.015862547165238553,
          0.08532296081240384
         ],
         "y": [
          -0.08038463467503207,
          -0.012041709630483113
         ]
        },
        {
         "hoverinfo": "text",
         "line": {
          "color": "rgba(128, 128, 128, 0.1)",
          "width": 1
         },
         "mode": "lines",
         "text": "0.1111111111111111",
         "type": "scatter",
         "x": [
          0.015862547165238553,
          -0.03936001583320556
         ],
         "y": [
          -0.08038463467503207,
          -0.09737039857521942
         ]
        },
        {
         "hoverinfo": "text",
         "line": {
          "color": "rgba(128, 128, 128, 0.1)",
          "width": 1
         },
         "mode": "lines",
         "text": "1.0",
         "type": "scatter",
         "x": [
          0.10869915026731872,
          0.13935595294492717
         ],
         "y": [
          -0.20339682223411076,
          -0.33393696367943215
         ]
        },
        {
         "hoverinfo": "text",
         "line": {
          "color": "rgba(128, 128, 128, 0.1)",
          "width": 1
         },
         "mode": "lines",
         "text": "1.0",
         "type": "scatter",
         "x": [
          0.10869915026731872,
          0.26039027346222837
         ],
         "y": [
          -0.20339682223411076,
          -0.20052479110151572
         ]
        },
        {
         "hoverinfo": "text",
         "line": {
          "color": "rgba(128, 128, 128, 0.1)",
          "width": 1
         },
         "mode": "lines",
         "text": "1.0",
         "type": "scatter",
         "x": [
          0.10869915026731872,
          0.08532296081240384
         ],
         "y": [
          -0.20339682223411076,
          -0.012041709630483113
         ]
        },
        {
         "hoverinfo": "text",
         "line": {
          "color": "rgba(128, 128, 128, 0.1)",
          "width": 1
         },
         "mode": "lines",
         "text": "1.0",
         "type": "scatter",
         "x": [
          0.10869915026731872,
          0.19830431202433105
         ],
         "y": [
          -0.20339682223411076,
          -0.2973813824634891
         ]
        },
        {
         "hoverinfo": "text",
         "line": {
          "color": "rgba(128, 128, 128, 0.1)",
          "width": 1
         },
         "mode": "lines",
         "text": "1.0",
         "type": "scatter",
         "x": [
          0.10869915026731872,
          0.008570759579562364
         ],
         "y": [
          -0.20339682223411076,
          -0.2105015087825045
         ]
        },
        {
         "hoverinfo": "text",
         "line": {
          "color": "rgba(128, 128, 128, 0.1)",
          "width": 1
         },
         "mode": "lines",
         "text": "1.0",
         "type": "scatter",
         "x": [
          0.10869915026731872,
          -0.03936001583320556
         ],
         "y": [
          -0.20339682223411076,
          -0.09737039857521942
         ]
        },
        {
         "hoverinfo": "text",
         "line": {
          "color": "rgba(128, 128, 128, 0.1)",
          "width": 1
         },
         "mode": "lines",
         "text": "1.0",
         "type": "scatter",
         "x": [
          0.10869915026731872,
          0.09091010554453571
         ],
         "y": [
          -0.20339682223411076,
          -0.3346823296174025
         ]
        },
        {
         "hoverinfo": "text",
         "line": {
          "color": "rgba(128, 128, 128, 0.1)",
          "width": 1
         },
         "mode": "lines",
         "text": "1.0",
         "type": "scatter",
         "x": [
          0.13935595294492717,
          0.09091010554453571
         ],
         "y": [
          -0.33393696367943215,
          -0.3346823296174025
         ]
        },
        {
         "hoverinfo": "text",
         "line": {
          "color": "rgba(128, 128, 128, 0.1)",
          "width": 1
         },
         "mode": "lines",
         "text": "1.0",
         "type": "scatter",
         "x": [
          0.26039027346222837,
          0.21563899967860206
         ],
         "y": [
          -0.20052479110151572,
          -0.09392104519463836
         ]
        },
        {
         "hoverinfo": "text",
         "line": {
          "color": "rgba(128, 128, 128, 0.1)",
          "width": 1
         },
         "mode": "lines",
         "text": "1.0",
         "type": "scatter",
         "x": [
          0.26039027346222837,
          0.37605156079029445
         ],
         "y": [
          -0.20052479110151572,
          -0.2538592706809643
         ]
        },
        {
         "hoverinfo": "text",
         "line": {
          "color": "rgba(128, 128, 128, 0.1)",
          "width": 1
         },
         "mode": "lines",
         "text": "1.0",
         "type": "scatter",
         "x": [
          0.08532296081240384,
          0.24756102331286348
         ],
         "y": [
          -0.012041709630483113,
          0.07640918883750153
         ]
        },
        {
         "hoverinfo": "text",
         "line": {
          "color": "rgba(128, 128, 128, 0.1)",
          "width": 1
         },
         "mode": "lines",
         "text": "1.0",
         "type": "scatter",
         "x": [
          0.08532296081240384,
          0.21563899967860206
         ],
         "y": [
          -0.012041709630483113,
          -0.09392104519463836
         ]
        },
        {
         "hoverinfo": "text",
         "line": {
          "color": "rgba(128, 128, 128, 0.1)",
          "width": 1
         },
         "mode": "lines",
         "text": "1.0",
         "type": "scatter",
         "x": [
          0.08532296081240384,
          0.16541824687796045
         ],
         "y": [
          -0.012041709630483113,
          0.0824591456151757
         ]
        },
        {
         "hoverinfo": "text",
         "line": {
          "color": "rgba(128, 128, 128, 0.1)",
          "width": 1
         },
         "mode": "lines",
         "text": "1.0",
         "type": "scatter",
         "x": [
          0.24756102331286348,
          0.3583179045125126
         ],
         "y": [
          0.07640918883750153,
          0.14097172029107072
         ]
        },
        {
         "hoverinfo": "text",
         "line": {
          "color": "rgba(128, 128, 128, 0.1)",
          "width": 1
         },
         "mode": "lines",
         "text": "1.0",
         "type": "scatter",
         "x": [
          0.008570759579562364,
          -0.03936001583320556
         ],
         "y": [
          -0.2105015087825045,
          -0.09737039857521942
         ]
        },
        {
         "hoverinfo": "text",
         "line": {
          "color": "rgba(128, 128, 128, 0.1)",
          "width": 1
         },
         "mode": "lines",
         "text": "1.0",
         "type": "scatter",
         "x": [
          -0.03936001583320556,
          -0.1173148443114023
         ],
         "y": [
          -0.09737039857521942,
          -0.20833803540467175
         ]
        },
        {
         "hoverinfo": "text",
         "line": {
          "color": "rgba(128, 128, 128, 0.1)",
          "width": 1
         },
         "mode": "lines",
         "text": "1.0",
         "type": "scatter",
         "x": [
          -0.03936001583320556,
          -0.1611856606532563
         ],
         "y": [
          -0.09737039857521942,
          -0.1544174738187897
         ]
        },
        {
         "hoverinfo": "text",
         "marker": {
          "color": "blue",
          "size": 10
         },
         "mode": "markers",
         "text": "Enterobacter hormaechei",
         "type": "scatter",
         "x": [
          -0.6914588236656009
         ],
         "y": [
          0.6937671259213628
         ]
        },
        {
         "hoverinfo": "text",
         "marker": {
          "color": "blue",
          "size": 10
         },
         "mode": "markers",
         "text": "synthetic construct",
         "type": "scatter",
         "x": [
          -0.2448563136899791
         ],
         "y": [
          0.14734002900774362
         ]
        },
        {
         "hoverinfo": "text",
         "marker": {
          "color": "blue",
          "size": 10
         },
         "mode": "markers",
         "text": "Shigella sonnei",
         "type": "scatter",
         "x": [
          -0.0811932367392075
         ],
         "y": [
          0.17382567240497152
         ]
        },
        {
         "hoverinfo": "text",
         "marker": {
          "color": "blue",
          "size": 10
         },
         "mode": "markers",
         "text": "Enterobacteriaceae",
         "type": "scatter",
         "x": [
          -0.24901003045346679
         ],
         "y": [
          0.08803189773933258
         ]
        },
        {
         "hoverinfo": "text",
         "marker": {
          "color": "blue",
          "size": 10
         },
         "mode": "markers",
         "text": "Bacteria",
         "type": "scatter",
         "x": [
          -0.1203321469905742
         ],
         "y": [
          0.0763339976053082
         ]
        },
        {
         "hoverinfo": "text",
         "marker": {
          "color": "blue",
          "size": 10
         },
         "mode": "markers",
         "text": "Escherichia coli",
         "type": "scatter",
         "x": [
          -0.14872233118607536
         ],
         "y": [
          0.21452566279960705
         ]
        },
        {
         "hoverinfo": "text",
         "marker": {
          "color": "blue",
          "size": 10
         },
         "mode": "markers",
         "text": "synthetic construct",
         "type": "scatter",
         "x": [
          -0.25034481810980186
         ],
         "y": [
          0.041927515691288705
         ]
        },
        {
         "hoverinfo": "text",
         "marker": {
          "color": "blue",
          "size": 10
         },
         "mode": "markers",
         "text": "Salmonella enterica subsp. enterica serovar Ohio",
         "type": "scatter",
         "x": [
          -0.20297634886068033
         ],
         "y": [
          0.18693913882560567
         ]
        },
        {
         "hoverinfo": "text",
         "marker": {
          "color": "blue",
          "size": 10
         },
         "mode": "markers",
         "text": "Klebsiella pneumoniae",
         "type": "scatter",
         "x": [
          0.38370160070995796
         ],
         "y": [
          0.8963225852254685
         ]
        },
        {
         "hoverinfo": "text",
         "marker": {
          "color": "blue",
          "size": 10
         },
         "mode": "markers",
         "text": "Klebsiella pneumoniae",
         "type": "scatter",
         "x": [
          -0.7475822584708567
         ],
         "y": [
          0.6618414989828777
         ]
        },
        {
         "hoverinfo": "text",
         "marker": {
          "color": "blue",
          "size": 10
         },
         "mode": "markers",
         "text": "Enterobacteriaceae",
         "type": "scatter",
         "x": [
          -0.04029013809870461
         ],
         "y": [
          0.02061650287648177
         ]
        },
        {
         "hoverinfo": "text",
         "marker": {
          "color": "blue",
          "size": 10
         },
         "mode": "markers",
         "text": "Enterobacterales",
         "type": "scatter",
         "x": [
          0.0026449758300490615
         ],
         "y": [
          -0.008140028460294475
         ]
        },
        {
         "hoverinfo": "text",
         "marker": {
          "color": "blue",
          "size": 10
         },
         "mode": "markers",
         "text": "Salmonella enterica",
         "type": "scatter",
         "x": [
          -0.04940126911688077
         ],
         "y": [
          0.09651404384278645
         ]
        },
        {
         "hoverinfo": "text",
         "marker": {
          "color": "blue",
          "size": 10
         },
         "mode": "markers",
         "text": "Escherichia coli",
         "type": "scatter",
         "x": [
          0.05466675915745448
         ],
         "y": [
          -0.07452750708175072
         ]
        },
        {
         "hoverinfo": "text",
         "marker": {
          "color": "blue",
          "size": 10
         },
         "mode": "markers",
         "text": "Pseudomonadota",
         "type": "scatter",
         "x": [
          0.03719026190426883
         ],
         "y": [
          -0.03440182426628215
         ]
        },
        {
         "hoverinfo": "text",
         "marker": {
          "color": "blue",
          "size": 10
         },
         "mode": "markers",
         "text": "Escherichia coli",
         "type": "scatter",
         "x": [
          0.015862547165238553
         ],
         "y": [
          -0.08038463467503207
         ]
        },
        {
         "hoverinfo": "text",
         "marker": {
          "color": "red",
          "size": 10
         },
         "mode": "markers",
         "text": "Escherichia coli",
         "type": "scatter",
         "x": [
          0.10869915026731872
         ],
         "y": [
          -0.20339682223411076
         ]
        },
        {
         "hoverinfo": "text",
         "marker": {
          "color": "red",
          "size": 10
         },
         "mode": "markers",
         "text": "Escherichia coli",
         "type": "scatter",
         "x": [
          0.13935595294492717
         ],
         "y": [
          -0.33393696367943215
         ]
        },
        {
         "hoverinfo": "text",
         "marker": {
          "color": "red",
          "size": 10
         },
         "mode": "markers",
         "text": "Klebsiella pneumoniae",
         "type": "scatter",
         "x": [
          0.26039027346222837
         ],
         "y": [
          -0.20052479110151572
         ]
        },
        {
         "hoverinfo": "text",
         "marker": {
          "color": "red",
          "size": 10
         },
         "mode": "markers",
         "text": "Gammaproteobacteria",
         "type": "scatter",
         "x": [
          0.08532296081240384
         ],
         "y": [
          -0.012041709630483113
         ]
        },
        {
         "hoverinfo": "text",
         "marker": {
          "color": "red",
          "size": 10
         },
         "mode": "markers",
         "text": "Klebsiella pneumoniae",
         "type": "scatter",
         "x": [
          0.19830431202433105
         ],
         "y": [
          -0.2973813824634891
         ]
        },
        {
         "hoverinfo": "text",
         "marker": {
          "color": "red",
          "size": 10
         },
         "mode": "markers",
         "text": "Escherichia coli",
         "type": "scatter",
         "x": [
          0.24756102331286348
         ],
         "y": [
          0.07640918883750153
         ]
        },
        {
         "hoverinfo": "text",
         "marker": {
          "color": "red",
          "size": 10
         },
         "mode": "markers",
         "text": "Proteus mirabilis",
         "type": "scatter",
         "x": [
          0.21563899967860206
         ],
         "y": [
          -0.09392104519463836
         ]
        },
        {
         "hoverinfo": "text",
         "marker": {
          "color": "red",
          "size": 10
         },
         "mode": "markers",
         "text": "Gammaproteobacteria",
         "type": "scatter",
         "x": [
          0.008570759579562364
         ],
         "y": [
          -0.2105015087825045
         ]
        },
        {
         "hoverinfo": "text",
         "marker": {
          "color": "red",
          "size": 10
         },
         "mode": "markers",
         "text": "Capnocytophaga ochracea",
         "type": "scatter",
         "x": [
          -0.03936001583320556
         ],
         "y": [
          -0.09737039857521942
         ]
        },
        {
         "hoverinfo": "text",
         "marker": {
          "color": "red",
          "size": 10
         },
         "mode": "markers",
         "text": "synthetic construct",
         "type": "scatter",
         "x": [
          0.3954208416051821
         ],
         "y": [
          -0.9999999999999999
         ]
        },
        {
         "hoverinfo": "text",
         "marker": {
          "color": "red",
          "size": 10
         },
         "mode": "markers",
         "text": "Klebsiella pneumoniae",
         "type": "scatter",
         "x": [
          0.16541824687796045
         ],
         "y": [
          0.0824591456151757
         ]
        },
        {
         "hoverinfo": "text",
         "marker": {
          "color": "red",
          "size": 10
         },
         "mode": "markers",
         "text": "synthetic construct",
         "type": "scatter",
         "x": [
          -0.1173148443114023
         ],
         "y": [
          -0.20833803540467175
         ]
        },
        {
         "hoverinfo": "text",
         "marker": {
          "color": "red",
          "size": 10
         },
         "mode": "markers",
         "text": "Klebsiella pneumoniae",
         "type": "scatter",
         "x": [
          0.3583179045125126
         ],
         "y": [
          0.14097172029107072
         ]
        },
        {
         "hoverinfo": "text",
         "marker": {
          "color": "red",
          "size": 10
         },
         "mode": "markers",
         "text": "synthetic construct",
         "type": "scatter",
         "x": [
          -0.1611856606532563
         ],
         "y": [
          -0.1544174738187897
         ]
        },
        {
         "hoverinfo": "text",
         "marker": {
          "color": "red",
          "size": 10
         },
         "mode": "markers",
         "text": "Citrobacter koseri",
         "type": "scatter",
         "x": [
          0.37605156079029445
         ],
         "y": [
          -0.2538592706809643
         ]
        },
        {
         "hoverinfo": "text",
         "marker": {
          "color": "red",
          "size": 10
         },
         "mode": "markers",
         "text": "Escherichia coli",
         "type": "scatter",
         "x": [
          0.09091010554453571
         ],
         "y": [
          -0.3346823296174025
         ]
        }
       ],
       "layout": {
        "hovermode": "closest",
        "margin": {
         "b": 0,
         "l": 0,
         "r": 0,
         "t": 0
        },
        "plot_bgcolor": "white",
        "showlegend": false,
        "template": {
         "data": {
          "bar": [
           {
            "error_x": {
             "color": "#2a3f5f"
            },
            "error_y": {
             "color": "#2a3f5f"
            },
            "marker": {
             "line": {
              "color": "#E5ECF6",
              "width": 0.5
             },
             "pattern": {
              "fillmode": "overlay",
              "size": 10,
              "solidity": 0.2
             }
            },
            "type": "bar"
           }
          ],
          "barpolar": [
           {
            "marker": {
             "line": {
              "color": "#E5ECF6",
              "width": 0.5
             },
             "pattern": {
              "fillmode": "overlay",
              "size": 10,
              "solidity": 0.2
             }
            },
            "type": "barpolar"
           }
          ],
          "carpet": [
           {
            "aaxis": {
             "endlinecolor": "#2a3f5f",
             "gridcolor": "white",
             "linecolor": "white",
             "minorgridcolor": "white",
             "startlinecolor": "#2a3f5f"
            },
            "baxis": {
             "endlinecolor": "#2a3f5f",
             "gridcolor": "white",
             "linecolor": "white",
             "minorgridcolor": "white",
             "startlinecolor": "#2a3f5f"
            },
            "type": "carpet"
           }
          ],
          "choropleth": [
           {
            "colorbar": {
             "outlinewidth": 0,
             "ticks": ""
            },
            "type": "choropleth"
           }
          ],
          "contour": [
           {
            "colorbar": {
             "outlinewidth": 0,
             "ticks": ""
            },
            "colorscale": [
             [
              0,
              "#0d0887"
             ],
             [
              0.1111111111111111,
              "#46039f"
             ],
             [
              0.2222222222222222,
              "#7201a8"
             ],
             [
              0.3333333333333333,
              "#9c179e"
             ],
             [
              0.4444444444444444,
              "#bd3786"
             ],
             [
              0.5555555555555556,
              "#d8576b"
             ],
             [
              0.6666666666666666,
              "#ed7953"
             ],
             [
              0.7777777777777778,
              "#fb9f3a"
             ],
             [
              0.8888888888888888,
              "#fdca26"
             ],
             [
              1,
              "#f0f921"
             ]
            ],
            "type": "contour"
           }
          ],
          "contourcarpet": [
           {
            "colorbar": {
             "outlinewidth": 0,
             "ticks": ""
            },
            "type": "contourcarpet"
           }
          ],
          "heatmap": [
           {
            "colorbar": {
             "outlinewidth": 0,
             "ticks": ""
            },
            "colorscale": [
             [
              0,
              "#0d0887"
             ],
             [
              0.1111111111111111,
              "#46039f"
             ],
             [
              0.2222222222222222,
              "#7201a8"
             ],
             [
              0.3333333333333333,
              "#9c179e"
             ],
             [
              0.4444444444444444,
              "#bd3786"
             ],
             [
              0.5555555555555556,
              "#d8576b"
             ],
             [
              0.6666666666666666,
              "#ed7953"
             ],
             [
              0.7777777777777778,
              "#fb9f3a"
             ],
             [
              0.8888888888888888,
              "#fdca26"
             ],
             [
              1,
              "#f0f921"
             ]
            ],
            "type": "heatmap"
           }
          ],
          "heatmapgl": [
           {
            "colorbar": {
             "outlinewidth": 0,
             "ticks": ""
            },
            "colorscale": [
             [
              0,
              "#0d0887"
             ],
             [
              0.1111111111111111,
              "#46039f"
             ],
             [
              0.2222222222222222,
              "#7201a8"
             ],
             [
              0.3333333333333333,
              "#9c179e"
             ],
             [
              0.4444444444444444,
              "#bd3786"
             ],
             [
              0.5555555555555556,
              "#d8576b"
             ],
             [
              0.6666666666666666,
              "#ed7953"
             ],
             [
              0.7777777777777778,
              "#fb9f3a"
             ],
             [
              0.8888888888888888,
              "#fdca26"
             ],
             [
              1,
              "#f0f921"
             ]
            ],
            "type": "heatmapgl"
           }
          ],
          "histogram": [
           {
            "marker": {
             "pattern": {
              "fillmode": "overlay",
              "size": 10,
              "solidity": 0.2
             }
            },
            "type": "histogram"
           }
          ],
          "histogram2d": [
           {
            "colorbar": {
             "outlinewidth": 0,
             "ticks": ""
            },
            "colorscale": [
             [
              0,
              "#0d0887"
             ],
             [
              0.1111111111111111,
              "#46039f"
             ],
             [
              0.2222222222222222,
              "#7201a8"
             ],
             [
              0.3333333333333333,
              "#9c179e"
             ],
             [
              0.4444444444444444,
              "#bd3786"
             ],
             [
              0.5555555555555556,
              "#d8576b"
             ],
             [
              0.6666666666666666,
              "#ed7953"
             ],
             [
              0.7777777777777778,
              "#fb9f3a"
             ],
             [
              0.8888888888888888,
              "#fdca26"
             ],
             [
              1,
              "#f0f921"
             ]
            ],
            "type": "histogram2d"
           }
          ],
          "histogram2dcontour": [
           {
            "colorbar": {
             "outlinewidth": 0,
             "ticks": ""
            },
            "colorscale": [
             [
              0,
              "#0d0887"
             ],
             [
              0.1111111111111111,
              "#46039f"
             ],
             [
              0.2222222222222222,
              "#7201a8"
             ],
             [
              0.3333333333333333,
              "#9c179e"
             ],
             [
              0.4444444444444444,
              "#bd3786"
             ],
             [
              0.5555555555555556,
              "#d8576b"
             ],
             [
              0.6666666666666666,
              "#ed7953"
             ],
             [
              0.7777777777777778,
              "#fb9f3a"
             ],
             [
              0.8888888888888888,
              "#fdca26"
             ],
             [
              1,
              "#f0f921"
             ]
            ],
            "type": "histogram2dcontour"
           }
          ],
          "mesh3d": [
           {
            "colorbar": {
             "outlinewidth": 0,
             "ticks": ""
            },
            "type": "mesh3d"
           }
          ],
          "parcoords": [
           {
            "line": {
             "colorbar": {
              "outlinewidth": 0,
              "ticks": ""
             }
            },
            "type": "parcoords"
           }
          ],
          "pie": [
           {
            "automargin": true,
            "type": "pie"
           }
          ],
          "scatter": [
           {
            "fillpattern": {
             "fillmode": "overlay",
             "size": 10,
             "solidity": 0.2
            },
            "type": "scatter"
           }
          ],
          "scatter3d": [
           {
            "line": {
             "colorbar": {
              "outlinewidth": 0,
              "ticks": ""
             }
            },
            "marker": {
             "colorbar": {
              "outlinewidth": 0,
              "ticks": ""
             }
            },
            "type": "scatter3d"
           }
          ],
          "scattercarpet": [
           {
            "marker": {
             "colorbar": {
              "outlinewidth": 0,
              "ticks": ""
             }
            },
            "type": "scattercarpet"
           }
          ],
          "scattergeo": [
           {
            "marker": {
             "colorbar": {
              "outlinewidth": 0,
              "ticks": ""
             }
            },
            "type": "scattergeo"
           }
          ],
          "scattergl": [
           {
            "marker": {
             "colorbar": {
              "outlinewidth": 0,
              "ticks": ""
             }
            },
            "type": "scattergl"
           }
          ],
          "scattermapbox": [
           {
            "marker": {
             "colorbar": {
              "outlinewidth": 0,
              "ticks": ""
             }
            },
            "type": "scattermapbox"
           }
          ],
          "scatterpolar": [
           {
            "marker": {
             "colorbar": {
              "outlinewidth": 0,
              "ticks": ""
             }
            },
            "type": "scatterpolar"
           }
          ],
          "scatterpolargl": [
           {
            "marker": {
             "colorbar": {
              "outlinewidth": 0,
              "ticks": ""
             }
            },
            "type": "scatterpolargl"
           }
          ],
          "scatterternary": [
           {
            "marker": {
             "colorbar": {
              "outlinewidth": 0,
              "ticks": ""
             }
            },
            "type": "scatterternary"
           }
          ],
          "surface": [
           {
            "colorbar": {
             "outlinewidth": 0,
             "ticks": ""
            },
            "colorscale": [
             [
              0,
              "#0d0887"
             ],
             [
              0.1111111111111111,
              "#46039f"
             ],
             [
              0.2222222222222222,
              "#7201a8"
             ],
             [
              0.3333333333333333,
              "#9c179e"
             ],
             [
              0.4444444444444444,
              "#bd3786"
             ],
             [
              0.5555555555555556,
              "#d8576b"
             ],
             [
              0.6666666666666666,
              "#ed7953"
             ],
             [
              0.7777777777777778,
              "#fb9f3a"
             ],
             [
              0.8888888888888888,
              "#fdca26"
             ],
             [
              1,
              "#f0f921"
             ]
            ],
            "type": "surface"
           }
          ],
          "table": [
           {
            "cells": {
             "fill": {
              "color": "#EBF0F8"
             },
             "line": {
              "color": "white"
             }
            },
            "header": {
             "fill": {
              "color": "#C8D4E3"
             },
             "line": {
              "color": "white"
             }
            },
            "type": "table"
           }
          ]
         },
         "layout": {
          "annotationdefaults": {
           "arrowcolor": "#2a3f5f",
           "arrowhead": 0,
           "arrowwidth": 1
          },
          "autotypenumbers": "strict",
          "coloraxis": {
           "colorbar": {
            "outlinewidth": 0,
            "ticks": ""
           }
          },
          "colorscale": {
           "diverging": [
            [
             0,
             "#8e0152"
            ],
            [
             0.1,
             "#c51b7d"
            ],
            [
             0.2,
             "#de77ae"
            ],
            [
             0.3,
             "#f1b6da"
            ],
            [
             0.4,
             "#fde0ef"
            ],
            [
             0.5,
             "#f7f7f7"
            ],
            [
             0.6,
             "#e6f5d0"
            ],
            [
             0.7,
             "#b8e186"
            ],
            [
             0.8,
             "#7fbc41"
            ],
            [
             0.9,
             "#4d9221"
            ],
            [
             1,
             "#276419"
            ]
           ],
           "sequential": [
            [
             0,
             "#0d0887"
            ],
            [
             0.1111111111111111,
             "#46039f"
            ],
            [
             0.2222222222222222,
             "#7201a8"
            ],
            [
             0.3333333333333333,
             "#9c179e"
            ],
            [
             0.4444444444444444,
             "#bd3786"
            ],
            [
             0.5555555555555556,
             "#d8576b"
            ],
            [
             0.6666666666666666,
             "#ed7953"
            ],
            [
             0.7777777777777778,
             "#fb9f3a"
            ],
            [
             0.8888888888888888,
             "#fdca26"
            ],
            [
             1,
             "#f0f921"
            ]
           ],
           "sequentialminus": [
            [
             0,
             "#0d0887"
            ],
            [
             0.1111111111111111,
             "#46039f"
            ],
            [
             0.2222222222222222,
             "#7201a8"
            ],
            [
             0.3333333333333333,
             "#9c179e"
            ],
            [
             0.4444444444444444,
             "#bd3786"
            ],
            [
             0.5555555555555556,
             "#d8576b"
            ],
            [
             0.6666666666666666,
             "#ed7953"
            ],
            [
             0.7777777777777778,
             "#fb9f3a"
            ],
            [
             0.8888888888888888,
             "#fdca26"
            ],
            [
             1,
             "#f0f921"
            ]
           ]
          },
          "colorway": [
           "#636efa",
           "#EF553B",
           "#00cc96",
           "#ab63fa",
           "#FFA15A",
           "#19d3f3",
           "#FF6692",
           "#B6E880",
           "#FF97FF",
           "#FECB52"
          ],
          "font": {
           "color": "#2a3f5f"
          },
          "geo": {
           "bgcolor": "white",
           "lakecolor": "white",
           "landcolor": "#E5ECF6",
           "showlakes": true,
           "showland": true,
           "subunitcolor": "white"
          },
          "hoverlabel": {
           "align": "left"
          },
          "hovermode": "closest",
          "mapbox": {
           "style": "light"
          },
          "paper_bgcolor": "white",
          "plot_bgcolor": "#E5ECF6",
          "polar": {
           "angularaxis": {
            "gridcolor": "white",
            "linecolor": "white",
            "ticks": ""
           },
           "bgcolor": "#E5ECF6",
           "radialaxis": {
            "gridcolor": "white",
            "linecolor": "white",
            "ticks": ""
           }
          },
          "scene": {
           "xaxis": {
            "backgroundcolor": "#E5ECF6",
            "gridcolor": "white",
            "gridwidth": 2,
            "linecolor": "white",
            "showbackground": true,
            "ticks": "",
            "zerolinecolor": "white"
           },
           "yaxis": {
            "backgroundcolor": "#E5ECF6",
            "gridcolor": "white",
            "gridwidth": 2,
            "linecolor": "white",
            "showbackground": true,
            "ticks": "",
            "zerolinecolor": "white"
           },
           "zaxis": {
            "backgroundcolor": "#E5ECF6",
            "gridcolor": "white",
            "gridwidth": 2,
            "linecolor": "white",
            "showbackground": true,
            "ticks": "",
            "zerolinecolor": "white"
           }
          },
          "shapedefaults": {
           "line": {
            "color": "#2a3f5f"
           }
          },
          "ternary": {
           "aaxis": {
            "gridcolor": "white",
            "linecolor": "white",
            "ticks": ""
           },
           "baxis": {
            "gridcolor": "white",
            "linecolor": "white",
            "ticks": ""
           },
           "bgcolor": "#E5ECF6",
           "caxis": {
            "gridcolor": "white",
            "linecolor": "white",
            "ticks": ""
           }
          },
          "title": {
           "x": 0.05
          },
          "xaxis": {
           "automargin": true,
           "gridcolor": "white",
           "linecolor": "white",
           "ticks": "",
           "title": {
            "standoff": 15
           },
           "zerolinecolor": "white",
           "zerolinewidth": 2
          },
          "yaxis": {
           "automargin": true,
           "gridcolor": "white",
           "linecolor": "white",
           "ticks": "",
           "title": {
            "standoff": 15
           },
           "zerolinecolor": "white",
           "zerolinewidth": 2
          }
         }
        },
        "xaxis": {
         "visible": false
        },
        "yaxis": {
         "visible": false
        }
       }
      }
     },
     "metadata": {},
     "output_type": "display_data"
    }
   ],
   "source": [
    "pairwise_network(\n",
    "    alignments=alignments,\n",
    "    weight=\"identity\",\n",
    "    color=\"name\",\n",
    "    label=\"organism\",\n",
    "    cutoff=0.996,\n",
    ")"
   ]
  }
 ],
 "metadata": {
  "kernelspec": {
   "display_name": "pye",
   "language": "python",
   "name": "python3"
  },
  "language_info": {
   "codemirror_mode": {
    "name": "ipython",
    "version": 3
   },
   "file_extension": ".py",
   "mimetype": "text/x-python",
   "name": "python",
   "nbconvert_exporter": "python",
   "pygments_lexer": "ipython3",
   "version": "3.10.13"
  }
 },
 "nbformat": 4,
 "nbformat_minor": 2
}
