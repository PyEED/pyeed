{
 "cells": [
  {
   "cell_type": "code",
   "execution_count": 3,
   "metadata": {},
   "outputs": [],
   "source": [
    "from pyEED.core import ProteinInfo\n",
    "from pyEED.alignment.pairwise import multi_pairwise_alignment\n",
    "from pyEED.network import pairwise_network\n",
    "from pyEED.ncbi.utils import load_accessions"
   ]
  },
  {
   "cell_type": "markdown",
   "metadata": {},
   "source": [
    "# Visualize networks of pairwise sequence alignments\n",
    "\n",
    "In the following example, a protein BLAST search is conducted based on TEM-1 and TEM-109 variant of beta-lactamase. After pairwise alignment of all sequences, a network is constructed based on the alignment scores and then visualized.\n",
    "\n",
    "## PBLAST search for seed sequences\n",
    "\n",
    "Results from the BLAST search are renamed based to the name of query protein variant."
   ]
  },
  {
   "cell_type": "code",
   "execution_count": 4,
   "metadata": {},
   "outputs": [
    {
     "name": "stdout",
     "output_type": "stream",
     "text": [
      "🏃🏼‍♀️ Running PBLAST\n",
      "╭── protein name: TEM family beta-lactamase\n",
      "├── accession: QGC48744.1\n",
      "├── organism: Escherichia coli\n",
      "├── e-value: 0.05\n",
      "╰── max hits: 50\n"
     ]
    },
    {
     "name": "stderr",
     "output_type": "stream",
     "text": [
      "⬇️ Fetching protein sequences: 100%|██████████| 50/50 [02:21<00:00,  2.83s/it]"
     ]
    },
    {
     "name": "stdout",
     "output_type": "stream",
     "text": [
      "🎉 Done\n",
      "\n"
     ]
    },
    {
     "name": "stderr",
     "output_type": "stream",
     "text": [
      "\n"
     ]
    }
   ],
   "source": [
    "tem1 = ProteinInfo.from_ncbi(\"QGC48744.1\")\n",
    "tem109 = ProteinInfo.from_ncbi(\"AAT46413.1\")\n",
    "\n",
    "blast_results = []\n",
    "for tem in [tem1, tem109]:\n",
    "    sequences = tem.pblast(\n",
    "        e_value=0.05, n_hits=50, api_key=\"161e6eb71dcc94511d2d0e2fc5336c1af709\"\n",
    "    )\n",
    "\n",
    "    for sequence in sequences:\n",
    "        sequence.name = tem.name\n",
    "\n",
    "    blast_results.extend(sequences)\n",
    "    blast_results.append(tem)"
   ]
  },
  {
   "cell_type": "markdown",
   "metadata": {},
   "source": [
    "## Pairwise alignment of unique sequence pairs"
   ]
  },
  {
   "cell_type": "code",
   "execution_count": 9,
   "metadata": {},
   "outputs": [
    {
     "name": "stderr",
     "output_type": "stream",
     "text": [
      "⛓️ Aligning sequences:   0%|          | 0/1275 [00:00<?, ?it/s]"
     ]
    },
    {
     "name": "stderr",
     "output_type": "stream",
     "text": [
      "⛓️ Aligning sequences: 100%|██████████| 1275/1275 [00:00<00:00, 5052.69it/s]\n"
     ]
    }
   ],
   "source": [
    "alignments = multi_pairwise_alignment(\n",
    "    blast_results,\n",
    "    mode=\"global\",\n",
    "    match=1,\n",
    "    mismatch=-1,\n",
    "    gap_open=-1,\n",
    "    gap_extend=0,\n",
    "    n_jobs=8,\n",
    ")"
   ]
  },
  {
   "cell_type": "markdown",
   "metadata": {},
   "source": [
    "## Visualize the alignment network"
   ]
  },
  {
   "cell_type": "code",
   "execution_count": 23,
   "metadata": {},
   "outputs": [
    {
     "name": "stdout",
     "output_type": "stream",
     "text": [
      "{'TEM family beta-lactamase': 'blue'}\n"
     ]
    },
    {
     "data": {
      "application/vnd.plotly.v1+json": {
       "config": {
        "plotlyServerURL": "https://plot.ly"
       },
       "data": [
        {
         "hoverinfo": "text",
         "line": {
          "color": "rgba(128, 128, 128, 0.1)",
          "width": 1
         },
         "mode": "lines",
         "text": "0.07692307692307693",
         "type": "scatter",
         "x": [
          -0.2583523167209436,
          -1
         ],
         "y": [
          -0.166410643615053,
          -0.37123851121904544
         ]
        },
        {
         "hoverinfo": "text",
         "line": {
          "color": "rgba(128, 128, 128, 0.1)",
          "width": 1
         },
         "mode": "lines",
         "text": "0.2",
         "type": "scatter",
         "x": [
          -0.2583523167209436,
          0.13207073494988414
         ],
         "y": [
          -0.166410643615053,
          -0.17113014055814904
         ]
        },
        {
         "hoverinfo": "text",
         "line": {
          "color": "rgba(128, 128, 128, 0.1)",
          "width": 1
         },
         "mode": "lines",
         "text": "0.2",
         "type": "scatter",
         "x": [
          -0.2583523167209436,
          -0.010014981705735232
         ],
         "y": [
          -0.166410643615053,
          -0.17904649574108236
         ]
        },
        {
         "hoverinfo": "text",
         "line": {
          "color": "rgba(128, 128, 128, 0.1)",
          "width": 1
         },
         "mode": "lines",
         "text": "0.2",
         "type": "scatter",
         "x": [
          -0.2583523167209436,
          -0.1478754943400885
         ],
         "y": [
          -0.166410643615053,
          -0.05958755541398896
         ]
        },
        {
         "hoverinfo": "text",
         "line": {
          "color": "rgba(128, 128, 128, 0.1)",
          "width": 1
         },
         "mode": "lines",
         "text": "0.2",
         "type": "scatter",
         "x": [
          -0.2583523167209436,
          -0.16560984773244175
         ],
         "y": [
          -0.166410643615053,
          -0.09578833518448984
         ]
        },
        {
         "hoverinfo": "text",
         "line": {
          "color": "rgba(128, 128, 128, 0.1)",
          "width": 1
         },
         "mode": "lines",
         "text": "0.2",
         "type": "scatter",
         "x": [
          -0.2583523167209436,
          0.03707860110223772
         ],
         "y": [
          -0.166410643615053,
          0.00854583238404772
         ]
        },
        {
         "hoverinfo": "text",
         "line": {
          "color": "rgba(128, 128, 128, 0.1)",
          "width": 1
         },
         "mode": "lines",
         "text": "0.2",
         "type": "scatter",
         "x": [
          -0.2583523167209436,
          0.04744752919388708
         ],
         "y": [
          -0.166410643615053,
          0.10862272596487159
         ]
        },
        {
         "hoverinfo": "text",
         "line": {
          "color": "rgba(128, 128, 128, 0.1)",
          "width": 1
         },
         "mode": "lines",
         "text": "0.2",
         "type": "scatter",
         "x": [
          -0.2583523167209436,
          0.13253592542256595
         ],
         "y": [
          -0.166410643615053,
          0.009048390466498206
         ]
        },
        {
         "hoverinfo": "text",
         "line": {
          "color": "rgba(128, 128, 128, 0.1)",
          "width": 1
         },
         "mode": "lines",
         "text": "0.2",
         "type": "scatter",
         "x": [
          -0.2583523167209436,
          -0.057865789733090485
         ],
         "y": [
          -0.166410643615053,
          -0.16208756461034668
         ]
        },
        {
         "hoverinfo": "text",
         "line": {
          "color": "rgba(128, 128, 128, 0.1)",
          "width": 1
         },
         "mode": "lines",
         "text": "0.2",
         "type": "scatter",
         "x": [
          -0.2583523167209436,
          -0.07466938126855868
         ],
         "y": [
          -0.166410643615053,
          -0.11999046444602385
         ]
        },
        {
         "hoverinfo": "text",
         "line": {
          "color": "rgba(128, 128, 128, 0.1)",
          "width": 1
         },
         "mode": "lines",
         "text": "0.2",
         "type": "scatter",
         "x": [
          -0.2583523167209436,
          -0.09384834518561819
         ],
         "y": [
          -0.166410643615053,
          0.024450807633515183
         ]
        },
        {
         "hoverinfo": "text",
         "line": {
          "color": "rgba(128, 128, 128, 0.1)",
          "width": 1
         },
         "mode": "lines",
         "text": "0.2",
         "type": "scatter",
         "x": [
          -0.2583523167209436,
          -0.1378008616166141
         ],
         "y": [
          -0.166410643615053,
          0.007535428796133289
         ]
        },
        {
         "hoverinfo": "text",
         "line": {
          "color": "rgba(128, 128, 128, 0.1)",
          "width": 1
         },
         "mode": "lines",
         "text": "0.2",
         "type": "scatter",
         "x": [
          -0.2583523167209436,
          -0.09323660092102859
         ],
         "y": [
          -0.166410643615053,
          -0.07360207809045516
         ]
        },
        {
         "hoverinfo": "text",
         "line": {
          "color": "rgba(128, 128, 128, 0.1)",
          "width": 1
         },
         "mode": "lines",
         "text": "0.2",
         "type": "scatter",
         "x": [
          -0.2583523167209436,
          0.1685312976731628
         ],
         "y": [
          -0.166410643615053,
          -0.117055298414665
         ]
        },
        {
         "hoverinfo": "text",
         "line": {
          "color": "rgba(128, 128, 128, 0.1)",
          "width": 1
         },
         "mode": "lines",
         "text": "0.2",
         "type": "scatter",
         "x": [
          -0.2583523167209436,
          -0.02390725817653629
         ],
         "y": [
          -0.166410643615053,
          -0.03215261167696534
         ]
        },
        {
         "hoverinfo": "text",
         "line": {
          "color": "rgba(128, 128, 128, 0.1)",
          "width": 1
         },
         "mode": "lines",
         "text": "0.14285714285714285",
         "type": "scatter",
         "x": [
          -0.2583523167209436,
          -0.16344201769829808
         ],
         "y": [
          -0.166410643615053,
          0.0429638835733472
         ]
        },
        {
         "hoverinfo": "text",
         "line": {
          "color": "rgba(128, 128, 128, 0.1)",
          "width": 1
         },
         "mode": "lines",
         "text": "0.2",
         "type": "scatter",
         "x": [
          -0.2583523167209436,
          -0.019578528041053832
         ],
         "y": [
          -0.166410643615053,
          -0.1014197181777017
         ]
        },
        {
         "hoverinfo": "text",
         "line": {
          "color": "rgba(128, 128, 128, 0.1)",
          "width": 1
         },
         "mode": "lines",
         "text": "0.2",
         "type": "scatter",
         "x": [
          -0.2583523167209436,
          -0.032465231272888105
         ],
         "y": [
          -0.166410643615053,
          -0.2182550854092832
         ]
        },
        {
         "hoverinfo": "text",
         "line": {
          "color": "rgba(128, 128, 128, 0.1)",
          "width": 1
         },
         "mode": "lines",
         "text": "0.2",
         "type": "scatter",
         "x": [
          -0.2583523167209436,
          0.04648405342682209
         ],
         "y": [
          -0.166410643615053,
          -0.10445288949657033
         ]
        },
        {
         "hoverinfo": "text",
         "line": {
          "color": "rgba(128, 128, 128, 0.1)",
          "width": 1
         },
         "mode": "lines",
         "text": "0.2",
         "type": "scatter",
         "x": [
          -0.2583523167209436,
          0.14845479866159975
         ],
         "y": [
          -0.166410643615053,
          -0.042722723058193156
         ]
        },
        {
         "hoverinfo": "text",
         "line": {
          "color": "rgba(128, 128, 128, 0.1)",
          "width": 1
         },
         "mode": "lines",
         "text": "0.2",
         "type": "scatter",
         "x": [
          -0.2583523167209436,
          -0.16620124598482677
         ],
         "y": [
          -0.166410643615053,
          -0.01909129302872234
         ]
        },
        {
         "hoverinfo": "text",
         "line": {
          "color": "rgba(128, 128, 128, 0.1)",
          "width": 1
         },
         "mode": "lines",
         "text": "0.16666666666666666",
         "type": "scatter",
         "x": [
          -0.2583523167209436,
          0.005294593386108596
         ],
         "y": [
          -0.166410643615053,
          0.13730846316385836
         ]
        },
        {
         "hoverinfo": "text",
         "line": {
          "color": "rgba(128, 128, 128, 0.1)",
          "width": 1
         },
         "mode": "lines",
         "text": "0.2",
         "type": "scatter",
         "x": [
          -0.2583523167209436,
          -0.12776709487089863
         ],
         "y": [
          -0.166410643615053,
          -0.13201843882764794
         ]
        },
        {
         "hoverinfo": "text",
         "line": {
          "color": "rgba(128, 128, 128, 0.1)",
          "width": 1
         },
         "mode": "lines",
         "text": "0.2",
         "type": "scatter",
         "x": [
          -0.2583523167209436,
          0.038865278775735576
         ],
         "y": [
          -0.166410643615053,
          -0.20376826594898925
         ]
        },
        {
         "hoverinfo": "text",
         "line": {
          "color": "rgba(128, 128, 128, 0.1)",
          "width": 1
         },
         "mode": "lines",
         "text": "0.2",
         "type": "scatter",
         "x": [
          -0.2583523167209436,
          0.08165673758741265
         ],
         "y": [
          -0.166410643615053,
          -0.16334315634167867
         ]
        },
        {
         "hoverinfo": "text",
         "line": {
          "color": "rgba(128, 128, 128, 0.1)",
          "width": 1
         },
         "mode": "lines",
         "text": "0.16666666666666666",
         "type": "scatter",
         "x": [
          -0.2583523167209436,
          0.11815707188034474
         ],
         "y": [
          -0.166410643615053,
          -0.07442264680581974
         ]
        },
        {
         "hoverinfo": "text",
         "line": {
          "color": "rgba(128, 128, 128, 0.1)",
          "width": 1
         },
         "mode": "lines",
         "text": "0.2",
         "type": "scatter",
         "x": [
          -0.2583523167209436,
          -0.1259222814179488
         ],
         "y": [
          -0.166410643615053,
          0.10384437114009124
         ]
        },
        {
         "hoverinfo": "text",
         "line": {
          "color": "rgba(128, 128, 128, 0.1)",
          "width": 1
         },
         "mode": "lines",
         "text": "0.2",
         "type": "scatter",
         "x": [
          -0.2583523167209436,
          -0.016023919840118115
         ],
         "y": [
          -0.166410643615053,
          0.06551360928329812
         ]
        },
        {
         "hoverinfo": "text",
         "line": {
          "color": "rgba(128, 128, 128, 0.1)",
          "width": 1
         },
         "mode": "lines",
         "text": "0.2",
         "type": "scatter",
         "x": [
          -0.2583523167209436,
          0.1033115932177682
         ],
         "y": [
          -0.166410643615053,
          0.07607086985225013
         ]
        },
        {
         "hoverinfo": "text",
         "line": {
          "color": "rgba(128, 128, 128, 0.1)",
          "width": 1
         },
         "mode": "lines",
         "text": "0.08333333333333333",
         "type": "scatter",
         "x": [
          0.14016843493274075,
          -0.04788583108779725
         ],
         "y": [
          0.14445909161881915,
          0.10005136769890415
         ]
        },
        {
         "hoverinfo": "text",
         "line": {
          "color": "rgba(128, 128, 128, 0.1)",
          "width": 1
         },
         "mode": "lines",
         "text": "0.08333333333333333",
         "type": "scatter",
         "x": [
          0.14016843493274075,
          0.13207073494988414
         ],
         "y": [
          0.14445909161881915,
          -0.17113014055814904
         ]
        },
        {
         "hoverinfo": "text",
         "line": {
          "color": "rgba(128, 128, 128, 0.1)",
          "width": 1
         },
         "mode": "lines",
         "text": "0.1",
         "type": "scatter",
         "x": [
          0.14016843493274075,
          0.03413611857295227
         ],
         "y": [
          0.14445909161881915,
          -0.045261707280717836
         ]
        },
        {
         "hoverinfo": "text",
         "line": {
          "color": "rgba(128, 128, 128, 0.1)",
          "width": 1
         },
         "mode": "lines",
         "text": "0.1",
         "type": "scatter",
         "x": [
          0.14016843493274075,
          -0.010014981705735232
         ],
         "y": [
          0.14445909161881915,
          -0.17904649574108236
         ]
        },
        {
         "hoverinfo": "text",
         "line": {
          "color": "rgba(128, 128, 128, 0.1)",
          "width": 1
         },
         "mode": "lines",
         "text": "0.1",
         "type": "scatter",
         "x": [
          0.14016843493274075,
          -0.1478754943400885
         ],
         "y": [
          0.14445909161881915,
          -0.05958755541398896
         ]
        },
        {
         "hoverinfo": "text",
         "line": {
          "color": "rgba(128, 128, 128, 0.1)",
          "width": 1
         },
         "mode": "lines",
         "text": "0.1",
         "type": "scatter",
         "x": [
          0.14016843493274075,
          -0.16560984773244175
         ],
         "y": [
          0.14445909161881915,
          -0.09578833518448984
         ]
        },
        {
         "hoverinfo": "text",
         "line": {
          "color": "rgba(128, 128, 128, 0.1)",
          "width": 1
         },
         "mode": "lines",
         "text": "0.1",
         "type": "scatter",
         "x": [
          0.14016843493274075,
          0.03707860110223772
         ],
         "y": [
          0.14445909161881915,
          0.00854583238404772
         ]
        },
        {
         "hoverinfo": "text",
         "line": {
          "color": "rgba(128, 128, 128, 0.1)",
          "width": 1
         },
         "mode": "lines",
         "text": "0.1",
         "type": "scatter",
         "x": [
          0.14016843493274075,
          0.04744752919388708
         ],
         "y": [
          0.14445909161881915,
          0.10862272596487159
         ]
        },
        {
         "hoverinfo": "text",
         "line": {
          "color": "rgba(128, 128, 128, 0.1)",
          "width": 1
         },
         "mode": "lines",
         "text": "0.1",
         "type": "scatter",
         "x": [
          0.14016843493274075,
          0.13253592542256595
         ],
         "y": [
          0.14445909161881915,
          0.009048390466498206
         ]
        },
        {
         "hoverinfo": "text",
         "line": {
          "color": "rgba(128, 128, 128, 0.1)",
          "width": 1
         },
         "mode": "lines",
         "text": "0.08333333333333333",
         "type": "scatter",
         "x": [
          0.14016843493274075,
          -0.0722360939739467
         ],
         "y": [
          0.14445909161881915,
          -0.02327822460820892
         ]
        },
        {
         "hoverinfo": "text",
         "line": {
          "color": "rgba(128, 128, 128, 0.1)",
          "width": 1
         },
         "mode": "lines",
         "text": "0.1",
         "type": "scatter",
         "x": [
          0.14016843493274075,
          -0.057865789733090485
         ],
         "y": [
          0.14445909161881915,
          -0.16208756461034668
         ]
        },
        {
         "hoverinfo": "text",
         "line": {
          "color": "rgba(128, 128, 128, 0.1)",
          "width": 1
         },
         "mode": "lines",
         "text": "0.1",
         "type": "scatter",
         "x": [
          0.14016843493274075,
          0.03528399353489137
         ],
         "y": [
          0.14445909161881915,
          0.06629787652916196
         ]
        },
        {
         "hoverinfo": "text",
         "line": {
          "color": "rgba(128, 128, 128, 0.1)",
          "width": 1
         },
         "mode": "lines",
         "text": "0.1",
         "type": "scatter",
         "x": [
          0.14016843493274075,
          -0.07466938126855868
         ],
         "y": [
          0.14445909161881915,
          -0.11999046444602385
         ]
        },
        {
         "hoverinfo": "text",
         "line": {
          "color": "rgba(128, 128, 128, 0.1)",
          "width": 1
         },
         "mode": "lines",
         "text": "0.1",
         "type": "scatter",
         "x": [
          0.14016843493274075,
          -0.09384834518561819
         ],
         "y": [
          0.14445909161881915,
          0.024450807633515183
         ]
        },
        {
         "hoverinfo": "text",
         "line": {
          "color": "rgba(128, 128, 128, 0.1)",
          "width": 1
         },
         "mode": "lines",
         "text": "0.1",
         "type": "scatter",
         "x": [
          0.14016843493274075,
          -0.1378008616166141
         ],
         "y": [
          0.14445909161881915,
          0.007535428796133289
         ]
        },
        {
         "hoverinfo": "text",
         "line": {
          "color": "rgba(128, 128, 128, 0.1)",
          "width": 1
         },
         "mode": "lines",
         "text": "0.08333333333333333",
         "type": "scatter",
         "x": [
          0.14016843493274075,
          -0.0949504079612341
         ],
         "y": [
          0.14445909161881915,
          -0.19337885839804358
         ]
        },
        {
         "hoverinfo": "text",
         "line": {
          "color": "rgba(128, 128, 128, 0.1)",
          "width": 1
         },
         "mode": "lines",
         "text": "0.1",
         "type": "scatter",
         "x": [
          0.14016843493274075,
          0.20147609498213323
         ],
         "y": [
          0.14445909161881915,
          -0.048153245566312
         ]
        },
        {
         "hoverinfo": "text",
         "line": {
          "color": "rgba(128, 128, 128, 0.1)",
          "width": 1
         },
         "mode": "lines",
         "text": "0.1",
         "type": "scatter",
         "x": [
          0.14016843493274075,
          -0.09323660092102859
         ],
         "y": [
          0.14445909161881915,
          -0.07360207809045516
         ]
        },
        {
         "hoverinfo": "text",
         "line": {
          "color": "rgba(128, 128, 128, 0.1)",
          "width": 1
         },
         "mode": "lines",
         "text": "0.1",
         "type": "scatter",
         "x": [
          0.14016843493274075,
          -0.07163226007633516
         ],
         "y": [
          0.14445909161881915,
          0.06034094509750427
         ]
        },
        {
         "hoverinfo": "text",
         "line": {
          "color": "rgba(128, 128, 128, 0.1)",
          "width": 1
         },
         "mode": "lines",
         "text": "0.1",
         "type": "scatter",
         "x": [
          0.14016843493274075,
          0.08727096597073872
         ],
         "y": [
          0.14445909161881915,
          -0.020547012131089108
         ]
        },
        {
         "hoverinfo": "text",
         "line": {
          "color": "rgba(128, 128, 128, 0.1)",
          "width": 1
         },
         "mode": "lines",
         "text": "0.08333333333333333",
         "type": "scatter",
         "x": [
          0.14016843493274075,
          0.1685312976731628
         ],
         "y": [
          0.14445909161881915,
          -0.117055298414665
         ]
        },
        {
         "hoverinfo": "text",
         "line": {
          "color": "rgba(128, 128, 128, 0.1)",
          "width": 1
         },
         "mode": "lines",
         "text": "0.1",
         "type": "scatter",
         "x": [
          0.14016843493274075,
          -0.02390725817653629
         ],
         "y": [
          0.14445909161881915,
          -0.03215261167696534
         ]
        },
        {
         "hoverinfo": "text",
         "line": {
          "color": "rgba(128, 128, 128, 0.1)",
          "width": 1
         },
         "mode": "lines",
         "text": "0.1",
         "type": "scatter",
         "x": [
          0.14016843493274075,
          -0.16344201769829808
         ],
         "y": [
          0.14445909161881915,
          0.0429638835733472
         ]
        },
        {
         "hoverinfo": "text",
         "line": {
          "color": "rgba(128, 128, 128, 0.1)",
          "width": 1
         },
         "mode": "lines",
         "text": "0.1",
         "type": "scatter",
         "x": [
          0.14016843493274075,
          0.166123141387588
         ],
         "y": [
          0.14445909161881915,
          0.06166865831771715
         ]
        },
        {
         "hoverinfo": "text",
         "line": {
          "color": "rgba(128, 128, 128, 0.1)",
          "width": 1
         },
         "mode": "lines",
         "text": "0.1",
         "type": "scatter",
         "x": [
          0.14016843493274075,
          -0.019578528041053832
         ],
         "y": [
          0.14445909161881915,
          -0.1014197181777017
         ]
        },
        {
         "hoverinfo": "text",
         "line": {
          "color": "rgba(128, 128, 128, 0.1)",
          "width": 1
         },
         "mode": "lines",
         "text": "0.08333333333333333",
         "type": "scatter",
         "x": [
          0.14016843493274075,
          -0.032465231272888105
         ],
         "y": [
          0.14445909161881915,
          -0.2182550854092832
         ]
        },
        {
         "hoverinfo": "text",
         "line": {
          "color": "rgba(128, 128, 128, 0.1)",
          "width": 1
         },
         "mode": "lines",
         "text": "0.1",
         "type": "scatter",
         "x": [
          0.14016843493274075,
          0.04648405342682209
         ],
         "y": [
          0.14445909161881915,
          -0.10445288949657033
         ]
        },
        {
         "hoverinfo": "text",
         "line": {
          "color": "rgba(128, 128, 128, 0.1)",
          "width": 1
         },
         "mode": "lines",
         "text": "0.1",
         "type": "scatter",
         "x": [
          0.14016843493274075,
          0.035485360010484135
         ],
         "y": [
          0.14445909161881915,
          -0.15179063124126993
         ]
        },
        {
         "hoverinfo": "text",
         "line": {
          "color": "rgba(128, 128, 128, 0.1)",
          "width": 1
         },
         "mode": "lines",
         "text": "0.1",
         "type": "scatter",
         "x": [
          0.14016843493274075,
          0.14845479866159975
         ],
         "y": [
          0.14445909161881915,
          -0.042722723058193156
         ]
        },
        {
         "hoverinfo": "text",
         "line": {
          "color": "rgba(128, 128, 128, 0.1)",
          "width": 1
         },
         "mode": "lines",
         "text": "0.1",
         "type": "scatter",
         "x": [
          0.14016843493274075,
          0.10002362627778762
         ],
         "y": [
          0.14445909161881915,
          0.10501116025785338
         ]
        },
        {
         "hoverinfo": "text",
         "line": {
          "color": "rgba(128, 128, 128, 0.1)",
          "width": 1
         },
         "mode": "lines",
         "text": "0.1",
         "type": "scatter",
         "x": [
          0.14016843493274075,
          -0.16620124598482677
         ],
         "y": [
          0.14445909161881915,
          -0.01909129302872234
         ]
        },
        {
         "hoverinfo": "text",
         "line": {
          "color": "rgba(128, 128, 128, 0.1)",
          "width": 1
         },
         "mode": "lines",
         "text": "0.05263157894736842",
         "type": "scatter",
         "x": [
          0.14016843493274075,
          0.10254243804351508
         ],
         "y": [
          0.14445909161881915,
          -0.2532800348604361
         ]
        },
        {
         "hoverinfo": "text",
         "line": {
          "color": "rgba(128, 128, 128, 0.1)",
          "width": 1
         },
         "mode": "lines",
         "text": "0.09090909090909091",
         "type": "scatter",
         "x": [
          0.14016843493274075,
          0.005294593386108596
         ],
         "y": [
          0.14445909161881915,
          0.13730846316385836
         ]
        },
        {
         "hoverinfo": "text",
         "line": {
          "color": "rgba(128, 128, 128, 0.1)",
          "width": 1
         },
         "mode": "lines",
         "text": "1.0",
         "type": "scatter",
         "x": [
          0.14016843493274075,
          0.07162601478889682
         ],
         "y": [
          0.14445909161881915,
          0.22727757704262716
         ]
        },
        {
         "hoverinfo": "text",
         "line": {
          "color": "rgba(128, 128, 128, 0.1)",
          "width": 1
         },
         "mode": "lines",
         "text": "0.1",
         "type": "scatter",
         "x": [
          0.14016843493274075,
          -0.12776709487089863
         ],
         "y": [
          0.14445909161881915,
          -0.13201843882764794
         ]
        },
        {
         "hoverinfo": "text",
         "line": {
          "color": "rgba(128, 128, 128, 0.1)",
          "width": 1
         },
         "mode": "lines",
         "text": "0.25",
         "type": "scatter",
         "x": [
          0.14016843493274075,
          0.12457960723897601
         ],
         "y": [
          0.14445909161881915,
          -0.11512220422049145
         ]
        },
        {
         "hoverinfo": "text",
         "line": {
          "color": "rgba(128, 128, 128, 0.1)",
          "width": 1
         },
         "mode": "lines",
         "text": "0.1",
         "type": "scatter",
         "x": [
          0.14016843493274075,
          0.038865278775735576
         ],
         "y": [
          0.14445909161881915,
          -0.20376826594898925
         ]
        },
        {
         "hoverinfo": "text",
         "line": {
          "color": "rgba(128, 128, 128, 0.1)",
          "width": 1
         },
         "mode": "lines",
         "text": "0.1",
         "type": "scatter",
         "x": [
          0.14016843493274075,
          0.08165673758741265
         ],
         "y": [
          0.14445909161881915,
          -0.16334315634167867
         ]
        },
        {
         "hoverinfo": "text",
         "line": {
          "color": "rgba(128, 128, 128, 0.1)",
          "width": 1
         },
         "mode": "lines",
         "text": "0.09090909090909091",
         "type": "scatter",
         "x": [
          0.14016843493274075,
          0.11815707188034474
         ],
         "y": [
          0.14445909161881915,
          -0.07442264680581974
         ]
        },
        {
         "hoverinfo": "text",
         "line": {
          "color": "rgba(128, 128, 128, 0.1)",
          "width": 1
         },
         "mode": "lines",
         "text": "0.2",
         "type": "scatter",
         "x": [
          0.14016843493274075,
          0.12982972791201597
         ],
         "y": [
          0.14445909161881915,
          0.475172174370953
         ]
        },
        {
         "hoverinfo": "text",
         "line": {
          "color": "rgba(128, 128, 128, 0.1)",
          "width": 1
         },
         "mode": "lines",
         "text": "0.08333333333333333",
         "type": "scatter",
         "x": [
          0.14016843493274075,
          -0.03383436954673177
         ],
         "y": [
          0.14445909161881915,
          0.163279787590839
         ]
        },
        {
         "hoverinfo": "text",
         "line": {
          "color": "rgba(128, 128, 128, 0.1)",
          "width": 1
         },
         "mode": "lines",
         "text": "0.25",
         "type": "scatter",
         "x": [
          0.14016843493274075,
          -0.1259222814179488
         ],
         "y": [
          0.14445909161881915,
          0.10384437114009124
         ]
        },
        {
         "hoverinfo": "text",
         "line": {
          "color": "rgba(128, 128, 128, 0.1)",
          "width": 1
         },
         "mode": "lines",
         "text": "0.1",
         "type": "scatter",
         "x": [
          0.14016843493274075,
          0.19326865043805733
         ],
         "y": [
          0.14445909161881915,
          0.029314955041528992
         ]
        },
        {
         "hoverinfo": "text",
         "line": {
          "color": "rgba(128, 128, 128, 0.1)",
          "width": 1
         },
         "mode": "lines",
         "text": "0.1",
         "type": "scatter",
         "x": [
          0.14016843493274075,
          -0.016023919840118115
         ],
         "y": [
          0.14445909161881915,
          0.06551360928329812
         ]
        },
        {
         "hoverinfo": "text",
         "line": {
          "color": "rgba(128, 128, 128, 0.1)",
          "width": 1
         },
         "mode": "lines",
         "text": "0.16666666666666666",
         "type": "scatter",
         "x": [
          0.14016843493274075,
          0.22749423081695774
         ],
         "y": [
          0.14445909161881915,
          0.5945386924247043
         ]
        },
        {
         "hoverinfo": "text",
         "line": {
          "color": "rgba(128, 128, 128, 0.1)",
          "width": 1
         },
         "mode": "lines",
         "text": "0.08333333333333333",
         "type": "scatter",
         "x": [
          0.14016843493274075,
          0.1033115932177682
         ],
         "y": [
          0.14445909161881915,
          0.07607086985225013
         ]
        },
        {
         "hoverinfo": "text",
         "line": {
          "color": "rgba(128, 128, 128, 0.1)",
          "width": 1
         },
         "mode": "lines",
         "text": "0.1",
         "type": "scatter",
         "x": [
          0.14016843493274075,
          -0.07624885500352627
         ],
         "y": [
          0.14445909161881915,
          0.15917288408740757
         ]
        },
        {
         "hoverinfo": "text",
         "line": {
          "color": "rgba(128, 128, 128, 0.1)",
          "width": 1
         },
         "mode": "lines",
         "text": "0.16666666666666666",
         "type": "scatter",
         "x": [
          0.14016843493274075,
          0.4021723939909876
         ],
         "y": [
          0.14445909161881915,
          0.6879062820355073
         ]
        },
        {
         "hoverinfo": "text",
         "line": {
          "color": "rgba(128, 128, 128, 0.1)",
          "width": 1
         },
         "mode": "lines",
         "text": "1.0",
         "type": "scatter",
         "x": [
          -0.04788583108779725,
          0.13207073494988414
         ],
         "y": [
          0.10005136769890415,
          -0.17113014055814904
         ]
        },
        {
         "hoverinfo": "text",
         "line": {
          "color": "rgba(128, 128, 128, 0.1)",
          "width": 1
         },
         "mode": "lines",
         "text": "1.0",
         "type": "scatter",
         "x": [
          -0.04788583108779725,
          0.03413611857295227
         ],
         "y": [
          0.10005136769890415,
          -0.045261707280717836
         ]
        },
        {
         "hoverinfo": "text",
         "line": {
          "color": "rgba(128, 128, 128, 0.1)",
          "width": 1
         },
         "mode": "lines",
         "text": "0.3333333333333333",
         "type": "scatter",
         "x": [
          -0.04788583108779725,
          -0.010014981705735232
         ],
         "y": [
          0.10005136769890415,
          -0.17904649574108236
         ]
        },
        {
         "hoverinfo": "text",
         "line": {
          "color": "rgba(128, 128, 128, 0.1)",
          "width": 1
         },
         "mode": "lines",
         "text": "1.0",
         "type": "scatter",
         "x": [
          -0.04788583108779725,
          -0.1478754943400885
         ],
         "y": [
          0.10005136769890415,
          -0.05958755541398896
         ]
        },
        {
         "hoverinfo": "text",
         "line": {
          "color": "rgba(128, 128, 128, 0.1)",
          "width": 1
         },
         "mode": "lines",
         "text": "1.0",
         "type": "scatter",
         "x": [
          -0.04788583108779725,
          -0.16560984773244175
         ],
         "y": [
          0.10005136769890415,
          -0.09578833518448984
         ]
        },
        {
         "hoverinfo": "text",
         "line": {
          "color": "rgba(128, 128, 128, 0.1)",
          "width": 1
         },
         "mode": "lines",
         "text": "1.0",
         "type": "scatter",
         "x": [
          -0.04788583108779725,
          0.03707860110223772
         ],
         "y": [
          0.10005136769890415,
          0.00854583238404772
         ]
        },
        {
         "hoverinfo": "text",
         "line": {
          "color": "rgba(128, 128, 128, 0.1)",
          "width": 1
         },
         "mode": "lines",
         "text": "1.0",
         "type": "scatter",
         "x": [
          -0.04788583108779725,
          0.04744752919388708
         ],
         "y": [
          0.10005136769890415,
          0.10862272596487159
         ]
        },
        {
         "hoverinfo": "text",
         "line": {
          "color": "rgba(128, 128, 128, 0.1)",
          "width": 1
         },
         "mode": "lines",
         "text": "1.0",
         "type": "scatter",
         "x": [
          -0.04788583108779725,
          0.13253592542256595
         ],
         "y": [
          0.10005136769890415,
          0.009048390466498206
         ]
        },
        {
         "hoverinfo": "text",
         "line": {
          "color": "rgba(128, 128, 128, 0.1)",
          "width": 1
         },
         "mode": "lines",
         "text": "1.0",
         "type": "scatter",
         "x": [
          -0.04788583108779725,
          -0.0722360939739467
         ],
         "y": [
          0.10005136769890415,
          -0.02327822460820892
         ]
        },
        {
         "hoverinfo": "text",
         "line": {
          "color": "rgba(128, 128, 128, 0.1)",
          "width": 1
         },
         "mode": "lines",
         "text": "1.0",
         "type": "scatter",
         "x": [
          -0.04788583108779725,
          -0.057865789733090485
         ],
         "y": [
          0.10005136769890415,
          -0.16208756461034668
         ]
        },
        {
         "hoverinfo": "text",
         "line": {
          "color": "rgba(128, 128, 128, 0.1)",
          "width": 1
         },
         "mode": "lines",
         "text": "1.0",
         "type": "scatter",
         "x": [
          -0.04788583108779725,
          0.03528399353489137
         ],
         "y": [
          0.10005136769890415,
          0.06629787652916196
         ]
        },
        {
         "hoverinfo": "text",
         "line": {
          "color": "rgba(128, 128, 128, 0.1)",
          "width": 1
         },
         "mode": "lines",
         "text": "1.0",
         "type": "scatter",
         "x": [
          -0.04788583108779725,
          -0.07466938126855868
         ],
         "y": [
          0.10005136769890415,
          -0.11999046444602385
         ]
        },
        {
         "hoverinfo": "text",
         "line": {
          "color": "rgba(128, 128, 128, 0.1)",
          "width": 1
         },
         "mode": "lines",
         "text": "1.0",
         "type": "scatter",
         "x": [
          -0.04788583108779725,
          -0.09384834518561819
         ],
         "y": [
          0.10005136769890415,
          0.024450807633515183
         ]
        },
        {
         "hoverinfo": "text",
         "line": {
          "color": "rgba(128, 128, 128, 0.1)",
          "width": 1
         },
         "mode": "lines",
         "text": "1.0",
         "type": "scatter",
         "x": [
          -0.04788583108779725,
          -0.1378008616166141
         ],
         "y": [
          0.10005136769890415,
          0.007535428796133289
         ]
        },
        {
         "hoverinfo": "text",
         "line": {
          "color": "rgba(128, 128, 128, 0.1)",
          "width": 1
         },
         "mode": "lines",
         "text": "1.0",
         "type": "scatter",
         "x": [
          -0.04788583108779725,
          -0.0949504079612341
         ],
         "y": [
          0.10005136769890415,
          -0.19337885839804358
         ]
        },
        {
         "hoverinfo": "text",
         "line": {
          "color": "rgba(128, 128, 128, 0.1)",
          "width": 1
         },
         "mode": "lines",
         "text": "1.0",
         "type": "scatter",
         "x": [
          -0.04788583108779725,
          0.20147609498213323
         ],
         "y": [
          0.10005136769890415,
          -0.048153245566312
         ]
        },
        {
         "hoverinfo": "text",
         "line": {
          "color": "rgba(128, 128, 128, 0.1)",
          "width": 1
         },
         "mode": "lines",
         "text": "1.0",
         "type": "scatter",
         "x": [
          -0.04788583108779725,
          -0.09323660092102859
         ],
         "y": [
          0.10005136769890415,
          -0.07360207809045516
         ]
        },
        {
         "hoverinfo": "text",
         "line": {
          "color": "rgba(128, 128, 128, 0.1)",
          "width": 1
         },
         "mode": "lines",
         "text": "1.0",
         "type": "scatter",
         "x": [
          -0.04788583108779725,
          -0.07163226007633516
         ],
         "y": [
          0.10005136769890415,
          0.06034094509750427
         ]
        },
        {
         "hoverinfo": "text",
         "line": {
          "color": "rgba(128, 128, 128, 0.1)",
          "width": 1
         },
         "mode": "lines",
         "text": "1.0",
         "type": "scatter",
         "x": [
          -0.04788583108779725,
          0.08727096597073872
         ],
         "y": [
          0.10005136769890415,
          -0.020547012131089108
         ]
        },
        {
         "hoverinfo": "text",
         "line": {
          "color": "rgba(128, 128, 128, 0.1)",
          "width": 1
         },
         "mode": "lines",
         "text": "1.0",
         "type": "scatter",
         "x": [
          -0.04788583108779725,
          0.1685312976731628
         ],
         "y": [
          0.10005136769890415,
          -0.117055298414665
         ]
        },
        {
         "hoverinfo": "text",
         "line": {
          "color": "rgba(128, 128, 128, 0.1)",
          "width": 1
         },
         "mode": "lines",
         "text": "1.0",
         "type": "scatter",
         "x": [
          -0.04788583108779725,
          -0.02390725817653629
         ],
         "y": [
          0.10005136769890415,
          -0.03215261167696534
         ]
        },
        {
         "hoverinfo": "text",
         "line": {
          "color": "rgba(128, 128, 128, 0.1)",
          "width": 1
         },
         "mode": "lines",
         "text": "0.3333333333333333",
         "type": "scatter",
         "x": [
          -0.04788583108779725,
          -0.16344201769829808
         ],
         "y": [
          0.10005136769890415,
          0.0429638835733472
         ]
        },
        {
         "hoverinfo": "text",
         "line": {
          "color": "rgba(128, 128, 128, 0.1)",
          "width": 1
         },
         "mode": "lines",
         "text": "1.0",
         "type": "scatter",
         "x": [
          -0.04788583108779725,
          0.166123141387588
         ],
         "y": [
          0.10005136769890415,
          0.06166865831771715
         ]
        },
        {
         "hoverinfo": "text",
         "line": {
          "color": "rgba(128, 128, 128, 0.1)",
          "width": 1
         },
         "mode": "lines",
         "text": "1.0",
         "type": "scatter",
         "x": [
          -0.04788583108779725,
          -0.019578528041053832
         ],
         "y": [
          0.10005136769890415,
          -0.1014197181777017
         ]
        },
        {
         "hoverinfo": "text",
         "line": {
          "color": "rgba(128, 128, 128, 0.1)",
          "width": 1
         },
         "mode": "lines",
         "text": "1.0",
         "type": "scatter",
         "x": [
          -0.04788583108779725,
          -0.032465231272888105
         ],
         "y": [
          0.10005136769890415,
          -0.2182550854092832
         ]
        },
        {
         "hoverinfo": "text",
         "line": {
          "color": "rgba(128, 128, 128, 0.1)",
          "width": 1
         },
         "mode": "lines",
         "text": "0.14285714285714285",
         "type": "scatter",
         "x": [
          -0.04788583108779725,
          0.04648405342682209
         ],
         "y": [
          0.10005136769890415,
          -0.10445288949657033
         ]
        },
        {
         "hoverinfo": "text",
         "line": {
          "color": "rgba(128, 128, 128, 0.1)",
          "width": 1
         },
         "mode": "lines",
         "text": "0.14285714285714285",
         "type": "scatter",
         "x": [
          -0.04788583108779725,
          0.035485360010484135
         ],
         "y": [
          0.10005136769890415,
          -0.15179063124126993
         ]
        },
        {
         "hoverinfo": "text",
         "line": {
          "color": "rgba(128, 128, 128, 0.1)",
          "width": 1
         },
         "mode": "lines",
         "text": "0.14285714285714285",
         "type": "scatter",
         "x": [
          -0.04788583108779725,
          0.14845479866159975
         ],
         "y": [
          0.10005136769890415,
          -0.042722723058193156
         ]
        },
        {
         "hoverinfo": "text",
         "line": {
          "color": "rgba(128, 128, 128, 0.1)",
          "width": 1
         },
         "mode": "lines",
         "text": "1.0",
         "type": "scatter",
         "x": [
          -0.04788583108779725,
          0.10002362627778762
         ],
         "y": [
          0.10005136769890415,
          0.10501116025785338
         ]
        },
        {
         "hoverinfo": "text",
         "line": {
          "color": "rgba(128, 128, 128, 0.1)",
          "width": 1
         },
         "mode": "lines",
         "text": "1.0",
         "type": "scatter",
         "x": [
          -0.04788583108779725,
          -0.16620124598482677
         ],
         "y": [
          0.10005136769890415,
          -0.01909129302872234
         ]
        },
        {
         "hoverinfo": "text",
         "line": {
          "color": "rgba(128, 128, 128, 0.1)",
          "width": 1
         },
         "mode": "lines",
         "text": "0.0625",
         "type": "scatter",
         "x": [
          -0.04788583108779725,
          0.10254243804351508
         ],
         "y": [
          0.10005136769890415,
          -0.2532800348604361
         ]
        },
        {
         "hoverinfo": "text",
         "line": {
          "color": "rgba(128, 128, 128, 0.1)",
          "width": 1
         },
         "mode": "lines",
         "text": "0.16666666666666666",
         "type": "scatter",
         "x": [
          -0.04788583108779725,
          0.005294593386108596
         ],
         "y": [
          0.10005136769890415,
          0.13730846316385836
         ]
        },
        {
         "hoverinfo": "text",
         "line": {
          "color": "rgba(128, 128, 128, 0.1)",
          "width": 1
         },
         "mode": "lines",
         "text": "1.0",
         "type": "scatter",
         "x": [
          -0.04788583108779725,
          -0.12776709487089863
         ],
         "y": [
          0.10005136769890415,
          -0.13201843882764794
         ]
        },
        {
         "hoverinfo": "text",
         "line": {
          "color": "rgba(128, 128, 128, 0.1)",
          "width": 1
         },
         "mode": "lines",
         "text": "1.0",
         "type": "scatter",
         "x": [
          -0.04788583108779725,
          0.12457960723897601
         ],
         "y": [
          0.10005136769890415,
          -0.11512220422049145
         ]
        },
        {
         "hoverinfo": "text",
         "line": {
          "color": "rgba(128, 128, 128, 0.1)",
          "width": 1
         },
         "mode": "lines",
         "text": "1.0",
         "type": "scatter",
         "x": [
          -0.04788583108779725,
          0.038865278775735576
         ],
         "y": [
          0.10005136769890415,
          -0.20376826594898925
         ]
        },
        {
         "hoverinfo": "text",
         "line": {
          "color": "rgba(128, 128, 128, 0.1)",
          "width": 1
         },
         "mode": "lines",
         "text": "1.0",
         "type": "scatter",
         "x": [
          -0.04788583108779725,
          0.08165673758741265
         ],
         "y": [
          0.10005136769890415,
          -0.16334315634167867
         ]
        },
        {
         "hoverinfo": "text",
         "line": {
          "color": "rgba(128, 128, 128, 0.1)",
          "width": 1
         },
         "mode": "lines",
         "text": "0.5",
         "type": "scatter",
         "x": [
          -0.04788583108779725,
          0.11815707188034474
         ],
         "y": [
          0.10005136769890415,
          -0.07442264680581974
         ]
        },
        {
         "hoverinfo": "text",
         "line": {
          "color": "rgba(128, 128, 128, 0.1)",
          "width": 1
         },
         "mode": "lines",
         "text": "1.0",
         "type": "scatter",
         "x": [
          -0.04788583108779725,
          -0.03383436954673177
         ],
         "y": [
          0.10005136769890415,
          0.163279787590839
         ]
        },
        {
         "hoverinfo": "text",
         "line": {
          "color": "rgba(128, 128, 128, 0.1)",
          "width": 1
         },
         "mode": "lines",
         "text": "1.0",
         "type": "scatter",
         "x": [
          -0.04788583108779725,
          -0.1259222814179488
         ],
         "y": [
          0.10005136769890415,
          0.10384437114009124
         ]
        },
        {
         "hoverinfo": "text",
         "line": {
          "color": "rgba(128, 128, 128, 0.1)",
          "width": 1
         },
         "mode": "lines",
         "text": "1.0",
         "type": "scatter",
         "x": [
          -0.04788583108779725,
          0.19326865043805733
         ],
         "y": [
          0.10005136769890415,
          0.029314955041528992
         ]
        },
        {
         "hoverinfo": "text",
         "line": {
          "color": "rgba(128, 128, 128, 0.1)",
          "width": 1
         },
         "mode": "lines",
         "text": "1.0",
         "type": "scatter",
         "x": [
          -0.04788583108779725,
          -0.016023919840118115
         ],
         "y": [
          0.10005136769890415,
          0.06551360928329812
         ]
        },
        {
         "hoverinfo": "text",
         "line": {
          "color": "rgba(128, 128, 128, 0.1)",
          "width": 1
         },
         "mode": "lines",
         "text": "1.0",
         "type": "scatter",
         "x": [
          -0.04788583108779725,
          0.1033115932177682
         ],
         "y": [
          0.10005136769890415,
          0.07607086985225013
         ]
        },
        {
         "hoverinfo": "text",
         "line": {
          "color": "rgba(128, 128, 128, 0.1)",
          "width": 1
         },
         "mode": "lines",
         "text": "1.0",
         "type": "scatter",
         "x": [
          -0.04788583108779725,
          -0.07624885500352627
         ],
         "y": [
          0.10005136769890415,
          0.15917288408740757
         ]
        },
        {
         "hoverinfo": "text",
         "line": {
          "color": "rgba(128, 128, 128, 0.1)",
          "width": 1
         },
         "mode": "lines",
         "text": "1.0",
         "type": "scatter",
         "x": [
          0.13207073494988414,
          0.03413611857295227
         ],
         "y": [
          -0.17113014055814904,
          -0.045261707280717836
         ]
        },
        {
         "hoverinfo": "text",
         "line": {
          "color": "rgba(128, 128, 128, 0.1)",
          "width": 1
         },
         "mode": "lines",
         "text": "1.0",
         "type": "scatter",
         "x": [
          0.13207073494988414,
          -0.010014981705735232
         ],
         "y": [
          -0.17113014055814904,
          -0.17904649574108236
         ]
        },
        {
         "hoverinfo": "text",
         "line": {
          "color": "rgba(128, 128, 128, 0.1)",
          "width": 1
         },
         "mode": "lines",
         "text": "1.0",
         "type": "scatter",
         "x": [
          0.13207073494988414,
          -0.1478754943400885
         ],
         "y": [
          -0.17113014055814904,
          -0.05958755541398896
         ]
        },
        {
         "hoverinfo": "text",
         "line": {
          "color": "rgba(128, 128, 128, 0.1)",
          "width": 1
         },
         "mode": "lines",
         "text": "1.0",
         "type": "scatter",
         "x": [
          0.13207073494988414,
          -0.16560984773244175
         ],
         "y": [
          -0.17113014055814904,
          -0.09578833518448984
         ]
        },
        {
         "hoverinfo": "text",
         "line": {
          "color": "rgba(128, 128, 128, 0.1)",
          "width": 1
         },
         "mode": "lines",
         "text": "1.0",
         "type": "scatter",
         "x": [
          0.13207073494988414,
          0.03707860110223772
         ],
         "y": [
          -0.17113014055814904,
          0.00854583238404772
         ]
        },
        {
         "hoverinfo": "text",
         "line": {
          "color": "rgba(128, 128, 128, 0.1)",
          "width": 1
         },
         "mode": "lines",
         "text": "1.0",
         "type": "scatter",
         "x": [
          0.13207073494988414,
          0.04744752919388708
         ],
         "y": [
          -0.17113014055814904,
          0.10862272596487159
         ]
        },
        {
         "hoverinfo": "text",
         "line": {
          "color": "rgba(128, 128, 128, 0.1)",
          "width": 1
         },
         "mode": "lines",
         "text": "1.0",
         "type": "scatter",
         "x": [
          0.13207073494988414,
          0.13253592542256595
         ],
         "y": [
          -0.17113014055814904,
          0.009048390466498206
         ]
        },
        {
         "hoverinfo": "text",
         "line": {
          "color": "rgba(128, 128, 128, 0.1)",
          "width": 1
         },
         "mode": "lines",
         "text": "1.0",
         "type": "scatter",
         "x": [
          0.13207073494988414,
          -0.0722360939739467
         ],
         "y": [
          -0.17113014055814904,
          -0.02327822460820892
         ]
        },
        {
         "hoverinfo": "text",
         "line": {
          "color": "rgba(128, 128, 128, 0.1)",
          "width": 1
         },
         "mode": "lines",
         "text": "1.0",
         "type": "scatter",
         "x": [
          0.13207073494988414,
          -0.057865789733090485
         ],
         "y": [
          -0.17113014055814904,
          -0.16208756461034668
         ]
        },
        {
         "hoverinfo": "text",
         "line": {
          "color": "rgba(128, 128, 128, 0.1)",
          "width": 1
         },
         "mode": "lines",
         "text": "1.0",
         "type": "scatter",
         "x": [
          0.13207073494988414,
          0.03528399353489137
         ],
         "y": [
          -0.17113014055814904,
          0.06629787652916196
         ]
        },
        {
         "hoverinfo": "text",
         "line": {
          "color": "rgba(128, 128, 128, 0.1)",
          "width": 1
         },
         "mode": "lines",
         "text": "1.0",
         "type": "scatter",
         "x": [
          0.13207073494988414,
          -0.07466938126855868
         ],
         "y": [
          -0.17113014055814904,
          -0.11999046444602385
         ]
        },
        {
         "hoverinfo": "text",
         "line": {
          "color": "rgba(128, 128, 128, 0.1)",
          "width": 1
         },
         "mode": "lines",
         "text": "1.0",
         "type": "scatter",
         "x": [
          0.13207073494988414,
          -0.09384834518561819
         ],
         "y": [
          -0.17113014055814904,
          0.024450807633515183
         ]
        },
        {
         "hoverinfo": "text",
         "line": {
          "color": "rgba(128, 128, 128, 0.1)",
          "width": 1
         },
         "mode": "lines",
         "text": "1.0",
         "type": "scatter",
         "x": [
          0.13207073494988414,
          -0.1378008616166141
         ],
         "y": [
          -0.17113014055814904,
          0.007535428796133289
         ]
        },
        {
         "hoverinfo": "text",
         "line": {
          "color": "rgba(128, 128, 128, 0.1)",
          "width": 1
         },
         "mode": "lines",
         "text": "1.0",
         "type": "scatter",
         "x": [
          0.13207073494988414,
          -0.0949504079612341
         ],
         "y": [
          -0.17113014055814904,
          -0.19337885839804358
         ]
        },
        {
         "hoverinfo": "text",
         "line": {
          "color": "rgba(128, 128, 128, 0.1)",
          "width": 1
         },
         "mode": "lines",
         "text": "0.1111111111111111",
         "type": "scatter",
         "x": [
          0.13207073494988414,
          0.20147609498213323
         ],
         "y": [
          -0.17113014055814904,
          -0.048153245566312
         ]
        },
        {
         "hoverinfo": "text",
         "line": {
          "color": "rgba(128, 128, 128, 0.1)",
          "width": 1
         },
         "mode": "lines",
         "text": "1.0",
         "type": "scatter",
         "x": [
          0.13207073494988414,
          -0.09323660092102859
         ],
         "y": [
          -0.17113014055814904,
          -0.07360207809045516
         ]
        },
        {
         "hoverinfo": "text",
         "line": {
          "color": "rgba(128, 128, 128, 0.1)",
          "width": 1
         },
         "mode": "lines",
         "text": "1.0",
         "type": "scatter",
         "x": [
          0.13207073494988414,
          -0.07163226007633516
         ],
         "y": [
          -0.17113014055814904,
          0.06034094509750427
         ]
        },
        {
         "hoverinfo": "text",
         "line": {
          "color": "rgba(128, 128, 128, 0.1)",
          "width": 1
         },
         "mode": "lines",
         "text": "1.0",
         "type": "scatter",
         "x": [
          0.13207073494988414,
          0.08727096597073872
         ],
         "y": [
          -0.17113014055814904,
          -0.020547012131089108
         ]
        },
        {
         "hoverinfo": "text",
         "line": {
          "color": "rgba(128, 128, 128, 0.1)",
          "width": 1
         },
         "mode": "lines",
         "text": "1.0",
         "type": "scatter",
         "x": [
          0.13207073494988414,
          0.1685312976731628
         ],
         "y": [
          -0.17113014055814904,
          -0.117055298414665
         ]
        },
        {
         "hoverinfo": "text",
         "line": {
          "color": "rgba(128, 128, 128, 0.1)",
          "width": 1
         },
         "mode": "lines",
         "text": "1.0",
         "type": "scatter",
         "x": [
          0.13207073494988414,
          -0.02390725817653629
         ],
         "y": [
          -0.17113014055814904,
          -0.03215261167696534
         ]
        },
        {
         "hoverinfo": "text",
         "line": {
          "color": "rgba(128, 128, 128, 0.1)",
          "width": 1
         },
         "mode": "lines",
         "text": "0.3333333333333333",
         "type": "scatter",
         "x": [
          0.13207073494988414,
          -0.16344201769829808
         ],
         "y": [
          -0.17113014055814904,
          0.0429638835733472
         ]
        },
        {
         "hoverinfo": "text",
         "line": {
          "color": "rgba(128, 128, 128, 0.1)",
          "width": 1
         },
         "mode": "lines",
         "text": "1.0",
         "type": "scatter",
         "x": [
          0.13207073494988414,
          0.166123141387588
         ],
         "y": [
          -0.17113014055814904,
          0.06166865831771715
         ]
        },
        {
         "hoverinfo": "text",
         "line": {
          "color": "rgba(128, 128, 128, 0.1)",
          "width": 1
         },
         "mode": "lines",
         "text": "1.0",
         "type": "scatter",
         "x": [
          0.13207073494988414,
          -0.019578528041053832
         ],
         "y": [
          -0.17113014055814904,
          -0.1014197181777017
         ]
        },
        {
         "hoverinfo": "text",
         "line": {
          "color": "rgba(128, 128, 128, 0.1)",
          "width": 1
         },
         "mode": "lines",
         "text": "1.0",
         "type": "scatter",
         "x": [
          0.13207073494988414,
          -0.032465231272888105
         ],
         "y": [
          -0.17113014055814904,
          -0.2182550854092832
         ]
        },
        {
         "hoverinfo": "text",
         "line": {
          "color": "rgba(128, 128, 128, 0.1)",
          "width": 1
         },
         "mode": "lines",
         "text": "1.0",
         "type": "scatter",
         "x": [
          0.13207073494988414,
          0.04648405342682209
         ],
         "y": [
          -0.17113014055814904,
          -0.10445288949657033
         ]
        },
        {
         "hoverinfo": "text",
         "line": {
          "color": "rgba(128, 128, 128, 0.1)",
          "width": 1
         },
         "mode": "lines",
         "text": "1.0",
         "type": "scatter",
         "x": [
          0.13207073494988414,
          0.035485360010484135
         ],
         "y": [
          -0.17113014055814904,
          -0.15179063124126993
         ]
        },
        {
         "hoverinfo": "text",
         "line": {
          "color": "rgba(128, 128, 128, 0.1)",
          "width": 1
         },
         "mode": "lines",
         "text": "1.0",
         "type": "scatter",
         "x": [
          0.13207073494988414,
          0.14845479866159975
         ],
         "y": [
          -0.17113014055814904,
          -0.042722723058193156
         ]
        },
        {
         "hoverinfo": "text",
         "line": {
          "color": "rgba(128, 128, 128, 0.1)",
          "width": 1
         },
         "mode": "lines",
         "text": "1.0",
         "type": "scatter",
         "x": [
          0.13207073494988414,
          0.10002362627778762
         ],
         "y": [
          -0.17113014055814904,
          0.10501116025785338
         ]
        },
        {
         "hoverinfo": "text",
         "line": {
          "color": "rgba(128, 128, 128, 0.1)",
          "width": 1
         },
         "mode": "lines",
         "text": "1.0",
         "type": "scatter",
         "x": [
          0.13207073494988414,
          -0.16620124598482677
         ],
         "y": [
          -0.17113014055814904,
          -0.01909129302872234
         ]
        },
        {
         "hoverinfo": "text",
         "line": {
          "color": "rgba(128, 128, 128, 0.1)",
          "width": 1
         },
         "mode": "lines",
         "text": "0.08333333333333333",
         "type": "scatter",
         "x": [
          0.13207073494988414,
          0.10254243804351508
         ],
         "y": [
          -0.17113014055814904,
          -0.2532800348604361
         ]
        },
        {
         "hoverinfo": "text",
         "line": {
          "color": "rgba(128, 128, 128, 0.1)",
          "width": 1
         },
         "mode": "lines",
         "text": "0.5",
         "type": "scatter",
         "x": [
          0.13207073494988414,
          0.005294593386108596
         ],
         "y": [
          -0.17113014055814904,
          0.13730846316385836
         ]
        },
        {
         "hoverinfo": "text",
         "line": {
          "color": "rgba(128, 128, 128, 0.1)",
          "width": 1
         },
         "mode": "lines",
         "text": "1.0",
         "type": "scatter",
         "x": [
          0.13207073494988414,
          -0.12776709487089863
         ],
         "y": [
          -0.17113014055814904,
          -0.13201843882764794
         ]
        },
        {
         "hoverinfo": "text",
         "line": {
          "color": "rgba(128, 128, 128, 0.1)",
          "width": 1
         },
         "mode": "lines",
         "text": "1.0",
         "type": "scatter",
         "x": [
          0.13207073494988414,
          0.12457960723897601
         ],
         "y": [
          -0.17113014055814904,
          -0.11512220422049145
         ]
        },
        {
         "hoverinfo": "text",
         "line": {
          "color": "rgba(128, 128, 128, 0.1)",
          "width": 1
         },
         "mode": "lines",
         "text": "1.0",
         "type": "scatter",
         "x": [
          0.13207073494988414,
          0.038865278775735576
         ],
         "y": [
          -0.17113014055814904,
          -0.20376826594898925
         ]
        },
        {
         "hoverinfo": "text",
         "line": {
          "color": "rgba(128, 128, 128, 0.1)",
          "width": 1
         },
         "mode": "lines",
         "text": "1.0",
         "type": "scatter",
         "x": [
          0.13207073494988414,
          0.08165673758741265
         ],
         "y": [
          -0.17113014055814904,
          -0.16334315634167867
         ]
        },
        {
         "hoverinfo": "text",
         "line": {
          "color": "rgba(128, 128, 128, 0.1)",
          "width": 1
         },
         "mode": "lines",
         "text": "0.5",
         "type": "scatter",
         "x": [
          0.13207073494988414,
          0.11815707188034474
         ],
         "y": [
          -0.17113014055814904,
          -0.07442264680581974
         ]
        },
        {
         "hoverinfo": "text",
         "line": {
          "color": "rgba(128, 128, 128, 0.1)",
          "width": 1
         },
         "mode": "lines",
         "text": "1.0",
         "type": "scatter",
         "x": [
          0.13207073494988414,
          -0.03383436954673177
         ],
         "y": [
          -0.17113014055814904,
          0.163279787590839
         ]
        },
        {
         "hoverinfo": "text",
         "line": {
          "color": "rgba(128, 128, 128, 0.1)",
          "width": 1
         },
         "mode": "lines",
         "text": "1.0",
         "type": "scatter",
         "x": [
          0.13207073494988414,
          -0.1259222814179488
         ],
         "y": [
          -0.17113014055814904,
          0.10384437114009124
         ]
        },
        {
         "hoverinfo": "text",
         "line": {
          "color": "rgba(128, 128, 128, 0.1)",
          "width": 1
         },
         "mode": "lines",
         "text": "1.0",
         "type": "scatter",
         "x": [
          0.13207073494988414,
          0.19326865043805733
         ],
         "y": [
          -0.17113014055814904,
          0.029314955041528992
         ]
        },
        {
         "hoverinfo": "text",
         "line": {
          "color": "rgba(128, 128, 128, 0.1)",
          "width": 1
         },
         "mode": "lines",
         "text": "1.0",
         "type": "scatter",
         "x": [
          0.13207073494988414,
          -0.016023919840118115
         ],
         "y": [
          -0.17113014055814904,
          0.06551360928329812
         ]
        },
        {
         "hoverinfo": "text",
         "line": {
          "color": "rgba(128, 128, 128, 0.1)",
          "width": 1
         },
         "mode": "lines",
         "text": "1.0",
         "type": "scatter",
         "x": [
          0.13207073494988414,
          0.1033115932177682
         ],
         "y": [
          -0.17113014055814904,
          0.07607086985225013
         ]
        },
        {
         "hoverinfo": "text",
         "line": {
          "color": "rgba(128, 128, 128, 0.1)",
          "width": 1
         },
         "mode": "lines",
         "text": "1.0",
         "type": "scatter",
         "x": [
          0.13207073494988414,
          -0.07624885500352627
         ],
         "y": [
          -0.17113014055814904,
          0.15917288408740757
         ]
        },
        {
         "hoverinfo": "text",
         "line": {
          "color": "rgba(128, 128, 128, 0.1)",
          "width": 1
         },
         "mode": "lines",
         "text": "0.3333333333333333",
         "type": "scatter",
         "x": [
          0.03413611857295227,
          -0.010014981705735232
         ],
         "y": [
          -0.045261707280717836,
          -0.17904649574108236
         ]
        },
        {
         "hoverinfo": "text",
         "line": {
          "color": "rgba(128, 128, 128, 0.1)",
          "width": 1
         },
         "mode": "lines",
         "text": "0.2",
         "type": "scatter",
         "x": [
          0.03413611857295227,
          -0.1478754943400885
         ],
         "y": [
          -0.045261707280717836,
          -0.05958755541398896
         ]
        },
        {
         "hoverinfo": "text",
         "line": {
          "color": "rgba(128, 128, 128, 0.1)",
          "width": 1
         },
         "mode": "lines",
         "text": "1.0",
         "type": "scatter",
         "x": [
          0.03413611857295227,
          -0.16560984773244175
         ],
         "y": [
          -0.045261707280717836,
          -0.09578833518448984
         ]
        },
        {
         "hoverinfo": "text",
         "line": {
          "color": "rgba(128, 128, 128, 0.1)",
          "width": 1
         },
         "mode": "lines",
         "text": "1.0",
         "type": "scatter",
         "x": [
          0.03413611857295227,
          0.03707860110223772
         ],
         "y": [
          -0.045261707280717836,
          0.00854583238404772
         ]
        },
        {
         "hoverinfo": "text",
         "line": {
          "color": "rgba(128, 128, 128, 0.1)",
          "width": 1
         },
         "mode": "lines",
         "text": "1.0",
         "type": "scatter",
         "x": [
          0.03413611857295227,
          0.04744752919388708
         ],
         "y": [
          -0.045261707280717836,
          0.10862272596487159
         ]
        },
        {
         "hoverinfo": "text",
         "line": {
          "color": "rgba(128, 128, 128, 0.1)",
          "width": 1
         },
         "mode": "lines",
         "text": "1.0",
         "type": "scatter",
         "x": [
          0.03413611857295227,
          0.13253592542256595
         ],
         "y": [
          -0.045261707280717836,
          0.009048390466498206
         ]
        },
        {
         "hoverinfo": "text",
         "line": {
          "color": "rgba(128, 128, 128, 0.1)",
          "width": 1
         },
         "mode": "lines",
         "text": "1.0",
         "type": "scatter",
         "x": [
          0.03413611857295227,
          -0.0722360939739467
         ],
         "y": [
          -0.045261707280717836,
          -0.02327822460820892
         ]
        },
        {
         "hoverinfo": "text",
         "line": {
          "color": "rgba(128, 128, 128, 0.1)",
          "width": 1
         },
         "mode": "lines",
         "text": "1.0",
         "type": "scatter",
         "x": [
          0.03413611857295227,
          -0.057865789733090485
         ],
         "y": [
          -0.045261707280717836,
          -0.16208756461034668
         ]
        },
        {
         "hoverinfo": "text",
         "line": {
          "color": "rgba(128, 128, 128, 0.1)",
          "width": 1
         },
         "mode": "lines",
         "text": "1.0",
         "type": "scatter",
         "x": [
          0.03413611857295227,
          0.03528399353489137
         ],
         "y": [
          -0.045261707280717836,
          0.06629787652916196
         ]
        },
        {
         "hoverinfo": "text",
         "line": {
          "color": "rgba(128, 128, 128, 0.1)",
          "width": 1
         },
         "mode": "lines",
         "text": "1.0",
         "type": "scatter",
         "x": [
          0.03413611857295227,
          -0.07466938126855868
         ],
         "y": [
          -0.045261707280717836,
          -0.11999046444602385
         ]
        },
        {
         "hoverinfo": "text",
         "line": {
          "color": "rgba(128, 128, 128, 0.1)",
          "width": 1
         },
         "mode": "lines",
         "text": "1.0",
         "type": "scatter",
         "x": [
          0.03413611857295227,
          -0.09384834518561819
         ],
         "y": [
          -0.045261707280717836,
          0.024450807633515183
         ]
        },
        {
         "hoverinfo": "text",
         "line": {
          "color": "rgba(128, 128, 128, 0.1)",
          "width": 1
         },
         "mode": "lines",
         "text": "1.0",
         "type": "scatter",
         "x": [
          0.03413611857295227,
          -0.1378008616166141
         ],
         "y": [
          -0.045261707280717836,
          0.007535428796133289
         ]
        },
        {
         "hoverinfo": "text",
         "line": {
          "color": "rgba(128, 128, 128, 0.1)",
          "width": 1
         },
         "mode": "lines",
         "text": "1.0",
         "type": "scatter",
         "x": [
          0.03413611857295227,
          -0.0949504079612341
         ],
         "y": [
          -0.045261707280717836,
          -0.19337885839804358
         ]
        },
        {
         "hoverinfo": "text",
         "line": {
          "color": "rgba(128, 128, 128, 0.1)",
          "width": 1
         },
         "mode": "lines",
         "text": "1.0",
         "type": "scatter",
         "x": [
          0.03413611857295227,
          0.20147609498213323
         ],
         "y": [
          -0.045261707280717836,
          -0.048153245566312
         ]
        },
        {
         "hoverinfo": "text",
         "line": {
          "color": "rgba(128, 128, 128, 0.1)",
          "width": 1
         },
         "mode": "lines",
         "text": "1.0",
         "type": "scatter",
         "x": [
          0.03413611857295227,
          -0.09323660092102859
         ],
         "y": [
          -0.045261707280717836,
          -0.07360207809045516
         ]
        },
        {
         "hoverinfo": "text",
         "line": {
          "color": "rgba(128, 128, 128, 0.1)",
          "width": 1
         },
         "mode": "lines",
         "text": "1.0",
         "type": "scatter",
         "x": [
          0.03413611857295227,
          -0.07163226007633516
         ],
         "y": [
          -0.045261707280717836,
          0.06034094509750427
         ]
        },
        {
         "hoverinfo": "text",
         "line": {
          "color": "rgba(128, 128, 128, 0.1)",
          "width": 1
         },
         "mode": "lines",
         "text": "1.0",
         "type": "scatter",
         "x": [
          0.03413611857295227,
          0.08727096597073872
         ],
         "y": [
          -0.045261707280717836,
          -0.020547012131089108
         ]
        },
        {
         "hoverinfo": "text",
         "line": {
          "color": "rgba(128, 128, 128, 0.1)",
          "width": 1
         },
         "mode": "lines",
         "text": "1.0",
         "type": "scatter",
         "x": [
          0.03413611857295227,
          0.1685312976731628
         ],
         "y": [
          -0.045261707280717836,
          -0.117055298414665
         ]
        },
        {
         "hoverinfo": "text",
         "line": {
          "color": "rgba(128, 128, 128, 0.1)",
          "width": 1
         },
         "mode": "lines",
         "text": "1.0",
         "type": "scatter",
         "x": [
          0.03413611857295227,
          -0.02390725817653629
         ],
         "y": [
          -0.045261707280717836,
          -0.03215261167696534
         ]
        },
        {
         "hoverinfo": "text",
         "line": {
          "color": "rgba(128, 128, 128, 0.1)",
          "width": 1
         },
         "mode": "lines",
         "text": "0.3333333333333333",
         "type": "scatter",
         "x": [
          0.03413611857295227,
          -0.16344201769829808
         ],
         "y": [
          -0.045261707280717836,
          0.0429638835733472
         ]
        },
        {
         "hoverinfo": "text",
         "line": {
          "color": "rgba(128, 128, 128, 0.1)",
          "width": 1
         },
         "mode": "lines",
         "text": "0.3333333333333333",
         "type": "scatter",
         "x": [
          0.03413611857295227,
          0.166123141387588
         ],
         "y": [
          -0.045261707280717836,
          0.06166865831771715
         ]
        },
        {
         "hoverinfo": "text",
         "line": {
          "color": "rgba(128, 128, 128, 0.1)",
          "width": 1
         },
         "mode": "lines",
         "text": "0.14285714285714285",
         "type": "scatter",
         "x": [
          0.03413611857295227,
          -0.019578528041053832
         ],
         "y": [
          -0.045261707280717836,
          -0.1014197181777017
         ]
        },
        {
         "hoverinfo": "text",
         "line": {
          "color": "rgba(128, 128, 128, 0.1)",
          "width": 1
         },
         "mode": "lines",
         "text": "1.0",
         "type": "scatter",
         "x": [
          0.03413611857295227,
          -0.032465231272888105
         ],
         "y": [
          -0.045261707280717836,
          -0.2182550854092832
         ]
        },
        {
         "hoverinfo": "text",
         "line": {
          "color": "rgba(128, 128, 128, 0.1)",
          "width": 1
         },
         "mode": "lines",
         "text": "0.14285714285714285",
         "type": "scatter",
         "x": [
          0.03413611857295227,
          0.04648405342682209
         ],
         "y": [
          -0.045261707280717836,
          -0.10445288949657033
         ]
        },
        {
         "hoverinfo": "text",
         "line": {
          "color": "rgba(128, 128, 128, 0.1)",
          "width": 1
         },
         "mode": "lines",
         "text": "0.1111111111111111",
         "type": "scatter",
         "x": [
          0.03413611857295227,
          0.035485360010484135
         ],
         "y": [
          -0.045261707280717836,
          -0.15179063124126993
         ]
        },
        {
         "hoverinfo": "text",
         "line": {
          "color": "rgba(128, 128, 128, 0.1)",
          "width": 1
         },
         "mode": "lines",
         "text": "0.14285714285714285",
         "type": "scatter",
         "x": [
          0.03413611857295227,
          0.14845479866159975
         ],
         "y": [
          -0.045261707280717836,
          -0.042722723058193156
         ]
        },
        {
         "hoverinfo": "text",
         "line": {
          "color": "rgba(128, 128, 128, 0.1)",
          "width": 1
         },
         "mode": "lines",
         "text": "1.0",
         "type": "scatter",
         "x": [
          0.03413611857295227,
          0.10002362627778762
         ],
         "y": [
          -0.045261707280717836,
          0.10501116025785338
         ]
        },
        {
         "hoverinfo": "text",
         "line": {
          "color": "rgba(128, 128, 128, 0.1)",
          "width": 1
         },
         "mode": "lines",
         "text": "1.0",
         "type": "scatter",
         "x": [
          0.03413611857295227,
          -0.16620124598482677
         ],
         "y": [
          -0.045261707280717836,
          -0.01909129302872234
         ]
        },
        {
         "hoverinfo": "text",
         "line": {
          "color": "rgba(128, 128, 128, 0.1)",
          "width": 1
         },
         "mode": "lines",
         "text": "0.0625",
         "type": "scatter",
         "x": [
          0.03413611857295227,
          0.10254243804351508
         ],
         "y": [
          -0.045261707280717836,
          -0.2532800348604361
         ]
        },
        {
         "hoverinfo": "text",
         "line": {
          "color": "rgba(128, 128, 128, 0.1)",
          "width": 1
         },
         "mode": "lines",
         "text": "0.16666666666666666",
         "type": "scatter",
         "x": [
          0.03413611857295227,
          0.005294593386108596
         ],
         "y": [
          -0.045261707280717836,
          0.13730846316385836
         ]
        },
        {
         "hoverinfo": "text",
         "line": {
          "color": "rgba(128, 128, 128, 0.1)",
          "width": 1
         },
         "mode": "lines",
         "text": "0.125",
         "type": "scatter",
         "x": [
          0.03413611857295227,
          0.07162601478889682
         ],
         "y": [
          -0.045261707280717836,
          0.22727757704262716
         ]
        },
        {
         "hoverinfo": "text",
         "line": {
          "color": "rgba(128, 128, 128, 0.1)",
          "width": 1
         },
         "mode": "lines",
         "text": "1.0",
         "type": "scatter",
         "x": [
          0.03413611857295227,
          -0.12776709487089863
         ],
         "y": [
          -0.045261707280717836,
          -0.13201843882764794
         ]
        },
        {
         "hoverinfo": "text",
         "line": {
          "color": "rgba(128, 128, 128, 0.1)",
          "width": 1
         },
         "mode": "lines",
         "text": "1.0",
         "type": "scatter",
         "x": [
          0.03413611857295227,
          0.12457960723897601
         ],
         "y": [
          -0.045261707280717836,
          -0.11512220422049145
         ]
        },
        {
         "hoverinfo": "text",
         "line": {
          "color": "rgba(128, 128, 128, 0.1)",
          "width": 1
         },
         "mode": "lines",
         "text": "1.0",
         "type": "scatter",
         "x": [
          0.03413611857295227,
          0.038865278775735576
         ],
         "y": [
          -0.045261707280717836,
          -0.20376826594898925
         ]
        },
        {
         "hoverinfo": "text",
         "line": {
          "color": "rgba(128, 128, 128, 0.1)",
          "width": 1
         },
         "mode": "lines",
         "text": "1.0",
         "type": "scatter",
         "x": [
          0.03413611857295227,
          0.08165673758741265
         ],
         "y": [
          -0.045261707280717836,
          -0.16334315634167867
         ]
        },
        {
         "hoverinfo": "text",
         "line": {
          "color": "rgba(128, 128, 128, 0.1)",
          "width": 1
         },
         "mode": "lines",
         "text": "0.5",
         "type": "scatter",
         "x": [
          0.03413611857295227,
          0.11815707188034474
         ],
         "y": [
          -0.045261707280717836,
          -0.07442264680581974
         ]
        },
        {
         "hoverinfo": "text",
         "line": {
          "color": "rgba(128, 128, 128, 0.1)",
          "width": 1
         },
         "mode": "lines",
         "text": "1.0",
         "type": "scatter",
         "x": [
          0.03413611857295227,
          -0.03383436954673177
         ],
         "y": [
          -0.045261707280717836,
          0.163279787590839
         ]
        },
        {
         "hoverinfo": "text",
         "line": {
          "color": "rgba(128, 128, 128, 0.1)",
          "width": 1
         },
         "mode": "lines",
         "text": "1.0",
         "type": "scatter",
         "x": [
          0.03413611857295227,
          -0.1259222814179488
         ],
         "y": [
          -0.045261707280717836,
          0.10384437114009124
         ]
        },
        {
         "hoverinfo": "text",
         "line": {
          "color": "rgba(128, 128, 128, 0.1)",
          "width": 1
         },
         "mode": "lines",
         "text": "0.14285714285714285",
         "type": "scatter",
         "x": [
          0.03413611857295227,
          0.19326865043805733
         ],
         "y": [
          -0.045261707280717836,
          0.029314955041528992
         ]
        },
        {
         "hoverinfo": "text",
         "line": {
          "color": "rgba(128, 128, 128, 0.1)",
          "width": 1
         },
         "mode": "lines",
         "text": "0.14285714285714285",
         "type": "scatter",
         "x": [
          0.03413611857295227,
          -0.016023919840118115
         ],
         "y": [
          -0.045261707280717836,
          0.06551360928329812
         ]
        },
        {
         "hoverinfo": "text",
         "line": {
          "color": "rgba(128, 128, 128, 0.1)",
          "width": 1
         },
         "mode": "lines",
         "text": "1.0",
         "type": "scatter",
         "x": [
          0.03413611857295227,
          0.1033115932177682
         ],
         "y": [
          -0.045261707280717836,
          0.07607086985225013
         ]
        },
        {
         "hoverinfo": "text",
         "line": {
          "color": "rgba(128, 128, 128, 0.1)",
          "width": 1
         },
         "mode": "lines",
         "text": "1.0",
         "type": "scatter",
         "x": [
          0.03413611857295227,
          -0.07624885500352627
         ],
         "y": [
          -0.045261707280717836,
          0.15917288408740757
         ]
        },
        {
         "hoverinfo": "text",
         "line": {
          "color": "rgba(128, 128, 128, 0.1)",
          "width": 1
         },
         "mode": "lines",
         "text": "1.0",
         "type": "scatter",
         "x": [
          -0.010014981705735232,
          -0.1478754943400885
         ],
         "y": [
          -0.17904649574108236,
          -0.05958755541398896
         ]
        },
        {
         "hoverinfo": "text",
         "line": {
          "color": "rgba(128, 128, 128, 0.1)",
          "width": 1
         },
         "mode": "lines",
         "text": "1.0",
         "type": "scatter",
         "x": [
          -0.010014981705735232,
          -0.16560984773244175
         ],
         "y": [
          -0.17904649574108236,
          -0.09578833518448984
         ]
        },
        {
         "hoverinfo": "text",
         "line": {
          "color": "rgba(128, 128, 128, 0.1)",
          "width": 1
         },
         "mode": "lines",
         "text": "1.0",
         "type": "scatter",
         "x": [
          -0.010014981705735232,
          0.03707860110223772
         ],
         "y": [
          -0.17904649574108236,
          0.00854583238404772
         ]
        },
        {
         "hoverinfo": "text",
         "line": {
          "color": "rgba(128, 128, 128, 0.1)",
          "width": 1
         },
         "mode": "lines",
         "text": "1.0",
         "type": "scatter",
         "x": [
          -0.010014981705735232,
          0.04744752919388708
         ],
         "y": [
          -0.17904649574108236,
          0.10862272596487159
         ]
        },
        {
         "hoverinfo": "text",
         "line": {
          "color": "rgba(128, 128, 128, 0.1)",
          "width": 1
         },
         "mode": "lines",
         "text": "0.3333333333333333",
         "type": "scatter",
         "x": [
          -0.010014981705735232,
          0.13253592542256595
         ],
         "y": [
          -0.17904649574108236,
          0.009048390466498206
         ]
        },
        {
         "hoverinfo": "text",
         "line": {
          "color": "rgba(128, 128, 128, 0.1)",
          "width": 1
         },
         "mode": "lines",
         "text": "0.14285714285714285",
         "type": "scatter",
         "x": [
          -0.010014981705735232,
          -0.0722360939739467
         ],
         "y": [
          -0.17904649574108236,
          -0.02327822460820892
         ]
        },
        {
         "hoverinfo": "text",
         "line": {
          "color": "rgba(128, 128, 128, 0.1)",
          "width": 1
         },
         "mode": "lines",
         "text": "1.0",
         "type": "scatter",
         "x": [
          -0.010014981705735232,
          -0.057865789733090485
         ],
         "y": [
          -0.17904649574108236,
          -0.16208756461034668
         ]
        },
        {
         "hoverinfo": "text",
         "line": {
          "color": "rgba(128, 128, 128, 0.1)",
          "width": 1
         },
         "mode": "lines",
         "text": "0.14285714285714285",
         "type": "scatter",
         "x": [
          -0.010014981705735232,
          0.03528399353489137
         ],
         "y": [
          -0.17904649574108236,
          0.06629787652916196
         ]
        },
        {
         "hoverinfo": "text",
         "line": {
          "color": "rgba(128, 128, 128, 0.1)",
          "width": 1
         },
         "mode": "lines",
         "text": "1.0",
         "type": "scatter",
         "x": [
          -0.010014981705735232,
          -0.07466938126855868
         ],
         "y": [
          -0.17904649574108236,
          -0.11999046444602385
         ]
        },
        {
         "hoverinfo": "text",
         "line": {
          "color": "rgba(128, 128, 128, 0.1)",
          "width": 1
         },
         "mode": "lines",
         "text": "1.0",
         "type": "scatter",
         "x": [
          -0.010014981705735232,
          -0.09384834518561819
         ],
         "y": [
          -0.17904649574108236,
          0.024450807633515183
         ]
        },
        {
         "hoverinfo": "text",
         "line": {
          "color": "rgba(128, 128, 128, 0.1)",
          "width": 1
         },
         "mode": "lines",
         "text": "1.0",
         "type": "scatter",
         "x": [
          -0.010014981705735232,
          -0.1378008616166141
         ],
         "y": [
          -0.17904649574108236,
          0.007535428796133289
         ]
        },
        {
         "hoverinfo": "text",
         "line": {
          "color": "rgba(128, 128, 128, 0.1)",
          "width": 1
         },
         "mode": "lines",
         "text": "1.0",
         "type": "scatter",
         "x": [
          -0.010014981705735232,
          -0.0949504079612341
         ],
         "y": [
          -0.17904649574108236,
          -0.19337885839804358
         ]
        },
        {
         "hoverinfo": "text",
         "line": {
          "color": "rgba(128, 128, 128, 0.1)",
          "width": 1
         },
         "mode": "lines",
         "text": "0.1111111111111111",
         "type": "scatter",
         "x": [
          -0.010014981705735232,
          0.20147609498213323
         ],
         "y": [
          -0.17904649574108236,
          -0.048153245566312
         ]
        },
        {
         "hoverinfo": "text",
         "line": {
          "color": "rgba(128, 128, 128, 0.1)",
          "width": 1
         },
         "mode": "lines",
         "text": "1.0",
         "type": "scatter",
         "x": [
          -0.010014981705735232,
          -0.09323660092102859
         ],
         "y": [
          -0.17904649574108236,
          -0.07360207809045516
         ]
        },
        {
         "hoverinfo": "text",
         "line": {
          "color": "rgba(128, 128, 128, 0.1)",
          "width": 1
         },
         "mode": "lines",
         "text": "1.0",
         "type": "scatter",
         "x": [
          -0.010014981705735232,
          -0.07163226007633516
         ],
         "y": [
          -0.17904649574108236,
          0.06034094509750427
         ]
        },
        {
         "hoverinfo": "text",
         "line": {
          "color": "rgba(128, 128, 128, 0.1)",
          "width": 1
         },
         "mode": "lines",
         "text": "1.0",
         "type": "scatter",
         "x": [
          -0.010014981705735232,
          0.08727096597073872
         ],
         "y": [
          -0.17904649574108236,
          -0.020547012131089108
         ]
        },
        {
         "hoverinfo": "text",
         "line": {
          "color": "rgba(128, 128, 128, 0.1)",
          "width": 1
         },
         "mode": "lines",
         "text": "1.0",
         "type": "scatter",
         "x": [
          -0.010014981705735232,
          0.1685312976731628
         ],
         "y": [
          -0.17904649574108236,
          -0.117055298414665
         ]
        },
        {
         "hoverinfo": "text",
         "line": {
          "color": "rgba(128, 128, 128, 0.1)",
          "width": 1
         },
         "mode": "lines",
         "text": "1.0",
         "type": "scatter",
         "x": [
          -0.010014981705735232,
          -0.02390725817653629
         ],
         "y": [
          -0.17904649574108236,
          -0.03215261167696534
         ]
        },
        {
         "hoverinfo": "text",
         "line": {
          "color": "rgba(128, 128, 128, 0.1)",
          "width": 1
         },
         "mode": "lines",
         "text": "0.3333333333333333",
         "type": "scatter",
         "x": [
          -0.010014981705735232,
          -0.16344201769829808
         ],
         "y": [
          -0.17904649574108236,
          0.0429638835733472
         ]
        },
        {
         "hoverinfo": "text",
         "line": {
          "color": "rgba(128, 128, 128, 0.1)",
          "width": 1
         },
         "mode": "lines",
         "text": "0.3333333333333333",
         "type": "scatter",
         "x": [
          -0.010014981705735232,
          0.166123141387588
         ],
         "y": [
          -0.17904649574108236,
          0.06166865831771715
         ]
        },
        {
         "hoverinfo": "text",
         "line": {
          "color": "rgba(128, 128, 128, 0.1)",
          "width": 1
         },
         "mode": "lines",
         "text": "1.0",
         "type": "scatter",
         "x": [
          -0.010014981705735232,
          -0.019578528041053832
         ],
         "y": [
          -0.17904649574108236,
          -0.1014197181777017
         ]
        },
        {
         "hoverinfo": "text",
         "line": {
          "color": "rgba(128, 128, 128, 0.1)",
          "width": 1
         },
         "mode": "lines",
         "text": "1.0",
         "type": "scatter",
         "x": [
          -0.010014981705735232,
          -0.032465231272888105
         ],
         "y": [
          -0.17904649574108236,
          -0.2182550854092832
         ]
        },
        {
         "hoverinfo": "text",
         "line": {
          "color": "rgba(128, 128, 128, 0.1)",
          "width": 1
         },
         "mode": "lines",
         "text": "1.0",
         "type": "scatter",
         "x": [
          -0.010014981705735232,
          0.04648405342682209
         ],
         "y": [
          -0.17904649574108236,
          -0.10445288949657033
         ]
        },
        {
         "hoverinfo": "text",
         "line": {
          "color": "rgba(128, 128, 128, 0.1)",
          "width": 1
         },
         "mode": "lines",
         "text": "1.0",
         "type": "scatter",
         "x": [
          -0.010014981705735232,
          0.035485360010484135
         ],
         "y": [
          -0.17904649574108236,
          -0.15179063124126993
         ]
        },
        {
         "hoverinfo": "text",
         "line": {
          "color": "rgba(128, 128, 128, 0.1)",
          "width": 1
         },
         "mode": "lines",
         "text": "1.0",
         "type": "scatter",
         "x": [
          -0.010014981705735232,
          0.14845479866159975
         ],
         "y": [
          -0.17904649574108236,
          -0.042722723058193156
         ]
        },
        {
         "hoverinfo": "text",
         "line": {
          "color": "rgba(128, 128, 128, 0.1)",
          "width": 1
         },
         "mode": "lines",
         "text": "1.0",
         "type": "scatter",
         "x": [
          -0.010014981705735232,
          0.10002362627778762
         ],
         "y": [
          -0.17904649574108236,
          0.10501116025785338
         ]
        },
        {
         "hoverinfo": "text",
         "line": {
          "color": "rgba(128, 128, 128, 0.1)",
          "width": 1
         },
         "mode": "lines",
         "text": "1.0",
         "type": "scatter",
         "x": [
          -0.010014981705735232,
          -0.16620124598482677
         ],
         "y": [
          -0.17904649574108236,
          -0.01909129302872234
         ]
        },
        {
         "hoverinfo": "text",
         "line": {
          "color": "rgba(128, 128, 128, 0.1)",
          "width": 1
         },
         "mode": "lines",
         "text": "0.08333333333333333",
         "type": "scatter",
         "x": [
          -0.010014981705735232,
          0.10254243804351508
         ],
         "y": [
          -0.17904649574108236,
          -0.2532800348604361
         ]
        },
        {
         "hoverinfo": "text",
         "line": {
          "color": "rgba(128, 128, 128, 0.1)",
          "width": 1
         },
         "mode": "lines",
         "text": "0.5",
         "type": "scatter",
         "x": [
          -0.010014981705735232,
          0.005294593386108596
         ],
         "y": [
          -0.17904649574108236,
          0.13730846316385836
         ]
        },
        {
         "hoverinfo": "text",
         "line": {
          "color": "rgba(128, 128, 128, 0.1)",
          "width": 1
         },
         "mode": "lines",
         "text": "1.0",
         "type": "scatter",
         "x": [
          -0.010014981705735232,
          -0.12776709487089863
         ],
         "y": [
          -0.17904649574108236,
          -0.13201843882764794
         ]
        },
        {
         "hoverinfo": "text",
         "line": {
          "color": "rgba(128, 128, 128, 0.1)",
          "width": 1
         },
         "mode": "lines",
         "text": "1.0",
         "type": "scatter",
         "x": [
          -0.010014981705735232,
          0.12457960723897601
         ],
         "y": [
          -0.17904649574108236,
          -0.11512220422049145
         ]
        },
        {
         "hoverinfo": "text",
         "line": {
          "color": "rgba(128, 128, 128, 0.1)",
          "width": 1
         },
         "mode": "lines",
         "text": "1.0",
         "type": "scatter",
         "x": [
          -0.010014981705735232,
          0.038865278775735576
         ],
         "y": [
          -0.17904649574108236,
          -0.20376826594898925
         ]
        },
        {
         "hoverinfo": "text",
         "line": {
          "color": "rgba(128, 128, 128, 0.1)",
          "width": 1
         },
         "mode": "lines",
         "text": "1.0",
         "type": "scatter",
         "x": [
          -0.010014981705735232,
          0.08165673758741265
         ],
         "y": [
          -0.17904649574108236,
          -0.16334315634167867
         ]
        },
        {
         "hoverinfo": "text",
         "line": {
          "color": "rgba(128, 128, 128, 0.1)",
          "width": 1
         },
         "mode": "lines",
         "text": "0.5",
         "type": "scatter",
         "x": [
          -0.010014981705735232,
          0.11815707188034474
         ],
         "y": [
          -0.17904649574108236,
          -0.07442264680581974
         ]
        },
        {
         "hoverinfo": "text",
         "line": {
          "color": "rgba(128, 128, 128, 0.1)",
          "width": 1
         },
         "mode": "lines",
         "text": "1.0",
         "type": "scatter",
         "x": [
          -0.010014981705735232,
          -0.03383436954673177
         ],
         "y": [
          -0.17904649574108236,
          0.163279787590839
         ]
        },
        {
         "hoverinfo": "text",
         "line": {
          "color": "rgba(128, 128, 128, 0.1)",
          "width": 1
         },
         "mode": "lines",
         "text": "1.0",
         "type": "scatter",
         "x": [
          -0.010014981705735232,
          -0.1259222814179488
         ],
         "y": [
          -0.17904649574108236,
          0.10384437114009124
         ]
        },
        {
         "hoverinfo": "text",
         "line": {
          "color": "rgba(128, 128, 128, 0.1)",
          "width": 1
         },
         "mode": "lines",
         "text": "0.09090909090909091",
         "type": "scatter",
         "x": [
          -0.010014981705735232,
          0.19326865043805733
         ],
         "y": [
          -0.17904649574108236,
          0.029314955041528992
         ]
        },
        {
         "hoverinfo": "text",
         "line": {
          "color": "rgba(128, 128, 128, 0.1)",
          "width": 1
         },
         "mode": "lines",
         "text": "1.0",
         "type": "scatter",
         "x": [
          -0.010014981705735232,
          -0.016023919840118115
         ],
         "y": [
          -0.17904649574108236,
          0.06551360928329812
         ]
        },
        {
         "hoverinfo": "text",
         "line": {
          "color": "rgba(128, 128, 128, 0.1)",
          "width": 1
         },
         "mode": "lines",
         "text": "1.0",
         "type": "scatter",
         "x": [
          -0.010014981705735232,
          0.1033115932177682
         ],
         "y": [
          -0.17904649574108236,
          0.07607086985225013
         ]
        },
        {
         "hoverinfo": "text",
         "line": {
          "color": "rgba(128, 128, 128, 0.1)",
          "width": 1
         },
         "mode": "lines",
         "text": "0.3333333333333333",
         "type": "scatter",
         "x": [
          -0.010014981705735232,
          -0.07624885500352627
         ],
         "y": [
          -0.17904649574108236,
          0.15917288408740757
         ]
        },
        {
         "hoverinfo": "text",
         "line": {
          "color": "rgba(128, 128, 128, 0.1)",
          "width": 1
         },
         "mode": "lines",
         "text": "1.0",
         "type": "scatter",
         "x": [
          -0.1478754943400885,
          -0.16560984773244175
         ],
         "y": [
          -0.05958755541398896,
          -0.09578833518448984
         ]
        },
        {
         "hoverinfo": "text",
         "line": {
          "color": "rgba(128, 128, 128, 0.1)",
          "width": 1
         },
         "mode": "lines",
         "text": "1.0",
         "type": "scatter",
         "x": [
          -0.1478754943400885,
          0.03707860110223772
         ],
         "y": [
          -0.05958755541398896,
          0.00854583238404772
         ]
        },
        {
         "hoverinfo": "text",
         "line": {
          "color": "rgba(128, 128, 128, 0.1)",
          "width": 1
         },
         "mode": "lines",
         "text": "1.0",
         "type": "scatter",
         "x": [
          -0.1478754943400885,
          0.04744752919388708
         ],
         "y": [
          -0.05958755541398896,
          0.10862272596487159
         ]
        },
        {
         "hoverinfo": "text",
         "line": {
          "color": "rgba(128, 128, 128, 0.1)",
          "width": 1
         },
         "mode": "lines",
         "text": "1.0",
         "type": "scatter",
         "x": [
          -0.1478754943400885,
          0.13253592542256595
         ],
         "y": [
          -0.05958755541398896,
          0.009048390466498206
         ]
        },
        {
         "hoverinfo": "text",
         "line": {
          "color": "rgba(128, 128, 128, 0.1)",
          "width": 1
         },
         "mode": "lines",
         "text": "1.0",
         "type": "scatter",
         "x": [
          -0.1478754943400885,
          -0.0722360939739467
         ],
         "y": [
          -0.05958755541398896,
          -0.02327822460820892
         ]
        },
        {
         "hoverinfo": "text",
         "line": {
          "color": "rgba(128, 128, 128, 0.1)",
          "width": 1
         },
         "mode": "lines",
         "text": "1.0",
         "type": "scatter",
         "x": [
          -0.1478754943400885,
          -0.057865789733090485
         ],
         "y": [
          -0.05958755541398896,
          -0.16208756461034668
         ]
        },
        {
         "hoverinfo": "text",
         "line": {
          "color": "rgba(128, 128, 128, 0.1)",
          "width": 1
         },
         "mode": "lines",
         "text": "0.2",
         "type": "scatter",
         "x": [
          -0.1478754943400885,
          0.03528399353489137
         ],
         "y": [
          -0.05958755541398896,
          0.06629787652916196
         ]
        },
        {
         "hoverinfo": "text",
         "line": {
          "color": "rgba(128, 128, 128, 0.1)",
          "width": 1
         },
         "mode": "lines",
         "text": "1.0",
         "type": "scatter",
         "x": [
          -0.1478754943400885,
          -0.07466938126855868
         ],
         "y": [
          -0.05958755541398896,
          -0.11999046444602385
         ]
        },
        {
         "hoverinfo": "text",
         "line": {
          "color": "rgba(128, 128, 128, 0.1)",
          "width": 1
         },
         "mode": "lines",
         "text": "1.0",
         "type": "scatter",
         "x": [
          -0.1478754943400885,
          -0.09384834518561819
         ],
         "y": [
          -0.05958755541398896,
          0.024450807633515183
         ]
        },
        {
         "hoverinfo": "text",
         "line": {
          "color": "rgba(128, 128, 128, 0.1)",
          "width": 1
         },
         "mode": "lines",
         "text": "1.0",
         "type": "scatter",
         "x": [
          -0.1478754943400885,
          -0.1378008616166141
         ],
         "y": [
          -0.05958755541398896,
          0.007535428796133289
         ]
        },
        {
         "hoverinfo": "text",
         "line": {
          "color": "rgba(128, 128, 128, 0.1)",
          "width": 1
         },
         "mode": "lines",
         "text": "1.0",
         "type": "scatter",
         "x": [
          -0.1478754943400885,
          -0.0949504079612341
         ],
         "y": [
          -0.05958755541398896,
          -0.19337885839804358
         ]
        },
        {
         "hoverinfo": "text",
         "line": {
          "color": "rgba(128, 128, 128, 0.1)",
          "width": 1
         },
         "mode": "lines",
         "text": "0.1111111111111111",
         "type": "scatter",
         "x": [
          -0.1478754943400885,
          0.20147609498213323
         ],
         "y": [
          -0.05958755541398896,
          -0.048153245566312
         ]
        },
        {
         "hoverinfo": "text",
         "line": {
          "color": "rgba(128, 128, 128, 0.1)",
          "width": 1
         },
         "mode": "lines",
         "text": "1.0",
         "type": "scatter",
         "x": [
          -0.1478754943400885,
          -0.09323660092102859
         ],
         "y": [
          -0.05958755541398896,
          -0.07360207809045516
         ]
        },
        {
         "hoverinfo": "text",
         "line": {
          "color": "rgba(128, 128, 128, 0.1)",
          "width": 1
         },
         "mode": "lines",
         "text": "0.14285714285714285",
         "type": "scatter",
         "x": [
          -0.1478754943400885,
          -0.07163226007633516
         ],
         "y": [
          -0.05958755541398896,
          0.06034094509750427
         ]
        },
        {
         "hoverinfo": "text",
         "line": {
          "color": "rgba(128, 128, 128, 0.1)",
          "width": 1
         },
         "mode": "lines",
         "text": "0.14285714285714285",
         "type": "scatter",
         "x": [
          -0.1478754943400885,
          0.08727096597073872
         ],
         "y": [
          -0.05958755541398896,
          -0.020547012131089108
         ]
        },
        {
         "hoverinfo": "text",
         "line": {
          "color": "rgba(128, 128, 128, 0.1)",
          "width": 1
         },
         "mode": "lines",
         "text": "1.0",
         "type": "scatter",
         "x": [
          -0.1478754943400885,
          0.1685312976731628
         ],
         "y": [
          -0.05958755541398896,
          -0.117055298414665
         ]
        },
        {
         "hoverinfo": "text",
         "line": {
          "color": "rgba(128, 128, 128, 0.1)",
          "width": 1
         },
         "mode": "lines",
         "text": "1.0",
         "type": "scatter",
         "x": [
          -0.1478754943400885,
          -0.02390725817653629
         ],
         "y": [
          -0.05958755541398896,
          -0.03215261167696534
         ]
        },
        {
         "hoverinfo": "text",
         "line": {
          "color": "rgba(128, 128, 128, 0.1)",
          "width": 1
         },
         "mode": "lines",
         "text": "0.3333333333333333",
         "type": "scatter",
         "x": [
          -0.1478754943400885,
          -0.16344201769829808
         ],
         "y": [
          -0.05958755541398896,
          0.0429638835733472
         ]
        },
        {
         "hoverinfo": "text",
         "line": {
          "color": "rgba(128, 128, 128, 0.1)",
          "width": 1
         },
         "mode": "lines",
         "text": "1.0",
         "type": "scatter",
         "x": [
          -0.1478754943400885,
          0.166123141387588
         ],
         "y": [
          -0.05958755541398896,
          0.06166865831771715
         ]
        },
        {
         "hoverinfo": "text",
         "line": {
          "color": "rgba(128, 128, 128, 0.1)",
          "width": 1
         },
         "mode": "lines",
         "text": "0.3333333333333333",
         "type": "scatter",
         "x": [
          -0.1478754943400885,
          -0.019578528041053832
         ],
         "y": [
          -0.05958755541398896,
          -0.1014197181777017
         ]
        },
        {
         "hoverinfo": "text",
         "line": {
          "color": "rgba(128, 128, 128, 0.1)",
          "width": 1
         },
         "mode": "lines",
         "text": "1.0",
         "type": "scatter",
         "x": [
          -0.1478754943400885,
          -0.032465231272888105
         ],
         "y": [
          -0.05958755541398896,
          -0.2182550854092832
         ]
        },
        {
         "hoverinfo": "text",
         "line": {
          "color": "rgba(128, 128, 128, 0.1)",
          "width": 1
         },
         "mode": "lines",
         "text": "1.0",
         "type": "scatter",
         "x": [
          -0.1478754943400885,
          0.04648405342682209
         ],
         "y": [
          -0.05958755541398896,
          -0.10445288949657033
         ]
        },
        {
         "hoverinfo": "text",
         "line": {
          "color": "rgba(128, 128, 128, 0.1)",
          "width": 1
         },
         "mode": "lines",
         "text": "1.0",
         "type": "scatter",
         "x": [
          -0.1478754943400885,
          0.035485360010484135
         ],
         "y": [
          -0.05958755541398896,
          -0.15179063124126993
         ]
        },
        {
         "hoverinfo": "text",
         "line": {
          "color": "rgba(128, 128, 128, 0.1)",
          "width": 1
         },
         "mode": "lines",
         "text": "1.0",
         "type": "scatter",
         "x": [
          -0.1478754943400885,
          0.14845479866159975
         ],
         "y": [
          -0.05958755541398896,
          -0.042722723058193156
         ]
        },
        {
         "hoverinfo": "text",
         "line": {
          "color": "rgba(128, 128, 128, 0.1)",
          "width": 1
         },
         "mode": "lines",
         "text": "0.14285714285714285",
         "type": "scatter",
         "x": [
          -0.1478754943400885,
          0.10002362627778762
         ],
         "y": [
          -0.05958755541398896,
          0.10501116025785338
         ]
        },
        {
         "hoverinfo": "text",
         "line": {
          "color": "rgba(128, 128, 128, 0.1)",
          "width": 1
         },
         "mode": "lines",
         "text": "1.0",
         "type": "scatter",
         "x": [
          -0.1478754943400885,
          -0.16620124598482677
         ],
         "y": [
          -0.05958755541398896,
          -0.01909129302872234
         ]
        },
        {
         "hoverinfo": "text",
         "line": {
          "color": "rgba(128, 128, 128, 0.1)",
          "width": 1
         },
         "mode": "lines",
         "text": "0.08333333333333333",
         "type": "scatter",
         "x": [
          -0.1478754943400885,
          0.10254243804351508
         ],
         "y": [
          -0.05958755541398896,
          -0.2532800348604361
         ]
        },
        {
         "hoverinfo": "text",
         "line": {
          "color": "rgba(128, 128, 128, 0.1)",
          "width": 1
         },
         "mode": "lines",
         "text": "0.16666666666666666",
         "type": "scatter",
         "x": [
          -0.1478754943400885,
          0.005294593386108596
         ],
         "y": [
          -0.05958755541398896,
          0.13730846316385836
         ]
        },
        {
         "hoverinfo": "text",
         "line": {
          "color": "rgba(128, 128, 128, 0.1)",
          "width": 1
         },
         "mode": "lines",
         "text": "0.125",
         "type": "scatter",
         "x": [
          -0.1478754943400885,
          0.07162601478889682
         ],
         "y": [
          -0.05958755541398896,
          0.22727757704262716
         ]
        },
        {
         "hoverinfo": "text",
         "line": {
          "color": "rgba(128, 128, 128, 0.1)",
          "width": 1
         },
         "mode": "lines",
         "text": "1.0",
         "type": "scatter",
         "x": [
          -0.1478754943400885,
          -0.12776709487089863
         ],
         "y": [
          -0.05958755541398896,
          -0.13201843882764794
         ]
        },
        {
         "hoverinfo": "text",
         "line": {
          "color": "rgba(128, 128, 128, 0.1)",
          "width": 1
         },
         "mode": "lines",
         "text": "1.0",
         "type": "scatter",
         "x": [
          -0.1478754943400885,
          0.12457960723897601
         ],
         "y": [
          -0.05958755541398896,
          -0.11512220422049145
         ]
        },
        {
         "hoverinfo": "text",
         "line": {
          "color": "rgba(128, 128, 128, 0.1)",
          "width": 1
         },
         "mode": "lines",
         "text": "1.0",
         "type": "scatter",
         "x": [
          -0.1478754943400885,
          0.038865278775735576
         ],
         "y": [
          -0.05958755541398896,
          -0.20376826594898925
         ]
        },
        {
         "hoverinfo": "text",
         "line": {
          "color": "rgba(128, 128, 128, 0.1)",
          "width": 1
         },
         "mode": "lines",
         "text": "1.0",
         "type": "scatter",
         "x": [
          -0.1478754943400885,
          0.08165673758741265
         ],
         "y": [
          -0.05958755541398896,
          -0.16334315634167867
         ]
        },
        {
         "hoverinfo": "text",
         "line": {
          "color": "rgba(128, 128, 128, 0.1)",
          "width": 1
         },
         "mode": "lines",
         "text": "0.5",
         "type": "scatter",
         "x": [
          -0.1478754943400885,
          0.11815707188034474
         ],
         "y": [
          -0.05958755541398896,
          -0.07442264680581974
         ]
        },
        {
         "hoverinfo": "text",
         "line": {
          "color": "rgba(128, 128, 128, 0.1)",
          "width": 1
         },
         "mode": "lines",
         "text": "1.0",
         "type": "scatter",
         "x": [
          -0.1478754943400885,
          -0.03383436954673177
         ],
         "y": [
          -0.05958755541398896,
          0.163279787590839
         ]
        },
        {
         "hoverinfo": "text",
         "line": {
          "color": "rgba(128, 128, 128, 0.1)",
          "width": 1
         },
         "mode": "lines",
         "text": "1.0",
         "type": "scatter",
         "x": [
          -0.1478754943400885,
          -0.1259222814179488
         ],
         "y": [
          -0.05958755541398896,
          0.10384437114009124
         ]
        },
        {
         "hoverinfo": "text",
         "line": {
          "color": "rgba(128, 128, 128, 0.1)",
          "width": 1
         },
         "mode": "lines",
         "text": "1.0",
         "type": "scatter",
         "x": [
          -0.1478754943400885,
          0.19326865043805733
         ],
         "y": [
          -0.05958755541398896,
          0.029314955041528992
         ]
        },
        {
         "hoverinfo": "text",
         "line": {
          "color": "rgba(128, 128, 128, 0.1)",
          "width": 1
         },
         "mode": "lines",
         "text": "1.0",
         "type": "scatter",
         "x": [
          -0.1478754943400885,
          -0.016023919840118115
         ],
         "y": [
          -0.05958755541398896,
          0.06551360928329812
         ]
        },
        {
         "hoverinfo": "text",
         "line": {
          "color": "rgba(128, 128, 128, 0.1)",
          "width": 1
         },
         "mode": "lines",
         "text": "1.0",
         "type": "scatter",
         "x": [
          -0.1478754943400885,
          0.1033115932177682
         ],
         "y": [
          -0.05958755541398896,
          0.07607086985225013
         ]
        },
        {
         "hoverinfo": "text",
         "line": {
          "color": "rgba(128, 128, 128, 0.1)",
          "width": 1
         },
         "mode": "lines",
         "text": "1.0",
         "type": "scatter",
         "x": [
          -0.1478754943400885,
          -0.07624885500352627
         ],
         "y": [
          -0.05958755541398896,
          0.15917288408740757
         ]
        },
        {
         "hoverinfo": "text",
         "line": {
          "color": "rgba(128, 128, 128, 0.1)",
          "width": 1
         },
         "mode": "lines",
         "text": "1.0",
         "type": "scatter",
         "x": [
          -0.16560984773244175,
          0.03707860110223772
         ],
         "y": [
          -0.09578833518448984,
          0.00854583238404772
         ]
        },
        {
         "hoverinfo": "text",
         "line": {
          "color": "rgba(128, 128, 128, 0.1)",
          "width": 1
         },
         "mode": "lines",
         "text": "1.0",
         "type": "scatter",
         "x": [
          -0.16560984773244175,
          0.04744752919388708
         ],
         "y": [
          -0.09578833518448984,
          0.10862272596487159
         ]
        },
        {
         "hoverinfo": "text",
         "line": {
          "color": "rgba(128, 128, 128, 0.1)",
          "width": 1
         },
         "mode": "lines",
         "text": "1.0",
         "type": "scatter",
         "x": [
          -0.16560984773244175,
          0.13253592542256595
         ],
         "y": [
          -0.09578833518448984,
          0.009048390466498206
         ]
        },
        {
         "hoverinfo": "text",
         "line": {
          "color": "rgba(128, 128, 128, 0.1)",
          "width": 1
         },
         "mode": "lines",
         "text": "1.0",
         "type": "scatter",
         "x": [
          -0.16560984773244175,
          -0.0722360939739467
         ],
         "y": [
          -0.09578833518448984,
          -0.02327822460820892
         ]
        },
        {
         "hoverinfo": "text",
         "line": {
          "color": "rgba(128, 128, 128, 0.1)",
          "width": 1
         },
         "mode": "lines",
         "text": "1.0",
         "type": "scatter",
         "x": [
          -0.16560984773244175,
          -0.057865789733090485
         ],
         "y": [
          -0.09578833518448984,
          -0.16208756461034668
         ]
        },
        {
         "hoverinfo": "text",
         "line": {
          "color": "rgba(128, 128, 128, 0.1)",
          "width": 1
         },
         "mode": "lines",
         "text": "0.1111111111111111",
         "type": "scatter",
         "x": [
          -0.16560984773244175,
          0.03528399353489137
         ],
         "y": [
          -0.09578833518448984,
          0.06629787652916196
         ]
        },
        {
         "hoverinfo": "text",
         "line": {
          "color": "rgba(128, 128, 128, 0.1)",
          "width": 1
         },
         "mode": "lines",
         "text": "1.0",
         "type": "scatter",
         "x": [
          -0.16560984773244175,
          -0.07466938126855868
         ],
         "y": [
          -0.09578833518448984,
          -0.11999046444602385
         ]
        },
        {
         "hoverinfo": "text",
         "line": {
          "color": "rgba(128, 128, 128, 0.1)",
          "width": 1
         },
         "mode": "lines",
         "text": "1.0",
         "type": "scatter",
         "x": [
          -0.16560984773244175,
          -0.09384834518561819
         ],
         "y": [
          -0.09578833518448984,
          0.024450807633515183
         ]
        },
        {
         "hoverinfo": "text",
         "line": {
          "color": "rgba(128, 128, 128, 0.1)",
          "width": 1
         },
         "mode": "lines",
         "text": "1.0",
         "type": "scatter",
         "x": [
          -0.16560984773244175,
          -0.1378008616166141
         ],
         "y": [
          -0.09578833518448984,
          0.007535428796133289
         ]
        },
        {
         "hoverinfo": "text",
         "line": {
          "color": "rgba(128, 128, 128, 0.1)",
          "width": 1
         },
         "mode": "lines",
         "text": "1.0",
         "type": "scatter",
         "x": [
          -0.16560984773244175,
          -0.0949504079612341
         ],
         "y": [
          -0.09578833518448984,
          -0.19337885839804358
         ]
        },
        {
         "hoverinfo": "text",
         "line": {
          "color": "rgba(128, 128, 128, 0.1)",
          "width": 1
         },
         "mode": "lines",
         "text": "0.1111111111111111",
         "type": "scatter",
         "x": [
          -0.16560984773244175,
          0.20147609498213323
         ],
         "y": [
          -0.09578833518448984,
          -0.048153245566312
         ]
        },
        {
         "hoverinfo": "text",
         "line": {
          "color": "rgba(128, 128, 128, 0.1)",
          "width": 1
         },
         "mode": "lines",
         "text": "1.0",
         "type": "scatter",
         "x": [
          -0.16560984773244175,
          -0.09323660092102859
         ],
         "y": [
          -0.09578833518448984,
          -0.07360207809045516
         ]
        },
        {
         "hoverinfo": "text",
         "line": {
          "color": "rgba(128, 128, 128, 0.1)",
          "width": 1
         },
         "mode": "lines",
         "text": "1.0",
         "type": "scatter",
         "x": [
          -0.16560984773244175,
          -0.07163226007633516
         ],
         "y": [
          -0.09578833518448984,
          0.06034094509750427
         ]
        },
        {
         "hoverinfo": "text",
         "line": {
          "color": "rgba(128, 128, 128, 0.1)",
          "width": 1
         },
         "mode": "lines",
         "text": "1.0",
         "type": "scatter",
         "x": [
          -0.16560984773244175,
          0.08727096597073872
         ],
         "y": [
          -0.09578833518448984,
          -0.020547012131089108
         ]
        },
        {
         "hoverinfo": "text",
         "line": {
          "color": "rgba(128, 128, 128, 0.1)",
          "width": 1
         },
         "mode": "lines",
         "text": "1.0",
         "type": "scatter",
         "x": [
          -0.16560984773244175,
          0.1685312976731628
         ],
         "y": [
          -0.09578833518448984,
          -0.117055298414665
         ]
        },
        {
         "hoverinfo": "text",
         "line": {
          "color": "rgba(128, 128, 128, 0.1)",
          "width": 1
         },
         "mode": "lines",
         "text": "1.0",
         "type": "scatter",
         "x": [
          -0.16560984773244175,
          -0.02390725817653629
         ],
         "y": [
          -0.09578833518448984,
          -0.03215261167696534
         ]
        },
        {
         "hoverinfo": "text",
         "line": {
          "color": "rgba(128, 128, 128, 0.1)",
          "width": 1
         },
         "mode": "lines",
         "text": "1.0",
         "type": "scatter",
         "x": [
          -0.16560984773244175,
          -0.16344201769829808
         ],
         "y": [
          -0.09578833518448984,
          0.0429638835733472
         ]
        },
        {
         "hoverinfo": "text",
         "line": {
          "color": "rgba(128, 128, 128, 0.1)",
          "width": 1
         },
         "mode": "lines",
         "text": "1.0",
         "type": "scatter",
         "x": [
          -0.16560984773244175,
          0.166123141387588
         ],
         "y": [
          -0.09578833518448984,
          0.06166865831771715
         ]
        },
        {
         "hoverinfo": "text",
         "line": {
          "color": "rgba(128, 128, 128, 0.1)",
          "width": 1
         },
         "mode": "lines",
         "text": "1.0",
         "type": "scatter",
         "x": [
          -0.16560984773244175,
          -0.019578528041053832
         ],
         "y": [
          -0.09578833518448984,
          -0.1014197181777017
         ]
        },
        {
         "hoverinfo": "text",
         "line": {
          "color": "rgba(128, 128, 128, 0.1)",
          "width": 1
         },
         "mode": "lines",
         "text": "1.0",
         "type": "scatter",
         "x": [
          -0.16560984773244175,
          -0.032465231272888105
         ],
         "y": [
          -0.09578833518448984,
          -0.2182550854092832
         ]
        },
        {
         "hoverinfo": "text",
         "line": {
          "color": "rgba(128, 128, 128, 0.1)",
          "width": 1
         },
         "mode": "lines",
         "text": "1.0",
         "type": "scatter",
         "x": [
          -0.16560984773244175,
          0.04648405342682209
         ],
         "y": [
          -0.09578833518448984,
          -0.10445288949657033
         ]
        },
        {
         "hoverinfo": "text",
         "line": {
          "color": "rgba(128, 128, 128, 0.1)",
          "width": 1
         },
         "mode": "lines",
         "text": "1.0",
         "type": "scatter",
         "x": [
          -0.16560984773244175,
          0.035485360010484135
         ],
         "y": [
          -0.09578833518448984,
          -0.15179063124126993
         ]
        },
        {
         "hoverinfo": "text",
         "line": {
          "color": "rgba(128, 128, 128, 0.1)",
          "width": 1
         },
         "mode": "lines",
         "text": "1.0",
         "type": "scatter",
         "x": [
          -0.16560984773244175,
          0.14845479866159975
         ],
         "y": [
          -0.09578833518448984,
          -0.042722723058193156
         ]
        },
        {
         "hoverinfo": "text",
         "line": {
          "color": "rgba(128, 128, 128, 0.1)",
          "width": 1
         },
         "mode": "lines",
         "text": "1.0",
         "type": "scatter",
         "x": [
          -0.16560984773244175,
          0.10002362627778762
         ],
         "y": [
          -0.09578833518448984,
          0.10501116025785338
         ]
        },
        {
         "hoverinfo": "text",
         "line": {
          "color": "rgba(128, 128, 128, 0.1)",
          "width": 1
         },
         "mode": "lines",
         "text": "1.0",
         "type": "scatter",
         "x": [
          -0.16560984773244175,
          -0.16620124598482677
         ],
         "y": [
          -0.09578833518448984,
          -0.01909129302872234
         ]
        },
        {
         "hoverinfo": "text",
         "line": {
          "color": "rgba(128, 128, 128, 0.1)",
          "width": 1
         },
         "mode": "lines",
         "text": "0.08333333333333333",
         "type": "scatter",
         "x": [
          -0.16560984773244175,
          0.10254243804351508
         ],
         "y": [
          -0.09578833518448984,
          -0.2532800348604361
         ]
        },
        {
         "hoverinfo": "text",
         "line": {
          "color": "rgba(128, 128, 128, 0.1)",
          "width": 1
         },
         "mode": "lines",
         "text": "0.5",
         "type": "scatter",
         "x": [
          -0.16560984773244175,
          0.005294593386108596
         ],
         "y": [
          -0.09578833518448984,
          0.13730846316385836
         ]
        },
        {
         "hoverinfo": "text",
         "line": {
          "color": "rgba(128, 128, 128, 0.1)",
          "width": 1
         },
         "mode": "lines",
         "text": "0.125",
         "type": "scatter",
         "x": [
          -0.16560984773244175,
          0.07162601478889682
         ],
         "y": [
          -0.09578833518448984,
          0.22727757704262716
         ]
        },
        {
         "hoverinfo": "text",
         "line": {
          "color": "rgba(128, 128, 128, 0.1)",
          "width": 1
         },
         "mode": "lines",
         "text": "1.0",
         "type": "scatter",
         "x": [
          -0.16560984773244175,
          -0.12776709487089863
         ],
         "y": [
          -0.09578833518448984,
          -0.13201843882764794
         ]
        },
        {
         "hoverinfo": "text",
         "line": {
          "color": "rgba(128, 128, 128, 0.1)",
          "width": 1
         },
         "mode": "lines",
         "text": "1.0",
         "type": "scatter",
         "x": [
          -0.16560984773244175,
          0.12457960723897601
         ],
         "y": [
          -0.09578833518448984,
          -0.11512220422049145
         ]
        },
        {
         "hoverinfo": "text",
         "line": {
          "color": "rgba(128, 128, 128, 0.1)",
          "width": 1
         },
         "mode": "lines",
         "text": "1.0",
         "type": "scatter",
         "x": [
          -0.16560984773244175,
          0.038865278775735576
         ],
         "y": [
          -0.09578833518448984,
          -0.20376826594898925
         ]
        },
        {
         "hoverinfo": "text",
         "line": {
          "color": "rgba(128, 128, 128, 0.1)",
          "width": 1
         },
         "mode": "lines",
         "text": "1.0",
         "type": "scatter",
         "x": [
          -0.16560984773244175,
          0.08165673758741265
         ],
         "y": [
          -0.09578833518448984,
          -0.16334315634167867
         ]
        },
        {
         "hoverinfo": "text",
         "line": {
          "color": "rgba(128, 128, 128, 0.1)",
          "width": 1
         },
         "mode": "lines",
         "text": "0.5",
         "type": "scatter",
         "x": [
          -0.16560984773244175,
          0.11815707188034474
         ],
         "y": [
          -0.09578833518448984,
          -0.07442264680581974
         ]
        },
        {
         "hoverinfo": "text",
         "line": {
          "color": "rgba(128, 128, 128, 0.1)",
          "width": 1
         },
         "mode": "lines",
         "text": "1.0",
         "type": "scatter",
         "x": [
          -0.16560984773244175,
          -0.03383436954673177
         ],
         "y": [
          -0.09578833518448984,
          0.163279787590839
         ]
        },
        {
         "hoverinfo": "text",
         "line": {
          "color": "rgba(128, 128, 128, 0.1)",
          "width": 1
         },
         "mode": "lines",
         "text": "1.0",
         "type": "scatter",
         "x": [
          -0.16560984773244175,
          -0.1259222814179488
         ],
         "y": [
          -0.09578833518448984,
          0.10384437114009124
         ]
        },
        {
         "hoverinfo": "text",
         "line": {
          "color": "rgba(128, 128, 128, 0.1)",
          "width": 1
         },
         "mode": "lines",
         "text": "1.0",
         "type": "scatter",
         "x": [
          -0.16560984773244175,
          0.19326865043805733
         ],
         "y": [
          -0.09578833518448984,
          0.029314955041528992
         ]
        },
        {
         "hoverinfo": "text",
         "line": {
          "color": "rgba(128, 128, 128, 0.1)",
          "width": 1
         },
         "mode": "lines",
         "text": "1.0",
         "type": "scatter",
         "x": [
          -0.16560984773244175,
          -0.016023919840118115
         ],
         "y": [
          -0.09578833518448984,
          0.06551360928329812
         ]
        },
        {
         "hoverinfo": "text",
         "line": {
          "color": "rgba(128, 128, 128, 0.1)",
          "width": 1
         },
         "mode": "lines",
         "text": "1.0",
         "type": "scatter",
         "x": [
          -0.16560984773244175,
          0.1033115932177682
         ],
         "y": [
          -0.09578833518448984,
          0.07607086985225013
         ]
        },
        {
         "hoverinfo": "text",
         "line": {
          "color": "rgba(128, 128, 128, 0.1)",
          "width": 1
         },
         "mode": "lines",
         "text": "1.0",
         "type": "scatter",
         "x": [
          -0.16560984773244175,
          -0.07624885500352627
         ],
         "y": [
          -0.09578833518448984,
          0.15917288408740757
         ]
        },
        {
         "hoverinfo": "text",
         "line": {
          "color": "rgba(128, 128, 128, 0.1)",
          "width": 1
         },
         "mode": "lines",
         "text": "1.0",
         "type": "scatter",
         "x": [
          0.03707860110223772,
          0.04744752919388708
         ],
         "y": [
          0.00854583238404772,
          0.10862272596487159
         ]
        },
        {
         "hoverinfo": "text",
         "line": {
          "color": "rgba(128, 128, 128, 0.1)",
          "width": 1
         },
         "mode": "lines",
         "text": "1.0",
         "type": "scatter",
         "x": [
          0.03707860110223772,
          0.13253592542256595
         ],
         "y": [
          0.00854583238404772,
          0.009048390466498206
         ]
        },
        {
         "hoverinfo": "text",
         "line": {
          "color": "rgba(128, 128, 128, 0.1)",
          "width": 1
         },
         "mode": "lines",
         "text": "1.0",
         "type": "scatter",
         "x": [
          0.03707860110223772,
          -0.0722360939739467
         ],
         "y": [
          0.00854583238404772,
          -0.02327822460820892
         ]
        },
        {
         "hoverinfo": "text",
         "line": {
          "color": "rgba(128, 128, 128, 0.1)",
          "width": 1
         },
         "mode": "lines",
         "text": "1.0",
         "type": "scatter",
         "x": [
          0.03707860110223772,
          -0.057865789733090485
         ],
         "y": [
          0.00854583238404772,
          -0.16208756461034668
         ]
        },
        {
         "hoverinfo": "text",
         "line": {
          "color": "rgba(128, 128, 128, 0.1)",
          "width": 1
         },
         "mode": "lines",
         "text": "1.0",
         "type": "scatter",
         "x": [
          0.03707860110223772,
          0.03528399353489137
         ],
         "y": [
          0.00854583238404772,
          0.06629787652916196
         ]
        },
        {
         "hoverinfo": "text",
         "line": {
          "color": "rgba(128, 128, 128, 0.1)",
          "width": 1
         },
         "mode": "lines",
         "text": "1.0",
         "type": "scatter",
         "x": [
          0.03707860110223772,
          -0.07466938126855868
         ],
         "y": [
          0.00854583238404772,
          -0.11999046444602385
         ]
        },
        {
         "hoverinfo": "text",
         "line": {
          "color": "rgba(128, 128, 128, 0.1)",
          "width": 1
         },
         "mode": "lines",
         "text": "1.0",
         "type": "scatter",
         "x": [
          0.03707860110223772,
          -0.09384834518561819
         ],
         "y": [
          0.00854583238404772,
          0.024450807633515183
         ]
        },
        {
         "hoverinfo": "text",
         "line": {
          "color": "rgba(128, 128, 128, 0.1)",
          "width": 1
         },
         "mode": "lines",
         "text": "1.0",
         "type": "scatter",
         "x": [
          0.03707860110223772,
          -0.1378008616166141
         ],
         "y": [
          0.00854583238404772,
          0.007535428796133289
         ]
        },
        {
         "hoverinfo": "text",
         "line": {
          "color": "rgba(128, 128, 128, 0.1)",
          "width": 1
         },
         "mode": "lines",
         "text": "1.0",
         "type": "scatter",
         "x": [
          0.03707860110223772,
          -0.0949504079612341
         ],
         "y": [
          0.00854583238404772,
          -0.19337885839804358
         ]
        },
        {
         "hoverinfo": "text",
         "line": {
          "color": "rgba(128, 128, 128, 0.1)",
          "width": 1
         },
         "mode": "lines",
         "text": "0.1111111111111111",
         "type": "scatter",
         "x": [
          0.03707860110223772,
          0.20147609498213323
         ],
         "y": [
          0.00854583238404772,
          -0.048153245566312
         ]
        },
        {
         "hoverinfo": "text",
         "line": {
          "color": "rgba(128, 128, 128, 0.1)",
          "width": 1
         },
         "mode": "lines",
         "text": "1.0",
         "type": "scatter",
         "x": [
          0.03707860110223772,
          -0.09323660092102859
         ],
         "y": [
          0.00854583238404772,
          -0.07360207809045516
         ]
        },
        {
         "hoverinfo": "text",
         "line": {
          "color": "rgba(128, 128, 128, 0.1)",
          "width": 1
         },
         "mode": "lines",
         "text": "1.0",
         "type": "scatter",
         "x": [
          0.03707860110223772,
          -0.07163226007633516
         ],
         "y": [
          0.00854583238404772,
          0.06034094509750427
         ]
        },
        {
         "hoverinfo": "text",
         "line": {
          "color": "rgba(128, 128, 128, 0.1)",
          "width": 1
         },
         "mode": "lines",
         "text": "1.0",
         "type": "scatter",
         "x": [
          0.03707860110223772,
          0.08727096597073872
         ],
         "y": [
          0.00854583238404772,
          -0.020547012131089108
         ]
        },
        {
         "hoverinfo": "text",
         "line": {
          "color": "rgba(128, 128, 128, 0.1)",
          "width": 1
         },
         "mode": "lines",
         "text": "1.0",
         "type": "scatter",
         "x": [
          0.03707860110223772,
          0.1685312976731628
         ],
         "y": [
          0.00854583238404772,
          -0.117055298414665
         ]
        },
        {
         "hoverinfo": "text",
         "line": {
          "color": "rgba(128, 128, 128, 0.1)",
          "width": 1
         },
         "mode": "lines",
         "text": "1.0",
         "type": "scatter",
         "x": [
          0.03707860110223772,
          -0.02390725817653629
         ],
         "y": [
          0.00854583238404772,
          -0.03215261167696534
         ]
        },
        {
         "hoverinfo": "text",
         "line": {
          "color": "rgba(128, 128, 128, 0.1)",
          "width": 1
         },
         "mode": "lines",
         "text": "0.3333333333333333",
         "type": "scatter",
         "x": [
          0.03707860110223772,
          -0.16344201769829808
         ],
         "y": [
          0.00854583238404772,
          0.0429638835733472
         ]
        },
        {
         "hoverinfo": "text",
         "line": {
          "color": "rgba(128, 128, 128, 0.1)",
          "width": 1
         },
         "mode": "lines",
         "text": "0.14285714285714285",
         "type": "scatter",
         "x": [
          0.03707860110223772,
          0.166123141387588
         ],
         "y": [
          0.00854583238404772,
          0.06166865831771715
         ]
        },
        {
         "hoverinfo": "text",
         "line": {
          "color": "rgba(128, 128, 128, 0.1)",
          "width": 1
         },
         "mode": "lines",
         "text": "1.0",
         "type": "scatter",
         "x": [
          0.03707860110223772,
          -0.019578528041053832
         ],
         "y": [
          0.00854583238404772,
          -0.1014197181777017
         ]
        },
        {
         "hoverinfo": "text",
         "line": {
          "color": "rgba(128, 128, 128, 0.1)",
          "width": 1
         },
         "mode": "lines",
         "text": "1.0",
         "type": "scatter",
         "x": [
          0.03707860110223772,
          -0.032465231272888105
         ],
         "y": [
          0.00854583238404772,
          -0.2182550854092832
         ]
        },
        {
         "hoverinfo": "text",
         "line": {
          "color": "rgba(128, 128, 128, 0.1)",
          "width": 1
         },
         "mode": "lines",
         "text": "1.0",
         "type": "scatter",
         "x": [
          0.03707860110223772,
          0.04648405342682209
         ],
         "y": [
          0.00854583238404772,
          -0.10445288949657033
         ]
        },
        {
         "hoverinfo": "text",
         "line": {
          "color": "rgba(128, 128, 128, 0.1)",
          "width": 1
         },
         "mode": "lines",
         "text": "1.0",
         "type": "scatter",
         "x": [
          0.03707860110223772,
          0.035485360010484135
         ],
         "y": [
          0.00854583238404772,
          -0.15179063124126993
         ]
        },
        {
         "hoverinfo": "text",
         "line": {
          "color": "rgba(128, 128, 128, 0.1)",
          "width": 1
         },
         "mode": "lines",
         "text": "1.0",
         "type": "scatter",
         "x": [
          0.03707860110223772,
          0.14845479866159975
         ],
         "y": [
          0.00854583238404772,
          -0.042722723058193156
         ]
        },
        {
         "hoverinfo": "text",
         "line": {
          "color": "rgba(128, 128, 128, 0.1)",
          "width": 1
         },
         "mode": "lines",
         "text": "1.0",
         "type": "scatter",
         "x": [
          0.03707860110223772,
          0.10002362627778762
         ],
         "y": [
          0.00854583238404772,
          0.10501116025785338
         ]
        },
        {
         "hoverinfo": "text",
         "line": {
          "color": "rgba(128, 128, 128, 0.1)",
          "width": 1
         },
         "mode": "lines",
         "text": "1.0",
         "type": "scatter",
         "x": [
          0.03707860110223772,
          -0.16620124598482677
         ],
         "y": [
          0.00854583238404772,
          -0.01909129302872234
         ]
        },
        {
         "hoverinfo": "text",
         "line": {
          "color": "rgba(128, 128, 128, 0.1)",
          "width": 1
         },
         "mode": "lines",
         "text": "0.07142857142857142",
         "type": "scatter",
         "x": [
          0.03707860110223772,
          0.10254243804351508
         ],
         "y": [
          0.00854583238404772,
          -0.2532800348604361
         ]
        },
        {
         "hoverinfo": "text",
         "line": {
          "color": "rgba(128, 128, 128, 0.1)",
          "width": 1
         },
         "mode": "lines",
         "text": "0.5",
         "type": "scatter",
         "x": [
          0.03707860110223772,
          0.005294593386108596
         ],
         "y": [
          0.00854583238404772,
          0.13730846316385836
         ]
        },
        {
         "hoverinfo": "text",
         "line": {
          "color": "rgba(128, 128, 128, 0.1)",
          "width": 1
         },
         "mode": "lines",
         "text": "0.125",
         "type": "scatter",
         "x": [
          0.03707860110223772,
          0.07162601478889682
         ],
         "y": [
          0.00854583238404772,
          0.22727757704262716
         ]
        },
        {
         "hoverinfo": "text",
         "line": {
          "color": "rgba(128, 128, 128, 0.1)",
          "width": 1
         },
         "mode": "lines",
         "text": "1.0",
         "type": "scatter",
         "x": [
          0.03707860110223772,
          -0.12776709487089863
         ],
         "y": [
          0.00854583238404772,
          -0.13201843882764794
         ]
        },
        {
         "hoverinfo": "text",
         "line": {
          "color": "rgba(128, 128, 128, 0.1)",
          "width": 1
         },
         "mode": "lines",
         "text": "1.0",
         "type": "scatter",
         "x": [
          0.03707860110223772,
          0.12457960723897601
         ],
         "y": [
          0.00854583238404772,
          -0.11512220422049145
         ]
        },
        {
         "hoverinfo": "text",
         "line": {
          "color": "rgba(128, 128, 128, 0.1)",
          "width": 1
         },
         "mode": "lines",
         "text": "1.0",
         "type": "scatter",
         "x": [
          0.03707860110223772,
          0.038865278775735576
         ],
         "y": [
          0.00854583238404772,
          -0.20376826594898925
         ]
        },
        {
         "hoverinfo": "text",
         "line": {
          "color": "rgba(128, 128, 128, 0.1)",
          "width": 1
         },
         "mode": "lines",
         "text": "1.0",
         "type": "scatter",
         "x": [
          0.03707860110223772,
          0.08165673758741265
         ],
         "y": [
          0.00854583238404772,
          -0.16334315634167867
         ]
        },
        {
         "hoverinfo": "text",
         "line": {
          "color": "rgba(128, 128, 128, 0.1)",
          "width": 1
         },
         "mode": "lines",
         "text": "0.5",
         "type": "scatter",
         "x": [
          0.03707860110223772,
          0.11815707188034474
         ],
         "y": [
          0.00854583238404772,
          -0.07442264680581974
         ]
        },
        {
         "hoverinfo": "text",
         "line": {
          "color": "rgba(128, 128, 128, 0.1)",
          "width": 1
         },
         "mode": "lines",
         "text": "1.0",
         "type": "scatter",
         "x": [
          0.03707860110223772,
          -0.03383436954673177
         ],
         "y": [
          0.00854583238404772,
          0.163279787590839
         ]
        },
        {
         "hoverinfo": "text",
         "line": {
          "color": "rgba(128, 128, 128, 0.1)",
          "width": 1
         },
         "mode": "lines",
         "text": "1.0",
         "type": "scatter",
         "x": [
          0.03707860110223772,
          -0.1259222814179488
         ],
         "y": [
          0.00854583238404772,
          0.10384437114009124
         ]
        },
        {
         "hoverinfo": "text",
         "line": {
          "color": "rgba(128, 128, 128, 0.1)",
          "width": 1
         },
         "mode": "lines",
         "text": "0.1111111111111111",
         "type": "scatter",
         "x": [
          0.03707860110223772,
          0.19326865043805733
         ],
         "y": [
          0.00854583238404772,
          0.029314955041528992
         ]
        },
        {
         "hoverinfo": "text",
         "line": {
          "color": "rgba(128, 128, 128, 0.1)",
          "width": 1
         },
         "mode": "lines",
         "text": "1.0",
         "type": "scatter",
         "x": [
          0.03707860110223772,
          -0.016023919840118115
         ],
         "y": [
          0.00854583238404772,
          0.06551360928329812
         ]
        },
        {
         "hoverinfo": "text",
         "line": {
          "color": "rgba(128, 128, 128, 0.1)",
          "width": 1
         },
         "mode": "lines",
         "text": "1.0",
         "type": "scatter",
         "x": [
          0.03707860110223772,
          0.1033115932177682
         ],
         "y": [
          0.00854583238404772,
          0.07607086985225013
         ]
        },
        {
         "hoverinfo": "text",
         "line": {
          "color": "rgba(128, 128, 128, 0.1)",
          "width": 1
         },
         "mode": "lines",
         "text": "1.0",
         "type": "scatter",
         "x": [
          0.03707860110223772,
          -0.07624885500352627
         ],
         "y": [
          0.00854583238404772,
          0.15917288408740757
         ]
        },
        {
         "hoverinfo": "text",
         "line": {
          "color": "rgba(128, 128, 128, 0.1)",
          "width": 1
         },
         "mode": "lines",
         "text": "1.0",
         "type": "scatter",
         "x": [
          0.04744752919388708,
          0.13253592542256595
         ],
         "y": [
          0.10862272596487159,
          0.009048390466498206
         ]
        },
        {
         "hoverinfo": "text",
         "line": {
          "color": "rgba(128, 128, 128, 0.1)",
          "width": 1
         },
         "mode": "lines",
         "text": "1.0",
         "type": "scatter",
         "x": [
          0.04744752919388708,
          -0.0722360939739467
         ],
         "y": [
          0.10862272596487159,
          -0.02327822460820892
         ]
        },
        {
         "hoverinfo": "text",
         "line": {
          "color": "rgba(128, 128, 128, 0.1)",
          "width": 1
         },
         "mode": "lines",
         "text": "1.0",
         "type": "scatter",
         "x": [
          0.04744752919388708,
          -0.057865789733090485
         ],
         "y": [
          0.10862272596487159,
          -0.16208756461034668
         ]
        },
        {
         "hoverinfo": "text",
         "line": {
          "color": "rgba(128, 128, 128, 0.1)",
          "width": 1
         },
         "mode": "lines",
         "text": "1.0",
         "type": "scatter",
         "x": [
          0.04744752919388708,
          0.03528399353489137
         ],
         "y": [
          0.10862272596487159,
          0.06629787652916196
         ]
        },
        {
         "hoverinfo": "text",
         "line": {
          "color": "rgba(128, 128, 128, 0.1)",
          "width": 1
         },
         "mode": "lines",
         "text": "1.0",
         "type": "scatter",
         "x": [
          0.04744752919388708,
          -0.07466938126855868
         ],
         "y": [
          0.10862272596487159,
          -0.11999046444602385
         ]
        },
        {
         "hoverinfo": "text",
         "line": {
          "color": "rgba(128, 128, 128, 0.1)",
          "width": 1
         },
         "mode": "lines",
         "text": "1.0",
         "type": "scatter",
         "x": [
          0.04744752919388708,
          -0.09384834518561819
         ],
         "y": [
          0.10862272596487159,
          0.024450807633515183
         ]
        },
        {
         "hoverinfo": "text",
         "line": {
          "color": "rgba(128, 128, 128, 0.1)",
          "width": 1
         },
         "mode": "lines",
         "text": "1.0",
         "type": "scatter",
         "x": [
          0.04744752919388708,
          -0.1378008616166141
         ],
         "y": [
          0.10862272596487159,
          0.007535428796133289
         ]
        },
        {
         "hoverinfo": "text",
         "line": {
          "color": "rgba(128, 128, 128, 0.1)",
          "width": 1
         },
         "mode": "lines",
         "text": "1.0",
         "type": "scatter",
         "x": [
          0.04744752919388708,
          -0.0949504079612341
         ],
         "y": [
          0.10862272596487159,
          -0.19337885839804358
         ]
        },
        {
         "hoverinfo": "text",
         "line": {
          "color": "rgba(128, 128, 128, 0.1)",
          "width": 1
         },
         "mode": "lines",
         "text": "0.1111111111111111",
         "type": "scatter",
         "x": [
          0.04744752919388708,
          0.20147609498213323
         ],
         "y": [
          0.10862272596487159,
          -0.048153245566312
         ]
        },
        {
         "hoverinfo": "text",
         "line": {
          "color": "rgba(128, 128, 128, 0.1)",
          "width": 1
         },
         "mode": "lines",
         "text": "1.0",
         "type": "scatter",
         "x": [
          0.04744752919388708,
          -0.09323660092102859
         ],
         "y": [
          0.10862272596487159,
          -0.07360207809045516
         ]
        },
        {
         "hoverinfo": "text",
         "line": {
          "color": "rgba(128, 128, 128, 0.1)",
          "width": 1
         },
         "mode": "lines",
         "text": "1.0",
         "type": "scatter",
         "x": [
          0.04744752919388708,
          -0.07163226007633516
         ],
         "y": [
          0.10862272596487159,
          0.06034094509750427
         ]
        },
        {
         "hoverinfo": "text",
         "line": {
          "color": "rgba(128, 128, 128, 0.1)",
          "width": 1
         },
         "mode": "lines",
         "text": "1.0",
         "type": "scatter",
         "x": [
          0.04744752919388708,
          0.08727096597073872
         ],
         "y": [
          0.10862272596487159,
          -0.020547012131089108
         ]
        },
        {
         "hoverinfo": "text",
         "line": {
          "color": "rgba(128, 128, 128, 0.1)",
          "width": 1
         },
         "mode": "lines",
         "text": "1.0",
         "type": "scatter",
         "x": [
          0.04744752919388708,
          0.1685312976731628
         ],
         "y": [
          0.10862272596487159,
          -0.117055298414665
         ]
        },
        {
         "hoverinfo": "text",
         "line": {
          "color": "rgba(128, 128, 128, 0.1)",
          "width": 1
         },
         "mode": "lines",
         "text": "1.0",
         "type": "scatter",
         "x": [
          0.04744752919388708,
          -0.02390725817653629
         ],
         "y": [
          0.10862272596487159,
          -0.03215261167696534
         ]
        },
        {
         "hoverinfo": "text",
         "line": {
          "color": "rgba(128, 128, 128, 0.1)",
          "width": 1
         },
         "mode": "lines",
         "text": "0.3333333333333333",
         "type": "scatter",
         "x": [
          0.04744752919388708,
          -0.16344201769829808
         ],
         "y": [
          0.10862272596487159,
          0.0429638835733472
         ]
        },
        {
         "hoverinfo": "text",
         "line": {
          "color": "rgba(128, 128, 128, 0.1)",
          "width": 1
         },
         "mode": "lines",
         "text": "0.14285714285714285",
         "type": "scatter",
         "x": [
          0.04744752919388708,
          0.166123141387588
         ],
         "y": [
          0.10862272596487159,
          0.06166865831771715
         ]
        },
        {
         "hoverinfo": "text",
         "line": {
          "color": "rgba(128, 128, 128, 0.1)",
          "width": 1
         },
         "mode": "lines",
         "text": "1.0",
         "type": "scatter",
         "x": [
          0.04744752919388708,
          -0.019578528041053832
         ],
         "y": [
          0.10862272596487159,
          -0.1014197181777017
         ]
        },
        {
         "hoverinfo": "text",
         "line": {
          "color": "rgba(128, 128, 128, 0.1)",
          "width": 1
         },
         "mode": "lines",
         "text": "1.0",
         "type": "scatter",
         "x": [
          0.04744752919388708,
          -0.032465231272888105
         ],
         "y": [
          0.10862272596487159,
          -0.2182550854092832
         ]
        },
        {
         "hoverinfo": "text",
         "line": {
          "color": "rgba(128, 128, 128, 0.1)",
          "width": 1
         },
         "mode": "lines",
         "text": "1.0",
         "type": "scatter",
         "x": [
          0.04744752919388708,
          0.04648405342682209
         ],
         "y": [
          0.10862272596487159,
          -0.10445288949657033
         ]
        },
        {
         "hoverinfo": "text",
         "line": {
          "color": "rgba(128, 128, 128, 0.1)",
          "width": 1
         },
         "mode": "lines",
         "text": "1.0",
         "type": "scatter",
         "x": [
          0.04744752919388708,
          0.035485360010484135
         ],
         "y": [
          0.10862272596487159,
          -0.15179063124126993
         ]
        },
        {
         "hoverinfo": "text",
         "line": {
          "color": "rgba(128, 128, 128, 0.1)",
          "width": 1
         },
         "mode": "lines",
         "text": "1.0",
         "type": "scatter",
         "x": [
          0.04744752919388708,
          0.14845479866159975
         ],
         "y": [
          0.10862272596487159,
          -0.042722723058193156
         ]
        },
        {
         "hoverinfo": "text",
         "line": {
          "color": "rgba(128, 128, 128, 0.1)",
          "width": 1
         },
         "mode": "lines",
         "text": "1.0",
         "type": "scatter",
         "x": [
          0.04744752919388708,
          0.10002362627778762
         ],
         "y": [
          0.10862272596487159,
          0.10501116025785338
         ]
        },
        {
         "hoverinfo": "text",
         "line": {
          "color": "rgba(128, 128, 128, 0.1)",
          "width": 1
         },
         "mode": "lines",
         "text": "1.0",
         "type": "scatter",
         "x": [
          0.04744752919388708,
          -0.16620124598482677
         ],
         "y": [
          0.10862272596487159,
          -0.01909129302872234
         ]
        },
        {
         "hoverinfo": "text",
         "line": {
          "color": "rgba(128, 128, 128, 0.1)",
          "width": 1
         },
         "mode": "lines",
         "text": "0.05555555555555555",
         "type": "scatter",
         "x": [
          0.04744752919388708,
          0.10254243804351508
         ],
         "y": [
          0.10862272596487159,
          -0.2532800348604361
         ]
        },
        {
         "hoverinfo": "text",
         "line": {
          "color": "rgba(128, 128, 128, 0.1)",
          "width": 1
         },
         "mode": "lines",
         "text": "0.5",
         "type": "scatter",
         "x": [
          0.04744752919388708,
          0.005294593386108596
         ],
         "y": [
          0.10862272596487159,
          0.13730846316385836
         ]
        },
        {
         "hoverinfo": "text",
         "line": {
          "color": "rgba(128, 128, 128, 0.1)",
          "width": 1
         },
         "mode": "lines",
         "text": "0.125",
         "type": "scatter",
         "x": [
          0.04744752919388708,
          0.07162601478889682
         ],
         "y": [
          0.10862272596487159,
          0.22727757704262716
         ]
        },
        {
         "hoverinfo": "text",
         "line": {
          "color": "rgba(128, 128, 128, 0.1)",
          "width": 1
         },
         "mode": "lines",
         "text": "1.0",
         "type": "scatter",
         "x": [
          0.04744752919388708,
          -0.12776709487089863
         ],
         "y": [
          0.10862272596487159,
          -0.13201843882764794
         ]
        },
        {
         "hoverinfo": "text",
         "line": {
          "color": "rgba(128, 128, 128, 0.1)",
          "width": 1
         },
         "mode": "lines",
         "text": "1.0",
         "type": "scatter",
         "x": [
          0.04744752919388708,
          0.12457960723897601
         ],
         "y": [
          0.10862272596487159,
          -0.11512220422049145
         ]
        },
        {
         "hoverinfo": "text",
         "line": {
          "color": "rgba(128, 128, 128, 0.1)",
          "width": 1
         },
         "mode": "lines",
         "text": "1.0",
         "type": "scatter",
         "x": [
          0.04744752919388708,
          0.038865278775735576
         ],
         "y": [
          0.10862272596487159,
          -0.20376826594898925
         ]
        },
        {
         "hoverinfo": "text",
         "line": {
          "color": "rgba(128, 128, 128, 0.1)",
          "width": 1
         },
         "mode": "lines",
         "text": "1.0",
         "type": "scatter",
         "x": [
          0.04744752919388708,
          0.08165673758741265
         ],
         "y": [
          0.10862272596487159,
          -0.16334315634167867
         ]
        },
        {
         "hoverinfo": "text",
         "line": {
          "color": "rgba(128, 128, 128, 0.1)",
          "width": 1
         },
         "mode": "lines",
         "text": "0.5",
         "type": "scatter",
         "x": [
          0.04744752919388708,
          0.11815707188034474
         ],
         "y": [
          0.10862272596487159,
          -0.07442264680581974
         ]
        },
        {
         "hoverinfo": "text",
         "line": {
          "color": "rgba(128, 128, 128, 0.1)",
          "width": 1
         },
         "mode": "lines",
         "text": "1.0",
         "type": "scatter",
         "x": [
          0.04744752919388708,
          -0.03383436954673177
         ],
         "y": [
          0.10862272596487159,
          0.163279787590839
         ]
        },
        {
         "hoverinfo": "text",
         "line": {
          "color": "rgba(128, 128, 128, 0.1)",
          "width": 1
         },
         "mode": "lines",
         "text": "1.0",
         "type": "scatter",
         "x": [
          0.04744752919388708,
          -0.1259222814179488
         ],
         "y": [
          0.10862272596487159,
          0.10384437114009124
         ]
        },
        {
         "hoverinfo": "text",
         "line": {
          "color": "rgba(128, 128, 128, 0.1)",
          "width": 1
         },
         "mode": "lines",
         "text": "0.1111111111111111",
         "type": "scatter",
         "x": [
          0.04744752919388708,
          0.19326865043805733
         ],
         "y": [
          0.10862272596487159,
          0.029314955041528992
         ]
        },
        {
         "hoverinfo": "text",
         "line": {
          "color": "rgba(128, 128, 128, 0.1)",
          "width": 1
         },
         "mode": "lines",
         "text": "1.0",
         "type": "scatter",
         "x": [
          0.04744752919388708,
          -0.016023919840118115
         ],
         "y": [
          0.10862272596487159,
          0.06551360928329812
         ]
        },
        {
         "hoverinfo": "text",
         "line": {
          "color": "rgba(128, 128, 128, 0.1)",
          "width": 1
         },
         "mode": "lines",
         "text": "1.0",
         "type": "scatter",
         "x": [
          0.04744752919388708,
          0.1033115932177682
         ],
         "y": [
          0.10862272596487159,
          0.07607086985225013
         ]
        },
        {
         "hoverinfo": "text",
         "line": {
          "color": "rgba(128, 128, 128, 0.1)",
          "width": 1
         },
         "mode": "lines",
         "text": "1.0",
         "type": "scatter",
         "x": [
          0.04744752919388708,
          -0.07624885500352627
         ],
         "y": [
          0.10862272596487159,
          0.15917288408740757
         ]
        },
        {
         "hoverinfo": "text",
         "line": {
          "color": "rgba(128, 128, 128, 0.1)",
          "width": 1
         },
         "mode": "lines",
         "text": "1.0",
         "type": "scatter",
         "x": [
          0.13253592542256595,
          -0.0722360939739467
         ],
         "y": [
          0.009048390466498206,
          -0.02327822460820892
         ]
        },
        {
         "hoverinfo": "text",
         "line": {
          "color": "rgba(128, 128, 128, 0.1)",
          "width": 1
         },
         "mode": "lines",
         "text": "1.0",
         "type": "scatter",
         "x": [
          0.13253592542256595,
          -0.057865789733090485
         ],
         "y": [
          0.009048390466498206,
          -0.16208756461034668
         ]
        },
        {
         "hoverinfo": "text",
         "line": {
          "color": "rgba(128, 128, 128, 0.1)",
          "width": 1
         },
         "mode": "lines",
         "text": "1.0",
         "type": "scatter",
         "x": [
          0.13253592542256595,
          0.03528399353489137
         ],
         "y": [
          0.009048390466498206,
          0.06629787652916196
         ]
        },
        {
         "hoverinfo": "text",
         "line": {
          "color": "rgba(128, 128, 128, 0.1)",
          "width": 1
         },
         "mode": "lines",
         "text": "1.0",
         "type": "scatter",
         "x": [
          0.13253592542256595,
          -0.07466938126855868
         ],
         "y": [
          0.009048390466498206,
          -0.11999046444602385
         ]
        },
        {
         "hoverinfo": "text",
         "line": {
          "color": "rgba(128, 128, 128, 0.1)",
          "width": 1
         },
         "mode": "lines",
         "text": "1.0",
         "type": "scatter",
         "x": [
          0.13253592542256595,
          -0.09384834518561819
         ],
         "y": [
          0.009048390466498206,
          0.024450807633515183
         ]
        },
        {
         "hoverinfo": "text",
         "line": {
          "color": "rgba(128, 128, 128, 0.1)",
          "width": 1
         },
         "mode": "lines",
         "text": "1.0",
         "type": "scatter",
         "x": [
          0.13253592542256595,
          -0.1378008616166141
         ],
         "y": [
          0.009048390466498206,
          0.007535428796133289
         ]
        },
        {
         "hoverinfo": "text",
         "line": {
          "color": "rgba(128, 128, 128, 0.1)",
          "width": 1
         },
         "mode": "lines",
         "text": "1.0",
         "type": "scatter",
         "x": [
          0.13253592542256595,
          -0.0949504079612341
         ],
         "y": [
          0.009048390466498206,
          -0.19337885839804358
         ]
        },
        {
         "hoverinfo": "text",
         "line": {
          "color": "rgba(128, 128, 128, 0.1)",
          "width": 1
         },
         "mode": "lines",
         "text": "1.0",
         "type": "scatter",
         "x": [
          0.13253592542256595,
          0.20147609498213323
         ],
         "y": [
          0.009048390466498206,
          -0.048153245566312
         ]
        },
        {
         "hoverinfo": "text",
         "line": {
          "color": "rgba(128, 128, 128, 0.1)",
          "width": 1
         },
         "mode": "lines",
         "text": "1.0",
         "type": "scatter",
         "x": [
          0.13253592542256595,
          -0.09323660092102859
         ],
         "y": [
          0.009048390466498206,
          -0.07360207809045516
         ]
        },
        {
         "hoverinfo": "text",
         "line": {
          "color": "rgba(128, 128, 128, 0.1)",
          "width": 1
         },
         "mode": "lines",
         "text": "1.0",
         "type": "scatter",
         "x": [
          0.13253592542256595,
          -0.07163226007633516
         ],
         "y": [
          0.009048390466498206,
          0.06034094509750427
         ]
        },
        {
         "hoverinfo": "text",
         "line": {
          "color": "rgba(128, 128, 128, 0.1)",
          "width": 1
         },
         "mode": "lines",
         "text": "1.0",
         "type": "scatter",
         "x": [
          0.13253592542256595,
          0.08727096597073872
         ],
         "y": [
          0.009048390466498206,
          -0.020547012131089108
         ]
        },
        {
         "hoverinfo": "text",
         "line": {
          "color": "rgba(128, 128, 128, 0.1)",
          "width": 1
         },
         "mode": "lines",
         "text": "1.0",
         "type": "scatter",
         "x": [
          0.13253592542256595,
          0.1685312976731628
         ],
         "y": [
          0.009048390466498206,
          -0.117055298414665
         ]
        },
        {
         "hoverinfo": "text",
         "line": {
          "color": "rgba(128, 128, 128, 0.1)",
          "width": 1
         },
         "mode": "lines",
         "text": "1.0",
         "type": "scatter",
         "x": [
          0.13253592542256595,
          -0.02390725817653629
         ],
         "y": [
          0.009048390466498206,
          -0.03215261167696534
         ]
        },
        {
         "hoverinfo": "text",
         "line": {
          "color": "rgba(128, 128, 128, 0.1)",
          "width": 1
         },
         "mode": "lines",
         "text": "0.3333333333333333",
         "type": "scatter",
         "x": [
          0.13253592542256595,
          -0.16344201769829808
         ],
         "y": [
          0.009048390466498206,
          0.0429638835733472
         ]
        },
        {
         "hoverinfo": "text",
         "line": {
          "color": "rgba(128, 128, 128, 0.1)",
          "width": 1
         },
         "mode": "lines",
         "text": "1.0",
         "type": "scatter",
         "x": [
          0.13253592542256595,
          0.166123141387588
         ],
         "y": [
          0.009048390466498206,
          0.06166865831771715
         ]
        },
        {
         "hoverinfo": "text",
         "line": {
          "color": "rgba(128, 128, 128, 0.1)",
          "width": 1
         },
         "mode": "lines",
         "text": "1.0",
         "type": "scatter",
         "x": [
          0.13253592542256595,
          -0.019578528041053832
         ],
         "y": [
          0.009048390466498206,
          -0.1014197181777017
         ]
        },
        {
         "hoverinfo": "text",
         "line": {
          "color": "rgba(128, 128, 128, 0.1)",
          "width": 1
         },
         "mode": "lines",
         "text": "1.0",
         "type": "scatter",
         "x": [
          0.13253592542256595,
          -0.032465231272888105
         ],
         "y": [
          0.009048390466498206,
          -0.2182550854092832
         ]
        },
        {
         "hoverinfo": "text",
         "line": {
          "color": "rgba(128, 128, 128, 0.1)",
          "width": 1
         },
         "mode": "lines",
         "text": "1.0",
         "type": "scatter",
         "x": [
          0.13253592542256595,
          0.04648405342682209
         ],
         "y": [
          0.009048390466498206,
          -0.10445288949657033
         ]
        },
        {
         "hoverinfo": "text",
         "line": {
          "color": "rgba(128, 128, 128, 0.1)",
          "width": 1
         },
         "mode": "lines",
         "text": "0.14285714285714285",
         "type": "scatter",
         "x": [
          0.13253592542256595,
          0.035485360010484135
         ],
         "y": [
          0.009048390466498206,
          -0.15179063124126993
         ]
        },
        {
         "hoverinfo": "text",
         "line": {
          "color": "rgba(128, 128, 128, 0.1)",
          "width": 1
         },
         "mode": "lines",
         "text": "1.0",
         "type": "scatter",
         "x": [
          0.13253592542256595,
          0.14845479866159975
         ],
         "y": [
          0.009048390466498206,
          -0.042722723058193156
         ]
        },
        {
         "hoverinfo": "text",
         "line": {
          "color": "rgba(128, 128, 128, 0.1)",
          "width": 1
         },
         "mode": "lines",
         "text": "1.0",
         "type": "scatter",
         "x": [
          0.13253592542256595,
          0.10002362627778762
         ],
         "y": [
          0.009048390466498206,
          0.10501116025785338
         ]
        },
        {
         "hoverinfo": "text",
         "line": {
          "color": "rgba(128, 128, 128, 0.1)",
          "width": 1
         },
         "mode": "lines",
         "text": "1.0",
         "type": "scatter",
         "x": [
          0.13253592542256595,
          -0.16620124598482677
         ],
         "y": [
          0.009048390466498206,
          -0.01909129302872234
         ]
        },
        {
         "hoverinfo": "text",
         "line": {
          "color": "rgba(128, 128, 128, 0.1)",
          "width": 1
         },
         "mode": "lines",
         "text": "0.0625",
         "type": "scatter",
         "x": [
          0.13253592542256595,
          0.10254243804351508
         ],
         "y": [
          0.009048390466498206,
          -0.2532800348604361
         ]
        },
        {
         "hoverinfo": "text",
         "line": {
          "color": "rgba(128, 128, 128, 0.1)",
          "width": 1
         },
         "mode": "lines",
         "text": "0.16666666666666666",
         "type": "scatter",
         "x": [
          0.13253592542256595,
          0.005294593386108596
         ],
         "y": [
          0.009048390466498206,
          0.13730846316385836
         ]
        },
        {
         "hoverinfo": "text",
         "line": {
          "color": "rgba(128, 128, 128, 0.1)",
          "width": 1
         },
         "mode": "lines",
         "text": "0.125",
         "type": "scatter",
         "x": [
          0.13253592542256595,
          0.07162601478889682
         ],
         "y": [
          0.009048390466498206,
          0.22727757704262716
         ]
        },
        {
         "hoverinfo": "text",
         "line": {
          "color": "rgba(128, 128, 128, 0.1)",
          "width": 1
         },
         "mode": "lines",
         "text": "1.0",
         "type": "scatter",
         "x": [
          0.13253592542256595,
          -0.12776709487089863
         ],
         "y": [
          0.009048390466498206,
          -0.13201843882764794
         ]
        },
        {
         "hoverinfo": "text",
         "line": {
          "color": "rgba(128, 128, 128, 0.1)",
          "width": 1
         },
         "mode": "lines",
         "text": "1.0",
         "type": "scatter",
         "x": [
          0.13253592542256595,
          0.12457960723897601
         ],
         "y": [
          0.009048390466498206,
          -0.11512220422049145
         ]
        },
        {
         "hoverinfo": "text",
         "line": {
          "color": "rgba(128, 128, 128, 0.1)",
          "width": 1
         },
         "mode": "lines",
         "text": "1.0",
         "type": "scatter",
         "x": [
          0.13253592542256595,
          0.038865278775735576
         ],
         "y": [
          0.009048390466498206,
          -0.20376826594898925
         ]
        },
        {
         "hoverinfo": "text",
         "line": {
          "color": "rgba(128, 128, 128, 0.1)",
          "width": 1
         },
         "mode": "lines",
         "text": "1.0",
         "type": "scatter",
         "x": [
          0.13253592542256595,
          0.08165673758741265
         ],
         "y": [
          0.009048390466498206,
          -0.16334315634167867
         ]
        },
        {
         "hoverinfo": "text",
         "line": {
          "color": "rgba(128, 128, 128, 0.1)",
          "width": 1
         },
         "mode": "lines",
         "text": "0.5",
         "type": "scatter",
         "x": [
          0.13253592542256595,
          0.11815707188034474
         ],
         "y": [
          0.009048390466498206,
          -0.07442264680581974
         ]
        },
        {
         "hoverinfo": "text",
         "line": {
          "color": "rgba(128, 128, 128, 0.1)",
          "width": 1
         },
         "mode": "lines",
         "text": "1.0",
         "type": "scatter",
         "x": [
          0.13253592542256595,
          -0.03383436954673177
         ],
         "y": [
          0.009048390466498206,
          0.163279787590839
         ]
        },
        {
         "hoverinfo": "text",
         "line": {
          "color": "rgba(128, 128, 128, 0.1)",
          "width": 1
         },
         "mode": "lines",
         "text": "1.0",
         "type": "scatter",
         "x": [
          0.13253592542256595,
          -0.1259222814179488
         ],
         "y": [
          0.009048390466498206,
          0.10384437114009124
         ]
        },
        {
         "hoverinfo": "text",
         "line": {
          "color": "rgba(128, 128, 128, 0.1)",
          "width": 1
         },
         "mode": "lines",
         "text": "1.0",
         "type": "scatter",
         "x": [
          0.13253592542256595,
          0.19326865043805733
         ],
         "y": [
          0.009048390466498206,
          0.029314955041528992
         ]
        },
        {
         "hoverinfo": "text",
         "line": {
          "color": "rgba(128, 128, 128, 0.1)",
          "width": 1
         },
         "mode": "lines",
         "text": "1.0",
         "type": "scatter",
         "x": [
          0.13253592542256595,
          -0.016023919840118115
         ],
         "y": [
          0.009048390466498206,
          0.06551360928329812
         ]
        },
        {
         "hoverinfo": "text",
         "line": {
          "color": "rgba(128, 128, 128, 0.1)",
          "width": 1
         },
         "mode": "lines",
         "text": "1.0",
         "type": "scatter",
         "x": [
          0.13253592542256595,
          0.1033115932177682
         ],
         "y": [
          0.009048390466498206,
          0.07607086985225013
         ]
        },
        {
         "hoverinfo": "text",
         "line": {
          "color": "rgba(128, 128, 128, 0.1)",
          "width": 1
         },
         "mode": "lines",
         "text": "1.0",
         "type": "scatter",
         "x": [
          0.13253592542256595,
          -0.07624885500352627
         ],
         "y": [
          0.009048390466498206,
          0.15917288408740757
         ]
        },
        {
         "hoverinfo": "text",
         "line": {
          "color": "rgba(128, 128, 128, 0.1)",
          "width": 1
         },
         "mode": "lines",
         "text": "1.0",
         "type": "scatter",
         "x": [
          -0.0722360939739467,
          -0.057865789733090485
         ],
         "y": [
          -0.02327822460820892,
          -0.16208756461034668
         ]
        },
        {
         "hoverinfo": "text",
         "line": {
          "color": "rgba(128, 128, 128, 0.1)",
          "width": 1
         },
         "mode": "lines",
         "text": "1.0",
         "type": "scatter",
         "x": [
          -0.0722360939739467,
          0.03528399353489137
         ],
         "y": [
          -0.02327822460820892,
          0.06629787652916196
         ]
        },
        {
         "hoverinfo": "text",
         "line": {
          "color": "rgba(128, 128, 128, 0.1)",
          "width": 1
         },
         "mode": "lines",
         "text": "1.0",
         "type": "scatter",
         "x": [
          -0.0722360939739467,
          -0.07466938126855868
         ],
         "y": [
          -0.02327822460820892,
          -0.11999046444602385
         ]
        },
        {
         "hoverinfo": "text",
         "line": {
          "color": "rgba(128, 128, 128, 0.1)",
          "width": 1
         },
         "mode": "lines",
         "text": "1.0",
         "type": "scatter",
         "x": [
          -0.0722360939739467,
          -0.09384834518561819
         ],
         "y": [
          -0.02327822460820892,
          0.024450807633515183
         ]
        },
        {
         "hoverinfo": "text",
         "line": {
          "color": "rgba(128, 128, 128, 0.1)",
          "width": 1
         },
         "mode": "lines",
         "text": "1.0",
         "type": "scatter",
         "x": [
          -0.0722360939739467,
          -0.1378008616166141
         ],
         "y": [
          -0.02327822460820892,
          0.007535428796133289
         ]
        },
        {
         "hoverinfo": "text",
         "line": {
          "color": "rgba(128, 128, 128, 0.1)",
          "width": 1
         },
         "mode": "lines",
         "text": "1.0",
         "type": "scatter",
         "x": [
          -0.0722360939739467,
          -0.0949504079612341
         ],
         "y": [
          -0.02327822460820892,
          -0.19337885839804358
         ]
        },
        {
         "hoverinfo": "text",
         "line": {
          "color": "rgba(128, 128, 128, 0.1)",
          "width": 1
         },
         "mode": "lines",
         "text": "0.1111111111111111",
         "type": "scatter",
         "x": [
          -0.0722360939739467,
          0.20147609498213323
         ],
         "y": [
          -0.02327822460820892,
          -0.048153245566312
         ]
        },
        {
         "hoverinfo": "text",
         "line": {
          "color": "rgba(128, 128, 128, 0.1)",
          "width": 1
         },
         "mode": "lines",
         "text": "1.0",
         "type": "scatter",
         "x": [
          -0.0722360939739467,
          -0.09323660092102859
         ],
         "y": [
          -0.02327822460820892,
          -0.07360207809045516
         ]
        },
        {
         "hoverinfo": "text",
         "line": {
          "color": "rgba(128, 128, 128, 0.1)",
          "width": 1
         },
         "mode": "lines",
         "text": "1.0",
         "type": "scatter",
         "x": [
          -0.0722360939739467,
          -0.07163226007633516
         ],
         "y": [
          -0.02327822460820892,
          0.06034094509750427
         ]
        },
        {
         "hoverinfo": "text",
         "line": {
          "color": "rgba(128, 128, 128, 0.1)",
          "width": 1
         },
         "mode": "lines",
         "text": "1.0",
         "type": "scatter",
         "x": [
          -0.0722360939739467,
          0.08727096597073872
         ],
         "y": [
          -0.02327822460820892,
          -0.020547012131089108
         ]
        },
        {
         "hoverinfo": "text",
         "line": {
          "color": "rgba(128, 128, 128, 0.1)",
          "width": 1
         },
         "mode": "lines",
         "text": "1.0",
         "type": "scatter",
         "x": [
          -0.0722360939739467,
          0.1685312976731628
         ],
         "y": [
          -0.02327822460820892,
          -0.117055298414665
         ]
        },
        {
         "hoverinfo": "text",
         "line": {
          "color": "rgba(128, 128, 128, 0.1)",
          "width": 1
         },
         "mode": "lines",
         "text": "1.0",
         "type": "scatter",
         "x": [
          -0.0722360939739467,
          -0.02390725817653629
         ],
         "y": [
          -0.02327822460820892,
          -0.03215261167696534
         ]
        },
        {
         "hoverinfo": "text",
         "line": {
          "color": "rgba(128, 128, 128, 0.1)",
          "width": 1
         },
         "mode": "lines",
         "text": "0.3333333333333333",
         "type": "scatter",
         "x": [
          -0.0722360939739467,
          -0.16344201769829808
         ],
         "y": [
          -0.02327822460820892,
          0.0429638835733472
         ]
        },
        {
         "hoverinfo": "text",
         "line": {
          "color": "rgba(128, 128, 128, 0.1)",
          "width": 1
         },
         "mode": "lines",
         "text": "1.0",
         "type": "scatter",
         "x": [
          -0.0722360939739467,
          0.166123141387588
         ],
         "y": [
          -0.02327822460820892,
          0.06166865831771715
         ]
        },
        {
         "hoverinfo": "text",
         "line": {
          "color": "rgba(128, 128, 128, 0.1)",
          "width": 1
         },
         "mode": "lines",
         "text": "1.0",
         "type": "scatter",
         "x": [
          -0.0722360939739467,
          -0.019578528041053832
         ],
         "y": [
          -0.02327822460820892,
          -0.1014197181777017
         ]
        },
        {
         "hoverinfo": "text",
         "line": {
          "color": "rgba(128, 128, 128, 0.1)",
          "width": 1
         },
         "mode": "lines",
         "text": "1.0",
         "type": "scatter",
         "x": [
          -0.0722360939739467,
          -0.032465231272888105
         ],
         "y": [
          -0.02327822460820892,
          -0.2182550854092832
         ]
        },
        {
         "hoverinfo": "text",
         "line": {
          "color": "rgba(128, 128, 128, 0.1)",
          "width": 1
         },
         "mode": "lines",
         "text": "0.14285714285714285",
         "type": "scatter",
         "x": [
          -0.0722360939739467,
          0.04648405342682209
         ],
         "y": [
          -0.02327822460820892,
          -0.10445288949657033
         ]
        },
        {
         "hoverinfo": "text",
         "line": {
          "color": "rgba(128, 128, 128, 0.1)",
          "width": 1
         },
         "mode": "lines",
         "text": "0.14285714285714285",
         "type": "scatter",
         "x": [
          -0.0722360939739467,
          0.035485360010484135
         ],
         "y": [
          -0.02327822460820892,
          -0.15179063124126993
         ]
        },
        {
         "hoverinfo": "text",
         "line": {
          "color": "rgba(128, 128, 128, 0.1)",
          "width": 1
         },
         "mode": "lines",
         "text": "0.14285714285714285",
         "type": "scatter",
         "x": [
          -0.0722360939739467,
          0.14845479866159975
         ],
         "y": [
          -0.02327822460820892,
          -0.042722723058193156
         ]
        },
        {
         "hoverinfo": "text",
         "line": {
          "color": "rgba(128, 128, 128, 0.1)",
          "width": 1
         },
         "mode": "lines",
         "text": "1.0",
         "type": "scatter",
         "x": [
          -0.0722360939739467,
          0.10002362627778762
         ],
         "y": [
          -0.02327822460820892,
          0.10501116025785338
         ]
        },
        {
         "hoverinfo": "text",
         "line": {
          "color": "rgba(128, 128, 128, 0.1)",
          "width": 1
         },
         "mode": "lines",
         "text": "1.0",
         "type": "scatter",
         "x": [
          -0.0722360939739467,
          -0.16620124598482677
         ],
         "y": [
          -0.02327822460820892,
          -0.01909129302872234
         ]
        },
        {
         "hoverinfo": "text",
         "line": {
          "color": "rgba(128, 128, 128, 0.1)",
          "width": 1
         },
         "mode": "lines",
         "text": "0.0625",
         "type": "scatter",
         "x": [
          -0.0722360939739467,
          0.10254243804351508
         ],
         "y": [
          -0.02327822460820892,
          -0.2532800348604361
         ]
        },
        {
         "hoverinfo": "text",
         "line": {
          "color": "rgba(128, 128, 128, 0.1)",
          "width": 1
         },
         "mode": "lines",
         "text": "0.16666666666666666",
         "type": "scatter",
         "x": [
          -0.0722360939739467,
          0.005294593386108596
         ],
         "y": [
          -0.02327822460820892,
          0.13730846316385836
         ]
        },
        {
         "hoverinfo": "text",
         "line": {
          "color": "rgba(128, 128, 128, 0.1)",
          "width": 1
         },
         "mode": "lines",
         "text": "0.25",
         "type": "scatter",
         "x": [
          -0.0722360939739467,
          0.07162601478889682
         ],
         "y": [
          -0.02327822460820892,
          0.22727757704262716
         ]
        },
        {
         "hoverinfo": "text",
         "line": {
          "color": "rgba(128, 128, 128, 0.1)",
          "width": 1
         },
         "mode": "lines",
         "text": "1.0",
         "type": "scatter",
         "x": [
          -0.0722360939739467,
          -0.12776709487089863
         ],
         "y": [
          -0.02327822460820892,
          -0.13201843882764794
         ]
        },
        {
         "hoverinfo": "text",
         "line": {
          "color": "rgba(128, 128, 128, 0.1)",
          "width": 1
         },
         "mode": "lines",
         "text": "1.0",
         "type": "scatter",
         "x": [
          -0.0722360939739467,
          0.12457960723897601
         ],
         "y": [
          -0.02327822460820892,
          -0.11512220422049145
         ]
        },
        {
         "hoverinfo": "text",
         "line": {
          "color": "rgba(128, 128, 128, 0.1)",
          "width": 1
         },
         "mode": "lines",
         "text": "1.0",
         "type": "scatter",
         "x": [
          -0.0722360939739467,
          0.038865278775735576
         ],
         "y": [
          -0.02327822460820892,
          -0.20376826594898925
         ]
        },
        {
         "hoverinfo": "text",
         "line": {
          "color": "rgba(128, 128, 128, 0.1)",
          "width": 1
         },
         "mode": "lines",
         "text": "1.0",
         "type": "scatter",
         "x": [
          -0.0722360939739467,
          0.08165673758741265
         ],
         "y": [
          -0.02327822460820892,
          -0.16334315634167867
         ]
        },
        {
         "hoverinfo": "text",
         "line": {
          "color": "rgba(128, 128, 128, 0.1)",
          "width": 1
         },
         "mode": "lines",
         "text": "0.5",
         "type": "scatter",
         "x": [
          -0.0722360939739467,
          0.11815707188034474
         ],
         "y": [
          -0.02327822460820892,
          -0.07442264680581974
         ]
        },
        {
         "hoverinfo": "text",
         "line": {
          "color": "rgba(128, 128, 128, 0.1)",
          "width": 1
         },
         "mode": "lines",
         "text": "1.0",
         "type": "scatter",
         "x": [
          -0.0722360939739467,
          -0.03383436954673177
         ],
         "y": [
          -0.02327822460820892,
          0.163279787590839
         ]
        },
        {
         "hoverinfo": "text",
         "line": {
          "color": "rgba(128, 128, 128, 0.1)",
          "width": 1
         },
         "mode": "lines",
         "text": "1.0",
         "type": "scatter",
         "x": [
          -0.0722360939739467,
          -0.1259222814179488
         ],
         "y": [
          -0.02327822460820892,
          0.10384437114009124
         ]
        },
        {
         "hoverinfo": "text",
         "line": {
          "color": "rgba(128, 128, 128, 0.1)",
          "width": 1
         },
         "mode": "lines",
         "text": "1.0",
         "type": "scatter",
         "x": [
          -0.0722360939739467,
          0.19326865043805733
         ],
         "y": [
          -0.02327822460820892,
          0.029314955041528992
         ]
        },
        {
         "hoverinfo": "text",
         "line": {
          "color": "rgba(128, 128, 128, 0.1)",
          "width": 1
         },
         "mode": "lines",
         "text": "1.0",
         "type": "scatter",
         "x": [
          -0.0722360939739467,
          -0.016023919840118115
         ],
         "y": [
          -0.02327822460820892,
          0.06551360928329812
         ]
        },
        {
         "hoverinfo": "text",
         "line": {
          "color": "rgba(128, 128, 128, 0.1)",
          "width": 1
         },
         "mode": "lines",
         "text": "1.0",
         "type": "scatter",
         "x": [
          -0.0722360939739467,
          0.1033115932177682
         ],
         "y": [
          -0.02327822460820892,
          0.07607086985225013
         ]
        },
        {
         "hoverinfo": "text",
         "line": {
          "color": "rgba(128, 128, 128, 0.1)",
          "width": 1
         },
         "mode": "lines",
         "text": "1.0",
         "type": "scatter",
         "x": [
          -0.0722360939739467,
          -0.07624885500352627
         ],
         "y": [
          -0.02327822460820892,
          0.15917288408740757
         ]
        },
        {
         "hoverinfo": "text",
         "line": {
          "color": "rgba(128, 128, 128, 0.1)",
          "width": 1
         },
         "mode": "lines",
         "text": "1.0",
         "type": "scatter",
         "x": [
          -0.057865789733090485,
          0.03528399353489137
         ],
         "y": [
          -0.16208756461034668,
          0.06629787652916196
         ]
        },
        {
         "hoverinfo": "text",
         "line": {
          "color": "rgba(128, 128, 128, 0.1)",
          "width": 1
         },
         "mode": "lines",
         "text": "1.0",
         "type": "scatter",
         "x": [
          -0.057865789733090485,
          -0.07466938126855868
         ],
         "y": [
          -0.16208756461034668,
          -0.11999046444602385
         ]
        },
        {
         "hoverinfo": "text",
         "line": {
          "color": "rgba(128, 128, 128, 0.1)",
          "width": 1
         },
         "mode": "lines",
         "text": "1.0",
         "type": "scatter",
         "x": [
          -0.057865789733090485,
          -0.09384834518561819
         ],
         "y": [
          -0.16208756461034668,
          0.024450807633515183
         ]
        },
        {
         "hoverinfo": "text",
         "line": {
          "color": "rgba(128, 128, 128, 0.1)",
          "width": 1
         },
         "mode": "lines",
         "text": "1.0",
         "type": "scatter",
         "x": [
          -0.057865789733090485,
          -0.1378008616166141
         ],
         "y": [
          -0.16208756461034668,
          0.007535428796133289
         ]
        },
        {
         "hoverinfo": "text",
         "line": {
          "color": "rgba(128, 128, 128, 0.1)",
          "width": 1
         },
         "mode": "lines",
         "text": "1.0",
         "type": "scatter",
         "x": [
          -0.057865789733090485,
          -0.0949504079612341
         ],
         "y": [
          -0.16208756461034668,
          -0.19337885839804358
         ]
        },
        {
         "hoverinfo": "text",
         "line": {
          "color": "rgba(128, 128, 128, 0.1)",
          "width": 1
         },
         "mode": "lines",
         "text": "0.1111111111111111",
         "type": "scatter",
         "x": [
          -0.057865789733090485,
          0.20147609498213323
         ],
         "y": [
          -0.16208756461034668,
          -0.048153245566312
         ]
        },
        {
         "hoverinfo": "text",
         "line": {
          "color": "rgba(128, 128, 128, 0.1)",
          "width": 1
         },
         "mode": "lines",
         "text": "1.0",
         "type": "scatter",
         "x": [
          -0.057865789733090485,
          -0.09323660092102859
         ],
         "y": [
          -0.16208756461034668,
          -0.07360207809045516
         ]
        },
        {
         "hoverinfo": "text",
         "line": {
          "color": "rgba(128, 128, 128, 0.1)",
          "width": 1
         },
         "mode": "lines",
         "text": "1.0",
         "type": "scatter",
         "x": [
          -0.057865789733090485,
          -0.07163226007633516
         ],
         "y": [
          -0.16208756461034668,
          0.06034094509750427
         ]
        },
        {
         "hoverinfo": "text",
         "line": {
          "color": "rgba(128, 128, 128, 0.1)",
          "width": 1
         },
         "mode": "lines",
         "text": "1.0",
         "type": "scatter",
         "x": [
          -0.057865789733090485,
          0.08727096597073872
         ],
         "y": [
          -0.16208756461034668,
          -0.020547012131089108
         ]
        },
        {
         "hoverinfo": "text",
         "line": {
          "color": "rgba(128, 128, 128, 0.1)",
          "width": 1
         },
         "mode": "lines",
         "text": "1.0",
         "type": "scatter",
         "x": [
          -0.057865789733090485,
          0.1685312976731628
         ],
         "y": [
          -0.16208756461034668,
          -0.117055298414665
         ]
        },
        {
         "hoverinfo": "text",
         "line": {
          "color": "rgba(128, 128, 128, 0.1)",
          "width": 1
         },
         "mode": "lines",
         "text": "1.0",
         "type": "scatter",
         "x": [
          -0.057865789733090485,
          -0.02390725817653629
         ],
         "y": [
          -0.16208756461034668,
          -0.03215261167696534
         ]
        },
        {
         "hoverinfo": "text",
         "line": {
          "color": "rgba(128, 128, 128, 0.1)",
          "width": 1
         },
         "mode": "lines",
         "text": "0.3333333333333333",
         "type": "scatter",
         "x": [
          -0.057865789733090485,
          -0.16344201769829808
         ],
         "y": [
          -0.16208756461034668,
          0.0429638835733472
         ]
        },
        {
         "hoverinfo": "text",
         "line": {
          "color": "rgba(128, 128, 128, 0.1)",
          "width": 1
         },
         "mode": "lines",
         "text": "1.0",
         "type": "scatter",
         "x": [
          -0.057865789733090485,
          0.166123141387588
         ],
         "y": [
          -0.16208756461034668,
          0.06166865831771715
         ]
        },
        {
         "hoverinfo": "text",
         "line": {
          "color": "rgba(128, 128, 128, 0.1)",
          "width": 1
         },
         "mode": "lines",
         "text": "1.0",
         "type": "scatter",
         "x": [
          -0.057865789733090485,
          -0.019578528041053832
         ],
         "y": [
          -0.16208756461034668,
          -0.1014197181777017
         ]
        },
        {
         "hoverinfo": "text",
         "line": {
          "color": "rgba(128, 128, 128, 0.1)",
          "width": 1
         },
         "mode": "lines",
         "text": "1.0",
         "type": "scatter",
         "x": [
          -0.057865789733090485,
          -0.032465231272888105
         ],
         "y": [
          -0.16208756461034668,
          -0.2182550854092832
         ]
        },
        {
         "hoverinfo": "text",
         "line": {
          "color": "rgba(128, 128, 128, 0.1)",
          "width": 1
         },
         "mode": "lines",
         "text": "1.0",
         "type": "scatter",
         "x": [
          -0.057865789733090485,
          0.04648405342682209
         ],
         "y": [
          -0.16208756461034668,
          -0.10445288949657033
         ]
        },
        {
         "hoverinfo": "text",
         "line": {
          "color": "rgba(128, 128, 128, 0.1)",
          "width": 1
         },
         "mode": "lines",
         "text": "0.14285714285714285",
         "type": "scatter",
         "x": [
          -0.057865789733090485,
          0.035485360010484135
         ],
         "y": [
          -0.16208756461034668,
          -0.15179063124126993
         ]
        },
        {
         "hoverinfo": "text",
         "line": {
          "color": "rgba(128, 128, 128, 0.1)",
          "width": 1
         },
         "mode": "lines",
         "text": "1.0",
         "type": "scatter",
         "x": [
          -0.057865789733090485,
          0.14845479866159975
         ],
         "y": [
          -0.16208756461034668,
          -0.042722723058193156
         ]
        },
        {
         "hoverinfo": "text",
         "line": {
          "color": "rgba(128, 128, 128, 0.1)",
          "width": 1
         },
         "mode": "lines",
         "text": "1.0",
         "type": "scatter",
         "x": [
          -0.057865789733090485,
          0.10002362627778762
         ],
         "y": [
          -0.16208756461034668,
          0.10501116025785338
         ]
        },
        {
         "hoverinfo": "text",
         "line": {
          "color": "rgba(128, 128, 128, 0.1)",
          "width": 1
         },
         "mode": "lines",
         "text": "1.0",
         "type": "scatter",
         "x": [
          -0.057865789733090485,
          -0.16620124598482677
         ],
         "y": [
          -0.16208756461034668,
          -0.01909129302872234
         ]
        },
        {
         "hoverinfo": "text",
         "line": {
          "color": "rgba(128, 128, 128, 0.1)",
          "width": 1
         },
         "mode": "lines",
         "text": "0.08333333333333333",
         "type": "scatter",
         "x": [
          -0.057865789733090485,
          0.10254243804351508
         ],
         "y": [
          -0.16208756461034668,
          -0.2532800348604361
         ]
        },
        {
         "hoverinfo": "text",
         "line": {
          "color": "rgba(128, 128, 128, 0.1)",
          "width": 1
         },
         "mode": "lines",
         "text": "0.16666666666666666",
         "type": "scatter",
         "x": [
          -0.057865789733090485,
          0.005294593386108596
         ],
         "y": [
          -0.16208756461034668,
          0.13730846316385836
         ]
        },
        {
         "hoverinfo": "text",
         "line": {
          "color": "rgba(128, 128, 128, 0.1)",
          "width": 1
         },
         "mode": "lines",
         "text": "0.125",
         "type": "scatter",
         "x": [
          -0.057865789733090485,
          0.07162601478889682
         ],
         "y": [
          -0.16208756461034668,
          0.22727757704262716
         ]
        },
        {
         "hoverinfo": "text",
         "line": {
          "color": "rgba(128, 128, 128, 0.1)",
          "width": 1
         },
         "mode": "lines",
         "text": "1.0",
         "type": "scatter",
         "x": [
          -0.057865789733090485,
          -0.12776709487089863
         ],
         "y": [
          -0.16208756461034668,
          -0.13201843882764794
         ]
        },
        {
         "hoverinfo": "text",
         "line": {
          "color": "rgba(128, 128, 128, 0.1)",
          "width": 1
         },
         "mode": "lines",
         "text": "1.0",
         "type": "scatter",
         "x": [
          -0.057865789733090485,
          0.12457960723897601
         ],
         "y": [
          -0.16208756461034668,
          -0.11512220422049145
         ]
        },
        {
         "hoverinfo": "text",
         "line": {
          "color": "rgba(128, 128, 128, 0.1)",
          "width": 1
         },
         "mode": "lines",
         "text": "1.0",
         "type": "scatter",
         "x": [
          -0.057865789733090485,
          0.038865278775735576
         ],
         "y": [
          -0.16208756461034668,
          -0.20376826594898925
         ]
        },
        {
         "hoverinfo": "text",
         "line": {
          "color": "rgba(128, 128, 128, 0.1)",
          "width": 1
         },
         "mode": "lines",
         "text": "1.0",
         "type": "scatter",
         "x": [
          -0.057865789733090485,
          0.08165673758741265
         ],
         "y": [
          -0.16208756461034668,
          -0.16334315634167867
         ]
        },
        {
         "hoverinfo": "text",
         "line": {
          "color": "rgba(128, 128, 128, 0.1)",
          "width": 1
         },
         "mode": "lines",
         "text": "0.5",
         "type": "scatter",
         "x": [
          -0.057865789733090485,
          0.11815707188034474
         ],
         "y": [
          -0.16208756461034668,
          -0.07442264680581974
         ]
        },
        {
         "hoverinfo": "text",
         "line": {
          "color": "rgba(128, 128, 128, 0.1)",
          "width": 1
         },
         "mode": "lines",
         "text": "1.0",
         "type": "scatter",
         "x": [
          -0.057865789733090485,
          -0.03383436954673177
         ],
         "y": [
          -0.16208756461034668,
          0.163279787590839
         ]
        },
        {
         "hoverinfo": "text",
         "line": {
          "color": "rgba(128, 128, 128, 0.1)",
          "width": 1
         },
         "mode": "lines",
         "text": "1.0",
         "type": "scatter",
         "x": [
          -0.057865789733090485,
          -0.1259222814179488
         ],
         "y": [
          -0.16208756461034668,
          0.10384437114009124
         ]
        },
        {
         "hoverinfo": "text",
         "line": {
          "color": "rgba(128, 128, 128, 0.1)",
          "width": 1
         },
         "mode": "lines",
         "text": "1.0",
         "type": "scatter",
         "x": [
          -0.057865789733090485,
          0.19326865043805733
         ],
         "y": [
          -0.16208756461034668,
          0.029314955041528992
         ]
        },
        {
         "hoverinfo": "text",
         "line": {
          "color": "rgba(128, 128, 128, 0.1)",
          "width": 1
         },
         "mode": "lines",
         "text": "1.0",
         "type": "scatter",
         "x": [
          -0.057865789733090485,
          -0.016023919840118115
         ],
         "y": [
          -0.16208756461034668,
          0.06551360928329812
         ]
        },
        {
         "hoverinfo": "text",
         "line": {
          "color": "rgba(128, 128, 128, 0.1)",
          "width": 1
         },
         "mode": "lines",
         "text": "1.0",
         "type": "scatter",
         "x": [
          -0.057865789733090485,
          0.1033115932177682
         ],
         "y": [
          -0.16208756461034668,
          0.07607086985225013
         ]
        },
        {
         "hoverinfo": "text",
         "line": {
          "color": "rgba(128, 128, 128, 0.1)",
          "width": 1
         },
         "mode": "lines",
         "text": "1.0",
         "type": "scatter",
         "x": [
          -0.057865789733090485,
          -0.07624885500352627
         ],
         "y": [
          -0.16208756461034668,
          0.15917288408740757
         ]
        },
        {
         "hoverinfo": "text",
         "line": {
          "color": "rgba(128, 128, 128, 0.1)",
          "width": 1
         },
         "mode": "lines",
         "text": "0.1111111111111111",
         "type": "scatter",
         "x": [
          0.03528399353489137,
          -0.07466938126855868
         ],
         "y": [
          0.06629787652916196,
          -0.11999046444602385
         ]
        },
        {
         "hoverinfo": "text",
         "line": {
          "color": "rgba(128, 128, 128, 0.1)",
          "width": 1
         },
         "mode": "lines",
         "text": "1.0",
         "type": "scatter",
         "x": [
          0.03528399353489137,
          -0.09384834518561819
         ],
         "y": [
          0.06629787652916196,
          0.024450807633515183
         ]
        },
        {
         "hoverinfo": "text",
         "line": {
          "color": "rgba(128, 128, 128, 0.1)",
          "width": 1
         },
         "mode": "lines",
         "text": "1.0",
         "type": "scatter",
         "x": [
          0.03528399353489137,
          -0.1378008616166141
         ],
         "y": [
          0.06629787652916196,
          0.007535428796133289
         ]
        },
        {
         "hoverinfo": "text",
         "line": {
          "color": "rgba(128, 128, 128, 0.1)",
          "width": 1
         },
         "mode": "lines",
         "text": "1.0",
         "type": "scatter",
         "x": [
          0.03528399353489137,
          -0.0949504079612341
         ],
         "y": [
          0.06629787652916196,
          -0.19337885839804358
         ]
        },
        {
         "hoverinfo": "text",
         "line": {
          "color": "rgba(128, 128, 128, 0.1)",
          "width": 1
         },
         "mode": "lines",
         "text": "1.0",
         "type": "scatter",
         "x": [
          0.03528399353489137,
          0.20147609498213323
         ],
         "y": [
          0.06629787652916196,
          -0.048153245566312
         ]
        },
        {
         "hoverinfo": "text",
         "line": {
          "color": "rgba(128, 128, 128, 0.1)",
          "width": 1
         },
         "mode": "lines",
         "text": "1.0",
         "type": "scatter",
         "x": [
          0.03528399353489137,
          -0.09323660092102859
         ],
         "y": [
          0.06629787652916196,
          -0.07360207809045516
         ]
        },
        {
         "hoverinfo": "text",
         "line": {
          "color": "rgba(128, 128, 128, 0.1)",
          "width": 1
         },
         "mode": "lines",
         "text": "0.1111111111111111",
         "type": "scatter",
         "x": [
          0.03528399353489137,
          -0.07163226007633516
         ],
         "y": [
          0.06629787652916196,
          0.06034094509750427
         ]
        },
        {
         "hoverinfo": "text",
         "line": {
          "color": "rgba(128, 128, 128, 0.1)",
          "width": 1
         },
         "mode": "lines",
         "text": "0.1111111111111111",
         "type": "scatter",
         "x": [
          0.03528399353489137,
          0.08727096597073872
         ],
         "y": [
          0.06629787652916196,
          -0.020547012131089108
         ]
        },
        {
         "hoverinfo": "text",
         "line": {
          "color": "rgba(128, 128, 128, 0.1)",
          "width": 1
         },
         "mode": "lines",
         "text": "1.0",
         "type": "scatter",
         "x": [
          0.03528399353489137,
          0.1685312976731628
         ],
         "y": [
          0.06629787652916196,
          -0.117055298414665
         ]
        },
        {
         "hoverinfo": "text",
         "line": {
          "color": "rgba(128, 128, 128, 0.1)",
          "width": 1
         },
         "mode": "lines",
         "text": "1.0",
         "type": "scatter",
         "x": [
          0.03528399353489137,
          -0.02390725817653629
         ],
         "y": [
          0.06629787652916196,
          -0.03215261167696534
         ]
        },
        {
         "hoverinfo": "text",
         "line": {
          "color": "rgba(128, 128, 128, 0.1)",
          "width": 1
         },
         "mode": "lines",
         "text": "0.3333333333333333",
         "type": "scatter",
         "x": [
          0.03528399353489137,
          -0.16344201769829808
         ],
         "y": [
          0.06629787652916196,
          0.0429638835733472
         ]
        },
        {
         "hoverinfo": "text",
         "line": {
          "color": "rgba(128, 128, 128, 0.1)",
          "width": 1
         },
         "mode": "lines",
         "text": "0.3333333333333333",
         "type": "scatter",
         "x": [
          0.03528399353489137,
          0.166123141387588
         ],
         "y": [
          0.06629787652916196,
          0.06166865831771715
         ]
        },
        {
         "hoverinfo": "text",
         "line": {
          "color": "rgba(128, 128, 128, 0.1)",
          "width": 1
         },
         "mode": "lines",
         "text": "0.1111111111111111",
         "type": "scatter",
         "x": [
          0.03528399353489137,
          -0.019578528041053832
         ],
         "y": [
          0.06629787652916196,
          -0.1014197181777017
         ]
        },
        {
         "hoverinfo": "text",
         "line": {
          "color": "rgba(128, 128, 128, 0.1)",
          "width": 1
         },
         "mode": "lines",
         "text": "1.0",
         "type": "scatter",
         "x": [
          0.03528399353489137,
          -0.032465231272888105
         ],
         "y": [
          0.06629787652916196,
          -0.2182550854092832
         ]
        },
        {
         "hoverinfo": "text",
         "line": {
          "color": "rgba(128, 128, 128, 0.1)",
          "width": 1
         },
         "mode": "lines",
         "text": "0.14285714285714285",
         "type": "scatter",
         "x": [
          0.03528399353489137,
          0.04648405342682209
         ],
         "y": [
          0.06629787652916196,
          -0.10445288949657033
         ]
        },
        {
         "hoverinfo": "text",
         "line": {
          "color": "rgba(128, 128, 128, 0.1)",
          "width": 1
         },
         "mode": "lines",
         "text": "0.1111111111111111",
         "type": "scatter",
         "x": [
          0.03528399353489137,
          0.035485360010484135
         ],
         "y": [
          0.06629787652916196,
          -0.15179063124126993
         ]
        },
        {
         "hoverinfo": "text",
         "line": {
          "color": "rgba(128, 128, 128, 0.1)",
          "width": 1
         },
         "mode": "lines",
         "text": "0.14285714285714285",
         "type": "scatter",
         "x": [
          0.03528399353489137,
          0.14845479866159975
         ],
         "y": [
          0.06629787652916196,
          -0.042722723058193156
         ]
        },
        {
         "hoverinfo": "text",
         "line": {
          "color": "rgba(128, 128, 128, 0.1)",
          "width": 1
         },
         "mode": "lines",
         "text": "0.1111111111111111",
         "type": "scatter",
         "x": [
          0.03528399353489137,
          0.10002362627778762
         ],
         "y": [
          0.06629787652916196,
          0.10501116025785338
         ]
        },
        {
         "hoverinfo": "text",
         "line": {
          "color": "rgba(128, 128, 128, 0.1)",
          "width": 1
         },
         "mode": "lines",
         "text": "0.1111111111111111",
         "type": "scatter",
         "x": [
          0.03528399353489137,
          -0.16620124598482677
         ],
         "y": [
          0.06629787652916196,
          -0.01909129302872234
         ]
        },
        {
         "hoverinfo": "text",
         "line": {
          "color": "rgba(128, 128, 128, 0.1)",
          "width": 1
         },
         "mode": "lines",
         "text": "0.0625",
         "type": "scatter",
         "x": [
          0.03528399353489137,
          0.10254243804351508
         ],
         "y": [
          0.06629787652916196,
          -0.2532800348604361
         ]
        },
        {
         "hoverinfo": "text",
         "line": {
          "color": "rgba(128, 128, 128, 0.1)",
          "width": 1
         },
         "mode": "lines",
         "text": "0.16666666666666666",
         "type": "scatter",
         "x": [
          0.03528399353489137,
          0.005294593386108596
         ],
         "y": [
          0.06629787652916196,
          0.13730846316385836
         ]
        },
        {
         "hoverinfo": "text",
         "line": {
          "color": "rgba(128, 128, 128, 0.1)",
          "width": 1
         },
         "mode": "lines",
         "text": "0.125",
         "type": "scatter",
         "x": [
          0.03528399353489137,
          0.07162601478889682
         ],
         "y": [
          0.06629787652916196,
          0.22727757704262716
         ]
        },
        {
         "hoverinfo": "text",
         "line": {
          "color": "rgba(128, 128, 128, 0.1)",
          "width": 1
         },
         "mode": "lines",
         "text": "1.0",
         "type": "scatter",
         "x": [
          0.03528399353489137,
          -0.12776709487089863
         ],
         "y": [
          0.06629787652916196,
          -0.13201843882764794
         ]
        },
        {
         "hoverinfo": "text",
         "line": {
          "color": "rgba(128, 128, 128, 0.1)",
          "width": 1
         },
         "mode": "lines",
         "text": "0.1111111111111111",
         "type": "scatter",
         "x": [
          0.03528399353489137,
          0.12457960723897601
         ],
         "y": [
          0.06629787652916196,
          -0.11512220422049145
         ]
        },
        {
         "hoverinfo": "text",
         "line": {
          "color": "rgba(128, 128, 128, 0.1)",
          "width": 1
         },
         "mode": "lines",
         "text": "0.1111111111111111",
         "type": "scatter",
         "x": [
          0.03528399353489137,
          0.038865278775735576
         ],
         "y": [
          0.06629787652916196,
          -0.20376826594898925
         ]
        },
        {
         "hoverinfo": "text",
         "line": {
          "color": "rgba(128, 128, 128, 0.1)",
          "width": 1
         },
         "mode": "lines",
         "text": "1.0",
         "type": "scatter",
         "x": [
          0.03528399353489137,
          0.08165673758741265
         ],
         "y": [
          0.06629787652916196,
          -0.16334315634167867
         ]
        },
        {
         "hoverinfo": "text",
         "line": {
          "color": "rgba(128, 128, 128, 0.1)",
          "width": 1
         },
         "mode": "lines",
         "text": "0.1",
         "type": "scatter",
         "x": [
          0.03528399353489137,
          0.11815707188034474
         ],
         "y": [
          0.06629787652916196,
          -0.07442264680581974
         ]
        },
        {
         "hoverinfo": "text",
         "line": {
          "color": "rgba(128, 128, 128, 0.1)",
          "width": 1
         },
         "mode": "lines",
         "text": "1.0",
         "type": "scatter",
         "x": [
          0.03528399353489137,
          -0.03383436954673177
         ],
         "y": [
          0.06629787652916196,
          0.163279787590839
         ]
        },
        {
         "hoverinfo": "text",
         "line": {
          "color": "rgba(128, 128, 128, 0.1)",
          "width": 1
         },
         "mode": "lines",
         "text": "0.1111111111111111",
         "type": "scatter",
         "x": [
          0.03528399353489137,
          -0.1259222814179488
         ],
         "y": [
          0.06629787652916196,
          0.10384437114009124
         ]
        },
        {
         "hoverinfo": "text",
         "line": {
          "color": "rgba(128, 128, 128, 0.1)",
          "width": 1
         },
         "mode": "lines",
         "text": "0.1111111111111111",
         "type": "scatter",
         "x": [
          0.03528399353489137,
          0.19326865043805733
         ],
         "y": [
          0.06629787652916196,
          0.029314955041528992
         ]
        },
        {
         "hoverinfo": "text",
         "line": {
          "color": "rgba(128, 128, 128, 0.1)",
          "width": 1
         },
         "mode": "lines",
         "text": "0.1111111111111111",
         "type": "scatter",
         "x": [
          0.03528399353489137,
          -0.016023919840118115
         ],
         "y": [
          0.06629787652916196,
          0.06551360928329812
         ]
        },
        {
         "hoverinfo": "text",
         "line": {
          "color": "rgba(128, 128, 128, 0.1)",
          "width": 1
         },
         "mode": "lines",
         "text": "1.0",
         "type": "scatter",
         "x": [
          0.03528399353489137,
          0.1033115932177682
         ],
         "y": [
          0.06629787652916196,
          0.07607086985225013
         ]
        },
        {
         "hoverinfo": "text",
         "line": {
          "color": "rgba(128, 128, 128, 0.1)",
          "width": 1
         },
         "mode": "lines",
         "text": "1.0",
         "type": "scatter",
         "x": [
          0.03528399353489137,
          -0.07624885500352627
         ],
         "y": [
          0.06629787652916196,
          0.15917288408740757
         ]
        },
        {
         "hoverinfo": "text",
         "line": {
          "color": "rgba(128, 128, 128, 0.1)",
          "width": 1
         },
         "mode": "lines",
         "text": "1.0",
         "type": "scatter",
         "x": [
          -0.07466938126855868,
          -0.09384834518561819
         ],
         "y": [
          -0.11999046444602385,
          0.024450807633515183
         ]
        },
        {
         "hoverinfo": "text",
         "line": {
          "color": "rgba(128, 128, 128, 0.1)",
          "width": 1
         },
         "mode": "lines",
         "text": "1.0",
         "type": "scatter",
         "x": [
          -0.07466938126855868,
          -0.1378008616166141
         ],
         "y": [
          -0.11999046444602385,
          0.007535428796133289
         ]
        },
        {
         "hoverinfo": "text",
         "line": {
          "color": "rgba(128, 128, 128, 0.1)",
          "width": 1
         },
         "mode": "lines",
         "text": "1.0",
         "type": "scatter",
         "x": [
          -0.07466938126855868,
          -0.0949504079612341
         ],
         "y": [
          -0.11999046444602385,
          -0.19337885839804358
         ]
        },
        {
         "hoverinfo": "text",
         "line": {
          "color": "rgba(128, 128, 128, 0.1)",
          "width": 1
         },
         "mode": "lines",
         "text": "1.0",
         "type": "scatter",
         "x": [
          -0.07466938126855868,
          0.20147609498213323
         ],
         "y": [
          -0.11999046444602385,
          -0.048153245566312
         ]
        },
        {
         "hoverinfo": "text",
         "line": {
          "color": "rgba(128, 128, 128, 0.1)",
          "width": 1
         },
         "mode": "lines",
         "text": "1.0",
         "type": "scatter",
         "x": [
          -0.07466938126855868,
          -0.09323660092102859
         ],
         "y": [
          -0.11999046444602385,
          -0.07360207809045516
         ]
        },
        {
         "hoverinfo": "text",
         "line": {
          "color": "rgba(128, 128, 128, 0.1)",
          "width": 1
         },
         "mode": "lines",
         "text": "1.0",
         "type": "scatter",
         "x": [
          -0.07466938126855868,
          -0.07163226007633516
         ],
         "y": [
          -0.11999046444602385,
          0.06034094509750427
         ]
        },
        {
         "hoverinfo": "text",
         "line": {
          "color": "rgba(128, 128, 128, 0.1)",
          "width": 1
         },
         "mode": "lines",
         "text": "1.0",
         "type": "scatter",
         "x": [
          -0.07466938126855868,
          0.08727096597073872
         ],
         "y": [
          -0.11999046444602385,
          -0.020547012131089108
         ]
        },
        {
         "hoverinfo": "text",
         "line": {
          "color": "rgba(128, 128, 128, 0.1)",
          "width": 1
         },
         "mode": "lines",
         "text": "1.0",
         "type": "scatter",
         "x": [
          -0.07466938126855868,
          0.1685312976731628
         ],
         "y": [
          -0.11999046444602385,
          -0.117055298414665
         ]
        },
        {
         "hoverinfo": "text",
         "line": {
          "color": "rgba(128, 128, 128, 0.1)",
          "width": 1
         },
         "mode": "lines",
         "text": "1.0",
         "type": "scatter",
         "x": [
          -0.07466938126855868,
          -0.02390725817653629
         ],
         "y": [
          -0.11999046444602385,
          -0.03215261167696534
         ]
        },
        {
         "hoverinfo": "text",
         "line": {
          "color": "rgba(128, 128, 128, 0.1)",
          "width": 1
         },
         "mode": "lines",
         "text": "1.0",
         "type": "scatter",
         "x": [
          -0.07466938126855868,
          -0.16344201769829808
         ],
         "y": [
          -0.11999046444602385,
          0.0429638835733472
         ]
        },
        {
         "hoverinfo": "text",
         "line": {
          "color": "rgba(128, 128, 128, 0.1)",
          "width": 1
         },
         "mode": "lines",
         "text": "1.0",
         "type": "scatter",
         "x": [
          -0.07466938126855868,
          0.166123141387588
         ],
         "y": [
          -0.11999046444602385,
          0.06166865831771715
         ]
        },
        {
         "hoverinfo": "text",
         "line": {
          "color": "rgba(128, 128, 128, 0.1)",
          "width": 1
         },
         "mode": "lines",
         "text": "1.0",
         "type": "scatter",
         "x": [
          -0.07466938126855868,
          -0.019578528041053832
         ],
         "y": [
          -0.11999046444602385,
          -0.1014197181777017
         ]
        },
        {
         "hoverinfo": "text",
         "line": {
          "color": "rgba(128, 128, 128, 0.1)",
          "width": 1
         },
         "mode": "lines",
         "text": "1.0",
         "type": "scatter",
         "x": [
          -0.07466938126855868,
          -0.032465231272888105
         ],
         "y": [
          -0.11999046444602385,
          -0.2182550854092832
         ]
        },
        {
         "hoverinfo": "text",
         "line": {
          "color": "rgba(128, 128, 128, 0.1)",
          "width": 1
         },
         "mode": "lines",
         "text": "1.0",
         "type": "scatter",
         "x": [
          -0.07466938126855868,
          0.04648405342682209
         ],
         "y": [
          -0.11999046444602385,
          -0.10445288949657033
         ]
        },
        {
         "hoverinfo": "text",
         "line": {
          "color": "rgba(128, 128, 128, 0.1)",
          "width": 1
         },
         "mode": "lines",
         "text": "1.0",
         "type": "scatter",
         "x": [
          -0.07466938126855868,
          0.035485360010484135
         ],
         "y": [
          -0.11999046444602385,
          -0.15179063124126993
         ]
        },
        {
         "hoverinfo": "text",
         "line": {
          "color": "rgba(128, 128, 128, 0.1)",
          "width": 1
         },
         "mode": "lines",
         "text": "1.0",
         "type": "scatter",
         "x": [
          -0.07466938126855868,
          0.14845479866159975
         ],
         "y": [
          -0.11999046444602385,
          -0.042722723058193156
         ]
        },
        {
         "hoverinfo": "text",
         "line": {
          "color": "rgba(128, 128, 128, 0.1)",
          "width": 1
         },
         "mode": "lines",
         "text": "1.0",
         "type": "scatter",
         "x": [
          -0.07466938126855868,
          0.10002362627778762
         ],
         "y": [
          -0.11999046444602385,
          0.10501116025785338
         ]
        },
        {
         "hoverinfo": "text",
         "line": {
          "color": "rgba(128, 128, 128, 0.1)",
          "width": 1
         },
         "mode": "lines",
         "text": "1.0",
         "type": "scatter",
         "x": [
          -0.07466938126855868,
          -0.16620124598482677
         ],
         "y": [
          -0.11999046444602385,
          -0.01909129302872234
         ]
        },
        {
         "hoverinfo": "text",
         "line": {
          "color": "rgba(128, 128, 128, 0.1)",
          "width": 1
         },
         "mode": "lines",
         "text": "0.08333333333333333",
         "type": "scatter",
         "x": [
          -0.07466938126855868,
          0.10254243804351508
         ],
         "y": [
          -0.11999046444602385,
          -0.2532800348604361
         ]
        },
        {
         "hoverinfo": "text",
         "line": {
          "color": "rgba(128, 128, 128, 0.1)",
          "width": 1
         },
         "mode": "lines",
         "text": "0.5",
         "type": "scatter",
         "x": [
          -0.07466938126855868,
          0.005294593386108596
         ],
         "y": [
          -0.11999046444602385,
          0.13730846316385836
         ]
        },
        {
         "hoverinfo": "text",
         "line": {
          "color": "rgba(128, 128, 128, 0.1)",
          "width": 1
         },
         "mode": "lines",
         "text": "0.25",
         "type": "scatter",
         "x": [
          -0.07466938126855868,
          0.07162601478889682
         ],
         "y": [
          -0.11999046444602385,
          0.22727757704262716
         ]
        },
        {
         "hoverinfo": "text",
         "line": {
          "color": "rgba(128, 128, 128, 0.1)",
          "width": 1
         },
         "mode": "lines",
         "text": "1.0",
         "type": "scatter",
         "x": [
          -0.07466938126855868,
          -0.12776709487089863
         ],
         "y": [
          -0.11999046444602385,
          -0.13201843882764794
         ]
        },
        {
         "hoverinfo": "text",
         "line": {
          "color": "rgba(128, 128, 128, 0.1)",
          "width": 1
         },
         "mode": "lines",
         "text": "1.0",
         "type": "scatter",
         "x": [
          -0.07466938126855868,
          0.12457960723897601
         ],
         "y": [
          -0.11999046444602385,
          -0.11512220422049145
         ]
        },
        {
         "hoverinfo": "text",
         "line": {
          "color": "rgba(128, 128, 128, 0.1)",
          "width": 1
         },
         "mode": "lines",
         "text": "1.0",
         "type": "scatter",
         "x": [
          -0.07466938126855868,
          0.038865278775735576
         ],
         "y": [
          -0.11999046444602385,
          -0.20376826594898925
         ]
        },
        {
         "hoverinfo": "text",
         "line": {
          "color": "rgba(128, 128, 128, 0.1)",
          "width": 1
         },
         "mode": "lines",
         "text": "1.0",
         "type": "scatter",
         "x": [
          -0.07466938126855868,
          0.08165673758741265
         ],
         "y": [
          -0.11999046444602385,
          -0.16334315634167867
         ]
        },
        {
         "hoverinfo": "text",
         "line": {
          "color": "rgba(128, 128, 128, 0.1)",
          "width": 1
         },
         "mode": "lines",
         "text": "0.5",
         "type": "scatter",
         "x": [
          -0.07466938126855868,
          0.11815707188034474
         ],
         "y": [
          -0.11999046444602385,
          -0.07442264680581974
         ]
        },
        {
         "hoverinfo": "text",
         "line": {
          "color": "rgba(128, 128, 128, 0.1)",
          "width": 1
         },
         "mode": "lines",
         "text": "1.0",
         "type": "scatter",
         "x": [
          -0.07466938126855868,
          -0.03383436954673177
         ],
         "y": [
          -0.11999046444602385,
          0.163279787590839
         ]
        },
        {
         "hoverinfo": "text",
         "line": {
          "color": "rgba(128, 128, 128, 0.1)",
          "width": 1
         },
         "mode": "lines",
         "text": "1.0",
         "type": "scatter",
         "x": [
          -0.07466938126855868,
          -0.1259222814179488
         ],
         "y": [
          -0.11999046444602385,
          0.10384437114009124
         ]
        },
        {
         "hoverinfo": "text",
         "line": {
          "color": "rgba(128, 128, 128, 0.1)",
          "width": 1
         },
         "mode": "lines",
         "text": "1.0",
         "type": "scatter",
         "x": [
          -0.07466938126855868,
          0.19326865043805733
         ],
         "y": [
          -0.11999046444602385,
          0.029314955041528992
         ]
        },
        {
         "hoverinfo": "text",
         "line": {
          "color": "rgba(128, 128, 128, 0.1)",
          "width": 1
         },
         "mode": "lines",
         "text": "1.0",
         "type": "scatter",
         "x": [
          -0.07466938126855868,
          -0.016023919840118115
         ],
         "y": [
          -0.11999046444602385,
          0.06551360928329812
         ]
        },
        {
         "hoverinfo": "text",
         "line": {
          "color": "rgba(128, 128, 128, 0.1)",
          "width": 1
         },
         "mode": "lines",
         "text": "1.0",
         "type": "scatter",
         "x": [
          -0.07466938126855868,
          0.1033115932177682
         ],
         "y": [
          -0.11999046444602385,
          0.07607086985225013
         ]
        },
        {
         "hoverinfo": "text",
         "line": {
          "color": "rgba(128, 128, 128, 0.1)",
          "width": 1
         },
         "mode": "lines",
         "text": "1.0",
         "type": "scatter",
         "x": [
          -0.07466938126855868,
          -0.07624885500352627
         ],
         "y": [
          -0.11999046444602385,
          0.15917288408740757
         ]
        },
        {
         "hoverinfo": "text",
         "line": {
          "color": "rgba(128, 128, 128, 0.1)",
          "width": 1
         },
         "mode": "lines",
         "text": "1.0",
         "type": "scatter",
         "x": [
          -0.09384834518561819,
          -0.1378008616166141
         ],
         "y": [
          0.024450807633515183,
          0.007535428796133289
         ]
        },
        {
         "hoverinfo": "text",
         "line": {
          "color": "rgba(128, 128, 128, 0.1)",
          "width": 1
         },
         "mode": "lines",
         "text": "1.0",
         "type": "scatter",
         "x": [
          -0.09384834518561819,
          -0.0949504079612341
         ],
         "y": [
          0.024450807633515183,
          -0.19337885839804358
         ]
        },
        {
         "hoverinfo": "text",
         "line": {
          "color": "rgba(128, 128, 128, 0.1)",
          "width": 1
         },
         "mode": "lines",
         "text": "0.1111111111111111",
         "type": "scatter",
         "x": [
          -0.09384834518561819,
          0.20147609498213323
         ],
         "y": [
          0.024450807633515183,
          -0.048153245566312
         ]
        },
        {
         "hoverinfo": "text",
         "line": {
          "color": "rgba(128, 128, 128, 0.1)",
          "width": 1
         },
         "mode": "lines",
         "text": "1.0",
         "type": "scatter",
         "x": [
          -0.09384834518561819,
          -0.09323660092102859
         ],
         "y": [
          0.024450807633515183,
          -0.07360207809045516
         ]
        },
        {
         "hoverinfo": "text",
         "line": {
          "color": "rgba(128, 128, 128, 0.1)",
          "width": 1
         },
         "mode": "lines",
         "text": "1.0",
         "type": "scatter",
         "x": [
          -0.09384834518561819,
          -0.07163226007633516
         ],
         "y": [
          0.024450807633515183,
          0.06034094509750427
         ]
        },
        {
         "hoverinfo": "text",
         "line": {
          "color": "rgba(128, 128, 128, 0.1)",
          "width": 1
         },
         "mode": "lines",
         "text": "1.0",
         "type": "scatter",
         "x": [
          -0.09384834518561819,
          0.08727096597073872
         ],
         "y": [
          0.024450807633515183,
          -0.020547012131089108
         ]
        },
        {
         "hoverinfo": "text",
         "line": {
          "color": "rgba(128, 128, 128, 0.1)",
          "width": 1
         },
         "mode": "lines",
         "text": "1.0",
         "type": "scatter",
         "x": [
          -0.09384834518561819,
          0.1685312976731628
         ],
         "y": [
          0.024450807633515183,
          -0.117055298414665
         ]
        },
        {
         "hoverinfo": "text",
         "line": {
          "color": "rgba(128, 128, 128, 0.1)",
          "width": 1
         },
         "mode": "lines",
         "text": "1.0",
         "type": "scatter",
         "x": [
          -0.09384834518561819,
          -0.02390725817653629
         ],
         "y": [
          0.024450807633515183,
          -0.03215261167696534
         ]
        },
        {
         "hoverinfo": "text",
         "line": {
          "color": "rgba(128, 128, 128, 0.1)",
          "width": 1
         },
         "mode": "lines",
         "text": "0.3333333333333333",
         "type": "scatter",
         "x": [
          -0.09384834518561819,
          -0.16344201769829808
         ],
         "y": [
          0.024450807633515183,
          0.0429638835733472
         ]
        },
        {
         "hoverinfo": "text",
         "line": {
          "color": "rgba(128, 128, 128, 0.1)",
          "width": 1
         },
         "mode": "lines",
         "text": "1.0",
         "type": "scatter",
         "x": [
          -0.09384834518561819,
          0.166123141387588
         ],
         "y": [
          0.024450807633515183,
          0.06166865831771715
         ]
        },
        {
         "hoverinfo": "text",
         "line": {
          "color": "rgba(128, 128, 128, 0.1)",
          "width": 1
         },
         "mode": "lines",
         "text": "1.0",
         "type": "scatter",
         "x": [
          -0.09384834518561819,
          -0.019578528041053832
         ],
         "y": [
          0.024450807633515183,
          -0.1014197181777017
         ]
        },
        {
         "hoverinfo": "text",
         "line": {
          "color": "rgba(128, 128, 128, 0.1)",
          "width": 1
         },
         "mode": "lines",
         "text": "1.0",
         "type": "scatter",
         "x": [
          -0.09384834518561819,
          -0.032465231272888105
         ],
         "y": [
          0.024450807633515183,
          -0.2182550854092832
         ]
        },
        {
         "hoverinfo": "text",
         "line": {
          "color": "rgba(128, 128, 128, 0.1)",
          "width": 1
         },
         "mode": "lines",
         "text": "1.0",
         "type": "scatter",
         "x": [
          -0.09384834518561819,
          0.04648405342682209
         ],
         "y": [
          0.024450807633515183,
          -0.10445288949657033
         ]
        },
        {
         "hoverinfo": "text",
         "line": {
          "color": "rgba(128, 128, 128, 0.1)",
          "width": 1
         },
         "mode": "lines",
         "text": "1.0",
         "type": "scatter",
         "x": [
          -0.09384834518561819,
          0.035485360010484135
         ],
         "y": [
          0.024450807633515183,
          -0.15179063124126993
         ]
        },
        {
         "hoverinfo": "text",
         "line": {
          "color": "rgba(128, 128, 128, 0.1)",
          "width": 1
         },
         "mode": "lines",
         "text": "1.0",
         "type": "scatter",
         "x": [
          -0.09384834518561819,
          0.14845479866159975
         ],
         "y": [
          0.024450807633515183,
          -0.042722723058193156
         ]
        },
        {
         "hoverinfo": "text",
         "line": {
          "color": "rgba(128, 128, 128, 0.1)",
          "width": 1
         },
         "mode": "lines",
         "text": "1.0",
         "type": "scatter",
         "x": [
          -0.09384834518561819,
          0.10002362627778762
         ],
         "y": [
          0.024450807633515183,
          0.10501116025785338
         ]
        },
        {
         "hoverinfo": "text",
         "line": {
          "color": "rgba(128, 128, 128, 0.1)",
          "width": 1
         },
         "mode": "lines",
         "text": "1.0",
         "type": "scatter",
         "x": [
          -0.09384834518561819,
          -0.16620124598482677
         ],
         "y": [
          0.024450807633515183,
          -0.01909129302872234
         ]
        },
        {
         "hoverinfo": "text",
         "line": {
          "color": "rgba(128, 128, 128, 0.1)",
          "width": 1
         },
         "mode": "lines",
         "text": "0.08333333333333333",
         "type": "scatter",
         "x": [
          -0.09384834518561819,
          0.10254243804351508
         ],
         "y": [
          0.024450807633515183,
          -0.2532800348604361
         ]
        },
        {
         "hoverinfo": "text",
         "line": {
          "color": "rgba(128, 128, 128, 0.1)",
          "width": 1
         },
         "mode": "lines",
         "text": "0.5",
         "type": "scatter",
         "x": [
          -0.09384834518561819,
          0.005294593386108596
         ],
         "y": [
          0.024450807633515183,
          0.13730846316385836
         ]
        },
        {
         "hoverinfo": "text",
         "line": {
          "color": "rgba(128, 128, 128, 0.1)",
          "width": 1
         },
         "mode": "lines",
         "text": "0.125",
         "type": "scatter",
         "x": [
          -0.09384834518561819,
          0.07162601478889682
         ],
         "y": [
          0.024450807633515183,
          0.22727757704262716
         ]
        },
        {
         "hoverinfo": "text",
         "line": {
          "color": "rgba(128, 128, 128, 0.1)",
          "width": 1
         },
         "mode": "lines",
         "text": "1.0",
         "type": "scatter",
         "x": [
          -0.09384834518561819,
          -0.12776709487089863
         ],
         "y": [
          0.024450807633515183,
          -0.13201843882764794
         ]
        },
        {
         "hoverinfo": "text",
         "line": {
          "color": "rgba(128, 128, 128, 0.1)",
          "width": 1
         },
         "mode": "lines",
         "text": "1.0",
         "type": "scatter",
         "x": [
          -0.09384834518561819,
          0.12457960723897601
         ],
         "y": [
          0.024450807633515183,
          -0.11512220422049145
         ]
        },
        {
         "hoverinfo": "text",
         "line": {
          "color": "rgba(128, 128, 128, 0.1)",
          "width": 1
         },
         "mode": "lines",
         "text": "1.0",
         "type": "scatter",
         "x": [
          -0.09384834518561819,
          0.038865278775735576
         ],
         "y": [
          0.024450807633515183,
          -0.20376826594898925
         ]
        },
        {
         "hoverinfo": "text",
         "line": {
          "color": "rgba(128, 128, 128, 0.1)",
          "width": 1
         },
         "mode": "lines",
         "text": "1.0",
         "type": "scatter",
         "x": [
          -0.09384834518561819,
          0.08165673758741265
         ],
         "y": [
          0.024450807633515183,
          -0.16334315634167867
         ]
        },
        {
         "hoverinfo": "text",
         "line": {
          "color": "rgba(128, 128, 128, 0.1)",
          "width": 1
         },
         "mode": "lines",
         "text": "0.5",
         "type": "scatter",
         "x": [
          -0.09384834518561819,
          0.11815707188034474
         ],
         "y": [
          0.024450807633515183,
          -0.07442264680581974
         ]
        },
        {
         "hoverinfo": "text",
         "line": {
          "color": "rgba(128, 128, 128, 0.1)",
          "width": 1
         },
         "mode": "lines",
         "text": "1.0",
         "type": "scatter",
         "x": [
          -0.09384834518561819,
          -0.03383436954673177
         ],
         "y": [
          0.024450807633515183,
          0.163279787590839
         ]
        },
        {
         "hoverinfo": "text",
         "line": {
          "color": "rgba(128, 128, 128, 0.1)",
          "width": 1
         },
         "mode": "lines",
         "text": "1.0",
         "type": "scatter",
         "x": [
          -0.09384834518561819,
          -0.1259222814179488
         ],
         "y": [
          0.024450807633515183,
          0.10384437114009124
         ]
        },
        {
         "hoverinfo": "text",
         "line": {
          "color": "rgba(128, 128, 128, 0.1)",
          "width": 1
         },
         "mode": "lines",
         "text": "1.0",
         "type": "scatter",
         "x": [
          -0.09384834518561819,
          0.19326865043805733
         ],
         "y": [
          0.024450807633515183,
          0.029314955041528992
         ]
        },
        {
         "hoverinfo": "text",
         "line": {
          "color": "rgba(128, 128, 128, 0.1)",
          "width": 1
         },
         "mode": "lines",
         "text": "1.0",
         "type": "scatter",
         "x": [
          -0.09384834518561819,
          -0.016023919840118115
         ],
         "y": [
          0.024450807633515183,
          0.06551360928329812
         ]
        },
        {
         "hoverinfo": "text",
         "line": {
          "color": "rgba(128, 128, 128, 0.1)",
          "width": 1
         },
         "mode": "lines",
         "text": "1.0",
         "type": "scatter",
         "x": [
          -0.09384834518561819,
          0.1033115932177682
         ],
         "y": [
          0.024450807633515183,
          0.07607086985225013
         ]
        },
        {
         "hoverinfo": "text",
         "line": {
          "color": "rgba(128, 128, 128, 0.1)",
          "width": 1
         },
         "mode": "lines",
         "text": "1.0",
         "type": "scatter",
         "x": [
          -0.09384834518561819,
          -0.07624885500352627
         ],
         "y": [
          0.024450807633515183,
          0.15917288408740757
         ]
        },
        {
         "hoverinfo": "text",
         "line": {
          "color": "rgba(128, 128, 128, 0.1)",
          "width": 1
         },
         "mode": "lines",
         "text": "1.0",
         "type": "scatter",
         "x": [
          -0.1378008616166141,
          -0.0949504079612341
         ],
         "y": [
          0.007535428796133289,
          -0.19337885839804358
         ]
        },
        {
         "hoverinfo": "text",
         "line": {
          "color": "rgba(128, 128, 128, 0.1)",
          "width": 1
         },
         "mode": "lines",
         "text": "0.1111111111111111",
         "type": "scatter",
         "x": [
          -0.1378008616166141,
          0.20147609498213323
         ],
         "y": [
          0.007535428796133289,
          -0.048153245566312
         ]
        },
        {
         "hoverinfo": "text",
         "line": {
          "color": "rgba(128, 128, 128, 0.1)",
          "width": 1
         },
         "mode": "lines",
         "text": "1.0",
         "type": "scatter",
         "x": [
          -0.1378008616166141,
          -0.09323660092102859
         ],
         "y": [
          0.007535428796133289,
          -0.07360207809045516
         ]
        },
        {
         "hoverinfo": "text",
         "line": {
          "color": "rgba(128, 128, 128, 0.1)",
          "width": 1
         },
         "mode": "lines",
         "text": "1.0",
         "type": "scatter",
         "x": [
          -0.1378008616166141,
          -0.07163226007633516
         ],
         "y": [
          0.007535428796133289,
          0.06034094509750427
         ]
        },
        {
         "hoverinfo": "text",
         "line": {
          "color": "rgba(128, 128, 128, 0.1)",
          "width": 1
         },
         "mode": "lines",
         "text": "1.0",
         "type": "scatter",
         "x": [
          -0.1378008616166141,
          0.08727096597073872
         ],
         "y": [
          0.007535428796133289,
          -0.020547012131089108
         ]
        },
        {
         "hoverinfo": "text",
         "line": {
          "color": "rgba(128, 128, 128, 0.1)",
          "width": 1
         },
         "mode": "lines",
         "text": "1.0",
         "type": "scatter",
         "x": [
          -0.1378008616166141,
          0.1685312976731628
         ],
         "y": [
          0.007535428796133289,
          -0.117055298414665
         ]
        },
        {
         "hoverinfo": "text",
         "line": {
          "color": "rgba(128, 128, 128, 0.1)",
          "width": 1
         },
         "mode": "lines",
         "text": "1.0",
         "type": "scatter",
         "x": [
          -0.1378008616166141,
          -0.02390725817653629
         ],
         "y": [
          0.007535428796133289,
          -0.03215261167696534
         ]
        },
        {
         "hoverinfo": "text",
         "line": {
          "color": "rgba(128, 128, 128, 0.1)",
          "width": 1
         },
         "mode": "lines",
         "text": "0.3333333333333333",
         "type": "scatter",
         "x": [
          -0.1378008616166141,
          -0.16344201769829808
         ],
         "y": [
          0.007535428796133289,
          0.0429638835733472
         ]
        },
        {
         "hoverinfo": "text",
         "line": {
          "color": "rgba(128, 128, 128, 0.1)",
          "width": 1
         },
         "mode": "lines",
         "text": "0.14285714285714285",
         "type": "scatter",
         "x": [
          -0.1378008616166141,
          0.166123141387588
         ],
         "y": [
          0.007535428796133289,
          0.06166865831771715
         ]
        },
        {
         "hoverinfo": "text",
         "line": {
          "color": "rgba(128, 128, 128, 0.1)",
          "width": 1
         },
         "mode": "lines",
         "text": "1.0",
         "type": "scatter",
         "x": [
          -0.1378008616166141,
          -0.019578528041053832
         ],
         "y": [
          0.007535428796133289,
          -0.1014197181777017
         ]
        },
        {
         "hoverinfo": "text",
         "line": {
          "color": "rgba(128, 128, 128, 0.1)",
          "width": 1
         },
         "mode": "lines",
         "text": "1.0",
         "type": "scatter",
         "x": [
          -0.1378008616166141,
          -0.032465231272888105
         ],
         "y": [
          0.007535428796133289,
          -0.2182550854092832
         ]
        },
        {
         "hoverinfo": "text",
         "line": {
          "color": "rgba(128, 128, 128, 0.1)",
          "width": 1
         },
         "mode": "lines",
         "text": "1.0",
         "type": "scatter",
         "x": [
          -0.1378008616166141,
          0.04648405342682209
         ],
         "y": [
          0.007535428796133289,
          -0.10445288949657033
         ]
        },
        {
         "hoverinfo": "text",
         "line": {
          "color": "rgba(128, 128, 128, 0.1)",
          "width": 1
         },
         "mode": "lines",
         "text": "1.0",
         "type": "scatter",
         "x": [
          -0.1378008616166141,
          0.035485360010484135
         ],
         "y": [
          0.007535428796133289,
          -0.15179063124126993
         ]
        },
        {
         "hoverinfo": "text",
         "line": {
          "color": "rgba(128, 128, 128, 0.1)",
          "width": 1
         },
         "mode": "lines",
         "text": "1.0",
         "type": "scatter",
         "x": [
          -0.1378008616166141,
          0.14845479866159975
         ],
         "y": [
          0.007535428796133289,
          -0.042722723058193156
         ]
        },
        {
         "hoverinfo": "text",
         "line": {
          "color": "rgba(128, 128, 128, 0.1)",
          "width": 1
         },
         "mode": "lines",
         "text": "1.0",
         "type": "scatter",
         "x": [
          -0.1378008616166141,
          0.10002362627778762
         ],
         "y": [
          0.007535428796133289,
          0.10501116025785338
         ]
        },
        {
         "hoverinfo": "text",
         "line": {
          "color": "rgba(128, 128, 128, 0.1)",
          "width": 1
         },
         "mode": "lines",
         "text": "1.0",
         "type": "scatter",
         "x": [
          -0.1378008616166141,
          -0.16620124598482677
         ],
         "y": [
          0.007535428796133289,
          -0.01909129302872234
         ]
        },
        {
         "hoverinfo": "text",
         "line": {
          "color": "rgba(128, 128, 128, 0.1)",
          "width": 1
         },
         "mode": "lines",
         "text": "0.1",
         "type": "scatter",
         "x": [
          -0.1378008616166141,
          0.10254243804351508
         ],
         "y": [
          0.007535428796133289,
          -0.2532800348604361
         ]
        },
        {
         "hoverinfo": "text",
         "line": {
          "color": "rgba(128, 128, 128, 0.1)",
          "width": 1
         },
         "mode": "lines",
         "text": "0.5",
         "type": "scatter",
         "x": [
          -0.1378008616166141,
          0.005294593386108596
         ],
         "y": [
          0.007535428796133289,
          0.13730846316385836
         ]
        },
        {
         "hoverinfo": "text",
         "line": {
          "color": "rgba(128, 128, 128, 0.1)",
          "width": 1
         },
         "mode": "lines",
         "text": "0.125",
         "type": "scatter",
         "x": [
          -0.1378008616166141,
          0.07162601478889682
         ],
         "y": [
          0.007535428796133289,
          0.22727757704262716
         ]
        },
        {
         "hoverinfo": "text",
         "line": {
          "color": "rgba(128, 128, 128, 0.1)",
          "width": 1
         },
         "mode": "lines",
         "text": "1.0",
         "type": "scatter",
         "x": [
          -0.1378008616166141,
          -0.12776709487089863
         ],
         "y": [
          0.007535428796133289,
          -0.13201843882764794
         ]
        },
        {
         "hoverinfo": "text",
         "line": {
          "color": "rgba(128, 128, 128, 0.1)",
          "width": 1
         },
         "mode": "lines",
         "text": "1.0",
         "type": "scatter",
         "x": [
          -0.1378008616166141,
          0.12457960723897601
         ],
         "y": [
          0.007535428796133289,
          -0.11512220422049145
         ]
        },
        {
         "hoverinfo": "text",
         "line": {
          "color": "rgba(128, 128, 128, 0.1)",
          "width": 1
         },
         "mode": "lines",
         "text": "1.0",
         "type": "scatter",
         "x": [
          -0.1378008616166141,
          0.038865278775735576
         ],
         "y": [
          0.007535428796133289,
          -0.20376826594898925
         ]
        },
        {
         "hoverinfo": "text",
         "line": {
          "color": "rgba(128, 128, 128, 0.1)",
          "width": 1
         },
         "mode": "lines",
         "text": "1.0",
         "type": "scatter",
         "x": [
          -0.1378008616166141,
          0.08165673758741265
         ],
         "y": [
          0.007535428796133289,
          -0.16334315634167867
         ]
        },
        {
         "hoverinfo": "text",
         "line": {
          "color": "rgba(128, 128, 128, 0.1)",
          "width": 1
         },
         "mode": "lines",
         "text": "0.5",
         "type": "scatter",
         "x": [
          -0.1378008616166141,
          0.11815707188034474
         ],
         "y": [
          0.007535428796133289,
          -0.07442264680581974
         ]
        },
        {
         "hoverinfo": "text",
         "line": {
          "color": "rgba(128, 128, 128, 0.1)",
          "width": 1
         },
         "mode": "lines",
         "text": "1.0",
         "type": "scatter",
         "x": [
          -0.1378008616166141,
          -0.03383436954673177
         ],
         "y": [
          0.007535428796133289,
          0.163279787590839
         ]
        },
        {
         "hoverinfo": "text",
         "line": {
          "color": "rgba(128, 128, 128, 0.1)",
          "width": 1
         },
         "mode": "lines",
         "text": "1.0",
         "type": "scatter",
         "x": [
          -0.1378008616166141,
          -0.1259222814179488
         ],
         "y": [
          0.007535428796133289,
          0.10384437114009124
         ]
        },
        {
         "hoverinfo": "text",
         "line": {
          "color": "rgba(128, 128, 128, 0.1)",
          "width": 1
         },
         "mode": "lines",
         "text": "0.1111111111111111",
         "type": "scatter",
         "x": [
          -0.1378008616166141,
          0.19326865043805733
         ],
         "y": [
          0.007535428796133289,
          0.029314955041528992
         ]
        },
        {
         "hoverinfo": "text",
         "line": {
          "color": "rgba(128, 128, 128, 0.1)",
          "width": 1
         },
         "mode": "lines",
         "text": "1.0",
         "type": "scatter",
         "x": [
          -0.1378008616166141,
          -0.016023919840118115
         ],
         "y": [
          0.007535428796133289,
          0.06551360928329812
         ]
        },
        {
         "hoverinfo": "text",
         "line": {
          "color": "rgba(128, 128, 128, 0.1)",
          "width": 1
         },
         "mode": "lines",
         "text": "1.0",
         "type": "scatter",
         "x": [
          -0.1378008616166141,
          0.1033115932177682
         ],
         "y": [
          0.007535428796133289,
          0.07607086985225013
         ]
        },
        {
         "hoverinfo": "text",
         "line": {
          "color": "rgba(128, 128, 128, 0.1)",
          "width": 1
         },
         "mode": "lines",
         "text": "1.0",
         "type": "scatter",
         "x": [
          -0.1378008616166141,
          -0.07624885500352627
         ],
         "y": [
          0.007535428796133289,
          0.15917288408740757
         ]
        },
        {
         "hoverinfo": "text",
         "line": {
          "color": "rgba(128, 128, 128, 0.1)",
          "width": 1
         },
         "mode": "lines",
         "text": "1.0",
         "type": "scatter",
         "x": [
          -0.0949504079612341,
          0.20147609498213323
         ],
         "y": [
          -0.19337885839804358,
          -0.048153245566312
         ]
        },
        {
         "hoverinfo": "text",
         "line": {
          "color": "rgba(128, 128, 128, 0.1)",
          "width": 1
         },
         "mode": "lines",
         "text": "1.0",
         "type": "scatter",
         "x": [
          -0.0949504079612341,
          -0.09323660092102859
         ],
         "y": [
          -0.19337885839804358,
          -0.07360207809045516
         ]
        },
        {
         "hoverinfo": "text",
         "line": {
          "color": "rgba(128, 128, 128, 0.1)",
          "width": 1
         },
         "mode": "lines",
         "text": "1.0",
         "type": "scatter",
         "x": [
          -0.0949504079612341,
          -0.07163226007633516
         ],
         "y": [
          -0.19337885839804358,
          0.06034094509750427
         ]
        },
        {
         "hoverinfo": "text",
         "line": {
          "color": "rgba(128, 128, 128, 0.1)",
          "width": 1
         },
         "mode": "lines",
         "text": "1.0",
         "type": "scatter",
         "x": [
          -0.0949504079612341,
          0.08727096597073872
         ],
         "y": [
          -0.19337885839804358,
          -0.020547012131089108
         ]
        },
        {
         "hoverinfo": "text",
         "line": {
          "color": "rgba(128, 128, 128, 0.1)",
          "width": 1
         },
         "mode": "lines",
         "text": "1.0",
         "type": "scatter",
         "x": [
          -0.0949504079612341,
          0.1685312976731628
         ],
         "y": [
          -0.19337885839804358,
          -0.117055298414665
         ]
        },
        {
         "hoverinfo": "text",
         "line": {
          "color": "rgba(128, 128, 128, 0.1)",
          "width": 1
         },
         "mode": "lines",
         "text": "1.0",
         "type": "scatter",
         "x": [
          -0.0949504079612341,
          -0.02390725817653629
         ],
         "y": [
          -0.19337885839804358,
          -0.03215261167696534
         ]
        },
        {
         "hoverinfo": "text",
         "line": {
          "color": "rgba(128, 128, 128, 0.1)",
          "width": 1
         },
         "mode": "lines",
         "text": "0.3333333333333333",
         "type": "scatter",
         "x": [
          -0.0949504079612341,
          -0.16344201769829808
         ],
         "y": [
          -0.19337885839804358,
          0.0429638835733472
         ]
        },
        {
         "hoverinfo": "text",
         "line": {
          "color": "rgba(128, 128, 128, 0.1)",
          "width": 1
         },
         "mode": "lines",
         "text": "0.3333333333333333",
         "type": "scatter",
         "x": [
          -0.0949504079612341,
          0.166123141387588
         ],
         "y": [
          -0.19337885839804358,
          0.06166865831771715
         ]
        },
        {
         "hoverinfo": "text",
         "line": {
          "color": "rgba(128, 128, 128, 0.1)",
          "width": 1
         },
         "mode": "lines",
         "text": "1.0",
         "type": "scatter",
         "x": [
          -0.0949504079612341,
          -0.019578528041053832
         ],
         "y": [
          -0.19337885839804358,
          -0.1014197181777017
         ]
        },
        {
         "hoverinfo": "text",
         "line": {
          "color": "rgba(128, 128, 128, 0.1)",
          "width": 1
         },
         "mode": "lines",
         "text": "1.0",
         "type": "scatter",
         "x": [
          -0.0949504079612341,
          -0.032465231272888105
         ],
         "y": [
          -0.19337885839804358,
          -0.2182550854092832
         ]
        },
        {
         "hoverinfo": "text",
         "line": {
          "color": "rgba(128, 128, 128, 0.1)",
          "width": 1
         },
         "mode": "lines",
         "text": "1.0",
         "type": "scatter",
         "x": [
          -0.0949504079612341,
          0.04648405342682209
         ],
         "y": [
          -0.19337885839804358,
          -0.10445288949657033
         ]
        },
        {
         "hoverinfo": "text",
         "line": {
          "color": "rgba(128, 128, 128, 0.1)",
          "width": 1
         },
         "mode": "lines",
         "text": "1.0",
         "type": "scatter",
         "x": [
          -0.0949504079612341,
          0.035485360010484135
         ],
         "y": [
          -0.19337885839804358,
          -0.15179063124126993
         ]
        },
        {
         "hoverinfo": "text",
         "line": {
          "color": "rgba(128, 128, 128, 0.1)",
          "width": 1
         },
         "mode": "lines",
         "text": "1.0",
         "type": "scatter",
         "x": [
          -0.0949504079612341,
          0.14845479866159975
         ],
         "y": [
          -0.19337885839804358,
          -0.042722723058193156
         ]
        },
        {
         "hoverinfo": "text",
         "line": {
          "color": "rgba(128, 128, 128, 0.1)",
          "width": 1
         },
         "mode": "lines",
         "text": "1.0",
         "type": "scatter",
         "x": [
          -0.0949504079612341,
          0.10002362627778762
         ],
         "y": [
          -0.19337885839804358,
          0.10501116025785338
         ]
        },
        {
         "hoverinfo": "text",
         "line": {
          "color": "rgba(128, 128, 128, 0.1)",
          "width": 1
         },
         "mode": "lines",
         "text": "1.0",
         "type": "scatter",
         "x": [
          -0.0949504079612341,
          -0.16620124598482677
         ],
         "y": [
          -0.19337885839804358,
          -0.01909129302872234
         ]
        },
        {
         "hoverinfo": "text",
         "line": {
          "color": "rgba(128, 128, 128, 0.1)",
          "width": 1
         },
         "mode": "lines",
         "text": "0.05555555555555555",
         "type": "scatter",
         "x": [
          -0.0949504079612341,
          0.10254243804351508
         ],
         "y": [
          -0.19337885839804358,
          -0.2532800348604361
         ]
        },
        {
         "hoverinfo": "text",
         "line": {
          "color": "rgba(128, 128, 128, 0.1)",
          "width": 1
         },
         "mode": "lines",
         "text": "0.5",
         "type": "scatter",
         "x": [
          -0.0949504079612341,
          0.005294593386108596
         ],
         "y": [
          -0.19337885839804358,
          0.13730846316385836
         ]
        },
        {
         "hoverinfo": "text",
         "line": {
          "color": "rgba(128, 128, 128, 0.1)",
          "width": 1
         },
         "mode": "lines",
         "text": "1.0",
         "type": "scatter",
         "x": [
          -0.0949504079612341,
          -0.12776709487089863
         ],
         "y": [
          -0.19337885839804358,
          -0.13201843882764794
         ]
        },
        {
         "hoverinfo": "text",
         "line": {
          "color": "rgba(128, 128, 128, 0.1)",
          "width": 1
         },
         "mode": "lines",
         "text": "1.0",
         "type": "scatter",
         "x": [
          -0.0949504079612341,
          0.12457960723897601
         ],
         "y": [
          -0.19337885839804358,
          -0.11512220422049145
         ]
        },
        {
         "hoverinfo": "text",
         "line": {
          "color": "rgba(128, 128, 128, 0.1)",
          "width": 1
         },
         "mode": "lines",
         "text": "1.0",
         "type": "scatter",
         "x": [
          -0.0949504079612341,
          0.038865278775735576
         ],
         "y": [
          -0.19337885839804358,
          -0.20376826594898925
         ]
        },
        {
         "hoverinfo": "text",
         "line": {
          "color": "rgba(128, 128, 128, 0.1)",
          "width": 1
         },
         "mode": "lines",
         "text": "1.0",
         "type": "scatter",
         "x": [
          -0.0949504079612341,
          0.08165673758741265
         ],
         "y": [
          -0.19337885839804358,
          -0.16334315634167867
         ]
        },
        {
         "hoverinfo": "text",
         "line": {
          "color": "rgba(128, 128, 128, 0.1)",
          "width": 1
         },
         "mode": "lines",
         "text": "0.5",
         "type": "scatter",
         "x": [
          -0.0949504079612341,
          0.11815707188034474
         ],
         "y": [
          -0.19337885839804358,
          -0.07442264680581974
         ]
        },
        {
         "hoverinfo": "text",
         "line": {
          "color": "rgba(128, 128, 128, 0.1)",
          "width": 1
         },
         "mode": "lines",
         "text": "1.0",
         "type": "scatter",
         "x": [
          -0.0949504079612341,
          -0.03383436954673177
         ],
         "y": [
          -0.19337885839804358,
          0.163279787590839
         ]
        },
        {
         "hoverinfo": "text",
         "line": {
          "color": "rgba(128, 128, 128, 0.1)",
          "width": 1
         },
         "mode": "lines",
         "text": "1.0",
         "type": "scatter",
         "x": [
          -0.0949504079612341,
          -0.1259222814179488
         ],
         "y": [
          -0.19337885839804358,
          0.10384437114009124
         ]
        },
        {
         "hoverinfo": "text",
         "line": {
          "color": "rgba(128, 128, 128, 0.1)",
          "width": 1
         },
         "mode": "lines",
         "text": "0.1111111111111111",
         "type": "scatter",
         "x": [
          -0.0949504079612341,
          0.19326865043805733
         ],
         "y": [
          -0.19337885839804358,
          0.029314955041528992
         ]
        },
        {
         "hoverinfo": "text",
         "line": {
          "color": "rgba(128, 128, 128, 0.1)",
          "width": 1
         },
         "mode": "lines",
         "text": "1.0",
         "type": "scatter",
         "x": [
          -0.0949504079612341,
          -0.016023919840118115
         ],
         "y": [
          -0.19337885839804358,
          0.06551360928329812
         ]
        },
        {
         "hoverinfo": "text",
         "line": {
          "color": "rgba(128, 128, 128, 0.1)",
          "width": 1
         },
         "mode": "lines",
         "text": "1.0",
         "type": "scatter",
         "x": [
          -0.0949504079612341,
          0.1033115932177682
         ],
         "y": [
          -0.19337885839804358,
          0.07607086985225013
         ]
        },
        {
         "hoverinfo": "text",
         "line": {
          "color": "rgba(128, 128, 128, 0.1)",
          "width": 1
         },
         "mode": "lines",
         "text": "1.0",
         "type": "scatter",
         "x": [
          -0.0949504079612341,
          -0.07624885500352627
         ],
         "y": [
          -0.19337885839804358,
          0.15917288408740757
         ]
        },
        {
         "hoverinfo": "text",
         "line": {
          "color": "rgba(128, 128, 128, 0.1)",
          "width": 1
         },
         "mode": "lines",
         "text": "0.1111111111111111",
         "type": "scatter",
         "x": [
          0.20147609498213323,
          -0.09323660092102859
         ],
         "y": [
          -0.048153245566312,
          -0.07360207809045516
         ]
        },
        {
         "hoverinfo": "text",
         "line": {
          "color": "rgba(128, 128, 128, 0.1)",
          "width": 1
         },
         "mode": "lines",
         "text": "1.0",
         "type": "scatter",
         "x": [
          0.20147609498213323,
          -0.07163226007633516
         ],
         "y": [
          -0.048153245566312,
          0.06034094509750427
         ]
        },
        {
         "hoverinfo": "text",
         "line": {
          "color": "rgba(128, 128, 128, 0.1)",
          "width": 1
         },
         "mode": "lines",
         "text": "0.1111111111111111",
         "type": "scatter",
         "x": [
          0.20147609498213323,
          0.08727096597073872
         ],
         "y": [
          -0.048153245566312,
          -0.020547012131089108
         ]
        },
        {
         "hoverinfo": "text",
         "line": {
          "color": "rgba(128, 128, 128, 0.1)",
          "width": 1
         },
         "mode": "lines",
         "text": "0.1111111111111111",
         "type": "scatter",
         "x": [
          0.20147609498213323,
          0.1685312976731628
         ],
         "y": [
          -0.048153245566312,
          -0.117055298414665
         ]
        },
        {
         "hoverinfo": "text",
         "line": {
          "color": "rgba(128, 128, 128, 0.1)",
          "width": 1
         },
         "mode": "lines",
         "text": "0.1111111111111111",
         "type": "scatter",
         "x": [
          0.20147609498213323,
          -0.02390725817653629
         ],
         "y": [
          -0.048153245566312,
          -0.03215261167696534
         ]
        },
        {
         "hoverinfo": "text",
         "line": {
          "color": "rgba(128, 128, 128, 0.1)",
          "width": 1
         },
         "mode": "lines",
         "text": "0.09090909090909091",
         "type": "scatter",
         "x": [
          0.20147609498213323,
          -0.16344201769829808
         ],
         "y": [
          -0.048153245566312,
          0.0429638835733472
         ]
        },
        {
         "hoverinfo": "text",
         "line": {
          "color": "rgba(128, 128, 128, 0.1)",
          "width": 1
         },
         "mode": "lines",
         "text": "0.1111111111111111",
         "type": "scatter",
         "x": [
          0.20147609498213323,
          0.166123141387588
         ],
         "y": [
          -0.048153245566312,
          0.06166865831771715
         ]
        },
        {
         "hoverinfo": "text",
         "line": {
          "color": "rgba(128, 128, 128, 0.1)",
          "width": 1
         },
         "mode": "lines",
         "text": "0.1111111111111111",
         "type": "scatter",
         "x": [
          0.20147609498213323,
          -0.019578528041053832
         ],
         "y": [
          -0.048153245566312,
          -0.1014197181777017
         ]
        },
        {
         "hoverinfo": "text",
         "line": {
          "color": "rgba(128, 128, 128, 0.1)",
          "width": 1
         },
         "mode": "lines",
         "text": "0.1111111111111111",
         "type": "scatter",
         "x": [
          0.20147609498213323,
          -0.032465231272888105
         ],
         "y": [
          -0.048153245566312,
          -0.2182550854092832
         ]
        },
        {
         "hoverinfo": "text",
         "line": {
          "color": "rgba(128, 128, 128, 0.1)",
          "width": 1
         },
         "mode": "lines",
         "text": "0.1111111111111111",
         "type": "scatter",
         "x": [
          0.20147609498213323,
          0.04648405342682209
         ],
         "y": [
          -0.048153245566312,
          -0.10445288949657033
         ]
        },
        {
         "hoverinfo": "text",
         "line": {
          "color": "rgba(128, 128, 128, 0.1)",
          "width": 1
         },
         "mode": "lines",
         "text": "0.1111111111111111",
         "type": "scatter",
         "x": [
          0.20147609498213323,
          0.14845479866159975
         ],
         "y": [
          -0.048153245566312,
          -0.042722723058193156
         ]
        },
        {
         "hoverinfo": "text",
         "line": {
          "color": "rgba(128, 128, 128, 0.1)",
          "width": 1
         },
         "mode": "lines",
         "text": "1.0",
         "type": "scatter",
         "x": [
          0.20147609498213323,
          0.10002362627778762
         ],
         "y": [
          -0.048153245566312,
          0.10501116025785338
         ]
        },
        {
         "hoverinfo": "text",
         "line": {
          "color": "rgba(128, 128, 128, 0.1)",
          "width": 1
         },
         "mode": "lines",
         "text": "0.1111111111111111",
         "type": "scatter",
         "x": [
          0.20147609498213323,
          -0.16620124598482677
         ],
         "y": [
          -0.048153245566312,
          -0.01909129302872234
         ]
        },
        {
         "hoverinfo": "text",
         "line": {
          "color": "rgba(128, 128, 128, 0.1)",
          "width": 1
         },
         "mode": "lines",
         "text": "0.05",
         "type": "scatter",
         "x": [
          0.20147609498213323,
          0.10254243804351508
         ],
         "y": [
          -0.048153245566312,
          -0.2532800348604361
         ]
        },
        {
         "hoverinfo": "text",
         "line": {
          "color": "rgba(128, 128, 128, 0.1)",
          "width": 1
         },
         "mode": "lines",
         "text": "0.1",
         "type": "scatter",
         "x": [
          0.20147609498213323,
          0.005294593386108596
         ],
         "y": [
          -0.048153245566312,
          0.13730846316385836
         ]
        },
        {
         "hoverinfo": "text",
         "line": {
          "color": "rgba(128, 128, 128, 0.1)",
          "width": 1
         },
         "mode": "lines",
         "text": "0.25",
         "type": "scatter",
         "x": [
          0.20147609498213323,
          0.07162601478889682
         ],
         "y": [
          -0.048153245566312,
          0.22727757704262716
         ]
        },
        {
         "hoverinfo": "text",
         "line": {
          "color": "rgba(128, 128, 128, 0.1)",
          "width": 1
         },
         "mode": "lines",
         "text": "0.1111111111111111",
         "type": "scatter",
         "x": [
          0.20147609498213323,
          -0.12776709487089863
         ],
         "y": [
          -0.048153245566312,
          -0.13201843882764794
         ]
        },
        {
         "hoverinfo": "text",
         "line": {
          "color": "rgba(128, 128, 128, 0.1)",
          "width": 1
         },
         "mode": "lines",
         "text": "0.1111111111111111",
         "type": "scatter",
         "x": [
          0.20147609498213323,
          0.12457960723897601
         ],
         "y": [
          -0.048153245566312,
          -0.11512220422049145
         ]
        },
        {
         "hoverinfo": "text",
         "line": {
          "color": "rgba(128, 128, 128, 0.1)",
          "width": 1
         },
         "mode": "lines",
         "text": "0.1111111111111111",
         "type": "scatter",
         "x": [
          0.20147609498213323,
          0.038865278775735576
         ],
         "y": [
          -0.048153245566312,
          -0.20376826594898925
         ]
        },
        {
         "hoverinfo": "text",
         "line": {
          "color": "rgba(128, 128, 128, 0.1)",
          "width": 1
         },
         "mode": "lines",
         "text": "0.1111111111111111",
         "type": "scatter",
         "x": [
          0.20147609498213323,
          0.08165673758741265
         ],
         "y": [
          -0.048153245566312,
          -0.16334315634167867
         ]
        },
        {
         "hoverinfo": "text",
         "line": {
          "color": "rgba(128, 128, 128, 0.1)",
          "width": 1
         },
         "mode": "lines",
         "text": "0.1",
         "type": "scatter",
         "x": [
          0.20147609498213323,
          0.11815707188034474
         ],
         "y": [
          -0.048153245566312,
          -0.07442264680581974
         ]
        },
        {
         "hoverinfo": "text",
         "line": {
          "color": "rgba(128, 128, 128, 0.1)",
          "width": 1
         },
         "mode": "lines",
         "text": "1.0",
         "type": "scatter",
         "x": [
          0.20147609498213323,
          -0.03383436954673177
         ],
         "y": [
          -0.048153245566312,
          0.163279787590839
         ]
        },
        {
         "hoverinfo": "text",
         "line": {
          "color": "rgba(128, 128, 128, 0.1)",
          "width": 1
         },
         "mode": "lines",
         "text": "0.1111111111111111",
         "type": "scatter",
         "x": [
          0.20147609498213323,
          -0.1259222814179488
         ],
         "y": [
          -0.048153245566312,
          0.10384437114009124
         ]
        },
        {
         "hoverinfo": "text",
         "line": {
          "color": "rgba(128, 128, 128, 0.1)",
          "width": 1
         },
         "mode": "lines",
         "text": "0.3333333333333333",
         "type": "scatter",
         "x": [
          0.20147609498213323,
          0.19326865043805733
         ],
         "y": [
          -0.048153245566312,
          0.029314955041528992
         ]
        },
        {
         "hoverinfo": "text",
         "line": {
          "color": "rgba(128, 128, 128, 0.1)",
          "width": 1
         },
         "mode": "lines",
         "text": "0.1111111111111111",
         "type": "scatter",
         "x": [
          0.20147609498213323,
          -0.016023919840118115
         ],
         "y": [
          -0.048153245566312,
          0.06551360928329812
         ]
        },
        {
         "hoverinfo": "text",
         "line": {
          "color": "rgba(128, 128, 128, 0.1)",
          "width": 1
         },
         "mode": "lines",
         "text": "0.1111111111111111",
         "type": "scatter",
         "x": [
          0.20147609498213323,
          0.1033115932177682
         ],
         "y": [
          -0.048153245566312,
          0.07607086985225013
         ]
        },
        {
         "hoverinfo": "text",
         "line": {
          "color": "rgba(128, 128, 128, 0.1)",
          "width": 1
         },
         "mode": "lines",
         "text": "1.0",
         "type": "scatter",
         "x": [
          0.20147609498213323,
          -0.07624885500352627
         ],
         "y": [
          -0.048153245566312,
          0.15917288408740757
         ]
        },
        {
         "hoverinfo": "text",
         "line": {
          "color": "rgba(128, 128, 128, 0.1)",
          "width": 1
         },
         "mode": "lines",
         "text": "1.0",
         "type": "scatter",
         "x": [
          -0.09323660092102859,
          -0.07163226007633516
         ],
         "y": [
          -0.07360207809045516,
          0.06034094509750427
         ]
        },
        {
         "hoverinfo": "text",
         "line": {
          "color": "rgba(128, 128, 128, 0.1)",
          "width": 1
         },
         "mode": "lines",
         "text": "0.14285714285714285",
         "type": "scatter",
         "x": [
          -0.09323660092102859,
          0.08727096597073872
         ],
         "y": [
          -0.07360207809045516,
          -0.020547012131089108
         ]
        },
        {
         "hoverinfo": "text",
         "line": {
          "color": "rgba(128, 128, 128, 0.1)",
          "width": 1
         },
         "mode": "lines",
         "text": "1.0",
         "type": "scatter",
         "x": [
          -0.09323660092102859,
          0.1685312976731628
         ],
         "y": [
          -0.07360207809045516,
          -0.117055298414665
         ]
        },
        {
         "hoverinfo": "text",
         "line": {
          "color": "rgba(128, 128, 128, 0.1)",
          "width": 1
         },
         "mode": "lines",
         "text": "1.0",
         "type": "scatter",
         "x": [
          -0.09323660092102859,
          -0.02390725817653629
         ],
         "y": [
          -0.07360207809045516,
          -0.03215261167696534
         ]
        },
        {
         "hoverinfo": "text",
         "line": {
          "color": "rgba(128, 128, 128, 0.1)",
          "width": 1
         },
         "mode": "lines",
         "text": "0.3333333333333333",
         "type": "scatter",
         "x": [
          -0.09323660092102859,
          -0.16344201769829808
         ],
         "y": [
          -0.07360207809045516,
          0.0429638835733472
         ]
        },
        {
         "hoverinfo": "text",
         "line": {
          "color": "rgba(128, 128, 128, 0.1)",
          "width": 1
         },
         "mode": "lines",
         "text": "1.0",
         "type": "scatter",
         "x": [
          -0.09323660092102859,
          0.166123141387588
         ],
         "y": [
          -0.07360207809045516,
          0.06166865831771715
         ]
        },
        {
         "hoverinfo": "text",
         "line": {
          "color": "rgba(128, 128, 128, 0.1)",
          "width": 1
         },
         "mode": "lines",
         "text": "1.0",
         "type": "scatter",
         "x": [
          -0.09323660092102859,
          -0.019578528041053832
         ],
         "y": [
          -0.07360207809045516,
          -0.1014197181777017
         ]
        },
        {
         "hoverinfo": "text",
         "line": {
          "color": "rgba(128, 128, 128, 0.1)",
          "width": 1
         },
         "mode": "lines",
         "text": "1.0",
         "type": "scatter",
         "x": [
          -0.09323660092102859,
          -0.032465231272888105
         ],
         "y": [
          -0.07360207809045516,
          -0.2182550854092832
         ]
        },
        {
         "hoverinfo": "text",
         "line": {
          "color": "rgba(128, 128, 128, 0.1)",
          "width": 1
         },
         "mode": "lines",
         "text": "1.0",
         "type": "scatter",
         "x": [
          -0.09323660092102859,
          0.04648405342682209
         ],
         "y": [
          -0.07360207809045516,
          -0.10445288949657033
         ]
        },
        {
         "hoverinfo": "text",
         "line": {
          "color": "rgba(128, 128, 128, 0.1)",
          "width": 1
         },
         "mode": "lines",
         "text": "0.14285714285714285",
         "type": "scatter",
         "x": [
          -0.09323660092102859,
          0.035485360010484135
         ],
         "y": [
          -0.07360207809045516,
          -0.15179063124126993
         ]
        },
        {
         "hoverinfo": "text",
         "line": {
          "color": "rgba(128, 128, 128, 0.1)",
          "width": 1
         },
         "mode": "lines",
         "text": "1.0",
         "type": "scatter",
         "x": [
          -0.09323660092102859,
          0.14845479866159975
         ],
         "y": [
          -0.07360207809045516,
          -0.042722723058193156
         ]
        },
        {
         "hoverinfo": "text",
         "line": {
          "color": "rgba(128, 128, 128, 0.1)",
          "width": 1
         },
         "mode": "lines",
         "text": "1.0",
         "type": "scatter",
         "x": [
          -0.09323660092102859,
          0.10002362627778762
         ],
         "y": [
          -0.07360207809045516,
          0.10501116025785338
         ]
        },
        {
         "hoverinfo": "text",
         "line": {
          "color": "rgba(128, 128, 128, 0.1)",
          "width": 1
         },
         "mode": "lines",
         "text": "1.0",
         "type": "scatter",
         "x": [
          -0.09323660092102859,
          -0.16620124598482677
         ],
         "y": [
          -0.07360207809045516,
          -0.01909129302872234
         ]
        },
        {
         "hoverinfo": "text",
         "line": {
          "color": "rgba(128, 128, 128, 0.1)",
          "width": 1
         },
         "mode": "lines",
         "text": "0.08333333333333333",
         "type": "scatter",
         "x": [
          -0.09323660092102859,
          0.10254243804351508
         ],
         "y": [
          -0.07360207809045516,
          -0.2532800348604361
         ]
        },
        {
         "hoverinfo": "text",
         "line": {
          "color": "rgba(128, 128, 128, 0.1)",
          "width": 1
         },
         "mode": "lines",
         "text": "0.16666666666666666",
         "type": "scatter",
         "x": [
          -0.09323660092102859,
          0.005294593386108596
         ],
         "y": [
          -0.07360207809045516,
          0.13730846316385836
         ]
        },
        {
         "hoverinfo": "text",
         "line": {
          "color": "rgba(128, 128, 128, 0.1)",
          "width": 1
         },
         "mode": "lines",
         "text": "0.125",
         "type": "scatter",
         "x": [
          -0.09323660092102859,
          0.07162601478889682
         ],
         "y": [
          -0.07360207809045516,
          0.22727757704262716
         ]
        },
        {
         "hoverinfo": "text",
         "line": {
          "color": "rgba(128, 128, 128, 0.1)",
          "width": 1
         },
         "mode": "lines",
         "text": "1.0",
         "type": "scatter",
         "x": [
          -0.09323660092102859,
          -0.12776709487089863
         ],
         "y": [
          -0.07360207809045516,
          -0.13201843882764794
         ]
        },
        {
         "hoverinfo": "text",
         "line": {
          "color": "rgba(128, 128, 128, 0.1)",
          "width": 1
         },
         "mode": "lines",
         "text": "1.0",
         "type": "scatter",
         "x": [
          -0.09323660092102859,
          0.12457960723897601
         ],
         "y": [
          -0.07360207809045516,
          -0.11512220422049145
         ]
        },
        {
         "hoverinfo": "text",
         "line": {
          "color": "rgba(128, 128, 128, 0.1)",
          "width": 1
         },
         "mode": "lines",
         "text": "1.0",
         "type": "scatter",
         "x": [
          -0.09323660092102859,
          0.038865278775735576
         ],
         "y": [
          -0.07360207809045516,
          -0.20376826594898925
         ]
        },
        {
         "hoverinfo": "text",
         "line": {
          "color": "rgba(128, 128, 128, 0.1)",
          "width": 1
         },
         "mode": "lines",
         "text": "1.0",
         "type": "scatter",
         "x": [
          -0.09323660092102859,
          0.08165673758741265
         ],
         "y": [
          -0.07360207809045516,
          -0.16334315634167867
         ]
        },
        {
         "hoverinfo": "text",
         "line": {
          "color": "rgba(128, 128, 128, 0.1)",
          "width": 1
         },
         "mode": "lines",
         "text": "0.5",
         "type": "scatter",
         "x": [
          -0.09323660092102859,
          0.11815707188034474
         ],
         "y": [
          -0.07360207809045516,
          -0.07442264680581974
         ]
        },
        {
         "hoverinfo": "text",
         "line": {
          "color": "rgba(128, 128, 128, 0.1)",
          "width": 1
         },
         "mode": "lines",
         "text": "1.0",
         "type": "scatter",
         "x": [
          -0.09323660092102859,
          -0.03383436954673177
         ],
         "y": [
          -0.07360207809045516,
          0.163279787590839
         ]
        },
        {
         "hoverinfo": "text",
         "line": {
          "color": "rgba(128, 128, 128, 0.1)",
          "width": 1
         },
         "mode": "lines",
         "text": "1.0",
         "type": "scatter",
         "x": [
          -0.09323660092102859,
          -0.1259222814179488
         ],
         "y": [
          -0.07360207809045516,
          0.10384437114009124
         ]
        },
        {
         "hoverinfo": "text",
         "line": {
          "color": "rgba(128, 128, 128, 0.1)",
          "width": 1
         },
         "mode": "lines",
         "text": "1.0",
         "type": "scatter",
         "x": [
          -0.09323660092102859,
          0.19326865043805733
         ],
         "y": [
          -0.07360207809045516,
          0.029314955041528992
         ]
        },
        {
         "hoverinfo": "text",
         "line": {
          "color": "rgba(128, 128, 128, 0.1)",
          "width": 1
         },
         "mode": "lines",
         "text": "1.0",
         "type": "scatter",
         "x": [
          -0.09323660092102859,
          -0.016023919840118115
         ],
         "y": [
          -0.07360207809045516,
          0.06551360928329812
         ]
        },
        {
         "hoverinfo": "text",
         "line": {
          "color": "rgba(128, 128, 128, 0.1)",
          "width": 1
         },
         "mode": "lines",
         "text": "1.0",
         "type": "scatter",
         "x": [
          -0.09323660092102859,
          0.1033115932177682
         ],
         "y": [
          -0.07360207809045516,
          0.07607086985225013
         ]
        },
        {
         "hoverinfo": "text",
         "line": {
          "color": "rgba(128, 128, 128, 0.1)",
          "width": 1
         },
         "mode": "lines",
         "text": "1.0",
         "type": "scatter",
         "x": [
          -0.09323660092102859,
          -0.07624885500352627
         ],
         "y": [
          -0.07360207809045516,
          0.15917288408740757
         ]
        },
        {
         "hoverinfo": "text",
         "line": {
          "color": "rgba(128, 128, 128, 0.1)",
          "width": 1
         },
         "mode": "lines",
         "text": "1.0",
         "type": "scatter",
         "x": [
          -0.07163226007633516,
          0.08727096597073872
         ],
         "y": [
          0.06034094509750427,
          -0.020547012131089108
         ]
        },
        {
         "hoverinfo": "text",
         "line": {
          "color": "rgba(128, 128, 128, 0.1)",
          "width": 1
         },
         "mode": "lines",
         "text": "1.0",
         "type": "scatter",
         "x": [
          -0.07163226007633516,
          0.1685312976731628
         ],
         "y": [
          0.06034094509750427,
          -0.117055298414665
         ]
        },
        {
         "hoverinfo": "text",
         "line": {
          "color": "rgba(128, 128, 128, 0.1)",
          "width": 1
         },
         "mode": "lines",
         "text": "1.0",
         "type": "scatter",
         "x": [
          -0.07163226007633516,
          -0.02390725817653629
         ],
         "y": [
          0.06034094509750427,
          -0.03215261167696534
         ]
        },
        {
         "hoverinfo": "text",
         "line": {
          "color": "rgba(128, 128, 128, 0.1)",
          "width": 1
         },
         "mode": "lines",
         "text": "1.0",
         "type": "scatter",
         "x": [
          -0.07163226007633516,
          -0.16344201769829808
         ],
         "y": [
          0.06034094509750427,
          0.0429638835733472
         ]
        },
        {
         "hoverinfo": "text",
         "line": {
          "color": "rgba(128, 128, 128, 0.1)",
          "width": 1
         },
         "mode": "lines",
         "text": "0.1111111111111111",
         "type": "scatter",
         "x": [
          -0.07163226007633516,
          0.166123141387588
         ],
         "y": [
          0.06034094509750427,
          0.06166865831771715
         ]
        },
        {
         "hoverinfo": "text",
         "line": {
          "color": "rgba(128, 128, 128, 0.1)",
          "width": 1
         },
         "mode": "lines",
         "text": "1.0",
         "type": "scatter",
         "x": [
          -0.07163226007633516,
          -0.019578528041053832
         ],
         "y": [
          0.06034094509750427,
          -0.1014197181777017
         ]
        },
        {
         "hoverinfo": "text",
         "line": {
          "color": "rgba(128, 128, 128, 0.1)",
          "width": 1
         },
         "mode": "lines",
         "text": "1.0",
         "type": "scatter",
         "x": [
          -0.07163226007633516,
          -0.032465231272888105
         ],
         "y": [
          0.06034094509750427,
          -0.2182550854092832
         ]
        },
        {
         "hoverinfo": "text",
         "line": {
          "color": "rgba(128, 128, 128, 0.1)",
          "width": 1
         },
         "mode": "lines",
         "text": "1.0",
         "type": "scatter",
         "x": [
          -0.07163226007633516,
          0.04648405342682209
         ],
         "y": [
          0.06034094509750427,
          -0.10445288949657033
         ]
        },
        {
         "hoverinfo": "text",
         "line": {
          "color": "rgba(128, 128, 128, 0.1)",
          "width": 1
         },
         "mode": "lines",
         "text": "0.09090909090909091",
         "type": "scatter",
         "x": [
          -0.07163226007633516,
          0.035485360010484135
         ],
         "y": [
          0.06034094509750427,
          -0.15179063124126993
         ]
        },
        {
         "hoverinfo": "text",
         "line": {
          "color": "rgba(128, 128, 128, 0.1)",
          "width": 1
         },
         "mode": "lines",
         "text": "1.0",
         "type": "scatter",
         "x": [
          -0.07163226007633516,
          0.14845479866159975
         ],
         "y": [
          0.06034094509750427,
          -0.042722723058193156
         ]
        },
        {
         "hoverinfo": "text",
         "line": {
          "color": "rgba(128, 128, 128, 0.1)",
          "width": 1
         },
         "mode": "lines",
         "text": "1.0",
         "type": "scatter",
         "x": [
          -0.07163226007633516,
          0.10002362627778762
         ],
         "y": [
          0.06034094509750427,
          0.10501116025785338
         ]
        },
        {
         "hoverinfo": "text",
         "line": {
          "color": "rgba(128, 128, 128, 0.1)",
          "width": 1
         },
         "mode": "lines",
         "text": "1.0",
         "type": "scatter",
         "x": [
          -0.07163226007633516,
          -0.16620124598482677
         ],
         "y": [
          0.06034094509750427,
          -0.01909129302872234
         ]
        },
        {
         "hoverinfo": "text",
         "line": {
          "color": "rgba(128, 128, 128, 0.1)",
          "width": 1
         },
         "mode": "lines",
         "text": "0.05555555555555555",
         "type": "scatter",
         "x": [
          -0.07163226007633516,
          0.10254243804351508
         ],
         "y": [
          0.06034094509750427,
          -0.2532800348604361
         ]
        },
        {
         "hoverinfo": "text",
         "line": {
          "color": "rgba(128, 128, 128, 0.1)",
          "width": 1
         },
         "mode": "lines",
         "text": "0.5",
         "type": "scatter",
         "x": [
          -0.07163226007633516,
          0.005294593386108596
         ],
         "y": [
          0.06034094509750427,
          0.13730846316385836
         ]
        },
        {
         "hoverinfo": "text",
         "line": {
          "color": "rgba(128, 128, 128, 0.1)",
          "width": 1
         },
         "mode": "lines",
         "text": "0.25",
         "type": "scatter",
         "x": [
          -0.07163226007633516,
          0.07162601478889682
         ],
         "y": [
          0.06034094509750427,
          0.22727757704262716
         ]
        },
        {
         "hoverinfo": "text",
         "line": {
          "color": "rgba(128, 128, 128, 0.1)",
          "width": 1
         },
         "mode": "lines",
         "text": "1.0",
         "type": "scatter",
         "x": [
          -0.07163226007633516,
          -0.12776709487089863
         ],
         "y": [
          0.06034094509750427,
          -0.13201843882764794
         ]
        },
        {
         "hoverinfo": "text",
         "line": {
          "color": "rgba(128, 128, 128, 0.1)",
          "width": 1
         },
         "mode": "lines",
         "text": "1.0",
         "type": "scatter",
         "x": [
          -0.07163226007633516,
          0.12457960723897601
         ],
         "y": [
          0.06034094509750427,
          -0.11512220422049145
         ]
        },
        {
         "hoverinfo": "text",
         "line": {
          "color": "rgba(128, 128, 128, 0.1)",
          "width": 1
         },
         "mode": "lines",
         "text": "1.0",
         "type": "scatter",
         "x": [
          -0.07163226007633516,
          0.038865278775735576
         ],
         "y": [
          0.06034094509750427,
          -0.20376826594898925
         ]
        },
        {
         "hoverinfo": "text",
         "line": {
          "color": "rgba(128, 128, 128, 0.1)",
          "width": 1
         },
         "mode": "lines",
         "text": "1.0",
         "type": "scatter",
         "x": [
          -0.07163226007633516,
          0.08165673758741265
         ],
         "y": [
          0.06034094509750427,
          -0.16334315634167867
         ]
        },
        {
         "hoverinfo": "text",
         "line": {
          "color": "rgba(128, 128, 128, 0.1)",
          "width": 1
         },
         "mode": "lines",
         "text": "0.5",
         "type": "scatter",
         "x": [
          -0.07163226007633516,
          0.11815707188034474
         ],
         "y": [
          0.06034094509750427,
          -0.07442264680581974
         ]
        },
        {
         "hoverinfo": "text",
         "line": {
          "color": "rgba(128, 128, 128, 0.1)",
          "width": 1
         },
         "mode": "lines",
         "text": "1.0",
         "type": "scatter",
         "x": [
          -0.07163226007633516,
          -0.03383436954673177
         ],
         "y": [
          0.06034094509750427,
          0.163279787590839
         ]
        },
        {
         "hoverinfo": "text",
         "line": {
          "color": "rgba(128, 128, 128, 0.1)",
          "width": 1
         },
         "mode": "lines",
         "text": "1.0",
         "type": "scatter",
         "x": [
          -0.07163226007633516,
          -0.1259222814179488
         ],
         "y": [
          0.06034094509750427,
          0.10384437114009124
         ]
        },
        {
         "hoverinfo": "text",
         "line": {
          "color": "rgba(128, 128, 128, 0.1)",
          "width": 1
         },
         "mode": "lines",
         "text": "0.14285714285714285",
         "type": "scatter",
         "x": [
          -0.07163226007633516,
          0.19326865043805733
         ],
         "y": [
          0.06034094509750427,
          0.029314955041528992
         ]
        },
        {
         "hoverinfo": "text",
         "line": {
          "color": "rgba(128, 128, 128, 0.1)",
          "width": 1
         },
         "mode": "lines",
         "text": "0.14285714285714285",
         "type": "scatter",
         "x": [
          -0.07163226007633516,
          -0.016023919840118115
         ],
         "y": [
          0.06034094509750427,
          0.06551360928329812
         ]
        },
        {
         "hoverinfo": "text",
         "line": {
          "color": "rgba(128, 128, 128, 0.1)",
          "width": 1
         },
         "mode": "lines",
         "text": "1.0",
         "type": "scatter",
         "x": [
          -0.07163226007633516,
          0.1033115932177682
         ],
         "y": [
          0.06034094509750427,
          0.07607086985225013
         ]
        },
        {
         "hoverinfo": "text",
         "line": {
          "color": "rgba(128, 128, 128, 0.1)",
          "width": 1
         },
         "mode": "lines",
         "text": "1.0",
         "type": "scatter",
         "x": [
          -0.07163226007633516,
          -0.07624885500352627
         ],
         "y": [
          0.06034094509750427,
          0.15917288408740757
         ]
        },
        {
         "hoverinfo": "text",
         "line": {
          "color": "rgba(128, 128, 128, 0.1)",
          "width": 1
         },
         "mode": "lines",
         "text": "1.0",
         "type": "scatter",
         "x": [
          0.08727096597073872,
          0.1685312976731628
         ],
         "y": [
          -0.020547012131089108,
          -0.117055298414665
         ]
        },
        {
         "hoverinfo": "text",
         "line": {
          "color": "rgba(128, 128, 128, 0.1)",
          "width": 1
         },
         "mode": "lines",
         "text": "1.0",
         "type": "scatter",
         "x": [
          0.08727096597073872,
          -0.02390725817653629
         ],
         "y": [
          -0.020547012131089108,
          -0.03215261167696534
         ]
        },
        {
         "hoverinfo": "text",
         "line": {
          "color": "rgba(128, 128, 128, 0.1)",
          "width": 1
         },
         "mode": "lines",
         "text": "1.0",
         "type": "scatter",
         "x": [
          0.08727096597073872,
          -0.16344201769829808
         ],
         "y": [
          -0.020547012131089108,
          0.0429638835733472
         ]
        },
        {
         "hoverinfo": "text",
         "line": {
          "color": "rgba(128, 128, 128, 0.1)",
          "width": 1
         },
         "mode": "lines",
         "text": "0.1111111111111111",
         "type": "scatter",
         "x": [
          0.08727096597073872,
          0.166123141387588
         ],
         "y": [
          -0.020547012131089108,
          0.06166865831771715
         ]
        },
        {
         "hoverinfo": "text",
         "line": {
          "color": "rgba(128, 128, 128, 0.1)",
          "width": 1
         },
         "mode": "lines",
         "text": "1.0",
         "type": "scatter",
         "x": [
          0.08727096597073872,
          -0.019578528041053832
         ],
         "y": [
          -0.020547012131089108,
          -0.1014197181777017
         ]
        },
        {
         "hoverinfo": "text",
         "line": {
          "color": "rgba(128, 128, 128, 0.1)",
          "width": 1
         },
         "mode": "lines",
         "text": "1.0",
         "type": "scatter",
         "x": [
          0.08727096597073872,
          -0.032465231272888105
         ],
         "y": [
          -0.020547012131089108,
          -0.2182550854092832
         ]
        },
        {
         "hoverinfo": "text",
         "line": {
          "color": "rgba(128, 128, 128, 0.1)",
          "width": 1
         },
         "mode": "lines",
         "text": "1.0",
         "type": "scatter",
         "x": [
          0.08727096597073872,
          0.04648405342682209
         ],
         "y": [
          -0.020547012131089108,
          -0.10445288949657033
         ]
        },
        {
         "hoverinfo": "text",
         "line": {
          "color": "rgba(128, 128, 128, 0.1)",
          "width": 1
         },
         "mode": "lines",
         "text": "1.0",
         "type": "scatter",
         "x": [
          0.08727096597073872,
          0.035485360010484135
         ],
         "y": [
          -0.020547012131089108,
          -0.15179063124126993
         ]
        },
        {
         "hoverinfo": "text",
         "line": {
          "color": "rgba(128, 128, 128, 0.1)",
          "width": 1
         },
         "mode": "lines",
         "text": "1.0",
         "type": "scatter",
         "x": [
          0.08727096597073872,
          0.14845479866159975
         ],
         "y": [
          -0.020547012131089108,
          -0.042722723058193156
         ]
        },
        {
         "hoverinfo": "text",
         "line": {
          "color": "rgba(128, 128, 128, 0.1)",
          "width": 1
         },
         "mode": "lines",
         "text": "1.0",
         "type": "scatter",
         "x": [
          0.08727096597073872,
          0.10002362627778762
         ],
         "y": [
          -0.020547012131089108,
          0.10501116025785338
         ]
        },
        {
         "hoverinfo": "text",
         "line": {
          "color": "rgba(128, 128, 128, 0.1)",
          "width": 1
         },
         "mode": "lines",
         "text": "1.0",
         "type": "scatter",
         "x": [
          0.08727096597073872,
          -0.16620124598482677
         ],
         "y": [
          -0.020547012131089108,
          -0.01909129302872234
         ]
        },
        {
         "hoverinfo": "text",
         "line": {
          "color": "rgba(128, 128, 128, 0.1)",
          "width": 1
         },
         "mode": "lines",
         "text": "0.07142857142857142",
         "type": "scatter",
         "x": [
          0.08727096597073872,
          0.10254243804351508
         ],
         "y": [
          -0.020547012131089108,
          -0.2532800348604361
         ]
        },
        {
         "hoverinfo": "text",
         "line": {
          "color": "rgba(128, 128, 128, 0.1)",
          "width": 1
         },
         "mode": "lines",
         "text": "0.5",
         "type": "scatter",
         "x": [
          0.08727096597073872,
          0.005294593386108596
         ],
         "y": [
          -0.020547012131089108,
          0.13730846316385836
         ]
        },
        {
         "hoverinfo": "text",
         "line": {
          "color": "rgba(128, 128, 128, 0.1)",
          "width": 1
         },
         "mode": "lines",
         "text": "0.125",
         "type": "scatter",
         "x": [
          0.08727096597073872,
          0.07162601478889682
         ],
         "y": [
          -0.020547012131089108,
          0.22727757704262716
         ]
        },
        {
         "hoverinfo": "text",
         "line": {
          "color": "rgba(128, 128, 128, 0.1)",
          "width": 1
         },
         "mode": "lines",
         "text": "1.0",
         "type": "scatter",
         "x": [
          0.08727096597073872,
          -0.12776709487089863
         ],
         "y": [
          -0.020547012131089108,
          -0.13201843882764794
         ]
        },
        {
         "hoverinfo": "text",
         "line": {
          "color": "rgba(128, 128, 128, 0.1)",
          "width": 1
         },
         "mode": "lines",
         "text": "1.0",
         "type": "scatter",
         "x": [
          0.08727096597073872,
          0.12457960723897601
         ],
         "y": [
          -0.020547012131089108,
          -0.11512220422049145
         ]
        },
        {
         "hoverinfo": "text",
         "line": {
          "color": "rgba(128, 128, 128, 0.1)",
          "width": 1
         },
         "mode": "lines",
         "text": "1.0",
         "type": "scatter",
         "x": [
          0.08727096597073872,
          0.038865278775735576
         ],
         "y": [
          -0.020547012131089108,
          -0.20376826594898925
         ]
        },
        {
         "hoverinfo": "text",
         "line": {
          "color": "rgba(128, 128, 128, 0.1)",
          "width": 1
         },
         "mode": "lines",
         "text": "1.0",
         "type": "scatter",
         "x": [
          0.08727096597073872,
          0.08165673758741265
         ],
         "y": [
          -0.020547012131089108,
          -0.16334315634167867
         ]
        },
        {
         "hoverinfo": "text",
         "line": {
          "color": "rgba(128, 128, 128, 0.1)",
          "width": 1
         },
         "mode": "lines",
         "text": "0.5",
         "type": "scatter",
         "x": [
          0.08727096597073872,
          0.11815707188034474
         ],
         "y": [
          -0.020547012131089108,
          -0.07442264680581974
         ]
        },
        {
         "hoverinfo": "text",
         "line": {
          "color": "rgba(128, 128, 128, 0.1)",
          "width": 1
         },
         "mode": "lines",
         "text": "1.0",
         "type": "scatter",
         "x": [
          0.08727096597073872,
          -0.03383436954673177
         ],
         "y": [
          -0.020547012131089108,
          0.163279787590839
         ]
        },
        {
         "hoverinfo": "text",
         "line": {
          "color": "rgba(128, 128, 128, 0.1)",
          "width": 1
         },
         "mode": "lines",
         "text": "1.0",
         "type": "scatter",
         "x": [
          0.08727096597073872,
          -0.1259222814179488
         ],
         "y": [
          -0.020547012131089108,
          0.10384437114009124
         ]
        },
        {
         "hoverinfo": "text",
         "line": {
          "color": "rgba(128, 128, 128, 0.1)",
          "width": 1
         },
         "mode": "lines",
         "text": "0.1111111111111111",
         "type": "scatter",
         "x": [
          0.08727096597073872,
          0.19326865043805733
         ],
         "y": [
          -0.020547012131089108,
          0.029314955041528992
         ]
        },
        {
         "hoverinfo": "text",
         "line": {
          "color": "rgba(128, 128, 128, 0.1)",
          "width": 1
         },
         "mode": "lines",
         "text": "0.14285714285714285",
         "type": "scatter",
         "x": [
          0.08727096597073872,
          -0.016023919840118115
         ],
         "y": [
          -0.020547012131089108,
          0.06551360928329812
         ]
        },
        {
         "hoverinfo": "text",
         "line": {
          "color": "rgba(128, 128, 128, 0.1)",
          "width": 1
         },
         "mode": "lines",
         "text": "1.0",
         "type": "scatter",
         "x": [
          0.08727096597073872,
          0.1033115932177682
         ],
         "y": [
          -0.020547012131089108,
          0.07607086985225013
         ]
        },
        {
         "hoverinfo": "text",
         "line": {
          "color": "rgba(128, 128, 128, 0.1)",
          "width": 1
         },
         "mode": "lines",
         "text": "1.0",
         "type": "scatter",
         "x": [
          0.08727096597073872,
          -0.07624885500352627
         ],
         "y": [
          -0.020547012131089108,
          0.15917288408740757
         ]
        },
        {
         "hoverinfo": "text",
         "line": {
          "color": "rgba(128, 128, 128, 0.1)",
          "width": 1
         },
         "mode": "lines",
         "text": "1.0",
         "type": "scatter",
         "x": [
          0.1685312976731628,
          -0.02390725817653629
         ],
         "y": [
          -0.117055298414665,
          -0.03215261167696534
         ]
        },
        {
         "hoverinfo": "text",
         "line": {
          "color": "rgba(128, 128, 128, 0.1)",
          "width": 1
         },
         "mode": "lines",
         "text": "0.3333333333333333",
         "type": "scatter",
         "x": [
          0.1685312976731628,
          -0.16344201769829808
         ],
         "y": [
          -0.117055298414665,
          0.0429638835733472
         ]
        },
        {
         "hoverinfo": "text",
         "line": {
          "color": "rgba(128, 128, 128, 0.1)",
          "width": 1
         },
         "mode": "lines",
         "text": "1.0",
         "type": "scatter",
         "x": [
          0.1685312976731628,
          0.166123141387588
         ],
         "y": [
          -0.117055298414665,
          0.06166865831771715
         ]
        },
        {
         "hoverinfo": "text",
         "line": {
          "color": "rgba(128, 128, 128, 0.1)",
          "width": 1
         },
         "mode": "lines",
         "text": "1.0",
         "type": "scatter",
         "x": [
          0.1685312976731628,
          -0.019578528041053832
         ],
         "y": [
          -0.117055298414665,
          -0.1014197181777017
         ]
        },
        {
         "hoverinfo": "text",
         "line": {
          "color": "rgba(128, 128, 128, 0.1)",
          "width": 1
         },
         "mode": "lines",
         "text": "1.0",
         "type": "scatter",
         "x": [
          0.1685312976731628,
          -0.032465231272888105
         ],
         "y": [
          -0.117055298414665,
          -0.2182550854092832
         ]
        },
        {
         "hoverinfo": "text",
         "line": {
          "color": "rgba(128, 128, 128, 0.1)",
          "width": 1
         },
         "mode": "lines",
         "text": "1.0",
         "type": "scatter",
         "x": [
          0.1685312976731628,
          0.04648405342682209
         ],
         "y": [
          -0.117055298414665,
          -0.10445288949657033
         ]
        },
        {
         "hoverinfo": "text",
         "line": {
          "color": "rgba(128, 128, 128, 0.1)",
          "width": 1
         },
         "mode": "lines",
         "text": "1.0",
         "type": "scatter",
         "x": [
          0.1685312976731628,
          0.035485360010484135
         ],
         "y": [
          -0.117055298414665,
          -0.15179063124126993
         ]
        },
        {
         "hoverinfo": "text",
         "line": {
          "color": "rgba(128, 128, 128, 0.1)",
          "width": 1
         },
         "mode": "lines",
         "text": "1.0",
         "type": "scatter",
         "x": [
          0.1685312976731628,
          0.14845479866159975
         ],
         "y": [
          -0.117055298414665,
          -0.042722723058193156
         ]
        },
        {
         "hoverinfo": "text",
         "line": {
          "color": "rgba(128, 128, 128, 0.1)",
          "width": 1
         },
         "mode": "lines",
         "text": "1.0",
         "type": "scatter",
         "x": [
          0.1685312976731628,
          0.10002362627778762
         ],
         "y": [
          -0.117055298414665,
          0.10501116025785338
         ]
        },
        {
         "hoverinfo": "text",
         "line": {
          "color": "rgba(128, 128, 128, 0.1)",
          "width": 1
         },
         "mode": "lines",
         "text": "1.0",
         "type": "scatter",
         "x": [
          0.1685312976731628,
          -0.16620124598482677
         ],
         "y": [
          -0.117055298414665,
          -0.01909129302872234
         ]
        },
        {
         "hoverinfo": "text",
         "line": {
          "color": "rgba(128, 128, 128, 0.1)",
          "width": 1
         },
         "mode": "lines",
         "text": "0.08333333333333333",
         "type": "scatter",
         "x": [
          0.1685312976731628,
          0.10254243804351508
         ],
         "y": [
          -0.117055298414665,
          -0.2532800348604361
         ]
        },
        {
         "hoverinfo": "text",
         "line": {
          "color": "rgba(128, 128, 128, 0.1)",
          "width": 1
         },
         "mode": "lines",
         "text": "0.5",
         "type": "scatter",
         "x": [
          0.1685312976731628,
          0.005294593386108596
         ],
         "y": [
          -0.117055298414665,
          0.13730846316385836
         ]
        },
        {
         "hoverinfo": "text",
         "line": {
          "color": "rgba(128, 128, 128, 0.1)",
          "width": 1
         },
         "mode": "lines",
         "text": "1.0",
         "type": "scatter",
         "x": [
          0.1685312976731628,
          -0.12776709487089863
         ],
         "y": [
          -0.117055298414665,
          -0.13201843882764794
         ]
        },
        {
         "hoverinfo": "text",
         "line": {
          "color": "rgba(128, 128, 128, 0.1)",
          "width": 1
         },
         "mode": "lines",
         "text": "1.0",
         "type": "scatter",
         "x": [
          0.1685312976731628,
          0.12457960723897601
         ],
         "y": [
          -0.117055298414665,
          -0.11512220422049145
         ]
        },
        {
         "hoverinfo": "text",
         "line": {
          "color": "rgba(128, 128, 128, 0.1)",
          "width": 1
         },
         "mode": "lines",
         "text": "1.0",
         "type": "scatter",
         "x": [
          0.1685312976731628,
          0.038865278775735576
         ],
         "y": [
          -0.117055298414665,
          -0.20376826594898925
         ]
        },
        {
         "hoverinfo": "text",
         "line": {
          "color": "rgba(128, 128, 128, 0.1)",
          "width": 1
         },
         "mode": "lines",
         "text": "1.0",
         "type": "scatter",
         "x": [
          0.1685312976731628,
          0.08165673758741265
         ],
         "y": [
          -0.117055298414665,
          -0.16334315634167867
         ]
        },
        {
         "hoverinfo": "text",
         "line": {
          "color": "rgba(128, 128, 128, 0.1)",
          "width": 1
         },
         "mode": "lines",
         "text": "0.5",
         "type": "scatter",
         "x": [
          0.1685312976731628,
          0.11815707188034474
         ],
         "y": [
          -0.117055298414665,
          -0.07442264680581974
         ]
        },
        {
         "hoverinfo": "text",
         "line": {
          "color": "rgba(128, 128, 128, 0.1)",
          "width": 1
         },
         "mode": "lines",
         "text": "1.0",
         "type": "scatter",
         "x": [
          0.1685312976731628,
          -0.03383436954673177
         ],
         "y": [
          -0.117055298414665,
          0.163279787590839
         ]
        },
        {
         "hoverinfo": "text",
         "line": {
          "color": "rgba(128, 128, 128, 0.1)",
          "width": 1
         },
         "mode": "lines",
         "text": "1.0",
         "type": "scatter",
         "x": [
          0.1685312976731628,
          -0.1259222814179488
         ],
         "y": [
          -0.117055298414665,
          0.10384437114009124
         ]
        },
        {
         "hoverinfo": "text",
         "line": {
          "color": "rgba(128, 128, 128, 0.1)",
          "width": 1
         },
         "mode": "lines",
         "text": "1.0",
         "type": "scatter",
         "x": [
          0.1685312976731628,
          0.19326865043805733
         ],
         "y": [
          -0.117055298414665,
          0.029314955041528992
         ]
        },
        {
         "hoverinfo": "text",
         "line": {
          "color": "rgba(128, 128, 128, 0.1)",
          "width": 1
         },
         "mode": "lines",
         "text": "1.0",
         "type": "scatter",
         "x": [
          0.1685312976731628,
          -0.016023919840118115
         ],
         "y": [
          -0.117055298414665,
          0.06551360928329812
         ]
        },
        {
         "hoverinfo": "text",
         "line": {
          "color": "rgba(128, 128, 128, 0.1)",
          "width": 1
         },
         "mode": "lines",
         "text": "1.0",
         "type": "scatter",
         "x": [
          0.1685312976731628,
          0.1033115932177682
         ],
         "y": [
          -0.117055298414665,
          0.07607086985225013
         ]
        },
        {
         "hoverinfo": "text",
         "line": {
          "color": "rgba(128, 128, 128, 0.1)",
          "width": 1
         },
         "mode": "lines",
         "text": "1.0",
         "type": "scatter",
         "x": [
          0.1685312976731628,
          -0.07624885500352627
         ],
         "y": [
          -0.117055298414665,
          0.15917288408740757
         ]
        },
        {
         "hoverinfo": "text",
         "line": {
          "color": "rgba(128, 128, 128, 0.1)",
          "width": 1
         },
         "mode": "lines",
         "text": "0.3333333333333333",
         "type": "scatter",
         "x": [
          -0.02390725817653629,
          -0.16344201769829808
         ],
         "y": [
          -0.03215261167696534,
          0.0429638835733472
         ]
        },
        {
         "hoverinfo": "text",
         "line": {
          "color": "rgba(128, 128, 128, 0.1)",
          "width": 1
         },
         "mode": "lines",
         "text": "1.0",
         "type": "scatter",
         "x": [
          -0.02390725817653629,
          0.166123141387588
         ],
         "y": [
          -0.03215261167696534,
          0.06166865831771715
         ]
        },
        {
         "hoverinfo": "text",
         "line": {
          "color": "rgba(128, 128, 128, 0.1)",
          "width": 1
         },
         "mode": "lines",
         "text": "1.0",
         "type": "scatter",
         "x": [
          -0.02390725817653629,
          -0.019578528041053832
         ],
         "y": [
          -0.03215261167696534,
          -0.1014197181777017
         ]
        },
        {
         "hoverinfo": "text",
         "line": {
          "color": "rgba(128, 128, 128, 0.1)",
          "width": 1
         },
         "mode": "lines",
         "text": "1.0",
         "type": "scatter",
         "x": [
          -0.02390725817653629,
          -0.032465231272888105
         ],
         "y": [
          -0.03215261167696534,
          -0.2182550854092832
         ]
        },
        {
         "hoverinfo": "text",
         "line": {
          "color": "rgba(128, 128, 128, 0.1)",
          "width": 1
         },
         "mode": "lines",
         "text": "1.0",
         "type": "scatter",
         "x": [
          -0.02390725817653629,
          0.04648405342682209
         ],
         "y": [
          -0.03215261167696534,
          -0.10445288949657033
         ]
        },
        {
         "hoverinfo": "text",
         "line": {
          "color": "rgba(128, 128, 128, 0.1)",
          "width": 1
         },
         "mode": "lines",
         "text": "0.14285714285714285",
         "type": "scatter",
         "x": [
          -0.02390725817653629,
          0.035485360010484135
         ],
         "y": [
          -0.03215261167696534,
          -0.15179063124126993
         ]
        },
        {
         "hoverinfo": "text",
         "line": {
          "color": "rgba(128, 128, 128, 0.1)",
          "width": 1
         },
         "mode": "lines",
         "text": "0.3333333333333333",
         "type": "scatter",
         "x": [
          -0.02390725817653629,
          0.14845479866159975
         ],
         "y": [
          -0.03215261167696534,
          -0.042722723058193156
         ]
        },
        {
         "hoverinfo": "text",
         "line": {
          "color": "rgba(128, 128, 128, 0.1)",
          "width": 1
         },
         "mode": "lines",
         "text": "1.0",
         "type": "scatter",
         "x": [
          -0.02390725817653629,
          0.10002362627778762
         ],
         "y": [
          -0.03215261167696534,
          0.10501116025785338
         ]
        },
        {
         "hoverinfo": "text",
         "line": {
          "color": "rgba(128, 128, 128, 0.1)",
          "width": 1
         },
         "mode": "lines",
         "text": "1.0",
         "type": "scatter",
         "x": [
          -0.02390725817653629,
          -0.16620124598482677
         ],
         "y": [
          -0.03215261167696534,
          -0.01909129302872234
         ]
        },
        {
         "hoverinfo": "text",
         "line": {
          "color": "rgba(128, 128, 128, 0.1)",
          "width": 1
         },
         "mode": "lines",
         "text": "0.07142857142857142",
         "type": "scatter",
         "x": [
          -0.02390725817653629,
          0.10254243804351508
         ],
         "y": [
          -0.03215261167696534,
          -0.2532800348604361
         ]
        },
        {
         "hoverinfo": "text",
         "line": {
          "color": "rgba(128, 128, 128, 0.1)",
          "width": 1
         },
         "mode": "lines",
         "text": "0.16666666666666666",
         "type": "scatter",
         "x": [
          -0.02390725817653629,
          0.005294593386108596
         ],
         "y": [
          -0.03215261167696534,
          0.13730846316385836
         ]
        },
        {
         "hoverinfo": "text",
         "line": {
          "color": "rgba(128, 128, 128, 0.1)",
          "width": 1
         },
         "mode": "lines",
         "text": "0.125",
         "type": "scatter",
         "x": [
          -0.02390725817653629,
          0.07162601478889682
         ],
         "y": [
          -0.03215261167696534,
          0.22727757704262716
         ]
        },
        {
         "hoverinfo": "text",
         "line": {
          "color": "rgba(128, 128, 128, 0.1)",
          "width": 1
         },
         "mode": "lines",
         "text": "1.0",
         "type": "scatter",
         "x": [
          -0.02390725817653629,
          -0.12776709487089863
         ],
         "y": [
          -0.03215261167696534,
          -0.13201843882764794
         ]
        },
        {
         "hoverinfo": "text",
         "line": {
          "color": "rgba(128, 128, 128, 0.1)",
          "width": 1
         },
         "mode": "lines",
         "text": "1.0",
         "type": "scatter",
         "x": [
          -0.02390725817653629,
          0.12457960723897601
         ],
         "y": [
          -0.03215261167696534,
          -0.11512220422049145
         ]
        },
        {
         "hoverinfo": "text",
         "line": {
          "color": "rgba(128, 128, 128, 0.1)",
          "width": 1
         },
         "mode": "lines",
         "text": "1.0",
         "type": "scatter",
         "x": [
          -0.02390725817653629,
          0.038865278775735576
         ],
         "y": [
          -0.03215261167696534,
          -0.20376826594898925
         ]
        },
        {
         "hoverinfo": "text",
         "line": {
          "color": "rgba(128, 128, 128, 0.1)",
          "width": 1
         },
         "mode": "lines",
         "text": "0.3333333333333333",
         "type": "scatter",
         "x": [
          -0.02390725817653629,
          0.08165673758741265
         ],
         "y": [
          -0.03215261167696534,
          -0.16334315634167867
         ]
        },
        {
         "hoverinfo": "text",
         "line": {
          "color": "rgba(128, 128, 128, 0.1)",
          "width": 1
         },
         "mode": "lines",
         "text": "0.5",
         "type": "scatter",
         "x": [
          -0.02390725817653629,
          0.11815707188034474
         ],
         "y": [
          -0.03215261167696534,
          -0.07442264680581974
         ]
        },
        {
         "hoverinfo": "text",
         "line": {
          "color": "rgba(128, 128, 128, 0.1)",
          "width": 1
         },
         "mode": "lines",
         "text": "1.0",
         "type": "scatter",
         "x": [
          -0.02390725817653629,
          -0.03383436954673177
         ],
         "y": [
          -0.03215261167696534,
          0.163279787590839
         ]
        },
        {
         "hoverinfo": "text",
         "line": {
          "color": "rgba(128, 128, 128, 0.1)",
          "width": 1
         },
         "mode": "lines",
         "text": "1.0",
         "type": "scatter",
         "x": [
          -0.02390725817653629,
          -0.1259222814179488
         ],
         "y": [
          -0.03215261167696534,
          0.10384437114009124
         ]
        },
        {
         "hoverinfo": "text",
         "line": {
          "color": "rgba(128, 128, 128, 0.1)",
          "width": 1
         },
         "mode": "lines",
         "text": "1.0",
         "type": "scatter",
         "x": [
          -0.02390725817653629,
          0.19326865043805733
         ],
         "y": [
          -0.03215261167696534,
          0.029314955041528992
         ]
        },
        {
         "hoverinfo": "text",
         "line": {
          "color": "rgba(128, 128, 128, 0.1)",
          "width": 1
         },
         "mode": "lines",
         "text": "1.0",
         "type": "scatter",
         "x": [
          -0.02390725817653629,
          -0.016023919840118115
         ],
         "y": [
          -0.03215261167696534,
          0.06551360928329812
         ]
        },
        {
         "hoverinfo": "text",
         "line": {
          "color": "rgba(128, 128, 128, 0.1)",
          "width": 1
         },
         "mode": "lines",
         "text": "1.0",
         "type": "scatter",
         "x": [
          -0.02390725817653629,
          0.1033115932177682
         ],
         "y": [
          -0.03215261167696534,
          0.07607086985225013
         ]
        },
        {
         "hoverinfo": "text",
         "line": {
          "color": "rgba(128, 128, 128, 0.1)",
          "width": 1
         },
         "mode": "lines",
         "text": "1.0",
         "type": "scatter",
         "x": [
          -0.02390725817653629,
          -0.07624885500352627
         ],
         "y": [
          -0.03215261167696534,
          0.15917288408740757
         ]
        },
        {
         "hoverinfo": "text",
         "line": {
          "color": "rgba(128, 128, 128, 0.1)",
          "width": 1
         },
         "mode": "lines",
         "text": "0.3333333333333333",
         "type": "scatter",
         "x": [
          -0.16344201769829808,
          0.166123141387588
         ],
         "y": [
          0.0429638835733472,
          0.06166865831771715
         ]
        },
        {
         "hoverinfo": "text",
         "line": {
          "color": "rgba(128, 128, 128, 0.1)",
          "width": 1
         },
         "mode": "lines",
         "text": "1.0",
         "type": "scatter",
         "x": [
          -0.16344201769829808,
          -0.019578528041053832
         ],
         "y": [
          0.0429638835733472,
          -0.1014197181777017
         ]
        },
        {
         "hoverinfo": "text",
         "line": {
          "color": "rgba(128, 128, 128, 0.1)",
          "width": 1
         },
         "mode": "lines",
         "text": "0.3333333333333333",
         "type": "scatter",
         "x": [
          -0.16344201769829808,
          -0.032465231272888105
         ],
         "y": [
          0.0429638835733472,
          -0.2182550854092832
         ]
        },
        {
         "hoverinfo": "text",
         "line": {
          "color": "rgba(128, 128, 128, 0.1)",
          "width": 1
         },
         "mode": "lines",
         "text": "0.3333333333333333",
         "type": "scatter",
         "x": [
          -0.16344201769829808,
          0.04648405342682209
         ],
         "y": [
          0.0429638835733472,
          -0.10445288949657033
         ]
        },
        {
         "hoverinfo": "text",
         "line": {
          "color": "rgba(128, 128, 128, 0.1)",
          "width": 1
         },
         "mode": "lines",
         "text": "0.3333333333333333",
         "type": "scatter",
         "x": [
          -0.16344201769829808,
          0.035485360010484135
         ],
         "y": [
          0.0429638835733472,
          -0.15179063124126993
         ]
        },
        {
         "hoverinfo": "text",
         "line": {
          "color": "rgba(128, 128, 128, 0.1)",
          "width": 1
         },
         "mode": "lines",
         "text": "0.3333333333333333",
         "type": "scatter",
         "x": [
          -0.16344201769829808,
          0.14845479866159975
         ],
         "y": [
          0.0429638835733472,
          -0.042722723058193156
         ]
        },
        {
         "hoverinfo": "text",
         "line": {
          "color": "rgba(128, 128, 128, 0.1)",
          "width": 1
         },
         "mode": "lines",
         "text": "1.0",
         "type": "scatter",
         "x": [
          -0.16344201769829808,
          0.10002362627778762
         ],
         "y": [
          0.0429638835733472,
          0.10501116025785338
         ]
        },
        {
         "hoverinfo": "text",
         "line": {
          "color": "rgba(128, 128, 128, 0.1)",
          "width": 1
         },
         "mode": "lines",
         "text": "1.0",
         "type": "scatter",
         "x": [
          -0.16344201769829808,
          -0.16620124598482677
         ],
         "y": [
          0.0429638835733472,
          -0.01909129302872234
         ]
        },
        {
         "hoverinfo": "text",
         "line": {
          "color": "rgba(128, 128, 128, 0.1)",
          "width": 1
         },
         "mode": "lines",
         "text": "0.07142857142857142",
         "type": "scatter",
         "x": [
          -0.16344201769829808,
          0.10254243804351508
         ],
         "y": [
          0.0429638835733472,
          -0.2532800348604361
         ]
        },
        {
         "hoverinfo": "text",
         "line": {
          "color": "rgba(128, 128, 128, 0.1)",
          "width": 1
         },
         "mode": "lines",
         "text": "0.5",
         "type": "scatter",
         "x": [
          -0.16344201769829808,
          0.005294593386108596
         ],
         "y": [
          0.0429638835733472,
          0.13730846316385836
         ]
        },
        {
         "hoverinfo": "text",
         "line": {
          "color": "rgba(128, 128, 128, 0.1)",
          "width": 1
         },
         "mode": "lines",
         "text": "0.125",
         "type": "scatter",
         "x": [
          -0.16344201769829808,
          0.07162601478889682
         ],
         "y": [
          0.0429638835733472,
          0.22727757704262716
         ]
        },
        {
         "hoverinfo": "text",
         "line": {
          "color": "rgba(128, 128, 128, 0.1)",
          "width": 1
         },
         "mode": "lines",
         "text": "0.3333333333333333",
         "type": "scatter",
         "x": [
          -0.16344201769829808,
          -0.12776709487089863
         ],
         "y": [
          0.0429638835733472,
          -0.13201843882764794
         ]
        },
        {
         "hoverinfo": "text",
         "line": {
          "color": "rgba(128, 128, 128, 0.1)",
          "width": 1
         },
         "mode": "lines",
         "text": "1.0",
         "type": "scatter",
         "x": [
          -0.16344201769829808,
          0.12457960723897601
         ],
         "y": [
          0.0429638835733472,
          -0.11512220422049145
         ]
        },
        {
         "hoverinfo": "text",
         "line": {
          "color": "rgba(128, 128, 128, 0.1)",
          "width": 1
         },
         "mode": "lines",
         "text": "1.0",
         "type": "scatter",
         "x": [
          -0.16344201769829808,
          0.038865278775735576
         ],
         "y": [
          0.0429638835733472,
          -0.20376826594898925
         ]
        },
        {
         "hoverinfo": "text",
         "line": {
          "color": "rgba(128, 128, 128, 0.1)",
          "width": 1
         },
         "mode": "lines",
         "text": "0.3333333333333333",
         "type": "scatter",
         "x": [
          -0.16344201769829808,
          0.08165673758741265
         ],
         "y": [
          0.0429638835733472,
          -0.16334315634167867
         ]
        },
        {
         "hoverinfo": "text",
         "line": {
          "color": "rgba(128, 128, 128, 0.1)",
          "width": 1
         },
         "mode": "lines",
         "text": "0.5",
         "type": "scatter",
         "x": [
          -0.16344201769829808,
          0.11815707188034474
         ],
         "y": [
          0.0429638835733472,
          -0.07442264680581974
         ]
        },
        {
         "hoverinfo": "text",
         "line": {
          "color": "rgba(128, 128, 128, 0.1)",
          "width": 1
         },
         "mode": "lines",
         "text": "0.3333333333333333",
         "type": "scatter",
         "x": [
          -0.16344201769829808,
          -0.03383436954673177
         ],
         "y": [
          0.0429638835733472,
          0.163279787590839
         ]
        },
        {
         "hoverinfo": "text",
         "line": {
          "color": "rgba(128, 128, 128, 0.1)",
          "width": 1
         },
         "mode": "lines",
         "text": "1.0",
         "type": "scatter",
         "x": [
          -0.16344201769829808,
          -0.1259222814179488
         ],
         "y": [
          0.0429638835733472,
          0.10384437114009124
         ]
        },
        {
         "hoverinfo": "text",
         "line": {
          "color": "rgba(128, 128, 128, 0.1)",
          "width": 1
         },
         "mode": "lines",
         "text": "0.14285714285714285",
         "type": "scatter",
         "x": [
          -0.16344201769829808,
          0.19326865043805733
         ],
         "y": [
          0.0429638835733472,
          0.029314955041528992
         ]
        },
        {
         "hoverinfo": "text",
         "line": {
          "color": "rgba(128, 128, 128, 0.1)",
          "width": 1
         },
         "mode": "lines",
         "text": "0.3333333333333333",
         "type": "scatter",
         "x": [
          -0.16344201769829808,
          -0.016023919840118115
         ],
         "y": [
          0.0429638835733472,
          0.06551360928329812
         ]
        },
        {
         "hoverinfo": "text",
         "line": {
          "color": "rgba(128, 128, 128, 0.1)",
          "width": 1
         },
         "mode": "lines",
         "text": "0.3333333333333333",
         "type": "scatter",
         "x": [
          -0.16344201769829808,
          0.1033115932177682
         ],
         "y": [
          0.0429638835733472,
          0.07607086985225013
         ]
        },
        {
         "hoverinfo": "text",
         "line": {
          "color": "rgba(128, 128, 128, 0.1)",
          "width": 1
         },
         "mode": "lines",
         "text": "0.3333333333333333",
         "type": "scatter",
         "x": [
          -0.16344201769829808,
          -0.07624885500352627
         ],
         "y": [
          0.0429638835733472,
          0.15917288408740757
         ]
        },
        {
         "hoverinfo": "text",
         "line": {
          "color": "rgba(128, 128, 128, 0.1)",
          "width": 1
         },
         "mode": "lines",
         "text": "0.14285714285714285",
         "type": "scatter",
         "x": [
          0.166123141387588,
          -0.019578528041053832
         ],
         "y": [
          0.06166865831771715,
          -0.1014197181777017
         ]
        },
        {
         "hoverinfo": "text",
         "line": {
          "color": "rgba(128, 128, 128, 0.1)",
          "width": 1
         },
         "mode": "lines",
         "text": "1.0",
         "type": "scatter",
         "x": [
          0.166123141387588,
          -0.032465231272888105
         ],
         "y": [
          0.06166865831771715,
          -0.2182550854092832
         ]
        },
        {
         "hoverinfo": "text",
         "line": {
          "color": "rgba(128, 128, 128, 0.1)",
          "width": 1
         },
         "mode": "lines",
         "text": "1.0",
         "type": "scatter",
         "x": [
          0.166123141387588,
          0.04648405342682209
         ],
         "y": [
          0.06166865831771715,
          -0.10445288949657033
         ]
        },
        {
         "hoverinfo": "text",
         "line": {
          "color": "rgba(128, 128, 128, 0.1)",
          "width": 1
         },
         "mode": "lines",
         "text": "0.09090909090909091",
         "type": "scatter",
         "x": [
          0.166123141387588,
          0.035485360010484135
         ],
         "y": [
          0.06166865831771715,
          -0.15179063124126993
         ]
        },
        {
         "hoverinfo": "text",
         "line": {
          "color": "rgba(128, 128, 128, 0.1)",
          "width": 1
         },
         "mode": "lines",
         "text": "1.0",
         "type": "scatter",
         "x": [
          0.166123141387588,
          0.14845479866159975
         ],
         "y": [
          0.06166865831771715,
          -0.042722723058193156
         ]
        },
        {
         "hoverinfo": "text",
         "line": {
          "color": "rgba(128, 128, 128, 0.1)",
          "width": 1
         },
         "mode": "lines",
         "text": "0.1111111111111111",
         "type": "scatter",
         "x": [
          0.166123141387588,
          0.10002362627778762
         ],
         "y": [
          0.06166865831771715,
          0.10501116025785338
         ]
        },
        {
         "hoverinfo": "text",
         "line": {
          "color": "rgba(128, 128, 128, 0.1)",
          "width": 1
         },
         "mode": "lines",
         "text": "1.0",
         "type": "scatter",
         "x": [
          0.166123141387588,
          -0.16620124598482677
         ],
         "y": [
          0.06166865831771715,
          -0.01909129302872234
         ]
        },
        {
         "hoverinfo": "text",
         "line": {
          "color": "rgba(128, 128, 128, 0.1)",
          "width": 1
         },
         "mode": "lines",
         "text": "0.0625",
         "type": "scatter",
         "x": [
          0.166123141387588,
          0.10254243804351508
         ],
         "y": [
          0.06166865831771715,
          -0.2532800348604361
         ]
        },
        {
         "hoverinfo": "text",
         "line": {
          "color": "rgba(128, 128, 128, 0.1)",
          "width": 1
         },
         "mode": "lines",
         "text": "0.125",
         "type": "scatter",
         "x": [
          0.166123141387588,
          0.005294593386108596
         ],
         "y": [
          0.06166865831771715,
          0.13730846316385836
         ]
        },
        {
         "hoverinfo": "text",
         "line": {
          "color": "rgba(128, 128, 128, 0.1)",
          "width": 1
         },
         "mode": "lines",
         "text": "0.125",
         "type": "scatter",
         "x": [
          0.166123141387588,
          0.07162601478889682
         ],
         "y": [
          0.06166865831771715,
          0.22727757704262716
         ]
        },
        {
         "hoverinfo": "text",
         "line": {
          "color": "rgba(128, 128, 128, 0.1)",
          "width": 1
         },
         "mode": "lines",
         "text": "1.0",
         "type": "scatter",
         "x": [
          0.166123141387588,
          -0.12776709487089863
         ],
         "y": [
          0.06166865831771715,
          -0.13201843882764794
         ]
        },
        {
         "hoverinfo": "text",
         "line": {
          "color": "rgba(128, 128, 128, 0.1)",
          "width": 1
         },
         "mode": "lines",
         "text": "1.0",
         "type": "scatter",
         "x": [
          0.166123141387588,
          0.12457960723897601
         ],
         "y": [
          0.06166865831771715,
          -0.11512220422049145
         ]
        },
        {
         "hoverinfo": "text",
         "line": {
          "color": "rgba(128, 128, 128, 0.1)",
          "width": 1
         },
         "mode": "lines",
         "text": "1.0",
         "type": "scatter",
         "x": [
          0.166123141387588,
          0.038865278775735576
         ],
         "y": [
          0.06166865831771715,
          -0.20376826594898925
         ]
        },
        {
         "hoverinfo": "text",
         "line": {
          "color": "rgba(128, 128, 128, 0.1)",
          "width": 1
         },
         "mode": "lines",
         "text": "0.14285714285714285",
         "type": "scatter",
         "x": [
          0.166123141387588,
          0.08165673758741265
         ],
         "y": [
          0.06166865831771715,
          -0.16334315634167867
         ]
        },
        {
         "hoverinfo": "text",
         "line": {
          "color": "rgba(128, 128, 128, 0.1)",
          "width": 1
         },
         "mode": "lines",
         "text": "0.5",
         "type": "scatter",
         "x": [
          0.166123141387588,
          0.11815707188034474
         ],
         "y": [
          0.06166865831771715,
          -0.07442264680581974
         ]
        },
        {
         "hoverinfo": "text",
         "line": {
          "color": "rgba(128, 128, 128, 0.1)",
          "width": 1
         },
         "mode": "lines",
         "text": "1.0",
         "type": "scatter",
         "x": [
          0.166123141387588,
          -0.03383436954673177
         ],
         "y": [
          0.06166865831771715,
          0.163279787590839
         ]
        },
        {
         "hoverinfo": "text",
         "line": {
          "color": "rgba(128, 128, 128, 0.1)",
          "width": 1
         },
         "mode": "lines",
         "text": "1.0",
         "type": "scatter",
         "x": [
          0.166123141387588,
          -0.1259222814179488
         ],
         "y": [
          0.06166865831771715,
          0.10384437114009124
         ]
        },
        {
         "hoverinfo": "text",
         "line": {
          "color": "rgba(128, 128, 128, 0.1)",
          "width": 1
         },
         "mode": "lines",
         "text": "1.0",
         "type": "scatter",
         "x": [
          0.166123141387588,
          0.19326865043805733
         ],
         "y": [
          0.06166865831771715,
          0.029314955041528992
         ]
        },
        {
         "hoverinfo": "text",
         "line": {
          "color": "rgba(128, 128, 128, 0.1)",
          "width": 1
         },
         "mode": "lines",
         "text": "1.0",
         "type": "scatter",
         "x": [
          0.166123141387588,
          -0.016023919840118115
         ],
         "y": [
          0.06166865831771715,
          0.06551360928329812
         ]
        },
        {
         "hoverinfo": "text",
         "line": {
          "color": "rgba(128, 128, 128, 0.1)",
          "width": 1
         },
         "mode": "lines",
         "text": "1.0",
         "type": "scatter",
         "x": [
          0.166123141387588,
          0.1033115932177682
         ],
         "y": [
          0.06166865831771715,
          0.07607086985225013
         ]
        },
        {
         "hoverinfo": "text",
         "line": {
          "color": "rgba(128, 128, 128, 0.1)",
          "width": 1
         },
         "mode": "lines",
         "text": "1.0",
         "type": "scatter",
         "x": [
          0.166123141387588,
          -0.07624885500352627
         ],
         "y": [
          0.06166865831771715,
          0.15917288408740757
         ]
        },
        {
         "hoverinfo": "text",
         "line": {
          "color": "rgba(128, 128, 128, 0.1)",
          "width": 1
         },
         "mode": "lines",
         "text": "1.0",
         "type": "scatter",
         "x": [
          -0.019578528041053832,
          -0.032465231272888105
         ],
         "y": [
          -0.1014197181777017,
          -0.2182550854092832
         ]
        },
        {
         "hoverinfo": "text",
         "line": {
          "color": "rgba(128, 128, 128, 0.1)",
          "width": 1
         },
         "mode": "lines",
         "text": "1.0",
         "type": "scatter",
         "x": [
          -0.019578528041053832,
          0.04648405342682209
         ],
         "y": [
          -0.1014197181777017,
          -0.10445288949657033
         ]
        },
        {
         "hoverinfo": "text",
         "line": {
          "color": "rgba(128, 128, 128, 0.1)",
          "width": 1
         },
         "mode": "lines",
         "text": "1.0",
         "type": "scatter",
         "x": [
          -0.019578528041053832,
          0.035485360010484135
         ],
         "y": [
          -0.1014197181777017,
          -0.15179063124126993
         ]
        },
        {
         "hoverinfo": "text",
         "line": {
          "color": "rgba(128, 128, 128, 0.1)",
          "width": 1
         },
         "mode": "lines",
         "text": "1.0",
         "type": "scatter",
         "x": [
          -0.019578528041053832,
          0.14845479866159975
         ],
         "y": [
          -0.1014197181777017,
          -0.042722723058193156
         ]
        },
        {
         "hoverinfo": "text",
         "line": {
          "color": "rgba(128, 128, 128, 0.1)",
          "width": 1
         },
         "mode": "lines",
         "text": "1.0",
         "type": "scatter",
         "x": [
          -0.019578528041053832,
          0.10002362627778762
         ],
         "y": [
          -0.1014197181777017,
          0.10501116025785338
         ]
        },
        {
         "hoverinfo": "text",
         "line": {
          "color": "rgba(128, 128, 128, 0.1)",
          "width": 1
         },
         "mode": "lines",
         "text": "1.0",
         "type": "scatter",
         "x": [
          -0.019578528041053832,
          -0.16620124598482677
         ],
         "y": [
          -0.1014197181777017,
          -0.01909129302872234
         ]
        },
        {
         "hoverinfo": "text",
         "line": {
          "color": "rgba(128, 128, 128, 0.1)",
          "width": 1
         },
         "mode": "lines",
         "text": "0.1",
         "type": "scatter",
         "x": [
          -0.019578528041053832,
          0.10254243804351508
         ],
         "y": [
          -0.1014197181777017,
          -0.2532800348604361
         ]
        },
        {
         "hoverinfo": "text",
         "line": {
          "color": "rgba(128, 128, 128, 0.1)",
          "width": 1
         },
         "mode": "lines",
         "text": "0.5",
         "type": "scatter",
         "x": [
          -0.019578528041053832,
          0.005294593386108596
         ],
         "y": [
          -0.1014197181777017,
          0.13730846316385836
         ]
        },
        {
         "hoverinfo": "text",
         "line": {
          "color": "rgba(128, 128, 128, 0.1)",
          "width": 1
         },
         "mode": "lines",
         "text": "0.125",
         "type": "scatter",
         "x": [
          -0.019578528041053832,
          0.07162601478889682
         ],
         "y": [
          -0.1014197181777017,
          0.22727757704262716
         ]
        },
        {
         "hoverinfo": "text",
         "line": {
          "color": "rgba(128, 128, 128, 0.1)",
          "width": 1
         },
         "mode": "lines",
         "text": "1.0",
         "type": "scatter",
         "x": [
          -0.019578528041053832,
          -0.12776709487089863
         ],
         "y": [
          -0.1014197181777017,
          -0.13201843882764794
         ]
        },
        {
         "hoverinfo": "text",
         "line": {
          "color": "rgba(128, 128, 128, 0.1)",
          "width": 1
         },
         "mode": "lines",
         "text": "1.0",
         "type": "scatter",
         "x": [
          -0.019578528041053832,
          0.12457960723897601
         ],
         "y": [
          -0.1014197181777017,
          -0.11512220422049145
         ]
        },
        {
         "hoverinfo": "text",
         "line": {
          "color": "rgba(128, 128, 128, 0.1)",
          "width": 1
         },
         "mode": "lines",
         "text": "1.0",
         "type": "scatter",
         "x": [
          -0.019578528041053832,
          0.038865278775735576
         ],
         "y": [
          -0.1014197181777017,
          -0.20376826594898925
         ]
        },
        {
         "hoverinfo": "text",
         "line": {
          "color": "rgba(128, 128, 128, 0.1)",
          "width": 1
         },
         "mode": "lines",
         "text": "1.0",
         "type": "scatter",
         "x": [
          -0.019578528041053832,
          0.08165673758741265
         ],
         "y": [
          -0.1014197181777017,
          -0.16334315634167867
         ]
        },
        {
         "hoverinfo": "text",
         "line": {
          "color": "rgba(128, 128, 128, 0.1)",
          "width": 1
         },
         "mode": "lines",
         "text": "0.5",
         "type": "scatter",
         "x": [
          -0.019578528041053832,
          0.11815707188034474
         ],
         "y": [
          -0.1014197181777017,
          -0.07442264680581974
         ]
        },
        {
         "hoverinfo": "text",
         "line": {
          "color": "rgba(128, 128, 128, 0.1)",
          "width": 1
         },
         "mode": "lines",
         "text": "1.0",
         "type": "scatter",
         "x": [
          -0.019578528041053832,
          -0.03383436954673177
         ],
         "y": [
          -0.1014197181777017,
          0.163279787590839
         ]
        },
        {
         "hoverinfo": "text",
         "line": {
          "color": "rgba(128, 128, 128, 0.1)",
          "width": 1
         },
         "mode": "lines",
         "text": "1.0",
         "type": "scatter",
         "x": [
          -0.019578528041053832,
          -0.1259222814179488
         ],
         "y": [
          -0.1014197181777017,
          0.10384437114009124
         ]
        },
        {
         "hoverinfo": "text",
         "line": {
          "color": "rgba(128, 128, 128, 0.1)",
          "width": 1
         },
         "mode": "lines",
         "text": "0.14285714285714285",
         "type": "scatter",
         "x": [
          -0.019578528041053832,
          0.19326865043805733
         ],
         "y": [
          -0.1014197181777017,
          0.029314955041528992
         ]
        },
        {
         "hoverinfo": "text",
         "line": {
          "color": "rgba(128, 128, 128, 0.1)",
          "width": 1
         },
         "mode": "lines",
         "text": "1.0",
         "type": "scatter",
         "x": [
          -0.019578528041053832,
          -0.016023919840118115
         ],
         "y": [
          -0.1014197181777017,
          0.06551360928329812
         ]
        },
        {
         "hoverinfo": "text",
         "line": {
          "color": "rgba(128, 128, 128, 0.1)",
          "width": 1
         },
         "mode": "lines",
         "text": "1.0",
         "type": "scatter",
         "x": [
          -0.019578528041053832,
          0.1033115932177682
         ],
         "y": [
          -0.1014197181777017,
          0.07607086985225013
         ]
        },
        {
         "hoverinfo": "text",
         "line": {
          "color": "rgba(128, 128, 128, 0.1)",
          "width": 1
         },
         "mode": "lines",
         "text": "1.0",
         "type": "scatter",
         "x": [
          -0.019578528041053832,
          -0.07624885500352627
         ],
         "y": [
          -0.1014197181777017,
          0.15917288408740757
         ]
        },
        {
         "hoverinfo": "text",
         "line": {
          "color": "rgba(128, 128, 128, 0.1)",
          "width": 1
         },
         "mode": "lines",
         "text": "1.0",
         "type": "scatter",
         "x": [
          -0.032465231272888105,
          0.04648405342682209
         ],
         "y": [
          -0.2182550854092832,
          -0.10445288949657033
         ]
        },
        {
         "hoverinfo": "text",
         "line": {
          "color": "rgba(128, 128, 128, 0.1)",
          "width": 1
         },
         "mode": "lines",
         "text": "1.0",
         "type": "scatter",
         "x": [
          -0.032465231272888105,
          0.035485360010484135
         ],
         "y": [
          -0.2182550854092832,
          -0.15179063124126993
         ]
        },
        {
         "hoverinfo": "text",
         "line": {
          "color": "rgba(128, 128, 128, 0.1)",
          "width": 1
         },
         "mode": "lines",
         "text": "1.0",
         "type": "scatter",
         "x": [
          -0.032465231272888105,
          0.14845479866159975
         ],
         "y": [
          -0.2182550854092832,
          -0.042722723058193156
         ]
        },
        {
         "hoverinfo": "text",
         "line": {
          "color": "rgba(128, 128, 128, 0.1)",
          "width": 1
         },
         "mode": "lines",
         "text": "1.0",
         "type": "scatter",
         "x": [
          -0.032465231272888105,
          0.10002362627778762
         ],
         "y": [
          -0.2182550854092832,
          0.10501116025785338
         ]
        },
        {
         "hoverinfo": "text",
         "line": {
          "color": "rgba(128, 128, 128, 0.1)",
          "width": 1
         },
         "mode": "lines",
         "text": "1.0",
         "type": "scatter",
         "x": [
          -0.032465231272888105,
          -0.16620124598482677
         ],
         "y": [
          -0.2182550854092832,
          -0.01909129302872234
         ]
        },
        {
         "hoverinfo": "text",
         "line": {
          "color": "rgba(128, 128, 128, 0.1)",
          "width": 1
         },
         "mode": "lines",
         "text": "0.08333333333333333",
         "type": "scatter",
         "x": [
          -0.032465231272888105,
          0.10254243804351508
         ],
         "y": [
          -0.2182550854092832,
          -0.2532800348604361
         ]
        },
        {
         "hoverinfo": "text",
         "line": {
          "color": "rgba(128, 128, 128, 0.1)",
          "width": 1
         },
         "mode": "lines",
         "text": "0.5",
         "type": "scatter",
         "x": [
          -0.032465231272888105,
          0.005294593386108596
         ],
         "y": [
          -0.2182550854092832,
          0.13730846316385836
         ]
        },
        {
         "hoverinfo": "text",
         "line": {
          "color": "rgba(128, 128, 128, 0.1)",
          "width": 1
         },
         "mode": "lines",
         "text": "1.0",
         "type": "scatter",
         "x": [
          -0.032465231272888105,
          -0.12776709487089863
         ],
         "y": [
          -0.2182550854092832,
          -0.13201843882764794
         ]
        },
        {
         "hoverinfo": "text",
         "line": {
          "color": "rgba(128, 128, 128, 0.1)",
          "width": 1
         },
         "mode": "lines",
         "text": "1.0",
         "type": "scatter",
         "x": [
          -0.032465231272888105,
          0.12457960723897601
         ],
         "y": [
          -0.2182550854092832,
          -0.11512220422049145
         ]
        },
        {
         "hoverinfo": "text",
         "line": {
          "color": "rgba(128, 128, 128, 0.1)",
          "width": 1
         },
         "mode": "lines",
         "text": "1.0",
         "type": "scatter",
         "x": [
          -0.032465231272888105,
          0.038865278775735576
         ],
         "y": [
          -0.2182550854092832,
          -0.20376826594898925
         ]
        },
        {
         "hoverinfo": "text",
         "line": {
          "color": "rgba(128, 128, 128, 0.1)",
          "width": 1
         },
         "mode": "lines",
         "text": "1.0",
         "type": "scatter",
         "x": [
          -0.032465231272888105,
          0.08165673758741265
         ],
         "y": [
          -0.2182550854092832,
          -0.16334315634167867
         ]
        },
        {
         "hoverinfo": "text",
         "line": {
          "color": "rgba(128, 128, 128, 0.1)",
          "width": 1
         },
         "mode": "lines",
         "text": "0.5",
         "type": "scatter",
         "x": [
          -0.032465231272888105,
          0.11815707188034474
         ],
         "y": [
          -0.2182550854092832,
          -0.07442264680581974
         ]
        },
        {
         "hoverinfo": "text",
         "line": {
          "color": "rgba(128, 128, 128, 0.1)",
          "width": 1
         },
         "mode": "lines",
         "text": "1.0",
         "type": "scatter",
         "x": [
          -0.032465231272888105,
          -0.03383436954673177
         ],
         "y": [
          -0.2182550854092832,
          0.163279787590839
         ]
        },
        {
         "hoverinfo": "text",
         "line": {
          "color": "rgba(128, 128, 128, 0.1)",
          "width": 1
         },
         "mode": "lines",
         "text": "1.0",
         "type": "scatter",
         "x": [
          -0.032465231272888105,
          -0.1259222814179488
         ],
         "y": [
          -0.2182550854092832,
          0.10384437114009124
         ]
        },
        {
         "hoverinfo": "text",
         "line": {
          "color": "rgba(128, 128, 128, 0.1)",
          "width": 1
         },
         "mode": "lines",
         "text": "1.0",
         "type": "scatter",
         "x": [
          -0.032465231272888105,
          0.19326865043805733
         ],
         "y": [
          -0.2182550854092832,
          0.029314955041528992
         ]
        },
        {
         "hoverinfo": "text",
         "line": {
          "color": "rgba(128, 128, 128, 0.1)",
          "width": 1
         },
         "mode": "lines",
         "text": "1.0",
         "type": "scatter",
         "x": [
          -0.032465231272888105,
          -0.016023919840118115
         ],
         "y": [
          -0.2182550854092832,
          0.06551360928329812
         ]
        },
        {
         "hoverinfo": "text",
         "line": {
          "color": "rgba(128, 128, 128, 0.1)",
          "width": 1
         },
         "mode": "lines",
         "text": "1.0",
         "type": "scatter",
         "x": [
          -0.032465231272888105,
          0.1033115932177682
         ],
         "y": [
          -0.2182550854092832,
          0.07607086985225013
         ]
        },
        {
         "hoverinfo": "text",
         "line": {
          "color": "rgba(128, 128, 128, 0.1)",
          "width": 1
         },
         "mode": "lines",
         "text": "1.0",
         "type": "scatter",
         "x": [
          -0.032465231272888105,
          -0.07624885500352627
         ],
         "y": [
          -0.2182550854092832,
          0.15917288408740757
         ]
        },
        {
         "hoverinfo": "text",
         "line": {
          "color": "rgba(128, 128, 128, 0.1)",
          "width": 1
         },
         "mode": "lines",
         "text": "1.0",
         "type": "scatter",
         "x": [
          0.04648405342682209,
          0.035485360010484135
         ],
         "y": [
          -0.10445288949657033,
          -0.15179063124126993
         ]
        },
        {
         "hoverinfo": "text",
         "line": {
          "color": "rgba(128, 128, 128, 0.1)",
          "width": 1
         },
         "mode": "lines",
         "text": "1.0",
         "type": "scatter",
         "x": [
          0.04648405342682209,
          0.14845479866159975
         ],
         "y": [
          -0.10445288949657033,
          -0.042722723058193156
         ]
        },
        {
         "hoverinfo": "text",
         "line": {
          "color": "rgba(128, 128, 128, 0.1)",
          "width": 1
         },
         "mode": "lines",
         "text": "1.0",
         "type": "scatter",
         "x": [
          0.04648405342682209,
          0.10002362627778762
         ],
         "y": [
          -0.10445288949657033,
          0.10501116025785338
         ]
        },
        {
         "hoverinfo": "text",
         "line": {
          "color": "rgba(128, 128, 128, 0.1)",
          "width": 1
         },
         "mode": "lines",
         "text": "1.0",
         "type": "scatter",
         "x": [
          0.04648405342682209,
          -0.16620124598482677
         ],
         "y": [
          -0.10445288949657033,
          -0.01909129302872234
         ]
        },
        {
         "hoverinfo": "text",
         "line": {
          "color": "rgba(128, 128, 128, 0.1)",
          "width": 1
         },
         "mode": "lines",
         "text": "0.08333333333333333",
         "type": "scatter",
         "x": [
          0.04648405342682209,
          0.10254243804351508
         ],
         "y": [
          -0.10445288949657033,
          -0.2532800348604361
         ]
        },
        {
         "hoverinfo": "text",
         "line": {
          "color": "rgba(128, 128, 128, 0.1)",
          "width": 1
         },
         "mode": "lines",
         "text": "0.5",
         "type": "scatter",
         "x": [
          0.04648405342682209,
          0.005294593386108596
         ],
         "y": [
          -0.10445288949657033,
          0.13730846316385836
         ]
        },
        {
         "hoverinfo": "text",
         "line": {
          "color": "rgba(128, 128, 128, 0.1)",
          "width": 1
         },
         "mode": "lines",
         "text": "1.0",
         "type": "scatter",
         "x": [
          0.04648405342682209,
          -0.12776709487089863
         ],
         "y": [
          -0.10445288949657033,
          -0.13201843882764794
         ]
        },
        {
         "hoverinfo": "text",
         "line": {
          "color": "rgba(128, 128, 128, 0.1)",
          "width": 1
         },
         "mode": "lines",
         "text": "1.0",
         "type": "scatter",
         "x": [
          0.04648405342682209,
          0.12457960723897601
         ],
         "y": [
          -0.10445288949657033,
          -0.11512220422049145
         ]
        },
        {
         "hoverinfo": "text",
         "line": {
          "color": "rgba(128, 128, 128, 0.1)",
          "width": 1
         },
         "mode": "lines",
         "text": "1.0",
         "type": "scatter",
         "x": [
          0.04648405342682209,
          0.038865278775735576
         ],
         "y": [
          -0.10445288949657033,
          -0.20376826594898925
         ]
        },
        {
         "hoverinfo": "text",
         "line": {
          "color": "rgba(128, 128, 128, 0.1)",
          "width": 1
         },
         "mode": "lines",
         "text": "1.0",
         "type": "scatter",
         "x": [
          0.04648405342682209,
          0.08165673758741265
         ],
         "y": [
          -0.10445288949657033,
          -0.16334315634167867
         ]
        },
        {
         "hoverinfo": "text",
         "line": {
          "color": "rgba(128, 128, 128, 0.1)",
          "width": 1
         },
         "mode": "lines",
         "text": "0.5",
         "type": "scatter",
         "x": [
          0.04648405342682209,
          0.11815707188034474
         ],
         "y": [
          -0.10445288949657033,
          -0.07442264680581974
         ]
        },
        {
         "hoverinfo": "text",
         "line": {
          "color": "rgba(128, 128, 128, 0.1)",
          "width": 1
         },
         "mode": "lines",
         "text": "1.0",
         "type": "scatter",
         "x": [
          0.04648405342682209,
          -0.03383436954673177
         ],
         "y": [
          -0.10445288949657033,
          0.163279787590839
         ]
        },
        {
         "hoverinfo": "text",
         "line": {
          "color": "rgba(128, 128, 128, 0.1)",
          "width": 1
         },
         "mode": "lines",
         "text": "1.0",
         "type": "scatter",
         "x": [
          0.04648405342682209,
          -0.1259222814179488
         ],
         "y": [
          -0.10445288949657033,
          0.10384437114009124
         ]
        },
        {
         "hoverinfo": "text",
         "line": {
          "color": "rgba(128, 128, 128, 0.1)",
          "width": 1
         },
         "mode": "lines",
         "text": "0.09090909090909091",
         "type": "scatter",
         "x": [
          0.04648405342682209,
          0.19326865043805733
         ],
         "y": [
          -0.10445288949657033,
          0.029314955041528992
         ]
        },
        {
         "hoverinfo": "text",
         "line": {
          "color": "rgba(128, 128, 128, 0.1)",
          "width": 1
         },
         "mode": "lines",
         "text": "1.0",
         "type": "scatter",
         "x": [
          0.04648405342682209,
          -0.016023919840118115
         ],
         "y": [
          -0.10445288949657033,
          0.06551360928329812
         ]
        },
        {
         "hoverinfo": "text",
         "line": {
          "color": "rgba(128, 128, 128, 0.1)",
          "width": 1
         },
         "mode": "lines",
         "text": "1.0",
         "type": "scatter",
         "x": [
          0.04648405342682209,
          0.1033115932177682
         ],
         "y": [
          -0.10445288949657033,
          0.07607086985225013
         ]
        },
        {
         "hoverinfo": "text",
         "line": {
          "color": "rgba(128, 128, 128, 0.1)",
          "width": 1
         },
         "mode": "lines",
         "text": "1.0",
         "type": "scatter",
         "x": [
          0.04648405342682209,
          -0.07624885500352627
         ],
         "y": [
          -0.10445288949657033,
          0.15917288408740757
         ]
        },
        {
         "hoverinfo": "text",
         "line": {
          "color": "rgba(128, 128, 128, 0.1)",
          "width": 1
         },
         "mode": "lines",
         "text": "1.0",
         "type": "scatter",
         "x": [
          0.035485360010484135,
          0.14845479866159975
         ],
         "y": [
          -0.15179063124126993,
          -0.042722723058193156
         ]
        },
        {
         "hoverinfo": "text",
         "line": {
          "color": "rgba(128, 128, 128, 0.1)",
          "width": 1
         },
         "mode": "lines",
         "text": "0.09090909090909091",
         "type": "scatter",
         "x": [
          0.035485360010484135,
          0.10002362627778762
         ],
         "y": [
          -0.15179063124126993,
          0.10501116025785338
         ]
        },
        {
         "hoverinfo": "text",
         "line": {
          "color": "rgba(128, 128, 128, 0.1)",
          "width": 1
         },
         "mode": "lines",
         "text": "1.0",
         "type": "scatter",
         "x": [
          0.035485360010484135,
          -0.16620124598482677
         ],
         "y": [
          -0.15179063124126993,
          -0.01909129302872234
         ]
        },
        {
         "hoverinfo": "text",
         "line": {
          "color": "rgba(128, 128, 128, 0.1)",
          "width": 1
         },
         "mode": "lines",
         "text": "0.08333333333333333",
         "type": "scatter",
         "x": [
          0.035485360010484135,
          0.10254243804351508
         ],
         "y": [
          -0.15179063124126993,
          -0.2532800348604361
         ]
        },
        {
         "hoverinfo": "text",
         "line": {
          "color": "rgba(128, 128, 128, 0.1)",
          "width": 1
         },
         "mode": "lines",
         "text": "0.16666666666666666",
         "type": "scatter",
         "x": [
          0.035485360010484135,
          0.005294593386108596
         ],
         "y": [
          -0.15179063124126993,
          0.13730846316385836
         ]
        },
        {
         "hoverinfo": "text",
         "line": {
          "color": "rgba(128, 128, 128, 0.1)",
          "width": 1
         },
         "mode": "lines",
         "text": "1.0",
         "type": "scatter",
         "x": [
          0.035485360010484135,
          -0.12776709487089863
         ],
         "y": [
          -0.15179063124126993,
          -0.13201843882764794
         ]
        },
        {
         "hoverinfo": "text",
         "line": {
          "color": "rgba(128, 128, 128, 0.1)",
          "width": 1
         },
         "mode": "lines",
         "text": "0.14285714285714285",
         "type": "scatter",
         "x": [
          0.035485360010484135,
          0.12457960723897601
         ],
         "y": [
          -0.15179063124126993,
          -0.11512220422049145
         ]
        },
        {
         "hoverinfo": "text",
         "line": {
          "color": "rgba(128, 128, 128, 0.1)",
          "width": 1
         },
         "mode": "lines",
         "text": "1.0",
         "type": "scatter",
         "x": [
          0.035485360010484135,
          0.038865278775735576
         ],
         "y": [
          -0.15179063124126993,
          -0.20376826594898925
         ]
        },
        {
         "hoverinfo": "text",
         "line": {
          "color": "rgba(128, 128, 128, 0.1)",
          "width": 1
         },
         "mode": "lines",
         "text": "1.0",
         "type": "scatter",
         "x": [
          0.035485360010484135,
          0.08165673758741265
         ],
         "y": [
          -0.15179063124126993,
          -0.16334315634167867
         ]
        },
        {
         "hoverinfo": "text",
         "line": {
          "color": "rgba(128, 128, 128, 0.1)",
          "width": 1
         },
         "mode": "lines",
         "text": "0.5",
         "type": "scatter",
         "x": [
          0.035485360010484135,
          0.11815707188034474
         ],
         "y": [
          -0.15179063124126993,
          -0.07442264680581974
         ]
        },
        {
         "hoverinfo": "text",
         "line": {
          "color": "rgba(128, 128, 128, 0.1)",
          "width": 1
         },
         "mode": "lines",
         "text": "1.0",
         "type": "scatter",
         "x": [
          0.035485360010484135,
          -0.03383436954673177
         ],
         "y": [
          -0.15179063124126993,
          0.163279787590839
         ]
        },
        {
         "hoverinfo": "text",
         "line": {
          "color": "rgba(128, 128, 128, 0.1)",
          "width": 1
         },
         "mode": "lines",
         "text": "1.0",
         "type": "scatter",
         "x": [
          0.035485360010484135,
          -0.1259222814179488
         ],
         "y": [
          -0.15179063124126993,
          0.10384437114009124
         ]
        },
        {
         "hoverinfo": "text",
         "line": {
          "color": "rgba(128, 128, 128, 0.1)",
          "width": 1
         },
         "mode": "lines",
         "text": "0.09090909090909091",
         "type": "scatter",
         "x": [
          0.035485360010484135,
          0.19326865043805733
         ],
         "y": [
          -0.15179063124126993,
          0.029314955041528992
         ]
        },
        {
         "hoverinfo": "text",
         "line": {
          "color": "rgba(128, 128, 128, 0.1)",
          "width": 1
         },
         "mode": "lines",
         "text": "1.0",
         "type": "scatter",
         "x": [
          0.035485360010484135,
          -0.016023919840118115
         ],
         "y": [
          -0.15179063124126993,
          0.06551360928329812
         ]
        },
        {
         "hoverinfo": "text",
         "line": {
          "color": "rgba(128, 128, 128, 0.1)",
          "width": 1
         },
         "mode": "lines",
         "text": "1.0",
         "type": "scatter",
         "x": [
          0.035485360010484135,
          0.1033115932177682
         ],
         "y": [
          -0.15179063124126993,
          0.07607086985225013
         ]
        },
        {
         "hoverinfo": "text",
         "line": {
          "color": "rgba(128, 128, 128, 0.1)",
          "width": 1
         },
         "mode": "lines",
         "text": "0.14285714285714285",
         "type": "scatter",
         "x": [
          0.035485360010484135,
          -0.07624885500352627
         ],
         "y": [
          -0.15179063124126993,
          0.15917288408740757
         ]
        },
        {
         "hoverinfo": "text",
         "line": {
          "color": "rgba(128, 128, 128, 0.1)",
          "width": 1
         },
         "mode": "lines",
         "text": "1.0",
         "type": "scatter",
         "x": [
          0.14845479866159975,
          0.10002362627778762
         ],
         "y": [
          -0.042722723058193156,
          0.10501116025785338
         ]
        },
        {
         "hoverinfo": "text",
         "line": {
          "color": "rgba(128, 128, 128, 0.1)",
          "width": 1
         },
         "mode": "lines",
         "text": "1.0",
         "type": "scatter",
         "x": [
          0.14845479866159975,
          -0.16620124598482677
         ],
         "y": [
          -0.042722723058193156,
          -0.01909129302872234
         ]
        },
        {
         "hoverinfo": "text",
         "line": {
          "color": "rgba(128, 128, 128, 0.1)",
          "width": 1
         },
         "mode": "lines",
         "text": "0.08333333333333333",
         "type": "scatter",
         "x": [
          0.14845479866159975,
          0.10254243804351508
         ],
         "y": [
          -0.042722723058193156,
          -0.2532800348604361
         ]
        },
        {
         "hoverinfo": "text",
         "line": {
          "color": "rgba(128, 128, 128, 0.1)",
          "width": 1
         },
         "mode": "lines",
         "text": "0.5",
         "type": "scatter",
         "x": [
          0.14845479866159975,
          0.005294593386108596
         ],
         "y": [
          -0.042722723058193156,
          0.13730846316385836
         ]
        },
        {
         "hoverinfo": "text",
         "line": {
          "color": "rgba(128, 128, 128, 0.1)",
          "width": 1
         },
         "mode": "lines",
         "text": "1.0",
         "type": "scatter",
         "x": [
          0.14845479866159975,
          -0.12776709487089863
         ],
         "y": [
          -0.042722723058193156,
          -0.13201843882764794
         ]
        },
        {
         "hoverinfo": "text",
         "line": {
          "color": "rgba(128, 128, 128, 0.1)",
          "width": 1
         },
         "mode": "lines",
         "text": "1.0",
         "type": "scatter",
         "x": [
          0.14845479866159975,
          0.12457960723897601
         ],
         "y": [
          -0.042722723058193156,
          -0.11512220422049145
         ]
        },
        {
         "hoverinfo": "text",
         "line": {
          "color": "rgba(128, 128, 128, 0.1)",
          "width": 1
         },
         "mode": "lines",
         "text": "1.0",
         "type": "scatter",
         "x": [
          0.14845479866159975,
          0.038865278775735576
         ],
         "y": [
          -0.042722723058193156,
          -0.20376826594898925
         ]
        },
        {
         "hoverinfo": "text",
         "line": {
          "color": "rgba(128, 128, 128, 0.1)",
          "width": 1
         },
         "mode": "lines",
         "text": "1.0",
         "type": "scatter",
         "x": [
          0.14845479866159975,
          0.08165673758741265
         ],
         "y": [
          -0.042722723058193156,
          -0.16334315634167867
         ]
        },
        {
         "hoverinfo": "text",
         "line": {
          "color": "rgba(128, 128, 128, 0.1)",
          "width": 1
         },
         "mode": "lines",
         "text": "0.5",
         "type": "scatter",
         "x": [
          0.14845479866159975,
          0.11815707188034474
         ],
         "y": [
          -0.042722723058193156,
          -0.07442264680581974
         ]
        },
        {
         "hoverinfo": "text",
         "line": {
          "color": "rgba(128, 128, 128, 0.1)",
          "width": 1
         },
         "mode": "lines",
         "text": "1.0",
         "type": "scatter",
         "x": [
          0.14845479866159975,
          -0.03383436954673177
         ],
         "y": [
          -0.042722723058193156,
          0.163279787590839
         ]
        },
        {
         "hoverinfo": "text",
         "line": {
          "color": "rgba(128, 128, 128, 0.1)",
          "width": 1
         },
         "mode": "lines",
         "text": "1.0",
         "type": "scatter",
         "x": [
          0.14845479866159975,
          -0.1259222814179488
         ],
         "y": [
          -0.042722723058193156,
          0.10384437114009124
         ]
        },
        {
         "hoverinfo": "text",
         "line": {
          "color": "rgba(128, 128, 128, 0.1)",
          "width": 1
         },
         "mode": "lines",
         "text": "0.09090909090909091",
         "type": "scatter",
         "x": [
          0.14845479866159975,
          0.19326865043805733
         ],
         "y": [
          -0.042722723058193156,
          0.029314955041528992
         ]
        },
        {
         "hoverinfo": "text",
         "line": {
          "color": "rgba(128, 128, 128, 0.1)",
          "width": 1
         },
         "mode": "lines",
         "text": "1.0",
         "type": "scatter",
         "x": [
          0.14845479866159975,
          -0.016023919840118115
         ],
         "y": [
          -0.042722723058193156,
          0.06551360928329812
         ]
        },
        {
         "hoverinfo": "text",
         "line": {
          "color": "rgba(128, 128, 128, 0.1)",
          "width": 1
         },
         "mode": "lines",
         "text": "1.0",
         "type": "scatter",
         "x": [
          0.14845479866159975,
          0.1033115932177682
         ],
         "y": [
          -0.042722723058193156,
          0.07607086985225013
         ]
        },
        {
         "hoverinfo": "text",
         "line": {
          "color": "rgba(128, 128, 128, 0.1)",
          "width": 1
         },
         "mode": "lines",
         "text": "1.0",
         "type": "scatter",
         "x": [
          0.14845479866159975,
          -0.07624885500352627
         ],
         "y": [
          -0.042722723058193156,
          0.15917288408740757
         ]
        },
        {
         "hoverinfo": "text",
         "line": {
          "color": "rgba(128, 128, 128, 0.1)",
          "width": 1
         },
         "mode": "lines",
         "text": "1.0",
         "type": "scatter",
         "x": [
          0.10002362627778762,
          -0.16620124598482677
         ],
         "y": [
          0.10501116025785338,
          -0.01909129302872234
         ]
        },
        {
         "hoverinfo": "text",
         "line": {
          "color": "rgba(128, 128, 128, 0.1)",
          "width": 1
         },
         "mode": "lines",
         "text": "0.05555555555555555",
         "type": "scatter",
         "x": [
          0.10002362627778762,
          0.10254243804351508
         ],
         "y": [
          0.10501116025785338,
          -0.2532800348604361
         ]
        },
        {
         "hoverinfo": "text",
         "line": {
          "color": "rgba(128, 128, 128, 0.1)",
          "width": 1
         },
         "mode": "lines",
         "text": "0.5",
         "type": "scatter",
         "x": [
          0.10002362627778762,
          0.005294593386108596
         ],
         "y": [
          0.10501116025785338,
          0.13730846316385836
         ]
        },
        {
         "hoverinfo": "text",
         "line": {
          "color": "rgba(128, 128, 128, 0.1)",
          "width": 1
         },
         "mode": "lines",
         "text": "0.25",
         "type": "scatter",
         "x": [
          0.10002362627778762,
          0.07162601478889682
         ],
         "y": [
          0.10501116025785338,
          0.22727757704262716
         ]
        },
        {
         "hoverinfo": "text",
         "line": {
          "color": "rgba(128, 128, 128, 0.1)",
          "width": 1
         },
         "mode": "lines",
         "text": "1.0",
         "type": "scatter",
         "x": [
          0.10002362627778762,
          -0.12776709487089863
         ],
         "y": [
          0.10501116025785338,
          -0.13201843882764794
         ]
        },
        {
         "hoverinfo": "text",
         "line": {
          "color": "rgba(128, 128, 128, 0.1)",
          "width": 1
         },
         "mode": "lines",
         "text": "1.0",
         "type": "scatter",
         "x": [
          0.10002362627778762,
          0.12457960723897601
         ],
         "y": [
          0.10501116025785338,
          -0.11512220422049145
         ]
        },
        {
         "hoverinfo": "text",
         "line": {
          "color": "rgba(128, 128, 128, 0.1)",
          "width": 1
         },
         "mode": "lines",
         "text": "1.0",
         "type": "scatter",
         "x": [
          0.10002362627778762,
          0.038865278775735576
         ],
         "y": [
          0.10501116025785338,
          -0.20376826594898925
         ]
        },
        {
         "hoverinfo": "text",
         "line": {
          "color": "rgba(128, 128, 128, 0.1)",
          "width": 1
         },
         "mode": "lines",
         "text": "1.0",
         "type": "scatter",
         "x": [
          0.10002362627778762,
          0.08165673758741265
         ],
         "y": [
          0.10501116025785338,
          -0.16334315634167867
         ]
        },
        {
         "hoverinfo": "text",
         "line": {
          "color": "rgba(128, 128, 128, 0.1)",
          "width": 1
         },
         "mode": "lines",
         "text": "0.5",
         "type": "scatter",
         "x": [
          0.10002362627778762,
          0.11815707188034474
         ],
         "y": [
          0.10501116025785338,
          -0.07442264680581974
         ]
        },
        {
         "hoverinfo": "text",
         "line": {
          "color": "rgba(128, 128, 128, 0.1)",
          "width": 1
         },
         "mode": "lines",
         "text": "1.0",
         "type": "scatter",
         "x": [
          0.10002362627778762,
          -0.03383436954673177
         ],
         "y": [
          0.10501116025785338,
          0.163279787590839
         ]
        },
        {
         "hoverinfo": "text",
         "line": {
          "color": "rgba(128, 128, 128, 0.1)",
          "width": 1
         },
         "mode": "lines",
         "text": "1.0",
         "type": "scatter",
         "x": [
          0.10002362627778762,
          -0.1259222814179488
         ],
         "y": [
          0.10501116025785338,
          0.10384437114009124
         ]
        },
        {
         "hoverinfo": "text",
         "line": {
          "color": "rgba(128, 128, 128, 0.1)",
          "width": 1
         },
         "mode": "lines",
         "text": "0.14285714285714285",
         "type": "scatter",
         "x": [
          0.10002362627778762,
          0.19326865043805733
         ],
         "y": [
          0.10501116025785338,
          0.029314955041528992
         ]
        },
        {
         "hoverinfo": "text",
         "line": {
          "color": "rgba(128, 128, 128, 0.1)",
          "width": 1
         },
         "mode": "lines",
         "text": "0.14285714285714285",
         "type": "scatter",
         "x": [
          0.10002362627778762,
          -0.016023919840118115
         ],
         "y": [
          0.10501116025785338,
          0.06551360928329812
         ]
        },
        {
         "hoverinfo": "text",
         "line": {
          "color": "rgba(128, 128, 128, 0.1)",
          "width": 1
         },
         "mode": "lines",
         "text": "1.0",
         "type": "scatter",
         "x": [
          0.10002362627778762,
          0.1033115932177682
         ],
         "y": [
          0.10501116025785338,
          0.07607086985225013
         ]
        },
        {
         "hoverinfo": "text",
         "line": {
          "color": "rgba(128, 128, 128, 0.1)",
          "width": 1
         },
         "mode": "lines",
         "text": "1.0",
         "type": "scatter",
         "x": [
          0.10002362627778762,
          -0.07624885500352627
         ],
         "y": [
          0.10501116025785338,
          0.15917288408740757
         ]
        },
        {
         "hoverinfo": "text",
         "line": {
          "color": "rgba(128, 128, 128, 0.1)",
          "width": 1
         },
         "mode": "lines",
         "text": "0.08333333333333333",
         "type": "scatter",
         "x": [
          -0.16620124598482677,
          0.10254243804351508
         ],
         "y": [
          -0.01909129302872234,
          -0.2532800348604361
         ]
        },
        {
         "hoverinfo": "text",
         "line": {
          "color": "rgba(128, 128, 128, 0.1)",
          "width": 1
         },
         "mode": "lines",
         "text": "0.5",
         "type": "scatter",
         "x": [
          -0.16620124598482677,
          0.005294593386108596
         ],
         "y": [
          -0.01909129302872234,
          0.13730846316385836
         ]
        },
        {
         "hoverinfo": "text",
         "line": {
          "color": "rgba(128, 128, 128, 0.1)",
          "width": 1
         },
         "mode": "lines",
         "text": "0.125",
         "type": "scatter",
         "x": [
          -0.16620124598482677,
          0.07162601478889682
         ],
         "y": [
          -0.01909129302872234,
          0.22727757704262716
         ]
        },
        {
         "hoverinfo": "text",
         "line": {
          "color": "rgba(128, 128, 128, 0.1)",
          "width": 1
         },
         "mode": "lines",
         "text": "1.0",
         "type": "scatter",
         "x": [
          -0.16620124598482677,
          -0.12776709487089863
         ],
         "y": [
          -0.01909129302872234,
          -0.13201843882764794
         ]
        },
        {
         "hoverinfo": "text",
         "line": {
          "color": "rgba(128, 128, 128, 0.1)",
          "width": 1
         },
         "mode": "lines",
         "text": "1.0",
         "type": "scatter",
         "x": [
          -0.16620124598482677,
          0.12457960723897601
         ],
         "y": [
          -0.01909129302872234,
          -0.11512220422049145
         ]
        },
        {
         "hoverinfo": "text",
         "line": {
          "color": "rgba(128, 128, 128, 0.1)",
          "width": 1
         },
         "mode": "lines",
         "text": "1.0",
         "type": "scatter",
         "x": [
          -0.16620124598482677,
          0.038865278775735576
         ],
         "y": [
          -0.01909129302872234,
          -0.20376826594898925
         ]
        },
        {
         "hoverinfo": "text",
         "line": {
          "color": "rgba(128, 128, 128, 0.1)",
          "width": 1
         },
         "mode": "lines",
         "text": "1.0",
         "type": "scatter",
         "x": [
          -0.16620124598482677,
          0.08165673758741265
         ],
         "y": [
          -0.01909129302872234,
          -0.16334315634167867
         ]
        },
        {
         "hoverinfo": "text",
         "line": {
          "color": "rgba(128, 128, 128, 0.1)",
          "width": 1
         },
         "mode": "lines",
         "text": "0.5",
         "type": "scatter",
         "x": [
          -0.16620124598482677,
          0.11815707188034474
         ],
         "y": [
          -0.01909129302872234,
          -0.07442264680581974
         ]
        },
        {
         "hoverinfo": "text",
         "line": {
          "color": "rgba(128, 128, 128, 0.1)",
          "width": 1
         },
         "mode": "lines",
         "text": "1.0",
         "type": "scatter",
         "x": [
          -0.16620124598482677,
          -0.03383436954673177
         ],
         "y": [
          -0.01909129302872234,
          0.163279787590839
         ]
        },
        {
         "hoverinfo": "text",
         "line": {
          "color": "rgba(128, 128, 128, 0.1)",
          "width": 1
         },
         "mode": "lines",
         "text": "1.0",
         "type": "scatter",
         "x": [
          -0.16620124598482677,
          -0.1259222814179488
         ],
         "y": [
          -0.01909129302872234,
          0.10384437114009124
         ]
        },
        {
         "hoverinfo": "text",
         "line": {
          "color": "rgba(128, 128, 128, 0.1)",
          "width": 1
         },
         "mode": "lines",
         "text": "1.0",
         "type": "scatter",
         "x": [
          -0.16620124598482677,
          0.19326865043805733
         ],
         "y": [
          -0.01909129302872234,
          0.029314955041528992
         ]
        },
        {
         "hoverinfo": "text",
         "line": {
          "color": "rgba(128, 128, 128, 0.1)",
          "width": 1
         },
         "mode": "lines",
         "text": "1.0",
         "type": "scatter",
         "x": [
          -0.16620124598482677,
          -0.016023919840118115
         ],
         "y": [
          -0.01909129302872234,
          0.06551360928329812
         ]
        },
        {
         "hoverinfo": "text",
         "line": {
          "color": "rgba(128, 128, 128, 0.1)",
          "width": 1
         },
         "mode": "lines",
         "text": "1.0",
         "type": "scatter",
         "x": [
          -0.16620124598482677,
          0.1033115932177682
         ],
         "y": [
          -0.01909129302872234,
          0.07607086985225013
         ]
        },
        {
         "hoverinfo": "text",
         "line": {
          "color": "rgba(128, 128, 128, 0.1)",
          "width": 1
         },
         "mode": "lines",
         "text": "1.0",
         "type": "scatter",
         "x": [
          -0.16620124598482677,
          -0.07624885500352627
         ],
         "y": [
          -0.01909129302872234,
          0.15917288408740757
         ]
        },
        {
         "hoverinfo": "text",
         "line": {
          "color": "rgba(128, 128, 128, 0.1)",
          "width": 1
         },
         "mode": "lines",
         "text": "0.5",
         "type": "scatter",
         "x": [
          0.005294593386108596,
          -0.12776709487089863
         ],
         "y": [
          0.13730846316385836,
          -0.13201843882764794
         ]
        },
        {
         "hoverinfo": "text",
         "line": {
          "color": "rgba(128, 128, 128, 0.1)",
          "width": 1
         },
         "mode": "lines",
         "text": "0.1",
         "type": "scatter",
         "x": [
          0.005294593386108596,
          0.12457960723897601
         ],
         "y": [
          0.13730846316385836,
          -0.11512220422049145
         ]
        },
        {
         "hoverinfo": "text",
         "line": {
          "color": "rgba(128, 128, 128, 0.1)",
          "width": 1
         },
         "mode": "lines",
         "text": "0.5",
         "type": "scatter",
         "x": [
          0.005294593386108596,
          0.038865278775735576
         ],
         "y": [
          0.13730846316385836,
          -0.20376826594898925
         ]
        },
        {
         "hoverinfo": "text",
         "line": {
          "color": "rgba(128, 128, 128, 0.1)",
          "width": 1
         },
         "mode": "lines",
         "text": "0.5",
         "type": "scatter",
         "x": [
          0.005294593386108596,
          0.08165673758741265
         ],
         "y": [
          0.13730846316385836,
          -0.16334315634167867
         ]
        },
        {
         "hoverinfo": "text",
         "line": {
          "color": "rgba(128, 128, 128, 0.1)",
          "width": 1
         },
         "mode": "lines",
         "text": "0.3333333333333333",
         "type": "scatter",
         "x": [
          0.005294593386108596,
          0.11815707188034474
         ],
         "y": [
          0.13730846316385836,
          -0.07442264680581974
         ]
        },
        {
         "hoverinfo": "text",
         "line": {
          "color": "rgba(128, 128, 128, 0.1)",
          "width": 1
         },
         "mode": "lines",
         "text": "0.5",
         "type": "scatter",
         "x": [
          0.005294593386108596,
          -0.03383436954673177
         ],
         "y": [
          0.13730846316385836,
          0.163279787590839
         ]
        },
        {
         "hoverinfo": "text",
         "line": {
          "color": "rgba(128, 128, 128, 0.1)",
          "width": 1
         },
         "mode": "lines",
         "text": "0.5",
         "type": "scatter",
         "x": [
          0.005294593386108596,
          -0.1259222814179488
         ],
         "y": [
          0.13730846316385836,
          0.10384437114009124
         ]
        },
        {
         "hoverinfo": "text",
         "line": {
          "color": "rgba(128, 128, 128, 0.1)",
          "width": 1
         },
         "mode": "lines",
         "text": "0.1",
         "type": "scatter",
         "x": [
          0.005294593386108596,
          0.19326865043805733
         ],
         "y": [
          0.13730846316385836,
          0.029314955041528992
         ]
        },
        {
         "hoverinfo": "text",
         "line": {
          "color": "rgba(128, 128, 128, 0.1)",
          "width": 1
         },
         "mode": "lines",
         "text": "0.16666666666666666",
         "type": "scatter",
         "x": [
          0.005294593386108596,
          -0.016023919840118115
         ],
         "y": [
          0.13730846316385836,
          0.06551360928329812
         ]
        },
        {
         "hoverinfo": "text",
         "line": {
          "color": "rgba(128, 128, 128, 0.1)",
          "width": 1
         },
         "mode": "lines",
         "text": "0.5",
         "type": "scatter",
         "x": [
          0.005294593386108596,
          0.1033115932177682
         ],
         "y": [
          0.13730846316385836,
          0.07607086985225013
         ]
        },
        {
         "hoverinfo": "text",
         "line": {
          "color": "rgba(128, 128, 128, 0.1)",
          "width": 1
         },
         "mode": "lines",
         "text": "0.16666666666666666",
         "type": "scatter",
         "x": [
          0.005294593386108596,
          -0.07624885500352627
         ],
         "y": [
          0.13730846316385836,
          0.15917288408740757
         ]
        },
        {
         "hoverinfo": "text",
         "line": {
          "color": "rgba(128, 128, 128, 0.1)",
          "width": 1
         },
         "mode": "lines",
         "text": "0.125",
         "type": "scatter",
         "x": [
          0.07162601478889682,
          -0.12776709487089863
         ],
         "y": [
          0.22727757704262716,
          -0.13201843882764794
         ]
        },
        {
         "hoverinfo": "text",
         "line": {
          "color": "rgba(128, 128, 128, 0.1)",
          "width": 1
         },
         "mode": "lines",
         "text": "0.25",
         "type": "scatter",
         "x": [
          0.07162601478889682,
          0.12457960723897601
         ],
         "y": [
          0.22727757704262716,
          -0.11512220422049145
         ]
        },
        {
         "hoverinfo": "text",
         "line": {
          "color": "rgba(128, 128, 128, 0.1)",
          "width": 1
         },
         "mode": "lines",
         "text": "0.125",
         "type": "scatter",
         "x": [
          0.07162601478889682,
          0.038865278775735576
         ],
         "y": [
          0.22727757704262716,
          -0.20376826594898925
         ]
        },
        {
         "hoverinfo": "text",
         "line": {
          "color": "rgba(128, 128, 128, 0.1)",
          "width": 1
         },
         "mode": "lines",
         "text": "0.125",
         "type": "scatter",
         "x": [
          0.07162601478889682,
          0.08165673758741265
         ],
         "y": [
          0.22727757704262716,
          -0.16334315634167867
         ]
        },
        {
         "hoverinfo": "text",
         "line": {
          "color": "rgba(128, 128, 128, 0.1)",
          "width": 1
         },
         "mode": "lines",
         "text": "0.1111111111111111",
         "type": "scatter",
         "x": [
          0.07162601478889682,
          0.11815707188034474
         ],
         "y": [
          0.22727757704262716,
          -0.07442264680581974
         ]
        },
        {
         "hoverinfo": "text",
         "line": {
          "color": "rgba(128, 128, 128, 0.1)",
          "width": 1
         },
         "mode": "lines",
         "text": "0.2",
         "type": "scatter",
         "x": [
          0.07162601478889682,
          0.12982972791201597
         ],
         "y": [
          0.22727757704262716,
          0.475172174370953
         ]
        },
        {
         "hoverinfo": "text",
         "line": {
          "color": "rgba(128, 128, 128, 0.1)",
          "width": 1
         },
         "mode": "lines",
         "text": "0.125",
         "type": "scatter",
         "x": [
          0.07162601478889682,
          -0.03383436954673177
         ],
         "y": [
          0.22727757704262716,
          0.163279787590839
         ]
        },
        {
         "hoverinfo": "text",
         "line": {
          "color": "rgba(128, 128, 128, 0.1)",
          "width": 1
         },
         "mode": "lines",
         "text": "0.25",
         "type": "scatter",
         "x": [
          0.07162601478889682,
          -0.1259222814179488
         ],
         "y": [
          0.22727757704262716,
          0.10384437114009124
         ]
        },
        {
         "hoverinfo": "text",
         "line": {
          "color": "rgba(128, 128, 128, 0.1)",
          "width": 1
         },
         "mode": "lines",
         "text": "0.25",
         "type": "scatter",
         "x": [
          0.07162601478889682,
          0.19326865043805733
         ],
         "y": [
          0.22727757704262716,
          0.029314955041528992
         ]
        },
        {
         "hoverinfo": "text",
         "line": {
          "color": "rgba(128, 128, 128, 0.1)",
          "width": 1
         },
         "mode": "lines",
         "text": "0.125",
         "type": "scatter",
         "x": [
          0.07162601478889682,
          -0.016023919840118115
         ],
         "y": [
          0.22727757704262716,
          0.06551360928329812
         ]
        },
        {
         "hoverinfo": "text",
         "line": {
          "color": "rgba(128, 128, 128, 0.1)",
          "width": 1
         },
         "mode": "lines",
         "text": "0.16666666666666666",
         "type": "scatter",
         "x": [
          0.07162601478889682,
          0.22749423081695774
         ],
         "y": [
          0.22727757704262716,
          0.5945386924247043
         ]
        },
        {
         "hoverinfo": "text",
         "line": {
          "color": "rgba(128, 128, 128, 0.1)",
          "width": 1
         },
         "mode": "lines",
         "text": "0.125",
         "type": "scatter",
         "x": [
          0.07162601478889682,
          0.1033115932177682
         ],
         "y": [
          0.22727757704262716,
          0.07607086985225013
         ]
        },
        {
         "hoverinfo": "text",
         "line": {
          "color": "rgba(128, 128, 128, 0.1)",
          "width": 1
         },
         "mode": "lines",
         "text": "0.125",
         "type": "scatter",
         "x": [
          0.07162601478889682,
          -0.07624885500352627
         ],
         "y": [
          0.22727757704262716,
          0.15917288408740757
         ]
        },
        {
         "hoverinfo": "text",
         "line": {
          "color": "rgba(128, 128, 128, 0.1)",
          "width": 1
         },
         "mode": "lines",
         "text": "0.16666666666666666",
         "type": "scatter",
         "x": [
          0.07162601478889682,
          0.4021723939909876
         ],
         "y": [
          0.22727757704262716,
          0.6879062820355073
         ]
        },
        {
         "hoverinfo": "text",
         "line": {
          "color": "rgba(128, 128, 128, 0.1)",
          "width": 1
         },
         "mode": "lines",
         "text": "1.0",
         "type": "scatter",
         "x": [
          -0.12776709487089863,
          0.12457960723897601
         ],
         "y": [
          -0.13201843882764794,
          -0.11512220422049145
         ]
        },
        {
         "hoverinfo": "text",
         "line": {
          "color": "rgba(128, 128, 128, 0.1)",
          "width": 1
         },
         "mode": "lines",
         "text": "1.0",
         "type": "scatter",
         "x": [
          -0.12776709487089863,
          0.038865278775735576
         ],
         "y": [
          -0.13201843882764794,
          -0.20376826594898925
         ]
        },
        {
         "hoverinfo": "text",
         "line": {
          "color": "rgba(128, 128, 128, 0.1)",
          "width": 1
         },
         "mode": "lines",
         "text": "1.0",
         "type": "scatter",
         "x": [
          -0.12776709487089863,
          0.08165673758741265
         ],
         "y": [
          -0.13201843882764794,
          -0.16334315634167867
         ]
        },
        {
         "hoverinfo": "text",
         "line": {
          "color": "rgba(128, 128, 128, 0.1)",
          "width": 1
         },
         "mode": "lines",
         "text": "0.5",
         "type": "scatter",
         "x": [
          -0.12776709487089863,
          0.11815707188034474
         ],
         "y": [
          -0.13201843882764794,
          -0.07442264680581974
         ]
        },
        {
         "hoverinfo": "text",
         "line": {
          "color": "rgba(128, 128, 128, 0.1)",
          "width": 1
         },
         "mode": "lines",
         "text": "1.0",
         "type": "scatter",
         "x": [
          -0.12776709487089863,
          -0.03383436954673177
         ],
         "y": [
          -0.13201843882764794,
          0.163279787590839
         ]
        },
        {
         "hoverinfo": "text",
         "line": {
          "color": "rgba(128, 128, 128, 0.1)",
          "width": 1
         },
         "mode": "lines",
         "text": "1.0",
         "type": "scatter",
         "x": [
          -0.12776709487089863,
          -0.1259222814179488
         ],
         "y": [
          -0.13201843882764794,
          0.10384437114009124
         ]
        },
        {
         "hoverinfo": "text",
         "line": {
          "color": "rgba(128, 128, 128, 0.1)",
          "width": 1
         },
         "mode": "lines",
         "text": "1.0",
         "type": "scatter",
         "x": [
          -0.12776709487089863,
          0.19326865043805733
         ],
         "y": [
          -0.13201843882764794,
          0.029314955041528992
         ]
        },
        {
         "hoverinfo": "text",
         "line": {
          "color": "rgba(128, 128, 128, 0.1)",
          "width": 1
         },
         "mode": "lines",
         "text": "1.0",
         "type": "scatter",
         "x": [
          -0.12776709487089863,
          -0.016023919840118115
         ],
         "y": [
          -0.13201843882764794,
          0.06551360928329812
         ]
        },
        {
         "hoverinfo": "text",
         "line": {
          "color": "rgba(128, 128, 128, 0.1)",
          "width": 1
         },
         "mode": "lines",
         "text": "1.0",
         "type": "scatter",
         "x": [
          -0.12776709487089863,
          0.1033115932177682
         ],
         "y": [
          -0.13201843882764794,
          0.07607086985225013
         ]
        },
        {
         "hoverinfo": "text",
         "line": {
          "color": "rgba(128, 128, 128, 0.1)",
          "width": 1
         },
         "mode": "lines",
         "text": "1.0",
         "type": "scatter",
         "x": [
          -0.12776709487089863,
          -0.07624885500352627
         ],
         "y": [
          -0.13201843882764794,
          0.15917288408740757
         ]
        },
        {
         "hoverinfo": "text",
         "line": {
          "color": "rgba(128, 128, 128, 0.1)",
          "width": 1
         },
         "mode": "lines",
         "text": "1.0",
         "type": "scatter",
         "x": [
          0.12457960723897601,
          0.038865278775735576
         ],
         "y": [
          -0.11512220422049145,
          -0.20376826594898925
         ]
        },
        {
         "hoverinfo": "text",
         "line": {
          "color": "rgba(128, 128, 128, 0.1)",
          "width": 1
         },
         "mode": "lines",
         "text": "1.0",
         "type": "scatter",
         "x": [
          0.12457960723897601,
          0.08165673758741265
         ],
         "y": [
          -0.11512220422049145,
          -0.16334315634167867
         ]
        },
        {
         "hoverinfo": "text",
         "line": {
          "color": "rgba(128, 128, 128, 0.1)",
          "width": 1
         },
         "mode": "lines",
         "text": "0.5",
         "type": "scatter",
         "x": [
          0.12457960723897601,
          0.11815707188034474
         ],
         "y": [
          -0.11512220422049145,
          -0.07442264680581974
         ]
        },
        {
         "hoverinfo": "text",
         "line": {
          "color": "rgba(128, 128, 128, 0.1)",
          "width": 1
         },
         "mode": "lines",
         "text": "1.0",
         "type": "scatter",
         "x": [
          0.12457960723897601,
          -0.03383436954673177
         ],
         "y": [
          -0.11512220422049145,
          0.163279787590839
         ]
        },
        {
         "hoverinfo": "text",
         "line": {
          "color": "rgba(128, 128, 128, 0.1)",
          "width": 1
         },
         "mode": "lines",
         "text": "1.0",
         "type": "scatter",
         "x": [
          0.12457960723897601,
          -0.1259222814179488
         ],
         "y": [
          -0.11512220422049145,
          0.10384437114009124
         ]
        },
        {
         "hoverinfo": "text",
         "line": {
          "color": "rgba(128, 128, 128, 0.1)",
          "width": 1
         },
         "mode": "lines",
         "text": "1.0",
         "type": "scatter",
         "x": [
          0.12457960723897601,
          0.19326865043805733
         ],
         "y": [
          -0.11512220422049145,
          0.029314955041528992
         ]
        },
        {
         "hoverinfo": "text",
         "line": {
          "color": "rgba(128, 128, 128, 0.1)",
          "width": 1
         },
         "mode": "lines",
         "text": "1.0",
         "type": "scatter",
         "x": [
          0.12457960723897601,
          -0.016023919840118115
         ],
         "y": [
          -0.11512220422049145,
          0.06551360928329812
         ]
        },
        {
         "hoverinfo": "text",
         "line": {
          "color": "rgba(128, 128, 128, 0.1)",
          "width": 1
         },
         "mode": "lines",
         "text": "1.0",
         "type": "scatter",
         "x": [
          0.12457960723897601,
          0.1033115932177682
         ],
         "y": [
          -0.11512220422049145,
          0.07607086985225013
         ]
        },
        {
         "hoverinfo": "text",
         "line": {
          "color": "rgba(128, 128, 128, 0.1)",
          "width": 1
         },
         "mode": "lines",
         "text": "1.0",
         "type": "scatter",
         "x": [
          0.12457960723897601,
          -0.07624885500352627
         ],
         "y": [
          -0.11512220422049145,
          0.15917288408740757
         ]
        },
        {
         "hoverinfo": "text",
         "line": {
          "color": "rgba(128, 128, 128, 0.1)",
          "width": 1
         },
         "mode": "lines",
         "text": "1.0",
         "type": "scatter",
         "x": [
          0.038865278775735576,
          0.08165673758741265
         ],
         "y": [
          -0.20376826594898925,
          -0.16334315634167867
         ]
        },
        {
         "hoverinfo": "text",
         "line": {
          "color": "rgba(128, 128, 128, 0.1)",
          "width": 1
         },
         "mode": "lines",
         "text": "0.5",
         "type": "scatter",
         "x": [
          0.038865278775735576,
          0.11815707188034474
         ],
         "y": [
          -0.20376826594898925,
          -0.07442264680581974
         ]
        },
        {
         "hoverinfo": "text",
         "line": {
          "color": "rgba(128, 128, 128, 0.1)",
          "width": 1
         },
         "mode": "lines",
         "text": "1.0",
         "type": "scatter",
         "x": [
          0.038865278775735576,
          -0.03383436954673177
         ],
         "y": [
          -0.20376826594898925,
          0.163279787590839
         ]
        },
        {
         "hoverinfo": "text",
         "line": {
          "color": "rgba(128, 128, 128, 0.1)",
          "width": 1
         },
         "mode": "lines",
         "text": "1.0",
         "type": "scatter",
         "x": [
          0.038865278775735576,
          -0.1259222814179488
         ],
         "y": [
          -0.20376826594898925,
          0.10384437114009124
         ]
        },
        {
         "hoverinfo": "text",
         "line": {
          "color": "rgba(128, 128, 128, 0.1)",
          "width": 1
         },
         "mode": "lines",
         "text": "1.0",
         "type": "scatter",
         "x": [
          0.038865278775735576,
          0.19326865043805733
         ],
         "y": [
          -0.20376826594898925,
          0.029314955041528992
         ]
        },
        {
         "hoverinfo": "text",
         "line": {
          "color": "rgba(128, 128, 128, 0.1)",
          "width": 1
         },
         "mode": "lines",
         "text": "1.0",
         "type": "scatter",
         "x": [
          0.038865278775735576,
          -0.016023919840118115
         ],
         "y": [
          -0.20376826594898925,
          0.06551360928329812
         ]
        },
        {
         "hoverinfo": "text",
         "line": {
          "color": "rgba(128, 128, 128, 0.1)",
          "width": 1
         },
         "mode": "lines",
         "text": "1.0",
         "type": "scatter",
         "x": [
          0.038865278775735576,
          0.1033115932177682
         ],
         "y": [
          -0.20376826594898925,
          0.07607086985225013
         ]
        },
        {
         "hoverinfo": "text",
         "line": {
          "color": "rgba(128, 128, 128, 0.1)",
          "width": 1
         },
         "mode": "lines",
         "text": "1.0",
         "type": "scatter",
         "x": [
          0.038865278775735576,
          -0.07624885500352627
         ],
         "y": [
          -0.20376826594898925,
          0.15917288408740757
         ]
        },
        {
         "hoverinfo": "text",
         "line": {
          "color": "rgba(128, 128, 128, 0.1)",
          "width": 1
         },
         "mode": "lines",
         "text": "0.5",
         "type": "scatter",
         "x": [
          0.08165673758741265,
          0.11815707188034474
         ],
         "y": [
          -0.16334315634167867,
          -0.07442264680581974
         ]
        },
        {
         "hoverinfo": "text",
         "line": {
          "color": "rgba(128, 128, 128, 0.1)",
          "width": 1
         },
         "mode": "lines",
         "text": "1.0",
         "type": "scatter",
         "x": [
          0.08165673758741265,
          -0.03383436954673177
         ],
         "y": [
          -0.16334315634167867,
          0.163279787590839
         ]
        },
        {
         "hoverinfo": "text",
         "line": {
          "color": "rgba(128, 128, 128, 0.1)",
          "width": 1
         },
         "mode": "lines",
         "text": "1.0",
         "type": "scatter",
         "x": [
          0.08165673758741265,
          -0.1259222814179488
         ],
         "y": [
          -0.16334315634167867,
          0.10384437114009124
         ]
        },
        {
         "hoverinfo": "text",
         "line": {
          "color": "rgba(128, 128, 128, 0.1)",
          "width": 1
         },
         "mode": "lines",
         "text": "0.1111111111111111",
         "type": "scatter",
         "x": [
          0.08165673758741265,
          0.19326865043805733
         ],
         "y": [
          -0.16334315634167867,
          0.029314955041528992
         ]
        },
        {
         "hoverinfo": "text",
         "line": {
          "color": "rgba(128, 128, 128, 0.1)",
          "width": 1
         },
         "mode": "lines",
         "text": "1.0",
         "type": "scatter",
         "x": [
          0.08165673758741265,
          -0.016023919840118115
         ],
         "y": [
          -0.16334315634167867,
          0.06551360928329812
         ]
        },
        {
         "hoverinfo": "text",
         "line": {
          "color": "rgba(128, 128, 128, 0.1)",
          "width": 1
         },
         "mode": "lines",
         "text": "1.0",
         "type": "scatter",
         "x": [
          0.08165673758741265,
          0.1033115932177682
         ],
         "y": [
          -0.16334315634167867,
          0.07607086985225013
         ]
        },
        {
         "hoverinfo": "text",
         "line": {
          "color": "rgba(128, 128, 128, 0.1)",
          "width": 1
         },
         "mode": "lines",
         "text": "1.0",
         "type": "scatter",
         "x": [
          0.08165673758741265,
          -0.07624885500352627
         ],
         "y": [
          -0.16334315634167867,
          0.15917288408740757
         ]
        },
        {
         "hoverinfo": "text",
         "line": {
          "color": "rgba(128, 128, 128, 0.1)",
          "width": 1
         },
         "mode": "lines",
         "text": "0.5",
         "type": "scatter",
         "x": [
          0.11815707188034474,
          -0.03383436954673177
         ],
         "y": [
          -0.07442264680581974,
          0.163279787590839
         ]
        },
        {
         "hoverinfo": "text",
         "line": {
          "color": "rgba(128, 128, 128, 0.1)",
          "width": 1
         },
         "mode": "lines",
         "text": "0.5",
         "type": "scatter",
         "x": [
          0.11815707188034474,
          -0.1259222814179488
         ],
         "y": [
          -0.07442264680581974,
          0.10384437114009124
         ]
        },
        {
         "hoverinfo": "text",
         "line": {
          "color": "rgba(128, 128, 128, 0.1)",
          "width": 1
         },
         "mode": "lines",
         "text": "0.1",
         "type": "scatter",
         "x": [
          0.11815707188034474,
          0.19326865043805733
         ],
         "y": [
          -0.07442264680581974,
          0.029314955041528992
         ]
        },
        {
         "hoverinfo": "text",
         "line": {
          "color": "rgba(128, 128, 128, 0.1)",
          "width": 1
         },
         "mode": "lines",
         "text": "0.5",
         "type": "scatter",
         "x": [
          0.11815707188034474,
          -0.016023919840118115
         ],
         "y": [
          -0.07442264680581974,
          0.06551360928329812
         ]
        },
        {
         "hoverinfo": "text",
         "line": {
          "color": "rgba(128, 128, 128, 0.1)",
          "width": 1
         },
         "mode": "lines",
         "text": "0.5",
         "type": "scatter",
         "x": [
          0.11815707188034474,
          0.1033115932177682
         ],
         "y": [
          -0.07442264680581974,
          0.07607086985225013
         ]
        },
        {
         "hoverinfo": "text",
         "line": {
          "color": "rgba(128, 128, 128, 0.1)",
          "width": 1
         },
         "mode": "lines",
         "text": "0.5",
         "type": "scatter",
         "x": [
          0.11815707188034474,
          -0.07624885500352627
         ],
         "y": [
          -0.07442264680581974,
          0.15917288408740757
         ]
        },
        {
         "hoverinfo": "text",
         "line": {
          "color": "rgba(128, 128, 128, 0.1)",
          "width": 1
         },
         "mode": "lines",
         "text": "0.125",
         "type": "scatter",
         "x": [
          0.12982972791201597,
          -0.03383436954673177
         ],
         "y": [
          0.475172174370953,
          0.163279787590839
         ]
        },
        {
         "hoverinfo": "text",
         "line": {
          "color": "rgba(128, 128, 128, 0.1)",
          "width": 1
         },
         "mode": "lines",
         "text": "0.125",
         "type": "scatter",
         "x": [
          0.12982972791201597,
          -0.1259222814179488
         ],
         "y": [
          0.475172174370953,
          0.10384437114009124
         ]
        },
        {
         "hoverinfo": "text",
         "line": {
          "color": "rgba(128, 128, 128, 0.1)",
          "width": 1
         },
         "mode": "lines",
         "text": "0.125",
         "type": "scatter",
         "x": [
          0.12982972791201597,
          0.19326865043805733
         ],
         "y": [
          0.475172174370953,
          0.029314955041528992
         ]
        },
        {
         "hoverinfo": "text",
         "line": {
          "color": "rgba(128, 128, 128, 0.1)",
          "width": 1
         },
         "mode": "lines",
         "text": "0.125",
         "type": "scatter",
         "x": [
          0.12982972791201597,
          -0.016023919840118115
         ],
         "y": [
          0.475172174370953,
          0.06551360928329812
         ]
        },
        {
         "hoverinfo": "text",
         "line": {
          "color": "rgba(128, 128, 128, 0.1)",
          "width": 1
         },
         "mode": "lines",
         "text": "0.5",
         "type": "scatter",
         "x": [
          0.12982972791201597,
          0.22749423081695774
         ],
         "y": [
          0.475172174370953,
          0.5945386924247043
         ]
        },
        {
         "hoverinfo": "text",
         "line": {
          "color": "rgba(128, 128, 128, 0.1)",
          "width": 1
         },
         "mode": "lines",
         "text": "0.125",
         "type": "scatter",
         "x": [
          0.12982972791201597,
          0.1033115932177682
         ],
         "y": [
          0.475172174370953,
          0.07607086985225013
         ]
        },
        {
         "hoverinfo": "text",
         "line": {
          "color": "rgba(128, 128, 128, 0.1)",
          "width": 1
         },
         "mode": "lines",
         "text": "0.125",
         "type": "scatter",
         "x": [
          0.12982972791201597,
          -0.07624885500352627
         ],
         "y": [
          0.475172174370953,
          0.15917288408740757
         ]
        },
        {
         "hoverinfo": "text",
         "line": {
          "color": "rgba(128, 128, 128, 0.1)",
          "width": 1
         },
         "mode": "lines",
         "text": "0.5",
         "type": "scatter",
         "x": [
          0.12982972791201597,
          0.4021723939909876
         ],
         "y": [
          0.475172174370953,
          0.6879062820355073
         ]
        },
        {
         "hoverinfo": "text",
         "line": {
          "color": "rgba(128, 128, 128, 0.1)",
          "width": 1
         },
         "mode": "lines",
         "text": "1.0",
         "type": "scatter",
         "x": [
          -0.03383436954673177,
          -0.1259222814179488
         ],
         "y": [
          0.163279787590839,
          0.10384437114009124
         ]
        },
        {
         "hoverinfo": "text",
         "line": {
          "color": "rgba(128, 128, 128, 0.1)",
          "width": 1
         },
         "mode": "lines",
         "text": "0.14285714285714285",
         "type": "scatter",
         "x": [
          -0.03383436954673177,
          0.19326865043805733
         ],
         "y": [
          0.163279787590839,
          0.029314955041528992
         ]
        },
        {
         "hoverinfo": "text",
         "line": {
          "color": "rgba(128, 128, 128, 0.1)",
          "width": 1
         },
         "mode": "lines",
         "text": "1.0",
         "type": "scatter",
         "x": [
          -0.03383436954673177,
          -0.016023919840118115
         ],
         "y": [
          0.163279787590839,
          0.06551360928329812
         ]
        },
        {
         "hoverinfo": "text",
         "line": {
          "color": "rgba(128, 128, 128, 0.1)",
          "width": 1
         },
         "mode": "lines",
         "text": "1.0",
         "type": "scatter",
         "x": [
          -0.03383436954673177,
          0.1033115932177682
         ],
         "y": [
          0.163279787590839,
          0.07607086985225013
         ]
        },
        {
         "hoverinfo": "text",
         "line": {
          "color": "rgba(128, 128, 128, 0.1)",
          "width": 1
         },
         "mode": "lines",
         "text": "1.0",
         "type": "scatter",
         "x": [
          -0.03383436954673177,
          -0.07624885500352627
         ],
         "y": [
          0.163279787590839,
          0.15917288408740757
         ]
        },
        {
         "hoverinfo": "text",
         "line": {
          "color": "rgba(128, 128, 128, 0.1)",
          "width": 1
         },
         "mode": "lines",
         "text": "1.0",
         "type": "scatter",
         "x": [
          -0.1259222814179488,
          0.19326865043805733
         ],
         "y": [
          0.10384437114009124,
          0.029314955041528992
         ]
        },
        {
         "hoverinfo": "text",
         "line": {
          "color": "rgba(128, 128, 128, 0.1)",
          "width": 1
         },
         "mode": "lines",
         "text": "1.0",
         "type": "scatter",
         "x": [
          -0.1259222814179488,
          -0.016023919840118115
         ],
         "y": [
          0.10384437114009124,
          0.06551360928329812
         ]
        },
        {
         "hoverinfo": "text",
         "line": {
          "color": "rgba(128, 128, 128, 0.1)",
          "width": 1
         },
         "mode": "lines",
         "text": "1.0",
         "type": "scatter",
         "x": [
          -0.1259222814179488,
          0.1033115932177682
         ],
         "y": [
          0.10384437114009124,
          0.07607086985225013
         ]
        },
        {
         "hoverinfo": "text",
         "line": {
          "color": "rgba(128, 128, 128, 0.1)",
          "width": 1
         },
         "mode": "lines",
         "text": "1.0",
         "type": "scatter",
         "x": [
          -0.1259222814179488,
          -0.07624885500352627
         ],
         "y": [
          0.10384437114009124,
          0.15917288408740757
         ]
        },
        {
         "hoverinfo": "text",
         "line": {
          "color": "rgba(128, 128, 128, 0.1)",
          "width": 1
         },
         "mode": "lines",
         "text": "1.0",
         "type": "scatter",
         "x": [
          0.19326865043805733,
          -0.016023919840118115
         ],
         "y": [
          0.029314955041528992,
          0.06551360928329812
         ]
        },
        {
         "hoverinfo": "text",
         "line": {
          "color": "rgba(128, 128, 128, 0.1)",
          "width": 1
         },
         "mode": "lines",
         "text": "1.0",
         "type": "scatter",
         "x": [
          0.19326865043805733,
          0.1033115932177682
         ],
         "y": [
          0.029314955041528992,
          0.07607086985225013
         ]
        },
        {
         "hoverinfo": "text",
         "line": {
          "color": "rgba(128, 128, 128, 0.1)",
          "width": 1
         },
         "mode": "lines",
         "text": "1.0",
         "type": "scatter",
         "x": [
          0.19326865043805733,
          -0.07624885500352627
         ],
         "y": [
          0.029314955041528992,
          0.15917288408740757
         ]
        },
        {
         "hoverinfo": "text",
         "line": {
          "color": "rgba(128, 128, 128, 0.1)",
          "width": 1
         },
         "mode": "lines",
         "text": "1.0",
         "type": "scatter",
         "x": [
          -0.016023919840118115,
          0.1033115932177682
         ],
         "y": [
          0.06551360928329812,
          0.07607086985225013
         ]
        },
        {
         "hoverinfo": "text",
         "line": {
          "color": "rgba(128, 128, 128, 0.1)",
          "width": 1
         },
         "mode": "lines",
         "text": "1.0",
         "type": "scatter",
         "x": [
          -0.016023919840118115,
          -0.07624885500352627
         ],
         "y": [
          0.06551360928329812,
          0.15917288408740757
         ]
        },
        {
         "hoverinfo": "text",
         "line": {
          "color": "rgba(128, 128, 128, 0.1)",
          "width": 1
         },
         "mode": "lines",
         "text": "0.1111111111111111",
         "type": "scatter",
         "x": [
          0.22749423081695774,
          0.1033115932177682
         ],
         "y": [
          0.5945386924247043,
          0.07607086985225013
         ]
        },
        {
         "hoverinfo": "text",
         "line": {
          "color": "rgba(128, 128, 128, 0.1)",
          "width": 1
         },
         "mode": "lines",
         "text": "0.1111111111111111",
         "type": "scatter",
         "x": [
          0.22749423081695774,
          -0.07624885500352627
         ],
         "y": [
          0.5945386924247043,
          0.15917288408740757
         ]
        },
        {
         "hoverinfo": "text",
         "line": {
          "color": "rgba(128, 128, 128, 0.1)",
          "width": 1
         },
         "mode": "lines",
         "text": "1.0",
         "type": "scatter",
         "x": [
          0.22749423081695774,
          0.4021723939909876
         ],
         "y": [
          0.5945386924247043,
          0.6879062820355073
         ]
        },
        {
         "hoverinfo": "text",
         "line": {
          "color": "rgba(128, 128, 128, 0.1)",
          "width": 1
         },
         "mode": "lines",
         "text": "1.0",
         "type": "scatter",
         "x": [
          0.1033115932177682,
          -0.07624885500352627
         ],
         "y": [
          0.07607086985225013,
          0.15917288408740757
         ]
        },
        {
         "hoverinfo": "text",
         "marker": {
          "color": "blue",
          "size": 10
         },
         "mode": "markers",
         "text": "Escherichia coli",
         "type": "scatter",
         "x": [
          -0.2583523167209436
         ],
         "y": [
          -0.166410643615053
         ]
        },
        {
         "hoverinfo": "text",
         "marker": {
          "color": "blue",
          "size": 10
         },
         "mode": "markers",
         "text": "Klebsiella pneumoniae",
         "type": "scatter",
         "x": [
          -1
         ],
         "y": [
          -0.37123851121904544
         ]
        },
        {
         "hoverinfo": "text",
         "marker": {
          "color": "blue",
          "size": 10
         },
         "mode": "markers",
         "text": "Enterobacter hormaechei",
         "type": "scatter",
         "x": [
          0.14016843493274075
         ],
         "y": [
          0.14445909161881915
         ]
        },
        {
         "hoverinfo": "text",
         "marker": {
          "color": "blue",
          "size": 10
         },
         "mode": "markers",
         "text": "synthetic construct",
         "type": "scatter",
         "x": [
          -0.04788583108779725
         ],
         "y": [
          0.10005136769890415
         ]
        },
        {
         "hoverinfo": "text",
         "marker": {
          "color": "blue",
          "size": 10
         },
         "mode": "markers",
         "text": "synthetic construct",
         "type": "scatter",
         "x": [
          0.13207073494988414
         ],
         "y": [
          -0.17113014055814904
         ]
        },
        {
         "hoverinfo": "text",
         "marker": {
          "color": "blue",
          "size": 10
         },
         "mode": "markers",
         "text": "synthetic construct",
         "type": "scatter",
         "x": [
          0.03413611857295227
         ],
         "y": [
          -0.045261707280717836
         ]
        },
        {
         "hoverinfo": "text",
         "marker": {
          "color": "blue",
          "size": 10
         },
         "mode": "markers",
         "text": "synthetic construct",
         "type": "scatter",
         "x": [
          -0.010014981705735232
         ],
         "y": [
          -0.17904649574108236
         ]
        },
        {
         "hoverinfo": "text",
         "marker": {
          "color": "blue",
          "size": 10
         },
         "mode": "markers",
         "text": "Shigella sonnei",
         "type": "scatter",
         "x": [
          -0.1478754943400885
         ],
         "y": [
          -0.05958755541398896
         ]
        },
        {
         "hoverinfo": "text",
         "marker": {
          "color": "blue",
          "size": 10
         },
         "mode": "markers",
         "text": "synthetic construct",
         "type": "scatter",
         "x": [
          -0.16560984773244175
         ],
         "y": [
          -0.09578833518448984
         ]
        },
        {
         "hoverinfo": "text",
         "marker": {
          "color": "blue",
          "size": 10
         },
         "mode": "markers",
         "text": "synthetic construct",
         "type": "scatter",
         "x": [
          0.03707860110223772
         ],
         "y": [
          0.00854583238404772
         ]
        },
        {
         "hoverinfo": "text",
         "marker": {
          "color": "blue",
          "size": 10
         },
         "mode": "markers",
         "text": "synthetic construct",
         "type": "scatter",
         "x": [
          0.04744752919388708
         ],
         "y": [
          0.10862272596487159
         ]
        },
        {
         "hoverinfo": "text",
         "marker": {
          "color": "blue",
          "size": 10
         },
         "mode": "markers",
         "text": "synthetic construct",
         "type": "scatter",
         "x": [
          0.13253592542256595
         ],
         "y": [
          0.009048390466498206
         ]
        },
        {
         "hoverinfo": "text",
         "marker": {
          "color": "blue",
          "size": 10
         },
         "mode": "markers",
         "text": "synthetic construct",
         "type": "scatter",
         "x": [
          -0.0722360939739467
         ],
         "y": [
          -0.02327822460820892
         ]
        },
        {
         "hoverinfo": "text",
         "marker": {
          "color": "blue",
          "size": 10
         },
         "mode": "markers",
         "text": "Enterobacteriaceae",
         "type": "scatter",
         "x": [
          -0.057865789733090485
         ],
         "y": [
          -0.16208756461034668
         ]
        },
        {
         "hoverinfo": "text",
         "marker": {
          "color": "blue",
          "size": 10
         },
         "mode": "markers",
         "text": "synthetic construct",
         "type": "scatter",
         "x": [
          0.03528399353489137
         ],
         "y": [
          0.06629787652916196
         ]
        },
        {
         "hoverinfo": "text",
         "marker": {
          "color": "blue",
          "size": 10
         },
         "mode": "markers",
         "text": "synthetic construct",
         "type": "scatter",
         "x": [
          -0.07466938126855868
         ],
         "y": [
          -0.11999046444602385
         ]
        },
        {
         "hoverinfo": "text",
         "marker": {
          "color": "blue",
          "size": 10
         },
         "mode": "markers",
         "text": "Bacteria",
         "type": "scatter",
         "x": [
          -0.09384834518561819
         ],
         "y": [
          0.024450807633515183
         ]
        },
        {
         "hoverinfo": "text",
         "marker": {
          "color": "blue",
          "size": 10
         },
         "mode": "markers",
         "text": "Escherichia coli",
         "type": "scatter",
         "x": [
          -0.1378008616166141
         ],
         "y": [
          0.007535428796133289
         ]
        },
        {
         "hoverinfo": "text",
         "marker": {
          "color": "blue",
          "size": 10
         },
         "mode": "markers",
         "text": "synthetic construct",
         "type": "scatter",
         "x": [
          -0.0949504079612341
         ],
         "y": [
          -0.19337885839804358
         ]
        },
        {
         "hoverinfo": "text",
         "marker": {
          "color": "blue",
          "size": 10
         },
         "mode": "markers",
         "text": "synthetic construct",
         "type": "scatter",
         "x": [
          0.20147609498213323
         ],
         "y": [
          -0.048153245566312
         ]
        },
        {
         "hoverinfo": "text",
         "marker": {
          "color": "blue",
          "size": 10
         },
         "mode": "markers",
         "text": "synthetic construct",
         "type": "scatter",
         "x": [
          -0.09323660092102859
         ],
         "y": [
          -0.07360207809045516
         ]
        },
        {
         "hoverinfo": "text",
         "marker": {
          "color": "blue",
          "size": 10
         },
         "mode": "markers",
         "text": "synthetic construct",
         "type": "scatter",
         "x": [
          -0.07163226007633516
         ],
         "y": [
          0.06034094509750427
         ]
        },
        {
         "hoverinfo": "text",
         "marker": {
          "color": "blue",
          "size": 10
         },
         "mode": "markers",
         "text": "synthetic construct",
         "type": "scatter",
         "x": [
          0.08727096597073872
         ],
         "y": [
          -0.020547012131089108
         ]
        },
        {
         "hoverinfo": "text",
         "marker": {
          "color": "blue",
          "size": 10
         },
         "mode": "markers",
         "text": "Salmonella enterica subsp. enterica serovar Ohio",
         "type": "scatter",
         "x": [
          0.1685312976731628
         ],
         "y": [
          -0.117055298414665
         ]
        },
        {
         "hoverinfo": "text",
         "marker": {
          "color": "blue",
          "size": 10
         },
         "mode": "markers",
         "text": "synthetic construct",
         "type": "scatter",
         "x": [
          -0.02390725817653629
         ],
         "y": [
          -0.03215261167696534
         ]
        },
        {
         "hoverinfo": "text",
         "marker": {
          "color": "blue",
          "size": 10
         },
         "mode": "markers",
         "text": "synthetic construct",
         "type": "scatter",
         "x": [
          -0.16344201769829808
         ],
         "y": [
          0.0429638835733472
         ]
        },
        {
         "hoverinfo": "text",
         "marker": {
          "color": "blue",
          "size": 10
         },
         "mode": "markers",
         "text": "synthetic construct",
         "type": "scatter",
         "x": [
          0.166123141387588
         ],
         "y": [
          0.06166865831771715
         ]
        },
        {
         "hoverinfo": "text",
         "marker": {
          "color": "blue",
          "size": 10
         },
         "mode": "markers",
         "text": "synthetic construct",
         "type": "scatter",
         "x": [
          -0.019578528041053832
         ],
         "y": [
          -0.1014197181777017
         ]
        },
        {
         "hoverinfo": "text",
         "marker": {
          "color": "blue",
          "size": 10
         },
         "mode": "markers",
         "text": "synthetic construct",
         "type": "scatter",
         "x": [
          -0.032465231272888105
         ],
         "y": [
          -0.2182550854092832
         ]
        },
        {
         "hoverinfo": "text",
         "marker": {
          "color": "blue",
          "size": 10
         },
         "mode": "markers",
         "text": "Escherichia coli",
         "type": "scatter",
         "x": [
          0.04648405342682209
         ],
         "y": [
          -0.10445288949657033
         ]
        },
        {
         "hoverinfo": "text",
         "marker": {
          "color": "blue",
          "size": 10
         },
         "mode": "markers",
         "text": "Klebsiella pneumoniae",
         "type": "scatter",
         "x": [
          0.035485360010484135
         ],
         "y": [
          -0.15179063124126993
         ]
        },
        {
         "hoverinfo": "text",
         "marker": {
          "color": "blue",
          "size": 10
         },
         "mode": "markers",
         "text": "synthetic construct",
         "type": "scatter",
         "x": [
          0.14845479866159975
         ],
         "y": [
          -0.042722723058193156
         ]
        },
        {
         "hoverinfo": "text",
         "marker": {
          "color": "blue",
          "size": 10
         },
         "mode": "markers",
         "text": "synthetic construct",
         "type": "scatter",
         "x": [
          0.10002362627778762
         ],
         "y": [
          0.10501116025785338
         ]
        },
        {
         "hoverinfo": "text",
         "marker": {
          "color": "blue",
          "size": 10
         },
         "mode": "markers",
         "text": "synthetic construct",
         "type": "scatter",
         "x": [
          -0.16620124598482677
         ],
         "y": [
          -0.01909129302872234
         ]
        },
        {
         "hoverinfo": "text",
         "marker": {
          "color": "blue",
          "size": 10
         },
         "mode": "markers",
         "text": "Escherichia coli",
         "type": "scatter",
         "x": [
          0.10254243804351508
         ],
         "y": [
          -0.2532800348604361
         ]
        },
        {
         "hoverinfo": "text",
         "marker": {
          "color": "blue",
          "size": 10
         },
         "mode": "markers",
         "text": "Neisseria gonorrhoeae",
         "type": "scatter",
         "x": [
          0.005294593386108596
         ],
         "y": [
          0.13730846316385836
         ]
        },
        {
         "hoverinfo": "text",
         "marker": {
          "color": "blue",
          "size": 10
         },
         "mode": "markers",
         "text": "Klebsiella pneumoniae",
         "type": "scatter",
         "x": [
          0.07162601478889682
         ],
         "y": [
          0.22727757704262716
         ]
        },
        {
         "hoverinfo": "text",
         "marker": {
          "color": "blue",
          "size": 10
         },
         "mode": "markers",
         "text": "Gluconobacter cerevisiae",
         "type": "scatter",
         "x": [
          -0.12776709487089863
         ],
         "y": [
          -0.13201843882764794
         ]
        },
        {
         "hoverinfo": "text",
         "marker": {
          "color": "blue",
          "size": 10
         },
         "mode": "markers",
         "text": "synthetic construct",
         "type": "scatter",
         "x": [
          0.12457960723897601
         ],
         "y": [
          -0.11512220422049145
         ]
        },
        {
         "hoverinfo": "text",
         "marker": {
          "color": "blue",
          "size": 10
         },
         "mode": "markers",
         "text": "synthetic construct",
         "type": "scatter",
         "x": [
          0.038865278775735576
         ],
         "y": [
          -0.20376826594898925
         ]
        },
        {
         "hoverinfo": "text",
         "marker": {
          "color": "blue",
          "size": 10
         },
         "mode": "markers",
         "text": "synthetic construct",
         "type": "scatter",
         "x": [
          0.08165673758741265
         ],
         "y": [
          -0.16334315634167867
         ]
        },
        {
         "hoverinfo": "text",
         "marker": {
          "color": "blue",
          "size": 10
         },
         "mode": "markers",
         "text": "Enterobacteriaceae",
         "type": "scatter",
         "x": [
          0.11815707188034474
         ],
         "y": [
          -0.07442264680581974
         ]
        },
        {
         "hoverinfo": "text",
         "marker": {
          "color": "blue",
          "size": 10
         },
         "mode": "markers",
         "text": "Enterobacterales",
         "type": "scatter",
         "x": [
          0.12982972791201597
         ],
         "y": [
          0.475172174370953
         ]
        },
        {
         "hoverinfo": "text",
         "marker": {
          "color": "blue",
          "size": 10
         },
         "mode": "markers",
         "text": "synthetic construct",
         "type": "scatter",
         "x": [
          -0.03383436954673177
         ],
         "y": [
          0.163279787590839
         ]
        },
        {
         "hoverinfo": "text",
         "marker": {
          "color": "blue",
          "size": 10
         },
         "mode": "markers",
         "text": "synthetic construct",
         "type": "scatter",
         "x": [
          -0.1259222814179488
         ],
         "y": [
          0.10384437114009124
         ]
        },
        {
         "hoverinfo": "text",
         "marker": {
          "color": "blue",
          "size": 10
         },
         "mode": "markers",
         "text": "synthetic construct",
         "type": "scatter",
         "x": [
          0.19326865043805733
         ],
         "y": [
          0.029314955041528992
         ]
        },
        {
         "hoverinfo": "text",
         "marker": {
          "color": "blue",
          "size": 10
         },
         "mode": "markers",
         "text": "Salmonella enterica",
         "type": "scatter",
         "x": [
          -0.016023919840118115
         ],
         "y": [
          0.06551360928329812
         ]
        },
        {
         "hoverinfo": "text",
         "marker": {
          "color": "blue",
          "size": 10
         },
         "mode": "markers",
         "text": "Escherichia coli",
         "type": "scatter",
         "x": [
          0.22749423081695774
         ],
         "y": [
          0.5945386924247043
         ]
        },
        {
         "hoverinfo": "text",
         "marker": {
          "color": "blue",
          "size": 10
         },
         "mode": "markers",
         "text": "Escherichia coli",
         "type": "scatter",
         "x": [
          0.1033115932177682
         ],
         "y": [
          0.07607086985225013
         ]
        },
        {
         "hoverinfo": "text",
         "marker": {
          "color": "blue",
          "size": 10
         },
         "mode": "markers",
         "text": "synthetic construct",
         "type": "scatter",
         "x": [
          -0.07624885500352627
         ],
         "y": [
          0.15917288408740757
         ]
        },
        {
         "hoverinfo": "text",
         "marker": {
          "color": "blue",
          "size": 10
         },
         "mode": "markers",
         "text": "Escherichia coli",
         "type": "scatter",
         "x": [
          0.4021723939909876
         ],
         "y": [
          0.6879062820355073
         ]
        }
       ],
       "layout": {
        "hovermode": "closest",
        "margin": {
         "b": 0,
         "l": 0,
         "r": 0,
         "t": 0
        },
        "plot_bgcolor": "white",
        "showlegend": false,
        "template": {
         "data": {
          "bar": [
           {
            "error_x": {
             "color": "#2a3f5f"
            },
            "error_y": {
             "color": "#2a3f5f"
            },
            "marker": {
             "line": {
              "color": "#E5ECF6",
              "width": 0.5
             },
             "pattern": {
              "fillmode": "overlay",
              "size": 10,
              "solidity": 0.2
             }
            },
            "type": "bar"
           }
          ],
          "barpolar": [
           {
            "marker": {
             "line": {
              "color": "#E5ECF6",
              "width": 0.5
             },
             "pattern": {
              "fillmode": "overlay",
              "size": 10,
              "solidity": 0.2
             }
            },
            "type": "barpolar"
           }
          ],
          "carpet": [
           {
            "aaxis": {
             "endlinecolor": "#2a3f5f",
             "gridcolor": "white",
             "linecolor": "white",
             "minorgridcolor": "white",
             "startlinecolor": "#2a3f5f"
            },
            "baxis": {
             "endlinecolor": "#2a3f5f",
             "gridcolor": "white",
             "linecolor": "white",
             "minorgridcolor": "white",
             "startlinecolor": "#2a3f5f"
            },
            "type": "carpet"
           }
          ],
          "choropleth": [
           {
            "colorbar": {
             "outlinewidth": 0,
             "ticks": ""
            },
            "type": "choropleth"
           }
          ],
          "contour": [
           {
            "colorbar": {
             "outlinewidth": 0,
             "ticks": ""
            },
            "colorscale": [
             [
              0,
              "#0d0887"
             ],
             [
              0.1111111111111111,
              "#46039f"
             ],
             [
              0.2222222222222222,
              "#7201a8"
             ],
             [
              0.3333333333333333,
              "#9c179e"
             ],
             [
              0.4444444444444444,
              "#bd3786"
             ],
             [
              0.5555555555555556,
              "#d8576b"
             ],
             [
              0.6666666666666666,
              "#ed7953"
             ],
             [
              0.7777777777777778,
              "#fb9f3a"
             ],
             [
              0.8888888888888888,
              "#fdca26"
             ],
             [
              1,
              "#f0f921"
             ]
            ],
            "type": "contour"
           }
          ],
          "contourcarpet": [
           {
            "colorbar": {
             "outlinewidth": 0,
             "ticks": ""
            },
            "type": "contourcarpet"
           }
          ],
          "heatmap": [
           {
            "colorbar": {
             "outlinewidth": 0,
             "ticks": ""
            },
            "colorscale": [
             [
              0,
              "#0d0887"
             ],
             [
              0.1111111111111111,
              "#46039f"
             ],
             [
              0.2222222222222222,
              "#7201a8"
             ],
             [
              0.3333333333333333,
              "#9c179e"
             ],
             [
              0.4444444444444444,
              "#bd3786"
             ],
             [
              0.5555555555555556,
              "#d8576b"
             ],
             [
              0.6666666666666666,
              "#ed7953"
             ],
             [
              0.7777777777777778,
              "#fb9f3a"
             ],
             [
              0.8888888888888888,
              "#fdca26"
             ],
             [
              1,
              "#f0f921"
             ]
            ],
            "type": "heatmap"
           }
          ],
          "heatmapgl": [
           {
            "colorbar": {
             "outlinewidth": 0,
             "ticks": ""
            },
            "colorscale": [
             [
              0,
              "#0d0887"
             ],
             [
              0.1111111111111111,
              "#46039f"
             ],
             [
              0.2222222222222222,
              "#7201a8"
             ],
             [
              0.3333333333333333,
              "#9c179e"
             ],
             [
              0.4444444444444444,
              "#bd3786"
             ],
             [
              0.5555555555555556,
              "#d8576b"
             ],
             [
              0.6666666666666666,
              "#ed7953"
             ],
             [
              0.7777777777777778,
              "#fb9f3a"
             ],
             [
              0.8888888888888888,
              "#fdca26"
             ],
             [
              1,
              "#f0f921"
             ]
            ],
            "type": "heatmapgl"
           }
          ],
          "histogram": [
           {
            "marker": {
             "pattern": {
              "fillmode": "overlay",
              "size": 10,
              "solidity": 0.2
             }
            },
            "type": "histogram"
           }
          ],
          "histogram2d": [
           {
            "colorbar": {
             "outlinewidth": 0,
             "ticks": ""
            },
            "colorscale": [
             [
              0,
              "#0d0887"
             ],
             [
              0.1111111111111111,
              "#46039f"
             ],
             [
              0.2222222222222222,
              "#7201a8"
             ],
             [
              0.3333333333333333,
              "#9c179e"
             ],
             [
              0.4444444444444444,
              "#bd3786"
             ],
             [
              0.5555555555555556,
              "#d8576b"
             ],
             [
              0.6666666666666666,
              "#ed7953"
             ],
             [
              0.7777777777777778,
              "#fb9f3a"
             ],
             [
              0.8888888888888888,
              "#fdca26"
             ],
             [
              1,
              "#f0f921"
             ]
            ],
            "type": "histogram2d"
           }
          ],
          "histogram2dcontour": [
           {
            "colorbar": {
             "outlinewidth": 0,
             "ticks": ""
            },
            "colorscale": [
             [
              0,
              "#0d0887"
             ],
             [
              0.1111111111111111,
              "#46039f"
             ],
             [
              0.2222222222222222,
              "#7201a8"
             ],
             [
              0.3333333333333333,
              "#9c179e"
             ],
             [
              0.4444444444444444,
              "#bd3786"
             ],
             [
              0.5555555555555556,
              "#d8576b"
             ],
             [
              0.6666666666666666,
              "#ed7953"
             ],
             [
              0.7777777777777778,
              "#fb9f3a"
             ],
             [
              0.8888888888888888,
              "#fdca26"
             ],
             [
              1,
              "#f0f921"
             ]
            ],
            "type": "histogram2dcontour"
           }
          ],
          "mesh3d": [
           {
            "colorbar": {
             "outlinewidth": 0,
             "ticks": ""
            },
            "type": "mesh3d"
           }
          ],
          "parcoords": [
           {
            "line": {
             "colorbar": {
              "outlinewidth": 0,
              "ticks": ""
             }
            },
            "type": "parcoords"
           }
          ],
          "pie": [
           {
            "automargin": true,
            "type": "pie"
           }
          ],
          "scatter": [
           {
            "fillpattern": {
             "fillmode": "overlay",
             "size": 10,
             "solidity": 0.2
            },
            "type": "scatter"
           }
          ],
          "scatter3d": [
           {
            "line": {
             "colorbar": {
              "outlinewidth": 0,
              "ticks": ""
             }
            },
            "marker": {
             "colorbar": {
              "outlinewidth": 0,
              "ticks": ""
             }
            },
            "type": "scatter3d"
           }
          ],
          "scattercarpet": [
           {
            "marker": {
             "colorbar": {
              "outlinewidth": 0,
              "ticks": ""
             }
            },
            "type": "scattercarpet"
           }
          ],
          "scattergeo": [
           {
            "marker": {
             "colorbar": {
              "outlinewidth": 0,
              "ticks": ""
             }
            },
            "type": "scattergeo"
           }
          ],
          "scattergl": [
           {
            "marker": {
             "colorbar": {
              "outlinewidth": 0,
              "ticks": ""
             }
            },
            "type": "scattergl"
           }
          ],
          "scattermapbox": [
           {
            "marker": {
             "colorbar": {
              "outlinewidth": 0,
              "ticks": ""
             }
            },
            "type": "scattermapbox"
           }
          ],
          "scatterpolar": [
           {
            "marker": {
             "colorbar": {
              "outlinewidth": 0,
              "ticks": ""
             }
            },
            "type": "scatterpolar"
           }
          ],
          "scatterpolargl": [
           {
            "marker": {
             "colorbar": {
              "outlinewidth": 0,
              "ticks": ""
             }
            },
            "type": "scatterpolargl"
           }
          ],
          "scatterternary": [
           {
            "marker": {
             "colorbar": {
              "outlinewidth": 0,
              "ticks": ""
             }
            },
            "type": "scatterternary"
           }
          ],
          "surface": [
           {
            "colorbar": {
             "outlinewidth": 0,
             "ticks": ""
            },
            "colorscale": [
             [
              0,
              "#0d0887"
             ],
             [
              0.1111111111111111,
              "#46039f"
             ],
             [
              0.2222222222222222,
              "#7201a8"
             ],
             [
              0.3333333333333333,
              "#9c179e"
             ],
             [
              0.4444444444444444,
              "#bd3786"
             ],
             [
              0.5555555555555556,
              "#d8576b"
             ],
             [
              0.6666666666666666,
              "#ed7953"
             ],
             [
              0.7777777777777778,
              "#fb9f3a"
             ],
             [
              0.8888888888888888,
              "#fdca26"
             ],
             [
              1,
              "#f0f921"
             ]
            ],
            "type": "surface"
           }
          ],
          "table": [
           {
            "cells": {
             "fill": {
              "color": "#EBF0F8"
             },
             "line": {
              "color": "white"
             }
            },
            "header": {
             "fill": {
              "color": "#C8D4E3"
             },
             "line": {
              "color": "white"
             }
            },
            "type": "table"
           }
          ]
         },
         "layout": {
          "annotationdefaults": {
           "arrowcolor": "#2a3f5f",
           "arrowhead": 0,
           "arrowwidth": 1
          },
          "autotypenumbers": "strict",
          "coloraxis": {
           "colorbar": {
            "outlinewidth": 0,
            "ticks": ""
           }
          },
          "colorscale": {
           "diverging": [
            [
             0,
             "#8e0152"
            ],
            [
             0.1,
             "#c51b7d"
            ],
            [
             0.2,
             "#de77ae"
            ],
            [
             0.3,
             "#f1b6da"
            ],
            [
             0.4,
             "#fde0ef"
            ],
            [
             0.5,
             "#f7f7f7"
            ],
            [
             0.6,
             "#e6f5d0"
            ],
            [
             0.7,
             "#b8e186"
            ],
            [
             0.8,
             "#7fbc41"
            ],
            [
             0.9,
             "#4d9221"
            ],
            [
             1,
             "#276419"
            ]
           ],
           "sequential": [
            [
             0,
             "#0d0887"
            ],
            [
             0.1111111111111111,
             "#46039f"
            ],
            [
             0.2222222222222222,
             "#7201a8"
            ],
            [
             0.3333333333333333,
             "#9c179e"
            ],
            [
             0.4444444444444444,
             "#bd3786"
            ],
            [
             0.5555555555555556,
             "#d8576b"
            ],
            [
             0.6666666666666666,
             "#ed7953"
            ],
            [
             0.7777777777777778,
             "#fb9f3a"
            ],
            [
             0.8888888888888888,
             "#fdca26"
            ],
            [
             1,
             "#f0f921"
            ]
           ],
           "sequentialminus": [
            [
             0,
             "#0d0887"
            ],
            [
             0.1111111111111111,
             "#46039f"
            ],
            [
             0.2222222222222222,
             "#7201a8"
            ],
            [
             0.3333333333333333,
             "#9c179e"
            ],
            [
             0.4444444444444444,
             "#bd3786"
            ],
            [
             0.5555555555555556,
             "#d8576b"
            ],
            [
             0.6666666666666666,
             "#ed7953"
            ],
            [
             0.7777777777777778,
             "#fb9f3a"
            ],
            [
             0.8888888888888888,
             "#fdca26"
            ],
            [
             1,
             "#f0f921"
            ]
           ]
          },
          "colorway": [
           "#636efa",
           "#EF553B",
           "#00cc96",
           "#ab63fa",
           "#FFA15A",
           "#19d3f3",
           "#FF6692",
           "#B6E880",
           "#FF97FF",
           "#FECB52"
          ],
          "font": {
           "color": "#2a3f5f"
          },
          "geo": {
           "bgcolor": "white",
           "lakecolor": "white",
           "landcolor": "#E5ECF6",
           "showlakes": true,
           "showland": true,
           "subunitcolor": "white"
          },
          "hoverlabel": {
           "align": "left"
          },
          "hovermode": "closest",
          "mapbox": {
           "style": "light"
          },
          "paper_bgcolor": "white",
          "plot_bgcolor": "#E5ECF6",
          "polar": {
           "angularaxis": {
            "gridcolor": "white",
            "linecolor": "white",
            "ticks": ""
           },
           "bgcolor": "#E5ECF6",
           "radialaxis": {
            "gridcolor": "white",
            "linecolor": "white",
            "ticks": ""
           }
          },
          "scene": {
           "xaxis": {
            "backgroundcolor": "#E5ECF6",
            "gridcolor": "white",
            "gridwidth": 2,
            "linecolor": "white",
            "showbackground": true,
            "ticks": "",
            "zerolinecolor": "white"
           },
           "yaxis": {
            "backgroundcolor": "#E5ECF6",
            "gridcolor": "white",
            "gridwidth": 2,
            "linecolor": "white",
            "showbackground": true,
            "ticks": "",
            "zerolinecolor": "white"
           },
           "zaxis": {
            "backgroundcolor": "#E5ECF6",
            "gridcolor": "white",
            "gridwidth": 2,
            "linecolor": "white",
            "showbackground": true,
            "ticks": "",
            "zerolinecolor": "white"
           }
          },
          "shapedefaults": {
           "line": {
            "color": "#2a3f5f"
           }
          },
          "ternary": {
           "aaxis": {
            "gridcolor": "white",
            "linecolor": "white",
            "ticks": ""
           },
           "baxis": {
            "gridcolor": "white",
            "linecolor": "white",
            "ticks": ""
           },
           "bgcolor": "#E5ECF6",
           "caxis": {
            "gridcolor": "white",
            "linecolor": "white",
            "ticks": ""
           }
          },
          "title": {
           "x": 0.05
          },
          "xaxis": {
           "automargin": true,
           "gridcolor": "white",
           "linecolor": "white",
           "ticks": "",
           "title": {
            "standoff": 15
           },
           "zerolinecolor": "white",
           "zerolinewidth": 2
          },
          "yaxis": {
           "automargin": true,
           "gridcolor": "white",
           "linecolor": "white",
           "ticks": "",
           "title": {
            "standoff": 15
           },
           "zerolinecolor": "white",
           "zerolinewidth": 2
          }
         }
        },
        "xaxis": {
         "visible": false
        },
        "yaxis": {
         "visible": false
        }
       }
      }
     },
     "metadata": {},
     "output_type": "display_data"
    }
   ],
   "source": [
    "pairwise_network(\n",
    "    alignments=alignments,\n",
    "    weight=\"identity\",\n",
    "    color=\"name\",\n",
    "    label=\"organism\",\n",
    "    cutoff=0.98,\n",
    ")"
   ]
  }
 ],
 "metadata": {
  "kernelspec": {
   "display_name": "pye",
   "language": "python",
   "name": "python3"
  },
  "language_info": {
   "codemirror_mode": {
    "name": "ipython",
    "version": 3
   },
   "file_extension": ".py",
   "mimetype": "text/x-python",
   "name": "python",
   "nbconvert_exporter": "python",
   "pygments_lexer": "ipython3",
   "version": "3.10.13"
  }
 },
 "nbformat": 4,
 "nbformat_minor": 2
}
