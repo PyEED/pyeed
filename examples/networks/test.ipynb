{
 "cells": [
  {
   "cell_type": "markdown",
   "metadata": {},
   "source": [
    "# Network Visualization"
   ]
  },
  {
   "cell_type": "code",
   "execution_count": 1,
   "metadata": {},
   "outputs": [],
   "source": [
    "%reload_ext autoreload\n",
    "%autoreload 2\n",
    "from pyeed.core import ProteinInfo, Alignment\n",
    "from pyeed.aligners import PairwiseAligner\n",
    "from pyeed.network import SequenceNetwork"
   ]
  },
  {
   "cell_type": "code",
   "execution_count": 2,
   "metadata": {},
   "outputs": [
    {
     "data": {
      "text/plain": [
       "ProteinInfo(id='proteininfo0', source_id='UCS38941.1', name='TEM1', sequence='MSASEMRAASERVGEERNSLPSVRNQVDIQVGLIGDAQVGKTSLMVKYVQNIFDEEYTQTLGVNFLKRKVSIRSTDIVFSLMDLGGQREFINMLPIATLGSSVIILLFDLTRPETLNSIKEWYRQALGLNDSAIPILVGTKYDLFIDLEEEYQEKVSKTSMKYAQVMDAPLIFCSTAKSINVQKIFKVALAKIFDLTLTIPEINEIGDPLLIYKELGSKKNKSKNSSKPRRRSPVDNENKELVSQPLNYGHTSE', organism=Organism(id='organism1', name='Nakaseomyces glabratus', taxonomy_id='5478', domain='Eukaryota', kingdom='Fungi', phylum='Ascomycota', tax_class='Saccharomycetes', order='Saccharomycetales', family='Saccharomycetaceae', genus='Nakaseomyces', species='Nakaseomyces glabratus'), citation=Citation(id='citation0', doi=None, pubmed_id=None, medline_id=None, year=None, authors=[]), family_name=None, regions=[ProteinRegion(id='proteinregion0', name='Spg1', spans=[Span(id='span0', start=28, end=210)], note='Septum-promoting GTPase (Spg1); cd04128', cross_reference='CDD:206701', type=None)], sites=[Site(id='site0', name='other', type='unannotated', positions=[28], cross_ref='CDD:206701'), Site(id='site1', name='other', type='unannotated', positions=[34], cross_ref='CDD:206701'), Site(id='site2', name='other', type='unannotated', positions=[36, 52, 58, 85, 139, 142, 174], cross_ref='CDD:206701'), Site(id='site3', name='other', type='unannotated', positions=[42, 57], cross_ref='CDD:206701'), Site(id='site4', name='other', type='unannotated', positions=[52, 57], cross_ref='CDD:206701'), Site(id='site5', name='other', type='unannotated', positions=[57, 61, 75, 77], cross_ref='CDD:206701'), Site(id='site6', name='other', type='unannotated', positions=[59], cross_ref='CDD:206701'), Site(id='site7', name='active', type='active', positions=[60, 62, 79, 81, 88, 92, 96, 98], cross_ref='CDD:206701'), Site(id='site8', name='other', type='unannotated', positions=[60, 63, 81, 89, 91, 93], cross_ref='CDD:206701'), Site(id='site9', name='other', type='unannotated', positions=[60], cross_ref='CDD:206701'), Site(id='site10', name='other', type='unannotated', positions=[77], cross_ref='CDD:206701'), Site(id='site11', name='other', type='unannotated', positions=[82], cross_ref='CDD:206701'), Site(id='site12', name='other', type='unannotated', positions=[85, 87], cross_ref='CDD:206701'), Site(id='site13', name='other', type='unannotated', positions=[88], cross_ref='CDD:206701'), Site(id='site14', name='other', type='unannotated', positions=[96], cross_ref='CDD:206701'), Site(id='site15', name='other', type='unannotated', positions=[105], cross_ref='CDD:206701'), Site(id='site16', name='other', type='unannotated', positions=[128], cross_ref='CDD:206701'), Site(id='site17', name='other', type='unannotated', positions=[139], cross_ref='CDD:206701'), Site(id='site18', name='other', type='unannotated', positions=[174], cross_ref='CDD:206701'), Site(id='site19', name='other', type='unannotated', positions=[189], cross_ref='CDD:206701')], coding_sequence_ref=DNARegion(id='CP060154.1', name=None, spans=[Span(id='span1', start=1590335, end=1591099)], note=None, cross_reference=None, type='coding sequence'), ec_number=None, mol_weight=None, substrates=[])"
      ]
     },
     "execution_count": 2,
     "metadata": {},
     "output_type": "execute_result"
    }
   ],
   "source": [
    "metTK = ProteinInfo.get_id(\"UCS38941.1\")\n",
    "metTK"
   ]
  },
  {
   "cell_type": "code",
   "execution_count": 3,
   "metadata": {},
   "outputs": [
    {
     "name": "stdout",
     "output_type": "stream",
     "text": [
      "🏃 Running BLAST\n",
      "⬇️ Fetching 200 protein entries from NCBI...\n",
      "⬇️ Fetching 194 taxonomy entries from NCBI...\n"
     ]
    }
   ],
   "source": [
    "# Run local blastp search\n",
    "blast_results = metTK.blastp(\n",
    "    db_path=\"/Users/max/Documents/GitHub/blast-db/data/source\",\n",
    "    n_hits=200,\n",
    ")"
   ]
  },
  {
   "cell_type": "markdown",
   "metadata": {},
   "source": [
    "## Multi Pairwise Alignment"
   ]
  },
  {
   "cell_type": "code",
   "execution_count": 4,
   "metadata": {},
   "outputs": [
    {
     "name": "stderr",
     "output_type": "stream",
     "text": [
      "⛓️ Running pairwise alignments: 100%|██████████| 20100/20100 [00:03<00:00, 5759.82it/s]\n"
     ]
    }
   ],
   "source": [
    "# Create and run alignment\n",
    "multi_parwise_alignments = Alignment.from_sequences(\n",
    "    blast_results, aligner=PairwiseAligner\n",
    ")"
   ]
  },
  {
   "cell_type": "code",
   "execution_count": 14,
   "metadata": {},
   "outputs": [
    {
     "data": {
      "application/vnd.plotly.v1+json": {
       "config": {
        "plotlyServerURL": "https://plot.ly"
       },
       "data": [
        {
         "customdata": [
          [
           "TEM1",
           null,
           "Eukaryota",
           "Fungi",
           "Ascomycota",
           "Saccharomycetes",
           "Saccharomycetales",
           "Saccharomycetaceae",
           "Nakaseomyces",
           "Nakaseomyces glabratus",
           null,
           null,
           "5478",
           0.0009292610655675982,
           -0.7050790189550928,
           -0.4048820475983027,
           0.2969327728783924
          ]
         ],
         "hovertemplate": "<b>%{customdata[0]}</b><br>Family Name: %{customdata[1]}<br>Domain: %{customdata[2]}<br>Kingdom: %{customdata[3]}</b><br>Phylum: %{customdata[4]}<br>Class: %{customdata[5]}<br>Order: %{customdata[6]}<br>Family: %{customdata[7]}<br>Genus: %{customdata[8]}<br>Species: %{customdata[9]}<br>EC Number: %{customdata[10]}<br>Mol Weight: %{customdata[11]}<br>Taxonomy ID: %{customdata[12]}<extra></extra>",
         "marker": {
          "color": "red",
          "size": 10,
          "symbol": "cross"
         },
         "mode": "markers",
         "text": "TEM1",
         "type": "scatter3d",
         "x": [
          -0.7050790189550928
         ],
         "y": [
          -0.4048820475983027
         ],
         "z": [
          0.2969327728783924
         ]
        },
        {
         "customdata": [
          [
           "mutant TEM1like protein",
           null,
           "Eukaryota",
           "Fungi",
           "Ascomycota",
           "Saccharomycetes",
           "Saccharomycetales",
           "Saccharomycetaceae",
           "Nakaseomyces",
           "Nakaseomyces glabratus",
           null,
           null,
           "5478",
           0.0009292610655675982,
           -0.6781354397362623,
           -0.41550640201778,
           0.32636298405504577
          ]
         ],
         "hovertemplate": "<b>%{customdata[0]}</b><br>Family Name: %{customdata[1]}<br>Domain: %{customdata[2]}<br>Kingdom: %{customdata[3]}</b><br>Phylum: %{customdata[4]}<br>Class: %{customdata[5]}<br>Order: %{customdata[6]}<br>Family: %{customdata[7]}<br>Genus: %{customdata[8]}<br>Species: %{customdata[9]}<br>EC Number: %{customdata[10]}<br>Mol Weight: %{customdata[11]}<br>Taxonomy ID: %{customdata[12]}<extra></extra>",
         "marker": {
          "color": "rgb(71, 190, 111)",
          "size": 6,
          "symbol": "circle"
         },
         "mode": "markers",
         "text": "mutant TEM1like protein",
         "type": "scatter3d",
         "x": [
          -0.6781354397362623
         ],
         "y": [
          -0.41550640201778
         ],
         "z": [
          0.32636298405504577
         ]
        },
        {
         "customdata": [
          [
           "BDH_1b_G0040270.mRNA.1.CDS.1",
           null,
           "Eukaryota",
           "Fungi",
           "Ascomycota",
           "Saccharomycetes",
           "Saccharomycetales",
           "Saccharomycetaceae",
           "Saccharomyces",
           "Saccharomyces cerevisiae",
           null,
           null,
           "4932",
           0.00029164275144174644,
           -0.7251455635464327,
           -0.42860575392488914,
           0.3529644219977342
          ]
         ],
         "hovertemplate": "<b>%{customdata[0]}</b><br>Family Name: %{customdata[1]}<br>Domain: %{customdata[2]}<br>Kingdom: %{customdata[3]}</b><br>Phylum: %{customdata[4]}<br>Class: %{customdata[5]}<br>Order: %{customdata[6]}<br>Family: %{customdata[7]}<br>Genus: %{customdata[8]}<br>Species: %{customdata[9]}<br>EC Number: %{customdata[10]}<br>Mol Weight: %{customdata[11]}<br>Taxonomy ID: %{customdata[12]}<extra></extra>",
         "marker": {
          "color": "rgb(63, 71, 136)",
          "size": 6,
          "symbol": "circle"
         },
         "mode": "markers",
         "text": "BDH_1b_G0040270.mRNA.1.CDS.1",
         "type": "scatter3d",
         "x": [
          -0.7251455635464327
         ],
         "y": [
          -0.42860575392488914
         ],
         "z": [
          0.3529644219977342
         ]
        },
        {
         "customdata": [
          [
           "TEM1-like protein",
           null,
           "Eukaryota",
           "Fungi",
           "Ascomycota",
           "Saccharomycetes",
           "Saccharomycetales",
           "Saccharomycetaceae",
           "Saccharomyces",
           "Saccharomyces kudriavzevii",
           null,
           null,
           "226230",
           0.0003196056456106707,
           -0.6881608019516406,
           -0.4425378754699324,
           0.36043620495489054
          ]
         ],
         "hovertemplate": "<b>%{customdata[0]}</b><br>Family Name: %{customdata[1]}<br>Domain: %{customdata[2]}<br>Kingdom: %{customdata[3]}</b><br>Phylum: %{customdata[4]}<br>Class: %{customdata[5]}<br>Order: %{customdata[6]}<br>Family: %{customdata[7]}<br>Genus: %{customdata[8]}<br>Species: %{customdata[9]}<br>EC Number: %{customdata[10]}<br>Mol Weight: %{customdata[11]}<br>Taxonomy ID: %{customdata[12]}<extra></extra>",
         "marker": {
          "color": "rgb(143, 214, 67)",
          "size": 6,
          "symbol": "circle"
         },
         "mode": "markers",
         "text": "TEM1-like protein",
         "type": "scatter3d",
         "x": [
          -0.6881608019516406
         ],
         "y": [
          -0.4425378754699324
         ],
         "z": [
          0.36043620495489054
         ]
        },
        {
         "customdata": [
          [
           "uncharacterized protein",
           null,
           "Eukaryota",
           "Fungi",
           "Ascomycota",
           "Saccharomycetes",
           "Saccharomycetales",
           "Saccharomycetaceae",
           "Torulaspora",
           "Torulaspora globosa",
           null,
           25809,
           "48254",
           0.001457575436846794,
           -0.6888458904174288,
           -0.47082853871514296,
           0.3064367667121927
          ]
         ],
         "hovertemplate": "<b>%{customdata[0]}</b><br>Family Name: %{customdata[1]}<br>Domain: %{customdata[2]}<br>Kingdom: %{customdata[3]}</b><br>Phylum: %{customdata[4]}<br>Class: %{customdata[5]}<br>Order: %{customdata[6]}<br>Family: %{customdata[7]}<br>Genus: %{customdata[8]}<br>Species: %{customdata[9]}<br>EC Number: %{customdata[10]}<br>Mol Weight: %{customdata[11]}<br>Taxonomy ID: %{customdata[12]}<extra></extra>",
         "marker": {
          "color": "rgb(71, 28, 109)",
          "size": 6,
          "symbol": "circle"
         },
         "mode": "markers",
         "text": "uncharacterized protein",
         "type": "scatter3d",
         "x": [
          -0.6888458904174288
         ],
         "y": [
          -0.47082853871514296
         ],
         "z": [
          0.3064367667121927
         ]
        },
        {
         "customdata": [
          [
           "hypothetical protein",
           null,
           "Eukaryota",
           "Fungi",
           "Ascomycota",
           "Saccharomycetes",
           "Saccharomycetales",
           "Saccharomycetaceae",
           "Torulaspora",
           "Torulaspora delbrueckii",
           null,
           25654,
           "4950",
           0.001457575436846794,
           -0.7194551149080203,
           -0.45556761701546733,
           0.28074063050944925
          ]
         ],
         "hovertemplate": "<b>%{customdata[0]}</b><br>Family Name: %{customdata[1]}<br>Domain: %{customdata[2]}<br>Kingdom: %{customdata[3]}</b><br>Phylum: %{customdata[4]}<br>Class: %{customdata[5]}<br>Order: %{customdata[6]}<br>Family: %{customdata[7]}<br>Genus: %{customdata[8]}<br>Species: %{customdata[9]}<br>EC Number: %{customdata[10]}<br>Mol Weight: %{customdata[11]}<br>Taxonomy ID: %{customdata[12]}<extra></extra>",
         "marker": {
          "color": "rgb(163, 218, 54)",
          "size": 6,
          "symbol": "circle"
         },
         "mode": "markers",
         "text": "hypothetical protein",
         "type": "scatter3d",
         "x": [
          -0.7194551149080203
         ],
         "y": [
          -0.45556761701546733
         ],
         "z": [
          0.28074063050944925
         ]
        },
        {
         "customdata": [
          [
           "uncharacterized protein",
           null,
           "Eukaryota",
           "Fungi",
           "Ascomycota",
           "Saccharomycetes",
           "Saccharomycetales",
           "Saccharomycetaceae",
           "Zygotorulaspora",
           "Zygotorulaspora mrakii",
           null,
           29823,
           "42260",
           0.0007462029176853298,
           -0.7313908114615149,
           -0.4619619562489425,
           0.3183183342396775
          ]
         ],
         "hovertemplate": "<b>%{customdata[0]}</b><br>Family Name: %{customdata[1]}<br>Domain: %{customdata[2]}<br>Kingdom: %{customdata[3]}</b><br>Phylum: %{customdata[4]}<br>Class: %{customdata[5]}<br>Order: %{customdata[6]}<br>Family: %{customdata[7]}<br>Genus: %{customdata[8]}<br>Species: %{customdata[9]}<br>EC Number: %{customdata[10]}<br>Mol Weight: %{customdata[11]}<br>Taxonomy ID: %{customdata[12]}<extra></extra>",
         "marker": {
          "color": "rgb(72, 37, 117)",
          "size": 6,
          "symbol": "circle"
         },
         "mode": "markers",
         "text": "uncharacterized protein",
         "type": "scatter3d",
         "x": [
          -0.7313908114615149
         ],
         "y": [
          -0.4619619562489425
         ],
         "z": [
          0.3183183342396775
         ]
        },
        {
         "customdata": [
          [
           "TEM1 (YML064C)",
           null,
           "Eukaryota",
           "Fungi",
           "Ascomycota",
           "Saccharomycetes",
           "Saccharomycetales",
           "Saccharomycetaceae",
           "Zygosaccharomyces",
           "Zygosaccharomyces parabailii",
           null,
           null,
           "1365886",
           0.00004756361728723538,
           -0.7223184213157463,
           -0.4554138022809252,
           0.39020739627108436
          ]
         ],
         "hovertemplate": "<b>%{customdata[0]}</b><br>Family Name: %{customdata[1]}<br>Domain: %{customdata[2]}<br>Kingdom: %{customdata[3]}</b><br>Phylum: %{customdata[4]}<br>Class: %{customdata[5]}<br>Order: %{customdata[6]}<br>Family: %{customdata[7]}<br>Genus: %{customdata[8]}<br>Species: %{customdata[9]}<br>EC Number: %{customdata[10]}<br>Mol Weight: %{customdata[11]}<br>Taxonomy ID: %{customdata[12]}<extra></extra>",
         "marker": {
          "color": "rgb(186, 223, 43)",
          "size": 6,
          "symbol": "circle"
         },
         "mode": "markers",
         "text": "TEM1 (YML064C)",
         "type": "scatter3d",
         "x": [
          -0.7223184213157463
         ],
         "y": [
          -0.4554138022809252
         ],
         "z": [
          0.39020739627108436
         ]
        },
        {
         "customdata": [
          [
           "uncharacterized protein",
           null,
           "Eukaryota",
           "Fungi",
           "Ascomycota",
           "Saccharomycetes",
           "Saccharomycetales",
           "Saccharomycetaceae",
           "Zygosaccharomyces",
           "Zygosaccharomyces rouxii",
           null,
           25273,
           "4956",
           0.00013327536505928464,
           -0.7757963822264885,
           -0.4328277658813409,
           0.30137057625056607
          ]
         ],
         "hovertemplate": "<b>%{customdata[0]}</b><br>Family Name: %{customdata[1]}<br>Domain: %{customdata[2]}<br>Kingdom: %{customdata[3]}</b><br>Phylum: %{customdata[4]}<br>Class: %{customdata[5]}<br>Order: %{customdata[6]}<br>Family: %{customdata[7]}<br>Genus: %{customdata[8]}<br>Species: %{customdata[9]}<br>EC Number: %{customdata[10]}<br>Mol Weight: %{customdata[11]}<br>Taxonomy ID: %{customdata[12]}<extra></extra>",
         "marker": {
          "color": "rgb(183, 222, 43)",
          "size": 6,
          "symbol": "circle"
         },
         "mode": "markers",
         "text": "uncharacterized protein",
         "type": "scatter3d",
         "x": [
          -0.7757963822264885
         ],
         "y": [
          -0.4328277658813409
         ],
         "z": [
          0.30137057625056607
         ]
        },
        {
         "customdata": [
          [
           "hypothetical protein",
           null,
           "Eukaryota",
           "Fungi",
           "Ascomycota",
           "Saccharomycetes",
           "Saccharomycetales",
           "Saccharomycetaceae",
           "Naumovozyma",
           "Naumovozyma castellii",
           null,
           24980,
           "1064592",
           0.000033283299614957904,
           -0.718156677672203,
           -0.37434776288706584,
           0.3945110141339546
          ]
         ],
         "hovertemplate": "<b>%{customdata[0]}</b><br>Family Name: %{customdata[1]}<br>Domain: %{customdata[2]}<br>Kingdom: %{customdata[3]}</b><br>Phylum: %{customdata[4]}<br>Class: %{customdata[5]}<br>Order: %{customdata[6]}<br>Family: %{customdata[7]}<br>Genus: %{customdata[8]}<br>Species: %{customdata[9]}<br>EC Number: %{customdata[10]}<br>Mol Weight: %{customdata[11]}<br>Taxonomy ID: %{customdata[12]}<extra></extra>",
         "marker": {
          "color": "rgb(48, 106, 142)",
          "size": 6,
          "symbol": "circle"
         },
         "mode": "markers",
         "text": "hypothetical protein",
         "type": "scatter3d",
         "x": [
          -0.718156677672203
         ],
         "y": [
          -0.37434776288706584
         ],
         "z": [
          0.3945110141339546
         ]
        },
        {
         "customdata": [
          [
           "hypothetical protein",
           null,
           "Eukaryota",
           "Fungi",
           "Ascomycota",
           "Saccharomycetes",
           "Saccharomycetales",
           "Saccharomycetaceae",
           "Kazachstania",
           "Kazachstania africana",
           null,
           25907,
           "1071382",
           0.00006124619378388223,
           -0.7440416968612208,
           -0.36696959668927026,
           0.3566551170626133
          ]
         ],
         "hovertemplate": "<b>%{customdata[0]}</b><br>Family Name: %{customdata[1]}<br>Domain: %{customdata[2]}<br>Kingdom: %{customdata[3]}</b><br>Phylum: %{customdata[4]}<br>Class: %{customdata[5]}<br>Order: %{customdata[6]}<br>Family: %{customdata[7]}<br>Genus: %{customdata[8]}<br>Species: %{customdata[9]}<br>EC Number: %{customdata[10]}<br>Mol Weight: %{customdata[11]}<br>Taxonomy ID: %{customdata[12]}<extra></extra>",
         "marker": {
          "color": "rgb(68, 189, 112)",
          "size": 6,
          "symbol": "circle"
         },
         "mode": "markers",
         "text": "hypothetical protein",
         "type": "scatter3d",
         "x": [
          -0.7440416968612208
         ],
         "y": [
          -0.36696959668927026
         ],
         "z": [
          0.3566551170626133
         ]
        },
        {
         "customdata": [
          [
           "uncharacterized protein",
           null,
           "Eukaryota",
           "Fungi",
           "Ascomycota",
           "Saccharomycetes",
           "Saccharomycetales",
           "Saccharomycetaceae",
           "Vanderwaltozyma",
           "Vanderwaltozyma polyspora",
           null,
           24616,
           "436907",
           0.00006124619378388223,
           -0.579501802714895,
           -0.3306402531187846,
           0.297388299373859
          ]
         ],
         "hovertemplate": "<b>%{customdata[0]}</b><br>Family Name: %{customdata[1]}<br>Domain: %{customdata[2]}<br>Kingdom: %{customdata[3]}</b><br>Phylum: %{customdata[4]}<br>Class: %{customdata[5]}<br>Order: %{customdata[6]}<br>Family: %{customdata[7]}<br>Genus: %{customdata[8]}<br>Species: %{customdata[9]}<br>EC Number: %{customdata[10]}<br>Mol Weight: %{customdata[11]}<br>Taxonomy ID: %{customdata[12]}<extra></extra>",
         "marker": {
          "color": "rgb(89, 198, 100)",
          "size": 6,
          "symbol": "circle"
         },
         "mode": "markers",
         "text": "uncharacterized protein",
         "type": "scatter3d",
         "x": [
          -0.579501802714895
         ],
         "y": [
          -0.3306402531187846
         ],
         "z": [
          0.297388299373859
         ]
        },
        {
         "customdata": [
          [
           "hypothetical protein",
           null,
           "Eukaryota",
           "Fungi",
           "Ascomycota",
           "Saccharomycetes",
           "Saccharomycetales",
           "Saccharomycetaceae",
           "Tetrapisispora",
           "Tetrapisispora phaffii",
           null,
           33069,
           "1071381",
           0.00010320256237341663,
           -0.7734475812578304,
           -0.3957916760435367,
           0.32186935286967255
          ]
         ],
         "hovertemplate": "<b>%{customdata[0]}</b><br>Family Name: %{customdata[1]}<br>Domain: %{customdata[2]}<br>Kingdom: %{customdata[3]}</b><br>Phylum: %{customdata[4]}<br>Class: %{customdata[5]}<br>Order: %{customdata[6]}<br>Family: %{customdata[7]}<br>Genus: %{customdata[8]}<br>Species: %{customdata[9]}<br>EC Number: %{customdata[10]}<br>Mol Weight: %{customdata[11]}<br>Taxonomy ID: %{customdata[12]}<extra></extra>",
         "marker": {
          "color": "rgb(46, 112, 142)",
          "size": 6,
          "symbol": "circle"
         },
         "mode": "markers",
         "text": "hypothetical protein",
         "type": "scatter3d",
         "x": [
          -0.7734475812578304
         ],
         "y": [
          -0.3957916760435367
         ],
         "z": [
          0.32186935286967255
         ]
        },
        {
         "customdata": [
          [
           "similar to Saccharomyces cerevisiae YML064C TEM1 GTP-binding protein of the ras superfamily involved in termination of M-phase",
           null,
           "Eukaryota",
           "Fungi",
           "Ascomycota",
           "Saccharomycetes",
           "Saccharomycetales",
           "Saccharomycetaceae",
           "Kazachstania",
           "Kazachstania saulgeensis",
           null,
           null,
           "1789683",
           0.0014894535949812333,
           -0.7595805971153705,
           -0.33544837502835495,
           0.2924259696214455
          ]
         ],
         "hovertemplate": "<b>%{customdata[0]}</b><br>Family Name: %{customdata[1]}<br>Domain: %{customdata[2]}<br>Kingdom: %{customdata[3]}</b><br>Phylum: %{customdata[4]}<br>Class: %{customdata[5]}<br>Order: %{customdata[6]}<br>Family: %{customdata[7]}<br>Genus: %{customdata[8]}<br>Species: %{customdata[9]}<br>EC Number: %{customdata[10]}<br>Mol Weight: %{customdata[11]}<br>Taxonomy ID: %{customdata[12]}<extra></extra>",
         "marker": {
          "color": "rgb(94, 200, 97)",
          "size": 6,
          "symbol": "circle"
         },
         "mode": "markers",
         "text": "similar to Saccharomyces cerevisiae YML064C TEM1 GTP-binding protein of the ras superfamily involved in termination of M-phase",
         "type": "scatter3d",
         "x": [
          -0.7595805971153705
         ],
         "y": [
          -0.33544837502835495
         ],
         "z": [
          0.2924259696214455
         ]
        },
        {
         "customdata": [
          [
           "similar to Saccharomyces cerevisiae YML064C TEM1 GTP-binding protein of the ras superfamily involved in termination of M-phase",
           null,
           "Eukaryota",
           "Fungi",
           "Ascomycota",
           "Saccharomycetes",
           "Saccharomycetales",
           "Saccharomycetaceae",
           "Kazachstania",
           "Kazachstania barnettii",
           null,
           null,
           "61262",
           0.0014611026187659351,
           -0.7461200975056977,
           -0.31820210195855136,
           0.3125252588611134
          ]
         ],
         "hovertemplate": "<b>%{customdata[0]}</b><br>Family Name: %{customdata[1]}<br>Domain: %{customdata[2]}<br>Kingdom: %{customdata[3]}</b><br>Phylum: %{customdata[4]}<br>Class: %{customdata[5]}<br>Order: %{customdata[6]}<br>Family: %{customdata[7]}<br>Genus: %{customdata[8]}<br>Species: %{customdata[9]}<br>EC Number: %{customdata[10]}<br>Mol Weight: %{customdata[11]}<br>Taxonomy ID: %{customdata[12]}<extra></extra>",
         "marker": {
          "color": "rgb(190, 223, 42)",
          "size": 6,
          "symbol": "circle"
         },
         "mode": "markers",
         "text": "similar to Saccharomyces cerevisiae YML064C TEM1 GTP-binding protein of the ras superfamily involved in termination of M-phase",
         "type": "scatter3d",
         "x": [
          -0.7461200975056977
         ],
         "y": [
          -0.31820210195855136
         ],
         "z": [
          0.3125252588611134
         ]
        },
        {
         "customdata": [
          [
           "Ras GTPase tem1",
           null,
           "Eukaryota",
           "Fungi",
           "Ascomycota",
           "Saccharomycetes",
           "Saccharomycetales",
           "Saccharomycetaceae",
           "Kazachstania",
           "Kazachstania exigua",
           null,
           null,
           "34358",
           0.00021191636392641413,
           -0.7588735569238071,
           -0.4491584557434141,
           0.3775758286619848
          ]
         ],
         "hovertemplate": "<b>%{customdata[0]}</b><br>Family Name: %{customdata[1]}<br>Domain: %{customdata[2]}<br>Kingdom: %{customdata[3]}</b><br>Phylum: %{customdata[4]}<br>Class: %{customdata[5]}<br>Order: %{customdata[6]}<br>Family: %{customdata[7]}<br>Genus: %{customdata[8]}<br>Species: %{customdata[9]}<br>EC Number: %{customdata[10]}<br>Mol Weight: %{customdata[11]}<br>Taxonomy ID: %{customdata[12]}<extra></extra>",
         "marker": {
          "color": "rgb(55, 90, 140)",
          "size": 6,
          "symbol": "circle"
         },
         "mode": "markers",
         "text": "Ras GTPase tem1",
         "type": "scatter3d",
         "x": [
          -0.7588735569238071
         ],
         "y": [
          -0.4491584557434141
         ],
         "z": [
          0.3775758286619848
         ]
        },
        {
         "customdata": [
          [
           "hypothetical protein",
           null,
           "Eukaryota",
           "Fungi",
           "Ascomycota",
           "Saccharomycetes",
           "Saccharomycetales",
           "Saccharomycetaceae",
           "Kazachstania",
           "Kazachstania naganishii",
           null,
           25939,
           "1071383",
           0.00003775209993802958,
           -0.7831590271673043,
           -0.3934298796225905,
           0.3832847400441839
          ]
         ],
         "hovertemplate": "<b>%{customdata[0]}</b><br>Family Name: %{customdata[1]}<br>Domain: %{customdata[2]}<br>Kingdom: %{customdata[3]}</b><br>Phylum: %{customdata[4]}<br>Class: %{customdata[5]}<br>Order: %{customdata[6]}<br>Family: %{customdata[7]}<br>Genus: %{customdata[8]}<br>Species: %{customdata[9]}<br>EC Number: %{customdata[10]}<br>Mol Weight: %{customdata[11]}<br>Taxonomy ID: %{customdata[12]}<extra></extra>",
         "marker": {
          "color": "rgb(62, 73, 137)",
          "size": 6,
          "symbol": "circle"
         },
         "mode": "markers",
         "text": "hypothetical protein",
         "type": "scatter3d",
         "x": [
          -0.7831590271673043
         ],
         "y": [
          -0.3934298796225905
         ],
         "z": [
          0.3832847400441839
         ]
        },
        {
         "customdata": [
          [
           "hypothetical protein",
           null,
           "Eukaryota",
           "Fungi",
           "Ascomycota",
           "Saccharomycetes",
           "Saccharomycetales",
           "Saccharomycetaceae",
           "Naumovozyma",
           "Naumovozyma dairenensis",
           null,
           23681,
           "1071378",
           0,
           -0.6781092565082394,
           -0.3408040848919718,
           0.3961479617545414
          ]
         ],
         "hovertemplate": "<b>%{customdata[0]}</b><br>Family Name: %{customdata[1]}<br>Domain: %{customdata[2]}<br>Kingdom: %{customdata[3]}</b><br>Phylum: %{customdata[4]}<br>Class: %{customdata[5]}<br>Order: %{customdata[6]}<br>Family: %{customdata[7]}<br>Genus: %{customdata[8]}<br>Species: %{customdata[9]}<br>EC Number: %{customdata[10]}<br>Mol Weight: %{customdata[11]}<br>Taxonomy ID: %{customdata[12]}<extra></extra>",
         "marker": {
          "color": "rgb(72, 41, 120)",
          "size": 6,
          "symbol": "circle"
         },
         "mode": "markers",
         "text": "hypothetical protein",
         "type": "scatter3d",
         "x": [
          -0.6781092565082394
         ],
         "y": [
          -0.3408040848919718
         ],
         "z": [
          0.3961479617545414
         ]
        },
        {
         "customdata": [
          [
           "hypothetical protein",
           null,
           "Eukaryota",
           "Fungi",
           "Ascomycota",
           "Saccharomycetes",
           "Saccharomycetales",
           "Saccharomycetaceae",
           "Naumovozyma",
           "Naumovozyma castellii",
           null,
           24872,
           "1064592",
           0,
           -0.6176590568213086,
           -0.31912979231963523,
           0.2720716732674033
          ]
         ],
         "hovertemplate": "<b>%{customdata[0]}</b><br>Family Name: %{customdata[1]}<br>Domain: %{customdata[2]}<br>Kingdom: %{customdata[3]}</b><br>Phylum: %{customdata[4]}<br>Class: %{customdata[5]}<br>Order: %{customdata[6]}<br>Family: %{customdata[7]}<br>Genus: %{customdata[8]}<br>Species: %{customdata[9]}<br>EC Number: %{customdata[10]}<br>Mol Weight: %{customdata[11]}<br>Taxonomy ID: %{customdata[12]}<extra></extra>",
         "marker": {
          "color": "rgb(48, 106, 142)",
          "size": 6,
          "symbol": "circle"
         },
         "mode": "markers",
         "text": "hypothetical protein",
         "type": "scatter3d",
         "x": [
          -0.6176590568213086
         ],
         "y": [
          -0.31912979231963523
         ],
         "z": [
          0.2720716732674033
         ]
        },
        {
         "customdata": [
          [
           "Ras GTPase tem1",
           null,
           "Eukaryota",
           "Fungi",
           "Ascomycota",
           "Saccharomycetes",
           "Saccharomycetales",
           "Saccharomycetaceae",
           "Kazachstania",
           "Kazachstania unispora",
           null,
           null,
           "27294",
           0.000014357501794687724,
           -0.8021517843680098,
           -0.42243003310598654,
           0.3814714174480168
          ]
         ],
         "hovertemplate": "<b>%{customdata[0]}</b><br>Family Name: %{customdata[1]}<br>Domain: %{customdata[2]}<br>Kingdom: %{customdata[3]}</b><br>Phylum: %{customdata[4]}<br>Class: %{customdata[5]}<br>Order: %{customdata[6]}<br>Family: %{customdata[7]}<br>Genus: %{customdata[8]}<br>Species: %{customdata[9]}<br>EC Number: %{customdata[10]}<br>Mol Weight: %{customdata[11]}<br>Taxonomy ID: %{customdata[12]}<extra></extra>",
         "marker": {
          "color": "rgb(92, 199, 99)",
          "size": 6,
          "symbol": "circle"
         },
         "mode": "markers",
         "text": "Ras GTPase tem1",
         "type": "scatter3d",
         "x": [
          -0.8021517843680098
         ],
         "y": [
          -0.42243003310598654
         ],
         "z": [
          0.3814714174480168
         ]
        },
        {
         "customdata": [
          [
           "uncharacterized protein",
           null,
           "Eukaryota",
           "Fungi",
           "Ascomycota",
           "Saccharomycetes",
           "Saccharomycetales",
           "Saccharomycetaceae",
           "Kluyveromyces",
           "Kluyveromyces lactis",
           null,
           25038,
           "28985",
           0.0003082146078377234,
           -0.6858476180108678,
           -0.5519070530860906,
           0.30264628228506585
          ]
         ],
         "hovertemplate": "<b>%{customdata[0]}</b><br>Family Name: %{customdata[1]}<br>Domain: %{customdata[2]}<br>Kingdom: %{customdata[3]}</b><br>Phylum: %{customdata[4]}<br>Class: %{customdata[5]}<br>Order: %{customdata[6]}<br>Family: %{customdata[7]}<br>Genus: %{customdata[8]}<br>Species: %{customdata[9]}<br>EC Number: %{customdata[10]}<br>Mol Weight: %{customdata[11]}<br>Taxonomy ID: %{customdata[12]}<extra></extra>",
         "marker": {
          "color": "rgb(124, 209, 79)",
          "size": 6,
          "symbol": "circle"
         },
         "mode": "markers",
         "text": "uncharacterized protein",
         "type": "scatter3d",
         "x": [
          -0.6858476180108678
         ],
         "y": [
          -0.5519070530860906
         ],
         "z": [
          0.30264628228506585
         ]
        },
        {
         "customdata": [
          [
           "AER132Wp",
           null,
           "Eukaryota",
           "Fungi",
           "Ascomycota",
           "Saccharomycetes",
           "Saccharomycetales",
           "Saccharomycetaceae",
           "Eremothecium",
           "Eremothecium gossypii",
           null,
           26261,
           "284811",
           0.0006164290065043833,
           -0.7062634090936817,
           -0.5213849962923777,
           0.2562489959406958
          ]
         ],
         "hovertemplate": "<b>%{customdata[0]}</b><br>Family Name: %{customdata[1]}<br>Domain: %{customdata[2]}<br>Kingdom: %{customdata[3]}</b><br>Phylum: %{customdata[4]}<br>Class: %{customdata[5]}<br>Order: %{customdata[6]}<br>Family: %{customdata[7]}<br>Genus: %{customdata[8]}<br>Species: %{customdata[9]}<br>EC Number: %{customdata[10]}<br>Mol Weight: %{customdata[11]}<br>Taxonomy ID: %{customdata[12]}<extra></extra>",
         "marker": {
          "color": "rgb(44, 116, 142)",
          "size": 6,
          "symbol": "circle"
         },
         "mode": "markers",
         "text": "AER132Wp",
         "type": "scatter3d",
         "x": [
          -0.7062634090936817
         ],
         "y": [
          -0.5213849962923777
         ],
         "z": [
          0.2562489959406958
         ]
        },
        {
         "customdata": [
          [
           "HGL266Wp",
           null,
           "Eukaryota",
           "Fungi",
           "Ascomycota",
           "Saccharomycetes",
           "Saccharomycetales",
           "Saccharomycetaceae",
           "Eremothecium",
           "Eremothecium sinecaudum",
           null,
           27406,
           "45286",
           0.0006638984968130697,
           -0.7283596409963942,
           -0.48715233136543457,
           0.266353086971688
          ]
         ],
         "hovertemplate": "<b>%{customdata[0]}</b><br>Family Name: %{customdata[1]}<br>Domain: %{customdata[2]}<br>Kingdom: %{customdata[3]}</b><br>Phylum: %{customdata[4]}<br>Class: %{customdata[5]}<br>Order: %{customdata[6]}<br>Family: %{customdata[7]}<br>Genus: %{customdata[8]}<br>Species: %{customdata[9]}<br>EC Number: %{customdata[10]}<br>Mol Weight: %{customdata[11]}<br>Taxonomy ID: %{customdata[12]}<extra></extra>",
         "marker": {
          "color": "rgb(45, 114, 142)",
          "size": 6,
          "symbol": "circle"
         },
         "mode": "markers",
         "text": "HGL266Wp",
         "type": "scatter3d",
         "x": [
          -0.7283596409963942
         ],
         "y": [
          -0.48715233136543457
         ],
         "z": [
          0.266353086971688
         ]
        },
        {
         "customdata": [
          [
           "Ras GTPase tem1",
           null,
           "Eukaryota",
           "Fungi",
           "Ascomycota",
           "Saccharomycetes",
           "Saccharomycetales",
           "Saccharomycetaceae",
           "Kluyveromyces",
           "Kluyveromyces marxianus",
           null,
           null,
           "4911",
           0.004255563531945441,
           -0.5205897258014199,
           -0.4301770529446956,
           0.21391178273001643
          ]
         ],
         "hovertemplate": "<b>%{customdata[0]}</b><br>Family Name: %{customdata[1]}<br>Domain: %{customdata[2]}<br>Kingdom: %{customdata[3]}</b><br>Phylum: %{customdata[4]}<br>Class: %{customdata[5]}<br>Order: %{customdata[6]}<br>Family: %{customdata[7]}<br>Genus: %{customdata[8]}<br>Species: %{customdata[9]}<br>EC Number: %{customdata[10]}<br>Mol Weight: %{customdata[11]}<br>Taxonomy ID: %{customdata[12]}<extra></extra>",
         "marker": {
          "color": "rgb(137, 212, 71)",
          "size": 6,
          "symbol": "circle"
         },
         "mode": "markers",
         "text": "Ras GTPase tem1",
         "type": "scatter3d",
         "x": [
          -0.5205897258014199
         ],
         "y": [
          -0.4301770529446956
         ],
         "z": [
          0.21391178273001643
         ]
        },
        {
         "customdata": [
          [
           "similar to Saccharomyces cerevisiae YML064C TEM1 GTP-binding protein of the ras superfamily involved in termination of M-phase",
           null,
           "Eukaryota",
           "Fungi",
           "Ascomycota",
           "Saccharomycetes",
           "Saccharomycetales",
           "Saccharomycetaceae",
           "Kazachstania",
           "Kazachstania saulgeensis",
           null,
           null,
           "1789683",
           0,
           -0.8900622345667073,
           -0.11424963516545775,
           0.2498276013105253
          ]
         ],
         "hovertemplate": "<b>%{customdata[0]}</b><br>Family Name: %{customdata[1]}<br>Domain: %{customdata[2]}<br>Kingdom: %{customdata[3]}</b><br>Phylum: %{customdata[4]}<br>Class: %{customdata[5]}<br>Order: %{customdata[6]}<br>Family: %{customdata[7]}<br>Genus: %{customdata[8]}<br>Species: %{customdata[9]}<br>EC Number: %{customdata[10]}<br>Mol Weight: %{customdata[11]}<br>Taxonomy ID: %{customdata[12]}<extra></extra>",
         "marker": {
          "color": "rgb(94, 200, 97)",
          "size": 6,
          "symbol": "circle"
         },
         "mode": "markers",
         "text": "similar to Saccharomyces cerevisiae YML064C TEM1 GTP-binding protein of the ras superfamily involved in termination of M-phase",
         "type": "scatter3d",
         "x": [
          -0.8900622345667073
         ],
         "y": [
          -0.11424963516545775
         ],
         "z": [
          0.2498276013105253
         ]
        },
        {
         "customdata": [
          [
           "Ras GTPase tem1",
           null,
           "Eukaryota",
           "Fungi",
           "Ascomycota",
           "Saccharomycetes",
           "Saccharomycetales",
           "Saccharomycetaceae",
           "Kazachstania",
           "Kazachstania exigua",
           null,
           null,
           "34358",
           0,
           -0.854717805533401,
           -0.09645511501636336,
           0.19757977530467047
          ]
         ],
         "hovertemplate": "<b>%{customdata[0]}</b><br>Family Name: %{customdata[1]}<br>Domain: %{customdata[2]}<br>Kingdom: %{customdata[3]}</b><br>Phylum: %{customdata[4]}<br>Class: %{customdata[5]}<br>Order: %{customdata[6]}<br>Family: %{customdata[7]}<br>Genus: %{customdata[8]}<br>Species: %{customdata[9]}<br>EC Number: %{customdata[10]}<br>Mol Weight: %{customdata[11]}<br>Taxonomy ID: %{customdata[12]}<extra></extra>",
         "marker": {
          "color": "rgb(55, 90, 140)",
          "size": 6,
          "symbol": "circle"
         },
         "mode": "markers",
         "text": "Ras GTPase tem1",
         "type": "scatter3d",
         "x": [
          -0.854717805533401
         ],
         "y": [
          -0.09645511501636336
         ],
         "z": [
          0.19757977530467047
         ]
        },
        {
         "customdata": [
          [
           "LAMI_0H01266g1_1",
           null,
           "Eukaryota",
           "Fungi",
           "Ascomycota",
           "Saccharomycetes",
           "Saccharomycetales",
           "Saccharomycetaceae",
           "Lachancea",
           "Lachancea mirantina",
           null,
           null,
           "1230905",
           0.00008298129843355975,
           -0.7617715968048095,
           -0.5978960597905494,
           0.3326259852610101
          ]
         ],
         "hovertemplate": "<b>%{customdata[0]}</b><br>Family Name: %{customdata[1]}<br>Domain: %{customdata[2]}<br>Kingdom: %{customdata[3]}</b><br>Phylum: %{customdata[4]}<br>Class: %{customdata[5]}<br>Order: %{customdata[6]}<br>Family: %{customdata[7]}<br>Genus: %{customdata[8]}<br>Species: %{customdata[9]}<br>EC Number: %{customdata[10]}<br>Mol Weight: %{customdata[11]}<br>Taxonomy ID: %{customdata[12]}<extra></extra>",
         "marker": {
          "color": "rgb(42, 171, 129)",
          "size": 6,
          "symbol": "circle"
         },
         "mode": "markers",
         "text": "LAMI_0H01266g1_1",
         "type": "scatter3d",
         "x": [
          -0.7617715968048095
         ],
         "y": [
          -0.5978960597905494
         ],
         "z": [
          0.3326259852610101
         ]
        },
        {
         "customdata": [
          [
           "LAFE_0A02080g1_1",
           null,
           "Eukaryota",
           "Fungi",
           "Ascomycota",
           "Saccharomycetes",
           "Saccharomycetales",
           "Saccharomycetaceae",
           "Lachancea",
           "Lachancea fermentati",
           null,
           null,
           "4955",
           0.00009715242881072028,
           -0.7176213862342541,
           -0.631070851716957,
           0.2467252204447344
          ]
         ],
         "hovertemplate": "<b>%{customdata[0]}</b><br>Family Name: %{customdata[1]}<br>Domain: %{customdata[2]}<br>Kingdom: %{customdata[3]}</b><br>Phylum: %{customdata[4]}<br>Class: %{customdata[5]}<br>Order: %{customdata[6]}<br>Family: %{customdata[7]}<br>Genus: %{customdata[8]}<br>Species: %{customdata[9]}<br>EC Number: %{customdata[10]}<br>Mol Weight: %{customdata[11]}<br>Taxonomy ID: %{customdata[12]}<extra></extra>",
         "marker": {
          "color": "rgb(55, 89, 140)",
          "size": 6,
          "symbol": "circle"
         },
         "mode": "markers",
         "text": "LAFE_0A02080g1_1",
         "type": "scatter3d",
         "x": [
          -0.7176213862342541
         ],
         "y": [
          -0.631070851716957
         ],
         "z": [
          0.2467252204447344
         ]
        },
        {
         "customdata": [
          [
           "LAQU0S01e00848g1_1",
           null,
           "Eukaryota",
           "Fungi",
           "Ascomycota",
           "Saccharomycetes",
           "Saccharomycetales",
           "Saccharomycetaceae",
           "Lachancea",
           "Lachancea quebecensis",
           null,
           null,
           "1654605",
           0.000019382627422828426,
           -0.7870451793181718,
           -0.6226685888337383,
           0.2610385522789599
          ]
         ],
         "hovertemplate": "<b>%{customdata[0]}</b><br>Family Name: %{customdata[1]}<br>Domain: %{customdata[2]}<br>Kingdom: %{customdata[3]}</b><br>Phylum: %{customdata[4]}<br>Class: %{customdata[5]}<br>Order: %{customdata[6]}<br>Family: %{customdata[7]}<br>Genus: %{customdata[8]}<br>Species: %{customdata[9]}<br>EC Number: %{customdata[10]}<br>Mol Weight: %{customdata[11]}<br>Taxonomy ID: %{customdata[12]}<extra></extra>",
         "marker": {
          "color": "rgb(34, 147, 139)",
          "size": 6,
          "symbol": "circle"
         },
         "mode": "markers",
         "text": "LAQU0S01e00848g1_1",
         "type": "scatter3d",
         "x": [
          -0.7870451793181718
         ],
         "y": [
          -0.6226685888337383
         ],
         "z": [
          0.2610385522789599
         ]
        },
        {
         "customdata": [
          [
           "hypothetical protein",
           null,
           "Eukaryota",
           "Fungi",
           "Ascomycota",
           "Saccharomycetes",
           "Saccharomycetales",
           "Saccharomycodaceae",
           "Saccharomycodes",
           "Saccharomycodes ludwigii",
           null,
           32999,
           "36035",
           0.002914572864321608,
           -0.7737470050568522,
           -0.4341951268102902,
           0.6313337905180328
          ]
         ],
         "hovertemplate": "<b>%{customdata[0]}</b><br>Family Name: %{customdata[1]}<br>Domain: %{customdata[2]}<br>Kingdom: %{customdata[3]}</b><br>Phylum: %{customdata[4]}<br>Class: %{customdata[5]}<br>Order: %{customdata[6]}<br>Family: %{customdata[7]}<br>Genus: %{customdata[8]}<br>Species: %{customdata[9]}<br>EC Number: %{customdata[10]}<br>Mol Weight: %{customdata[11]}<br>Taxonomy ID: %{customdata[12]}<extra></extra>",
         "marker": {
          "color": "rgb(50, 102, 142)",
          "size": 6,
          "symbol": "circle"
         },
         "mode": "markers",
         "text": "hypothetical protein",
         "type": "scatter3d",
         "x": [
          -0.7737470050568522
         ],
         "y": [
          -0.4341951268102902
         ],
         "z": [
          0.6313337905180328
         ]
        },
        {
         "customdata": [
          [
           "hypothetical protein",
           null,
           "Eukaryota",
           "Fungi",
           "Ascomycota",
           "Saccharomycetes",
           "Saccharomycetales",
           "Trichomonascaceae",
           "Trichomonascus",
           "Trichomonascus ciferrii",
           null,
           null,
           "44093",
           0.0020201104212229652,
           0.16898691002272023,
           0.02919981425766918,
           -0.06926919998894453
          ]
         ],
         "hovertemplate": "<b>%{customdata[0]}</b><br>Family Name: %{customdata[1]}<br>Domain: %{customdata[2]}<br>Kingdom: %{customdata[3]}</b><br>Phylum: %{customdata[4]}<br>Class: %{customdata[5]}<br>Order: %{customdata[6]}<br>Family: %{customdata[7]}<br>Genus: %{customdata[8]}<br>Species: %{customdata[9]}<br>EC Number: %{customdata[10]}<br>Mol Weight: %{customdata[11]}<br>Taxonomy ID: %{customdata[12]}<extra></extra>",
         "marker": {
          "color": "rgb(216, 226, 40)",
          "size": 6,
          "symbol": "circle"
         },
         "mode": "markers",
         "text": "hypothetical protein",
         "type": "scatter3d",
         "x": [
          0.16898691002272023
         ],
         "y": [
          0.02919981425766918
         ],
         "z": [
          -0.06926919998894453
         ]
        },
        {
         "customdata": [
          [
           "P-loop containing nucleoside triphosphate hydrolase protein",
           null,
           "Eukaryota",
           "Fungi",
           "Ascomycota",
           "Pezizomycetes",
           "Pezizales",
           "Pezizaceae",
           "Tirmania",
           "Tirmania nivea",
           null,
           null,
           "160517",
           0.00007410041649627837,
           0.18058143354460993,
           0.03310964145992897,
           -0.06602483922386974
          ]
         ],
         "hovertemplate": "<b>%{customdata[0]}</b><br>Family Name: %{customdata[1]}<br>Domain: %{customdata[2]}<br>Kingdom: %{customdata[3]}</b><br>Phylum: %{customdata[4]}<br>Class: %{customdata[5]}<br>Order: %{customdata[6]}<br>Family: %{customdata[7]}<br>Genus: %{customdata[8]}<br>Species: %{customdata[9]}<br>EC Number: %{customdata[10]}<br>Mol Weight: %{customdata[11]}<br>Taxonomy ID: %{customdata[12]}<extra></extra>",
         "marker": {
          "color": "rgb(35, 163, 134)",
          "size": 6,
          "symbol": "circle"
         },
         "mode": "markers",
         "text": "P-loop containing nucleoside triphosphate hydrolase protein",
         "type": "scatter3d",
         "x": [
          0.18058143354460993
         ],
         "y": [
          0.03310964145992897
         ],
         "z": [
          -0.06602483922386974
         ]
        },
        {
         "customdata": [
          [
           "hypothetical protein",
           null,
           "Eukaryota",
           "Fungi",
           "Ascomycota",
           "Orbiliomycetes",
           "Orbiliales",
           "Orbiliaceae",
           "Arthrobotrys",
           "Arthrobotrys entomopaga",
           null,
           null,
           "321852",
           0.0001273366551671202,
           0.14918610296933651,
           0.07660324294181135,
           -0.11640508282647688
          ]
         ],
         "hovertemplate": "<b>%{customdata[0]}</b><br>Family Name: %{customdata[1]}<br>Domain: %{customdata[2]}<br>Kingdom: %{customdata[3]}</b><br>Phylum: %{customdata[4]}<br>Class: %{customdata[5]}<br>Order: %{customdata[6]}<br>Family: %{customdata[7]}<br>Genus: %{customdata[8]}<br>Species: %{customdata[9]}<br>EC Number: %{customdata[10]}<br>Mol Weight: %{customdata[11]}<br>Taxonomy ID: %{customdata[12]}<extra></extra>",
         "marker": {
          "color": "rgb(38, 166, 132)",
          "size": 6,
          "symbol": "circle"
         },
         "mode": "markers",
         "text": "hypothetical protein",
         "type": "scatter3d",
         "x": [
          0.14918610296933651
         ],
         "y": [
          0.07660324294181135
         ],
         "z": [
          -0.11640508282647688
         ]
        },
        {
         "customdata": [
          [
           "Protein TEM1",
           null,
           "Eukaryota",
           "Fungi",
           "Ascomycota",
           "Saccharomycetes",
           "Saccharomycetales",
           "Saccharomycodaceae",
           "Hanseniaspora",
           "Hanseniaspora osmophila",
           null,
           null,
           "56408",
           0,
           -1,
           -0.500775308367496,
           0.837192538401654
          ]
         ],
         "hovertemplate": "<b>%{customdata[0]}</b><br>Family Name: %{customdata[1]}<br>Domain: %{customdata[2]}<br>Kingdom: %{customdata[3]}</b><br>Phylum: %{customdata[4]}<br>Class: %{customdata[5]}<br>Order: %{customdata[6]}<br>Family: %{customdata[7]}<br>Genus: %{customdata[8]}<br>Species: %{customdata[9]}<br>EC Number: %{customdata[10]}<br>Mol Weight: %{customdata[11]}<br>Taxonomy ID: %{customdata[12]}<extra></extra>",
         "marker": {
          "color": "rgb(39, 168, 131)",
          "size": 6,
          "symbol": "circle"
         },
         "mode": "markers",
         "text": "Protein TEM1",
         "type": "scatter3d",
         "x": [
          -1
         ],
         "y": [
          -0.500775308367496
         ],
         "z": [
          0.837192538401654
         ]
        },
        {
         "customdata": [
          [
           "uncharacterized protein",
           null,
           "Eukaryota",
           "Fungi",
           "Ascomycota",
           "Saccharomycetes",
           "Saccharomycetales",
           "Pichiaceae",
           "Ogataea",
           "Ogataea philodendri",
           null,
           23908,
           "1378263",
           0,
           0.4049111613713704,
           -0.048553279568538756,
           -0.09284613474991846
          ]
         ],
         "hovertemplate": "<b>%{customdata[0]}</b><br>Family Name: %{customdata[1]}<br>Domain: %{customdata[2]}<br>Kingdom: %{customdata[3]}</b><br>Phylum: %{customdata[4]}<br>Class: %{customdata[5]}<br>Order: %{customdata[6]}<br>Family: %{customdata[7]}<br>Genus: %{customdata[8]}<br>Species: %{customdata[9]}<br>EC Number: %{customdata[10]}<br>Mol Weight: %{customdata[11]}<br>Taxonomy ID: %{customdata[12]}<extra></extra>",
         "marker": {
          "color": "rgb(70, 19, 101)",
          "size": 6,
          "symbol": "circle"
         },
         "mode": "markers",
         "text": "uncharacterized protein",
         "type": "scatter3d",
         "x": [
          0.4049111613713704
         ],
         "y": [
          -0.048553279568538756
         ],
         "z": [
          -0.09284613474991846
         ]
        },
        {
         "customdata": [
          [
           "hypothetical protein",
           null,
           "Eukaryota",
           "Fungi",
           "Ascomycota",
           "Orbiliomycetes",
           "Orbiliales",
           "Orbiliaceae",
           "Dactylellina",
           "Dactylellina haptotyla",
           null,
           null,
           "1284197",
           0.00019518167585876118,
           0.11802663971748509,
           0.09476572626898136,
           -0.04644396075360991
          ]
         ],
         "hovertemplate": "<b>%{customdata[0]}</b><br>Family Name: %{customdata[1]}<br>Domain: %{customdata[2]}<br>Kingdom: %{customdata[3]}</b><br>Phylum: %{customdata[4]}<br>Class: %{customdata[5]}<br>Order: %{customdata[6]}<br>Family: %{customdata[7]}<br>Genus: %{customdata[8]}<br>Species: %{customdata[9]}<br>EC Number: %{customdata[10]}<br>Mol Weight: %{customdata[11]}<br>Taxonomy ID: %{customdata[12]}<extra></extra>",
         "marker": {
          "color": "rgb(230, 228, 39)",
          "size": 6,
          "symbol": "circle"
         },
         "mode": "markers",
         "text": "hypothetical protein",
         "type": "scatter3d",
         "x": [
          0.11802663971748509
         ],
         "y": [
          0.09476572626898136
         ],
         "z": [
          -0.04644396075360991
         ]
        },
        {
         "customdata": [
          [
           "P-loop containing nucleoside triphosphate hydrolase protein",
           null,
           "Eukaryota",
           "Fungi",
           "Ascomycota",
           "Pezizomycetes",
           "Pezizales",
           "Pyronemataceae",
           "Geopyxis",
           "Geopyxis carbonaria",
           null,
           null,
           "49969",
           0.00014194543718791931,
           0.17296581653919785,
           0.05093466435839542,
           -0.11938608766936111
          ]
         ],
         "hovertemplate": "<b>%{customdata[0]}</b><br>Family Name: %{customdata[1]}<br>Domain: %{customdata[2]}<br>Kingdom: %{customdata[3]}</b><br>Phylum: %{customdata[4]}<br>Class: %{customdata[5]}<br>Order: %{customdata[6]}<br>Family: %{customdata[7]}<br>Genus: %{customdata[8]}<br>Species: %{customdata[9]}<br>EC Number: %{customdata[10]}<br>Mol Weight: %{customdata[11]}<br>Taxonomy ID: %{customdata[12]}<extra></extra>",
         "marker": {
          "color": "rgb(70, 21, 102)",
          "size": 6,
          "symbol": "circle"
         },
         "mode": "markers",
         "text": "P-loop containing nucleoside triphosphate hydrolase protein",
         "type": "scatter3d",
         "x": [
          0.17296581653919785
         ],
         "y": [
          0.05093466435839542
         ],
         "z": [
          -0.11938608766936111
         ]
        },
        {
         "customdata": [
          [
           "hypothetical protein",
           null,
           "Eukaryota",
           "Fungi",
           "Ascomycota",
           "Orbiliomycetes",
           "Orbiliales",
           "Orbiliaceae",
           "Orbilia",
           "Orbilia oligospora",
           null,
           31059,
           "756982",
           0.000264259108331408,
           0.08243340848982451,
           0.1062380876251495,
           -0.03318697607049665
          ]
         ],
         "hovertemplate": "<b>%{customdata[0]}</b><br>Family Name: %{customdata[1]}<br>Domain: %{customdata[2]}<br>Kingdom: %{customdata[3]}</b><br>Phylum: %{customdata[4]}<br>Class: %{customdata[5]}<br>Order: %{customdata[6]}<br>Family: %{customdata[7]}<br>Genus: %{customdata[8]}<br>Species: %{customdata[9]}<br>EC Number: %{customdata[10]}<br>Mol Weight: %{customdata[11]}<br>Taxonomy ID: %{customdata[12]}<extra></extra>",
         "marker": {
          "color": "rgb(66, 61, 131)",
          "size": 6,
          "symbol": "circle"
         },
         "mode": "markers",
         "text": "hypothetical protein",
         "type": "scatter3d",
         "x": [
          0.08243340848982451
         ],
         "y": [
          0.1062380876251495
         ],
         "z": [
          -0.03318697607049665
         ]
        },
        {
         "customdata": [
          [
           "septum initiation protein sid3",
           null,
           "Eukaryota",
           "Fungi",
           "Ascomycota",
           "Sordariomycetes",
           "Xylariales",
           "Xylariaceae",
           "Xylaria",
           "Xylaria sp. CBS 124048",
           null,
           null,
           "2663373",
           0.00021102286966056616,
           0.17335365261151572,
           0.12647640160810023,
           -0.02945210124564744
          ]
         ],
         "hovertemplate": "<b>%{customdata[0]}</b><br>Family Name: %{customdata[1]}<br>Domain: %{customdata[2]}<br>Kingdom: %{customdata[3]}</b><br>Phylum: %{customdata[4]}<br>Class: %{customdata[5]}<br>Order: %{customdata[6]}<br>Family: %{customdata[7]}<br>Genus: %{customdata[8]}<br>Species: %{customdata[9]}<br>EC Number: %{customdata[10]}<br>Mol Weight: %{customdata[11]}<br>Taxonomy ID: %{customdata[12]}<extra></extra>",
         "marker": {
          "color": "rgb(36, 136, 141)",
          "size": 6,
          "symbol": "circle"
         },
         "mode": "markers",
         "text": "septum initiation protein sid3",
         "type": "scatter3d",
         "x": [
          0.17335365261151572
         ],
         "y": [
          0.12647640160810023
         ],
         "z": [
          -0.02945210124564744
         ]
        },
        {
         "customdata": [
          [
           "uncharacterized protein",
           null,
           "Eukaryota",
           "Fungi",
           "Ascomycota",
           "Saccharomycetes",
           "Saccharomycetales",
           null,
           "Kuraishia",
           "Kuraishia capsulata",
           null,
           21987,
           "1382522",
           0.0011360302159955514,
           0.16269858597925427,
           0.007145421085062463,
           -0.06791614552469968
          ]
         ],
         "hovertemplate": "<b>%{customdata[0]}</b><br>Family Name: %{customdata[1]}<br>Domain: %{customdata[2]}<br>Kingdom: %{customdata[3]}</b><br>Phylum: %{customdata[4]}<br>Class: %{customdata[5]}<br>Order: %{customdata[6]}<br>Family: %{customdata[7]}<br>Genus: %{customdata[8]}<br>Species: %{customdata[9]}<br>EC Number: %{customdata[10]}<br>Mol Weight: %{customdata[11]}<br>Taxonomy ID: %{customdata[12]}<extra></extra>",
         "marker": {
          "color": "rgb(45, 113, 142)",
          "size": 6,
          "symbol": "circle"
         },
         "mode": "markers",
         "text": "uncharacterized protein",
         "type": "scatter3d",
         "x": [
          0.16269858597925427
         ],
         "y": [
          0.007145421085062463
         ],
         "z": [
          -0.06791614552469968
         ]
        },
        {
         "customdata": [
          [
           "hypothetical protein",
           null,
           "Eukaryota",
           "Fungi",
           "Ascomycota",
           "Orbiliomycetes",
           "Orbiliales",
           "Orbiliaceae",
           "Drechslerella",
           "Drechslerella brochopaga",
           null,
           null,
           "47238",
           0.00019518167585876118,
           0.19553942474053634,
           0.04931044690747956,
           -0.06258830266403984
          ]
         ],
         "hovertemplate": "<b>%{customdata[0]}</b><br>Family Name: %{customdata[1]}<br>Domain: %{customdata[2]}<br>Kingdom: %{customdata[3]}</b><br>Phylum: %{customdata[4]}<br>Class: %{customdata[5]}<br>Order: %{customdata[6]}<br>Family: %{customdata[7]}<br>Genus: %{customdata[8]}<br>Species: %{customdata[9]}<br>EC Number: %{customdata[10]}<br>Mol Weight: %{customdata[11]}<br>Taxonomy ID: %{customdata[12]}<extra></extra>",
         "marker": {
          "color": "rgb(31, 157, 137)",
          "size": 6,
          "symbol": "circle"
         },
         "mode": "markers",
         "text": "hypothetical protein",
         "type": "scatter3d",
         "x": [
          0.19553942474053634
         ],
         "y": [
          0.04931044690747956
         ],
         "z": [
          -0.06258830266403984
         ]
        },
        {
         "customdata": [
          [
           "putative GTP binding protein",
           null,
           "Eukaryota",
           "Fungi",
           "Ascomycota",
           "Sordariomycetes",
           "Sordariales",
           "Chaetomiaceae",
           "Thermochaetoides",
           "Thermochaetoides thermophila",
           null,
           34303,
           "759272",
           0.000264259108331408,
           0.13151928544156327,
           0.06554554649911062,
           -0.02454634367466172
          ]
         ],
         "hovertemplate": "<b>%{customdata[0]}</b><br>Family Name: %{customdata[1]}<br>Domain: %{customdata[2]}<br>Kingdom: %{customdata[3]}</b><br>Phylum: %{customdata[4]}<br>Class: %{customdata[5]}<br>Order: %{customdata[6]}<br>Family: %{customdata[7]}<br>Genus: %{customdata[8]}<br>Species: %{customdata[9]}<br>EC Number: %{customdata[10]}<br>Mol Weight: %{customdata[11]}<br>Taxonomy ID: %{customdata[12]}<extra></extra>",
         "marker": {
          "color": "rgb(36, 139, 140)",
          "size": 6,
          "symbol": "circle"
         },
         "mode": "markers",
         "text": "putative GTP binding protein",
         "type": "scatter3d",
         "x": [
          0.13151928544156327
         ],
         "y": [
          0.06554554649911062
         ],
         "z": [
          -0.02454634367466172
         ]
        },
        {
         "customdata": [
          [
           "hypothetical protein",
           null,
           "Eukaryota",
           "Fungi",
           "Ascomycota",
           "Orbiliomycetes",
           "Orbiliales",
           "Orbiliaceae",
           "Drechslerella",
           "Drechslerella stenobrocha",
           null,
           null,
           "1043628",
           0.00019518167585876118,
           0.19558435461393742,
           0.09966733522138671,
           -0.09136628938127622
          ]
         ],
         "hovertemplate": "<b>%{customdata[0]}</b><br>Family Name: %{customdata[1]}<br>Domain: %{customdata[2]}<br>Kingdom: %{customdata[3]}</b><br>Phylum: %{customdata[4]}<br>Class: %{customdata[5]}<br>Order: %{customdata[6]}<br>Family: %{customdata[7]}<br>Genus: %{customdata[8]}<br>Species: %{customdata[9]}<br>EC Number: %{customdata[10]}<br>Mol Weight: %{customdata[11]}<br>Taxonomy ID: %{customdata[12]}<extra></extra>",
         "marker": {
          "color": "rgb(34, 148, 139)",
          "size": 6,
          "symbol": "circle"
         },
         "mode": "markers",
         "text": "hypothetical protein",
         "type": "scatter3d",
         "x": [
          0.19558435461393742
         ],
         "y": [
          0.09966733522138671
         ],
         "z": [
          -0.09136628938127622
         ]
        },
        {
         "customdata": [
          [
           "hypothetical protein",
           null,
           "Eukaryota",
           "Fungi",
           "Ascomycota",
           "Orbiliomycetes",
           "Orbiliales",
           "Orbiliaceae",
           "Dactylella",
           "Dactylella cylindrospora",
           null,
           null,
           "1814901",
           0.000264259108331408,
           0.15650660855638288,
           0.08301331624913741,
           -0.025199714244628094
          ]
         ],
         "hovertemplate": "<b>%{customdata[0]}</b><br>Family Name: %{customdata[1]}<br>Domain: %{customdata[2]}<br>Kingdom: %{customdata[3]}</b><br>Phylum: %{customdata[4]}<br>Class: %{customdata[5]}<br>Order: %{customdata[6]}<br>Family: %{customdata[7]}<br>Genus: %{customdata[8]}<br>Species: %{customdata[9]}<br>EC Number: %{customdata[10]}<br>Mol Weight: %{customdata[11]}<br>Taxonomy ID: %{customdata[12]}<extra></extra>",
         "marker": {
          "color": "rgb(40, 169, 130)",
          "size": 6,
          "symbol": "circle"
         },
         "mode": "markers",
         "text": "hypothetical protein",
         "type": "scatter3d",
         "x": [
          0.15650660855638288
         ],
         "y": [
          0.08301331624913741
         ],
         "z": [
          -0.025199714244628094
         ]
        },
        {
         "customdata": [
          [
           "small GTPase",
           null,
           "Eukaryota",
           "Fungi",
           "Ascomycota",
           "Pezizomycetes",
           "Pezizales",
           "Pyronemataceae",
           "Wilcoxina",
           "Wilcoxina mikolae",
           null,
           null,
           "1314677",
           0.000264259108331408,
           0.07597459523002105,
           0.06978189627433987,
           -0.03018345607643872
          ]
         ],
         "hovertemplate": "<b>%{customdata[0]}</b><br>Family Name: %{customdata[1]}<br>Domain: %{customdata[2]}<br>Kingdom: %{customdata[3]}</b><br>Phylum: %{customdata[4]}<br>Class: %{customdata[5]}<br>Order: %{customdata[6]}<br>Family: %{customdata[7]}<br>Genus: %{customdata[8]}<br>Species: %{customdata[9]}<br>EC Number: %{customdata[10]}<br>Mol Weight: %{customdata[11]}<br>Taxonomy ID: %{customdata[12]}<extra></extra>",
         "marker": {
          "color": "rgb(84, 195, 103)",
          "size": 6,
          "symbol": "circle"
         },
         "mode": "markers",
         "text": "small GTPase",
         "type": "scatter3d",
         "x": [
          0.07597459523002105
         ],
         "y": [
          0.06978189627433987
         ],
         "z": [
          -0.03018345607643872
         ]
        },
        {
         "customdata": [
          [
           "GTPase Spg1",
           null,
           "Eukaryota",
           "Fungi",
           "Ascomycota",
           "Schizosaccharomycetes",
           "Schizosaccharomycetales",
           "Schizosaccharomycetaceae",
           "Schizosaccharomyces",
           "Schizosaccharomyces japonicus",
           null,
           22293,
           "402676",
           6.568791670772162e-7,
           0.10295705911127358,
           0.1410678964327407,
           -0.0849306842772382
          ]
         ],
         "hovertemplate": "<b>%{customdata[0]}</b><br>Family Name: %{customdata[1]}<br>Domain: %{customdata[2]}<br>Kingdom: %{customdata[3]}</b><br>Phylum: %{customdata[4]}<br>Class: %{customdata[5]}<br>Order: %{customdata[6]}<br>Family: %{customdata[7]}<br>Genus: %{customdata[8]}<br>Species: %{customdata[9]}<br>EC Number: %{customdata[10]}<br>Mol Weight: %{customdata[11]}<br>Taxonomy ID: %{customdata[12]}<extra></extra>",
         "marker": {
          "color": "rgb(220, 227, 40)",
          "size": 6,
          "symbol": "circle"
         },
         "mode": "markers",
         "text": "GTPase Spg1",
         "type": "scatter3d",
         "x": [
          0.10295705911127358
         ],
         "y": [
          0.1410678964327407
         ],
         "z": [
          -0.0849306842772382
         ]
        },
        {
         "customdata": [
          [
           "spg1, Ras superfamily GTPase",
           null,
           "Eukaryota",
           null,
           "Evosea",
           "Variosea",
           "Cavosteliida",
           "Cavosteliaceae",
           "Planoprotostelium",
           "Planoprotostelium fungivorum",
           null,
           null,
           "1890364",
           0.000127694347081109,
           0.1526267895280346,
           0.0576231718716255,
           -0.11822514434342182
          ]
         ],
         "hovertemplate": "<b>%{customdata[0]}</b><br>Family Name: %{customdata[1]}<br>Domain: %{customdata[2]}<br>Kingdom: %{customdata[3]}</b><br>Phylum: %{customdata[4]}<br>Class: %{customdata[5]}<br>Order: %{customdata[6]}<br>Family: %{customdata[7]}<br>Genus: %{customdata[8]}<br>Species: %{customdata[9]}<br>EC Number: %{customdata[10]}<br>Mol Weight: %{customdata[11]}<br>Taxonomy ID: %{customdata[12]}<extra></extra>",
         "marker": {
          "color": "rgb(48, 107, 142)",
          "size": 6,
          "symbol": "circle"
         },
         "mode": "markers",
         "text": "spg1, Ras superfamily GTPase",
         "type": "scatter3d",
         "x": [
          0.1526267895280346
         ],
         "y": [
          0.0576231718716255
         ],
         "z": [
          -0.11822514434342182
         ]
        },
        {
         "customdata": [
          [
           "hypothetical protein",
           null,
           "Eukaryota",
           "Fungi",
           "Basidiomycota",
           "Mixiomycetes",
           "Mixiales",
           "Mixiaceae",
           "Mixia",
           "Mixia osmundae",
           null,
           null,
           "764103",
           0.0001732268837185903,
           0.11829560371441367,
           0.1340316133425887,
           -0.10789645126486591
          ]
         ],
         "hovertemplate": "<b>%{customdata[0]}</b><br>Family Name: %{customdata[1]}<br>Domain: %{customdata[2]}<br>Kingdom: %{customdata[3]}</b><br>Phylum: %{customdata[4]}<br>Class: %{customdata[5]}<br>Order: %{customdata[6]}<br>Family: %{customdata[7]}<br>Genus: %{customdata[8]}<br>Species: %{customdata[9]}<br>EC Number: %{customdata[10]}<br>Mol Weight: %{customdata[11]}<br>Taxonomy ID: %{customdata[12]}<extra></extra>",
         "marker": {
          "color": "rgb(193, 223, 42)",
          "size": 6,
          "symbol": "circle"
         },
         "mode": "markers",
         "text": "hypothetical protein",
         "type": "scatter3d",
         "x": [
          0.11829560371441367
         ],
         "y": [
          0.1340316133425887
         ],
         "z": [
          -0.10789645126486591
         ]
        },
        {
         "customdata": [
          [
           "small GTPase",
           null,
           "Eukaryota",
           "Fungi",
           "Ascomycota",
           "Saccharomycetes",
           "Saccharomycetales",
           "Saccharomycodaceae",
           "Hanseniaspora",
           "Hanseniaspora valbyensis",
           null,
           null,
           "766949",
           0,
           -0.9610755526896426,
           -0.5315305810888076,
           0.8840090321526154
          ]
         ],
         "hovertemplate": "<b>%{customdata[0]}</b><br>Family Name: %{customdata[1]}<br>Domain: %{customdata[2]}<br>Kingdom: %{customdata[3]}</b><br>Phylum: %{customdata[4]}<br>Class: %{customdata[5]}<br>Order: %{customdata[6]}<br>Family: %{customdata[7]}<br>Genus: %{customdata[8]}<br>Species: %{customdata[9]}<br>EC Number: %{customdata[10]}<br>Mol Weight: %{customdata[11]}<br>Taxonomy ID: %{customdata[12]}<extra></extra>",
         "marker": {
          "color": "rgb(71, 32, 112)",
          "size": 6,
          "symbol": "circle"
         },
         "mode": "markers",
         "text": "small GTPase",
         "type": "scatter3d",
         "x": [
          -0.9610755526896426
         ],
         "y": [
          -0.5315305810888076
         ],
         "z": [
          0.8840090321526154
         ]
        },
        {
         "customdata": [
          [
           "P-loop containing nucleoside triphosphate hydrolase protein",
           null,
           "Eukaryota",
           "Fungi",
           "Ascomycota",
           "Sordariomycetes",
           "Xylariales",
           "Xylariaceae",
           "Xylaria",
           "Xylaria intraflava",
           null,
           null,
           "492091",
           0.000264259108331408,
           0.10312892515413291,
           0.024703169328409366,
           -0.045918695224504834
          ]
         ],
         "hovertemplate": "<b>%{customdata[0]}</b><br>Family Name: %{customdata[1]}<br>Domain: %{customdata[2]}<br>Kingdom: %{customdata[3]}</b><br>Phylum: %{customdata[4]}<br>Class: %{customdata[5]}<br>Order: %{customdata[6]}<br>Family: %{customdata[7]}<br>Genus: %{customdata[8]}<br>Species: %{customdata[9]}<br>EC Number: %{customdata[10]}<br>Mol Weight: %{customdata[11]}<br>Taxonomy ID: %{customdata[12]}<extra></extra>",
         "marker": {
          "color": "rgb(61, 74, 137)",
          "size": 6,
          "symbol": "circle"
         },
         "mode": "markers",
         "text": "P-loop containing nucleoside triphosphate hydrolase protein",
         "type": "scatter3d",
         "x": [
          0.10312892515413291
         ],
         "y": [
          0.024703169328409366
         ],
         "z": [
          -0.045918695224504834
         ]
        },
        {
         "customdata": [
          [
           "similar to Saccharomyces cerevisiae YML064C TEM1 GTP-binding protein of the ras superfamily involved in termination of M-phase",
           null,
           "Eukaryota",
           "Fungi",
           "Ascomycota",
           "Saccharomycetes",
           "Saccharomycetales",
           "Dipodascaceae",
           "Geotrichum",
           "Geotrichum candidum",
           null,
           null,
           "1173061",
           0.000017398498527358895,
           0.12582437180100103,
           0.14146081912743902,
           -0.03529140929273423
          ]
         ],
         "hovertemplate": "<b>%{customdata[0]}</b><br>Family Name: %{customdata[1]}<br>Domain: %{customdata[2]}<br>Kingdom: %{customdata[3]}</b><br>Phylum: %{customdata[4]}<br>Class: %{customdata[5]}<br>Order: %{customdata[6]}<br>Family: %{customdata[7]}<br>Genus: %{customdata[8]}<br>Species: %{customdata[9]}<br>EC Number: %{customdata[10]}<br>Mol Weight: %{customdata[11]}<br>Taxonomy ID: %{customdata[12]}<extra></extra>",
         "marker": {
          "color": "rgb(40, 125, 142)",
          "size": 6,
          "symbol": "circle"
         },
         "mode": "markers",
         "text": "similar to Saccharomyces cerevisiae YML064C TEM1 GTP-binding protein of the ras superfamily involved in termination of M-phase",
         "type": "scatter3d",
         "x": [
          0.12582437180100103
         ],
         "y": [
          0.14146081912743902
         ],
         "z": [
          -0.03529140929273423
         ]
        },
        {
         "customdata": [
          [
           "P-loop containing nucleoside triphosphate hydrolase protein",
           null,
           "Eukaryota",
           "Fungi",
           "Ascomycota",
           "Sordariomycetes",
           "Xylariales",
           "Hypoxylaceae",
           "Hypomontagnella",
           "Hypomontagnella submonticulosa",
           null,
           null,
           "152308",
           0.00007410041649627837,
           0.14363559950400537,
           0.024690161990423544,
           -0.09998735216962591
          ]
         ],
         "hovertemplate": "<b>%{customdata[0]}</b><br>Family Name: %{customdata[1]}<br>Domain: %{customdata[2]}<br>Kingdom: %{customdata[3]}</b><br>Phylum: %{customdata[4]}<br>Class: %{customdata[5]}<br>Order: %{customdata[6]}<br>Family: %{customdata[7]}<br>Genus: %{customdata[8]}<br>Species: %{customdata[9]}<br>EC Number: %{customdata[10]}<br>Mol Weight: %{customdata[11]}<br>Taxonomy ID: %{customdata[12]}<extra></extra>",
         "marker": {
          "color": "rgb(153, 216, 61)",
          "size": 6,
          "symbol": "circle"
         },
         "mode": "markers",
         "text": "P-loop containing nucleoside triphosphate hydrolase protein",
         "type": "scatter3d",
         "x": [
          0.14363559950400537
         ],
         "y": [
          0.024690161990423544
         ],
         "z": [
          -0.09998735216962591
         ]
        },
        {
         "customdata": [
          [
           "P-loop containing nucleoside triphosphate hydrolase protein",
           null,
           "Eukaryota",
           "Fungi",
           "Ascomycota",
           "Pezizomycetes",
           "Pezizales",
           "Pezizaceae",
           "Peziza",
           "Peziza echinospora",
           null,
           null,
           "61495",
           0.002366841914837052,
           0.17530309304942016,
           0.03663352300103816,
           -0.03639155732942192
          ]
         ],
         "hovertemplate": "<b>%{customdata[0]}</b><br>Family Name: %{customdata[1]}<br>Domain: %{customdata[2]}<br>Kingdom: %{customdata[3]}</b><br>Phylum: %{customdata[4]}<br>Class: %{customdata[5]}<br>Order: %{customdata[6]}<br>Family: %{customdata[7]}<br>Genus: %{customdata[8]}<br>Species: %{customdata[9]}<br>EC Number: %{customdata[10]}<br>Mol Weight: %{customdata[11]}<br>Taxonomy ID: %{customdata[12]}<extra></extra>",
         "marker": {
          "color": "rgb(33, 149, 139)",
          "size": 6,
          "symbol": "circle"
         },
         "mode": "markers",
         "text": "P-loop containing nucleoside triphosphate hydrolase protein",
         "type": "scatter3d",
         "x": [
          0.17530309304942016
         ],
         "y": [
          0.03663352300103816
         ],
         "z": [
          -0.03639155732942192
         ]
        },
        {
         "customdata": [
          [
           "septum-promoting GTP-binding protein 1",
           null,
           "Eukaryota",
           "Fungi",
           "Basidiomycota",
           "Agaricomycetes",
           "Cantharellales",
           "Tulasnellaceae",
           "Tulasnella",
           "Tulasnella sp. 427",
           null,
           null,
           "2600231",
           0.000010917928324262736,
           0.17492632883108417,
           0.09362844276114443,
           -0.015540396375938069
          ]
         ],
         "hovertemplate": "<b>%{customdata[0]}</b><br>Family Name: %{customdata[1]}<br>Domain: %{customdata[2]}<br>Kingdom: %{customdata[3]}</b><br>Phylum: %{customdata[4]}<br>Class: %{customdata[5]}<br>Order: %{customdata[6]}<br>Family: %{customdata[7]}<br>Genus: %{customdata[8]}<br>Species: %{customdata[9]}<br>EC Number: %{customdata[10]}<br>Mol Weight: %{customdata[11]}<br>Taxonomy ID: %{customdata[12]}<extra></extra>",
         "marker": {
          "color": "rgb(65, 62, 131)",
          "size": 6,
          "symbol": "circle"
         },
         "mode": "markers",
         "text": "septum-promoting GTP-binding protein 1",
         "type": "scatter3d",
         "x": [
          0.17492632883108417
         ],
         "y": [
          0.09362844276114443
         ],
         "z": [
          -0.015540396375938069
         ]
        },
        {
         "customdata": [
          [
           "small GTPase",
           null,
           "Eukaryota",
           "Fungi",
           "Ascomycota",
           "Sordariomycetes",
           "Xylariales",
           "Hypoxylaceae",
           "Hypoxylon",
           "Hypoxylon sp. EC38",
           null,
           null,
           "1001937",
           0.0001273366551671202,
           0.16780214112405314,
           0.08799272696822784,
           -0.13350282634132377
          ]
         ],
         "hovertemplate": "<b>%{customdata[0]}</b><br>Family Name: %{customdata[1]}<br>Domain: %{customdata[2]}<br>Kingdom: %{customdata[3]}</b><br>Phylum: %{customdata[4]}<br>Class: %{customdata[5]}<br>Order: %{customdata[6]}<br>Family: %{customdata[7]}<br>Genus: %{customdata[8]}<br>Species: %{customdata[9]}<br>EC Number: %{customdata[10]}<br>Mol Weight: %{customdata[11]}<br>Taxonomy ID: %{customdata[12]}<extra></extra>",
         "marker": {
          "color": "rgb(38, 130, 142)",
          "size": 6,
          "symbol": "circle"
         },
         "mode": "markers",
         "text": "small GTPase",
         "type": "scatter3d",
         "x": [
          0.16780214112405314
         ],
         "y": [
          0.08799272696822784
         ],
         "z": [
          -0.13350282634132377
         ]
        },
        {
         "customdata": [
          [
           "P-loop containing nucleoside triphosphate hydrolase protein",
           null,
           "Eukaryota",
           "Fungi",
           "Ascomycota",
           "Sordariomycetes",
           "Sordariales",
           "Chaetomiaceae",
           "Chaetomium",
           "Chaetomium sp. MPI-SDFR-AT-0129",
           null,
           null,
           "2823209",
           0.00024133794587813298,
           0.18276570549707255,
           0.11175403056736105,
           -0.05111934375710951
          ]
         ],
         "hovertemplate": "<b>%{customdata[0]}</b><br>Family Name: %{customdata[1]}<br>Domain: %{customdata[2]}<br>Kingdom: %{customdata[3]}</b><br>Phylum: %{customdata[4]}<br>Class: %{customdata[5]}<br>Order: %{customdata[6]}<br>Family: %{customdata[7]}<br>Genus: %{customdata[8]}<br>Species: %{customdata[9]}<br>EC Number: %{customdata[10]}<br>Mol Weight: %{customdata[11]}<br>Taxonomy ID: %{customdata[12]}<extra></extra>",
         "marker": {
          "color": "rgb(69, 10, 92)",
          "size": 6,
          "symbol": "circle"
         },
         "mode": "markers",
         "text": "P-loop containing nucleoside triphosphate hydrolase protein",
         "type": "scatter3d",
         "x": [
          0.18276570549707255
         ],
         "y": [
          0.11175403056736105
         ],
         "z": [
          -0.05111934375710951
         ]
        },
        {
         "customdata": [
          [
           "small GTPase",
           null,
           "Eukaryota",
           "Fungi",
           "Zoopagomycota",
           "Basidiobolomycetes",
           "Basidiobolales",
           "Basidiobolaceae",
           "Basidiobolus",
           "Basidiobolus meristosporus",
           null,
           null,
           "1314790",
           0.000004068962357299739,
           0.1552470679452984,
           0.1306721562233924,
           -0.13768541844749127
          ]
         ],
         "hovertemplate": "<b>%{customdata[0]}</b><br>Family Name: %{customdata[1]}<br>Domain: %{customdata[2]}<br>Kingdom: %{customdata[3]}</b><br>Phylum: %{customdata[4]}<br>Class: %{customdata[5]}<br>Order: %{customdata[6]}<br>Family: %{customdata[7]}<br>Genus: %{customdata[8]}<br>Species: %{customdata[9]}<br>EC Number: %{customdata[10]}<br>Mol Weight: %{customdata[11]}<br>Taxonomy ID: %{customdata[12]}<extra></extra>",
         "marker": {
          "color": "rgb(71, 34, 114)",
          "size": 6,
          "symbol": "circle"
         },
         "mode": "markers",
         "text": "small GTPase",
         "type": "scatter3d",
         "x": [
          0.1552470679452984
         ],
         "y": [
          0.1306721562233924
         ],
         "z": [
          -0.13768541844749127
         ]
        },
        {
         "customdata": [
          [
           "septum-promoting GTP-binding protein 1",
           null,
           "Eukaryota",
           "Fungi",
           "Basidiomycota",
           "Tremellomycetes",
           "Trichosporonales",
           "Trichosporonaceae",
           "Apiotrichum",
           "Apiotrichum porosum",
           null,
           23757,
           "105984",
           0.000007505845134040214,
           0.0972743454209825,
           0.12606278054556125,
           -0.07567252793287758
          ]
         ],
         "hovertemplate": "<b>%{customdata[0]}</b><br>Family Name: %{customdata[1]}<br>Domain: %{customdata[2]}<br>Kingdom: %{customdata[3]}</b><br>Phylum: %{customdata[4]}<br>Class: %{customdata[5]}<br>Order: %{customdata[6]}<br>Family: %{customdata[7]}<br>Genus: %{customdata[8]}<br>Species: %{customdata[9]}<br>EC Number: %{customdata[10]}<br>Mol Weight: %{customdata[11]}<br>Taxonomy ID: %{customdata[12]}<extra></extra>",
         "marker": {
          "color": "rgb(203, 225, 41)",
          "size": 6,
          "symbol": "circle"
         },
         "mode": "markers",
         "text": "septum-promoting GTP-binding protein 1",
         "type": "scatter3d",
         "x": [
          0.0972743454209825
         ],
         "y": [
          0.12606278054556125
         ],
         "z": [
          -0.07567252793287758
         ]
        },
        {
         "customdata": [
          [
           "Septum-promoting GTP-binding protein 1",
           null,
           "Eukaryota",
           "Fungi",
           "Ascomycota",
           "Saccharomycetes",
           "Saccharomycetales",
           "Trichomonascaceae",
           "Wickerhamiella",
           "Wickerhamiella sorbophila",
           null,
           23361,
           "45607",
           0,
           0.4323892653671704,
           -0.06804331192420367,
           0.118416333336223
          ]
         ],
         "hovertemplate": "<b>%{customdata[0]}</b><br>Family Name: %{customdata[1]}<br>Domain: %{customdata[2]}<br>Kingdom: %{customdata[3]}</b><br>Phylum: %{customdata[4]}<br>Class: %{customdata[5]}<br>Order: %{customdata[6]}<br>Family: %{customdata[7]}<br>Genus: %{customdata[8]}<br>Species: %{customdata[9]}<br>EC Number: %{customdata[10]}<br>Mol Weight: %{customdata[11]}<br>Taxonomy ID: %{customdata[12]}<extra></extra>",
         "marker": {
          "color": "rgb(33, 150, 138)",
          "size": 6,
          "symbol": "circle"
         },
         "mode": "markers",
         "text": "Septum-promoting GTP-binding protein 1",
         "type": "scatter3d",
         "x": [
          0.4323892653671704
         ],
         "y": [
          -0.06804331192420367
         ],
         "z": [
          0.118416333336223
         ]
        },
        {
         "customdata": [
          [
           "small GTPase",
           null,
           "Eukaryota",
           "Fungi",
           "Ascomycota",
           "Sordariomycetes",
           "Xylariales",
           "Hypoxylaceae",
           "Hypoxylon",
           "Hypoxylon sp. NC0597",
           null,
           null,
           "2614607",
           0.00010631244184697533,
           0.14199821598415005,
           0.13859438448179967,
           -0.10565775377215926
          ]
         ],
         "hovertemplate": "<b>%{customdata[0]}</b><br>Family Name: %{customdata[1]}<br>Domain: %{customdata[2]}<br>Kingdom: %{customdata[3]}</b><br>Phylum: %{customdata[4]}<br>Class: %{customdata[5]}<br>Order: %{customdata[6]}<br>Family: %{customdata[7]}<br>Genus: %{customdata[8]}<br>Species: %{customdata[9]}<br>EC Number: %{customdata[10]}<br>Mol Weight: %{customdata[11]}<br>Taxonomy ID: %{customdata[12]}<extra></extra>",
         "marker": {
          "color": "rgb(226, 228, 39)",
          "size": 6,
          "symbol": "circle"
         },
         "mode": "markers",
         "text": "small GTPase",
         "type": "scatter3d",
         "x": [
          0.14199821598415005
         ],
         "y": [
          0.13859438448179967
         ],
         "z": [
          -0.10565775377215926
         ]
        },
        {
         "customdata": [
          [
           "small GTPase",
           null,
           "Eukaryota",
           "Fungi",
           "Ascomycota",
           "Sordariomycetes",
           "Xylariales",
           "Hypoxylaceae",
           "Daldinia",
           "Daldinia bambusicola",
           null,
           null,
           "326643",
           0.00007410041649627837,
           0.10750507140715891,
           0.06240135785496841,
           -0.024672708269174976
          ]
         ],
         "hovertemplate": "<b>%{customdata[0]}</b><br>Family Name: %{customdata[1]}<br>Domain: %{customdata[2]}<br>Kingdom: %{customdata[3]}</b><br>Phylum: %{customdata[4]}<br>Class: %{customdata[5]}<br>Order: %{customdata[6]}<br>Family: %{customdata[7]}<br>Genus: %{customdata[8]}<br>Species: %{customdata[9]}<br>EC Number: %{customdata[10]}<br>Mol Weight: %{customdata[11]}<br>Taxonomy ID: %{customdata[12]}<extra></extra>",
         "marker": {
          "color": "rgb(41, 122, 142)",
          "size": 6,
          "symbol": "circle"
         },
         "mode": "markers",
         "text": "small GTPase",
         "type": "scatter3d",
         "x": [
          0.10750507140715891
         ],
         "y": [
          0.06240135785496841
         ],
         "z": [
          -0.024672708269174976
         ]
        },
        {
         "customdata": [
          [
           "septum-promoting GTP-binding protein 1",
           null,
           "Eukaryota",
           "Fungi",
           "Mucoromycota",
           "Mortierellomycetes",
           "Mortierellales",
           "Mortierellaceae",
           "Mortierella",
           "Mortierella sp. NVP85",
           null,
           null,
           "1896193",
           0.00011907504796858953,
           0.06928591395229801,
           0.04823674113064558,
           -0.0534246785185471
          ]
         ],
         "hovertemplate": "<b>%{customdata[0]}</b><br>Family Name: %{customdata[1]}<br>Domain: %{customdata[2]}<br>Kingdom: %{customdata[3]}</b><br>Phylum: %{customdata[4]}<br>Class: %{customdata[5]}<br>Order: %{customdata[6]}<br>Family: %{customdata[7]}<br>Genus: %{customdata[8]}<br>Species: %{customdata[9]}<br>EC Number: %{customdata[10]}<br>Mol Weight: %{customdata[11]}<br>Taxonomy ID: %{customdata[12]}<extra></extra>",
         "marker": {
          "color": "rgb(33, 152, 138)",
          "size": 6,
          "symbol": "circle"
         },
         "mode": "markers",
         "text": "septum-promoting GTP-binding protein 1",
         "type": "scatter3d",
         "x": [
          0.06928591395229801
         ],
         "y": [
          0.04823674113064558
         ],
         "z": [
          -0.0534246785185471
         ]
        },
        {
         "customdata": [
          [
           "septum-promoting GTP-binding protein 1",
           null,
           "Eukaryota",
           "Fungi",
           "Mucoromycota",
           "Mortierellomycetes",
           "Mortierellales",
           "Mortierellaceae",
           "Mortierella",
           "Mortierella sp. AD010",
           null,
           null,
           "1896179",
           0.00011422913645633827,
           0.11612002101556669,
           0.14871737656551703,
           -0.06504642328978501
          ]
         ],
         "hovertemplate": "<b>%{customdata[0]}</b><br>Family Name: %{customdata[1]}<br>Domain: %{customdata[2]}<br>Kingdom: %{customdata[3]}</b><br>Phylum: %{customdata[4]}<br>Class: %{customdata[5]}<br>Order: %{customdata[6]}<br>Family: %{customdata[7]}<br>Genus: %{customdata[8]}<br>Species: %{customdata[9]}<br>EC Number: %{customdata[10]}<br>Mol Weight: %{customdata[11]}<br>Taxonomy ID: %{customdata[12]}<extra></extra>",
         "marker": {
          "color": "rgb(38, 131, 142)",
          "size": 6,
          "symbol": "circle"
         },
         "mode": "markers",
         "text": "septum-promoting GTP-binding protein 1",
         "type": "scatter3d",
         "x": [
          0.11612002101556669
         ],
         "y": [
          0.14871737656551703
         ],
         "z": [
          -0.06504642328978501
         ]
        },
        {
         "customdata": [
          [
           "septum-promoting GTP-binding protein 1",
           null,
           "Eukaryota",
           "Fungi",
           "Mucoromycota",
           "Mortierellomycetes",
           "Mortierellales",
           "Mortierellaceae",
           "Mortierella",
           "Mortierella polycephala",
           null,
           null,
           "41804",
           0.0001361839285965092,
           0.08604526488412108,
           0.07474252708847003,
           -0.06781031865958652
          ]
         ],
         "hovertemplate": "<b>%{customdata[0]}</b><br>Family Name: %{customdata[1]}<br>Domain: %{customdata[2]}<br>Kingdom: %{customdata[3]}</b><br>Phylum: %{customdata[4]}<br>Class: %{customdata[5]}<br>Order: %{customdata[6]}<br>Family: %{customdata[7]}<br>Genus: %{customdata[8]}<br>Species: %{customdata[9]}<br>EC Number: %{customdata[10]}<br>Mol Weight: %{customdata[11]}<br>Taxonomy ID: %{customdata[12]}<extra></extra>",
         "marker": {
          "color": "rgb(140, 213, 69)",
          "size": 6,
          "symbol": "circle"
         },
         "mode": "markers",
         "text": "septum-promoting GTP-binding protein 1",
         "type": "scatter3d",
         "x": [
          0.08604526488412108
         ],
         "y": [
          0.07474252708847003
         ],
         "z": [
          -0.06781031865958652
         ]
        },
        {
         "customdata": [
          [
           "P-loop containing nucleoside triphosphate hydrolase protein",
           null,
           "Eukaryota",
           "Fungi",
           "Ascomycota",
           "Sordariomycetes",
           "Xylariales",
           "Hypoxylaceae",
           "Hypoxylon",
           "Hypoxylon sp. FL0543",
           null,
           null,
           "2614586",
           0.00007410041649627837,
           0.06659780012323889,
           0.0738298789841893,
           -0.0663325910302923
          ]
         ],
         "hovertemplate": "<b>%{customdata[0]}</b><br>Family Name: %{customdata[1]}<br>Domain: %{customdata[2]}<br>Kingdom: %{customdata[3]}</b><br>Phylum: %{customdata[4]}<br>Class: %{customdata[5]}<br>Order: %{customdata[6]}<br>Family: %{customdata[7]}<br>Genus: %{customdata[8]}<br>Species: %{customdata[9]}<br>EC Number: %{customdata[10]}<br>Mol Weight: %{customdata[11]}<br>Taxonomy ID: %{customdata[12]}<extra></extra>",
         "marker": {
          "color": "rgb(170, 219, 50)",
          "size": 6,
          "symbol": "circle"
         },
         "mode": "markers",
         "text": "P-loop containing nucleoside triphosphate hydrolase protein",
         "type": "scatter3d",
         "x": [
          0.06659780012323889
         ],
         "y": [
          0.0738298789841893
         ],
         "z": [
          -0.0663325910302923
         ]
        },
        {
         "customdata": [
          [
           "uncharacterized protein",
           null,
           "Eukaryota",
           "Fungi",
           "Ascomycota",
           "Pezizomycetes",
           "Pezizales",
           "Morchellaceae",
           "Morchella",
           "Morchella importuna",
           null,
           31936,
           "1174673",
           0.000264259108331408,
           0.13262162220211812,
           0.10477835576984819,
           -0.04077974576139181
          ]
         ],
         "hovertemplate": "<b>%{customdata[0]}</b><br>Family Name: %{customdata[1]}<br>Domain: %{customdata[2]}<br>Kingdom: %{customdata[3]}</b><br>Phylum: %{customdata[4]}<br>Class: %{customdata[5]}<br>Order: %{customdata[6]}<br>Family: %{customdata[7]}<br>Genus: %{customdata[8]}<br>Species: %{customdata[9]}<br>EC Number: %{customdata[10]}<br>Mol Weight: %{customdata[11]}<br>Taxonomy ID: %{customdata[12]}<extra></extra>",
         "marker": {
          "color": "rgb(53, 183, 121)",
          "size": 6,
          "symbol": "circle"
         },
         "mode": "markers",
         "text": "uncharacterized protein",
         "type": "scatter3d",
         "x": [
          0.13262162220211812
         ],
         "y": [
          0.10477835576984819
         ],
         "z": [
          -0.04077974576139181
         ]
        },
        {
         "customdata": [
          [
           "small GTPase",
           null,
           "Eukaryota",
           "Fungi",
           "Ascomycota",
           "Sordariomycetes",
           "Xylariales",
           "Hypoxylaceae",
           "Hypoxylon",
           "Hypoxylon sp. FL1857",
           null,
           null,
           "2614582",
           0.00007410041649627837,
           0.16025178419119634,
           0.1340113491869703,
           -0.09791595277374172
          ]
         ],
         "hovertemplate": "<b>%{customdata[0]}</b><br>Family Name: %{customdata[1]}<br>Domain: %{customdata[2]}<br>Kingdom: %{customdata[3]}</b><br>Phylum: %{customdata[4]}<br>Class: %{customdata[5]}<br>Order: %{customdata[6]}<br>Family: %{customdata[7]}<br>Genus: %{customdata[8]}<br>Species: %{customdata[9]}<br>EC Number: %{customdata[10]}<br>Mol Weight: %{customdata[11]}<br>Taxonomy ID: %{customdata[12]}<extra></extra>",
         "marker": {
          "color": "rgb(41, 170, 129)",
          "size": 6,
          "symbol": "circle"
         },
         "mode": "markers",
         "text": "small GTPase",
         "type": "scatter3d",
         "x": [
          0.16025178419119634
         ],
         "y": [
          0.1340113491869703
         ],
         "z": [
          -0.09791595277374172
         ]
        },
        {
         "customdata": [
          [
           "septum-promoting GTP-binding protein 1",
           null,
           "Eukaryota",
           "Fungi",
           "Mucoromycota",
           "Mortierellomycetes",
           "Mortierellales",
           "Mortierellaceae",
           "Mortierella",
           "Mortierella sp. GBA43",
           null,
           null,
           "1896190",
           0.0001458780613864227,
           0.12172059460013822,
           0.016630490920801978,
           -0.03746611003865884
          ]
         ],
         "hovertemplate": "<b>%{customdata[0]}</b><br>Family Name: %{customdata[1]}<br>Domain: %{customdata[2]}<br>Kingdom: %{customdata[3]}</b><br>Phylum: %{customdata[4]}<br>Class: %{customdata[5]}<br>Order: %{customdata[6]}<br>Family: %{customdata[7]}<br>Genus: %{customdata[8]}<br>Species: %{customdata[9]}<br>EC Number: %{customdata[10]}<br>Mol Weight: %{customdata[11]}<br>Taxonomy ID: %{customdata[12]}<extra></extra>",
         "marker": {
          "color": "rgb(70, 47, 124)",
          "size": 6,
          "symbol": "circle"
         },
         "mode": "markers",
         "text": "septum-promoting GTP-binding protein 1",
         "type": "scatter3d",
         "x": [
          0.12172059460013822
         ],
         "y": [
          0.016630490920801978
         ],
         "z": [
          -0.03746611003865884
         ]
        },
        {
         "customdata": [
          [
           "uncharacterized protein",
           null,
           "Eukaryota",
           "Fungi",
           "Ascomycota",
           "Pezizomycetes",
           "Pezizales",
           "Morchellaceae",
           "Morchella",
           "Morchella sextelata",
           null,
           31511,
           "1174677",
           0.000264259108331408,
           0.19069439442343367,
           0.06761519723818628,
           -0.0990266999797313
          ]
         ],
         "hovertemplate": "<b>%{customdata[0]}</b><br>Family Name: %{customdata[1]}<br>Domain: %{customdata[2]}<br>Kingdom: %{customdata[3]}</b><br>Phylum: %{customdata[4]}<br>Class: %{customdata[5]}<br>Order: %{customdata[6]}<br>Family: %{customdata[7]}<br>Genus: %{customdata[8]}<br>Species: %{customdata[9]}<br>EC Number: %{customdata[10]}<br>Mol Weight: %{customdata[11]}<br>Taxonomy ID: %{customdata[12]}<extra></extra>",
         "marker": {
          "color": "rgb(69, 12, 94)",
          "size": 6,
          "symbol": "circle"
         },
         "mode": "markers",
         "text": "uncharacterized protein",
         "type": "scatter3d",
         "x": [
          0.19069439442343367
         ],
         "y": [
          0.06761519723818628
         ],
         "z": [
          -0.0990266999797313
         ]
        },
        {
         "customdata": [
          [
           "small GTPase",
           null,
           "Eukaryota",
           "Fungi",
           "Ascomycota",
           "Pezizomycetes",
           "Pezizales",
           "Tuberaceae",
           "Choiromyces",
           "Choiromyces venosus",
           null,
           null,
           "1336337",
           0.000264259108331408,
           0.14632456222725979,
           0.029598350949104645,
           -0.055390810826431165
          ]
         ],
         "hovertemplate": "<b>%{customdata[0]}</b><br>Family Name: %{customdata[1]}<br>Domain: %{customdata[2]}<br>Kingdom: %{customdata[3]}</b><br>Phylum: %{customdata[4]}<br>Class: %{customdata[5]}<br>Order: %{customdata[6]}<br>Family: %{customdata[7]}<br>Genus: %{customdata[8]}<br>Species: %{customdata[9]}<br>EC Number: %{customdata[10]}<br>Mol Weight: %{customdata[11]}<br>Taxonomy ID: %{customdata[12]}<extra></extra>",
         "marker": {
          "color": "rgb(48, 177, 125)",
          "size": 6,
          "symbol": "circle"
         },
         "mode": "markers",
         "text": "small GTPase",
         "type": "scatter3d",
         "x": [
          0.14632456222725979
         ],
         "y": [
          0.029598350949104645
         ],
         "z": [
          -0.055390810826431165
         ]
        },
        {
         "customdata": [
          [
           "septum-promoting GTP-binding protein 1",
           null,
           "Eukaryota",
           "Fungi",
           "Mucoromycota",
           "Mortierellomycetes",
           "Mortierellales",
           "Mortierellaceae",
           "Actinomortierella",
           "Actinomortierella wolfii",
           null,
           null,
           "90253",
           0.000177781414798738,
           0.18092447140425094,
           0.14833943249945772,
           -0.09219444137796709
          ]
         ],
         "hovertemplate": "<b>%{customdata[0]}</b><br>Family Name: %{customdata[1]}<br>Domain: %{customdata[2]}<br>Kingdom: %{customdata[3]}</b><br>Phylum: %{customdata[4]}<br>Class: %{customdata[5]}<br>Order: %{customdata[6]}<br>Family: %{customdata[7]}<br>Genus: %{customdata[8]}<br>Species: %{customdata[9]}<br>EC Number: %{customdata[10]}<br>Mol Weight: %{customdata[11]}<br>Taxonomy ID: %{customdata[12]}<extra></extra>",
         "marker": {
          "color": "rgb(32, 156, 137)",
          "size": 6,
          "symbol": "circle"
         },
         "mode": "markers",
         "text": "septum-promoting GTP-binding protein 1",
         "type": "scatter3d",
         "x": [
          0.18092447140425094
         ],
         "y": [
          0.14833943249945772
         ],
         "z": [
          -0.09219444137796709
         ]
        },
        {
         "customdata": [
          [
           "P-loop containing nucleoside triphosphate hydrolase protein",
           null,
           "Eukaryota",
           "Fungi",
           "Ascomycota",
           "Sordariomycetes",
           "Sordariales",
           "Chaetomiaceae",
           "Chaetomium",
           "Chaetomium globosum",
           null,
           null,
           "38033",
           0.000264259108331408,
           0.19471548910651076,
           0.08714992733243215,
           -0.04268392762489207
          ]
         ],
         "hovertemplate": "<b>%{customdata[0]}</b><br>Family Name: %{customdata[1]}<br>Domain: %{customdata[2]}<br>Kingdom: %{customdata[3]}</b><br>Phylum: %{customdata[4]}<br>Class: %{customdata[5]}<br>Order: %{customdata[6]}<br>Family: %{customdata[7]}<br>Genus: %{customdata[8]}<br>Species: %{customdata[9]}<br>EC Number: %{customdata[10]}<br>Mol Weight: %{customdata[11]}<br>Taxonomy ID: %{customdata[12]}<extra></extra>",
         "marker": {
          "color": "rgb(43, 172, 128)",
          "size": 6,
          "symbol": "circle"
         },
         "mode": "markers",
         "text": "P-loop containing nucleoside triphosphate hydrolase protein",
         "type": "scatter3d",
         "x": [
          0.19471548910651076
         ],
         "y": [
          0.08714992733243215
         ],
         "z": [
          -0.04268392762489207
         ]
        },
        {
         "customdata": [
          [
           "GTP-binding protein of the ras superfamily involved in termination of M-phase",
           null,
           "Eukaryota",
           "Fungi",
           "Ascomycota",
           "Saccharomycetes",
           "Saccharomycetales",
           "Phaffomycetaceae",
           "Komagataella",
           "Komagataella phaffii",
           null,
           24831,
           "644223",
           0.000009878452089507375,
           0.1774060182084206,
           0.018781493730114243,
           -0.12303207052550098
          ]
         ],
         "hovertemplate": "<b>%{customdata[0]}</b><br>Family Name: %{customdata[1]}<br>Domain: %{customdata[2]}<br>Kingdom: %{customdata[3]}</b><br>Phylum: %{customdata[4]}<br>Class: %{customdata[5]}<br>Order: %{customdata[6]}<br>Family: %{customdata[7]}<br>Genus: %{customdata[8]}<br>Species: %{customdata[9]}<br>EC Number: %{customdata[10]}<br>Mol Weight: %{customdata[11]}<br>Taxonomy ID: %{customdata[12]}<extra></extra>",
         "marker": {
          "color": "rgb(105, 204, 91)",
          "size": 6,
          "symbol": "circle"
         },
         "mode": "markers",
         "text": "GTP-binding protein of the ras superfamily involved in termination of M-phase",
         "type": "scatter3d",
         "x": [
          0.1774060182084206
         ],
         "y": [
          0.018781493730114243
         ],
         "z": [
          -0.12303207052550098
         ]
        },
        {
         "customdata": [
          [
           "septum-promoting GTP-binding protein 1",
           null,
           "Eukaryota",
           "Fungi",
           "Ascomycota",
           "Pezizomycetes",
           "Pezizales",
           "Pyronemataceae",
           "Sphaerosporella",
           "Sphaerosporella brunnea",
           null,
           null,
           "1250544",
           0.00019518167585876118,
           0.13495638681011335,
           0.051675173059143195,
           -0.09616478196299812
          ]
         ],
         "hovertemplate": "<b>%{customdata[0]}</b><br>Family Name: %{customdata[1]}<br>Domain: %{customdata[2]}<br>Kingdom: %{customdata[3]}</b><br>Phylum: %{customdata[4]}<br>Class: %{customdata[5]}<br>Order: %{customdata[6]}<br>Family: %{customdata[7]}<br>Genus: %{customdata[8]}<br>Species: %{customdata[9]}<br>EC Number: %{customdata[10]}<br>Mol Weight: %{customdata[11]}<br>Taxonomy ID: %{customdata[12]}<extra></extra>",
         "marker": {
          "color": "rgb(35, 140, 140)",
          "size": 6,
          "symbol": "circle"
         },
         "mode": "markers",
         "text": "septum-promoting GTP-binding protein 1",
         "type": "scatter3d",
         "x": [
          0.13495638681011335
         ],
         "y": [
          0.051675173059143195
         ],
         "z": [
          -0.09616478196299812
         ]
        },
        {
         "customdata": [
          [
           "protein TEM1",
           null,
           "Eukaryota",
           "Fungi",
           "Ascomycota",
           "Sordariomycetes",
           "Hypocreales",
           "Cordycipitaceae",
           "Cordyceps",
           "Cordyceps fumosorosea",
           null,
           36213,
           "1081104",
           0.00019518167585876118,
           0.11630692970297538,
           0.04920689720811773,
           -0.0972592920240672
          ]
         ],
         "hovertemplate": "<b>%{customdata[0]}</b><br>Family Name: %{customdata[1]}<br>Domain: %{customdata[2]}<br>Kingdom: %{customdata[3]}</b><br>Phylum: %{customdata[4]}<br>Class: %{customdata[5]}<br>Order: %{customdata[6]}<br>Family: %{customdata[7]}<br>Genus: %{customdata[8]}<br>Species: %{customdata[9]}<br>EC Number: %{customdata[10]}<br>Mol Weight: %{customdata[11]}<br>Taxonomy ID: %{customdata[12]}<extra></extra>",
         "marker": {
          "color": "rgb(173, 220, 48)",
          "size": 6,
          "symbol": "circle"
         },
         "mode": "markers",
         "text": "protein TEM1",
         "type": "scatter3d",
         "x": [
          0.11630692970297538
         ],
         "y": [
          0.04920689720811773
         ],
         "z": [
          -0.0972592920240672
         ]
        },
        {
         "customdata": [
          [
           "GTP-binding protein",
           null,
           "Eukaryota",
           "Fungi",
           "Ascomycota",
           "Sordariomycetes",
           "Xylariales",
           "Xylariaceae",
           "Xylaria",
           "Xylaria nigripes",
           null,
           null,
           "490159",
           0.0001431778489689251,
           0.15969258405522854,
           0.04007086107764465,
           -0.054741772205688786
          ]
         ],
         "hovertemplate": "<b>%{customdata[0]}</b><br>Family Name: %{customdata[1]}<br>Domain: %{customdata[2]}<br>Kingdom: %{customdata[3]}</b><br>Phylum: %{customdata[4]}<br>Class: %{customdata[5]}<br>Order: %{customdata[6]}<br>Family: %{customdata[7]}<br>Genus: %{customdata[8]}<br>Species: %{customdata[9]}<br>EC Number: %{customdata[10]}<br>Mol Weight: %{customdata[11]}<br>Taxonomy ID: %{customdata[12]}<extra></extra>",
         "marker": {
          "color": "rgb(76, 192, 108)",
          "size": 6,
          "symbol": "circle"
         },
         "mode": "markers",
         "text": "GTP-binding protein",
         "type": "scatter3d",
         "x": [
          0.15969258405522854
         ],
         "y": [
          0.04007086107764465
         ],
         "z": [
          -0.054741772205688786
         ]
        },
        {
         "customdata": [
          [
           "P-loop containing nucleoside triphosphate hydrolase protein",
           null,
           "Eukaryota",
           "Fungi",
           "Ascomycota",
           "Pezizomycetes",
           "Pezizales",
           "Tuberaceae",
           "Tuber",
           "Tuber indicum",
           null,
           null,
           "55307",
           0.000264259108331408,
           0.14758859945556907,
           0.10154670856493422,
           -0.10898813227491283
          ]
         ],
         "hovertemplate": "<b>%{customdata[0]}</b><br>Family Name: %{customdata[1]}<br>Domain: %{customdata[2]}<br>Kingdom: %{customdata[3]}</b><br>Phylum: %{customdata[4]}<br>Class: %{customdata[5]}<br>Order: %{customdata[6]}<br>Family: %{customdata[7]}<br>Genus: %{customdata[8]}<br>Species: %{customdata[9]}<br>EC Number: %{customdata[10]}<br>Mol Weight: %{customdata[11]}<br>Taxonomy ID: %{customdata[12]}<extra></extra>",
         "marker": {
          "color": "rgb(60, 186, 117)",
          "size": 6,
          "symbol": "circle"
         },
         "mode": "markers",
         "text": "P-loop containing nucleoside triphosphate hydrolase protein",
         "type": "scatter3d",
         "x": [
          0.14758859945556907
         ],
         "y": [
          0.10154670856493422
         ],
         "z": [
          -0.10898813227491283
         ]
        },
        {
         "customdata": [
          [
           "P-loop containing nucleoside triphosphate hydrolase protein",
           null,
           "Eukaryota",
           "Fungi",
           "Ascomycota",
           "Sordariomycetes",
           null,
           null,
           null,
           "Xylariomycetidae sp. FL2044",
           null,
           null,
           "2614609",
           0.00014194543718791931,
           0.11158810231191446,
           0.05945453511677878,
           -0.06212213099934216
          ]
         ],
         "hovertemplate": "<b>%{customdata[0]}</b><br>Family Name: %{customdata[1]}<br>Domain: %{customdata[2]}<br>Kingdom: %{customdata[3]}</b><br>Phylum: %{customdata[4]}<br>Class: %{customdata[5]}<br>Order: %{customdata[6]}<br>Family: %{customdata[7]}<br>Genus: %{customdata[8]}<br>Species: %{customdata[9]}<br>EC Number: %{customdata[10]}<br>Mol Weight: %{customdata[11]}<br>Taxonomy ID: %{customdata[12]}<extra></extra>",
         "marker": {
          "color": "rgb(73, 191, 109)",
          "size": 6,
          "symbol": "circle"
         },
         "mode": "markers",
         "text": "P-loop containing nucleoside triphosphate hydrolase protein",
         "type": "scatter3d",
         "x": [
          0.11158810231191446
         ],
         "y": [
          0.05945453511677878
         ],
         "z": [
          -0.06212213099934216
         ]
        },
        {
         "customdata": [
          [
           "DEKNAAC105557",
           null,
           "Eukaryota",
           "Fungi",
           "Ascomycota",
           "Saccharomycetes",
           "Saccharomycetales",
           "Pichiaceae",
           "Brettanomyces",
           "Brettanomyces naardenensis",
           null,
           null,
           "13370",
           0.0011074924032443464,
           0.20342753783277062,
           0.05245091364821045,
           -0.04442986584021494
          ]
         ],
         "hovertemplate": "<b>%{customdata[0]}</b><br>Family Name: %{customdata[1]}<br>Domain: %{customdata[2]}<br>Kingdom: %{customdata[3]}</b><br>Phylum: %{customdata[4]}<br>Class: %{customdata[5]}<br>Order: %{customdata[6]}<br>Family: %{customdata[7]}<br>Genus: %{customdata[8]}<br>Species: %{customdata[9]}<br>EC Number: %{customdata[10]}<br>Mol Weight: %{customdata[11]}<br>Taxonomy ID: %{customdata[12]}<extra></extra>",
         "marker": {
          "color": "rgb(246, 230, 38)",
          "size": 6,
          "symbol": "circle"
         },
         "mode": "markers",
         "text": "DEKNAAC105557",
         "type": "scatter3d",
         "x": [
          0.20342753783277062
         ],
         "y": [
          0.05245091364821045
         ],
         "z": [
          -0.04442986584021494
         ]
        },
        {
         "customdata": [
          [
           "P-loop containing nucleoside triphosphate hydrolase protein",
           null,
           "Eukaryota",
           "Fungi",
           "Ascomycota",
           "Sordariomycetes",
           "Xylariales",
           "Xylariaceae",
           "Xylaria",
           "Xylaria sp. FL0933",
           null,
           null,
           "2614584",
           0.00019641408763976692,
           0.19294300294355415,
           0.10424734386496164,
           -0.03442215002757143
          ]
         ],
         "hovertemplate": "<b>%{customdata[0]}</b><br>Family Name: %{customdata[1]}<br>Domain: %{customdata[2]}<br>Kingdom: %{customdata[3]}</b><br>Phylum: %{customdata[4]}<br>Class: %{customdata[5]}<br>Order: %{customdata[6]}<br>Family: %{customdata[7]}<br>Genus: %{customdata[8]}<br>Species: %{customdata[9]}<br>EC Number: %{customdata[10]}<br>Mol Weight: %{customdata[11]}<br>Taxonomy ID: %{customdata[12]}<extra></extra>",
         "marker": {
          "color": "rgb(108, 205, 89)",
          "size": 6,
          "symbol": "circle"
         },
         "mode": "markers",
         "text": "P-loop containing nucleoside triphosphate hydrolase protein",
         "type": "scatter3d",
         "x": [
          0.19294300294355415
         ],
         "y": [
          0.10424734386496164
         ],
         "z": [
          -0.03442215002757143
         ]
        },
        {
         "customdata": [
          [
           "septum initiation protein sid3",
           null,
           "Eukaryota",
           "Fungi",
           "Ascomycota",
           "Sordariomycetes",
           "Xylariales",
           "Xylariaceae",
           "Biscogniauxia",
           "Biscogniauxia marginata",
           null,
           null,
           "110534",
           0.00019641408763976692,
           0.10223686195987004,
           0.06641614345159516,
           -0.1080835267587839
          ]
         ],
         "hovertemplate": "<b>%{customdata[0]}</b><br>Family Name: %{customdata[1]}<br>Domain: %{customdata[2]}<br>Kingdom: %{customdata[3]}</b><br>Phylum: %{customdata[4]}<br>Class: %{customdata[5]}<br>Order: %{customdata[6]}<br>Family: %{customdata[7]}<br>Genus: %{customdata[8]}<br>Species: %{customdata[9]}<br>EC Number: %{customdata[10]}<br>Mol Weight: %{customdata[11]}<br>Taxonomy ID: %{customdata[12]}<extra></extra>",
         "marker": {
          "color": "rgb(32, 159, 136)",
          "size": 6,
          "symbol": "circle"
         },
         "mode": "markers",
         "text": "septum initiation protein sid3",
         "type": "scatter3d",
         "x": [
          0.10223686195987004
         ],
         "y": [
          0.06641614345159516
         ],
         "z": [
          -0.1080835267587839
         ]
        },
        {
         "customdata": [
          [
           "small GTPase",
           null,
           "Eukaryota",
           "Fungi",
           "Ascomycota",
           "Sordariomycetes",
           "Xylariales",
           "Hypoxylaceae",
           "Hypoxylon",
           "Hypoxylon sp. NC1633",
           null,
           null,
           "2663366",
           0.00007410041649627837,
           0.08955114019971572,
           0.0786278496132035,
           -0.09038399262521638
          ]
         ],
         "hovertemplate": "<b>%{customdata[0]}</b><br>Family Name: %{customdata[1]}<br>Domain: %{customdata[2]}<br>Kingdom: %{customdata[3]}</b><br>Phylum: %{customdata[4]}<br>Class: %{customdata[5]}<br>Order: %{customdata[6]}<br>Family: %{customdata[7]}<br>Genus: %{customdata[8]}<br>Species: %{customdata[9]}<br>EC Number: %{customdata[10]}<br>Mol Weight: %{customdata[11]}<br>Taxonomy ID: %{customdata[12]}<extra></extra>",
         "marker": {
          "color": "rgb(223, 227, 40)",
          "size": 6,
          "symbol": "circle"
         },
         "mode": "markers",
         "text": "small GTPase",
         "type": "scatter3d",
         "x": [
          0.08955114019971572
         ],
         "y": [
          0.0786278496132035
         ],
         "z": [
          -0.09038399262521638
         ]
        },
        {
         "customdata": [
          [
           "GTPase Spg1",
           null,
           "Eukaryota",
           "Fungi",
           "Ascomycota",
           "Schizosaccharomycetes",
           "Schizosaccharomycetales",
           "Schizosaccharomycetaceae",
           "Schizosaccharomyces",
           "Schizosaccharomyces pombe",
           null,
           22412,
           "4896",
           0,
           0.13492777712457973,
           0.16652932338095683,
           -0.04343322817962067
          ]
         ],
         "hovertemplate": "<b>%{customdata[0]}</b><br>Family Name: %{customdata[1]}<br>Domain: %{customdata[2]}<br>Kingdom: %{customdata[3]}</b><br>Phylum: %{customdata[4]}<br>Class: %{customdata[5]}<br>Order: %{customdata[6]}<br>Family: %{customdata[7]}<br>Genus: %{customdata[8]}<br>Species: %{customdata[9]}<br>EC Number: %{customdata[10]}<br>Mol Weight: %{customdata[11]}<br>Taxonomy ID: %{customdata[12]}<extra></extra>",
         "marker": {
          "color": "rgb(42, 121, 142)",
          "size": 6,
          "symbol": "circle"
         },
         "mode": "markers",
         "text": "GTPase Spg1",
         "type": "scatter3d",
         "x": [
          0.13492777712457973
         ],
         "y": [
          0.16652932338095683
         ],
         "z": [
          -0.04343322817962067
         ]
        },
        {
         "customdata": [
          [
           "P-loop containing nucleoside triphosphate hydrolase protein",
           null,
           "Eukaryota",
           "Fungi",
           "Ascomycota",
           "Sordariomycetes",
           "Xylariales",
           "Xylariaceae",
           "Xylaria",
           "Xylaria sp. FL1042",
           null,
           null,
           "2614583",
           0.0001273366551671202,
           0.09199356839636341,
           0.054006482242633845,
           -0.02776257559600017
          ]
         ],
         "hovertemplate": "<b>%{customdata[0]}</b><br>Family Name: %{customdata[1]}<br>Domain: %{customdata[2]}<br>Kingdom: %{customdata[3]}</b><br>Phylum: %{customdata[4]}<br>Class: %{customdata[5]}<br>Order: %{customdata[6]}<br>Family: %{customdata[7]}<br>Genus: %{customdata[8]}<br>Species: %{customdata[9]}<br>EC Number: %{customdata[10]}<br>Mol Weight: %{customdata[11]}<br>Taxonomy ID: %{customdata[12]}<extra></extra>",
         "marker": {
          "color": "rgb(110, 206, 88)",
          "size": 6,
          "symbol": "circle"
         },
         "mode": "markers",
         "text": "P-loop containing nucleoside triphosphate hydrolase protein",
         "type": "scatter3d",
         "x": [
          0.09199356839636341
         ],
         "y": [
          0.054006482242633845
         ],
         "z": [
          -0.02776257559600017
         ]
        },
        {
         "customdata": [
          [
           "small GTPase",
           null,
           "Eukaryota",
           "Fungi",
           "Basidiomycota",
           "Atractiellomycetes",
           "Atractiellales",
           "Hoehnelomycetaceae",
           "Atractiella",
           "Atractiella rhizophila",
           null,
           null,
           "1938712",
           0.000010917928324262736,
           0.10422453625113764,
           0.13771138716881606,
           -0.0571845193107833
          ]
         ],
         "hovertemplate": "<b>%{customdata[0]}</b><br>Family Name: %{customdata[1]}<br>Domain: %{customdata[2]}<br>Kingdom: %{customdata[3]}</b><br>Phylum: %{customdata[4]}<br>Class: %{customdata[5]}<br>Order: %{customdata[6]}<br>Family: %{customdata[7]}<br>Genus: %{customdata[8]}<br>Species: %{customdata[9]}<br>EC Number: %{customdata[10]}<br>Mol Weight: %{customdata[11]}<br>Taxonomy ID: %{customdata[12]}<extra></extra>",
         "marker": {
          "color": "rgb(69, 50, 125)",
          "size": 6,
          "symbol": "circle"
         },
         "mode": "markers",
         "text": "small GTPase",
         "type": "scatter3d",
         "x": [
          0.10422453625113764
         ],
         "y": [
          0.13771138716881606
         ],
         "z": [
          -0.0571845193107833
         ]
        },
        {
         "customdata": [
          [
           "GTP-binding protein",
           null,
           "Eukaryota",
           "Fungi",
           "Ascomycota",
           "Eurotiomycetes",
           "Eurotiales",
           "Aspergillaceae",
           "Aspergillus",
           "Aspergillus sp. HF37",
           null,
           null,
           "1960876",
           0.000264259108331408,
           0.1413058860444806,
           0.13829768714878887,
           -0.05915587844594631
          ]
         ],
         "hovertemplate": "<b>%{customdata[0]}</b><br>Family Name: %{customdata[1]}<br>Domain: %{customdata[2]}<br>Kingdom: %{customdata[3]}</b><br>Phylum: %{customdata[4]}<br>Class: %{customdata[5]}<br>Order: %{customdata[6]}<br>Family: %{customdata[7]}<br>Genus: %{customdata[8]}<br>Species: %{customdata[9]}<br>EC Number: %{customdata[10]}<br>Mol Weight: %{customdata[11]}<br>Taxonomy ID: %{customdata[12]}<extra></extra>",
         "marker": {
          "color": "rgb(49, 104, 142)",
          "size": 6,
          "symbol": "circle"
         },
         "mode": "markers",
         "text": "GTP-binding protein",
         "type": "scatter3d",
         "x": [
          0.1413058860444806
         ],
         "y": [
          0.13829768714878887
         ],
         "z": [
          -0.05915587844594631
         ]
        },
        {
         "customdata": [
          [
           "septum-promoting GTP-binding protein 1",
           null,
           "Eukaryota",
           "Fungi",
           "Mucoromycota",
           "Mortierellomycetes",
           "Mortierellales",
           "Mortierellaceae",
           "Haplosporangium",
           "Haplosporangium gracile",
           null,
           null,
           "2779863",
           0.00011907735773400049,
           0.09104640556850169,
           0.1325163957351963,
           -0.05584495040057759
          ]
         ],
         "hovertemplate": "<b>%{customdata[0]}</b><br>Family Name: %{customdata[1]}<br>Domain: %{customdata[2]}<br>Kingdom: %{customdata[3]}</b><br>Phylum: %{customdata[4]}<br>Class: %{customdata[5]}<br>Order: %{customdata[6]}<br>Family: %{customdata[7]}<br>Genus: %{customdata[8]}<br>Species: %{customdata[9]}<br>EC Number: %{customdata[10]}<br>Mol Weight: %{customdata[11]}<br>Taxonomy ID: %{customdata[12]}<extra></extra>",
         "marker": {
          "color": "rgb(37, 132, 142)",
          "size": 6,
          "symbol": "circle"
         },
         "mode": "markers",
         "text": "septum-promoting GTP-binding protein 1",
         "type": "scatter3d",
         "x": [
          0.09104640556850169
         ],
         "y": [
          0.1325163957351963
         ],
         "z": [
          -0.05584495040057759
         ]
        },
        {
         "customdata": [
          [
           "hypothetical protein",
           null,
           "Eukaryota",
           "Fungi",
           "Ascomycota",
           "Saccharomycetes",
           "Saccharomycetales",
           "Lipomycetaceae",
           "Lipomyces",
           "Lipomyces starkeyi",
           null,
           null,
           "675824",
           0.00003109042543624817,
           0.09682039754242559,
           0.11584448502327616,
           -0.049786730020050914
          ]
         ],
         "hovertemplate": "<b>%{customdata[0]}</b><br>Family Name: %{customdata[1]}<br>Domain: %{customdata[2]}<br>Kingdom: %{customdata[3]}</b><br>Phylum: %{customdata[4]}<br>Class: %{customdata[5]}<br>Order: %{customdata[6]}<br>Family: %{customdata[7]}<br>Genus: %{customdata[8]}<br>Species: %{customdata[9]}<br>EC Number: %{customdata[10]}<br>Mol Weight: %{customdata[11]}<br>Taxonomy ID: %{customdata[12]}<extra></extra>",
         "marker": {
          "color": "rgb(54, 92, 140)",
          "size": 6,
          "symbol": "circle"
         },
         "mode": "markers",
         "text": "hypothetical protein",
         "type": "scatter3d",
         "x": [
          0.09682039754242559
         ],
         "y": [
          0.11584448502327616
         ],
         "z": [
          -0.049786730020050914
         ]
        },
        {
         "customdata": [
          [
           "P-loop containing nucleoside triphosphate hydrolase protein",
           null,
           "Eukaryota",
           "Fungi",
           "Ascomycota",
           "Sordariomycetes",
           "Xylariales",
           "Microdochiaceae",
           "Microdochium",
           "Microdochium bolleyi",
           null,
           null,
           "196109",
           0.000264259108331408,
           0.18100250972951176,
           0.09833781545487717,
           -0.0674457631287088
          ]
         ],
         "hovertemplate": "<b>%{customdata[0]}</b><br>Family Name: %{customdata[1]}<br>Domain: %{customdata[2]}<br>Kingdom: %{customdata[3]}</b><br>Phylum: %{customdata[4]}<br>Class: %{customdata[5]}<br>Order: %{customdata[6]}<br>Family: %{customdata[7]}<br>Genus: %{customdata[8]}<br>Species: %{customdata[9]}<br>EC Number: %{customdata[10]}<br>Mol Weight: %{customdata[11]}<br>Taxonomy ID: %{customdata[12]}<extra></extra>",
         "marker": {
          "color": "rgb(64, 67, 134)",
          "size": 6,
          "symbol": "circle"
         },
         "mode": "markers",
         "text": "P-loop containing nucleoside triphosphate hydrolase protein",
         "type": "scatter3d",
         "x": [
          0.18100250972951176
         ],
         "y": [
          0.09833781545487717
         ],
         "z": [
          -0.0674457631287088
         ]
        },
        {
         "customdata": [
          [
           "P-loop containing nucleoside triphosphate hydrolase protein",
           null,
           "Eukaryota",
           "Fungi",
           "Ascomycota",
           "Sordariomycetes",
           "Xylariales",
           "Xylariaceae",
           "Durotheca",
           "Durotheca rogersii",
           null,
           33310,
           "419775",
           0.00007410041649627837,
           0.1701530771773852,
           0.11535744420039316,
           -0.07967750428357645
          ]
         ],
         "hovertemplate": "<b>%{customdata[0]}</b><br>Family Name: %{customdata[1]}<br>Domain: %{customdata[2]}<br>Kingdom: %{customdata[3]}</b><br>Phylum: %{customdata[4]}<br>Class: %{customdata[5]}<br>Order: %{customdata[6]}<br>Family: %{customdata[7]}<br>Genus: %{customdata[8]}<br>Species: %{customdata[9]}<br>EC Number: %{customdata[10]}<br>Mol Weight: %{customdata[11]}<br>Taxonomy ID: %{customdata[12]}<extra></extra>",
         "marker": {
          "color": "rgb(67, 56, 128)",
          "size": 6,
          "symbol": "circle"
         },
         "mode": "markers",
         "text": "P-loop containing nucleoside triphosphate hydrolase protein",
         "type": "scatter3d",
         "x": [
          0.1701530771773852
         ],
         "y": [
          0.11535744420039316
         ],
         "z": [
          -0.07967750428357645
         ]
        },
        {
         "customdata": [
          [
           "hypothetical protein",
           null,
           "Eukaryota",
           "Fungi",
           "Ascomycota",
           "Eurotiomycetes",
           "Eurotiales",
           "Aspergillaceae",
           "Aspergillus",
           "Aspergillus terreus",
           null,
           null,
           "33178",
           0.000264259108331408,
           0.16759959471334165,
           0.14016513326482155,
           -0.05415283726023839
          ]
         ],
         "hovertemplate": "<b>%{customdata[0]}</b><br>Family Name: %{customdata[1]}<br>Domain: %{customdata[2]}<br>Kingdom: %{customdata[3]}</b><br>Phylum: %{customdata[4]}<br>Class: %{customdata[5]}<br>Order: %{customdata[6]}<br>Family: %{customdata[7]}<br>Genus: %{customdata[8]}<br>Species: %{customdata[9]}<br>EC Number: %{customdata[10]}<br>Mol Weight: %{customdata[11]}<br>Taxonomy ID: %{customdata[12]}<extra></extra>",
         "marker": {
          "color": "rgb(69, 14, 96)",
          "size": 6,
          "symbol": "circle"
         },
         "mode": "markers",
         "text": "hypothetical protein",
         "type": "scatter3d",
         "x": [
          0.16759959471334165
         ],
         "y": [
          0.14016513326482155
         ],
         "z": [
          -0.05415283726023839
         ]
        },
        {
         "customdata": [
          [
           "small GTPase",
           null,
           "Eukaryota",
           "Fungi",
           "Ascomycota",
           "Pezizomycetes",
           "Pezizales",
           "Ascobolaceae",
           "Ascobolus",
           "Ascobolus immersus",
           null,
           null,
           "1160509",
           0.00007410041649627837,
           0.15733407924763118,
           0.10216772860361761,
           -0.1008529430490366
          ]
         ],
         "hovertemplate": "<b>%{customdata[0]}</b><br>Family Name: %{customdata[1]}<br>Domain: %{customdata[2]}<br>Kingdom: %{customdata[3]}</b><br>Phylum: %{customdata[4]}<br>Class: %{customdata[5]}<br>Order: %{customdata[6]}<br>Family: %{customdata[7]}<br>Genus: %{customdata[8]}<br>Species: %{customdata[9]}<br>EC Number: %{customdata[10]}<br>Mol Weight: %{customdata[11]}<br>Taxonomy ID: %{customdata[12]}<extra></extra>",
         "marker": {
          "color": "rgb(213, 226, 40)",
          "size": 6,
          "symbol": "circle"
         },
         "mode": "markers",
         "text": "small GTPase",
         "type": "scatter3d",
         "x": [
          0.15733407924763118
         ],
         "y": [
          0.10216772860361761
         ],
         "z": [
          -0.1008529430490366
         ]
        },
        {
         "customdata": [
          [
           "small GTPase",
           null,
           "Eukaryota",
           "Fungi",
           "Ascomycota",
           "Eurotiomycetes",
           "Eurotiales",
           "Aspergillaceae",
           "Aspergillus",
           "Aspergillus candidus",
           null,
           36932,
           "41067",
           0.000264259108331408,
           0.17332652812669055,
           0.0722389307331065,
           -0.12204362875735338
          ]
         ],
         "hovertemplate": "<b>%{customdata[0]}</b><br>Family Name: %{customdata[1]}<br>Domain: %{customdata[2]}<br>Kingdom: %{customdata[3]}</b><br>Phylum: %{customdata[4]}<br>Class: %{customdata[5]}<br>Order: %{customdata[6]}<br>Family: %{customdata[7]}<br>Genus: %{customdata[8]}<br>Species: %{customdata[9]}<br>EC Number: %{customdata[10]}<br>Mol Weight: %{customdata[11]}<br>Taxonomy ID: %{customdata[12]}<extra></extra>",
         "marker": {
          "color": "rgb(34, 145, 139)",
          "size": 6,
          "symbol": "circle"
         },
         "mode": "markers",
         "text": "small GTPase",
         "type": "scatter3d",
         "x": [
          0.17332652812669055
         ],
         "y": [
          0.0722389307331065
         ],
         "z": [
          -0.12204362875735338
         ]
        },
        {
         "customdata": [
          [
           "P-loop containing nucleoside triphosphate hydrolase protein",
           null,
           "Eukaryota",
           "Fungi",
           "Ascomycota",
           "Sordariomycetes",
           "Sordariales",
           "Chaetomiaceae",
           "Chaetomium",
           "Chaetomium sp. MPI-CAGE-AT-0009",
           null,
           null,
           "2821753",
           0.000264259108331408,
           0.2052221603398784,
           0.08643780256773885,
           -0.059235913011109816
          ]
         ],
         "hovertemplate": "<b>%{customdata[0]}</b><br>Family Name: %{customdata[1]}<br>Domain: %{customdata[2]}<br>Kingdom: %{customdata[3]}</b><br>Phylum: %{customdata[4]}<br>Class: %{customdata[5]}<br>Order: %{customdata[6]}<br>Family: %{customdata[7]}<br>Genus: %{customdata[8]}<br>Species: %{customdata[9]}<br>EC Number: %{customdata[10]}<br>Mol Weight: %{customdata[11]}<br>Taxonomy ID: %{customdata[12]}<extra></extra>",
         "marker": {
          "color": "rgb(71, 42, 121)",
          "size": 6,
          "symbol": "circle"
         },
         "mode": "markers",
         "text": "P-loop containing nucleoside triphosphate hydrolase protein",
         "type": "scatter3d",
         "x": [
          0.2052221603398784
         ],
         "y": [
          0.08643780256773885
         ],
         "z": [
          -0.059235913011109816
         ]
        },
        {
         "customdata": [
          [
           "hypothetical protein",
           null,
           "Eukaryota",
           "Fungi",
           "Ascomycota",
           "Sordariomycetes",
           "Hypocreales",
           "Cordycipitaceae",
           "Cordyceps",
           "Cordyceps sp. RAO-2017",
           null,
           null,
           "2004951",
           0.00007410041649627837,
           0.17045014323713203,
           0.0948591391625057,
           -0.04792582348420387
          ]
         ],
         "hovertemplate": "<b>%{customdata[0]}</b><br>Family Name: %{customdata[1]}<br>Domain: %{customdata[2]}<br>Kingdom: %{customdata[3]}</b><br>Phylum: %{customdata[4]}<br>Class: %{customdata[5]}<br>Order: %{customdata[6]}<br>Family: %{customdata[7]}<br>Genus: %{customdata[8]}<br>Species: %{customdata[9]}<br>EC Number: %{customdata[10]}<br>Mol Weight: %{customdata[11]}<br>Taxonomy ID: %{customdata[12]}<extra></extra>",
         "marker": {
          "color": "rgb(147, 214, 65)",
          "size": 6,
          "symbol": "circle"
         },
         "mode": "markers",
         "text": "hypothetical protein",
         "type": "scatter3d",
         "x": [
          0.17045014323713203
         ],
         "y": [
          0.0948591391625057
         ],
         "z": [
          -0.04792582348420387
         ]
        },
        {
         "customdata": [
          [
           "hypothetical protein",
           null,
           "Eukaryota",
           "Fungi",
           "Ascomycota",
           "Sordariomycetes",
           "Xylariales",
           "Xylariaceae",
           "Xylaria",
           "Xylaria arbuscula",
           null,
           null,
           "114810",
           0.00007410041649627837,
           0.10273532217727448,
           0.08954634326947139,
           -0.03507910637437663
          ]
         ],
         "hovertemplate": "<b>%{customdata[0]}</b><br>Family Name: %{customdata[1]}<br>Domain: %{customdata[2]}<br>Kingdom: %{customdata[3]}</b><br>Phylum: %{customdata[4]}<br>Class: %{customdata[5]}<br>Order: %{customdata[6]}<br>Family: %{customdata[7]}<br>Genus: %{customdata[8]}<br>Species: %{customdata[9]}<br>EC Number: %{customdata[10]}<br>Mol Weight: %{customdata[11]}<br>Taxonomy ID: %{customdata[12]}<extra></extra>",
         "marker": {
          "color": "rgb(100, 202, 94)",
          "size": 6,
          "symbol": "circle"
         },
         "mode": "markers",
         "text": "hypothetical protein",
         "type": "scatter3d",
         "x": [
          0.10273532217727448
         ],
         "y": [
          0.08954634326947139
         ],
         "z": [
          -0.03507910637437663
         ]
        },
        {
         "customdata": [
          [
           "hypothetical protein",
           null,
           "Eukaryota",
           "Fungi",
           "Ascomycota",
           "Sordariomycetes",
           "Hypocreales",
           "Ophiocordycipitaceae",
           "Ophiocordyceps",
           "Ophiocordyceps camponoti-leonardi (nom. inval.)",
           null,
           null,
           "2039875",
           0.00007410041649627837,
           0.12951897402020507,
           0.11489835051524257,
           -0.07663042761210022
          ]
         ],
         "hovertemplate": "<b>%{customdata[0]}</b><br>Family Name: %{customdata[1]}<br>Domain: %{customdata[2]}<br>Kingdom: %{customdata[3]}</b><br>Phylum: %{customdata[4]}<br>Class: %{customdata[5]}<br>Order: %{customdata[6]}<br>Family: %{customdata[7]}<br>Genus: %{customdata[8]}<br>Species: %{customdata[9]}<br>EC Number: %{customdata[10]}<br>Mol Weight: %{customdata[11]}<br>Taxonomy ID: %{customdata[12]}<extra></extra>",
         "marker": {
          "color": "rgb(56, 87, 139)",
          "size": 6,
          "symbol": "circle"
         },
         "mode": "markers",
         "text": "hypothetical protein",
         "type": "scatter3d",
         "x": [
          0.12951897402020507
         ],
         "y": [
          0.11489835051524257
         ],
         "z": [
          -0.07663042761210022
         ]
        },
        {
         "customdata": [
          [
           "uncharacterized protein",
           null,
           "Eukaryota",
           "Fungi",
           "Basidiomycota",
           "Pucciniomycetes",
           "Pucciniales",
           "Melampsoraceae",
           "Melampsora",
           "Melampsora laricis-populina",
           null,
           24426,
           "747676",
           0.00003109042543624817,
           0.12075715080995153,
           0.1537754230189453,
           -0.09163002650874634
          ]
         ],
         "hovertemplate": "<b>%{customdata[0]}</b><br>Family Name: %{customdata[1]}<br>Domain: %{customdata[2]}<br>Kingdom: %{customdata[3]}</b><br>Phylum: %{customdata[4]}<br>Class: %{customdata[5]}<br>Order: %{customdata[6]}<br>Family: %{customdata[7]}<br>Genus: %{customdata[8]}<br>Species: %{customdata[9]}<br>EC Number: %{customdata[10]}<br>Mol Weight: %{customdata[11]}<br>Taxonomy ID: %{customdata[12]}<extra></extra>",
         "marker": {
          "color": "rgb(55, 184, 120)",
          "size": 6,
          "symbol": "circle"
         },
         "mode": "markers",
         "text": "uncharacterized protein",
         "type": "scatter3d",
         "x": [
          0.12075715080995153
         ],
         "y": [
          0.1537754230189453
         ],
         "z": [
          -0.09163002650874634
         ]
        },
        {
         "customdata": [
          [
           "small GTPase",
           null,
           "Eukaryota",
           "Fungi",
           "Ascomycota",
           "Sordariomycetes",
           "Xylariales",
           "Hypoxylaceae",
           "Hypomontagnella",
           "Hypomontagnella monticulosa",
           null,
           null,
           "2487000",
           0.00007410041649627837,
           0.08603278527843479,
           0.0908619833876781,
           -0.05415193444098218
          ]
         ],
         "hovertemplate": "<b>%{customdata[0]}</b><br>Family Name: %{customdata[1]}<br>Domain: %{customdata[2]}<br>Kingdom: %{customdata[3]}</b><br>Phylum: %{customdata[4]}<br>Class: %{customdata[5]}<br>Order: %{customdata[6]}<br>Family: %{customdata[7]}<br>Genus: %{customdata[8]}<br>Species: %{customdata[9]}<br>EC Number: %{customdata[10]}<br>Mol Weight: %{customdata[11]}<br>Taxonomy ID: %{customdata[12]}<extra></extra>",
         "marker": {
          "color": "rgb(233, 228, 39)",
          "size": 6,
          "symbol": "circle"
         },
         "mode": "markers",
         "text": "small GTPase",
         "type": "scatter3d",
         "x": [
          0.08603278527843479
         ],
         "y": [
          0.0908619833876781
         ],
         "z": [
          -0.05415193444098218
         ]
        },
        {
         "customdata": [
          [
           "P-loop containing nucleoside triphosphate hydrolase protein",
           null,
           "Eukaryota",
           "Fungi",
           "Ascomycota",
           "Sordariomycetes",
           "Xylariales",
           "Xylariaceae",
           "Xylaria",
           "Xylaria bambusicola",
           null,
           34236,
           "326684",
           0.000039268208583057284,
           0.1453666063043228,
           0.08422116799351594,
           -0.04122762755391245
          ]
         ],
         "hovertemplate": "<b>%{customdata[0]}</b><br>Family Name: %{customdata[1]}<br>Domain: %{customdata[2]}<br>Kingdom: %{customdata[3]}</b><br>Phylum: %{customdata[4]}<br>Class: %{customdata[5]}<br>Order: %{customdata[6]}<br>Family: %{customdata[7]}<br>Genus: %{customdata[8]}<br>Species: %{customdata[9]}<br>EC Number: %{customdata[10]}<br>Mol Weight: %{customdata[11]}<br>Taxonomy ID: %{customdata[12]}<extra></extra>",
         "marker": {
          "color": "rgb(32, 153, 138)",
          "size": 6,
          "symbol": "circle"
         },
         "mode": "markers",
         "text": "P-loop containing nucleoside triphosphate hydrolase protein",
         "type": "scatter3d",
         "x": [
          0.1453666063043228
         ],
         "y": [
          0.08422116799351594
         ],
         "z": [
          -0.04122762755391245
         ]
        },
        {
         "customdata": [
          [
           "GTPase Spg1",
           null,
           "Eukaryota",
           "Fungi",
           "Zoopagomycota",
           "Entomophthoromycetes",
           "Entomophthorales",
           "Ancylistaceae",
           "Neoconidiobolus",
           "Neoconidiobolus thromboides",
           null,
           null,
           "1314799",
           6.568791670772162e-7,
           0.1091351003347126,
           0.12267273896912244,
           -0.026181190260311547
          ]
         ],
         "hovertemplate": "<b>%{customdata[0]}</b><br>Family Name: %{customdata[1]}<br>Domain: %{customdata[2]}<br>Kingdom: %{customdata[3]}</b><br>Phylum: %{customdata[4]}<br>Class: %{customdata[5]}<br>Order: %{customdata[6]}<br>Family: %{customdata[7]}<br>Genus: %{customdata[8]}<br>Species: %{customdata[9]}<br>EC Number: %{customdata[10]}<br>Mol Weight: %{customdata[11]}<br>Taxonomy ID: %{customdata[12]}<extra></extra>",
         "marker": {
          "color": "rgb(43, 119, 142)",
          "size": 6,
          "symbol": "circle"
         },
         "mode": "markers",
         "text": "GTPase Spg1",
         "type": "scatter3d",
         "x": [
          0.1091351003347126
         ],
         "y": [
          0.12267273896912244
         ],
         "z": [
          -0.026181190260311547
         ]
        },
        {
         "customdata": [
          [
           "small GTPase",
           null,
           "Eukaryota",
           "Fungi",
           "Ascomycota",
           "Sordariomycetes",
           "Xylariales",
           "Hypoxylaceae",
           "Hypoxylon",
           "Hypoxylon sp. FL1284",
           null,
           null,
           "2663365",
           0.00007410041649627837,
           0.10655039380782211,
           0.09844419207126529,
           -0.05999422956108721
          ]
         ],
         "hovertemplate": "<b>%{customdata[0]}</b><br>Family Name: %{customdata[1]}<br>Domain: %{customdata[2]}<br>Kingdom: %{customdata[3]}</b><br>Phylum: %{customdata[4]}<br>Class: %{customdata[5]}<br>Order: %{customdata[6]}<br>Family: %{customdata[7]}<br>Genus: %{customdata[8]}<br>Species: %{customdata[9]}<br>EC Number: %{customdata[10]}<br>Mol Weight: %{customdata[11]}<br>Taxonomy ID: %{customdata[12]}<extra></extra>",
         "marker": {
          "color": "rgb(37, 134, 141)",
          "size": 6,
          "symbol": "circle"
         },
         "mode": "markers",
         "text": "small GTPase",
         "type": "scatter3d",
         "x": [
          0.10655039380782211
         ],
         "y": [
          0.09844419207126529
         ],
         "z": [
          -0.05999422956108721
         ]
        },
        {
         "customdata": [
          [
           "protein TEM1",
           null,
           "Eukaryota",
           "Fungi",
           "Ascomycota",
           "Sordariomycetes",
           "Hypocreales",
           "Cordycipitaceae",
           "Akanthomyces",
           "Akanthomyces lecanii",
           null,
           null,
           "1081108",
           0.00007410041649627837,
           0.14084355612322041,
           0.0987663672255619,
           -0.0259802436451289
          ]
         ],
         "hovertemplate": "<b>%{customdata[0]}</b><br>Family Name: %{customdata[1]}<br>Domain: %{customdata[2]}<br>Kingdom: %{customdata[3]}</b><br>Phylum: %{customdata[4]}<br>Class: %{customdata[5]}<br>Order: %{customdata[6]}<br>Family: %{customdata[7]}<br>Genus: %{customdata[8]}<br>Species: %{customdata[9]}<br>EC Number: %{customdata[10]}<br>Mol Weight: %{customdata[11]}<br>Taxonomy ID: %{customdata[12]}<extra></extra>",
         "marker": {
          "color": "rgb(69, 51, 126)",
          "size": 6,
          "symbol": "circle"
         },
         "mode": "markers",
         "text": "protein TEM1",
         "type": "scatter3d",
         "x": [
          0.14084355612322041
         ],
         "y": [
          0.0987663672255619
         ],
         "z": [
          -0.0259802436451289
         ]
        },
        {
         "customdata": [
          [
           "P-loop containing nucleoside triphosphate hydrolase protein",
           null,
           "Eukaryota",
           "Fungi",
           "Ascomycota",
           "Sordariomycetes",
           "Xylariales",
           "Xylariaceae",
           null,
           "Xylariaceae sp. AK1471",
           null,
           null,
           "2723393",
           0.00007410041649627837,
           0.1146582844873789,
           0.08832025969791611,
           -0.12247675157792125
          ]
         ],
         "hovertemplate": "<b>%{customdata[0]}</b><br>Family Name: %{customdata[1]}<br>Domain: %{customdata[2]}<br>Kingdom: %{customdata[3]}</b><br>Phylum: %{customdata[4]}<br>Class: %{customdata[5]}<br>Order: %{customdata[6]}<br>Family: %{customdata[7]}<br>Genus: %{customdata[8]}<br>Species: %{customdata[9]}<br>EC Number: %{customdata[10]}<br>Mol Weight: %{customdata[11]}<br>Taxonomy ID: %{customdata[12]}<extra></extra>",
         "marker": {
          "color": "rgb(63, 68, 135)",
          "size": 6,
          "symbol": "circle"
         },
         "mode": "markers",
         "text": "P-loop containing nucleoside triphosphate hydrolase protein",
         "type": "scatter3d",
         "x": [
          0.1146582844873789
         ],
         "y": [
          0.08832025969791611
         ],
         "z": [
          -0.12247675157792125
         ]
        },
        {
         "customdata": [
          [
           "P-loop containing nucleoside triphosphate hydrolase protein",
           null,
           "Eukaryota",
           "Fungi",
           "Ascomycota",
           "Sordariomycetes",
           "Xylariales",
           "Xylariaceae",
           "Xylaria",
           "Xylaria sp. FL0043",
           null,
           null,
           "2614587",
           0.00019641408763976692,
           0.1549855741524333,
           0.04794048546998679,
           -0.09616267079671979
          ]
         ],
         "hovertemplate": "<b>%{customdata[0]}</b><br>Family Name: %{customdata[1]}<br>Domain: %{customdata[2]}<br>Kingdom: %{customdata[3]}</b><br>Phylum: %{customdata[4]}<br>Class: %{customdata[5]}<br>Order: %{customdata[6]}<br>Family: %{customdata[7]}<br>Genus: %{customdata[8]}<br>Species: %{customdata[9]}<br>EC Number: %{customdata[10]}<br>Mol Weight: %{customdata[11]}<br>Taxonomy ID: %{customdata[12]}<extra></extra>",
         "marker": {
          "color": "rgb(39, 127, 142)",
          "size": 6,
          "symbol": "circle"
         },
         "mode": "markers",
         "text": "P-loop containing nucleoside triphosphate hydrolase protein",
         "type": "scatter3d",
         "x": [
          0.1549855741524333
         ],
         "y": [
          0.04794048546998679
         ],
         "z": [
          -0.09616267079671979
         ]
        },
        {
         "customdata": [
          [
           "putative GTP binding protein",
           null,
           "Eukaryota",
           "Fungi",
           "Ascomycota",
           "Sordariomycetes",
           "Hypocreales",
           null,
           "Emericellopsis",
           "Emericellopsis atlantica",
           null,
           33574,
           "2614577",
           0.0001431778489689251,
           0.07551808645407276,
           0.107941481436548,
           -0.05792219904891823
          ]
         ],
         "hovertemplate": "<b>%{customdata[0]}</b><br>Family Name: %{customdata[1]}<br>Domain: %{customdata[2]}<br>Kingdom: %{customdata[3]}</b><br>Phylum: %{customdata[4]}<br>Class: %{customdata[5]}<br>Order: %{customdata[6]}<br>Family: %{customdata[7]}<br>Genus: %{customdata[8]}<br>Species: %{customdata[9]}<br>EC Number: %{customdata[10]}<br>Mol Weight: %{customdata[11]}<br>Taxonomy ID: %{customdata[12]}<extra></extra>",
         "marker": {
          "color": "rgb(37, 135, 141)",
          "size": 6,
          "symbol": "circle"
         },
         "mode": "markers",
         "text": "putative GTP binding protein",
         "type": "scatter3d",
         "x": [
          0.07551808645407276
         ],
         "y": [
          0.107941481436548
         ],
         "z": [
          -0.05792219904891823
         ]
        },
        {
         "customdata": [
          [
           "small GTPase",
           null,
           "Eukaryota",
           "Fungi",
           "Basidiomycota",
           "Exobasidiomycetes",
           "Exobasidiales",
           "Cryptobasidiaceae",
           "Acaromyces",
           "Acaromyces ingoldii",
           null,
           25375,
           "215250",
           0.00005944070569504269,
           0.15483111999874113,
           0.12629942558706803,
           -0.04348686449688799
          ]
         ],
         "hovertemplate": "<b>%{customdata[0]}</b><br>Family Name: %{customdata[1]}<br>Domain: %{customdata[2]}<br>Kingdom: %{customdata[3]}</b><br>Phylum: %{customdata[4]}<br>Class: %{customdata[5]}<br>Order: %{customdata[6]}<br>Family: %{customdata[7]}<br>Genus: %{customdata[8]}<br>Species: %{customdata[9]}<br>EC Number: %{customdata[10]}<br>Mol Weight: %{customdata[11]}<br>Taxonomy ID: %{customdata[12]}<extra></extra>",
         "marker": {
          "color": "rgb(52, 97, 141)",
          "size": 6,
          "symbol": "circle"
         },
         "mode": "markers",
         "text": "small GTPase",
         "type": "scatter3d",
         "x": [
          0.15483111999874113
         ],
         "y": [
          0.12629942558706803
         ],
         "z": [
          -0.04348686449688799
         ]
        },
        {
         "customdata": [
          [
           "P-loop containing nucleoside triphosphate hydrolase protein",
           null,
           "Eukaryota",
           "Fungi",
           "Ascomycota",
           "Sordariomycetes",
           "Xylariales",
           "Xylariaceae",
           "Xylaria",
           "Xylaria scruposa",
           null,
           null,
           "743287",
           0.00019641408763976692,
           0.18226927522958078,
           0.12512846452974813,
           -0.07047278987920878
          ]
         ],
         "hovertemplate": "<b>%{customdata[0]}</b><br>Family Name: %{customdata[1]}<br>Domain: %{customdata[2]}<br>Kingdom: %{customdata[3]}</b><br>Phylum: %{customdata[4]}<br>Class: %{customdata[5]}<br>Order: %{customdata[6]}<br>Family: %{customdata[7]}<br>Genus: %{customdata[8]}<br>Species: %{customdata[9]}<br>EC Number: %{customdata[10]}<br>Mol Weight: %{customdata[11]}<br>Taxonomy ID: %{customdata[12]}<extra></extra>",
         "marker": {
          "color": "rgb(176, 221, 46)",
          "size": 6,
          "symbol": "circle"
         },
         "mode": "markers",
         "text": "P-loop containing nucleoside triphosphate hydrolase protein",
         "type": "scatter3d",
         "x": [
          0.18226927522958078
         ],
         "y": [
          0.12512846452974813
         ],
         "z": [
          -0.07047278987920878
         ]
        },
        {
         "customdata": [
          [
           "DEBR0S2_14884g1_1",
           null,
           "Eukaryota",
           "Fungi",
           "Ascomycota",
           "Saccharomycetes",
           "Saccharomycetales",
           "Pichiaceae",
           "Brettanomyces",
           "Brettanomyces bruxellensis",
           null,
           null,
           "5007",
           0.0011162278078193676,
           0.18612364078476962,
           0.05066155902545363,
           -0.09353629947209638
          ]
         ],
         "hovertemplate": "<b>%{customdata[0]}</b><br>Family Name: %{customdata[1]}<br>Domain: %{customdata[2]}<br>Kingdom: %{customdata[3]}</b><br>Phylum: %{customdata[4]}<br>Class: %{customdata[5]}<br>Order: %{customdata[6]}<br>Family: %{customdata[7]}<br>Genus: %{customdata[8]}<br>Species: %{customdata[9]}<br>EC Number: %{customdata[10]}<br>Mol Weight: %{customdata[11]}<br>Taxonomy ID: %{customdata[12]}<extra></extra>",
         "marker": {
          "color": "rgb(51, 180, 123)",
          "size": 6,
          "symbol": "circle"
         },
         "mode": "markers",
         "text": "DEBR0S2_14884g1_1",
         "type": "scatter3d",
         "x": [
          0.18612364078476962
         ],
         "y": [
          0.05066155902545363
         ],
         "z": [
          -0.09353629947209638
         ]
        },
        {
         "customdata": [
          [
           "P-loop containing nucleoside triphosphate hydrolase protein",
           null,
           "Eukaryota",
           "Fungi",
           "Chytridiomycota",
           "Chytridiomycetes",
           "Spizellomycetales",
           "Powellomycetaceae",
           "Fimicolochytrium",
           "Fimicolochytrium jonesii",
           null,
           27570,
           "1396493",
           0.00022267136044760695,
           0.09788274737762573,
           0.07542912004391666,
           -0.00440367647994396
          ]
         ],
         "hovertemplate": "<b>%{customdata[0]}</b><br>Family Name: %{customdata[1]}<br>Domain: %{customdata[2]}<br>Kingdom: %{customdata[3]}</b><br>Phylum: %{customdata[4]}<br>Class: %{customdata[5]}<br>Order: %{customdata[6]}<br>Family: %{customdata[7]}<br>Genus: %{customdata[8]}<br>Species: %{customdata[9]}<br>EC Number: %{customdata[10]}<br>Mol Weight: %{customdata[11]}<br>Taxonomy ID: %{customdata[12]}<extra></extra>",
         "marker": {
          "color": "rgb(65, 188, 114)",
          "size": 6,
          "symbol": "circle"
         },
         "mode": "markers",
         "text": "P-loop containing nucleoside triphosphate hydrolase protein",
         "type": "scatter3d",
         "x": [
          0.09788274737762573
         ],
         "y": [
          0.07542912004391666
         ],
         "z": [
          -0.00440367647994396
         ]
        },
        {
         "customdata": [
          [
           "hypothetical protein",
           null,
           "Eukaryota",
           "Fungi",
           "Ascomycota",
           "Sordariomycetes",
           "Hypocreales",
           "Ophiocordycipitaceae",
           "Ophiocordyceps",
           "Ophiocordyceps camponoti-saundersi (nom. inval.)",
           null,
           null,
           "2039874",
           0.00007410041649627837,
           0.16025662939548227,
           0.08603336502526002,
           -0.10699736326939027
          ]
         ],
         "hovertemplate": "<b>%{customdata[0]}</b><br>Family Name: %{customdata[1]}<br>Domain: %{customdata[2]}<br>Kingdom: %{customdata[3]}</b><br>Phylum: %{customdata[4]}<br>Class: %{customdata[5]}<br>Order: %{customdata[6]}<br>Family: %{customdata[7]}<br>Genus: %{customdata[8]}<br>Species: %{customdata[9]}<br>EC Number: %{customdata[10]}<br>Mol Weight: %{customdata[11]}<br>Taxonomy ID: %{customdata[12]}<extra></extra>",
         "marker": {
          "color": "rgb(46, 110, 142)",
          "size": 6,
          "symbol": "circle"
         },
         "mode": "markers",
         "text": "hypothetical protein",
         "type": "scatter3d",
         "x": [
          0.16025662939548227
         ],
         "y": [
          0.08603336502526002
         ],
         "z": [
          -0.10699736326939027
         ]
        },
        {
         "customdata": [
          [
           "small GTPase",
           null,
           "Eukaryota",
           "Fungi",
           "Ascomycota",
           "Sordariomycetes",
           "Xylariales",
           "Hypoxylaceae",
           "Daldinia",
           "Daldinia caldariorum",
           null,
           34167,
           "326644",
           0.00007410041649627837,
           0.08635332490661211,
           0.07095081944542628,
           -0.06331237083695672
          ]
         ],
         "hovertemplate": "<b>%{customdata[0]}</b><br>Family Name: %{customdata[1]}<br>Domain: %{customdata[2]}<br>Kingdom: %{customdata[3]}</b><br>Phylum: %{customdata[4]}<br>Class: %{customdata[5]}<br>Order: %{customdata[6]}<br>Family: %{customdata[7]}<br>Genus: %{customdata[8]}<br>Species: %{customdata[9]}<br>EC Number: %{customdata[10]}<br>Mol Weight: %{customdata[11]}<br>Taxonomy ID: %{customdata[12]}<extra></extra>",
         "marker": {
          "color": "rgb(250, 231, 37)",
          "size": 6,
          "symbol": "circle"
         },
         "mode": "markers",
         "text": "small GTPase",
         "type": "scatter3d",
         "x": [
          0.08635332490661211
         ],
         "y": [
          0.07095081944542628
         ],
         "z": [
          -0.06331237083695672
         ]
        },
        {
         "customdata": [
          [
           "small GTPase",
           null,
           "Eukaryota",
           "Fungi",
           "Ascomycota",
           "Sordariomycetes",
           "Xylariales",
           "Hypoxylaceae",
           "Daldinia",
           "Daldinia sp. FL1419",
           null,
           null,
           "2614575",
           0.00007410041649627837,
           0.10348691673820444,
           0.10543025468566007,
           -0.11367813545362614
          ]
         ],
         "hovertemplate": "<b>%{customdata[0]}</b><br>Family Name: %{customdata[1]}<br>Domain: %{customdata[2]}<br>Kingdom: %{customdata[3]}</b><br>Phylum: %{customdata[4]}<br>Class: %{customdata[5]}<br>Order: %{customdata[6]}<br>Family: %{customdata[7]}<br>Genus: %{customdata[8]}<br>Species: %{customdata[9]}<br>EC Number: %{customdata[10]}<br>Mol Weight: %{customdata[11]}<br>Taxonomy ID: %{customdata[12]}<extra></extra>",
         "marker": {
          "color": "rgb(58, 83, 139)",
          "size": 6,
          "symbol": "circle"
         },
         "mode": "markers",
         "text": "small GTPase",
         "type": "scatter3d",
         "x": [
          0.10348691673820444
         ],
         "y": [
          0.10543025468566007
         ],
         "z": [
          -0.11367813545362614
         ]
        },
        {
         "customdata": [
          [
           "unnamed protein product",
           null,
           "Eukaryota",
           "Fungi",
           "Ascomycota",
           "Pezizomycetes",
           "Pezizales",
           "Tuberaceae",
           "Tuber",
           "Tuber aestivum",
           null,
           null,
           "59557",
           0.0017861774558292653,
           0.1780302698797848,
           0.10538282316094955,
           -0.020961555187119355
          ]
         ],
         "hovertemplate": "<b>%{customdata[0]}</b><br>Family Name: %{customdata[1]}<br>Domain: %{customdata[2]}<br>Kingdom: %{customdata[3]}</b><br>Phylum: %{customdata[4]}<br>Class: %{customdata[5]}<br>Order: %{customdata[6]}<br>Family: %{customdata[7]}<br>Genus: %{customdata[8]}<br>Species: %{customdata[9]}<br>EC Number: %{customdata[10]}<br>Mol Weight: %{customdata[11]}<br>Taxonomy ID: %{customdata[12]}<extra></extra>",
         "marker": {
          "color": "rgb(114, 207, 86)",
          "size": 6,
          "symbol": "circle"
         },
         "mode": "markers",
         "text": "unnamed protein product",
         "type": "scatter3d",
         "x": [
          0.1780302698797848
         ],
         "y": [
          0.10538282316094955
         ],
         "z": [
          -0.020961555187119355
         ]
        },
        {
         "customdata": [
          [
           "GTP binding protein (SPG1), putative",
           null,
           "Eukaryota",
           "Fungi",
           "Ascomycota",
           "Eurotiomycetes",
           "Eurotiales",
           "Aspergillaceae",
           "Aspergillus",
           "Aspergillus clavatus",
           null,
           35468,
           "344612",
           0.000264259108331408,
           0.1419892510802163,
           0.08604245566723669,
           -0.12780648863062755
          ]
         ],
         "hovertemplate": "<b>%{customdata[0]}</b><br>Family Name: %{customdata[1]}<br>Domain: %{customdata[2]}<br>Kingdom: %{customdata[3]}</b><br>Phylum: %{customdata[4]}<br>Class: %{customdata[5]}<br>Order: %{customdata[6]}<br>Family: %{customdata[7]}<br>Genus: %{customdata[8]}<br>Species: %{customdata[9]}<br>EC Number: %{customdata[10]}<br>Mol Weight: %{customdata[11]}<br>Taxonomy ID: %{customdata[12]}<extra></extra>",
         "marker": {
          "color": "rgb(200, 224, 41)",
          "size": 6,
          "symbol": "circle"
         },
         "mode": "markers",
         "text": "GTP binding protein (SPG1), putative",
         "type": "scatter3d",
         "x": [
          0.1419892510802163
         ],
         "y": [
          0.08604245566723669
         ],
         "z": [
          -0.12780648863062755
         ]
        },
        {
         "customdata": [
          [
           "P-loop containing nucleoside triphosphate hydrolase protein",
           null,
           "Eukaryota",
           "Fungi",
           "Ascomycota",
           "Sordariomycetes",
           "Xylariales",
           "Xylariaceae",
           "Xylaria",
           "Xylaria grammica",
           null,
           null,
           "363999",
           0.00007410041649627837,
           0.16238440724404266,
           0.11044350034640797,
           -0.0897521327131709
          ]
         ],
         "hovertemplate": "<b>%{customdata[0]}</b><br>Family Name: %{customdata[1]}<br>Domain: %{customdata[2]}<br>Kingdom: %{customdata[3]}</b><br>Phylum: %{customdata[4]}<br>Class: %{customdata[5]}<br>Order: %{customdata[6]}<br>Family: %{customdata[7]}<br>Genus: %{customdata[8]}<br>Species: %{customdata[9]}<br>EC Number: %{customdata[10]}<br>Mol Weight: %{customdata[11]}<br>Taxonomy ID: %{customdata[12]}<extra></extra>",
         "marker": {
          "color": "rgb(40, 126, 142)",
          "size": 6,
          "symbol": "circle"
         },
         "mode": "markers",
         "text": "P-loop containing nucleoside triphosphate hydrolase protein",
         "type": "scatter3d",
         "x": [
          0.16238440724404266
         ],
         "y": [
          0.11044350034640797
         ],
         "z": [
          -0.0897521327131709
         ]
        },
        {
         "customdata": [
          [
           "putative septum-promoting GTP-binding protein",
           null,
           "Eukaryota",
           "Fungi",
           "Ascomycota",
           "Pezizomycetes",
           "Pezizales",
           "Pyronemataceae",
           "Pyronema",
           "Pyronema omphalodes",
           null,
           null,
           "337075",
           0.00019518167585876118,
           0.125715142227335,
           0.028381683887836975,
           -0.09729676422726537
          ]
         ],
         "hovertemplate": "<b>%{customdata[0]}</b><br>Family Name: %{customdata[1]}<br>Domain: %{customdata[2]}<br>Kingdom: %{customdata[3]}</b><br>Phylum: %{customdata[4]}<br>Class: %{customdata[5]}<br>Order: %{customdata[6]}<br>Family: %{customdata[7]}<br>Genus: %{customdata[8]}<br>Species: %{customdata[9]}<br>EC Number: %{customdata[10]}<br>Mol Weight: %{customdata[11]}<br>Taxonomy ID: %{customdata[12]}<extra></extra>",
         "marker": {
          "color": "rgb(240, 229, 38)",
          "size": 6,
          "symbol": "circle"
         },
         "mode": "markers",
         "text": "putative septum-promoting GTP-binding protein",
         "type": "scatter3d",
         "x": [
          0.125715142227335
         ],
         "y": [
          0.028381683887836975
         ],
         "z": [
          -0.09729676422726537
         ]
        },
        {
         "customdata": [
          [
           "protein TEM1",
           null,
           "Eukaryota",
           "Fungi",
           "Ascomycota",
           "Sordariomycetes",
           "Hypocreales",
           "Ophiocordycipitaceae",
           "Ophiocordyceps",
           "Ophiocordyceps sinensis",
           null,
           null,
           "911162",
           0.00021102286966056616,
           0.11386402417086447,
           0.10107980094220252,
           -0.003388661779787706
          ]
         ],
         "hovertemplate": "<b>%{customdata[0]}</b><br>Family Name: %{customdata[1]}<br>Domain: %{customdata[2]}<br>Kingdom: %{customdata[3]}</b><br>Phylum: %{customdata[4]}<br>Class: %{customdata[5]}<br>Order: %{customdata[6]}<br>Family: %{customdata[7]}<br>Genus: %{customdata[8]}<br>Species: %{customdata[9]}<br>EC Number: %{customdata[10]}<br>Mol Weight: %{customdata[11]}<br>Taxonomy ID: %{customdata[12]}<extra></extra>",
         "marker": {
          "color": "rgb(71, 30, 111)",
          "size": 6,
          "symbol": "circle"
         },
         "mode": "markers",
         "text": "protein TEM1",
         "type": "scatter3d",
         "x": [
          0.11386402417086447
         ],
         "y": [
          0.10107980094220252
         ],
         "z": [
          -0.003388661779787706
         ]
        },
        {
         "customdata": [
          [
           "hypothetical protein",
           null,
           "Eukaryota",
           "Fungi",
           "Ascomycota",
           "Lecanoromycetes",
           "Ostropales",
           "Graphidaceae",
           "Diploschistes",
           "Diploschistes diacapsis",
           null,
           null,
           "150877",
           0.00019518167585876118,
           0.08436432569423441,
           0.11790238769503422,
           -0.10654486302019042
          ]
         ],
         "hovertemplate": "<b>%{customdata[0]}</b><br>Family Name: %{customdata[1]}<br>Domain: %{customdata[2]}<br>Kingdom: %{customdata[3]}</b><br>Phylum: %{customdata[4]}<br>Class: %{customdata[5]}<br>Order: %{customdata[6]}<br>Family: %{customdata[7]}<br>Genus: %{customdata[8]}<br>Species: %{customdata[9]}<br>EC Number: %{customdata[10]}<br>Mol Weight: %{customdata[11]}<br>Taxonomy ID: %{customdata[12]}<extra></extra>",
         "marker": {
          "color": "rgb(102, 203, 92)",
          "size": 6,
          "symbol": "circle"
         },
         "mode": "markers",
         "text": "hypothetical protein",
         "type": "scatter3d",
         "x": [
          0.08436432569423441
         ],
         "y": [
          0.11790238769503422
         ],
         "z": [
          -0.10654486302019042
         ]
        },
        {
         "customdata": [
          [
           "P-loop containing nucleoside triphosphate hydrolase protein",
           null,
           "Eukaryota",
           "Fungi",
           "Ascomycota",
           "Sordariomycetes",
           "Xylariales",
           "Xylariaceae",
           "Xylaria",
           "Xylaria arbuscula",
           null,
           null,
           "114810",
           0.00019641408763976692,
           0.10917431983486584,
           0.022336518594076957,
           -0.06294525932126636
          ]
         ],
         "hovertemplate": "<b>%{customdata[0]}</b><br>Family Name: %{customdata[1]}<br>Domain: %{customdata[2]}<br>Kingdom: %{customdata[3]}</b><br>Phylum: %{customdata[4]}<br>Class: %{customdata[5]}<br>Order: %{customdata[6]}<br>Family: %{customdata[7]}<br>Genus: %{customdata[8]}<br>Species: %{customdata[9]}<br>EC Number: %{customdata[10]}<br>Mol Weight: %{customdata[11]}<br>Taxonomy ID: %{customdata[12]}<extra></extra>",
         "marker": {
          "color": "rgb(100, 202, 94)",
          "size": 6,
          "symbol": "circle"
         },
         "mode": "markers",
         "text": "P-loop containing nucleoside triphosphate hydrolase protein",
         "type": "scatter3d",
         "x": [
          0.10917431983486584
         ],
         "y": [
          0.022336518594076957
         ],
         "z": [
          -0.06294525932126636
         ]
        },
        {
         "customdata": [
          [
           "P-loop containing nucleoside triphosphate hydrolase protein",
           null,
           "Eukaryota",
           "Fungi",
           "Ascomycota",
           "Eurotiomycetes",
           "Eurotiales",
           "Aspergillaceae",
           "Aspergillus",
           "Aspergillus pseudotamarii",
           null,
           33809,
           "132259",
           0.000264259108331408,
           0.11495296128927944,
           0.058469799434923475,
           -0.06951888632477328
          ]
         ],
         "hovertemplate": "<b>%{customdata[0]}</b><br>Family Name: %{customdata[1]}<br>Domain: %{customdata[2]}<br>Kingdom: %{customdata[3]}</b><br>Phylum: %{customdata[4]}<br>Class: %{customdata[5]}<br>Order: %{customdata[6]}<br>Family: %{customdata[7]}<br>Genus: %{customdata[8]}<br>Species: %{customdata[9]}<br>EC Number: %{customdata[10]}<br>Mol Weight: %{customdata[11]}<br>Taxonomy ID: %{customdata[12]}<extra></extra>",
         "marker": {
          "color": "rgb(35, 143, 140)",
          "size": 6,
          "symbol": "circle"
         },
         "mode": "markers",
         "text": "P-loop containing nucleoside triphosphate hydrolase protein",
         "type": "scatter3d",
         "x": [
          0.11495296128927944
         ],
         "y": [
          0.058469799434923475
         ],
         "z": [
          -0.06951888632477328
         ]
        },
        {
         "customdata": [
          [
           "Ras family GTPase TEM1",
           null,
           "Eukaryota",
           "Fungi",
           "Ascomycota",
           "Eurotiomycetes",
           "Eurotiales",
           "Aspergillaceae",
           "Aspergillus",
           "Aspergillus nidulans",
           null,
           35158,
           "227321",
           0.000264259108331408,
           0.14944999313016546,
           0.04655901634400782,
           -0.027296993608998822
          ]
         ],
         "hovertemplate": "<b>%{customdata[0]}</b><br>Family Name: %{customdata[1]}<br>Domain: %{customdata[2]}<br>Kingdom: %{customdata[3]}</b><br>Phylum: %{customdata[4]}<br>Class: %{customdata[5]}<br>Order: %{customdata[6]}<br>Family: %{customdata[7]}<br>Genus: %{customdata[8]}<br>Species: %{customdata[9]}<br>EC Number: %{customdata[10]}<br>Mol Weight: %{customdata[11]}<br>Taxonomy ID: %{customdata[12]}<extra></extra>",
         "marker": {
          "color": "rgb(54, 93, 140)",
          "size": 6,
          "symbol": "circle"
         },
         "mode": "markers",
         "text": "Ras family GTPase TEM1",
         "type": "scatter3d",
         "x": [
          0.14944999313016546
         ],
         "y": [
          0.04655901634400782
         ],
         "z": [
          -0.027296993608998822
         ]
        },
        {
         "customdata": [
          [
           "GTPase Spg1",
           null,
           "Eukaryota",
           "Fungi",
           "Chytridiomycota",
           "Chytridiomycetes",
           "Spizellomycetales",
           "Spizellomycetaceae",
           "Gaertneriomyces",
           "Gaertneriomyces semiglobifer",
           null,
           null,
           "109897",
           0.00005602862250482018,
           0.18253717545459883,
           0.11030822482025379,
           -0.11739347206551101
          ]
         ],
         "hovertemplate": "<b>%{customdata[0]}</b><br>Family Name: %{customdata[1]}<br>Domain: %{customdata[2]}<br>Kingdom: %{customdata[3]}</b><br>Phylum: %{customdata[4]}<br>Class: %{customdata[5]}<br>Order: %{customdata[6]}<br>Family: %{customdata[7]}<br>Genus: %{customdata[8]}<br>Species: %{customdata[9]}<br>EC Number: %{customdata[10]}<br>Mol Weight: %{customdata[11]}<br>Taxonomy ID: %{customdata[12]}<extra></extra>",
         "marker": {
          "color": "rgb(67, 58, 129)",
          "size": 6,
          "symbol": "circle"
         },
         "mode": "markers",
         "text": "GTPase Spg1",
         "type": "scatter3d",
         "x": [
          0.18253717545459883
         ],
         "y": [
          0.11030822482025379
         ],
         "z": [
          -0.11739347206551101
         ]
        },
        {
         "customdata": [
          [
           "P-loop containing nucleoside triphosphate hydrolase protein",
           null,
           "Eukaryota",
           "Fungi",
           "Ascomycota",
           "Sordariomycetes",
           "Xylariales",
           "Hypoxylaceae",
           "Hypoxylon",
           "Hypoxylon trugodes",
           null,
           33125,
           "326681",
           0.00007410041649627837,
           0.0826742401529962,
           0.08964815361877813,
           -0.08897877963501102
          ]
         ],
         "hovertemplate": "<b>%{customdata[0]}</b><br>Family Name: %{customdata[1]}<br>Domain: %{customdata[2]}<br>Kingdom: %{customdata[3]}</b><br>Phylum: %{customdata[4]}<br>Class: %{customdata[5]}<br>Order: %{customdata[6]}<br>Family: %{customdata[7]}<br>Genus: %{customdata[8]}<br>Species: %{customdata[9]}<br>EC Number: %{customdata[10]}<br>Mol Weight: %{customdata[11]}<br>Taxonomy ID: %{customdata[12]}<extra></extra>",
         "marker": {
          "color": "rgb(61, 76, 137)",
          "size": 6,
          "symbol": "circle"
         },
         "mode": "markers",
         "text": "P-loop containing nucleoside triphosphate hydrolase protein",
         "type": "scatter3d",
         "x": [
          0.0826742401529962
         ],
         "y": [
          0.08964815361877813
         ],
         "z": [
          -0.08897877963501102
         ]
        },
        {
         "customdata": [
          [
           "P-loop containing nucleoside triphosphate hydrolase protein",
           null,
           "Eukaryota",
           "Fungi",
           "Ascomycota",
           "Sordariomycetes",
           "Xylariales",
           "Xylariaceae",
           "Nemania",
           "Nemania sp. FL0031",
           null,
           null,
           "2663370",
           0.00012203898154383567,
           0.1517935806978885,
           0.1136947864335041,
           -0.030056636297272708
          ]
         ],
         "hovertemplate": "<b>%{customdata[0]}</b><br>Family Name: %{customdata[1]}<br>Domain: %{customdata[2]}<br>Kingdom: %{customdata[3]}</b><br>Phylum: %{customdata[4]}<br>Class: %{customdata[5]}<br>Order: %{customdata[6]}<br>Family: %{customdata[7]}<br>Genus: %{customdata[8]}<br>Species: %{customdata[9]}<br>EC Number: %{customdata[10]}<br>Mol Weight: %{customdata[11]}<br>Taxonomy ID: %{customdata[12]}<extra></extra>",
         "marker": {
          "color": "rgb(52, 181, 122)",
          "size": 6,
          "symbol": "circle"
         },
         "mode": "markers",
         "text": "P-loop containing nucleoside triphosphate hydrolase protein",
         "type": "scatter3d",
         "x": [
          0.1517935806978885
         ],
         "y": [
          0.1136947864335041
         ],
         "z": [
          -0.030056636297272708
         ]
        },
        {
         "customdata": [
          [
           "P-loop containing nucleoside triphosphate hydrolase protein",
           null,
           "Eukaryota",
           "Fungi",
           "Ascomycota",
           "Pezizomycetes",
           "Pezizales",
           "Pyronemataceae",
           "Pyronema",
           "Pyronema domesticum",
           null,
           null,
           "47205",
           0.00019518167585876118,
           0.12401518947092528,
           0.05389030467856339,
           -0.008752711058631428
          ]
         ],
         "hovertemplate": "<b>%{customdata[0]}</b><br>Family Name: %{customdata[1]}<br>Domain: %{customdata[2]}<br>Kingdom: %{customdata[3]}</b><br>Phylum: %{customdata[4]}<br>Class: %{customdata[5]}<br>Order: %{customdata[6]}<br>Family: %{customdata[7]}<br>Genus: %{customdata[8]}<br>Species: %{customdata[9]}<br>EC Number: %{customdata[10]}<br>Mol Weight: %{customdata[11]}<br>Taxonomy ID: %{customdata[12]}<extra></extra>",
         "marker": {
          "color": "rgb(69, 48, 124)",
          "size": 6,
          "symbol": "circle"
         },
         "mode": "markers",
         "text": "P-loop containing nucleoside triphosphate hydrolase protein",
         "type": "scatter3d",
         "x": [
          0.12401518947092528
         ],
         "y": [
          0.05389030467856339
         ],
         "z": [
          -0.008752711058631428
         ]
        },
        {
         "customdata": [
          [
           "uncharacterized protein",
           null,
           "Eukaryota",
           "Fungi",
           "Ascomycota",
           "Sordariomycetes",
           null,
           "Thyridiaceae",
           "Thyridium",
           "Thyridium curvatum",
           null,
           33002,
           "1093900",
           0.000264259108331408,
           0.14312333505388194,
           0.059238298785391726,
           -0.04769478869490697
          ]
         ],
         "hovertemplate": "<b>%{customdata[0]}</b><br>Family Name: %{customdata[1]}<br>Domain: %{customdata[2]}<br>Kingdom: %{customdata[3]}</b><br>Phylum: %{customdata[4]}<br>Class: %{customdata[5]}<br>Order: %{customdata[6]}<br>Family: %{customdata[7]}<br>Genus: %{customdata[8]}<br>Species: %{customdata[9]}<br>EC Number: %{customdata[10]}<br>Mol Weight: %{customdata[11]}<br>Taxonomy ID: %{customdata[12]}<extra></extra>",
         "marker": {
          "color": "rgb(130, 211, 75)",
          "size": 6,
          "symbol": "circle"
         },
         "mode": "markers",
         "text": "uncharacterized protein",
         "type": "scatter3d",
         "x": [
          0.14312333505388194
         ],
         "y": [
          0.059238298785391726
         ],
         "z": [
          -0.04769478869490697
         ]
        },
        {
         "customdata": [
          [
           "septum-promoting GTP-binding protein 1",
           null,
           "Eukaryota",
           "Fungi",
           "Ascomycota",
           "Saccharomycetes",
           "Saccharomycetales",
           "Pichiaceae",
           "Pichia",
           "[Candida] californica",
           null,
           null,
           "460514",
           0.0007361393571207172,
           0.17082020970631992,
           0.002090973168059803,
           -0.09438048797905332
          ]
         ],
         "hovertemplate": "<b>%{customdata[0]}</b><br>Family Name: %{customdata[1]}<br>Domain: %{customdata[2]}<br>Kingdom: %{customdata[3]}</b><br>Phylum: %{customdata[4]}<br>Class: %{customdata[5]}<br>Order: %{customdata[6]}<br>Family: %{customdata[7]}<br>Genus: %{customdata[8]}<br>Species: %{customdata[9]}<br>EC Number: %{customdata[10]}<br>Mol Weight: %{customdata[11]}<br>Taxonomy ID: %{customdata[12]}<extra></extra>",
         "marker": {
          "color": "rgb(69, 15, 97)",
          "size": 6,
          "symbol": "circle"
         },
         "mode": "markers",
         "text": "septum-promoting GTP-binding protein 1",
         "type": "scatter3d",
         "x": [
          0.17082020970631992
         ],
         "y": [
          0.002090973168059803
         ],
         "z": [
          -0.09438048797905332
         ]
        },
        {
         "customdata": [
          [
           "GTP-binding protein",
           null,
           "Eukaryota",
           "Fungi",
           "Ascomycota",
           "Sordariomycetes",
           "Xylariales",
           "Xylariaceae",
           "Xylaria",
           "Xylaria cubensis",
           null,
           null,
           "114814",
           0.00019641408763976692,
           0.12134475597494054,
           0.03956452835700191,
           -0.05337176738315059
          ]
         ],
         "hovertemplate": "<b>%{customdata[0]}</b><br>Family Name: %{customdata[1]}<br>Domain: %{customdata[2]}<br>Kingdom: %{customdata[3]}</b><br>Phylum: %{customdata[4]}<br>Class: %{customdata[5]}<br>Order: %{customdata[6]}<br>Family: %{customdata[7]}<br>Genus: %{customdata[8]}<br>Species: %{customdata[9]}<br>EC Number: %{customdata[10]}<br>Mol Weight: %{customdata[11]}<br>Taxonomy ID: %{customdata[12]}<extra></extra>",
         "marker": {
          "color": "rgb(117, 208, 84)",
          "size": 6,
          "symbol": "circle"
         },
         "mode": "markers",
         "text": "GTP-binding protein",
         "type": "scatter3d",
         "x": [
          0.12134475597494054
         ],
         "y": [
          0.03956452835700191
         ],
         "z": [
          -0.05337176738315059
         ]
        },
        {
         "customdata": [
          [
           "P-loop containing nucleoside triphosphate hydrolase protein",
           null,
           "Eukaryota",
           "Fungi",
           "Ascomycota",
           "Sordariomycetes",
           "Xylariales",
           "Hypoxylaceae",
           "Annulohypoxylon",
           "Annulohypoxylon bovei",
           null,
           null,
           "326617",
           0.00007410041649627837,
           0.09674252814626581,
           0.07510853756032648,
           -0.09352381875258721
          ]
         ],
         "hovertemplate": "<b>%{customdata[0]}</b><br>Family Name: %{customdata[1]}<br>Domain: %{customdata[2]}<br>Kingdom: %{customdata[3]}</b><br>Phylum: %{customdata[4]}<br>Class: %{customdata[5]}<br>Order: %{customdata[6]}<br>Family: %{customdata[7]}<br>Genus: %{customdata[8]}<br>Species: %{customdata[9]}<br>EC Number: %{customdata[10]}<br>Mol Weight: %{customdata[11]}<br>Taxonomy ID: %{customdata[12]}<extra></extra>",
         "marker": {
          "color": "rgb(53, 94, 140)",
          "size": 6,
          "symbol": "circle"
         },
         "mode": "markers",
         "text": "P-loop containing nucleoside triphosphate hydrolase protein",
         "type": "scatter3d",
         "x": [
          0.09674252814626581
         ],
         "y": [
          0.07510853756032648
         ],
         "z": [
          -0.09352381875258721
         ]
        },
        {
         "customdata": [
          [
           "Septum-promoting GTP-binding protein-like protein",
           null,
           "Eukaryota",
           "Fungi",
           "Ascomycota",
           "Sordariomycetes",
           "Hypocreales",
           null,
           "Emericellopsis",
           "Emericellopsis cladophorae",
           null,
           33640,
           "2686198",
           0.00012203898154383567,
           0.11226434921268816,
           0.1274904136101243,
           -0.0943562689641812
          ]
         ],
         "hovertemplate": "<b>%{customdata[0]}</b><br>Family Name: %{customdata[1]}<br>Domain: %{customdata[2]}<br>Kingdom: %{customdata[3]}</b><br>Phylum: %{customdata[4]}<br>Class: %{customdata[5]}<br>Order: %{customdata[6]}<br>Family: %{customdata[7]}<br>Genus: %{customdata[8]}<br>Species: %{customdata[9]}<br>EC Number: %{customdata[10]}<br>Mol Weight: %{customdata[11]}<br>Taxonomy ID: %{customdata[12]}<extra></extra>",
         "marker": {
          "color": "rgb(127, 210, 77)",
          "size": 6,
          "symbol": "circle"
         },
         "mode": "markers",
         "text": "Septum-promoting GTP-binding protein-like protein",
         "type": "scatter3d",
         "x": [
          0.11226434921268816
         ],
         "y": [
          0.1274904136101243
         ],
         "z": [
          -0.0943562689641812
         ]
        },
        {
         "customdata": [
          [
           "P-loop containing nucleoside triphosphate hydrolase protein",
           null,
           "Eukaryota",
           "Fungi",
           "Ascomycota",
           "Sordariomycetes",
           "Xylariales",
           "Xylariaceae",
           "Xylaria",
           "Xylaria curta",
           null,
           null,
           "42375",
           0.00017442350400651802,
           0.17781861873044413,
           0.059730742930234705,
           -0.05638453766940267
          ]
         ],
         "hovertemplate": "<b>%{customdata[0]}</b><br>Family Name: %{customdata[1]}<br>Domain: %{customdata[2]}<br>Kingdom: %{customdata[3]}</b><br>Phylum: %{customdata[4]}<br>Class: %{customdata[5]}<br>Order: %{customdata[6]}<br>Family: %{customdata[7]}<br>Genus: %{customdata[8]}<br>Species: %{customdata[9]}<br>EC Number: %{customdata[10]}<br>Mol Weight: %{customdata[11]}<br>Taxonomy ID: %{customdata[12]}<extra></extra>",
         "marker": {
          "color": "rgb(160, 217, 56)",
          "size": 6,
          "symbol": "circle"
         },
         "mode": "markers",
         "text": "P-loop containing nucleoside triphosphate hydrolase protein",
         "type": "scatter3d",
         "x": [
          0.17781861873044413
         ],
         "y": [
          0.059730742930234705
         ],
         "z": [
          -0.05638453766940267
         ]
        },
        {
         "customdata": [
          [
           "hypothetical protein",
           null,
           "Eukaryota",
           "Fungi",
           "Basidiomycota",
           "Pucciniomycetes",
           "Pucciniales",
           "Sphaerophragmiaceae",
           "Austropuccinia",
           "Austropuccinia psidii",
           null,
           null,
           "1389203",
           0.00014587061200792222,
           0.06700852986921883,
           0.10279687182763511,
           -0.07565916394322598
          ]
         ],
         "hovertemplate": "<b>%{customdata[0]}</b><br>Family Name: %{customdata[1]}<br>Domain: %{customdata[2]}<br>Kingdom: %{customdata[3]}</b><br>Phylum: %{customdata[4]}<br>Class: %{customdata[5]}<br>Order: %{customdata[6]}<br>Family: %{customdata[7]}<br>Genus: %{customdata[8]}<br>Species: %{customdata[9]}<br>EC Number: %{customdata[10]}<br>Mol Weight: %{customdata[11]}<br>Taxonomy ID: %{customdata[12]}<extra></extra>",
         "marker": {
          "color": "rgb(63, 187, 115)",
          "size": 6,
          "symbol": "circle"
         },
         "mode": "markers",
         "text": "hypothetical protein",
         "type": "scatter3d",
         "x": [
          0.06700852986921883
         ],
         "y": [
          0.10279687182763511
         ],
         "z": [
          -0.07565916394322598
         ]
        },
        {
         "customdata": [
          [
           "GTP-binding protein",
           null,
           "Eukaryota",
           "Fungi",
           "Ascomycota",
           "Sordariomycetes",
           "Xylariales",
           "Xylariaceae",
           null,
           "Xylariaceae sp. FL1651",
           null,
           null,
           "2614592",
           0.000053927919384292907,
           0.14523975058257296,
           0.06886290647866643,
           -0.001703772324705639
          ]
         ],
         "hovertemplate": "<b>%{customdata[0]}</b><br>Family Name: %{customdata[1]}<br>Domain: %{customdata[2]}<br>Kingdom: %{customdata[3]}</b><br>Phylum: %{customdata[4]}<br>Class: %{customdata[5]}<br>Order: %{customdata[6]}<br>Family: %{customdata[7]}<br>Genus: %{customdata[8]}<br>Species: %{customdata[9]}<br>EC Number: %{customdata[10]}<br>Mol Weight: %{customdata[11]}<br>Taxonomy ID: %{customdata[12]}<extra></extra>",
         "marker": {
          "color": "rgb(58, 81, 138)",
          "size": 6,
          "symbol": "circle"
         },
         "mode": "markers",
         "text": "GTP-binding protein",
         "type": "scatter3d",
         "x": [
          0.14523975058257296
         ],
         "y": [
          0.06886290647866643
         ],
         "z": [
          -0.001703772324705639
         ]
        },
        {
         "customdata": [
          [
           "uncharacterized protein",
           null,
           "Eukaryota",
           "Fungi",
           "Ascomycota",
           "Sordariomycetes",
           "Sordariales",
           "Chaetomiaceae",
           "Thermothielavioides",
           "Thermothielavioides terrestris",
           null,
           37357,
           "578455",
           0.00018895342341545074,
           0.1339111413517418,
           0.029887857680056352,
           -0.0628319316371117
          ]
         ],
         "hovertemplate": "<b>%{customdata[0]}</b><br>Family Name: %{customdata[1]}<br>Domain: %{customdata[2]}<br>Kingdom: %{customdata[3]}</b><br>Phylum: %{customdata[4]}<br>Class: %{customdata[5]}<br>Order: %{customdata[6]}<br>Family: %{customdata[7]}<br>Genus: %{customdata[8]}<br>Species: %{customdata[9]}<br>EC Number: %{customdata[10]}<br>Mol Weight: %{customdata[11]}<br>Taxonomy ID: %{customdata[12]}<extra></extra>",
         "marker": {
          "color": "rgb(68, 3, 86)",
          "size": 6,
          "symbol": "circle"
         },
         "mode": "markers",
         "text": "uncharacterized protein",
         "type": "scatter3d",
         "x": [
          0.1339111413517418
         ],
         "y": [
          0.029887857680056352
         ],
         "z": [
          -0.0628319316371117
         ]
        },
        {
         "customdata": [
          [
           "septum-promoting GTP-binding protein 1",
           null,
           "Eukaryota",
           "Fungi",
           "Ascomycota",
           "Sordariomycetes",
           "Chaetosphaeriales",
           "Chaetosphaeriaceae",
           "Thozetella",
           "Thozetella sp. PMI_491",
           null,
           null,
           "1506992",
           0.00010631244184697533,
           0.171302346010196,
           0.08921500266073393,
           -0.09339886709952945
          ]
         ],
         "hovertemplate": "<b>%{customdata[0]}</b><br>Family Name: %{customdata[1]}<br>Domain: %{customdata[2]}<br>Kingdom: %{customdata[3]}</b><br>Phylum: %{customdata[4]}<br>Class: %{customdata[5]}<br>Order: %{customdata[6]}<br>Family: %{customdata[7]}<br>Genus: %{customdata[8]}<br>Species: %{customdata[9]}<br>EC Number: %{customdata[10]}<br>Mol Weight: %{customdata[11]}<br>Taxonomy ID: %{customdata[12]}<extra></extra>",
         "marker": {
          "color": "rgb(37, 165, 132)",
          "size": 6,
          "symbol": "circle"
         },
         "mode": "markers",
         "text": "septum-promoting GTP-binding protein 1",
         "type": "scatter3d",
         "x": [
          0.171302346010196
         ],
         "y": [
          0.08921500266073393
         ],
         "z": [
          -0.09339886709952945
         ]
        },
        {
         "customdata": [
          [
           "P-loop containing nucleoside triphosphate hydrolase protein",
           null,
           "Eukaryota",
           "Fungi",
           "Ascomycota",
           "Sordariomycetes",
           "Xylariales",
           "Xylariaceae",
           "Xylaria",
           "Xylaria digitata",
           null,
           null,
           "323540",
           0.0001431778489689251,
           0.13297785183456298,
           0.11961202392946248,
           -0.0201854330340137
          ]
         ],
         "hovertemplate": "<b>%{customdata[0]}</b><br>Family Name: %{customdata[1]}<br>Domain: %{customdata[2]}<br>Kingdom: %{customdata[3]}</b><br>Phylum: %{customdata[4]}<br>Class: %{customdata[5]}<br>Order: %{customdata[6]}<br>Family: %{customdata[7]}<br>Genus: %{customdata[8]}<br>Species: %{customdata[9]}<br>EC Number: %{customdata[10]}<br>Mol Weight: %{customdata[11]}<br>Taxonomy ID: %{customdata[12]}<extra></extra>",
         "marker": {
          "color": "rgb(64, 65, 133)",
          "size": 6,
          "symbol": "circle"
         },
         "mode": "markers",
         "text": "P-loop containing nucleoside triphosphate hydrolase protein",
         "type": "scatter3d",
         "x": [
          0.13297785183456298
         ],
         "y": [
          0.11961202392946248
         ],
         "z": [
          -0.0201854330340137
         ]
        },
        {
         "customdata": [
          [
           "hypothetical protein",
           null,
           "Eukaryota",
           "Fungi",
           "Ascomycota",
           "Saccharomycetes",
           "Saccharomycetales",
           "Pichiaceae",
           "Ogataea",
           "[Candida] boidinii",
           null,
           null,
           "5477",
           0.0008963903289258677,
           0.20956359277481063,
           0.05183275599434333,
           -0.0777067155971554
          ]
         ],
         "hovertemplate": "<b>%{customdata[0]}</b><br>Family Name: %{customdata[1]}<br>Domain: %{customdata[2]}<br>Kingdom: %{customdata[3]}</b><br>Phylum: %{customdata[4]}<br>Class: %{customdata[5]}<br>Order: %{customdata[6]}<br>Family: %{customdata[7]}<br>Genus: %{customdata[8]}<br>Species: %{customdata[9]}<br>EC Number: %{customdata[10]}<br>Mol Weight: %{customdata[11]}<br>Taxonomy ID: %{customdata[12]}<extra></extra>",
         "marker": {
          "color": "rgb(133, 211, 73)",
          "size": 6,
          "symbol": "circle"
         },
         "mode": "markers",
         "text": "hypothetical protein",
         "type": "scatter3d",
         "x": [
          0.20956359277481063
         ],
         "y": [
          0.05183275599434333
         ],
         "z": [
          -0.0777067155971554
         ]
        },
        {
         "customdata": [
          [
           "P-loop containing nucleoside triphosphate hydrolase protein",
           null,
           "Eukaryota",
           "Fungi",
           "Mucoromycota",
           "Endogonomycetes",
           "Endogonales",
           "Endogonaceae",
           "Jimgerdemannia",
           "Jimgerdemannia flammicorona",
           null,
           null,
           "994334",
           0.000004082517033264208,
           0.09774302127281717,
           0.03435173746914792,
           -0.020000178512003065
          ]
         ],
         "hovertemplate": "<b>%{customdata[0]}</b><br>Family Name: %{customdata[1]}<br>Domain: %{customdata[2]}<br>Kingdom: %{customdata[3]}</b><br>Phylum: %{customdata[4]}<br>Class: %{customdata[5]}<br>Order: %{customdata[6]}<br>Family: %{customdata[7]}<br>Genus: %{customdata[8]}<br>Species: %{customdata[9]}<br>EC Number: %{customdata[10]}<br>Mol Weight: %{customdata[11]}<br>Taxonomy ID: %{customdata[12]}<extra></extra>",
         "marker": {
          "color": "rgb(70, 25, 106)",
          "size": 6,
          "symbol": "circle"
         },
         "mode": "markers",
         "text": "P-loop containing nucleoside triphosphate hydrolase protein",
         "type": "scatter3d",
         "x": [
          0.09774302127281717
         ],
         "y": [
          0.03435173746914792
         ],
         "z": [
          -0.020000178512003065
         ]
        },
        {
         "customdata": [
          [
           "septum-promoting GTP-binding protein 1",
           null,
           "Eukaryota",
           "Fungi",
           "Chytridiomycota",
           "Chytridiomycetes",
           "Spizellomycetales",
           "Spizellomycetaceae",
           "Spizellomyces",
           "Spizellomyces punctatus",
           null,
           22847,
           "645134",
           0.00018336862513936207,
           0.10745596106723525,
           0.0293195458692579,
           -0.10402607446611024
          ]
         ],
         "hovertemplate": "<b>%{customdata[0]}</b><br>Family Name: %{customdata[1]}<br>Domain: %{customdata[2]}<br>Kingdom: %{customdata[3]}</b><br>Phylum: %{customdata[4]}<br>Class: %{customdata[5]}<br>Order: %{customdata[6]}<br>Family: %{customdata[7]}<br>Genus: %{customdata[8]}<br>Species: %{customdata[9]}<br>EC Number: %{customdata[10]}<br>Mol Weight: %{customdata[11]}<br>Taxonomy ID: %{customdata[12]}<extra></extra>",
         "marker": {
          "color": "rgb(236, 229, 38)",
          "size": 6,
          "symbol": "circle"
         },
         "mode": "markers",
         "text": "septum-promoting GTP-binding protein 1",
         "type": "scatter3d",
         "x": [
          0.10745596106723525
         ],
         "y": [
          0.0293195458692579
         ],
         "z": [
          -0.10402607446611024
         ]
        },
        {
         "customdata": [
          [
           "Septum-promoting GTP-binding 1",
           null,
           "Eukaryota",
           "Fungi",
           "Ascomycota",
           "Leotiomycetes",
           "Helotiales",
           "Hyphodiscaceae",
           "Hyphodiscus",
           "Hyphodiscus hymeniophilus",
           null,
           null,
           "353542",
           0.00018895342341545074,
           0.18479084407207355,
           0.08157330235758448,
           -0.061231354848842706
          ]
         ],
         "hovertemplate": "<b>%{customdata[0]}</b><br>Family Name: %{customdata[1]}<br>Domain: %{customdata[2]}<br>Kingdom: %{customdata[3]}</b><br>Phylum: %{customdata[4]}<br>Class: %{customdata[5]}<br>Order: %{customdata[6]}<br>Family: %{customdata[7]}<br>Genus: %{customdata[8]}<br>Species: %{customdata[9]}<br>EC Number: %{customdata[10]}<br>Mol Weight: %{customdata[11]}<br>Taxonomy ID: %{customdata[12]}<extra></extra>",
         "marker": {
          "color": "rgb(97, 201, 95)",
          "size": 6,
          "symbol": "circle"
         },
         "mode": "markers",
         "text": "Septum-promoting GTP-binding 1",
         "type": "scatter3d",
         "x": [
          0.18479084407207355
         ],
         "y": [
          0.08157330235758448
         ],
         "z": [
          -0.061231354848842706
         ]
        },
        {
         "customdata": [
          [
           "hypothetical protein",
           null,
           "Eukaryota",
           "Fungi",
           "Mucoromycota",
           "Mucoromycetes",
           "Mucorales",
           "Mucoraceae",
           "Thamnidium",
           "Thamnidium elegans",
           null,
           null,
           "101142",
           0.000029863183282000717,
           0.22080609238659687,
           0.0481773642639543,
           0.027573077857297207
          ]
         ],
         "hovertemplate": "<b>%{customdata[0]}</b><br>Family Name: %{customdata[1]}<br>Domain: %{customdata[2]}<br>Kingdom: %{customdata[3]}</b><br>Phylum: %{customdata[4]}<br>Class: %{customdata[5]}<br>Order: %{customdata[6]}<br>Family: %{customdata[7]}<br>Genus: %{customdata[8]}<br>Species: %{customdata[9]}<br>EC Number: %{customdata[10]}<br>Mol Weight: %{customdata[11]}<br>Taxonomy ID: %{customdata[12]}<extra></extra>",
         "marker": {
          "color": "rgb(36, 164, 133)",
          "size": 6,
          "symbol": "circle"
         },
         "mode": "markers",
         "text": "hypothetical protein",
         "type": "scatter3d",
         "x": [
          0.22080609238659687
         ],
         "y": [
          0.0481773642639543
         ],
         "z": [
          0.027573077857297207
         ]
        },
        {
         "customdata": [
          [
           "hypothetical protein",
           null,
           "Eukaryota",
           "Fungi",
           "Ascomycota",
           "Sordariomycetes",
           "Xylariales",
           "Hypoxylaceae",
           "Hypoxylon",
           "Hypoxylon sp. CI-4A",
           null,
           null,
           "1001833",
           0.0001273366551671202,
           0.13562590167785207,
           0.10140595325331181,
           -0.13256729639356507
          ]
         ],
         "hovertemplate": "<b>%{customdata[0]}</b><br>Family Name: %{customdata[1]}<br>Domain: %{customdata[2]}<br>Kingdom: %{customdata[3]}</b><br>Phylum: %{customdata[4]}<br>Class: %{customdata[5]}<br>Order: %{customdata[6]}<br>Family: %{customdata[7]}<br>Genus: %{customdata[8]}<br>Species: %{customdata[9]}<br>EC Number: %{customdata[10]}<br>Mol Weight: %{customdata[11]}<br>Taxonomy ID: %{customdata[12]}<extra></extra>",
         "marker": {
          "color": "rgb(39, 129, 142)",
          "size": 6,
          "symbol": "circle"
         },
         "mode": "markers",
         "text": "hypothetical protein",
         "type": "scatter3d",
         "x": [
          0.13562590167785207
         ],
         "y": [
          0.10140595325331181
         ],
         "z": [
          -0.13256729639356507
         ]
        },
        {
         "customdata": [
          [
           "GTP-binding protein",
           null,
           "Eukaryota",
           "Fungi",
           "Ascomycota",
           "Sordariomycetes",
           "Xylariales",
           "Xylariaceae",
           "Nemania",
           "Nemania sp. FL0916",
           null,
           null,
           "2614608",
           0.000127694347081109,
           0.12258295717120196,
           0.11962193270572564,
           -0.057678748952644646
          ]
         ],
         "hovertemplate": "<b>%{customdata[0]}</b><br>Family Name: %{customdata[1]}<br>Domain: %{customdata[2]}<br>Kingdom: %{customdata[3]}</b><br>Phylum: %{customdata[4]}<br>Class: %{customdata[5]}<br>Order: %{customdata[6]}<br>Family: %{customdata[7]}<br>Genus: %{customdata[8]}<br>Species: %{customdata[9]}<br>EC Number: %{customdata[10]}<br>Mol Weight: %{customdata[11]}<br>Taxonomy ID: %{customdata[12]}<extra></extra>",
         "marker": {
          "color": "rgb(68, 54, 127)",
          "size": 6,
          "symbol": "circle"
         },
         "mode": "markers",
         "text": "GTP-binding protein",
         "type": "scatter3d",
         "x": [
          0.12258295717120196
         ],
         "y": [
          0.11962193270572564
         ],
         "z": [
          -0.057678748952644646
         ]
        },
        {
         "customdata": [
          [
           "hypothetical protein",
           null,
           "Eukaryota",
           "Fungi",
           "Ascomycota",
           "Saccharomycetes",
           "Saccharomycetales",
           "Pichiaceae",
           "Ogataea",
           "[Candida] boidinii",
           null,
           null,
           "5477",
           0.0008847411812893238,
           0.2170504722638018,
           0.07816218780620955,
           -0.08017734897618184
          ]
         ],
         "hovertemplate": "<b>%{customdata[0]}</b><br>Family Name: %{customdata[1]}<br>Domain: %{customdata[2]}<br>Kingdom: %{customdata[3]}</b><br>Phylum: %{customdata[4]}<br>Class: %{customdata[5]}<br>Order: %{customdata[6]}<br>Family: %{customdata[7]}<br>Genus: %{customdata[8]}<br>Species: %{customdata[9]}<br>EC Number: %{customdata[10]}<br>Mol Weight: %{customdata[11]}<br>Taxonomy ID: %{customdata[12]}<extra></extra>",
         "marker": {
          "color": "rgb(133, 211, 73)",
          "size": 6,
          "symbol": "circle"
         },
         "mode": "markers",
         "text": "hypothetical protein",
         "type": "scatter3d",
         "x": [
          0.2170504722638018
         ],
         "y": [
          0.07816218780620955
         ],
         "z": [
          -0.08017734897618184
         ]
        },
        {
         "customdata": [
          [
           "P-loop containing nucleoside triphosphate hydrolase protein",
           null,
           "Eukaryota",
           "Fungi",
           "Ascomycota",
           "Sordariomycetes",
           "Xylariales",
           "Hypoxylaceae",
           "Rostrohypoxylon",
           "Rostrohypoxylon terebratum",
           null,
           null,
           "392036",
           0.00007410041649627837,
           0.13553117161211908,
           0.12393866758806005,
           -0.11535240979968547
          ]
         ],
         "hovertemplate": "<b>%{customdata[0]}</b><br>Family Name: %{customdata[1]}<br>Domain: %{customdata[2]}<br>Kingdom: %{customdata[3]}</b><br>Phylum: %{customdata[4]}<br>Class: %{customdata[5]}<br>Order: %{customdata[6]}<br>Family: %{customdata[7]}<br>Genus: %{customdata[8]}<br>Species: %{customdata[9]}<br>EC Number: %{customdata[10]}<br>Mol Weight: %{customdata[11]}<br>Taxonomy ID: %{customdata[12]}<extra></extra>",
         "marker": {
          "color": "rgb(31, 158, 137)",
          "size": 6,
          "symbol": "circle"
         },
         "mode": "markers",
         "text": "P-loop containing nucleoside triphosphate hydrolase protein",
         "type": "scatter3d",
         "x": [
          0.13553117161211908
         ],
         "y": [
          0.12393866758806005
         ],
         "z": [
          -0.11535240979968547
         ]
        },
        {
         "customdata": [
          [
           "hypothetical protein",
           null,
           "Eukaryota",
           "Fungi",
           "Ascomycota",
           "Saccharomycetes",
           "Saccharomycetales",
           "Pichiaceae",
           "Ogataea",
           "[Candida] boidinii",
           null,
           null,
           "5477",
           0.0008480853818170788,
           0.20458331047640455,
           0.03143849229735877,
           -0.08890461214891862
          ]
         ],
         "hovertemplate": "<b>%{customdata[0]}</b><br>Family Name: %{customdata[1]}<br>Domain: %{customdata[2]}<br>Kingdom: %{customdata[3]}</b><br>Phylum: %{customdata[4]}<br>Class: %{customdata[5]}<br>Order: %{customdata[6]}<br>Family: %{customdata[7]}<br>Genus: %{customdata[8]}<br>Species: %{customdata[9]}<br>EC Number: %{customdata[10]}<br>Mol Weight: %{customdata[11]}<br>Taxonomy ID: %{customdata[12]}<extra></extra>",
         "marker": {
          "color": "rgb(133, 211, 73)",
          "size": 6,
          "symbol": "circle"
         },
         "mode": "markers",
         "text": "hypothetical protein",
         "type": "scatter3d",
         "x": [
          0.20458331047640455
         ],
         "y": [
          0.03143849229735877
         ],
         "z": [
          -0.08890461214891862
         ]
        },
        {
         "customdata": [
          [
           "uncharacterized protein",
           null,
           "Eukaryota",
           "Fungi",
           "Ascomycota",
           "Sordariomycetes",
           "Sordariales",
           "Sordariaceae",
           "Sordaria",
           "Sordaria macrospora",
           null,
           35060,
           "771870",
           0.0001732268837185903,
           0.11349704429174048,
           0.1008942803575991,
           -0.08712992704128818
          ]
         ],
         "hovertemplate": "<b>%{customdata[0]}</b><br>Family Name: %{customdata[1]}<br>Domain: %{customdata[2]}<br>Kingdom: %{customdata[3]}</b><br>Phylum: %{customdata[4]}<br>Class: %{customdata[5]}<br>Order: %{customdata[6]}<br>Family: %{customdata[7]}<br>Genus: %{customdata[8]}<br>Species: %{customdata[9]}<br>EC Number: %{customdata[10]}<br>Mol Weight: %{customdata[11]}<br>Taxonomy ID: %{customdata[12]}<extra></extra>",
         "marker": {
          "color": "rgb(47, 176, 126)",
          "size": 6,
          "symbol": "circle"
         },
         "mode": "markers",
         "text": "uncharacterized protein",
         "type": "scatter3d",
         "x": [
          0.11349704429174048
         ],
         "y": [
          0.1008942803575991
         ],
         "z": [
          -0.08712992704128818
         ]
        },
        {
         "customdata": [
          [
           "small GTPase",
           null,
           "Eukaryota",
           "Fungi",
           "Ascomycota",
           "Sordariomycetes",
           "Coniochaetales",
           "Coniochaetaceae",
           "Coniochaeta",
           "Coniochaeta sp. PMI_546",
           null,
           null,
           "1450552",
           0.0001431778489689251,
           0.13575578813418385,
           0.11899075803140964,
           -0.0955093619378079
          ]
         ],
         "hovertemplate": "<b>%{customdata[0]}</b><br>Family Name: %{customdata[1]}<br>Domain: %{customdata[2]}<br>Kingdom: %{customdata[3]}</b><br>Phylum: %{customdata[4]}<br>Class: %{customdata[5]}<br>Order: %{customdata[6]}<br>Family: %{customdata[7]}<br>Genus: %{customdata[8]}<br>Species: %{customdata[9]}<br>EC Number: %{customdata[10]}<br>Mol Weight: %{customdata[11]}<br>Taxonomy ID: %{customdata[12]}<extra></extra>",
         "marker": {
          "color": "rgb(79, 193, 106)",
          "size": 6,
          "symbol": "circle"
         },
         "mode": "markers",
         "text": "small GTPase",
         "type": "scatter3d",
         "x": [
          0.13575578813418385
         ],
         "y": [
          0.11899075803140964
         ],
         "z": [
          -0.0955093619378079
         ]
        },
        {
         "customdata": [
          [
           "septum-promoting GTP-binding protein 1",
           null,
           "Eukaryota",
           "Fungi",
           "Mucoromycota",
           "Mortierellomycetes",
           "Mortierellales",
           "Mortierellaceae",
           "Mortierella",
           "Mortierella claussenii",
           null,
           null,
           "1343614",
           0.00011907735773400049,
           0.18647991925026614,
           0.08470387970395268,
           -0.09116150056823576
          ]
         ],
         "hovertemplate": "<b>%{customdata[0]}</b><br>Family Name: %{customdata[1]}<br>Domain: %{customdata[2]}<br>Kingdom: %{customdata[3]}</b><br>Phylum: %{customdata[4]}<br>Class: %{customdata[5]}<br>Order: %{customdata[6]}<br>Family: %{customdata[7]}<br>Genus: %{customdata[8]}<br>Species: %{customdata[9]}<br>EC Number: %{customdata[10]}<br>Mol Weight: %{customdata[11]}<br>Taxonomy ID: %{customdata[12]}<extra></extra>",
         "marker": {
          "color": "rgb(71, 44, 122)",
          "size": 6,
          "symbol": "circle"
         },
         "mode": "markers",
         "text": "septum-promoting GTP-binding protein 1",
         "type": "scatter3d",
         "x": [
          0.18647991925026614
         ],
         "y": [
          0.08470387970395268
         ],
         "z": [
          -0.09116150056823576
         ]
        },
        {
         "customdata": [
          [
           "small GTPase",
           null,
           "Eukaryota",
           "Fungi",
           "Ascomycota",
           "Sordariomycetes",
           "Xylariales",
           "Hypoxylaceae",
           "Hypoxylon",
           "Hypoxylon cercidicola",
           null,
           null,
           "326656",
           0.00007410041649627837,
           0.08530903500279302,
           0.046790422817641175,
           -0.07176680282593355
          ]
         ],
         "hovertemplate": "<b>%{customdata[0]}</b><br>Family Name: %{customdata[1]}<br>Domain: %{customdata[2]}<br>Kingdom: %{customdata[3]}</b><br>Phylum: %{customdata[4]}<br>Class: %{customdata[5]}<br>Order: %{customdata[6]}<br>Family: %{customdata[7]}<br>Genus: %{customdata[8]}<br>Species: %{customdata[9]}<br>EC Number: %{customdata[10]}<br>Mol Weight: %{customdata[11]}<br>Taxonomy ID: %{customdata[12]}<extra></extra>",
         "marker": {
          "color": "rgb(44, 173, 127)",
          "size": 6,
          "symbol": "circle"
         },
         "mode": "markers",
         "text": "small GTPase",
         "type": "scatter3d",
         "x": [
          0.08530903500279302
         ],
         "y": [
          0.046790422817641175
         ],
         "z": [
          -0.07176680282593355
         ]
        },
        {
         "customdata": [
          [
           "septum initiation protein sid3",
           null,
           "Eukaryota",
           "Fungi",
           "Ascomycota",
           "Sordariomycetes",
           "Xylariales",
           "Xylariaceae",
           null,
           "Xylariaceae sp. FL0594",
           null,
           null,
           "2614590",
           0.0001431778489689251,
           0.10561994938048958,
           0.023235659724360827,
           -0.08053282934151511
          ]
         ],
         "hovertemplate": "<b>%{customdata[0]}</b><br>Family Name: %{customdata[1]}<br>Domain: %{customdata[2]}<br>Kingdom: %{customdata[3]}</b><br>Phylum: %{customdata[4]}<br>Class: %{customdata[5]}<br>Order: %{customdata[6]}<br>Family: %{customdata[7]}<br>Genus: %{customdata[8]}<br>Species: %{customdata[9]}<br>EC Number: %{customdata[10]}<br>Mol Weight: %{customdata[11]}<br>Taxonomy ID: %{customdata[12]}<extra></extra>",
         "marker": {
          "color": "rgb(81, 194, 105)",
          "size": 6,
          "symbol": "circle"
         },
         "mode": "markers",
         "text": "septum initiation protein sid3",
         "type": "scatter3d",
         "x": [
          0.10561994938048958
         ],
         "y": [
          0.023235659724360827
         ],
         "z": [
          -0.08053282934151511
         ]
        },
        {
         "customdata": [
          [
           "septum-promoting GTP-binding protein 1",
           null,
           "Eukaryota",
           "Fungi",
           "Chytridiomycota",
           "Chytridiomycetes",
           "Spizellomycetales",
           "Powellomycetaceae",
           "Geranomyces",
           "Geranomyces michiganensis",
           null,
           null,
           "1134077",
           0.000060376439790340904,
           0.07247461260796369,
           0.09825815638805255,
           -0.1140950431604418
          ]
         ],
         "hovertemplate": "<b>%{customdata[0]}</b><br>Family Name: %{customdata[1]}<br>Domain: %{customdata[2]}<br>Kingdom: %{customdata[3]}</b><br>Phylum: %{customdata[4]}<br>Class: %{customdata[5]}<br>Order: %{customdata[6]}<br>Family: %{customdata[7]}<br>Genus: %{customdata[8]}<br>Species: %{customdata[9]}<br>EC Number: %{customdata[10]}<br>Mol Weight: %{customdata[11]}<br>Taxonomy ID: %{customdata[12]}<extra></extra>",
         "marker": {
          "color": "rgb(63, 70, 135)",
          "size": 6,
          "symbol": "circle"
         },
         "mode": "markers",
         "text": "septum-promoting GTP-binding protein 1",
         "type": "scatter3d",
         "x": [
          0.07247461260796369
         ],
         "y": [
          0.09825815638805255
         ],
         "z": [
          -0.1140950431604418
         ]
        },
        {
         "customdata": [
          [
           "Ras GTPase tem1",
           null,
           "Eukaryota",
           "Fungi",
           "Ascomycota",
           "Sordariomycetes",
           "Sordariales",
           "Chaetomiaceae",
           "Collariella",
           "Collariella sp. IMI 366227",
           null,
           null,
           "2978359",
           0.00021102286966056616,
           0.14826319565863946,
           0.11730992139843227,
           -0.05638800354180885
          ]
         ],
         "hovertemplate": "<b>%{customdata[0]}</b><br>Family Name: %{customdata[1]}<br>Domain: %{customdata[2]}<br>Kingdom: %{customdata[3]}</b><br>Phylum: %{customdata[4]}<br>Class: %{customdata[5]}<br>Order: %{customdata[6]}<br>Family: %{customdata[7]}<br>Genus: %{customdata[8]}<br>Species: %{customdata[9]}<br>EC Number: %{customdata[10]}<br>Mol Weight: %{customdata[11]}<br>Taxonomy ID: %{customdata[12]}<extra></extra>",
         "marker": {
          "color": "rgb(150, 215, 63)",
          "size": 6,
          "symbol": "circle"
         },
         "mode": "markers",
         "text": "Ras GTPase tem1",
         "type": "scatter3d",
         "x": [
          0.14826319565863946
         ],
         "y": [
          0.11730992139843227
         ],
         "z": [
          -0.05638800354180885
         ]
        },
        {
         "customdata": [
          [
           "ras family domain-containing protein",
           null,
           "Eukaryota",
           "Fungi",
           "Ascomycota",
           "Sordariomycetes",
           "Hypocreales",
           "Ophiocordycipitaceae",
           "Hirsutella",
           "Hirsutella rhossiliensis",
           null,
           36153,
           "111463",
           0.000264259108331408,
           0.1373086333493832,
           0.034569526505817204,
           -0.08086492206938452
          ]
         ],
         "hovertemplate": "<b>%{customdata[0]}</b><br>Family Name: %{customdata[1]}<br>Domain: %{customdata[2]}<br>Kingdom: %{customdata[3]}</b><br>Phylum: %{customdata[4]}<br>Class: %{customdata[5]}<br>Order: %{customdata[6]}<br>Family: %{customdata[7]}<br>Genus: %{customdata[8]}<br>Species: %{customdata[9]}<br>EC Number: %{customdata[10]}<br>Mol Weight: %{customdata[11]}<br>Taxonomy ID: %{customdata[12]}<extra></extra>",
         "marker": {
          "color": "rgb(42, 120, 142)",
          "size": 6,
          "symbol": "circle"
         },
         "mode": "markers",
         "text": "ras family domain-containing protein",
         "type": "scatter3d",
         "x": [
          0.1373086333493832
         ],
         "y": [
          0.034569526505817204
         ],
         "z": [
          -0.08086492206938452
         ]
        },
        {
         "customdata": [
          [
           "Septum-promoting GTP-binding protein-like protein",
           null,
           "Eukaryota",
           "Fungi",
           "Ascomycota",
           "Sordariomycetes",
           "Hypocreales",
           null,
           "Hapsidospora",
           "Hapsidospora chrysogena",
           null,
           null,
           "857340",
           0.00012203898154383567,
           0.1250655769624935,
           0.08251087229246801,
           -0.0036533093162562985
          ]
         ],
         "hovertemplate": "<b>%{customdata[0]}</b><br>Family Name: %{customdata[1]}<br>Domain: %{customdata[2]}<br>Kingdom: %{customdata[3]}</b><br>Phylum: %{customdata[4]}<br>Class: %{customdata[5]}<br>Order: %{customdata[6]}<br>Family: %{customdata[7]}<br>Genus: %{customdata[8]}<br>Species: %{customdata[9]}<br>EC Number: %{customdata[10]}<br>Mol Weight: %{customdata[11]}<br>Taxonomy ID: %{customdata[12]}<extra></extra>",
         "marker": {
          "color": "rgb(66, 59, 130)",
          "size": 6,
          "symbol": "circle"
         },
         "mode": "markers",
         "text": "Septum-promoting GTP-binding protein-like protein",
         "type": "scatter3d",
         "x": [
          0.1250655769624935
         ],
         "y": [
          0.08251087229246801
         ],
         "z": [
          -0.0036533093162562985
         ]
        },
        {
         "customdata": [
          [
           "P-loop containing nucleoside triphosphate hydrolase protein",
           null,
           "Eukaryota",
           "Fungi",
           "Ascomycota",
           "Sordariomycetes",
           "Xylariales",
           "Xylariaceae",
           null,
           "Xylariaceae sp. FL0016",
           null,
           null,
           "2614588",
           0.00007410041649627837,
           0.17452420055504617,
           0.11149624634437909,
           -0.10177249257389359
          ]
         ],
         "hovertemplate": "<b>%{customdata[0]}</b><br>Family Name: %{customdata[1]}<br>Domain: %{customdata[2]}<br>Kingdom: %{customdata[3]}</b><br>Phylum: %{customdata[4]}<br>Class: %{customdata[5]}<br>Order: %{customdata[6]}<br>Family: %{customdata[7]}<br>Genus: %{customdata[8]}<br>Species: %{customdata[9]}<br>EC Number: %{customdata[10]}<br>Mol Weight: %{customdata[11]}<br>Taxonomy ID: %{customdata[12]}<extra></extra>",
         "marker": {
          "color": "rgb(156, 216, 59)",
          "size": 6,
          "symbol": "circle"
         },
         "mode": "markers",
         "text": "P-loop containing nucleoside triphosphate hydrolase protein",
         "type": "scatter3d",
         "x": [
          0.17452420055504617
         ],
         "y": [
          0.11149624634437909
         ],
         "z": [
          -0.10177249257389359
         ]
        },
        {
         "customdata": [
          [
           "Septum-promoting GTP-binding protein 1",
           null,
           "Eukaryota",
           "Fungi",
           "Ascomycota",
           "Sordariomycetes",
           "Sordariales",
           null,
           "Madurella",
           "Madurella mycetomatis",
           null,
           null,
           "100816",
           0.00018895342341545074,
           0.18110171156999563,
           0.0634231718656812,
           -0.024106253827367603
          ]
         ],
         "hovertemplate": "<b>%{customdata[0]}</b><br>Family Name: %{customdata[1]}<br>Domain: %{customdata[2]}<br>Kingdom: %{customdata[3]}</b><br>Phylum: %{customdata[4]}<br>Class: %{customdata[5]}<br>Order: %{customdata[6]}<br>Family: %{customdata[7]}<br>Genus: %{customdata[8]}<br>Species: %{customdata[9]}<br>EC Number: %{customdata[10]}<br>Mol Weight: %{customdata[11]}<br>Taxonomy ID: %{customdata[12]}<extra></extra>",
         "marker": {
          "color": "rgb(52, 96, 141)",
          "size": 6,
          "symbol": "circle"
         },
         "mode": "markers",
         "text": "Septum-promoting GTP-binding protein 1",
         "type": "scatter3d",
         "x": [
          0.18110171156999563
         ],
         "y": [
          0.0634231718656812
         ],
         "z": [
          -0.024106253827367603
         ]
        },
        {
         "customdata": [
          [
           "P-loop containing nucleoside triphosphate hydrolase protein",
           null,
           "Eukaryota",
           "Fungi",
           "Ascomycota",
           "Pezizomycetes",
           "Pezizales",
           "Pyronemataceae",
           "Tricharina",
           "Tricharina praecox",
           null,
           37262,
           "43433",
           0.00019518167585876118,
           0.11904518907356909,
           0.10602088824415862,
           -0.10930630645731691
          ]
         ],
         "hovertemplate": "<b>%{customdata[0]}</b><br>Family Name: %{customdata[1]}<br>Domain: %{customdata[2]}<br>Kingdom: %{customdata[3]}</b><br>Phylum: %{customdata[4]}<br>Class: %{customdata[5]}<br>Order: %{customdata[6]}<br>Family: %{customdata[7]}<br>Genus: %{customdata[8]}<br>Species: %{customdata[9]}<br>EC Number: %{customdata[10]}<br>Mol Weight: %{customdata[11]}<br>Taxonomy ID: %{customdata[12]}<extra></extra>",
         "marker": {
          "color": "rgb(71, 26, 107)",
          "size": 6,
          "symbol": "circle"
         },
         "mode": "markers",
         "text": "P-loop containing nucleoside triphosphate hydrolase protein",
         "type": "scatter3d",
         "x": [
          0.11904518907356909
         ],
         "y": [
          0.10602088824415862
         ],
         "z": [
          -0.10930630645731691
         ]
        },
        {
         "customdata": [
          [
           "uncharacterized protein",
           null,
           "Eukaryota",
           "Fungi",
           "Ascomycota",
           "Sordariomycetes",
           "Sordariales",
           "Chaetomiaceae",
           "Thermothelomyces",
           "Thermothelomyces thermophilus",
           null,
           36296,
           "573729",
           0.00018895342341545074,
           0.16985629504916358,
           0.07558867781454119,
           -0.03527497970617412
          ]
         ],
         "hovertemplate": "<b>%{customdata[0]}</b><br>Family Name: %{customdata[1]}<br>Domain: %{customdata[2]}<br>Kingdom: %{customdata[3]}</b><br>Phylum: %{customdata[4]}<br>Class: %{customdata[5]}<br>Order: %{customdata[6]}<br>Family: %{customdata[7]}<br>Genus: %{customdata[8]}<br>Species: %{customdata[9]}<br>EC Number: %{customdata[10]}<br>Mol Weight: %{customdata[11]}<br>Taxonomy ID: %{customdata[12]}<extra></extra>",
         "marker": {
          "color": "rgb(65, 64, 132)",
          "size": 6,
          "symbol": "circle"
         },
         "mode": "markers",
         "text": "uncharacterized protein",
         "type": "scatter3d",
         "x": [
          0.16985629504916358
         ],
         "y": [
          0.07558867781454119
         ],
         "z": [
          -0.03527497970617412
         ]
        },
        {
         "customdata": [
          [
           "hypothetical protein",
           null,
           "Eukaryota",
           "Fungi",
           "Ascomycota",
           "Xylobotryomycetes",
           "Xylobotryales",
           "Cirrosporiaceae",
           "Cirrosporium",
           "Cirrosporium novae-zelandiae",
           null,
           null,
           "1130053",
           0.000264259108331408,
           0.15136800021036717,
           0.06090526846768756,
           -0.08791290586719654
          ]
         ],
         "hovertemplate": "<b>%{customdata[0]}</b><br>Family Name: %{customdata[1]}<br>Domain: %{customdata[2]}<br>Kingdom: %{customdata[3]}</b><br>Phylum: %{customdata[4]}<br>Class: %{customdata[5]}<br>Order: %{customdata[6]}<br>Family: %{customdata[7]}<br>Genus: %{customdata[8]}<br>Species: %{customdata[9]}<br>EC Number: %{customdata[10]}<br>Mol Weight: %{customdata[11]}<br>Taxonomy ID: %{customdata[12]}<extra></extra>",
         "marker": {
          "color": "rgb(59, 80, 138)",
          "size": 6,
          "symbol": "circle"
         },
         "mode": "markers",
         "text": "hypothetical protein",
         "type": "scatter3d",
         "x": [
          0.15136800021036717
         ],
         "y": [
          0.06090526846768756
         ],
         "z": [
          -0.08791290586719654
         ]
        },
        {
         "customdata": [
          [
           "septum-promoting GTP-binding protein 1",
           null,
           "Eukaryota",
           "Fungi",
           "Basidiomycota",
           "Agaricomycetes",
           "Sebacinales",
           "Serendipitaceae",
           "Serendipita",
           "Serendipita sp. 400",
           null,
           null,
           "2600213",
           0.000004080207267853222,
           0.09202999457828794,
           0.09254677210807583,
           -0.12566648365341468
          ]
         ],
         "hovertemplate": "<b>%{customdata[0]}</b><br>Family Name: %{customdata[1]}<br>Domain: %{customdata[2]}<br>Kingdom: %{customdata[3]}</b><br>Phylum: %{customdata[4]}<br>Class: %{customdata[5]}<br>Order: %{customdata[6]}<br>Family: %{customdata[7]}<br>Genus: %{customdata[8]}<br>Species: %{customdata[9]}<br>EC Number: %{customdata[10]}<br>Mol Weight: %{customdata[11]}<br>Taxonomy ID: %{customdata[12]}<extra></extra>",
         "marker": {
          "color": "rgb(50, 179, 123)",
          "size": 6,
          "symbol": "circle"
         },
         "mode": "markers",
         "text": "septum-promoting GTP-binding protein 1",
         "type": "scatter3d",
         "x": [
          0.09202999457828794
         ],
         "y": [
          0.09254677210807583
         ],
         "z": [
          -0.12566648365341468
         ]
        },
        {
         "customdata": [
          [
           "GTP-binding protein",
           null,
           "Eukaryota",
           "Fungi",
           "Ascomycota",
           "Eurotiomycetes",
           "Eurotiales",
           "Aspergillaceae",
           "Aspergillus",
           "Aspergillus sclerotialis",
           null,
           null,
           "2070753",
           0.000264259108331408,
           0.16503785970402948,
           0.048922484561972006,
           -0.03582400110952017
          ]
         ],
         "hovertemplate": "<b>%{customdata[0]}</b><br>Family Name: %{customdata[1]}<br>Domain: %{customdata[2]}<br>Kingdom: %{customdata[3]}</b><br>Phylum: %{customdata[4]}<br>Class: %{customdata[5]}<br>Order: %{customdata[6]}<br>Family: %{customdata[7]}<br>Genus: %{customdata[8]}<br>Species: %{customdata[9]}<br>EC Number: %{customdata[10]}<br>Mol Weight: %{customdata[11]}<br>Taxonomy ID: %{customdata[12]}<extra></extra>",
         "marker": {
          "color": "rgb(206, 225, 41)",
          "size": 6,
          "symbol": "circle"
         },
         "mode": "markers",
         "text": "GTP-binding protein",
         "type": "scatter3d",
         "x": [
          0.16503785970402948
         ],
         "y": [
          0.048922484561972006
         ],
         "z": [
          -0.03582400110952017
         ]
        },
        {
         "customdata": [
          [
           "P-loop containing nucleoside triphosphate hydrolase protein",
           null,
           "Eukaryota",
           "Fungi",
           "Ascomycota",
           "Sordariomycetes",
           "Xylariales",
           "Xylariaceae",
           null,
           "Xylariaceae sp. FL0255",
           null,
           null,
           "2614589",
           0.00012203898154383567,
           0.1526050245409469,
           0.09076510540919468,
           -0.0593887334392649
          ]
         ],
         "hovertemplate": "<b>%{customdata[0]}</b><br>Family Name: %{customdata[1]}<br>Domain: %{customdata[2]}<br>Kingdom: %{customdata[3]}</b><br>Phylum: %{customdata[4]}<br>Class: %{customdata[5]}<br>Order: %{customdata[6]}<br>Family: %{customdata[7]}<br>Genus: %{customdata[8]}<br>Species: %{customdata[9]}<br>EC Number: %{customdata[10]}<br>Mol Weight: %{customdata[11]}<br>Taxonomy ID: %{customdata[12]}<extra></extra>",
         "marker": {
          "color": "rgb(86, 197, 102)",
          "size": 6,
          "symbol": "circle"
         },
         "mode": "markers",
         "text": "P-loop containing nucleoside triphosphate hydrolase protein",
         "type": "scatter3d",
         "x": [
          0.1526050245409469
         ],
         "y": [
          0.09076510540919468
         ],
         "z": [
          -0.0593887334392649
         ]
        },
        {
         "customdata": [
          [
           "hypothetical protein",
           null,
           "Eukaryota",
           "Fungi",
           "Ascomycota",
           "Eurotiomycetes",
           "Eurotiales",
           "Aspergillaceae",
           "Monascus",
           "Monascus purpureus",
           null,
           null,
           "5098",
           0.000264259108331408,
           0.13086151463853435,
           0.07307512536602626,
           -0.13103787377724851
          ]
         ],
         "hovertemplate": "<b>%{customdata[0]}</b><br>Family Name: %{customdata[1]}<br>Domain: %{customdata[2]}<br>Kingdom: %{customdata[3]}</b><br>Phylum: %{customdata[4]}<br>Class: %{customdata[5]}<br>Order: %{customdata[6]}<br>Family: %{customdata[7]}<br>Genus: %{customdata[8]}<br>Species: %{customdata[9]}<br>EC Number: %{customdata[10]}<br>Mol Weight: %{customdata[11]}<br>Taxonomy ID: %{customdata[12]}<extra></extra>",
         "marker": {
          "color": "rgb(60, 77, 138)",
          "size": 6,
          "symbol": "circle"
         },
         "mode": "markers",
         "text": "hypothetical protein",
         "type": "scatter3d",
         "x": [
          0.13086151463853435
         ],
         "y": [
          0.07307512536602626
         ],
         "z": [
          -0.13103787377724851
         ]
        },
        {
         "customdata": [
          [
           "GTP-binding protein",
           null,
           "Eukaryota",
           "Fungi",
           "Ascomycota",
           "Sordariomycetes",
           "Xylariales",
           "Microdochiaceae",
           "Microdochium",
           "Microdochium nivale",
           null,
           null,
           "5520",
           0.002366841914837052,
           0.17543058158647643,
           0.06347523009458686,
           -0.01017199574459199
          ]
         ],
         "hovertemplate": "<b>%{customdata[0]}</b><br>Family Name: %{customdata[1]}<br>Domain: %{customdata[2]}<br>Kingdom: %{customdata[3]}</b><br>Phylum: %{customdata[4]}<br>Class: %{customdata[5]}<br>Order: %{customdata[6]}<br>Family: %{customdata[7]}<br>Genus: %{customdata[8]}<br>Species: %{customdata[9]}<br>EC Number: %{customdata[10]}<br>Mol Weight: %{customdata[11]}<br>Taxonomy ID: %{customdata[12]}<extra></extra>",
         "marker": {
          "color": "rgb(72, 35, 116)",
          "size": 6,
          "symbol": "circle"
         },
         "mode": "markers",
         "text": "GTP-binding protein",
         "type": "scatter3d",
         "x": [
          0.17543058158647643
         ],
         "y": [
          0.06347523009458686
         ],
         "z": [
          -0.01017199574459199
         ]
        },
        {
         "customdata": [
          [
           "small GTPase",
           null,
           "Eukaryota",
           "Fungi",
           "Ascomycota",
           "Sordariomycetes",
           "Xylariales",
           "Hypoxylaceae",
           "Daldinia",
           "Daldinia grandis",
           null,
           null,
           "103428",
           0.00007410041649627837,
           0.13878008065366979,
           0.062325272996467715,
           -0.06812223492242069
          ]
         ],
         "hovertemplate": "<b>%{customdata[0]}</b><br>Family Name: %{customdata[1]}<br>Domain: %{customdata[2]}<br>Kingdom: %{customdata[3]}</b><br>Phylum: %{customdata[4]}<br>Class: %{customdata[5]}<br>Order: %{customdata[6]}<br>Family: %{customdata[7]}<br>Genus: %{customdata[8]}<br>Species: %{customdata[9]}<br>EC Number: %{customdata[10]}<br>Mol Weight: %{customdata[11]}<br>Taxonomy ID: %{customdata[12]}<extra></extra>",
         "marker": {
          "color": "rgb(70, 17, 99)",
          "size": 6,
          "symbol": "circle"
         },
         "mode": "markers",
         "text": "small GTPase",
         "type": "scatter3d",
         "x": [
          0.13878008065366979
         ],
         "y": [
          0.062325272996467715
         ],
         "z": [
          -0.06812223492242069
         ]
        },
        {
         "customdata": [
          [
           "hypothetical protein",
           null,
           "Eukaryota",
           "Fungi",
           "Basidiomycota",
           "Pucciniomycetes",
           "Pucciniales",
           "Pucciniaceae",
           "Puccinia",
           "Puccinia striiformis",
           null,
           null,
           "875184",
           0.000264259108331408,
           0.14496341149056272,
           0.03447072932720213,
           -0.039406112152800196
          ]
         ],
         "hovertemplate": "<b>%{customdata[0]}</b><br>Family Name: %{customdata[1]}<br>Domain: %{customdata[2]}<br>Kingdom: %{customdata[3]}</b><br>Phylum: %{customdata[4]}<br>Class: %{customdata[5]}<br>Order: %{customdata[6]}<br>Family: %{customdata[7]}<br>Genus: %{customdata[8]}<br>Species: %{customdata[9]}<br>EC Number: %{customdata[10]}<br>Mol Weight: %{customdata[11]}<br>Taxonomy ID: %{customdata[12]}<extra></extra>",
         "marker": {
          "color": "rgb(49, 178, 124)",
          "size": 6,
          "symbol": "circle"
         },
         "mode": "markers",
         "text": "hypothetical protein",
         "type": "scatter3d",
         "x": [
          0.14496341149056272
         ],
         "y": [
          0.03447072932720213
         ],
         "z": [
          -0.039406112152800196
         ]
        },
        {
         "customdata": [
          [
           "hypothetical protein",
           null,
           "Eukaryota",
           "Fungi",
           "Basidiomycota",
           "Agaricomycetes",
           "Agaricales",
           "Agaricaceae",
           "Agaricus",
           "Agaricus bisporus",
           null,
           null,
           "192524",
           0.00004008891527865562,
           0.12936531626108724,
           0.11210881074918924,
           -0.12421789958767938
          ]
         ],
         "hovertemplate": "<b>%{customdata[0]}</b><br>Family Name: %{customdata[1]}<br>Domain: %{customdata[2]}<br>Kingdom: %{customdata[3]}</b><br>Phylum: %{customdata[4]}<br>Class: %{customdata[5]}<br>Order: %{customdata[6]}<br>Family: %{customdata[7]}<br>Genus: %{customdata[8]}<br>Species: %{customdata[9]}<br>EC Number: %{customdata[10]}<br>Mol Weight: %{customdata[11]}<br>Taxonomy ID: %{customdata[12]}<extra></extra>",
         "marker": {
          "color": "rgb(69, 6, 89)",
          "size": 6,
          "symbol": "circle"
         },
         "mode": "markers",
         "text": "hypothetical protein",
         "type": "scatter3d",
         "x": [
          0.12936531626108724
         ],
         "y": [
          0.11210881074918924
         ],
         "z": [
          -0.12421789958767938
         ]
        },
        {
         "customdata": [
          [
           "hypothetical protein",
           null,
           "Eukaryota",
           "Fungi",
           "Ascomycota",
           "Leotiomycetes",
           null,
           null,
           "Scytalidium",
           "Scytalidium sp. 3C",
           null,
           null,
           "2487125",
           0.002179668205391363,
           0.14935855370743373,
           0.05915270981090862,
           -0.0341200868048473
          ]
         ],
         "hovertemplate": "<b>%{customdata[0]}</b><br>Family Name: %{customdata[1]}<br>Domain: %{customdata[2]}<br>Kingdom: %{customdata[3]}</b><br>Phylum: %{customdata[4]}<br>Class: %{customdata[5]}<br>Order: %{customdata[6]}<br>Family: %{customdata[7]}<br>Genus: %{customdata[8]}<br>Species: %{customdata[9]}<br>EC Number: %{customdata[10]}<br>Mol Weight: %{customdata[11]}<br>Taxonomy ID: %{customdata[12]}<extra></extra>",
         "marker": {
          "color": "rgb(70, 23, 104)",
          "size": 6,
          "symbol": "circle"
         },
         "mode": "markers",
         "text": "hypothetical protein",
         "type": "scatter3d",
         "x": [
          0.14935855370743373
         ],
         "y": [
          0.05915270981090862
         ],
         "z": [
          -0.0341200868048473
         ]
        },
        {
         "customdata": [
          [
           "P-loop containing nucleoside triphosphate hydrolase protein",
           null,
           "Eukaryota",
           "Fungi",
           "Ascomycota",
           "Sordariomycetes",
           "Xylariales",
           "Hypoxylaceae",
           "Hypoxylon",
           "Hypoxylon fuscum",
           null,
           null,
           "109372",
           0.0001431778489689251,
           0.08786102210209819,
           0.04735458818879127,
           -0.041804674880285074
          ]
         ],
         "hovertemplate": "<b>%{customdata[0]}</b><br>Family Name: %{customdata[1]}<br>Domain: %{customdata[2]}<br>Kingdom: %{customdata[3]}</b><br>Phylum: %{customdata[4]}<br>Class: %{customdata[5]}<br>Order: %{customdata[6]}<br>Family: %{customdata[7]}<br>Genus: %{customdata[8]}<br>Species: %{customdata[9]}<br>EC Number: %{customdata[10]}<br>Mol Weight: %{customdata[11]}<br>Taxonomy ID: %{customdata[12]}<extra></extra>",
         "marker": {
          "color": "rgb(60, 79, 138)",
          "size": 6,
          "symbol": "circle"
         },
         "mode": "markers",
         "text": "P-loop containing nucleoside triphosphate hydrolase protein",
         "type": "scatter3d",
         "x": [
          0.08786102210209819
         ],
         "y": [
          0.04735458818879127
         ],
         "z": [
          -0.041804674880285074
         ]
        },
        {
         "customdata": [
          [
           "hypothetical protein",
           null,
           "Eukaryota",
           "Fungi",
           "Ascomycota",
           "Candelariomycetes",
           "Candelariales",
           "Candelariaceae",
           "Candelaria",
           "Candelaria pacifica",
           null,
           null,
           "460848",
           0.00019518167585876118,
           0.10259152229771727,
           0.09454822079424888,
           -0.02771188450948799
          ]
         ],
         "hovertemplate": "<b>%{customdata[0]}</b><br>Family Name: %{customdata[1]}<br>Domain: %{customdata[2]}<br>Kingdom: %{customdata[3]}</b><br>Phylum: %{customdata[4]}<br>Class: %{customdata[5]}<br>Order: %{customdata[6]}<br>Family: %{customdata[7]}<br>Genus: %{customdata[8]}<br>Species: %{customdata[9]}<br>EC Number: %{customdata[10]}<br>Mol Weight: %{customdata[11]}<br>Taxonomy ID: %{customdata[12]}<extra></extra>",
         "marker": {
          "color": "rgb(68, 5, 87)",
          "size": 6,
          "symbol": "circle"
         },
         "mode": "markers",
         "text": "hypothetical protein",
         "type": "scatter3d",
         "x": [
          0.10259152229771727
         ],
         "y": [
          0.09454822079424888
         ],
         "z": [
          -0.02771188450948799
         ]
        },
        {
         "customdata": [
          [
           "P-loop containing nucleoside triphosphate hydrolase protein",
           null,
           "Eukaryota",
           "Fungi",
           "Ascomycota",
           "Sordariomycetes",
           "Xylariales",
           "Hypoxylaceae",
           "Hypoxylon",
           "Hypoxylon crocopeplum",
           null,
           null,
           "326657",
           0.00019518167585876118,
           0.12119251440581001,
           0.04594224812429191,
           -0.12086506735036062
          ]
         ],
         "hovertemplate": "<b>%{customdata[0]}</b><br>Family Name: %{customdata[1]}<br>Domain: %{customdata[2]}<br>Kingdom: %{customdata[3]}</b><br>Phylum: %{customdata[4]}<br>Class: %{customdata[5]}<br>Order: %{customdata[6]}<br>Family: %{customdata[7]}<br>Genus: %{customdata[8]}<br>Species: %{customdata[9]}<br>EC Number: %{customdata[10]}<br>Mol Weight: %{customdata[11]}<br>Taxonomy ID: %{customdata[12]}<extra></extra>",
         "marker": {
          "color": "rgb(49, 103, 142)",
          "size": 6,
          "symbol": "circle"
         },
         "mode": "markers",
         "text": "P-loop containing nucleoside triphosphate hydrolase protein",
         "type": "scatter3d",
         "x": [
          0.12119251440581001
         ],
         "y": [
          0.04594224812429191
         ],
         "z": [
          -0.12086506735036062
         ]
        },
        {
         "customdata": [
          [
           "P-loop containing nucleoside triphosphate hydrolase protein",
           null,
           "Eukaryota",
           "Fungi",
           "Basidiomycota",
           "Pucciniomycetes",
           "Pucciniales",
           "Phakopsoraceae",
           "Phakopsora",
           "Phakopsora pachyrhizi",
           null,
           null,
           "170000",
           0.00024713262278526835,
           0.102592738367726,
           0.09846877183260651,
           -0.07244816612481643
          ]
         ],
         "hovertemplate": "<b>%{customdata[0]}</b><br>Family Name: %{customdata[1]}<br>Domain: %{customdata[2]}<br>Kingdom: %{customdata[3]}</b><br>Phylum: %{customdata[4]}<br>Class: %{customdata[5]}<br>Order: %{customdata[6]}<br>Family: %{customdata[7]}<br>Genus: %{customdata[8]}<br>Species: %{customdata[9]}<br>EC Number: %{customdata[10]}<br>Mol Weight: %{customdata[11]}<br>Taxonomy ID: %{customdata[12]}<extra></extra>",
         "marker": {
          "color": "rgb(210, 226, 41)",
          "size": 6,
          "symbol": "circle"
         },
         "mode": "markers",
         "text": "P-loop containing nucleoside triphosphate hydrolase protein",
         "type": "scatter3d",
         "x": [
          0.102592738367726
         ],
         "y": [
          0.09846877183260651
         ],
         "z": [
          -0.07244816612481643
         ]
        },
        {
         "customdata": [
          [
           "uncharacterized protein",
           null,
           "Eukaryota",
           "Fungi",
           "Basidiomycota",
           "Pucciniomycetes",
           "Pucciniales",
           "Pucciniaceae",
           "Puccinia",
           "Puccinia triticina",
           null,
           25080,
           "208348",
           0.00011476856669364067,
           0.12345435699471888,
           0.036248144578437114,
           -0.022233327167739136
          ]
         ],
         "hovertemplate": "<b>%{customdata[0]}</b><br>Family Name: %{customdata[1]}<br>Domain: %{customdata[2]}<br>Kingdom: %{customdata[3]}</b><br>Phylum: %{customdata[4]}<br>Class: %{customdata[5]}<br>Order: %{customdata[6]}<br>Family: %{customdata[7]}<br>Genus: %{customdata[8]}<br>Species: %{customdata[9]}<br>EC Number: %{customdata[10]}<br>Mol Weight: %{customdata[11]}<br>Taxonomy ID: %{customdata[12]}<extra></extra>",
         "marker": {
          "color": "rgb(34, 162, 135)",
          "size": 6,
          "symbol": "circle"
         },
         "mode": "markers",
         "text": "uncharacterized protein",
         "type": "scatter3d",
         "x": [
          0.12345435699471888
         ],
         "y": [
          0.036248144578437114
         ],
         "z": [
          -0.022233327167739136
         ]
        },
        {
         "customdata": [
          [
           "small GTPase",
           null,
           "Eukaryota",
           "Fungi",
           "Ascomycota",
           "Sordariomycetes",
           "Sordariales",
           "Sordariaceae",
           "Neurospora",
           "Neurospora crassa",
           null,
           null,
           "5141",
           0.0001732268837185903,
           0.14658576306060214,
           0.1340412274981396,
           -0.0761660738897831
          ]
         ],
         "hovertemplate": "<b>%{customdata[0]}</b><br>Family Name: %{customdata[1]}<br>Domain: %{customdata[2]}<br>Kingdom: %{customdata[3]}</b><br>Phylum: %{customdata[4]}<br>Class: %{customdata[5]}<br>Order: %{customdata[6]}<br>Family: %{customdata[7]}<br>Genus: %{customdata[8]}<br>Species: %{customdata[9]}<br>EC Number: %{customdata[10]}<br>Mol Weight: %{customdata[11]}<br>Taxonomy ID: %{customdata[12]}<extra></extra>",
         "marker": {
          "color": "rgb(32, 154, 138)",
          "size": 6,
          "symbol": "circle"
         },
         "mode": "markers",
         "text": "small GTPase",
         "type": "scatter3d",
         "x": [
          0.14658576306060214
         ],
         "y": [
          0.1340412274981396
         ],
         "z": [
          -0.0761660738897831
         ]
        },
        {
         "customdata": [
          [
           "septum-promoting GTP-binding protein 1",
           null,
           "Eukaryota",
           "Fungi",
           "Basidiomycota",
           "Pucciniomycetes",
           "Pucciniales",
           "Pucciniaceae",
           "Puccinia",
           "Puccinia graminis",
           null,
           26243,
           "418459",
           0.00021105173668398456,
           0.139434666175154,
           0.11809149441605186,
           0.002165950888823623
          ]
         ],
         "hovertemplate": "<b>%{customdata[0]}</b><br>Family Name: %{customdata[1]}<br>Domain: %{customdata[2]}<br>Kingdom: %{customdata[3]}</b><br>Phylum: %{customdata[4]}<br>Class: %{customdata[5]}<br>Order: %{customdata[6]}<br>Family: %{customdata[7]}<br>Genus: %{customdata[8]}<br>Species: %{customdata[9]}<br>EC Number: %{customdata[10]}<br>Mol Weight: %{customdata[11]}<br>Taxonomy ID: %{customdata[12]}<extra></extra>",
         "marker": {
          "color": "rgb(72, 39, 119)",
          "size": 6,
          "symbol": "circle"
         },
         "mode": "markers",
         "text": "septum-promoting GTP-binding protein 1",
         "type": "scatter3d",
         "x": [
          0.139434666175154
         ],
         "y": [
          0.11809149441605186
         ],
         "z": [
          0.002165950888823623
         ]
        },
        {
         "customdata": [
          [
           "unnamed protein product",
           null,
           "Eukaryota",
           "Fungi",
           "Ascomycota",
           "Sordariomycetes",
           "Hypocreales",
           "Bionectriaceae",
           "Clonostachys",
           "Clonostachys rosea",
           null,
           null,
           "29856",
           0.000053927919384292907,
           0.11510275445776114,
           0.06778372277918059,
           -0.09200565617434063
          ]
         ],
         "hovertemplate": "<b>%{customdata[0]}</b><br>Family Name: %{customdata[1]}<br>Domain: %{customdata[2]}<br>Kingdom: %{customdata[3]}</b><br>Phylum: %{customdata[4]}<br>Class: %{customdata[5]}<br>Order: %{customdata[6]}<br>Family: %{customdata[7]}<br>Genus: %{customdata[8]}<br>Species: %{customdata[9]}<br>EC Number: %{customdata[10]}<br>Mol Weight: %{customdata[11]}<br>Taxonomy ID: %{customdata[12]}<extra></extra>",
         "marker": {
          "color": "rgb(196, 224, 42)",
          "size": 6,
          "symbol": "circle"
         },
         "mode": "markers",
         "text": "unnamed protein product",
         "type": "scatter3d",
         "x": [
          0.11510275445776114
         ],
         "y": [
          0.06778372277918059
         ],
         "z": [
          -0.09200565617434063
         ]
        },
        {
         "customdata": [
          [
           "hypothetical protein",
           null,
           "Eukaryota",
           "Fungi",
           "Ascomycota",
           "Sordariomycetes",
           "Hypocreales",
           "Cordycipitaceae",
           "Lecanicillium",
           "Lecanicillium fungicola",
           null,
           null,
           "93591",
           0.00010631244184697533,
           0.13337885788152878,
           0.12327107728451878,
           -0.04578700852877842
          ]
         ],
         "hovertemplate": "<b>%{customdata[0]}</b><br>Family Name: %{customdata[1]}<br>Domain: %{customdata[2]}<br>Kingdom: %{customdata[3]}</b><br>Phylum: %{customdata[4]}<br>Class: %{customdata[5]}<br>Order: %{customdata[6]}<br>Family: %{customdata[7]}<br>Genus: %{customdata[8]}<br>Species: %{customdata[9]}<br>EC Number: %{customdata[10]}<br>Mol Weight: %{customdata[11]}<br>Taxonomy ID: %{customdata[12]}<extra></extra>",
         "marker": {
          "color": "rgb(180, 222, 44)",
          "size": 6,
          "symbol": "circle"
         },
         "mode": "markers",
         "text": "hypothetical protein",
         "type": "scatter3d",
         "x": [
          0.13337885788152878
         ],
         "y": [
          0.12327107728451878
         ],
         "z": [
          -0.04578700852877842
         ]
        },
        {
         "customdata": [
          [
           "hypothetical protein",
           null,
           "Eukaryota",
           "Fungi",
           "Ascomycota",
           "Eurotiomycetes",
           "Eurotiales",
           "Trichocomaceae",
           "Talaromyces",
           "Talaromyces atroroseus",
           null,
           36238,
           "1441469",
           0.000264259108331408,
           0.15330500844138756,
           0.09452274265508957,
           -0.004026206876664969
          ]
         ],
         "hovertemplate": "<b>%{customdata[0]}</b><br>Family Name: %{customdata[1]}<br>Domain: %{customdata[2]}<br>Kingdom: %{customdata[3]}</b><br>Phylum: %{customdata[4]}<br>Class: %{customdata[5]}<br>Order: %{customdata[6]}<br>Family: %{customdata[7]}<br>Genus: %{customdata[8]}<br>Species: %{customdata[9]}<br>EC Number: %{customdata[10]}<br>Mol Weight: %{customdata[11]}<br>Taxonomy ID: %{customdata[12]}<extra></extra>",
         "marker": {
          "color": "rgb(51, 100, 141)",
          "size": 6,
          "symbol": "circle"
         },
         "mode": "markers",
         "text": "hypothetical protein",
         "type": "scatter3d",
         "x": [
          0.15330500844138756
         ],
         "y": [
          0.09452274265508957
         ],
         "z": [
          -0.004026206876664969
         ]
        },
        {
         "customdata": [
          [
           "rab family, other",
           null,
           "Eukaryota",
           "Fungi",
           "Ascomycota",
           "Eurotiomycetes",
           "Chaetothyriales",
           "Herpotrichiellaceae",
           "Cladophialophora",
           "Cladophialophora yegresii",
           null,
           32304,
           "1182544",
           0.0001273366551671202,
           0.10882334808811923,
           0.08957945548975928,
           -0.09907460021303444
          ]
         ],
         "hovertemplate": "<b>%{customdata[0]}</b><br>Family Name: %{customdata[1]}<br>Domain: %{customdata[2]}<br>Kingdom: %{customdata[3]}</b><br>Phylum: %{customdata[4]}<br>Class: %{customdata[5]}<br>Order: %{customdata[6]}<br>Family: %{customdata[7]}<br>Genus: %{customdata[8]}<br>Species: %{customdata[9]}<br>EC Number: %{customdata[10]}<br>Mol Weight: %{customdata[11]}<br>Taxonomy ID: %{customdata[12]}<extra></extra>",
         "marker": {
          "color": "rgb(57, 185, 118)",
          "size": 6,
          "symbol": "circle"
         },
         "mode": "markers",
         "text": "rab family, other",
         "type": "scatter3d",
         "x": [
          0.10882334808811923
         ],
         "y": [
          0.08957945548975928
         ],
         "z": [
          -0.09907460021303444
         ]
        },
        {
         "customdata": [
          [
           "small GTPase",
           null,
           "Eukaryota",
           "Fungi",
           "Mucoromycota",
           "Mucoromycetes",
           "Mucorales",
           "Lichtheimiaceae",
           "Phascolomyces",
           "Phascolomyces articulosus",
           null,
           null,
           "60185",
           0.000024505832901412075,
           0.17627995206526706,
           0.011568141023605177,
           0.030441494560816497
          ]
         ],
         "hovertemplate": "<b>%{customdata[0]}</b><br>Family Name: %{customdata[1]}<br>Domain: %{customdata[2]}<br>Kingdom: %{customdata[3]}</b><br>Phylum: %{customdata[4]}<br>Class: %{customdata[5]}<br>Order: %{customdata[6]}<br>Family: %{customdata[7]}<br>Genus: %{customdata[8]}<br>Species: %{customdata[9]}<br>EC Number: %{customdata[10]}<br>Mol Weight: %{customdata[11]}<br>Taxonomy ID: %{customdata[12]}<extra></extra>",
         "marker": {
          "color": "rgb(51, 99, 141)",
          "size": 6,
          "symbol": "circle"
         },
         "mode": "markers",
         "text": "small GTPase",
         "type": "scatter3d",
         "x": [
          0.17627995206526706
         ],
         "y": [
          0.011568141023605177
         ],
         "z": [
          0.030441494560816497
         ]
        },
        {
         "customdata": [
          [
           "P-loop containing nucleoside triphosphate hydrolase protein",
           null,
           "Eukaryota",
           "Fungi",
           "Ascomycota",
           "Taphrinomycetes",
           "Taphrinales",
           "Protomycetaceae",
           "Protomyces",
           "Protomyces lactucae-debilis",
           null,
           22774,
           "2754530",
           0.000004068962357299739,
           0.18834182434129615,
           0.14737030205461105,
           -0.057088060135531624
          ]
         ],
         "hovertemplate": "<b>%{customdata[0]}</b><br>Family Name: %{customdata[1]}<br>Domain: %{customdata[2]}<br>Kingdom: %{customdata[3]}</b><br>Phylum: %{customdata[4]}<br>Class: %{customdata[5]}<br>Order: %{customdata[6]}<br>Family: %{customdata[7]}<br>Genus: %{customdata[8]}<br>Species: %{customdata[9]}<br>EC Number: %{customdata[10]}<br>Mol Weight: %{customdata[11]}<br>Taxonomy ID: %{customdata[12]}<extra></extra>",
         "marker": {
          "color": "rgb(57, 84, 139)",
          "size": 6,
          "symbol": "circle"
         },
         "mode": "markers",
         "text": "P-loop containing nucleoside triphosphate hydrolase protein",
         "type": "scatter3d",
         "x": [
          0.18834182434129615
         ],
         "y": [
          0.14737030205461105
         ],
         "z": [
          -0.057088060135531624
         ]
        },
        {
         "customdata": [
          [
           "small GTPase",
           null,
           "Eukaryota",
           "Fungi",
           "Ascomycota",
           "Sordariomycetes",
           "Xylariales",
           "Hypoxylaceae",
           "Hypoxylon",
           "Hypoxylon rubiginosum",
           null,
           null,
           "110542",
           0.00007410041649627837,
           0.10423935265383967,
           0.04010992643558864,
           -0.08998632523475097
          ]
         ],
         "hovertemplate": "<b>%{customdata[0]}</b><br>Family Name: %{customdata[1]}<br>Domain: %{customdata[2]}<br>Kingdom: %{customdata[3]}</b><br>Phylum: %{customdata[4]}<br>Class: %{customdata[5]}<br>Order: %{customdata[6]}<br>Family: %{customdata[7]}<br>Genus: %{customdata[8]}<br>Species: %{customdata[9]}<br>EC Number: %{customdata[10]}<br>Mol Weight: %{customdata[11]}<br>Taxonomy ID: %{customdata[12]}<extra></extra>",
         "marker": {
          "color": "rgb(166, 219, 52)",
          "size": 6,
          "symbol": "circle"
         },
         "mode": "markers",
         "text": "small GTPase",
         "type": "scatter3d",
         "x": [
          0.10423935265383967
         ],
         "y": [
          0.04010992643558864
         ],
         "z": [
          -0.08998632523475097
         ]
        },
        {
         "customdata": [
          [
           "hypothetical protein",
           null,
           "Eukaryota",
           "Fungi",
           "Ascomycota",
           "Sordariomycetes",
           "Xylariales",
           "Xylariaceae",
           "Rosellinia",
           "Rosellinia necatrix",
           null,
           null,
           "77044",
           0.00010631244184697533,
           0.1196727813225902,
           0.07647362419504898,
           -0.0397199599032117
          ]
         ],
         "hovertemplate": "<b>%{customdata[0]}</b><br>Family Name: %{customdata[1]}<br>Domain: %{customdata[2]}<br>Kingdom: %{customdata[3]}</b><br>Phylum: %{customdata[4]}<br>Class: %{customdata[5]}<br>Order: %{customdata[6]}<br>Family: %{customdata[7]}<br>Genus: %{customdata[8]}<br>Species: %{customdata[9]}<br>EC Number: %{customdata[10]}<br>Mol Weight: %{customdata[11]}<br>Taxonomy ID: %{customdata[12]}<extra></extra>",
         "marker": {
          "color": "rgb(43, 118, 142)",
          "size": 6,
          "symbol": "circle"
         },
         "mode": "markers",
         "text": "hypothetical protein",
         "type": "scatter3d",
         "x": [
          0.1196727813225902
         ],
         "y": [
          0.07647362419504898
         ],
         "z": [
          -0.0397199599032117
         ]
        },
        {
         "customdata": [
          [
           "small GTPase",
           null,
           "Eukaryota",
           "Fungi",
           "Mucoromycota",
           "Mucoromycetes",
           "Mucorales",
           "Mucoraceae",
           "Benjaminiella",
           "Benjaminiella poitrasii",
           null,
           null,
           "64631",
           0.0000375244206725557,
           0.1571291119037158,
           -0.01600239101253853,
           -0.12747257057356778
          ]
         ],
         "hovertemplate": "<b>%{customdata[0]}</b><br>Family Name: %{customdata[1]}<br>Domain: %{customdata[2]}<br>Kingdom: %{customdata[3]}</b><br>Phylum: %{customdata[4]}<br>Class: %{customdata[5]}<br>Order: %{customdata[6]}<br>Family: %{customdata[7]}<br>Genus: %{customdata[8]}<br>Species: %{customdata[9]}<br>EC Number: %{customdata[10]}<br>Mol Weight: %{customdata[11]}<br>Taxonomy ID: %{customdata[12]}<extra></extra>",
         "marker": {
          "color": "rgb(41, 124, 142)",
          "size": 6,
          "symbol": "circle"
         },
         "mode": "markers",
         "text": "small GTPase",
         "type": "scatter3d",
         "x": [
          0.1571291119037158
         ],
         "y": [
          -0.01600239101253853
         ],
         "z": [
          -0.12747257057356778
         ]
        },
        {
         "customdata": [
          [
           "septum-promoting GTP-binding protein 1",
           null,
           "Eukaryota",
           "Fungi",
           "Ascomycota",
           "Sordariomycetes",
           "Magnaporthales",
           "Pyriculariaceae",
           "Pyricularia",
           "Pyricularia oryzae",
           null,
           34202,
           "242507",
           0.000053927919384292907,
           0.17304075721966977,
           0.08536766239359123,
           -0.07684961978136104
          ]
         ],
         "hovertemplate": "<b>%{customdata[0]}</b><br>Family Name: %{customdata[1]}<br>Domain: %{customdata[2]}<br>Kingdom: %{customdata[3]}</b><br>Phylum: %{customdata[4]}<br>Class: %{customdata[5]}<br>Order: %{customdata[6]}<br>Family: %{customdata[7]}<br>Genus: %{customdata[8]}<br>Species: %{customdata[9]}<br>EC Number: %{customdata[10]}<br>Mol Weight: %{customdata[11]}<br>Taxonomy ID: %{customdata[12]}<extra></extra>",
         "marker": {
          "color": "rgb(70, 45, 123)",
          "size": 6,
          "symbol": "circle"
         },
         "mode": "markers",
         "text": "septum-promoting GTP-binding protein 1",
         "type": "scatter3d",
         "x": [
          0.17304075721966977
         ],
         "y": [
          0.08536766239359123
         ],
         "z": [
          -0.07684961978136104
         ]
        },
        {
         "customdata": [
          [
           "septum initiation protein sid3",
           null,
           "Eukaryota",
           "Fungi",
           "Ascomycota",
           "Sordariomycetes",
           "Xylariales",
           "Xylariaceae",
           "Camillea",
           "Camillea tinctor",
           null,
           null,
           "110548",
           0.00017442350400651802,
           0.1371814422611893,
           0.07967664567789207,
           -0.1002473340667666
          ]
         ],
         "hovertemplate": "<b>%{customdata[0]}</b><br>Family Name: %{customdata[1]}<br>Domain: %{customdata[2]}<br>Kingdom: %{customdata[3]}</b><br>Phylum: %{customdata[4]}<br>Class: %{customdata[5]}<br>Order: %{customdata[6]}<br>Family: %{customdata[7]}<br>Genus: %{customdata[8]}<br>Species: %{customdata[9]}<br>EC Number: %{customdata[10]}<br>Mol Weight: %{customdata[11]}<br>Taxonomy ID: %{customdata[12]}<extra></extra>",
         "marker": {
          "color": "rgb(57, 86, 139)",
          "size": 6,
          "symbol": "circle"
         },
         "mode": "markers",
         "text": "septum initiation protein sid3",
         "type": "scatter3d",
         "x": [
          0.1371814422611893
         ],
         "y": [
          0.07967664567789207
         ],
         "z": [
          -0.1002473340667666
         ]
        },
        {
         "customdata": [
          [
           "P-loop containing nucleoside triphosphate hydrolase protein",
           null,
           "Eukaryota",
           "Fungi",
           "Ascomycota",
           "Sordariomycetes",
           "Xylariales",
           "Xylariaceae",
           null,
           "Xylariaceae sp. FL0804",
           null,
           null,
           "2663375",
           0.0001431778489689251,
           0.16687724633174467,
           0.04591198468928404,
           -0.0800107592078079
          ]
         ],
         "hovertemplate": "<b>%{customdata[0]}</b><br>Family Name: %{customdata[1]}<br>Domain: %{customdata[2]}<br>Kingdom: %{customdata[3]}</b><br>Phylum: %{customdata[4]}<br>Class: %{customdata[5]}<br>Order: %{customdata[6]}<br>Family: %{customdata[7]}<br>Genus: %{customdata[8]}<br>Species: %{customdata[9]}<br>EC Number: %{customdata[10]}<br>Mol Weight: %{customdata[11]}<br>Taxonomy ID: %{customdata[12]}<extra></extra>",
         "marker": {
          "color": "rgb(34, 144, 140)",
          "size": 6,
          "symbol": "circle"
         },
         "mode": "markers",
         "text": "P-loop containing nucleoside triphosphate hydrolase protein",
         "type": "scatter3d",
         "x": [
          0.16687724633174467
         ],
         "y": [
          0.04591198468928404
         ],
         "z": [
          -0.0800107592078079
         ]
        },
        {
         "customdata": [
          [
           "hypothetical protein",
           null,
           "Eukaryota",
           "Fungi",
           "Ascomycota",
           "Eurotiomycetes",
           "Eurotiales",
           "Aspergillaceae",
           "Aspergillus",
           "Aspergillus felis",
           null,
           null,
           "1287682",
           0.000264259108331408,
           0.09947464895235891,
           0.13038210550408205,
           -0.02860629273514268
          ]
         ],
         "hovertemplate": "<b>%{customdata[0]}</b><br>Family Name: %{customdata[1]}<br>Domain: %{customdata[2]}<br>Kingdom: %{customdata[3]}</b><br>Phylum: %{customdata[4]}<br>Class: %{customdata[5]}<br>Order: %{customdata[6]}<br>Family: %{customdata[7]}<br>Genus: %{customdata[8]}<br>Species: %{customdata[9]}<br>EC Number: %{customdata[10]}<br>Mol Weight: %{customdata[11]}<br>Taxonomy ID: %{customdata[12]}<extra></extra>",
         "marker": {
          "color": "rgb(35, 141, 140)",
          "size": 6,
          "symbol": "circle"
         },
         "mode": "markers",
         "text": "hypothetical protein",
         "type": "scatter3d",
         "x": [
          0.09947464895235891
         ],
         "y": [
          0.13038210550408205
         ],
         "z": [
          -0.02860629273514268
         ]
        },
        {
         "customdata": [
          [
           "hypothetical protein",
           null,
           "Eukaryota",
           "Fungi",
           "Basidiomycota",
           "Exobasidiomycetes",
           "Tilletiales",
           "Tilletiaceae",
           "Tilletia",
           "Tilletia walkeri",
           null,
           null,
           "117179",
           0.00017887898139920208,
           0.11980488063853154,
           0.06920107750397814,
           -0.11460253781625444
          ]
         ],
         "hovertemplate": "<b>%{customdata[0]}</b><br>Family Name: %{customdata[1]}<br>Domain: %{customdata[2]}<br>Kingdom: %{customdata[3]}</b><br>Phylum: %{customdata[4]}<br>Class: %{customdata[5]}<br>Order: %{customdata[6]}<br>Family: %{customdata[7]}<br>Genus: %{customdata[8]}<br>Species: %{customdata[9]}<br>EC Number: %{customdata[10]}<br>Mol Weight: %{customdata[11]}<br>Taxonomy ID: %{customdata[12]}<extra></extra>",
         "marker": {
          "color": "rgb(243, 230, 38)",
          "size": 6,
          "symbol": "circle"
         },
         "mode": "markers",
         "text": "hypothetical protein",
         "type": "scatter3d",
         "x": [
          0.11980488063853154
         ],
         "y": [
          0.06920107750397814
         ],
         "z": [
          -0.11460253781625444
         ]
        },
        {
         "customdata": [
          [
           "uncharacterized protein",
           null,
           "Eukaryota",
           "Fungi",
           "Ascomycota",
           "Sordariomycetes",
           "Diaporthales",
           "Diaporthaceae",
           "Diaporthe",
           "Diaporthe amygdali",
           null,
           32589,
           "1214568",
           0.00017442350400651802,
           0.13724752649652464,
           0.05866393738464364,
           -0.12020359156328857
          ]
         ],
         "hovertemplate": "<b>%{customdata[0]}</b><br>Family Name: %{customdata[1]}<br>Domain: %{customdata[2]}<br>Kingdom: %{customdata[3]}</b><br>Phylum: %{customdata[4]}<br>Class: %{customdata[5]}<br>Order: %{customdata[6]}<br>Family: %{customdata[7]}<br>Genus: %{customdata[8]}<br>Species: %{customdata[9]}<br>EC Number: %{customdata[10]}<br>Mol Weight: %{customdata[11]}<br>Taxonomy ID: %{customdata[12]}<extra></extra>",
         "marker": {
          "color": "rgb(69, 8, 91)",
          "size": 6,
          "symbol": "circle"
         },
         "mode": "markers",
         "text": "uncharacterized protein",
         "type": "scatter3d",
         "x": [
          0.13724752649652464
         ],
         "y": [
          0.05866393738464364
         ],
         "z": [
          -0.12020359156328857
         ]
        },
        {
         "customdata": [
          [
           "hypothetical protein",
           null,
           "Eukaryota",
           "Fungi",
           "Ascomycota",
           "Eurotiomycetes",
           "Eurotiales",
           "Aspergillaceae",
           "Penicillium",
           "Penicillium riverlandense",
           null,
           null,
           "1903569",
           0.00024133794587813298,
           0.14851729203740455,
           0.11819452000600766,
           -0.07929099187263558
          ]
         ],
         "hovertemplate": "<b>%{customdata[0]}</b><br>Family Name: %{customdata[1]}<br>Domain: %{customdata[2]}<br>Kingdom: %{customdata[3]}</b><br>Phylum: %{customdata[4]}<br>Class: %{customdata[5]}<br>Order: %{customdata[6]}<br>Family: %{customdata[7]}<br>Genus: %{customdata[8]}<br>Species: %{customdata[9]}<br>EC Number: %{customdata[10]}<br>Mol Weight: %{customdata[11]}<br>Taxonomy ID: %{customdata[12]}<extra></extra>",
         "marker": {
          "color": "rgb(47, 109, 142)",
          "size": 6,
          "symbol": "circle"
         },
         "mode": "markers",
         "text": "hypothetical protein",
         "type": "scatter3d",
         "x": [
          0.14851729203740455
         ],
         "y": [
          0.11819452000600766
         ],
         "z": [
          -0.07929099187263558
         ]
        },
        {
         "customdata": [
          [
           "septum-promoting GTP-binding protein 1",
           null,
           "Eukaryota",
           "Fungi",
           "Ascomycota",
           "Eurotiomycetes",
           "Chaetothyriales",
           "Herpotrichiellaceae",
           "Rhinocladiella",
           "Rhinocladiella mackenziei",
           null,
           31864,
           "1442369",
           0.00007410041649627837,
           0.1126160049444383,
           0.07023467812040501,
           -0.05136266554417294
          ]
         ],
         "hovertemplate": "<b>%{customdata[0]}</b><br>Family Name: %{customdata[1]}<br>Domain: %{customdata[2]}<br>Kingdom: %{customdata[3]}</b><br>Phylum: %{customdata[4]}<br>Class: %{customdata[5]}<br>Order: %{customdata[6]}<br>Family: %{customdata[7]}<br>Genus: %{customdata[8]}<br>Species: %{customdata[9]}<br>EC Number: %{customdata[10]}<br>Mol Weight: %{customdata[11]}<br>Taxonomy ID: %{customdata[12]}<extra></extra>",
         "marker": {
          "color": "rgb(68, 53, 127)",
          "size": 6,
          "symbol": "circle"
         },
         "mode": "markers",
         "text": "septum-promoting GTP-binding protein 1",
         "type": "scatter3d",
         "x": [
          0.1126160049444383
         ],
         "y": [
          0.07023467812040501
         ],
         "z": [
          -0.05136266554417294
         ]
        },
        {
         "customdata": [
          [
           "putative TEM1-GTP-binding protein of the ras superfamily",
           null,
           "Eukaryota",
           "Fungi",
           "Basidiomycota",
           "Ustilaginomycetes",
           "Violaceomycetales",
           "Violaceomycetaceae",
           "Violaceomyces",
           "Violaceomyces palustris",
           null,
           null,
           "1673888",
           0.000007505845134040214,
           0.11944846227651237,
           0.10432974954246492,
           -0.0179994309248655
          ]
         ],
         "hovertemplate": "<b>%{customdata[0]}</b><br>Family Name: %{customdata[1]}<br>Domain: %{customdata[2]}<br>Kingdom: %{customdata[3]}</b><br>Phylum: %{customdata[4]}<br>Class: %{customdata[5]}<br>Order: %{customdata[6]}<br>Family: %{customdata[7]}<br>Genus: %{customdata[8]}<br>Species: %{customdata[9]}<br>EC Number: %{customdata[10]}<br>Mol Weight: %{customdata[11]}<br>Taxonomy ID: %{customdata[12]}<extra></extra>",
         "marker": {
          "color": "rgb(68, 1, 84)",
          "size": 6,
          "symbol": "circle"
         },
         "mode": "markers",
         "text": "putative TEM1-GTP-binding protein of the ras superfamily",
         "type": "scatter3d",
         "x": [
          0.11944846227651237
         ],
         "y": [
          0.10432974954246492
         ],
         "z": [
          -0.0179994309248655
         ]
        },
        {
         "customdata": [
          [
           "hypothetical protein",
           null,
           "Eukaryota",
           "Fungi",
           "Ascomycota",
           "Eurotiomycetes",
           "Eurotiales",
           "Aspergillaceae",
           "Penicillium",
           "Penicillium malachiteum",
           null,
           null,
           "1324776",
           0.000264259108331408,
           0.09004427648921508,
           0.042365618368112576,
           -0.09269068970003368
          ]
         ],
         "hovertemplate": "<b>%{customdata[0]}</b><br>Family Name: %{customdata[1]}<br>Domain: %{customdata[2]}<br>Kingdom: %{customdata[3]}</b><br>Phylum: %{customdata[4]}<br>Class: %{customdata[5]}<br>Order: %{customdata[6]}<br>Family: %{customdata[7]}<br>Genus: %{customdata[8]}<br>Species: %{customdata[9]}<br>EC Number: %{customdata[10]}<br>Mol Weight: %{customdata[11]}<br>Taxonomy ID: %{customdata[12]}<extra></extra>",
         "marker": {
          "color": "rgb(44, 115, 142)",
          "size": 6,
          "symbol": "circle"
         },
         "mode": "markers",
         "text": "hypothetical protein",
         "type": "scatter3d",
         "x": [
          0.09004427648921508
         ],
         "y": [
          0.042365618368112576
         ],
         "z": [
          -0.09269068970003368
         ]
        },
        {
         "customdata": [
          [
           "septum-promoting GTP-binding protein 1",
           null,
           "Eukaryota",
           "Fungi",
           "Ascomycota",
           "Leotiomycetes",
           "Leotiales",
           "Tympanidaceae",
           "Claussenomyces",
           "Claussenomyces sp. TS43310",
           null,
           null,
           "2939399",
           0.00014194543718791931,
           0.07147295418915058,
           0.0545980457130348,
           -0.08858889722705304
          ]
         ],
         "hovertemplate": "<b>%{customdata[0]}</b><br>Family Name: %{customdata[1]}<br>Domain: %{customdata[2]}<br>Kingdom: %{customdata[3]}</b><br>Phylum: %{customdata[4]}<br>Class: %{customdata[5]}<br>Order: %{customdata[6]}<br>Family: %{customdata[7]}<br>Genus: %{customdata[8]}<br>Species: %{customdata[9]}<br>EC Number: %{customdata[10]}<br>Mol Weight: %{customdata[11]}<br>Taxonomy ID: %{customdata[12]}<extra></extra>",
         "marker": {
          "color": "rgb(46, 174, 126)",
          "size": 6,
          "symbol": "circle"
         },
         "mode": "markers",
         "text": "septum-promoting GTP-binding protein 1",
         "type": "scatter3d",
         "x": [
          0.07147295418915058
         ],
         "y": [
          0.0545980457130348
         ],
         "z": [
          -0.08858889722705304
         ]
        },
        {
         "customdata": [
          [
           "f0ea1c64-d953-4cb0-85b0-4c02922ce60f",
           null,
           "Eukaryota",
           "Fungi",
           "Ascomycota",
           "Leotiomycetes",
           "Helotiales",
           "Sclerotiniaceae",
           "Sclerotinia",
           "Sclerotinia trifoliorum",
           null,
           null,
           "28548",
           0.0001431778489689251,
           0.170002236330594,
           0.06347144099121237,
           -0.0975233354743173
          ]
         ],
         "hovertemplate": "<b>%{customdata[0]}</b><br>Family Name: %{customdata[1]}<br>Domain: %{customdata[2]}<br>Kingdom: %{customdata[3]}</b><br>Phylum: %{customdata[4]}<br>Class: %{customdata[5]}<br>Order: %{customdata[6]}<br>Family: %{customdata[7]}<br>Genus: %{customdata[8]}<br>Species: %{customdata[9]}<br>EC Number: %{customdata[10]}<br>Mol Weight: %{customdata[11]}<br>Taxonomy ID: %{customdata[12]}<extra></extra>",
         "marker": {
          "color": "rgb(120, 208, 82)",
          "size": 6,
          "symbol": "circle"
         },
         "mode": "markers",
         "text": "f0ea1c64-d953-4cb0-85b0-4c02922ce60f",
         "type": "scatter3d",
         "x": [
          0.170002236330594
         ],
         "y": [
          0.06347144099121237
         ],
         "z": [
          -0.0975233354743173
         ]
        },
        {
         "customdata": [
          [
           "septum-promoting GTP-binding protein 1",
           null,
           "Eukaryota",
           "Fungi",
           "Ascomycota",
           "Eurotiomycetes",
           "Eurotiales",
           "Aspergillaceae",
           "Aspergillus",
           "Aspergillus thermomutatus",
           null,
           34591,
           "41047",
           0.000264259108331408,
           0.09510184846590364,
           0.11323072222855475,
           -0.0866430297774554
          ]
         ],
         "hovertemplate": "<b>%{customdata[0]}</b><br>Family Name: %{customdata[1]}<br>Domain: %{customdata[2]}<br>Kingdom: %{customdata[3]}</b><br>Phylum: %{customdata[4]}<br>Class: %{customdata[5]}<br>Order: %{customdata[6]}<br>Family: %{customdata[7]}<br>Genus: %{customdata[8]}<br>Species: %{customdata[9]}<br>EC Number: %{customdata[10]}<br>Mol Weight: %{customdata[11]}<br>Taxonomy ID: %{customdata[12]}<extra></extra>",
         "marker": {
          "color": "rgb(47, 108, 142)",
          "size": 6,
          "symbol": "circle"
         },
         "mode": "markers",
         "text": "septum-promoting GTP-binding protein 1",
         "type": "scatter3d",
         "x": [
          0.09510184846590364
         ],
         "y": [
          0.11323072222855475
         ],
         "z": [
          -0.0866430297774554
         ]
        },
        {
         "customdata": [
          [
           "small GTPase",
           null,
           "Eukaryota",
           "Fungi",
           "Ascomycota",
           "Sordariomycetes",
           "Xylariales",
           "Hypoxylaceae",
           "Jackrogersella",
           "Jackrogersella minutella",
           null,
           null,
           "1955266",
           0.00007410041649627837,
           0.09122957740027139,
           0.058281885899939635,
           -0.12078742383902251
          ]
         ],
         "hovertemplate": "<b>%{customdata[0]}</b><br>Family Name: %{customdata[1]}<br>Domain: %{customdata[2]}<br>Kingdom: %{customdata[3]}</b><br>Phylum: %{customdata[4]}<br>Class: %{customdata[5]}<br>Order: %{customdata[6]}<br>Family: %{customdata[7]}<br>Genus: %{customdata[8]}<br>Species: %{customdata[9]}<br>EC Number: %{customdata[10]}<br>Mol Weight: %{customdata[11]}<br>Taxonomy ID: %{customdata[12]}<extra></extra>",
         "marker": {
          "color": "rgb(33, 161, 135)",
          "size": 6,
          "symbol": "circle"
         },
         "mode": "markers",
         "text": "small GTPase",
         "type": "scatter3d",
         "x": [
          0.09122957740027139
         ],
         "y": [
          0.058281885899939635
         ],
         "z": [
          -0.12078742383902251
         ]
        },
        {
         "customdata": [
          [
           "rab family, other",
           null,
           "Eukaryota",
           "Fungi",
           "Ascomycota",
           "Eurotiomycetes",
           "Chaetothyriales",
           "Herpotrichiellaceae",
           "Capronia",
           "Capronia epimyces",
           null,
           32067,
           "1182542",
           0.00007410041649627837,
           0.16319309835854937,
           0.11713529123781549,
           -0.06389867943222366
          ]
         ],
         "hovertemplate": "<b>%{customdata[0]}</b><br>Family Name: %{customdata[1]}<br>Domain: %{customdata[2]}<br>Kingdom: %{customdata[3]}</b><br>Phylum: %{customdata[4]}<br>Class: %{customdata[5]}<br>Order: %{customdata[6]}<br>Family: %{customdata[7]}<br>Genus: %{customdata[8]}<br>Species: %{customdata[9]}<br>EC Number: %{customdata[10]}<br>Mol Weight: %{customdata[11]}<br>Taxonomy ID: %{customdata[12]}<extra></extra>",
         "marker": {
          "color": "rgb(36, 138, 141)",
          "size": 6,
          "symbol": "circle"
         },
         "mode": "markers",
         "text": "rab family, other",
         "type": "scatter3d",
         "x": [
          0.16319309835854937
         ],
         "y": [
          0.11713529123781549
         ],
         "z": [
          -0.06389867943222366
         ]
        }
       ],
       "layout": {
        "hovermode": "closest",
        "margin": {
         "b": 0,
         "l": 0,
         "r": 0,
         "t": 0
        },
        "plot_bgcolor": "white",
        "scene": {
         "xaxis": {
          "visible": false
         },
         "yaxis": {
          "visible": false
         },
         "zaxis": {
          "visible": false
         }
        },
        "showlegend": false,
        "template": {
         "data": {
          "bar": [
           {
            "error_x": {
             "color": "#2a3f5f"
            },
            "error_y": {
             "color": "#2a3f5f"
            },
            "marker": {
             "line": {
              "color": "#E5ECF6",
              "width": 0.5
             },
             "pattern": {
              "fillmode": "overlay",
              "size": 10,
              "solidity": 0.2
             }
            },
            "type": "bar"
           }
          ],
          "barpolar": [
           {
            "marker": {
             "line": {
              "color": "#E5ECF6",
              "width": 0.5
             },
             "pattern": {
              "fillmode": "overlay",
              "size": 10,
              "solidity": 0.2
             }
            },
            "type": "barpolar"
           }
          ],
          "carpet": [
           {
            "aaxis": {
             "endlinecolor": "#2a3f5f",
             "gridcolor": "white",
             "linecolor": "white",
             "minorgridcolor": "white",
             "startlinecolor": "#2a3f5f"
            },
            "baxis": {
             "endlinecolor": "#2a3f5f",
             "gridcolor": "white",
             "linecolor": "white",
             "minorgridcolor": "white",
             "startlinecolor": "#2a3f5f"
            },
            "type": "carpet"
           }
          ],
          "choropleth": [
           {
            "colorbar": {
             "outlinewidth": 0,
             "ticks": ""
            },
            "type": "choropleth"
           }
          ],
          "contour": [
           {
            "colorbar": {
             "outlinewidth": 0,
             "ticks": ""
            },
            "colorscale": [
             [
              0,
              "#0d0887"
             ],
             [
              0.1111111111111111,
              "#46039f"
             ],
             [
              0.2222222222222222,
              "#7201a8"
             ],
             [
              0.3333333333333333,
              "#9c179e"
             ],
             [
              0.4444444444444444,
              "#bd3786"
             ],
             [
              0.5555555555555556,
              "#d8576b"
             ],
             [
              0.6666666666666666,
              "#ed7953"
             ],
             [
              0.7777777777777778,
              "#fb9f3a"
             ],
             [
              0.8888888888888888,
              "#fdca26"
             ],
             [
              1,
              "#f0f921"
             ]
            ],
            "type": "contour"
           }
          ],
          "contourcarpet": [
           {
            "colorbar": {
             "outlinewidth": 0,
             "ticks": ""
            },
            "type": "contourcarpet"
           }
          ],
          "heatmap": [
           {
            "colorbar": {
             "outlinewidth": 0,
             "ticks": ""
            },
            "colorscale": [
             [
              0,
              "#0d0887"
             ],
             [
              0.1111111111111111,
              "#46039f"
             ],
             [
              0.2222222222222222,
              "#7201a8"
             ],
             [
              0.3333333333333333,
              "#9c179e"
             ],
             [
              0.4444444444444444,
              "#bd3786"
             ],
             [
              0.5555555555555556,
              "#d8576b"
             ],
             [
              0.6666666666666666,
              "#ed7953"
             ],
             [
              0.7777777777777778,
              "#fb9f3a"
             ],
             [
              0.8888888888888888,
              "#fdca26"
             ],
             [
              1,
              "#f0f921"
             ]
            ],
            "type": "heatmap"
           }
          ],
          "heatmapgl": [
           {
            "colorbar": {
             "outlinewidth": 0,
             "ticks": ""
            },
            "colorscale": [
             [
              0,
              "#0d0887"
             ],
             [
              0.1111111111111111,
              "#46039f"
             ],
             [
              0.2222222222222222,
              "#7201a8"
             ],
             [
              0.3333333333333333,
              "#9c179e"
             ],
             [
              0.4444444444444444,
              "#bd3786"
             ],
             [
              0.5555555555555556,
              "#d8576b"
             ],
             [
              0.6666666666666666,
              "#ed7953"
             ],
             [
              0.7777777777777778,
              "#fb9f3a"
             ],
             [
              0.8888888888888888,
              "#fdca26"
             ],
             [
              1,
              "#f0f921"
             ]
            ],
            "type": "heatmapgl"
           }
          ],
          "histogram": [
           {
            "marker": {
             "pattern": {
              "fillmode": "overlay",
              "size": 10,
              "solidity": 0.2
             }
            },
            "type": "histogram"
           }
          ],
          "histogram2d": [
           {
            "colorbar": {
             "outlinewidth": 0,
             "ticks": ""
            },
            "colorscale": [
             [
              0,
              "#0d0887"
             ],
             [
              0.1111111111111111,
              "#46039f"
             ],
             [
              0.2222222222222222,
              "#7201a8"
             ],
             [
              0.3333333333333333,
              "#9c179e"
             ],
             [
              0.4444444444444444,
              "#bd3786"
             ],
             [
              0.5555555555555556,
              "#d8576b"
             ],
             [
              0.6666666666666666,
              "#ed7953"
             ],
             [
              0.7777777777777778,
              "#fb9f3a"
             ],
             [
              0.8888888888888888,
              "#fdca26"
             ],
             [
              1,
              "#f0f921"
             ]
            ],
            "type": "histogram2d"
           }
          ],
          "histogram2dcontour": [
           {
            "colorbar": {
             "outlinewidth": 0,
             "ticks": ""
            },
            "colorscale": [
             [
              0,
              "#0d0887"
             ],
             [
              0.1111111111111111,
              "#46039f"
             ],
             [
              0.2222222222222222,
              "#7201a8"
             ],
             [
              0.3333333333333333,
              "#9c179e"
             ],
             [
              0.4444444444444444,
              "#bd3786"
             ],
             [
              0.5555555555555556,
              "#d8576b"
             ],
             [
              0.6666666666666666,
              "#ed7953"
             ],
             [
              0.7777777777777778,
              "#fb9f3a"
             ],
             [
              0.8888888888888888,
              "#fdca26"
             ],
             [
              1,
              "#f0f921"
             ]
            ],
            "type": "histogram2dcontour"
           }
          ],
          "mesh3d": [
           {
            "colorbar": {
             "outlinewidth": 0,
             "ticks": ""
            },
            "type": "mesh3d"
           }
          ],
          "parcoords": [
           {
            "line": {
             "colorbar": {
              "outlinewidth": 0,
              "ticks": ""
             }
            },
            "type": "parcoords"
           }
          ],
          "pie": [
           {
            "automargin": true,
            "type": "pie"
           }
          ],
          "scatter": [
           {
            "fillpattern": {
             "fillmode": "overlay",
             "size": 10,
             "solidity": 0.2
            },
            "type": "scatter"
           }
          ],
          "scatter3d": [
           {
            "line": {
             "colorbar": {
              "outlinewidth": 0,
              "ticks": ""
             }
            },
            "marker": {
             "colorbar": {
              "outlinewidth": 0,
              "ticks": ""
             }
            },
            "type": "scatter3d"
           }
          ],
          "scattercarpet": [
           {
            "marker": {
             "colorbar": {
              "outlinewidth": 0,
              "ticks": ""
             }
            },
            "type": "scattercarpet"
           }
          ],
          "scattergeo": [
           {
            "marker": {
             "colorbar": {
              "outlinewidth": 0,
              "ticks": ""
             }
            },
            "type": "scattergeo"
           }
          ],
          "scattergl": [
           {
            "marker": {
             "colorbar": {
              "outlinewidth": 0,
              "ticks": ""
             }
            },
            "type": "scattergl"
           }
          ],
          "scattermapbox": [
           {
            "marker": {
             "colorbar": {
              "outlinewidth": 0,
              "ticks": ""
             }
            },
            "type": "scattermapbox"
           }
          ],
          "scatterpolar": [
           {
            "marker": {
             "colorbar": {
              "outlinewidth": 0,
              "ticks": ""
             }
            },
            "type": "scatterpolar"
           }
          ],
          "scatterpolargl": [
           {
            "marker": {
             "colorbar": {
              "outlinewidth": 0,
              "ticks": ""
             }
            },
            "type": "scatterpolargl"
           }
          ],
          "scatterternary": [
           {
            "marker": {
             "colorbar": {
              "outlinewidth": 0,
              "ticks": ""
             }
            },
            "type": "scatterternary"
           }
          ],
          "surface": [
           {
            "colorbar": {
             "outlinewidth": 0,
             "ticks": ""
            },
            "colorscale": [
             [
              0,
              "#0d0887"
             ],
             [
              0.1111111111111111,
              "#46039f"
             ],
             [
              0.2222222222222222,
              "#7201a8"
             ],
             [
              0.3333333333333333,
              "#9c179e"
             ],
             [
              0.4444444444444444,
              "#bd3786"
             ],
             [
              0.5555555555555556,
              "#d8576b"
             ],
             [
              0.6666666666666666,
              "#ed7953"
             ],
             [
              0.7777777777777778,
              "#fb9f3a"
             ],
             [
              0.8888888888888888,
              "#fdca26"
             ],
             [
              1,
              "#f0f921"
             ]
            ],
            "type": "surface"
           }
          ],
          "table": [
           {
            "cells": {
             "fill": {
              "color": "#EBF0F8"
             },
             "line": {
              "color": "white"
             }
            },
            "header": {
             "fill": {
              "color": "#C8D4E3"
             },
             "line": {
              "color": "white"
             }
            },
            "type": "table"
           }
          ]
         },
         "layout": {
          "annotationdefaults": {
           "arrowcolor": "#2a3f5f",
           "arrowhead": 0,
           "arrowwidth": 1
          },
          "autotypenumbers": "strict",
          "coloraxis": {
           "colorbar": {
            "outlinewidth": 0,
            "ticks": ""
           }
          },
          "colorscale": {
           "diverging": [
            [
             0,
             "#8e0152"
            ],
            [
             0.1,
             "#c51b7d"
            ],
            [
             0.2,
             "#de77ae"
            ],
            [
             0.3,
             "#f1b6da"
            ],
            [
             0.4,
             "#fde0ef"
            ],
            [
             0.5,
             "#f7f7f7"
            ],
            [
             0.6,
             "#e6f5d0"
            ],
            [
             0.7,
             "#b8e186"
            ],
            [
             0.8,
             "#7fbc41"
            ],
            [
             0.9,
             "#4d9221"
            ],
            [
             1,
             "#276419"
            ]
           ],
           "sequential": [
            [
             0,
             "#0d0887"
            ],
            [
             0.1111111111111111,
             "#46039f"
            ],
            [
             0.2222222222222222,
             "#7201a8"
            ],
            [
             0.3333333333333333,
             "#9c179e"
            ],
            [
             0.4444444444444444,
             "#bd3786"
            ],
            [
             0.5555555555555556,
             "#d8576b"
            ],
            [
             0.6666666666666666,
             "#ed7953"
            ],
            [
             0.7777777777777778,
             "#fb9f3a"
            ],
            [
             0.8888888888888888,
             "#fdca26"
            ],
            [
             1,
             "#f0f921"
            ]
           ],
           "sequentialminus": [
            [
             0,
             "#0d0887"
            ],
            [
             0.1111111111111111,
             "#46039f"
            ],
            [
             0.2222222222222222,
             "#7201a8"
            ],
            [
             0.3333333333333333,
             "#9c179e"
            ],
            [
             0.4444444444444444,
             "#bd3786"
            ],
            [
             0.5555555555555556,
             "#d8576b"
            ],
            [
             0.6666666666666666,
             "#ed7953"
            ],
            [
             0.7777777777777778,
             "#fb9f3a"
            ],
            [
             0.8888888888888888,
             "#fdca26"
            ],
            [
             1,
             "#f0f921"
            ]
           ]
          },
          "colorway": [
           "#636efa",
           "#EF553B",
           "#00cc96",
           "#ab63fa",
           "#FFA15A",
           "#19d3f3",
           "#FF6692",
           "#B6E880",
           "#FF97FF",
           "#FECB52"
          ],
          "font": {
           "color": "#2a3f5f"
          },
          "geo": {
           "bgcolor": "white",
           "lakecolor": "white",
           "landcolor": "#E5ECF6",
           "showlakes": true,
           "showland": true,
           "subunitcolor": "white"
          },
          "hoverlabel": {
           "align": "left"
          },
          "hovermode": "closest",
          "mapbox": {
           "style": "light"
          },
          "paper_bgcolor": "white",
          "plot_bgcolor": "#E5ECF6",
          "polar": {
           "angularaxis": {
            "gridcolor": "white",
            "linecolor": "white",
            "ticks": ""
           },
           "bgcolor": "#E5ECF6",
           "radialaxis": {
            "gridcolor": "white",
            "linecolor": "white",
            "ticks": ""
           }
          },
          "scene": {
           "xaxis": {
            "backgroundcolor": "#E5ECF6",
            "gridcolor": "white",
            "gridwidth": 2,
            "linecolor": "white",
            "showbackground": true,
            "ticks": "",
            "zerolinecolor": "white"
           },
           "yaxis": {
            "backgroundcolor": "#E5ECF6",
            "gridcolor": "white",
            "gridwidth": 2,
            "linecolor": "white",
            "showbackground": true,
            "ticks": "",
            "zerolinecolor": "white"
           },
           "zaxis": {
            "backgroundcolor": "#E5ECF6",
            "gridcolor": "white",
            "gridwidth": 2,
            "linecolor": "white",
            "showbackground": true,
            "ticks": "",
            "zerolinecolor": "white"
           }
          },
          "shapedefaults": {
           "line": {
            "color": "#2a3f5f"
           }
          },
          "ternary": {
           "aaxis": {
            "gridcolor": "white",
            "linecolor": "white",
            "ticks": ""
           },
           "baxis": {
            "gridcolor": "white",
            "linecolor": "white",
            "ticks": ""
           },
           "bgcolor": "#E5ECF6",
           "caxis": {
            "gridcolor": "white",
            "linecolor": "white",
            "ticks": ""
           }
          },
          "title": {
           "x": 0.05
          },
          "xaxis": {
           "automargin": true,
           "gridcolor": "white",
           "linecolor": "white",
           "ticks": "",
           "title": {
            "standoff": 15
           },
           "zerolinecolor": "white",
           "zerolinewidth": 2
          },
          "yaxis": {
           "automargin": true,
           "gridcolor": "white",
           "linecolor": "white",
           "ticks": "",
           "title": {
            "standoff": 15
           },
           "zerolinecolor": "white",
           "zerolinewidth": 2
          }
         }
        },
        "xaxis": {
         "visible": false
        },
        "yaxis": {
         "visible": false
        }
       }
      }
     },
     "metadata": {},
     "output_type": "display_data"
    }
   ],
   "source": [
    "n = SequenceNetwork(\n",
    "    sequences=blast_results,\n",
    "    pairwise_alignments=multi_parwise_alignments,\n",
    "    threshold=0.76,\n",
    "    weight=\"identity\",\n",
    "    dimensions=3,\n",
    "    color=\"species\",\n",
    ")\n",
    "n.add_target(metTK)\n",
    "n.visualize()"
   ]
  },
  {
   "cell_type": "markdown",
   "metadata": {},
   "source": [
    "## Clustering"
   ]
  },
  {
   "cell_type": "code",
   "execution_count": 35,
   "metadata": {},
   "outputs": [],
   "source": [
    "%reload_ext autoreload\n",
    "%autoreload 2\n",
    "from pyeed.containers.mmseqs2 import MMSeqs2"
   ]
  },
  {
   "cell_type": "code",
   "execution_count": 36,
   "metadata": {},
   "outputs": [
    {
     "ename": "TypeError",
     "evalue": "descriptor '_tempdir_path' for 'AbstractContainer' objects doesn't apply to a 'MMSeqs2' object",
     "output_type": "error",
     "traceback": [
      "\u001b[0;31m---------------------------------------------------------------------------\u001b[0m",
      "\u001b[0;31mTypeError\u001b[0m                                 Traceback (most recent call last)",
      "Cell \u001b[0;32mIn[36], line 1\u001b[0m\n\u001b[0;32m----> 1\u001b[0m c \u001b[38;5;241m=\u001b[39m \u001b[43mMMSeqs2\u001b[49m\u001b[43m(\u001b[49m\u001b[43m)\u001b[49m\u001b[38;5;241m.\u001b[39mrun_container()\n",
      "File \u001b[0;32m~/Documents/GitHub/pyeed/pyeed/containers/abstract_container.py:73\u001b[0m, in \u001b[0;36mAbstractContainer.__init__\u001b[0;34m(self, **kwargs)\u001b[0m\n\u001b[1;32m     71\u001b[0m BaseModel\u001b[38;5;241m.\u001b[39m\u001b[38;5;21m__init__\u001b[39m(\u001b[38;5;28mself\u001b[39m, \u001b[38;5;241m*\u001b[39m\u001b[38;5;241m*\u001b[39mkwargs)\n\u001b[1;32m     72\u001b[0m \u001b[38;5;28msuper\u001b[39m()\u001b[38;5;241m.\u001b[39m\u001b[38;5;21m__init__\u001b[39m(\u001b[38;5;241m*\u001b[39m\u001b[38;5;241m*\u001b[39mkwargs)\n\u001b[0;32m---> 73\u001b[0m \u001b[38;5;28;43mself\u001b[39;49m\u001b[38;5;241;43m.\u001b[39;49m\u001b[43m_tempdir_path\u001b[49m \u001b[38;5;241m=\u001b[39m tempfile\u001b[38;5;241m.\u001b[39mmkdtemp()\n\u001b[1;32m     74\u001b[0m \u001b[38;5;28mself\u001b[39m\u001b[38;5;241m.\u001b[39m_client \u001b[38;5;241m=\u001b[39m \u001b[38;5;28mself\u001b[39m\u001b[38;5;241m.\u001b[39m_initialize_docker_client()\n\u001b[1;32m     75\u001b[0m logger\u001b[38;5;241m.\u001b[39mdebug(\n\u001b[1;32m     76\u001b[0m     \u001b[38;5;124mf\u001b[39m\u001b[38;5;124m\"\u001b[39m\u001b[38;5;124mSuccessfully initialized container of type: \u001b[39m\u001b[38;5;132;01m{\u001b[39;00m\u001b[38;5;28mself\u001b[39m\u001b[38;5;241m.\u001b[39m_container_info\u001b[38;5;132;01m}\u001b[39;00m\u001b[38;5;124m, _tempdir_path: \u001b[39m\u001b[38;5;132;01m{\u001b[39;00m\u001b[38;5;28mself\u001b[39m\u001b[38;5;241m.\u001b[39m_tempdir_path\u001b[38;5;132;01m}\u001b[39;00m\u001b[38;5;124m\"\u001b[39m\n\u001b[1;32m     77\u001b[0m )\n",
      "File \u001b[0;32m~/miniconda3/envs/pye/lib/python3.10/site-packages/pydantic/main.py:355\u001b[0m, in \u001b[0;36mpydantic.main.BaseModel.__setattr__\u001b[0;34m()\u001b[0m\n",
      "\u001b[0;31mTypeError\u001b[0m: descriptor '_tempdir_path' for 'AbstractContainer' objects doesn't apply to a 'MMSeqs2' object"
     ]
    }
   ],
   "source": [
    "c = MMSeqs2().run_container()"
   ]
  },
  {
   "cell_type": "code",
   "execution_count": null,
   "metadata": {},
   "outputs": [
    {
     "data": {
      "application/vnd.plotly.v1+json": {
       "config": {
        "plotlyServerURL": "https://plot.ly"
       },
       "data": [
        {
         "customdata": [
          [
           "TEM1",
           null,
           "Eukaryota",
           "Fungi",
           "Ascomycota",
           "Saccharomycetes",
           "Saccharomycetales",
           "Saccharomycetaceae",
           "Nakaseomyces",
           "Nakaseomyces glabratus",
           null,
           null,
           "5478",
           0.0006794288904841669,
           -0.20023494169059336,
           -0.3780979349735352,
           0.14595024286252975
          ]
         ],
         "hovertemplate": "<b>%{customdata[0]}</b><br>Family Name: %{customdata[1]}<br>Domain: %{customdata[2]}<br>Kingdom: %{customdata[3]}</b><br>Phylum: %{customdata[4]}<br>Class: %{customdata[5]}<br>Order: %{customdata[6]}<br>Family: %{customdata[7]}<br>Genus: %{customdata[8]}<br>Species: %{customdata[9]}<br>EC Number: %{customdata[10]}<br>Mol Weight: %{customdata[11]}<br>Taxonomy ID: %{customdata[12]}<extra></extra>",
         "marker": {
          "color": "red",
          "size": 10,
          "symbol": "cross"
         },
         "mode": "markers",
         "text": "TEM1",
         "type": "scatter3d",
         "x": [
          -0.20023494169059336
         ],
         "y": [
          -0.3780979349735352
         ],
         "z": [
          0.14595024286252975
         ]
        },
        {
         "customdata": [
          [
           "mutant TEM1like protein",
           null,
           "Eukaryota",
           "Fungi",
           "Ascomycota",
           "Saccharomycetes",
           "Saccharomycetales",
           "Saccharomycetaceae",
           "Nakaseomyces",
           "Nakaseomyces glabratus",
           null,
           null,
           "5478",
           0.0006794288904841669,
           -0.21881547766958329,
           -0.4073634000261221,
           0.15433205092909755
          ]
         ],
         "hovertemplate": "<b>%{customdata[0]}</b><br>Family Name: %{customdata[1]}<br>Domain: %{customdata[2]}<br>Kingdom: %{customdata[3]}</b><br>Phylum: %{customdata[4]}<br>Class: %{customdata[5]}<br>Order: %{customdata[6]}<br>Family: %{customdata[7]}<br>Genus: %{customdata[8]}<br>Species: %{customdata[9]}<br>EC Number: %{customdata[10]}<br>Mol Weight: %{customdata[11]}<br>Taxonomy ID: %{customdata[12]}<extra></extra>",
         "marker": {
          "color": "rgb(216, 226, 40)",
          "size": 6,
          "symbol": "circle"
         },
         "mode": "markers",
         "text": "mutant TEM1like protein",
         "type": "scatter3d",
         "x": [
          -0.21881547766958329
         ],
         "y": [
          -0.4073634000261221
         ],
         "z": [
          0.15433205092909755
         ]
        },
        {
         "customdata": [
          [
           "BDH_1b_G0040270.mRNA.1.CDS.1",
           null,
           "Eukaryota",
           "Fungi",
           "Ascomycota",
           "Saccharomycetes",
           "Saccharomycetales",
           "Saccharomycetaceae",
           "Saccharomyces",
           "Saccharomyces cerevisiae",
           null,
           null,
           "4932",
           0.000095397623035814,
           -0.1587035879592905,
           -0.368714018313828,
           0.16982999416613037
          ]
         ],
         "hovertemplate": "<b>%{customdata[0]}</b><br>Family Name: %{customdata[1]}<br>Domain: %{customdata[2]}<br>Kingdom: %{customdata[3]}</b><br>Phylum: %{customdata[4]}<br>Class: %{customdata[5]}<br>Order: %{customdata[6]}<br>Family: %{customdata[7]}<br>Genus: %{customdata[8]}<br>Species: %{customdata[9]}<br>EC Number: %{customdata[10]}<br>Mol Weight: %{customdata[11]}<br>Taxonomy ID: %{customdata[12]}<extra></extra>",
         "marker": {
          "color": "rgb(54, 93, 140)",
          "size": 6,
          "symbol": "circle"
         },
         "mode": "markers",
         "text": "BDH_1b_G0040270.mRNA.1.CDS.1",
         "type": "scatter3d",
         "x": [
          -0.1587035879592905
         ],
         "y": [
          -0.368714018313828
         ],
         "z": [
          0.16982999416613037
         ]
        },
        {
         "customdata": [
          [
           "TEM1-like protein",
           null,
           "Eukaryota",
           "Fungi",
           "Ascomycota",
           "Saccharomycetes",
           "Saccharomycetales",
           "Saccharomycetaceae",
           "Saccharomyces",
           "Saccharomyces kudriavzevii",
           null,
           null,
           "226230",
           0.0007276860492940895,
           -0.22007115386971152,
           -0.3788369413616033,
           0.13701377611739143
          ]
         ],
         "hovertemplate": "<b>%{customdata[0]}</b><br>Family Name: %{customdata[1]}<br>Domain: %{customdata[2]}<br>Kingdom: %{customdata[3]}</b><br>Phylum: %{customdata[4]}<br>Class: %{customdata[5]}<br>Order: %{customdata[6]}<br>Family: %{customdata[7]}<br>Genus: %{customdata[8]}<br>Species: %{customdata[9]}<br>EC Number: %{customdata[10]}<br>Mol Weight: %{customdata[11]}<br>Taxonomy ID: %{customdata[12]}<extra></extra>",
         "marker": {
          "color": "rgb(156, 216, 59)",
          "size": 6,
          "symbol": "circle"
         },
         "mode": "markers",
         "text": "TEM1-like protein",
         "type": "scatter3d",
         "x": [
          -0.22007115386971152
         ],
         "y": [
          -0.3788369413616033
         ],
         "z": [
          0.13701377611739143
         ]
        },
        {
         "customdata": [
          [
           "uncharacterized protein",
           null,
           "Eukaryota",
           "Fungi",
           "Ascomycota",
           "Saccharomycetes",
           "Saccharomycetales",
           "Saccharomycetaceae",
           "Torulaspora",
           "Torulaspora globosa",
           null,
           25809,
           "48254",
           0.0003558267528116774,
           -0.17183615593011434,
           -0.4282252761211823,
           0.15057199997149964
          ]
         ],
         "hovertemplate": "<b>%{customdata[0]}</b><br>Family Name: %{customdata[1]}<br>Domain: %{customdata[2]}<br>Kingdom: %{customdata[3]}</b><br>Phylum: %{customdata[4]}<br>Class: %{customdata[5]}<br>Order: %{customdata[6]}<br>Family: %{customdata[7]}<br>Genus: %{customdata[8]}<br>Species: %{customdata[9]}<br>EC Number: %{customdata[10]}<br>Mol Weight: %{customdata[11]}<br>Taxonomy ID: %{customdata[12]}<extra></extra>",
         "marker": {
          "color": "rgb(43, 118, 142)",
          "size": 6,
          "symbol": "circle"
         },
         "mode": "markers",
         "text": "uncharacterized protein",
         "type": "scatter3d",
         "x": [
          -0.17183615593011434
         ],
         "y": [
          -0.4282252761211823
         ],
         "z": [
          0.15057199997149964
         ]
        },
        {
         "customdata": [
          [
           "hypothetical protein",
           null,
           "Eukaryota",
           "Fungi",
           "Ascomycota",
           "Saccharomycetes",
           "Saccharomycetales",
           "Saccharomycetaceae",
           "Torulaspora",
           "Torulaspora delbrueckii",
           null,
           25654,
           "4950",
           0.00021296960995453453,
           -0.15233822271451453,
           -0.4338812019758201,
           0.14924747694202603
          ]
         ],
         "hovertemplate": "<b>%{customdata[0]}</b><br>Family Name: %{customdata[1]}<br>Domain: %{customdata[2]}<br>Kingdom: %{customdata[3]}</b><br>Phylum: %{customdata[4]}<br>Class: %{customdata[5]}<br>Order: %{customdata[6]}<br>Family: %{customdata[7]}<br>Genus: %{customdata[8]}<br>Species: %{customdata[9]}<br>EC Number: %{customdata[10]}<br>Mol Weight: %{customdata[11]}<br>Taxonomy ID: %{customdata[12]}<extra></extra>",
         "marker": {
          "color": "rgb(40, 169, 130)",
          "size": 6,
          "symbol": "circle"
         },
         "mode": "markers",
         "text": "hypothetical protein",
         "type": "scatter3d",
         "x": [
          -0.15233822271451453
         ],
         "y": [
          -0.4338812019758201
         ],
         "z": [
          0.14924747694202603
         ]
        },
        {
         "customdata": [
          [
           "uncharacterized protein",
           null,
           "Eukaryota",
           "Fungi",
           "Ascomycota",
           "Saccharomycetes",
           "Saccharomycetales",
           "Saccharomycetaceae",
           "Zygotorulaspora",
           "Zygotorulaspora mrakii",
           null,
           29823,
           "42260",
           0.000548855388051368,
           -0.15759840141820552,
           -0.41037639383318514,
           0.17034588682181703
          ]
         ],
         "hovertemplate": "<b>%{customdata[0]}</b><br>Family Name: %{customdata[1]}<br>Domain: %{customdata[2]}<br>Kingdom: %{customdata[3]}</b><br>Phylum: %{customdata[4]}<br>Class: %{customdata[5]}<br>Order: %{customdata[6]}<br>Family: %{customdata[7]}<br>Genus: %{customdata[8]}<br>Species: %{customdata[9]}<br>EC Number: %{customdata[10]}<br>Mol Weight: %{customdata[11]}<br>Taxonomy ID: %{customdata[12]}<extra></extra>",
         "marker": {
          "color": "rgb(45, 113, 142)",
          "size": 6,
          "symbol": "circle"
         },
         "mode": "markers",
         "text": "uncharacterized protein",
         "type": "scatter3d",
         "x": [
          -0.15759840141820552
         ],
         "y": [
          -0.41037639383318514
         ],
         "z": [
          0.17034588682181703
         ]
        },
        {
         "customdata": [
          [
           "TEM1 (YML064C)",
           null,
           "Eukaryota",
           "Fungi",
           "Ascomycota",
           "Saccharomycetes",
           "Saccharomycetales",
           "Saccharomycetaceae",
           "Zygosaccharomyces",
           "Zygosaccharomyces parabailii",
           null,
           null,
           "1365886",
           0,
           -0.1181766715595259,
           -0.46335965226454223,
           0.14168699431998516
          ]
         ],
         "hovertemplate": "<b>%{customdata[0]}</b><br>Family Name: %{customdata[1]}<br>Domain: %{customdata[2]}<br>Kingdom: %{customdata[3]}</b><br>Phylum: %{customdata[4]}<br>Class: %{customdata[5]}<br>Order: %{customdata[6]}<br>Family: %{customdata[7]}<br>Genus: %{customdata[8]}<br>Species: %{customdata[9]}<br>EC Number: %{customdata[10]}<br>Mol Weight: %{customdata[11]}<br>Taxonomy ID: %{customdata[12]}<extra></extra>",
         "marker": {
          "color": "rgb(180, 222, 44)",
          "size": 6,
          "symbol": "circle"
         },
         "mode": "markers",
         "text": "TEM1 (YML064C)",
         "type": "scatter3d",
         "x": [
          -0.1181766715595259
         ],
         "y": [
          -0.46335965226454223
         ],
         "z": [
          0.14168699431998516
         ]
        },
        {
         "customdata": [
          [
           "uncharacterized protein",
           null,
           "Eukaryota",
           "Fungi",
           "Ascomycota",
           "Saccharomycetes",
           "Saccharomycetales",
           "Saccharomycetaceae",
           "Zygosaccharomyces",
           "Zygosaccharomyces rouxii",
           null,
           25273,
           "4956",
           0,
           -0.10610057407606842,
           -0.4244134470540708,
           0.11543099888533431
          ]
         ],
         "hovertemplate": "<b>%{customdata[0]}</b><br>Family Name: %{customdata[1]}<br>Domain: %{customdata[2]}<br>Kingdom: %{customdata[3]}</b><br>Phylum: %{customdata[4]}<br>Class: %{customdata[5]}<br>Order: %{customdata[6]}<br>Family: %{customdata[7]}<br>Genus: %{customdata[8]}<br>Species: %{customdata[9]}<br>EC Number: %{customdata[10]}<br>Mol Weight: %{customdata[11]}<br>Taxonomy ID: %{customdata[12]}<extra></extra>",
         "marker": {
          "color": "rgb(51, 180, 123)",
          "size": 6,
          "symbol": "circle"
         },
         "mode": "markers",
         "text": "uncharacterized protein",
         "type": "scatter3d",
         "x": [
          -0.10610057407606842
         ],
         "y": [
          -0.4244134470540708
         ],
         "z": [
          0.11543099888533431
         ]
        },
        {
         "customdata": [
          [
           "hypothetical protein",
           null,
           "Eukaryota",
           "Fungi",
           "Ascomycota",
           "Saccharomycetes",
           "Saccharomycetales",
           "Saccharomycetaceae",
           "Naumovozyma",
           "Naumovozyma castellii",
           null,
           24980,
           "1064592",
           0,
           0.06063903940379003,
           0.20908661666408213,
           -1
          ]
         ],
         "hovertemplate": "<b>%{customdata[0]}</b><br>Family Name: %{customdata[1]}<br>Domain: %{customdata[2]}<br>Kingdom: %{customdata[3]}</b><br>Phylum: %{customdata[4]}<br>Class: %{customdata[5]}<br>Order: %{customdata[6]}<br>Family: %{customdata[7]}<br>Genus: %{customdata[8]}<br>Species: %{customdata[9]}<br>EC Number: %{customdata[10]}<br>Mol Weight: %{customdata[11]}<br>Taxonomy ID: %{customdata[12]}<extra></extra>",
         "marker": {
          "color": "rgb(240, 229, 38)",
          "size": 6,
          "symbol": "circle"
         },
         "mode": "markers",
         "text": "hypothetical protein",
         "type": "scatter3d",
         "x": [
          0.06063903940379003
         ],
         "y": [
          0.20908661666408213
         ],
         "z": [
          -1
         ]
        },
        {
         "customdata": [
          [
           "hypothetical protein",
           null,
           "Eukaryota",
           "Fungi",
           "Ascomycota",
           "Saccharomycetes",
           "Saccharomycetales",
           "Saccharomycetaceae",
           "Kazachstania",
           "Kazachstania africana",
           null,
           25907,
           "1071382",
           0.0008384781048097632,
           -0.29161251326175247,
           -0.36157557370797844,
           0.0535129254888152
          ]
         ],
         "hovertemplate": "<b>%{customdata[0]}</b><br>Family Name: %{customdata[1]}<br>Domain: %{customdata[2]}<br>Kingdom: %{customdata[3]}</b><br>Phylum: %{customdata[4]}<br>Class: %{customdata[5]}<br>Order: %{customdata[6]}<br>Family: %{customdata[7]}<br>Genus: %{customdata[8]}<br>Species: %{customdata[9]}<br>EC Number: %{customdata[10]}<br>Mol Weight: %{customdata[11]}<br>Taxonomy ID: %{customdata[12]}<extra></extra>",
         "marker": {
          "color": "rgb(41, 122, 142)",
          "size": 6,
          "symbol": "circle"
         },
         "mode": "markers",
         "text": "hypothetical protein",
         "type": "scatter3d",
         "x": [
          -0.29161251326175247
         ],
         "y": [
          -0.36157557370797844
         ],
         "z": [
          0.0535129254888152
         ]
        },
        {
         "customdata": [
          [
           "uncharacterized protein",
           null,
           "Eukaryota",
           "Fungi",
           "Ascomycota",
           "Saccharomycetes",
           "Saccharomycetales",
           "Saccharomycetaceae",
           "Vanderwaltozyma",
           "Vanderwaltozyma polyspora",
           null,
           24616,
           "436907",
           0.00007465900933237617,
           -0.12747114099103288,
           -0.32033188704860716,
           0.20277884013919895
          ]
         ],
         "hovertemplate": "<b>%{customdata[0]}</b><br>Family Name: %{customdata[1]}<br>Domain: %{customdata[2]}<br>Kingdom: %{customdata[3]}</b><br>Phylum: %{customdata[4]}<br>Class: %{customdata[5]}<br>Order: %{customdata[6]}<br>Family: %{customdata[7]}<br>Genus: %{customdata[8]}<br>Species: %{customdata[9]}<br>EC Number: %{customdata[10]}<br>Mol Weight: %{customdata[11]}<br>Taxonomy ID: %{customdata[12]}<extra></extra>",
         "marker": {
          "color": "rgb(68, 1, 84)",
          "size": 6,
          "symbol": "circle"
         },
         "mode": "markers",
         "text": "uncharacterized protein",
         "type": "scatter3d",
         "x": [
          -0.12747114099103288
         ],
         "y": [
          -0.32033188704860716
         ],
         "z": [
          0.20277884013919895
         ]
        },
        {
         "customdata": [
          [
           "hypothetical protein",
           null,
           "Eukaryota",
           "Fungi",
           "Ascomycota",
           "Saccharomycetes",
           "Saccharomycetales",
           "Saccharomycetaceae",
           "Tetrapisispora",
           "Tetrapisispora phaffii",
           null,
           33069,
           "1071381",
           0.00003629257398101619,
           -0.1824680175686266,
           -0.36715021984218515,
           0.22599735064281926
          ]
         ],
         "hovertemplate": "<b>%{customdata[0]}</b><br>Family Name: %{customdata[1]}<br>Domain: %{customdata[2]}<br>Kingdom: %{customdata[3]}</b><br>Phylum: %{customdata[4]}<br>Class: %{customdata[5]}<br>Order: %{customdata[6]}<br>Family: %{customdata[7]}<br>Genus: %{customdata[8]}<br>Species: %{customdata[9]}<br>EC Number: %{customdata[10]}<br>Mol Weight: %{customdata[11]}<br>Taxonomy ID: %{customdata[12]}<extra></extra>",
         "marker": {
          "color": "rgb(196, 224, 42)",
          "size": 6,
          "symbol": "circle"
         },
         "mode": "markers",
         "text": "hypothetical protein",
         "type": "scatter3d",
         "x": [
          -0.1824680175686266
         ],
         "y": [
          -0.36715021984218515
         ],
         "z": [
          0.22599735064281926
         ]
        },
        {
         "customdata": [
          [
           "similar to Saccharomyces cerevisiae YML064C TEM1 GTP-binding protein of the ras superfamily involved in termination of M-phase",
           null,
           "Eukaryota",
           "Fungi",
           "Ascomycota",
           "Saccharomycetes",
           "Saccharomycetales",
           "Saccharomycetaceae",
           "Kazachstania",
           "Kazachstania saulgeensis",
           null,
           null,
           "1789683",
           0.0003740926856504746,
           -0.31927445330111065,
           -0.35474946647332145,
           0.02528021518178364
          ]
         ],
         "hovertemplate": "<b>%{customdata[0]}</b><br>Family Name: %{customdata[1]}<br>Domain: %{customdata[2]}<br>Kingdom: %{customdata[3]}</b><br>Phylum: %{customdata[4]}<br>Class: %{customdata[5]}<br>Order: %{customdata[6]}<br>Family: %{customdata[7]}<br>Genus: %{customdata[8]}<br>Species: %{customdata[9]}<br>EC Number: %{customdata[10]}<br>Mol Weight: %{customdata[11]}<br>Taxonomy ID: %{customdata[12]}<extra></extra>",
         "marker": {
          "color": "rgb(59, 80, 138)",
          "size": 6,
          "symbol": "circle"
         },
         "mode": "markers",
         "text": "similar to Saccharomyces cerevisiae YML064C TEM1 GTP-binding protein of the ras superfamily involved in termination of M-phase",
         "type": "scatter3d",
         "x": [
          -0.31927445330111065
         ],
         "y": [
          -0.35474946647332145
         ],
         "z": [
          0.02528021518178364
         ]
        },
        {
         "customdata": [
          [
           "similar to Saccharomyces cerevisiae YML064C TEM1 GTP-binding protein of the ras superfamily involved in termination of M-phase",
           null,
           "Eukaryota",
           "Fungi",
           "Ascomycota",
           "Saccharomycetes",
           "Saccharomycetales",
           "Saccharomycetaceae",
           "Kazachstania",
           "Kazachstania barnettii",
           null,
           null,
           "61262",
           0,
           -0.35761917573844104,
           -0.31969788779727115,
           -0.025744633122794236
          ]
         ],
         "hovertemplate": "<b>%{customdata[0]}</b><br>Family Name: %{customdata[1]}<br>Domain: %{customdata[2]}<br>Kingdom: %{customdata[3]}</b><br>Phylum: %{customdata[4]}<br>Class: %{customdata[5]}<br>Order: %{customdata[6]}<br>Family: %{customdata[7]}<br>Genus: %{customdata[8]}<br>Species: %{customdata[9]}<br>EC Number: %{customdata[10]}<br>Mol Weight: %{customdata[11]}<br>Taxonomy ID: %{customdata[12]}<extra></extra>",
         "marker": {
          "color": "rgb(250, 231, 37)",
          "size": 6,
          "symbol": "circle"
         },
         "mode": "markers",
         "text": "similar to Saccharomyces cerevisiae YML064C TEM1 GTP-binding protein of the ras superfamily involved in termination of M-phase",
         "type": "scatter3d",
         "x": [
          -0.35761917573844104
         ],
         "y": [
          -0.31969788779727115
         ],
         "z": [
          -0.025744633122794236
         ]
        },
        {
         "customdata": [
          [
           "Ras GTPase tem1",
           null,
           "Eukaryota",
           "Fungi",
           "Ascomycota",
           "Saccharomycetes",
           "Saccharomycetales",
           "Saccharomycetaceae",
           "Kazachstania",
           "Kazachstania exigua",
           null,
           null,
           "34358",
           0,
           -0.34410743960239987,
           -0.33374245040033185,
           -0.04249616871547962
          ]
         ],
         "hovertemplate": "<b>%{customdata[0]}</b><br>Family Name: %{customdata[1]}<br>Domain: %{customdata[2]}<br>Kingdom: %{customdata[3]}</b><br>Phylum: %{customdata[4]}<br>Class: %{customdata[5]}<br>Order: %{customdata[6]}<br>Family: %{customdata[7]}<br>Genus: %{customdata[8]}<br>Species: %{customdata[9]}<br>EC Number: %{customdata[10]}<br>Mol Weight: %{customdata[11]}<br>Taxonomy ID: %{customdata[12]}<extra></extra>",
         "marker": {
          "color": "rgb(97, 201, 95)",
          "size": 6,
          "symbol": "circle"
         },
         "mode": "markers",
         "text": "Ras GTPase tem1",
         "type": "scatter3d",
         "x": [
          -0.34410743960239987
         ],
         "y": [
          -0.33374245040033185
         ],
         "z": [
          -0.04249616871547962
         ]
        },
        {
         "customdata": [
          [
           "hypothetical protein",
           null,
           "Eukaryota",
           "Fungi",
           "Ascomycota",
           "Saccharomycetes",
           "Saccharomycetales",
           "Saccharomycetaceae",
           "Kazachstania",
           "Kazachstania naganishii",
           null,
           25939,
           "1071383",
           0,
           0.13566270413911624,
           -0.5445981361613941,
           0.8930871964209766
          ]
         ],
         "hovertemplate": "<b>%{customdata[0]}</b><br>Family Name: %{customdata[1]}<br>Domain: %{customdata[2]}<br>Kingdom: %{customdata[3]}</b><br>Phylum: %{customdata[4]}<br>Class: %{customdata[5]}<br>Order: %{customdata[6]}<br>Family: %{customdata[7]}<br>Genus: %{customdata[8]}<br>Species: %{customdata[9]}<br>EC Number: %{customdata[10]}<br>Mol Weight: %{customdata[11]}<br>Taxonomy ID: %{customdata[12]}<extra></extra>",
         "marker": {
          "color": "rgb(176, 221, 46)",
          "size": 6,
          "symbol": "circle"
         },
         "mode": "markers",
         "text": "hypothetical protein",
         "type": "scatter3d",
         "x": [
          0.13566270413911624
         ],
         "y": [
          -0.5445981361613941
         ],
         "z": [
          0.8930871964209766
         ]
        },
        {
         "customdata": [
          [
           "hypothetical protein",
           null,
           "Eukaryota",
           "Fungi",
           "Ascomycota",
           "Saccharomycetes",
           "Saccharomycetales",
           "Saccharomycetaceae",
           "Naumovozyma",
           "Naumovozyma dairenensis",
           null,
           23681,
           "1071378",
           0,
           0.4942142354190496,
           0.761572840528048,
           0.6916965316383367
          ]
         ],
         "hovertemplate": "<b>%{customdata[0]}</b><br>Family Name: %{customdata[1]}<br>Domain: %{customdata[2]}<br>Kingdom: %{customdata[3]}</b><br>Phylum: %{customdata[4]}<br>Class: %{customdata[5]}<br>Order: %{customdata[6]}<br>Family: %{customdata[7]}<br>Genus: %{customdata[8]}<br>Species: %{customdata[9]}<br>EC Number: %{customdata[10]}<br>Mol Weight: %{customdata[11]}<br>Taxonomy ID: %{customdata[12]}<extra></extra>",
         "marker": {
          "color": "rgb(71, 28, 109)",
          "size": 6,
          "symbol": "circle"
         },
         "mode": "markers",
         "text": "hypothetical protein",
         "type": "scatter3d",
         "x": [
          0.4942142354190496
         ],
         "y": [
          0.761572840528048
         ],
         "z": [
          0.6916965316383367
         ]
        },
        {
         "customdata": [
          [
           "hypothetical protein",
           null,
           "Eukaryota",
           "Fungi",
           "Ascomycota",
           "Saccharomycetes",
           "Saccharomycetales",
           "Saccharomycetaceae",
           "Naumovozyma",
           "Naumovozyma castellii",
           null,
           24872,
           "1064592",
           0,
           0.2181358462505863,
           0.7960885079775252,
           -0.7477021911028429
          ]
         ],
         "hovertemplate": "<b>%{customdata[0]}</b><br>Family Name: %{customdata[1]}<br>Domain: %{customdata[2]}<br>Kingdom: %{customdata[3]}</b><br>Phylum: %{customdata[4]}<br>Class: %{customdata[5]}<br>Order: %{customdata[6]}<br>Family: %{customdata[7]}<br>Genus: %{customdata[8]}<br>Species: %{customdata[9]}<br>EC Number: %{customdata[10]}<br>Mol Weight: %{customdata[11]}<br>Taxonomy ID: %{customdata[12]}<extra></extra>",
         "marker": {
          "color": "rgb(240, 229, 38)",
          "size": 6,
          "symbol": "circle"
         },
         "mode": "markers",
         "text": "hypothetical protein",
         "type": "scatter3d",
         "x": [
          0.2181358462505863
         ],
         "y": [
          0.7960885079775252
         ],
         "z": [
          -0.7477021911028429
         ]
        },
        {
         "customdata": [
          [
           "Ras GTPase tem1",
           null,
           "Eukaryota",
           "Fungi",
           "Ascomycota",
           "Saccharomycetes",
           "Saccharomycetales",
           "Saccharomycetaceae",
           "Kazachstania",
           "Kazachstania unispora",
           null,
           null,
           "27294",
           0,
           -0.5452940154685048,
           -0.8318729904164169,
           -0.3013241271236399
          ]
         ],
         "hovertemplate": "<b>%{customdata[0]}</b><br>Family Name: %{customdata[1]}<br>Domain: %{customdata[2]}<br>Kingdom: %{customdata[3]}</b><br>Phylum: %{customdata[4]}<br>Class: %{customdata[5]}<br>Order: %{customdata[6]}<br>Family: %{customdata[7]}<br>Genus: %{customdata[8]}<br>Species: %{customdata[9]}<br>EC Number: %{customdata[10]}<br>Mol Weight: %{customdata[11]}<br>Taxonomy ID: %{customdata[12]}<extra></extra>",
         "marker": {
          "color": "rgb(120, 208, 82)",
          "size": 6,
          "symbol": "circle"
         },
         "mode": "markers",
         "text": "Ras GTPase tem1",
         "type": "scatter3d",
         "x": [
          -0.5452940154685048
         ],
         "y": [
          -0.8318729904164169
         ],
         "z": [
          -0.3013241271236399
         ]
        },
        {
         "customdata": [
          [
           "uncharacterized protein",
           null,
           "Eukaryota",
           "Fungi",
           "Ascomycota",
           "Saccharomycetes",
           "Saccharomycetales",
           "Saccharomycetaceae",
           "Kluyveromyces",
           "Kluyveromyces lactis",
           null,
           25038,
           "28985",
           0,
           0.6397237172950019,
           -0.027336736375373486,
           0.23891735715521642
          ]
         ],
         "hovertemplate": "<b>%{customdata[0]}</b><br>Family Name: %{customdata[1]}<br>Domain: %{customdata[2]}<br>Kingdom: %{customdata[3]}</b><br>Phylum: %{customdata[4]}<br>Class: %{customdata[5]}<br>Order: %{customdata[6]}<br>Family: %{customdata[7]}<br>Genus: %{customdata[8]}<br>Species: %{customdata[9]}<br>EC Number: %{customdata[10]}<br>Mol Weight: %{customdata[11]}<br>Taxonomy ID: %{customdata[12]}<extra></extra>",
         "marker": {
          "color": "rgb(147, 214, 65)",
          "size": 6,
          "symbol": "circle"
         },
         "mode": "markers",
         "text": "uncharacterized protein",
         "type": "scatter3d",
         "x": [
          0.6397237172950019
         ],
         "y": [
          -0.027336736375373486
         ],
         "z": [
          0.23891735715521642
         ]
        },
        {
         "customdata": [
          [
           "AER132Wp",
           null,
           "Eukaryota",
           "Fungi",
           "Ascomycota",
           "Saccharomycetes",
           "Saccharomycetales",
           "Saccharomycetaceae",
           "Eremothecium",
           "Eremothecium gossypii",
           null,
           26261,
           "284811",
           0,
           -0.6424143308271597,
           0.0087070356387006,
           -0.3798049460882408
          ]
         ],
         "hovertemplate": "<b>%{customdata[0]}</b><br>Family Name: %{customdata[1]}<br>Domain: %{customdata[2]}<br>Kingdom: %{customdata[3]}</b><br>Phylum: %{customdata[4]}<br>Class: %{customdata[5]}<br>Order: %{customdata[6]}<br>Family: %{customdata[7]}<br>Genus: %{customdata[8]}<br>Species: %{customdata[9]}<br>EC Number: %{customdata[10]}<br>Mol Weight: %{customdata[11]}<br>Taxonomy ID: %{customdata[12]}<extra></extra>",
         "marker": {
          "color": "rgb(89, 198, 100)",
          "size": 6,
          "symbol": "circle"
         },
         "mode": "markers",
         "text": "AER132Wp",
         "type": "scatter3d",
         "x": [
          -0.6424143308271597
         ],
         "y": [
          0.0087070356387006
         ],
         "z": [
          -0.3798049460882408
         ]
        },
        {
         "customdata": [
          [
           "HGL266Wp",
           null,
           "Eukaryota",
           "Fungi",
           "Ascomycota",
           "Saccharomycetes",
           "Saccharomycetales",
           "Saccharomycetaceae",
           "Eremothecium",
           "Eremothecium sinecaudum",
           null,
           27406,
           "45286",
           0,
           -0.7143840211396365,
           0.010539392396181652,
           -0.4225365239833157
          ]
         ],
         "hovertemplate": "<b>%{customdata[0]}</b><br>Family Name: %{customdata[1]}<br>Domain: %{customdata[2]}<br>Kingdom: %{customdata[3]}</b><br>Phylum: %{customdata[4]}<br>Class: %{customdata[5]}<br>Order: %{customdata[6]}<br>Family: %{customdata[7]}<br>Genus: %{customdata[8]}<br>Species: %{customdata[9]}<br>EC Number: %{customdata[10]}<br>Mol Weight: %{customdata[11]}<br>Taxonomy ID: %{customdata[12]}<extra></extra>",
         "marker": {
          "color": "rgb(58, 81, 138)",
          "size": 6,
          "symbol": "circle"
         },
         "mode": "markers",
         "text": "HGL266Wp",
         "type": "scatter3d",
         "x": [
          -0.7143840211396365
         ],
         "y": [
          0.010539392396181652
         ],
         "z": [
          -0.4225365239833157
         ]
        },
        {
         "customdata": [
          [
           "Ras GTPase tem1",
           null,
           "Eukaryota",
           "Fungi",
           "Ascomycota",
           "Saccharomycetes",
           "Saccharomycetales",
           "Saccharomycetaceae",
           "Kluyveromyces",
           "Kluyveromyces marxianus",
           null,
           null,
           "4911",
           0,
           0.6895389753030928,
           -0.015093591665268568,
           0.23266616366904372
          ]
         ],
         "hovertemplate": "<b>%{customdata[0]}</b><br>Family Name: %{customdata[1]}<br>Domain: %{customdata[2]}<br>Kingdom: %{customdata[3]}</b><br>Phylum: %{customdata[4]}<br>Class: %{customdata[5]}<br>Order: %{customdata[6]}<br>Family: %{customdata[7]}<br>Genus: %{customdata[8]}<br>Species: %{customdata[9]}<br>EC Number: %{customdata[10]}<br>Mol Weight: %{customdata[11]}<br>Taxonomy ID: %{customdata[12]}<extra></extra>",
         "marker": {
          "color": "rgb(163, 218, 54)",
          "size": 6,
          "symbol": "circle"
         },
         "mode": "markers",
         "text": "Ras GTPase tem1",
         "type": "scatter3d",
         "x": [
          0.6895389753030928
         ],
         "y": [
          -0.015093591665268568
         ],
         "z": [
          0.23266616366904372
         ]
        },
        {
         "customdata": [
          [
           "similar to Saccharomyces cerevisiae YML064C TEM1 GTP-binding protein of the ras superfamily involved in termination of M-phase",
           null,
           "Eukaryota",
           "Fungi",
           "Ascomycota",
           "Saccharomycetes",
           "Saccharomycetales",
           "Saccharomycetaceae",
           "Kazachstania",
           "Kazachstania saulgeensis",
           null,
           null,
           "1789683",
           0,
           -0.2630325044700999,
           0.715412537361101,
           -0.2650809245744681
          ]
         ],
         "hovertemplate": "<b>%{customdata[0]}</b><br>Family Name: %{customdata[1]}<br>Domain: %{customdata[2]}<br>Kingdom: %{customdata[3]}</b><br>Phylum: %{customdata[4]}<br>Class: %{customdata[5]}<br>Order: %{customdata[6]}<br>Family: %{customdata[7]}<br>Genus: %{customdata[8]}<br>Species: %{customdata[9]}<br>EC Number: %{customdata[10]}<br>Mol Weight: %{customdata[11]}<br>Taxonomy ID: %{customdata[12]}<extra></extra>",
         "marker": {
          "color": "rgb(59, 80, 138)",
          "size": 6,
          "symbol": "circle"
         },
         "mode": "markers",
         "text": "similar to Saccharomyces cerevisiae YML064C TEM1 GTP-binding protein of the ras superfamily involved in termination of M-phase",
         "type": "scatter3d",
         "x": [
          -0.2630325044700999
         ],
         "y": [
          0.715412537361101
         ],
         "z": [
          -0.2650809245744681
         ]
        },
        {
         "customdata": [
          [
           "Ras GTPase tem1",
           null,
           "Eukaryota",
           "Fungi",
           "Ascomycota",
           "Saccharomycetes",
           "Saccharomycetales",
           "Saccharomycetaceae",
           "Kazachstania",
           "Kazachstania exigua",
           null,
           null,
           "34358",
           0,
           -0.2278934689610476,
           0.7093538607887517,
           -0.29130707164414055
          ]
         ],
         "hovertemplate": "<b>%{customdata[0]}</b><br>Family Name: %{customdata[1]}<br>Domain: %{customdata[2]}<br>Kingdom: %{customdata[3]}</b><br>Phylum: %{customdata[4]}<br>Class: %{customdata[5]}<br>Order: %{customdata[6]}<br>Family: %{customdata[7]}<br>Genus: %{customdata[8]}<br>Species: %{customdata[9]}<br>EC Number: %{customdata[10]}<br>Mol Weight: %{customdata[11]}<br>Taxonomy ID: %{customdata[12]}<extra></extra>",
         "marker": {
          "color": "rgb(97, 201, 95)",
          "size": 6,
          "symbol": "circle"
         },
         "mode": "markers",
         "text": "Ras GTPase tem1",
         "type": "scatter3d",
         "x": [
          -0.2278934689610476
         ],
         "y": [
          0.7093538607887517
         ],
         "z": [
          -0.29130707164414055
         ]
        },
        {
         "customdata": [
          [
           "LAMI_0H01266g1_1",
           null,
           "Eukaryota",
           "Fungi",
           "Ascomycota",
           "Saccharomycetes",
           "Saccharomycetales",
           "Saccharomycetaceae",
           "Lachancea",
           "Lachancea mirantina",
           null,
           null,
           "1230905",
           0,
           -0.023877101334218925,
           -0.7436964563984685,
           -0.0787111952066006
          ]
         ],
         "hovertemplate": "<b>%{customdata[0]}</b><br>Family Name: %{customdata[1]}<br>Domain: %{customdata[2]}<br>Kingdom: %{customdata[3]}</b><br>Phylum: %{customdata[4]}<br>Class: %{customdata[5]}<br>Order: %{customdata[6]}<br>Family: %{customdata[7]}<br>Genus: %{customdata[8]}<br>Species: %{customdata[9]}<br>EC Number: %{customdata[10]}<br>Mol Weight: %{customdata[11]}<br>Taxonomy ID: %{customdata[12]}<extra></extra>",
         "marker": {
          "color": "rgb(71, 30, 111)",
          "size": 6,
          "symbol": "circle"
         },
         "mode": "markers",
         "text": "LAMI_0H01266g1_1",
         "type": "scatter3d",
         "x": [
          -0.023877101334218925
         ],
         "y": [
          -0.7436964563984685
         ],
         "z": [
          -0.0787111952066006
         ]
        },
        {
         "customdata": [
          [
           "LAFE_0A02080g1_1",
           null,
           "Eukaryota",
           "Fungi",
           "Ascomycota",
           "Saccharomycetes",
           "Saccharomycetales",
           "Saccharomycetaceae",
           "Lachancea",
           "Lachancea fermentati",
           null,
           null,
           "4955",
           0,
           -0.027388801896427402,
           -0.6963210873739185,
           -0.09575167536976188
          ]
         ],
         "hovertemplate": "<b>%{customdata[0]}</b><br>Family Name: %{customdata[1]}<br>Domain: %{customdata[2]}<br>Kingdom: %{customdata[3]}</b><br>Phylum: %{customdata[4]}<br>Class: %{customdata[5]}<br>Order: %{customdata[6]}<br>Family: %{customdata[7]}<br>Genus: %{customdata[8]}<br>Species: %{customdata[9]}<br>EC Number: %{customdata[10]}<br>Mol Weight: %{customdata[11]}<br>Taxonomy ID: %{customdata[12]}<extra></extra>",
         "marker": {
          "color": "rgb(105, 204, 91)",
          "size": 6,
          "symbol": "circle"
         },
         "mode": "markers",
         "text": "LAFE_0A02080g1_1",
         "type": "scatter3d",
         "x": [
          -0.027388801896427402
         ],
         "y": [
          -0.6963210873739185
         ],
         "z": [
          -0.09575167536976188
         ]
        },
        {
         "customdata": [
          [
           "LAQU0S01e00848g1_1",
           null,
           "Eukaryota",
           "Fungi",
           "Ascomycota",
           "Saccharomycetes",
           "Saccharomycetales",
           "Saccharomycetaceae",
           "Lachancea",
           "Lachancea quebecensis",
           null,
           null,
           "1654605",
           0,
           -0.05929711514683875,
           -0.7265548174229276,
           -0.08734116011222734
          ]
         ],
         "hovertemplate": "<b>%{customdata[0]}</b><br>Family Name: %{customdata[1]}<br>Domain: %{customdata[2]}<br>Kingdom: %{customdata[3]}</b><br>Phylum: %{customdata[4]}<br>Class: %{customdata[5]}<br>Order: %{customdata[6]}<br>Family: %{customdata[7]}<br>Genus: %{customdata[8]}<br>Species: %{customdata[9]}<br>EC Number: %{customdata[10]}<br>Mol Weight: %{customdata[11]}<br>Taxonomy ID: %{customdata[12]}<extra></extra>",
         "marker": {
          "color": "rgb(69, 48, 124)",
          "size": 6,
          "symbol": "circle"
         },
         "mode": "markers",
         "text": "LAQU0S01e00848g1_1",
         "type": "scatter3d",
         "x": [
          -0.05929711514683875
         ],
         "y": [
          -0.7265548174229276
         ],
         "z": [
          -0.08734116011222734
         ]
        },
        {
         "customdata": [
          [
           "hypothetical protein",
           null,
           "Eukaryota",
           "Fungi",
           "Ascomycota",
           "Saccharomycetes",
           "Saccharomycetales",
           "Saccharomycodaceae",
           "Saccharomycodes",
           "Saccharomycodes ludwigii",
           null,
           32999,
           "36035",
           0,
           -0.47760465003980496,
           0.1682978580179619,
           0.3173976992041871
          ]
         ],
         "hovertemplate": "<b>%{customdata[0]}</b><br>Family Name: %{customdata[1]}<br>Domain: %{customdata[2]}<br>Kingdom: %{customdata[3]}</b><br>Phylum: %{customdata[4]}<br>Class: %{customdata[5]}<br>Order: %{customdata[6]}<br>Family: %{customdata[7]}<br>Genus: %{customdata[8]}<br>Species: %{customdata[9]}<br>EC Number: %{customdata[10]}<br>Mol Weight: %{customdata[11]}<br>Taxonomy ID: %{customdata[12]}<extra></extra>",
         "marker": {
          "color": "rgb(70, 21, 102)",
          "size": 6,
          "symbol": "circle"
         },
         "mode": "markers",
         "text": "hypothetical protein",
         "type": "scatter3d",
         "x": [
          -0.47760465003980496
         ],
         "y": [
          0.1682978580179619
         ],
         "z": [
          0.3173976992041871
         ]
        },
        {
         "customdata": [
          [
           "hypothetical protein",
           null,
           "Eukaryota",
           "Fungi",
           "Ascomycota",
           "Saccharomycetes",
           "Saccharomycetales",
           "Trichomonascaceae",
           "Trichomonascus",
           "Trichomonascus ciferrii",
           null,
           null,
           "44093",
           0.0000870506378044067,
           0.060343848294120574,
           0.09450358247292004,
           -0.05945237674287141
          ]
         ],
         "hovertemplate": "<b>%{customdata[0]}</b><br>Family Name: %{customdata[1]}<br>Domain: %{customdata[2]}<br>Kingdom: %{customdata[3]}</b><br>Phylum: %{customdata[4]}<br>Class: %{customdata[5]}<br>Order: %{customdata[6]}<br>Family: %{customdata[7]}<br>Genus: %{customdata[8]}<br>Species: %{customdata[9]}<br>EC Number: %{customdata[10]}<br>Mol Weight: %{customdata[11]}<br>Taxonomy ID: %{customdata[12]}<extra></extra>",
         "marker": {
          "color": "rgb(47, 109, 142)",
          "size": 6,
          "symbol": "circle"
         },
         "mode": "markers",
         "text": "hypothetical protein",
         "type": "scatter3d",
         "x": [
          0.060343848294120574
         ],
         "y": [
          0.09450358247292004
         ],
         "z": [
          -0.05945237674287141
         ]
        },
        {
         "customdata": [
          [
           "P-loop containing nucleoside triphosphate hydrolase protein",
           null,
           "Eukaryota",
           "Fungi",
           "Ascomycota",
           "Pezizomycetes",
           "Pezizales",
           "Pezizaceae",
           "Tirmania",
           "Tirmania nivea",
           null,
           null,
           "160517",
           0.0001255385074278197,
           0.02175073970401016,
           0.021631144609585776,
           -0.03237074181919773
          ]
         ],
         "hovertemplate": "<b>%{customdata[0]}</b><br>Family Name: %{customdata[1]}<br>Domain: %{customdata[2]}<br>Kingdom: %{customdata[3]}</b><br>Phylum: %{customdata[4]}<br>Class: %{customdata[5]}<br>Order: %{customdata[6]}<br>Family: %{customdata[7]}<br>Genus: %{customdata[8]}<br>Species: %{customdata[9]}<br>EC Number: %{customdata[10]}<br>Mol Weight: %{customdata[11]}<br>Taxonomy ID: %{customdata[12]}<extra></extra>",
         "marker": {
          "color": "rgb(58, 83, 139)",
          "size": 6,
          "symbol": "circle"
         },
         "mode": "markers",
         "text": "P-loop containing nucleoside triphosphate hydrolase protein",
         "type": "scatter3d",
         "x": [
          0.02175073970401016
         ],
         "y": [
          0.021631144609585776
         ],
         "z": [
          -0.03237074181919773
         ]
        },
        {
         "customdata": [
          [
           "hypothetical protein",
           null,
           "Eukaryota",
           "Fungi",
           "Ascomycota",
           "Orbiliomycetes",
           "Orbiliales",
           "Orbiliaceae",
           "Arthrobotrys",
           "Arthrobotrys entomopaga",
           null,
           null,
           "321852",
           0.0003216272605683067,
           0.057084070897766195,
           0.05245130546971484,
           -0.03929959239891337
          ]
         ],
         "hovertemplate": "<b>%{customdata[0]}</b><br>Family Name: %{customdata[1]}<br>Domain: %{customdata[2]}<br>Kingdom: %{customdata[3]}</b><br>Phylum: %{customdata[4]}<br>Class: %{customdata[5]}<br>Order: %{customdata[6]}<br>Family: %{customdata[7]}<br>Genus: %{customdata[8]}<br>Species: %{customdata[9]}<br>EC Number: %{customdata[10]}<br>Mol Weight: %{customdata[11]}<br>Taxonomy ID: %{customdata[12]}<extra></extra>",
         "marker": {
          "color": "rgb(53, 183, 121)",
          "size": 6,
          "symbol": "circle"
         },
         "mode": "markers",
         "text": "hypothetical protein",
         "type": "scatter3d",
         "x": [
          0.057084070897766195
         ],
         "y": [
          0.05245130546971484
         ],
         "z": [
          -0.03929959239891337
         ]
        },
        {
         "customdata": [
          [
           "Protein TEM1",
           null,
           "Eukaryota",
           "Fungi",
           "Ascomycota",
           "Saccharomycetes",
           "Saccharomycetales",
           "Saccharomycodaceae",
           "Hanseniaspora",
           "Hanseniaspora osmophila",
           null,
           null,
           "56408",
           0,
           -0.5208830473153153,
           0.1428501095267684,
           0.3349129967310267
          ]
         ],
         "hovertemplate": "<b>%{customdata[0]}</b><br>Family Name: %{customdata[1]}<br>Domain: %{customdata[2]}<br>Kingdom: %{customdata[3]}</b><br>Phylum: %{customdata[4]}<br>Class: %{customdata[5]}<br>Order: %{customdata[6]}<br>Family: %{customdata[7]}<br>Genus: %{customdata[8]}<br>Species: %{customdata[9]}<br>EC Number: %{customdata[10]}<br>Mol Weight: %{customdata[11]}<br>Taxonomy ID: %{customdata[12]}<extra></extra>",
         "marker": {
          "color": "rgb(38, 131, 142)",
          "size": 6,
          "symbol": "circle"
         },
         "mode": "markers",
         "text": "Protein TEM1",
         "type": "scatter3d",
         "x": [
          -0.5208830473153153
         ],
         "y": [
          0.1428501095267684
         ],
         "z": [
          0.3349129967310267
         ]
        },
        {
         "customdata": [
          [
           "uncharacterized protein",
           null,
           "Eukaryota",
           "Fungi",
           "Ascomycota",
           "Saccharomycetes",
           "Saccharomycetales",
           "Pichiaceae",
           "Ogataea",
           "Ogataea philodendri",
           null,
           23908,
           "1378263",
           0,
           -0.3441587432789408,
           0.044542506590380525,
           0.9231189933757155
          ]
         ],
         "hovertemplate": "<b>%{customdata[0]}</b><br>Family Name: %{customdata[1]}<br>Domain: %{customdata[2]}<br>Kingdom: %{customdata[3]}</b><br>Phylum: %{customdata[4]}<br>Class: %{customdata[5]}<br>Order: %{customdata[6]}<br>Family: %{customdata[7]}<br>Genus: %{customdata[8]}<br>Species: %{customdata[9]}<br>EC Number: %{customdata[10]}<br>Mol Weight: %{customdata[11]}<br>Taxonomy ID: %{customdata[12]}<extra></extra>",
         "marker": {
          "color": "rgb(34, 144, 140)",
          "size": 6,
          "symbol": "circle"
         },
         "mode": "markers",
         "text": "uncharacterized protein",
         "type": "scatter3d",
         "x": [
          -0.3441587432789408
         ],
         "y": [
          0.044542506590380525
         ],
         "z": [
          0.9231189933757155
         ]
        },
        {
         "customdata": [
          [
           "hypothetical protein",
           null,
           "Eukaryota",
           "Fungi",
           "Ascomycota",
           "Orbiliomycetes",
           "Orbiliales",
           "Orbiliaceae",
           "Dactylellina",
           "Dactylellina haptotyla",
           null,
           null,
           "1284197",
           0.0006831486618777221,
           0.015855270141770142,
           0.05773901193340899,
           -0.018404120560945026
          ]
         ],
         "hovertemplate": "<b>%{customdata[0]}</b><br>Family Name: %{customdata[1]}<br>Domain: %{customdata[2]}<br>Kingdom: %{customdata[3]}</b><br>Phylum: %{customdata[4]}<br>Class: %{customdata[5]}<br>Order: %{customdata[6]}<br>Family: %{customdata[7]}<br>Genus: %{customdata[8]}<br>Species: %{customdata[9]}<br>EC Number: %{customdata[10]}<br>Mol Weight: %{customdata[11]}<br>Taxonomy ID: %{customdata[12]}<extra></extra>",
         "marker": {
          "color": "rgb(33, 149, 139)",
          "size": 6,
          "symbol": "circle"
         },
         "mode": "markers",
         "text": "hypothetical protein",
         "type": "scatter3d",
         "x": [
          0.015855270141770142
         ],
         "y": [
          0.05773901193340899
         ],
         "z": [
          -0.018404120560945026
         ]
        },
        {
         "customdata": [
          [
           "P-loop containing nucleoside triphosphate hydrolase protein",
           null,
           "Eukaryota",
           "Fungi",
           "Ascomycota",
           "Pezizomycetes",
           "Pezizales",
           "Pyronemataceae",
           "Geopyxis",
           "Geopyxis carbonaria",
           null,
           null,
           "49969",
           0.002789092333805473,
           0.007795632919158055,
           0.03424751681313386,
           -0.0211956149539469
          ]
         ],
         "hovertemplate": "<b>%{customdata[0]}</b><br>Family Name: %{customdata[1]}<br>Domain: %{customdata[2]}<br>Kingdom: %{customdata[3]}</b><br>Phylum: %{customdata[4]}<br>Class: %{customdata[5]}<br>Order: %{customdata[6]}<br>Family: %{customdata[7]}<br>Genus: %{customdata[8]}<br>Species: %{customdata[9]}<br>EC Number: %{customdata[10]}<br>Mol Weight: %{customdata[11]}<br>Taxonomy ID: %{customdata[12]}<extra></extra>",
         "marker": {
          "color": "rgb(127, 210, 77)",
          "size": 6,
          "symbol": "circle"
         },
         "mode": "markers",
         "text": "P-loop containing nucleoside triphosphate hydrolase protein",
         "type": "scatter3d",
         "x": [
          0.007795632919158055
         ],
         "y": [
          0.03424751681313386
         ],
         "z": [
          -0.0211956149539469
         ]
        },
        {
         "customdata": [
          [
           "hypothetical protein",
           null,
           "Eukaryota",
           "Fungi",
           "Ascomycota",
           "Orbiliomycetes",
           "Orbiliales",
           "Orbiliaceae",
           "Orbilia",
           "Orbilia oligospora",
           null,
           31059,
           "756982",
           0.0004192656055268915,
           0.014566244847963445,
           0.04790688464633218,
           -0.010242180458568683
          ]
         ],
         "hovertemplate": "<b>%{customdata[0]}</b><br>Family Name: %{customdata[1]}<br>Domain: %{customdata[2]}<br>Kingdom: %{customdata[3]}</b><br>Phylum: %{customdata[4]}<br>Class: %{customdata[5]}<br>Order: %{customdata[6]}<br>Family: %{customdata[7]}<br>Genus: %{customdata[8]}<br>Species: %{customdata[9]}<br>EC Number: %{customdata[10]}<br>Mol Weight: %{customdata[11]}<br>Taxonomy ID: %{customdata[12]}<extra></extra>",
         "marker": {
          "color": "rgb(34, 147, 139)",
          "size": 6,
          "symbol": "circle"
         },
         "mode": "markers",
         "text": "hypothetical protein",
         "type": "scatter3d",
         "x": [
          0.014566244847963445
         ],
         "y": [
          0.04790688464633218
         ],
         "z": [
          -0.010242180458568683
         ]
        },
        {
         "customdata": [
          [
           "septum initiation protein sid3",
           null,
           "Eukaryota",
           "Fungi",
           "Ascomycota",
           "Sordariomycetes",
           "Xylariales",
           "Xylariaceae",
           "Xylaria",
           "Xylaria sp. CBS 124048",
           null,
           null,
           "2663373",
           0.0003710774118002156,
           0.06629223180551197,
           0.05020076779829538,
           -0.011771662292612197
          ]
         ],
         "hovertemplate": "<b>%{customdata[0]}</b><br>Family Name: %{customdata[1]}<br>Domain: %{customdata[2]}<br>Kingdom: %{customdata[3]}</b><br>Phylum: %{customdata[4]}<br>Class: %{customdata[5]}<br>Order: %{customdata[6]}<br>Family: %{customdata[7]}<br>Genus: %{customdata[8]}<br>Species: %{customdata[9]}<br>EC Number: %{customdata[10]}<br>Mol Weight: %{customdata[11]}<br>Taxonomy ID: %{customdata[12]}<extra></extra>",
         "marker": {
          "color": "rgb(32, 154, 138)",
          "size": 6,
          "symbol": "circle"
         },
         "mode": "markers",
         "text": "septum initiation protein sid3",
         "type": "scatter3d",
         "x": [
          0.06629223180551197
         ],
         "y": [
          0.05020076779829538
         ],
         "z": [
          -0.011771662292612197
         ]
        },
        {
         "customdata": [
          [
           "uncharacterized protein",
           null,
           "Eukaryota",
           "Fungi",
           "Ascomycota",
           "Saccharomycetes",
           "Saccharomycetales",
           null,
           "Kuraishia",
           "Kuraishia capsulata",
           null,
           21987,
           "1382522",
           0,
           -0.6037023195544746,
           0.8354165879150471,
           0.08947246918603931
          ]
         ],
         "hovertemplate": "<b>%{customdata[0]}</b><br>Family Name: %{customdata[1]}<br>Domain: %{customdata[2]}<br>Kingdom: %{customdata[3]}</b><br>Phylum: %{customdata[4]}<br>Class: %{customdata[5]}<br>Order: %{customdata[6]}<br>Family: %{customdata[7]}<br>Genus: %{customdata[8]}<br>Species: %{customdata[9]}<br>EC Number: %{customdata[10]}<br>Mol Weight: %{customdata[11]}<br>Taxonomy ID: %{customdata[12]}<extra></extra>",
         "marker": {
          "color": "rgb(246, 230, 38)",
          "size": 6,
          "symbol": "circle"
         },
         "mode": "markers",
         "text": "uncharacterized protein",
         "type": "scatter3d",
         "x": [
          -0.6037023195544746
         ],
         "y": [
          0.8354165879150471
         ],
         "z": [
          0.08947246918603931
         ]
        },
        {
         "customdata": [
          [
           "hypothetical protein",
           null,
           "Eukaryota",
           "Fungi",
           "Ascomycota",
           "Orbiliomycetes",
           "Orbiliales",
           "Orbiliaceae",
           "Drechslerella",
           "Drechslerella brochopaga",
           null,
           null,
           "47238",
           0.002517249461250752,
           0.026592796237656785,
           0.023018523052071,
           -0.039722082883239265
          ]
         ],
         "hovertemplate": "<b>%{customdata[0]}</b><br>Family Name: %{customdata[1]}<br>Domain: %{customdata[2]}<br>Kingdom: %{customdata[3]}</b><br>Phylum: %{customdata[4]}<br>Class: %{customdata[5]}<br>Order: %{customdata[6]}<br>Family: %{customdata[7]}<br>Genus: %{customdata[8]}<br>Species: %{customdata[9]}<br>EC Number: %{customdata[10]}<br>Mol Weight: %{customdata[11]}<br>Taxonomy ID: %{customdata[12]}<extra></extra>",
         "marker": {
          "color": "rgb(68, 53, 127)",
          "size": 6,
          "symbol": "circle"
         },
         "mode": "markers",
         "text": "hypothetical protein",
         "type": "scatter3d",
         "x": [
          0.026592796237656785
         ],
         "y": [
          0.023018523052071
         ],
         "z": [
          -0.039722082883239265
         ]
        },
        {
         "customdata": [
          [
           "putative GTP binding protein",
           null,
           "Eukaryota",
           "Fungi",
           "Ascomycota",
           "Sordariomycetes",
           "Sordariales",
           "Chaetomiaceae",
           "Thermochaetoides",
           "Thermochaetoides thermophila",
           null,
           34303,
           "759272",
           0.0009095444962237499,
           0.01582990422862439,
           0.04586224177733888,
           -0.0004954644283184997
          ]
         ],
         "hovertemplate": "<b>%{customdata[0]}</b><br>Family Name: %{customdata[1]}<br>Domain: %{customdata[2]}<br>Kingdom: %{customdata[3]}</b><br>Phylum: %{customdata[4]}<br>Class: %{customdata[5]}<br>Order: %{customdata[6]}<br>Family: %{customdata[7]}<br>Genus: %{customdata[8]}<br>Species: %{customdata[9]}<br>EC Number: %{customdata[10]}<br>Mol Weight: %{customdata[11]}<br>Taxonomy ID: %{customdata[12]}<extra></extra>",
         "marker": {
          "color": "rgb(39, 127, 142)",
          "size": 6,
          "symbol": "circle"
         },
         "mode": "markers",
         "text": "putative GTP binding protein",
         "type": "scatter3d",
         "x": [
          0.01582990422862439
         ],
         "y": [
          0.04586224177733888
         ],
         "z": [
          -0.0004954644283184997
         ]
        },
        {
         "customdata": [
          [
           "hypothetical protein",
           null,
           "Eukaryota",
           "Fungi",
           "Ascomycota",
           "Orbiliomycetes",
           "Orbiliales",
           "Orbiliaceae",
           "Drechslerella",
           "Drechslerella stenobrocha",
           null,
           null,
           "1043628",
           0.0018794455289370482,
           0.009038342198568717,
           0.042913856975536485,
           -0.01675339041262799
          ]
         ],
         "hovertemplate": "<b>%{customdata[0]}</b><br>Family Name: %{customdata[1]}<br>Domain: %{customdata[2]}<br>Kingdom: %{customdata[3]}</b><br>Phylum: %{customdata[4]}<br>Class: %{customdata[5]}<br>Order: %{customdata[6]}<br>Family: %{customdata[7]}<br>Genus: %{customdata[8]}<br>Species: %{customdata[9]}<br>EC Number: %{customdata[10]}<br>Mol Weight: %{customdata[11]}<br>Taxonomy ID: %{customdata[12]}<extra></extra>",
         "marker": {
          "color": "rgb(34, 148, 139)",
          "size": 6,
          "symbol": "circle"
         },
         "mode": "markers",
         "text": "hypothetical protein",
         "type": "scatter3d",
         "x": [
          0.009038342198568717
         ],
         "y": [
          0.042913856975536485
         ],
         "z": [
          -0.01675339041262799
         ]
        },
        {
         "customdata": [
          [
           "hypothetical protein",
           null,
           "Eukaryota",
           "Fungi",
           "Ascomycota",
           "Orbiliomycetes",
           "Orbiliales",
           "Orbiliaceae",
           "Dactylella",
           "Dactylella cylindrospora",
           null,
           null,
           "1814901",
           0.0015153389651190888,
           0.05843051446467995,
           0.05690635916539528,
           -0.007948918601346236
          ]
         ],
         "hovertemplate": "<b>%{customdata[0]}</b><br>Family Name: %{customdata[1]}<br>Domain: %{customdata[2]}<br>Kingdom: %{customdata[3]}</b><br>Phylum: %{customdata[4]}<br>Class: %{customdata[5]}<br>Order: %{customdata[6]}<br>Family: %{customdata[7]}<br>Genus: %{customdata[8]}<br>Species: %{customdata[9]}<br>EC Number: %{customdata[10]}<br>Mol Weight: %{customdata[11]}<br>Taxonomy ID: %{customdata[12]}<extra></extra>",
         "marker": {
          "color": "rgb(42, 171, 129)",
          "size": 6,
          "symbol": "circle"
         },
         "mode": "markers",
         "text": "hypothetical protein",
         "type": "scatter3d",
         "x": [
          0.05843051446467995
         ],
         "y": [
          0.05690635916539528
         ],
         "z": [
          -0.007948918601346236
         ]
        },
        {
         "customdata": [
          [
           "small GTPase",
           null,
           "Eukaryota",
           "Fungi",
           "Ascomycota",
           "Pezizomycetes",
           "Pezizales",
           "Pyronemataceae",
           "Wilcoxina",
           "Wilcoxina mikolae",
           null,
           null,
           "1314677",
           0.0007363600824578911,
           0.045229328489530755,
           0.05469900353679259,
           -0.002179388522335366
          ]
         ],
         "hovertemplate": "<b>%{customdata[0]}</b><br>Family Name: %{customdata[1]}<br>Domain: %{customdata[2]}<br>Kingdom: %{customdata[3]}</b><br>Phylum: %{customdata[4]}<br>Class: %{customdata[5]}<br>Order: %{customdata[6]}<br>Family: %{customdata[7]}<br>Genus: %{customdata[8]}<br>Species: %{customdata[9]}<br>EC Number: %{customdata[10]}<br>Mol Weight: %{customdata[11]}<br>Taxonomy ID: %{customdata[12]}<extra></extra>",
         "marker": {
          "color": "rgb(36, 164, 133)",
          "size": 6,
          "symbol": "circle"
         },
         "mode": "markers",
         "text": "small GTPase",
         "type": "scatter3d",
         "x": [
          0.045229328489530755
         ],
         "y": [
          0.05469900353679259
         ],
         "z": [
          -0.002179388522335366
         ]
        },
        {
         "customdata": [
          [
           "GTPase Spg1",
           null,
           "Eukaryota",
           "Fungi",
           "Ascomycota",
           "Schizosaccharomycetes",
           "Schizosaccharomycetales",
           "Schizosaccharomycetaceae",
           "Schizosaccharomyces",
           "Schizosaccharomyces japonicus",
           null,
           22293,
           "402676",
           0,
           -0.5296966410799824,
           0.07923680424864349,
           0.6993231552498786
          ]
         ],
         "hovertemplate": "<b>%{customdata[0]}</b><br>Family Name: %{customdata[1]}<br>Domain: %{customdata[2]}<br>Kingdom: %{customdata[3]}</b><br>Phylum: %{customdata[4]}<br>Class: %{customdata[5]}<br>Order: %{customdata[6]}<br>Family: %{customdata[7]}<br>Genus: %{customdata[8]}<br>Species: %{customdata[9]}<br>EC Number: %{customdata[10]}<br>Mol Weight: %{customdata[11]}<br>Taxonomy ID: %{customdata[12]}<extra></extra>",
         "marker": {
          "color": "rgb(64, 65, 133)",
          "size": 6,
          "symbol": "circle"
         },
         "mode": "markers",
         "text": "GTPase Spg1",
         "type": "scatter3d",
         "x": [
          -0.5296966410799824
         ],
         "y": [
          0.07923680424864349
         ],
         "z": [
          0.6993231552498786
         ]
        },
        {
         "customdata": [
          [
           "spg1, Ras superfamily GTPase",
           null,
           "Eukaryota",
           null,
           "Evosea",
           "Variosea",
           "Cavosteliida",
           "Cavosteliaceae",
           "Planoprotostelium",
           "Planoprotostelium fungivorum",
           null,
           null,
           "1890364",
           0.0014113984363505027,
           -0.0007103955042216567,
           0.04617436694000299,
           -0.004170400047196266
          ]
         ],
         "hovertemplate": "<b>%{customdata[0]}</b><br>Family Name: %{customdata[1]}<br>Domain: %{customdata[2]}<br>Kingdom: %{customdata[3]}</b><br>Phylum: %{customdata[4]}<br>Class: %{customdata[5]}<br>Order: %{customdata[6]}<br>Family: %{customdata[7]}<br>Genus: %{customdata[8]}<br>Species: %{customdata[9]}<br>EC Number: %{customdata[10]}<br>Mol Weight: %{customdata[11]}<br>Taxonomy ID: %{customdata[12]}<extra></extra>",
         "marker": {
          "color": "rgb(68, 3, 86)",
          "size": 6,
          "symbol": "circle"
         },
         "mode": "markers",
         "text": "spg1, Ras superfamily GTPase",
         "type": "scatter3d",
         "x": [
          -0.0007103955042216567
         ],
         "y": [
          0.04617436694000299
         ],
         "z": [
          -0.004170400047196266
         ]
        },
        {
         "customdata": [
          [
           "hypothetical protein",
           null,
           "Eukaryota",
           "Fungi",
           "Basidiomycota",
           "Mixiomycetes",
           "Mixiales",
           "Mixiaceae",
           "Mixia",
           "Mixia osmundae",
           null,
           null,
           "764103",
           0.005960650376611262,
           0.002236116702726508,
           0.032290406915864024,
           0.002981227076415699
          ]
         ],
         "hovertemplate": "<b>%{customdata[0]}</b><br>Family Name: %{customdata[1]}<br>Domain: %{customdata[2]}<br>Kingdom: %{customdata[3]}</b><br>Phylum: %{customdata[4]}<br>Class: %{customdata[5]}<br>Order: %{customdata[6]}<br>Family: %{customdata[7]}<br>Genus: %{customdata[8]}<br>Species: %{customdata[9]}<br>EC Number: %{customdata[10]}<br>Mol Weight: %{customdata[11]}<br>Taxonomy ID: %{customdata[12]}<extra></extra>",
         "marker": {
          "color": "rgb(36, 138, 141)",
          "size": 6,
          "symbol": "circle"
         },
         "mode": "markers",
         "text": "hypothetical protein",
         "type": "scatter3d",
         "x": [
          0.002236116702726508
         ],
         "y": [
          0.032290406915864024
         ],
         "z": [
          0.002981227076415699
         ]
        },
        {
         "customdata": [
          [
           "small GTPase",
           null,
           "Eukaryota",
           "Fungi",
           "Ascomycota",
           "Saccharomycetes",
           "Saccharomycetales",
           "Saccharomycodaceae",
           "Hanseniaspora",
           "Hanseniaspora valbyensis",
           null,
           null,
           "766949",
           0,
           -0.38118185061453325,
           -0.9057770573095502,
           0.23069578341211916
          ]
         ],
         "hovertemplate": "<b>%{customdata[0]}</b><br>Family Name: %{customdata[1]}<br>Domain: %{customdata[2]}<br>Kingdom: %{customdata[3]}</b><br>Phylum: %{customdata[4]}<br>Class: %{customdata[5]}<br>Order: %{customdata[6]}<br>Family: %{customdata[7]}<br>Genus: %{customdata[8]}<br>Species: %{customdata[9]}<br>EC Number: %{customdata[10]}<br>Mol Weight: %{customdata[11]}<br>Taxonomy ID: %{customdata[12]}<extra></extra>",
         "marker": {
          "color": "rgb(69, 12, 94)",
          "size": 6,
          "symbol": "circle"
         },
         "mode": "markers",
         "text": "small GTPase",
         "type": "scatter3d",
         "x": [
          -0.38118185061453325
         ],
         "y": [
          -0.9057770573095502
         ],
         "z": [
          0.23069578341211916
         ]
        },
        {
         "customdata": [
          [
           "P-loop containing nucleoside triphosphate hydrolase protein",
           null,
           "Eukaryota",
           "Fungi",
           "Ascomycota",
           "Sordariomycetes",
           "Xylariales",
           "Xylariaceae",
           "Xylaria",
           "Xylaria intraflava",
           null,
           null,
           "492091",
           0.00017011882196853024,
           0.03879251129103395,
           0.06792323437848546,
           -0.007676246987072929
          ]
         ],
         "hovertemplate": "<b>%{customdata[0]}</b><br>Family Name: %{customdata[1]}<br>Domain: %{customdata[2]}<br>Kingdom: %{customdata[3]}</b><br>Phylum: %{customdata[4]}<br>Class: %{customdata[5]}<br>Order: %{customdata[6]}<br>Family: %{customdata[7]}<br>Genus: %{customdata[8]}<br>Species: %{customdata[9]}<br>EC Number: %{customdata[10]}<br>Mol Weight: %{customdata[11]}<br>Taxonomy ID: %{customdata[12]}<extra></extra>",
         "marker": {
          "color": "rgb(55, 89, 140)",
          "size": 6,
          "symbol": "circle"
         },
         "mode": "markers",
         "text": "P-loop containing nucleoside triphosphate hydrolase protein",
         "type": "scatter3d",
         "x": [
          0.03879251129103395
         ],
         "y": [
          0.06792323437848546
         ],
         "z": [
          -0.007676246987072929
         ]
        },
        {
         "customdata": [
          [
           "similar to Saccharomyces cerevisiae YML064C TEM1 GTP-binding protein of the ras superfamily involved in termination of M-phase",
           null,
           "Eukaryota",
           "Fungi",
           "Ascomycota",
           "Saccharomycetes",
           "Saccharomycetales",
           "Dipodascaceae",
           "Geotrichum",
           "Geotrichum candidum",
           null,
           null,
           "1173061",
           0.000012562814070351756,
           0.06920458909348536,
           0.0745588126630055,
           -0.10348436725663449
          ]
         ],
         "hovertemplate": "<b>%{customdata[0]}</b><br>Family Name: %{customdata[1]}<br>Domain: %{customdata[2]}<br>Kingdom: %{customdata[3]}</b><br>Phylum: %{customdata[4]}<br>Class: %{customdata[5]}<br>Order: %{customdata[6]}<br>Family: %{customdata[7]}<br>Genus: %{customdata[8]}<br>Species: %{customdata[9]}<br>EC Number: %{customdata[10]}<br>Mol Weight: %{customdata[11]}<br>Taxonomy ID: %{customdata[12]}<extra></extra>",
         "marker": {
          "color": "rgb(31, 157, 137)",
          "size": 6,
          "symbol": "circle"
         },
         "mode": "markers",
         "text": "similar to Saccharomyces cerevisiae YML064C TEM1 GTP-binding protein of the ras superfamily involved in termination of M-phase",
         "type": "scatter3d",
         "x": [
          0.06920458909348536
         ],
         "y": [
          0.0745588126630055
         ],
         "z": [
          -0.10348436725663449
         ]
        },
        {
         "customdata": [
          [
           "P-loop containing nucleoside triphosphate hydrolase protein",
           null,
           "Eukaryota",
           "Fungi",
           "Ascomycota",
           "Sordariomycetes",
           "Xylariales",
           "Hypoxylaceae",
           "Hypomontagnella",
           "Hypomontagnella submonticulosa",
           null,
           null,
           "152308",
           0.00015212983937326597,
           0.04907909921615333,
           0.011863515192727372,
           -0.026190346834159352
          ]
         ],
         "hovertemplate": "<b>%{customdata[0]}</b><br>Family Name: %{customdata[1]}<br>Domain: %{customdata[2]}<br>Kingdom: %{customdata[3]}</b><br>Phylum: %{customdata[4]}<br>Class: %{customdata[5]}<br>Order: %{customdata[6]}<br>Family: %{customdata[7]}<br>Genus: %{customdata[8]}<br>Species: %{customdata[9]}<br>EC Number: %{customdata[10]}<br>Mol Weight: %{customdata[11]}<br>Taxonomy ID: %{customdata[12]}<extra></extra>",
         "marker": {
          "color": "rgb(71, 42, 121)",
          "size": 6,
          "symbol": "circle"
         },
         "mode": "markers",
         "text": "P-loop containing nucleoside triphosphate hydrolase protein",
         "type": "scatter3d",
         "x": [
          0.04907909921615333
         ],
         "y": [
          0.011863515192727372
         ],
         "z": [
          -0.026190346834159352
         ]
        },
        {
         "customdata": [
          [
           "P-loop containing nucleoside triphosphate hydrolase protein",
           null,
           "Eukaryota",
           "Fungi",
           "Ascomycota",
           "Pezizomycetes",
           "Pezizales",
           "Pezizaceae",
           "Peziza",
           "Peziza echinospora",
           null,
           null,
           "61495",
           0.010680836088999607,
           0.049291349523540286,
           0.028213804607044438,
           -0.0413840599803573
          ]
         ],
         "hovertemplate": "<b>%{customdata[0]}</b><br>Family Name: %{customdata[1]}<br>Domain: %{customdata[2]}<br>Kingdom: %{customdata[3]}</b><br>Phylum: %{customdata[4]}<br>Class: %{customdata[5]}<br>Order: %{customdata[6]}<br>Family: %{customdata[7]}<br>Genus: %{customdata[8]}<br>Species: %{customdata[9]}<br>EC Number: %{customdata[10]}<br>Mol Weight: %{customdata[11]}<br>Taxonomy ID: %{customdata[12]}<extra></extra>",
         "marker": {
          "color": "rgb(33, 150, 138)",
          "size": 6,
          "symbol": "circle"
         },
         "mode": "markers",
         "text": "P-loop containing nucleoside triphosphate hydrolase protein",
         "type": "scatter3d",
         "x": [
          0.049291349523540286
         ],
         "y": [
          0.028213804607044438
         ],
         "z": [
          -0.0413840599803573
         ]
        },
        {
         "customdata": [
          [
           "septum-promoting GTP-binding protein 1",
           null,
           "Eukaryota",
           "Fungi",
           "Basidiomycota",
           "Agaricomycetes",
           "Cantharellales",
           "Tulasnellaceae",
           "Tulasnella",
           "Tulasnella sp. 427",
           null,
           null,
           "2600231",
           0.0001788870771611408,
           0.035254435337657285,
           0.03883474126384371,
           0.03413557461691482
          ]
         ],
         "hovertemplate": "<b>%{customdata[0]}</b><br>Family Name: %{customdata[1]}<br>Domain: %{customdata[2]}<br>Kingdom: %{customdata[3]}</b><br>Phylum: %{customdata[4]}<br>Class: %{customdata[5]}<br>Order: %{customdata[6]}<br>Family: %{customdata[7]}<br>Genus: %{customdata[8]}<br>Species: %{customdata[9]}<br>EC Number: %{customdata[10]}<br>Mol Weight: %{customdata[11]}<br>Taxonomy ID: %{customdata[12]}<extra></extra>",
         "marker": {
          "color": "rgb(34, 145, 139)",
          "size": 6,
          "symbol": "circle"
         },
         "mode": "markers",
         "text": "septum-promoting GTP-binding protein 1",
         "type": "scatter3d",
         "x": [
          0.035254435337657285
         ],
         "y": [
          0.03883474126384371
         ],
         "z": [
          0.03413557461691482
         ]
        },
        {
         "customdata": [
          [
           "small GTPase",
           null,
           "Eukaryota",
           "Fungi",
           "Ascomycota",
           "Sordariomycetes",
           "Xylariales",
           "Hypoxylaceae",
           "Hypoxylon",
           "Hypoxylon sp. EC38",
           null,
           null,
           "1001937",
           0.00008983003707207428,
           0.06062912679394318,
           0.06016611526986765,
           -0.01457663078387287
          ]
         ],
         "hovertemplate": "<b>%{customdata[0]}</b><br>Family Name: %{customdata[1]}<br>Domain: %{customdata[2]}<br>Kingdom: %{customdata[3]}</b><br>Phylum: %{customdata[4]}<br>Class: %{customdata[5]}<br>Order: %{customdata[6]}<br>Family: %{customdata[7]}<br>Genus: %{customdata[8]}<br>Species: %{customdata[9]}<br>EC Number: %{customdata[10]}<br>Mol Weight: %{customdata[11]}<br>Taxonomy ID: %{customdata[12]}<extra></extra>",
         "marker": {
          "color": "rgb(36, 136, 141)",
          "size": 6,
          "symbol": "circle"
         },
         "mode": "markers",
         "text": "small GTPase",
         "type": "scatter3d",
         "x": [
          0.06062912679394318
         ],
         "y": [
          0.06016611526986765
         ],
         "z": [
          -0.01457663078387287
         ]
        },
        {
         "customdata": [
          [
           "P-loop containing nucleoside triphosphate hydrolase protein",
           null,
           "Eukaryota",
           "Fungi",
           "Ascomycota",
           "Sordariomycetes",
           "Sordariales",
           "Chaetomiaceae",
           "Chaetomium",
           "Chaetomium sp. MPI-SDFR-AT-0129",
           null,
           null,
           "2823209",
           0.00038497182547933567,
           0.05435626665144691,
           0.05743942134152079,
           0.0006852678367774742
          ]
         ],
         "hovertemplate": "<b>%{customdata[0]}</b><br>Family Name: %{customdata[1]}<br>Domain: %{customdata[2]}<br>Kingdom: %{customdata[3]}</b><br>Phylum: %{customdata[4]}<br>Class: %{customdata[5]}<br>Order: %{customdata[6]}<br>Family: %{customdata[7]}<br>Genus: %{customdata[8]}<br>Species: %{customdata[9]}<br>EC Number: %{customdata[10]}<br>Mol Weight: %{customdata[11]}<br>Taxonomy ID: %{customdata[12]}<extra></extra>",
         "marker": {
          "color": "rgb(84, 195, 103)",
          "size": 6,
          "symbol": "circle"
         },
         "mode": "markers",
         "text": "P-loop containing nucleoside triphosphate hydrolase protein",
         "type": "scatter3d",
         "x": [
          0.05435626665144691
         ],
         "y": [
          0.05743942134152079
         ],
         "z": [
          0.0006852678367774742
         ]
        },
        {
         "customdata": [
          [
           "small GTPase",
           null,
           "Eukaryota",
           "Fungi",
           "Zoopagomycota",
           "Basidiobolomycetes",
           "Basidiobolales",
           "Basidiobolaceae",
           "Basidiobolus",
           "Basidiobolus meristosporus",
           null,
           null,
           "1314790",
           0,
           -0.91608391911236,
           0.19314163164634954,
           0.36965323438082204
          ]
         ],
         "hovertemplate": "<b>%{customdata[0]}</b><br>Family Name: %{customdata[1]}<br>Domain: %{customdata[2]}<br>Kingdom: %{customdata[3]}</b><br>Phylum: %{customdata[4]}<br>Class: %{customdata[5]}<br>Order: %{customdata[6]}<br>Family: %{customdata[7]}<br>Genus: %{customdata[8]}<br>Species: %{customdata[9]}<br>EC Number: %{customdata[10]}<br>Mol Weight: %{customdata[11]}<br>Taxonomy ID: %{customdata[12]}<extra></extra>",
         "marker": {
          "color": "rgb(52, 97, 141)",
          "size": 6,
          "symbol": "circle"
         },
         "mode": "markers",
         "text": "small GTPase",
         "type": "scatter3d",
         "x": [
          -0.91608391911236
         ],
         "y": [
          0.19314163164634954
         ],
         "z": [
          0.36965323438082204
         ]
        },
        {
         "customdata": [
          [
           "septum-promoting GTP-binding protein 1",
           null,
           "Eukaryota",
           "Fungi",
           "Basidiomycota",
           "Tremellomycetes",
           "Trichosporonales",
           "Trichosporonaceae",
           "Apiotrichum",
           "Apiotrichum porosum",
           null,
           23757,
           "105984",
           0.000004338462498829553,
           -0.0038816626569051892,
           0.09480586148329753,
           0.024810782413440046
          ]
         ],
         "hovertemplate": "<b>%{customdata[0]}</b><br>Family Name: %{customdata[1]}<br>Domain: %{customdata[2]}<br>Kingdom: %{customdata[3]}</b><br>Phylum: %{customdata[4]}<br>Class: %{customdata[5]}<br>Order: %{customdata[6]}<br>Family: %{customdata[7]}<br>Genus: %{customdata[8]}<br>Species: %{customdata[9]}<br>EC Number: %{customdata[10]}<br>Mol Weight: %{customdata[11]}<br>Taxonomy ID: %{customdata[12]}<extra></extra>",
         "marker": {
          "color": "rgb(46, 174, 126)",
          "size": 6,
          "symbol": "circle"
         },
         "mode": "markers",
         "text": "septum-promoting GTP-binding protein 1",
         "type": "scatter3d",
         "x": [
          -0.0038816626569051892
         ],
         "y": [
          0.09480586148329753
         ],
         "z": [
          0.024810782413440046
         ]
        },
        {
         "customdata": [
          [
           "Septum-promoting GTP-binding protein 1",
           null,
           "Eukaryota",
           "Fungi",
           "Ascomycota",
           "Saccharomycetes",
           "Saccharomycetales",
           "Trichomonascaceae",
           "Wickerhamiella",
           "Wickerhamiella sorbophila",
           null,
           23361,
           "45607",
           0,
           0.41222288734276386,
           -0.7574477576425854,
           0.4391061777458143
          ]
         ],
         "hovertemplate": "<b>%{customdata[0]}</b><br>Family Name: %{customdata[1]}<br>Domain: %{customdata[2]}<br>Kingdom: %{customdata[3]}</b><br>Phylum: %{customdata[4]}<br>Class: %{customdata[5]}<br>Order: %{customdata[6]}<br>Family: %{customdata[7]}<br>Genus: %{customdata[8]}<br>Species: %{customdata[9]}<br>EC Number: %{customdata[10]}<br>Mol Weight: %{customdata[11]}<br>Taxonomy ID: %{customdata[12]}<extra></extra>",
         "marker": {
          "color": "rgb(57, 86, 139)",
          "size": 6,
          "symbol": "circle"
         },
         "mode": "markers",
         "text": "Septum-promoting GTP-binding protein 1",
         "type": "scatter3d",
         "x": [
          0.41222288734276386
         ],
         "y": [
          -0.7574477576425854
         ],
         "z": [
          0.4391061777458143
         ]
        },
        {
         "customdata": [
          [
           "small GTPase",
           null,
           "Eukaryota",
           "Fungi",
           "Ascomycota",
           "Sordariomycetes",
           "Xylariales",
           "Hypoxylaceae",
           "Hypoxylon",
           "Hypoxylon sp. NC0597",
           null,
           null,
           "2614607",
           0.000056298267429600304,
           0.03567153910362105,
           0.05987055684299412,
           -0.03903816968439986
          ]
         ],
         "hovertemplate": "<b>%{customdata[0]}</b><br>Family Name: %{customdata[1]}<br>Domain: %{customdata[2]}<br>Kingdom: %{customdata[3]}</b><br>Phylum: %{customdata[4]}<br>Class: %{customdata[5]}<br>Order: %{customdata[6]}<br>Family: %{customdata[7]}<br>Genus: %{customdata[8]}<br>Species: %{customdata[9]}<br>EC Number: %{customdata[10]}<br>Mol Weight: %{customdata[11]}<br>Taxonomy ID: %{customdata[12]}<extra></extra>",
         "marker": {
          "color": "rgb(100, 202, 94)",
          "size": 6,
          "symbol": "circle"
         },
         "mode": "markers",
         "text": "small GTPase",
         "type": "scatter3d",
         "x": [
          0.03567153910362105
         ],
         "y": [
          0.05987055684299412
         ],
         "z": [
          -0.03903816968439986
         ]
        },
        {
         "customdata": [
          [
           "small GTPase",
           null,
           "Eukaryota",
           "Fungi",
           "Ascomycota",
           "Sordariomycetes",
           "Xylariales",
           "Hypoxylaceae",
           "Daldinia",
           "Daldinia bambusicola",
           null,
           null,
           "326643",
           0.00001972093331099481,
           0.05385437093493014,
           0.02034715595844276,
           -0.008311119065352715
          ]
         ],
         "hovertemplate": "<b>%{customdata[0]}</b><br>Family Name: %{customdata[1]}<br>Domain: %{customdata[2]}<br>Kingdom: %{customdata[3]}</b><br>Phylum: %{customdata[4]}<br>Class: %{customdata[5]}<br>Order: %{customdata[6]}<br>Family: %{customdata[7]}<br>Genus: %{customdata[8]}<br>Species: %{customdata[9]}<br>EC Number: %{customdata[10]}<br>Mol Weight: %{customdata[11]}<br>Taxonomy ID: %{customdata[12]}<extra></extra>",
         "marker": {
          "color": "rgb(200, 224, 41)",
          "size": 6,
          "symbol": "circle"
         },
         "mode": "markers",
         "text": "small GTPase",
         "type": "scatter3d",
         "x": [
          0.05385437093493014
         ],
         "y": [
          0.02034715595844276
         ],
         "z": [
          -0.008311119065352715
         ]
        },
        {
         "customdata": [
          [
           "septum-promoting GTP-binding protein 1",
           null,
           "Eukaryota",
           "Fungi",
           "Mucoromycota",
           "Mortierellomycetes",
           "Mortierellales",
           "Mortierellaceae",
           "Mortierella",
           "Mortierella sp. NVP85",
           null,
           null,
           "1896193",
           0.00012459400902930395,
           -0.0774755575863592,
           -0.0036821660032509327,
           0.04106995445860385
          ]
         ],
         "hovertemplate": "<b>%{customdata[0]}</b><br>Family Name: %{customdata[1]}<br>Domain: %{customdata[2]}<br>Kingdom: %{customdata[3]}</b><br>Phylum: %{customdata[4]}<br>Class: %{customdata[5]}<br>Order: %{customdata[6]}<br>Family: %{customdata[7]}<br>Genus: %{customdata[8]}<br>Species: %{customdata[9]}<br>EC Number: %{customdata[10]}<br>Mol Weight: %{customdata[11]}<br>Taxonomy ID: %{customdata[12]}<extra></extra>",
         "marker": {
          "color": "rgb(69, 50, 125)",
          "size": 6,
          "symbol": "circle"
         },
         "mode": "markers",
         "text": "septum-promoting GTP-binding protein 1",
         "type": "scatter3d",
         "x": [
          -0.0774755575863592
         ],
         "y": [
          -0.0036821660032509327
         ],
         "z": [
          0.04106995445860385
         ]
        },
        {
         "customdata": [
          [
           "septum-promoting GTP-binding protein 1",
           null,
           "Eukaryota",
           "Fungi",
           "Mucoromycota",
           "Mortierellomycetes",
           "Mortierellales",
           "Mortierellaceae",
           "Mortierella",
           "Mortierella sp. AD010",
           null,
           null,
           "1896179",
           0.000044599590907221216,
           -0.08751141593028268,
           -0.028495464885775923,
           0.006055522205363121
          ]
         ],
         "hovertemplate": "<b>%{customdata[0]}</b><br>Family Name: %{customdata[1]}<br>Domain: %{customdata[2]}<br>Kingdom: %{customdata[3]}</b><br>Phylum: %{customdata[4]}<br>Class: %{customdata[5]}<br>Order: %{customdata[6]}<br>Family: %{customdata[7]}<br>Genus: %{customdata[8]}<br>Species: %{customdata[9]}<br>EC Number: %{customdata[10]}<br>Mol Weight: %{customdata[11]}<br>Taxonomy ID: %{customdata[12]}<extra></extra>",
         "marker": {
          "color": "rgb(52, 96, 141)",
          "size": 6,
          "symbol": "circle"
         },
         "mode": "markers",
         "text": "septum-promoting GTP-binding protein 1",
         "type": "scatter3d",
         "x": [
          -0.08751141593028268
         ],
         "y": [
          -0.028495464885775923
         ],
         "z": [
          0.006055522205363121
         ]
        },
        {
         "customdata": [
          [
           "septum-promoting GTP-binding protein 1",
           null,
           "Eukaryota",
           "Fungi",
           "Mucoromycota",
           "Mortierellomycetes",
           "Mortierellales",
           "Mortierellaceae",
           "Mortierella",
           "Mortierella polycephala",
           null,
           null,
           "41804",
           0.007097594973382137,
           -0.04456292056363782,
           -0.017170706895205542,
           0.009824277472647447
          ]
         ],
         "hovertemplate": "<b>%{customdata[0]}</b><br>Family Name: %{customdata[1]}<br>Domain: %{customdata[2]}<br>Kingdom: %{customdata[3]}</b><br>Phylum: %{customdata[4]}<br>Class: %{customdata[5]}<br>Order: %{customdata[6]}<br>Family: %{customdata[7]}<br>Genus: %{customdata[8]}<br>Species: %{customdata[9]}<br>EC Number: %{customdata[10]}<br>Mol Weight: %{customdata[11]}<br>Taxonomy ID: %{customdata[12]}<extra></extra>",
         "marker": {
          "color": "rgb(72, 37, 117)",
          "size": 6,
          "symbol": "circle"
         },
         "mode": "markers",
         "text": "septum-promoting GTP-binding protein 1",
         "type": "scatter3d",
         "x": [
          -0.04456292056363782
         ],
         "y": [
          -0.017170706895205542
         ],
         "z": [
          0.009824277472647447
         ]
        },
        {
         "customdata": [
          [
           "P-loop containing nucleoside triphosphate hydrolase protein",
           null,
           "Eukaryota",
           "Fungi",
           "Ascomycota",
           "Sordariomycetes",
           "Xylariales",
           "Hypoxylaceae",
           "Hypoxylon",
           "Hypoxylon sp. FL0543",
           null,
           null,
           "2614586",
           0.00007855490771195538,
           0.020002087956744123,
           0.0398984258872678,
           -0.037377643405237464
          ]
         ],
         "hovertemplate": "<b>%{customdata[0]}</b><br>Family Name: %{customdata[1]}<br>Domain: %{customdata[2]}<br>Kingdom: %{customdata[3]}</b><br>Phylum: %{customdata[4]}<br>Class: %{customdata[5]}<br>Order: %{customdata[6]}<br>Family: %{customdata[7]}<br>Genus: %{customdata[8]}<br>Species: %{customdata[9]}<br>EC Number: %{customdata[10]}<br>Mol Weight: %{customdata[11]}<br>Taxonomy ID: %{customdata[12]}<extra></extra>",
         "marker": {
          "color": "rgb(32, 153, 138)",
          "size": 6,
          "symbol": "circle"
         },
         "mode": "markers",
         "text": "P-loop containing nucleoside triphosphate hydrolase protein",
         "type": "scatter3d",
         "x": [
          0.020002087956744123
         ],
         "y": [
          0.0398984258872678
         ],
         "z": [
          -0.037377643405237464
         ]
        },
        {
         "customdata": [
          [
           "uncharacterized protein",
           null,
           "Eukaryota",
           "Fungi",
           "Ascomycota",
           "Pezizomycetes",
           "Pezizales",
           "Morchellaceae",
           "Morchella",
           "Morchella importuna",
           null,
           31936,
           "1174673",
           0.002196315969286147,
           0.017653753319120728,
           0.04897375840321346,
           -0.01883755908171091
          ]
         ],
         "hovertemplate": "<b>%{customdata[0]}</b><br>Family Name: %{customdata[1]}<br>Domain: %{customdata[2]}<br>Kingdom: %{customdata[3]}</b><br>Phylum: %{customdata[4]}<br>Class: %{customdata[5]}<br>Order: %{customdata[6]}<br>Family: %{customdata[7]}<br>Genus: %{customdata[8]}<br>Species: %{customdata[9]}<br>EC Number: %{customdata[10]}<br>Mol Weight: %{customdata[11]}<br>Taxonomy ID: %{customdata[12]}<extra></extra>",
         "marker": {
          "color": "rgb(186, 223, 43)",
          "size": 6,
          "symbol": "circle"
         },
         "mode": "markers",
         "text": "uncharacterized protein",
         "type": "scatter3d",
         "x": [
          0.017653753319120728
         ],
         "y": [
          0.04897375840321346
         ],
         "z": [
          -0.01883755908171091
         ]
        },
        {
         "customdata": [
          [
           "small GTPase",
           null,
           "Eukaryota",
           "Fungi",
           "Ascomycota",
           "Sordariomycetes",
           "Xylariales",
           "Hypoxylaceae",
           "Hypoxylon",
           "Hypoxylon sp. FL1857",
           null,
           null,
           "2614582",
           0.000025881513679577388,
           0.06288094572090268,
           0.0559870011185776,
           -0.018635602379133278
          ]
         ],
         "hovertemplate": "<b>%{customdata[0]}</b><br>Family Name: %{customdata[1]}<br>Domain: %{customdata[2]}<br>Kingdom: %{customdata[3]}</b><br>Phylum: %{customdata[4]}<br>Class: %{customdata[5]}<br>Order: %{customdata[6]}<br>Family: %{customdata[7]}<br>Genus: %{customdata[8]}<br>Species: %{customdata[9]}<br>EC Number: %{customdata[10]}<br>Mol Weight: %{customdata[11]}<br>Taxonomy ID: %{customdata[12]}<extra></extra>",
         "marker": {
          "color": "rgb(72, 39, 119)",
          "size": 6,
          "symbol": "circle"
         },
         "mode": "markers",
         "text": "small GTPase",
         "type": "scatter3d",
         "x": [
          0.06288094572090268
         ],
         "y": [
          0.0559870011185776
         ],
         "z": [
          -0.018635602379133278
         ]
        },
        {
         "customdata": [
          [
           "septum-promoting GTP-binding protein 1",
           null,
           "Eukaryota",
           "Fungi",
           "Mucoromycota",
           "Mortierellomycetes",
           "Mortierellales",
           "Mortierellaceae",
           "Mortierella",
           "Mortierella sp. GBA43",
           null,
           null,
           "1896190",
           0.00018093577939102577,
           -0.056377766544712625,
           -0.01594712545542988,
           0.03996225544216255
          ]
         ],
         "hovertemplate": "<b>%{customdata[0]}</b><br>Family Name: %{customdata[1]}<br>Domain: %{customdata[2]}<br>Kingdom: %{customdata[3]}</b><br>Phylum: %{customdata[4]}<br>Class: %{customdata[5]}<br>Order: %{customdata[6]}<br>Family: %{customdata[7]}<br>Genus: %{customdata[8]}<br>Species: %{customdata[9]}<br>EC Number: %{customdata[10]}<br>Mol Weight: %{customdata[11]}<br>Taxonomy ID: %{customdata[12]}<extra></extra>",
         "marker": {
          "color": "rgb(183, 222, 43)",
          "size": 6,
          "symbol": "circle"
         },
         "mode": "markers",
         "text": "septum-promoting GTP-binding protein 1",
         "type": "scatter3d",
         "x": [
          -0.056377766544712625
         ],
         "y": [
          -0.01594712545542988
         ],
         "z": [
          0.03996225544216255
         ]
        },
        {
         "customdata": [
          [
           "uncharacterized protein",
           null,
           "Eukaryota",
           "Fungi",
           "Ascomycota",
           "Pezizomycetes",
           "Pezizales",
           "Morchellaceae",
           "Morchella",
           "Morchella sextelata",
           null,
           31511,
           "1174677",
           0.008774095637059958,
           0.05924352085485876,
           0.02080710915451491,
           -0.04133657986334897
          ]
         ],
         "hovertemplate": "<b>%{customdata[0]}</b><br>Family Name: %{customdata[1]}<br>Domain: %{customdata[2]}<br>Kingdom: %{customdata[3]}</b><br>Phylum: %{customdata[4]}<br>Class: %{customdata[5]}<br>Order: %{customdata[6]}<br>Family: %{customdata[7]}<br>Genus: %{customdata[8]}<br>Species: %{customdata[9]}<br>EC Number: %{customdata[10]}<br>Mol Weight: %{customdata[11]}<br>Taxonomy ID: %{customdata[12]}<extra></extra>",
         "marker": {
          "color": "rgb(94, 200, 97)",
          "size": 6,
          "symbol": "circle"
         },
         "mode": "markers",
         "text": "uncharacterized protein",
         "type": "scatter3d",
         "x": [
          0.05924352085485876
         ],
         "y": [
          0.02080710915451491
         ],
         "z": [
          -0.04133657986334897
         ]
        },
        {
         "customdata": [
          [
           "small GTPase",
           null,
           "Eukaryota",
           "Fungi",
           "Ascomycota",
           "Pezizomycetes",
           "Pezizales",
           "Tuberaceae",
           "Choiromyces",
           "Choiromyces venosus",
           null,
           null,
           "1336337",
           0.0004719173759985151,
           0.041249086976269424,
           0.02373671592644877,
           -0.030950338760963887
          ]
         ],
         "hovertemplate": "<b>%{customdata[0]}</b><br>Family Name: %{customdata[1]}<br>Domain: %{customdata[2]}<br>Kingdom: %{customdata[3]}</b><br>Phylum: %{customdata[4]}<br>Class: %{customdata[5]}<br>Order: %{customdata[6]}<br>Family: %{customdata[7]}<br>Genus: %{customdata[8]}<br>Species: %{customdata[9]}<br>EC Number: %{customdata[10]}<br>Mol Weight: %{customdata[11]}<br>Taxonomy ID: %{customdata[12]}<extra></extra>",
         "marker": {
          "color": "rgb(45, 114, 142)",
          "size": 6,
          "symbol": "circle"
         },
         "mode": "markers",
         "text": "small GTPase",
         "type": "scatter3d",
         "x": [
          0.041249086976269424
         ],
         "y": [
          0.02373671592644877
         ],
         "z": [
          -0.030950338760963887
         ]
        },
        {
         "customdata": [
          [
           "septum-promoting GTP-binding protein 1",
           null,
           "Eukaryota",
           "Fungi",
           "Mucoromycota",
           "Mortierellomycetes",
           "Mortierellales",
           "Mortierellaceae",
           "Actinomortierella",
           "Actinomortierella wolfii",
           null,
           null,
           "90253",
           0.00038855157175251957,
           -0.058694772817653985,
           0.007744496037720695,
           0.007245778991634389
          ]
         ],
         "hovertemplate": "<b>%{customdata[0]}</b><br>Family Name: %{customdata[1]}<br>Domain: %{customdata[2]}<br>Kingdom: %{customdata[3]}</b><br>Phylum: %{customdata[4]}<br>Class: %{customdata[5]}<br>Order: %{customdata[6]}<br>Family: %{customdata[7]}<br>Genus: %{customdata[8]}<br>Species: %{customdata[9]}<br>EC Number: %{customdata[10]}<br>Mol Weight: %{customdata[11]}<br>Taxonomy ID: %{customdata[12]}<extra></extra>",
         "marker": {
          "color": "rgb(66, 59, 130)",
          "size": 6,
          "symbol": "circle"
         },
         "mode": "markers",
         "text": "septum-promoting GTP-binding protein 1",
         "type": "scatter3d",
         "x": [
          -0.058694772817653985
         ],
         "y": [
          0.007744496037720695
         ],
         "z": [
          0.007245778991634389
         ]
        },
        {
         "customdata": [
          [
           "P-loop containing nucleoside triphosphate hydrolase protein",
           null,
           "Eukaryota",
           "Fungi",
           "Ascomycota",
           "Sordariomycetes",
           "Sordariales",
           "Chaetomiaceae",
           "Chaetomium",
           "Chaetomium globosum",
           null,
           null,
           "38033",
           0.000716122197461158,
           0.05720684622715798,
           0.048764679321558396,
           -0.018471180924297788
          ]
         ],
         "hovertemplate": "<b>%{customdata[0]}</b><br>Family Name: %{customdata[1]}<br>Domain: %{customdata[2]}<br>Kingdom: %{customdata[3]}</b><br>Phylum: %{customdata[4]}<br>Class: %{customdata[5]}<br>Order: %{customdata[6]}<br>Family: %{customdata[7]}<br>Genus: %{customdata[8]}<br>Species: %{customdata[9]}<br>EC Number: %{customdata[10]}<br>Mol Weight: %{customdata[11]}<br>Taxonomy ID: %{customdata[12]}<extra></extra>",
         "marker": {
          "color": "rgb(44, 173, 127)",
          "size": 6,
          "symbol": "circle"
         },
         "mode": "markers",
         "text": "P-loop containing nucleoside triphosphate hydrolase protein",
         "type": "scatter3d",
         "x": [
          0.05720684622715798
         ],
         "y": [
          0.048764679321558396
         ],
         "z": [
          -0.018471180924297788
         ]
        },
        {
         "customdata": [
          [
           "GTP-binding protein of the ras superfamily involved in termination of M-phase",
           null,
           "Eukaryota",
           "Fungi",
           "Ascomycota",
           "Saccharomycetes",
           "Saccharomycetales",
           "Phaffomycetaceae",
           "Komagataella",
           "Komagataella phaffii",
           null,
           24831,
           "644223",
           0,
           -0.43529631957974324,
           0.7058415313171614,
           0.44372912411944904
          ]
         ],
         "hovertemplate": "<b>%{customdata[0]}</b><br>Family Name: %{customdata[1]}<br>Domain: %{customdata[2]}<br>Kingdom: %{customdata[3]}</b><br>Phylum: %{customdata[4]}<br>Class: %{customdata[5]}<br>Order: %{customdata[6]}<br>Family: %{customdata[7]}<br>Genus: %{customdata[8]}<br>Species: %{customdata[9]}<br>EC Number: %{customdata[10]}<br>Mol Weight: %{customdata[11]}<br>Taxonomy ID: %{customdata[12]}<extra></extra>",
         "marker": {
          "color": "rgb(130, 211, 75)",
          "size": 6,
          "symbol": "circle"
         },
         "mode": "markers",
         "text": "GTP-binding protein of the ras superfamily involved in termination of M-phase",
         "type": "scatter3d",
         "x": [
          -0.43529631957974324
         ],
         "y": [
          0.7058415313171614
         ],
         "z": [
          0.44372912411944904
         ]
        },
        {
         "customdata": [
          [
           "septum-promoting GTP-binding protein 1",
           null,
           "Eukaryota",
           "Fungi",
           "Ascomycota",
           "Pezizomycetes",
           "Pezizales",
           "Pyronemataceae",
           "Sphaerosporella",
           "Sphaerosporella brunnea",
           null,
           null,
           "1250544",
           0.013536499202154616,
           0.036933385429599876,
           0.06655003805002715,
           -0.028033282648264952
          ]
         ],
         "hovertemplate": "<b>%{customdata[0]}</b><br>Family Name: %{customdata[1]}<br>Domain: %{customdata[2]}<br>Kingdom: %{customdata[3]}</b><br>Phylum: %{customdata[4]}<br>Class: %{customdata[5]}<br>Order: %{customdata[6]}<br>Family: %{customdata[7]}<br>Genus: %{customdata[8]}<br>Species: %{customdata[9]}<br>EC Number: %{customdata[10]}<br>Mol Weight: %{customdata[11]}<br>Taxonomy ID: %{customdata[12]}<extra></extra>",
         "marker": {
          "color": "rgb(38, 166, 132)",
          "size": 6,
          "symbol": "circle"
         },
         "mode": "markers",
         "text": "septum-promoting GTP-binding protein 1",
         "type": "scatter3d",
         "x": [
          0.036933385429599876
         ],
         "y": [
          0.06655003805002715
         ],
         "z": [
          -0.028033282648264952
         ]
        },
        {
         "customdata": [
          [
           "protein TEM1",
           null,
           "Eukaryota",
           "Fungi",
           "Ascomycota",
           "Sordariomycetes",
           "Hypocreales",
           "Cordycipitaceae",
           "Cordyceps",
           "Cordyceps fumosorosea",
           null,
           36213,
           "1081104",
           0.0000727507016600339,
           0.05264932003844786,
           0.022453758273131653,
           -0.015942481189328065
          ]
         ],
         "hovertemplate": "<b>%{customdata[0]}</b><br>Family Name: %{customdata[1]}<br>Domain: %{customdata[2]}<br>Kingdom: %{customdata[3]}</b><br>Phylum: %{customdata[4]}<br>Class: %{customdata[5]}<br>Order: %{customdata[6]}<br>Family: %{customdata[7]}<br>Genus: %{customdata[8]}<br>Species: %{customdata[9]}<br>EC Number: %{customdata[10]}<br>Mol Weight: %{customdata[11]}<br>Taxonomy ID: %{customdata[12]}<extra></extra>",
         "marker": {
          "color": "rgb(50, 102, 142)",
          "size": 6,
          "symbol": "circle"
         },
         "mode": "markers",
         "text": "protein TEM1",
         "type": "scatter3d",
         "x": [
          0.05264932003844786
         ],
         "y": [
          0.022453758273131653
         ],
         "z": [
          -0.015942481189328065
         ]
        },
        {
         "customdata": [
          [
           "GTP-binding protein",
           null,
           "Eukaryota",
           "Fungi",
           "Ascomycota",
           "Sordariomycetes",
           "Xylariales",
           "Xylariaceae",
           "Xylaria",
           "Xylaria nigripes",
           null,
           null,
           "490159",
           0.0031713018025709794,
           0.06056878748881578,
           0.02581642469203213,
           -0.030006590095700517
          ]
         ],
         "hovertemplate": "<b>%{customdata[0]}</b><br>Family Name: %{customdata[1]}<br>Domain: %{customdata[2]}<br>Kingdom: %{customdata[3]}</b><br>Phylum: %{customdata[4]}<br>Class: %{customdata[5]}<br>Order: %{customdata[6]}<br>Family: %{customdata[7]}<br>Genus: %{customdata[8]}<br>Species: %{customdata[9]}<br>EC Number: %{customdata[10]}<br>Mol Weight: %{customdata[11]}<br>Taxonomy ID: %{customdata[12]}<extra></extra>",
         "marker": {
          "color": "rgb(44, 116, 142)",
          "size": 6,
          "symbol": "circle"
         },
         "mode": "markers",
         "text": "GTP-binding protein",
         "type": "scatter3d",
         "x": [
          0.06056878748881578
         ],
         "y": [
          0.02581642469203213
         ],
         "z": [
          -0.030006590095700517
         ]
        },
        {
         "customdata": [
          [
           "P-loop containing nucleoside triphosphate hydrolase protein",
           null,
           "Eukaryota",
           "Fungi",
           "Ascomycota",
           "Pezizomycetes",
           "Pezizales",
           "Tuberaceae",
           "Tuber",
           "Tuber indicum",
           null,
           null,
           "55307",
           0.0004192656055268915,
           0.03335715013682009,
           0.044297633676934546,
           -0.047371173229414504
          ]
         ],
         "hovertemplate": "<b>%{customdata[0]}</b><br>Family Name: %{customdata[1]}<br>Domain: %{customdata[2]}<br>Kingdom: %{customdata[3]}</b><br>Phylum: %{customdata[4]}<br>Class: %{customdata[5]}<br>Order: %{customdata[6]}<br>Family: %{customdata[7]}<br>Genus: %{customdata[8]}<br>Species: %{customdata[9]}<br>EC Number: %{customdata[10]}<br>Mol Weight: %{customdata[11]}<br>Taxonomy ID: %{customdata[12]}<extra></extra>",
         "marker": {
          "color": "rgb(48, 106, 142)",
          "size": 6,
          "symbol": "circle"
         },
         "mode": "markers",
         "text": "P-loop containing nucleoside triphosphate hydrolase protein",
         "type": "scatter3d",
         "x": [
          0.03335715013682009
         ],
         "y": [
          0.044297633676934546
         ],
         "z": [
          -0.047371173229414504
         ]
        },
        {
         "customdata": [
          [
           "P-loop containing nucleoside triphosphate hydrolase protein",
           null,
           "Eukaryota",
           "Fungi",
           "Ascomycota",
           "Sordariomycetes",
           null,
           null,
           null,
           "Xylariomycetidae sp. FL2044",
           null,
           null,
           "2614609",
           0.00036560037415785747,
           0.049982161530693237,
           0.030972429750969966,
           -0.005692721453124148
          ]
         ],
         "hovertemplate": "<b>%{customdata[0]}</b><br>Family Name: %{customdata[1]}<br>Domain: %{customdata[2]}<br>Kingdom: %{customdata[3]}</b><br>Phylum: %{customdata[4]}<br>Class: %{customdata[5]}<br>Order: %{customdata[6]}<br>Family: %{customdata[7]}<br>Genus: %{customdata[8]}<br>Species: %{customdata[9]}<br>EC Number: %{customdata[10]}<br>Mol Weight: %{customdata[11]}<br>Taxonomy ID: %{customdata[12]}<extra></extra>",
         "marker": {
          "color": "rgb(49, 103, 142)",
          "size": 6,
          "symbol": "circle"
         },
         "mode": "markers",
         "text": "P-loop containing nucleoside triphosphate hydrolase protein",
         "type": "scatter3d",
         "x": [
          0.049982161530693237
         ],
         "y": [
          0.030972429750969966
         ],
         "z": [
          -0.005692721453124148
         ]
        },
        {
         "customdata": [
          [
           "DEKNAAC105557",
           null,
           "Eukaryota",
           "Fungi",
           "Ascomycota",
           "Saccharomycetes",
           "Saccharomycetales",
           "Pichiaceae",
           "Brettanomyces",
           "Brettanomyces naardenensis",
           null,
           null,
           "13370",
           0,
           0.2885704549362214,
           0.09750661593859776,
           -0.1895347252749383
          ]
         ],
         "hovertemplate": "<b>%{customdata[0]}</b><br>Family Name: %{customdata[1]}<br>Domain: %{customdata[2]}<br>Kingdom: %{customdata[3]}</b><br>Phylum: %{customdata[4]}<br>Class: %{customdata[5]}<br>Order: %{customdata[6]}<br>Family: %{customdata[7]}<br>Genus: %{customdata[8]}<br>Species: %{customdata[9]}<br>EC Number: %{customdata[10]}<br>Mol Weight: %{customdata[11]}<br>Taxonomy ID: %{customdata[12]}<extra></extra>",
         "marker": {
          "color": "rgb(220, 227, 40)",
          "size": 6,
          "symbol": "circle"
         },
         "mode": "markers",
         "text": "DEKNAAC105557",
         "type": "scatter3d",
         "x": [
          0.2885704549362214
         ],
         "y": [
          0.09750661593859776
         ],
         "z": [
          -0.1895347252749383
         ]
        },
        {
         "customdata": [
          [
           "P-loop containing nucleoside triphosphate hydrolase protein",
           null,
           "Eukaryota",
           "Fungi",
           "Ascomycota",
           "Sordariomycetes",
           "Xylariales",
           "Xylariaceae",
           "Xylaria",
           "Xylaria sp. FL0933",
           null,
           null,
           "2614584",
           0.00042373415749718233,
           0.025708424461976676,
           0.06558624378069527,
           -0.009603366943373128
          ]
         ],
         "hovertemplate": "<b>%{customdata[0]}</b><br>Family Name: %{customdata[1]}<br>Domain: %{customdata[2]}<br>Kingdom: %{customdata[3]}</b><br>Phylum: %{customdata[4]}<br>Class: %{customdata[5]}<br>Order: %{customdata[6]}<br>Family: %{customdata[7]}<br>Genus: %{customdata[8]}<br>Species: %{customdata[9]}<br>EC Number: %{customdata[10]}<br>Mol Weight: %{customdata[11]}<br>Taxonomy ID: %{customdata[12]}<extra></extra>",
         "marker": {
          "color": "rgb(243, 230, 38)",
          "size": 6,
          "symbol": "circle"
         },
         "mode": "markers",
         "text": "P-loop containing nucleoside triphosphate hydrolase protein",
         "type": "scatter3d",
         "x": [
          0.025708424461976676
         ],
         "y": [
          0.06558624378069527
         ],
         "z": [
          -0.009603366943373128
         ]
        },
        {
         "customdata": [
          [
           "septum initiation protein sid3",
           null,
           "Eukaryota",
           "Fungi",
           "Ascomycota",
           "Sordariomycetes",
           "Xylariales",
           "Xylariaceae",
           "Biscogniauxia",
           "Biscogniauxia marginata",
           null,
           null,
           "110534",
           0.00012149218341431625,
           0.024291048432299157,
           0.028994804819803138,
           -0.026377802633786192
          ]
         ],
         "hovertemplate": "<b>%{customdata[0]}</b><br>Family Name: %{customdata[1]}<br>Domain: %{customdata[2]}<br>Kingdom: %{customdata[3]}</b><br>Phylum: %{customdata[4]}<br>Class: %{customdata[5]}<br>Order: %{customdata[6]}<br>Family: %{customdata[7]}<br>Genus: %{customdata[8]}<br>Species: %{customdata[9]}<br>EC Number: %{customdata[10]}<br>Mol Weight: %{customdata[11]}<br>Taxonomy ID: %{customdata[12]}<extra></extra>",
         "marker": {
          "color": "rgb(69, 51, 126)",
          "size": 6,
          "symbol": "circle"
         },
         "mode": "markers",
         "text": "septum initiation protein sid3",
         "type": "scatter3d",
         "x": [
          0.024291048432299157
         ],
         "y": [
          0.028994804819803138
         ],
         "z": [
          -0.026377802633786192
         ]
        },
        {
         "customdata": [
          [
           "small GTPase",
           null,
           "Eukaryota",
           "Fungi",
           "Ascomycota",
           "Sordariomycetes",
           "Xylariales",
           "Hypoxylaceae",
           "Hypoxylon",
           "Hypoxylon sp. NC1633",
           null,
           null,
           "2663366",
           0.000037416143749260314,
           0.02439375433626641,
           0.048496503225247956,
           -0.0028220908713624247
          ]
         ],
         "hovertemplate": "<b>%{customdata[0]}</b><br>Family Name: %{customdata[1]}<br>Domain: %{customdata[2]}<br>Kingdom: %{customdata[3]}</b><br>Phylum: %{customdata[4]}<br>Class: %{customdata[5]}<br>Order: %{customdata[6]}<br>Family: %{customdata[7]}<br>Genus: %{customdata[8]}<br>Species: %{customdata[9]}<br>EC Number: %{customdata[10]}<br>Mol Weight: %{customdata[11]}<br>Taxonomy ID: %{customdata[12]}<extra></extra>",
         "marker": {
          "color": "rgb(66, 61, 131)",
          "size": 6,
          "symbol": "circle"
         },
         "mode": "markers",
         "text": "small GTPase",
         "type": "scatter3d",
         "x": [
          0.02439375433626641
         ],
         "y": [
          0.048496503225247956
         ],
         "z": [
          -0.0028220908713624247
         ]
        },
        {
         "customdata": [
          [
           "GTPase Spg1",
           null,
           "Eukaryota",
           "Fungi",
           "Ascomycota",
           "Schizosaccharomycetes",
           "Schizosaccharomycetales",
           "Schizosaccharomycetaceae",
           "Schizosaccharomyces",
           "Schizosaccharomyces pombe",
           null,
           22412,
           "4896",
           0,
           -0.07782274058427753,
           0.8046111603362349,
           0.7931926080531211
          ]
         ],
         "hovertemplate": "<b>%{customdata[0]}</b><br>Family Name: %{customdata[1]}<br>Domain: %{customdata[2]}<br>Kingdom: %{customdata[3]}</b><br>Phylum: %{customdata[4]}<br>Class: %{customdata[5]}<br>Order: %{customdata[6]}<br>Family: %{customdata[7]}<br>Genus: %{customdata[8]}<br>Species: %{customdata[9]}<br>EC Number: %{customdata[10]}<br>Mol Weight: %{customdata[11]}<br>Taxonomy ID: %{customdata[12]}<extra></extra>",
         "marker": {
          "color": "rgb(64, 67, 134)",
          "size": 6,
          "symbol": "circle"
         },
         "mode": "markers",
         "text": "GTPase Spg1",
         "type": "scatter3d",
         "x": [
          -0.07782274058427753
         ],
         "y": [
          0.8046111603362349
         ],
         "z": [
          0.7931926080531211
         ]
        },
        {
         "customdata": [
          [
           "P-loop containing nucleoside triphosphate hydrolase protein",
           null,
           "Eukaryota",
           "Fungi",
           "Ascomycota",
           "Sordariomycetes",
           "Xylariales",
           "Xylariaceae",
           "Xylaria",
           "Xylaria sp. FL1042",
           null,
           null,
           "2614583",
           0.0006746369421251788,
           0.017434032273169642,
           0.042051291292197805,
           -0.017988026805562152
          ]
         ],
         "hovertemplate": "<b>%{customdata[0]}</b><br>Family Name: %{customdata[1]}<br>Domain: %{customdata[2]}<br>Kingdom: %{customdata[3]}</b><br>Phylum: %{customdata[4]}<br>Class: %{customdata[5]}<br>Order: %{customdata[6]}<br>Family: %{customdata[7]}<br>Genus: %{customdata[8]}<br>Species: %{customdata[9]}<br>EC Number: %{customdata[10]}<br>Mol Weight: %{customdata[11]}<br>Taxonomy ID: %{customdata[12]}<extra></extra>",
         "marker": {
          "color": "rgb(213, 226, 40)",
          "size": 6,
          "symbol": "circle"
         },
         "mode": "markers",
         "text": "P-loop containing nucleoside triphosphate hydrolase protein",
         "type": "scatter3d",
         "x": [
          0.017434032273169642
         ],
         "y": [
          0.042051291292197805
         ],
         "z": [
          -0.017988026805562152
         ]
        },
        {
         "customdata": [
          [
           "small GTPase",
           null,
           "Eukaryota",
           "Fungi",
           "Basidiomycota",
           "Atractiellomycetes",
           "Atractiellales",
           "Hoehnelomycetaceae",
           "Atractiella",
           "Atractiella rhizophila",
           null,
           null,
           "1938712",
           0.00004246522815157503,
           0.03435314609389302,
           -0.009906740349360024,
           -0.025200863525383067
          ]
         ],
         "hovertemplate": "<b>%{customdata[0]}</b><br>Family Name: %{customdata[1]}<br>Domain: %{customdata[2]}<br>Kingdom: %{customdata[3]}</b><br>Phylum: %{customdata[4]}<br>Class: %{customdata[5]}<br>Order: %{customdata[6]}<br>Family: %{customdata[7]}<br>Genus: %{customdata[8]}<br>Species: %{customdata[9]}<br>EC Number: %{customdata[10]}<br>Mol Weight: %{customdata[11]}<br>Taxonomy ID: %{customdata[12]}<extra></extra>",
         "marker": {
          "color": "rgb(170, 219, 50)",
          "size": 6,
          "symbol": "circle"
         },
         "mode": "markers",
         "text": "small GTPase",
         "type": "scatter3d",
         "x": [
          0.03435314609389302
         ],
         "y": [
          -0.009906740349360024
         ],
         "z": [
          -0.025200863525383067
         ]
        },
        {
         "customdata": [
          [
           "GTP-binding protein",
           null,
           "Eukaryota",
           "Fungi",
           "Ascomycota",
           "Eurotiomycetes",
           "Eurotiales",
           "Aspergillaceae",
           "Aspergillus",
           "Aspergillus sp. HF37",
           null,
           null,
           "1960876",
           0.00017294654696067846,
           0.012237567707404157,
           0.03010652796730756,
           -0.011458207193104045
          ]
         ],
         "hovertemplate": "<b>%{customdata[0]}</b><br>Family Name: %{customdata[1]}<br>Domain: %{customdata[2]}<br>Kingdom: %{customdata[3]}</b><br>Phylum: %{customdata[4]}<br>Class: %{customdata[5]}<br>Order: %{customdata[6]}<br>Family: %{customdata[7]}<br>Genus: %{customdata[8]}<br>Species: %{customdata[9]}<br>EC Number: %{customdata[10]}<br>Mol Weight: %{customdata[11]}<br>Taxonomy ID: %{customdata[12]}<extra></extra>",
         "marker": {
          "color": "rgb(50, 179, 123)",
          "size": 6,
          "symbol": "circle"
         },
         "mode": "markers",
         "text": "GTP-binding protein",
         "type": "scatter3d",
         "x": [
          0.012237567707404157
         ],
         "y": [
          0.03010652796730756
         ],
         "z": [
          -0.011458207193104045
         ]
        },
        {
         "customdata": [
          [
           "septum-promoting GTP-binding protein 1",
           null,
           "Eukaryota",
           "Fungi",
           "Mucoromycota",
           "Mortierellomycetes",
           "Mortierellales",
           "Mortierellaceae",
           "Haplosporangium",
           "Haplosporangium gracile",
           null,
           null,
           "2779863",
           0.0013006323269352125,
           -0.10179406824343995,
           -0.029354170576039736,
           0.03955321346369784
          ]
         ],
         "hovertemplate": "<b>%{customdata[0]}</b><br>Family Name: %{customdata[1]}<br>Domain: %{customdata[2]}<br>Kingdom: %{customdata[3]}</b><br>Phylum: %{customdata[4]}<br>Class: %{customdata[5]}<br>Order: %{customdata[6]}<br>Family: %{customdata[7]}<br>Genus: %{customdata[8]}<br>Species: %{customdata[9]}<br>EC Number: %{customdata[10]}<br>Mol Weight: %{customdata[11]}<br>Taxonomy ID: %{customdata[12]}<extra></extra>",
         "marker": {
          "color": "rgb(35, 140, 140)",
          "size": 6,
          "symbol": "circle"
         },
         "mode": "markers",
         "text": "septum-promoting GTP-binding protein 1",
         "type": "scatter3d",
         "x": [
          -0.10179406824343995
         ],
         "y": [
          -0.029354170576039736
         ],
         "z": [
          0.03955321346369784
         ]
        },
        {
         "customdata": [
          [
           "hypothetical protein",
           null,
           "Eukaryota",
           "Fungi",
           "Ascomycota",
           "Saccharomycetes",
           "Saccharomycetales",
           "Lipomycetaceae",
           "Lipomyces",
           "Lipomyces starkeyi",
           null,
           null,
           "675824",
           0.00001237458233727916,
           0.0723231559538183,
           0.032015143955397375,
           -0.05975282919387006
          ]
         ],
         "hovertemplate": "<b>%{customdata[0]}</b><br>Family Name: %{customdata[1]}<br>Domain: %{customdata[2]}<br>Kingdom: %{customdata[3]}</b><br>Phylum: %{customdata[4]}<br>Class: %{customdata[5]}<br>Order: %{customdata[6]}<br>Family: %{customdata[7]}<br>Genus: %{customdata[8]}<br>Species: %{customdata[9]}<br>EC Number: %{customdata[10]}<br>Mol Weight: %{customdata[11]}<br>Taxonomy ID: %{customdata[12]}<extra></extra>",
         "marker": {
          "color": "rgb(55, 184, 120)",
          "size": 6,
          "symbol": "circle"
         },
         "mode": "markers",
         "text": "hypothetical protein",
         "type": "scatter3d",
         "x": [
          0.0723231559538183
         ],
         "y": [
          0.032015143955397375
         ],
         "z": [
          -0.05975282919387006
         ]
        },
        {
         "customdata": [
          [
           "P-loop containing nucleoside triphosphate hydrolase protein",
           null,
           "Eukaryota",
           "Fungi",
           "Ascomycota",
           "Sordariomycetes",
           "Xylariales",
           "Microdochiaceae",
           "Microdochium",
           "Microdochium bolleyi",
           null,
           null,
           "196109",
           0.0005786507088049243,
           0.03727532953967133,
           0.060748118456133,
           -0.019323843094746128
          ]
         ],
         "hovertemplate": "<b>%{customdata[0]}</b><br>Family Name: %{customdata[1]}<br>Domain: %{customdata[2]}<br>Kingdom: %{customdata[3]}</b><br>Phylum: %{customdata[4]}<br>Class: %{customdata[5]}<br>Order: %{customdata[6]}<br>Family: %{customdata[7]}<br>Genus: %{customdata[8]}<br>Species: %{customdata[9]}<br>EC Number: %{customdata[10]}<br>Mol Weight: %{customdata[11]}<br>Taxonomy ID: %{customdata[12]}<extra></extra>",
         "marker": {
          "color": "rgb(63, 68, 135)",
          "size": 6,
          "symbol": "circle"
         },
         "mode": "markers",
         "text": "P-loop containing nucleoside triphosphate hydrolase protein",
         "type": "scatter3d",
         "x": [
          0.03727532953967133
         ],
         "y": [
          0.060748118456133
         ],
         "z": [
          -0.019323843094746128
         ]
        },
        {
         "customdata": [
          [
           "P-loop containing nucleoside triphosphate hydrolase protein",
           null,
           "Eukaryota",
           "Fungi",
           "Ascomycota",
           "Sordariomycetes",
           "Xylariales",
           "Xylariaceae",
           "Durotheca",
           "Durotheca rogersii",
           null,
           33310,
           "419775",
           0.00007184706353908649,
           0.061770383443486426,
           0.053646919422611794,
           0.004511248388134636
          ]
         ],
         "hovertemplate": "<b>%{customdata[0]}</b><br>Family Name: %{customdata[1]}<br>Domain: %{customdata[2]}<br>Kingdom: %{customdata[3]}</b><br>Phylum: %{customdata[4]}<br>Class: %{customdata[5]}<br>Order: %{customdata[6]}<br>Family: %{customdata[7]}<br>Genus: %{customdata[8]}<br>Species: %{customdata[9]}<br>EC Number: %{customdata[10]}<br>Mol Weight: %{customdata[11]}<br>Taxonomy ID: %{customdata[12]}<extra></extra>",
         "marker": {
          "color": "rgb(133, 211, 73)",
          "size": 6,
          "symbol": "circle"
         },
         "mode": "markers",
         "text": "P-loop containing nucleoside triphosphate hydrolase protein",
         "type": "scatter3d",
         "x": [
          0.061770383443486426
         ],
         "y": [
          0.053646919422611794
         ],
         "z": [
          0.004511248388134636
         ]
        },
        {
         "customdata": [
          [
           "hypothetical protein",
           null,
           "Eukaryota",
           "Fungi",
           "Ascomycota",
           "Eurotiomycetes",
           "Eurotiales",
           "Aspergillaceae",
           "Aspergillus",
           "Aspergillus terreus",
           null,
           null,
           "33178",
           0.0002089888399993542,
           0.046947583261236464,
           0.053748170886938396,
           0.005731780158339344
          ]
         ],
         "hovertemplate": "<b>%{customdata[0]}</b><br>Family Name: %{customdata[1]}<br>Domain: %{customdata[2]}<br>Kingdom: %{customdata[3]}</b><br>Phylum: %{customdata[4]}<br>Class: %{customdata[5]}<br>Order: %{customdata[6]}<br>Family: %{customdata[7]}<br>Genus: %{customdata[8]}<br>Species: %{customdata[9]}<br>EC Number: %{customdata[10]}<br>Mol Weight: %{customdata[11]}<br>Taxonomy ID: %{customdata[12]}<extra></extra>",
         "marker": {
          "color": "rgb(73, 191, 109)",
          "size": 6,
          "symbol": "circle"
         },
         "mode": "markers",
         "text": "hypothetical protein",
         "type": "scatter3d",
         "x": [
          0.046947583261236464
         ],
         "y": [
          0.053748170886938396
         ],
         "z": [
          0.005731780158339344
         ]
        },
        {
         "customdata": [
          [
           "small GTPase",
           null,
           "Eukaryota",
           "Fungi",
           "Ascomycota",
           "Pezizomycetes",
           "Pezizales",
           "Ascobolaceae",
           "Ascobolus",
           "Ascobolus immersus",
           null,
           null,
           "1160509",
           0.00008417524587271857,
           0.07122929216943012,
           0.03403137325307996,
           -0.015738268170943828
          ]
         ],
         "hovertemplate": "<b>%{customdata[0]}</b><br>Family Name: %{customdata[1]}<br>Domain: %{customdata[2]}<br>Kingdom: %{customdata[3]}</b><br>Phylum: %{customdata[4]}<br>Class: %{customdata[5]}<br>Order: %{customdata[6]}<br>Family: %{customdata[7]}<br>Genus: %{customdata[8]}<br>Species: %{customdata[9]}<br>EC Number: %{customdata[10]}<br>Mol Weight: %{customdata[11]}<br>Taxonomy ID: %{customdata[12]}<extra></extra>",
         "marker": {
          "color": "rgb(69, 14, 96)",
          "size": 6,
          "symbol": "circle"
         },
         "mode": "markers",
         "text": "small GTPase",
         "type": "scatter3d",
         "x": [
          0.07122929216943012
         ],
         "y": [
          0.03403137325307996
         ],
         "z": [
          -0.015738268170943828
         ]
        },
        {
         "customdata": [
          [
           "small GTPase",
           null,
           "Eukaryota",
           "Fungi",
           "Ascomycota",
           "Eurotiomycetes",
           "Eurotiales",
           "Aspergillaceae",
           "Aspergillus",
           "Aspergillus candidus",
           null,
           36932,
           "41067",
           0.0010856240692868108,
           0.04561505614920005,
           0.0356293498625075,
           -0.04127104055851599
          ]
         ],
         "hovertemplate": "<b>%{customdata[0]}</b><br>Family Name: %{customdata[1]}<br>Domain: %{customdata[2]}<br>Kingdom: %{customdata[3]}</b><br>Phylum: %{customdata[4]}<br>Class: %{customdata[5]}<br>Order: %{customdata[6]}<br>Family: %{customdata[7]}<br>Genus: %{customdata[8]}<br>Species: %{customdata[9]}<br>EC Number: %{customdata[10]}<br>Mol Weight: %{customdata[11]}<br>Taxonomy ID: %{customdata[12]}<extra></extra>",
         "marker": {
          "color": "rgb(49, 104, 142)",
          "size": 6,
          "symbol": "circle"
         },
         "mode": "markers",
         "text": "small GTPase",
         "type": "scatter3d",
         "x": [
          0.04561505614920005
         ],
         "y": [
          0.0356293498625075
         ],
         "z": [
          -0.04127104055851599
         ]
        },
        {
         "customdata": [
          [
           "P-loop containing nucleoside triphosphate hydrolase protein",
           null,
           "Eukaryota",
           "Fungi",
           "Ascomycota",
           "Sordariomycetes",
           "Sordariales",
           "Chaetomiaceae",
           "Chaetomium",
           "Chaetomium sp. MPI-CAGE-AT-0009",
           null,
           null,
           "2821753",
           0.00013407652892985462,
           0.0371837016808584,
           0.028129854266807513,
           -0.0019414010840656723
          ]
         ],
         "hovertemplate": "<b>%{customdata[0]}</b><br>Family Name: %{customdata[1]}<br>Domain: %{customdata[2]}<br>Kingdom: %{customdata[3]}</b><br>Phylum: %{customdata[4]}<br>Class: %{customdata[5]}<br>Order: %{customdata[6]}<br>Family: %{customdata[7]}<br>Genus: %{customdata[8]}<br>Species: %{customdata[9]}<br>EC Number: %{customdata[10]}<br>Mol Weight: %{customdata[11]}<br>Taxonomy ID: %{customdata[12]}<extra></extra>",
         "marker": {
          "color": "rgb(190, 223, 42)",
          "size": 6,
          "symbol": "circle"
         },
         "mode": "markers",
         "text": "P-loop containing nucleoside triphosphate hydrolase protein",
         "type": "scatter3d",
         "x": [
          0.0371837016808584
         ],
         "y": [
          0.028129854266807513
         ],
         "z": [
          -0.0019414010840656723
         ]
        },
        {
         "customdata": [
          [
           "hypothetical protein",
           null,
           "Eukaryota",
           "Fungi",
           "Ascomycota",
           "Sordariomycetes",
           "Hypocreales",
           "Cordycipitaceae",
           "Cordyceps",
           "Cordyceps sp. RAO-2017",
           null,
           null,
           "2004951",
           0.000011430451493737835,
           0.06856564064055949,
           0.04565252890319467,
           -0.02108940690293987
          ]
         ],
         "hovertemplate": "<b>%{customdata[0]}</b><br>Family Name: %{customdata[1]}<br>Domain: %{customdata[2]}<br>Kingdom: %{customdata[3]}</b><br>Phylum: %{customdata[4]}<br>Class: %{customdata[5]}<br>Order: %{customdata[6]}<br>Family: %{customdata[7]}<br>Genus: %{customdata[8]}<br>Species: %{customdata[9]}<br>EC Number: %{customdata[10]}<br>Mol Weight: %{customdata[11]}<br>Taxonomy ID: %{customdata[12]}<extra></extra>",
         "marker": {
          "color": "rgb(210, 226, 41)",
          "size": 6,
          "symbol": "circle"
         },
         "mode": "markers",
         "text": "hypothetical protein",
         "type": "scatter3d",
         "x": [
          0.06856564064055949
         ],
         "y": [
          0.04565252890319467
         ],
         "z": [
          -0.02108940690293987
         ]
        },
        {
         "customdata": [
          [
           "hypothetical protein",
           null,
           "Eukaryota",
           "Fungi",
           "Ascomycota",
           "Sordariomycetes",
           "Xylariales",
           "Xylariaceae",
           "Xylaria",
           "Xylaria arbuscula",
           null,
           null,
           "114810",
           0.0006746369421251788,
           0.02923924921106858,
           0.04991157599115065,
           -0.0116670838444593
          ]
         ],
         "hovertemplate": "<b>%{customdata[0]}</b><br>Family Name: %{customdata[1]}<br>Domain: %{customdata[2]}<br>Kingdom: %{customdata[3]}</b><br>Phylum: %{customdata[4]}<br>Class: %{customdata[5]}<br>Order: %{customdata[6]}<br>Family: %{customdata[7]}<br>Genus: %{customdata[8]}<br>Species: %{customdata[9]}<br>EC Number: %{customdata[10]}<br>Mol Weight: %{customdata[11]}<br>Taxonomy ID: %{customdata[12]}<extra></extra>",
         "marker": {
          "color": "rgb(124, 209, 79)",
          "size": 6,
          "symbol": "circle"
         },
         "mode": "markers",
         "text": "hypothetical protein",
         "type": "scatter3d",
         "x": [
          0.02923924921106858
         ],
         "y": [
          0.04991157599115065
         ],
         "z": [
          -0.0116670838444593
         ]
        },
        {
         "customdata": [
          [
           "hypothetical protein",
           null,
           "Eukaryota",
           "Fungi",
           "Ascomycota",
           "Sordariomycetes",
           "Hypocreales",
           "Ophiocordycipitaceae",
           "Ophiocordyceps",
           "Ophiocordyceps camponoti-leonardi (nom. inval.)",
           null,
           null,
           "2039875",
           0.00013941103634637522,
           0.06396852313825054,
           0.023627610869565302,
           -0.016764888511381363
          ]
         ],
         "hovertemplate": "<b>%{customdata[0]}</b><br>Family Name: %{customdata[1]}<br>Domain: %{customdata[2]}<br>Kingdom: %{customdata[3]}</b><br>Phylum: %{customdata[4]}<br>Class: %{customdata[5]}<br>Order: %{customdata[6]}<br>Family: %{customdata[7]}<br>Genus: %{customdata[8]}<br>Species: %{customdata[9]}<br>EC Number: %{customdata[10]}<br>Mol Weight: %{customdata[11]}<br>Taxonomy ID: %{customdata[12]}<extra></extra>",
         "marker": {
          "color": "rgb(69, 8, 91)",
          "size": 6,
          "symbol": "circle"
         },
         "mode": "markers",
         "text": "hypothetical protein",
         "type": "scatter3d",
         "x": [
          0.06396852313825054
         ],
         "y": [
          0.023627610869565302
         ],
         "z": [
          -0.016764888511381363
         ]
        },
        {
         "customdata": [
          [
           "uncharacterized protein",
           null,
           "Eukaryota",
           "Fungi",
           "Basidiomycota",
           "Pucciniomycetes",
           "Pucciniales",
           "Melampsoraceae",
           "Melampsora",
           "Melampsora laricis-populina",
           null,
           24426,
           "747676",
           0.0026107360899473107,
           0.02303680702309548,
           0.023337958846463055,
           0.010601156352639848
          ]
         ],
         "hovertemplate": "<b>%{customdata[0]}</b><br>Family Name: %{customdata[1]}<br>Domain: %{customdata[2]}<br>Kingdom: %{customdata[3]}</b><br>Phylum: %{customdata[4]}<br>Class: %{customdata[5]}<br>Order: %{customdata[6]}<br>Family: %{customdata[7]}<br>Genus: %{customdata[8]}<br>Species: %{customdata[9]}<br>EC Number: %{customdata[10]}<br>Mol Weight: %{customdata[11]}<br>Taxonomy ID: %{customdata[12]}<extra></extra>",
         "marker": {
          "color": "rgb(38, 130, 142)",
          "size": 6,
          "symbol": "circle"
         },
         "mode": "markers",
         "text": "uncharacterized protein",
         "type": "scatter3d",
         "x": [
          0.02303680702309548
         ],
         "y": [
          0.023337958846463055
         ],
         "z": [
          0.010601156352639848
         ]
        },
        {
         "customdata": [
          [
           "small GTPase",
           null,
           "Eukaryota",
           "Fungi",
           "Ascomycota",
           "Sordariomycetes",
           "Xylariales",
           "Hypoxylaceae",
           "Hypomontagnella",
           "Hypomontagnella monticulosa",
           null,
           null,
           "2487000",
           0.00001941626138828472,
           0.03635577963074856,
           0.03994149590302861,
           0.005332849654966725
          ]
         ],
         "hovertemplate": "<b>%{customdata[0]}</b><br>Family Name: %{customdata[1]}<br>Domain: %{customdata[2]}<br>Kingdom: %{customdata[3]}</b><br>Phylum: %{customdata[4]}<br>Class: %{customdata[5]}<br>Order: %{customdata[6]}<br>Family: %{customdata[7]}<br>Genus: %{customdata[8]}<br>Species: %{customdata[9]}<br>EC Number: %{customdata[10]}<br>Mol Weight: %{customdata[11]}<br>Taxonomy ID: %{customdata[12]}<extra></extra>",
         "marker": {
          "color": "rgb(166, 219, 52)",
          "size": 6,
          "symbol": "circle"
         },
         "mode": "markers",
         "text": "small GTPase",
         "type": "scatter3d",
         "x": [
          0.03635577963074856
         ],
         "y": [
          0.03994149590302861
         ],
         "z": [
          0.005332849654966725
         ]
        },
        {
         "customdata": [
          [
           "P-loop containing nucleoside triphosphate hydrolase protein",
           null,
           "Eukaryota",
           "Fungi",
           "Ascomycota",
           "Sordariomycetes",
           "Xylariales",
           "Xylariaceae",
           "Xylaria",
           "Xylaria bambusicola",
           null,
           34236,
           "326684",
           0.0000872445780999764,
           0.051735512222209415,
           0.018659726206578853,
           0.004126061539188777
          ]
         ],
         "hovertemplate": "<b>%{customdata[0]}</b><br>Family Name: %{customdata[1]}<br>Domain: %{customdata[2]}<br>Kingdom: %{customdata[3]}</b><br>Phylum: %{customdata[4]}<br>Class: %{customdata[5]}<br>Order: %{customdata[6]}<br>Family: %{customdata[7]}<br>Genus: %{customdata[8]}<br>Species: %{customdata[9]}<br>EC Number: %{customdata[10]}<br>Mol Weight: %{customdata[11]}<br>Taxonomy ID: %{customdata[12]}<extra></extra>",
         "marker": {
          "color": "rgb(79, 193, 106)",
          "size": 6,
          "symbol": "circle"
         },
         "mode": "markers",
         "text": "P-loop containing nucleoside triphosphate hydrolase protein",
         "type": "scatter3d",
         "x": [
          0.051735512222209415
         ],
         "y": [
          0.018659726206578853
         ],
         "z": [
          0.004126061539188777
         ]
        },
        {
         "customdata": [
          [
           "GTPase Spg1",
           null,
           "Eukaryota",
           "Fungi",
           "Zoopagomycota",
           "Entomophthoromycetes",
           "Entomophthorales",
           "Ancylistaceae",
           "Neoconidiobolus",
           "Neoconidiobolus thromboides",
           null,
           null,
           "1314799",
           0,
           -0.19029340725086116,
           -0.07455115123331006,
           0.06978768505391064
          ]
         ],
         "hovertemplate": "<b>%{customdata[0]}</b><br>Family Name: %{customdata[1]}<br>Domain: %{customdata[2]}<br>Kingdom: %{customdata[3]}</b><br>Phylum: %{customdata[4]}<br>Class: %{customdata[5]}<br>Order: %{customdata[6]}<br>Family: %{customdata[7]}<br>Genus: %{customdata[8]}<br>Species: %{customdata[9]}<br>EC Number: %{customdata[10]}<br>Mol Weight: %{customdata[11]}<br>Taxonomy ID: %{customdata[12]}<extra></extra>",
         "marker": {
          "color": "rgb(153, 216, 61)",
          "size": 6,
          "symbol": "circle"
         },
         "mode": "markers",
         "text": "GTPase Spg1",
         "type": "scatter3d",
         "x": [
          -0.19029340725086116
         ],
         "y": [
          -0.07455115123331006
         ],
         "z": [
          0.06978768505391064
         ]
        },
        {
         "customdata": [
          [
           "small GTPase",
           null,
           "Eukaryota",
           "Fungi",
           "Ascomycota",
           "Sordariomycetes",
           "Xylariales",
           "Hypoxylaceae",
           "Hypoxylon",
           "Hypoxylon sp. FL1284",
           null,
           null,
           "2663365",
           0.0003051145554794024,
           0.022807707253902344,
           0.057738498197069006,
           -0.0006305499731962005
          ]
         ],
         "hovertemplate": "<b>%{customdata[0]}</b><br>Family Name: %{customdata[1]}<br>Domain: %{customdata[2]}<br>Kingdom: %{customdata[3]}</b><br>Phylum: %{customdata[4]}<br>Class: %{customdata[5]}<br>Order: %{customdata[6]}<br>Family: %{customdata[7]}<br>Genus: %{customdata[8]}<br>Species: %{customdata[9]}<br>EC Number: %{customdata[10]}<br>Mol Weight: %{customdata[11]}<br>Taxonomy ID: %{customdata[12]}<extra></extra>",
         "marker": {
          "color": "rgb(102, 203, 92)",
          "size": 6,
          "symbol": "circle"
         },
         "mode": "markers",
         "text": "small GTPase",
         "type": "scatter3d",
         "x": [
          0.022807707253902344
         ],
         "y": [
          0.057738498197069006
         ],
         "z": [
          -0.0006305499731962005
         ]
        },
        {
         "customdata": [
          [
           "protein TEM1",
           null,
           "Eukaryota",
           "Fungi",
           "Ascomycota",
           "Sordariomycetes",
           "Hypocreales",
           "Cordycipitaceae",
           "Akanthomyces",
           "Akanthomyces lecanii",
           null,
           null,
           "1081108",
           0.0000672178081822085,
           0.028819970826829876,
           0.06123434494622596,
           -0.01769673206520943
          ]
         ],
         "hovertemplate": "<b>%{customdata[0]}</b><br>Family Name: %{customdata[1]}<br>Domain: %{customdata[2]}<br>Kingdom: %{customdata[3]}</b><br>Phylum: %{customdata[4]}<br>Class: %{customdata[5]}<br>Order: %{customdata[6]}<br>Family: %{customdata[7]}<br>Genus: %{customdata[8]}<br>Species: %{customdata[9]}<br>EC Number: %{customdata[10]}<br>Mol Weight: %{customdata[11]}<br>Taxonomy ID: %{customdata[12]}<extra></extra>",
         "marker": {
          "color": "rgb(70, 45, 123)",
          "size": 6,
          "symbol": "circle"
         },
         "mode": "markers",
         "text": "protein TEM1",
         "type": "scatter3d",
         "x": [
          0.028819970826829876
         ],
         "y": [
          0.06123434494622596
         ],
         "z": [
          -0.01769673206520943
         ]
        },
        {
         "customdata": [
          [
           "P-loop containing nucleoside triphosphate hydrolase protein",
           null,
           "Eukaryota",
           "Fungi",
           "Ascomycota",
           "Sordariomycetes",
           "Xylariales",
           "Xylariaceae",
           null,
           "Xylariaceae sp. AK1471",
           null,
           null,
           "2723393",
           0.00012645603420739546,
           0.05364020778888245,
           0.04273761684553464,
           -0.027547417754871444
          ]
         ],
         "hovertemplate": "<b>%{customdata[0]}</b><br>Family Name: %{customdata[1]}<br>Domain: %{customdata[2]}<br>Kingdom: %{customdata[3]}</b><br>Phylum: %{customdata[4]}<br>Class: %{customdata[5]}<br>Order: %{customdata[6]}<br>Family: %{customdata[7]}<br>Genus: %{customdata[8]}<br>Species: %{customdata[9]}<br>EC Number: %{customdata[10]}<br>Mol Weight: %{customdata[11]}<br>Taxonomy ID: %{customdata[12]}<extra></extra>",
         "marker": {
          "color": "rgb(57, 84, 139)",
          "size": 6,
          "symbol": "circle"
         },
         "mode": "markers",
         "text": "P-loop containing nucleoside triphosphate hydrolase protein",
         "type": "scatter3d",
         "x": [
          0.05364020778888245
         ],
         "y": [
          0.04273761684553464
         ],
         "z": [
          -0.027547417754871444
         ]
        },
        {
         "customdata": [
          [
           "P-loop containing nucleoside triphosphate hydrolase protein",
           null,
           "Eukaryota",
           "Fungi",
           "Ascomycota",
           "Sordariomycetes",
           "Xylariales",
           "Xylariaceae",
           "Xylaria",
           "Xylaria sp. FL0043",
           null,
           null,
           "2614587",
           0.00037583303100174263,
           0.02974318809290414,
           0.024954980384786777,
           -0.0008036165533597305
          ]
         ],
         "hovertemplate": "<b>%{customdata[0]}</b><br>Family Name: %{customdata[1]}<br>Domain: %{customdata[2]}<br>Kingdom: %{customdata[3]}</b><br>Phylum: %{customdata[4]}<br>Class: %{customdata[5]}<br>Order: %{customdata[6]}<br>Family: %{customdata[7]}<br>Genus: %{customdata[8]}<br>Species: %{customdata[9]}<br>EC Number: %{customdata[10]}<br>Mol Weight: %{customdata[11]}<br>Taxonomy ID: %{customdata[12]}<extra></extra>",
         "marker": {
          "color": "rgb(43, 119, 142)",
          "size": 6,
          "symbol": "circle"
         },
         "mode": "markers",
         "text": "P-loop containing nucleoside triphosphate hydrolase protein",
         "type": "scatter3d",
         "x": [
          0.02974318809290414
         ],
         "y": [
          0.024954980384786777
         ],
         "z": [
          -0.0008036165533597305
         ]
        },
        {
         "customdata": [
          [
           "putative GTP binding protein",
           null,
           "Eukaryota",
           "Fungi",
           "Ascomycota",
           "Sordariomycetes",
           "Hypocreales",
           null,
           "Emericellopsis",
           "Emericellopsis atlantica",
           null,
           33574,
           "2614577",
           0.0002618936686888916,
           0.027145761752737228,
           0.046658564065490356,
           -0.03223349903472913
          ]
         ],
         "hovertemplate": "<b>%{customdata[0]}</b><br>Family Name: %{customdata[1]}<br>Domain: %{customdata[2]}<br>Kingdom: %{customdata[3]}</b><br>Phylum: %{customdata[4]}<br>Class: %{customdata[5]}<br>Order: %{customdata[6]}<br>Family: %{customdata[7]}<br>Genus: %{customdata[8]}<br>Species: %{customdata[9]}<br>EC Number: %{customdata[10]}<br>Mol Weight: %{customdata[11]}<br>Taxonomy ID: %{customdata[12]}<extra></extra>",
         "marker": {
          "color": "rgb(70, 47, 124)",
          "size": 6,
          "symbol": "circle"
         },
         "mode": "markers",
         "text": "putative GTP binding protein",
         "type": "scatter3d",
         "x": [
          0.027145761752737228
         ],
         "y": [
          0.046658564065490356
         ],
         "z": [
          -0.03223349903472913
         ]
        },
        {
         "customdata": [
          [
           "small GTPase",
           null,
           "Eukaryota",
           "Fungi",
           "Basidiomycota",
           "Exobasidiomycetes",
           "Exobasidiales",
           "Cryptobasidiaceae",
           "Acaromyces",
           "Acaromyces ingoldii",
           null,
           25375,
           "215250",
           0.00019253612604941249,
           0.009784050770277698,
           0.035083702834825786,
           -0.050876491586193874
          ]
         ],
         "hovertemplate": "<b>%{customdata[0]}</b><br>Family Name: %{customdata[1]}<br>Domain: %{customdata[2]}<br>Kingdom: %{customdata[3]}</b><br>Phylum: %{customdata[4]}<br>Class: %{customdata[5]}<br>Order: %{customdata[6]}<br>Family: %{customdata[7]}<br>Genus: %{customdata[8]}<br>Species: %{customdata[9]}<br>EC Number: %{customdata[10]}<br>Mol Weight: %{customdata[11]}<br>Taxonomy ID: %{customdata[12]}<extra></extra>",
         "marker": {
          "color": "rgb(108, 205, 89)",
          "size": 6,
          "symbol": "circle"
         },
         "mode": "markers",
         "text": "small GTPase",
         "type": "scatter3d",
         "x": [
          0.009784050770277698
         ],
         "y": [
          0.035083702834825786
         ],
         "z": [
          -0.050876491586193874
         ]
        },
        {
         "customdata": [
          [
           "P-loop containing nucleoside triphosphate hydrolase protein",
           null,
           "Eukaryota",
           "Fungi",
           "Ascomycota",
           "Sordariomycetes",
           "Xylariales",
           "Xylariaceae",
           "Xylaria",
           "Xylaria scruposa",
           null,
           null,
           "743287",
           0.0006746369421251788,
           0.03120459950143102,
           0.04751355413756154,
           -0.0032538981310382374
          ]
         ],
         "hovertemplate": "<b>%{customdata[0]}</b><br>Family Name: %{customdata[1]}<br>Domain: %{customdata[2]}<br>Kingdom: %{customdata[3]}</b><br>Phylum: %{customdata[4]}<br>Class: %{customdata[5]}<br>Order: %{customdata[6]}<br>Family: %{customdata[7]}<br>Genus: %{customdata[8]}<br>Species: %{customdata[9]}<br>EC Number: %{customdata[10]}<br>Mol Weight: %{customdata[11]}<br>Taxonomy ID: %{customdata[12]}<extra></extra>",
         "marker": {
          "color": "rgb(63, 70, 135)",
          "size": 6,
          "symbol": "circle"
         },
         "mode": "markers",
         "text": "P-loop containing nucleoside triphosphate hydrolase protein",
         "type": "scatter3d",
         "x": [
          0.03120459950143102
         ],
         "y": [
          0.04751355413756154
         ],
         "z": [
          -0.0032538981310382374
         ]
        },
        {
         "customdata": [
          [
           "DEBR0S2_14884g1_1",
           null,
           "Eukaryota",
           "Fungi",
           "Ascomycota",
           "Saccharomycetes",
           "Saccharomycetales",
           "Pichiaceae",
           "Brettanomyces",
           "Brettanomyces bruxellensis",
           null,
           null,
           "5007",
           0.03844221105527639,
           0.16065211170673457,
           0.06280675435852814,
           -0.09969049041796027
          ]
         ],
         "hovertemplate": "<b>%{customdata[0]}</b><br>Family Name: %{customdata[1]}<br>Domain: %{customdata[2]}<br>Kingdom: %{customdata[3]}</b><br>Phylum: %{customdata[4]}<br>Class: %{customdata[5]}<br>Order: %{customdata[6]}<br>Family: %{customdata[7]}<br>Genus: %{customdata[8]}<br>Species: %{customdata[9]}<br>EC Number: %{customdata[10]}<br>Mol Weight: %{customdata[11]}<br>Taxonomy ID: %{customdata[12]}<extra></extra>",
         "marker": {
          "color": "rgb(110, 206, 88)",
          "size": 6,
          "symbol": "circle"
         },
         "mode": "markers",
         "text": "DEBR0S2_14884g1_1",
         "type": "scatter3d",
         "x": [
          0.16065211170673457
         ],
         "y": [
          0.06280675435852814
         ],
         "z": [
          -0.09969049041796027
         ]
        },
        {
         "customdata": [
          [
           "P-loop containing nucleoside triphosphate hydrolase protein",
           null,
           "Eukaryota",
           "Fungi",
           "Chytridiomycota",
           "Chytridiomycetes",
           "Spizellomycetales",
           "Powellomycetaceae",
           "Fimicolochytrium",
           "Fimicolochytrium jonesii",
           null,
           27570,
           "1396493",
           0.008425988627621353,
           0.00929982782490664,
           0.02124170135197589,
           0.00023307146554922125
          ]
         ],
         "hovertemplate": "<b>%{customdata[0]}</b><br>Family Name: %{customdata[1]}<br>Domain: %{customdata[2]}<br>Kingdom: %{customdata[3]}</b><br>Phylum: %{customdata[4]}<br>Class: %{customdata[5]}<br>Order: %{customdata[6]}<br>Family: %{customdata[7]}<br>Genus: %{customdata[8]}<br>Species: %{customdata[9]}<br>EC Number: %{customdata[10]}<br>Mol Weight: %{customdata[11]}<br>Taxonomy ID: %{customdata[12]}<extra></extra>",
         "marker": {
          "color": "rgb(137, 212, 71)",
          "size": 6,
          "symbol": "circle"
         },
         "mode": "markers",
         "text": "P-loop containing nucleoside triphosphate hydrolase protein",
         "type": "scatter3d",
         "x": [
          0.00929982782490664
         ],
         "y": [
          0.02124170135197589
         ],
         "z": [
          0.00023307146554922125
         ]
        },
        {
         "customdata": [
          [
           "hypothetical protein",
           null,
           "Eukaryota",
           "Fungi",
           "Ascomycota",
           "Sordariomycetes",
           "Hypocreales",
           "Ophiocordycipitaceae",
           "Ophiocordyceps",
           "Ophiocordyceps camponoti-saundersi (nom. inval.)",
           null,
           null,
           "2039874",
           0.00012504542046523843,
           0.022892365644135985,
           0.05293390679186802,
           -0.03342554920451922
          ]
         ],
         "hovertemplate": "<b>%{customdata[0]}</b><br>Family Name: %{customdata[1]}<br>Domain: %{customdata[2]}<br>Kingdom: %{customdata[3]}</b><br>Phylum: %{customdata[4]}<br>Class: %{customdata[5]}<br>Order: %{customdata[6]}<br>Family: %{customdata[7]}<br>Genus: %{customdata[8]}<br>Species: %{customdata[9]}<br>EC Number: %{customdata[10]}<br>Mol Weight: %{customdata[11]}<br>Taxonomy ID: %{customdata[12]}<extra></extra>",
         "marker": {
          "color": "rgb(35, 141, 140)",
          "size": 6,
          "symbol": "circle"
         },
         "mode": "markers",
         "text": "hypothetical protein",
         "type": "scatter3d",
         "x": [
          0.022892365644135985
         ],
         "y": [
          0.05293390679186802
         ],
         "z": [
          -0.03342554920451922
         ]
        },
        {
         "customdata": [
          [
           "small GTPase",
           null,
           "Eukaryota",
           "Fungi",
           "Ascomycota",
           "Sordariomycetes",
           "Xylariales",
           "Hypoxylaceae",
           "Daldinia",
           "Daldinia caldariorum",
           null,
           34167,
           "326644",
           0.0003165994178362532,
           0.05364372582885222,
           0.025079226192628354,
           -0.024108938636423754
          ]
         ],
         "hovertemplate": "<b>%{customdata[0]}</b><br>Family Name: %{customdata[1]}<br>Domain: %{customdata[2]}<br>Kingdom: %{customdata[3]}</b><br>Phylum: %{customdata[4]}<br>Class: %{customdata[5]}<br>Order: %{customdata[6]}<br>Family: %{customdata[7]}<br>Genus: %{customdata[8]}<br>Species: %{customdata[9]}<br>EC Number: %{customdata[10]}<br>Mol Weight: %{customdata[11]}<br>Taxonomy ID: %{customdata[12]}<extra></extra>",
         "marker": {
          "color": "rgb(49, 178, 124)",
          "size": 6,
          "symbol": "circle"
         },
         "mode": "markers",
         "text": "small GTPase",
         "type": "scatter3d",
         "x": [
          0.05364372582885222
         ],
         "y": [
          0.025079226192628354
         ],
         "z": [
          -0.024108938636423754
         ]
        },
        {
         "customdata": [
          [
           "small GTPase",
           null,
           "Eukaryota",
           "Fungi",
           "Ascomycota",
           "Sordariomycetes",
           "Xylariales",
           "Hypoxylaceae",
           "Daldinia",
           "Daldinia sp. FL1419",
           null,
           null,
           "2614575",
           0.000037416143749260314,
           0.04813558759545561,
           0.06519394487045217,
           -0.009163712237970963
          ]
         ],
         "hovertemplate": "<b>%{customdata[0]}</b><br>Family Name: %{customdata[1]}<br>Domain: %{customdata[2]}<br>Kingdom: %{customdata[3]}</b><br>Phylum: %{customdata[4]}<br>Class: %{customdata[5]}<br>Order: %{customdata[6]}<br>Family: %{customdata[7]}<br>Genus: %{customdata[8]}<br>Species: %{customdata[9]}<br>EC Number: %{customdata[10]}<br>Mol Weight: %{customdata[11]}<br>Taxonomy ID: %{customdata[12]}<extra></extra>",
         "marker": {
          "color": "rgb(68, 5, 87)",
          "size": 6,
          "symbol": "circle"
         },
         "mode": "markers",
         "text": "small GTPase",
         "type": "scatter3d",
         "x": [
          0.04813558759545561
         ],
         "y": [
          0.06519394487045217
         ],
         "z": [
          -0.009163712237970963
         ]
        },
        {
         "customdata": [
          [
           "unnamed protein product",
           null,
           "Eukaryota",
           "Fungi",
           "Ascomycota",
           "Pezizomycetes",
           "Pezizales",
           "Tuberaceae",
           "Tuber",
           "Tuber aestivum",
           null,
           null,
           "59557",
           0.0007387563886011929,
           0.023188706207973635,
           0.060271629823878535,
           -0.035002153252519326
          ]
         ],
         "hovertemplate": "<b>%{customdata[0]}</b><br>Family Name: %{customdata[1]}<br>Domain: %{customdata[2]}<br>Kingdom: %{customdata[3]}</b><br>Phylum: %{customdata[4]}<br>Class: %{customdata[5]}<br>Order: %{customdata[6]}<br>Family: %{customdata[7]}<br>Genus: %{customdata[8]}<br>Species: %{customdata[9]}<br>EC Number: %{customdata[10]}<br>Mol Weight: %{customdata[11]}<br>Taxonomy ID: %{customdata[12]}<extra></extra>",
         "marker": {
          "color": "rgb(44, 115, 142)",
          "size": 6,
          "symbol": "circle"
         },
         "mode": "markers",
         "text": "unnamed protein product",
         "type": "scatter3d",
         "x": [
          0.023188706207973635
         ],
         "y": [
          0.060271629823878535
         ],
         "z": [
          -0.035002153252519326
         ]
        },
        {
         "customdata": [
          [
           "GTP binding protein (SPG1), putative",
           null,
           "Eukaryota",
           "Fungi",
           "Ascomycota",
           "Eurotiomycetes",
           "Eurotiales",
           "Aspergillaceae",
           "Aspergillus",
           "Aspergillus clavatus",
           null,
           35468,
           "344612",
           0.0004501934673726859,
           0.04605189941759289,
           0.040912548228263616,
           -0.04087355334798459
          ]
         ],
         "hovertemplate": "<b>%{customdata[0]}</b><br>Family Name: %{customdata[1]}<br>Domain: %{customdata[2]}<br>Kingdom: %{customdata[3]}</b><br>Phylum: %{customdata[4]}<br>Class: %{customdata[5]}<br>Order: %{customdata[6]}<br>Family: %{customdata[7]}<br>Genus: %{customdata[8]}<br>Species: %{customdata[9]}<br>EC Number: %{customdata[10]}<br>Mol Weight: %{customdata[11]}<br>Taxonomy ID: %{customdata[12]}<extra></extra>",
         "marker": {
          "color": "rgb(48, 107, 142)",
          "size": 6,
          "symbol": "circle"
         },
         "mode": "markers",
         "text": "GTP binding protein (SPG1), putative",
         "type": "scatter3d",
         "x": [
          0.04605189941759289
         ],
         "y": [
          0.040912548228263616
         ],
         "z": [
          -0.04087355334798459
         ]
        },
        {
         "customdata": [
          [
           "P-loop containing nucleoside triphosphate hydrolase protein",
           null,
           "Eukaryota",
           "Fungi",
           "Ascomycota",
           "Sordariomycetes",
           "Xylariales",
           "Xylariaceae",
           "Xylaria",
           "Xylaria grammica",
           null,
           null,
           "363999",
           0.00008242780022725782,
           0.045318835639799965,
           0.059650902893576385,
           -0.017078685694349994
          ]
         ],
         "hovertemplate": "<b>%{customdata[0]}</b><br>Family Name: %{customdata[1]}<br>Domain: %{customdata[2]}<br>Kingdom: %{customdata[3]}</b><br>Phylum: %{customdata[4]}<br>Class: %{customdata[5]}<br>Order: %{customdata[6]}<br>Family: %{customdata[7]}<br>Genus: %{customdata[8]}<br>Species: %{customdata[9]}<br>EC Number: %{customdata[10]}<br>Mol Weight: %{customdata[11]}<br>Taxonomy ID: %{customdata[12]}<extra></extra>",
         "marker": {
          "color": "rgb(71, 32, 112)",
          "size": 6,
          "symbol": "circle"
         },
         "mode": "markers",
         "text": "P-loop containing nucleoside triphosphate hydrolase protein",
         "type": "scatter3d",
         "x": [
          0.045318835639799965
         ],
         "y": [
          0.059650902893576385
         ],
         "z": [
          -0.017078685694349994
         ]
        },
        {
         "customdata": [
          [
           "putative septum-promoting GTP-binding protein",
           null,
           "Eukaryota",
           "Fungi",
           "Ascomycota",
           "Pezizomycetes",
           "Pezizales",
           "Pyronemataceae",
           "Pyronema",
           "Pyronema omphalodes",
           null,
           null,
           "337075",
           0.002247460191613495,
           0.030083622313427674,
           0.01056221388712022,
           -0.008396600272424278
          ]
         ],
         "hovertemplate": "<b>%{customdata[0]}</b><br>Family Name: %{customdata[1]}<br>Domain: %{customdata[2]}<br>Kingdom: %{customdata[3]}</b><br>Phylum: %{customdata[4]}<br>Class: %{customdata[5]}<br>Order: %{customdata[6]}<br>Family: %{customdata[7]}<br>Genus: %{customdata[8]}<br>Species: %{customdata[9]}<br>EC Number: %{customdata[10]}<br>Mol Weight: %{customdata[11]}<br>Taxonomy ID: %{customdata[12]}<extra></extra>",
         "marker": {
          "color": "rgb(71, 44, 122)",
          "size": 6,
          "symbol": "circle"
         },
         "mode": "markers",
         "text": "putative septum-promoting GTP-binding protein",
         "type": "scatter3d",
         "x": [
          0.030083622313427674
         ],
         "y": [
          0.01056221388712022
         ],
         "z": [
          -0.008396600272424278
         ]
        },
        {
         "customdata": [
          [
           "protein TEM1",
           null,
           "Eukaryota",
           "Fungi",
           "Ascomycota",
           "Sordariomycetes",
           "Hypocreales",
           "Ophiocordycipitaceae",
           "Ophiocordyceps",
           "Ophiocordyceps sinensis",
           null,
           null,
           "911162",
           0.00041718296896391924,
           0.038333802942334114,
           0.01991459135636395,
           -0.01732657431018719
          ]
         ],
         "hovertemplate": "<b>%{customdata[0]}</b><br>Family Name: %{customdata[1]}<br>Domain: %{customdata[2]}<br>Kingdom: %{customdata[3]}</b><br>Phylum: %{customdata[4]}<br>Class: %{customdata[5]}<br>Order: %{customdata[6]}<br>Family: %{customdata[7]}<br>Genus: %{customdata[8]}<br>Species: %{customdata[9]}<br>EC Number: %{customdata[10]}<br>Mol Weight: %{customdata[11]}<br>Taxonomy ID: %{customdata[12]}<extra></extra>",
         "marker": {
          "color": "rgb(71, 26, 107)",
          "size": 6,
          "symbol": "circle"
         },
         "mode": "markers",
         "text": "protein TEM1",
         "type": "scatter3d",
         "x": [
          0.038333802942334114
         ],
         "y": [
          0.01991459135636395
         ],
         "z": [
          -0.01732657431018719
         ]
        },
        {
         "customdata": [
          [
           "hypothetical protein",
           null,
           "Eukaryota",
           "Fungi",
           "Ascomycota",
           "Lecanoromycetes",
           "Ostropales",
           "Graphidaceae",
           "Diploschistes",
           "Diploschistes diacapsis",
           null,
           null,
           "150877",
           0.000636271837361473,
           0.03403606470177346,
           0.04279618228501477,
           -0.03754815762920744
          ]
         ],
         "hovertemplate": "<b>%{customdata[0]}</b><br>Family Name: %{customdata[1]}<br>Domain: %{customdata[2]}<br>Kingdom: %{customdata[3]}</b><br>Phylum: %{customdata[4]}<br>Class: %{customdata[5]}<br>Order: %{customdata[6]}<br>Family: %{customdata[7]}<br>Genus: %{customdata[8]}<br>Species: %{customdata[9]}<br>EC Number: %{customdata[10]}<br>Mol Weight: %{customdata[11]}<br>Taxonomy ID: %{customdata[12]}<extra></extra>",
         "marker": {
          "color": "rgb(61, 76, 137)",
          "size": 6,
          "symbol": "circle"
         },
         "mode": "markers",
         "text": "hypothetical protein",
         "type": "scatter3d",
         "x": [
          0.03403606470177346
         ],
         "y": [
          0.04279618228501477
         ],
         "z": [
          -0.03754815762920744
         ]
        },
        {
         "customdata": [
          [
           "P-loop containing nucleoside triphosphate hydrolase protein",
           null,
           "Eukaryota",
           "Fungi",
           "Ascomycota",
           "Sordariomycetes",
           "Xylariales",
           "Xylariaceae",
           "Xylaria",
           "Xylaria arbuscula",
           null,
           null,
           "114810",
           0.00037143808861604406,
           0.026693508276944604,
           0.03939372684083435,
           0.008476403658968918
          ]
         ],
         "hovertemplate": "<b>%{customdata[0]}</b><br>Family Name: %{customdata[1]}<br>Domain: %{customdata[2]}<br>Kingdom: %{customdata[3]}</b><br>Phylum: %{customdata[4]}<br>Class: %{customdata[5]}<br>Order: %{customdata[6]}<br>Family: %{customdata[7]}<br>Genus: %{customdata[8]}<br>Species: %{customdata[9]}<br>EC Number: %{customdata[10]}<br>Mol Weight: %{customdata[11]}<br>Taxonomy ID: %{customdata[12]}<extra></extra>",
         "marker": {
          "color": "rgb(124, 209, 79)",
          "size": 6,
          "symbol": "circle"
         },
         "mode": "markers",
         "text": "P-loop containing nucleoside triphosphate hydrolase protein",
         "type": "scatter3d",
         "x": [
          0.026693508276944604
         ],
         "y": [
          0.03939372684083435
         ],
         "z": [
          0.008476403658968918
         ]
        },
        {
         "customdata": [
          [
           "P-loop containing nucleoside triphosphate hydrolase protein",
           null,
           "Eukaryota",
           "Fungi",
           "Ascomycota",
           "Eurotiomycetes",
           "Eurotiales",
           "Aspergillaceae",
           "Aspergillus",
           "Aspergillus pseudotamarii",
           null,
           33809,
           "132259",
           0.00020740454680000337,
           0.04711603996572001,
           0.0165078192509031,
           -0.03372115349154572
          ]
         ],
         "hovertemplate": "<b>%{customdata[0]}</b><br>Family Name: %{customdata[1]}<br>Domain: %{customdata[2]}<br>Kingdom: %{customdata[3]}</b><br>Phylum: %{customdata[4]}<br>Class: %{customdata[5]}<br>Order: %{customdata[6]}<br>Family: %{customdata[7]}<br>Genus: %{customdata[8]}<br>Species: %{customdata[9]}<br>EC Number: %{customdata[10]}<br>Mol Weight: %{customdata[11]}<br>Taxonomy ID: %{customdata[12]}<extra></extra>",
         "marker": {
          "color": "rgb(69, 15, 97)",
          "size": 6,
          "symbol": "circle"
         },
         "mode": "markers",
         "text": "P-loop containing nucleoside triphosphate hydrolase protein",
         "type": "scatter3d",
         "x": [
          0.04711603996572001
         ],
         "y": [
          0.0165078192509031
         ],
         "z": [
          -0.03372115349154572
         ]
        },
        {
         "customdata": [
          [
           "Ras family GTPase TEM1",
           null,
           "Eukaryota",
           "Fungi",
           "Ascomycota",
           "Eurotiomycetes",
           "Eurotiales",
           "Aspergillaceae",
           "Aspergillus",
           "Aspergillus nidulans",
           null,
           35158,
           "227321",
           0.0001592930257795782,
           0.020408552386104662,
           0.0234730355209951,
           -0.014759908320946553
          ]
         ],
         "hovertemplate": "<b>%{customdata[0]}</b><br>Family Name: %{customdata[1]}<br>Domain: %{customdata[2]}<br>Kingdom: %{customdata[3]}</b><br>Phylum: %{customdata[4]}<br>Class: %{customdata[5]}<br>Order: %{customdata[6]}<br>Family: %{customdata[7]}<br>Genus: %{customdata[8]}<br>Species: %{customdata[9]}<br>EC Number: %{customdata[10]}<br>Mol Weight: %{customdata[11]}<br>Taxonomy ID: %{customdata[12]}<extra></extra>",
         "marker": {
          "color": "rgb(57, 185, 118)",
          "size": 6,
          "symbol": "circle"
         },
         "mode": "markers",
         "text": "Ras family GTPase TEM1",
         "type": "scatter3d",
         "x": [
          0.020408552386104662
         ],
         "y": [
          0.0234730355209951
         ],
         "z": [
          -0.014759908320946553
         ]
        },
        {
         "customdata": [
          [
           "GTPase Spg1",
           null,
           "Eukaryota",
           "Fungi",
           "Chytridiomycota",
           "Chytridiomycetes",
           "Spizellomycetales",
           "Spizellomycetaceae",
           "Gaertneriomyces",
           "Gaertneriomyces semiglobifer",
           null,
           null,
           "109897",
           0.0000013073997851409475,
           -0.020239792519876496,
           0.06454900164481069,
           -0.05011426105360105
          ]
         ],
         "hovertemplate": "<b>%{customdata[0]}</b><br>Family Name: %{customdata[1]}<br>Domain: %{customdata[2]}<br>Kingdom: %{customdata[3]}</b><br>Phylum: %{customdata[4]}<br>Class: %{customdata[5]}<br>Order: %{customdata[6]}<br>Family: %{customdata[7]}<br>Genus: %{customdata[8]}<br>Species: %{customdata[9]}<br>EC Number: %{customdata[10]}<br>Mol Weight: %{customdata[11]}<br>Taxonomy ID: %{customdata[12]}<extra></extra>",
         "marker": {
          "color": "rgb(61, 74, 137)",
          "size": 6,
          "symbol": "circle"
         },
         "mode": "markers",
         "text": "GTPase Spg1",
         "type": "scatter3d",
         "x": [
          -0.020239792519876496
         ],
         "y": [
          0.06454900164481069
         ],
         "z": [
          -0.05011426105360105
         ]
        },
        {
         "customdata": [
          [
           "P-loop containing nucleoside triphosphate hydrolase protein",
           null,
           "Eukaryota",
           "Fungi",
           "Ascomycota",
           "Sordariomycetes",
           "Xylariales",
           "Hypoxylaceae",
           "Hypoxylon",
           "Hypoxylon trugodes",
           null,
           33125,
           "326681",
           0.000037416143749260314,
           0.034504556157793444,
           0.01880302910929224,
           -0.022158116591907605
          ]
         ],
         "hovertemplate": "<b>%{customdata[0]}</b><br>Family Name: %{customdata[1]}<br>Domain: %{customdata[2]}<br>Kingdom: %{customdata[3]}</b><br>Phylum: %{customdata[4]}<br>Class: %{customdata[5]}<br>Order: %{customdata[6]}<br>Family: %{customdata[7]}<br>Genus: %{customdata[8]}<br>Species: %{customdata[9]}<br>EC Number: %{customdata[10]}<br>Mol Weight: %{customdata[11]}<br>Taxonomy ID: %{customdata[12]}<extra></extra>",
         "marker": {
          "color": "rgb(52, 181, 122)",
          "size": 6,
          "symbol": "circle"
         },
         "mode": "markers",
         "text": "P-loop containing nucleoside triphosphate hydrolase protein",
         "type": "scatter3d",
         "x": [
          0.034504556157793444
         ],
         "y": [
          0.01880302910929224
         ],
         "z": [
          -0.022158116591907605
         ]
        },
        {
         "customdata": [
          [
           "P-loop containing nucleoside triphosphate hydrolase protein",
           null,
           "Eukaryota",
           "Fungi",
           "Ascomycota",
           "Sordariomycetes",
           "Xylariales",
           "Xylariaceae",
           "Nemania",
           "Nemania sp. FL0031",
           null,
           null,
           "2663370",
           0.0004243097132780775,
           0.037665630131388364,
           0.055388868844107125,
           0.002883100626541067
          ]
         ],
         "hovertemplate": "<b>%{customdata[0]}</b><br>Family Name: %{customdata[1]}<br>Domain: %{customdata[2]}<br>Kingdom: %{customdata[3]}</b><br>Phylum: %{customdata[4]}<br>Class: %{customdata[5]}<br>Order: %{customdata[6]}<br>Family: %{customdata[7]}<br>Genus: %{customdata[8]}<br>Species: %{customdata[9]}<br>EC Number: %{customdata[10]}<br>Mol Weight: %{customdata[11]}<br>Taxonomy ID: %{customdata[12]}<extra></extra>",
         "marker": {
          "color": "rgb(63, 71, 136)",
          "size": 6,
          "symbol": "circle"
         },
         "mode": "markers",
         "text": "P-loop containing nucleoside triphosphate hydrolase protein",
         "type": "scatter3d",
         "x": [
          0.037665630131388364
         ],
         "y": [
          0.055388868844107125
         ],
         "z": [
          0.002883100626541067
         ]
        },
        {
         "customdata": [
          [
           "P-loop containing nucleoside triphosphate hydrolase protein",
           null,
           "Eukaryota",
           "Fungi",
           "Ascomycota",
           "Pezizomycetes",
           "Pezizales",
           "Pyronemataceae",
           "Pyronema",
           "Pyronema domesticum",
           null,
           null,
           "47205",
           0.004990545193018978,
           0.047353080988821634,
           0.028343915867085595,
           -0.030133121957780507
          ]
         ],
         "hovertemplate": "<b>%{customdata[0]}</b><br>Family Name: %{customdata[1]}<br>Domain: %{customdata[2]}<br>Kingdom: %{customdata[3]}</b><br>Phylum: %{customdata[4]}<br>Class: %{customdata[5]}<br>Order: %{customdata[6]}<br>Family: %{customdata[7]}<br>Genus: %{customdata[8]}<br>Species: %{customdata[9]}<br>EC Number: %{customdata[10]}<br>Mol Weight: %{customdata[11]}<br>Taxonomy ID: %{customdata[12]}<extra></extra>",
         "marker": {
          "color": "rgb(41, 170, 129)",
          "size": 6,
          "symbol": "circle"
         },
         "mode": "markers",
         "text": "P-loop containing nucleoside triphosphate hydrolase protein",
         "type": "scatter3d",
         "x": [
          0.047353080988821634
         ],
         "y": [
          0.028343915867085595
         ],
         "z": [
          -0.030133121957780507
         ]
        },
        {
         "customdata": [
          [
           "uncharacterized protein",
           null,
           "Eukaryota",
           "Fungi",
           "Ascomycota",
           "Sordariomycetes",
           null,
           "Thyridiaceae",
           "Thyridium",
           "Thyridium curvatum",
           null,
           33002,
           "1093900",
           0.0002789135753365362,
           0.0225374705760926,
           0.057177435374035995,
           -0.02393388879413138
          ]
         ],
         "hovertemplate": "<b>%{customdata[0]}</b><br>Family Name: %{customdata[1]}<br>Domain: %{customdata[2]}<br>Kingdom: %{customdata[3]}</b><br>Phylum: %{customdata[4]}<br>Class: %{customdata[5]}<br>Order: %{customdata[6]}<br>Family: %{customdata[7]}<br>Genus: %{customdata[8]}<br>Species: %{customdata[9]}<br>EC Number: %{customdata[10]}<br>Mol Weight: %{customdata[11]}<br>Taxonomy ID: %{customdata[12]}<extra></extra>",
         "marker": {
          "color": "rgb(60, 79, 138)",
          "size": 6,
          "symbol": "circle"
         },
         "mode": "markers",
         "text": "uncharacterized protein",
         "type": "scatter3d",
         "x": [
          0.0225374705760926
         ],
         "y": [
          0.057177435374035995
         ],
         "z": [
          -0.02393388879413138
         ]
        },
        {
         "customdata": [
          [
           "septum-promoting GTP-binding protein 1",
           null,
           "Eukaryota",
           "Fungi",
           "Ascomycota",
           "Saccharomycetes",
           "Saccharomycetales",
           "Pichiaceae",
           "Pichia",
           "[Candida] californica",
           null,
           null,
           "460514",
           0,
           0.3184560882830027,
           0.07663739509133304,
           -0.1758954933697322
          ]
         ],
         "hovertemplate": "<b>%{customdata[0]}</b><br>Family Name: %{customdata[1]}<br>Domain: %{customdata[2]}<br>Kingdom: %{customdata[3]}</b><br>Phylum: %{customdata[4]}<br>Class: %{customdata[5]}<br>Order: %{customdata[6]}<br>Family: %{customdata[7]}<br>Genus: %{customdata[8]}<br>Species: %{customdata[9]}<br>EC Number: %{customdata[10]}<br>Mol Weight: %{customdata[11]}<br>Taxonomy ID: %{customdata[12]}<extra></extra>",
         "marker": {
          "color": "rgb(65, 62, 131)",
          "size": 6,
          "symbol": "circle"
         },
         "mode": "markers",
         "text": "septum-promoting GTP-binding protein 1",
         "type": "scatter3d",
         "x": [
          0.3184560882830027
         ],
         "y": [
          0.07663739509133304
         ],
         "z": [
          -0.1758954933697322
         ]
        },
        {
         "customdata": [
          [
           "GTP-binding protein",
           null,
           "Eukaryota",
           "Fungi",
           "Ascomycota",
           "Sordariomycetes",
           "Xylariales",
           "Xylariaceae",
           "Xylaria",
           "Xylaria cubensis",
           null,
           null,
           "114814",
           0.0006746369421251788,
           0.02952421179422181,
           0.06113355375462751,
           -0.003598800712731068
          ]
         ],
         "hovertemplate": "<b>%{customdata[0]}</b><br>Family Name: %{customdata[1]}<br>Domain: %{customdata[2]}<br>Kingdom: %{customdata[3]}</b><br>Phylum: %{customdata[4]}<br>Class: %{customdata[5]}<br>Order: %{customdata[6]}<br>Family: %{customdata[7]}<br>Genus: %{customdata[8]}<br>Species: %{customdata[9]}<br>EC Number: %{customdata[10]}<br>Mol Weight: %{customdata[11]}<br>Taxonomy ID: %{customdata[12]}<extra></extra>",
         "marker": {
          "color": "rgb(62, 73, 137)",
          "size": 6,
          "symbol": "circle"
         },
         "mode": "markers",
         "text": "GTP-binding protein",
         "type": "scatter3d",
         "x": [
          0.02952421179422181
         ],
         "y": [
          0.06113355375462751
         ],
         "z": [
          -0.003598800712731068
         ]
        },
        {
         "customdata": [
          [
           "P-loop containing nucleoside triphosphate hydrolase protein",
           null,
           "Eukaryota",
           "Fungi",
           "Ascomycota",
           "Sordariomycetes",
           "Xylariales",
           "Hypoxylaceae",
           "Annulohypoxylon",
           "Annulohypoxylon bovei",
           null,
           null,
           "326617",
           0.0004205551097096241,
           0.019373307947049816,
           0.02375739425644305,
           -0.022489620770715042
          ]
         ],
         "hovertemplate": "<b>%{customdata[0]}</b><br>Family Name: %{customdata[1]}<br>Domain: %{customdata[2]}<br>Kingdom: %{customdata[3]}</b><br>Phylum: %{customdata[4]}<br>Class: %{customdata[5]}<br>Order: %{customdata[6]}<br>Family: %{customdata[7]}<br>Genus: %{customdata[8]}<br>Species: %{customdata[9]}<br>EC Number: %{customdata[10]}<br>Mol Weight: %{customdata[11]}<br>Taxonomy ID: %{customdata[12]}<extra></extra>",
         "marker": {
          "color": "rgb(71, 190, 111)",
          "size": 6,
          "symbol": "circle"
         },
         "mode": "markers",
         "text": "P-loop containing nucleoside triphosphate hydrolase protein",
         "type": "scatter3d",
         "x": [
          0.019373307947049816
         ],
         "y": [
          0.02375739425644305
         ],
         "z": [
          -0.022489620770715042
         ]
        },
        {
         "customdata": [
          [
           "Septum-promoting GTP-binding protein-like protein",
           null,
           "Eukaryota",
           "Fungi",
           "Ascomycota",
           "Sordariomycetes",
           "Hypocreales",
           null,
           "Emericellopsis",
           "Emericellopsis cladophorae",
           null,
           33640,
           "2686198",
           0.000024736087370047468,
           0.05496635946478218,
           0.06449412634425157,
           -0.011369507172822603
          ]
         ],
         "hovertemplate": "<b>%{customdata[0]}</b><br>Family Name: %{customdata[1]}<br>Domain: %{customdata[2]}<br>Kingdom: %{customdata[3]}</b><br>Phylum: %{customdata[4]}<br>Class: %{customdata[5]}<br>Order: %{customdata[6]}<br>Family: %{customdata[7]}<br>Genus: %{customdata[8]}<br>Species: %{customdata[9]}<br>EC Number: %{customdata[10]}<br>Mol Weight: %{customdata[11]}<br>Taxonomy ID: %{customdata[12]}<extra></extra>",
         "marker": {
          "color": "rgb(33, 152, 138)",
          "size": 6,
          "symbol": "circle"
         },
         "mode": "markers",
         "text": "Septum-promoting GTP-binding protein-like protein",
         "type": "scatter3d",
         "x": [
          0.05496635946478218
         ],
         "y": [
          0.06449412634425157
         ],
         "z": [
          -0.011369507172822603
         ]
        },
        {
         "customdata": [
          [
           "P-loop containing nucleoside triphosphate hydrolase protein",
           null,
           "Eukaryota",
           "Fungi",
           "Ascomycota",
           "Sordariomycetes",
           "Xylariales",
           "Xylariaceae",
           "Xylaria",
           "Xylaria curta",
           null,
           null,
           "42375",
           0.0003806765347762414,
           0.04095979299803374,
           0.04355759678248477,
           0.011666568307376406
          ]
         ],
         "hovertemplate": "<b>%{customdata[0]}</b><br>Family Name: %{customdata[1]}<br>Domain: %{customdata[2]}<br>Kingdom: %{customdata[3]}</b><br>Phylum: %{customdata[4]}<br>Class: %{customdata[5]}<br>Order: %{customdata[6]}<br>Family: %{customdata[7]}<br>Genus: %{customdata[8]}<br>Species: %{customdata[9]}<br>EC Number: %{customdata[10]}<br>Mol Weight: %{customdata[11]}<br>Taxonomy ID: %{customdata[12]}<extra></extra>",
         "marker": {
          "color": "rgb(92, 199, 99)",
          "size": 6,
          "symbol": "circle"
         },
         "mode": "markers",
         "text": "P-loop containing nucleoside triphosphate hydrolase protein",
         "type": "scatter3d",
         "x": [
          0.04095979299803374
         ],
         "y": [
          0.04355759678248477
         ],
         "z": [
          0.011666568307376406
         ]
        },
        {
         "customdata": [
          [
           "hypothetical protein",
           null,
           "Eukaryota",
           "Fungi",
           "Basidiomycota",
           "Pucciniomycetes",
           "Pucciniales",
           "Sphaerophragmiaceae",
           "Austropuccinia",
           "Austropuccinia psidii",
           null,
           null,
           "1389203",
           0.004505780239809547,
           0.004745665202535837,
           0.02654372487956028,
           -0.020126716576915112
          ]
         ],
         "hovertemplate": "<b>%{customdata[0]}</b><br>Family Name: %{customdata[1]}<br>Domain: %{customdata[2]}<br>Kingdom: %{customdata[3]}</b><br>Phylum: %{customdata[4]}<br>Class: %{customdata[5]}<br>Order: %{customdata[6]}<br>Family: %{customdata[7]}<br>Genus: %{customdata[8]}<br>Species: %{customdata[9]}<br>EC Number: %{customdata[10]}<br>Mol Weight: %{customdata[11]}<br>Taxonomy ID: %{customdata[12]}<extra></extra>",
         "marker": {
          "color": "rgb(37, 135, 141)",
          "size": 6,
          "symbol": "circle"
         },
         "mode": "markers",
         "text": "hypothetical protein",
         "type": "scatter3d",
         "x": [
          0.004745665202535837
         ],
         "y": [
          0.02654372487956028
         ],
         "z": [
          -0.020126716576915112
         ]
        },
        {
         "customdata": [
          [
           "GTP-binding protein",
           null,
           "Eukaryota",
           "Fungi",
           "Ascomycota",
           "Sordariomycetes",
           "Xylariales",
           "Xylariaceae",
           null,
           "Xylariaceae sp. FL1651",
           null,
           null,
           "2614592",
           0.001161448794499213,
           0.01804897220489787,
           0.028003469877094834,
           -0.0005795918967158602
          ]
         ],
         "hovertemplate": "<b>%{customdata[0]}</b><br>Family Name: %{customdata[1]}<br>Domain: %{customdata[2]}<br>Kingdom: %{customdata[3]}</b><br>Phylum: %{customdata[4]}<br>Class: %{customdata[5]}<br>Order: %{customdata[6]}<br>Family: %{customdata[7]}<br>Genus: %{customdata[8]}<br>Species: %{customdata[9]}<br>EC Number: %{customdata[10]}<br>Mol Weight: %{customdata[11]}<br>Taxonomy ID: %{customdata[12]}<extra></extra>",
         "marker": {
          "color": "rgb(47, 176, 126)",
          "size": 6,
          "symbol": "circle"
         },
         "mode": "markers",
         "text": "GTP-binding protein",
         "type": "scatter3d",
         "x": [
          0.01804897220489787
         ],
         "y": [
          0.028003469877094834
         ],
         "z": [
          -0.0005795918967158602
         ]
        },
        {
         "customdata": [
          [
           "uncharacterized protein",
           null,
           "Eukaryota",
           "Fungi",
           "Ascomycota",
           "Sordariomycetes",
           "Sordariales",
           "Chaetomiaceae",
           "Thermothielavioides",
           "Thermothielavioides terrestris",
           null,
           37357,
           "578455",
           0.000920092182173997,
           0.03966572120469997,
           0.01147550584613273,
           -0.02391558027694654
          ]
         ],
         "hovertemplate": "<b>%{customdata[0]}</b><br>Family Name: %{customdata[1]}<br>Domain: %{customdata[2]}<br>Kingdom: %{customdata[3]}</b><br>Phylum: %{customdata[4]}<br>Class: %{customdata[5]}<br>Order: %{customdata[6]}<br>Family: %{customdata[7]}<br>Genus: %{customdata[8]}<br>Species: %{customdata[9]}<br>EC Number: %{customdata[10]}<br>Mol Weight: %{customdata[11]}<br>Taxonomy ID: %{customdata[12]}<extra></extra>",
         "marker": {
          "color": "rgb(71, 34, 114)",
          "size": 6,
          "symbol": "circle"
         },
         "mode": "markers",
         "text": "uncharacterized protein",
         "type": "scatter3d",
         "x": [
          0.03966572120469997
         ],
         "y": [
          0.01147550584613273
         ],
         "z": [
          -0.02391558027694654
         ]
        },
        {
         "customdata": [
          [
           "septum-promoting GTP-binding protein 1",
           null,
           "Eukaryota",
           "Fungi",
           "Ascomycota",
           "Sordariomycetes",
           "Chaetosphaeriales",
           "Chaetosphaeriaceae",
           "Thozetella",
           "Thozetella sp. PMI_491",
           null,
           null,
           "1506992",
           0.0005642860429371681,
           0.04168308958736079,
           0.04939871356735123,
           -0.031861098171835245
          ]
         ],
         "hovertemplate": "<b>%{customdata[0]}</b><br>Family Name: %{customdata[1]}<br>Domain: %{customdata[2]}<br>Kingdom: %{customdata[3]}</b><br>Phylum: %{customdata[4]}<br>Class: %{customdata[5]}<br>Order: %{customdata[6]}<br>Family: %{customdata[7]}<br>Genus: %{customdata[8]}<br>Species: %{customdata[9]}<br>EC Number: %{customdata[10]}<br>Mol Weight: %{customdata[11]}<br>Taxonomy ID: %{customdata[12]}<extra></extra>",
         "marker": {
          "color": "rgb(48, 177, 125)",
          "size": 6,
          "symbol": "circle"
         },
         "mode": "markers",
         "text": "septum-promoting GTP-binding protein 1",
         "type": "scatter3d",
         "x": [
          0.04168308958736079
         ],
         "y": [
          0.04939871356735123
         ],
         "z": [
          -0.031861098171835245
         ]
        },
        {
         "customdata": [
          [
           "P-loop containing nucleoside triphosphate hydrolase protein",
           null,
           "Eukaryota",
           "Fungi",
           "Ascomycota",
           "Sordariomycetes",
           "Xylariales",
           "Xylariaceae",
           "Xylaria",
           "Xylaria digitata",
           null,
           null,
           "323540",
           0.00032332885037645025,
           0.027371396007859716,
           0.054189798774318475,
           -0.021200303068124288
          ]
         ],
         "hovertemplate": "<b>%{customdata[0]}</b><br>Family Name: %{customdata[1]}<br>Domain: %{customdata[2]}<br>Kingdom: %{customdata[3]}</b><br>Phylum: %{customdata[4]}<br>Class: %{customdata[5]}<br>Order: %{customdata[6]}<br>Family: %{customdata[7]}<br>Genus: %{customdata[8]}<br>Species: %{customdata[9]}<br>EC Number: %{customdata[10]}<br>Mol Weight: %{customdata[11]}<br>Taxonomy ID: %{customdata[12]}<extra></extra>",
         "marker": {
          "color": "rgb(160, 217, 56)",
          "size": 6,
          "symbol": "circle"
         },
         "mode": "markers",
         "text": "P-loop containing nucleoside triphosphate hydrolase protein",
         "type": "scatter3d",
         "x": [
          0.027371396007859716
         ],
         "y": [
          0.054189798774318475
         ],
         "z": [
          -0.021200303068124288
         ]
        },
        {
         "customdata": [
          [
           "hypothetical protein",
           null,
           "Eukaryota",
           "Fungi",
           "Ascomycota",
           "Saccharomycetes",
           "Saccharomycetales",
           "Pichiaceae",
           "Ogataea",
           "[Candida] boidinii",
           null,
           null,
           "5477",
           0,
           0.320037642054273,
           0.10331385471189375,
           -0.17339487534734227
          ]
         ],
         "hovertemplate": "<b>%{customdata[0]}</b><br>Family Name: %{customdata[1]}<br>Domain: %{customdata[2]}<br>Kingdom: %{customdata[3]}</b><br>Phylum: %{customdata[4]}<br>Class: %{customdata[5]}<br>Order: %{customdata[6]}<br>Family: %{customdata[7]}<br>Genus: %{customdata[8]}<br>Species: %{customdata[9]}<br>EC Number: %{customdata[10]}<br>Mol Weight: %{customdata[11]}<br>Taxonomy ID: %{customdata[12]}<extra></extra>",
         "marker": {
          "color": "rgb(37, 134, 141)",
          "size": 6,
          "symbol": "circle"
         },
         "mode": "markers",
         "text": "hypothetical protein",
         "type": "scatter3d",
         "x": [
          0.320037642054273
         ],
         "y": [
          0.10331385471189375
         ],
         "z": [
          -0.17339487534734227
         ]
        },
        {
         "customdata": [
          [
           "P-loop containing nucleoside triphosphate hydrolase protein",
           null,
           "Eukaryota",
           "Fungi",
           "Mucoromycota",
           "Endogonomycetes",
           "Endogonales",
           "Endogonaceae",
           "Jimgerdemannia",
           "Jimgerdemannia flammicorona",
           null,
           null,
           "994334",
           0,
           0.1354711756919108,
           -0.04119441765694927,
           -0.1602220083539213
          ]
         ],
         "hovertemplate": "<b>%{customdata[0]}</b><br>Family Name: %{customdata[1]}<br>Domain: %{customdata[2]}<br>Kingdom: %{customdata[3]}</b><br>Phylum: %{customdata[4]}<br>Class: %{customdata[5]}<br>Order: %{customdata[6]}<br>Family: %{customdata[7]}<br>Genus: %{customdata[8]}<br>Species: %{customdata[9]}<br>EC Number: %{customdata[10]}<br>Mol Weight: %{customdata[11]}<br>Taxonomy ID: %{customdata[12]}<extra></extra>",
         "marker": {
          "color": "rgb(54, 92, 140)",
          "size": 6,
          "symbol": "circle"
         },
         "mode": "markers",
         "text": "P-loop containing nucleoside triphosphate hydrolase protein",
         "type": "scatter3d",
         "x": [
          0.1354711756919108
         ],
         "y": [
          -0.04119441765694927
         ],
         "z": [
          -0.1602220083539213
         ]
        },
        {
         "customdata": [
          [
           "septum-promoting GTP-binding protein 1",
           null,
           "Eukaryota",
           "Fungi",
           "Chytridiomycota",
           "Chytridiomycetes",
           "Spizellomycetales",
           "Spizellomycetaceae",
           "Spizellomyces",
           "Spizellomyces punctatus",
           null,
           22847,
           "645134",
           0.00595914690464475,
           0.0027666915687570197,
           0.013699716862739112,
           -0.006858253707520448
          ]
         ],
         "hovertemplate": "<b>%{customdata[0]}</b><br>Family Name: %{customdata[1]}<br>Domain: %{customdata[2]}<br>Kingdom: %{customdata[3]}</b><br>Phylum: %{customdata[4]}<br>Class: %{customdata[5]}<br>Order: %{customdata[6]}<br>Family: %{customdata[7]}<br>Genus: %{customdata[8]}<br>Species: %{customdata[9]}<br>EC Number: %{customdata[10]}<br>Mol Weight: %{customdata[11]}<br>Taxonomy ID: %{customdata[12]}<extra></extra>",
         "marker": {
          "color": "rgb(46, 110, 142)",
          "size": 6,
          "symbol": "circle"
         },
         "mode": "markers",
         "text": "septum-promoting GTP-binding protein 1",
         "type": "scatter3d",
         "x": [
          0.0027666915687570197
         ],
         "y": [
          0.013699716862739112
         ],
         "z": [
          -0.006858253707520448
         ]
        },
        {
         "customdata": [
          [
           "Septum-promoting GTP-binding 1",
           null,
           "Eukaryota",
           "Fungi",
           "Ascomycota",
           "Leotiomycetes",
           "Helotiales",
           "Hyphodiscaceae",
           "Hyphodiscus",
           "Hyphodiscus hymeniophilus",
           null,
           null,
           "353542",
           0.0002089888399993542,
           0.038539474228409684,
           0.05183600594638726,
           -0.04043392446744076
          ]
         ],
         "hovertemplate": "<b>%{customdata[0]}</b><br>Family Name: %{customdata[1]}<br>Domain: %{customdata[2]}<br>Kingdom: %{customdata[3]}</b><br>Phylum: %{customdata[4]}<br>Class: %{customdata[5]}<br>Order: %{customdata[6]}<br>Family: %{customdata[7]}<br>Genus: %{customdata[8]}<br>Species: %{customdata[9]}<br>EC Number: %{customdata[10]}<br>Mol Weight: %{customdata[11]}<br>Taxonomy ID: %{customdata[12]}<extra></extra>",
         "marker": {
          "color": "rgb(68, 54, 127)",
          "size": 6,
          "symbol": "circle"
         },
         "mode": "markers",
         "text": "Septum-promoting GTP-binding 1",
         "type": "scatter3d",
         "x": [
          0.038539474228409684
         ],
         "y": [
          0.05183600594638726
         ],
         "z": [
          -0.04043392446744076
         ]
        },
        {
         "customdata": [
          [
           "hypothetical protein",
           null,
           "Eukaryota",
           "Fungi",
           "Mucoromycota",
           "Mucoromycetes",
           "Mucorales",
           "Mucoraceae",
           "Thamnidium",
           "Thamnidium elegans",
           null,
           null,
           "101142",
           0,
           -0.031884649637883886,
           -0.8276226547937708,
           -0.3725147498986961
          ]
         ],
         "hovertemplate": "<b>%{customdata[0]}</b><br>Family Name: %{customdata[1]}<br>Domain: %{customdata[2]}<br>Kingdom: %{customdata[3]}</b><br>Phylum: %{customdata[4]}<br>Class: %{customdata[5]}<br>Order: %{customdata[6]}<br>Family: %{customdata[7]}<br>Genus: %{customdata[8]}<br>Species: %{customdata[9]}<br>EC Number: %{customdata[10]}<br>Mol Weight: %{customdata[11]}<br>Taxonomy ID: %{customdata[12]}<extra></extra>",
         "marker": {
          "color": "rgb(65, 188, 114)",
          "size": 6,
          "symbol": "circle"
         },
         "mode": "markers",
         "text": "hypothetical protein",
         "type": "scatter3d",
         "x": [
          -0.031884649637883886
         ],
         "y": [
          -0.8276226547937708
         ],
         "z": [
          -0.3725147498986961
         ]
        },
        {
         "customdata": [
          [
           "hypothetical protein",
           null,
           "Eukaryota",
           "Fungi",
           "Ascomycota",
           "Sordariomycetes",
           "Xylariales",
           "Hypoxylaceae",
           "Hypoxylon",
           "Hypoxylon sp. CI-4A",
           null,
           null,
           "1001833",
           0.00010542317326430946,
           0.044854133852664964,
           0.058217161188114125,
           -0.034444549242412414
          ]
         ],
         "hovertemplate": "<b>%{customdata[0]}</b><br>Family Name: %{customdata[1]}<br>Domain: %{customdata[2]}<br>Kingdom: %{customdata[3]}</b><br>Phylum: %{customdata[4]}<br>Class: %{customdata[5]}<br>Order: %{customdata[6]}<br>Family: %{customdata[7]}<br>Genus: %{customdata[8]}<br>Species: %{customdata[9]}<br>EC Number: %{customdata[10]}<br>Mol Weight: %{customdata[11]}<br>Taxonomy ID: %{customdata[12]}<extra></extra>",
         "marker": {
          "color": "rgb(117, 208, 84)",
          "size": 6,
          "symbol": "circle"
         },
         "mode": "markers",
         "text": "hypothetical protein",
         "type": "scatter3d",
         "x": [
          0.044854133852664964
         ],
         "y": [
          0.058217161188114125
         ],
         "z": [
          -0.034444549242412414
         ]
        },
        {
         "customdata": [
          [
           "GTP-binding protein",
           null,
           "Eukaryota",
           "Fungi",
           "Ascomycota",
           "Sordariomycetes",
           "Xylariales",
           "Xylariaceae",
           "Nemania",
           "Nemania sp. FL0916",
           null,
           null,
           "2614608",
           0.0004343457984268685,
           0.03787335678423241,
           0.05166253779042407,
           0.0101430519562125
          ]
         ],
         "hovertemplate": "<b>%{customdata[0]}</b><br>Family Name: %{customdata[1]}<br>Domain: %{customdata[2]}<br>Kingdom: %{customdata[3]}</b><br>Phylum: %{customdata[4]}<br>Class: %{customdata[5]}<br>Order: %{customdata[6]}<br>Family: %{customdata[7]}<br>Genus: %{customdata[8]}<br>Species: %{customdata[9]}<br>EC Number: %{customdata[10]}<br>Mol Weight: %{customdata[11]}<br>Taxonomy ID: %{customdata[12]}<extra></extra>",
         "marker": {
          "color": "rgb(36, 139, 140)",
          "size": 6,
          "symbol": "circle"
         },
         "mode": "markers",
         "text": "GTP-binding protein",
         "type": "scatter3d",
         "x": [
          0.03787335678423241
         ],
         "y": [
          0.05166253779042407
         ],
         "z": [
          0.0101430519562125
         ]
        },
        {
         "customdata": [
          [
           "hypothetical protein",
           null,
           "Eukaryota",
           "Fungi",
           "Ascomycota",
           "Saccharomycetes",
           "Saccharomycetales",
           "Pichiaceae",
           "Ogataea",
           "[Candida] boidinii",
           null,
           null,
           "5477",
           0,
           0.3060335861261773,
           0.07894509457285241,
           -0.20225781769828574
          ]
         ],
         "hovertemplate": "<b>%{customdata[0]}</b><br>Family Name: %{customdata[1]}<br>Domain: %{customdata[2]}<br>Kingdom: %{customdata[3]}</b><br>Phylum: %{customdata[4]}<br>Class: %{customdata[5]}<br>Order: %{customdata[6]}<br>Family: %{customdata[7]}<br>Genus: %{customdata[8]}<br>Species: %{customdata[9]}<br>EC Number: %{customdata[10]}<br>Mol Weight: %{customdata[11]}<br>Taxonomy ID: %{customdata[12]}<extra></extra>",
         "marker": {
          "color": "rgb(37, 134, 141)",
          "size": 6,
          "symbol": "circle"
         },
         "mode": "markers",
         "text": "hypothetical protein",
         "type": "scatter3d",
         "x": [
          0.3060335861261773
         ],
         "y": [
          0.07894509457285241
         ],
         "z": [
          -0.20225781769828574
         ]
        },
        {
         "customdata": [
          [
           "P-loop containing nucleoside triphosphate hydrolase protein",
           null,
           "Eukaryota",
           "Fungi",
           "Ascomycota",
           "Sordariomycetes",
           "Xylariales",
           "Hypoxylaceae",
           "Rostrohypoxylon",
           "Rostrohypoxylon terebratum",
           null,
           null,
           "392036",
           0.00011244119828922817,
           0.04384707884468038,
           0.047424847981201515,
           -0.033404878474404175
          ]
         ],
         "hovertemplate": "<b>%{customdata[0]}</b><br>Family Name: %{customdata[1]}<br>Domain: %{customdata[2]}<br>Kingdom: %{customdata[3]}</b><br>Phylum: %{customdata[4]}<br>Class: %{customdata[5]}<br>Order: %{customdata[6]}<br>Family: %{customdata[7]}<br>Genus: %{customdata[8]}<br>Species: %{customdata[9]}<br>EC Number: %{customdata[10]}<br>Mol Weight: %{customdata[11]}<br>Taxonomy ID: %{customdata[12]}<extra></extra>",
         "marker": {
          "color": "rgb(69, 10, 92)",
          "size": 6,
          "symbol": "circle"
         },
         "mode": "markers",
         "text": "P-loop containing nucleoside triphosphate hydrolase protein",
         "type": "scatter3d",
         "x": [
          0.04384707884468038
         ],
         "y": [
          0.047424847981201515
         ],
         "z": [
          -0.033404878474404175
         ]
        },
        {
         "customdata": [
          [
           "hypothetical protein",
           null,
           "Eukaryota",
           "Fungi",
           "Ascomycota",
           "Saccharomycetes",
           "Saccharomycetales",
           "Pichiaceae",
           "Ogataea",
           "[Candida] boidinii",
           null,
           null,
           "5477",
           0,
           0.30525839539618127,
           0.11154070453703384,
           -0.19521627011726514
          ]
         ],
         "hovertemplate": "<b>%{customdata[0]}</b><br>Family Name: %{customdata[1]}<br>Domain: %{customdata[2]}<br>Kingdom: %{customdata[3]}</b><br>Phylum: %{customdata[4]}<br>Class: %{customdata[5]}<br>Order: %{customdata[6]}<br>Family: %{customdata[7]}<br>Genus: %{customdata[8]}<br>Species: %{customdata[9]}<br>EC Number: %{customdata[10]}<br>Mol Weight: %{customdata[11]}<br>Taxonomy ID: %{customdata[12]}<extra></extra>",
         "marker": {
          "color": "rgb(37, 134, 141)",
          "size": 6,
          "symbol": "circle"
         },
         "mode": "markers",
         "text": "hypothetical protein",
         "type": "scatter3d",
         "x": [
          0.30525839539618127
         ],
         "y": [
          0.11154070453703384
         ],
         "z": [
          -0.19521627011726514
         ]
        },
        {
         "customdata": [
          [
           "uncharacterized protein",
           null,
           "Eukaryota",
           "Fungi",
           "Ascomycota",
           "Sordariomycetes",
           "Sordariales",
           "Sordariaceae",
           "Sordaria",
           "Sordaria macrospora",
           null,
           35060,
           "771870",
           0.003774683369451094,
           0.0519143746247171,
           0.06311034393214177,
           -0.029948063362432914
          ]
         ],
         "hovertemplate": "<b>%{customdata[0]}</b><br>Family Name: %{customdata[1]}<br>Domain: %{customdata[2]}<br>Kingdom: %{customdata[3]}</b><br>Phylum: %{customdata[4]}<br>Class: %{customdata[5]}<br>Order: %{customdata[6]}<br>Family: %{customdata[7]}<br>Genus: %{customdata[8]}<br>Species: %{customdata[9]}<br>EC Number: %{customdata[10]}<br>Mol Weight: %{customdata[11]}<br>Taxonomy ID: %{customdata[12]}<extra></extra>",
         "marker": {
          "color": "rgb(72, 35, 116)",
          "size": 6,
          "symbol": "circle"
         },
         "mode": "markers",
         "text": "uncharacterized protein",
         "type": "scatter3d",
         "x": [
          0.0519143746247171
         ],
         "y": [
          0.06311034393214177
         ],
         "z": [
          -0.029948063362432914
         ]
        },
        {
         "customdata": [
          [
           "small GTPase",
           null,
           "Eukaryota",
           "Fungi",
           "Ascomycota",
           "Sordariomycetes",
           "Coniochaetales",
           "Coniochaetaceae",
           "Coniochaeta",
           "Coniochaeta sp. PMI_546",
           null,
           null,
           "1450552",
           0.00021823034298895544,
           0.058646988980702336,
           0.039891464537816876,
           0.004902322244144258
          ]
         ],
         "hovertemplate": "<b>%{customdata[0]}</b><br>Family Name: %{customdata[1]}<br>Domain: %{customdata[2]}<br>Kingdom: %{customdata[3]}</b><br>Phylum: %{customdata[4]}<br>Class: %{customdata[5]}<br>Order: %{customdata[6]}<br>Family: %{customdata[7]}<br>Genus: %{customdata[8]}<br>Species: %{customdata[9]}<br>EC Number: %{customdata[10]}<br>Mol Weight: %{customdata[11]}<br>Taxonomy ID: %{customdata[12]}<extra></extra>",
         "marker": {
          "color": "rgb(55, 90, 140)",
          "size": 6,
          "symbol": "circle"
         },
         "mode": "markers",
         "text": "small GTPase",
         "type": "scatter3d",
         "x": [
          0.058646988980702336
         ],
         "y": [
          0.039891464537816876
         ],
         "z": [
          0.004902322244144258
         ]
        },
        {
         "customdata": [
          [
           "septum-promoting GTP-binding protein 1",
           null,
           "Eukaryota",
           "Fungi",
           "Mucoromycota",
           "Mortierellomycetes",
           "Mortierellales",
           "Mortierellaceae",
           "Mortierella",
           "Mortierella claussenii",
           null,
           null,
           "1343614",
           0.000050065517029058465,
           -0.07003958785771044,
           -0.04018010141769072,
           0.018599993776211705
          ]
         ],
         "hovertemplate": "<b>%{customdata[0]}</b><br>Family Name: %{customdata[1]}<br>Domain: %{customdata[2]}<br>Kingdom: %{customdata[3]}</b><br>Phylum: %{customdata[4]}<br>Class: %{customdata[5]}<br>Order: %{customdata[6]}<br>Family: %{customdata[7]}<br>Genus: %{customdata[8]}<br>Species: %{customdata[9]}<br>EC Number: %{customdata[10]}<br>Mol Weight: %{customdata[11]}<br>Taxonomy ID: %{customdata[12]}<extra></extra>",
         "marker": {
          "color": "rgb(65, 64, 132)",
          "size": 6,
          "symbol": "circle"
         },
         "mode": "markers",
         "text": "septum-promoting GTP-binding protein 1",
         "type": "scatter3d",
         "x": [
          -0.07003958785771044
         ],
         "y": [
          -0.04018010141769072
         ],
         "z": [
          0.018599993776211705
         ]
        },
        {
         "customdata": [
          [
           "small GTPase",
           null,
           "Eukaryota",
           "Fungi",
           "Ascomycota",
           "Sordariomycetes",
           "Xylariales",
           "Hypoxylaceae",
           "Hypoxylon",
           "Hypoxylon cercidicola",
           null,
           null,
           "326656",
           0.00012645603420739546,
           0.026027612562762825,
           0.033777347756152605,
           0.003283760477039386
          ]
         ],
         "hovertemplate": "<b>%{customdata[0]}</b><br>Family Name: %{customdata[1]}<br>Domain: %{customdata[2]}<br>Kingdom: %{customdata[3]}</b><br>Phylum: %{customdata[4]}<br>Class: %{customdata[5]}<br>Order: %{customdata[6]}<br>Family: %{customdata[7]}<br>Genus: %{customdata[8]}<br>Species: %{customdata[9]}<br>EC Number: %{customdata[10]}<br>Mol Weight: %{customdata[11]}<br>Taxonomy ID: %{customdata[12]}<extra></extra>",
         "marker": {
          "color": "rgb(69, 6, 89)",
          "size": 6,
          "symbol": "circle"
         },
         "mode": "markers",
         "text": "small GTPase",
         "type": "scatter3d",
         "x": [
          0.026027612562762825
         ],
         "y": [
          0.033777347756152605
         ],
         "z": [
          0.003283760477039386
         ]
        },
        {
         "customdata": [
          [
           "septum initiation protein sid3",
           null,
           "Eukaryota",
           "Fungi",
           "Ascomycota",
           "Sordariomycetes",
           "Xylariales",
           "Xylariaceae",
           null,
           "Xylariaceae sp. FL0594",
           null,
           null,
           "2614590",
           0.000025881513679577388,
           0.039726990457917374,
           0.03307186912839442,
           0.009850640157713683
          ]
         ],
         "hovertemplate": "<b>%{customdata[0]}</b><br>Family Name: %{customdata[1]}<br>Domain: %{customdata[2]}<br>Kingdom: %{customdata[3]}</b><br>Phylum: %{customdata[4]}<br>Class: %{customdata[5]}<br>Order: %{customdata[6]}<br>Family: %{customdata[7]}<br>Genus: %{customdata[8]}<br>Species: %{customdata[9]}<br>EC Number: %{customdata[10]}<br>Mol Weight: %{customdata[11]}<br>Taxonomy ID: %{customdata[12]}<extra></extra>",
         "marker": {
          "color": "rgb(114, 207, 86)",
          "size": 6,
          "symbol": "circle"
         },
         "mode": "markers",
         "text": "septum initiation protein sid3",
         "type": "scatter3d",
         "x": [
          0.039726990457917374
         ],
         "y": [
          0.03307186912839442
         ],
         "z": [
          0.009850640157713683
         ]
        },
        {
         "customdata": [
          [
           "septum-promoting GTP-binding protein 1",
           null,
           "Eukaryota",
           "Fungi",
           "Chytridiomycota",
           "Chytridiomycetes",
           "Spizellomycetales",
           "Powellomycetaceae",
           "Geranomyces",
           "Geranomyces michiganensis",
           null,
           null,
           "1134077",
           0.00714943406198834,
           0.006156587719010948,
           0.021815746864452357,
           -0.00868199017468195
          ]
         ],
         "hovertemplate": "<b>%{customdata[0]}</b><br>Family Name: %{customdata[1]}<br>Domain: %{customdata[2]}<br>Kingdom: %{customdata[3]}</b><br>Phylum: %{customdata[4]}<br>Class: %{customdata[5]}<br>Order: %{customdata[6]}<br>Family: %{customdata[7]}<br>Genus: %{customdata[8]}<br>Species: %{customdata[9]}<br>EC Number: %{customdata[10]}<br>Mol Weight: %{customdata[11]}<br>Taxonomy ID: %{customdata[12]}<extra></extra>",
         "marker": {
          "color": "rgb(236, 229, 38)",
          "size": 6,
          "symbol": "circle"
         },
         "mode": "markers",
         "text": "septum-promoting GTP-binding protein 1",
         "type": "scatter3d",
         "x": [
          0.006156587719010948
         ],
         "y": [
          0.021815746864452357
         ],
         "z": [
          -0.00868199017468195
         ]
        },
        {
         "customdata": [
          [
           "Ras GTPase tem1",
           null,
           "Eukaryota",
           "Fungi",
           "Ascomycota",
           "Sordariomycetes",
           "Sordariales",
           "Chaetomiaceae",
           "Collariella",
           "Collariella sp. IMI 366227",
           null,
           null,
           "2978359",
           0.00012645603420739546,
           0.050220055992175675,
           0.06088200055142678,
           -0.022718828569036013
          ]
         ],
         "hovertemplate": "<b>%{customdata[0]}</b><br>Family Name: %{customdata[1]}<br>Domain: %{customdata[2]}<br>Kingdom: %{customdata[3]}</b><br>Phylum: %{customdata[4]}<br>Class: %{customdata[5]}<br>Order: %{customdata[6]}<br>Family: %{customdata[7]}<br>Genus: %{customdata[8]}<br>Species: %{customdata[9]}<br>EC Number: %{customdata[10]}<br>Mol Weight: %{customdata[11]}<br>Taxonomy ID: %{customdata[12]}<extra></extra>",
         "marker": {
          "color": "rgb(233, 228, 39)",
          "size": 6,
          "symbol": "circle"
         },
         "mode": "markers",
         "text": "Ras GTPase tem1",
         "type": "scatter3d",
         "x": [
          0.050220055992175675
         ],
         "y": [
          0.06088200055142678
         ],
         "z": [
          -0.022718828569036013
         ]
        },
        {
         "customdata": [
          [
           "ras family domain-containing protein",
           null,
           "Eukaryota",
           "Fungi",
           "Ascomycota",
           "Sordariomycetes",
           "Hypocreales",
           "Ophiocordycipitaceae",
           "Hirsutella",
           "Hirsutella rhossiliensis",
           null,
           36153,
           "111463",
           0.0033809123892541465,
           0.06204964998984571,
           0.03663934203102949,
           -0.029872195074104397
          ]
         ],
         "hovertemplate": "<b>%{customdata[0]}</b><br>Family Name: %{customdata[1]}<br>Domain: %{customdata[2]}<br>Kingdom: %{customdata[3]}</b><br>Phylum: %{customdata[4]}<br>Class: %{customdata[5]}<br>Order: %{customdata[6]}<br>Family: %{customdata[7]}<br>Genus: %{customdata[8]}<br>Species: %{customdata[9]}<br>EC Number: %{customdata[10]}<br>Mol Weight: %{customdata[11]}<br>Taxonomy ID: %{customdata[12]}<extra></extra>",
         "marker": {
          "color": "rgb(46, 112, 142)",
          "size": 6,
          "symbol": "circle"
         },
         "mode": "markers",
         "text": "ras family domain-containing protein",
         "type": "scatter3d",
         "x": [
          0.06204964998984571
         ],
         "y": [
          0.03663934203102949
         ],
         "z": [
          -0.029872195074104397
         ]
        },
        {
         "customdata": [
          [
           "Septum-promoting GTP-binding protein-like protein",
           null,
           "Eukaryota",
           "Fungi",
           "Ascomycota",
           "Sordariomycetes",
           "Hypocreales",
           null,
           "Hapsidospora",
           "Hapsidospora chrysogena",
           null,
           null,
           "857340",
           0.003258766856751718,
           0.06840612154037433,
           0.030555074288327756,
           -0.02405544767024033
          ]
         ],
         "hovertemplate": "<b>%{customdata[0]}</b><br>Family Name: %{customdata[1]}<br>Domain: %{customdata[2]}<br>Kingdom: %{customdata[3]}</b><br>Phylum: %{customdata[4]}<br>Class: %{customdata[5]}<br>Order: %{customdata[6]}<br>Family: %{customdata[7]}<br>Genus: %{customdata[8]}<br>Species: %{customdata[9]}<br>EC Number: %{customdata[10]}<br>Mol Weight: %{customdata[11]}<br>Taxonomy ID: %{customdata[12]}<extra></extra>",
         "marker": {
          "color": "rgb(32, 159, 136)",
          "size": 6,
          "symbol": "circle"
         },
         "mode": "markers",
         "text": "Septum-promoting GTP-binding protein-like protein",
         "type": "scatter3d",
         "x": [
          0.06840612154037433
         ],
         "y": [
          0.030555074288327756
         ],
         "z": [
          -0.02405544767024033
         ]
        },
        {
         "customdata": [
          [
           "P-loop containing nucleoside triphosphate hydrolase protein",
           null,
           "Eukaryota",
           "Fungi",
           "Ascomycota",
           "Sordariomycetes",
           "Xylariales",
           "Xylariaceae",
           null,
           "Xylariaceae sp. FL0016",
           null,
           null,
           "2614588",
           0.00008424809457913853,
           0.03177320780211951,
           0.06594211858516716,
           -0.024083148596789613
          ]
         ],
         "hovertemplate": "<b>%{customdata[0]}</b><br>Family Name: %{customdata[1]}<br>Domain: %{customdata[2]}<br>Kingdom: %{customdata[3]}</b><br>Phylum: %{customdata[4]}<br>Class: %{customdata[5]}<br>Order: %{customdata[6]}<br>Family: %{customdata[7]}<br>Genus: %{customdata[8]}<br>Species: %{customdata[9]}<br>EC Number: %{customdata[10]}<br>Mol Weight: %{customdata[11]}<br>Taxonomy ID: %{customdata[12]}<extra></extra>",
         "marker": {
          "color": "rgb(42, 120, 142)",
          "size": 6,
          "symbol": "circle"
         },
         "mode": "markers",
         "text": "P-loop containing nucleoside triphosphate hydrolase protein",
         "type": "scatter3d",
         "x": [
          0.03177320780211951
         ],
         "y": [
          0.06594211858516716
         ],
         "z": [
          -0.024083148596789613
         ]
        },
        {
         "customdata": [
          [
           "Septum-promoting GTP-binding protein 1",
           null,
           "Eukaryota",
           "Fungi",
           "Ascomycota",
           "Sordariomycetes",
           "Sordariales",
           null,
           "Madurella",
           "Madurella mycetomatis",
           null,
           null,
           "100816",
           0.0003360420999142893,
           0.06267403752126245,
           0.04154096216801924,
           -0.006383876377831337
          ]
         ],
         "hovertemplate": "<b>%{customdata[0]}</b><br>Family Name: %{customdata[1]}<br>Domain: %{customdata[2]}<br>Kingdom: %{customdata[3]}</b><br>Phylum: %{customdata[4]}<br>Class: %{customdata[5]}<br>Order: %{customdata[6]}<br>Family: %{customdata[7]}<br>Genus: %{customdata[8]}<br>Species: %{customdata[9]}<br>EC Number: %{customdata[10]}<br>Mol Weight: %{customdata[11]}<br>Taxonomy ID: %{customdata[12]}<extra></extra>",
         "marker": {
          "color": "rgb(43, 172, 128)",
          "size": 6,
          "symbol": "circle"
         },
         "mode": "markers",
         "text": "Septum-promoting GTP-binding protein 1",
         "type": "scatter3d",
         "x": [
          0.06267403752126245
         ],
         "y": [
          0.04154096216801924
         ],
         "z": [
          -0.006383876377831337
         ]
        },
        {
         "customdata": [
          [
           "P-loop containing nucleoside triphosphate hydrolase protein",
           null,
           "Eukaryota",
           "Fungi",
           "Ascomycota",
           "Pezizomycetes",
           "Pezizales",
           "Pyronemataceae",
           "Tricharina",
           "Tricharina praecox",
           null,
           37262,
           "43433",
           0.004990545193018978,
           0.04036910302246464,
           0.03359988144077807,
           -0.03675663617290752
          ]
         ],
         "hovertemplate": "<b>%{customdata[0]}</b><br>Family Name: %{customdata[1]}<br>Domain: %{customdata[2]}<br>Kingdom: %{customdata[3]}</b><br>Phylum: %{customdata[4]}<br>Class: %{customdata[5]}<br>Order: %{customdata[6]}<br>Family: %{customdata[7]}<br>Genus: %{customdata[8]}<br>Species: %{customdata[9]}<br>EC Number: %{customdata[10]}<br>Mol Weight: %{customdata[11]}<br>Taxonomy ID: %{customdata[12]}<extra></extra>",
         "marker": {
          "color": "rgb(60, 186, 117)",
          "size": 6,
          "symbol": "circle"
         },
         "mode": "markers",
         "text": "P-loop containing nucleoside triphosphate hydrolase protein",
         "type": "scatter3d",
         "x": [
          0.04036910302246464
         ],
         "y": [
          0.03359988144077807
         ],
         "z": [
          -0.03675663617290752
         ]
        },
        {
         "customdata": [
          [
           "uncharacterized protein",
           null,
           "Eukaryota",
           "Fungi",
           "Ascomycota",
           "Sordariomycetes",
           "Sordariales",
           "Chaetomiaceae",
           "Thermothelomyces",
           "Thermothelomyces thermophilus",
           null,
           36296,
           "573729",
           0.0003734522196296599,
           0.044130393003293675,
           0.06374371546233337,
           -0.0007409330824559577
          ]
         ],
         "hovertemplate": "<b>%{customdata[0]}</b><br>Family Name: %{customdata[1]}<br>Domain: %{customdata[2]}<br>Kingdom: %{customdata[3]}</b><br>Phylum: %{customdata[4]}<br>Class: %{customdata[5]}<br>Order: %{customdata[6]}<br>Family: %{customdata[7]}<br>Genus: %{customdata[8]}<br>Species: %{customdata[9]}<br>EC Number: %{customdata[10]}<br>Mol Weight: %{customdata[11]}<br>Taxonomy ID: %{customdata[12]}<extra></extra>",
         "marker": {
          "color": "rgb(51, 99, 141)",
          "size": 6,
          "symbol": "circle"
         },
         "mode": "markers",
         "text": "uncharacterized protein",
         "type": "scatter3d",
         "x": [
          0.044130393003293675
         ],
         "y": [
          0.06374371546233337
         ],
         "z": [
          -0.0007409330824559577
         ]
        },
        {
         "customdata": [
          [
           "hypothetical protein",
           null,
           "Eukaryota",
           "Fungi",
           "Ascomycota",
           "Xylobotryomycetes",
           "Xylobotryales",
           "Cirrosporiaceae",
           "Cirrosporium",
           "Cirrosporium novae-zelandiae",
           null,
           null,
           "1130053",
           0.0006807523557344205,
           0.05497866879662398,
           0.055498556695068126,
           -0.03100864214891001
          ]
         ],
         "hovertemplate": "<b>%{customdata[0]}</b><br>Family Name: %{customdata[1]}<br>Domain: %{customdata[2]}<br>Kingdom: %{customdata[3]}</b><br>Phylum: %{customdata[4]}<br>Class: %{customdata[5]}<br>Order: %{customdata[6]}<br>Family: %{customdata[7]}<br>Genus: %{customdata[8]}<br>Species: %{customdata[9]}<br>EC Number: %{customdata[10]}<br>Mol Weight: %{customdata[11]}<br>Taxonomy ID: %{customdata[12]}<extra></extra>",
         "marker": {
          "color": "rgb(33, 161, 135)",
          "size": 6,
          "symbol": "circle"
         },
         "mode": "markers",
         "text": "hypothetical protein",
         "type": "scatter3d",
         "x": [
          0.05497866879662398
         ],
         "y": [
          0.055498556695068126
         ],
         "z": [
          -0.03100864214891001
         ]
        },
        {
         "customdata": [
          [
           "septum-promoting GTP-binding protein 1",
           null,
           "Eukaryota",
           "Fungi",
           "Basidiomycota",
           "Agaricomycetes",
           "Sebacinales",
           "Serendipitaceae",
           "Serendipita",
           "Serendipita sp. 400",
           null,
           null,
           "2600213",
           0,
           0.18960164340352517,
           -0.07848685109299412,
           -0.049067620872398174
          ]
         ],
         "hovertemplate": "<b>%{customdata[0]}</b><br>Family Name: %{customdata[1]}<br>Domain: %{customdata[2]}<br>Kingdom: %{customdata[3]}</b><br>Phylum: %{customdata[4]}<br>Class: %{customdata[5]}<br>Order: %{customdata[6]}<br>Family: %{customdata[7]}<br>Genus: %{customdata[8]}<br>Species: %{customdata[9]}<br>EC Number: %{customdata[10]}<br>Mol Weight: %{customdata[11]}<br>Taxonomy ID: %{customdata[12]}<extra></extra>",
         "marker": {
          "color": "rgb(47, 108, 142)",
          "size": 6,
          "symbol": "circle"
         },
         "mode": "markers",
         "text": "septum-promoting GTP-binding protein 1",
         "type": "scatter3d",
         "x": [
          0.18960164340352517
         ],
         "y": [
          -0.07848685109299412
         ],
         "z": [
          -0.049067620872398174
         ]
        },
        {
         "customdata": [
          [
           "GTP-binding protein",
           null,
           "Eukaryota",
           "Fungi",
           "Ascomycota",
           "Eurotiomycetes",
           "Eurotiales",
           "Aspergillaceae",
           "Aspergillus",
           "Aspergillus sclerotialis",
           null,
           null,
           "2070753",
           0.00012504542046523843,
           0.029413621684859864,
           0.015275815350020696,
           -0.014661636485092031
          ]
         ],
         "hovertemplate": "<b>%{customdata[0]}</b><br>Family Name: %{customdata[1]}<br>Domain: %{customdata[2]}<br>Kingdom: %{customdata[3]}</b><br>Phylum: %{customdata[4]}<br>Class: %{customdata[5]}<br>Order: %{customdata[6]}<br>Family: %{customdata[7]}<br>Genus: %{customdata[8]}<br>Species: %{customdata[9]}<br>EC Number: %{customdata[10]}<br>Mol Weight: %{customdata[11]}<br>Taxonomy ID: %{customdata[12]}<extra></extra>",
         "marker": {
          "color": "rgb(37, 165, 132)",
          "size": 6,
          "symbol": "circle"
         },
         "mode": "markers",
         "text": "GTP-binding protein",
         "type": "scatter3d",
         "x": [
          0.029413621684859864
         ],
         "y": [
          0.015275815350020696
         ],
         "z": [
          -0.014661636485092031
         ]
        },
        {
         "customdata": [
          [
           "P-loop containing nucleoside triphosphate hydrolase protein",
           null,
           "Eukaryota",
           "Fungi",
           "Ascomycota",
           "Sordariomycetes",
           "Xylariales",
           "Xylariaceae",
           null,
           "Xylariaceae sp. FL0255",
           null,
           null,
           "2614589",
           0.00021823034298895544,
           0.049825991371505715,
           0.04178097984798867,
           0.0077256437391265914
          ]
         ],
         "hovertemplate": "<b>%{customdata[0]}</b><br>Family Name: %{customdata[1]}<br>Domain: %{customdata[2]}<br>Kingdom: %{customdata[3]}</b><br>Phylum: %{customdata[4]}<br>Class: %{customdata[5]}<br>Order: %{customdata[6]}<br>Family: %{customdata[7]}<br>Genus: %{customdata[8]}<br>Species: %{customdata[9]}<br>EC Number: %{customdata[10]}<br>Mol Weight: %{customdata[11]}<br>Taxonomy ID: %{customdata[12]}<extra></extra>",
         "marker": {
          "color": "rgb(41, 124, 142)",
          "size": 6,
          "symbol": "circle"
         },
         "mode": "markers",
         "text": "P-loop containing nucleoside triphosphate hydrolase protein",
         "type": "scatter3d",
         "x": [
          0.049825991371505715
         ],
         "y": [
          0.04178097984798867
         ],
         "z": [
          0.0077256437391265914
         ]
        },
        {
         "customdata": [
          [
           "hypothetical protein",
           null,
           "Eukaryota",
           "Fungi",
           "Ascomycota",
           "Eurotiomycetes",
           "Eurotiales",
           "Aspergillaceae",
           "Monascus",
           "Monascus purpureus",
           null,
           null,
           "5098",
           0.00017011882196853024,
           0.04497380712393925,
           0.022642688057355902,
           -0.004460319890902416
          ]
         ],
         "hovertemplate": "<b>%{customdata[0]}</b><br>Family Name: %{customdata[1]}<br>Domain: %{customdata[2]}<br>Kingdom: %{customdata[3]}</b><br>Phylum: %{customdata[4]}<br>Class: %{customdata[5]}<br>Order: %{customdata[6]}<br>Family: %{customdata[7]}<br>Genus: %{customdata[8]}<br>Species: %{customdata[9]}<br>EC Number: %{customdata[10]}<br>Mol Weight: %{customdata[11]}<br>Taxonomy ID: %{customdata[12]}<extra></extra>",
         "marker": {
          "color": "rgb(70, 25, 106)",
          "size": 6,
          "symbol": "circle"
         },
         "mode": "markers",
         "text": "hypothetical protein",
         "type": "scatter3d",
         "x": [
          0.04497380712393925
         ],
         "y": [
          0.022642688057355902
         ],
         "z": [
          -0.004460319890902416
         ]
        },
        {
         "customdata": [
          [
           "GTP-binding protein",
           null,
           "Eukaryota",
           "Fungi",
           "Ascomycota",
           "Sordariomycetes",
           "Xylariales",
           "Microdochiaceae",
           "Microdochium",
           "Microdochium nivale",
           null,
           null,
           "5520",
           0.0000322160438446586,
           0.04008722314593906,
           0.04212290648320871,
           -0.008292692398426095
          ]
         ],
         "hovertemplate": "<b>%{customdata[0]}</b><br>Family Name: %{customdata[1]}<br>Domain: %{customdata[2]}<br>Kingdom: %{customdata[3]}</b><br>Phylum: %{customdata[4]}<br>Class: %{customdata[5]}<br>Order: %{customdata[6]}<br>Family: %{customdata[7]}<br>Genus: %{customdata[8]}<br>Species: %{customdata[9]}<br>EC Number: %{customdata[10]}<br>Mol Weight: %{customdata[11]}<br>Taxonomy ID: %{customdata[12]}<extra></extra>",
         "marker": {
          "color": "rgb(39, 129, 142)",
          "size": 6,
          "symbol": "circle"
         },
         "mode": "markers",
         "text": "GTP-binding protein",
         "type": "scatter3d",
         "x": [
          0.04008722314593906
         ],
         "y": [
          0.04212290648320871
         ],
         "z": [
          -0.008292692398426095
         ]
        },
        {
         "customdata": [
          [
           "small GTPase",
           null,
           "Eukaryota",
           "Fungi",
           "Ascomycota",
           "Sordariomycetes",
           "Xylariales",
           "Hypoxylaceae",
           "Daldinia",
           "Daldinia grandis",
           null,
           null,
           "103428",
           0.00017294654696067846,
           0.03946928133346374,
           0.02463471994524447,
           0.003630968680989314
          ]
         ],
         "hovertemplate": "<b>%{customdata[0]}</b><br>Family Name: %{customdata[1]}<br>Domain: %{customdata[2]}<br>Kingdom: %{customdata[3]}</b><br>Phylum: %{customdata[4]}<br>Class: %{customdata[5]}<br>Order: %{customdata[6]}<br>Family: %{customdata[7]}<br>Genus: %{customdata[8]}<br>Species: %{customdata[9]}<br>EC Number: %{customdata[10]}<br>Mol Weight: %{customdata[11]}<br>Taxonomy ID: %{customdata[12]}<extra></extra>",
         "marker": {
          "color": "rgb(53, 94, 140)",
          "size": 6,
          "symbol": "circle"
         },
         "mode": "markers",
         "text": "small GTPase",
         "type": "scatter3d",
         "x": [
          0.03946928133346374
         ],
         "y": [
          0.02463471994524447
         ],
         "z": [
          0.003630968680989314
         ]
        },
        {
         "customdata": [
          [
           "hypothetical protein",
           null,
           "Eukaryota",
           "Fungi",
           "Basidiomycota",
           "Pucciniomycetes",
           "Pucciniales",
           "Pucciniaceae",
           "Puccinia",
           "Puccinia striiformis",
           null,
           null,
           "875184",
           0.01038607559548945,
           0.016078127577496663,
           0.012610554910448992,
           -0.022476670946405538
          ]
         ],
         "hovertemplate": "<b>%{customdata[0]}</b><br>Family Name: %{customdata[1]}<br>Domain: %{customdata[2]}<br>Kingdom: %{customdata[3]}</b><br>Phylum: %{customdata[4]}<br>Class: %{customdata[5]}<br>Order: %{customdata[6]}<br>Family: %{customdata[7]}<br>Genus: %{customdata[8]}<br>Species: %{customdata[9]}<br>EC Number: %{customdata[10]}<br>Mol Weight: %{customdata[11]}<br>Taxonomy ID: %{customdata[12]}<extra></extra>",
         "marker": {
          "color": "rgb(226, 228, 39)",
          "size": 6,
          "symbol": "circle"
         },
         "mode": "markers",
         "text": "hypothetical protein",
         "type": "scatter3d",
         "x": [
          0.016078127577496663
         ],
         "y": [
          0.012610554910448992
         ],
         "z": [
          -0.022476670946405538
         ]
        },
        {
         "customdata": [
          [
           "hypothetical protein",
           null,
           "Eukaryota",
           "Fungi",
           "Basidiomycota",
           "Agaricomycetes",
           "Agaricales",
           "Agaricaceae",
           "Agaricus",
           "Agaricus bisporus",
           null,
           null,
           "192524",
           0.003494463411565421,
           0.06650169616650262,
           0.00825253990835933,
           -0.01590600283575986
          ]
         ],
         "hovertemplate": "<b>%{customdata[0]}</b><br>Family Name: %{customdata[1]}<br>Domain: %{customdata[2]}<br>Kingdom: %{customdata[3]}</b><br>Phylum: %{customdata[4]}<br>Class: %{customdata[5]}<br>Order: %{customdata[6]}<br>Family: %{customdata[7]}<br>Genus: %{customdata[8]}<br>Species: %{customdata[9]}<br>EC Number: %{customdata[10]}<br>Mol Weight: %{customdata[11]}<br>Taxonomy ID: %{customdata[12]}<extra></extra>",
         "marker": {
          "color": "rgb(56, 87, 139)",
          "size": 6,
          "symbol": "circle"
         },
         "mode": "markers",
         "text": "hypothetical protein",
         "type": "scatter3d",
         "x": [
          0.06650169616650262
         ],
         "y": [
          0.00825253990835933
         ],
         "z": [
          -0.01590600283575986
         ]
        },
        {
         "customdata": [
          [
           "hypothetical protein",
           null,
           "Eukaryota",
           "Fungi",
           "Ascomycota",
           "Leotiomycetes",
           null,
           null,
           "Scytalidium",
           "Scytalidium sp. 3C",
           null,
           null,
           "2487125",
           0.0004719173759985151,
           0.05733829405009594,
           0.03390523355732652,
           0.0008407025792426672
          ]
         ],
         "hovertemplate": "<b>%{customdata[0]}</b><br>Family Name: %{customdata[1]}<br>Domain: %{customdata[2]}<br>Kingdom: %{customdata[3]}</b><br>Phylum: %{customdata[4]}<br>Class: %{customdata[5]}<br>Order: %{customdata[6]}<br>Family: %{customdata[7]}<br>Genus: %{customdata[8]}<br>Species: %{customdata[9]}<br>EC Number: %{customdata[10]}<br>Mol Weight: %{customdata[11]}<br>Taxonomy ID: %{customdata[12]}<extra></extra>",
         "marker": {
          "color": "rgb(51, 100, 141)",
          "size": 6,
          "symbol": "circle"
         },
         "mode": "markers",
         "text": "hypothetical protein",
         "type": "scatter3d",
         "x": [
          0.05733829405009594
         ],
         "y": [
          0.03390523355732652
         ],
         "z": [
          0.0008407025792426672
         ]
        },
        {
         "customdata": [
          [
           "P-loop containing nucleoside triphosphate hydrolase protein",
           null,
           "Eukaryota",
           "Fungi",
           "Ascomycota",
           "Sordariomycetes",
           "Xylariales",
           "Hypoxylaceae",
           "Hypoxylon",
           "Hypoxylon fuscum",
           null,
           null,
           "109372",
           0.00013407652892985462,
           0.05337467586403217,
           0.026165513852281115,
           0.00029887229034494806
          ]
         ],
         "hovertemplate": "<b>%{customdata[0]}</b><br>Family Name: %{customdata[1]}<br>Domain: %{customdata[2]}<br>Kingdom: %{customdata[3]}</b><br>Phylum: %{customdata[4]}<br>Class: %{customdata[5]}<br>Order: %{customdata[6]}<br>Family: %{customdata[7]}<br>Genus: %{customdata[8]}<br>Species: %{customdata[9]}<br>EC Number: %{customdata[10]}<br>Mol Weight: %{customdata[11]}<br>Taxonomy ID: %{customdata[12]}<extra></extra>",
         "marker": {
          "color": "rgb(223, 227, 40)",
          "size": 6,
          "symbol": "circle"
         },
         "mode": "markers",
         "text": "P-loop containing nucleoside triphosphate hydrolase protein",
         "type": "scatter3d",
         "x": [
          0.05337467586403217
         ],
         "y": [
          0.026165513852281115
         ],
         "z": [
          0.00029887229034494806
         ]
        },
        {
         "customdata": [
          [
           "hypothetical protein",
           null,
           "Eukaryota",
           "Fungi",
           "Ascomycota",
           "Candelariomycetes",
           "Candelariales",
           "Candelariaceae",
           "Candelaria",
           "Candelaria pacifica",
           null,
           null,
           "460848",
           0.0005197517689323396,
           0.021870733202073535,
           0.04726833381152317,
           -0.04153453007525125
          ]
         ],
         "hovertemplate": "<b>%{customdata[0]}</b><br>Family Name: %{customdata[1]}<br>Domain: %{customdata[2]}<br>Kingdom: %{customdata[3]}</b><br>Phylum: %{customdata[4]}<br>Class: %{customdata[5]}<br>Order: %{customdata[6]}<br>Family: %{customdata[7]}<br>Genus: %{customdata[8]}<br>Species: %{customdata[9]}<br>EC Number: %{customdata[10]}<br>Mol Weight: %{customdata[11]}<br>Taxonomy ID: %{customdata[12]}<extra></extra>",
         "marker": {
          "color": "rgb(31, 158, 137)",
          "size": 6,
          "symbol": "circle"
         },
         "mode": "markers",
         "text": "hypothetical protein",
         "type": "scatter3d",
         "x": [
          0.021870733202073535
         ],
         "y": [
          0.04726833381152317
         ],
         "z": [
          -0.04153453007525125
         ]
        },
        {
         "customdata": [
          [
           "P-loop containing nucleoside triphosphate hydrolase protein",
           null,
           "Eukaryota",
           "Fungi",
           "Ascomycota",
           "Sordariomycetes",
           "Xylariales",
           "Hypoxylaceae",
           "Hypoxylon",
           "Hypoxylon crocopeplum",
           null,
           null,
           "326657",
           0.00007184706353908649,
           0.052705373334553524,
           0.034168916458259764,
           -0.018735254667157475
          ]
         ],
         "hovertemplate": "<b>%{customdata[0]}</b><br>Family Name: %{customdata[1]}<br>Domain: %{customdata[2]}<br>Kingdom: %{customdata[3]}</b><br>Phylum: %{customdata[4]}<br>Class: %{customdata[5]}<br>Order: %{customdata[6]}<br>Family: %{customdata[7]}<br>Genus: %{customdata[8]}<br>Species: %{customdata[9]}<br>EC Number: %{customdata[10]}<br>Mol Weight: %{customdata[11]}<br>Taxonomy ID: %{customdata[12]}<extra></extra>",
         "marker": {
          "color": "rgb(140, 213, 69)",
          "size": 6,
          "symbol": "circle"
         },
         "mode": "markers",
         "text": "P-loop containing nucleoside triphosphate hydrolase protein",
         "type": "scatter3d",
         "x": [
          0.052705373334553524
         ],
         "y": [
          0.034168916458259764
         ],
         "z": [
          -0.018735254667157475
         ]
        },
        {
         "customdata": [
          [
           "P-loop containing nucleoside triphosphate hydrolase protein",
           null,
           "Eukaryota",
           "Fungi",
           "Basidiomycota",
           "Pucciniomycetes",
           "Pucciniales",
           "Phakopsoraceae",
           "Phakopsora",
           "Phakopsora pachyrhizi",
           null,
           null,
           "170000",
           0.0018089447814005346,
           0.01610019339991968,
           0.030219070471676678,
           0.0054914930758783115
          ]
         ],
         "hovertemplate": "<b>%{customdata[0]}</b><br>Family Name: %{customdata[1]}<br>Domain: %{customdata[2]}<br>Kingdom: %{customdata[3]}</b><br>Phylum: %{customdata[4]}<br>Class: %{customdata[5]}<br>Order: %{customdata[6]}<br>Family: %{customdata[7]}<br>Genus: %{customdata[8]}<br>Species: %{customdata[9]}<br>EC Number: %{customdata[10]}<br>Mol Weight: %{customdata[11]}<br>Taxonomy ID: %{customdata[12]}<extra></extra>",
         "marker": {
          "color": "rgb(81, 194, 105)",
          "size": 6,
          "symbol": "circle"
         },
         "mode": "markers",
         "text": "P-loop containing nucleoside triphosphate hydrolase protein",
         "type": "scatter3d",
         "x": [
          0.01610019339991968
         ],
         "y": [
          0.030219070471676678
         ],
         "z": [
          0.0054914930758783115
         ]
        },
        {
         "customdata": [
          [
           "uncharacterized protein",
           null,
           "Eukaryota",
           "Fungi",
           "Basidiomycota",
           "Pucciniomycetes",
           "Pucciniales",
           "Pucciniaceae",
           "Puccinia",
           "Puccinia triticina",
           null,
           25080,
           "208348",
           0.0008013604694696703,
           0.0390470818065145,
           0.008901879186827694,
           0.0029859305009328884
          ]
         ],
         "hovertemplate": "<b>%{customdata[0]}</b><br>Family Name: %{customdata[1]}<br>Domain: %{customdata[2]}<br>Kingdom: %{customdata[3]}</b><br>Phylum: %{customdata[4]}<br>Class: %{customdata[5]}<br>Order: %{customdata[6]}<br>Family: %{customdata[7]}<br>Genus: %{customdata[8]}<br>Species: %{customdata[9]}<br>EC Number: %{customdata[10]}<br>Mol Weight: %{customdata[11]}<br>Taxonomy ID: %{customdata[12]}<extra></extra>",
         "marker": {
          "color": "rgb(193, 223, 42)",
          "size": 6,
          "symbol": "circle"
         },
         "mode": "markers",
         "text": "uncharacterized protein",
         "type": "scatter3d",
         "x": [
          0.0390470818065145
         ],
         "y": [
          0.008901879186827694
         ],
         "z": [
          0.0029859305009328884
         ]
        },
        {
         "customdata": [
          [
           "small GTPase",
           null,
           "Eukaryota",
           "Fungi",
           "Ascomycota",
           "Sordariomycetes",
           "Sordariales",
           "Sordariaceae",
           "Neurospora",
           "Neurospora crassa",
           null,
           null,
           "5141",
           0.003255480757535318,
           0.06355292498006244,
           0.023927486793606827,
           -0.009681942539508227
          ]
         ],
         "hovertemplate": "<b>%{customdata[0]}</b><br>Family Name: %{customdata[1]}<br>Domain: %{customdata[2]}<br>Kingdom: %{customdata[3]}</b><br>Phylum: %{customdata[4]}<br>Class: %{customdata[5]}<br>Order: %{customdata[6]}<br>Family: %{customdata[7]}<br>Genus: %{customdata[8]}<br>Species: %{customdata[9]}<br>EC Number: %{customdata[10]}<br>Mol Weight: %{customdata[11]}<br>Taxonomy ID: %{customdata[12]}<extra></extra>",
         "marker": {
          "color": "rgb(60, 77, 138)",
          "size": 6,
          "symbol": "circle"
         },
         "mode": "markers",
         "text": "small GTPase",
         "type": "scatter3d",
         "x": [
          0.06355292498006244
         ],
         "y": [
          0.023927486793606827
         ],
         "z": [
          -0.009681942539508227
         ]
        },
        {
         "customdata": [
          [
           "septum-promoting GTP-binding protein 1",
           null,
           "Eukaryota",
           "Fungi",
           "Basidiomycota",
           "Pucciniomycetes",
           "Pucciniales",
           "Pucciniaceae",
           "Puccinia",
           "Puccinia graminis",
           null,
           26243,
           "418459",
           0.0010608992740871927,
           0.017969865409641263,
           0.019114282304796486,
           -0.004279394095272667
          ]
         ],
         "hovertemplate": "<b>%{customdata[0]}</b><br>Family Name: %{customdata[1]}<br>Domain: %{customdata[2]}<br>Kingdom: %{customdata[3]}</b><br>Phylum: %{customdata[4]}<br>Class: %{customdata[5]}<br>Order: %{customdata[6]}<br>Family: %{customdata[7]}<br>Genus: %{customdata[8]}<br>Species: %{customdata[9]}<br>EC Number: %{customdata[10]}<br>Mol Weight: %{customdata[11]}<br>Taxonomy ID: %{customdata[12]}<extra></extra>",
         "marker": {
          "color": "rgb(76, 192, 108)",
          "size": 6,
          "symbol": "circle"
         },
         "mode": "markers",
         "text": "septum-promoting GTP-binding protein 1",
         "type": "scatter3d",
         "x": [
          0.017969865409641263
         ],
         "y": [
          0.019114282304796486
         ],
         "z": [
          -0.004279394095272667
         ]
        },
        {
         "customdata": [
          [
           "unnamed protein product",
           null,
           "Eukaryota",
           "Fungi",
           "Ascomycota",
           "Sordariomycetes",
           "Hypocreales",
           "Bionectriaceae",
           "Clonostachys",
           "Clonostachys rosea",
           null,
           null,
           "29856",
           0.000025750791553365943,
           0.03179819690008758,
           0.017206859802310737,
           -0.028154190576650872
          ]
         ],
         "hovertemplate": "<b>%{customdata[0]}</b><br>Family Name: %{customdata[1]}<br>Domain: %{customdata[2]}<br>Kingdom: %{customdata[3]}</b><br>Phylum: %{customdata[4]}<br>Class: %{customdata[5]}<br>Order: %{customdata[6]}<br>Family: %{customdata[7]}<br>Genus: %{customdata[8]}<br>Species: %{customdata[9]}<br>EC Number: %{customdata[10]}<br>Mol Weight: %{customdata[11]}<br>Taxonomy ID: %{customdata[12]}<extra></extra>",
         "marker": {
          "color": "rgb(63, 187, 115)",
          "size": 6,
          "symbol": "circle"
         },
         "mode": "markers",
         "text": "unnamed protein product",
         "type": "scatter3d",
         "x": [
          0.03179819690008758
         ],
         "y": [
          0.017206859802310737
         ],
         "z": [
          -0.028154190576650872
         ]
        },
        {
         "customdata": [
          [
           "hypothetical protein",
           null,
           "Eukaryota",
           "Fungi",
           "Ascomycota",
           "Sordariomycetes",
           "Hypocreales",
           "Cordycipitaceae",
           "Lecanicillium",
           "Lecanicillium fungicola",
           null,
           null,
           "93591",
           0.00006368235604483929,
           0.04690525859906072,
           0.03769892679235438,
           -0.0013052963662736237
          ]
         ],
         "hovertemplate": "<b>%{customdata[0]}</b><br>Family Name: %{customdata[1]}<br>Domain: %{customdata[2]}<br>Kingdom: %{customdata[3]}</b><br>Phylum: %{customdata[4]}<br>Class: %{customdata[5]}<br>Order: %{customdata[6]}<br>Family: %{customdata[7]}<br>Genus: %{customdata[8]}<br>Species: %{customdata[9]}<br>EC Number: %{customdata[10]}<br>Mol Weight: %{customdata[11]}<br>Taxonomy ID: %{customdata[12]}<extra></extra>",
         "marker": {
          "color": "rgb(67, 58, 129)",
          "size": 6,
          "symbol": "circle"
         },
         "mode": "markers",
         "text": "hypothetical protein",
         "type": "scatter3d",
         "x": [
          0.04690525859906072
         ],
         "y": [
          0.03769892679235438
         ],
         "z": [
          -0.0013052963662736237
         ]
        },
        {
         "customdata": [
          [
           "hypothetical protein",
           null,
           "Eukaryota",
           "Fungi",
           "Ascomycota",
           "Eurotiomycetes",
           "Eurotiales",
           "Trichocomaceae",
           "Talaromyces",
           "Talaromyces atroroseus",
           null,
           36238,
           "1441469",
           0.00019699617221503074,
           0.05698169255474182,
           0.0439248979308924,
           -0.0013017889775685488
          ]
         ],
         "hovertemplate": "<b>%{customdata[0]}</b><br>Family Name: %{customdata[1]}<br>Domain: %{customdata[2]}<br>Kingdom: %{customdata[3]}</b><br>Phylum: %{customdata[4]}<br>Class: %{customdata[5]}<br>Order: %{customdata[6]}<br>Family: %{customdata[7]}<br>Genus: %{customdata[8]}<br>Species: %{customdata[9]}<br>EC Number: %{customdata[10]}<br>Mol Weight: %{customdata[11]}<br>Taxonomy ID: %{customdata[12]}<extra></extra>",
         "marker": {
          "color": "rgb(70, 23, 104)",
          "size": 6,
          "symbol": "circle"
         },
         "mode": "markers",
         "text": "hypothetical protein",
         "type": "scatter3d",
         "x": [
          0.05698169255474182
         ],
         "y": [
          0.0439248979308924
         ],
         "z": [
          -0.0013017889775685488
         ]
        },
        {
         "customdata": [
          [
           "rab family, other",
           null,
           "Eukaryota",
           "Fungi",
           "Ascomycota",
           "Eurotiomycetes",
           "Chaetothyriales",
           "Herpotrichiellaceae",
           "Cladophialophora",
           "Cladophialophora yegresii",
           null,
           32304,
           "1182544",
           0.00012504542046523843,
           0.013698700385336951,
           0.04720637434319878,
           -0.028918189790245675
          ]
         ],
         "hovertemplate": "<b>%{customdata[0]}</b><br>Family Name: %{customdata[1]}<br>Domain: %{customdata[2]}<br>Kingdom: %{customdata[3]}</b><br>Phylum: %{customdata[4]}<br>Class: %{customdata[5]}<br>Order: %{customdata[6]}<br>Family: %{customdata[7]}<br>Genus: %{customdata[8]}<br>Species: %{customdata[9]}<br>EC Number: %{customdata[10]}<br>Mol Weight: %{customdata[11]}<br>Taxonomy ID: %{customdata[12]}<extra></extra>",
         "marker": {
          "color": "rgb(86, 197, 102)",
          "size": 6,
          "symbol": "circle"
         },
         "mode": "markers",
         "text": "rab family, other",
         "type": "scatter3d",
         "x": [
          0.013698700385336951
         ],
         "y": [
          0.04720637434319878
         ],
         "z": [
          -0.028918189790245675
         ]
        },
        {
         "customdata": [
          [
           "small GTPase",
           null,
           "Eukaryota",
           "Fungi",
           "Mucoromycota",
           "Mucoromycetes",
           "Mucorales",
           "Lichtheimiaceae",
           "Phascolomyces",
           "Phascolomyces articulosus",
           null,
           null,
           "60185",
           0,
           0.6790538137601286,
           0.39631420556455627,
           -0.49252365775008294
          ]
         ],
         "hovertemplate": "<b>%{customdata[0]}</b><br>Family Name: %{customdata[1]}<br>Domain: %{customdata[2]}<br>Kingdom: %{customdata[3]}</b><br>Phylum: %{customdata[4]}<br>Class: %{customdata[5]}<br>Order: %{customdata[6]}<br>Family: %{customdata[7]}<br>Genus: %{customdata[8]}<br>Species: %{customdata[9]}<br>EC Number: %{customdata[10]}<br>Mol Weight: %{customdata[11]}<br>Taxonomy ID: %{customdata[12]}<extra></extra>",
         "marker": {
          "color": "rgb(173, 220, 48)",
          "size": 6,
          "symbol": "circle"
         },
         "mode": "markers",
         "text": "small GTPase",
         "type": "scatter3d",
         "x": [
          0.6790538137601286
         ],
         "y": [
          0.39631420556455627
         ],
         "z": [
          -0.49252365775008294
         ]
        },
        {
         "customdata": [
          [
           "P-loop containing nucleoside triphosphate hydrolase protein",
           null,
           "Eukaryota",
           "Fungi",
           "Ascomycota",
           "Taphrinomycetes",
           "Taphrinales",
           "Protomycetaceae",
           "Protomyces",
           "Protomyces lactucae-debilis",
           null,
           22774,
           "2754530",
           0,
           0.0051494507575009325,
           0.27290663443769836,
           -0.029838677008471988
          ]
         ],
         "hovertemplate": "<b>%{customdata[0]}</b><br>Family Name: %{customdata[1]}<br>Domain: %{customdata[2]}<br>Kingdom: %{customdata[3]}</b><br>Phylum: %{customdata[4]}<br>Class: %{customdata[5]}<br>Order: %{customdata[6]}<br>Family: %{customdata[7]}<br>Genus: %{customdata[8]}<br>Species: %{customdata[9]}<br>EC Number: %{customdata[10]}<br>Mol Weight: %{customdata[11]}<br>Taxonomy ID: %{customdata[12]}<extra></extra>",
         "marker": {
          "color": "rgb(34, 162, 135)",
          "size": 6,
          "symbol": "circle"
         },
         "mode": "markers",
         "text": "P-loop containing nucleoside triphosphate hydrolase protein",
         "type": "scatter3d",
         "x": [
          0.0051494507575009325
         ],
         "y": [
          0.27290663443769836
         ],
         "z": [
          -0.029838677008471988
         ]
        },
        {
         "customdata": [
          [
           "small GTPase",
           null,
           "Eukaryota",
           "Fungi",
           "Ascomycota",
           "Sordariomycetes",
           "Xylariales",
           "Hypoxylaceae",
           "Hypoxylon",
           "Hypoxylon rubiginosum",
           null,
           null,
           "110542",
           0.00015269717334671107,
           0.047431260929356234,
           0.01919799274535088,
           -0.015919995349652164
          ]
         ],
         "hovertemplate": "<b>%{customdata[0]}</b><br>Family Name: %{customdata[1]}<br>Domain: %{customdata[2]}<br>Kingdom: %{customdata[3]}</b><br>Phylum: %{customdata[4]}<br>Class: %{customdata[5]}<br>Order: %{customdata[6]}<br>Family: %{customdata[7]}<br>Genus: %{customdata[8]}<br>Species: %{customdata[9]}<br>EC Number: %{customdata[10]}<br>Mol Weight: %{customdata[11]}<br>Taxonomy ID: %{customdata[12]}<extra></extra>",
         "marker": {
          "color": "rgb(40, 125, 142)",
          "size": 6,
          "symbol": "circle"
         },
         "mode": "markers",
         "text": "small GTPase",
         "type": "scatter3d",
         "x": [
          0.047431260929356234
         ],
         "y": [
          0.01919799274535088
         ],
         "z": [
          -0.015919995349652164
         ]
        },
        {
         "customdata": [
          [
           "hypothetical protein",
           null,
           "Eukaryota",
           "Fungi",
           "Ascomycota",
           "Sordariomycetes",
           "Xylariales",
           "Xylariaceae",
           "Rosellinia",
           "Rosellinia necatrix",
           null,
           null,
           "77044",
           0.0003806765347762414,
           0.03001342720421286,
           0.057063543359910124,
           0.00554514746432109
          ]
         ],
         "hovertemplate": "<b>%{customdata[0]}</b><br>Family Name: %{customdata[1]}<br>Domain: %{customdata[2]}<br>Kingdom: %{customdata[3]}</b><br>Phylum: %{customdata[4]}<br>Class: %{customdata[5]}<br>Order: %{customdata[6]}<br>Family: %{customdata[7]}<br>Genus: %{customdata[8]}<br>Species: %{customdata[9]}<br>EC Number: %{customdata[10]}<br>Mol Weight: %{customdata[11]}<br>Taxonomy ID: %{customdata[12]}<extra></extra>",
         "marker": {
          "color": "rgb(70, 19, 101)",
          "size": 6,
          "symbol": "circle"
         },
         "mode": "markers",
         "text": "hypothetical protein",
         "type": "scatter3d",
         "x": [
          0.03001342720421286
         ],
         "y": [
          0.057063543359910124
         ],
         "z": [
          0.00554514746432109
         ]
        },
        {
         "customdata": [
          [
           "small GTPase",
           null,
           "Eukaryota",
           "Fungi",
           "Mucoromycota",
           "Mucoromycetes",
           "Mucorales",
           "Mucoraceae",
           "Benjaminiella",
           "Benjaminiella poitrasii",
           null,
           null,
           "64631",
           0,
           -0.039297632929182535,
           -0.8454633218452161,
           -0.4118931362985745
          ]
         ],
         "hovertemplate": "<b>%{customdata[0]}</b><br>Family Name: %{customdata[1]}<br>Domain: %{customdata[2]}<br>Kingdom: %{customdata[3]}</b><br>Phylum: %{customdata[4]}<br>Class: %{customdata[5]}<br>Order: %{customdata[6]}<br>Family: %{customdata[7]}<br>Genus: %{customdata[8]}<br>Species: %{customdata[9]}<br>EC Number: %{customdata[10]}<br>Mol Weight: %{customdata[11]}<br>Taxonomy ID: %{customdata[12]}<extra></extra>",
         "marker": {
          "color": "rgb(70, 17, 99)",
          "size": 6,
          "symbol": "circle"
         },
         "mode": "markers",
         "text": "small GTPase",
         "type": "scatter3d",
         "x": [
          -0.039297632929182535
         ],
         "y": [
          -0.8454633218452161
         ],
         "z": [
          -0.4118931362985745
         ]
        },
        {
         "customdata": [
          [
           "septum-promoting GTP-binding protein 1",
           null,
           "Eukaryota",
           "Fungi",
           "Ascomycota",
           "Sordariomycetes",
           "Magnaporthales",
           "Pyriculariaceae",
           "Pyricularia",
           "Pyricularia oryzae",
           null,
           34202,
           "242507",
           0.0002089888399993542,
           0.03602549026466714,
           0.03336699818467053,
           -0.04491049750976935
          ]
         ],
         "hovertemplate": "<b>%{customdata[0]}</b><br>Family Name: %{customdata[1]}<br>Domain: %{customdata[2]}<br>Kingdom: %{customdata[3]}</b><br>Phylum: %{customdata[4]}<br>Class: %{customdata[5]}<br>Order: %{customdata[6]}<br>Family: %{customdata[7]}<br>Genus: %{customdata[8]}<br>Species: %{customdata[9]}<br>EC Number: %{customdata[10]}<br>Mol Weight: %{customdata[11]}<br>Taxonomy ID: %{customdata[12]}<extra></extra>",
         "marker": {
          "color": "rgb(42, 121, 142)",
          "size": 6,
          "symbol": "circle"
         },
         "mode": "markers",
         "text": "septum-promoting GTP-binding protein 1",
         "type": "scatter3d",
         "x": [
          0.03602549026466714
         ],
         "y": [
          0.03336699818467053
         ],
         "z": [
          -0.04491049750976935
         ]
        },
        {
         "customdata": [
          [
           "septum initiation protein sid3",
           null,
           "Eukaryota",
           "Fungi",
           "Ascomycota",
           "Sordariomycetes",
           "Xylariales",
           "Xylariaceae",
           "Camillea",
           "Camillea tinctor",
           null,
           null,
           "110548",
           0.0032469245469814436,
           0.06536526835957276,
           0.04649460799210301,
           -0.02185649637870475
          ]
         ],
         "hovertemplate": "<b>%{customdata[0]}</b><br>Family Name: %{customdata[1]}<br>Domain: %{customdata[2]}<br>Kingdom: %{customdata[3]}</b><br>Phylum: %{customdata[4]}<br>Class: %{customdata[5]}<br>Order: %{customdata[6]}<br>Family: %{customdata[7]}<br>Genus: %{customdata[8]}<br>Species: %{customdata[9]}<br>EC Number: %{customdata[10]}<br>Mol Weight: %{customdata[11]}<br>Taxonomy ID: %{customdata[12]}<extra></extra>",
         "marker": {
          "color": "rgb(35, 143, 140)",
          "size": 6,
          "symbol": "circle"
         },
         "mode": "markers",
         "text": "septum initiation protein sid3",
         "type": "scatter3d",
         "x": [
          0.06536526835957276
         ],
         "y": [
          0.04649460799210301
         ],
         "z": [
          -0.02185649637870475
         ]
        },
        {
         "customdata": [
          [
           "P-loop containing nucleoside triphosphate hydrolase protein",
           null,
           "Eukaryota",
           "Fungi",
           "Ascomycota",
           "Sordariomycetes",
           "Xylariales",
           "Xylariaceae",
           null,
           "Xylariaceae sp. FL0804",
           null,
           null,
           "2663375",
           0.0007795036395977632,
           0.03237755079596651,
           0.06012529646964177,
           -0.011248848119934757
          ]
         ],
         "hovertemplate": "<b>%{customdata[0]}</b><br>Family Name: %{customdata[1]}<br>Domain: %{customdata[2]}<br>Kingdom: %{customdata[3]}</b><br>Phylum: %{customdata[4]}<br>Class: %{customdata[5]}<br>Order: %{customdata[6]}<br>Family: %{customdata[7]}<br>Genus: %{customdata[8]}<br>Species: %{customdata[9]}<br>EC Number: %{customdata[10]}<br>Mol Weight: %{customdata[11]}<br>Taxonomy ID: %{customdata[12]}<extra></extra>",
         "marker": {
          "color": "rgb(40, 126, 142)",
          "size": 6,
          "symbol": "circle"
         },
         "mode": "markers",
         "text": "P-loop containing nucleoside triphosphate hydrolase protein",
         "type": "scatter3d",
         "x": [
          0.03237755079596651
         ],
         "y": [
          0.06012529646964177
         ],
         "z": [
          -0.011248848119934757
         ]
        },
        {
         "customdata": [
          [
           "hypothetical protein",
           null,
           "Eukaryota",
           "Fungi",
           "Ascomycota",
           "Eurotiomycetes",
           "Eurotiales",
           "Aspergillaceae",
           "Aspergillus",
           "Aspergillus felis",
           null,
           null,
           "1287682",
           0.0007477086969415453,
           0.043514903393408515,
           0.013844632691404141,
           -0.012680799407441577
          ]
         ],
         "hovertemplate": "<b>%{customdata[0]}</b><br>Family Name: %{customdata[1]}<br>Domain: %{customdata[2]}<br>Kingdom: %{customdata[3]}</b><br>Phylum: %{customdata[4]}<br>Class: %{customdata[5]}<br>Order: %{customdata[6]}<br>Family: %{customdata[7]}<br>Genus: %{customdata[8]}<br>Species: %{customdata[9]}<br>EC Number: %{customdata[10]}<br>Mol Weight: %{customdata[11]}<br>Taxonomy ID: %{customdata[12]}<extra></extra>",
         "marker": {
          "color": "rgb(203, 225, 41)",
          "size": 6,
          "symbol": "circle"
         },
         "mode": "markers",
         "text": "hypothetical protein",
         "type": "scatter3d",
         "x": [
          0.043514903393408515
         ],
         "y": [
          0.013844632691404141
         ],
         "z": [
          -0.012680799407441577
         ]
        },
        {
         "customdata": [
          [
           "hypothetical protein",
           null,
           "Eukaryota",
           "Fungi",
           "Basidiomycota",
           "Exobasidiomycetes",
           "Tilletiales",
           "Tilletiaceae",
           "Tilletia",
           "Tilletia walkeri",
           null,
           null,
           "117179",
           0.0015117111880436419,
           0.022935898544964806,
           0.008676390427279109,
           -0.0030641065803552396
          ]
         ],
         "hovertemplate": "<b>%{customdata[0]}</b><br>Family Name: %{customdata[1]}<br>Domain: %{customdata[2]}<br>Kingdom: %{customdata[3]}</b><br>Phylum: %{customdata[4]}<br>Class: %{customdata[5]}<br>Order: %{customdata[6]}<br>Family: %{customdata[7]}<br>Genus: %{customdata[8]}<br>Species: %{customdata[9]}<br>EC Number: %{customdata[10]}<br>Mol Weight: %{customdata[11]}<br>Taxonomy ID: %{customdata[12]}<extra></extra>",
         "marker": {
          "color": "rgb(39, 168, 131)",
          "size": 6,
          "symbol": "circle"
         },
         "mode": "markers",
         "text": "hypothetical protein",
         "type": "scatter3d",
         "x": [
          0.022935898544964806
         ],
         "y": [
          0.008676390427279109
         ],
         "z": [
          -0.0030641065803552396
         ]
        },
        {
         "customdata": [
          [
           "uncharacterized protein",
           null,
           "Eukaryota",
           "Fungi",
           "Ascomycota",
           "Sordariomycetes",
           "Diaporthales",
           "Diaporthaceae",
           "Diaporthe",
           "Diaporthe amygdali",
           null,
           32589,
           "1214568",
           0.00014449751996892975,
           0.06468666949745078,
           0.034507568194577294,
           -0.009482391724459735
          ]
         ],
         "hovertemplate": "<b>%{customdata[0]}</b><br>Family Name: %{customdata[1]}<br>Domain: %{customdata[2]}<br>Kingdom: %{customdata[3]}</b><br>Phylum: %{customdata[4]}<br>Class: %{customdata[5]}<br>Order: %{customdata[6]}<br>Family: %{customdata[7]}<br>Genus: %{customdata[8]}<br>Species: %{customdata[9]}<br>EC Number: %{customdata[10]}<br>Mol Weight: %{customdata[11]}<br>Taxonomy ID: %{customdata[12]}<extra></extra>",
         "marker": {
          "color": "rgb(206, 225, 41)",
          "size": 6,
          "symbol": "circle"
         },
         "mode": "markers",
         "text": "uncharacterized protein",
         "type": "scatter3d",
         "x": [
          0.06468666949745078
         ],
         "y": [
          0.034507568194577294
         ],
         "z": [
          -0.009482391724459735
         ]
        },
        {
         "customdata": [
          [
           "hypothetical protein",
           null,
           "Eukaryota",
           "Fungi",
           "Ascomycota",
           "Eurotiomycetes",
           "Eurotiales",
           "Aspergillaceae",
           "Penicillium",
           "Penicillium riverlandense",
           null,
           null,
           "1903569",
           0.0004719173759985151,
           0.03766976544958351,
           0.026895211909709296,
           -0.03762248849001869
          ]
         ],
         "hovertemplate": "<b>%{customdata[0]}</b><br>Family Name: %{customdata[1]}<br>Domain: %{customdata[2]}<br>Kingdom: %{customdata[3]}</b><br>Phylum: %{customdata[4]}<br>Class: %{customdata[5]}<br>Order: %{customdata[6]}<br>Family: %{customdata[7]}<br>Genus: %{customdata[8]}<br>Species: %{customdata[9]}<br>EC Number: %{customdata[10]}<br>Mol Weight: %{customdata[11]}<br>Taxonomy ID: %{customdata[12]}<extra></extra>",
         "marker": {
          "color": "rgb(68, 189, 112)",
          "size": 6,
          "symbol": "circle"
         },
         "mode": "markers",
         "text": "hypothetical protein",
         "type": "scatter3d",
         "x": [
          0.03766976544958351
         ],
         "y": [
          0.026895211909709296
         ],
         "z": [
          -0.03762248849001869
         ]
        },
        {
         "customdata": [
          [
           "septum-promoting GTP-binding protein 1",
           null,
           "Eukaryota",
           "Fungi",
           "Ascomycota",
           "Eurotiomycetes",
           "Chaetothyriales",
           "Herpotrichiellaceae",
           "Rhinocladiella",
           "Rhinocladiella mackenziei",
           null,
           31864,
           "1442369",
           0.00004075406534669347,
           0.030417176557432084,
           0.04748659306319632,
           0.013148608160733039
          ]
         ],
         "hovertemplate": "<b>%{customdata[0]}</b><br>Family Name: %{customdata[1]}<br>Domain: %{customdata[2]}<br>Kingdom: %{customdata[3]}</b><br>Phylum: %{customdata[4]}<br>Class: %{customdata[5]}<br>Order: %{customdata[6]}<br>Family: %{customdata[7]}<br>Genus: %{customdata[8]}<br>Species: %{customdata[9]}<br>EC Number: %{customdata[10]}<br>Mol Weight: %{customdata[11]}<br>Taxonomy ID: %{customdata[12]}<extra></extra>",
         "marker": {
          "color": "rgb(143, 214, 67)",
          "size": 6,
          "symbol": "circle"
         },
         "mode": "markers",
         "text": "septum-promoting GTP-binding protein 1",
         "type": "scatter3d",
         "x": [
          0.030417176557432084
         ],
         "y": [
          0.04748659306319632
         ],
         "z": [
          0.013148608160733039
         ]
        },
        {
         "customdata": [
          [
           "putative TEM1-GTP-binding protein of the ras superfamily",
           null,
           "Eukaryota",
           "Fungi",
           "Basidiomycota",
           "Ustilaginomycetes",
           "Violaceomycetales",
           "Violaceomycetaceae",
           "Violaceomyces",
           "Violaceomyces palustris",
           null,
           null,
           "1673888",
           0.000001952542153547179,
           -0.017514677295378922,
           0.01861772956432071,
           -0.07259317942924488
          ]
         ],
         "hovertemplate": "<b>%{customdata[0]}</b><br>Family Name: %{customdata[1]}<br>Domain: %{customdata[2]}<br>Kingdom: %{customdata[3]}</b><br>Phylum: %{customdata[4]}<br>Class: %{customdata[5]}<br>Order: %{customdata[6]}<br>Family: %{customdata[7]}<br>Genus: %{customdata[8]}<br>Species: %{customdata[9]}<br>EC Number: %{customdata[10]}<br>Mol Weight: %{customdata[11]}<br>Taxonomy ID: %{customdata[12]}<extra></extra>",
         "marker": {
          "color": "rgb(35, 163, 134)",
          "size": 6,
          "symbol": "circle"
         },
         "mode": "markers",
         "text": "putative TEM1-GTP-binding protein of the ras superfamily",
         "type": "scatter3d",
         "x": [
          -0.017514677295378922
         ],
         "y": [
          0.01861772956432071
         ],
         "z": [
          -0.07259317942924488
         ]
        },
        {
         "customdata": [
          [
           "hypothetical protein",
           null,
           "Eukaryota",
           "Fungi",
           "Ascomycota",
           "Eurotiomycetes",
           "Eurotiales",
           "Aspergillaceae",
           "Penicillium",
           "Penicillium malachiteum",
           null,
           null,
           "1324776",
           0.0007796294915582619,
           0.028362645280589984,
           0.03182771412968919,
           -0.032218044556175184
          ]
         ],
         "hovertemplate": "<b>%{customdata[0]}</b><br>Family Name: %{customdata[1]}<br>Domain: %{customdata[2]}<br>Kingdom: %{customdata[3]}</b><br>Phylum: %{customdata[4]}<br>Class: %{customdata[5]}<br>Order: %{customdata[6]}<br>Family: %{customdata[7]}<br>Genus: %{customdata[8]}<br>Species: %{customdata[9]}<br>EC Number: %{customdata[10]}<br>Mol Weight: %{customdata[11]}<br>Taxonomy ID: %{customdata[12]}<extra></extra>",
         "marker": {
          "color": "rgb(72, 41, 120)",
          "size": 6,
          "symbol": "circle"
         },
         "mode": "markers",
         "text": "hypothetical protein",
         "type": "scatter3d",
         "x": [
          0.028362645280589984
         ],
         "y": [
          0.03182771412968919
         ],
         "z": [
          -0.032218044556175184
         ]
        },
        {
         "customdata": [
          [
           "septum-promoting GTP-binding protein 1",
           null,
           "Eukaryota",
           "Fungi",
           "Ascomycota",
           "Leotiomycetes",
           "Leotiales",
           "Tympanidaceae",
           "Claussenomyces",
           "Claussenomyces sp. TS43310",
           null,
           null,
           "2939399",
           0.0006581708197094364,
           0.024609800080147484,
           0.032349848364690584,
           -0.04198664202796268
          ]
         ],
         "hovertemplate": "<b>%{customdata[0]}</b><br>Family Name: %{customdata[1]}<br>Domain: %{customdata[2]}<br>Kingdom: %{customdata[3]}</b><br>Phylum: %{customdata[4]}<br>Class: %{customdata[5]}<br>Order: %{customdata[6]}<br>Family: %{customdata[7]}<br>Genus: %{customdata[8]}<br>Species: %{customdata[9]}<br>EC Number: %{customdata[10]}<br>Mol Weight: %{customdata[11]}<br>Taxonomy ID: %{customdata[12]}<extra></extra>",
         "marker": {
          "color": "rgb(37, 132, 142)",
          "size": 6,
          "symbol": "circle"
         },
         "mode": "markers",
         "text": "septum-promoting GTP-binding protein 1",
         "type": "scatter3d",
         "x": [
          0.024609800080147484
         ],
         "y": [
          0.032349848364690584
         ],
         "z": [
          -0.04198664202796268
         ]
        },
        {
         "customdata": [
          [
           "f0ea1c64-d953-4cb0-85b0-4c02922ce60f",
           null,
           "Eukaryota",
           "Fungi",
           "Ascomycota",
           "Leotiomycetes",
           "Helotiales",
           "Sclerotiniaceae",
           "Sclerotinia",
           "Sclerotinia trifoliorum",
           null,
           null,
           "28548",
           0.0033297660098531388,
           0.05822131705953896,
           0.04448278729772958,
           -0.031615409109929514
          ]
         ],
         "hovertemplate": "<b>%{customdata[0]}</b><br>Family Name: %{customdata[1]}<br>Domain: %{customdata[2]}<br>Kingdom: %{customdata[3]}</b><br>Phylum: %{customdata[4]}<br>Class: %{customdata[5]}<br>Order: %{customdata[6]}<br>Family: %{customdata[7]}<br>Genus: %{customdata[8]}<br>Species: %{customdata[9]}<br>EC Number: %{customdata[10]}<br>Mol Weight: %{customdata[11]}<br>Taxonomy ID: %{customdata[12]}<extra></extra>",
         "marker": {
          "color": "rgb(150, 215, 63)",
          "size": 6,
          "symbol": "circle"
         },
         "mode": "markers",
         "text": "f0ea1c64-d953-4cb0-85b0-4c02922ce60f",
         "type": "scatter3d",
         "x": [
          0.05822131705953896
         ],
         "y": [
          0.04448278729772958
         ],
         "z": [
          -0.031615409109929514
         ]
        },
        {
         "customdata": [
          [
           "septum-promoting GTP-binding protein 1",
           null,
           "Eukaryota",
           "Fungi",
           "Ascomycota",
           "Eurotiomycetes",
           "Eurotiales",
           "Aspergillaceae",
           "Aspergillus",
           "Aspergillus thermomutatus",
           null,
           34591,
           "41047",
           0.0004164759146262202,
           0.017095432205349204,
           0.03416619798182401,
           -0.028912476718959548
          ]
         ],
         "hovertemplate": "<b>%{customdata[0]}</b><br>Family Name: %{customdata[1]}<br>Domain: %{customdata[2]}<br>Kingdom: %{customdata[3]}</b><br>Phylum: %{customdata[4]}<br>Class: %{customdata[5]}<br>Order: %{customdata[6]}<br>Family: %{customdata[7]}<br>Genus: %{customdata[8]}<br>Species: %{customdata[9]}<br>EC Number: %{customdata[10]}<br>Mol Weight: %{customdata[11]}<br>Taxonomy ID: %{customdata[12]}<extra></extra>",
         "marker": {
          "color": "rgb(32, 156, 137)",
          "size": 6,
          "symbol": "circle"
         },
         "mode": "markers",
         "text": "septum-promoting GTP-binding protein 1",
         "type": "scatter3d",
         "x": [
          0.017095432205349204
         ],
         "y": [
          0.03416619798182401
         ],
         "z": [
          -0.028912476718959548
         ]
        },
        {
         "customdata": [
          [
           "small GTPase",
           null,
           "Eukaryota",
           "Fungi",
           "Ascomycota",
           "Sordariomycetes",
           "Xylariales",
           "Hypoxylaceae",
           "Jackrogersella",
           "Jackrogersella minutella",
           null,
           null,
           "1955266",
           0.0005832279800851888,
           0.058848597091854186,
           0.0432849324000831,
           -0.038340723848558
          ]
         ],
         "hovertemplate": "<b>%{customdata[0]}</b><br>Family Name: %{customdata[1]}<br>Domain: %{customdata[2]}<br>Kingdom: %{customdata[3]}</b><br>Phylum: %{customdata[4]}<br>Class: %{customdata[5]}<br>Order: %{customdata[6]}<br>Family: %{customdata[7]}<br>Genus: %{customdata[8]}<br>Species: %{customdata[9]}<br>EC Number: %{customdata[10]}<br>Mol Weight: %{customdata[11]}<br>Taxonomy ID: %{customdata[12]}<extra></extra>",
         "marker": {
          "color": "rgb(67, 56, 128)",
          "size": 6,
          "symbol": "circle"
         },
         "mode": "markers",
         "text": "small GTPase",
         "type": "scatter3d",
         "x": [
          0.058848597091854186
         ],
         "y": [
          0.0432849324000831
         ],
         "z": [
          -0.038340723848558
         ]
        },
        {
         "customdata": [
          [
           "rab family, other",
           null,
           "Eukaryota",
           "Fungi",
           "Ascomycota",
           "Eurotiomycetes",
           "Chaetothyriales",
           "Herpotrichiellaceae",
           "Capronia",
           "Capronia epimyces",
           null,
           32067,
           "1182542",
           0.0000872445780999764,
           0.04875694800395139,
           0.028719611269529408,
           0.010581303990566818
          ]
         ],
         "hovertemplate": "<b>%{customdata[0]}</b><br>Family Name: %{customdata[1]}<br>Domain: %{customdata[2]}<br>Kingdom: %{customdata[3]}</b><br>Phylum: %{customdata[4]}<br>Class: %{customdata[5]}<br>Order: %{customdata[6]}<br>Family: %{customdata[7]}<br>Genus: %{customdata[8]}<br>Species: %{customdata[9]}<br>EC Number: %{customdata[10]}<br>Mol Weight: %{customdata[11]}<br>Taxonomy ID: %{customdata[12]}<extra></extra>",
         "marker": {
          "color": "rgb(230, 228, 39)",
          "size": 6,
          "symbol": "circle"
         },
         "mode": "markers",
         "text": "rab family, other",
         "type": "scatter3d",
         "x": [
          0.04875694800395139
         ],
         "y": [
          0.028719611269529408
         ],
         "z": [
          0.010581303990566818
         ]
        }
       ],
       "layout": {
        "hovermode": "closest",
        "margin": {
         "b": 0,
         "l": 0,
         "r": 0,
         "t": 0
        },
        "plot_bgcolor": "white",
        "scene": {
         "xaxis": {
          "visible": false
         },
         "yaxis": {
          "visible": false
         },
         "zaxis": {
          "visible": false
         }
        },
        "showlegend": false,
        "template": {
         "data": {
          "bar": [
           {
            "error_x": {
             "color": "#2a3f5f"
            },
            "error_y": {
             "color": "#2a3f5f"
            },
            "marker": {
             "line": {
              "color": "#E5ECF6",
              "width": 0.5
             },
             "pattern": {
              "fillmode": "overlay",
              "size": 10,
              "solidity": 0.2
             }
            },
            "type": "bar"
           }
          ],
          "barpolar": [
           {
            "marker": {
             "line": {
              "color": "#E5ECF6",
              "width": 0.5
             },
             "pattern": {
              "fillmode": "overlay",
              "size": 10,
              "solidity": 0.2
             }
            },
            "type": "barpolar"
           }
          ],
          "carpet": [
           {
            "aaxis": {
             "endlinecolor": "#2a3f5f",
             "gridcolor": "white",
             "linecolor": "white",
             "minorgridcolor": "white",
             "startlinecolor": "#2a3f5f"
            },
            "baxis": {
             "endlinecolor": "#2a3f5f",
             "gridcolor": "white",
             "linecolor": "white",
             "minorgridcolor": "white",
             "startlinecolor": "#2a3f5f"
            },
            "type": "carpet"
           }
          ],
          "choropleth": [
           {
            "colorbar": {
             "outlinewidth": 0,
             "ticks": ""
            },
            "type": "choropleth"
           }
          ],
          "contour": [
           {
            "colorbar": {
             "outlinewidth": 0,
             "ticks": ""
            },
            "colorscale": [
             [
              0,
              "#0d0887"
             ],
             [
              0.1111111111111111,
              "#46039f"
             ],
             [
              0.2222222222222222,
              "#7201a8"
             ],
             [
              0.3333333333333333,
              "#9c179e"
             ],
             [
              0.4444444444444444,
              "#bd3786"
             ],
             [
              0.5555555555555556,
              "#d8576b"
             ],
             [
              0.6666666666666666,
              "#ed7953"
             ],
             [
              0.7777777777777778,
              "#fb9f3a"
             ],
             [
              0.8888888888888888,
              "#fdca26"
             ],
             [
              1,
              "#f0f921"
             ]
            ],
            "type": "contour"
           }
          ],
          "contourcarpet": [
           {
            "colorbar": {
             "outlinewidth": 0,
             "ticks": ""
            },
            "type": "contourcarpet"
           }
          ],
          "heatmap": [
           {
            "colorbar": {
             "outlinewidth": 0,
             "ticks": ""
            },
            "colorscale": [
             [
              0,
              "#0d0887"
             ],
             [
              0.1111111111111111,
              "#46039f"
             ],
             [
              0.2222222222222222,
              "#7201a8"
             ],
             [
              0.3333333333333333,
              "#9c179e"
             ],
             [
              0.4444444444444444,
              "#bd3786"
             ],
             [
              0.5555555555555556,
              "#d8576b"
             ],
             [
              0.6666666666666666,
              "#ed7953"
             ],
             [
              0.7777777777777778,
              "#fb9f3a"
             ],
             [
              0.8888888888888888,
              "#fdca26"
             ],
             [
              1,
              "#f0f921"
             ]
            ],
            "type": "heatmap"
           }
          ],
          "heatmapgl": [
           {
            "colorbar": {
             "outlinewidth": 0,
             "ticks": ""
            },
            "colorscale": [
             [
              0,
              "#0d0887"
             ],
             [
              0.1111111111111111,
              "#46039f"
             ],
             [
              0.2222222222222222,
              "#7201a8"
             ],
             [
              0.3333333333333333,
              "#9c179e"
             ],
             [
              0.4444444444444444,
              "#bd3786"
             ],
             [
              0.5555555555555556,
              "#d8576b"
             ],
             [
              0.6666666666666666,
              "#ed7953"
             ],
             [
              0.7777777777777778,
              "#fb9f3a"
             ],
             [
              0.8888888888888888,
              "#fdca26"
             ],
             [
              1,
              "#f0f921"
             ]
            ],
            "type": "heatmapgl"
           }
          ],
          "histogram": [
           {
            "marker": {
             "pattern": {
              "fillmode": "overlay",
              "size": 10,
              "solidity": 0.2
             }
            },
            "type": "histogram"
           }
          ],
          "histogram2d": [
           {
            "colorbar": {
             "outlinewidth": 0,
             "ticks": ""
            },
            "colorscale": [
             [
              0,
              "#0d0887"
             ],
             [
              0.1111111111111111,
              "#46039f"
             ],
             [
              0.2222222222222222,
              "#7201a8"
             ],
             [
              0.3333333333333333,
              "#9c179e"
             ],
             [
              0.4444444444444444,
              "#bd3786"
             ],
             [
              0.5555555555555556,
              "#d8576b"
             ],
             [
              0.6666666666666666,
              "#ed7953"
             ],
             [
              0.7777777777777778,
              "#fb9f3a"
             ],
             [
              0.8888888888888888,
              "#fdca26"
             ],
             [
              1,
              "#f0f921"
             ]
            ],
            "type": "histogram2d"
           }
          ],
          "histogram2dcontour": [
           {
            "colorbar": {
             "outlinewidth": 0,
             "ticks": ""
            },
            "colorscale": [
             [
              0,
              "#0d0887"
             ],
             [
              0.1111111111111111,
              "#46039f"
             ],
             [
              0.2222222222222222,
              "#7201a8"
             ],
             [
              0.3333333333333333,
              "#9c179e"
             ],
             [
              0.4444444444444444,
              "#bd3786"
             ],
             [
              0.5555555555555556,
              "#d8576b"
             ],
             [
              0.6666666666666666,
              "#ed7953"
             ],
             [
              0.7777777777777778,
              "#fb9f3a"
             ],
             [
              0.8888888888888888,
              "#fdca26"
             ],
             [
              1,
              "#f0f921"
             ]
            ],
            "type": "histogram2dcontour"
           }
          ],
          "mesh3d": [
           {
            "colorbar": {
             "outlinewidth": 0,
             "ticks": ""
            },
            "type": "mesh3d"
           }
          ],
          "parcoords": [
           {
            "line": {
             "colorbar": {
              "outlinewidth": 0,
              "ticks": ""
             }
            },
            "type": "parcoords"
           }
          ],
          "pie": [
           {
            "automargin": true,
            "type": "pie"
           }
          ],
          "scatter": [
           {
            "fillpattern": {
             "fillmode": "overlay",
             "size": 10,
             "solidity": 0.2
            },
            "type": "scatter"
           }
          ],
          "scatter3d": [
           {
            "line": {
             "colorbar": {
              "outlinewidth": 0,
              "ticks": ""
             }
            },
            "marker": {
             "colorbar": {
              "outlinewidth": 0,
              "ticks": ""
             }
            },
            "type": "scatter3d"
           }
          ],
          "scattercarpet": [
           {
            "marker": {
             "colorbar": {
              "outlinewidth": 0,
              "ticks": ""
             }
            },
            "type": "scattercarpet"
           }
          ],
          "scattergeo": [
           {
            "marker": {
             "colorbar": {
              "outlinewidth": 0,
              "ticks": ""
             }
            },
            "type": "scattergeo"
           }
          ],
          "scattergl": [
           {
            "marker": {
             "colorbar": {
              "outlinewidth": 0,
              "ticks": ""
             }
            },
            "type": "scattergl"
           }
          ],
          "scattermapbox": [
           {
            "marker": {
             "colorbar": {
              "outlinewidth": 0,
              "ticks": ""
             }
            },
            "type": "scattermapbox"
           }
          ],
          "scatterpolar": [
           {
            "marker": {
             "colorbar": {
              "outlinewidth": 0,
              "ticks": ""
             }
            },
            "type": "scatterpolar"
           }
          ],
          "scatterpolargl": [
           {
            "marker": {
             "colorbar": {
              "outlinewidth": 0,
              "ticks": ""
             }
            },
            "type": "scatterpolargl"
           }
          ],
          "scatterternary": [
           {
            "marker": {
             "colorbar": {
              "outlinewidth": 0,
              "ticks": ""
             }
            },
            "type": "scatterternary"
           }
          ],
          "surface": [
           {
            "colorbar": {
             "outlinewidth": 0,
             "ticks": ""
            },
            "colorscale": [
             [
              0,
              "#0d0887"
             ],
             [
              0.1111111111111111,
              "#46039f"
             ],
             [
              0.2222222222222222,
              "#7201a8"
             ],
             [
              0.3333333333333333,
              "#9c179e"
             ],
             [
              0.4444444444444444,
              "#bd3786"
             ],
             [
              0.5555555555555556,
              "#d8576b"
             ],
             [
              0.6666666666666666,
              "#ed7953"
             ],
             [
              0.7777777777777778,
              "#fb9f3a"
             ],
             [
              0.8888888888888888,
              "#fdca26"
             ],
             [
              1,
              "#f0f921"
             ]
            ],
            "type": "surface"
           }
          ],
          "table": [
           {
            "cells": {
             "fill": {
              "color": "#EBF0F8"
             },
             "line": {
              "color": "white"
             }
            },
            "header": {
             "fill": {
              "color": "#C8D4E3"
             },
             "line": {
              "color": "white"
             }
            },
            "type": "table"
           }
          ]
         },
         "layout": {
          "annotationdefaults": {
           "arrowcolor": "#2a3f5f",
           "arrowhead": 0,
           "arrowwidth": 1
          },
          "autotypenumbers": "strict",
          "coloraxis": {
           "colorbar": {
            "outlinewidth": 0,
            "ticks": ""
           }
          },
          "colorscale": {
           "diverging": [
            [
             0,
             "#8e0152"
            ],
            [
             0.1,
             "#c51b7d"
            ],
            [
             0.2,
             "#de77ae"
            ],
            [
             0.3,
             "#f1b6da"
            ],
            [
             0.4,
             "#fde0ef"
            ],
            [
             0.5,
             "#f7f7f7"
            ],
            [
             0.6,
             "#e6f5d0"
            ],
            [
             0.7,
             "#b8e186"
            ],
            [
             0.8,
             "#7fbc41"
            ],
            [
             0.9,
             "#4d9221"
            ],
            [
             1,
             "#276419"
            ]
           ],
           "sequential": [
            [
             0,
             "#0d0887"
            ],
            [
             0.1111111111111111,
             "#46039f"
            ],
            [
             0.2222222222222222,
             "#7201a8"
            ],
            [
             0.3333333333333333,
             "#9c179e"
            ],
            [
             0.4444444444444444,
             "#bd3786"
            ],
            [
             0.5555555555555556,
             "#d8576b"
            ],
            [
             0.6666666666666666,
             "#ed7953"
            ],
            [
             0.7777777777777778,
             "#fb9f3a"
            ],
            [
             0.8888888888888888,
             "#fdca26"
            ],
            [
             1,
             "#f0f921"
            ]
           ],
           "sequentialminus": [
            [
             0,
             "#0d0887"
            ],
            [
             0.1111111111111111,
             "#46039f"
            ],
            [
             0.2222222222222222,
             "#7201a8"
            ],
            [
             0.3333333333333333,
             "#9c179e"
            ],
            [
             0.4444444444444444,
             "#bd3786"
            ],
            [
             0.5555555555555556,
             "#d8576b"
            ],
            [
             0.6666666666666666,
             "#ed7953"
            ],
            [
             0.7777777777777778,
             "#fb9f3a"
            ],
            [
             0.8888888888888888,
             "#fdca26"
            ],
            [
             1,
             "#f0f921"
            ]
           ]
          },
          "colorway": [
           "#636efa",
           "#EF553B",
           "#00cc96",
           "#ab63fa",
           "#FFA15A",
           "#19d3f3",
           "#FF6692",
           "#B6E880",
           "#FF97FF",
           "#FECB52"
          ],
          "font": {
           "color": "#2a3f5f"
          },
          "geo": {
           "bgcolor": "white",
           "lakecolor": "white",
           "landcolor": "#E5ECF6",
           "showlakes": true,
           "showland": true,
           "subunitcolor": "white"
          },
          "hoverlabel": {
           "align": "left"
          },
          "hovermode": "closest",
          "mapbox": {
           "style": "light"
          },
          "paper_bgcolor": "white",
          "plot_bgcolor": "#E5ECF6",
          "polar": {
           "angularaxis": {
            "gridcolor": "white",
            "linecolor": "white",
            "ticks": ""
           },
           "bgcolor": "#E5ECF6",
           "radialaxis": {
            "gridcolor": "white",
            "linecolor": "white",
            "ticks": ""
           }
          },
          "scene": {
           "xaxis": {
            "backgroundcolor": "#E5ECF6",
            "gridcolor": "white",
            "gridwidth": 2,
            "linecolor": "white",
            "showbackground": true,
            "ticks": "",
            "zerolinecolor": "white"
           },
           "yaxis": {
            "backgroundcolor": "#E5ECF6",
            "gridcolor": "white",
            "gridwidth": 2,
            "linecolor": "white",
            "showbackground": true,
            "ticks": "",
            "zerolinecolor": "white"
           },
           "zaxis": {
            "backgroundcolor": "#E5ECF6",
            "gridcolor": "white",
            "gridwidth": 2,
            "linecolor": "white",
            "showbackground": true,
            "ticks": "",
            "zerolinecolor": "white"
           }
          },
          "shapedefaults": {
           "line": {
            "color": "#2a3f5f"
           }
          },
          "ternary": {
           "aaxis": {
            "gridcolor": "white",
            "linecolor": "white",
            "ticks": ""
           },
           "baxis": {
            "gridcolor": "white",
            "linecolor": "white",
            "ticks": ""
           },
           "bgcolor": "#E5ECF6",
           "caxis": {
            "gridcolor": "white",
            "linecolor": "white",
            "ticks": ""
           }
          },
          "title": {
           "x": 0.05
          },
          "xaxis": {
           "automargin": true,
           "gridcolor": "white",
           "linecolor": "white",
           "ticks": "",
           "title": {
            "standoff": 15
           },
           "zerolinecolor": "white",
           "zerolinewidth": 2
          },
          "yaxis": {
           "automargin": true,
           "gridcolor": "white",
           "linecolor": "white",
           "ticks": "",
           "title": {
            "standoff": 15
           },
           "zerolinecolor": "white",
           "zerolinewidth": 2
          }
         }
        },
        "xaxis": {
         "visible": false
        },
        "yaxis": {
         "visible": false
        }
       }
      }
     },
     "metadata": {},
     "output_type": "display_data"
    }
   ],
   "source": [
    "n = SequenceNetwork(\n",
    "    sequences=blast_results,\n",
    "    pairwise_alignments=multi_parwise_alignments,\n",
    "    threshold=0.9,\n",
    "    weight=\"identity\",\n",
    "    dimensions=3,\n",
    "    color=\"taxonomy_id\",\n",
    ")\n",
    "n.add_target(metTK)\n",
    "n.visualize()"
   ]
  },
  {
   "cell_type": "code",
   "execution_count": null,
   "metadata": {},
   "outputs": [],
   "source": []
  },
  {
   "cell_type": "code",
   "execution_count": null,
   "metadata": {},
   "outputs": [],
   "source": [
    "from rich import print\n",
    "from rich.progress import Progress"
   ]
  },
  {
   "cell_type": "code",
   "execution_count": null,
   "metadata": {},
   "outputs": [],
   "source": [
    "import numpy as np\n",
    "import time\n",
    "\n",
    "\n",
    "li = np.arange(9).reshape(3, 3)"
   ]
  },
  {
   "cell_type": "code",
   "execution_count": null,
   "metadata": {},
   "outputs": [
    {
     "data": {
      "text/plain": [
       "9"
      ]
     },
     "execution_count": 9,
     "metadata": {},
     "output_type": "execute_result"
    }
   ],
   "source": [
    "li.size"
   ]
  },
  {
   "cell_type": "code",
   "execution_count": null,
   "metadata": {},
   "outputs": [
    {
     "data": {
      "text/html": [
       "<pre style=\"white-space:pre;overflow-x:auto;line-height:normal;font-family:Menlo,'DejaVu Sans Mono',consolas,'Courier New',monospace\">⬇️ Downloading<span style=\"color: #808000; text-decoration-color: #808000\">...</span>\n",
       "</pre>\n"
      ],
      "text/plain": [
       "⬇️ Downloading\u001b[33m...\u001b[0m\n"
      ]
     },
     "metadata": {},
     "output_type": "display_data"
    },
    {
     "data": {
      "text/html": [
       "<pre style=\"white-space:pre;overflow-x:auto;line-height:normal;font-family:Menlo,'DejaVu Sans Mono',consolas,'Courier New',monospace\"></pre>\n"
      ],
      "text/plain": [
       "\u001b[?25l"
      ]
     },
     "metadata": {},
     "output_type": "display_data"
    },
    {
     "data": {
      "application/vnd.jupyter.widget-view+json": {
       "model_id": "006bc8536b3c4612ba57bfd0cff80e84",
       "version_major": 2,
       "version_minor": 0
      },
      "text/plain": [
       "Output()"
      ]
     },
     "metadata": {},
     "output_type": "display_data"
    },
    {
     "data": {
      "text/html": [
       "<pre style=\"white-space:pre;overflow-x:auto;line-height:normal;font-family:Menlo,'DejaVu Sans Mono',consolas,'Courier New',monospace\">\n",
       "</pre>\n"
      ],
      "text/plain": [
       "\n",
       "\u001b[?25h\r\u001b[1A\u001b[2K"
      ]
     },
     "metadata": {},
     "output_type": "display_data"
    },
    {
     "data": {
      "text/html": [
       "<pre style=\"white-space:pre;overflow-x:auto;line-height:normal;font-family:Menlo,'DejaVu Sans Mono',consolas,'Courier New',monospace\"></pre>\n"
      ],
      "text/plain": [
       "\u001b[?25l"
      ]
     },
     "metadata": {},
     "output_type": "display_data"
    },
    {
     "data": {
      "application/vnd.jupyter.widget-view+json": {
       "model_id": "e8c0254f62ed4f6a81804331fff53f82",
       "version_major": 2,
       "version_minor": 0
      },
      "text/plain": [
       "Output()"
      ]
     },
     "metadata": {},
     "output_type": "display_data"
    },
    {
     "data": {
      "text/html": [
       "<pre style=\"white-space:pre;overflow-x:auto;line-height:normal;font-family:Menlo,'DejaVu Sans Mono',consolas,'Courier New',monospace\">\n",
       "</pre>\n"
      ],
      "text/plain": [
       "\n",
       "\u001b[?25h\r\u001b[1A\u001b[2K"
      ]
     },
     "metadata": {},
     "output_type": "display_data"
    },
    {
     "data": {
      "text/html": [
       "<pre style=\"white-space:pre;overflow-x:auto;line-height:normal;font-family:Menlo,'DejaVu Sans Mono',consolas,'Courier New',monospace\"></pre>\n"
      ],
      "text/plain": [
       "\u001b[?25l"
      ]
     },
     "metadata": {},
     "output_type": "display_data"
    },
    {
     "data": {
      "application/vnd.jupyter.widget-view+json": {
       "model_id": "608675e922f64fe0b8718bc92d4a842c",
       "version_major": 2,
       "version_minor": 0
      },
      "text/plain": [
       "Output()"
      ]
     },
     "metadata": {},
     "output_type": "display_data"
    },
    {
     "data": {
      "text/html": [
       "<pre style=\"white-space:pre;overflow-x:auto;line-height:normal;font-family:Menlo,'DejaVu Sans Mono',consolas,'Courier New',monospace\">\n",
       "</pre>\n"
      ],
      "text/plain": [
       "\n",
       "\u001b[?25h\r\u001b[1A\u001b[2K"
      ]
     },
     "metadata": {},
     "output_type": "display_data"
    },
    {
     "ename": "KeyboardInterrupt",
     "evalue": "",
     "output_type": "error",
     "traceback": [
      "\u001b[0;31m---------------------------------------------------------------------------\u001b[0m",
      "\u001b[0;31mKeyboardInterrupt\u001b[0m                         Traceback (most recent call last)",
      "Cell \u001b[0;32mIn[10], line 22\u001b[0m\n\u001b[1;32m     20\u001b[0m         \u001b[38;5;28;01mfor\u001b[39;00m l \u001b[38;5;129;01min\u001b[39;00m subset:\n\u001b[1;32m     21\u001b[0m             progress\u001b[38;5;241m.\u001b[39mupdate(task, advance\u001b[38;5;241m=\u001b[39m\u001b[38;5;241m1\u001b[39m)\n\u001b[0;32m---> 22\u001b[0m             \u001b[43mtime\u001b[49m\u001b[38;5;241;43m.\u001b[39;49m\u001b[43msleep\u001b[49m\u001b[43m(\u001b[49m\u001b[38;5;241;43m0.5\u001b[39;49m\u001b[43m)\u001b[49m\n\u001b[1;32m     24\u001b[0m \u001b[38;5;28mprint\u001b[39m(\u001b[38;5;124m\"\u001b[39m\u001b[38;5;124m🎉 Done!\u001b[39m\u001b[38;5;124m\"\u001b[39m)\n",
      "\u001b[0;31mKeyboardInterrupt\u001b[0m: "
     ]
    }
   ],
   "source": [
    "print(\"⬇️ Downloading...\")\n",
    "\n",
    "with Progress(transient=True) as progress:\n",
    "    task = progress.add_task(\"Working\", total=li.size)\n",
    "    for subset in li:\n",
    "        for l in subset:\n",
    "            progress.update(task, advance=1)\n",
    "            time.sleep(0.5)\n",
    "\n",
    "with Progress(transient=True) as progress:\n",
    "    task = progress.add_task(\"Working\", total=li.size)\n",
    "    for subset in li:\n",
    "        for l in subset:\n",
    "            progress.update(task, advance=1)\n",
    "            time.sleep(0.5)\n",
    "\n",
    "with Progress(transient=True) as progress:\n",
    "    task = progress.add_task(\"Working\", total=li.size)\n",
    "    for subset in li:\n",
    "        for l in subset:\n",
    "            progress.update(task, advance=1)\n",
    "            time.sleep(0.5)\n",
    "\n",
    "print(\"🎉 Done!\")"
   ]
  },
  {
   "cell_type": "code",
   "execution_count": null,
   "metadata": {},
   "outputs": [],
   "source": [
    "from pyeed.core import ProteinInfo\n",
    "\n",
    "protein = ProteinInfo(sequence=\"MTEITAAMVKELREDKAVQLLREKGLGK\")"
   ]
  },
  {
   "cell_type": "code",
   "execution_count": null,
   "metadata": {},
   "outputs": [],
   "source": [
    "protein = ProteinInfo.get_id(\"UCS38941.1\")\n",
    "protein.to_fasta(\"protein.fasta\")"
   ]
  }
 ],
 "metadata": {
  "kernelspec": {
   "display_name": "pye",
   "language": "python",
   "name": "python3"
  },
  "language_info": {
   "codemirror_mode": {
    "name": "ipython",
    "version": 3
   },
   "file_extension": ".py",
   "mimetype": "text/x-python",
   "name": "python",
   "nbconvert_exporter": "python",
   "pygments_lexer": "ipython3",
   "version": "3.10.13"
  }
 },
 "nbformat": 4,
 "nbformat_minor": 2
}
