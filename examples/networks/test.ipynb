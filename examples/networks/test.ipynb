{
 "cells": [
  {
   "cell_type": "markdown",
   "metadata": {},
   "source": [
    "# Network Visualization"
   ]
  },
  {
   "cell_type": "code",
   "execution_count": 1,
   "metadata": {},
   "outputs": [],
   "source": [
    "%reload_ext autoreload\n",
    "%autoreload 2\n",
    "from pyeed.core import ProteinInfo, Alignment\n",
    "from pyeed.aligners import PairwiseAligner\n",
    "from pyeed.network import SequenceNetwork"
   ]
  },
  {
   "cell_type": "code",
   "execution_count": 2,
   "metadata": {},
   "outputs": [],
   "source": [
    "# Get a query sequence from NCBI\n",
    "metTK = ProteinInfo.from_ncbi(\"WP_011249500.1\")"
   ]
  },
  {
   "cell_type": "code",
   "execution_count": 3,
   "metadata": {},
   "outputs": [
    {
     "name": "stdout",
     "output_type": "stream",
     "text": [
      "🏃🏼‍♀️ Running PBLAST\n",
      "╭── protein name: methionine adenosyltransferase\n",
      "├── accession: WP_011249500.1\n",
      "├── organism: Thermococcus kodakarensis\n",
      "├── e-value: 10.0\n",
      "╰── max hits: 200\n"
     ]
    },
    {
     "name": "stderr",
     "output_type": "stream",
     "text": [
      "⬇️ Fetching protein sequences: 100%|██████████| 200/200 [00:14<00:00, 13.97it/s]"
     ]
    },
    {
     "name": "stdout",
     "output_type": "stream",
     "text": [
      "🎉 Done\n",
      "\n"
     ]
    },
    {
     "name": "stderr",
     "output_type": "stream",
     "text": [
      "\n"
     ]
    }
   ],
   "source": [
    "# Run local blastp search\n",
    "blast_results = metTK.ncbi_blastp(n_hits=200)"
   ]
  },
  {
   "cell_type": "markdown",
   "metadata": {},
   "source": [
    "## Multi Pairwise Alignment"
   ]
  },
  {
   "cell_type": "code",
   "execution_count": 4,
   "metadata": {},
   "outputs": [
    {
     "name": "stderr",
     "output_type": "stream",
     "text": [
      "⛓️ Running pairwise alignments: 100%|██████████| 19900/19900 [00:05<00:00, 3893.75it/s]\n"
     ]
    }
   ],
   "source": [
    "# Create and run alignment\n",
    "multi_parwise_alignments = Alignment.from_sequences(\n",
    "    blast_results, aligner=PairwiseAligner\n",
    ")"
   ]
  },
  {
   "cell_type": "code",
   "execution_count": 13,
   "metadata": {},
   "outputs": [
    {
     "data": {
      "application/vnd.plotly.v1+json": {
       "config": {
        "plotlyServerURL": "https://plot.ly"
       },
       "data": [
        {
         "customdata": [
          [
           "methionine adenosyltransferase",
           null,
           "Archaea",
           "Euryarchaeota",
           "Thermococcales",
           "Thermococcus",
           null,
           null,
           null,
           "kodakarensis",
           "2.5.1.6",
           44484,
           "taxon:311400",
           0.0034294166547005787,
           -0.059125428429367397,
           0.02181262073503001,
           0.08409615499611146
          ]
         ],
         "hovertemplate": "<b>%{customdata[0]}</b><br>Family Name: %{customdata[1]}<br>Domain: %{customdata[2]}<br>Kingdom: %{customdata[3]}</b><br>Phylum: %{customdata[4]}<br>Class: %{customdata[5]}<br>Order: %{customdata[6]}<br>Family: %{customdata[7]}<br>Genus: %{customdata[8]}<br>Species: %{customdata[9]}<br>EC Number: %{customdata[10]}<br>Mol Weight: %{customdata[11]}<br>Taxonomy ID: %{customdata[12]}<extra></extra>",
         "marker": {
          "color": "red",
          "size": 10,
          "symbol": "cross"
         },
         "mode": "markers",
         "text": "methionine adenosyltransferase",
         "type": "scatter3d",
         "x": [
          -0.059125428429367397
         ],
         "y": [
          0.02181262073503001
         ],
         "z": [
          0.08409615499611146
         ]
        },
        {
         "customdata": [
          [
           "methionine adenosyltransferase",
           null,
           "Archaea",
           "Euryarchaeota",
           "Thermococcales",
           "Thermococcus",
           null,
           null,
           null,
           "peptonophilus",
           "2.5.1.6",
           44602,
           "taxon:53952",
           0.0034916742418287005,
           -0.03221545801889971,
           -0.0038836614940694946,
           0.05209705626268887
          ]
         ],
         "hovertemplate": "<b>%{customdata[0]}</b><br>Family Name: %{customdata[1]}<br>Domain: %{customdata[2]}<br>Kingdom: %{customdata[3]}</b><br>Phylum: %{customdata[4]}<br>Class: %{customdata[5]}<br>Order: %{customdata[6]}<br>Family: %{customdata[7]}<br>Genus: %{customdata[8]}<br>Species: %{customdata[9]}<br>EC Number: %{customdata[10]}<br>Mol Weight: %{customdata[11]}<br>Taxonomy ID: %{customdata[12]}<extra></extra>",
         "marker": {
          "color": "rgb(44, 117, 142)",
          "size": 6,
          "symbol": "circle"
         },
         "mode": "markers",
         "text": "methionine adenosyltransferase",
         "type": "scatter3d",
         "x": [
          -0.03221545801889971
         ],
         "y": [
          -0.0038836614940694946
         ],
         "z": [
          0.05209705626268887
         ]
        },
        {
         "customdata": [
          [
           "S-adenosylmethionine synthetase",
           null,
           "Archaea",
           "Euryarchaeota",
           "Thermococcales",
           "Thermococcus",
           null,
           null,
           null,
           "stetteri",
           "2.5.1.6",
           null,
           "taxon:49900",
           0.0007524797718517907,
           -0.06698622776173734,
           -0.0009336644008353985,
           0.06010832482190074
          ]
         ],
         "hovertemplate": "<b>%{customdata[0]}</b><br>Family Name: %{customdata[1]}<br>Domain: %{customdata[2]}<br>Kingdom: %{customdata[3]}</b><br>Phylum: %{customdata[4]}<br>Class: %{customdata[5]}<br>Order: %{customdata[6]}<br>Family: %{customdata[7]}<br>Genus: %{customdata[8]}<br>Species: %{customdata[9]}<br>EC Number: %{customdata[10]}<br>Mol Weight: %{customdata[11]}<br>Taxonomy ID: %{customdata[12]}<extra></extra>",
         "marker": {
          "color": "rgb(59, 80, 138)",
          "size": 6,
          "symbol": "circle"
         },
         "mode": "markers",
         "text": "S-adenosylmethionine synthetase",
         "type": "scatter3d",
         "x": [
          -0.06698622776173734
         ],
         "y": [
          -0.0009336644008353985
         ],
         "z": [
          0.06010832482190074
         ]
        },
        {
         "customdata": [
          [
           "methionine adenosyltransferase",
           null,
           "Archaea",
           "Euryarchaeota",
           "Thermococcales",
           "Thermococcus",
           null,
           null,
           null,
           "stetteri",
           "2.5.1.6",
           44691,
           "taxon:49900",
           0.003601336395280818,
           -0.03346699097153277,
           0.0025270465532406536,
           0.04665230709857144
          ]
         ],
         "hovertemplate": "<b>%{customdata[0]}</b><br>Family Name: %{customdata[1]}<br>Domain: %{customdata[2]}<br>Kingdom: %{customdata[3]}</b><br>Phylum: %{customdata[4]}<br>Class: %{customdata[5]}<br>Order: %{customdata[6]}<br>Family: %{customdata[7]}<br>Genus: %{customdata[8]}<br>Species: %{customdata[9]}<br>EC Number: %{customdata[10]}<br>Mol Weight: %{customdata[11]}<br>Taxonomy ID: %{customdata[12]}<extra></extra>",
         "marker": {
          "color": "rgb(59, 80, 138)",
          "size": 6,
          "symbol": "circle"
         },
         "mode": "markers",
         "text": "methionine adenosyltransferase",
         "type": "scatter3d",
         "x": [
          -0.03346699097153277
         ],
         "y": [
          0.0025270465532406536
         ],
         "z": [
          0.04665230709857144
         ]
        },
        {
         "customdata": [
          [
           "methionine adenosyltransferase",
           null,
           "Archaea",
           "Euryarchaeota",
           "Thermococcales",
           "Thermococcus",
           null,
           null,
           null,
           "sp.",
           "2.5.1.6",
           44603,
           "taxon:35749",
           0.0035241025168101315,
           -0.034277361957305054,
           -0.0014329183986935242,
           0.07025400604714324
          ]
         ],
         "hovertemplate": "<b>%{customdata[0]}</b><br>Family Name: %{customdata[1]}<br>Domain: %{customdata[2]}<br>Kingdom: %{customdata[3]}</b><br>Phylum: %{customdata[4]}<br>Class: %{customdata[5]}<br>Order: %{customdata[6]}<br>Family: %{customdata[7]}<br>Genus: %{customdata[8]}<br>Species: %{customdata[9]}<br>EC Number: %{customdata[10]}<br>Mol Weight: %{customdata[11]}<br>Taxonomy ID: %{customdata[12]}<extra></extra>",
         "marker": {
          "color": "rgb(161, 217, 56)",
          "size": 6,
          "symbol": "circle"
         },
         "mode": "markers",
         "text": "methionine adenosyltransferase",
         "type": "scatter3d",
         "x": [
          -0.034277361957305054
         ],
         "y": [
          -0.0014329183986935242
         ],
         "z": [
          0.07025400604714324
         ]
        },
        {
         "customdata": [
          [
           "methionine adenosyltransferase",
           null,
           "Archaea",
           "Euryarchaeota",
           "Thermococcales",
           "Thermococcus",
           null,
           null,
           null,
           "sp.",
           "2.5.1.6",
           44649,
           "taxon:35749",
           0.027766671859876295,
           -0.04083929786227852,
           -0.0030444185089875853,
           0.04670878097195948
          ]
         ],
         "hovertemplate": "<b>%{customdata[0]}</b><br>Family Name: %{customdata[1]}<br>Domain: %{customdata[2]}<br>Kingdom: %{customdata[3]}</b><br>Phylum: %{customdata[4]}<br>Class: %{customdata[5]}<br>Order: %{customdata[6]}<br>Family: %{customdata[7]}<br>Genus: %{customdata[8]}<br>Species: %{customdata[9]}<br>EC Number: %{customdata[10]}<br>Mol Weight: %{customdata[11]}<br>Taxonomy ID: %{customdata[12]}<extra></extra>",
         "marker": {
          "color": "rgb(161, 217, 56)",
          "size": 6,
          "symbol": "circle"
         },
         "mode": "markers",
         "text": "methionine adenosyltransferase",
         "type": "scatter3d",
         "x": [
          -0.04083929786227852
         ],
         "y": [
          -0.0030444185089875853
         ],
         "z": [
          0.04670878097195948
         ]
        },
        {
         "customdata": [
          [
           "methionine adenosyltransferase",
           null,
           "Archaea",
           "Euryarchaeota",
           "Thermococcales",
           "Thermococcus",
           null,
           null,
           null,
           "sp.",
           "2.5.1.6",
           44585,
           "taxon:35749",
           0.00012688391769490777,
           -0.026942810773859467,
           0.013123959979162143,
           0.06342986281955028
          ]
         ],
         "hovertemplate": "<b>%{customdata[0]}</b><br>Family Name: %{customdata[1]}<br>Domain: %{customdata[2]}<br>Kingdom: %{customdata[3]}</b><br>Phylum: %{customdata[4]}<br>Class: %{customdata[5]}<br>Order: %{customdata[6]}<br>Family: %{customdata[7]}<br>Genus: %{customdata[8]}<br>Species: %{customdata[9]}<br>EC Number: %{customdata[10]}<br>Mol Weight: %{customdata[11]}<br>Taxonomy ID: %{customdata[12]}<extra></extra>",
         "marker": {
          "color": "rgb(161, 217, 56)",
          "size": 6,
          "symbol": "circle"
         },
         "mode": "markers",
         "text": "methionine adenosyltransferase",
         "type": "scatter3d",
         "x": [
          -0.026942810773859467
         ],
         "y": [
          0.013123959979162143
         ],
         "z": [
          0.06342986281955028
         ]
        },
        {
         "customdata": [
          [
           "methionine adenosyltransferase",
           null,
           "Archaea",
           "Euryarchaeota",
           "Thermococcales",
           "Thermococcus",
           null,
           null,
           null,
           "nautili",
           "2.5.1.6",
           44562,
           "taxon:195522",
           0.003187680774370763,
           -0.030411312629405336,
           0.015176598612419651,
           0.07224634755325583
          ]
         ],
         "hovertemplate": "<b>%{customdata[0]}</b><br>Family Name: %{customdata[1]}<br>Domain: %{customdata[2]}<br>Kingdom: %{customdata[3]}</b><br>Phylum: %{customdata[4]}<br>Class: %{customdata[5]}<br>Order: %{customdata[6]}<br>Family: %{customdata[7]}<br>Genus: %{customdata[8]}<br>Species: %{customdata[9]}<br>EC Number: %{customdata[10]}<br>Mol Weight: %{customdata[11]}<br>Taxonomy ID: %{customdata[12]}<extra></extra>",
         "marker": {
          "color": "rgb(227, 228, 39)",
          "size": 6,
          "symbol": "circle"
         },
         "mode": "markers",
         "text": "methionine adenosyltransferase",
         "type": "scatter3d",
         "x": [
          -0.030411312629405336
         ],
         "y": [
          0.015176598612419651
         ],
         "z": [
          0.07224634755325583
         ]
        },
        {
         "customdata": [
          [
           "S-adenosylmethionine synthase",
           null,
           "Archaea",
           "Euryarchaeota",
           "Thermococcales",
           "Thermococcus",
           null,
           null,
           null,
           "nautili",
           "2.5.1.6",
           null,
           "taxon:195522",
           0.006602377680383656,
           -0.04614042203115246,
           0.010319405548031652,
           0.07625019947279682
          ]
         ],
         "hovertemplate": "<b>%{customdata[0]}</b><br>Family Name: %{customdata[1]}<br>Domain: %{customdata[2]}<br>Kingdom: %{customdata[3]}</b><br>Phylum: %{customdata[4]}<br>Class: %{customdata[5]}<br>Order: %{customdata[6]}<br>Family: %{customdata[7]}<br>Genus: %{customdata[8]}<br>Species: %{customdata[9]}<br>EC Number: %{customdata[10]}<br>Mol Weight: %{customdata[11]}<br>Taxonomy ID: %{customdata[12]}<extra></extra>",
         "marker": {
          "color": "rgb(227, 228, 39)",
          "size": 6,
          "symbol": "circle"
         },
         "mode": "markers",
         "text": "S-adenosylmethionine synthase",
         "type": "scatter3d",
         "x": [
          -0.04614042203115246
         ],
         "y": [
          0.010319405548031652
         ],
         "z": [
          0.07625019947279682
         ]
        },
        {
         "customdata": [
          [
           "methionine adenosyltransferase",
           null,
           "Archaea",
           "Euryarchaeota",
           "Thermococcales",
           "Thermococcus",
           null,
           null,
           null,
           "sp.",
           "2.5.1.6",
           44644,
           "taxon:35749",
           0.0035241025168101315,
           -0.0671035609282994,
           0.009058943346914223,
           0.041724442498938065
          ]
         ],
         "hovertemplate": "<b>%{customdata[0]}</b><br>Family Name: %{customdata[1]}<br>Domain: %{customdata[2]}<br>Kingdom: %{customdata[3]}</b><br>Phylum: %{customdata[4]}<br>Class: %{customdata[5]}<br>Order: %{customdata[6]}<br>Family: %{customdata[7]}<br>Genus: %{customdata[8]}<br>Species: %{customdata[9]}<br>EC Number: %{customdata[10]}<br>Mol Weight: %{customdata[11]}<br>Taxonomy ID: %{customdata[12]}<extra></extra>",
         "marker": {
          "color": "rgb(161, 217, 56)",
          "size": 6,
          "symbol": "circle"
         },
         "mode": "markers",
         "text": "methionine adenosyltransferase",
         "type": "scatter3d",
         "x": [
          -0.0671035609282994
         ],
         "y": [
          0.009058943346914223
         ],
         "z": [
          0.041724442498938065
         ]
        },
        {
         "customdata": [
          [
           "methionine adenosyltransferase",
           null,
           "Archaea",
           "Euryarchaeota",
           "Thermococcales",
           "Thermococcus",
           null,
           null,
           null,
           "nautili",
           "2.5.1.6",
           44563,
           "taxon:195522",
           0.0069590423665499244,
           -0.03623126340290408,
           0.010634342750219239,
           0.0726634411298454
          ]
         ],
         "hovertemplate": "<b>%{customdata[0]}</b><br>Family Name: %{customdata[1]}<br>Domain: %{customdata[2]}<br>Kingdom: %{customdata[3]}</b><br>Phylum: %{customdata[4]}<br>Class: %{customdata[5]}<br>Order: %{customdata[6]}<br>Family: %{customdata[7]}<br>Genus: %{customdata[8]}<br>Species: %{customdata[9]}<br>EC Number: %{customdata[10]}<br>Mol Weight: %{customdata[11]}<br>Taxonomy ID: %{customdata[12]}<extra></extra>",
         "marker": {
          "color": "rgb(227, 228, 39)",
          "size": 6,
          "symbol": "circle"
         },
         "mode": "markers",
         "text": "methionine adenosyltransferase",
         "type": "scatter3d",
         "x": [
          -0.03623126340290408
         ],
         "y": [
          0.010634342750219239
         ],
         "z": [
          0.0726634411298454
         ]
        },
        {
         "customdata": [
          [
           "methionine adenosyltransferase",
           null,
           "Archaea",
           "Euryarchaeota",
           "Thermococcales",
           "Thermococcus",
           null,
           null,
           null,
           "henrietii",
           "2.5.1.6",
           44633,
           "taxon:2016361",
           0.0036234664915474842,
           -0.03474903421935954,
           0.01132642056861872,
           0.05524475805379772
          ]
         ],
         "hovertemplate": "<b>%{customdata[0]}</b><br>Family Name: %{customdata[1]}<br>Domain: %{customdata[2]}<br>Kingdom: %{customdata[3]}</b><br>Phylum: %{customdata[4]}<br>Class: %{customdata[5]}<br>Order: %{customdata[6]}<br>Family: %{customdata[7]}<br>Genus: %{customdata[8]}<br>Species: %{customdata[9]}<br>EC Number: %{customdata[10]}<br>Mol Weight: %{customdata[11]}<br>Taxonomy ID: %{customdata[12]}<extra></extra>",
         "marker": {
          "color": "rgb(62, 73, 137)",
          "size": 6,
          "symbol": "circle"
         },
         "mode": "markers",
         "text": "methionine adenosyltransferase",
         "type": "scatter3d",
         "x": [
          -0.03474903421935954
         ],
         "y": [
          0.01132642056861872
         ],
         "z": [
          0.05524475805379772
         ]
        },
        {
         "customdata": [
          [
           "methionine adenosyltransferase",
           null,
           "Archaea",
           "Euryarchaeota",
           "Thermococcales",
           "Thermococcus",
           null,
           null,
           null,
           "sp.",
           "2.5.1.6",
           44591,
           "taxon:1638223",
           0.011077039895997733,
           -0.028196301920344845,
           0.004025982702966964,
           0.06501628911708988
          ]
         ],
         "hovertemplate": "<b>%{customdata[0]}</b><br>Family Name: %{customdata[1]}<br>Domain: %{customdata[2]}<br>Kingdom: %{customdata[3]}</b><br>Phylum: %{customdata[4]}<br>Class: %{customdata[5]}<br>Order: %{customdata[6]}<br>Family: %{customdata[7]}<br>Genus: %{customdata[8]}<br>Species: %{customdata[9]}<br>EC Number: %{customdata[10]}<br>Mol Weight: %{customdata[11]}<br>Taxonomy ID: %{customdata[12]}<extra></extra>",
         "marker": {
          "color": "rgb(71, 26, 107)",
          "size": 6,
          "symbol": "circle"
         },
         "mode": "markers",
         "text": "methionine adenosyltransferase",
         "type": "scatter3d",
         "x": [
          -0.028196301920344845
         ],
         "y": [
          0.004025982702966964
         ],
         "z": [
          0.06501628911708988
         ]
        },
        {
         "customdata": [
          [
           "methionine adenosyltransferase",
           null,
           "Archaea",
           "Euryarchaeota",
           "Thermococcales",
           "Thermococcus",
           null,
           null,
           null,
           "sp.",
           "2.5.1.6",
           44578,
           "taxon:163002",
           0.003187680774370763,
           -0.04738267933856218,
           0.0021607017665044225,
           0.06981588606415995
          ]
         ],
         "hovertemplate": "<b>%{customdata[0]}</b><br>Family Name: %{customdata[1]}<br>Domain: %{customdata[2]}<br>Kingdom: %{customdata[3]}</b><br>Phylum: %{customdata[4]}<br>Class: %{customdata[5]}<br>Order: %{customdata[6]}<br>Family: %{customdata[7]}<br>Genus: %{customdata[8]}<br>Species: %{customdata[9]}<br>EC Number: %{customdata[10]}<br>Mol Weight: %{customdata[11]}<br>Taxonomy ID: %{customdata[12]}<extra></extra>",
         "marker": {
          "color": "rgb(65, 188, 114)",
          "size": 6,
          "symbol": "circle"
         },
         "mode": "markers",
         "text": "methionine adenosyltransferase",
         "type": "scatter3d",
         "x": [
          -0.04738267933856218
         ],
         "y": [
          0.0021607017665044225
         ],
         "z": [
          0.06981588606415995
         ]
        },
        {
         "customdata": [
          [
           "methionine adenosyltransferase",
           null,
           "Archaea",
           "Euryarchaeota",
           "Thermococcales",
           "Thermococcus",
           null,
           null,
           null,
           "gorgonarius",
           "2.5.1.6",
           44702,
           "taxon:71997",
           0.005667279118589841,
           -0.05164524439648801,
           -0.0017444901216169867,
           0.026969703558789665
          ]
         ],
         "hovertemplate": "<b>%{customdata[0]}</b><br>Family Name: %{customdata[1]}<br>Domain: %{customdata[2]}<br>Kingdom: %{customdata[3]}</b><br>Phylum: %{customdata[4]}<br>Class: %{customdata[5]}<br>Order: %{customdata[6]}<br>Family: %{customdata[7]}<br>Genus: %{customdata[8]}<br>Species: %{customdata[9]}<br>EC Number: %{customdata[10]}<br>Mol Weight: %{customdata[11]}<br>Taxonomy ID: %{customdata[12]}<extra></extra>",
         "marker": {
          "color": "rgb(52, 97, 141)",
          "size": 6,
          "symbol": "circle"
         },
         "mode": "markers",
         "text": "methionine adenosyltransferase",
         "type": "scatter3d",
         "x": [
          -0.05164524439648801
         ],
         "y": [
          -0.0017444901216169867
         ],
         "z": [
          0.026969703558789665
         ]
        },
        {
         "customdata": [
          [
           "methionine adenosyltransferase",
           null,
           "Archaea",
           "Euryarchaeota",
           "Thermococcales",
           "Thermococcus",
           null,
           null,
           null,
           "sp.",
           "2.5.1.6",
           44687,
           "taxon:35749",
           0.0003237479346495214,
           -0.052520261689075046,
           0.035143162488390105,
           0.04677547137155581
          ]
         ],
         "hovertemplate": "<b>%{customdata[0]}</b><br>Family Name: %{customdata[1]}<br>Domain: %{customdata[2]}<br>Kingdom: %{customdata[3]}</b><br>Phylum: %{customdata[4]}<br>Class: %{customdata[5]}<br>Order: %{customdata[6]}<br>Family: %{customdata[7]}<br>Genus: %{customdata[8]}<br>Species: %{customdata[9]}<br>EC Number: %{customdata[10]}<br>Mol Weight: %{customdata[11]}<br>Taxonomy ID: %{customdata[12]}<extra></extra>",
         "marker": {
          "color": "rgb(161, 217, 56)",
          "size": 6,
          "symbol": "circle"
         },
         "mode": "markers",
         "text": "methionine adenosyltransferase",
         "type": "scatter3d",
         "x": [
          -0.052520261689075046
         ],
         "y": [
          0.035143162488390105
         ],
         "z": [
          0.04677547137155581
         ]
        },
        {
         "customdata": [
          [
           "methionine adenosyltransferase",
           null,
           "Archaea",
           "Euryarchaeota",
           "Thermococcales",
           "Thermococcus",
           null,
           null,
           null,
           "guaymasensis",
           "2.5.1.6",
           44537,
           "taxon:110164",
           0.00008276149667179904,
           -0.05247543134653776,
           0.01833099950048905,
           0.062225372969698774
          ]
         ],
         "hovertemplate": "<b>%{customdata[0]}</b><br>Family Name: %{customdata[1]}<br>Domain: %{customdata[2]}<br>Kingdom: %{customdata[3]}</b><br>Phylum: %{customdata[4]}<br>Class: %{customdata[5]}<br>Order: %{customdata[6]}<br>Family: %{customdata[7]}<br>Genus: %{customdata[8]}<br>Species: %{customdata[9]}<br>EC Number: %{customdata[10]}<br>Mol Weight: %{customdata[11]}<br>Taxonomy ID: %{customdata[12]}<extra></extra>",
         "marker": {
          "color": "rgb(50, 102, 142)",
          "size": 6,
          "symbol": "circle"
         },
         "mode": "markers",
         "text": "methionine adenosyltransferase",
         "type": "scatter3d",
         "x": [
          -0.05247543134653776
         ],
         "y": [
          0.01833099950048905
         ],
         "z": [
          0.062225372969698774
         ]
        },
        {
         "customdata": [
          [
           "methionine adenosyltransferase",
           null,
           "Archaea",
           "Euryarchaeota",
           "Thermococcales",
           "Thermococcus",
           null,
           null,
           null,
           "sp.",
           "2.5.1.6",
           null,
           "taxon:35749",
           0.0005045633038696888,
           -0.050137029580765685,
           0.011419636424021542,
           0.08311029788073421
          ]
         ],
         "hovertemplate": "<b>%{customdata[0]}</b><br>Family Name: %{customdata[1]}<br>Domain: %{customdata[2]}<br>Kingdom: %{customdata[3]}</b><br>Phylum: %{customdata[4]}<br>Class: %{customdata[5]}<br>Order: %{customdata[6]}<br>Family: %{customdata[7]}<br>Genus: %{customdata[8]}<br>Species: %{customdata[9]}<br>EC Number: %{customdata[10]}<br>Mol Weight: %{customdata[11]}<br>Taxonomy ID: %{customdata[12]}<extra></extra>",
         "marker": {
          "color": "rgb(161, 217, 56)",
          "size": 6,
          "symbol": "circle"
         },
         "mode": "markers",
         "text": "methionine adenosyltransferase",
         "type": "scatter3d",
         "x": [
          -0.050137029580765685
         ],
         "y": [
          0.011419636424021542
         ],
         "z": [
          0.08311029788073421
         ]
        },
        {
         "customdata": [
          [
           "methionine adenosyltransferase",
           null,
           "Archaea",
           "Euryarchaeota",
           "Thermococcales",
           "Thermococcus",
           null,
           null,
           null,
           "sp.",
           "2.5.1.6",
           44646,
           "taxon:35749",
           0.00004602514067227103,
           -0.06313731978131099,
           0.027116334376175836,
           0.06170231105269915
          ]
         ],
         "hovertemplate": "<b>%{customdata[0]}</b><br>Family Name: %{customdata[1]}<br>Domain: %{customdata[2]}<br>Kingdom: %{customdata[3]}</b><br>Phylum: %{customdata[4]}<br>Class: %{customdata[5]}<br>Order: %{customdata[6]}<br>Family: %{customdata[7]}<br>Genus: %{customdata[8]}<br>Species: %{customdata[9]}<br>EC Number: %{customdata[10]}<br>Mol Weight: %{customdata[11]}<br>Taxonomy ID: %{customdata[12]}<extra></extra>",
         "marker": {
          "color": "rgb(161, 217, 56)",
          "size": 6,
          "symbol": "circle"
         },
         "mode": "markers",
         "text": "methionine adenosyltransferase",
         "type": "scatter3d",
         "x": [
          -0.06313731978131099
         ],
         "y": [
          0.027116334376175836
         ],
         "z": [
          0.06170231105269915
         ]
        },
        {
         "customdata": [
          [
           "S-adenosylmethionine synthetase",
           null,
           "Archaea",
           "Euryarchaeota",
           "Thermococcales",
           null,
           null,
           null,
           null,
           "archaeon",
           null,
           null,
           "taxon:2666349",
           0.004021310237636533,
           -0.07455992191071321,
           -0.011865609120835497,
           0.05712949518680511
          ]
         ],
         "hovertemplate": "<b>%{customdata[0]}</b><br>Family Name: %{customdata[1]}<br>Domain: %{customdata[2]}<br>Kingdom: %{customdata[3]}</b><br>Phylum: %{customdata[4]}<br>Class: %{customdata[5]}<br>Order: %{customdata[6]}<br>Family: %{customdata[7]}<br>Genus: %{customdata[8]}<br>Species: %{customdata[9]}<br>EC Number: %{customdata[10]}<br>Mol Weight: %{customdata[11]}<br>Taxonomy ID: %{customdata[12]}<extra></extra>",
         "marker": {
          "color": "rgb(248, 230, 37)",
          "size": 6,
          "symbol": "circle"
         },
         "mode": "markers",
         "text": "S-adenosylmethionine synthetase",
         "type": "scatter3d",
         "x": [
          -0.07455992191071321
         ],
         "y": [
          -0.011865609120835497
         ],
         "z": [
          0.05712949518680511
         ]
        },
        {
         "customdata": [
          [
           "methionine adenosyltransferase",
           null,
           "Archaea",
           "Euryarchaeota",
           "Thermococcales",
           "Thermococcus",
           null,
           null,
           null,
           "eurythermalis",
           "2.5.1.6",
           44466,
           "taxon:1505907",
           0.007486760200319816,
           -0.03986528771376558,
           0.00359297345279269,
           0.07084561832155566
          ]
         ],
         "hovertemplate": "<b>%{customdata[0]}</b><br>Family Name: %{customdata[1]}<br>Domain: %{customdata[2]}<br>Kingdom: %{customdata[3]}</b><br>Phylum: %{customdata[4]}<br>Class: %{customdata[5]}<br>Order: %{customdata[6]}<br>Family: %{customdata[7]}<br>Genus: %{customdata[8]}<br>Species: %{customdata[9]}<br>EC Number: %{customdata[10]}<br>Mol Weight: %{customdata[11]}<br>Taxonomy ID: %{customdata[12]}<extra></extra>",
         "marker": {
          "color": "rgb(102, 203, 93)",
          "size": 6,
          "symbol": "circle"
         },
         "mode": "markers",
         "text": "methionine adenosyltransferase",
         "type": "scatter3d",
         "x": [
          -0.03986528771376558
         ],
         "y": [
          0.00359297345279269
         ],
         "z": [
          0.07084561832155566
         ]
        },
        {
         "customdata": [
          [
           "methionine adenosyltransferase",
           null,
           "Archaea",
           "Euryarchaeota",
           "Thermococcales",
           "Thermococcus",
           null,
           null,
           null,
           "zilligii",
           "2.5.1.6",
           44712,
           "taxon:54076",
           0.0023331854361331285,
           -0.055989576648690406,
           0.014748908353315998,
           0.03649420723011083
          ]
         ],
         "hovertemplate": "<b>%{customdata[0]}</b><br>Family Name: %{customdata[1]}<br>Domain: %{customdata[2]}<br>Kingdom: %{customdata[3]}</b><br>Phylum: %{customdata[4]}<br>Class: %{customdata[5]}<br>Order: %{customdata[6]}<br>Family: %{customdata[7]}<br>Genus: %{customdata[8]}<br>Species: %{customdata[9]}<br>EC Number: %{customdata[10]}<br>Mol Weight: %{customdata[11]}<br>Taxonomy ID: %{customdata[12]}<extra></extra>",
         "marker": {
          "color": "rgb(146, 214, 65)",
          "size": 6,
          "symbol": "circle"
         },
         "mode": "markers",
         "text": "methionine adenosyltransferase",
         "type": "scatter3d",
         "x": [
          -0.055989576648690406
         ],
         "y": [
          0.014748908353315998
         ],
         "z": [
          0.03649420723011083
         ]
        },
        {
         "customdata": [
          [
           "methionine adenosyltransferase",
           null,
           "Archaea",
           "Euryarchaeota",
           "Thermococcales",
           "Thermococcus",
           null,
           null,
           null,
           "sp.",
           "2.5.1.6",
           44439,
           "taxon:246969",
           0.00011481313941576334,
           -0.07304085733652652,
           0.018519358585551104,
           0.0592561014625753
          ]
         ],
         "hovertemplate": "<b>%{customdata[0]}</b><br>Family Name: %{customdata[1]}<br>Domain: %{customdata[2]}<br>Kingdom: %{customdata[3]}</b><br>Phylum: %{customdata[4]}<br>Class: %{customdata[5]}<br>Order: %{customdata[6]}<br>Family: %{customdata[7]}<br>Genus: %{customdata[8]}<br>Species: %{customdata[9]}<br>EC Number: %{customdata[10]}<br>Mol Weight: %{customdata[11]}<br>Taxonomy ID: %{customdata[12]}<extra></extra>",
         "marker": {
          "color": "rgb(140, 213, 69)",
          "size": 6,
          "symbol": "circle"
         },
         "mode": "markers",
         "text": "methionine adenosyltransferase",
         "type": "scatter3d",
         "x": [
          -0.07304085733652652
         ],
         "y": [
          0.018519358585551104
         ],
         "z": [
          0.0592561014625753
         ]
        },
        {
         "customdata": [
          [
           "methionine adenosyltransferase",
           null,
           "Archaea",
           "Euryarchaeota",
           "Thermococcales",
           "Thermococcus",
           null,
           null,
           null,
           "pacificus",
           "2.5.1.6",
           44798,
           "taxon:71998",
           0.0028078126534365326,
           -0.07308482127374101,
           0.0029838489507052614,
           0.04086722966667091
          ]
         ],
         "hovertemplate": "<b>%{customdata[0]}</b><br>Family Name: %{customdata[1]}<br>Domain: %{customdata[2]}<br>Kingdom: %{customdata[3]}</b><br>Phylum: %{customdata[4]}<br>Class: %{customdata[5]}<br>Order: %{customdata[6]}<br>Family: %{customdata[7]}<br>Genus: %{customdata[8]}<br>Species: %{customdata[9]}<br>EC Number: %{customdata[10]}<br>Mol Weight: %{customdata[11]}<br>Taxonomy ID: %{customdata[12]}<extra></extra>",
         "marker": {
          "color": "rgb(55, 91, 140)",
          "size": 6,
          "symbol": "circle"
         },
         "mode": "markers",
         "text": "methionine adenosyltransferase",
         "type": "scatter3d",
         "x": [
          -0.07308482127374101
         ],
         "y": [
          0.0029838489507052614
         ],
         "z": [
          0.04086722966667091
         ]
        },
        {
         "customdata": [
          [
           "methionine adenosyltransferase",
           null,
           "Archaea",
           "Euryarchaeota",
           "Thermococcales",
           "Thermococcus",
           null,
           null,
           null,
           "waiotapuensis",
           "2.5.1.6",
           44736,
           "taxon:90909",
           0.00015898615238930467,
           -0.06693056477821108,
           0.01759571000455196,
           0.07984728929264101
          ]
         ],
         "hovertemplate": "<b>%{customdata[0]}</b><br>Family Name: %{customdata[1]}<br>Domain: %{customdata[2]}<br>Kingdom: %{customdata[3]}</b><br>Phylum: %{customdata[4]}<br>Class: %{customdata[5]}<br>Order: %{customdata[6]}<br>Family: %{customdata[7]}<br>Genus: %{customdata[8]}<br>Species: %{customdata[9]}<br>EC Number: %{customdata[10]}<br>Mol Weight: %{customdata[11]}<br>Taxonomy ID: %{customdata[12]}<extra></extra>",
         "marker": {
          "color": "rgb(38, 130, 142)",
          "size": 6,
          "symbol": "circle"
         },
         "mode": "markers",
         "text": "methionine adenosyltransferase",
         "type": "scatter3d",
         "x": [
          -0.06693056477821108
         ],
         "y": [
          0.01759571000455196
         ],
         "z": [
          0.07984728929264101
         ]
        },
        {
         "customdata": [
          [
           "methionine adenosyltransferase",
           null,
           "Archaea",
           "Euryarchaeota",
           "Thermococcales",
           "Thermococcus",
           null,
           null,
           null,
           "sp.",
           "2.5.1.6",
           44626,
           "taxon:1638261",
           0.002849299437766725,
           -0.04417496716320313,
           0.006113431349841236,
           0.05012861891465881
          ]
         ],
         "hovertemplate": "<b>%{customdata[0]}</b><br>Family Name: %{customdata[1]}<br>Domain: %{customdata[2]}<br>Kingdom: %{customdata[3]}</b><br>Phylum: %{customdata[4]}<br>Class: %{customdata[5]}<br>Order: %{customdata[6]}<br>Family: %{customdata[7]}<br>Genus: %{customdata[8]}<br>Species: %{customdata[9]}<br>EC Number: %{customdata[10]}<br>Mol Weight: %{customdata[11]}<br>Taxonomy ID: %{customdata[12]}<extra></extra>",
         "marker": {
          "color": "rgb(70, 23, 105)",
          "size": 6,
          "symbol": "circle"
         },
         "mode": "markers",
         "text": "methionine adenosyltransferase",
         "type": "scatter3d",
         "x": [
          -0.04417496716320313
         ],
         "y": [
          0.006113431349841236
         ],
         "z": [
          0.05012861891465881
         ]
        },
        {
         "customdata": [
          [
           "methionine adenosyltransferase",
           null,
           "Archaea",
           "Euryarchaeota",
           "Thermococcales",
           "Thermococcus",
           null,
           null,
           null,
           "barossii",
           "2.5.1.6",
           44618,
           "taxon:54077",
           0.0021933603482341734,
           -0.04990746210695042,
           0.010612256601367468,
           0.0485368893626498
          ]
         ],
         "hovertemplate": "<b>%{customdata[0]}</b><br>Family Name: %{customdata[1]}<br>Domain: %{customdata[2]}<br>Kingdom: %{customdata[3]}</b><br>Phylum: %{customdata[4]}<br>Class: %{customdata[5]}<br>Order: %{customdata[6]}<br>Family: %{customdata[7]}<br>Genus: %{customdata[8]}<br>Species: %{customdata[9]}<br>EC Number: %{customdata[10]}<br>Mol Weight: %{customdata[11]}<br>Taxonomy ID: %{customdata[12]}<extra></extra>",
         "marker": {
          "color": "rgb(232, 228, 39)",
          "size": 6,
          "symbol": "circle"
         },
         "mode": "markers",
         "text": "methionine adenosyltransferase",
         "type": "scatter3d",
         "x": [
          -0.04990746210695042
         ],
         "y": [
          0.010612256601367468
         ],
         "z": [
          0.0485368893626498
         ]
        },
        {
         "customdata": [
          [
           "methionine adenosyltransferase",
           null,
           "Archaea",
           "Euryarchaeota",
           "Thermococcales",
           "Thermococcus",
           null,
           null,
           null,
           "sp.",
           "2.5.1.6",
           44646,
           "taxon:1638246",
           0.0029312674175310622,
           -0.052981413801501794,
           0.005655406058694035,
           0.04534731226750952
          ]
         ],
         "hovertemplate": "<b>%{customdata[0]}</b><br>Family Name: %{customdata[1]}<br>Domain: %{customdata[2]}<br>Kingdom: %{customdata[3]}</b><br>Phylum: %{customdata[4]}<br>Class: %{customdata[5]}<br>Order: %{customdata[6]}<br>Family: %{customdata[7]}<br>Genus: %{customdata[8]}<br>Species: %{customdata[9]}<br>EC Number: %{customdata[10]}<br>Mol Weight: %{customdata[11]}<br>Taxonomy ID: %{customdata[12]}<extra></extra>",
         "marker": {
          "color": "rgb(36, 140, 140)",
          "size": 6,
          "symbol": "circle"
         },
         "mode": "markers",
         "text": "methionine adenosyltransferase",
         "type": "scatter3d",
         "x": [
          -0.052981413801501794
         ],
         "y": [
          0.005655406058694035
         ],
         "z": [
          0.04534731226750952
         ]
        },
        {
         "customdata": [
          [
           "methionine adenosyltransferase",
           null,
           "Archaea",
           "Euryarchaeota",
           "Thermococcales",
           "Thermococcus",
           null,
           null,
           null,
           "gammatolerans",
           "2.5.1.6",
           44398,
           "taxon:187878",
           0.002453455033843195,
           -0.06055927952610833,
           0.005796110170041584,
           0.04317057948488903
          ]
         ],
         "hovertemplate": "<b>%{customdata[0]}</b><br>Family Name: %{customdata[1]}<br>Domain: %{customdata[2]}<br>Kingdom: %{customdata[3]}</b><br>Phylum: %{customdata[4]}<br>Class: %{customdata[5]}<br>Order: %{customdata[6]}<br>Family: %{customdata[7]}<br>Genus: %{customdata[8]}<br>Species: %{customdata[9]}<br>EC Number: %{customdata[10]}<br>Mol Weight: %{customdata[11]}<br>Taxonomy ID: %{customdata[12]}<extra></extra>",
         "marker": {
          "color": "rgb(67, 56, 128)",
          "size": 6,
          "symbol": "circle"
         },
         "mode": "markers",
         "text": "methionine adenosyltransferase",
         "type": "scatter3d",
         "x": [
          -0.06055927952610833
         ],
         "y": [
          0.005796110170041584
         ],
         "z": [
          0.04317057948488903
         ]
        },
        {
         "customdata": [
          [
           "methionine adenosyltransferase",
           null,
           "Archaea",
           "Euryarchaeota",
           "Thermococcales",
           "Thermococcus",
           null,
           null,
           null,
           "siculi",
           "2.5.1.6",
           44710,
           "taxon:72803",
           0.0040210390581226175,
           -0.04441009429509224,
           0.004951903784286381,
           0.031166589630799536
          ]
         ],
         "hovertemplate": "<b>%{customdata[0]}</b><br>Family Name: %{customdata[1]}<br>Domain: %{customdata[2]}<br>Kingdom: %{customdata[3]}</b><br>Phylum: %{customdata[4]}<br>Class: %{customdata[5]}<br>Order: %{customdata[6]}<br>Family: %{customdata[7]}<br>Genus: %{customdata[8]}<br>Species: %{customdata[9]}<br>EC Number: %{customdata[10]}<br>Mol Weight: %{customdata[11]}<br>Taxonomy ID: %{customdata[12]}<extra></extra>",
         "marker": {
          "color": "rgb(53, 183, 121)",
          "size": 6,
          "symbol": "circle"
         },
         "mode": "markers",
         "text": "methionine adenosyltransferase",
         "type": "scatter3d",
         "x": [
          -0.04441009429509224
         ],
         "y": [
          0.004951903784286381
         ],
         "z": [
          0.031166589630799536
         ]
        },
        {
         "customdata": [
          [
           "methionine adenosyltransferase",
           null,
           "Archaea",
           "Euryarchaeota",
           "Thermococcales",
           "Thermococcus",
           null,
           null,
           null,
           "profundus",
           "2.5.1.6",
           44704,
           "taxon:49899",
           0.003145396751565501,
           -0.05833624868326099,
           -0.006039026961851479,
           0.04380796876283588
          ]
         ],
         "hovertemplate": "<b>%{customdata[0]}</b><br>Family Name: %{customdata[1]}<br>Domain: %{customdata[2]}<br>Kingdom: %{customdata[3]}</b><br>Phylum: %{customdata[4]}<br>Class: %{customdata[5]}<br>Order: %{customdata[6]}<br>Family: %{customdata[7]}<br>Genus: %{customdata[8]}<br>Species: %{customdata[9]}<br>EC Number: %{customdata[10]}<br>Mol Weight: %{customdata[11]}<br>Taxonomy ID: %{customdata[12]}<extra></extra>",
         "marker": {
          "color": "rgb(106, 204, 90)",
          "size": 6,
          "symbol": "circle"
         },
         "mode": "markers",
         "text": "methionine adenosyltransferase",
         "type": "scatter3d",
         "x": [
          -0.05833624868326099
         ],
         "y": [
          -0.006039026961851479
         ],
         "z": [
          0.04380796876283588
         ]
        },
        {
         "customdata": [
          [
           "methionine adenosyltransferase",
           null,
           "Archaea",
           "Euryarchaeota",
           "Thermococcales",
           null,
           null,
           null,
           null,
           null,
           "2.5.1.6",
           44607,
           "taxon:2263",
           0.0019584169525064116,
           -0.056780480013914995,
           0.016542249582808435,
           0.030192182969270297
          ]
         ],
         "hovertemplate": "<b>%{customdata[0]}</b><br>Family Name: %{customdata[1]}<br>Domain: %{customdata[2]}<br>Kingdom: %{customdata[3]}</b><br>Phylum: %{customdata[4]}<br>Class: %{customdata[5]}<br>Order: %{customdata[6]}<br>Family: %{customdata[7]}<br>Genus: %{customdata[8]}<br>Species: %{customdata[9]}<br>EC Number: %{customdata[10]}<br>Mol Weight: %{customdata[11]}<br>Taxonomy ID: %{customdata[12]}<extra></extra>",
         "marker": {
          "color": "rgb(45, 113, 142)",
          "size": 6,
          "symbol": "circle"
         },
         "mode": "markers",
         "text": "methionine adenosyltransferase",
         "type": "scatter3d",
         "x": [
          -0.056780480013914995
         ],
         "y": [
          0.016542249582808435
         ],
         "z": [
          0.030192182969270297
         ]
        },
        {
         "customdata": [
          [
           "methionine adenosyltransferase",
           null,
           "Archaea",
           "Euryarchaeota",
           "Thermococcales",
           "Thermococcus",
           null,
           null,
           null,
           "sp.",
           "2.5.1.6",
           44598,
           "taxon:1638263",
           0.007389490488976561,
           -0.0452500091532531,
           0.017952496972036745,
           0.05880983823476629
          ]
         ],
         "hovertemplate": "<b>%{customdata[0]}</b><br>Family Name: %{customdata[1]}<br>Domain: %{customdata[2]}<br>Kingdom: %{customdata[3]}</b><br>Phylum: %{customdata[4]}<br>Class: %{customdata[5]}<br>Order: %{customdata[6]}<br>Family: %{customdata[7]}<br>Genus: %{customdata[8]}<br>Species: %{customdata[9]}<br>EC Number: %{customdata[10]}<br>Mol Weight: %{customdata[11]}<br>Taxonomy ID: %{customdata[12]}<extra></extra>",
         "marker": {
          "color": "rgb(57, 84, 139)",
          "size": 6,
          "symbol": "circle"
         },
         "mode": "markers",
         "text": "methionine adenosyltransferase",
         "type": "scatter3d",
         "x": [
          -0.0452500091532531
         ],
         "y": [
          0.017952496972036745
         ],
         "z": [
          0.05880983823476629
         ]
        },
        {
         "customdata": [
          [
           "methionine adenosyltransferase",
           null,
           "Archaea",
           "Euryarchaeota",
           "Thermococcales",
           "Thermococcus",
           null,
           null,
           null,
           "sp.",
           "2.5.1.6",
           null,
           "taxon:35749",
           0.00009487605782186804,
           -0.06459755708607061,
           0.018670559124658842,
           0.07021528570865995
          ]
         ],
         "hovertemplate": "<b>%{customdata[0]}</b><br>Family Name: %{customdata[1]}<br>Domain: %{customdata[2]}<br>Kingdom: %{customdata[3]}</b><br>Phylum: %{customdata[4]}<br>Class: %{customdata[5]}<br>Order: %{customdata[6]}<br>Family: %{customdata[7]}<br>Genus: %{customdata[8]}<br>Species: %{customdata[9]}<br>EC Number: %{customdata[10]}<br>Mol Weight: %{customdata[11]}<br>Taxonomy ID: %{customdata[12]}<extra></extra>",
         "marker": {
          "color": "rgb(161, 217, 56)",
          "size": 6,
          "symbol": "circle"
         },
         "mode": "markers",
         "text": "methionine adenosyltransferase",
         "type": "scatter3d",
         "x": [
          -0.06459755708607061
         ],
         "y": [
          0.018670559124658842
         ],
         "z": [
          0.07021528570865995
         ]
        },
        {
         "customdata": [
          [
           "methionine adenosyltransferase",
           null,
           "Archaea",
           "Euryarchaeota",
           "Thermococcales",
           "Thermococcus",
           null,
           null,
           null,
           "sp.",
           "2.5.1.6",
           44550,
           "taxon:35749",
           0.0004120646529928391,
           -0.056221638947814886,
           0.013273079646329337,
           0.06826651087524847
          ]
         ],
         "hovertemplate": "<b>%{customdata[0]}</b><br>Family Name: %{customdata[1]}<br>Domain: %{customdata[2]}<br>Kingdom: %{customdata[3]}</b><br>Phylum: %{customdata[4]}<br>Class: %{customdata[5]}<br>Order: %{customdata[6]}<br>Family: %{customdata[7]}<br>Genus: %{customdata[8]}<br>Species: %{customdata[9]}<br>EC Number: %{customdata[10]}<br>Mol Weight: %{customdata[11]}<br>Taxonomy ID: %{customdata[12]}<extra></extra>",
         "marker": {
          "color": "rgb(161, 217, 56)",
          "size": 6,
          "symbol": "circle"
         },
         "mode": "markers",
         "text": "methionine adenosyltransferase",
         "type": "scatter3d",
         "x": [
          -0.056221638947814886
         ],
         "y": [
          0.013273079646329337
         ],
         "z": [
          0.06826651087524847
         ]
        },
        {
         "customdata": [
          [
           "methionine adenosyltransferase",
           null,
           "Archaea",
           "Euryarchaeota",
           "Thermococcales",
           "Thermococcus",
           null,
           null,
           null,
           "sp.",
           "2.5.1.6",
           44499,
           "taxon:1638221",
           0.001223906649692376,
           -0.052939608514779836,
           0.015939845155283815,
           0.05343133619707269
          ]
         ],
         "hovertemplate": "<b>%{customdata[0]}</b><br>Family Name: %{customdata[1]}<br>Domain: %{customdata[2]}<br>Kingdom: %{customdata[3]}</b><br>Phylum: %{customdata[4]}<br>Class: %{customdata[5]}<br>Order: %{customdata[6]}<br>Family: %{customdata[7]}<br>Genus: %{customdata[8]}<br>Species: %{customdata[9]}<br>EC Number: %{customdata[10]}<br>Mol Weight: %{customdata[11]}<br>Taxonomy ID: %{customdata[12]}<extra></extra>",
         "marker": {
          "color": "rgb(31, 156, 137)",
          "size": 6,
          "symbol": "circle"
         },
         "mode": "markers",
         "text": "methionine adenosyltransferase",
         "type": "scatter3d",
         "x": [
          -0.052939608514779836
         ],
         "y": [
          0.015939845155283815
         ],
         "z": [
          0.05343133619707269
         ]
        },
        {
         "customdata": [
          [
           "methionine adenosyltransferase",
           null,
           "Archaea",
           "Euryarchaeota",
           "Thermococcales",
           "Thermococcus",
           null,
           null,
           null,
           "sp.",
           "2.5.1.6",
           44662,
           "taxon:35749",
           0.0009481559663319447,
           -0.06960327248542125,
           0.001722833039329053,
           0.07484376984834942
          ]
         ],
         "hovertemplate": "<b>%{customdata[0]}</b><br>Family Name: %{customdata[1]}<br>Domain: %{customdata[2]}<br>Kingdom: %{customdata[3]}</b><br>Phylum: %{customdata[4]}<br>Class: %{customdata[5]}<br>Order: %{customdata[6]}<br>Family: %{customdata[7]}<br>Genus: %{customdata[8]}<br>Species: %{customdata[9]}<br>EC Number: %{customdata[10]}<br>Mol Weight: %{customdata[11]}<br>Taxonomy ID: %{customdata[12]}<extra></extra>",
         "marker": {
          "color": "rgb(161, 217, 56)",
          "size": 6,
          "symbol": "circle"
         },
         "mode": "markers",
         "text": "methionine adenosyltransferase",
         "type": "scatter3d",
         "x": [
          -0.06960327248542125
         ],
         "y": [
          0.001722833039329053
         ],
         "z": [
          0.07484376984834942
         ]
        },
        {
         "customdata": [
          [
           "methionine adenosyltransferase",
           null,
           "Archaea",
           "Euryarchaeota",
           "Thermococcales",
           "Thermococcus",
           null,
           null,
           null,
           "radiotolerans",
           "2.5.1.6",
           44678,
           "taxon:187880",
           0.007772532599495494,
           -0.037972568801319245,
           0.026574397036423798,
           0.04984780652787875
          ]
         ],
         "hovertemplate": "<b>%{customdata[0]}</b><br>Family Name: %{customdata[1]}<br>Domain: %{customdata[2]}<br>Kingdom: %{customdata[3]}</b><br>Phylum: %{customdata[4]}<br>Class: %{customdata[5]}<br>Order: %{customdata[6]}<br>Family: %{customdata[7]}<br>Genus: %{customdata[8]}<br>Species: %{customdata[9]}<br>EC Number: %{customdata[10]}<br>Mol Weight: %{customdata[11]}<br>Taxonomy ID: %{customdata[12]}<extra></extra>",
         "marker": {
          "color": "rgb(36, 136, 141)",
          "size": 6,
          "symbol": "circle"
         },
         "mode": "markers",
         "text": "methionine adenosyltransferase",
         "type": "scatter3d",
         "x": [
          -0.037972568801319245
         ],
         "y": [
          0.026574397036423798
         ],
         "z": [
          0.04984780652787875
         ]
        },
        {
         "customdata": [
          [
           "methionine adenosyltransferase",
           null,
           "Archaea",
           "Euryarchaeota",
           "Thermococcales",
           "Thermococcus",
           null,
           null,
           null,
           "sp.",
           "2.5.1.6",
           44723,
           "taxon:35749",
           0.00005612971096652822,
           -0.07124671144413115,
           0.02149386794031402,
           0.04792863559547444
          ]
         ],
         "hovertemplate": "<b>%{customdata[0]}</b><br>Family Name: %{customdata[1]}<br>Domain: %{customdata[2]}<br>Kingdom: %{customdata[3]}</b><br>Phylum: %{customdata[4]}<br>Class: %{customdata[5]}<br>Order: %{customdata[6]}<br>Family: %{customdata[7]}<br>Genus: %{customdata[8]}<br>Species: %{customdata[9]}<br>EC Number: %{customdata[10]}<br>Mol Weight: %{customdata[11]}<br>Taxonomy ID: %{customdata[12]}<extra></extra>",
         "marker": {
          "color": "rgb(161, 217, 56)",
          "size": 6,
          "symbol": "circle"
         },
         "mode": "markers",
         "text": "methionine adenosyltransferase",
         "type": "scatter3d",
         "x": [
          -0.07124671144413115
         ],
         "y": [
          0.02149386794031402
         ],
         "z": [
          0.04792863559547444
         ]
        },
        {
         "customdata": [
          [
           "methionine adenosyltransferase",
           null,
           "Archaea",
           "Euryarchaeota",
           "Thermococcales",
           "Thermococcus",
           null,
           null,
           null,
           "sp.",
           "2.5.1.6",
           44634,
           "taxon:2008440",
           0.0076749440849595745,
           -0.04718835187212391,
           0.02411129368157424,
           0.04594214382462587
          ]
         ],
         "hovertemplate": "<b>%{customdata[0]}</b><br>Family Name: %{customdata[1]}<br>Domain: %{customdata[2]}<br>Kingdom: %{customdata[3]}</b><br>Phylum: %{customdata[4]}<br>Class: %{customdata[5]}<br>Order: %{customdata[6]}<br>Family: %{customdata[7]}<br>Genus: %{customdata[8]}<br>Species: %{customdata[9]}<br>EC Number: %{customdata[10]}<br>Mol Weight: %{customdata[11]}<br>Taxonomy ID: %{customdata[12]}<extra></extra>",
         "marker": {
          "color": "rgb(61, 75, 137)",
          "size": 6,
          "symbol": "circle"
         },
         "mode": "markers",
         "text": "methionine adenosyltransferase",
         "type": "scatter3d",
         "x": [
          -0.04718835187212391
         ],
         "y": [
          0.02411129368157424
         ],
         "z": [
          0.04594214382462587
         ]
        },
        {
         "customdata": [
          [
           "methionine adenosyltransferase",
           null,
           "Archaea",
           "Euryarchaeota",
           "Thermococcales",
           "Thermococcus",
           null,
           null,
           null,
           "sp.",
           "2.5.1.6",
           null,
           "taxon:35749",
           0.005083617212157207,
           -0.05200221221414421,
           -0.0032332508385853453,
           0.04916040794929212
          ]
         ],
         "hovertemplate": "<b>%{customdata[0]}</b><br>Family Name: %{customdata[1]}<br>Domain: %{customdata[2]}<br>Kingdom: %{customdata[3]}</b><br>Phylum: %{customdata[4]}<br>Class: %{customdata[5]}<br>Order: %{customdata[6]}<br>Family: %{customdata[7]}<br>Genus: %{customdata[8]}<br>Species: %{customdata[9]}<br>EC Number: %{customdata[10]}<br>Mol Weight: %{customdata[11]}<br>Taxonomy ID: %{customdata[12]}<extra></extra>",
         "marker": {
          "color": "rgb(161, 217, 56)",
          "size": 6,
          "symbol": "circle"
         },
         "mode": "markers",
         "text": "methionine adenosyltransferase",
         "type": "scatter3d",
         "x": [
          -0.05200221221414421
         ],
         "y": [
          -0.0032332508385853453
         ],
         "z": [
          0.04916040794929212
         ]
        },
        {
         "customdata": [
          [
           "methionine adenosyltransferase",
           null,
           "Archaea",
           "Euryarchaeota",
           "Thermococcales",
           "Thermococcus",
           null,
           null,
           null,
           "thioreducens",
           null,
           null,
           "taxon:277988",
           0.0004682166118253909,
           -0.05947653180754807,
           0.010820539584779897,
           0.07917983672773089
          ]
         ],
         "hovertemplate": "<b>%{customdata[0]}</b><br>Family Name: %{customdata[1]}<br>Domain: %{customdata[2]}<br>Kingdom: %{customdata[3]}</b><br>Phylum: %{customdata[4]}<br>Class: %{customdata[5]}<br>Order: %{customdata[6]}<br>Family: %{customdata[7]}<br>Genus: %{customdata[8]}<br>Species: %{customdata[9]}<br>EC Number: %{customdata[10]}<br>Mol Weight: %{customdata[11]}<br>Taxonomy ID: %{customdata[12]}<extra></extra>",
         "marker": {
          "color": "rgb(70, 18, 99)",
          "size": 6,
          "symbol": "circle"
         },
         "mode": "markers",
         "text": "methionine adenosyltransferase",
         "type": "scatter3d",
         "x": [
          -0.05947653180754807
         ],
         "y": [
          0.010820539584779897
         ],
         "z": [
          0.07917983672773089
         ]
        },
        {
         "customdata": [
          [
           "methionine adenosyltransferase",
           null,
           "Archaea",
           "Euryarchaeota",
           "Thermococcales",
           "Thermococcus",
           null,
           null,
           null,
           "sp.",
           "2.5.1.6",
           null,
           "taxon:35749",
           0.0003854122952553196,
           -0.05944015329748548,
           0.014328449359353564,
           0.05520014662476611
          ]
         ],
         "hovertemplate": "<b>%{customdata[0]}</b><br>Family Name: %{customdata[1]}<br>Domain: %{customdata[2]}<br>Kingdom: %{customdata[3]}</b><br>Phylum: %{customdata[4]}<br>Class: %{customdata[5]}<br>Order: %{customdata[6]}<br>Family: %{customdata[7]}<br>Genus: %{customdata[8]}<br>Species: %{customdata[9]}<br>EC Number: %{customdata[10]}<br>Mol Weight: %{customdata[11]}<br>Taxonomy ID: %{customdata[12]}<extra></extra>",
         "marker": {
          "color": "rgb(161, 217, 56)",
          "size": 6,
          "symbol": "circle"
         },
         "mode": "markers",
         "text": "methionine adenosyltransferase",
         "type": "scatter3d",
         "x": [
          -0.05944015329748548
         ],
         "y": [
          0.014328449359353564
         ],
         "z": [
          0.05520014662476611
         ]
        },
        {
         "customdata": [
          [
           "methionine adenosyltransferase",
           null,
           "Archaea",
           "Euryarchaeota",
           "Thermococcales",
           "Thermococcus",
           null,
           null,
           null,
           "thioreducens",
           "2.5.1.6",
           44589,
           "taxon:277988",
           0.0004120646529928391,
           -0.0522443959690606,
           0.029713662922692216,
           0.06399418407684845
          ]
         ],
         "hovertemplate": "<b>%{customdata[0]}</b><br>Family Name: %{customdata[1]}<br>Domain: %{customdata[2]}<br>Kingdom: %{customdata[3]}</b><br>Phylum: %{customdata[4]}<br>Class: %{customdata[5]}<br>Order: %{customdata[6]}<br>Family: %{customdata[7]}<br>Genus: %{customdata[8]}<br>Species: %{customdata[9]}<br>EC Number: %{customdata[10]}<br>Mol Weight: %{customdata[11]}<br>Taxonomy ID: %{customdata[12]}<extra></extra>",
         "marker": {
          "color": "rgb(70, 18, 99)",
          "size": 6,
          "symbol": "circle"
         },
         "mode": "markers",
         "text": "methionine adenosyltransferase",
         "type": "scatter3d",
         "x": [
          -0.0522443959690606
         ],
         "y": [
          0.029713662922692216
         ],
         "z": [
          0.06399418407684845
         ]
        },
        {
         "customdata": [
          [
           "methionine adenosyltransferase",
           null,
           "Archaea",
           "Euryarchaeota",
           "Thermococcales",
           "Thermococcus",
           null,
           null,
           null,
           "thermotolerans",
           "2.5.1.6",
           44534,
           "taxon:2969672",
           0.042549310979139686,
           -0.03185498087142047,
           0.017550563929759316,
           0.04250985223918676
          ]
         ],
         "hovertemplate": "<b>%{customdata[0]}</b><br>Family Name: %{customdata[1]}<br>Domain: %{customdata[2]}<br>Kingdom: %{customdata[3]}</b><br>Phylum: %{customdata[4]}<br>Class: %{customdata[5]}<br>Order: %{customdata[6]}<br>Family: %{customdata[7]}<br>Genus: %{customdata[8]}<br>Species: %{customdata[9]}<br>EC Number: %{customdata[10]}<br>Mol Weight: %{customdata[11]}<br>Taxonomy ID: %{customdata[12]}<extra></extra>",
         "marker": {
          "color": "rgb(98, 201, 95)",
          "size": 6,
          "symbol": "circle"
         },
         "mode": "markers",
         "text": "methionine adenosyltransferase",
         "type": "scatter3d",
         "x": [
          -0.03185498087142047
         ],
         "y": [
          0.017550563929759316
         ],
         "z": [
          0.04250985223918676
         ]
        },
        {
         "customdata": [
          [
           "methionine adenosyltransferase",
           null,
           "Archaea",
           "Euryarchaeota",
           "Thermococcales",
           "Thermococcus",
           null,
           null,
           null,
           "celer",
           "2.5.1.6",
           44569,
           "taxon:2264",
           0.00007265692637754185,
           -0.05700681312019976,
           0.022289218345875054,
           0.05831092614901176
          ]
         ],
         "hovertemplate": "<b>%{customdata[0]}</b><br>Family Name: %{customdata[1]}<br>Domain: %{customdata[2]}<br>Kingdom: %{customdata[3]}</b><br>Phylum: %{customdata[4]}<br>Class: %{customdata[5]}<br>Order: %{customdata[6]}<br>Family: %{customdata[7]}<br>Genus: %{customdata[8]}<br>Species: %{customdata[9]}<br>EC Number: %{customdata[10]}<br>Mol Weight: %{customdata[11]}<br>Taxonomy ID: %{customdata[12]}<extra></extra>",
         "marker": {
          "color": "rgb(50, 179, 123)",
          "size": 6,
          "symbol": "circle"
         },
         "mode": "markers",
         "text": "methionine adenosyltransferase",
         "type": "scatter3d",
         "x": [
          -0.05700681312019976
         ],
         "y": [
          0.022289218345875054
         ],
         "z": [
          0.05831092614901176
         ]
        },
        {
         "customdata": [
          [
           "methionine adenosyltransferase",
           null,
           "Archaea",
           "Euryarchaeota",
           "Thermococcales",
           "Thermococcus",
           null,
           null,
           null,
           "sp.",
           "2.5.1.6",
           44663,
           "taxon:35749",
           0.00004602514067227103,
           -0.06242492649967556,
           0.022372332806538053,
           0.048028339045616576
          ]
         ],
         "hovertemplate": "<b>%{customdata[0]}</b><br>Family Name: %{customdata[1]}<br>Domain: %{customdata[2]}<br>Kingdom: %{customdata[3]}</b><br>Phylum: %{customdata[4]}<br>Class: %{customdata[5]}<br>Order: %{customdata[6]}<br>Family: %{customdata[7]}<br>Genus: %{customdata[8]}<br>Species: %{customdata[9]}<br>EC Number: %{customdata[10]}<br>Mol Weight: %{customdata[11]}<br>Taxonomy ID: %{customdata[12]}<extra></extra>",
         "marker": {
          "color": "rgb(161, 217, 56)",
          "size": 6,
          "symbol": "circle"
         },
         "mode": "markers",
         "text": "methionine adenosyltransferase",
         "type": "scatter3d",
         "x": [
          -0.06242492649967556
         ],
         "y": [
          0.022372332806538053
         ],
         "z": [
          0.048028339045616576
         ]
        },
        {
         "customdata": [
          [
           "methionine adenosyltransferase",
           null,
           "Archaea",
           "Euryarchaeota",
           "Thermococcales",
           "Thermococcus",
           null,
           null,
           null,
           "sp.",
           "2.5.1.6",
           44568,
           "taxon:35749",
           0.0031510863086251276,
           -0.06372322028309048,
           0.002448347561975115,
           0.03554632557573861
          ]
         ],
         "hovertemplate": "<b>%{customdata[0]}</b><br>Family Name: %{customdata[1]}<br>Domain: %{customdata[2]}<br>Kingdom: %{customdata[3]}</b><br>Phylum: %{customdata[4]}<br>Class: %{customdata[5]}<br>Order: %{customdata[6]}<br>Family: %{customdata[7]}<br>Genus: %{customdata[8]}<br>Species: %{customdata[9]}<br>EC Number: %{customdata[10]}<br>Mol Weight: %{customdata[11]}<br>Taxonomy ID: %{customdata[12]}<extra></extra>",
         "marker": {
          "color": "rgb(161, 217, 56)",
          "size": 6,
          "symbol": "circle"
         },
         "mode": "markers",
         "text": "methionine adenosyltransferase",
         "type": "scatter3d",
         "x": [
          -0.06372322028309048
         ],
         "y": [
          0.002448347561975115
         ],
         "z": [
          0.03554632557573861
         ]
        },
        {
         "customdata": [
          [
           "methionine adenosyltransferase",
           null,
           "Archaea",
           "Euryarchaeota",
           "Thermococcales",
           "Thermococcus",
           null,
           null,
           null,
           "sp.",
           "2.5.1.6",
           44649,
           "taxon:35749",
           0.0034264657922097766,
           -0.038750986873127696,
           -0.008869642264171106,
           0.05315688937287356
          ]
         ],
         "hovertemplate": "<b>%{customdata[0]}</b><br>Family Name: %{customdata[1]}<br>Domain: %{customdata[2]}<br>Kingdom: %{customdata[3]}</b><br>Phylum: %{customdata[4]}<br>Class: %{customdata[5]}<br>Order: %{customdata[6]}<br>Family: %{customdata[7]}<br>Genus: %{customdata[8]}<br>Species: %{customdata[9]}<br>EC Number: %{customdata[10]}<br>Mol Weight: %{customdata[11]}<br>Taxonomy ID: %{customdata[12]}<extra></extra>",
         "marker": {
          "color": "rgb(161, 217, 56)",
          "size": 6,
          "symbol": "circle"
         },
         "mode": "markers",
         "text": "methionine adenosyltransferase",
         "type": "scatter3d",
         "x": [
          -0.038750986873127696
         ],
         "y": [
          -0.008869642264171106
         ],
         "z": [
          0.05315688937287356
         ]
        },
        {
         "customdata": [
          [
           "methionine adenosyltransferase",
           null,
           "Archaea",
           "Euryarchaeota",
           "Thermococcales",
           "Thermococcus",
           null,
           null,
           null,
           "indicus",
           "2.5.1.6",
           44591,
           "taxon:2586643",
           0.0004101213401231515,
           -0.0641113946169003,
           0.009017574969858435,
           0.06068447405491511
          ]
         ],
         "hovertemplate": "<b>%{customdata[0]}</b><br>Family Name: %{customdata[1]}<br>Domain: %{customdata[2]}<br>Kingdom: %{customdata[3]}</b><br>Phylum: %{customdata[4]}<br>Class: %{customdata[5]}<br>Order: %{customdata[6]}<br>Family: %{customdata[7]}<br>Genus: %{customdata[8]}<br>Species: %{customdata[9]}<br>EC Number: %{customdata[10]}<br>Mol Weight: %{customdata[11]}<br>Taxonomy ID: %{customdata[12]}<extra></extra>",
         "marker": {
          "color": "rgb(68, 52, 126)",
          "size": 6,
          "symbol": "circle"
         },
         "mode": "markers",
         "text": "methionine adenosyltransferase",
         "type": "scatter3d",
         "x": [
          -0.0641113946169003
         ],
         "y": [
          0.009017574969858435
         ],
         "z": [
          0.06068447405491511
         ]
        },
        {
         "customdata": [
          [
           "methionine adenosyltransferase",
           null,
           "Archaea",
           "Euryarchaeota",
           "Thermococcales",
           "Thermococcus",
           null,
           null,
           null,
           "sp.",
           "2.5.1.6",
           44488,
           "taxon:1638210",
           0.0003854122952553196,
           -0.037228715668159294,
           0.024534204703116146,
           0.0726731275551731
          ]
         ],
         "hovertemplate": "<b>%{customdata[0]}</b><br>Family Name: %{customdata[1]}<br>Domain: %{customdata[2]}<br>Kingdom: %{customdata[3]}</b><br>Phylum: %{customdata[4]}<br>Class: %{customdata[5]}<br>Order: %{customdata[6]}<br>Family: %{customdata[7]}<br>Genus: %{customdata[8]}<br>Species: %{customdata[9]}<br>EC Number: %{customdata[10]}<br>Mol Weight: %{customdata[11]}<br>Taxonomy ID: %{customdata[12]}<extra></extra>",
         "marker": {
          "color": "rgb(56, 86, 139)",
          "size": 6,
          "symbol": "circle"
         },
         "mode": "markers",
         "text": "methionine adenosyltransferase",
         "type": "scatter3d",
         "x": [
          -0.037228715668159294
         ],
         "y": [
          0.024534204703116146
         ],
         "z": [
          0.0726731275551731
         ]
        },
        {
         "customdata": [
          [
           "methionine adenosyltransferase",
           null,
           "Archaea",
           "Euryarchaeota",
           "Thermococcales",
           "Thermococcus",
           null,
           null,
           null,
           "camini",
           "2.5.1.6",
           44335,
           "taxon:2016373",
           0.00037828512073659294,
           -0.06706631905793448,
           0.009549764846141418,
           0.05196760026321455
          ]
         ],
         "hovertemplate": "<b>%{customdata[0]}</b><br>Family Name: %{customdata[1]}<br>Domain: %{customdata[2]}<br>Kingdom: %{customdata[3]}</b><br>Phylum: %{customdata[4]}<br>Class: %{customdata[5]}<br>Order: %{customdata[6]}<br>Family: %{customdata[7]}<br>Genus: %{customdata[8]}<br>Species: %{customdata[9]}<br>EC Number: %{customdata[10]}<br>Mol Weight: %{customdata[11]}<br>Taxonomy ID: %{customdata[12]}<extra></extra>",
         "marker": {
          "color": "rgb(47, 176, 126)",
          "size": 6,
          "symbol": "circle"
         },
         "mode": "markers",
         "text": "methionine adenosyltransferase",
         "type": "scatter3d",
         "x": [
          -0.06706631905793448
         ],
         "y": [
          0.009549764846141418
         ],
         "z": [
          0.05196760026321455
         ]
        },
        {
         "customdata": [
          [
           "methionine adenosyltransferase",
           null,
           "Archaea",
           "Euryarchaeota",
           "Thermococcales",
           "Thermococcus",
           null,
           null,
           null,
           "sp.",
           "2.5.1.6",
           44509,
           "taxon:163006",
           0.0007874841184118824,
           -0.045998068814295814,
           -0.0023294473749591615,
           0.07954790694122627
          ]
         ],
         "hovertemplate": "<b>%{customdata[0]}</b><br>Family Name: %{customdata[1]}<br>Domain: %{customdata[2]}<br>Kingdom: %{customdata[3]}</b><br>Phylum: %{customdata[4]}<br>Class: %{customdata[5]}<br>Order: %{customdata[6]}<br>Family: %{customdata[7]}<br>Genus: %{customdata[8]}<br>Species: %{customdata[9]}<br>EC Number: %{customdata[10]}<br>Mol Weight: %{customdata[11]}<br>Taxonomy ID: %{customdata[12]}<extra></extra>",
         "marker": {
          "color": "rgb(68, 1, 84)",
          "size": 6,
          "symbol": "circle"
         },
         "mode": "markers",
         "text": "methionine adenosyltransferase",
         "type": "scatter3d",
         "x": [
          -0.045998068814295814
         ],
         "y": [
          -0.0023294473749591615
         ],
         "z": [
          0.07954790694122627
         ]
        },
        {
         "customdata": [
          [
           "methionine adenosyltransferase",
           null,
           "Archaea",
           "Euryarchaeota",
           "Thermococcales",
           "Thermococcus",
           null,
           null,
           null,
           "celericrescens",
           "2.5.1.6",
           44678,
           "taxon:227598",
           0.003282293301204402,
           -0.047535476571222215,
           0.027816464771858066,
           0.07737132155331593
          ]
         ],
         "hovertemplate": "<b>%{customdata[0]}</b><br>Family Name: %{customdata[1]}<br>Domain: %{customdata[2]}<br>Kingdom: %{customdata[3]}</b><br>Phylum: %{customdata[4]}<br>Class: %{customdata[5]}<br>Order: %{customdata[6]}<br>Family: %{customdata[7]}<br>Genus: %{customdata[8]}<br>Species: %{customdata[9]}<br>EC Number: %{customdata[10]}<br>Mol Weight: %{customdata[11]}<br>Taxonomy ID: %{customdata[12]}<extra></extra>",
         "marker": {
          "color": "rgb(35, 142, 140)",
          "size": 6,
          "symbol": "circle"
         },
         "mode": "markers",
         "text": "methionine adenosyltransferase",
         "type": "scatter3d",
         "x": [
          -0.047535476571222215
         ],
         "y": [
          0.027816464771858066
         ],
         "z": [
          0.07737132155331593
         ]
        },
        {
         "customdata": [
          [
           "methionine adenosyltransferase",
           null,
           "Archaea",
           "Euryarchaeota",
           "Thermococcales",
           "Thermococcus",
           null,
           null,
           null,
           "aciditolerans",
           "2.5.1.6",
           44634,
           "taxon:2598455",
           0.00043677369786067105,
           -0.06031391103351913,
           0.027392047805126423,
           0.04497144155749842
          ]
         ],
         "hovertemplate": "<b>%{customdata[0]}</b><br>Family Name: %{customdata[1]}<br>Domain: %{customdata[2]}<br>Kingdom: %{customdata[3]}</b><br>Phylum: %{customdata[4]}<br>Class: %{customdata[5]}<br>Order: %{customdata[6]}<br>Family: %{customdata[7]}<br>Genus: %{customdata[8]}<br>Species: %{customdata[9]}<br>EC Number: %{customdata[10]}<br>Mol Weight: %{customdata[11]}<br>Taxonomy ID: %{customdata[12]}<extra></extra>",
         "marker": {
          "color": "rgb(66, 61, 131)",
          "size": 6,
          "symbol": "circle"
         },
         "mode": "markers",
         "text": "methionine adenosyltransferase",
         "type": "scatter3d",
         "x": [
          -0.06031391103351913
         ],
         "y": [
          0.027392047805126423
         ],
         "z": [
          0.04497144155749842
         ]
        },
        {
         "customdata": [
          [
           "methionine adenosyltransferase",
           null,
           "Archaea",
           "Euryarchaeota",
           "Thermococcales",
           "Thermococcus",
           null,
           null,
           null,
           "sp.",
           "2.5.1.6",
           44538,
           "taxon:1042877",
           0.0003854122952553196,
           -0.06814241722225049,
           0.03242596887488462,
           0.06668093037268326
          ]
         ],
         "hovertemplate": "<b>%{customdata[0]}</b><br>Family Name: %{customdata[1]}<br>Domain: %{customdata[2]}<br>Kingdom: %{customdata[3]}</b><br>Phylum: %{customdata[4]}<br>Class: %{customdata[5]}<br>Order: %{customdata[6]}<br>Family: %{customdata[7]}<br>Genus: %{customdata[8]}<br>Species: %{customdata[9]}<br>EC Number: %{customdata[10]}<br>Mol Weight: %{customdata[11]}<br>Taxonomy ID: %{customdata[12]}<extra></extra>",
         "marker": {
          "color": "rgb(61, 186, 116)",
          "size": 6,
          "symbol": "circle"
         },
         "mode": "markers",
         "text": "methionine adenosyltransferase",
         "type": "scatter3d",
         "x": [
          -0.06814241722225049
         ],
         "y": [
          0.03242596887488462
         ],
         "z": [
          0.06668093037268326
         ]
        },
        {
         "customdata": [
          [
           "methionine adenosyltransferase",
           null,
           "Archaea",
           "Euryarchaeota",
           "Thermococcales",
           "Thermococcus",
           null,
           null,
           null,
           "piezophilus",
           "2.5.1.6",
           44340,
           "taxon:1712654",
           0.00005314711350208358,
           -0.07578467664564627,
           0.012261393567823103,
           0.052243605474294894
          ]
         ],
         "hovertemplate": "<b>%{customdata[0]}</b><br>Family Name: %{customdata[1]}<br>Domain: %{customdata[2]}<br>Kingdom: %{customdata[3]}</b><br>Phylum: %{customdata[4]}<br>Class: %{customdata[5]}<br>Order: %{customdata[6]}<br>Family: %{customdata[7]}<br>Genus: %{customdata[8]}<br>Species: %{customdata[9]}<br>EC Number: %{customdata[10]}<br>Mol Weight: %{customdata[11]}<br>Taxonomy ID: %{customdata[12]}<extra></extra>",
         "marker": {
          "color": "rgb(68, 54, 127)",
          "size": 6,
          "symbol": "circle"
         },
         "mode": "markers",
         "text": "methionine adenosyltransferase",
         "type": "scatter3d",
         "x": [
          -0.07578467664564627
         ],
         "y": [
          0.012261393567823103
         ],
         "z": [
          0.052243605474294894
         ]
        },
        {
         "customdata": [
          [
           "methionine adenosyltransferase",
           null,
           "Archaea",
           "Euryarchaeota",
           "Thermococcales",
           "Thermococcus",
           null,
           null,
           null,
           "sp.",
           "2.5.1.6",
           44503,
           "taxon:1638258",
           0.00043677369786067105,
           -0.03809820042337792,
           0.010586445108992534,
           0.08145838675892232
          ]
         ],
         "hovertemplate": "<b>%{customdata[0]}</b><br>Family Name: %{customdata[1]}<br>Domain: %{customdata[2]}<br>Kingdom: %{customdata[3]}</b><br>Phylum: %{customdata[4]}<br>Class: %{customdata[5]}<br>Order: %{customdata[6]}<br>Family: %{customdata[7]}<br>Genus: %{customdata[8]}<br>Species: %{customdata[9]}<br>EC Number: %{customdata[10]}<br>Mol Weight: %{customdata[11]}<br>Taxonomy ID: %{customdata[12]}<extra></extra>",
         "marker": {
          "color": "rgb(32, 154, 138)",
          "size": 6,
          "symbol": "circle"
         },
         "mode": "markers",
         "text": "methionine adenosyltransferase",
         "type": "scatter3d",
         "x": [
          -0.03809820042337792
         ],
         "y": [
          0.010586445108992534
         ],
         "z": [
          0.08145838675892232
         ]
        },
        {
         "customdata": [
          [
           "methionine adenosyltransferase",
           null,
           "Archaea",
           "Euryarchaeota",
           "Thermococcales",
           "Thermococcus",
           null,
           null,
           null,
           "sp.",
           "2.5.1.6",
           44592,
           "taxon:122420",
           0.00010000289432278932,
           -0.04430493878445654,
           0.02794655987401391,
           0.06294330634008495
          ]
         ],
         "hovertemplate": "<b>%{customdata[0]}</b><br>Family Name: %{customdata[1]}<br>Domain: %{customdata[2]}<br>Kingdom: %{customdata[3]}</b><br>Phylum: %{customdata[4]}<br>Class: %{customdata[5]}<br>Order: %{customdata[6]}<br>Family: %{customdata[7]}<br>Genus: %{customdata[8]}<br>Species: %{customdata[9]}<br>EC Number: %{customdata[10]}<br>Mol Weight: %{customdata[11]}<br>Taxonomy ID: %{customdata[12]}<extra></extra>",
         "marker": {
          "color": "rgb(196, 224, 42)",
          "size": 6,
          "symbol": "circle"
         },
         "mode": "markers",
         "text": "methionine adenosyltransferase",
         "type": "scatter3d",
         "x": [
          -0.04430493878445654
         ],
         "y": [
          0.02794655987401391
         ],
         "z": [
          0.06294330634008495
         ]
        },
        {
         "customdata": [
          [
           "methionine adenosyltransferase",
           null,
           "Archaea",
           "Euryarchaeota",
           "Thermococcales",
           null,
           null,
           null,
           null,
           null,
           "2.5.1.6",
           44598,
           "taxon:2263",
           0.023228660324898065,
           -0.04936447492532519,
           -0.01552508514159938,
           0.05199322569096808
          ]
         ],
         "hovertemplate": "<b>%{customdata[0]}</b><br>Family Name: %{customdata[1]}<br>Domain: %{customdata[2]}<br>Kingdom: %{customdata[3]}</b><br>Phylum: %{customdata[4]}<br>Class: %{customdata[5]}<br>Order: %{customdata[6]}<br>Family: %{customdata[7]}<br>Genus: %{customdata[8]}<br>Species: %{customdata[9]}<br>EC Number: %{customdata[10]}<br>Mol Weight: %{customdata[11]}<br>Taxonomy ID: %{customdata[12]}<extra></extra>",
         "marker": {
          "color": "rgb(45, 113, 142)",
          "size": 6,
          "symbol": "circle"
         },
         "mode": "markers",
         "text": "methionine adenosyltransferase",
         "type": "scatter3d",
         "x": [
          -0.04936447492532519
         ],
         "y": [
          -0.01552508514159938
         ],
         "z": [
          0.05199322569096808
         ]
        },
        {
         "customdata": [
          [
           "methionine adenosyltransferase",
           null,
           "Archaea",
           "Euryarchaeota",
           "Thermococcales",
           "Thermococcus",
           null,
           null,
           null,
           "sp.",
           "2.5.1.6",
           44638,
           "taxon:1638256",
           0.001661367924034059,
           -0.048648942991918576,
           -0.003134707128050023,
           0.0876803445905666
          ]
         ],
         "hovertemplate": "<b>%{customdata[0]}</b><br>Family Name: %{customdata[1]}<br>Domain: %{customdata[2]}<br>Kingdom: %{customdata[3]}</b><br>Phylum: %{customdata[4]}<br>Class: %{customdata[5]}<br>Order: %{customdata[6]}<br>Family: %{customdata[7]}<br>Genus: %{customdata[8]}<br>Species: %{customdata[9]}<br>EC Number: %{customdata[10]}<br>Mol Weight: %{customdata[11]}<br>Taxonomy ID: %{customdata[12]}<extra></extra>",
         "marker": {
          "color": "rgb(53, 95, 141)",
          "size": 6,
          "symbol": "circle"
         },
         "mode": "markers",
         "text": "methionine adenosyltransferase",
         "type": "scatter3d",
         "x": [
          -0.048648942991918576
         ],
         "y": [
          -0.003134707128050023
         ],
         "z": [
          0.0876803445905666
         ]
        },
        {
         "customdata": [
          [
           "methionine adenosyltransferase",
           null,
           "Archaea",
           "Euryarchaeota",
           "Thermococcales",
           "Thermococcus",
           null,
           null,
           null,
           "sp.",
           "2.5.1.6",
           44691,
           "taxon:1638259",
           0.0006780273576363003,
           -0.04904238800413077,
           0.01451837551731102,
           0.0820240758839239
          ]
         ],
         "hovertemplate": "<b>%{customdata[0]}</b><br>Family Name: %{customdata[1]}<br>Domain: %{customdata[2]}<br>Kingdom: %{customdata[3]}</b><br>Phylum: %{customdata[4]}<br>Class: %{customdata[5]}<br>Order: %{customdata[6]}<br>Family: %{customdata[7]}<br>Genus: %{customdata[8]}<br>Species: %{customdata[9]}<br>EC Number: %{customdata[10]}<br>Mol Weight: %{customdata[11]}<br>Taxonomy ID: %{customdata[12]}<extra></extra>",
         "marker": {
          "color": "rgb(69, 15, 97)",
          "size": 6,
          "symbol": "circle"
         },
         "mode": "markers",
         "text": "methionine adenosyltransferase",
         "type": "scatter3d",
         "x": [
          -0.04904238800413077
         ],
         "y": [
          0.01451837551731102
         ],
         "z": [
          0.0820240758839239
         ]
        },
        {
         "customdata": [
          [
           "methionine adenosyltransferase",
           null,
           "Archaea",
           "Euryarchaeota",
           "Thermococcales",
           "Thermococcus",
           null,
           null,
           null,
           "sp.",
           "2.5.1.6",
           44564,
           "taxon:1638242",
           0.004929444041070698,
           -0.04578067965849959,
           -0.02265040169993025,
           0.06593217374631649
          ]
         ],
         "hovertemplate": "<b>%{customdata[0]}</b><br>Family Name: %{customdata[1]}<br>Domain: %{customdata[2]}<br>Kingdom: %{customdata[3]}</b><br>Phylum: %{customdata[4]}<br>Class: %{customdata[5]}<br>Order: %{customdata[6]}<br>Family: %{customdata[7]}<br>Genus: %{customdata[8]}<br>Species: %{customdata[9]}<br>EC Number: %{customdata[10]}<br>Mol Weight: %{customdata[11]}<br>Taxonomy ID: %{customdata[12]}<extra></extra>",
         "marker": {
          "color": "rgb(222, 227, 40)",
          "size": 6,
          "symbol": "circle"
         },
         "mode": "markers",
         "text": "methionine adenosyltransferase",
         "type": "scatter3d",
         "x": [
          -0.04578067965849959
         ],
         "y": [
          -0.02265040169993025
         ],
         "z": [
          0.06593217374631649
         ]
        },
        {
         "customdata": [
          [
           "methionine adenosyltransferase",
           null,
           "Archaea",
           "Euryarchaeota",
           "Thermococcales",
           "Thermococcus",
           null,
           null,
           null,
           "sp.",
           "2.5.1.6",
           44924,
           "taxon:3111325",
           0.008406011426446307,
           -0.04708410255920766,
           -0.02105345259922373,
           0.037829389393083224
          ]
         ],
         "hovertemplate": "<b>%{customdata[0]}</b><br>Family Name: %{customdata[1]}<br>Domain: %{customdata[2]}<br>Kingdom: %{customdata[3]}</b><br>Phylum: %{customdata[4]}<br>Class: %{customdata[5]}<br>Order: %{customdata[6]}<br>Family: %{customdata[7]}<br>Genus: %{customdata[8]}<br>Species: %{customdata[9]}<br>EC Number: %{customdata[10]}<br>Mol Weight: %{customdata[11]}<br>Taxonomy ID: %{customdata[12]}<extra></extra>",
         "marker": {
          "color": "rgb(66, 59, 130)",
          "size": 6,
          "symbol": "circle"
         },
         "mode": "markers",
         "text": "methionine adenosyltransferase",
         "type": "scatter3d",
         "x": [
          -0.04708410255920766
         ],
         "y": [
          -0.02105345259922373
         ],
         "z": [
          0.037829389393083224
         ]
        },
        {
         "customdata": [
          [
           "methionine adenosyltransferase",
           null,
           "Archaea",
           "Euryarchaeota",
           "Thermococcales",
           "Thermococcus",
           null,
           null,
           null,
           "barophilus",
           "2.5.1.6",
           44980,
           "taxon:55802",
           0.005611866048300275,
           -0.04371973334011761,
           -0.02297391005257715,
           0.05014374149837301
          ]
         ],
         "hovertemplate": "<b>%{customdata[0]}</b><br>Family Name: %{customdata[1]}<br>Domain: %{customdata[2]}<br>Kingdom: %{customdata[3]}</b><br>Phylum: %{customdata[4]}<br>Class: %{customdata[5]}<br>Order: %{customdata[6]}<br>Family: %{customdata[7]}<br>Genus: %{customdata[8]}<br>Species: %{customdata[9]}<br>EC Number: %{customdata[10]}<br>Mol Weight: %{customdata[11]}<br>Taxonomy ID: %{customdata[12]}<extra></extra>",
         "marker": {
          "color": "rgb(69, 9, 92)",
          "size": 6,
          "symbol": "circle"
         },
         "mode": "markers",
         "text": "methionine adenosyltransferase",
         "type": "scatter3d",
         "x": [
          -0.04371973334011761
         ],
         "y": [
          -0.02297391005257715
         ],
         "z": [
          0.05014374149837301
         ]
        },
        {
         "customdata": [
          [
           "methionine adenosyltransferase",
           null,
           "Archaea",
           "Euryarchaeota",
           "Thermococcales",
           "Thermococcus",
           null,
           null,
           null,
           "sp.",
           "2.5.1.6",
           44670,
           "taxon:35749",
           0.00009285026812077674,
           -0.07052341519550137,
           0.025874338990711274,
           0.05681399886595539
          ]
         ],
         "hovertemplate": "<b>%{customdata[0]}</b><br>Family Name: %{customdata[1]}<br>Domain: %{customdata[2]}<br>Kingdom: %{customdata[3]}</b><br>Phylum: %{customdata[4]}<br>Class: %{customdata[5]}<br>Order: %{customdata[6]}<br>Family: %{customdata[7]}<br>Genus: %{customdata[8]}<br>Species: %{customdata[9]}<br>EC Number: %{customdata[10]}<br>Mol Weight: %{customdata[11]}<br>Taxonomy ID: %{customdata[12]}<extra></extra>",
         "marker": {
          "color": "rgb(161, 217, 56)",
          "size": 6,
          "symbol": "circle"
         },
         "mode": "markers",
         "text": "methionine adenosyltransferase",
         "type": "scatter3d",
         "x": [
          -0.07052341519550137
         ],
         "y": [
          0.025874338990711274
         ],
         "z": [
          0.05681399886595539
         ]
        },
        {
         "customdata": [
          [
           "methionine adenosyltransferase",
           null,
           "Archaea",
           "Euryarchaeota",
           "Thermococcales",
           "Thermococcus",
           null,
           null,
           null,
           "Thermococcus",
           "2.5.1.6",
           45022,
           "taxon:2627626",
           0.015518468780178967,
           -0.047143821883872804,
           -0.01227016600922746,
           0.0546099304767127
          ]
         ],
         "hovertemplate": "<b>%{customdata[0]}</b><br>Family Name: %{customdata[1]}<br>Domain: %{customdata[2]}<br>Kingdom: %{customdata[3]}</b><br>Phylum: %{customdata[4]}<br>Class: %{customdata[5]}<br>Order: %{customdata[6]}<br>Family: %{customdata[7]}<br>Genus: %{customdata[8]}<br>Species: %{customdata[9]}<br>EC Number: %{customdata[10]}<br>Mol Weight: %{customdata[11]}<br>Taxonomy ID: %{customdata[12]}<extra></extra>",
         "marker": {
          "color": "rgb(51, 100, 141)",
          "size": 6,
          "symbol": "circle"
         },
         "mode": "markers",
         "text": "methionine adenosyltransferase",
         "type": "scatter3d",
         "x": [
          -0.047143821883872804
         ],
         "y": [
          -0.01227016600922746
         ],
         "z": [
          0.0546099304767127
         ]
        },
        {
         "customdata": [
          [
           "methionine adenosyltransferase",
           null,
           "Archaea",
           "Euryarchaeota",
           "Thermococcales",
           "Thermococcus",
           null,
           null,
           null,
           "sp.",
           "2.5.1.6",
           44950,
           "taxon:35749",
           0.0027685214282481725,
           -0.07865665220403446,
           -0.003393737572854726,
           0.045216440143831436
          ]
         ],
         "hovertemplate": "<b>%{customdata[0]}</b><br>Family Name: %{customdata[1]}<br>Domain: %{customdata[2]}<br>Kingdom: %{customdata[3]}</b><br>Phylum: %{customdata[4]}<br>Class: %{customdata[5]}<br>Order: %{customdata[6]}<br>Family: %{customdata[7]}<br>Genus: %{customdata[8]}<br>Species: %{customdata[9]}<br>EC Number: %{customdata[10]}<br>Mol Weight: %{customdata[11]}<br>Taxonomy ID: %{customdata[12]}<extra></extra>",
         "marker": {
          "color": "rgb(161, 217, 56)",
          "size": 6,
          "symbol": "circle"
         },
         "mode": "markers",
         "text": "methionine adenosyltransferase",
         "type": "scatter3d",
         "x": [
          -0.07865665220403446
         ],
         "y": [
          -0.003393737572854726
         ],
         "z": [
          0.045216440143831436
         ]
        },
        {
         "customdata": [
          [
           "methionine adenosyltransferase",
           null,
           "Archaea",
           "Euryarchaeota",
           "Thermococcales",
           "Thermococcus",
           null,
           null,
           null,
           "bergensis",
           "2.5.1.6",
           45019,
           "taxon:2689387",
           0.0034083260261471137,
           -0.06218684749995144,
           -0.022270029817815635,
           0.06414431916275182
          ]
         ],
         "hovertemplate": "<b>%{customdata[0]}</b><br>Family Name: %{customdata[1]}<br>Domain: %{customdata[2]}<br>Kingdom: %{customdata[3]}</b><br>Phylum: %{customdata[4]}<br>Class: %{customdata[5]}<br>Order: %{customdata[6]}<br>Family: %{customdata[7]}<br>Genus: %{customdata[8]}<br>Species: %{customdata[9]}<br>EC Number: %{customdata[10]}<br>Mol Weight: %{customdata[11]}<br>Taxonomy ID: %{customdata[12]}<extra></extra>",
         "marker": {
          "color": "rgb(151, 215, 62)",
          "size": 6,
          "symbol": "circle"
         },
         "mode": "markers",
         "text": "methionine adenosyltransferase",
         "type": "scatter3d",
         "x": [
          -0.06218684749995144
         ],
         "y": [
          -0.022270029817815635
         ],
         "z": [
          0.06414431916275182
         ]
        },
        {
         "customdata": [
          [
           "methionine adenosyltransferase",
           null,
           "Archaea",
           "Euryarchaeota",
           "Thermococcales",
           "Thermococcus",
           null,
           null,
           null,
           "sp.",
           "2.5.1.6",
           45033,
           "taxon:913025",
           0.003548664949692372,
           -0.06465212076943087,
           -0.01272386589053048,
           0.04541341229789579
          ]
         ],
         "hovertemplate": "<b>%{customdata[0]}</b><br>Family Name: %{customdata[1]}<br>Domain: %{customdata[2]}<br>Kingdom: %{customdata[3]}</b><br>Phylum: %{customdata[4]}<br>Class: %{customdata[5]}<br>Order: %{customdata[6]}<br>Family: %{customdata[7]}<br>Genus: %{customdata[8]}<br>Species: %{customdata[9]}<br>EC Number: %{customdata[10]}<br>Mol Weight: %{customdata[11]}<br>Taxonomy ID: %{customdata[12]}<extra></extra>",
         "marker": {
          "color": "rgb(110, 206, 88)",
          "size": 6,
          "symbol": "circle"
         },
         "mode": "markers",
         "text": "methionine adenosyltransferase",
         "type": "scatter3d",
         "x": [
          -0.06465212076943087
         ],
         "y": [
          -0.01272386589053048
         ],
         "z": [
          0.04541341229789579
         ]
        },
        {
         "customdata": [
          [
           "methionine adenosyltransferase",
           null,
           "Archaea",
           "Euryarchaeota",
           "Thermococcales",
           "Thermococcus",
           null,
           null,
           null,
           "sp.",
           "2.5.1.6",
           45033,
           "taxon:2654197",
           0.002385271076017944,
           -0.07295997539448182,
           -0.005741619845645473,
           0.04964899924435232
          ]
         ],
         "hovertemplate": "<b>%{customdata[0]}</b><br>Family Name: %{customdata[1]}<br>Domain: %{customdata[2]}<br>Kingdom: %{customdata[3]}</b><br>Phylum: %{customdata[4]}<br>Class: %{customdata[5]}<br>Order: %{customdata[6]}<br>Family: %{customdata[7]}<br>Genus: %{customdata[8]}<br>Species: %{customdata[9]}<br>EC Number: %{customdata[10]}<br>Mol Weight: %{customdata[11]}<br>Taxonomy ID: %{customdata[12]}<extra></extra>",
         "marker": {
          "color": "rgb(63, 71, 136)",
          "size": 6,
          "symbol": "circle"
         },
         "mode": "markers",
         "text": "methionine adenosyltransferase",
         "type": "scatter3d",
         "x": [
          -0.07295997539448182
         ],
         "y": [
          -0.005741619845645473
         ],
         "z": [
          0.04964899924435232
         ]
        },
        {
         "customdata": [
          [
           "methionine adenosyltransferase",
           null,
           "Archaea",
           "Euryarchaeota",
           "Thermococcales",
           null,
           null,
           null,
           null,
           "archaeon",
           "2.5.1.6",
           null,
           "taxon:2666349",
           0.0034083260261471137,
           -0.0683127394367427,
           -0.019999638800220966,
           0.05446942488381947
          ]
         ],
         "hovertemplate": "<b>%{customdata[0]}</b><br>Family Name: %{customdata[1]}<br>Domain: %{customdata[2]}<br>Kingdom: %{customdata[3]}</b><br>Phylum: %{customdata[4]}<br>Class: %{customdata[5]}<br>Order: %{customdata[6]}<br>Family: %{customdata[7]}<br>Genus: %{customdata[8]}<br>Species: %{customdata[9]}<br>EC Number: %{customdata[10]}<br>Mol Weight: %{customdata[11]}<br>Taxonomy ID: %{customdata[12]}<extra></extra>",
         "marker": {
          "color": "rgb(248, 230, 37)",
          "size": 6,
          "symbol": "circle"
         },
         "mode": "markers",
         "text": "methionine adenosyltransferase",
         "type": "scatter3d",
         "x": [
          -0.0683127394367427
         ],
         "y": [
          -0.019999638800220966
         ],
         "z": [
          0.05446942488381947
         ]
        },
        {
         "customdata": [
          [
           "S-adenosylmethionine synthetase",
           null,
           "Archaea",
           "Euryarchaeota",
           "Thermococcales",
           null,
           null,
           null,
           null,
           "archaeon",
           null,
           null,
           "taxon:2666349",
           0.003361161677500763,
           -0.06651778325020972,
           -0.007651781882547548,
           0.03942536518148369
          ]
         ],
         "hovertemplate": "<b>%{customdata[0]}</b><br>Family Name: %{customdata[1]}<br>Domain: %{customdata[2]}<br>Kingdom: %{customdata[3]}</b><br>Phylum: %{customdata[4]}<br>Class: %{customdata[5]}<br>Order: %{customdata[6]}<br>Family: %{customdata[7]}<br>Genus: %{customdata[8]}<br>Species: %{customdata[9]}<br>EC Number: %{customdata[10]}<br>Mol Weight: %{customdata[11]}<br>Taxonomy ID: %{customdata[12]}<extra></extra>",
         "marker": {
          "color": "rgb(248, 230, 37)",
          "size": 6,
          "symbol": "circle"
         },
         "mode": "markers",
         "text": "S-adenosylmethionine synthetase",
         "type": "scatter3d",
         "x": [
          -0.06651778325020972
         ],
         "y": [
          -0.007651781882547548
         ],
         "z": [
          0.03942536518148369
         ]
        },
        {
         "customdata": [
          [
           "methionine adenosyltransferase",
           null,
           "Archaea",
           "Euryarchaeota",
           "Thermococcales",
           "Thermococcus",
           null,
           null,
           null,
           "paralvinellae",
           "2.5.1.6",
           44913,
           "taxon:582419",
           0.014444802028765625,
           -0.04615929332003276,
           -0.008728894038418538,
           0.04052008806957067
          ]
         ],
         "hovertemplate": "<b>%{customdata[0]}</b><br>Family Name: %{customdata[1]}<br>Domain: %{customdata[2]}<br>Kingdom: %{customdata[3]}</b><br>Phylum: %{customdata[4]}<br>Class: %{customdata[5]}<br>Order: %{customdata[6]}<br>Family: %{customdata[7]}<br>Genus: %{customdata[8]}<br>Species: %{customdata[9]}<br>EC Number: %{customdata[10]}<br>Mol Weight: %{customdata[11]}<br>Taxonomy ID: %{customdata[12]}<extra></extra>",
         "marker": {
          "color": "rgb(191, 223, 42)",
          "size": 6,
          "symbol": "circle"
         },
         "mode": "markers",
         "text": "methionine adenosyltransferase",
         "type": "scatter3d",
         "x": [
          -0.04615929332003276
         ],
         "y": [
          -0.008728894038418538
         ],
         "z": [
          0.04052008806957067
         ]
        },
        {
         "customdata": [
          [
           "methionine adenosyltransferase",
           null,
           "Archaea",
           "Euryarchaeota",
           "Thermococcales",
           null,
           null,
           null,
           null,
           null,
           "2.5.1.6",
           45089,
           "taxon:2263",
           0.00436645037183561,
           -0.06452649972140294,
           -0.02326682511215451,
           0.044756324874195
          ]
         ],
         "hovertemplate": "<b>%{customdata[0]}</b><br>Family Name: %{customdata[1]}<br>Domain: %{customdata[2]}<br>Kingdom: %{customdata[3]}</b><br>Phylum: %{customdata[4]}<br>Class: %{customdata[5]}<br>Order: %{customdata[6]}<br>Family: %{customdata[7]}<br>Genus: %{customdata[8]}<br>Species: %{customdata[9]}<br>EC Number: %{customdata[10]}<br>Mol Weight: %{customdata[11]}<br>Taxonomy ID: %{customdata[12]}<extra></extra>",
         "marker": {
          "color": "rgb(45, 113, 142)",
          "size": 6,
          "symbol": "circle"
         },
         "mode": "markers",
         "text": "methionine adenosyltransferase",
         "type": "scatter3d",
         "x": [
          -0.06452649972140294
         ],
         "y": [
          -0.02326682511215451
         ],
         "z": [
          0.044756324874195
         ]
        },
        {
         "customdata": [
          [
           "methionine adenosyltransferase",
           null,
           "Archaea",
           "Euryarchaeota",
           "Thermococcales",
           "Thermococcus",
           null,
           null,
           null,
           "sp.",
           "2.5.1.6",
           null,
           "taxon:35749",
           0.001366508219925359,
           -0.0629082779722176,
           -0.006903316029366487,
           0.0687813335864898
          ]
         ],
         "hovertemplate": "<b>%{customdata[0]}</b><br>Family Name: %{customdata[1]}<br>Domain: %{customdata[2]}<br>Kingdom: %{customdata[3]}</b><br>Phylum: %{customdata[4]}<br>Class: %{customdata[5]}<br>Order: %{customdata[6]}<br>Family: %{customdata[7]}<br>Genus: %{customdata[8]}<br>Species: %{customdata[9]}<br>EC Number: %{customdata[10]}<br>Mol Weight: %{customdata[11]}<br>Taxonomy ID: %{customdata[12]}<extra></extra>",
         "marker": {
          "color": "rgb(161, 217, 56)",
          "size": 6,
          "symbol": "circle"
         },
         "mode": "markers",
         "text": "methionine adenosyltransferase",
         "type": "scatter3d",
         "x": [
          -0.0629082779722176
         ],
         "y": [
          -0.006903316029366487
         ],
         "z": [
          0.0687813335864898
         ]
        },
        {
         "customdata": [
          [
           "methionine adenosyltransferase",
           null,
           "Archaea",
           "Euryarchaeota",
           "Thermococcales",
           "Thermococcus",
           null,
           null,
           null,
           "aggregans",
           "2.5.1.6",
           45205,
           "taxon:110163",
           0.0077340728029863665,
           -0.044717310554343935,
           -0.01446710367755387,
           0.04643656159105169
          ]
         ],
         "hovertemplate": "<b>%{customdata[0]}</b><br>Family Name: %{customdata[1]}<br>Domain: %{customdata[2]}<br>Kingdom: %{customdata[3]}</b><br>Phylum: %{customdata[4]}<br>Class: %{customdata[5]}<br>Order: %{customdata[6]}<br>Family: %{customdata[7]}<br>Genus: %{customdata[8]}<br>Species: %{customdata[9]}<br>EC Number: %{customdata[10]}<br>Mol Weight: %{customdata[11]}<br>Taxonomy ID: %{customdata[12]}<extra></extra>",
         "marker": {
          "color": "rgb(166, 219, 53)",
          "size": 6,
          "symbol": "circle"
         },
         "mode": "markers",
         "text": "methionine adenosyltransferase",
         "type": "scatter3d",
         "x": [
          -0.044717310554343935
         ],
         "y": [
          -0.01446710367755387
         ],
         "z": [
          0.04643656159105169
         ]
        },
        {
         "customdata": [
          [
           "methionine adenosyltransferase",
           null,
           "Archaea",
           "Euryarchaeota",
           "Thermococcales",
           "Thermococcus",
           null,
           null,
           null,
           "sp.",
           "2.5.1.6",
           45048,
           "taxon:1674923",
           0.003295656177749501,
           -0.07286083417792025,
           -0.01302824329906705,
           0.0408283025697225
          ]
         ],
         "hovertemplate": "<b>%{customdata[0]}</b><br>Family Name: %{customdata[1]}<br>Domain: %{customdata[2]}<br>Kingdom: %{customdata[3]}</b><br>Phylum: %{customdata[4]}<br>Class: %{customdata[5]}<br>Order: %{customdata[6]}<br>Family: %{customdata[7]}<br>Genus: %{customdata[8]}<br>Species: %{customdata[9]}<br>EC Number: %{customdata[10]}<br>Mol Weight: %{customdata[11]}<br>Taxonomy ID: %{customdata[12]}<extra></extra>",
         "marker": {
          "color": "rgb(186, 223, 43)",
          "size": 6,
          "symbol": "circle"
         },
         "mode": "markers",
         "text": "methionine adenosyltransferase",
         "type": "scatter3d",
         "x": [
          -0.07286083417792025
         ],
         "y": [
          -0.01302824329906705
         ],
         "z": [
          0.0408283025697225
         ]
        },
        {
         "customdata": [
          [
           "methionine adenosyltransferase",
           null,
           "Archaea",
           "Euryarchaeota",
           "Thermococcales",
           "Thermococcus",
           null,
           null,
           null,
           "sp.",
           "2.5.1.6",
           45062,
           "taxon:1674923",
           0.00436645037183561,
           -0.05850397556594649,
           -0.014446755479860653,
           0.0572237344627329
          ]
         ],
         "hovertemplate": "<b>%{customdata[0]}</b><br>Family Name: %{customdata[1]}<br>Domain: %{customdata[2]}<br>Kingdom: %{customdata[3]}</b><br>Phylum: %{customdata[4]}<br>Class: %{customdata[5]}<br>Order: %{customdata[6]}<br>Family: %{customdata[7]}<br>Genus: %{customdata[8]}<br>Species: %{customdata[9]}<br>EC Number: %{customdata[10]}<br>Mol Weight: %{customdata[11]}<br>Taxonomy ID: %{customdata[12]}<extra></extra>",
         "marker": {
          "color": "rgb(186, 223, 43)",
          "size": 6,
          "symbol": "circle"
         },
         "mode": "markers",
         "text": "methionine adenosyltransferase",
         "type": "scatter3d",
         "x": [
          -0.05850397556594649
         ],
         "y": [
          -0.014446755479860653
         ],
         "z": [
          0.0572237344627329
         ]
        },
        {
         "customdata": [
          [
           "methionine adenosyltransferase",
           null,
           "Archaea",
           "Euryarchaeota",
           "Thermococcales",
           "Thermococcus",
           null,
           null,
           null,
           "litoralis",
           "2.5.1.6",
           null,
           "taxon:2265",
           0.001366508219925359,
           -0.07669982010252256,
           -0.004567324370181953,
           0.07644131000124127
          ]
         ],
         "hovertemplate": "<b>%{customdata[0]}</b><br>Family Name: %{customdata[1]}<br>Domain: %{customdata[2]}<br>Kingdom: %{customdata[3]}</b><br>Phylum: %{customdata[4]}<br>Class: %{customdata[5]}<br>Order: %{customdata[6]}<br>Family: %{customdata[7]}<br>Genus: %{customdata[8]}<br>Species: %{customdata[9]}<br>EC Number: %{customdata[10]}<br>Mol Weight: %{customdata[11]}<br>Taxonomy ID: %{customdata[12]}<extra></extra>",
         "marker": {
          "color": "rgb(37, 165, 132)",
          "size": 6,
          "symbol": "circle"
         },
         "mode": "markers",
         "text": "methionine adenosyltransferase",
         "type": "scatter3d",
         "x": [
          -0.07669982010252256
         ],
         "y": [
          -0.004567324370181953
         ],
         "z": [
          0.07644131000124127
         ]
        },
        {
         "customdata": [
          [
           "methionine adenosyltransferase",
           null,
           "Archaea",
           "Euryarchaeota",
           null,
           null,
           null,
           null,
           null,
           "archaeon",
           "2.5.1.6",
           null,
           "taxon:2250254",
           0.00009302636698394394,
           -0.07738379556404919,
           0.015267557160156793,
           0.06563897782483163
          ]
         ],
         "hovertemplate": "<b>%{customdata[0]}</b><br>Family Name: %{customdata[1]}<br>Domain: %{customdata[2]}<br>Kingdom: %{customdata[3]}</b><br>Phylum: %{customdata[4]}<br>Class: %{customdata[5]}<br>Order: %{customdata[6]}<br>Family: %{customdata[7]}<br>Genus: %{customdata[8]}<br>Species: %{customdata[9]}<br>EC Number: %{customdata[10]}<br>Mol Weight: %{customdata[11]}<br>Taxonomy ID: %{customdata[12]}<extra></extra>",
         "marker": {
          "color": "rgb(33, 150, 138)",
          "size": 6,
          "symbol": "circle"
         },
         "mode": "markers",
         "text": "methionine adenosyltransferase",
         "type": "scatter3d",
         "x": [
          -0.07738379556404919
         ],
         "y": [
          0.015267557160156793
         ],
         "z": [
          0.06563897782483163
         ]
        },
        {
         "customdata": [
          [
           "methionine adenosyltransferase",
           null,
           "Archaea",
           "Euryarchaeota",
           "Thermococcales",
           "Thermococcus",
           null,
           null,
           null,
           "sp.",
           "2.5.1.6",
           45052,
           "taxon:1638272",
           0.00016531301930946838,
           -0.07145724885482044,
           0.00916008462656467,
           0.07865931811212253
          ]
         ],
         "hovertemplate": "<b>%{customdata[0]}</b><br>Family Name: %{customdata[1]}<br>Domain: %{customdata[2]}<br>Kingdom: %{customdata[3]}</b><br>Phylum: %{customdata[4]}<br>Class: %{customdata[5]}<br>Order: %{customdata[6]}<br>Family: %{customdata[7]}<br>Genus: %{customdata[8]}<br>Species: %{customdata[9]}<br>EC Number: %{customdata[10]}<br>Mol Weight: %{customdata[11]}<br>Taxonomy ID: %{customdata[12]}<extra></extra>",
         "marker": {
          "color": "rgb(69, 12, 94)",
          "size": 6,
          "symbol": "circle"
         },
         "mode": "markers",
         "text": "methionine adenosyltransferase",
         "type": "scatter3d",
         "x": [
          -0.07145724885482044
         ],
         "y": [
          0.00916008462656467
         ],
         "z": [
          0.07865931811212253
         ]
        },
        {
         "customdata": [
          [
           "methionine adenosyltransferase",
           null,
           "Archaea",
           "Euryarchaeota",
           "Thermococcales",
           "Palaeococcus",
           null,
           null,
           null,
           "pacificus",
           "2.5.1.6",
           45068,
           "taxon:971279",
           0.009318060233480885,
           -0.04063720066365819,
           0.002908831763493936,
           0.03786666164713524
          ]
         ],
         "hovertemplate": "<b>%{customdata[0]}</b><br>Family Name: %{customdata[1]}<br>Domain: %{customdata[2]}<br>Kingdom: %{customdata[3]}</b><br>Phylum: %{customdata[4]}<br>Class: %{customdata[5]}<br>Order: %{customdata[6]}<br>Family: %{customdata[7]}<br>Genus: %{customdata[8]}<br>Species: %{customdata[9]}<br>EC Number: %{customdata[10]}<br>Mol Weight: %{customdata[11]}<br>Taxonomy ID: %{customdata[12]}<extra></extra>",
         "marker": {
          "color": "rgb(58, 82, 138)",
          "size": 6,
          "symbol": "circle"
         },
         "mode": "markers",
         "text": "methionine adenosyltransferase",
         "type": "scatter3d",
         "x": [
          -0.04063720066365819
         ],
         "y": [
          0.002908831763493936
         ],
         "z": [
          0.03786666164713524
         ]
        },
        {
         "customdata": [
          [
           "methionine adenosyltransferase",
           null,
           "Archaea",
           "Euryarchaeota",
           null,
           null,
           null,
           null,
           null,
           "archaeon",
           "2.5.1.6",
           null,
           "taxon:2250254",
           0.004178947099644002,
           -0.05872331667078898,
           -0.01689158260669487,
           0.04697140212987291
          ]
         ],
         "hovertemplate": "<b>%{customdata[0]}</b><br>Family Name: %{customdata[1]}<br>Domain: %{customdata[2]}<br>Kingdom: %{customdata[3]}</b><br>Phylum: %{customdata[4]}<br>Class: %{customdata[5]}<br>Order: %{customdata[6]}<br>Family: %{customdata[7]}<br>Genus: %{customdata[8]}<br>Species: %{customdata[9]}<br>EC Number: %{customdata[10]}<br>Mol Weight: %{customdata[11]}<br>Taxonomy ID: %{customdata[12]}<extra></extra>",
         "marker": {
          "color": "rgb(33, 150, 138)",
          "size": 6,
          "symbol": "circle"
         },
         "mode": "markers",
         "text": "methionine adenosyltransferase",
         "type": "scatter3d",
         "x": [
          -0.05872331667078898
         ],
         "y": [
          -0.01689158260669487
         ],
         "z": [
          0.04697140212987291
         ]
        },
        {
         "customdata": [
          [
           "methionine adenosyltransferase",
           null,
           "Archaea",
           "Euryarchaeota",
           "Thermococcales",
           "Thermococcus",
           null,
           null,
           null,
           "sp.",
           "2.5.1.6",
           null,
           "taxon:35749",
           0.002397521989925159,
           -0.07391503038873147,
           -0.015071408871471698,
           0.06061654202641946
          ]
         ],
         "hovertemplate": "<b>%{customdata[0]}</b><br>Family Name: %{customdata[1]}<br>Domain: %{customdata[2]}<br>Kingdom: %{customdata[3]}</b><br>Phylum: %{customdata[4]}<br>Class: %{customdata[5]}<br>Order: %{customdata[6]}<br>Family: %{customdata[7]}<br>Genus: %{customdata[8]}<br>Species: %{customdata[9]}<br>EC Number: %{customdata[10]}<br>Mol Weight: %{customdata[11]}<br>Taxonomy ID: %{customdata[12]}<extra></extra>",
         "marker": {
          "color": "rgb(161, 217, 56)",
          "size": 6,
          "symbol": "circle"
         },
         "mode": "markers",
         "text": "methionine adenosyltransferase",
         "type": "scatter3d",
         "x": [
          -0.07391503038873147
         ],
         "y": [
          -0.015071408871471698
         ],
         "z": [
          0.06061654202641946
         ]
        },
        {
         "customdata": [
          [
           "S-adenosylmethionine synthetase",
           null,
           "Archaea",
           "Euryarchaeota",
           "Thermococcales",
           "Thermococcus",
           null,
           null,
           null,
           "sibiricus",
           "2.5.1.6",
           null,
           "taxon:604354",
           0.0008318969328918769,
           -0.06856798101139451,
           -0.0068401216816578935,
           0.07238872222253974
          ]
         ],
         "hovertemplate": "<b>%{customdata[0]}</b><br>Family Name: %{customdata[1]}<br>Domain: %{customdata[2]}<br>Kingdom: %{customdata[3]}</b><br>Phylum: %{customdata[4]}<br>Class: %{customdata[5]}<br>Order: %{customdata[6]}<br>Family: %{customdata[7]}<br>Genus: %{customdata[8]}<br>Species: %{customdata[9]}<br>EC Number: %{customdata[10]}<br>Mol Weight: %{customdata[11]}<br>Taxonomy ID: %{customdata[12]}<extra></extra>",
         "marker": {
          "color": "rgb(34, 146, 139)",
          "size": 6,
          "symbol": "circle"
         },
         "mode": "markers",
         "text": "S-adenosylmethionine synthetase",
         "type": "scatter3d",
         "x": [
          -0.06856798101139451
         ],
         "y": [
          -0.0068401216816578935
         ],
         "z": [
          0.07238872222253974
         ]
        },
        {
         "customdata": [
          [
           "methionine adenosyltransferase",
           null,
           "Archaea",
           "Euryarchaeota",
           "Thermococcales",
           "Thermococcus",
           null,
           null,
           null,
           "argininiproducens",
           "2.5.1.6",
           44980,
           "taxon:2866384",
           0.0002579660629695617,
           -0.08000162046827887,
           -0.0037970081653695763,
           0.05920336443723271
          ]
         ],
         "hovertemplate": "<b>%{customdata[0]}</b><br>Family Name: %{customdata[1]}<br>Domain: %{customdata[2]}<br>Kingdom: %{customdata[3]}</b><br>Phylum: %{customdata[4]}<br>Class: %{customdata[5]}<br>Order: %{customdata[6]}<br>Family: %{customdata[7]}<br>Genus: %{customdata[8]}<br>Species: %{customdata[9]}<br>EC Number: %{customdata[10]}<br>Mol Weight: %{customdata[11]}<br>Taxonomy ID: %{customdata[12]}<extra></extra>",
         "marker": {
          "color": "rgb(90, 198, 100)",
          "size": 6,
          "symbol": "circle"
         },
         "mode": "markers",
         "text": "methionine adenosyltransferase",
         "type": "scatter3d",
         "x": [
          -0.08000162046827887
         ],
         "y": [
          -0.0037970081653695763
         ],
         "z": [
          0.05920336443723271
         ]
        },
        {
         "customdata": [
          [
           "methionine adenosyltransferase",
           null,
           "Archaea",
           "Euryarchaeota",
           "Thermococcales",
           "Thermococcus",
           null,
           null,
           null,
           "sp.",
           "2.5.1.6",
           45063,
           "taxon:1591054",
           0.010287296514400369,
           -0.059701944482104016,
           0.027677391069555756,
           0.0767408311589254
          ]
         ],
         "hovertemplate": "<b>%{customdata[0]}</b><br>Family Name: %{customdata[1]}<br>Domain: %{customdata[2]}<br>Kingdom: %{customdata[3]}</b><br>Phylum: %{customdata[4]}<br>Class: %{customdata[5]}<br>Order: %{customdata[6]}<br>Family: %{customdata[7]}<br>Genus: %{customdata[8]}<br>Species: %{customdata[9]}<br>EC Number: %{customdata[10]}<br>Mol Weight: %{customdata[11]}<br>Taxonomy ID: %{customdata[12]}<extra></extra>",
         "marker": {
          "color": "rgb(243, 230, 38)",
          "size": 6,
          "symbol": "circle"
         },
         "mode": "markers",
         "text": "methionine adenosyltransferase",
         "type": "scatter3d",
         "x": [
          -0.059701944482104016
         ],
         "y": [
          0.027677391069555756
         ],
         "z": [
          0.0767408311589254
         ]
        },
        {
         "customdata": [
          [
           "methionine adenosyltransferase",
           null,
           "Archaea",
           "Euryarchaeota",
           "Thermococcales",
           null,
           null,
           null,
           null,
           null,
           "2.5.1.6",
           45161,
           "taxon:2263",
           0.0008318969328918769,
           -0.0831371092665384,
           0.000013384112325578666,
           0.0635490903581933
          ]
         ],
         "hovertemplate": "<b>%{customdata[0]}</b><br>Family Name: %{customdata[1]}<br>Domain: %{customdata[2]}<br>Kingdom: %{customdata[3]}</b><br>Phylum: %{customdata[4]}<br>Class: %{customdata[5]}<br>Order: %{customdata[6]}<br>Family: %{customdata[7]}<br>Genus: %{customdata[8]}<br>Species: %{customdata[9]}<br>EC Number: %{customdata[10]}<br>Mol Weight: %{customdata[11]}<br>Taxonomy ID: %{customdata[12]}<extra></extra>",
         "marker": {
          "color": "rgb(45, 113, 142)",
          "size": 6,
          "symbol": "circle"
         },
         "mode": "markers",
         "text": "methionine adenosyltransferase",
         "type": "scatter3d",
         "x": [
          -0.0831371092665384
         ],
         "y": [
          0.000013384112325578666
         ],
         "z": [
          0.0635490903581933
         ]
        },
        {
         "customdata": [
          [
           "methionine adenosyltransferase",
           null,
           "Archaea",
           "Euryarchaeota",
           null,
           null,
           null,
           null,
           null,
           "archaeon",
           "2.5.1.6",
           null,
           "taxon:2250254",
           0.0007612038242236784,
           -0.08765552199599852,
           0.005651479480343483,
           0.07102478842814505
          ]
         ],
         "hovertemplate": "<b>%{customdata[0]}</b><br>Family Name: %{customdata[1]}<br>Domain: %{customdata[2]}<br>Kingdom: %{customdata[3]}</b><br>Phylum: %{customdata[4]}<br>Class: %{customdata[5]}<br>Order: %{customdata[6]}<br>Family: %{customdata[7]}<br>Genus: %{customdata[8]}<br>Species: %{customdata[9]}<br>EC Number: %{customdata[10]}<br>Mol Weight: %{customdata[11]}<br>Taxonomy ID: %{customdata[12]}<extra></extra>",
         "marker": {
          "color": "rgb(33, 150, 138)",
          "size": 6,
          "symbol": "circle"
         },
         "mode": "markers",
         "text": "methionine adenosyltransferase",
         "type": "scatter3d",
         "x": [
          -0.08765552199599852
         ],
         "y": [
          0.005651479480343483
         ],
         "z": [
          0.07102478842814505
         ]
        },
        {
         "customdata": [
          [
           "methionine adenosyltransferase",
           null,
           "Archaea",
           "Euryarchaeota",
           "Thermococcales",
           "Thermococcus",
           null,
           null,
           null,
           "sp.",
           "2.5.1.6",
           45047,
           "taxon:35749",
           0.0006365395714092553,
           -0.0641086458999322,
           -0.00037131415102266104,
           0.0709450687004009
          ]
         ],
         "hovertemplate": "<b>%{customdata[0]}</b><br>Family Name: %{customdata[1]}<br>Domain: %{customdata[2]}<br>Kingdom: %{customdata[3]}</b><br>Phylum: %{customdata[4]}<br>Class: %{customdata[5]}<br>Order: %{customdata[6]}<br>Family: %{customdata[7]}<br>Genus: %{customdata[8]}<br>Species: %{customdata[9]}<br>EC Number: %{customdata[10]}<br>Mol Weight: %{customdata[11]}<br>Taxonomy ID: %{customdata[12]}<extra></extra>",
         "marker": {
          "color": "rgb(161, 217, 56)",
          "size": 6,
          "symbol": "circle"
         },
         "mode": "markers",
         "text": "methionine adenosyltransferase",
         "type": "scatter3d",
         "x": [
          -0.0641086458999322
         ],
         "y": [
          -0.00037131415102266104
         ],
         "z": [
          0.0709450687004009
         ]
        },
        {
         "customdata": [
          [
           "methionine adenosyltransferase",
           null,
           "Archaea",
           "Euryarchaeota",
           null,
           null,
           null,
           null,
           null,
           "archaeon",
           "2.5.1.6",
           null,
           "taxon:2250254",
           0.000735537470660435,
           -0.07444612430743687,
           -0.0018445397320490302,
           0.06515641962373905
          ]
         ],
         "hovertemplate": "<b>%{customdata[0]}</b><br>Family Name: %{customdata[1]}<br>Domain: %{customdata[2]}<br>Kingdom: %{customdata[3]}</b><br>Phylum: %{customdata[4]}<br>Class: %{customdata[5]}<br>Order: %{customdata[6]}<br>Family: %{customdata[7]}<br>Genus: %{customdata[8]}<br>Species: %{customdata[9]}<br>EC Number: %{customdata[10]}<br>Mol Weight: %{customdata[11]}<br>Taxonomy ID: %{customdata[12]}<extra></extra>",
         "marker": {
          "color": "rgb(33, 150, 138)",
          "size": 6,
          "symbol": "circle"
         },
         "mode": "markers",
         "text": "methionine adenosyltransferase",
         "type": "scatter3d",
         "x": [
          -0.07444612430743687
         ],
         "y": [
          -0.0018445397320490302
         ],
         "z": [
          0.06515641962373905
         ]
        },
        {
         "customdata": [
          [
           "methionine adenosyltransferase",
           null,
           "Archaea",
           "Euryarchaeota",
           "Thermococcales",
           "Palaeococcus",
           null,
           null,
           null,
           "ferrophilus",
           "2.5.1.6",
           44895,
           "taxon:83868",
           0.002306357625138191,
           -0.03410333417236462,
           -0.016988873396430657,
           0.05830753868688596
          ]
         ],
         "hovertemplate": "<b>%{customdata[0]}</b><br>Family Name: %{customdata[1]}<br>Domain: %{customdata[2]}<br>Kingdom: %{customdata[3]}</b><br>Phylum: %{customdata[4]}<br>Class: %{customdata[5]}<br>Order: %{customdata[6]}<br>Family: %{customdata[7]}<br>Genus: %{customdata[8]}<br>Species: %{customdata[9]}<br>EC Number: %{customdata[10]}<br>Mol Weight: %{customdata[11]}<br>Taxonomy ID: %{customdata[12]}<extra></extra>",
         "marker": {
          "color": "rgb(77, 193, 107)",
          "size": 6,
          "symbol": "circle"
         },
         "mode": "markers",
         "text": "methionine adenosyltransferase",
         "type": "scatter3d",
         "x": [
          -0.03410333417236462
         ],
         "y": [
          -0.016988873396430657
         ],
         "z": [
          0.05830753868688596
         ]
        },
        {
         "customdata": [
          [
           "methionine adenosyltransferase",
           null,
           "Archaea",
           "Euryarchaeota",
           null,
           null,
           null,
           null,
           null,
           "archaeon",
           "2.5.1.6",
           null,
           "taxon:2250254",
           0.0031089755613286757,
           -0.027944483249874585,
           0.006012895667018972,
           0.05107134964369011
          ]
         ],
         "hovertemplate": "<b>%{customdata[0]}</b><br>Family Name: %{customdata[1]}<br>Domain: %{customdata[2]}<br>Kingdom: %{customdata[3]}</b><br>Phylum: %{customdata[4]}<br>Class: %{customdata[5]}<br>Order: %{customdata[6]}<br>Family: %{customdata[7]}<br>Genus: %{customdata[8]}<br>Species: %{customdata[9]}<br>EC Number: %{customdata[10]}<br>Mol Weight: %{customdata[11]}<br>Taxonomy ID: %{customdata[12]}<extra></extra>",
         "marker": {
          "color": "rgb(33, 150, 138)",
          "size": 6,
          "symbol": "circle"
         },
         "mode": "markers",
         "text": "methionine adenosyltransferase",
         "type": "scatter3d",
         "x": [
          -0.027944483249874585
         ],
         "y": [
          0.006012895667018972
         ],
         "z": [
          0.05107134964369011
         ]
        },
        {
         "customdata": [
          [
           "methionine adenosyltransferase",
           null,
           "Archaea",
           "Euryarchaeota",
           null,
           null,
           null,
           null,
           null,
           "archaeon",
           "2.5.1.6",
           null,
           "taxon:2250254",
           0.0031089755613286757,
           -0.053205025113143706,
           0.00174349911690056,
           0.0348366409480797
          ]
         ],
         "hovertemplate": "<b>%{customdata[0]}</b><br>Family Name: %{customdata[1]}<br>Domain: %{customdata[2]}<br>Kingdom: %{customdata[3]}</b><br>Phylum: %{customdata[4]}<br>Class: %{customdata[5]}<br>Order: %{customdata[6]}<br>Family: %{customdata[7]}<br>Genus: %{customdata[8]}<br>Species: %{customdata[9]}<br>EC Number: %{customdata[10]}<br>Mol Weight: %{customdata[11]}<br>Taxonomy ID: %{customdata[12]}<extra></extra>",
         "marker": {
          "color": "rgb(33, 150, 138)",
          "size": 6,
          "symbol": "circle"
         },
         "mode": "markers",
         "text": "methionine adenosyltransferase",
         "type": "scatter3d",
         "x": [
          -0.053205025113143706
         ],
         "y": [
          0.00174349911690056
         ],
         "z": [
          0.0348366409480797
         ]
        },
        {
         "customdata": [
          [
           "methionine adenosyltransferase",
           null,
           "Archaea",
           "Euryarchaeota",
           "Thermococcales",
           "Palaeococcus",
           null,
           null,
           null,
           "sp.",
           "2.5.1.6",
           45050,
           "taxon:2820298",
           0.0031089755613286757,
           -0.04391261692372432,
           0.012573860903845453,
           0.03859361061592554
          ]
         ],
         "hovertemplate": "<b>%{customdata[0]}</b><br>Family Name: %{customdata[1]}<br>Domain: %{customdata[2]}<br>Kingdom: %{customdata[3]}</b><br>Phylum: %{customdata[4]}<br>Class: %{customdata[5]}<br>Order: %{customdata[6]}<br>Family: %{customdata[7]}<br>Genus: %{customdata[8]}<br>Species: %{customdata[9]}<br>EC Number: %{customdata[10]}<br>Mol Weight: %{customdata[11]}<br>Taxonomy ID: %{customdata[12]}<extra></extra>",
         "marker": {
          "color": "rgb(31, 158, 137)",
          "size": 6,
          "symbol": "circle"
         },
         "mode": "markers",
         "text": "methionine adenosyltransferase",
         "type": "scatter3d",
         "x": [
          -0.04391261692372432
         ],
         "y": [
          0.012573860903845453
         ],
         "z": [
          0.03859361061592554
         ]
        },
        {
         "customdata": [
          [
           "methionine adenosyltransferase",
           null,
           "Archaea",
           "Euryarchaeota",
           "Thermococcales",
           "Pyrococcus",
           null,
           null,
           null,
           "yayanosii",
           "2.5.1.6",
           44326,
           "taxon:1008460",
           0.0008625972157046197,
           -0.07213956293508497,
           -0.019830638808682157,
           0.06670472133728866
          ]
         ],
         "hovertemplate": "<b>%{customdata[0]}</b><br>Family Name: %{customdata[1]}<br>Domain: %{customdata[2]}<br>Kingdom: %{customdata[3]}</b><br>Phylum: %{customdata[4]}<br>Class: %{customdata[5]}<br>Order: %{customdata[6]}<br>Family: %{customdata[7]}<br>Genus: %{customdata[8]}<br>Species: %{customdata[9]}<br>EC Number: %{customdata[10]}<br>Mol Weight: %{customdata[11]}<br>Taxonomy ID: %{customdata[12]}<extra></extra>",
         "marker": {
          "color": "rgb(71, 32, 112)",
          "size": 6,
          "symbol": "circle"
         },
         "mode": "markers",
         "text": "methionine adenosyltransferase",
         "type": "scatter3d",
         "x": [
          -0.07213956293508497
         ],
         "y": [
          -0.019830638808682157
         ],
         "z": [
          0.06670472133728866
         ]
        },
        {
         "customdata": [
          [
           "methionine adenosyltransferase",
           null,
           "Archaea",
           "Euryarchaeota",
           "Thermococcales",
           "Pyrococcus",
           null,
           null,
           null,
           "sp.",
           "2.5.1.6",
           44187,
           "taxon:1183377",
           0.005406989624472488,
           -0.05704167629783219,
           0.0017001513047659226,
           0.07854520705378387
          ]
         ],
         "hovertemplate": "<b>%{customdata[0]}</b><br>Family Name: %{customdata[1]}<br>Domain: %{customdata[2]}<br>Kingdom: %{customdata[3]}</b><br>Phylum: %{customdata[4]}<br>Class: %{customdata[5]}<br>Order: %{customdata[6]}<br>Family: %{customdata[7]}<br>Genus: %{customdata[8]}<br>Species: %{customdata[9]}<br>EC Number: %{customdata[10]}<br>Mol Weight: %{customdata[11]}<br>Taxonomy ID: %{customdata[12]}<extra></extra>",
         "marker": {
          "color": "rgb(39, 128, 142)",
          "size": 6,
          "symbol": "circle"
         },
         "mode": "markers",
         "text": "methionine adenosyltransferase",
         "type": "scatter3d",
         "x": [
          -0.05704167629783219
         ],
         "y": [
          0.0017001513047659226
         ],
         "z": [
          0.07854520705378387
         ]
        },
        {
         "customdata": [
          [
           "methionine adenosyltransferase",
           null,
           "Archaea",
           "Euryarchaeota",
           "Thermococcales",
           "Pyrococcus",
           null,
           null,
           null,
           "kukulkanii",
           "2.5.1.6",
           44273,
           "taxon:1609559",
           0.004004751254618775,
           -0.04642052037070537,
           -0.015853447449284436,
           0.06491665545461246
          ]
         ],
         "hovertemplate": "<b>%{customdata[0]}</b><br>Family Name: %{customdata[1]}<br>Domain: %{customdata[2]}<br>Kingdom: %{customdata[3]}</b><br>Phylum: %{customdata[4]}<br>Class: %{customdata[5]}<br>Order: %{customdata[6]}<br>Family: %{customdata[7]}<br>Genus: %{customdata[8]}<br>Species: %{customdata[9]}<br>EC Number: %{customdata[10]}<br>Mol Weight: %{customdata[11]}<br>Taxonomy ID: %{customdata[12]}<extra></extra>",
         "marker": {
          "color": "rgb(34, 144, 140)",
          "size": 6,
          "symbol": "circle"
         },
         "mode": "markers",
         "text": "methionine adenosyltransferase",
         "type": "scatter3d",
         "x": [
          -0.04642052037070537
         ],
         "y": [
          -0.015853447449284436
         ],
         "z": [
          0.06491665545461246
         ]
        },
        {
         "customdata": [
          [
           "methionine adenosyltransferase",
           null,
           "Archaea",
           "Euryarchaeota",
           null,
           null,
           null,
           null,
           null,
           "archaeon",
           "2.5.1.6",
           null,
           "taxon:2250254",
           0.0004807516330735896,
           -0.059779667420768644,
           0.0028642714959440027,
           0.08275997420388688
          ]
         ],
         "hovertemplate": "<b>%{customdata[0]}</b><br>Family Name: %{customdata[1]}<br>Domain: %{customdata[2]}<br>Kingdom: %{customdata[3]}</b><br>Phylum: %{customdata[4]}<br>Class: %{customdata[5]}<br>Order: %{customdata[6]}<br>Family: %{customdata[7]}<br>Genus: %{customdata[8]}<br>Species: %{customdata[9]}<br>EC Number: %{customdata[10]}<br>Mol Weight: %{customdata[11]}<br>Taxonomy ID: %{customdata[12]}<extra></extra>",
         "marker": {
          "color": "rgb(33, 150, 138)",
          "size": 6,
          "symbol": "circle"
         },
         "mode": "markers",
         "text": "methionine adenosyltransferase",
         "type": "scatter3d",
         "x": [
          -0.059779667420768644
         ],
         "y": [
          0.0028642714959440027
         ],
         "z": [
          0.08275997420388688
         ]
        },
        {
         "customdata": [
          [
           "methionine adenosyltransferase",
           null,
           "Archaea",
           "Euryarchaeota",
           "Thermococcales",
           "Thermococcus",
           null,
           null,
           null,
           "chitonophagus",
           "2.5.1.6",
           44200,
           "taxon:54262",
           0.0007567660866953725,
           -0.037372684406525004,
           -0.012225093337316185,
           0.0754125186484992
          ]
         ],
         "hovertemplate": "<b>%{customdata[0]}</b><br>Family Name: %{customdata[1]}<br>Domain: %{customdata[2]}<br>Kingdom: %{customdata[3]}</b><br>Phylum: %{customdata[4]}<br>Class: %{customdata[5]}<br>Order: %{customdata[6]}<br>Family: %{customdata[7]}<br>Genus: %{customdata[8]}<br>Species: %{customdata[9]}<br>EC Number: %{customdata[10]}<br>Mol Weight: %{customdata[11]}<br>Taxonomy ID: %{customdata[12]}<extra></extra>",
         "marker": {
          "color": "rgb(135, 212, 72)",
          "size": 6,
          "symbol": "circle"
         },
         "mode": "markers",
         "text": "methionine adenosyltransferase",
         "type": "scatter3d",
         "x": [
          -0.037372684406525004
         ],
         "y": [
          -0.012225093337316185
         ],
         "z": [
          0.0754125186484992
         ]
        },
        {
         "customdata": [
          [
           "methionine adenosyltransferase",
           null,
           "Archaea",
           "Euryarchaeota",
           "Thermococcales",
           null,
           null,
           null,
           null,
           null,
           "2.5.1.6",
           44150,
           "taxon:2260",
           0.007775925822775587,
           -0.058023927065338765,
           -0.028478809015911186,
           0.060839018708249946
          ]
         ],
         "hovertemplate": "<b>%{customdata[0]}</b><br>Family Name: %{customdata[1]}<br>Domain: %{customdata[2]}<br>Kingdom: %{customdata[3]}</b><br>Phylum: %{customdata[4]}<br>Class: %{customdata[5]}<br>Order: %{customdata[6]}<br>Family: %{customdata[7]}<br>Genus: %{customdata[8]}<br>Species: %{customdata[9]}<br>EC Number: %{customdata[10]}<br>Mol Weight: %{customdata[11]}<br>Taxonomy ID: %{customdata[12]}<extra></extra>",
         "marker": {
          "color": "rgb(69, 49, 125)",
          "size": 6,
          "symbol": "circle"
         },
         "mode": "markers",
         "text": "methionine adenosyltransferase",
         "type": "scatter3d",
         "x": [
          -0.058023927065338765
         ],
         "y": [
          -0.028478809015911186
         ],
         "z": [
          0.060839018708249946
         ]
        },
        {
         "customdata": [
          [
           "methionine adenosyltransferase",
           null,
           "Archaea",
           "Euryarchaeota",
           "Thermococcales",
           "Pyrococcus",
           null,
           null,
           null,
           "sp.",
           "2.5.1.6",
           44177,
           "taxon:342949",
           0.0008625972157046197,
           -0.04798379230132813,
           -0.009755337569146016,
           0.07439877497035668
          ]
         ],
         "hovertemplate": "<b>%{customdata[0]}</b><br>Family Name: %{customdata[1]}<br>Domain: %{customdata[2]}<br>Kingdom: %{customdata[3]}</b><br>Phylum: %{customdata[4]}<br>Class: %{customdata[5]}<br>Order: %{customdata[6]}<br>Family: %{customdata[7]}<br>Genus: %{customdata[8]}<br>Species: %{customdata[9]}<br>EC Number: %{customdata[10]}<br>Mol Weight: %{customdata[11]}<br>Taxonomy ID: %{customdata[12]}<extra></extra>",
         "marker": {
          "color": "rgb(73, 191, 109)",
          "size": 6,
          "symbol": "circle"
         },
         "mode": "markers",
         "text": "methionine adenosyltransferase",
         "type": "scatter3d",
         "x": [
          -0.04798379230132813
         ],
         "y": [
          -0.009755337569146016
         ],
         "z": [
          0.07439877497035668
         ]
        },
        {
         "customdata": [
          [
           "S-adenosylmethionine synthetase (EC 2.5.1.6)",
           null,
           "Archaea",
           "Euryarchaeota",
           "Thermococcales",
           "Pyrococcus",
           null,
           null,
           null,
           "abyssi",
           null,
           null,
           "taxon:272844",
           0.0003500956214736122,
           -0.0329245079667264,
           -0.008447002775011822,
           0.0680231531650664
          ]
         ],
         "hovertemplate": "<b>%{customdata[0]}</b><br>Family Name: %{customdata[1]}<br>Domain: %{customdata[2]}<br>Kingdom: %{customdata[3]}</b><br>Phylum: %{customdata[4]}<br>Class: %{customdata[5]}<br>Order: %{customdata[6]}<br>Family: %{customdata[7]}<br>Genus: %{customdata[8]}<br>Species: %{customdata[9]}<br>EC Number: %{customdata[10]}<br>Mol Weight: %{customdata[11]}<br>Taxonomy ID: %{customdata[12]}<extra></extra>",
         "marker": {
          "color": "rgb(94, 199, 97)",
          "size": 6,
          "symbol": "circle"
         },
         "mode": "markers",
         "text": "S-adenosylmethionine synthetase (EC 2.5.1.6)",
         "type": "scatter3d",
         "x": [
          -0.0329245079667264
         ],
         "y": [
          -0.008447002775011822
         ],
         "z": [
          0.0680231531650664
         ]
        },
        {
         "customdata": [
          [
           "methionine adenosyltransferase",
           null,
           "Archaea",
           "Euryarchaeota",
           "Thermococcales",
           "Pyrococcus",
           null,
           null,
           null,
           "abyssi",
           "2.5.1.6",
           44058,
           "taxon:29292",
           0.0003500956214736122,
           -0.07289459185950473,
           0.004666592507364296,
           0.06914159670323415
          ]
         ],
         "hovertemplate": "<b>%{customdata[0]}</b><br>Family Name: %{customdata[1]}<br>Domain: %{customdata[2]}<br>Kingdom: %{customdata[3]}</b><br>Phylum: %{customdata[4]}<br>Class: %{customdata[5]}<br>Order: %{customdata[6]}<br>Family: %{customdata[7]}<br>Genus: %{customdata[8]}<br>Species: %{customdata[9]}<br>EC Number: %{customdata[10]}<br>Mol Weight: %{customdata[11]}<br>Taxonomy ID: %{customdata[12]}<extra></extra>",
         "marker": {
          "color": "rgb(72, 40, 120)",
          "size": 6,
          "symbol": "circle"
         },
         "mode": "markers",
         "text": "methionine adenosyltransferase",
         "type": "scatter3d",
         "x": [
          -0.07289459185950473
         ],
         "y": [
          0.004666592507364296
         ],
         "z": [
          0.06914159670323415
         ]
        },
        {
         "customdata": [
          [
           "404aa long hypothetical protein",
           null,
           "Archaea",
           "Euryarchaeota",
           "Thermococcales",
           "Pyrococcus",
           null,
           null,
           null,
           "horikoshii",
           null,
           null,
           "taxon:70601",
           0.00011543967361712038,
           -0.07039138459591046,
           0.014148210516556422,
           0.06834069097263912
          ]
         ],
         "hovertemplate": "<b>%{customdata[0]}</b><br>Family Name: %{customdata[1]}<br>Domain: %{customdata[2]}<br>Kingdom: %{customdata[3]}</b><br>Phylum: %{customdata[4]}<br>Class: %{customdata[5]}<br>Order: %{customdata[6]}<br>Family: %{customdata[7]}<br>Genus: %{customdata[8]}<br>Species: %{customdata[9]}<br>EC Number: %{customdata[10]}<br>Mol Weight: %{customdata[11]}<br>Taxonomy ID: %{customdata[12]}<extra></extra>",
         "marker": {
          "color": "rgb(44, 172, 128)",
          "size": 6,
          "symbol": "circle"
         },
         "mode": "markers",
         "text": "404aa long hypothetical protein",
         "type": "scatter3d",
         "x": [
          -0.07039138459591046
         ],
         "y": [
          0.014148210516556422
         ],
         "z": [
          0.06834069097263912
         ]
        },
        {
         "customdata": [
          [
           "methionine adenosyltransferase",
           null,
           "Archaea",
           "Euryarchaeota",
           "Thermococcales",
           "Pyrococcus",
           null,
           null,
           null,
           "horikoshii",
           "2.5.1.6",
           43845,
           "taxon:53953",
           0.00011543967361712038,
           -0.08482302422834355,
           0.013721847719639073,
           0.05296364889684278
          ]
         ],
         "hovertemplate": "<b>%{customdata[0]}</b><br>Family Name: %{customdata[1]}<br>Domain: %{customdata[2]}<br>Kingdom: %{customdata[3]}</b><br>Phylum: %{customdata[4]}<br>Class: %{customdata[5]}<br>Order: %{customdata[6]}<br>Family: %{customdata[7]}<br>Genus: %{customdata[8]}<br>Species: %{customdata[9]}<br>EC Number: %{customdata[10]}<br>Mol Weight: %{customdata[11]}<br>Taxonomy ID: %{customdata[12]}<extra></extra>",
         "marker": {
          "color": "rgb(202, 225, 41)",
          "size": 6,
          "symbol": "circle"
         },
         "mode": "markers",
         "text": "methionine adenosyltransferase",
         "type": "scatter3d",
         "x": [
          -0.08482302422834355
         ],
         "y": [
          0.013721847719639073
         ],
         "z": [
          0.05296364889684278
         ]
        },
        {
         "customdata": [
          [
           "methionine adenosyltransferase",
           null,
           "Archaea",
           "Euryarchaeota",
           "Thermococcales",
           "Thermococcus",
           null,
           null,
           null,
           "sp.",
           null,
           null,
           "taxon:35749",
           0.00004602514067227103,
           -0.06929825919479762,
           0.03803152769550646,
           0.050009383134291534
          ]
         ],
         "hovertemplate": "<b>%{customdata[0]}</b><br>Family Name: %{customdata[1]}<br>Domain: %{customdata[2]}<br>Kingdom: %{customdata[3]}</b><br>Phylum: %{customdata[4]}<br>Class: %{customdata[5]}<br>Order: %{customdata[6]}<br>Family: %{customdata[7]}<br>Genus: %{customdata[8]}<br>Species: %{customdata[9]}<br>EC Number: %{customdata[10]}<br>Mol Weight: %{customdata[11]}<br>Taxonomy ID: %{customdata[12]}<extra></extra>",
         "marker": {
          "color": "rgb(161, 217, 56)",
          "size": 6,
          "symbol": "circle"
         },
         "mode": "markers",
         "text": "methionine adenosyltransferase",
         "type": "scatter3d",
         "x": [
          -0.06929825919479762
         ],
         "y": [
          0.03803152769550646
         ],
         "z": [
          0.050009383134291534
         ]
        },
        {
         "customdata": [
          [
           "methionine adenosyltransferase",
           null,
           "Archaea",
           "Euryarchaeota",
           "Thermococcales",
           "Thermococcus",
           null,
           null,
           null,
           "sp.",
           null,
           null,
           "taxon:35749",
           0,
           -0.044571088335752754,
           0.05442289681470095,
           0.061622837014437055
          ]
         ],
         "hovertemplate": "<b>%{customdata[0]}</b><br>Family Name: %{customdata[1]}<br>Domain: %{customdata[2]}<br>Kingdom: %{customdata[3]}</b><br>Phylum: %{customdata[4]}<br>Class: %{customdata[5]}<br>Order: %{customdata[6]}<br>Family: %{customdata[7]}<br>Genus: %{customdata[8]}<br>Species: %{customdata[9]}<br>EC Number: %{customdata[10]}<br>Mol Weight: %{customdata[11]}<br>Taxonomy ID: %{customdata[12]}<extra></extra>",
         "marker": {
          "color": "rgb(161, 217, 56)",
          "size": 6,
          "symbol": "circle"
         },
         "mode": "markers",
         "text": "methionine adenosyltransferase",
         "type": "scatter3d",
         "x": [
          -0.044571088335752754
         ],
         "y": [
          0.05442289681470095
         ],
         "z": [
          0.061622837014437055
         ]
        },
        {
         "customdata": [
          [
           "S-adenosylmethionine synthetase",
           null,
           "Archaea",
           "Candidatus Diapherotrites",
           null,
           null,
           null,
           null,
           null,
           "Diapherotrites",
           null,
           null,
           "taxon:2026736",
           0.004402571125748539,
           -0.06745871038919721,
           0.16807123876820795,
           0.13195579277720917
          ]
         ],
         "hovertemplate": "<b>%{customdata[0]}</b><br>Family Name: %{customdata[1]}<br>Domain: %{customdata[2]}<br>Kingdom: %{customdata[3]}</b><br>Phylum: %{customdata[4]}<br>Class: %{customdata[5]}<br>Order: %{customdata[6]}<br>Family: %{customdata[7]}<br>Genus: %{customdata[8]}<br>Species: %{customdata[9]}<br>EC Number: %{customdata[10]}<br>Mol Weight: %{customdata[11]}<br>Taxonomy ID: %{customdata[12]}<extra></extra>",
         "marker": {
          "color": "rgb(49, 104, 142)",
          "size": 6,
          "symbol": "circle"
         },
         "mode": "markers",
         "text": "S-adenosylmethionine synthetase",
         "type": "scatter3d",
         "x": [
          -0.06745871038919721
         ],
         "y": [
          0.16807123876820795
         ],
         "z": [
          0.13195579277720917
         ]
        },
        {
         "customdata": [
          [
           "methionine adenosyltransferase",
           null,
           "Archaea",
           "Euryarchaeota",
           null,
           null,
           null,
           null,
           null,
           "archaeon",
           "2.5.1.6",
           null,
           "taxon:2026739",
           0.04167063382435736,
           -0.03791720165619026,
           -0.07139448600923815,
           0.0728478581317201
          ]
         ],
         "hovertemplate": "<b>%{customdata[0]}</b><br>Family Name: %{customdata[1]}<br>Domain: %{customdata[2]}<br>Kingdom: %{customdata[3]}</b><br>Phylum: %{customdata[4]}<br>Class: %{customdata[5]}<br>Order: %{customdata[6]}<br>Family: %{customdata[7]}<br>Genus: %{customdata[8]}<br>Species: %{customdata[9]}<br>EC Number: %{customdata[10]}<br>Mol Weight: %{customdata[11]}<br>Taxonomy ID: %{customdata[12]}<extra></extra>",
         "marker": {
          "color": "rgb(71, 29, 110)",
          "size": 6,
          "symbol": "circle"
         },
         "mode": "markers",
         "text": "methionine adenosyltransferase",
         "type": "scatter3d",
         "x": [
          -0.03791720165619026
         ],
         "y": [
          -0.07139448600923815
         ],
         "z": [
          0.0728478581317201
         ]
        },
        {
         "customdata": [
          [
           "methionine adenosyltransferase",
           null,
           "Bacteria",
           "Thermodesulfobacteriota",
           "Desulfobulbales",
           "Desulfocapsa",
           null,
           null,
           null,
           "sp.",
           "2.5.1.6",
           null,
           "taxon:2066021",
           0.04523790161026065,
           0.02461325603436407,
           -0.03884925131542096,
           -0.0704935593352086
          ]
         ],
         "hovertemplate": "<b>%{customdata[0]}</b><br>Family Name: %{customdata[1]}<br>Domain: %{customdata[2]}<br>Kingdom: %{customdata[3]}</b><br>Phylum: %{customdata[4]}<br>Class: %{customdata[5]}<br>Order: %{customdata[6]}<br>Family: %{customdata[7]}<br>Genus: %{customdata[8]}<br>Species: %{customdata[9]}<br>EC Number: %{customdata[10]}<br>Mol Weight: %{customdata[11]}<br>Taxonomy ID: %{customdata[12]}<extra></extra>",
         "marker": {
          "color": "rgb(32, 152, 138)",
          "size": 6,
          "symbol": "circle"
         },
         "mode": "markers",
         "text": "methionine adenosyltransferase",
         "type": "scatter3d",
         "x": [
          0.02461325603436407
         ],
         "y": [
          -0.03884925131542096
         ],
         "z": [
          -0.0704935593352086
         ]
        },
        {
         "customdata": [
          [
           "methionine adenosyltransferase",
           null,
           "Archaea",
           "Euryarchaeota",
           "Methanococci",
           "Methanocaldococcaceae",
           null,
           null,
           null,
           "villosus",
           "2.5.1.6",
           45056,
           "taxon:667126",
           0.007048696491599213,
           -0.053388669396593896,
           -0.03859115611443021,
           0.07321593658889967
          ]
         ],
         "hovertemplate": "<b>%{customdata[0]}</b><br>Family Name: %{customdata[1]}<br>Domain: %{customdata[2]}<br>Kingdom: %{customdata[3]}</b><br>Phylum: %{customdata[4]}<br>Class: %{customdata[5]}<br>Order: %{customdata[6]}<br>Family: %{customdata[7]}<br>Genus: %{customdata[8]}<br>Species: %{customdata[9]}<br>EC Number: %{customdata[10]}<br>Mol Weight: %{customdata[11]}<br>Taxonomy ID: %{customdata[12]}<extra></extra>",
         "marker": {
          "color": "rgb(33, 160, 136)",
          "size": 6,
          "symbol": "circle"
         },
         "mode": "markers",
         "text": "methionine adenosyltransferase",
         "type": "scatter3d",
         "x": [
          -0.053388669396593896
         ],
         "y": [
          -0.03859115611443021
         ],
         "z": [
          0.07321593658889967
         ]
        },
        {
         "customdata": [
          [
           "methionine adenosyltransferase",
           null,
           "Archaea",
           "Euryarchaeota",
           "Methanococci",
           "Methanocaldococcaceae",
           null,
           null,
           null,
           "infernus",
           "2.5.1.6",
           45193,
           "taxon:67760",
           0.00031281466389671735,
           -0.08637570362613589,
           -0.035598807328174026,
           0.07827846577137085
          ]
         ],
         "hovertemplate": "<b>%{customdata[0]}</b><br>Family Name: %{customdata[1]}<br>Domain: %{customdata[2]}<br>Kingdom: %{customdata[3]}</b><br>Phylum: %{customdata[4]}<br>Class: %{customdata[5]}<br>Order: %{customdata[6]}<br>Family: %{customdata[7]}<br>Genus: %{customdata[8]}<br>Species: %{customdata[9]}<br>EC Number: %{customdata[10]}<br>Mol Weight: %{customdata[11]}<br>Taxonomy ID: %{customdata[12]}<extra></extra>",
         "marker": {
          "color": "rgb(36, 163, 134)",
          "size": 6,
          "symbol": "circle"
         },
         "mode": "markers",
         "text": "methionine adenosyltransferase",
         "type": "scatter3d",
         "x": [
          -0.08637570362613589
         ],
         "y": [
          -0.035598807328174026
         ],
         "z": [
          0.07827846577137085
         ]
        },
        {
         "customdata": [
          [
           "methionine adenosyltransferase",
           null,
           "Archaea",
           "Candidatus Diapherotrites",
           null,
           null,
           null,
           null,
           null,
           "Diapherotrites",
           "2.5.1.6",
           null,
           "taxon:2026736",
           0.004751585724001001,
           -0.06494885786704303,
           0.15018345946598735,
           0.14951968080240235
          ]
         ],
         "hovertemplate": "<b>%{customdata[0]}</b><br>Family Name: %{customdata[1]}<br>Domain: %{customdata[2]}<br>Kingdom: %{customdata[3]}</b><br>Phylum: %{customdata[4]}<br>Class: %{customdata[5]}<br>Order: %{customdata[6]}<br>Family: %{customdata[7]}<br>Genus: %{customdata[8]}<br>Species: %{customdata[9]}<br>EC Number: %{customdata[10]}<br>Mol Weight: %{customdata[11]}<br>Taxonomy ID: %{customdata[12]}<extra></extra>",
         "marker": {
          "color": "rgb(49, 104, 142)",
          "size": 6,
          "symbol": "circle"
         },
         "mode": "markers",
         "text": "methionine adenosyltransferase",
         "type": "scatter3d",
         "x": [
          -0.06494885786704303
         ],
         "y": [
          0.15018345946598735
         ],
         "z": [
          0.14951968080240235
         ]
        },
        {
         "customdata": [
          [
           "methionine adenosyltransferase",
           null,
           "Archaea",
           "Euryarchaeota",
           "Archaeoglobales",
           "Ferroglobus",
           null,
           null,
           null,
           "placidus",
           "2.5.1.6",
           44327,
           "taxon:54261",
           0.047381565609383,
           0.06926797297656402,
           -0.03398611574984775,
           -0.10212966607692615
          ]
         ],
         "hovertemplate": "<b>%{customdata[0]}</b><br>Family Name: %{customdata[1]}<br>Domain: %{customdata[2]}<br>Kingdom: %{customdata[3]}</b><br>Phylum: %{customdata[4]}<br>Class: %{customdata[5]}<br>Order: %{customdata[6]}<br>Family: %{customdata[7]}<br>Genus: %{customdata[8]}<br>Species: %{customdata[9]}<br>EC Number: %{customdata[10]}<br>Mol Weight: %{customdata[11]}<br>Taxonomy ID: %{customdata[12]}<extra></extra>",
         "marker": {
          "color": "rgb(38, 132, 142)",
          "size": 6,
          "symbol": "circle"
         },
         "mode": "markers",
         "text": "methionine adenosyltransferase",
         "type": "scatter3d",
         "x": [
          0.06926797297656402
         ],
         "y": [
          -0.03398611574984775
         ],
         "z": [
          -0.10212966607692615
         ]
        },
        {
         "customdata": [
          [
           "methionine adenosyltransferase",
           null,
           "Archaea",
           "Euryarchaeota",
           "Archaeoglobales",
           "Ferroglobus",
           null,
           null,
           null,
           "sp.",
           "2.5.1.6",
           44121,
           "taxon:2614230",
           0.005219708250209921,
           0.10686732169540687,
           -0.04222813430676878,
           -0.1510423909530072
          ]
         ],
         "hovertemplate": "<b>%{customdata[0]}</b><br>Family Name: %{customdata[1]}<br>Domain: %{customdata[2]}<br>Kingdom: %{customdata[3]}</b><br>Phylum: %{customdata[4]}<br>Class: %{customdata[5]}<br>Order: %{customdata[6]}<br>Family: %{customdata[7]}<br>Genus: %{customdata[8]}<br>Species: %{customdata[9]}<br>EC Number: %{customdata[10]}<br>Mol Weight: %{customdata[11]}<br>Taxonomy ID: %{customdata[12]}<extra></extra>",
         "marker": {
          "color": "rgb(181, 222, 43)",
          "size": 6,
          "symbol": "circle"
         },
         "mode": "markers",
         "text": "methionine adenosyltransferase",
         "type": "scatter3d",
         "x": [
          0.10686732169540687
         ],
         "y": [
          -0.04222813430676878
         ],
         "z": [
          -0.1510423909530072
         ]
        },
        {
         "customdata": [
          [
           "methionine adenosyltransferase",
           null,
           "Archaea",
           "Euryarchaeota",
           "Methanococci",
           "Methanocaldococcaceae",
           null,
           null,
           null,
           "sp.",
           "2.5.1.6",
           45143,
           "taxon:644281",
           0.0007525936856491208,
           -0.05844176439147951,
           -0.014138279350978371,
           0.09065092432882486
          ]
         ],
         "hovertemplate": "<b>%{customdata[0]}</b><br>Family Name: %{customdata[1]}<br>Domain: %{customdata[2]}<br>Kingdom: %{customdata[3]}</b><br>Phylum: %{customdata[4]}<br>Class: %{customdata[5]}<br>Order: %{customdata[6]}<br>Family: %{customdata[7]}<br>Genus: %{customdata[8]}<br>Species: %{customdata[9]}<br>EC Number: %{customdata[10]}<br>Mol Weight: %{customdata[11]}<br>Taxonomy ID: %{customdata[12]}<extra></extra>",
         "marker": {
          "color": "rgb(71, 34, 115)",
          "size": 6,
          "symbol": "circle"
         },
         "mode": "markers",
         "text": "methionine adenosyltransferase",
         "type": "scatter3d",
         "x": [
          -0.05844176439147951
         ],
         "y": [
          -0.014138279350978371
         ],
         "z": [
          0.09065092432882486
         ]
        },
        {
         "customdata": [
          [
           "methionine adenosyltransferase",
           null,
           "Archaea",
           "Euryarchaeota",
           "Archaeoglobales",
           "Archaeoglobus",
           null,
           null,
           null,
           "profundus",
           "2.5.1.6",
           44630,
           "taxon:84156",
           0.03574720920796194,
           0.03058620416183451,
           -0.03478550949838762,
           -0.07470381447134755
          ]
         ],
         "hovertemplate": "<b>%{customdata[0]}</b><br>Family Name: %{customdata[1]}<br>Domain: %{customdata[2]}<br>Kingdom: %{customdata[3]}</b><br>Phylum: %{customdata[4]}<br>Class: %{customdata[5]}<br>Order: %{customdata[6]}<br>Family: %{customdata[7]}<br>Genus: %{customdata[8]}<br>Species: %{customdata[9]}<br>EC Number: %{customdata[10]}<br>Mol Weight: %{customdata[11]}<br>Taxonomy ID: %{customdata[12]}<extra></extra>",
         "marker": {
          "color": "rgb(39, 167, 131)",
          "size": 6,
          "symbol": "circle"
         },
         "mode": "markers",
         "text": "methionine adenosyltransferase",
         "type": "scatter3d",
         "x": [
          0.03058620416183451
         ],
         "y": [
          -0.03478550949838762
         ],
         "z": [
          -0.07470381447134755
         ]
        },
        {
         "customdata": [
          [
           "methionine adenosyltransferase",
           null,
           "Archaea",
           "Euryarchaeota",
           "Archaeoglobales",
           null,
           null,
           null,
           null,
           "archaeon",
           "2.5.1.6",
           null,
           "taxon:2250258",
           0.016755522830339712,
           0.09614098496116888,
           -0.027628479477526027,
           -0.12869102140666783
          ]
         ],
         "hovertemplate": "<b>%{customdata[0]}</b><br>Family Name: %{customdata[1]}<br>Domain: %{customdata[2]}<br>Kingdom: %{customdata[3]}</b><br>Phylum: %{customdata[4]}<br>Class: %{customdata[5]}<br>Order: %{customdata[6]}<br>Family: %{customdata[7]}<br>Genus: %{customdata[8]}<br>Species: %{customdata[9]}<br>EC Number: %{customdata[10]}<br>Mol Weight: %{customdata[11]}<br>Taxonomy ID: %{customdata[12]}<extra></extra>",
         "marker": {
          "color": "rgb(71, 42, 121)",
          "size": 6,
          "symbol": "circle"
         },
         "mode": "markers",
         "text": "methionine adenosyltransferase",
         "type": "scatter3d",
         "x": [
          0.09614098496116888
         ],
         "y": [
          -0.027628479477526027
         ],
         "z": [
          -0.12869102140666783
         ]
        },
        {
         "customdata": [
          [
           "methionine adenosyltransferase",
           null,
           "Archaea",
           "Euryarchaeota",
           "Archaeoglobales",
           "Archaeoglobus",
           null,
           null,
           null,
           "veneficus",
           "2.5.1.6",
           44437,
           "taxon:58290",
           0.014687869060685234,
           0.09097333752922061,
           -0.03948680589603094,
           -0.1240700862295643
          ]
         ],
         "hovertemplate": "<b>%{customdata[0]}</b><br>Family Name: %{customdata[1]}<br>Domain: %{customdata[2]}<br>Kingdom: %{customdata[3]}</b><br>Phylum: %{customdata[4]}<br>Class: %{customdata[5]}<br>Order: %{customdata[6]}<br>Family: %{customdata[7]}<br>Genus: %{customdata[8]}<br>Species: %{customdata[9]}<br>EC Number: %{customdata[10]}<br>Mol Weight: %{customdata[11]}<br>Taxonomy ID: %{customdata[12]}<extra></extra>",
         "marker": {
          "color": "rgb(68, 4, 87)",
          "size": 6,
          "symbol": "circle"
         },
         "mode": "markers",
         "text": "methionine adenosyltransferase",
         "type": "scatter3d",
         "x": [
          0.09097333752922061
         ],
         "y": [
          -0.03948680589603094
         ],
         "z": [
          -0.1240700862295643
         ]
        },
        {
         "customdata": [
          [
           "S-adenosylmethionine synthetase",
           null,
           "Archaea",
           "Candidatus Hadarchaeota",
           null,
           null,
           null,
           null,
           null,
           "archaeon",
           "2.5.1.6",
           null,
           "taxon:1975561",
           0,
           0.052283525955910466,
           1,
           -0.19912432395066987
          ]
         ],
         "hovertemplate": "<b>%{customdata[0]}</b><br>Family Name: %{customdata[1]}<br>Domain: %{customdata[2]}<br>Kingdom: %{customdata[3]}</b><br>Phylum: %{customdata[4]}<br>Class: %{customdata[5]}<br>Order: %{customdata[6]}<br>Family: %{customdata[7]}<br>Genus: %{customdata[8]}<br>Species: %{customdata[9]}<br>EC Number: %{customdata[10]}<br>Mol Weight: %{customdata[11]}<br>Taxonomy ID: %{customdata[12]}<extra></extra>",
         "marker": {
          "color": "rgb(47, 108, 142)",
          "size": 6,
          "symbol": "circle"
         },
         "mode": "markers",
         "text": "S-adenosylmethionine synthetase",
         "type": "scatter3d",
         "x": [
          0.052283525955910466
         ],
         "y": [
          1
         ],
         "z": [
          -0.19912432395066987
         ]
        },
        {
         "customdata": [
          [
           "methionine adenosyltransferase",
           null,
           "Archaea",
           "Euryarchaeota",
           "Archaeoglobales",
           "Archaeoglobus",
           null,
           null,
           null,
           "profundus",
           "2.5.1.6",
           null,
           "taxon:84156",
           0.0014790528908061502,
           0.07066629926163402,
           -0.05057404852718161,
           -0.1204214411747321
          ]
         ],
         "hovertemplate": "<b>%{customdata[0]}</b><br>Family Name: %{customdata[1]}<br>Domain: %{customdata[2]}<br>Kingdom: %{customdata[3]}</b><br>Phylum: %{customdata[4]}<br>Class: %{customdata[5]}<br>Order: %{customdata[6]}<br>Family: %{customdata[7]}<br>Genus: %{customdata[8]}<br>Species: %{customdata[9]}<br>EC Number: %{customdata[10]}<br>Mol Weight: %{customdata[11]}<br>Taxonomy ID: %{customdata[12]}<extra></extra>",
         "marker": {
          "color": "rgb(39, 167, 131)",
          "size": 6,
          "symbol": "circle"
         },
         "mode": "markers",
         "text": "methionine adenosyltransferase",
         "type": "scatter3d",
         "x": [
          0.07066629926163402
         ],
         "y": [
          -0.05057404852718161
         ],
         "z": [
          -0.1204214411747321
         ]
        },
        {
         "customdata": [
          [
           "methionine adenosyltransferase",
           null,
           "Archaea",
           "Euryarchaeota",
           "Methanococci",
           "Methanocaldococcaceae",
           null,
           null,
           null,
           "bathoardescens",
           "2.5.1.6",
           44976,
           "taxon:1301915",
           0.0008052056662465655,
           -0.07154126242033432,
           -0.021297329236280395,
           0.07959478854116499
          ]
         ],
         "hovertemplate": "<b>%{customdata[0]}</b><br>Family Name: %{customdata[1]}<br>Domain: %{customdata[2]}<br>Kingdom: %{customdata[3]}</b><br>Phylum: %{customdata[4]}<br>Class: %{customdata[5]}<br>Order: %{customdata[6]}<br>Family: %{customdata[7]}<br>Genus: %{customdata[8]}<br>Species: %{customdata[9]}<br>EC Number: %{customdata[10]}<br>Mol Weight: %{customdata[11]}<br>Taxonomy ID: %{customdata[12]}<extra></extra>",
         "marker": {
          "color": "rgb(47, 110, 142)",
          "size": 6,
          "symbol": "circle"
         },
         "mode": "markers",
         "text": "methionine adenosyltransferase",
         "type": "scatter3d",
         "x": [
          -0.07154126242033432
         ],
         "y": [
          -0.021297329236280395
         ],
         "z": [
          0.07959478854116499
         ]
        },
        {
         "customdata": [
          [
           "methionine adenosyltransferase",
           null,
           "Archaea",
           "Euryarchaeota",
           "Methanomicrobia",
           null,
           null,
           null,
           null,
           "archaeon",
           "2.5.1.6",
           null,
           "taxon:2666334",
           0.04966028944902423,
           0.1383798085382319,
           0.05357781213359574,
           -0.08938885379195796
          ]
         ],
         "hovertemplate": "<b>%{customdata[0]}</b><br>Family Name: %{customdata[1]}<br>Domain: %{customdata[2]}<br>Kingdom: %{customdata[3]}</b><br>Phylum: %{customdata[4]}<br>Class: %{customdata[5]}<br>Order: %{customdata[6]}<br>Family: %{customdata[7]}<br>Genus: %{customdata[8]}<br>Species: %{customdata[9]}<br>EC Number: %{customdata[10]}<br>Mol Weight: %{customdata[11]}<br>Taxonomy ID: %{customdata[12]}<extra></extra>",
         "marker": {
          "color": "rgb(72, 37, 117)",
          "size": 6,
          "symbol": "circle"
         },
         "mode": "markers",
         "text": "methionine adenosyltransferase",
         "type": "scatter3d",
         "x": [
          0.1383798085382319
         ],
         "y": [
          0.05357781213359574
         ],
         "z": [
          -0.08938885379195796
         ]
        },
        {
         "customdata": [
          [
           "Methionine adenosyltransferase",
           null,
           "Archaea",
           "Euryarchaeota",
           "Methanococci",
           "Methanocaldococcaceae",
           null,
           null,
           null,
           "vulcanius",
           "2.5.1.6",
           null,
           "taxon:579137",
           0.0005029797150448423,
           -0.08128244961412263,
           -0.02148468900486425,
           0.08573252172224802
          ]
         ],
         "hovertemplate": "<b>%{customdata[0]}</b><br>Family Name: %{customdata[1]}<br>Domain: %{customdata[2]}<br>Kingdom: %{customdata[3]}</b><br>Phylum: %{customdata[4]}<br>Class: %{customdata[5]}<br>Order: %{customdata[6]}<br>Family: %{customdata[7]}<br>Genus: %{customdata[8]}<br>Species: %{customdata[9]}<br>EC Number: %{customdata[10]}<br>Mol Weight: %{customdata[11]}<br>Taxonomy ID: %{customdata[12]}<extra></extra>",
         "marker": {
          "color": "rgb(120, 208, 82)",
          "size": 6,
          "symbol": "circle"
         },
         "mode": "markers",
         "text": "Methionine adenosyltransferase",
         "type": "scatter3d",
         "x": [
          -0.08128244961412263
         ],
         "y": [
          -0.02148468900486425
         ],
         "z": [
          0.08573252172224802
         ]
        },
        {
         "customdata": [
          [
           "methionine adenosyltransferase",
           null,
           "Archaea",
           "Euryarchaeota",
           null,
           null,
           null,
           null,
           null,
           "archaeon",
           "2.5.1.6",
           null,
           "taxon:2026739",
           0.00005690621671670838,
           -0.04026678185611885,
           -0.24879944464678933,
           0.09333202874417444
          ]
         ],
         "hovertemplate": "<b>%{customdata[0]}</b><br>Family Name: %{customdata[1]}<br>Domain: %{customdata[2]}<br>Kingdom: %{customdata[3]}</b><br>Phylum: %{customdata[4]}<br>Class: %{customdata[5]}<br>Order: %{customdata[6]}<br>Family: %{customdata[7]}<br>Genus: %{customdata[8]}<br>Species: %{customdata[9]}<br>EC Number: %{customdata[10]}<br>Mol Weight: %{customdata[11]}<br>Taxonomy ID: %{customdata[12]}<extra></extra>",
         "marker": {
          "color": "rgb(71, 29, 110)",
          "size": 6,
          "symbol": "circle"
         },
         "mode": "markers",
         "text": "methionine adenosyltransferase",
         "type": "scatter3d",
         "x": [
          -0.04026678185611885
         ],
         "y": [
          -0.24879944464678933
         ],
         "z": [
          0.09333202874417444
         ]
        },
        {
         "customdata": [
          [
           "S-adenosylmethionine synthase",
           null,
           "Archaea",
           "Euryarchaeota",
           "Methanococci",
           "Methanocaldococcaceae",
           null,
           null,
           null,
           "lauensis",
           "2.5.1.6",
           null,
           "taxon:2546128",
           0.0008291348157429229,
           -0.06356065628618826,
           -0.009492602043886808,
           0.09364835022991318
          ]
         ],
         "hovertemplate": "<b>%{customdata[0]}</b><br>Family Name: %{customdata[1]}<br>Domain: %{customdata[2]}<br>Kingdom: %{customdata[3]}</b><br>Phylum: %{customdata[4]}<br>Class: %{customdata[5]}<br>Order: %{customdata[6]}<br>Family: %{customdata[7]}<br>Genus: %{customdata[8]}<br>Species: %{customdata[9]}<br>EC Number: %{customdata[10]}<br>Mol Weight: %{customdata[11]}<br>Taxonomy ID: %{customdata[12]}<extra></extra>",
         "marker": {
          "color": "rgb(42, 171, 129)",
          "size": 6,
          "symbol": "circle"
         },
         "mode": "markers",
         "text": "S-adenosylmethionine synthase",
         "type": "scatter3d",
         "x": [
          -0.06356065628618826
         ],
         "y": [
          -0.009492602043886808
         ],
         "z": [
          0.09364835022991318
         ]
        },
        {
         "customdata": [
          [
           "methionine adenosyltransferase",
           null,
           "Archaea",
           "Euryarchaeota",
           "Methanococci",
           "Methanocaldococcaceae",
           null,
           null,
           null,
           "fervens",
           "2.5.1.6",
           45038,
           "taxon:83171",
           0.0005707499698658275,
           -0.051255331630849166,
           -0.02563267757014285,
           0.0899274112372704
          ]
         ],
         "hovertemplate": "<b>%{customdata[0]}</b><br>Family Name: %{customdata[1]}<br>Domain: %{customdata[2]}<br>Kingdom: %{customdata[3]}</b><br>Phylum: %{customdata[4]}<br>Class: %{customdata[5]}<br>Order: %{customdata[6]}<br>Family: %{customdata[7]}<br>Genus: %{customdata[8]}<br>Species: %{customdata[9]}<br>EC Number: %{customdata[10]}<br>Mol Weight: %{customdata[11]}<br>Taxonomy ID: %{customdata[12]}<extra></extra>",
         "marker": {
          "color": "rgb(70, 20, 102)",
          "size": 6,
          "symbol": "circle"
         },
         "mode": "markers",
         "text": "methionine adenosyltransferase",
         "type": "scatter3d",
         "x": [
          -0.051255331630849166
         ],
         "y": [
          -0.02563267757014285
         ],
         "z": [
          0.0899274112372704
         ]
        },
        {
         "customdata": [
          [
           "methionine adenosyltransferase",
           null,
           "Archaea",
           "Euryarchaeota",
           "Methanococci",
           "Methanocaldococcaceae",
           null,
           null,
           null,
           "sp.",
           "2.5.1.6",
           45111,
           "taxon:2152917",
           0.0008291348157429229,
           -0.04630481063048561,
           -0.019339923330778608,
           0.08536234528756484
          ]
         ],
         "hovertemplate": "<b>%{customdata[0]}</b><br>Family Name: %{customdata[1]}<br>Domain: %{customdata[2]}<br>Kingdom: %{customdata[3]}</b><br>Phylum: %{customdata[4]}<br>Class: %{customdata[5]}<br>Order: %{customdata[6]}<br>Family: %{customdata[7]}<br>Genus: %{customdata[8]}<br>Species: %{customdata[9]}<br>EC Number: %{customdata[10]}<br>Mol Weight: %{customdata[11]}<br>Taxonomy ID: %{customdata[12]}<extra></extra>",
         "marker": {
          "color": "rgb(60, 77, 138)",
          "size": 6,
          "symbol": "circle"
         },
         "mode": "markers",
         "text": "methionine adenosyltransferase",
         "type": "scatter3d",
         "x": [
          -0.04630481063048561
         ],
         "y": [
          -0.019339923330778608
         ],
         "z": [
          0.08536234528756484
         ]
        },
        {
         "customdata": [
          [
           "methionine adenosyltransferase",
           null,
           "Archaea",
           "Euryarchaeota",
           "Methanococci",
           "Methanocaldococcaceae",
           null,
           null,
           null,
           "vulcanius",
           "2.5.1.6",
           44947,
           "taxon:73913",
           0.0004839433044447989,
           -0.07299925208109716,
           -0.022746545009553133,
           0.09571737928648058
          ]
         ],
         "hovertemplate": "<b>%{customdata[0]}</b><br>Family Name: %{customdata[1]}<br>Domain: %{customdata[2]}<br>Kingdom: %{customdata[3]}</b><br>Phylum: %{customdata[4]}<br>Class: %{customdata[5]}<br>Order: %{customdata[6]}<br>Family: %{customdata[7]}<br>Genus: %{customdata[8]}<br>Species: %{customdata[9]}<br>EC Number: %{customdata[10]}<br>Mol Weight: %{customdata[11]}<br>Taxonomy ID: %{customdata[12]}<extra></extra>",
         "marker": {
          "color": "rgb(40, 124, 142)",
          "size": 6,
          "symbol": "circle"
         },
         "mode": "markers",
         "text": "methionine adenosyltransferase",
         "type": "scatter3d",
         "x": [
          -0.07299925208109716
         ],
         "y": [
          -0.022746545009553133
         ],
         "z": [
          0.09571737928648058
         ]
        },
        {
         "customdata": [
          [
           "methionine adenosyltransferase",
           null,
           "Archaea",
           "Euryarchaeota",
           "Methanococci",
           "Methanocaldococcaceae",
           null,
           null,
           null,
           "jannaschii",
           "2.5.1.6",
           45121,
           "taxon:2190",
           0.000300041314036273,
           -0.05914967864151759,
           -0.03653473992804115,
           0.09479965331623001
          ]
         ],
         "hovertemplate": "<b>%{customdata[0]}</b><br>Family Name: %{customdata[1]}<br>Domain: %{customdata[2]}<br>Kingdom: %{customdata[3]}</b><br>Phylum: %{customdata[4]}<br>Class: %{customdata[5]}<br>Order: %{customdata[6]}<br>Family: %{customdata[7]}<br>Genus: %{customdata[8]}<br>Species: %{customdata[9]}<br>EC Number: %{customdata[10]}<br>Mol Weight: %{customdata[11]}<br>Taxonomy ID: %{customdata[12]}<extra></extra>",
         "marker": {
          "color": "rgb(176, 221, 46)",
          "size": 6,
          "symbol": "circle"
         },
         "mode": "markers",
         "text": "methionine adenosyltransferase",
         "type": "scatter3d",
         "x": [
          -0.05914967864151759
         ],
         "y": [
          -0.03653473992804115
         ],
         "z": [
          0.09479965331623001
         ]
        },
        {
         "customdata": [
          [
           "Chain A, S-adenosylmethionine synthase",
           null,
           "Archaea",
           "Euryarchaeota",
           "Methanococci",
           "Methanocaldococcaceae",
           null,
           null,
           null,
           "jannaschii",
           null,
           null,
           "taxon:243232",
           0.00031115556770951804,
           -0.05622400199468389,
           -0.042277538130274336,
           0.08918904205981622
          ]
         ],
         "hovertemplate": "<b>%{customdata[0]}</b><br>Family Name: %{customdata[1]}<br>Domain: %{customdata[2]}<br>Kingdom: %{customdata[3]}</b><br>Phylum: %{customdata[4]}<br>Class: %{customdata[5]}<br>Order: %{customdata[6]}<br>Family: %{customdata[7]}<br>Genus: %{customdata[8]}<br>Species: %{customdata[9]}<br>EC Number: %{customdata[10]}<br>Mol Weight: %{customdata[11]}<br>Taxonomy ID: %{customdata[12]}<extra></extra>",
         "marker": {
          "color": "rgb(45, 174, 127)",
          "size": 6,
          "symbol": "circle"
         },
         "mode": "markers",
         "text": "Chain A, S-adenosylmethionine synthase",
         "type": "scatter3d",
         "x": [
          -0.05622400199468389
         ],
         "y": [
          -0.042277538130274336
         ],
         "z": [
          0.08918904205981622
         ]
        },
        {
         "customdata": [
          [
           "methionine adenosyltransferase",
           null,
           "Archaea",
           "Euryarchaeota",
           "Archaeoglobales",
           "Geoglobus",
           null,
           null,
           null,
           "acetivorans",
           "2.5.1.6",
           null,
           "taxon:565033",
           0.0012970100664294773,
           0.05691171775102587,
           -0.061453083182969215,
           -0.12051089557411257
          ]
         ],
         "hovertemplate": "<b>%{customdata[0]}</b><br>Family Name: %{customdata[1]}<br>Domain: %{customdata[2]}<br>Kingdom: %{customdata[3]}</b><br>Phylum: %{customdata[4]}<br>Class: %{customdata[5]}<br>Order: %{customdata[6]}<br>Family: %{customdata[7]}<br>Genus: %{customdata[8]}<br>Species: %{customdata[9]}<br>EC Number: %{customdata[10]}<br>Mol Weight: %{customdata[11]}<br>Taxonomy ID: %{customdata[12]}<extra></extra>",
         "marker": {
          "color": "rgb(212, 226, 40)",
          "size": 6,
          "symbol": "circle"
         },
         "mode": "markers",
         "text": "methionine adenosyltransferase",
         "type": "scatter3d",
         "x": [
          0.05691171775102587
         ],
         "y": [
          -0.061453083182969215
         ],
         "z": [
          -0.12051089557411257
         ]
        },
        {
         "customdata": [
          [
           "methionine adenosyltransferase",
           null,
           "Archaea",
           "Euryarchaeota",
           "Archaeoglobales",
           null,
           null,
           null,
           null,
           "archaeon",
           "2.5.1.6",
           null,
           "taxon:2250258",
           0.00036271783940079657,
           0.034816078283933516,
           -0.05449158709758955,
           -0.13362874733827257
          ]
         ],
         "hovertemplate": "<b>%{customdata[0]}</b><br>Family Name: %{customdata[1]}<br>Domain: %{customdata[2]}<br>Kingdom: %{customdata[3]}</b><br>Phylum: %{customdata[4]}<br>Class: %{customdata[5]}<br>Order: %{customdata[6]}<br>Family: %{customdata[7]}<br>Genus: %{customdata[8]}<br>Species: %{customdata[9]}<br>EC Number: %{customdata[10]}<br>Mol Weight: %{customdata[11]}<br>Taxonomy ID: %{customdata[12]}<extra></extra>",
         "marker": {
          "color": "rgb(71, 42, 121)",
          "size": 6,
          "symbol": "circle"
         },
         "mode": "markers",
         "text": "methionine adenosyltransferase",
         "type": "scatter3d",
         "x": [
          0.034816078283933516
         ],
         "y": [
          -0.05449158709758955
         ],
         "z": [
          -0.13362874733827257
         ]
        },
        {
         "customdata": [
          [
           "methionine adenosyltransferase",
           null,
           "Archaea",
           "Euryarchaeota",
           null,
           null,
           null,
           null,
           null,
           "archaeon",
           "2.5.1.6",
           null,
           "taxon:2026739",
           0,
           -0.08826086845059014,
           -0.05681055867343471,
           -0.7709693248676115
          ]
         ],
         "hovertemplate": "<b>%{customdata[0]}</b><br>Family Name: %{customdata[1]}<br>Domain: %{customdata[2]}<br>Kingdom: %{customdata[3]}</b><br>Phylum: %{customdata[4]}<br>Class: %{customdata[5]}<br>Order: %{customdata[6]}<br>Family: %{customdata[7]}<br>Genus: %{customdata[8]}<br>Species: %{customdata[9]}<br>EC Number: %{customdata[10]}<br>Mol Weight: %{customdata[11]}<br>Taxonomy ID: %{customdata[12]}<extra></extra>",
         "marker": {
          "color": "rgb(71, 29, 110)",
          "size": 6,
          "symbol": "circle"
         },
         "mode": "markers",
         "text": "methionine adenosyltransferase",
         "type": "scatter3d",
         "x": [
          -0.08826086845059014
         ],
         "y": [
          -0.05681055867343471
         ],
         "z": [
          -0.7709693248676115
         ]
        },
        {
         "customdata": [
          [
           "methionine adenosyltransferase",
           null,
           "Archaea",
           "Euryarchaeota",
           "Archaeoglobales",
           "Geoglobus",
           null,
           null,
           null,
           "ahangari",
           "2.5.1.6",
           44228,
           "taxon:113653",
           0.0006575101345679504,
           0.07045320626614943,
           -0.051370517119013456,
           -0.15346301067433543
          ]
         ],
         "hovertemplate": "<b>%{customdata[0]}</b><br>Family Name: %{customdata[1]}<br>Domain: %{customdata[2]}<br>Kingdom: %{customdata[3]}</b><br>Phylum: %{customdata[4]}<br>Class: %{customdata[5]}<br>Order: %{customdata[6]}<br>Family: %{customdata[7]}<br>Genus: %{customdata[8]}<br>Species: %{customdata[9]}<br>EC Number: %{customdata[10]}<br>Mol Weight: %{customdata[11]}<br>Taxonomy ID: %{customdata[12]}<extra></extra>",
         "marker": {
          "color": "rgb(63, 68, 135)",
          "size": 6,
          "symbol": "circle"
         },
         "mode": "markers",
         "text": "methionine adenosyltransferase",
         "type": "scatter3d",
         "x": [
          0.07045320626614943
         ],
         "y": [
          -0.051370517119013456
         ],
         "z": [
          -0.15346301067433543
         ]
        },
        {
         "customdata": [
          [
           "methionine adenosyltransferase",
           null,
           "Archaea",
           "Euryarchaeota",
           null,
           null,
           null,
           null,
           null,
           "archaeon",
           "2.5.1.6",
           null,
           "taxon:2250530",
           0.0006575101345679504,
           0.06875732402557956,
           -0.038894107412183646,
           -0.15899726693422345
          ]
         ],
         "hovertemplate": "<b>%{customdata[0]}</b><br>Family Name: %{customdata[1]}<br>Domain: %{customdata[2]}<br>Kingdom: %{customdata[3]}</b><br>Phylum: %{customdata[4]}<br>Class: %{customdata[5]}<br>Order: %{customdata[6]}<br>Family: %{customdata[7]}<br>Genus: %{customdata[8]}<br>Species: %{customdata[9]}<br>EC Number: %{customdata[10]}<br>Mol Weight: %{customdata[11]}<br>Taxonomy ID: %{customdata[12]}<extra></extra>",
         "marker": {
          "color": "rgb(57, 185, 119)",
          "size": 6,
          "symbol": "circle"
         },
         "mode": "markers",
         "text": "methionine adenosyltransferase",
         "type": "scatter3d",
         "x": [
          0.06875732402557956
         ],
         "y": [
          -0.038894107412183646
         ],
         "z": [
          -0.15899726693422345
         ]
        },
        {
         "customdata": [
          [
           "methionine adenosyltransferase",
           null,
           "Archaea",
           "Euryarchaeota",
           null,
           null,
           null,
           null,
           null,
           "archaeon",
           "2.5.1.6",
           null,
           "taxon:2250530",
           0.0012970100664294773,
           0.05407983562924024,
           -0.05620851270288976,
           -0.1339321450166059
          ]
         ],
         "hovertemplate": "<b>%{customdata[0]}</b><br>Family Name: %{customdata[1]}<br>Domain: %{customdata[2]}<br>Kingdom: %{customdata[3]}</b><br>Phylum: %{customdata[4]}<br>Class: %{customdata[5]}<br>Order: %{customdata[6]}<br>Family: %{customdata[7]}<br>Genus: %{customdata[8]}<br>Species: %{customdata[9]}<br>EC Number: %{customdata[10]}<br>Mol Weight: %{customdata[11]}<br>Taxonomy ID: %{customdata[12]}<extra></extra>",
         "marker": {
          "color": "rgb(57, 185, 119)",
          "size": 6,
          "symbol": "circle"
         },
         "mode": "markers",
         "text": "methionine adenosyltransferase",
         "type": "scatter3d",
         "x": [
          0.05407983562924024
         ],
         "y": [
          -0.05620851270288976
         ],
         "z": [
          -0.1339321450166059
         ]
        },
        {
         "customdata": [
          [
           "methionine adenosyltransferase",
           null,
           "Archaea",
           "Euryarchaeota",
           null,
           null,
           null,
           null,
           null,
           "archaeon",
           "2.5.1.6",
           null,
           "taxon:2026739",
           0.0009203663184658258,
           -0.07950710099699783,
           0.21521991564806425,
           0.17618083564038522
          ]
         ],
         "hovertemplate": "<b>%{customdata[0]}</b><br>Family Name: %{customdata[1]}<br>Domain: %{customdata[2]}<br>Kingdom: %{customdata[3]}</b><br>Phylum: %{customdata[4]}<br>Class: %{customdata[5]}<br>Order: %{customdata[6]}<br>Family: %{customdata[7]}<br>Genus: %{customdata[8]}<br>Species: %{customdata[9]}<br>EC Number: %{customdata[10]}<br>Mol Weight: %{customdata[11]}<br>Taxonomy ID: %{customdata[12]}<extra></extra>",
         "marker": {
          "color": "rgb(71, 29, 110)",
          "size": 6,
          "symbol": "circle"
         },
         "mode": "markers",
         "text": "methionine adenosyltransferase",
         "type": "scatter3d",
         "x": [
          -0.07950710099699783
         ],
         "y": [
          0.21521991564806425
         ],
         "z": [
          0.17618083564038522
         ]
        },
        {
         "customdata": [
          [
           "methionine adenosyltransferase",
           null,
           "Archaea",
           "Euryarchaeota",
           "Archaeoglobales",
           null,
           null,
           null,
           null,
           "archaeon",
           "2.5.1.6",
           null,
           "taxon:2250258",
           0.00036271783940079657,
           0.03873615540665186,
           -0.06464539121336024,
           -0.1320935680738401
          ]
         ],
         "hovertemplate": "<b>%{customdata[0]}</b><br>Family Name: %{customdata[1]}<br>Domain: %{customdata[2]}<br>Kingdom: %{customdata[3]}</b><br>Phylum: %{customdata[4]}<br>Class: %{customdata[5]}<br>Order: %{customdata[6]}<br>Family: %{customdata[7]}<br>Genus: %{customdata[8]}<br>Species: %{customdata[9]}<br>EC Number: %{customdata[10]}<br>Mol Weight: %{customdata[11]}<br>Taxonomy ID: %{customdata[12]}<extra></extra>",
         "marker": {
          "color": "rgb(71, 42, 121)",
          "size": 6,
          "symbol": "circle"
         },
         "mode": "markers",
         "text": "methionine adenosyltransferase",
         "type": "scatter3d",
         "x": [
          0.03873615540665186
         ],
         "y": [
          -0.06464539121336024
         ],
         "z": [
          -0.1320935680738401
         ]
        },
        {
         "customdata": [
          [
           "methionine adenosyltransferase",
           null,
           "Archaea",
           "Euryarchaeota",
           null,
           null,
           null,
           null,
           null,
           "archaeon",
           "2.5.1.6",
           null,
           "taxon:2026739",
           0,
           0.29741478524575987,
           0.05045138301234902,
           -0.16054718689405253
          ]
         ],
         "hovertemplate": "<b>%{customdata[0]}</b><br>Family Name: %{customdata[1]}<br>Domain: %{customdata[2]}<br>Kingdom: %{customdata[3]}</b><br>Phylum: %{customdata[4]}<br>Class: %{customdata[5]}<br>Order: %{customdata[6]}<br>Family: %{customdata[7]}<br>Genus: %{customdata[8]}<br>Species: %{customdata[9]}<br>EC Number: %{customdata[10]}<br>Mol Weight: %{customdata[11]}<br>Taxonomy ID: %{customdata[12]}<extra></extra>",
         "marker": {
          "color": "rgb(71, 29, 110)",
          "size": 6,
          "symbol": "circle"
         },
         "mode": "markers",
         "text": "methionine adenosyltransferase",
         "type": "scatter3d",
         "x": [
          0.29741478524575987
         ],
         "y": [
          0.05045138301234902
         ],
         "z": [
          -0.16054718689405253
         ]
        },
        {
         "customdata": [
          [
           "methionine adenosyltransferase",
           null,
           "Archaea",
           "Euryarchaeota",
           "Archaeoglobales",
           null,
           null,
           null,
           null,
           "archaeon",
           "2.5.1.6",
           null,
           "taxon:2250258",
           0.000054663371246285824,
           0.06687475510223628,
           -0.05892487147686911,
           -0.1686428375478912
          ]
         ],
         "hovertemplate": "<b>%{customdata[0]}</b><br>Family Name: %{customdata[1]}<br>Domain: %{customdata[2]}<br>Kingdom: %{customdata[3]}</b><br>Phylum: %{customdata[4]}<br>Class: %{customdata[5]}<br>Order: %{customdata[6]}<br>Family: %{customdata[7]}<br>Genus: %{customdata[8]}<br>Species: %{customdata[9]}<br>EC Number: %{customdata[10]}<br>Mol Weight: %{customdata[11]}<br>Taxonomy ID: %{customdata[12]}<extra></extra>",
         "marker": {
          "color": "rgb(71, 42, 121)",
          "size": 6,
          "symbol": "circle"
         },
         "mode": "markers",
         "text": "methionine adenosyltransferase",
         "type": "scatter3d",
         "x": [
          0.06687475510223628
         ],
         "y": [
          -0.05892487147686911
         ],
         "z": [
          -0.1686428375478912
         ]
        },
        {
         "customdata": [
          [
           "methionine adenosyltransferase",
           null,
           "Archaea",
           "Euryarchaeota",
           null,
           null,
           null,
           null,
           null,
           "archaeon",
           "2.5.1.6",
           null,
           "taxon:2250530",
           0.0006005914554911914,
           0.07868881854368813,
           -0.06805013692000275,
           -0.14782473210111322
          ]
         ],
         "hovertemplate": "<b>%{customdata[0]}</b><br>Family Name: %{customdata[1]}<br>Domain: %{customdata[2]}<br>Kingdom: %{customdata[3]}</b><br>Phylum: %{customdata[4]}<br>Class: %{customdata[5]}<br>Order: %{customdata[6]}<br>Family: %{customdata[7]}<br>Genus: %{customdata[8]}<br>Species: %{customdata[9]}<br>EC Number: %{customdata[10]}<br>Mol Weight: %{customdata[11]}<br>Taxonomy ID: %{customdata[12]}<extra></extra>",
         "marker": {
          "color": "rgb(57, 185, 119)",
          "size": 6,
          "symbol": "circle"
         },
         "mode": "markers",
         "text": "methionine adenosyltransferase",
         "type": "scatter3d",
         "x": [
          0.07868881854368813
         ],
         "y": [
          -0.06805013692000275
         ],
         "z": [
          -0.14782473210111322
         ]
        },
        {
         "customdata": [
          [
           "methionine adenosyltransferase",
           null,
           "Archaea",
           "Euryarchaeota",
           "Archaeoglobales",
           null,
           null,
           null,
           null,
           "archaeon",
           "2.5.1.6",
           null,
           "taxon:2250258",
           0.024684319850108973,
           0.04759558757226343,
           -0.04179453405911914,
           -0.09810993374392628
          ]
         ],
         "hovertemplate": "<b>%{customdata[0]}</b><br>Family Name: %{customdata[1]}<br>Domain: %{customdata[2]}<br>Kingdom: %{customdata[3]}</b><br>Phylum: %{customdata[4]}<br>Class: %{customdata[5]}<br>Order: %{customdata[6]}<br>Family: %{customdata[7]}<br>Genus: %{customdata[8]}<br>Species: %{customdata[9]}<br>EC Number: %{customdata[10]}<br>Mol Weight: %{customdata[11]}<br>Taxonomy ID: %{customdata[12]}<extra></extra>",
         "marker": {
          "color": "rgb(71, 42, 121)",
          "size": 6,
          "symbol": "circle"
         },
         "mode": "markers",
         "text": "methionine adenosyltransferase",
         "type": "scatter3d",
         "x": [
          0.04759558757226343
         ],
         "y": [
          -0.04179453405911914
         ],
         "z": [
          -0.09810993374392628
         ]
        },
        {
         "customdata": [
          [
           "methionine adenosyltransferase",
           null,
           "Archaea",
           "Candidatus Hydrothermarchaeota",
           "Candidatus Hydrothermarchaeales",
           null,
           null,
           null,
           null,
           "Hydrothermarchaeaceae",
           "2.5.1.6",
           null,
           "taxon:3107143",
           0.00005690621671670838,
           -0.021402443298711372,
           -0.2560134793338622,
           0.084542313752592
          ]
         ],
         "hovertemplate": "<b>%{customdata[0]}</b><br>Family Name: %{customdata[1]}<br>Domain: %{customdata[2]}<br>Kingdom: %{customdata[3]}</b><br>Phylum: %{customdata[4]}<br>Class: %{customdata[5]}<br>Order: %{customdata[6]}<br>Family: %{customdata[7]}<br>Genus: %{customdata[8]}<br>Species: %{customdata[9]}<br>EC Number: %{customdata[10]}<br>Mol Weight: %{customdata[11]}<br>Taxonomy ID: %{customdata[12]}<extra></extra>",
         "marker": {
          "color": "rgb(207, 225, 41)",
          "size": 6,
          "symbol": "circle"
         },
         "mode": "markers",
         "text": "methionine adenosyltransferase",
         "type": "scatter3d",
         "x": [
          -0.021402443298711372
         ],
         "y": [
          -0.2560134793338622
         ],
         "z": [
          0.084542313752592
         ]
        },
        {
         "customdata": [
          [
           "methionine adenosyltransferase",
           null,
           "Archaea",
           "Euryarchaeota",
           "Methanococci",
           "Methanocaldococcaceae",
           null,
           null,
           null,
           "formicicus",
           "2.5.1.6",
           45301,
           "taxon:213185",
           0.000011623010815598765,
           -0.08425787166084271,
           -0.062291096222279754,
           0.11801641820683846
          ]
         ],
         "hovertemplate": "<b>%{customdata[0]}</b><br>Family Name: %{customdata[1]}<br>Domain: %{customdata[2]}<br>Kingdom: %{customdata[3]}</b><br>Phylum: %{customdata[4]}<br>Class: %{customdata[5]}<br>Order: %{customdata[6]}<br>Family: %{customdata[7]}<br>Genus: %{customdata[8]}<br>Species: %{customdata[9]}<br>EC Number: %{customdata[10]}<br>Mol Weight: %{customdata[11]}<br>Taxonomy ID: %{customdata[12]}<extra></extra>",
         "marker": {
          "color": "rgb(64, 66, 133)",
          "size": 6,
          "symbol": "circle"
         },
         "mode": "markers",
         "text": "methionine adenosyltransferase",
         "type": "scatter3d",
         "x": [
          -0.08425787166084271
         ],
         "y": [
          -0.062291096222279754
         ],
         "z": [
          0.11801641820683846
         ]
        },
        {
         "customdata": [
          [
           "methionine adenosyltransferase",
           null,
           "Archaea",
           "Euryarchaeota",
           "Methanococci",
           "Methanocaldococcaceae",
           null,
           null,
           null,
           "igneus",
           "2.5.1.6",
           45071,
           "taxon:2189",
           0.00009943068954435602,
           -0.09110189734421904,
           -0.04803380739785115,
           0.10100350008400094
          ]
         ],
         "hovertemplate": "<b>%{customdata[0]}</b><br>Family Name: %{customdata[1]}<br>Domain: %{customdata[2]}<br>Kingdom: %{customdata[3]}</b><br>Phylum: %{customdata[4]}<br>Class: %{customdata[5]}<br>Order: %{customdata[6]}<br>Family: %{customdata[7]}<br>Genus: %{customdata[8]}<br>Species: %{customdata[9]}<br>EC Number: %{customdata[10]}<br>Mol Weight: %{customdata[11]}<br>Taxonomy ID: %{customdata[12]}<extra></extra>",
         "marker": {
          "color": "rgb(70, 47, 124)",
          "size": 6,
          "symbol": "circle"
         },
         "mode": "markers",
         "text": "methionine adenosyltransferase",
         "type": "scatter3d",
         "x": [
          -0.09110189734421904
         ],
         "y": [
          -0.04803380739785115
         ],
         "z": [
          0.10100350008400094
         ]
        },
        {
         "customdata": [
          [
           "Methionine adenosyltransferase",
           null,
           "Archaea",
           "Euryarchaeota",
           "Methanococci",
           "Methanocaldococcaceae",
           null,
           null,
           null,
           "formicicus",
           "2.5.1.6",
           null,
           "taxon:647171",
           0.000017703842999801444,
           -0.07441620358311736,
           -0.05434553528079839,
           0.12299434587170134
          ]
         ],
         "hovertemplate": "<b>%{customdata[0]}</b><br>Family Name: %{customdata[1]}<br>Domain: %{customdata[2]}<br>Kingdom: %{customdata[3]}</b><br>Phylum: %{customdata[4]}<br>Class: %{customdata[5]}<br>Order: %{customdata[6]}<br>Family: %{customdata[7]}<br>Genus: %{customdata[8]}<br>Species: %{customdata[9]}<br>EC Number: %{customdata[10]}<br>Mol Weight: %{customdata[11]}<br>Taxonomy ID: %{customdata[12]}<extra></extra>",
         "marker": {
          "color": "rgb(65, 64, 132)",
          "size": 6,
          "symbol": "circle"
         },
         "mode": "markers",
         "text": "Methionine adenosyltransferase",
         "type": "scatter3d",
         "x": [
          -0.07441620358311736
         ],
         "y": [
          -0.05434553528079839
         ],
         "z": [
          0.12299434587170134
         ]
        },
        {
         "customdata": [
          [
           "methionine adenosyltransferase",
           null,
           "Archaea",
           "Candidatus Hydrothermarchaeota",
           null,
           null,
           null,
           null,
           null,
           "Hydrothermarchaeota",
           "2.5.1.6",
           null,
           "taxon:2250275",
           0,
           0.0015979920983939283,
           -0.26855802440735205,
           0.10689703851407963
          ]
         ],
         "hovertemplate": "<b>%{customdata[0]}</b><br>Family Name: %{customdata[1]}<br>Domain: %{customdata[2]}<br>Kingdom: %{customdata[3]}</b><br>Phylum: %{customdata[4]}<br>Class: %{customdata[5]}<br>Order: %{customdata[6]}<br>Family: %{customdata[7]}<br>Genus: %{customdata[8]}<br>Species: %{customdata[9]}<br>EC Number: %{customdata[10]}<br>Mol Weight: %{customdata[11]}<br>Taxonomy ID: %{customdata[12]}<extra></extra>",
         "marker": {
          "color": "rgb(48, 106, 142)",
          "size": 6,
          "symbol": "circle"
         },
         "mode": "markers",
         "text": "methionine adenosyltransferase",
         "type": "scatter3d",
         "x": [
          0.0015979920983939283
         ],
         "y": [
          -0.26855802440735205
         ],
         "z": [
          0.10689703851407963
         ]
        },
        {
         "customdata": [
          [
           "methionine adenosyltransferase",
           null,
           "Archaea",
           "Euryarchaeota",
           "Methanomicrobia",
           "Methanosarcinaceae",
           null,
           null,
           null,
           "mazei",
           "2.5.1.6",
           43773,
           "taxon:2209",
           0.0068898599154476525,
           0.2693610157315093,
           0.052296279797124645,
           -0.16949600592663683
          ]
         ],
         "hovertemplate": "<b>%{customdata[0]}</b><br>Family Name: %{customdata[1]}<br>Domain: %{customdata[2]}<br>Kingdom: %{customdata[3]}</b><br>Phylum: %{customdata[4]}<br>Class: %{customdata[5]}<br>Order: %{customdata[6]}<br>Family: %{customdata[7]}<br>Genus: %{customdata[8]}<br>Species: %{customdata[9]}<br>EC Number: %{customdata[10]}<br>Mol Weight: %{customdata[11]}<br>Taxonomy ID: %{customdata[12]}<extra></extra>",
         "marker": {
          "color": "rgb(82, 195, 104)",
          "size": 6,
          "symbol": "circle"
         },
         "mode": "markers",
         "text": "methionine adenosyltransferase",
         "type": "scatter3d",
         "x": [
          0.2693610157315093
         ],
         "y": [
          0.052296279797124645
         ],
         "z": [
          -0.16949600592663683
         ]
        },
        {
         "customdata": [
          [
           "Chain A, S-adenosylmethionine synthase",
           null,
           "Archaea",
           "Euryarchaeota",
           "Methanococci",
           "Methanocaldococcaceae",
           null,
           null,
           null,
           "jannaschii",
           null,
           null,
           "taxon:243232",
           0.00014923462488998802,
           -0.07434346352882745,
           -0.052481307363334756,
           0.09167933104625252
          ]
         ],
         "hovertemplate": "<b>%{customdata[0]}</b><br>Family Name: %{customdata[1]}<br>Domain: %{customdata[2]}<br>Kingdom: %{customdata[3]}</b><br>Phylum: %{customdata[4]}<br>Class: %{customdata[5]}<br>Order: %{customdata[6]}<br>Family: %{customdata[7]}<br>Genus: %{customdata[8]}<br>Species: %{customdata[9]}<br>EC Number: %{customdata[10]}<br>Mol Weight: %{customdata[11]}<br>Taxonomy ID: %{customdata[12]}<extra></extra>",
         "marker": {
          "color": "rgb(45, 174, 127)",
          "size": 6,
          "symbol": "circle"
         },
         "mode": "markers",
         "text": "Chain A, S-adenosylmethionine synthase",
         "type": "scatter3d",
         "x": [
          -0.07434346352882745
         ],
         "y": [
          -0.052481307363334756
         ],
         "z": [
          0.09167933104625252
         ]
        },
        {
         "customdata": [
          [
           "methionine adenosyltransferase",
           null,
           "Archaea",
           "Euryarchaeota",
           "Archaeoglobales",
           null,
           null,
           null,
           null,
           "archaeon",
           "2.5.1.6",
           null,
           "taxon:2250258",
           0.00029770116164904705,
           0.08118770080871826,
           -0.06897622481804462,
           -0.16312537344596778
          ]
         ],
         "hovertemplate": "<b>%{customdata[0]}</b><br>Family Name: %{customdata[1]}<br>Domain: %{customdata[2]}<br>Kingdom: %{customdata[3]}</b><br>Phylum: %{customdata[4]}<br>Class: %{customdata[5]}<br>Order: %{customdata[6]}<br>Family: %{customdata[7]}<br>Genus: %{customdata[8]}<br>Species: %{customdata[9]}<br>EC Number: %{customdata[10]}<br>Mol Weight: %{customdata[11]}<br>Taxonomy ID: %{customdata[12]}<extra></extra>",
         "marker": {
          "color": "rgb(71, 42, 121)",
          "size": 6,
          "symbol": "circle"
         },
         "mode": "markers",
         "text": "methionine adenosyltransferase",
         "type": "scatter3d",
         "x": [
          0.08118770080871826
         ],
         "y": [
          -0.06897622481804462
         ],
         "z": [
          -0.16312537344596778
         ]
        },
        {
         "customdata": [
          [
           "methionine adenosyltransferase",
           null,
           "Archaea",
           "Euryarchaeota",
           "Archaeoglobales",
           "Archaeoglobus",
           null,
           null,
           null,
           "sulfaticallidus",
           "2.5.1.6",
           44416,
           "taxon:1316941",
           0.0014790528908061502,
           0.05882811585589064,
           -0.032062350299233974,
           -0.13365872631267667
          ]
         ],
         "hovertemplate": "<b>%{customdata[0]}</b><br>Family Name: %{customdata[1]}<br>Domain: %{customdata[2]}<br>Kingdom: %{customdata[3]}</b><br>Phylum: %{customdata[4]}<br>Class: %{customdata[5]}<br>Order: %{customdata[6]}<br>Family: %{customdata[7]}<br>Genus: %{customdata[8]}<br>Species: %{customdata[9]}<br>EC Number: %{customdata[10]}<br>Mol Weight: %{customdata[11]}<br>Taxonomy ID: %{customdata[12]}<extra></extra>",
         "marker": {
          "color": "rgb(42, 121, 142)",
          "size": 6,
          "symbol": "circle"
         },
         "mode": "markers",
         "text": "methionine adenosyltransferase",
         "type": "scatter3d",
         "x": [
          0.05882811585589064
         ],
         "y": [
          -0.032062350299233974
         ],
         "z": [
          -0.13365872631267667
         ]
        },
        {
         "customdata": [
          [
           "S-adenosylmethionine synthetase",
           null,
           "Archaea",
           "Euryarchaeota",
           null,
           null,
           null,
           null,
           null,
           "archaeon",
           null,
           null,
           "taxon:2250530",
           0.05099837083403963,
           -0.0020481774891580305,
           -0.023246665502304826,
           -0.037914865782946235
          ]
         ],
         "hovertemplate": "<b>%{customdata[0]}</b><br>Family Name: %{customdata[1]}<br>Domain: %{customdata[2]}<br>Kingdom: %{customdata[3]}</b><br>Phylum: %{customdata[4]}<br>Class: %{customdata[5]}<br>Order: %{customdata[6]}<br>Family: %{customdata[7]}<br>Genus: %{customdata[8]}<br>Species: %{customdata[9]}<br>EC Number: %{customdata[10]}<br>Mol Weight: %{customdata[11]}<br>Taxonomy ID: %{customdata[12]}<extra></extra>",
         "marker": {
          "color": "rgb(57, 185, 119)",
          "size": 6,
          "symbol": "circle"
         },
         "mode": "markers",
         "text": "S-adenosylmethionine synthetase",
         "type": "scatter3d",
         "x": [
          -0.0020481774891580305
         ],
         "y": [
          -0.023246665502304826
         ],
         "z": [
          -0.037914865782946235
         ]
        },
        {
         "customdata": [
          [
           "methionine adenosyltransferase",
           null,
           "Archaea",
           "Candidatus Hydrothermarchaeota",
           null,
           null,
           null,
           null,
           null,
           "Hydrothermarchaeota",
           "2.5.1.6",
           null,
           "taxon:2250275",
           0,
           -0.021489806968369732,
           -0.268715639699524,
           0.12337987137272899
          ]
         ],
         "hovertemplate": "<b>%{customdata[0]}</b><br>Family Name: %{customdata[1]}<br>Domain: %{customdata[2]}<br>Kingdom: %{customdata[3]}</b><br>Phylum: %{customdata[4]}<br>Class: %{customdata[5]}<br>Order: %{customdata[6]}<br>Family: %{customdata[7]}<br>Genus: %{customdata[8]}<br>Species: %{customdata[9]}<br>EC Number: %{customdata[10]}<br>Mol Weight: %{customdata[11]}<br>Taxonomy ID: %{customdata[12]}<extra></extra>",
         "marker": {
          "color": "rgb(48, 106, 142)",
          "size": 6,
          "symbol": "circle"
         },
         "mode": "markers",
         "text": "methionine adenosyltransferase",
         "type": "scatter3d",
         "x": [
          -0.021489806968369732
         ],
         "y": [
          -0.268715639699524
         ],
         "z": [
          0.12337987137272899
         ]
        },
        {
         "customdata": [
          [
           "S-adenosylmethionine synthetase",
           null,
           "Archaea",
           "Euryarchaeota",
           null,
           null,
           null,
           null,
           null,
           "archaeon",
           null,
           null,
           "taxon:2250530",
           0.03830334121193387,
           -0.002255229443267684,
           -0.0202890241338528,
           -0.03076297738555278
          ]
         ],
         "hovertemplate": "<b>%{customdata[0]}</b><br>Family Name: %{customdata[1]}<br>Domain: %{customdata[2]}<br>Kingdom: %{customdata[3]}</b><br>Phylum: %{customdata[4]}<br>Class: %{customdata[5]}<br>Order: %{customdata[6]}<br>Family: %{customdata[7]}<br>Genus: %{customdata[8]}<br>Species: %{customdata[9]}<br>EC Number: %{customdata[10]}<br>Mol Weight: %{customdata[11]}<br>Taxonomy ID: %{customdata[12]}<extra></extra>",
         "marker": {
          "color": "rgb(57, 185, 119)",
          "size": 6,
          "symbol": "circle"
         },
         "mode": "markers",
         "text": "S-adenosylmethionine synthetase",
         "type": "scatter3d",
         "x": [
          -0.002255229443267684
         ],
         "y": [
          -0.0202890241338528
         ],
         "z": [
          -0.03076297738555278
         ]
        },
        {
         "customdata": [
          [
           "S-adenosylmethionine synthetase",
           null,
           "Archaea",
           "Euryarchaeota",
           "Archaeoglobales",
           null,
           null,
           null,
           null,
           "archaeon",
           null,
           null,
           "taxon:2511821",
           0,
           0.05698937146871751,
           -0.07645654819947631,
           -0.16337110118544287
          ]
         ],
         "hovertemplate": "<b>%{customdata[0]}</b><br>Family Name: %{customdata[1]}<br>Domain: %{customdata[2]}<br>Kingdom: %{customdata[3]}</b><br>Phylum: %{customdata[4]}<br>Class: %{customdata[5]}<br>Order: %{customdata[6]}<br>Family: %{customdata[7]}<br>Genus: %{customdata[8]}<br>Species: %{customdata[9]}<br>EC Number: %{customdata[10]}<br>Mol Weight: %{customdata[11]}<br>Taxonomy ID: %{customdata[12]}<extra></extra>",
         "marker": {
          "color": "rgb(34, 162, 135)",
          "size": 6,
          "symbol": "circle"
         },
         "mode": "markers",
         "text": "S-adenosylmethionine synthetase",
         "type": "scatter3d",
         "x": [
          0.05698937146871751
         ],
         "y": [
          -0.07645654819947631
         ],
         "z": [
          -0.16337110118544287
         ]
        },
        {
         "customdata": [
          [
           "Archaeal S-adenosylmethionine synthetase",
           null,
           "Archaea",
           "Euryarchaeota",
           "Archaeoglobales",
           "Geoglobus",
           null,
           null,
           null,
           "acetivorans",
           null,
           null,
           "taxon:565033",
           0.0009941197725873332,
           0.0641767304073433,
           -0.03716462099777022,
           -0.14305768121570295
          ]
         ],
         "hovertemplate": "<b>%{customdata[0]}</b><br>Family Name: %{customdata[1]}<br>Domain: %{customdata[2]}<br>Kingdom: %{customdata[3]}</b><br>Phylum: %{customdata[4]}<br>Class: %{customdata[5]}<br>Order: %{customdata[6]}<br>Family: %{customdata[7]}<br>Genus: %{customdata[8]}<br>Species: %{customdata[9]}<br>EC Number: %{customdata[10]}<br>Mol Weight: %{customdata[11]}<br>Taxonomy ID: %{customdata[12]}<extra></extra>",
         "marker": {
          "color": "rgb(212, 226, 40)",
          "size": 6,
          "symbol": "circle"
         },
         "mode": "markers",
         "text": "Archaeal S-adenosylmethionine synthetase",
         "type": "scatter3d",
         "x": [
          0.0641767304073433
         ],
         "y": [
          -0.03716462099777022
         ],
         "z": [
          -0.14305768121570295
         ]
        },
        {
         "customdata": [
          [
           "methionine adenosyltransferase",
           null,
           "Archaea",
           "Euryarchaeota",
           "Archaeoglobales",
           "Archaeoglobus",
           null,
           null,
           null,
           "neptunius",
           "2.5.1.6",
           44994,
           "taxon:2798580",
           0.0014790528908061502,
           0.06494464645534509,
           -0.041559333456230585,
           -0.12759917184372924
          ]
         ],
         "hovertemplate": "<b>%{customdata[0]}</b><br>Family Name: %{customdata[1]}<br>Domain: %{customdata[2]}<br>Kingdom: %{customdata[3]}</b><br>Phylum: %{customdata[4]}<br>Class: %{customdata[5]}<br>Order: %{customdata[6]}<br>Family: %{customdata[7]}<br>Genus: %{customdata[8]}<br>Species: %{customdata[9]}<br>EC Number: %{customdata[10]}<br>Mol Weight: %{customdata[11]}<br>Taxonomy ID: %{customdata[12]}<extra></extra>",
         "marker": {
          "color": "rgb(56, 88, 140)",
          "size": 6,
          "symbol": "circle"
         },
         "mode": "markers",
         "text": "methionine adenosyltransferase",
         "type": "scatter3d",
         "x": [
          0.06494464645534509
         ],
         "y": [
          -0.041559333456230585
         ],
         "z": [
          -0.12759917184372924
         ]
        },
        {
         "customdata": [
          [
           "methionine adenosyltransferase",
           null,
           "Archaea",
           "Euryarchaeota",
           "Methanomicrobia",
           "Methanosarcinaceae",
           null,
           null,
           null,
           "mazei",
           "2.5.1.6",
           43801,
           "taxon:2209",
           0.0068898599154476525,
           0.27338196169298007,
           0.047614502881122275,
           -0.15305476889831815
          ]
         ],
         "hovertemplate": "<b>%{customdata[0]}</b><br>Family Name: %{customdata[1]}<br>Domain: %{customdata[2]}<br>Kingdom: %{customdata[3]}</b><br>Phylum: %{customdata[4]}<br>Class: %{customdata[5]}<br>Order: %{customdata[6]}<br>Family: %{customdata[7]}<br>Genus: %{customdata[8]}<br>Species: %{customdata[9]}<br>EC Number: %{customdata[10]}<br>Mol Weight: %{customdata[11]}<br>Taxonomy ID: %{customdata[12]}<extra></extra>",
         "marker": {
          "color": "rgb(82, 195, 104)",
          "size": 6,
          "symbol": "circle"
         },
         "mode": "markers",
         "text": "methionine adenosyltransferase",
         "type": "scatter3d",
         "x": [
          0.27338196169298007
         ],
         "y": [
          0.047614502881122275
         ],
         "z": [
          -0.15305476889831815
         ]
        },
        {
         "customdata": [
          [
           "methionine adenosyltransferase",
           null,
           "Archaea",
           "Euryarchaeota",
           "Archaeoglobales",
           "Archaeoglobus",
           null,
           null,
           null,
           "sp.",
           "2.5.1.6",
           null,
           "taxon:1872626",
           0.00010651295500729992,
           0.053930926616205764,
           -0.08001678541082655,
           -0.1419472325799435
          ]
         ],
         "hovertemplate": "<b>%{customdata[0]}</b><br>Family Name: %{customdata[1]}<br>Domain: %{customdata[2]}<br>Kingdom: %{customdata[3]}</b><br>Phylum: %{customdata[4]}<br>Class: %{customdata[5]}<br>Order: %{customdata[6]}<br>Family: %{customdata[7]}<br>Genus: %{customdata[8]}<br>Species: %{customdata[9]}<br>EC Number: %{customdata[10]}<br>Mol Weight: %{customdata[11]}<br>Taxonomy ID: %{customdata[12]}<extra></extra>",
         "marker": {
          "color": "rgb(40, 169, 130)",
          "size": 6,
          "symbol": "circle"
         },
         "mode": "markers",
         "text": "methionine adenosyltransferase",
         "type": "scatter3d",
         "x": [
          0.053930926616205764
         ],
         "y": [
          -0.08001678541082655
         ],
         "z": [
          -0.1419472325799435
         ]
        },
        {
         "customdata": [
          [
           "methionine adenosyltransferase",
           null,
           "Archaea",
           "Euryarchaeota",
           "Archaeoglobales",
           null,
           null,
           null,
           null,
           "archaeon",
           "2.5.1.6",
           null,
           "taxon:2511821",
           0.0012970100664294773,
           0.06485003583706589,
           -0.07093724125017638,
           -0.1212043283596666
          ]
         ],
         "hovertemplate": "<b>%{customdata[0]}</b><br>Family Name: %{customdata[1]}<br>Domain: %{customdata[2]}<br>Kingdom: %{customdata[3]}</b><br>Phylum: %{customdata[4]}<br>Class: %{customdata[5]}<br>Order: %{customdata[6]}<br>Family: %{customdata[7]}<br>Genus: %{customdata[8]}<br>Species: %{customdata[9]}<br>EC Number: %{customdata[10]}<br>Mol Weight: %{customdata[11]}<br>Taxonomy ID: %{customdata[12]}<extra></extra>",
         "marker": {
          "color": "rgb(34, 162, 135)",
          "size": 6,
          "symbol": "circle"
         },
         "mode": "markers",
         "text": "methionine adenosyltransferase",
         "type": "scatter3d",
         "x": [
          0.06485003583706589
         ],
         "y": [
          -0.07093724125017638
         ],
         "z": [
          -0.1212043283596666
         ]
        },
        {
         "customdata": [
          [
           "methionine adenosyltransferase",
           null,
           "Archaea",
           "Euryarchaeota",
           "Methanomicrobia",
           "Methanotrichaceae",
           null,
           null,
           null,
           "archaeon",
           "2.5.1.6",
           null,
           "taxon:2595067",
           0.006898754294693163,
           0.18981291146674592,
           0.039521503139559065,
           -0.009507052114565798
          ]
         ],
         "hovertemplate": "<b>%{customdata[0]}</b><br>Family Name: %{customdata[1]}<br>Domain: %{customdata[2]}<br>Kingdom: %{customdata[3]}</b><br>Phylum: %{customdata[4]}<br>Class: %{customdata[5]}<br>Order: %{customdata[6]}<br>Family: %{customdata[7]}<br>Genus: %{customdata[8]}<br>Species: %{customdata[9]}<br>EC Number: %{customdata[10]}<br>Mol Weight: %{customdata[11]}<br>Taxonomy ID: %{customdata[12]}<extra></extra>",
         "marker": {
          "color": "rgb(41, 123, 142)",
          "size": 6,
          "symbol": "circle"
         },
         "mode": "markers",
         "text": "methionine adenosyltransferase",
         "type": "scatter3d",
         "x": [
          0.18981291146674592
         ],
         "y": [
          0.039521503139559065
         ],
         "z": [
          -0.009507052114565798
         ]
        },
        {
         "customdata": [
          [
           "methionine adenosyltransferase",
           null,
           "Archaea",
           "Euryarchaeota",
           "Candidatus Mnemosynellales",
           "Mnemosynella",
           null,
           null,
           null,
           "Mnemosynella",
           "2.5.1.6",
           null,
           "taxon:3072938",
           0.045818559583970006,
           0.00370672704164097,
           -0.023442088972513368,
           -0.03968776092658777
          ]
         ],
         "hovertemplate": "<b>%{customdata[0]}</b><br>Family Name: %{customdata[1]}<br>Domain: %{customdata[2]}<br>Kingdom: %{customdata[3]}</b><br>Phylum: %{customdata[4]}<br>Class: %{customdata[5]}<br>Order: %{customdata[6]}<br>Family: %{customdata[7]}<br>Genus: %{customdata[8]}<br>Species: %{customdata[9]}<br>EC Number: %{customdata[10]}<br>Mol Weight: %{customdata[11]}<br>Taxonomy ID: %{customdata[12]}<extra></extra>",
         "marker": {
          "color": "rgb(44, 115, 142)",
          "size": 6,
          "symbol": "circle"
         },
         "mode": "markers",
         "text": "methionine adenosyltransferase",
         "type": "scatter3d",
         "x": [
          0.00370672704164097
         ],
         "y": [
          -0.023442088972513368
         ],
         "z": [
          -0.03968776092658777
         ]
        },
        {
         "customdata": [
          [
           "methionine adenosyltransferase",
           null,
           "Archaea",
           "Euryarchaeota",
           "Methanomicrobia",
           "Candidatus Methanoperedenaceae",
           null,
           null,
           null,
           "Methanoperedens",
           "2.5.1.6",
           null,
           "taxon:2032688",
           0.02276710636881347,
           0.2169561251905919,
           0.007549956522764459,
           -0.1592927008906254
          ]
         ],
         "hovertemplate": "<b>%{customdata[0]}</b><br>Family Name: %{customdata[1]}<br>Domain: %{customdata[2]}<br>Kingdom: %{customdata[3]}</b><br>Phylum: %{customdata[4]}<br>Class: %{customdata[5]}<br>Order: %{customdata[6]}<br>Family: %{customdata[7]}<br>Genus: %{customdata[8]}<br>Species: %{customdata[9]}<br>EC Number: %{customdata[10]}<br>Mol Weight: %{customdata[11]}<br>Taxonomy ID: %{customdata[12]}<extra></extra>",
         "marker": {
          "color": "rgb(69, 190, 112)",
          "size": 6,
          "symbol": "circle"
         },
         "mode": "markers",
         "text": "methionine adenosyltransferase",
         "type": "scatter3d",
         "x": [
          0.2169561251905919
         ],
         "y": [
          0.007549956522764459
         ],
         "z": [
          -0.1592927008906254
         ]
        },
        {
         "customdata": [
          [
           "methionine adenosyltransferase",
           null,
           "Archaea",
           "Euryarchaeota",
           "Methanomicrobia",
           null,
           null,
           null,
           null,
           "archaeon",
           "2.5.1.6",
           null,
           "taxon:2250255",
           0.009018436895523728,
           0.13328845655894755,
           -0.018796018958501942,
           -0.12641039245911126
          ]
         ],
         "hovertemplate": "<b>%{customdata[0]}</b><br>Family Name: %{customdata[1]}<br>Domain: %{customdata[2]}<br>Kingdom: %{customdata[3]}</b><br>Phylum: %{customdata[4]}<br>Class: %{customdata[5]}<br>Order: %{customdata[6]}<br>Family: %{customdata[7]}<br>Genus: %{customdata[8]}<br>Species: %{customdata[9]}<br>EC Number: %{customdata[10]}<br>Mol Weight: %{customdata[11]}<br>Taxonomy ID: %{customdata[12]}<extra></extra>",
         "marker": {
          "color": "rgb(86, 196, 102)",
          "size": 6,
          "symbol": "circle"
         },
         "mode": "markers",
         "text": "methionine adenosyltransferase",
         "type": "scatter3d",
         "x": [
          0.13328845655894755
         ],
         "y": [
          -0.018796018958501942
         ],
         "z": [
          -0.12641039245911126
         ]
        },
        {
         "customdata": [
          [
           "methionine adenosyltransferase",
           null,
           "Archaea",
           "Euryarchaeota",
           "Methanomicrobia",
           "Methanosarcinaceae",
           null,
           null,
           null,
           "soligelidi",
           "2.5.1.6",
           43757,
           "taxon:1036677",
           0.01172362768703025,
           0.2634647084668689,
           0.053024111523164295,
           -0.13715002946437432
          ]
         ],
         "hovertemplate": "<b>%{customdata[0]}</b><br>Family Name: %{customdata[1]}<br>Domain: %{customdata[2]}<br>Kingdom: %{customdata[3]}</b><br>Phylum: %{customdata[4]}<br>Class: %{customdata[5]}<br>Order: %{customdata[6]}<br>Family: %{customdata[7]}<br>Genus: %{customdata[8]}<br>Species: %{customdata[9]}<br>EC Number: %{customdata[10]}<br>Mol Weight: %{customdata[11]}<br>Taxonomy ID: %{customdata[12]}<extra></extra>",
         "marker": {
          "color": "rgb(217, 226, 40)",
          "size": 6,
          "symbol": "circle"
         },
         "mode": "markers",
         "text": "methionine adenosyltransferase",
         "type": "scatter3d",
         "x": [
          0.2634647084668689
         ],
         "y": [
          0.053024111523164295
         ],
         "z": [
          -0.13715002946437432
         ]
        },
        {
         "customdata": [
          [
           "methionine adenosyltransferase",
           null,
           "Archaea",
           "Euryarchaeota",
           "Methanomicrobia",
           "Methanosarcinaceae",
           null,
           null,
           null,
           "sp.",
           "2.5.1.6",
           null,
           "taxon:2213",
           0,
           0.3002628992837637,
           0.02361889310500253,
           -0.14699929249800786
          ]
         ],
         "hovertemplate": "<b>%{customdata[0]}</b><br>Family Name: %{customdata[1]}<br>Domain: %{customdata[2]}<br>Kingdom: %{customdata[3]}</b><br>Phylum: %{customdata[4]}<br>Class: %{customdata[5]}<br>Order: %{customdata[6]}<br>Family: %{customdata[7]}<br>Genus: %{customdata[8]}<br>Species: %{customdata[9]}<br>EC Number: %{customdata[10]}<br>Mol Weight: %{customdata[11]}<br>Taxonomy ID: %{customdata[12]}<extra></extra>",
         "marker": {
          "color": "rgb(48, 178, 124)",
          "size": 6,
          "symbol": "circle"
         },
         "mode": "markers",
         "text": "methionine adenosyltransferase",
         "type": "scatter3d",
         "x": [
          0.3002628992837637
         ],
         "y": [
          0.02361889310500253
         ],
         "z": [
          -0.14699929249800786
         ]
        },
        {
         "customdata": [
          [
           "methionine adenosyltransferase",
           null,
           "Archaea",
           "Euryarchaeota",
           null,
           null,
           null,
           null,
           null,
           "archaeon",
           "2.5.1.6",
           null,
           "taxon:2026739",
           0,
           -0.07830602324959206,
           0.2695645799078329,
           0.196220715269361
          ]
         ],
         "hovertemplate": "<b>%{customdata[0]}</b><br>Family Name: %{customdata[1]}<br>Domain: %{customdata[2]}<br>Kingdom: %{customdata[3]}</b><br>Phylum: %{customdata[4]}<br>Class: %{customdata[5]}<br>Order: %{customdata[6]}<br>Family: %{customdata[7]}<br>Genus: %{customdata[8]}<br>Species: %{customdata[9]}<br>EC Number: %{customdata[10]}<br>Mol Weight: %{customdata[11]}<br>Taxonomy ID: %{customdata[12]}<extra></extra>",
         "marker": {
          "color": "rgb(71, 29, 110)",
          "size": 6,
          "symbol": "circle"
         },
         "mode": "markers",
         "text": "methionine adenosyltransferase",
         "type": "scatter3d",
         "x": [
          -0.07830602324959206
         ],
         "y": [
          0.2695645799078329
         ],
         "z": [
          0.196220715269361
         ]
        },
        {
         "customdata": [
          [
           "methionine adenosyltransferase",
           null,
           "Archaea",
           "Euryarchaeota",
           "Archaeoglobales",
           null,
           null,
           null,
           null,
           null,
           "2.5.1.6",
           44356,
           "taxon:2233",
           0.0014790528908061502,
           0.0747189827007383,
           -0.060507730864313554,
           -0.11488240825788393
          ]
         ],
         "hovertemplate": "<b>%{customdata[0]}</b><br>Family Name: %{customdata[1]}<br>Domain: %{customdata[2]}<br>Kingdom: %{customdata[3]}</b><br>Phylum: %{customdata[4]}<br>Class: %{customdata[5]}<br>Order: %{customdata[6]}<br>Family: %{customdata[7]}<br>Genus: %{customdata[8]}<br>Species: %{customdata[9]}<br>EC Number: %{customdata[10]}<br>Mol Weight: %{customdata[11]}<br>Taxonomy ID: %{customdata[12]}<extra></extra>",
         "marker": {
          "color": "rgb(51, 181, 122)",
          "size": 6,
          "symbol": "circle"
         },
         "mode": "markers",
         "text": "methionine adenosyltransferase",
         "type": "scatter3d",
         "x": [
          0.0747189827007383
         ],
         "y": [
          -0.060507730864313554
         ],
         "z": [
          -0.11488240825788393
         ]
        },
        {
         "customdata": [
          [
           "S-adenosylmethionine synthetase",
           null,
           "Archaea",
           null,
           null,
           null,
           null,
           null,
           null,
           "BMS3Bbin15",
           null,
           null,
           "taxon:2005738",
           0.0021065254453519213,
           -0.03779401127016049,
           -0.17136064948284246,
           0.07212429446442839
          ]
         ],
         "hovertemplate": "<b>%{customdata[0]}</b><br>Family Name: %{customdata[1]}<br>Domain: %{customdata[2]}<br>Kingdom: %{customdata[3]}</b><br>Phylum: %{customdata[4]}<br>Class: %{customdata[5]}<br>Order: %{customdata[6]}<br>Family: %{customdata[7]}<br>Genus: %{customdata[8]}<br>Species: %{customdata[9]}<br>EC Number: %{customdata[10]}<br>Mol Weight: %{customdata[11]}<br>Taxonomy ID: %{customdata[12]}<extra></extra>",
         "marker": {
          "color": "rgb(33, 148, 139)",
          "size": 6,
          "symbol": "circle"
         },
         "mode": "markers",
         "text": "S-adenosylmethionine synthetase",
         "type": "scatter3d",
         "x": [
          -0.03779401127016049
         ],
         "y": [
          -0.17136064948284246
         ],
         "z": [
          0.07212429446442839
         ]
        },
        {
         "customdata": [
          [
           "methionine adenosyltransferase",
           null,
           "Archaea",
           "Euryarchaeota",
           "Methanomicrobia",
           "Methanotrichaceae",
           null,
           null,
           null,
           "sp.",
           "2.5.1.6",
           43288,
           "taxon:90426",
           0.00472681516666236,
           0.1159210506348318,
           0.05736264190046572,
           0.09519346342671303
          ]
         ],
         "hovertemplate": "<b>%{customdata[0]}</b><br>Family Name: %{customdata[1]}<br>Domain: %{customdata[2]}<br>Kingdom: %{customdata[3]}</b><br>Phylum: %{customdata[4]}<br>Class: %{customdata[5]}<br>Order: %{customdata[6]}<br>Family: %{customdata[7]}<br>Genus: %{customdata[8]}<br>Species: %{customdata[9]}<br>EC Number: %{customdata[10]}<br>Mol Weight: %{customdata[11]}<br>Taxonomy ID: %{customdata[12]}<extra></extra>",
         "marker": {
          "color": "rgb(238, 229, 38)",
          "size": 6,
          "symbol": "circle"
         },
         "mode": "markers",
         "text": "methionine adenosyltransferase",
         "type": "scatter3d",
         "x": [
          0.1159210506348318
         ],
         "y": [
          0.05736264190046572
         ],
         "z": [
          0.09519346342671303
         ]
        },
        {
         "customdata": [
          [
           "S-adenosylmethionine synthetase",
           null,
           "Archaea",
           null,
           null,
           null,
           null,
           null,
           null,
           null,
           null,
           null,
           "taxon:1906665",
           0.0002200028141701629,
           -0.05983717258214162,
           -0.20716690312183195,
           0.0963381960113144
          ]
         ],
         "hovertemplate": "<b>%{customdata[0]}</b><br>Family Name: %{customdata[1]}<br>Domain: %{customdata[2]}<br>Kingdom: %{customdata[3]}</b><br>Phylum: %{customdata[4]}<br>Class: %{customdata[5]}<br>Order: %{customdata[6]}<br>Family: %{customdata[7]}<br>Genus: %{customdata[8]}<br>Species: %{customdata[9]}<br>EC Number: %{customdata[10]}<br>Mol Weight: %{customdata[11]}<br>Taxonomy ID: %{customdata[12]}<extra></extra>",
         "marker": {
          "color": "rgb(40, 126, 142)",
          "size": 6,
          "symbol": "circle"
         },
         "mode": "markers",
         "text": "S-adenosylmethionine synthetase",
         "type": "scatter3d",
         "x": [
          -0.05983717258214162
         ],
         "y": [
          -0.20716690312183195
         ],
         "z": [
          0.0963381960113144
         ]
        },
        {
         "customdata": [
          [
           "methionine adenosyltransferase",
           null,
           "Archaea",
           "Euryarchaeota",
           "Methanomicrobia",
           "Methanotrichaceae",
           null,
           null,
           null,
           "sp.",
           "2.5.1.6",
           43259,
           "taxon:90426",
           0.009899377352119786,
           0.08557077278064827,
           0.049206825734654715,
           0.08837739370974074
          ]
         ],
         "hovertemplate": "<b>%{customdata[0]}</b><br>Family Name: %{customdata[1]}<br>Domain: %{customdata[2]}<br>Kingdom: %{customdata[3]}</b><br>Phylum: %{customdata[4]}<br>Class: %{customdata[5]}<br>Order: %{customdata[6]}<br>Family: %{customdata[7]}<br>Genus: %{customdata[8]}<br>Species: %{customdata[9]}<br>EC Number: %{customdata[10]}<br>Mol Weight: %{customdata[11]}<br>Taxonomy ID: %{customdata[12]}<extra></extra>",
         "marker": {
          "color": "rgb(238, 229, 38)",
          "size": 6,
          "symbol": "circle"
         },
         "mode": "markers",
         "text": "methionine adenosyltransferase",
         "type": "scatter3d",
         "x": [
          0.08557077278064827
         ],
         "y": [
          0.049206825734654715
         ],
         "z": [
          0.08837739370974074
         ]
        },
        {
         "customdata": [
          [
           "methionine adenosyltransferase",
           null,
           "Archaea",
           "Euryarchaeota",
           "Methanomicrobia",
           "Methanosarcinaceae",
           null,
           null,
           null,
           "sp.",
           "2.5.1.6",
           43852,
           "taxon:2213",
           0,
           0.29747284370091787,
           0.030266955285712212,
           -0.18710990452849632
          ]
         ],
         "hovertemplate": "<b>%{customdata[0]}</b><br>Family Name: %{customdata[1]}<br>Domain: %{customdata[2]}<br>Kingdom: %{customdata[3]}</b><br>Phylum: %{customdata[4]}<br>Class: %{customdata[5]}<br>Order: %{customdata[6]}<br>Family: %{customdata[7]}<br>Genus: %{customdata[8]}<br>Species: %{customdata[9]}<br>EC Number: %{customdata[10]}<br>Mol Weight: %{customdata[11]}<br>Taxonomy ID: %{customdata[12]}<extra></extra>",
         "marker": {
          "color": "rgb(48, 178, 124)",
          "size": 6,
          "symbol": "circle"
         },
         "mode": "markers",
         "text": "methionine adenosyltransferase",
         "type": "scatter3d",
         "x": [
          0.29747284370091787
         ],
         "y": [
          0.030266955285712212
         ],
         "z": [
          -0.18710990452849632
         ]
        },
        {
         "customdata": [
          [
           "methionine adenosyltransferase",
           null,
           "Archaea",
           "Euryarchaeota",
           "Methanomicrobia",
           "Candidatus Methanoperedenaceae",
           null,
           null,
           null,
           "Methanoperedens",
           "2.5.1.6",
           null,
           "taxon:2032688",
           0.02276710636881347,
           0.22011828716868387,
           0.0011006574856103621,
           -0.15196493289049243
          ]
         ],
         "hovertemplate": "<b>%{customdata[0]}</b><br>Family Name: %{customdata[1]}<br>Domain: %{customdata[2]}<br>Kingdom: %{customdata[3]}</b><br>Phylum: %{customdata[4]}<br>Class: %{customdata[5]}<br>Order: %{customdata[6]}<br>Family: %{customdata[7]}<br>Genus: %{customdata[8]}<br>Species: %{customdata[9]}<br>EC Number: %{customdata[10]}<br>Mol Weight: %{customdata[11]}<br>Taxonomy ID: %{customdata[12]}<extra></extra>",
         "marker": {
          "color": "rgb(69, 190, 112)",
          "size": 6,
          "symbol": "circle"
         },
         "mode": "markers",
         "text": "methionine adenosyltransferase",
         "type": "scatter3d",
         "x": [
          0.22011828716868387
         ],
         "y": [
          0.0011006574856103621
         ],
         "z": [
          -0.15196493289049243
         ]
        },
        {
         "customdata": [
          [
           "S-adenosylmethionine synthetase",
           null,
           "Archaea",
           "Euryarchaeota",
           null,
           null,
           null,
           null,
           null,
           "archaeon",
           null,
           null,
           "taxon:2026739",
           0,
           0.3050949845343222,
           0.029472139635113765,
           -0.1623313308008006
          ]
         ],
         "hovertemplate": "<b>%{customdata[0]}</b><br>Family Name: %{customdata[1]}<br>Domain: %{customdata[2]}<br>Kingdom: %{customdata[3]}</b><br>Phylum: %{customdata[4]}<br>Class: %{customdata[5]}<br>Order: %{customdata[6]}<br>Family: %{customdata[7]}<br>Genus: %{customdata[8]}<br>Species: %{customdata[9]}<br>EC Number: %{customdata[10]}<br>Mol Weight: %{customdata[11]}<br>Taxonomy ID: %{customdata[12]}<extra></extra>",
         "marker": {
          "color": "rgb(71, 29, 110)",
          "size": 6,
          "symbol": "circle"
         },
         "mode": "markers",
         "text": "S-adenosylmethionine synthetase",
         "type": "scatter3d",
         "x": [
          0.3050949845343222
         ],
         "y": [
          0.029472139635113765
         ],
         "z": [
          -0.1623313308008006
         ]
        },
        {
         "customdata": [
          [
           "methionine adenosyltransferase",
           null,
           "Archaea",
           "Thermoproteota",
           null,
           null,
           null,
           null,
           null,
           "archaeon",
           "2.5.1.6",
           null,
           "taxon:2250277",
           0,
           0.43034759828355507,
           0.8002231142390922,
           0.683553582190396
          ]
         ],
         "hovertemplate": "<b>%{customdata[0]}</b><br>Family Name: %{customdata[1]}<br>Domain: %{customdata[2]}<br>Kingdom: %{customdata[3]}</b><br>Phylum: %{customdata[4]}<br>Class: %{customdata[5]}<br>Order: %{customdata[6]}<br>Family: %{customdata[7]}<br>Genus: %{customdata[8]}<br>Species: %{customdata[9]}<br>EC Number: %{customdata[10]}<br>Mol Weight: %{customdata[11]}<br>Taxonomy ID: %{customdata[12]}<extra></extra>",
         "marker": {
          "color": "rgb(156, 216, 59)",
          "size": 6,
          "symbol": "circle"
         },
         "mode": "markers",
         "text": "methionine adenosyltransferase",
         "type": "scatter3d",
         "x": [
          0.43034759828355507
         ],
         "y": [
          0.8002231142390922
         ],
         "z": [
          0.683553582190396
         ]
        },
        {
         "customdata": [
          [
           "methionine adenosyltransferase",
           null,
           "Archaea",
           "Euryarchaeota",
           "Methanomicrobia",
           "Methanosarcinaceae",
           null,
           null,
           null,
           "siciliae",
           "2.5.1.6",
           44091,
           "taxon:38027",
           0.0023820807339269483,
           0.2628764193074441,
           0.028095757016915805,
           -0.17894504413833756
          ]
         ],
         "hovertemplate": "<b>%{customdata[0]}</b><br>Family Name: %{customdata[1]}<br>Domain: %{customdata[2]}<br>Kingdom: %{customdata[3]}</b><br>Phylum: %{customdata[4]}<br>Class: %{customdata[5]}<br>Order: %{customdata[6]}<br>Family: %{customdata[7]}<br>Genus: %{customdata[8]}<br>Species: %{customdata[9]}<br>EC Number: %{customdata[10]}<br>Mol Weight: %{customdata[11]}<br>Taxonomy ID: %{customdata[12]}<extra></extra>",
         "marker": {
          "color": "rgb(125, 209, 78)",
          "size": 6,
          "symbol": "circle"
         },
         "mode": "markers",
         "text": "methionine adenosyltransferase",
         "type": "scatter3d",
         "x": [
          0.2628764193074441
         ],
         "y": [
          0.028095757016915805
         ],
         "z": [
          -0.17894504413833756
         ]
        },
        {
         "customdata": [
          [
           "methionine adenosyltransferase",
           null,
           "Archaea",
           "Euryarchaeota",
           "Methanomicrobia",
           "Candidatus Methanoperedenaceae",
           null,
           null,
           null,
           "Methanoperedens",
           "2.5.1.6",
           43675,
           "taxon:1392998",
           0,
           0.2971366457537611,
           0.011997279047955294,
           -0.17293460160942487
          ]
         ],
         "hovertemplate": "<b>%{customdata[0]}</b><br>Family Name: %{customdata[1]}<br>Domain: %{customdata[2]}<br>Kingdom: %{customdata[3]}</b><br>Phylum: %{customdata[4]}<br>Class: %{customdata[5]}<br>Order: %{customdata[6]}<br>Family: %{customdata[7]}<br>Genus: %{customdata[8]}<br>Species: %{customdata[9]}<br>EC Number: %{customdata[10]}<br>Mol Weight: %{customdata[11]}<br>Taxonomy ID: %{customdata[12]}<extra></extra>",
         "marker": {
          "color": "rgb(69, 7, 89)",
          "size": 6,
          "symbol": "circle"
         },
         "mode": "markers",
         "text": "methionine adenosyltransferase",
         "type": "scatter3d",
         "x": [
          0.2971366457537611
         ],
         "y": [
          0.011997279047955294
         ],
         "z": [
          -0.17293460160942487
         ]
        },
        {
         "customdata": [
          [
           "methionine adenosyltransferase",
           null,
           "Archaea",
           "Euryarchaeota",
           "Methanomicrobia",
           null,
           null,
           null,
           null,
           "archaeon",
           "2.5.1.6",
           null,
           "taxon:2250255",
           0,
           0.23461021730454204,
           0.14896423382855759,
           -0.15326813486266475
          ]
         ],
         "hovertemplate": "<b>%{customdata[0]}</b><br>Family Name: %{customdata[1]}<br>Domain: %{customdata[2]}<br>Kingdom: %{customdata[3]}</b><br>Phylum: %{customdata[4]}<br>Class: %{customdata[5]}<br>Order: %{customdata[6]}<br>Family: %{customdata[7]}<br>Genus: %{customdata[8]}<br>Species: %{customdata[9]}<br>EC Number: %{customdata[10]}<br>Mol Weight: %{customdata[11]}<br>Taxonomy ID: %{customdata[12]}<extra></extra>",
         "marker": {
          "color": "rgb(86, 196, 102)",
          "size": 6,
          "symbol": "circle"
         },
         "mode": "markers",
         "text": "methionine adenosyltransferase",
         "type": "scatter3d",
         "x": [
          0.23461021730454204
         ],
         "y": [
          0.14896423382855759
         ],
         "z": [
          -0.15326813486266475
         ]
        },
        {
         "customdata": [
          [
           "methionine adenosyltransferase",
           null,
           "Archaea",
           "Euryarchaeota",
           "Archaeoglobales",
           null,
           null,
           null,
           null,
           "archaeon",
           "2.5.1.6",
           null,
           "taxon:2250258",
           0.0006005914554911914,
           0.08543618901234404,
           -0.07220818633741313,
           -0.13785375665535257
          ]
         ],
         "hovertemplate": "<b>%{customdata[0]}</b><br>Family Name: %{customdata[1]}<br>Domain: %{customdata[2]}<br>Kingdom: %{customdata[3]}</b><br>Phylum: %{customdata[4]}<br>Class: %{customdata[5]}<br>Order: %{customdata[6]}<br>Family: %{customdata[7]}<br>Genus: %{customdata[8]}<br>Species: %{customdata[9]}<br>EC Number: %{customdata[10]}<br>Mol Weight: %{customdata[11]}<br>Taxonomy ID: %{customdata[12]}<extra></extra>",
         "marker": {
          "color": "rgb(71, 42, 121)",
          "size": 6,
          "symbol": "circle"
         },
         "mode": "markers",
         "text": "methionine adenosyltransferase",
         "type": "scatter3d",
         "x": [
          0.08543618901234404
         ],
         "y": [
          -0.07220818633741313
         ],
         "z": [
          -0.13785375665535257
         ]
        },
        {
         "customdata": [
          [
           "methionine adenosyltransferase",
           null,
           "Archaea",
           "Candidatus Hydrothermarchaeota",
           "Candidatus Hydrothermarchaeales",
           null,
           null,
           null,
           null,
           "Hydrothermarchaeales",
           "2.5.1.6",
           null,
           "taxon:3107144",
           0.000643113733994784,
           -0.026942887109690426,
           -0.21566826699378078,
           0.10809072574100988
          ]
         ],
         "hovertemplate": "<b>%{customdata[0]}</b><br>Family Name: %{customdata[1]}<br>Domain: %{customdata[2]}<br>Kingdom: %{customdata[3]}</b><br>Phylum: %{customdata[4]}<br>Class: %{customdata[5]}<br>Order: %{customdata[6]}<br>Family: %{customdata[7]}<br>Genus: %{customdata[8]}<br>Species: %{customdata[9]}<br>EC Number: %{customdata[10]}<br>Mol Weight: %{customdata[11]}<br>Taxonomy ID: %{customdata[12]}<extra></extra>",
         "marker": {
          "color": "rgb(36, 138, 141)",
          "size": 6,
          "symbol": "circle"
         },
         "mode": "markers",
         "text": "methionine adenosyltransferase",
         "type": "scatter3d",
         "x": [
          -0.026942887109690426
         ],
         "y": [
          -0.21566826699378078
         ],
         "z": [
          0.10809072574100988
         ]
        },
        {
         "customdata": [
          [
           "methionine adenosyltransferase",
           null,
           "Archaea",
           "Euryarchaeota",
           "Methanomicrobia",
           "Methanosarcinaceae",
           null,
           null,
           null,
           "sp.",
           "2.5.1.6",
           null,
           "taxon:2213",
           0,
           0.29742982931257633,
           0.044098110687132215,
           -0.17845355435437565
          ]
         ],
         "hovertemplate": "<b>%{customdata[0]}</b><br>Family Name: %{customdata[1]}<br>Domain: %{customdata[2]}<br>Kingdom: %{customdata[3]}</b><br>Phylum: %{customdata[4]}<br>Class: %{customdata[5]}<br>Order: %{customdata[6]}<br>Family: %{customdata[7]}<br>Genus: %{customdata[8]}<br>Species: %{customdata[9]}<br>EC Number: %{customdata[10]}<br>Mol Weight: %{customdata[11]}<br>Taxonomy ID: %{customdata[12]}<extra></extra>",
         "marker": {
          "color": "rgb(48, 178, 124)",
          "size": 6,
          "symbol": "circle"
         },
         "mode": "markers",
         "text": "methionine adenosyltransferase",
         "type": "scatter3d",
         "x": [
          0.29742982931257633
         ],
         "y": [
          0.044098110687132215
         ],
         "z": [
          -0.17845355435437565
         ]
        },
        {
         "customdata": [
          [
           "methionine adenosyltransferase",
           null,
           "Archaea",
           "Euryarchaeota",
           "Archaeoglobales",
           "Archaeoglobus",
           null,
           null,
           null,
           "sp.",
           "2.5.1.6",
           44154,
           "taxon:1872626",
           0.00054476066377747,
           0.045259361115628394,
           -0.03825732494933252,
           -0.13411239228851418
          ]
         ],
         "hovertemplate": "<b>%{customdata[0]}</b><br>Family Name: %{customdata[1]}<br>Domain: %{customdata[2]}<br>Kingdom: %{customdata[3]}</b><br>Phylum: %{customdata[4]}<br>Class: %{customdata[5]}<br>Order: %{customdata[6]}<br>Family: %{customdata[7]}<br>Genus: %{customdata[8]}<br>Species: %{customdata[9]}<br>EC Number: %{customdata[10]}<br>Mol Weight: %{customdata[11]}<br>Taxonomy ID: %{customdata[12]}<extra></extra>",
         "marker": {
          "color": "rgb(40, 169, 130)",
          "size": 6,
          "symbol": "circle"
         },
         "mode": "markers",
         "text": "methionine adenosyltransferase",
         "type": "scatter3d",
         "x": [
          0.045259361115628394
         ],
         "y": [
          -0.03825732494933252
         ],
         "z": [
          -0.13411239228851418
         ]
        },
        {
         "customdata": [
          [
           "methionine adenosyltransferase",
           null,
           "Archaea",
           "Euryarchaeota",
           "Methanomicrobia",
           "Methanosarcinaceae",
           null,
           null,
           null,
           "horonobensis",
           "2.5.1.6",
           43948,
           "taxon:418008",
           0,
           0.29831531056169935,
           0.041345076596147404,
           -0.14464143189740314
          ]
         ],
         "hovertemplate": "<b>%{customdata[0]}</b><br>Family Name: %{customdata[1]}<br>Domain: %{customdata[2]}<br>Kingdom: %{customdata[3]}</b><br>Phylum: %{customdata[4]}<br>Class: %{customdata[5]}<br>Order: %{customdata[6]}<br>Family: %{customdata[7]}<br>Genus: %{customdata[8]}<br>Species: %{customdata[9]}<br>EC Number: %{customdata[10]}<br>Mol Weight: %{customdata[11]}<br>Taxonomy ID: %{customdata[12]}<extra></extra>",
         "marker": {
          "color": "rgb(71, 45, 122)",
          "size": 6,
          "symbol": "circle"
         },
         "mode": "markers",
         "text": "methionine adenosyltransferase",
         "type": "scatter3d",
         "x": [
          0.29831531056169935
         ],
         "y": [
          0.041345076596147404
         ],
         "z": [
          -0.14464143189740314
         ]
        },
        {
         "customdata": [
          [
           "methionine adenosyltransferase",
           null,
           "Archaea",
           "Euryarchaeota",
           "Methanomicrobia",
           "Candidatus Methanoperedenaceae",
           null,
           null,
           null,
           "Methanoperedens",
           "2.5.1.6",
           null,
           "taxon:2032688",
           0.0008213183289618789,
           0.2621010460629098,
           0.013619165094748902,
           -0.16210787160173348
          ]
         ],
         "hovertemplate": "<b>%{customdata[0]}</b><br>Family Name: %{customdata[1]}<br>Domain: %{customdata[2]}<br>Kingdom: %{customdata[3]}</b><br>Phylum: %{customdata[4]}<br>Class: %{customdata[5]}<br>Order: %{customdata[6]}<br>Family: %{customdata[7]}<br>Genus: %{customdata[8]}<br>Species: %{customdata[9]}<br>EC Number: %{customdata[10]}<br>Mol Weight: %{customdata[11]}<br>Taxonomy ID: %{customdata[12]}<extra></extra>",
         "marker": {
          "color": "rgb(69, 190, 112)",
          "size": 6,
          "symbol": "circle"
         },
         "mode": "markers",
         "text": "methionine adenosyltransferase",
         "type": "scatter3d",
         "x": [
          0.2621010460629098
         ],
         "y": [
          0.013619165094748902
         ],
         "z": [
          -0.16210787160173348
         ]
        },
        {
         "customdata": [
          [
           "methionine adenosyltransferase",
           null,
           "Archaea",
           "Candidatus Thermoplasmatota",
           "Aciduliprofundum",
           null,
           null,
           null,
           null,
           "Aciduliprofundum",
           "2.5.1.6",
           44094,
           "taxon:379547",
           0,
           -0.11996377650982325,
           -0.04157833950291999,
           -0.7703837396580562
          ]
         ],
         "hovertemplate": "<b>%{customdata[0]}</b><br>Family Name: %{customdata[1]}<br>Domain: %{customdata[2]}<br>Kingdom: %{customdata[3]}</b><br>Phylum: %{customdata[4]}<br>Class: %{customdata[5]}<br>Order: %{customdata[6]}<br>Family: %{customdata[7]}<br>Genus: %{customdata[8]}<br>Species: %{customdata[9]}<br>EC Number: %{customdata[10]}<br>Mol Weight: %{customdata[11]}<br>Taxonomy ID: %{customdata[12]}<extra></extra>",
         "marker": {
          "color": "rgb(43, 119, 142)",
          "size": 6,
          "symbol": "circle"
         },
         "mode": "markers",
         "text": "methionine adenosyltransferase",
         "type": "scatter3d",
         "x": [
          -0.11996377650982325
         ],
         "y": [
          -0.04157833950291999
         ],
         "z": [
          -0.7703837396580562
         ]
        },
        {
         "customdata": [
          [
           "S-adenosylmethionine synthetase",
           null,
           "Archaea",
           "Candidatus Thermoplasmatota",
           "Aciduliprofundum",
           null,
           null,
           null,
           null,
           "boonei",
           "2.5.1.6",
           null,
           "taxon:439481",
           0,
           -0.10121797019982949,
           -0.04685324777038483,
           -0.7129227712464358
          ]
         ],
         "hovertemplate": "<b>%{customdata[0]}</b><br>Family Name: %{customdata[1]}<br>Domain: %{customdata[2]}<br>Kingdom: %{customdata[3]}</b><br>Phylum: %{customdata[4]}<br>Class: %{customdata[5]}<br>Order: %{customdata[6]}<br>Family: %{customdata[7]}<br>Genus: %{customdata[8]}<br>Species: %{customdata[9]}<br>EC Number: %{customdata[10]}<br>Mol Weight: %{customdata[11]}<br>Taxonomy ID: %{customdata[12]}<extra></extra>",
         "marker": {
          "color": "rgb(115, 207, 85)",
          "size": 6,
          "symbol": "circle"
         },
         "mode": "markers",
         "text": "S-adenosylmethionine synthetase",
         "type": "scatter3d",
         "x": [
          -0.10121797019982949
         ],
         "y": [
          -0.04685324777038483
         ],
         "z": [
          -0.7129227712464358
         ]
        },
        {
         "customdata": [
          [
           "S-adenosylmethionine synthase",
           null,
           "Archaea",
           "Euryarchaeota",
           "Methanomicrobia",
           "Methanotrichaceae",
           null,
           null,
           null,
           "sp.",
           "2.5.1.6",
           null,
           "taxon:1811685",
           0,
           0.21849963913638762,
           0.08927268312937013,
           0.10431829259323369
          ]
         ],
         "hovertemplate": "<b>%{customdata[0]}</b><br>Family Name: %{customdata[1]}<br>Domain: %{customdata[2]}<br>Kingdom: %{customdata[3]}</b><br>Phylum: %{customdata[4]}<br>Class: %{customdata[5]}<br>Order: %{customdata[6]}<br>Family: %{customdata[7]}<br>Genus: %{customdata[8]}<br>Species: %{customdata[9]}<br>EC Number: %{customdata[10]}<br>Mol Weight: %{customdata[11]}<br>Taxonomy ID: %{customdata[12]}<extra></extra>",
         "marker": {
          "color": "rgb(171, 220, 49)",
          "size": 6,
          "symbol": "circle"
         },
         "mode": "markers",
         "text": "S-adenosylmethionine synthase",
         "type": "scatter3d",
         "x": [
          0.21849963913638762
         ],
         "y": [
          0.08927268312937013
         ],
         "z": [
          0.10431829259323369
         ]
        },
        {
         "customdata": [
          [
           "methionine adenosyltransferase",
           null,
           "Archaea",
           "Euryarchaeota",
           "Methanomicrobia",
           "Methermicoccaceae",
           null,
           null,
           null,
           "shengliensis",
           "2.5.1.6",
           null,
           "taxon:660064",
           0.008140291930396198,
           0.14399751171237338,
           -0.03607584055783106,
           -0.16701316311277864
          ]
         ],
         "hovertemplate": "<b>%{customdata[0]}</b><br>Family Name: %{customdata[1]}<br>Domain: %{customdata[2]}<br>Kingdom: %{customdata[3]}</b><br>Phylum: %{customdata[4]}<br>Class: %{customdata[5]}<br>Order: %{customdata[6]}<br>Family: %{customdata[7]}<br>Genus: %{customdata[8]}<br>Species: %{customdata[9]}<br>EC Number: %{customdata[10]}<br>Mol Weight: %{customdata[11]}<br>Taxonomy ID: %{customdata[12]}<extra></extra>",
         "marker": {
          "color": "rgb(46, 111, 142)",
          "size": 6,
          "symbol": "circle"
         },
         "mode": "markers",
         "text": "methionine adenosyltransferase",
         "type": "scatter3d",
         "x": [
          0.14399751171237338
         ],
         "y": [
          -0.03607584055783106
         ],
         "z": [
          -0.16701316311277864
         ]
        },
        {
         "customdata": [
          [
           "methionine adenosyltransferase",
           null,
           "Archaea",
           "Euryarchaeota",
           "Methanococci",
           "Methanocaldococcaceae",
           null,
           null,
           null,
           "lauensis",
           "2.5.1.6",
           45138,
           "taxon:2546128",
           0.0008159868029910761,
           -0.06488455834952937,
           -0.012943066567424088,
           0.08454860316179402
          ]
         ],
         "hovertemplate": "<b>%{customdata[0]}</b><br>Family Name: %{customdata[1]}<br>Domain: %{customdata[2]}<br>Kingdom: %{customdata[3]}</b><br>Phylum: %{customdata[4]}<br>Class: %{customdata[5]}<br>Order: %{customdata[6]}<br>Family: %{customdata[7]}<br>Genus: %{customdata[8]}<br>Species: %{customdata[9]}<br>EC Number: %{customdata[10]}<br>Mol Weight: %{customdata[11]}<br>Taxonomy ID: %{customdata[12]}<extra></extra>",
         "marker": {
          "color": "rgb(42, 171, 129)",
          "size": 6,
          "symbol": "circle"
         },
         "mode": "markers",
         "text": "methionine adenosyltransferase",
         "type": "scatter3d",
         "x": [
          -0.06488455834952937
         ],
         "y": [
          -0.012943066567424088
         ],
         "z": [
          0.08454860316179402
         ]
        },
        {
         "customdata": [
          [
           "methionine adenosyltransferase",
           null,
           "Archaea",
           "Euryarchaeota",
           "Methanomicrobia",
           "Candidatus Methanoperedenaceae",
           null,
           null,
           null,
           "Methanoperedenaceae",
           "2.5.1.6",
           null,
           "taxon:2072416",
           0.0008213183289618789,
           0.2659913984135081,
           0.0003794116672527822,
           -0.16932290948845521
          ]
         ],
         "hovertemplate": "<b>%{customdata[0]}</b><br>Family Name: %{customdata[1]}<br>Domain: %{customdata[2]}<br>Kingdom: %{customdata[3]}</b><br>Phylum: %{customdata[4]}<br>Class: %{customdata[5]}<br>Order: %{customdata[6]}<br>Family: %{customdata[7]}<br>Genus: %{customdata[8]}<br>Species: %{customdata[9]}<br>EC Number: %{customdata[10]}<br>Mol Weight: %{customdata[11]}<br>Taxonomy ID: %{customdata[12]}<extra></extra>",
         "marker": {
          "color": "rgb(37, 134, 141)",
          "size": 6,
          "symbol": "circle"
         },
         "mode": "markers",
         "text": "methionine adenosyltransferase",
         "type": "scatter3d",
         "x": [
          0.2659913984135081
         ],
         "y": [
          0.0003794116672527822
         ],
         "z": [
          -0.16932290948845521
         ]
        },
        {
         "customdata": [
          [
           "methionine adenosyltransferase",
           null,
           "Archaea",
           "Euryarchaeota",
           "Methanomicrobia",
           "Methermicoccaceae",
           null,
           null,
           null,
           "shengliensis",
           "2.5.1.6",
           44545,
           "taxon:660064",
           0.008140291930396198,
           0.14724557885948272,
           -0.03718044351759806,
           -0.1566698400402454
          ]
         ],
         "hovertemplate": "<b>%{customdata[0]}</b><br>Family Name: %{customdata[1]}<br>Domain: %{customdata[2]}<br>Kingdom: %{customdata[3]}</b><br>Phylum: %{customdata[4]}<br>Class: %{customdata[5]}<br>Order: %{customdata[6]}<br>Family: %{customdata[7]}<br>Genus: %{customdata[8]}<br>Species: %{customdata[9]}<br>EC Number: %{customdata[10]}<br>Mol Weight: %{customdata[11]}<br>Taxonomy ID: %{customdata[12]}<extra></extra>",
         "marker": {
          "color": "rgb(46, 111, 142)",
          "size": 6,
          "symbol": "circle"
         },
         "mode": "markers",
         "text": "methionine adenosyltransferase",
         "type": "scatter3d",
         "x": [
          0.14724557885948272
         ],
         "y": [
          -0.03718044351759806
         ],
         "z": [
          -0.1566698400402454
         ]
        },
        {
         "customdata": [
          [
           "archaeal S-adenosylmethionine synthetase",
           null,
           "Archaea",
           "Candidatus Thermoplasmatota",
           "Aciduliprofundum",
           null,
           null,
           null,
           null,
           "sp.",
           null,
           null,
           "taxon:673860",
           0,
           -0.11664694739242984,
           -0.07152034642915442,
           -0.7490223558203997
          ]
         ],
         "hovertemplate": "<b>%{customdata[0]}</b><br>Family Name: %{customdata[1]}<br>Domain: %{customdata[2]}<br>Kingdom: %{customdata[3]}</b><br>Phylum: %{customdata[4]}<br>Class: %{customdata[5]}<br>Order: %{customdata[6]}<br>Family: %{customdata[7]}<br>Genus: %{customdata[8]}<br>Species: %{customdata[9]}<br>EC Number: %{customdata[10]}<br>Mol Weight: %{customdata[11]}<br>Taxonomy ID: %{customdata[12]}<extra></extra>",
         "marker": {
          "color": "rgb(130, 211, 75)",
          "size": 6,
          "symbol": "circle"
         },
         "mode": "markers",
         "text": "archaeal S-adenosylmethionine synthetase",
         "type": "scatter3d",
         "x": [
          -0.11664694739242984
         ],
         "y": [
          -0.07152034642915442
         ],
         "z": [
          -0.7490223558203997
         ]
        },
        {
         "customdata": [
          [
           "methionine adenosyltransferase",
           null,
           "Archaea",
           "Euryarchaeota",
           "Archaeoglobales",
           null,
           null,
           null,
           null,
           "archaeon",
           "2.5.1.6",
           null,
           "taxon:2250258",
           0.0033292695842612905,
           0.10249020207848519,
           -0.05330460396601036,
           -0.12527067399083666
          ]
         ],
         "hovertemplate": "<b>%{customdata[0]}</b><br>Family Name: %{customdata[1]}<br>Domain: %{customdata[2]}<br>Kingdom: %{customdata[3]}</b><br>Phylum: %{customdata[4]}<br>Class: %{customdata[5]}<br>Order: %{customdata[6]}<br>Family: %{customdata[7]}<br>Genus: %{customdata[8]}<br>Species: %{customdata[9]}<br>EC Number: %{customdata[10]}<br>Mol Weight: %{customdata[11]}<br>Taxonomy ID: %{customdata[12]}<extra></extra>",
         "marker": {
          "color": "rgb(71, 42, 121)",
          "size": 6,
          "symbol": "circle"
         },
         "mode": "markers",
         "text": "methionine adenosyltransferase",
         "type": "scatter3d",
         "x": [
          0.10249020207848519
         ],
         "y": [
          -0.05330460396601036
         ],
         "z": [
          -0.12527067399083666
         ]
        },
        {
         "customdata": [
          [
           "methionine adenosyltransferase",
           null,
           "Archaea",
           "Euryarchaeota",
           "Methanomicrobia",
           "Candidatus Methanoperedenaceae",
           null,
           null,
           null,
           "Methanoperedens",
           "2.5.1.6",
           null,
           "taxon:2032688",
           0.004430203008708208,
           0.23404964130403996,
           0.007522658533011056,
           -0.16856593286590946
          ]
         ],
         "hovertemplate": "<b>%{customdata[0]}</b><br>Family Name: %{customdata[1]}<br>Domain: %{customdata[2]}<br>Kingdom: %{customdata[3]}</b><br>Phylum: %{customdata[4]}<br>Class: %{customdata[5]}<br>Order: %{customdata[6]}<br>Family: %{customdata[7]}<br>Genus: %{customdata[8]}<br>Species: %{customdata[9]}<br>EC Number: %{customdata[10]}<br>Mol Weight: %{customdata[11]}<br>Taxonomy ID: %{customdata[12]}<extra></extra>",
         "marker": {
          "color": "rgb(69, 190, 112)",
          "size": 6,
          "symbol": "circle"
         },
         "mode": "markers",
         "text": "methionine adenosyltransferase",
         "type": "scatter3d",
         "x": [
          0.23404964130403996
         ],
         "y": [
          0.007522658533011056
         ],
         "z": [
          -0.16856593286590946
         ]
        },
        {
         "customdata": [
          [
           "methionine adenosyltransferase",
           null,
           "Archaea",
           "Euryarchaeota",
           "Methanomicrobia",
           "Candidatus Methanoperedenaceae",
           null,
           null,
           null,
           "Methanoperedens",
           "2.5.1.6",
           null,
           "taxon:2032688",
           0.0016223123891998593,
           0.24965765667714793,
           0.008920697915647023,
           -0.1614269485046464
          ]
         ],
         "hovertemplate": "<b>%{customdata[0]}</b><br>Family Name: %{customdata[1]}<br>Domain: %{customdata[2]}<br>Kingdom: %{customdata[3]}</b><br>Phylum: %{customdata[4]}<br>Class: %{customdata[5]}<br>Order: %{customdata[6]}<br>Family: %{customdata[7]}<br>Genus: %{customdata[8]}<br>Species: %{customdata[9]}<br>EC Number: %{customdata[10]}<br>Mol Weight: %{customdata[11]}<br>Taxonomy ID: %{customdata[12]}<extra></extra>",
         "marker": {
          "color": "rgb(69, 190, 112)",
          "size": 6,
          "symbol": "circle"
         },
         "mode": "markers",
         "text": "methionine adenosyltransferase",
         "type": "scatter3d",
         "x": [
          0.24965765667714793
         ],
         "y": [
          0.008920697915647023
         ],
         "z": [
          -0.1614269485046464
         ]
        },
        {
         "customdata": [
          [
           "methionine adenosyltransferase",
           null,
           "Archaea",
           "Euryarchaeota",
           null,
           null,
           null,
           null,
           null,
           "archaeon",
           "2.5.1.6",
           null,
           "taxon:2250254",
           0,
           -0.14072907951971342,
           -0.03348969445148773,
           0.06062043139626113
          ]
         ],
         "hovertemplate": "<b>%{customdata[0]}</b><br>Family Name: %{customdata[1]}<br>Domain: %{customdata[2]}<br>Kingdom: %{customdata[3]}</b><br>Phylum: %{customdata[4]}<br>Class: %{customdata[5]}<br>Order: %{customdata[6]}<br>Family: %{customdata[7]}<br>Genus: %{customdata[8]}<br>Species: %{customdata[9]}<br>EC Number: %{customdata[10]}<br>Mol Weight: %{customdata[11]}<br>Taxonomy ID: %{customdata[12]}<extra></extra>",
         "marker": {
          "color": "rgb(33, 150, 138)",
          "size": 6,
          "symbol": "circle"
         },
         "mode": "markers",
         "text": "methionine adenosyltransferase",
         "type": "scatter3d",
         "x": [
          -0.14072907951971342
         ],
         "y": [
          -0.03348969445148773
         ],
         "z": [
          0.06062043139626113
         ]
        }
       ],
       "layout": {
        "hovermode": "closest",
        "margin": {
         "b": 0,
         "l": 0,
         "r": 0,
         "t": 0
        },
        "plot_bgcolor": "white",
        "scene": {
         "xaxis": {
          "visible": false
         },
         "yaxis": {
          "visible": false
         },
         "zaxis": {
          "visible": false
         }
        },
        "showlegend": false,
        "template": {
         "data": {
          "bar": [
           {
            "error_x": {
             "color": "#2a3f5f"
            },
            "error_y": {
             "color": "#2a3f5f"
            },
            "marker": {
             "line": {
              "color": "#E5ECF6",
              "width": 0.5
             },
             "pattern": {
              "fillmode": "overlay",
              "size": 10,
              "solidity": 0.2
             }
            },
            "type": "bar"
           }
          ],
          "barpolar": [
           {
            "marker": {
             "line": {
              "color": "#E5ECF6",
              "width": 0.5
             },
             "pattern": {
              "fillmode": "overlay",
              "size": 10,
              "solidity": 0.2
             }
            },
            "type": "barpolar"
           }
          ],
          "carpet": [
           {
            "aaxis": {
             "endlinecolor": "#2a3f5f",
             "gridcolor": "white",
             "linecolor": "white",
             "minorgridcolor": "white",
             "startlinecolor": "#2a3f5f"
            },
            "baxis": {
             "endlinecolor": "#2a3f5f",
             "gridcolor": "white",
             "linecolor": "white",
             "minorgridcolor": "white",
             "startlinecolor": "#2a3f5f"
            },
            "type": "carpet"
           }
          ],
          "choropleth": [
           {
            "colorbar": {
             "outlinewidth": 0,
             "ticks": ""
            },
            "type": "choropleth"
           }
          ],
          "contour": [
           {
            "colorbar": {
             "outlinewidth": 0,
             "ticks": ""
            },
            "colorscale": [
             [
              0,
              "#0d0887"
             ],
             [
              0.1111111111111111,
              "#46039f"
             ],
             [
              0.2222222222222222,
              "#7201a8"
             ],
             [
              0.3333333333333333,
              "#9c179e"
             ],
             [
              0.4444444444444444,
              "#bd3786"
             ],
             [
              0.5555555555555556,
              "#d8576b"
             ],
             [
              0.6666666666666666,
              "#ed7953"
             ],
             [
              0.7777777777777778,
              "#fb9f3a"
             ],
             [
              0.8888888888888888,
              "#fdca26"
             ],
             [
              1,
              "#f0f921"
             ]
            ],
            "type": "contour"
           }
          ],
          "contourcarpet": [
           {
            "colorbar": {
             "outlinewidth": 0,
             "ticks": ""
            },
            "type": "contourcarpet"
           }
          ],
          "heatmap": [
           {
            "colorbar": {
             "outlinewidth": 0,
             "ticks": ""
            },
            "colorscale": [
             [
              0,
              "#0d0887"
             ],
             [
              0.1111111111111111,
              "#46039f"
             ],
             [
              0.2222222222222222,
              "#7201a8"
             ],
             [
              0.3333333333333333,
              "#9c179e"
             ],
             [
              0.4444444444444444,
              "#bd3786"
             ],
             [
              0.5555555555555556,
              "#d8576b"
             ],
             [
              0.6666666666666666,
              "#ed7953"
             ],
             [
              0.7777777777777778,
              "#fb9f3a"
             ],
             [
              0.8888888888888888,
              "#fdca26"
             ],
             [
              1,
              "#f0f921"
             ]
            ],
            "type": "heatmap"
           }
          ],
          "heatmapgl": [
           {
            "colorbar": {
             "outlinewidth": 0,
             "ticks": ""
            },
            "colorscale": [
             [
              0,
              "#0d0887"
             ],
             [
              0.1111111111111111,
              "#46039f"
             ],
             [
              0.2222222222222222,
              "#7201a8"
             ],
             [
              0.3333333333333333,
              "#9c179e"
             ],
             [
              0.4444444444444444,
              "#bd3786"
             ],
             [
              0.5555555555555556,
              "#d8576b"
             ],
             [
              0.6666666666666666,
              "#ed7953"
             ],
             [
              0.7777777777777778,
              "#fb9f3a"
             ],
             [
              0.8888888888888888,
              "#fdca26"
             ],
             [
              1,
              "#f0f921"
             ]
            ],
            "type": "heatmapgl"
           }
          ],
          "histogram": [
           {
            "marker": {
             "pattern": {
              "fillmode": "overlay",
              "size": 10,
              "solidity": 0.2
             }
            },
            "type": "histogram"
           }
          ],
          "histogram2d": [
           {
            "colorbar": {
             "outlinewidth": 0,
             "ticks": ""
            },
            "colorscale": [
             [
              0,
              "#0d0887"
             ],
             [
              0.1111111111111111,
              "#46039f"
             ],
             [
              0.2222222222222222,
              "#7201a8"
             ],
             [
              0.3333333333333333,
              "#9c179e"
             ],
             [
              0.4444444444444444,
              "#bd3786"
             ],
             [
              0.5555555555555556,
              "#d8576b"
             ],
             [
              0.6666666666666666,
              "#ed7953"
             ],
             [
              0.7777777777777778,
              "#fb9f3a"
             ],
             [
              0.8888888888888888,
              "#fdca26"
             ],
             [
              1,
              "#f0f921"
             ]
            ],
            "type": "histogram2d"
           }
          ],
          "histogram2dcontour": [
           {
            "colorbar": {
             "outlinewidth": 0,
             "ticks": ""
            },
            "colorscale": [
             [
              0,
              "#0d0887"
             ],
             [
              0.1111111111111111,
              "#46039f"
             ],
             [
              0.2222222222222222,
              "#7201a8"
             ],
             [
              0.3333333333333333,
              "#9c179e"
             ],
             [
              0.4444444444444444,
              "#bd3786"
             ],
             [
              0.5555555555555556,
              "#d8576b"
             ],
             [
              0.6666666666666666,
              "#ed7953"
             ],
             [
              0.7777777777777778,
              "#fb9f3a"
             ],
             [
              0.8888888888888888,
              "#fdca26"
             ],
             [
              1,
              "#f0f921"
             ]
            ],
            "type": "histogram2dcontour"
           }
          ],
          "mesh3d": [
           {
            "colorbar": {
             "outlinewidth": 0,
             "ticks": ""
            },
            "type": "mesh3d"
           }
          ],
          "parcoords": [
           {
            "line": {
             "colorbar": {
              "outlinewidth": 0,
              "ticks": ""
             }
            },
            "type": "parcoords"
           }
          ],
          "pie": [
           {
            "automargin": true,
            "type": "pie"
           }
          ],
          "scatter": [
           {
            "fillpattern": {
             "fillmode": "overlay",
             "size": 10,
             "solidity": 0.2
            },
            "type": "scatter"
           }
          ],
          "scatter3d": [
           {
            "line": {
             "colorbar": {
              "outlinewidth": 0,
              "ticks": ""
             }
            },
            "marker": {
             "colorbar": {
              "outlinewidth": 0,
              "ticks": ""
             }
            },
            "type": "scatter3d"
           }
          ],
          "scattercarpet": [
           {
            "marker": {
             "colorbar": {
              "outlinewidth": 0,
              "ticks": ""
             }
            },
            "type": "scattercarpet"
           }
          ],
          "scattergeo": [
           {
            "marker": {
             "colorbar": {
              "outlinewidth": 0,
              "ticks": ""
             }
            },
            "type": "scattergeo"
           }
          ],
          "scattergl": [
           {
            "marker": {
             "colorbar": {
              "outlinewidth": 0,
              "ticks": ""
             }
            },
            "type": "scattergl"
           }
          ],
          "scattermapbox": [
           {
            "marker": {
             "colorbar": {
              "outlinewidth": 0,
              "ticks": ""
             }
            },
            "type": "scattermapbox"
           }
          ],
          "scatterpolar": [
           {
            "marker": {
             "colorbar": {
              "outlinewidth": 0,
              "ticks": ""
             }
            },
            "type": "scatterpolar"
           }
          ],
          "scatterpolargl": [
           {
            "marker": {
             "colorbar": {
              "outlinewidth": 0,
              "ticks": ""
             }
            },
            "type": "scatterpolargl"
           }
          ],
          "scatterternary": [
           {
            "marker": {
             "colorbar": {
              "outlinewidth": 0,
              "ticks": ""
             }
            },
            "type": "scatterternary"
           }
          ],
          "surface": [
           {
            "colorbar": {
             "outlinewidth": 0,
             "ticks": ""
            },
            "colorscale": [
             [
              0,
              "#0d0887"
             ],
             [
              0.1111111111111111,
              "#46039f"
             ],
             [
              0.2222222222222222,
              "#7201a8"
             ],
             [
              0.3333333333333333,
              "#9c179e"
             ],
             [
              0.4444444444444444,
              "#bd3786"
             ],
             [
              0.5555555555555556,
              "#d8576b"
             ],
             [
              0.6666666666666666,
              "#ed7953"
             ],
             [
              0.7777777777777778,
              "#fb9f3a"
             ],
             [
              0.8888888888888888,
              "#fdca26"
             ],
             [
              1,
              "#f0f921"
             ]
            ],
            "type": "surface"
           }
          ],
          "table": [
           {
            "cells": {
             "fill": {
              "color": "#EBF0F8"
             },
             "line": {
              "color": "white"
             }
            },
            "header": {
             "fill": {
              "color": "#C8D4E3"
             },
             "line": {
              "color": "white"
             }
            },
            "type": "table"
           }
          ]
         },
         "layout": {
          "annotationdefaults": {
           "arrowcolor": "#2a3f5f",
           "arrowhead": 0,
           "arrowwidth": 1
          },
          "autotypenumbers": "strict",
          "coloraxis": {
           "colorbar": {
            "outlinewidth": 0,
            "ticks": ""
           }
          },
          "colorscale": {
           "diverging": [
            [
             0,
             "#8e0152"
            ],
            [
             0.1,
             "#c51b7d"
            ],
            [
             0.2,
             "#de77ae"
            ],
            [
             0.3,
             "#f1b6da"
            ],
            [
             0.4,
             "#fde0ef"
            ],
            [
             0.5,
             "#f7f7f7"
            ],
            [
             0.6,
             "#e6f5d0"
            ],
            [
             0.7,
             "#b8e186"
            ],
            [
             0.8,
             "#7fbc41"
            ],
            [
             0.9,
             "#4d9221"
            ],
            [
             1,
             "#276419"
            ]
           ],
           "sequential": [
            [
             0,
             "#0d0887"
            ],
            [
             0.1111111111111111,
             "#46039f"
            ],
            [
             0.2222222222222222,
             "#7201a8"
            ],
            [
             0.3333333333333333,
             "#9c179e"
            ],
            [
             0.4444444444444444,
             "#bd3786"
            ],
            [
             0.5555555555555556,
             "#d8576b"
            ],
            [
             0.6666666666666666,
             "#ed7953"
            ],
            [
             0.7777777777777778,
             "#fb9f3a"
            ],
            [
             0.8888888888888888,
             "#fdca26"
            ],
            [
             1,
             "#f0f921"
            ]
           ],
           "sequentialminus": [
            [
             0,
             "#0d0887"
            ],
            [
             0.1111111111111111,
             "#46039f"
            ],
            [
             0.2222222222222222,
             "#7201a8"
            ],
            [
             0.3333333333333333,
             "#9c179e"
            ],
            [
             0.4444444444444444,
             "#bd3786"
            ],
            [
             0.5555555555555556,
             "#d8576b"
            ],
            [
             0.6666666666666666,
             "#ed7953"
            ],
            [
             0.7777777777777778,
             "#fb9f3a"
            ],
            [
             0.8888888888888888,
             "#fdca26"
            ],
            [
             1,
             "#f0f921"
            ]
           ]
          },
          "colorway": [
           "#636efa",
           "#EF553B",
           "#00cc96",
           "#ab63fa",
           "#FFA15A",
           "#19d3f3",
           "#FF6692",
           "#B6E880",
           "#FF97FF",
           "#FECB52"
          ],
          "font": {
           "color": "#2a3f5f"
          },
          "geo": {
           "bgcolor": "white",
           "lakecolor": "white",
           "landcolor": "#E5ECF6",
           "showlakes": true,
           "showland": true,
           "subunitcolor": "white"
          },
          "hoverlabel": {
           "align": "left"
          },
          "hovermode": "closest",
          "mapbox": {
           "style": "light"
          },
          "paper_bgcolor": "white",
          "plot_bgcolor": "#E5ECF6",
          "polar": {
           "angularaxis": {
            "gridcolor": "white",
            "linecolor": "white",
            "ticks": ""
           },
           "bgcolor": "#E5ECF6",
           "radialaxis": {
            "gridcolor": "white",
            "linecolor": "white",
            "ticks": ""
           }
          },
          "scene": {
           "xaxis": {
            "backgroundcolor": "#E5ECF6",
            "gridcolor": "white",
            "gridwidth": 2,
            "linecolor": "white",
            "showbackground": true,
            "ticks": "",
            "zerolinecolor": "white"
           },
           "yaxis": {
            "backgroundcolor": "#E5ECF6",
            "gridcolor": "white",
            "gridwidth": 2,
            "linecolor": "white",
            "showbackground": true,
            "ticks": "",
            "zerolinecolor": "white"
           },
           "zaxis": {
            "backgroundcolor": "#E5ECF6",
            "gridcolor": "white",
            "gridwidth": 2,
            "linecolor": "white",
            "showbackground": true,
            "ticks": "",
            "zerolinecolor": "white"
           }
          },
          "shapedefaults": {
           "line": {
            "color": "#2a3f5f"
           }
          },
          "ternary": {
           "aaxis": {
            "gridcolor": "white",
            "linecolor": "white",
            "ticks": ""
           },
           "baxis": {
            "gridcolor": "white",
            "linecolor": "white",
            "ticks": ""
           },
           "bgcolor": "#E5ECF6",
           "caxis": {
            "gridcolor": "white",
            "linecolor": "white",
            "ticks": ""
           }
          },
          "title": {
           "x": 0.05
          },
          "xaxis": {
           "automargin": true,
           "gridcolor": "white",
           "linecolor": "white",
           "ticks": "",
           "title": {
            "standoff": 15
           },
           "zerolinecolor": "white",
           "zerolinewidth": 2
          },
          "yaxis": {
           "automargin": true,
           "gridcolor": "white",
           "linecolor": "white",
           "ticks": "",
           "title": {
            "standoff": 15
           },
           "zerolinecolor": "white",
           "zerolinewidth": 2
          }
         }
        },
        "xaxis": {
         "visible": false
        },
        "yaxis": {
         "visible": false
        }
       }
      }
     },
     "metadata": {},
     "output_type": "display_data"
    }
   ],
   "source": [
    "n = SequenceNetwork(\n",
    "    sequences=blast_results,\n",
    "    pairwise_alignments=multi_parwise_alignments,\n",
    "    threshold=0.9,\n",
    "    weight=\"identity\",\n",
    "    dimensions=3,\n",
    "    color=\"taxonomy_id\",\n",
    ")\n",
    "n.add_target(metTK)\n",
    "n.visualize()"
   ]
  },
  {
   "cell_type": "code",
   "execution_count": null,
   "metadata": {},
   "outputs": [],
   "source": []
  }
 ],
 "metadata": {
  "kernelspec": {
   "display_name": "pye",
   "language": "python",
   "name": "python3"
  },
  "language_info": {
   "codemirror_mode": {
    "name": "ipython",
    "version": 3
   },
   "file_extension": ".py",
   "mimetype": "text/x-python",
   "name": "python",
   "nbconvert_exporter": "python",
   "pygments_lexer": "ipython3",
   "version": "3.10.13"
  }
 },
 "nbformat": 4,
 "nbformat_minor": 2
}
