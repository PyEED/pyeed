{
 "cells": [
  {
   "cell_type": "markdown",
   "metadata": {},
   "source": [
    "# Network Visualization"
   ]
  },
  {
   "cell_type": "code",
   "execution_count": 1,
   "metadata": {},
   "outputs": [],
   "source": [
    "%reload_ext autoreload\n",
    "%autoreload 2\n",
    "from pyeed.core import ProteinInfo, Alignment\n",
    "from pyeed.aligners import ClustalOmega, PairwiseAligner\n",
    "from pyeed.network import SequenceNetwork"
   ]
  },
  {
   "cell_type": "code",
   "execution_count": 2,
   "metadata": {},
   "outputs": [],
   "source": [
    "# Get a query sequence from NCBI\n",
    "metTK = ProteinInfo.from_ncbi(\"WP_011249500.1\")"
   ]
  },
  {
   "cell_type": "code",
   "execution_count": 3,
   "metadata": {},
   "outputs": [
    {
     "name": "stdout",
     "output_type": "stream",
     "text": [
      "🏃 Running BLAST\n"
     ]
    },
    {
     "name": "stderr",
     "output_type": "stream",
     "text": [
      "⬇️ Fetching protein sequences: 100%|█████████▉| 499/500 [00:53<00:00,  9.38it/s]\n"
     ]
    }
   ],
   "source": [
    "# Run local blastp search\n",
    "blast_results = metTK.blastp(\n",
    "    db_path=\"/Users/max/Documents/GitHub/blast-db/data/source\",\n",
    "    n_hits=500,\n",
    "    ncbi_key=\"fc08205c4aad544871863f0eb134f5524707\",\n",
    ")"
   ]
  },
  {
   "cell_type": "markdown",
   "metadata": {},
   "source": [
    "## MSA with Clustal Omega"
   ]
  },
  {
   "cell_type": "code",
   "execution_count": 4,
   "metadata": {},
   "outputs": [
    {
     "name": "stdout",
     "output_type": "stream",
     "text": [
      "🏃 Running CLUSTALO\n",
      "\u001b[4mStandardNumbering\u001b[0m\n",
      "├── \u001b[94mid\u001b[0m = standardnumbering456\n",
      "├── \u001b[94mreference_id\u001b[0m = MBP1912539.1\n",
      "├── \u001b[94mnumbered_id\u001b[0m = WP_254809959.1\n",
      "└── \u001b[94mnumbering\u001b[0m = [0.1, 0.2, 0.3, 0.4, 0.5, ...]\n",
      "\n"
     ]
    }
   ],
   "source": [
    "alignment = Alignment.from_sequences(blast_results, aligner=ClustalOmega)\n",
    "print(alignment.standard_numberings[456])"
   ]
  },
  {
   "cell_type": "markdown",
   "metadata": {},
   "source": [
    "## Multi Pairwise Alignment"
   ]
  },
  {
   "cell_type": "code",
   "execution_count": 5,
   "metadata": {},
   "outputs": [
    {
     "name": "stderr",
     "output_type": "stream",
     "text": [
      "⛓️ Running pairwise alignments: 100%|██████████| 124251/124251 [00:31<00:00, 3922.61it/s]\n"
     ]
    }
   ],
   "source": [
    "# Create and run alignment\n",
    "multi_parwise_alignments = Alignment.from_sequences(\n",
    "    blast_results, aligner=PairwiseAligner)"
   ]
  },
  {
   "cell_type": "code",
   "execution_count": 21,
   "metadata": {},
   "outputs": [
    {
     "data": {
      "application/vnd.plotly.v1+json": {
       "config": {
        "plotlyServerURL": "https://plot.ly"
       },
       "data": [
        {
         "customdata": [
          [
           "S-adenosylmethionine synthetase",
           "Thermococcus stetteri",
           "Euryarchaeota",
           "Thermococcales",
           "MBP1912539.1"
          ]
         ],
         "hovertemplate": "<b>%{customdata[0]}</b><br>Organism: %{customdata[1]}<br>Kingdom: %{customdata[2]}<br>Phylum: %{customdata[3]}</b><br>Source ID: %{customdata[4]}<extra></extra>",
         "marker": {
          "color": "rgb(56, 87, 139)",
          "size": 7
         },
         "mode": "markers",
         "text": "S-adenosylmethionine synthetase",
         "type": "scatter3d",
         "x": [
          0.028675575339694632
         ],
         "y": [
          -0.05914303983996185
         ],
         "z": [
          0.035138402930357054
         ]
        },
        {
         "customdata": [
          [
           "methionine adenosyltransferase",
           "Thermococcus thioreducens",
           "Euryarchaeota",
           "Thermococcales",
           "SEV92896.1"
          ]
         ],
         "hovertemplate": "<b>%{customdata[0]}</b><br>Organism: %{customdata[1]}<br>Kingdom: %{customdata[2]}<br>Phylum: %{customdata[3]}</b><br>Source ID: %{customdata[4]}<extra></extra>",
         "marker": {
          "color": "rgb(218, 227, 40)",
          "size": 7
         },
         "mode": "markers",
         "text": "methionine adenosyltransferase",
         "type": "scatter3d",
         "x": [
          0.031616695097073634
         ],
         "y": [
          -0.049983867562733174
         ],
         "z": [
          0.03479305031478188
         ]
        },
        {
         "customdata": [
          [
           "methionine adenosyltransferase",
           "Thermococcus sp.",
           "Euryarchaeota",
           "Thermococcales",
           "MBO8174569.1"
          ]
         ],
         "hovertemplate": "<b>%{customdata[0]}</b><br>Organism: %{customdata[1]}<br>Kingdom: %{customdata[2]}<br>Phylum: %{customdata[3]}</b><br>Source ID: %{customdata[4]}<extra></extra>",
         "marker": {
          "color": "rgb(187, 223, 43)",
          "size": 7
         },
         "mode": "markers",
         "text": "methionine adenosyltransferase",
         "type": "scatter3d",
         "x": [
          0.049424926856601645
         ],
         "y": [
          -0.04400606477685095
         ],
         "z": [
          0.017100117184334525
         ]
        },
        {
         "customdata": [
          [
           "methionine adenosyltransferase",
           "Thermococcus paralvinellae",
           "Euryarchaeota",
           "Thermococcales",
           "WP_042680787.1"
          ]
         ],
         "hovertemplate": "<b>%{customdata[0]}</b><br>Organism: %{customdata[1]}<br>Kingdom: %{customdata[2]}<br>Phylum: %{customdata[3]}</b><br>Source ID: %{customdata[4]}<extra></extra>",
         "marker": {
          "color": "rgb(54, 92, 140)",
          "size": 7
         },
         "mode": "markers",
         "text": "methionine adenosyltransferase",
         "type": "scatter3d",
         "x": [
          0.044851386532041425
         ],
         "y": [
          -0.0312957547386347
         ],
         "z": [
          0.003476282301678805
         ]
        },
        {
         "customdata": [
          [
           "methionine adenosyltransferase",
           "Thermococci archaeon",
           "Euryarchaeota",
           null,
           "NPA47376.1"
          ]
         ],
         "hovertemplate": "<b>%{customdata[0]}</b><br>Organism: %{customdata[1]}<br>Kingdom: %{customdata[2]}<br>Phylum: %{customdata[3]}</b><br>Source ID: %{customdata[4]}<extra></extra>",
         "marker": {
          "color": "rgb(37, 135, 141)",
          "size": 7
         },
         "mode": "markers",
         "text": "methionine adenosyltransferase",
         "type": "scatter3d",
         "x": [
          0.0799945093933448
         ],
         "y": [
          -0.03137989754200982
         ],
         "z": [
          0.039980577968213575
         ]
        },
        {
         "customdata": [
          [
           "methionine adenosyltransferase",
           "Thermococcus sp. MV5",
           "Euryarchaeota",
           "Thermococcales",
           "WP_167889085.1"
          ]
         ],
         "hovertemplate": "<b>%{customdata[0]}</b><br>Organism: %{customdata[1]}<br>Kingdom: %{customdata[2]}<br>Phylum: %{customdata[3]}</b><br>Source ID: %{customdata[4]}<extra></extra>",
         "marker": {
          "color": "rgb(56, 88, 139)",
          "size": 7
         },
         "mode": "markers",
         "text": "methionine adenosyltransferase",
         "type": "scatter3d",
         "x": [
          0.030288387015158083
         ],
         "y": [
          -0.02059042323356212
         ],
         "z": [
          0.03333762743571547
         ]
        },
        {
         "customdata": [
          [
           "methionine adenosyltransferase",
           "Palaeococcus pacificus",
           "Euryarchaeota",
           "Thermococcales",
           "WP_048165429.1"
          ]
         ],
         "hovertemplate": "<b>%{customdata[0]}</b><br>Organism: %{customdata[1]}<br>Kingdom: %{customdata[2]}<br>Phylum: %{customdata[3]}</b><br>Source ID: %{customdata[4]}<extra></extra>",
         "marker": {
          "color": "rgb(62, 73, 137)",
          "size": 7
         },
         "mode": "markers",
         "text": "methionine adenosyltransferase",
         "type": "scatter3d",
         "x": [
          0.03832358661127394
         ],
         "y": [
          -0.02555257945087879
         ],
         "z": [
          0.03198043495880474
         ]
        },
        {
         "customdata": [
          [
           "S-adenosylmethionine synthetase",
           "Thermococcus sibiricus MM 739",
           "Euryarchaeota",
           "Thermococcales",
           "ACS90033.1"
          ]
         ],
         "hovertemplate": "<b>%{customdata[0]}</b><br>Organism: %{customdata[1]}<br>Kingdom: %{customdata[2]}<br>Phylum: %{customdata[3]}</b><br>Source ID: %{customdata[4]}<extra></extra>",
         "marker": {
          "color": "rgb(45, 113, 142)",
          "size": 7
         },
         "mode": "markers",
         "text": "S-adenosylmethionine synthetase",
         "type": "scatter3d",
         "x": [
          0.044764506206828106
         ],
         "y": [
          -0.041360329676408424
         ],
         "z": [
          0.0398077313905213
         ]
        },
        {
         "customdata": [
          [
           "methionine adenosyltransferase",
           "Palaeococcus ferrophilus",
           "Euryarchaeota",
           "Thermococcales",
           "WP_048148317.1"
          ]
         ],
         "hovertemplate": "<b>%{customdata[0]}</b><br>Organism: %{customdata[1]}<br>Kingdom: %{customdata[2]}<br>Phylum: %{customdata[3]}</b><br>Source ID: %{customdata[4]}<extra></extra>",
         "marker": {
          "color": "rgb(168, 219, 51)",
          "size": 7
         },
         "mode": "markers",
         "text": "methionine adenosyltransferase",
         "type": "scatter3d",
         "x": [
          0.04883716039647858
         ],
         "y": [
          -0.05134837792638096
         ],
         "z": [
          0.052350402137325676
         ]
        },
        {
         "customdata": [
          [
           "methionine adenosyltransferase",
           "Palaeococcus sp. (in: euryarchaeotes)",
           "Euryarchaeota",
           "Thermococcales",
           "MCD6559773.1"
          ]
         ],
         "hovertemplate": "<b>%{customdata[0]}</b><br>Organism: %{customdata[1]}<br>Kingdom: %{customdata[2]}<br>Phylum: %{customdata[3]}</b><br>Source ID: %{customdata[4]}<extra></extra>",
         "marker": {
          "color": "rgb(46, 111, 142)",
          "size": 7
         },
         "mode": "markers",
         "text": "methionine adenosyltransferase",
         "type": "scatter3d",
         "x": [
          0.039367353296982974
         ],
         "y": [
          -0.0335234905362738
         ],
         "z": [
          0.025014982055787477
         ]
        },
        {
         "customdata": [
          [
           "methionine adenosyltransferase",
           "Pyrococcus yayanosii",
           "Euryarchaeota",
           "Thermococcales",
           "WP_013904864.1"
          ]
         ],
         "hovertemplate": "<b>%{customdata[0]}</b><br>Organism: %{customdata[1]}<br>Kingdom: %{customdata[2]}<br>Phylum: %{customdata[3]}</b><br>Source ID: %{customdata[4]}<extra></extra>",
         "marker": {
          "color": "rgb(37, 134, 141)",
          "size": 7
         },
         "mode": "markers",
         "text": "methionine adenosyltransferase",
         "type": "scatter3d",
         "x": [
          0.04188541034518397
         ],
         "y": [
          -0.0491229572124836
         ],
         "z": [
          0.0740839237776107
         ]
        },
        {
         "customdata": [
          [
           "S-adenosylmethionine synthetase (EC 2.5.1.6)",
           "Pyrococcus abyssi GE5",
           "Euryarchaeota",
           "Thermococcales",
           "CAB49302.1"
          ]
         ],
         "hovertemplate": "<b>%{customdata[0]}</b><br>Organism: %{customdata[1]}<br>Kingdom: %{customdata[2]}<br>Phylum: %{customdata[3]}</b><br>Source ID: %{customdata[4]}<extra></extra>",
         "marker": {
          "color": "rgb(70, 46, 123)",
          "size": 7
         },
         "mode": "markers",
         "text": "S-adenosylmethionine synthetase (EC 2.5.1.6)",
         "type": "scatter3d",
         "x": [
          0.06866289397638518
         ],
         "y": [
          -0.02978800846263075
         ],
         "z": [
          0.038812415096958756
         ]
        },
        {
         "customdata": [
          [
           "404aa long hypothetical protein",
           "Pyrococcus horikoshii OT3",
           "Euryarchaeota",
           "Thermococcales",
           "BAA30943.1"
          ]
         ],
         "hovertemplate": "<b>%{customdata[0]}</b><br>Organism: %{customdata[1]}<br>Kingdom: %{customdata[2]}<br>Phylum: %{customdata[3]}</b><br>Source ID: %{customdata[4]}<extra></extra>",
         "marker": {
          "color": "rgb(66, 60, 130)",
          "size": 7
         },
         "mode": "markers",
         "text": "404aa long hypothetical protein",
         "type": "scatter3d",
         "x": [
          0.08366271055485379
         ],
         "y": [
          -0.02068551686293689
         ],
         "z": [
          0.040606221253392596
         ]
        },
        {
         "customdata": [
          [
           "methionine adenosyltransferase",
           "Euryarchaeota archaeon",
           "Euryarchaeota",
           null,
           "NOZ59931.1"
          ]
         ],
         "hovertemplate": "<b>%{customdata[0]}</b><br>Organism: %{customdata[1]}<br>Kingdom: %{customdata[2]}<br>Phylum: %{customdata[3]}</b><br>Source ID: %{customdata[4]}<extra></extra>",
         "marker": {
          "color": "rgb(115, 207, 85)",
          "size": 7
         },
         "mode": "markers",
         "text": "methionine adenosyltransferase",
         "type": "scatter3d",
         "x": [
          0.010701535178269064
         ],
         "y": [
          -0.04144038652594561
         ],
         "z": [
          0.0014901504148083487
         ]
        },
        {
         "customdata": [
          [
           "methionine adenosyltransferase",
           "Desulfocapsa sp.",
           "Thermodesulfobacteriota",
           "Desulfobulbales",
           "RUM44621.1"
          ]
         ],
         "hovertemplate": "<b>%{customdata[0]}</b><br>Organism: %{customdata[1]}<br>Kingdom: %{customdata[2]}<br>Phylum: %{customdata[3]}</b><br>Source ID: %{customdata[4]}<extra></extra>",
         "marker": {
          "color": "rgb(36, 137, 141)",
          "size": 7
         },
         "mode": "markers",
         "text": "methionine adenosyltransferase",
         "type": "scatter3d",
         "x": [
          -0.07437635104807512
         ],
         "y": [
          -0.019643238224396363
         ],
         "z": [
          -0.012139829023534648
         ]
        },
        {
         "customdata": [
          [
           "methionine adenosyltransferase",
           "Methanocaldococcus villosus",
           "Euryarchaeota",
           "Methanococci",
           "WP_004590981.1"
          ]
         ],
         "hovertemplate": "<b>%{customdata[0]}</b><br>Organism: %{customdata[1]}<br>Kingdom: %{customdata[2]}<br>Phylum: %{customdata[3]}</b><br>Source ID: %{customdata[4]}<extra></extra>",
         "marker": {
          "color": "rgb(91, 198, 99)",
          "size": 7
         },
         "mode": "markers",
         "text": "methionine adenosyltransferase",
         "type": "scatter3d",
         "x": [
          0.013417036391145899
         ],
         "y": [
          -0.06832459069420671
         ],
         "z": [
          0.027695836449154045
         ]
        },
        {
         "customdata": [
          [
           "methionine adenosyltransferase",
           "Methanocaldococcus infernus",
           "Euryarchaeota",
           "Methanococci",
           "WP_013100562.1"
          ]
         ],
         "hovertemplate": "<b>%{customdata[0]}</b><br>Organism: %{customdata[1]}<br>Kingdom: %{customdata[2]}<br>Phylum: %{customdata[3]}</b><br>Source ID: %{customdata[4]}<extra></extra>",
         "marker": {
          "color": "rgb(239, 229, 38)",
          "size": 7
         },
         "mode": "markers",
         "text": "methionine adenosyltransferase",
         "type": "scatter3d",
         "x": [
          -0.006485300214870387
         ],
         "y": [
          -0.03872127523294707
         ],
         "z": [
          0.03418189432493001
         ]
        },
        {
         "customdata": [
          [
           "methionine adenosyltransferase",
           "Candidatus Diapherotrites archaeon",
           "Candidatus Diapherotrites",
           null,
           "NPA76954.1"
          ]
         ],
         "hovertemplate": "<b>%{customdata[0]}</b><br>Organism: %{customdata[1]}<br>Kingdom: %{customdata[2]}<br>Phylum: %{customdata[3]}</b><br>Source ID: %{customdata[4]}<extra></extra>",
         "marker": {
          "color": "rgb(156, 216, 59)",
          "size": 7
         },
         "mode": "markers",
         "text": "methionine adenosyltransferase",
         "type": "scatter3d",
         "x": [
          0.08609401571230285
         ],
         "y": [
          -0.044319143703572
         ],
         "z": [
          0.07535351638238537
         ]
        },
        {
         "customdata": [
          [
           "methionine adenosyltransferase",
           "Archaeoglobales archaeon",
           "Euryarchaeota",
           "Archaeoglobales",
           "RLI88365.1"
          ]
         ],
         "hovertemplate": "<b>%{customdata[0]}</b><br>Organism: %{customdata[1]}<br>Kingdom: %{customdata[2]}<br>Phylum: %{customdata[3]}</b><br>Source ID: %{customdata[4]}<extra></extra>",
         "marker": {
          "color": "rgb(42, 120, 142)",
          "size": 7
         },
         "mode": "markers",
         "text": "methionine adenosyltransferase",
         "type": "scatter3d",
         "x": [
          -0.10893543004628325
         ],
         "y": [
          -0.019302088378659037
         ],
         "z": [
          -0.030897221084917496
         ]
        },
        {
         "customdata": [
          [
           "methionine adenosyltransferase",
           "Archaeoglobus veneficus",
           "Euryarchaeota",
           "Archaeoglobales",
           "WP_013683710.1"
          ]
         ],
         "hovertemplate": "<b>%{customdata[0]}</b><br>Organism: %{customdata[1]}<br>Kingdom: %{customdata[2]}<br>Phylum: %{customdata[3]}</b><br>Source ID: %{customdata[4]}<extra></extra>",
         "marker": {
          "color": "rgb(68, 4, 87)",
          "size": 7
         },
         "mode": "markers",
         "text": "methionine adenosyltransferase",
         "type": "scatter3d",
         "x": [
          -0.10052871914543009
         ],
         "y": [
          -0.015908654151138082
         ],
         "z": [
          -0.016804775626263774
         ]
        },
        {
         "customdata": [
          [
           "S-adenosylmethionine synthetase",
           "Hadesarchaea archaeon CG08_land_8_20_14_0_20_51_8",
           "Candidatus Hadarchaeota",
           null,
           "PIU13897.1"
          ]
         ],
         "hovertemplate": "<b>%{customdata[0]}</b><br>Organism: %{customdata[1]}<br>Kingdom: %{customdata[2]}<br>Phylum: %{customdata[3]}</b><br>Source ID: %{customdata[4]}<extra></extra>",
         "marker": {
          "color": "rgb(70, 19, 101)",
          "size": 7
         },
         "mode": "markers",
         "text": "S-adenosylmethionine synthetase",
         "type": "scatter3d",
         "x": [
          0.14747741286042912
         ],
         "y": [
          0.10134272869553156
         ],
         "z": [
          0.2874758230590554
         ]
        },
        {
         "customdata": [
          [
           "methionine adenosyltransferase",
           "Archaeoglobus profundus",
           "Euryarchaeota",
           "Archaeoglobales",
           "HIP58397.1"
          ]
         ],
         "hovertemplate": "<b>%{customdata[0]}</b><br>Organism: %{customdata[1]}<br>Kingdom: %{customdata[2]}<br>Phylum: %{customdata[3]}</b><br>Source ID: %{customdata[4]}<extra></extra>",
         "marker": {
          "color": "rgb(68, 3, 86)",
          "size": 7
         },
         "mode": "markers",
         "text": "methionine adenosyltransferase",
         "type": "scatter3d",
         "x": [
          -0.09359286417257973
         ],
         "y": [
          -0.027453189181744185
         ],
         "z": [
          -0.008170245515089467
         ]
        },
        {
         "customdata": [
          [
           "methionine adenosyltransferase",
           "Geoglobus acetivorans",
           "Euryarchaeota",
           "Archaeoglobales",
           "MBE8539338.1"
          ]
         ],
         "hovertemplate": "<b>%{customdata[0]}</b><br>Organism: %{customdata[1]}<br>Kingdom: %{customdata[2]}<br>Phylum: %{customdata[3]}</b><br>Source ID: %{customdata[4]}<extra></extra>",
         "marker": {
          "color": "rgb(72, 190, 110)",
          "size": 7
         },
         "mode": "markers",
         "text": "methionine adenosyltransferase",
         "type": "scatter3d",
         "x": [
          -0.0854582222349352
         ],
         "y": [
          -0.022866568726110734
         ],
         "z": [
          -0.00537414522264022
         ]
        },
        {
         "customdata": [
          [
           "methionine adenosyltransferase",
           "Euryarchaeota archaeon",
           "Euryarchaeota",
           null,
           "NPA75857.1"
          ]
         ],
         "hovertemplate": "<b>%{customdata[0]}</b><br>Organism: %{customdata[1]}<br>Kingdom: %{customdata[2]}<br>Phylum: %{customdata[3]}</b><br>Source ID: %{customdata[4]}<extra></extra>",
         "marker": {
          "color": "rgb(115, 207, 85)",
          "size": 7
         },
         "mode": "markers",
         "text": "methionine adenosyltransferase",
         "type": "scatter3d",
         "x": [
          0.1638554696839962
         ],
         "y": [
          -0.15461559685326173
         ],
         "z": [
          0.0747309378619657
         ]
        },
        {
         "customdata": [
          [
           "methionine adenosyltransferase",
           "Geoglobus ahangari",
           "Euryarchaeota",
           "Archaeoglobales",
           "WP_048096291.1"
          ]
         ],
         "hovertemplate": "<b>%{customdata[0]}</b><br>Organism: %{customdata[1]}<br>Kingdom: %{customdata[2]}<br>Phylum: %{customdata[3]}</b><br>Source ID: %{customdata[4]}<extra></extra>",
         "marker": {
          "color": "rgb(61, 74, 137)",
          "size": 7
         },
         "mode": "markers",
         "text": "methionine adenosyltransferase",
         "type": "scatter3d",
         "x": [
          -0.0761899675558273
         ],
         "y": [
          -0.016743539837154743
         ],
         "z": [
          -0.003429534380549993
         ]
        },
        {
         "customdata": [
          [
           "methionine adenosyltransferase",
           "Euryarchaeota archaeon",
           "Euryarchaeota",
           null,
           "HIQ10138.1"
          ]
         ],
         "hovertemplate": "<b>%{customdata[0]}</b><br>Organism: %{customdata[1]}<br>Kingdom: %{customdata[2]}<br>Phylum: %{customdata[3]}</b><br>Source ID: %{customdata[4]}<extra></extra>",
         "marker": {
          "color": "rgb(115, 207, 85)",
          "size": 7
         },
         "mode": "markers",
         "text": "methionine adenosyltransferase",
         "type": "scatter3d",
         "x": [
          0.0850099337833169
         ],
         "y": [
          -0.04645980949776353
         ],
         "z": [
          0.11210190719355945
         ]
        },
        {
         "customdata": [
          [
           "methionine adenosyltransferase",
           "Archaeoglobales archaeon",
           "Euryarchaeota",
           "Archaeoglobales",
           "RLI75855.1"
          ]
         ],
         "hovertemplate": "<b>%{customdata[0]}</b><br>Organism: %{customdata[1]}<br>Kingdom: %{customdata[2]}<br>Phylum: %{customdata[3]}</b><br>Source ID: %{customdata[4]}<extra></extra>",
         "marker": {
          "color": "rgb(42, 120, 142)",
          "size": 7
         },
         "mode": "markers",
         "text": "methionine adenosyltransferase",
         "type": "scatter3d",
         "x": [
          -0.10311250389629902
         ],
         "y": [
          -0.04221364341931126
         ],
         "z": [
          0.0025840150802398493
         ]
        },
        {
         "customdata": [
          [
           "methionine adenosyltransferase",
           "Archaeoglobales archaeon",
           "Euryarchaeota",
           "Archaeoglobales",
           "RLI80102.1"
          ]
         ],
         "hovertemplate": "<b>%{customdata[0]}</b><br>Organism: %{customdata[1]}<br>Kingdom: %{customdata[2]}<br>Phylum: %{customdata[3]}</b><br>Source ID: %{customdata[4]}<extra></extra>",
         "marker": {
          "color": "rgb(42, 120, 142)",
          "size": 7
         },
         "mode": "markers",
         "text": "methionine adenosyltransferase",
         "type": "scatter3d",
         "x": [
          -0.08042483963614347
         ],
         "y": [
          -0.03223963497457793
         ],
         "z": [
          -0.0011959680922410778
         ]
        },
        {
         "customdata": [
          [
           "Methionine adenosyltransferase",
           "Methanotorris formicicus Mc-S-70",
           "Euryarchaeota",
           "Methanococci",
           "EHP84035.1"
          ]
         ],
         "hovertemplate": "<b>%{customdata[0]}</b><br>Organism: %{customdata[1]}<br>Kingdom: %{customdata[2]}<br>Phylum: %{customdata[3]}</b><br>Source ID: %{customdata[4]}<extra></extra>",
         "marker": {
          "color": "rgb(71, 35, 115)",
          "size": 7
         },
         "mode": "markers",
         "text": "Methionine adenosyltransferase",
         "type": "scatter3d",
         "x": [
          0.021371171215151454
         ],
         "y": [
          -0.04238749287292927
         ],
         "z": [
          0.020246127404231852
         ]
        },
        {
         "customdata": [
          [
           "Chain A, S-adenosylmethionine synthase",
           "Methanocaldococcus jannaschii DSM 2661",
           "Euryarchaeota",
           "Methanococci",
           "7P82_A"
          ]
         ],
         "hovertemplate": "<b>%{customdata[0]}</b><br>Organism: %{customdata[1]}<br>Kingdom: %{customdata[2]}<br>Phylum: %{customdata[3]}</b><br>Source ID: %{customdata[4]}<extra></extra>",
         "marker": {
          "color": "rgb(70, 20, 102)",
          "size": 7
         },
         "mode": "markers",
         "text": "Chain A, S-adenosylmethionine synthase",
         "type": "scatter3d",
         "x": [
          0.006232108147667765
         ],
         "y": [
          -0.06084446473004582
         ],
         "z": [
          0.03804770210232047
         ]
        },
        {
         "customdata": [
          [
           "methionine adenosyltransferase",
           "Archaeoglobales archaeon",
           "Euryarchaeota",
           "Archaeoglobales",
           "NHW22645.1"
          ]
         ],
         "hovertemplate": "<b>%{customdata[0]}</b><br>Organism: %{customdata[1]}<br>Kingdom: %{customdata[2]}<br>Phylum: %{customdata[3]}</b><br>Source ID: %{customdata[4]}<extra></extra>",
         "marker": {
          "color": "rgb(42, 120, 142)",
          "size": 7
         },
         "mode": "markers",
         "text": "methionine adenosyltransferase",
         "type": "scatter3d",
         "x": [
          -0.08450861422367133
         ],
         "y": [
          -0.0010986100262206356
         ],
         "z": [
          0.03210138613497796
         ]
        },
        {
         "customdata": [
          [
           "methionine adenosyltransferase",
           "Archaeoglobus sulfaticallidus",
           "Euryarchaeota",
           "Archaeoglobales",
           "WP_015589840.1"
          ]
         ],
         "hovertemplate": "<b>%{customdata[0]}</b><br>Organism: %{customdata[1]}<br>Kingdom: %{customdata[2]}<br>Phylum: %{customdata[3]}</b><br>Source ID: %{customdata[4]}<extra></extra>",
         "marker": {
          "color": "rgb(65, 63, 132)",
          "size": 7
         },
         "mode": "markers",
         "text": "methionine adenosyltransferase",
         "type": "scatter3d",
         "x": [
          -0.12346471072296446
         ],
         "y": [
          -0.023186608198186093
         ],
         "z": [
          -0.03417498644708647
         ]
        },
        {
         "customdata": [
          [
           "methionine adenosyltransferase",
           "Archaeoglobus neptunius",
           "Euryarchaeota",
           "Archaeoglobales",
           "WP_202319859.1"
          ]
         ],
         "hovertemplate": "<b>%{customdata[0]}</b><br>Organism: %{customdata[1]}<br>Kingdom: %{customdata[2]}<br>Phylum: %{customdata[3]}</b><br>Source ID: %{customdata[4]}<extra></extra>",
         "marker": {
          "color": "rgb(232, 228, 39)",
          "size": 7
         },
         "mode": "markers",
         "text": "methionine adenosyltransferase",
         "type": "scatter3d",
         "x": [
          -0.11074014002737599
         ],
         "y": [
          -0.02534085838243956
         ],
         "z": [
          0.009452864988432006
         ]
        },
        {
         "customdata": [
          [
           "methionine adenosyltransferase",
           "Archaeoglobus sp.",
           "Euryarchaeota",
           "Archaeoglobales",
           "MBO8182227.1"
          ]
         ],
         "hovertemplate": "<b>%{customdata[0]}</b><br>Organism: %{customdata[1]}<br>Kingdom: %{customdata[2]}<br>Phylum: %{customdata[3]}</b><br>Source ID: %{customdata[4]}<extra></extra>",
         "marker": {
          "color": "rgb(199, 224, 41)",
          "size": 7
         },
         "mode": "markers",
         "text": "methionine adenosyltransferase",
         "type": "scatter3d",
         "x": [
          -0.06546585754654233
         ],
         "y": [
          -0.03129373312803644
         ],
         "z": [
          0.0006469344275514806
         ]
        },
        {
         "customdata": [
          [
           "methionine adenosyltransferase",
           "Archaeoglobaceae archaeon",
           "Euryarchaeota",
           "Archaeoglobales",
           "MCS7144229.1"
          ]
         ],
         "hovertemplate": "<b>%{customdata[0]}</b><br>Organism: %{customdata[1]}<br>Kingdom: %{customdata[2]}<br>Phylum: %{customdata[3]}</b><br>Source ID: %{customdata[4]}<extra></extra>",
         "marker": {
          "color": "rgb(51, 180, 123)",
          "size": 7
         },
         "mode": "markers",
         "text": "methionine adenosyltransferase",
         "type": "scatter3d",
         "x": [
          -0.08115418433601117
         ],
         "y": [
          -0.043223014361073876
         ],
         "z": [
          0.025050330439572832
         ]
        },
        {
         "customdata": [
          [
           "methionine adenosyltransferase",
           "Candidatus Mnemosynella bozhongmuii",
           "Euryarchaeota",
           "Candidatus Mnemosynellales",
           "MBC7114233.1"
          ]
         ],
         "hovertemplate": "<b>%{customdata[0]}</b><br>Organism: %{customdata[1]}<br>Kingdom: %{customdata[2]}<br>Phylum: %{customdata[3]}</b><br>Source ID: %{customdata[4]}<extra></extra>",
         "marker": {
          "color": "rgb(43, 119, 142)",
          "size": 7
         },
         "mode": "markers",
         "text": "methionine adenosyltransferase",
         "type": "scatter3d",
         "x": [
          -0.06464359093197061
         ],
         "y": [
          -0.03920990260852762
         ],
         "z": [
          0.015670282645506864
         ]
        },
        {
         "customdata": [
          [
           "methionine adenosyltransferase",
           "Methanosarcinales archaeon",
           "Euryarchaeota",
           "Methanomicrobia",
           "RLG20733.1"
          ]
         ],
         "hovertemplate": "<b>%{customdata[0]}</b><br>Organism: %{customdata[1]}<br>Kingdom: %{customdata[2]}<br>Phylum: %{customdata[3]}</b><br>Source ID: %{customdata[4]}<extra></extra>",
         "marker": {
          "color": "rgb(70, 21, 103)",
          "size": 7
         },
         "mode": "markers",
         "text": "methionine adenosyltransferase",
         "type": "scatter3d",
         "x": [
          -0.1122325250135049
         ],
         "y": [
          -0.003236333773074673
         ],
         "z": [
          -0.025616219187483733
         ]
        },
        {
         "customdata": [
          [
           "S-adenosylmethionine synthetase",
           "archaeon BMS3Bbin15",
           null,
           null,
           "GBE54704.1"
          ]
         ],
         "hovertemplate": "<b>%{customdata[0]}</b><br>Organism: %{customdata[1]}<br>Kingdom: %{customdata[2]}<br>Phylum: %{customdata[3]}</b><br>Source ID: %{customdata[4]}<extra></extra>",
         "marker": {
          "color": "rgb(68, 53, 126)",
          "size": 7
         },
         "mode": "markers",
         "text": "S-adenosylmethionine synthetase",
         "type": "scatter3d",
         "x": [
          0.03421803446283126
         ],
         "y": [
          -0.05380906128109972
         ],
         "z": [
          -0.0232153770399014
         ]
        },
        {
         "customdata": [
          [
           "methionine adenosyltransferase",
           "Methanothrix sp.",
           "Euryarchaeota",
           "Methanomicrobia",
           "MBK7386953.1"
          ]
         ],
         "hovertemplate": "<b>%{customdata[0]}</b><br>Organism: %{customdata[1]}<br>Kingdom: %{customdata[2]}<br>Phylum: %{customdata[3]}</b><br>Source ID: %{customdata[4]}<extra></extra>",
         "marker": {
          "color": "rgb(164, 218, 54)",
          "size": 7
         },
         "mode": "markers",
         "text": "methionine adenosyltransferase",
         "type": "scatter3d",
         "x": [
          -0.19716415196308
         ],
         "y": [
          0.030923929750481836
         ],
         "z": [
          -0.01699499503640588
         ]
        },
        {
         "customdata": [
          [
           "methionine adenosyltransferase",
           "Thermoprotei archaeon",
           "Thermoproteota",
           null,
           "RLF18434.1"
          ]
         ],
         "hovertemplate": "<b>%{customdata[0]}</b><br>Organism: %{customdata[1]}<br>Kingdom: %{customdata[2]}<br>Phylum: %{customdata[3]}</b><br>Source ID: %{customdata[4]}<extra></extra>",
         "marker": {
          "color": "rgb(183, 222, 43)",
          "size": 7
         },
         "mode": "markers",
         "text": "methionine adenosyltransferase",
         "type": "scatter3d",
         "x": [
          0.17426691656091914
         ],
         "y": [
          0.0771392621728698
         ],
         "z": [
          0.013426606977589916
         ]
        },
        {
         "customdata": [
          [
           "methionine adenosyltransferase",
           "Candidatus Methanoperedens nitroreducens",
           "Euryarchaeota",
           "Methanomicrobia",
           "WP_048092961.1"
          ]
         ],
         "hovertemplate": "<b>%{customdata[0]}</b><br>Organism: %{customdata[1]}<br>Kingdom: %{customdata[2]}<br>Phylum: %{customdata[3]}</b><br>Source ID: %{customdata[4]}<extra></extra>",
         "marker": {
          "color": "rgb(64, 68, 134)",
          "size": 7
         },
         "mode": "markers",
         "text": "methionine adenosyltransferase",
         "type": "scatter3d",
         "x": [
          -0.13410614854259986
         ],
         "y": [
          0.0021264229406386483
         ],
         "z": [
          -0.05814944227260199
         ]
        },
        {
         "customdata": [
          [
           "methionine adenosyltransferase",
           "Methanosarcinales archaeon",
           "Euryarchaeota",
           "Methanomicrobia",
           "UZE92607.1"
          ]
         ],
         "hovertemplate": "<b>%{customdata[0]}</b><br>Organism: %{customdata[1]}<br>Kingdom: %{customdata[2]}<br>Phylum: %{customdata[3]}</b><br>Source ID: %{customdata[4]}<extra></extra>",
         "marker": {
          "color": "rgb(70, 21, 103)",
          "size": 7
         },
         "mode": "markers",
         "text": "methionine adenosyltransferase",
         "type": "scatter3d",
         "x": [
          -0.12445425249463167
         ],
         "y": [
          -0.027618930059259094
         ],
         "z": [
          -0.048865594832052765
         ]
        },
        {
         "customdata": [
          [
           "S-adenosylmethionine synthetase",
           "Aciduliprofundum boonei T469",
           "Candidatus Thermoplasmatota",
           "Aciduliprofundum",
           "EDY36469.1"
          ]
         ],
         "hovertemplate": "<b>%{customdata[0]}</b><br>Organism: %{customdata[1]}<br>Kingdom: %{customdata[2]}<br>Phylum: %{customdata[3]}</b><br>Source ID: %{customdata[4]}<extra></extra>",
         "marker": {
          "color": "rgb(33, 152, 138)",
          "size": 7
         },
         "mode": "markers",
         "text": "S-adenosylmethionine synthetase",
         "type": "scatter3d",
         "x": [
          0.2135283421354843
         ],
         "y": [
          -0.2059801408401477
         ],
         "z": [
          0.08740196081599269
         ]
        },
        {
         "customdata": [
          [
           "S-adenosylmethionine synthase",
           "Methanosaeta sp. PtaB.Bin039",
           "Euryarchaeota",
           "Methanomicrobia",
           "OPX77490.1"
          ]
         ],
         "hovertemplate": "<b>%{customdata[0]}</b><br>Organism: %{customdata[1]}<br>Kingdom: %{customdata[2]}<br>Phylum: %{customdata[3]}</b><br>Source ID: %{customdata[4]}<extra></extra>",
         "marker": {
          "color": "rgb(71, 28, 109)",
          "size": 7
         },
         "mode": "markers",
         "text": "S-adenosylmethionine synthase",
         "type": "scatter3d",
         "x": [
          -0.21385735090411642
         ],
         "y": [
          0.03286049488384262
         ],
         "z": [
          -0.015409281932549484
         ]
        },
        {
         "customdata": [
          [
           "methionine adenosyltransferase",
           "Methermicoccus shengliensis",
           "Euryarchaeota",
           "Methanomicrobia",
           "WP_042687265.1"
          ]
         ],
         "hovertemplate": "<b>%{customdata[0]}</b><br>Organism: %{customdata[1]}<br>Kingdom: %{customdata[2]}<br>Phylum: %{customdata[3]}</b><br>Source ID: %{customdata[4]}<extra></extra>",
         "marker": {
          "color": "rgb(44, 172, 128)",
          "size": 7
         },
         "mode": "markers",
         "text": "methionine adenosyltransferase",
         "type": "scatter3d",
         "x": [
          -0.11782783374265722
         ],
         "y": [
          -0.02276075055290794
         ],
         "z": [
          -0.017199873100469325
         ]
        },
        {
         "customdata": [
          [
           "methionine adenosyltransferase",
           "Archaeoglobus sp.",
           "Euryarchaeota",
           "Archaeoglobales",
           "RUM35208.1"
          ]
         ],
         "hovertemplate": "<b>%{customdata[0]}</b><br>Organism: %{customdata[1]}<br>Kingdom: %{customdata[2]}<br>Phylum: %{customdata[3]}</b><br>Source ID: %{customdata[4]}<extra></extra>",
         "marker": {
          "color": "rgb(199, 224, 41)",
          "size": 7
         },
         "mode": "markers",
         "text": "methionine adenosyltransferase",
         "type": "scatter3d",
         "x": [
          -0.11950214689321906
         ],
         "y": [
          -0.030122015976170778
         ],
         "z": [
          0.023540797616974734
         ]
        },
        {
         "customdata": [
          [
           "methionine adenosyltransferase",
           "Euryarchaeota archaeon",
           "Euryarchaeota",
           null,
           "MBU4491309.1"
          ]
         ],
         "hovertemplate": "<b>%{customdata[0]}</b><br>Organism: %{customdata[1]}<br>Kingdom: %{customdata[2]}<br>Phylum: %{customdata[3]}</b><br>Source ID: %{customdata[4]}<extra></extra>",
         "marker": {
          "color": "rgb(115, 207, 85)",
          "size": 7
         },
         "mode": "markers",
         "text": "methionine adenosyltransferase",
         "type": "scatter3d",
         "x": [
          -0.1423740123120926
         ],
         "y": [
          -0.009037198344798172
         ],
         "z": [
          -0.042382731396733146
         ]
        },
        {
         "customdata": [
          [
           "methionine adenosyltransferase",
           "Methanothrix",
           "Euryarchaeota",
           "Methanomicrobia",
           "WP_011695912.1"
          ]
         ],
         "hovertemplate": "<b>%{customdata[0]}</b><br>Organism: %{customdata[1]}<br>Kingdom: %{customdata[2]}<br>Phylum: %{customdata[3]}</b><br>Source ID: %{customdata[4]}<extra></extra>",
         "marker": {
          "color": "rgb(38, 130, 142)",
          "size": 7
         },
         "mode": "markers",
         "text": "methionine adenosyltransferase",
         "type": "scatter3d",
         "x": [
          -0.1744467217653833
         ],
         "y": [
          0.010747020028385089
         ],
         "z": [
          0.0021129471278614714
         ]
        },
        {
         "customdata": [
          [
           "methionine adenosyltransferase",
           "Archaeoglobus veneficus",
           "Euryarchaeota",
           "Archaeoglobales",
           "HDD36689.1"
          ]
         ],
         "hovertemplate": "<b>%{customdata[0]}</b><br>Organism: %{customdata[1]}<br>Kingdom: %{customdata[2]}<br>Phylum: %{customdata[3]}</b><br>Source ID: %{customdata[4]}<extra></extra>",
         "marker": {
          "color": "rgb(68, 4, 87)",
          "size": 7
         },
         "mode": "markers",
         "text": "methionine adenosyltransferase",
         "type": "scatter3d",
         "x": [
          -0.12824734631872375
         ],
         "y": [
          -0.01841016246026658
         ],
         "z": [
          -0.007912137218673858
         ]
        },
        {
         "customdata": [
          [
           "methionine adenosyltransferase",
           "Methanothermus fervidus",
           "Euryarchaeota",
           "Methanobacteria",
           "WP_013414187.1"
          ]
         ],
         "hovertemplate": "<b>%{customdata[0]}</b><br>Organism: %{customdata[1]}<br>Kingdom: %{customdata[2]}<br>Phylum: %{customdata[3]}</b><br>Source ID: %{customdata[4]}<extra></extra>",
         "marker": {
          "color": "rgb(166, 219, 52)",
          "size": 7
         },
         "mode": "markers",
         "text": "methionine adenosyltransferase",
         "type": "scatter3d",
         "x": [
          -0.06626250530399498
         ],
         "y": [
          -0.01663244526525872
         ],
         "z": [
          -0.08980170125996155
         ]
        },
        {
         "customdata": [
          [
           "methionine adenosyltransferase",
           "Archaeoglobales archaeon",
           "Euryarchaeota",
           "Archaeoglobales",
           "RLI84851.1"
          ]
         ],
         "hovertemplate": "<b>%{customdata[0]}</b><br>Organism: %{customdata[1]}<br>Kingdom: %{customdata[2]}<br>Phylum: %{customdata[3]}</b><br>Source ID: %{customdata[4]}<extra></extra>",
         "marker": {
          "color": "rgb(42, 120, 142)",
          "size": 7
         },
         "mode": "markers",
         "text": "methionine adenosyltransferase",
         "type": "scatter3d",
         "x": [
          -0.11973321136064793
         ],
         "y": [
          -0.024732809160443715
         ],
         "z": [
          0.03603371161823332
         ]
        },
        {
         "customdata": [
          [
           "methionine adenosyltransferase",
           "Methanohalophilus sp. RSK",
           "Euryarchaeota",
           "Methanomicrobia",
           "WP_123137136.1"
          ]
         ],
         "hovertemplate": "<b>%{customdata[0]}</b><br>Organism: %{customdata[1]}<br>Kingdom: %{customdata[2]}<br>Phylum: %{customdata[3]}</b><br>Source ID: %{customdata[4]}<extra></extra>",
         "marker": {
          "color": "rgb(152, 215, 61)",
          "size": 7
         },
         "mode": "markers",
         "text": "methionine adenosyltransferase",
         "type": "scatter3d",
         "x": [
          -0.14841558927220785
         ],
         "y": [
          -0.01968769434312013
         ],
         "z": [
          -0.056928525252301826
         ]
        },
        {
         "customdata": [
          [
           "methionine adenosyltransferase",
           "Candidatus Methanoperedens sp.",
           "Euryarchaeota",
           "Methanomicrobia",
           "MCE8423993.1"
          ]
         ],
         "hovertemplate": "<b>%{customdata[0]}</b><br>Organism: %{customdata[1]}<br>Kingdom: %{customdata[2]}<br>Phylum: %{customdata[3]}</b><br>Source ID: %{customdata[4]}<extra></extra>",
         "marker": {
          "color": "rgb(45, 114, 142)",
          "size": 7
         },
         "mode": "markers",
         "text": "methionine adenosyltransferase",
         "type": "scatter3d",
         "x": [
          -0.13484870962314233
         ],
         "y": [
          -0.011412024482289507
         ],
         "z": [
          -0.04268061496931407
         ]
        },
        {
         "customdata": [
          [
           "S-adenosylmethionine synthetase",
           "Archaeoglobales archaeon ex4484_92",
           "Euryarchaeota",
           "Archaeoglobales",
           "OYT33403.1"
          ]
         ],
         "hovertemplate": "<b>%{customdata[0]}</b><br>Organism: %{customdata[1]}<br>Kingdom: %{customdata[2]}<br>Phylum: %{customdata[3]}</b><br>Source ID: %{customdata[4]}<extra></extra>",
         "marker": {
          "color": "rgb(69, 13, 95)",
          "size": 7
         },
         "mode": "markers",
         "text": "S-adenosylmethionine synthetase",
         "type": "scatter3d",
         "x": [
          -0.12018451421367363
         ],
         "y": [
          -0.04707262747968173
         ],
         "z": [
          0.026579785748234563
         ]
        },
        {
         "customdata": [
          [
           "methionine adenosyltransferase",
           "Euryarchaeota archaeon",
           "Euryarchaeota",
           null,
           "MBI5252857.1"
          ]
         ],
         "hovertemplate": "<b>%{customdata[0]}</b><br>Organism: %{customdata[1]}<br>Kingdom: %{customdata[2]}<br>Phylum: %{customdata[3]}</b><br>Source ID: %{customdata[4]}<extra></extra>",
         "marker": {
          "color": "rgb(115, 207, 85)",
          "size": 7
         },
         "mode": "markers",
         "text": "methionine adenosyltransferase",
         "type": "scatter3d",
         "x": [
          -0.0017836843574728885
         ],
         "y": [
          -0.04834356455977197
         ],
         "z": [
          0.04764362132134663
         ]
        },
        {
         "customdata": [
          [
           "methionine adenosyltransferase",
           "Methanocellales archaeon",
           "Euryarchaeota",
           "Methanomicrobia",
           "MCD5409487.1"
          ]
         ],
         "hovertemplate": "<b>%{customdata[0]}</b><br>Organism: %{customdata[1]}<br>Kingdom: %{customdata[2]}<br>Phylum: %{customdata[3]}</b><br>Source ID: %{customdata[4]}<extra></extra>",
         "marker": {
          "color": "rgb(68, 5, 88)",
          "size": 7
         },
         "mode": "markers",
         "text": "methionine adenosyltransferase",
         "type": "scatter3d",
         "x": [
          -0.14749152171913743
         ],
         "y": [
          -0.0020403905497471163
         ],
         "z": [
          0.005270125360743181
         ]
        },
        {
         "customdata": [
          [
           "methionine adenosyltransferase",
           "Methanosarcina sp. DH2",
           "Euryarchaeota",
           "Methanomicrobia",
           "WP_229389494.1"
          ]
         ],
         "hovertemplate": "<b>%{customdata[0]}</b><br>Organism: %{customdata[1]}<br>Kingdom: %{customdata[2]}<br>Phylum: %{customdata[3]}</b><br>Source ID: %{customdata[4]}<extra></extra>",
         "marker": {
          "color": "rgb(69, 16, 97)",
          "size": 7
         },
         "mode": "markers",
         "text": "methionine adenosyltransferase",
         "type": "scatter3d",
         "x": [
          -0.17051480397426466
         ],
         "y": [
          -0.02800669086439097
         ],
         "z": [
          -0.051943767564206905
         ]
        },
        {
         "customdata": [
          [
           "S-adenosylmethionine synthase",
           "uncultured archaeon",
           "environmental samples",
           null,
           "VVB88143.1"
          ]
         ],
         "hovertemplate": "<b>%{customdata[0]}</b><br>Organism: %{customdata[1]}<br>Kingdom: %{customdata[2]}<br>Phylum: %{customdata[3]}</b><br>Source ID: %{customdata[4]}<extra></extra>",
         "marker": {
          "color": "rgb(35, 162, 134)",
          "size": 7
         },
         "mode": "markers",
         "text": "S-adenosylmethionine synthase",
         "type": "scatter3d",
         "x": [
          -0.14429453575373655
         ],
         "y": [
          0.009815298200922137
         ],
         "z": [
          -0.05272984912892373
         ]
        },
        {
         "customdata": [
          [
           "methionine adenosyltransferase",
           "Methanosarcina sp. MTP4",
           "Euryarchaeota",
           "Methanomicrobia",
           "WP_048181864.1"
          ]
         ],
         "hovertemplate": "<b>%{customdata[0]}</b><br>Organism: %{customdata[1]}<br>Kingdom: %{customdata[2]}<br>Phylum: %{customdata[3]}</b><br>Source ID: %{customdata[4]}<extra></extra>",
         "marker": {
          "color": "rgb(59, 81, 138)",
          "size": 7
         },
         "mode": "markers",
         "text": "methionine adenosyltransferase",
         "type": "scatter3d",
         "x": [
          -0.15021405908524704
         ],
         "y": [
          -0.002311546925185018
         ],
         "z": [
          -0.06693221326758166
         ]
        },
        {
         "customdata": [
          [
           "methionine adenosyltransferase",
           "Methanosarcinales archaeon",
           "Euryarchaeota",
           "Methanomicrobia",
           "NYT01285.1"
          ]
         ],
         "hovertemplate": "<b>%{customdata[0]}</b><br>Organism: %{customdata[1]}<br>Kingdom: %{customdata[2]}<br>Phylum: %{customdata[3]}</b><br>Source ID: %{customdata[4]}<extra></extra>",
         "marker": {
          "color": "rgb(70, 21, 103)",
          "size": 7
         },
         "mode": "markers",
         "text": "methionine adenosyltransferase",
         "type": "scatter3d",
         "x": [
          -0.19191091347116368
         ],
         "y": [
          0.04110931631589917
         ],
         "z": [
          -0.04708814236890892
         ]
        },
        {
         "customdata": [
          [
           "methionine adenosyltransferase",
           "Thermoplasmata archaeon",
           "Candidatus Thermoplasmatota",
           null,
           "MCI4364258.1"
          ]
         ],
         "hovertemplate": "<b>%{customdata[0]}</b><br>Organism: %{customdata[1]}<br>Kingdom: %{customdata[2]}<br>Phylum: %{customdata[3]}</b><br>Source ID: %{customdata[4]}<extra></extra>",
         "marker": {
          "color": "rgb(176, 221, 46)",
          "size": 7
         },
         "mode": "markers",
         "text": "methionine adenosyltransferase",
         "type": "scatter3d",
         "x": [
          0.11949200622959372
         ],
         "y": [
          -0.11568945856796145
         ],
         "z": [
          0.10387897672137622
         ]
        },
        {
         "customdata": [
          [
           "methionine adenosyltransferase",
           "Archaeoglobales archaeon",
           "Euryarchaeota",
           "Archaeoglobales",
           "NHW89294.1"
          ]
         ],
         "hovertemplate": "<b>%{customdata[0]}</b><br>Organism: %{customdata[1]}<br>Kingdom: %{customdata[2]}<br>Phylum: %{customdata[3]}</b><br>Source ID: %{customdata[4]}<extra></extra>",
         "marker": {
          "color": "rgb(42, 120, 142)",
          "size": 7
         },
         "mode": "markers",
         "text": "methionine adenosyltransferase",
         "type": "scatter3d",
         "x": [
          -0.12867821719087305
         ],
         "y": [
          -0.03066065753120214
         ],
         "z": [
          0.018974548095716283
         ]
        },
        {
         "customdata": [
          [
           "S-adenosylmethionine synthase",
           "Methanosaeta sp. PtaU1.Bin060",
           "Euryarchaeota",
           "Methanomicrobia",
           "OPY54184.1"
          ]
         ],
         "hovertemplate": "<b>%{customdata[0]}</b><br>Organism: %{customdata[1]}<br>Kingdom: %{customdata[2]}<br>Phylum: %{customdata[3]}</b><br>Source ID: %{customdata[4]}<extra></extra>",
         "marker": {
          "color": "rgb(109, 206, 88)",
          "size": 7
         },
         "mode": "markers",
         "text": "S-adenosylmethionine synthase",
         "type": "scatter3d",
         "x": [
          -0.19242928593640776
         ],
         "y": [
          0.020290961750487523
         ],
         "z": [
          -0.05390568887558912
         ]
        },
        {
         "customdata": [
          [
           "methionine adenosyltransferase",
           "Methanococcus vannielii",
           "Euryarchaeota",
           "Methanococci",
           "WP_012065777.1"
          ]
         ],
         "hovertemplate": "<b>%{customdata[0]}</b><br>Organism: %{customdata[1]}<br>Kingdom: %{customdata[2]}<br>Phylum: %{customdata[3]}</b><br>Source ID: %{customdata[4]}<extra></extra>",
         "marker": {
          "color": "rgb(32, 155, 138)",
          "size": 7
         },
         "mode": "markers",
         "text": "methionine adenosyltransferase",
         "type": "scatter3d",
         "x": [
          0.007839449757103626
         ],
         "y": [
          -0.05511328573131355
         ],
         "z": [
          -0.0199217673628612
         ]
        },
        {
         "customdata": [
          [
           "methionine adenosyltransferase",
           "Thermoprotei archaeon",
           "Thermoproteota",
           null,
           "RLF24428.1"
          ]
         ],
         "hovertemplate": "<b>%{customdata[0]}</b><br>Organism: %{customdata[1]}<br>Kingdom: %{customdata[2]}<br>Phylum: %{customdata[3]}</b><br>Source ID: %{customdata[4]}<extra></extra>",
         "marker": {
          "color": "rgb(183, 222, 43)",
          "size": 7
         },
         "mode": "markers",
         "text": "methionine adenosyltransferase",
         "type": "scatter3d",
         "x": [
          0.18614181688288073
         ],
         "y": [
          0.08886743329872115
         ],
         "z": [
          0.025008057827424816
         ]
        },
        {
         "customdata": [
          [
           "methionine adenosyltransferase",
           "Thermoplasmata archaeon",
           "Candidatus Thermoplasmatota",
           null,
           "MCI4360054.1"
          ]
         ],
         "hovertemplate": "<b>%{customdata[0]}</b><br>Organism: %{customdata[1]}<br>Kingdom: %{customdata[2]}<br>Phylum: %{customdata[3]}</b><br>Source ID: %{customdata[4]}<extra></extra>",
         "marker": {
          "color": "rgb(176, 221, 46)",
          "size": 7
         },
         "mode": "markers",
         "text": "methionine adenosyltransferase",
         "type": "scatter3d",
         "x": [
          0.1370417223420742
         ],
         "y": [
          -0.14281762425853023
         ],
         "z": [
          0.10776345738340747
         ]
        },
        {
         "customdata": [
          [
           "methionine adenosyltransferase",
           "Methanothrix sp.",
           "Euryarchaeota",
           "Methanomicrobia",
           "MCK9441463.1"
          ]
         ],
         "hovertemplate": "<b>%{customdata[0]}</b><br>Organism: %{customdata[1]}<br>Kingdom: %{customdata[2]}<br>Phylum: %{customdata[3]}</b><br>Source ID: %{customdata[4]}<extra></extra>",
         "marker": {
          "color": "rgb(164, 218, 54)",
          "size": 7
         },
         "mode": "markers",
         "text": "methionine adenosyltransferase",
         "type": "scatter3d",
         "x": [
          -0.20183946684930779
         ],
         "y": [
          0.026809425149816532
         ],
         "z": [
          -0.042832751064901045
         ]
        },
        {
         "customdata": [
          [
           "methionine adenosyltransferase",
           "Methanosarcinaceae archaeon",
           "Euryarchaeota",
           "Methanomicrobia",
           "MBW6470267.1"
          ]
         ],
         "hovertemplate": "<b>%{customdata[0]}</b><br>Organism: %{customdata[1]}<br>Kingdom: %{customdata[2]}<br>Phylum: %{customdata[3]}</b><br>Source ID: %{customdata[4]}<extra></extra>",
         "marker": {
          "color": "rgb(38, 131, 142)",
          "size": 7
         },
         "mode": "markers",
         "text": "methionine adenosyltransferase",
         "type": "scatter3d",
         "x": [
          -0.1771389624518166
         ],
         "y": [
          -0.006791088821448662
         ],
         "z": [
          -0.04798190191607273
         ]
        },
        {
         "customdata": [
          [
           "methionine adenosyltransferase",
           "Archaeoglobaceae archaeon",
           "Euryarchaeota",
           "Archaeoglobales",
           "MCS7122278.1"
          ]
         ],
         "hovertemplate": "<b>%{customdata[0]}</b><br>Organism: %{customdata[1]}<br>Kingdom: %{customdata[2]}<br>Phylum: %{customdata[3]}</b><br>Source ID: %{customdata[4]}<extra></extra>",
         "marker": {
          "color": "rgb(51, 180, 123)",
          "size": 7
         },
         "mode": "markers",
         "text": "methionine adenosyltransferase",
         "type": "scatter3d",
         "x": [
          -0.11363644615098606
         ],
         "y": [
          -0.04398401640267559
         ],
         "z": [
          0.04070403304985813
         ]
        },
        {
         "customdata": [
          [
           "S-adenosylmethionine synthase",
           "uncultured archaeon",
           "environmental samples",
           null,
           "VVB92588.1"
          ]
         ],
         "hovertemplate": "<b>%{customdata[0]}</b><br>Organism: %{customdata[1]}<br>Kingdom: %{customdata[2]}<br>Phylum: %{customdata[3]}</b><br>Source ID: %{customdata[4]}<extra></extra>",
         "marker": {
          "color": "rgb(35, 162, 134)",
          "size": 7
         },
         "mode": "markers",
         "text": "S-adenosylmethionine synthase",
         "type": "scatter3d",
         "x": [
          -0.12561592963316726
         ],
         "y": [
          -0.016628109702191966
         ],
         "z": [
          -0.048465556132277154
         ]
        },
        {
         "customdata": [
          [
           "methionine adenosyltransferase",
           "Methanobacterium alcaliphilum",
           "Euryarchaeota",
           "Methanobacteria",
           "WP_248611105.1"
          ]
         ],
         "hovertemplate": "<b>%{customdata[0]}</b><br>Organism: %{customdata[1]}<br>Kingdom: %{customdata[2]}<br>Phylum: %{customdata[3]}</b><br>Source ID: %{customdata[4]}<extra></extra>",
         "marker": {
          "color": "rgb(130, 210, 76)",
          "size": 7
         },
         "mode": "markers",
         "text": "methionine adenosyltransferase",
         "type": "scatter3d",
         "x": [
          -0.11722773893633405
         ],
         "y": [
          0.009754358535794755
         ],
         "z": [
          -0.1196332539460114
         ]
        },
        {
         "customdata": [
          [
           "methionine adenosyltransferase",
           "Methanosalsum zhilinae",
           "Euryarchaeota",
           "Methanomicrobia",
           "WP_048815409.1"
          ]
         ],
         "hovertemplate": "<b>%{customdata[0]}</b><br>Organism: %{customdata[1]}<br>Kingdom: %{customdata[2]}<br>Phylum: %{customdata[3]}</b><br>Source ID: %{customdata[4]}<extra></extra>",
         "marker": {
          "color": "rgb(123, 209, 80)",
          "size": 7
         },
         "mode": "markers",
         "text": "methionine adenosyltransferase",
         "type": "scatter3d",
         "x": [
          -0.17002002050107184
         ],
         "y": [
          -0.0007660712936008951
         ],
         "z": [
          -0.029798309163708736
         ]
        },
        {
         "customdata": [
          [
           "methionine adenosyltransferase",
           "Archaeoglobaceae archaeon",
           "Euryarchaeota",
           "Archaeoglobales",
           "HID43215.1"
          ]
         ],
         "hovertemplate": "<b>%{customdata[0]}</b><br>Organism: %{customdata[1]}<br>Kingdom: %{customdata[2]}<br>Phylum: %{customdata[3]}</b><br>Source ID: %{customdata[4]}<extra></extra>",
         "marker": {
          "color": "rgb(51, 180, 123)",
          "size": 7
         },
         "mode": "markers",
         "text": "methionine adenosyltransferase",
         "type": "scatter3d",
         "x": [
          -0.1080161242981231
         ],
         "y": [
          -0.014348138128589928
         ],
         "z": [
          -0.017916765344304746
         ]
        },
        {
         "customdata": [
          [
           "methionine adenosyltransferase",
           "Methanotrichaceae archaeon",
           "Euryarchaeota",
           "Methanomicrobia",
           "NPV61856.1"
          ]
         ],
         "hovertemplate": "<b>%{customdata[0]}</b><br>Organism: %{customdata[1]}<br>Kingdom: %{customdata[2]}<br>Phylum: %{customdata[3]}</b><br>Source ID: %{customdata[4]}<extra></extra>",
         "marker": {
          "color": "rgb(33, 160, 136)",
          "size": 7
         },
         "mode": "markers",
         "text": "methionine adenosyltransferase",
         "type": "scatter3d",
         "x": [
          -0.16687516514604725
         ],
         "y": [
          0.01656728885951054
         ],
         "z": [
          -0.020152944008661754
         ]
        },
        {
         "customdata": [
          [
           "methionine adenosyltransferase",
           "Euryarchaeota archaeon",
           "Euryarchaeota",
           null,
           "MBU4077635.1"
          ]
         ],
         "hovertemplate": "<b>%{customdata[0]}</b><br>Organism: %{customdata[1]}<br>Kingdom: %{customdata[2]}<br>Phylum: %{customdata[3]}</b><br>Source ID: %{customdata[4]}<extra></extra>",
         "marker": {
          "color": "rgb(115, 207, 85)",
          "size": 7
         },
         "mode": "markers",
         "text": "methionine adenosyltransferase",
         "type": "scatter3d",
         "x": [
          -0.14861527753309517
         ],
         "y": [
          0.005745997515156888
         ],
         "z": [
          -0.03638828251634966
         ]
        },
        {
         "customdata": [
          [
           "methionine adenosyltransferase",
           "Methanotrichaceae archaeon",
           "Euryarchaeota",
           "Methanomicrobia",
           "MBN1323584.1"
          ]
         ],
         "hovertemplate": "<b>%{customdata[0]}</b><br>Organism: %{customdata[1]}<br>Kingdom: %{customdata[2]}<br>Phylum: %{customdata[3]}</b><br>Source ID: %{customdata[4]}<extra></extra>",
         "marker": {
          "color": "rgb(33, 160, 136)",
          "size": 7
         },
         "mode": "markers",
         "text": "methionine adenosyltransferase",
         "type": "scatter3d",
         "x": [
          -0.19583837121851752
         ],
         "y": [
          0.020083071092354434
         ],
         "z": [
          -0.019284611787619216
         ]
        },
        {
         "customdata": [
          [
           "S-adenosylmethionine synthase",
           "uncultured archaeon",
           "environmental samples",
           null,
           "VVB62794.1"
          ]
         ],
         "hovertemplate": "<b>%{customdata[0]}</b><br>Organism: %{customdata[1]}<br>Kingdom: %{customdata[2]}<br>Phylum: %{customdata[3]}</b><br>Source ID: %{customdata[4]}<extra></extra>",
         "marker": {
          "color": "rgb(35, 162, 134)",
          "size": 7
         },
         "mode": "markers",
         "text": "S-adenosylmethionine synthase",
         "type": "scatter3d",
         "x": [
          -0.1837613406423114
         ],
         "y": [
          0.036010481776322954
         ],
         "z": [
          -0.05383791981449384
         ]
        },
        {
         "customdata": [
          [
           "methionine adenosyltransferase",
           "Candidatus Bathyarchaeota archaeon",
           "Candidatus Bathyarchaeota",
           null,
           "RLG99681.1"
          ]
         ],
         "hovertemplate": "<b>%{customdata[0]}</b><br>Organism: %{customdata[1]}<br>Kingdom: %{customdata[2]}<br>Phylum: %{customdata[3]}</b><br>Source ID: %{customdata[4]}<extra></extra>",
         "marker": {
          "color": "rgb(55, 184, 120)",
          "size": 7
         },
         "mode": "markers",
         "text": "methionine adenosyltransferase",
         "type": "scatter3d",
         "x": [
          -0.13182240628498057
         ],
         "y": [
          -0.02134845504475399
         ],
         "z": [
          -0.006677244190201808
         ]
        },
        {
         "customdata": [
          [
           "methionine adenosyltransferase",
           "Methanothrix sp.",
           "Euryarchaeota",
           "Methanomicrobia",
           "NMC09821.1"
          ]
         ],
         "hovertemplate": "<b>%{customdata[0]}</b><br>Organism: %{customdata[1]}<br>Kingdom: %{customdata[2]}<br>Phylum: %{customdata[3]}</b><br>Source ID: %{customdata[4]}<extra></extra>",
         "marker": {
          "color": "rgb(164, 218, 54)",
          "size": 7
         },
         "mode": "markers",
         "text": "methionine adenosyltransferase",
         "type": "scatter3d",
         "x": [
          -0.16150055121821183
         ],
         "y": [
          0.002332852549033516
         ],
         "z": [
          -0.020878293099882813
         ]
        },
        {
         "customdata": [
          [
           "conserved protein",
           "Methanothermobacter thermautotrophicus str. Delta H",
           "Euryarchaeota",
           "Methanobacteria",
           "AAB85853.1"
          ]
         ],
         "hovertemplate": "<b>%{customdata[0]}</b><br>Organism: %{customdata[1]}<br>Kingdom: %{customdata[2]}<br>Phylum: %{customdata[3]}</b><br>Source ID: %{customdata[4]}<extra></extra>",
         "marker": {
          "color": "rgb(136, 212, 72)",
          "size": 7
         },
         "mode": "markers",
         "text": "conserved protein",
         "type": "scatter3d",
         "x": [
          -0.10165207356589565
         ],
         "y": [
          0.00021835944657785084
         ],
         "z": [
          -0.09437256131666757
         ]
        },
        {
         "customdata": [
          [
           "methionine adenosyltransferase",
           "uncultured organism",
           "environmental samples",
           null,
           "AGF93535.1"
          ]
         ],
         "hovertemplate": "<b>%{customdata[0]}</b><br>Organism: %{customdata[1]}<br>Kingdom: %{customdata[2]}<br>Phylum: %{customdata[3]}</b><br>Source ID: %{customdata[4]}<extra></extra>",
         "marker": {
          "color": "rgb(113, 207, 86)",
          "size": 7
         },
         "mode": "markers",
         "text": "methionine adenosyltransferase",
         "type": "scatter3d",
         "x": [
          0.30509697577372197
         ],
         "y": [
          0.33464319162465295
         ],
         "z": [
          0.5949240523997081
         ]
        },
        {
         "customdata": [
          [
           "S-adenosylmethionine synthetase",
           "Methanosarcinales archaeon ex4572_44",
           "Euryarchaeota",
           "Methanomicrobia",
           "PHP46028.1"
          ]
         ],
         "hovertemplate": "<b>%{customdata[0]}</b><br>Organism: %{customdata[1]}<br>Kingdom: %{customdata[2]}<br>Phylum: %{customdata[3]}</b><br>Source ID: %{customdata[4]}<extra></extra>",
         "marker": {
          "color": "rgb(72, 36, 116)",
          "size": 7
         },
         "mode": "markers",
         "text": "S-adenosylmethionine synthetase",
         "type": "scatter3d",
         "x": [
          -0.15997127354002005
         ],
         "y": [
          -0.024596356211131917
         ],
         "z": [
          -0.041056068784639306
         ]
        },
        {
         "customdata": [
          [
           "methionine adenosyltransferase",
           "Methanotrichaceae archaeon",
           "Euryarchaeota",
           "Methanomicrobia",
           "MCJ7444871.1"
          ]
         ],
         "hovertemplate": "<b>%{customdata[0]}</b><br>Organism: %{customdata[1]}<br>Kingdom: %{customdata[2]}<br>Phylum: %{customdata[3]}</b><br>Source ID: %{customdata[4]}<extra></extra>",
         "marker": {
          "color": "rgb(33, 160, 136)",
          "size": 7
         },
         "mode": "markers",
         "text": "methionine adenosyltransferase",
         "type": "scatter3d",
         "x": [
          -0.15735233625831171
         ],
         "y": [
          0.01867967076510215
         ],
         "z": [
          -0.015521500647484901
         ]
        },
        {
         "customdata": [
          [
           "methionine adenosyltransferase",
           "Methanolobus profundi",
           "Euryarchaeota",
           "Methanomicrobia",
           "WP_091935294.1"
          ]
         ],
         "hovertemplate": "<b>%{customdata[0]}</b><br>Organism: %{customdata[1]}<br>Kingdom: %{customdata[2]}<br>Phylum: %{customdata[3]}</b><br>Source ID: %{customdata[4]}<extra></extra>",
         "marker": {
          "color": "rgb(95, 200, 97)",
          "size": 7
         },
         "mode": "markers",
         "text": "methionine adenosyltransferase",
         "type": "scatter3d",
         "x": [
          -0.16434881828749384
         ],
         "y": [
          -0.008167803642008408
         ],
         "z": [
          -0.05936833886044737
         ]
        },
        {
         "customdata": [
          [
           "methionine adenosyltransferase",
           "Methanothrix sp.",
           "Euryarchaeota",
           "Methanomicrobia",
           "MBP7070042.1"
          ]
         ],
         "hovertemplate": "<b>%{customdata[0]}</b><br>Organism: %{customdata[1]}<br>Kingdom: %{customdata[2]}<br>Phylum: %{customdata[3]}</b><br>Source ID: %{customdata[4]}<extra></extra>",
         "marker": {
          "color": "rgb(164, 218, 54)",
          "size": 7
         },
         "mode": "markers",
         "text": "methionine adenosyltransferase",
         "type": "scatter3d",
         "x": [
          -0.19857172539619822
         ],
         "y": [
          0.003731225716596555
         ],
         "z": [
          -0.024004092866657268
         ]
        },
        {
         "customdata": [
          [
           "methionine adenosyltransferase",
           "Thermoplasmata archaeon",
           "Candidatus Thermoplasmatota",
           null,
           "MCI4324893.1"
          ]
         ],
         "hovertemplate": "<b>%{customdata[0]}</b><br>Organism: %{customdata[1]}<br>Kingdom: %{customdata[2]}<br>Phylum: %{customdata[3]}</b><br>Source ID: %{customdata[4]}<extra></extra>",
         "marker": {
          "color": "rgb(176, 221, 46)",
          "size": 7
         },
         "mode": "markers",
         "text": "methionine adenosyltransferase",
         "type": "scatter3d",
         "x": [
          0.11396322305145991
         ],
         "y": [
          -0.11517508383825341
         ],
         "z": [
          0.08952590077397163
         ]
        },
        {
         "customdata": [
          [
           "methionine adenosyltransferase",
           "Methanobacteriaceae archaeon",
           "Euryarchaeota",
           "Methanobacteria",
           "NYB27336.1"
          ]
         ],
         "hovertemplate": "<b>%{customdata[0]}</b><br>Organism: %{customdata[1]}<br>Kingdom: %{customdata[2]}<br>Phylum: %{customdata[3]}</b><br>Source ID: %{customdata[4]}<extra></extra>",
         "marker": {
          "color": "rgb(150, 215, 63)",
          "size": 7
         },
         "mode": "markers",
         "text": "methionine adenosyltransferase",
         "type": "scatter3d",
         "x": [
          -0.1159464445874244
         ],
         "y": [
          0.004900997490069885
         ],
         "z": [
          -0.10948620830254878
         ]
        },
        {
         "customdata": [
          [
           "methionine adenosyltransferase",
           "Thermoplasmata archaeon",
           "Candidatus Thermoplasmatota",
           null,
           "RLF67685.1"
          ]
         ],
         "hovertemplate": "<b>%{customdata[0]}</b><br>Organism: %{customdata[1]}<br>Kingdom: %{customdata[2]}<br>Phylum: %{customdata[3]}</b><br>Source ID: %{customdata[4]}<extra></extra>",
         "marker": {
          "color": "rgb(176, 221, 46)",
          "size": 7
         },
         "mode": "markers",
         "text": "methionine adenosyltransferase",
         "type": "scatter3d",
         "x": [
          0.0887914279556507
         ],
         "y": [
          -0.12689910812340505
         ],
         "z": [
          0.1131605690485117
         ]
        },
        {
         "customdata": [
          [
           "S-adenosylmethionine synthetase",
           "Methanolobus sp. T82-4",
           "Euryarchaeota",
           "Methanomicrobia",
           "KXS44515.1"
          ]
         ],
         "hovertemplate": "<b>%{customdata[0]}</b><br>Organism: %{customdata[1]}<br>Kingdom: %{customdata[2]}<br>Phylum: %{customdata[3]}</b><br>Source ID: %{customdata[4]}<extra></extra>",
         "marker": {
          "color": "rgb(35, 141, 140)",
          "size": 7
         },
         "mode": "markers",
         "text": "S-adenosylmethionine synthetase",
         "type": "scatter3d",
         "x": [
          -0.16613466162273277
         ],
         "y": [
          -0.004088962522939051
         ],
         "z": [
          -0.063906470782751
         ]
        },
        {
         "customdata": [
          [
           "methionine adenosyltransferase",
           "Methanosarcinaceae archaeon",
           "Euryarchaeota",
           "Methanomicrobia",
           "MCD4704385.1"
          ]
         ],
         "hovertemplate": "<b>%{customdata[0]}</b><br>Organism: %{customdata[1]}<br>Kingdom: %{customdata[2]}<br>Phylum: %{customdata[3]}</b><br>Source ID: %{customdata[4]}<extra></extra>",
         "marker": {
          "color": "rgb(38, 131, 142)",
          "size": 7
         },
         "mode": "markers",
         "text": "methionine adenosyltransferase",
         "type": "scatter3d",
         "x": [
          -0.16184436689568765
         ],
         "y": [
          0.008117639273246116
         ],
         "z": [
          -0.06666634426916421
         ]
        },
        {
         "customdata": [
          [
           "S-adenosylmethionine synthase",
           "Methanomethylovorans sp. PtaU1.Bin093",
           "Euryarchaeota",
           "Methanomicrobia",
           "OPY20232.1"
          ]
         ],
         "hovertemplate": "<b>%{customdata[0]}</b><br>Organism: %{customdata[1]}<br>Kingdom: %{customdata[2]}<br>Phylum: %{customdata[3]}</b><br>Source ID: %{customdata[4]}<extra></extra>",
         "marker": {
          "color": "rgb(71, 32, 113)",
          "size": 7
         },
         "mode": "markers",
         "text": "S-adenosylmethionine synthase",
         "type": "scatter3d",
         "x": [
          -0.1868463273073264
         ],
         "y": [
          -0.005369740436586959
         ],
         "z": [
          -0.055410736477271225
         ]
        },
        {
         "customdata": [
          [
           "S-adenosylmethionine synthetase",
           "Methanococcus maripaludis",
           "Euryarchaeota",
           "Methanococci",
           "AVB76578.1"
          ]
         ],
         "hovertemplate": "<b>%{customdata[0]}</b><br>Organism: %{customdata[1]}<br>Kingdom: %{customdata[2]}<br>Phylum: %{customdata[3]}</b><br>Source ID: %{customdata[4]}<extra></extra>",
         "marker": {
          "color": "rgb(71, 30, 111)",
          "size": 7
         },
         "mode": "markers",
         "text": "S-adenosylmethionine synthetase",
         "type": "scatter3d",
         "x": [
          0.005880938941084088
         ],
         "y": [
          -0.08945405170001257
         ],
         "z": [
          -0.018406948209041887
         ]
        },
        {
         "customdata": [
          [
           "methionine adenosyltransferase",
           "Methanosarcinaceae archaeon",
           "Euryarchaeota",
           "Methanomicrobia",
           "HJH29718.1"
          ]
         ],
         "hovertemplate": "<b>%{customdata[0]}</b><br>Organism: %{customdata[1]}<br>Kingdom: %{customdata[2]}<br>Phylum: %{customdata[3]}</b><br>Source ID: %{customdata[4]}<extra></extra>",
         "marker": {
          "color": "rgb(38, 131, 142)",
          "size": 7
         },
         "mode": "markers",
         "text": "methionine adenosyltransferase",
         "type": "scatter3d",
         "x": [
          -0.1642125892558234
         ],
         "y": [
          -0.017303786416171134
         ],
         "z": [
          -0.054735635470718066
         ]
        },
        {
         "customdata": [
          [
           "methionine adenosyltransferase",
           "Archaeoglobaceae archaeon",
           "Euryarchaeota",
           "Archaeoglobales",
           "MCS7143645.1"
          ]
         ],
         "hovertemplate": "<b>%{customdata[0]}</b><br>Organism: %{customdata[1]}<br>Kingdom: %{customdata[2]}<br>Phylum: %{customdata[3]}</b><br>Source ID: %{customdata[4]}<extra></extra>",
         "marker": {
          "color": "rgb(51, 180, 123)",
          "size": 7
         },
         "mode": "markers",
         "text": "methionine adenosyltransferase",
         "type": "scatter3d",
         "x": [
          -0.08515725058210763
         ],
         "y": [
          -0.03134424558367831
         ],
         "z": [
          0.03639065725014678
         ]
        },
        {
         "customdata": [
          [
           "methionine adenosyltransferase",
           "Methanothrix sp.",
           "Euryarchaeota",
           "Methanomicrobia",
           "MBP8624531.1"
          ]
         ],
         "hovertemplate": "<b>%{customdata[0]}</b><br>Organism: %{customdata[1]}<br>Kingdom: %{customdata[2]}<br>Phylum: %{customdata[3]}</b><br>Source ID: %{customdata[4]}<extra></extra>",
         "marker": {
          "color": "rgb(164, 218, 54)",
          "size": 7
         },
         "mode": "markers",
         "text": "methionine adenosyltransferase",
         "type": "scatter3d",
         "x": [
          -0.16982214784854088
         ],
         "y": [
          0.008742630911699778
         ],
         "z": [
          -0.03863867837875655
         ]
        },
        {
         "customdata": [
          [
           "methionine adenosyltransferase",
           "Methanobacterium alkalithermotolerans",
           "Euryarchaeota",
           "Methanobacteria",
           "WP_211532318.1"
          ]
         ],
         "hovertemplate": "<b>%{customdata[0]}</b><br>Organism: %{customdata[1]}<br>Kingdom: %{customdata[2]}<br>Phylum: %{customdata[3]}</b><br>Source ID: %{customdata[4]}<extra></extra>",
         "marker": {
          "color": "rgb(189, 223, 42)",
          "size": 7
         },
         "mode": "markers",
         "text": "methionine adenosyltransferase",
         "type": "scatter3d",
         "x": [
          -0.0959118146511117
         ],
         "y": [
          -0.014011358874037197
         ],
         "z": [
          -0.09912847183937619
         ]
        },
        {
         "customdata": [
          [
           "methionine adenosyltransferase",
           "Methanosarcinaceae archaeon",
           "Euryarchaeota",
           "Methanomicrobia",
           "MBN2110251.1"
          ]
         ],
         "hovertemplate": "<b>%{customdata[0]}</b><br>Organism: %{customdata[1]}<br>Kingdom: %{customdata[2]}<br>Phylum: %{customdata[3]}</b><br>Source ID: %{customdata[4]}<extra></extra>",
         "marker": {
          "color": "rgb(38, 131, 142)",
          "size": 7
         },
         "mode": "markers",
         "text": "methionine adenosyltransferase",
         "type": "scatter3d",
         "x": [
          -0.1584213817518695
         ],
         "y": [
          -0.009903630884124943
         ],
         "z": [
          -0.06717662788970788
         ]
        },
        {
         "customdata": [
          [
           "methionine adenosyltransferase",
           "Methanohalophilus levihalophilus",
           "Euryarchaeota",
           "Methanomicrobia",
           "WP_245312871.1"
          ]
         ],
         "hovertemplate": "<b>%{customdata[0]}</b><br>Organism: %{customdata[1]}<br>Kingdom: %{customdata[2]}<br>Phylum: %{customdata[3]}</b><br>Source ID: %{customdata[4]}<extra></extra>",
         "marker": {
          "color": "rgb(39, 167, 131)",
          "size": 7
         },
         "mode": "markers",
         "text": "methionine adenosyltransferase",
         "type": "scatter3d",
         "x": [
          -0.14854391357346586
         ],
         "y": [
          -0.009021596349734352
         ],
         "z": [
          -0.06961859058289133
         ]
        },
        {
         "customdata": [
          [
           "methionine adenosyltransferase",
           "Candidatus Methanoperedens sp. BLZ2",
           "Euryarchaeota",
           "Methanomicrobia",
           "WP_097297927.1"
          ]
         ],
         "hovertemplate": "<b>%{customdata[0]}</b><br>Organism: %{customdata[1]}<br>Kingdom: %{customdata[2]}<br>Phylum: %{customdata[3]}</b><br>Source ID: %{customdata[4]}<extra></extra>",
         "marker": {
          "color": "rgb(63, 71, 136)",
          "size": 7
         },
         "mode": "markers",
         "text": "methionine adenosyltransferase",
         "type": "scatter3d",
         "x": [
          -0.14659150867117618
         ],
         "y": [
          0.004836302314429766
         ],
         "z": [
          -0.06506936809066578
         ]
        },
        {
         "customdata": [
          [
           "methionine adenosyltransferase",
           "Euryarchaeota archaeon",
           "Euryarchaeota",
           null,
           "MBU2617480.1"
          ]
         ],
         "hovertemplate": "<b>%{customdata[0]}</b><br>Organism: %{customdata[1]}<br>Kingdom: %{customdata[2]}<br>Phylum: %{customdata[3]}</b><br>Source ID: %{customdata[4]}<extra></extra>",
         "marker": {
          "color": "rgb(115, 207, 85)",
          "size": 7
         },
         "mode": "markers",
         "text": "methionine adenosyltransferase",
         "type": "scatter3d",
         "x": [
          -0.10547233514527216
         ],
         "y": [
          -0.03073759047990853
         ],
         "z": [
          -0.0017148090959857008
         ]
        },
        {
         "customdata": [
          [
           "methionine adenosyltransferase",
           "Methanosarcinales archaeon",
           "Euryarchaeota",
           "Methanomicrobia",
           "HID28100.1"
          ]
         ],
         "hovertemplate": "<b>%{customdata[0]}</b><br>Organism: %{customdata[1]}<br>Kingdom: %{customdata[2]}<br>Phylum: %{customdata[3]}</b><br>Source ID: %{customdata[4]}<extra></extra>",
         "marker": {
          "color": "rgb(70, 21, 103)",
          "size": 7
         },
         "mode": "markers",
         "text": "methionine adenosyltransferase",
         "type": "scatter3d",
         "x": [
          -0.15147732304593262
         ],
         "y": [
          -0.024770516614231842
         ],
         "z": [
          -0.025926865673923893
         ]
        },
        {
         "customdata": [
          [
           "methionine adenosyltransferase",
           "Methanobacterium sp.",
           "Euryarchaeota",
           "Methanobacteria",
           "MCE5214126.1"
          ]
         ],
         "hovertemplate": "<b>%{customdata[0]}</b><br>Organism: %{customdata[1]}<br>Kingdom: %{customdata[2]}<br>Phylum: %{customdata[3]}</b><br>Source ID: %{customdata[4]}<extra></extra>",
         "marker": {
          "color": "rgb(44, 115, 142)",
          "size": 7
         },
         "mode": "markers",
         "text": "methionine adenosyltransferase",
         "type": "scatter3d",
         "x": [
          -0.10545276416123912
         ],
         "y": [
          0.00008921738132678636
         ],
         "z": [
          -0.12234741833333147
         ]
        },
        {
         "customdata": [
          [
           "methionine adenosyltransferase",
           "Candidatus Altiarchaeota archaeon",
           "Candidatus Altarchaeota",
           null,
           "MBN2014929.1"
          ]
         ],
         "hovertemplate": "<b>%{customdata[0]}</b><br>Organism: %{customdata[1]}<br>Kingdom: %{customdata[2]}<br>Phylum: %{customdata[3]}</b><br>Source ID: %{customdata[4]}<extra></extra>",
         "marker": {
          "color": "rgb(80, 194, 106)",
          "size": 7
         },
         "mode": "markers",
         "text": "methionine adenosyltransferase",
         "type": "scatter3d",
         "x": [
          -0.015176482590192953
         ],
         "y": [
          -0.04358666295745576
         ],
         "z": [
          0.167127941764437
         ]
        },
        {
         "customdata": [
          [
           "methionine adenosyltransferase",
           "Thermoprotei archaeon",
           "Thermoproteota",
           null,
           "MCD6510857.1"
          ]
         ],
         "hovertemplate": "<b>%{customdata[0]}</b><br>Organism: %{customdata[1]}<br>Kingdom: %{customdata[2]}<br>Phylum: %{customdata[3]}</b><br>Source ID: %{customdata[4]}<extra></extra>",
         "marker": {
          "color": "rgb(183, 222, 43)",
          "size": 7
         },
         "mode": "markers",
         "text": "methionine adenosyltransferase",
         "type": "scatter3d",
         "x": [
          0.22710393719211208
         ],
         "y": [
          0.14073759702008687
         ],
         "z": [
          -0.004065861167016623
         ]
        },
        {
         "customdata": [
          [
           "methionine adenosyltransferase",
           "Methanosarcinaceae archaeon",
           "Euryarchaeota",
           "Methanomicrobia",
           "HJH31947.1"
          ]
         ],
         "hovertemplate": "<b>%{customdata[0]}</b><br>Organism: %{customdata[1]}<br>Kingdom: %{customdata[2]}<br>Phylum: %{customdata[3]}</b><br>Source ID: %{customdata[4]}<extra></extra>",
         "marker": {
          "color": "rgb(38, 131, 142)",
          "size": 7
         },
         "mode": "markers",
         "text": "methionine adenosyltransferase",
         "type": "scatter3d",
         "x": [
          -0.1675291086001379
         ],
         "y": [
          -0.007132970970393257
         ],
         "z": [
          -0.05577323022595608
         ]
        },
        {
         "customdata": [
          [
           "methionine adenosyltransferase",
           "Methanolobus chelungpuianus",
           "Euryarchaeota",
           "Methanomicrobia",
           "WP_256622243.1"
          ]
         ],
         "hovertemplate": "<b>%{customdata[0]}</b><br>Organism: %{customdata[1]}<br>Kingdom: %{customdata[2]}<br>Phylum: %{customdata[3]}</b><br>Source ID: %{customdata[4]}<extra></extra>",
         "marker": {
          "color": "rgb(251, 231, 37)",
          "size": 7
         },
         "mode": "markers",
         "text": "methionine adenosyltransferase",
         "type": "scatter3d",
         "x": [
          -0.13991920319601744
         ],
         "y": [
          -0.01668525849872159
         ],
         "z": [
          -0.07185803468160545
         ]
        },
        {
         "customdata": [
          [
           "methionine adenosyltransferase",
           "Candidatus Methanoperedenaceae archaeon",
           "Euryarchaeota",
           "Methanomicrobia",
           "HIH44319.1"
          ]
         ],
         "hovertemplate": "<b>%{customdata[0]}</b><br>Organism: %{customdata[1]}<br>Kingdom: %{customdata[2]}<br>Phylum: %{customdata[3]}</b><br>Source ID: %{customdata[4]}<extra></extra>",
         "marker": {
          "color": "rgb(205, 225, 41)",
          "size": 7
         },
         "mode": "markers",
         "text": "methionine adenosyltransferase",
         "type": "scatter3d",
         "x": [
          -0.1664310260551494
         ],
         "y": [
          -0.004399332077353898
         ],
         "z": [
          -0.024377617358988315
         ]
        },
        {
         "customdata": [
          [
           "methionine adenosyltransferase",
           "Candidatus Nanopusillus sp.",
           "Nanoarchaeota",
           "Nanoarchaeales",
           "HIP90423.1"
          ]
         ],
         "hovertemplate": "<b>%{customdata[0]}</b><br>Organism: %{customdata[1]}<br>Kingdom: %{customdata[2]}<br>Phylum: %{customdata[3]}</b><br>Source ID: %{customdata[4]}<extra></extra>",
         "marker": {
          "color": "rgb(66, 58, 129)",
          "size": 7
         },
         "mode": "markers",
         "text": "methionine adenosyltransferase",
         "type": "scatter3d",
         "x": [
          0.03221144407756771
         ],
         "y": [
          -0.0786075146470378
         ],
         "z": [
          0.045022077058054354
         ]
        },
        {
         "customdata": [
          [
           "methionine adenosyltransferase",
           "Methanosarcinaceae archaeon",
           "Euryarchaeota",
           "Methanomicrobia",
           "NLI62906.1"
          ]
         ],
         "hovertemplate": "<b>%{customdata[0]}</b><br>Organism: %{customdata[1]}<br>Kingdom: %{customdata[2]}<br>Phylum: %{customdata[3]}</b><br>Source ID: %{customdata[4]}<extra></extra>",
         "marker": {
          "color": "rgb(38, 131, 142)",
          "size": 7
         },
         "mode": "markers",
         "text": "methionine adenosyltransferase",
         "type": "scatter3d",
         "x": [
          -0.12065827687904654
         ],
         "y": [
          -0.02300825487376208
         ],
         "z": [
          -0.032031886314911696
         ]
        },
        {
         "customdata": [
          [
           "methionine adenosyltransferase",
           "Methanosarcinaceae archaeon",
           "Euryarchaeota",
           "Methanomicrobia",
           "MBO4302570.1"
          ]
         ],
         "hovertemplate": "<b>%{customdata[0]}</b><br>Organism: %{customdata[1]}<br>Kingdom: %{customdata[2]}<br>Phylum: %{customdata[3]}</b><br>Source ID: %{customdata[4]}<extra></extra>",
         "marker": {
          "color": "rgb(38, 131, 142)",
          "size": 7
         },
         "mode": "markers",
         "text": "methionine adenosyltransferase",
         "type": "scatter3d",
         "x": [
          -0.1477972275378231
         ],
         "y": [
          0.007635487523777142
         ],
         "z": [
          -0.042746219738975536
         ]
        },
        {
         "customdata": [
          [
           "methionine adenosyltransferase",
           "Euryarchaeota archaeon",
           "Euryarchaeota",
           null,
           "MCD6502674.1"
          ]
         ],
         "hovertemplate": "<b>%{customdata[0]}</b><br>Organism: %{customdata[1]}<br>Kingdom: %{customdata[2]}<br>Phylum: %{customdata[3]}</b><br>Source ID: %{customdata[4]}<extra></extra>",
         "marker": {
          "color": "rgb(115, 207, 85)",
          "size": 7
         },
         "mode": "markers",
         "text": "methionine adenosyltransferase",
         "type": "scatter3d",
         "x": [
          0.13871422048958143
         ],
         "y": [
          -0.15425990327470115
         ],
         "z": [
          0.054875666540619684
         ]
        },
        {
         "customdata": [
          [
           "methionine adenosyltransferase",
           "Candidatus Aenigmarchaeota archaeon",
           "Candidatus Aenigmarchaeota",
           null,
           "MBI2971037.1"
          ]
         ],
         "hovertemplate": "<b>%{customdata[0]}</b><br>Organism: %{customdata[1]}<br>Kingdom: %{customdata[2]}<br>Phylum: %{customdata[3]}</b><br>Source ID: %{customdata[4]}<extra></extra>",
         "marker": {
          "color": "rgb(85, 196, 103)",
          "size": 7
         },
         "mode": "markers",
         "text": "methionine adenosyltransferase",
         "type": "scatter3d",
         "x": [
          -0.7316955890335949
         ],
         "y": [
          -0.7689958377265071
         ],
         "z": [
          -0.8273934355894998
         ]
        },
        {
         "customdata": [
          [
           "methionine adenosyltransferase",
           "Methanococcus voltae",
           "Euryarchaeota",
           "Methanococci",
           "WP_209631652.1"
          ]
         ],
         "hovertemplate": "<b>%{customdata[0]}</b><br>Organism: %{customdata[1]}<br>Kingdom: %{customdata[2]}<br>Phylum: %{customdata[3]}</b><br>Source ID: %{customdata[4]}<extra></extra>",
         "marker": {
          "color": "rgb(69, 8, 90)",
          "size": 7
         },
         "mode": "markers",
         "text": "methionine adenosyltransferase",
         "type": "scatter3d",
         "x": [
          0.00874669865468458
         ],
         "y": [
          -0.10507514090102442
         ],
         "z": [
          0.006676919192234695
         ]
        },
        {
         "customdata": [
          [
           "S-adenosylmethionine synthetase",
           "Candidatus Syntrophoarchaeum caldarius",
           "Euryarchaeota",
           "Methanomicrobia",
           "OFV67108.1"
          ]
         ],
         "hovertemplate": "<b>%{customdata[0]}</b><br>Organism: %{customdata[1]}<br>Kingdom: %{customdata[2]}<br>Phylum: %{customdata[3]}</b><br>Source ID: %{customdata[4]}<extra></extra>",
         "marker": {
          "color": "rgb(50, 102, 142)",
          "size": 7
         },
         "mode": "markers",
         "text": "S-adenosylmethionine synthetase",
         "type": "scatter3d",
         "x": [
          -0.15825679109009405
         ],
         "y": [
          -0.04236557131649251
         ],
         "z": [
          -0.011714545277134386
         ]
        },
        {
         "customdata": [
          [
           "S-adenosylmethionine synthase",
           "Candidatus Methanoperedenaceae archaeon GB37",
           "Euryarchaeota",
           "Methanomicrobia",
           "CAD7775635.1"
          ]
         ],
         "hovertemplate": "<b>%{customdata[0]}</b><br>Organism: %{customdata[1]}<br>Kingdom: %{customdata[2]}<br>Phylum: %{customdata[3]}</b><br>Source ID: %{customdata[4]}<extra></extra>",
         "marker": {
          "color": "rgb(86, 196, 102)",
          "size": 7
         },
         "mode": "markers",
         "text": "S-adenosylmethionine synthase",
         "type": "scatter3d",
         "x": [
          -0.15824828608861205
         ],
         "y": [
          -0.014512671889932908
         ],
         "z": [
          -0.03233405283973844
         ]
        },
        {
         "customdata": [
          [
           "methionine adenosyltransferase",
           "Thermoprotei archaeon",
           "Thermoproteota",
           null,
           "MCD6095735.1"
          ]
         ],
         "hovertemplate": "<b>%{customdata[0]}</b><br>Organism: %{customdata[1]}<br>Kingdom: %{customdata[2]}<br>Phylum: %{customdata[3]}</b><br>Source ID: %{customdata[4]}<extra></extra>",
         "marker": {
          "color": "rgb(183, 222, 43)",
          "size": 7
         },
         "mode": "markers",
         "text": "methionine adenosyltransferase",
         "type": "scatter3d",
         "x": [
          0.1722635611235355
         ],
         "y": [
          0.07388366594362433
         ],
         "z": [
          0.01363687033721926
         ]
        },
        {
         "customdata": [
          [
           "methionine adenosyltransferase",
           "Candidatus Alkanophagales archaeon",
           "Euryarchaeota",
           "Methanomicrobia",
           "RLG39174.1"
          ]
         ],
         "hovertemplate": "<b>%{customdata[0]}</b><br>Organism: %{customdata[1]}<br>Kingdom: %{customdata[2]}<br>Phylum: %{customdata[3]}</b><br>Source ID: %{customdata[4]}<extra></extra>",
         "marker": {
          "color": "rgb(224, 227, 39)",
          "size": 7
         },
         "mode": "markers",
         "text": "methionine adenosyltransferase",
         "type": "scatter3d",
         "x": [
          -0.19897929480815174
         ],
         "y": [
          -0.07526862113283189
         ],
         "z": [
          0.05047200099717791
         ]
        },
        {
         "customdata": [
          [
           "methionine adenosyltransferase",
           "Methanobacterium aggregans",
           "Euryarchaeota",
           "Methanobacteria",
           "WP_209583443.1"
          ]
         ],
         "hovertemplate": "<b>%{customdata[0]}</b><br>Organism: %{customdata[1]}<br>Kingdom: %{customdata[2]}<br>Phylum: %{customdata[3]}</b><br>Source ID: %{customdata[4]}<extra></extra>",
         "marker": {
          "color": "rgb(68, 1, 84)",
          "size": 7
         },
         "mode": "markers",
         "text": "methionine adenosyltransferase",
         "type": "scatter3d",
         "x": [
          -0.090546688048149
         ],
         "y": [
          -0.002345913351296194
         ],
         "z": [
          -0.09821734828080012
         ]
        },
        {
         "customdata": [
          [
           "methionine adenosyltransferase",
           "Thermoplasmata archaeon",
           "Candidatus Thermoplasmatota",
           null,
           "MCI4352892.1"
          ]
         ],
         "hovertemplate": "<b>%{customdata[0]}</b><br>Organism: %{customdata[1]}<br>Kingdom: %{customdata[2]}<br>Phylum: %{customdata[3]}</b><br>Source ID: %{customdata[4]}<extra></extra>",
         "marker": {
          "color": "rgb(176, 221, 46)",
          "size": 7
         },
         "mode": "markers",
         "text": "methionine adenosyltransferase",
         "type": "scatter3d",
         "x": [
          0.11282271796842143
         ],
         "y": [
          -0.13265378986814852
         ],
         "z": [
          0.11695899263280493
         ]
        },
        {
         "customdata": [
          [
           "S-adenosylmethionine synthetase",
           "Methanobacterium sp. BRmetb2",
           "Euryarchaeota",
           "Methanobacteria",
           "AXV37642.1"
          ]
         ],
         "hovertemplate": "<b>%{customdata[0]}</b><br>Organism: %{customdata[1]}<br>Kingdom: %{customdata[2]}<br>Phylum: %{customdata[3]}</b><br>Source ID: %{customdata[4]}<extra></extra>",
         "marker": {
          "color": "rgb(37, 132, 142)",
          "size": 7
         },
         "mode": "markers",
         "text": "S-adenosylmethionine synthetase",
         "type": "scatter3d",
         "x": [
          -0.10909500645011525
         ],
         "y": [
          -0.0025347125375425853
         ],
         "z": [
          -0.12975075751345108
         ]
        },
        {
         "customdata": [
          [
           "methionine adenosyltransferase",
           "Methanothermococcus okinawensis",
           "Euryarchaeota",
           "Methanococci",
           "HIQ32451.1"
          ]
         ],
         "hovertemplate": "<b>%{customdata[0]}</b><br>Organism: %{customdata[1]}<br>Kingdom: %{customdata[2]}<br>Phylum: %{customdata[3]}</b><br>Source ID: %{customdata[4]}<extra></extra>",
         "marker": {
          "color": "rgb(42, 170, 129)",
          "size": 7
         },
         "mode": "markers",
         "text": "methionine adenosyltransferase",
         "type": "scatter3d",
         "x": [
          0.041981302373887176
         ],
         "y": [
          -0.07877453739594639
         ],
         "z": [
          0.03497136165569438
         ]
        },
        {
         "customdata": [
          [
           "S-adenosylmethionine synthetase",
           "Euryarchaeota archaeon RBG_19FT_COMBO_69_17",
           "Euryarchaeota",
           null,
           "OGS64371.1"
          ]
         ],
         "hovertemplate": "<b>%{customdata[0]}</b><br>Organism: %{customdata[1]}<br>Kingdom: %{customdata[2]}<br>Phylum: %{customdata[3]}</b><br>Source ID: %{customdata[4]}<extra></extra>",
         "marker": {
          "color": "rgb(174, 221, 47)",
          "size": 7
         },
         "mode": "markers",
         "text": "S-adenosylmethionine synthetase",
         "type": "scatter3d",
         "x": [
          0.1952593099636586
         ],
         "y": [
          -0.19607031668252936
         ],
         "z": [
          0.11765428471979096
         ]
        },
        {
         "customdata": [
          [
           "methionine adenosyltransferase",
           "Thermoprotei archaeon",
           "Thermoproteota",
           null,
           "RLE54635.1"
          ]
         ],
         "hovertemplate": "<b>%{customdata[0]}</b><br>Organism: %{customdata[1]}<br>Kingdom: %{customdata[2]}<br>Phylum: %{customdata[3]}</b><br>Source ID: %{customdata[4]}<extra></extra>",
         "marker": {
          "color": "rgb(183, 222, 43)",
          "size": 7
         },
         "mode": "markers",
         "text": "methionine adenosyltransferase",
         "type": "scatter3d",
         "x": [
          0.23680129399496494
         ],
         "y": [
          0.11360200717857691
         ],
         "z": [
          -0.0023823784888495044
         ]
        },
        {
         "customdata": [
          [
           "methionine adenosyltransferase",
           "Methanothermobacter tenebrarum",
           "Euryarchaeota",
           "Methanobacteria",
           "WP_112094483.1"
          ]
         ],
         "hovertemplate": "<b>%{customdata[0]}</b><br>Organism: %{customdata[1]}<br>Kingdom: %{customdata[2]}<br>Phylum: %{customdata[3]}</b><br>Source ID: %{customdata[4]}<extra></extra>",
         "marker": {
          "color": "rgb(127, 210, 77)",
          "size": 7
         },
         "mode": "markers",
         "text": "methionine adenosyltransferase",
         "type": "scatter3d",
         "x": [
          -0.05302314873314141
         ],
         "y": [
          -0.015086048983142905
         ],
         "z": [
          -0.10128257729916113
         ]
        },
        {
         "customdata": [
          [
           "methionine adenosyltransferase",
           "Candidatus Methanoperedenaceae archaeon",
           "Euryarchaeota",
           "Methanomicrobia",
           "MBE0521418.1"
          ]
         ],
         "hovertemplate": "<b>%{customdata[0]}</b><br>Organism: %{customdata[1]}<br>Kingdom: %{customdata[2]}<br>Phylum: %{customdata[3]}</b><br>Source ID: %{customdata[4]}<extra></extra>",
         "marker": {
          "color": "rgb(205, 225, 41)",
          "size": 7
         },
         "mode": "markers",
         "text": "methionine adenosyltransferase",
         "type": "scatter3d",
         "x": [
          -0.1563359968086937
         ],
         "y": [
          0.011659989790767433
         ],
         "z": [
          -0.05074945680060356
         ]
        },
        {
         "customdata": [
          [
           "methionine adenosyltransferase",
           "Methanobrevibacter sp.",
           "Euryarchaeota",
           "Methanobacteria",
           "MCL2114715.1"
          ]
         ],
         "hovertemplate": "<b>%{customdata[0]}</b><br>Organism: %{customdata[1]}<br>Kingdom: %{customdata[2]}<br>Phylum: %{customdata[3]}</b><br>Source ID: %{customdata[4]}<extra></extra>",
         "marker": {
          "color": "rgb(35, 142, 140)",
          "size": 7
         },
         "mode": "markers",
         "text": "methionine adenosyltransferase",
         "type": "scatter3d",
         "x": [
          -0.07792100382142753
         ],
         "y": [
          -0.00042151854522804567
         ],
         "z": [
          -0.10475879492549077
         ]
        },
        {
         "customdata": [
          [
           "methionine adenosyltransferase",
           "Methanolobus",
           "Euryarchaeota",
           "Methanomicrobia",
           "WP_023845034.1"
          ]
         ],
         "hovertemplate": "<b>%{customdata[0]}</b><br>Organism: %{customdata[1]}<br>Kingdom: %{customdata[2]}<br>Phylum: %{customdata[3]}</b><br>Source ID: %{customdata[4]}<extra></extra>",
         "marker": {
          "color": "rgb(207, 225, 41)",
          "size": 7
         },
         "mode": "markers",
         "text": "methionine adenosyltransferase",
         "type": "scatter3d",
         "x": [
          -0.16968943103797068
         ],
         "y": [
          -0.00212801409496949
         ],
         "z": [
          -0.0723000126855892
         ]
        },
        {
         "customdata": [
          [
           "methionine adenosyltransferase",
           "Thermoplasmata archaeon",
           "Candidatus Thermoplasmatota",
           null,
           "MCI4340171.1"
          ]
         ],
         "hovertemplate": "<b>%{customdata[0]}</b><br>Organism: %{customdata[1]}<br>Kingdom: %{customdata[2]}<br>Phylum: %{customdata[3]}</b><br>Source ID: %{customdata[4]}<extra></extra>",
         "marker": {
          "color": "rgb(176, 221, 46)",
          "size": 7
         },
         "mode": "markers",
         "text": "methionine adenosyltransferase",
         "type": "scatter3d",
         "x": [
          0.14797778966311698
         ],
         "y": [
          -0.1611366076707721
         ],
         "z": [
          0.14252477835754554
         ]
        },
        {
         "customdata": [
          [
           "methionine adenosyltransferase",
           "Methanimicrococcus blatticola",
           "Euryarchaeota",
           "Methanomicrobia",
           "WP_133517937.1"
          ]
         ],
         "hovertemplate": "<b>%{customdata[0]}</b><br>Organism: %{customdata[1]}<br>Kingdom: %{customdata[2]}<br>Phylum: %{customdata[3]}</b><br>Source ID: %{customdata[4]}<extra></extra>",
         "marker": {
          "color": "rgb(142, 213, 68)",
          "size": 7
         },
         "mode": "markers",
         "text": "methionine adenosyltransferase",
         "type": "scatter3d",
         "x": [
          -0.16927977211387488
         ],
         "y": [
          -0.01980568179165152
         ],
         "z": [
          -0.04897236525965892
         ]
        },
        {
         "customdata": [
          [
           "methionine adenosyltransferase",
           "Thermoplasmata archaeon",
           "Candidatus Thermoplasmatota",
           null,
           "MCI4332674.1"
          ]
         ],
         "hovertemplate": "<b>%{customdata[0]}</b><br>Organism: %{customdata[1]}<br>Kingdom: %{customdata[2]}<br>Phylum: %{customdata[3]}</b><br>Source ID: %{customdata[4]}<extra></extra>",
         "marker": {
          "color": "rgb(176, 221, 46)",
          "size": 7
         },
         "mode": "markers",
         "text": "methionine adenosyltransferase",
         "type": "scatter3d",
         "x": [
          0.11055203727224927
         ],
         "y": [
          -0.12685751828316616
         ],
         "z": [
          0.09833673122073619
         ]
        },
        {
         "customdata": [
          [
           "S-adenosylmethionine synthase",
           "Methanonatronarchaeales archaeon",
           "Euryarchaeota",
           "Methanonatronarchaeales",
           "MBS1263960.1"
          ]
         ],
         "hovertemplate": "<b>%{customdata[0]}</b><br>Organism: %{customdata[1]}<br>Kingdom: %{customdata[2]}<br>Phylum: %{customdata[3]}</b><br>Source ID: %{customdata[4]}<extra></extra>",
         "marker": {
          "color": "rgb(67, 189, 113)",
          "size": 7
         },
         "mode": "markers",
         "text": "S-adenosylmethionine synthase",
         "type": "scatter3d",
         "x": [
          -0.05360200533865334
         ],
         "y": [
          0.04952331414660547
         ],
         "z": [
          -0.016303149360144847
         ]
        },
        {
         "customdata": [
          [
           "methionine adenosyltransferase",
           "Methanonatronarchaeum thermophilum",
           "Euryarchaeota",
           "Methanonatronarchaeales",
           "WP_086636802.1"
          ]
         ],
         "hovertemplate": "<b>%{customdata[0]}</b><br>Organism: %{customdata[1]}<br>Kingdom: %{customdata[2]}<br>Phylum: %{customdata[3]}</b><br>Source ID: %{customdata[4]}<extra></extra>",
         "marker": {
          "color": "rgb(65, 188, 114)",
          "size": 7
         },
         "mode": "markers",
         "text": "methionine adenosyltransferase",
         "type": "scatter3d",
         "x": [
          -0.35462602461557335
         ],
         "y": [
          -0.1779233339572418
         ],
         "z": [
          -0.019033175032879684
         ]
        },
        {
         "customdata": [
          [
           "S-adenosylmethionine synthase",
           "Candidatus Methanobinarius endosymbioticus",
           "Euryarchaeota",
           "Methanobacteria",
           "RBQ22678.1"
          ]
         ],
         "hovertemplate": "<b>%{customdata[0]}</b><br>Organism: %{customdata[1]}<br>Kingdom: %{customdata[2]}<br>Phylum: %{customdata[3]}</b><br>Source ID: %{customdata[4]}<extra></extra>",
         "marker": {
          "color": "rgb(69, 7, 89)",
          "size": 7
         },
         "mode": "markers",
         "text": "S-adenosylmethionine synthase",
         "type": "scatter3d",
         "x": [
          -0.0631714425370439
         ],
         "y": [
          -0.002574357466363141
         ],
         "z": [
          -0.10837153549467482
         ]
        },
        {
         "customdata": [
          [
           "methionine adenosyltransferase",
           "Thermoplasmata archaeon",
           "Candidatus Thermoplasmatota",
           null,
           "MCI4350047.1"
          ]
         ],
         "hovertemplate": "<b>%{customdata[0]}</b><br>Organism: %{customdata[1]}<br>Kingdom: %{customdata[2]}<br>Phylum: %{customdata[3]}</b><br>Source ID: %{customdata[4]}<extra></extra>",
         "marker": {
          "color": "rgb(176, 221, 46)",
          "size": 7
         },
         "mode": "markers",
         "text": "methionine adenosyltransferase",
         "type": "scatter3d",
         "x": [
          0.14249035122442957
         ],
         "y": [
          -0.11954524773950408
         ],
         "z": [
          0.12847824388089069
         ]
        },
        {
         "customdata": [
          [
           "methionine adenosyltransferase",
           "Methanothermococcus okinawensis",
           "Euryarchaeota",
           "Methanococci",
           "WP_013866510.1"
          ]
         ],
         "hovertemplate": "<b>%{customdata[0]}</b><br>Organism: %{customdata[1]}<br>Kingdom: %{customdata[2]}<br>Phylum: %{customdata[3]}</b><br>Source ID: %{customdata[4]}<extra></extra>",
         "marker": {
          "color": "rgb(42, 170, 129)",
          "size": 7
         },
         "mode": "markers",
         "text": "methionine adenosyltransferase",
         "type": "scatter3d",
         "x": [
          0.024197519941884665
         ],
         "y": [
          -0.09486445309007328
         ],
         "z": [
          0.04273130829091148
         ]
        },
        {
         "customdata": [
          [
           "methionine adenosyltransferase",
           "Desulfurococcales archaeon",
           "Thermoproteota",
           "Desulfurococcales",
           "HIQ03509.1"
          ]
         ],
         "hovertemplate": "<b>%{customdata[0]}</b><br>Organism: %{customdata[1]}<br>Kingdom: %{customdata[2]}<br>Phylum: %{customdata[3]}</b><br>Source ID: %{customdata[4]}<extra></extra>",
         "marker": {
          "color": "rgb(52, 97, 141)",
          "size": 7
         },
         "mode": "markers",
         "text": "methionine adenosyltransferase",
         "type": "scatter3d",
         "x": [
          0.24557690103183105
         ],
         "y": [
          0.1433013535746454
         ],
         "z": [
          -0.003157537113872325
         ]
        },
        {
         "customdata": [
          [
           "methionine adenosyltransferase",
           "Candidatus Thermoplasmatota archaeon",
           "Candidatus Thermoplasmatota",
           null,
           "MCL5678960.1"
          ]
         ],
         "hovertemplate": "<b>%{customdata[0]}</b><br>Organism: %{customdata[1]}<br>Kingdom: %{customdata[2]}<br>Phylum: %{customdata[3]}</b><br>Source ID: %{customdata[4]}<extra></extra>",
         "marker": {
          "color": "rgb(72, 40, 120)",
          "size": 7
         },
         "mode": "markers",
         "text": "methionine adenosyltransferase",
         "type": "scatter3d",
         "x": [
          0.21479560342095114
         ],
         "y": [
          -0.17121845486626572
         ],
         "z": [
          0.06265472727334104
         ]
        },
        {
         "customdata": [
          [
           "methionine adenosyltransferase",
           "Methanobacterium",
           "Euryarchaeota",
           "Methanobacteria",
           "WP_069583781.1"
          ]
         ],
         "hovertemplate": "<b>%{customdata[0]}</b><br>Organism: %{customdata[1]}<br>Kingdom: %{customdata[2]}<br>Phylum: %{customdata[3]}</b><br>Source ID: %{customdata[4]}<extra></extra>",
         "marker": {
          "color": "rgb(70, 48, 124)",
          "size": 7
         },
         "mode": "markers",
         "text": "methionine adenosyltransferase",
         "type": "scatter3d",
         "x": [
          -0.09316648869301598
         ],
         "y": [
          -0.007153199677038329
         ],
         "z": [
          -0.1392122963882012
         ]
        },
        {
         "customdata": [
          [
           "methionine adenosyltransferase",
           "Ignisphaera sp.",
           "Thermoproteota",
           "Desulfurococcales",
           "HID80336.1"
          ]
         ],
         "hovertemplate": "<b>%{customdata[0]}</b><br>Organism: %{customdata[1]}<br>Kingdom: %{customdata[2]}<br>Phylum: %{customdata[3]}</b><br>Source ID: %{customdata[4]}<extra></extra>",
         "marker": {
          "color": "rgb(55, 89, 140)",
          "size": 7
         },
         "mode": "markers",
         "text": "methionine adenosyltransferase",
         "type": "scatter3d",
         "x": [
          0.21536575401618768
         ],
         "y": [
          0.10381000364249961
         ],
         "z": [
          0.015488352937796686
         ]
        },
        {
         "customdata": [
          [
           "S-adenosylmethionine synthetase",
           "Methanobacteriales archaeon HGW-Methanobacteriales-1",
           "Euryarchaeota",
           "Methanobacteria",
           "PKL67098.1"
          ]
         ],
         "hovertemplate": "<b>%{customdata[0]}</b><br>Organism: %{customdata[1]}<br>Kingdom: %{customdata[2]}<br>Phylum: %{customdata[3]}</b><br>Source ID: %{customdata[4]}<extra></extra>",
         "marker": {
          "color": "rgb(31, 156, 137)",
          "size": 7
         },
         "mode": "markers",
         "text": "S-adenosylmethionine synthetase",
         "type": "scatter3d",
         "x": [
          -0.09291948475891493
         ],
         "y": [
          0.0038402431462824503
         ],
         "z": [
          -0.11200331225539714
         ]
        },
        {
         "customdata": [
          [
           "methionine adenosyltransferase",
           "Methanothermococcus",
           "Euryarchaeota",
           "Methanococci",
           "WP_018154351.1"
          ]
         ],
         "hovertemplate": "<b>%{customdata[0]}</b><br>Organism: %{customdata[1]}<br>Kingdom: %{customdata[2]}<br>Phylum: %{customdata[3]}</b><br>Source ID: %{customdata[4]}<extra></extra>",
         "marker": {
          "color": "rgb(63, 187, 115)",
          "size": 7
         },
         "mode": "markers",
         "text": "methionine adenosyltransferase",
         "type": "scatter3d",
         "x": [
          0.02746290158782535
         ],
         "y": [
          -0.06665136816761695
         ],
         "z": [
          -0.004125252437532542
         ]
        },
        {
         "customdata": [
          [
           "methionine adenosyltransferase",
           "Methanothermococcus okinawensis",
           "Euryarchaeota",
           "Methanococci",
           "HIP16080.1"
          ]
         ],
         "hovertemplate": "<b>%{customdata[0]}</b><br>Organism: %{customdata[1]}<br>Kingdom: %{customdata[2]}<br>Phylum: %{customdata[3]}</b><br>Source ID: %{customdata[4]}<extra></extra>",
         "marker": {
          "color": "rgb(42, 170, 129)",
          "size": 7
         },
         "mode": "markers",
         "text": "methionine adenosyltransferase",
         "type": "scatter3d",
         "x": [
          0.034806549167802556
         ],
         "y": [
          -0.09154837519569771
         ],
         "z": [
          0.031077759124105556
         ]
        },
        {
         "customdata": [
          [
           "methionine adenosyltransferase",
           "Methanimicrococcus sp.",
           "Euryarchaeota",
           "Methanomicrobia",
           "MCL2863353.1"
          ]
         ],
         "hovertemplate": "<b>%{customdata[0]}</b><br>Organism: %{customdata[1]}<br>Kingdom: %{customdata[2]}<br>Phylum: %{customdata[3]}</b><br>Source ID: %{customdata[4]}<extra></extra>",
         "marker": {
          "color": "rgb(32, 159, 136)",
          "size": 7
         },
         "mode": "markers",
         "text": "methionine adenosyltransferase",
         "type": "scatter3d",
         "x": [
          -0.14800215161679592
         ],
         "y": [
          -0.01651891754285943
         ],
         "z": [
          -0.06958985867207028
         ]
        },
        {
         "customdata": [
          [
           "methionine adenosyltransferase",
           "Thermoplasmata archaeon",
           "Candidatus Thermoplasmatota",
           null,
           "MCI4331890.1"
          ]
         ],
         "hovertemplate": "<b>%{customdata[0]}</b><br>Organism: %{customdata[1]}<br>Kingdom: %{customdata[2]}<br>Phylum: %{customdata[3]}</b><br>Source ID: %{customdata[4]}<extra></extra>",
         "marker": {
          "color": "rgb(176, 221, 46)",
          "size": 7
         },
         "mode": "markers",
         "text": "methionine adenosyltransferase",
         "type": "scatter3d",
         "x": [
          0.12021460168151984
         ],
         "y": [
          -0.12403006197482656
         ],
         "z": [
          0.12767053957184404
         ]
        },
        {
         "customdata": [
          [
           "methionine adenosyltransferase",
           "Methanosarcinales archaeon",
           "Euryarchaeota",
           "Methanomicrobia",
           "HDJ38237.1"
          ]
         ],
         "hovertemplate": "<b>%{customdata[0]}</b><br>Organism: %{customdata[1]}<br>Kingdom: %{customdata[2]}<br>Phylum: %{customdata[3]}</b><br>Source ID: %{customdata[4]}<extra></extra>",
         "marker": {
          "color": "rgb(70, 21, 103)",
          "size": 7
         },
         "mode": "markers",
         "text": "methionine adenosyltransferase",
         "type": "scatter3d",
         "x": [
          -0.14696129494109383
         ],
         "y": [
          0.012464343226967635
         ],
         "z": [
          -0.048785393297839486
         ]
        },
        {
         "customdata": [
          [
           "methionine adenosyltransferase",
           "Methanosarcinales archaeon",
           "Euryarchaeota",
           "Methanomicrobia",
           "MCD6146309.1"
          ]
         ],
         "hovertemplate": "<b>%{customdata[0]}</b><br>Organism: %{customdata[1]}<br>Kingdom: %{customdata[2]}<br>Phylum: %{customdata[3]}</b><br>Source ID: %{customdata[4]}<extra></extra>",
         "marker": {
          "color": "rgb(70, 21, 103)",
          "size": 7
         },
         "mode": "markers",
         "text": "methionine adenosyltransferase",
         "type": "scatter3d",
         "x": [
          -0.12601980803034105
         ],
         "y": [
          0.03049306394032127
         ],
         "z": [
          -0.0401931151709949
         ]
        },
        {
         "customdata": [
          [
           "methionine adenosyltransferase",
           "Euryarchaeota archaeon",
           "Euryarchaeota",
           null,
           "MBI5000778.1"
          ]
         ],
         "hovertemplate": "<b>%{customdata[0]}</b><br>Organism: %{customdata[1]}<br>Kingdom: %{customdata[2]}<br>Phylum: %{customdata[3]}</b><br>Source ID: %{customdata[4]}<extra></extra>",
         "marker": {
          "color": "rgb(115, 207, 85)",
          "size": 7
         },
         "mode": "markers",
         "text": "methionine adenosyltransferase",
         "type": "scatter3d",
         "x": [
          0.1678499163443128
         ],
         "y": [
          -0.1881889199169077
         ],
         "z": [
          0.12650897399621402
         ]
        },
        {
         "customdata": [
          [
           "methionine adenosyltransferase",
           "Methanosarcinaceae archaeon",
           "Euryarchaeota",
           "Methanomicrobia",
           "MBN2488116.1"
          ]
         ],
         "hovertemplate": "<b>%{customdata[0]}</b><br>Organism: %{customdata[1]}<br>Kingdom: %{customdata[2]}<br>Phylum: %{customdata[3]}</b><br>Source ID: %{customdata[4]}<extra></extra>",
         "marker": {
          "color": "rgb(38, 131, 142)",
          "size": 7
         },
         "mode": "markers",
         "text": "methionine adenosyltransferase",
         "type": "scatter3d",
         "x": [
          -0.1779702304045189
         ],
         "y": [
          -0.00980450336606035
         ],
         "z": [
          -0.06993890018197632
         ]
        },
        {
         "customdata": [
          [
           "methionine adenosyltransferase",
           "Thermoplasmata archaeon",
           "Candidatus Thermoplasmatota",
           null,
           "MCI4365484.1"
          ]
         ],
         "hovertemplate": "<b>%{customdata[0]}</b><br>Organism: %{customdata[1]}<br>Kingdom: %{customdata[2]}<br>Phylum: %{customdata[3]}</b><br>Source ID: %{customdata[4]}<extra></extra>",
         "marker": {
          "color": "rgb(176, 221, 46)",
          "size": 7
         },
         "mode": "markers",
         "text": "methionine adenosyltransferase",
         "type": "scatter3d",
         "x": [
          0.14565001629409113
         ],
         "y": [
          -0.1411017608416584
         ],
         "z": [
          0.15623123388944077
         ]
        },
        {
         "customdata": [
          [
           "methionine adenosyltransferase",
           "Methanobrevibacter cuticularis",
           "Euryarchaeota",
           "Methanobacteria",
           "WP_067260239.1"
          ]
         ],
         "hovertemplate": "<b>%{customdata[0]}</b><br>Organism: %{customdata[1]}<br>Kingdom: %{customdata[2]}<br>Phylum: %{customdata[3]}</b><br>Source ID: %{customdata[4]}<extra></extra>",
         "marker": {
          "color": "rgb(61, 76, 137)",
          "size": 7
         },
         "mode": "markers",
         "text": "methionine adenosyltransferase",
         "type": "scatter3d",
         "x": [
          -0.10400832098558453
         ],
         "y": [
          0.008489362210027768
         ],
         "z": [
          -0.1405962383239295
         ]
        },
        {
         "customdata": [
          [
           "methionine adenosyltransferase",
           "Methanosarcinales archaeon",
           "Euryarchaeota",
           "Methanomicrobia",
           "NYT19736.1"
          ]
         ],
         "hovertemplate": "<b>%{customdata[0]}</b><br>Organism: %{customdata[1]}<br>Kingdom: %{customdata[2]}<br>Phylum: %{customdata[3]}</b><br>Source ID: %{customdata[4]}<extra></extra>",
         "marker": {
          "color": "rgb(70, 21, 103)",
          "size": 7
         },
         "mode": "markers",
         "text": "methionine adenosyltransferase",
         "type": "scatter3d",
         "x": [
          -0.16879792703088775
         ],
         "y": [
          -0.015936907401244964
         ],
         "z": [
          -0.03698034449498897
         ]
        },
        {
         "customdata": [
          [
           "methionine adenosyltransferase",
           "Methanogenium sp.",
           "Euryarchaeota",
           "Methanomicrobia",
           "MCK4269415.1"
          ]
         ],
         "hovertemplate": "<b>%{customdata[0]}</b><br>Organism: %{customdata[1]}<br>Kingdom: %{customdata[2]}<br>Phylum: %{customdata[3]}</b><br>Source ID: %{customdata[4]}<extra></extra>",
         "marker": {
          "color": "rgb(71, 31, 112)",
          "size": 7
         },
         "mode": "markers",
         "text": "methionine adenosyltransferase",
         "type": "scatter3d",
         "x": [
          -0.18756218501893857
         ],
         "y": [
          -0.046470333538457566
         ],
         "z": [
          -0.08779583663169724
         ]
        },
        {
         "customdata": [
          [
           "methionine adenosyltransferase",
           "Methanotrichaceae archaeon",
           "Euryarchaeota",
           "Methanomicrobia",
           "HII06378.1"
          ]
         ],
         "hovertemplate": "<b>%{customdata[0]}</b><br>Organism: %{customdata[1]}<br>Kingdom: %{customdata[2]}<br>Phylum: %{customdata[3]}</b><br>Source ID: %{customdata[4]}<extra></extra>",
         "marker": {
          "color": "rgb(33, 160, 136)",
          "size": 7
         },
         "mode": "markers",
         "text": "methionine adenosyltransferase",
         "type": "scatter3d",
         "x": [
          -0.2017922078139833
         ],
         "y": [
          0.026866272783150385
         ],
         "z": [
          -0.03248397785742827
         ]
        },
        {
         "customdata": [
          [
           "methionine adenosyltransferase",
           "Candidatus Altiarchaeales archaeon",
           "Candidatus Altarchaeota",
           null,
           "HIE33825.1"
          ]
         ],
         "hovertemplate": "<b>%{customdata[0]}</b><br>Organism: %{customdata[1]}<br>Kingdom: %{customdata[2]}<br>Phylum: %{customdata[3]}</b><br>Source ID: %{customdata[4]}<extra></extra>",
         "marker": {
          "color": "rgb(195, 224, 42)",
          "size": 7
         },
         "mode": "markers",
         "text": "methionine adenosyltransferase",
         "type": "scatter3d",
         "x": [
          -0.06969477814210154
         ],
         "y": [
          -0.06856256048959092
         ],
         "z": [
          0.2416421564104299
         ]
        },
        {
         "customdata": [
          [
           "methionine adenosyltransferase",
           "Methanosarcinaceae archaeon",
           "Euryarchaeota",
           "Methanomicrobia",
           "MCD5425932.1"
          ]
         ],
         "hovertemplate": "<b>%{customdata[0]}</b><br>Organism: %{customdata[1]}<br>Kingdom: %{customdata[2]}<br>Phylum: %{customdata[3]}</b><br>Source ID: %{customdata[4]}<extra></extra>",
         "marker": {
          "color": "rgb(38, 131, 142)",
          "size": 7
         },
         "mode": "markers",
         "text": "methionine adenosyltransferase",
         "type": "scatter3d",
         "x": [
          -0.14477250406200107
         ],
         "y": [
          -0.0118725881270079
         ],
         "z": [
          -0.06562145295236818
         ]
        },
        {
         "customdata": [
          [
           "methionine adenosyltransferase",
           "Candidatus Thermoplasmatota archaeon",
           "Candidatus Thermoplasmatota",
           null,
           "MCL4338039.1"
          ]
         ],
         "hovertemplate": "<b>%{customdata[0]}</b><br>Organism: %{customdata[1]}<br>Kingdom: %{customdata[2]}<br>Phylum: %{customdata[3]}</b><br>Source ID: %{customdata[4]}<extra></extra>",
         "marker": {
          "color": "rgb(72, 40, 120)",
          "size": 7
         },
         "mode": "markers",
         "text": "methionine adenosyltransferase",
         "type": "scatter3d",
         "x": [
          0.24764875642402912
         ],
         "y": [
          -0.212492666152551
         ],
         "z": [
          0.07800911505345234
         ]
        },
        {
         "customdata": [
          [
           "methionine adenosyltransferase",
           "Methanobacterium paludis",
           "Euryarchaeota",
           "Methanobacteria",
           "WP_013826834.1"
          ]
         ],
         "hovertemplate": "<b>%{customdata[0]}</b><br>Organism: %{customdata[1]}<br>Kingdom: %{customdata[2]}<br>Phylum: %{customdata[3]}</b><br>Source ID: %{customdata[4]}<extra></extra>",
         "marker": {
          "color": "rgb(75, 192, 108)",
          "size": 7
         },
         "mode": "markers",
         "text": "methionine adenosyltransferase",
         "type": "scatter3d",
         "x": [
          -0.10462061173114819
         ],
         "y": [
          -0.0033843621258078447
         ],
         "z": [
          -0.14302609729740245
         ]
        },
        {
         "customdata": [
          [
           "methionine adenosyltransferase",
           "Ignisphaera aggregans DSM 17230",
           "Thermoproteota",
           "Desulfurococcales",
           "ADM28331.1"
          ]
         ],
         "hovertemplate": "<b>%{customdata[0]}</b><br>Organism: %{customdata[1]}<br>Kingdom: %{customdata[2]}<br>Phylum: %{customdata[3]}</b><br>Source ID: %{customdata[4]}<extra></extra>",
         "marker": {
          "color": "rgb(158, 217, 58)",
          "size": 7
         },
         "mode": "markers",
         "text": "methionine adenosyltransferase",
         "type": "scatter3d",
         "x": [
          0.21795741142848096
         ],
         "y": [
          0.10649453582891345
         ],
         "z": [
          -0.0018537640193095862
         ]
        },
        {
         "customdata": [
          [
           "methionine adenosyltransferase",
           "Methanobacterium sp.",
           "Euryarchaeota",
           "Methanobacteria",
           "MBI5679298.1"
          ]
         ],
         "hovertemplate": "<b>%{customdata[0]}</b><br>Organism: %{customdata[1]}<br>Kingdom: %{customdata[2]}<br>Phylum: %{customdata[3]}</b><br>Source ID: %{customdata[4]}<extra></extra>",
         "marker": {
          "color": "rgb(44, 115, 142)",
          "size": 7
         },
         "mode": "markers",
         "text": "methionine adenosyltransferase",
         "type": "scatter3d",
         "x": [
          -0.0865347291667926
         ],
         "y": [
          0.018801582446306014
         ],
         "z": [
          -0.1288545989124389
         ]
        },
        {
         "customdata": [
          [
           "methionine adenosyltransferase",
           "Thermoprotei archaeon",
           "Thermoproteota",
           null,
           "RLG86775.1"
          ]
         ],
         "hovertemplate": "<b>%{customdata[0]}</b><br>Organism: %{customdata[1]}<br>Kingdom: %{customdata[2]}<br>Phylum: %{customdata[3]}</b><br>Source ID: %{customdata[4]}<extra></extra>",
         "marker": {
          "color": "rgb(183, 222, 43)",
          "size": 7
         },
         "mode": "markers",
         "text": "methionine adenosyltransferase",
         "type": "scatter3d",
         "x": [
          0.23129944403255356
         ],
         "y": [
          0.12775897583647183
         ],
         "z": [
          -0.010672118593177302
         ]
        },
        {
         "customdata": [
          [
           "methionine adenosyltransferase",
           "Methanospirillum sp.",
           "Euryarchaeota",
           "Methanomicrobia",
           "NLX49570.1"
          ]
         ],
         "hovertemplate": "<b>%{customdata[0]}</b><br>Organism: %{customdata[1]}<br>Kingdom: %{customdata[2]}<br>Phylum: %{customdata[3]}</b><br>Source ID: %{customdata[4]}<extra></extra>",
         "marker": {
          "color": "rgb(47, 176, 125)",
          "size": 7
         },
         "mode": "markers",
         "text": "methionine adenosyltransferase",
         "type": "scatter3d",
         "x": [
          -0.2069493325845314
         ],
         "y": [
          -0.029850735690129918
         ],
         "z": [
          -0.06644650496592647
         ]
        },
        {
         "customdata": [
          [
           "methionine adenosyltransferase",
           "Methanocalculus chunghsingensis",
           "Euryarchaeota",
           "Methanomicrobia",
           "WP_211530438.1"
          ]
         ],
         "hovertemplate": "<b>%{customdata[0]}</b><br>Organism: %{customdata[1]}<br>Kingdom: %{customdata[2]}<br>Phylum: %{customdata[3]}</b><br>Source ID: %{customdata[4]}<extra></extra>",
         "marker": {
          "color": "rgb(68, 189, 112)",
          "size": 7
         },
         "mode": "markers",
         "text": "methionine adenosyltransferase",
         "type": "scatter3d",
         "x": [
          -0.19483003210561553
         ],
         "y": [
          -0.04364077326561369
         ],
         "z": [
          -0.08984687065939558
         ]
        },
        {
         "customdata": [
          [
           "methionine adenosyltransferase",
           "Methanolinea sp.",
           "Euryarchaeota",
           "Methanomicrobia",
           "MCQ8894229.1"
          ]
         ],
         "hovertemplate": "<b>%{customdata[0]}</b><br>Organism: %{customdata[1]}<br>Kingdom: %{customdata[2]}<br>Phylum: %{customdata[3]}</b><br>Source ID: %{customdata[4]}<extra></extra>",
         "marker": {
          "color": "rgb(48, 107, 142)",
          "size": 7
         },
         "mode": "markers",
         "text": "methionine adenosyltransferase",
         "type": "scatter3d",
         "x": [
          -0.20365030454484867
         ],
         "y": [
          -0.018768456800657547
         ],
         "z": [
          -0.06905448826957801
         ]
        },
        {
         "customdata": [
          [
           "methionine adenosyltransferase",
           "Methanothermococcus sp. SCGC AD-155-N22",
           "Euryarchaeota",
           "Methanococci",
           "MBW9220344.1"
          ]
         ],
         "hovertemplate": "<b>%{customdata[0]}</b><br>Organism: %{customdata[1]}<br>Kingdom: %{customdata[2]}<br>Phylum: %{customdata[3]}</b><br>Source ID: %{customdata[4]}<extra></extra>",
         "marker": {
          "color": "rgb(226, 228, 39)",
          "size": 7
         },
         "mode": "markers",
         "text": "methionine adenosyltransferase",
         "type": "scatter3d",
         "x": [
          0.00697542498036542
         ],
         "y": [
          -0.08552038801379758
         ],
         "z": [
          0.036852856025140136
         ]
        },
        {
         "customdata": [
          [
           "S-adenosylmethionine synthase",
           "Candidatus Argoarchaeum ethanivorans",
           "Euryarchaeota",
           "Methanomicrobia",
           "CAD6493058.1"
          ]
         ],
         "hovertemplate": "<b>%{customdata[0]}</b><br>Organism: %{customdata[1]}<br>Kingdom: %{customdata[2]}<br>Phylum: %{customdata[3]}</b><br>Source ID: %{customdata[4]}<extra></extra>",
         "marker": {
          "color": "rgb(70, 18, 100)",
          "size": 7
         },
         "mode": "markers",
         "text": "S-adenosylmethionine synthase",
         "type": "scatter3d",
         "x": [
          -0.17562512714342143
         ],
         "y": [
          0.01917198761724613
         ],
         "z": [
          -0.04551034113936281
         ]
        },
        {
         "customdata": [
          [
           "methionine adenosyltransferase",
           "Methanosarcinales archaeon",
           "Euryarchaeota",
           "Methanomicrobia",
           "HDN65233.1"
          ]
         ],
         "hovertemplate": "<b>%{customdata[0]}</b><br>Organism: %{customdata[1]}<br>Kingdom: %{customdata[2]}<br>Phylum: %{customdata[3]}</b><br>Source ID: %{customdata[4]}<extra></extra>",
         "marker": {
          "color": "rgb(70, 21, 103)",
          "size": 7
         },
         "mode": "markers",
         "text": "methionine adenosyltransferase",
         "type": "scatter3d",
         "x": [
          -0.12885558645881293
         ],
         "y": [
          0.034168223181985584
         ],
         "z": [
          -0.044606368111615245
         ]
        },
        {
         "customdata": [
          [
           "methionine adenosyltransferase",
           "Thermoprotei archaeon",
           "Thermoproteota",
           null,
           "RLF08155.1"
          ]
         ],
         "hovertemplate": "<b>%{customdata[0]}</b><br>Organism: %{customdata[1]}<br>Kingdom: %{customdata[2]}<br>Phylum: %{customdata[3]}</b><br>Source ID: %{customdata[4]}<extra></extra>",
         "marker": {
          "color": "rgb(183, 222, 43)",
          "size": 7
         },
         "mode": "markers",
         "text": "methionine adenosyltransferase",
         "type": "scatter3d",
         "x": [
          0.3411242229172502
         ],
         "y": [
          0.1955827556735402
         ],
         "z": [
          0.010596214477701892
         ]
        },
        {
         "customdata": [
          [
           "methionine adenosyltransferase",
           "Methanococcoides sp.",
           "Euryarchaeota",
           "Methanomicrobia",
           "NOQ48507.1"
          ]
         ],
         "hovertemplate": "<b>%{customdata[0]}</b><br>Organism: %{customdata[1]}<br>Kingdom: %{customdata[2]}<br>Phylum: %{customdata[3]}</b><br>Source ID: %{customdata[4]}<extra></extra>",
         "marker": {
          "color": "rgb(31, 157, 137)",
          "size": 7
         },
         "mode": "markers",
         "text": "methionine adenosyltransferase",
         "type": "scatter3d",
         "x": [
          -0.16574362413803
         ],
         "y": [
          0.012552987805514235
         ],
         "z": [
          -0.06290226599891066
         ]
        },
        {
         "customdata": [
          [
           "methionine adenosyltransferase",
           "Thermoprotei archaeon",
           "Thermoproteota",
           null,
           "RLE93954.1"
          ]
         ],
         "hovertemplate": "<b>%{customdata[0]}</b><br>Organism: %{customdata[1]}<br>Kingdom: %{customdata[2]}<br>Phylum: %{customdata[3]}</b><br>Source ID: %{customdata[4]}<extra></extra>",
         "marker": {
          "color": "rgb(183, 222, 43)",
          "size": 7
         },
         "mode": "markers",
         "text": "methionine adenosyltransferase",
         "type": "scatter3d",
         "x": [
          0.23085157663469544
         ],
         "y": [
          0.10495776041391242
         ],
         "z": [
          -0.0048471106380660045
         ]
        },
        {
         "customdata": [
          [
           "methionine adenosyltransferase",
           "Methanosarcinales archaeon",
           "Euryarchaeota",
           "Methanomicrobia",
           "MCK4652251.1"
          ]
         ],
         "hovertemplate": "<b>%{customdata[0]}</b><br>Organism: %{customdata[1]}<br>Kingdom: %{customdata[2]}<br>Phylum: %{customdata[3]}</b><br>Source ID: %{customdata[4]}<extra></extra>",
         "marker": {
          "color": "rgb(70, 21, 103)",
          "size": 7
         },
         "mode": "markers",
         "text": "methionine adenosyltransferase",
         "type": "scatter3d",
         "x": [
          -0.12563671987426422
         ],
         "y": [
          0.012779291842688436
         ],
         "z": [
          -0.0427602506039745
         ]
        },
        {
         "customdata": [
          [
           "methionine adenosyltransferase",
           "Candidatus Verstraetearchaeota archaeon",
           "Candidatus Verstraetearchaeota",
           null,
           "RLE48238.1"
          ]
         ],
         "hovertemplate": "<b>%{customdata[0]}</b><br>Organism: %{customdata[1]}<br>Kingdom: %{customdata[2]}<br>Phylum: %{customdata[3]}</b><br>Source ID: %{customdata[4]}<extra></extra>",
         "marker": {
          "color": "rgb(49, 179, 124)",
          "size": 7
         },
         "mode": "markers",
         "text": "methionine adenosyltransferase",
         "type": "scatter3d",
         "x": [
          0.24770902893094301
         ],
         "y": [
          0.13896877957401957
         ],
         "z": [
          -0.024268978155830654
         ]
        },
        {
         "customdata": [
          [
           "S-adenosylmethionine synthetase",
           "archaeon SCG-AAA382B04",
           null,
           null,
           "PTD93741.1"
          ]
         ],
         "hovertemplate": "<b>%{customdata[0]}</b><br>Organism: %{customdata[1]}<br>Kingdom: %{customdata[2]}<br>Phylum: %{customdata[3]}</b><br>Source ID: %{customdata[4]}<extra></extra>",
         "marker": {
          "color": "rgb(247, 230, 38)",
          "size": 7
         },
         "mode": "markers",
         "text": "S-adenosylmethionine synthetase",
         "type": "scatter3d",
         "x": [
          -0.2457052738687439
         ],
         "y": [
          -0.10787161800370966
         ],
         "z": [
          -0.016732905404876847
         ]
        },
        {
         "customdata": [
          [
           "methionine adenosyltransferase",
           "Methanoregulaceae archaeon",
           "Euryarchaeota",
           "Methanomicrobia",
           "MCU0630815.1"
          ]
         ],
         "hovertemplate": "<b>%{customdata[0]}</b><br>Organism: %{customdata[1]}<br>Kingdom: %{customdata[2]}<br>Phylum: %{customdata[3]}</b><br>Source ID: %{customdata[4]}<extra></extra>",
         "marker": {
          "color": "rgb(36, 136, 141)",
          "size": 7
         },
         "mode": "markers",
         "text": "methionine adenosyltransferase",
         "type": "scatter3d",
         "x": [
          -0.18124066353105675
         ],
         "y": [
          -0.024990582221361718
         ],
         "z": [
          -0.07506853080681558
         ]
        },
        {
         "customdata": [
          [
           "S-adenosylmethionine synthetase",
           "Thermofilum sp. ex4484_79",
           "Thermoproteota",
           "Thermofilales",
           "OYT30676.1"
          ]
         ],
         "hovertemplate": "<b>%{customdata[0]}</b><br>Organism: %{customdata[1]}<br>Kingdom: %{customdata[2]}<br>Phylum: %{customdata[3]}</b><br>Source ID: %{customdata[4]}<extra></extra>",
         "marker": {
          "color": "rgb(117, 208, 83)",
          "size": 7
         },
         "mode": "markers",
         "text": "S-adenosylmethionine synthetase",
         "type": "scatter3d",
         "x": [
          0.28685566374194166
         ],
         "y": [
          0.15885768908874445
         ],
         "z": [
          0.010087926507622899
         ]
        },
        {
         "customdata": [
          [
           "methionine adenosyltransferase",
           "Methanopyrus sp. KOL6",
           "Euryarchaeota",
           "Methanopyri",
           "WP_088334627.1"
          ]
         ],
         "hovertemplate": "<b>%{customdata[0]}</b><br>Organism: %{customdata[1]}<br>Kingdom: %{customdata[2]}<br>Phylum: %{customdata[3]}</b><br>Source ID: %{customdata[4]}<extra></extra>",
         "marker": {
          "color": "rgb(34, 145, 139)",
          "size": 7
         },
         "mode": "markers",
         "text": "methionine adenosyltransferase",
         "type": "scatter3d",
         "x": [
          0.008059218496446316
         ],
         "y": [
          0.0279403753956204
         ],
         "z": [
          0.05887586717639593
         ]
        },
        {
         "customdata": [
          [
           "methionine adenosyltransferase",
           "Methanomassiliicoccales archaeon",
           "Candidatus Thermoplasmatota",
           "Methanomassiliicoccales",
           "NYT15305.1"
          ]
         ],
         "hovertemplate": "<b>%{customdata[0]}</b><br>Organism: %{customdata[1]}<br>Kingdom: %{customdata[2]}<br>Phylum: %{customdata[3]}</b><br>Source ID: %{customdata[4]}<extra></extra>",
         "marker": {
          "color": "rgb(33, 148, 139)",
          "size": 7
         },
         "mode": "markers",
         "text": "methionine adenosyltransferase",
         "type": "scatter3d",
         "x": [
          0.19407322438777438
         ],
         "y": [
          -0.25116884635645503
         ],
         "z": [
          0.11355853731085083
         ]
        },
        {
         "customdata": [
          [
           "methionine adenosyltransferase",
           "Methanonatronarchaeum sp. AMET6-2",
           "Euryarchaeota",
           "Methanonatronarchaeales",
           "WP_247139346.1"
          ]
         ],
         "hovertemplate": "<b>%{customdata[0]}</b><br>Organism: %{customdata[1]}<br>Kingdom: %{customdata[2]}<br>Phylum: %{customdata[3]}</b><br>Source ID: %{customdata[4]}<extra></extra>",
         "marker": {
          "color": "rgb(67, 57, 129)",
          "size": 7
         },
         "mode": "markers",
         "text": "methionine adenosyltransferase",
         "type": "scatter3d",
         "x": [
          -0.36437971345757975
         ],
         "y": [
          -0.16564214362494467
         ],
         "z": [
          -0.010711333041154342
         ]
        },
        {
         "customdata": [
          [
           "S-adenosylmethionine synthetase",
           "Euryarchaeota archaeon RBG_16_67_27",
           "Euryarchaeota",
           null,
           "OGS47575.1"
          ]
         ],
         "hovertemplate": "<b>%{customdata[0]}</b><br>Organism: %{customdata[1]}<br>Kingdom: %{customdata[2]}<br>Phylum: %{customdata[3]}</b><br>Source ID: %{customdata[4]}<extra></extra>",
         "marker": {
          "color": "rgb(121, 209, 81)",
          "size": 7
         },
         "mode": "markers",
         "text": "S-adenosylmethionine synthetase",
         "type": "scatter3d",
         "x": [
          0.19032886923685238
         ],
         "y": [
          -0.192111578020866
         ],
         "z": [
          0.12324181594315371
         ]
        },
        {
         "customdata": [
          [
           "methionine adenosyltransferase",
           "Thermoplasmata archaeon",
           "Candidatus Thermoplasmatota",
           null,
           "MCU0852918.1"
          ]
         ],
         "hovertemplate": "<b>%{customdata[0]}</b><br>Organism: %{customdata[1]}<br>Kingdom: %{customdata[2]}<br>Phylum: %{customdata[3]}</b><br>Source ID: %{customdata[4]}<extra></extra>",
         "marker": {
          "color": "rgb(176, 221, 46)",
          "size": 7
         },
         "mode": "markers",
         "text": "methionine adenosyltransferase",
         "type": "scatter3d",
         "x": [
          0.19216941142931396
         ],
         "y": [
          -0.22385173693294635
         ],
         "z": [
          0.11506117655792947
         ]
        },
        {
         "customdata": [
          [
           "methionine adenosyltransferase",
           "Methanomicrobiales archaeon",
           "Euryarchaeota",
           "Methanomicrobia",
           "NLV26673.1"
          ]
         ],
         "hovertemplate": "<b>%{customdata[0]}</b><br>Organism: %{customdata[1]}<br>Kingdom: %{customdata[2]}<br>Phylum: %{customdata[3]}</b><br>Source ID: %{customdata[4]}<extra></extra>",
         "marker": {
          "color": "rgb(58, 83, 139)",
          "size": 7
         },
         "mode": "markers",
         "text": "methionine adenosyltransferase",
         "type": "scatter3d",
         "x": [
          -0.22403235695824872
         ],
         "y": [
          -0.05538947978079897
         ],
         "z": [
          -0.10622228585361415
         ]
        },
        {
         "customdata": [
          [
           "methionine adenosyltransferase",
           "Halanaeroarchaeum sulfurireducens",
           "Euryarchaeota",
           "Halobacteria",
           "WP_050048754.1"
          ]
         ],
         "hovertemplate": "<b>%{customdata[0]}</b><br>Organism: %{customdata[1]}<br>Kingdom: %{customdata[2]}<br>Phylum: %{customdata[3]}</b><br>Source ID: %{customdata[4]}<extra></extra>",
         "marker": {
          "color": "rgb(55, 89, 140)",
          "size": 7
         },
         "mode": "markers",
         "text": "methionine adenosyltransferase",
         "type": "scatter3d",
         "x": [
          -0.02429343285158319
         ],
         "y": [
          0.1081669857102651
         ],
         "z": [
          0.00628429098397937
         ]
        },
        {
         "customdata": [
          [
           "S-adenosylmethionine synthetase",
           "Methanosphaera sp. rholeuAM74",
           "Euryarchaeota",
           "Methanobacteria",
           "RAP48284.1"
          ]
         ],
         "hovertemplate": "<b>%{customdata[0]}</b><br>Organism: %{customdata[1]}<br>Kingdom: %{customdata[2]}<br>Phylum: %{customdata[3]}</b><br>Source ID: %{customdata[4]}<extra></extra>",
         "marker": {
          "color": "rgb(71, 27, 108)",
          "size": 7
         },
         "mode": "markers",
         "text": "S-adenosylmethionine synthetase",
         "type": "scatter3d",
         "x": [
          -0.07957278174148531
         ],
         "y": [
          0.015340672363790032
         ],
         "z": [
          -0.16297012266534813
         ]
        },
        {
         "customdata": [
          [
           "methionine adenosyltransferase",
           "Thermoplasmata archaeon",
           "Candidatus Thermoplasmatota",
           null,
           "MCD6462054.1"
          ]
         ],
         "hovertemplate": "<b>%{customdata[0]}</b><br>Organism: %{customdata[1]}<br>Kingdom: %{customdata[2]}<br>Phylum: %{customdata[3]}</b><br>Source ID: %{customdata[4]}<extra></extra>",
         "marker": {
          "color": "rgb(176, 221, 46)",
          "size": 7
         },
         "mode": "markers",
         "text": "methionine adenosyltransferase",
         "type": "scatter3d",
         "x": [
          0.13295796512517621
         ],
         "y": [
          -0.18218893338498002
         ],
         "z": [
          0.0894071465244476
         ]
        },
        {
         "customdata": [
          [
           "methionine adenosyltransferase",
           "Candidatus Altiarchaeales archaeon",
           "Candidatus Altarchaeota",
           null,
           "RLI92042.1"
          ]
         ],
         "hovertemplate": "<b>%{customdata[0]}</b><br>Organism: %{customdata[1]}<br>Kingdom: %{customdata[2]}<br>Phylum: %{customdata[3]}</b><br>Source ID: %{customdata[4]}<extra></extra>",
         "marker": {
          "color": "rgb(195, 224, 42)",
          "size": 7
         },
         "mode": "markers",
         "text": "methionine adenosyltransferase",
         "type": "scatter3d",
         "x": [
          -0.04948230577928174
         ],
         "y": [
          -0.06107199453400009
         ],
         "z": [
          0.16228798748617804
         ]
        },
        {
         "customdata": [
          [
           "methionine adenosyltransferase",
           "Thermoplasmatales archaeon",
           "Candidatus Thermoplasmatota",
           "Thermoplasmatales",
           "MCG2826556.1"
          ]
         ],
         "hovertemplate": "<b>%{customdata[0]}</b><br>Organism: %{customdata[1]}<br>Kingdom: %{customdata[2]}<br>Phylum: %{customdata[3]}</b><br>Source ID: %{customdata[4]}<extra></extra>",
         "marker": {
          "color": "rgb(162, 218, 55)",
          "size": 7
         },
         "mode": "markers",
         "text": "methionine adenosyltransferase",
         "type": "scatter3d",
         "x": [
          0.17869440476341683
         ],
         "y": [
          -0.2386021064193096
         ],
         "z": [
          0.11238184441351842
         ]
        },
        {
         "customdata": [
          [
           "Archaeal S-adenosylmethionine synthetase",
           "Candidatus Methanohalarchaeum thermophilum",
           "Euryarchaeota",
           "Methanonatronarchaeales",
           "OKY79041.1"
          ]
         ],
         "hovertemplate": "<b>%{customdata[0]}</b><br>Organism: %{customdata[1]}<br>Kingdom: %{customdata[2]}<br>Phylum: %{customdata[3]}</b><br>Source ID: %{customdata[4]}<extra></extra>",
         "marker": {
          "color": "rgb(53, 95, 141)",
          "size": 7
         },
         "mode": "markers",
         "text": "Archaeal S-adenosylmethionine synthetase",
         "type": "scatter3d",
         "x": [
          -0.2336597158158538
         ],
         "y": [
          -0.0891174554820183
         ],
         "z": [
          -0.02499880553363204
         ]
        },
        {
         "customdata": [
          [
           "methionine adenosyltransferase",
           "Methanobacterium",
           "Euryarchaeota",
           "Methanobacteria",
           "WP_048072774.1"
          ]
         ],
         "hovertemplate": "<b>%{customdata[0]}</b><br>Organism: %{customdata[1]}<br>Kingdom: %{customdata[2]}<br>Phylum: %{customdata[3]}</b><br>Source ID: %{customdata[4]}<extra></extra>",
         "marker": {
          "color": "rgb(70, 48, 124)",
          "size": 7
         },
         "mode": "markers",
         "text": "methionine adenosyltransferase",
         "type": "scatter3d",
         "x": [
          -0.09410591572499323
         ],
         "y": [
          0.017804928223093718
         ],
         "z": [
          -0.15539907532975245
         ]
        },
        {
         "customdata": [
          [
           "methionine adenosyltransferase",
           "Methanobacterium",
           "Euryarchaeota",
           "Methanobacteria",
           "WP_100905321.1"
          ]
         ],
         "hovertemplate": "<b>%{customdata[0]}</b><br>Organism: %{customdata[1]}<br>Kingdom: %{customdata[2]}<br>Phylum: %{customdata[3]}</b><br>Source ID: %{customdata[4]}<extra></extra>",
         "marker": {
          "color": "rgb(70, 48, 124)",
          "size": 7
         },
         "mode": "markers",
         "text": "methionine adenosyltransferase",
         "type": "scatter3d",
         "x": [
          -0.0758790210357579
         ],
         "y": [
          0.011243636006566865
         ],
         "z": [
          -0.1479552654165619
         ]
        },
        {
         "customdata": [
          [
           "S-adenosylmethionine synthetase",
           "Picrophilus oshimae DSM 9789",
           "Candidatus Thermoplasmatota",
           "Thermoplasmatales",
           "AAT43329.1"
          ]
         ],
         "hovertemplate": "<b>%{customdata[0]}</b><br>Organism: %{customdata[1]}<br>Kingdom: %{customdata[2]}<br>Phylum: %{customdata[3]}</b><br>Source ID: %{customdata[4]}<extra></extra>",
         "marker": {
          "color": "rgb(68, 54, 127)",
          "size": 7
         },
         "mode": "markers",
         "text": "S-adenosylmethionine synthetase",
         "type": "scatter3d",
         "x": [
          0.22253608905877492
         ],
         "y": [
          -0.20766536501841856
         ],
         "z": [
          0.06163195439623853
         ]
        },
        {
         "customdata": [
          [
           "methionine adenosyltransferase",
           "archaeon",
           null,
           null,
           "MCQ2972576.1"
          ]
         ],
         "hovertemplate": "<b>%{customdata[0]}</b><br>Organism: %{customdata[1]}<br>Kingdom: %{customdata[2]}<br>Phylum: %{customdata[3]}</b><br>Source ID: %{customdata[4]}<extra></extra>",
         "marker": {
          "color": "rgb(34, 147, 139)",
          "size": 7
         },
         "mode": "markers",
         "text": "methionine adenosyltransferase",
         "type": "scatter3d",
         "x": [
          -0.08892090616772735
         ],
         "y": [
          0.014913588127451267
         ],
         "z": [
          -0.1730756308978188
         ]
        },
        {
         "customdata": [
          [
           "S-adenosylmethionine synthetase",
           "candidate division MSBL1 archaeon SCGC-AAA259B11",
           "Euryarchaeota",
           null,
           "KXA90431.1"
          ]
         ],
         "hovertemplate": "<b>%{customdata[0]}</b><br>Organism: %{customdata[1]}<br>Kingdom: %{customdata[2]}<br>Phylum: %{customdata[3]}</b><br>Source ID: %{customdata[4]}<extra></extra>",
         "marker": {
          "color": "rgb(41, 122, 142)",
          "size": 7
         },
         "mode": "markers",
         "text": "S-adenosylmethionine synthetase",
         "type": "scatter3d",
         "x": [
          0.29099684021725636
         ],
         "y": [
          0.3246292356995954
         ],
         "z": [
          0.5978617826769219
         ]
        },
        {
         "customdata": [
          [
           "methionine adenosyltransferase",
           "Halapricum salinum",
           "Euryarchaeota",
           "Halobacteria",
           "WP_049992581.1"
          ]
         ],
         "hovertemplate": "<b>%{customdata[0]}</b><br>Organism: %{customdata[1]}<br>Kingdom: %{customdata[2]}<br>Phylum: %{customdata[3]}</b><br>Source ID: %{customdata[4]}<extra></extra>",
         "marker": {
          "color": "rgb(54, 183, 121)",
          "size": 7
         },
         "mode": "markers",
         "text": "methionine adenosyltransferase",
         "type": "scatter3d",
         "x": [
          -0.01714175050004612
         ],
         "y": [
          0.14654606722994007
         ],
         "z": [
          0.010338094070339246
         ]
        },
        {
         "customdata": [
          [
           "methionine adenosyltransferase",
           "Methanosalsum natronophilum",
           "Euryarchaeota",
           "Methanomicrobia",
           "WP_259135288.1"
          ]
         ],
         "hovertemplate": "<b>%{customdata[0]}</b><br>Organism: %{customdata[1]}<br>Kingdom: %{customdata[2]}<br>Phylum: %{customdata[3]}</b><br>Source ID: %{customdata[4]}<extra></extra>",
         "marker": {
          "color": "rgb(33, 151, 138)",
          "size": 7
         },
         "mode": "markers",
         "text": "methionine adenosyltransferase",
         "type": "scatter3d",
         "x": [
          -0.1823842851340802
         ],
         "y": [
          0.007389022026663876
         ],
         "z": [
          -0.06304771212923665
         ]
        },
        {
         "customdata": [
          [
           "methionine adenosyltransferase",
           "Methanobacterium sp. SMA-27",
           "Euryarchaeota",
           "Methanobacteria",
           "WP_048191960.1"
          ]
         ],
         "hovertemplate": "<b>%{customdata[0]}</b><br>Organism: %{customdata[1]}<br>Kingdom: %{customdata[2]}<br>Phylum: %{customdata[3]}</b><br>Source ID: %{customdata[4]}<extra></extra>",
         "marker": {
          "color": "rgb(70, 23, 105)",
          "size": 7
         },
         "mode": "markers",
         "text": "methionine adenosyltransferase",
         "type": "scatter3d",
         "x": [
          -0.10315432889045272
         ],
         "y": [
          0.014648012427053497
         ],
         "z": [
          -0.12744191891900908
         ]
        },
        {
         "customdata": [
          [
           "methionine adenosyltransferase",
           "Candidatus Altiarchaeales archaeon",
           "Candidatus Altarchaeota",
           null,
           "RLI88430.1"
          ]
         ],
         "hovertemplate": "<b>%{customdata[0]}</b><br>Organism: %{customdata[1]}<br>Kingdom: %{customdata[2]}<br>Phylum: %{customdata[3]}</b><br>Source ID: %{customdata[4]}<extra></extra>",
         "marker": {
          "color": "rgb(195, 224, 42)",
          "size": 7
         },
         "mode": "markers",
         "text": "methionine adenosyltransferase",
         "type": "scatter3d",
         "x": [
          -0.06953070201914466
         ],
         "y": [
          -0.07617276616336964
         ],
         "z": [
          0.1718870278060451
         ]
        },
        {
         "customdata": [
          [
           "methionine adenosyltransferase",
           "Candidatus Thermoplasmatota archaeon",
           "Candidatus Thermoplasmatota",
           null,
           "MCL4330426.1"
          ]
         ],
         "hovertemplate": "<b>%{customdata[0]}</b><br>Organism: %{customdata[1]}<br>Kingdom: %{customdata[2]}<br>Phylum: %{customdata[3]}</b><br>Source ID: %{customdata[4]}<extra></extra>",
         "marker": {
          "color": "rgb(72, 40, 120)",
          "size": 7
         },
         "mode": "markers",
         "text": "methionine adenosyltransferase",
         "type": "scatter3d",
         "x": [
          0.23701984743471635
         ],
         "y": [
          -0.18951519256842844
         ],
         "z": [
          0.08250687881840552
         ]
        },
        {
         "customdata": [
          [
           "methionine adenosyltransferase",
           "Thermoplasmata archaeon",
           "Candidatus Thermoplasmatota",
           null,
           "MCU0859210.1"
          ]
         ],
         "hovertemplate": "<b>%{customdata[0]}</b><br>Organism: %{customdata[1]}<br>Kingdom: %{customdata[2]}<br>Phylum: %{customdata[3]}</b><br>Source ID: %{customdata[4]}<extra></extra>",
         "marker": {
          "color": "rgb(176, 221, 46)",
          "size": 7
         },
         "mode": "markers",
         "text": "methionine adenosyltransferase",
         "type": "scatter3d",
         "x": [
          0.18484475008717932
         ],
         "y": [
          -0.20642002869830187
         ],
         "z": [
          0.13166776985840936
         ]
        },
        {
         "customdata": [
          [
           "methionine adenosyltransferase",
           "Thermoplasmata archaeon",
           "Candidatus Thermoplasmatota",
           null,
           "MBE0519066.1"
          ]
         ],
         "hovertemplate": "<b>%{customdata[0]}</b><br>Organism: %{customdata[1]}<br>Kingdom: %{customdata[2]}<br>Phylum: %{customdata[3]}</b><br>Source ID: %{customdata[4]}<extra></extra>",
         "marker": {
          "color": "rgb(176, 221, 46)",
          "size": 7
         },
         "mode": "markers",
         "text": "methionine adenosyltransferase",
         "type": "scatter3d",
         "x": [
          0.16836650212791548
         ],
         "y": [
          -0.21222050058098213
         ],
         "z": [
          0.12131076989437146
         ]
        },
        {
         "customdata": [
          [
           "methionine adenosyltransferase",
           "Methanothrix sp.",
           "Euryarchaeota",
           "Methanomicrobia",
           "MCR3884112.1"
          ]
         ],
         "hovertemplate": "<b>%{customdata[0]}</b><br>Organism: %{customdata[1]}<br>Kingdom: %{customdata[2]}<br>Phylum: %{customdata[3]}</b><br>Source ID: %{customdata[4]}<extra></extra>",
         "marker": {
          "color": "rgb(164, 218, 54)",
          "size": 7
         },
         "mode": "markers",
         "text": "methionine adenosyltransferase",
         "type": "scatter3d",
         "x": [
          -0.18684689890855508
         ],
         "y": [
          0.01639512507397615
         ],
         "z": [
          -0.023855574631132342
         ]
        },
        {
         "customdata": [
          [
           "methionine adenosyltransferase",
           "Methanobrevibacter arboriphilus",
           "Euryarchaeota",
           "Methanobacteria",
           "WP_054834771.1"
          ]
         ],
         "hovertemplate": "<b>%{customdata[0]}</b><br>Organism: %{customdata[1]}<br>Kingdom: %{customdata[2]}<br>Phylum: %{customdata[3]}</b><br>Source ID: %{customdata[4]}<extra></extra>",
         "marker": {
          "color": "rgb(39, 127, 142)",
          "size": 7
         },
         "mode": "markers",
         "text": "methionine adenosyltransferase",
         "type": "scatter3d",
         "x": [
          -0.08488085862807515
         ],
         "y": [
          -0.009369397150949355
         ],
         "z": [
          -0.115310510197178
         ]
        },
        {
         "customdata": [
          [
           "methionine adenosyltransferase",
           "Candidatus Thermoplasmatota archaeon",
           "Candidatus Thermoplasmatota",
           null,
           "MCL5731097.1"
          ]
         ],
         "hovertemplate": "<b>%{customdata[0]}</b><br>Organism: %{customdata[1]}<br>Kingdom: %{customdata[2]}<br>Phylum: %{customdata[3]}</b><br>Source ID: %{customdata[4]}<extra></extra>",
         "marker": {
          "color": "rgb(72, 40, 120)",
          "size": 7
         },
         "mode": "markers",
         "text": "methionine adenosyltransferase",
         "type": "scatter3d",
         "x": [
          0.20904740932378235
         ],
         "y": [
          -0.18399391364882794
         ],
         "z": [
          0.07127672575631301
         ]
        },
        {
         "customdata": [
          [
           "S-adenosylmethionine synthetase",
           "Aciduliprofundum sp.",
           "Candidatus Thermoplasmatota",
           "Aciduliprofundum",
           "PMP73360.1"
          ]
         ],
         "hovertemplate": "<b>%{customdata[0]}</b><br>Organism: %{customdata[1]}<br>Kingdom: %{customdata[2]}<br>Phylum: %{customdata[3]}</b><br>Source ID: %{customdata[4]}<extra></extra>",
         "marker": {
          "color": "rgb(62, 72, 137)",
          "size": 7
         },
         "mode": "markers",
         "text": "S-adenosylmethionine synthetase",
         "type": "scatter3d",
         "x": [
          0.18235982200115802
         ],
         "y": [
          -0.17191099156516731
         ],
         "z": [
          0.07883346705267746
         ]
        },
        {
         "customdata": [
          [
           "methionine adenosyltransferase",
           "Thermoplasmata archaeon",
           "Candidatus Thermoplasmatota",
           null,
           "HII39977.1"
          ]
         ],
         "hovertemplate": "<b>%{customdata[0]}</b><br>Organism: %{customdata[1]}<br>Kingdom: %{customdata[2]}<br>Phylum: %{customdata[3]}</b><br>Source ID: %{customdata[4]}<extra></extra>",
         "marker": {
          "color": "rgb(176, 221, 46)",
          "size": 7
         },
         "mode": "markers",
         "text": "methionine adenosyltransferase",
         "type": "scatter3d",
         "x": [
          0.1777562975803727
         ],
         "y": [
          -0.19902232164359626
         ],
         "z": [
          0.09375381811241569
         ]
        },
        {
         "customdata": [
          [
           "methionine adenosyltransferase",
           "Methanobacterium petrolearium",
           "Euryarchaeota",
           "Methanobacteria",
           "WP_209624290.1"
          ]
         ],
         "hovertemplate": "<b>%{customdata[0]}</b><br>Organism: %{customdata[1]}<br>Kingdom: %{customdata[2]}<br>Phylum: %{customdata[3]}</b><br>Source ID: %{customdata[4]}<extra></extra>",
         "marker": {
          "color": "rgb(37, 133, 141)",
          "size": 7
         },
         "mode": "markers",
         "text": "methionine adenosyltransferase",
         "type": "scatter3d",
         "x": [
          -0.10679574045649633
         ],
         "y": [
          0.018250267155412832
         ],
         "z": [
          -0.1474906880282934
         ]
        },
        {
         "customdata": [
          [
           "methionine adenosyltransferase",
           "Candidatus Thermoplasmatota archaeon",
           "Candidatus Thermoplasmatota",
           null,
           "MCL4328217.1"
          ]
         ],
         "hovertemplate": "<b>%{customdata[0]}</b><br>Organism: %{customdata[1]}<br>Kingdom: %{customdata[2]}<br>Phylum: %{customdata[3]}</b><br>Source ID: %{customdata[4]}<extra></extra>",
         "marker": {
          "color": "rgb(72, 40, 120)",
          "size": 7
         },
         "mode": "markers",
         "text": "methionine adenosyltransferase",
         "type": "scatter3d",
         "x": [
          0.24494309423539093
         ],
         "y": [
          -0.20316769176096122
         ],
         "z": [
          0.08120894479781908
         ]
        },
        {
         "customdata": [
          [
           "methionine adenosyltransferase",
           "Methanocalculus sp. MSAO_Arc2",
           "Euryarchaeota",
           "Methanomicrobia",
           "RQD85122.1"
          ]
         ],
         "hovertemplate": "<b>%{customdata[0]}</b><br>Organism: %{customdata[1]}<br>Kingdom: %{customdata[2]}<br>Phylum: %{customdata[3]}</b><br>Source ID: %{customdata[4]}<extra></extra>",
         "marker": {
          "color": "rgb(39, 167, 131)",
          "size": 7
         },
         "mode": "markers",
         "text": "methionine adenosyltransferase",
         "type": "scatter3d",
         "x": [
          -0.21523769846607446
         ],
         "y": [
          -0.01782503441862869
         ],
         "z": [
          -0.10934897257645215
         ]
        },
        {
         "customdata": [
          [
           "methionine adenosyltransferase",
           "Methanosphaera stadtmanae",
           "Euryarchaeota",
           "Methanobacteria",
           "MBE6493246.1"
          ]
         ],
         "hovertemplate": "<b>%{customdata[0]}</b><br>Organism: %{customdata[1]}<br>Kingdom: %{customdata[2]}<br>Phylum: %{customdata[3]}</b><br>Source ID: %{customdata[4]}<extra></extra>",
         "marker": {
          "color": "rgb(69, 9, 91)",
          "size": 7
         },
         "mode": "markers",
         "text": "methionine adenosyltransferase",
         "type": "scatter3d",
         "x": [
          -0.08088682408744123
         ],
         "y": [
          -0.009458862540939198
         ],
         "z": [
          -0.1650347691988043
         ]
        },
        {
         "customdata": [
          [
           "methionine adenosyltransferase",
           "Candidatus Altiarchaeota archaeon",
           "Candidatus Altarchaeota",
           null,
           "MBU0761834.1"
          ]
         ],
         "hovertemplate": "<b>%{customdata[0]}</b><br>Organism: %{customdata[1]}<br>Kingdom: %{customdata[2]}<br>Phylum: %{customdata[3]}</b><br>Source ID: %{customdata[4]}<extra></extra>",
         "marker": {
          "color": "rgb(80, 194, 106)",
          "size": 7
         },
         "mode": "markers",
         "text": "methionine adenosyltransferase",
         "type": "scatter3d",
         "x": [
          -0.11332742503636067
         ],
         "y": [
          -0.05331006784671043
         ],
         "z": [
          0.1678265838728497
         ]
        },
        {
         "customdata": [
          [
           "methionine adenosyltransferase",
           "Methanolinea mesophila",
           "Euryarchaeota",
           "Methanomicrobia",
           "WP_209675974.1"
          ]
         ],
         "hovertemplate": "<b>%{customdata[0]}</b><br>Organism: %{customdata[1]}<br>Kingdom: %{customdata[2]}<br>Phylum: %{customdata[3]}</b><br>Source ID: %{customdata[4]}<extra></extra>",
         "marker": {
          "color": "rgb(64, 65, 133)",
          "size": 7
         },
         "mode": "markers",
         "text": "methionine adenosyltransferase",
         "type": "scatter3d",
         "x": [
          -0.21026931449716788
         ],
         "y": [
          -0.013321187554352708
         ],
         "z": [
          -0.07654572131199307
         ]
        },
        {
         "customdata": [
          [
           "methionine adenosyltransferase",
           "Methanococcus aeolicus",
           "Euryarchaeota",
           "Methanococci",
           "WP_011973179.1"
          ]
         ],
         "hovertemplate": "<b>%{customdata[0]}</b><br>Organism: %{customdata[1]}<br>Kingdom: %{customdata[2]}<br>Phylum: %{customdata[3]}</b><br>Source ID: %{customdata[4]}<extra></extra>",
         "marker": {
          "color": "rgb(32, 156, 137)",
          "size": 7
         },
         "mode": "markers",
         "text": "methionine adenosyltransferase",
         "type": "scatter3d",
         "x": [
          0.00510196285798241
         ],
         "y": [
          -0.07134983716701272
         ],
         "z": [
          -0.01611679148741486
         ]
        },
        {
         "customdata": [
          [
           "methionine adenosyltransferase",
           "Halobacterium zhouii",
           "Euryarchaeota",
           "Halobacteria",
           "WP_232685737.1"
          ]
         ],
         "hovertemplate": "<b>%{customdata[0]}</b><br>Organism: %{customdata[1]}<br>Kingdom: %{customdata[2]}<br>Phylum: %{customdata[3]}</b><br>Source ID: %{customdata[4]}<extra></extra>",
         "marker": {
          "color": "rgb(72, 37, 117)",
          "size": 7
         },
         "mode": "markers",
         "text": "methionine adenosyltransferase",
         "type": "scatter3d",
         "x": [
          -0.017162747555887304
         ],
         "y": [
          0.1350515009712641
         ],
         "z": [
          0.02782966167934065
         ]
        },
        {
         "customdata": [
          [
           "methionine adenosyltransferase",
           "Candidatus Altiarchaeota archaeon",
           "Candidatus Altarchaeota",
           null,
           "MBN2251254.1"
          ]
         ],
         "hovertemplate": "<b>%{customdata[0]}</b><br>Organism: %{customdata[1]}<br>Kingdom: %{customdata[2]}<br>Phylum: %{customdata[3]}</b><br>Source ID: %{customdata[4]}<extra></extra>",
         "marker": {
          "color": "rgb(80, 194, 106)",
          "size": 7
         },
         "mode": "markers",
         "text": "methionine adenosyltransferase",
         "type": "scatter3d",
         "x": [
          -0.0950750962923393
         ],
         "y": [
          -0.07321600384014099
         ],
         "z": [
          0.23304014041150656
         ]
        },
        {
         "customdata": [
          [
           "methionine adenosyltransferase",
           "Candidatus Thermoplasmatota archaeon",
           "Candidatus Thermoplasmatota",
           null,
           "MCL4343227.1"
          ]
         ],
         "hovertemplate": "<b>%{customdata[0]}</b><br>Organism: %{customdata[1]}<br>Kingdom: %{customdata[2]}<br>Phylum: %{customdata[3]}</b><br>Source ID: %{customdata[4]}<extra></extra>",
         "marker": {
          "color": "rgb(72, 40, 120)",
          "size": 7
         },
         "mode": "markers",
         "text": "methionine adenosyltransferase",
         "type": "scatter3d",
         "x": [
          0.24251544545733
         ],
         "y": [
          -0.19113169915442277
         ],
         "z": [
          0.0717869933288511
         ]
        },
        {
         "customdata": [
          [
           "methionine adenosyltransferase",
           "Methanimicrococcus sp.",
           "Euryarchaeota",
           "Methanomicrobia",
           "MCL2142194.1"
          ]
         ],
         "hovertemplate": "<b>%{customdata[0]}</b><br>Organism: %{customdata[1]}<br>Kingdom: %{customdata[2]}<br>Phylum: %{customdata[3]}</b><br>Source ID: %{customdata[4]}<extra></extra>",
         "marker": {
          "color": "rgb(32, 159, 136)",
          "size": 7
         },
         "mode": "markers",
         "text": "methionine adenosyltransferase",
         "type": "scatter3d",
         "x": [
          -0.15862896847075028
         ],
         "y": [
          -0.029993169071903532
         ],
         "z": [
          -0.04939759919091712
         ]
        },
        {
         "customdata": [
          [
           "methionine adenosyltransferase",
           "Methanosphaera sp. BMS",
           "Euryarchaeota",
           "Methanobacteria",
           "WP_112123877.1"
          ]
         ],
         "hovertemplate": "<b>%{customdata[0]}</b><br>Organism: %{customdata[1]}<br>Kingdom: %{customdata[2]}<br>Phylum: %{customdata[3]}</b><br>Source ID: %{customdata[4]}<extra></extra>",
         "marker": {
          "color": "rgb(68, 53, 127)",
          "size": 7
         },
         "mode": "markers",
         "text": "methionine adenosyltransferase",
         "type": "scatter3d",
         "x": [
          -0.08866785199804664
         ],
         "y": [
          0.02855832193950032
         ],
         "z": [
          -0.13945011174836328
         ]
        },
        {
         "customdata": [
          [
           "methionine adenosyltransferase",
           "Methanophagales archaeon",
           "Euryarchaeota",
           "Methanomicrobia",
           "MCD6203804.1"
          ]
         ],
         "hovertemplate": "<b>%{customdata[0]}</b><br>Organism: %{customdata[1]}<br>Kingdom: %{customdata[2]}<br>Phylum: %{customdata[3]}</b><br>Source ID: %{customdata[4]}<extra></extra>",
         "marker": {
          "color": "rgb(63, 70, 135)",
          "size": 7
         },
         "mode": "markers",
         "text": "methionine adenosyltransferase",
         "type": "scatter3d",
         "x": [
          -0.25318376983863766
         ],
         "y": [
          -0.08594194569466573
         ],
         "z": [
          0.07412004405604884
         ]
        },
        {
         "customdata": [
          [
           "methionine adenosyltransferase",
           "Candidatus Aenigmarchaeota archaeon",
           "Candidatus Aenigmarchaeota",
           null,
           "MBI5355160.1"
          ]
         ],
         "hovertemplate": "<b>%{customdata[0]}</b><br>Organism: %{customdata[1]}<br>Kingdom: %{customdata[2]}<br>Phylum: %{customdata[3]}</b><br>Source ID: %{customdata[4]}<extra></extra>",
         "marker": {
          "color": "rgb(85, 196, 103)",
          "size": 7
         },
         "mode": "markers",
         "text": "methionine adenosyltransferase",
         "type": "scatter3d",
         "x": [
          0.6235854916316999
         ],
         "y": [
          0.052979547354738456
         ],
         "z": [
          -1
         ]
        },
        {
         "customdata": [
          [
           "methionine adenosyltransferase",
           "Methanoregula boonei",
           "Euryarchaeota",
           "Methanomicrobia",
           "WP_012106609.1"
          ]
         ],
         "hovertemplate": "<b>%{customdata[0]}</b><br>Organism: %{customdata[1]}<br>Kingdom: %{customdata[2]}<br>Phylum: %{customdata[3]}</b><br>Source ID: %{customdata[4]}<extra></extra>",
         "marker": {
          "color": "rgb(70, 45, 123)",
          "size": 7
         },
         "mode": "markers",
         "text": "methionine adenosyltransferase",
         "type": "scatter3d",
         "x": [
          -0.18956024103706004
         ],
         "y": [
          -0.026277002241698984
         ],
         "z": [
          -0.09914426677946774
         ]
        },
        {
         "customdata": [
          [
           "methionine adenosyltransferase",
           "Methanobacterium sp.",
           "Euryarchaeota",
           "Methanobacteria",
           "TMS42793.1"
          ]
         ],
         "hovertemplate": "<b>%{customdata[0]}</b><br>Organism: %{customdata[1]}<br>Kingdom: %{customdata[2]}<br>Phylum: %{customdata[3]}</b><br>Source ID: %{customdata[4]}<extra></extra>",
         "marker": {
          "color": "rgb(44, 115, 142)",
          "size": 7
         },
         "mode": "markers",
         "text": "methionine adenosyltransferase",
         "type": "scatter3d",
         "x": [
          -0.07152757356539298
         ],
         "y": [
          -0.008593226094988764
         ],
         "z": [
          -0.11954565720333386
         ]
        },
        {
         "customdata": [
          [
           "methionine adenosyltransferase",
           "Thermoplasmata archaeon",
           "Candidatus Thermoplasmatota",
           null,
           "MCI4339003.1"
          ]
         ],
         "hovertemplate": "<b>%{customdata[0]}</b><br>Organism: %{customdata[1]}<br>Kingdom: %{customdata[2]}<br>Phylum: %{customdata[3]}</b><br>Source ID: %{customdata[4]}<extra></extra>",
         "marker": {
          "color": "rgb(176, 221, 46)",
          "size": 7
         },
         "mode": "markers",
         "text": "methionine adenosyltransferase",
         "type": "scatter3d",
         "x": [
          0.12701480435833404
         ],
         "y": [
          -0.1115458322330519
         ],
         "z": [
          0.11720277749814689
         ]
        },
        {
         "customdata": [
          [
           "S-adenosylmethionine synthetase",
           "Candidatus Altiarchaeales archaeon ex4484_2",
           "Candidatus Altarchaeota",
           null,
           "OYT54135.1"
          ]
         ],
         "hovertemplate": "<b>%{customdata[0]}</b><br>Organism: %{customdata[1]}<br>Kingdom: %{customdata[2]}<br>Phylum: %{customdata[3]}</b><br>Source ID: %{customdata[4]}<extra></extra>",
         "marker": {
          "color": "rgb(70, 190, 111)",
          "size": 7
         },
         "mode": "markers",
         "text": "S-adenosylmethionine synthetase",
         "type": "scatter3d",
         "x": [
          -0.05907508954051159
         ],
         "y": [
          -0.06148508745345584
         ],
         "z": [
          0.20697897108058555
         ]
        },
        {
         "customdata": [
          [
           "methionine adenosyltransferase",
           "Candidatus Bathyarchaeota archaeon",
           "Candidatus Bathyarchaeota",
           null,
           "HID91237.1"
          ]
         ],
         "hovertemplate": "<b>%{customdata[0]}</b><br>Organism: %{customdata[1]}<br>Kingdom: %{customdata[2]}<br>Phylum: %{customdata[3]}</b><br>Source ID: %{customdata[4]}<extra></extra>",
         "marker": {
          "color": "rgb(55, 184, 120)",
          "size": 7
         },
         "mode": "markers",
         "text": "methionine adenosyltransferase",
         "type": "scatter3d",
         "x": [
          0.2936359775614522
         ],
         "y": [
          0.15926301954730052
         ],
         "z": [
          -0.014637521744538164
         ]
        },
        {
         "customdata": [
          [
           "S-adenosylmethionine synthase",
           "Candidatus Odinarchaeum yellowstonii",
           "Asgard group",
           "Candidatus Odinarchaeum",
           "OLS17286.1"
          ]
         ],
         "hovertemplate": "<b>%{customdata[0]}</b><br>Organism: %{customdata[1]}<br>Kingdom: %{customdata[2]}<br>Phylum: %{customdata[3]}</b><br>Source ID: %{customdata[4]}<extra></extra>",
         "marker": {
          "color": "rgb(69, 11, 93)",
          "size": 7
         },
         "mode": "markers",
         "text": "S-adenosylmethionine synthase",
         "type": "scatter3d",
         "x": [
          0.19106480279780325
         ],
         "y": [
          0.05502731920605156
         ],
         "z": [
          -0.02472997545776927
         ]
        },
        {
         "customdata": [
          [
           "S-adenosylmethionine synthetase",
           "Candidatus Altiarchaeales archaeon ex4484_43",
           "Candidatus Altarchaeota",
           null,
           "OYT42366.1"
          ]
         ],
         "hovertemplate": "<b>%{customdata[0]}</b><br>Organism: %{customdata[1]}<br>Kingdom: %{customdata[2]}<br>Phylum: %{customdata[3]}</b><br>Source ID: %{customdata[4]}<extra></extra>",
         "marker": {
          "color": "rgb(71, 42, 121)",
          "size": 7
         },
         "mode": "markers",
         "text": "S-adenosylmethionine synthetase",
         "type": "scatter3d",
         "x": [
          -0.07162426540681063
         ],
         "y": [
          -0.050558111184112436
         ],
         "z": [
          0.11149105519128472
         ]
        },
        {
         "customdata": [
          [
           "methionine adenosyltransferase",
           "Candidatus Thermoplasmatota archaeon",
           "Candidatus Thermoplasmatota",
           null,
           "MBU0685844.1"
          ]
         ],
         "hovertemplate": "<b>%{customdata[0]}</b><br>Organism: %{customdata[1]}<br>Kingdom: %{customdata[2]}<br>Phylum: %{customdata[3]}</b><br>Source ID: %{customdata[4]}<extra></extra>",
         "marker": {
          "color": "rgb(72, 40, 120)",
          "size": 7
         },
         "mode": "markers",
         "text": "methionine adenosyltransferase",
         "type": "scatter3d",
         "x": [
          0.18128525146785282
         ],
         "y": [
          -0.21912741297442814
         ],
         "z": [
          0.13134638416484948
         ]
        },
        {
         "customdata": [
          [
           "methionine adenosyltransferase",
           "Candidatus Thermoplasmatota archaeon",
           "Candidatus Thermoplasmatota",
           null,
           "MCL5988943.1"
          ]
         ],
         "hovertemplate": "<b>%{customdata[0]}</b><br>Organism: %{customdata[1]}<br>Kingdom: %{customdata[2]}<br>Phylum: %{customdata[3]}</b><br>Source ID: %{customdata[4]}<extra></extra>",
         "marker": {
          "color": "rgb(72, 40, 120)",
          "size": 7
         },
         "mode": "markers",
         "text": "methionine adenosyltransferase",
         "type": "scatter3d",
         "x": [
          0.2571489537711813
         ],
         "y": [
          -0.20725060859848954
         ],
         "z": [
          0.0494392203188269
         ]
        },
        {
         "customdata": [
          [
           "S-adenosylmethionine synthetase",
           "Methanophagales archaeon",
           "Euryarchaeota",
           "Methanomicrobia",
           "PXF52344.1"
          ]
         ],
         "hovertemplate": "<b>%{customdata[0]}</b><br>Organism: %{customdata[1]}<br>Kingdom: %{customdata[2]}<br>Phylum: %{customdata[3]}</b><br>Source ID: %{customdata[4]}<extra></extra>",
         "marker": {
          "color": "rgb(63, 70, 135)",
          "size": 7
         },
         "mode": "markers",
         "text": "S-adenosylmethionine synthetase",
         "type": "scatter3d",
         "x": [
          -0.24347788114436134
         ],
         "y": [
          -0.0869478360896956
         ],
         "z": [
          0.061023162143018686
         ]
        },
        {
         "customdata": [
          [
           "methionine adenosyltransferase",
           "Halanaeroarchaeum sp. HSR-CO",
           "Euryarchaeota",
           "Halobacteria",
           "WP_259517606.1"
          ]
         ],
         "hovertemplate": "<b>%{customdata[0]}</b><br>Organism: %{customdata[1]}<br>Kingdom: %{customdata[2]}<br>Phylum: %{customdata[3]}</b><br>Source ID: %{customdata[4]}<extra></extra>",
         "marker": {
          "color": "rgb(69, 10, 92)",
          "size": 7
         },
         "mode": "markers",
         "text": "methionine adenosyltransferase",
         "type": "scatter3d",
         "x": [
          -0.009436113980865787
         ],
         "y": [
          0.11270588433842152
         ],
         "z": [
          -0.0019463473917633901
         ]
        },
        {
         "customdata": [
          [
           "methionine adenosyltransferase",
           "Methanoregula sp.",
           "Euryarchaeota",
           "Methanomicrobia",
           "WAC05702.1"
          ]
         ],
         "hovertemplate": "<b>%{customdata[0]}</b><br>Organism: %{customdata[1]}<br>Kingdom: %{customdata[2]}<br>Phylum: %{customdata[3]}</b><br>Source ID: %{customdata[4]}<extra></extra>",
         "marker": {
          "color": "rgb(41, 169, 130)",
          "size": 7
         },
         "mode": "markers",
         "text": "methionine adenosyltransferase",
         "type": "scatter3d",
         "x": [
          -0.20651320877613308
         ],
         "y": [
          -0.03615130911138148
         ],
         "z": [
          -0.06929522927342138
         ]
        },
        {
         "customdata": [
          [
           "methionine adenosyltransferase",
           "Methanocorpusculum sp.",
           "Euryarchaeota",
           "Methanomicrobia",
           "MCQ2376414.1"
          ]
         ],
         "hovertemplate": "<b>%{customdata[0]}</b><br>Organism: %{customdata[1]}<br>Kingdom: %{customdata[2]}<br>Phylum: %{customdata[3]}</b><br>Source ID: %{customdata[4]}<extra></extra>",
         "marker": {
          "color": "rgb(36, 164, 133)",
          "size": 7
         },
         "mode": "markers",
         "text": "methionine adenosyltransferase",
         "type": "scatter3d",
         "x": [
          -0.22352767019573802
         ],
         "y": [
          -0.03129631782304481
         ],
         "z": [
          -0.10853013890568607
         ]
        },
        {
         "customdata": [
          [
           "methionine adenosyltransferase",
           "Candidatus Thermoplasmatota archaeon",
           "Candidatus Thermoplasmatota",
           null,
           "MCL4412140.1"
          ]
         ],
         "hovertemplate": "<b>%{customdata[0]}</b><br>Organism: %{customdata[1]}<br>Kingdom: %{customdata[2]}<br>Phylum: %{customdata[3]}</b><br>Source ID: %{customdata[4]}<extra></extra>",
         "marker": {
          "color": "rgb(72, 40, 120)",
          "size": 7
         },
         "mode": "markers",
         "text": "methionine adenosyltransferase",
         "type": "scatter3d",
         "x": [
          0.19642124399985803
         ],
         "y": [
          -0.18670402382519488
         ],
         "z": [
          0.07459843392697157
         ]
        },
        {
         "customdata": [
          [
           "methionine adenosyltransferase",
           "Thermoplasma acidophilum",
           "Candidatus Thermoplasmatota",
           "Thermoplasmatales",
           "WP_010900487.1"
          ]
         ],
         "hovertemplate": "<b>%{customdata[0]}</b><br>Organism: %{customdata[1]}<br>Kingdom: %{customdata[2]}<br>Phylum: %{customdata[3]}</b><br>Source ID: %{customdata[4]}<extra></extra>",
         "marker": {
          "color": "rgb(119, 208, 82)",
          "size": 7
         },
         "mode": "markers",
         "text": "methionine adenosyltransferase",
         "type": "scatter3d",
         "x": [
          0.17512694623999506
         ],
         "y": [
          -0.15721774699227076
         ],
         "z": [
          0.0609763800021421
         ]
        },
        {
         "customdata": [
          [
           "methionine adenosyltransferase",
           "Methanolinea sp.",
           "Euryarchaeota",
           "Methanomicrobia",
           "MBP7119977.1"
          ]
         ],
         "hovertemplate": "<b>%{customdata[0]}</b><br>Organism: %{customdata[1]}<br>Kingdom: %{customdata[2]}<br>Phylum: %{customdata[3]}</b><br>Source ID: %{customdata[4]}<extra></extra>",
         "marker": {
          "color": "rgb(48, 107, 142)",
          "size": 7
         },
         "mode": "markers",
         "text": "methionine adenosyltransferase",
         "type": "scatter3d",
         "x": [
          -0.19457074307841174
         ],
         "y": [
          -0.03686962353900894
         ],
         "z": [
          -0.08092345670117096
         ]
        },
        {
         "customdata": [
          [
           "methionine adenosyltransferase",
           "Candidatus Thermoplasmatota archaeon",
           "Candidatus Thermoplasmatota",
           null,
           "MCL4307262.1"
          ]
         ],
         "hovertemplate": "<b>%{customdata[0]}</b><br>Organism: %{customdata[1]}<br>Kingdom: %{customdata[2]}<br>Phylum: %{customdata[3]}</b><br>Source ID: %{customdata[4]}<extra></extra>",
         "marker": {
          "color": "rgb(72, 40, 120)",
          "size": 7
         },
         "mode": "markers",
         "text": "methionine adenosyltransferase",
         "type": "scatter3d",
         "x": [
          0.2511828945611908
         ],
         "y": [
          -0.18737691987552937
         ],
         "z": [
          0.0761508363972082
         ]
        },
        {
         "customdata": [
          [
           "methionine adenosyltransferase",
           "Methanoregulaceae archaeon",
           "Euryarchaeota",
           "Methanomicrobia",
           "HIH26777.1"
          ]
         ],
         "hovertemplate": "<b>%{customdata[0]}</b><br>Organism: %{customdata[1]}<br>Kingdom: %{customdata[2]}<br>Phylum: %{customdata[3]}</b><br>Source ID: %{customdata[4]}<extra></extra>",
         "marker": {
          "color": "rgb(36, 136, 141)",
          "size": 7
         },
         "mode": "markers",
         "text": "methionine adenosyltransferase",
         "type": "scatter3d",
         "x": [
          -0.21981754692654554
         ],
         "y": [
          -0.0273208202768999
         ],
         "z": [
          -0.0746476808786789
         ]
        },
        {
         "customdata": [
          [
           "S-adenosylmethionine synthase",
           "Methanoregula sp. PtaU1.Bin051",
           "Euryarchaeota",
           "Methanomicrobia",
           "OPY37925.1"
          ]
         ],
         "hovertemplate": "<b>%{customdata[0]}</b><br>Organism: %{customdata[1]}<br>Kingdom: %{customdata[2]}<br>Phylum: %{customdata[3]}</b><br>Source ID: %{customdata[4]}<extra></extra>",
         "marker": {
          "color": "rgb(230, 228, 39)",
          "size": 7
         },
         "mode": "markers",
         "text": "S-adenosylmethionine synthase",
         "type": "scatter3d",
         "x": [
          -0.1971828159053864
         ],
         "y": [
          -0.017583336619942578
         ],
         "z": [
          -0.0916374962093725
         ]
        },
        {
         "customdata": [
          [
           "methionine adenosyltransferase",
           "Halorubrum sp. CSM-61",
           "Euryarchaeota",
           "Halobacteria",
           "WP_123620683.1"
          ]
         ],
         "hovertemplate": "<b>%{customdata[0]}</b><br>Organism: %{customdata[1]}<br>Kingdom: %{customdata[2]}<br>Phylum: %{customdata[3]}</b><br>Source ID: %{customdata[4]}<extra></extra>",
         "marker": {
          "color": "rgb(43, 118, 142)",
          "size": 7
         },
         "mode": "markers",
         "text": "methionine adenosyltransferase",
         "type": "scatter3d",
         "x": [
          -0.026921113391955617
         ],
         "y": [
          0.1575564414291553
         ],
         "z": [
          0.011468410795795492
         ]
        },
        {
         "customdata": [
          [
           "methionine adenosyltransferase",
           "Thermoprotei archaeon",
           "Thermoproteota",
           null,
           "RLE83126.1"
          ]
         ],
         "hovertemplate": "<b>%{customdata[0]}</b><br>Organism: %{customdata[1]}<br>Kingdom: %{customdata[2]}<br>Phylum: %{customdata[3]}</b><br>Source ID: %{customdata[4]}<extra></extra>",
         "marker": {
          "color": "rgb(183, 222, 43)",
          "size": 7
         },
         "mode": "markers",
         "text": "methionine adenosyltransferase",
         "type": "scatter3d",
         "x": [
          0.2447010250540391
         ],
         "y": [
          0.11853798683937572
         ],
         "z": [
          -0.01770448095919252
         ]
        },
        {
         "customdata": [
          [
           "methionine adenosyltransferase",
           "Methanomicrobiales archaeon",
           "Euryarchaeota",
           "Methanomicrobia",
           "NYT05008.1"
          ]
         ],
         "hovertemplate": "<b>%{customdata[0]}</b><br>Organism: %{customdata[1]}<br>Kingdom: %{customdata[2]}<br>Phylum: %{customdata[3]}</b><br>Source ID: %{customdata[4]}<extra></extra>",
         "marker": {
          "color": "rgb(58, 83, 139)",
          "size": 7
         },
         "mode": "markers",
         "text": "methionine adenosyltransferase",
         "type": "scatter3d",
         "x": [
          -0.18804006224412229
         ],
         "y": [
          -0.012591215620160155
         ],
         "z": [
          -0.09275825400013356
         ]
        },
        {
         "customdata": [
          [
           "S-adenosylmethionine synthetase",
           "Candidatus Proteinoplasmatales archaeon SG8-5",
           "Euryarchaeota",
           null,
           "KYK27320.1"
          ]
         ],
         "hovertemplate": "<b>%{customdata[0]}</b><br>Organism: %{customdata[1]}<br>Kingdom: %{customdata[2]}<br>Phylum: %{customdata[3]}</b><br>Source ID: %{customdata[4]}<extra></extra>",
         "marker": {
          "color": "rgb(69, 12, 94)",
          "size": 7
         },
         "mode": "markers",
         "text": "S-adenosylmethionine synthetase",
         "type": "scatter3d",
         "x": [
          0.14635023317290818
         ],
         "y": [
          -0.16902588825201703
         ],
         "z": [
          0.10074177834368857
         ]
        },
        {
         "customdata": [
          [
           "methionine adenosyltransferase",
           "Methanomicrobiales archaeon",
           "Euryarchaeota",
           "Methanomicrobia",
           "NYT16651.1"
          ]
         ],
         "hovertemplate": "<b>%{customdata[0]}</b><br>Organism: %{customdata[1]}<br>Kingdom: %{customdata[2]}<br>Phylum: %{customdata[3]}</b><br>Source ID: %{customdata[4]}<extra></extra>",
         "marker": {
          "color": "rgb(58, 83, 139)",
          "size": 7
         },
         "mode": "markers",
         "text": "methionine adenosyltransferase",
         "type": "scatter3d",
         "x": [
          -0.19458622895692024
         ],
         "y": [
          -0.021397407363011052
         ],
         "z": [
          -0.07232616565406294
         ]
        },
        {
         "customdata": [
          [
           "methionine adenosyltransferase",
           "Pyrolobus fumarii",
           "Thermoproteota",
           "Desulfurococcales",
           "WP_014025700.1"
          ]
         ],
         "hovertemplate": "<b>%{customdata[0]}</b><br>Organism: %{customdata[1]}<br>Kingdom: %{customdata[2]}<br>Phylum: %{customdata[3]}</b><br>Source ID: %{customdata[4]}<extra></extra>",
         "marker": {
          "color": "rgb(49, 178, 124)",
          "size": 7
         },
         "mode": "markers",
         "text": "methionine adenosyltransferase",
         "type": "scatter3d",
         "x": [
          0.19504706201772198
         ],
         "y": [
          0.08936953424312488
         ],
         "z": [
          0.012244792357749461
         ]
        },
        {
         "customdata": [
          [
           "methionine adenosyltransferase",
           "Methanobacteriaceae archaeon",
           "Euryarchaeota",
           "Methanobacteria",
           "MBX7076341.1"
          ]
         ],
         "hovertemplate": "<b>%{customdata[0]}</b><br>Organism: %{customdata[1]}<br>Kingdom: %{customdata[2]}<br>Phylum: %{customdata[3]}</b><br>Source ID: %{customdata[4]}<extra></extra>",
         "marker": {
          "color": "rgb(150, 215, 63)",
          "size": 7
         },
         "mode": "markers",
         "text": "methionine adenosyltransferase",
         "type": "scatter3d",
         "x": [
          -0.06601236190873577
         ],
         "y": [
          -0.002604193131185231
         ],
         "z": [
          -0.1256202043569615
         ]
        },
        {
         "customdata": [
          [
           "methionine adenosyltransferase",
           "Candidatus Thermoplasmatota archaeon",
           "Candidatus Thermoplasmatota",
           null,
           "MCL5803311.1"
          ]
         ],
         "hovertemplate": "<b>%{customdata[0]}</b><br>Organism: %{customdata[1]}<br>Kingdom: %{customdata[2]}<br>Phylum: %{customdata[3]}</b><br>Source ID: %{customdata[4]}<extra></extra>",
         "marker": {
          "color": "rgb(72, 40, 120)",
          "size": 7
         },
         "mode": "markers",
         "text": "methionine adenosyltransferase",
         "type": "scatter3d",
         "x": [
          0.22058599985660715
         ],
         "y": [
          -0.17502386486014987
         ],
         "z": [
          0.0442190150871675
         ]
        },
        {
         "customdata": [
          [
           "methionine adenosyltransferase",
           "bacterium",
           null,
           null,
           "MBC7329287.1"
          ]
         ],
         "hovertemplate": "<b>%{customdata[0]}</b><br>Organism: %{customdata[1]}<br>Kingdom: %{customdata[2]}<br>Phylum: %{customdata[3]}</b><br>Source ID: %{customdata[4]}<extra></extra>",
         "marker": {
          "color": "rgb(49, 104, 142)",
          "size": 7
         },
         "mode": "markers",
         "text": "methionine adenosyltransferase",
         "type": "scatter3d",
         "x": [
          0.7071385571692924
         ],
         "y": [
          0.2160521535260765
         ],
         "z": [
          -0.663136253676513
         ]
        },
        {
         "customdata": [
          [
           "methionine adenosyltransferase",
           "Methanolinea sp.",
           "Euryarchaeota",
           "Methanomicrobia",
           "MCA9702766.1"
          ]
         ],
         "hovertemplate": "<b>%{customdata[0]}</b><br>Organism: %{customdata[1]}<br>Kingdom: %{customdata[2]}<br>Phylum: %{customdata[3]}</b><br>Source ID: %{customdata[4]}<extra></extra>",
         "marker": {
          "color": "rgb(48, 107, 142)",
          "size": 7
         },
         "mode": "markers",
         "text": "methionine adenosyltransferase",
         "type": "scatter3d",
         "x": [
          -0.18663491863137144
         ],
         "y": [
          -0.027689214567445244
         ],
         "z": [
          -0.08969036064012298
         ]
        },
        {
         "customdata": [
          [
           "methionine adenosyltransferase",
           "Methanobacterium lacus",
           "Euryarchaeota",
           "Methanobacteria",
           "WP_013643758.1"
          ]
         ],
         "hovertemplate": "<b>%{customdata[0]}</b><br>Organism: %{customdata[1]}<br>Kingdom: %{customdata[2]}<br>Phylum: %{customdata[3]}</b><br>Source ID: %{customdata[4]}<extra></extra>",
         "marker": {
          "color": "rgb(33, 149, 139)",
          "size": 7
         },
         "mode": "markers",
         "text": "methionine adenosyltransferase",
         "type": "scatter3d",
         "x": [
          -0.09277943659666349
         ],
         "y": [
          -0.004339679141932813
         ],
         "z": [
          -0.1412802538636221
         ]
        },
        {
         "customdata": [
          [
           "S-adenosylmethionine synthase",
           "uncultured archaeon",
           "environmental samples",
           null,
           "VVB53498.1"
          ]
         ],
         "hovertemplate": "<b>%{customdata[0]}</b><br>Organism: %{customdata[1]}<br>Kingdom: %{customdata[2]}<br>Phylum: %{customdata[3]}</b><br>Source ID: %{customdata[4]}<extra></extra>",
         "marker": {
          "color": "rgb(35, 162, 134)",
          "size": 7
         },
         "mode": "markers",
         "text": "S-adenosylmethionine synthase",
         "type": "scatter3d",
         "x": [
          -0.08790712948375057
         ],
         "y": [
          -0.08305000467061205
         ],
         "z": [
          0.2412675426309672
         ]
        },
        {
         "customdata": [
          [
           "methionine adenosyltransferase",
           "Methanomicrobiaceae archaeon",
           "Euryarchaeota",
           "Methanomicrobia",
           "MBN1193910.1"
          ]
         ],
         "hovertemplate": "<b>%{customdata[0]}</b><br>Organism: %{customdata[1]}<br>Kingdom: %{customdata[2]}<br>Phylum: %{customdata[3]}</b><br>Source ID: %{customdata[4]}<extra></extra>",
         "marker": {
          "color": "rgb(52, 182, 122)",
          "size": 7
         },
         "mode": "markers",
         "text": "methionine adenosyltransferase",
         "type": "scatter3d",
         "x": [
          -0.1851147972864281
         ],
         "y": [
          -0.025247267108734813
         ],
         "z": [
          -0.10311961245228399
         ]
        },
        {
         "customdata": [
          [
           "methionine adenosyltransferase",
           "Euryarchaeota archaeon",
           "Euryarchaeota",
           null,
           "MBA3045157.1"
          ]
         ],
         "hovertemplate": "<b>%{customdata[0]}</b><br>Organism: %{customdata[1]}<br>Kingdom: %{customdata[2]}<br>Phylum: %{customdata[3]}</b><br>Source ID: %{customdata[4]}<extra></extra>",
         "marker": {
          "color": "rgb(115, 207, 85)",
          "size": 7
         },
         "mode": "markers",
         "text": "methionine adenosyltransferase",
         "type": "scatter3d",
         "x": [
          0.17235797008712808
         ],
         "y": [
          -0.1961594117046314
         ],
         "z": [
          0.12312006269547106
         ]
        },
        {
         "customdata": [
          [
           "methionine adenosyltransferase",
           "Candidatus Thermoplasmatota archaeon",
           "Candidatus Thermoplasmatota",
           null,
           "MCL4438150.1"
          ]
         ],
         "hovertemplate": "<b>%{customdata[0]}</b><br>Organism: %{customdata[1]}<br>Kingdom: %{customdata[2]}<br>Phylum: %{customdata[3]}</b><br>Source ID: %{customdata[4]}<extra></extra>",
         "marker": {
          "color": "rgb(72, 40, 120)",
          "size": 7
         },
         "mode": "markers",
         "text": "methionine adenosyltransferase",
         "type": "scatter3d",
         "x": [
          0.23947836940322348
         ],
         "y": [
          -0.21164923194665622
         ],
         "z": [
          0.07102073945425771
         ]
        },
        {
         "customdata": [
          [
           "methionine adenosyltransferase",
           "Methanobrevibacter sp. TMH8",
           "Euryarchaeota",
           "Methanobacteria",
           "WP_224424997.1"
          ]
         ],
         "hovertemplate": "<b>%{customdata[0]}</b><br>Organism: %{customdata[1]}<br>Kingdom: %{customdata[2]}<br>Phylum: %{customdata[3]}</b><br>Source ID: %{customdata[4]}<extra></extra>",
         "marker": {
          "color": "rgb(78, 193, 106)",
          "size": 7
         },
         "mode": "markers",
         "text": "methionine adenosyltransferase",
         "type": "scatter3d",
         "x": [
          -0.0640797713679513
         ],
         "y": [
          -0.011455869750117035
         ],
         "z": [
          -0.10335933307002368
         ]
        },
        {
         "customdata": [
          [
           "S-adenosylmethionine synthetase",
           "uncultured archaeon",
           "environmental samples",
           null,
           "AKA48505.1"
          ]
         ],
         "hovertemplate": "<b>%{customdata[0]}</b><br>Organism: %{customdata[1]}<br>Kingdom: %{customdata[2]}<br>Phylum: %{customdata[3]}</b><br>Source ID: %{customdata[4]}<extra></extra>",
         "marker": {
          "color": "rgb(35, 162, 134)",
          "size": 7
         },
         "mode": "markers",
         "text": "S-adenosylmethionine synthetase",
         "type": "scatter3d",
         "x": [
          0.21264528675227992
         ],
         "y": [
          -0.17227712186579547
         ],
         "z": [
          0.07187758927713898
         ]
        },
        {
         "customdata": [
          [
           "methionine adenosyltransferase",
           "Methanoplanus limicola",
           "Euryarchaeota",
           "Methanomicrobia",
           "WP_004079284.1"
          ]
         ],
         "hovertemplate": "<b>%{customdata[0]}</b><br>Organism: %{customdata[1]}<br>Kingdom: %{customdata[2]}<br>Phylum: %{customdata[3]}</b><br>Source ID: %{customdata[4]}<extra></extra>",
         "marker": {
          "color": "rgb(243, 230, 38)",
          "size": 7
         },
         "mode": "markers",
         "text": "methionine adenosyltransferase",
         "type": "scatter3d",
         "x": [
          -0.17716667735009164
         ],
         "y": [
          -0.003878058767072416
         ],
         "z": [
          -0.08753514884775981
         ]
        },
        {
         "customdata": [
          [
           "methionine adenosyltransferase",
           "Methanocalculus alkaliphilus",
           "Euryarchaeota",
           "Methanomicrobia",
           "WP_253487760.1"
          ]
         ],
         "hovertemplate": "<b>%{customdata[0]}</b><br>Organism: %{customdata[1]}<br>Kingdom: %{customdata[2]}<br>Phylum: %{customdata[3]}</b><br>Source ID: %{customdata[4]}<extra></extra>",
         "marker": {
          "color": "rgb(36, 140, 140)",
          "size": 7
         },
         "mode": "markers",
         "text": "methionine adenosyltransferase",
         "type": "scatter3d",
         "x": [
          -0.1859951748964471
         ],
         "y": [
          -0.03613506364866549
         ],
         "z": [
          -0.09760111389304556
         ]
        },
        {
         "customdata": [
          [
           "methionine adenosyltransferase",
           "Pyrodictium sp.",
           "Thermoproteota",
           "Desulfurococcales",
           "HIQ11171.1"
          ]
         ],
         "hovertemplate": "<b>%{customdata[0]}</b><br>Organism: %{customdata[1]}<br>Kingdom: %{customdata[2]}<br>Phylum: %{customdata[3]}</b><br>Source ID: %{customdata[4]}<extra></extra>",
         "marker": {
          "color": "rgb(181, 222, 43)",
          "size": 7
         },
         "mode": "markers",
         "text": "methionine adenosyltransferase",
         "type": "scatter3d",
         "x": [
          0.2246290743214313
         ],
         "y": [
          0.13021567197028439
         ],
         "z": [
          0.015710803356584153
         ]
        },
        {
         "customdata": [
          [
           "methionine adenosyltransferase",
           "Ignisphaera sp.",
           "Thermoproteota",
           "Desulfurococcales",
           "MCS7111770.1"
          ]
         ],
         "hovertemplate": "<b>%{customdata[0]}</b><br>Organism: %{customdata[1]}<br>Kingdom: %{customdata[2]}<br>Phylum: %{customdata[3]}</b><br>Source ID: %{customdata[4]}<extra></extra>",
         "marker": {
          "color": "rgb(55, 89, 140)",
          "size": 7
         },
         "mode": "markers",
         "text": "methionine adenosyltransferase",
         "type": "scatter3d",
         "x": [
          0.25057545933579606
         ],
         "y": [
          0.12946207670159435
         ],
         "z": [
          0.03017599256708988
         ]
        },
        {
         "customdata": [
          [
           "Methionine adenosyltransferase",
           "Methanocalculus sp. 52_23",
           "Euryarchaeota",
           "Methanomicrobia",
           "KUK69770.1"
          ]
         ],
         "hovertemplate": "<b>%{customdata[0]}</b><br>Organism: %{customdata[1]}<br>Kingdom: %{customdata[2]}<br>Phylum: %{customdata[3]}</b><br>Source ID: %{customdata[4]}<extra></extra>",
         "marker": {
          "color": "rgb(201, 225, 41)",
          "size": 7
         },
         "mode": "markers",
         "text": "Methionine adenosyltransferase",
         "type": "scatter3d",
         "x": [
          -0.19302765587016743
         ],
         "y": [
          -0.04162418291090389
         ],
         "z": [
          -0.10501271717313246
         ]
        },
        {
         "customdata": [
          [
           "methionine adenosyltransferase",
           "Methanobrevibacter filiformis",
           "Euryarchaeota",
           "Methanobacteria",
           "WP_066971865.1"
          ]
         ],
         "hovertemplate": "<b>%{customdata[0]}</b><br>Organism: %{customdata[1]}<br>Kingdom: %{customdata[2]}<br>Phylum: %{customdata[3]}</b><br>Source ID: %{customdata[4]}<extra></extra>",
         "marker": {
          "color": "rgb(42, 122, 142)",
          "size": 7
         },
         "mode": "markers",
         "text": "methionine adenosyltransferase",
         "type": "scatter3d",
         "x": [
          -0.059050649855080205
         ],
         "y": [
          -0.0009091745847492555
         ],
         "z": [
          -0.14681257276024265
         ]
        },
        {
         "customdata": [
          [
           "S-adenosylmethionine synthetase",
           "Thermocladium sp. ECH_B",
           "Thermoproteota",
           "Thermoproteales",
           "KUO92138.1"
          ]
         ],
         "hovertemplate": "<b>%{customdata[0]}</b><br>Organism: %{customdata[1]}<br>Kingdom: %{customdata[2]}<br>Phylum: %{customdata[3]}</b><br>Source ID: %{customdata[4]}<extra></extra>",
         "marker": {
          "color": "rgb(68, 52, 126)",
          "size": 7
         },
         "mode": "markers",
         "text": "S-adenosylmethionine synthetase",
         "type": "scatter3d",
         "x": [
          0.23597406649976144
         ],
         "y": [
          0.15009299529936543
         ],
         "z": [
          0.025572323765492858
         ]
        },
        {
         "customdata": [
          [
           "methionine adenosyltransferase",
           "Halorubrum salipaludis",
           "Euryarchaeota",
           "Halobacteria",
           "WP_095635812.1"
          ]
         ],
         "hovertemplate": "<b>%{customdata[0]}</b><br>Organism: %{customdata[1]}<br>Kingdom: %{customdata[2]}<br>Phylum: %{customdata[3]}</b><br>Source ID: %{customdata[4]}<extra></extra>",
         "marker": {
          "color": "rgb(57, 185, 119)",
          "size": 7
         },
         "mode": "markers",
         "text": "methionine adenosyltransferase",
         "type": "scatter3d",
         "x": [
          0.0016153835248518878
         ],
         "y": [
          0.1374234214878863
         ],
         "z": [
          -0.006589733002159062
         ]
        },
        {
         "customdata": [
          [
           "methionine adenosyltransferase",
           "Natronorubrum aibiense",
           "Euryarchaeota",
           "Halobacteria",
           "WP_152942600.1"
          ]
         ],
         "hovertemplate": "<b>%{customdata[0]}</b><br>Organism: %{customdata[1]}<br>Kingdom: %{customdata[2]}<br>Phylum: %{customdata[3]}</b><br>Source ID: %{customdata[4]}<extra></extra>",
         "marker": {
          "color": "rgb(60, 186, 117)",
          "size": 7
         },
         "mode": "markers",
         "text": "methionine adenosyltransferase",
         "type": "scatter3d",
         "x": [
          -0.04355971834325176
         ],
         "y": [
          0.12055887817437104
         ],
         "z": [
          -0.014760113262669813
         ]
        },
        {
         "customdata": [
          [
           "methionine adenosyltransferase",
           "Candidatus Thermoplasmatota archaeon",
           "Candidatus Thermoplasmatota",
           null,
           "MCJ2532667.1"
          ]
         ],
         "hovertemplate": "<b>%{customdata[0]}</b><br>Organism: %{customdata[1]}<br>Kingdom: %{customdata[2]}<br>Phylum: %{customdata[3]}</b><br>Source ID: %{customdata[4]}<extra></extra>",
         "marker": {
          "color": "rgb(72, 40, 120)",
          "size": 7
         },
         "mode": "markers",
         "text": "methionine adenosyltransferase",
         "type": "scatter3d",
         "x": [
          0.18404111393917288
         ],
         "y": [
          -0.22791946990818981
         ],
         "z": [
          0.10931181255100704
         ]
        },
        {
         "customdata": [
          [
           "methionine adenosyltransferase",
           "Thermoplasmata archaeon",
           "Candidatus Thermoplasmatota",
           null,
           "MCI4337281.1"
          ]
         ],
         "hovertemplate": "<b>%{customdata[0]}</b><br>Organism: %{customdata[1]}<br>Kingdom: %{customdata[2]}<br>Phylum: %{customdata[3]}</b><br>Source ID: %{customdata[4]}<extra></extra>",
         "marker": {
          "color": "rgb(176, 221, 46)",
          "size": 7
         },
         "mode": "markers",
         "text": "methionine adenosyltransferase",
         "type": "scatter3d",
         "x": [
          0.1433229216911012
         ],
         "y": [
          -0.13581013410164763
         ],
         "z": [
          0.13331702809633095
         ]
        },
        {
         "customdata": [
          [
           "methionine adenosyltransferase",
           "Methanocorpusculum sp.",
           "Euryarchaeota",
           "Methanomicrobia",
           "MBR4987432.1"
          ]
         ],
         "hovertemplate": "<b>%{customdata[0]}</b><br>Organism: %{customdata[1]}<br>Kingdom: %{customdata[2]}<br>Phylum: %{customdata[3]}</b><br>Source ID: %{customdata[4]}<extra></extra>",
         "marker": {
          "color": "rgb(36, 164, 133)",
          "size": 7
         },
         "mode": "markers",
         "text": "methionine adenosyltransferase",
         "type": "scatter3d",
         "x": [
          -0.21505089348524645
         ],
         "y": [
          -0.047234709126332826
         ],
         "z": [
          -0.11587112345723136
         ]
        },
        {
         "customdata": [
          [
           "methionine adenosyltransferase",
           "Thermoplasmata archaeon",
           "Candidatus Thermoplasmatota",
           null,
           "MCI4323287.1"
          ]
         ],
         "hovertemplate": "<b>%{customdata[0]}</b><br>Organism: %{customdata[1]}<br>Kingdom: %{customdata[2]}<br>Phylum: %{customdata[3]}</b><br>Source ID: %{customdata[4]}<extra></extra>",
         "marker": {
          "color": "rgb(176, 221, 46)",
          "size": 7
         },
         "mode": "markers",
         "text": "methionine adenosyltransferase",
         "type": "scatter3d",
         "x": [
          0.13702457462036952
         ],
         "y": [
          -0.15294673412533458
         ],
         "z": [
          0.1550065918326405
         ]
        },
        {
         "customdata": [
          [
           "S-adenosylmethionine synthase",
           "Methanoregulaceae archaeon PtaU1.Bin222",
           "Euryarchaeota",
           "Methanomicrobia",
           "OPY40252.1"
          ]
         ],
         "hovertemplate": "<b>%{customdata[0]}</b><br>Organism: %{customdata[1]}<br>Kingdom: %{customdata[2]}<br>Phylum: %{customdata[3]}</b><br>Source ID: %{customdata[4]}<extra></extra>",
         "marker": {
          "color": "rgb(40, 125, 142)",
          "size": 7
         },
         "mode": "markers",
         "text": "S-adenosylmethionine synthase",
         "type": "scatter3d",
         "x": [
          -0.21051584941211368
         ],
         "y": [
          -0.013044950737158063
         ],
         "z": [
          -0.08799847522962784
         ]
        },
        {
         "customdata": [
          [
           "S-adenosylmethionine synthetase",
           "candidate division MSBL1 archaeon SCGC-AAA382C18",
           "Euryarchaeota",
           null,
           "KXB06412.1"
          ]
         ],
         "hovertemplate": "<b>%{customdata[0]}</b><br>Organism: %{customdata[1]}<br>Kingdom: %{customdata[2]}<br>Phylum: %{customdata[3]}</b><br>Source ID: %{customdata[4]}<extra></extra>",
         "marker": {
          "color": "rgb(101, 202, 93)",
          "size": 7
         },
         "mode": "markers",
         "text": "S-adenosylmethionine synthetase",
         "type": "scatter3d",
         "x": [
          0.2919208752613412
         ],
         "y": [
          0.34504097464085426
         ],
         "z": [
          0.572195785398516
         ]
        },
        {
         "customdata": [
          [
           "methionine adenosyltransferase",
           "Methanobacteriaceae archaeon",
           "Euryarchaeota",
           "Methanobacteria",
           "MCC7553004.1"
          ]
         ],
         "hovertemplate": "<b>%{customdata[0]}</b><br>Organism: %{customdata[1]}<br>Kingdom: %{customdata[2]}<br>Phylum: %{customdata[3]}</b><br>Source ID: %{customdata[4]}<extra></extra>",
         "marker": {
          "color": "rgb(150, 215, 63)",
          "size": 7
         },
         "mode": "markers",
         "text": "methionine adenosyltransferase",
         "type": "scatter3d",
         "x": [
          -0.09220562553694155
         ],
         "y": [
          0.006305984807289603
         ],
         "z": [
          -0.14262052181460932
         ]
        },
        {
         "customdata": [
          [
           "methionine adenosyltransferase",
           "Methanospirillum",
           "Euryarchaeota",
           "Methanomicrobia",
           "WP_214418350.1"
          ]
         ],
         "hovertemplate": "<b>%{customdata[0]}</b><br>Organism: %{customdata[1]}<br>Kingdom: %{customdata[2]}<br>Phylum: %{customdata[3]}</b><br>Source ID: %{customdata[4]}<extra></extra>",
         "marker": {
          "color": "rgb(35, 144, 140)",
          "size": 7
         },
         "mode": "markers",
         "text": "methionine adenosyltransferase",
         "type": "scatter3d",
         "x": [
          -0.2344012355205545
         ],
         "y": [
          -0.04293660017513558
         ],
         "z": [
          -0.09841370000032025
         ]
        },
        {
         "customdata": [
          [
           "methionine adenosyltransferase",
           "Methanobrevibacter boviskoreani",
           "Euryarchaeota",
           "Methanobacteria",
           "WP_040682159.1"
          ]
         ],
         "hovertemplate": "<b>%{customdata[0]}</b><br>Organism: %{customdata[1]}<br>Kingdom: %{customdata[2]}<br>Phylum: %{customdata[3]}</b><br>Source ID: %{customdata[4]}<extra></extra>",
         "marker": {
          "color": "rgb(38, 132, 142)",
          "size": 7
         },
         "mode": "markers",
         "text": "methionine adenosyltransferase",
         "type": "scatter3d",
         "x": [
          -0.07154828160527867
         ],
         "y": [
          0.012396338000659524
         ],
         "z": [
          -0.16312199457423407
         ]
        },
        {
         "customdata": [
          [
           "methionine adenosyltransferase",
           "Methanomicrobiaceae archaeon",
           "Euryarchaeota",
           "Methanomicrobia",
           "MCC7566513.1"
          ]
         ],
         "hovertemplate": "<b>%{customdata[0]}</b><br>Organism: %{customdata[1]}<br>Kingdom: %{customdata[2]}<br>Phylum: %{customdata[3]}</b><br>Source ID: %{customdata[4]}<extra></extra>",
         "marker": {
          "color": "rgb(52, 182, 122)",
          "size": 7
         },
         "mode": "markers",
         "text": "methionine adenosyltransferase",
         "type": "scatter3d",
         "x": [
          -0.1445910706070935
         ],
         "y": [
          0.022000914041237832
         ],
         "z": [
          -0.06463400053940001
         ]
        },
        {
         "customdata": [
          [
           "methionine adenosyltransferase",
           "Candidatus Altiarchaeales archaeon",
           "Candidatus Altarchaeota",
           null,
           "HHQ45179.1"
          ]
         ],
         "hovertemplate": "<b>%{customdata[0]}</b><br>Organism: %{customdata[1]}<br>Kingdom: %{customdata[2]}<br>Phylum: %{customdata[3]}</b><br>Source ID: %{customdata[4]}<extra></extra>",
         "marker": {
          "color": "rgb(195, 224, 42)",
          "size": 7
         },
         "mode": "markers",
         "text": "methionine adenosyltransferase",
         "type": "scatter3d",
         "x": [
          -0.09250569504503349
         ],
         "y": [
          -0.0789720828907959
         ],
         "z": [
          0.2774835053544436
         ]
        },
        {
         "customdata": [
          [
           "methionine adenosyltransferase",
           "Euryarchaeota archaeon",
           "Euryarchaeota",
           null,
           "TLZ82776.1"
          ]
         ],
         "hovertemplate": "<b>%{customdata[0]}</b><br>Organism: %{customdata[1]}<br>Kingdom: %{customdata[2]}<br>Phylum: %{customdata[3]}</b><br>Source ID: %{customdata[4]}<extra></extra>",
         "marker": {
          "color": "rgb(115, 207, 85)",
          "size": 7
         },
         "mode": "markers",
         "text": "methionine adenosyltransferase",
         "type": "scatter3d",
         "x": [
          0.19311050620011394
         ],
         "y": [
          -0.22619345502265562
         ],
         "z": [
          0.10021809820526452
         ]
        },
        {
         "customdata": [
          [
           "methionine adenosyltransferase",
           "Thermoproteota archaeon",
           "Thermoproteota",
           null,
           "NOZ89357.1"
          ]
         ],
         "hovertemplate": "<b>%{customdata[0]}</b><br>Organism: %{customdata[1]}<br>Kingdom: %{customdata[2]}<br>Phylum: %{customdata[3]}</b><br>Source ID: %{customdata[4]}<extra></extra>",
         "marker": {
          "color": "rgb(179, 221, 45)",
          "size": 7
         },
         "mode": "markers",
         "text": "methionine adenosyltransferase",
         "type": "scatter3d",
         "x": [
          0.23908570400937118
         ],
         "y": [
          0.13608207234366548
         ],
         "z": [
          -0.0026412902424689105
         ]
        },
        {
         "customdata": [
          [
           "methionine adenosyltransferase",
           "Natrinema marinum",
           "Euryarchaeota",
           "Halobacteria",
           "WP_254763865.1"
          ]
         ],
         "hovertemplate": "<b>%{customdata[0]}</b><br>Organism: %{customdata[1]}<br>Kingdom: %{customdata[2]}<br>Phylum: %{customdata[3]}</b><br>Source ID: %{customdata[4]}<extra></extra>",
         "marker": {
          "color": "rgb(37, 136, 141)",
          "size": 7
         },
         "mode": "markers",
         "text": "methionine adenosyltransferase",
         "type": "scatter3d",
         "x": [
          -0.03671082882538628
         ],
         "y": [
          0.1256160349745486
         ],
         "z": [
          0.022334335330691388
         ]
        },
        {
         "customdata": [
          [
           "methionine adenosyltransferase",
           "Burkholderiaceae bacterium",
           "Pseudomonadota",
           "Burkholderiales",
           "MCC7467724.1"
          ]
         ],
         "hovertemplate": "<b>%{customdata[0]}</b><br>Organism: %{customdata[1]}<br>Kingdom: %{customdata[2]}<br>Phylum: %{customdata[3]}</b><br>Source ID: %{customdata[4]}<extra></extra>",
         "marker": {
          "color": "rgb(46, 112, 142)",
          "size": 7
         },
         "mode": "markers",
         "text": "methionine adenosyltransferase",
         "type": "scatter3d",
         "x": [
          -0.21315259656429034
         ],
         "y": [
          -0.019246059142890536
         ],
         "z": [
          -0.07091249166384661
         ]
        },
        {
         "customdata": [
          [
           "methionine adenosyltransferase",
           "Vulcanisaeta moutnovskia",
           "Thermoproteota",
           "Thermoproteales",
           "WP_013604332.1"
          ]
         ],
         "hovertemplate": "<b>%{customdata[0]}</b><br>Organism: %{customdata[1]}<br>Kingdom: %{customdata[2]}<br>Phylum: %{customdata[3]}</b><br>Source ID: %{customdata[4]}<extra></extra>",
         "marker": {
          "color": "rgb(65, 62, 131)",
          "size": 7
         },
         "mode": "markers",
         "text": "methionine adenosyltransferase",
         "type": "scatter3d",
         "x": [
          0.2471368672402526
         ],
         "y": [
          0.12772176096637783
         ],
         "z": [
          0.002421328954253542
         ]
        },
        {
         "customdata": [
          [
           "methionine adenosyltransferase",
           "Methanoregula sp.",
           "Euryarchaeota",
           "Methanomicrobia",
           "MCJ7741397.1"
          ]
         ],
         "hovertemplate": "<b>%{customdata[0]}</b><br>Organism: %{customdata[1]}<br>Kingdom: %{customdata[2]}<br>Phylum: %{customdata[3]}</b><br>Source ID: %{customdata[4]}<extra></extra>",
         "marker": {
          "color": "rgb(41, 169, 130)",
          "size": 7
         },
         "mode": "markers",
         "text": "methionine adenosyltransferase",
         "type": "scatter3d",
         "x": [
          -0.20906346177500182
         ],
         "y": [
          -0.025200443522557514
         ],
         "z": [
          -0.07118891493707327
         ]
        },
        {
         "customdata": [
          [
           "methionine adenosyltransferase",
           "Methanomassiliicoccales archaeon",
           "Candidatus Thermoplasmatota",
           "Methanomassiliicoccales",
           "MCU0861666.1"
          ]
         ],
         "hovertemplate": "<b>%{customdata[0]}</b><br>Organism: %{customdata[1]}<br>Kingdom: %{customdata[2]}<br>Phylum: %{customdata[3]}</b><br>Source ID: %{customdata[4]}<extra></extra>",
         "marker": {
          "color": "rgb(33, 148, 139)",
          "size": 7
         },
         "mode": "markers",
         "text": "methionine adenosyltransferase",
         "type": "scatter3d",
         "x": [
          0.18433089106034548
         ],
         "y": [
          -0.2399849776627994
         ],
         "z": [
          0.130546076463459
         ]
        },
        {
         "customdata": [
          [
           "methionine adenosyltransferase",
           "Thermoplasmata archaeon",
           "Candidatus Thermoplasmatota",
           null,
           "MCJ7464787.1"
          ]
         ],
         "hovertemplate": "<b>%{customdata[0]}</b><br>Organism: %{customdata[1]}<br>Kingdom: %{customdata[2]}<br>Phylum: %{customdata[3]}</b><br>Source ID: %{customdata[4]}<extra></extra>",
         "marker": {
          "color": "rgb(176, 221, 46)",
          "size": 7
         },
         "mode": "markers",
         "text": "methionine adenosyltransferase",
         "type": "scatter3d",
         "x": [
          0.19415909085899535
         ],
         "y": [
          -0.2100110467980553
         ],
         "z": [
          0.11452384117689518
         ]
        },
        {
         "customdata": [
          [
           "methionine adenosyltransferase",
           "Halocalculus aciditolerans",
           "Euryarchaeota",
           "Halobacteria",
           "WP_188976441.1"
          ]
         ],
         "hovertemplate": "<b>%{customdata[0]}</b><br>Organism: %{customdata[1]}<br>Kingdom: %{customdata[2]}<br>Phylum: %{customdata[3]}</b><br>Source ID: %{customdata[4]}<extra></extra>",
         "marker": {
          "color": "rgb(58, 82, 139)",
          "size": 7
         },
         "mode": "markers",
         "text": "methionine adenosyltransferase",
         "type": "scatter3d",
         "x": [
          0.0017822279646746955
         ],
         "y": [
          0.14158020244484235
         ],
         "z": [
          0.01261380003653953
         ]
        },
        {
         "customdata": [
          [
           "methionine adenosyltransferase",
           "Methanocalculus sp. MSAO_Arc2",
           "Euryarchaeota",
           "Methanomicrobia",
           "RQD81054.1"
          ]
         ],
         "hovertemplate": "<b>%{customdata[0]}</b><br>Organism: %{customdata[1]}<br>Kingdom: %{customdata[2]}<br>Phylum: %{customdata[3]}</b><br>Source ID: %{customdata[4]}<extra></extra>",
         "marker": {
          "color": "rgb(39, 167, 131)",
          "size": 7
         },
         "mode": "markers",
         "text": "methionine adenosyltransferase",
         "type": "scatter3d",
         "x": [
          -0.1984431718856601
         ],
         "y": [
          -0.02761559319374038
         ],
         "z": [
          -0.11303025353427078
         ]
        },
        {
         "customdata": [
          [
           "methionine adenosyltransferase",
           "Euryarchaeota archaeon",
           "Euryarchaeota",
           null,
           "UCE91495.1"
          ]
         ],
         "hovertemplate": "<b>%{customdata[0]}</b><br>Organism: %{customdata[1]}<br>Kingdom: %{customdata[2]}<br>Phylum: %{customdata[3]}</b><br>Source ID: %{customdata[4]}<extra></extra>",
         "marker": {
          "color": "rgb(115, 207, 85)",
          "size": 7
         },
         "mode": "markers",
         "text": "methionine adenosyltransferase",
         "type": "scatter3d",
         "x": [
          0.17192874184039386
         ],
         "y": [
          -0.20491456396549587
         ],
         "z": [
          0.13597932167168977
         ]
        },
        {
         "customdata": [
          [
           "S-adenosylmethionine synthetase",
           "Methanomicrobiales archaeon HGW-Methanomicrobiales-4",
           "Euryarchaeota",
           "Methanomicrobia",
           "PKL59643.1"
          ]
         ],
         "hovertemplate": "<b>%{customdata[0]}</b><br>Organism: %{customdata[1]}<br>Kingdom: %{customdata[2]}<br>Phylum: %{customdata[3]}</b><br>Source ID: %{customdata[4]}<extra></extra>",
         "marker": {
          "color": "rgb(37, 165, 133)",
          "size": 7
         },
         "mode": "markers",
         "text": "S-adenosylmethionine synthetase",
         "type": "scatter3d",
         "x": [
          -0.2280750539172968
         ],
         "y": [
          -0.02196920837921728
         ],
         "z": [
          -0.10200912923937079
         ]
        },
        {
         "customdata": [
          [
           "methionine adenosyltransferase",
           "Methanospirillaceae archaeon",
           "Euryarchaeota",
           "Methanomicrobia",
           "MBN1167899.1"
          ]
         ],
         "hovertemplate": "<b>%{customdata[0]}</b><br>Organism: %{customdata[1]}<br>Kingdom: %{customdata[2]}<br>Phylum: %{customdata[3]}</b><br>Source ID: %{customdata[4]}<extra></extra>",
         "marker": {
          "color": "rgb(83, 195, 104)",
          "size": 7
         },
         "mode": "markers",
         "text": "methionine adenosyltransferase",
         "type": "scatter3d",
         "x": [
          -0.2323378863947649
         ],
         "y": [
          -0.0513216311625746
         ],
         "z": [
          -0.10166511459522713
         ]
        },
        {
         "customdata": [
          [
           "S-adenosylmethionine synthetase",
           "Actinobacteria bacterium QS_8_72_14",
           "Actinomycetota",
           null,
           "PSO49145.1"
          ]
         ],
         "hovertemplate": "<b>%{customdata[0]}</b><br>Organism: %{customdata[1]}<br>Kingdom: %{customdata[2]}<br>Phylum: %{customdata[3]}</b><br>Source ID: %{customdata[4]}<extra></extra>",
         "marker": {
          "color": "rgb(57, 85, 139)",
          "size": 7
         },
         "mode": "markers",
         "text": "S-adenosylmethionine synthetase",
         "type": "scatter3d",
         "x": [
          -0.02509638879773659
         ],
         "y": [
          0.13082453833313357
         ],
         "z": [
          0.017548453959443343
         ]
        },
        {
         "customdata": [
          [
           "methionine adenosyltransferase",
           "Methanobrevibacter oralis",
           "Euryarchaeota",
           "Methanobacteria",
           "WP_042693727.1"
          ]
         ],
         "hovertemplate": "<b>%{customdata[0]}</b><br>Organism: %{customdata[1]}<br>Kingdom: %{customdata[2]}<br>Phylum: %{customdata[3]}</b><br>Source ID: %{customdata[4]}<extra></extra>",
         "marker": {
          "color": "rgb(50, 180, 123)",
          "size": 7
         },
         "mode": "markers",
         "text": "methionine adenosyltransferase",
         "type": "scatter3d",
         "x": [
          -0.08949973924848917
         ],
         "y": [
          0.010542560318468461
         ],
         "z": [
          -0.15730909395549592
         ]
        },
        {
         "customdata": [
          [
           "methionine adenosyltransferase",
           "Acidiplasma",
           "Candidatus Thermoplasmatota",
           "Thermoplasmatales",
           "WP_156150271.1"
          ]
         ],
         "hovertemplate": "<b>%{customdata[0]}</b><br>Organism: %{customdata[1]}<br>Kingdom: %{customdata[2]}<br>Phylum: %{customdata[3]}</b><br>Source ID: %{customdata[4]}<extra></extra>",
         "marker": {
          "color": "rgb(49, 103, 142)",
          "size": 7
         },
         "mode": "markers",
         "text": "methionine adenosyltransferase",
         "type": "scatter3d",
         "x": [
          0.22874281691166054
         ],
         "y": [
          -0.19559242679618857
         ],
         "z": [
          0.06249821678967724
         ]
        },
        {
         "customdata": [
          [
           "methionine adenosyltransferase",
           "Methanosphaera",
           "Euryarchaeota",
           "Methanobacteria",
           "WP_011407039.1"
          ]
         ],
         "hovertemplate": "<b>%{customdata[0]}</b><br>Organism: %{customdata[1]}<br>Kingdom: %{customdata[2]}<br>Phylum: %{customdata[3]}</b><br>Source ID: %{customdata[4]}<extra></extra>",
         "marker": {
          "color": "rgb(55, 90, 140)",
          "size": 7
         },
         "mode": "markers",
         "text": "methionine adenosyltransferase",
         "type": "scatter3d",
         "x": [
          -0.08442776192883028
         ],
         "y": [
          0.004023281036958951
         ],
         "z": [
          -0.1682640481372782
         ]
        },
        {
         "customdata": [
          [
           "methionine adenosyltransferase",
           "Halobium salinum",
           "Euryarchaeota",
           "Halobacteria",
           "WP_267619874.1"
          ]
         ],
         "hovertemplate": "<b>%{customdata[0]}</b><br>Organism: %{customdata[1]}<br>Kingdom: %{customdata[2]}<br>Phylum: %{customdata[3]}</b><br>Source ID: %{customdata[4]}<extra></extra>",
         "marker": {
          "color": "rgb(47, 108, 142)",
          "size": 7
         },
         "mode": "markers",
         "text": "methionine adenosyltransferase",
         "type": "scatter3d",
         "x": [
          -0.04458268694011415
         ],
         "y": [
          0.11906386441107594
         ],
         "z": [
          -0.00909411273605495
         ]
        },
        {
         "customdata": [
          [
           "methionine adenosyltransferase",
           "Methanoculleus sp.",
           "Euryarchaeota",
           "Methanomicrobia",
           "MBP7299847.1"
          ]
         ],
         "hovertemplate": "<b>%{customdata[0]}</b><br>Organism: %{customdata[1]}<br>Kingdom: %{customdata[2]}<br>Phylum: %{customdata[3]}</b><br>Source ID: %{customdata[4]}<extra></extra>",
         "marker": {
          "color": "rgb(148, 215, 64)",
          "size": 7
         },
         "mode": "markers",
         "text": "methionine adenosyltransferase",
         "type": "scatter3d",
         "x": [
          -0.19735764028550737
         ],
         "y": [
          -0.05203755409517787
         ],
         "z": [
          -0.07806082813864902
         ]
        },
        {
         "customdata": [
          [
           "methionine adenosyltransferase",
           "Halorubrum sp. JWXQ-INN 858",
           "Euryarchaeota",
           "Halobacteria",
           "WP_159485710.1"
          ]
         ],
         "hovertemplate": "<b>%{customdata[0]}</b><br>Organism: %{customdata[1]}<br>Kingdom: %{customdata[2]}<br>Phylum: %{customdata[3]}</b><br>Source ID: %{customdata[4]}<extra></extra>",
         "marker": {
          "color": "rgb(228, 228, 39)",
          "size": 7
         },
         "mode": "markers",
         "text": "methionine adenosyltransferase",
         "type": "scatter3d",
         "x": [
          -0.021335957689039054
         ],
         "y": [
          0.13863288338577262
         ],
         "z": [
          -0.011621157651127843
         ]
        },
        {
         "customdata": [
          [
           "methionine adenosyltransferase",
           "Methanoregula sp.",
           "Euryarchaeota",
           "Methanomicrobia",
           "MCK9631260.1"
          ]
         ],
         "hovertemplate": "<b>%{customdata[0]}</b><br>Organism: %{customdata[1]}<br>Kingdom: %{customdata[2]}<br>Phylum: %{customdata[3]}</b><br>Source ID: %{customdata[4]}<extra></extra>",
         "marker": {
          "color": "rgb(41, 169, 130)",
          "size": 7
         },
         "mode": "markers",
         "text": "methionine adenosyltransferase",
         "type": "scatter3d",
         "x": [
          -0.215584005407427
         ],
         "y": [
          -0.043584336914292185
         ],
         "z": [
          -0.1036394422916107
         ]
        },
        {
         "customdata": [
          [
           "methionine adenosyltransferase",
           "Methanosphaerula palustris",
           "Euryarchaeota",
           "Methanomicrobia",
           "WP_012618370.1"
          ]
         ],
         "hovertemplate": "<b>%{customdata[0]}</b><br>Organism: %{customdata[1]}<br>Kingdom: %{customdata[2]}<br>Phylum: %{customdata[3]}</b><br>Source ID: %{customdata[4]}<extra></extra>",
         "marker": {
          "color": "rgb(36, 139, 140)",
          "size": 7
         },
         "mode": "markers",
         "text": "methionine adenosyltransferase",
         "type": "scatter3d",
         "x": [
          -0.18969605376749507
         ],
         "y": [
          -0.012751609283787303
         ],
         "z": [
          -0.07439043138296278
         ]
        },
        {
         "customdata": [
          [
           "methionine adenosyltransferase",
           "Candidatus Verstraetearchaeota archaeon",
           "Candidatus Verstraetearchaeota",
           null,
           "MCD6409343.1"
          ]
         ],
         "hovertemplate": "<b>%{customdata[0]}</b><br>Organism: %{customdata[1]}<br>Kingdom: %{customdata[2]}<br>Phylum: %{customdata[3]}</b><br>Source ID: %{customdata[4]}<extra></extra>",
         "marker": {
          "color": "rgb(49, 179, 124)",
          "size": 7
         },
         "mode": "markers",
         "text": "methionine adenosyltransferase",
         "type": "scatter3d",
         "x": [
          0.2590497322624897
         ],
         "y": [
          0.10513342899698173
         ],
         "z": [
          -0.008508098522573585
         ]
        },
        {
         "customdata": [
          [
           "methionine adenosyltransferase",
           "Natrinema altunense",
           "Euryarchaeota",
           "Halobacteria",
           "WP_007108352.1"
          ]
         ],
         "hovertemplate": "<b>%{customdata[0]}</b><br>Organism: %{customdata[1]}<br>Kingdom: %{customdata[2]}<br>Phylum: %{customdata[3]}</b><br>Source ID: %{customdata[4]}<extra></extra>",
         "marker": {
          "color": "rgb(98, 201, 95)",
          "size": 7
         },
         "mode": "markers",
         "text": "methionine adenosyltransferase",
         "type": "scatter3d",
         "x": [
          -0.010836514945927758
         ],
         "y": [
          0.12447956339824298
         ],
         "z": [
          -0.00674727974853593
         ]
        },
        {
         "customdata": [
          [
           "methionine adenosyltransferase",
           "Methanoregulaceae archaeon",
           "Euryarchaeota",
           "Methanomicrobia",
           "MCJ7794343.1"
          ]
         ],
         "hovertemplate": "<b>%{customdata[0]}</b><br>Organism: %{customdata[1]}<br>Kingdom: %{customdata[2]}<br>Phylum: %{customdata[3]}</b><br>Source ID: %{customdata[4]}<extra></extra>",
         "marker": {
          "color": "rgb(36, 136, 141)",
          "size": 7
         },
         "mode": "markers",
         "text": "methionine adenosyltransferase",
         "type": "scatter3d",
         "x": [
          -0.20784251879205412
         ],
         "y": [
          -0.02730052981915896
         ],
         "z": [
          -0.08358644525051447
         ]
        },
        {
         "customdata": [
          [
           "S-adenosylmethionine synthetase",
           "Natrinema thermotolerans DSM 11552",
           "Euryarchaeota",
           "Halobacteria",
           "ELZ15084.1"
          ]
         ],
         "hovertemplate": "<b>%{customdata[0]}</b><br>Organism: %{customdata[1]}<br>Kingdom: %{customdata[2]}<br>Phylum: %{customdata[3]}</b><br>Source ID: %{customdata[4]}<extra></extra>",
         "marker": {
          "color": "rgb(191, 223, 42)",
          "size": 7
         },
         "mode": "markers",
         "text": "S-adenosylmethionine synthetase",
         "type": "scatter3d",
         "x": [
          -0.002920750611726575
         ],
         "y": [
          0.14912882287287846
         ],
         "z": [
          -0.0019218342136527874
         ]
        },
        {
         "customdata": [
          [
           "methionine adenosyltransferase",
           "Salinarchaeum sp. IM2453",
           "Euryarchaeota",
           "Halobacteria",
           "WP_221170772.1"
          ]
         ],
         "hovertemplate": "<b>%{customdata[0]}</b><br>Organism: %{customdata[1]}<br>Kingdom: %{customdata[2]}<br>Phylum: %{customdata[3]}</b><br>Source ID: %{customdata[4]}<extra></extra>",
         "marker": {
          "color": "rgb(47, 109, 142)",
          "size": 7
         },
         "mode": "markers",
         "text": "methionine adenosyltransferase",
         "type": "scatter3d",
         "x": [
          -0.02698829389519927
         ],
         "y": [
          0.15537788974457864
         ],
         "z": [
          0.00031098363248356013
         ]
        },
        {
         "customdata": [
          [
           "methionine adenosyltransferase",
           "Thermoplasmata archaeon",
           "Candidatus Thermoplasmatota",
           null,
           "MCK4366801.1"
          ]
         ],
         "hovertemplate": "<b>%{customdata[0]}</b><br>Organism: %{customdata[1]}<br>Kingdom: %{customdata[2]}<br>Phylum: %{customdata[3]}</b><br>Source ID: %{customdata[4]}<extra></extra>",
         "marker": {
          "color": "rgb(176, 221, 46)",
          "size": 7
         },
         "mode": "markers",
         "text": "methionine adenosyltransferase",
         "type": "scatter3d",
         "x": [
          0.20389579055048654
         ],
         "y": [
          -0.21148691458240304
         ],
         "z": [
          0.10677375345657494
         ]
        },
        {
         "customdata": [
          [
           "methionine adenosyltransferase",
           "Hyperthermus butylicus",
           "Thermoproteota",
           "Desulfurococcales",
           "WP_011821276.1"
          ]
         ],
         "hovertemplate": "<b>%{customdata[0]}</b><br>Organism: %{customdata[1]}<br>Kingdom: %{customdata[2]}<br>Phylum: %{customdata[3]}</b><br>Source ID: %{customdata[4]}<extra></extra>",
         "marker": {
          "color": "rgb(93, 199, 98)",
          "size": 7
         },
         "mode": "markers",
         "text": "methionine adenosyltransferase",
         "type": "scatter3d",
         "x": [
          0.24492937817577937
         ],
         "y": [
          0.14978247534747707
         ],
         "z": [
          0.009626303114696292
         ]
        },
        {
         "customdata": [
          [
           "methionine adenosyltransferase",
           "Methanospirillum lacunae",
           "Euryarchaeota",
           "Methanomicrobia",
           "WP_109967398.1"
          ]
         ],
         "hovertemplate": "<b>%{customdata[0]}</b><br>Organism: %{customdata[1]}<br>Kingdom: %{customdata[2]}<br>Phylum: %{customdata[3]}</b><br>Source ID: %{customdata[4]}<extra></extra>",
         "marker": {
          "color": "rgb(32, 154, 138)",
          "size": 7
         },
         "mode": "markers",
         "text": "methionine adenosyltransferase",
         "type": "scatter3d",
         "x": [
          -0.23144605817351457
         ],
         "y": [
          -0.029552861593877613
         ],
         "z": [
          -0.10133854086294557
         ]
        },
        {
         "customdata": [
          [
           "methionine adenosyltransferase",
           "Desulfurococcales archaeon",
           "Thermoproteota",
           "Desulfurococcales",
           "NAZ14258.1"
          ]
         ],
         "hovertemplate": "<b>%{customdata[0]}</b><br>Organism: %{customdata[1]}<br>Kingdom: %{customdata[2]}<br>Phylum: %{customdata[3]}</b><br>Source ID: %{customdata[4]}<extra></extra>",
         "marker": {
          "color": "rgb(52, 97, 141)",
          "size": 7
         },
         "mode": "markers",
         "text": "methionine adenosyltransferase",
         "type": "scatter3d",
         "x": [
          0.2524281497908487
         ],
         "y": [
          0.11302835796617833
         ],
         "z": [
          0.015901355997173818
         ]
        },
        {
         "customdata": [
          [
           "methionine adenosyltransferase",
           "Desulfurococcaceae archaeon",
           "Thermoproteota",
           "Desulfurococcales",
           "MCC6041979.1"
          ]
         ],
         "hovertemplate": "<b>%{customdata[0]}</b><br>Organism: %{customdata[1]}<br>Kingdom: %{customdata[2]}<br>Phylum: %{customdata[3]}</b><br>Source ID: %{customdata[4]}<extra></extra>",
         "marker": {
          "color": "rgb(69, 50, 125)",
          "size": 7
         },
         "mode": "markers",
         "text": "methionine adenosyltransferase",
         "type": "scatter3d",
         "x": [
          0.21855588509398766
         ],
         "y": [
          0.11840600715310148
         ],
         "z": [
          0.022778791098299108
         ]
        },
        {
         "customdata": [
          [
           "methionine adenosyltransferase",
           "Methanobrevibacter olleyae",
           "Euryarchaeota",
           "Methanobacteria",
           "WP_067148153.1"
          ]
         ],
         "hovertemplate": "<b>%{customdata[0]}</b><br>Organism: %{customdata[1]}<br>Kingdom: %{customdata[2]}<br>Phylum: %{customdata[3]}</b><br>Source ID: %{customdata[4]}<extra></extra>",
         "marker": {
          "color": "rgb(103, 203, 92)",
          "size": 7
         },
         "mode": "markers",
         "text": "methionine adenosyltransferase",
         "type": "scatter3d",
         "x": [
          -0.08315634283130924
         ],
         "y": [
          0.020658539438183778
         ],
         "z": [
          -0.15385014969077287
         ]
        },
        {
         "customdata": [
          [
           "methionine adenosyltransferase",
           "Halobaculum halophilum",
           "Euryarchaeota",
           "Halobacteria",
           "WP_179168523.1"
          ]
         ],
         "hovertemplate": "<b>%{customdata[0]}</b><br>Organism: %{customdata[1]}<br>Kingdom: %{customdata[2]}<br>Phylum: %{customdata[3]}</b><br>Source ID: %{customdata[4]}<extra></extra>",
         "marker": {
          "color": "rgb(34, 161, 135)",
          "size": 7
         },
         "mode": "markers",
         "text": "methionine adenosyltransferase",
         "type": "scatter3d",
         "x": [
          -0.03131214559557772
         ],
         "y": [
          0.13557026316820478
         ],
         "z": [
          0.010209724095000344
         ]
        },
        {
         "customdata": [
          [
           "methionine adenosyltransferase",
           "Natrinema salaciae",
           "Euryarchaeota",
           "Halobacteria",
           "WP_090615699.1"
          ]
         ],
         "hovertemplate": "<b>%{customdata[0]}</b><br>Organism: %{customdata[1]}<br>Kingdom: %{customdata[2]}<br>Phylum: %{customdata[3]}</b><br>Source ID: %{customdata[4]}<extra></extra>",
         "marker": {
          "color": "rgb(51, 181, 122)",
          "size": 7
         },
         "mode": "markers",
         "text": "methionine adenosyltransferase",
         "type": "scatter3d",
         "x": [
          -0.0020871805264206004
         ],
         "y": [
          0.13649791129981356
         ],
         "z": [
          0.017237409460087012
         ]
        },
        {
         "customdata": [
          [
           "methionine adenosyltransferase",
           "Thermoplasmata archaeon",
           "Candidatus Thermoplasmatota",
           null,
           "MCK5292032.1"
          ]
         ],
         "hovertemplate": "<b>%{customdata[0]}</b><br>Organism: %{customdata[1]}<br>Kingdom: %{customdata[2]}<br>Phylum: %{customdata[3]}</b><br>Source ID: %{customdata[4]}<extra></extra>",
         "marker": {
          "color": "rgb(176, 221, 46)",
          "size": 7
         },
         "mode": "markers",
         "text": "methionine adenosyltransferase",
         "type": "scatter3d",
         "x": [
          0.21029204495363646
         ],
         "y": [
          -0.22471295236874342
         ],
         "z": [
          0.11029570238940942
         ]
        },
        {
         "customdata": [
          [
           "methionine adenosyltransferase",
           "Candidatus Methanosuratincola sp.",
           "Candidatus Verstraetearchaeota",
           "Candidatus Methanomethylicales",
           "MCQ8891888.1"
          ]
         ],
         "hovertemplate": "<b>%{customdata[0]}</b><br>Organism: %{customdata[1]}<br>Kingdom: %{customdata[2]}<br>Phylum: %{customdata[3]}</b><br>Source ID: %{customdata[4]}<extra></extra>",
         "marker": {
          "color": "rgb(47, 110, 142)",
          "size": 7
         },
         "mode": "markers",
         "text": "methionine adenosyltransferase",
         "type": "scatter3d",
         "x": [
          0.2796506682851862
         ],
         "y": [
          0.11359583915430978
         ],
         "z": [
          -0.002205251451799101
         ]
        },
        {
         "customdata": [
          [
           "methionine adenosyltransferase",
           "Halorubrum sp. LN27",
           "Euryarchaeota",
           "Halobacteria",
           "WP_200531784.1"
          ]
         ],
         "hovertemplate": "<b>%{customdata[0]}</b><br>Organism: %{customdata[1]}<br>Kingdom: %{customdata[2]}<br>Phylum: %{customdata[3]}</b><br>Source ID: %{customdata[4]}<extra></extra>",
         "marker": {
          "color": "rgb(70, 17, 98)",
          "size": 7
         },
         "mode": "markers",
         "text": "methionine adenosyltransferase",
         "type": "scatter3d",
         "x": [
          -0.008192382002917477
         ],
         "y": [
          0.14194234001626435
         ],
         "z": [
          -0.0013133438150029946
         ]
        },
        {
         "customdata": [
          [
           "S-adenosylmethionine synthase",
           "ANME-1 cluster archaeon GoMg2",
           "Euryarchaeota",
           "Methanomicrobia",
           "NQE45598.1"
          ]
         ],
         "hovertemplate": "<b>%{customdata[0]}</b><br>Organism: %{customdata[1]}<br>Kingdom: %{customdata[2]}<br>Phylum: %{customdata[3]}</b><br>Source ID: %{customdata[4]}<extra></extra>",
         "marker": {
          "color": "rgb(64, 66, 133)",
          "size": 7
         },
         "mode": "markers",
         "text": "S-adenosylmethionine synthase",
         "type": "scatter3d",
         "x": [
          -0.27506119513589866
         ],
         "y": [
          -0.12752629740045432
         ],
         "z": [
          0.08767981498177181
         ]
        },
        {
         "customdata": [
          [
           "methionine adenosyltransferase",
           "Halobacterium jilantaiense",
           "Euryarchaeota",
           "Halobacteria",
           "WP_089667219.1"
          ]
         ],
         "hovertemplate": "<b>%{customdata[0]}</b><br>Organism: %{customdata[1]}<br>Kingdom: %{customdata[2]}<br>Phylum: %{customdata[3]}</b><br>Source ID: %{customdata[4]}<extra></extra>",
         "marker": {
          "color": "rgb(214, 226, 40)",
          "size": 7
         },
         "mode": "markers",
         "text": "methionine adenosyltransferase",
         "type": "scatter3d",
         "x": [
          -0.011148782237263585
         ],
         "y": [
          0.1295199688767365
         ],
         "z": [
          0.027529431158220187
         ]
        },
        {
         "customdata": [
          [
           "S-adenosylmethionine synthetase",
           "Candidatus Altiarchaeales archaeon IMC4",
           "Candidatus Altarchaeota",
           null,
           "ODS42513.1"
          ]
         ],
         "hovertemplate": "<b>%{customdata[0]}</b><br>Organism: %{customdata[1]}<br>Kingdom: %{customdata[2]}<br>Phylum: %{customdata[3]}</b><br>Source ID: %{customdata[4]}<extra></extra>",
         "marker": {
          "color": "rgb(41, 124, 142)",
          "size": 7
         },
         "mode": "markers",
         "text": "S-adenosylmethionine synthetase",
         "type": "scatter3d",
         "x": [
          -0.05751504491160505
         ],
         "y": [
          -0.08208157580635494
         ],
         "z": [
          0.19113432605160366
         ]
        },
        {
         "customdata": [
          [
           "methionine adenosyltransferase",
           "Methanofollis ethanolicus",
           "Euryarchaeota",
           "Methanomicrobia",
           "WP_067051365.1"
          ]
         ],
         "hovertemplate": "<b>%{customdata[0]}</b><br>Organism: %{customdata[1]}<br>Kingdom: %{customdata[2]}<br>Phylum: %{customdata[3]}</b><br>Source ID: %{customdata[4]}<extra></extra>",
         "marker": {
          "color": "rgb(40, 125, 142)",
          "size": 7
         },
         "mode": "markers",
         "text": "methionine adenosyltransferase",
         "type": "scatter3d",
         "x": [
          -0.1786920395930022
         ],
         "y": [
          -0.03188944815172614
         ],
         "z": [
          -0.07357608571357259
         ]
        },
        {
         "customdata": [
          [
           "methionine adenosyltransferase",
           "Euryarchaeota archaeon",
           "Euryarchaeota",
           null,
           "TMA01594.1"
          ]
         ],
         "hovertemplate": "<b>%{customdata[0]}</b><br>Organism: %{customdata[1]}<br>Kingdom: %{customdata[2]}<br>Phylum: %{customdata[3]}</b><br>Source ID: %{customdata[4]}<extra></extra>",
         "marker": {
          "color": "rgb(115, 207, 85)",
          "size": 7
         },
         "mode": "markers",
         "text": "methionine adenosyltransferase",
         "type": "scatter3d",
         "x": [
          0.19829917266602254
         ],
         "y": [
          -0.22156704864230176
         ],
         "z": [
          0.0931384133798453
         ]
        },
        {
         "customdata": [
          [
           "methionine adenosyltransferase",
           "Halodesulfurarchaeum formicicum",
           "Euryarchaeota",
           "Halobacteria",
           "WP_071932752.1"
          ]
         ],
         "hovertemplate": "<b>%{customdata[0]}</b><br>Organism: %{customdata[1]}<br>Kingdom: %{customdata[2]}<br>Phylum: %{customdata[3]}</b><br>Source ID: %{customdata[4]}<extra></extra>",
         "marker": {
          "color": "rgb(185, 222, 43)",
          "size": 7
         },
         "mode": "markers",
         "text": "methionine adenosyltransferase",
         "type": "scatter3d",
         "x": [
          -0.03511085616204511
         ],
         "y": [
          0.1269179082198851
         ],
         "z": [
          0.006486421223250759
         ]
        },
        {
         "customdata": [
          [
           "methionine adenosyltransferase",
           "Salinirubrum litoreum",
           "Euryarchaeota",
           "Halobacteria",
           "WP_227227828.1"
          ]
         ],
         "hovertemplate": "<b>%{customdata[0]}</b><br>Organism: %{customdata[1]}<br>Kingdom: %{customdata[2]}<br>Phylum: %{customdata[3]}</b><br>Source ID: %{customdata[4]}<extra></extra>",
         "marker": {
          "color": "rgb(71, 44, 122)",
          "size": 7
         },
         "mode": "markers",
         "text": "methionine adenosyltransferase",
         "type": "scatter3d",
         "x": [
          0.00158950047681884
         ],
         "y": [
          0.1402221439805097
         ],
         "z": [
          0.004981604669013064
         ]
        },
        {
         "customdata": [
          [
           "methionine adenosyltransferase",
           "Methanobrevibacter wolinii",
           "Euryarchaeota",
           "Methanobacteria",
           "WP_042707184.1"
          ]
         ],
         "hovertemplate": "<b>%{customdata[0]}</b><br>Organism: %{customdata[1]}<br>Kingdom: %{customdata[2]}<br>Phylum: %{customdata[3]}</b><br>Source ID: %{customdata[4]}<extra></extra>",
         "marker": {
          "color": "rgb(42, 121, 142)",
          "size": 7
         },
         "mode": "markers",
         "text": "methionine adenosyltransferase",
         "type": "scatter3d",
         "x": [
          -0.0883786705322645
         ],
         "y": [
          -0.007518387328183022
         ],
         "z": [
          -0.15200665083120282
         ]
        },
        {
         "customdata": [
          [
           "methionine adenosyltransferase",
           "unclassified Halorubrum",
           "Euryarchaeota",
           "Halobacteria",
           "WP_121564496.1"
          ]
         ],
         "hovertemplate": "<b>%{customdata[0]}</b><br>Organism: %{customdata[1]}<br>Kingdom: %{customdata[2]}<br>Phylum: %{customdata[3]}</b><br>Source ID: %{customdata[4]}<extra></extra>",
         "marker": {
          "color": "rgb(61, 75, 137)",
          "size": 7
         },
         "mode": "markers",
         "text": "methionine adenosyltransferase",
         "type": "scatter3d",
         "x": [
          -0.004917103940044601
         ],
         "y": [
          0.14754571247924197
         ],
         "z": [
          0.016910412456192136
         ]
        },
        {
         "customdata": [
          [
           "S-adenosylmethionine synthetase",
           "Ignicoccus pacificus DSM 13166",
           "Thermoproteota",
           "Desulfurococcales",
           "UXD21236.1"
          ]
         ],
         "hovertemplate": "<b>%{customdata[0]}</b><br>Organism: %{customdata[1]}<br>Kingdom: %{customdata[2]}<br>Phylum: %{customdata[3]}</b><br>Source ID: %{customdata[4]}<extra></extra>",
         "marker": {
          "color": "rgb(32, 152, 138)",
          "size": 7
         },
         "mode": "markers",
         "text": "S-adenosylmethionine synthetase",
         "type": "scatter3d",
         "x": [
          0.26389230831551336
         ],
         "y": [
          0.13734193775081374
         ],
         "z": [
          0.04211739061124446
         ]
        },
        {
         "customdata": [
          [
           "methionine adenosyltransferase",
           "Ferroplasma",
           "Candidatus Thermoplasmatota",
           "Thermoplasmatales",
           "WP_019841393.1"
          ]
         ],
         "hovertemplate": "<b>%{customdata[0]}</b><br>Organism: %{customdata[1]}<br>Kingdom: %{customdata[2]}<br>Phylum: %{customdata[3]}</b><br>Source ID: %{customdata[4]}<extra></extra>",
         "marker": {
          "color": "rgb(58, 185, 118)",
          "size": 7
         },
         "mode": "markers",
         "text": "methionine adenosyltransferase",
         "type": "scatter3d",
         "x": [
          0.23266889410904595
         ],
         "y": [
          -0.21692713642193306
         ],
         "z": [
          0.06762645642285159
         ]
        },
        {
         "customdata": [
          [
           "methionine adenosyltransferase",
           "Halostella salina",
           "Euryarchaeota",
           "Halobacteria",
           "WP_121821496.1"
          ]
         ],
         "hovertemplate": "<b>%{customdata[0]}</b><br>Organism: %{customdata[1]}<br>Kingdom: %{customdata[2]}<br>Phylum: %{customdata[3]}</b><br>Source ID: %{customdata[4]}<extra></extra>",
         "marker": {
          "color": "rgb(193, 223, 42)",
          "size": 7
         },
         "mode": "markers",
         "text": "methionine adenosyltransferase",
         "type": "scatter3d",
         "x": [
          -0.01688232665410156
         ],
         "y": [
          0.1249996185811868
         ],
         "z": [
          -0.013252839825855563
         ]
        },
        {
         "customdata": [
          [
           "S-adenosylmethionine synthetase",
           "Pyrodictium delaneyi",
           "Thermoproteota",
           "Desulfurococcales",
           "ALL00670.1"
          ]
         ],
         "hovertemplate": "<b>%{customdata[0]}</b><br>Organism: %{customdata[1]}<br>Kingdom: %{customdata[2]}<br>Phylum: %{customdata[3]}</b><br>Source ID: %{customdata[4]}<extra></extra>",
         "marker": {
          "color": "rgb(54, 91, 140)",
          "size": 7
         },
         "mode": "markers",
         "text": "S-adenosylmethionine synthetase",
         "type": "scatter3d",
         "x": [
          0.21039124634029727
         ],
         "y": [
          0.10771507113984585
         ],
         "z": [
          0.009109128376514121
         ]
        },
        {
         "customdata": [
          [
           "methionine adenosyltransferase",
           "Euryarchaeota archaeon",
           "Euryarchaeota",
           null,
           "TLZ91571.1"
          ]
         ],
         "hovertemplate": "<b>%{customdata[0]}</b><br>Organism: %{customdata[1]}<br>Kingdom: %{customdata[2]}<br>Phylum: %{customdata[3]}</b><br>Source ID: %{customdata[4]}<extra></extra>",
         "marker": {
          "color": "rgb(115, 207, 85)",
          "size": 7
         },
         "mode": "markers",
         "text": "methionine adenosyltransferase",
         "type": "scatter3d",
         "x": [
          0.20111202091460995
         ],
         "y": [
          -0.2194663456788976
         ],
         "z": [
          0.10329280890536963
         ]
        },
        {
         "customdata": [
          [
           "methionine adenosyltransferase",
           "Candidatus Nanohaloarchaeota archaeon QJJ-7",
           "Candidatus Nanohaloarchaeota",
           null,
           "MCJ7479214.1"
          ]
         ],
         "hovertemplate": "<b>%{customdata[0]}</b><br>Organism: %{customdata[1]}<br>Kingdom: %{customdata[2]}<br>Phylum: %{customdata[3]}</b><br>Source ID: %{customdata[4]}<extra></extra>",
         "marker": {
          "color": "rgb(46, 175, 126)",
          "size": 7
         },
         "mode": "markers",
         "text": "methionine adenosyltransferase",
         "type": "scatter3d",
         "x": [
          -0.8354967420677185
         ],
         "y": [
          -0.23233585922736574
         ],
         "z": [
          -0.610105712206613
         ]
        },
        {
         "customdata": [
          [
           "methionine adenosyltransferase",
           "Candidatus Thermoplasmatota archaeon",
           "Candidatus Thermoplasmatota",
           null,
           "MCL4340689.1"
          ]
         ],
         "hovertemplate": "<b>%{customdata[0]}</b><br>Organism: %{customdata[1]}<br>Kingdom: %{customdata[2]}<br>Phylum: %{customdata[3]}</b><br>Source ID: %{customdata[4]}<extra></extra>",
         "marker": {
          "color": "rgb(72, 40, 120)",
          "size": 7
         },
         "mode": "markers",
         "text": "methionine adenosyltransferase",
         "type": "scatter3d",
         "x": [
          0.2415134738964735
         ],
         "y": [
          -0.21515539847996437
         ],
         "z": [
          0.05860370509594605
         ]
        },
        {
         "customdata": [
          [
           "methionine adenosyltransferase",
           "Halobaculum roseum",
           "Euryarchaeota",
           "Halobacteria",
           "WP_222922726.1"
          ]
         ],
         "hovertemplate": "<b>%{customdata[0]}</b><br>Organism: %{customdata[1]}<br>Kingdom: %{customdata[2]}<br>Phylum: %{customdata[3]}</b><br>Source ID: %{customdata[4]}<extra></extra>",
         "marker": {
          "color": "rgb(72, 38, 118)",
          "size": 7
         },
         "mode": "markers",
         "text": "methionine adenosyltransferase",
         "type": "scatter3d",
         "x": [
          -0.04089267317606598
         ],
         "y": [
          0.12232980668802072
         ],
         "z": [
          0.01397206308997429
         ]
        },
        {
         "customdata": [
          [
           "methionine adenosyltransferase",
           "Methanobrevibacter curvatus",
           "Euryarchaeota",
           "Methanobacteria",
           "WP_067091875.1"
          ]
         ],
         "hovertemplate": "<b>%{customdata[0]}</b><br>Organism: %{customdata[1]}<br>Kingdom: %{customdata[2]}<br>Phylum: %{customdata[3]}</b><br>Source ID: %{customdata[4]}<extra></extra>",
         "marker": {
          "color": "rgb(108, 205, 89)",
          "size": 7
         },
         "mode": "markers",
         "text": "methionine adenosyltransferase",
         "type": "scatter3d",
         "x": [
          -0.0875419797512272
         ],
         "y": [
          -0.001856846364493402
         ],
         "z": [
          -0.16136945132143007
         ]
        },
        {
         "customdata": [
          [
           "methionine adenosyltransferase",
           "Natronorubrum bangense",
           "Euryarchaeota",
           "Halobacteria",
           "WP_006065566.1"
          ]
         ],
         "hovertemplate": "<b>%{customdata[0]}</b><br>Organism: %{customdata[1]}<br>Kingdom: %{customdata[2]}<br>Phylum: %{customdata[3]}</b><br>Source ID: %{customdata[4]}<extra></extra>",
         "marker": {
          "color": "rgb(125, 209, 78)",
          "size": 7
         },
         "mode": "markers",
         "text": "methionine adenosyltransferase",
         "type": "scatter3d",
         "x": [
          -0.025449767527523284
         ],
         "y": [
          0.1310905162388022
         ],
         "z": [
          -0.004732643498580205
         ]
        },
        {
         "customdata": [
          [
           "methionine adenosyltransferase",
           "Methanosarcinales archaeon",
           "Euryarchaeota",
           "Methanomicrobia",
           "MBK5191098.1"
          ]
         ],
         "hovertemplate": "<b>%{customdata[0]}</b><br>Organism: %{customdata[1]}<br>Kingdom: %{customdata[2]}<br>Phylum: %{customdata[3]}</b><br>Source ID: %{customdata[4]}<extra></extra>",
         "marker": {
          "color": "rgb(70, 21, 103)",
          "size": 7
         },
         "mode": "markers",
         "text": "methionine adenosyltransferase",
         "type": "scatter3d",
         "x": [
          -0.24287436245254204
         ],
         "y": [
          -0.10281284041853817
         ],
         "z": [
          0.03726184166139288
         ]
        },
        {
         "customdata": [
          [
           "methionine adenosyltransferase",
           "Ignisphaera sp.",
           "Thermoproteota",
           "Desulfurococcales",
           "MCC6045576.1"
          ]
         ],
         "hovertemplate": "<b>%{customdata[0]}</b><br>Organism: %{customdata[1]}<br>Kingdom: %{customdata[2]}<br>Phylum: %{customdata[3]}</b><br>Source ID: %{customdata[4]}<extra></extra>",
         "marker": {
          "color": "rgb(55, 89, 140)",
          "size": 7
         },
         "mode": "markers",
         "text": "methionine adenosyltransferase",
         "type": "scatter3d",
         "x": [
          0.2661502213123969
         ],
         "y": [
          0.12811908620610749
         ],
         "z": [
          0.022011128087407586
         ]
        },
        {
         "customdata": [
          [
           "methionine adenosyltransferase",
           "Natrinema gelatinilyticum",
           "Euryarchaeota",
           "Halobacteria",
           "WP_254529741.1"
          ]
         ],
         "hovertemplate": "<b>%{customdata[0]}</b><br>Organism: %{customdata[1]}<br>Kingdom: %{customdata[2]}<br>Phylum: %{customdata[3]}</b><br>Source ID: %{customdata[4]}<extra></extra>",
         "marker": {
          "color": "rgb(234, 229, 39)",
          "size": 7
         },
         "mode": "markers",
         "text": "methionine adenosyltransferase",
         "type": "scatter3d",
         "x": [
          -0.006476939032700374
         ],
         "y": [
          0.13104992572181345
         ],
         "z": [
          0.015149441240389968
         ]
        },
        {
         "customdata": [
          [
           "methionine adenosyltransferase",
           "Candidatus Bathyarchaeota archaeon",
           "Candidatus Bathyarchaeota",
           null,
           "MBS7643067.1"
          ]
         ],
         "hovertemplate": "<b>%{customdata[0]}</b><br>Organism: %{customdata[1]}<br>Kingdom: %{customdata[2]}<br>Phylum: %{customdata[3]}</b><br>Source ID: %{customdata[4]}<extra></extra>",
         "marker": {
          "color": "rgb(55, 184, 120)",
          "size": 7
         },
         "mode": "markers",
         "text": "methionine adenosyltransferase",
         "type": "scatter3d",
         "x": [
          0.26222564142876986
         ],
         "y": [
          0.14429763562581538
         ],
         "z": [
          -0.0130034227600226
         ]
        },
        {
         "customdata": [
          [
           "methionine adenosyltransferase",
           "Theionarchaea archaeon",
           "Euryarchaeota",
           null,
           "MBU7017391.1"
          ]
         ],
         "hovertemplate": "<b>%{customdata[0]}</b><br>Organism: %{customdata[1]}<br>Kingdom: %{customdata[2]}<br>Phylum: %{customdata[3]}</b><br>Source ID: %{customdata[4]}<extra></extra>",
         "marker": {
          "color": "rgb(37, 165, 132)",
          "size": 7
         },
         "mode": "markers",
         "text": "methionine adenosyltransferase",
         "type": "scatter3d",
         "x": [
          0.8404903523840673
         ],
         "y": [
          0.44997456733673574
         ],
         "z": [
          -0.13600728655825642
         ]
        },
        {
         "customdata": [
          [
           "methionine adenosyltransferase",
           "Candidatus Thermoplasmatota archaeon",
           "Candidatus Thermoplasmatota",
           null,
           "MCL4308458.1"
          ]
         ],
         "hovertemplate": "<b>%{customdata[0]}</b><br>Organism: %{customdata[1]}<br>Kingdom: %{customdata[2]}<br>Phylum: %{customdata[3]}</b><br>Source ID: %{customdata[4]}<extra></extra>",
         "marker": {
          "color": "rgb(72, 40, 120)",
          "size": 7
         },
         "mode": "markers",
         "text": "methionine adenosyltransferase",
         "type": "scatter3d",
         "x": [
          0.1494616429850754
         ],
         "y": [
          -0.14772033142681604
         ],
         "z": [
          0.11970038663666181
         ]
        },
        {
         "customdata": [
          [
           "methionine adenosyltransferase",
           "Methanoculleus sp.",
           "Euryarchaeota",
           "Methanomicrobia",
           "MBP7144579.1"
          ]
         ],
         "hovertemplate": "<b>%{customdata[0]}</b><br>Organism: %{customdata[1]}<br>Kingdom: %{customdata[2]}<br>Phylum: %{customdata[3]}</b><br>Source ID: %{customdata[4]}<extra></extra>",
         "marker": {
          "color": "rgb(148, 215, 64)",
          "size": 7
         },
         "mode": "markers",
         "text": "methionine adenosyltransferase",
         "type": "scatter3d",
         "x": [
          -0.2199469874045306
         ],
         "y": [
          -0.024102640105134472
         ],
         "z": [
          -0.09665980056938421
         ]
        },
        {
         "customdata": [
          [
           "S-adenosylmethionine synthetase",
           "Halobacteriales archaeon SW_8_68_21",
           "Euryarchaeota",
           "Halobacteria",
           "PSQ57047.1"
          ]
         ],
         "hovertemplate": "<b>%{customdata[0]}</b><br>Organism: %{customdata[1]}<br>Kingdom: %{customdata[2]}<br>Phylum: %{customdata[3]}</b><br>Source ID: %{customdata[4]}<extra></extra>",
         "marker": {
          "color": "rgb(71, 29, 110)",
          "size": 7
         },
         "mode": "markers",
         "text": "S-adenosylmethionine synthetase",
         "type": "scatter3d",
         "x": [
          -0.02595353271862438
         ],
         "y": [
          0.1419099760097893
         ],
         "z": [
          -0.008331800789335249
         ]
        },
        {
         "customdata": [
          [
           "methionine adenosyltransferase",
           "Thermoproteota archaeon",
           "Thermoproteota",
           null,
           "NPA04564.1"
          ]
         ],
         "hovertemplate": "<b>%{customdata[0]}</b><br>Organism: %{customdata[1]}<br>Kingdom: %{customdata[2]}<br>Phylum: %{customdata[3]}</b><br>Source ID: %{customdata[4]}<extra></extra>",
         "marker": {
          "color": "rgb(179, 221, 45)",
          "size": 7
         },
         "mode": "markers",
         "text": "methionine adenosyltransferase",
         "type": "scatter3d",
         "x": [
          0.2151488334960307
         ],
         "y": [
          0.11731195568501332
         ],
         "z": [
          0.00666833870584466
         ]
        },
        {
         "customdata": [
          [
           "methionine adenosyltransferase",
           "Methanocorpusculum sp. MG",
           "Euryarchaeota",
           "Methanomicrobia",
           "WP_268925586.1"
          ]
         ],
         "hovertemplate": "<b>%{customdata[0]}</b><br>Organism: %{customdata[1]}<br>Kingdom: %{customdata[2]}<br>Phylum: %{customdata[3]}</b><br>Source ID: %{customdata[4]}<extra></extra>",
         "marker": {
          "color": "rgb(45, 174, 127)",
          "size": 7
         },
         "mode": "markers",
         "text": "methionine adenosyltransferase",
         "type": "scatter3d",
         "x": [
          -0.2064894803269648
         ],
         "y": [
          -0.036159214270721565
         ],
         "z": [
          -0.11341622528106822
         ]
        },
        {
         "customdata": [
          [
           "methionine adenosyltransferase",
           "Halostella litorea",
           "Euryarchaeota",
           "Halobacteria",
           "WP_135822644.1"
          ]
         ],
         "hovertemplate": "<b>%{customdata[0]}</b><br>Organism: %{customdata[1]}<br>Kingdom: %{customdata[2]}<br>Phylum: %{customdata[3]}</b><br>Source ID: %{customdata[4]}<extra></extra>",
         "marker": {
          "color": "rgb(38, 166, 132)",
          "size": 7
         },
         "mode": "markers",
         "text": "methionine adenosyltransferase",
         "type": "scatter3d",
         "x": [
          -0.03109006926706555
         ],
         "y": [
          0.13341459176918186
         ],
         "z": [
          0.023260092820008033
         ]
        },
        {
         "customdata": [
          [
           "S-adenosylmethionine synthetase",
           "Thermoplasmata archaeon HGW-Thermoplasmata-2",
           "Candidatus Thermoplasmatota",
           null,
           "PKK81476.1"
          ]
         ],
         "hovertemplate": "<b>%{customdata[0]}</b><br>Organism: %{customdata[1]}<br>Kingdom: %{customdata[2]}<br>Phylum: %{customdata[3]}</b><br>Source ID: %{customdata[4]}<extra></extra>",
         "marker": {
          "color": "rgb(44, 173, 127)",
          "size": 7
         },
         "mode": "markers",
         "text": "S-adenosylmethionine synthetase",
         "type": "scatter3d",
         "x": [
          0.8795465188598599
         ],
         "y": [
          0.9238025782779682
         ],
         "z": [
          -0.07535948122689631
         ]
        },
        {
         "customdata": [
          [
           "methionine adenosyltransferase",
           "Natronorubrum sediminis",
           "Euryarchaeota",
           "Halobacteria",
           "WP_090503710.1"
          ]
         ],
         "hovertemplate": "<b>%{customdata[0]}</b><br>Organism: %{customdata[1]}<br>Kingdom: %{customdata[2]}<br>Phylum: %{customdata[3]}</b><br>Source ID: %{customdata[4]}<extra></extra>",
         "marker": {
          "color": "rgb(50, 101, 142)",
          "size": 7
         },
         "mode": "markers",
         "text": "methionine adenosyltransferase",
         "type": "scatter3d",
         "x": [
          -0.010665251161221611
         ],
         "y": [
          0.14667240262212436
         ],
         "z": [
          0.004171025195262097
         ]
        },
        {
         "customdata": [
          [
           "methionine adenosyltransferase",
           "Methanoregulaceae archaeon",
           "Euryarchaeota",
           "Methanomicrobia",
           "NTU99704.1"
          ]
         ],
         "hovertemplate": "<b>%{customdata[0]}</b><br>Organism: %{customdata[1]}<br>Kingdom: %{customdata[2]}<br>Phylum: %{customdata[3]}</b><br>Source ID: %{customdata[4]}<extra></extra>",
         "marker": {
          "color": "rgb(36, 136, 141)",
          "size": 7
         },
         "mode": "markers",
         "text": "methionine adenosyltransferase",
         "type": "scatter3d",
         "x": [
          -0.18156424310278593
         ],
         "y": [
          -0.029120067640530354
         ],
         "z": [
          -0.08086607236793819
         ]
        },
        {
         "customdata": [
          [
           "methionine adenosyltransferase",
           "Haloterrigena sp. H1",
           "Euryarchaeota",
           "Halobacteria",
           "WP_138779374.1"
          ]
         ],
         "hovertemplate": "<b>%{customdata[0]}</b><br>Organism: %{customdata[1]}<br>Kingdom: %{customdata[2]}<br>Phylum: %{customdata[3]}</b><br>Source ID: %{customdata[4]}<extra></extra>",
         "marker": {
          "color": "rgb(160, 217, 56)",
          "size": 7
         },
         "mode": "markers",
         "text": "methionine adenosyltransferase",
         "type": "scatter3d",
         "x": [
          -0.030376830398643362
         ],
         "y": [
          0.13499668893005948
         ],
         "z": [
          -0.016858796459060747
         ]
        },
        {
         "customdata": [
          [
           "methionine adenosyltransferase",
           "Methanomicrobia archaeon",
           "Euryarchaeota",
           "Methanomicrobia",
           "HDN68217.1"
          ]
         ],
         "hovertemplate": "<b>%{customdata[0]}</b><br>Organism: %{customdata[1]}<br>Kingdom: %{customdata[2]}<br>Phylum: %{customdata[3]}</b><br>Source ID: %{customdata[4]}<extra></extra>",
         "marker": {
          "color": "rgb(44, 116, 142)",
          "size": 7
         },
         "mode": "markers",
         "text": "methionine adenosyltransferase",
         "type": "scatter3d",
         "x": [
          -0.2863697627124746
         ],
         "y": [
          -0.11185652207102174
         ],
         "z": [
          0.0794725617591561
         ]
        },
        {
         "customdata": [
          [
           "methionine adenosyltransferase",
           "Natronococcus sp. CG52",
           "Euryarchaeota",
           "Halobacteria",
           "WP_252489995.1"
          ]
         ],
         "hovertemplate": "<b>%{customdata[0]}</b><br>Organism: %{customdata[1]}<br>Kingdom: %{customdata[2]}<br>Phylum: %{customdata[3]}</b><br>Source ID: %{customdata[4]}<extra></extra>",
         "marker": {
          "color": "rgb(36, 138, 141)",
          "size": 7
         },
         "mode": "markers",
         "text": "methionine adenosyltransferase",
         "type": "scatter3d",
         "x": [
          -0.03968246107713969
         ],
         "y": [
          0.12596750843644117
         ],
         "z": [
          -0.014015519565156781
         ]
        },
        {
         "customdata": [
          [
           "methionine adenosyltransferase",
           "Natrinema amylolyticum",
           "Euryarchaeota",
           "Halobacteria",
           "WP_226481852.1"
          ]
         ],
         "hovertemplate": "<b>%{customdata[0]}</b><br>Organism: %{customdata[1]}<br>Kingdom: %{customdata[2]}<br>Phylum: %{customdata[3]}</b><br>Source ID: %{customdata[4]}<extra></extra>",
         "marker": {
          "color": "rgb(70, 25, 106)",
          "size": 7
         },
         "mode": "markers",
         "text": "methionine adenosyltransferase",
         "type": "scatter3d",
         "x": [
          -0.02293235497743287
         ],
         "y": [
          0.14870073220770827
         ],
         "z": [
          -0.004092793572785439
         ]
        },
        {
         "customdata": [
          [
           "methionine adenosyltransferase",
           "Methanobacterium sp.",
           "Euryarchaeota",
           "Methanobacteria",
           "HHT18794.1"
          ]
         ],
         "hovertemplate": "<b>%{customdata[0]}</b><br>Organism: %{customdata[1]}<br>Kingdom: %{customdata[2]}<br>Phylum: %{customdata[3]}</b><br>Source ID: %{customdata[4]}<extra></extra>",
         "marker": {
          "color": "rgb(44, 115, 142)",
          "size": 7
         },
         "mode": "markers",
         "text": "methionine adenosyltransferase",
         "type": "scatter3d",
         "x": [
          -0.09747526427077302
         ],
         "y": [
          0.016510291708940805
         ],
         "z": [
          -0.1380603277617469
         ]
        },
        {
         "customdata": [
          [
           "methionine adenosyltransferase",
           "Candidatus Bathyarchaeota archaeon",
           "Candidatus Bathyarchaeota",
           null,
           "MCK5403199.1"
          ]
         ],
         "hovertemplate": "<b>%{customdata[0]}</b><br>Organism: %{customdata[1]}<br>Kingdom: %{customdata[2]}<br>Phylum: %{customdata[3]}</b><br>Source ID: %{customdata[4]}<extra></extra>",
         "marker": {
          "color": "rgb(55, 184, 120)",
          "size": 7
         },
         "mode": "markers",
         "text": "methionine adenosyltransferase",
         "type": "scatter3d",
         "x": [
          0.3295818869717208
         ],
         "y": [
          0.19312286285449395
         ],
         "z": [
          -0.05688325777018101
         ]
        },
        {
         "customdata": [
          [
           "methionine adenosyltransferase",
           "Methanomassiliicoccales archaeon",
           "Candidatus Thermoplasmatota",
           "Methanomassiliicoccales",
           "MBC7107492.1"
          ]
         ],
         "hovertemplate": "<b>%{customdata[0]}</b><br>Organism: %{customdata[1]}<br>Kingdom: %{customdata[2]}<br>Phylum: %{customdata[3]}</b><br>Source ID: %{customdata[4]}<extra></extra>",
         "marker": {
          "color": "rgb(33, 148, 139)",
          "size": 7
         },
         "mode": "markers",
         "text": "methionine adenosyltransferase",
         "type": "scatter3d",
         "x": [
          0.20882042368206385
         ],
         "y": [
          -0.22864225105722283
         ],
         "z": [
          0.13098871055878997
         ]
        },
        {
         "customdata": [
          [
           "methionine adenosyltransferase",
           "Methanobrevibacter ruminantium",
           "Euryarchaeota",
           "Methanobacteria",
           "WP_012954933.1"
          ]
         ],
         "hovertemplate": "<b>%{customdata[0]}</b><br>Organism: %{customdata[1]}<br>Kingdom: %{customdata[2]}<br>Phylum: %{customdata[3]}</b><br>Source ID: %{customdata[4]}<extra></extra>",
         "marker": {
          "color": "rgb(34, 144, 139)",
          "size": 7
         },
         "mode": "markers",
         "text": "methionine adenosyltransferase",
         "type": "scatter3d",
         "x": [
          -0.06656301171987734
         ],
         "y": [
          -0.00878008380349537
         ],
         "z": [
          -0.13399792795818533
         ]
        },
        {
         "customdata": [
          [
           "methionine adenosyltransferase",
           "Methanomassiliicoccales archaeon",
           "Candidatus Thermoplasmatota",
           "Methanomassiliicoccales",
           "MCG7840871.1"
          ]
         ],
         "hovertemplate": "<b>%{customdata[0]}</b><br>Organism: %{customdata[1]}<br>Kingdom: %{customdata[2]}<br>Phylum: %{customdata[3]}</b><br>Source ID: %{customdata[4]}<extra></extra>",
         "marker": {
          "color": "rgb(33, 148, 139)",
          "size": 7
         },
         "mode": "markers",
         "text": "methionine adenosyltransferase",
         "type": "scatter3d",
         "x": [
          0.19955615508898453
         ],
         "y": [
          -0.2702544657763882
         ],
         "z": [
          0.13168337982668657
         ]
        },
        {
         "customdata": [
          [
           "methionine adenosyltransferase",
           "Halobaculum sp. CBA1158",
           "Euryarchaeota",
           "Halobacteria",
           "WP_234297091.1"
          ]
         ],
         "hovertemplate": "<b>%{customdata[0]}</b><br>Organism: %{customdata[1]}<br>Kingdom: %{customdata[2]}<br>Phylum: %{customdata[3]}</b><br>Source ID: %{customdata[4]}<extra></extra>",
         "marker": {
          "color": "rgb(57, 84, 139)",
          "size": 7
         },
         "mode": "markers",
         "text": "methionine adenosyltransferase",
         "type": "scatter3d",
         "x": [
          -0.009941732100075864
         ],
         "y": [
          0.11795811161818667
         ],
         "z": [
          0.008237943621135288
         ]
        },
        {
         "customdata": [
          [
           "methionine adenosyltransferase",
           "Halobaculum salinum",
           "Euryarchaeota",
           "Halobacteria",
           "WP_179268991.1"
          ]
         ],
         "hovertemplate": "<b>%{customdata[0]}</b><br>Organism: %{customdata[1]}<br>Kingdom: %{customdata[2]}<br>Phylum: %{customdata[3]}</b><br>Source ID: %{customdata[4]}<extra></extra>",
         "marker": {
          "color": "rgb(51, 100, 141)",
          "size": 7
         },
         "mode": "markers",
         "text": "methionine adenosyltransferase",
         "type": "scatter3d",
         "x": [
          -0.015181188989301203
         ],
         "y": [
          0.14817773574256124
         ],
         "z": [
          0.023982886428069197
         ]
        },
        {
         "customdata": [
          [
           "S-adenosylmethionine synthetase",
           "Thermogymnomonas acidicola",
           "Candidatus Thermoplasmatota",
           "Thermoplasmatales",
           "GGM66958.1"
          ]
         ],
         "hovertemplate": "<b>%{customdata[0]}</b><br>Organism: %{customdata[1]}<br>Kingdom: %{customdata[2]}<br>Phylum: %{customdata[3]}</b><br>Source ID: %{customdata[4]}<extra></extra>",
         "marker": {
          "color": "rgb(170, 220, 50)",
          "size": 7
         },
         "mode": "markers",
         "text": "S-adenosylmethionine synthetase",
         "type": "scatter3d",
         "x": [
          0.2093000742800714
         ],
         "y": [
          -0.1994160606193212
         ],
         "z": [
          0.07312136530714594
         ]
        },
        {
         "customdata": [
          [
           "methionine adenosyltransferase",
           "Haladaptatus pallidirubidus",
           "Euryarchaeota",
           "Halobacteria",
           "WP_227776945.1"
          ]
         ],
         "hovertemplate": "<b>%{customdata[0]}</b><br>Organism: %{customdata[1]}<br>Kingdom: %{customdata[2]}<br>Phylum: %{customdata[3]}</b><br>Source ID: %{customdata[4]}<extra></extra>",
         "marker": {
          "color": "rgb(99, 202, 94)",
          "size": 7
         },
         "mode": "markers",
         "text": "methionine adenosyltransferase",
         "type": "scatter3d",
         "x": [
          -0.043133337545818315
         ],
         "y": [
          0.10756729379250873
         ],
         "z": [
          -0.004541205644506598
         ]
        },
        {
         "customdata": [
          [
           "methionine adenosyltransferase",
           "archaeon",
           null,
           null,
           "MCQ2976762.1"
          ]
         ],
         "hovertemplate": "<b>%{customdata[0]}</b><br>Organism: %{customdata[1]}<br>Kingdom: %{customdata[2]}<br>Phylum: %{customdata[3]}</b><br>Source ID: %{customdata[4]}<extra></extra>",
         "marker": {
          "color": "rgb(34, 147, 139)",
          "size": 7
         },
         "mode": "markers",
         "text": "methionine adenosyltransferase",
         "type": "scatter3d",
         "x": [
          -0.07634672920652916
         ],
         "y": [
          -0.011651468343820633
         ],
         "z": [
          -0.13558456842992989
         ]
        },
        {
         "customdata": [
          [
           "methionine adenosyltransferase",
           "Natronorubrum thiooxidans",
           "Euryarchaeota",
           "Halobacteria",
           "WP_076608624.1"
          ]
         ],
         "hovertemplate": "<b>%{customdata[0]}</b><br>Organism: %{customdata[1]}<br>Kingdom: %{customdata[2]}<br>Phylum: %{customdata[3]}</b><br>Source ID: %{customdata[4]}<extra></extra>",
         "marker": {
          "color": "rgb(46, 175, 126)",
          "size": 7
         },
         "mode": "markers",
         "text": "methionine adenosyltransferase",
         "type": "scatter3d",
         "x": [
          -0.008721838616144036
         ],
         "y": [
          0.13561238680082324
         ],
         "z": [
          0.024785723540626213
         ]
        },
        {
         "customdata": [
          [
           "methionine adenosyltransferase",
           "Halobacterium litoreum",
           "Euryarchaeota",
           "Halobacteria",
           "WP_232572234.1"
          ]
         ],
         "hovertemplate": "<b>%{customdata[0]}</b><br>Organism: %{customdata[1]}<br>Kingdom: %{customdata[2]}<br>Phylum: %{customdata[3]}</b><br>Source ID: %{customdata[4]}<extra></extra>",
         "marker": {
          "color": "rgb(40, 126, 142)",
          "size": 7
         },
         "mode": "markers",
         "text": "methionine adenosyltransferase",
         "type": "scatter3d",
         "x": [
          -0.007522374027153546
         ],
         "y": [
          0.13714484838427177
         ],
         "z": [
          0.02355434044758499
         ]
        },
        {
         "customdata": [
          [
           "methionine adenosyltransferase",
           "Methanofollis liminatans",
           "Euryarchaeota",
           "Methanomicrobia",
           "WP_004038703.1"
          ]
         ],
         "hovertemplate": "<b>%{customdata[0]}</b><br>Organism: %{customdata[1]}<br>Kingdom: %{customdata[2]}<br>Phylum: %{customdata[3]}</b><br>Source ID: %{customdata[4]}<extra></extra>",
         "marker": {
          "color": "rgb(54, 93, 140)",
          "size": 7
         },
         "mode": "markers",
         "text": "methionine adenosyltransferase",
         "type": "scatter3d",
         "x": [
          -0.19011193566605877
         ],
         "y": [
          -0.01524068131252966
         ],
         "z": [
          -0.08454738589269788
         ]
        },
        {
         "customdata": [
          [
           "S-adenosylmethionine synthetase",
           "candidate division MSBL1 archaeon SCGC-AAA259E19",
           "Euryarchaeota",
           null,
           "KXA95705.1"
          ]
         ],
         "hovertemplate": "<b>%{customdata[0]}</b><br>Organism: %{customdata[1]}<br>Kingdom: %{customdata[2]}<br>Phylum: %{customdata[3]}</b><br>Source ID: %{customdata[4]}<extra></extra>",
         "marker": {
          "color": "rgb(203, 225, 41)",
          "size": 7
         },
         "mode": "markers",
         "text": "S-adenosylmethionine synthetase",
         "type": "scatter3d",
         "x": [
          0.2527399999462861
         ],
         "y": [
          0.2666482752686523
         ],
         "z": [
          0.49454203283883424
         ]
        },
        {
         "customdata": [
          [
           "methionine adenosyltransferase",
           "Methanoculleus taiwanensis",
           "Euryarchaeota",
           "Methanomicrobia",
           "WP_128693716.1"
          ]
         ],
         "hovertemplate": "<b>%{customdata[0]}</b><br>Organism: %{customdata[1]}<br>Kingdom: %{customdata[2]}<br>Phylum: %{customdata[3]}</b><br>Source ID: %{customdata[4]}<extra></extra>",
         "marker": {
          "color": "rgb(33, 150, 138)",
          "size": 7
         },
         "mode": "markers",
         "text": "methionine adenosyltransferase",
         "type": "scatter3d",
         "x": [
          -0.20875411424283474
         ],
         "y": [
          -0.039867662421471314
         ],
         "z": [
          -0.08207407539373947
         ]
        },
        {
         "customdata": [
          [
           "methionine adenosyltransferase",
           "unclassified Methanocalculus",
           "Euryarchaeota",
           "Methanomicrobia",
           "WP_253460769.1"
          ]
         ],
         "hovertemplate": "<b>%{customdata[0]}</b><br>Organism: %{customdata[1]}<br>Kingdom: %{customdata[2]}<br>Phylum: %{customdata[3]}</b><br>Source ID: %{customdata[4]}<extra></extra>",
         "marker": {
          "color": "rgb(42, 119, 142)",
          "size": 7
         },
         "mode": "markers",
         "text": "methionine adenosyltransferase",
         "type": "scatter3d",
         "x": [
          -0.1996848881628408
         ],
         "y": [
          -0.014980795930751906
         ],
         "z": [
          -0.10515360726640922
         ]
        },
        {
         "customdata": [
          [
           "methionine adenosyltransferase",
           "Halovivax gelatinilyticus",
           "Euryarchaeota",
           "Halobacteria",
           "WP_254862883.1"
          ]
         ],
         "hovertemplate": "<b>%{customdata[0]}</b><br>Organism: %{customdata[1]}<br>Kingdom: %{customdata[2]}<br>Phylum: %{customdata[3]}</b><br>Source ID: %{customdata[4]}<extra></extra>",
         "marker": {
          "color": "rgb(132, 211, 74)",
          "size": 7
         },
         "mode": "markers",
         "text": "methionine adenosyltransferase",
         "type": "scatter3d",
         "x": [
          -0.00423655530356418
         ],
         "y": [
          0.15266076651784743
         ],
         "z": [
          0.005153213291293703
         ]
        },
        {
         "customdata": [
          [
           "methionine adenosyltransferase",
           "Haloterrigena alkaliphila",
           "Euryarchaeota",
           "Halobacteria",
           "WP_207288301.1"
          ]
         ],
         "hovertemplate": "<b>%{customdata[0]}</b><br>Organism: %{customdata[1]}<br>Kingdom: %{customdata[2]}<br>Phylum: %{customdata[3]}</b><br>Source ID: %{customdata[4]}<extra></extra>",
         "marker": {
          "color": "rgb(138, 212, 70)",
          "size": 7
         },
         "mode": "markers",
         "text": "methionine adenosyltransferase",
         "type": "scatter3d",
         "x": [
          0.0022785617921897254
         ],
         "y": [
          0.1348567231118803
         ],
         "z": [
          0.009800145087666755
         ]
        },
        {
         "customdata": [
          [
           "methionine adenosyltransferase",
           "Natrinema sp. SYSU A 869",
           "Euryarchaeota",
           "Halobacteria",
           "WP_222919302.1"
          ]
         ],
         "hovertemplate": "<b>%{customdata[0]}</b><br>Organism: %{customdata[1]}<br>Kingdom: %{customdata[2]}<br>Phylum: %{customdata[3]}</b><br>Source ID: %{customdata[4]}<extra></extra>",
         "marker": {
          "color": "rgb(140, 213, 69)",
          "size": 7
         },
         "mode": "markers",
         "text": "methionine adenosyltransferase",
         "type": "scatter3d",
         "x": [
          -0.00952329387735438
         ],
         "y": [
          0.12429763185232484
         ],
         "z": [
          -0.010064906435748047
         ]
        },
        {
         "customdata": [
          [
           "methionine adenosyltransferase",
           "Candidatus Thermoplasmatota archaeon",
           "Candidatus Thermoplasmatota",
           null,
           "MCL5783052.1"
          ]
         ],
         "hovertemplate": "<b>%{customdata[0]}</b><br>Organism: %{customdata[1]}<br>Kingdom: %{customdata[2]}<br>Phylum: %{customdata[3]}</b><br>Source ID: %{customdata[4]}<extra></extra>",
         "marker": {
          "color": "rgb(72, 40, 120)",
          "size": 7
         },
         "mode": "markers",
         "text": "methionine adenosyltransferase",
         "type": "scatter3d",
         "x": [
          0.2478646772128745
         ],
         "y": [
          -0.206319541034505
         ],
         "z": [
          0.06741118974934109
         ]
        },
        {
         "customdata": [
          [
           "methionine adenosyltransferase",
           "Natronorubrum texcoconense",
           "Euryarchaeota",
           "Halobacteria",
           "WP_090306871.1"
          ]
         ],
         "hovertemplate": "<b>%{customdata[0]}</b><br>Organism: %{customdata[1]}<br>Kingdom: %{customdata[2]}<br>Phylum: %{customdata[3]}</b><br>Source ID: %{customdata[4]}<extra></extra>",
         "marker": {
          "color": "rgb(67, 56, 128)",
          "size": 7
         },
         "mode": "markers",
         "text": "methionine adenosyltransferase",
         "type": "scatter3d",
         "x": [
          -0.013225491450482896
         ],
         "y": [
          0.12076368235041952
         ],
         "z": [
          0.008439902584578983
         ]
        },
        {
         "customdata": [
          [
           "methionine adenosyltransferase",
           "Methanophagales archaeon",
           "Euryarchaeota",
           "Methanomicrobia",
           "MCK4475473.1"
          ]
         ],
         "hovertemplate": "<b>%{customdata[0]}</b><br>Organism: %{customdata[1]}<br>Kingdom: %{customdata[2]}<br>Phylum: %{customdata[3]}</b><br>Source ID: %{customdata[4]}<extra></extra>",
         "marker": {
          "color": "rgb(63, 70, 135)",
          "size": 7
         },
         "mode": "markers",
         "text": "methionine adenosyltransferase",
         "type": "scatter3d",
         "x": [
          -0.22222588885319575
         ],
         "y": [
          -0.10166874324526044
         ],
         "z": [
          0.06858416961538932
         ]
        },
        {
         "customdata": [
          [
           "methionine adenosyltransferase",
           "Halorubrum sodomense",
           "Euryarchaeota",
           "Halobacteria",
           "WP_092922917.1"
          ]
         ],
         "hovertemplate": "<b>%{customdata[0]}</b><br>Organism: %{customdata[1]}<br>Kingdom: %{customdata[2]}<br>Phylum: %{customdata[3]}</b><br>Source ID: %{customdata[4]}<extra></extra>",
         "marker": {
          "color": "rgb(40, 168, 131)",
          "size": 7
         },
         "mode": "markers",
         "text": "methionine adenosyltransferase",
         "type": "scatter3d",
         "x": [
          -0.036955927341223785
         ],
         "y": [
          0.12575030081826316
         ],
         "z": [
          -0.007449651493581068
         ]
        },
        {
         "customdata": [
          [
           "methionine adenosyltransferase",
           "Candidatus Altiarchaeota archaeon",
           "Candidatus Altarchaeota",
           null,
           "MBU4201840.1"
          ]
         ],
         "hovertemplate": "<b>%{customdata[0]}</b><br>Organism: %{customdata[1]}<br>Kingdom: %{customdata[2]}<br>Phylum: %{customdata[3]}</b><br>Source ID: %{customdata[4]}<extra></extra>",
         "marker": {
          "color": "rgb(80, 194, 106)",
          "size": 7
         },
         "mode": "markers",
         "text": "methionine adenosyltransferase",
         "type": "scatter3d",
         "x": [
          -0.08684873753905041
         ],
         "y": [
          -0.06398223460358134
         ],
         "z": [
          0.23851138014043397
         ]
        },
        {
         "customdata": [
          [
           "methionine adenosyltransferase",
           "Methanobrevibacter",
           "Euryarchaeota",
           "Methanobacteria",
           "WP_004032572.1"
          ]
         ],
         "hovertemplate": "<b>%{customdata[0]}</b><br>Organism: %{customdata[1]}<br>Kingdom: %{customdata[2]}<br>Phylum: %{customdata[3]}</b><br>Source ID: %{customdata[4]}<extra></extra>",
         "marker": {
          "color": "rgb(48, 105, 142)",
          "size": 7
         },
         "mode": "markers",
         "text": "methionine adenosyltransferase",
         "type": "scatter3d",
         "x": [
          -0.06736343693664831
         ],
         "y": [
          -0.006390182651174576
         ],
         "z": [
          -0.1440849403226333
         ]
        },
        {
         "customdata": [
          [
           "methionine adenosyltransferase",
           "Halorubrum aethiopicum",
           "Euryarchaeota",
           "Halobacteria",
           "WP_066415702.1"
          ]
         ],
         "hovertemplate": "<b>%{customdata[0]}</b><br>Organism: %{customdata[1]}<br>Kingdom: %{customdata[2]}<br>Phylum: %{customdata[3]}</b><br>Source ID: %{customdata[4]}<extra></extra>",
         "marker": {
          "color": "rgb(51, 99, 141)",
          "size": 7
         },
         "mode": "markers",
         "text": "methionine adenosyltransferase",
         "type": "scatter3d",
         "x": [
          -0.010868232776175702
         ],
         "y": [
          0.14822403228579023
         ],
         "z": [
          -0.00975633967308866
         ]
        },
        {
         "customdata": [
          [
           "methionine adenosyltransferase",
           "Methanoregulaceae archaeon",
           "Euryarchaeota",
           "Methanomicrobia",
           "NTW92131.1"
          ]
         ],
         "hovertemplate": "<b>%{customdata[0]}</b><br>Organism: %{customdata[1]}<br>Kingdom: %{customdata[2]}<br>Phylum: %{customdata[3]}</b><br>Source ID: %{customdata[4]}<extra></extra>",
         "marker": {
          "color": "rgb(36, 136, 141)",
          "size": 7
         },
         "mode": "markers",
         "text": "methionine adenosyltransferase",
         "type": "scatter3d",
         "x": [
          -0.19447167243119215
         ],
         "y": [
          -0.028013211665926963
         ],
         "z": [
          -0.06889291267558442
         ]
        },
        {
         "customdata": [
          [
           "S-adenosylmethionine synthetase",
           "Methanophagales archaeon",
           "Euryarchaeota",
           "Methanomicrobia",
           "RCV65299.1"
          ]
         ],
         "hovertemplate": "<b>%{customdata[0]}</b><br>Organism: %{customdata[1]}<br>Kingdom: %{customdata[2]}<br>Phylum: %{customdata[3]}</b><br>Source ID: %{customdata[4]}<extra></extra>",
         "marker": {
          "color": "rgb(63, 70, 135)",
          "size": 7
         },
         "mode": "markers",
         "text": "S-adenosylmethionine synthetase",
         "type": "scatter3d",
         "x": [
          -0.21265423392533045
         ],
         "y": [
          -0.06625988648036359
         ],
         "z": [
          0.029530136374160056
         ]
        },
        {
         "customdata": [
          [
           "hypothetical protein",
           "Thermoplasmatales archaeon E-plasma",
           "Candidatus Thermoplasmatota",
           "Thermoplasmatales",
           "EQB66510.1"
          ]
         ],
         "hovertemplate": "<b>%{customdata[0]}</b><br>Organism: %{customdata[1]}<br>Kingdom: %{customdata[2]}<br>Phylum: %{customdata[3]}</b><br>Source ID: %{customdata[4]}<extra></extra>",
         "marker": {
          "color": "rgb(71, 34, 114)",
          "size": 7
         },
         "mode": "markers",
         "text": "hypothetical protein",
         "type": "scatter3d",
         "x": [
          0.2404055237692557
         ],
         "y": [
          -0.19987417828162463
         ],
         "z": [
          0.0484520083683924
         ]
        },
        {
         "customdata": [
          [
           "methionine adenosyltransferase",
           "Thermoproteales archaeon",
           "Thermoproteota",
           "Thermoproteales",
           "MCD6562447.1"
          ]
         ],
         "hovertemplate": "<b>%{customdata[0]}</b><br>Organism: %{customdata[1]}<br>Kingdom: %{customdata[2]}<br>Phylum: %{customdata[3]}</b><br>Source ID: %{customdata[4]}<extra></extra>",
         "marker": {
          "color": "rgb(60, 78, 138)",
          "size": 7
         },
         "mode": "markers",
         "text": "methionine adenosyltransferase",
         "type": "scatter3d",
         "x": [
          0.311806725993685
         ],
         "y": [
          0.19820194918361164
         ],
         "z": [
          -0.00017965555269211232
         ]
        },
        {
         "customdata": [
          [
           "S-adenosylmethionine synthase",
           "Methanomassiliicoccales archaeon PtaB.Bin134",
           "Candidatus Thermoplasmatota",
           "Methanomassiliicoccales",
           "OPX62442.1"
          ]
         ],
         "hovertemplate": "<b>%{customdata[0]}</b><br>Organism: %{customdata[1]}<br>Kingdom: %{customdata[2]}<br>Phylum: %{customdata[3]}</b><br>Source ID: %{customdata[4]}<extra></extra>",
         "marker": {
          "color": "rgb(48, 177, 125)",
          "size": 7
         },
         "mode": "markers",
         "text": "S-adenosylmethionine synthase",
         "type": "scatter3d",
         "x": [
          0.19319411984940854
         ],
         "y": [
          -0.2601557190865877
         ],
         "z": [
          0.14539179041938982
         ]
        },
        {
         "customdata": [
          [
           "methionine adenosyltransferase",
           "Thermoprotei archaeon",
           "Thermoproteota",
           null,
           "RLF06785.1"
          ]
         ],
         "hovertemplate": "<b>%{customdata[0]}</b><br>Organism: %{customdata[1]}<br>Kingdom: %{customdata[2]}<br>Phylum: %{customdata[3]}</b><br>Source ID: %{customdata[4]}<extra></extra>",
         "marker": {
          "color": "rgb(183, 222, 43)",
          "size": 7
         },
         "mode": "markers",
         "text": "methionine adenosyltransferase",
         "type": "scatter3d",
         "x": [
          0.26364601616351696
         ],
         "y": [
          0.12564103334895216
         ],
         "z": [
          -0.00029621067098682604
         ]
        },
        {
         "customdata": [
          [
           "S-adenosylmethionine synthetase",
           "candidate division MSBL1 archaeon SCGC-AAA261D19",
           "Euryarchaeota",
           null,
           "KXB02156.1"
          ]
         ],
         "hovertemplate": "<b>%{customdata[0]}</b><br>Organism: %{customdata[1]}<br>Kingdom: %{customdata[2]}<br>Phylum: %{customdata[3]}</b><br>Source ID: %{customdata[4]}<extra></extra>",
         "marker": {
          "color": "rgb(62, 72, 136)",
          "size": 7
         },
         "mode": "markers",
         "text": "S-adenosylmethionine synthetase",
         "type": "scatter3d",
         "x": [
          0.22809726588321114
         ],
         "y": [
          0.21710808915820884
         ],
         "z": [
          0.45517685241097045
         ]
        },
        {
         "customdata": [
          [
           "methionine adenosyltransferase",
           "Halorubrum sp. BV1",
           "Euryarchaeota",
           "Halobacteria",
           "WP_049982863.1"
          ]
         ],
         "hovertemplate": "<b>%{customdata[0]}</b><br>Organism: %{customdata[1]}<br>Kingdom: %{customdata[2]}<br>Phylum: %{customdata[3]}</b><br>Source ID: %{customdata[4]}<extra></extra>",
         "marker": {
          "color": "rgb(146, 214, 65)",
          "size": 7
         },
         "mode": "markers",
         "text": "methionine adenosyltransferase",
         "type": "scatter3d",
         "x": [
          -0.02198074956359971
         ],
         "y": [
          0.11377962118869349
         ],
         "z": [
          -0.004508705365583252
         ]
        },
        {
         "customdata": [
          [
           "methionine adenosyltransferase",
           "Hyperthermus sp.",
           "Thermoproteota",
           "Desulfurococcales",
           "RUM46922.1"
          ]
         ],
         "hovertemplate": "<b>%{customdata[0]}</b><br>Organism: %{customdata[1]}<br>Kingdom: %{customdata[2]}<br>Phylum: %{customdata[3]}</b><br>Source ID: %{customdata[4]}<extra></extra>",
         "marker": {
          "color": "rgb(35, 140, 140)",
          "size": 7
         },
         "mode": "markers",
         "text": "methionine adenosyltransferase",
         "type": "scatter3d",
         "x": [
          0.24551842840937457
         ],
         "y": [
          0.11922613107917529
         ],
         "z": [
          0.021020405734407475
         ]
        },
        {
         "customdata": [
          [
           "methionine adenosyltransferase",
           "Candidatus Altiarchaeales archaeon",
           "Candidatus Altarchaeota",
           null,
           "MBD3262709.1"
          ]
         ],
         "hovertemplate": "<b>%{customdata[0]}</b><br>Organism: %{customdata[1]}<br>Kingdom: %{customdata[2]}<br>Phylum: %{customdata[3]}</b><br>Source ID: %{customdata[4]}<extra></extra>",
         "marker": {
          "color": "rgb(195, 224, 42)",
          "size": 7
         },
         "mode": "markers",
         "text": "methionine adenosyltransferase",
         "type": "scatter3d",
         "x": [
          -0.10722228132782374
         ],
         "y": [
          -0.07136980773372971
         ],
         "z": [
          0.2758519659400672
         ]
        },
        {
         "customdata": [
          [
           "methionine adenosyltransferase",
           "Vulcanisaeta sp. SCGC AB-777_J10",
           "Thermoproteota",
           "Thermoproteales",
           "PVU71895.1"
          ]
         ],
         "hovertemplate": "<b>%{customdata[0]}</b><br>Organism: %{customdata[1]}<br>Kingdom: %{customdata[2]}<br>Phylum: %{customdata[3]}</b><br>Source ID: %{customdata[4]}<extra></extra>",
         "marker": {
          "color": "rgb(53, 183, 121)",
          "size": 7
         },
         "mode": "markers",
         "text": "methionine adenosyltransferase",
         "type": "scatter3d",
         "x": [
          0.24108502502916188
         ],
         "y": [
          0.14397572358340355
         ],
         "z": [
          0.01430923810823657
         ]
        },
        {
         "customdata": [
          [
           "methionine adenosyltransferase",
           "Candidatus Bathyarchaeota archaeon",
           "Candidatus Bathyarchaeota",
           null,
           "RLI05182.1"
          ]
         ],
         "hovertemplate": "<b>%{customdata[0]}</b><br>Organism: %{customdata[1]}<br>Kingdom: %{customdata[2]}<br>Phylum: %{customdata[3]}</b><br>Source ID: %{customdata[4]}<extra></extra>",
         "marker": {
          "color": "rgb(55, 184, 120)",
          "size": 7
         },
         "mode": "markers",
         "text": "methionine adenosyltransferase",
         "type": "scatter3d",
         "x": [
          0.2810241886318335
         ],
         "y": [
          0.15898962897551963
         ],
         "z": [
          -0.0179091711541553
         ]
        },
        {
         "customdata": [
          [
           "methionine adenosyltransferase",
           "Methanocorpusculum sp.",
           "Euryarchaeota",
           "Methanomicrobia",
           "MCK9313491.1"
          ]
         ],
         "hovertemplate": "<b>%{customdata[0]}</b><br>Organism: %{customdata[1]}<br>Kingdom: %{customdata[2]}<br>Phylum: %{customdata[3]}</b><br>Source ID: %{customdata[4]}<extra></extra>",
         "marker": {
          "color": "rgb(36, 164, 133)",
          "size": 7
         },
         "mode": "markers",
         "text": "methionine adenosyltransferase",
         "type": "scatter3d",
         "x": [
          -0.21121721129990018
         ],
         "y": [
          -0.024903647098589984
         ],
         "z": [
          -0.11190143871834157
         ]
        },
        {
         "customdata": [
          [
           "methionine adenosyltransferase",
           "Methanoculleus",
           "Euryarchaeota",
           "Methanomicrobia",
           "WP_066955078.1"
          ]
         ],
         "hovertemplate": "<b>%{customdata[0]}</b><br>Organism: %{customdata[1]}<br>Kingdom: %{customdata[2]}<br>Phylum: %{customdata[3]}</b><br>Source ID: %{customdata[4]}<extra></extra>",
         "marker": {
          "color": "rgb(38, 129, 142)",
          "size": 7
         },
         "mode": "markers",
         "text": "methionine adenosyltransferase",
         "type": "scatter3d",
         "x": [
          -0.19933086811770545
         ],
         "y": [
          -0.03947614051460931
         ],
         "z": [
          -0.10287964286092799
         ]
        },
        {
         "customdata": [
          [
           "methionine adenosyltransferase",
           "Halobacterium",
           "Euryarchaeota",
           "Halobacteria",
           "WP_010902940.1"
          ]
         ],
         "hovertemplate": "<b>%{customdata[0]}</b><br>Organism: %{customdata[1]}<br>Kingdom: %{customdata[2]}<br>Phylum: %{customdata[3]}</b><br>Source ID: %{customdata[4]}<extra></extra>",
         "marker": {
          "color": "rgb(216, 226, 40)",
          "size": 7
         },
         "mode": "markers",
         "text": "methionine adenosyltransferase",
         "type": "scatter3d",
         "x": [
          -0.024785334811464808
         ],
         "y": [
          0.1505756297446573
         ],
         "z": [
          0.020659165036436552
         ]
        },
        {
         "customdata": [
          [
           "methionine adenosyltransferase",
           "Candidatus Thermoplasmatota archaeon",
           "Candidatus Thermoplasmatota",
           null,
           "MCL4451275.1"
          ]
         ],
         "hovertemplate": "<b>%{customdata[0]}</b><br>Organism: %{customdata[1]}<br>Kingdom: %{customdata[2]}<br>Phylum: %{customdata[3]}</b><br>Source ID: %{customdata[4]}<extra></extra>",
         "marker": {
          "color": "rgb(72, 40, 120)",
          "size": 7
         },
         "mode": "markers",
         "text": "methionine adenosyltransferase",
         "type": "scatter3d",
         "x": [
          0.2553390539728161
         ],
         "y": [
          -0.19173921194273313
         ],
         "z": [
          0.04889201900617062
         ]
        },
        {
         "customdata": [
          [
           "methionine adenosyltransferase",
           "Halorubrum sp. CBA1125",
           "Euryarchaeota",
           "Halobacteria",
           "WP_156588411.1"
          ]
         ],
         "hovertemplate": "<b>%{customdata[0]}</b><br>Organism: %{customdata[1]}<br>Kingdom: %{customdata[2]}<br>Phylum: %{customdata[3]}</b><br>Source ID: %{customdata[4]}<extra></extra>",
         "marker": {
          "color": "rgb(62, 187, 116)",
          "size": 7
         },
         "mode": "markers",
         "text": "methionine adenosyltransferase",
         "type": "scatter3d",
         "x": [
          -0.021471694186241792
         ],
         "y": [
          0.11558699248732365
         ],
         "z": [
          -0.013110620577937474
         ]
        },
        {
         "customdata": [
          [
           "methionine adenosyltransferase",
           "Halorubrum alkaliphilum",
           "Euryarchaeota",
           "Halobacteria",
           "WP_209482594.1"
          ]
         ],
         "hovertemplate": "<b>%{customdata[0]}</b><br>Organism: %{customdata[1]}<br>Kingdom: %{customdata[2]}<br>Phylum: %{customdata[3]}</b><br>Source ID: %{customdata[4]}<extra></extra>",
         "marker": {
          "color": "rgb(32, 153, 138)",
          "size": 7
         },
         "mode": "markers",
         "text": "methionine adenosyltransferase",
         "type": "scatter3d",
         "x": [
          -0.022575736486019536
         ],
         "y": [
          0.11010317340123665
         ],
         "z": [
          0.0025149095415081626
         ]
        },
        {
         "customdata": [
          [
           "methionine adenosyltransferase",
           "Halopenitus persicus",
           "Euryarchaeota",
           "Halobacteria",
           "WP_021073705.1"
          ]
         ],
         "hovertemplate": "<b>%{customdata[0]}</b><br>Organism: %{customdata[1]}<br>Kingdom: %{customdata[2]}<br>Phylum: %{customdata[3]}</b><br>Source ID: %{customdata[4]}<extra></extra>",
         "marker": {
          "color": "rgb(212, 226, 40)",
          "size": 7
         },
         "mode": "markers",
         "text": "methionine adenosyltransferase",
         "type": "scatter3d",
         "x": [
          0.0023566464068876334
         ],
         "y": [
          0.1298729745584225
         ],
         "z": [
          0.0019052078198111284
         ]
        },
        {
         "customdata": [
          [
           "S-adenosylmethionine synthetase",
           "candidate division MSBL1 archaeon SCGC-AAA259A05",
           "Euryarchaeota",
           null,
           "KXA90742.1"
          ]
         ],
         "hovertemplate": "<b>%{customdata[0]}</b><br>Organism: %{customdata[1]}<br>Kingdom: %{customdata[2]}<br>Phylum: %{customdata[3]}</b><br>Source ID: %{customdata[4]}<extra></extra>",
         "marker": {
          "color": "rgb(57, 86, 139)",
          "size": 7
         },
         "mode": "markers",
         "text": "S-adenosylmethionine synthetase",
         "type": "scatter3d",
         "x": [
          0.28015729342277385
         ],
         "y": [
          0.3020531522983963
         ],
         "z": [
          0.5519371660181488
         ]
        },
        {
         "customdata": [
          [
           "methionine adenosyltransferase",
           "Candidatus Thermoplasmatota archaeon",
           "Candidatus Thermoplasmatota",
           null,
           "MCL6003386.1"
          ]
         ],
         "hovertemplate": "<b>%{customdata[0]}</b><br>Organism: %{customdata[1]}<br>Kingdom: %{customdata[2]}<br>Phylum: %{customdata[3]}</b><br>Source ID: %{customdata[4]}<extra></extra>",
         "marker": {
          "color": "rgb(72, 40, 120)",
          "size": 7
         },
         "mode": "markers",
         "text": "methionine adenosyltransferase",
         "type": "scatter3d",
         "x": [
          0.23312447648239867
         ],
         "y": [
          -0.21627015029971608
         ],
         "z": [
          0.04497509215680752
         ]
        },
        {
         "customdata": [
          [
           "methionine adenosyltransferase",
           "Methanomicrobiaceae archaeon",
           "Euryarchaeota",
           "Methanomicrobia",
           "MBN1431402.1"
          ]
         ],
         "hovertemplate": "<b>%{customdata[0]}</b><br>Organism: %{customdata[1]}<br>Kingdom: %{customdata[2]}<br>Phylum: %{customdata[3]}</b><br>Source ID: %{customdata[4]}<extra></extra>",
         "marker": {
          "color": "rgb(52, 182, 122)",
          "size": 7
         },
         "mode": "markers",
         "text": "methionine adenosyltransferase",
         "type": "scatter3d",
         "x": [
          -0.20098535326452174
         ],
         "y": [
          -0.027375474087732873
         ],
         "z": [
          -0.09767671403629512
         ]
        },
        {
         "customdata": [
          [
           "methionine adenosyltransferase",
           "Vulcanisaeta sp. JCM 14467",
           "Thermoproteota",
           "Thermoproteales",
           "WP_054849467.1"
          ]
         ],
         "hovertemplate": "<b>%{customdata[0]}</b><br>Organism: %{customdata[1]}<br>Kingdom: %{customdata[2]}<br>Phylum: %{customdata[3]}</b><br>Source ID: %{customdata[4]}<extra></extra>",
         "marker": {
          "color": "rgb(31, 158, 137)",
          "size": 7
         },
         "mode": "markers",
         "text": "methionine adenosyltransferase",
         "type": "scatter3d",
         "x": [
          0.24007601049971558
         ],
         "y": [
          0.1424003214446442
         ],
         "z": [
          0.005590189916030738
         ]
        },
        {
         "customdata": [
          [
           "S-adenosylmethionine synthetase",
           "Euryarchaeota archaeon RBG_16_62_10",
           "Euryarchaeota",
           null,
           "OGS42269.1"
          ]
         ],
         "hovertemplate": "<b>%{customdata[0]}</b><br>Organism: %{customdata[1]}<br>Kingdom: %{customdata[2]}<br>Phylum: %{customdata[3]}</b><br>Source ID: %{customdata[4]}<extra></extra>",
         "marker": {
          "color": "rgb(43, 117, 142)",
          "size": 7
         },
         "mode": "markers",
         "text": "S-adenosylmethionine synthetase",
         "type": "scatter3d",
         "x": [
          0.18759346136280008
         ],
         "y": [
          -0.23536536674527728
         ],
         "z": [
          0.1402880468545622
         ]
        },
        {
         "customdata": [
          [
           "S-adenosylmethionine synthetase",
           "Candidatus Terraquivivens tikiterensis",
           "Nitrososphaerota",
           "Candidatus Terraquivivens",
           "PUA32000.1"
          ]
         ],
         "hovertemplate": "<b>%{customdata[0]}</b><br>Organism: %{customdata[1]}<br>Kingdom: %{customdata[2]}<br>Phylum: %{customdata[3]}</b><br>Source ID: %{customdata[4]}<extra></extra>",
         "marker": {
          "color": "rgb(197, 224, 42)",
          "size": 7
         },
         "mode": "markers",
         "text": "S-adenosylmethionine synthetase",
         "type": "scatter3d",
         "x": [
          0.32724431488178496
         ],
         "y": [
          0.24846170006292032
         ],
         "z": [
          0.0226103152335068
         ]
        },
        {
         "customdata": [
          [
           "methionine adenosyltransferase",
           "Methanomassiliicoccales archaeon",
           "Candidatus Thermoplasmatota",
           "Methanomassiliicoccales",
           "MBN1110266.1"
          ]
         ],
         "hovertemplate": "<b>%{customdata[0]}</b><br>Organism: %{customdata[1]}<br>Kingdom: %{customdata[2]}<br>Phylum: %{customdata[3]}</b><br>Source ID: %{customdata[4]}<extra></extra>",
         "marker": {
          "color": "rgb(33, 148, 139)",
          "size": 7
         },
         "mode": "markers",
         "text": "methionine adenosyltransferase",
         "type": "scatter3d",
         "x": [
          0.1965882734997979
         ],
         "y": [
          -0.27850202367865434
         ],
         "z": [
          0.15402414826776312
         ]
        },
        {
         "customdata": [
          [
           "S-adenosylmethionine synthetase",
           "Methanomicrobiales archaeon HGW-Methanomicrobiales-1",
           "Euryarchaeota",
           "Methanomicrobia",
           "PKL68256.1"
          ]
         ],
         "hovertemplate": "<b>%{customdata[0]}</b><br>Organism: %{customdata[1]}<br>Kingdom: %{customdata[2]}<br>Phylum: %{customdata[3]}</b><br>Source ID: %{customdata[4]}<extra></extra>",
         "marker": {
          "color": "rgb(59, 80, 138)",
          "size": 7
         },
         "mode": "markers",
         "text": "S-adenosylmethionine synthetase",
         "type": "scatter3d",
         "x": [
          -0.1982743153701908
         ],
         "y": [
          -0.01957787976886865
         ],
         "z": [
          -0.08362219882671493
         ]
        },
        {
         "customdata": [
          [
           "methionine adenosyltransferase",
           "Vulcanisaeta sp.",
           "Thermoproteota",
           "Thermoproteales",
           "MCG2863631.1"
          ]
         ],
         "hovertemplate": "<b>%{customdata[0]}</b><br>Organism: %{customdata[1]}<br>Kingdom: %{customdata[2]}<br>Phylum: %{customdata[3]}</b><br>Source ID: %{customdata[4]}<extra></extra>",
         "marker": {
          "color": "rgb(69, 49, 125)",
          "size": 7
         },
         "mode": "markers",
         "text": "methionine adenosyltransferase",
         "type": "scatter3d",
         "x": [
          0.24068523947082546
         ],
         "y": [
          0.14237723652596113
         ],
         "z": [
          -0.009562763631460436
         ]
        },
        {
         "customdata": [
          [
           "methionine adenosyltransferase",
           "Candidatus Verstraetearchaeota archaeon",
           "Candidatus Verstraetearchaeota",
           null,
           "RLE49468.1"
          ]
         ],
         "hovertemplate": "<b>%{customdata[0]}</b><br>Organism: %{customdata[1]}<br>Kingdom: %{customdata[2]}<br>Phylum: %{customdata[3]}</b><br>Source ID: %{customdata[4]}<extra></extra>",
         "marker": {
          "color": "rgb(49, 179, 124)",
          "size": 7
         },
         "mode": "markers",
         "text": "methionine adenosyltransferase",
         "type": "scatter3d",
         "x": [
          0.24457186151840685
         ],
         "y": [
          0.13133670255587257
         ],
         "z": [
          -0.01590979135721608
         ]
        },
        {
         "customdata": [
          [
           "methionine adenosyltransferase",
           "Natronococcus pandeyae",
           "Euryarchaeota",
           "Halobacteria",
           "WP_148860060.1"
          ]
         ],
         "hovertemplate": "<b>%{customdata[0]}</b><br>Organism: %{customdata[1]}<br>Kingdom: %{customdata[2]}<br>Phylum: %{customdata[3]}</b><br>Source ID: %{customdata[4]}<extra></extra>",
         "marker": {
          "color": "rgb(45, 113, 142)",
          "size": 7
         },
         "mode": "markers",
         "text": "methionine adenosyltransferase",
         "type": "scatter3d",
         "x": [
          -0.029938932967846915
         ],
         "y": [
          0.1128135905882924
         ],
         "z": [
          -0.0037686656787571772
         ]
        },
        {
         "customdata": [
          [
           "methionine adenosyltransferase",
           "Thermoprotei archaeon",
           "Thermoproteota",
           null,
           "RLF12032.1"
          ]
         ],
         "hovertemplate": "<b>%{customdata[0]}</b><br>Organism: %{customdata[1]}<br>Kingdom: %{customdata[2]}<br>Phylum: %{customdata[3]}</b><br>Source ID: %{customdata[4]}<extra></extra>",
         "marker": {
          "color": "rgb(183, 222, 43)",
          "size": 7
         },
         "mode": "markers",
         "text": "methionine adenosyltransferase",
         "type": "scatter3d",
         "x": [
          0.33082241924534284
         ],
         "y": [
          0.19234679479327335
         ],
         "z": [
          0.0025797170379804417
         ]
        },
        {
         "customdata": [
          [
           "methionine adenosyltransferase",
           "Natronocalculus amylovorans",
           "Euryarchaeota",
           "Halobacteria",
           "WP_174653571.1"
          ]
         ],
         "hovertemplate": "<b>%{customdata[0]}</b><br>Organism: %{customdata[1]}<br>Kingdom: %{customdata[2]}<br>Phylum: %{customdata[3]}</b><br>Source ID: %{customdata[4]}<extra></extra>",
         "marker": {
          "color": "rgb(111, 206, 87)",
          "size": 7
         },
         "mode": "markers",
         "text": "methionine adenosyltransferase",
         "type": "scatter3d",
         "x": [
          -0.036493640219321555
         ],
         "y": [
          0.14804212060498192
         ],
         "z": [
          -0.0008744524388105921
         ]
        },
        {
         "customdata": [
          [
           "methionine adenosyltransferase",
           "Haloglomus salinum",
           "Euryarchaeota",
           "Halobacteria",
           "WP_254831124.1"
          ]
         ],
         "hovertemplate": "<b>%{customdata[0]}</b><br>Organism: %{customdata[1]}<br>Kingdom: %{customdata[2]}<br>Phylum: %{customdata[3]}</b><br>Source ID: %{customdata[4]}<extra></extra>",
         "marker": {
          "color": "rgb(34, 146, 139)",
          "size": 7
         },
         "mode": "markers",
         "text": "methionine adenosyltransferase",
         "type": "scatter3d",
         "x": [
          -0.030081263627016866
         ],
         "y": [
          0.1549391041502578
         ],
         "z": [
          0.011575937411518885
         ]
        },
        {
         "customdata": [
          [
           "methionine adenosyltransferase",
           "Candidatus Thermoplasmatota archaeon",
           "Candidatus Thermoplasmatota",
           null,
           "MCL5804246.1"
          ]
         ],
         "hovertemplate": "<b>%{customdata[0]}</b><br>Organism: %{customdata[1]}<br>Kingdom: %{customdata[2]}<br>Phylum: %{customdata[3]}</b><br>Source ID: %{customdata[4]}<extra></extra>",
         "marker": {
          "color": "rgb(72, 40, 120)",
          "size": 7
         },
         "mode": "markers",
         "text": "methionine adenosyltransferase",
         "type": "scatter3d",
         "x": [
          0.25955141907326695
         ],
         "y": [
          -0.18790291331197626
         ],
         "z": [
          0.0618793081715557
         ]
        },
        {
         "customdata": [
          [
           "methionine adenosyltransferase",
           "Methanophagales archaeon ANME-1-THS",
           "Euryarchaeota",
           "Methanomicrobia",
           "RZN38061.1"
          ]
         ],
         "hovertemplate": "<b>%{customdata[0]}</b><br>Organism: %{customdata[1]}<br>Kingdom: %{customdata[2]}<br>Phylum: %{customdata[3]}</b><br>Source ID: %{customdata[4]}<extra></extra>",
         "marker": {
          "color": "rgb(69, 14, 96)",
          "size": 7
         },
         "mode": "markers",
         "text": "methionine adenosyltransferase",
         "type": "scatter3d",
         "x": [
          -0.2790491540059707
         ],
         "y": [
          -0.1126509148863387
         ],
         "z": [
          0.0914230945650647
         ]
        },
        {
         "customdata": [
          [
           "methionine adenosyltransferase",
           "Euryarchaeota archaeon",
           "Euryarchaeota",
           null,
           "MCL2460374.1"
          ]
         ],
         "hovertemplate": "<b>%{customdata[0]}</b><br>Organism: %{customdata[1]}<br>Kingdom: %{customdata[2]}<br>Phylum: %{customdata[3]}</b><br>Source ID: %{customdata[4]}<extra></extra>",
         "marker": {
          "color": "rgb(115, 207, 85)",
          "size": 7
         },
         "mode": "markers",
         "text": "methionine adenosyltransferase",
         "type": "scatter3d",
         "x": [
          -0.23166887131176214
         ],
         "y": [
          -0.04180139447764477
         ],
         "z": [
          -0.08713874860771266
         ]
        },
        {
         "customdata": [
          [
           "methionine adenosyltransferase",
           "Vulcanisaeta souniana",
           "Thermoproteota",
           "Thermoproteales",
           "WP_188602731.1"
          ]
         ],
         "hovertemplate": "<b>%{customdata[0]}</b><br>Organism: %{customdata[1]}<br>Kingdom: %{customdata[2]}<br>Phylum: %{customdata[3]}</b><br>Source ID: %{customdata[4]}<extra></extra>",
         "marker": {
          "color": "rgb(96, 200, 96)",
          "size": 7
         },
         "mode": "markers",
         "text": "methionine adenosyltransferase",
         "type": "scatter3d",
         "x": [
          0.24114614536233883
         ],
         "y": [
          0.13785024282891178
         ],
         "z": [
          0.010275809138646968
         ]
        },
        {
         "customdata": [
          [
           "S-adenosylmethionine synthetase",
           "Sulfolobales archaeon HS-7",
           "Thermoproteota",
           "Sulfolobales",
           "BCU68573.1"
          ]
         ],
         "hovertemplate": "<b>%{customdata[0]}</b><br>Organism: %{customdata[1]}<br>Kingdom: %{customdata[2]}<br>Phylum: %{customdata[3]}</b><br>Source ID: %{customdata[4]}<extra></extra>",
         "marker": {
          "color": "rgb(67, 55, 128)",
          "size": 7
         },
         "mode": "markers",
         "text": "S-adenosylmethionine synthetase",
         "type": "scatter3d",
         "x": [
          0.23747709593925317
         ],
         "y": [
          0.13281896109465288
         ],
         "z": [
          0.03504359852438719
         ]
        },
        {
         "customdata": [
          [
           "methionine adenosyltransferase",
           "Methanomassiliicoccales archaeon",
           "Candidatus Thermoplasmatota",
           "Methanomassiliicoccales",
           "TET91527.1"
          ]
         ],
         "hovertemplate": "<b>%{customdata[0]}</b><br>Organism: %{customdata[1]}<br>Kingdom: %{customdata[2]}<br>Phylum: %{customdata[3]}</b><br>Source ID: %{customdata[4]}<extra></extra>",
         "marker": {
          "color": "rgb(33, 148, 139)",
          "size": 7
         },
         "mode": "markers",
         "text": "methionine adenosyltransferase",
         "type": "scatter3d",
         "x": [
          0.20724236609512603
         ],
         "y": [
          -0.21045026050588767
         ],
         "z": [
          0.09897658705733509
         ]
        },
        {
         "customdata": [
          [
           "methionine adenosyltransferase",
           "Desulfurococcales archaeon",
           "Thermoproteota",
           "Desulfurococcales",
           "MCE4612379.1"
          ]
         ],
         "hovertemplate": "<b>%{customdata[0]}</b><br>Organism: %{customdata[1]}<br>Kingdom: %{customdata[2]}<br>Phylum: %{customdata[3]}</b><br>Source ID: %{customdata[4]}<extra></extra>",
         "marker": {
          "color": "rgb(52, 97, 141)",
          "size": 7
         },
         "mode": "markers",
         "text": "methionine adenosyltransferase",
         "type": "scatter3d",
         "x": [
          0.2615094373054151
         ],
         "y": [
          0.14346604050266842
         ],
         "z": [
          0.02082913978980306
         ]
        },
        {
         "customdata": [
          [
           "methionine adenosyltransferase",
           "Vulcanisaeta distributa",
           "Thermoproteota",
           "Thermoproteales",
           "WP_054841976.1"
          ]
         ],
         "hovertemplate": "<b>%{customdata[0]}</b><br>Organism: %{customdata[1]}<br>Kingdom: %{customdata[2]}<br>Phylum: %{customdata[3]}</b><br>Source ID: %{customdata[4]}<extra></extra>",
         "marker": {
          "color": "rgb(134, 211, 73)",
          "size": 7
         },
         "mode": "markers",
         "text": "methionine adenosyltransferase",
         "type": "scatter3d",
         "x": [
          0.25683161632973117
         ],
         "y": [
          0.13426146455874327
         ],
         "z": [
          0.008385510763646844
         ]
        },
        {
         "customdata": [
          [
           "Methionine adenosyltransferase",
           "Methanoculleus marisnigri",
           "Euryarchaeota",
           "Methanomicrobia",
           "KUK61883.1"
          ]
         ],
         "hovertemplate": "<b>%{customdata[0]}</b><br>Organism: %{customdata[1]}<br>Kingdom: %{customdata[2]}<br>Phylum: %{customdata[3]}</b><br>Source ID: %{customdata[4]}<extra></extra>",
         "marker": {
          "color": "rgb(66, 59, 130)",
          "size": 7
         },
         "mode": "markers",
         "text": "Methionine adenosyltransferase",
         "type": "scatter3d",
         "x": [
          -0.20099152747059593
         ],
         "y": [
          -0.05095694637061202
         ],
         "z": [
          -0.10177575897551469
         ]
        },
        {
         "customdata": [
          [
           "S-adenosylmethionine synthetase",
           "Halobacteriales archaeon QS_3_64_16",
           "Euryarchaeota",
           "Halobacteria",
           "PSP72731.1"
          ]
         ],
         "hovertemplate": "<b>%{customdata[0]}</b><br>Organism: %{customdata[1]}<br>Kingdom: %{customdata[2]}<br>Phylum: %{customdata[3]}</b><br>Source ID: %{customdata[4]}<extra></extra>",
         "marker": {
          "color": "rgb(70, 22, 104)",
          "size": 7
         },
         "mode": "markers",
         "text": "S-adenosylmethionine synthetase",
         "type": "scatter3d",
         "x": [
          -0.013846346089186367
         ],
         "y": [
          0.1523178627564625
         ],
         "z": [
          0.016274528393487673
         ]
        },
        {
         "customdata": [
          [
           "methionine adenosyltransferase",
           "Halorubrum vacuolatum",
           "Euryarchaeota",
           "Halobacteria",
           "WP_089384817.1"
          ]
         ],
         "hovertemplate": "<b>%{customdata[0]}</b><br>Organism: %{customdata[1]}<br>Kingdom: %{customdata[2]}<br>Phylum: %{customdata[3]}</b><br>Source ID: %{customdata[4]}<extra></extra>",
         "marker": {
          "color": "rgb(39, 128, 142)",
          "size": 7
         },
         "mode": "markers",
         "text": "methionine adenosyltransferase",
         "type": "scatter3d",
         "x": [
          -0.026955137588239815
         ],
         "y": [
          0.11339199904347713
         ],
         "z": [
          0.015922485558131513
         ]
        },
        {
         "customdata": [
          [
           "methionine adenosyltransferase",
           "Methanolinea sp.",
           "Euryarchaeota",
           "Methanomicrobia",
           "HII75663.1"
          ]
         ],
         "hovertemplate": "<b>%{customdata[0]}</b><br>Organism: %{customdata[1]}<br>Kingdom: %{customdata[2]}<br>Phylum: %{customdata[3]}</b><br>Source ID: %{customdata[4]}<extra></extra>",
         "marker": {
          "color": "rgb(48, 107, 142)",
          "size": 7
         },
         "mode": "markers",
         "text": "methionine adenosyltransferase",
         "type": "scatter3d",
         "x": [
          -0.17936430356221894
         ],
         "y": [
          -0.018612810182866753
         ],
         "z": [
          -0.06663600166605288
         ]
        },
        {
         "customdata": [
          [
           "methionine adenosyltransferase",
           "Euryarchaeota archaeon",
           "Euryarchaeota",
           null,
           "UCD92258.1"
          ]
         ],
         "hovertemplate": "<b>%{customdata[0]}</b><br>Organism: %{customdata[1]}<br>Kingdom: %{customdata[2]}<br>Phylum: %{customdata[3]}</b><br>Source ID: %{customdata[4]}<extra></extra>",
         "marker": {
          "color": "rgb(115, 207, 85)",
          "size": 7
         },
         "mode": "markers",
         "text": "methionine adenosyltransferase",
         "type": "scatter3d",
         "x": [
          0.21077686914282975
         ],
         "y": [
          -0.21410149177609444
         ],
         "z": [
          0.12491811965675109
         ]
        },
        {
         "customdata": [
          [
           "methionine adenosyltransferase",
           "Natronobeatus ordinarius",
           "Euryarchaeota",
           "Halobacteria",
           "WP_255194224.1"
          ]
         ],
         "hovertemplate": "<b>%{customdata[0]}</b><br>Organism: %{customdata[1]}<br>Kingdom: %{customdata[2]}<br>Phylum: %{customdata[3]}</b><br>Source ID: %{customdata[4]}<extra></extra>",
         "marker": {
          "color": "rgb(41, 170, 130)",
          "size": 7
         },
         "mode": "markers",
         "text": "methionine adenosyltransferase",
         "type": "scatter3d",
         "x": [
          -0.047539979589132315
         ],
         "y": [
          0.11672554319201688
         ],
         "z": [
          0.006684380924040092
         ]
        },
        {
         "customdata": [
          [
           "methionine adenosyltransferase",
           "Natronococcus amylolyticus",
           "Euryarchaeota",
           "Halobacteria",
           "WP_005555509.1"
          ]
         ],
         "hovertemplate": "<b>%{customdata[0]}</b><br>Organism: %{customdata[1]}<br>Kingdom: %{customdata[2]}<br>Phylum: %{customdata[3]}</b><br>Source ID: %{customdata[4]}<extra></extra>",
         "marker": {
          "color": "rgb(44, 116, 142)",
          "size": 7
         },
         "mode": "markers",
         "text": "methionine adenosyltransferase",
         "type": "scatter3d",
         "x": [
          -0.0221948388024104
         ],
         "y": [
          0.1323391475778323
         ],
         "z": [
          -0.009944165058204606
         ]
        },
        {
         "customdata": [
          [
           "archaeal S-adenosylmethionine synthetase",
           "halophilic archaeon J07HX5",
           "Euryarchaeota",
           "Halobacteria",
           "ERG88479.1"
          ]
         ],
         "hovertemplate": "<b>%{customdata[0]}</b><br>Organism: %{customdata[1]}<br>Kingdom: %{customdata[2]}<br>Phylum: %{customdata[3]}</b><br>Source ID: %{customdata[4]}<extra></extra>",
         "marker": {
          "color": "rgb(172, 220, 48)",
          "size": 7
         },
         "mode": "markers",
         "text": "archaeal S-adenosylmethionine synthetase",
         "type": "scatter3d",
         "x": [
          -0.0006660802050822259
         ],
         "y": [
          0.14865499347304778
         ],
         "z": [
          0.01052353272792443
         ]
        },
        {
         "customdata": [
          [
           "methionine adenosyltransferase",
           "Methanobrevibacter sp.",
           "Euryarchaeota",
           "Methanobacteria",
           "MCF0226734.1"
          ]
         ],
         "hovertemplate": "<b>%{customdata[0]}</b><br>Organism: %{customdata[1]}<br>Kingdom: %{customdata[2]}<br>Phylum: %{customdata[3]}</b><br>Source ID: %{customdata[4]}<extra></extra>",
         "marker": {
          "color": "rgb(35, 142, 140)",
          "size": 7
         },
         "mode": "markers",
         "text": "methionine adenosyltransferase",
         "type": "scatter3d",
         "x": [
          -0.06939774138206524
         ],
         "y": [
          0.01669805634842956
         ],
         "z": [
          -0.14816570565004086
         ]
        },
        {
         "customdata": [
          [
           "methionine adenosyltransferase",
           "Methanomicrobiales archaeon",
           "Euryarchaeota",
           "Methanomicrobia",
           "NMC89124.1"
          ]
         ],
         "hovertemplate": "<b>%{customdata[0]}</b><br>Organism: %{customdata[1]}<br>Kingdom: %{customdata[2]}<br>Phylum: %{customdata[3]}</b><br>Source ID: %{customdata[4]}<extra></extra>",
         "marker": {
          "color": "rgb(58, 83, 139)",
          "size": 7
         },
         "mode": "markers",
         "text": "methionine adenosyltransferase",
         "type": "scatter3d",
         "x": [
          -0.20106776220398567
         ],
         "y": [
          -0.054157230281760255
         ],
         "z": [
          -0.08997349725398182
         ]
        },
        {
         "customdata": [
          [
           "methionine adenosyltransferase",
           "Halopiger goleimassiliensis",
           "Euryarchaeota",
           "Halobacteria",
           "WP_049928531.1"
          ]
         ],
         "hovertemplate": "<b>%{customdata[0]}</b><br>Organism: %{customdata[1]}<br>Kingdom: %{customdata[2]}<br>Phylum: %{customdata[3]}</b><br>Source ID: %{customdata[4]}<extra></extra>",
         "marker": {
          "color": "rgb(46, 110, 142)",
          "size": 7
         },
         "mode": "markers",
         "text": "methionine adenosyltransferase",
         "type": "scatter3d",
         "x": [
          -0.016130110913211825
         ],
         "y": [
          0.13096867760161046
         ],
         "z": [
          -0.018125779332681058
         ]
        },
        {
         "customdata": [
          [
           "methionine adenosyltransferase",
           "Natrononativus amylolyticus",
           "Euryarchaeota",
           "Halobacteria",
           "WP_255167024.1"
          ]
         ],
         "hovertemplate": "<b>%{customdata[0]}</b><br>Organism: %{customdata[1]}<br>Kingdom: %{customdata[2]}<br>Phylum: %{customdata[3]}</b><br>Source ID: %{customdata[4]}<extra></extra>",
         "marker": {
          "color": "rgb(60, 79, 138)",
          "size": 7
         },
         "mode": "markers",
         "text": "methionine adenosyltransferase",
         "type": "scatter3d",
         "x": [
          -0.0022170771107512576
         ],
         "y": [
          0.131170015233419
         ],
         "z": [
          0.005009566635108049
         ]
        },
        {
         "customdata": [
          [
           "methionine adenosyltransferase",
           "Halopelagius inordinatus",
           "Euryarchaeota",
           "Halobacteria",
           "WP_092893338.1"
          ]
         ],
         "hovertemplate": "<b>%{customdata[0]}</b><br>Organism: %{customdata[1]}<br>Kingdom: %{customdata[2]}<br>Phylum: %{customdata[3]}</b><br>Source ID: %{customdata[4]}<extra></extra>",
         "marker": {
          "color": "rgb(64, 67, 134)",
          "size": 7
         },
         "mode": "markers",
         "text": "methionine adenosyltransferase",
         "type": "scatter3d",
         "x": [
          -0.04795601685594687
         ],
         "y": [
          0.11036412300076522
         ],
         "z": [
          -0.0020000547616237027
         ]
        },
        {
         "customdata": [
          [
           "methionine adenosyltransferase",
           "Natronoarchaeum rubrum",
           "Euryarchaeota",
           "Halobacteria",
           "WP_256392138.1"
          ]
         ],
         "hovertemplate": "<b>%{customdata[0]}</b><br>Organism: %{customdata[1]}<br>Kingdom: %{customdata[2]}<br>Phylum: %{customdata[3]}</b><br>Source ID: %{customdata[4]}<extra></extra>",
         "marker": {
          "color": "rgb(60, 77, 138)",
          "size": 7
         },
         "mode": "markers",
         "text": "methionine adenosyltransferase",
         "type": "scatter3d",
         "x": [
          -0.030940971610893764
         ],
         "y": [
          0.11296924483450725
         ],
         "z": [
          0.008297744036620975
         ]
        },
        {
         "customdata": [
          [
           "methionine adenosyltransferase",
           "Halomarina rubra",
           "Euryarchaeota",
           "Halobacteria",
           "WP_250875294.1"
          ]
         ],
         "hovertemplate": "<b>%{customdata[0]}</b><br>Organism: %{customdata[1]}<br>Kingdom: %{customdata[2]}<br>Phylum: %{customdata[3]}</b><br>Source ID: %{customdata[4]}<extra></extra>",
         "marker": {
          "color": "rgb(81, 194, 105)",
          "size": 7
         },
         "mode": "markers",
         "text": "methionine adenosyltransferase",
         "type": "scatter3d",
         "x": [
          -0.04187942647447064
         ],
         "y": [
          0.12265279877391165
         ],
         "z": [
          0.002171612146383973
         ]
        },
        {
         "customdata": [
          [
           "methionine adenosyltransferase",
           "Methanoregulaceae archaeon",
           "Euryarchaeota",
           "Methanomicrobia",
           "RPI39353.1"
          ]
         ],
         "hovertemplate": "<b>%{customdata[0]}</b><br>Organism: %{customdata[1]}<br>Kingdom: %{customdata[2]}<br>Phylum: %{customdata[3]}</b><br>Source ID: %{customdata[4]}<extra></extra>",
         "marker": {
          "color": "rgb(36, 136, 141)",
          "size": 7
         },
         "mode": "markers",
         "text": "methionine adenosyltransferase",
         "type": "scatter3d",
         "x": [
          -0.2077776195099853
         ],
         "y": [
          -0.05578354671180043
         ],
         "z": [
          -0.09648376075666949
         ]
        },
        {
         "customdata": [
          [
           "methionine adenosyltransferase",
           "Pyrodictium occultum",
           "Thermoproteota",
           "Desulfurococcales",
           "WP_058370489.1"
          ]
         ],
         "hovertemplate": "<b>%{customdata[0]}</b><br>Organism: %{customdata[1]}<br>Kingdom: %{customdata[2]}<br>Phylum: %{customdata[3]}</b><br>Source ID: %{customdata[4]}<extra></extra>",
         "marker": {
          "color": "rgb(32, 160, 136)",
          "size": 7
         },
         "mode": "markers",
         "text": "methionine adenosyltransferase",
         "type": "scatter3d",
         "x": [
          0.22387730828962962
         ],
         "y": [
          0.11326633556740157
         ],
         "z": [
          0.019050339548874338
         ]
        },
        {
         "customdata": [
          [
           "methionine adenosyltransferase",
           "Candidatus Thermoplasmatota archaeon",
           "Candidatus Thermoplasmatota",
           null,
           "MBS3782639.1"
          ]
         ],
         "hovertemplate": "<b>%{customdata[0]}</b><br>Organism: %{customdata[1]}<br>Kingdom: %{customdata[2]}<br>Phylum: %{customdata[3]}</b><br>Source ID: %{customdata[4]}<extra></extra>",
         "marker": {
          "color": "rgb(72, 40, 120)",
          "size": 7
         },
         "mode": "markers",
         "text": "methionine adenosyltransferase",
         "type": "scatter3d",
         "x": [
          0.222732215454674
         ],
         "y": [
          -0.23072656727618934
         ],
         "z": [
          0.1382408654198321
         ]
        },
        {
         "customdata": [
          [
           "methionine adenosyltransferase",
           "Candidatus Verstraetearchaeota archaeon",
           "Candidatus Verstraetearchaeota",
           null,
           "NHW44568.1"
          ]
         ],
         "hovertemplate": "<b>%{customdata[0]}</b><br>Organism: %{customdata[1]}<br>Kingdom: %{customdata[2]}<br>Phylum: %{customdata[3]}</b><br>Source ID: %{customdata[4]}<extra></extra>",
         "marker": {
          "color": "rgb(49, 179, 124)",
          "size": 7
         },
         "mode": "markers",
         "text": "methionine adenosyltransferase",
         "type": "scatter3d",
         "x": [
          0.42834882177713723
         ],
         "y": [
          0.2543724776887983
         ],
         "z": [
          0.007975996506161896
         ]
        },
        {
         "customdata": [
          [
           "S-adenosylmethionine synthetase",
           "Thermoplasmatales archaeon ex4484_30",
           "Candidatus Thermoplasmatota",
           "Thermoplasmatales",
           "OYT60719.1"
          ]
         ],
         "hovertemplate": "<b>%{customdata[0]}</b><br>Organism: %{customdata[1]}<br>Kingdom: %{customdata[2]}<br>Phylum: %{customdata[3]}</b><br>Source ID: %{customdata[4]}<extra></extra>",
         "marker": {
          "color": "rgb(220, 227, 40)",
          "size": 7
         },
         "mode": "markers",
         "text": "S-adenosylmethionine synthetase",
         "type": "scatter3d",
         "x": [
          0.29563786017361715
         ],
         "y": [
          -0.3283790371944876
         ],
         "z": [
          0.24513708796251107
         ]
        },
        {
         "customdata": [
          [
           "methionine adenosyltransferase",
           "Salinadaptatus halalkaliphilus",
           "Euryarchaeota",
           "Halobacteria",
           "WP_141464562.1"
          ]
         ],
         "hovertemplate": "<b>%{customdata[0]}</b><br>Organism: %{customdata[1]}<br>Kingdom: %{customdata[2]}<br>Phylum: %{customdata[3]}</b><br>Source ID: %{customdata[4]}<extra></extra>",
         "marker": {
          "color": "rgb(249, 230, 37)",
          "size": 7
         },
         "mode": "markers",
         "text": "methionine adenosyltransferase",
         "type": "scatter3d",
         "x": [
          -0.005211299154455561
         ],
         "y": [
          0.13706408166449155
         ],
         "z": [
          -0.009811114867519587
         ]
        },
        {
         "customdata": [
          [
           "methionine adenosyltransferase",
           "Halolamina salifodinae",
           "Euryarchaeota",
           "Halobacteria",
           "WP_209490980.1"
          ]
         ],
         "hovertemplate": "<b>%{customdata[0]}</b><br>Organism: %{customdata[1]}<br>Kingdom: %{customdata[2]}<br>Phylum: %{customdata[3]}</b><br>Source ID: %{customdata[4]}<extra></extra>",
         "marker": {
          "color": "rgb(71, 43, 122)",
          "size": 7
         },
         "mode": "markers",
         "text": "methionine adenosyltransferase",
         "type": "scatter3d",
         "x": [
          -0.032460147525716035
         ],
         "y": [
          0.14803340563554662
         ],
         "z": [
          -0.0008625486716904369
         ]
        },
        {
         "customdata": [
          [
           "methionine adenosyltransferase",
           "Thermoplasmata archaeon",
           "Candidatus Thermoplasmatota",
           null,
           "HID73726.1"
          ]
         ],
         "hovertemplate": "<b>%{customdata[0]}</b><br>Organism: %{customdata[1]}<br>Kingdom: %{customdata[2]}<br>Phylum: %{customdata[3]}</b><br>Source ID: %{customdata[4]}<extra></extra>",
         "marker": {
          "color": "rgb(176, 221, 46)",
          "size": 7
         },
         "mode": "markers",
         "text": "methionine adenosyltransferase",
         "type": "scatter3d",
         "x": [
          0.23077294214220972
         ],
         "y": [
          -0.28440966665496376
         ],
         "z": [
          0.11096429369427224
         ]
        },
        {
         "customdata": [
          [
           "S-adenosylmethionine synthetase",
           "Halobacteriales archaeon SW_6_65_15",
           "Euryarchaeota",
           "Halobacteria",
           "PSQ49033.1"
          ]
         ],
         "hovertemplate": "<b>%{customdata[0]}</b><br>Organism: %{customdata[1]}<br>Kingdom: %{customdata[2]}<br>Phylum: %{customdata[3]}</b><br>Source ID: %{customdata[4]}<extra></extra>",
         "marker": {
          "color": "rgb(236, 229, 38)",
          "size": 7
         },
         "mode": "markers",
         "text": "S-adenosylmethionine synthetase",
         "type": "scatter3d",
         "x": [
          -0.034934247386590074
         ],
         "y": [
          0.113419241601778
         ],
         "z": [
          -0.01222066469781257
         ]
        },
        {
         "customdata": [
          [
           "methionine adenosyltransferase",
           "Candidatus Bathyarchaeota archaeon",
           "Candidatus Bathyarchaeota",
           null,
           "MCJ7609030.1"
          ]
         ],
         "hovertemplate": "<b>%{customdata[0]}</b><br>Organism: %{customdata[1]}<br>Kingdom: %{customdata[2]}<br>Phylum: %{customdata[3]}</b><br>Source ID: %{customdata[4]}<extra></extra>",
         "marker": {
          "color": "rgb(55, 184, 120)",
          "size": 7
         },
         "mode": "markers",
         "text": "methionine adenosyltransferase",
         "type": "scatter3d",
         "x": [
          0.4124345684970245
         ],
         "y": [
          -0.7874742367233859
         ],
         "z": [
          -0.8902188644525144
         ]
        },
        {
         "customdata": [
          [
           "S-adenosylmethionine synthetase",
           "Candidatus Altiarchaeales archaeon WOR_SM1_79",
           "Candidatus Altarchaeota",
           null,
           "ODS37233.1"
          ]
         ],
         "hovertemplate": "<b>%{customdata[0]}</b><br>Organism: %{customdata[1]}<br>Kingdom: %{customdata[2]}<br>Phylum: %{customdata[3]}</b><br>Source ID: %{customdata[4]}<extra></extra>",
         "marker": {
          "color": "rgb(53, 94, 140)",
          "size": 7
         },
         "mode": "markers",
         "text": "S-adenosylmethionine synthetase",
         "type": "scatter3d",
         "x": [
          -0.049775320547777877
         ],
         "y": [
          -0.07474977640055631
         ],
         "z": [
          0.21547665709222102
         ]
        },
        {
         "customdata": [
          [
           "methionine adenosyltransferase",
           "Candidatus Bathyarchaeota archaeon",
           "Candidatus Bathyarchaeota",
           null,
           "MCK4243364.1"
          ]
         ],
         "hovertemplate": "<b>%{customdata[0]}</b><br>Organism: %{customdata[1]}<br>Kingdom: %{customdata[2]}<br>Phylum: %{customdata[3]}</b><br>Source ID: %{customdata[4]}<extra></extra>",
         "marker": {
          "color": "rgb(55, 184, 120)",
          "size": 7
         },
         "mode": "markers",
         "text": "methionine adenosyltransferase",
         "type": "scatter3d",
         "x": [
          0.32306262978665345
         ],
         "y": [
          0.1547691456629923
         ],
         "z": [
          -0.0737427926780059
         ]
        },
        {
         "customdata": [
          [
           "methionine adenosyltransferase",
           "Methanomicrobiales archaeon",
           "Euryarchaeota",
           "Methanomicrobia",
           "NLA30213.1"
          ]
         ],
         "hovertemplate": "<b>%{customdata[0]}</b><br>Organism: %{customdata[1]}<br>Kingdom: %{customdata[2]}<br>Phylum: %{customdata[3]}</b><br>Source ID: %{customdata[4]}<extra></extra>",
         "marker": {
          "color": "rgb(58, 83, 139)",
          "size": 7
         },
         "mode": "markers",
         "text": "methionine adenosyltransferase",
         "type": "scatter3d",
         "x": [
          -0.21742973017498787
         ],
         "y": [
          -0.04862078370224918
         ],
         "z": [
          -0.09596896861271657
         ]
        },
        {
         "customdata": [
          [
           "S-adenosylmethionine synthetase",
           "Euryarchaeota archaeon RBG_13_57_23",
           "Euryarchaeota",
           null,
           "OGS43622.1"
          ]
         ],
         "hovertemplate": "<b>%{customdata[0]}</b><br>Organism: %{customdata[1]}<br>Kingdom: %{customdata[2]}<br>Phylum: %{customdata[3]}</b><br>Source ID: %{customdata[4]}<extra></extra>",
         "marker": {
          "color": "rgb(34, 148, 139)",
          "size": 7
         },
         "mode": "markers",
         "text": "S-adenosylmethionine synthetase",
         "type": "scatter3d",
         "x": [
          0.16760334124749243
         ],
         "y": [
          -0.20090046088971775
         ],
         "z": [
          0.10783094382308064
         ]
        },
        {
         "customdata": [
          [
           "methionine adenosyltransferase",
           "Halobaculum rubrum",
           "Euryarchaeota",
           "Halobacteria",
           "WP_222914261.1"
          ]
         ],
         "hovertemplate": "<b>%{customdata[0]}</b><br>Organism: %{customdata[1]}<br>Kingdom: %{customdata[2]}<br>Phylum: %{customdata[3]}</b><br>Source ID: %{customdata[4]}<extra></extra>",
         "marker": {
          "color": "rgb(70, 47, 124)",
          "size": 7
         },
         "mode": "markers",
         "text": "methionine adenosyltransferase",
         "type": "scatter3d",
         "x": [
          -0.01792331357883712
         ],
         "y": [
          0.14122696485090833
         ],
         "z": [
          -0.017460809022098626
         ]
        },
        {
         "customdata": [
          [
           "methionine adenosyltransferase",
           "Candidatus Bathyarchaeota archaeon",
           "Candidatus Bathyarchaeota",
           null,
           "UCH01986.1"
          ]
         ],
         "hovertemplate": "<b>%{customdata[0]}</b><br>Organism: %{customdata[1]}<br>Kingdom: %{customdata[2]}<br>Phylum: %{customdata[3]}</b><br>Source ID: %{customdata[4]}<extra></extra>",
         "marker": {
          "color": "rgb(55, 184, 120)",
          "size": 7
         },
         "mode": "markers",
         "text": "methionine adenosyltransferase",
         "type": "scatter3d",
         "x": [
          0.30802606698031354
         ],
         "y": [
          0.19778908155381536
         ],
         "z": [
          -0.053681498464740234
         ]
        },
        {
         "customdata": [
          [
           "methionine adenosyltransferase",
           "Methanophagales archaeon",
           "Euryarchaeota",
           "Methanomicrobia",
           "MBE0517364.1"
          ]
         ],
         "hovertemplate": "<b>%{customdata[0]}</b><br>Organism: %{customdata[1]}<br>Kingdom: %{customdata[2]}<br>Phylum: %{customdata[3]}</b><br>Source ID: %{customdata[4]}<extra></extra>",
         "marker": {
          "color": "rgb(63, 70, 135)",
          "size": 7
         },
         "mode": "markers",
         "text": "methionine adenosyltransferase",
         "type": "scatter3d",
         "x": [
          -0.2049231101470829
         ],
         "y": [
          -0.07323061023271853
         ],
         "z": [
          0.03716441991705909
         ]
        },
        {
         "customdata": [
          [
           "methionine adenosyltransferase",
           "Natronomonas marina",
           "Euryarchaeota",
           "Halobacteria",
           "WP_254841269.1"
          ]
         ],
         "hovertemplate": "<b>%{customdata[0]}</b><br>Organism: %{customdata[1]}<br>Kingdom: %{customdata[2]}<br>Phylum: %{customdata[3]}</b><br>Source ID: %{customdata[4]}<extra></extra>",
         "marker": {
          "color": "rgb(52, 97, 141)",
          "size": 7
         },
         "mode": "markers",
         "text": "methionine adenosyltransferase",
         "type": "scatter3d",
         "x": [
          -0.0036201228901662093
         ],
         "y": [
          0.1469862696965148
         ],
         "z": [
          -0.009802396275584496
         ]
        },
        {
         "customdata": [
          [
           "methionine adenosyltransferase",
           "Euryarchaeota archaeon",
           "Euryarchaeota",
           null,
           "MBM4237193.1"
          ]
         ],
         "hovertemplate": "<b>%{customdata[0]}</b><br>Organism: %{customdata[1]}<br>Kingdom: %{customdata[2]}<br>Phylum: %{customdata[3]}</b><br>Source ID: %{customdata[4]}<extra></extra>",
         "marker": {
          "color": "rgb(115, 207, 85)",
          "size": 7
         },
         "mode": "markers",
         "text": "methionine adenosyltransferase",
         "type": "scatter3d",
         "x": [
          0.19336432605076165
         ],
         "y": [
          -0.23606177325494052
         ],
         "z": [
          0.12628677961535928
         ]
        },
        {
         "customdata": [
          [
           "methionine adenosyltransferase",
           "Halosolutus amylolyticus",
           "Euryarchaeota",
           "Halobacteria",
           "WP_250142161.1"
          ]
         ],
         "hovertemplate": "<b>%{customdata[0]}</b><br>Organism: %{customdata[1]}<br>Kingdom: %{customdata[2]}<br>Phylum: %{customdata[3]}</b><br>Source ID: %{customdata[4]}<extra></extra>",
         "marker": {
          "color": "rgb(106, 204, 90)",
          "size": 7
         },
         "mode": "markers",
         "text": "methionine adenosyltransferase",
         "type": "scatter3d",
         "x": [
          -0.027590738286474358
         ],
         "y": [
          0.13243506387013326
         ],
         "z": [
          0.02650745400768922
         ]
        },
        {
         "customdata": [
          [
           "methionine adenosyltransferase",
           "Halogranum gelatinilyticum",
           "Euryarchaeota",
           "Halobacteria",
           "WP_089698184.1"
          ]
         ],
         "hovertemplate": "<b>%{customdata[0]}</b><br>Organism: %{customdata[1]}<br>Kingdom: %{customdata[2]}<br>Phylum: %{customdata[3]}</b><br>Source ID: %{customdata[4]}<extra></extra>",
         "marker": {
          "color": "rgb(88, 197, 101)",
          "size": 7
         },
         "mode": "markers",
         "text": "methionine adenosyltransferase",
         "type": "scatter3d",
         "x": [
          -0.01939233426087702
         ],
         "y": [
          0.15533398819439387
         ],
         "z": [
          0.007966354980102463
         ]
        },
        {
         "customdata": [
          [
           "methionine adenosyltransferase",
           "Euryarchaeota archaeon",
           "Euryarchaeota",
           null,
           "MCE5296380.1"
          ]
         ],
         "hovertemplate": "<b>%{customdata[0]}</b><br>Organism: %{customdata[1]}<br>Kingdom: %{customdata[2]}<br>Phylum: %{customdata[3]}</b><br>Source ID: %{customdata[4]}<extra></extra>",
         "marker": {
          "color": "rgb(115, 207, 85)",
          "size": 7
         },
         "mode": "markers",
         "text": "methionine adenosyltransferase",
         "type": "scatter3d",
         "x": [
          0.2066504956574826
         ],
         "y": [
          -0.24582515491949808
         ],
         "z": [
          0.1264407559386889
         ]
        },
        {
         "customdata": [
          [
           "methionine adenosyltransferase",
           "Halapricum desulfuricans",
           "Euryarchaeota",
           "Halobacteria",
           "WP_229110273.1"
          ]
         ],
         "hovertemplate": "<b>%{customdata[0]}</b><br>Organism: %{customdata[1]}<br>Kingdom: %{customdata[2]}<br>Phylum: %{customdata[3]}</b><br>Source ID: %{customdata[4]}<extra></extra>",
         "marker": {
          "color": "rgb(210, 226, 41)",
          "size": 7
         },
         "mode": "markers",
         "text": "methionine adenosyltransferase",
         "type": "scatter3d",
         "x": [
          -0.03418985748130383
         ],
         "y": [
          0.13699307951988277
         ],
         "z": [
          -0.006674025299040467
         ]
        },
        {
         "customdata": [
          [
           "methionine adenosyltransferase",
           "Methanosphaera sp. Vir-13MRS",
           "Euryarchaeota",
           "Methanobacteria",
           "WP_274870358.1"
          ]
         ],
         "hovertemplate": "<b>%{customdata[0]}</b><br>Organism: %{customdata[1]}<br>Kingdom: %{customdata[2]}<br>Phylum: %{customdata[3]}</b><br>Source ID: %{customdata[4]}<extra></extra>",
         "marker": {
          "color": "rgb(72, 41, 121)",
          "size": 7
         },
         "mode": "markers",
         "text": "methionine adenosyltransferase",
         "type": "scatter3d",
         "x": [
          -0.07631711870190798
         ],
         "y": [
          -0.0011682815883943534
         ],
         "z": [
          -0.16135285182309628
         ]
        },
        {
         "customdata": [
          [
           "methionine adenosyltransferase",
           "Halostella pelagica",
           "Euryarchaeota",
           "Halobacteria",
           "WP_135534433.1"
          ]
         ],
         "hovertemplate": "<b>%{customdata[0]}</b><br>Organism: %{customdata[1]}<br>Kingdom: %{customdata[2]}<br>Phylum: %{customdata[3]}</b><br>Source ID: %{customdata[4]}<extra></extra>",
         "marker": {
          "color": "rgb(48, 177, 125)",
          "size": 7
         },
         "mode": "markers",
         "text": "methionine adenosyltransferase",
         "type": "scatter3d",
         "x": [
          -0.030683985996229245
         ],
         "y": [
          0.1251237614902678
         ],
         "z": [
          -0.01902825159975578
         ]
        },
        {
         "customdata": [
          [
           "methionine adenosyltransferase",
           "Candidatus Altiarchaeota archaeon",
           "Candidatus Altarchaeota",
           null,
           "MBN2518333.1"
          ]
         ],
         "hovertemplate": "<b>%{customdata[0]}</b><br>Organism: %{customdata[1]}<br>Kingdom: %{customdata[2]}<br>Phylum: %{customdata[3]}</b><br>Source ID: %{customdata[4]}<extra></extra>",
         "marker": {
          "color": "rgb(80, 194, 106)",
          "size": 7
         },
         "mode": "markers",
         "text": "methionine adenosyltransferase",
         "type": "scatter3d",
         "x": [
          -0.8128475356863178
         ],
         "y": [
          0.4695984617702563
         ],
         "z": [
          0.8362077023569224
         ]
        },
        {
         "customdata": [
          [
           "methionine adenosyltransferase",
           "Euryarchaeota archaeon",
           "Euryarchaeota",
           null,
           "MBM4240268.1"
          ]
         ],
         "hovertemplate": "<b>%{customdata[0]}</b><br>Organism: %{customdata[1]}<br>Kingdom: %{customdata[2]}<br>Phylum: %{customdata[3]}</b><br>Source ID: %{customdata[4]}<extra></extra>",
         "marker": {
          "color": "rgb(115, 207, 85)",
          "size": 7
         },
         "mode": "markers",
         "text": "methionine adenosyltransferase",
         "type": "scatter3d",
         "x": [
          -0.11356522621220301
         ],
         "y": [
          0.0028100615712115568
         ],
         "z": [
          -0.1323689928707888
         ]
        },
        {
         "customdata": [
          [
           "methionine adenosyltransferase",
           "Natronosalvus amylolyticus",
           "Euryarchaeota",
           "Halobacteria",
           "WP_254809959.1"
          ]
         ],
         "hovertemplate": "<b>%{customdata[0]}</b><br>Organism: %{customdata[1]}<br>Kingdom: %{customdata[2]}<br>Phylum: %{customdata[3]}</b><br>Source ID: %{customdata[4]}<extra></extra>",
         "marker": {
          "color": "rgb(39, 128, 142)",
          "size": 7
         },
         "mode": "markers",
         "text": "methionine adenosyltransferase",
         "type": "scatter3d",
         "x": [
          -0.0380750441941392
         ],
         "y": [
          0.1133797451146904
         ],
         "z": [
          0.005571837854429271
         ]
        },
        {
         "customdata": [
          [
           "methionine adenosyltransferase",
           "Desulfurococcaceae archaeon",
           "Thermoproteota",
           "Desulfurococcales",
           "MCC6022082.1"
          ]
         ],
         "hovertemplate": "<b>%{customdata[0]}</b><br>Organism: %{customdata[1]}<br>Kingdom: %{customdata[2]}<br>Phylum: %{customdata[3]}</b><br>Source ID: %{customdata[4]}<extra></extra>",
         "marker": {
          "color": "rgb(69, 50, 125)",
          "size": 7
         },
         "mode": "markers",
         "text": "methionine adenosyltransferase",
         "type": "scatter3d",
         "x": [
          0.22953833262401804
         ],
         "y": [
          0.10945269094588773
         ],
         "z": [
          0.009499220493039771
         ]
        },
        {
         "customdata": [
          [
           "methionine adenosyltransferase",
           "Methanoculleus horonobensis",
           "Euryarchaeota",
           "Methanomicrobia",
           "WP_067075402.1"
          ]
         ],
         "hovertemplate": "<b>%{customdata[0]}</b><br>Organism: %{customdata[1]}<br>Kingdom: %{customdata[2]}<br>Phylum: %{customdata[3]}</b><br>Source ID: %{customdata[4]}<extra></extra>",
         "marker": {
          "color": "rgb(72, 39, 119)",
          "size": 7
         },
         "mode": "markers",
         "text": "methionine adenosyltransferase",
         "type": "scatter3d",
         "x": [
          -0.22612383580280218
         ],
         "y": [
          -0.04021697754627432
         ],
         "z": [
          -0.09076542037598563
         ]
        },
        {
         "customdata": [
          [
           "methionine adenosyltransferase",
           "Halogeometricum pallidum",
           "Euryarchaeota",
           "Halobacteria",
           "WP_008383527.1"
          ]
         ],
         "hovertemplate": "<b>%{customdata[0]}</b><br>Organism: %{customdata[1]}<br>Kingdom: %{customdata[2]}<br>Phylum: %{customdata[3]}</b><br>Source ID: %{customdata[4]}<extra></extra>",
         "marker": {
          "color": "rgb(241, 229, 38)",
          "size": 7
         },
         "mode": "markers",
         "text": "methionine adenosyltransferase",
         "type": "scatter3d",
         "x": [
          -0.011372426184766828
         ],
         "y": [
          0.15307798099362313
         ],
         "z": [
          -0.0013433591489672224
         ]
        },
        {
         "customdata": [
          [
           "methionine adenosyltransferase",
           "Thermoplasmata archaeon",
           "Candidatus Thermoplasmatota",
           null,
           "HIH01356.1"
          ]
         ],
         "hovertemplate": "<b>%{customdata[0]}</b><br>Organism: %{customdata[1]}<br>Kingdom: %{customdata[2]}<br>Phylum: %{customdata[3]}</b><br>Source ID: %{customdata[4]}<extra></extra>",
         "marker": {
          "color": "rgb(176, 221, 46)",
          "size": 7
         },
         "mode": "markers",
         "text": "methionine adenosyltransferase",
         "type": "scatter3d",
         "x": [
          0.20609604583786859
         ],
         "y": [
          -0.23663445902931035
         ],
         "z": [
          0.142067299373228
         ]
        },
        {
         "customdata": [
          [
           "S-adenosylmethionine synthetase",
           "candidate division MSBL1 archaeon SCGC-AAA259J03",
           "Euryarchaeota",
           null,
           "KXA98460.1"
          ]
         ],
         "hovertemplate": "<b>%{customdata[0]}</b><br>Organism: %{customdata[1]}<br>Kingdom: %{customdata[2]}<br>Phylum: %{customdata[3]}</b><br>Source ID: %{customdata[4]}<extra></extra>",
         "marker": {
          "color": "rgb(73, 191, 109)",
          "size": 7
         },
         "mode": "markers",
         "text": "S-adenosylmethionine synthetase",
         "type": "scatter3d",
         "x": [
          0.31201788077651876
         ],
         "y": [
          0.33102750320824537
         ],
         "z": [
          0.5791711663874501
         ]
        },
        {
         "customdata": [
          [
           "methionine adenosyltransferase",
           "Methanomicrobiaceae archaeon",
           "Euryarchaeota",
           "Methanomicrobia",
           "MCC7566529.1"
          ]
         ],
         "hovertemplate": "<b>%{customdata[0]}</b><br>Organism: %{customdata[1]}<br>Kingdom: %{customdata[2]}<br>Phylum: %{customdata[3]}</b><br>Source ID: %{customdata[4]}<extra></extra>",
         "marker": {
          "color": "rgb(52, 182, 122)",
          "size": 7
         },
         "mode": "markers",
         "text": "methionine adenosyltransferase",
         "type": "scatter3d",
         "x": [
          -0.19678577088406451
         ],
         "y": [
          -0.0448296414623408
         ],
         "z": [
          -0.07095414300343318
         ]
        },
        {
         "customdata": [
          [
           "methionine adenosyltransferase",
           "Natronobiforma cellulositropha",
           "Euryarchaeota",
           "Halobacteria",
           "WP_263020555.1"
          ]
         ],
         "hovertemplate": "<b>%{customdata[0]}</b><br>Organism: %{customdata[1]}<br>Kingdom: %{customdata[2]}<br>Phylum: %{customdata[3]}</b><br>Source ID: %{customdata[4]}<extra></extra>",
         "marker": {
          "color": "rgb(154, 216, 60)",
          "size": 7
         },
         "mode": "markers",
         "text": "methionine adenosyltransferase",
         "type": "scatter3d",
         "x": [
          -0.037193849388562246
         ],
         "y": [
          0.13726424413238983
         ],
         "z": [
          0.015455508860767976
         ]
        },
        {
         "customdata": [
          [
           "methionine adenosyltransferase",
           "Thermosphaera sp.",
           "Thermoproteota",
           "Desulfurococcales",
           "MCC6054709.1"
          ]
         ],
         "hovertemplate": "<b>%{customdata[0]}</b><br>Organism: %{customdata[1]}<br>Kingdom: %{customdata[2]}<br>Phylum: %{customdata[3]}</b><br>Source ID: %{customdata[4]}<extra></extra>",
         "marker": {
          "color": "rgb(222, 227, 40)",
          "size": 7
         },
         "mode": "markers",
         "text": "methionine adenosyltransferase",
         "type": "scatter3d",
         "x": [
          0.2050964269245425
         ],
         "y": [
          0.10013884191429695
         ],
         "z": [
          0.009836252978547334
         ]
        },
        {
         "customdata": [
          [
           "methionine adenosyltransferase",
           "Methanofollis sp. W23",
           "Euryarchaeota",
           "Methanomicrobia",
           "WP_209628966.1"
          ]
         ],
         "hovertemplate": "<b>%{customdata[0]}</b><br>Organism: %{customdata[1]}<br>Kingdom: %{customdata[2]}<br>Phylum: %{customdata[3]}</b><br>Source ID: %{customdata[4]}<extra></extra>",
         "marker": {
          "color": "rgb(69, 51, 125)",
          "size": 7
         },
         "mode": "markers",
         "text": "methionine adenosyltransferase",
         "type": "scatter3d",
         "x": [
          -0.1965339399696559
         ],
         "y": [
          -0.03290184433292095
         ],
         "z": [
          -0.06369669058784387
         ]
        },
        {
         "customdata": [
          [
           "methionine adenosyltransferase",
           "Haladaptatus salinisoli",
           "Euryarchaeota",
           "Halobacteria",
           "WP_227354255.1"
          ]
         ],
         "hovertemplate": "<b>%{customdata[0]}</b><br>Organism: %{customdata[1]}<br>Kingdom: %{customdata[2]}<br>Phylum: %{customdata[3]}</b><br>Source ID: %{customdata[4]}<extra></extra>",
         "marker": {
          "color": "rgb(58, 81, 138)",
          "size": 7
         },
         "mode": "markers",
         "text": "methionine adenosyltransferase",
         "type": "scatter3d",
         "x": [
          -0.04802285842832433
         ],
         "y": [
          0.12365852898430832
         ],
         "z": [
          0.00848943137713002
         ]
        },
        {
         "customdata": [
          [
           "methionine adenosyltransferase",
           "Thermoprotei archaeon",
           "Thermoproteota",
           null,
           "RLG86825.1"
          ]
         ],
         "hovertemplate": "<b>%{customdata[0]}</b><br>Organism: %{customdata[1]}<br>Kingdom: %{customdata[2]}<br>Phylum: %{customdata[3]}</b><br>Source ID: %{customdata[4]}<extra></extra>",
         "marker": {
          "color": "rgb(183, 222, 43)",
          "size": 7
         },
         "mode": "markers",
         "text": "methionine adenosyltransferase",
         "type": "scatter3d",
         "x": [
          0.25490647979098263
         ],
         "y": [
          0.12746312902850804
         ],
         "z": [
          0.002250961065709231
         ]
        },
        {
         "customdata": [
          [
           "methionine adenosyltransferase",
           "Desulfurococcaceae archaeon",
           "Thermoproteota",
           "Desulfurococcales",
           "PWV37647.1"
          ]
         ],
         "hovertemplate": "<b>%{customdata[0]}</b><br>Organism: %{customdata[1]}<br>Kingdom: %{customdata[2]}<br>Phylum: %{customdata[3]}</b><br>Source ID: %{customdata[4]}<extra></extra>",
         "marker": {
          "color": "rgb(69, 50, 125)",
          "size": 7
         },
         "mode": "markers",
         "text": "methionine adenosyltransferase",
         "type": "scatter3d",
         "x": [
          0.22812517987034497
         ],
         "y": [
          0.1460115681286942
         ],
         "z": [
          0.013267020551854481
         ]
        },
        {
         "customdata": [
          [
           "methionine adenosyltransferase",
           "Salinilacihabitans rarus",
           "Euryarchaeota",
           "Halobacteria",
           "WP_254768129.1"
          ]
         ],
         "hovertemplate": "<b>%{customdata[0]}</b><br>Organism: %{customdata[1]}<br>Kingdom: %{customdata[2]}<br>Phylum: %{customdata[3]}</b><br>Source ID: %{customdata[4]}<extra></extra>",
         "marker": {
          "color": "rgb(43, 172, 128)",
          "size": 7
         },
         "mode": "markers",
         "text": "methionine adenosyltransferase",
         "type": "scatter3d",
         "x": [
          0.000565747779672603
         ],
         "y": [
          0.13910412755816623
         ],
         "z": [
          -0.004821599059519937
         ]
        },
        {
         "customdata": [
          [
           "methionine adenosyltransferase",
           "Halohasta litchfieldiae",
           "Euryarchaeota",
           "Halobacteria",
           "WP_089670865.1"
          ]
         ],
         "hovertemplate": "<b>%{customdata[0]}</b><br>Organism: %{customdata[1]}<br>Kingdom: %{customdata[2]}<br>Phylum: %{customdata[3]}</b><br>Source ID: %{customdata[4]}<extra></extra>",
         "marker": {
          "color": "rgb(49, 104, 142)",
          "size": 7
         },
         "mode": "markers",
         "text": "methionine adenosyltransferase",
         "type": "scatter3d",
         "x": [
          -0.03452960571301807
         ],
         "y": [
          0.1431426844338317
         ],
         "z": [
          0.011473610276587288
         ]
        },
        {
         "customdata": [
          [
           "methionine adenosyltransferase",
           "Candidatus Nanohaloarchaeota archaeon QJJ-5",
           "Candidatus Nanohaloarchaeota",
           null,
           "MCJ7428959.1"
          ]
         ],
         "hovertemplate": "<b>%{customdata[0]}</b><br>Organism: %{customdata[1]}<br>Kingdom: %{customdata[2]}<br>Phylum: %{customdata[3]}</b><br>Source ID: %{customdata[4]}<extra></extra>",
         "marker": {
          "color": "rgb(35, 143, 140)",
          "size": 7
         },
         "mode": "markers",
         "text": "methionine adenosyltransferase",
         "type": "scatter3d",
         "x": [
          -0.8585169810732752
         ],
         "y": [
          -0.2586737101856149
         ],
         "z": [
          -0.5963398335589324
         ]
        },
        {
         "customdata": [
          [
           "methionine adenosyltransferase",
           "Natribaculum luteum",
           "Euryarchaeota",
           "Halobacteria",
           "WP_246968680.1"
          ]
         ],
         "hovertemplate": "<b>%{customdata[0]}</b><br>Organism: %{customdata[1]}<br>Kingdom: %{customdata[2]}<br>Phylum: %{customdata[3]}</b><br>Source ID: %{customdata[4]}<extra></extra>",
         "marker": {
          "color": "rgb(144, 214, 67)",
          "size": 7
         },
         "mode": "markers",
         "text": "methionine adenosyltransferase",
         "type": "scatter3d",
         "x": [
          -0.04190379516872054
         ],
         "y": [
          0.13121602947670002
         ],
         "z": [
          0.0003873855573717473
         ]
        },
        {
         "customdata": [
          [
           "methionine adenosyltransferase",
           "Methanosarcinales archaeon",
           "Euryarchaeota",
           "Methanomicrobia",
           "RLG37179.1"
          ]
         ],
         "hovertemplate": "<b>%{customdata[0]}</b><br>Organism: %{customdata[1]}<br>Kingdom: %{customdata[2]}<br>Phylum: %{customdata[3]}</b><br>Source ID: %{customdata[4]}<extra></extra>",
         "marker": {
          "color": "rgb(70, 21, 103)",
          "size": 7
         },
         "mode": "markers",
         "text": "methionine adenosyltransferase",
         "type": "scatter3d",
         "x": [
          -0.2887985734609542
         ],
         "y": [
          -0.1262065567184775
         ],
         "z": [
          0.08188492193816922
         ]
        },
        {
         "customdata": [
          [
           "methionine adenosyltransferase",
           "Methanosphaera cuniculi",
           "Euryarchaeota",
           "Methanobacteria",
           "WP_095607844.1"
          ]
         ],
         "hovertemplate": "<b>%{customdata[0]}</b><br>Organism: %{customdata[1]}<br>Kingdom: %{customdata[2]}<br>Phylum: %{customdata[3]}</b><br>Source ID: %{customdata[4]}<extra></extra>",
         "marker": {
          "color": "rgb(35, 163, 134)",
          "size": 7
         },
         "mode": "markers",
         "text": "methionine adenosyltransferase",
         "type": "scatter3d",
         "x": [
          -0.07456470281088737
         ],
         "y": [
          0.0031703047570862983
         ],
         "z": [
          -0.158874913632797
         ]
        },
        {
         "customdata": [
          [
           "methionine adenosyltransferase",
           "Halegenticoccus soli",
           "Euryarchaeota",
           "Halobacteria",
           "WP_101297280.1"
          ]
         ],
         "hovertemplate": "<b>%{customdata[0]}</b><br>Organism: %{customdata[1]}<br>Kingdom: %{customdata[2]}<br>Phylum: %{customdata[3]}</b><br>Source ID: %{customdata[4]}<extra></extra>",
         "marker": {
          "color": "rgb(48, 107, 142)",
          "size": 7
         },
         "mode": "markers",
         "text": "methionine adenosyltransferase",
         "type": "scatter3d",
         "x": [
          -0.011644923308157848
         ],
         "y": [
          0.11870722025145078
         ],
         "z": [
          0.02014292574441181
         ]
        },
        {
         "customdata": [
          [
           "methionine adenosyltransferase",
           "unclassified Methanocalculus",
           "Euryarchaeota",
           "Methanomicrobia",
           "WP_253458115.1"
          ]
         ],
         "hovertemplate": "<b>%{customdata[0]}</b><br>Organism: %{customdata[1]}<br>Kingdom: %{customdata[2]}<br>Phylum: %{customdata[3]}</b><br>Source ID: %{customdata[4]}<extra></extra>",
         "marker": {
          "color": "rgb(42, 119, 142)",
          "size": 7
         },
         "mode": "markers",
         "text": "methionine adenosyltransferase",
         "type": "scatter3d",
         "x": [
          -0.21175431531178912
         ],
         "y": [
          -0.01794025021647753
         ],
         "z": [
          -0.0974757371949339
         ]
        },
        {
         "customdata": [
          [
           "methionine adenosyltransferase",
           "Euryarchaeota archaeon",
           "Euryarchaeota",
           null,
           "UCE80363.1"
          ]
         ],
         "hovertemplate": "<b>%{customdata[0]}</b><br>Organism: %{customdata[1]}<br>Kingdom: %{customdata[2]}<br>Phylum: %{customdata[3]}</b><br>Source ID: %{customdata[4]}<extra></extra>",
         "marker": {
          "color": "rgb(115, 207, 85)",
          "size": 7
         },
         "mode": "markers",
         "text": "methionine adenosyltransferase",
         "type": "scatter3d",
         "x": [
          0.19310353804445213
         ],
         "y": [
          -0.22297105615190077
         ],
         "z": [
          0.13941655222181432
         ]
        },
        {
         "customdata": [
          [
           "methionine adenosyltransferase",
           "Thermoprotei archaeon",
           "Thermoproteota",
           null,
           "MCD6114320.1"
          ]
         ],
         "hovertemplate": "<b>%{customdata[0]}</b><br>Organism: %{customdata[1]}<br>Kingdom: %{customdata[2]}<br>Phylum: %{customdata[3]}</b><br>Source ID: %{customdata[4]}<extra></extra>",
         "marker": {
          "color": "rgb(183, 222, 43)",
          "size": 7
         },
         "mode": "markers",
         "text": "methionine adenosyltransferase",
         "type": "scatter3d",
         "x": [
          0.24619445849396915
         ],
         "y": [
          0.12748405958118256
         ],
         "z": [
          0.012885437314622267
         ]
        },
        {
         "customdata": [
          [
           "methionine adenosyltransferase",
           "Natronobacterium texcoconense",
           "Euryarchaeota",
           "Halobacteria",
           "WP_090386117.1"
          ]
         ],
         "hovertemplate": "<b>%{customdata[0]}</b><br>Organism: %{customdata[1]}<br>Kingdom: %{customdata[2]}<br>Phylum: %{customdata[3]}</b><br>Source ID: %{customdata[4]}<extra></extra>",
         "marker": {
          "color": "rgb(52, 96, 141)",
          "size": 7
         },
         "mode": "markers",
         "text": "methionine adenosyltransferase",
         "type": "scatter3d",
         "x": [
          -0.034798307708589375
         ],
         "y": [
          0.13785304173593058
         ],
         "z": [
          0.00022348330842303176
         ]
        },
        {
         "customdata": [
          [
           "S-adenosylmethionine synthetase",
           "Halobacteriales archaeon QS_8_69_26",
           "Euryarchaeota",
           "Halobacteria",
           "PSQ15689.1"
          ]
         ],
         "hovertemplate": "<b>%{customdata[0]}</b><br>Organism: %{customdata[1]}<br>Kingdom: %{customdata[2]}<br>Phylum: %{customdata[3]}</b><br>Source ID: %{customdata[4]}<extra></extra>",
         "marker": {
          "color": "rgb(104, 204, 91)",
          "size": 7
         },
         "mode": "markers",
         "text": "S-adenosylmethionine synthetase",
         "type": "scatter3d",
         "x": [
          -0.03752711220679854
         ],
         "y": [
          0.1142740081757647
         ],
         "z": [
          0.01565167083784945
         ]
        },
        {
         "customdata": [
          [
           "methionine adenosyltransferase",
           "Natrarchaeobius chitinivorans",
           "Euryarchaeota",
           "Halobacteria",
           "WP_124197364.1"
          ]
         ],
         "hovertemplate": "<b>%{customdata[0]}</b><br>Organism: %{customdata[1]}<br>Kingdom: %{customdata[2]}<br>Phylum: %{customdata[3]}</b><br>Source ID: %{customdata[4]}<extra></extra>",
         "marker": {
          "color": "rgb(63, 69, 135)",
          "size": 7
         },
         "mode": "markers",
         "text": "methionine adenosyltransferase",
         "type": "scatter3d",
         "x": [
          -0.03123006234004002
         ],
         "y": [
          0.1292141492620188
         ],
         "z": [
          -0.016869428556231993
         ]
        },
        {
         "customdata": [
          [
           "methionine adenosyltransferase",
           "Haloprofundus halophilus",
           "Euryarchaeota",
           "Halobacteria",
           "WP_117591019.1"
          ]
         ],
         "hovertemplate": "<b>%{customdata[0]}</b><br>Organism: %{customdata[1]}<br>Kingdom: %{customdata[2]}<br>Phylum: %{customdata[3]}</b><br>Source ID: %{customdata[4]}<extra></extra>",
         "marker": {
          "color": "rgb(48, 106, 142)",
          "size": 7
         },
         "mode": "markers",
         "text": "methionine adenosyltransferase",
         "type": "scatter3d",
         "x": [
          -0.03591367611208579
         ],
         "y": [
          0.10902120875968137
         ],
         "z": [
          -0.00402772070247011
         ]
        },
        {
         "customdata": [
          [
           "methionine adenosyltransferase",
           "Theionarchaea archaeon",
           "Euryarchaeota",
           null,
           "MBU7025755.1"
          ]
         ],
         "hovertemplate": "<b>%{customdata[0]}</b><br>Organism: %{customdata[1]}<br>Kingdom: %{customdata[2]}<br>Phylum: %{customdata[3]}</b><br>Source ID: %{customdata[4]}<extra></extra>",
         "marker": {
          "color": "rgb(37, 165, 132)",
          "size": 7
         },
         "mode": "markers",
         "text": "methionine adenosyltransferase",
         "type": "scatter3d",
         "x": [
          0.8089501131655384
         ],
         "y": [
          0.4442553501965237
         ],
         "z": [
          -0.14907612637604095
         ]
        },
        {
         "customdata": [
          [
           "methionine adenosyltransferase",
           "Halogranum rubrum",
           "Euryarchaeota",
           "Halobacteria",
           "WP_089871735.1"
          ]
         ],
         "hovertemplate": "<b>%{customdata[0]}</b><br>Organism: %{customdata[1]}<br>Kingdom: %{customdata[2]}<br>Phylum: %{customdata[3]}</b><br>Source ID: %{customdata[4]}<extra></extra>",
         "marker": {
          "color": "rgb(76, 192, 107)",
          "size": 7
         },
         "mode": "markers",
         "text": "methionine adenosyltransferase",
         "type": "scatter3d",
         "x": [
          -0.010562872403394484
         ],
         "y": [
          0.14316616931015308
         ],
         "z": [
          0.015412377694884344
         ]
        },
        {
         "customdata": [
          [
           "methionine adenosyltransferase",
           "Natronococcus jeotgali",
           "Euryarchaeota",
           "Halobacteria",
           "WP_008425871.1"
          ]
         ],
         "hovertemplate": "<b>%{customdata[0]}</b><br>Organism: %{customdata[1]}<br>Kingdom: %{customdata[2]}<br>Phylum: %{customdata[3]}</b><br>Source ID: %{customdata[4]}<extra></extra>",
         "marker": {
          "color": "rgb(71, 26, 107)",
          "size": 7
         },
         "mode": "markers",
         "text": "methionine adenosyltransferase",
         "type": "scatter3d",
         "x": [
          -0.017788625748620297
         ],
         "y": [
          0.13942854457113849
         ],
         "z": [
          0.019360542453714623
         ]
        },
        {
         "customdata": [
          [
           "methionine adenosyltransferase",
           "Candidatus Thermoplasmatota archaeon",
           "Candidatus Thermoplasmatota",
           null,
           "MCL5666017.1"
          ]
         ],
         "hovertemplate": "<b>%{customdata[0]}</b><br>Organism: %{customdata[1]}<br>Kingdom: %{customdata[2]}<br>Phylum: %{customdata[3]}</b><br>Source ID: %{customdata[4]}<extra></extra>",
         "marker": {
          "color": "rgb(72, 40, 120)",
          "size": 7
         },
         "mode": "markers",
         "text": "methionine adenosyltransferase",
         "type": "scatter3d",
         "x": [
          0.26541163179454674
         ],
         "y": [
          -0.2037424810361282
         ],
         "z": [
          0.062132556951226194
         ]
        },
        {
         "customdata": [
          [
           "methionine adenosyltransferase",
           "Candidatus Micrarchaeota archaeon",
           "Candidatus Micrarchaeota",
           null,
           "MBI5159355.1"
          ]
         ],
         "hovertemplate": "<b>%{customdata[0]}</b><br>Organism: %{customdata[1]}<br>Kingdom: %{customdata[2]}<br>Phylum: %{customdata[3]}</b><br>Source ID: %{customdata[4]}<extra></extra>",
         "marker": {
          "color": "rgb(41, 123, 142)",
          "size": 7
         },
         "mode": "markers",
         "text": "methionine adenosyltransferase",
         "type": "scatter3d",
         "x": [
          0.8124600829018415
         ],
         "y": [
          -0.7230339476950353
         ],
         "z": [
          0.8023177843540765
         ]
        },
        {
         "customdata": [
          [
           "S-adenosylmethionine synthetase",
           "Halobacteriales archaeon QS_4_62_28",
           "Euryarchaeota",
           "Halobacteria",
           "PSP93059.1"
          ]
         ],
         "hovertemplate": "<b>%{customdata[0]}</b><br>Organism: %{customdata[1]}<br>Kingdom: %{customdata[2]}<br>Phylum: %{customdata[3]}</b><br>Source ID: %{customdata[4]}<extra></extra>",
         "marker": {
          "color": "rgb(42, 171, 129)",
          "size": 7
         },
         "mode": "markers",
         "text": "S-adenosylmethionine synthetase",
         "type": "scatter3d",
         "x": [
          -0.005413606596445798
         ],
         "y": [
          0.14349888560275992
         ],
         "z": [
          0.023984979528447303
         ]
        },
        {
         "customdata": [
          [
           "methionine adenosyltransferase",
           "Halorussus vallis",
           "Euryarchaeota",
           "Halobacteria",
           "WP_253516867.1"
          ]
         ],
         "hovertemplate": "<b>%{customdata[0]}</b><br>Organism: %{customdata[1]}<br>Kingdom: %{customdata[2]}<br>Phylum: %{customdata[3]}</b><br>Source ID: %{customdata[4]}<extra></extra>",
         "marker": {
          "color": "rgb(90, 198, 100)",
          "size": 7
         },
         "mode": "markers",
         "text": "methionine adenosyltransferase",
         "type": "scatter3d",
         "x": [
          -0.01919106540005617
         ],
         "y": [
          0.12017847424192976
         ],
         "z": [
          0.024604961307963143
         ]
        },
        {
         "customdata": [
          [
           "methionine adenosyltransferase",
           "Halorubrum sp. 48-1-W",
           "Euryarchaeota",
           "Halobacteria",
           "WP_112079538.1"
          ]
         ],
         "hovertemplate": "<b>%{customdata[0]}</b><br>Organism: %{customdata[1]}<br>Kingdom: %{customdata[2]}<br>Phylum: %{customdata[3]}</b><br>Source ID: %{customdata[4]}<extra></extra>",
         "marker": {
          "color": "rgb(245, 230, 38)",
          "size": 7
         },
         "mode": "markers",
         "text": "methionine adenosyltransferase",
         "type": "scatter3d",
         "x": [
          -0.02092300705155082
         ],
         "y": [
          0.14949497515096472
         ],
         "z": [
          0.0023212230792628787
         ]
        },
        {
         "customdata": [
          [
           "methionine adenosyltransferase",
           "Theionarchaea archaeon",
           "Euryarchaeota",
           null,
           "MBU7031515.1"
          ]
         ],
         "hovertemplate": "<b>%{customdata[0]}</b><br>Organism: %{customdata[1]}<br>Kingdom: %{customdata[2]}<br>Phylum: %{customdata[3]}</b><br>Source ID: %{customdata[4]}<extra></extra>",
         "marker": {
          "color": "rgb(37, 165, 132)",
          "size": 7
         },
         "mode": "markers",
         "text": "methionine adenosyltransferase",
         "type": "scatter3d",
         "x": [
          0.816749206361719
         ],
         "y": [
          0.4705776489265028
         ],
         "z": [
          -0.1291596429815075
         ]
        },
        {
         "customdata": [
          [
           "methionine adenosyltransferase",
           "Natrialba asiatica",
           "Euryarchaeota",
           "Halobacteria",
           "WP_006109281.1"
          ]
         ],
         "hovertemplate": "<b>%{customdata[0]}</b><br>Organism: %{customdata[1]}<br>Kingdom: %{customdata[2]}<br>Phylum: %{customdata[3]}</b><br>Source ID: %{customdata[4]}<extra></extra>",
         "marker": {
          "color": "rgb(51, 98, 141)",
          "size": 7
         },
         "mode": "markers",
         "text": "methionine adenosyltransferase",
         "type": "scatter3d",
         "x": [
          -0.025066997213201617
         ],
         "y": [
          0.1482422443944375
         ],
         "z": [
          0.011697557838537848
         ]
        },
        {
         "customdata": [
          [
           "methionine adenosyltransferase",
           "Methanomicrobiales archaeon",
           "Euryarchaeota",
           "Methanomicrobia",
           "NLA39026.1"
          ]
         ],
         "hovertemplate": "<b>%{customdata[0]}</b><br>Organism: %{customdata[1]}<br>Kingdom: %{customdata[2]}<br>Phylum: %{customdata[3]}</b><br>Source ID: %{customdata[4]}<extra></extra>",
         "marker": {
          "color": "rgb(58, 83, 139)",
          "size": 7
         },
         "mode": "markers",
         "text": "methionine adenosyltransferase",
         "type": "scatter3d",
         "x": [
          -0.21512893650831605
         ],
         "y": [
          -0.05049832840306235
         ],
         "z": [
          -0.08662173103105054
         ]
        },
        {
         "customdata": [
          [
           "methionine adenosyltransferase",
           "unclassified Halorhabdus",
           "Euryarchaeota",
           "Halobacteria",
           "WP_154552100.1"
          ]
         ],
         "hovertemplate": "<b>%{customdata[0]}</b><br>Organism: %{customdata[1]}<br>Kingdom: %{customdata[2]}<br>Phylum: %{customdata[3]}</b><br>Source ID: %{customdata[4]}<extra></extra>",
         "marker": {
          "color": "rgb(34, 162, 135)",
          "size": 7
         },
         "mode": "markers",
         "text": "methionine adenosyltransferase",
         "type": "scatter3d",
         "x": [
          -0.04850751144401809
         ],
         "y": [
          0.11884495317326671
         ],
         "z": [
          -0.0033186831292885883
         ]
        },
        {
         "customdata": [
          [
           "methionine adenosyltransferase",
           "Halobellus",
           "Euryarchaeota",
           "Halobacteria",
           "WP_256287971.1"
          ]
         ],
         "hovertemplate": "<b>%{customdata[0]}</b><br>Organism: %{customdata[1]}<br>Kingdom: %{customdata[2]}<br>Phylum: %{customdata[3]}</b><br>Source ID: %{customdata[4]}<extra></extra>",
         "marker": {
          "color": "rgb(65, 64, 132)",
          "size": 7
         },
         "mode": "markers",
         "text": "methionine adenosyltransferase",
         "type": "scatter3d",
         "x": [
          -0.02559067067204765
         ],
         "y": [
          0.12049405482667874
         ],
         "z": [
          0.01737979538696331
         ]
        },
        {
         "customdata": [
          [
           "methionine adenosyltransferase",
           "Methanofollis fontis",
           "Euryarchaeota",
           "Methanomicrobia",
           "WP_130646405.1"
          ]
         ],
         "hovertemplate": "<b>%{customdata[0]}</b><br>Organism: %{customdata[1]}<br>Kingdom: %{customdata[2]}<br>Phylum: %{customdata[3]}</b><br>Source ID: %{customdata[4]}<extra></extra>",
         "marker": {
          "color": "rgb(66, 61, 131)",
          "size": 7
         },
         "mode": "markers",
         "text": "methionine adenosyltransferase",
         "type": "scatter3d",
         "x": [
          -0.1847988247565108
         ],
         "y": [
          -0.04050167083908747
         ],
         "z": [
          -0.06924110230629237
         ]
        },
        {
         "customdata": [
          [
           "methionine adenosyltransferase",
           "Natrarchaeobius halalkaliphilus",
           "Euryarchaeota",
           "Halobacteria",
           "WP_124177345.1"
          ]
         ],
         "hovertemplate": "<b>%{customdata[0]}</b><br>Organism: %{customdata[1]}<br>Kingdom: %{customdata[2]}<br>Phylum: %{customdata[3]}</b><br>Source ID: %{customdata[4]}<extra></extra>",
         "marker": {
          "color": "rgb(68, 2, 85)",
          "size": 7
         },
         "mode": "markers",
         "text": "methionine adenosyltransferase",
         "type": "scatter3d",
         "x": [
          -0.030158796521055915
         ],
         "y": [
          0.1389772978797611
         ],
         "z": [
          0.012477334393911991
         ]
        }
       ],
       "layout": {
        "hovermode": "closest",
        "margin": {
         "b": 0,
         "l": 0,
         "r": 0,
         "t": 0
        },
        "plot_bgcolor": "white",
        "scene": {
         "xaxis": {
          "visible": false
         },
         "yaxis": {
          "visible": false
         },
         "zaxis": {
          "visible": false
         }
        },
        "showlegend": false,
        "template": {
         "data": {
          "bar": [
           {
            "error_x": {
             "color": "#2a3f5f"
            },
            "error_y": {
             "color": "#2a3f5f"
            },
            "marker": {
             "line": {
              "color": "#E5ECF6",
              "width": 0.5
             },
             "pattern": {
              "fillmode": "overlay",
              "size": 10,
              "solidity": 0.2
             }
            },
            "type": "bar"
           }
          ],
          "barpolar": [
           {
            "marker": {
             "line": {
              "color": "#E5ECF6",
              "width": 0.5
             },
             "pattern": {
              "fillmode": "overlay",
              "size": 10,
              "solidity": 0.2
             }
            },
            "type": "barpolar"
           }
          ],
          "carpet": [
           {
            "aaxis": {
             "endlinecolor": "#2a3f5f",
             "gridcolor": "white",
             "linecolor": "white",
             "minorgridcolor": "white",
             "startlinecolor": "#2a3f5f"
            },
            "baxis": {
             "endlinecolor": "#2a3f5f",
             "gridcolor": "white",
             "linecolor": "white",
             "minorgridcolor": "white",
             "startlinecolor": "#2a3f5f"
            },
            "type": "carpet"
           }
          ],
          "choropleth": [
           {
            "colorbar": {
             "outlinewidth": 0,
             "ticks": ""
            },
            "type": "choropleth"
           }
          ],
          "contour": [
           {
            "colorbar": {
             "outlinewidth": 0,
             "ticks": ""
            },
            "colorscale": [
             [
              0,
              "#0d0887"
             ],
             [
              0.1111111111111111,
              "#46039f"
             ],
             [
              0.2222222222222222,
              "#7201a8"
             ],
             [
              0.3333333333333333,
              "#9c179e"
             ],
             [
              0.4444444444444444,
              "#bd3786"
             ],
             [
              0.5555555555555556,
              "#d8576b"
             ],
             [
              0.6666666666666666,
              "#ed7953"
             ],
             [
              0.7777777777777778,
              "#fb9f3a"
             ],
             [
              0.8888888888888888,
              "#fdca26"
             ],
             [
              1,
              "#f0f921"
             ]
            ],
            "type": "contour"
           }
          ],
          "contourcarpet": [
           {
            "colorbar": {
             "outlinewidth": 0,
             "ticks": ""
            },
            "type": "contourcarpet"
           }
          ],
          "heatmap": [
           {
            "colorbar": {
             "outlinewidth": 0,
             "ticks": ""
            },
            "colorscale": [
             [
              0,
              "#0d0887"
             ],
             [
              0.1111111111111111,
              "#46039f"
             ],
             [
              0.2222222222222222,
              "#7201a8"
             ],
             [
              0.3333333333333333,
              "#9c179e"
             ],
             [
              0.4444444444444444,
              "#bd3786"
             ],
             [
              0.5555555555555556,
              "#d8576b"
             ],
             [
              0.6666666666666666,
              "#ed7953"
             ],
             [
              0.7777777777777778,
              "#fb9f3a"
             ],
             [
              0.8888888888888888,
              "#fdca26"
             ],
             [
              1,
              "#f0f921"
             ]
            ],
            "type": "heatmap"
           }
          ],
          "heatmapgl": [
           {
            "colorbar": {
             "outlinewidth": 0,
             "ticks": ""
            },
            "colorscale": [
             [
              0,
              "#0d0887"
             ],
             [
              0.1111111111111111,
              "#46039f"
             ],
             [
              0.2222222222222222,
              "#7201a8"
             ],
             [
              0.3333333333333333,
              "#9c179e"
             ],
             [
              0.4444444444444444,
              "#bd3786"
             ],
             [
              0.5555555555555556,
              "#d8576b"
             ],
             [
              0.6666666666666666,
              "#ed7953"
             ],
             [
              0.7777777777777778,
              "#fb9f3a"
             ],
             [
              0.8888888888888888,
              "#fdca26"
             ],
             [
              1,
              "#f0f921"
             ]
            ],
            "type": "heatmapgl"
           }
          ],
          "histogram": [
           {
            "marker": {
             "pattern": {
              "fillmode": "overlay",
              "size": 10,
              "solidity": 0.2
             }
            },
            "type": "histogram"
           }
          ],
          "histogram2d": [
           {
            "colorbar": {
             "outlinewidth": 0,
             "ticks": ""
            },
            "colorscale": [
             [
              0,
              "#0d0887"
             ],
             [
              0.1111111111111111,
              "#46039f"
             ],
             [
              0.2222222222222222,
              "#7201a8"
             ],
             [
              0.3333333333333333,
              "#9c179e"
             ],
             [
              0.4444444444444444,
              "#bd3786"
             ],
             [
              0.5555555555555556,
              "#d8576b"
             ],
             [
              0.6666666666666666,
              "#ed7953"
             ],
             [
              0.7777777777777778,
              "#fb9f3a"
             ],
             [
              0.8888888888888888,
              "#fdca26"
             ],
             [
              1,
              "#f0f921"
             ]
            ],
            "type": "histogram2d"
           }
          ],
          "histogram2dcontour": [
           {
            "colorbar": {
             "outlinewidth": 0,
             "ticks": ""
            },
            "colorscale": [
             [
              0,
              "#0d0887"
             ],
             [
              0.1111111111111111,
              "#46039f"
             ],
             [
              0.2222222222222222,
              "#7201a8"
             ],
             [
              0.3333333333333333,
              "#9c179e"
             ],
             [
              0.4444444444444444,
              "#bd3786"
             ],
             [
              0.5555555555555556,
              "#d8576b"
             ],
             [
              0.6666666666666666,
              "#ed7953"
             ],
             [
              0.7777777777777778,
              "#fb9f3a"
             ],
             [
              0.8888888888888888,
              "#fdca26"
             ],
             [
              1,
              "#f0f921"
             ]
            ],
            "type": "histogram2dcontour"
           }
          ],
          "mesh3d": [
           {
            "colorbar": {
             "outlinewidth": 0,
             "ticks": ""
            },
            "type": "mesh3d"
           }
          ],
          "parcoords": [
           {
            "line": {
             "colorbar": {
              "outlinewidth": 0,
              "ticks": ""
             }
            },
            "type": "parcoords"
           }
          ],
          "pie": [
           {
            "automargin": true,
            "type": "pie"
           }
          ],
          "scatter": [
           {
            "fillpattern": {
             "fillmode": "overlay",
             "size": 10,
             "solidity": 0.2
            },
            "type": "scatter"
           }
          ],
          "scatter3d": [
           {
            "line": {
             "colorbar": {
              "outlinewidth": 0,
              "ticks": ""
             }
            },
            "marker": {
             "colorbar": {
              "outlinewidth": 0,
              "ticks": ""
             }
            },
            "type": "scatter3d"
           }
          ],
          "scattercarpet": [
           {
            "marker": {
             "colorbar": {
              "outlinewidth": 0,
              "ticks": ""
             }
            },
            "type": "scattercarpet"
           }
          ],
          "scattergeo": [
           {
            "marker": {
             "colorbar": {
              "outlinewidth": 0,
              "ticks": ""
             }
            },
            "type": "scattergeo"
           }
          ],
          "scattergl": [
           {
            "marker": {
             "colorbar": {
              "outlinewidth": 0,
              "ticks": ""
             }
            },
            "type": "scattergl"
           }
          ],
          "scattermapbox": [
           {
            "marker": {
             "colorbar": {
              "outlinewidth": 0,
              "ticks": ""
             }
            },
            "type": "scattermapbox"
           }
          ],
          "scatterpolar": [
           {
            "marker": {
             "colorbar": {
              "outlinewidth": 0,
              "ticks": ""
             }
            },
            "type": "scatterpolar"
           }
          ],
          "scatterpolargl": [
           {
            "marker": {
             "colorbar": {
              "outlinewidth": 0,
              "ticks": ""
             }
            },
            "type": "scatterpolargl"
           }
          ],
          "scatterternary": [
           {
            "marker": {
             "colorbar": {
              "outlinewidth": 0,
              "ticks": ""
             }
            },
            "type": "scatterternary"
           }
          ],
          "surface": [
           {
            "colorbar": {
             "outlinewidth": 0,
             "ticks": ""
            },
            "colorscale": [
             [
              0,
              "#0d0887"
             ],
             [
              0.1111111111111111,
              "#46039f"
             ],
             [
              0.2222222222222222,
              "#7201a8"
             ],
             [
              0.3333333333333333,
              "#9c179e"
             ],
             [
              0.4444444444444444,
              "#bd3786"
             ],
             [
              0.5555555555555556,
              "#d8576b"
             ],
             [
              0.6666666666666666,
              "#ed7953"
             ],
             [
              0.7777777777777778,
              "#fb9f3a"
             ],
             [
              0.8888888888888888,
              "#fdca26"
             ],
             [
              1,
              "#f0f921"
             ]
            ],
            "type": "surface"
           }
          ],
          "table": [
           {
            "cells": {
             "fill": {
              "color": "#EBF0F8"
             },
             "line": {
              "color": "white"
             }
            },
            "header": {
             "fill": {
              "color": "#C8D4E3"
             },
             "line": {
              "color": "white"
             }
            },
            "type": "table"
           }
          ]
         },
         "layout": {
          "annotationdefaults": {
           "arrowcolor": "#2a3f5f",
           "arrowhead": 0,
           "arrowwidth": 1
          },
          "autotypenumbers": "strict",
          "coloraxis": {
           "colorbar": {
            "outlinewidth": 0,
            "ticks": ""
           }
          },
          "colorscale": {
           "diverging": [
            [
             0,
             "#8e0152"
            ],
            [
             0.1,
             "#c51b7d"
            ],
            [
             0.2,
             "#de77ae"
            ],
            [
             0.3,
             "#f1b6da"
            ],
            [
             0.4,
             "#fde0ef"
            ],
            [
             0.5,
             "#f7f7f7"
            ],
            [
             0.6,
             "#e6f5d0"
            ],
            [
             0.7,
             "#b8e186"
            ],
            [
             0.8,
             "#7fbc41"
            ],
            [
             0.9,
             "#4d9221"
            ],
            [
             1,
             "#276419"
            ]
           ],
           "sequential": [
            [
             0,
             "#0d0887"
            ],
            [
             0.1111111111111111,
             "#46039f"
            ],
            [
             0.2222222222222222,
             "#7201a8"
            ],
            [
             0.3333333333333333,
             "#9c179e"
            ],
            [
             0.4444444444444444,
             "#bd3786"
            ],
            [
             0.5555555555555556,
             "#d8576b"
            ],
            [
             0.6666666666666666,
             "#ed7953"
            ],
            [
             0.7777777777777778,
             "#fb9f3a"
            ],
            [
             0.8888888888888888,
             "#fdca26"
            ],
            [
             1,
             "#f0f921"
            ]
           ],
           "sequentialminus": [
            [
             0,
             "#0d0887"
            ],
            [
             0.1111111111111111,
             "#46039f"
            ],
            [
             0.2222222222222222,
             "#7201a8"
            ],
            [
             0.3333333333333333,
             "#9c179e"
            ],
            [
             0.4444444444444444,
             "#bd3786"
            ],
            [
             0.5555555555555556,
             "#d8576b"
            ],
            [
             0.6666666666666666,
             "#ed7953"
            ],
            [
             0.7777777777777778,
             "#fb9f3a"
            ],
            [
             0.8888888888888888,
             "#fdca26"
            ],
            [
             1,
             "#f0f921"
            ]
           ]
          },
          "colorway": [
           "#636efa",
           "#EF553B",
           "#00cc96",
           "#ab63fa",
           "#FFA15A",
           "#19d3f3",
           "#FF6692",
           "#B6E880",
           "#FF97FF",
           "#FECB52"
          ],
          "font": {
           "color": "#2a3f5f"
          },
          "geo": {
           "bgcolor": "white",
           "lakecolor": "white",
           "landcolor": "#E5ECF6",
           "showlakes": true,
           "showland": true,
           "subunitcolor": "white"
          },
          "hoverlabel": {
           "align": "left"
          },
          "hovermode": "closest",
          "mapbox": {
           "style": "light"
          },
          "paper_bgcolor": "white",
          "plot_bgcolor": "#E5ECF6",
          "polar": {
           "angularaxis": {
            "gridcolor": "white",
            "linecolor": "white",
            "ticks": ""
           },
           "bgcolor": "#E5ECF6",
           "radialaxis": {
            "gridcolor": "white",
            "linecolor": "white",
            "ticks": ""
           }
          },
          "scene": {
           "xaxis": {
            "backgroundcolor": "#E5ECF6",
            "gridcolor": "white",
            "gridwidth": 2,
            "linecolor": "white",
            "showbackground": true,
            "ticks": "",
            "zerolinecolor": "white"
           },
           "yaxis": {
            "backgroundcolor": "#E5ECF6",
            "gridcolor": "white",
            "gridwidth": 2,
            "linecolor": "white",
            "showbackground": true,
            "ticks": "",
            "zerolinecolor": "white"
           },
           "zaxis": {
            "backgroundcolor": "#E5ECF6",
            "gridcolor": "white",
            "gridwidth": 2,
            "linecolor": "white",
            "showbackground": true,
            "ticks": "",
            "zerolinecolor": "white"
           }
          },
          "shapedefaults": {
           "line": {
            "color": "#2a3f5f"
           }
          },
          "ternary": {
           "aaxis": {
            "gridcolor": "white",
            "linecolor": "white",
            "ticks": ""
           },
           "baxis": {
            "gridcolor": "white",
            "linecolor": "white",
            "ticks": ""
           },
           "bgcolor": "#E5ECF6",
           "caxis": {
            "gridcolor": "white",
            "linecolor": "white",
            "ticks": ""
           }
          },
          "title": {
           "x": 0.05
          },
          "xaxis": {
           "automargin": true,
           "gridcolor": "white",
           "linecolor": "white",
           "ticks": "",
           "title": {
            "standoff": 15
           },
           "zerolinecolor": "white",
           "zerolinewidth": 2
          },
          "yaxis": {
           "automargin": true,
           "gridcolor": "white",
           "linecolor": "white",
           "ticks": "",
           "title": {
            "standoff": 15
           },
           "zerolinecolor": "white",
           "zerolinewidth": 2
          }
         }
        },
        "xaxis": {
         "visible": false
        },
        "yaxis": {
         "visible": false
        }
       }
      }
     },
     "metadata": {},
     "output_type": "display_data"
    }
   ],
   "source": [
    "n = SequenceNetwork(\n",
    "    sequences=blast_results,\n",
    "    pairwise_alignments=multi_parwise_alignments,\n",
    "    threshold=0.65,\n",
    "    weight=\"identity\",\n",
    "    dimensions=3,\n",
    "    color=\"taxonomy_id\",\n",
    ")\n",
    "n.visualize()"
   ]
  }
 ],
 "metadata": {
  "kernelspec": {
   "display_name": "pye",
   "language": "python",
   "name": "python3"
  },
  "language_info": {
   "codemirror_mode": {
    "name": "ipython",
    "version": 3
   },
   "file_extension": ".py",
   "mimetype": "text/x-python",
   "name": "python",
   "nbconvert_exporter": "python",
   "pygments_lexer": "ipython3",
   "version": "3.10.13"
  }
 },
 "nbformat": 4,
 "nbformat_minor": 2
}
