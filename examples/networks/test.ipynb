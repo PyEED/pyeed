{
 "cells": [
  {
   "cell_type": "markdown",
   "metadata": {},
   "source": [
    "# Network Visualization"
   ]
  },
  {
   "cell_type": "code",
   "execution_count": 1,
   "metadata": {},
   "outputs": [],
   "source": [
    "%reload_ext autoreload\n",
    "%autoreload 2\n",
    "from pyeed.core import ProteinInfo, Alignment\n",
    "from pyeed.aligners import PairwiseAligner\n",
    "from pyeed.network import SequenceNetwork"
   ]
  },
  {
   "cell_type": "code",
   "execution_count": 2,
   "metadata": {},
   "outputs": [],
   "source": [
    "# Get a query sequence from NCBI\n",
    "metTK = ProteinInfo.from_ncbi(\"WP_011249500.1\")"
   ]
  },
  {
   "cell_type": "code",
   "execution_count": 3,
   "metadata": {},
   "outputs": [
    {
     "name": "stdout",
     "output_type": "stream",
     "text": [
      "🏃 Running BLAST\n"
     ]
    },
    {
     "name": "stderr",
     "output_type": "stream",
     "text": [
      "⬇️ Fetching protein sequences: 200it [00:35,  5.69it/s]                     "
     ]
    },
    {
     "name": "stdout",
     "output_type": "stream",
     "text": [
      "2024-03-07 13:59:28,852 - WARNING - abstractparser.py:154 - map_regions() - Incomplete region data found for 7P82_A: {'region_name': ['Domain 1'], 'note': ['NCBI Domains']}, skipping region\n",
      "2024-03-07 13:59:28,852 - WARNING - abstractparser.py:154 - map_regions() - Incomplete region data found for 7P82_A: {'region_name': ['Domain 2'], 'note': ['NCBI Domains']}, skipping region\n"
     ]
    },
    {
     "name": "stderr",
     "output_type": "stream",
     "text": [
      "\n"
     ]
    }
   ],
   "source": [
    "# Run local blastp search\n",
    "blast_results = metTK.blastp(\n",
    "    db_path=\"/Users/max/Documents/GitHub/blast-db/data/source\",\n",
    "    n_hits=200,\n",
    ")"
   ]
  },
  {
   "cell_type": "code",
   "execution_count": 4,
   "metadata": {},
   "outputs": [
    {
     "data": {
      "text/plain": [
       "200"
      ]
     },
     "execution_count": 4,
     "metadata": {},
     "output_type": "execute_result"
    }
   ],
   "source": [
    "len(blast_results)"
   ]
  },
  {
   "cell_type": "markdown",
   "metadata": {},
   "source": [
    "## Multi Pairwise Alignment"
   ]
  },
  {
   "cell_type": "code",
   "execution_count": 5,
   "metadata": {},
   "outputs": [
    {
     "name": "stderr",
     "output_type": "stream",
     "text": [
      "⛓️ Running pairwise alignments: 100%|██████████| 19900/19900 [00:05<00:00, 3531.98it/s]\n"
     ]
    }
   ],
   "source": [
    "# Create and run alignment\n",
    "multi_parwise_alignments = Alignment.from_sequences(\n",
    "    blast_results, aligner=PairwiseAligner\n",
    ")"
   ]
  },
  {
   "cell_type": "code",
   "execution_count": 6,
   "metadata": {},
   "outputs": [
    {
     "data": {
      "application/vnd.plotly.v1+json": {
       "config": {
        "plotlyServerURL": "https://plot.ly"
       },
       "data": [
        {
         "customdata": [
          [
           "methionine adenosyltransferase",
           null,
           null,
           null,
           null,
           null,
           null,
           null,
           null,
           null,
           "2.5.1.6",
           44484,
           "taxon:311400",
           0,
           0.05517550625313558,
           -0.18977972337573407,
           0.19381094642486882
          ]
         ],
         "hovertemplate": "<b>%{customdata[0]}</b><br>Family Name: %{customdata[1]}<br>Domain: %{customdata[2]}<br>Kingdom: %{customdata[3]}</b><br>Phylum: %{customdata[4]}<br>Class: %{customdata[5]}<br>Order: %{customdata[6]}<br>Family: %{customdata[7]}<br>Genus: %{customdata[8]}<br>Species: %{customdata[9]}<br>EC Number: %{customdata[10]}<br>Mol Weight: %{customdata[11]}<br>Taxonomy ID: %{customdata[12]}<extra></extra>",
         "marker": {
          "color": "red",
          "size": 10,
          "symbol": "cross"
         },
         "mode": "markers",
         "text": "methionine adenosyltransferase",
         "type": "scatter3d",
         "x": [
          0.05517550625313558
         ],
         "y": [
          -0.18977972337573407
         ],
         "z": [
          0.19381094642486882
         ]
        },
        {
         "customdata": [
          [
           "S-adenosylmethionine synthetase",
           null,
           null,
           null,
           null,
           null,
           null,
           null,
           null,
           null,
           "2.5.1.6",
           null,
           "taxon:49900",
           0.00025379422364346985,
           0.0935085631846407,
           -0.20116605499736306,
           0.158172269844397
          ]
         ],
         "hovertemplate": "<b>%{customdata[0]}</b><br>Family Name: %{customdata[1]}<br>Domain: %{customdata[2]}<br>Kingdom: %{customdata[3]}</b><br>Phylum: %{customdata[4]}<br>Class: %{customdata[5]}<br>Order: %{customdata[6]}<br>Family: %{customdata[7]}<br>Genus: %{customdata[8]}<br>Species: %{customdata[9]}<br>EC Number: %{customdata[10]}<br>Mol Weight: %{customdata[11]}<br>Taxonomy ID: %{customdata[12]}<extra></extra>",
         "marker": {
          "color": "rgb(33, 150, 138)",
          "size": 6,
          "symbol": "circle"
         },
         "mode": "markers",
         "text": "S-adenosylmethionine synthetase",
         "type": "scatter3d",
         "x": [
          0.0935085631846407
         ],
         "y": [
          -0.20116605499736306
         ],
         "z": [
          0.158172269844397
         ]
        },
        {
         "customdata": [
          [
           "methionine adenosyltransferase",
           null,
           null,
           null,
           null,
           null,
           null,
           null,
           null,
           null,
           null,
           null,
           "taxon:277988",
           0.00025379422364346985,
           0.07215337819458632,
           -0.20938407150722538,
           0.14232566660175286
          ]
         ],
         "hovertemplate": "<b>%{customdata[0]}</b><br>Family Name: %{customdata[1]}<br>Domain: %{customdata[2]}<br>Kingdom: %{customdata[3]}</b><br>Phylum: %{customdata[4]}<br>Class: %{customdata[5]}<br>Order: %{customdata[6]}<br>Family: %{customdata[7]}<br>Genus: %{customdata[8]}<br>Species: %{customdata[9]}<br>EC Number: %{customdata[10]}<br>Mol Weight: %{customdata[11]}<br>Taxonomy ID: %{customdata[12]}<extra></extra>",
         "marker": {
          "color": "rgb(120, 208, 82)",
          "size": 6,
          "symbol": "circle"
         },
         "mode": "markers",
         "text": "methionine adenosyltransferase",
         "type": "scatter3d",
         "x": [
          0.07215337819458632
         ],
         "y": [
          -0.20938407150722538
         ],
         "z": [
          0.14232566660175286
         ]
        },
        {
         "customdata": [
          [
           "methionine adenosyltransferase",
           null,
           null,
           null,
           null,
           null,
           null,
           null,
           null,
           null,
           "2.5.1.6",
           null,
           "taxon:35749",
           0.0011420740063956144,
           0.11813647342046504,
           -0.2407692799766675,
           0.12287068438089291
          ]
         ],
         "hovertemplate": "<b>%{customdata[0]}</b><br>Family Name: %{customdata[1]}<br>Domain: %{customdata[2]}<br>Kingdom: %{customdata[3]}</b><br>Phylum: %{customdata[4]}<br>Class: %{customdata[5]}<br>Order: %{customdata[6]}<br>Family: %{customdata[7]}<br>Genus: %{customdata[8]}<br>Species: %{customdata[9]}<br>EC Number: %{customdata[10]}<br>Mol Weight: %{customdata[11]}<br>Taxonomy ID: %{customdata[12]}<extra></extra>",
         "marker": {
          "color": "rgb(32, 154, 138)",
          "size": 6,
          "symbol": "circle"
         },
         "mode": "markers",
         "text": "methionine adenosyltransferase",
         "type": "scatter3d",
         "x": [
          0.11813647342046504
         ],
         "y": [
          -0.2407692799766675
         ],
         "z": [
          0.12287068438089291
         ]
        },
        {
         "customdata": [
          [
           "methionine adenosyltransferase",
           null,
           null,
           null,
           null,
           null,
           null,
           null,
           null,
           null,
           "2.5.1.6",
           44913,
           "taxon:582419",
           0.0011420740063956144,
           0.12448981311448216,
           -0.22896325015919566,
           0.11034202120691518
          ]
         ],
         "hovertemplate": "<b>%{customdata[0]}</b><br>Family Name: %{customdata[1]}<br>Domain: %{customdata[2]}<br>Kingdom: %{customdata[3]}</b><br>Phylum: %{customdata[4]}<br>Class: %{customdata[5]}<br>Order: %{customdata[6]}<br>Family: %{customdata[7]}<br>Genus: %{customdata[8]}<br>Species: %{customdata[9]}<br>EC Number: %{customdata[10]}<br>Mol Weight: %{customdata[11]}<br>Taxonomy ID: %{customdata[12]}<extra></extra>",
         "marker": {
          "color": "rgb(68, 54, 127)",
          "size": 6,
          "symbol": "circle"
         },
         "mode": "markers",
         "text": "methionine adenosyltransferase",
         "type": "scatter3d",
         "x": [
          0.12448981311448216
         ],
         "y": [
          -0.22896325015919566
         ],
         "z": [
          0.11034202120691518
         ]
        },
        {
         "customdata": [
          [
           "methionine adenosyltransferase",
           null,
           null,
           null,
           null,
           null,
           null,
           null,
           null,
           null,
           "2.5.1.6",
           null,
           "taxon:2250254",
           0,
           -0.8301111111955115,
           -0.4842640648557196,
           0.06959029243549805
          ]
         ],
         "hovertemplate": "<b>%{customdata[0]}</b><br>Family Name: %{customdata[1]}<br>Domain: %{customdata[2]}<br>Kingdom: %{customdata[3]}</b><br>Phylum: %{customdata[4]}<br>Class: %{customdata[5]}<br>Order: %{customdata[6]}<br>Family: %{customdata[7]}<br>Genus: %{customdata[8]}<br>Species: %{customdata[9]}<br>EC Number: %{customdata[10]}<br>Mol Weight: %{customdata[11]}<br>Taxonomy ID: %{customdata[12]}<extra></extra>",
         "marker": {
          "color": "rgb(68, 52, 126)",
          "size": 6,
          "symbol": "circle"
         },
         "mode": "markers",
         "text": "methionine adenosyltransferase",
         "type": "scatter3d",
         "x": [
          -0.8301111111955115
         ],
         "y": [
          -0.4842640648557196
         ],
         "z": [
          0.06959029243549805
         ]
        },
        {
         "customdata": [
          [
           "methionine adenosyltransferase",
           null,
           null,
           null,
           null,
           null,
           null,
           null,
           null,
           null,
           "2.5.1.6",
           45052,
           "taxon:1638272",
           0,
           0.16125917772528595,
           -0.2680899871765216,
           0.11177208105423747
          ]
         ],
         "hovertemplate": "<b>%{customdata[0]}</b><br>Family Name: %{customdata[1]}<br>Domain: %{customdata[2]}<br>Kingdom: %{customdata[3]}</b><br>Phylum: %{customdata[4]}<br>Class: %{customdata[5]}<br>Order: %{customdata[6]}<br>Family: %{customdata[7]}<br>Genus: %{customdata[8]}<br>Species: %{customdata[9]}<br>EC Number: %{customdata[10]}<br>Mol Weight: %{customdata[11]}<br>Taxonomy ID: %{customdata[12]}<extra></extra>",
         "marker": {
          "color": "rgb(181, 222, 43)",
          "size": 6,
          "symbol": "circle"
         },
         "mode": "markers",
         "text": "methionine adenosyltransferase",
         "type": "scatter3d",
         "x": [
          0.16125917772528595
         ],
         "y": [
          -0.2680899871765216
         ],
         "z": [
          0.11177208105423747
         ]
        },
        {
         "customdata": [
          [
           "methionine adenosyltransferase",
           null,
           null,
           null,
           null,
           null,
           null,
           null,
           null,
           null,
           "2.5.1.6",
           45068,
           "taxon:971279",
           0.0010151768945738794,
           0.10502464701585763,
           -0.28477742714430665,
           0.04747232667172708
          ]
         ],
         "hovertemplate": "<b>%{customdata[0]}</b><br>Family Name: %{customdata[1]}<br>Domain: %{customdata[2]}<br>Kingdom: %{customdata[3]}</b><br>Phylum: %{customdata[4]}<br>Class: %{customdata[5]}<br>Order: %{customdata[6]}<br>Family: %{customdata[7]}<br>Genus: %{customdata[8]}<br>Species: %{customdata[9]}<br>EC Number: %{customdata[10]}<br>Mol Weight: %{customdata[11]}<br>Taxonomy ID: %{customdata[12]}<extra></extra>",
         "marker": {
          "color": "rgb(243, 230, 38)",
          "size": 6,
          "symbol": "circle"
         },
         "mode": "markers",
         "text": "methionine adenosyltransferase",
         "type": "scatter3d",
         "x": [
          0.10502464701585763
         ],
         "y": [
          -0.28477742714430665
         ],
         "z": [
          0.04747232667172708
         ]
        },
        {
         "customdata": [
          [
           "S-adenosylmethionine synthetase",
           null,
           null,
           null,
           null,
           null,
           null,
           null,
           null,
           null,
           "2.5.1.6",
           null,
           "taxon:604354",
           0,
           0.14318628918939377,
           -0.2848183699642719,
           0.13852370823937726
          ]
         ],
         "hovertemplate": "<b>%{customdata[0]}</b><br>Family Name: %{customdata[1]}<br>Domain: %{customdata[2]}<br>Kingdom: %{customdata[3]}</b><br>Phylum: %{customdata[4]}<br>Class: %{customdata[5]}<br>Order: %{customdata[6]}<br>Family: %{customdata[7]}<br>Genus: %{customdata[8]}<br>Species: %{customdata[9]}<br>EC Number: %{customdata[10]}<br>Mol Weight: %{customdata[11]}<br>Taxonomy ID: %{customdata[12]}<extra></extra>",
         "marker": {
          "color": "rgb(36, 140, 140)",
          "size": 6,
          "symbol": "circle"
         },
         "mode": "markers",
         "text": "S-adenosylmethionine synthetase",
         "type": "scatter3d",
         "x": [
          0.14318628918939377
         ],
         "y": [
          -0.2848183699642719
         ],
         "z": [
          0.13852370823937726
         ]
        },
        {
         "customdata": [
          [
           "methionine adenosyltransferase",
           null,
           null,
           null,
           null,
           null,
           null,
           null,
           null,
           null,
           "2.5.1.6",
           44895,
           "taxon:83868",
           0,
           0.10204777153647487,
           -0.3358683058573021,
           -0.006551156340460705
          ]
         ],
         "hovertemplate": "<b>%{customdata[0]}</b><br>Family Name: %{customdata[1]}<br>Domain: %{customdata[2]}<br>Kingdom: %{customdata[3]}</b><br>Phylum: %{customdata[4]}<br>Class: %{customdata[5]}<br>Order: %{customdata[6]}<br>Family: %{customdata[7]}<br>Genus: %{customdata[8]}<br>Species: %{customdata[9]}<br>EC Number: %{customdata[10]}<br>Mol Weight: %{customdata[11]}<br>Taxonomy ID: %{customdata[12]}<extra></extra>",
         "marker": {
          "color": "rgb(50, 179, 123)",
          "size": 6,
          "symbol": "circle"
         },
         "mode": "markers",
         "text": "methionine adenosyltransferase",
         "type": "scatter3d",
         "x": [
          0.10204777153647487
         ],
         "y": [
          -0.3358683058573021
         ],
         "z": [
          -0.006551156340460705
         ]
        },
        {
         "customdata": [
          [
           "methionine adenosyltransferase",
           null,
           null,
           null,
           null,
           null,
           null,
           null,
           null,
           null,
           "2.5.1.6",
           null,
           "taxon:2820298",
           0,
           0.11214948724371776,
           -0.3555534003554843,
           0.01900059137507689
          ]
         ],
         "hovertemplate": "<b>%{customdata[0]}</b><br>Family Name: %{customdata[1]}<br>Domain: %{customdata[2]}<br>Kingdom: %{customdata[3]}</b><br>Phylum: %{customdata[4]}<br>Class: %{customdata[5]}<br>Order: %{customdata[6]}<br>Family: %{customdata[7]}<br>Genus: %{customdata[8]}<br>Species: %{customdata[9]}<br>EC Number: %{customdata[10]}<br>Mol Weight: %{customdata[11]}<br>Taxonomy ID: %{customdata[12]}<extra></extra>",
         "marker": {
          "color": "rgb(64, 66, 133)",
          "size": 6,
          "symbol": "circle"
         },
         "mode": "markers",
         "text": "methionine adenosyltransferase",
         "type": "scatter3d",
         "x": [
          0.11214948724371776
         ],
         "y": [
          -0.3555534003554843
         ],
         "z": [
          0.01900059137507689
         ]
        },
        {
         "customdata": [
          [
           "methionine adenosyltransferase",
           null,
           null,
           null,
           null,
           null,
           null,
           null,
           null,
           null,
           "2.5.1.6",
           44326,
           "taxon:1008460",
           0.0010151768945738794,
           0.18180679701929267,
           -0.20542142203370364,
           0.16481794456251594
          ]
         ],
         "hovertemplate": "<b>%{customdata[0]}</b><br>Family Name: %{customdata[1]}<br>Domain: %{customdata[2]}<br>Kingdom: %{customdata[3]}</b><br>Phylum: %{customdata[4]}<br>Class: %{customdata[5]}<br>Order: %{customdata[6]}<br>Family: %{customdata[7]}<br>Genus: %{customdata[8]}<br>Species: %{customdata[9]}<br>EC Number: %{customdata[10]}<br>Mol Weight: %{customdata[11]}<br>Taxonomy ID: %{customdata[12]}<extra></extra>",
         "marker": {
          "color": "rgb(227, 228, 39)",
          "size": 6,
          "symbol": "circle"
         },
         "mode": "markers",
         "text": "methionine adenosyltransferase",
         "type": "scatter3d",
         "x": [
          0.18180679701929267
         ],
         "y": [
          -0.20542142203370364
         ],
         "z": [
          0.16481794456251594
         ]
        },
        {
         "customdata": [
          [
           "S-adenosylmethionine synthetase (EC 2.5.1.6)",
           null,
           null,
           null,
           null,
           null,
           null,
           null,
           null,
           null,
           null,
           null,
           "taxon:272844",
           0,
           0.23366213262424423,
           -0.18351009566745766,
           0.2135251395164947
          ]
         ],
         "hovertemplate": "<b>%{customdata[0]}</b><br>Family Name: %{customdata[1]}<br>Domain: %{customdata[2]}<br>Kingdom: %{customdata[3]}</b><br>Phylum: %{customdata[4]}<br>Class: %{customdata[5]}<br>Order: %{customdata[6]}<br>Family: %{customdata[7]}<br>Genus: %{customdata[8]}<br>Species: %{customdata[9]}<br>EC Number: %{customdata[10]}<br>Mol Weight: %{customdata[11]}<br>Taxonomy ID: %{customdata[12]}<extra></extra>",
         "marker": {
          "color": "rgb(34, 162, 135)",
          "size": 6,
          "symbol": "circle"
         },
         "mode": "markers",
         "text": "S-adenosylmethionine synthetase (EC 2.5.1.6)",
         "type": "scatter3d",
         "x": [
          0.23366213262424423
         ],
         "y": [
          -0.18351009566745766
         ],
         "z": [
          0.2135251395164947
         ]
        },
        {
         "customdata": [
          [
           "404aa long hypothetical protein",
           null,
           null,
           null,
           null,
           null,
           null,
           null,
           null,
           null,
           null,
           null,
           "taxon:70601",
           0,
           0.2429130809744975,
           -0.21789362063958367,
           0.21474679859729598
          ]
         ],
         "hovertemplate": "<b>%{customdata[0]}</b><br>Family Name: %{customdata[1]}<br>Domain: %{customdata[2]}<br>Kingdom: %{customdata[3]}</b><br>Phylum: %{customdata[4]}<br>Class: %{customdata[5]}<br>Order: %{customdata[6]}<br>Family: %{customdata[7]}<br>Genus: %{customdata[8]}<br>Species: %{customdata[9]}<br>EC Number: %{customdata[10]}<br>Mol Weight: %{customdata[11]}<br>Taxonomy ID: %{customdata[12]}<extra></extra>",
         "marker": {
          "color": "rgb(69, 12, 94)",
          "size": 6,
          "symbol": "circle"
         },
         "mode": "markers",
         "text": "404aa long hypothetical protein",
         "type": "scatter3d",
         "x": [
          0.2429130809744975
         ],
         "y": [
          -0.21789362063958367
         ],
         "z": [
          0.21474679859729598
         ]
        },
        {
         "customdata": [
          [
           "methionine adenosyltransferase",
           null,
           null,
           null,
           null,
           null,
           null,
           null,
           null,
           null,
           "2.5.1.6",
           null,
           "taxon:2026739",
           0,
           -0.7966950910488153,
           0.6784586658359967,
           -0.34494847856183963
          ]
         ],
         "hovertemplate": "<b>%{customdata[0]}</b><br>Family Name: %{customdata[1]}<br>Domain: %{customdata[2]}<br>Kingdom: %{customdata[3]}</b><br>Phylum: %{customdata[4]}<br>Class: %{customdata[5]}<br>Order: %{customdata[6]}<br>Family: %{customdata[7]}<br>Genus: %{customdata[8]}<br>Species: %{customdata[9]}<br>EC Number: %{customdata[10]}<br>Mol Weight: %{customdata[11]}<br>Taxonomy ID: %{customdata[12]}<extra></extra>",
         "marker": {
          "color": "rgb(56, 88, 140)",
          "size": 6,
          "symbol": "circle"
         },
         "mode": "markers",
         "text": "methionine adenosyltransferase",
         "type": "scatter3d",
         "x": [
          -0.7966950910488153
         ],
         "y": [
          0.6784586658359967
         ],
         "z": [
          -0.34494847856183963
         ]
        },
        {
         "customdata": [
          [
           "methionine adenosyltransferase",
           null,
           null,
           null,
           null,
           null,
           null,
           null,
           null,
           null,
           "2.5.1.6",
           null,
           "taxon:2066021",
           0,
           0.4441183209808349,
           -0.7519785250288452,
           0.14560840339738007
          ]
         ],
         "hovertemplate": "<b>%{customdata[0]}</b><br>Family Name: %{customdata[1]}<br>Domain: %{customdata[2]}<br>Kingdom: %{customdata[3]}</b><br>Phylum: %{customdata[4]}<br>Class: %{customdata[5]}<br>Order: %{customdata[6]}<br>Family: %{customdata[7]}<br>Genus: %{customdata[8]}<br>Species: %{customdata[9]}<br>EC Number: %{customdata[10]}<br>Mol Weight: %{customdata[11]}<br>Taxonomy ID: %{customdata[12]}<extra></extra>",
         "marker": {
          "color": "rgb(40, 124, 142)",
          "size": 6,
          "symbol": "circle"
         },
         "mode": "markers",
         "text": "methionine adenosyltransferase",
         "type": "scatter3d",
         "x": [
          0.4441183209808349
         ],
         "y": [
          -0.7519785250288452
         ],
         "z": [
          0.14560840339738007
         ]
        },
        {
         "customdata": [
          [
           "methionine adenosyltransferase",
           null,
           null,
           null,
           null,
           null,
           null,
           null,
           null,
           null,
           "2.5.1.6",
           45056,
           "taxon:667126",
           0,
           0.09891275987502371,
           -0.6052182524269166,
           0.8747832586538553
          ]
         ],
         "hovertemplate": "<b>%{customdata[0]}</b><br>Family Name: %{customdata[1]}<br>Domain: %{customdata[2]}<br>Kingdom: %{customdata[3]}</b><br>Phylum: %{customdata[4]}<br>Class: %{customdata[5]}<br>Order: %{customdata[6]}<br>Family: %{customdata[7]}<br>Genus: %{customdata[8]}<br>Species: %{customdata[9]}<br>EC Number: %{customdata[10]}<br>Mol Weight: %{customdata[11]}<br>Taxonomy ID: %{customdata[12]}<extra></extra>",
         "marker": {
          "color": "rgb(47, 176, 126)",
          "size": 6,
          "symbol": "circle"
         },
         "mode": "markers",
         "text": "methionine adenosyltransferase",
         "type": "scatter3d",
         "x": [
          0.09891275987502371
         ],
         "y": [
          -0.6052182524269166
         ],
         "z": [
          0.8747832586538553
         ]
        },
        {
         "customdata": [
          [
           "methionine adenosyltransferase",
           null,
           null,
           null,
           null,
           null,
           null,
           null,
           null,
           null,
           "2.5.1.6",
           45193,
           "taxon:67760",
           0,
           0.3714612312613657,
           0.7641782539127908,
           0.6780028279299225
          ]
         ],
         "hovertemplate": "<b>%{customdata[0]}</b><br>Family Name: %{customdata[1]}<br>Domain: %{customdata[2]}<br>Kingdom: %{customdata[3]}</b><br>Phylum: %{customdata[4]}<br>Class: %{customdata[5]}<br>Order: %{customdata[6]}<br>Family: %{customdata[7]}<br>Genus: %{customdata[8]}<br>Species: %{customdata[9]}<br>EC Number: %{customdata[10]}<br>Mol Weight: %{customdata[11]}<br>Taxonomy ID: %{customdata[12]}<extra></extra>",
         "marker": {
          "color": "rgb(68, 1, 84)",
          "size": 6,
          "symbol": "circle"
         },
         "mode": "markers",
         "text": "methionine adenosyltransferase",
         "type": "scatter3d",
         "x": [
          0.3714612312613657
         ],
         "y": [
          0.7641782539127908
         ],
         "z": [
          0.6780028279299225
         ]
        },
        {
         "customdata": [
          [
           "methionine adenosyltransferase",
           null,
           null,
           null,
           null,
           null,
           null,
           null,
           null,
           null,
           "2.5.1.6",
           null,
           "taxon:2026736",
           0,
           0.16373978617687493,
           0.727853801849387,
           -0.7444028266154108
          ]
         ],
         "hovertemplate": "<b>%{customdata[0]}</b><br>Family Name: %{customdata[1]}<br>Domain: %{customdata[2]}<br>Kingdom: %{customdata[3]}</b><br>Phylum: %{customdata[4]}<br>Class: %{customdata[5]}<br>Order: %{customdata[6]}<br>Family: %{customdata[7]}<br>Genus: %{customdata[8]}<br>Species: %{customdata[9]}<br>EC Number: %{customdata[10]}<br>Mol Weight: %{customdata[11]}<br>Taxonomy ID: %{customdata[12]}<extra></extra>",
         "marker": {
          "color": "rgb(71, 34, 115)",
          "size": 6,
          "symbol": "circle"
         },
         "mode": "markers",
         "text": "methionine adenosyltransferase",
         "type": "scatter3d",
         "x": [
          0.16373978617687493
         ],
         "y": [
          0.727853801849387
         ],
         "z": [
          -0.7444028266154108
         ]
        },
        {
         "customdata": [
          [
           "methionine adenosyltransferase",
           null,
           null,
           null,
           null,
           null,
           null,
           null,
           null,
           null,
           "2.5.1.6",
           null,
           "taxon:2250258",
           0,
           -0.546054686741199,
           -0.8991459025259633,
           -0.2167235265381713
          ]
         ],
         "hovertemplate": "<b>%{customdata[0]}</b><br>Family Name: %{customdata[1]}<br>Domain: %{customdata[2]}<br>Kingdom: %{customdata[3]}</b><br>Phylum: %{customdata[4]}<br>Class: %{customdata[5]}<br>Order: %{customdata[6]}<br>Family: %{customdata[7]}<br>Genus: %{customdata[8]}<br>Species: %{customdata[9]}<br>EC Number: %{customdata[10]}<br>Mol Weight: %{customdata[11]}<br>Taxonomy ID: %{customdata[12]}<extra></extra>",
         "marker": {
          "color": "rgb(40, 169, 130)",
          "size": 6,
          "symbol": "circle"
         },
         "mode": "markers",
         "text": "methionine adenosyltransferase",
         "type": "scatter3d",
         "x": [
          -0.546054686741199
         ],
         "y": [
          -0.8991459025259633
         ],
         "z": [
          -0.2167235265381713
         ]
        },
        {
         "customdata": [
          [
           "methionine adenosyltransferase",
           null,
           null,
           null,
           null,
           null,
           null,
           null,
           null,
           null,
           "2.5.1.6",
           44437,
           "taxon:58290",
           0,
           -0.2521724752643518,
           -0.6022591614777364,
           0.7404658498175951
          ]
         ],
         "hovertemplate": "<b>%{customdata[0]}</b><br>Family Name: %{customdata[1]}<br>Domain: %{customdata[2]}<br>Kingdom: %{customdata[3]}</b><br>Phylum: %{customdata[4]}<br>Class: %{customdata[5]}<br>Order: %{customdata[6]}<br>Family: %{customdata[7]}<br>Genus: %{customdata[8]}<br>Species: %{customdata[9]}<br>EC Number: %{customdata[10]}<br>Mol Weight: %{customdata[11]}<br>Taxonomy ID: %{customdata[12]}<extra></extra>",
         "marker": {
          "color": "rgb(115, 207, 85)",
          "size": 6,
          "symbol": "circle"
         },
         "mode": "markers",
         "text": "methionine adenosyltransferase",
         "type": "scatter3d",
         "x": [
          -0.2521724752643518
         ],
         "y": [
          -0.6022591614777364
         ],
         "z": [
          0.7404658498175951
         ]
        },
        {
         "customdata": [
          [
           "S-adenosylmethionine synthetase",
           null,
           null,
           null,
           null,
           null,
           null,
           null,
           null,
           null,
           "2.5.1.6",
           null,
           "taxon:1975561",
           0,
           -0.436580785448072,
           -0.7813404498139982,
           0.14847372011732912
          ]
         ],
         "hovertemplate": "<b>%{customdata[0]}</b><br>Family Name: %{customdata[1]}<br>Domain: %{customdata[2]}<br>Kingdom: %{customdata[3]}</b><br>Phylum: %{customdata[4]}<br>Class: %{customdata[5]}<br>Order: %{customdata[6]}<br>Family: %{customdata[7]}<br>Genus: %{customdata[8]}<br>Species: %{customdata[9]}<br>EC Number: %{customdata[10]}<br>Mol Weight: %{customdata[11]}<br>Taxonomy ID: %{customdata[12]}<extra></extra>",
         "marker": {
          "color": "rgb(36, 163, 134)",
          "size": 6,
          "symbol": "circle"
         },
         "mode": "markers",
         "text": "S-adenosylmethionine synthetase",
         "type": "scatter3d",
         "x": [
          -0.436580785448072
         ],
         "y": [
          -0.7813404498139982
         ],
         "z": [
          0.14847372011732912
         ]
        },
        {
         "customdata": [
          [
           "methionine adenosyltransferase",
           null,
           null,
           null,
           null,
           null,
           null,
           null,
           null,
           null,
           "2.5.1.6",
           null,
           "taxon:84156",
           0,
           -0.641183208591779,
           0.504699325759445,
           -0.7141413308999401
          ]
         ],
         "hovertemplate": "<b>%{customdata[0]}</b><br>Family Name: %{customdata[1]}<br>Domain: %{customdata[2]}<br>Kingdom: %{customdata[3]}</b><br>Phylum: %{customdata[4]}<br>Class: %{customdata[5]}<br>Order: %{customdata[6]}<br>Family: %{customdata[7]}<br>Genus: %{customdata[8]}<br>Species: %{customdata[9]}<br>EC Number: %{customdata[10]}<br>Mol Weight: %{customdata[11]}<br>Taxonomy ID: %{customdata[12]}<extra></extra>",
         "marker": {
          "color": "rgb(166, 219, 53)",
          "size": 6,
          "symbol": "circle"
         },
         "mode": "markers",
         "text": "methionine adenosyltransferase",
         "type": "scatter3d",
         "x": [
          -0.641183208591779
         ],
         "y": [
          0.504699325759445
         ],
         "z": [
          -0.7141413308999401
         ]
        },
        {
         "customdata": [
          [
           "methionine adenosyltransferase",
           null,
           null,
           null,
           null,
           null,
           null,
           null,
           null,
           null,
           "2.5.1.6",
           null,
           "taxon:565033",
           0,
           0.8494999396697439,
           0.4421338228443764,
           -0.48763616899539286
          ]
         ],
         "hovertemplate": "<b>%{customdata[0]}</b><br>Family Name: %{customdata[1]}<br>Domain: %{customdata[2]}<br>Kingdom: %{customdata[3]}</b><br>Phylum: %{customdata[4]}<br>Class: %{customdata[5]}<br>Order: %{customdata[6]}<br>Family: %{customdata[7]}<br>Genus: %{customdata[8]}<br>Species: %{customdata[9]}<br>EC Number: %{customdata[10]}<br>Mol Weight: %{customdata[11]}<br>Taxonomy ID: %{customdata[12]}<extra></extra>",
         "marker": {
          "color": "rgb(47, 108, 142)",
          "size": 6,
          "symbol": "circle"
         },
         "mode": "markers",
         "text": "methionine adenosyltransferase",
         "type": "scatter3d",
         "x": [
          0.8494999396697439
         ],
         "y": [
          0.4421338228443764
         ],
         "z": [
          -0.48763616899539286
         ]
        },
        {
         "customdata": [
          [
           "methionine adenosyltransferase",
           null,
           null,
           null,
           null,
           null,
           null,
           null,
           null,
           null,
           "2.5.1.6",
           null,
           "taxon:2026739",
           0,
           -0.899936759504234,
           0.5065268265955276,
           0.33219560538402926
          ]
         ],
         "hovertemplate": "<b>%{customdata[0]}</b><br>Family Name: %{customdata[1]}<br>Domain: %{customdata[2]}<br>Kingdom: %{customdata[3]}</b><br>Phylum: %{customdata[4]}<br>Class: %{customdata[5]}<br>Order: %{customdata[6]}<br>Family: %{customdata[7]}<br>Genus: %{customdata[8]}<br>Species: %{customdata[9]}<br>EC Number: %{customdata[10]}<br>Mol Weight: %{customdata[11]}<br>Taxonomy ID: %{customdata[12]}<extra></extra>",
         "marker": {
          "color": "rgb(56, 88, 140)",
          "size": 6,
          "symbol": "circle"
         },
         "mode": "markers",
         "text": "methionine adenosyltransferase",
         "type": "scatter3d",
         "x": [
          -0.899936759504234
         ],
         "y": [
          0.5065268265955276
         ],
         "z": [
          0.33219560538402926
         ]
        },
        {
         "customdata": [
          [
           "methionine adenosyltransferase",
           null,
           null,
           null,
           null,
           null,
           null,
           null,
           null,
           null,
           "2.5.1.6",
           44228,
           "taxon:113653",
           0,
           0.32462608721134184,
           0.4447292094382064,
           -0.8689159833951287
          ]
         ],
         "hovertemplate": "<b>%{customdata[0]}</b><br>Family Name: %{customdata[1]}<br>Domain: %{customdata[2]}<br>Kingdom: %{customdata[3]}</b><br>Phylum: %{customdata[4]}<br>Class: %{customdata[5]}<br>Order: %{customdata[6]}<br>Family: %{customdata[7]}<br>Genus: %{customdata[8]}<br>Species: %{customdata[9]}<br>EC Number: %{customdata[10]}<br>Mol Weight: %{customdata[11]}<br>Taxonomy ID: %{customdata[12]}<extra></extra>",
         "marker": {
          "color": "rgb(130, 211, 75)",
          "size": 6,
          "symbol": "circle"
         },
         "mode": "markers",
         "text": "methionine adenosyltransferase",
         "type": "scatter3d",
         "x": [
          0.32462608721134184
         ],
         "y": [
          0.4447292094382064
         ],
         "z": [
          -0.8689159833951287
         ]
        },
        {
         "customdata": [
          [
           "methionine adenosyltransferase",
           null,
           null,
           null,
           null,
           null,
           null,
           null,
           null,
           null,
           "2.5.1.6",
           null,
           "taxon:2026739",
           0,
           -0.28938345310312535,
           -0.8201980829329223,
           0.6044697512319266
          ]
         ],
         "hovertemplate": "<b>%{customdata[0]}</b><br>Family Name: %{customdata[1]}<br>Domain: %{customdata[2]}<br>Kingdom: %{customdata[3]}</b><br>Phylum: %{customdata[4]}<br>Class: %{customdata[5]}<br>Order: %{customdata[6]}<br>Family: %{customdata[7]}<br>Genus: %{customdata[8]}<br>Species: %{customdata[9]}<br>EC Number: %{customdata[10]}<br>Mol Weight: %{customdata[11]}<br>Taxonomy ID: %{customdata[12]}<extra></extra>",
         "marker": {
          "color": "rgb(56, 88, 140)",
          "size": 6,
          "symbol": "circle"
         },
         "mode": "markers",
         "text": "methionine adenosyltransferase",
         "type": "scatter3d",
         "x": [
          -0.28938345310312535
         ],
         "y": [
          -0.8201980829329223
         ],
         "z": [
          0.6044697512319266
         ]
        },
        {
         "customdata": [
          [
           "methionine adenosyltransferase",
           null,
           null,
           null,
           null,
           null,
           null,
           null,
           null,
           null,
           "2.5.1.6",
           null,
           "taxon:2250258",
           0,
           0.07200006821168844,
           -0.7026460787975433,
           -0.6554082945982107
          ]
         ],
         "hovertemplate": "<b>%{customdata[0]}</b><br>Family Name: %{customdata[1]}<br>Domain: %{customdata[2]}<br>Kingdom: %{customdata[3]}</b><br>Phylum: %{customdata[4]}<br>Class: %{customdata[5]}<br>Order: %{customdata[6]}<br>Family: %{customdata[7]}<br>Genus: %{customdata[8]}<br>Species: %{customdata[9]}<br>EC Number: %{customdata[10]}<br>Mol Weight: %{customdata[11]}<br>Taxonomy ID: %{customdata[12]}<extra></extra>",
         "marker": {
          "color": "rgb(40, 169, 130)",
          "size": 6,
          "symbol": "circle"
         },
         "mode": "markers",
         "text": "methionine adenosyltransferase",
         "type": "scatter3d",
         "x": [
          0.07200006821168844
         ],
         "y": [
          -0.7026460787975433
         ],
         "z": [
          -0.6554082945982107
         ]
        },
        {
         "customdata": [
          [
           "methionine adenosyltransferase",
           null,
           null,
           null,
           null,
           null,
           null,
           null,
           null,
           null,
           "2.5.1.6",
           null,
           "taxon:2250258",
           0,
           -0.42585015680772464,
           -0.26919314352726625,
           0.7792953872237823
          ]
         ],
         "hovertemplate": "<b>%{customdata[0]}</b><br>Family Name: %{customdata[1]}<br>Domain: %{customdata[2]}<br>Kingdom: %{customdata[3]}</b><br>Phylum: %{customdata[4]}<br>Class: %{customdata[5]}<br>Order: %{customdata[6]}<br>Family: %{customdata[7]}<br>Genus: %{customdata[8]}<br>Species: %{customdata[9]}<br>EC Number: %{customdata[10]}<br>Mol Weight: %{customdata[11]}<br>Taxonomy ID: %{customdata[12]}<extra></extra>",
         "marker": {
          "color": "rgb(40, 169, 130)",
          "size": 6,
          "symbol": "circle"
         },
         "mode": "markers",
         "text": "methionine adenosyltransferase",
         "type": "scatter3d",
         "x": [
          -0.42585015680772464
         ],
         "y": [
          -0.26919314352726625
         ],
         "z": [
          0.7792953872237823
         ]
        },
        {
         "customdata": [
          [
           "Methionine adenosyltransferase",
           null,
           null,
           null,
           null,
           null,
           null,
           null,
           null,
           null,
           "2.5.1.6",
           null,
           "taxon:647171",
           0,
           -0.22248112184276114,
           0.7473145142427963,
           0.2502563470338554
          ]
         ],
         "hovertemplate": "<b>%{customdata[0]}</b><br>Family Name: %{customdata[1]}<br>Domain: %{customdata[2]}<br>Kingdom: %{customdata[3]}</b><br>Phylum: %{customdata[4]}<br>Class: %{customdata[5]}<br>Order: %{customdata[6]}<br>Family: %{customdata[7]}<br>Genus: %{customdata[8]}<br>Species: %{customdata[9]}<br>EC Number: %{customdata[10]}<br>Mol Weight: %{customdata[11]}<br>Taxonomy ID: %{customdata[12]}<extra></extra>",
         "marker": {
          "color": "rgb(58, 82, 138)",
          "size": 6,
          "symbol": "circle"
         },
         "mode": "markers",
         "text": "Methionine adenosyltransferase",
         "type": "scatter3d",
         "x": [
          -0.22248112184276114
         ],
         "y": [
          0.7473145142427963
         ],
         "z": [
          0.2502563470338554
         ]
        },
        {
         "customdata": [
          [
           null,
           null,
           null,
           null,
           null,
           null,
           null,
           null,
           null,
           null,
           null,
           null,
           "taxon:243232",
           0,
           -0.2577476431148967,
           0.7447224577844591,
           0.27106920630170367
          ]
         ],
         "hovertemplate": "<b>%{customdata[0]}</b><br>Family Name: %{customdata[1]}<br>Domain: %{customdata[2]}<br>Kingdom: %{customdata[3]}</b><br>Phylum: %{customdata[4]}<br>Class: %{customdata[5]}<br>Order: %{customdata[6]}<br>Family: %{customdata[7]}<br>Genus: %{customdata[8]}<br>Species: %{customdata[9]}<br>EC Number: %{customdata[10]}<br>Mol Weight: %{customdata[11]}<br>Taxonomy ID: %{customdata[12]}<extra></extra>",
         "marker": {
          "color": "rgb(191, 223, 42)",
          "size": 6,
          "symbol": "circle"
         },
         "mode": "markers",
         "type": "scatter3d",
         "x": [
          -0.2577476431148967
         ],
         "y": [
          0.7447224577844591
         ],
         "z": [
          0.27106920630170367
         ]
        },
        {
         "customdata": [
          [
           "methionine adenosyltransferase",
           null,
           null,
           null,
           null,
           null,
           null,
           null,
           null,
           null,
           "2.5.1.6",
           null,
           "taxon:2250258",
           0,
           -0.2267280874264071,
           0.2805178169282478,
           0.6309426763421258
          ]
         ],
         "hovertemplate": "<b>%{customdata[0]}</b><br>Family Name: %{customdata[1]}<br>Domain: %{customdata[2]}<br>Kingdom: %{customdata[3]}</b><br>Phylum: %{customdata[4]}<br>Class: %{customdata[5]}<br>Order: %{customdata[6]}<br>Family: %{customdata[7]}<br>Genus: %{customdata[8]}<br>Species: %{customdata[9]}<br>EC Number: %{customdata[10]}<br>Mol Weight: %{customdata[11]}<br>Taxonomy ID: %{customdata[12]}<extra></extra>",
         "marker": {
          "color": "rgb(40, 169, 130)",
          "size": 6,
          "symbol": "circle"
         },
         "mode": "markers",
         "text": "methionine adenosyltransferase",
         "type": "scatter3d",
         "x": [
          -0.2267280874264071
         ],
         "y": [
          0.2805178169282478
         ],
         "z": [
          0.6309426763421258
         ]
        },
        {
         "customdata": [
          [
           "methionine adenosyltransferase",
           null,
           null,
           null,
           null,
           null,
           null,
           null,
           null,
           null,
           "2.5.1.6",
           44416,
           "taxon:1316941",
           0,
           -0.007236073635904337,
           -0.16716896027966535,
           -0.9895860345457159
          ]
         ],
         "hovertemplate": "<b>%{customdata[0]}</b><br>Family Name: %{customdata[1]}<br>Domain: %{customdata[2]}<br>Kingdom: %{customdata[3]}</b><br>Phylum: %{customdata[4]}<br>Class: %{customdata[5]}<br>Order: %{customdata[6]}<br>Family: %{customdata[7]}<br>Genus: %{customdata[8]}<br>Species: %{customdata[9]}<br>EC Number: %{customdata[10]}<br>Mol Weight: %{customdata[11]}<br>Taxonomy ID: %{customdata[12]}<extra></extra>",
         "marker": {
          "color": "rgb(31, 156, 137)",
          "size": 6,
          "symbol": "circle"
         },
         "mode": "markers",
         "text": "methionine adenosyltransferase",
         "type": "scatter3d",
         "x": [
          -0.007236073635904337
         ],
         "y": [
          -0.16716896027966535
         ],
         "z": [
          -0.9895860345457159
         ]
        },
        {
         "customdata": [
          [
           "methionine adenosyltransferase",
           null,
           null,
           null,
           null,
           null,
           null,
           null,
           null,
           null,
           "2.5.1.6",
           44374,
           "taxon:2798580",
           0,
           -0.6808281779107369,
           -0.8391876625620966,
           0.2410161676575624
          ]
         ],
         "hovertemplate": "<b>%{customdata[0]}</b><br>Family Name: %{customdata[1]}<br>Domain: %{customdata[2]}<br>Kingdom: %{customdata[3]}</b><br>Phylum: %{customdata[4]}<br>Class: %{customdata[5]}<br>Order: %{customdata[6]}<br>Family: %{customdata[7]}<br>Genus: %{customdata[8]}<br>Species: %{customdata[9]}<br>EC Number: %{customdata[10]}<br>Mol Weight: %{customdata[11]}<br>Taxonomy ID: %{customdata[12]}<extra></extra>",
         "marker": {
          "color": "rgb(151, 215, 62)",
          "size": 6,
          "symbol": "circle"
         },
         "mode": "markers",
         "text": "methionine adenosyltransferase",
         "type": "scatter3d",
         "x": [
          -0.6808281779107369
         ],
         "y": [
          -0.8391876625620966
         ],
         "z": [
          0.2410161676575624
         ]
        },
        {
         "customdata": [
          [
           "methionine adenosyltransferase",
           null,
           null,
           null,
           null,
           null,
           null,
           null,
           null,
           null,
           "2.5.1.6",
           null,
           "taxon:1872626",
           0,
           -0.4457966368987101,
           -0.2793396283524824,
           0.8235693689631967
          ]
         ],
         "hovertemplate": "<b>%{customdata[0]}</b><br>Family Name: %{customdata[1]}<br>Domain: %{customdata[2]}<br>Kingdom: %{customdata[3]}</b><br>Phylum: %{customdata[4]}<br>Class: %{customdata[5]}<br>Order: %{customdata[6]}<br>Family: %{customdata[7]}<br>Genus: %{customdata[8]}<br>Species: %{customdata[9]}<br>EC Number: %{customdata[10]}<br>Mol Weight: %{customdata[11]}<br>Taxonomy ID: %{customdata[12]}<extra></extra>",
         "marker": {
          "color": "rgb(45, 113, 142)",
          "size": 6,
          "symbol": "circle"
         },
         "mode": "markers",
         "text": "methionine adenosyltransferase",
         "type": "scatter3d",
         "x": [
          -0.4457966368987101
         ],
         "y": [
          -0.2793396283524824
         ],
         "z": [
          0.8235693689631967
         ]
        },
        {
         "customdata": [
          [
           "methionine adenosyltransferase",
           null,
           null,
           null,
           null,
           null,
           null,
           null,
           null,
           null,
           "2.5.1.6",
           null,
           "taxon:2511821",
           0,
           -0.252944471345499,
           0.2734174455652499,
           0.6630047711337101
          ]
         ],
         "hovertemplate": "<b>%{customdata[0]}</b><br>Family Name: %{customdata[1]}<br>Domain: %{customdata[2]}<br>Kingdom: %{customdata[3]}</b><br>Phylum: %{customdata[4]}<br>Class: %{customdata[5]}<br>Order: %{customdata[6]}<br>Family: %{customdata[7]}<br>Genus: %{customdata[8]}<br>Species: %{customdata[9]}<br>EC Number: %{customdata[10]}<br>Mol Weight: %{customdata[11]}<br>Taxonomy ID: %{customdata[12]}<extra></extra>",
         "marker": {
          "color": "rgb(57, 185, 119)",
          "size": 6,
          "symbol": "circle"
         },
         "mode": "markers",
         "text": "methionine adenosyltransferase",
         "type": "scatter3d",
         "x": [
          -0.252944471345499
         ],
         "y": [
          0.2734174455652499
         ],
         "z": [
          0.6630047711337101
         ]
        },
        {
         "customdata": [
          [
           "methionine adenosyltransferase",
           null,
           null,
           null,
           null,
           null,
           null,
           null,
           null,
           null,
           "2.5.1.6",
           null,
           "taxon:3072938",
           0,
           -0.45575786275627905,
           -0.8777771102013089,
           -0.37231170923776563
          ]
         ],
         "hovertemplate": "<b>%{customdata[0]}</b><br>Family Name: %{customdata[1]}<br>Domain: %{customdata[2]}<br>Kingdom: %{customdata[3]}</b><br>Phylum: %{customdata[4]}<br>Class: %{customdata[5]}<br>Order: %{customdata[6]}<br>Family: %{customdata[7]}<br>Genus: %{customdata[8]}<br>Species: %{customdata[9]}<br>EC Number: %{customdata[10]}<br>Mol Weight: %{customdata[11]}<br>Taxonomy ID: %{customdata[12]}<extra></extra>",
         "marker": {
          "color": "rgb(41, 123, 142)",
          "size": 6,
          "symbol": "circle"
         },
         "mode": "markers",
         "text": "methionine adenosyltransferase",
         "type": "scatter3d",
         "x": [
          -0.45575786275627905
         ],
         "y": [
          -0.8777771102013089
         ],
         "z": [
          -0.37231170923776563
         ]
        },
        {
         "customdata": [
          [
           "methionine adenosyltransferase",
           null,
           null,
           null,
           null,
           null,
           null,
           null,
           null,
           null,
           "2.5.1.6",
           null,
           "taxon:2250255",
           0,
           -0.5485840853571745,
           0.7631002755295632,
           0.5360755103017089
          ]
         ],
         "hovertemplate": "<b>%{customdata[0]}</b><br>Family Name: %{customdata[1]}<br>Domain: %{customdata[2]}<br>Kingdom: %{customdata[3]}</b><br>Phylum: %{customdata[4]}<br>Class: %{customdata[5]}<br>Order: %{customdata[6]}<br>Family: %{customdata[7]}<br>Genus: %{customdata[8]}<br>Species: %{customdata[9]}<br>EC Number: %{customdata[10]}<br>Mol Weight: %{customdata[11]}<br>Taxonomy ID: %{customdata[12]}<extra></extra>",
         "marker": {
          "color": "rgb(65, 188, 114)",
          "size": 6,
          "symbol": "circle"
         },
         "mode": "markers",
         "text": "methionine adenosyltransferase",
         "type": "scatter3d",
         "x": [
          -0.5485840853571745
         ],
         "y": [
          0.7631002755295632
         ],
         "z": [
          0.5360755103017089
         ]
        },
        {
         "customdata": [
          [
           "S-adenosylmethionine synthetase",
           null,
           null,
           null,
           null,
           null,
           null,
           null,
           null,
           null,
           null,
           null,
           "taxon:2005738",
           0,
           0.15273375156611443,
           0.774733352884076,
           0.6166887601298571
          ]
         ],
         "hovertemplate": "<b>%{customdata[0]}</b><br>Family Name: %{customdata[1]}<br>Domain: %{customdata[2]}<br>Kingdom: %{customdata[3]}</b><br>Phylum: %{customdata[4]}<br>Class: %{customdata[5]}<br>Order: %{customdata[6]}<br>Family: %{customdata[7]}<br>Genus: %{customdata[8]}<br>Species: %{customdata[9]}<br>EC Number: %{customdata[10]}<br>Mol Weight: %{customdata[11]}<br>Taxonomy ID: %{customdata[12]}<extra></extra>",
         "marker": {
          "color": "rgb(73, 191, 109)",
          "size": 6,
          "symbol": "circle"
         },
         "mode": "markers",
         "text": "S-adenosylmethionine synthetase",
         "type": "scatter3d",
         "x": [
          0.15273375156611443
         ],
         "y": [
          0.774733352884076
         ],
         "z": [
          0.6166887601298571
         ]
        },
        {
         "customdata": [
          [
           "methionine adenosyltransferase",
           null,
           null,
           null,
           null,
           null,
           null,
           null,
           null,
           null,
           "2.5.1.6",
           null,
           "taxon:90426",
           0.000050758844728693974,
           -0.6704022026729164,
           0.03992420769769209,
           0.18347602486656026
          ]
         ],
         "hovertemplate": "<b>%{customdata[0]}</b><br>Family Name: %{customdata[1]}<br>Domain: %{customdata[2]}<br>Kingdom: %{customdata[3]}</b><br>Phylum: %{customdata[4]}<br>Class: %{customdata[5]}<br>Order: %{customdata[6]}<br>Family: %{customdata[7]}<br>Genus: %{customdata[8]}<br>Species: %{customdata[9]}<br>EC Number: %{customdata[10]}<br>Mol Weight: %{customdata[11]}<br>Taxonomy ID: %{customdata[12]}<extra></extra>",
         "marker": {
          "color": "rgb(90, 198, 100)",
          "size": 6,
          "symbol": "circle"
         },
         "mode": "markers",
         "text": "methionine adenosyltransferase",
         "type": "scatter3d",
         "x": [
          -0.6704022026729164
         ],
         "y": [
          0.03992420769769209
         ],
         "z": [
          0.18347602486656026
         ]
        },
        {
         "customdata": [
          [
           "methionine adenosyltransferase",
           null,
           null,
           null,
           null,
           null,
           null,
           null,
           null,
           null,
           "2.5.1.6",
           null,
           "taxon:2250277",
           0,
           0.5471605276322881,
           0.7802961351905212,
           -0.34953393133342864
          ]
         ],
         "hovertemplate": "<b>%{customdata[0]}</b><br>Family Name: %{customdata[1]}<br>Domain: %{customdata[2]}<br>Kingdom: %{customdata[3]}</b><br>Phylum: %{customdata[4]}<br>Class: %{customdata[5]}<br>Order: %{customdata[6]}<br>Family: %{customdata[7]}<br>Genus: %{customdata[8]}<br>Species: %{customdata[9]}<br>EC Number: %{customdata[10]}<br>Mol Weight: %{customdata[11]}<br>Taxonomy ID: %{customdata[12]}<extra></extra>",
         "marker": {
          "color": "rgb(43, 119, 142)",
          "size": 6,
          "symbol": "circle"
         },
         "mode": "markers",
         "text": "methionine adenosyltransferase",
         "type": "scatter3d",
         "x": [
          0.5471605276322881
         ],
         "y": [
          0.7802961351905212
         ],
         "z": [
          -0.34953393133342864
         ]
        },
        {
         "customdata": [
          [
           "methionine adenosyltransferase",
           null,
           null,
           null,
           null,
           null,
           null,
           null,
           null,
           null,
           "2.5.1.6",
           43675,
           "taxon:1392998",
           0,
           -0.3116191642981323,
           -0.11187962501825557,
           0.07056548712956517
          ]
         ],
         "hovertemplate": "<b>%{customdata[0]}</b><br>Family Name: %{customdata[1]}<br>Domain: %{customdata[2]}<br>Kingdom: %{customdata[3]}</b><br>Phylum: %{customdata[4]}<br>Class: %{customdata[5]}<br>Order: %{customdata[6]}<br>Family: %{customdata[7]}<br>Genus: %{customdata[8]}<br>Species: %{customdata[9]}<br>EC Number: %{customdata[10]}<br>Mol Weight: %{customdata[11]}<br>Taxonomy ID: %{customdata[12]}<extra></extra>",
         "marker": {
          "color": "rgb(42, 121, 142)",
          "size": 6,
          "symbol": "circle"
         },
         "mode": "markers",
         "text": "methionine adenosyltransferase",
         "type": "scatter3d",
         "x": [
          -0.3116191642981323
         ],
         "y": [
          -0.11187962501825557
         ],
         "z": [
          0.07056548712956517
         ]
        },
        {
         "customdata": [
          [
           "methionine adenosyltransferase",
           null,
           null,
           null,
           null,
           null,
           null,
           null,
           null,
           null,
           "2.5.1.6",
           null,
           "taxon:2250255",
           0,
           0.47592954009521504,
           0.5819367139397096,
           -0.8089073853085115
          ]
         ],
         "hovertemplate": "<b>%{customdata[0]}</b><br>Family Name: %{customdata[1]}<br>Domain: %{customdata[2]}<br>Kingdom: %{customdata[3]}</b><br>Phylum: %{customdata[4]}<br>Class: %{customdata[5]}<br>Order: %{customdata[6]}<br>Family: %{customdata[7]}<br>Genus: %{customdata[8]}<br>Species: %{customdata[9]}<br>EC Number: %{customdata[10]}<br>Mol Weight: %{customdata[11]}<br>Taxonomy ID: %{customdata[12]}<extra></extra>",
         "marker": {
          "color": "rgb(65, 188, 114)",
          "size": 6,
          "symbol": "circle"
         },
         "mode": "markers",
         "text": "methionine adenosyltransferase",
         "type": "scatter3d",
         "x": [
          0.47592954009521504
         ],
         "y": [
          0.5819367139397096
         ],
         "z": [
          -0.8089073853085115
         ]
        },
        {
         "customdata": [
          [
           "S-adenosylmethionine synthetase",
           null,
           null,
           null,
           null,
           null,
           null,
           null,
           null,
           null,
           "2.5.1.6",
           null,
           "taxon:439481",
           0,
           -0.06493816647307252,
           -0.3065940879018946,
           -0.8447968813991542
          ]
         ],
         "hovertemplate": "<b>%{customdata[0]}</b><br>Family Name: %{customdata[1]}<br>Domain: %{customdata[2]}<br>Kingdom: %{customdata[3]}</b><br>Phylum: %{customdata[4]}<br>Class: %{customdata[5]}<br>Order: %{customdata[6]}<br>Family: %{customdata[7]}<br>Genus: %{customdata[8]}<br>Species: %{customdata[9]}<br>EC Number: %{customdata[10]}<br>Mol Weight: %{customdata[11]}<br>Taxonomy ID: %{customdata[12]}<extra></extra>",
         "marker": {
          "color": "rgb(71, 32, 112)",
          "size": 6,
          "symbol": "circle"
         },
         "mode": "markers",
         "text": "S-adenosylmethionine synthetase",
         "type": "scatter3d",
         "x": [
          -0.06493816647307252
         ],
         "y": [
          -0.3065940879018946
         ],
         "z": [
          -0.8447968813991542
         ]
        },
        {
         "customdata": [
          [
           "S-adenosylmethionine synthase",
           null,
           null,
           null,
           null,
           null,
           null,
           null,
           null,
           null,
           "2.5.1.6",
           null,
           "taxon:1811685",
           0,
           -0.6752008260348829,
           -0.3001133343177886,
           0.8015628531661196
          ]
         ],
         "hovertemplate": "<b>%{customdata[0]}</b><br>Family Name: %{customdata[1]}<br>Domain: %{customdata[2]}<br>Kingdom: %{customdata[3]}</b><br>Phylum: %{customdata[4]}<br>Class: %{customdata[5]}<br>Order: %{customdata[6]}<br>Family: %{customdata[7]}<br>Genus: %{customdata[8]}<br>Species: %{customdata[9]}<br>EC Number: %{customdata[10]}<br>Mol Weight: %{customdata[11]}<br>Taxonomy ID: %{customdata[12]}<extra></extra>",
         "marker": {
          "color": "rgb(71, 42, 121)",
          "size": 6,
          "symbol": "circle"
         },
         "mode": "markers",
         "text": "S-adenosylmethionine synthase",
         "type": "scatter3d",
         "x": [
          -0.6752008260348829
         ],
         "y": [
          -0.3001133343177886
         ],
         "z": [
          0.8015628531661196
         ]
        },
        {
         "customdata": [
          [
           "methionine adenosyltransferase",
           null,
           null,
           null,
           null,
           null,
           null,
           null,
           null,
           null,
           "2.5.1.6",
           44545,
           "taxon:660064",
           0,
           -0.5141092585060819,
           0.04813898729313572,
           0.7333287441945149
          ]
         ],
         "hovertemplate": "<b>%{customdata[0]}</b><br>Family Name: %{customdata[1]}<br>Domain: %{customdata[2]}<br>Kingdom: %{customdata[3]}</b><br>Phylum: %{customdata[4]}<br>Class: %{customdata[5]}<br>Order: %{customdata[6]}<br>Family: %{customdata[7]}<br>Genus: %{customdata[8]}<br>Species: %{customdata[9]}<br>EC Number: %{customdata[10]}<br>Mol Weight: %{customdata[11]}<br>Taxonomy ID: %{customdata[12]}<extra></extra>",
         "marker": {
          "color": "rgb(47, 110, 142)",
          "size": 6,
          "symbol": "circle"
         },
         "mode": "markers",
         "text": "methionine adenosyltransferase",
         "type": "scatter3d",
         "x": [
          -0.5141092585060819
         ],
         "y": [
          0.04813898729313572
         ],
         "z": [
          0.7333287441945149
         ]
        },
        {
         "customdata": [
          [
           "methionine adenosyltransferase",
           null,
           null,
           null,
           null,
           null,
           null,
           null,
           null,
           null,
           "2.5.1.6",
           null,
           "taxon:1872626",
           0,
           -0.2478811484675729,
           0.7720190974471773,
           0.7536854540524218
          ]
         ],
         "hovertemplate": "<b>%{customdata[0]}</b><br>Family Name: %{customdata[1]}<br>Domain: %{customdata[2]}<br>Kingdom: %{customdata[3]}</b><br>Phylum: %{customdata[4]}<br>Class: %{customdata[5]}<br>Order: %{customdata[6]}<br>Family: %{customdata[7]}<br>Genus: %{customdata[8]}<br>Species: %{customdata[9]}<br>EC Number: %{customdata[10]}<br>Mol Weight: %{customdata[11]}<br>Taxonomy ID: %{customdata[12]}<extra></extra>",
         "marker": {
          "color": "rgb(45, 113, 142)",
          "size": 6,
          "symbol": "circle"
         },
         "mode": "markers",
         "text": "methionine adenosyltransferase",
         "type": "scatter3d",
         "x": [
          -0.2478811484675729
         ],
         "y": [
          0.7720190974471773
         ],
         "z": [
          0.7536854540524218
         ]
        },
        {
         "customdata": [
          [
           "methionine adenosyltransferase",
           null,
           null,
           null,
           null,
           null,
           null,
           null,
           null,
           null,
           "2.5.1.6",
           null,
           "taxon:2026739",
           0.00015227653418608191,
           -0.24732447895823376,
           -0.0036441548637545073,
           0.03780390326130589
          ]
         ],
         "hovertemplate": "<b>%{customdata[0]}</b><br>Family Name: %{customdata[1]}<br>Domain: %{customdata[2]}<br>Kingdom: %{customdata[3]}</b><br>Phylum: %{customdata[4]}<br>Class: %{customdata[5]}<br>Order: %{customdata[6]}<br>Family: %{customdata[7]}<br>Genus: %{customdata[8]}<br>Species: %{customdata[9]}<br>EC Number: %{customdata[10]}<br>Mol Weight: %{customdata[11]}<br>Taxonomy ID: %{customdata[12]}<extra></extra>",
         "marker": {
          "color": "rgb(56, 88, 140)",
          "size": 6,
          "symbol": "circle"
         },
         "mode": "markers",
         "text": "methionine adenosyltransferase",
         "type": "scatter3d",
         "x": [
          -0.24732447895823376
         ],
         "y": [
          -0.0036441548637545073
         ],
         "z": [
          0.03780390326130589
         ]
        },
        {
         "customdata": [
          [
           "methionine adenosyltransferase",
           null,
           null,
           null,
           null,
           null,
           null,
           null,
           null,
           null,
           "2.5.1.6",
           44048,
           "taxon:2222",
           0,
           -0.4018766487881022,
           -0.9475420929531135,
           0.20748138171898015
          ]
         ],
         "hovertemplate": "<b>%{customdata[0]}</b><br>Family Name: %{customdata[1]}<br>Domain: %{customdata[2]}<br>Kingdom: %{customdata[3]}</b><br>Phylum: %{customdata[4]}<br>Class: %{customdata[5]}<br>Order: %{customdata[6]}<br>Family: %{customdata[7]}<br>Genus: %{customdata[8]}<br>Species: %{customdata[9]}<br>EC Number: %{customdata[10]}<br>Mol Weight: %{customdata[11]}<br>Taxonomy ID: %{customdata[12]}<extra></extra>",
         "marker": {
          "color": "rgb(68, 4, 87)",
          "size": 6,
          "symbol": "circle"
         },
         "mode": "markers",
         "text": "methionine adenosyltransferase",
         "type": "scatter3d",
         "x": [
          -0.4018766487881022
         ],
         "y": [
          -0.9475420929531135
         ],
         "z": [
          0.20748138171898015
         ]
        },
        {
         "customdata": [
          [
           "methionine adenosyltransferase",
           null,
           null,
           null,
           null,
           null,
           null,
           null,
           null,
           null,
           "2.5.1.6",
           null,
           "taxon:58290",
           0,
           0.06252529337810671,
           -0.7402333483281169,
           -0.6395174844707301
          ]
         ],
         "hovertemplate": "<b>%{customdata[0]}</b><br>Family Name: %{customdata[1]}<br>Domain: %{customdata[2]}<br>Kingdom: %{customdata[3]}</b><br>Phylum: %{customdata[4]}<br>Class: %{customdata[5]}<br>Order: %{customdata[6]}<br>Family: %{customdata[7]}<br>Genus: %{customdata[8]}<br>Species: %{customdata[9]}<br>EC Number: %{customdata[10]}<br>Mol Weight: %{customdata[11]}<br>Taxonomy ID: %{customdata[12]}<extra></extra>",
         "marker": {
          "color": "rgb(115, 207, 85)",
          "size": 6,
          "symbol": "circle"
         },
         "mode": "markers",
         "text": "methionine adenosyltransferase",
         "type": "scatter3d",
         "x": [
          0.06252529337810671
         ],
         "y": [
          -0.7402333483281169
         ],
         "z": [
          -0.6395174844707301
         ]
        },
        {
         "customdata": [
          [
           "methionine adenosyltransferase",
           null,
           null,
           null,
           null,
           null,
           null,
           null,
           null,
           null,
           "2.5.1.6",
           44256,
           "taxon:2180",
           0,
           0.7436228469591539,
           -0.5403261280127017,
           -0.5486825994651774
          ]
         ],
         "hovertemplate": "<b>%{customdata[0]}</b><br>Family Name: %{customdata[1]}<br>Domain: %{customdata[2]}<br>Kingdom: %{customdata[3]}</b><br>Phylum: %{customdata[4]}<br>Class: %{customdata[5]}<br>Order: %{customdata[6]}<br>Family: %{customdata[7]}<br>Genus: %{customdata[8]}<br>Species: %{customdata[9]}<br>EC Number: %{customdata[10]}<br>Mol Weight: %{customdata[11]}<br>Taxonomy ID: %{customdata[12]}<extra></extra>",
         "marker": {
          "color": "rgb(39, 128, 142)",
          "size": 6,
          "symbol": "circle"
         },
         "mode": "markers",
         "text": "methionine adenosyltransferase",
         "type": "scatter3d",
         "x": [
          0.7436228469591539
         ],
         "y": [
          -0.5403261280127017
         ],
         "z": [
          -0.5486825994651774
         ]
        },
        {
         "customdata": [
          [
           "methionine adenosyltransferase",
           null,
           null,
           null,
           null,
           null,
           null,
           null,
           null,
           null,
           "2.5.1.6",
           null,
           "taxon:2250258",
           0,
           -0.04310937886582557,
           0.9360478183160947,
           -0.41800760087456795
          ]
         ],
         "hovertemplate": "<b>%{customdata[0]}</b><br>Family Name: %{customdata[1]}<br>Domain: %{customdata[2]}<br>Kingdom: %{customdata[3]}</b><br>Phylum: %{customdata[4]}<br>Class: %{customdata[5]}<br>Order: %{customdata[6]}<br>Family: %{customdata[7]}<br>Genus: %{customdata[8]}<br>Species: %{customdata[9]}<br>EC Number: %{customdata[10]}<br>Mol Weight: %{customdata[11]}<br>Taxonomy ID: %{customdata[12]}<extra></extra>",
         "marker": {
          "color": "rgb(40, 169, 130)",
          "size": 6,
          "symbol": "circle"
         },
         "mode": "markers",
         "text": "methionine adenosyltransferase",
         "type": "scatter3d",
         "x": [
          -0.04310937886582557
         ],
         "y": [
          0.9360478183160947
         ],
         "z": [
          -0.41800760087456795
         ]
        },
        {
         "customdata": [
          [
           "methionine adenosyltransferase",
           null,
           null,
           null,
           null,
           null,
           null,
           null,
           null,
           null,
           "2.5.1.6",
           43052,
           "taxon:2485783",
           0,
           0.3303126268416725,
           0.6459663578880607,
           -0.6080924158554825
          ]
         ],
         "hovertemplate": "<b>%{customdata[0]}</b><br>Family Name: %{customdata[1]}<br>Domain: %{customdata[2]}<br>Kingdom: %{customdata[3]}</b><br>Phylum: %{customdata[4]}<br>Class: %{customdata[5]}<br>Order: %{customdata[6]}<br>Family: %{customdata[7]}<br>Genus: %{customdata[8]}<br>Species: %{customdata[9]}<br>EC Number: %{customdata[10]}<br>Mol Weight: %{customdata[11]}<br>Taxonomy ID: %{customdata[12]}<extra></extra>",
         "marker": {
          "color": "rgb(71, 45, 122)",
          "size": 6,
          "symbol": "circle"
         },
         "mode": "markers",
         "text": "methionine adenosyltransferase",
         "type": "scatter3d",
         "x": [
          0.3303126268416725
         ],
         "y": [
          0.6459663578880607
         ],
         "z": [
          -0.6080924158554825
         ]
        },
        {
         "customdata": [
          [
           "methionine adenosyltransferase",
           null,
           null,
           null,
           null,
           null,
           null,
           null,
           null,
           null,
           "2.5.1.6",
           null,
           "taxon:2032688",
           0.00025379422364346985,
           -0.24371052251099978,
           0.04283992398041432,
           0.00041204058980634007
          ]
         ],
         "hovertemplate": "<b>%{customdata[0]}</b><br>Family Name: %{customdata[1]}<br>Domain: %{customdata[2]}<br>Kingdom: %{customdata[3]}</b><br>Phylum: %{customdata[4]}<br>Class: %{customdata[5]}<br>Order: %{customdata[6]}<br>Family: %{customdata[7]}<br>Genus: %{customdata[8]}<br>Species: %{customdata[9]}<br>EC Number: %{customdata[10]}<br>Mol Weight: %{customdata[11]}<br>Taxonomy ID: %{customdata[12]}<extra></extra>",
         "marker": {
          "color": "rgb(44, 117, 142)",
          "size": 6,
          "symbol": "circle"
         },
         "mode": "markers",
         "text": "methionine adenosyltransferase",
         "type": "scatter3d",
         "x": [
          -0.24371052251099978
         ],
         "y": [
          0.04283992398041432
         ],
         "z": [
          0.00041204058980634007
         ]
        },
        {
         "customdata": [
          [
           "S-adenosylmethionine synthetase",
           null,
           null,
           null,
           null,
           null,
           null,
           null,
           null,
           null,
           "2.5.1.6",
           null,
           "taxon:2012529",
           0,
           0.22744299314527905,
           0.07934981314154128,
           -0.9391506798527149
          ]
         ],
         "hovertemplate": "<b>%{customdata[0]}</b><br>Family Name: %{customdata[1]}<br>Domain: %{customdata[2]}<br>Kingdom: %{customdata[3]}</b><br>Phylum: %{customdata[4]}<br>Class: %{customdata[5]}<br>Order: %{customdata[6]}<br>Family: %{customdata[7]}<br>Genus: %{customdata[8]}<br>Species: %{customdata[9]}<br>EC Number: %{customdata[10]}<br>Mol Weight: %{customdata[11]}<br>Taxonomy ID: %{customdata[12]}<extra></extra>",
         "marker": {
          "color": "rgb(110, 206, 88)",
          "size": 6,
          "symbol": "circle"
         },
         "mode": "markers",
         "text": "S-adenosylmethionine synthetase",
         "type": "scatter3d",
         "x": [
          0.22744299314527905
         ],
         "y": [
          0.07934981314154128
         ],
         "z": [
          -0.9391506798527149
         ]
        },
        {
         "customdata": [
          [
           "methionine adenosyltransferase",
           null,
           null,
           null,
           null,
           null,
           null,
           null,
           null,
           null,
           "2.5.1.6",
           null,
           "taxon:2026739",
           0,
           0.749827819518996,
           -0.39169299139607283,
           -0.5482373298543797
          ]
         ],
         "hovertemplate": "<b>%{customdata[0]}</b><br>Family Name: %{customdata[1]}<br>Domain: %{customdata[2]}<br>Kingdom: %{customdata[3]}</b><br>Phylum: %{customdata[4]}<br>Class: %{customdata[5]}<br>Order: %{customdata[6]}<br>Family: %{customdata[7]}<br>Genus: %{customdata[8]}<br>Species: %{customdata[9]}<br>EC Number: %{customdata[10]}<br>Mol Weight: %{customdata[11]}<br>Taxonomy ID: %{customdata[12]}<extra></extra>",
         "marker": {
          "color": "rgb(56, 88, 140)",
          "size": 6,
          "symbol": "circle"
         },
         "mode": "markers",
         "text": "methionine adenosyltransferase",
         "type": "scatter3d",
         "x": [
          0.749827819518996
         ],
         "y": [
          -0.39169299139607283
         ],
         "z": [
          -0.5482373298543797
         ]
        },
        {
         "customdata": [
          [
           "methionine adenosyltransferase",
           null,
           null,
           null,
           null,
           null,
           null,
           null,
           null,
           null,
           "2.5.1.6",
           null,
           "taxon:2666334",
           0,
           -0.9463896526064,
           0.14124116001092124,
           0.3678091809179175
          ]
         ],
         "hovertemplate": "<b>%{customdata[0]}</b><br>Family Name: %{customdata[1]}<br>Domain: %{customdata[2]}<br>Kingdom: %{customdata[3]}</b><br>Phylum: %{customdata[4]}<br>Class: %{customdata[5]}<br>Order: %{customdata[6]}<br>Family: %{customdata[7]}<br>Genus: %{customdata[8]}<br>Species: %{customdata[9]}<br>EC Number: %{customdata[10]}<br>Mol Weight: %{customdata[11]}<br>Taxonomy ID: %{customdata[12]}<extra></extra>",
         "marker": {
          "color": "rgb(55, 91, 140)",
          "size": 6,
          "symbol": "circle"
         },
         "mode": "markers",
         "text": "methionine adenosyltransferase",
         "type": "scatter3d",
         "x": [
          -0.9463896526064
         ],
         "y": [
          0.14124116001092124
         ],
         "z": [
          0.3678091809179175
         ]
        },
        {
         "customdata": [
          [
           "methionine adenosyltransferase",
           null,
           null,
           null,
           null,
           null,
           null,
           null,
           null,
           null,
           "2.5.1.6",
           43971,
           "taxon:2605639",
           0,
           -0.9463997190748298,
           -0.023780534338615943,
           -0.46116432481711345
          ]
         ],
         "hovertemplate": "<b>%{customdata[0]}</b><br>Family Name: %{customdata[1]}<br>Domain: %{customdata[2]}<br>Kingdom: %{customdata[3]}</b><br>Phylum: %{customdata[4]}<br>Class: %{customdata[5]}<br>Order: %{customdata[6]}<br>Family: %{customdata[7]}<br>Genus: %{customdata[8]}<br>Species: %{customdata[9]}<br>EC Number: %{customdata[10]}<br>Mol Weight: %{customdata[11]}<br>Taxonomy ID: %{customdata[12]}<extra></extra>",
         "marker": {
          "color": "rgb(106, 204, 90)",
          "size": 6,
          "symbol": "circle"
         },
         "mode": "markers",
         "text": "methionine adenosyltransferase",
         "type": "scatter3d",
         "x": [
          -0.9463997190748298
         ],
         "y": [
          -0.023780534338615943
         ],
         "z": [
          -0.46116432481711345
         ]
        },
        {
         "customdata": [
          [
           "S-adenosylmethionine synthase",
           null,
           null,
           null,
           null,
           null,
           null,
           null,
           null,
           null,
           "2.5.1.6",
           null,
           "taxon:115547",
           0.00025379422364346985,
           -0.2706926204516827,
           -0.06163814902430465,
           0.047633316368010055
          ]
         ],
         "hovertemplate": "<b>%{customdata[0]}</b><br>Family Name: %{customdata[1]}<br>Domain: %{customdata[2]}<br>Kingdom: %{customdata[3]}</b><br>Phylum: %{customdata[4]}<br>Class: %{customdata[5]}<br>Order: %{customdata[6]}<br>Family: %{customdata[7]}<br>Genus: %{customdata[8]}<br>Species: %{customdata[9]}<br>EC Number: %{customdata[10]}<br>Mol Weight: %{customdata[11]}<br>Taxonomy ID: %{customdata[12]}<extra></extra>",
         "marker": {
          "color": "rgb(61, 75, 137)",
          "size": 6,
          "symbol": "circle"
         },
         "mode": "markers",
         "text": "S-adenosylmethionine synthase",
         "type": "scatter3d",
         "x": [
          -0.2706926204516827
         ],
         "y": [
          -0.06163814902430465
         ],
         "z": [
          0.047633316368010055
         ]
        },
        {
         "customdata": [
          [
           "methionine adenosyltransferase",
           null,
           null,
           null,
           null,
           null,
           null,
           null,
           null,
           null,
           "2.5.1.6",
           43719,
           "taxon:1434100",
           0,
           -0.25320271657682436,
           0.8010100227562483,
           -0.6227741941950449
          ]
         ],
         "hovertemplate": "<b>%{customdata[0]}</b><br>Family Name: %{customdata[1]}<br>Domain: %{customdata[2]}<br>Kingdom: %{customdata[3]}</b><br>Phylum: %{customdata[4]}<br>Class: %{customdata[5]}<br>Order: %{customdata[6]}<br>Family: %{customdata[7]}<br>Genus: %{customdata[8]}<br>Species: %{customdata[9]}<br>EC Number: %{customdata[10]}<br>Mol Weight: %{customdata[11]}<br>Taxonomy ID: %{customdata[12]}<extra></extra>",
         "marker": {
          "color": "rgb(232, 228, 39)",
          "size": 6,
          "symbol": "circle"
         },
         "mode": "markers",
         "text": "methionine adenosyltransferase",
         "type": "scatter3d",
         "x": [
          -0.25320271657682436
         ],
         "y": [
          0.8010100227562483
         ],
         "z": [
          -0.6227741941950449
         ]
        },
        {
         "customdata": [
          [
           "methionine adenosyltransferase",
           null,
           null,
           null,
           null,
           null,
           null,
           null,
           null,
           null,
           "2.5.1.6",
           null,
           "taxon:2250255",
           0,
           -0.30757372335453453,
           -0.7001093590117167,
           0.7737789837793826
          ]
         ],
         "hovertemplate": "<b>%{customdata[0]}</b><br>Family Name: %{customdata[1]}<br>Domain: %{customdata[2]}<br>Kingdom: %{customdata[3]}</b><br>Phylum: %{customdata[4]}<br>Class: %{customdata[5]}<br>Order: %{customdata[6]}<br>Family: %{customdata[7]}<br>Genus: %{customdata[8]}<br>Species: %{customdata[9]}<br>EC Number: %{customdata[10]}<br>Mol Weight: %{customdata[11]}<br>Taxonomy ID: %{customdata[12]}<extra></extra>",
         "marker": {
          "color": "rgb(65, 188, 114)",
          "size": 6,
          "symbol": "circle"
         },
         "mode": "markers",
         "text": "methionine adenosyltransferase",
         "type": "scatter3d",
         "x": [
          -0.30757372335453453
         ],
         "y": [
          -0.7001093590117167
         ],
         "z": [
          0.7737789837793826
         ]
        },
        {
         "customdata": [
          [
           "methionine adenosyltransferase",
           null,
           null,
           null,
           null,
           null,
           null,
           null,
           null,
           null,
           "2.5.1.6",
           null,
           "taxon:1906666",
           0,
           0.7635021153388697,
           -0.5427886007061811,
           0.3738618666065253
          ]
         ],
         "hovertemplate": "<b>%{customdata[0]}</b><br>Family Name: %{customdata[1]}<br>Domain: %{customdata[2]}<br>Kingdom: %{customdata[3]}</b><br>Phylum: %{customdata[4]}<br>Class: %{customdata[5]}<br>Order: %{customdata[6]}<br>Family: %{customdata[7]}<br>Genus: %{customdata[8]}<br>Species: %{customdata[9]}<br>EC Number: %{customdata[10]}<br>Mol Weight: %{customdata[11]}<br>Taxonomy ID: %{customdata[12]}<extra></extra>",
         "marker": {
          "color": "rgb(38, 132, 142)",
          "size": 6,
          "symbol": "circle"
         },
         "mode": "markers",
         "text": "methionine adenosyltransferase",
         "type": "scatter3d",
         "x": [
          0.7635021153388697
         ],
         "y": [
          -0.5427886007061811
         ],
         "z": [
          0.3738618666065253
         ]
        },
        {
         "customdata": [
          [
           "methionine adenosyltransferase",
           null,
           null,
           null,
           null,
           null,
           null,
           null,
           null,
           null,
           "2.5.1.6",
           null,
           "taxon:2250258",
           0,
           0.8933329967627732,
           -0.04326280081114199,
           0.15480994426182265
          ]
         ],
         "hovertemplate": "<b>%{customdata[0]}</b><br>Family Name: %{customdata[1]}<br>Domain: %{customdata[2]}<br>Kingdom: %{customdata[3]}</b><br>Phylum: %{customdata[4]}<br>Class: %{customdata[5]}<br>Order: %{customdata[6]}<br>Family: %{customdata[7]}<br>Genus: %{customdata[8]}<br>Species: %{customdata[9]}<br>EC Number: %{customdata[10]}<br>Mol Weight: %{customdata[11]}<br>Taxonomy ID: %{customdata[12]}<extra></extra>",
         "marker": {
          "color": "rgb(40, 169, 130)",
          "size": 6,
          "symbol": "circle"
         },
         "mode": "markers",
         "text": "methionine adenosyltransferase",
         "type": "scatter3d",
         "x": [
          0.8933329967627732
         ],
         "y": [
          -0.04326280081114199
         ],
         "z": [
          0.15480994426182265
         ]
        },
        {
         "customdata": [
          [
           "S-adenosylmethionine synthase",
           null,
           null,
           null,
           null,
           null,
           null,
           null,
           null,
           null,
           "2.5.1.6",
           null,
           "taxon:1811688",
           0,
           -0.7303531769964956,
           -0.06236256903011879,
           0.16774745546046205
          ]
         ],
         "hovertemplate": "<b>%{customdata[0]}</b><br>Family Name: %{customdata[1]}<br>Domain: %{customdata[2]}<br>Kingdom: %{customdata[3]}</b><br>Phylum: %{customdata[4]}<br>Class: %{customdata[5]}<br>Order: %{customdata[6]}<br>Family: %{customdata[7]}<br>Genus: %{customdata[8]}<br>Species: %{customdata[9]}<br>EC Number: %{customdata[10]}<br>Mol Weight: %{customdata[11]}<br>Taxonomy ID: %{customdata[12]}<extra></extra>",
         "marker": {
          "color": "rgb(33, 160, 136)",
          "size": 6,
          "symbol": "circle"
         },
         "mode": "markers",
         "text": "S-adenosylmethionine synthase",
         "type": "scatter3d",
         "x": [
          -0.7303531769964956
         ],
         "y": [
          -0.06236256903011879
         ],
         "z": [
          0.16774745546046205
         ]
        },
        {
         "customdata": [
          [
           "methionine adenosyltransferase",
           null,
           null,
           null,
           null,
           null,
           null,
           null,
           null,
           null,
           "2.5.1.6",
           44076,
           "taxon:2187",
           0,
           0.8821812253671272,
           0.24408526427224247,
           0.004816732110185852
          ]
         ],
         "hovertemplate": "<b>%{customdata[0]}</b><br>Family Name: %{customdata[1]}<br>Domain: %{customdata[2]}<br>Kingdom: %{customdata[3]}</b><br>Phylum: %{customdata[4]}<br>Class: %{customdata[5]}<br>Order: %{customdata[6]}<br>Family: %{customdata[7]}<br>Genus: %{customdata[8]}<br>Species: %{customdata[9]}<br>EC Number: %{customdata[10]}<br>Mol Weight: %{customdata[11]}<br>Taxonomy ID: %{customdata[12]}<extra></extra>",
         "marker": {
          "color": "rgb(70, 23, 105)",
          "size": 6,
          "symbol": "circle"
         },
         "mode": "markers",
         "text": "methionine adenosyltransferase",
         "type": "scatter3d",
         "x": [
          0.8821812253671272
         ],
         "y": [
          0.24408526427224247
         ],
         "z": [
          0.004816732110185852
         ]
        },
        {
         "customdata": [
          [
           "methionine adenosyltransferase",
           null,
           null,
           null,
           null,
           null,
           null,
           null,
           null,
           null,
           "2.5.1.6",
           null,
           "taxon:2250277",
           0,
           -0.32658737094119816,
           0.3832656476231262,
           0.8715992227884712
          ]
         ],
         "hovertemplate": "<b>%{customdata[0]}</b><br>Family Name: %{customdata[1]}<br>Domain: %{customdata[2]}<br>Kingdom: %{customdata[3]}</b><br>Phylum: %{customdata[4]}<br>Class: %{customdata[5]}<br>Order: %{customdata[6]}<br>Family: %{customdata[7]}<br>Genus: %{customdata[8]}<br>Species: %{customdata[9]}<br>EC Number: %{customdata[10]}<br>Mol Weight: %{customdata[11]}<br>Taxonomy ID: %{customdata[12]}<extra></extra>",
         "marker": {
          "color": "rgb(43, 119, 142)",
          "size": 6,
          "symbol": "circle"
         },
         "mode": "markers",
         "text": "methionine adenosyltransferase",
         "type": "scatter3d",
         "x": [
          -0.32658737094119816
         ],
         "y": [
          0.3832656476231262
         ],
         "z": [
          0.8715992227884712
         ]
        },
        {
         "customdata": [
          [
           "methionine adenosyltransferase",
           null,
           null,
           null,
           null,
           null,
           null,
           null,
           null,
           null,
           "2.5.1.6",
           null,
           "taxon:1906666",
           0,
           0.7692100520264109,
           0.5588833365331708,
           0.3142961853033828
          ]
         ],
         "hovertemplate": "<b>%{customdata[0]}</b><br>Family Name: %{customdata[1]}<br>Domain: %{customdata[2]}<br>Kingdom: %{customdata[3]}</b><br>Phylum: %{customdata[4]}<br>Class: %{customdata[5]}<br>Order: %{customdata[6]}<br>Family: %{customdata[7]}<br>Genus: %{customdata[8]}<br>Species: %{customdata[9]}<br>EC Number: %{customdata[10]}<br>Mol Weight: %{customdata[11]}<br>Taxonomy ID: %{customdata[12]}<extra></extra>",
         "marker": {
          "color": "rgb(38, 132, 142)",
          "size": 6,
          "symbol": "circle"
         },
         "mode": "markers",
         "text": "methionine adenosyltransferase",
         "type": "scatter3d",
         "x": [
          0.7692100520264109
         ],
         "y": [
          0.5588833365331708
         ],
         "z": [
          0.3142961853033828
         ]
        },
        {
         "customdata": [
          [
           "methionine adenosyltransferase",
           null,
           null,
           null,
           null,
           null,
           null,
           null,
           null,
           null,
           "2.5.1.6",
           null,
           "taxon:90426",
           0.000050758844728693974,
           -0.6571210144752653,
           0.011480115248906325,
           0.2074072831211938
          ]
         ],
         "hovertemplate": "<b>%{customdata[0]}</b><br>Family Name: %{customdata[1]}<br>Domain: %{customdata[2]}<br>Kingdom: %{customdata[3]}</b><br>Phylum: %{customdata[4]}<br>Class: %{customdata[5]}<br>Order: %{customdata[6]}<br>Family: %{customdata[7]}<br>Genus: %{customdata[8]}<br>Species: %{customdata[9]}<br>EC Number: %{customdata[10]}<br>Mol Weight: %{customdata[11]}<br>Taxonomy ID: %{customdata[12]}<extra></extra>",
         "marker": {
          "color": "rgb(90, 198, 100)",
          "size": 6,
          "symbol": "circle"
         },
         "mode": "markers",
         "text": "methionine adenosyltransferase",
         "type": "scatter3d",
         "x": [
          -0.6571210144752653
         ],
         "y": [
          0.011480115248906325
         ],
         "z": [
          0.2074072831211938
         ]
        },
        {
         "customdata": [
          [
           "methionine adenosyltransferase",
           null,
           null,
           null,
           null,
           null,
           null,
           null,
           null,
           null,
           "2.5.1.6",
           null,
           "taxon:1945595",
           0,
           0.48253710350625123,
           -0.11565264276510503,
           -0.5580692565574216
          ]
         ],
         "hovertemplate": "<b>%{customdata[0]}</b><br>Family Name: %{customdata[1]}<br>Domain: %{customdata[2]}<br>Kingdom: %{customdata[3]}</b><br>Phylum: %{customdata[4]}<br>Class: %{customdata[5]}<br>Order: %{customdata[6]}<br>Family: %{customdata[7]}<br>Genus: %{customdata[8]}<br>Species: %{customdata[9]}<br>EC Number: %{customdata[10]}<br>Mol Weight: %{customdata[11]}<br>Taxonomy ID: %{customdata[12]}<extra></extra>",
         "marker": {
          "color": "rgb(217, 226, 40)",
          "size": 6,
          "symbol": "circle"
         },
         "mode": "markers",
         "text": "methionine adenosyltransferase",
         "type": "scatter3d",
         "x": [
          0.48253710350625123
         ],
         "y": [
          -0.11565264276510503
         ],
         "z": [
          -0.5580692565574216
         ]
        },
        {
         "customdata": [
          [
           "methionine adenosyltransferase",
           null,
           null,
           null,
           null,
           null,
           null,
           null,
           null,
           null,
           "2.5.1.6",
           null,
           "taxon:2511821",
           0,
           0.23190726498060577,
           -0.9541261167553916,
           -0.47700040623791934
          ]
         ],
         "hovertemplate": "<b>%{customdata[0]}</b><br>Family Name: %{customdata[1]}<br>Domain: %{customdata[2]}<br>Kingdom: %{customdata[3]}</b><br>Phylum: %{customdata[4]}<br>Class: %{customdata[5]}<br>Order: %{customdata[6]}<br>Family: %{customdata[7]}<br>Genus: %{customdata[8]}<br>Species: %{customdata[9]}<br>EC Number: %{customdata[10]}<br>Mol Weight: %{customdata[11]}<br>Taxonomy ID: %{customdata[12]}<extra></extra>",
         "marker": {
          "color": "rgb(57, 185, 119)",
          "size": 6,
          "symbol": "circle"
         },
         "mode": "markers",
         "text": "methionine adenosyltransferase",
         "type": "scatter3d",
         "x": [
          0.23190726498060577
         ],
         "y": [
          -0.9541261167553916
         ],
         "z": [
          -0.47700040623791934
         ]
        },
        {
         "customdata": [
          [
           "S-adenosylmethionine synthase",
           null,
           null,
           null,
           null,
           null,
           null,
           null,
           null,
           null,
           "2.5.1.6",
           null,
           "taxon:115547",
           0.00015227653418608191,
           -0.2612277648163926,
           -0.011823944624663551,
           0.012233535200416853
          ]
         ],
         "hovertemplate": "<b>%{customdata[0]}</b><br>Family Name: %{customdata[1]}<br>Domain: %{customdata[2]}<br>Kingdom: %{customdata[3]}</b><br>Phylum: %{customdata[4]}<br>Class: %{customdata[5]}<br>Order: %{customdata[6]}<br>Family: %{customdata[7]}<br>Genus: %{customdata[8]}<br>Species: %{customdata[9]}<br>EC Number: %{customdata[10]}<br>Mol Weight: %{customdata[11]}<br>Taxonomy ID: %{customdata[12]}<extra></extra>",
         "marker": {
          "color": "rgb(61, 75, 137)",
          "size": 6,
          "symbol": "circle"
         },
         "mode": "markers",
         "text": "S-adenosylmethionine synthase",
         "type": "scatter3d",
         "x": [
          -0.2612277648163926
         ],
         "y": [
          -0.011823944624663551
         ],
         "z": [
          0.012233535200416853
         ]
        },
        {
         "customdata": [
          [
           "methionine adenosyltransferase",
           null,
           null,
           null,
           null,
           null,
           null,
           null,
           null,
           null,
           "2.5.1.6",
           43557,
           "taxon:392018",
           0,
           -0.6288171713495405,
           0.46592436424818334,
           -0.5827902620572148
          ]
         ],
         "hovertemplate": "<b>%{customdata[0]}</b><br>Family Name: %{customdata[1]}<br>Domain: %{customdata[2]}<br>Kingdom: %{customdata[3]}</b><br>Phylum: %{customdata[4]}<br>Class: %{customdata[5]}<br>Order: %{customdata[6]}<br>Family: %{customdata[7]}<br>Genus: %{customdata[8]}<br>Species: %{customdata[9]}<br>EC Number: %{customdata[10]}<br>Mol Weight: %{customdata[11]}<br>Taxonomy ID: %{customdata[12]}<extra></extra>",
         "marker": {
          "color": "rgb(37, 165, 132)",
          "size": 6,
          "symbol": "circle"
         },
         "mode": "markers",
         "text": "methionine adenosyltransferase",
         "type": "scatter3d",
         "x": [
          -0.6288171713495405
         ],
         "y": [
          0.46592436424818334
         ],
         "z": [
          -0.5827902620572148
         ]
        },
        {
         "customdata": [
          [
           "methionine adenosyltransferase",
           null,
           null,
           null,
           null,
           null,
           null,
           null,
           null,
           null,
           "2.5.1.6",
           43663,
           "taxon:39669",
           0,
           -0.4672791057711574,
           0.6742938901342382,
           0.4176816918562731
          ]
         ],
         "hovertemplate": "<b>%{customdata[0]}</b><br>Family Name: %{customdata[1]}<br>Domain: %{customdata[2]}<br>Kingdom: %{customdata[3]}</b><br>Phylum: %{customdata[4]}<br>Class: %{customdata[5]}<br>Order: %{customdata[6]}<br>Family: %{customdata[7]}<br>Genus: %{customdata[8]}<br>Species: %{customdata[9]}<br>EC Number: %{customdata[10]}<br>Mol Weight: %{customdata[11]}<br>Taxonomy ID: %{customdata[12]}<extra></extra>",
         "marker": {
          "color": "rgb(39, 167, 131)",
          "size": 6,
          "symbol": "circle"
         },
         "mode": "markers",
         "text": "methionine adenosyltransferase",
         "type": "scatter3d",
         "x": [
          -0.4672791057711574
         ],
         "y": [
          0.6742938901342382
         ],
         "z": [
          0.4176816918562731
         ]
        },
        {
         "customdata": [
          [
           "methionine adenosyltransferase",
           null,
           null,
           null,
           null,
           null,
           null,
           null,
           null,
           null,
           "2.5.1.6",
           null,
           "taxon:2511821",
           0,
           0.8735463139391633,
           0.27385475847138113,
           0.22249267195742006
          ]
         ],
         "hovertemplate": "<b>%{customdata[0]}</b><br>Family Name: %{customdata[1]}<br>Domain: %{customdata[2]}<br>Kingdom: %{customdata[3]}</b><br>Phylum: %{customdata[4]}<br>Class: %{customdata[5]}<br>Order: %{customdata[6]}<br>Family: %{customdata[7]}<br>Genus: %{customdata[8]}<br>Species: %{customdata[9]}<br>EC Number: %{customdata[10]}<br>Mol Weight: %{customdata[11]}<br>Taxonomy ID: %{customdata[12]}<extra></extra>",
         "marker": {
          "color": "rgb(57, 185, 119)",
          "size": 6,
          "symbol": "circle"
         },
         "mode": "markers",
         "text": "methionine adenosyltransferase",
         "type": "scatter3d",
         "x": [
          0.8735463139391633
         ],
         "y": [
          0.27385475847138113
         ],
         "z": [
          0.22249267195742006
         ]
        },
        {
         "customdata": [
          [
           "methionine adenosyltransferase",
           null,
           null,
           null,
           null,
           null,
           null,
           null,
           null,
           null,
           "2.5.1.6",
           null,
           "taxon:2595067",
           0,
           -0.7500554754455795,
           -0.013183986101664756,
           0.14454510524275455
          ]
         ],
         "hovertemplate": "<b>%{customdata[0]}</b><br>Family Name: %{customdata[1]}<br>Domain: %{customdata[2]}<br>Kingdom: %{customdata[3]}</b><br>Phylum: %{customdata[4]}<br>Class: %{customdata[5]}<br>Order: %{customdata[6]}<br>Family: %{customdata[7]}<br>Genus: %{customdata[8]}<br>Species: %{customdata[9]}<br>EC Number: %{customdata[10]}<br>Mol Weight: %{customdata[11]}<br>Taxonomy ID: %{customdata[12]}<extra></extra>",
         "marker": {
          "color": "rgb(38, 130, 142)",
          "size": 6,
          "symbol": "circle"
         },
         "mode": "markers",
         "text": "methionine adenosyltransferase",
         "type": "scatter3d",
         "x": [
          -0.7500554754455795
         ],
         "y": [
          -0.013183986101664756
         ],
         "z": [
          0.14454510524275455
         ]
        },
        {
         "customdata": [
          [
           "methionine adenosyltransferase",
           null,
           null,
           null,
           null,
           null,
           null,
           null,
           null,
           null,
           "2.5.1.6",
           null,
           "taxon:2026739",
           0,
           -0.27732791949682906,
           0.029211875972764534,
           0.023709575716400574
          ]
         ],
         "hovertemplate": "<b>%{customdata[0]}</b><br>Family Name: %{customdata[1]}<br>Domain: %{customdata[2]}<br>Kingdom: %{customdata[3]}</b><br>Phylum: %{customdata[4]}<br>Class: %{customdata[5]}<br>Order: %{customdata[6]}<br>Family: %{customdata[7]}<br>Genus: %{customdata[8]}<br>Species: %{customdata[9]}<br>EC Number: %{customdata[10]}<br>Mol Weight: %{customdata[11]}<br>Taxonomy ID: %{customdata[12]}<extra></extra>",
         "marker": {
          "color": "rgb(56, 88, 140)",
          "size": 6,
          "symbol": "circle"
         },
         "mode": "markers",
         "text": "methionine adenosyltransferase",
         "type": "scatter3d",
         "x": [
          -0.27732791949682906
         ],
         "y": [
          0.029211875972764534
         ],
         "z": [
          0.023709575716400574
         ]
        },
        {
         "customdata": [
          [
           "methionine adenosyltransferase",
           null,
           null,
           null,
           null,
           null,
           null,
           null,
           null,
           null,
           "2.5.1.6",
           null,
           "taxon:2595067",
           0,
           0.7733232858575809,
           0.11611935404779371,
           0.6436829182886152
          ]
         ],
         "hovertemplate": "<b>%{customdata[0]}</b><br>Family Name: %{customdata[1]}<br>Domain: %{customdata[2]}<br>Kingdom: %{customdata[3]}</b><br>Phylum: %{customdata[4]}<br>Class: %{customdata[5]}<br>Order: %{customdata[6]}<br>Family: %{customdata[7]}<br>Genus: %{customdata[8]}<br>Species: %{customdata[9]}<br>EC Number: %{customdata[10]}<br>Mol Weight: %{customdata[11]}<br>Taxonomy ID: %{customdata[12]}<extra></extra>",
         "marker": {
          "color": "rgb(38, 130, 142)",
          "size": 6,
          "symbol": "circle"
         },
         "mode": "markers",
         "text": "methionine adenosyltransferase",
         "type": "scatter3d",
         "x": [
          0.7733232858575809
         ],
         "y": [
          0.11611935404779371
         ],
         "z": [
          0.6436829182886152
         ]
        },
        {
         "customdata": [
          [
           "S-adenosylmethionine synthase",
           null,
           null,
           null,
           null,
           null,
           null,
           null,
           null,
           null,
           "2.5.1.6",
           null,
           "taxon:115547",
           0,
           -0.09356070232683293,
           0.5238293033544981,
           0.5227024270204551
          ]
         ],
         "hovertemplate": "<b>%{customdata[0]}</b><br>Family Name: %{customdata[1]}<br>Domain: %{customdata[2]}<br>Kingdom: %{customdata[3]}</b><br>Phylum: %{customdata[4]}<br>Class: %{customdata[5]}<br>Order: %{customdata[6]}<br>Family: %{customdata[7]}<br>Genus: %{customdata[8]}<br>Species: %{customdata[9]}<br>EC Number: %{customdata[10]}<br>Mol Weight: %{customdata[11]}<br>Taxonomy ID: %{customdata[12]}<extra></extra>",
         "marker": {
          "color": "rgb(61, 75, 137)",
          "size": 6,
          "symbol": "circle"
         },
         "mode": "markers",
         "text": "S-adenosylmethionine synthase",
         "type": "scatter3d",
         "x": [
          -0.09356070232683293
         ],
         "y": [
          0.5238293033544981
         ],
         "z": [
          0.5227024270204551
         ]
        },
        {
         "customdata": [
          [
           "methionine adenosyltransferase",
           null,
           null,
           null,
           null,
           null,
           null,
           null,
           null,
           null,
           "2.5.1.6",
           null,
           "taxon:2026714",
           0,
           -0.7403112668304479,
           0.4958907622649078,
           -0.39748373761252953
          ]
         ],
         "hovertemplate": "<b>%{customdata[0]}</b><br>Family Name: %{customdata[1]}<br>Domain: %{customdata[2]}<br>Kingdom: %{customdata[3]}</b><br>Phylum: %{customdata[4]}<br>Class: %{customdata[5]}<br>Order: %{customdata[6]}<br>Family: %{customdata[7]}<br>Genus: %{customdata[8]}<br>Species: %{customdata[9]}<br>EC Number: %{customdata[10]}<br>Mol Weight: %{customdata[11]}<br>Taxonomy ID: %{customdata[12]}<extra></extra>",
         "marker": {
          "color": "rgb(34, 144, 140)",
          "size": 6,
          "symbol": "circle"
         },
         "mode": "markers",
         "text": "methionine adenosyltransferase",
         "type": "scatter3d",
         "x": [
          -0.7403112668304479
         ],
         "y": [
          0.4958907622649078
         ],
         "z": [
          -0.39748373761252953
         ]
        },
        {
         "customdata": [
          [
           "methionine adenosyltransferase",
           null,
           null,
           null,
           null,
           null,
           null,
           null,
           null,
           null,
           "2.5.1.6",
           null,
           "taxon:90426",
           0.00045682960255824577,
           -0.675425614071901,
           -0.0112879830054053,
           0.1643952259713145
          ]
         ],
         "hovertemplate": "<b>%{customdata[0]}</b><br>Family Name: %{customdata[1]}<br>Domain: %{customdata[2]}<br>Kingdom: %{customdata[3]}</b><br>Phylum: %{customdata[4]}<br>Class: %{customdata[5]}<br>Order: %{customdata[6]}<br>Family: %{customdata[7]}<br>Genus: %{customdata[8]}<br>Species: %{customdata[9]}<br>EC Number: %{customdata[10]}<br>Mol Weight: %{customdata[11]}<br>Taxonomy ID: %{customdata[12]}<extra></extra>",
         "marker": {
          "color": "rgb(90, 198, 100)",
          "size": 6,
          "symbol": "circle"
         },
         "mode": "markers",
         "text": "methionine adenosyltransferase",
         "type": "scatter3d",
         "x": [
          -0.675425614071901
         ],
         "y": [
          -0.0112879830054053
         ],
         "z": [
          0.1643952259713145
         ]
        },
        {
         "customdata": [
          [
           "conserved protein",
           null,
           null,
           null,
           null,
           null,
           null,
           null,
           null,
           null,
           null,
           null,
           "taxon:187420",
           0,
           0.6580697478795886,
           0.6678166418079131,
           0.6609516331304452
          ]
         ],
         "hovertemplate": "<b>%{customdata[0]}</b><br>Family Name: %{customdata[1]}<br>Domain: %{customdata[2]}<br>Kingdom: %{customdata[3]}</b><br>Phylum: %{customdata[4]}<br>Class: %{customdata[5]}<br>Order: %{customdata[6]}<br>Family: %{customdata[7]}<br>Genus: %{customdata[8]}<br>Species: %{customdata[9]}<br>EC Number: %{customdata[10]}<br>Mol Weight: %{customdata[11]}<br>Taxonomy ID: %{customdata[12]}<extra></extra>",
         "marker": {
          "color": "rgb(54, 93, 140)",
          "size": 6,
          "symbol": "circle"
         },
         "mode": "markers",
         "text": "conserved protein",
         "type": "scatter3d",
         "x": [
          0.6580697478795886
         ],
         "y": [
          0.6678166418079131
         ],
         "z": [
          0.6609516331304452
         ]
        },
        {
         "customdata": [
          [
           "methionine adenosyltransferase",
           null,
           null,
           null,
           null,
           null,
           null,
           null,
           null,
           null,
           null,
           null,
           "taxon:155900",
           0,
           -0.1698902993507236,
           -0.8832310645372232,
           0.6709239327159466
          ]
         ],
         "hovertemplate": "<b>%{customdata[0]}</b><br>Family Name: %{customdata[1]}<br>Domain: %{customdata[2]}<br>Kingdom: %{customdata[3]}</b><br>Phylum: %{customdata[4]}<br>Class: %{customdata[5]}<br>Order: %{customdata[6]}<br>Family: %{customdata[7]}<br>Genus: %{customdata[8]}<br>Species: %{customdata[9]}<br>EC Number: %{customdata[10]}<br>Mol Weight: %{customdata[11]}<br>Taxonomy ID: %{customdata[12]}<extra></extra>",
         "marker": {
          "color": "rgb(42, 171, 129)",
          "size": 6,
          "symbol": "circle"
         },
         "mode": "markers",
         "text": "methionine adenosyltransferase",
         "type": "scatter3d",
         "x": [
          -0.1698902993507236
         ],
         "y": [
          -0.8832310645372232
         ],
         "z": [
          0.6709239327159466
         ]
        },
        {
         "customdata": [
          [
           "S-adenosylmethionine synthetase",
           null,
           null,
           null,
           null,
           null,
           null,
           null,
           null,
           null,
           "2.5.1.6",
           null,
           "taxon:1978124",
           0,
           0.059627968693228124,
           0.69383508979296,
           -0.0006700405441477156
          ]
         ],
         "hovertemplate": "<b>%{customdata[0]}</b><br>Family Name: %{customdata[1]}<br>Domain: %{customdata[2]}<br>Kingdom: %{customdata[3]}</b><br>Phylum: %{customdata[4]}<br>Class: %{customdata[5]}<br>Order: %{customdata[6]}<br>Family: %{customdata[7]}<br>Genus: %{customdata[8]}<br>Species: %{customdata[9]}<br>EC Number: %{customdata[10]}<br>Mol Weight: %{customdata[11]}<br>Taxonomy ID: %{customdata[12]}<extra></extra>",
         "marker": {
          "color": "rgb(48, 106, 142)",
          "size": 6,
          "symbol": "circle"
         },
         "mode": "markers",
         "text": "S-adenosylmethionine synthetase",
         "type": "scatter3d",
         "x": [
          0.059627968693228124
         ],
         "y": [
          0.69383508979296
         ],
         "z": [
          -0.0006700405441477156
         ]
        },
        {
         "customdata": [
          [
           "methionine adenosyltransferase",
           null,
           null,
           null,
           null,
           null,
           null,
           null,
           null,
           null,
           "2.5.1.6",
           null,
           "taxon:2595067",
           0,
           0.7850390796979423,
           -0.549272552753348,
           -0.1843812465684362
          ]
         ],
         "hovertemplate": "<b>%{customdata[0]}</b><br>Family Name: %{customdata[1]}<br>Domain: %{customdata[2]}<br>Kingdom: %{customdata[3]}</b><br>Phylum: %{customdata[4]}<br>Class: %{customdata[5]}<br>Order: %{customdata[6]}<br>Family: %{customdata[7]}<br>Genus: %{customdata[8]}<br>Species: %{customdata[9]}<br>EC Number: %{customdata[10]}<br>Mol Weight: %{customdata[11]}<br>Taxonomy ID: %{customdata[12]}<extra></extra>",
         "marker": {
          "color": "rgb(38, 130, 142)",
          "size": 6,
          "symbol": "circle"
         },
         "mode": "markers",
         "text": "methionine adenosyltransferase",
         "type": "scatter3d",
         "x": [
          0.7850390796979423
         ],
         "y": [
          -0.549272552753348
         ],
         "z": [
          -0.1843812465684362
         ]
        },
        {
         "customdata": [
          [
           "methionine adenosyltransferase",
           null,
           null,
           null,
           null,
           null,
           null,
           null,
           null,
           null,
           "2.5.1.6",
           43570,
           "taxon:487685",
           0.00010151768945738795,
           0.3086943209041338,
           0.1432456092858488,
           -0.2729798796120402
          ]
         ],
         "hovertemplate": "<b>%{customdata[0]}</b><br>Family Name: %{customdata[1]}<br>Domain: %{customdata[2]}<br>Kingdom: %{customdata[3]}</b><br>Phylum: %{customdata[4]}<br>Class: %{customdata[5]}<br>Order: %{customdata[6]}<br>Family: %{customdata[7]}<br>Genus: %{customdata[8]}<br>Species: %{customdata[9]}<br>EC Number: %{customdata[10]}<br>Mol Weight: %{customdata[11]}<br>Taxonomy ID: %{customdata[12]}<extra></extra>",
         "marker": {
          "color": "rgb(135, 212, 72)",
          "size": 6,
          "symbol": "circle"
         },
         "mode": "markers",
         "text": "methionine adenosyltransferase",
         "type": "scatter3d",
         "x": [
          0.3086943209041338
         ],
         "y": [
          0.1432456092858488
         ],
         "z": [
          -0.2729798796120402
         ]
        },
        {
         "customdata": [
          [
           "methionine adenosyltransferase",
           null,
           null,
           null,
           null,
           null,
           null,
           null,
           null,
           null,
           "2.5.1.6",
           null,
           "taxon:90426",
           0,
           -0.6384961063477239,
           0.051436384732015464,
           0.21666536878254547
          ]
         ],
         "hovertemplate": "<b>%{customdata[0]}</b><br>Family Name: %{customdata[1]}<br>Domain: %{customdata[2]}<br>Kingdom: %{customdata[3]}</b><br>Phylum: %{customdata[4]}<br>Class: %{customdata[5]}<br>Order: %{customdata[6]}<br>Family: %{customdata[7]}<br>Genus: %{customdata[8]}<br>Species: %{customdata[9]}<br>EC Number: %{customdata[10]}<br>Mol Weight: %{customdata[11]}<br>Taxonomy ID: %{customdata[12]}<extra></extra>",
         "marker": {
          "color": "rgb(90, 198, 100)",
          "size": 6,
          "symbol": "circle"
         },
         "mode": "markers",
         "text": "methionine adenosyltransferase",
         "type": "scatter3d",
         "x": [
          -0.6384961063477239
         ],
         "y": [
          0.051436384732015464
         ],
         "z": [
          0.21666536878254547
         ]
        },
        {
         "customdata": [
          [
           "methionine adenosyltransferase",
           null,
           null,
           null,
           null,
           null,
           null,
           null,
           null,
           null,
           "2.5.1.6",
           null,
           "taxon:1906666",
           0,
           0.5674674092166656,
           -0.6542398355187955,
           0.0023495943539675805
          ]
         ],
         "hovertemplate": "<b>%{customdata[0]}</b><br>Family Name: %{customdata[1]}<br>Domain: %{customdata[2]}<br>Kingdom: %{customdata[3]}</b><br>Phylum: %{customdata[4]}<br>Class: %{customdata[5]}<br>Order: %{customdata[6]}<br>Family: %{customdata[7]}<br>Genus: %{customdata[8]}<br>Species: %{customdata[9]}<br>EC Number: %{customdata[10]}<br>Mol Weight: %{customdata[11]}<br>Taxonomy ID: %{customdata[12]}<extra></extra>",
         "marker": {
          "color": "rgb(38, 132, 142)",
          "size": 6,
          "symbol": "circle"
         },
         "mode": "markers",
         "text": "methionine adenosyltransferase",
         "type": "scatter3d",
         "x": [
          0.5674674092166656
         ],
         "y": [
          -0.6542398355187955
         ],
         "z": [
          0.0023495943539675805
         ]
        },
        {
         "customdata": [
          [
           "methionine adenosyltransferase",
           null,
           null,
           null,
           null,
           null,
           null,
           null,
           null,
           null,
           "2.5.1.6",
           null,
           "taxon:2099680",
           0,
           0.8396746369606715,
           -0.6770372322091452,
           0.07833884174934412
          ]
         ],
         "hovertemplate": "<b>%{customdata[0]}</b><br>Family Name: %{customdata[1]}<br>Domain: %{customdata[2]}<br>Kingdom: %{customdata[3]}</b><br>Phylum: %{customdata[4]}<br>Class: %{customdata[5]}<br>Order: %{customdata[6]}<br>Family: %{customdata[7]}<br>Genus: %{customdata[8]}<br>Species: %{customdata[9]}<br>EC Number: %{customdata[10]}<br>Mol Weight: %{customdata[11]}<br>Taxonomy ID: %{customdata[12]}<extra></extra>",
         "marker": {
          "color": "rgb(186, 223, 43)",
          "size": 6,
          "symbol": "circle"
         },
         "mode": "markers",
         "text": "methionine adenosyltransferase",
         "type": "scatter3d",
         "x": [
          0.8396746369606715
         ],
         "y": [
          -0.6770372322091452
         ],
         "z": [
          0.07833884174934412
         ]
        },
        {
         "customdata": [
          [
           "methionine adenosyltransferase",
           null,
           null,
           null,
           null,
           null,
           null,
           null,
           null,
           null,
           "2.5.1.6",
           null,
           "taxon:1906666",
           0,
           0.0256866628399358,
           -0.2721563681714454,
           -0.4408022737539585
          ]
         ],
         "hovertemplate": "<b>%{customdata[0]}</b><br>Family Name: %{customdata[1]}<br>Domain: %{customdata[2]}<br>Kingdom: %{customdata[3]}</b><br>Phylum: %{customdata[4]}<br>Class: %{customdata[5]}<br>Order: %{customdata[6]}<br>Family: %{customdata[7]}<br>Genus: %{customdata[8]}<br>Species: %{customdata[9]}<br>EC Number: %{customdata[10]}<br>Mol Weight: %{customdata[11]}<br>Taxonomy ID: %{customdata[12]}<extra></extra>",
         "marker": {
          "color": "rgb(38, 132, 142)",
          "size": 6,
          "symbol": "circle"
         },
         "mode": "markers",
         "text": "methionine adenosyltransferase",
         "type": "scatter3d",
         "x": [
          0.0256866628399358
         ],
         "y": [
          -0.2721563681714454
         ],
         "z": [
          -0.4408022737539585
         ]
        },
        {
         "customdata": [
          [
           "S-adenosylmethionine synthetase",
           null,
           null,
           null,
           null,
           null,
           null,
           null,
           null,
           null,
           null,
           null,
           "taxon:1794908",
           0.00010151768945738795,
           0.26276438711443106,
           0.16224990849465087,
           -0.3069323118873494
          ]
         ],
         "hovertemplate": "<b>%{customdata[0]}</b><br>Family Name: %{customdata[1]}<br>Domain: %{customdata[2]}<br>Kingdom: %{customdata[3]}</b><br>Phylum: %{customdata[4]}<br>Class: %{customdata[5]}<br>Order: %{customdata[6]}<br>Family: %{customdata[7]}<br>Genus: %{customdata[8]}<br>Species: %{customdata[9]}<br>EC Number: %{customdata[10]}<br>Mol Weight: %{customdata[11]}<br>Taxonomy ID: %{customdata[12]}<extra></extra>",
         "marker": {
          "color": "rgb(222, 227, 40)",
          "size": 6,
          "symbol": "circle"
         },
         "mode": "markers",
         "text": "S-adenosylmethionine synthetase",
         "type": "scatter3d",
         "x": [
          0.26276438711443106
         ],
         "y": [
          0.16224990849465087
         ],
         "z": [
          -0.3069323118873494
         ]
        },
        {
         "customdata": [
          [
           "methionine adenosyltransferase",
           null,
           null,
           null,
           null,
           null,
           null,
           null,
           null,
           null,
           "2.5.1.6",
           null,
           "taxon:1945595",
           0,
           0.5313053491225963,
           0.4744056572320388,
           0.7655871914052784
          ]
         ],
         "hovertemplate": "<b>%{customdata[0]}</b><br>Family Name: %{customdata[1]}<br>Domain: %{customdata[2]}<br>Kingdom: %{customdata[3]}</b><br>Phylum: %{customdata[4]}<br>Class: %{customdata[5]}<br>Order: %{customdata[6]}<br>Family: %{customdata[7]}<br>Genus: %{customdata[8]}<br>Species: %{customdata[9]}<br>EC Number: %{customdata[10]}<br>Mol Weight: %{customdata[11]}<br>Taxonomy ID: %{customdata[12]}<extra></extra>",
         "marker": {
          "color": "rgb(217, 226, 40)",
          "size": 6,
          "symbol": "circle"
         },
         "mode": "markers",
         "text": "methionine adenosyltransferase",
         "type": "scatter3d",
         "x": [
          0.5313053491225963
         ],
         "y": [
          0.4744056572320388
         ],
         "z": [
          0.7655871914052784
         ]
        },
        {
         "customdata": [
          [
           "S-adenosylmethionine synthase",
           null,
           null,
           null,
           null,
           null,
           null,
           null,
           null,
           null,
           "2.5.1.6",
           null,
           "taxon:1811679",
           0,
           0.953103298166896,
           -0.11757548861807711,
           0.0021574010825743226
          ]
         ],
         "hovertemplate": "<b>%{customdata[0]}</b><br>Family Name: %{customdata[1]}<br>Domain: %{customdata[2]}<br>Kingdom: %{customdata[3]}</b><br>Phylum: %{customdata[4]}<br>Class: %{customdata[5]}<br>Order: %{customdata[6]}<br>Family: %{customdata[7]}<br>Genus: %{customdata[8]}<br>Species: %{customdata[9]}<br>EC Number: %{customdata[10]}<br>Mol Weight: %{customdata[11]}<br>Taxonomy ID: %{customdata[12]}<extra></extra>",
         "marker": {
          "color": "rgb(248, 230, 37)",
          "size": 6,
          "symbol": "circle"
         },
         "mode": "markers",
         "text": "S-adenosylmethionine synthase",
         "type": "scatter3d",
         "x": [
          0.953103298166896
         ],
         "y": [
          -0.11757548861807711
         ],
         "z": [
          0.0021574010825743226
         ]
        },
        {
         "customdata": [
          [
           "S-adenosylmethionine synthetase",
           null,
           null,
           null,
           null,
           null,
           null,
           null,
           null,
           null,
           null,
           null,
           "taxon:39152",
           0,
           0.8527233819142421,
           0.24317373890547744,
           0.03419865190408332
          ]
         ],
         "hovertemplate": "<b>%{customdata[0]}</b><br>Family Name: %{customdata[1]}<br>Domain: %{customdata[2]}<br>Kingdom: %{customdata[3]}</b><br>Phylum: %{customdata[4]}<br>Class: %{customdata[5]}<br>Order: %{customdata[6]}<br>Family: %{customdata[7]}<br>Genus: %{customdata[8]}<br>Species: %{customdata[9]}<br>EC Number: %{customdata[10]}<br>Mol Weight: %{customdata[11]}<br>Taxonomy ID: %{customdata[12]}<extra></extra>",
         "marker": {
          "color": "rgb(69, 15, 97)",
          "size": 6,
          "symbol": "circle"
         },
         "mode": "markers",
         "text": "S-adenosylmethionine synthetase",
         "type": "scatter3d",
         "x": [
          0.8527233819142421
         ],
         "y": [
          0.24317373890547744
         ],
         "z": [
          0.03419865190408332
         ]
        },
        {
         "customdata": [
          [
           "methionine adenosyltransferase",
           null,
           null,
           null,
           null,
           null,
           null,
           null,
           null,
           null,
           "2.5.1.6",
           null,
           "taxon:1945595",
           0,
           0.4786959569078549,
           -0.08331625210335072,
           -0.5444356579309103
          ]
         ],
         "hovertemplate": "<b>%{customdata[0]}</b><br>Family Name: %{customdata[1]}<br>Domain: %{customdata[2]}<br>Kingdom: %{customdata[3]}</b><br>Phylum: %{customdata[4]}<br>Class: %{customdata[5]}<br>Order: %{customdata[6]}<br>Family: %{customdata[7]}<br>Genus: %{customdata[8]}<br>Species: %{customdata[9]}<br>EC Number: %{customdata[10]}<br>Mol Weight: %{customdata[11]}<br>Taxonomy ID: %{customdata[12]}<extra></extra>",
         "marker": {
          "color": "rgb(217, 226, 40)",
          "size": 6,
          "symbol": "circle"
         },
         "mode": "markers",
         "text": "methionine adenosyltransferase",
         "type": "scatter3d",
         "x": [
          0.4786959569078549
         ],
         "y": [
          -0.08331625210335072
         ],
         "z": [
          -0.5444356579309103
         ]
        },
        {
         "customdata": [
          [
           "methionine adenosyltransferase",
           null,
           null,
           null,
           null,
           null,
           null,
           null,
           null,
           null,
           "2.5.1.6",
           null,
           "taxon:2511821",
           0,
           -0.2140697684286914,
           -0.9624618580757902,
           0.15577562066541298
          ]
         ],
         "hovertemplate": "<b>%{customdata[0]}</b><br>Family Name: %{customdata[1]}<br>Domain: %{customdata[2]}<br>Kingdom: %{customdata[3]}</b><br>Phylum: %{customdata[4]}<br>Class: %{customdata[5]}<br>Order: %{customdata[6]}<br>Family: %{customdata[7]}<br>Genus: %{customdata[8]}<br>Species: %{customdata[9]}<br>EC Number: %{customdata[10]}<br>Mol Weight: %{customdata[11]}<br>Taxonomy ID: %{customdata[12]}<extra></extra>",
         "marker": {
          "color": "rgb(57, 185, 119)",
          "size": 6,
          "symbol": "circle"
         },
         "mode": "markers",
         "text": "methionine adenosyltransferase",
         "type": "scatter3d",
         "x": [
          -0.2140697684286914
         ],
         "y": [
          -0.9624618580757902
         ],
         "z": [
          0.15577562066541298
         ]
        },
        {
         "customdata": [
          [
           "methionine adenosyltransferase",
           null,
           null,
           null,
           null,
           null,
           null,
           null,
           null,
           null,
           "2.5.1.6",
           null,
           "taxon:90426",
           0.000050758844728693974,
           -0.6855292556607582,
           0.02792914827908922,
           0.2111701039948719
          ]
         ],
         "hovertemplate": "<b>%{customdata[0]}</b><br>Family Name: %{customdata[1]}<br>Domain: %{customdata[2]}<br>Kingdom: %{customdata[3]}</b><br>Phylum: %{customdata[4]}<br>Class: %{customdata[5]}<br>Order: %{customdata[6]}<br>Family: %{customdata[7]}<br>Genus: %{customdata[8]}<br>Species: %{customdata[9]}<br>EC Number: %{customdata[10]}<br>Mol Weight: %{customdata[11]}<br>Taxonomy ID: %{customdata[12]}<extra></extra>",
         "marker": {
          "color": "rgb(90, 198, 100)",
          "size": 6,
          "symbol": "circle"
         },
         "mode": "markers",
         "text": "methionine adenosyltransferase",
         "type": "scatter3d",
         "x": [
          -0.6855292556607582
         ],
         "y": [
          0.02792914827908922
         ],
         "z": [
          0.2111701039948719
         ]
        },
        {
         "customdata": [
          [
           "methionine adenosyltransferase",
           null,
           null,
           null,
           null,
           null,
           null,
           null,
           null,
           null,
           "2.5.1.6",
           43691,
           "taxon:2731220",
           0,
           -0.43819722988795257,
           0.12780272518640198,
           -0.9196293941433323
          ]
         ],
         "hovertemplate": "<b>%{customdata[0]}</b><br>Family Name: %{customdata[1]}<br>Domain: %{customdata[2]}<br>Kingdom: %{customdata[3]}</b><br>Phylum: %{customdata[4]}<br>Class: %{customdata[5]}<br>Order: %{customdata[6]}<br>Family: %{customdata[7]}<br>Genus: %{customdata[8]}<br>Species: %{customdata[9]}<br>EC Number: %{customdata[10]}<br>Mol Weight: %{customdata[11]}<br>Taxonomy ID: %{customdata[12]}<extra></extra>",
         "marker": {
          "color": "rgb(31, 158, 137)",
          "size": 6,
          "symbol": "circle"
         },
         "mode": "markers",
         "text": "methionine adenosyltransferase",
         "type": "scatter3d",
         "x": [
          -0.43819722988795257
         ],
         "y": [
          0.12780272518640198
         ],
         "z": [
          -0.9196293941433323
         ]
        },
        {
         "customdata": [
          [
           "methionine adenosyltransferase",
           null,
           null,
           null,
           null,
           null,
           null,
           null,
           null,
           null,
           "2.5.1.6",
           null,
           "taxon:1945595",
           0,
           0.24775771876955535,
           0.1927116574485631,
           -0.35298322221387085
          ]
         ],
         "hovertemplate": "<b>%{customdata[0]}</b><br>Family Name: %{customdata[1]}<br>Domain: %{customdata[2]}<br>Kingdom: %{customdata[3]}</b><br>Phylum: %{customdata[4]}<br>Class: %{customdata[5]}<br>Order: %{customdata[6]}<br>Family: %{customdata[7]}<br>Genus: %{customdata[8]}<br>Species: %{customdata[9]}<br>EC Number: %{customdata[10]}<br>Mol Weight: %{customdata[11]}<br>Taxonomy ID: %{customdata[12]}<extra></extra>",
         "marker": {
          "color": "rgb(217, 226, 40)",
          "size": 6,
          "symbol": "circle"
         },
         "mode": "markers",
         "text": "methionine adenosyltransferase",
         "type": "scatter3d",
         "x": [
          0.24775771876955535
         ],
         "y": [
          0.1927116574485631
         ],
         "z": [
          -0.35298322221387085
         ]
        },
        {
         "customdata": [
          [
           "methionine adenosyltransferase",
           null,
           null,
           null,
           null,
           null,
           null,
           null,
           null,
           null,
           "2.5.1.6",
           43843,
           "taxon:1431282",
           0,
           -0.8139766330536687,
           0.02739185336789457,
           0.589414301802017
          ]
         ],
         "hovertemplate": "<b>%{customdata[0]}</b><br>Family Name: %{customdata[1]}<br>Domain: %{customdata[2]}<br>Kingdom: %{customdata[3]}</b><br>Phylum: %{customdata[4]}<br>Class: %{customdata[5]}<br>Order: %{customdata[6]}<br>Family: %{customdata[7]}<br>Genus: %{customdata[8]}<br>Species: %{customdata[9]}<br>EC Number: %{customdata[10]}<br>Mol Weight: %{customdata[11]}<br>Taxonomy ID: %{customdata[12]}<extra></extra>",
         "marker": {
          "color": "rgb(69, 7, 89)",
          "size": 6,
          "symbol": "circle"
         },
         "mode": "markers",
         "text": "methionine adenosyltransferase",
         "type": "scatter3d",
         "x": [
          -0.8139766330536687
         ],
         "y": [
          0.02739185336789457
         ],
         "z": [
          0.589414301802017
         ]
        },
        {
         "customdata": [
          [
           "methionine adenosyltransferase",
           null,
           null,
           null,
           null,
           null,
           null,
           null,
           null,
           null,
           "2.5.1.6",
           43805,
           "taxon:2035255",
           0,
           -0.2544242349595202,
           0.1016111850455464,
           -0.029439587537715604
          ]
         ],
         "hovertemplate": "<b>%{customdata[0]}</b><br>Family Name: %{customdata[1]}<br>Domain: %{customdata[2]}<br>Kingdom: %{customdata[3]}</b><br>Phylum: %{customdata[4]}<br>Class: %{customdata[5]}<br>Order: %{customdata[6]}<br>Family: %{customdata[7]}<br>Genus: %{customdata[8]}<br>Species: %{customdata[9]}<br>EC Number: %{customdata[10]}<br>Mol Weight: %{customdata[11]}<br>Taxonomy ID: %{customdata[12]}<extra></extra>",
         "marker": {
          "color": "rgb(44, 172, 128)",
          "size": 6,
          "symbol": "circle"
         },
         "mode": "markers",
         "text": "methionine adenosyltransferase",
         "type": "scatter3d",
         "x": [
          -0.2544242349595202
         ],
         "y": [
          0.1016111850455464
         ],
         "z": [
          -0.029439587537715604
         ]
        },
        {
         "customdata": [
          [
           "methionine adenosyltransferase",
           null,
           null,
           null,
           null,
           null,
           null,
           null,
           null,
           null,
           "2.5.1.6",
           null,
           "taxon:2026739",
           0,
           -0.9922586628012766,
           0.026465292545087792,
           0.11007307284203231
          ]
         ],
         "hovertemplate": "<b>%{customdata[0]}</b><br>Family Name: %{customdata[1]}<br>Domain: %{customdata[2]}<br>Kingdom: %{customdata[3]}</b><br>Phylum: %{customdata[4]}<br>Class: %{customdata[5]}<br>Order: %{customdata[6]}<br>Family: %{customdata[7]}<br>Genus: %{customdata[8]}<br>Species: %{customdata[9]}<br>EC Number: %{customdata[10]}<br>Mol Weight: %{customdata[11]}<br>Taxonomy ID: %{customdata[12]}<extra></extra>",
         "marker": {
          "color": "rgb(56, 88, 140)",
          "size": 6,
          "symbol": "circle"
         },
         "mode": "markers",
         "text": "methionine adenosyltransferase",
         "type": "scatter3d",
         "x": [
          -0.9922586628012766
         ],
         "y": [
          0.026465292545087792
         ],
         "z": [
          0.11007307284203231
         ]
        },
        {
         "customdata": [
          [
           "methionine adenosyltransferase",
           null,
           null,
           null,
           null,
           null,
           null,
           null,
           null,
           null,
           "2.5.1.6",
           null,
           "taxon:2250255",
           0,
           0.1911072633597055,
           0.35531781718386113,
           0.9560189398353286
          ]
         ],
         "hovertemplate": "<b>%{customdata[0]}</b><br>Family Name: %{customdata[1]}<br>Domain: %{customdata[2]}<br>Kingdom: %{customdata[3]}</b><br>Phylum: %{customdata[4]}<br>Class: %{customdata[5]}<br>Order: %{customdata[6]}<br>Family: %{customdata[7]}<br>Genus: %{customdata[8]}<br>Species: %{customdata[9]}<br>EC Number: %{customdata[10]}<br>Mol Weight: %{customdata[11]}<br>Taxonomy ID: %{customdata[12]}<extra></extra>",
         "marker": {
          "color": "rgb(65, 188, 114)",
          "size": 6,
          "symbol": "circle"
         },
         "mode": "markers",
         "text": "methionine adenosyltransferase",
         "type": "scatter3d",
         "x": [
          0.1911072633597055
         ],
         "y": [
          0.35531781718386113
         ],
         "z": [
          0.9560189398353286
         ]
        },
        {
         "customdata": [
          [
           "methionine adenosyltransferase",
           null,
           null,
           null,
           null,
           null,
           null,
           null,
           null,
           null,
           "2.5.1.6",
           null,
           "taxon:2164",
           0,
           0.005853316861662678,
           -0.45940810450480885,
           0.8249223240558478
          ]
         ],
         "hovertemplate": "<b>%{customdata[0]}</b><br>Family Name: %{customdata[1]}<br>Domain: %{customdata[2]}<br>Kingdom: %{customdata[3]}</b><br>Phylum: %{customdata[4]}<br>Class: %{customdata[5]}<br>Order: %{customdata[6]}<br>Family: %{customdata[7]}<br>Genus: %{customdata[8]}<br>Species: %{customdata[9]}<br>EC Number: %{customdata[10]}<br>Mol Weight: %{customdata[11]}<br>Taxonomy ID: %{customdata[12]}<extra></extra>",
         "marker": {
          "color": "rgb(69, 49, 125)",
          "size": 6,
          "symbol": "circle"
         },
         "mode": "markers",
         "text": "methionine adenosyltransferase",
         "type": "scatter3d",
         "x": [
          0.005853316861662678
         ],
         "y": [
          -0.45940810450480885
         ],
         "z": [
          0.8249223240558478
         ]
        },
        {
         "customdata": [
          [
           "methionine adenosyltransferase",
           null,
           null,
           null,
           null,
           null,
           null,
           null,
           null,
           null,
           "2.5.1.6",
           null,
           "taxon:2599821",
           0,
           -0.43500016369959477,
           -0.19487752806774614,
           -0.8899173816242234
          ]
         ],
         "hovertemplate": "<b>%{customdata[0]}</b><br>Family Name: %{customdata[1]}<br>Domain: %{customdata[2]}<br>Kingdom: %{customdata[3]}</b><br>Phylum: %{customdata[4]}<br>Class: %{customdata[5]}<br>Order: %{customdata[6]}<br>Family: %{customdata[7]}<br>Genus: %{customdata[8]}<br>Species: %{customdata[9]}<br>EC Number: %{customdata[10]}<br>Mol Weight: %{customdata[11]}<br>Taxonomy ID: %{customdata[12]}<extra></extra>",
         "marker": {
          "color": "rgb(156, 216, 59)",
          "size": 6,
          "symbol": "circle"
         },
         "mode": "markers",
         "text": "methionine adenosyltransferase",
         "type": "scatter3d",
         "x": [
          -0.43500016369959477
         ],
         "y": [
          -0.19487752806774614
         ],
         "z": [
          -0.8899173816242234
         ]
        },
        {
         "customdata": [
          [
           "methionine adenosyltransferase",
           null,
           null,
           null,
           null,
           null,
           null,
           null,
           null,
           null,
           "2.5.1.6",
           null,
           "taxon:2250277",
           0,
           -0.7435381003351335,
           0.7159026706499716,
           0.5040536746966847
          ]
         ],
         "hovertemplate": "<b>%{customdata[0]}</b><br>Family Name: %{customdata[1]}<br>Domain: %{customdata[2]}<br>Kingdom: %{customdata[3]}</b><br>Phylum: %{customdata[4]}<br>Class: %{customdata[5]}<br>Order: %{customdata[6]}<br>Family: %{customdata[7]}<br>Genus: %{customdata[8]}<br>Species: %{customdata[9]}<br>EC Number: %{customdata[10]}<br>Mol Weight: %{customdata[11]}<br>Taxonomy ID: %{customdata[12]}<extra></extra>",
         "marker": {
          "color": "rgb(43, 119, 142)",
          "size": 6,
          "symbol": "circle"
         },
         "mode": "markers",
         "text": "methionine adenosyltransferase",
         "type": "scatter3d",
         "x": [
          -0.7435381003351335
         ],
         "y": [
          0.7159026706499716
         ],
         "z": [
          0.5040536746966847
         ]
        },
        {
         "customdata": [
          [
           "methionine adenosyltransferase",
           null,
           null,
           null,
           null,
           null,
           null,
           null,
           null,
           null,
           "2.5.1.6",
           null,
           "taxon:1945595",
           0,
           0.5205567137328783,
           -0.10028565096250533,
           -0.5909823163355745
          ]
         ],
         "hovertemplate": "<b>%{customdata[0]}</b><br>Family Name: %{customdata[1]}<br>Domain: %{customdata[2]}<br>Kingdom: %{customdata[3]}</b><br>Phylum: %{customdata[4]}<br>Class: %{customdata[5]}<br>Order: %{customdata[6]}<br>Family: %{customdata[7]}<br>Genus: %{customdata[8]}<br>Species: %{customdata[9]}<br>EC Number: %{customdata[10]}<br>Mol Weight: %{customdata[11]}<br>Taxonomy ID: %{customdata[12]}<extra></extra>",
         "marker": {
          "color": "rgb(217, 226, 40)",
          "size": 6,
          "symbol": "circle"
         },
         "mode": "markers",
         "text": "methionine adenosyltransferase",
         "type": "scatter3d",
         "x": [
          0.5205567137328783
         ],
         "y": [
          -0.10028565096250533
         ],
         "z": [
          -0.5909823163355745
         ]
        },
        {
         "customdata": [
          [
           "methionine adenosyltransferase",
           null,
           null,
           null,
           null,
           null,
           null,
           null,
           null,
           null,
           "2.5.1.6",
           43696,
           "taxon:502115",
           0,
           -0.7678979860950021,
           -0.6113381316896819,
           0.16342893118011698
          ]
         ],
         "hovertemplate": "<b>%{customdata[0]}</b><br>Family Name: %{customdata[1]}<br>Domain: %{customdata[2]}<br>Kingdom: %{customdata[3]}</b><br>Phylum: %{customdata[4]}<br>Class: %{customdata[5]}<br>Order: %{customdata[6]}<br>Family: %{customdata[7]}<br>Genus: %{customdata[8]}<br>Species: %{customdata[9]}<br>EC Number: %{customdata[10]}<br>Mol Weight: %{customdata[11]}<br>Taxonomy ID: %{customdata[12]}<extra></extra>",
         "marker": {
          "color": "rgb(70, 18, 99)",
          "size": 6,
          "symbol": "circle"
         },
         "mode": "markers",
         "text": "methionine adenosyltransferase",
         "type": "scatter3d",
         "x": [
          -0.7678979860950021
         ],
         "y": [
          -0.6113381316896819
         ],
         "z": [
          0.16342893118011698
         ]
        },
        {
         "customdata": [
          [
           "methionine adenosyltransferase",
           null,
           null,
           null,
           null,
           null,
           null,
           null,
           null,
           null,
           "2.5.1.6",
           null,
           "taxon:2072416",
           0,
           0.549644673625664,
           0.3946015261106355,
           -0.6160548087544009
          ]
         ],
         "hovertemplate": "<b>%{customdata[0]}</b><br>Family Name: %{customdata[1]}<br>Domain: %{customdata[2]}<br>Kingdom: %{customdata[3]}</b><br>Phylum: %{customdata[4]}<br>Class: %{customdata[5]}<br>Order: %{customdata[6]}<br>Family: %{customdata[7]}<br>Genus: %{customdata[8]}<br>Species: %{customdata[9]}<br>EC Number: %{customdata[10]}<br>Mol Weight: %{customdata[11]}<br>Taxonomy ID: %{customdata[12]}<extra></extra>",
         "marker": {
          "color": "rgb(238, 229, 38)",
          "size": 6,
          "symbol": "circle"
         },
         "mode": "markers",
         "text": "methionine adenosyltransferase",
         "type": "scatter3d",
         "x": [
          0.549644673625664
         ],
         "y": [
          0.3946015261106355
         ],
         "z": [
          -0.6160548087544009
         ]
        },
        {
         "customdata": [
          [
           "methionine adenosyltransferase",
           null,
           null,
           null,
           null,
           null,
           null,
           null,
           null,
           null,
           "2.5.1.6",
           null,
           "taxon:2268188",
           0,
           0.9173608012077016,
           0.4171492829789441,
           0.07842576804574117
          ]
         ],
         "hovertemplate": "<b>%{customdata[0]}</b><br>Family Name: %{customdata[1]}<br>Domain: %{customdata[2]}<br>Kingdom: %{customdata[3]}</b><br>Phylum: %{customdata[4]}<br>Class: %{customdata[5]}<br>Order: %{customdata[6]}<br>Family: %{customdata[7]}<br>Genus: %{customdata[8]}<br>Species: %{customdata[9]}<br>EC Number: %{customdata[10]}<br>Mol Weight: %{customdata[11]}<br>Taxonomy ID: %{customdata[12]}<extra></extra>",
         "marker": {
          "color": "rgb(40, 126, 142)",
          "size": 6,
          "symbol": "circle"
         },
         "mode": "markers",
         "text": "methionine adenosyltransferase",
         "type": "scatter3d",
         "x": [
          0.9173608012077016
         ],
         "y": [
          0.4171492829789441
         ],
         "z": [
          0.07842576804574117
         ]
        },
        {
         "customdata": [
          [
           "methionine adenosyltransferase",
           null,
           null,
           null,
           null,
           null,
           null,
           null,
           null,
           null,
           "2.5.1.6",
           null,
           "taxon:1945595",
           0,
           0.22390431003117478,
           -0.35383481105530856,
           -0.7916985690391155
          ]
         ],
         "hovertemplate": "<b>%{customdata[0]}</b><br>Family Name: %{customdata[1]}<br>Domain: %{customdata[2]}<br>Kingdom: %{customdata[3]}</b><br>Phylum: %{customdata[4]}<br>Class: %{customdata[5]}<br>Order: %{customdata[6]}<br>Family: %{customdata[7]}<br>Genus: %{customdata[8]}<br>Species: %{customdata[9]}<br>EC Number: %{customdata[10]}<br>Mol Weight: %{customdata[11]}<br>Taxonomy ID: %{customdata[12]}<extra></extra>",
         "marker": {
          "color": "rgb(217, 226, 40)",
          "size": 6,
          "symbol": "circle"
         },
         "mode": "markers",
         "text": "methionine adenosyltransferase",
         "type": "scatter3d",
         "x": [
          0.22390431003117478
         ],
         "y": [
          -0.35383481105530856
         ],
         "z": [
          -0.7916985690391155
         ]
        },
        {
         "customdata": [
          [
           "methionine adenosyltransferase",
           null,
           null,
           null,
           null,
           null,
           null,
           null,
           null,
           null,
           "2.5.1.6",
           null,
           "taxon:1945595",
           0,
           -0.23655460915467497,
           0.4142019648939988,
           -0.9289893244768546
          ]
         ],
         "hovertemplate": "<b>%{customdata[0]}</b><br>Family Name: %{customdata[1]}<br>Domain: %{customdata[2]}<br>Kingdom: %{customdata[3]}</b><br>Phylum: %{customdata[4]}<br>Class: %{customdata[5]}<br>Order: %{customdata[6]}<br>Family: %{customdata[7]}<br>Genus: %{customdata[8]}<br>Species: %{customdata[9]}<br>EC Number: %{customdata[10]}<br>Mol Weight: %{customdata[11]}<br>Taxonomy ID: %{customdata[12]}<extra></extra>",
         "marker": {
          "color": "rgb(217, 226, 40)",
          "size": 6,
          "symbol": "circle"
         },
         "mode": "markers",
         "text": "methionine adenosyltransferase",
         "type": "scatter3d",
         "x": [
          -0.23655460915467497
         ],
         "y": [
          0.4142019648939988
         ],
         "z": [
          -0.9289893244768546
         ]
        },
        {
         "customdata": [
          [
           "methionine adenosyltransferase",
           null,
           null,
           null,
           null,
           null,
           null,
           null,
           null,
           null,
           "2.5.1.6",
           null,
           "taxon:2026739",
           0,
           0.022194003593237373,
           -0.3009716761819873,
           -0.47961755302494136
          ]
         ],
         "hovertemplate": "<b>%{customdata[0]}</b><br>Family Name: %{customdata[1]}<br>Domain: %{customdata[2]}<br>Kingdom: %{customdata[3]}</b><br>Phylum: %{customdata[4]}<br>Class: %{customdata[5]}<br>Order: %{customdata[6]}<br>Family: %{customdata[7]}<br>Genus: %{customdata[8]}<br>Species: %{customdata[9]}<br>EC Number: %{customdata[10]}<br>Mol Weight: %{customdata[11]}<br>Taxonomy ID: %{customdata[12]}<extra></extra>",
         "marker": {
          "color": "rgb(56, 88, 140)",
          "size": 6,
          "symbol": "circle"
         },
         "mode": "markers",
         "text": "methionine adenosyltransferase",
         "type": "scatter3d",
         "x": [
          0.022194003593237373
         ],
         "y": [
          -0.3009716761819873
         ],
         "z": [
          -0.47961755302494136
         ]
        },
        {
         "customdata": [
          [
           "methionine adenosyltransferase",
           null,
           null,
           null,
           null,
           null,
           null,
           null,
           null,
           null,
           null,
           null,
           "taxon:2093792",
           0,
           0.8089717247044339,
           0.47685738370116676,
           -0.13753949370359986
          ]
         ],
         "hovertemplate": "<b>%{customdata[0]}</b><br>Family Name: %{customdata[1]}<br>Domain: %{customdata[2]}<br>Kingdom: %{customdata[3]}</b><br>Phylum: %{customdata[4]}<br>Class: %{customdata[5]}<br>Order: %{customdata[6]}<br>Family: %{customdata[7]}<br>Genus: %{customdata[8]}<br>Species: %{customdata[9]}<br>EC Number: %{customdata[10]}<br>Mol Weight: %{customdata[11]}<br>Taxonomy ID: %{customdata[12]}<extra></extra>",
         "marker": {
          "color": "rgb(94, 199, 97)",
          "size": 6,
          "symbol": "circle"
         },
         "mode": "markers",
         "text": "methionine adenosyltransferase",
         "type": "scatter3d",
         "x": [
          0.8089717247044339
         ],
         "y": [
          0.47685738370116676
         ],
         "z": [
          -0.13753949370359986
         ]
        },
        {
         "customdata": [
          [
           "methionine adenosyltransferase",
           null,
           null,
           null,
           null,
           null,
           null,
           null,
           null,
           null,
           "2.5.1.6",
           44250,
           "taxon:2188",
           0,
           -0.9649618337001018,
           -0.105036352233385,
           -0.06154931259160628
          ]
         ],
         "hovertemplate": "<b>%{customdata[0]}</b><br>Family Name: %{customdata[1]}<br>Domain: %{customdata[2]}<br>Kingdom: %{customdata[3]}</b><br>Phylum: %{customdata[4]}<br>Class: %{customdata[5]}<br>Order: %{customdata[6]}<br>Family: %{customdata[7]}<br>Genus: %{customdata[8]}<br>Species: %{customdata[9]}<br>EC Number: %{customdata[10]}<br>Mol Weight: %{customdata[11]}<br>Taxonomy ID: %{customdata[12]}<extra></extra>",
         "marker": {
          "color": "rgb(71, 29, 110)",
          "size": 6,
          "symbol": "circle"
         },
         "mode": "markers",
         "text": "methionine adenosyltransferase",
         "type": "scatter3d",
         "x": [
          -0.9649618337001018
         ],
         "y": [
          -0.105036352233385
         ],
         "z": [
          -0.06154931259160628
         ]
        },
        {
         "customdata": [
          [
           "S-adenosylmethionine synthetase",
           null,
           null,
           null,
           null,
           null,
           null,
           null,
           null,
           null,
           null,
           null,
           "taxon:1838285",
           0,
           -0.8703398500856363,
           -0.2739436539750974,
           -0.24171528399762413
          ]
         ],
         "hovertemplate": "<b>%{customdata[0]}</b><br>Family Name: %{customdata[1]}<br>Domain: %{customdata[2]}<br>Kingdom: %{customdata[3]}</b><br>Phylum: %{customdata[4]}<br>Class: %{customdata[5]}<br>Order: %{customdata[6]}<br>Family: %{customdata[7]}<br>Genus: %{customdata[8]}<br>Species: %{customdata[9]}<br>EC Number: %{customdata[10]}<br>Mol Weight: %{customdata[11]}<br>Taxonomy ID: %{customdata[12]}<extra></extra>",
         "marker": {
          "color": "rgb(69, 190, 112)",
          "size": 6,
          "symbol": "circle"
         },
         "mode": "markers",
         "text": "S-adenosylmethionine synthetase",
         "type": "scatter3d",
         "x": [
          -0.8703398500856363
         ],
         "y": [
          -0.2739436539750974
         ],
         "z": [
          -0.24171528399762413
         ]
        },
        {
         "customdata": [
          [
           "S-adenosylmethionine synthase",
           null,
           null,
           null,
           null,
           null,
           null,
           null,
           null,
           null,
           "2.5.1.6",
           null,
           "taxon:2691037",
           0,
           0.06163739566839875,
           0.6698086109093742,
           -0.0344341725241282
          ]
         ],
         "hovertemplate": "<b>%{customdata[0]}</b><br>Family Name: %{customdata[1]}<br>Domain: %{customdata[2]}<br>Kingdom: %{customdata[3]}</b><br>Phylum: %{customdata[4]}<br>Class: %{customdata[5]}<br>Order: %{customdata[6]}<br>Family: %{customdata[7]}<br>Genus: %{customdata[8]}<br>Species: %{customdata[9]}<br>EC Number: %{customdata[10]}<br>Mol Weight: %{customdata[11]}<br>Taxonomy ID: %{customdata[12]}<extra></extra>",
         "marker": {
          "color": "rgb(60, 77, 138)",
          "size": 6,
          "symbol": "circle"
         },
         "mode": "markers",
         "text": "S-adenosylmethionine synthase",
         "type": "scatter3d",
         "x": [
          0.06163739566839875
         ],
         "y": [
          0.6698086109093742
         ],
         "z": [
          -0.0344341725241282
         ]
        },
        {
         "customdata": [
          [
           "methionine adenosyltransferase",
           null,
           null,
           null,
           null,
           null,
           null,
           null,
           null,
           null,
           "2.5.1.6",
           null,
           "taxon:2250277",
           0,
           -0.6213723372540558,
           0.5240057987681999,
           0.1612188577873793
          ]
         ],
         "hovertemplate": "<b>%{customdata[0]}</b><br>Family Name: %{customdata[1]}<br>Domain: %{customdata[2]}<br>Kingdom: %{customdata[3]}</b><br>Phylum: %{customdata[4]}<br>Class: %{customdata[5]}<br>Order: %{customdata[6]}<br>Family: %{customdata[7]}<br>Genus: %{customdata[8]}<br>Species: %{customdata[9]}<br>EC Number: %{customdata[10]}<br>Mol Weight: %{customdata[11]}<br>Taxonomy ID: %{customdata[12]}<extra></extra>",
         "marker": {
          "color": "rgb(43, 119, 142)",
          "size": 6,
          "symbol": "circle"
         },
         "mode": "markers",
         "text": "methionine adenosyltransferase",
         "type": "scatter3d",
         "x": [
          -0.6213723372540558
         ],
         "y": [
          0.5240057987681999
         ],
         "z": [
          0.1612188577873793
         ]
        },
        {
         "customdata": [
          [
           "methionine adenosyltransferase",
           null,
           null,
           null,
           null,
           null,
           null,
           null,
           null,
           null,
           "2.5.1.6",
           null,
           "taxon:2971454",
           0,
           0.7058420726696569,
           0.2371908111949821,
           -0.6844448946728174
          ]
         ],
         "hovertemplate": "<b>%{customdata[0]}</b><br>Family Name: %{customdata[1]}<br>Domain: %{customdata[2]}<br>Kingdom: %{customdata[3]}</b><br>Phylum: %{customdata[4]}<br>Class: %{customdata[5]}<br>Order: %{customdata[6]}<br>Family: %{customdata[7]}<br>Genus: %{customdata[8]}<br>Species: %{customdata[9]}<br>EC Number: %{customdata[10]}<br>Mol Weight: %{customdata[11]}<br>Taxonomy ID: %{customdata[12]}<extra></extra>",
         "marker": {
          "color": "rgb(72, 37, 117)",
          "size": 6,
          "symbol": "circle"
         },
         "mode": "markers",
         "text": "methionine adenosyltransferase",
         "type": "scatter3d",
         "x": [
          0.7058420726696569
         ],
         "y": [
          0.2371908111949821
         ],
         "z": [
          -0.6844448946728174
         ]
        },
        {
         "customdata": [
          [
           "methionine adenosyltransferase",
           null,
           null,
           null,
           null,
           null,
           null,
           null,
           null,
           null,
           "2.5.1.6",
           43966,
           "taxon:1615586",
           0,
           -0.11702718600157676,
           -0.4819820614280092,
           -0.10964120534610541
          ]
         ],
         "hovertemplate": "<b>%{customdata[0]}</b><br>Family Name: %{customdata[1]}<br>Domain: %{customdata[2]}<br>Kingdom: %{customdata[3]}</b><br>Phylum: %{customdata[4]}<br>Class: %{customdata[5]}<br>Order: %{customdata[6]}<br>Family: %{customdata[7]}<br>Genus: %{customdata[8]}<br>Species: %{customdata[9]}<br>EC Number: %{customdata[10]}<br>Mol Weight: %{customdata[11]}<br>Taxonomy ID: %{customdata[12]}<extra></extra>",
         "marker": {
          "color": "rgb(51, 181, 122)",
          "size": 6,
          "symbol": "circle"
         },
         "mode": "markers",
         "text": "methionine adenosyltransferase",
         "type": "scatter3d",
         "x": [
          -0.11702718600157676
         ],
         "y": [
          -0.4819820614280092
         ],
         "z": [
          -0.10964120534610541
         ]
        },
        {
         "customdata": [
          [
           "methionine adenosyltransferase",
           null,
           null,
           null,
           null,
           null,
           null,
           null,
           null,
           null,
           "2.5.1.6",
           null,
           "taxon:1906666",
           0,
           0.1297792494353005,
           0.940467363388759,
           0.2206442015629509
          ]
         ],
         "hovertemplate": "<b>%{customdata[0]}</b><br>Family Name: %{customdata[1]}<br>Domain: %{customdata[2]}<br>Kingdom: %{customdata[3]}</b><br>Phylum: %{customdata[4]}<br>Class: %{customdata[5]}<br>Order: %{customdata[6]}<br>Family: %{customdata[7]}<br>Genus: %{customdata[8]}<br>Species: %{customdata[9]}<br>EC Number: %{customdata[10]}<br>Mol Weight: %{customdata[11]}<br>Taxonomy ID: %{customdata[12]}<extra></extra>",
         "marker": {
          "color": "rgb(38, 132, 142)",
          "size": 6,
          "symbol": "circle"
         },
         "mode": "markers",
         "text": "methionine adenosyltransferase",
         "type": "scatter3d",
         "x": [
          0.1297792494353005
         ],
         "y": [
          0.940467363388759
         ],
         "z": [
          0.2206442015629509
         ]
        },
        {
         "customdata": [
          [
           "S-adenosylmethionine synthetase",
           null,
           null,
           null,
           null,
           null,
           null,
           null,
           null,
           null,
           "2.5.1.6",
           null,
           "taxon:2025350",
           0,
           -0.522890327782533,
           0.628627676623511,
           -0.16413483969071838
          ]
         ],
         "hovertemplate": "<b>%{customdata[0]}</b><br>Family Name: %{customdata[1]}<br>Domain: %{customdata[2]}<br>Kingdom: %{customdata[3]}</b><br>Phylum: %{customdata[4]}<br>Class: %{customdata[5]}<br>Order: %{customdata[6]}<br>Family: %{customdata[7]}<br>Genus: %{customdata[8]}<br>Species: %{customdata[9]}<br>EC Number: %{customdata[10]}<br>Mol Weight: %{customdata[11]}<br>Taxonomy ID: %{customdata[12]}<extra></extra>",
         "marker": {
          "color": "rgb(63, 71, 136)",
          "size": 6,
          "symbol": "circle"
         },
         "mode": "markers",
         "text": "S-adenosylmethionine synthetase",
         "type": "scatter3d",
         "x": [
          -0.522890327782533
         ],
         "y": [
          0.628627676623511
         ],
         "z": [
          -0.16413483969071838
         ]
        },
        {
         "customdata": [
          [
           "methionine adenosyltransferase",
           null,
           null,
           null,
           null,
           null,
           null,
           null,
           null,
           null,
           "2.5.1.6",
           null,
           "taxon:155863",
           0,
           -0.4527342245502589,
           0.2672654181068594,
           -0.37875669471564144
          ]
         ],
         "hovertemplate": "<b>%{customdata[0]}</b><br>Family Name: %{customdata[1]}<br>Domain: %{customdata[2]}<br>Kingdom: %{customdata[3]}</b><br>Phylum: %{customdata[4]}<br>Class: %{customdata[5]}<br>Order: %{customdata[6]}<br>Family: %{customdata[7]}<br>Genus: %{customdata[8]}<br>Species: %{customdata[9]}<br>EC Number: %{customdata[10]}<br>Mol Weight: %{customdata[11]}<br>Taxonomy ID: %{customdata[12]}<extra></extra>",
         "marker": {
          "color": "rgb(72, 40, 120)",
          "size": 6,
          "symbol": "circle"
         },
         "mode": "markers",
         "text": "methionine adenosyltransferase",
         "type": "scatter3d",
         "x": [
          -0.4527342245502589
         ],
         "y": [
          0.2672654181068594
         ],
         "z": [
          -0.37875669471564144
         ]
        },
        {
         "customdata": [
          [
           "S-adenosylmethionine synthetase",
           null,
           null,
           null,
           null,
           null,
           null,
           null,
           null,
           null,
           null,
           null,
           "taxon:1797984",
           0,
           0.5497353876656633,
           0.7529460236384036,
           0.02699965345449653
          ]
         ],
         "hovertemplate": "<b>%{customdata[0]}</b><br>Family Name: %{customdata[1]}<br>Domain: %{customdata[2]}<br>Kingdom: %{customdata[3]}</b><br>Phylum: %{customdata[4]}<br>Class: %{customdata[5]}<br>Order: %{customdata[6]}<br>Family: %{customdata[7]}<br>Genus: %{customdata[8]}<br>Species: %{customdata[9]}<br>EC Number: %{customdata[10]}<br>Mol Weight: %{customdata[11]}<br>Taxonomy ID: %{customdata[12]}<extra></extra>",
         "marker": {
          "color": "rgb(53, 183, 121)",
          "size": 6,
          "symbol": "circle"
         },
         "mode": "markers",
         "text": "S-adenosylmethionine synthetase",
         "type": "scatter3d",
         "x": [
          0.5497353876656633
         ],
         "y": [
          0.7529460236384036
         ],
         "z": [
          0.02699965345449653
         ]
        },
        {
         "customdata": [
          [
           "methionine adenosyltransferase",
           null,
           null,
           null,
           null,
           null,
           null,
           null,
           null,
           null,
           "2.5.1.6",
           null,
           "taxon:2250277",
           0,
           -0.6742228198577064,
           -0.6209751600293288,
           -0.7300471168859668
          ]
         ],
         "hovertemplate": "<b>%{customdata[0]}</b><br>Family Name: %{customdata[1]}<br>Domain: %{customdata[2]}<br>Kingdom: %{customdata[3]}</b><br>Phylum: %{customdata[4]}<br>Class: %{customdata[5]}<br>Order: %{customdata[6]}<br>Family: %{customdata[7]}<br>Genus: %{customdata[8]}<br>Species: %{customdata[9]}<br>EC Number: %{customdata[10]}<br>Mol Weight: %{customdata[11]}<br>Taxonomy ID: %{customdata[12]}<extra></extra>",
         "marker": {
          "color": "rgb(43, 119, 142)",
          "size": 6,
          "symbol": "circle"
         },
         "mode": "markers",
         "text": "methionine adenosyltransferase",
         "type": "scatter3d",
         "x": [
          -0.6742228198577064
         ],
         "y": [
          -0.6209751600293288
         ],
         "z": [
          -0.7300471168859668
         ]
        },
        {
         "customdata": [
          [
           "methionine adenosyltransferase",
           null,
           null,
           null,
           null,
           null,
           null,
           null,
           null,
           null,
           "2.5.1.6",
           44313,
           "taxon:680118",
           0,
           -0.7504335884916031,
           0.26501519706250315,
           -0.7298706144639573
          ]
         ],
         "hovertemplate": "<b>%{customdata[0]}</b><br>Family Name: %{customdata[1]}<br>Domain: %{customdata[2]}<br>Kingdom: %{customdata[3]}</b><br>Phylum: %{customdata[4]}<br>Class: %{customdata[5]}<br>Order: %{customdata[6]}<br>Family: %{customdata[7]}<br>Genus: %{customdata[8]}<br>Species: %{customdata[9]}<br>EC Number: %{customdata[10]}<br>Mol Weight: %{customdata[11]}<br>Taxonomy ID: %{customdata[12]}<extra></extra>",
         "marker": {
          "color": "rgb(51, 100, 141)",
          "size": 6,
          "symbol": "circle"
         },
         "mode": "markers",
         "text": "methionine adenosyltransferase",
         "type": "scatter3d",
         "x": [
          -0.7504335884916031
         ],
         "y": [
          0.26501519706250315
         ],
         "z": [
          -0.7298706144639573
         ]
        },
        {
         "customdata": [
          [
           "methionine adenosyltransferase",
           null,
           null,
           null,
           null,
           null,
           null,
           null,
           null,
           null,
           "2.5.1.6",
           null,
           "taxon:2072416",
           0,
           -0.3175259109804712,
           0.5816515885301612,
           -0.8400911530088805
          ]
         ],
         "hovertemplate": "<b>%{customdata[0]}</b><br>Family Name: %{customdata[1]}<br>Domain: %{customdata[2]}<br>Kingdom: %{customdata[3]}</b><br>Phylum: %{customdata[4]}<br>Class: %{customdata[5]}<br>Order: %{customdata[6]}<br>Family: %{customdata[7]}<br>Genus: %{customdata[8]}<br>Species: %{customdata[9]}<br>EC Number: %{customdata[10]}<br>Mol Weight: %{customdata[11]}<br>Taxonomy ID: %{customdata[12]}<extra></extra>",
         "marker": {
          "color": "rgb(238, 229, 38)",
          "size": 6,
          "symbol": "circle"
         },
         "mode": "markers",
         "text": "methionine adenosyltransferase",
         "type": "scatter3d",
         "x": [
          -0.3175259109804712
         ],
         "y": [
          0.5816515885301612
         ],
         "z": [
          -0.8400911530088805
         ]
        },
        {
         "customdata": [
          [
           "methionine adenosyltransferase",
           null,
           null,
           null,
           null,
           null,
           null,
           null,
           null,
           null,
           "2.5.1.6",
           null,
           "taxon:66852",
           0,
           0.5478367506459239,
           -0.49195721466900955,
           -0.7322943553934123
          ]
         ],
         "hovertemplate": "<b>%{customdata[0]}</b><br>Family Name: %{customdata[1]}<br>Domain: %{customdata[2]}<br>Kingdom: %{customdata[3]}</b><br>Phylum: %{customdata[4]}<br>Class: %{customdata[5]}<br>Order: %{customdata[6]}<br>Family: %{customdata[7]}<br>Genus: %{customdata[8]}<br>Species: %{customdata[9]}<br>EC Number: %{customdata[10]}<br>Mol Weight: %{customdata[11]}<br>Taxonomy ID: %{customdata[12]}<extra></extra>",
         "marker": {
          "color": "rgb(52, 97, 141)",
          "size": 6,
          "symbol": "circle"
         },
         "mode": "markers",
         "text": "methionine adenosyltransferase",
         "type": "scatter3d",
         "x": [
          0.5478367506459239
         ],
         "y": [
          -0.49195721466900955
         ],
         "z": [
          -0.7322943553934123
         ]
        },
        {
         "customdata": [
          [
           "methionine adenosyltransferase",
           null,
           null,
           null,
           null,
           null,
           null,
           null,
           null,
           null,
           "2.5.1.6",
           43678,
           "taxon:2220",
           0,
           0.3647763632380593,
           0.1440808881884115,
           -0.26613322846661547
          ]
         ],
         "hovertemplate": "<b>%{customdata[0]}</b><br>Family Name: %{customdata[1]}<br>Domain: %{customdata[2]}<br>Kingdom: %{customdata[3]}</b><br>Phylum: %{customdata[4]}<br>Class: %{customdata[5]}<br>Order: %{customdata[6]}<br>Family: %{customdata[7]}<br>Genus: %{customdata[8]}<br>Species: %{customdata[9]}<br>EC Number: %{customdata[10]}<br>Mol Weight: %{customdata[11]}<br>Taxonomy ID: %{customdata[12]}<extra></extra>",
         "marker": {
          "color": "rgb(56, 86, 139)",
          "size": 6,
          "symbol": "circle"
         },
         "mode": "markers",
         "text": "methionine adenosyltransferase",
         "type": "scatter3d",
         "x": [
          0.3647763632380593
         ],
         "y": [
          0.1440808881884115
         ],
         "z": [
          -0.26613322846661547
         ]
        },
        {
         "customdata": [
          [
           "methionine adenosyltransferase",
           null,
           null,
           null,
           null,
           null,
           null,
           null,
           null,
           null,
           "2.5.1.6",
           null,
           "taxon:1906666",
           0,
           0.28619312700434757,
           -0.01457603725354793,
           -0.735623118777608
          ]
         ],
         "hovertemplate": "<b>%{customdata[0]}</b><br>Family Name: %{customdata[1]}<br>Domain: %{customdata[2]}<br>Kingdom: %{customdata[3]}</b><br>Phylum: %{customdata[4]}<br>Class: %{customdata[5]}<br>Order: %{customdata[6]}<br>Family: %{customdata[7]}<br>Genus: %{customdata[8]}<br>Species: %{customdata[9]}<br>EC Number: %{customdata[10]}<br>Mol Weight: %{customdata[11]}<br>Taxonomy ID: %{customdata[12]}<extra></extra>",
         "marker": {
          "color": "rgb(38, 132, 142)",
          "size": 6,
          "symbol": "circle"
         },
         "mode": "markers",
         "text": "methionine adenosyltransferase",
         "type": "scatter3d",
         "x": [
          0.28619312700434757
         ],
         "y": [
          -0.01457603725354793
         ],
         "z": [
          -0.735623118777608
         ]
        },
        {
         "customdata": [
          [
           "methionine adenosyltransferase",
           null,
           null,
           null,
           null,
           null,
           null,
           null,
           null,
           null,
           "2.5.1.6",
           44032,
           "taxon:91560",
           0,
           -0.7036794396040323,
           -0.14013362239382993,
           0.5575678641964921
          ]
         ],
         "hovertemplate": "<b>%{customdata[0]}</b><br>Family Name: %{customdata[1]}<br>Domain: %{customdata[2]}<br>Kingdom: %{customdata[3]}</b><br>Phylum: %{customdata[4]}<br>Class: %{customdata[5]}<br>Order: %{customdata[6]}<br>Family: %{customdata[7]}<br>Genus: %{customdata[8]}<br>Species: %{customdata[9]}<br>EC Number: %{customdata[10]}<br>Mol Weight: %{customdata[11]}<br>Taxonomy ID: %{customdata[12]}<extra></extra>",
         "marker": {
          "color": "rgb(77, 193, 107)",
          "size": 6,
          "symbol": "circle"
         },
         "mode": "markers",
         "text": "methionine adenosyltransferase",
         "type": "scatter3d",
         "x": [
          -0.7036794396040323
         ],
         "y": [
          -0.14013362239382993
         ],
         "z": [
          0.5575678641964921
         ]
        },
        {
         "customdata": [
          [
           "methionine adenosyltransferase",
           null,
           null,
           null,
           null,
           null,
           null,
           null,
           null,
           null,
           "2.5.1.6",
           null,
           "taxon:1906666",
           0,
           0.6013200854056485,
           -0.6321807663600549,
           0.006858445493817311
          ]
         ],
         "hovertemplate": "<b>%{customdata[0]}</b><br>Family Name: %{customdata[1]}<br>Domain: %{customdata[2]}<br>Kingdom: %{customdata[3]}</b><br>Phylum: %{customdata[4]}<br>Class: %{customdata[5]}<br>Order: %{customdata[6]}<br>Family: %{customdata[7]}<br>Genus: %{customdata[8]}<br>Species: %{customdata[9]}<br>EC Number: %{customdata[10]}<br>Mol Weight: %{customdata[11]}<br>Taxonomy ID: %{customdata[12]}<extra></extra>",
         "marker": {
          "color": "rgb(38, 132, 142)",
          "size": 6,
          "symbol": "circle"
         },
         "mode": "markers",
         "text": "methionine adenosyltransferase",
         "type": "scatter3d",
         "x": [
          0.6013200854056485
         ],
         "y": [
          -0.6321807663600549
         ],
         "z": [
          0.006858445493817311
         ]
        },
        {
         "customdata": [
          [
           "S-adenosylmethionine synthase",
           null,
           null,
           null,
           null,
           null,
           null,
           null,
           null,
           null,
           null,
           null,
           "taxon:2687197",
           0,
           0.5238080512816522,
           -0.3602391912496967,
           0.8270811077866579
          ]
         ],
         "hovertemplate": "<b>%{customdata[0]}</b><br>Family Name: %{customdata[1]}<br>Domain: %{customdata[2]}<br>Kingdom: %{customdata[3]}</b><br>Phylum: %{customdata[4]}<br>Class: %{customdata[5]}<br>Order: %{customdata[6]}<br>Family: %{customdata[7]}<br>Genus: %{customdata[8]}<br>Species: %{customdata[9]}<br>EC Number: %{customdata[10]}<br>Mol Weight: %{customdata[11]}<br>Taxonomy ID: %{customdata[12]}<extra></extra>",
         "marker": {
          "color": "rgb(57, 84, 139)",
          "size": 6,
          "symbol": "circle"
         },
         "mode": "markers",
         "text": "S-adenosylmethionine synthase",
         "type": "scatter3d",
         "x": [
          0.5238080512816522
         ],
         "y": [
          -0.3602391912496967
         ],
         "z": [
          0.8270811077866579
         ]
        },
        {
         "customdata": [
          [
           "methionine adenosyltransferase",
           null,
           null,
           null,
           null,
           null,
           null,
           null,
           null,
           null,
           "2.5.1.6",
           44191,
           "taxon:1927129",
           0,
           0.7548506749957481,
           0.2532378025961553,
           0.406664761096761
          ]
         ],
         "hovertemplate": "<b>%{customdata[0]}</b><br>Family Name: %{customdata[1]}<br>Domain: %{customdata[2]}<br>Kingdom: %{customdata[3]}</b><br>Phylum: %{customdata[4]}<br>Class: %{customdata[5]}<br>Order: %{customdata[6]}<br>Family: %{customdata[7]}<br>Genus: %{customdata[8]}<br>Species: %{customdata[9]}<br>EC Number: %{customdata[10]}<br>Mol Weight: %{customdata[11]}<br>Taxonomy ID: %{customdata[12]}<extra></extra>",
         "marker": {
          "color": "rgb(71, 26, 107)",
          "size": 6,
          "symbol": "circle"
         },
         "mode": "markers",
         "text": "methionine adenosyltransferase",
         "type": "scatter3d",
         "x": [
          0.7548506749957481
         ],
         "y": [
          0.2532378025961553
         ],
         "z": [
          0.406664761096761
         ]
        },
        {
         "customdata": [
          [
           "S-adenosylmethionine synthase",
           null,
           null,
           null,
           null,
           null,
           null,
           null,
           null,
           null,
           "2.5.1.6",
           null,
           "taxon:2006182",
           0,
           0.44965535960677694,
           -0.705269866960612,
           0.7068860981196132
          ]
         ],
         "hovertemplate": "<b>%{customdata[0]}</b><br>Family Name: %{customdata[1]}<br>Domain: %{customdata[2]}<br>Kingdom: %{customdata[3]}</b><br>Phylum: %{customdata[4]}<br>Class: %{customdata[5]}<br>Order: %{customdata[6]}<br>Family: %{customdata[7]}<br>Genus: %{customdata[8]}<br>Species: %{customdata[9]}<br>EC Number: %{customdata[10]}<br>Mol Weight: %{customdata[11]}<br>Taxonomy ID: %{customdata[12]}<extra></extra>",
         "marker": {
          "color": "rgb(50, 102, 142)",
          "size": 6,
          "symbol": "circle"
         },
         "mode": "markers",
         "text": "S-adenosylmethionine synthase",
         "type": "scatter3d",
         "x": [
          0.44965535960677694
         ],
         "y": [
          -0.705269866960612
         ],
         "z": [
          0.7068860981196132
         ]
        },
        {
         "customdata": [
          [
           "methionine adenosyltransferase",
           null,
           null,
           null,
           null,
           null,
           null,
           null,
           null,
           null,
           "2.5.1.6",
           null,
           "taxon:1906666",
           0,
           -0.013607611541766184,
           0.8016632916118145,
           -0.4694341429744206
          ]
         ],
         "hovertemplate": "<b>%{customdata[0]}</b><br>Family Name: %{customdata[1]}<br>Domain: %{customdata[2]}<br>Kingdom: %{customdata[3]}</b><br>Phylum: %{customdata[4]}<br>Class: %{customdata[5]}<br>Order: %{customdata[6]}<br>Family: %{customdata[7]}<br>Genus: %{customdata[8]}<br>Species: %{customdata[9]}<br>EC Number: %{customdata[10]}<br>Mol Weight: %{customdata[11]}<br>Taxonomy ID: %{customdata[12]}<extra></extra>",
         "marker": {
          "color": "rgb(38, 132, 142)",
          "size": 6,
          "symbol": "circle"
         },
         "mode": "markers",
         "text": "methionine adenosyltransferase",
         "type": "scatter3d",
         "x": [
          -0.013607611541766184
         ],
         "y": [
          0.8016632916118145
         ],
         "z": [
          -0.4694341429744206
         ]
        },
        {
         "customdata": [
          [
           "methionine adenosyltransferase",
           null,
           null,
           null,
           null,
           null,
           null,
           null,
           null,
           null,
           "2.5.1.6",
           44351,
           "taxon:155863",
           0,
           0.6757027716453692,
           -0.18290855401223963,
           -0.8321191052498419
          ]
         ],
         "hovertemplate": "<b>%{customdata[0]}</b><br>Family Name: %{customdata[1]}<br>Domain: %{customdata[2]}<br>Kingdom: %{customdata[3]}</b><br>Phylum: %{customdata[4]}<br>Class: %{customdata[5]}<br>Order: %{customdata[6]}<br>Family: %{customdata[7]}<br>Genus: %{customdata[8]}<br>Species: %{customdata[9]}<br>EC Number: %{customdata[10]}<br>Mol Weight: %{customdata[11]}<br>Taxonomy ID: %{customdata[12]}<extra></extra>",
         "marker": {
          "color": "rgb(72, 40, 120)",
          "size": 6,
          "symbol": "circle"
         },
         "mode": "markers",
         "text": "methionine adenosyltransferase",
         "type": "scatter3d",
         "x": [
          0.6757027716453692
         ],
         "y": [
          -0.18290855401223963
         ],
         "z": [
          -0.8321191052498419
         ]
        },
        {
         "customdata": [
          [
           "methionine adenosyltransferase",
           null,
           null,
           null,
           null,
           null,
           null,
           null,
           null,
           null,
           "2.5.1.6",
           null,
           "taxon:2480821",
           0,
           0.6730412742952326,
           -0.8045744273120891,
           -0.25263227009033723
          ]
         ],
         "hovertemplate": "<b>%{customdata[0]}</b><br>Family Name: %{customdata[1]}<br>Domain: %{customdata[2]}<br>Kingdom: %{customdata[3]}</b><br>Phylum: %{customdata[4]}<br>Class: %{customdata[5]}<br>Order: %{customdata[6]}<br>Family: %{customdata[7]}<br>Genus: %{customdata[8]}<br>Species: %{customdata[9]}<br>EC Number: %{customdata[10]}<br>Mol Weight: %{customdata[11]}<br>Taxonomy ID: %{customdata[12]}<extra></extra>",
         "marker": {
          "color": "rgb(67, 56, 128)",
          "size": 6,
          "symbol": "circle"
         },
         "mode": "markers",
         "text": "methionine adenosyltransferase",
         "type": "scatter3d",
         "x": [
          0.6730412742952326
         ],
         "y": [
          -0.8045744273120891
         ],
         "z": [
          -0.25263227009033723
         ]
        },
        {
         "customdata": [
          [
           "methionine adenosyltransferase",
           null,
           null,
           null,
           null,
           null,
           null,
           null,
           null,
           null,
           "2.5.1.6",
           null,
           "taxon:2806419",
           0,
           0.7410761353825708,
           0.7772182949585548,
           0.06933501015294596
          ]
         ],
         "hovertemplate": "<b>%{customdata[0]}</b><br>Family Name: %{customdata[1]}<br>Domain: %{customdata[2]}<br>Kingdom: %{customdata[3]}</b><br>Phylum: %{customdata[4]}<br>Class: %{customdata[5]}<br>Order: %{customdata[6]}<br>Family: %{customdata[7]}<br>Genus: %{customdata[8]}<br>Species: %{customdata[9]}<br>EC Number: %{customdata[10]}<br>Mol Weight: %{customdata[11]}<br>Taxonomy ID: %{customdata[12]}<extra></extra>",
         "marker": {
          "color": "rgb(34, 146, 139)",
          "size": 6,
          "symbol": "circle"
         },
         "mode": "markers",
         "text": "methionine adenosyltransferase",
         "type": "scatter3d",
         "x": [
          0.7410761353825708
         ],
         "y": [
          0.7772182949585548
         ],
         "z": [
          0.06933501015294596
         ]
        },
        {
         "customdata": [
          [
           "methionine adenosyltransferase",
           null,
           null,
           null,
           null,
           null,
           null,
           null,
           null,
           null,
           "2.5.1.6",
           45162,
           "taxon:2160",
           0,
           0.5391855455500054,
           -0.34245677876303,
           -0.5915700466648123
          ]
         ],
         "hovertemplate": "<b>%{customdata[0]}</b><br>Family Name: %{customdata[1]}<br>Domain: %{customdata[2]}<br>Kingdom: %{customdata[3]}</b><br>Phylum: %{customdata[4]}<br>Class: %{customdata[5]}<br>Order: %{customdata[6]}<br>Family: %{customdata[7]}<br>Genus: %{customdata[8]}<br>Species: %{customdata[9]}<br>EC Number: %{customdata[10]}<br>Mol Weight: %{customdata[11]}<br>Taxonomy ID: %{customdata[12]}<extra></extra>",
         "marker": {
          "color": "rgb(82, 195, 104)",
          "size": 6,
          "symbol": "circle"
         },
         "mode": "markers",
         "text": "methionine adenosyltransferase",
         "type": "scatter3d",
         "x": [
          0.5391855455500054
         ],
         "y": [
          -0.34245677876303
         ],
         "z": [
          -0.5915700466648123
         ]
        },
        {
         "customdata": [
          [
           "methionine adenosyltransferase",
           null,
           null,
           null,
           null,
           null,
           null,
           null,
           null,
           null,
           "2.5.1.6",
           null,
           "taxon:2268142",
           0,
           -0.45551006379731473,
           0.40210942560712004,
           0.710328104545758
          ]
         ],
         "hovertemplate": "<b>%{customdata[0]}</b><br>Family Name: %{customdata[1]}<br>Domain: %{customdata[2]}<br>Kingdom: %{customdata[3]}</b><br>Phylum: %{customdata[4]}<br>Class: %{customdata[5]}<br>Order: %{customdata[6]}<br>Family: %{customdata[7]}<br>Genus: %{customdata[8]}<br>Species: %{customdata[9]}<br>EC Number: %{customdata[10]}<br>Mol Weight: %{customdata[11]}<br>Taxonomy ID: %{customdata[12]}<extra></extra>",
         "marker": {
          "color": "rgb(212, 226, 40)",
          "size": 6,
          "symbol": "circle"
         },
         "mode": "markers",
         "text": "methionine adenosyltransferase",
         "type": "scatter3d",
         "x": [
          -0.45551006379731473
         ],
         "y": [
          0.40210942560712004
         ],
         "z": [
          0.710328104545758
         ]
        },
        {
         "customdata": [
          [
           "S-adenosylmethionine synthetase",
           null,
           null,
           null,
           null,
           null,
           null,
           null,
           null,
           null,
           "2.5.1.6",
           null,
           "taxon:2013815",
           0,
           0.550271159089951,
           0.49815009765009827,
           -0.7349437700482033
          ]
         ],
         "hovertemplate": "<b>%{customdata[0]}</b><br>Family Name: %{customdata[1]}<br>Domain: %{customdata[2]}<br>Kingdom: %{customdata[3]}</b><br>Phylum: %{customdata[4]}<br>Class: %{customdata[5]}<br>Order: %{customdata[6]}<br>Family: %{customdata[7]}<br>Genus: %{customdata[8]}<br>Species: %{customdata[9]}<br>EC Number: %{customdata[10]}<br>Mol Weight: %{customdata[11]}<br>Taxonomy ID: %{customdata[12]}<extra></extra>",
         "marker": {
          "color": "rgb(171, 220, 49)",
          "size": 6,
          "symbol": "circle"
         },
         "mode": "markers",
         "text": "S-adenosylmethionine synthetase",
         "type": "scatter3d",
         "x": [
          0.550271159089951
         ],
         "y": [
          0.49815009765009827
         ],
         "z": [
          -0.7349437700482033
         ]
        },
        {
         "customdata": [
          [
           "methionine adenosyltransferase",
           null,
           null,
           null,
           null,
           null,
           null,
           null,
           null,
           null,
           "2.5.1.6",
           44335,
           "taxon:155862",
           0,
           0.021794487500988172,
           -1,
           0.09475767641400458
          ]
         ],
         "hovertemplate": "<b>%{customdata[0]}</b><br>Family Name: %{customdata[1]}<br>Domain: %{customdata[2]}<br>Kingdom: %{customdata[3]}</b><br>Phylum: %{customdata[4]}<br>Class: %{customdata[5]}<br>Order: %{customdata[6]}<br>Family: %{customdata[7]}<br>Genus: %{customdata[8]}<br>Species: %{customdata[9]}<br>EC Number: %{customdata[10]}<br>Mol Weight: %{customdata[11]}<br>Taxonomy ID: %{customdata[12]}<extra></extra>",
         "marker": {
          "color": "rgb(36, 138, 141)",
          "size": 6,
          "symbol": "circle"
         },
         "mode": "markers",
         "text": "methionine adenosyltransferase",
         "type": "scatter3d",
         "x": [
          0.021794487500988172
         ],
         "y": [
          -1
         ],
         "z": [
          0.09475767641400458
         ]
        },
        {
         "customdata": [
          [
           "methionine adenosyltransferase",
           null,
           null,
           null,
           null,
           null,
           null,
           null,
           null,
           null,
           "2.5.1.6",
           null,
           "taxon:155863",
           0,
           -0.49163944041886365,
           0.26140760747502173,
           -0.4032814020546774
          ]
         ],
         "hovertemplate": "<b>%{customdata[0]}</b><br>Family Name: %{customdata[1]}<br>Domain: %{customdata[2]}<br>Kingdom: %{customdata[3]}</b><br>Phylum: %{customdata[4]}<br>Class: %{customdata[5]}<br>Order: %{customdata[6]}<br>Family: %{customdata[7]}<br>Genus: %{customdata[8]}<br>Species: %{customdata[9]}<br>EC Number: %{customdata[10]}<br>Mol Weight: %{customdata[11]}<br>Taxonomy ID: %{customdata[12]}<extra></extra>",
         "marker": {
          "color": "rgb(72, 40, 120)",
          "size": 6,
          "symbol": "circle"
         },
         "mode": "markers",
         "text": "methionine adenosyltransferase",
         "type": "scatter3d",
         "x": [
          -0.49163944041886365
         ],
         "y": [
          0.26140760747502173
         ],
         "z": [
          -0.4032814020546774
         ]
        },
        {
         "customdata": [
          [
           "methionine adenosyltransferase",
           null,
           null,
           null,
           null,
           null,
           null,
           null,
           null,
           null,
           "2.5.1.6",
           null,
           "taxon:2022468",
           0,
           -0.7235414634911314,
           -0.17702742193869464,
           0.5559248364765725
          ]
         ],
         "hovertemplate": "<b>%{customdata[0]}</b><br>Family Name: %{customdata[1]}<br>Domain: %{customdata[2]}<br>Kingdom: %{customdata[3]}</b><br>Phylum: %{customdata[4]}<br>Class: %{customdata[5]}<br>Order: %{customdata[6]}<br>Family: %{customdata[7]}<br>Genus: %{customdata[8]}<br>Species: %{customdata[9]}<br>EC Number: %{customdata[10]}<br>Mol Weight: %{customdata[11]}<br>Taxonomy ID: %{customdata[12]}<extra></extra>",
         "marker": {
          "color": "rgb(146, 214, 65)",
          "size": 6,
          "symbol": "circle"
         },
         "mode": "markers",
         "text": "methionine adenosyltransferase",
         "type": "scatter3d",
         "x": [
          -0.7235414634911314
         ],
         "y": [
          -0.17702742193869464
         ],
         "z": [
          0.5559248364765725
         ]
        },
        {
         "customdata": [
          [
           "methionine adenosyltransferase",
           null,
           null,
           null,
           null,
           null,
           null,
           null,
           null,
           null,
           "2.5.1.6",
           null,
           "taxon:1906666",
           0,
           0.2908088875452028,
           -0.050388544136371276,
           -0.757076505883926
          ]
         ],
         "hovertemplate": "<b>%{customdata[0]}</b><br>Family Name: %{customdata[1]}<br>Domain: %{customdata[2]}<br>Kingdom: %{customdata[3]}</b><br>Phylum: %{customdata[4]}<br>Class: %{customdata[5]}<br>Order: %{customdata[6]}<br>Family: %{customdata[7]}<br>Genus: %{customdata[8]}<br>Species: %{customdata[9]}<br>EC Number: %{customdata[10]}<br>Mol Weight: %{customdata[11]}<br>Taxonomy ID: %{customdata[12]}<extra></extra>",
         "marker": {
          "color": "rgb(38, 132, 142)",
          "size": 6,
          "symbol": "circle"
         },
         "mode": "markers",
         "text": "methionine adenosyltransferase",
         "type": "scatter3d",
         "x": [
          0.2908088875452028
         ],
         "y": [
          -0.050388544136371276
         ],
         "z": [
          -0.757076505883926
         ]
        },
        {
         "customdata": [
          [
           "methionine adenosyltransferase",
           null,
           null,
           null,
           null,
           null,
           null,
           null,
           null,
           null,
           "2.5.1.6",
           null,
           "taxon:2250255",
           0,
           0.32378971579673577,
           -0.8625698332454512,
           0.5434517344973704
          ]
         ],
         "hovertemplate": "<b>%{customdata[0]}</b><br>Family Name: %{customdata[1]}<br>Domain: %{customdata[2]}<br>Kingdom: %{customdata[3]}</b><br>Phylum: %{customdata[4]}<br>Class: %{customdata[5]}<br>Order: %{customdata[6]}<br>Family: %{customdata[7]}<br>Genus: %{customdata[8]}<br>Species: %{customdata[9]}<br>EC Number: %{customdata[10]}<br>Mol Weight: %{customdata[11]}<br>Taxonomy ID: %{customdata[12]}<extra></extra>",
         "marker": {
          "color": "rgb(65, 188, 114)",
          "size": 6,
          "symbol": "circle"
         },
         "mode": "markers",
         "text": "methionine adenosyltransferase",
         "type": "scatter3d",
         "x": [
          0.32378971579673577
         ],
         "y": [
          -0.8625698332454512
         ],
         "z": [
          0.5434517344973704
         ]
        },
        {
         "customdata": [
          [
           "methionine adenosyltransferase",
           null,
           null,
           null,
           null,
           null,
           null,
           null,
           null,
           null,
           "2.5.1.6",
           null,
           "taxon:2250255",
           0,
           0.3187330112677337,
           -0.790589647905641,
           -0.6824626973282166
          ]
         ],
         "hovertemplate": "<b>%{customdata[0]}</b><br>Family Name: %{customdata[1]}<br>Domain: %{customdata[2]}<br>Kingdom: %{customdata[3]}</b><br>Phylum: %{customdata[4]}<br>Class: %{customdata[5]}<br>Order: %{customdata[6]}<br>Family: %{customdata[7]}<br>Genus: %{customdata[8]}<br>Species: %{customdata[9]}<br>EC Number: %{customdata[10]}<br>Mol Weight: %{customdata[11]}<br>Taxonomy ID: %{customdata[12]}<extra></extra>",
         "marker": {
          "color": "rgb(65, 188, 114)",
          "size": 6,
          "symbol": "circle"
         },
         "mode": "markers",
         "text": "methionine adenosyltransferase",
         "type": "scatter3d",
         "x": [
          0.3187330112677337
         ],
         "y": [
          -0.790589647905641
         ],
         "z": [
          -0.6824626973282166
         ]
        },
        {
         "customdata": [
          [
           "methionine adenosyltransferase",
           null,
           null,
           null,
           null,
           null,
           null,
           null,
           null,
           null,
           "2.5.1.6",
           null,
           "taxon:2026739",
           0,
           0.9515315255981546,
           -0.3150321593596538,
           -0.2051347270165866
          ]
         ],
         "hovertemplate": "<b>%{customdata[0]}</b><br>Family Name: %{customdata[1]}<br>Domain: %{customdata[2]}<br>Kingdom: %{customdata[3]}</b><br>Phylum: %{customdata[4]}<br>Class: %{customdata[5]}<br>Order: %{customdata[6]}<br>Family: %{customdata[7]}<br>Genus: %{customdata[8]}<br>Species: %{customdata[9]}<br>EC Number: %{customdata[10]}<br>Mol Weight: %{customdata[11]}<br>Taxonomy ID: %{customdata[12]}<extra></extra>",
         "marker": {
          "color": "rgb(56, 88, 140)",
          "size": 6,
          "symbol": "circle"
         },
         "mode": "markers",
         "text": "methionine adenosyltransferase",
         "type": "scatter3d",
         "x": [
          0.9515315255981546
         ],
         "y": [
          -0.3150321593596538
         ],
         "z": [
          -0.2051347270165866
         ]
        },
        {
         "customdata": [
          [
           "methionine adenosyltransferase",
           null,
           null,
           null,
           null,
           null,
           null,
           null,
           null,
           null,
           "2.5.1.6",
           null,
           "taxon:1945595",
           0,
           0.42202931552173034,
           0.6468838449499263,
           0.8300840189436589
          ]
         ],
         "hovertemplate": "<b>%{customdata[0]}</b><br>Family Name: %{customdata[1]}<br>Domain: %{customdata[2]}<br>Kingdom: %{customdata[3]}</b><br>Phylum: %{customdata[4]}<br>Class: %{customdata[5]}<br>Order: %{customdata[6]}<br>Family: %{customdata[7]}<br>Genus: %{customdata[8]}<br>Species: %{customdata[9]}<br>EC Number: %{customdata[10]}<br>Mol Weight: %{customdata[11]}<br>Taxonomy ID: %{customdata[12]}<extra></extra>",
         "marker": {
          "color": "rgb(217, 226, 40)",
          "size": 6,
          "symbol": "circle"
         },
         "mode": "markers",
         "text": "methionine adenosyltransferase",
         "type": "scatter3d",
         "x": [
          0.42202931552173034
         ],
         "y": [
          0.6468838449499263
         ],
         "z": [
          0.8300840189436589
         ]
        },
        {
         "customdata": [
          [
           "methionine adenosyltransferase",
           null,
           null,
           null,
           null,
           null,
           null,
           null,
           null,
           null,
           "2.5.1.6",
           null,
           "taxon:1906666",
           0,
           0.44658694591447706,
           -0.2569276089436054,
           -0.8730225217782472
          ]
         ],
         "hovertemplate": "<b>%{customdata[0]}</b><br>Family Name: %{customdata[1]}<br>Domain: %{customdata[2]}<br>Kingdom: %{customdata[3]}</b><br>Phylum: %{customdata[4]}<br>Class: %{customdata[5]}<br>Order: %{customdata[6]}<br>Family: %{customdata[7]}<br>Genus: %{customdata[8]}<br>Species: %{customdata[9]}<br>EC Number: %{customdata[10]}<br>Mol Weight: %{customdata[11]}<br>Taxonomy ID: %{customdata[12]}<extra></extra>",
         "marker": {
          "color": "rgb(38, 132, 142)",
          "size": 6,
          "symbol": "circle"
         },
         "mode": "markers",
         "text": "methionine adenosyltransferase",
         "type": "scatter3d",
         "x": [
          0.44658694591447706
         ],
         "y": [
          -0.2569276089436054
         ],
         "z": [
          -0.8730225217782472
         ]
        },
        {
         "customdata": [
          [
           "methionine adenosyltransferase",
           null,
           null,
           null,
           null,
           null,
           null,
           null,
           null,
           null,
           "2.5.1.6",
           43652,
           "taxon:47311",
           0,
           0.8580014329925193,
           0.023584546151300543,
           -0.23565851578049238
          ]
         ],
         "hovertemplate": "<b>%{customdata[0]}</b><br>Family Name: %{customdata[1]}<br>Domain: %{customdata[2]}<br>Kingdom: %{customdata[3]}</b><br>Phylum: %{customdata[4]}<br>Class: %{customdata[5]}<br>Order: %{customdata[6]}<br>Family: %{customdata[7]}<br>Genus: %{customdata[8]}<br>Species: %{customdata[9]}<br>EC Number: %{customdata[10]}<br>Mol Weight: %{customdata[11]}<br>Taxonomy ID: %{customdata[12]}<extra></extra>",
         "marker": {
          "color": "rgb(66, 61, 131)",
          "size": 6,
          "symbol": "circle"
         },
         "mode": "markers",
         "text": "methionine adenosyltransferase",
         "type": "scatter3d",
         "x": [
          0.8580014329925193
         ],
         "y": [
          0.023584546151300543
         ],
         "z": [
          -0.23565851578049238
         ]
        },
        {
         "customdata": [
          [
           "methionine adenosyltransferase",
           null,
           null,
           null,
           null,
           null,
           null,
           null,
           null,
           null,
           "2.5.1.6",
           null,
           "taxon:2250255",
           0,
           0.5228223985092727,
           -0.742488522787388,
           0.3706677990319574
          ]
         ],
         "hovertemplate": "<b>%{customdata[0]}</b><br>Family Name: %{customdata[1]}<br>Domain: %{customdata[2]}<br>Kingdom: %{customdata[3]}</b><br>Phylum: %{customdata[4]}<br>Class: %{customdata[5]}<br>Order: %{customdata[6]}<br>Family: %{customdata[7]}<br>Genus: %{customdata[8]}<br>Species: %{customdata[9]}<br>EC Number: %{customdata[10]}<br>Mol Weight: %{customdata[11]}<br>Taxonomy ID: %{customdata[12]}<extra></extra>",
         "marker": {
          "color": "rgb(65, 188, 114)",
          "size": 6,
          "symbol": "circle"
         },
         "mode": "markers",
         "text": "methionine adenosyltransferase",
         "type": "scatter3d",
         "x": [
          0.5228223985092727
         ],
         "y": [
          -0.742488522787388
         ],
         "z": [
          0.3706677990319574
         ]
        },
        {
         "customdata": [
          [
           "methionine adenosyltransferase",
           null,
           null,
           null,
           null,
           null,
           null,
           null,
           null,
           null,
           "2.5.1.6",
           null,
           "taxon:2196",
           0,
           -0.8450021527117094,
           -0.10018455866138323,
           -0.7137311006520171
          ]
         ],
         "hovertemplate": "<b>%{customdata[0]}</b><br>Family Name: %{customdata[1]}<br>Domain: %{customdata[2]}<br>Kingdom: %{customdata[3]}</b><br>Phylum: %{customdata[4]}<br>Class: %{customdata[5]}<br>Order: %{customdata[6]}<br>Family: %{customdata[7]}<br>Genus: %{customdata[8]}<br>Species: %{customdata[9]}<br>EC Number: %{customdata[10]}<br>Mol Weight: %{customdata[11]}<br>Taxonomy ID: %{customdata[12]}<extra></extra>",
         "marker": {
          "color": "rgb(70, 47, 124)",
          "size": 6,
          "symbol": "circle"
         },
         "mode": "markers",
         "text": "methionine adenosyltransferase",
         "type": "scatter3d",
         "x": [
          -0.8450021527117094
         ],
         "y": [
          -0.10018455866138323
         ],
         "z": [
          -0.7137311006520171
         ]
        },
        {
         "customdata": [
          [
           "methionine adenosyltransferase",
           null,
           null,
           null,
           null,
           null,
           null,
           null,
           null,
           null,
           "2.5.1.6",
           null,
           "taxon:2595067",
           0,
           -0.6513408556384478,
           -0.662871610971116,
           -0.21123430915002145
          ]
         ],
         "hovertemplate": "<b>%{customdata[0]}</b><br>Family Name: %{customdata[1]}<br>Domain: %{customdata[2]}<br>Kingdom: %{customdata[3]}</b><br>Phylum: %{customdata[4]}<br>Class: %{customdata[5]}<br>Order: %{customdata[6]}<br>Family: %{customdata[7]}<br>Genus: %{customdata[8]}<br>Species: %{customdata[9]}<br>EC Number: %{customdata[10]}<br>Mol Weight: %{customdata[11]}<br>Taxonomy ID: %{customdata[12]}<extra></extra>",
         "marker": {
          "color": "rgb(38, 130, 142)",
          "size": 6,
          "symbol": "circle"
         },
         "mode": "markers",
         "text": "methionine adenosyltransferase",
         "type": "scatter3d",
         "x": [
          -0.6513408556384478
         ],
         "y": [
          -0.662871610971116
         ],
         "z": [
          -0.21123430915002145
         ]
        },
        {
         "customdata": [
          [
           "methionine adenosyltransferase",
           null,
           null,
           null,
           null,
           null,
           null,
           null,
           null,
           null,
           "2.5.1.6",
           null,
           "taxon:2250256",
           0,
           0.4425102400643019,
           0.06971660378576117,
           0.9306194891822853
          ]
         ],
         "hovertemplate": "<b>%{customdata[0]}</b><br>Family Name: %{customdata[1]}<br>Domain: %{customdata[2]}<br>Kingdom: %{customdata[3]}</b><br>Phylum: %{customdata[4]}<br>Class: %{customdata[5]}<br>Order: %{customdata[6]}<br>Family: %{customdata[7]}<br>Genus: %{customdata[8]}<br>Species: %{customdata[9]}<br>EC Number: %{customdata[10]}<br>Mol Weight: %{customdata[11]}<br>Taxonomy ID: %{customdata[12]}<extra></extra>",
         "marker": {
          "color": "rgb(59, 80, 138)",
          "size": 6,
          "symbol": "circle"
         },
         "mode": "markers",
         "text": "methionine adenosyltransferase",
         "type": "scatter3d",
         "x": [
          0.4425102400643019
         ],
         "y": [
          0.06971660378576117
         ],
         "z": [
          0.9306194891822853
         ]
        },
        {
         "customdata": [
          [
           "methionine adenosyltransferase",
           null,
           null,
           null,
           null,
           null,
           null,
           null,
           null,
           null,
           "2.5.1.6",
           null,
           "taxon:1945595",
           0,
           -0.2582459103142826,
           -0.43261317256147713,
           0.8638937891234433
          ]
         ],
         "hovertemplate": "<b>%{customdata[0]}</b><br>Family Name: %{customdata[1]}<br>Domain: %{customdata[2]}<br>Kingdom: %{customdata[3]}</b><br>Phylum: %{customdata[4]}<br>Class: %{customdata[5]}<br>Order: %{customdata[6]}<br>Family: %{customdata[7]}<br>Genus: %{customdata[8]}<br>Species: %{customdata[9]}<br>EC Number: %{customdata[10]}<br>Mol Weight: %{customdata[11]}<br>Taxonomy ID: %{customdata[12]}<extra></extra>",
         "marker": {
          "color": "rgb(217, 226, 40)",
          "size": 6,
          "symbol": "circle"
         },
         "mode": "markers",
         "text": "methionine adenosyltransferase",
         "type": "scatter3d",
         "x": [
          -0.2582459103142826
         ],
         "y": [
          -0.43261317256147713
         ],
         "z": [
          0.8638937891234433
         ]
        },
        {
         "customdata": [
          [
           "methionine adenosyltransferase",
           null,
           null,
           null,
           null,
           null,
           null,
           null,
           null,
           null,
           "2.5.1.6",
           null,
           "taxon:2806419",
           0,
           -0.4635529636788639,
           0.7303859000614323,
           -0.7292228451967919
          ]
         ],
         "hovertemplate": "<b>%{customdata[0]}</b><br>Family Name: %{customdata[1]}<br>Domain: %{customdata[2]}<br>Kingdom: %{customdata[3]}</b><br>Phylum: %{customdata[4]}<br>Class: %{customdata[5]}<br>Order: %{customdata[6]}<br>Family: %{customdata[7]}<br>Genus: %{customdata[8]}<br>Species: %{customdata[9]}<br>EC Number: %{customdata[10]}<br>Mol Weight: %{customdata[11]}<br>Taxonomy ID: %{customdata[12]}<extra></extra>",
         "marker": {
          "color": "rgb(34, 146, 139)",
          "size": 6,
          "symbol": "circle"
         },
         "mode": "markers",
         "text": "methionine adenosyltransferase",
         "type": "scatter3d",
         "x": [
          -0.4635529636788639
         ],
         "y": [
          0.7303859000614323
         ],
         "z": [
          -0.7292228451967919
         ]
        },
        {
         "customdata": [
          [
           "methionine adenosyltransferase",
           null,
           null,
           null,
           null,
           null,
           null,
           null,
           null,
           null,
           "2.5.1.6",
           44081,
           "taxon:868131",
           0,
           -0.09913104635556312,
           -0.506302825822067,
           -0.07990700297229242
          ]
         ],
         "hovertemplate": "<b>%{customdata[0]}</b><br>Family Name: %{customdata[1]}<br>Domain: %{customdata[2]}<br>Kingdom: %{customdata[3]}</b><br>Phylum: %{customdata[4]}<br>Class: %{customdata[5]}<br>Order: %{customdata[6]}<br>Family: %{customdata[7]}<br>Genus: %{customdata[8]}<br>Species: %{customdata[9]}<br>EC Number: %{customdata[10]}<br>Mol Weight: %{customdata[11]}<br>Taxonomy ID: %{customdata[12]}<extra></extra>",
         "marker": {
          "color": "rgb(53, 95, 141)",
          "size": 6,
          "symbol": "circle"
         },
         "mode": "markers",
         "text": "methionine adenosyltransferase",
         "type": "scatter3d",
         "x": [
          -0.09913104635556312
         ],
         "y": [
          -0.506302825822067
         ],
         "z": [
          -0.07990700297229242
         ]
        },
        {
         "customdata": [
          [
           "methionine adenosyltransferase",
           null,
           null,
           null,
           null,
           null,
           null,
           null,
           null,
           null,
           "2.5.1.6",
           null,
           "taxon:583356",
           0,
           0.013666987967647481,
           0.8254363472305056,
           -0.7032395472896767
          ]
         ],
         "hovertemplate": "<b>%{customdata[0]}</b><br>Family Name: %{customdata[1]}<br>Domain: %{customdata[2]}<br>Kingdom: %{customdata[3]}</b><br>Phylum: %{customdata[4]}<br>Class: %{customdata[5]}<br>Order: %{customdata[6]}<br>Family: %{customdata[7]}<br>Genus: %{customdata[8]}<br>Species: %{customdata[9]}<br>EC Number: %{customdata[10]}<br>Mol Weight: %{customdata[11]}<br>Taxonomy ID: %{customdata[12]}<extra></extra>",
         "marker": {
          "color": "rgb(70, 20, 102)",
          "size": 6,
          "symbol": "circle"
         },
         "mode": "markers",
         "text": "methionine adenosyltransferase",
         "type": "scatter3d",
         "x": [
          0.013666987967647481
         ],
         "y": [
          0.8254363472305056
         ],
         "z": [
          -0.7032395472896767
         ]
        },
        {
         "customdata": [
          [
           "methionine adenosyltransferase",
           null,
           null,
           null,
           null,
           null,
           null,
           null,
           null,
           null,
           "2.5.1.6",
           null,
           "taxon:2164",
           0,
           0.02778156769068042,
           0.9821383733272792,
           0.051636776333006916
          ]
         ],
         "hovertemplate": "<b>%{customdata[0]}</b><br>Family Name: %{customdata[1]}<br>Domain: %{customdata[2]}<br>Kingdom: %{customdata[3]}</b><br>Phylum: %{customdata[4]}<br>Class: %{customdata[5]}<br>Order: %{customdata[6]}<br>Family: %{customdata[7]}<br>Genus: %{customdata[8]}<br>Species: %{customdata[9]}<br>EC Number: %{customdata[10]}<br>Mol Weight: %{customdata[11]}<br>Taxonomy ID: %{customdata[12]}<extra></extra>",
         "marker": {
          "color": "rgb(69, 49, 125)",
          "size": 6,
          "symbol": "circle"
         },
         "mode": "markers",
         "text": "methionine adenosyltransferase",
         "type": "scatter3d",
         "x": [
          0.02778156769068042
         ],
         "y": [
          0.9821383733272792
         ],
         "z": [
          0.051636776333006916
         ]
        },
        {
         "customdata": [
          [
           "methionine adenosyltransferase",
           null,
           null,
           null,
           null,
           null,
           null,
           null,
           null,
           null,
           "2.5.1.6",
           null,
           "taxon:2250277",
           0,
           0.3887863400952286,
           0.7456753936065156,
           -0.11988388868395947
          ]
         ],
         "hovertemplate": "<b>%{customdata[0]}</b><br>Family Name: %{customdata[1]}<br>Domain: %{customdata[2]}<br>Kingdom: %{customdata[3]}</b><br>Phylum: %{customdata[4]}<br>Class: %{customdata[5]}<br>Order: %{customdata[6]}<br>Family: %{customdata[7]}<br>Genus: %{customdata[8]}<br>Species: %{customdata[9]}<br>EC Number: %{customdata[10]}<br>Mol Weight: %{customdata[11]}<br>Taxonomy ID: %{customdata[12]}<extra></extra>",
         "marker": {
          "color": "rgb(43, 119, 142)",
          "size": 6,
          "symbol": "circle"
         },
         "mode": "markers",
         "text": "methionine adenosyltransferase",
         "type": "scatter3d",
         "x": [
          0.3887863400952286
         ],
         "y": [
          0.7456753936065156
         ],
         "z": [
          -0.11988388868395947
         ]
        },
        {
         "customdata": [
          [
           "methionine adenosyltransferase",
           null,
           null,
           null,
           null,
           null,
           null,
           null,
           null,
           null,
           "2.5.1.6",
           null,
           "taxon:45200",
           0,
           0.2268152430562979,
           0.10550257890042224,
           0.945687476277016
          ]
         ],
         "hovertemplate": "<b>%{customdata[0]}</b><br>Family Name: %{customdata[1]}<br>Domain: %{customdata[2]}<br>Kingdom: %{customdata[3]}</b><br>Phylum: %{customdata[4]}<br>Class: %{customdata[5]}<br>Order: %{customdata[6]}<br>Family: %{customdata[7]}<br>Genus: %{customdata[8]}<br>Species: %{customdata[9]}<br>EC Number: %{customdata[10]}<br>Mol Weight: %{customdata[11]}<br>Taxonomy ID: %{customdata[12]}<extra></extra>",
         "marker": {
          "color": "rgb(140, 213, 69)",
          "size": 6,
          "symbol": "circle"
         },
         "mode": "markers",
         "text": "methionine adenosyltransferase",
         "type": "scatter3d",
         "x": [
          0.2268152430562979
         ],
         "y": [
          0.10550257890042224
         ],
         "z": [
          0.945687476277016
         ]
        },
        {
         "customdata": [
          [
           "methionine adenosyltransferase",
           null,
           null,
           null,
           null,
           null,
           null,
           null,
           null,
           null,
           "2.5.1.6",
           43687,
           "taxon:156457",
           0,
           -0.7812241652972234,
           -0.4193759772039749,
           0.6993537584995144
          ]
         ],
         "hovertemplate": "<b>%{customdata[0]}</b><br>Family Name: %{customdata[1]}<br>Domain: %{customdata[2]}<br>Kingdom: %{customdata[3]}</b><br>Phylum: %{customdata[4]}<br>Class: %{customdata[5]}<br>Order: %{customdata[6]}<br>Family: %{customdata[7]}<br>Genus: %{customdata[8]}<br>Species: %{customdata[9]}<br>EC Number: %{customdata[10]}<br>Mol Weight: %{customdata[11]}<br>Taxonomy ID: %{customdata[12]}<extra></extra>",
         "marker": {
          "color": "rgb(202, 225, 41)",
          "size": 6,
          "symbol": "circle"
         },
         "mode": "markers",
         "text": "methionine adenosyltransferase",
         "type": "scatter3d",
         "x": [
          -0.7812241652972234
         ],
         "y": [
          -0.4193759772039749
         ],
         "z": [
          0.6993537584995144
         ]
        },
        {
         "customdata": [
          [
           "methionine adenosyltransferase",
           null,
           null,
           null,
           null,
           null,
           null,
           null,
           null,
           null,
           "2.5.1.6",
           null,
           "taxon:2268143",
           0,
           0.8784172031887345,
           -0.268391557484553,
           0.2891707312861006
          ]
         ],
         "hovertemplate": "<b>%{customdata[0]}</b><br>Family Name: %{customdata[1]}<br>Domain: %{customdata[2]}<br>Kingdom: %{customdata[3]}</b><br>Phylum: %{customdata[4]}<br>Class: %{customdata[5]}<br>Order: %{customdata[6]}<br>Family: %{customdata[7]}<br>Genus: %{customdata[8]}<br>Species: %{customdata[9]}<br>EC Number: %{customdata[10]}<br>Mol Weight: %{customdata[11]}<br>Taxonomy ID: %{customdata[12]}<extra></extra>",
         "marker": {
          "color": "rgb(62, 73, 137)",
          "size": 6,
          "symbol": "circle"
         },
         "mode": "markers",
         "text": "methionine adenosyltransferase",
         "type": "scatter3d",
         "x": [
          0.8784172031887345
         ],
         "y": [
          -0.268391557484553
         ],
         "z": [
          0.2891707312861006
         ]
        },
        {
         "customdata": [
          [
           "methionine adenosyltransferase",
           null,
           null,
           null,
           null,
           null,
           null,
           null,
           null,
           null,
           "2.5.1.6",
           null,
           "taxon:2838159",
           0,
           -0.46052164614830954,
           0.23085823521711984,
           -0.37059610402567505
          ]
         ],
         "hovertemplate": "<b>%{customdata[0]}</b><br>Family Name: %{customdata[1]}<br>Domain: %{customdata[2]}<br>Kingdom: %{customdata[3]}</b><br>Phylum: %{customdata[4]}<br>Class: %{customdata[5]}<br>Order: %{customdata[6]}<br>Family: %{customdata[7]}<br>Genus: %{customdata[8]}<br>Species: %{customdata[9]}<br>EC Number: %{customdata[10]}<br>Mol Weight: %{customdata[11]}<br>Taxonomy ID: %{customdata[12]}<extra></extra>",
         "marker": {
          "color": "rgb(63, 68, 135)",
          "size": 6,
          "symbol": "circle"
         },
         "mode": "markers",
         "text": "methionine adenosyltransferase",
         "type": "scatter3d",
         "x": [
          -0.46052164614830954
         ],
         "y": [
          0.23085823521711984
         ],
         "z": [
          -0.37059610402567505
         ]
        },
        {
         "customdata": [
          [
           "S-adenosylmethionine synthase",
           null,
           null,
           null,
           null,
           null,
           null,
           null,
           null,
           null,
           "2.5.1.6",
           null,
           "taxon:2608793",
           0,
           -0.26003564555761977,
           0.1403939994917561,
           -0.9403625988939962
          ]
         ],
         "hovertemplate": "<b>%{customdata[0]}</b><br>Family Name: %{customdata[1]}<br>Domain: %{customdata[2]}<br>Kingdom: %{customdata[3]}</b><br>Phylum: %{customdata[4]}<br>Class: %{customdata[5]}<br>Order: %{customdata[6]}<br>Family: %{customdata[7]}<br>Genus: %{customdata[8]}<br>Species: %{customdata[9]}<br>EC Number: %{customdata[10]}<br>Mol Weight: %{customdata[11]}<br>Taxonomy ID: %{customdata[12]}<extra></extra>",
         "marker": {
          "color": "rgb(35, 142, 140)",
          "size": 6,
          "symbol": "circle"
         },
         "mode": "markers",
         "text": "S-adenosylmethionine synthase",
         "type": "scatter3d",
         "x": [
          -0.26003564555761977
         ],
         "y": [
          0.1403939994917561
         ],
         "z": [
          -0.9403625988939962
         ]
        },
        {
         "customdata": [
          [
           "methionine adenosyltransferase",
           null,
           null,
           null,
           null,
           null,
           null,
           null,
           null,
           null,
           "2.5.1.6",
           null,
           "taxon:2250255",
           0,
           0.7332746225503318,
           0.7808481173109942,
           0.3116648057509953
          ]
         ],
         "hovertemplate": "<b>%{customdata[0]}</b><br>Family Name: %{customdata[1]}<br>Domain: %{customdata[2]}<br>Kingdom: %{customdata[3]}</b><br>Phylum: %{customdata[4]}<br>Class: %{customdata[5]}<br>Order: %{customdata[6]}<br>Family: %{customdata[7]}<br>Genus: %{customdata[8]}<br>Species: %{customdata[9]}<br>EC Number: %{customdata[10]}<br>Mol Weight: %{customdata[11]}<br>Taxonomy ID: %{customdata[12]}<extra></extra>",
         "marker": {
          "color": "rgb(65, 188, 114)",
          "size": 6,
          "symbol": "circle"
         },
         "mode": "markers",
         "text": "methionine adenosyltransferase",
         "type": "scatter3d",
         "x": [
          0.7332746225503318
         ],
         "y": [
          0.7808481173109942
         ],
         "z": [
          0.3116648057509953
         ]
        },
        {
         "customdata": [
          [
           "methionine adenosyltransferase",
           null,
           null,
           null,
           null,
           null,
           null,
           null,
           null,
           null,
           "2.5.1.6",
           null,
           "taxon:2250277",
           0,
           0.20348246114874602,
           -0.5030945067841095,
           0.7851812495906918
          ]
         ],
         "hovertemplate": "<b>%{customdata[0]}</b><br>Family Name: %{customdata[1]}<br>Domain: %{customdata[2]}<br>Kingdom: %{customdata[3]}</b><br>Phylum: %{customdata[4]}<br>Class: %{customdata[5]}<br>Order: %{customdata[6]}<br>Family: %{customdata[7]}<br>Genus: %{customdata[8]}<br>Species: %{customdata[9]}<br>EC Number: %{customdata[10]}<br>Mol Weight: %{customdata[11]}<br>Taxonomy ID: %{customdata[12]}<extra></extra>",
         "marker": {
          "color": "rgb(43, 119, 142)",
          "size": 6,
          "symbol": "circle"
         },
         "mode": "markers",
         "text": "methionine adenosyltransferase",
         "type": "scatter3d",
         "x": [
          0.20348246114874602
         ],
         "y": [
          -0.5030945067841095
         ],
         "z": [
          0.7851812495906918
         ]
        },
        {
         "customdata": [
          [
           "methionine adenosyltransferase",
           null,
           null,
           null,
           null,
           null,
           null,
           null,
           null,
           null,
           "2.5.1.6",
           null,
           "taxon:1966350",
           0,
           0.5086384659963018,
           -0.7312708158286678,
           0.4074454245193652
          ]
         ],
         "hovertemplate": "<b>%{customdata[0]}</b><br>Family Name: %{customdata[1]}<br>Domain: %{customdata[2]}<br>Kingdom: %{customdata[3]}</b><br>Phylum: %{customdata[4]}<br>Class: %{customdata[5]}<br>Order: %{customdata[6]}<br>Family: %{customdata[7]}<br>Genus: %{customdata[8]}<br>Species: %{customdata[9]}<br>EC Number: %{customdata[10]}<br>Mol Weight: %{customdata[11]}<br>Taxonomy ID: %{customdata[12]}<extra></extra>",
         "marker": {
          "color": "rgb(125, 209, 78)",
          "size": 6,
          "symbol": "circle"
         },
         "mode": "markers",
         "text": "methionine adenosyltransferase",
         "type": "scatter3d",
         "x": [
          0.5086384659963018
         ],
         "y": [
          -0.7312708158286678
         ],
         "z": [
          0.4074454245193652
         ]
        },
        {
         "customdata": [
          [
           "methionine adenosyltransferase",
           null,
           null,
           null,
           null,
           null,
           null,
           null,
           null,
           null,
           "2.5.1.6",
           null,
           "taxon:2250277",
           0,
           0.47755392723941026,
           0.8526184823842821,
           0.39077120151715183
          ]
         ],
         "hovertemplate": "<b>%{customdata[0]}</b><br>Family Name: %{customdata[1]}<br>Domain: %{customdata[2]}<br>Kingdom: %{customdata[3]}</b><br>Phylum: %{customdata[4]}<br>Class: %{customdata[5]}<br>Order: %{customdata[6]}<br>Family: %{customdata[7]}<br>Genus: %{customdata[8]}<br>Species: %{customdata[9]}<br>EC Number: %{customdata[10]}<br>Mol Weight: %{customdata[11]}<br>Taxonomy ID: %{customdata[12]}<extra></extra>",
         "marker": {
          "color": "rgb(43, 119, 142)",
          "size": 6,
          "symbol": "circle"
         },
         "mode": "markers",
         "text": "methionine adenosyltransferase",
         "type": "scatter3d",
         "x": [
          0.47755392723941026
         ],
         "y": [
          0.8526184823842821
         ],
         "z": [
          0.39077120151715183
         ]
        },
        {
         "customdata": [
          [
           "methionine adenosyltransferase",
           null,
           null,
           null,
           null,
           null,
           null,
           null,
           null,
           null,
           "2.5.1.6",
           null,
           "taxon:2250255",
           0,
           0.2144491407466893,
           -0.2202123020924346,
           0.9510109605284972
          ]
         ],
         "hovertemplate": "<b>%{customdata[0]}</b><br>Family Name: %{customdata[1]}<br>Domain: %{customdata[2]}<br>Kingdom: %{customdata[3]}</b><br>Phylum: %{customdata[4]}<br>Class: %{customdata[5]}<br>Order: %{customdata[6]}<br>Family: %{customdata[7]}<br>Genus: %{customdata[8]}<br>Species: %{customdata[9]}<br>EC Number: %{customdata[10]}<br>Mol Weight: %{customdata[11]}<br>Taxonomy ID: %{customdata[12]}<extra></extra>",
         "marker": {
          "color": "rgb(65, 188, 114)",
          "size": 6,
          "symbol": "circle"
         },
         "mode": "markers",
         "text": "methionine adenosyltransferase",
         "type": "scatter3d",
         "x": [
          0.2144491407466893
         ],
         "y": [
          -0.2202123020924346
         ],
         "z": [
          0.9510109605284972
         ]
        },
        {
         "customdata": [
          [
           "methionine adenosyltransferase",
           null,
           null,
           null,
           null,
           null,
           null,
           null,
           null,
           null,
           "2.5.1.6",
           null,
           "taxon:2250257",
           0,
           0.5453032751786575,
           -0.7589544746086988,
           -0.6873025648091954
          ]
         ],
         "hovertemplate": "<b>%{customdata[0]}</b><br>Family Name: %{customdata[1]}<br>Domain: %{customdata[2]}<br>Kingdom: %{customdata[3]}</b><br>Phylum: %{customdata[4]}<br>Class: %{customdata[5]}<br>Order: %{customdata[6]}<br>Family: %{customdata[7]}<br>Genus: %{customdata[8]}<br>Species: %{customdata[9]}<br>EC Number: %{customdata[10]}<br>Mol Weight: %{customdata[11]}<br>Taxonomy ID: %{customdata[12]}<extra></extra>",
         "marker": {
          "color": "rgb(65, 64, 132)",
          "size": 6,
          "symbol": "circle"
         },
         "mode": "markers",
         "text": "methionine adenosyltransferase",
         "type": "scatter3d",
         "x": [
          0.5453032751786575
         ],
         "y": [
          -0.7589544746086988
         ],
         "z": [
          -0.6873025648091954
         ]
        },
        {
         "customdata": [
          [
           "S-adenosylmethionine synthetase",
           null,
           null,
           null,
           null,
           null,
           null,
           null,
           null,
           null,
           "2.5.1.6",
           null,
           "taxon:2137776",
           0,
           -0.21980847352654337,
           0.5068791655612263,
           0.9105880127585699
          ]
         ],
         "hovertemplate": "<b>%{customdata[0]}</b><br>Family Name: %{customdata[1]}<br>Domain: %{customdata[2]}<br>Kingdom: %{customdata[3]}</b><br>Phylum: %{customdata[4]}<br>Class: %{customdata[5]}<br>Order: %{customdata[6]}<br>Family: %{customdata[7]}<br>Genus: %{customdata[8]}<br>Species: %{customdata[9]}<br>EC Number: %{customdata[10]}<br>Mol Weight: %{customdata[11]}<br>Taxonomy ID: %{customdata[12]}<extra></extra>",
         "marker": {
          "color": "rgb(48, 178, 124)",
          "size": 6,
          "symbol": "circle"
         },
         "mode": "markers",
         "text": "S-adenosylmethionine synthetase",
         "type": "scatter3d",
         "x": [
          -0.21980847352654337
         ],
         "y": [
          0.5068791655612263
         ],
         "z": [
          0.9105880127585699
         ]
        },
        {
         "customdata": [
          [
           "methionine adenosyltransferase",
           null,
           null,
           null,
           null,
           null,
           null,
           null,
           null,
           null,
           "2.5.1.6",
           null,
           "taxon:2485498",
           0,
           -0.8945196591635287,
           0.2071477478693115,
           -0.25805854861369987
          ]
         ],
         "hovertemplate": "<b>%{customdata[0]}</b><br>Family Name: %{customdata[1]}<br>Domain: %{customdata[2]}<br>Kingdom: %{customdata[3]}</b><br>Phylum: %{customdata[4]}<br>Class: %{customdata[5]}<br>Order: %{customdata[6]}<br>Family: %{customdata[7]}<br>Genus: %{customdata[8]}<br>Species: %{customdata[9]}<br>EC Number: %{customdata[10]}<br>Mol Weight: %{customdata[11]}<br>Taxonomy ID: %{customdata[12]}<extra></extra>",
         "marker": {
          "color": "rgb(98, 201, 95)",
          "size": 6,
          "symbol": "circle"
         },
         "mode": "markers",
         "text": "methionine adenosyltransferase",
         "type": "scatter3d",
         "x": [
          -0.8945196591635287
         ],
         "y": [
          0.2071477478693115
         ],
         "z": [
          -0.25805854861369987
         ]
        },
        {
         "customdata": [
          [
           "S-adenosylmethionine synthetase",
           null,
           null,
           null,
           null,
           null,
           null,
           null,
           null,
           null,
           "2.5.1.6",
           null,
           "taxon:2012527",
           0,
           0.7956801974746281,
           0.47176457899985497,
           0.5958919456920622
          ]
         ],
         "hovertemplate": "<b>%{customdata[0]}</b><br>Family Name: %{customdata[1]}<br>Domain: %{customdata[2]}<br>Kingdom: %{customdata[3]}</b><br>Phylum: %{customdata[4]}<br>Class: %{customdata[5]}<br>Order: %{customdata[6]}<br>Family: %{customdata[7]}<br>Genus: %{customdata[8]}<br>Species: %{customdata[9]}<br>EC Number: %{customdata[10]}<br>Mol Weight: %{customdata[11]}<br>Taxonomy ID: %{customdata[12]}<extra></extra>",
         "marker": {
          "color": "rgb(37, 134, 141)",
          "size": 6,
          "symbol": "circle"
         },
         "mode": "markers",
         "text": "S-adenosylmethionine synthetase",
         "type": "scatter3d",
         "x": [
          0.7956801974746281
         ],
         "y": [
          0.47176457899985497
         ],
         "z": [
          0.5958919456920622
         ]
        },
        {
         "customdata": [
          [
           "methionine adenosyltransferase",
           null,
           null,
           null,
           null,
           null,
           null,
           null,
           null,
           null,
           "2.5.1.6",
           43927,
           "taxon:1937004",
           0,
           -0.25355993010837263,
           -0.44008025763825387,
           -0.7157945489062739
          ]
         ],
         "hovertemplate": "<b>%{customdata[0]}</b><br>Family Name: %{customdata[1]}<br>Domain: %{customdata[2]}<br>Kingdom: %{customdata[3]}</b><br>Phylum: %{customdata[4]}<br>Class: %{customdata[5]}<br>Order: %{customdata[6]}<br>Family: %{customdata[7]}<br>Genus: %{customdata[8]}<br>Species: %{customdata[9]}<br>EC Number: %{customdata[10]}<br>Mol Weight: %{customdata[11]}<br>Taxonomy ID: %{customdata[12]}<extra></extra>",
         "marker": {
          "color": "rgb(32, 152, 138)",
          "size": 6,
          "symbol": "circle"
         },
         "mode": "markers",
         "text": "methionine adenosyltransferase",
         "type": "scatter3d",
         "x": [
          -0.25355993010837263
         ],
         "y": [
          -0.44008025763825387
         ],
         "z": [
          -0.7157945489062739
         ]
        },
        {
         "customdata": [
          [
           "methionine adenosyltransferase",
           null,
           null,
           null,
           null,
           null,
           null,
           null,
           null,
           null,
           "2.5.1.6",
           null,
           "taxon:1906667",
           0,
           -0.7753517353657511,
           0.541653182168436,
           0.5653782717758927
          ]
         ],
         "hovertemplate": "<b>%{customdata[0]}</b><br>Family Name: %{customdata[1]}<br>Domain: %{customdata[2]}<br>Kingdom: %{customdata[3]}</b><br>Phylum: %{customdata[4]}<br>Class: %{customdata[5]}<br>Order: %{customdata[6]}<br>Family: %{customdata[7]}<br>Genus: %{customdata[8]}<br>Species: %{customdata[9]}<br>EC Number: %{customdata[10]}<br>Mol Weight: %{customdata[11]}<br>Taxonomy ID: %{customdata[12]}<extra></extra>",
         "marker": {
          "color": "rgb(46, 111, 142)",
          "size": 6,
          "symbol": "circle"
         },
         "mode": "markers",
         "text": "methionine adenosyltransferase",
         "type": "scatter3d",
         "x": [
          -0.7753517353657511
         ],
         "y": [
          0.541653182168436
         ],
         "z": [
          0.5653782717758927
         ]
        },
        {
         "customdata": [
          [
           "methionine adenosyltransferase",
           null,
           null,
           null,
           null,
           null,
           null,
           null,
           null,
           null,
           "2.5.1.6",
           44029,
           "taxon:2933293",
           0,
           0.7828268011208479,
           0.2828358318285507,
           0.4141349433175592
          ]
         ],
         "hovertemplate": "<b>%{customdata[0]}</b><br>Family Name: %{customdata[1]}<br>Domain: %{customdata[2]}<br>Kingdom: %{customdata[3]}</b><br>Phylum: %{customdata[4]}<br>Class: %{customdata[5]}<br>Order: %{customdata[6]}<br>Family: %{customdata[7]}<br>Genus: %{customdata[8]}<br>Species: %{customdata[9]}<br>EC Number: %{customdata[10]}<br>Mol Weight: %{customdata[11]}<br>Taxonomy ID: %{customdata[12]}<extra></extra>",
         "marker": {
          "color": "rgb(102, 203, 93)",
          "size": 6,
          "symbol": "circle"
         },
         "mode": "markers",
         "text": "methionine adenosyltransferase",
         "type": "scatter3d",
         "x": [
          0.7828268011208479
         ],
         "y": [
          0.2828358318285507
         ],
         "z": [
          0.4141349433175592
         ]
        },
        {
         "customdata": [
          [
           "S-adenosylmethionine synthetase",
           null,
           null,
           null,
           null,
           null,
           null,
           null,
           null,
           null,
           null,
           null,
           "taxon:1797980",
           0,
           0.5301869591419849,
           0.7500962124987376,
           0.06389218322215996
          ]
         ],
         "hovertemplate": "<b>%{customdata[0]}</b><br>Family Name: %{customdata[1]}<br>Domain: %{customdata[2]}<br>Kingdom: %{customdata[3]}</b><br>Phylum: %{customdata[4]}<br>Class: %{customdata[5]}<br>Order: %{customdata[6]}<br>Family: %{customdata[7]}<br>Genus: %{customdata[8]}<br>Species: %{customdata[9]}<br>EC Number: %{customdata[10]}<br>Mol Weight: %{customdata[11]}<br>Taxonomy ID: %{customdata[12]}<extra></extra>",
         "marker": {
          "color": "rgb(207, 225, 41)",
          "size": 6,
          "symbol": "circle"
         },
         "mode": "markers",
         "text": "S-adenosylmethionine synthetase",
         "type": "scatter3d",
         "x": [
          0.5301869591419849
         ],
         "y": [
          0.7500962124987376
         ],
         "z": [
          0.06389218322215996
         ]
        },
        {
         "customdata": [
          [
           "methionine adenosyltransferase",
           null,
           null,
           null,
           null,
           null,
           null,
           null,
           null,
           null,
           "2.5.1.6",
           null,
           "taxon:1906666",
           0,
           -0.6033849661235777,
           -0.15919717835933755,
           -0.7728870882475586
          ]
         ],
         "hovertemplate": "<b>%{customdata[0]}</b><br>Family Name: %{customdata[1]}<br>Domain: %{customdata[2]}<br>Kingdom: %{customdata[3]}</b><br>Phylum: %{customdata[4]}<br>Class: %{customdata[5]}<br>Order: %{customdata[6]}<br>Family: %{customdata[7]}<br>Genus: %{customdata[8]}<br>Species: %{customdata[9]}<br>EC Number: %{customdata[10]}<br>Mol Weight: %{customdata[11]}<br>Taxonomy ID: %{customdata[12]}<extra></extra>",
         "marker": {
          "color": "rgb(38, 132, 142)",
          "size": 6,
          "symbol": "circle"
         },
         "mode": "markers",
         "text": "methionine adenosyltransferase",
         "type": "scatter3d",
         "x": [
          -0.6033849661235777
         ],
         "y": [
          -0.15919717835933755
         ],
         "z": [
          -0.7728870882475586
         ]
        },
        {
         "customdata": [
          [
           "methionine adenosyltransferase",
           null,
           null,
           null,
           null,
           null,
           null,
           null,
           null,
           null,
           "2.5.1.6",
           null,
           "taxon:2184052",
           0,
           0.8943411024965571,
           0.1205056548099162,
           -0.487871933835693
          ]
         ],
         "hovertemplate": "<b>%{customdata[0]}</b><br>Family Name: %{customdata[1]}<br>Domain: %{customdata[2]}<br>Kingdom: %{customdata[3]}</b><br>Phylum: %{customdata[4]}<br>Class: %{customdata[5]}<br>Order: %{customdata[6]}<br>Family: %{customdata[7]}<br>Genus: %{customdata[8]}<br>Species: %{customdata[9]}<br>EC Number: %{customdata[10]}<br>Mol Weight: %{customdata[11]}<br>Taxonomy ID: %{customdata[12]}<extra></extra>",
         "marker": {
          "color": "rgb(176, 221, 46)",
          "size": 6,
          "symbol": "circle"
         },
         "mode": "markers",
         "text": "methionine adenosyltransferase",
         "type": "scatter3d",
         "x": [
          0.8943411024965571
         ],
         "y": [
          0.1205056548099162
         ],
         "z": [
          -0.487871933835693
         ]
        },
        {
         "customdata": [
          [
           "methionine adenosyltransferase",
           null,
           null,
           null,
           null,
           null,
           null,
           null,
           null,
           null,
           "2.5.1.6",
           43115,
           "taxon:1604004",
           0,
           0.6457467255036747,
           0.3611736408858711,
           -0.4414450852555291
          ]
         ],
         "hovertemplate": "<b>%{customdata[0]}</b><br>Family Name: %{customdata[1]}<br>Domain: %{customdata[2]}<br>Kingdom: %{customdata[3]}</b><br>Phylum: %{customdata[4]}<br>Class: %{customdata[5]}<br>Order: %{customdata[6]}<br>Family: %{customdata[7]}<br>Genus: %{customdata[8]}<br>Species: %{customdata[9]}<br>EC Number: %{customdata[10]}<br>Mol Weight: %{customdata[11]}<br>Taxonomy ID: %{customdata[12]}<extra></extra>",
         "marker": {
          "color": "rgb(33, 148, 139)",
          "size": 6,
          "symbol": "circle"
         },
         "mode": "markers",
         "text": "methionine adenosyltransferase",
         "type": "scatter3d",
         "x": [
          0.6457467255036747
         ],
         "y": [
          0.3611736408858711
         ],
         "z": [
          -0.4414450852555291
         ]
        },
        {
         "customdata": [
          [
           "S-adenosylmethionine synthetase",
           null,
           null,
           null,
           null,
           null,
           null,
           null,
           null,
           null,
           null,
           null,
           "taxon:1945579",
           0,
           -0.8977876922061191,
           0.37949005760814236,
           0.0455162398573008
          ]
         ],
         "hovertemplate": "<b>%{customdata[0]}</b><br>Family Name: %{customdata[1]}<br>Domain: %{customdata[2]}<br>Kingdom: %{customdata[3]}</b><br>Phylum: %{customdata[4]}<br>Class: %{customdata[5]}<br>Order: %{customdata[6]}<br>Family: %{customdata[7]}<br>Genus: %{customdata[8]}<br>Species: %{customdata[9]}<br>EC Number: %{customdata[10]}<br>Mol Weight: %{customdata[11]}<br>Taxonomy ID: %{customdata[12]}<extra></extra>",
         "marker": {
          "color": "rgb(69, 9, 92)",
          "size": 6,
          "symbol": "circle"
         },
         "mode": "markers",
         "text": "S-adenosylmethionine synthetase",
         "type": "scatter3d",
         "x": [
          -0.8977876922061191
         ],
         "y": [
          0.37949005760814236
         ],
         "z": [
          0.0455162398573008
         ]
        },
        {
         "customdata": [
          [
           "methionine adenosyltransferase",
           null,
           null,
           null,
           null,
           null,
           null,
           null,
           null,
           null,
           "2.5.1.6",
           null,
           "taxon:1906666",
           0,
           0.5734139268166446,
           -0.09403227709917875,
           0.7963317841633822
          ]
         ],
         "hovertemplate": "<b>%{customdata[0]}</b><br>Family Name: %{customdata[1]}<br>Domain: %{customdata[2]}<br>Kingdom: %{customdata[3]}</b><br>Phylum: %{customdata[4]}<br>Class: %{customdata[5]}<br>Order: %{customdata[6]}<br>Family: %{customdata[7]}<br>Genus: %{customdata[8]}<br>Species: %{customdata[9]}<br>EC Number: %{customdata[10]}<br>Mol Weight: %{customdata[11]}<br>Taxonomy ID: %{customdata[12]}<extra></extra>",
         "marker": {
          "color": "rgb(38, 132, 142)",
          "size": 6,
          "symbol": "circle"
         },
         "mode": "markers",
         "text": "methionine adenosyltransferase",
         "type": "scatter3d",
         "x": [
          0.5734139268166446
         ],
         "y": [
          -0.09403227709917875
         ],
         "z": [
          0.7963317841633822
         ]
        },
        {
         "customdata": [
          [
           "methionine adenosyltransferase",
           null,
           null,
           null,
           null,
           null,
           null,
           null,
           null,
           null,
           "2.5.1.6",
           null,
           "taxon:2250256",
           0,
           0.021735079975812397,
           0.0675577889028209,
           0.9530185829544624
          ]
         ],
         "hovertemplate": "<b>%{customdata[0]}</b><br>Family Name: %{customdata[1]}<br>Domain: %{customdata[2]}<br>Kingdom: %{customdata[3]}</b><br>Phylum: %{customdata[4]}<br>Class: %{customdata[5]}<br>Order: %{customdata[6]}<br>Family: %{customdata[7]}<br>Genus: %{customdata[8]}<br>Species: %{customdata[9]}<br>EC Number: %{customdata[10]}<br>Mol Weight: %{customdata[11]}<br>Taxonomy ID: %{customdata[12]}<extra></extra>",
         "marker": {
          "color": "rgb(59, 80, 138)",
          "size": 6,
          "symbol": "circle"
         },
         "mode": "markers",
         "text": "methionine adenosyltransferase",
         "type": "scatter3d",
         "x": [
          0.021735079975812397
         ],
         "y": [
          0.0675577889028209
         ],
         "z": [
          0.9530185829544624
         ]
        },
        {
         "customdata": [
          [
           "methionine adenosyltransferase",
           null,
           null,
           null,
           null,
           null,
           null,
           null,
           null,
           null,
           "2.5.1.6",
           null,
           "taxon:2268204",
           0,
           -0.18946693857040636,
           -0.6882913130334886,
           -0.8151530473373283
          ]
         ],
         "hovertemplate": "<b>%{customdata[0]}</b><br>Family Name: %{customdata[1]}<br>Domain: %{customdata[2]}<br>Kingdom: %{customdata[3]}</b><br>Phylum: %{customdata[4]}<br>Class: %{customdata[5]}<br>Order: %{customdata[6]}<br>Family: %{customdata[7]}<br>Genus: %{customdata[8]}<br>Species: %{customdata[9]}<br>EC Number: %{customdata[10]}<br>Mol Weight: %{customdata[11]}<br>Taxonomy ID: %{customdata[12]}<extra></extra>",
         "marker": {
          "color": "rgb(86, 196, 102)",
          "size": 6,
          "symbol": "circle"
         },
         "mode": "markers",
         "text": "methionine adenosyltransferase",
         "type": "scatter3d",
         "x": [
          -0.18946693857040636
         ],
         "y": [
          -0.6882913130334886
         ],
         "z": [
          -0.8151530473373283
         ]
        },
        {
         "customdata": [
          [
           "Archaeal S-adenosylmethionine synthetase",
           null,
           null,
           null,
           null,
           null,
           null,
           null,
           null,
           null,
           null,
           null,
           "taxon:1903181",
           0,
           0.5831974255362247,
           0.19170389677325542,
           0.6887415899546605
          ]
         ],
         "hovertemplate": "<b>%{customdata[0]}</b><br>Family Name: %{customdata[1]}<br>Domain: %{customdata[2]}<br>Kingdom: %{customdata[3]}</b><br>Phylum: %{customdata[4]}<br>Class: %{customdata[5]}<br>Order: %{customdata[6]}<br>Family: %{customdata[7]}<br>Genus: %{customdata[8]}<br>Species: %{customdata[9]}<br>EC Number: %{customdata[10]}<br>Mol Weight: %{customdata[11]}<br>Taxonomy ID: %{customdata[12]}<extra></extra>",
         "marker": {
          "color": "rgb(161, 217, 56)",
          "size": 6,
          "symbol": "circle"
         },
         "mode": "markers",
         "text": "Archaeal S-adenosylmethionine synthetase",
         "type": "scatter3d",
         "x": [
          0.5831974255362247
         ],
         "y": [
          0.19170389677325542
         ],
         "z": [
          0.6887415899546605
         ]
        },
        {
         "customdata": [
          [
           "methionine adenosyltransferase",
           null,
           null,
           null,
           null,
           null,
           null,
           null,
           null,
           null,
           "2.5.1.6",
           43707,
           "taxon:2160",
           0,
           -0.5813198920087966,
           -0.2818127439752535,
           -0.6203009376939863
          ]
         ],
         "hovertemplate": "<b>%{customdata[0]}</b><br>Family Name: %{customdata[1]}<br>Domain: %{customdata[2]}<br>Kingdom: %{customdata[3]}</b><br>Phylum: %{customdata[4]}<br>Class: %{customdata[5]}<br>Order: %{customdata[6]}<br>Family: %{customdata[7]}<br>Genus: %{customdata[8]}<br>Species: %{customdata[9]}<br>EC Number: %{customdata[10]}<br>Mol Weight: %{customdata[11]}<br>Taxonomy ID: %{customdata[12]}<extra></extra>",
         "marker": {
          "color": "rgb(82, 195, 104)",
          "size": 6,
          "symbol": "circle"
         },
         "mode": "markers",
         "text": "methionine adenosyltransferase",
         "type": "scatter3d",
         "x": [
          -0.5813198920087966
         ],
         "y": [
          -0.2818127439752535
         ],
         "z": [
          -0.6203009376939863
         ]
        },
        {
         "customdata": [
          [
           "methionine adenosyltransferase",
           null,
           null,
           null,
           null,
           null,
           null,
           null,
           null,
           null,
           "2.5.1.6",
           44047,
           "taxon:2160",
           0,
           -0.5267429454918072,
           -0.25351849141130284,
           -0.5642132074717252
          ]
         ],
         "hovertemplate": "<b>%{customdata[0]}</b><br>Family Name: %{customdata[1]}<br>Domain: %{customdata[2]}<br>Kingdom: %{customdata[3]}</b><br>Phylum: %{customdata[4]}<br>Class: %{customdata[5]}<br>Order: %{customdata[6]}<br>Family: %{customdata[7]}<br>Genus: %{customdata[8]}<br>Species: %{customdata[9]}<br>EC Number: %{customdata[10]}<br>Mol Weight: %{customdata[11]}<br>Taxonomy ID: %{customdata[12]}<extra></extra>",
         "marker": {
          "color": "rgb(82, 195, 104)",
          "size": 6,
          "symbol": "circle"
         },
         "mode": "markers",
         "text": "methionine adenosyltransferase",
         "type": "scatter3d",
         "x": [
          -0.5267429454918072
         ],
         "y": [
          -0.25351849141130284
         ],
         "z": [
          -0.5642132074717252
         ]
        },
        {
         "customdata": [
          [
           "S-adenosylmethionine synthetase",
           null,
           null,
           null,
           null,
           null,
           null,
           null,
           null,
           null,
           "2.5.1.6",
           null,
           "taxon:1122961",
           0,
           -0.23882137369217205,
           0.901377977540822,
           -0.24235526207813748
          ]
         ],
         "hovertemplate": "<b>%{customdata[0]}</b><br>Family Name: %{customdata[1]}<br>Domain: %{customdata[2]}<br>Kingdom: %{customdata[3]}</b><br>Phylum: %{customdata[4]}<br>Class: %{customdata[5]}<br>Order: %{customdata[6]}<br>Family: %{customdata[7]}<br>Genus: %{customdata[8]}<br>Species: %{customdata[9]}<br>EC Number: %{customdata[10]}<br>Mol Weight: %{customdata[11]}<br>Taxonomy ID: %{customdata[12]}<extra></extra>",
         "marker": {
          "color": "rgb(36, 136, 141)",
          "size": 6,
          "symbol": "circle"
         },
         "mode": "markers",
         "text": "S-adenosylmethionine synthetase",
         "type": "scatter3d",
         "x": [
          -0.23882137369217205
         ],
         "y": [
          0.901377977540822
         ],
         "z": [
          -0.24235526207813748
         ]
        },
        {
         "customdata": [
          [
           "methionine adenosyltransferase",
           null,
           null,
           null,
           null,
           null,
           null,
           null,
           null,
           null,
           "2.5.1.6",
           null,
           "taxon:1906665",
           0,
           -0.0050094160991986875,
           0.8591483293078893,
           -0.2254254867986605
          ]
         ],
         "hovertemplate": "<b>%{customdata[0]}</b><br>Family Name: %{customdata[1]}<br>Domain: %{customdata[2]}<br>Kingdom: %{customdata[3]}</b><br>Phylum: %{customdata[4]}<br>Class: %{customdata[5]}<br>Order: %{customdata[6]}<br>Family: %{customdata[7]}<br>Genus: %{customdata[8]}<br>Species: %{customdata[9]}<br>EC Number: %{customdata[10]}<br>Mol Weight: %{customdata[11]}<br>Taxonomy ID: %{customdata[12]}<extra></extra>",
         "marker": {
          "color": "rgb(61, 186, 116)",
          "size": 6,
          "symbol": "circle"
         },
         "mode": "markers",
         "text": "methionine adenosyltransferase",
         "type": "scatter3d",
         "x": [
          -0.0050094160991986875
         ],
         "y": [
          0.8591483293078893
         ],
         "z": [
          -0.2254254867986605
         ]
        },
        {
         "customdata": [
          [
           "S-adenosylmethionine synthetase",
           null,
           null,
           null,
           null,
           null,
           null,
           null,
           null,
           null,
           "2.5.1.6",
           null,
           "taxon:1698260",
           0,
           0.12566472167280254,
           0.6130607831166213,
           0.85379894860156
          ]
         ],
         "hovertemplate": "<b>%{customdata[0]}</b><br>Family Name: %{customdata[1]}<br>Domain: %{customdata[2]}<br>Kingdom: %{customdata[3]}</b><br>Phylum: %{customdata[4]}<br>Class: %{customdata[5]}<br>Order: %{customdata[6]}<br>Family: %{customdata[7]}<br>Genus: %{customdata[8]}<br>Species: %{customdata[9]}<br>EC Number: %{customdata[10]}<br>Mol Weight: %{customdata[11]}<br>Taxonomy ID: %{customdata[12]}<extra></extra>",
         "marker": {
          "color": "rgb(196, 224, 42)",
          "size": 6,
          "symbol": "circle"
         },
         "mode": "markers",
         "text": "S-adenosylmethionine synthetase",
         "type": "scatter3d",
         "x": [
          0.12566472167280254
         ],
         "y": [
          0.6130607831166213
         ],
         "z": [
          0.85379894860156
         ]
        },
        {
         "customdata": [
          [
           "methionine adenosyltransferase",
           null,
           null,
           null,
           null,
           null,
           null,
           null,
           null,
           null,
           "2.5.1.6",
           42996,
           "taxon:1457250",
           0,
           -0.6588090678007401,
           0.8031268743617976,
           -0.004899041493637145
          ]
         ],
         "hovertemplate": "<b>%{customdata[0]}</b><br>Family Name: %{customdata[1]}<br>Domain: %{customdata[2]}<br>Kingdom: %{customdata[3]}</b><br>Phylum: %{customdata[4]}<br>Class: %{customdata[5]}<br>Order: %{customdata[6]}<br>Family: %{customdata[7]}<br>Genus: %{customdata[8]}<br>Species: %{customdata[9]}<br>EC Number: %{customdata[10]}<br>Mol Weight: %{customdata[11]}<br>Taxonomy ID: %{customdata[12]}<extra></extra>",
         "marker": {
          "color": "rgb(44, 115, 142)",
          "size": 6,
          "symbol": "circle"
         },
         "mode": "markers",
         "text": "methionine adenosyltransferase",
         "type": "scatter3d",
         "x": [
          -0.6588090678007401
         ],
         "y": [
          0.8031268743617976
         ],
         "z": [
          -0.004899041493637145
         ]
        },
        {
         "customdata": [
          [
           "methionine adenosyltransferase",
           null,
           null,
           null,
           null,
           null,
           null,
           null,
           null,
           null,
           "2.5.1.6",
           43869,
           "taxon:768733",
           0,
           -0.4239299153926898,
           -0.06498188247234639,
           0.9557667523538388
          ]
         ],
         "hovertemplate": "<b>%{customdata[0]}</b><br>Family Name: %{customdata[1]}<br>Domain: %{customdata[2]}<br>Kingdom: %{customdata[3]}</b><br>Phylum: %{customdata[4]}<br>Class: %{customdata[5]}<br>Order: %{customdata[6]}<br>Family: %{customdata[7]}<br>Genus: %{customdata[8]}<br>Species: %{customdata[9]}<br>EC Number: %{customdata[10]}<br>Mol Weight: %{customdata[11]}<br>Taxonomy ID: %{customdata[12]}<extra></extra>",
         "marker": {
          "color": "rgb(49, 104, 142)",
          "size": 6,
          "symbol": "circle"
         },
         "mode": "markers",
         "text": "methionine adenosyltransferase",
         "type": "scatter3d",
         "x": [
          -0.4239299153926898
         ],
         "y": [
          -0.06498188247234639
         ],
         "z": [
          0.9557667523538388
         ]
        },
        {
         "customdata": [
          [
           "methionine adenosyltransferase",
           null,
           null,
           null,
           null,
           null,
           null,
           null,
           null,
           null,
           "2.5.1.6",
           43887,
           "taxon:1495336",
           0,
           0.01535136291854943,
           -0.7237712625665882,
           0.49454723725755434
          ]
         ],
         "hovertemplate": "<b>%{customdata[0]}</b><br>Family Name: %{customdata[1]}<br>Domain: %{customdata[2]}<br>Kingdom: %{customdata[3]}</b><br>Phylum: %{customdata[4]}<br>Class: %{customdata[5]}<br>Order: %{customdata[6]}<br>Family: %{customdata[7]}<br>Genus: %{customdata[8]}<br>Species: %{customdata[9]}<br>EC Number: %{customdata[10]}<br>Mol Weight: %{customdata[11]}<br>Taxonomy ID: %{customdata[12]}<extra></extra>",
         "marker": {
          "color": "rgb(66, 59, 130)",
          "size": 6,
          "symbol": "circle"
         },
         "mode": "markers",
         "text": "methionine adenosyltransferase",
         "type": "scatter3d",
         "x": [
          0.01535136291854943
         ],
         "y": [
          -0.7237712625665882
         ],
         "z": [
          0.49454723725755434
         ]
        },
        {
         "customdata": [
          [
           "methionine adenosyltransferase",
           null,
           null,
           null,
           null,
           null,
           null,
           null,
           null,
           null,
           "2.5.1.6",
           null,
           "taxon:2250256",
           0,
           -0.4151374156704781,
           -0.8111481651341976,
           -0.6092240344800969
          ]
         ],
         "hovertemplate": "<b>%{customdata[0]}</b><br>Family Name: %{customdata[1]}<br>Domain: %{customdata[2]}<br>Kingdom: %{customdata[3]}</b><br>Phylum: %{customdata[4]}<br>Class: %{customdata[5]}<br>Order: %{customdata[6]}<br>Family: %{customdata[7]}<br>Genus: %{customdata[8]}<br>Species: %{customdata[9]}<br>EC Number: %{customdata[10]}<br>Mol Weight: %{customdata[11]}<br>Taxonomy ID: %{customdata[12]}<extra></extra>",
         "marker": {
          "color": "rgb(59, 80, 138)",
          "size": 6,
          "symbol": "circle"
         },
         "mode": "markers",
         "text": "methionine adenosyltransferase",
         "type": "scatter3d",
         "x": [
          -0.4151374156704781
         ],
         "y": [
          -0.8111481651341976
         ],
         "z": [
          -0.6092240344800969
         ]
        },
        {
         "customdata": [
          [
           "methionine adenosyltransferase",
           null,
           null,
           null,
           null,
           null,
           null,
           null,
           null,
           null,
           "2.5.1.6",
           null,
           "taxon:2806419",
           0,
           -0.6983953152016034,
           -0.6334776672454997,
           -0.5625565612318258
          ]
         ],
         "hovertemplate": "<b>%{customdata[0]}</b><br>Family Name: %{customdata[1]}<br>Domain: %{customdata[2]}<br>Kingdom: %{customdata[3]}</b><br>Phylum: %{customdata[4]}<br>Class: %{customdata[5]}<br>Order: %{customdata[6]}<br>Family: %{customdata[7]}<br>Genus: %{customdata[8]}<br>Species: %{customdata[9]}<br>EC Number: %{customdata[10]}<br>Mol Weight: %{customdata[11]}<br>Taxonomy ID: %{customdata[12]}<extra></extra>",
         "marker": {
          "color": "rgb(34, 146, 139)",
          "size": 6,
          "symbol": "circle"
         },
         "mode": "markers",
         "text": "methionine adenosyltransferase",
         "type": "scatter3d",
         "x": [
          -0.6983953152016034
         ],
         "y": [
          -0.6334776672454997
         ],
         "z": [
          -0.5625565612318258
         ]
        },
        {
         "customdata": [
          [
           "methionine adenosyltransferase",
           null,
           null,
           null,
           null,
           null,
           null,
           null,
           null,
           null,
           "2.5.1.6",
           null,
           "taxon:1906666",
           0,
           0.2755107191106561,
           -0.8861482479134809,
           -0.242462040006182
          ]
         ],
         "hovertemplate": "<b>%{customdata[0]}</b><br>Family Name: %{customdata[1]}<br>Domain: %{customdata[2]}<br>Kingdom: %{customdata[3]}</b><br>Phylum: %{customdata[4]}<br>Class: %{customdata[5]}<br>Order: %{customdata[6]}<br>Family: %{customdata[7]}<br>Genus: %{customdata[8]}<br>Species: %{customdata[9]}<br>EC Number: %{customdata[10]}<br>Mol Weight: %{customdata[11]}<br>Taxonomy ID: %{customdata[12]}<extra></extra>",
         "marker": {
          "color": "rgb(38, 132, 142)",
          "size": 6,
          "symbol": "circle"
         },
         "mode": "markers",
         "text": "methionine adenosyltransferase",
         "type": "scatter3d",
         "x": [
          0.2755107191106561
         ],
         "y": [
          -0.8861482479134809
         ],
         "z": [
          -0.242462040006182
         ]
        },
        {
         "customdata": [
          [
           "methionine adenosyltransferase",
           null,
           null,
           null,
           null,
           null,
           null,
           null,
           null,
           null,
           "2.5.1.6",
           null,
           "taxon:1906666",
           0,
           0.8389093939289965,
           -0.17391739281553426,
           0.4644673256231633
          ]
         ],
         "hovertemplate": "<b>%{customdata[0]}</b><br>Family Name: %{customdata[1]}<br>Domain: %{customdata[2]}<br>Kingdom: %{customdata[3]}</b><br>Phylum: %{customdata[4]}<br>Class: %{customdata[5]}<br>Order: %{customdata[6]}<br>Family: %{customdata[7]}<br>Genus: %{customdata[8]}<br>Species: %{customdata[9]}<br>EC Number: %{customdata[10]}<br>Mol Weight: %{customdata[11]}<br>Taxonomy ID: %{customdata[12]}<extra></extra>",
         "marker": {
          "color": "rgb(38, 132, 142)",
          "size": 6,
          "symbol": "circle"
         },
         "mode": "markers",
         "text": "methionine adenosyltransferase",
         "type": "scatter3d",
         "x": [
          0.8389093939289965
         ],
         "y": [
          -0.17391739281553426
         ],
         "z": [
          0.4644673256231633
         ]
        },
        {
         "customdata": [
          [
           "methionine adenosyltransferase",
           null,
           null,
           null,
           null,
           null,
           null,
           null,
           null,
           null,
           "2.5.1.6",
           null,
           "taxon:90426",
           0,
           -0.6542358403398179,
           -0.6558431159131963,
           -0.25175675412504556
          ]
         ],
         "hovertemplate": "<b>%{customdata[0]}</b><br>Family Name: %{customdata[1]}<br>Domain: %{customdata[2]}<br>Kingdom: %{customdata[3]}</b><br>Phylum: %{customdata[4]}<br>Class: %{customdata[5]}<br>Order: %{customdata[6]}<br>Family: %{customdata[7]}<br>Genus: %{customdata[8]}<br>Species: %{customdata[9]}<br>EC Number: %{customdata[10]}<br>Mol Weight: %{customdata[11]}<br>Taxonomy ID: %{customdata[12]}<extra></extra>",
         "marker": {
          "color": "rgb(90, 198, 100)",
          "size": 6,
          "symbol": "circle"
         },
         "mode": "markers",
         "text": "methionine adenosyltransferase",
         "type": "scatter3d",
         "x": [
          -0.6542358403398179
         ],
         "y": [
          -0.6558431159131963
         ],
         "z": [
          -0.25175675412504556
         ]
        }
       ],
       "layout": {
        "hovermode": "closest",
        "margin": {
         "b": 0,
         "l": 0,
         "r": 0,
         "t": 0
        },
        "plot_bgcolor": "white",
        "scene": {
         "xaxis": {
          "visible": false
         },
         "yaxis": {
          "visible": false
         },
         "zaxis": {
          "visible": false
         }
        },
        "showlegend": false,
        "template": {
         "data": {
          "bar": [
           {
            "error_x": {
             "color": "#2a3f5f"
            },
            "error_y": {
             "color": "#2a3f5f"
            },
            "marker": {
             "line": {
              "color": "#E5ECF6",
              "width": 0.5
             },
             "pattern": {
              "fillmode": "overlay",
              "size": 10,
              "solidity": 0.2
             }
            },
            "type": "bar"
           }
          ],
          "barpolar": [
           {
            "marker": {
             "line": {
              "color": "#E5ECF6",
              "width": 0.5
             },
             "pattern": {
              "fillmode": "overlay",
              "size": 10,
              "solidity": 0.2
             }
            },
            "type": "barpolar"
           }
          ],
          "carpet": [
           {
            "aaxis": {
             "endlinecolor": "#2a3f5f",
             "gridcolor": "white",
             "linecolor": "white",
             "minorgridcolor": "white",
             "startlinecolor": "#2a3f5f"
            },
            "baxis": {
             "endlinecolor": "#2a3f5f",
             "gridcolor": "white",
             "linecolor": "white",
             "minorgridcolor": "white",
             "startlinecolor": "#2a3f5f"
            },
            "type": "carpet"
           }
          ],
          "choropleth": [
           {
            "colorbar": {
             "outlinewidth": 0,
             "ticks": ""
            },
            "type": "choropleth"
           }
          ],
          "contour": [
           {
            "colorbar": {
             "outlinewidth": 0,
             "ticks": ""
            },
            "colorscale": [
             [
              0,
              "#0d0887"
             ],
             [
              0.1111111111111111,
              "#46039f"
             ],
             [
              0.2222222222222222,
              "#7201a8"
             ],
             [
              0.3333333333333333,
              "#9c179e"
             ],
             [
              0.4444444444444444,
              "#bd3786"
             ],
             [
              0.5555555555555556,
              "#d8576b"
             ],
             [
              0.6666666666666666,
              "#ed7953"
             ],
             [
              0.7777777777777778,
              "#fb9f3a"
             ],
             [
              0.8888888888888888,
              "#fdca26"
             ],
             [
              1,
              "#f0f921"
             ]
            ],
            "type": "contour"
           }
          ],
          "contourcarpet": [
           {
            "colorbar": {
             "outlinewidth": 0,
             "ticks": ""
            },
            "type": "contourcarpet"
           }
          ],
          "heatmap": [
           {
            "colorbar": {
             "outlinewidth": 0,
             "ticks": ""
            },
            "colorscale": [
             [
              0,
              "#0d0887"
             ],
             [
              0.1111111111111111,
              "#46039f"
             ],
             [
              0.2222222222222222,
              "#7201a8"
             ],
             [
              0.3333333333333333,
              "#9c179e"
             ],
             [
              0.4444444444444444,
              "#bd3786"
             ],
             [
              0.5555555555555556,
              "#d8576b"
             ],
             [
              0.6666666666666666,
              "#ed7953"
             ],
             [
              0.7777777777777778,
              "#fb9f3a"
             ],
             [
              0.8888888888888888,
              "#fdca26"
             ],
             [
              1,
              "#f0f921"
             ]
            ],
            "type": "heatmap"
           }
          ],
          "heatmapgl": [
           {
            "colorbar": {
             "outlinewidth": 0,
             "ticks": ""
            },
            "colorscale": [
             [
              0,
              "#0d0887"
             ],
             [
              0.1111111111111111,
              "#46039f"
             ],
             [
              0.2222222222222222,
              "#7201a8"
             ],
             [
              0.3333333333333333,
              "#9c179e"
             ],
             [
              0.4444444444444444,
              "#bd3786"
             ],
             [
              0.5555555555555556,
              "#d8576b"
             ],
             [
              0.6666666666666666,
              "#ed7953"
             ],
             [
              0.7777777777777778,
              "#fb9f3a"
             ],
             [
              0.8888888888888888,
              "#fdca26"
             ],
             [
              1,
              "#f0f921"
             ]
            ],
            "type": "heatmapgl"
           }
          ],
          "histogram": [
           {
            "marker": {
             "pattern": {
              "fillmode": "overlay",
              "size": 10,
              "solidity": 0.2
             }
            },
            "type": "histogram"
           }
          ],
          "histogram2d": [
           {
            "colorbar": {
             "outlinewidth": 0,
             "ticks": ""
            },
            "colorscale": [
             [
              0,
              "#0d0887"
             ],
             [
              0.1111111111111111,
              "#46039f"
             ],
             [
              0.2222222222222222,
              "#7201a8"
             ],
             [
              0.3333333333333333,
              "#9c179e"
             ],
             [
              0.4444444444444444,
              "#bd3786"
             ],
             [
              0.5555555555555556,
              "#d8576b"
             ],
             [
              0.6666666666666666,
              "#ed7953"
             ],
             [
              0.7777777777777778,
              "#fb9f3a"
             ],
             [
              0.8888888888888888,
              "#fdca26"
             ],
             [
              1,
              "#f0f921"
             ]
            ],
            "type": "histogram2d"
           }
          ],
          "histogram2dcontour": [
           {
            "colorbar": {
             "outlinewidth": 0,
             "ticks": ""
            },
            "colorscale": [
             [
              0,
              "#0d0887"
             ],
             [
              0.1111111111111111,
              "#46039f"
             ],
             [
              0.2222222222222222,
              "#7201a8"
             ],
             [
              0.3333333333333333,
              "#9c179e"
             ],
             [
              0.4444444444444444,
              "#bd3786"
             ],
             [
              0.5555555555555556,
              "#d8576b"
             ],
             [
              0.6666666666666666,
              "#ed7953"
             ],
             [
              0.7777777777777778,
              "#fb9f3a"
             ],
             [
              0.8888888888888888,
              "#fdca26"
             ],
             [
              1,
              "#f0f921"
             ]
            ],
            "type": "histogram2dcontour"
           }
          ],
          "mesh3d": [
           {
            "colorbar": {
             "outlinewidth": 0,
             "ticks": ""
            },
            "type": "mesh3d"
           }
          ],
          "parcoords": [
           {
            "line": {
             "colorbar": {
              "outlinewidth": 0,
              "ticks": ""
             }
            },
            "type": "parcoords"
           }
          ],
          "pie": [
           {
            "automargin": true,
            "type": "pie"
           }
          ],
          "scatter": [
           {
            "fillpattern": {
             "fillmode": "overlay",
             "size": 10,
             "solidity": 0.2
            },
            "type": "scatter"
           }
          ],
          "scatter3d": [
           {
            "line": {
             "colorbar": {
              "outlinewidth": 0,
              "ticks": ""
             }
            },
            "marker": {
             "colorbar": {
              "outlinewidth": 0,
              "ticks": ""
             }
            },
            "type": "scatter3d"
           }
          ],
          "scattercarpet": [
           {
            "marker": {
             "colorbar": {
              "outlinewidth": 0,
              "ticks": ""
             }
            },
            "type": "scattercarpet"
           }
          ],
          "scattergeo": [
           {
            "marker": {
             "colorbar": {
              "outlinewidth": 0,
              "ticks": ""
             }
            },
            "type": "scattergeo"
           }
          ],
          "scattergl": [
           {
            "marker": {
             "colorbar": {
              "outlinewidth": 0,
              "ticks": ""
             }
            },
            "type": "scattergl"
           }
          ],
          "scattermapbox": [
           {
            "marker": {
             "colorbar": {
              "outlinewidth": 0,
              "ticks": ""
             }
            },
            "type": "scattermapbox"
           }
          ],
          "scatterpolar": [
           {
            "marker": {
             "colorbar": {
              "outlinewidth": 0,
              "ticks": ""
             }
            },
            "type": "scatterpolar"
           }
          ],
          "scatterpolargl": [
           {
            "marker": {
             "colorbar": {
              "outlinewidth": 0,
              "ticks": ""
             }
            },
            "type": "scatterpolargl"
           }
          ],
          "scatterternary": [
           {
            "marker": {
             "colorbar": {
              "outlinewidth": 0,
              "ticks": ""
             }
            },
            "type": "scatterternary"
           }
          ],
          "surface": [
           {
            "colorbar": {
             "outlinewidth": 0,
             "ticks": ""
            },
            "colorscale": [
             [
              0,
              "#0d0887"
             ],
             [
              0.1111111111111111,
              "#46039f"
             ],
             [
              0.2222222222222222,
              "#7201a8"
             ],
             [
              0.3333333333333333,
              "#9c179e"
             ],
             [
              0.4444444444444444,
              "#bd3786"
             ],
             [
              0.5555555555555556,
              "#d8576b"
             ],
             [
              0.6666666666666666,
              "#ed7953"
             ],
             [
              0.7777777777777778,
              "#fb9f3a"
             ],
             [
              0.8888888888888888,
              "#fdca26"
             ],
             [
              1,
              "#f0f921"
             ]
            ],
            "type": "surface"
           }
          ],
          "table": [
           {
            "cells": {
             "fill": {
              "color": "#EBF0F8"
             },
             "line": {
              "color": "white"
             }
            },
            "header": {
             "fill": {
              "color": "#C8D4E3"
             },
             "line": {
              "color": "white"
             }
            },
            "type": "table"
           }
          ]
         },
         "layout": {
          "annotationdefaults": {
           "arrowcolor": "#2a3f5f",
           "arrowhead": 0,
           "arrowwidth": 1
          },
          "autotypenumbers": "strict",
          "coloraxis": {
           "colorbar": {
            "outlinewidth": 0,
            "ticks": ""
           }
          },
          "colorscale": {
           "diverging": [
            [
             0,
             "#8e0152"
            ],
            [
             0.1,
             "#c51b7d"
            ],
            [
             0.2,
             "#de77ae"
            ],
            [
             0.3,
             "#f1b6da"
            ],
            [
             0.4,
             "#fde0ef"
            ],
            [
             0.5,
             "#f7f7f7"
            ],
            [
             0.6,
             "#e6f5d0"
            ],
            [
             0.7,
             "#b8e186"
            ],
            [
             0.8,
             "#7fbc41"
            ],
            [
             0.9,
             "#4d9221"
            ],
            [
             1,
             "#276419"
            ]
           ],
           "sequential": [
            [
             0,
             "#0d0887"
            ],
            [
             0.1111111111111111,
             "#46039f"
            ],
            [
             0.2222222222222222,
             "#7201a8"
            ],
            [
             0.3333333333333333,
             "#9c179e"
            ],
            [
             0.4444444444444444,
             "#bd3786"
            ],
            [
             0.5555555555555556,
             "#d8576b"
            ],
            [
             0.6666666666666666,
             "#ed7953"
            ],
            [
             0.7777777777777778,
             "#fb9f3a"
            ],
            [
             0.8888888888888888,
             "#fdca26"
            ],
            [
             1,
             "#f0f921"
            ]
           ],
           "sequentialminus": [
            [
             0,
             "#0d0887"
            ],
            [
             0.1111111111111111,
             "#46039f"
            ],
            [
             0.2222222222222222,
             "#7201a8"
            ],
            [
             0.3333333333333333,
             "#9c179e"
            ],
            [
             0.4444444444444444,
             "#bd3786"
            ],
            [
             0.5555555555555556,
             "#d8576b"
            ],
            [
             0.6666666666666666,
             "#ed7953"
            ],
            [
             0.7777777777777778,
             "#fb9f3a"
            ],
            [
             0.8888888888888888,
             "#fdca26"
            ],
            [
             1,
             "#f0f921"
            ]
           ]
          },
          "colorway": [
           "#636efa",
           "#EF553B",
           "#00cc96",
           "#ab63fa",
           "#FFA15A",
           "#19d3f3",
           "#FF6692",
           "#B6E880",
           "#FF97FF",
           "#FECB52"
          ],
          "font": {
           "color": "#2a3f5f"
          },
          "geo": {
           "bgcolor": "white",
           "lakecolor": "white",
           "landcolor": "#E5ECF6",
           "showlakes": true,
           "showland": true,
           "subunitcolor": "white"
          },
          "hoverlabel": {
           "align": "left"
          },
          "hovermode": "closest",
          "mapbox": {
           "style": "light"
          },
          "paper_bgcolor": "white",
          "plot_bgcolor": "#E5ECF6",
          "polar": {
           "angularaxis": {
            "gridcolor": "white",
            "linecolor": "white",
            "ticks": ""
           },
           "bgcolor": "#E5ECF6",
           "radialaxis": {
            "gridcolor": "white",
            "linecolor": "white",
            "ticks": ""
           }
          },
          "scene": {
           "xaxis": {
            "backgroundcolor": "#E5ECF6",
            "gridcolor": "white",
            "gridwidth": 2,
            "linecolor": "white",
            "showbackground": true,
            "ticks": "",
            "zerolinecolor": "white"
           },
           "yaxis": {
            "backgroundcolor": "#E5ECF6",
            "gridcolor": "white",
            "gridwidth": 2,
            "linecolor": "white",
            "showbackground": true,
            "ticks": "",
            "zerolinecolor": "white"
           },
           "zaxis": {
            "backgroundcolor": "#E5ECF6",
            "gridcolor": "white",
            "gridwidth": 2,
            "linecolor": "white",
            "showbackground": true,
            "ticks": "",
            "zerolinecolor": "white"
           }
          },
          "shapedefaults": {
           "line": {
            "color": "#2a3f5f"
           }
          },
          "ternary": {
           "aaxis": {
            "gridcolor": "white",
            "linecolor": "white",
            "ticks": ""
           },
           "baxis": {
            "gridcolor": "white",
            "linecolor": "white",
            "ticks": ""
           },
           "bgcolor": "#E5ECF6",
           "caxis": {
            "gridcolor": "white",
            "linecolor": "white",
            "ticks": ""
           }
          },
          "title": {
           "x": 0.05
          },
          "xaxis": {
           "automargin": true,
           "gridcolor": "white",
           "linecolor": "white",
           "ticks": "",
           "title": {
            "standoff": 15
           },
           "zerolinecolor": "white",
           "zerolinewidth": 2
          },
          "yaxis": {
           "automargin": true,
           "gridcolor": "white",
           "linecolor": "white",
           "ticks": "",
           "title": {
            "standoff": 15
           },
           "zerolinecolor": "white",
           "zerolinewidth": 2
          }
         }
        },
        "xaxis": {
         "visible": false
        },
        "yaxis": {
         "visible": false
        }
       }
      }
     },
     "metadata": {},
     "output_type": "display_data"
    }
   ],
   "source": [
    "n = SequenceNetwork(\n",
    "    sequences=blast_results,\n",
    "    pairwise_alignments=multi_parwise_alignments,\n",
    "    threshold=0.9,\n",
    "    weight=\"identity\",\n",
    "    dimensions=3,\n",
    "    color=\"taxonomy_id\",\n",
    ")\n",
    "n.add_target(metTK)\n",
    "n.visualize()"
   ]
  }
 ],
 "metadata": {
  "kernelspec": {
   "display_name": "pye",
   "language": "python",
   "name": "python3"
  },
  "language_info": {
   "codemirror_mode": {
    "name": "ipython",
    "version": 3
   },
   "file_extension": ".py",
   "mimetype": "text/x-python",
   "name": "python",
   "nbconvert_exporter": "python",
   "pygments_lexer": "ipython3",
   "version": "3.10.13"
  }
 },
 "nbformat": 4,
 "nbformat_minor": 2
}
