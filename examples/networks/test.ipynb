{
 "cells": [
  {
   "cell_type": "markdown",
   "metadata": {},
   "source": [
    "# Network Visualization"
   ]
  },
  {
   "cell_type": "code",
   "execution_count": 13,
   "metadata": {},
   "outputs": [],
   "source": [
    "%reload_ext autoreload\n",
    "%autoreload 2\n",
    "from pyeed.core import ProteinInfo, Alignment\n",
    "from pyeed.aligners import PairwiseAligner\n",
    "from pyeed.network import SequenceNetwork"
   ]
  },
  {
   "cell_type": "code",
   "execution_count": 14,
   "metadata": {},
   "outputs": [
    {
     "name": "stderr",
     "output_type": "stream",
     "text": [
      "⬇️ Fetching taxonomy data: 100%|██████████| 1/1 [00:00<00:00,  1.26it/s]\n"
     ]
    },
    {
     "data": {
      "text/html": [
       "<pre style=\"white-space:pre;overflow-x:auto;line-height:normal;font-family:Menlo,'DejaVu Sans Mono',consolas,'Courier New',monospace\"><span style=\"color: #800080; text-decoration-color: #800080; font-weight: bold\">ProteinInfo</span><span style=\"font-weight: bold\">(</span>\n",
       "    <span style=\"color: #808000; text-decoration-color: #808000\">id</span>=<span style=\"color: #008000; text-decoration-color: #008000\">'proteininfo0'</span>,\n",
       "    <span style=\"color: #808000; text-decoration-color: #808000\">source_id</span>=<span style=\"color: #008000; text-decoration-color: #008000\">'WP_011249500.1'</span>,\n",
       "    <span style=\"color: #808000; text-decoration-color: #808000\">name</span>=<span style=\"color: #008000; text-decoration-color: #008000\">'methionine adenosyltransferase'</span>,\n",
       "    <span style=\"color: #808000; text-decoration-color: #808000\">sequence</span>=<span style=\"color: #008000; text-decoration-color: #008000\">'MAGKVRNIVVEELVRTPVEMQKVELVERKGIGHPDSIADGIAEAVSRALSREYVKRYGIILHHNTDQVEVVGGRAYPQFGGGEVIKPIYILLSGRAVEMVD</span>\n",
       "<span style=\"color: #008000; text-decoration-color: #008000\">REFFPVHEIALKAAKDYLRKAVRHLDLEHHVIIDSRIGQGSVDLVGVFNKAKKNPIPLANDTSFGVGYAPLSETEKIVLETEKYLNSDEFKKKYPAVGEDIKVMGLRKGDEIDLT</span>\n",
       "<span style=\"color: #008000; text-decoration-color: #008000\">IAAAIVDSEVDNPDDYMAVKEAIYEAAKGIVESHTERPTNIYVNTADDPKEGIYYITVTGTSAEAGDDGSVGRGNRVNGLITPNRHMSMEAAAGKNPVSHVGKIYNILSMLIAND</span>\n",
       "<span style=\"color: #008000; text-decoration-color: #008000\">IAEQVEGVEEVYVRILSQIGKPIDEPLVASVQIIPKKGYSIDVLQKPAYEIADEWLANITKIQKMILEDKVNVF'</span>,\n",
       "    <span style=\"color: #808000; text-decoration-color: #808000\">organism</span>=<span style=\"color: #800080; text-decoration-color: #800080; font-weight: bold\">Organism</span><span style=\"font-weight: bold\">(</span>\n",
       "        <span style=\"color: #808000; text-decoration-color: #808000\">id</span>=<span style=\"color: #008000; text-decoration-color: #008000\">'organism1'</span>,\n",
       "        <span style=\"color: #808000; text-decoration-color: #808000\">name</span>=<span style=\"color: #008000; text-decoration-color: #008000\">'Thermococcus kodakarensis'</span>,\n",
       "        <span style=\"color: #808000; text-decoration-color: #808000\">taxonomy_id</span>=<span style=\"color: #008000; text-decoration-color: #008000\">'311400'</span>,\n",
       "        <span style=\"color: #808000; text-decoration-color: #808000\">domain</span>=<span style=\"color: #008000; text-decoration-color: #008000\">'Archaea'</span>,\n",
       "        <span style=\"color: #808000; text-decoration-color: #808000\">kingdom</span>=<span style=\"color: #800080; text-decoration-color: #800080; font-style: italic\">None</span>,\n",
       "        <span style=\"color: #808000; text-decoration-color: #808000\">phylum</span>=<span style=\"color: #008000; text-decoration-color: #008000\">'Euryarchaeota'</span>,\n",
       "        <span style=\"color: #808000; text-decoration-color: #808000\">tax_class</span>=<span style=\"color: #008000; text-decoration-color: #008000\">'Thermococci'</span>,\n",
       "        <span style=\"color: #808000; text-decoration-color: #808000\">order</span>=<span style=\"color: #008000; text-decoration-color: #008000\">'Thermococcales'</span>,\n",
       "        <span style=\"color: #808000; text-decoration-color: #808000\">family</span>=<span style=\"color: #008000; text-decoration-color: #008000\">'Thermococcaceae'</span>,\n",
       "        <span style=\"color: #808000; text-decoration-color: #808000\">genus</span>=<span style=\"color: #008000; text-decoration-color: #008000\">'Thermococcus'</span>,\n",
       "        <span style=\"color: #808000; text-decoration-color: #808000\">species</span>=<span style=\"color: #008000; text-decoration-color: #008000\">'Thermococcus kodakarensis'</span>\n",
       "    <span style=\"font-weight: bold\">)</span>,\n",
       "    <span style=\"color: #808000; text-decoration-color: #808000\">citation</span>=<span style=\"color: #800080; text-decoration-color: #800080; font-weight: bold\">Citation</span><span style=\"font-weight: bold\">(</span><span style=\"color: #808000; text-decoration-color: #808000\">id</span>=<span style=\"color: #008000; text-decoration-color: #008000\">'citation0'</span>, <span style=\"color: #808000; text-decoration-color: #808000\">doi</span>=<span style=\"color: #800080; text-decoration-color: #800080; font-style: italic\">None</span>, <span style=\"color: #808000; text-decoration-color: #808000\">pubmed_id</span>=<span style=\"color: #800080; text-decoration-color: #800080; font-style: italic\">None</span>, <span style=\"color: #808000; text-decoration-color: #808000\">medline_id</span>=<span style=\"color: #800080; text-decoration-color: #800080; font-style: italic\">None</span>, <span style=\"color: #808000; text-decoration-color: #808000\">year</span>=<span style=\"color: #800080; text-decoration-color: #800080; font-style: italic\">None</span>, <span style=\"color: #808000; text-decoration-color: #808000\">authors</span>=<span style=\"font-weight: bold\">[])</span>,\n",
       "    <span style=\"color: #808000; text-decoration-color: #808000\">family_name</span>=<span style=\"color: #800080; text-decoration-color: #800080; font-style: italic\">None</span>,\n",
       "    <span style=\"color: #808000; text-decoration-color: #808000\">regions</span>=<span style=\"font-weight: bold\">[</span>\n",
       "        <span style=\"color: #800080; text-decoration-color: #800080; font-weight: bold\">ProteinRegion</span><span style=\"font-weight: bold\">(</span>\n",
       "            <span style=\"color: #808000; text-decoration-color: #808000\">id</span>=<span style=\"color: #008000; text-decoration-color: #008000\">'proteinregion0'</span>,\n",
       "            <span style=\"color: #808000; text-decoration-color: #808000\">name</span>=<span style=\"color: #008000; text-decoration-color: #008000\">'PRK04439'</span>,\n",
       "            <span style=\"color: #808000; text-decoration-color: #808000\">spans</span>=<span style=\"font-weight: bold\">[</span><span style=\"color: #800080; text-decoration-color: #800080; font-weight: bold\">Span</span><span style=\"font-weight: bold\">(</span><span style=\"color: #808000; text-decoration-color: #808000\">id</span>=<span style=\"color: #008000; text-decoration-color: #008000\">'span0'</span>, <span style=\"color: #808000; text-decoration-color: #808000\">start</span>=<span style=\"color: #008080; text-decoration-color: #008080; font-weight: bold\">5</span>, <span style=\"color: #808000; text-decoration-color: #808000\">end</span>=<span style=\"color: #008080; text-decoration-color: #008080; font-weight: bold\">405</span><span style=\"font-weight: bold\">)]</span>,\n",
       "            <span style=\"color: #808000; text-decoration-color: #808000\">note</span>=<span style=\"color: #008000; text-decoration-color: #008000\">'methionine adenosyltransferase'</span>,\n",
       "            <span style=\"color: #808000; text-decoration-color: #808000\">cross_reference</span>=<span style=\"color: #008000; text-decoration-color: #008000\">'CDD:235298'</span>,\n",
       "            <span style=\"color: #808000; text-decoration-color: #808000\">type</span>=<span style=\"color: #800080; text-decoration-color: #800080; font-style: italic\">None</span>\n",
       "        <span style=\"font-weight: bold\">)</span>\n",
       "    <span style=\"font-weight: bold\">]</span>,\n",
       "    <span style=\"color: #808000; text-decoration-color: #808000\">sites</span>=<span style=\"font-weight: bold\">[]</span>,\n",
       "    <span style=\"color: #808000; text-decoration-color: #808000\">coding_sequence_ref</span>=<span style=\"color: #800080; text-decoration-color: #800080; font-weight: bold\">DNARegion</span><span style=\"font-weight: bold\">(</span>\n",
       "        <span style=\"color: #808000; text-decoration-color: #808000\">id</span>=<span style=\"color: #008000; text-decoration-color: #008000\">'dnaregion0'</span>,\n",
       "        <span style=\"color: #808000; text-decoration-color: #808000\">name</span>=<span style=\"color: #800080; text-decoration-color: #800080; font-style: italic\">None</span>,\n",
       "        <span style=\"color: #808000; text-decoration-color: #808000\">spans</span>=<span style=\"font-weight: bold\">[]</span>,\n",
       "        <span style=\"color: #808000; text-decoration-color: #808000\">note</span>=<span style=\"color: #800080; text-decoration-color: #800080; font-style: italic\">None</span>,\n",
       "        <span style=\"color: #808000; text-decoration-color: #808000\">cross_reference</span>=<span style=\"color: #800080; text-decoration-color: #800080; font-style: italic\">None</span>,\n",
       "        <span style=\"color: #808000; text-decoration-color: #808000\">type</span>=<span style=\"color: #800080; text-decoration-color: #800080; font-style: italic\">None</span>\n",
       "    <span style=\"font-weight: bold\">)</span>,\n",
       "    <span style=\"color: #808000; text-decoration-color: #808000\">ec_number</span>=<span style=\"color: #008000; text-decoration-color: #008000\">'2.5.1.6'</span>,\n",
       "    <span style=\"color: #808000; text-decoration-color: #808000\">mol_weight</span>=<span style=\"color: #008080; text-decoration-color: #008080; font-weight: bold\">44484.0</span>,\n",
       "    <span style=\"color: #808000; text-decoration-color: #808000\">substrates</span>=<span style=\"font-weight: bold\">[]</span>\n",
       "<span style=\"font-weight: bold\">)</span>\n",
       "</pre>\n"
      ],
      "text/plain": [
       "\u001b[1;35mProteinInfo\u001b[0m\u001b[1m(\u001b[0m\n",
       "    \u001b[33mid\u001b[0m=\u001b[32m'proteininfo0'\u001b[0m,\n",
       "    \u001b[33msource_id\u001b[0m=\u001b[32m'WP_011249500.1'\u001b[0m,\n",
       "    \u001b[33mname\u001b[0m=\u001b[32m'methionine adenosyltransferase'\u001b[0m,\n",
       "    \u001b[33msequence\u001b[0m=\u001b[32m'MAGKVRNIVVEELVRTPVEMQKVELVERKGIGHPDSIADGIAEAVSRALSREYVKRYGIILHHNTDQVEVVGGRAYPQFGGGEVIKPIYILLSGRAVEMVD\u001b[0m\n",
       "\u001b[32mREFFPVHEIALKAAKDYLRKAVRHLDLEHHVIIDSRIGQGSVDLVGVFNKAKKNPIPLANDTSFGVGYAPLSETEKIVLETEKYLNSDEFKKKYPAVGEDIKVMGLRKGDEIDLT\u001b[0m\n",
       "\u001b[32mIAAAIVDSEVDNPDDYMAVKEAIYEAAKGIVESHTERPTNIYVNTADDPKEGIYYITVTGTSAEAGDDGSVGRGNRVNGLITPNRHMSMEAAAGKNPVSHVGKIYNILSMLIAND\u001b[0m\n",
       "\u001b[32mIAEQVEGVEEVYVRILSQIGKPIDEPLVASVQIIPKKGYSIDVLQKPAYEIADEWLANITKIQKMILEDKVNVF'\u001b[0m,\n",
       "    \u001b[33morganism\u001b[0m=\u001b[1;35mOrganism\u001b[0m\u001b[1m(\u001b[0m\n",
       "        \u001b[33mid\u001b[0m=\u001b[32m'organism1'\u001b[0m,\n",
       "        \u001b[33mname\u001b[0m=\u001b[32m'Thermococcus kodakarensis'\u001b[0m,\n",
       "        \u001b[33mtaxonomy_id\u001b[0m=\u001b[32m'311400'\u001b[0m,\n",
       "        \u001b[33mdomain\u001b[0m=\u001b[32m'Archaea'\u001b[0m,\n",
       "        \u001b[33mkingdom\u001b[0m=\u001b[3;35mNone\u001b[0m,\n",
       "        \u001b[33mphylum\u001b[0m=\u001b[32m'Euryarchaeota'\u001b[0m,\n",
       "        \u001b[33mtax_class\u001b[0m=\u001b[32m'Thermococci'\u001b[0m,\n",
       "        \u001b[33morder\u001b[0m=\u001b[32m'Thermococcales'\u001b[0m,\n",
       "        \u001b[33mfamily\u001b[0m=\u001b[32m'Thermococcaceae'\u001b[0m,\n",
       "        \u001b[33mgenus\u001b[0m=\u001b[32m'Thermococcus'\u001b[0m,\n",
       "        \u001b[33mspecies\u001b[0m=\u001b[32m'Thermococcus kodakarensis'\u001b[0m\n",
       "    \u001b[1m)\u001b[0m,\n",
       "    \u001b[33mcitation\u001b[0m=\u001b[1;35mCitation\u001b[0m\u001b[1m(\u001b[0m\u001b[33mid\u001b[0m=\u001b[32m'citation0'\u001b[0m, \u001b[33mdoi\u001b[0m=\u001b[3;35mNone\u001b[0m, \u001b[33mpubmed_id\u001b[0m=\u001b[3;35mNone\u001b[0m, \u001b[33mmedline_id\u001b[0m=\u001b[3;35mNone\u001b[0m, \u001b[33myear\u001b[0m=\u001b[3;35mNone\u001b[0m, \u001b[33mauthors\u001b[0m=\u001b[1m[\u001b[0m\u001b[1m]\u001b[0m\u001b[1m)\u001b[0m,\n",
       "    \u001b[33mfamily_name\u001b[0m=\u001b[3;35mNone\u001b[0m,\n",
       "    \u001b[33mregions\u001b[0m=\u001b[1m[\u001b[0m\n",
       "        \u001b[1;35mProteinRegion\u001b[0m\u001b[1m(\u001b[0m\n",
       "            \u001b[33mid\u001b[0m=\u001b[32m'proteinregion0'\u001b[0m,\n",
       "            \u001b[33mname\u001b[0m=\u001b[32m'PRK04439'\u001b[0m,\n",
       "            \u001b[33mspans\u001b[0m=\u001b[1m[\u001b[0m\u001b[1;35mSpan\u001b[0m\u001b[1m(\u001b[0m\u001b[33mid\u001b[0m=\u001b[32m'span0'\u001b[0m, \u001b[33mstart\u001b[0m=\u001b[1;36m5\u001b[0m, \u001b[33mend\u001b[0m=\u001b[1;36m405\u001b[0m\u001b[1m)\u001b[0m\u001b[1m]\u001b[0m,\n",
       "            \u001b[33mnote\u001b[0m=\u001b[32m'methionine adenosyltransferase'\u001b[0m,\n",
       "            \u001b[33mcross_reference\u001b[0m=\u001b[32m'CDD:235298'\u001b[0m,\n",
       "            \u001b[33mtype\u001b[0m=\u001b[3;35mNone\u001b[0m\n",
       "        \u001b[1m)\u001b[0m\n",
       "    \u001b[1m]\u001b[0m,\n",
       "    \u001b[33msites\u001b[0m=\u001b[1m[\u001b[0m\u001b[1m]\u001b[0m,\n",
       "    \u001b[33mcoding_sequence_ref\u001b[0m=\u001b[1;35mDNARegion\u001b[0m\u001b[1m(\u001b[0m\n",
       "        \u001b[33mid\u001b[0m=\u001b[32m'dnaregion0'\u001b[0m,\n",
       "        \u001b[33mname\u001b[0m=\u001b[3;35mNone\u001b[0m,\n",
       "        \u001b[33mspans\u001b[0m=\u001b[1m[\u001b[0m\u001b[1m]\u001b[0m,\n",
       "        \u001b[33mnote\u001b[0m=\u001b[3;35mNone\u001b[0m,\n",
       "        \u001b[33mcross_reference\u001b[0m=\u001b[3;35mNone\u001b[0m,\n",
       "        \u001b[33mtype\u001b[0m=\u001b[3;35mNone\u001b[0m\n",
       "    \u001b[1m)\u001b[0m,\n",
       "    \u001b[33mec_number\u001b[0m=\u001b[32m'2.5.1.6'\u001b[0m,\n",
       "    \u001b[33mmol_weight\u001b[0m=\u001b[1;36m44484\u001b[0m\u001b[1;36m.0\u001b[0m,\n",
       "    \u001b[33msubstrates\u001b[0m=\u001b[1m[\u001b[0m\u001b[1m]\u001b[0m\n",
       "\u001b[1m)\u001b[0m\n"
      ]
     },
     "metadata": {},
     "output_type": "display_data"
    }
   ],
   "source": [
    "# Get a query sequence from NCBI\n",
    "metTK = ProteinInfo.from_ncbi(\"WP_011249500.1\")\n",
    "print(metTK)"
   ]
  },
  {
   "cell_type": "code",
   "execution_count": null,
   "metadata": {},
   "outputs": [],
   "source": [
    "# Run local blastp search\n",
    "blast_results = metTK.blastp(\n",
    "    db_path=\"/Users/max/Documents/GitHub/blast-db/data/source\",\n",
    "    n_hits=200,\n",
    ")"
   ]
  },
  {
   "cell_type": "code",
   "execution_count": null,
   "metadata": {},
   "outputs": [],
   "source": [
    "for r in blast_results:\n",
    "    print(r.organism)"
   ]
  },
  {
   "cell_type": "markdown",
   "metadata": {},
   "source": [
    "## Multi Pairwise Alignment"
   ]
  },
  {
   "cell_type": "code",
   "execution_count": null,
   "metadata": {},
   "outputs": [],
   "source": [
    "# Create and run alignment\n",
    "multi_parwise_alignments = Alignment.from_sequences(\n",
    "    blast_results, aligner=PairwiseAligner\n",
    ")"
   ]
  },
  {
   "cell_type": "code",
   "execution_count": null,
   "metadata": {},
   "outputs": [],
   "source": [
    "n = SequenceNetwork(\n",
    "    sequences=blast_results,\n",
    "    pairwise_alignments=multi_parwise_alignments,\n",
    "    threshold=0.9,\n",
    "    weight=\"identity\",\n",
    "    dimensions=3,\n",
    "    color=\"taxonomy_id\",\n",
    ")\n",
    "n.add_target(metTK)\n",
    "n.visualize()"
   ]
  },
  {
   "cell_type": "code",
   "execution_count": 1,
   "metadata": {},
   "outputs": [],
   "source": [
    "from rich import print\n",
    "from rich.progress import Progress"
   ]
  },
  {
   "cell_type": "code",
   "execution_count": 2,
   "metadata": {},
   "outputs": [],
   "source": [
    "import numpy as np\n",
    "import time\n",
    "\n",
    "\n",
    "li = np.arange(9).reshape(3, 3)"
   ]
  },
  {
   "cell_type": "code",
   "execution_count": 5,
   "metadata": {},
   "outputs": [
    {
     "data": {
      "text/plain": [
       "9"
      ]
     },
     "execution_count": 5,
     "metadata": {},
     "output_type": "execute_result"
    }
   ],
   "source": [
    "li.size"
   ]
  },
  {
   "cell_type": "code",
   "execution_count": 11,
   "metadata": {},
   "outputs": [
    {
     "data": {
      "text/html": [
       "<pre style=\"white-space:pre;overflow-x:auto;line-height:normal;font-family:Menlo,'DejaVu Sans Mono',consolas,'Courier New',monospace\">⬇️ Downloading<span style=\"color: #808000; text-decoration-color: #808000\">...</span>\n",
       "</pre>\n"
      ],
      "text/plain": [
       "⬇️ Downloading\u001b[33m...\u001b[0m\n"
      ]
     },
     "metadata": {},
     "output_type": "display_data"
    },
    {
     "data": {
      "text/html": [
       "<pre style=\"white-space:pre;overflow-x:auto;line-height:normal;font-family:Menlo,'DejaVu Sans Mono',consolas,'Courier New',monospace\"></pre>\n"
      ],
      "text/plain": [
       "\u001b[?25l"
      ]
     },
     "metadata": {},
     "output_type": "display_data"
    },
    {
     "data": {
      "application/vnd.jupyter.widget-view+json": {
       "model_id": "fd74d307eb604b4eac80933c2bfddfce",
       "version_major": 2,
       "version_minor": 0
      },
      "text/plain": [
       "Output()"
      ]
     },
     "metadata": {},
     "output_type": "display_data"
    },
    {
     "data": {
      "text/html": [
       "<pre style=\"white-space:pre;overflow-x:auto;line-height:normal;font-family:Menlo,'DejaVu Sans Mono',consolas,'Courier New',monospace\">\n",
       "</pre>\n"
      ],
      "text/plain": [
       "\n",
       "\u001b[?25h\r\u001b[1A\u001b[2K"
      ]
     },
     "metadata": {},
     "output_type": "display_data"
    },
    {
     "data": {
      "text/html": [
       "<pre style=\"white-space:pre;overflow-x:auto;line-height:normal;font-family:Menlo,'DejaVu Sans Mono',consolas,'Courier New',monospace\"></pre>\n"
      ],
      "text/plain": [
       "\u001b[?25l"
      ]
     },
     "metadata": {},
     "output_type": "display_data"
    },
    {
     "data": {
      "application/vnd.jupyter.widget-view+json": {
       "model_id": "6e334353f3084fc79ae8aaf287bd7191",
       "version_major": 2,
       "version_minor": 0
      },
      "text/plain": [
       "Output()"
      ]
     },
     "metadata": {},
     "output_type": "display_data"
    },
    {
     "data": {
      "text/html": [
       "<pre style=\"white-space:pre;overflow-x:auto;line-height:normal;font-family:Menlo,'DejaVu Sans Mono',consolas,'Courier New',monospace\">\n",
       "</pre>\n"
      ],
      "text/plain": [
       "\n",
       "\u001b[?25h\r\u001b[1A\u001b[2K"
      ]
     },
     "metadata": {},
     "output_type": "display_data"
    },
    {
     "data": {
      "text/html": [
       "<pre style=\"white-space:pre;overflow-x:auto;line-height:normal;font-family:Menlo,'DejaVu Sans Mono',consolas,'Courier New',monospace\"></pre>\n"
      ],
      "text/plain": [
       "\u001b[?25l"
      ]
     },
     "metadata": {},
     "output_type": "display_data"
    },
    {
     "data": {
      "application/vnd.jupyter.widget-view+json": {
       "model_id": "01f8e847f08f45ebb620a71d3e5fbfb1",
       "version_major": 2,
       "version_minor": 0
      },
      "text/plain": [
       "Output()"
      ]
     },
     "metadata": {},
     "output_type": "display_data"
    },
    {
     "data": {
      "text/html": [
       "<pre style=\"white-space:pre;overflow-x:auto;line-height:normal;font-family:Menlo,'DejaVu Sans Mono',consolas,'Courier New',monospace\">\n",
       "</pre>\n"
      ],
      "text/plain": [
       "\n",
       "\u001b[?25h\r\u001b[1A\u001b[2K"
      ]
     },
     "metadata": {},
     "output_type": "display_data"
    },
    {
     "data": {
      "text/html": [
       "<pre style=\"white-space:pre;overflow-x:auto;line-height:normal;font-family:Menlo,'DejaVu Sans Mono',consolas,'Courier New',monospace\">🎉 Done!\n",
       "</pre>\n"
      ],
      "text/plain": [
       "🎉 Done!\n"
      ]
     },
     "metadata": {},
     "output_type": "display_data"
    }
   ],
   "source": [
    "print(\"⬇️ Downloading...\")\n",
    "\n",
    "with Progress(transient=True) as progress:\n",
    "    task = progress.add_task(\"Working\", total=li.size)\n",
    "    for subset in li:\n",
    "        for l in subset:\n",
    "            progress.update(task, advance=1)\n",
    "            time.sleep(0.5)\n",
    "\n",
    "with Progress(transient=True) as progress:\n",
    "    task = progress.add_task(\"Working\", total=li.size)\n",
    "    for subset in li:\n",
    "        for l in subset:\n",
    "            progress.update(task, advance=1)\n",
    "            time.sleep(0.5)\n",
    "\n",
    "with Progress(transient=True) as progress:\n",
    "    task = progress.add_task(\"Working\", total=li.size)\n",
    "    for subset in li:\n",
    "        for l in subset:\n",
    "            progress.update(task, advance=1)\n",
    "            time.sleep(0.5)\n",
    "\n",
    "print(\"🎉 Done!\")"
   ]
  }
 ],
 "metadata": {
  "kernelspec": {
   "display_name": "pye",
   "language": "python",
   "name": "python3"
  },
  "language_info": {
   "codemirror_mode": {
    "name": "ipython",
    "version": 3
   },
   "file_extension": ".py",
   "mimetype": "text/x-python",
   "name": "python",
   "nbconvert_exporter": "python",
   "pygments_lexer": "ipython3",
   "version": "3.10.13"
  }
 },
 "nbformat": 4,
 "nbformat_minor": 2
}
