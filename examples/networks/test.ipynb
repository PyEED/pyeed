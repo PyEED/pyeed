{
 "cells": [
  {
   "cell_type": "markdown",
   "metadata": {},
   "source": [
    "# Network Visualization"
   ]
  },
  {
   "cell_type": "code",
   "execution_count": 1,
   "metadata": {},
   "outputs": [],
   "source": [
    "%reload_ext autoreload\n",
    "%autoreload 2\n",
    "from pyeed.core import ProteinInfo, Alignment\n",
    "from pyeed.aligners import PairwiseAligner\n",
    "from pyeed.network import SequenceNetwork"
   ]
  },
  {
   "cell_type": "code",
   "execution_count": 4,
   "metadata": {},
   "outputs": [
    {
     "name": "stderr",
     "output_type": "stream",
     "text": [
      "f⬇️ Fetching 2 protein entries for NCBI...: 100%|██████████| 1/1 [00:01<00:00,  1.83s/it]"
     ]
    },
    {
     "name": "stdout",
     "output_type": "stream",
     "text": [
      "2024-03-11 18:17:06,753 - WARNING - ncbiprotein.py:223 - map_sites() - Incomplete site data found for NP_001191.1: {'site_type': ['phosphorylation'], 'note': ['Phosphoserine. /evidence=ECO:0000250|UniProtKB:P12644; propagated from UniProtKB/Swiss-Prot (P12643.1)']}, skipping site\n",
      "2024-03-11 18:17:06,754 - WARNING - ncbiprotein.py:223 - map_sites() - Incomplete site data found for NP_001191.1: {'site_type': ['glycosylation'], 'note': ['N-linked (GlcNAc...) asparagine. /evidence=ECO:0000255; propagated from UniProtKB/Swiss-Prot (P12643.1)']}, skipping site\n",
      "2024-03-11 18:17:06,754 - WARNING - ncbiprotein.py:223 - map_sites() - Incomplete site data found for NP_001191.1: {'site_type': ['glycosylation'], 'note': ['N-linked (GlcNAc...) asparagine. /evidence=ECO:0000255; propagated from UniProtKB/Swiss-Prot (P12643.1)']}, skipping site\n",
      "2024-03-11 18:17:06,755 - WARNING - ncbiprotein.py:223 - map_sites() - Incomplete site data found for NP_001191.1: {'site_type': ['glycosylation'], 'note': ['N-linked (GlcNAc...) asparagine. /evidence=ECO:0000255; propagated from UniProtKB/Swiss-Prot (P12643.1)']}, skipping site\n",
      "2024-03-11 18:17:06,755 - WARNING - ncbiprotein.py:223 - map_sites() - Incomplete site data found for NP_001191.1: {'site_type': ['glycosylation'], 'note': ['N-linked (GlcNAc...) asparagine. /evidence=ECO:0000255; propagated from UniProtKB/Swiss-Prot (P12643.1)']}, skipping site\n",
      "2024-03-11 18:17:06,756 - WARNING - ncbiprotein.py:223 - map_sites() - Incomplete site data found for NP_001191.1: {'site_type': ['glycosylation'], 'note': ['N-linked (GlcNAc...) (high mannose) asparagine. /evidence=ECO:0000269|PubMed:9265423; propagated from UniProtKB/Swiss-Prot (P12643.1)']}, skipping site\n"
     ]
    },
    {
     "name": "stderr",
     "output_type": "stream",
     "text": [
      "\n",
      "f⬇️ Fetching 2 taxonomy entries for NCBI...: 100%|██████████| 1/1 [00:00<00:00,  1.19it/s]\n"
     ]
    },
    {
     "data": {
      "text/plain": [
       "[ProteinInfo(id='proteininfo0', source_id='UCS38941.1', name='TEM1', sequence='MSASEMRAASERVGEERNSLPSVRNQVDIQVGLIGDAQVGKTSLMVKYVQNIFDEEYTQTLGVNFLKRKVSIRSTDIVFSLMDLGGQREFINMLPIATLGSSVIILLFDLTRPETLNSIKEWYRQALGLNDSAIPILVGTKYDLFIDLEEEYQEKVSKTSMKYAQVMDAPLIFCSTAKSINVQKIFKVALAKIFDLTLTIPEINEIGDPLLIYKELGSKKNKSKNSSKPRRRSPVDNENKELVSQPLNYGHTSE', organism=Organism(id='organism3', name='Nakaseomyces glabratus', taxonomy_id='5478', domain='Eukaryota', kingdom='Fungi', phylum='Ascomycota', tax_class='Saccharomycetes', order='Saccharomycetales', family='Saccharomycetaceae', genus='Nakaseomyces', species='Nakaseomyces glabratus'), citation=Citation(id='citation0', doi=None, pubmed_id=None, medline_id=None, year=None, authors=[]), family_name=None, regions=[ProteinRegion(id='proteinregion0', name='Spg1', spans=[Span(id='span0', start=28, end=210)], note='Septum-promoting GTPase (Spg1); cd04128', cross_reference='CDD:206701', type=None)], sites=[Site(id='site0', name='other', type='unannotated', positions=[28], cross_ref='CDD:206701'), Site(id='site1', name='other', type='unannotated', positions=[34], cross_ref='CDD:206701'), Site(id='site2', name='other', type='unannotated', positions=[36, 52, 58, 85, 139, 142, 174], cross_ref='CDD:206701'), Site(id='site3', name='other', type='unannotated', positions=[42, 57], cross_ref='CDD:206701'), Site(id='site4', name='other', type='unannotated', positions=[52, 57], cross_ref='CDD:206701'), Site(id='site5', name='other', type='unannotated', positions=[57, 61, 75, 77], cross_ref='CDD:206701'), Site(id='site6', name='other', type='unannotated', positions=[59], cross_ref='CDD:206701'), Site(id='site7', name='active', type='active', positions=[60, 62, 79, 81, 88, 92, 96, 98], cross_ref='CDD:206701'), Site(id='site8', name='other', type='unannotated', positions=[60, 63, 81, 89, 91, 93], cross_ref='CDD:206701'), Site(id='site9', name='other', type='unannotated', positions=[60], cross_ref='CDD:206701'), Site(id='site10', name='other', type='unannotated', positions=[77], cross_ref='CDD:206701'), Site(id='site11', name='other', type='unannotated', positions=[82], cross_ref='CDD:206701'), Site(id='site12', name='other', type='unannotated', positions=[85, 87], cross_ref='CDD:206701'), Site(id='site13', name='other', type='unannotated', positions=[88], cross_ref='CDD:206701'), Site(id='site14', name='other', type='unannotated', positions=[96], cross_ref='CDD:206701'), Site(id='site15', name='other', type='unannotated', positions=[105], cross_ref='CDD:206701'), Site(id='site16', name='other', type='unannotated', positions=[128], cross_ref='CDD:206701'), Site(id='site17', name='other', type='unannotated', positions=[139], cross_ref='CDD:206701'), Site(id='site18', name='other', type='unannotated', positions=[174], cross_ref='CDD:206701'), Site(id='site19', name='other', type='unannotated', positions=[189], cross_ref='CDD:206701')], coding_sequence_ref=DNARegion(id='CP060154.1', name=None, spans=[Span(id='span1', start=1590335, end=1591099)], note=None, cross_reference=None, type='coding sequence'), ec_number=None, mol_weight=None, substrates=[]),\n",
       " ProteinInfo(id='proteininfo1', source_id='NP_001191.1', name='bone morphogenetic protein 2 preproprotein', sequence='MVAGTRCLLALLLPQVLLGGAAGLVPELGRRKFAAASSGRPSSQPSDEVLSEFELRLLSMFGLKQRPTPSRDAVVPPYMLDLYRRHSGQPGSPAPDHRLERAASRANTVRSFHHEESLEELPETSGKTTRRFFFNLSSIPTEEFITSAELQVFREQMQDALGNNSSFHHRINIYEIIKPATANSKFPVTRLLDTRLVNQNASRWESFDVTPAVMRWTAQGHANHGFVVEVAHLEEKQGVSKRHVRISRSLHQDEHSWSQIRPLLVTFGHDGKGHPLHKREKRQAKHKQRKRLKSSCKRHPLYVDFSDVGWNDWIVAPPGYHAFYCHGECPFPLADHLNSTNHAIVQTLVNSVNSKIPKACCVPTELSAISMLYLDENEKVVLKNYQDMVVEGCGCR', organism=Organism(id='organism2', name='Homo sapiens', taxonomy_id='9606', domain='Eukaryota', kingdom='Metazoa', phylum='Chordata', tax_class='Mammalia', order='Primates', family='Hominidae', genus='Homo', species='Homo sapiens'), citation=Citation(id='citation1', doi=None, pubmed_id=None, medline_id=None, year=None, authors=[]), family_name=None, regions=[ProteinRegion(id='proteinregion1', name='TGFb_propeptide', spans=[Span(id='span2', start=51, end=267)], note='TGF-beta propeptide; pfam00688', cross_reference='CDD:425823', type=None), ProteinRegion(id='proteinregion2', name='TGF_beta_BMP2', spans=[Span(id='span5', start=293, end=396)], note='transforming growth factor beta (TGF-beta) like domain found in bone morphogenetic protein 2 (BMP-2) and similar proteins; cd19390', cross_reference='CDD:381660', type=None)], sites=[Site(id='site20', name='other', type='unannotated', positions=[295, 334, 354, 377], cross_ref='CDD:381660'), Site(id='site21', name='other', type='unannotated', positions=[300, 302, 306, 309, 319, 321, 340, 344, 347, 351, 354, 359, 361, 365, 385, 389, 395], cross_ref='CDD:381660'), Site(id='site22', name='other', type='unannotated', positions=[306, 309, 312, 314, 366, 369, 377, 381, 383, 386, 390], cross_ref='CDD:381660'), Site(id='site23', name='other', type='unannotated', positions=[309, 312, 315, 321, 339, 343, 347, 355, 359, 361, 369, 371, 379, 389, 395], cross_ref='CDD:381660')], coding_sequence_ref=DNARegion(id='NM_001200.4', name=None, spans=[Span(id='span6', start=1198, end=2388)], note=None, cross_reference=None, type='coding sequence'), ec_number=None, mol_weight=42482.0, substrates=[])]"
      ]
     },
     "execution_count": 4,
     "metadata": {},
     "output_type": "execute_result"
    }
   ],
   "source": [
    "ProteinInfo.get_ids([\"UCS38941.1\", \"NP_001191\"])"
   ]
  },
  {
   "cell_type": "code",
   "execution_count": 3,
   "metadata": {},
   "outputs": [
    {
     "name": "stdout",
     "output_type": "stream",
     "text": [
      "<class 'str'>\n",
      "<class 'str'>\n",
      "<class 'str'>\n",
      "<class 'str'>\n",
      "<class 'str'>\n",
      "<class 'str'>\n"
     ]
    }
   ],
   "source": [
    "def _construct_request_string(request_list: list) -> str:\n",
    "    \"\"\"\n",
    "    Constructs a request string from the foreign_id attribute.\n",
    "    \"\"\"\n",
    "    return \",\".join(map(str, request_list))\n",
    "\n",
    "\n",
    "print(type(_construct_request_string([\"1\", \"2\", \"3\"])))\n",
    "print(type(_construct_request_string([1, 2, 3])))\n",
    "print(type(_construct_request_string([1, \"2\", 3])))\n",
    "print(type(_construct_request_string([\"1\"])))\n",
    "print(type(_construct_request_string([1])))\n",
    "print(type(_construct_request_string(\"asd\")))"
   ]
  },
  {
   "cell_type": "code",
   "execution_count": 26,
   "metadata": {},
   "outputs": [
    {
     "data": {
      "text/html": [
       "<pre style=\"white-space:pre;overflow-x:auto;line-height:normal;font-family:Menlo,'DejaVu Sans Mono',consolas,'Courier New',monospace\"><span style=\"color: #800080; text-decoration-color: #800080; font-weight: bold\">dict_keys</span><span style=\"font-weight: bold\">([</span><span style=\"color: #008000; text-decoration-color: #008000\">'GBSeq_locus'</span>, <span style=\"color: #008000; text-decoration-color: #008000\">'GBSeq_length'</span>, <span style=\"color: #008000; text-decoration-color: #008000\">'GBSeq_moltype'</span>, <span style=\"color: #008000; text-decoration-color: #008000\">'GBSeq_topology'</span>, <span style=\"color: #008000; text-decoration-color: #008000\">'GBSeq_division'</span>, <span style=\"color: #008000; text-decoration-color: #008000\">'GBSeq_update-date'</span>,\n",
       "<span style=\"color: #008000; text-decoration-color: #008000\">'GBSeq_create-date'</span>, <span style=\"color: #008000; text-decoration-color: #008000\">'GBSeq_definition'</span>, <span style=\"color: #008000; text-decoration-color: #008000\">'GBSeq_primary-accession'</span>, <span style=\"color: #008000; text-decoration-color: #008000\">'GBSeq_accession-version'</span>, \n",
       "<span style=\"color: #008000; text-decoration-color: #008000\">'GBSeq_other-seqids'</span>, <span style=\"color: #008000; text-decoration-color: #008000\">'GBSeq_keywords'</span>, <span style=\"color: #008000; text-decoration-color: #008000\">'GBSeq_source'</span>, <span style=\"color: #008000; text-decoration-color: #008000\">'GBSeq_organism'</span>, <span style=\"color: #008000; text-decoration-color: #008000\">'GBSeq_taxonomy'</span>, <span style=\"color: #008000; text-decoration-color: #008000\">'GBSeq_references'</span>, \n",
       "<span style=\"color: #008000; text-decoration-color: #008000\">'GBSeq_comment'</span>, <span style=\"color: #008000; text-decoration-color: #008000\">'GBSeq_source-db'</span>, <span style=\"color: #008000; text-decoration-color: #008000\">'GBSeq_feature-table'</span>, <span style=\"color: #008000; text-decoration-color: #008000\">'GBSeq_sequence'</span><span style=\"font-weight: bold\">])</span>\n",
       "</pre>\n"
      ],
      "text/plain": [
       "\u001b[1;35mdict_keys\u001b[0m\u001b[1m(\u001b[0m\u001b[1m[\u001b[0m\u001b[32m'GBSeq_locus'\u001b[0m, \u001b[32m'GBSeq_length'\u001b[0m, \u001b[32m'GBSeq_moltype'\u001b[0m, \u001b[32m'GBSeq_topology'\u001b[0m, \u001b[32m'GBSeq_division'\u001b[0m, \u001b[32m'GBSeq_update-date'\u001b[0m,\n",
       "\u001b[32m'GBSeq_create-date'\u001b[0m, \u001b[32m'GBSeq_definition'\u001b[0m, \u001b[32m'GBSeq_primary-accession'\u001b[0m, \u001b[32m'GBSeq_accession-version'\u001b[0m, \n",
       "\u001b[32m'GBSeq_other-seqids'\u001b[0m, \u001b[32m'GBSeq_keywords'\u001b[0m, \u001b[32m'GBSeq_source'\u001b[0m, \u001b[32m'GBSeq_organism'\u001b[0m, \u001b[32m'GBSeq_taxonomy'\u001b[0m, \u001b[32m'GBSeq_references'\u001b[0m, \n",
       "\u001b[32m'GBSeq_comment'\u001b[0m, \u001b[32m'GBSeq_source-db'\u001b[0m, \u001b[32m'GBSeq_feature-table'\u001b[0m, \u001b[32m'GBSeq_sequence'\u001b[0m\u001b[1m]\u001b[0m\u001b[1m)\u001b[0m\n"
      ]
     },
     "metadata": {},
     "output_type": "display_data"
    }
   ],
   "source": [
    "print(Entrez.read(res)[0].keys())\n",
    "res.close()"
   ]
  },
  {
   "cell_type": "code",
   "execution_count": 2,
   "metadata": {},
   "outputs": [
    {
     "ename": "ImportError",
     "evalue": "cannot import name 'NCBIProteinParser' from 'pyeed.fetchers' (/Users/max/Documents/GitHub/pyeed/pyeed/fetchers/__init__.py)",
     "output_type": "error",
     "traceback": [
      "\u001b[0;31m---------------------------------------------------------------------------\u001b[0m",
      "\u001b[0;31mImportError\u001b[0m                               Traceback (most recent call last)",
      "Cell \u001b[0;32mIn[2], line 1\u001b[0m\n\u001b[0;32m----> 1\u001b[0m \u001b[43mProteinInfo\u001b[49m\u001b[38;5;241;43m.\u001b[39;49m\u001b[43mget_id\u001b[49m\u001b[43m(\u001b[49m\u001b[38;5;124;43m\"\u001b[39;49m\u001b[38;5;124;43mUCS38941.1\u001b[39;49m\u001b[38;5;124;43m\"\u001b[39;49m\u001b[43m)\u001b[49m\n",
      "File \u001b[0;32m~/Documents/GitHub/pyeed/pyeed/core/proteininfo.py:167\u001b[0m, in \u001b[0;36mProteinInfo.get_id\u001b[0;34m(cls, protein_id)\u001b[0m\n\u001b[1;32m    165\u001b[0m \u001b[38;5;129m@classmethod\u001b[39m\n\u001b[1;32m    166\u001b[0m \u001b[38;5;28;01mdef\u001b[39;00m \u001b[38;5;21mget_id\u001b[39m(\u001b[38;5;28mcls\u001b[39m, protein_id: \u001b[38;5;28mstr\u001b[39m) \u001b[38;5;241m-\u001b[39m\u001b[38;5;241m>\u001b[39m \u001b[38;5;124m\"\u001b[39m\u001b[38;5;124mProteinInfo\u001b[39m\u001b[38;5;124m\"\u001b[39m:\n\u001b[0;32m--> 167\u001b[0m     \u001b[38;5;28;01mfrom\u001b[39;00m \u001b[38;5;21;01m.\u001b[39;00m\u001b[38;5;21;01m.\u001b[39;00m\u001b[38;5;21;01mfetchers\u001b[39;00m \u001b[38;5;28;01mimport\u001b[39;00m NCBIProteinParser, NCBITaxonomyParser\n\u001b[1;32m    168\u001b[0m     \u001b[38;5;28;01mfrom\u001b[39;00m \u001b[38;5;21;01m.\u001b[39;00m\u001b[38;5;21;01m.\u001b[39;00m\u001b[38;5;21;01mncbi\u001b[39;00m\u001b[38;5;21;01m.\u001b[39;00m\u001b[38;5;21;01mseq_io\u001b[39;00m \u001b[38;5;28;01mimport\u001b[39;00m get_ncbi_entry, get_ncbi_taxonomy\n\u001b[1;32m    170\u001b[0m \u001b[38;5;250m    \u001b[39m\u001b[38;5;124;03m\"\"\"\u001b[39;00m\n\u001b[1;32m    171\u001b[0m \u001b[38;5;124;03m    This method creates a 'ProteinInfo' object from a given NCBI ID.\u001b[39;00m\n\u001b[1;32m    172\u001b[0m \n\u001b[0;32m   (...)\u001b[0m\n\u001b[1;32m    177\u001b[0m \u001b[38;5;124;03m        ProteinInfo: 'ProteinInfo' with information of the corresponding protein_id.\u001b[39;00m\n\u001b[1;32m    178\u001b[0m \u001b[38;5;124;03m    \"\"\"\u001b[39;00m\n",
      "\u001b[0;31mImportError\u001b[0m: cannot import name 'NCBIProteinParser' from 'pyeed.fetchers' (/Users/max/Documents/GitHub/pyeed/pyeed/fetchers/__init__.py)"
     ]
    }
   ],
   "source": [
    "ProteinInfo.get_id(\"UCS38941.1\")"
   ]
  },
  {
   "cell_type": "code",
   "execution_count": 14,
   "metadata": {},
   "outputs": [
    {
     "name": "stderr",
     "output_type": "stream",
     "text": [
      "⬇️ Fetching taxonomy data: 100%|██████████| 1/1 [00:00<00:00,  1.26it/s]\n"
     ]
    },
    {
     "data": {
      "text/html": [
       "<pre style=\"white-space:pre;overflow-x:auto;line-height:normal;font-family:Menlo,'DejaVu Sans Mono',consolas,'Courier New',monospace\"><span style=\"color: #800080; text-decoration-color: #800080; font-weight: bold\">ProteinInfo</span><span style=\"font-weight: bold\">(</span>\n",
       "    <span style=\"color: #808000; text-decoration-color: #808000\">id</span>=<span style=\"color: #008000; text-decoration-color: #008000\">'proteininfo0'</span>,\n",
       "    <span style=\"color: #808000; text-decoration-color: #808000\">source_id</span>=<span style=\"color: #008000; text-decoration-color: #008000\">'WP_011249500.1'</span>,\n",
       "    <span style=\"color: #808000; text-decoration-color: #808000\">name</span>=<span style=\"color: #008000; text-decoration-color: #008000\">'methionine adenosyltransferase'</span>,\n",
       "    <span style=\"color: #808000; text-decoration-color: #808000\">sequence</span>=<span style=\"color: #008000; text-decoration-color: #008000\">'MAGKVRNIVVEELVRTPVEMQKVELVERKGIGHPDSIADGIAEAVSRALSREYVKRYGIILHHNTDQVEVVGGRAYPQFGGGEVIKPIYILLSGRAVEMVD</span>\n",
       "<span style=\"color: #008000; text-decoration-color: #008000\">REFFPVHEIALKAAKDYLRKAVRHLDLEHHVIIDSRIGQGSVDLVGVFNKAKKNPIPLANDTSFGVGYAPLSETEKIVLETEKYLNSDEFKKKYPAVGEDIKVMGLRKGDEIDLT</span>\n",
       "<span style=\"color: #008000; text-decoration-color: #008000\">IAAAIVDSEVDNPDDYMAVKEAIYEAAKGIVESHTERPTNIYVNTADDPKEGIYYITVTGTSAEAGDDGSVGRGNRVNGLITPNRHMSMEAAAGKNPVSHVGKIYNILSMLIAND</span>\n",
       "<span style=\"color: #008000; text-decoration-color: #008000\">IAEQVEGVEEVYVRILSQIGKPIDEPLVASVQIIPKKGYSIDVLQKPAYEIADEWLANITKIQKMILEDKVNVF'</span>,\n",
       "    <span style=\"color: #808000; text-decoration-color: #808000\">organism</span>=<span style=\"color: #800080; text-decoration-color: #800080; font-weight: bold\">Organism</span><span style=\"font-weight: bold\">(</span>\n",
       "        <span style=\"color: #808000; text-decoration-color: #808000\">id</span>=<span style=\"color: #008000; text-decoration-color: #008000\">'organism1'</span>,\n",
       "        <span style=\"color: #808000; text-decoration-color: #808000\">name</span>=<span style=\"color: #008000; text-decoration-color: #008000\">'Thermococcus kodakarensis'</span>,\n",
       "        <span style=\"color: #808000; text-decoration-color: #808000\">taxonomy_id</span>=<span style=\"color: #008000; text-decoration-color: #008000\">'311400'</span>,\n",
       "        <span style=\"color: #808000; text-decoration-color: #808000\">domain</span>=<span style=\"color: #008000; text-decoration-color: #008000\">'Archaea'</span>,\n",
       "        <span style=\"color: #808000; text-decoration-color: #808000\">kingdom</span>=<span style=\"color: #800080; text-decoration-color: #800080; font-style: italic\">None</span>,\n",
       "        <span style=\"color: #808000; text-decoration-color: #808000\">phylum</span>=<span style=\"color: #008000; text-decoration-color: #008000\">'Euryarchaeota'</span>,\n",
       "        <span style=\"color: #808000; text-decoration-color: #808000\">tax_class</span>=<span style=\"color: #008000; text-decoration-color: #008000\">'Thermococci'</span>,\n",
       "        <span style=\"color: #808000; text-decoration-color: #808000\">order</span>=<span style=\"color: #008000; text-decoration-color: #008000\">'Thermococcales'</span>,\n",
       "        <span style=\"color: #808000; text-decoration-color: #808000\">family</span>=<span style=\"color: #008000; text-decoration-color: #008000\">'Thermococcaceae'</span>,\n",
       "        <span style=\"color: #808000; text-decoration-color: #808000\">genus</span>=<span style=\"color: #008000; text-decoration-color: #008000\">'Thermococcus'</span>,\n",
       "        <span style=\"color: #808000; text-decoration-color: #808000\">species</span>=<span style=\"color: #008000; text-decoration-color: #008000\">'Thermococcus kodakarensis'</span>\n",
       "    <span style=\"font-weight: bold\">)</span>,\n",
       "    <span style=\"color: #808000; text-decoration-color: #808000\">citation</span>=<span style=\"color: #800080; text-decoration-color: #800080; font-weight: bold\">Citation</span><span style=\"font-weight: bold\">(</span><span style=\"color: #808000; text-decoration-color: #808000\">id</span>=<span style=\"color: #008000; text-decoration-color: #008000\">'citation0'</span>, <span style=\"color: #808000; text-decoration-color: #808000\">doi</span>=<span style=\"color: #800080; text-decoration-color: #800080; font-style: italic\">None</span>, <span style=\"color: #808000; text-decoration-color: #808000\">pubmed_id</span>=<span style=\"color: #800080; text-decoration-color: #800080; font-style: italic\">None</span>, <span style=\"color: #808000; text-decoration-color: #808000\">medline_id</span>=<span style=\"color: #800080; text-decoration-color: #800080; font-style: italic\">None</span>, <span style=\"color: #808000; text-decoration-color: #808000\">year</span>=<span style=\"color: #800080; text-decoration-color: #800080; font-style: italic\">None</span>, <span style=\"color: #808000; text-decoration-color: #808000\">authors</span>=<span style=\"font-weight: bold\">[])</span>,\n",
       "    <span style=\"color: #808000; text-decoration-color: #808000\">family_name</span>=<span style=\"color: #800080; text-decoration-color: #800080; font-style: italic\">None</span>,\n",
       "    <span style=\"color: #808000; text-decoration-color: #808000\">regions</span>=<span style=\"font-weight: bold\">[</span>\n",
       "        <span style=\"color: #800080; text-decoration-color: #800080; font-weight: bold\">ProteinRegion</span><span style=\"font-weight: bold\">(</span>\n",
       "            <span style=\"color: #808000; text-decoration-color: #808000\">id</span>=<span style=\"color: #008000; text-decoration-color: #008000\">'proteinregion0'</span>,\n",
       "            <span style=\"color: #808000; text-decoration-color: #808000\">name</span>=<span style=\"color: #008000; text-decoration-color: #008000\">'PRK04439'</span>,\n",
       "            <span style=\"color: #808000; text-decoration-color: #808000\">spans</span>=<span style=\"font-weight: bold\">[</span><span style=\"color: #800080; text-decoration-color: #800080; font-weight: bold\">Span</span><span style=\"font-weight: bold\">(</span><span style=\"color: #808000; text-decoration-color: #808000\">id</span>=<span style=\"color: #008000; text-decoration-color: #008000\">'span0'</span>, <span style=\"color: #808000; text-decoration-color: #808000\">start</span>=<span style=\"color: #008080; text-decoration-color: #008080; font-weight: bold\">5</span>, <span style=\"color: #808000; text-decoration-color: #808000\">end</span>=<span style=\"color: #008080; text-decoration-color: #008080; font-weight: bold\">405</span><span style=\"font-weight: bold\">)]</span>,\n",
       "            <span style=\"color: #808000; text-decoration-color: #808000\">note</span>=<span style=\"color: #008000; text-decoration-color: #008000\">'methionine adenosyltransferase'</span>,\n",
       "            <span style=\"color: #808000; text-decoration-color: #808000\">cross_reference</span>=<span style=\"color: #008000; text-decoration-color: #008000\">'CDD:235298'</span>,\n",
       "            <span style=\"color: #808000; text-decoration-color: #808000\">type</span>=<span style=\"color: #800080; text-decoration-color: #800080; font-style: italic\">None</span>\n",
       "        <span style=\"font-weight: bold\">)</span>\n",
       "    <span style=\"font-weight: bold\">]</span>,\n",
       "    <span style=\"color: #808000; text-decoration-color: #808000\">sites</span>=<span style=\"font-weight: bold\">[]</span>,\n",
       "    <span style=\"color: #808000; text-decoration-color: #808000\">coding_sequence_ref</span>=<span style=\"color: #800080; text-decoration-color: #800080; font-weight: bold\">DNARegion</span><span style=\"font-weight: bold\">(</span>\n",
       "        <span style=\"color: #808000; text-decoration-color: #808000\">id</span>=<span style=\"color: #008000; text-decoration-color: #008000\">'dnaregion0'</span>,\n",
       "        <span style=\"color: #808000; text-decoration-color: #808000\">name</span>=<span style=\"color: #800080; text-decoration-color: #800080; font-style: italic\">None</span>,\n",
       "        <span style=\"color: #808000; text-decoration-color: #808000\">spans</span>=<span style=\"font-weight: bold\">[]</span>,\n",
       "        <span style=\"color: #808000; text-decoration-color: #808000\">note</span>=<span style=\"color: #800080; text-decoration-color: #800080; font-style: italic\">None</span>,\n",
       "        <span style=\"color: #808000; text-decoration-color: #808000\">cross_reference</span>=<span style=\"color: #800080; text-decoration-color: #800080; font-style: italic\">None</span>,\n",
       "        <span style=\"color: #808000; text-decoration-color: #808000\">type</span>=<span style=\"color: #800080; text-decoration-color: #800080; font-style: italic\">None</span>\n",
       "    <span style=\"font-weight: bold\">)</span>,\n",
       "    <span style=\"color: #808000; text-decoration-color: #808000\">ec_number</span>=<span style=\"color: #008000; text-decoration-color: #008000\">'2.5.1.6'</span>,\n",
       "    <span style=\"color: #808000; text-decoration-color: #808000\">mol_weight</span>=<span style=\"color: #008080; text-decoration-color: #008080; font-weight: bold\">44484.0</span>,\n",
       "    <span style=\"color: #808000; text-decoration-color: #808000\">substrates</span>=<span style=\"font-weight: bold\">[]</span>\n",
       "<span style=\"font-weight: bold\">)</span>\n",
       "</pre>\n"
      ],
      "text/plain": [
       "\u001b[1;35mProteinInfo\u001b[0m\u001b[1m(\u001b[0m\n",
       "    \u001b[33mid\u001b[0m=\u001b[32m'proteininfo0'\u001b[0m,\n",
       "    \u001b[33msource_id\u001b[0m=\u001b[32m'WP_011249500.1'\u001b[0m,\n",
       "    \u001b[33mname\u001b[0m=\u001b[32m'methionine adenosyltransferase'\u001b[0m,\n",
       "    \u001b[33msequence\u001b[0m=\u001b[32m'MAGKVRNIVVEELVRTPVEMQKVELVERKGIGHPDSIADGIAEAVSRALSREYVKRYGIILHHNTDQVEVVGGRAYPQFGGGEVIKPIYILLSGRAVEMVD\u001b[0m\n",
       "\u001b[32mREFFPVHEIALKAAKDYLRKAVRHLDLEHHVIIDSRIGQGSVDLVGVFNKAKKNPIPLANDTSFGVGYAPLSETEKIVLETEKYLNSDEFKKKYPAVGEDIKVMGLRKGDEIDLT\u001b[0m\n",
       "\u001b[32mIAAAIVDSEVDNPDDYMAVKEAIYEAAKGIVESHTERPTNIYVNTADDPKEGIYYITVTGTSAEAGDDGSVGRGNRVNGLITPNRHMSMEAAAGKNPVSHVGKIYNILSMLIAND\u001b[0m\n",
       "\u001b[32mIAEQVEGVEEVYVRILSQIGKPIDEPLVASVQIIPKKGYSIDVLQKPAYEIADEWLANITKIQKMILEDKVNVF'\u001b[0m,\n",
       "    \u001b[33morganism\u001b[0m=\u001b[1;35mOrganism\u001b[0m\u001b[1m(\u001b[0m\n",
       "        \u001b[33mid\u001b[0m=\u001b[32m'organism1'\u001b[0m,\n",
       "        \u001b[33mname\u001b[0m=\u001b[32m'Thermococcus kodakarensis'\u001b[0m,\n",
       "        \u001b[33mtaxonomy_id\u001b[0m=\u001b[32m'311400'\u001b[0m,\n",
       "        \u001b[33mdomain\u001b[0m=\u001b[32m'Archaea'\u001b[0m,\n",
       "        \u001b[33mkingdom\u001b[0m=\u001b[3;35mNone\u001b[0m,\n",
       "        \u001b[33mphylum\u001b[0m=\u001b[32m'Euryarchaeota'\u001b[0m,\n",
       "        \u001b[33mtax_class\u001b[0m=\u001b[32m'Thermococci'\u001b[0m,\n",
       "        \u001b[33morder\u001b[0m=\u001b[32m'Thermococcales'\u001b[0m,\n",
       "        \u001b[33mfamily\u001b[0m=\u001b[32m'Thermococcaceae'\u001b[0m,\n",
       "        \u001b[33mgenus\u001b[0m=\u001b[32m'Thermococcus'\u001b[0m,\n",
       "        \u001b[33mspecies\u001b[0m=\u001b[32m'Thermococcus kodakarensis'\u001b[0m\n",
       "    \u001b[1m)\u001b[0m,\n",
       "    \u001b[33mcitation\u001b[0m=\u001b[1;35mCitation\u001b[0m\u001b[1m(\u001b[0m\u001b[33mid\u001b[0m=\u001b[32m'citation0'\u001b[0m, \u001b[33mdoi\u001b[0m=\u001b[3;35mNone\u001b[0m, \u001b[33mpubmed_id\u001b[0m=\u001b[3;35mNone\u001b[0m, \u001b[33mmedline_id\u001b[0m=\u001b[3;35mNone\u001b[0m, \u001b[33myear\u001b[0m=\u001b[3;35mNone\u001b[0m, \u001b[33mauthors\u001b[0m=\u001b[1m[\u001b[0m\u001b[1m]\u001b[0m\u001b[1m)\u001b[0m,\n",
       "    \u001b[33mfamily_name\u001b[0m=\u001b[3;35mNone\u001b[0m,\n",
       "    \u001b[33mregions\u001b[0m=\u001b[1m[\u001b[0m\n",
       "        \u001b[1;35mProteinRegion\u001b[0m\u001b[1m(\u001b[0m\n",
       "            \u001b[33mid\u001b[0m=\u001b[32m'proteinregion0'\u001b[0m,\n",
       "            \u001b[33mname\u001b[0m=\u001b[32m'PRK04439'\u001b[0m,\n",
       "            \u001b[33mspans\u001b[0m=\u001b[1m[\u001b[0m\u001b[1;35mSpan\u001b[0m\u001b[1m(\u001b[0m\u001b[33mid\u001b[0m=\u001b[32m'span0'\u001b[0m, \u001b[33mstart\u001b[0m=\u001b[1;36m5\u001b[0m, \u001b[33mend\u001b[0m=\u001b[1;36m405\u001b[0m\u001b[1m)\u001b[0m\u001b[1m]\u001b[0m,\n",
       "            \u001b[33mnote\u001b[0m=\u001b[32m'methionine adenosyltransferase'\u001b[0m,\n",
       "            \u001b[33mcross_reference\u001b[0m=\u001b[32m'CDD:235298'\u001b[0m,\n",
       "            \u001b[33mtype\u001b[0m=\u001b[3;35mNone\u001b[0m\n",
       "        \u001b[1m)\u001b[0m\n",
       "    \u001b[1m]\u001b[0m,\n",
       "    \u001b[33msites\u001b[0m=\u001b[1m[\u001b[0m\u001b[1m]\u001b[0m,\n",
       "    \u001b[33mcoding_sequence_ref\u001b[0m=\u001b[1;35mDNARegion\u001b[0m\u001b[1m(\u001b[0m\n",
       "        \u001b[33mid\u001b[0m=\u001b[32m'dnaregion0'\u001b[0m,\n",
       "        \u001b[33mname\u001b[0m=\u001b[3;35mNone\u001b[0m,\n",
       "        \u001b[33mspans\u001b[0m=\u001b[1m[\u001b[0m\u001b[1m]\u001b[0m,\n",
       "        \u001b[33mnote\u001b[0m=\u001b[3;35mNone\u001b[0m,\n",
       "        \u001b[33mcross_reference\u001b[0m=\u001b[3;35mNone\u001b[0m,\n",
       "        \u001b[33mtype\u001b[0m=\u001b[3;35mNone\u001b[0m\n",
       "    \u001b[1m)\u001b[0m,\n",
       "    \u001b[33mec_number\u001b[0m=\u001b[32m'2.5.1.6'\u001b[0m,\n",
       "    \u001b[33mmol_weight\u001b[0m=\u001b[1;36m44484\u001b[0m\u001b[1;36m.0\u001b[0m,\n",
       "    \u001b[33msubstrates\u001b[0m=\u001b[1m[\u001b[0m\u001b[1m]\u001b[0m\n",
       "\u001b[1m)\u001b[0m\n"
      ]
     },
     "metadata": {},
     "output_type": "display_data"
    }
   ],
   "source": [
    "# Get a query sequence from NCBI\n",
    "metTK = ProteinInfo.from_ncbi(\"WP_011249500.1\")\n",
    "print(metTK)"
   ]
  },
  {
   "cell_type": "code",
   "execution_count": null,
   "metadata": {},
   "outputs": [],
   "source": [
    "# Run local blastp search\n",
    "blast_results = metTK.blastp(\n",
    "    db_path=\"/Users/max/Documents/GitHub/blast-db/data/source\",\n",
    "    n_hits=200,\n",
    ")"
   ]
  },
  {
   "cell_type": "code",
   "execution_count": null,
   "metadata": {},
   "outputs": [],
   "source": [
    "for r in blast_results:\n",
    "    print(r.organism)"
   ]
  },
  {
   "cell_type": "markdown",
   "metadata": {},
   "source": [
    "## Multi Pairwise Alignment"
   ]
  },
  {
   "cell_type": "code",
   "execution_count": null,
   "metadata": {},
   "outputs": [],
   "source": [
    "# Create and run alignment\n",
    "multi_parwise_alignments = Alignment.from_sequences(\n",
    "    blast_results, aligner=PairwiseAligner\n",
    ")"
   ]
  },
  {
   "cell_type": "code",
   "execution_count": null,
   "metadata": {},
   "outputs": [],
   "source": [
    "n = SequenceNetwork(\n",
    "    sequences=blast_results,\n",
    "    pairwise_alignments=multi_parwise_alignments,\n",
    "    threshold=0.9,\n",
    "    weight=\"identity\",\n",
    "    dimensions=3,\n",
    "    color=\"taxonomy_id\",\n",
    ")\n",
    "n.add_target(metTK)\n",
    "n.visualize()"
   ]
  },
  {
   "cell_type": "code",
   "execution_count": 1,
   "metadata": {},
   "outputs": [],
   "source": [
    "from rich import print\n",
    "from rich.progress import Progress"
   ]
  },
  {
   "cell_type": "code",
   "execution_count": 2,
   "metadata": {},
   "outputs": [],
   "source": [
    "import numpy as np\n",
    "import time\n",
    "\n",
    "\n",
    "li = np.arange(9).reshape(3, 3)"
   ]
  },
  {
   "cell_type": "code",
   "execution_count": 5,
   "metadata": {},
   "outputs": [
    {
     "data": {
      "text/plain": [
       "9"
      ]
     },
     "execution_count": 5,
     "metadata": {},
     "output_type": "execute_result"
    }
   ],
   "source": [
    "li.size"
   ]
  },
  {
   "cell_type": "code",
   "execution_count": 11,
   "metadata": {},
   "outputs": [
    {
     "data": {
      "text/html": [
       "<pre style=\"white-space:pre;overflow-x:auto;line-height:normal;font-family:Menlo,'DejaVu Sans Mono',consolas,'Courier New',monospace\">⬇️ Downloading<span style=\"color: #808000; text-decoration-color: #808000\">...</span>\n",
       "</pre>\n"
      ],
      "text/plain": [
       "⬇️ Downloading\u001b[33m...\u001b[0m\n"
      ]
     },
     "metadata": {},
     "output_type": "display_data"
    },
    {
     "data": {
      "text/html": [
       "<pre style=\"white-space:pre;overflow-x:auto;line-height:normal;font-family:Menlo,'DejaVu Sans Mono',consolas,'Courier New',monospace\"></pre>\n"
      ],
      "text/plain": [
       "\u001b[?25l"
      ]
     },
     "metadata": {},
     "output_type": "display_data"
    },
    {
     "data": {
      "application/vnd.jupyter.widget-view+json": {
       "model_id": "fd74d307eb604b4eac80933c2bfddfce",
       "version_major": 2,
       "version_minor": 0
      },
      "text/plain": [
       "Output()"
      ]
     },
     "metadata": {},
     "output_type": "display_data"
    },
    {
     "data": {
      "text/html": [
       "<pre style=\"white-space:pre;overflow-x:auto;line-height:normal;font-family:Menlo,'DejaVu Sans Mono',consolas,'Courier New',monospace\">\n",
       "</pre>\n"
      ],
      "text/plain": [
       "\n",
       "\u001b[?25h\r\u001b[1A\u001b[2K"
      ]
     },
     "metadata": {},
     "output_type": "display_data"
    },
    {
     "data": {
      "text/html": [
       "<pre style=\"white-space:pre;overflow-x:auto;line-height:normal;font-family:Menlo,'DejaVu Sans Mono',consolas,'Courier New',monospace\"></pre>\n"
      ],
      "text/plain": [
       "\u001b[?25l"
      ]
     },
     "metadata": {},
     "output_type": "display_data"
    },
    {
     "data": {
      "application/vnd.jupyter.widget-view+json": {
       "model_id": "6e334353f3084fc79ae8aaf287bd7191",
       "version_major": 2,
       "version_minor": 0
      },
      "text/plain": [
       "Output()"
      ]
     },
     "metadata": {},
     "output_type": "display_data"
    },
    {
     "data": {
      "text/html": [
       "<pre style=\"white-space:pre;overflow-x:auto;line-height:normal;font-family:Menlo,'DejaVu Sans Mono',consolas,'Courier New',monospace\">\n",
       "</pre>\n"
      ],
      "text/plain": [
       "\n",
       "\u001b[?25h\r\u001b[1A\u001b[2K"
      ]
     },
     "metadata": {},
     "output_type": "display_data"
    },
    {
     "data": {
      "text/html": [
       "<pre style=\"white-space:pre;overflow-x:auto;line-height:normal;font-family:Menlo,'DejaVu Sans Mono',consolas,'Courier New',monospace\"></pre>\n"
      ],
      "text/plain": [
       "\u001b[?25l"
      ]
     },
     "metadata": {},
     "output_type": "display_data"
    },
    {
     "data": {
      "application/vnd.jupyter.widget-view+json": {
       "model_id": "01f8e847f08f45ebb620a71d3e5fbfb1",
       "version_major": 2,
       "version_minor": 0
      },
      "text/plain": [
       "Output()"
      ]
     },
     "metadata": {},
     "output_type": "display_data"
    },
    {
     "data": {
      "text/html": [
       "<pre style=\"white-space:pre;overflow-x:auto;line-height:normal;font-family:Menlo,'DejaVu Sans Mono',consolas,'Courier New',monospace\">\n",
       "</pre>\n"
      ],
      "text/plain": [
       "\n",
       "\u001b[?25h\r\u001b[1A\u001b[2K"
      ]
     },
     "metadata": {},
     "output_type": "display_data"
    },
    {
     "data": {
      "text/html": [
       "<pre style=\"white-space:pre;overflow-x:auto;line-height:normal;font-family:Menlo,'DejaVu Sans Mono',consolas,'Courier New',monospace\">🎉 Done!\n",
       "</pre>\n"
      ],
      "text/plain": [
       "🎉 Done!\n"
      ]
     },
     "metadata": {},
     "output_type": "display_data"
    }
   ],
   "source": [
    "print(\"⬇️ Downloading...\")\n",
    "\n",
    "with Progress(transient=True) as progress:\n",
    "    task = progress.add_task(\"Working\", total=li.size)\n",
    "    for subset in li:\n",
    "        for l in subset:\n",
    "            progress.update(task, advance=1)\n",
    "            time.sleep(0.5)\n",
    "\n",
    "with Progress(transient=True) as progress:\n",
    "    task = progress.add_task(\"Working\", total=li.size)\n",
    "    for subset in li:\n",
    "        for l in subset:\n",
    "            progress.update(task, advance=1)\n",
    "            time.sleep(0.5)\n",
    "\n",
    "with Progress(transient=True) as progress:\n",
    "    task = progress.add_task(\"Working\", total=li.size)\n",
    "    for subset in li:\n",
    "        for l in subset:\n",
    "            progress.update(task, advance=1)\n",
    "            time.sleep(0.5)\n",
    "\n",
    "print(\"🎉 Done!\")"
   ]
  },
  {
   "cell_type": "code",
   "execution_count": 7,
   "metadata": {},
   "outputs": [
    {
     "data": {
      "text/plain": [
       "<__main__.TTt at 0x1306a81c0>"
      ]
     },
     "execution_count": 7,
     "metadata": {},
     "output_type": "execute_result"
    }
   ],
   "source": [
    "class TTt:\n",
    "    def __init__(self):\n",
    "        self.a = 1\n",
    "        self.b = 2\n",
    "        self.e()\n",
    "\n",
    "    def e(self):\n",
    "        return self.a + self.b\n",
    "\n",
    "\n",
    "t = TTt()\n",
    "t"
   ]
  }
 ],
 "metadata": {
  "kernelspec": {
   "display_name": "pye",
   "language": "python",
   "name": "python3"
  },
  "language_info": {
   "codemirror_mode": {
    "name": "ipython",
    "version": 3
   },
   "file_extension": ".py",
   "mimetype": "text/x-python",
   "name": "python",
   "nbconvert_exporter": "python",
   "pygments_lexer": "ipython3",
   "version": "3.10.13"
  }
 },
 "nbformat": 4,
 "nbformat_minor": 2
}
