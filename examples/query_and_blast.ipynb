{
 "cells": [
  {
   "cell_type": "code",
   "execution_count": 1,
   "metadata": {},
   "outputs": [],
   "source": [
    "from sdRDM.generator import generate_python_api\n",
    "\n",
    "\n",
    "# generate_python_api(\"../specifications/model.md\", \"../\", \"pyeed\")"
   ]
  },
  {
   "cell_type": "markdown",
   "metadata": {},
   "source": [
    "# PYEED data model"
   ]
  },
  {
   "cell_type": "code",
   "execution_count": 2,
   "metadata": {},
   "outputs": [],
   "source": [
    "%reload_ext autoreload\n",
    "%autoreload 2\n",
    "\n",
    "from pyeed.core.proteinsequence import ProteinSequence"
   ]
  },
  {
   "cell_type": "markdown",
   "metadata": {},
   "source": [
    "## Query NCBI"
   ]
  },
  {
   "cell_type": "code",
   "execution_count": 3,
   "metadata": {},
   "outputs": [
    {
     "name": "stdout",
     "output_type": "stream",
     "text": [
      "\u001b[4mProteinSequence\u001b[0m\n",
      "├── \u001b[94mid\u001b[0m = XP_017143456.1\n",
      "├── \u001b[94mname\u001b[0m = fructose-bisphosphate aldolase isoform X3 [Drosophila miranda]\n",
      "├── \u001b[94msequence\u001b[0m = MTTYFNYPSKELQDELRGIAQAIVAPGKGILAADESVSTMGKRLQDIGVENSDENRRAYRQLLFSTDPKLAENISGVILFHETLYQKADDGTPFVDILKKKGIIPGIKVDKGVVPLFGSEDEVTTQGLDDLAARCAQYKKDGCDFAKWRCVLKIGKNTPSYQSILENANVLARYASICQSQRIVPIVEPEVLPDGDHDLDRAQKVTETVLAAVYKALSDHHVYLEGTLLKPNMVTAGQSAKKNTPQEIGLATVLALRRTVPAAVTGVTFLSGGQSEEEATVNLSAINNVPLGRPWALTFSYGRALQASVLKAWGGKKENIAAGQNELLKRARANALASQGKYVAGSIPSYAANTSLFIAGHKY\n",
      "├── \u001b[94morganism\u001b[0m\n",
      "│   └── \u001b[4mOrganism\u001b[0m\n",
      "│       ├── \u001b[94mid\u001b[0m = taxon:7229\n",
      "│       ├── \u001b[94mname\u001b[0m = Drosophila miranda\n",
      "│       └── \u001b[94mtaxonomy_id\u001b[0m = 7229\n",
      "├── \u001b[94mregions\u001b[0m\n",
      "│   └── 0\n",
      "│       └── \u001b[4mRegion\u001b[0m\n",
      "│           ├── \u001b[94mid\u001b[0m = region0\n",
      "│           ├── \u001b[94mstart\u001b[0m = 14\n",
      "│           ├── \u001b[94mend\u001b[0m = 363\n",
      "│           ├── \u001b[94mnote\u001b[0m = Fructose-bisphosphate aldolase class-I; pfam00274\n",
      "│           ├── \u001b[94mname\u001b[0m = Glycolytic\n",
      "│           └── \u001b[94mcross_reference\u001b[0m = CDD:425574\n",
      "├── \u001b[94msites\u001b[0m\n",
      "│   ├── 0\n",
      "│   │   └── \u001b[4mSite\u001b[0m\n",
      "│   │       ├── \u001b[94mid\u001b[0m = site0\n",
      "│   │       ├── \u001b[94mname\u001b[0m = active\n",
      "│   │       ├── \u001b[94mtype\u001b[0m = active\n",
      "│   │       ├── \u001b[94mpositions\u001b[0m = [33, 34, 35, 38, 107, ...]\n",
      "│   │       └── \u001b[94mcross_reference\u001b[0m = CDD:188635\n",
      "│   ├── 1\n",
      "│   │   └── \u001b[4mSite\u001b[0m\n",
      "│   │       ├── \u001b[94mid\u001b[0m = site1\n",
      "│   │       ├── \u001b[94mname\u001b[0m = intersubunit interface [polypeptide binding]\n",
      "│   │       ├── \u001b[94mtype\u001b[0m = other\n",
      "│   │       ├── \u001b[94mpositions\u001b[0m = [110, 161, 164, 165, 168, ...]\n",
      "│   │       └── \u001b[94mcross_reference\u001b[0m = CDD:188635\n",
      "│   └── 2\n",
      "│       └── \u001b[4mSite\u001b[0m\n",
      "│           ├── \u001b[94mid\u001b[0m = site2\n",
      "│           ├── \u001b[94mname\u001b[0m = catalytic residue [active]\n",
      "│           ├── \u001b[94mtype\u001b[0m = active\n",
      "│           ├── \u001b[94mpositions\u001b[0m = [229, ...]\n",
      "│           └── \u001b[94mcross_reference\u001b[0m = CDD:188635\n",
      "└── \u001b[94mreference_sequence\u001b[0m = XM_017287967.2\n",
      "\n"
     ]
    }
   ],
   "source": [
    "aldolase = ProteinSequence.from_ncbi(\"XP_017143456.1\")\n",
    "\n",
    "print(aldolase)"
   ]
  },
  {
   "cell_type": "markdown",
   "metadata": {},
   "source": [
    "## BLAST search"
   ]
  },
  {
   "cell_type": "code",
   "execution_count": 4,
   "metadata": {},
   "outputs": [
    {
     "name": "stdout",
     "output_type": "stream",
     "text": [
      "Running blast search for query XP_017143456.1...\n"
     ]
    },
    {
     "name": "stderr",
     "output_type": "stream",
     "text": [
      "Fetching protein sequences: 100%|██████████| 40/40 [00:39<00:00,  1.02it/s]\n"
     ]
    }
   ],
   "source": [
    "blast_result_sequences = aldolase.blast(n_hits=40)"
   ]
  },
  {
   "cell_type": "markdown",
   "metadata": {},
   "source": [
    "## Storing `ProteinSequence`s in a database\n",
    "\n"
   ]
  },
  {
   "cell_type": "code",
   "execution_count": 5,
   "metadata": {},
   "outputs": [],
   "source": [
    "from sdRDM import DataModel\n",
    "from sdrdm_database import DBConnector, create_tables"
   ]
  },
  {
   "cell_type": "markdown",
   "metadata": {},
   "source": [
    "### Setting up a local MySQL database\n",
    "\n",
    "First, a local MySQL database needs to be setup. Therefore, we run a docker container with a MySQL database. \n",
    "\n",
    ">[!NOTE]\n",
    ">\n",
    ">If docker is not isntalled on your system, please follow the instructions on the [docker website](https://docs.docker.com/get-docker/).\n",
    "\n",
    "\n",
    "In case this notebook is run on macOS system with a M1 chip, the following command needs to be run in the terminal first:\n",
    "\n",
    ">```bash\n",
    ">export DOCKER_DEFAULT_PLATFORM=linux/amd64 \n",
    ">```\n",
    "\n",
    "Next, navigate to the directory where this notebook is located and run the following command to start the docker container:\n",
    "\n",
    ">```bash\n",
    ">docker compose up -d\n",
    ">```"
   ]
  },
  {
   "cell_type": "markdown",
   "metadata": {},
   "source": [
    "### Connect to the database"
   ]
  },
  {
   "cell_type": "code",
   "execution_count": 6,
   "metadata": {},
   "outputs": [],
   "source": [
    "# Establish a connection to the database\n",
    "db = DBConnector(\n",
    "    username=\"root\",\n",
    "    password=\"root\",\n",
    "    host=\"localhost\",\n",
    "    db_name=\"db\",\n",
    "    port=3306,\n",
    "    dbtype=\"mysql\",\n",
    ")"
   ]
  },
  {
   "cell_type": "code",
   "execution_count": 7,
   "metadata": {},
   "outputs": [
    {
     "ename": "AttributeError",
     "evalue": "'str' object has no attribute '__fields__'",
     "output_type": "error",
     "traceback": [
      "\u001b[0;31m---------------------------------------------------------------------------\u001b[0m",
      "\u001b[0;31mAttributeError\u001b[0m                            Traceback (most recent call last)",
      "\u001b[1;32m/Users/max/Documents/GitHub/pyeed/examples/query_and_blast.ipynb Cell 13\u001b[0m line \u001b[0;36m2\n\u001b[1;32m      <a href='vscode-notebook-cell:/Users/max/Documents/GitHub/pyeed/examples/query_and_blast.ipynb#X15sZmlsZQ%3D%3D?line=0'>1</a>\u001b[0m \u001b[39m# Create the tables in the database\u001b[39;00m\n\u001b[0;32m----> <a href='vscode-notebook-cell:/Users/max/Documents/GitHub/pyeed/examples/query_and_blast.ipynb#X15sZmlsZQ%3D%3D?line=1'>2</a>\u001b[0m create_tables(db_connector\u001b[39m=\u001b[39;49mdb, model\u001b[39m=\u001b[39;49mProteinSequence)\n",
      "File \u001b[0;32m~/miniconda3/envs/sdrdm_example/lib/python3.11/site-packages/sdrdm_database/tablecreator.py:31\u001b[0m, in \u001b[0;36mcreate_tables\u001b[0;34m(db_connector, model)\u001b[0m\n\u001b[1;32m     28\u001b[0m _validate_input(db_connector\u001b[39m=\u001b[39mdb_connector, model\u001b[39m=\u001b[39mmodel)\n\u001b[1;32m     30\u001b[0m \u001b[39m# Create schemes for each object found within the data model\u001b[39;00m\n\u001b[0;32m---> 31\u001b[0m create_instructions \u001b[39m=\u001b[39m _create_table_schema(\n\u001b[1;32m     32\u001b[0m     db_connector\u001b[39m=\u001b[39;49mdb_connector,\n\u001b[1;32m     33\u001b[0m     data_model\u001b[39m=\u001b[39;49mmodel,\n\u001b[1;32m     34\u001b[0m     table_name\u001b[39m=\u001b[39;49mmodel\u001b[39m.\u001b[39;49m\u001b[39m__name__\u001b[39;49m,\n\u001b[1;32m     35\u001b[0m     schemes\u001b[39m=\u001b[39;49m[],  \u001b[39m# type: ignore\u001b[39;49;00m\n\u001b[1;32m     36\u001b[0m )\n\u001b[1;32m     38\u001b[0m \u001b[39m# Create tables and add foreign keys\u001b[39;00m\n\u001b[1;32m     39\u001b[0m fk_commands \u001b[39m=\u001b[39m []\n",
      "File \u001b[0;32m~/miniconda3/envs/sdrdm_example/lib/python3.11/site-packages/sdrdm_database/tablecreator.py:104\u001b[0m, in \u001b[0;36m_create_table_schema\u001b[0;34m(db_connector, data_model, table_name, schemes, parent)\u001b[0m\n\u001b[1;32m    101\u001b[0m     \u001b[39mif\u001b[39;00m attr\u001b[39m.\u001b[39mname \u001b[39m==\u001b[39m \u001b[39m\"\u001b[39m\u001b[39mid\u001b[39m\u001b[39m\"\u001b[39m:\n\u001b[1;32m    102\u001b[0m         \u001b[39mcontinue\u001b[39;00m\n\u001b[0;32m--> 104\u001b[0m     _populate_schema(\n\u001b[1;32m    105\u001b[0m         attr\u001b[39m=\u001b[39;49mattr,\n\u001b[1;32m    106\u001b[0m         schema\u001b[39m=\u001b[39;49mschema,\n\u001b[1;32m    107\u001b[0m         table_name\u001b[39m=\u001b[39;49mtable_name,\n\u001b[1;32m    108\u001b[0m         schemes\u001b[39m=\u001b[39;49mschemes,\n\u001b[1;32m    109\u001b[0m     )\n\u001b[1;32m    111\u001b[0m pk_fun \u001b[39m=\u001b[39m partial(\n\u001b[1;32m    112\u001b[0m     db_connector\u001b[39m.\u001b[39m__commands__\u001b[39m.\u001b[39madd_primary_key,\n\u001b[1;32m    113\u001b[0m     table_name\u001b[39m=\u001b[39mtable_name,\n\u001b[1;32m    114\u001b[0m     primary_key\u001b[39m=\u001b[39m\u001b[39m\"\u001b[39m\u001b[39mid\u001b[39m\u001b[39m\"\u001b[39m,\n\u001b[1;32m    115\u001b[0m     con\u001b[39m=\u001b[39mdb_connector\u001b[39m.\u001b[39mconnection,\n\u001b[1;32m    116\u001b[0m )\n\u001b[1;32m    118\u001b[0m schemes\u001b[39m.\u001b[39mappend(\n\u001b[1;32m    119\u001b[0m     {\n\u001b[1;32m    120\u001b[0m         \u001b[39m\"\u001b[39m\u001b[39mname\u001b[39m\u001b[39m\"\u001b[39m: table_name,\n\u001b[0;32m   (...)\u001b[0m\n\u001b[1;32m    124\u001b[0m     }\n\u001b[1;32m    125\u001b[0m )\n",
      "File \u001b[0;32m~/miniconda3/envs/sdrdm_example/lib/python3.11/site-packages/sdrdm_database/tablecreator.py:196\u001b[0m, in \u001b[0;36m_populate_schema\u001b[0;34m(attr, schema, table_name, schemes)\u001b[0m\n\u001b[1;32m    193\u001b[0m is_obj \u001b[39m=\u001b[39m \u001b[39mhasattr\u001b[39m(attr\u001b[39m.\u001b[39mtype_, \u001b[39m\"\u001b[39m\u001b[39m__fields__\u001b[39m\u001b[39m\"\u001b[39m)\n\u001b[1;32m    195\u001b[0m \u001b[39mif\u001b[39;00m is_obj:\n\u001b[0;32m--> 196\u001b[0m     _create_table_schema(\n\u001b[1;32m    197\u001b[0m         attr\u001b[39m.\u001b[39;49mtype_,\n\u001b[1;32m    198\u001b[0m         name,\n\u001b[1;32m    199\u001b[0m         schemes,\n\u001b[1;32m    200\u001b[0m         table_name,\n\u001b[1;32m    201\u001b[0m     )\n\u001b[1;32m    203\u001b[0m \u001b[39melse\u001b[39;00m:\n\u001b[1;32m    204\u001b[0m     schema[name] \u001b[39m=\u001b[39m _map_type(\n\u001b[1;32m    205\u001b[0m         attr\u001b[39m.\u001b[39mtype_,\n\u001b[1;32m    206\u001b[0m         is_required,\n\u001b[1;32m    207\u001b[0m     )\n",
      "File \u001b[0;32m~/miniconda3/envs/sdrdm_example/lib/python3.11/site-packages/sdrdm_database/tablecreator.py:100\u001b[0m, in \u001b[0;36m_create_table_schema\u001b[0;34m(db_connector, data_model, table_name, schemes, parent)\u001b[0m\n\u001b[1;32m     90\u001b[0m schema, fk_commands \u001b[39m=\u001b[39m {}, []\n\u001b[1;32m     92\u001b[0m _handle_foreign_keys(\n\u001b[1;32m     93\u001b[0m     parent\u001b[39m=\u001b[39mparent,\n\u001b[1;32m     94\u001b[0m     table_name\u001b[39m=\u001b[39mtable_name,\n\u001b[0;32m   (...)\u001b[0m\n\u001b[1;32m     97\u001b[0m     fk_commands\u001b[39m=\u001b[39mfk_commands,\n\u001b[1;32m     98\u001b[0m )\n\u001b[0;32m--> 100\u001b[0m \u001b[39mfor\u001b[39;00m attr \u001b[39min\u001b[39;00m data_model\u001b[39m.\u001b[39;49m__fields__\u001b[39m.\u001b[39mvalues():\n\u001b[1;32m    101\u001b[0m     \u001b[39mif\u001b[39;00m attr\u001b[39m.\u001b[39mname \u001b[39m==\u001b[39m \u001b[39m\"\u001b[39m\u001b[39mid\u001b[39m\u001b[39m\"\u001b[39m:\n\u001b[1;32m    102\u001b[0m         \u001b[39mcontinue\u001b[39;00m\n",
      "\u001b[0;31mAttributeError\u001b[0m: 'str' object has no attribute '__fields__'"
     ]
    }
   ],
   "source": [
    "# Create the tables in the database\n",
    "create_tables(db_connector=db, model=ProteinSequence)"
   ]
  },
  {
   "cell_type": "markdown",
   "metadata": {},
   "source": [
    "### Populate the database"
   ]
  },
  {
   "cell_type": "code",
   "execution_count": null,
   "metadata": {},
   "outputs": [
    {
     "ename": "NameError",
     "evalue": "name 'blast_result_sequences' is not defined",
     "output_type": "error",
     "traceback": [
      "\u001b[0;31m---------------------------------------------------------------------------\u001b[0m",
      "\u001b[0;31mNameError\u001b[0m                                 Traceback (most recent call last)",
      "\u001b[1;32m/Users/max/Documents/GitHub/pyeed/examples/query_and_blast.ipynb Cell 14\u001b[0m line \u001b[0;36m2\n\u001b[1;32m      <a href='vscode-notebook-cell:/Users/max/Documents/GitHub/pyeed/examples/query_and_blast.ipynb#X66sZmlsZQ%3D%3D?line=0'>1</a>\u001b[0m \u001b[39m# Transform the data into a list of dictionaries\u001b[39;00m\n\u001b[0;32m----> <a href='vscode-notebook-cell:/Users/max/Documents/GitHub/pyeed/examples/query_and_blast.ipynb#X66sZmlsZQ%3D%3D?line=1'>2</a>\u001b[0m blast_result_data \u001b[39m=\u001b[39m [result\u001b[39m.\u001b[39mdict() \u001b[39mfor\u001b[39;00m result \u001b[39min\u001b[39;00m blast_result_sequences]\n\u001b[1;32m      <a href='vscode-notebook-cell:/Users/max/Documents/GitHub/pyeed/examples/query_and_blast.ipynb#X66sZmlsZQ%3D%3D?line=3'>4</a>\u001b[0m \u001b[39m# Insert the data into the database\u001b[39;00m\n\u001b[1;32m      <a href='vscode-notebook-cell:/Users/max/Documents/GitHub/pyeed/examples/query_and_blast.ipynb#X66sZmlsZQ%3D%3D?line=4'>5</a>\u001b[0m db\u001b[39m.\u001b[39mconnection\u001b[39m.\u001b[39minsert(\u001b[39m\"\u001b[39m\u001b[39mReactant\u001b[39m\u001b[39m\"\u001b[39m, blast_result_data)\n",
      "\u001b[0;31mNameError\u001b[0m: name 'blast_result_sequences' is not defined"
     ]
    }
   ],
   "source": [
    "# Transform the data into a list of dictionaries\n",
    "blast_result_data = [result.dict() for result in blast_result_sequences]\n",
    "\n",
    "# Insert the data into the database\n",
    "db.connection.insert(\"Reactant\", blast_result_data)"
   ]
  }
 ],
 "metadata": {
  "kernelspec": {
   "display_name": "sdrdm_example",
   "language": "python",
   "name": "python3"
  },
  "language_info": {
   "codemirror_mode": {
    "name": "ipython",
    "version": 3
   },
   "file_extension": ".py",
   "mimetype": "text/x-python",
   "name": "python",
   "nbconvert_exporter": "python",
   "pygments_lexer": "ipython3",
   "version": "3.11.3"
  }
 },
 "nbformat": 4,
 "nbformat_minor": 4
}
