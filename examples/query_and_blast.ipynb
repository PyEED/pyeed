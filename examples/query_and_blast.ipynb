{
 "cells": [
  {
   "cell_type": "markdown",
   "metadata": {},
   "source": [
    "# Example 1: Get protein information, run BLAST, and dump the results into a database\n"
   ]
  },
  {
   "cell_type": "code",
   "execution_count": 1,
   "metadata": {},
   "outputs": [],
   "source": [
    "from pyEED.core import ProteinInfo"
   ]
  },
  {
   "cell_type": "markdown",
   "metadata": {},
   "source": [
    "## Query NCBI\n",
    "\n",
    "The pyEED library is centered around the `ProteinSequence` object, which integrates available information on protein sequence, corresponding nucleotide sequence, as well as regions and sites within the sequences. The `ProteinSequence` can be initialized directly with a protein sequence accession number."
   ]
  },
  {
   "cell_type": "code",
   "execution_count": 2,
   "metadata": {},
   "outputs": [
    {
     "name": "stdout",
     "output_type": "stream",
     "text": [
      "\u001b[4mProteinInfo\u001b[0m\n",
      "├── \u001b[94mid\u001b[0m = proteininfo0\n",
      "├── \u001b[94msource_id\u001b[0m = NP_001287541.1\n",
      "├── \u001b[94mname\u001b[0m = aldolase 1, isoform M\n",
      "├── \u001b[94msequence\u001b[0m = MTTYFNYPSKELQDELREIAQKIVAPGKGILAADESGPTMGKRLQDIGVENTEDNRRAYRQLLFSTDPKLAENISGVILFHETLYQKADDGTPFAEILKKKGIILGIKVDKGVVPLFGSEDEVTTQGLDDLAARCAQYKKDGCDFAKWRCVLKIGKNTPSYQSILENANVLARYASICQSQRIVPIVEPEVLPDGDHDLDRAQKVTETVLAAVYKALSDHHVYLEGTLLKPNMVTAGQSAKKNTPEEIALATVQALRRTVPAAVTGVTFLSGGQSEEEATVNLSAINNVPLIRPWALTFSYGRALQASVLRAWAGKKENIAAGQNELLKRAKANGDAAQGKYVAGSAGAGSGSLFVANHAY\n",
      "├── \u001b[94morganism\u001b[0m\n",
      "│   └── \u001b[4mOrganism\u001b[0m\n",
      "│       ├── \u001b[94mid\u001b[0m = organism0\n",
      "│       ├── \u001b[94mname\u001b[0m = Drosophila melanogaster\n",
      "│       ├── \u001b[94mtaxonomy_id\u001b[0m = taxon:7227\n",
      "│       ├── \u001b[94mdomain\u001b[0m = Eukaryota\n",
      "│       ├── \u001b[94mkingdom\u001b[0m = Metazoa\n",
      "│       ├── \u001b[94mphylum\u001b[0m = Arthropoda\n",
      "│       ├── \u001b[94mtax_class\u001b[0m = Insecta\n",
      "│       ├── \u001b[94morder\u001b[0m = Diptera\n",
      "│       ├── \u001b[94mfamily\u001b[0m = Drosophilidae\n",
      "│       ├── \u001b[94mgenus\u001b[0m = Drosophila\n",
      "│       └── \u001b[94mspecies\u001b[0m = melanogaster\n",
      "├── \u001b[94mregions\u001b[0m\n",
      "│   └── 0\n",
      "│       └── \u001b[4mProteinRegion\u001b[0m\n",
      "│           ├── \u001b[94mid\u001b[0m = proteinregion0\n",
      "│           ├── \u001b[94mname\u001b[0m = Glycolytic\n",
      "│           ├── \u001b[94mspans\u001b[0m\n",
      "│           │   └── 0\n",
      "│           │       └── \u001b[4mSpan\u001b[0m\n",
      "│           │           ├── \u001b[94mid\u001b[0m = span0\n",
      "│           │           ├── \u001b[94mstart\u001b[0m = 14\n",
      "│           │           └── \u001b[94mend\u001b[0m = 361\n",
      "│           ├── \u001b[94mnote\u001b[0m = Fructose-bisphosphate aldolase class-I; pfam00274\n",
      "│           └── \u001b[94mcross_reference\u001b[0m = CDD:425574\n",
      "├── \u001b[94msites\u001b[0m\n",
      "│   ├── 0\n",
      "│   │   └── \u001b[4mSite\u001b[0m\n",
      "│   │       ├── \u001b[94mid\u001b[0m = site0\n",
      "│   │       ├── \u001b[94mname\u001b[0m = active\n",
      "│   │       ├── \u001b[94mtype\u001b[0m = active\n",
      "│   │       ├── \u001b[94mpositions\u001b[0m = [33, 34, 35, 38, 107, ...]\n",
      "│   │       └── \u001b[94mcross_ref\u001b[0m = CDD:188635\n",
      "│   ├── 1\n",
      "│   │   └── \u001b[4mSite\u001b[0m\n",
      "│   │       ├── \u001b[94mid\u001b[0m = site1\n",
      "│   │       ├── \u001b[94mname\u001b[0m = intersubunit interface [polypeptide binding]\n",
      "│   │       ├── \u001b[94mtype\u001b[0m = unannotated\n",
      "│   │       ├── \u001b[94mpositions\u001b[0m = [110, 161, 164, 165, 168, ...]\n",
      "│   │       └── \u001b[94mcross_ref\u001b[0m = CDD:188635\n",
      "│   └── 2\n",
      "│       └── \u001b[4mSite\u001b[0m\n",
      "│           ├── \u001b[94mid\u001b[0m = site2\n",
      "│           ├── \u001b[94mname\u001b[0m = catalytic residue [active]\n",
      "│           ├── \u001b[94mtype\u001b[0m = active\n",
      "│           ├── \u001b[94mpositions\u001b[0m = [229, ...]\n",
      "│           └── \u001b[94mcross_ref\u001b[0m = CDD:188635\n",
      "├── \u001b[94mcoding_sequence_ref\u001b[0m\n",
      "│   └── \u001b[4mDNARegion\u001b[0m\n",
      "│       ├── \u001b[94mid\u001b[0m = NM_001300612.1\n",
      "│       ├── \u001b[94mspans\u001b[0m\n",
      "│       │   └── 0\n",
      "│       │       └── \u001b[4mSpan\u001b[0m\n",
      "│       │           ├── \u001b[94mid\u001b[0m = span1\n",
      "│       │           ├── \u001b[94mstart\u001b[0m = 278\n",
      "│       │           └── \u001b[94mend\u001b[0m = 1363\n",
      "│       └── \u001b[94mtype\u001b[0m = coding sequence\n",
      "├── \u001b[94mec_number\u001b[0m = 4.1.2.13\n",
      "└── \u001b[94mmol_weight\u001b[0m = 38916.0\n",
      "\n"
     ]
    }
   ],
   "source": [
    "aldolase = ProteinInfo.from_ncbi(\"NP_001287541.1\")\n",
    "print(aldolase)"
   ]
  },
  {
   "cell_type": "markdown",
   "metadata": {},
   "source": [
    "## BLAST search"
   ]
  },
  {
   "cell_type": "code",
   "execution_count": 3,
   "metadata": {},
   "outputs": [
    {
     "name": "stdout",
     "output_type": "stream",
     "text": [
      "🏃🏼‍♀️ Running PBLAST\n",
      "├── name: aldolase 1, isoform M\n",
      "├── organism: Drosophila melanogaster\n",
      "├── e-value: 0.0021\n",
      "└── max hits: 99\n"
     ]
    },
    {
     "ename": "KeyboardInterrupt",
     "evalue": "",
     "output_type": "error",
     "traceback": [
      "\u001b[0;31m---------------------------------------------------------------------------\u001b[0m",
      "\u001b[0;31mKeyboardInterrupt\u001b[0m                         Traceback (most recent call last)",
      "\u001b[1;32m/Users/max/Documents/GitHub/pyeed/examples/query_and_blast.ipynb Cell 6\u001b[0m line \u001b[0;36m1\n\u001b[0;32m----> <a href='vscode-notebook-cell:/Users/max/Documents/GitHub/pyeed/examples/query_and_blast.ipynb#W5sZmlsZQ%3D%3D?line=0'>1</a>\u001b[0m blast_results \u001b[39m=\u001b[39m aldolase\u001b[39m.\u001b[39;49mpblast(n_hits\u001b[39m=\u001b[39;49m\u001b[39m99\u001b[39;49m, e_value\u001b[39m=\u001b[39;49m\u001b[39m0.0021\u001b[39;49m)\n",
      "File \u001b[0;32m~/Documents/GitHub/pyeed/pyEED/core/proteininfo.py:186\u001b[0m, in \u001b[0;36mProteinInfo.pblast\u001b[0;34m(self, n_hits, e_value, api_key, **kwargs)\u001b[0m\n\u001b[1;32m    183\u001b[0m \u001b[39mprint\u001b[39m(\u001b[39mf\u001b[39m\u001b[39m\"\u001b[39m\u001b[39m├── e-value: \u001b[39m\u001b[39m{\u001b[39;00me_value\u001b[39m}\u001b[39;00m\u001b[39m\"\u001b[39m)\n\u001b[1;32m    184\u001b[0m \u001b[39mprint\u001b[39m(\u001b[39mf\u001b[39m\u001b[39m\"\u001b[39m\u001b[39m└── max hits: \u001b[39m\u001b[39m{\u001b[39;00mn_hits\u001b[39m}\u001b[39;00m\u001b[39m\"\u001b[39m)\n\u001b[0;32m--> 186\u001b[0m result_handle \u001b[39m=\u001b[39m NCBIWWW\u001b[39m.\u001b[39;49mqblast(\n\u001b[1;32m    187\u001b[0m     \u001b[39m\"\u001b[39;49m\u001b[39mblastp\u001b[39;49m\u001b[39m\"\u001b[39;49m,\n\u001b[1;32m    188\u001b[0m     \u001b[39m\"\u001b[39;49m\u001b[39mnr\u001b[39;49m\u001b[39m\"\u001b[39;49m,\n\u001b[1;32m    189\u001b[0m     \u001b[39mself\u001b[39;49m\u001b[39m.\u001b[39;49msequence,\n\u001b[1;32m    190\u001b[0m     hitlist_size\u001b[39m=\u001b[39;49mn_hits,\n\u001b[1;32m    191\u001b[0m     expect\u001b[39m=\u001b[39;49me_value,\n\u001b[1;32m    192\u001b[0m     \u001b[39m*\u001b[39;49m\u001b[39m*\u001b[39;49mkwargs,\n\u001b[1;32m    193\u001b[0m )\n\u001b[1;32m    194\u001b[0m blast_record \u001b[39m=\u001b[39m NCBIXML\u001b[39m.\u001b[39mread(result_handle)\n\u001b[1;32m    195\u001b[0m completed \u001b[39m=\u001b[39m \u001b[39mTrue\u001b[39;00m\n",
      "File \u001b[0;32m~/miniconda3/envs/pye/lib/python3.10/site-packages/Bio/Blast/NCBIWWW.py:268\u001b[0m, in \u001b[0;36mqblast\u001b[0;34m(program, database, sequence, url_base, auto_format, composition_based_statistics, db_genetic_code, endpoints, entrez_query, expect, filter, gapcosts, genetic_code, hitlist_size, i_thresh, layout, lcase_mask, matrix_name, nucl_penalty, nucl_reward, other_advanced, perc_ident, phi_pattern, query_file, query_believe_defline, query_from, query_to, searchsp_eff, service, threshold, ungapped_alignment, word_size, short_query, alignments, alignment_view, descriptions, entrez_links_new_window, expect_low, expect_high, format_entrez_query, format_object, format_type, ncbi_gi, results_file, show_overview, megablast, template_type, template_length, username, password)\u001b[0m\n\u001b[1;32m    266\u001b[0m wait \u001b[39m=\u001b[39m qblast\u001b[39m.\u001b[39m_previous \u001b[39m+\u001b[39m delay \u001b[39m-\u001b[39m current\n\u001b[1;32m    267\u001b[0m \u001b[39mif\u001b[39;00m wait \u001b[39m>\u001b[39m \u001b[39m0\u001b[39m:\n\u001b[0;32m--> 268\u001b[0m     time\u001b[39m.\u001b[39;49msleep(wait)\n\u001b[1;32m    269\u001b[0m     qblast\u001b[39m.\u001b[39m_previous \u001b[39m=\u001b[39m current \u001b[39m+\u001b[39m wait\n\u001b[1;32m    270\u001b[0m \u001b[39melse\u001b[39;00m:\n",
      "\u001b[0;31mKeyboardInterrupt\u001b[0m: "
     ]
    }
   ],
   "source": [
    "blast_results = aldolase.pblast(n_hits=99, e_value=0.0021)"
   ]
  },
  {
   "cell_type": "markdown",
   "metadata": {},
   "source": [
    "## Storing `ProteinSequence`s in a PostgreSQL database\n",
    "\n"
   ]
  },
  {
   "cell_type": "code",
   "execution_count": null,
   "metadata": {},
   "outputs": [],
   "source": [
    "from sdrdm_database import DBConnector"
   ]
  },
  {
   "cell_type": "markdown",
   "metadata": {},
   "source": [
    "### Setting up a local MySQL database\n",
    "\n",
    "First, a local MySQL database needs to be setup. Therefore, we run a docker container with a MySQL database. \n",
    "If docker is not installed on your system, please follow the instructions on the [docker website](https://docs.docker.com/get-docker/).\n",
    "\n",
    "\n",
    "In case this notebook is run on a macOS system with a M1 chip, the following command needs to be run in the terminal first:\n",
    "\n",
    ">```bash\n",
    ">export DOCKER_DEFAULT_PLATFORM=linux/amd64\n",
    ">```\n",
    "\n",
    "Next, navigate to the directory where this notebook is located and run the following command to start the docker container:\n",
    "\n",
    ">```bash\n",
    ">docker compose up -d\n",
    ">```\n",
    "\n",
    "### Delete contianers\n",
    "\n",
    ">```    \n",
    ">docker rm -vf $(docker ps -aq)\n",
    ">docker rmi -f $(docker images -aq)\n",
    ">```"
   ]
  },
  {
   "cell_type": "markdown",
   "metadata": {},
   "source": [
    "### Connect to the PostgreSQL database"
   ]
  },
  {
   "cell_type": "code",
   "execution_count": null,
   "metadata": {},
   "outputs": [
    {
     "name": "stdout",
     "output_type": "stream",
     "text": [
      "🎉 Connected                                                                                        \n"
     ]
    }
   ],
   "source": [
    "import toml\n",
    "\n",
    "# Establish a connection to the database\n",
    "db = DBConnector(**toml.load(open(\"./env.toml\")))"
   ]
  },
  {
   "cell_type": "markdown",
   "metadata": {},
   "source": [
    "### Create tables for `ProteinInfo`"
   ]
  },
  {
   "cell_type": "code",
   "execution_count": null,
   "metadata": {},
   "outputs": [
    {
     "name": "stdout",
     "output_type": "stream",
     "text": [
      "\n",
      "🚀 Creating tables for data model ProteinInfo\n",
      "│\n",
      "├── Model 'ProteinInfo' already registered. Skipping.\n",
      "├── Table 'ProteinInfo'. Already exists in database. Skipping.\n",
      "├── Table 'ProteinInfo_coding_sequence_ref'. Already exists in database. Skipping.\n",
      "├── Table 'DNARegion_spans'. Already exists in database. Skipping.\n",
      "├── Table 'ProteinInfo_sites'. Already exists in database. Skipping.\n",
      "├── Table 'Site_positions'. Already exists in database. Skipping.\n",
      "├── Table 'ProteinInfo_regions'. Already exists in database. Skipping.\n",
      "├── Table 'ProteinRegion_spans'. Already exists in database. Skipping.\n",
      "├── Table 'ProteinInfo_organism'. Already exists in database. Skipping.\n",
      "│\n",
      "╰── 🎉 Created all tables for data model ProteinInfo\n",
      "\n"
     ]
    }
   ],
   "source": [
    "db.create_tables(\n",
    "    model=ProteinInfo,\n",
    "    markdown_path=\"/Users/max/Documents/GitHub/pyeed/specifications/data_model.md\",\n",
    ")"
   ]
  },
  {
   "cell_type": "code",
   "execution_count": null,
   "metadata": {},
   "outputs": [
    {
     "data": {
      "text/plain": [
       "['DNARegion_spans',\n",
       " 'ProteinInfo',\n",
       " 'ProteinInfo_coding_sequence_ref',\n",
       " 'ProteinInfo_organism',\n",
       " 'ProteinInfo_regions',\n",
       " 'ProteinInfo_sites',\n",
       " 'ProteinRegion_spans',\n",
       " 'Site_positions',\n",
       " '__model_meta__']"
      ]
     },
     "execution_count": 11,
     "metadata": {},
     "output_type": "execute_result"
    }
   ],
   "source": [
    "# See all created table names\n",
    "db.connection.list_tables()"
   ]
  },
  {
   "cell_type": "markdown",
   "metadata": {},
   "source": [
    "### Populate the database with `ProteinSequence`s"
   ]
  },
  {
   "cell_type": "code",
   "execution_count": null,
   "metadata": {},
   "outputs": [],
   "source": [
    "# Insert all blast results into the database\n",
    "db.insert(*blast_results, verbose=True)"
   ]
  },
  {
   "cell_type": "markdown",
   "metadata": {},
   "source": [
    "### Look at entries in the database"
   ]
  },
  {
   "cell_type": "code",
   "execution_count": null,
   "metadata": {},
   "outputs": [
    {
     "data": {
      "text/html": [
       "<pre style=\"white-space:pre;overflow-x:auto;line-height:normal;font-family:Menlo,'DejaVu Sans Mono',consolas,'Courier New',monospace\">┏━━━━━━━━━━━━━━━━━━━━━━━━━┳━━━━━━━━━━━━━┳━━━━━━━━━━━┳━━━━━━━━━┳━━━━━━━━━━━━┳━━━━━━━━━━━┳━━━━━━━━━┳━━━━━━━━━━━━━━━┳━━━━━━━━━━━━┳━━━━━━━━━━━━━━┳━━━━━━━━━━━━━━━━━━━━━━━━━━━━━━━━━━━━━━┳━━━━━━━━━━━━━━━━━━━━━━━━━━━━━━━━━━━━━━┓\n",
       "┃<span style=\"font-weight: bold\"> name                    </span>┃<span style=\"font-weight: bold\"> taxonomy_id </span>┃<span style=\"font-weight: bold\"> domain    </span>┃<span style=\"font-weight: bold\"> kingdom </span>┃<span style=\"font-weight: bold\"> phylum     </span>┃<span style=\"font-weight: bold\"> tax_class </span>┃<span style=\"font-weight: bold\"> order   </span>┃<span style=\"font-weight: bold\"> family        </span>┃<span style=\"font-weight: bold\"> genus      </span>┃<span style=\"font-weight: bold\"> species      </span>┃<span style=\"font-weight: bold\"> ProteinInfo_organism_id              </span>┃<span style=\"font-weight: bold\"> ProteinInfo_id                       </span>┃\n",
       "┡━━━━━━━━━━━━━━━━━━━━━━━━━╇━━━━━━━━━━━━━╇━━━━━━━━━━━╇━━━━━━━━━╇━━━━━━━━━━━━╇━━━━━━━━━━━╇━━━━━━━━━╇━━━━━━━━━━━━━━━╇━━━━━━━━━━━━╇━━━━━━━━━━━━━━╇━━━━━━━━━━━━━━━━━━━━━━━━━━━━━━━━━━━━━━╇━━━━━━━━━━━━━━━━━━━━━━━━━━━━━━━━━━━━━━┩\n",
       "│ <span style=\"color: #7f7f7f; text-decoration-color: #7f7f7f\">string</span>                  │ <span style=\"color: #7f7f7f; text-decoration-color: #7f7f7f\">!string</span>     │ <span style=\"color: #7f7f7f; text-decoration-color: #7f7f7f\">string</span>    │ <span style=\"color: #7f7f7f; text-decoration-color: #7f7f7f\">string</span>  │ <span style=\"color: #7f7f7f; text-decoration-color: #7f7f7f\">string</span>     │ <span style=\"color: #7f7f7f; text-decoration-color: #7f7f7f\">string</span>    │ <span style=\"color: #7f7f7f; text-decoration-color: #7f7f7f\">string</span>  │ <span style=\"color: #7f7f7f; text-decoration-color: #7f7f7f\">string</span>        │ <span style=\"color: #7f7f7f; text-decoration-color: #7f7f7f\">string</span>     │ <span style=\"color: #7f7f7f; text-decoration-color: #7f7f7f\">string</span>       │ <span style=\"color: #7f7f7f; text-decoration-color: #7f7f7f\">!string</span>                              │ <span style=\"color: #7f7f7f; text-decoration-color: #7f7f7f\">string</span>                               │\n",
       "├─────────────────────────┼─────────────┼───────────┼─────────┼────────────┼───────────┼─────────┼───────────────┼────────────┼──────────────┼──────────────────────────────────────┼──────────────────────────────────────┤\n",
       "│ <span style=\"color: #008000; text-decoration-color: #008000\">Drosophila melanogaster</span> │ <span style=\"color: #008000; text-decoration-color: #008000\">taxon:7227 </span> │ <span style=\"color: #008000; text-decoration-color: #008000\">Eukaryota</span> │ <span style=\"color: #008000; text-decoration-color: #008000\">Metazoa</span> │ <span style=\"color: #008000; text-decoration-color: #008000\">Arthropoda</span> │ <span style=\"color: #008000; text-decoration-color: #008000\">Insecta  </span> │ <span style=\"color: #008000; text-decoration-color: #008000\">Diptera</span> │ <span style=\"color: #008000; text-decoration-color: #008000\">Drosophilidae</span> │ <span style=\"color: #008000; text-decoration-color: #008000\">Drosophila</span> │ <span style=\"color: #008000; text-decoration-color: #008000\">melanogaster</span> │ <span style=\"color: #008000; text-decoration-color: #008000\">545be718-ed7f-47a3-be8e-5bd7b10ba298</span> │ <span style=\"color: #008000; text-decoration-color: #008000\">0457be18-0d6f-4f10-a5e6-e5539c32b344</span> │\n",
       "│ <span style=\"color: #008000; text-decoration-color: #008000\">Drosophila melanogaster</span> │ <span style=\"color: #008000; text-decoration-color: #008000\">taxon:7227 </span> │ <span style=\"color: #008000; text-decoration-color: #008000\">Eukaryota</span> │ <span style=\"color: #008000; text-decoration-color: #008000\">Metazoa</span> │ <span style=\"color: #008000; text-decoration-color: #008000\">Arthropoda</span> │ <span style=\"color: #008000; text-decoration-color: #008000\">Insecta  </span> │ <span style=\"color: #008000; text-decoration-color: #008000\">Diptera</span> │ <span style=\"color: #008000; text-decoration-color: #008000\">Drosophilidae</span> │ <span style=\"color: #008000; text-decoration-color: #008000\">Drosophila</span> │ <span style=\"color: #008000; text-decoration-color: #008000\">melanogaster</span> │ <span style=\"color: #008000; text-decoration-color: #008000\">08242878-164e-40b7-ad53-4384601dbe5b</span> │ <span style=\"color: #008000; text-decoration-color: #008000\">8f5426f4-69e4-46f9-81e8-447b96b6e848</span> │\n",
       "│ <span style=\"color: #008000; text-decoration-color: #008000\">Drosophila sechellia   </span> │ <span style=\"color: #008000; text-decoration-color: #008000\">taxon:7238 </span> │ <span style=\"color: #008000; text-decoration-color: #008000\">Eukaryota</span> │ <span style=\"color: #008000; text-decoration-color: #008000\">Metazoa</span> │ <span style=\"color: #008000; text-decoration-color: #008000\">Arthropoda</span> │ <span style=\"color: #008000; text-decoration-color: #008000\">Insecta  </span> │ <span style=\"color: #008000; text-decoration-color: #008000\">Diptera</span> │ <span style=\"color: #008000; text-decoration-color: #008000\">Drosophilidae</span> │ <span style=\"color: #008000; text-decoration-color: #008000\">Drosophila</span> │ <span style=\"color: #008000; text-decoration-color: #008000\">sechellia   </span> │ <span style=\"color: #008000; text-decoration-color: #008000\">f42d5566-7d14-4158-b8cf-345decd85e67</span> │ <span style=\"color: #008000; text-decoration-color: #008000\">06d5757e-ba45-40ab-9a81-3f4a434a63bf</span> │\n",
       "│ <span style=\"color: #008000; text-decoration-color: #008000\">Drosophila simulans    </span> │ <span style=\"color: #008000; text-decoration-color: #008000\">taxon:7240 </span> │ <span style=\"color: #008000; text-decoration-color: #008000\">Eukaryota</span> │ <span style=\"color: #008000; text-decoration-color: #008000\">Metazoa</span> │ <span style=\"color: #008000; text-decoration-color: #008000\">Arthropoda</span> │ <span style=\"color: #008000; text-decoration-color: #008000\">Insecta  </span> │ <span style=\"color: #008000; text-decoration-color: #008000\">Diptera</span> │ <span style=\"color: #008000; text-decoration-color: #008000\">Drosophilidae</span> │ <span style=\"color: #008000; text-decoration-color: #008000\">Drosophila</span> │ <span style=\"color: #008000; text-decoration-color: #008000\">simulans    </span> │ <span style=\"color: #008000; text-decoration-color: #008000\">af3964d6-8c1a-49d8-b2c9-f6269e307793</span> │ <span style=\"color: #008000; text-decoration-color: #008000\">1f982911-b07a-4b67-a972-262c85d79c75</span> │\n",
       "│ <span style=\"color: #008000; text-decoration-color: #008000\">Drosophila melanogaster</span> │ <span style=\"color: #008000; text-decoration-color: #008000\">taxon:7227 </span> │ <span style=\"color: #008000; text-decoration-color: #008000\">Eukaryota</span> │ <span style=\"color: #008000; text-decoration-color: #008000\">Metazoa</span> │ <span style=\"color: #008000; text-decoration-color: #008000\">Arthropoda</span> │ <span style=\"color: #008000; text-decoration-color: #008000\">Insecta  </span> │ <span style=\"color: #008000; text-decoration-color: #008000\">Diptera</span> │ <span style=\"color: #008000; text-decoration-color: #008000\">Drosophilidae</span> │ <span style=\"color: #008000; text-decoration-color: #008000\">Drosophila</span> │ <span style=\"color: #008000; text-decoration-color: #008000\">melanogaster</span> │ <span style=\"color: #008000; text-decoration-color: #008000\">4b64e92f-f1d3-4717-a7d6-d82088dd1dd4</span> │ <span style=\"color: #008000; text-decoration-color: #008000\">0d04dc96-0f70-4b43-9483-52eef138bfe9</span> │\n",
       "│ <span style=\"color: #008000; text-decoration-color: #008000\">Drosophila erecta      </span> │ <span style=\"color: #008000; text-decoration-color: #008000\">taxon:7220 </span> │ <span style=\"color: #008000; text-decoration-color: #008000\">Eukaryota</span> │ <span style=\"color: #008000; text-decoration-color: #008000\">Metazoa</span> │ <span style=\"color: #008000; text-decoration-color: #008000\">Arthropoda</span> │ <span style=\"color: #008000; text-decoration-color: #008000\">Insecta  </span> │ <span style=\"color: #008000; text-decoration-color: #008000\">Diptera</span> │ <span style=\"color: #008000; text-decoration-color: #008000\">Drosophilidae</span> │ <span style=\"color: #008000; text-decoration-color: #008000\">Drosophila</span> │ <span style=\"color: #008000; text-decoration-color: #008000\">erecta      </span> │ <span style=\"color: #008000; text-decoration-color: #008000\">9e13b368-ccfd-4669-97fa-ea6f10cc519f</span> │ <span style=\"color: #008000; text-decoration-color: #008000\">70503d04-72fc-4427-bdff-1fe607a3bbe8</span> │\n",
       "│ <span style=\"color: #008000; text-decoration-color: #008000\">Drosophila yakuba      </span> │ <span style=\"color: #008000; text-decoration-color: #008000\">taxon:7245 </span> │ <span style=\"color: #008000; text-decoration-color: #008000\">Eukaryota</span> │ <span style=\"color: #008000; text-decoration-color: #008000\">Metazoa</span> │ <span style=\"color: #008000; text-decoration-color: #008000\">Arthropoda</span> │ <span style=\"color: #008000; text-decoration-color: #008000\">Insecta  </span> │ <span style=\"color: #008000; text-decoration-color: #008000\">Diptera</span> │ <span style=\"color: #008000; text-decoration-color: #008000\">Drosophilidae</span> │ <span style=\"color: #008000; text-decoration-color: #008000\">Drosophila</span> │ <span style=\"color: #008000; text-decoration-color: #008000\">yakuba      </span> │ <span style=\"color: #008000; text-decoration-color: #008000\">eebebdf9-3940-4892-b60b-d4e9463eb993</span> │ <span style=\"color: #008000; text-decoration-color: #008000\">bd13f2d2-9615-436f-9cfd-afb6c453d7fa</span> │\n",
       "│ <span style=\"color: #008000; text-decoration-color: #008000\">Drosophila melanogaster</span> │ <span style=\"color: #008000; text-decoration-color: #008000\">taxon:7227 </span> │ <span style=\"color: #008000; text-decoration-color: #008000\">Eukaryota</span> │ <span style=\"color: #008000; text-decoration-color: #008000\">Metazoa</span> │ <span style=\"color: #008000; text-decoration-color: #008000\">Arthropoda</span> │ <span style=\"color: #008000; text-decoration-color: #008000\">Insecta  </span> │ <span style=\"color: #008000; text-decoration-color: #008000\">Diptera</span> │ <span style=\"color: #008000; text-decoration-color: #008000\">Drosophilidae</span> │ <span style=\"color: #008000; text-decoration-color: #008000\">Drosophila</span> │ <span style=\"color: #008000; text-decoration-color: #008000\">melanogaster</span> │ <span style=\"color: #008000; text-decoration-color: #008000\">4a5ed558-d49c-4ded-ba1e-757a44bdc2b5</span> │ <span style=\"color: #008000; text-decoration-color: #008000\">6b335d57-be89-4039-8cd4-daccd42b95a1</span> │\n",
       "│ <span style=\"color: #008000; text-decoration-color: #008000\">Drosophila teissieri   </span> │ <span style=\"color: #008000; text-decoration-color: #008000\">taxon:7243 </span> │ <span style=\"color: #008000; text-decoration-color: #008000\">Eukaryota</span> │ <span style=\"color: #008000; text-decoration-color: #008000\">Metazoa</span> │ <span style=\"color: #008000; text-decoration-color: #008000\">Arthropoda</span> │ <span style=\"color: #008000; text-decoration-color: #008000\">Insecta  </span> │ <span style=\"color: #008000; text-decoration-color: #008000\">Diptera</span> │ <span style=\"color: #008000; text-decoration-color: #008000\">Drosophilidae</span> │ <span style=\"color: #008000; text-decoration-color: #008000\">Drosophila</span> │ <span style=\"color: #008000; text-decoration-color: #008000\">teissieri   </span> │ <span style=\"color: #008000; text-decoration-color: #008000\">870b6c16-3918-4f72-a2c1-96c496c0f1af</span> │ <span style=\"color: #008000; text-decoration-color: #008000\">df2bc5c2-4621-4977-b9e9-d24f320eabb6</span> │\n",
       "│ <span style=\"color: #008000; text-decoration-color: #008000\">Drosophila ficusphila  </span> │ <span style=\"color: #008000; text-decoration-color: #008000\">taxon:30025</span> │ <span style=\"color: #008000; text-decoration-color: #008000\">Eukaryota</span> │ <span style=\"color: #008000; text-decoration-color: #008000\">Metazoa</span> │ <span style=\"color: #008000; text-decoration-color: #008000\">Arthropoda</span> │ <span style=\"color: #008000; text-decoration-color: #008000\">Insecta  </span> │ <span style=\"color: #008000; text-decoration-color: #008000\">Diptera</span> │ <span style=\"color: #008000; text-decoration-color: #008000\">Drosophilidae</span> │ <span style=\"color: #008000; text-decoration-color: #008000\">Drosophila</span> │ <span style=\"color: #008000; text-decoration-color: #008000\">ficusphila  </span> │ <span style=\"color: #008000; text-decoration-color: #008000\">d07123d7-a7fd-43fe-be6f-b1a809a1e7ee</span> │ <span style=\"color: #008000; text-decoration-color: #008000\">39169b24-8215-45b1-bc6b-76d2a7d21bb7</span> │\n",
       "│ <span style=\"color: #7f7f7f; text-decoration-color: #7f7f7f\">…</span>                       │ <span style=\"color: #7f7f7f; text-decoration-color: #7f7f7f\">…</span>           │ <span style=\"color: #7f7f7f; text-decoration-color: #7f7f7f\">…</span>         │ <span style=\"color: #7f7f7f; text-decoration-color: #7f7f7f\">…</span>       │ <span style=\"color: #7f7f7f; text-decoration-color: #7f7f7f\">…</span>          │ <span style=\"color: #7f7f7f; text-decoration-color: #7f7f7f\">…</span>         │ <span style=\"color: #7f7f7f; text-decoration-color: #7f7f7f\">…</span>       │ <span style=\"color: #7f7f7f; text-decoration-color: #7f7f7f\">…</span>             │ <span style=\"color: #7f7f7f; text-decoration-color: #7f7f7f\">…</span>          │ <span style=\"color: #7f7f7f; text-decoration-color: #7f7f7f\">…</span>            │ <span style=\"color: #7f7f7f; text-decoration-color: #7f7f7f\">…</span>                                    │ <span style=\"color: #7f7f7f; text-decoration-color: #7f7f7f\">…</span>                                    │\n",
       "└─────────────────────────┴─────────────┴───────────┴─────────┴────────────┴───────────┴─────────┴───────────────┴────────────┴──────────────┴──────────────────────────────────────┴──────────────────────────────────────┘\n",
       "</pre>\n"
      ],
      "text/plain": [
       "┏━━━━━━━━━━━━━━━━━━━━━━━━━┳━━━━━━━━━━━━━┳━━━━━━━━━━━┳━━━━━━━━━┳━━━━━━━━━━━━┳━━━━━━━━━━━┳━━━━━━━━━┳━━━━━━━━━━━━━━━┳━━━━━━━━━━━━┳━━━━━━━━━━━━━━┳━━━━━━━━━━━━━━━━━━━━━━━━━━━━━━━━━━━━━━┳━━━━━━━━━━━━━━━━━━━━━━━━━━━━━━━━━━━━━━┓\n",
       "┃\u001b[1m \u001b[0m\u001b[1mname\u001b[0m\u001b[1m                   \u001b[0m\u001b[1m \u001b[0m┃\u001b[1m \u001b[0m\u001b[1mtaxonomy_id\u001b[0m\u001b[1m \u001b[0m┃\u001b[1m \u001b[0m\u001b[1mdomain\u001b[0m\u001b[1m   \u001b[0m\u001b[1m \u001b[0m┃\u001b[1m \u001b[0m\u001b[1mkingdom\u001b[0m\u001b[1m \u001b[0m┃\u001b[1m \u001b[0m\u001b[1mphylum\u001b[0m\u001b[1m    \u001b[0m\u001b[1m \u001b[0m┃\u001b[1m \u001b[0m\u001b[1mtax_class\u001b[0m\u001b[1m \u001b[0m┃\u001b[1m \u001b[0m\u001b[1morder\u001b[0m\u001b[1m  \u001b[0m\u001b[1m \u001b[0m┃\u001b[1m \u001b[0m\u001b[1mfamily\u001b[0m\u001b[1m       \u001b[0m\u001b[1m \u001b[0m┃\u001b[1m \u001b[0m\u001b[1mgenus\u001b[0m\u001b[1m     \u001b[0m\u001b[1m \u001b[0m┃\u001b[1m \u001b[0m\u001b[1mspecies\u001b[0m\u001b[1m     \u001b[0m\u001b[1m \u001b[0m┃\u001b[1m \u001b[0m\u001b[1mProteinInfo_organism_id\u001b[0m\u001b[1m             \u001b[0m\u001b[1m \u001b[0m┃\u001b[1m \u001b[0m\u001b[1mProteinInfo_id\u001b[0m\u001b[1m                      \u001b[0m\u001b[1m \u001b[0m┃\n",
       "┡━━━━━━━━━━━━━━━━━━━━━━━━━╇━━━━━━━━━━━━━╇━━━━━━━━━━━╇━━━━━━━━━╇━━━━━━━━━━━━╇━━━━━━━━━━━╇━━━━━━━━━╇━━━━━━━━━━━━━━━╇━━━━━━━━━━━━╇━━━━━━━━━━━━━━╇━━━━━━━━━━━━━━━━━━━━━━━━━━━━━━━━━━━━━━╇━━━━━━━━━━━━━━━━━━━━━━━━━━━━━━━━━━━━━━┩\n",
       "│ \u001b[2mstring\u001b[0m                  │ \u001b[2m!string\u001b[0m     │ \u001b[2mstring\u001b[0m    │ \u001b[2mstring\u001b[0m  │ \u001b[2mstring\u001b[0m     │ \u001b[2mstring\u001b[0m    │ \u001b[2mstring\u001b[0m  │ \u001b[2mstring\u001b[0m        │ \u001b[2mstring\u001b[0m     │ \u001b[2mstring\u001b[0m       │ \u001b[2m!string\u001b[0m                              │ \u001b[2mstring\u001b[0m                               │\n",
       "├─────────────────────────┼─────────────┼───────────┼─────────┼────────────┼───────────┼─────────┼───────────────┼────────────┼──────────────┼──────────────────────────────────────┼──────────────────────────────────────┤\n",
       "│ \u001b[32mDrosophila melanogaster\u001b[0m │ \u001b[32mtaxon:7227 \u001b[0m │ \u001b[32mEukaryota\u001b[0m │ \u001b[32mMetazoa\u001b[0m │ \u001b[32mArthropoda\u001b[0m │ \u001b[32mInsecta  \u001b[0m │ \u001b[32mDiptera\u001b[0m │ \u001b[32mDrosophilidae\u001b[0m │ \u001b[32mDrosophila\u001b[0m │ \u001b[32mmelanogaster\u001b[0m │ \u001b[32m545be718-ed7f-47a3-be8e-5bd7b10ba298\u001b[0m │ \u001b[32m0457be18-0d6f-4f10-a5e6-e5539c32b344\u001b[0m │\n",
       "│ \u001b[32mDrosophila melanogaster\u001b[0m │ \u001b[32mtaxon:7227 \u001b[0m │ \u001b[32mEukaryota\u001b[0m │ \u001b[32mMetazoa\u001b[0m │ \u001b[32mArthropoda\u001b[0m │ \u001b[32mInsecta  \u001b[0m │ \u001b[32mDiptera\u001b[0m │ \u001b[32mDrosophilidae\u001b[0m │ \u001b[32mDrosophila\u001b[0m │ \u001b[32mmelanogaster\u001b[0m │ \u001b[32m08242878-164e-40b7-ad53-4384601dbe5b\u001b[0m │ \u001b[32m8f5426f4-69e4-46f9-81e8-447b96b6e848\u001b[0m │\n",
       "│ \u001b[32mDrosophila sechellia   \u001b[0m │ \u001b[32mtaxon:7238 \u001b[0m │ \u001b[32mEukaryota\u001b[0m │ \u001b[32mMetazoa\u001b[0m │ \u001b[32mArthropoda\u001b[0m │ \u001b[32mInsecta  \u001b[0m │ \u001b[32mDiptera\u001b[0m │ \u001b[32mDrosophilidae\u001b[0m │ \u001b[32mDrosophila\u001b[0m │ \u001b[32msechellia   \u001b[0m │ \u001b[32mf42d5566-7d14-4158-b8cf-345decd85e67\u001b[0m │ \u001b[32m06d5757e-ba45-40ab-9a81-3f4a434a63bf\u001b[0m │\n",
       "│ \u001b[32mDrosophila simulans    \u001b[0m │ \u001b[32mtaxon:7240 \u001b[0m │ \u001b[32mEukaryota\u001b[0m │ \u001b[32mMetazoa\u001b[0m │ \u001b[32mArthropoda\u001b[0m │ \u001b[32mInsecta  \u001b[0m │ \u001b[32mDiptera\u001b[0m │ \u001b[32mDrosophilidae\u001b[0m │ \u001b[32mDrosophila\u001b[0m │ \u001b[32msimulans    \u001b[0m │ \u001b[32maf3964d6-8c1a-49d8-b2c9-f6269e307793\u001b[0m │ \u001b[32m1f982911-b07a-4b67-a972-262c85d79c75\u001b[0m │\n",
       "│ \u001b[32mDrosophila melanogaster\u001b[0m │ \u001b[32mtaxon:7227 \u001b[0m │ \u001b[32mEukaryota\u001b[0m │ \u001b[32mMetazoa\u001b[0m │ \u001b[32mArthropoda\u001b[0m │ \u001b[32mInsecta  \u001b[0m │ \u001b[32mDiptera\u001b[0m │ \u001b[32mDrosophilidae\u001b[0m │ \u001b[32mDrosophila\u001b[0m │ \u001b[32mmelanogaster\u001b[0m │ \u001b[32m4b64e92f-f1d3-4717-a7d6-d82088dd1dd4\u001b[0m │ \u001b[32m0d04dc96-0f70-4b43-9483-52eef138bfe9\u001b[0m │\n",
       "│ \u001b[32mDrosophila erecta      \u001b[0m │ \u001b[32mtaxon:7220 \u001b[0m │ \u001b[32mEukaryota\u001b[0m │ \u001b[32mMetazoa\u001b[0m │ \u001b[32mArthropoda\u001b[0m │ \u001b[32mInsecta  \u001b[0m │ \u001b[32mDiptera\u001b[0m │ \u001b[32mDrosophilidae\u001b[0m │ \u001b[32mDrosophila\u001b[0m │ \u001b[32merecta      \u001b[0m │ \u001b[32m9e13b368-ccfd-4669-97fa-ea6f10cc519f\u001b[0m │ \u001b[32m70503d04-72fc-4427-bdff-1fe607a3bbe8\u001b[0m │\n",
       "│ \u001b[32mDrosophila yakuba      \u001b[0m │ \u001b[32mtaxon:7245 \u001b[0m │ \u001b[32mEukaryota\u001b[0m │ \u001b[32mMetazoa\u001b[0m │ \u001b[32mArthropoda\u001b[0m │ \u001b[32mInsecta  \u001b[0m │ \u001b[32mDiptera\u001b[0m │ \u001b[32mDrosophilidae\u001b[0m │ \u001b[32mDrosophila\u001b[0m │ \u001b[32myakuba      \u001b[0m │ \u001b[32meebebdf9-3940-4892-b60b-d4e9463eb993\u001b[0m │ \u001b[32mbd13f2d2-9615-436f-9cfd-afb6c453d7fa\u001b[0m │\n",
       "│ \u001b[32mDrosophila melanogaster\u001b[0m │ \u001b[32mtaxon:7227 \u001b[0m │ \u001b[32mEukaryota\u001b[0m │ \u001b[32mMetazoa\u001b[0m │ \u001b[32mArthropoda\u001b[0m │ \u001b[32mInsecta  \u001b[0m │ \u001b[32mDiptera\u001b[0m │ \u001b[32mDrosophilidae\u001b[0m │ \u001b[32mDrosophila\u001b[0m │ \u001b[32mmelanogaster\u001b[0m │ \u001b[32m4a5ed558-d49c-4ded-ba1e-757a44bdc2b5\u001b[0m │ \u001b[32m6b335d57-be89-4039-8cd4-daccd42b95a1\u001b[0m │\n",
       "│ \u001b[32mDrosophila teissieri   \u001b[0m │ \u001b[32mtaxon:7243 \u001b[0m │ \u001b[32mEukaryota\u001b[0m │ \u001b[32mMetazoa\u001b[0m │ \u001b[32mArthropoda\u001b[0m │ \u001b[32mInsecta  \u001b[0m │ \u001b[32mDiptera\u001b[0m │ \u001b[32mDrosophilidae\u001b[0m │ \u001b[32mDrosophila\u001b[0m │ \u001b[32mteissieri   \u001b[0m │ \u001b[32m870b6c16-3918-4f72-a2c1-96c496c0f1af\u001b[0m │ \u001b[32mdf2bc5c2-4621-4977-b9e9-d24f320eabb6\u001b[0m │\n",
       "│ \u001b[32mDrosophila ficusphila  \u001b[0m │ \u001b[32mtaxon:30025\u001b[0m │ \u001b[32mEukaryota\u001b[0m │ \u001b[32mMetazoa\u001b[0m │ \u001b[32mArthropoda\u001b[0m │ \u001b[32mInsecta  \u001b[0m │ \u001b[32mDiptera\u001b[0m │ \u001b[32mDrosophilidae\u001b[0m │ \u001b[32mDrosophila\u001b[0m │ \u001b[32mficusphila  \u001b[0m │ \u001b[32md07123d7-a7fd-43fe-be6f-b1a809a1e7ee\u001b[0m │ \u001b[32m39169b24-8215-45b1-bc6b-76d2a7d21bb7\u001b[0m │\n",
       "│ \u001b[2m…\u001b[0m                       │ \u001b[2m…\u001b[0m           │ \u001b[2m…\u001b[0m         │ \u001b[2m…\u001b[0m       │ \u001b[2m…\u001b[0m          │ \u001b[2m…\u001b[0m         │ \u001b[2m…\u001b[0m       │ \u001b[2m…\u001b[0m             │ \u001b[2m…\u001b[0m          │ \u001b[2m…\u001b[0m            │ \u001b[2m…\u001b[0m                                    │ \u001b[2m…\u001b[0m                                    │\n",
       "└─────────────────────────┴─────────────┴───────────┴─────────┴────────────┴───────────┴─────────┴───────────────┴────────────┴──────────────┴──────────────────────────────────────┴──────────────────────────────────────┘"
      ]
     },
     "execution_count": 13,
     "metadata": {},
     "output_type": "execute_result"
    }
   ],
   "source": [
    "db.connection.table(\"ProteinInfo_organism\")"
   ]
  },
  {
   "cell_type": "code",
   "execution_count": null,
   "metadata": {},
   "outputs": [
    {
     "name": "stdout",
     "output_type": "stream",
     "text": [
      "10\n"
     ]
    }
   ],
   "source": [
    "# Lets filter the blast results for a specific organism\n",
    "target = \"Drosophila melanogaster\"\n",
    "\n",
    "# First, join the ProteinSequence table with the ProteinSequence_organism table\n",
    "prot_seqs = db.connection.table(\"ProteinInfo\")\n",
    "organisms = db.connection.table(\"ProteinInfo_organism\")\n",
    "joined = prot_seqs.join(\n",
    "    organisms,\n",
    "    prot_seqs.ProteinInfo_id == organisms.ProteinInfo_id,\n",
    "    rname=\"organism_{name}\",\n",
    ")\n",
    "\n",
    "# Next, filter the joined table for the target organism\n",
    "filtered = joined.filter(joined.organism_name == target)\n",
    "filtered\n",
    "\n",
    "# Finally, we can get the corresponding ProteinSequence objects\n",
    "results = db.get(\"ProteinInfo\", filtered)\n",
    "print(len(results))"
   ]
  }
 ],
 "metadata": {
  "kernelspec": {
   "display_name": "sdrdm_example",
   "language": "python",
   "name": "python3"
  },
  "language_info": {
   "codemirror_mode": {
    "name": "ipython",
    "version": 3
   },
   "file_extension": ".py",
   "mimetype": "text/x-python",
   "name": "python",
   "nbconvert_exporter": "python",
   "pygments_lexer": "ipython3",
   "version": "3.10.13"
  }
 },
 "nbformat": 4,
 "nbformat_minor": 4
}
