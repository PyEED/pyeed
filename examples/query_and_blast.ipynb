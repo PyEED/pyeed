{
 "cells": [
  {
   "cell_type": "markdown",
   "metadata": {},
   "source": [
    "# Example 1: Get protein information, run BLAST, and dump the results into a database\n"
   ]
  },
  {
   "cell_type": "code",
   "execution_count": 7,
   "metadata": {},
   "outputs": [],
   "source": [
    "%reload_ext autoreload\n",
    "%autoreload 2\n",
    "from pyEED.core import ProteinInfo\n",
    "from pyEED.ncbi.utils import get_nucleotide_sequences"
   ]
  },
  {
   "cell_type": "markdown",
   "metadata": {},
   "source": [
    "## Query NCBI\n",
    "\n",
    "The pyEED library is centered around the `ProteinSequence` object, which integrates available information on protein sequence, corresponding nucleotide sequence, as well as regions and sites within the sequences. The `ProteinSequence` can be initialized directly with a protein sequence accession number."
   ]
  },
  {
   "cell_type": "code",
   "execution_count": 18,
   "metadata": {},
   "outputs": [
    {
     "name": "stdout",
     "output_type": "stream",
     "text": [
      "unmatched site type: other\n",
      "\u001b[4mProteinInfo\u001b[0m\n",
      "├── \u001b[94mid\u001b[0m = proteininfo1\n",
      "├── \u001b[94msource_id\u001b[0m = NP_001287541.1\n",
      "├── \u001b[94mname\u001b[0m = aldolase 1, isoform M\n",
      "├── \u001b[94msequence\u001b[0m = MTTYFNYPSKELQDELREIAQKIVAPGKGILAADESGPTMGKRLQDIGVENTEDNRRAYRQLLFSTDPKLAENISGVILFHETLYQKADDGTPFAEILKKKGIILGIKVDKGVVPLFGSEDEVTTQGLDDLAARCAQYKKDGCDFAKWRCVLKIGKNTPSYQSILENANVLARYASICQSQRIVPIVEPEVLPDGDHDLDRAQKVTETVLAAVYKALSDHHVYLEGTLLKPNMVTAGQSAKKNTPEEIALATVQALRRTVPAAVTGVTFLSGGQSEEEATVNLSAINNVPLIRPWALTFSYGRALQASVLRAWAGKKENIAAGQNELLKRAKANGDAAQGKYVAGSAGAGSGSLFVANHAY\n",
      "├── \u001b[94morganism\u001b[0m\n",
      "│   └── \u001b[4mOrganism\u001b[0m\n",
      "│       ├── \u001b[94mid\u001b[0m = organism1\n",
      "│       ├── \u001b[94mname\u001b[0m = Drosophila melanogaster\n",
      "│       ├── \u001b[94mtaxonomy_id\u001b[0m = taxon:7227\n",
      "│       ├── \u001b[94mdomain\u001b[0m = Eukaryota\n",
      "│       ├── \u001b[94mkingdom\u001b[0m = Metazoa\n",
      "│       ├── \u001b[94mphylum\u001b[0m = Arthropoda\n",
      "│       ├── \u001b[94mtax_class\u001b[0m = Insecta\n",
      "│       ├── \u001b[94morder\u001b[0m = Diptera\n",
      "│       ├── \u001b[94mfamily\u001b[0m = Drosophilidae\n",
      "│       └── \u001b[94mgenus\u001b[0m = Drosophila\n",
      "├── \u001b[94mregions\u001b[0m\n",
      "│   └── 0\n",
      "│       └── \u001b[4mProteinRegion\u001b[0m\n",
      "│           ├── \u001b[94mid\u001b[0m = proteinregion1\n",
      "│           ├── \u001b[94mname\u001b[0m = Glycolytic\n",
      "│           ├── \u001b[94mspans\u001b[0m\n",
      "│           │   └── 0\n",
      "│           │       └── \u001b[4mSpan\u001b[0m\n",
      "│           │           ├── \u001b[94mid\u001b[0m = span2\n",
      "│           │           ├── \u001b[94mstart\u001b[0m = 14\n",
      "│           │           └── \u001b[94mend\u001b[0m = 361\n",
      "│           ├── \u001b[94mnote\u001b[0m = Fructose-bisphosphate aldolase class-I; pfam00274\n",
      "│           └── \u001b[94mcross_reference\u001b[0m = CDD:425574\n",
      "├── \u001b[94msites\u001b[0m\n",
      "│   ├── 0\n",
      "│   │   └── \u001b[4mSite\u001b[0m\n",
      "│   │       ├── \u001b[94mid\u001b[0m = site3\n",
      "│   │       ├── \u001b[94mname\u001b[0m = active\n",
      "│   │       ├── \u001b[94mtype\u001b[0m = active\n",
      "│   │       ├── \u001b[94mpositions\u001b[0m = [33, 34, 35, 38, 107, ...]\n",
      "│   │       └── \u001b[94mcross_ref\u001b[0m = CDD:188635\n",
      "│   ├── 1\n",
      "│   │   └── \u001b[4mSite\u001b[0m\n",
      "│   │       ├── \u001b[94mid\u001b[0m = site4\n",
      "│   │       ├── \u001b[94mname\u001b[0m = intersubunit interface [polypeptide binding]\n",
      "│   │       ├── \u001b[94mtype\u001b[0m = unannotated\n",
      "│   │       ├── \u001b[94mpositions\u001b[0m = [110, 161, 164, 165, 168, ...]\n",
      "│   │       └── \u001b[94mcross_ref\u001b[0m = CDD:188635\n",
      "│   └── 2\n",
      "│       └── \u001b[4mSite\u001b[0m\n",
      "│           ├── \u001b[94mid\u001b[0m = site5\n",
      "│           ├── \u001b[94mname\u001b[0m = catalytic residue [active]\n",
      "│           ├── \u001b[94mtype\u001b[0m = active\n",
      "│           ├── \u001b[94mpositions\u001b[0m = [229, ...]\n",
      "│           └── \u001b[94mcross_ref\u001b[0m = CDD:188635\n",
      "├── \u001b[94mcoding_sequence_ref\u001b[0m\n",
      "│   └── \u001b[4mDNARegion\u001b[0m\n",
      "│       ├── \u001b[94mid\u001b[0m = NM_001300612.1\n",
      "│       ├── \u001b[94mspans\u001b[0m\n",
      "│       │   └── 0\n",
      "│       │       └── \u001b[4mSpan\u001b[0m\n",
      "│       │           ├── \u001b[94mid\u001b[0m = span3\n",
      "│       │           ├── \u001b[94mstart\u001b[0m = 278\n",
      "│       │           └── \u001b[94mend\u001b[0m = 1363\n",
      "│       └── \u001b[94mtype\u001b[0m = coding sequence\n",
      "├── \u001b[94mec_number\u001b[0m = 4.1.2.13\n",
      "└── \u001b[94mmol_weight\u001b[0m = 38916.0\n",
      "\n"
     ]
    }
   ],
   "source": [
    "aldolase = ProteinInfo.from_ncbi(\"NP_001287541.1\")\n",
    "print(aldolase)"
   ]
  },
  {
   "cell_type": "code",
   "execution_count": 44,
   "metadata": {},
   "outputs": [
    {
     "name": "stdout",
     "output_type": "stream",
     "text": [
      "\u001b[4mDNAInfo\u001b[0m\n",
      "├── \u001b[94mid\u001b[0m = dnainfo2\n",
      "├── \u001b[94mname\u001b[0m = Drosophila melanogaster aldolase 1, transcript variant M (Ald1), mRNA\n",
      "├── \u001b[94msequence\u001b[0m = AGTCGGTTGCCCAACACCGTCGGCGACGACCTCCAAACAACCTTTTGGGGTCTCGCTCGGCATGTCTCGCTTATTTCGCTTTGGAATTTCACGTTGACGCCGCAGTCAGCGGTAGCAGAGGCATCGGCAGCGGCAGTAGCAGCGACACGGGCCGAAAATAAAAGCGTTAACCGCTCTCCTCCAGTGCAGCAGCAGCAGCGGACCCAGCCAGTAGCCAGCAGCTAATCACCACATCCCAGATTCAGTTTCCAGTTCGAACTACACTCGAATCTCAAAAATGACGACCTACTTCAACTACCCCAGCAAGGAGCTGCAGGATGAGCTGCGCGAAATCGCCCAGAAAATCGTTGCCCCCGGCAAGGGAATCCTCGCCGCCGATGAGTCCGGCCCAACCATGGGCAAGCGTCTGCAGGACATCGGCGTGGAGAACACCGAGGACAACCGCCGTGCCTACCGTCAGCTGTTGTTCAGCACTGACCCCAAGCTGGCCGAGAACATCTCTGGAGTGATCCTGTTCCACGAGACCCTCTACCAGAAGGCCGATGATGGCACCCCCTTCGCCGAGATCCTGAAGAAGAAGGGAATCATTCTGGGCATCAAGGTCGACAAGGGTGTTGTCCCACTGTTCGGCTCTGAGGATGAGGTCACCACCCAGGGTCTGGATGACCTGGCCGCCCGTTGCGCCCAGTACAAGAAGGACGGTTGCGACTTCGCCAAGTGGCGTTGCGTCCTGAAGATCGGCAAGAACACCCCATCCTACCAGTCGATCCTGGAGAACGCCAATGTCCTGGCCCGCTACGCCTCCATCTGCCAGTCGCAGCGCATCGTCCCAATTGTGGAGCCCGAGGTTCTGCCCGATGGCGATCACGATCTGGACCGCGCCCAGAAGGTCACCGAGACCGTCCTGGCCGCCGTCTACAAGGCCCTGAGCGACCACCACGTCTACCTGGAGGGTACTCTGCTGAAGCCCAACATGGTCACCGCCGGTCAGTCGGCCAAGAAGAACACCCCCGAGGAGATCGCCCTGGCCACCGTGCAGGCTCTGCGCCGCACCGTTCCCGCCGCCGTTACTGGCGTGACCTTCCTGTCTGGAGGTCAGTCCGAGGAGGAGGCCACCGTCAACCTGAGTGCCATCAACAACGTTCCCTTGATCCGCCCATGGGCCCTCACCTTCTCGTACGGTCGTGCCCTGCAGGCCTCCGTCCTGCGTGCCTGGGCTGGCAAGAAGGAGAACATTGCTGCCGGCCAGAACGAGCTGCTTAAGCGCGCCAAGGCCAACGGTGATGCTGCTCAGGGCAAGTACGTTGCCGGCAGCGCTGGTGCCGGATCTGGATCCCTGTTCGTGGCCAACCACGCCTACTAAGGCGTTTGGTTGGACCTTGGCTACACGTTACTACAAAAAAAAAAAATACGAAGCAGATTGCTGGAAAAGTTTGGCAGATTTGTTTATTTTTACCTTAGTTTCGAGAGCTAAGCAAAGCAAGCATTACAAAAAATAACCAAAAAAAAAAAGATGAACGATTACACTTTCAAAACATGTTATATATATGTAGTACGTGACATTTTTGCAAGTTTATTATATTATAACATTATTTTAGAGAACAACTAAATGATGAGTGCAGAAGAAAGGATTGAATATGTTCGATGGAGAAACAATTCAACAATTCAAACAATTTTATCTTTAGTTTTAAGCACATGAACCTATTATTGTTGAAGTTATTACATTTCTATTCTATTATTATGATTATGCAAGATTTCAATGAAAACAAAAGGATATGTCGTAAATCGCTAGGCTAAAGCACATTTTATGGTGAAAACAACAGCAATCACTATCAGCAACACCTAAATGTATGAGGCTTGTAACATTGAAGTCGCACAACGTTTTTTGAATTTTTTTAATGTTTTATAAAAAGATCCACTATGAAAATCGATGTTTTACCATTATTATTATTATTAAACTTTATATTTATGATTGATAAGTATAAGTGAAACAAATGACGAGAATAAACAAACACATTAAAATAAACCCGAAAAGCCCCCAAAACAACTTTATTAACCTTATATACATATATTTACATTGTTAAAAGAGAACTTGTTGTTGC\n",
      "├── \u001b[94morganism\u001b[0m\n",
      "│   └── \u001b[4mOrganism\u001b[0m\n",
      "│       ├── \u001b[94mid\u001b[0m = organism9\n",
      "│       ├── \u001b[94mname\u001b[0m = Drosophila melanogaster\n",
      "│       ├── \u001b[94mtaxonomy_id\u001b[0m = taxon:7227\n",
      "│       ├── \u001b[94mdomain\u001b[0m = Eukaryota\n",
      "│       ├── \u001b[94mkingdom\u001b[0m = Metazoa\n",
      "│       ├── \u001b[94mphylum\u001b[0m = Arthropoda\n",
      "│       ├── \u001b[94mtax_class\u001b[0m = Insecta\n",
      "│       ├── \u001b[94morder\u001b[0m = Diptera\n",
      "│       ├── \u001b[94mfamily\u001b[0m = Drosophilidae\n",
      "│       └── \u001b[94mgenus\u001b[0m = Drosophila\n",
      "├── \u001b[94mregions\u001b[0m\n",
      "│   ├── 0\n",
      "│   │   └── \u001b[4mDNARegion\u001b[0m\n",
      "│   │       ├── \u001b[94mid\u001b[0m = dnaregion31\n",
      "│   │       ├── \u001b[94mname\u001b[0m = Ald1\n",
      "│   │       ├── \u001b[94mspans\u001b[0m\n",
      "│   │       │   └── 0\n",
      "│   │       │       └── \u001b[4mSpan\u001b[0m\n",
      "│   │       │           ├── \u001b[94mid\u001b[0m = span35\n",
      "│   │       │           ├── \u001b[94mstart\u001b[0m = 0\n",
      "│   │       │           └── \u001b[94mend\u001b[0m = 2102\n",
      "│   │       ├── \u001b[94mnote\u001b[0m = Aldolase 1\n",
      "│   │       ├── \u001b[94mcross_reference\u001b[0m = GeneID:43183\n",
      "│   │       └── \u001b[94mtype\u001b[0m = gene\n",
      "│   └── 1\n",
      "│       └── \u001b[4mDNARegion\u001b[0m\n",
      "│           ├── \u001b[94mid\u001b[0m = dnaregion32\n",
      "│           ├── \u001b[94mname\u001b[0m = aldolase 1, isoform M\n",
      "│           ├── \u001b[94mspans\u001b[0m\n",
      "│           │   └── 0\n",
      "│           │       └── \u001b[4mSpan\u001b[0m\n",
      "│           │           ├── \u001b[94mid\u001b[0m = span36\n",
      "│           │           ├── \u001b[94mstart\u001b[0m = 277\n",
      "│           │           └── \u001b[94mend\u001b[0m = 1363\n",
      "│           ├── \u001b[94mnote\u001b[0m = CG6058 gene product from transcript CG6058-RM; CG6058-PM; Ald1-PM; aldolase; fructose 1,6 biphosphate-aldolase A\n",
      "│           ├── \u001b[94mcross_reference\u001b[0m = NP_001287541.1\n",
      "│           └── \u001b[94mtype\u001b[0m = coding sequence\n",
      "└── \u001b[94msource_id\u001b[0m = NM_001300612.1\n",
      "\n"
     ]
    }
   ],
   "source": [
    "# Get the corresponding DNA sequence\n",
    "aldolase_dna = aldolase.get_dna()\n",
    "print(aldolase_dna)"
   ]
  },
  {
   "cell_type": "markdown",
   "metadata": {},
   "source": [
    "## BLAST search"
   ]
  },
  {
   "cell_type": "code",
   "execution_count": 19,
   "metadata": {},
   "outputs": [
    {
     "name": "stdout",
     "output_type": "stream",
     "text": [
      "Running pblast search for aldolase 1, isoform M from Drosophila melanogaster...\n"
     ]
    },
    {
     "name": "stderr",
     "output_type": "stream",
     "text": [
      "Fetching protein sequences:   0%|          | 0/40 [00:00<?, ?it/s]"
     ]
    },
    {
     "name": "stdout",
     "output_type": "stream",
     "text": [
      "unmatched site type: other\n"
     ]
    },
    {
     "name": "stderr",
     "output_type": "stream",
     "text": [
      "Fetching protein sequences:   2%|▎         | 1/40 [00:02<01:19,  2.04s/it]"
     ]
    },
    {
     "name": "stdout",
     "output_type": "stream",
     "text": [
      "unmatched site type: other\n"
     ]
    },
    {
     "name": "stderr",
     "output_type": "stream",
     "text": [
      "Fetching protein sequences:   5%|▌         | 2/40 [00:04<01:15,  2.00s/it]"
     ]
    },
    {
     "name": "stdout",
     "output_type": "stream",
     "text": [
      "unmatched site type: other\n"
     ]
    },
    {
     "name": "stderr",
     "output_type": "stream",
     "text": [
      "Fetching protein sequences:   8%|▊         | 3/40 [00:05<01:12,  1.96s/it]"
     ]
    },
    {
     "name": "stdout",
     "output_type": "stream",
     "text": [
      "unmatched site type: other\n"
     ]
    },
    {
     "name": "stderr",
     "output_type": "stream",
     "text": [
      "Fetching protein sequences:  10%|█         | 4/40 [00:07<01:08,  1.91s/it]"
     ]
    },
    {
     "name": "stdout",
     "output_type": "stream",
     "text": [
      "unmatched site type: other\n"
     ]
    },
    {
     "name": "stderr",
     "output_type": "stream",
     "text": [
      "Fetching protein sequences:  12%|█▎        | 5/40 [00:09<01:03,  1.81s/it]"
     ]
    },
    {
     "name": "stdout",
     "output_type": "stream",
     "text": [
      "unmatched site type: other\n"
     ]
    },
    {
     "name": "stderr",
     "output_type": "stream",
     "text": [
      "Fetching protein sequences:  15%|█▌        | 6/40 [00:11<01:03,  1.87s/it]"
     ]
    },
    {
     "name": "stdout",
     "output_type": "stream",
     "text": [
      "unmatched site type: other\n"
     ]
    },
    {
     "name": "stderr",
     "output_type": "stream",
     "text": [
      "Fetching protein sequences:  18%|█▊        | 7/40 [00:13<01:01,  1.86s/it]"
     ]
    },
    {
     "name": "stdout",
     "output_type": "stream",
     "text": [
      "unmatched site type: other\n"
     ]
    },
    {
     "name": "stderr",
     "output_type": "stream",
     "text": [
      "Fetching protein sequences:  20%|██        | 8/40 [00:15<01:01,  1.92s/it]"
     ]
    },
    {
     "name": "stdout",
     "output_type": "stream",
     "text": [
      "unmatched site type: other\n"
     ]
    },
    {
     "name": "stderr",
     "output_type": "stream",
     "text": [
      "Fetching protein sequences:  22%|██▎       | 9/40 [00:17<00:58,  1.90s/it]"
     ]
    },
    {
     "name": "stdout",
     "output_type": "stream",
     "text": [
      "unmatched site type: other\n"
     ]
    },
    {
     "name": "stderr",
     "output_type": "stream",
     "text": [
      "Fetching protein sequences:  25%|██▌       | 10/40 [00:19<00:57,  1.93s/it]"
     ]
    },
    {
     "name": "stdout",
     "output_type": "stream",
     "text": [
      "unmatched site type: other\n"
     ]
    },
    {
     "name": "stderr",
     "output_type": "stream",
     "text": [
      "Fetching protein sequences:  28%|██▊       | 11/40 [00:20<00:54,  1.89s/it]"
     ]
    },
    {
     "name": "stdout",
     "output_type": "stream",
     "text": [
      "unmatched site type: other\n"
     ]
    },
    {
     "name": "stderr",
     "output_type": "stream",
     "text": [
      "Fetching protein sequences:  30%|███       | 12/40 [00:22<00:52,  1.87s/it]"
     ]
    },
    {
     "name": "stdout",
     "output_type": "stream",
     "text": [
      "unmatched site type: other\n"
     ]
    },
    {
     "name": "stderr",
     "output_type": "stream",
     "text": [
      "Fetching protein sequences:  32%|███▎      | 13/40 [00:24<00:51,  1.89s/it]"
     ]
    },
    {
     "name": "stdout",
     "output_type": "stream",
     "text": [
      "unmatched site type: other\n"
     ]
    },
    {
     "name": "stderr",
     "output_type": "stream",
     "text": [
      "Fetching protein sequences:  35%|███▌      | 14/40 [00:27<00:53,  2.08s/it]"
     ]
    },
    {
     "name": "stdout",
     "output_type": "stream",
     "text": [
      "unmatched site type: other\n"
     ]
    },
    {
     "name": "stderr",
     "output_type": "stream",
     "text": [
      "Fetching protein sequences:  38%|███▊      | 15/40 [00:29<00:51,  2.05s/it]"
     ]
    },
    {
     "name": "stdout",
     "output_type": "stream",
     "text": [
      "unmatched site type: other\n"
     ]
    },
    {
     "name": "stderr",
     "output_type": "stream",
     "text": [
      "Fetching protein sequences:  40%|████      | 16/40 [00:31<00:48,  2.02s/it]"
     ]
    },
    {
     "name": "stdout",
     "output_type": "stream",
     "text": [
      "unmatched site type: other\n"
     ]
    },
    {
     "name": "stderr",
     "output_type": "stream",
     "text": [
      "Fetching protein sequences:  42%|████▎     | 17/40 [00:33<00:45,  1.98s/it]"
     ]
    },
    {
     "name": "stdout",
     "output_type": "stream",
     "text": [
      "unmatched site type: other\n"
     ]
    },
    {
     "name": "stderr",
     "output_type": "stream",
     "text": [
      "Fetching protein sequences:  45%|████▌     | 18/40 [00:36<00:53,  2.42s/it]"
     ]
    },
    {
     "name": "stdout",
     "output_type": "stream",
     "text": [
      "unmatched site type: other\n"
     ]
    },
    {
     "name": "stderr",
     "output_type": "stream",
     "text": [
      "Fetching protein sequences:  48%|████▊     | 19/40 [00:38<00:47,  2.25s/it]"
     ]
    },
    {
     "name": "stdout",
     "output_type": "stream",
     "text": [
      "unmatched site type: other\n"
     ]
    },
    {
     "name": "stderr",
     "output_type": "stream",
     "text": [
      "Fetching protein sequences:  50%|█████     | 20/40 [00:40<00:41,  2.09s/it]"
     ]
    },
    {
     "name": "stdout",
     "output_type": "stream",
     "text": [
      "unmatched site type: other\n"
     ]
    },
    {
     "name": "stderr",
     "output_type": "stream",
     "text": [
      "Fetching protein sequences:  52%|█████▎    | 21/40 [00:41<00:38,  2.05s/it]"
     ]
    },
    {
     "name": "stdout",
     "output_type": "stream",
     "text": [
      "unmatched site type: other\n"
     ]
    },
    {
     "name": "stderr",
     "output_type": "stream",
     "text": [
      "Fetching protein sequences:  55%|█████▌    | 22/40 [00:43<00:35,  1.97s/it]"
     ]
    },
    {
     "name": "stdout",
     "output_type": "stream",
     "text": [
      "unmatched site type: other\n"
     ]
    },
    {
     "name": "stderr",
     "output_type": "stream",
     "text": [
      "Fetching protein sequences:  57%|█████▊    | 23/40 [00:45<00:33,  1.94s/it]"
     ]
    },
    {
     "name": "stdout",
     "output_type": "stream",
     "text": [
      "unmatched site type: other\n"
     ]
    },
    {
     "name": "stderr",
     "output_type": "stream",
     "text": [
      "Fetching protein sequences:  60%|██████    | 24/40 [00:47<00:31,  1.95s/it]"
     ]
    },
    {
     "name": "stdout",
     "output_type": "stream",
     "text": [
      "unmatched site type: other\n"
     ]
    },
    {
     "name": "stderr",
     "output_type": "stream",
     "text": [
      "Fetching protein sequences:  62%|██████▎   | 25/40 [00:49<00:28,  1.91s/it]"
     ]
    },
    {
     "name": "stdout",
     "output_type": "stream",
     "text": [
      "unmatched site type: other\n"
     ]
    },
    {
     "name": "stderr",
     "output_type": "stream",
     "text": [
      "Fetching protein sequences:  65%|██████▌   | 26/40 [00:51<00:26,  1.90s/it]"
     ]
    },
    {
     "name": "stdout",
     "output_type": "stream",
     "text": [
      "unmatched site type: other\n"
     ]
    },
    {
     "name": "stderr",
     "output_type": "stream",
     "text": [
      "Fetching protein sequences:  68%|██████▊   | 27/40 [00:53<00:24,  1.91s/it]"
     ]
    },
    {
     "name": "stdout",
     "output_type": "stream",
     "text": [
      "unmatched site type: other\n"
     ]
    },
    {
     "name": "stderr",
     "output_type": "stream",
     "text": [
      "Fetching protein sequences:  70%|███████   | 28/40 [00:55<00:22,  1.86s/it]"
     ]
    },
    {
     "name": "stdout",
     "output_type": "stream",
     "text": [
      "unmatched site type: other\n"
     ]
    },
    {
     "name": "stderr",
     "output_type": "stream",
     "text": [
      "Fetching protein sequences:  72%|███████▎  | 29/40 [00:57<00:21,  1.95s/it]"
     ]
    },
    {
     "name": "stdout",
     "output_type": "stream",
     "text": [
      "unmatched site type: other\n"
     ]
    },
    {
     "name": "stderr",
     "output_type": "stream",
     "text": [
      "Fetching protein sequences:  75%|███████▌  | 30/40 [00:59<00:19,  1.97s/it]"
     ]
    },
    {
     "name": "stdout",
     "output_type": "stream",
     "text": [
      "unmatched site type: other\n"
     ]
    },
    {
     "name": "stderr",
     "output_type": "stream",
     "text": [
      "Fetching protein sequences:  78%|███████▊  | 31/40 [01:01<00:18,  2.00s/it]"
     ]
    },
    {
     "name": "stdout",
     "output_type": "stream",
     "text": [
      "unmatched site type: other\n"
     ]
    },
    {
     "name": "stderr",
     "output_type": "stream",
     "text": [
      "Fetching protein sequences:  80%|████████  | 32/40 [01:03<00:16,  2.01s/it]"
     ]
    },
    {
     "name": "stdout",
     "output_type": "stream",
     "text": [
      "unmatched site type: other\n"
     ]
    },
    {
     "name": "stderr",
     "output_type": "stream",
     "text": [
      "Fetching protein sequences:  82%|████████▎ | 33/40 [01:05<00:14,  2.05s/it]"
     ]
    },
    {
     "name": "stdout",
     "output_type": "stream",
     "text": [
      "unmatched site type: other\n"
     ]
    },
    {
     "name": "stderr",
     "output_type": "stream",
     "text": [
      "Fetching protein sequences:  85%|████████▌ | 34/40 [01:07<00:12,  2.02s/it]"
     ]
    },
    {
     "name": "stdout",
     "output_type": "stream",
     "text": [
      "unmatched site type: other\n"
     ]
    },
    {
     "name": "stderr",
     "output_type": "stream",
     "text": [
      "Fetching protein sequences:  88%|████████▊ | 35/40 [01:09<00:09,  1.94s/it]"
     ]
    },
    {
     "name": "stdout",
     "output_type": "stream",
     "text": [
      "unmatched site type: other\n"
     ]
    },
    {
     "name": "stderr",
     "output_type": "stream",
     "text": [
      "Fetching protein sequences:  90%|█████████ | 36/40 [01:11<00:07,  1.94s/it]"
     ]
    },
    {
     "name": "stdout",
     "output_type": "stream",
     "text": [
      "unmatched site type: other\n"
     ]
    },
    {
     "name": "stderr",
     "output_type": "stream",
     "text": [
      "Fetching protein sequences:  92%|█████████▎| 37/40 [01:13<00:05,  1.94s/it]"
     ]
    },
    {
     "name": "stdout",
     "output_type": "stream",
     "text": [
      "unmatched site type: other\n"
     ]
    },
    {
     "name": "stderr",
     "output_type": "stream",
     "text": [
      "Fetching protein sequences:  95%|█████████▌| 38/40 [01:17<00:05,  2.74s/it]"
     ]
    },
    {
     "name": "stdout",
     "output_type": "stream",
     "text": [
      "unmatched site type: other\n"
     ]
    },
    {
     "name": "stderr",
     "output_type": "stream",
     "text": [
      "Fetching protein sequences:  98%|█████████▊| 39/40 [01:19<00:02,  2.53s/it]"
     ]
    },
    {
     "name": "stdout",
     "output_type": "stream",
     "text": [
      "unmatched site type: other\n"
     ]
    },
    {
     "name": "stderr",
     "output_type": "stream",
     "text": [
      "Fetching protein sequences: 100%|██████████| 40/40 [01:21<00:00,  2.04s/it]\n"
     ]
    }
   ],
   "source": [
    "blast_results = aldolase.pblast(n_hits=40)"
   ]
  },
  {
   "cell_type": "markdown",
   "metadata": {},
   "source": [
    "## Storing `ProteinSequence`s in a database\n",
    "\n"
   ]
  },
  {
   "cell_type": "code",
   "execution_count": 1,
   "metadata": {},
   "outputs": [],
   "source": [
    "from sdrdm_database import DBConnector"
   ]
  },
  {
   "cell_type": "markdown",
   "metadata": {},
   "source": [
    "### Setting up a local MySQL database\n",
    "\n",
    "First, a local MySQL database needs to be setup. Therefore, we run a docker container with a MySQL database. \n",
    "If docker is not installed on your system, please follow the instructions on the [docker website](https://docs.docker.com/get-docker/).\n",
    "\n",
    "\n",
    "In case this notebook is run on a macOS system with a M1 chip, the following command needs to be run in the terminal first:\n",
    "\n",
    ">```bash\n",
    ">export DOCKER_DEFAULT_PLATFORM=linux/amd64\n",
    ">```\n",
    "\n",
    "Next, navigate to the directory where this notebook is located and run the following command to start the docker container:\n",
    "\n",
    ">```bash\n",
    ">docker compose up -d\n",
    ">```\n",
    "\n",
    "### Delete contianers\n",
    "\n",
    ">```    \n",
    ">docker rm -vf $(docker ps -aq)\n",
    ">docker rmi -f $(docker images -aq)\n",
    ">```"
   ]
  },
  {
   "cell_type": "markdown",
   "metadata": {},
   "source": [
    "### Connect to the PostgreSQL database"
   ]
  },
  {
   "cell_type": "code",
   "execution_count": null,
   "metadata": {},
   "outputs": [],
   "source": [
    "import toml\n",
    "\n",
    "# Establish a connection to the database\n",
    "db = DBConnector(**toml.load(open(\"./env.toml\")))"
   ]
  },
  {
   "cell_type": "markdown",
   "metadata": {},
   "source": [
    "### Create tables for `ProteinInfo`"
   ]
  },
  {
   "cell_type": "code",
   "execution_count": 3,
   "metadata": {},
   "outputs": [
    {
     "name": "stdout",
     "output_type": "stream",
     "text": [
      "🎉 Connected                                                                                        \n"
     ]
    }
   ],
   "source": []
  },
  {
   "cell_type": "code",
   "execution_count": 11,
   "metadata": {},
   "outputs": [
    {
     "name": "stdout",
     "output_type": "stream",
     "text": [
      "\n",
      "🚀 Creating tables for data model ProteinInfo\n",
      "│\n",
      "├── Table __model_meta__ not existing. Adding to DB!\n",
      "├── Added table model 'ProteinInfo' to __model_meta__ table\n",
      "├── Model 'ProteinInfo' already registered. Skipping.\n",
      "├── Created table 'ProteinInfo'\n",
      "├── Added table model 'ProteinInfo_coding_sequence_ref' to __model_meta__ table\n",
      "├── Created table 'ProteinInfo_coding_sequence_ref'\n",
      "├── Added table model 'DNARegion_spans' to __model_meta__ table\n",
      "├── Created table 'DNARegion_spans'\n",
      "├── Added table model 'ProteinInfo_sites' to __model_meta__ table\n",
      "├── Created table 'ProteinInfo_sites'\n",
      "├── Created table 'Site_positions'\n",
      "├── Added table model 'ProteinInfo_regions' to __model_meta__ table\n",
      "├── Created table 'ProteinInfo_regions'\n",
      "├── Added table model 'ProteinRegion_spans' to __model_meta__ table\n",
      "├── Created table 'ProteinRegion_spans'\n",
      "├── Added table model 'ProteinInfo_organism' to __model_meta__ table\n",
      "├── Created table 'ProteinInfo_organism'\n",
      "├── Added primary key 'ProteinInfo_id' to table ProteinInfo\n",
      "├── Added primary key 'ProteinInfo_coding_sequence_ref_id' to table ProteinInfo_coding_sequence_ref\n",
      "├── Added primary key 'DNARegion_spans_id' to table DNARegion_spans\n",
      "├── Added primary key 'ProteinInfo_sites_id' to table ProteinInfo_sites\n",
      "├── Added primary key 'ProteinInfo_regions_id' to table ProteinInfo_regions\n",
      "├── Added primary key 'ProteinRegion_spans_id' to table ProteinRegion_spans\n",
      "├── Added primary key 'ProteinInfo_organism_id' to table ProteinInfo_organism\n",
      "├── Added foreign key 'ProteinInfo_id'(ProteinInfo) to table ProteinInfo_coding_sequence_ref\n",
      "├── Added foreign key 'ProteinInfo_coding_sequence_ref_id'(ProteinInfo_coding_sequence_ref) to table DNARegion_spans\n",
      "├── Added foreign key 'ProteinInfo_id'(ProteinInfo) to table ProteinInfo_sites\n",
      "├── Added foreign key 'ProteinInfo_sites_id'(ProteinInfo_sites) to table Site_positions\n",
      "├── Added foreign key 'ProteinInfo_id'(ProteinInfo) to table ProteinInfo_regions\n",
      "├── Added foreign key 'ProteinInfo_regions_id'(ProteinInfo_regions) to table ProteinRegion_spans\n",
      "├── Added foreign key 'ProteinInfo_id'(ProteinInfo) to table ProteinInfo_organism\n",
      "│\n",
      "╰── 🎉 Created all tables for data model ProteinInfo\n",
      "\n"
     ]
    }
   ],
   "source": [
    "db.create_tables(\n",
    "    model=ProteinInfo,\n",
    "    markdown_path=\"/Users/max/Documents/GitHub/pyeed/specifications/data_model.md\",\n",
    ")"
   ]
  },
  {
   "cell_type": "code",
   "execution_count": 20,
   "metadata": {},
   "outputs": [
    {
     "data": {
      "text/plain": [
       "['DNARegion_spans',\n",
       " 'ProteinInfo',\n",
       " 'ProteinInfo_coding_sequence_ref',\n",
       " 'ProteinInfo_organism',\n",
       " 'ProteinInfo_regions',\n",
       " 'ProteinInfo_sites',\n",
       " 'ProteinRegion_spans',\n",
       " 'Site_positions',\n",
       " '__model_meta__']"
      ]
     },
     "execution_count": 20,
     "metadata": {},
     "output_type": "execute_result"
    }
   ],
   "source": [
    "# See all created table names\n",
    "db.connection.list_tables()"
   ]
  },
  {
   "cell_type": "markdown",
   "metadata": {},
   "source": [
    "### Populate the database with `ProteinSequence`s"
   ]
  },
  {
   "cell_type": "code",
   "execution_count": 21,
   "metadata": {},
   "outputs": [
    {
     "name": "stdout",
     "output_type": "stream",
     "text": [
      "Added dataset ProteinInfo (d8fc0700-79f5-441b-9bdb-ee5f130ab98e)\n",
      "Added dataset ProteinInfo (1e27e532-bc83-4f63-9ae3-000ccbc27f10)\n",
      "Added dataset ProteinInfo (5eeafb15-39fb-4365-bce0-450683dd12f8)\n",
      "Added dataset ProteinInfo (716c5707-1ce7-4e67-8d38-7831b77f0999)\n",
      "Added dataset ProteinInfo (da052e60-3d00-4b82-b13b-05865561cd7f)\n",
      "Added dataset ProteinInfo (18686461-4773-4445-9b8f-9ff6c2cb3d08)\n",
      "Added dataset ProteinInfo (4ea0ec73-681f-4d63-9b91-137932904dbc)\n",
      "Added dataset ProteinInfo (bce894ee-79a5-4f6a-a023-edf5e572c966)\n",
      "Added dataset ProteinInfo (96f4d45d-d479-45db-bc47-776cd48bfd3b)\n",
      "Added dataset ProteinInfo (0d225556-93a7-462a-a911-f375aa846c28)\n",
      "Added dataset ProteinInfo (1d4ba9f1-1cfe-4224-86b0-b7e232b6656a)\n",
      "Added dataset ProteinInfo (6a2dc829-30ec-4405-8127-ec4489411bac)\n",
      "Added dataset ProteinInfo (cc561673-ca13-4fde-af6b-195361f93bd0)\n",
      "Added dataset ProteinInfo (6d5bc926-68e7-4f5f-973d-e9ad570ab5bb)\n",
      "Added dataset ProteinInfo (da0d28c4-2948-4aa9-9b16-ec7fc22698ec)\n",
      "Added dataset ProteinInfo (99fded3e-d63d-49cc-a353-da3faff7a39f)\n",
      "Added dataset ProteinInfo (b91a6b4f-5af9-4510-a3c9-74be6aa32ad4)\n",
      "Added dataset ProteinInfo (1bbf120d-2a4f-47a8-880d-77c4f2771b69)\n",
      "Added dataset ProteinInfo (e57a42a4-5c60-4cb2-8ff2-85cadfb500eb)\n",
      "Added dataset ProteinInfo (d1c79250-eb27-4cb5-a7cd-9b04e695da22)\n",
      "Added dataset ProteinInfo (aff4d025-395d-43d1-9d25-bab16797dd26)\n",
      "Added dataset ProteinInfo (0e9440b6-8318-4b75-8763-d806b1ad592a)\n",
      "Added dataset ProteinInfo (27f530a6-d9e1-4655-8e63-a4b10204a6c3)\n",
      "Added dataset ProteinInfo (601259df-5899-4936-8151-afd32438cef4)\n",
      "Added dataset ProteinInfo (ebe8d302-d496-4d40-83e0-977ff723be22)\n",
      "Added dataset ProteinInfo (99016f65-8944-4aab-a4ba-7dbee29087fe)\n",
      "Added dataset ProteinInfo (8b68abf2-c6dd-4a94-a0b9-071f0d116369)\n",
      "Added dataset ProteinInfo (bc0e2b9f-c1a3-4458-bb62-5018d9af8a8d)\n",
      "Added dataset ProteinInfo (2757b1fb-9a07-430f-bacc-2d229f52fb8f)\n",
      "Added dataset ProteinInfo (3564e427-38fd-4a1c-828b-f7300b1a01fe)\n",
      "Added dataset ProteinInfo (c0292b0e-6b76-4f05-9ab9-2ee9d84d69bf)\n",
      "Added dataset ProteinInfo (93225f8e-755e-4f52-b1e1-e92a37cf376b)\n",
      "Added dataset ProteinInfo (ff9dcc0f-0358-4d4e-b7a7-abf45c76bd21)\n",
      "Added dataset ProteinInfo (8b4984f4-506f-488a-b488-3f79a0015525)\n",
      "Added dataset ProteinInfo (649e1713-03f1-4bf7-a01d-d517b6c916cf)\n",
      "Added dataset ProteinInfo (75613fa8-d2c8-49ce-89b2-a9a42f518546)\n",
      "Added dataset ProteinInfo (c4923ce7-fbf7-4200-b9a7-bc7ebaef9d01)\n",
      "Added dataset ProteinInfo (29a0b208-5900-47ba-85ea-d9b623da7a2d)\n",
      "Added dataset ProteinInfo (e6eea8cb-4734-4762-85e3-a8617f43d1d5)\n",
      "Added dataset ProteinInfo (286416af-199e-4bc3-92cb-068065e2c549)\n"
     ]
    }
   ],
   "source": [
    "# Insert all blast results into the database\n",
    "db.insert(*blast_results, verbose=True)"
   ]
  },
  {
   "cell_type": "markdown",
   "metadata": {},
   "source": [
    "### Look at entries in the database"
   ]
  },
  {
   "cell_type": "code",
   "execution_count": 30,
   "metadata": {},
   "outputs": [
    {
     "data": {
      "text/html": [
       "<pre style=\"white-space:pre;overflow-x:auto;line-height:normal;font-family:Menlo,'DejaVu Sans Mono',consolas,'Courier New',monospace\">┏━━━━━━━━━━━━━━━━━━━━━━━━━┳━━━━━━━━━━━━━┳━━━━━━━━━━━┳━━━━━━━━━┳━━━━━━━━━━━━┳━━━━━━━━━━━┳━━━━━━━━━┳━━━━━━━━━━━━━━━┳━━━━━━━━━━━━┳━━━━━━━━━┳━━━━━━━━━━━━━━━━━━━━━━━━━━━━━━━━━━━━━━┳━━━━━━━━━━━━━━━━━━━━━━━━━━━━━━━━━━━━━━┓\n",
       "┃<span style=\"font-weight: bold\"> name                    </span>┃<span style=\"font-weight: bold\"> taxonomy_id </span>┃<span style=\"font-weight: bold\"> domain    </span>┃<span style=\"font-weight: bold\"> kingdom </span>┃<span style=\"font-weight: bold\"> phylum     </span>┃<span style=\"font-weight: bold\"> tax_class </span>┃<span style=\"font-weight: bold\"> order   </span>┃<span style=\"font-weight: bold\"> family        </span>┃<span style=\"font-weight: bold\"> genus      </span>┃<span style=\"font-weight: bold\"> species </span>┃<span style=\"font-weight: bold\"> ProteinInfo_organism_id              </span>┃<span style=\"font-weight: bold\"> ProteinInfo_id                       </span>┃\n",
       "┡━━━━━━━━━━━━━━━━━━━━━━━━━╇━━━━━━━━━━━━━╇━━━━━━━━━━━╇━━━━━━━━━╇━━━━━━━━━━━━╇━━━━━━━━━━━╇━━━━━━━━━╇━━━━━━━━━━━━━━━╇━━━━━━━━━━━━╇━━━━━━━━━╇━━━━━━━━━━━━━━━━━━━━━━━━━━━━━━━━━━━━━━╇━━━━━━━━━━━━━━━━━━━━━━━━━━━━━━━━━━━━━━┩\n",
       "│ <span style=\"color: #7f7f7f; text-decoration-color: #7f7f7f\">string</span>                  │ <span style=\"color: #7f7f7f; text-decoration-color: #7f7f7f\">!string</span>     │ <span style=\"color: #7f7f7f; text-decoration-color: #7f7f7f\">string</span>    │ <span style=\"color: #7f7f7f; text-decoration-color: #7f7f7f\">string</span>  │ <span style=\"color: #7f7f7f; text-decoration-color: #7f7f7f\">string</span>     │ <span style=\"color: #7f7f7f; text-decoration-color: #7f7f7f\">string</span>    │ <span style=\"color: #7f7f7f; text-decoration-color: #7f7f7f\">string</span>  │ <span style=\"color: #7f7f7f; text-decoration-color: #7f7f7f\">string</span>        │ <span style=\"color: #7f7f7f; text-decoration-color: #7f7f7f\">string</span>     │ <span style=\"color: #7f7f7f; text-decoration-color: #7f7f7f\">string</span>  │ <span style=\"color: #7f7f7f; text-decoration-color: #7f7f7f\">!string</span>                              │ <span style=\"color: #7f7f7f; text-decoration-color: #7f7f7f\">string</span>                               │\n",
       "├─────────────────────────┼─────────────┼───────────┼─────────┼────────────┼───────────┼─────────┼───────────────┼────────────┼─────────┼──────────────────────────────────────┼──────────────────────────────────────┤\n",
       "│ <span style=\"color: #008000; text-decoration-color: #008000\">Drosophila melanogaster</span> │ <span style=\"color: #008000; text-decoration-color: #008000\">taxon:7227 </span> │ <span style=\"color: #008000; text-decoration-color: #008000\">Eukaryota</span> │ <span style=\"color: #008000; text-decoration-color: #008000\">Metazoa</span> │ <span style=\"color: #008000; text-decoration-color: #008000\">Arthropoda</span> │ <span style=\"color: #008000; text-decoration-color: #008000\">Insecta  </span> │ <span style=\"color: #008000; text-decoration-color: #008000\">Diptera</span> │ <span style=\"color: #008000; text-decoration-color: #008000\">Drosophilidae</span> │ <span style=\"color: #008000; text-decoration-color: #008000\">Drosophila</span> │ <span style=\"color: #7f7f7f; text-decoration-color: #7f7f7f\">NULL</span>    │ <span style=\"color: #008000; text-decoration-color: #008000\">c8a9ea92-4a25-4374-b040-61f643f31288</span> │ <span style=\"color: #008000; text-decoration-color: #008000\">eda0bbaf-0675-43cc-83b1-c2bad4557805</span> │\n",
       "│ <span style=\"color: #008000; text-decoration-color: #008000\">Drosophila melanogaster</span> │ <span style=\"color: #008000; text-decoration-color: #008000\">taxon:7227 </span> │ <span style=\"color: #008000; text-decoration-color: #008000\">Eukaryota</span> │ <span style=\"color: #008000; text-decoration-color: #008000\">Metazoa</span> │ <span style=\"color: #008000; text-decoration-color: #008000\">Arthropoda</span> │ <span style=\"color: #008000; text-decoration-color: #008000\">Insecta  </span> │ <span style=\"color: #008000; text-decoration-color: #008000\">Diptera</span> │ <span style=\"color: #008000; text-decoration-color: #008000\">Drosophilidae</span> │ <span style=\"color: #008000; text-decoration-color: #008000\">Drosophila</span> │ <span style=\"color: #7f7f7f; text-decoration-color: #7f7f7f\">NULL</span>    │ <span style=\"color: #008000; text-decoration-color: #008000\">2513a143-0ce4-4ca9-8d14-daef3084d6f0</span> │ <span style=\"color: #008000; text-decoration-color: #008000\">d8fc0700-79f5-441b-9bdb-ee5f130ab98e</span> │\n",
       "│ <span style=\"color: #008000; text-decoration-color: #008000\">Drosophila melanogaster</span> │ <span style=\"color: #008000; text-decoration-color: #008000\">taxon:7227 </span> │ <span style=\"color: #008000; text-decoration-color: #008000\">Eukaryota</span> │ <span style=\"color: #008000; text-decoration-color: #008000\">Metazoa</span> │ <span style=\"color: #008000; text-decoration-color: #008000\">Arthropoda</span> │ <span style=\"color: #008000; text-decoration-color: #008000\">Insecta  </span> │ <span style=\"color: #008000; text-decoration-color: #008000\">Diptera</span> │ <span style=\"color: #008000; text-decoration-color: #008000\">Drosophilidae</span> │ <span style=\"color: #008000; text-decoration-color: #008000\">Drosophila</span> │ <span style=\"color: #7f7f7f; text-decoration-color: #7f7f7f\">NULL</span>    │ <span style=\"color: #008000; text-decoration-color: #008000\">489b8edb-b6cf-43a4-8f49-a3a855be223f</span> │ <span style=\"color: #008000; text-decoration-color: #008000\">1e27e532-bc83-4f63-9ae3-000ccbc27f10</span> │\n",
       "│ <span style=\"color: #008000; text-decoration-color: #008000\">Drosophila sechellia   </span> │ <span style=\"color: #008000; text-decoration-color: #008000\">taxon:7238 </span> │ <span style=\"color: #008000; text-decoration-color: #008000\">Eukaryota</span> │ <span style=\"color: #008000; text-decoration-color: #008000\">Metazoa</span> │ <span style=\"color: #008000; text-decoration-color: #008000\">Arthropoda</span> │ <span style=\"color: #008000; text-decoration-color: #008000\">Insecta  </span> │ <span style=\"color: #008000; text-decoration-color: #008000\">Diptera</span> │ <span style=\"color: #008000; text-decoration-color: #008000\">Drosophilidae</span> │ <span style=\"color: #008000; text-decoration-color: #008000\">Drosophila</span> │ <span style=\"color: #7f7f7f; text-decoration-color: #7f7f7f\">NULL</span>    │ <span style=\"color: #008000; text-decoration-color: #008000\">ebd75b3a-c599-41da-bc11-c5d7f73b499c</span> │ <span style=\"color: #008000; text-decoration-color: #008000\">5eeafb15-39fb-4365-bce0-450683dd12f8</span> │\n",
       "│ <span style=\"color: #008000; text-decoration-color: #008000\">Drosophila simulans    </span> │ <span style=\"color: #008000; text-decoration-color: #008000\">taxon:7240 </span> │ <span style=\"color: #008000; text-decoration-color: #008000\">Eukaryota</span> │ <span style=\"color: #008000; text-decoration-color: #008000\">Metazoa</span> │ <span style=\"color: #008000; text-decoration-color: #008000\">Arthropoda</span> │ <span style=\"color: #008000; text-decoration-color: #008000\">Insecta  </span> │ <span style=\"color: #008000; text-decoration-color: #008000\">Diptera</span> │ <span style=\"color: #008000; text-decoration-color: #008000\">Drosophilidae</span> │ <span style=\"color: #008000; text-decoration-color: #008000\">Drosophila</span> │ <span style=\"color: #7f7f7f; text-decoration-color: #7f7f7f\">NULL</span>    │ <span style=\"color: #008000; text-decoration-color: #008000\">d0c8ea33-c66e-4f70-b522-427149da6c6a</span> │ <span style=\"color: #008000; text-decoration-color: #008000\">716c5707-1ce7-4e67-8d38-7831b77f0999</span> │\n",
       "│ <span style=\"color: #008000; text-decoration-color: #008000\">Drosophila melanogaster</span> │ <span style=\"color: #008000; text-decoration-color: #008000\">taxon:7227 </span> │ <span style=\"color: #008000; text-decoration-color: #008000\">Eukaryota</span> │ <span style=\"color: #008000; text-decoration-color: #008000\">Metazoa</span> │ <span style=\"color: #008000; text-decoration-color: #008000\">Arthropoda</span> │ <span style=\"color: #008000; text-decoration-color: #008000\">Insecta  </span> │ <span style=\"color: #008000; text-decoration-color: #008000\">Diptera</span> │ <span style=\"color: #008000; text-decoration-color: #008000\">Drosophilidae</span> │ <span style=\"color: #008000; text-decoration-color: #008000\">Drosophila</span> │ <span style=\"color: #7f7f7f; text-decoration-color: #7f7f7f\">NULL</span>    │ <span style=\"color: #008000; text-decoration-color: #008000\">e2af931e-d0a7-46c2-8825-c3dd861f2f0e</span> │ <span style=\"color: #008000; text-decoration-color: #008000\">da052e60-3d00-4b82-b13b-05865561cd7f</span> │\n",
       "│ <span style=\"color: #008000; text-decoration-color: #008000\">Drosophila erecta      </span> │ <span style=\"color: #008000; text-decoration-color: #008000\">taxon:7220 </span> │ <span style=\"color: #008000; text-decoration-color: #008000\">Eukaryota</span> │ <span style=\"color: #008000; text-decoration-color: #008000\">Metazoa</span> │ <span style=\"color: #008000; text-decoration-color: #008000\">Arthropoda</span> │ <span style=\"color: #008000; text-decoration-color: #008000\">Insecta  </span> │ <span style=\"color: #008000; text-decoration-color: #008000\">Diptera</span> │ <span style=\"color: #008000; text-decoration-color: #008000\">Drosophilidae</span> │ <span style=\"color: #008000; text-decoration-color: #008000\">Drosophila</span> │ <span style=\"color: #7f7f7f; text-decoration-color: #7f7f7f\">NULL</span>    │ <span style=\"color: #008000; text-decoration-color: #008000\">d54f2216-e3da-46bb-9179-8c8756cfbefd</span> │ <span style=\"color: #008000; text-decoration-color: #008000\">18686461-4773-4445-9b8f-9ff6c2cb3d08</span> │\n",
       "│ <span style=\"color: #008000; text-decoration-color: #008000\">Drosophila yakuba      </span> │ <span style=\"color: #008000; text-decoration-color: #008000\">taxon:7245 </span> │ <span style=\"color: #008000; text-decoration-color: #008000\">Eukaryota</span> │ <span style=\"color: #008000; text-decoration-color: #008000\">Metazoa</span> │ <span style=\"color: #008000; text-decoration-color: #008000\">Arthropoda</span> │ <span style=\"color: #008000; text-decoration-color: #008000\">Insecta  </span> │ <span style=\"color: #008000; text-decoration-color: #008000\">Diptera</span> │ <span style=\"color: #008000; text-decoration-color: #008000\">Drosophilidae</span> │ <span style=\"color: #008000; text-decoration-color: #008000\">Drosophila</span> │ <span style=\"color: #7f7f7f; text-decoration-color: #7f7f7f\">NULL</span>    │ <span style=\"color: #008000; text-decoration-color: #008000\">0bdfe84c-51dd-4d18-85f7-a45e5f314a23</span> │ <span style=\"color: #008000; text-decoration-color: #008000\">4ea0ec73-681f-4d63-9b91-137932904dbc</span> │\n",
       "│ <span style=\"color: #008000; text-decoration-color: #008000\">Drosophila melanogaster</span> │ <span style=\"color: #008000; text-decoration-color: #008000\">taxon:7227 </span> │ <span style=\"color: #008000; text-decoration-color: #008000\">Eukaryota</span> │ <span style=\"color: #008000; text-decoration-color: #008000\">Metazoa</span> │ <span style=\"color: #008000; text-decoration-color: #008000\">Arthropoda</span> │ <span style=\"color: #008000; text-decoration-color: #008000\">Insecta  </span> │ <span style=\"color: #008000; text-decoration-color: #008000\">Diptera</span> │ <span style=\"color: #008000; text-decoration-color: #008000\">Drosophilidae</span> │ <span style=\"color: #008000; text-decoration-color: #008000\">Drosophila</span> │ <span style=\"color: #7f7f7f; text-decoration-color: #7f7f7f\">NULL</span>    │ <span style=\"color: #008000; text-decoration-color: #008000\">d25ae0af-4383-4e32-a02c-af9327ff12f9</span> │ <span style=\"color: #008000; text-decoration-color: #008000\">bce894ee-79a5-4f6a-a023-edf5e572c966</span> │\n",
       "│ <span style=\"color: #008000; text-decoration-color: #008000\">Drosophila teissieri   </span> │ <span style=\"color: #008000; text-decoration-color: #008000\">taxon:7243 </span> │ <span style=\"color: #008000; text-decoration-color: #008000\">Eukaryota</span> │ <span style=\"color: #008000; text-decoration-color: #008000\">Metazoa</span> │ <span style=\"color: #008000; text-decoration-color: #008000\">Arthropoda</span> │ <span style=\"color: #008000; text-decoration-color: #008000\">Insecta  </span> │ <span style=\"color: #008000; text-decoration-color: #008000\">Diptera</span> │ <span style=\"color: #008000; text-decoration-color: #008000\">Drosophilidae</span> │ <span style=\"color: #008000; text-decoration-color: #008000\">Drosophila</span> │ <span style=\"color: #7f7f7f; text-decoration-color: #7f7f7f\">NULL</span>    │ <span style=\"color: #008000; text-decoration-color: #008000\">3e0ef82a-cf6a-4f5b-a4b8-b4a82da9f088</span> │ <span style=\"color: #008000; text-decoration-color: #008000\">96f4d45d-d479-45db-bc47-776cd48bfd3b</span> │\n",
       "│ <span style=\"color: #7f7f7f; text-decoration-color: #7f7f7f\">…</span>                       │ <span style=\"color: #7f7f7f; text-decoration-color: #7f7f7f\">…</span>           │ <span style=\"color: #7f7f7f; text-decoration-color: #7f7f7f\">…</span>         │ <span style=\"color: #7f7f7f; text-decoration-color: #7f7f7f\">…</span>       │ <span style=\"color: #7f7f7f; text-decoration-color: #7f7f7f\">…</span>          │ <span style=\"color: #7f7f7f; text-decoration-color: #7f7f7f\">…</span>         │ <span style=\"color: #7f7f7f; text-decoration-color: #7f7f7f\">…</span>       │ <span style=\"color: #7f7f7f; text-decoration-color: #7f7f7f\">…</span>             │ <span style=\"color: #7f7f7f; text-decoration-color: #7f7f7f\">…</span>          │ <span style=\"color: #7f7f7f; text-decoration-color: #7f7f7f\">…</span>       │ <span style=\"color: #7f7f7f; text-decoration-color: #7f7f7f\">…</span>                                    │ <span style=\"color: #7f7f7f; text-decoration-color: #7f7f7f\">…</span>                                    │\n",
       "└─────────────────────────┴─────────────┴───────────┴─────────┴────────────┴───────────┴─────────┴───────────────┴────────────┴─────────┴──────────────────────────────────────┴──────────────────────────────────────┘\n",
       "</pre>\n"
      ],
      "text/plain": [
       "┏━━━━━━━━━━━━━━━━━━━━━━━━━┳━━━━━━━━━━━━━┳━━━━━━━━━━━┳━━━━━━━━━┳━━━━━━━━━━━━┳━━━━━━━━━━━┳━━━━━━━━━┳━━━━━━━━━━━━━━━┳━━━━━━━━━━━━┳━━━━━━━━━┳━━━━━━━━━━━━━━━━━━━━━━━━━━━━━━━━━━━━━━┳━━━━━━━━━━━━━━━━━━━━━━━━━━━━━━━━━━━━━━┓\n",
       "┃\u001b[1m \u001b[0m\u001b[1mname\u001b[0m\u001b[1m                   \u001b[0m\u001b[1m \u001b[0m┃\u001b[1m \u001b[0m\u001b[1mtaxonomy_id\u001b[0m\u001b[1m \u001b[0m┃\u001b[1m \u001b[0m\u001b[1mdomain\u001b[0m\u001b[1m   \u001b[0m\u001b[1m \u001b[0m┃\u001b[1m \u001b[0m\u001b[1mkingdom\u001b[0m\u001b[1m \u001b[0m┃\u001b[1m \u001b[0m\u001b[1mphylum\u001b[0m\u001b[1m    \u001b[0m\u001b[1m \u001b[0m┃\u001b[1m \u001b[0m\u001b[1mtax_class\u001b[0m\u001b[1m \u001b[0m┃\u001b[1m \u001b[0m\u001b[1morder\u001b[0m\u001b[1m  \u001b[0m\u001b[1m \u001b[0m┃\u001b[1m \u001b[0m\u001b[1mfamily\u001b[0m\u001b[1m       \u001b[0m\u001b[1m \u001b[0m┃\u001b[1m \u001b[0m\u001b[1mgenus\u001b[0m\u001b[1m     \u001b[0m\u001b[1m \u001b[0m┃\u001b[1m \u001b[0m\u001b[1mspecies\u001b[0m\u001b[1m \u001b[0m┃\u001b[1m \u001b[0m\u001b[1mProteinInfo_organism_id\u001b[0m\u001b[1m             \u001b[0m\u001b[1m \u001b[0m┃\u001b[1m \u001b[0m\u001b[1mProteinInfo_id\u001b[0m\u001b[1m                      \u001b[0m\u001b[1m \u001b[0m┃\n",
       "┡━━━━━━━━━━━━━━━━━━━━━━━━━╇━━━━━━━━━━━━━╇━━━━━━━━━━━╇━━━━━━━━━╇━━━━━━━━━━━━╇━━━━━━━━━━━╇━━━━━━━━━╇━━━━━━━━━━━━━━━╇━━━━━━━━━━━━╇━━━━━━━━━╇━━━━━━━━━━━━━━━━━━━━━━━━━━━━━━━━━━━━━━╇━━━━━━━━━━━━━━━━━━━━━━━━━━━━━━━━━━━━━━┩\n",
       "│ \u001b[2mstring\u001b[0m                  │ \u001b[2m!string\u001b[0m     │ \u001b[2mstring\u001b[0m    │ \u001b[2mstring\u001b[0m  │ \u001b[2mstring\u001b[0m     │ \u001b[2mstring\u001b[0m    │ \u001b[2mstring\u001b[0m  │ \u001b[2mstring\u001b[0m        │ \u001b[2mstring\u001b[0m     │ \u001b[2mstring\u001b[0m  │ \u001b[2m!string\u001b[0m                              │ \u001b[2mstring\u001b[0m                               │\n",
       "├─────────────────────────┼─────────────┼───────────┼─────────┼────────────┼───────────┼─────────┼───────────────┼────────────┼─────────┼──────────────────────────────────────┼──────────────────────────────────────┤\n",
       "│ \u001b[32mDrosophila melanogaster\u001b[0m │ \u001b[32mtaxon:7227 \u001b[0m │ \u001b[32mEukaryota\u001b[0m │ \u001b[32mMetazoa\u001b[0m │ \u001b[32mArthropoda\u001b[0m │ \u001b[32mInsecta  \u001b[0m │ \u001b[32mDiptera\u001b[0m │ \u001b[32mDrosophilidae\u001b[0m │ \u001b[32mDrosophila\u001b[0m │ \u001b[2mNULL\u001b[0m    │ \u001b[32mc8a9ea92-4a25-4374-b040-61f643f31288\u001b[0m │ \u001b[32meda0bbaf-0675-43cc-83b1-c2bad4557805\u001b[0m │\n",
       "│ \u001b[32mDrosophila melanogaster\u001b[0m │ \u001b[32mtaxon:7227 \u001b[0m │ \u001b[32mEukaryota\u001b[0m │ \u001b[32mMetazoa\u001b[0m │ \u001b[32mArthropoda\u001b[0m │ \u001b[32mInsecta  \u001b[0m │ \u001b[32mDiptera\u001b[0m │ \u001b[32mDrosophilidae\u001b[0m │ \u001b[32mDrosophila\u001b[0m │ \u001b[2mNULL\u001b[0m    │ \u001b[32m2513a143-0ce4-4ca9-8d14-daef3084d6f0\u001b[0m │ \u001b[32md8fc0700-79f5-441b-9bdb-ee5f130ab98e\u001b[0m │\n",
       "│ \u001b[32mDrosophila melanogaster\u001b[0m │ \u001b[32mtaxon:7227 \u001b[0m │ \u001b[32mEukaryota\u001b[0m │ \u001b[32mMetazoa\u001b[0m │ \u001b[32mArthropoda\u001b[0m │ \u001b[32mInsecta  \u001b[0m │ \u001b[32mDiptera\u001b[0m │ \u001b[32mDrosophilidae\u001b[0m │ \u001b[32mDrosophila\u001b[0m │ \u001b[2mNULL\u001b[0m    │ \u001b[32m489b8edb-b6cf-43a4-8f49-a3a855be223f\u001b[0m │ \u001b[32m1e27e532-bc83-4f63-9ae3-000ccbc27f10\u001b[0m │\n",
       "│ \u001b[32mDrosophila sechellia   \u001b[0m │ \u001b[32mtaxon:7238 \u001b[0m │ \u001b[32mEukaryota\u001b[0m │ \u001b[32mMetazoa\u001b[0m │ \u001b[32mArthropoda\u001b[0m │ \u001b[32mInsecta  \u001b[0m │ \u001b[32mDiptera\u001b[0m │ \u001b[32mDrosophilidae\u001b[0m │ \u001b[32mDrosophila\u001b[0m │ \u001b[2mNULL\u001b[0m    │ \u001b[32mebd75b3a-c599-41da-bc11-c5d7f73b499c\u001b[0m │ \u001b[32m5eeafb15-39fb-4365-bce0-450683dd12f8\u001b[0m │\n",
       "│ \u001b[32mDrosophila simulans    \u001b[0m │ \u001b[32mtaxon:7240 \u001b[0m │ \u001b[32mEukaryota\u001b[0m │ \u001b[32mMetazoa\u001b[0m │ \u001b[32mArthropoda\u001b[0m │ \u001b[32mInsecta  \u001b[0m │ \u001b[32mDiptera\u001b[0m │ \u001b[32mDrosophilidae\u001b[0m │ \u001b[32mDrosophila\u001b[0m │ \u001b[2mNULL\u001b[0m    │ \u001b[32md0c8ea33-c66e-4f70-b522-427149da6c6a\u001b[0m │ \u001b[32m716c5707-1ce7-4e67-8d38-7831b77f0999\u001b[0m │\n",
       "│ \u001b[32mDrosophila melanogaster\u001b[0m │ \u001b[32mtaxon:7227 \u001b[0m │ \u001b[32mEukaryota\u001b[0m │ \u001b[32mMetazoa\u001b[0m │ \u001b[32mArthropoda\u001b[0m │ \u001b[32mInsecta  \u001b[0m │ \u001b[32mDiptera\u001b[0m │ \u001b[32mDrosophilidae\u001b[0m │ \u001b[32mDrosophila\u001b[0m │ \u001b[2mNULL\u001b[0m    │ \u001b[32me2af931e-d0a7-46c2-8825-c3dd861f2f0e\u001b[0m │ \u001b[32mda052e60-3d00-4b82-b13b-05865561cd7f\u001b[0m │\n",
       "│ \u001b[32mDrosophila erecta      \u001b[0m │ \u001b[32mtaxon:7220 \u001b[0m │ \u001b[32mEukaryota\u001b[0m │ \u001b[32mMetazoa\u001b[0m │ \u001b[32mArthropoda\u001b[0m │ \u001b[32mInsecta  \u001b[0m │ \u001b[32mDiptera\u001b[0m │ \u001b[32mDrosophilidae\u001b[0m │ \u001b[32mDrosophila\u001b[0m │ \u001b[2mNULL\u001b[0m    │ \u001b[32md54f2216-e3da-46bb-9179-8c8756cfbefd\u001b[0m │ \u001b[32m18686461-4773-4445-9b8f-9ff6c2cb3d08\u001b[0m │\n",
       "│ \u001b[32mDrosophila yakuba      \u001b[0m │ \u001b[32mtaxon:7245 \u001b[0m │ \u001b[32mEukaryota\u001b[0m │ \u001b[32mMetazoa\u001b[0m │ \u001b[32mArthropoda\u001b[0m │ \u001b[32mInsecta  \u001b[0m │ \u001b[32mDiptera\u001b[0m │ \u001b[32mDrosophilidae\u001b[0m │ \u001b[32mDrosophila\u001b[0m │ \u001b[2mNULL\u001b[0m    │ \u001b[32m0bdfe84c-51dd-4d18-85f7-a45e5f314a23\u001b[0m │ \u001b[32m4ea0ec73-681f-4d63-9b91-137932904dbc\u001b[0m │\n",
       "│ \u001b[32mDrosophila melanogaster\u001b[0m │ \u001b[32mtaxon:7227 \u001b[0m │ \u001b[32mEukaryota\u001b[0m │ \u001b[32mMetazoa\u001b[0m │ \u001b[32mArthropoda\u001b[0m │ \u001b[32mInsecta  \u001b[0m │ \u001b[32mDiptera\u001b[0m │ \u001b[32mDrosophilidae\u001b[0m │ \u001b[32mDrosophila\u001b[0m │ \u001b[2mNULL\u001b[0m    │ \u001b[32md25ae0af-4383-4e32-a02c-af9327ff12f9\u001b[0m │ \u001b[32mbce894ee-79a5-4f6a-a023-edf5e572c966\u001b[0m │\n",
       "│ \u001b[32mDrosophila teissieri   \u001b[0m │ \u001b[32mtaxon:7243 \u001b[0m │ \u001b[32mEukaryota\u001b[0m │ \u001b[32mMetazoa\u001b[0m │ \u001b[32mArthropoda\u001b[0m │ \u001b[32mInsecta  \u001b[0m │ \u001b[32mDiptera\u001b[0m │ \u001b[32mDrosophilidae\u001b[0m │ \u001b[32mDrosophila\u001b[0m │ \u001b[2mNULL\u001b[0m    │ \u001b[32m3e0ef82a-cf6a-4f5b-a4b8-b4a82da9f088\u001b[0m │ \u001b[32m96f4d45d-d479-45db-bc47-776cd48bfd3b\u001b[0m │\n",
       "│ \u001b[2m…\u001b[0m                       │ \u001b[2m…\u001b[0m           │ \u001b[2m…\u001b[0m         │ \u001b[2m…\u001b[0m       │ \u001b[2m…\u001b[0m          │ \u001b[2m…\u001b[0m         │ \u001b[2m…\u001b[0m       │ \u001b[2m…\u001b[0m             │ \u001b[2m…\u001b[0m          │ \u001b[2m…\u001b[0m       │ \u001b[2m…\u001b[0m                                    │ \u001b[2m…\u001b[0m                                    │\n",
       "└─────────────────────────┴─────────────┴───────────┴─────────┴────────────┴───────────┴─────────┴───────────────┴────────────┴─────────┴──────────────────────────────────────┴──────────────────────────────────────┘"
      ]
     },
     "execution_count": 30,
     "metadata": {},
     "output_type": "execute_result"
    }
   ],
   "source": [
    "db.connection.table(\"ProteinInfo_organism\")"
   ]
  },
  {
   "cell_type": "code",
   "execution_count": 34,
   "metadata": {},
   "outputs": [
    {
     "name": "stdout",
     "output_type": "stream",
     "text": [
      "10\n"
     ]
    }
   ],
   "source": [
    "# Lets filter the blast results for a specific organism\n",
    "target = \"Drosophila melanogaster\"\n",
    "\n",
    "# First, join the ProteinSequence table with the ProteinSequence_organism table\n",
    "prot_seqs = db.connection.table(\"ProteinInfo\")\n",
    "organisms = db.connection.table(\"ProteinInfo_organism\")\n",
    "joined = prot_seqs.join(\n",
    "    organisms,\n",
    "    prot_seqs.ProteinInfo_id == organisms.ProteinInfo_id,\n",
    "    rname=\"organism_{name}\",\n",
    ")\n",
    "\n",
    "# Next, filter the joined table for the target organism\n",
    "filtered = joined.filter(joined.organism_name == target)\n",
    "filtered\n",
    "\n",
    "# Finally, we can get the corresponding ProteinSequence objects\n",
    "results = db.get(\"ProteinInfo\", filtered)\n",
    "print(len(results))"
   ]
  }
 ],
 "metadata": {
  "kernelspec": {
   "display_name": "sdrdm_example",
   "language": "python",
   "name": "python3"
  },
  "language_info": {
   "codemirror_mode": {
    "name": "ipython",
    "version": 3
   },
   "file_extension": ".py",
   "mimetype": "text/x-python",
   "name": "python",
   "nbconvert_exporter": "python",
   "pygments_lexer": "ipython3",
   "version": "3.10.13"
  }
 },
 "nbformat": 4,
 "nbformat_minor": 4
}
