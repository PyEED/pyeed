{
 "cells": [
  {
   "cell_type": "markdown",
   "metadata": {},
   "source": [
    "# Example 1: Get protein information, run BLAST, and dump the results into a database\n"
   ]
  },
  {
   "cell_type": "code",
   "execution_count": 7,
   "metadata": {},
   "outputs": [],
   "source": [
    "%reload_ext autoreload\n",
    "%autoreload 2\n",
    "\n",
    "from pyEED.core.proteinsequence import ProteinSequence\n",
    "from pyEED.ncbi.utils import get_nucleotide_sequences"
   ]
  },
  {
   "cell_type": "markdown",
   "metadata": {},
   "source": [
    "## Query NCBI\n",
    "\n",
    "The pyEED library is centered around the `ProteinSequence` object, which integrates available information on protein sequence, corresponding nucleotide sequence, as well as regions and sites within the sequences. The `ProteinSequence` can be initialized directly with a protein sequence accession number."
   ]
  },
  {
   "cell_type": "code",
   "execution_count": 42,
   "metadata": {},
   "outputs": [
    {
     "name": "stdout",
     "output_type": "stream",
     "text": [
      "\u001b[4mProteinSequence\u001b[0m\n",
      "├── \u001b[94mid\u001b[0m = NP_001287541.1\n",
      "├── \u001b[94mname\u001b[0m = aldolase 1, isoform M\n",
      "├── \u001b[94msequence\u001b[0m = MTTYFNYPSKELQDELREIAQKIVAPGKGILAADESGPTMGKRLQDIGVENTEDNRRAYRQLLFSTDPKLAENISGVILFHETLYQKADDGTPFAEILKKKGIILGIKVDKGVVPLFGSEDEVTTQGLDDLAARCAQYKKDGCDFAKWRCVLKIGKNTPSYQSILENANVLARYASICQSQRIVPIVEPEVLPDGDHDLDRAQKVTETVLAAVYKALSDHHVYLEGTLLKPNMVTAGQSAKKNTPEEIALATVQALRRTVPAAVTGVTFLSGGQSEEEATVNLSAINNVPLIRPWALTFSYGRALQASVLRAWAGKKENIAAGQNELLKRAKANGDAAQGKYVAGSAGAGSGSLFVANHAY\n",
      "├── \u001b[94morganism\u001b[0m\n",
      "│   └── \u001b[4mOrganism\u001b[0m\n",
      "│       ├── \u001b[94mid\u001b[0m = taxon:7227\n",
      "│       ├── \u001b[94mname\u001b[0m = Drosophila melanogaster\n",
      "│       └── \u001b[94mtaxonomy_id\u001b[0m = 7227\n",
      "├── \u001b[94mregions\u001b[0m\n",
      "│   └── 0\n",
      "│       └── \u001b[4mRegion\u001b[0m\n",
      "│           ├── \u001b[94mid\u001b[0m = region32\n",
      "│           ├── \u001b[94mstart\u001b[0m = 14\n",
      "│           ├── \u001b[94mend\u001b[0m = 361\n",
      "│           ├── \u001b[94mnote\u001b[0m = Fructose-bisphosphate aldolase class-I; pfam00274\n",
      "│           ├── \u001b[94mname\u001b[0m = Glycolytic\n",
      "│           └── \u001b[94mcross_reference\u001b[0m = CDD:425574\n",
      "├── \u001b[94msites\u001b[0m\n",
      "│   ├── 0\n",
      "│   │   └── \u001b[4mSite\u001b[0m\n",
      "│   │       ├── \u001b[94mid\u001b[0m = site6\n",
      "│   │       ├── \u001b[94mname\u001b[0m = active\n",
      "│   │       ├── \u001b[94mtype\u001b[0m = active\n",
      "│   │       ├── \u001b[94mpositions\u001b[0m = [33, 34, 35, 38, 107, ...]\n",
      "│   │       └── \u001b[94mcross_reference\u001b[0m = CDD:188635\n",
      "│   ├── 1\n",
      "│   │   └── \u001b[4mSite\u001b[0m\n",
      "│   │       ├── \u001b[94mid\u001b[0m = site7\n",
      "│   │       ├── \u001b[94mname\u001b[0m = intersubunit interface [polypeptide binding]\n",
      "│   │       ├── \u001b[94mtype\u001b[0m = other\n",
      "│   │       ├── \u001b[94mpositions\u001b[0m = [110, 161, 164, 165, 168, ...]\n",
      "│   │       └── \u001b[94mcross_reference\u001b[0m = CDD:188635\n",
      "│   └── 2\n",
      "│       └── \u001b[4mSite\u001b[0m\n",
      "│           ├── \u001b[94mid\u001b[0m = site8\n",
      "│           ├── \u001b[94mname\u001b[0m = catalytic residue [active]\n",
      "│           ├── \u001b[94mtype\u001b[0m = active\n",
      "│           ├── \u001b[94mpositions\u001b[0m = [229, ...]\n",
      "│           └── \u001b[94mcross_reference\u001b[0m = CDD:188635\n",
      "├── \u001b[94mcoding_sequence\u001b[0m\n",
      "│   └── \u001b[4mNucleotideSequence\u001b[0m\n",
      "│       ├── \u001b[94mid\u001b[0m = NM_001300612.1\n",
      "│       ├── \u001b[94mregions\u001b[0m\n",
      "│       │   └── 0\n",
      "│       │       └── \u001b[4mRegion\u001b[0m\n",
      "│       │           ├── \u001b[94mid\u001b[0m = NM_001300612.1\n",
      "│       │           ├── \u001b[94mstart\u001b[0m = 278\n",
      "│       │           └── \u001b[94mend\u001b[0m = 1363\n",
      "│       └── \u001b[94mgene_id\u001b[0m = Ald1\n",
      "├── \u001b[94mec_number\u001b[0m = 4.1.2.13\n",
      "└── \u001b[94mmol_weight\u001b[0m = 38916.0\n",
      "\n"
     ]
    }
   ],
   "source": [
    "aldolase = ProteinSequence.from_ncbi(\"NP_001287541.1\")\n",
    "print(aldolase)"
   ]
  },
  {
   "cell_type": "code",
   "execution_count": 43,
   "metadata": {},
   "outputs": [
    {
     "name": "stdout",
     "output_type": "stream",
     "text": [
      "\u001b[4mNucleotideSequence\u001b[0m\n",
      "├── \u001b[94mid\u001b[0m = NM_001300612.1\n",
      "├── \u001b[94mregions\u001b[0m\n",
      "│   └── 0\n",
      "│       └── \u001b[4mRegion\u001b[0m\n",
      "│           ├── \u001b[94mid\u001b[0m = NM_001300612.1\n",
      "│           ├── \u001b[94mstart\u001b[0m = 278\n",
      "│           └── \u001b[94mend\u001b[0m = 1363\n",
      "├── \u001b[94mmolecule_type\u001b[0m = mRNA\n",
      "├── \u001b[94mgene_id\u001b[0m = Ald1\n",
      "└── \u001b[94msequence\u001b[0m = ATGACGACCTACTTCAACTACCCCAGCAAGGAGCTGCAGGATGAGCTGCGCGAAATCGCCCAGAAAATCGTTGCCCCCGGCAAGGGAATCCTCGCCGCCGATGAGTCCGGCCCAACCATGGGCAAGCGTCTGCAGGACATCGGCGTGGAGAACACCGAGGACAACCGCCGTGCCTACCGTCAGCTGTTGTTCAGCACTGACCCCAAGCTGGCCGAGAACATCTCTGGAGTGATCCTGTTCCACGAGACCCTCTACCAGAAGGCCGATGATGGCACCCCCTTCGCCGAGATCCTGAAGAAGAAGGGAATCATTCTGGGCATCAAGGTCGACAAGGGTGTTGTCCCACTGTTCGGCTCTGAGGATGAGGTCACCACCCAGGGTCTGGATGACCTGGCCGCCCGTTGCGCCCAGTACAAGAAGGACGGTTGCGACTTCGCCAAGTGGCGTTGCGTCCTGAAGATCGGCAAGAACACCCCATCCTACCAGTCGATCCTGGAGAACGCCAATGTCCTGGCCCGCTACGCCTCCATCTGCCAGTCGCAGCGCATCGTCCCAATTGTGGAGCCCGAGGTTCTGCCCGATGGCGATCACGATCTGGACCGCGCCCAGAAGGTCACCGAGACCGTCCTGGCCGCCGTCTACAAGGCCCTGAGCGACCACCACGTCTACCTGGAGGGTACTCTGCTGAAGCCCAACATGGTCACCGCCGGTCAGTCGGCCAAGAAGAACACCCCCGAGGAGATCGCCCTGGCCACCGTGCAGGCTCTGCGCCGCACCGTTCCCGCCGCCGTTACTGGCGTGACCTTCCTGTCTGGAGGTCAGTCCGAGGAGGAGGCCACCGTCAACCTGAGTGCCATCAACAACGTTCCCTTGATCCGCCCATGGGCCCTCACCTTCTCGTACGGTCGTGCCCTGCAGGCCTCCGTCCTGCGTGCCTGGGCTGGCAAGAAGGAGAACATTGCTGCCGGCCAGAACGAGCTGCTTAAGCGCGCCAAGGCCAACGGTGATGCTGCTCAGGGCAAGTACGTTGCCGGCAGCGCTGGTGCCGGATCTGGATCCCTGTTCGTGGCCAACCACGCCTACTAA\n",
      "\n"
     ]
    }
   ],
   "source": [
    "# Get the corresponding nucleotide sequence\n",
    "aldolase.get_nucleotide_seq()\n",
    "print(aldolase.coding_sequence)"
   ]
  },
  {
   "cell_type": "markdown",
   "metadata": {},
   "source": [
    "## BLAST search"
   ]
  },
  {
   "cell_type": "code",
   "execution_count": 44,
   "metadata": {},
   "outputs": [
    {
     "name": "stdout",
     "output_type": "stream",
     "text": [
      "Running blast search for aldolase 1, isoform M from Drosophila melanogaster...\n"
     ]
    },
    {
     "name": "stderr",
     "output_type": "stream",
     "text": [
      "Fetching protein sequences: 100%|██████████| 10/10 [00:19<00:00,  1.90s/it]\n"
     ]
    }
   ],
   "source": [
    "blast_results = aldolase.pblast(n_hits=10)"
   ]
  },
  {
   "cell_type": "code",
   "execution_count": 45,
   "metadata": {},
   "outputs": [
    {
     "name": "stderr",
     "output_type": "stream",
     "text": [
      "Fetching nucleotide sequences: 100%|██████████| 10/10 [00:09<00:00,  1.10it/s]\n"
     ]
    }
   ],
   "source": [
    "get_nucleotide_sequences(blast_results)"
   ]
  },
  {
   "cell_type": "markdown",
   "metadata": {},
   "source": [
    "## Storing `ProteinSequence`s in a database\n",
    "\n"
   ]
  },
  {
   "cell_type": "code",
   "execution_count": 46,
   "metadata": {},
   "outputs": [],
   "source": [
    "from sdrdm_database import DBConnector, create_tables"
   ]
  },
  {
   "cell_type": "markdown",
   "metadata": {},
   "source": [
    "### Setting up a local MySQL database\n",
    "\n",
    "First, a local MySQL database needs to be setup. Therefore, we run a docker container with a MySQL database. \n",
    "\n",
    ">[!NOTE]\n",
    ">\n",
    ">If docker is not isntalled on your system, please follow the instructions on the [docker website](https://docs.docker.com/get-docker/).\n",
    "\n",
    "\n",
    "In case this notebook is run on a macOS system with a M1 chip, the following command needs to be run in the terminal first:\n",
    "\n",
    ">```bash\n",
    ">export DOCKER_DEFAULT_PLATFORM=linux/amd64\n",
    ">```\n",
    "\n",
    "Next, navigate to the directory where this notebook is located and run the following command to start the docker container:\n",
    "\n",
    ">```bash\n",
    ">docker compose up -d\n",
    ">```"
   ]
  },
  {
   "cell_type": "markdown",
   "metadata": {},
   "source": [
    "### Connect to the database"
   ]
  },
  {
   "cell_type": "code",
   "execution_count": 47,
   "metadata": {},
   "outputs": [],
   "source": [
    "# Establish a connection to the database\n",
    "db = DBConnector(\n",
    "    username=\"root\",\n",
    "    password=\"root\",\n",
    "    host=\"localhost\",\n",
    "    db_name=\"db\",\n",
    "    port=3306,\n",
    "    dbtype=\"mysql\",\n",
    ")"
   ]
  },
  {
   "cell_type": "markdown",
   "metadata": {},
   "source": [
    "### Create tables for `NucleotideSequence`\n",
    "\n",
    "Currently, the database functionalities are under construction. Therefore, a simplified example is shown here. Instead of dumping all information of a `ProteinSequence` into the database, only the `NucleotideSequence` object is dumped into the database."
   ]
  },
  {
   "cell_type": "code",
   "execution_count": 49,
   "metadata": {},
   "outputs": [],
   "source": [
    "from pyEED.core.nucleotidesequence import NucleotideSequence\n",
    "\n",
    "create_tables(db_connector=db, model=NucleotideSequence)"
   ]
  },
  {
   "cell_type": "code",
   "execution_count": 50,
   "metadata": {},
   "outputs": [
    {
     "data": {
      "text/plain": [
       "Tables\n",
       "------\n",
       "- NucleotideSequence\n",
       "- regions"
      ]
     },
     "execution_count": 50,
     "metadata": {},
     "output_type": "execute_result"
    }
   ],
   "source": [
    "# Get an overview over the created tables\n",
    "db.connection.tables"
   ]
  },
  {
   "cell_type": "markdown",
   "metadata": {},
   "source": [
    "### Populate the database with `NucleotideSequence`s"
   ]
  },
  {
   "cell_type": "code",
   "execution_count": 51,
   "metadata": {},
   "outputs": [],
   "source": [
    "# Extract only the coding sequences for all blasted protein sequences\n",
    "coding_sequences = [\n",
    "    sequence.coding_sequence\n",
    "    for sequence in blast_results\n",
    "    if sequence.coding_sequence is not None\n",
    "]"
   ]
  },
  {
   "cell_type": "code",
   "execution_count": 52,
   "metadata": {},
   "outputs": [
    {
     "name": "stdout",
     "output_type": "stream",
     "text": [
      "Added dataset NucleotideSequence (24801bc5-62fd-432d-b5dd-c314d563be05)\n",
      "Added dataset NucleotideSequence (12cee352-ee0f-468d-9666-8a34bda7d60b)\n",
      "Added dataset NucleotideSequence (57c4f81d-37e4-48f7-b897-36a0b37f2a37)\n",
      "Added dataset NucleotideSequence (5a8dd3e6-03ea-43b0-b61c-27dd4bcf2e49)\n",
      "Added dataset NucleotideSequence (2b8a2f46-b390-4f1e-b8a7-a13ad7c0fc1a)\n",
      "Added dataset NucleotideSequence (a061941e-0b82-466e-bb6c-ebb753b0b7ae)\n",
      "Added dataset NucleotideSequence (13f8502f-e7f8-4893-8a22-e7cbafe9f5b5)\n",
      "Added dataset NucleotideSequence (f913ab86-adda-49fb-ae8f-f0f1423757d7)\n",
      "Added dataset NucleotideSequence (7c052c82-6b62-40f1-ab89-7b34f93683dd)\n"
     ]
    }
   ],
   "source": [
    "# Insert all coding sequences into the database\n",
    "db.insert(*coding_sequences, verbose=True)"
   ]
  },
  {
   "cell_type": "markdown",
   "metadata": {},
   "source": [
    "### Look at entries in the database"
   ]
  },
  {
   "cell_type": "code",
   "execution_count": 53,
   "metadata": {},
   "outputs": [
    {
     "data": {
      "text/html": [
       "<pre style=\"white-space:pre;overflow-x:auto;line-height:normal;font-family:Menlo,'DejaVu Sans Mono',consolas,'Courier New',monospace\">┏━━━━━━━━━━━━━━━┳━━━━━━━━━━━━┳━━━━━━━━━━━━━━┳━━━━━━━━━━━━━━━━━━━━━━━━━━━━━━━━━━━━━━━━━━━━━━━━━━━━━━━━━━━━━━━━━━━━━━━━━━━━━━━━━━┳━━━━━━━━━━━━━━━━━━━━━━━━━━━━━━━━━━━━━━┓\n",
       "┃<span style=\"font-weight: bold\"> molecule_type </span>┃<span style=\"font-weight: bold\"> protein_id </span>┃<span style=\"font-weight: bold\"> gene_id      </span>┃<span style=\"font-weight: bold\"> sequence                                                                         </span>┃<span style=\"font-weight: bold\"> id                                   </span>┃\n",
       "┡━━━━━━━━━━━━━━━╇━━━━━━━━━━━━╇━━━━━━━━━━━━━━╇━━━━━━━━━━━━━━━━━━━━━━━━━━━━━━━━━━━━━━━━━━━━━━━━━━━━━━━━━━━━━━━━━━━━━━━━━━━━━━━━━━╇━━━━━━━━━━━━━━━━━━━━━━━━━━━━━━━━━━━━━━┩\n",
       "│ <span style=\"color: #7f7f7f; text-decoration-color: #7f7f7f\">string</span>        │ <span style=\"color: #7f7f7f; text-decoration-color: #7f7f7f\">string</span>     │ <span style=\"color: #7f7f7f; text-decoration-color: #7f7f7f\">string</span>       │ <span style=\"color: #7f7f7f; text-decoration-color: #7f7f7f\">string</span>                                                                           │ <span style=\"color: #7f7f7f; text-decoration-color: #7f7f7f\">!string</span>                              │\n",
       "├───────────────┼────────────┼──────────────┼──────────────────────────────────────────────────────────────────────────────────┼──────────────────────────────────────┤\n",
       "│ <span style=\"color: #008000; text-decoration-color: #008000\">mRNA         </span> │ <span style=\"color: #7f7f7f; text-decoration-color: #7f7f7f\">NULL</span>       │ <span style=\"color: #008000; text-decoration-color: #008000\">Ald1        </span> │ <span style=\"color: #008000; text-decoration-color: #008000\">ATGACGACCTACTTCAACTACCCCAGCAAGGAGCTGCAGGATGAGCTGCGCGAAATCGCCCAGAAAATCGTTGCCCCCG…</span> │ <span style=\"color: #008000; text-decoration-color: #008000\">12cee352-ee0f-468d-9666-8a34bda7d60b</span> │\n",
       "│ <span style=\"color: #008000; text-decoration-color: #008000\">genomic DNA  </span> │ <span style=\"color: #7f7f7f; text-decoration-color: #7f7f7f\">NULL</span>       │ <span style=\"color: #7f7f7f; text-decoration-color: #7f7f7f\">NULL</span>         │ <span style=\"color: #008000; text-decoration-color: #008000\">ATGACCACGTACTTCAACTACCCCAGCAAGGAGCTGCAGGATGAGCTGCGCGAAATTGCCCAGAAAATCGTGGCCCCCG…</span> │ <span style=\"color: #008000; text-decoration-color: #008000\">13f8502f-e7f8-4893-8a22-e7cbafe9f5b5</span> │\n",
       "│ <span style=\"color: #008000; text-decoration-color: #008000\">mRNA         </span> │ <span style=\"color: #7f7f7f; text-decoration-color: #7f7f7f\">NULL</span>       │ <span style=\"color: #008000; text-decoration-color: #008000\">Ald-RI      </span> │ <span style=\"color: #008000; text-decoration-color: #008000\">ATGACTTTGATTGCATCAGAGGGAATTATTGCCGAGGTTTCCGTGACTTTGCTCAGTTACAAAAACATCATCGTCGAGA…</span> │ <span style=\"color: #008000; text-decoration-color: #008000\">24801bc5-62fd-432d-b5dd-c314d563be05</span> │\n",
       "│ <span style=\"color: #008000; text-decoration-color: #008000\">mRNA         </span> │ <span style=\"color: #7f7f7f; text-decoration-color: #7f7f7f\">NULL</span>       │ <span style=\"color: #008000; text-decoration-color: #008000\">LOC6554134  </span> │ <span style=\"color: #008000; text-decoration-color: #008000\">ATGACCACCTACTTCAACTACCCCAGCAAGGAGCTGCAGGATGAGCTGCGCGACATCGCCCAGCGGATCGTGGCCCCCG…</span> │ <span style=\"color: #008000; text-decoration-color: #008000\">2b8a2f46-b390-4f1e-b8a7-a13ad7c0fc1a</span> │\n",
       "│ <span style=\"color: #008000; text-decoration-color: #008000\">mRNA         </span> │ <span style=\"color: #7f7f7f; text-decoration-color: #7f7f7f\">NULL</span>       │ <span style=\"color: #008000; text-decoration-color: #008000\">LOC6617037  </span> │ <span style=\"color: #008000; text-decoration-color: #008000\">ATGACCACCTACTTCAACTACCCCAGCAAGGAGCTGCAGGATGAGCTGCGCGAGATCGCTCAGCGAATCGTTGCCCCCG…</span> │ <span style=\"color: #008000; text-decoration-color: #008000\">57c4f81d-37e4-48f7-b897-36a0b37f2a37</span> │\n",
       "│ <span style=\"color: #008000; text-decoration-color: #008000\">mRNA         </span> │ <span style=\"color: #7f7f7f; text-decoration-color: #7f7f7f\">NULL</span>       │ <span style=\"color: #008000; text-decoration-color: #008000\">LOC6729730  </span> │ <span style=\"color: #008000; text-decoration-color: #008000\">ATGACCACCTACTTCAACTACCCCAGCAAGGAGCTGCAGGATGAGCTGCGCGACATCGCCCAGCGAATCGTTGCCCCCG…</span> │ <span style=\"color: #008000; text-decoration-color: #008000\">5a8dd3e6-03ea-43b0-b61c-27dd4bcf2e49</span> │\n",
       "│ <span style=\"color: #008000; text-decoration-color: #008000\">mRNA         </span> │ <span style=\"color: #7f7f7f; text-decoration-color: #7f7f7f\">NULL</span>       │ <span style=\"color: #008000; text-decoration-color: #008000\">LOC108095831</span> │ <span style=\"color: #008000; text-decoration-color: #008000\">ATGACCACCTACTTCAACTACCCCAGCAAGGAGCTGCAGGATGAGCTCAGGGACATCGCCCAGAGGATCGTGGCCCCCG…</span> │ <span style=\"color: #008000; text-decoration-color: #008000\">7c052c82-6b62-40f1-ab89-7b34f93683dd</span> │\n",
       "│ <span style=\"color: #008000; text-decoration-color: #008000\">mRNA         </span> │ <span style=\"color: #7f7f7f; text-decoration-color: #7f7f7f\">NULL</span>       │ <span style=\"color: #008000; text-decoration-color: #008000\">LOC6538402  </span> │ <span style=\"color: #008000; text-decoration-color: #008000\">ATGACCACCTACTTCAACTACCCCAGCAAGGAGCTGCAGGATGAGCTCCGCGACATCGCCCAGCGTATCGTGGCCCCCG…</span> │ <span style=\"color: #008000; text-decoration-color: #008000\">a061941e-0b82-466e-bb6c-ebb753b0b7ae</span> │\n",
       "│ <span style=\"color: #008000; text-decoration-color: #008000\">mRNA         </span> │ <span style=\"color: #7f7f7f; text-decoration-color: #7f7f7f\">NULL</span>       │ <span style=\"color: #008000; text-decoration-color: #008000\">LOC122618747</span> │ <span style=\"color: #008000; text-decoration-color: #008000\">ATGACCACCTACTTCAACTACCCCAGCAAGGAGCTGCAGGATGAGCTGCGCGACATCGCCCAGCGGATCGTGGCCCCCG…</span> │ <span style=\"color: #008000; text-decoration-color: #008000\">f913ab86-adda-49fb-ae8f-f0f1423757d7</span> │\n",
       "└───────────────┴────────────┴──────────────┴──────────────────────────────────────────────────────────────────────────────────┴──────────────────────────────────────┘\n",
       "</pre>\n"
      ],
      "text/plain": [
       "┏━━━━━━━━━━━━━━━┳━━━━━━━━━━━━┳━━━━━━━━━━━━━━┳━━━━━━━━━━━━━━━━━━━━━━━━━━━━━━━━━━━━━━━━━━━━━━━━━━━━━━━━━━━━━━━━━━━━━━━━━━━━━━━━━━┳━━━━━━━━━━━━━━━━━━━━━━━━━━━━━━━━━━━━━━┓\n",
       "┃\u001b[1m \u001b[0m\u001b[1mmolecule_type\u001b[0m\u001b[1m \u001b[0m┃\u001b[1m \u001b[0m\u001b[1mprotein_id\u001b[0m\u001b[1m \u001b[0m┃\u001b[1m \u001b[0m\u001b[1mgene_id\u001b[0m\u001b[1m     \u001b[0m\u001b[1m \u001b[0m┃\u001b[1m \u001b[0m\u001b[1msequence\u001b[0m\u001b[1m                                                                        \u001b[0m\u001b[1m \u001b[0m┃\u001b[1m \u001b[0m\u001b[1mid\u001b[0m\u001b[1m                                  \u001b[0m\u001b[1m \u001b[0m┃\n",
       "┡━━━━━━━━━━━━━━━╇━━━━━━━━━━━━╇━━━━━━━━━━━━━━╇━━━━━━━━━━━━━━━━━━━━━━━━━━━━━━━━━━━━━━━━━━━━━━━━━━━━━━━━━━━━━━━━━━━━━━━━━━━━━━━━━━╇━━━━━━━━━━━━━━━━━━━━━━━━━━━━━━━━━━━━━━┩\n",
       "│ \u001b[2mstring\u001b[0m        │ \u001b[2mstring\u001b[0m     │ \u001b[2mstring\u001b[0m       │ \u001b[2mstring\u001b[0m                                                                           │ \u001b[2m!string\u001b[0m                              │\n",
       "├───────────────┼────────────┼──────────────┼──────────────────────────────────────────────────────────────────────────────────┼──────────────────────────────────────┤\n",
       "│ \u001b[32mmRNA         \u001b[0m │ \u001b[2mNULL\u001b[0m       │ \u001b[32mAld1        \u001b[0m │ \u001b[32mATGACGACCTACTTCAACTACCCCAGCAAGGAGCTGCAGGATGAGCTGCGCGAAATCGCCCAGAAAATCGTTGCCCCCG…\u001b[0m │ \u001b[32m12cee352-ee0f-468d-9666-8a34bda7d60b\u001b[0m │\n",
       "│ \u001b[32mgenomic DNA  \u001b[0m │ \u001b[2mNULL\u001b[0m       │ \u001b[2mNULL\u001b[0m         │ \u001b[32mATGACCACGTACTTCAACTACCCCAGCAAGGAGCTGCAGGATGAGCTGCGCGAAATTGCCCAGAAAATCGTGGCCCCCG…\u001b[0m │ \u001b[32m13f8502f-e7f8-4893-8a22-e7cbafe9f5b5\u001b[0m │\n",
       "│ \u001b[32mmRNA         \u001b[0m │ \u001b[2mNULL\u001b[0m       │ \u001b[32mAld-RI      \u001b[0m │ \u001b[32mATGACTTTGATTGCATCAGAGGGAATTATTGCCGAGGTTTCCGTGACTTTGCTCAGTTACAAAAACATCATCGTCGAGA…\u001b[0m │ \u001b[32m24801bc5-62fd-432d-b5dd-c314d563be05\u001b[0m │\n",
       "│ \u001b[32mmRNA         \u001b[0m │ \u001b[2mNULL\u001b[0m       │ \u001b[32mLOC6554134  \u001b[0m │ \u001b[32mATGACCACCTACTTCAACTACCCCAGCAAGGAGCTGCAGGATGAGCTGCGCGACATCGCCCAGCGGATCGTGGCCCCCG…\u001b[0m │ \u001b[32m2b8a2f46-b390-4f1e-b8a7-a13ad7c0fc1a\u001b[0m │\n",
       "│ \u001b[32mmRNA         \u001b[0m │ \u001b[2mNULL\u001b[0m       │ \u001b[32mLOC6617037  \u001b[0m │ \u001b[32mATGACCACCTACTTCAACTACCCCAGCAAGGAGCTGCAGGATGAGCTGCGCGAGATCGCTCAGCGAATCGTTGCCCCCG…\u001b[0m │ \u001b[32m57c4f81d-37e4-48f7-b897-36a0b37f2a37\u001b[0m │\n",
       "│ \u001b[32mmRNA         \u001b[0m │ \u001b[2mNULL\u001b[0m       │ \u001b[32mLOC6729730  \u001b[0m │ \u001b[32mATGACCACCTACTTCAACTACCCCAGCAAGGAGCTGCAGGATGAGCTGCGCGACATCGCCCAGCGAATCGTTGCCCCCG…\u001b[0m │ \u001b[32m5a8dd3e6-03ea-43b0-b61c-27dd4bcf2e49\u001b[0m │\n",
       "│ \u001b[32mmRNA         \u001b[0m │ \u001b[2mNULL\u001b[0m       │ \u001b[32mLOC108095831\u001b[0m │ \u001b[32mATGACCACCTACTTCAACTACCCCAGCAAGGAGCTGCAGGATGAGCTCAGGGACATCGCCCAGAGGATCGTGGCCCCCG…\u001b[0m │ \u001b[32m7c052c82-6b62-40f1-ab89-7b34f93683dd\u001b[0m │\n",
       "│ \u001b[32mmRNA         \u001b[0m │ \u001b[2mNULL\u001b[0m       │ \u001b[32mLOC6538402  \u001b[0m │ \u001b[32mATGACCACCTACTTCAACTACCCCAGCAAGGAGCTGCAGGATGAGCTCCGCGACATCGCCCAGCGTATCGTGGCCCCCG…\u001b[0m │ \u001b[32ma061941e-0b82-466e-bb6c-ebb753b0b7ae\u001b[0m │\n",
       "│ \u001b[32mmRNA         \u001b[0m │ \u001b[2mNULL\u001b[0m       │ \u001b[32mLOC122618747\u001b[0m │ \u001b[32mATGACCACCTACTTCAACTACCCCAGCAAGGAGCTGCAGGATGAGCTGCGCGACATCGCCCAGCGGATCGTGGCCCCCG…\u001b[0m │ \u001b[32mf913ab86-adda-49fb-ae8f-f0f1423757d7\u001b[0m │\n",
       "└───────────────┴────────────┴──────────────┴──────────────────────────────────────────────────────────────────────────────────┴──────────────────────────────────────┘"
      ]
     },
     "execution_count": 53,
     "metadata": {},
     "output_type": "execute_result"
    }
   ],
   "source": [
    "db.connection.table(\"NucleotideSequence\")"
   ]
  },
  {
   "cell_type": "code",
   "execution_count": 54,
   "metadata": {},
   "outputs": [
    {
     "data": {
      "text/html": [
       "<pre style=\"white-space:pre;overflow-x:auto;line-height:normal;font-family:Menlo,'DejaVu Sans Mono',consolas,'Courier New',monospace\">┏━━━━━━━━┳━━━━━━━━┳━━━━━━━━┳━━━━━━━━┳━━━━━━━━━━━━━━━━━┳━━━━━━━━━━━━━━━━━━━━━━━━━━━━━━━━━━━━━━┳━━━━━━━━━━━━━━━━━━━━━━━━━━━━━━━━━━━━━━┓\n",
       "┃<span style=\"font-weight: bold\"> start  </span>┃<span style=\"font-weight: bold\"> end    </span>┃<span style=\"font-weight: bold\"> note   </span>┃<span style=\"font-weight: bold\"> name   </span>┃<span style=\"font-weight: bold\"> cross_reference </span>┃<span style=\"font-weight: bold\"> id                                   </span>┃<span style=\"font-weight: bold\"> NucleotideSequence                   </span>┃\n",
       "┡━━━━━━━━╇━━━━━━━━╇━━━━━━━━╇━━━━━━━━╇━━━━━━━━━━━━━━━━━╇━━━━━━━━━━━━━━━━━━━━━━━━━━━━━━━━━━━━━━╇━━━━━━━━━━━━━━━━━━━━━━━━━━━━━━━━━━━━━━┩\n",
       "│ <span style=\"color: #7f7f7f; text-decoration-color: #7f7f7f\">!int64</span> │ <span style=\"color: #7f7f7f; text-decoration-color: #7f7f7f\">!int64</span> │ <span style=\"color: #7f7f7f; text-decoration-color: #7f7f7f\">string</span> │ <span style=\"color: #7f7f7f; text-decoration-color: #7f7f7f\">string</span> │ <span style=\"color: #7f7f7f; text-decoration-color: #7f7f7f\">string</span>          │ <span style=\"color: #7f7f7f; text-decoration-color: #7f7f7f\">!string</span>                              │ <span style=\"color: #7f7f7f; text-decoration-color: #7f7f7f\">string</span>                               │\n",
       "├────────┼────────┼────────┼────────┼─────────────────┼──────────────────────────────────────┼──────────────────────────────────────┤\n",
       "│    <span style=\"color: #008080; text-decoration-color: #008080; font-weight: bold\">320</span> │   <span style=\"color: #008080; text-decoration-color: #008080; font-weight: bold\">1405</span> │ <span style=\"color: #7f7f7f; text-decoration-color: #7f7f7f\">NULL</span>   │ <span style=\"color: #7f7f7f; text-decoration-color: #7f7f7f\">NULL</span>   │ <span style=\"color: #7f7f7f; text-decoration-color: #7f7f7f\">NULL</span>            │ <span style=\"color: #008000; text-decoration-color: #008000\">40d47822-f2e1-47a1-bd5d-a2d8cdd8f5b0</span> │ <span style=\"color: #008000; text-decoration-color: #008000\">2b8a2f46-b390-4f1e-b8a7-a13ad7c0fc1a</span> │\n",
       "│    <span style=\"color: #008080; text-decoration-color: #008080; font-weight: bold\">125</span> │    <span style=\"color: #008080; text-decoration-color: #008080; font-weight: bold\">920</span> │ <span style=\"color: #7f7f7f; text-decoration-color: #7f7f7f\">NULL</span>   │ <span style=\"color: #7f7f7f; text-decoration-color: #7f7f7f\">NULL</span>   │ <span style=\"color: #7f7f7f; text-decoration-color: #7f7f7f\">NULL</span>            │ <span style=\"color: #008000; text-decoration-color: #008000\">6bcafe82-93b0-43f2-9bfa-1ecf656422a6</span> │ <span style=\"color: #008000; text-decoration-color: #008000\">13f8502f-e7f8-4893-8a22-e7cbafe9f5b5</span> │\n",
       "│     <span style=\"color: #008080; text-decoration-color: #008080; font-weight: bold\">22</span> │   <span style=\"color: #008080; text-decoration-color: #008080; font-weight: bold\">1107</span> │ <span style=\"color: #7f7f7f; text-decoration-color: #7f7f7f\">NULL</span>   │ <span style=\"color: #7f7f7f; text-decoration-color: #7f7f7f\">NULL</span>   │ <span style=\"color: #7f7f7f; text-decoration-color: #7f7f7f\">NULL</span>            │ <span style=\"color: #008000; text-decoration-color: #008000\">97004f54-1f6a-4f44-8d57-410fb5c92b30</span> │ <span style=\"color: #008000; text-decoration-color: #008000\">57c4f81d-37e4-48f7-b897-36a0b37f2a37</span> │\n",
       "│     <span style=\"color: #008080; text-decoration-color: #008080; font-weight: bold\">39</span> │   <span style=\"color: #008080; text-decoration-color: #008080; font-weight: bold\">1124</span> │ <span style=\"color: #7f7f7f; text-decoration-color: #7f7f7f\">NULL</span>   │ <span style=\"color: #7f7f7f; text-decoration-color: #7f7f7f\">NULL</span>   │ <span style=\"color: #7f7f7f; text-decoration-color: #7f7f7f\">NULL</span>            │ <span style=\"color: #008000; text-decoration-color: #008000\">a7d466c7-d01c-4864-8101-a26df3ae55d7</span> │ <span style=\"color: #008000; text-decoration-color: #008000\">5a8dd3e6-03ea-43b0-b61c-27dd4bcf2e49</span> │\n",
       "│    <span style=\"color: #008080; text-decoration-color: #008080; font-weight: bold\">212</span> │   <span style=\"color: #008080; text-decoration-color: #008080; font-weight: bold\">1396</span> │ <span style=\"color: #7f7f7f; text-decoration-color: #7f7f7f\">NULL</span>   │ <span style=\"color: #7f7f7f; text-decoration-color: #7f7f7f\">NULL</span>   │ <span style=\"color: #7f7f7f; text-decoration-color: #7f7f7f\">NULL</span>            │ <span style=\"color: #008000; text-decoration-color: #008000\">a926b9b1-1cc4-4424-ad1a-e322ce80e7db</span> │ <span style=\"color: #008000; text-decoration-color: #008000\">24801bc5-62fd-432d-b5dd-c314d563be05</span> │\n",
       "│    <span style=\"color: #008080; text-decoration-color: #008080; font-weight: bold\">278</span> │   <span style=\"color: #008080; text-decoration-color: #008080; font-weight: bold\">1363</span> │ <span style=\"color: #7f7f7f; text-decoration-color: #7f7f7f\">NULL</span>   │ <span style=\"color: #7f7f7f; text-decoration-color: #7f7f7f\">NULL</span>   │ <span style=\"color: #7f7f7f; text-decoration-color: #7f7f7f\">NULL</span>            │ <span style=\"color: #008000; text-decoration-color: #008000\">aeb7c3ba-5805-46c3-b79a-12f09e6c0772</span> │ <span style=\"color: #008000; text-decoration-color: #008000\">12cee352-ee0f-468d-9666-8a34bda7d60b</span> │\n",
       "│    <span style=\"color: #008080; text-decoration-color: #008080; font-weight: bold\">269</span> │   <span style=\"color: #008080; text-decoration-color: #008080; font-weight: bold\">1354</span> │ <span style=\"color: #7f7f7f; text-decoration-color: #7f7f7f\">NULL</span>   │ <span style=\"color: #7f7f7f; text-decoration-color: #7f7f7f\">NULL</span>   │ <span style=\"color: #7f7f7f; text-decoration-color: #7f7f7f\">NULL</span>            │ <span style=\"color: #008000; text-decoration-color: #008000\">c18b917a-2aa9-4855-bd3d-6b540e3a1508</span> │ <span style=\"color: #008000; text-decoration-color: #008000\">f913ab86-adda-49fb-ae8f-f0f1423757d7</span> │\n",
       "│    <span style=\"color: #008080; text-decoration-color: #008080; font-weight: bold\">275</span> │   <span style=\"color: #008080; text-decoration-color: #008080; font-weight: bold\">1360</span> │ <span style=\"color: #7f7f7f; text-decoration-color: #7f7f7f\">NULL</span>   │ <span style=\"color: #7f7f7f; text-decoration-color: #7f7f7f\">NULL</span>   │ <span style=\"color: #7f7f7f; text-decoration-color: #7f7f7f\">NULL</span>            │ <span style=\"color: #008000; text-decoration-color: #008000\">ce1984b6-a65a-42ee-abb5-b975e2f47665</span> │ <span style=\"color: #008000; text-decoration-color: #008000\">7c052c82-6b62-40f1-ab89-7b34f93683dd</span> │\n",
       "│   <span style=\"color: #008080; text-decoration-color: #008080; font-weight: bold\">3036</span> │   <span style=\"color: #008080; text-decoration-color: #008080; font-weight: bold\">3125</span> │ <span style=\"color: #7f7f7f; text-decoration-color: #7f7f7f\">NULL</span>   │ <span style=\"color: #7f7f7f; text-decoration-color: #7f7f7f\">NULL</span>   │ <span style=\"color: #7f7f7f; text-decoration-color: #7f7f7f\">NULL</span>            │ <span style=\"color: #008000; text-decoration-color: #008000\">d2f01766-969f-4500-bca9-c48d92c340b1</span> │ <span style=\"color: #008000; text-decoration-color: #008000\">13f8502f-e7f8-4893-8a22-e7cbafe9f5b5</span> │\n",
       "│   <span style=\"color: #008080; text-decoration-color: #008080; font-weight: bold\">1345</span> │   <span style=\"color: #008080; text-decoration-color: #008080; font-weight: bold\">1544</span> │ <span style=\"color: #7f7f7f; text-decoration-color: #7f7f7f\">NULL</span>   │ <span style=\"color: #7f7f7f; text-decoration-color: #7f7f7f\">NULL</span>   │ <span style=\"color: #7f7f7f; text-decoration-color: #7f7f7f\">NULL</span>            │ <span style=\"color: #008000; text-decoration-color: #008000\">ea9d41ed-567f-49c5-8b2d-66b4389e320c</span> │ <span style=\"color: #008000; text-decoration-color: #008000\">13f8502f-e7f8-4893-8a22-e7cbafe9f5b5</span> │\n",
       "│      <span style=\"color: #7f7f7f; text-decoration-color: #7f7f7f\">…</span> │      <span style=\"color: #7f7f7f; text-decoration-color: #7f7f7f\">…</span> │ <span style=\"color: #7f7f7f; text-decoration-color: #7f7f7f\">…</span>      │ <span style=\"color: #7f7f7f; text-decoration-color: #7f7f7f\">…</span>      │ <span style=\"color: #7f7f7f; text-decoration-color: #7f7f7f\">…</span>               │ <span style=\"color: #7f7f7f; text-decoration-color: #7f7f7f\">…</span>                                    │ <span style=\"color: #7f7f7f; text-decoration-color: #7f7f7f\">…</span>                                    │\n",
       "└────────┴────────┴────────┴────────┴─────────────────┴──────────────────────────────────────┴──────────────────────────────────────┘\n",
       "</pre>\n"
      ],
      "text/plain": [
       "┏━━━━━━━━┳━━━━━━━━┳━━━━━━━━┳━━━━━━━━┳━━━━━━━━━━━━━━━━━┳━━━━━━━━━━━━━━━━━━━━━━━━━━━━━━━━━━━━━━┳━━━━━━━━━━━━━━━━━━━━━━━━━━━━━━━━━━━━━━┓\n",
       "┃\u001b[1m \u001b[0m\u001b[1mstart\u001b[0m\u001b[1m \u001b[0m\u001b[1m \u001b[0m┃\u001b[1m \u001b[0m\u001b[1mend\u001b[0m\u001b[1m   \u001b[0m\u001b[1m \u001b[0m┃\u001b[1m \u001b[0m\u001b[1mnote\u001b[0m\u001b[1m  \u001b[0m\u001b[1m \u001b[0m┃\u001b[1m \u001b[0m\u001b[1mname\u001b[0m\u001b[1m  \u001b[0m\u001b[1m \u001b[0m┃\u001b[1m \u001b[0m\u001b[1mcross_reference\u001b[0m\u001b[1m \u001b[0m┃\u001b[1m \u001b[0m\u001b[1mid\u001b[0m\u001b[1m                                  \u001b[0m\u001b[1m \u001b[0m┃\u001b[1m \u001b[0m\u001b[1mNucleotideSequence\u001b[0m\u001b[1m                  \u001b[0m\u001b[1m \u001b[0m┃\n",
       "┡━━━━━━━━╇━━━━━━━━╇━━━━━━━━╇━━━━━━━━╇━━━━━━━━━━━━━━━━━╇━━━━━━━━━━━━━━━━━━━━━━━━━━━━━━━━━━━━━━╇━━━━━━━━━━━━━━━━━━━━━━━━━━━━━━━━━━━━━━┩\n",
       "│ \u001b[2m!int64\u001b[0m │ \u001b[2m!int64\u001b[0m │ \u001b[2mstring\u001b[0m │ \u001b[2mstring\u001b[0m │ \u001b[2mstring\u001b[0m          │ \u001b[2m!string\u001b[0m                              │ \u001b[2mstring\u001b[0m                               │\n",
       "├────────┼────────┼────────┼────────┼─────────────────┼──────────────────────────────────────┼──────────────────────────────────────┤\n",
       "│    \u001b[1;36m320\u001b[0m │   \u001b[1;36m1405\u001b[0m │ \u001b[2mNULL\u001b[0m   │ \u001b[2mNULL\u001b[0m   │ \u001b[2mNULL\u001b[0m            │ \u001b[32m40d47822-f2e1-47a1-bd5d-a2d8cdd8f5b0\u001b[0m │ \u001b[32m2b8a2f46-b390-4f1e-b8a7-a13ad7c0fc1a\u001b[0m │\n",
       "│    \u001b[1;36m125\u001b[0m │    \u001b[1;36m920\u001b[0m │ \u001b[2mNULL\u001b[0m   │ \u001b[2mNULL\u001b[0m   │ \u001b[2mNULL\u001b[0m            │ \u001b[32m6bcafe82-93b0-43f2-9bfa-1ecf656422a6\u001b[0m │ \u001b[32m13f8502f-e7f8-4893-8a22-e7cbafe9f5b5\u001b[0m │\n",
       "│     \u001b[1;36m22\u001b[0m │   \u001b[1;36m1107\u001b[0m │ \u001b[2mNULL\u001b[0m   │ \u001b[2mNULL\u001b[0m   │ \u001b[2mNULL\u001b[0m            │ \u001b[32m97004f54-1f6a-4f44-8d57-410fb5c92b30\u001b[0m │ \u001b[32m57c4f81d-37e4-48f7-b897-36a0b37f2a37\u001b[0m │\n",
       "│     \u001b[1;36m39\u001b[0m │   \u001b[1;36m1124\u001b[0m │ \u001b[2mNULL\u001b[0m   │ \u001b[2mNULL\u001b[0m   │ \u001b[2mNULL\u001b[0m            │ \u001b[32ma7d466c7-d01c-4864-8101-a26df3ae55d7\u001b[0m │ \u001b[32m5a8dd3e6-03ea-43b0-b61c-27dd4bcf2e49\u001b[0m │\n",
       "│    \u001b[1;36m212\u001b[0m │   \u001b[1;36m1396\u001b[0m │ \u001b[2mNULL\u001b[0m   │ \u001b[2mNULL\u001b[0m   │ \u001b[2mNULL\u001b[0m            │ \u001b[32ma926b9b1-1cc4-4424-ad1a-e322ce80e7db\u001b[0m │ \u001b[32m24801bc5-62fd-432d-b5dd-c314d563be05\u001b[0m │\n",
       "│    \u001b[1;36m278\u001b[0m │   \u001b[1;36m1363\u001b[0m │ \u001b[2mNULL\u001b[0m   │ \u001b[2mNULL\u001b[0m   │ \u001b[2mNULL\u001b[0m            │ \u001b[32maeb7c3ba-5805-46c3-b79a-12f09e6c0772\u001b[0m │ \u001b[32m12cee352-ee0f-468d-9666-8a34bda7d60b\u001b[0m │\n",
       "│    \u001b[1;36m269\u001b[0m │   \u001b[1;36m1354\u001b[0m │ \u001b[2mNULL\u001b[0m   │ \u001b[2mNULL\u001b[0m   │ \u001b[2mNULL\u001b[0m            │ \u001b[32mc18b917a-2aa9-4855-bd3d-6b540e3a1508\u001b[0m │ \u001b[32mf913ab86-adda-49fb-ae8f-f0f1423757d7\u001b[0m │\n",
       "│    \u001b[1;36m275\u001b[0m │   \u001b[1;36m1360\u001b[0m │ \u001b[2mNULL\u001b[0m   │ \u001b[2mNULL\u001b[0m   │ \u001b[2mNULL\u001b[0m            │ \u001b[32mce1984b6-a65a-42ee-abb5-b975e2f47665\u001b[0m │ \u001b[32m7c052c82-6b62-40f1-ab89-7b34f93683dd\u001b[0m │\n",
       "│   \u001b[1;36m3036\u001b[0m │   \u001b[1;36m3125\u001b[0m │ \u001b[2mNULL\u001b[0m   │ \u001b[2mNULL\u001b[0m   │ \u001b[2mNULL\u001b[0m            │ \u001b[32md2f01766-969f-4500-bca9-c48d92c340b1\u001b[0m │ \u001b[32m13f8502f-e7f8-4893-8a22-e7cbafe9f5b5\u001b[0m │\n",
       "│   \u001b[1;36m1345\u001b[0m │   \u001b[1;36m1544\u001b[0m │ \u001b[2mNULL\u001b[0m   │ \u001b[2mNULL\u001b[0m   │ \u001b[2mNULL\u001b[0m            │ \u001b[32mea9d41ed-567f-49c5-8b2d-66b4389e320c\u001b[0m │ \u001b[32m13f8502f-e7f8-4893-8a22-e7cbafe9f5b5\u001b[0m │\n",
       "│      \u001b[2m…\u001b[0m │      \u001b[2m…\u001b[0m │ \u001b[2m…\u001b[0m      │ \u001b[2m…\u001b[0m      │ \u001b[2m…\u001b[0m               │ \u001b[2m…\u001b[0m                                    │ \u001b[2m…\u001b[0m                                    │\n",
       "└────────┴────────┴────────┴────────┴─────────────────┴──────────────────────────────────────┴──────────────────────────────────────┘"
      ]
     },
     "execution_count": 54,
     "metadata": {},
     "output_type": "execute_result"
    }
   ],
   "source": [
    "db.connection.table(\"regions\")"
   ]
  }
 ],
 "metadata": {
  "kernelspec": {
   "display_name": "sdrdm_example",
   "language": "python",
   "name": "python3"
  },
  "language_info": {
   "codemirror_mode": {
    "name": "ipython",
    "version": 3
   },
   "file_extension": ".py",
   "mimetype": "text/x-python",
   "name": "python",
   "nbconvert_exporter": "python",
   "pygments_lexer": "ipython3",
   "version": "3.10.13"
  }
 },
 "nbformat": 4,
 "nbformat_minor": 4
}
