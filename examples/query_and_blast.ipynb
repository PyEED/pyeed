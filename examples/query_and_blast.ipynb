{
 "cells": [
  {
   "cell_type": "markdown",
   "metadata": {},
   "source": [
    "# Example 1: Getting protein information and running blast searches"
   ]
  },
  {
   "cell_type": "code",
   "execution_count": 1,
   "metadata": {},
   "outputs": [],
   "source": [
    "%reload_ext autoreload\n",
    "%autoreload 2\n",
    "\n",
    "from pyEED.core.proteinsequence import ProteinSequence\n",
    "from pyEED.ncbi.utils import get_nucleotide_sequences"
   ]
  },
  {
   "cell_type": "markdown",
   "metadata": {},
   "source": [
    "## Query NCBI\n",
    "\n",
    "The pyEED library is centered around the `ProteinSequence` object, which integrates available information on protein sequence, corresponding nucleotide sequence, as well as regions and sites within the sequences. The `ProteinSequence` can be initialized directly with a protein sequence accession number."
   ]
  },
  {
   "cell_type": "code",
   "execution_count": 4,
   "metadata": {},
   "outputs": [
    {
     "ename": "AttributeError",
     "evalue": "'SeqFeature' object has no attribute 'description'",
     "output_type": "error",
     "traceback": [
      "\u001b[0;31m---------------------------------------------------------------------------\u001b[0m",
      "\u001b[0;31mAttributeError\u001b[0m                            Traceback (most recent call last)",
      "\u001b[1;32m/Users/max/Documents/GitHub/pyeed/examples/query_and_blast.ipynb Cell 4\u001b[0m line \u001b[0;36m1\n\u001b[0;32m----> <a href='vscode-notebook-cell:/Users/max/Documents/GitHub/pyeed/examples/query_and_blast.ipynb#W3sZmlsZQ%3D%3D?line=0'>1</a>\u001b[0m aldolase \u001b[39m=\u001b[39m ProteinSequence\u001b[39m.\u001b[39;49mfrom_ncbi(\u001b[39m\"\u001b[39;49m\u001b[39mNP_001287541.1\u001b[39;49m\u001b[39m\"\u001b[39;49m)\n\u001b[1;32m      <a href='vscode-notebook-cell:/Users/max/Documents/GitHub/pyeed/examples/query_and_blast.ipynb#W3sZmlsZQ%3D%3D?line=1'>2</a>\u001b[0m \u001b[39mprint\u001b[39m(aldolase)\n",
      "File \u001b[0;32m~/Documents/GitHub/pyeed/pyEED/core/proteinsequence.py:187\u001b[0m, in \u001b[0;36mProteinSequence.from_ncbi\u001b[0;34m(cls, accession_id)\u001b[0m\n\u001b[1;32m    176\u001b[0m \u001b[39m\u001b[39m\u001b[39m\"\"\"\u001b[39;00m\n\u001b[1;32m    177\u001b[0m \u001b[39mThis method creates a 'ProteinSequence' object from a given NCBI ID.\u001b[39;00m\n\u001b[1;32m    178\u001b[0m \n\u001b[0;32m   (...)\u001b[0m\n\u001b[1;32m    183\u001b[0m \u001b[39m    ProteinSequence: 'ProteinSequence' object that corresponds to the given NCBI ID.\u001b[39;00m\n\u001b[1;32m    184\u001b[0m \u001b[39m\"\"\"\u001b[39;00m\n\u001b[1;32m    186\u001b[0m seq_record \u001b[39m=\u001b[39m \u001b[39mcls\u001b[39m\u001b[39m.\u001b[39m_get_ncbi_entry(accession_id, \u001b[39m\"\u001b[39m\u001b[39mprotein\u001b[39m\u001b[39m\"\u001b[39m)\n\u001b[0;32m--> 187\u001b[0m \u001b[39mreturn\u001b[39;00m _seqio_to_protein_sequence(\u001b[39mcls\u001b[39;49m, seq_record)\n",
      "File \u001b[0;32m~/Documents/GitHub/pyeed/pyEED/ncbi/seq_io.py:124\u001b[0m, in \u001b[0;36m_seqio_to_protein_sequence\u001b[0;34m(cls, entry)\u001b[0m\n\u001b[1;32m    121\u001b[0m     \u001b[39mif\u001b[39;00m \u001b[39m\"\u001b[39m\u001b[39mProtein\u001b[39m\u001b[39m\"\u001b[39m \u001b[39mnot\u001b[39;00m \u001b[39min\u001b[39;00m [feature\u001b[39m.\u001b[39mtype \u001b[39mfor\u001b[39;00m feature \u001b[39min\u001b[39;00m entry\u001b[39m.\u001b[39mfeatures]:\n\u001b[1;32m    122\u001b[0m         protein_name \u001b[39m=\u001b[39m feature\u001b[39m.\u001b[39mdescription[\u001b[39m0\u001b[39m]\n\u001b[0;32m--> 124\u001b[0m \u001b[39mprint\u001b[39m(feature\u001b[39m.\u001b[39;49mdescription[\u001b[39m0\u001b[39m])\n\u001b[1;32m    126\u001b[0m \u001b[39mreturn\u001b[39;00m \u001b[39mcls\u001b[39m(\n\u001b[1;32m    127\u001b[0m     \u001b[39mid\u001b[39m\u001b[39m=\u001b[39mentry\u001b[39m.\u001b[39mid,\n\u001b[1;32m    128\u001b[0m     name\u001b[39m=\u001b[39mprotein_name,\n\u001b[0;32m   (...)\u001b[0m\n\u001b[1;32m    136\u001b[0m     coding_sequence\u001b[39m=\u001b[39mcoding_sequence,\n\u001b[1;32m    137\u001b[0m )\n",
      "\u001b[0;31mAttributeError\u001b[0m: 'SeqFeature' object has no attribute 'description'"
     ]
    }
   ],
   "source": [
    "aldolase = ProteinSequence.from_ncbi(\"NP_001287541.1\")\n",
    "print(aldolase)"
   ]
  },
  {
   "cell_type": "markdown",
   "metadata": {},
   "source": [
    "## BLAST search"
   ]
  },
  {
   "cell_type": "code",
   "execution_count": 3,
   "metadata": {},
   "outputs": [
    {
     "name": "stdout",
     "output_type": "stream",
     "text": [
      "Running blast search for aldolase 1, isoform M from Drosophila melanogaster...\n"
     ]
    },
    {
     "name": "stderr",
     "output_type": "stream",
     "text": [
      "Fetching protein sequences:   0%|          | 0/15 [00:00<?, ?it/s]"
     ]
    },
    {
     "name": "stdout",
     "output_type": "stream",
     "text": [
      "ID: AEB39622.1\n",
      "Name: AEB39622\n",
      "Description: FI14722p [Drosophila melanogaster]\n",
      "Number of features: 7\n",
      "/topology=linear\n",
      "/data_file_division=INV\n",
      "/date=12-APR-2011\n",
      "/accessions=['AEB39622']\n",
      "/sequence_version=1\n",
      "/db_source=accession BT126261.1\n",
      "/keywords=['']\n",
      "/source=Drosophila melanogaster (fruit fly)\n",
      "/organism=Drosophila melanogaster\n",
      "/taxonomy=['Eukaryota', 'Metazoa', 'Ecdysozoa', 'Arthropoda', 'Hexapoda', 'Insecta', 'Pterygota', 'Neoptera', 'Endopterygota', 'Diptera', 'Brachycera', 'Muscomorpha', 'Ephydroidea', 'Drosophilidae', 'Drosophila', 'Sophophora']\n",
      "/references=[Reference(title='Direct Submission', ...)]\n",
      "/comment=Sequence submitted by:\n",
      "Berkeley Drosophila Genome Project\n",
      "Lawrence Berkeley National Laboratory\n",
      "Berkeley, CA 94720\n",
      "This clone was sequenced as part of a high-throughput process to\n",
      "sequence clones from the Drosophila Gene Collection. The sequence\n",
      "has been subjected to integrity checks for sequence accuracy,\n",
      "presence of a polyA tail and contiguity within 200 kb in the\n",
      "genome. Thus we believe the sequence to reflect accurately this\n",
      "particular cDNA clone. However, there are artifacts associated with\n",
      "the generation of cDNA clones that may have not been detected in\n",
      "our initial analyses such as internal priming, priming from\n",
      "contaminating genomic DNA, retained introns due to reverse\n",
      "transcription of unspliced precursor RNAs, and reverse\n",
      "transcriptase errors that result in single base changes. For\n",
      "further information about this sequence, including its location and\n",
      "relationship to other sequences, please visit our Web site\n",
      "(http://www.fruitfly.org) or send email to cdna@fruitfly.org.\n",
      "Method: conceptual translation.\n",
      "/molecule_type=protein\n",
      "Seq('MTLIASEGIIAEVSVTLLSYKNIIVENYTRISKMTTYFNYPSKELQDELREIAQ...HAY')\n"
     ]
    },
    {
     "name": "stderr",
     "output_type": "stream",
     "text": [
      "Fetching protein sequences:   7%|▋         | 1/15 [00:02<00:30,  2.21s/it]"
     ]
    },
    {
     "name": "stdout",
     "output_type": "stream",
     "text": [
      "ID: NP_001287541.1\n",
      "Name: NP_001287541\n",
      "Description: aldolase 1, isoform M [Drosophila melanogaster]\n",
      "Database cross-references: BioProject:PRJNA164, BioSample:SAMN02803731\n",
      "Number of features: 7\n",
      "/topology=linear\n",
      "/data_file_division=INV\n",
      "/date=15-NOV-2022\n",
      "/accessions=['NP_001287541']\n",
      "/sequence_version=1\n",
      "/db_source=REFSEQ: accession NM_001300612.1\n",
      "/keywords=['RefSeq']\n",
      "/source=Drosophila melanogaster (fruit fly)\n",
      "/organism=Drosophila melanogaster\n",
      "/taxonomy=['Eukaryota', 'Metazoa', 'Ecdysozoa', 'Arthropoda', 'Hexapoda', 'Insecta', 'Pterygota', 'Neoptera', 'Endopterygota', 'Diptera', 'Brachycera', 'Muscomorpha', 'Ephydroidea', 'Drosophilidae', 'Drosophila', 'Sophophora']\n",
      "/references=[Reference(title='Gene Model Annotations for Drosophila melanogaster: Impact of High-Throughput Data', ...), Reference(title='Gene Model Annotations for Drosophila melanogaster: The Rule-Benders', ...), Reference(title='The Release 6 reference sequence of the Drosophila melanogaster genome', ...), Reference(title='Sequence finishing and mapping of Drosophila melanogaster heterochromatin', ...), Reference(title='The Release 5.1 annotation of Drosophila melanogaster heterochromatin', ...), Reference(title='Combined evidence annotation of transposable elements in genome sequences', ...), Reference(title='Heterochromatic sequences in a Drosophila whole-genome shotgun assembly', ...), Reference(title='The transposable elements of the Drosophila melanogaster euchromatin: a genomics perspective', ...), Reference(title='Annotation of the Drosophila melanogaster euchromatic genome: a systematic review', ...), Reference(title='Finishing a whole-genome shotgun: release 3 of the Drosophila melanogaster euchromatic genome sequence', ...), Reference(title='The genome sequence of Drosophila melanogaster', ...), Reference(title='Drosophila melanogaster release 4 sequence', ...), Reference(title='Direct Submission', ...), Reference(title='Direct Submission', ...), Reference(title='Direct Submission', ...), Reference(title='Direct Submission', ...), Reference(title='Direct Submission', ...), Reference(title='Direct Submission', ...), Reference(title='Direct Submission', ...), Reference(title='Direct Submission', ...), Reference(title='Direct Submission', ...), Reference(title='Direct Submission', ...), Reference(title='Direct Submission', ...)]\n",
      "/comment=REVIEWED REFSEQ: This record has been curated by FlyBase. The\n",
      "reference sequence is identical to AHN57540.\n",
      "Method: conceptual translation.\n",
      "/structured_comment=defaultdict(<class 'dict'>, {'Genome-Annotation-Data': {'Annotation Provider': 'FlyBase', 'Annotation Status': 'Full annotation', 'Annotation Version': 'Release 6.46', 'URL': 'http://flybase.org'}})\n",
      "/molecule_type=protein\n",
      "Seq('MTTYFNYPSKELQDELREIAQKIVAPGKGILAADESGPTMGKRLQDIGVENTED...HAY')\n"
     ]
    },
    {
     "name": "stderr",
     "output_type": "stream",
     "text": [
      "Fetching protein sequences:  13%|█▎        | 2/15 [00:04<00:26,  2.01s/it]"
     ]
    },
    {
     "name": "stdout",
     "output_type": "stream",
     "text": [
      "ID: XP_032576247.1\n",
      "Name: XP_032576247\n",
      "Description: fructose-bisphosphate aldolase isoform X1 [Drosophila sechellia]\n",
      "Database cross-references: BioProject:PRJNA609127\n",
      "Number of features: 7\n",
      "/topology=linear\n",
      "/data_file_division=INV\n",
      "/date=03-MAR-2020\n",
      "/accessions=['XP_032576247']\n",
      "/sequence_version=1\n",
      "/db_source=REFSEQ: accession XM_032720356.1\n",
      "/keywords=['RefSeq']\n",
      "/source=Drosophila sechellia\n",
      "/organism=Drosophila sechellia\n",
      "/taxonomy=['Eukaryota', 'Metazoa', 'Ecdysozoa', 'Arthropoda', 'Hexapoda', 'Insecta', 'Pterygota', 'Neoptera', 'Endopterygota', 'Diptera', 'Brachycera', 'Muscomorpha', 'Ephydroidea', 'Drosophilidae', 'Drosophila', 'Sophophora']\n",
      "/comment=MODEL REFSEQ:  This record is predicted by automated computational\n",
      "analysis. This record is derived from a genomic sequence\n",
      "(NC_045952.1) annotated using gene prediction method: Gnomon,\n",
      "supported by EST evidence.\n",
      "Also see:\n",
      "    Documentation of NCBI's Annotation Process\n",
      "COMPLETENESS: full length.\n",
      "/structured_comment=defaultdict(<class 'dict'>, {'Genome-Annotation-Data': {'Annotation Provider': 'NCBI', 'Annotation Status': 'Full annotation', 'Annotation Name': 'Drosophila sechellia Annotation Release 101', 'Annotation Version': '101', 'Annotation Pipeline': 'NCBI eukaryotic genome annotation pipeline', 'Annotation Software Version': '8.3', 'Annotation Method': 'Best-placed RefSeq; Gnomon', 'Features Annotated': 'Gene; mRNA; CDS; ncRNA'}})\n",
      "/molecule_type=protein\n",
      "Seq('MTTYFNYPSKELQDELREIAQRIVAPGKGILAADESGPTMGKRLQDIGVENTED...HAY')\n"
     ]
    },
    {
     "name": "stderr",
     "output_type": "stream",
     "text": [
      "Fetching protein sequences:  20%|██        | 3/15 [00:05<00:23,  1.93s/it]"
     ]
    },
    {
     "name": "stdout",
     "output_type": "stream",
     "text": [
      "ID: XP_016036385.1\n",
      "Name: XP_016036385\n",
      "Description: fructose-bisphosphate aldolase isoform X1 [Drosophila simulans]\n",
      "Database cross-references: BioProject:PRJNA695671\n",
      "Number of features: 7\n",
      "/topology=linear\n",
      "/data_file_division=INV\n",
      "/date=03-NOV-2021\n",
      "/accessions=['XP_016036385']\n",
      "/sequence_version=1\n",
      "/db_source=REFSEQ: accession XM_016174648.3\n",
      "/keywords=['RefSeq']\n",
      "/source=Drosophila simulans\n",
      "/organism=Drosophila simulans\n",
      "/taxonomy=['Eukaryota', 'Metazoa', 'Ecdysozoa', 'Arthropoda', 'Hexapoda', 'Insecta', 'Pterygota', 'Neoptera', 'Endopterygota', 'Diptera', 'Brachycera', 'Muscomorpha', 'Ephydroidea', 'Drosophilidae', 'Drosophila', 'Sophophora']\n",
      "/comment=MODEL REFSEQ:  This record is predicted by automated computational\n",
      "analysis. This record is derived from a genomic sequence\n",
      "(NC_052523.2) annotated using gene prediction method: Gnomon,\n",
      "supported by EST evidence.\n",
      "Also see:\n",
      "    Documentation of NCBI's Annotation Process\n",
      "COMPLETENESS: full length.\n",
      "/structured_comment=defaultdict(<class 'dict'>, {'Genome-Annotation-Data': {'Annotation Provider': 'NCBI', 'Annotation Status': 'Full annotation', 'Annotation Name': 'Drosophila simulans Annotation Release 103', 'Annotation Version': '103', 'Annotation Pipeline': 'NCBI eukaryotic genome annotation pipeline', 'Annotation Software Version': '9.0', 'Annotation Method': 'Best-placed RefSeq; Gnomon', 'Features Annotated': 'Gene; mRNA; CDS; ncRNA'}})\n",
      "/molecule_type=protein\n",
      "Seq('MTTYFNYPSKELQDELRDIAQRIVAPGKGILAADESGPTMGKRLQDIGVENTED...HAY')\n"
     ]
    },
    {
     "name": "stderr",
     "output_type": "stream",
     "text": [
      "Fetching protein sequences:  27%|██▋       | 4/15 [00:08<00:23,  2.14s/it]"
     ]
    },
    {
     "name": "stdout",
     "output_type": "stream",
     "text": [
      "ID: 1FBA_A\n",
      "Name: 1FBA_A\n",
      "Description: Chain A, FRUCTOSE 1,6-BISPHOSPHATE ALDOLASE\n",
      "Number of features: 28\n",
      "/topology=linear\n",
      "/data_file_division=INV\n",
      "/date=01-DEC-2020\n",
      "/accessions=['1FBA_A']\n",
      "/db_source=pdb: molecule 1FBA, chain A, release Jul 13, 2011; deposition: Jun 8, 1992; class: LYASE(ALDEHYDE); source: Mmdb_id: 73594, Pdb_id 1: 1FBA; Exp. method: X-ray Diffraction.\n",
      "/keywords=['']\n",
      "/source=Drosophila melanogaster (fruit fly)\n",
      "/organism=Drosophila melanogaster\n",
      "/taxonomy=['Eukaryota', 'Metazoa', 'Ecdysozoa', 'Arthropoda', 'Hexapoda', 'Insecta', 'Pterygota', 'Neoptera', 'Endopterygota', 'Diptera', 'Brachycera', 'Muscomorpha', 'Ephydroidea', 'Drosophilidae', 'Drosophila', 'Sophophora']\n",
      "/references=[Reference(title='Fructose-1,6-bisphosphate aldolase from Drosophila melanogaster: primary structure analysis, secondary structure prediction, and comparison with vertebrate aldolases', ...), Reference(title='The crystal structure of fructose-1,6-bisphosphate aldolase from Drosophila melanogaster at 2.5 A resolution', ...), Reference(title='Direct Submission', ...)]\n",
      "/comment=On Jul 10, 2009 this sequence version replaced gi:157875328.\n",
      "THE CRYSTAL STRUCTURE OF FRUCTOSE-1,6-BISPHOSPHATE ALDOLASE FROM\n",
      "DROSOPHILA MELANOGASTER AT 2.5 ANGSTROMS RESOLUTION.\n",
      "/molecule_type=protein\n",
      "Seq('XTTYFNYPSKELQDELREIAQKIVAPGKGILAADESGPTMGKRLQDIGVENTED...HAY')\n"
     ]
    },
    {
     "name": "stderr",
     "output_type": "stream",
     "text": [
      "\n"
     ]
    },
    {
     "ename": "UnboundLocalError",
     "evalue": "local variable 'protein_name' referenced before assignment",
     "output_type": "error",
     "traceback": [
      "\u001b[0;31m---------------------------------------------------------------------------\u001b[0m",
      "\u001b[0;31mUnboundLocalError\u001b[0m                         Traceback (most recent call last)",
      "\u001b[1;32m/Users/max/Documents/GitHub/pyeed/examples/query_and_blast.ipynb Cell 6\u001b[0m line \u001b[0;36m1\n\u001b[0;32m----> <a href='vscode-notebook-cell:/Users/max/Documents/GitHub/pyeed/examples/query_and_blast.ipynb#W5sZmlsZQ%3D%3D?line=0'>1</a>\u001b[0m blast_results \u001b[39m=\u001b[39m aldolase\u001b[39m.\u001b[39;49mblast(n_hits\u001b[39m=\u001b[39;49m\u001b[39m15\u001b[39;49m)\n",
      "File \u001b[0;32m~/Documents/GitHub/pyeed/pyEED/core/proteinsequence.py:216\u001b[0m, in \u001b[0;36mProteinSequence.blast\u001b[0;34m(self, n_hits)\u001b[0m\n\u001b[1;32m    207\u001b[0m \u001b[39mdef\u001b[39;00m \u001b[39mblast\u001b[39m(\u001b[39mself\u001b[39m, n_hits: \u001b[39mint\u001b[39m) \u001b[39m-\u001b[39m\u001b[39m>\u001b[39m List[\u001b[39m\"\u001b[39m\u001b[39mProteinSequence\u001b[39m\u001b[39m\"\u001b[39m]:\n\u001b[1;32m    208\u001b[0m \u001b[39m    \u001b[39m\u001b[39m\"\"\"Makes a blast search with the given sequence.\u001b[39;00m\n\u001b[1;32m    209\u001b[0m \n\u001b[1;32m    210\u001b[0m \u001b[39m    Args:\u001b[39;00m\n\u001b[0;32m   (...)\u001b[0m\n\u001b[1;32m    214\u001b[0m \u001b[39m        List[ProteinSequence]: List of 'ProteinSequence' objects that are the result of the blast search.\u001b[39;00m\n\u001b[1;32m    215\u001b[0m \u001b[39m    \"\"\"\u001b[39;00m\n\u001b[0;32m--> 216\u001b[0m     \u001b[39mreturn\u001b[39;00m \u001b[39mself\u001b[39;49m\u001b[39m.\u001b[39;49m_pblast(\u001b[39mself\u001b[39;49m\u001b[39m.\u001b[39;49msequence, n_hits)\n",
      "File \u001b[0;32m~/Documents/GitHub/pyeed/pyEED/core/proteinsequence.py:238\u001b[0m, in \u001b[0;36mProteinSequence._pblast\u001b[0;34m(self, sequence, n_hits)\u001b[0m\n\u001b[1;32m    236\u001b[0m \u001b[39mfor\u001b[39;00m acc \u001b[39min\u001b[39;00m tqdm(accessions, desc\u001b[39m=\u001b[39m\u001b[39m\"\u001b[39m\u001b[39mFetching protein sequences\u001b[39m\u001b[39m\"\u001b[39m):\n\u001b[1;32m    237\u001b[0m     \u001b[39mtry\u001b[39;00m:\n\u001b[0;32m--> 238\u001b[0m         sequences\u001b[39m.\u001b[39mappend(ProteinSequence\u001b[39m.\u001b[39;49mfrom_ncbi(acc))\n\u001b[1;32m    239\u001b[0m         time\u001b[39m.\u001b[39msleep(\u001b[39m1\u001b[39m)\n\u001b[1;32m    241\u001b[0m     \u001b[39mexcept\u001b[39;00m HTTPError:\n",
      "File \u001b[0;32m~/Documents/GitHub/pyeed/pyEED/core/proteinsequence.py:187\u001b[0m, in \u001b[0;36mProteinSequence.from_ncbi\u001b[0;34m(cls, accession_id)\u001b[0m\n\u001b[1;32m    176\u001b[0m \u001b[39m\u001b[39m\u001b[39m\"\"\"\u001b[39;00m\n\u001b[1;32m    177\u001b[0m \u001b[39mThis method creates a 'ProteinSequence' object from a given NCBI ID.\u001b[39;00m\n\u001b[1;32m    178\u001b[0m \n\u001b[0;32m   (...)\u001b[0m\n\u001b[1;32m    183\u001b[0m \u001b[39m    ProteinSequence: 'ProteinSequence' object that corresponds to the given NCBI ID.\u001b[39;00m\n\u001b[1;32m    184\u001b[0m \u001b[39m\"\"\"\u001b[39;00m\n\u001b[1;32m    186\u001b[0m seq_record \u001b[39m=\u001b[39m \u001b[39mcls\u001b[39m\u001b[39m.\u001b[39m_get_ncbi_entry(accession_id, \u001b[39m\"\u001b[39m\u001b[39mprotein\u001b[39m\u001b[39m\"\u001b[39m)\n\u001b[0;32m--> 187\u001b[0m \u001b[39mreturn\u001b[39;00m _seqio_to_protein_sequence(\u001b[39mcls\u001b[39;49m, seq_record)\n",
      "File \u001b[0;32m~/Documents/GitHub/pyeed/pyEED/ncbi/seq_io.py:125\u001b[0m, in \u001b[0;36m_seqio_to_protein_sequence\u001b[0;34m(cls, entry)\u001b[0m\n\u001b[1;32m    119\u001b[0m         coding_sequence \u001b[39m=\u001b[39m \u001b[39mNone\u001b[39;00m\n\u001b[1;32m    121\u001b[0m \u001b[39mprint\u001b[39m(entry)\n\u001b[1;32m    123\u001b[0m \u001b[39mreturn\u001b[39;00m \u001b[39mcls\u001b[39m(\n\u001b[1;32m    124\u001b[0m     \u001b[39mid\u001b[39m\u001b[39m=\u001b[39mentry\u001b[39m.\u001b[39mid,\n\u001b[0;32m--> 125\u001b[0m     name\u001b[39m=\u001b[39mprotein_name,\n\u001b[1;32m    126\u001b[0m     sequence\u001b[39m=\u001b[39m\u001b[39mstr\u001b[39m(entry\u001b[39m.\u001b[39mseq),\n\u001b[1;32m    127\u001b[0m     ec_number\u001b[39m=\u001b[39mec_number,\n\u001b[1;32m    128\u001b[0m     mol_weight\u001b[39m=\u001b[39mmol_weight,\n\u001b[1;32m    129\u001b[0m     organism\u001b[39m=\u001b[39morganism,\n\u001b[1;32m    130\u001b[0m     sites\u001b[39m=\u001b[39msites,\n\u001b[1;32m    131\u001b[0m     regions\u001b[39m=\u001b[39mprotein_regions,\n\u001b[1;32m    132\u001b[0m     pdb_id\u001b[39m=\u001b[39mpdb_id,\n\u001b[1;32m    133\u001b[0m     coding_sequence\u001b[39m=\u001b[39mcoding_sequence,\n\u001b[1;32m    134\u001b[0m )\n",
      "\u001b[0;31mUnboundLocalError\u001b[0m: local variable 'protein_name' referenced before assignment"
     ]
    }
   ],
   "source": [
    "blast_results = aldolase.blast(n_hits=15)"
   ]
  },
  {
   "cell_type": "code",
   "execution_count": null,
   "metadata": {},
   "outputs": [],
   "source": [
    "get_nucleotide_sequences(blast_results)"
   ]
  },
  {
   "cell_type": "markdown",
   "metadata": {},
   "source": [
    "## Storing `ProteinSequence`s in a database\n",
    "\n"
   ]
  },
  {
   "cell_type": "code",
   "execution_count": null,
   "metadata": {},
   "outputs": [],
   "source": [
    "from sdRDM import DataModel\n",
    "from sdrdm_database import DBConnector, create_tables"
   ]
  },
  {
   "cell_type": "markdown",
   "metadata": {},
   "source": [
    "### Setting up a local MySQL database\n",
    "\n",
    "First, a local MySQL database needs to be setup. Therefore, we run a docker container with a MySQL database. \n",
    "\n",
    ">[!NOTE]\n",
    ">\n",
    ">If docker is not isntalled on your system, please follow the instructions on the [docker website](https://docs.docker.com/get-docker/).\n",
    "\n",
    "\n",
    "In case this notebook is run on a macOS system with a M1 chip, the following command needs to be run in the terminal first:\n",
    "\n",
    ">```bash\n",
    ">export DOCKER_DEFAULT_PLATFORM=linux/amd64 \n",
    ">```\n",
    "\n",
    "Next, navigate to the directory where this notebook is located and run the following command to start the docker container:\n",
    "\n",
    ">```bash\n",
    ">docker compose up -d\n",
    ">```"
   ]
  },
  {
   "cell_type": "markdown",
   "metadata": {},
   "source": [
    "### Connect to the database"
   ]
  },
  {
   "cell_type": "code",
   "execution_count": null,
   "metadata": {},
   "outputs": [],
   "source": [
    "# Establish a connection to the database\n",
    "db = DBConnector(\n",
    "    username=\"root\",\n",
    "    password=\"root\",\n",
    "    host=\"localhost\",\n",
    "    db_name=\"db\",\n",
    "    port=3306,\n",
    "    dbtype=\"mysql\",\n",
    ")"
   ]
  },
  {
   "cell_type": "code",
   "execution_count": null,
   "metadata": {},
   "outputs": [],
   "source": [
    "# Create the tables in the database\n",
    "create_tables(db_connector=db, model=ProteinSequence)"
   ]
  },
  {
   "cell_type": "markdown",
   "metadata": {},
   "source": [
    "### Populate the database"
   ]
  },
  {
   "cell_type": "code",
   "execution_count": null,
   "metadata": {},
   "outputs": [],
   "source": [
    "# Transform the data into a list of dictionaries\n",
    "blast_result_data = [result.dict() for result in blast_result_sequences]\n",
    "\n",
    "# Insert the data into the database\n",
    "db.connection.insert(\"Reactant\", blast_result_data)"
   ]
  }
 ],
 "metadata": {
  "kernelspec": {
   "display_name": "sdrdm_example",
   "language": "python",
   "name": "python3"
  },
  "language_info": {
   "codemirror_mode": {
    "name": "ipython",
    "version": 3
   },
   "file_extension": ".py",
   "mimetype": "text/x-python",
   "name": "python",
   "nbconvert_exporter": "python",
   "pygments_lexer": "ipython3",
   "version": "3.10.13"
  }
 },
 "nbformat": 4,
 "nbformat_minor": 4
}
