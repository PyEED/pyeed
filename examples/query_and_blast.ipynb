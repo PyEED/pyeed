{
 "cells": [
  {
   "cell_type": "markdown",
   "metadata": {},
   "source": [
    "# Example 1: Get protein information, run BLAST, and dump the results into a database\n"
   ]
  },
  {
   "cell_type": "code",
   "execution_count": 1,
   "metadata": {},
   "outputs": [],
   "source": [
    "%reload_ext autoreload\n",
    "%autoreload 2\n",
    "from pyEED.core import ProteinInfo"
   ]
  },
  {
   "cell_type": "markdown",
   "metadata": {},
   "source": [
    "## Query NCBI\n",
    "\n",
    "The pyEED library is centered around the `ProteinSequence` object, which integrates available information on protein sequence, corresponding nucleotide sequence, as well as regions and sites within the sequences. The `ProteinSequence` can be initialized directly with a protein sequence accession number."
   ]
  },
  {
   "cell_type": "code",
   "execution_count": 8,
   "metadata": {},
   "outputs": [
    {
     "name": "stdout",
     "output_type": "stream",
     "text": [
      "\u001b[4mProteinInfo\u001b[0m\n",
      "├── \u001b[94mid\u001b[0m = proteininfo53\n",
      "├── \u001b[94msource_id\u001b[0m = NP_001287541.1\n",
      "├── \u001b[94mname\u001b[0m = aldolase 1, isoform M\n",
      "├── \u001b[94msequence\u001b[0m = MTTYFNYPSKELQDELREIAQKIVAPGKGILAADESGPTMGKRLQDIGVENTEDNRRAYRQLLFSTDPKLAENISGVILFHETLYQKADDGTPFAEILKKKGIILGIKVDKGVVPLFGSEDEVTTQGLDDLAARCAQYKKDGCDFAKWRCVLKIGKNTPSYQSILENANVLARYASICQSQRIVPIVEPEVLPDGDHDLDRAQKVTETVLAAVYKALSDHHVYLEGTLLKPNMVTAGQSAKKNTPEEIALATVQALRRTVPAAVTGVTFLSGGQSEEEATVNLSAINNVPLIRPWALTFSYGRALQASVLRAWAGKKENIAAGQNELLKRAKANGDAAQGKYVAGSAGAGSGSLFVANHAY\n",
      "├── \u001b[94morganism\u001b[0m\n",
      "│   └── \u001b[4mOrganism\u001b[0m\n",
      "│       ├── \u001b[94mid\u001b[0m = organism53\n",
      "│       ├── \u001b[94mname\u001b[0m = Drosophila melanogaster\n",
      "│       ├── \u001b[94mtaxonomy_id\u001b[0m = taxon:7227\n",
      "│       ├── \u001b[94mdomain\u001b[0m = Eukaryota\n",
      "│       ├── \u001b[94mkingdom\u001b[0m = Metazoa\n",
      "│       ├── \u001b[94mphylum\u001b[0m = Arthropoda\n",
      "│       ├── \u001b[94mtax_class\u001b[0m = Insecta\n",
      "│       ├── \u001b[94morder\u001b[0m = Diptera\n",
      "│       ├── \u001b[94mfamily\u001b[0m = Drosophilidae\n",
      "│       ├── \u001b[94mgenus\u001b[0m = Drosophila\n",
      "│       └── \u001b[94mspecies\u001b[0m = melanogaster\n",
      "├── \u001b[94mregions\u001b[0m\n",
      "│   └── 0\n",
      "│       └── \u001b[4mProteinRegion\u001b[0m\n",
      "│           ├── \u001b[94mid\u001b[0m = proteinregion51\n",
      "│           ├── \u001b[94mname\u001b[0m = Glycolytic\n",
      "│           ├── \u001b[94mspans\u001b[0m\n",
      "│           │   └── 0\n",
      "│           │       └── \u001b[4mSpan\u001b[0m\n",
      "│           │           ├── \u001b[94mid\u001b[0m = span60\n",
      "│           │           ├── \u001b[94mstart\u001b[0m = 14\n",
      "│           │           └── \u001b[94mend\u001b[0m = 361\n",
      "│           ├── \u001b[94mnote\u001b[0m = Fructose-bisphosphate aldolase class-I; pfam00274\n",
      "│           └── \u001b[94mcross_reference\u001b[0m = CDD:425574\n",
      "├── \u001b[94msites\u001b[0m\n",
      "│   ├── 0\n",
      "│   │   └── \u001b[4mSite\u001b[0m\n",
      "│   │       ├── \u001b[94mid\u001b[0m = site0\n",
      "│   │       ├── \u001b[94mname\u001b[0m = active\n",
      "│   │       ├── \u001b[94mtype\u001b[0m = active\n",
      "│   │       ├── \u001b[94mpositions\u001b[0m = [33, 34, 35, 38, 107, ...]\n",
      "│   │       └── \u001b[94mcross_ref\u001b[0m = CDD:188635\n",
      "│   ├── 1\n",
      "│   │   └── \u001b[4mSite\u001b[0m\n",
      "│   │       ├── \u001b[94mid\u001b[0m = site1\n",
      "│   │       ├── \u001b[94mname\u001b[0m = intersubunit interface [polypeptide binding]\n",
      "│   │       ├── \u001b[94mtype\u001b[0m = unannotated\n",
      "│   │       ├── \u001b[94mpositions\u001b[0m = [110, 161, 164, 165, 168, ...]\n",
      "│   │       └── \u001b[94mcross_ref\u001b[0m = CDD:188635\n",
      "│   └── 2\n",
      "│       └── \u001b[4mSite\u001b[0m\n",
      "│           ├── \u001b[94mid\u001b[0m = site2\n",
      "│           ├── \u001b[94mname\u001b[0m = catalytic residue [active]\n",
      "│           ├── \u001b[94mtype\u001b[0m = active\n",
      "│           ├── \u001b[94mpositions\u001b[0m = [229, ...]\n",
      "│           └── \u001b[94mcross_ref\u001b[0m = CDD:188635\n",
      "├── \u001b[94mcoding_sequence_ref\u001b[0m\n",
      "│   └── \u001b[4mDNARegion\u001b[0m\n",
      "│       ├── \u001b[94mid\u001b[0m = NM_001300612.1\n",
      "│       ├── \u001b[94mspans\u001b[0m\n",
      "│       │   └── 0\n",
      "│       │       └── \u001b[4mSpan\u001b[0m\n",
      "│       │           ├── \u001b[94mid\u001b[0m = span61\n",
      "│       │           ├── \u001b[94mstart\u001b[0m = 278\n",
      "│       │           └── \u001b[94mend\u001b[0m = 1363\n",
      "│       └── \u001b[94mtype\u001b[0m = coding sequence\n",
      "├── \u001b[94mec_number\u001b[0m = 4.1.2.13\n",
      "└── \u001b[94mmol_weight\u001b[0m = 38916.0\n",
      "\n"
     ]
    }
   ],
   "source": [
    "aldolase = ProteinInfo.from_ncbi(\"NP_001287541.1\")\n",
    "print(aldolase)"
   ]
  },
  {
   "cell_type": "markdown",
   "metadata": {},
   "source": [
    "## BLAST search"
   ]
  },
  {
   "cell_type": "code",
   "execution_count": 3,
   "metadata": {},
   "outputs": [
    {
     "name": "stdout",
     "output_type": "stream",
     "text": [
      "🏃🏼‍♀️ Running PBLAST\n",
      "├── protein name: intracellular PHB depolymerase\n",
      "├── organism: Cupriavidus necator H16\n",
      "├── e-value: 1e-50\n",
      "└── max hits: 50\n"
     ]
    },
    {
     "name": "stderr",
     "output_type": "stream",
     "text": [
      "Fetching protein sequences: 50it [00:01, 25.73it/s]\n"
     ]
    }
   ],
   "source": [
    "blast_results = aldolase.pblast(n_hits=50, e_value=1e-50)"
   ]
  },
  {
   "cell_type": "code",
   "execution_count": 5,
   "metadata": {},
   "outputs": [
    {
     "name": "stdout",
     "output_type": "stream",
     "text": [
      "\u001b[4mProteinInfo\u001b[0m\n",
      "├── \u001b[94mid\u001b[0m = proteininfo2\n",
      "├── \u001b[94msource_id\u001b[0m = WP_010809034.1\n",
      "├── \u001b[94mname\u001b[0m = polyhydroxyalkanoate depolymerase\n",
      "├── \u001b[94msequence\u001b[0m = MLYQLHEFQRSILHPLTAWAQATAKTFTNPLSPLSLVPGAPRLAAGYELLYRLGKEYEKPAFDIKSVRSNGRDIPIVEQTVLEKPFCKLVRFKRYADDPETIKLLKDEPVVLVAAPLSGHHATLLRDTVRTLLQDHKVYVTDWIDARMVPVEEGAFHLSDYIYYIQEFIRHIGAENLHVISVCQPTVPVLAAISLMASAGEKTPRTMTMMGGPIDARKSPTAVNSLATNKSFEWFENNVIYTVPANYPGHGRRVYPGFLQHAGFVAMNPDRHLSSHYDFYLSLVEGDADDAEAHVRFYDEYNAVLDMAAEYYLDTIREVFQEFRLANGTWAIDGNPVRPQDIKSTALMTVEGELDDISGAGQTAAAHDLCAGIPKTRKQHLNAAHCGHYGIFSGRRWREEIYPQLRDFIRKYHQASATR\n",
      "├── \u001b[94morganism\u001b[0m\n",
      "│   └── \u001b[4mOrganism\u001b[0m\n",
      "│       ├── \u001b[94mid\u001b[0m = organism2\n",
      "│       ├── \u001b[94mname\u001b[0m = Cupriavidus\n",
      "│       ├── \u001b[94mtaxonomy_id\u001b[0m = taxon:106589\n",
      "│       ├── \u001b[94mdomain\u001b[0m = Bacteria\n",
      "│       ├── \u001b[94mkingdom\u001b[0m = Pseudomonadota\n",
      "│       └── \u001b[94mphylum\u001b[0m = Burkholderiales\n",
      "├── \u001b[94mregions\u001b[0m\n",
      "│   └── 0\n",
      "│       └── \u001b[4mProteinRegion\u001b[0m\n",
      "│           ├── \u001b[94mid\u001b[0m = proteinregion2\n",
      "│           ├── \u001b[94mname\u001b[0m = DepA\n",
      "│           ├── \u001b[94mspans\u001b[0m\n",
      "│           │   └── 0\n",
      "│           │       └── \u001b[4mSpan\u001b[0m\n",
      "│           │           ├── \u001b[94mid\u001b[0m = span3\n",
      "│           │           ├── \u001b[94mstart\u001b[0m = 0\n",
      "│           │           └── \u001b[94mend\u001b[0m = 412\n",
      "│           ├── \u001b[94mnote\u001b[0m = Poly-beta-hydroxyalkanoate depolymerase [Lipid transport and metabolism]; COG4553\n",
      "│           └── \u001b[94mcross_reference\u001b[0m = CDD:226926\n",
      "├── \u001b[94mcoding_sequence_ref\u001b[0m\n",
      "│   └── \u001b[4mDNARegion\u001b[0m\n",
      "│       └── \u001b[94mid\u001b[0m = dnaregion2\n",
      "└── \u001b[94mmol_weight\u001b[0m = 47174.0\n",
      "\n"
     ]
    }
   ],
   "source": [
    "print(blast_results[1])"
   ]
  },
  {
   "cell_type": "markdown",
   "metadata": {},
   "source": [
    "## Storing `ProteinSequence`s in a PostgreSQL database\n",
    "\n"
   ]
  },
  {
   "cell_type": "code",
   "execution_count": 4,
   "metadata": {},
   "outputs": [],
   "source": [
    "from sdrdm_database import DBConnector"
   ]
  },
  {
   "cell_type": "markdown",
   "metadata": {},
   "source": [
    "### Setting up a local MySQL database\n",
    "\n",
    "First, a local MySQL database needs to be setup. Therefore, we run a docker container with a MySQL database. \n",
    "If docker is not installed on your system, please follow the instructions on the [docker website](https://docs.docker.com/get-docker/).\n",
    "\n",
    "\n",
    "In case this notebook is run on a macOS system with a M1 chip, the following command needs to be run in the terminal first:\n",
    "\n",
    ">```bash\n",
    ">export DOCKER_DEFAULT_PLATFORM=linux/amd64\n",
    ">```\n",
    "\n",
    "Next, navigate to the directory where this notebook is located and run the following command to start the docker container:\n",
    "\n",
    ">```bash\n",
    ">docker compose up -d\n",
    ">```\n",
    "\n",
    "### Delete contianers\n",
    "\n",
    ">```    \n",
    ">docker rm -vf $(docker ps -aq)\n",
    ">docker rmi -f $(docker images -aq)\n",
    ">```"
   ]
  },
  {
   "cell_type": "markdown",
   "metadata": {},
   "source": [
    "### Connect to the PostgreSQL database"
   ]
  },
  {
   "cell_type": "code",
   "execution_count": null,
   "metadata": {},
   "outputs": [],
   "source": [
    "import toml\n",
    "\n",
    "# Establish a connection to the database\n",
    "db = DBConnector(**toml.load(open(\"./env.toml\")))"
   ]
  },
  {
   "cell_type": "markdown",
   "metadata": {},
   "source": [
    "### Create tables for `ProteinInfo`"
   ]
  },
  {
   "cell_type": "code",
   "execution_count": null,
   "metadata": {},
   "outputs": [],
   "source": [
    "db.create_tables(\n",
    "    model=ProteinInfo,\n",
    "    markdown_path=\"/Users/max/Documents/GitHub/pyeed/specifications/data_model.md\",\n",
    ")"
   ]
  },
  {
   "cell_type": "code",
   "execution_count": null,
   "metadata": {},
   "outputs": [],
   "source": [
    "# See all created table names\n",
    "db.connection.list_tables()"
   ]
  },
  {
   "cell_type": "markdown",
   "metadata": {},
   "source": [
    "### Populate the database with `ProteinSequence`s"
   ]
  },
  {
   "cell_type": "code",
   "execution_count": null,
   "metadata": {},
   "outputs": [],
   "source": [
    "# Insert all blast results into the database\n",
    "db.insert(*blast_results, verbose=True)"
   ]
  },
  {
   "cell_type": "markdown",
   "metadata": {},
   "source": [
    "### Look at entries in the database"
   ]
  },
  {
   "cell_type": "code",
   "execution_count": null,
   "metadata": {},
   "outputs": [],
   "source": [
    "db.connection.table(\"ProteinInfo_organism\")"
   ]
  },
  {
   "cell_type": "code",
   "execution_count": null,
   "metadata": {},
   "outputs": [],
   "source": [
    "# Lets filter the blast results for a specific organism\n",
    "target = \"Drosophila melanogaster\"\n",
    "\n",
    "# First, join the ProteinSequence table with the ProteinSequence_organism table\n",
    "prot_seqs = db.connection.table(\"ProteinInfo\")\n",
    "organisms = db.connection.table(\"ProteinInfo_organism\")\n",
    "joined = prot_seqs.join(\n",
    "    organisms,\n",
    "    prot_seqs.ProteinInfo_id == organisms.ProteinInfo_id,\n",
    "    rname=\"organism_{name}\",\n",
    ")\n",
    "\n",
    "# Next, filter the joined table for the target organism\n",
    "filtered = joined.filter(joined.organism_name == target)\n",
    "filtered\n",
    "\n",
    "# Finally, we can get the corresponding ProteinSequence objects\n",
    "results = db.get(\"ProteinInfo\", filtered)\n",
    "print(len(results))"
   ]
  }
 ],
 "metadata": {
  "kernelspec": {
   "display_name": "sdrdm_example",
   "language": "python",
   "name": "python3"
  },
  "language_info": {
   "codemirror_mode": {
    "name": "ipython",
    "version": 3
   },
   "file_extension": ".py",
   "mimetype": "text/x-python",
   "name": "python",
   "nbconvert_exporter": "python",
   "pygments_lexer": "ipython3",
   "version": "3.10.13"
  }
 },
 "nbformat": 4,
 "nbformat_minor": 4
}
