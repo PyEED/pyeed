{
 "cells": [
  {
   "cell_type": "markdown",
   "metadata": {},
   "source": [
    "# Example 1: Get protein information, run BLAST, and dump the results into a database\n"
   ]
  },
  {
   "cell_type": "code",
   "execution_count": 1,
   "metadata": {},
   "outputs": [],
   "source": [
    "%reload_ext autoreload\n",
    "%autoreload 2\n",
    "from pyEED.core import ProteinInfo"
   ]
  },
  {
   "cell_type": "markdown",
   "metadata": {},
   "source": [
    "## Query NCBI\n",
    "\n",
    "The pyEED library is centered around the `ProteinSequence` object, which integrates available information on protein sequence, corresponding nucleotide sequence, as well as regions and sites within the sequences. The `ProteinSequence` can be initialized directly with a protein sequence accession number."
   ]
  },
  {
   "cell_type": "code",
   "execution_count": 2,
   "metadata": {},
   "outputs": [
    {
     "name": "stdout",
     "output_type": "stream",
     "text": [
      "\u001b[4mProteinInfo\u001b[0m\n",
      "├── \u001b[94mid\u001b[0m = proteininfo0\n",
      "├── \u001b[94msource_id\u001b[0m = NP_001287541.1\n",
      "├── \u001b[94mname\u001b[0m = aldolase 1, isoform M\n",
      "├── \u001b[94msequence\u001b[0m = MTTYFNYPSKELQDELREIAQKIVAPGKGILAADESGPTMGKRLQDIGVENTEDNRRAYRQLLFSTDPKLAENISGVILFHETLYQKADDGTPFAEILKKKGIILGIKVDKGVVPLFGSEDEVTTQGLDDLAARCAQYKKDGCDFAKWRCVLKIGKNTPSYQSILENANVLARYASICQSQRIVPIVEPEVLPDGDHDLDRAQKVTETVLAAVYKALSDHHVYLEGTLLKPNMVTAGQSAKKNTPEEIALATVQALRRTVPAAVTGVTFLSGGQSEEEATVNLSAINNVPLIRPWALTFSYGRALQASVLRAWAGKKENIAAGQNELLKRAKANGDAAQGKYVAGSAGAGSGSLFVANHAY\n",
      "├── \u001b[94morganism\u001b[0m\n",
      "│   └── \u001b[4mOrganism\u001b[0m\n",
      "│       ├── \u001b[94mid\u001b[0m = organism0\n",
      "│       ├── \u001b[94mname\u001b[0m = Drosophila melanogaster\n",
      "│       ├── \u001b[94mtaxonomy_id\u001b[0m = taxon:7227\n",
      "│       ├── \u001b[94mdomain\u001b[0m = Eukaryota\n",
      "│       ├── \u001b[94mkingdom\u001b[0m = Metazoa\n",
      "│       ├── \u001b[94mphylum\u001b[0m = Arthropoda\n",
      "│       ├── \u001b[94mtax_class\u001b[0m = Insecta\n",
      "│       ├── \u001b[94morder\u001b[0m = Diptera\n",
      "│       ├── \u001b[94mfamily\u001b[0m = Drosophilidae\n",
      "│       ├── \u001b[94mgenus\u001b[0m = Drosophila\n",
      "│       └── \u001b[94mspecies\u001b[0m = melanogaster\n",
      "├── \u001b[94mregions\u001b[0m\n",
      "│   └── 0\n",
      "│       └── \u001b[4mProteinRegion\u001b[0m\n",
      "│           ├── \u001b[94mid\u001b[0m = proteinregion0\n",
      "│           ├── \u001b[94mname\u001b[0m = Glycolytic\n",
      "│           ├── \u001b[94mspans\u001b[0m\n",
      "│           │   └── 0\n",
      "│           │       └── \u001b[4mSpan\u001b[0m\n",
      "│           │           ├── \u001b[94mid\u001b[0m = span0\n",
      "│           │           ├── \u001b[94mstart\u001b[0m = 14\n",
      "│           │           └── \u001b[94mend\u001b[0m = 361\n",
      "│           ├── \u001b[94mnote\u001b[0m = Fructose-bisphosphate aldolase class-I; pfam00274\n",
      "│           └── \u001b[94mcross_reference\u001b[0m = CDD:425574\n",
      "├── \u001b[94msites\u001b[0m\n",
      "│   ├── 0\n",
      "│   │   └── \u001b[4mSite\u001b[0m\n",
      "│   │       ├── \u001b[94mid\u001b[0m = site0\n",
      "│   │       ├── \u001b[94mname\u001b[0m = active\n",
      "│   │       ├── \u001b[94mtype\u001b[0m = active\n",
      "│   │       ├── \u001b[94mpositions\u001b[0m = [33, 34, 35, 38, 107, ...]\n",
      "│   │       └── \u001b[94mcross_ref\u001b[0m = CDD:188635\n",
      "│   ├── 1\n",
      "│   │   └── \u001b[4mSite\u001b[0m\n",
      "│   │       ├── \u001b[94mid\u001b[0m = site1\n",
      "│   │       ├── \u001b[94mname\u001b[0m = intersubunit interface [polypeptide binding]\n",
      "│   │       ├── \u001b[94mtype\u001b[0m = unannotated\n",
      "│   │       ├── \u001b[94mpositions\u001b[0m = [110, 161, 164, 165, 168, ...]\n",
      "│   │       └── \u001b[94mcross_ref\u001b[0m = CDD:188635\n",
      "│   └── 2\n",
      "│       └── \u001b[4mSite\u001b[0m\n",
      "│           ├── \u001b[94mid\u001b[0m = site2\n",
      "│           ├── \u001b[94mname\u001b[0m = catalytic residue [active]\n",
      "│           ├── \u001b[94mtype\u001b[0m = active\n",
      "│           ├── \u001b[94mpositions\u001b[0m = [229, ...]\n",
      "│           └── \u001b[94mcross_ref\u001b[0m = CDD:188635\n",
      "├── \u001b[94mcoding_sequence_ref\u001b[0m\n",
      "│   └── \u001b[4mDNARegion\u001b[0m\n",
      "│       ├── \u001b[94mid\u001b[0m = NM_001300612.1\n",
      "│       ├── \u001b[94mspans\u001b[0m\n",
      "│       │   └── 0\n",
      "│       │       └── \u001b[4mSpan\u001b[0m\n",
      "│       │           ├── \u001b[94mid\u001b[0m = span1\n",
      "│       │           ├── \u001b[94mstart\u001b[0m = 278\n",
      "│       │           └── \u001b[94mend\u001b[0m = 1363\n",
      "│       └── \u001b[94mtype\u001b[0m = coding sequence\n",
      "├── \u001b[94mec_number\u001b[0m = 4.1.2.13\n",
      "└── \u001b[94mmol_weight\u001b[0m = 38916.0\n",
      "\n"
     ]
    }
   ],
   "source": [
    "aldolase = ProteinInfo.from_ncbi(\"NP_001287541.1\")\n",
    "print(aldolase)"
   ]
  },
  {
   "cell_type": "code",
   "execution_count": 3,
   "metadata": {},
   "outputs": [
    {
     "name": "stdout",
     "output_type": "stream",
     "text": [
      "\u001b[4mDNAInfo\u001b[0m\n",
      "├── \u001b[94mid\u001b[0m = dnainfo0\n",
      "├── \u001b[94mname\u001b[0m = Drosophila melanogaster aldolase 1, transcript variant M (Ald1), mRNA\n",
      "├── \u001b[94msequence\u001b[0m = AGTCGGTTGCCCAACACCGTCGGCGACGACCTCCAAACAACCTTTTGGGGTCTCGCTCGGCATGTCTCGCTTATTTCGCTTTGGAATTTCACGTTGACGCCGCAGTCAGCGGTAGCAGAGGCATCGGCAGCGGCAGTAGCAGCGACACGGGCCGAAAATAAAAGCGTTAACCGCTCTCCTCCAGTGCAGCAGCAGCAGCGGACCCAGCCAGTAGCCAGCAGCTAATCACCACATCCCAGATTCAGTTTCCAGTTCGAACTACACTCGAATCTCAAAAATGACGACCTACTTCAACTACCCCAGCAAGGAGCTGCAGGATGAGCTGCGCGAAATCGCCCAGAAAATCGTTGCCCCCGGCAAGGGAATCCTCGCCGCCGATGAGTCCGGCCCAACCATGGGCAAGCGTCTGCAGGACATCGGCGTGGAGAACACCGAGGACAACCGCCGTGCCTACCGTCAGCTGTTGTTCAGCACTGACCCCAAGCTGGCCGAGAACATCTCTGGAGTGATCCTGTTCCACGAGACCCTCTACCAGAAGGCCGATGATGGCACCCCCTTCGCCGAGATCCTGAAGAAGAAGGGAATCATTCTGGGCATCAAGGTCGACAAGGGTGTTGTCCCACTGTTCGGCTCTGAGGATGAGGTCACCACCCAGGGTCTGGATGACCTGGCCGCCCGTTGCGCCCAGTACAAGAAGGACGGTTGCGACTTCGCCAAGTGGCGTTGCGTCCTGAAGATCGGCAAGAACACCCCATCCTACCAGTCGATCCTGGAGAACGCCAATGTCCTGGCCCGCTACGCCTCCATCTGCCAGTCGCAGCGCATCGTCCCAATTGTGGAGCCCGAGGTTCTGCCCGATGGCGATCACGATCTGGACCGCGCCCAGAAGGTCACCGAGACCGTCCTGGCCGCCGTCTACAAGGCCCTGAGCGACCACCACGTCTACCTGGAGGGTACTCTGCTGAAGCCCAACATGGTCACCGCCGGTCAGTCGGCCAAGAAGAACACCCCCGAGGAGATCGCCCTGGCCACCGTGCAGGCTCTGCGCCGCACCGTTCCCGCCGCCGTTACTGGCGTGACCTTCCTGTCTGGAGGTCAGTCCGAGGAGGAGGCCACCGTCAACCTGAGTGCCATCAACAACGTTCCCTTGATCCGCCCATGGGCCCTCACCTTCTCGTACGGTCGTGCCCTGCAGGCCTCCGTCCTGCGTGCCTGGGCTGGCAAGAAGGAGAACATTGCTGCCGGCCAGAACGAGCTGCTTAAGCGCGCCAAGGCCAACGGTGATGCTGCTCAGGGCAAGTACGTTGCCGGCAGCGCTGGTGCCGGATCTGGATCCCTGTTCGTGGCCAACCACGCCTACTAAGGCGTTTGGTTGGACCTTGGCTACACGTTACTACAAAAAAAAAAAATACGAAGCAGATTGCTGGAAAAGTTTGGCAGATTTGTTTATTTTTACCTTAGTTTCGAGAGCTAAGCAAAGCAAGCATTACAAAAAATAACCAAAAAAAAAAAGATGAACGATTACACTTTCAAAACATGTTATATATATGTAGTACGTGACATTTTTGCAAGTTTATTATATTATAACATTATTTTAGAGAACAACTAAATGATGAGTGCAGAAGAAAGGATTGAATATGTTCGATGGAGAAACAATTCAACAATTCAAACAATTTTATCTTTAGTTTTAAGCACATGAACCTATTATTGTTGAAGTTATTACATTTCTATTCTATTATTATGATTATGCAAGATTTCAATGAAAACAAAAGGATATGTCGTAAATCGCTAGGCTAAAGCACATTTTATGGTGAAAACAACAGCAATCACTATCAGCAACACCTAAATGTATGAGGCTTGTAACATTGAAGTCGCACAACGTTTTTTGAATTTTTTTAATGTTTTATAAAAAGATCCACTATGAAAATCGATGTTTTACCATTATTATTATTATTAAACTTTATATTTATGATTGATAAGTATAAGTGAAACAAATGACGAGAATAAACAAACACATTAAAATAAACCCGAAAAGCCCCCAAAACAACTTTATTAACCTTATATACATATATTTACATTGTTAAAAGAGAACTTGTTGTTGC\n",
      "├── \u001b[94morganism\u001b[0m\n",
      "│   └── \u001b[4mOrganism\u001b[0m\n",
      "│       ├── \u001b[94mid\u001b[0m = organism1\n",
      "│       ├── \u001b[94mname\u001b[0m = Drosophila melanogaster\n",
      "│       ├── \u001b[94mtaxonomy_id\u001b[0m = taxon:7227\n",
      "│       ├── \u001b[94mdomain\u001b[0m = Eukaryota\n",
      "│       ├── \u001b[94mkingdom\u001b[0m = Metazoa\n",
      "│       ├── \u001b[94mphylum\u001b[0m = Arthropoda\n",
      "│       ├── \u001b[94mtax_class\u001b[0m = Insecta\n",
      "│       ├── \u001b[94morder\u001b[0m = Diptera\n",
      "│       ├── \u001b[94mfamily\u001b[0m = Drosophilidae\n",
      "│       ├── \u001b[94mgenus\u001b[0m = Drosophila\n",
      "│       └── \u001b[94mspecies\u001b[0m = melanogaster\n",
      "├── \u001b[94mregions\u001b[0m\n",
      "│   ├── 0\n",
      "│   │   └── \u001b[4mDNARegion\u001b[0m\n",
      "│   │       ├── \u001b[94mid\u001b[0m = dnaregion1\n",
      "│   │       ├── \u001b[94mname\u001b[0m = Ald1\n",
      "│   │       ├── \u001b[94mspans\u001b[0m\n",
      "│   │       │   └── 0\n",
      "│   │       │       └── \u001b[4mSpan\u001b[0m\n",
      "│   │       │           ├── \u001b[94mid\u001b[0m = span2\n",
      "│   │       │           ├── \u001b[94mstart\u001b[0m = 0\n",
      "│   │       │           └── \u001b[94mend\u001b[0m = 2102\n",
      "│   │       ├── \u001b[94mnote\u001b[0m = Aldolase 1\n",
      "│   │       ├── \u001b[94mcross_reference\u001b[0m = GeneID:43183\n",
      "│   │       └── \u001b[94mtype\u001b[0m = gene\n",
      "│   └── 1\n",
      "│       └── \u001b[4mDNARegion\u001b[0m\n",
      "│           ├── \u001b[94mid\u001b[0m = dnaregion2\n",
      "│           ├── \u001b[94mname\u001b[0m = aldolase 1, isoform M\n",
      "│           ├── \u001b[94mspans\u001b[0m\n",
      "│           │   └── 0\n",
      "│           │       └── \u001b[4mSpan\u001b[0m\n",
      "│           │           ├── \u001b[94mid\u001b[0m = span3\n",
      "│           │           ├── \u001b[94mstart\u001b[0m = 277\n",
      "│           │           └── \u001b[94mend\u001b[0m = 1363\n",
      "│           ├── \u001b[94mnote\u001b[0m = CG6058 gene product from transcript CG6058-RM; CG6058-PM; Ald1-PM; aldolase; fructose 1,6 biphosphate-aldolase A\n",
      "│           ├── \u001b[94mcross_reference\u001b[0m = NP_001287541.1\n",
      "│           └── \u001b[94mtype\u001b[0m = coding sequence\n",
      "└── \u001b[94msource_id\u001b[0m = NM_001300612.1\n",
      "\n"
     ]
    }
   ],
   "source": [
    "# Get the corresponding DNA sequence\n",
    "aldolase_dna = aldolase.get_dna()\n",
    "print(aldolase_dna)"
   ]
  },
  {
   "cell_type": "markdown",
   "metadata": {},
   "source": [
    "## BLAST search"
   ]
  },
  {
   "cell_type": "code",
   "execution_count": 23,
   "metadata": {},
   "outputs": [
    {
     "name": "stdout",
     "output_type": "stream",
     "text": [
      "🏃🏼‍♀️ Running PBLAST\n",
      "├── name: aldolase 1, isoform M\n",
      "├── organism: Drosophila melanogaster\n",
      "├── e-value: 0.0021\n",
      "└── max hits: 99\n"
     ]
    },
    {
     "name": "stderr",
     "output_type": "stream",
     "text": [
      "Fetching protein sequences: 99it [00:20,  4.87it/s]\n"
     ]
    }
   ],
   "source": [
    "blast_results = aldolase.pblast(n_hits=99, e_value=0.0021)"
   ]
  },
  {
   "cell_type": "markdown",
   "metadata": {},
   "source": [
    "## Storing `ProteinSequence`s in a PostgreSQL database\n",
    "\n"
   ]
  },
  {
   "cell_type": "code",
   "execution_count": 8,
   "metadata": {},
   "outputs": [],
   "source": [
    "from sdrdm_database import DBConnector"
   ]
  },
  {
   "cell_type": "markdown",
   "metadata": {},
   "source": [
    "### Setting up a local MySQL database\n",
    "\n",
    "First, a local MySQL database needs to be setup. Therefore, we run a docker container with a MySQL database. \n",
    "If docker is not installed on your system, please follow the instructions on the [docker website](https://docs.docker.com/get-docker/).\n",
    "\n",
    "\n",
    "In case this notebook is run on a macOS system with a M1 chip, the following command needs to be run in the terminal first:\n",
    "\n",
    ">```bash\n",
    ">export DOCKER_DEFAULT_PLATFORM=linux/amd64\n",
    ">```\n",
    "\n",
    "Next, navigate to the directory where this notebook is located and run the following command to start the docker container:\n",
    "\n",
    ">```bash\n",
    ">docker compose up -d\n",
    ">```\n",
    "\n",
    "### Delete contianers\n",
    "\n",
    ">```    \n",
    ">docker rm -vf $(docker ps -aq)\n",
    ">docker rmi -f $(docker images -aq)\n",
    ">```"
   ]
  },
  {
   "cell_type": "markdown",
   "metadata": {},
   "source": [
    "### Connect to the PostgreSQL database"
   ]
  },
  {
   "cell_type": "code",
   "execution_count": 9,
   "metadata": {},
   "outputs": [
    {
     "name": "stdout",
     "output_type": "stream",
     "text": [
      "🎉 Connected                                                                                        \n"
     ]
    }
   ],
   "source": [
    "import toml\n",
    "\n",
    "# Establish a connection to the database\n",
    "db = DBConnector(**toml.load(open(\"./env.toml\")))"
   ]
  },
  {
   "cell_type": "markdown",
   "metadata": {},
   "source": [
    "### Create tables for `ProteinInfo`"
   ]
  },
  {
   "cell_type": "code",
   "execution_count": 10,
   "metadata": {},
   "outputs": [
    {
     "name": "stdout",
     "output_type": "stream",
     "text": [
      "\n",
      "🚀 Creating tables for data model ProteinInfo\n",
      "│\n",
      "├── Model 'ProteinInfo' already registered. Skipping.\n",
      "├── Table 'ProteinInfo'. Already exists in database. Skipping.\n",
      "├── Table 'ProteinInfo_coding_sequence_ref'. Already exists in database. Skipping.\n",
      "├── Table 'DNARegion_spans'. Already exists in database. Skipping.\n",
      "├── Table 'ProteinInfo_sites'. Already exists in database. Skipping.\n",
      "├── Table 'Site_positions'. Already exists in database. Skipping.\n",
      "├── Table 'ProteinInfo_regions'. Already exists in database. Skipping.\n",
      "├── Table 'ProteinRegion_spans'. Already exists in database. Skipping.\n",
      "├── Table 'ProteinInfo_organism'. Already exists in database. Skipping.\n",
      "│\n",
      "╰── 🎉 Created all tables for data model ProteinInfo\n",
      "\n"
     ]
    }
   ],
   "source": [
    "db.create_tables(\n",
    "    model=ProteinInfo,\n",
    "    markdown_path=\"/Users/max/Documents/GitHub/pyeed/specifications/data_model.md\",\n",
    ")"
   ]
  },
  {
   "cell_type": "code",
   "execution_count": 11,
   "metadata": {},
   "outputs": [
    {
     "data": {
      "text/plain": [
       "['DNARegion_spans',\n",
       " 'ProteinInfo',\n",
       " 'ProteinInfo_coding_sequence_ref',\n",
       " 'ProteinInfo_organism',\n",
       " 'ProteinInfo_regions',\n",
       " 'ProteinInfo_sites',\n",
       " 'ProteinRegion_spans',\n",
       " 'Site_positions',\n",
       " '__model_meta__']"
      ]
     },
     "execution_count": 11,
     "metadata": {},
     "output_type": "execute_result"
    }
   ],
   "source": [
    "# See all created table names\n",
    "db.connection.list_tables()"
   ]
  },
  {
   "cell_type": "markdown",
   "metadata": {},
   "source": [
    "### Populate the database with `ProteinSequence`s"
   ]
  },
  {
   "cell_type": "code",
   "execution_count": 12,
   "metadata": {},
   "outputs": [],
   "source": [
    "# Insert all blast results into the database\n",
    "db.insert(*blast_results, verbose=True)"
   ]
  },
  {
   "cell_type": "markdown",
   "metadata": {},
   "source": [
    "### Look at entries in the database"
   ]
  },
  {
   "cell_type": "code",
   "execution_count": 13,
   "metadata": {},
   "outputs": [
    {
     "data": {
      "text/html": [
       "<pre style=\"white-space:pre;overflow-x:auto;line-height:normal;font-family:Menlo,'DejaVu Sans Mono',consolas,'Courier New',monospace\">┏━━━━━━━━━━━━━━━━━━━━━━━━━┳━━━━━━━━━━━━━┳━━━━━━━━━━━┳━━━━━━━━━┳━━━━━━━━━━━━┳━━━━━━━━━━━┳━━━━━━━━━┳━━━━━━━━━━━━━━━┳━━━━━━━━━━━━┳━━━━━━━━━━━━━━┳━━━━━━━━━━━━━━━━━━━━━━━━━━━━━━━━━━━━━━┳━━━━━━━━━━━━━━━━━━━━━━━━━━━━━━━━━━━━━━┓\n",
       "┃<span style=\"font-weight: bold\"> name                    </span>┃<span style=\"font-weight: bold\"> taxonomy_id </span>┃<span style=\"font-weight: bold\"> domain    </span>┃<span style=\"font-weight: bold\"> kingdom </span>┃<span style=\"font-weight: bold\"> phylum     </span>┃<span style=\"font-weight: bold\"> tax_class </span>┃<span style=\"font-weight: bold\"> order   </span>┃<span style=\"font-weight: bold\"> family        </span>┃<span style=\"font-weight: bold\"> genus      </span>┃<span style=\"font-weight: bold\"> species      </span>┃<span style=\"font-weight: bold\"> ProteinInfo_organism_id              </span>┃<span style=\"font-weight: bold\"> ProteinInfo_id                       </span>┃\n",
       "┡━━━━━━━━━━━━━━━━━━━━━━━━━╇━━━━━━━━━━━━━╇━━━━━━━━━━━╇━━━━━━━━━╇━━━━━━━━━━━━╇━━━━━━━━━━━╇━━━━━━━━━╇━━━━━━━━━━━━━━━╇━━━━━━━━━━━━╇━━━━━━━━━━━━━━╇━━━━━━━━━━━━━━━━━━━━━━━━━━━━━━━━━━━━━━╇━━━━━━━━━━━━━━━━━━━━━━━━━━━━━━━━━━━━━━┩\n",
       "│ <span style=\"color: #7f7f7f; text-decoration-color: #7f7f7f\">string</span>                  │ <span style=\"color: #7f7f7f; text-decoration-color: #7f7f7f\">!string</span>     │ <span style=\"color: #7f7f7f; text-decoration-color: #7f7f7f\">string</span>    │ <span style=\"color: #7f7f7f; text-decoration-color: #7f7f7f\">string</span>  │ <span style=\"color: #7f7f7f; text-decoration-color: #7f7f7f\">string</span>     │ <span style=\"color: #7f7f7f; text-decoration-color: #7f7f7f\">string</span>    │ <span style=\"color: #7f7f7f; text-decoration-color: #7f7f7f\">string</span>  │ <span style=\"color: #7f7f7f; text-decoration-color: #7f7f7f\">string</span>        │ <span style=\"color: #7f7f7f; text-decoration-color: #7f7f7f\">string</span>     │ <span style=\"color: #7f7f7f; text-decoration-color: #7f7f7f\">string</span>       │ <span style=\"color: #7f7f7f; text-decoration-color: #7f7f7f\">!string</span>                              │ <span style=\"color: #7f7f7f; text-decoration-color: #7f7f7f\">string</span>                               │\n",
       "├─────────────────────────┼─────────────┼───────────┼─────────┼────────────┼───────────┼─────────┼───────────────┼────────────┼──────────────┼──────────────────────────────────────┼──────────────────────────────────────┤\n",
       "│ <span style=\"color: #008000; text-decoration-color: #008000\">Drosophila melanogaster</span> │ <span style=\"color: #008000; text-decoration-color: #008000\">taxon:7227 </span> │ <span style=\"color: #008000; text-decoration-color: #008000\">Eukaryota</span> │ <span style=\"color: #008000; text-decoration-color: #008000\">Metazoa</span> │ <span style=\"color: #008000; text-decoration-color: #008000\">Arthropoda</span> │ <span style=\"color: #008000; text-decoration-color: #008000\">Insecta  </span> │ <span style=\"color: #008000; text-decoration-color: #008000\">Diptera</span> │ <span style=\"color: #008000; text-decoration-color: #008000\">Drosophilidae</span> │ <span style=\"color: #008000; text-decoration-color: #008000\">Drosophila</span> │ <span style=\"color: #008000; text-decoration-color: #008000\">melanogaster</span> │ <span style=\"color: #008000; text-decoration-color: #008000\">545be718-ed7f-47a3-be8e-5bd7b10ba298</span> │ <span style=\"color: #008000; text-decoration-color: #008000\">0457be18-0d6f-4f10-a5e6-e5539c32b344</span> │\n",
       "│ <span style=\"color: #008000; text-decoration-color: #008000\">Drosophila melanogaster</span> │ <span style=\"color: #008000; text-decoration-color: #008000\">taxon:7227 </span> │ <span style=\"color: #008000; text-decoration-color: #008000\">Eukaryota</span> │ <span style=\"color: #008000; text-decoration-color: #008000\">Metazoa</span> │ <span style=\"color: #008000; text-decoration-color: #008000\">Arthropoda</span> │ <span style=\"color: #008000; text-decoration-color: #008000\">Insecta  </span> │ <span style=\"color: #008000; text-decoration-color: #008000\">Diptera</span> │ <span style=\"color: #008000; text-decoration-color: #008000\">Drosophilidae</span> │ <span style=\"color: #008000; text-decoration-color: #008000\">Drosophila</span> │ <span style=\"color: #008000; text-decoration-color: #008000\">melanogaster</span> │ <span style=\"color: #008000; text-decoration-color: #008000\">08242878-164e-40b7-ad53-4384601dbe5b</span> │ <span style=\"color: #008000; text-decoration-color: #008000\">8f5426f4-69e4-46f9-81e8-447b96b6e848</span> │\n",
       "│ <span style=\"color: #008000; text-decoration-color: #008000\">Drosophila sechellia   </span> │ <span style=\"color: #008000; text-decoration-color: #008000\">taxon:7238 </span> │ <span style=\"color: #008000; text-decoration-color: #008000\">Eukaryota</span> │ <span style=\"color: #008000; text-decoration-color: #008000\">Metazoa</span> │ <span style=\"color: #008000; text-decoration-color: #008000\">Arthropoda</span> │ <span style=\"color: #008000; text-decoration-color: #008000\">Insecta  </span> │ <span style=\"color: #008000; text-decoration-color: #008000\">Diptera</span> │ <span style=\"color: #008000; text-decoration-color: #008000\">Drosophilidae</span> │ <span style=\"color: #008000; text-decoration-color: #008000\">Drosophila</span> │ <span style=\"color: #008000; text-decoration-color: #008000\">sechellia   </span> │ <span style=\"color: #008000; text-decoration-color: #008000\">f42d5566-7d14-4158-b8cf-345decd85e67</span> │ <span style=\"color: #008000; text-decoration-color: #008000\">06d5757e-ba45-40ab-9a81-3f4a434a63bf</span> │\n",
       "│ <span style=\"color: #008000; text-decoration-color: #008000\">Drosophila simulans    </span> │ <span style=\"color: #008000; text-decoration-color: #008000\">taxon:7240 </span> │ <span style=\"color: #008000; text-decoration-color: #008000\">Eukaryota</span> │ <span style=\"color: #008000; text-decoration-color: #008000\">Metazoa</span> │ <span style=\"color: #008000; text-decoration-color: #008000\">Arthropoda</span> │ <span style=\"color: #008000; text-decoration-color: #008000\">Insecta  </span> │ <span style=\"color: #008000; text-decoration-color: #008000\">Diptera</span> │ <span style=\"color: #008000; text-decoration-color: #008000\">Drosophilidae</span> │ <span style=\"color: #008000; text-decoration-color: #008000\">Drosophila</span> │ <span style=\"color: #008000; text-decoration-color: #008000\">simulans    </span> │ <span style=\"color: #008000; text-decoration-color: #008000\">af3964d6-8c1a-49d8-b2c9-f6269e307793</span> │ <span style=\"color: #008000; text-decoration-color: #008000\">1f982911-b07a-4b67-a972-262c85d79c75</span> │\n",
       "│ <span style=\"color: #008000; text-decoration-color: #008000\">Drosophila melanogaster</span> │ <span style=\"color: #008000; text-decoration-color: #008000\">taxon:7227 </span> │ <span style=\"color: #008000; text-decoration-color: #008000\">Eukaryota</span> │ <span style=\"color: #008000; text-decoration-color: #008000\">Metazoa</span> │ <span style=\"color: #008000; text-decoration-color: #008000\">Arthropoda</span> │ <span style=\"color: #008000; text-decoration-color: #008000\">Insecta  </span> │ <span style=\"color: #008000; text-decoration-color: #008000\">Diptera</span> │ <span style=\"color: #008000; text-decoration-color: #008000\">Drosophilidae</span> │ <span style=\"color: #008000; text-decoration-color: #008000\">Drosophila</span> │ <span style=\"color: #008000; text-decoration-color: #008000\">melanogaster</span> │ <span style=\"color: #008000; text-decoration-color: #008000\">4b64e92f-f1d3-4717-a7d6-d82088dd1dd4</span> │ <span style=\"color: #008000; text-decoration-color: #008000\">0d04dc96-0f70-4b43-9483-52eef138bfe9</span> │\n",
       "│ <span style=\"color: #008000; text-decoration-color: #008000\">Drosophila erecta      </span> │ <span style=\"color: #008000; text-decoration-color: #008000\">taxon:7220 </span> │ <span style=\"color: #008000; text-decoration-color: #008000\">Eukaryota</span> │ <span style=\"color: #008000; text-decoration-color: #008000\">Metazoa</span> │ <span style=\"color: #008000; text-decoration-color: #008000\">Arthropoda</span> │ <span style=\"color: #008000; text-decoration-color: #008000\">Insecta  </span> │ <span style=\"color: #008000; text-decoration-color: #008000\">Diptera</span> │ <span style=\"color: #008000; text-decoration-color: #008000\">Drosophilidae</span> │ <span style=\"color: #008000; text-decoration-color: #008000\">Drosophila</span> │ <span style=\"color: #008000; text-decoration-color: #008000\">erecta      </span> │ <span style=\"color: #008000; text-decoration-color: #008000\">9e13b368-ccfd-4669-97fa-ea6f10cc519f</span> │ <span style=\"color: #008000; text-decoration-color: #008000\">70503d04-72fc-4427-bdff-1fe607a3bbe8</span> │\n",
       "│ <span style=\"color: #008000; text-decoration-color: #008000\">Drosophila yakuba      </span> │ <span style=\"color: #008000; text-decoration-color: #008000\">taxon:7245 </span> │ <span style=\"color: #008000; text-decoration-color: #008000\">Eukaryota</span> │ <span style=\"color: #008000; text-decoration-color: #008000\">Metazoa</span> │ <span style=\"color: #008000; text-decoration-color: #008000\">Arthropoda</span> │ <span style=\"color: #008000; text-decoration-color: #008000\">Insecta  </span> │ <span style=\"color: #008000; text-decoration-color: #008000\">Diptera</span> │ <span style=\"color: #008000; text-decoration-color: #008000\">Drosophilidae</span> │ <span style=\"color: #008000; text-decoration-color: #008000\">Drosophila</span> │ <span style=\"color: #008000; text-decoration-color: #008000\">yakuba      </span> │ <span style=\"color: #008000; text-decoration-color: #008000\">eebebdf9-3940-4892-b60b-d4e9463eb993</span> │ <span style=\"color: #008000; text-decoration-color: #008000\">bd13f2d2-9615-436f-9cfd-afb6c453d7fa</span> │\n",
       "│ <span style=\"color: #008000; text-decoration-color: #008000\">Drosophila melanogaster</span> │ <span style=\"color: #008000; text-decoration-color: #008000\">taxon:7227 </span> │ <span style=\"color: #008000; text-decoration-color: #008000\">Eukaryota</span> │ <span style=\"color: #008000; text-decoration-color: #008000\">Metazoa</span> │ <span style=\"color: #008000; text-decoration-color: #008000\">Arthropoda</span> │ <span style=\"color: #008000; text-decoration-color: #008000\">Insecta  </span> │ <span style=\"color: #008000; text-decoration-color: #008000\">Diptera</span> │ <span style=\"color: #008000; text-decoration-color: #008000\">Drosophilidae</span> │ <span style=\"color: #008000; text-decoration-color: #008000\">Drosophila</span> │ <span style=\"color: #008000; text-decoration-color: #008000\">melanogaster</span> │ <span style=\"color: #008000; text-decoration-color: #008000\">4a5ed558-d49c-4ded-ba1e-757a44bdc2b5</span> │ <span style=\"color: #008000; text-decoration-color: #008000\">6b335d57-be89-4039-8cd4-daccd42b95a1</span> │\n",
       "│ <span style=\"color: #008000; text-decoration-color: #008000\">Drosophila teissieri   </span> │ <span style=\"color: #008000; text-decoration-color: #008000\">taxon:7243 </span> │ <span style=\"color: #008000; text-decoration-color: #008000\">Eukaryota</span> │ <span style=\"color: #008000; text-decoration-color: #008000\">Metazoa</span> │ <span style=\"color: #008000; text-decoration-color: #008000\">Arthropoda</span> │ <span style=\"color: #008000; text-decoration-color: #008000\">Insecta  </span> │ <span style=\"color: #008000; text-decoration-color: #008000\">Diptera</span> │ <span style=\"color: #008000; text-decoration-color: #008000\">Drosophilidae</span> │ <span style=\"color: #008000; text-decoration-color: #008000\">Drosophila</span> │ <span style=\"color: #008000; text-decoration-color: #008000\">teissieri   </span> │ <span style=\"color: #008000; text-decoration-color: #008000\">870b6c16-3918-4f72-a2c1-96c496c0f1af</span> │ <span style=\"color: #008000; text-decoration-color: #008000\">df2bc5c2-4621-4977-b9e9-d24f320eabb6</span> │\n",
       "│ <span style=\"color: #008000; text-decoration-color: #008000\">Drosophila ficusphila  </span> │ <span style=\"color: #008000; text-decoration-color: #008000\">taxon:30025</span> │ <span style=\"color: #008000; text-decoration-color: #008000\">Eukaryota</span> │ <span style=\"color: #008000; text-decoration-color: #008000\">Metazoa</span> │ <span style=\"color: #008000; text-decoration-color: #008000\">Arthropoda</span> │ <span style=\"color: #008000; text-decoration-color: #008000\">Insecta  </span> │ <span style=\"color: #008000; text-decoration-color: #008000\">Diptera</span> │ <span style=\"color: #008000; text-decoration-color: #008000\">Drosophilidae</span> │ <span style=\"color: #008000; text-decoration-color: #008000\">Drosophila</span> │ <span style=\"color: #008000; text-decoration-color: #008000\">ficusphila  </span> │ <span style=\"color: #008000; text-decoration-color: #008000\">d07123d7-a7fd-43fe-be6f-b1a809a1e7ee</span> │ <span style=\"color: #008000; text-decoration-color: #008000\">39169b24-8215-45b1-bc6b-76d2a7d21bb7</span> │\n",
       "│ <span style=\"color: #7f7f7f; text-decoration-color: #7f7f7f\">…</span>                       │ <span style=\"color: #7f7f7f; text-decoration-color: #7f7f7f\">…</span>           │ <span style=\"color: #7f7f7f; text-decoration-color: #7f7f7f\">…</span>         │ <span style=\"color: #7f7f7f; text-decoration-color: #7f7f7f\">…</span>       │ <span style=\"color: #7f7f7f; text-decoration-color: #7f7f7f\">…</span>          │ <span style=\"color: #7f7f7f; text-decoration-color: #7f7f7f\">…</span>         │ <span style=\"color: #7f7f7f; text-decoration-color: #7f7f7f\">…</span>       │ <span style=\"color: #7f7f7f; text-decoration-color: #7f7f7f\">…</span>             │ <span style=\"color: #7f7f7f; text-decoration-color: #7f7f7f\">…</span>          │ <span style=\"color: #7f7f7f; text-decoration-color: #7f7f7f\">…</span>            │ <span style=\"color: #7f7f7f; text-decoration-color: #7f7f7f\">…</span>                                    │ <span style=\"color: #7f7f7f; text-decoration-color: #7f7f7f\">…</span>                                    │\n",
       "└─────────────────────────┴─────────────┴───────────┴─────────┴────────────┴───────────┴─────────┴───────────────┴────────────┴──────────────┴──────────────────────────────────────┴──────────────────────────────────────┘\n",
       "</pre>\n"
      ],
      "text/plain": [
       "┏━━━━━━━━━━━━━━━━━━━━━━━━━┳━━━━━━━━━━━━━┳━━━━━━━━━━━┳━━━━━━━━━┳━━━━━━━━━━━━┳━━━━━━━━━━━┳━━━━━━━━━┳━━━━━━━━━━━━━━━┳━━━━━━━━━━━━┳━━━━━━━━━━━━━━┳━━━━━━━━━━━━━━━━━━━━━━━━━━━━━━━━━━━━━━┳━━━━━━━━━━━━━━━━━━━━━━━━━━━━━━━━━━━━━━┓\n",
       "┃\u001b[1m \u001b[0m\u001b[1mname\u001b[0m\u001b[1m                   \u001b[0m\u001b[1m \u001b[0m┃\u001b[1m \u001b[0m\u001b[1mtaxonomy_id\u001b[0m\u001b[1m \u001b[0m┃\u001b[1m \u001b[0m\u001b[1mdomain\u001b[0m\u001b[1m   \u001b[0m\u001b[1m \u001b[0m┃\u001b[1m \u001b[0m\u001b[1mkingdom\u001b[0m\u001b[1m \u001b[0m┃\u001b[1m \u001b[0m\u001b[1mphylum\u001b[0m\u001b[1m    \u001b[0m\u001b[1m \u001b[0m┃\u001b[1m \u001b[0m\u001b[1mtax_class\u001b[0m\u001b[1m \u001b[0m┃\u001b[1m \u001b[0m\u001b[1morder\u001b[0m\u001b[1m  \u001b[0m\u001b[1m \u001b[0m┃\u001b[1m \u001b[0m\u001b[1mfamily\u001b[0m\u001b[1m       \u001b[0m\u001b[1m \u001b[0m┃\u001b[1m \u001b[0m\u001b[1mgenus\u001b[0m\u001b[1m     \u001b[0m\u001b[1m \u001b[0m┃\u001b[1m \u001b[0m\u001b[1mspecies\u001b[0m\u001b[1m     \u001b[0m\u001b[1m \u001b[0m┃\u001b[1m \u001b[0m\u001b[1mProteinInfo_organism_id\u001b[0m\u001b[1m             \u001b[0m\u001b[1m \u001b[0m┃\u001b[1m \u001b[0m\u001b[1mProteinInfo_id\u001b[0m\u001b[1m                      \u001b[0m\u001b[1m \u001b[0m┃\n",
       "┡━━━━━━━━━━━━━━━━━━━━━━━━━╇━━━━━━━━━━━━━╇━━━━━━━━━━━╇━━━━━━━━━╇━━━━━━━━━━━━╇━━━━━━━━━━━╇━━━━━━━━━╇━━━━━━━━━━━━━━━╇━━━━━━━━━━━━╇━━━━━━━━━━━━━━╇━━━━━━━━━━━━━━━━━━━━━━━━━━━━━━━━━━━━━━╇━━━━━━━━━━━━━━━━━━━━━━━━━━━━━━━━━━━━━━┩\n",
       "│ \u001b[2mstring\u001b[0m                  │ \u001b[2m!string\u001b[0m     │ \u001b[2mstring\u001b[0m    │ \u001b[2mstring\u001b[0m  │ \u001b[2mstring\u001b[0m     │ \u001b[2mstring\u001b[0m    │ \u001b[2mstring\u001b[0m  │ \u001b[2mstring\u001b[0m        │ \u001b[2mstring\u001b[0m     │ \u001b[2mstring\u001b[0m       │ \u001b[2m!string\u001b[0m                              │ \u001b[2mstring\u001b[0m                               │\n",
       "├─────────────────────────┼─────────────┼───────────┼─────────┼────────────┼───────────┼─────────┼───────────────┼────────────┼──────────────┼──────────────────────────────────────┼──────────────────────────────────────┤\n",
       "│ \u001b[32mDrosophila melanogaster\u001b[0m │ \u001b[32mtaxon:7227 \u001b[0m │ \u001b[32mEukaryota\u001b[0m │ \u001b[32mMetazoa\u001b[0m │ \u001b[32mArthropoda\u001b[0m │ \u001b[32mInsecta  \u001b[0m │ \u001b[32mDiptera\u001b[0m │ \u001b[32mDrosophilidae\u001b[0m │ \u001b[32mDrosophila\u001b[0m │ \u001b[32mmelanogaster\u001b[0m │ \u001b[32m545be718-ed7f-47a3-be8e-5bd7b10ba298\u001b[0m │ \u001b[32m0457be18-0d6f-4f10-a5e6-e5539c32b344\u001b[0m │\n",
       "│ \u001b[32mDrosophila melanogaster\u001b[0m │ \u001b[32mtaxon:7227 \u001b[0m │ \u001b[32mEukaryota\u001b[0m │ \u001b[32mMetazoa\u001b[0m │ \u001b[32mArthropoda\u001b[0m │ \u001b[32mInsecta  \u001b[0m │ \u001b[32mDiptera\u001b[0m │ \u001b[32mDrosophilidae\u001b[0m │ \u001b[32mDrosophila\u001b[0m │ \u001b[32mmelanogaster\u001b[0m │ \u001b[32m08242878-164e-40b7-ad53-4384601dbe5b\u001b[0m │ \u001b[32m8f5426f4-69e4-46f9-81e8-447b96b6e848\u001b[0m │\n",
       "│ \u001b[32mDrosophila sechellia   \u001b[0m │ \u001b[32mtaxon:7238 \u001b[0m │ \u001b[32mEukaryota\u001b[0m │ \u001b[32mMetazoa\u001b[0m │ \u001b[32mArthropoda\u001b[0m │ \u001b[32mInsecta  \u001b[0m │ \u001b[32mDiptera\u001b[0m │ \u001b[32mDrosophilidae\u001b[0m │ \u001b[32mDrosophila\u001b[0m │ \u001b[32msechellia   \u001b[0m │ \u001b[32mf42d5566-7d14-4158-b8cf-345decd85e67\u001b[0m │ \u001b[32m06d5757e-ba45-40ab-9a81-3f4a434a63bf\u001b[0m │\n",
       "│ \u001b[32mDrosophila simulans    \u001b[0m │ \u001b[32mtaxon:7240 \u001b[0m │ \u001b[32mEukaryota\u001b[0m │ \u001b[32mMetazoa\u001b[0m │ \u001b[32mArthropoda\u001b[0m │ \u001b[32mInsecta  \u001b[0m │ \u001b[32mDiptera\u001b[0m │ \u001b[32mDrosophilidae\u001b[0m │ \u001b[32mDrosophila\u001b[0m │ \u001b[32msimulans    \u001b[0m │ \u001b[32maf3964d6-8c1a-49d8-b2c9-f6269e307793\u001b[0m │ \u001b[32m1f982911-b07a-4b67-a972-262c85d79c75\u001b[0m │\n",
       "│ \u001b[32mDrosophila melanogaster\u001b[0m │ \u001b[32mtaxon:7227 \u001b[0m │ \u001b[32mEukaryota\u001b[0m │ \u001b[32mMetazoa\u001b[0m │ \u001b[32mArthropoda\u001b[0m │ \u001b[32mInsecta  \u001b[0m │ \u001b[32mDiptera\u001b[0m │ \u001b[32mDrosophilidae\u001b[0m │ \u001b[32mDrosophila\u001b[0m │ \u001b[32mmelanogaster\u001b[0m │ \u001b[32m4b64e92f-f1d3-4717-a7d6-d82088dd1dd4\u001b[0m │ \u001b[32m0d04dc96-0f70-4b43-9483-52eef138bfe9\u001b[0m │\n",
       "│ \u001b[32mDrosophila erecta      \u001b[0m │ \u001b[32mtaxon:7220 \u001b[0m │ \u001b[32mEukaryota\u001b[0m │ \u001b[32mMetazoa\u001b[0m │ \u001b[32mArthropoda\u001b[0m │ \u001b[32mInsecta  \u001b[0m │ \u001b[32mDiptera\u001b[0m │ \u001b[32mDrosophilidae\u001b[0m │ \u001b[32mDrosophila\u001b[0m │ \u001b[32merecta      \u001b[0m │ \u001b[32m9e13b368-ccfd-4669-97fa-ea6f10cc519f\u001b[0m │ \u001b[32m70503d04-72fc-4427-bdff-1fe607a3bbe8\u001b[0m │\n",
       "│ \u001b[32mDrosophila yakuba      \u001b[0m │ \u001b[32mtaxon:7245 \u001b[0m │ \u001b[32mEukaryota\u001b[0m │ \u001b[32mMetazoa\u001b[0m │ \u001b[32mArthropoda\u001b[0m │ \u001b[32mInsecta  \u001b[0m │ \u001b[32mDiptera\u001b[0m │ \u001b[32mDrosophilidae\u001b[0m │ \u001b[32mDrosophila\u001b[0m │ \u001b[32myakuba      \u001b[0m │ \u001b[32meebebdf9-3940-4892-b60b-d4e9463eb993\u001b[0m │ \u001b[32mbd13f2d2-9615-436f-9cfd-afb6c453d7fa\u001b[0m │\n",
       "│ \u001b[32mDrosophila melanogaster\u001b[0m │ \u001b[32mtaxon:7227 \u001b[0m │ \u001b[32mEukaryota\u001b[0m │ \u001b[32mMetazoa\u001b[0m │ \u001b[32mArthropoda\u001b[0m │ \u001b[32mInsecta  \u001b[0m │ \u001b[32mDiptera\u001b[0m │ \u001b[32mDrosophilidae\u001b[0m │ \u001b[32mDrosophila\u001b[0m │ \u001b[32mmelanogaster\u001b[0m │ \u001b[32m4a5ed558-d49c-4ded-ba1e-757a44bdc2b5\u001b[0m │ \u001b[32m6b335d57-be89-4039-8cd4-daccd42b95a1\u001b[0m │\n",
       "│ \u001b[32mDrosophila teissieri   \u001b[0m │ \u001b[32mtaxon:7243 \u001b[0m │ \u001b[32mEukaryota\u001b[0m │ \u001b[32mMetazoa\u001b[0m │ \u001b[32mArthropoda\u001b[0m │ \u001b[32mInsecta  \u001b[0m │ \u001b[32mDiptera\u001b[0m │ \u001b[32mDrosophilidae\u001b[0m │ \u001b[32mDrosophila\u001b[0m │ \u001b[32mteissieri   \u001b[0m │ \u001b[32m870b6c16-3918-4f72-a2c1-96c496c0f1af\u001b[0m │ \u001b[32mdf2bc5c2-4621-4977-b9e9-d24f320eabb6\u001b[0m │\n",
       "│ \u001b[32mDrosophila ficusphila  \u001b[0m │ \u001b[32mtaxon:30025\u001b[0m │ \u001b[32mEukaryota\u001b[0m │ \u001b[32mMetazoa\u001b[0m │ \u001b[32mArthropoda\u001b[0m │ \u001b[32mInsecta  \u001b[0m │ \u001b[32mDiptera\u001b[0m │ \u001b[32mDrosophilidae\u001b[0m │ \u001b[32mDrosophila\u001b[0m │ \u001b[32mficusphila  \u001b[0m │ \u001b[32md07123d7-a7fd-43fe-be6f-b1a809a1e7ee\u001b[0m │ \u001b[32m39169b24-8215-45b1-bc6b-76d2a7d21bb7\u001b[0m │\n",
       "│ \u001b[2m…\u001b[0m                       │ \u001b[2m…\u001b[0m           │ \u001b[2m…\u001b[0m         │ \u001b[2m…\u001b[0m       │ \u001b[2m…\u001b[0m          │ \u001b[2m…\u001b[0m         │ \u001b[2m…\u001b[0m       │ \u001b[2m…\u001b[0m             │ \u001b[2m…\u001b[0m          │ \u001b[2m…\u001b[0m            │ \u001b[2m…\u001b[0m                                    │ \u001b[2m…\u001b[0m                                    │\n",
       "└─────────────────────────┴─────────────┴───────────┴─────────┴────────────┴───────────┴─────────┴───────────────┴────────────┴──────────────┴──────────────────────────────────────┴──────────────────────────────────────┘"
      ]
     },
     "execution_count": 13,
     "metadata": {},
     "output_type": "execute_result"
    }
   ],
   "source": [
    "db.connection.table(\"ProteinInfo_organism\")"
   ]
  },
  {
   "cell_type": "code",
   "execution_count": 14,
   "metadata": {},
   "outputs": [
    {
     "name": "stdout",
     "output_type": "stream",
     "text": [
      "10\n"
     ]
    }
   ],
   "source": [
    "# Lets filter the blast results for a specific organism\n",
    "target = \"Drosophila melanogaster\"\n",
    "\n",
    "# First, join the ProteinSequence table with the ProteinSequence_organism table\n",
    "prot_seqs = db.connection.table(\"ProteinInfo\")\n",
    "organisms = db.connection.table(\"ProteinInfo_organism\")\n",
    "joined = prot_seqs.join(\n",
    "    organisms,\n",
    "    prot_seqs.ProteinInfo_id == organisms.ProteinInfo_id,\n",
    "    rname=\"organism_{name}\",\n",
    ")\n",
    "\n",
    "# Next, filter the joined table for the target organism\n",
    "filtered = joined.filter(joined.organism_name == target)\n",
    "filtered\n",
    "\n",
    "# Finally, we can get the corresponding ProteinSequence objects\n",
    "results = db.get(\"ProteinInfo\", filtered)\n",
    "print(len(results))"
   ]
  }
 ],
 "metadata": {
  "kernelspec": {
   "display_name": "sdrdm_example",
   "language": "python",
   "name": "python3"
  },
  "language_info": {
   "codemirror_mode": {
    "name": "ipython",
    "version": 3
   },
   "file_extension": ".py",
   "mimetype": "text/x-python",
   "name": "python",
   "nbconvert_exporter": "python",
   "pygments_lexer": "ipython3",
   "version": "3.10.13"
  }
 },
 "nbformat": 4,
 "nbformat_minor": 4
}
