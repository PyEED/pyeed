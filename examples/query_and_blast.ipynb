{
 "cells": [
  {
   "cell_type": "markdown",
   "metadata": {},
   "source": [
    "# Example 1: Get protein information, run BLAST, and dump the results into a database\n"
   ]
  },
  {
   "cell_type": "code",
   "execution_count": 30,
   "metadata": {},
   "outputs": [],
   "source": [
    "from sdRDM.generator import generate_python_api\n",
    "\n",
    "# generate_python_api(\"../specifications/data_model.md\", \"..\", \"pyEED\")"
   ]
  },
  {
   "cell_type": "code",
   "execution_count": 1,
   "metadata": {},
   "outputs": [],
   "source": [
    "%reload_ext autoreload\n",
    "%autoreload 2\n",
    "from pyEED.core import ProteinInfo\n",
    "from pyEED.ncbi.utils import get_nucleotide_sequences"
   ]
  },
  {
   "cell_type": "markdown",
   "metadata": {},
   "source": [
    "## Query NCBI\n",
    "\n",
    "The pyEED library is centered around the `ProteinSequence` object, which integrates available information on protein sequence, corresponding nucleotide sequence, as well as regions and sites within the sequences. The `ProteinSequence` can be initialized directly with a protein sequence accession number."
   ]
  },
  {
   "cell_type": "code",
   "execution_count": 38,
   "metadata": {},
   "outputs": [
    {
     "name": "stdout",
     "output_type": "stream",
     "text": [
      "unmatched site type: other\n",
      "\u001b[4mProteinInfo\u001b[0m\n",
      "├── \u001b[94mid\u001b[0m = proteininfo2\n",
      "├── \u001b[94msource_id\u001b[0m = NP_001287541.1\n",
      "├── \u001b[94mname\u001b[0m = aldolase 1, isoform M\n",
      "├── \u001b[94msequence\u001b[0m = MTTYFNYPSKELQDELREIAQKIVAPGKGILAADESGPTMGKRLQDIGVENTEDNRRAYRQLLFSTDPKLAENISGVILFHETLYQKADDGTPFAEILKKKGIILGIKVDKGVVPLFGSEDEVTTQGLDDLAARCAQYKKDGCDFAKWRCVLKIGKNTPSYQSILENANVLARYASICQSQRIVPIVEPEVLPDGDHDLDRAQKVTETVLAAVYKALSDHHVYLEGTLLKPNMVTAGQSAKKNTPEEIALATVQALRRTVPAAVTGVTFLSGGQSEEEATVNLSAINNVPLIRPWALTFSYGRALQASVLRAWAGKKENIAAGQNELLKRAKANGDAAQGKYVAGSAGAGSGSLFVANHAY\n",
      "├── \u001b[94morganism\u001b[0m\n",
      "│   └── \u001b[4mOrganism\u001b[0m\n",
      "│       ├── \u001b[94mid\u001b[0m = organism3\n",
      "│       ├── \u001b[94mname\u001b[0m = Drosophila melanogaster\n",
      "│       ├── \u001b[94mtaxonomy_id\u001b[0m = taxon:7227\n",
      "│       ├── \u001b[94mdomain\u001b[0m = Eukaryota\n",
      "│       ├── \u001b[94mkingdom\u001b[0m = Metazoa\n",
      "│       ├── \u001b[94mphylum\u001b[0m = Arthropoda\n",
      "│       ├── \u001b[94mtax_class\u001b[0m = Insecta\n",
      "│       ├── \u001b[94morder\u001b[0m = Diptera\n",
      "│       ├── \u001b[94mfamily\u001b[0m = Drosophilidae\n",
      "│       └── \u001b[94mgenus\u001b[0m = Drosophila\n",
      "├── \u001b[94mregions\u001b[0m\n",
      "│   └── 0\n",
      "│       └── \u001b[4mProteinRegion\u001b[0m\n",
      "│           ├── \u001b[94mid\u001b[0m = proteinregion2\n",
      "│           ├── \u001b[94mname\u001b[0m = Glycolytic\n",
      "│           ├── \u001b[94mspans\u001b[0m\n",
      "│           │   └── 0\n",
      "│           │       └── \u001b[4mSpan\u001b[0m\n",
      "│           │           ├── \u001b[94mid\u001b[0m = span23\n",
      "│           │           ├── \u001b[94mstart\u001b[0m = 14\n",
      "│           │           └── \u001b[94mend\u001b[0m = 361\n",
      "│           ├── \u001b[94mnote\u001b[0m = Fructose-bisphosphate aldolase class-I; pfam00274\n",
      "│           └── \u001b[94mcross_reference\u001b[0m = CDD:425574\n",
      "├── \u001b[94msites\u001b[0m\n",
      "│   ├── 0\n",
      "│   │   └── \u001b[4mSite\u001b[0m\n",
      "│   │       ├── \u001b[94mid\u001b[0m = site6\n",
      "│   │       ├── \u001b[94mname\u001b[0m = active\n",
      "│   │       ├── \u001b[94mtype\u001b[0m = active\n",
      "│   │       ├── \u001b[94mpositions\u001b[0m = [33, 34, 35, 38, 107, ...]\n",
      "│   │       └── \u001b[94mcross_ref\u001b[0m = CDD:188635\n",
      "│   ├── 1\n",
      "│   │   └── \u001b[4mSite\u001b[0m\n",
      "│   │       ├── \u001b[94mid\u001b[0m = site7\n",
      "│   │       ├── \u001b[94mname\u001b[0m = intersubunit interface [polypeptide binding]\n",
      "│   │       ├── \u001b[94mtype\u001b[0m = unannotated\n",
      "│   │       ├── \u001b[94mpositions\u001b[0m = [110, 161, 164, 165, 168, ...]\n",
      "│   │       └── \u001b[94mcross_ref\u001b[0m = CDD:188635\n",
      "│   └── 2\n",
      "│       └── \u001b[4mSite\u001b[0m\n",
      "│           ├── \u001b[94mid\u001b[0m = site8\n",
      "│           ├── \u001b[94mname\u001b[0m = catalytic residue [active]\n",
      "│           ├── \u001b[94mtype\u001b[0m = active\n",
      "│           ├── \u001b[94mpositions\u001b[0m = [229, ...]\n",
      "│           └── \u001b[94mcross_ref\u001b[0m = CDD:188635\n",
      "├── \u001b[94mcoding_sequence_ref\u001b[0m\n",
      "│   └── \u001b[4mDNARegion\u001b[0m\n",
      "│       ├── \u001b[94mid\u001b[0m = NM_001300612.1\n",
      "│       ├── \u001b[94mspans\u001b[0m\n",
      "│       │   └── 0\n",
      "│       │       └── \u001b[4mSpan\u001b[0m\n",
      "│       │           ├── \u001b[94mid\u001b[0m = span24\n",
      "│       │           ├── \u001b[94mstart\u001b[0m = 278\n",
      "│       │           └── \u001b[94mend\u001b[0m = 1363\n",
      "│       └── \u001b[94mtype\u001b[0m = coding sequence\n",
      "├── \u001b[94mec_number\u001b[0m = 4.1.2.13\n",
      "└── \u001b[94mmol_weight\u001b[0m = 38916.0\n",
      "\n"
     ]
    }
   ],
   "source": [
    "aldolase = ProteinInfo.from_ncbi(\"NP_001287541.1\")\n",
    "print(aldolase)"
   ]
  },
  {
   "cell_type": "code",
   "execution_count": 39,
   "metadata": {},
   "outputs": [
    {
     "name": "stdout",
     "output_type": "stream",
     "text": [
      "\u001b[4mDNAInfo\u001b[0m\n",
      "├── \u001b[94mid\u001b[0m = dnainfo2\n",
      "├── \u001b[94mname\u001b[0m = Drosophila melanogaster aldolase 1, transcript variant M (Ald1), mRNA\n",
      "├── \u001b[94msequence\u001b[0m = AGTCGGTTGCCCAACACCGTCGGCGACGACCTCCAAACAACCTTTTGGGGTCTCGCTCGGCATGTCTCGCTTATTTCGCTTTGGAATTTCACGTTGACGCCGCAGTCAGCGGTAGCAGAGGCATCGGCAGCGGCAGTAGCAGCGACACGGGCCGAAAATAAAAGCGTTAACCGCTCTCCTCCAGTGCAGCAGCAGCAGCGGACCCAGCCAGTAGCCAGCAGCTAATCACCACATCCCAGATTCAGTTTCCAGTTCGAACTACACTCGAATCTCAAAAATGACGACCTACTTCAACTACCCCAGCAAGGAGCTGCAGGATGAGCTGCGCGAAATCGCCCAGAAAATCGTTGCCCCCGGCAAGGGAATCCTCGCCGCCGATGAGTCCGGCCCAACCATGGGCAAGCGTCTGCAGGACATCGGCGTGGAGAACACCGAGGACAACCGCCGTGCCTACCGTCAGCTGTTGTTCAGCACTGACCCCAAGCTGGCCGAGAACATCTCTGGAGTGATCCTGTTCCACGAGACCCTCTACCAGAAGGCCGATGATGGCACCCCCTTCGCCGAGATCCTGAAGAAGAAGGGAATCATTCTGGGCATCAAGGTCGACAAGGGTGTTGTCCCACTGTTCGGCTCTGAGGATGAGGTCACCACCCAGGGTCTGGATGACCTGGCCGCCCGTTGCGCCCAGTACAAGAAGGACGGTTGCGACTTCGCCAAGTGGCGTTGCGTCCTGAAGATCGGCAAGAACACCCCATCCTACCAGTCGATCCTGGAGAACGCCAATGTCCTGGCCCGCTACGCCTCCATCTGCCAGTCGCAGCGCATCGTCCCAATTGTGGAGCCCGAGGTTCTGCCCGATGGCGATCACGATCTGGACCGCGCCCAGAAGGTCACCGAGACCGTCCTGGCCGCCGTCTACAAGGCCCTGAGCGACCACCACGTCTACCTGGAGGGTACTCTGCTGAAGCCCAACATGGTCACCGCCGGTCAGTCGGCCAAGAAGAACACCCCCGAGGAGATCGCCCTGGCCACCGTGCAGGCTCTGCGCCGCACCGTTCCCGCCGCCGTTACTGGCGTGACCTTCCTGTCTGGAGGTCAGTCCGAGGAGGAGGCCACCGTCAACCTGAGTGCCATCAACAACGTTCCCTTGATCCGCCCATGGGCCCTCACCTTCTCGTACGGTCGTGCCCTGCAGGCCTCCGTCCTGCGTGCCTGGGCTGGCAAGAAGGAGAACATTGCTGCCGGCCAGAACGAGCTGCTTAAGCGCGCCAAGGCCAACGGTGATGCTGCTCAGGGCAAGTACGTTGCCGGCAGCGCTGGTGCCGGATCTGGATCCCTGTTCGTGGCCAACCACGCCTACTAAGGCGTTTGGTTGGACCTTGGCTACACGTTACTACAAAAAAAAAAAATACGAAGCAGATTGCTGGAAAAGTTTGGCAGATTTGTTTATTTTTACCTTAGTTTCGAGAGCTAAGCAAAGCAAGCATTACAAAAAATAACCAAAAAAAAAAAGATGAACGATTACACTTTCAAAACATGTTATATATATGTAGTACGTGACATTTTTGCAAGTTTATTATATTATAACATTATTTTAGAGAACAACTAAATGATGAGTGCAGAAGAAAGGATTGAATATGTTCGATGGAGAAACAATTCAACAATTCAAACAATTTTATCTTTAGTTTTAAGCACATGAACCTATTATTGTTGAAGTTATTACATTTCTATTCTATTATTATGATTATGCAAGATTTCAATGAAAACAAAAGGATATGTCGTAAATCGCTAGGCTAAAGCACATTTTATGGTGAAAACAACAGCAATCACTATCAGCAACACCTAAATGTATGAGGCTTGTAACATTGAAGTCGCACAACGTTTTTTGAATTTTTTTAATGTTTTATAAAAAGATCCACTATGAAAATCGATGTTTTACCATTATTATTATTATTAAACTTTATATTTATGATTGATAAGTATAAGTGAAACAAATGACGAGAATAAACAAACACATTAAAATAAACCCGAAAAGCCCCCAAAACAACTTTATTAACCTTATATACATATATTTACATTGTTAAAAGAGAACTTGTTGTTGC\n",
      "├── \u001b[94morganism\u001b[0m\n",
      "│   └── \u001b[4mOrganism\u001b[0m\n",
      "│       ├── \u001b[94mid\u001b[0m = organism4\n",
      "│       ├── \u001b[94mname\u001b[0m = Drosophila melanogaster\n",
      "│       ├── \u001b[94mtaxonomy_id\u001b[0m = taxon:7227\n",
      "│       ├── \u001b[94mdomain\u001b[0m = Eukaryota\n",
      "│       ├── \u001b[94mkingdom\u001b[0m = Metazoa\n",
      "│       ├── \u001b[94mphylum\u001b[0m = Arthropoda\n",
      "│       ├── \u001b[94mtax_class\u001b[0m = Insecta\n",
      "│       ├── \u001b[94morder\u001b[0m = Diptera\n",
      "│       ├── \u001b[94mfamily\u001b[0m = Drosophilidae\n",
      "│       └── \u001b[94mgenus\u001b[0m = Drosophila\n",
      "├── \u001b[94mregions\u001b[0m\n",
      "│   ├── 0\n",
      "│   │   └── \u001b[4mDNARegion\u001b[0m\n",
      "│   │       ├── \u001b[94mid\u001b[0m = dnaregion20\n",
      "│   │       ├── \u001b[94mname\u001b[0m = Ald1\n",
      "│   │       ├── \u001b[94mspans\u001b[0m\n",
      "│   │       │   └── 0\n",
      "│   │       │       └── \u001b[4mSpan\u001b[0m\n",
      "│   │       │           ├── \u001b[94mid\u001b[0m = span25\n",
      "│   │       │           ├── \u001b[94mstart\u001b[0m = 0\n",
      "│   │       │           └── \u001b[94mend\u001b[0m = 2102\n",
      "│   │       ├── \u001b[94mnote\u001b[0m = Aldolase 1\n",
      "│   │       ├── \u001b[94mcross_reference\u001b[0m = GeneID:43183\n",
      "│   │       └── \u001b[94mtype\u001b[0m = gene\n",
      "│   └── 1\n",
      "│       └── \u001b[4mDNARegion\u001b[0m\n",
      "│           ├── \u001b[94mid\u001b[0m = dnaregion21\n",
      "│           ├── \u001b[94mname\u001b[0m = aldolase 1, isoform M\n",
      "│           ├── \u001b[94mspans\u001b[0m\n",
      "│           │   └── 0\n",
      "│           │       └── \u001b[4mSpan\u001b[0m\n",
      "│           │           ├── \u001b[94mid\u001b[0m = span26\n",
      "│           │           ├── \u001b[94mstart\u001b[0m = 277\n",
      "│           │           └── \u001b[94mend\u001b[0m = 1363\n",
      "│           ├── \u001b[94mnote\u001b[0m = CG6058 gene product from transcript CG6058-RM; CG6058-PM; Ald1-PM; aldolase; fructose 1,6 biphosphate-aldolase A\n",
      "│           ├── \u001b[94mcross_reference\u001b[0m = NP_001287541.1\n",
      "│           └── \u001b[94mtype\u001b[0m = coding sequence\n",
      "└── \u001b[94msource_id\u001b[0m = NM_001300612.1\n",
      "\n",
      "None\n"
     ]
    }
   ],
   "source": [
    "aldolase.get_dna()"
   ]
  },
  {
   "cell_type": "markdown",
   "metadata": {},
   "source": [
    "## BLAST search"
   ]
  },
  {
   "cell_type": "code",
   "execution_count": 26,
   "metadata": {},
   "outputs": [
    {
     "name": "stdout",
     "output_type": "stream",
     "text": [
      "Running pblast search for aldolase 1, isoform M from Drosophila melanogaster...\n"
     ]
    },
    {
     "name": "stderr",
     "output_type": "stream",
     "text": [
      "Fetching protein sequences:   0%|          | 0/10 [00:00<?, ?it/s]"
     ]
    },
    {
     "name": "stdout",
     "output_type": "stream",
     "text": [
      "unmatched site type: other\n"
     ]
    },
    {
     "name": "stderr",
     "output_type": "stream",
     "text": [
      "Fetching protein sequences:  10%|█         | 1/10 [00:03<00:27,  3.07s/it]"
     ]
    },
    {
     "name": "stdout",
     "output_type": "stream",
     "text": [
      "unmatched site type: other\n"
     ]
    },
    {
     "name": "stderr",
     "output_type": "stream",
     "text": [
      "Fetching protein sequences:  20%|██        | 2/10 [00:05<00:19,  2.43s/it]"
     ]
    },
    {
     "name": "stdout",
     "output_type": "stream",
     "text": [
      "unmatched site type: other\n"
     ]
    },
    {
     "name": "stderr",
     "output_type": "stream",
     "text": [
      "Fetching protein sequences:  30%|███       | 3/10 [00:06<00:15,  2.19s/it]"
     ]
    },
    {
     "name": "stdout",
     "output_type": "stream",
     "text": [
      "unmatched site type: other\n"
     ]
    },
    {
     "name": "stderr",
     "output_type": "stream",
     "text": [
      "Fetching protein sequences:  40%|████      | 4/10 [00:09<00:13,  2.22s/it]"
     ]
    },
    {
     "name": "stdout",
     "output_type": "stream",
     "text": [
      "unmatched site type: other\n"
     ]
    },
    {
     "name": "stderr",
     "output_type": "stream",
     "text": [
      "Fetching protein sequences:  50%|█████     | 5/10 [00:10<00:10,  2.01s/it]"
     ]
    },
    {
     "name": "stdout",
     "output_type": "stream",
     "text": [
      "unmatched site type: other\n"
     ]
    },
    {
     "name": "stderr",
     "output_type": "stream",
     "text": [
      "Fetching protein sequences:  60%|██████    | 6/10 [00:12<00:08,  2.02s/it]"
     ]
    },
    {
     "name": "stdout",
     "output_type": "stream",
     "text": [
      "unmatched site type: other\n"
     ]
    },
    {
     "name": "stderr",
     "output_type": "stream",
     "text": [
      "Fetching protein sequences:  70%|███████   | 7/10 [00:14<00:05,  1.96s/it]"
     ]
    },
    {
     "name": "stdout",
     "output_type": "stream",
     "text": [
      "unmatched site type: other\n"
     ]
    },
    {
     "name": "stderr",
     "output_type": "stream",
     "text": [
      "Fetching protein sequences:  80%|████████  | 8/10 [00:16<00:03,  1.89s/it]"
     ]
    },
    {
     "name": "stdout",
     "output_type": "stream",
     "text": [
      "unmatched site type: other\n"
     ]
    },
    {
     "name": "stderr",
     "output_type": "stream",
     "text": [
      "Fetching protein sequences:  90%|█████████ | 9/10 [00:18<00:01,  1.85s/it]"
     ]
    },
    {
     "name": "stdout",
     "output_type": "stream",
     "text": [
      "unmatched site type: other\n"
     ]
    },
    {
     "name": "stderr",
     "output_type": "stream",
     "text": [
      "Fetching protein sequences: 100%|██████████| 10/10 [00:20<00:00,  2.02s/it]\n"
     ]
    }
   ],
   "source": [
    "blast_results = aldolase.pblast(n_hits=10)"
   ]
  },
  {
   "cell_type": "code",
   "execution_count": 27,
   "metadata": {},
   "outputs": [
    {
     "name": "stdout",
     "output_type": "stream",
     "text": [
      "\u001b[4mProteinInfo\u001b[0m\n",
      "├── \u001b[94mid\u001b[0m = proteininfo4\n",
      "├── \u001b[94msource_id\u001b[0m = 1FBA_A\n",
      "├── \u001b[94mname\u001b[0m = Chain A, FRUCTOSE 1,6-BISPHOSPHATE ALDOLASE\n",
      "├── \u001b[94msequence\u001b[0m = XTTYFNYPSKELQDELREIAQKIVAPGKGILAADESGPTMGKRLQDIGVENTEDNRRAYRQLLFSTDPKLAENISGVILFHETLYQKADDGTPFAEILKKKGIILGIKVDKGVVPLFGSEDEVTTQGLDDLAARCAQYKKDGCDFAKWRCVLKIGKNTPSYQSILENANVLARYASICQSQRIVPIVEPEVLPDGDHDLDRAQKVTETVLAAVYKALSDHHVYLEGTLLKPNMVTAGQSAKKNTPEEIALATVQALRRTVPAAVTGVTFLSGGQSEEEATVNLSAINNVPLIRPWALTFSYGRALQASVLRAWAGKKENIAAGQNELLKRAKANGDAAQGKYVAGSAGAGSGSLFVANHAY\n",
      "├── \u001b[94morganism\u001b[0m\n",
      "│   └── \u001b[4mOrganism\u001b[0m\n",
      "│       ├── \u001b[94mid\u001b[0m = organism13\n",
      "│       ├── \u001b[94mname\u001b[0m = Drosophila melanogaster\n",
      "│       ├── \u001b[94mtaxonomy_id\u001b[0m = taxon:7227\n",
      "│       ├── \u001b[94mdomain\u001b[0m = Eukaryota\n",
      "│       ├── \u001b[94mphylum\u001b[0m = Arthropoda\n",
      "│       ├── \u001b[94mtax_class\u001b[0m = Insecta\n",
      "│       ├── \u001b[94morder\u001b[0m = Diptera\n",
      "│       ├── \u001b[94mfamily\u001b[0m = Drosophilidae\n",
      "│       └── \u001b[94mgenus\u001b[0m = Drosophila\n",
      "├── \u001b[94mregions\u001b[0m\n",
      "│   └── 0\n",
      "│       └── \u001b[4mProteinRegion\u001b[0m\n",
      "│           ├── \u001b[94mid\u001b[0m = proteinregion12\n",
      "│           ├── \u001b[94mname\u001b[0m = Glycolytic\n",
      "│           ├── \u001b[94mspans\u001b[0m\n",
      "│           │   └── 0\n",
      "│           │       └── \u001b[4mSpan\u001b[0m\n",
      "│           │           ├── \u001b[94mid\u001b[0m = span24\n",
      "│           │           ├── \u001b[94mstart\u001b[0m = 14\n",
      "│           │           └── \u001b[94mend\u001b[0m = 361\n",
      "│           ├── \u001b[94mnote\u001b[0m = Fructose-bisphosphate aldolase class-I; pfam00274\n",
      "│           └── \u001b[94mcross_reference\u001b[0m = CDD:425574\n",
      "├── \u001b[94msites\u001b[0m\n",
      "│   ├── 0\n",
      "│   │   └── \u001b[4mSite\u001b[0m\n",
      "│   │       ├── \u001b[94mid\u001b[0m = site36\n",
      "│   │       ├── \u001b[94mname\u001b[0m = active\n",
      "│   │       ├── \u001b[94mtype\u001b[0m = active\n",
      "│   │       ├── \u001b[94mpositions\u001b[0m = [33, 34, 35, 38, 107, ...]\n",
      "│   │       └── \u001b[94mcross_ref\u001b[0m = CDD:188635\n",
      "│   ├── 1\n",
      "│   │   └── \u001b[4mSite\u001b[0m\n",
      "│   │       ├── \u001b[94mid\u001b[0m = site37\n",
      "│   │       ├── \u001b[94mname\u001b[0m = intersubunit interface [polypeptide binding]\n",
      "│   │       ├── \u001b[94mtype\u001b[0m = unannotated\n",
      "│   │       ├── \u001b[94mpositions\u001b[0m = [110, 161, 164, 165, 168, ...]\n",
      "│   │       └── \u001b[94mcross_ref\u001b[0m = CDD:188635\n",
      "│   └── 2\n",
      "│       └── \u001b[4mSite\u001b[0m\n",
      "│           ├── \u001b[94mid\u001b[0m = site38\n",
      "│           ├── \u001b[94mname\u001b[0m = catalytic residue [active]\n",
      "│           ├── \u001b[94mtype\u001b[0m = active\n",
      "│           ├── \u001b[94mpositions\u001b[0m = [229, ...]\n",
      "│           └── \u001b[94mcross_ref\u001b[0m = CDD:188635\n",
      "└── \u001b[94mcoding_sequence_ref\u001b[0m\n",
      "    └── \u001b[4mDNARegion\u001b[0m\n",
      "        └── \u001b[94mid\u001b[0m = dnaregion16\n",
      "\n"
     ]
    }
   ],
   "source": [
    "print(blast_results[4])"
   ]
  },
  {
   "cell_type": "code",
   "execution_count": 2,
   "metadata": {},
   "outputs": [
    {
     "ename": "NameError",
     "evalue": "name 'aldolase' is not defined",
     "output_type": "error",
     "traceback": [
      "\u001b[0;31m---------------------------------------------------------------------------\u001b[0m",
      "\u001b[0;31mNameError\u001b[0m                                 Traceback (most recent call last)",
      "\u001b[1;32m/Users/max/Documents/GitHub/pyeed/examples/query_and_blast.ipynb Cell 9\u001b[0m line \u001b[0;36m1\n\u001b[0;32m----> <a href='vscode-notebook-cell:/Users/max/Documents/GitHub/pyeed/examples/query_and_blast.ipynb#X11sZmlsZQ%3D%3D?line=0'>1</a>\u001b[0m aldolase\u001b[39m.\u001b[39mget_dna_seq()\n",
      "\u001b[0;31mNameError\u001b[0m: name 'aldolase' is not defined"
     ]
    }
   ],
   "source": [
    "aldolase.get_dna_seq()"
   ]
  },
  {
   "cell_type": "markdown",
   "metadata": {},
   "source": [
    "## Storing `ProteinSequence`s in a database\n",
    "\n"
   ]
  },
  {
   "cell_type": "code",
   "execution_count": 1,
   "metadata": {},
   "outputs": [],
   "source": [
    "from sdrdm_database import DBConnector"
   ]
  },
  {
   "cell_type": "markdown",
   "metadata": {},
   "source": [
    "### Setting up a local MySQL database\n",
    "\n",
    "First, a local MySQL database needs to be setup. Therefore, we run a docker container with a MySQL database. \n",
    "If docker is not installed on your system, please follow the instructions on the [docker website](https://docs.docker.com/get-docker/).\n",
    "\n",
    "\n",
    "In case this notebook is run on a macOS system with a M1 chip, the following command needs to be run in the terminal first:\n",
    "\n",
    ">```bash\n",
    ">export DOCKER_DEFAULT_PLATFORM=linux/amd64\n",
    ">```\n",
    "\n",
    "Next, navigate to the directory where this notebook is located and run the following command to start the docker container:\n",
    "\n",
    ">```bash\n",
    ">docker compose up -d\n",
    ">```"
   ]
  },
  {
   "cell_type": "markdown",
   "metadata": {},
   "source": [
    "### Create tables for `ProteinSequence` and `NucleotideSequence`"
   ]
  },
  {
   "cell_type": "code",
   "execution_count": 7,
   "metadata": {},
   "outputs": [
    {
     "name": "stdout",
     "output_type": "stream",
     "text": [
      "🎉 Connected                                                                                        \n",
      "\n",
      "🚀 Creating tables for data model ProteinSequence\n",
      "│\n",
      "├── Fetching markdown model from GitHub\n",
      "├── Table __model_meta__ not existing. Adding to DB!\n",
      "├── Added table model 'ProteinSequence' to __model_meta__ table\n",
      "├── Model 'ProteinSequence' already registered. Skipping.\n",
      "├── Created table 'ProteinSequence'\n",
      "├── Added table model 'ProteinSequence_coding_sequence' to __model_meta__ table\n",
      "├── Created table 'ProteinSequence_coding_sequence'\n",
      "├── Added table model 'NucleotideSequence_regions' to __model_meta__ table\n",
      "├── Created table 'NucleotideSequence_regions'\n",
      "├── Added table model 'ProteinSequence_sites' to __model_meta__ table\n",
      "├── Created table 'ProteinSequence_sites'\n",
      "├── Created table 'Site_positions'\n",
      "├── Added table model 'ProteinSequence_regions' to __model_meta__ table\n",
      "├── Created table 'ProteinSequence_regions'\n",
      "├── Added table model 'ProteinSequence_organism' to __model_meta__ table\n",
      "├── Created table 'ProteinSequence_organism'\n",
      "├── Added primary key 'ProteinSequence_id' to table ProteinSequence\n",
      "├── Added primary key 'ProteinSequence_coding_sequence_id' to table ProteinSequence_coding_sequence\n",
      "├── Added primary key 'NucleotideSequence_regions_id' to table NucleotideSequence_regions\n",
      "├── Added primary key 'ProteinSequence_sites_id' to table ProteinSequence_sites\n",
      "├── Added primary key 'ProteinSequence_regions_id' to table ProteinSequence_regions\n",
      "├── Added primary key 'ProteinSequence_organism_id' to table ProteinSequence_organism\n",
      "├── Added foreign key 'ProteinSequence_id'(ProteinSequence) to table ProteinSequence_coding_sequence\n",
      "├── Added foreign key 'ProteinSequence_coding_sequence_id'(ProteinSequence_coding_sequence) to table NucleotideSequence_regions\n",
      "├── Added foreign key 'ProteinSequence_id'(ProteinSequence) to table ProteinSequence_sites\n",
      "├── Added foreign key 'ProteinSequence_sites_id'(ProteinSequence_sites) to table Site_positions\n",
      "├── Added foreign key 'ProteinSequence_id'(ProteinSequence) to table ProteinSequence_regions\n",
      "├── Added foreign key 'ProteinSequence_id'(ProteinSequence) to table ProteinSequence_organism\n",
      "│\n",
      "╰── 🎉 Created all tables for data model ProteinSequence\n",
      "\n"
     ]
    }
   ],
   "source": [
    "!sdrdm-db --root-obj ProteinSequence --model-path https://github.com/PyEED/pyeed.git --env-file env.toml"
   ]
  },
  {
   "cell_type": "code",
   "execution_count": 8,
   "metadata": {},
   "outputs": [
    {
     "name": "stdout",
     "output_type": "stream",
     "text": [
      "🎉 Connected                                                                                        \n"
     ]
    }
   ],
   "source": [
    "import toml\n",
    "\n",
    "# Establish a connection to the database\n",
    "db = DBConnector(**toml.load(open(\"./env.toml\")))"
   ]
  },
  {
   "cell_type": "code",
   "execution_count": 9,
   "metadata": {},
   "outputs": [
    {
     "data": {
      "text/plain": [
       "Tables\n",
       "------\n",
       "- NucleotideSequence_regions\n",
       "- ProteinSequence\n",
       "- ProteinSequence_coding_sequence\n",
       "- ProteinSequence_organism\n",
       "- ProteinSequence_regions\n",
       "- ProteinSequence_sites\n",
       "- Site_positions\n",
       "- __model_meta__"
      ]
     },
     "execution_count": 9,
     "metadata": {},
     "output_type": "execute_result"
    }
   ],
   "source": [
    "# Get an overview over the created tables\n",
    "db.connection.tables"
   ]
  },
  {
   "cell_type": "markdown",
   "metadata": {},
   "source": [
    "### Populate the database with `ProteinSequence`s"
   ]
  },
  {
   "cell_type": "code",
   "execution_count": 10,
   "metadata": {},
   "outputs": [
    {
     "name": "stdout",
     "output_type": "stream",
     "text": [
      "Added dataset ProteinSequence (ce49f3d4-03a5-4943-a206-62bc225088f2)\n",
      "Added dataset ProteinSequence (17c7fa21-18a6-4d61-918a-2ad441863bd8)\n",
      "Added dataset ProteinSequence (68ac0244-7402-4c3a-a532-1e62e97f64de)\n",
      "Added dataset ProteinSequence (4075bec0-4faa-4386-9572-64a47ee463dc)\n",
      "Added dataset ProteinSequence (3254d412-9983-4ffe-abc6-4e1c93cd3047)\n",
      "Added dataset ProteinSequence (56fd0978-0d54-4392-baa9-abe17856d280)\n",
      "Added dataset ProteinSequence (158ad489-eef8-46fb-9a72-06eeef3f3034)\n",
      "Added dataset ProteinSequence (24d03eb8-1645-491b-9278-0ce1c6c09fe2)\n",
      "Added dataset ProteinSequence (292a1ef2-bc13-4488-aed5-d5ab364e8fe5)\n",
      "Added dataset ProteinSequence (0eb2870a-460e-4940-8b75-8a30e58037e9)\n"
     ]
    }
   ],
   "source": [
    "# Insert all blast results into the database\n",
    "db.insert(*blast_results, verbose=True)"
   ]
  },
  {
   "cell_type": "markdown",
   "metadata": {},
   "source": [
    "### Look at entries in the database"
   ]
  },
  {
   "cell_type": "code",
   "execution_count": 11,
   "metadata": {},
   "outputs": [
    {
     "data": {
      "text/html": [
       "<pre style=\"white-space:pre;overflow-x:auto;line-height:normal;font-family:Menlo,'DejaVu Sans Mono',consolas,'Courier New',monospace\">┏━━━━━━━━━━━━━━━━━━━━━━━━━━━━━━━━━━━━━━━━━━━━━┳━━━━━━━━━━━━━━━━━━━━━━━━━━━━━━━━━━━━━━━━━━━━━━━━━━━━━━━━━━━━━━━━━━━━━━━━━━━━━━━━━━┳━━━━━━━━━━━┳━━━━━━━━━━━━┳━━━━━━━━┳━━━━━━━━━━━━┳━━━━━━━━┳━━━━━━━━━━━━━━━━━━━━━━━━━━━━━━━━━━━━━━┓\n",
       "┃<span style=\"font-weight: bold\"> name                                        </span>┃<span style=\"font-weight: bold\"> sequence                                                                         </span>┃<span style=\"font-weight: bold\"> ec_number </span>┃<span style=\"font-weight: bold\"> mol_weight </span>┃<span style=\"font-weight: bold\"> nr_id  </span>┃<span style=\"font-weight: bold\"> uniprot_id </span>┃<span style=\"font-weight: bold\"> pdb_id </span>┃<span style=\"font-weight: bold\"> ProteinSequence_id                   </span>┃\n",
       "┡━━━━━━━━━━━━━━━━━━━━━━━━━━━━━━━━━━━━━━━━━━━━━╇━━━━━━━━━━━━━━━━━━━━━━━━━━━━━━━━━━━━━━━━━━━━━━━━━━━━━━━━━━━━━━━━━━━━━━━━━━━━━━━━━━╇━━━━━━━━━━━╇━━━━━━━━━━━━╇━━━━━━━━╇━━━━━━━━━━━━╇━━━━━━━━╇━━━━━━━━━━━━━━━━━━━━━━━━━━━━━━━━━━━━━━┩\n",
       "│ <span style=\"color: #7f7f7f; text-decoration-color: #7f7f7f\">!string</span>                                     │ <span style=\"color: #7f7f7f; text-decoration-color: #7f7f7f\">!string</span>                                                                          │ <span style=\"color: #7f7f7f; text-decoration-color: #7f7f7f\">string</span>    │ <span style=\"color: #7f7f7f; text-decoration-color: #7f7f7f\">float64</span>    │ <span style=\"color: #7f7f7f; text-decoration-color: #7f7f7f\">string</span> │ <span style=\"color: #7f7f7f; text-decoration-color: #7f7f7f\">string</span>     │ <span style=\"color: #7f7f7f; text-decoration-color: #7f7f7f\">string</span> │ <span style=\"color: #7f7f7f; text-decoration-color: #7f7f7f\">!string</span>                              │\n",
       "├─────────────────────────────────────────────┼──────────────────────────────────────────────────────────────────────────────────┼───────────┼────────────┼────────┼────────────┼────────┼──────────────────────────────────────┤\n",
       "│ <span style=\"color: #008000; text-decoration-color: #008000\">fructose-bisphosphate aldolase isoform X2  </span> │ <span style=\"color: #008000; text-decoration-color: #008000\">MTTYFNYPSKELQDELRDIAQRIVAPGKGILAADESGPTMGKRLQDIGVENTEDNRRAYRQLLFSTDPKLAENISGVIL…</span> │ <span style=\"color: #7f7f7f; text-decoration-color: #7f7f7f\">NULL</span>      │    <span style=\"color: #008080; text-decoration-color: #008080; font-weight: bold\">38930.0</span> │ <span style=\"color: #7f7f7f; text-decoration-color: #7f7f7f\">NULL</span>   │ <span style=\"color: #7f7f7f; text-decoration-color: #7f7f7f\">NULL</span>       │ <span style=\"color: #7f7f7f; text-decoration-color: #7f7f7f\">NULL</span>   │ <span style=\"color: #008000; text-decoration-color: #008000\">0eb2870a-460e-4940-8b75-8a30e58037e9</span> │\n",
       "│ <span style=\"color: #008000; text-decoration-color: #008000\">fructose-bisphosphate aldolase isoform X1  </span> │ <span style=\"color: #008000; text-decoration-color: #008000\">MTTYFNYPSKELQDELRDIAQRIVAPGKGILAADESGPTMGKRLQDIGVENTEDNRRAYRQLLFSTDPKLAENISGVIL…</span> │ <span style=\"color: #7f7f7f; text-decoration-color: #7f7f7f\">NULL</span>      │    <span style=\"color: #008080; text-decoration-color: #008080; font-weight: bold\">38916.0</span> │ <span style=\"color: #7f7f7f; text-decoration-color: #7f7f7f\">NULL</span>   │ <span style=\"color: #7f7f7f; text-decoration-color: #7f7f7f\">NULL</span>       │ <span style=\"color: #7f7f7f; text-decoration-color: #7f7f7f\">NULL</span>   │ <span style=\"color: #008000; text-decoration-color: #008000\">158ad489-eef8-46fb-9a72-06eeef3f3034</span> │\n",
       "│ <span style=\"color: #008000; text-decoration-color: #008000\">aldolase 1, isoform M                      </span> │ <span style=\"color: #008000; text-decoration-color: #008000\">MTTYFNYPSKELQDELREIAQKIVAPGKGILAADESGPTMGKRLQDIGVENTEDNRRAYRQLLFSTDPKLAENISGVIL…</span> │ <span style=\"color: #008000; text-decoration-color: #008000\">4.1.2.13 </span> │    <span style=\"color: #008080; text-decoration-color: #008080; font-weight: bold\">38916.0</span> │ <span style=\"color: #7f7f7f; text-decoration-color: #7f7f7f\">NULL</span>   │ <span style=\"color: #7f7f7f; text-decoration-color: #7f7f7f\">NULL</span>       │ <span style=\"color: #7f7f7f; text-decoration-color: #7f7f7f\">NULL</span>   │ <span style=\"color: #008000; text-decoration-color: #008000\">17c7fa21-18a6-4d61-918a-2ad441863bd8</span> │\n",
       "│ <span style=\"color: #008000; text-decoration-color: #008000\">aldolase gamma                             </span> │ <span style=\"color: #008000; text-decoration-color: #008000\">MTTYFNYPSKELQDELREIAQKIVAPGKGILAADESGPTHGKRLQDIGVENTEDNRRAYRQLLFSTDPKLAENISGVIL…</span> │ <span style=\"color: #7f7f7f; text-decoration-color: #7f7f7f\">NULL</span>      │        <span style=\"color: #008080; text-decoration-color: #008080; font-weight: bold\">nan</span> │ <span style=\"color: #7f7f7f; text-decoration-color: #7f7f7f\">NULL</span>   │ <span style=\"color: #7f7f7f; text-decoration-color: #7f7f7f\">NULL</span>       │ <span style=\"color: #7f7f7f; text-decoration-color: #7f7f7f\">NULL</span>   │ <span style=\"color: #008000; text-decoration-color: #008000\">24d03eb8-1645-491b-9278-0ce1c6c09fe2</span> │\n",
       "│ <span style=\"color: #008000; text-decoration-color: #008000\">fructose-bisphosphate aldolase isoform X2  </span> │ <span style=\"color: #008000; text-decoration-color: #008000\">MTTYFNYPSKELQDELRDIAQRIVAPGKGILAADESGPTMGKRLQDIGVENTEDNRRAYRQLLFSTDPKLAENISGVIL…</span> │ <span style=\"color: #7f7f7f; text-decoration-color: #7f7f7f\">NULL</span>      │    <span style=\"color: #008080; text-decoration-color: #008080; font-weight: bold\">38930.0</span> │ <span style=\"color: #7f7f7f; text-decoration-color: #7f7f7f\">NULL</span>   │ <span style=\"color: #7f7f7f; text-decoration-color: #7f7f7f\">NULL</span>       │ <span style=\"color: #7f7f7f; text-decoration-color: #7f7f7f\">NULL</span>   │ <span style=\"color: #008000; text-decoration-color: #008000\">292a1ef2-bc13-4488-aed5-d5ab364e8fe5</span> │\n",
       "│ <span style=\"color: #008000; text-decoration-color: #008000\">Chain A, FRUCTOSE 1,6-BISPHOSPHATE ALDOLASE</span> │ <span style=\"color: #008000; text-decoration-color: #008000\">XTTYFNYPSKELQDELREIAQKIVAPGKGILAADESGPTMGKRLQDIGVENTEDNRRAYRQLLFSTDPKLAENISGVIL…</span> │ <span style=\"color: #7f7f7f; text-decoration-color: #7f7f7f\">NULL</span>      │        <span style=\"color: #008080; text-decoration-color: #008080; font-weight: bold\">nan</span> │ <span style=\"color: #7f7f7f; text-decoration-color: #7f7f7f\">NULL</span>   │ <span style=\"color: #7f7f7f; text-decoration-color: #7f7f7f\">NULL</span>       │ <span style=\"color: #008000; text-decoration-color: #008000\">1FBA_A</span> │ <span style=\"color: #008000; text-decoration-color: #008000\">3254d412-9983-4ffe-abc6-4e1c93cd3047</span> │\n",
       "│ <span style=\"color: #008000; text-decoration-color: #008000\">fructose-bisphosphate aldolase isoform X1  </span> │ <span style=\"color: #008000; text-decoration-color: #008000\">MTTYFNYPSKELQDELRDIAQRIVAPGKGILAADESGPTMGKRLQDIGVENTEDNRRAYRQLLFSTDPKLAENISGVIL…</span> │ <span style=\"color: #7f7f7f; text-decoration-color: #7f7f7f\">NULL</span>      │    <span style=\"color: #008080; text-decoration-color: #008080; font-weight: bold\">38930.0</span> │ <span style=\"color: #7f7f7f; text-decoration-color: #7f7f7f\">NULL</span>   │ <span style=\"color: #7f7f7f; text-decoration-color: #7f7f7f\">NULL</span>       │ <span style=\"color: #7f7f7f; text-decoration-color: #7f7f7f\">NULL</span>   │ <span style=\"color: #008000; text-decoration-color: #008000\">4075bec0-4faa-4386-9572-64a47ee463dc</span> │\n",
       "│ <span style=\"color: #008000; text-decoration-color: #008000\">fructose-bisphosphate aldolase isoform X3  </span> │ <span style=\"color: #008000; text-decoration-color: #008000\">MTTYFNYPSKELQDELRDIAQRIVAPGKGILAADESGPTMGKRLQDIGVENTEDNRRAYRQLLFSTDPKLAENISGVIL…</span> │ <span style=\"color: #7f7f7f; text-decoration-color: #7f7f7f\">NULL</span>      │    <span style=\"color: #008080; text-decoration-color: #008080; font-weight: bold\">38929.0</span> │ <span style=\"color: #7f7f7f; text-decoration-color: #7f7f7f\">NULL</span>   │ <span style=\"color: #7f7f7f; text-decoration-color: #7f7f7f\">NULL</span>       │ <span style=\"color: #7f7f7f; text-decoration-color: #7f7f7f\">NULL</span>   │ <span style=\"color: #008000; text-decoration-color: #008000\">56fd0978-0d54-4392-baa9-abe17856d280</span> │\n",
       "│ <span style=\"color: #008000; text-decoration-color: #008000\">fructose-bisphosphate aldolase isoform X1  </span> │ <span style=\"color: #008000; text-decoration-color: #008000\">MTTYFNYPSKELQDELREIAQRIVAPGKGILAADESGPTMGKRLQDIGVENTEDNRRAYRQLLFSTDPKLAENISGVIL…</span> │ <span style=\"color: #7f7f7f; text-decoration-color: #7f7f7f\">NULL</span>      │    <span style=\"color: #008080; text-decoration-color: #008080; font-weight: bold\">38944.0</span> │ <span style=\"color: #7f7f7f; text-decoration-color: #7f7f7f\">NULL</span>   │ <span style=\"color: #7f7f7f; text-decoration-color: #7f7f7f\">NULL</span>       │ <span style=\"color: #7f7f7f; text-decoration-color: #7f7f7f\">NULL</span>   │ <span style=\"color: #008000; text-decoration-color: #008000\">68ac0244-7402-4c3a-a532-1e62e97f64de</span> │\n",
       "│ <span style=\"color: #008000; text-decoration-color: #008000\">FI14722p                                   </span> │ <span style=\"color: #008000; text-decoration-color: #008000\">MTLIASEGIIAEVSVTLLSYKNIIVENYTRISKMTTYFNYPSKELQDELREIAQKIVAPGKGILAADESGPTMGKRLQD…</span> │ <span style=\"color: #7f7f7f; text-decoration-color: #7f7f7f\">NULL</span>      │        <span style=\"color: #008080; text-decoration-color: #008080; font-weight: bold\">nan</span> │ <span style=\"color: #7f7f7f; text-decoration-color: #7f7f7f\">NULL</span>   │ <span style=\"color: #7f7f7f; text-decoration-color: #7f7f7f\">NULL</span>       │ <span style=\"color: #7f7f7f; text-decoration-color: #7f7f7f\">NULL</span>   │ <span style=\"color: #008000; text-decoration-color: #008000\">ce49f3d4-03a5-4943-a206-62bc225088f2</span> │\n",
       "└─────────────────────────────────────────────┴──────────────────────────────────────────────────────────────────────────────────┴───────────┴────────────┴────────┴────────────┴────────┴──────────────────────────────────────┘\n",
       "</pre>\n"
      ],
      "text/plain": [
       "┏━━━━━━━━━━━━━━━━━━━━━━━━━━━━━━━━━━━━━━━━━━━━━┳━━━━━━━━━━━━━━━━━━━━━━━━━━━━━━━━━━━━━━━━━━━━━━━━━━━━━━━━━━━━━━━━━━━━━━━━━━━━━━━━━━┳━━━━━━━━━━━┳━━━━━━━━━━━━┳━━━━━━━━┳━━━━━━━━━━━━┳━━━━━━━━┳━━━━━━━━━━━━━━━━━━━━━━━━━━━━━━━━━━━━━━┓\n",
       "┃\u001b[1m \u001b[0m\u001b[1mname\u001b[0m\u001b[1m                                       \u001b[0m\u001b[1m \u001b[0m┃\u001b[1m \u001b[0m\u001b[1msequence\u001b[0m\u001b[1m                                                                        \u001b[0m\u001b[1m \u001b[0m┃\u001b[1m \u001b[0m\u001b[1mec_number\u001b[0m\u001b[1m \u001b[0m┃\u001b[1m \u001b[0m\u001b[1mmol_weight\u001b[0m\u001b[1m \u001b[0m┃\u001b[1m \u001b[0m\u001b[1mnr_id\u001b[0m\u001b[1m \u001b[0m\u001b[1m \u001b[0m┃\u001b[1m \u001b[0m\u001b[1muniprot_id\u001b[0m\u001b[1m \u001b[0m┃\u001b[1m \u001b[0m\u001b[1mpdb_id\u001b[0m\u001b[1m \u001b[0m┃\u001b[1m \u001b[0m\u001b[1mProteinSequence_id\u001b[0m\u001b[1m                  \u001b[0m\u001b[1m \u001b[0m┃\n",
       "┡━━━━━━━━━━━━━━━━━━━━━━━━━━━━━━━━━━━━━━━━━━━━━╇━━━━━━━━━━━━━━━━━━━━━━━━━━━━━━━━━━━━━━━━━━━━━━━━━━━━━━━━━━━━━━━━━━━━━━━━━━━━━━━━━━╇━━━━━━━━━━━╇━━━━━━━━━━━━╇━━━━━━━━╇━━━━━━━━━━━━╇━━━━━━━━╇━━━━━━━━━━━━━━━━━━━━━━━━━━━━━━━━━━━━━━┩\n",
       "│ \u001b[2m!string\u001b[0m                                     │ \u001b[2m!string\u001b[0m                                                                          │ \u001b[2mstring\u001b[0m    │ \u001b[2mfloat64\u001b[0m    │ \u001b[2mstring\u001b[0m │ \u001b[2mstring\u001b[0m     │ \u001b[2mstring\u001b[0m │ \u001b[2m!string\u001b[0m                              │\n",
       "├─────────────────────────────────────────────┼──────────────────────────────────────────────────────────────────────────────────┼───────────┼────────────┼────────┼────────────┼────────┼──────────────────────────────────────┤\n",
       "│ \u001b[32mfructose-bisphosphate aldolase isoform X2  \u001b[0m │ \u001b[32mMTTYFNYPSKELQDELRDIAQRIVAPGKGILAADESGPTMGKRLQDIGVENTEDNRRAYRQLLFSTDPKLAENISGVIL…\u001b[0m │ \u001b[2mNULL\u001b[0m      │    \u001b[1;36m38930.0\u001b[0m │ \u001b[2mNULL\u001b[0m   │ \u001b[2mNULL\u001b[0m       │ \u001b[2mNULL\u001b[0m   │ \u001b[32m0eb2870a-460e-4940-8b75-8a30e58037e9\u001b[0m │\n",
       "│ \u001b[32mfructose-bisphosphate aldolase isoform X1  \u001b[0m │ \u001b[32mMTTYFNYPSKELQDELRDIAQRIVAPGKGILAADESGPTMGKRLQDIGVENTEDNRRAYRQLLFSTDPKLAENISGVIL…\u001b[0m │ \u001b[2mNULL\u001b[0m      │    \u001b[1;36m38916.0\u001b[0m │ \u001b[2mNULL\u001b[0m   │ \u001b[2mNULL\u001b[0m       │ \u001b[2mNULL\u001b[0m   │ \u001b[32m158ad489-eef8-46fb-9a72-06eeef3f3034\u001b[0m │\n",
       "│ \u001b[32maldolase 1, isoform M                      \u001b[0m │ \u001b[32mMTTYFNYPSKELQDELREIAQKIVAPGKGILAADESGPTMGKRLQDIGVENTEDNRRAYRQLLFSTDPKLAENISGVIL…\u001b[0m │ \u001b[32m4.1.2.13 \u001b[0m │    \u001b[1;36m38916.0\u001b[0m │ \u001b[2mNULL\u001b[0m   │ \u001b[2mNULL\u001b[0m       │ \u001b[2mNULL\u001b[0m   │ \u001b[32m17c7fa21-18a6-4d61-918a-2ad441863bd8\u001b[0m │\n",
       "│ \u001b[32maldolase gamma                             \u001b[0m │ \u001b[32mMTTYFNYPSKELQDELREIAQKIVAPGKGILAADESGPTHGKRLQDIGVENTEDNRRAYRQLLFSTDPKLAENISGVIL…\u001b[0m │ \u001b[2mNULL\u001b[0m      │        \u001b[1;36mnan\u001b[0m │ \u001b[2mNULL\u001b[0m   │ \u001b[2mNULL\u001b[0m       │ \u001b[2mNULL\u001b[0m   │ \u001b[32m24d03eb8-1645-491b-9278-0ce1c6c09fe2\u001b[0m │\n",
       "│ \u001b[32mfructose-bisphosphate aldolase isoform X2  \u001b[0m │ \u001b[32mMTTYFNYPSKELQDELRDIAQRIVAPGKGILAADESGPTMGKRLQDIGVENTEDNRRAYRQLLFSTDPKLAENISGVIL…\u001b[0m │ \u001b[2mNULL\u001b[0m      │    \u001b[1;36m38930.0\u001b[0m │ \u001b[2mNULL\u001b[0m   │ \u001b[2mNULL\u001b[0m       │ \u001b[2mNULL\u001b[0m   │ \u001b[32m292a1ef2-bc13-4488-aed5-d5ab364e8fe5\u001b[0m │\n",
       "│ \u001b[32mChain A, FRUCTOSE 1,6-BISPHOSPHATE ALDOLASE\u001b[0m │ \u001b[32mXTTYFNYPSKELQDELREIAQKIVAPGKGILAADESGPTMGKRLQDIGVENTEDNRRAYRQLLFSTDPKLAENISGVIL…\u001b[0m │ \u001b[2mNULL\u001b[0m      │        \u001b[1;36mnan\u001b[0m │ \u001b[2mNULL\u001b[0m   │ \u001b[2mNULL\u001b[0m       │ \u001b[32m1FBA_A\u001b[0m │ \u001b[32m3254d412-9983-4ffe-abc6-4e1c93cd3047\u001b[0m │\n",
       "│ \u001b[32mfructose-bisphosphate aldolase isoform X1  \u001b[0m │ \u001b[32mMTTYFNYPSKELQDELRDIAQRIVAPGKGILAADESGPTMGKRLQDIGVENTEDNRRAYRQLLFSTDPKLAENISGVIL…\u001b[0m │ \u001b[2mNULL\u001b[0m      │    \u001b[1;36m38930.0\u001b[0m │ \u001b[2mNULL\u001b[0m   │ \u001b[2mNULL\u001b[0m       │ \u001b[2mNULL\u001b[0m   │ \u001b[32m4075bec0-4faa-4386-9572-64a47ee463dc\u001b[0m │\n",
       "│ \u001b[32mfructose-bisphosphate aldolase isoform X3  \u001b[0m │ \u001b[32mMTTYFNYPSKELQDELRDIAQRIVAPGKGILAADESGPTMGKRLQDIGVENTEDNRRAYRQLLFSTDPKLAENISGVIL…\u001b[0m │ \u001b[2mNULL\u001b[0m      │    \u001b[1;36m38929.0\u001b[0m │ \u001b[2mNULL\u001b[0m   │ \u001b[2mNULL\u001b[0m       │ \u001b[2mNULL\u001b[0m   │ \u001b[32m56fd0978-0d54-4392-baa9-abe17856d280\u001b[0m │\n",
       "│ \u001b[32mfructose-bisphosphate aldolase isoform X1  \u001b[0m │ \u001b[32mMTTYFNYPSKELQDELREIAQRIVAPGKGILAADESGPTMGKRLQDIGVENTEDNRRAYRQLLFSTDPKLAENISGVIL…\u001b[0m │ \u001b[2mNULL\u001b[0m      │    \u001b[1;36m38944.0\u001b[0m │ \u001b[2mNULL\u001b[0m   │ \u001b[2mNULL\u001b[0m       │ \u001b[2mNULL\u001b[0m   │ \u001b[32m68ac0244-7402-4c3a-a532-1e62e97f64de\u001b[0m │\n",
       "│ \u001b[32mFI14722p                                   \u001b[0m │ \u001b[32mMTLIASEGIIAEVSVTLLSYKNIIVENYTRISKMTTYFNYPSKELQDELREIAQKIVAPGKGILAADESGPTMGKRLQD…\u001b[0m │ \u001b[2mNULL\u001b[0m      │        \u001b[1;36mnan\u001b[0m │ \u001b[2mNULL\u001b[0m   │ \u001b[2mNULL\u001b[0m       │ \u001b[2mNULL\u001b[0m   │ \u001b[32mce49f3d4-03a5-4943-a206-62bc225088f2\u001b[0m │\n",
       "└─────────────────────────────────────────────┴──────────────────────────────────────────────────────────────────────────────────┴───────────┴────────────┴────────┴────────────┴────────┴──────────────────────────────────────┘"
      ]
     },
     "execution_count": 11,
     "metadata": {},
     "output_type": "execute_result"
    }
   ],
   "source": [
    "db.connection.table(\"ProteinSequence\")"
   ]
  },
  {
   "cell_type": "code",
   "execution_count": 13,
   "metadata": {},
   "outputs": [
    {
     "name": "stdout",
     "output_type": "stream",
     "text": [
      "\u001b[4mProteinSequence\u001b[0m\n",
      "├── \u001b[94mid\u001b[0m = 3254d412-9983-4ffe-abc6-4e1c93cd3047\n",
      "├── \u001b[94mname\u001b[0m = Chain A, FRUCTOSE 1,6-BISPHOSPHATE ALDOLASE\n",
      "├── \u001b[94msequence\u001b[0m = XTTYFNYPSKELQDELREIAQKIVAPGKGILAADESGPTMGKRLQDIGVENTEDNRRAYRQLLFSTDPKLAENISGVILFHETLYQKADDGTPFAEILKKKGIILGIKVDKGVVPLFGSEDEVTTQGLDDLAARCAQYKKDGCDFAKWRCVLKIGKNTPSYQSILENANVLARYASICQSQRIVPIVEPEVLPDGDHDLDRAQKVTETVLAAVYKALSDHHVYLEGTLLKPNMVTAGQSAKKNTPEEIALATVQALRRTVPAAVTGVTFLSGGQSEEEATVNLSAINNVPLIRPWALTFSYGRALQASVLRAWAGKKENIAAGQNELLKRAKANGDAAQGKYVAGSAGAGSGSLFVANHAY\n",
      "├── \u001b[94morganism\u001b[0m\n",
      "│   └── \u001b[4mOrganism\u001b[0m\n",
      "│       ├── \u001b[94mid\u001b[0m = 6ead49b7-28c7-4c45-b85b-967a7e31a307\n",
      "│       ├── \u001b[94mname\u001b[0m = Drosophila melanogaster\n",
      "│       └── \u001b[94mtaxonomy_id\u001b[0m = 7227\n",
      "├── \u001b[94mregions\u001b[0m\n",
      "│   └── 0\n",
      "│       └── \u001b[4mRegion\u001b[0m\n",
      "│           ├── \u001b[94mid\u001b[0m = ae562021-856a-47bc-a59c-65b151090404\n",
      "│           ├── \u001b[94mstart\u001b[0m = 14\n",
      "│           ├── \u001b[94mend\u001b[0m = 361\n",
      "│           ├── \u001b[94mnote\u001b[0m = Fructose-bisphosphate aldolase class-I; pfam00274\n",
      "│           ├── \u001b[94mname\u001b[0m = Glycolytic\n",
      "│           └── \u001b[94mcross_reference\u001b[0m = CDD:425574\n",
      "├── \u001b[94msites\u001b[0m\n",
      "│   ├── 0\n",
      "│   │   └── \u001b[4mSite\u001b[0m\n",
      "│   │       ├── \u001b[94mid\u001b[0m = 0a2fbc28-08ab-4255-b053-4c4556c433b7\n",
      "│   │       ├── \u001b[94mname\u001b[0m = intersubunit interface [polypeptide binding]\n",
      "│   │       ├── \u001b[94mtype\u001b[0m = other\n",
      "│   │       ├── \u001b[94mpositions\u001b[0m = [110, 161, 164, 165, 168, ...]\n",
      "│   │       └── \u001b[94mcross_reference\u001b[0m = CDD:188635\n",
      "│   ├── 1\n",
      "│   │   └── \u001b[4mSite\u001b[0m\n",
      "│   │       ├── \u001b[94mid\u001b[0m = 4cc713ff-1c37-46dc-925f-6e7e942059a3\n",
      "│   │       ├── \u001b[94mname\u001b[0m = catalytic residue [active]\n",
      "│   │       ├── \u001b[94mtype\u001b[0m = active\n",
      "│   │       ├── \u001b[94mpositions\u001b[0m = [229, ...]\n",
      "│   │       └── \u001b[94mcross_reference\u001b[0m = CDD:188635\n",
      "│   └── 2\n",
      "│       └── \u001b[4mSite\u001b[0m\n",
      "│           ├── \u001b[94mid\u001b[0m = 5b4ce4eb-bef8-416c-ad9c-af97cfcb6bde\n",
      "│           ├── \u001b[94mname\u001b[0m = active\n",
      "│           ├── \u001b[94mtype\u001b[0m = active\n",
      "│           ├── \u001b[94mpositions\u001b[0m = [33, 34, 35, 38, 107, ...]\n",
      "│           └── \u001b[94mcross_reference\u001b[0m = CDD:188635\n",
      "├── \u001b[94mcoding_sequence\u001b[0m\n",
      "│   └── \u001b[4mNucleotideSequence\u001b[0m\n",
      "│       └── \u001b[94mid\u001b[0m = nucleotidesequence0\n",
      "└── \u001b[94mpdb_id\u001b[0m = 1FBA_A\n",
      "\n"
     ]
    }
   ],
   "source": [
    "# Lets filter the blast results for a specific organism\n",
    "target = \"Drosophila melanogaster\"\n",
    "\n",
    "# First, join the ProteinSequence table with the ProteinSequence_organism table\n",
    "prot_seqs = db.connection.table(\"ProteinSequence\")\n",
    "organisms = db.connection.table(\"ProteinSequence_organism\")\n",
    "joined = prot_seqs.join(\n",
    "    organisms,\n",
    "    prot_seqs.ProteinSequence_id == organisms.ProteinSequence_id,\n",
    "    rname=\"organism_{name}\",\n",
    ")\n",
    "\n",
    "# Next, filter the joined table for the target organism\n",
    "filtered = joined.filter(joined.organism_name == target)\n",
    "filtered\n",
    "\n",
    "# Finally, we can get the corresponding ProteinSequence objects\n",
    "results = db.get(\"ProteinSequence\", filtered)\n",
    "print(results[0])"
   ]
  }
 ],
 "metadata": {
  "kernelspec": {
   "display_name": "sdrdm_example",
   "language": "python",
   "name": "python3"
  },
  "language_info": {
   "codemirror_mode": {
    "name": "ipython",
    "version": 3
   },
   "file_extension": ".py",
   "mimetype": "text/x-python",
   "name": "python",
   "nbconvert_exporter": "python",
   "pygments_lexer": "ipython3",
   "version": "3.10.13"
  }
 },
 "nbformat": 4,
 "nbformat_minor": 4
}
