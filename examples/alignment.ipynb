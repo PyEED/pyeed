{
 "cells": [
  {
   "cell_type": "code",
   "execution_count": 3,
   "metadata": {},
   "outputs": [],
   "source": [
    "import json\n",
    "\n",
    "from pyeed.core import ProteinInfo, Alignment\n",
    "from pyeed.align import ClustalOmega"
   ]
  },
  {
   "cell_type": "markdown",
   "metadata": {},
   "source": [
    "# Multi Sequence Alignment"
   ]
  },
  {
   "cell_type": "code",
   "execution_count": 4,
   "metadata": {},
   "outputs": [
    {
     "data": {
      "application/vnd.jupyter.widget-view+json": {
       "model_id": "cd77c7df525540a6af5b3805541b1d59",
       "version_major": 2,
       "version_minor": 0
      },
      "text/plain": [
       "Output()"
      ]
     },
     "metadata": {},
     "output_type": "display_data"
    },
    {
     "data": {
      "text/html": [
       "<pre style=\"white-space:pre;overflow-x:auto;line-height:normal;font-family:Menlo,'DejaVu Sans Mono',consolas,'Courier New',monospace\"></pre>\n"
      ],
      "text/plain": []
     },
     "metadata": {},
     "output_type": "display_data"
    },
    {
     "data": {
      "text/html": [
       "<pre style=\"white-space:pre;overflow-x:auto;line-height:normal;font-family:Menlo,'DejaVu Sans Mono',consolas,'Courier New',monospace\">\n",
       "</pre>\n"
      ],
      "text/plain": [
       "\n"
      ]
     },
     "metadata": {},
     "output_type": "display_data"
    }
   ],
   "source": [
    "# load accessio ids from json file\n",
    "with open(\"ids.json\", \"r\") as f:\n",
    "    ids = json.load(f)\n",
    "\n",
    "sequences = ProteinInfo.get_ids(ids)"
   ]
  },
  {
   "cell_type": "code",
   "execution_count": 5,
   "metadata": {},
   "outputs": [
    {
     "name": "stdout",
     "output_type": "stream",
     "text": [
      "✅ Alignment completed\n"
     ]
    }
   ],
   "source": [
    "alignment = Alignment.from_sequences(sequences=sequences, aligner=ClustalOmega)"
   ]
  },
  {
   "cell_type": "code",
   "execution_count": 6,
   "metadata": {},
   "outputs": [
    {
     "name": "stdout",
     "output_type": "stream",
     "text": [
      "Q97CT6\n",
      "------------------------------------------------------------------------------------------------------------------------------------------------------------------------------------------------------------------------------------------------------------------------MERNISVEELNQ-IPTPKKEVEIVERKGIGHPDSVADGIAEAVSRSLSKYYLEHYG--R-ILHHNTDQVEVVGGQSAPKY----------G-GGLV--LEPTYILLSGRATTKVGN---------DRVPYKSITIKAAKDYLRNNFS-HLDVDADVMIDSRIGQ-------G-SVDLVEVYDT--S-K-------------------------------LEANDTSFGVGFAPLSETENIVLKTERYLNGS-----LK--KKLPMVGYDIKVMG-FRQKDTINLTVAAAFVDKYIKDADEYFNLKDQLKDLVLD-NA-VE-ET-DK--------EV---KVYINTAD-----IR------EN-----SKSVGYLTVTGMSMENGDDGSVGRGNRVNGLITPYRAMSMEAAAGKNPVTHVGKLYNVLANKIANDIVQEE--GN--DIAEVLVRIVSQIGRPIDDP-HVASVQVIYEGNV----DHS--KH-KNNIRNLVNDRL--AHVS--D-LTMQFVEGK--ITV--F---------------------------------------------------------------------------------------------------------------------------------------------------------------------------------------------------------------------------------------------------------------------\n"
     ]
    }
   ],
   "source": [
    "# print the first aligned sequence string and the ID\n",
    "\n",
    "print(alignment.aligned_sequences[0].source_id)\n",
    "print(alignment.aligned_sequences[0].sequence)"
   ]
  }
 ],
 "metadata": {
  "kernelspec": {
   "display_name": "pye",
   "language": "python",
   "name": "python3"
  },
  "language_info": {
   "codemirror_mode": {
    "name": "ipython",
    "version": 3
   },
   "file_extension": ".py",
   "mimetype": "text/x-python",
   "name": "python",
   "nbconvert_exporter": "python",
   "pygments_lexer": "ipython3",
   "version": "3.10.13"
  }
 },
 "nbformat": 4,
 "nbformat_minor": 2
}
