{
 "cells": [
  {
   "cell_type": "code",
   "execution_count": 1,
   "metadata": {},
   "outputs": [
    {
     "name": "stdout",
     "output_type": "stream",
     "text": [
      "\n"
     ]
    }
   ],
   "source": [
    "import subprocess\n",
    "\n",
    "# Define your sequences or input file paths\n",
    "sequence1 = \"f1.fasta\"\n",
    "sequence2 = \"f2.fasta\"\n",
    "\n",
    "\n",
    "# Command to execute using Clustal Omega in the Docker container\n",
    "clustalo_command = f\"docker run --rm -v $(pwd):/data clustal_omega_image clustalo -i /data/{sequence1} --outfmt=CLUSTAL -ALIGN -o /data/output.clu\"\n",
    "command_list = clustalo_command.split()\n",
    "# Run the command and capture the output\n",
    "result = subprocess.run(clustalo_command, shell=True, capture_output=True, text=True)\n",
    "\n",
    "# Display the result or save it to a file\n",
    "print(result.stdout)"
   ]
  },
  {
   "cell_type": "code",
   "execution_count": 2,
   "metadata": {},
   "outputs": [],
   "source": [
    "from Bio import AlignIO\n",
    "from Bio.Align import AlignInfo\n",
    "\n",
    "# Path to your .clu file\n",
    "clu_file = \"output.clu\"\n",
    "\n",
    "# Parse the Clustal Omega alignment file\n",
    "alignment = AlignIO.read(clu_file, \"clustal\")\n",
    "\n",
    "# Calculate statistics for the alignment\n",
    "summary_align = AlignInfo.SummaryInfo(alignment)\n",
    "consensus = summary_align.dumb_consensus()"
   ]
  }
 ],
 "metadata": {
  "kernelspec": {
   "display_name": "pyeed",
   "language": "python",
   "name": "python3"
  },
  "language_info": {
   "codemirror_mode": {
    "name": "ipython",
    "version": 3
   },
   "file_extension": ".py",
   "mimetype": "text/x-python",
   "name": "python",
   "nbconvert_exporter": "python",
   "pygments_lexer": "ipython3",
   "version": "3.11.5"
  }
 },
 "nbformat": 4,
 "nbformat_minor": 2
}
