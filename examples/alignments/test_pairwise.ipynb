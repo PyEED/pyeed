{
 "cells": [
  {
   "cell_type": "markdown",
   "metadata": {},
   "source": [
    "## Regenerate the library"
   ]
  },
  {
   "cell_type": "code",
   "execution_count": 1,
   "metadata": {},
   "outputs": [
    {
     "data": {
      "text/plain": [
       "'/Users/max/Documents/GitHub/pyeed/examples/alignments'"
      ]
     },
     "execution_count": 1,
     "metadata": {},
     "output_type": "execute_result"
    }
   ],
   "source": [
    "%pwd"
   ]
  },
  {
   "cell_type": "code",
   "execution_count": 3,
   "metadata": {},
   "outputs": [
    {
     "name": "stderr",
     "output_type": "stream",
     "text": [
      "/Users/max/miniconda3/envs/pyeed/bin/python: No module named autoflake\n",
      "/Users/max/miniconda3/envs/pyeed/bin/python: No module named autoflake\n",
      "/Users/max/miniconda3/envs/pyeed/bin/python: No module named autoflake\n",
      "/Users/max/miniconda3/envs/pyeed/bin/python: No module named autoflake\n",
      "/Users/max/miniconda3/envs/pyeed/bin/python: No module named autoflake\n",
      "/Users/max/miniconda3/envs/pyeed/bin/python: No module named autoflake\n",
      "/Users/max/miniconda3/envs/pyeed/bin/python: No module named autoflake\n",
      "/Users/max/miniconda3/envs/pyeed/bin/python: No module named autoflake\n",
      "/Users/max/miniconda3/envs/pyeed/bin/python: No module named autoflake\n",
      "/Users/max/miniconda3/envs/pyeed/bin/python: No module named autoflake\n",
      "/Users/max/miniconda3/envs/pyeed/bin/python: No module named autoflake\n",
      "/Users/max/miniconda3/envs/pyeed/bin/python: No module named autoflake\n",
      "/Users/max/miniconda3/envs/pyeed/bin/python: No module named autoflake\n",
      "/Users/max/miniconda3/envs/pyeed/bin/python: No module named autoflake\n",
      "/Users/max/miniconda3/envs/pyeed/bin/python: No module named autoflake\n",
      "/Users/max/miniconda3/envs/pyeed/bin/python: No module named autoflake\n",
      "/Users/max/miniconda3/envs/pyeed/bin/python: No module named autoflake\n",
      "/Users/max/miniconda3/envs/pyeed/bin/python: No module named autoflake\n"
     ]
    }
   ],
   "source": [
    "from sdRDM.generator import generate_python_api\n",
    "\n",
    "# generate_python_api(\"../../specifications/data_model.md\", \"../../\", \"pyEED\")"
   ]
  },
  {
   "cell_type": "markdown",
   "metadata": {},
   "source": [
    "## Import the library"
   ]
  },
  {
   "cell_type": "code",
   "execution_count": 5,
   "metadata": {},
   "outputs": [],
   "source": [
    "%reload_ext autoreload\n",
    "%autoreload 2\n",
    "\n",
    "from pyEED.core import ProteinInfo\n",
    "\n",
    "from pyEED.alignment.pairwise import pairwise_alignment"
   ]
  },
  {
   "cell_type": "code",
   "execution_count": 6,
   "metadata": {},
   "outputs": [],
   "source": [
    "ald1 = ProteinInfo.from_ncbi(\"NP_001287541.1\")\n",
    "ald2 = ProteinInfo.from_ncbi(\"AAN14384.1\")"
   ]
  },
  {
   "cell_type": "code",
   "execution_count": 15,
   "metadata": {},
   "outputs": [
    {
     "name": "stdout",
     "output_type": "stream",
     "text": [
      "target            0 -MTP-Y 4\n",
      "                  0 -|.|-| 6\n",
      "query             0 AMAPYY 6\n",
      "\n"
     ]
    },
    {
     "data": {
      "text/plain": [
       "Alignment(id='alignment10', reference_seq=ProteinInfo(id='proteininfo2', source_id='NP_001287541.1', name='aldolase 1, isoform M', sequence='MTPY', organism=Organism(id='organism2', name='Drosophila melanogaster', taxonomy_id='taxon:7227', domain='Eukaryota', kingdom='Metazoa', phylum='Arthropoda', tax_class='Insecta', order='Diptera', family='Drosophilidae', genus='Drosophila', species='melanogaster'), regions=[ProteinRegion(id='proteinregion2', name='Glycolytic', spans=[Span(id='span6', start=14, end=361)], note='Fructose-bisphosphate aldolase class-I; pfam00274', cross_reference='CDD:425574', type=None)], sites=[Site(id='site6', name='active', type='active', positions=[33, 34, 35, 38, 107, 146, 148, 187, 229, 269, 270, 271, 299, 301, 302], cross_ref='CDD:188635'), Site(id='site7', name='intersubunit interface [polypeptide binding]', type='unannotated', positions=[110, 161, 164, 165, 168, 172, 175, 203, 207, 210, 217, 218, 220, 224, 256, 257, 259], cross_ref='CDD:188635'), Site(id='site8', name='catalytic residue [active]', type='active', positions=[229], cross_ref='CDD:188635')], coding_sequence_ref=DNARegion(id='NM_001300612.1', name=None, spans=[Span(id='span7', start=278, end=1363)], note=None, cross_reference=None, type='coding sequence'), ec_number='4.1.2.13', mol_weight=38916.0, substrates=[], citation=Citation(id='citation2', doi=None, pubmed_id=None, medline_id=None, year=None, authors=[])), query_seqs=[ProteinInfo(id='proteininfo3', source_id='AAN14384.1', name='aldolase 1, isoform E', sequence='AMAPYY', organism=Organism(id='organism3', name='Drosophila melanogaster', taxonomy_id='taxon:7227', domain='Eukaryota', kingdom='Metazoa', phylum='Arthropoda', tax_class='Insecta', order='Diptera', family='Drosophilidae', genus='Drosophila', species='melanogaster'), regions=[ProteinRegion(id='proteinregion3', name='Glycolytic', spans=[Span(id='span8', start=14, end=363)], note='Fructose-bisphosphate aldolase class-I; pfam00274', cross_reference='CDD:425574', type=None)], sites=[Site(id='site9', name='active', type='active', positions=[33, 34, 35, 38, 107, 146, 148, 187, 229, 269, 270, 271, 299, 301, 302], cross_ref='CDD:188635'), Site(id='site10', name='intersubunit interface [polypeptide binding]', type='unannotated', positions=[110, 161, 164, 165, 168, 172, 175, 203, 207, 210, 217, 218, 220, 224, 256, 257, 259], cross_ref='CDD:188635'), Site(id='site11', name='catalytic residue [active]', type='active', positions=[229], cross_ref='CDD:188635')], coding_sequence_ref=DNARegion(id='AE014297.3', name=None, spans=[Span(id='span11', start=26257225, end=26258020)], note=None, cross_reference=None, type='coding sequence'), ec_number='4.1.2.13', mol_weight=None, substrates=[], citation=Citation(id='citation3', doi=None, pubmed_id=None, medline_id=None, year=None, authors=[]))], method=None, consensus=None, score=0.0, standard_numberings=[], identity=0.75, similarity=None, gaps=2, mismatches=1)"
      ]
     },
     "execution_count": 15,
     "metadata": {},
     "output_type": "execute_result"
    }
   ],
   "source": [
    "ald1.sequence = \"MTPY\"\n",
    "ald2.sequence = \"AMAPYY\"\n",
    "\n",
    "pair_alingment = pairwise_alignment(ald1, ald2)\n",
    "pair_alingment"
   ]
  },
  {
   "cell_type": "code",
   "execution_count": null,
   "metadata": {},
   "outputs": [],
   "source": [
    "     M     T   P         Y \n",
    "     1     2   3         4\n",
    "\n",
    "A    M A       P   Y     Y\n",
    "0-1  1 1.1     3   3.1   4"
   ]
  },
  {
   "cell_type": "code",
   "execution_count": null,
   "metadata": {},
   "outputs": [],
   "source": [
    "from typing import List\n",
    "\n",
    "\n",
    "standard_numbering: List[str] = [\"0-1\", \"1\", \"1.1\", \"3\", \"\"]"
   ]
  }
 ],
 "metadata": {
  "kernelspec": {
   "display_name": "pyeed",
   "language": "python",
   "name": "python3"
  },
  "language_info": {
   "codemirror_mode": {
    "name": "ipython",
    "version": 3
   },
   "file_extension": ".py",
   "mimetype": "text/x-python",
   "name": "python",
   "nbconvert_exporter": "python",
   "pygments_lexer": "ipython3",
   "version": "3.11.5"
  }
 },
 "nbformat": 4,
 "nbformat_minor": 2
}
