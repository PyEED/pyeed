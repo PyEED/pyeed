{
 "cells": [
  {
   "cell_type": "code",
   "execution_count": 1,
   "metadata": {},
   "outputs": [],
   "source": [
    "%reload_ext autoreload\n",
    "%autoreload 2\n",
    "from pyEED.core import ProteinInfo"
   ]
  },
  {
   "cell_type": "code",
   "execution_count": 6,
   "metadata": {},
   "outputs": [
    {
     "name": "stdout",
     "output_type": "stream",
     "text": [
      "JAGTRX010000119.1:1..1200\n",
      "['JAGTRX010000119.1:1..1200']\n",
      "\u001b[4mProteinInfo\u001b[0m\n",
      "├── \u001b[94mid\u001b[0m = proteininfo0\n",
      "├── \u001b[94msource_id\u001b[0m = MBS1198664.1\n",
      "├── \u001b[94mname\u001b[0m = depolymerase family esterase\n",
      "├── \u001b[94msequence\u001b[0m = LQDAYVYVPKNAAPAVLGGKRALMLTMHGCGQTASGNVIGTKFNWETTAEQYGMVVVAPTVPSGTTSTRSVSGCWDWFGSAHTRTGRDAVPLKKLLDSVKARTNLDIDPNQIYVTGLSSGGGETIVMGCSFPEYFAGVGINAGPALGSASGDISVEPKVTAAQVASYCKAAATSTYTPYFATQITNAVYGTSDYLVKPNHNVRNIQGMAVVYGMTMGTPVTSSVAGGGTAKVYKDANGKERLSDLAVTGMGHAWPAGGGAGAAYVDTSHVNFPVYITKWFFDNNLRVSGGSTTTTTAATTTTTGGATTTTGAATTTTAAATTTTTRASTTTTTTTTTTTAGACYKTSNYAHVTAGRAYNSLGTAKAKGSNQSMGLNNTFYITKLRMTGTAYYVIDATCP\n",
      "├── \u001b[94morganism\u001b[0m\n",
      "│   └── \u001b[4mOrganism\u001b[0m\n",
      "│       ├── \u001b[94mid\u001b[0m = organism3\n",
      "│       ├── \u001b[94mname\u001b[0m = Pseudomonadota bacterium\n",
      "│       ├── \u001b[94mtaxonomy_id\u001b[0m = taxon:1977087\n",
      "│       ├── \u001b[94mdomain\u001b[0m = Bacteria\n",
      "│       ├── \u001b[94mkingdom\u001b[0m = Pseudomonadota\n",
      "│       └── \u001b[94mspecies\u001b[0m = bacterium\n",
      "└── \u001b[94mcoding_sequence_ref\u001b[0m\n",
      "    └── \u001b[4mDNARegion\u001b[0m\n",
      "        ├── \u001b[94mid\u001b[0m = JAGTRX010000119.1\n",
      "        ├── \u001b[94mspans\u001b[0m\n",
      "        │   └── 0\n",
      "        │       └── \u001b[4mSpan\u001b[0m\n",
      "        │           ├── \u001b[94mid\u001b[0m = span0\n",
      "        │           ├── \u001b[94mstart\u001b[0m = 1\n",
      "        │           └── \u001b[94mend\u001b[0m = 1200\n",
      "        └── \u001b[94mtype\u001b[0m = coding sequence\n",
      "\n"
     ]
    }
   ],
   "source": [
    "aldolase = ProteinInfo.from_ncbi(\"MBS1198664.1\")\n",
    "print(aldolase)"
   ]
  },
  {
   "cell_type": "code",
   "execution_count": 3,
   "metadata": {},
   "outputs": [
    {
     "ename": "AttributeError",
     "evalue": "'NoneType' object has no attribute 'pblast'",
     "output_type": "error",
     "traceback": [
      "\u001b[0;31m---------------------------------------------------------------------------\u001b[0m",
      "\u001b[0;31mAttributeError\u001b[0m                            Traceback (most recent call last)",
      "\u001b[1;32m/Users/max/Documents/GitHub/pyeed/examples/test.ipynb Cell 3\u001b[0m line \u001b[0;36m1\n\u001b[0;32m----> <a href='vscode-notebook-cell:/Users/max/Documents/GitHub/pyeed/examples/test.ipynb#W3sZmlsZQ%3D%3D?line=0'>1</a>\u001b[0m blast_results \u001b[39m=\u001b[39m aldolase\u001b[39m.\u001b[39;49mpblast(n_hits\u001b[39m=\u001b[39m\u001b[39m50\u001b[39m, e_value\u001b[39m=\u001b[39m\u001b[39m1e-50\u001b[39m)\n",
      "\u001b[0;31mAttributeError\u001b[0m: 'NoneType' object has no attribute 'pblast'"
     ]
    }
   ],
   "source": [
    "blast_results = aldolase.pblast(n_hits=50, e_value=1e-50)"
   ]
  }
 ],
 "metadata": {
  "kernelspec": {
   "display_name": "pye",
   "language": "python",
   "name": "python3"
  },
  "language_info": {
   "codemirror_mode": {
    "name": "ipython",
    "version": 3
   },
   "file_extension": ".py",
   "mimetype": "text/x-python",
   "name": "python",
   "nbconvert_exporter": "python",
   "pygments_lexer": "ipython3",
   "version": "3.10.13"
  }
 },
 "nbformat": 4,
 "nbformat_minor": 2
}
