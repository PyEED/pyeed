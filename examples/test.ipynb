{
 "cells": [
  {
   "cell_type": "code",
   "execution_count": 1,
   "metadata": {},
   "outputs": [],
   "source": [
    "%reload_ext autoreload\n",
    "%autoreload 2\n",
    "from pyEED.core import ProteinInfo"
   ]
  },
  {
   "cell_type": "code",
   "execution_count": 2,
   "metadata": {},
   "outputs": [],
   "source": [
    "aldolase = ProteinInfo.from_ncbi(\"UCS38941.1\")"
   ]
  },
  {
   "cell_type": "code",
   "execution_count": 3,
   "metadata": {},
   "outputs": [
    {
     "data": {
      "text/plain": [
       "Substrate(id='substrate0', name='GAPDH', inchi=None, smiles=None, chebi_id=None)"
      ]
     },
     "execution_count": 3,
     "metadata": {},
     "output_type": "execute_result"
    }
   ],
   "source": [
    "aldolase.add_to_substrates(\"GAPDH\")"
   ]
  },
  {
   "cell_type": "code",
   "execution_count": 4,
   "metadata": {},
   "outputs": [
    {
     "name": "stdout",
     "output_type": "stream",
     "text": [
      "🏃🏼‍♀️ Running PBLAST\n",
      "╭── protein name: TEM1\n",
      "├── accession: UCS38941.1\n",
      "├── organism: Nakaseomyces glabratus\n",
      "├── e-value: 1e-50\n",
      "╰── max hits: 50\n"
     ]
    },
    {
     "name": "stderr",
     "output_type": "stream",
     "text": [
      "⬇️ Fetching protein sequences: 100%|██████████| 50/50 [00:04<00:00, 11.25it/s]\n"
     ]
    },
    {
     "name": "stdout",
     "output_type": "stream",
     "text": [
      "🎉 Done\n",
      "\n"
     ]
    }
   ],
   "source": [
    "blast_results = aldolase.pblast(n_hits=50, e_value=1e-50)"
   ]
  }
 ],
 "metadata": {
  "kernelspec": {
   "display_name": "pye",
   "language": "python",
   "name": "python3"
  },
  "language_info": {
   "codemirror_mode": {
    "name": "ipython",
    "version": 3
   },
   "file_extension": ".py",
   "mimetype": "text/x-python",
   "name": "python",
   "nbconvert_exporter": "python",
   "pygments_lexer": "ipython3",
   "version": "3.10.13"
  }
 },
 "nbformat": 4,
 "nbformat_minor": 2
}
