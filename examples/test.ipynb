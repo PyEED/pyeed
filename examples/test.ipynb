{
 "cells": [
  {
   "cell_type": "markdown",
   "metadata": {},
   "source": [
    "# Test Docker-integrated Aligners"
   ]
  },
  {
   "cell_type": "code",
   "execution_count": 2,
   "metadata": {},
   "outputs": [],
   "source": [
    "from sdRDM.generator import generate_python_api\n",
    "\n",
    "#generate_python_api(\"../specifications/data_model.md\", \"../\", \"pyEED\")"
   ]
  },
  {
   "cell_type": "code",
   "execution_count": 1,
   "metadata": {},
   "outputs": [],
   "source": [
    "%reload_ext autoreload\n",
    "%autoreload 2\n",
    "from pyEED.core import ProteinInfo\n",
    "from pyEED.core import AbstractSequence\n",
    "from pyEED.alignment.aligner import PairwiseAligner"
   ]
  },
  {
   "cell_type": "code",
   "execution_count": 2,
   "metadata": {},
   "outputs": [],
   "source": [
    "ald1 = ProteinInfo.from_ncbi(\"UCS38941.1\")\n",
    "ald2 = ProteinInfo.from_ncbi(\"AHN57540.1\")"
   ]
  },
  {
   "cell_type": "code",
   "execution_count": 3,
   "metadata": {},
   "outputs": [],
   "source": [
    "a= \"qwe\"\n",
    "b= \"qwq\""
   ]
  },
  {
   "cell_type": "code",
   "execution_count": 5,
   "metadata": {},
   "outputs": [
    {
     "name": "stdout",
     "output_type": "stream",
     "text": [
      "\u001b[4mAlignment\u001b[0m\n",
      "├── \u001b[94mid\u001b[0m = alignment1\n",
      "├── \u001b[94mreference_seq\u001b[0m\n",
      "│   └── \u001b[4mProteinInfo\u001b[0m\n",
      "│       ├── \u001b[94mid\u001b[0m = proteininfo0\n",
      "│       ├── \u001b[94msource_id\u001b[0m = UCS38941.1\n",
      "│       ├── \u001b[94mname\u001b[0m = TEM1\n",
      "│       ├── \u001b[94msequence\u001b[0m = MSASEMRAASERVGEERNSLPSVRNQVDIQVGLIGDAQVGKTSLMVKYVQNIFDEEYTQTLGVNFLKRKVSIRSTDIVFSLMDLGGQREFINMLPIATLGSSVIILLFDLTRPETLNSIKEWYRQALGLNDSAIPILVGTKYDLFIDLEEEYQEKVSKTSMKYAQVMDAPLIFCSTAKSINVQKIFKVALAKIFDLTLTIPEINEIGDPLLIYKELGSKKNKSKNSSKPRRRSPVDNENKELVSQPLNYGHTSE\n",
      "│       ├── \u001b[94morganism\u001b[0m\n",
      "│       │   └── \u001b[4mOrganism\u001b[0m\n",
      "│       │       ├── \u001b[94mid\u001b[0m = organism0\n",
      "│       │       ├── \u001b[94mname\u001b[0m = Nakaseomyces glabratus\n",
      "│       │       ├── \u001b[94mtaxonomy_id\u001b[0m = taxon:5478\n",
      "│       │       ├── \u001b[94mdomain\u001b[0m = Eukaryota\n",
      "│       │       ├── \u001b[94mkingdom\u001b[0m = Fungi\n",
      "│       │       ├── \u001b[94mphylum\u001b[0m = Ascomycota\n",
      "│       │       ├── \u001b[94mtax_class\u001b[0m = Saccharomycetes\n",
      "│       │       └── \u001b[94mspecies\u001b[0m = glabratus\n",
      "│       ├── \u001b[94mcitation\u001b[0m\n",
      "│       │   └── \u001b[4mCitation\u001b[0m\n",
      "│       │       └── \u001b[94mid\u001b[0m = citation0\n",
      "│       ├── \u001b[94mregions\u001b[0m\n",
      "│       │   └── 0\n",
      "│       │       └── \u001b[4mProteinRegion\u001b[0m\n",
      "│       │           ├── \u001b[94mid\u001b[0m = proteinregion0\n",
      "│       │           ├── \u001b[94mname\u001b[0m = Spg1\n",
      "│       │           ├── \u001b[94mspans\u001b[0m\n",
      "│       │           │   └── 0\n",
      "│       │           │       └── \u001b[4mSpan\u001b[0m\n",
      "│       │           │           ├── \u001b[94mid\u001b[0m = span0\n",
      "│       │           │           ├── \u001b[94mstart\u001b[0m = 28\n",
      "│       │           │           └── \u001b[94mend\u001b[0m = 210\n",
      "│       │           ├── \u001b[94mnote\u001b[0m = Septum-promoting GTPase (Spg1); cd04128\n",
      "│       │           └── \u001b[94mcross_reference\u001b[0m = CDD:206701\n",
      "│       ├── \u001b[94msites\u001b[0m\n",
      "│       │   ├── 0\n",
      "│       │   │   └── \u001b[4mSite\u001b[0m\n",
      "│       │   │       ├── \u001b[94mid\u001b[0m = site0\n",
      "│       │   │       ├── \u001b[94mname\u001b[0m = Rab subfamily motif 1 (RabSF1)\n",
      "│       │   │       ├── \u001b[94mtype\u001b[0m = unannotated\n",
      "│       │   │       ├── \u001b[94mpositions\u001b[0m = [28, 29, ...]\n",
      "│       │   │       └── \u001b[94mcross_ref\u001b[0m = CDD:206701\n",
      "│       │   ├── 1\n",
      "│       │   │   └── \u001b[4mSite\u001b[0m\n",
      "│       │   │       ├── \u001b[94mid\u001b[0m = site1\n",
      "│       │   │       ├── \u001b[94mname\u001b[0m = G1 box\n",
      "│       │   │       ├── \u001b[94mtype\u001b[0m = unannotated\n",
      "│       │   │       ├── \u001b[94mpositions\u001b[0m = [34, 35, 36, 37, 38, ...]\n",
      "│       │   │       └── \u001b[94mcross_ref\u001b[0m = CDD:206701\n",
      "│       │   ├── 2\n",
      "│       │   │   └── \u001b[4mSite\u001b[0m\n",
      "│       │   │       ├── \u001b[94mid\u001b[0m = site2\n",
      "│       │   │       ├── \u001b[94mname\u001b[0m = GTP/Mg2+ binding site [chemical binding]\n",
      "│       │   │       ├── \u001b[94mtype\u001b[0m = unannotated\n",
      "│       │   │       ├── \u001b[94mpositions\u001b[0m = [36, 37, 38, 39, 40, ...]\n",
      "│       │   │       └── \u001b[94mcross_ref\u001b[0m = CDD:206701\n",
      "│       │   ├── 3\n",
      "│       │   │   └── \u001b[4mSite\u001b[0m\n",
      "│       │   │       ├── \u001b[94mid\u001b[0m = site3\n",
      "│       │   │       ├── \u001b[94mname\u001b[0m = Rab subfamily motif 2 (RabSF2)\n",
      "│       │   │       ├── \u001b[94mtype\u001b[0m = unannotated\n",
      "│       │   │       ├── \u001b[94mpositions\u001b[0m = [42, 43, 44, 45, 46, ...]\n",
      "│       │   │       └── \u001b[94mcross_ref\u001b[0m = CDD:206701\n",
      "│       │   ├── 4\n",
      "│       │   │   └── \u001b[4mSite\u001b[0m\n",
      "│       │   │       ├── \u001b[94mid\u001b[0m = site4\n",
      "│       │   │       ├── \u001b[94mname\u001b[0m = Switch I region\n",
      "│       │   │       ├── \u001b[94mtype\u001b[0m = unannotated\n",
      "│       │   │       ├── \u001b[94mpositions\u001b[0m = [52, 57, 58, 59, 60, ...]\n",
      "│       │   │       └── \u001b[94mcross_ref\u001b[0m = CDD:206701\n",
      "│       │   ├── 5\n",
      "│       │   │   └── \u001b[4mSite\u001b[0m\n",
      "│       │   │       ├── \u001b[94mid\u001b[0m = site5\n",
      "│       │   │       ├── \u001b[94mname\u001b[0m = putative GEF interaction site [polypeptide binding]\n",
      "│       │   │       ├── \u001b[94mtype\u001b[0m = unannotated\n",
      "│       │   │       ├── \u001b[94mpositions\u001b[0m = [57, 61, 62, 63, 64, ...]\n",
      "│       │   │       └── \u001b[94mcross_ref\u001b[0m = CDD:206701\n",
      "│       │   ├── 6\n",
      "│       │   │   └── \u001b[4mSite\u001b[0m\n",
      "│       │   │       ├── \u001b[94mid\u001b[0m = site6\n",
      "│       │   │       ├── \u001b[94mname\u001b[0m = G2 box\n",
      "│       │   │       ├── \u001b[94mtype\u001b[0m = unannotated\n",
      "│       │   │       ├── \u001b[94mpositions\u001b[0m = [59, ...]\n",
      "│       │   │       └── \u001b[94mcross_ref\u001b[0m = CDD:206701\n",
      "│       │   ├── 7\n",
      "│       │   │   └── \u001b[4mSite\u001b[0m\n",
      "│       │   │       ├── \u001b[94mid\u001b[0m = site7\n",
      "│       │   │       ├── \u001b[94mname\u001b[0m = putative effector interaction site [active]\n",
      "│       │   │       ├── \u001b[94mtype\u001b[0m = active\n",
      "│       │   │       ├── \u001b[94mpositions\u001b[0m = [60, 62, 63, 64, 79, ...]\n",
      "│       │   │       └── \u001b[94mcross_ref\u001b[0m = CDD:206701\n",
      "│       │   ├── 8\n",
      "│       │   │   └── \u001b[4mSite\u001b[0m\n",
      "│       │   │       ├── \u001b[94mid\u001b[0m = site8\n",
      "│       │   │       ├── \u001b[94mname\u001b[0m = putative GDI interaction site [polypeptide binding]\n",
      "│       │   │       ├── \u001b[94mtype\u001b[0m = unannotated\n",
      "│       │   │       ├── \u001b[94mpositions\u001b[0m = [60, 61, 63, 81, 82, ...]\n",
      "│       │   │       └── \u001b[94mcross_ref\u001b[0m = CDD:206701\n",
      "│       │   ├── 9\n",
      "│       │   │   └── \u001b[4mSite\u001b[0m\n",
      "│       │   │       ├── \u001b[94mid\u001b[0m = site9\n",
      "│       │   │       ├── \u001b[94mname\u001b[0m = Rab family motif 1 (RabF1)\n",
      "│       │   │       ├── \u001b[94mtype\u001b[0m = unannotated\n",
      "│       │   │       ├── \u001b[94mpositions\u001b[0m = [60, 61, 62, 63, 64, ...]\n",
      "│       │   │       └── \u001b[94mcross_ref\u001b[0m = CDD:206701\n",
      "│       │   ├── 10\n",
      "│       │   │   └── \u001b[4mSite\u001b[0m\n",
      "│       │   │       ├── \u001b[94mid\u001b[0m = site10\n",
      "│       │   │       ├── \u001b[94mname\u001b[0m = Rab family motif 2 (RabF2)\n",
      "│       │   │       ├── \u001b[94mtype\u001b[0m = unannotated\n",
      "│       │   │       ├── \u001b[94mpositions\u001b[0m = [77, 78, 79, 80, 81, ...]\n",
      "│       │   │       └── \u001b[94mcross_ref\u001b[0m = CDD:206701\n",
      "│       │   ├── 11\n",
      "│       │   │   └── \u001b[4mSite\u001b[0m\n",
      "│       │   │       ├── \u001b[94mid\u001b[0m = site11\n",
      "│       │   │       ├── \u001b[94mname\u001b[0m = G3 box\n",
      "│       │   │       ├── \u001b[94mtype\u001b[0m = unannotated\n",
      "│       │   │       ├── \u001b[94mpositions\u001b[0m = [82, 83, 84, 85, ...]\n",
      "│       │   │       └── \u001b[94mcross_ref\u001b[0m = CDD:206701\n",
      "│       │   ├── 12\n",
      "│       │   │   └── \u001b[4mSite\u001b[0m\n",
      "│       │   │       ├── \u001b[94mid\u001b[0m = site12\n",
      "│       │   │       ├── \u001b[94mname\u001b[0m = Switch II region\n",
      "│       │   │       ├── \u001b[94mtype\u001b[0m = unannotated\n",
      "│       │   │       ├── \u001b[94mpositions\u001b[0m = [85, 87, 88, 89, 90, ...]\n",
      "│       │   │       └── \u001b[94mcross_ref\u001b[0m = CDD:206701\n",
      "│       │   ├── 13\n",
      "│       │   │   └── \u001b[4mSite\u001b[0m\n",
      "│       │   │       ├── \u001b[94mid\u001b[0m = site13\n",
      "│       │   │       ├── \u001b[94mname\u001b[0m = Rab family motif 3 (RabF3)\n",
      "│       │   │       ├── \u001b[94mtype\u001b[0m = unannotated\n",
      "│       │   │       ├── \u001b[94mpositions\u001b[0m = [88, 89, 90, 91, 92, ...]\n",
      "│       │   │       └── \u001b[94mcross_ref\u001b[0m = CDD:206701\n",
      "│       │   ├── 14\n",
      "│       │   │   └── \u001b[4mSite\u001b[0m\n",
      "│       │   │       ├── \u001b[94mid\u001b[0m = site14\n",
      "│       │   │       ├── \u001b[94mname\u001b[0m = Rab family motif 4 (RabF4)\n",
      "│       │   │       ├── \u001b[94mtype\u001b[0m = unannotated\n",
      "│       │   │       ├── \u001b[94mpositions\u001b[0m = [96, 97, 98, 99, 100, ...]\n",
      "│       │   │       └── \u001b[94mcross_ref\u001b[0m = CDD:206701\n",
      "│       │   ├── 15\n",
      "│       │   │   └── \u001b[4mSite\u001b[0m\n",
      "│       │   │       ├── \u001b[94mid\u001b[0m = site15\n",
      "│       │   │       ├── \u001b[94mname\u001b[0m = Rab family motif 5 (RabF5)\n",
      "│       │   │       ├── \u001b[94mtype\u001b[0m = unannotated\n",
      "│       │   │       ├── \u001b[94mpositions\u001b[0m = [105, 106, 107, 108, 109, ...]\n",
      "│       │   │       └── \u001b[94mcross_ref\u001b[0m = CDD:206701\n",
      "│       │   ├── 16\n",
      "│       │   │   └── \u001b[4mSite\u001b[0m\n",
      "│       │   │       ├── \u001b[94mid\u001b[0m = site16\n",
      "│       │   │       ├── \u001b[94mname\u001b[0m = Rab subfamily motif 3 (RabSF3)\n",
      "│       │   │       ├── \u001b[94mtype\u001b[0m = unannotated\n",
      "│       │   │       ├── \u001b[94mpositions\u001b[0m = [128, 129, 130, 131, 132, ...]\n",
      "│       │   │       └── \u001b[94mcross_ref\u001b[0m = CDD:206701\n",
      "│       │   ├── 17\n",
      "│       │   │   └── \u001b[4mSite\u001b[0m\n",
      "│       │   │       ├── \u001b[94mid\u001b[0m = site17\n",
      "│       │   │       ├── \u001b[94mname\u001b[0m = G4 box\n",
      "│       │   │       ├── \u001b[94mtype\u001b[0m = unannotated\n",
      "│       │   │       ├── \u001b[94mpositions\u001b[0m = [139, 140, 141, 142, ...]\n",
      "│       │   │       └── \u001b[94mcross_ref\u001b[0m = CDD:206701\n",
      "│       │   ├── 18\n",
      "│       │   │   └── \u001b[4mSite\u001b[0m\n",
      "│       │   │       ├── \u001b[94mid\u001b[0m = site18\n",
      "│       │   │       ├── \u001b[94mname\u001b[0m = G5 box\n",
      "│       │   │       ├── \u001b[94mtype\u001b[0m = unannotated\n",
      "│       │   │       ├── \u001b[94mpositions\u001b[0m = [174, 175, 176, ...]\n",
      "│       │   │       └── \u001b[94mcross_ref\u001b[0m = CDD:206701\n",
      "│       │   └── 19\n",
      "│       │       └── \u001b[4mSite\u001b[0m\n",
      "│       │           ├── \u001b[94mid\u001b[0m = site19\n",
      "│       │           ├── \u001b[94mname\u001b[0m = Rab subfamily motif 4 (RabSF4)\n",
      "│       │           ├── \u001b[94mtype\u001b[0m = unannotated\n",
      "│       │           ├── \u001b[94mpositions\u001b[0m = [189, 190, 191, ...]\n",
      "│       │           └── \u001b[94mcross_ref\u001b[0m = CDD:206701\n",
      "│       └── \u001b[94mcoding_sequence_ref\u001b[0m\n",
      "│           └── \u001b[4mDNARegion\u001b[0m\n",
      "│               ├── \u001b[94mid\u001b[0m = CP060154.1\n",
      "│               ├── \u001b[94mspans\u001b[0m\n",
      "│               │   └── 0\n",
      "│               │       └── \u001b[4mSpan\u001b[0m\n",
      "│               │           ├── \u001b[94mid\u001b[0m = span1\n",
      "│               │           ├── \u001b[94mstart\u001b[0m = 1590335\n",
      "│               │           └── \u001b[94mend\u001b[0m = 1591099\n",
      "│               └── \u001b[94mtype\u001b[0m = coding sequence\n",
      "├── \u001b[94mquery_seqs\u001b[0m\n",
      "│   └── 0\n",
      "│       └── \u001b[4mProteinInfo\u001b[0m\n",
      "│           ├── \u001b[94mid\u001b[0m = proteininfo1\n",
      "│           ├── \u001b[94msource_id\u001b[0m = AHN57540.1\n",
      "│           ├── \u001b[94mname\u001b[0m = aldolase 1, isoform M\n",
      "│           ├── \u001b[94msequence\u001b[0m = MTTYFNYPSKELQDELREIAQKIVAPGKGILAADESGPTMGKRLQDIGVENTEDNRRAYRQLLFSTDPKLAENISGVILFHETLYQKADDGTPFAEILKKKGIILGIKVDKGVVPLFGSEDEVTTQGLDDLAARCAQYKKDGCDFAKWRCVLKIGKNTPSYQSILENANVLARYASICQSQRIVPIVEPEVLPDGDHDLDRAQKVTETVLAAVYKALSDHHVYLEGTLLKPNMVTAGQSAKKNTPEEIALATVQALRRTVPAAVTGVTFLSGGQSEEEATVNLSAINNVPLIRPWALTFSYGRALQASVLRAWAGKKENIAAGQNELLKRAKANGDAAQGKYVAGSAGAGSGSLFVANHAY\n",
      "│           ├── \u001b[94morganism\u001b[0m\n",
      "│           │   └── \u001b[4mOrganism\u001b[0m\n",
      "│           │       ├── \u001b[94mid\u001b[0m = organism1\n",
      "│           │       ├── \u001b[94mname\u001b[0m = Drosophila melanogaster\n",
      "│           │       ├── \u001b[94mtaxonomy_id\u001b[0m = taxon:7227\n",
      "│           │       ├── \u001b[94mdomain\u001b[0m = Eukaryota\n",
      "│           │       ├── \u001b[94mkingdom\u001b[0m = Metazoa\n",
      "│           │       ├── \u001b[94mphylum\u001b[0m = Arthropoda\n",
      "│           │       ├── \u001b[94mtax_class\u001b[0m = Insecta\n",
      "│           │       ├── \u001b[94morder\u001b[0m = Diptera\n",
      "│           │       ├── \u001b[94mfamily\u001b[0m = Drosophilidae\n",
      "│           │       ├── \u001b[94mgenus\u001b[0m = Drosophila\n",
      "│           │       └── \u001b[94mspecies\u001b[0m = melanogaster\n",
      "│           ├── \u001b[94mcitation\u001b[0m\n",
      "│           │   └── \u001b[4mCitation\u001b[0m\n",
      "│           │       └── \u001b[94mid\u001b[0m = citation1\n",
      "│           ├── \u001b[94mregions\u001b[0m\n",
      "│           │   └── 0\n",
      "│           │       └── \u001b[4mProteinRegion\u001b[0m\n",
      "│           │           ├── \u001b[94mid\u001b[0m = proteinregion1\n",
      "│           │           ├── \u001b[94mname\u001b[0m = Glycolytic\n",
      "│           │           ├── \u001b[94mspans\u001b[0m\n",
      "│           │           │   └── 0\n",
      "│           │           │       └── \u001b[4mSpan\u001b[0m\n",
      "│           │           │           ├── \u001b[94mid\u001b[0m = span2\n",
      "│           │           │           ├── \u001b[94mstart\u001b[0m = 14\n",
      "│           │           │           └── \u001b[94mend\u001b[0m = 361\n",
      "│           │           ├── \u001b[94mnote\u001b[0m = Fructose-bisphosphate aldolase class-I; pfam00274\n",
      "│           │           └── \u001b[94mcross_reference\u001b[0m = CDD:425574\n",
      "│           ├── \u001b[94msites\u001b[0m\n",
      "│           │   ├── 0\n",
      "│           │   │   └── \u001b[4mSite\u001b[0m\n",
      "│           │   │       ├── \u001b[94mid\u001b[0m = site20\n",
      "│           │   │       ├── \u001b[94mname\u001b[0m = active\n",
      "│           │   │       ├── \u001b[94mtype\u001b[0m = active\n",
      "│           │   │       ├── \u001b[94mpositions\u001b[0m = [33, 34, 35, 38, 107, ...]\n",
      "│           │   │       └── \u001b[94mcross_ref\u001b[0m = CDD:188635\n",
      "│           │   ├── 1\n",
      "│           │   │   └── \u001b[4mSite\u001b[0m\n",
      "│           │   │       ├── \u001b[94mid\u001b[0m = site21\n",
      "│           │   │       ├── \u001b[94mname\u001b[0m = intersubunit interface [polypeptide binding]\n",
      "│           │   │       ├── \u001b[94mtype\u001b[0m = unannotated\n",
      "│           │   │       ├── \u001b[94mpositions\u001b[0m = [110, 161, 164, 165, 168, ...]\n",
      "│           │   │       └── \u001b[94mcross_ref\u001b[0m = CDD:188635\n",
      "│           │   └── 2\n",
      "│           │       └── \u001b[4mSite\u001b[0m\n",
      "│           │           ├── \u001b[94mid\u001b[0m = site22\n",
      "│           │           ├── \u001b[94mname\u001b[0m = catalytic residue [active]\n",
      "│           │           ├── \u001b[94mtype\u001b[0m = active\n",
      "│           │           ├── \u001b[94mpositions\u001b[0m = [229, ...]\n",
      "│           │           └── \u001b[94mcross_ref\u001b[0m = CDD:188635\n",
      "│           ├── \u001b[94mcoding_sequence_ref\u001b[0m\n",
      "│           │   └── \u001b[4mDNARegion\u001b[0m\n",
      "│           │       ├── \u001b[94mid\u001b[0m = AE014297.3\n",
      "│           │       ├── \u001b[94mspans\u001b[0m\n",
      "│           │       │   └── 0\n",
      "│           │       │       └── \u001b[4mSpan\u001b[0m\n",
      "│           │       │           ├── \u001b[94mid\u001b[0m = span5\n",
      "│           │       │           ├── \u001b[94mstart\u001b[0m = 26257225\n",
      "│           │       │           └── \u001b[94mend\u001b[0m = 26258020\n",
      "│           │       └── \u001b[94mtype\u001b[0m = coding sequence\n",
      "│           └── \u001b[94mec_number\u001b[0m = 4.1.2.13\n",
      "├── \u001b[94mscore\u001b[0m = 18.0\n",
      "├── \u001b[94mstandard_numberings\u001b[0m\n",
      "│   └── 0\n",
      "│       └── \u001b[4mStandardNumbering\u001b[0m\n",
      "│           ├── \u001b[94mid\u001b[0m = standardnumbering1\n",
      "│           ├── \u001b[94msequence_id\u001b[0m = proteininfo0\n",
      "│           └── \u001b[94mnumbering\u001b[0m = [1, 1-1, 1-2, 1-3, 1-4, ...]\n",
      "├── \u001b[94midentity\u001b[0m = 0.2677165354330709\n",
      "├── \u001b[94mgaps\u001b[0m = 475\n",
      "└── \u001b[94mmismatches\u001b[0m = 2\n",
      "\n"
     ]
    }
   ],
   "source": [
    "from pyEED import alignment\n",
    "\n",
    "\n",
    "aligner = PairwiseAligner()\n",
    "aignment = aligner.align(ald1, ald2)\n",
    "\n",
    "print(aignment)"
   ]
  },
  {
   "cell_type": "code",
   "execution_count": 6,
   "metadata": {},
   "outputs": [
    {
     "name": "stdout",
     "output_type": "stream",
     "text": [
      "mode='global' match_score=1 mismatch_score=-1 gap_open=-1 gap_extend=0 substitution_matrix=None\n"
     ]
    }
   ],
   "source": []
  },
  {
   "cell_type": "code",
   "execution_count": 8,
   "metadata": {},
   "outputs": [
    {
     "name": "stdout",
     "output_type": "stream",
     "text": [
      "{'client': <docker.client.DockerClient object at 0x110b094e0>, 'collection': <docker.models.containers.ContainerCollection object at 0x110b09a20>, 'attrs': {'Id': '592bd658f11a8dca21f9c2f22de284ddee476c1aa31c3f5e52be24014bbd1323', 'Created': '2023-12-11T13:47:23.795861636Z', 'Path': 'tini', 'Args': ['-g', '--', 'start-notebook.py'], 'State': {'Status': 'running', 'Running': True, 'Paused': False, 'Restarting': False, 'OOMKilled': False, 'Dead': False, 'Pid': 1320, 'ExitCode': 0, 'Error': '', 'StartedAt': '2024-01-17T11:09:13.643580301Z', 'FinishedAt': '2024-01-08T13:28:08.664267958Z', 'Health': {'Status': 'healthy', 'FailingStreak': 0, 'Log': [{'Start': '2024-01-17T11:09:18.647468595Z', 'End': '2024-01-17T11:09:18.791866845Z', 'ExitCode': 0, 'Output': 'b\\'{\"version\": \"2.8.0\"}\\'\\n'}, {'Start': '2024-01-17T11:09:23.796447916Z', 'End': '2024-01-17T11:09:23.89730725Z', 'ExitCode': 0, 'Output': 'b\\'{\"version\": \"2.8.0\"}\\'\\n'}, {'Start': '2024-01-17T11:09:28.904882544Z', 'End': '2024-01-17T11:09:29.043499877Z', 'ExitCode': 0, 'Output': 'b\\'{\"version\": \"2.8.0\"}\\'\\n'}, {'Start': '2024-01-17T11:09:34.049593046Z', 'End': '2024-01-17T11:09:34.185197755Z', 'ExitCode': 0, 'Output': 'b\\'{\"version\": \"2.8.0\"}\\'\\n'}, {'Start': '2024-01-17T11:09:39.19046034Z', 'End': '2024-01-17T11:09:39.337534007Z', 'ExitCode': 0, 'Output': 'b\\'{\"version\": \"2.8.0\"}\\'\\n'}]}}, 'Image': 'sha256:387cb64eb006d69312efbb5ef18455869ab03499b4bd1009a03c4f624d89dc67', 'ResolvConfPath': '/var/lib/docker/containers/592bd658f11a8dca21f9c2f22de284ddee476c1aa31c3f5e52be24014bbd1323/resolv.conf', 'HostnamePath': '/var/lib/docker/containers/592bd658f11a8dca21f9c2f22de284ddee476c1aa31c3f5e52be24014bbd1323/hostname', 'HostsPath': '/var/lib/docker/containers/592bd658f11a8dca21f9c2f22de284ddee476c1aa31c3f5e52be24014bbd1323/hosts', 'LogPath': '/var/lib/docker/containers/592bd658f11a8dca21f9c2f22de284ddee476c1aa31c3f5e52be24014bbd1323/592bd658f11a8dca21f9c2f22de284ddee476c1aa31c3f5e52be24014bbd1323-json.log', 'Name': '/PyEED', 'RestartCount': 0, 'Driver': 'overlay2', 'Platform': 'linux', 'MountLabel': '', 'ProcessLabel': '', 'AppArmorProfile': '', 'ExecIDs': None, 'HostConfig': {'Binds': ['/Users/max/Documents/docker_pyeed:/data'], 'ContainerIDFile': '', 'LogConfig': {'Type': 'json-file', 'Config': {}}, 'NetworkMode': 'default', 'PortBindings': {'8888/tcp': [{'HostIp': '0.0.0.0', 'HostPort': '0'}]}, 'RestartPolicy': {'Name': '', 'MaximumRetryCount': 0}, 'AutoRemove': False, 'VolumeDriver': '', 'VolumesFrom': None, 'ConsoleSize': [0, 0], 'CapAdd': None, 'CapDrop': None, 'CgroupnsMode': 'private', 'Dns': [], 'DnsOptions': [], 'DnsSearch': [], 'ExtraHosts': None, 'GroupAdd': None, 'IpcMode': 'private', 'Cgroup': '', 'Links': None, 'OomScoreAdj': 0, 'PidMode': '', 'Privileged': False, 'PublishAllPorts': False, 'ReadonlyRootfs': False, 'SecurityOpt': None, 'UTSMode': '', 'UsernsMode': '', 'ShmSize': 67108864, 'Runtime': 'runc', 'Isolation': '', 'CpuShares': 0, 'Memory': 0, 'NanoCpus': 0, 'CgroupParent': '', 'BlkioWeight': 0, 'BlkioWeightDevice': None, 'BlkioDeviceReadBps': None, 'BlkioDeviceWriteBps': None, 'BlkioDeviceReadIOps': None, 'BlkioDeviceWriteIOps': None, 'CpuPeriod': 0, 'CpuQuota': 0, 'CpuRealtimePeriod': 0, 'CpuRealtimeRuntime': 0, 'CpusetCpus': '', 'CpusetMems': '', 'Devices': None, 'DeviceCgroupRules': None, 'DeviceRequests': None, 'MemoryReservation': 0, 'MemorySwap': 0, 'MemorySwappiness': None, 'OomKillDisable': None, 'PidsLimit': None, 'Ulimits': None, 'CpuCount': 0, 'CpuPercent': 0, 'IOMaximumIOps': 0, 'IOMaximumBandwidth': 0, 'MaskedPaths': ['/proc/asound', '/proc/acpi', '/proc/kcore', '/proc/keys', '/proc/latency_stats', '/proc/timer_list', '/proc/timer_stats', '/proc/sched_debug', '/proc/scsi', '/sys/firmware'], 'ReadonlyPaths': ['/proc/bus', '/proc/fs', '/proc/irq', '/proc/sys', '/proc/sysrq-trigger']}, 'GraphDriver': {'Data': {'LowerDir': '/var/lib/docker/overlay2/7091cd606b8415ec3d2e89f7a90c0ae9399b4ae0a56bcb4b87d34a30a856e72a-init/diff:/var/lib/docker/overlay2/la5wmm2xwbxzy2t3es15ecl1m/diff:/var/lib/docker/overlay2/ud2by3gm9dp9y7r0dwhaegcqb/diff:/var/lib/docker/overlay2/b802256ef35031e2e8b23fd1fc080596ff517b181c66ee972edbe9f71e81260c/diff:/var/lib/docker/overlay2/4ff4a15c126c5f0a938624a78df28ed825daebe38959d0fefa310772e3188643/diff:/var/lib/docker/overlay2/6e7ed78dd6cc224211e8e97f2e287a94e2f8305578c995c199421f889037cb46/diff:/var/lib/docker/overlay2/6ff1ec2d674d2ec26572d5868c1307df7f23d29cf3fe90703266327095a7cec7/diff:/var/lib/docker/overlay2/0d3ae5f9aeafb29bfbe1869a874d55c8543eb29e62828fad24a13d373784d421/diff:/var/lib/docker/overlay2/d32a0ffd21a58dd8c4fd183c86fb7f2bdfbe2c845e2107a5261478f2668fb5d4/diff:/var/lib/docker/overlay2/f73252644c9e12dd0fbcf500ac7edc6fe56749b71497c0d02487289b03923834/diff:/var/lib/docker/overlay2/4a0385dc8106b07274a11e5c35c23a1da8e247cea5e662285353487141517018/diff:/var/lib/docker/overlay2/51320cfc706310eef2be8c38a80bf02594b4749ab1c87cf57164775289b19be5/diff:/var/lib/docker/overlay2/fc8689b448ed970b728a5e63a0e39f19e51b418056fe242db7e3845d9beacb69/diff:/var/lib/docker/overlay2/faec0ba47fa4d663b55400df09af9873c447ed754f1525ebf22e31f76d172870/diff:/var/lib/docker/overlay2/21265c1a92b7baed2212a81d4807d5e721b68ce021a9164438cbe53a7cbc792f/diff:/var/lib/docker/overlay2/4e0e3bf412ca92311e87903f2bc0aa9e2d9f251ff57d69cd69b7806bba0f2d1f/diff:/var/lib/docker/overlay2/9c32a5cef6d6fdd458ac9498b5690746b24d05893e7011b7feca1b085e900aaf/diff:/var/lib/docker/overlay2/ab90a452508854dfff744ec5e9e2ce0f77ee7526dd0808e95c8de12c74e58ec0/diff:/var/lib/docker/overlay2/b195da80e334db0491b6dea0bc633c31c2c7c417abccf1f798c93748d89d4e48/diff:/var/lib/docker/overlay2/c8c0d53afb100aa84e518a0d4e07aceb9f5c2aade2555275b8b29d03ad6427d2/diff:/var/lib/docker/overlay2/6b8c1b7e6bb1b55611bceae02c35b5dc182eaf9402f620d6a5238a06cff6f534/diff:/var/lib/docker/overlay2/8f191602a652057dfd2d374da33a0612d44bd67bb2dd9eb13b907f03a2ab3edd/diff:/var/lib/docker/overlay2/8ddf55339116bd60a33bb31e324ab5ad3246ee7d0a9d6fdef430b8cdd5450a78/diff:/var/lib/docker/overlay2/d972907eb611d360853d0593c923e851f3c0e4649917ff1b03e615be9673cfe6/diff:/var/lib/docker/overlay2/5704c2400555a0f87a35fe05543881622ca0c12c6eebb5d2f0cfb62a53076cb5/diff:/var/lib/docker/overlay2/c8026b88fce12f5f8caef032647ef7ff7de6700b2135be64207b56fc3aa8121d/diff:/var/lib/docker/overlay2/90eb56e74b02c24df951b2172d91665a593c365e410a3677ba7c6c5ad00af586/diff:/var/lib/docker/overlay2/3566e8e4edf6e8970728aa25e799e85e044edf92f962383f49171597b2911da5/diff:/var/lib/docker/overlay2/e9a3f8caccb6625735300989064acbabc200bd98b29213ed77dc5b50593910b4/diff:/var/lib/docker/overlay2/b78696948109fe683bfa7840c6c3dfebc40704f623e4b679c77d75eca012eca6/diff:/var/lib/docker/overlay2/516c3cef21fa2ae35ab6657f9712dbd0d1db8a0cb7609f0e6259e27189246fac/diff:/var/lib/docker/overlay2/1b43830923550479e75b423068b3a2a04a2c5afef3a2db3efb6277f8bc69b102/diff:/var/lib/docker/overlay2/392dceb0b261886263f0debfdcc6d5aa0316bc3c0b1919509c02fa4adad2ce13/diff:/var/lib/docker/overlay2/207fba154256f0828b942c127cc06d38699a88057da4e204193aba6a10f3f94c/diff', 'MergedDir': '/var/lib/docker/overlay2/7091cd606b8415ec3d2e89f7a90c0ae9399b4ae0a56bcb4b87d34a30a856e72a/merged', 'UpperDir': '/var/lib/docker/overlay2/7091cd606b8415ec3d2e89f7a90c0ae9399b4ae0a56bcb4b87d34a30a856e72a/diff', 'WorkDir': '/var/lib/docker/overlay2/7091cd606b8415ec3d2e89f7a90c0ae9399b4ae0a56bcb4b87d34a30a856e72a/work'}, 'Name': 'overlay2'}, 'Mounts': [{'Type': 'bind', 'Source': '/Users/max/Documents/docker_pyeed', 'Destination': '/data', 'Mode': '', 'RW': True, 'Propagation': 'rprivate'}], 'Config': {'Hostname': '592bd658f11a', 'Domainname': '', 'User': '1000', 'AttachStdin': False, 'AttachStdout': False, 'AttachStderr': False, 'ExposedPorts': {'8888/tcp': {}}, 'Tty': False, 'OpenStdin': False, 'StdinOnce': False, 'Env': ['PATH=/opt/conda/bin:/usr/local/sbin:/usr/local/bin:/usr/sbin:/usr/bin:/sbin:/bin', 'DEBIAN_FRONTEND=noninteractive', 'CONDA_DIR=/opt/conda', 'SHELL=/bin/bash', 'NB_USER=jovyan', 'NB_UID=1000', 'NB_GID=100', 'LC_ALL=en_US.UTF-8', 'LANG=en_US.UTF-8', 'LANGUAGE=en_US.UTF-8', 'HOME=/home/jovyan', 'JUPYTER_PORT=8888', 'XDG_CACHE_HOME=/home/jovyan/.cache/', 'JUPYTER_ENABLE_LAB=yes'], 'Cmd': ['start-notebook.py'], 'Healthcheck': {'Test': ['CMD-SHELL', '/etc/jupyter/docker_healthcheck.py || exit 1'], 'Interval': 5000000000, 'Timeout': 3000000000, 'StartPeriod': 5000000000, 'Retries': 3}, 'Image': 'haeussma/pyeed-notebook:latest', 'Volumes': None, 'WorkingDir': '/home/jovyan', 'Entrypoint': ['tini', '-g', '--'], 'OnBuild': None, 'Labels': {'Max': 'Haeussler <max.haeussler@ibtb.uni-stuttgart.de>', 'maintainer': 'Jupyter Project <jupyter@googlegroups.com>', 'org.opencontainers.image.ref.name': 'ubuntu', 'org.opencontainers.image.version': '22.04'}}, 'NetworkSettings': {'Bridge': '', 'SandboxID': '1b201a4c091ace73f1a13cc2dbb886a0448b60323d19e11ec5131b60c04f9382', 'HairpinMode': False, 'LinkLocalIPv6Address': '', 'LinkLocalIPv6PrefixLen': 0, 'Ports': {'8888/tcp': [{'HostIp': '0.0.0.0', 'HostPort': '55000'}]}, 'SandboxKey': '/var/run/docker/netns/1b201a4c091a', 'SecondaryIPAddresses': None, 'SecondaryIPv6Addresses': None, 'EndpointID': '4167e164bd9ab5b986af57f552c087eb064afb63d35832ab5b6c2afafb5d1358', 'Gateway': '172.17.0.1', 'GlobalIPv6Address': '', 'GlobalIPv6PrefixLen': 0, 'IPAddress': '172.17.0.2', 'IPPrefixLen': 16, 'IPv6Gateway': '', 'MacAddress': '02:42:ac:11:00:02', 'Networks': {'bridge': {'IPAMConfig': None, 'Links': None, 'Aliases': None, 'NetworkID': 'cda8eb23e776be14de6185b110615098fe898b1e036fce4ae409c62c9924cf29', 'EndpointID': '4167e164bd9ab5b986af57f552c087eb064afb63d35832ab5b6c2afafb5d1358', 'Gateway': '172.17.0.1', 'IPAddress': '172.17.0.2', 'IPPrefixLen': 16, 'IPv6Gateway': '', 'GlobalIPv6Address': '', 'GlobalIPv6PrefixLen': 0, 'MacAddress': '02:42:ac:11:00:02', 'DriverOpts': None}}}}}\n"
     ]
    }
   ],
   "source": [
    "import docker\n",
    "\n",
    "client = docker.from_env()\n",
    "\n",
    "for container in client.containers.list():\n",
    "    print(container.__dict__)"
   ]
  },
  {
   "cell_type": "markdown",
   "metadata": {},
   "source": [
    "# Checkout InterPro API"
   ]
  },
  {
   "cell_type": "code",
   "execution_count": 35,
   "metadata": {},
   "outputs": [
    {
     "name": "stdout",
     "output_type": "stream",
     "text": [
      "A0A059N3T7\n",
      "A0A067BCK2\n",
      "A0A067BXK8\n",
      "A0A067C1L4\n",
      "A0A069ZHU6\n",
      "A0A073KIQ9\n",
      "A0A077UGT4\n",
      "A0A077UIJ2\n",
      "A0A084SKE5\n",
      "A0A085W4R7\n",
      "A0A090ZGX0\n",
      "A0A097BEL0\n",
      "A0A099XPR7\n",
      "A0A0A1V514\n",
      "A0A0A2E1C2\n",
      "A0A0A2F684\n",
      "A0A0A2FRD4\n",
      "A0A0A2G4Z4\n",
      "A0A0A2VAN3\n",
      "A0A0A7CPT4\n"
     ]
    }
   ],
   "source": [
    "from urllib import request\n",
    "import json\n",
    "\n",
    "url = \"https://www.ebi.ac.uk/interpro/api/protein/uniprot/entry/interpro/IPR000126\"\n",
    "\n",
    "req = request.Request(url)\n",
    "response = request.urlopen(req)\n",
    "encoded_response = response.read()\n",
    "decoded_response = encoded_response.decode()\n",
    "payload = json.loads(decoded_response)\n",
    "\n",
    "for item in payload[\"results\"]:\n",
    "    print(item[\"metadata\"][\"accession\"])"
   ]
  },
  {
   "cell_type": "code",
   "execution_count": 3,
   "metadata": {},
   "outputs": [
    {
     "data": {
      "text/plain": [
       "Substrate(id='substrate0', name='GAPDH', inchi=None, smiles=None, chebi_id=None)"
      ]
     },
     "execution_count": 3,
     "metadata": {},
     "output_type": "execute_result"
    }
   ],
   "source": [
    "aldolase.add_to_substrates(\"GAPDH\")"
   ]
  },
  {
   "cell_type": "code",
   "execution_count": 4,
   "metadata": {},
   "outputs": [
    {
     "name": "stdout",
     "output_type": "stream",
     "text": [
      "🏃🏼‍♀️ Running PBLAST\n",
      "╭── protein name: TEM1\n",
      "├── accession: UCS38941.1\n",
      "├── organism: Nakaseomyces glabratus\n",
      "├── e-value: 1e-50\n",
      "╰── max hits: 50\n"
     ]
    },
    {
     "name": "stderr",
     "output_type": "stream",
     "text": [
      "⬇️ Fetching protein sequences: 100%|██████████| 50/50 [00:04<00:00, 11.25it/s]\n"
     ]
    },
    {
     "name": "stdout",
     "output_type": "stream",
     "text": [
      "🎉 Done\n",
      "\n"
     ]
    }
   ],
   "source": [
    "blast_results = aldolase.pblast(n_hits=50, e_value=1e-50)"
   ]
  }
 ],
 "metadata": {
  "kernelspec": {
   "display_name": "pye",
   "language": "python",
   "name": "python3"
  },
  "language_info": {
   "codemirror_mode": {
    "name": "ipython",
    "version": 3
   },
   "file_extension": ".py",
   "mimetype": "text/x-python",
   "name": "python",
   "nbconvert_exporter": "python",
   "pygments_lexer": "ipython3",
   "version": "3.10.13"
  }
 },
 "nbformat": 4,
 "nbformat_minor": 2
}
