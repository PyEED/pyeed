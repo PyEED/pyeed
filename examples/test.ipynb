{
 "cells": [
  {
   "cell_type": "markdown",
   "metadata": {},
   "source": [
    "# Test Docker-integrated Aligners"
   ]
  },
  {
   "cell_type": "code",
   "execution_count": 1,
   "metadata": {},
   "outputs": [],
   "source": [
    "from sdRDM.generator import generate_python_api\n",
    "\n",
    "# generate_python_api(\"../specifications/data_model.md\", \"../\", \"pyEED\")"
   ]
  },
  {
   "cell_type": "code",
   "execution_count": 2,
   "metadata": {},
   "outputs": [],
   "source": [
    "%reload_ext autoreload\n",
    "%autoreload 2\n",
    "from pyEED.core import ProteinInfo\n",
    "from pyEED.core import AbstractSequence\n",
    "from pyEED.alignment.aligner import PairwiseAligner"
   ]
  },
  {
   "cell_type": "code",
   "execution_count": 3,
   "metadata": {},
   "outputs": [],
   "source": [
    "ald1 = ProteinInfo.from_ncbi(\"UCS38941.1\")\n",
    "ald2 = ProteinInfo.from_ncbi(\"AHN57540.1\")"
   ]
  },
  {
   "cell_type": "code",
   "execution_count": 4,
   "metadata": {},
   "outputs": [],
   "source": [
    "accessions = [\"KAI8382495.1\", \"OXB41210.1\", \"KAH7581199.1\", \"XP_449257.1\", \"BAH60832.1\",\n",
    "              \"EEU05008.1\", \"CAI4683767.1\", \"AJS90184.1\", \"CAI5294192.1\", \"AJS66615.1\"]"
   ]
  },
  {
   "cell_type": "code",
   "execution_count": 5,
   "metadata": {},
   "outputs": [],
   "source": [
    "sequences = [ProteinInfo.from_ncbi(acc) for acc in accessions]"
   ]
  },
  {
   "cell_type": "code",
   "execution_count": 6,
   "metadata": {},
   "outputs": [],
   "source": [
    "from pyEED.containers.docker_interface import ClustalOmega"
   ]
  },
  {
   "cell_type": "code",
   "execution_count": 25,
   "metadata": {},
   "outputs": [
    {
     "name": "stdout",
     "output_type": "stream",
     "text": [
      "/var/folders/qj/km84d2qd1c7dcj181088k7lh0000gn/T/tmprsblvbpe\n"
     ]
    },
    {
     "data": {
      "text/plain": [
       "<<class 'Bio.Align.MultipleSeqAlignment'> instance (10 records of length 254) at 13d4e21d0>"
      ]
     },
     "execution_count": 25,
     "metadata": {},
     "output_type": "execute_result"
    }
   ],
   "source": [
    "r = ClustalOmega()\n",
    "print(r._tempdir_path)\n",
    "a = r.align(sequences)\n",
    "\n",
    "a"
   ]
  },
  {
   "cell_type": "markdown",
   "metadata": {},
   "source": [
    "# Checkout InterPro API"
   ]
  },
  {
   "cell_type": "code",
   "execution_count": 8,
   "metadata": {},
   "outputs": [
    {
     "name": "stdout",
     "output_type": "stream",
     "text": [
      "A0A059N3T7\n",
      "A0A067BCK2\n",
      "A0A067BXK8\n",
      "A0A067C1L4\n",
      "A0A069ZHU6\n",
      "A0A073KIQ9\n",
      "A0A077UGT4\n",
      "A0A077UIJ2\n",
      "A0A084SKE5\n",
      "A0A085W4R7\n",
      "A0A090ZGX0\n",
      "A0A097BEL0\n",
      "A0A099XPR7\n",
      "A0A0A1V514\n",
      "A0A0A2E1C2\n",
      "A0A0A2F684\n",
      "A0A0A2FRD4\n",
      "A0A0A2G4Z4\n",
      "A0A0A2VAN3\n",
      "A0A0A7CPT4\n"
     ]
    }
   ],
   "source": [
    "from urllib import request\n",
    "import json\n",
    "\n",
    "url = \"https://www.ebi.ac.uk/interpro/api/protein/uniprot/entry/interpro/IPR000126\"\n",
    "\n",
    "req = request.Request(url)\n",
    "response = request.urlopen(req)\n",
    "encoded_response = response.read()\n",
    "decoded_response = encoded_response.decode()\n",
    "payload = json.loads(decoded_response)\n",
    "\n",
    "for item in payload[\"results\"]:\n",
    "    print(item[\"metadata\"][\"accession\"])"
   ]
  },
  {
   "cell_type": "code",
   "execution_count": 9,
   "metadata": {},
   "outputs": [
    {
     "ename": "NameError",
     "evalue": "name 'aldolase' is not defined",
     "output_type": "error",
     "traceback": [
      "\u001b[0;31m---------------------------------------------------------------------------\u001b[0m",
      "\u001b[0;31mNameError\u001b[0m                                 Traceback (most recent call last)",
      "Cell \u001b[0;32mIn[9], line 1\u001b[0m\n\u001b[0;32m----> 1\u001b[0m \u001b[43maldolase\u001b[49m\u001b[38;5;241m.\u001b[39madd_to_substrates(\u001b[38;5;124m\"\u001b[39m\u001b[38;5;124mGAPDH\u001b[39m\u001b[38;5;124m\"\u001b[39m)\n",
      "\u001b[0;31mNameError\u001b[0m: name 'aldolase' is not defined"
     ]
    }
   ],
   "source": [
    "aldolase.add_to_substrates(\"GAPDH\")"
   ]
  },
  {
   "cell_type": "code",
   "execution_count": null,
   "metadata": {},
   "outputs": [
    {
     "name": "stdout",
     "output_type": "stream",
     "text": [
      "🏃🏼‍♀️ Running PBLAST\n",
      "╭── protein name: TEM1\n",
      "├── accession: UCS38941.1\n",
      "├── organism: Nakaseomyces glabratus\n",
      "├── e-value: 1e-50\n",
      "╰── max hits: 50\n"
     ]
    },
    {
     "name": "stderr",
     "output_type": "stream",
     "text": [
      "⬇️ Fetching protein sequences: 100%|██████████| 50/50 [00:04<00:00, 11.25it/s]\n"
     ]
    },
    {
     "name": "stdout",
     "output_type": "stream",
     "text": [
      "🎉 Done\n",
      "\n"
     ]
    }
   ],
   "source": [
    "blast_results = aldolase.pblast(n_hits=50, e_value=1e-50)"
   ]
  }
 ],
 "metadata": {
  "kernelspec": {
   "display_name": "pye",
   "language": "python",
   "name": "python3"
  },
  "language_info": {
   "codemirror_mode": {
    "name": "ipython",
    "version": 3
   },
   "file_extension": ".py",
   "mimetype": "text/x-python",
   "name": "python",
   "nbconvert_exporter": "python",
   "pygments_lexer": "ipython3",
   "version": "3.10.13"
  }
 },
 "nbformat": 4,
 "nbformat_minor": 2
}
