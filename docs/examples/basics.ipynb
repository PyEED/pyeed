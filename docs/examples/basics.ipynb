{
 "cells": [
  {
   "cell_type": "markdown",
   "metadata": {},
   "source": [
    "# Get rich sequence information\n",
    "\n",
    "## Acquire sequence information based on accession id(s)\n",
    "\n",
    "**Single accession ID**\n",
    "\n",
    "Single sequences can be retrieved using the `get_id` function. The function takes an accession id as input and returns the sequence as a `ProteinRecord` object.  \n",
    "The `ProteinRecord` object contains the sequence as a string and additional information such as information on the `Organism`, `Region` or `Site` annotations of the sequence.\n"
   ]
  },
  {
   "cell_type": "code",
   "execution_count": 4,
   "metadata": {},
   "outputs": [
    {
     "name": "stdout",
     "output_type": "stream",
     "text": [
      "\u001b[4mProteinRecord\u001b[0m\n",
      "├── \u001b[94mid\u001b[0m = E300_wefef\n",
      "├── \u001b[94mname\u001b[0m = my sequence\n",
      "├── \u001b[94morganism\u001b[0m\n",
      "│   └── \u001b[4mOrganism\u001b[0m\n",
      "│       ├── \u001b[94mid\u001b[0m = f1e41f5c-3e17-477f-a453-837f4fd09ca7\n",
      "│       ├── \u001b[94mtaxonomy_id\u001b[0m = 9094\n",
      "│       └── \u001b[94mname\u001b[0m = E. coli\n",
      "├── \u001b[94msequence\u001b[0m = SDFSGWRSB\n",
      "└── \u001b[94msites\u001b[0m\n",
      "    └── 0\n",
      "        └── \u001b[4mSite\u001b[0m\n",
      "            ├── \u001b[94mid\u001b[0m = 277fed27-a7b4-451a-a822-cbfe3e88c1a2\n",
      "            ├── \u001b[94mname\u001b[0m = active site\n",
      "            └── \u001b[94mpositions\u001b[0m = [1, 2, 3, ...]\n",
      "\n"
     ]
    }
   ],
   "source": [
    "from pyeed.core import ProteinRecord\n",
    "from pyeed.core import Organism\n",
    "\n",
    "my_organism = Organism(name=\"E. coli\", taxonomy_id=9094)\n",
    "\n",
    "E300 = ProteinRecord(id=\"E300_wefef\", sequence=\"SDFSGWRSB\", organism=my_organism, name=\"my sequence\")\n",
    "\n",
    "E300.add_to_sites(\n",
    "    positions=[1,2,3],\n",
    "    name=\"active site\"\n",
    ")\n",
    "\n",
    "E300.\n",
    "\n",
    "print(E300)\n",
    "\n"
   ]
  },
  {
   "cell_type": "code",
   "execution_count": null,
   "metadata": {},
   "outputs": [],
   "source": []
  },
  {
   "cell_type": "code",
   "execution_count": 1,
   "metadata": {},
   "outputs": [],
   "source": [
    "from pyeed.core import ProteinRecord\n",
    "\n",
    "\n",
    "matHM = ProteinRecord.get_id(\"MBP1912539.1\")"
   ]
  },
  {
   "cell_type": "markdown",
   "metadata": {},
   "source": [
    "**Multiple accession IDs**\n",
    "\n",
    "To load multiple sequences at once, the `get_ids` function can be used. The function takes a list of accession IDs as input and returns a list of `ProteinRecord` objects."
   ]
  },
  {
   "cell_type": "code",
   "execution_count": 3,
   "metadata": {},
   "outputs": [
    {
     "data": {
      "application/vnd.jupyter.widget-view+json": {
       "model_id": "5352b6f5fa4c46119cd65bfc4de44c0d",
       "version_major": 2,
       "version_minor": 0
      },
      "text/plain": [
       "Output()"
      ]
     },
     "metadata": {},
     "output_type": "display_data"
    },
    {
     "data": {
      "text/html": [
       "<pre style=\"white-space:pre;overflow-x:auto;line-height:normal;font-family:Menlo,'DejaVu Sans Mono',consolas,'Courier New',monospace\"></pre>\n"
      ],
      "text/plain": []
     },
     "metadata": {},
     "output_type": "display_data"
    },
    {
     "data": {
      "text/html": [
       "<pre style=\"white-space:pre;overflow-x:auto;line-height:normal;font-family:Menlo,'DejaVu Sans Mono',consolas,'Courier New',monospace\">\n",
       "</pre>\n"
      ],
      "text/plain": [
       "\n"
      ]
     },
     "metadata": {},
     "output_type": "display_data"
    }
   ],
   "source": [
    "import json\n",
    "\n",
    "# Load the saved ids from json\n",
    "with open(\"ids.json\", \"r\") as f:\n",
    "    ids = json.load(f)\n",
    "\n",
    "# Get the protein info for each id\n",
    "proteins = ProteinRecord.get_ids(ids)"
   ]
  },
  {
   "cell_type": "markdown",
   "metadata": {},
   "source": [
    "## Serach for similar sequences with BLAST\n",
    "\n",
    "The `ncbi_blast` method can be used to perform a BLAST search on the NCBI server. The method can be applied to a `ProteinRecord` object and returns a list of `ProteinRecord` objects that represent the hits of the BLAST search.\n",
    "By specifying the `n_hits`, `e_value`, `db`, `matrix`, and `identity`, the search can be customized to number of hits, E-value, query database, substitution matrix, and identity to accept the hit, respectively.\n",
    "\n",
    "<div class=\"admonition warning\">\n",
    "    <p class=\"admonition-title\">NCBI BLAST service might be slow</p>\n",
    "    <p>Due to the way NCBI handles requests to its BLAST API the service is quite slow. During peak working hours a single search might take more than 15 min.</p>\n",
    "</div>"
   ]
  },
  {
   "cell_type": "code",
   "execution_count": 4,
   "metadata": {},
   "outputs": [
    {
     "data": {
      "text/html": [
       "<pre style=\"white-space:pre;overflow-x:auto;line-height:normal;font-family:Menlo,'DejaVu Sans Mono',consolas,'Courier New',monospace\"></pre>\n"
      ],
      "text/plain": []
     },
     "metadata": {},
     "output_type": "display_data"
    },
    {
     "data": {
      "application/vnd.jupyter.widget-view+json": {
       "model_id": "f759e3211ef44d2b81a0f820d2f49e2d",
       "version_major": 2,
       "version_minor": 0
      },
      "text/plain": [
       "Output()"
      ]
     },
     "metadata": {},
     "output_type": "display_data"
    },
    {
     "data": {
      "text/html": [
       "<pre style=\"white-space:pre;overflow-x:auto;line-height:normal;font-family:Menlo,'DejaVu Sans Mono',consolas,'Courier New',monospace\"></pre>\n"
      ],
      "text/plain": []
     },
     "metadata": {},
     "output_type": "display_data"
    },
    {
     "data": {
      "text/html": [
       "<pre style=\"white-space:pre;overflow-x:auto;line-height:normal;font-family:Menlo,'DejaVu Sans Mono',consolas,'Courier New',monospace\">\n",
       "</pre>\n"
      ],
      "text/plain": [
       "\n"
      ]
     },
     "metadata": {},
     "output_type": "display_data"
    }
   ],
   "source": [
    "blast_results = matHM.ncbi_blast(\n",
    "    n_hits=100,\n",
    "    e_value=0.05,\n",
    "    db=\"swissprot\",\n",
    "    matrix=\"BLOSUM62\",\n",
    "    identity=0.5,\n",
    ")"
   ]
  },
  {
   "cell_type": "markdown",
   "metadata": {},
   "source": [
    "## Inspect objects\n",
    "\n",
    "Each `pyeed` object has a rich `print` method, displaying all the information available for the object. This can be useful to inspect the object and its attributes."
   ]
  },
  {
   "cell_type": "code",
   "execution_count": 6,
   "metadata": {},
   "outputs": [
    {
     "name": "stdout",
     "output_type": "stream",
     "text": [
      "\u001b[4mProteinRecord\u001b[0m\n",
      "├── \u001b[94mid\u001b[0m = WP_068323110.1\n",
      "├── \u001b[94mname\u001b[0m = methionine adenosyltransferase\n",
      "├── \u001b[94morganism\u001b[0m\n",
      "│   └── \u001b[4mOrganism\u001b[0m\n",
      "│       ├── \u001b[94mid\u001b[0m = 95652fe4-fb9a-40e7-b98a-1dfad46d8e56\n",
      "│       ├── \u001b[94mtaxonomy_id\u001b[0m = 1609559\n",
      "│       ├── \u001b[94mname\u001b[0m = Pyrococcus kukulkanii\n",
      "│       ├── \u001b[94mdomain\u001b[0m = Archaea\n",
      "│       ├── \u001b[94mphylum\u001b[0m = Euryarchaeota\n",
      "│       ├── \u001b[94mtax_class\u001b[0m = Thermococci\n",
      "│       ├── \u001b[94morder\u001b[0m = Thermococcales\n",
      "│       ├── \u001b[94mfamily\u001b[0m = Thermococcaceae\n",
      "│       └── \u001b[94mgenus\u001b[0m = Pyrococcus\n",
      "├── \u001b[94msequence\u001b[0m = MARNIVVEEIVRTPVEMQKVELVERKGIGHPDSIADGIAEAVSRALCREYIKRYGVILHHNTDQVEVVGGRAYPKFGGGEVVKPIYILLSGRAVELVDQELFPVHEVAIRAAKEYLKKNIRHLDVENHVVIDSRIGQGSVDLVSVFNKAKENPIPLANDTSFGVGFAPLTETERLVLETERLLNSEKFKKEYPAVGEDIKVMGLRKGDEIDLTIAAAIVDSEVANPKEYMEVKDKIKETVEELAKDITSRKVNIYVNTADDPKKDIYYITVTGTSAEAGDDGSVGRGNRVNGLITPNRHMSMEAAAGKNPVSHVGKIYNILAMFIANDIAKALPVEEVYVRILSQIGKPIDQPLVASIQVIPKQGHTVKEFEKDAYAIADEWLANITKIQKMILEDKITVF\n",
      "├── \u001b[94mregions\u001b[0m\n",
      "│   └── 0\n",
      "│       └── \u001b[4mRegion\u001b[0m\n",
      "│           ├── \u001b[94mid\u001b[0m = MetK2\n",
      "│           ├── \u001b[94mstart\u001b[0m = 2\n",
      "│           └── \u001b[94mend\u001b[0m = 401\n",
      "├── \u001b[94mec_number\u001b[0m = 2.5.1.6\n",
      "└── \u001b[94mmol_weight\u001b[0m = 44273.0\n",
      "\n"
     ]
    }
   ],
   "source": [
    "print(blast_results[3])"
   ]
  }
 ],
 "metadata": {
  "kernelspec": {
   "display_name": "Python 3 (ipykernel)",
   "language": "python",
   "name": "python3"
  },
  "language_info": {
   "codemirror_mode": {
    "name": "ipython",
    "version": 3
   },
   "file_extension": ".py",
   "mimetype": "text/x-python",
   "name": "python",
   "nbconvert_exporter": "python",
   "pygments_lexer": "ipython3",
   "version": "3.11.5"
  }
 },
 "nbformat": 4,
 "nbformat_minor": 4
}
