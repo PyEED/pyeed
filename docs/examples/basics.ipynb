{
 "cells": [
  {
   "cell_type": "markdown",
   "metadata": {},
   "source": [
    "# Get rich sequence information\n",
    "\n",
    "## Acquire sequence information based on accession id(s)\n",
    "\n",
    "**Single accession ID**\n",
    "\n",
    "Single sequences can be retrieved using the `get_id` function. The function takes an accession id as input and returns the sequence as a `ProteinRecord` object.  \n",
    "The `ProteinRecord` object contains the sequence as a string and additional information such as information on the `Organism`, `Region` or `Site` annotations of the sequence.\n"
   ]
  },
  {
   "cell_type": "code",
   "execution_count": 1,
   "metadata": {},
   "outputs": [],
   "source": [
    "from pyeed.core import ProteinRecord\n",
    "\n",
    "\n",
    "matHM = ProteinRecord.get_id(\"MBP1912539.1\")"
   ]
  },
  {
   "cell_type": "markdown",
   "metadata": {},
   "source": [
    "**Multiple accession IDs**\n",
    "\n",
    "To load multiple sequences at once, the `get_ids` function can be used. The function takes a list of accession IDs as input and returns a list of `ProteinRecord` objects."
   ]
  },
  {
   "cell_type": "code",
   "execution_count": 2,
   "metadata": {},
   "outputs": [
    {
     "data": {
      "application/vnd.jupyter.widget-view+json": {
       "model_id": "68d545568bf04841be62573b15776e10",
       "version_major": 2,
       "version_minor": 0
      },
      "text/plain": [
       "Output()"
      ]
     },
     "metadata": {},
     "output_type": "display_data"
    },
    {
     "data": {
      "text/html": [
       "<pre style=\"white-space:pre;overflow-x:auto;line-height:normal;font-family:Menlo,'DejaVu Sans Mono',consolas,'Courier New',monospace\"></pre>\n"
      ],
      "text/plain": []
     },
     "metadata": {},
     "output_type": "display_data"
    },
    {
     "data": {
      "text/html": [
       "<pre style=\"white-space:pre;overflow-x:auto;line-height:normal;font-family:Menlo,'DejaVu Sans Mono',consolas,'Courier New',monospace\">\n",
       "</pre>\n"
      ],
      "text/plain": [
       "\n"
      ]
     },
     "metadata": {},
     "output_type": "display_data"
    }
   ],
   "source": [
    "import json\n",
    "\n",
    "# Load the saved ids from json\n",
    "with open(\"ids.json\", \"r\") as f:\n",
    "    ids = json.load(f)\n",
    "\n",
    "# Get the protein info for each id\n",
    "proteins = ProteinRecord.get_ids(ids)"
   ]
  },
  {
   "cell_type": "markdown",
   "metadata": {},
   "source": [
    "## Serach for similar sequences with BLAST\n",
    "\n",
    "The `ncbi_blast` method can be used to perform a BLAST search on the NCBI server. The method can be applied to a `ProteinRecord` object and returns a list of `ProteinRecord` objects that represent the hits of the BLAST search.\n",
    "By specifying the `n_hits`, `e_value`, `db`, `matrix`, and `identity`, the search can be customized to number of hits, E-value, query database, substitution matrix, and identity to accept the hit, respectively.\n",
    "\n",
    "<div class=\"admonition warning\">\n",
    "    <p class=\"admonition-title\">NCBI BLAST service might be slow</p>\n",
    "    <p>Due to the way NCBI handles requests to its BLAST API the service is quite slow. During peak working hours a single search might take more than 15 min.</p>\n",
    "</div>"
   ]
  },
  {
   "cell_type": "code",
   "execution_count": 3,
   "metadata": {},
   "outputs": [
    {
     "data": {
      "text/html": [
       "<pre style=\"white-space:pre;overflow-x:auto;line-height:normal;font-family:Menlo,'DejaVu Sans Mono',consolas,'Courier New',monospace\"></pre>\n"
      ],
      "text/plain": []
     },
     "metadata": {},
     "output_type": "display_data"
    },
    {
     "data": {
      "application/vnd.jupyter.widget-view+json": {
       "model_id": "93adf4bcad844963b3815a8288e2083b",
       "version_major": 2,
       "version_minor": 0
      },
      "text/plain": [
       "Output()"
      ]
     },
     "metadata": {},
     "output_type": "display_data"
    },
    {
     "data": {
      "text/html": [
       "<pre style=\"white-space:pre;overflow-x:auto;line-height:normal;font-family:Menlo,'DejaVu Sans Mono',consolas,'Courier New',monospace\"></pre>\n"
      ],
      "text/plain": []
     },
     "metadata": {},
     "output_type": "display_data"
    },
    {
     "data": {
      "text/html": [
       "<pre style=\"white-space:pre;overflow-x:auto;line-height:normal;font-family:Menlo,'DejaVu Sans Mono',consolas,'Courier New',monospace\">\n",
       "</pre>\n"
      ],
      "text/plain": [
       "\n"
      ]
     },
     "metadata": {},
     "output_type": "display_data"
    }
   ],
   "source": [
    "blast_results = matHM.ncbi_blast(\n",
    "    n_hits=100,\n",
    "    e_value=0.05,\n",
    "    db=\"swissprot\",\n",
    "    matrix=\"BLOSUM62\",\n",
    "    identity=0.5,\n",
    ")"
   ]
  },
  {
   "cell_type": "markdown",
   "metadata": {},
   "source": [
    "## Inspect objects\n",
    "\n",
    "Each `pyeed` object has a rich `print` method, displaying all the information available for the object. This can be useful to inspect the object and its attributes."
   ]
  },
  {
   "cell_type": "code",
   "execution_count": 4,
   "metadata": {},
   "outputs": [
    {
     "name": "stdout",
     "output_type": "stream",
     "text": [
      "\u001b[4mProteinRecord\u001b[0m\n",
      "├── \u001b[94mid\u001b[0m = Q9YBK2\n",
      "├── \u001b[94mname\u001b[0m = S-adenosylmethionine synthase\n",
      "├── \u001b[94morganism\u001b[0m\n",
      "│   └── \u001b[4mOrganism\u001b[0m\n",
      "│       ├── \u001b[94mid\u001b[0m = cb2acb39-692e-4424-a4ed-1b97f2351a83\n",
      "│       ├── \u001b[94mtaxonomy_id\u001b[0m = 272557\n",
      "│       ├── \u001b[94mname\u001b[0m = Aeropyrum pernix K1\n",
      "│       ├── \u001b[94mdomain\u001b[0m = Archaea\n",
      "│       ├── \u001b[94mphylum\u001b[0m = Thermoproteota\n",
      "│       ├── \u001b[94mtax_class\u001b[0m = Thermoprotei\n",
      "│       ├── \u001b[94morder\u001b[0m = Desulfurococcales\n",
      "│       ├── \u001b[94mfamily\u001b[0m = Desulfurococcaceae\n",
      "│       └── \u001b[94mgenus\u001b[0m = Aeropyrum\n",
      "├── \u001b[94msequence\u001b[0m = MARRIVVESYPYPRVEDLQVELVERKGLGHPDTICDAAAEAVSRELSKYYLERFGKILHHNVDKVLLVGGQAAPRLGGGEVLQPIYILVSGRVTTEVRTGGGVESVPVGPIILRAVKNYIRENFRFLDPEEHVIVDYRVGRGSVDLVGIFEAEDKVPLANDTSIGSGHAPLSTLERLVLETERILNSRETKERLPAVGEDVKVMGVRDGKSITLTVAMAVVSSQVGSVSDYLAVKEEAESLILDLASRIAPDYDVRVNINTGDIPEKKILYLTVTGTSAEHGDDGATGRGNRVNGLITPMRPMSMEAAAGKNPVNHVGKIYNVVANEMAALIHREVKGVEEVYVKLVSQIGKPIDRPRIVDVKVRMEGGREVTADAKREIEAIANSVLDGITGYTEKLVRGDITVY\n",
      "├── \u001b[94mregions\u001b[0m\n",
      "│   ├── 0\n",
      "│   │   └── \u001b[4mRegion\u001b[0m\n",
      "│   │       ├── \u001b[94mid\u001b[0m = 0f3c9ab0-dde3-4cb1-aa12-c25c5fbb514c\n",
      "│   │       ├── \u001b[94mname\u001b[0m = S-adenosylmethionine synthetase, archaea\n",
      "│   │       ├── \u001b[94mstart\u001b[0m = 2\n",
      "│   │       └── \u001b[94mend\u001b[0m = 406\n",
      "│   ├── 1\n",
      "│   │   └── \u001b[4mRegion\u001b[0m\n",
      "│   │       ├── \u001b[94mid\u001b[0m = 4d0151b8-22bb-4695-ac0b-f70f0e7bb7c9\n",
      "│   │       ├── \u001b[94mname\u001b[0m = S-adenosylmethionine synthase\n",
      "│   │       ├── \u001b[94mstart\u001b[0m = 3\n",
      "│   │       └── \u001b[94mend\u001b[0m = 406\n",
      "│   └── 2\n",
      "│       └── \u001b[4mRegion\u001b[0m\n",
      "│           ├── \u001b[94mid\u001b[0m = a9a6dce1-248d-4b51-bb37-69a6e1b1ed52\n",
      "│           ├── \u001b[94mname\u001b[0m = S-adenosylmethionine synthetase, domain 3\n",
      "│           ├── \u001b[94mstart\u001b[0m = 144\n",
      "│           └── \u001b[94mend\u001b[0m = 248\n",
      "├── \u001b[94mec_number\u001b[0m = 2.5.1.6\n",
      "└── \u001b[94mmol_weight\u001b[0m = 44235.0\n",
      "\n"
     ]
    }
   ],
   "source": [
    "print(blast_results[3])"
   ]
  },
  {
   "cell_type": "code",
   "execution_count": null,
   "metadata": {},
   "outputs": [],
   "source": []
  },
  {
   "cell_type": "code",
   "execution_count": null,
   "metadata": {},
   "outputs": [],
   "source": []
  },
  {
   "cell_type": "code",
   "execution_count": 15,
   "metadata": {},
   "outputs": [
    {
     "name": "stdout",
     "output_type": "stream",
     "text": [
      "💾 Sequence saved to protein.fasta\n"
     ]
    }
   ],
   "source": [
    "from pyeed.core import ProteinRecord\n",
    "\n",
    "protein = ProteinRecord(name=\"test_protein\", sequence=\"MTEITAAMVKELREDKAVQLLREKGLGK\")"
   ]
  },
  {
   "cell_type": "code",
   "execution_count": 16,
   "metadata": {},
   "outputs": [],
   "source": [
    "from neo4j import GraphDatabase\n",
    "\n",
    "# import environment variables\n",
    "import os\n",
    "from dotenv import load_dotenv\n",
    "\n",
    "load_dotenv()\n",
    "\n",
    "\n",
    "# URI examples: \"neo4j://localhost\", \"neo4j+s://xxx.databases.neo4j.io\"\n",
    "URI = \"neo4j+s://ecd986f5.databases.neo4j.io\"\n",
    "AUTH = (os.getenv(\"NEO4J_USER\"), os.getenv(\"NEO4J_PASSWORD\"))\n",
    "\n",
    "with GraphDatabase.driver(URI, auth=AUTH) as driver:\n",
    "    driver.verify_connectivity()"
   ]
  },
  {
   "cell_type": "code",
   "execution_count": 23,
   "metadata": {},
   "outputs": [],
   "source": [
    "def run_query(query):\n",
    "    with driver.session() as session:\n",
    "        result = session.run(query)\n",
    "        records = list(result)  # Fetch all records within the session context\n",
    "        return records"
   ]
  },
  {
   "cell_type": "code",
   "execution_count": 29,
   "metadata": {},
   "outputs": [
    {
     "name": "stdout",
     "output_type": "stream",
     "text": [
      "GO terms and their relationships have been created.\n"
     ]
    }
   ],
   "source": [
    "# Sample GO terms data\n",
    "go_terms = [\n",
    "    {\n",
    "        \"id\": \"GO:0008150\",\n",
    "        \"name\": \"biological_process\",\n",
    "        \"namespace\": \"biological_process\",\n",
    "    },\n",
    "    {\n",
    "        \"id\": \"GO:0003674\",\n",
    "        \"name\": \"molecular_function\",\n",
    "        \"namespace\": \"molecular_function\",\n",
    "    },\n",
    "    {\n",
    "        \"id\": \"GO:0005575\",\n",
    "        \"name\": \"cellular_component\",\n",
    "        \"namespace\": \"cellular_component\",\n",
    "    },\n",
    "    {\"id\": \"GO:0007049\", \"name\": \"cell cycle\", \"namespace\": \"biological_process\"},\n",
    "    {\"id\": \"GO:0009987\", \"name\": \"cellular process\", \"namespace\": \"biological_process\"},\n",
    "]\n",
    "\n",
    "# Create GO Term nodes\n",
    "for term in go_terms:\n",
    "    query = f\"\"\"\n",
    "    CREATE (g:GO_Term {{id: '{term['id']}', name: '{term['name']}', namespace: '{term['namespace']}'}})\n",
    "    \"\"\"\n",
    "    run_query(query)\n",
    "\n",
    "# Define relationships between GO terms\n",
    "relationships = [\n",
    "    {\"parent_id\": \"GO:0008150\", \"child_id\": \"GO:0007049\", \"type\": \"IS_A\"},\n",
    "    {\"parent_id\": \"GO:0008150\", \"child_id\": \"GO:0009987\", \"type\": \"IS_A\"},\n",
    "]\n",
    "\n",
    "# Create relationships\n",
    "for rel in relationships:\n",
    "    query = f\"\"\"\n",
    "    MATCH (p:GO_Term {{id: '{rel['parent_id']}'}}), (c:GO_Term {{id: '{rel['child_id']}'}})\n",
    "    CREATE (c)-[:{rel['type']}]->(p)\n",
    "    \"\"\"\n",
    "    run_query(query)\n",
    "\n",
    "print(\"GO terms and their relationships have been created.\")"
   ]
  },
  {
   "cell_type": "code",
   "execution_count": 30,
   "metadata": {},
   "outputs": [
    {
     "name": "stdout",
     "output_type": "stream",
     "text": [
      "Proteins and their relationships to GO terms have been created.\n"
     ]
    }
   ],
   "source": [
    "# Sample proteins data\n",
    "proteins = [\n",
    "    {\"name\": \"BRCA1 Protein\", \"sequence\": \"M1...1863\", \"length\": 1863},\n",
    "    {\"name\": \"TP53 Protein\", \"sequence\": \"M1...393\", \"length\": 393},\n",
    "]\n",
    "\n",
    "# Create Protein nodes\n",
    "for protein in proteins:\n",
    "    query = f\"\"\"\n",
    "    CREATE (p:Protein {{name: '{protein['name']}', sequence: '{protein['sequence']}', length: {protein['length']}}})\n",
    "    \"\"\"\n",
    "    run_query(query)\n",
    "\n",
    "# Define relationships between proteins and GO terms\n",
    "protein_go_relationships = [\n",
    "    {\n",
    "        \"protein_name\": \"BRCA1 Protein\",\n",
    "        \"go_id\": \"GO:0007049\",\n",
    "        \"relationship\": \"INVOLVED_IN\",\n",
    "    },\n",
    "    {\n",
    "        \"protein_name\": \"TP53 Protein\",\n",
    "        \"go_id\": \"GO:0009987\",\n",
    "        \"relationship\": \"INVOLVED_IN\",\n",
    "    },\n",
    "]\n",
    "\n",
    "# Create relationships\n",
    "for rel in protein_go_relationships:\n",
    "    query = f\"\"\"\n",
    "    MATCH (p:Protein {{name: '{rel['protein_name']}'}}), (g:GO_Term {{id: '{rel['go_id']}'}})\n",
    "    CREATE (p)-[:{rel['relationship']}]->(g)\n",
    "    \"\"\"\n",
    "    run_query(query)\n",
    "\n",
    "print(\"Proteins and their relationships to GO terms have been created.\")"
   ]
  }
 ],
 "metadata": {
  "kernelspec": {
   "display_name": "Python 3 (ipykernel)",
   "language": "python",
   "name": "python3"
  },
  "language_info": {
   "codemirror_mode": {
    "name": "ipython",
    "version": 3
   },
   "file_extension": ".py",
   "mimetype": "text/x-python",
   "name": "python",
   "nbconvert_exporter": "python",
   "pygments_lexer": "ipython3",
   "version": "3.11.5"
  }
 },
 "nbformat": 4,
 "nbformat_minor": 4
}
