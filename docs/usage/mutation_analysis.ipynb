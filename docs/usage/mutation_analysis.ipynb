{
 "cells": [
  {
   "cell_type": "markdown",
   "metadata": {},
   "source": [
    "# Mutation Analysis\n",
    "\n",
    "Mutations between sequences can be comprehensively analyzed."
   ]
  },
  {
   "cell_type": "code",
   "execution_count": 21,
   "metadata": {},
   "outputs": [],
   "source": [
    "import sys\n",
    "from loguru import logger\n",
    "\n",
    "from pyeed import Pyeed\n",
    "from pyeed.analysis.mutation_detection import MutationDetection\n",
    "from pyeed.analysis.standard_numbering import StandardNumberingTool\n",
    "\n",
    "logger.remove()\n",
    "level = logger.add(sys.stderr, level=\"WARNING\")"
   ]
  },
  {
   "cell_type": "markdown",
   "metadata": {},
   "source": [
    "- `Pyeed`: Main class for interacting with the PyEED database\n",
    "- `MutationDetection`: Class for identifying differences between protein sequences\n",
    "- `StandardNumberingTool`: Ensures consistent position numbering across different protein sequences"
   ]
  },
  {
   "cell_type": "code",
   "execution_count": 22,
   "metadata": {},
   "outputs": [
    {
     "name": "stdout",
     "output_type": "stream",
     "text": [
      "📡 Connected to database.\n",
      "All data has been wiped from the database.\n"
     ]
    }
   ],
   "source": [
    "uri = \"bolt://129.69.129.130:7687\"\n",
    "user = \"neo4j\"\n",
    "password = \"12345678\"\n",
    "\n",
    "eedb = Pyeed(uri, user=user, password=password)\n",
    "\n",
    "eedb.db.wipe_database(date=\"2025-03-19\")"
   ]
  },
  {
   "cell_type": "markdown",
   "metadata": {},
   "source": [
    "1. Establishes connection parameters to a local Neo4j database\n",
    "2. Creates a PyEED instance with these credentials\n",
    "3. Wipes existing database data (with date \"2025-01-19\")\n",
    "4. Removes all database constraints for a fresh start\n",
    "\n",
    "This ensures we're working with a clean database state.\n",
    "\n",
    "## Sequence Retrieval"
   ]
  },
  {
   "cell_type": "code",
   "execution_count": 23,
   "metadata": {},
   "outputs": [],
   "source": [
    "ids = [\"AAM15527.1\", \"AAF05614.1\", \"AFN21551.1\", \"CAA76794.1\", \"AGQ50511.1\"]\n",
    "\n",
    "eedb.fetch_from_primary_db(ids, db=\"ncbi_protein\")\n",
    "eedb.fetch_dna_entries_for_proteins()\n",
    "eedb.create_coding_sequences_regions()"
   ]
  },
  {
   "cell_type": "markdown",
   "metadata": {},
   "source": [
    "1. Defines two protein sequence IDs to analyze\n",
    "2. Fetches these sequences from NCBI's protein database\n",
    "3. All sequences are beta-lactamase proteins\n",
    "4. The sequences are automatically parsed and stored in the Neo4j database\n",
    "5. Additional metadata like organism information and CDS (Coding Sequence) details are also stored\n",
    "\n",
    "## Apply Standard Numbering"
   ]
  },
  {
   "cell_type": "code",
   "execution_count": 24,
   "metadata": {},
   "outputs": [
    {
     "data": {
      "application/vnd.jupyter.widget-view+json": {
       "model_id": "19d06e22f1a74d589f68135fcdbd232f",
       "version_major": 2,
       "version_minor": 0
      },
      "text/plain": [
       "Output()"
      ]
     },
     "metadata": {},
     "output_type": "display_data"
    },
    {
     "data": {
      "text/html": [
       "<pre style=\"white-space:pre;overflow-x:auto;line-height:normal;font-family:Menlo,'DejaVu Sans Mono',consolas,'Courier New',monospace\"></pre>\n"
      ],
      "text/plain": []
     },
     "metadata": {},
     "output_type": "display_data"
    }
   ],
   "source": [
    "sn_protein = StandardNumberingTool(name=\"test_standard_numbering_protein\")\n",
    "\n",
    "\n",
    "sn_protein.apply_standard_numbering(\n",
    "    base_sequence_id=\"AAM15527.1\", db=eedb.db, list_of_seq_ids=ids\n",
    ")\n",
    "\n",
    "sn_dna = StandardNumberingTool(name=\"test_standard_numbering_dna_pairwise\")\n",
    "\n",
    "sn_dna.apply_standard_numbering_pairwise(\n",
    "    base_sequence_id=\"AF190695.1\", db=eedb.db, node_type=\"DNA\", region_based_sequence='coding sequence'\n",
    ")"
   ]
  },
  {
   "cell_type": "markdown",
   "metadata": {},
   "source": [
    "1. Creates a new StandardNumberingTool instance named \"test_standard_numbering\"\n",
    "2. Uses KJO56189.1 as the reference sequence for numbering\n",
    "3. Performs multiple sequence alignment (MSA) using CLUSTAL\n",
    "4. The alignment output shows:\n",
    "   - Asterisks (*) indicate identical residues\n",
    "   - Colons (:) indicate conserved substitutions\n",
    "   - Periods (.) indicate semi-conserved substitutions\n",
    "5. This step is crucial for ensuring mutations are correctly identified relative to consistent positions\n",
    "\n",
    "## Mutation Detection"
   ]
  },
  {
   "cell_type": "code",
   "execution_count": 25,
   "metadata": {},
   "outputs": [],
   "source": [
    "md = MutationDetection()\n",
    "\n",
    "seq1 = \"AAM15527.1\"\n",
    "seq2 = \"AAF05614.1\"\n",
    "name_of_standard_numbering_tool = \"test_standard_numbering_protein\"\n",
    "\n",
    "mutations_protein = md.get_mutations_between_sequences(\n",
    "    seq1, seq2, eedb.db, name_of_standard_numbering_tool\n",
    ")"
   ]
  },
  {
   "cell_type": "code",
   "execution_count": 26,
   "metadata": {},
   "outputs": [],
   "source": [
    "md = MutationDetection()\n",
    "\n",
    "seq1 = \"AF190695.1\"\n",
    "seq2 = \"JX042489.1\"\n",
    "name_of_standard_numbering_tool = \"test_standard_numbering_dna_pairwise\"\n",
    "\n",
    "mutations_dna = md.get_mutations_between_sequences(\n",
    "    seq1, seq2, eedb.db, name_of_standard_numbering_tool, node_type=\"DNA\", region_based_sequence=\"coding sequence\"\n",
    ")"
   ]
  },
  {
   "cell_type": "markdown",
   "metadata": {},
   "source": [
    "1. Creates a MutationDetection instance\n",
    "2. Compares the two sequences using the standard numbering scheme\n",
    "3. Identifies all positions where amino acids differ\n",
    "4. Automatically saves the mutations to the database\n",
    "5. Returns a dictionary containing mutation information\n",
    "\n",
    "## Results"
   ]
  },
  {
   "cell_type": "code",
   "execution_count": 27,
   "metadata": {},
   "outputs": [
    {
     "name": "stdout",
     "output_type": "stream",
     "text": [
      "{'from_positions': [125, 272, 241], 'to_positions': [125, 272, 241], 'from_monomers': ['V', 'D', 'R'], 'to_monomers': ['I', 'N', 'S']}\n"
     ]
    }
   ],
   "source": [
    "print(mutations_protein)"
   ]
  },
  {
   "cell_type": "markdown",
   "metadata": {},
   "source": [
    "Outputs a detailed mutation map showing:\n",
    "- `from_positions`: [102, 162, 236] - Where mutations occur in the sequence\n",
    "- `to_positions`: [102, 162, 236] - Corresponding positions in the second sequence\n",
    "- `from_monomers`: ['E', 'S', 'G'] - Original amino acids\n",
    "- `to_monomers`: ['K', 'R', 'S'] - Mutated amino acids\n",
    "\n",
    "This means we found three mutations:\n",
    "1. Position 102: Glutamic acid (E) → Lysine (K)\n",
    "2. Position 162: Serine (S) → Arginine (R)\n",
    "3. Position 236: Glycine (G) → Serine (S)"
   ]
  },
  {
   "cell_type": "code",
   "execution_count": 28,
   "metadata": {},
   "outputs": [
    {
     "name": "stdout",
     "output_type": "stream",
     "text": [
      "Mutation on position 720 -> 720 with a nucleotide change of A -> C\n",
      "Mutation on position 137 -> 137 with a nucleotide change of A -> G\n",
      "Mutation on position 705 -> 705 with a nucleotide change of G -> A\n",
      "Mutation on position 395 -> 395 with a nucleotide change of T -> G\n",
      "Mutation on position 716 -> 716 with a nucleotide change of G -> A\n",
      "Mutation on position 17 -> 17 with a nucleotide change of T -> C\n",
      "Mutation on position 198 -> 198 with a nucleotide change of C -> A\n",
      "Mutation on position 473 -> 473 with a nucleotide change of T -> C\n"
     ]
    }
   ],
   "source": [
    "for i in range(len(mutations_dna['from_positions'])):\n",
    "    print(f\"Mutation on position {mutations_dna['from_positions'][i]} -> {mutations_dna['to_positions'][i]} with a nucleotide change of {mutations_dna['from_monomers'][i]} -> {mutations_dna['to_monomers'][i]}\")"
   ]
  },
  {
   "cell_type": "code",
   "execution_count": null,
   "metadata": {},
   "outputs": [],
   "source": []
  }
 ],
 "metadata": {
  "kernelspec": {
   "display_name": "pyeed_niklas",
   "language": "python",
   "name": "python3"
  },
  "language_info": {
   "codemirror_mode": {
    "name": "ipython",
    "version": 3
   },
   "file_extension": ".py",
   "mimetype": "text/x-python",
   "name": "python",
   "nbconvert_exporter": "python",
   "pygments_lexer": "ipython3",
   "version": "3.12.8"
  }
 },
 "nbformat": 4,
 "nbformat_minor": 2
}
