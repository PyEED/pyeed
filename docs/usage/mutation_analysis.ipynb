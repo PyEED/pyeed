{
 "cells": [
  {
   "cell_type": "markdown",
   "metadata": {},
   "source": [
    "# Mutation Analysis\n",
    "\n",
    "Mutations between sequences can be comprehensively analyzed."
   ]
  },
  {
   "cell_type": "code",
   "execution_count": 9,
   "metadata": {},
   "outputs": [],
   "source": [
    "import sys\n",
    "\n",
    "from loguru import logger\n",
    "\n",
    "from pyeed import Pyeed\n",
    "from pyeed.analysis.mutation_detection import MutationDetection\n",
    "from pyeed.analysis.standard_numbering import StandardNumberingTool\n",
    "\n",
    "logger.remove()\n",
    "level = logger.add(sys.stderr, level=\"WARNING\")"
   ]
  },
  {
   "cell_type": "markdown",
   "metadata": {},
   "source": [
    "- `Pyeed`: Main class for interacting with the PyEED database\n",
    "- `MutationDetection`: Class for identifying differences between protein sequences\n",
    "- `StandardNumberingTool`: Ensures consistent position numbering across different protein sequences"
   ]
  },
  {
   "cell_type": "code",
   "execution_count": 10,
   "metadata": {},
   "outputs": [
    {
     "name": "stdout",
     "output_type": "stream",
     "text": [
      "📡 Connected to database.\n",
      "All data has been wiped from the database.\n"
     ]
    }
   ],
   "source": [
    "uri = \"bolt://129.69.129.130:7687\"\n",
    "user = \"neo4j\"\n",
    "password = \"12345678\"\n",
    "\n",
    "eedb = Pyeed(uri, user=user, password=password)\n",
    "\n",
    "eedb.db.wipe_database(date=\"2025-03-19\")"
   ]
  },
  {
   "cell_type": "markdown",
   "metadata": {},
   "source": [
    "1. Establishes connection parameters to a local Neo4j database\n",
    "2. Creates a PyEED instance with these credentials\n",
    "3. Wipes existing database data (with date \"2025-01-19\")\n",
    "4. Removes all database constraints for a fresh start\n",
    "\n",
    "This ensures we're working with a clean database state.\n",
    "\n",
    "## Sequence Retrieval"
   ]
  },
  {
   "cell_type": "code",
   "execution_count": 11,
   "metadata": {},
   "outputs": [],
   "source": [
    "ids = [\"AAM15527.1\", \"AAF05614.1\", \"AFN21551.1\", \"CAA76794.1\", \"AGQ50511.1\"]\n",
    "\n",
    "eedb.fetch_from_primary_db(ids, db=\"ncbi_protein\")\n",
    "eedb.fetch_dna_entries_for_proteins()\n",
    "eedb.create_coding_sequences_regions()"
   ]
  },
  {
   "cell_type": "markdown",
   "metadata": {},
   "source": [
    "1. Defines two protein sequence IDs to analyze\n",
    "2. Fetches these sequences from NCBI's protein database\n",
    "3. All sequences are beta-lactamase proteins\n",
    "4. The sequences are automatically parsed and stored in the Neo4j database\n",
    "5. Additional metadata like organism information and CDS (Coding Sequence) details are also stored\n",
    "\n",
    "## Apply Standard Numbering"
   ]
  },
  {
   "cell_type": "code",
   "execution_count": 12,
   "metadata": {},
   "outputs": [
    {
     "data": {
      "application/vnd.jupyter.widget-view+json": {
       "model_id": "6ed852d438ab480fa4d1c6129eacfd26",
       "version_major": 2,
       "version_minor": 0
      },
      "text/plain": [
       "Output()"
      ]
     },
     "metadata": {},
     "output_type": "display_data"
    },
    {
     "name": "stdout",
     "output_type": "stream",
     "text": [
      "Region ids: [143, 129, 128, 69, 9]\n",
      "len of ids: 5\n"
     ]
    },
    {
     "data": {
      "text/html": [
       "<pre style=\"white-space:pre;overflow-x:auto;line-height:normal;font-family:Menlo,'DejaVu Sans Mono',consolas,'Courier New',monospace\"></pre>\n"
      ],
      "text/plain": []
     },
     "metadata": {},
     "output_type": "display_data"
    }
   ],
   "source": [
    "sn_protein = StandardNumberingTool(name=\"test_standard_numbering_protein\")\n",
    "\n",
    "\n",
    "sn_protein.apply_standard_numbering(\n",
    "    base_sequence_id=\"AAM15527.1\", db=eedb.db, list_of_seq_ids=ids\n",
    ")\n",
    "\n",
    "sn_dna = StandardNumberingTool(name=\"test_standard_numbering_dna_pairwise\")\n",
    "\n",
    "query_get_region_ids = \"\"\"\n",
    "MATCH (p:Protein)<-[rel:ENCODES]-(d:DNA)-[rel2:HAS_REGION]->(r:Region)\n",
    "WHERE r.annotation = $region_annotation AND p.accession_id IN $protein_id\n",
    "RETURN id(r)\n",
    "\"\"\"\n",
    "\n",
    "region_ids = eedb.db.execute_read(query_get_region_ids, parameters={\"protein_id\": ids, \"region_annotation\": \"coding sequence\"})\n",
    "region_ids = [id['id(r)'] for id in region_ids]\n",
    "print(f\"Region ids: {region_ids}\")\n",
    "print(f\"len of ids: {len(ids)}\")\n",
    "\n",
    "sn_dna.apply_standard_numbering_pairwise(\n",
    "    base_sequence_id=\"AF190695.1\", db=eedb.db, node_type=\"DNA\", region_ids_neo4j=region_ids\n",
    ")"
   ]
  },
  {
   "cell_type": "markdown",
   "metadata": {},
   "source": [
    "1. Creates a new StandardNumberingTool instance named \"test_standard_numbering\"\n",
    "2. Uses KJO56189.1 as the reference sequence for numbering\n",
    "3. Performs multiple sequence alignment (MSA) using CLUSTAL\n",
    "4. The alignment output shows:\n",
    "   - Asterisks (*) indicate identical residues\n",
    "   - Colons (:) indicate conserved substitutions\n",
    "   - Periods (.) indicate semi-conserved substitutions\n",
    "5. This step is crucial for ensuring mutations are correctly identified relative to consistent positions\n",
    "\n",
    "## Mutation Detection"
   ]
  },
  {
   "cell_type": "code",
   "execution_count": 13,
   "metadata": {},
   "outputs": [],
   "source": [
    "md = MutationDetection()\n",
    "\n",
    "seq1 = \"AAM15527.1\"\n",
    "seq2 = \"AAF05614.1\"\n",
    "name_of_standard_numbering_tool = \"test_standard_numbering_protein\"\n",
    "\n",
    "mutations_protein = md.get_mutations_between_sequences(\n",
    "    seq1, seq2, eedb.db, name_of_standard_numbering_tool\n",
    ")"
   ]
  },
  {
   "cell_type": "code",
   "execution_count": 14,
   "metadata": {},
   "outputs": [],
   "source": [
    "md = MutationDetection()\n",
    "\n",
    "\n",
    "seq1 = \"AF190695.1\"\n",
    "seq2 = \"JX042489.1\"\n",
    "name_of_standard_numbering_tool = \"test_standard_numbering_dna_pairwise\"\n",
    "\n",
    "mutations_dna = md.get_mutations_between_sequences(\n",
    "    seq1, seq2, eedb.db, name_of_standard_numbering_tool, node_type=\"DNA\", region_ids_neo4j=region_ids\n",
    ")"
   ]
  },
  {
   "cell_type": "markdown",
   "metadata": {},
   "source": [
    "1. Creates a MutationDetection instance\n",
    "2. Compares the two sequences using the standard numbering scheme\n",
    "3. Identifies all positions where amino acids differ\n",
    "4. Automatically saves the mutations to the database\n",
    "5. Returns a dictionary containing mutation information\n",
    "\n",
    "## Results"
   ]
  },
  {
   "cell_type": "code",
   "execution_count": 15,
   "metadata": {},
   "outputs": [
    {
     "name": "stdout",
     "output_type": "stream",
     "text": [
      "{'from_positions': [241, 125, 272], 'to_positions': [241, 125, 272], 'from_monomers': ['R', 'V', 'D'], 'to_monomers': ['S', 'I', 'N']}\n"
     ]
    }
   ],
   "source": [
    "print(mutations_protein)"
   ]
  },
  {
   "cell_type": "markdown",
   "metadata": {},
   "source": [
    "Outputs a detailed mutation map showing:\n",
    "- `from_positions`: [102, 162, 236] - Where mutations occur in the sequence\n",
    "- `to_positions`: [102, 162, 236] - Corresponding positions in the second sequence\n",
    "- `from_monomers`: ['E', 'S', 'G'] - Original amino acids\n",
    "- `to_monomers`: ['K', 'R', 'S'] - Mutated amino acids\n",
    "\n",
    "This means we found three mutations:\n",
    "1. Position 102: Glutamic acid (E) → Lysine (K)\n",
    "2. Position 162: Serine (S) → Arginine (R)\n",
    "3. Position 236: Glycine (G) → Serine (S)"
   ]
  },
  {
   "cell_type": "code",
   "execution_count": 16,
   "metadata": {},
   "outputs": [
    {
     "name": "stdout",
     "output_type": "stream",
     "text": [
      "Mutation on position 705 -> 705 with a nucleotide change of G -> A\n",
      "Mutation on position 395 -> 395 with a nucleotide change of T -> G\n",
      "Mutation on position 137 -> 137 with a nucleotide change of A -> G\n",
      "Mutation on position 17 -> 17 with a nucleotide change of T -> C\n",
      "Mutation on position 473 -> 473 with a nucleotide change of T -> C\n",
      "Mutation on position 716 -> 716 with a nucleotide change of G -> A\n",
      "Mutation on position 720 -> 720 with a nucleotide change of A -> C\n",
      "Mutation on position 198 -> 198 with a nucleotide change of C -> A\n"
     ]
    }
   ],
   "source": [
    "for i in range(len(mutations_dna['from_positions'])):\n",
    "    print(f\"Mutation on position {mutations_dna['from_positions'][i]} -> {mutations_dna['to_positions'][i]} with a nucleotide change of {mutations_dna['from_monomers'][i]} -> {mutations_dna['to_monomers'][i]}\")"
   ]
  },
  {
   "cell_type": "code",
   "execution_count": null,
   "metadata": {},
   "outputs": [],
   "source": []
  }
 ],
 "metadata": {
  "kernelspec": {
   "display_name": "pyeed_niklas_env",
   "language": "python",
   "name": "python3"
  },
  "language_info": {
   "codemirror_mode": {
    "name": "ipython",
    "version": 3
   },
   "file_extension": ".py",
   "mimetype": "text/x-python",
   "name": "python",
   "nbconvert_exporter": "python",
   "pygments_lexer": "ipython3",
   "version": "3.10.16"
  }
 },
 "nbformat": 4,
 "nbformat_minor": 2
}
