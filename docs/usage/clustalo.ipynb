{
    "cells": [
        {
            "cell_type": "markdown",
            "metadata": {},
            "source": [
                "# Multiple Sequence Alignment with Clustal Omega\n",
                "\n",
                "PyEED provides a convenient interface to Clustal Omega for multiple sequence alignment. This notebook demonstrates how to:\n",
                "1. Align sequences from a dictionary\n",
                "2. Align sequences directly from the database"
            ]
        },
        {
            "cell_type": "code",
            "execution_count": 1,
            "metadata": {},
            "outputs": [
                {
                    "ename": "ModuleNotFoundError",
                    "evalue": "No module named 'esm'",
                    "output_type": "error",
                    "traceback": [
                        "\u001b[0;31m---------------------------------------------------------------------------\u001b[0m",
                        "\u001b[0;31mModuleNotFoundError\u001b[0m                       Traceback (most recent call last)",
                        "Cell \u001b[0;32mIn[1], line 1\u001b[0m\n\u001b[0;32m----> 1\u001b[0m \u001b[38;5;28;01mfrom\u001b[39;00m\u001b[38;5;250m \u001b[39m\u001b[38;5;21;01mpyeed\u001b[39;00m\u001b[38;5;250m \u001b[39m\u001b[38;5;28;01mimport\u001b[39;00m Pyeed\n\u001b[1;32m      2\u001b[0m \u001b[38;5;28;01mfrom\u001b[39;00m\u001b[38;5;250m \u001b[39m\u001b[38;5;21;01mpyeed\u001b[39;00m\u001b[38;5;21;01m.\u001b[39;00m\u001b[38;5;21;01mtools\u001b[39;00m\u001b[38;5;21;01m.\u001b[39;00m\u001b[38;5;21;01mclustalo\u001b[39;00m\u001b[38;5;250m \u001b[39m\u001b[38;5;28;01mimport\u001b[39;00m ClustalOmega\n",
                        "File \u001b[0;32m~/Documents/GitHub/pyeed/src/pyeed/__init__.py:1\u001b[0m\n\u001b[0;32m----> 1\u001b[0m \u001b[38;5;28;01mfrom\u001b[39;00m\u001b[38;5;250m \u001b[39m\u001b[38;5;21;01mpyeed\u001b[39;00m\u001b[38;5;21;01m.\u001b[39;00m\u001b[38;5;21;01mmain\u001b[39;00m\u001b[38;5;250m \u001b[39m\u001b[38;5;28;01mimport\u001b[39;00m Pyeed\n\u001b[1;32m      3\u001b[0m __all__ \u001b[38;5;241m=\u001b[39m [\u001b[38;5;124m\"\u001b[39m\u001b[38;5;124mPyeed\u001b[39m\u001b[38;5;124m\"\u001b[39m]\n",
                        "File \u001b[0;32m~/Documents/GitHub/pyeed/src/pyeed/main.py:13\u001b[0m\n\u001b[1;32m     11\u001b[0m \u001b[38;5;28;01mfrom\u001b[39;00m\u001b[38;5;250m \u001b[39m\u001b[38;5;21;01mpyeed\u001b[39;00m\u001b[38;5;21;01m.\u001b[39;00m\u001b[38;5;21;01mdbchat\u001b[39;00m\u001b[38;5;250m \u001b[39m\u001b[38;5;28;01mimport\u001b[39;00m DBChat\n\u001b[1;32m     12\u001b[0m \u001b[38;5;28;01mfrom\u001b[39;00m\u001b[38;5;250m \u001b[39m\u001b[38;5;21;01mpyeed\u001b[39;00m\u001b[38;5;21;01m.\u001b[39;00m\u001b[38;5;21;01mdbconnect\u001b[39;00m\u001b[38;5;250m \u001b[39m\u001b[38;5;28;01mimport\u001b[39;00m DatabaseConnector\n\u001b[0;32m---> 13\u001b[0m \u001b[38;5;28;01mfrom\u001b[39;00m\u001b[38;5;250m \u001b[39m\u001b[38;5;21;01mpyeed\u001b[39;00m\u001b[38;5;21;01m.\u001b[39;00m\u001b[38;5;21;01membedding\u001b[39;00m\u001b[38;5;250m \u001b[39m\u001b[38;5;28;01mimport\u001b[39;00m (\n\u001b[1;32m     14\u001b[0m     free_memory,\n\u001b[1;32m     15\u001b[0m     get_batch_embeddings,\n\u001b[1;32m     16\u001b[0m     load_model_and_tokenizer,\n\u001b[1;32m     17\u001b[0m     update_protein_embeddings_in_db,\n\u001b[1;32m     18\u001b[0m )\n\u001b[1;32m     21\u001b[0m \u001b[38;5;28;01mclass\u001b[39;00m\u001b[38;5;250m \u001b[39m\u001b[38;5;21;01mPyeed\u001b[39;00m:\n\u001b[1;32m     22\u001b[0m \u001b[38;5;250m    \u001b[39m\u001b[38;5;124;03m\"\"\"\u001b[39;00m\n\u001b[1;32m     23\u001b[0m \u001b[38;5;124;03m    Main class to interact with the pyeed graph database.\u001b[39;00m\n\u001b[1;32m     24\u001b[0m \u001b[38;5;124;03m    \"\"\"\u001b[39;00m\n",
                        "File \u001b[0;32m~/Documents/GitHub/pyeed/src/pyeed/embedding.py:6\u001b[0m\n\u001b[1;32m      4\u001b[0m \u001b[38;5;28;01mimport\u001b[39;00m\u001b[38;5;250m \u001b[39m\u001b[38;5;21;01mnumpy\u001b[39;00m\u001b[38;5;250m \u001b[39m\u001b[38;5;28;01mas\u001b[39;00m\u001b[38;5;250m \u001b[39m\u001b[38;5;21;01mnp\u001b[39;00m\n\u001b[1;32m      5\u001b[0m \u001b[38;5;28;01mimport\u001b[39;00m\u001b[38;5;250m \u001b[39m\u001b[38;5;21;01mtorch\u001b[39;00m\n\u001b[0;32m----> 6\u001b[0m \u001b[38;5;28;01mfrom\u001b[39;00m\u001b[38;5;250m \u001b[39m\u001b[38;5;21;01mesm\u001b[39;00m\u001b[38;5;21;01m.\u001b[39;00m\u001b[38;5;21;01mmodels\u001b[39;00m\u001b[38;5;21;01m.\u001b[39;00m\u001b[38;5;21;01mesmc\u001b[39;00m\u001b[38;5;250m \u001b[39m\u001b[38;5;28;01mimport\u001b[39;00m ESMC\n\u001b[1;32m      7\u001b[0m \u001b[38;5;28;01mfrom\u001b[39;00m\u001b[38;5;250m \u001b[39m\u001b[38;5;21;01mesm\u001b[39;00m\u001b[38;5;21;01m.\u001b[39;00m\u001b[38;5;21;01msdk\u001b[39;00m\u001b[38;5;21;01m.\u001b[39;00m\u001b[38;5;21;01mapi\u001b[39;00m\u001b[38;5;250m \u001b[39m\u001b[38;5;28;01mimport\u001b[39;00m ESM3InferenceClient, ESMProtein, LogitsConfig\n\u001b[1;32m      8\u001b[0m \u001b[38;5;28;01mfrom\u001b[39;00m\u001b[38;5;250m \u001b[39m\u001b[38;5;21;01mhuggingface_hub\u001b[39;00m\u001b[38;5;250m \u001b[39m\u001b[38;5;28;01mimport\u001b[39;00m HfApi, HfFolder, login\n",
                        "\u001b[0;31mModuleNotFoundError\u001b[0m: No module named 'esm'"
                    ]
                }
            ],
            "source": [
                "from pyeed import Pyeed\n",
                "from pyeed.tools.clustalo import ClustalOmega"
            ]
        },
        {
            "cell_type": "markdown",
            "metadata": {},
            "source": [
                "## Direct Sequence Alignment\n",
                "\n",
                "You can align sequences directly by providing a dictionary of sequences:"
            ]
        },
        {
            "cell_type": "code",
            "execution_count": 7,
            "metadata": {},
            "outputs": [
                {
                    "name": "stderr",
                    "output_type": "stream",
                    "text": [
                        "\u001b[32m2025-01-22 15:16:24.610\u001b[0m | \u001b[31m\u001b[1mERROR   \u001b[0m | \u001b[36mpyeed.tools.clustalo\u001b[0m:\u001b[36m_run_clustalo_service\u001b[0m:\u001b[36m80\u001b[0m - \u001b[31m\u001b[1mConnection error: [Errno 8] nodename nor servname provided, or not known\u001b[0m\n"
                    ]
                },
                {
                    "name": "stdout",
                    "output_type": "stream",
                    "text": [
                        "Aligned sequences:\n",
                        "seq1  AKFVMPDRAWHLYTGNECSKQRLYVWFHDGAPILKTQSDNMGAYRCPLFHVTKNWEI\n",
                        "seq2  AKFVMPDRQWHLYTGQECSKQRLYVWFHDGAPILKTQSDNMGAYRCPLFHVTKNWEI\n",
                        "seq3  AKFVMPDRQWHLYTGNECSKQRLYVWFHDGAPILKTQADNMGAYRCALFHVTK----\n"
                    ]
                }
            ],
            "source": [
                "# Initialize ClustalOmega\n",
                "clustalo = ClustalOmega()\n",
                "\n",
                "# Example sequences\n",
                "sequences = {\n",
                "    \"seq1\": \"AKFVMPDRAWHLYTGNECSKQRLYVWFHDGAPILKTQSDNMGAYRCPLFHVTKNWEI\",\n",
                "    \"seq2\": \"AKFVMPDRQWHLYTGQECSKQRLYVWFHDGAPILKTQSDNMGAYRCPLFHVTKNWEI\",\n",
                "    \"seq3\": \"AKFVMPDRQWHLYTGNECSKQRLYVWFHDGAPILKTQADNMGAYRCALFHVTK\",\n",
                "}\n",
                "\n",
                "# Perform alignment\n",
                "alignment = clustalo.align(sequences)\n",
                "print(\"Aligned sequences:\")\n",
                "print(alignment)"
            ]
        },
        {
            "cell_type": "markdown",
            "metadata": {},
            "source": [
                "## Database-based Alignment\n",
                "\n",
                "You can also align sequences directly from the database by providing a list of accession IDs:"
            ]
        },
        {
            "cell_type": "code",
            "execution_count": 6,
            "metadata": {},
            "outputs": [
                {
                    "name": "stdout",
                    "output_type": "stream",
                    "text": [
                        "📡 Connected to database.\n",
                        "Database alignment:\n",
                        "A0A0H5C8F2  MSAAAETFLFTSESVGEGHPDKICDQVSDAILDACLAVDPLSKVACETASKTGMIMVFGEITT-KAQLDYQKIIRDTIKHIGYDSSDKGFDYKTCNVLVAIEQQSPDIAQGLHYEK----------ALEELGAGDQGIMFGYATDETDEKLPLTILLAHKLNAALADARR--SGALPWLRPDTKTQVTVEYKKDGGAVIPLRVDTIVISTQHAEEISTEDLRSEIIKHIVQKVIPEHLLDDKTIYHIQPSGRFVIGGPQGDAGLTGRKIIVDTYGGWGAHGGGAFSGKDFSKVDRSAAYAARWIAKSLVHAKLARRALVQLSYAIGVAEPLSIYVDTYGTSKYTSEQLVDIIKGNFDLRPGVVVKELDLARPIYFKTASYGHFTDQSN-----------------PWEQPKPLKF--------\n",
                        "A0A098MEC3  -MSIKGRHLFTSESVTEGHPDKICDQISDAVLDAFLANDPNARVACEVAVATGLVLVIGEISTKSEYVDIPAIVRNTIKEIGYTRAKFGFDYNTCAVLTSLNEQSADIAQGVNAALEGRDPAQVDEETANIGAGDQGLMFGFATNETPELMPLPIALSHRIARRLAEVRK--NGTLEYLRPDGKTQVTIEYL-DDK---PVRVDTIVVSTQHAEEISLEQIQADIKEHVILPVVPAELLDGETKYFINPTGRFVIGGPQGDAGLTGRKIIVDTYGGYARHGGGAFSGKDPTKVDRSAAYAARYVAKNLVAAGLADKCEIQLAYAIGVANPVSINVDTYGTGKVSEEKLVELISNNFDLRPAGIIAMLDLRKPIYKHTAAYGHFGRTDI---------------DLPWERLDKADLLKSQAEL-\n",
                        "A0A1E3P4X5  ---MSETFLFTSESVGEGHPDKICDQVSDAILDAALAIDPLSKVACETAAKTGLILVFGEITT-KAQLDYQKIIRDTIKHIGYDSSDKGFDYKTCNVLVAIEQQSPDIAQGLHYEK----------ALEELGAGDQGIMFGYATDETDEKLPLTILLSHKLNKALADARR--SGALPWLRPDTKTQVTIEYKKDNGAVIPQRVDTVVISTQHAEEISTEDLRAQIKEHIIKQVIPEHLLDDKTVYHIQPSGRFVIGGPQGDAGLTGRKIIVDTYGGWGAHGGGAFSGKDFSKVDRSAAYAARWVAKSLVHAKLARRALVQLSYAIGVAEPLSIYVDTYGTSKYSSDELVAIIGKNFDLRPGVVVKELDLARPIYAKTASYGHFTDQSN-----------------TWEQPKPLKF--------\n",
                        "A0A5D0CQ64  -MSIQGRHLFTSESVTEGHPDKICDQISDAVLDAFLENDPYARVACEVSVATGLVLVIGEISTKSEYVDIPAIVRKTVKEIGYTRAKYGFDSNTCAVLTSLNEQSADIAQGVNAALESRDPAQMDKETENIGAGDQGLMFGFATNETPELMPLPIALSHRIARRLSEVRK--DGTLDYLRPDGKTQVTIEYI-DGK---PKRVDTIVVSTQHAEEITLEQIQKDIKEKVILPVVPAELLDGETKYFINPTGRFVIGGPQGDAGLTGRKIIVDTYGGYARHGGGAFSGKDPTKVDRSAAYAARYVAKNLVAAGLADKVEIQLAYAIGVANPVSINVDTYGTGKIAEEKLVELVRENFDLRPAGIIRMLDLRRPIYRQTAAYGHFGRTDI---------------DLPWERVDKAEALKAQAGI-\n",
                        "C5MCZ9      MTTSRETFLFTSESVGEGHPDKICDQVSDAILDACLAVDPLSKVACETAAKTGMIMVFGEITT-KAQLDYQKIIRDTIKHIGYDDSEKGFDYKTCNVLVAIEQQSPDIAQGLHYEK----------ALEELGAGDQGIMFGYATDETDEKLPLTILLAHKLNAALASARR--SGSLPWLRPDTKTQVTVEYEKDGGAVVPKRVDTIVISTQHAEEISTENLRKEIIEHIIKQVIPEHLLDDKTIYHIQPSGRFVIGGPQGDAGLTGRKIIVDTYGGWGAHGGGAFSGKDFSKVDRSAAYAARWVAKSLVNAGLARRALVQFSYAIGVAEPLSVYVDTYGTSKYTSDQLVEIIKNNFDLRPGVIVKELDLARPIYFKTASYGHFTNQEN-----------------PWEQPKKLKF--------\n",
                        "A0A1A8T0F3  ---MSEYSLFTSESVSEGHPDKIADQVSDAILDAILEKDTEARVACETLVKTGMVLVAGEIRT-NAWVDIEEIARGVIREIGYNSSDMGFDWESCAVMNAIGKQSVDIAVGVDEAS-----------EKEQGAGDQGLMFGFATNETDVLMPAPITYAHRLVQRQADVRK--NGTLDFLRPDAKSQVTFRYDENGK---PCAIDAVVLSTQHSAAIKQADLREAVMEEIIKPVLPEEWLSKDTKYFINPTGQFIIGGPVGDCGLTGRKIIVDTYGGMARHGGGAFSGKDPSKVDRSAAYAGRYVAKNIVAAGLADKCEIQISYAIGVAEPTSISINTFGTGKVSDEMISQLVREHFELRPAGLIKMLDLKRPIYLPTAAYGHFGREGE---------------NFTWEKTDKADALRRSAGL-\n",
                        "A0A286D3Y0  ----MSNYLFTSESVSEGHPDKVADQISDAVLDAILTQDKRARVACETLVKTGVAIVAGEITT-SAWIDLEALTRKVIVDIGYDSSEVGFDGETCGVLNLIGKQSPDINQGVDRKK-----------PEEQGAGDQGLMFGYATNETADYMPAAIHLSHRLVEQQAKVRKKKNSPLPWLRPDAKSQVTLRYE-NGK---ASAIDAVVLSTQHDPGVKQKDLIEAVREEILKPVLPAKWLHKGTKFHINPTGKFVIGGPVGDCGLTGRKIIVDTYGGWARHGGGAFSGKDPSKVDRSAAYAARYVAKNVVAAGLADRCEVQVSYAIGVAEPTSISVTTFGTGKIDDHKIEKLIRKHFDLRPYGIIQMLDLIHPMYQSTAAYGHFGRKPKEFSYTDGAGKQHTATAFSWEKTDRADALRADAKLK\n",
                        "M3K377      MTTSKETFLFTSESVGEGHPDKICDQVSDAILDACLAVDPLSKVACETAAKTGMIMVFGEITT-KAQLDFQKIVRDTIKHIGYDDSEKGFDYKTCNVLVAIEQQSPDIAQGLHYEK----------ALEELGAGDQGIMFGYATDETDEKLPLTILLAHKLNAALASARR--SGSLPWLRPDTKTQVTVEYEKDGGAVIPKRVDTIVISTQHAEEISTEDLRKELIKHIIQQVIPEHLLDDKTIYHIQPSGRFVIGGPQGDAGLTGRKIIVDTYGGWGAHGGGAFSGKDFSKVDRSAAYAARWVAKSLVNAGLARRALVQFSYAIGVAEPLSIYVDTYGTSKYTSDQLVEIIKNNFDLRPGVIVKELDLARPIYLKTASYGHFTNQEN-----------------PWEQPKKIKF--------\n",
                        "A3LNJ6      MTTSRETFLFTSESVGEGHPDKICDQVSDAILDACLAVDPLSKVACETAAKTGMIMVFGEITT-KAQIDFQKVIRDTIKHIGYDDSEKGFDYKTCNVLVAIEHQSPDIAQGLHYEK----------ALEELGAGDQGIMFGYATDETDEKLPLTLLLAHKLNAALASARR--SGALPWLRPDTKTQVTIEYAKDGGAVIPLRVDTVVISAQHAEEISTEDLRSEIIKHIIQKVVPEHLLDDKTVYHIQPSGRFVIGGPQGDAGLTGRKIIVDTYGGWGAHGGGAFSGKDFSKVDRSAAYAARWVAKSLVNAGLARRALVQFSYAIGVAEPLSIYVDTYGTSKYSSEQLVEIIKANFDLRPGVIVKELDLARPIYFKTASYGHFTNQEN-----------------PWEQPKKLKF--------\n",
                        "A0A061BBP8  MSAASETFLFTSESVGEGHPDKICDQVSDAILDACLAVDPLSKVACETASKTGMIMVFGEITT-KAQLDYQKIIRDTIKHIGYDDSAKGFDYKTCNVLVAIEQQSPDIAQGLHYEK----------ALEDLGAGDQGIMFGYATDETDEKLPLTILLAHKLNAALADARR--SGALPWLRPDTKTQVTVEYKNDNGAVIPLRVDTIVISTQHAEEISTEDLRSEIIQHIVKKVIPSNLLDDKTVYHIQPSGRFVIGGPQGDAGLTGRKIIVDTYGGWGAHGGGAFSGKDFSKVDRSAAYAARWIAKSLVHAKLARRALVQLSYAIGVAEPLSIFVETYGTSKYSSDELVAIIRKNFDLRPGVVVKELDLARPIYFKTASYGHFTDQSN-----------------PWEQPKPLKF--------\n"
                    ]
                }
            ],
            "source": [
                "# Connect to database\n",
                "pyeed = Pyeed(uri=\"bolt://localhost:7687\", user=\"neo4j\", password=\"12345678\")\n",
                "\n",
                "# Get protein IDs from database\n",
                "from pyeed.model import Protein\n",
                "\n",
                "accession_ids = [protein.accession_id for protein in Protein.nodes.all()][:10]\n",
                "\n",
                "# Align sequences from database\n",
                "alignment = clustalo.align_from_db(accession_ids, pyeed.db)\n",
                "print(\"Database alignment:\")\n",
                "print(alignment)"
            ]
        },
        {
            "cell_type": "markdown",
            "metadata": {},
            "source": [
                "## Understanding Alignment Results\n",
                "\n",
                "The alignment result is a `MultipleSequenceAlignment` object with:\n",
                "- List of `Sequence` objects\n",
                "- Each sequence has an ID and aligned sequence\n",
                "- Gaps are represented by '-' characters\n",
                "- Sequences are padded to equal length\n",
                "\n",
                "The alignment preserves sequence order and maintains sequence IDs from the input."
            ]
        },
        {
            "cell_type": "markdown",
            "metadata": {},
            "source": [
                "## Configuration\n",
                "\n",
                "ClustalOmega requires the PyEED Docker service to be running. Make sure to:\n",
                "1. Have Docker installed\n",
                "2. Start the service with `docker-compose up -d`\n",
                "3. The service runs on port 5001 by default"
            ]
        }
    ],
    "metadata": {
        "kernelspec": {
            "display_name": "Python 3",
            "language": "python",
            "name": "python3"
        },
        "language_info": {
            "codemirror_mode": {
                "name": "ipython",
                "version": 3
            },
            "file_extension": ".py",
            "mimetype": "text/x-python",
            "name": "python",
            "nbconvert_exporter": "python",
            "pygments_lexer": "ipython3",
            "version": "3.11.5"
        }
    },
    "nbformat": 4,
    "nbformat_minor": 2
}
