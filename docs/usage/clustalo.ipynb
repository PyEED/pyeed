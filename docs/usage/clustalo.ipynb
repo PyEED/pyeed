{
    "cells": [
        {
            "cell_type": "markdown",
            "metadata": {},
            "source": [
                "# Multiple Sequence Alignment with Clustal Omega\n",
                "\n",
                "PyEED provides a convenient interface to Clustal Omega for multiple sequence alignment. This notebook demonstrates how to:\n",
                "1. Align sequences from a dictionary\n",
                "2. Align sequences directly from the database"
            ]
        },
        {
            "cell_type": "code",
            "execution_count": 1,
            "metadata": {},
            "outputs": [],
            "source": [
                "from pyeed import Pyeed\n",
                "from pyeed.tools.clustalo import ClustalOmega"
            ]
        },
        {
            "cell_type": "markdown",
            "metadata": {},
            "source": [
                "## Direct Sequence Alignment\n",
                "\n",
                "You can align sequences directly by providing a dictionary of sequences:"
            ]
        },
        {
            "cell_type": "code",
            "execution_count": 2,
            "metadata": {},
            "outputs": [
                {
                    "name": "stderr",
                    "output_type": "stream",
                    "text": [
                        "\u001b[32m2025-01-22 14:39:46.108\u001b[0m | \u001b[31m\u001b[1mERROR   \u001b[0m | \u001b[36mpyeed.tools.clustalo\u001b[0m:\u001b[36m_run_clustalo_service\u001b[0m:\u001b[36m80\u001b[0m - \u001b[31m\u001b[1mConnection error: [Errno 8] nodename nor servname provided, or not known\u001b[0m\n"
                    ]
                },
                {
                    "name": "stdout",
                    "output_type": "stream",
                    "text": [
                        "Aligned sequences:\n",
                        "seq1  AKFVMPDRAWHLYTGNECSKQRLYVWFHDGAPILKTQSDNMGAYRCPLFHVTKNWEI\n",
                        "seq2  AKFVMPDRQWHLYTGQECSKQRLYVWFHDGAPILKTQSDNMGAYRCPLFHVTKNWEI\n",
                        "seq3  AKFVMPDRQWHLYTGNECSKQRLYVWFHDGAPILKTQADNMGAYRCALFHVTK----\n"
                    ]
                }
            ],
            "source": [
                "# Initialize ClustalOmega\n",
                "clustalo = ClustalOmega()\n",
                "\n",
                "# Example sequences\n",
                "sequences = {\n",
                "    \"seq1\": \"AKFVMPDRAWHLYTGNECSKQRLYVWFHDGAPILKTQSDNMGAYRCPLFHVTKNWEI\",\n",
                "    \"seq2\": \"AKFVMPDRQWHLYTGQECSKQRLYVWFHDGAPILKTQSDNMGAYRCPLFHVTKNWEI\",\n",
                "    \"seq3\": \"AKFVMPDRQWHLYTGNECSKQRLYVWFHDGAPILKTQADNMGAYRCALFHVTK\",\n",
                "}\n",
                "\n",
                "# Perform alignment\n",
                "alignment = clustalo.align(sequences)\n",
                "print(\"Aligned sequences:\")\n",
                "print(alignment)"
            ]
        },
        {
            "cell_type": "markdown",
            "metadata": {},
            "source": [
                "## Database-based Alignment\n",
                "\n",
                "You can also align sequences directly from the database by providing a list of accession IDs:"
            ]
        },
        {
            "cell_type": "code",
            "execution_count": 3,
            "metadata": {},
            "outputs": [
                {
                    "name": "stdout",
                    "output_type": "stream",
                    "text": [
                        "📡 Connected to database.\n",
                        "Database alignment:\n",
                        "A0A0H5C8F2  MSAAAETFLFTSESVGEGHPDKICDQVSDAILDACLAVDPLSKVACETASKTGMIMVFGEITT-KAQLDYQKIIRDTIKHIGYDSSDKGFDYKTCNVLVAIEQQSPDIAQGLHYEK----------ALEELGAGDQGIMFGYATDETDEKLPLTILLAHKLNAALADARR--SGALPWLRPDTKTQVTVEYKKDGGAVIPLRVDTIVISTQHAEEISTEDLRSEIIKHIVQKVIPEHLLDDKTIYHIQPSGRFVIGGPQGDAGLTGRKIIVDTYGGWGAHGGGAFSGKDFSKVDRSAAYAARWIAKSLVHAKLARRALVQLSYAIGVAEPLSIYVDTYGTSKYTSEQLVDIIKGNFDLRPGVVVKELDLARPIYFKTASYGHFTDQSN-----------------PWEQPKPLKF--------\n",
                        "A0A098MEC3  -MSIKGRHLFTSESVTEGHPDKICDQISDAVLDAFLANDPNARVACEVAVATGLVLVIGEISTKSEYVDIPAIVRNTIKEIGYTRAKFGFDYNTCAVLTSLNEQSADIAQGVNAALEGRDPAQVDEETANIGAGDQGLMFGFATNETPELMPLPIALSHRIARRLAEVRK--NGTLEYLRPDGKTQVTIEYL-DDK---PVRVDTIVVSTQHAEEISLEQIQADIKEHVILPVVPAELLDGETKYFINPTGRFVIGGPQGDAGLTGRKIIVDTYGGYARHGGGAFSGKDPTKVDRSAAYAARYVAKNLVAAGLADKCEIQLAYAIGVANPVSINVDTYGTGKVSEEKLVELISNNFDLRPAGIIAMLDLRKPIYKHTAAYGHFGRTDI---------------DLPWERLDKADLLKSQAEL-\n",
                        "A0A1E3P4X5  ---MSETFLFTSESVGEGHPDKICDQVSDAILDAALAIDPLSKVACETAAKTGLILVFGEITT-KAQLDYQKIIRDTIKHIGYDSSDKGFDYKTCNVLVAIEQQSPDIAQGLHYEK----------ALEELGAGDQGIMFGYATDETDEKLPLTILLSHKLNKALADARR--SGALPWLRPDTKTQVTIEYKKDNGAVIPQRVDTVVISTQHAEEISTEDLRAQIKEHIIKQVIPEHLLDDKTVYHIQPSGRFVIGGPQGDAGLTGRKIIVDTYGGWGAHGGGAFSGKDFSKVDRSAAYAARWVAKSLVHAKLARRALVQLSYAIGVAEPLSIYVDTYGTSKYSSDELVAIIGKNFDLRPGVVVKELDLARPIYAKTASYGHFTDQSN-----------------TWEQPKPLKF--------\n",
                        "A0A5D0CQ64  -MSIQGRHLFTSESVTEGHPDKICDQISDAVLDAFLENDPYARVACEVSVATGLVLVIGEISTKSEYVDIPAIVRKTVKEIGYTRAKYGFDSNTCAVLTSLNEQSADIAQGVNAALESRDPAQMDKETENIGAGDQGLMFGFATNETPELMPLPIALSHRIARRLSEVRK--DGTLDYLRPDGKTQVTIEYI-DGK---PKRVDTIVVSTQHAEEITLEQIQKDIKEKVILPVVPAELLDGETKYFINPTGRFVIGGPQGDAGLTGRKIIVDTYGGYARHGGGAFSGKDPTKVDRSAAYAARYVAKNLVAAGLADKVEIQLAYAIGVANPVSINVDTYGTGKIAEEKLVELVRENFDLRPAGIIRMLDLRRPIYRQTAAYGHFGRTDI---------------DLPWERVDKAEALKAQAGI-\n",
                        "C5MCZ9      MTTSRETFLFTSESVGEGHPDKICDQVSDAILDACLAVDPLSKVACETAAKTGMIMVFGEITT-KAQLDYQKIIRDTIKHIGYDDSEKGFDYKTCNVLVAIEQQSPDIAQGLHYEK----------ALEELGAGDQGIMFGYATDETDEKLPLTILLAHKLNAALASARR--SGSLPWLRPDTKTQVTVEYEKDGGAVVPKRVDTIVISTQHAEEISTENLRKEIIEHIIKQVIPEHLLDDKTIYHIQPSGRFVIGGPQGDAGLTGRKIIVDTYGGWGAHGGGAFSGKDFSKVDRSAAYAARWVAKSLVNAGLARRALVQFSYAIGVAEPLSVYVDTYGTSKYTSDQLVEIIKNNFDLRPGVIVKELDLARPIYFKTASYGHFTNQEN-----------------PWEQPKKLKF--------\n",
                        "A0A1A8T0F3  ---MSEYSLFTSESVSEGHPDKIADQVSDAILDAILEKDTEARVACETLVKTGMVLVAGEIRT-NAWVDIEEIARGVIREIGYNSSDMGFDWESCAVMNAIGKQSVDIAVGVDEAS-----------EKEQGAGDQGLMFGFATNETDVLMPAPITYAHRLVQRQADVRK--NGTLDFLRPDAKSQVTFRYDENGK---PCAIDAVVLSTQHSAAIKQADLREAVMEEIIKPVLPEEWLSKDTKYFINPTGQFIIGGPVGDCGLTGRKIIVDTYGGMARHGGGAFSGKDPSKVDRSAAYAGRYVAKNIVAAGLADKCEIQISYAIGVAEPTSISINTFGTGKVSDEMISQLVREHFELRPAGLIKMLDLKRPIYLPTAAYGHFGREGE---------------NFTWEKTDKADALRRSAGL-\n",
                        "A0A286D3Y0  ----MSNYLFTSESVSEGHPDKVADQISDAVLDAILTQDKRARVACETLVKTGVAIVAGEITT-SAWIDLEALTRKVIVDIGYDSSEVGFDGETCGVLNLIGKQSPDINQGVDRKK-----------PEEQGAGDQGLMFGYATNETADYMPAAIHLSHRLVEQQAKVRKKKNSPLPWLRPDAKSQVTLRYE-NGK---ASAIDAVVLSTQHDPGVKQKDLIEAVREEILKPVLPAKWLHKGTKFHINPTGKFVIGGPVGDCGLTGRKIIVDTYGGWARHGGGAFSGKDPSKVDRSAAYAARYVAKNVVAAGLADRCEVQVSYAIGVAEPTSISVTTFGTGKIDDHKIEKLIRKHFDLRPYGIIQMLDLIHPMYQSTAAYGHFGRKPKEFSYTDGAGKQHTATAFSWEKTDRADALRADAKLK\n",
                        "M3K377      MTTSKETFLFTSESVGEGHPDKICDQVSDAILDACLAVDPLSKVACETAAKTGMIMVFGEITT-KAQLDFQKIVRDTIKHIGYDDSEKGFDYKTCNVLVAIEQQSPDIAQGLHYEK----------ALEELGAGDQGIMFGYATDETDEKLPLTILLAHKLNAALASARR--SGSLPWLRPDTKTQVTVEYEKDGGAVIPKRVDTIVISTQHAEEISTEDLRKELIKHIIQQVIPEHLLDDKTIYHIQPSGRFVIGGPQGDAGLTGRKIIVDTYGGWGAHGGGAFSGKDFSKVDRSAAYAARWVAKSLVNAGLARRALVQFSYAIGVAEPLSIYVDTYGTSKYTSDQLVEIIKNNFDLRPGVIVKELDLARPIYLKTASYGHFTNQEN-----------------PWEQPKKIKF--------\n",
                        "A3LNJ6      MTTSRETFLFTSESVGEGHPDKICDQVSDAILDACLAVDPLSKVACETAAKTGMIMVFGEITT-KAQIDFQKVIRDTIKHIGYDDSEKGFDYKTCNVLVAIEHQSPDIAQGLHYEK----------ALEELGAGDQGIMFGYATDETDEKLPLTLLLAHKLNAALASARR--SGALPWLRPDTKTQVTIEYAKDGGAVIPLRVDTVVISAQHAEEISTEDLRSEIIKHIIQKVVPEHLLDDKTVYHIQPSGRFVIGGPQGDAGLTGRKIIVDTYGGWGAHGGGAFSGKDFSKVDRSAAYAARWVAKSLVNAGLARRALVQFSYAIGVAEPLSIYVDTYGTSKYSSEQLVEIIKANFDLRPGVIVKELDLARPIYFKTASYGHFTNQEN-----------------PWEQPKKLKF--------\n",
                        "A0A061BBP8  MSAASETFLFTSESVGEGHPDKICDQVSDAILDACLAVDPLSKVACETASKTGMIMVFGEITT-KAQLDYQKIIRDTIKHIGYDDSAKGFDYKTCNVLVAIEQQSPDIAQGLHYEK----------ALEDLGAGDQGIMFGYATDETDEKLPLTILLAHKLNAALADARR--SGALPWLRPDTKTQVTVEYKNDNGAVIPLRVDTIVISTQHAEEISTEDLRSEIIQHIVKKVIPSNLLDDKTVYHIQPSGRFVIGGPQGDAGLTGRKIIVDTYGGWGAHGGGAFSGKDFSKVDRSAAYAARWIAKSLVHAKLARRALVQLSYAIGVAEPLSIFVETYGTSKYSSDELVAIIRKNFDLRPGVVVKELDLARPIYFKTASYGHFTDQSN-----------------PWEQPKPLKF--------\n"
                    ]
                }
            ],
            "source": [
                "# Connect to database\n",
                "pyeed = Pyeed(uri=\"bolt://localhost:7687\", user=\"neo4j\", password=\"12345678\")\n",
                "\n",
                "# Get protein IDs from database\n",
                "from pyeed.model import Protein\n",
                "\n",
                "accession_ids = [protein.accession_id for protein in Protein.nodes.all()][:10]\n",
                "\n",
                "# Align sequences from database\n",
                "alignment = clustalo.align_from_db(accession_ids, pyeed.db)\n",
                "print(\"Database alignment:\")\n",
                "print(alignment)"
            ]
        },
        {
            "cell_type": "markdown",
            "metadata": {},
            "source": [
                "## Understanding Alignment Results\n",
                "\n",
                "The alignment result is a `MultipleSequenceAlignment` object with:\n",
                "- List of `Sequence` objects\n",
                "- Each sequence has an ID and aligned sequence\n",
                "- Gaps are represented by '-' characters\n",
                "- Sequences are padded to equal length\n",
                "\n",
                "The alignment preserves sequence order and maintains sequence IDs from the input."
            ]
        },
        {
            "cell_type": "markdown",
            "metadata": {},
            "source": [
                "## Configuration\n",
                "\n",
                "ClustalOmega requires the PyEED Docker service to be running. Make sure to:\n",
                "1. Have Docker installed\n",
                "2. Start the service with `docker-compose up -d`\n",
                "3. The service runs on port 5001 by default"
            ]
        }
    ],
    "metadata": {
        "kernelspec": {
            "display_name": "Python 3",
            "language": "python",
            "name": "python3"
        },
        "language_info": {
            "codemirror_mode": {
                "name": "ipython",
                "version": 3
            },
            "file_extension": ".py",
            "mimetype": "text/x-python",
            "name": "python",
            "nbconvert_exporter": "python",
            "pygments_lexer": "ipython3",
            "version": "3.11.5"
        }
    },
    "nbformat": 4,
    "nbformat_minor": 2
}
