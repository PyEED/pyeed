{
    "cells": [
        {
            "cell_type": "markdown",
            "metadata": {},
            "source": [
                "# BLAST Search\n",
                "\n",
                "## Setup\n",
                "\n",
                "The BLAST service runs in a Docker container and requires:\n",
                "1. A local BLAST database\n",
                "2. The Docker service running"
            ]
        },
        {
            "cell_type": "code",
            "execution_count": 1,
            "metadata": {},
            "outputs": [],
            "source": [
                "# change log level to INFO\n",
                "import sys\n",
                "from loguru import logger\n",
                "\n",
                "logger.remove()\n",
                "level = logger.add(sys.stderr, level=\"INFO\")"
            ]
        },
        {
            "cell_type": "markdown",
            "metadata": {},
            "source": [
                "## Basic Usage\n",
                "\n",
                "The `Blast` class provides an interface to search protein or nucleotide sequences against a local BLAST database."
            ]
        },
        {
            "cell_type": "code",
            "execution_count": 4,
            "metadata": {},
            "outputs": [
                {
                    "data": {
                        "application/vnd.jupyter.widget-view+json": {
                            "model_id": "e157b5414e8043fcad556d17488e0bb9",
                            "version_major": 2,
                            "version_minor": 0
                        },
                        "text/plain": [
                            "Output()"
                        ]
                    },
                    "metadata": {},
                    "output_type": "display_data"
                },
                {
                    "data": {
                        "text/html": [
                            "<pre style=\"white-space:pre;overflow-x:auto;line-height:normal;font-family:Menlo,'DejaVu Sans Mono',consolas,'Courier New',monospace\"></pre>\n"
                        ],
                        "text/plain": []
                    },
                    "metadata": {},
                    "output_type": "display_data"
                },
                {
                    "data": {
                        "text/html": [
                            "<div>\n",
                            "<style scoped>\n",
                            "    .dataframe tbody tr th:only-of-type {\n",
                            "        vertical-align: middle;\n",
                            "    }\n",
                            "\n",
                            "    .dataframe tbody tr th {\n",
                            "        vertical-align: top;\n",
                            "    }\n",
                            "\n",
                            "    .dataframe thead th {\n",
                            "        text-align: right;\n",
                            "    }\n",
                            "</style>\n",
                            "<table border=\"1\" class=\"dataframe\">\n",
                            "  <thead>\n",
                            "    <tr style=\"text-align: right;\">\n",
                            "      <th></th>\n",
                            "      <th>subject_id</th>\n",
                            "      <th>identity</th>\n",
                            "      <th>alignment_length</th>\n",
                            "      <th>mismatches</th>\n",
                            "      <th>gap_opens</th>\n",
                            "      <th>query_start</th>\n",
                            "      <th>query_end</th>\n",
                            "      <th>subject_start</th>\n",
                            "      <th>subject_end</th>\n",
                            "      <th>evalue</th>\n",
                            "      <th>bit_score</th>\n",
                            "    </tr>\n",
                            "  </thead>\n",
                            "  <tbody>\n",
                            "    <tr>\n",
                            "      <th>0</th>\n",
                            "      <td>seq7</td>\n",
                            "      <td>81.818</td>\n",
                            "      <td>22</td>\n",
                            "      <td>3</td>\n",
                            "      <td>1</td>\n",
                            "      <td>31</td>\n",
                            "      <td>51</td>\n",
                            "      <td>11</td>\n",
                            "      <td>32</td>\n",
                            "      <td>0.003</td>\n",
                            "      <td>22.3</td>\n",
                            "    </tr>\n",
                            "    <tr>\n",
                            "      <th>1</th>\n",
                            "      <td>seq1</td>\n",
                            "      <td>100.000</td>\n",
                            "      <td>25</td>\n",
                            "      <td>0</td>\n",
                            "      <td>0</td>\n",
                            "      <td>1</td>\n",
                            "      <td>25</td>\n",
                            "      <td>1</td>\n",
                            "      <td>25</td>\n",
                            "      <td>0.004</td>\n",
                            "      <td>22.3</td>\n",
                            "    </tr>\n",
                            "    <tr>\n",
                            "      <th>2</th>\n",
                            "      <td>seq2</td>\n",
                            "      <td>61.538</td>\n",
                            "      <td>26</td>\n",
                            "      <td>10</td>\n",
                            "      <td>0</td>\n",
                            "      <td>20</td>\n",
                            "      <td>45</td>\n",
                            "      <td>5</td>\n",
                            "      <td>30</td>\n",
                            "      <td>0.038</td>\n",
                            "      <td>19.2</td>\n",
                            "    </tr>\n",
                            "  </tbody>\n",
                            "</table>\n",
                            "</div>"
                        ],
                        "text/plain": [
                            "  subject_id  identity  alignment_length  mismatches  gap_opens  query_start  \\\n",
                            "0       seq7    81.818                22           3          1           31   \n",
                            "1       seq1   100.000                25           0          0            1   \n",
                            "2       seq2    61.538                26          10          0           20   \n",
                            "\n",
                            "   query_end  subject_start  subject_end  evalue  bit_score  \n",
                            "0         51             11           32   0.003       22.3  \n",
                            "1         25              1           25   0.004       22.3  \n",
                            "2         45              5           30   0.038       19.2  "
                        ]
                    },
                    "execution_count": 4,
                    "metadata": {},
                    "output_type": "execute_result"
                }
            ],
            "source": [
                "from pyeed.tools import Blast\n",
                "\n",
                "# Example protein sequence\n",
                "sequence = \"MSEQVAAVAKLRAKASEAAKEAKAREAAKKLAEAAKKAKAKEAAKRAEAKLAEKAKAAKRAEAKAAKEAKRAAAKRAEAKLAEKAKAAK\"\n",
                "\n",
                "# Initialize BLAST search\n",
                "blast = Blast(\n",
                "    mode=\"blastp\",  # Use blastp for protein sequences\n",
                "    db_path=\"/usr/local/bin/data/test_db/\",  # Path in Docker container\n",
                "    db_name=\"protein_db\",  # Name of your BLAST database\n",
                "    evalue=0.1,  # E-value threshold\n",
                "    max_target_seqs=10,  # Maximum number of hits to return\n",
                ")\n",
                "\n",
                "# Perform search\n",
                "results = blast.search(sequence)\n",
                "results"
            ]
        },
        {
            "cell_type": "markdown",
            "metadata": {},
            "source": [
                "The results are returned as a pandas DataFrame with the following columns:\n",
                "- subject_id: ID of the matched sequence\n",
                "- identity: Percentage identity\n",
                "- alignment_length: Length of the alignment\n",
                "- mismatches: Number of mismatches\n",
                "- gap_opens: Number of gap openings\n",
                "- query_start/end: Start/end positions in query sequence\n",
                "- subject_start/end: Start/end positions in subject sequence\n",
                "- evalue: Expectation value\n",
                "- bit_score: Bit score"
            ]
        },
        {
            "cell_type": "markdown",
            "metadata": {},
            "source": [
                "## Creating a BLAST Database\n",
                "\n",
                "Before using BLAST, you need to create a local database. Here's how to create one from a FASTA file:"
            ]
        },
        {
            "cell_type": "markdown",
            "metadata": {},
            "source": [
                "```bash\n",
                "# For protein sequences\n",
                "makeblastdb -in proteins.fasta -dbtype prot -out blast_db/my_proteins\n",
                "\n",
                "# For nucleotide sequences\n",
                "makeblastdb -in nucleotides.fasta -dbtype nucl -out blast_db/my_nucleotides\n",
                "```\n",
                "\n",
                "To access the BLAST Docker container shell and create databases:\n",
                "\n",
                "```bash\n",
                "# Enter the BLAST container shell\n",
                "docker compose exec blast bash\n",
                "# \n",
                "# Navigate to database directory\n",
                "cd /usr/local/bin/data/blast_db\n",
                "# \n",
                "# Create protein database\n",
                "makeblastdb -in proteins.fasta -dbtype prot -out my_proteins\n",
                "# \n",
                "# Create nucleotide database \n",
                "makeblastdb -in nucleotides.fasta -dbtype nucl -out my_nucleotides\n",
                "```\n",
                "Make sure your FASTA files are mounted in the container's `/usr/local/bin/data/blast_db` directory.\n"
            ]
        },
        {
            "cell_type": "markdown",
            "metadata": {},
            "source": [
                "## Advanced Usage\n",
                "\n",
                "You can customize the BLAST search parameters:"
            ]
        },
        {
            "cell_type": "code",
            "execution_count": 9,
            "metadata": {},
            "outputs": [
                {
                    "data": {
                        "application/vnd.jupyter.widget-view+json": {
                            "model_id": "966cf96373d3459e8f44bf41ee24fe34",
                            "version_major": 2,
                            "version_minor": 0
                        },
                        "text/plain": [
                            "Output()"
                        ]
                    },
                    "metadata": {},
                    "output_type": "display_data"
                },
                {
                    "data": {
                        "text/html": [
                            "<pre style=\"white-space:pre;overflow-x:auto;line-height:normal;font-family:Menlo,'DejaVu Sans Mono',consolas,'Courier New',monospace\"></pre>\n"
                        ],
                        "text/plain": []
                    },
                    "metadata": {},
                    "output_type": "display_data"
                },
                {
                    "data": {
                        "text/html": [
                            "<div>\n",
                            "<style scoped>\n",
                            "    .dataframe tbody tr th:only-of-type {\n",
                            "        vertical-align: middle;\n",
                            "    }\n",
                            "\n",
                            "    .dataframe tbody tr th {\n",
                            "        vertical-align: top;\n",
                            "    }\n",
                            "\n",
                            "    .dataframe thead th {\n",
                            "        text-align: right;\n",
                            "    }\n",
                            "</style>\n",
                            "<table border=\"1\" class=\"dataframe\">\n",
                            "  <thead>\n",
                            "    <tr style=\"text-align: right;\">\n",
                            "      <th></th>\n",
                            "      <th>subject_id</th>\n",
                            "      <th>identity</th>\n",
                            "      <th>alignment_length</th>\n",
                            "      <th>mismatches</th>\n",
                            "      <th>gap_opens</th>\n",
                            "      <th>query_start</th>\n",
                            "      <th>query_end</th>\n",
                            "      <th>subject_start</th>\n",
                            "      <th>subject_end</th>\n",
                            "      <th>evalue</th>\n",
                            "      <th>bit_score</th>\n",
                            "    </tr>\n",
                            "  </thead>\n",
                            "  <tbody>\n",
                            "    <tr>\n",
                            "      <th>0</th>\n",
                            "      <td>seq7</td>\n",
                            "      <td>81.818</td>\n",
                            "      <td>22</td>\n",
                            "      <td>3</td>\n",
                            "      <td>1</td>\n",
                            "      <td>31</td>\n",
                            "      <td>51</td>\n",
                            "      <td>11</td>\n",
                            "      <td>32</td>\n",
                            "      <td>0.003</td>\n",
                            "      <td>22.3</td>\n",
                            "    </tr>\n",
                            "    <tr>\n",
                            "      <th>1</th>\n",
                            "      <td>seq1</td>\n",
                            "      <td>100.000</td>\n",
                            "      <td>25</td>\n",
                            "      <td>0</td>\n",
                            "      <td>0</td>\n",
                            "      <td>1</td>\n",
                            "      <td>25</td>\n",
                            "      <td>1</td>\n",
                            "      <td>25</td>\n",
                            "      <td>0.004</td>\n",
                            "      <td>22.3</td>\n",
                            "    </tr>\n",
                            "  </tbody>\n",
                            "</table>\n",
                            "</div>"
                        ],
                        "text/plain": [
                            "  subject_id  identity  alignment_length  mismatches  gap_opens  query_start  \\\n",
                            "0       seq7    81.818                22           3          1           31   \n",
                            "1       seq1   100.000                25           0          0            1   \n",
                            "\n",
                            "   query_end  subject_start  subject_end  evalue  bit_score  \n",
                            "0         51             11           32   0.003       22.3  \n",
                            "1         25              1           25   0.004       22.3  "
                        ]
                    },
                    "execution_count": 9,
                    "metadata": {},
                    "output_type": "execute_result"
                }
            ],
            "source": [
                "# Configure BLAST for sensitive protein search\n",
                "blast = Blast(\n",
                "    mode=\"blastp\",\n",
                "    db_path=\"/usr/local/bin/data/test_db/\",\n",
                "    db_name=\"protein_db\",\n",
                "    evalue=1e-1,  # More stringent E-value\n",
                "    max_target_seqs=100,  # Return more hits\n",
                "    num_threads=4,  # Use 4 CPU threads\n",
                ")\n",
                "\n",
                "# Search with longer timeout\n",
                "results = blast.search(sequence, timeout=7200)  # 2 hour timeout\n",
                "\n",
                "# Filter results\n",
                "significant_hits = results[results[\"identity\"] > 80]  # Only hits with >90% identity\n",
                "significant_hits"
            ]
        },
        {
            "cell_type": "markdown",
            "metadata": {},
            "source": [
                "Thereafter, the ids of the hits can be added to the pyeed database, using the `fetch_from_primary_db` function."
            ]
        }
    ],
    "metadata": {
        "kernelspec": {
            "display_name": "pyeed",
            "language": "python",
            "name": "python3"
        },
        "language_info": {
            "codemirror_mode": {
                "name": "ipython",
                "version": 3
            },
            "file_extension": ".py",
            "mimetype": "text/x-python",
            "name": "python",
            "nbconvert_exporter": "python",
            "pygments_lexer": "ipython3",
            "version": "3.11.5"
        }
    },
    "nbformat": 4,
    "nbformat_minor": 2
}
