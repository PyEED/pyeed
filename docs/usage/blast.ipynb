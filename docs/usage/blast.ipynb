{
    "cells": [
        {
            "cell_type": "markdown",
            "metadata": {},
            "source": [
                "# BLAST Search\n",
                "\n",
                "## Setup\n",
                "\n",
                "The BLAST service runs in a Docker container and requires:\n",
                "1. A local BLAST database\n",
                "2. The Docker service running\n",
                "\n",
                "First, add the BLAST service to your `docker-compose.yml`:"
            ]
        },
        {
            "cell_type": "markdown",
            "metadata": {},
            "source": [
                "```yaml\n",
                "  blast:\n",
                "    build:\n",
                "      context: ./docker/blast\n",
                "      dockerfile: Dockerfile\n",
                "    ports:\n",
                "      - \"6001:6001\"\n",
                "    volumes:\n",
                "      - ./data/blast_db:/usr/local/bin/data/blast_db  # Mount local BLAST database\n",
                "```"
            ]
        },
        {
            "cell_type": "markdown",
            "metadata": {},
            "source": [
                "## Basic Usage\n",
                "\n",
                "The `Blast` class provides an interface to search protein or nucleotide sequences against a local BLAST database."
            ]
        },
        {
            "cell_type": "code",
            "execution_count": null,
            "metadata": {},
            "outputs": [],
            "source": [
                "from pyeed.tools import Blast\n",
                "\n",
                "# Example protein sequence\n",
                "sequence = \"MSEQVAAVAKLRAKASEAAKEAKAREAAKKLAEAAKKAKAKEAAKRAEAKLAEKAKAAKRAEAKAAKEAKRAAAKRAEAKLAEKAKAAK\"\n",
                "\n",
                "# Initialize BLAST search\n",
                "blast = Blast(\n",
                "    mode=\"blastp\",  # Use blastp for protein sequences\n",
                "    db_path=\"/usr/local/bin/data/blast_db/\",  # Path in Docker container\n",
                "    db_name=\"my_proteins\",  # Name of your BLAST database\n",
                "    evalue=0.1,  # E-value threshold\n",
                "    max_target_seqs=10,  # Maximum number of hits to return\n",
                ")\n",
                "\n",
                "# Perform search\n",
                "results = blast.search(sequence)\n",
                "print(results)"
            ]
        },
        {
            "cell_type": "markdown",
            "metadata": {},
            "source": [
                "The results are returned as a pandas DataFrame with the following columns:\n",
                "- subject_id: ID of the matched sequence\n",
                "- identity: Percentage identity\n",
                "- alignment_length: Length of the alignment\n",
                "- mismatches: Number of mismatches\n",
                "- gap_opens: Number of gap openings\n",
                "- query_start/end: Start/end positions in query sequence\n",
                "- subject_start/end: Start/end positions in subject sequence\n",
                "- evalue: Expectation value\n",
                "- bit_score: Bit score"
            ]
        },
        {
            "cell_type": "markdown",
            "metadata": {},
            "source": [
                "## Creating a BLAST Database\n",
                "\n",
                "Before using BLAST, you need to create a local database. Here's how to create one from a FASTA file:"
            ]
        },
        {
            "cell_type": "markdown",
            "metadata": {},
            "source": [
                "```bash\n",
                "# For protein sequences\n",
                "makeblastdb -in proteins.fasta -dbtype prot -out blast_db/my_proteins\n",
                "\n",
                "# For nucleotide sequences\n",
                "makeblastdb -in nucleotides.fasta -dbtype nucl -out blast_db/my_nucleotides\n",
                "```\n",
                "\n",
                "To access the BLAST Docker container shell and create databases:\n",
                "\n",
                "```bash\n",
                "# Enter the BLAST container shell\n",
                "docker compose exec blast bash\n",
                "# \n",
                "# Navigate to database directory\n",
                "cd /usr/local/bin/data/blast_db\n",
                "# \n",
                "# Create protein database\n",
                "makeblastdb -in proteins.fasta -dbtype prot -out my_proteins\n",
                "# \n",
                "# Create nucleotide database \n",
                "makeblastdb -in nucleotides.fasta -dbtype nucl -out my_nucleotides\n",
                "```\n",
                "Make sure your FASTA files are mounted in the container's `/usr/local/bin/data/blast_db` directory.\n"
            ]
        },
        {
            "cell_type": "markdown",
            "metadata": {},
            "source": [
                "## Advanced Usage\n",
                "\n",
                "You can customize the BLAST search parameters:"
            ]
        },
        {
            "cell_type": "code",
            "execution_count": null,
            "metadata": {},
            "outputs": [],
            "source": [
                "# Configure BLAST for sensitive protein search\n",
                "blast = Blast(\n",
                "    mode=\"blastp\",\n",
                "    db_path=\"/usr/local/bin/data/blast_db/\",\n",
                "    db_name=\"my_proteins\",\n",
                "    evalue=1e-5,  # More stringent E-value\n",
                "    max_target_seqs=100,  # Return more hits\n",
                "    num_threads=4,  # Use 4 CPU threads\n",
                ")\n",
                "\n",
                "# Search with longer timeout\n",
                "results = blast.search(sequence, timeout=7200)  # 2 hour timeout\n",
                "\n",
                "# Filter results\n",
                "significant_hits = results[results[\"identity\"] > 90]  # Only hits with >90% identity\n",
                "print(significant_hits)"
            ]
        },
        {
            "cell_type": "markdown",
            "metadata": {},
            "source": [
                "Thereafter, the ids of the hits can be added to the pyeed database, using the `fetch_from_primary_db` function."
            ]
        },
        {
            "cell_type": "code",
            "execution_count": null,
            "metadata": {},
            "outputs": [],
            "source": [
                "# fetch_from_primary_db(ids, db_name=\"my_proteins\")"
            ]
        }
    ],
    "metadata": {
        "kernelspec": {
            "display_name": "pyeed",
            "language": "python",
            "name": "python3"
        },
        "language_info": {
            "codemirror_mode": {
                "name": "ipython",
                "version": 3
            },
            "file_extension": ".py",
            "mimetype": "text/x-python",
            "name": "python",
            "nbconvert_exporter": "python",
            "pygments_lexer": "ipython3",
            "version": "3.11.5"
        }
    },
    "nbformat": 4,
    "nbformat_minor": 2
}
