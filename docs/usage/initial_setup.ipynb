{
 "cells": [
  {
   "cell_type": "markdown",
   "metadata": {},
   "source": [
    "# Initial Setup\n",
    "\n",
    "After the a local or hosted Neo4j database is setup, the next step is to connect to the database via `pyeed`. \n",
    "\n",
    "## Connect and Disconnect database\n",
    "\n",
    "Connection to the database is established via the `Pyeed` class, orchestrating all operations on the database."
   ]
  },
  {
   "cell_type": "code",
   "execution_count": 2,
   "metadata": {},
   "outputs": [
    {
     "name": "stdout",
     "output_type": "stream",
     "text": [
      "📡 Connected to database.\n",
      "🔌 Connection closed.\n"
     ]
    }
   ],
   "source": [
    "from pyeed import Pyeed\n",
    "\n",
    "uri = \"bolt://127.0.0.1:7687\"\n",
    "user = \"neo4j\"\n",
    "password = \"12345678\"\n",
    "\n",
    "# Create a Pyeed object, automatically connecting to the database\n",
    "eedb = Pyeed(uri, user, password)\n",
    "\n",
    "# Disconnect from the database\n",
    "eedb.db.close()"
   ]
  },
  {
   "cell_type": "markdown",
   "metadata": {},
   "source": [
    "## Set and remove database constraints\n",
    "\n",
    "Graph databases are \"schema optional\". However, constraints can be set to enforce data integrity. \n",
    "To set the constraints of the pyeed graph model use the `initialize_db_constraints` method. By default constraints are set based on the pyeed graph model. If a custom `neomodel` model is used, the path to the corresponding file, outlining the graph model must be provided.  \n",
    "\n",
    "Defining the constraints ensures that some properties are unique and that some properties are mandatory. Furthermore, vector indices are created for the properties that are used for searching.\n",
    "\n",
    "The constraint only need to be set once."
   ]
  },
  {
   "cell_type": "code",
   "execution_count": null,
   "metadata": {},
   "outputs": [],
   "source": [
    "# Initialize the database constraints\n",
    "eedb.db.initialize_db_constraints()\n",
    "\n",
    "# Remove all database constraints\n",
    "eedb.db.remove_db_constraints()"
   ]
  }
 ],
 "metadata": {
  "kernelspec": {
   "display_name": "pyeed",
   "language": "python",
   "name": "python3"
  },
  "language_info": {
   "codemirror_mode": {
    "name": "ipython",
    "version": 3
   },
   "file_extension": ".py",
   "mimetype": "text/x-python",
   "name": "python",
   "nbconvert_exporter": "python",
   "pygments_lexer": "ipython3",
   "version": "3.11.5"
  }
 },
 "nbformat": 4,
 "nbformat_minor": 2
}
