{
    "cells": [
        {
            "cell_type": "markdown",
            "metadata": {},
            "source": [
                "# Clustering with MMSeqs2\n",
                "\n",
                "For clustering, please make sure that the pyeed Docker container with MMSeqs2 is running.\n",
                "\n",
                "PyEED provides a convenient interface to MMSeqs2 for sequence clustering. This notebook demonstrates how to use the MMSeqs class for:\n",
                "1. Clustering sequences from a dictionary\n",
                "2. Clustering sequences directly from the database"
            ]
        },
        {
            "cell_type": "code",
            "execution_count": 1,
            "metadata": {},
            "outputs": [],
            "source": [
                "from pyeed import Pyeed\n",
                "from pyeed.tools.mmseqs import MMSeqs"
            ]
        },
        {
            "cell_type": "markdown",
            "metadata": {},
            "source": [
                "## Direct Sequence Clustering\n",
                "\n",
                "You can cluster sequences directly by providing a dictionary of sequences:"
            ]
        },
        {
            "cell_type": "code",
            "execution_count": 3,
            "metadata": {},
            "outputs": [
                {
                    "data": {
                        "application/vnd.jupyter.widget-view+json": {
                            "model_id": "129ed5c516fd4e46a9f0498a7bc88b3a",
                            "version_major": 2,
                            "version_minor": 0
                        },
                        "text/plain": [
                            "Output()"
                        ]
                    },
                    "metadata": {},
                    "output_type": "display_data"
                },
                {
                    "data": {
                        "text/html": [
                            "<pre style=\"white-space:pre;overflow-x:auto;line-height:normal;font-family:Menlo,'DejaVu Sans Mono',consolas,'Courier New',monospace\"></pre>\n"
                        ],
                        "text/plain": []
                    },
                    "metadata": {},
                    "output_type": "display_data"
                },
                {
                    "name": "stdout",
                    "output_type": "stream",
                    "text": [
                        "Clustering results:\n",
                        "\n",
                        "Cluster representative: seq1\n",
                        "Cluster members: ['seq1']\n",
                        "\n",
                        "Cluster representative: seq2\n",
                        "Cluster members: ['seq2']\n",
                        "\n",
                        "Cluster representative: seq3\n",
                        "Cluster members: ['seq3']\n",
                        "\n",
                        "Cluster representative: seq5\n",
                        "Cluster members: ['seq5', 'seq4']\n"
                    ]
                }
            ],
            "source": [
                "# Example sequences (seq 4 and seq 5 are highly similar)\n",
                "sequence_dict = {\n",
                "    \"seq1\": \"MGAWQPLIRKSTFNVADCEYLMKQHTGYPWVRESDTAHKLQNVGICFPYQAMTNYLG\",\n",
                "    \"seq2\": \"QVLATPRWDKEFYHMSNCGRILQAVPTKDYFSHGRWMNEKAPTYLQSDVCHAFGKLT\",\n",
                "    \"seq3\": \"DLNQWPKYARHTMGSLVEFACRQNIYTDHKPLWYGVSMEAFDQTCKPRYNLHGIVKT\",\n",
                "    \"seq4\": \"AKFVMPDRQWHLYTGNECSKQRLYVWFYDGAPILKTQSDNMGAYRCPLFHVTKNWEI\",\n",
                "    \"seq5\": \"AKFVMPDRQWHLYTGNECSKQRLYVWFHDGAPILKTQSDNMGAYRCPLFHVTKNWEI\",\n",
                "}\n",
                "\n",
                "# Initialize MMSeqs with custom parameters\n",
                "mmseqs = MMSeqs(\n",
                "    min_seq_id=0.8,  # 80% sequence identity threshold\n",
                "    coverage=0.8,  # 80% coverage required\n",
                "    cov_mode=0,  # Bidirectional coverage mode\n",
                ")\n",
                "\n",
                "# Perform clustering\n",
                "clusters = mmseqs.cluster_sequence_dict(sequence_dict)\n",
                "print(\"Clustering results:\")\n",
                "for cluster in clusters:\n",
                "    print(f\"\\nCluster representative: {cluster.representative_id}\")\n",
                "    print(f\"Cluster members: {cluster.represented_ids}\")"
            ]
        },
        {
            "cell_type": "markdown",
            "metadata": {},
            "source": [
                "## Clustering from Database\n",
                "\n",
                "You can also cluster sequences directly from the PyEED database:"
            ]
        },
        {
            "cell_type": "code",
            "execution_count": 7,
            "metadata": {},
            "outputs": [
                {
                    "name": "stdout",
                    "output_type": "stream",
                    "text": [
                        "📡 Connected to database.\n",
                        "Found 34 clusters\n"
                    ]
                }
            ],
            "source": [
                "# Connect to database\n",
                "pyeed = Pyeed(uri=\"bolt://localhost:7687\", user=\"neo4j\", password=\"12345678\")\n",
                "\n",
                "# Get first 100 protein IDs from database\n",
                "from pyeed.model import Protein\n",
                "\n",
                "accession_ids = [protein.accession_id for protein in Protein.nodes.all()][:100]\n",
                "\n",
                "# Cluster sequences\n",
                "clusters = mmseqs.cluster_from_db(accession_ids, pyeed.db)\n",
                "print(f\"Found {len(clusters)} clusters\")"
            ]
        },
        {
            "cell_type": "markdown",
            "metadata": {},
            "source": [
                "## Customizing MMSeqs Parameters\n",
                "\n",
                "MMSeqs offers several parameters to control clustering behavior:"
            ]
        },
        {
            "cell_type": "code",
            "execution_count": 8,
            "metadata": {},
            "outputs": [],
            "source": [
                "mmseqs = MMSeqs(\n",
                "    # Sequence identity and coverage\n",
                "    min_seq_id=0.5,  # 50% sequence identity threshold\n",
                "    coverage=0.8,  # 80% coverage required\n",
                "    # Coverage mode\n",
                "    cov_mode=0,  # 0: bidirectional, 1: query, 2: target\n",
                "    # Performance settings\n",
                "    threads=4,  # Number of CPU threads\n",
                "    sensitivity=7.5,  # 1.0 (fast) to 9.0 (sensitive)\n",
                "    # Clustering behavior\n",
                "    cluster_mode=0,  # 0: set-cover, 1: connected-component, 2: greedy\n",
                "    seq_id_mode=0,  # 0: alignment length, 1: shorter sequence\n",
                "    rescore_mode=0,  # Whether to rescore overlapping alignments\n",
                ")\n",
                "\n",
                "# The parameters affect both clustering methods\n",
                "clusters = mmseqs.cluster_sequence_dict(sequence_dict)\n",
                "# or\n",
                "clusters = mmseqs.cluster_from_db(accession_ids, pyeed.db)"
            ]
        },
        {
            "cell_type": "markdown",
            "metadata": {},
            "source": [
                "## Understanding Cluster Results\n",
                "\n",
                "Each cluster is represented by a `Cluster` object with two attributes:\n",
                "- `representative_id`: The sequence chosen as the cluster representative\n",
                "- `represented_ids`: List of all sequences in the cluster (including the representative)\n",
                "\n",
                "Sequences with high similarity (based on `min_seq_id` and `coverage`) will be grouped together."
            ]
        }
    ],
    "metadata": {
        "kernelspec": {
            "display_name": "Python 3",
            "language": "python",
            "name": "python3"
        },
        "language_info": {
            "codemirror_mode": {
                "name": "ipython",
                "version": 3
            },
            "file_extension": ".py",
            "mimetype": "text/x-python",
            "name": "python",
            "nbconvert_exporter": "python",
            "pygments_lexer": "ipython3",
            "version": "3.11.5"
        }
    },
    "nbformat": 4,
    "nbformat_minor": 2
}
