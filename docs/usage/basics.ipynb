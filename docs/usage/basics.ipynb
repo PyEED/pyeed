{
 "cells": [
  {
   "cell_type": "markdown",
   "metadata": {},
   "source": [
    "# Basis\n",
    "\n",
    "## Query Primary databases\n",
    "\n",
    "`pyeed` has a set of build in query methods which allow retrieving data from the primary databases such as UniProt and NCBI. Using the `fetch_from_primary_db` or `fetch_nucleotide_from_db` methods, either protein or nucleotide sequences can be retrieved from the primary databases. Besides the sequence, also Gene Ontology, Organism, region, and site annotations are retrieved and added to the database as defined in the `pyeed` graph model."
   ]
  },
  {
   "cell_type": "code",
   "execution_count": null,
   "metadata": {},
   "outputs": [],
   "source": [
    "from pyeed import Pyeed\n",
    "\n",
    "uri = \"bolt://127.0.0.1:7687\"\n",
    "user = \"neo4j\"\n",
    "password = \"12345678\"\n",
    "\n",
    "# Create a Pyeed object, automatically connecting to the database\n",
    "eedb = Pyeed(uri, user, password)\n",
    "\n",
    "\n",
    "# UniProt IDs of proteins to be fetched from primary database\n",
    "ids = [\n",
    "    \"P04182\",\n",
    "    \"Q6QDP7\",\n",
    "    \"P04182\",\n",
    "    \"P29758\",\n",
    "    \"A0A1G4JJF2\",\n",
    "    \"G8ZTZ5\",\n",
    "    \"A0A1G4MBD6\",\n",
    "    \"A0A7H9HSJ3\",\n",
    "    \"J7SA96\",\n",
    "    \"G0VK69\",\n",
    "]\n",
    "\n",
    "# Fetch proteins from primary database\n",
    "eedb.fetch_from_primary_db(ids)\n",
    "\n",
    "# number of nodes and edges in db\n",
    "print(eedb.db.stats())"
   ]
  },
  {
   "cell_type": "markdown",
   "metadata": {},
   "source": [
    "## Sequence embeddings\n",
    "\n",
    "The sequence embeddings are generated using Meta's `ESM2` (esm2_t33_650M_UR50D) model. By default, embeddings are calculated in batches of 16 sequences and subsequently added to the database after the calculation."
   ]
  },
  {
   "cell_type": "code",
   "execution_count": null,
   "metadata": {},
   "outputs": [],
   "source": [
    "# Calculate embeddings for all sequences in the database\n",
    "eedb.calculate_sequence_embeddings()"
   ]
  },
  {
   "cell_type": "markdown",
   "metadata": {},
   "source": [
    "## Visualize what's in the DB\n",
    "\n",
    "To use the web interface, open a browser and go to [`http://localhost:7474/`](http://localhost:7474/)."
   ]
  },
  {
   "cell_type": "markdown",
   "metadata": {},
   "source": [
    "## Query DB"
   ]
  },
  {
   "cell_type": "code",
   "execution_count": 4,
   "metadata": {},
   "outputs": [
    {
     "name": "stdout",
     "output_type": "stream",
     "text": [
      "Number of proteins in database:  44\n",
      "id: P04182 | mol weight: 48333.0 | ec: 2.6.1.13 | seq length: 439\n",
      "Number of proteins associated with GO:0005739:  11\n",
      "Number of organisms with at least two proteins:  9\n"
     ]
    }
   ],
   "source": [
    "from pyeed.model import Protein\n",
    "\n",
    "## Query using pyeed graph objects\n",
    "# Get all proteins\n",
    "proteins = Protein.nodes.all()\n",
    "print(\"Number of proteins in database: \", len(proteins))\n",
    "\n",
    "# Get protein with id P04182\n",
    "protein = Protein.nodes.get(accession_id=\"P04182\")\n",
    "print(\n",
    "    f\"id: {protein.accession_id} | mol weight: {protein.mol_weight} | ec: {protein.ec_number} | seq length: {protein.seq_length}\"\n",
    ")\n",
    "\n",
    "## Or execute cypher query\n",
    "# Get all organisms that have at least one connected proteins\n",
    "query = \"\"\"\n",
    "MATCH (o:Organism)<-[:ORIGINATES_FROM]-(p:Protein)\n",
    "WITH o, COUNT(p) AS proteinCount\n",
    "WHERE proteinCount >= 1\n",
    "RETURN o\n",
    "\"\"\"\n",
    "\n",
    "organisms = eedb.db.execute_read(query)\n",
    "print(\"Number of organisms with at least one protein: \", len(organisms))\n",
    "\n",
    "# Get 5 most similar proteins to protein with accession_id P04182 based on sequence embedding\n",
    "query = \"\"\"\n",
    "MATCH (p:Protein {accession_id: 'P04182'})\n",
    "CALL db.index.vector.queryNodes('vector_index_Protein_embedding', 5, p.embedding)\n",
    "YIELD node AS similarProtein, score\n",
    "RETURN similarProtein.accession_id AS accession_id, \n",
    "       similarProtein.name AS protein_name, \n",
    "       score\n",
    "ORDER BY score DESC\n",
    "\"\"\"\n",
    "\n",
    "similar_proteins = eedb.db.execute_read(query)\n",
    "similar_proteins"
   ]
  },
  {
   "cell_type": "markdown",
   "metadata": {},
   "source": [
    "## Manually add a Protein to the DB\n",
    "\n",
    "Besides automatically fetching data from the primary databases, it is also possible to manually add a protein to the database. This can be done by creating a `Protein` object and adding it to the database.\n",
    "\n",
    "For more examples on query and adding data to the database, refere to the [`neomodel` documentation](https://neomodel.readthedocs.io/en/latest/getting_started.html#create-update-delete-operations)."
   ]
  },
  {
   "cell_type": "code",
   "execution_count": null,
   "metadata": {},
   "outputs": [],
   "source": [
    "my_protein = Protein(\n",
    "    accession_id=\"12345!\",\n",
    "    name=\"my_protein\",\n",
    "    seq=\"MYAYAYAYA\",\n",
    "    seq_length=9,\n",
    "    mol_weight=2,\n",
    ")\n",
    "\n",
    "my_protein.save()"
   ]
  },
  {
   "cell_type": "code",
   "execution_count": 8,
   "metadata": {},
   "outputs": [
    {
     "name": "stdout",
     "output_type": "stream",
     "text": [
      "🔌 Connection closed.\n"
     ]
    }
   ],
   "source": [
    "# Close the connection to the database\n",
    "eedb.db.close()"
   ]
  }
 ],
 "metadata": {
  "kernelspec": {
   "display_name": "pyeed_niklas",
   "language": "python",
   "name": "python3"
  },
  "language_info": {
   "codemirror_mode": {
    "name": "ipython",
    "version": 3
   },
   "file_extension": ".py",
   "mimetype": "text/x-python",
   "name": "python",
   "nbconvert_exporter": "python",
   "pygments_lexer": "ipython3",
   "version": "3.12.8"
  }
 },
 "nbformat": 4,
 "nbformat_minor": 2
}
