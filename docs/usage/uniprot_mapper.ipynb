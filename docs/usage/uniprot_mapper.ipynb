{
 "cells": [
  {
   "cell_type": "markdown",
   "id": "c9d32079",
   "metadata": {},
   "source": [
    "## Add Catalytic Activity to DB for UniPort Entries \n",
    "\n",
    "The uniprot fetcher was extended to add the catalytic activity to the database. This includes different reactions with the belonging substrates and products represented by the rhea ids. There are also the chebi ids and the smiles codes included. "
   ]
  },
  {
   "cell_type": "code",
   "execution_count": 9,
   "id": "5d34a786",
   "metadata": {},
   "outputs": [],
   "source": [
    "%reload_ext autoreload\n",
    "%autoreload 2\n",
    "import sys\n",
    "\n",
    "from loguru import logger\n",
    "import json\n",
    "\n",
    "from pyeed import Pyeed\n",
    "from pyeed.analysis.standard_numbering import StandardNumberingTool\n",
    "\n",
    "logger.remove()\n",
    "level = logger.add(sys.stderr, level=\"WARNING\")"
   ]
  },
  {
   "cell_type": "code",
   "execution_count": 2,
   "id": "036be254",
   "metadata": {},
   "outputs": [
    {
     "name": "stdout",
     "output_type": "stream",
     "text": [
      "📡 Connected to database.\n"
     ]
    }
   ],
   "source": [
    "uri = \"bolt://129.69.129.130:7687\"\n",
    "user = \"neo4j\"\n",
    "password = \"12345678\"\n",
    "\n",
    "eedb = Pyeed(uri, user=user, password=password)"
   ]
  },
  {
   "cell_type": "code",
   "execution_count": 3,
   "id": "5831bc26",
   "metadata": {},
   "outputs": [],
   "source": [
    "uniprot_ids = [\"A0A0K8P6T7\",\n",
    "        \"R4YKL9\", \n",
    "        \"A0A1Z2SIQ1\", \n",
    "        \"A0A0G3BI90\",\n",
    "        \"A0A1B0Z6Y3\",\n",
    "        \"A4Y035\",\n",
    "        \"P19833\",\n",
    "        \"A0A061D1S0\",\n",
    "        \"W6R2Y2\",\n",
    "        \"A0A1W6L588\",\n",
    "        \"G9BY57\",]\n",
    "\n",
    "eedb.fetch_from_primary_db(uniprot_ids, db=\"uniprot\")"
   ]
  },
  {
   "cell_type": "markdown",
   "id": "4fb1f554",
   "metadata": {},
   "source": [
    "## NCBI to UniProt Mapper \n",
    "\n",
    "This function maps ncbi ids to uniprot and uniparc ids. Two json files containing dictionaries with the ncbi and uniprot or uniparc id are returned. "
   ]
  },
  {
   "cell_type": "code",
   "execution_count": null,
   "id": "854eb25e",
   "metadata": {},
   "outputs": [
    {
     "name": "stdout",
     "output_type": "stream",
     "text": [
      "✅ Downloaded: GAP38373.1.fasta\n",
      "✅ Downloaded: CCK74972.1.fasta\n",
      "✅ Downloaded: ASA57064.1.fasta\n",
      "✅ Downloaded: AKJ29164.1.fasta\n",
      "✅ Downloaded: ANP21910.1.fasta\n",
      "✅ Downloaded: ABP86951.1.fasta\n",
      "✅ Downloaded: CAA37220.1.fasta\n",
      "✅ Downloaded: MDH1341286.1.fasta\n",
      "✅ Downloaded: CDM40731.1.fasta\n",
      "✅ Downloaded: ARN19491.1.fasta\n",
      "✅ Downloaded: AEV21261.1.fasta\n"
     ]
    }
   ],
   "source": [
    "# same ids as above but with different db- useful for later testing\n",
    "ncbi_ids = [\"GAP38373.1\",\n",
    "            \"CCK74972.1\",\n",
    "            \"ASA57064.1\",\n",
    "            \"AKJ29164.1\",\n",
    "            \"ANP21910.1\",\n",
    "            \"ABP86951.1\",\n",
    "            \"CAA37220.1\", \n",
    "            \"MDH1341286.1\", \n",
    "            \"CDM40731.1\", \n",
    "            \"ARN19491.1\", \n",
    "            \"AEV21261.1\"] \n",
    "\n",
    "eedb.database_id_mapper(ncbi_ids, file_name=\"mapping_test\")"
   ]
  },
  {
   "cell_type": "code",
   "execution_count": null,
   "id": "282c2fd3",
   "metadata": {},
   "outputs": [
    {
     "name": "stdout",
     "output_type": "stream",
     "text": [
      "['A0A1Z2SIQ1', 'W6R2Y2', 'A0A061D1S0', 'A0A0G3BI90', 'A0A1W6L588', 'R4YKL9', 'A0A1B0Z6Y3', 'G9BY57', 'P19833', 'A4Y035', 'A0A0K8P6T7']\n"
     ]
    }
   ],
   "source": [
    "# test if the ids are the same\n",
    "with open(\"mapping_test_uniprot.json\", \"r\") as f:\n",
    "    mapping = json.load(f)\n",
    "\n",
    "values = [v for sub in mapping.values() for v in (sub if isinstance(sub, list) else [sub])]\n",
    "values = list(set(values))\n",
    "\n",
    "for v in values:\n",
    "    if v not in uniprot_ids:\n",
    "        print(v)\n",
    "        \n",
    "print(values)"
   ]
  },
  {
   "cell_type": "code",
   "execution_count": 38,
   "id": "ce6def61",
   "metadata": {},
   "outputs": [
    {
     "name": "stdout",
     "output_type": "stream",
     "text": [
      "['UPI0006A8DE61', 'UPI0003429338', 'UPI000480AD3A', 'UPI00064004B7', 'UPI0003A9F0B5', 'UPI0000E79739', 'UPI000012E6AB', 'UPI000273702F', 'UPI000273702F', 'UPI000A201A5A', 'UPI000243C995']\n"
     ]
    }
   ],
   "source": [
    "with open(\"mapping_test_uniparc.json\", \"r\") as f:\n",
    "    mapping = json.load(f)\n",
    "\n",
    "values = list(mapping.values())\n",
    "print(values)"
   ]
  }
 ],
 "metadata": {
  "kernelspec": {
   "display_name": "pyeed_env",
   "language": "python",
   "name": "python3"
  },
  "language_info": {
   "codemirror_mode": {
    "name": "ipython",
    "version": 3
   },
   "file_extension": ".py",
   "mimetype": "text/x-python",
   "name": "python",
   "nbconvert_exporter": "python",
   "pygments_lexer": "ipython3",
   "version": "3.12.7"
  }
 },
 "nbformat": 4,
 "nbformat_minor": 5
}
