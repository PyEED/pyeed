{
 "cells": [
  {
   "cell_type": "markdown",
   "metadata": {},
   "source": [
    "# Protein Embedding Analysis Pipeline\n",
    "\n",
    "This notebook demonstrates how to fetch protein data, calculate embeddings, and visualize protein relationships using t-SNE."
   ]
  },
  {
   "cell_type": "markdown",
   "metadata": {},
   "source": [
    "This notebook demonstrates an end-to-end pipeline for protein embedding analysis. Here, we connect to a Neo4j database to fetch protein sequences from the NCBI protein database, compute high-dimensional embeddings using a pre-trained model, and then project these embeddings into two dimensions using t-SNE. The final visualization provides insights into the relationships among proteins based on their sequence properties."
   ]
  },
  {
   "cell_type": "code",
   "execution_count": 1,
   "metadata": {},
   "outputs": [
    {
     "name": "stderr",
     "output_type": "stream",
     "text": [
      "/home/nab/anaconda3/envs/pyeed_niklas/lib/python3.10/site-packages/tqdm/auto.py:21: TqdmWarning: IProgress not found. Please update jupyter and ipywidgets. See https://ipywidgets.readthedocs.io/en/stable/user_install.html\n",
      "  from .autonotebook import tqdm as notebook_tqdm\n"
     ]
    }
   ],
   "source": [
    "import sys\n",
    "\n",
    "from loguru import logger\n",
    "import pandas as pd\n",
    "import matplotlib.pyplot as plt\n",
    "from pyeed import Pyeed\n",
    "from pyeed.analysis.embedding_analysis import EmbeddingTool\n",
    "\n",
    "logger.remove()\n",
    "level = logger.add(sys.stderr, level=\"INFO\")"
   ]
  },
  {
   "cell_type": "markdown",
   "metadata": {},
   "source": [
    "### Database Connection and Setup\n",
    "Now we'll connect to our Neo4j database and prepare it for new data by:\n",
    "1. Establishing a connection\n",
    "2. Wiping any existing data\n",
    "3. Removing old constraints"
   ]
  },
  {
   "cell_type": "code",
   "execution_count": 2,
   "metadata": {},
   "outputs": [
    {
     "name": "stdout",
     "output_type": "stream",
     "text": [
      "📡 Connected to database.\n"
     ]
    }
   ],
   "source": [
    "uri = \"bolt://129.69.129.130:7687\"\n",
    "user = \"neo4j\"\n",
    "password = \"12345678\"\n",
    "\n",
    "eedb = Pyeed(uri, user=user, password=password)"
   ]
  },
  {
   "cell_type": "code",
   "execution_count": 3,
   "metadata": {},
   "outputs": [],
   "source": [
    "et = EmbeddingTool()"
   ]
  },
  {
   "cell_type": "markdown",
   "metadata": {},
   "source": [
    "### Fetching Protein Data\n",
    "We'll now fetch protein sequences from the NCBI protein database using a list of protein IDs."
   ]
  },
  {
   "cell_type": "code",
   "execution_count": 4,
   "metadata": {},
   "outputs": [
    {
     "name": "stdout",
     "output_type": "stream",
     "text": [
      "The data has the following columns:\n",
      "Index(['protein_name', 'phenotype', 'protein_id', 'protein_id_database'], dtype='object')\n"
     ]
    }
   ],
   "source": [
    "# these are example ids\n",
    "df = pd.read_csv(\"resources/data_example.csv\", delimiter=\";\")\n",
    "print(\"The data has the following columns:\")\n",
    "print(df.columns)\n",
    "\n",
    "# create a dict with protein_id_database as key and phenotype as value\n",
    "dict_data = dict(zip(df[\"protein_id_database\"], df[\"phenotype\"]))"
   ]
  },
  {
   "cell_type": "code",
   "execution_count": 5,
   "metadata": {},
   "outputs": [
    {
     "name": "stderr",
     "output_type": "stream",
     "text": [
      "\u001b[32m2025-03-21 10:35:45.248\u001b[0m | \u001b[1mINFO    \u001b[0m | \u001b[36mpyeed.main\u001b[0m:\u001b[36mfetch_from_primary_db\u001b[0m:\u001b[36m87\u001b[0m - \u001b[1mFound 2 sequences in the database.\u001b[0m\n",
      "\u001b[32m2025-03-21 10:35:45.248\u001b[0m | \u001b[1mINFO    \u001b[0m | \u001b[36mpyeed.main\u001b[0m:\u001b[36mfetch_from_primary_db\u001b[0m:\u001b[36m89\u001b[0m - \u001b[1mFetching 68 sequences from ncbi_protein.\u001b[0m\n",
      "\u001b[32m2025-03-21 10:35:45.263\u001b[0m | \u001b[1mINFO    \u001b[0m | \u001b[36mpyeed.adapter.primary_db_adapter\u001b[0m:\u001b[36mexecute_requests\u001b[0m:\u001b[36m140\u001b[0m - \u001b[1mStarting requests for 7 batches.\u001b[0m\n",
      "\u001b[32m2025-03-21 10:35:46.789\u001b[0m | \u001b[1mINFO    \u001b[0m | \u001b[36mpyeed.adapter.ncbi_protein_mapper\u001b[0m:\u001b[36madd_to_db\u001b[0m:\u001b[36m301\u001b[0m - \u001b[1mAdded/updated NCBI protein KJO56189.1 in database\u001b[0m\n",
      "\u001b[32m2025-03-21 10:35:46.832\u001b[0m | \u001b[1mINFO    \u001b[0m | \u001b[36mpyeed.adapter.ncbi_protein_mapper\u001b[0m:\u001b[36madd_to_db\u001b[0m:\u001b[36m301\u001b[0m - \u001b[1mAdded/updated NCBI protein KLP91446.1 in database\u001b[0m\n",
      "\u001b[32m2025-03-21 10:35:46.878\u001b[0m | \u001b[1mINFO    \u001b[0m | \u001b[36mpyeed.adapter.ncbi_protein_mapper\u001b[0m:\u001b[36madd_to_db\u001b[0m:\u001b[36m301\u001b[0m - \u001b[1mAdded/updated NCBI protein CAA46346.1 in database\u001b[0m\n",
      "\u001b[32m2025-03-21 10:35:46.903\u001b[0m | \u001b[1mINFO    \u001b[0m | \u001b[36mpyeed.adapter.ncbi_protein_mapper\u001b[0m:\u001b[36madd_to_db\u001b[0m:\u001b[36m301\u001b[0m - \u001b[1mAdded/updated NCBI protein CAA74912.2 in database\u001b[0m\n",
      "\u001b[32m2025-03-21 10:35:46.928\u001b[0m | \u001b[1mINFO    \u001b[0m | \u001b[36mpyeed.adapter.ncbi_protein_mapper\u001b[0m:\u001b[36madd_to_db\u001b[0m:\u001b[36m301\u001b[0m - \u001b[1mAdded/updated NCBI protein AFN21551.1 in database\u001b[0m\n",
      "\u001b[32m2025-03-21 10:35:46.980\u001b[0m | \u001b[1mINFO    \u001b[0m | \u001b[36mpyeed.adapter.ncbi_protein_mapper\u001b[0m:\u001b[36madd_to_db\u001b[0m:\u001b[36m301\u001b[0m - \u001b[1mAdded/updated NCBI protein ACB22021.1 in database\u001b[0m\n",
      "\u001b[32m2025-03-21 10:35:47.006\u001b[0m | \u001b[1mINFO    \u001b[0m | \u001b[36mpyeed.adapter.ncbi_protein_mapper\u001b[0m:\u001b[36madd_to_db\u001b[0m:\u001b[36m301\u001b[0m - \u001b[1mAdded/updated NCBI protein CAA76794.1 in database\u001b[0m\n",
      "\u001b[32m2025-03-21 10:35:47.031\u001b[0m | \u001b[1mINFO    \u001b[0m | \u001b[36mpyeed.adapter.ncbi_protein_mapper\u001b[0m:\u001b[36madd_to_db\u001b[0m:\u001b[36m301\u001b[0m - \u001b[1mAdded/updated NCBI protein CAA76795.1 in database\u001b[0m\n",
      "\u001b[32m2025-03-21 10:35:47.113\u001b[0m | \u001b[1mINFO    \u001b[0m | \u001b[36mpyeed.adapter.ncbi_protein_mapper\u001b[0m:\u001b[36madd_to_db\u001b[0m:\u001b[36m301\u001b[0m - \u001b[1mAdded/updated NCBI protein CCG28759.1 in database\u001b[0m\n",
      "\u001b[32m2025-03-21 10:35:47.138\u001b[0m | \u001b[1mINFO    \u001b[0m | \u001b[36mpyeed.adapter.ncbi_protein_mapper\u001b[0m:\u001b[36madd_to_db\u001b[0m:\u001b[36m301\u001b[0m - \u001b[1mAdded/updated NCBI protein KLG19745.1 in database\u001b[0m\n",
      "\u001b[32m2025-03-21 10:35:47.174\u001b[0m | \u001b[1mINFO    \u001b[0m | \u001b[36mpyeed.adapter.ncbi_protein_mapper\u001b[0m:\u001b[36madd_to_db\u001b[0m:\u001b[36m301\u001b[0m - \u001b[1mAdded/updated NCBI protein AAP20891.1 in database\u001b[0m\n",
      "\u001b[32m2025-03-21 10:35:47.199\u001b[0m | \u001b[1mINFO    \u001b[0m | \u001b[36mpyeed.adapter.ncbi_protein_mapper\u001b[0m:\u001b[36madd_to_db\u001b[0m:\u001b[36m301\u001b[0m - \u001b[1mAdded/updated NCBI protein CAJ85677.1 in database\u001b[0m\n",
      "\u001b[32m2025-03-21 10:35:47.224\u001b[0m | \u001b[1mINFO    \u001b[0m | \u001b[36mpyeed.adapter.ncbi_protein_mapper\u001b[0m:\u001b[36madd_to_db\u001b[0m:\u001b[36m301\u001b[0m - \u001b[1mAdded/updated NCBI protein SAQ02853.1 in database\u001b[0m\n",
      "\u001b[32m2025-03-21 10:35:47.249\u001b[0m | \u001b[1mINFO    \u001b[0m | \u001b[36mpyeed.adapter.ncbi_protein_mapper\u001b[0m:\u001b[36madd_to_db\u001b[0m:\u001b[36m301\u001b[0m - \u001b[1mAdded/updated NCBI protein CDR98216.1 in database\u001b[0m\n",
      "\u001b[32m2025-03-21 10:35:47.300\u001b[0m | \u001b[1mINFO    \u001b[0m | \u001b[36mpyeed.adapter.ncbi_protein_mapper\u001b[0m:\u001b[36madd_to_db\u001b[0m:\u001b[36m301\u001b[0m - \u001b[1mAdded/updated NCBI protein WP_109963600.1 in database\u001b[0m\n",
      "\u001b[32m2025-03-21 10:35:47.325\u001b[0m | \u001b[1mINFO    \u001b[0m | \u001b[36mpyeed.adapter.ncbi_protein_mapper\u001b[0m:\u001b[36madd_to_db\u001b[0m:\u001b[36m301\u001b[0m - \u001b[1mAdded/updated NCBI protein CAA41038.1 in database\u001b[0m\n",
      "\u001b[32m2025-03-21 10:35:47.346\u001b[0m | \u001b[1mINFO    \u001b[0m | \u001b[36mpyeed.adapter.ncbi_protein_mapper\u001b[0m:\u001b[36madd_to_db\u001b[0m:\u001b[36m301\u001b[0m - \u001b[1mAdded/updated NCBI protein WP_109874025.1 in database\u001b[0m\n",
      "\u001b[32m2025-03-21 10:35:47.370\u001b[0m | \u001b[1mINFO    \u001b[0m | \u001b[36mpyeed.adapter.ncbi_protein_mapper\u001b[0m:\u001b[36madd_to_db\u001b[0m:\u001b[36m301\u001b[0m - \u001b[1mAdded/updated NCBI protein CAA46344.1 in database\u001b[0m\n",
      "\u001b[32m2025-03-21 10:35:47.396\u001b[0m | \u001b[1mINFO    \u001b[0m | \u001b[36mpyeed.adapter.ncbi_protein_mapper\u001b[0m:\u001b[36madd_to_db\u001b[0m:\u001b[36m301\u001b[0m - \u001b[1mAdded/updated NCBI protein APG33178.1 in database\u001b[0m\n",
      "\u001b[32m2025-03-21 10:35:47.470\u001b[0m | \u001b[1mINFO    \u001b[0m | \u001b[36mpyeed.adapter.ncbi_protein_mapper\u001b[0m:\u001b[36madd_to_db\u001b[0m:\u001b[36m301\u001b[0m - \u001b[1mAdded/updated NCBI protein AKC98298.1 in database\u001b[0m\n",
      "\u001b[32m2025-03-21 10:35:47.501\u001b[0m | \u001b[1mINFO    \u001b[0m | \u001b[36mpyeed.adapter.ncbi_protein_mapper\u001b[0m:\u001b[36madd_to_db\u001b[0m:\u001b[36m301\u001b[0m - \u001b[1mAdded/updated NCBI protein AAC32891.1 in database\u001b[0m\n",
      "\u001b[32m2025-03-21 10:35:47.525\u001b[0m | \u001b[1mINFO    \u001b[0m | \u001b[36mpyeed.adapter.ncbi_protein_mapper\u001b[0m:\u001b[36madd_to_db\u001b[0m:\u001b[36m301\u001b[0m - \u001b[1mAdded/updated NCBI protein CAA76796.1 in database\u001b[0m\n",
      "\u001b[32m2025-03-21 10:35:47.549\u001b[0m | \u001b[1mINFO    \u001b[0m | \u001b[36mpyeed.adapter.ncbi_protein_mapper\u001b[0m:\u001b[36madd_to_db\u001b[0m:\u001b[36m301\u001b[0m - \u001b[1mAdded/updated NCBI protein CAD24670.1 in database\u001b[0m\n",
      "\u001b[32m2025-03-21 10:35:47.573\u001b[0m | \u001b[1mINFO    \u001b[0m | \u001b[36mpyeed.adapter.ncbi_protein_mapper\u001b[0m:\u001b[36madd_to_db\u001b[0m:\u001b[36m301\u001b[0m - \u001b[1mAdded/updated NCBI protein ARF45649.1 in database\u001b[0m\n",
      "\u001b[32m2025-03-21 10:35:47.598\u001b[0m | \u001b[1mINFO    \u001b[0m | \u001b[36mpyeed.adapter.ncbi_protein_mapper\u001b[0m:\u001b[36madd_to_db\u001b[0m:\u001b[36m301\u001b[0m - \u001b[1mAdded/updated NCBI protein CTA52364.1 in database\u001b[0m\n",
      "\u001b[32m2025-03-21 10:35:47.623\u001b[0m | \u001b[1mINFO    \u001b[0m | \u001b[36mpyeed.adapter.ncbi_protein_mapper\u001b[0m:\u001b[36madd_to_db\u001b[0m:\u001b[36m301\u001b[0m - \u001b[1mAdded/updated NCBI protein ADL13944.1 in database\u001b[0m\n",
      "\u001b[32m2025-03-21 10:35:47.649\u001b[0m | \u001b[1mINFO    \u001b[0m | \u001b[36mpyeed.adapter.ncbi_protein_mapper\u001b[0m:\u001b[36madd_to_db\u001b[0m:\u001b[36m301\u001b[0m - \u001b[1mAdded/updated NCBI protein AGQ50511.1 in database\u001b[0m\n",
      "\u001b[32m2025-03-21 10:35:47.675\u001b[0m | \u001b[1mINFO    \u001b[0m | \u001b[36mpyeed.adapter.ncbi_protein_mapper\u001b[0m:\u001b[36madd_to_db\u001b[0m:\u001b[36m301\u001b[0m - \u001b[1mAdded/updated NCBI protein AKA60778.1 in database\u001b[0m\n",
      "\u001b[32m2025-03-21 10:35:47.699\u001b[0m | \u001b[1mINFO    \u001b[0m | \u001b[36mpyeed.adapter.ncbi_protein_mapper\u001b[0m:\u001b[36madd_to_db\u001b[0m:\u001b[36m301\u001b[0m - \u001b[1mAdded/updated NCBI protein APT65830.1 in database\u001b[0m\n",
      "\u001b[32m2025-03-21 10:35:47.766\u001b[0m | \u001b[1mINFO    \u001b[0m | \u001b[36mpyeed.adapter.ncbi_protein_mapper\u001b[0m:\u001b[36madd_to_db\u001b[0m:\u001b[36m301\u001b[0m - \u001b[1mAdded/updated NCBI protein HAH6232254.1 in database\u001b[0m\n",
      "\u001b[32m2025-03-21 10:35:48.031\u001b[0m | \u001b[1mINFO    \u001b[0m | \u001b[36mpyeed.adapter.ncbi_protein_mapper\u001b[0m:\u001b[36madd_to_db\u001b[0m:\u001b[36m301\u001b[0m - \u001b[1mAdded/updated NCBI protein QDO66746.1 in database\u001b[0m\n",
      "\u001b[32m2025-03-21 10:35:48.056\u001b[0m | \u001b[1mINFO    \u001b[0m | \u001b[36mpyeed.adapter.ncbi_protein_mapper\u001b[0m:\u001b[36madd_to_db\u001b[0m:\u001b[36m301\u001b[0m - \u001b[1mAdded/updated NCBI protein CBX53726.1 in database\u001b[0m\n",
      "\u001b[32m2025-03-21 10:35:48.094\u001b[0m | \u001b[1mINFO    \u001b[0m | \u001b[36mpyeed.adapter.ncbi_protein_mapper\u001b[0m:\u001b[36madd_to_db\u001b[0m:\u001b[36m301\u001b[0m - \u001b[1mAdded/updated NCBI protein AAC32889.2 in database\u001b[0m\n",
      "\u001b[32m2025-03-21 10:35:48.120\u001b[0m | \u001b[1mINFO    \u001b[0m | \u001b[36mpyeed.adapter.ncbi_protein_mapper\u001b[0m:\u001b[36madd_to_db\u001b[0m:\u001b[36m301\u001b[0m - \u001b[1mAdded/updated NCBI protein CAA64682.1 in database\u001b[0m\n",
      "\u001b[32m2025-03-21 10:35:48.146\u001b[0m | \u001b[1mINFO    \u001b[0m | \u001b[36mpyeed.adapter.ncbi_protein_mapper\u001b[0m:\u001b[36madd_to_db\u001b[0m:\u001b[36m301\u001b[0m - \u001b[1mAdded/updated NCBI protein CAA71322.1 in database\u001b[0m\n",
      "\u001b[32m2025-03-21 10:35:48.173\u001b[0m | \u001b[1mINFO    \u001b[0m | \u001b[36mpyeed.adapter.ncbi_protein_mapper\u001b[0m:\u001b[36madd_to_db\u001b[0m:\u001b[36m301\u001b[0m - \u001b[1mAdded/updated NCBI protein CAA71323.1 in database\u001b[0m\n",
      "\u001b[32m2025-03-21 10:35:48.198\u001b[0m | \u001b[1mINFO    \u001b[0m | \u001b[36mpyeed.adapter.ncbi_protein_mapper\u001b[0m:\u001b[36madd_to_db\u001b[0m:\u001b[36m301\u001b[0m - \u001b[1mAdded/updated NCBI protein CAA71324.1 in database\u001b[0m\n",
      "\u001b[32m2025-03-21 10:35:48.224\u001b[0m | \u001b[1mINFO    \u001b[0m | \u001b[36mpyeed.adapter.ncbi_protein_mapper\u001b[0m:\u001b[36madd_to_db\u001b[0m:\u001b[36m301\u001b[0m - \u001b[1mAdded/updated NCBI protein AEC32455.1 in database\u001b[0m\n",
      "\u001b[32m2025-03-21 10:35:48.250\u001b[0m | \u001b[1mINFO    \u001b[0m | \u001b[36mpyeed.adapter.ncbi_protein_mapper\u001b[0m:\u001b[36madd_to_db\u001b[0m:\u001b[36m301\u001b[0m - \u001b[1mAdded/updated NCBI protein AAD22538.1 in database\u001b[0m\n",
      "\u001b[32m2025-03-21 10:35:48.275\u001b[0m | \u001b[1mINFO    \u001b[0m | \u001b[36mpyeed.adapter.ncbi_protein_mapper\u001b[0m:\u001b[36madd_to_db\u001b[0m:\u001b[36m301\u001b[0m - \u001b[1mAdded/updated NCBI protein AAD22539.1 in database\u001b[0m\n",
      "\u001b[32m2025-03-21 10:35:48.340\u001b[0m | \u001b[1mINFO    \u001b[0m | \u001b[36mpyeed.adapter.ncbi_protein_mapper\u001b[0m:\u001b[36madd_to_db\u001b[0m:\u001b[36m301\u001b[0m - \u001b[1mAdded/updated NCBI protein ABB97007.1 in database\u001b[0m\n",
      "\u001b[32m2025-03-21 10:35:48.365\u001b[0m | \u001b[1mINFO    \u001b[0m | \u001b[36mpyeed.adapter.ncbi_protein_mapper\u001b[0m:\u001b[36madd_to_db\u001b[0m:\u001b[36m301\u001b[0m - \u001b[1mAdded/updated NCBI protein ACJ43254.1 in database\u001b[0m\n",
      "\u001b[32m2025-03-21 10:35:48.390\u001b[0m | \u001b[1mINFO    \u001b[0m | \u001b[36mpyeed.adapter.ncbi_protein_mapper\u001b[0m:\u001b[36madd_to_db\u001b[0m:\u001b[36m301\u001b[0m - \u001b[1mAdded/updated NCBI protein AAC05975.1 in database\u001b[0m\n",
      "\u001b[32m2025-03-21 10:35:48.415\u001b[0m | \u001b[1mINFO    \u001b[0m | \u001b[36mpyeed.adapter.ncbi_protein_mapper\u001b[0m:\u001b[36madd_to_db\u001b[0m:\u001b[36m301\u001b[0m - \u001b[1mAdded/updated NCBI protein BCD58813.1 in database\u001b[0m\n",
      "\u001b[32m2025-03-21 10:35:48.440\u001b[0m | \u001b[1mINFO    \u001b[0m | \u001b[36mpyeed.adapter.ncbi_protein_mapper\u001b[0m:\u001b[36madd_to_db\u001b[0m:\u001b[36m301\u001b[0m - \u001b[1mAdded/updated NCBI protein AAK17194.1 in database\u001b[0m\n",
      "\u001b[32m2025-03-21 10:35:48.464\u001b[0m | \u001b[1mINFO    \u001b[0m | \u001b[36mpyeed.adapter.ncbi_protein_mapper\u001b[0m:\u001b[36madd_to_db\u001b[0m:\u001b[36m301\u001b[0m - \u001b[1mAdded/updated NCBI protein AAD33116.2 in database\u001b[0m\n",
      "\u001b[32m2025-03-21 10:35:48.488\u001b[0m | \u001b[1mINFO    \u001b[0m | \u001b[36mpyeed.adapter.ncbi_protein_mapper\u001b[0m:\u001b[36madd_to_db\u001b[0m:\u001b[36m301\u001b[0m - \u001b[1mAdded/updated NCBI protein CAB92324.1 in database\u001b[0m\n",
      "\u001b[32m2025-03-21 10:35:48.514\u001b[0m | \u001b[1mINFO    \u001b[0m | \u001b[36mpyeed.adapter.ncbi_protein_mapper\u001b[0m:\u001b[36madd_to_db\u001b[0m:\u001b[36m301\u001b[0m - \u001b[1mAdded/updated NCBI protein AAL03985.1 in database\u001b[0m\n",
      "\u001b[32m2025-03-21 10:35:48.540\u001b[0m | \u001b[1mINFO    \u001b[0m | \u001b[36mpyeed.adapter.ncbi_protein_mapper\u001b[0m:\u001b[36madd_to_db\u001b[0m:\u001b[36m301\u001b[0m - \u001b[1mAdded/updated NCBI protein AAF19151.1 in database\u001b[0m\n",
      "\u001b[32m2025-03-21 10:35:48.569\u001b[0m | \u001b[1mINFO    \u001b[0m | \u001b[36mpyeed.adapter.ncbi_protein_mapper\u001b[0m:\u001b[36madd_to_db\u001b[0m:\u001b[36m301\u001b[0m - \u001b[1mAdded/updated NCBI protein AAF05613.1 in database\u001b[0m\n",
      "\u001b[32m2025-03-21 10:35:48.782\u001b[0m | \u001b[1mINFO    \u001b[0m | \u001b[36mpyeed.adapter.ncbi_protein_mapper\u001b[0m:\u001b[36madd_to_db\u001b[0m:\u001b[36m301\u001b[0m - \u001b[1mAdded/updated NCBI protein AAF05614.1 in database\u001b[0m\n",
      "\u001b[32m2025-03-21 10:35:48.809\u001b[0m | \u001b[1mINFO    \u001b[0m | \u001b[36mpyeed.adapter.ncbi_protein_mapper\u001b[0m:\u001b[36madd_to_db\u001b[0m:\u001b[36m301\u001b[0m - \u001b[1mAdded/updated NCBI protein AAF05612.1 in database\u001b[0m\n",
      "\u001b[32m2025-03-21 10:35:48.836\u001b[0m | \u001b[1mINFO    \u001b[0m | \u001b[36mpyeed.adapter.ncbi_protein_mapper\u001b[0m:\u001b[36madd_to_db\u001b[0m:\u001b[36m301\u001b[0m - \u001b[1mAdded/updated NCBI protein AAF05611.1 in database\u001b[0m\n",
      "\u001b[32m2025-03-21 10:35:48.861\u001b[0m | \u001b[1mINFO    \u001b[0m | \u001b[36mpyeed.adapter.ncbi_protein_mapper\u001b[0m:\u001b[36madd_to_db\u001b[0m:\u001b[36m301\u001b[0m - \u001b[1mAdded/updated NCBI protein AAM15527.1 in database\u001b[0m\n",
      "\u001b[32m2025-03-21 10:35:48.887\u001b[0m | \u001b[1mINFO    \u001b[0m | \u001b[36mpyeed.adapter.ncbi_protein_mapper\u001b[0m:\u001b[36madd_to_db\u001b[0m:\u001b[36m301\u001b[0m - \u001b[1mAdded/updated NCBI protein AAL29433.1 in database\u001b[0m\n",
      "\u001b[32m2025-03-21 10:35:48.913\u001b[0m | \u001b[1mINFO    \u001b[0m | \u001b[36mpyeed.adapter.ncbi_protein_mapper\u001b[0m:\u001b[36madd_to_db\u001b[0m:\u001b[36m301\u001b[0m - \u001b[1mAdded/updated NCBI protein AAL29434.1 in database\u001b[0m\n",
      "\u001b[32m2025-03-21 10:35:48.939\u001b[0m | \u001b[1mINFO    \u001b[0m | \u001b[36mpyeed.adapter.ncbi_protein_mapper\u001b[0m:\u001b[36madd_to_db\u001b[0m:\u001b[36m301\u001b[0m - \u001b[1mAdded/updated NCBI protein AAL29435.1 in database\u001b[0m\n",
      "\u001b[32m2025-03-21 10:35:48.965\u001b[0m | \u001b[1mINFO    \u001b[0m | \u001b[36mpyeed.adapter.ncbi_protein_mapper\u001b[0m:\u001b[36madd_to_db\u001b[0m:\u001b[36m301\u001b[0m - \u001b[1mAdded/updated NCBI protein AAL29436.1 in database\u001b[0m\n",
      "\u001b[32m2025-03-21 10:35:48.992\u001b[0m | \u001b[1mINFO    \u001b[0m | \u001b[36mpyeed.adapter.ncbi_protein_mapper\u001b[0m:\u001b[36madd_to_db\u001b[0m:\u001b[36m301\u001b[0m - \u001b[1mAdded/updated NCBI protein CAC43229.1 in database\u001b[0m\n",
      "\u001b[32m2025-03-21 10:35:49.018\u001b[0m | \u001b[1mINFO    \u001b[0m | \u001b[36mpyeed.adapter.ncbi_protein_mapper\u001b[0m:\u001b[36madd_to_db\u001b[0m:\u001b[36m301\u001b[0m - \u001b[1mAdded/updated NCBI protein CAC43230.1 in database\u001b[0m\n",
      "\u001b[32m2025-03-21 10:35:49.585\u001b[0m | \u001b[1mINFO    \u001b[0m | \u001b[36mpyeed.adapter.ncbi_protein_mapper\u001b[0m:\u001b[36madd_to_db\u001b[0m:\u001b[36m301\u001b[0m - \u001b[1mAdded/updated NCBI protein AAG44570.1 in database\u001b[0m\n",
      "\u001b[32m2025-03-21 10:35:49.613\u001b[0m | \u001b[1mINFO    \u001b[0m | \u001b[36mpyeed.adapter.ncbi_protein_mapper\u001b[0m:\u001b[36madd_to_db\u001b[0m:\u001b[36m301\u001b[0m - \u001b[1mAdded/updated NCBI protein AAK14792.1 in database\u001b[0m\n",
      "\u001b[32m2025-03-21 10:35:49.639\u001b[0m | \u001b[1mINFO    \u001b[0m | \u001b[36mpyeed.adapter.ncbi_protein_mapper\u001b[0m:\u001b[36madd_to_db\u001b[0m:\u001b[36m301\u001b[0m - \u001b[1mAdded/updated NCBI protein AAK30619.1 in database\u001b[0m\n",
      "\u001b[32m2025-03-21 10:35:49.667\u001b[0m | \u001b[1mINFO    \u001b[0m | \u001b[36mpyeed.adapter.ncbi_protein_mapper\u001b[0m:\u001b[36madd_to_db\u001b[0m:\u001b[36m301\u001b[0m - \u001b[1mAdded/updated NCBI protein BAB16308.1 in database\u001b[0m\n",
      "\u001b[32m2025-03-21 10:35:49.694\u001b[0m | \u001b[1mINFO    \u001b[0m | \u001b[36mpyeed.adapter.ncbi_protein_mapper\u001b[0m:\u001b[36madd_to_db\u001b[0m:\u001b[36m301\u001b[0m - \u001b[1mAdded/updated NCBI protein AAF66653.1 in database\u001b[0m\n",
      "\u001b[32m2025-03-21 10:35:49.721\u001b[0m | \u001b[1mINFO    \u001b[0m | \u001b[36mpyeed.adapter.ncbi_protein_mapper\u001b[0m:\u001b[36madd_to_db\u001b[0m:\u001b[36m301\u001b[0m - \u001b[1mAdded/updated NCBI protein CAC85660.1 in database\u001b[0m\n",
      "\u001b[32m2025-03-21 10:35:49.748\u001b[0m | \u001b[1mINFO    \u001b[0m | \u001b[36mpyeed.adapter.ncbi_protein_mapper\u001b[0m:\u001b[36madd_to_db\u001b[0m:\u001b[36m301\u001b[0m - \u001b[1mAdded/updated NCBI protein CAC85661.1 in database\u001b[0m\n",
      "\u001b[32m2025-03-21 10:35:49.776\u001b[0m | \u001b[1mINFO    \u001b[0m | \u001b[36mpyeed.adapter.ncbi_protein_mapper\u001b[0m:\u001b[36madd_to_db\u001b[0m:\u001b[36m301\u001b[0m - \u001b[1mAdded/updated NCBI protein CAC67290.1 in database\u001b[0m\n"
     ]
    }
   ],
   "source": [
    "# now fecth all of the proteins from the database\n",
    "eedb.fetch_from_primary_db(df[\"protein_id_database\"].tolist(), db=\"ncbi_protein\")"
   ]
  },
  {
   "cell_type": "markdown",
   "metadata": {},
   "source": [
    "### Calculate Sequence Embeddings\n",
    "Now we'll convert our protein sequences into numerical representations (embeddings) using a pre-trained model."
   ]
  },
  {
   "cell_type": "code",
   "execution_count": 6,
   "metadata": {},
   "outputs": [
    {
     "name": "stderr",
     "output_type": "stream",
     "text": [
      "Fetching 4 files: 100%|██████████| 4/4 [00:00<00:00, 284.23it/s]\n"
     ]
    }
   ],
   "source": [
    "eedb.calculate_sequence_embeddings(model_name=\"esmc_300m\")"
   ]
  },
  {
   "cell_type": "markdown",
   "metadata": {},
   "source": [
    "### Visualization with t-SNE\n",
    "Finally, we'll project our high-dimensional embeddings into 2D space using t-SNE and create a visualization.\n",
    "The resulting plot will show how proteins relate to each other in terms of their sequence properties."
   ]
  },
  {
   "cell_type": "code",
   "execution_count": 7,
   "metadata": {},
   "outputs": [
    {
     "name": "stdout",
     "output_type": "stream",
     "text": [
      "68\n"
     ]
    },
    {
     "data": {
      "image/png": "[encoded data removed]",
      "text/plain": [
       "<Figure size 640x480 with 1 Axes>"
      ]
     },
     "metadata": {},
     "output_type": "display_data"
    }
   ],
   "source": [
    "# get all of the data from embedding\n",
    "embedding_tool = EmbeddingTool()\n",
    "protein_ids, embeddings_2d, labels, colors = (\n",
    "    embedding_tool.calculate_2d_projection_tsne(\n",
    "        db=eedb.db,\n",
    "        ids_list=df[\"protein_id_database\"].tolist(),\n",
    "        perplexity=1,\n",
    "        n_iter=3000,\n",
    "        ids_list_labels=dict_data,\n",
    "    )\n",
    ")\n",
    "print(len(protein_ids))\n",
    "\n",
    "labels_already_plotted = []\n",
    "\n",
    "# create a scatter plot for each unique label\n",
    "for i in range(len(protein_ids)):\n",
    "    if labels[i] not in labels_already_plotted:\n",
    "        plt.scatter(\n",
    "            embeddings_2d[i, 0],\n",
    "            embeddings_2d[i, 1],\n",
    "            alpha=0.7,\n",
    "            s=50,\n",
    "            edgecolor=\"k\",\n",
    "            color=colors[i],\n",
    "            label=labels[i],\n",
    "        )\n",
    "        labels_already_plotted.append(labels[i])\n",
    "    else:\n",
    "        plt.scatter(\n",
    "            embeddings_2d[i, 0],\n",
    "            embeddings_2d[i, 1],\n",
    "            alpha=0.7,\n",
    "            s=50,\n",
    "            edgecolor=\"k\",\n",
    "            color=colors[i],\n",
    "        )\n",
    "plt.title(\"2D t-SNE Visualization of Protein Embeddings\")\n",
    "plt.xlabel(\"t-SNE Dimension 1\")\n",
    "plt.ylabel(\"t-SNE Dimension 2\")\n",
    "plt.legend()\n",
    "plt.tight_layout()\n",
    "plt.show()"
   ]
  },
  {
   "cell_type": "markdown",
   "metadata": {},
   "source": [
    "### Protein Embedding Search Methods\n",
    "\n",
    "There are two main approaches implemented for searching similar proteins using embeddings:\n",
    "\n",
    "#### 1. Simple Search Method\n",
    "\n",
    "The simple method (`find_closest_matches_simple`) loads all embeddings into memory to calculate distances. While straightforward, it's best suited for smaller datasets:\n"
   ]
  },
  {
   "cell_type": "code",
   "execution_count": 8,
   "metadata": {},
   "outputs": [
    {
     "name": "stdout",
     "output_type": "stream",
     "text": [
      "Resulst for index AAP20891.1 are:\n",
      "[('AAP20891.1', 0.0), ('P62593', 0.0), ('AGQ50511.1', 0.00016200621801287785), ('ABB97007.1', 0.0001810048295400879), ('AFN21551.1', 0.00018909362988450695), ('CAC67290.1', 0.00021654775310264718), ('ADL13944.1', 0.0002567003210336427), ('AAK30619.1', 0.0002616398020808264), ('AAL29433.1', 0.0002646931927183793), ('ACJ43254.1', 0.0002669990760338914)]\n"
     ]
    }
   ],
   "source": [
    "# this is the simple way to find the closest matches it loads all proteins into memory\n",
    "# so this is not the best way to do this for large datasets\n",
    "# on very small datasets it is still fine though, and works easily\n",
    "\n",
    "results = et.find_closest_matches_simple(\n",
    "    start_sequence_id=df[\"protein_id_database\"].tolist()[0],\n",
    "    db=eedb.db,\n",
    "    metric=\"cosine\",\n",
    "    n=10,\n",
    ")\n",
    "\n",
    "print(f\"Resulst for index {df['protein_id_database'].tolist()[0]} are:\")\n",
    "print(results)"
   ]
  },
  {
   "cell_type": "markdown",
   "metadata": {},
   "source": [
    "\n",
    "##### Advantages:\n",
    "- Simple implementation\n",
    "- Works well for small datasets\n",
    "- Flexible distance metrics\n",
    "\n",
    "##### Limitations:\n",
    "- Memory intensive for large datasets\n",
    "- Slower for large-scale searches\n",
    "- Not scalable for production use with big databases\n",
    "\n",
    "#### 2. Vector Index Search\n",
    "\n",
    "The vector index method uses Neo4j's native vector indexing capabilities (HNSW algorithm) for efficient similarity search. This is the recommended approach for larger datasets and production use.\n",
    "\n",
    "##### Setting up the Vector Index:\n"
   ]
  },
  {
   "cell_type": "code",
   "execution_count": 9,
   "metadata": {},
   "outputs": [],
   "source": [
    "# the more complex was involes creating a vector index of the embeddings\n",
    "# the vector index math and implementation is provied by neo4j\n",
    "\n",
    "# here we drop the vector index\n",
    "et.drop_vector_index(\n",
    "    db=eedb.db,\n",
    "    index_name=\"vector_index_Protein_embedding\",\n",
    ")\n",
    "# here we create the vector index\n",
    "et.create_embedding_vector_index_neo4j(\n",
    "    db=eedb.db,\n",
    "    index_name=\"vector_index_Protein_embedding\",\n",
    "    similarity_function=\"cosine\",\n",
    "    dimensions=960,\n",
    "    m=16,\n",
    "    ef_construction=512,\n",
    ")"
   ]
  },
  {
   "cell_type": "markdown",
   "metadata": {},
   "source": [
    "\n",
    "##### Parameters Explained:\n",
    "\n",
    "- `dimensions`: The size of your embedding vectors\n",
    "  - Use 960 for ESM-C model\n",
    "  - Use 1280 for ESM-2 model\n",
    "\n",
    "- `m` (default=16): Maximum number of connections per node in the HNSW graph\n",
    "  - Higher values = better accuracy but slower indexing\n",
    "  - Lower values = faster indexing but potentially less accurate\n",
    "  - Recommended range: 5-100\n",
    "\n",
    "- `ef_construction` (default=512): Controls index quality during construction\n",
    "  - Higher values = better quality but slower indexing\n",
    "  - Lower values = faster indexing but potentially lower quality\n",
    "  - Recommended range: 100-1000\n",
    "\n",
    "##### Searching with the Vector Index:\n"
   ]
  },
  {
   "cell_type": "code",
   "execution_count": 10,
   "metadata": {},
   "outputs": [
    {
     "data": {
      "text/html": [
       "<pre style=\"white-space:pre;overflow-x:auto;line-height:normal;font-family:Menlo,'DejaVu Sans Mono',consolas,'Courier New',monospace\">/home/nab/anaconda3/envs/pyeed_niklas/lib/python3.10/site-packages/rich/live.py:231: UserWarning: install \n",
       "\"ipywidgets\" for Jupyter support\n",
       "  warnings.warn('install \"ipywidgets\" for Jupyter support')\n",
       "</pre>\n"
      ],
      "text/plain": [
       "/home/nab/anaconda3/envs/pyeed_niklas/lib/python3.10/site-packages/rich/live.py:231: UserWarning: install \n",
       "\"ipywidgets\" for Jupyter support\n",
       "  warnings.warn('install \"ipywidgets\" for Jupyter support')\n"
      ]
     },
     "metadata": {},
     "output_type": "display_data"
    },
    {
     "data": {
      "text/html": [
       "<pre style=\"white-space:pre;overflow-x:auto;line-height:normal;font-family:Menlo,'DejaVu Sans Mono',consolas,'Courier New',monospace\"></pre>\n"
      ],
      "text/plain": []
     },
     "metadata": {},
     "output_type": "display_data"
    },
    {
     "name": "stdout",
     "output_type": "stream",
     "text": [
      "[('AAP20891.1', 1.0), ('P62593', 1.0), ('AGQ50511.1', 0.9999189376831055), ('ABB97007.1', 0.999909520149231), ('AFN21551.1', 0.9999054670333862), ('CAC67290.1', 0.9998918771743774), ('ADL13944.1', 0.9998717904090881), ('AAK30619.1', 0.9998692274093628), ('AAL29433.1', 0.9998676776885986), ('ACJ43254.1', 0.9998666048049927)]\n"
     ]
    }
   ],
   "source": [
    "# here we use the vector index to find the closest matches\n",
    "results = et.find_nearest_neighbors_based_on_vector_index(\n",
    "    db=eedb.db,\n",
    "    query_protein_id=df[\"protein_id_database\"].tolist()[0],\n",
    "    index_name=\"vector_index_Protein_embedding\",\n",
    "    number_of_neighbors=10,\n",
    ")\n",
    "\n",
    "print(results)"
   ]
  },
  {
   "cell_type": "markdown",
   "metadata": {},
   "source": [
    "\n",
    "##### Advantages of Vector Index:\n",
    "- Highly efficient for large datasets\n",
    "- Optimized for high-dimensional data\n",
    "- Scales well with database size\n",
    "- Maintains good performance with growing data\n",
    "\n",
    "##### Important Notes:\n",
    "\n",
    "1. The vector index needs time to populate after creation. The code automatically waits and shows a progress bar during population.\n",
    "\n",
    "2. The similarity scores returned by the vector index search are:\n",
    "   - For cosine similarity: Range [-1 to 1], where 1 is most similar\n",
    "   - For euclidean similarity: Lower values indicate more similarity\n",
    "\n",
    "3. The index is persistent in the database and only needs to be created once, unless you want to change its parameters.\n",
    "\n",
    "4. Memory usage is optimized as the index handles the heavy lifting instead of loading all embeddings into memory.\n",
    "\n",
    "For most production use cases, the vector index method is recommended as it provides the best balance of performance and scalability."
   ]
  }
 ],
 "metadata": {
  "kernelspec": {
   "display_name": "Python 3",
   "language": "python",
   "name": "python3"
  },
  "language_info": {
   "codemirror_mode": {
    "name": "ipython",
    "version": 3
   },
   "file_extension": ".py",
   "mimetype": "text/x-python",
   "name": "python",
   "nbconvert_exporter": "python",
   "pygments_lexer": "ipython3",
   "version": "3.10.16"
  }
 },
 "nbformat": 4,
 "nbformat_minor": 2
}
