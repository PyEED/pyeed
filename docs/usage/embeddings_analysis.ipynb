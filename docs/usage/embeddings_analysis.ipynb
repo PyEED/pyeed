{
 "cells": [
  {
   "cell_type": "markdown",
   "metadata": {},
   "source": [
    "# Protein Embedding Analysis Pipeline\n",
    "\n",
    "This notebook demonstrates how to fetch protein data, calculate embeddings, and visualize protein relationships using t-SNE."
   ]
  },
  {
   "cell_type": "markdown",
   "metadata": {},
   "source": [
    "This notebook demonstrates an end-to-end pipeline for protein embedding analysis. Here, we connect to a Neo4j database to fetch protein sequences from the NCBI protein database, compute high-dimensional embeddings using a pre-trained model, and then project these embeddings into two dimensions using t-SNE. The final visualization provides insights into the relationships among proteins based on their sequence properties."
   ]
  },
  {
   "cell_type": "code",
   "execution_count": 1,
   "metadata": {},
   "outputs": [
    {
     "name": "stderr",
     "output_type": "stream",
     "text": [
      "/home/nab/anaconda3/envs/pyeed_niklas_env/lib/python3.10/site-packages/tqdm/auto.py:21: TqdmWarning: IProgress not found. Please update jupyter and ipywidgets. See https://ipywidgets.readthedocs.io/en/stable/user_install.html\n",
      "  from .autonotebook import tqdm as notebook_tqdm\n"
     ]
    }
   ],
   "source": [
    "import sys\n",
    "import matplotlib.pyplot as plt\n",
    "import pandas as pd\n",
    "from loguru import logger\n",
    "\n",
    "from pyeed import Pyeed\n",
    "from pyeed.analysis.embedding_analysis import EmbeddingTool\n",
    "\n",
    "logger.remove()\n",
    "level = logger.add(sys.stderr, level=\"INFO\")"
   ]
  },
  {
   "cell_type": "markdown",
   "metadata": {},
   "source": [
    "### Database Connection and Setup\n",
    "Now we'll connect to our Neo4j database and prepare it for new data by:\n",
    "1. Establishing a connection\n",
    "2. Wiping any existing data\n",
    "3. Removing old constraints"
   ]
  },
  {
   "cell_type": "code",
   "execution_count": 2,
   "metadata": {},
   "outputs": [
    {
     "name": "stdout",
     "output_type": "stream",
     "text": [
      "📡 Connected to database.\n",
      "All data has been wiped from the database.\n"
     ]
    }
   ],
   "source": [
    "uri = \"bolt://129.69.129.130:7687\"\n",
    "user = \"neo4j\"\n",
    "password = \"12345678\"\n",
    "\n",
    "eedb = Pyeed(uri, user=user, password=password)\n",
    "eedb.db.wipe_database(date='2025-03-26')"
   ]
  },
  {
   "cell_type": "code",
   "execution_count": 3,
   "metadata": {},
   "outputs": [],
   "source": [
    "et = EmbeddingTool()"
   ]
  },
  {
   "cell_type": "markdown",
   "metadata": {},
   "source": [
    "### Fetching Protein Data\n",
    "We'll now fetch protein sequences from the NCBI protein database using a list of protein IDs."
   ]
  },
  {
   "cell_type": "code",
   "execution_count": 4,
   "metadata": {},
   "outputs": [
    {
     "name": "stdout",
     "output_type": "stream",
     "text": [
      "The data has the following columns:\n",
      "Index(['protein_name', 'phenotype', 'protein_id', 'protein_id_database'], dtype='object')\n"
     ]
    }
   ],
   "source": [
    "# these are example ids\n",
    "df = pd.read_csv(\"resources/data_example.csv\", delimiter=\";\")\n",
    "print(\"The data has the following columns:\")\n",
    "print(df.columns)\n",
    "\n",
    "# create a dict with protein_id_database as key and phenotype as value\n",
    "dict_data = dict(zip(df[\"protein_id_database\"], df[\"phenotype\"]))"
   ]
  },
  {
   "cell_type": "code",
   "execution_count": 5,
   "metadata": {},
   "outputs": [
    {
     "name": "stderr",
     "output_type": "stream",
     "text": [
      "\u001b[32m2025-03-26 11:37:31.838\u001b[0m | \u001b[1mINFO    \u001b[0m | \u001b[36mpyeed.main\u001b[0m:\u001b[36mfetch_from_primary_db\u001b[0m:\u001b[36m87\u001b[0m - \u001b[1mFound 0 sequences in the database.\u001b[0m\n",
      "\u001b[32m2025-03-26 11:37:31.839\u001b[0m | \u001b[1mINFO    \u001b[0m | \u001b[36mpyeed.main\u001b[0m:\u001b[36mfetch_from_primary_db\u001b[0m:\u001b[36m89\u001b[0m - \u001b[1mFetching 68 sequences from ncbi_protein.\u001b[0m\n",
      "\u001b[32m2025-03-26 11:37:31.880\u001b[0m | \u001b[1mINFO    \u001b[0m | \u001b[36mpyeed.adapter.primary_db_adapter\u001b[0m:\u001b[36mexecute_requests\u001b[0m:\u001b[36m140\u001b[0m - \u001b[1mStarting requests for 7 batches.\u001b[0m\n",
      "\u001b[32m2025-03-26 11:37:32.848\u001b[0m | \u001b[1mINFO    \u001b[0m | \u001b[36mpyeed.adapter.ncbi_protein_mapper\u001b[0m:\u001b[36madd_to_db\u001b[0m:\u001b[36m301\u001b[0m - \u001b[1mAdded/updated NCBI protein AAP20891.1 in database\u001b[0m\n",
      "\u001b[32m2025-03-26 11:37:32.891\u001b[0m | \u001b[1mINFO    \u001b[0m | \u001b[36mpyeed.adapter.ncbi_protein_mapper\u001b[0m:\u001b[36madd_to_db\u001b[0m:\u001b[36m301\u001b[0m - \u001b[1mAdded/updated NCBI protein CAJ85677.1 in database\u001b[0m\n",
      "\u001b[32m2025-03-26 11:37:32.937\u001b[0m | \u001b[1mINFO    \u001b[0m | \u001b[36mpyeed.adapter.ncbi_protein_mapper\u001b[0m:\u001b[36madd_to_db\u001b[0m:\u001b[36m301\u001b[0m - \u001b[1mAdded/updated NCBI protein SAQ02853.1 in database\u001b[0m\n",
      "\u001b[32m2025-03-26 11:37:32.957\u001b[0m | \u001b[1mINFO    \u001b[0m | \u001b[36mpyeed.adapter.ncbi_protein_mapper\u001b[0m:\u001b[36madd_to_db\u001b[0m:\u001b[36m301\u001b[0m - \u001b[1mAdded/updated NCBI protein CDR98216.1 in database\u001b[0m\n",
      "\u001b[32m2025-03-26 11:37:33.001\u001b[0m | \u001b[1mINFO    \u001b[0m | \u001b[36mpyeed.adapter.ncbi_protein_mapper\u001b[0m:\u001b[36madd_to_db\u001b[0m:\u001b[36m301\u001b[0m - \u001b[1mAdded/updated NCBI protein WP_109963600.1 in database\u001b[0m\n",
      "\u001b[32m2025-03-26 11:37:33.050\u001b[0m | \u001b[1mINFO    \u001b[0m | \u001b[36mpyeed.adapter.ncbi_protein_mapper\u001b[0m:\u001b[36madd_to_db\u001b[0m:\u001b[36m301\u001b[0m - \u001b[1mAdded/updated NCBI protein CAA41038.1 in database\u001b[0m\n",
      "\u001b[32m2025-03-26 11:37:33.068\u001b[0m | \u001b[1mINFO    \u001b[0m | \u001b[36mpyeed.adapter.ncbi_protein_mapper\u001b[0m:\u001b[36madd_to_db\u001b[0m:\u001b[36m301\u001b[0m - \u001b[1mAdded/updated NCBI protein WP_109874025.1 in database\u001b[0m\n",
      "\u001b[32m2025-03-26 11:37:33.087\u001b[0m | \u001b[1mINFO    \u001b[0m | \u001b[36mpyeed.adapter.ncbi_protein_mapper\u001b[0m:\u001b[36madd_to_db\u001b[0m:\u001b[36m301\u001b[0m - \u001b[1mAdded/updated NCBI protein CAA46344.1 in database\u001b[0m\n",
      "\u001b[32m2025-03-26 11:37:33.107\u001b[0m | \u001b[1mINFO    \u001b[0m | \u001b[36mpyeed.adapter.ncbi_protein_mapper\u001b[0m:\u001b[36madd_to_db\u001b[0m:\u001b[36m301\u001b[0m - \u001b[1mAdded/updated NCBI protein APG33178.1 in database\u001b[0m\n",
      "\u001b[32m2025-03-26 11:37:33.159\u001b[0m | \u001b[1mINFO    \u001b[0m | \u001b[36mpyeed.adapter.ncbi_protein_mapper\u001b[0m:\u001b[36madd_to_db\u001b[0m:\u001b[36m301\u001b[0m - \u001b[1mAdded/updated NCBI protein AKC98298.1 in database\u001b[0m\n",
      "\u001b[32m2025-03-26 11:37:33.212\u001b[0m | \u001b[1mINFO    \u001b[0m | \u001b[36mpyeed.adapter.ncbi_protein_mapper\u001b[0m:\u001b[36madd_to_db\u001b[0m:\u001b[36m301\u001b[0m - \u001b[1mAdded/updated NCBI protein KJO56189.1 in database\u001b[0m\n",
      "\u001b[32m2025-03-26 11:37:33.238\u001b[0m | \u001b[1mINFO    \u001b[0m | \u001b[36mpyeed.adapter.ncbi_protein_mapper\u001b[0m:\u001b[36madd_to_db\u001b[0m:\u001b[36m301\u001b[0m - \u001b[1mAdded/updated NCBI protein KLP91446.1 in database\u001b[0m\n",
      "\u001b[32m2025-03-26 11:37:33.263\u001b[0m | \u001b[1mINFO    \u001b[0m | \u001b[36mpyeed.adapter.ncbi_protein_mapper\u001b[0m:\u001b[36madd_to_db\u001b[0m:\u001b[36m301\u001b[0m - \u001b[1mAdded/updated NCBI protein CAA46346.1 in database\u001b[0m\n",
      "\u001b[32m2025-03-26 11:37:33.287\u001b[0m | \u001b[1mINFO    \u001b[0m | \u001b[36mpyeed.adapter.ncbi_protein_mapper\u001b[0m:\u001b[36madd_to_db\u001b[0m:\u001b[36m301\u001b[0m - \u001b[1mAdded/updated NCBI protein CAA74912.2 in database\u001b[0m\n",
      "\u001b[32m2025-03-26 11:37:33.311\u001b[0m | \u001b[1mINFO    \u001b[0m | \u001b[36mpyeed.adapter.ncbi_protein_mapper\u001b[0m:\u001b[36madd_to_db\u001b[0m:\u001b[36m301\u001b[0m - \u001b[1mAdded/updated NCBI protein AFN21551.1 in database\u001b[0m\n",
      "\u001b[32m2025-03-26 11:37:33.334\u001b[0m | \u001b[1mINFO    \u001b[0m | \u001b[36mpyeed.adapter.ncbi_protein_mapper\u001b[0m:\u001b[36madd_to_db\u001b[0m:\u001b[36m301\u001b[0m - \u001b[1mAdded/updated NCBI protein ACB22021.1 in database\u001b[0m\n",
      "\u001b[32m2025-03-26 11:37:33.362\u001b[0m | \u001b[1mINFO    \u001b[0m | \u001b[36mpyeed.adapter.ncbi_protein_mapper\u001b[0m:\u001b[36madd_to_db\u001b[0m:\u001b[36m301\u001b[0m - \u001b[1mAdded/updated NCBI protein CAA76794.1 in database\u001b[0m\n",
      "\u001b[32m2025-03-26 11:37:33.385\u001b[0m | \u001b[1mINFO    \u001b[0m | \u001b[36mpyeed.adapter.ncbi_protein_mapper\u001b[0m:\u001b[36madd_to_db\u001b[0m:\u001b[36m301\u001b[0m - \u001b[1mAdded/updated NCBI protein CAA76795.1 in database\u001b[0m\n",
      "\u001b[32m2025-03-26 11:37:33.440\u001b[0m | \u001b[1mINFO    \u001b[0m | \u001b[36mpyeed.adapter.ncbi_protein_mapper\u001b[0m:\u001b[36madd_to_db\u001b[0m:\u001b[36m301\u001b[0m - \u001b[1mAdded/updated NCBI protein CCG28759.1 in database\u001b[0m\n",
      "\u001b[32m2025-03-26 11:37:33.464\u001b[0m | \u001b[1mINFO    \u001b[0m | \u001b[36mpyeed.adapter.ncbi_protein_mapper\u001b[0m:\u001b[36madd_to_db\u001b[0m:\u001b[36m301\u001b[0m - \u001b[1mAdded/updated NCBI protein KLG19745.1 in database\u001b[0m\n",
      "\u001b[32m2025-03-26 11:37:33.980\u001b[0m | \u001b[1mINFO    \u001b[0m | \u001b[36mpyeed.adapter.ncbi_protein_mapper\u001b[0m:\u001b[36madd_to_db\u001b[0m:\u001b[36m301\u001b[0m - \u001b[1mAdded/updated NCBI protein AAC32891.1 in database\u001b[0m\n",
      "\u001b[32m2025-03-26 11:37:34.008\u001b[0m | \u001b[1mINFO    \u001b[0m | \u001b[36mpyeed.adapter.ncbi_protein_mapper\u001b[0m:\u001b[36madd_to_db\u001b[0m:\u001b[36m301\u001b[0m - \u001b[1mAdded/updated NCBI protein CAA76796.1 in database\u001b[0m\n",
      "\u001b[32m2025-03-26 11:37:34.032\u001b[0m | \u001b[1mINFO    \u001b[0m | \u001b[36mpyeed.adapter.ncbi_protein_mapper\u001b[0m:\u001b[36madd_to_db\u001b[0m:\u001b[36m301\u001b[0m - \u001b[1mAdded/updated NCBI protein CAD24670.1 in database\u001b[0m\n",
      "\u001b[32m2025-03-26 11:37:34.055\u001b[0m | \u001b[1mINFO    \u001b[0m | \u001b[36mpyeed.adapter.ncbi_protein_mapper\u001b[0m:\u001b[36madd_to_db\u001b[0m:\u001b[36m301\u001b[0m - \u001b[1mAdded/updated NCBI protein ARF45649.1 in database\u001b[0m\n",
      "\u001b[32m2025-03-26 11:37:34.079\u001b[0m | \u001b[1mINFO    \u001b[0m | \u001b[36mpyeed.adapter.ncbi_protein_mapper\u001b[0m:\u001b[36madd_to_db\u001b[0m:\u001b[36m301\u001b[0m - \u001b[1mAdded/updated NCBI protein CTA52364.1 in database\u001b[0m\n",
      "\u001b[32m2025-03-26 11:37:34.102\u001b[0m | \u001b[1mINFO    \u001b[0m | \u001b[36mpyeed.adapter.ncbi_protein_mapper\u001b[0m:\u001b[36madd_to_db\u001b[0m:\u001b[36m301\u001b[0m - \u001b[1mAdded/updated NCBI protein ADL13944.1 in database\u001b[0m\n",
      "\u001b[32m2025-03-26 11:37:34.127\u001b[0m | \u001b[1mINFO    \u001b[0m | \u001b[36mpyeed.adapter.ncbi_protein_mapper\u001b[0m:\u001b[36madd_to_db\u001b[0m:\u001b[36m301\u001b[0m - \u001b[1mAdded/updated NCBI protein AGQ50511.1 in database\u001b[0m\n",
      "\u001b[32m2025-03-26 11:37:34.152\u001b[0m | \u001b[1mINFO    \u001b[0m | \u001b[36mpyeed.adapter.ncbi_protein_mapper\u001b[0m:\u001b[36madd_to_db\u001b[0m:\u001b[36m301\u001b[0m - \u001b[1mAdded/updated NCBI protein AKA60778.1 in database\u001b[0m\n",
      "\u001b[32m2025-03-26 11:37:34.177\u001b[0m | \u001b[1mINFO    \u001b[0m | \u001b[36mpyeed.adapter.ncbi_protein_mapper\u001b[0m:\u001b[36madd_to_db\u001b[0m:\u001b[36m301\u001b[0m - \u001b[1mAdded/updated NCBI protein APT65830.1 in database\u001b[0m\n",
      "\u001b[32m2025-03-26 11:37:34.229\u001b[0m | \u001b[1mINFO    \u001b[0m | \u001b[36mpyeed.adapter.ncbi_protein_mapper\u001b[0m:\u001b[36madd_to_db\u001b[0m:\u001b[36m301\u001b[0m - \u001b[1mAdded/updated NCBI protein HAH6232254.1 in database\u001b[0m\n",
      "\u001b[32m2025-03-26 11:37:34.263\u001b[0m | \u001b[1mINFO    \u001b[0m | \u001b[36mpyeed.adapter.ncbi_protein_mapper\u001b[0m:\u001b[36madd_to_db\u001b[0m:\u001b[36m301\u001b[0m - \u001b[1mAdded/updated NCBI protein QDO66746.1 in database\u001b[0m\n",
      "\u001b[32m2025-03-26 11:37:34.288\u001b[0m | \u001b[1mINFO    \u001b[0m | \u001b[36mpyeed.adapter.ncbi_protein_mapper\u001b[0m:\u001b[36madd_to_db\u001b[0m:\u001b[36m301\u001b[0m - \u001b[1mAdded/updated NCBI protein CBX53726.1 in database\u001b[0m\n",
      "\u001b[32m2025-03-26 11:37:34.312\u001b[0m | \u001b[1mINFO    \u001b[0m | \u001b[36mpyeed.adapter.ncbi_protein_mapper\u001b[0m:\u001b[36madd_to_db\u001b[0m:\u001b[36m301\u001b[0m - \u001b[1mAdded/updated NCBI protein AAC32889.2 in database\u001b[0m\n",
      "\u001b[32m2025-03-26 11:37:34.337\u001b[0m | \u001b[1mINFO    \u001b[0m | \u001b[36mpyeed.adapter.ncbi_protein_mapper\u001b[0m:\u001b[36madd_to_db\u001b[0m:\u001b[36m301\u001b[0m - \u001b[1mAdded/updated NCBI protein CAA64682.1 in database\u001b[0m\n",
      "\u001b[32m2025-03-26 11:37:34.361\u001b[0m | \u001b[1mINFO    \u001b[0m | \u001b[36mpyeed.adapter.ncbi_protein_mapper\u001b[0m:\u001b[36madd_to_db\u001b[0m:\u001b[36m301\u001b[0m - \u001b[1mAdded/updated NCBI protein CAA71322.1 in database\u001b[0m\n",
      "\u001b[32m2025-03-26 11:37:34.386\u001b[0m | \u001b[1mINFO    \u001b[0m | \u001b[36mpyeed.adapter.ncbi_protein_mapper\u001b[0m:\u001b[36madd_to_db\u001b[0m:\u001b[36m301\u001b[0m - \u001b[1mAdded/updated NCBI protein CAA71323.1 in database\u001b[0m\n",
      "\u001b[32m2025-03-26 11:37:34.409\u001b[0m | \u001b[1mINFO    \u001b[0m | \u001b[36mpyeed.adapter.ncbi_protein_mapper\u001b[0m:\u001b[36madd_to_db\u001b[0m:\u001b[36m301\u001b[0m - \u001b[1mAdded/updated NCBI protein CAA71324.1 in database\u001b[0m\n",
      "\u001b[32m2025-03-26 11:37:34.433\u001b[0m | \u001b[1mINFO    \u001b[0m | \u001b[36mpyeed.adapter.ncbi_protein_mapper\u001b[0m:\u001b[36madd_to_db\u001b[0m:\u001b[36m301\u001b[0m - \u001b[1mAdded/updated NCBI protein AEC32455.1 in database\u001b[0m\n",
      "\u001b[32m2025-03-26 11:37:34.456\u001b[0m | \u001b[1mINFO    \u001b[0m | \u001b[36mpyeed.adapter.ncbi_protein_mapper\u001b[0m:\u001b[36madd_to_db\u001b[0m:\u001b[36m301\u001b[0m - \u001b[1mAdded/updated NCBI protein AAD22538.1 in database\u001b[0m\n",
      "\u001b[32m2025-03-26 11:37:34.479\u001b[0m | \u001b[1mINFO    \u001b[0m | \u001b[36mpyeed.adapter.ncbi_protein_mapper\u001b[0m:\u001b[36madd_to_db\u001b[0m:\u001b[36m301\u001b[0m - \u001b[1mAdded/updated NCBI protein AAD22539.1 in database\u001b[0m\n",
      "\u001b[32m2025-03-26 11:37:34.997\u001b[0m | \u001b[1mINFO    \u001b[0m | \u001b[36mpyeed.adapter.ncbi_protein_mapper\u001b[0m:\u001b[36madd_to_db\u001b[0m:\u001b[36m301\u001b[0m - \u001b[1mAdded/updated NCBI protein ABB97007.1 in database\u001b[0m\n",
      "\u001b[32m2025-03-26 11:37:35.021\u001b[0m | \u001b[1mINFO    \u001b[0m | \u001b[36mpyeed.adapter.ncbi_protein_mapper\u001b[0m:\u001b[36madd_to_db\u001b[0m:\u001b[36m301\u001b[0m - \u001b[1mAdded/updated NCBI protein ACJ43254.1 in database\u001b[0m\n",
      "\u001b[32m2025-03-26 11:37:35.046\u001b[0m | \u001b[1mINFO    \u001b[0m | \u001b[36mpyeed.adapter.ncbi_protein_mapper\u001b[0m:\u001b[36madd_to_db\u001b[0m:\u001b[36m301\u001b[0m - \u001b[1mAdded/updated NCBI protein AAC05975.1 in database\u001b[0m\n",
      "\u001b[32m2025-03-26 11:37:35.069\u001b[0m | \u001b[1mINFO    \u001b[0m | \u001b[36mpyeed.adapter.ncbi_protein_mapper\u001b[0m:\u001b[36madd_to_db\u001b[0m:\u001b[36m301\u001b[0m - \u001b[1mAdded/updated NCBI protein BCD58813.1 in database\u001b[0m\n",
      "\u001b[32m2025-03-26 11:37:35.093\u001b[0m | \u001b[1mINFO    \u001b[0m | \u001b[36mpyeed.adapter.ncbi_protein_mapper\u001b[0m:\u001b[36madd_to_db\u001b[0m:\u001b[36m301\u001b[0m - \u001b[1mAdded/updated NCBI protein AAK17194.1 in database\u001b[0m\n",
      "\u001b[32m2025-03-26 11:37:35.126\u001b[0m | \u001b[1mINFO    \u001b[0m | \u001b[36mpyeed.adapter.ncbi_protein_mapper\u001b[0m:\u001b[36madd_to_db\u001b[0m:\u001b[36m301\u001b[0m - \u001b[1mAdded/updated NCBI protein AAD33116.2 in database\u001b[0m\n",
      "\u001b[32m2025-03-26 11:37:35.150\u001b[0m | \u001b[1mINFO    \u001b[0m | \u001b[36mpyeed.adapter.ncbi_protein_mapper\u001b[0m:\u001b[36madd_to_db\u001b[0m:\u001b[36m301\u001b[0m - \u001b[1mAdded/updated NCBI protein CAB92324.1 in database\u001b[0m\n",
      "\u001b[32m2025-03-26 11:37:35.175\u001b[0m | \u001b[1mINFO    \u001b[0m | \u001b[36mpyeed.adapter.ncbi_protein_mapper\u001b[0m:\u001b[36madd_to_db\u001b[0m:\u001b[36m301\u001b[0m - \u001b[1mAdded/updated NCBI protein AAL03985.1 in database\u001b[0m\n",
      "\u001b[32m2025-03-26 11:37:35.200\u001b[0m | \u001b[1mINFO    \u001b[0m | \u001b[36mpyeed.adapter.ncbi_protein_mapper\u001b[0m:\u001b[36madd_to_db\u001b[0m:\u001b[36m301\u001b[0m - \u001b[1mAdded/updated NCBI protein AAF19151.1 in database\u001b[0m\n",
      "\u001b[32m2025-03-26 11:37:35.224\u001b[0m | \u001b[1mINFO    \u001b[0m | \u001b[36mpyeed.adapter.ncbi_protein_mapper\u001b[0m:\u001b[36madd_to_db\u001b[0m:\u001b[36m301\u001b[0m - \u001b[1mAdded/updated NCBI protein AAF05613.1 in database\u001b[0m\n",
      "\u001b[32m2025-03-26 11:37:35.257\u001b[0m | \u001b[1mINFO    \u001b[0m | \u001b[36mpyeed.adapter.ncbi_protein_mapper\u001b[0m:\u001b[36madd_to_db\u001b[0m:\u001b[36m301\u001b[0m - \u001b[1mAdded/updated NCBI protein AAF05614.1 in database\u001b[0m\n",
      "\u001b[32m2025-03-26 11:37:35.282\u001b[0m | \u001b[1mINFO    \u001b[0m | \u001b[36mpyeed.adapter.ncbi_protein_mapper\u001b[0m:\u001b[36madd_to_db\u001b[0m:\u001b[36m301\u001b[0m - \u001b[1mAdded/updated NCBI protein AAF05612.1 in database\u001b[0m\n",
      "\u001b[32m2025-03-26 11:37:35.307\u001b[0m | \u001b[1mINFO    \u001b[0m | \u001b[36mpyeed.adapter.ncbi_protein_mapper\u001b[0m:\u001b[36madd_to_db\u001b[0m:\u001b[36m301\u001b[0m - \u001b[1mAdded/updated NCBI protein AAF05611.1 in database\u001b[0m\n",
      "\u001b[32m2025-03-26 11:37:35.330\u001b[0m | \u001b[1mINFO    \u001b[0m | \u001b[36mpyeed.adapter.ncbi_protein_mapper\u001b[0m:\u001b[36madd_to_db\u001b[0m:\u001b[36m301\u001b[0m - \u001b[1mAdded/updated NCBI protein AAM15527.1 in database\u001b[0m\n",
      "\u001b[32m2025-03-26 11:37:35.354\u001b[0m | \u001b[1mINFO    \u001b[0m | \u001b[36mpyeed.adapter.ncbi_protein_mapper\u001b[0m:\u001b[36madd_to_db\u001b[0m:\u001b[36m301\u001b[0m - \u001b[1mAdded/updated NCBI protein AAL29433.1 in database\u001b[0m\n",
      "\u001b[32m2025-03-26 11:37:35.378\u001b[0m | \u001b[1mINFO    \u001b[0m | \u001b[36mpyeed.adapter.ncbi_protein_mapper\u001b[0m:\u001b[36madd_to_db\u001b[0m:\u001b[36m301\u001b[0m - \u001b[1mAdded/updated NCBI protein AAL29434.1 in database\u001b[0m\n",
      "\u001b[32m2025-03-26 11:37:35.403\u001b[0m | \u001b[1mINFO    \u001b[0m | \u001b[36mpyeed.adapter.ncbi_protein_mapper\u001b[0m:\u001b[36madd_to_db\u001b[0m:\u001b[36m301\u001b[0m - \u001b[1mAdded/updated NCBI protein AAL29435.1 in database\u001b[0m\n",
      "\u001b[32m2025-03-26 11:37:35.427\u001b[0m | \u001b[1mINFO    \u001b[0m | \u001b[36mpyeed.adapter.ncbi_protein_mapper\u001b[0m:\u001b[36madd_to_db\u001b[0m:\u001b[36m301\u001b[0m - \u001b[1mAdded/updated NCBI protein AAL29436.1 in database\u001b[0m\n",
      "\u001b[32m2025-03-26 11:37:35.451\u001b[0m | \u001b[1mINFO    \u001b[0m | \u001b[36mpyeed.adapter.ncbi_protein_mapper\u001b[0m:\u001b[36madd_to_db\u001b[0m:\u001b[36m301\u001b[0m - \u001b[1mAdded/updated NCBI protein CAC43229.1 in database\u001b[0m\n",
      "\u001b[32m2025-03-26 11:37:35.475\u001b[0m | \u001b[1mINFO    \u001b[0m | \u001b[36mpyeed.adapter.ncbi_protein_mapper\u001b[0m:\u001b[36madd_to_db\u001b[0m:\u001b[36m301\u001b[0m - \u001b[1mAdded/updated NCBI protein CAC43230.1 in database\u001b[0m\n",
      "\u001b[32m2025-03-26 11:37:35.893\u001b[0m | \u001b[1mINFO    \u001b[0m | \u001b[36mpyeed.adapter.ncbi_protein_mapper\u001b[0m:\u001b[36madd_to_db\u001b[0m:\u001b[36m301\u001b[0m - \u001b[1mAdded/updated NCBI protein AAG44570.1 in database\u001b[0m\n",
      "\u001b[32m2025-03-26 11:37:35.911\u001b[0m | \u001b[1mINFO    \u001b[0m | \u001b[36mpyeed.adapter.ncbi_protein_mapper\u001b[0m:\u001b[36madd_to_db\u001b[0m:\u001b[36m301\u001b[0m - \u001b[1mAdded/updated NCBI protein AAK14792.1 in database\u001b[0m\n",
      "\u001b[32m2025-03-26 11:37:35.928\u001b[0m | \u001b[1mINFO    \u001b[0m | \u001b[36mpyeed.adapter.ncbi_protein_mapper\u001b[0m:\u001b[36madd_to_db\u001b[0m:\u001b[36m301\u001b[0m - \u001b[1mAdded/updated NCBI protein AAK30619.1 in database\u001b[0m\n",
      "\u001b[32m2025-03-26 11:37:35.946\u001b[0m | \u001b[1mINFO    \u001b[0m | \u001b[36mpyeed.adapter.ncbi_protein_mapper\u001b[0m:\u001b[36madd_to_db\u001b[0m:\u001b[36m301\u001b[0m - \u001b[1mAdded/updated NCBI protein BAB16308.1 in database\u001b[0m\n",
      "\u001b[32m2025-03-26 11:37:35.964\u001b[0m | \u001b[1mINFO    \u001b[0m | \u001b[36mpyeed.adapter.ncbi_protein_mapper\u001b[0m:\u001b[36madd_to_db\u001b[0m:\u001b[36m301\u001b[0m - \u001b[1mAdded/updated NCBI protein AAF66653.1 in database\u001b[0m\n",
      "\u001b[32m2025-03-26 11:37:35.983\u001b[0m | \u001b[1mINFO    \u001b[0m | \u001b[36mpyeed.adapter.ncbi_protein_mapper\u001b[0m:\u001b[36madd_to_db\u001b[0m:\u001b[36m301\u001b[0m - \u001b[1mAdded/updated NCBI protein CAC85660.1 in database\u001b[0m\n",
      "\u001b[32m2025-03-26 11:37:36.004\u001b[0m | \u001b[1mINFO    \u001b[0m | \u001b[36mpyeed.adapter.ncbi_protein_mapper\u001b[0m:\u001b[36madd_to_db\u001b[0m:\u001b[36m301\u001b[0m - \u001b[1mAdded/updated NCBI protein CAC85661.1 in database\u001b[0m\n",
      "\u001b[32m2025-03-26 11:37:36.025\u001b[0m | \u001b[1mINFO    \u001b[0m | \u001b[36mpyeed.adapter.ncbi_protein_mapper\u001b[0m:\u001b[36madd_to_db\u001b[0m:\u001b[36m301\u001b[0m - \u001b[1mAdded/updated NCBI protein CAC67290.1 in database\u001b[0m\n"
     ]
    }
   ],
   "source": [
    "# now fecth all of the proteins from the database\n",
    "eedb.fetch_from_primary_db(df[\"protein_id_database\"].tolist(), db=\"ncbi_protein\")"
   ]
  },
  {
   "cell_type": "markdown",
   "metadata": {},
   "source": [
    "### Calculate Sequence Embeddings\n",
    "Now we'll convert our protein sequences into numerical representations (embeddings) using a pre-trained model."
   ]
  },
  {
   "cell_type": "code",
   "execution_count": 6,
   "metadata": {},
   "outputs": [
    {
     "name": "stderr",
     "output_type": "stream",
     "text": [
      "/home/nab/anaconda3/envs/pyeed_niklas_env/lib/python3.10/site-packages/transformers/modeling_utils.py:3437: FutureWarning: The `use_auth_token` argument is deprecated and will be removed in v5 of Transformers. Please use `token` instead.\n",
      "  warnings.warn(\n",
      "Loading checkpoint shards: 100%|██████████| 2/2 [00:00<00:00,  3.69it/s]\n",
      "Some weights of EsmModel were not initialized from the model checkpoint at facebook/esm2_t36_3B_UR50D and are newly initialized: ['esm.pooler.dense.bias', 'esm.pooler.dense.weight']\n",
      "You should probably TRAIN this model on a down-stream task to be able to use it for predictions and inference.\n",
      "/home/nab/anaconda3/envs/pyeed_niklas_env/lib/python3.10/site-packages/transformers/tokenization_utils_base.py:1899: FutureWarning: The `use_auth_token` argument is deprecated and will be removed in v5 of Transformers. Please use `token` instead.\n",
      "  warnings.warn(\n",
      "Asking to truncate to max_length but no maximum length is provided and the model has no predefined maximum length. Default to no truncation.\n"
     ]
    }
   ],
   "source": [
    "eedb.calculate_sequence_embeddings(model_name=\"facebook/esm2_t36_3B_UR50D\")"
   ]
  },
  {
   "cell_type": "markdown",
   "metadata": {},
   "source": [
    "### Visualization with t-SNE\n",
    "Finally, we'll project our high-dimensional embeddings into 2D space using t-SNE and create a visualization.\n",
    "The resulting plot will show how proteins relate to each other in terms of their sequence properties."
   ]
  },
  {
   "cell_type": "code",
   "execution_count": 7,
   "metadata": {},
   "outputs": [
    {
     "name": "stdout",
     "output_type": "stream",
     "text": [
      "(2560,)\n"
     ]
    }
   ],
   "source": [
    "# get the dimensions of the embeddings get one protein and then get the dimensions of the embedding\n",
    "# any random protein will do\n",
    "query = \"MATCH (p:Protein) RETURN p.embedding LIMIT 1\"\n",
    "result = eedb.db.execute_read(query)\n",
    "dimensions = np.array(result[0]['p.embedding']).shape\n",
    "print(dimensions)\n"
   ]
  },
  {
   "cell_type": "code",
   "execution_count": 8,
   "metadata": {},
   "outputs": [
    {
     "name": "stdout",
     "output_type": "stream",
     "text": [
      "68\n"
     ]
    },
    {
     "data": {
      "image/png": "[encoded data removed]",
      "text/plain": [
       "<Figure size 640x480 with 1 Axes>"
      ]
     },
     "metadata": {},
     "output_type": "display_data"
    }
   ],
   "source": [
    "# get all of the data from embedding\n",
    "embedding_tool = EmbeddingTool()\n",
    "protein_ids, embeddings_2d, labels, colors = (\n",
    "    embedding_tool.calculate_2d_projection_tsne(\n",
    "        db=eedb.db,\n",
    "        ids_list=df[\"protein_id_database\"].tolist(),\n",
    "        perplexity=1,\n",
    "        n_iter=3000,\n",
    "        ids_list_labels=dict_data,\n",
    "    )\n",
    ")\n",
    "print(len(protein_ids))\n",
    "\n",
    "labels_already_plotted = []\n",
    "\n",
    "# create a scatter plot for each unique label\n",
    "for i in range(len(protein_ids)):\n",
    "    if labels[i] not in labels_already_plotted:\n",
    "        plt.scatter(\n",
    "            embeddings_2d[i, 0],\n",
    "            embeddings_2d[i, 1],\n",
    "            alpha=0.7,\n",
    "            s=50,\n",
    "            edgecolor=\"k\",\n",
    "            color=colors[i],\n",
    "            label=labels[i],\n",
    "        )\n",
    "        labels_already_plotted.append(labels[i])\n",
    "    else:\n",
    "        plt.scatter(\n",
    "            embeddings_2d[i, 0],\n",
    "            embeddings_2d[i, 1],\n",
    "            alpha=0.7,\n",
    "            s=50,\n",
    "            edgecolor=\"k\",\n",
    "            color=colors[i],\n",
    "        )\n",
    "plt.title(\"2D t-SNE Visualization of Protein Embeddings\")\n",
    "plt.xlabel(\"t-SNE Dimension 1\")\n",
    "plt.ylabel(\"t-SNE Dimension 2\")\n",
    "plt.legend()\n",
    "plt.tight_layout()\n",
    "plt.show()"
   ]
  },
  {
   "cell_type": "markdown",
   "metadata": {},
   "source": [
    "### Protein Embedding Search Methods\n",
    "\n",
    "There are two main approaches implemented for searching similar proteins using embeddings:\n",
    "\n",
    "#### 1. Simple Search Method\n",
    "\n",
    "The simple method (`find_closest_matches_simple`) loads all embeddings into memory to calculate distances. While straightforward, it's best suited for smaller datasets:\n"
   ]
  },
  {
   "cell_type": "code",
   "execution_count": 9,
   "metadata": {},
   "outputs": [
    {
     "name": "stdout",
     "output_type": "stream",
     "text": [
      "Resulst for index AAP20891.1 are:\n",
      "[('AAP20891.1', 0.0), ('ADL13944.1', 1.2696941380951898e-05), ('AGQ50511.1', 2.3084859425925863e-05), ('CBX53726.1', 2.3443578533011156e-05), ('AAL29433.1', 3.0809776502382924e-05), ('CAA76796.1', 3.2400445545976986e-05), ('CAC67290.1', 4.856582147116928e-05), ('AFN21551.1', 4.953471590429803e-05), ('CAA74912.2', 5.021707417551813e-05), ('CTA52364.1', 6.113568903631794e-05)]\n"
     ]
    }
   ],
   "source": [
    "# this is the simple way to find the closest matches it loads all proteins into memory\n",
    "# so this is not the best way to do this for large datasets\n",
    "# on very small datasets it is still fine though, and works easily\n",
    "\n",
    "results = et.find_closest_matches_simple(\n",
    "    start_sequence_id=df[\"protein_id_database\"].tolist()[0],\n",
    "    db=eedb.db,\n",
    "    metric=\"cosine\",\n",
    "    n=10,\n",
    ")\n",
    "\n",
    "print(f\"Resulst for index {df['protein_id_database'].tolist()[0]} are:\")\n",
    "print(results)"
   ]
  },
  {
   "cell_type": "markdown",
   "metadata": {},
   "source": [
    "\n",
    "##### Advantages:\n",
    "- Simple implementation\n",
    "- Works well for small datasets\n",
    "- Flexible distance metrics\n",
    "\n",
    "##### Limitations:\n",
    "- Memory intensive for large datasets\n",
    "- Slower for large-scale searches\n",
    "- Not scalable for production use with big databases\n",
    "\n",
    "#### 2. Vector Index Search\n",
    "\n",
    "The vector index method uses Neo4j's native vector indexing capabilities (HNSW algorithm) for efficient similarity search. This is the recommended approach for larger datasets and production use.\n",
    "\n",
    "##### Setting up the Vector Index:\n"
   ]
  },
  {
   "cell_type": "code",
   "execution_count": 10,
   "metadata": {},
   "outputs": [],
   "source": [
    "# the more complex was involes creating a vector index of the embeddings\n",
    "# the vector index math and implementation is provied by neo4j\n",
    "\n",
    "# here we drop the vector index\n",
    "et.drop_vector_index(\n",
    "    db=eedb.db,\n",
    "    index_name=\"vector_index_Protein_embedding\",\n",
    ")\n",
    "# here we create the vector index\n",
    "et.create_embedding_vector_index_neo4j(\n",
    "    db=eedb.db,\n",
    "    index_name=\"vector_index_Protein_embedding\",\n",
    "    similarity_function=\"cosine\",\n",
    "    dimensions=960,\n",
    "    m=16,\n",
    "    ef_construction=512,\n",
    ")"
   ]
  },
  {
   "cell_type": "markdown",
   "metadata": {},
   "source": [
    "\n",
    "##### Parameters Explained:\n",
    "\n",
    "- `dimensions`: The size of your embedding vectors\n",
    "  - Use 960 for ESM-C model\n",
    "  - Use 1280 for ESM-2 model\n",
    "\n",
    "- `m` (default=16): Maximum number of connections per node in the HNSW graph\n",
    "  - Higher values = better accuracy but slower indexing\n",
    "  - Lower values = faster indexing but potentially less accurate\n",
    "  - Recommended range: 5-100\n",
    "\n",
    "- `ef_construction` (default=512): Controls index quality during construction\n",
    "  - Higher values = better quality but slower indexing\n",
    "  - Lower values = faster indexing but potentially lower quality\n",
    "  - Recommended range: 100-1000\n",
    "\n",
    "##### Searching with the Vector Index:\n"
   ]
  },
  {
   "cell_type": "code",
   "execution_count": 11,
   "metadata": {},
   "outputs": [
    {
     "ename": "ClientError",
     "evalue": "{code: Neo.ClientError.Procedure.ProcedureCallFailed} {message: Failed to invoke procedure `db.index.vector.queryNodes`: Caused by: java.lang.IllegalArgumentException: Index query vector has 2560 dimensions, but indexed vectors have 960.}",
     "output_type": "error",
     "traceback": [
      "\u001b[0;31m---------------------------------------------------------------------------\u001b[0m",
      "\u001b[0;31mClientError\u001b[0m                               Traceback (most recent call last)",
      "Cell \u001b[0;32mIn[11], line 2\u001b[0m\n\u001b[1;32m      1\u001b[0m \u001b[38;5;66;03m# here we use the vector index to find the closest matches\u001b[39;00m\n\u001b[0;32m----> 2\u001b[0m results \u001b[38;5;241m=\u001b[39m \u001b[43met\u001b[49m\u001b[38;5;241;43m.\u001b[39;49m\u001b[43mfind_nearest_neighbors_based_on_vector_index\u001b[49m\u001b[43m(\u001b[49m\n\u001b[1;32m      3\u001b[0m \u001b[43m    \u001b[49m\u001b[43mdb\u001b[49m\u001b[38;5;241;43m=\u001b[39;49m\u001b[43meedb\u001b[49m\u001b[38;5;241;43m.\u001b[39;49m\u001b[43mdb\u001b[49m\u001b[43m,\u001b[49m\n\u001b[1;32m      4\u001b[0m \u001b[43m    \u001b[49m\u001b[43mquery_protein_id\u001b[49m\u001b[38;5;241;43m=\u001b[39;49m\u001b[43mdf\u001b[49m\u001b[43m[\u001b[49m\u001b[38;5;124;43m\"\u001b[39;49m\u001b[38;5;124;43mprotein_id_database\u001b[39;49m\u001b[38;5;124;43m\"\u001b[39;49m\u001b[43m]\u001b[49m\u001b[38;5;241;43m.\u001b[39;49m\u001b[43mtolist\u001b[49m\u001b[43m(\u001b[49m\u001b[43m)\u001b[49m\u001b[43m[\u001b[49m\u001b[38;5;241;43m0\u001b[39;49m\u001b[43m]\u001b[49m\u001b[43m,\u001b[49m\n\u001b[1;32m      5\u001b[0m \u001b[43m    \u001b[49m\u001b[43mindex_name\u001b[49m\u001b[38;5;241;43m=\u001b[39;49m\u001b[38;5;124;43m\"\u001b[39;49m\u001b[38;5;124;43mvector_index_Protein_embedding\u001b[39;49m\u001b[38;5;124;43m\"\u001b[39;49m\u001b[43m,\u001b[49m\n\u001b[1;32m      6\u001b[0m \u001b[43m    \u001b[49m\u001b[43mnumber_of_neighbors\u001b[49m\u001b[38;5;241;43m=\u001b[39;49m\u001b[38;5;241;43m10\u001b[39;49m\u001b[43m,\u001b[49m\n\u001b[1;32m      7\u001b[0m \u001b[43m)\u001b[49m\n\u001b[1;32m      9\u001b[0m \u001b[38;5;28mprint\u001b[39m(results)\n",
      "File \u001b[0;32m~/Niklas/pyeed/src/pyeed/analysis/embedding_analysis.py:415\u001b[0m, in \u001b[0;36mEmbeddingTool.find_nearest_neighbors_based_on_vector_index\u001b[0;34m(self, db, query_protein_id, index_name, number_of_neighbors)\u001b[0m\n\u001b[1;32m    406\u001b[0m     logger\u001b[38;5;241m.\u001b[39minfo(\u001b[38;5;124mf\u001b[39m\u001b[38;5;124m\"\u001b[39m\u001b[38;5;124mIndex \u001b[39m\u001b[38;5;132;01m{\u001b[39;00mindex_name\u001b[38;5;132;01m}\u001b[39;00m\u001b[38;5;124m is populated, finding nearest neighbors\u001b[39m\u001b[38;5;124m\"\u001b[39m)\n\u001b[1;32m    408\u001b[0m query_find_nearest_neighbors \u001b[38;5;241m=\u001b[39m \u001b[38;5;124mf\u001b[39m\u001b[38;5;124m\"\"\"\u001b[39m\n\u001b[1;32m    409\u001b[0m \u001b[38;5;124mMATCH (source:Protein \u001b[39m\u001b[38;5;130;01m{{\u001b[39;00m\u001b[38;5;124maccession_id: \u001b[39m\u001b[38;5;124m'\u001b[39m\u001b[38;5;132;01m{\u001b[39;00mquery_protein_id\u001b[38;5;132;01m}\u001b[39;00m\u001b[38;5;124m'\u001b[39m\u001b[38;5;130;01m}}\u001b[39;00m\u001b[38;5;124m)\u001b[39m\n\u001b[1;32m    410\u001b[0m \u001b[38;5;124mWITH source.embedding AS embedding\u001b[39m\n\u001b[0;32m   (...)\u001b[0m\n\u001b[1;32m    413\u001b[0m \u001b[38;5;124mRETURN fprotein.accession_id, score\u001b[39m\n\u001b[1;32m    414\u001b[0m \u001b[38;5;124m\u001b[39m\u001b[38;5;124m\"\"\"\u001b[39m\n\u001b[0;32m--> 415\u001b[0m results \u001b[38;5;241m=\u001b[39m \u001b[43mdb\u001b[49m\u001b[38;5;241;43m.\u001b[39;49m\u001b[43mexecute_read\u001b[49m\u001b[43m(\u001b[49m\u001b[43mquery_find_nearest_neighbors\u001b[49m\u001b[43m)\u001b[49m\n\u001b[1;32m    416\u001b[0m neighbors: \u001b[38;5;28mlist\u001b[39m[\u001b[38;5;28mtuple\u001b[39m[\u001b[38;5;28mstr\u001b[39m, \u001b[38;5;28mfloat\u001b[39m]] \u001b[38;5;241m=\u001b[39m [\n\u001b[1;32m    417\u001b[0m     (\u001b[38;5;28mstr\u001b[39m(record[\u001b[38;5;124m\"\u001b[39m\u001b[38;5;124mfprotein.accession_id\u001b[39m\u001b[38;5;124m\"\u001b[39m]), \u001b[38;5;28mfloat\u001b[39m(record[\u001b[38;5;124m\"\u001b[39m\u001b[38;5;124mscore\u001b[39m\u001b[38;5;124m\"\u001b[39m]))\n\u001b[1;32m    418\u001b[0m     \u001b[38;5;28;01mfor\u001b[39;00m record \u001b[38;5;129;01min\u001b[39;00m results\n\u001b[1;32m    419\u001b[0m ]\n\u001b[1;32m    420\u001b[0m \u001b[38;5;28;01mreturn\u001b[39;00m neighbors\n",
      "File \u001b[0;32m~/Niklas/pyeed/src/pyeed/dbconnect.py:45\u001b[0m, in \u001b[0;36mDatabaseConnector.execute_read\u001b[0;34m(self, query, parameters)\u001b[0m\n\u001b[1;32m     34\u001b[0m \u001b[38;5;250m\u001b[39m\u001b[38;5;124;03m\"\"\"\u001b[39;00m\n\u001b[1;32m     35\u001b[0m \u001b[38;5;124;03mExecutes a read (MATCH) query using the Neo4j driver.\u001b[39;00m\n\u001b[1;32m     36\u001b[0m \n\u001b[0;32m   (...)\u001b[0m\n\u001b[1;32m     42\u001b[0m \u001b[38;5;124;03m    list[dict]: The result of the query as a list of dictionaries.\u001b[39;00m\n\u001b[1;32m     43\u001b[0m \u001b[38;5;124;03m\"\"\"\u001b[39;00m\n\u001b[1;32m     44\u001b[0m \u001b[38;5;28;01mwith\u001b[39;00m \u001b[38;5;28mself\u001b[39m\u001b[38;5;241m.\u001b[39mdriver\u001b[38;5;241m.\u001b[39msession() \u001b[38;5;28;01mas\u001b[39;00m session:\n\u001b[0;32m---> 45\u001b[0m     \u001b[38;5;28;01mreturn\u001b[39;00m \u001b[43msession\u001b[49m\u001b[38;5;241;43m.\u001b[39;49m\u001b[43mexecute_read\u001b[49m\u001b[43m(\u001b[49m\u001b[38;5;28;43mself\u001b[39;49m\u001b[38;5;241;43m.\u001b[39;49m\u001b[43m_run_query\u001b[49m\u001b[43m,\u001b[49m\u001b[43m \u001b[49m\u001b[43mquery\u001b[49m\u001b[43m,\u001b[49m\u001b[43m \u001b[49m\u001b[43mparameters\u001b[49m\u001b[43m)\u001b[49m\n",
      "File \u001b[0;32m~/anaconda3/envs/pyeed_niklas_env/lib/python3.10/site-packages/neo4j/_sync/work/session.py:661\u001b[0m, in \u001b[0;36mSession.execute_read\u001b[0;34m(self, transaction_function, *args, **kwargs)\u001b[0m\n\u001b[1;32m    592\u001b[0m \u001b[38;5;129m@NonConcurrentMethodChecker\u001b[39m\u001b[38;5;241m.\u001b[39mnon_concurrent_method\n\u001b[1;32m    593\u001b[0m \u001b[38;5;28;01mdef\u001b[39;00m\u001b[38;5;250m \u001b[39m\u001b[38;5;21mexecute_read\u001b[39m(\n\u001b[1;32m    594\u001b[0m     \u001b[38;5;28mself\u001b[39m,\n\u001b[0;32m   (...)\u001b[0m\n\u001b[1;32m    598\u001b[0m     \u001b[38;5;241m*\u001b[39margs: _P\u001b[38;5;241m.\u001b[39margs, \u001b[38;5;241m*\u001b[39m\u001b[38;5;241m*\u001b[39mkwargs: _P\u001b[38;5;241m.\u001b[39mkwargs\n\u001b[1;32m    599\u001b[0m ) \u001b[38;5;241m-\u001b[39m\u001b[38;5;241m>\u001b[39m _R:\n\u001b[1;32m    600\u001b[0m \u001b[38;5;250m    \u001b[39m\u001b[38;5;124;03m\"\"\"Execute a unit of work in a managed read transaction.\u001b[39;00m\n\u001b[1;32m    601\u001b[0m \n\u001b[1;32m    602\u001b[0m \u001b[38;5;124;03m    .. note::\u001b[39;00m\n\u001b[0;32m   (...)\u001b[0m\n\u001b[1;32m    659\u001b[0m \u001b[38;5;124;03m    .. versionadded:: 5.0\u001b[39;00m\n\u001b[1;32m    660\u001b[0m \u001b[38;5;124;03m    \"\"\"\u001b[39;00m\n\u001b[0;32m--> 661\u001b[0m     \u001b[38;5;28;01mreturn\u001b[39;00m \u001b[38;5;28;43mself\u001b[39;49m\u001b[38;5;241;43m.\u001b[39;49m\u001b[43m_run_transaction\u001b[49m\u001b[43m(\u001b[49m\n\u001b[1;32m    662\u001b[0m \u001b[43m        \u001b[49m\u001b[43mREAD_ACCESS\u001b[49m\u001b[43m,\u001b[49m\u001b[43m \u001b[49m\u001b[43mTelemetryAPI\u001b[49m\u001b[38;5;241;43m.\u001b[39;49m\u001b[43mTX_FUNC\u001b[49m\u001b[43m,\u001b[49m\n\u001b[1;32m    663\u001b[0m \u001b[43m        \u001b[49m\u001b[43mtransaction_function\u001b[49m\u001b[43m,\u001b[49m\u001b[43m \u001b[49m\u001b[43margs\u001b[49m\u001b[43m,\u001b[49m\u001b[43m \u001b[49m\u001b[43mkwargs\u001b[49m\n\u001b[1;32m    664\u001b[0m \u001b[43m    \u001b[49m\u001b[43m)\u001b[49m\n",
      "File \u001b[0;32m~/anaconda3/envs/pyeed_niklas_env/lib/python3.10/site-packages/neo4j/_sync/work/session.py:552\u001b[0m, in \u001b[0;36mSession._run_transaction\u001b[0;34m(self, access_mode, api, transaction_function, args, kwargs)\u001b[0m\n\u001b[1;32m    550\u001b[0m tx \u001b[38;5;241m=\u001b[39m \u001b[38;5;28mself\u001b[39m\u001b[38;5;241m.\u001b[39m_transaction\n\u001b[1;32m    551\u001b[0m \u001b[38;5;28;01mtry\u001b[39;00m:\n\u001b[0;32m--> 552\u001b[0m     result \u001b[38;5;241m=\u001b[39m \u001b[43mtransaction_function\u001b[49m\u001b[43m(\u001b[49m\u001b[43mtx\u001b[49m\u001b[43m,\u001b[49m\u001b[43m \u001b[49m\u001b[38;5;241;43m*\u001b[39;49m\u001b[43margs\u001b[49m\u001b[43m,\u001b[49m\u001b[43m \u001b[49m\u001b[38;5;241;43m*\u001b[39;49m\u001b[38;5;241;43m*\u001b[39;49m\u001b[43mkwargs\u001b[49m\u001b[43m)\u001b[49m\n\u001b[1;32m    553\u001b[0m \u001b[38;5;28;01mexcept\u001b[39;00m asyncio\u001b[38;5;241m.\u001b[39mCancelledError:\n\u001b[1;32m    554\u001b[0m     \u001b[38;5;66;03m# if cancellation callback has not been called yet:\u001b[39;00m\n\u001b[1;32m    555\u001b[0m     \u001b[38;5;28;01mif\u001b[39;00m \u001b[38;5;28mself\u001b[39m\u001b[38;5;241m.\u001b[39m_transaction \u001b[38;5;129;01mis\u001b[39;00m \u001b[38;5;129;01mnot\u001b[39;00m \u001b[38;5;28;01mNone\u001b[39;00m:\n",
      "File \u001b[0;32m~/Niklas/pyeed/src/pyeed/dbconnect.py:222\u001b[0m, in \u001b[0;36mDatabaseConnector._run_query\u001b[0;34m(tx, query, parameters)\u001b[0m\n\u001b[1;32m    220\u001b[0m \u001b[38;5;250m\u001b[39m\u001b[38;5;124;03m\"\"\"Executes a Cypher query in the provided transaction.\"\"\"\u001b[39;00m\n\u001b[1;32m    221\u001b[0m result \u001b[38;5;241m=\u001b[39m tx\u001b[38;5;241m.\u001b[39mrun(query, parameters)\n\u001b[0;32m--> 222\u001b[0m \u001b[38;5;28;01mreturn\u001b[39;00m [record\u001b[38;5;241m.\u001b[39mdata() \u001b[38;5;28;01mfor\u001b[39;00m record \u001b[38;5;129;01min\u001b[39;00m result]\n",
      "File \u001b[0;32m~/Niklas/pyeed/src/pyeed/dbconnect.py:222\u001b[0m, in \u001b[0;36m<listcomp>\u001b[0;34m(.0)\u001b[0m\n\u001b[1;32m    220\u001b[0m \u001b[38;5;250m\u001b[39m\u001b[38;5;124;03m\"\"\"Executes a Cypher query in the provided transaction.\"\"\"\u001b[39;00m\n\u001b[1;32m    221\u001b[0m result \u001b[38;5;241m=\u001b[39m tx\u001b[38;5;241m.\u001b[39mrun(query, parameters)\n\u001b[0;32m--> 222\u001b[0m \u001b[38;5;28;01mreturn\u001b[39;00m [record\u001b[38;5;241m.\u001b[39mdata() \u001b[38;5;28;01mfor\u001b[39;00m record \u001b[38;5;129;01min\u001b[39;00m result]\n",
      "File \u001b[0;32m~/anaconda3/envs/pyeed_niklas_env/lib/python3.10/site-packages/neo4j/_sync/work/result.py:270\u001b[0m, in \u001b[0;36mResult.__iter__\u001b[0;34m(self)\u001b[0m\n\u001b[1;32m    268\u001b[0m     \u001b[38;5;28;01myield\u001b[39;00m \u001b[38;5;28mself\u001b[39m\u001b[38;5;241m.\u001b[39m_record_buffer\u001b[38;5;241m.\u001b[39mpopleft()\n\u001b[1;32m    269\u001b[0m \u001b[38;5;28;01melif\u001b[39;00m \u001b[38;5;28mself\u001b[39m\u001b[38;5;241m.\u001b[39m_streaming:\n\u001b[0;32m--> 270\u001b[0m     \u001b[38;5;28;43mself\u001b[39;49m\u001b[38;5;241;43m.\u001b[39;49m\u001b[43m_connection\u001b[49m\u001b[38;5;241;43m.\u001b[39;49m\u001b[43mfetch_message\u001b[49m\u001b[43m(\u001b[49m\u001b[43m)\u001b[49m\n\u001b[1;32m    271\u001b[0m \u001b[38;5;28;01melif\u001b[39;00m \u001b[38;5;28mself\u001b[39m\u001b[38;5;241m.\u001b[39m_discarding:\n\u001b[1;32m    272\u001b[0m     \u001b[38;5;28mself\u001b[39m\u001b[38;5;241m.\u001b[39m_discard()\n",
      "File \u001b[0;32m~/anaconda3/envs/pyeed_niklas_env/lib/python3.10/site-packages/neo4j/_sync/io/_common.py:178\u001b[0m, in \u001b[0;36mConnectionErrorHandler.__getattr__.<locals>.outer.<locals>.inner\u001b[0;34m(*args, **kwargs)\u001b[0m\n\u001b[1;32m    176\u001b[0m \u001b[38;5;28;01mdef\u001b[39;00m\u001b[38;5;250m \u001b[39m\u001b[38;5;21minner\u001b[39m(\u001b[38;5;241m*\u001b[39margs, \u001b[38;5;241m*\u001b[39m\u001b[38;5;241m*\u001b[39mkwargs):\n\u001b[1;32m    177\u001b[0m     \u001b[38;5;28;01mtry\u001b[39;00m:\n\u001b[0;32m--> 178\u001b[0m         \u001b[43mfunc\u001b[49m\u001b[43m(\u001b[49m\u001b[38;5;241;43m*\u001b[39;49m\u001b[43margs\u001b[49m\u001b[43m,\u001b[49m\u001b[43m \u001b[49m\u001b[38;5;241;43m*\u001b[39;49m\u001b[38;5;241;43m*\u001b[39;49m\u001b[43mkwargs\u001b[49m\u001b[43m)\u001b[49m\n\u001b[1;32m    179\u001b[0m     \u001b[38;5;28;01mexcept\u001b[39;00m (Neo4jError, ServiceUnavailable, SessionExpired) \u001b[38;5;28;01mas\u001b[39;00m exc:\n\u001b[1;32m    180\u001b[0m         \u001b[38;5;28;01massert\u001b[39;00m \u001b[38;5;129;01mnot\u001b[39;00m asyncio\u001b[38;5;241m.\u001b[39miscoroutinefunction(\u001b[38;5;28mself\u001b[39m\u001b[38;5;241m.\u001b[39m__on_error)\n",
      "File \u001b[0;32m~/anaconda3/envs/pyeed_niklas_env/lib/python3.10/site-packages/neo4j/_sync/io/_bolt.py:850\u001b[0m, in \u001b[0;36mBolt.fetch_message\u001b[0;34m(self)\u001b[0m\n\u001b[1;32m    846\u001b[0m \u001b[38;5;66;03m# Receive exactly one message\u001b[39;00m\n\u001b[1;32m    847\u001b[0m tag, fields \u001b[38;5;241m=\u001b[39m \u001b[38;5;28mself\u001b[39m\u001b[38;5;241m.\u001b[39minbox\u001b[38;5;241m.\u001b[39mpop(\n\u001b[1;32m    848\u001b[0m     hydration_hooks\u001b[38;5;241m=\u001b[39m\u001b[38;5;28mself\u001b[39m\u001b[38;5;241m.\u001b[39mresponses[\u001b[38;5;241m0\u001b[39m]\u001b[38;5;241m.\u001b[39mhydration_hooks\n\u001b[1;32m    849\u001b[0m )\n\u001b[0;32m--> 850\u001b[0m res \u001b[38;5;241m=\u001b[39m \u001b[38;5;28;43mself\u001b[39;49m\u001b[38;5;241;43m.\u001b[39;49m\u001b[43m_process_message\u001b[49m\u001b[43m(\u001b[49m\u001b[43mtag\u001b[49m\u001b[43m,\u001b[49m\u001b[43m \u001b[49m\u001b[43mfields\u001b[49m\u001b[43m)\u001b[49m\n\u001b[1;32m    851\u001b[0m \u001b[38;5;28mself\u001b[39m\u001b[38;5;241m.\u001b[39midle_since \u001b[38;5;241m=\u001b[39m monotonic()\n\u001b[1;32m    852\u001b[0m \u001b[38;5;28;01mreturn\u001b[39;00m res\n",
      "File \u001b[0;32m~/anaconda3/envs/pyeed_niklas_env/lib/python3.10/site-packages/neo4j/_sync/io/_bolt5.py:369\u001b[0m, in \u001b[0;36mBolt5x0._process_message\u001b[0;34m(self, tag, fields)\u001b[0m\n\u001b[1;32m    367\u001b[0m \u001b[38;5;28mself\u001b[39m\u001b[38;5;241m.\u001b[39m_server_state_manager\u001b[38;5;241m.\u001b[39mstate \u001b[38;5;241m=\u001b[39m \u001b[38;5;28mself\u001b[39m\u001b[38;5;241m.\u001b[39mbolt_states\u001b[38;5;241m.\u001b[39mFAILED\n\u001b[1;32m    368\u001b[0m \u001b[38;5;28;01mtry\u001b[39;00m:\n\u001b[0;32m--> 369\u001b[0m     \u001b[43mresponse\u001b[49m\u001b[38;5;241;43m.\u001b[39;49m\u001b[43mon_failure\u001b[49m\u001b[43m(\u001b[49m\u001b[43msummary_metadata\u001b[49m\u001b[43m \u001b[49m\u001b[38;5;129;43;01mor\u001b[39;49;00m\u001b[43m \u001b[49m\u001b[43m{\u001b[49m\u001b[43m}\u001b[49m\u001b[43m)\u001b[49m\n\u001b[1;32m    370\u001b[0m \u001b[38;5;28;01mexcept\u001b[39;00m (ServiceUnavailable, DatabaseUnavailable):\n\u001b[1;32m    371\u001b[0m     \u001b[38;5;28;01mif\u001b[39;00m \u001b[38;5;28mself\u001b[39m\u001b[38;5;241m.\u001b[39mpool:\n",
      "File \u001b[0;32m~/anaconda3/envs/pyeed_niklas_env/lib/python3.10/site-packages/neo4j/_sync/io/_common.py:245\u001b[0m, in \u001b[0;36mResponse.on_failure\u001b[0;34m(self, metadata)\u001b[0m\n\u001b[1;32m    243\u001b[0m handler \u001b[38;5;241m=\u001b[39m \u001b[38;5;28mself\u001b[39m\u001b[38;5;241m.\u001b[39mhandlers\u001b[38;5;241m.\u001b[39mget(\u001b[38;5;124m\"\u001b[39m\u001b[38;5;124mon_summary\u001b[39m\u001b[38;5;124m\"\u001b[39m)\n\u001b[1;32m    244\u001b[0m Util\u001b[38;5;241m.\u001b[39mcallback(handler)\n\u001b[0;32m--> 245\u001b[0m \u001b[38;5;28;01mraise\u001b[39;00m Neo4jError\u001b[38;5;241m.\u001b[39mhydrate(\u001b[38;5;241m*\u001b[39m\u001b[38;5;241m*\u001b[39mmetadata)\n",
      "\u001b[0;31mClientError\u001b[0m: {code: Neo.ClientError.Procedure.ProcedureCallFailed} {message: Failed to invoke procedure `db.index.vector.queryNodes`: Caused by: java.lang.IllegalArgumentException: Index query vector has 2560 dimensions, but indexed vectors have 960.}"
     ]
    }
   ],
   "source": [
    "# here we use the vector index to find the closest matches\n",
    "results = et.find_nearest_neighbors_based_on_vector_index(\n",
    "    db=eedb.db,\n",
    "    query_protein_id=df[\"protein_id_database\"].tolist()[0],\n",
    "    index_name=\"vector_index_Protein_embedding\",\n",
    "    number_of_neighbors=10,\n",
    ")\n",
    "\n",
    "print(results)"
   ]
  },
  {
   "cell_type": "markdown",
   "metadata": {},
   "source": [
    "\n",
    "##### Advantages of Vector Index:\n",
    "- Highly efficient for large datasets\n",
    "- Optimized for high-dimensional data\n",
    "- Scales well with database size\n",
    "- Maintains good performance with growing data\n",
    "\n",
    "##### Important Notes:\n",
    "\n",
    "1. The vector index needs time to populate after creation. The code automatically waits and shows a progress bar during population.\n",
    "\n",
    "2. The similarity scores returned by the vector index search are:\n",
    "   - For cosine similarity: Range [-1 to 1], where 1 is most similar\n",
    "   - For euclidean similarity: Lower values indicate more similarity\n",
    "\n",
    "3. The index is persistent in the database and only needs to be created once, unless you want to change its parameters.\n",
    "\n",
    "4. Memory usage is optimized as the index handles the heavy lifting instead of loading all embeddings into memory.\n",
    "\n",
    "For most production use cases, the vector index method is recommended as it provides the best balance of performance and scalability."
   ]
  }
 ],
 "metadata": {
  "kernelspec": {
   "display_name": "pyeed_niklas_env",
   "language": "python",
   "name": "python3"
  },
  "language_info": {
   "codemirror_mode": {
    "name": "ipython",
    "version": 3
   },
   "file_extension": ".py",
   "mimetype": "text/x-python",
   "name": "python",
   "nbconvert_exporter": "python",
   "pygments_lexer": "ipython3",
   "version": "3.10.16"
  }
 },
 "nbformat": 4,
 "nbformat_minor": 2
}
