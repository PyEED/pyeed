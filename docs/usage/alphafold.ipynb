{
 "cells": [
  {
   "cell_type": "markdown",
   "metadata": {},
   "source": [
    "# AlphaFold Usage Example\n",
    "\n",
    "This notebook demonstrates how to use AlphaFold through the `pyeed` package interface.\n",
    "\n",
    "## Setup and Imports"
   ]
  },
  {
   "cell_type": "code",
   "execution_count": 1,
   "metadata": {},
   "outputs": [],
   "source": [
    "import os\n",
    "\n",
    "import logging\n",
    "from pyeed.tools.alphafold2 import AlphaFoldRunner"
   ]
  },
  {
   "cell_type": "code",
   "execution_count": 2,
   "metadata": {},
   "outputs": [],
   "source": [
    "logging.basicConfig(level=logging.INFO, format='%(asctime)s - %(levelname)s - %(message)s')\n",
    "LOGGER = logging.getLogger(__name__)"
   ]
  },
  {
   "cell_type": "markdown",
   "metadata": {},
   "source": [
    "Configures logging to display timestamped INFO-level messages.\n",
    "\n",
    "## Input Preparation"
   ]
  },
  {
   "cell_type": "code",
   "execution_count": 3,
   "metadata": {},
   "outputs": [],
   "source": [
    "id = 'AAP20891.1'\n",
    "sequence = 'MSIQHFRVALIPFFAAFCLPVFAHPETLVKVKDAEDQLGARVGYIELDLNSGKILESFRPEERFPMMSTFKVLLCGAVLSRVDAGQEQLGRRIHYSQNDLVEYSPVTEKHLTDGMTVRELCSAAITMSDNTAANLLLTTIGGPKELTAFLHNMGDHVTRLDRWEPELNEAIPNDERDTTMPAAMATTLRKLLTGELLTLASRQQLIDWMEADKVAGPLLRSALPAGWFIADKSGAGERGSRGIIAALGPDGKPSRIVVIYTTGSQATMDERNRQIAEIGASLIKHW'"
   ]
  },
  {
   "cell_type": "code",
   "execution_count": 4,
   "metadata": {},
   "outputs": [
    {
     "data": {
      "text/plain": [
       "286"
      ]
     },
     "execution_count": 4,
     "metadata": {},
     "output_type": "execute_result"
    }
   ],
   "source": [
    "len(sequence)"
   ]
  },
  {
   "cell_type": "markdown",
   "metadata": {},
   "source": [
    "Verifies the length of the input sequence (286 amino acids).\n",
    "\n",
    "## AlphaFold Configuration"
   ]
  },
  {
   "cell_type": "code",
   "execution_count": 5,
   "metadata": {},
   "outputs": [],
   "source": [
    "data_dir = '/media/database/alphafold' # the path to the downloaded alphafold data\n",
    "output_dir = os.path.join(os.path.dirname(os.getcwd()), \"resources\", \"alphafold\", \"output\")"
   ]
  },
  {
   "cell_type": "markdown",
   "metadata": {},
   "source": [
    "Sets up the paths for AlphaFold database and output directory.\n"
   ]
  },
  {
   "cell_type": "code",
   "execution_count": 6,
   "metadata": {},
   "outputs": [
    {
     "name": "stderr",
     "output_type": "stream",
     "text": [
      "2025-02-09 12:18:57,218 - INFO - GPU detected. AlphaFold will run on GPU.\n"
     ]
    }
   ],
   "source": [
    "alphafold_runner = AlphaFoldRunner(data_dir, output_dir)"
   ]
  },
  {
   "cell_type": "markdown",
   "metadata": {},
   "source": [
    "Initializes the AlphaFold runner with the specified directories. The system detected a GPU for computation.\n",
    "\n",
    "## Execution\n"
   ]
  },
  {
   "cell_type": "code",
   "execution_count": 7,
   "metadata": {},
   "outputs": [
    {
     "name": "stderr",
     "output_type": "stream",
     "text": [
      "2025-02-09 12:18:57,226 - INFO - Created FASTA file at: /home/nab/Niklas/pyeed/docs/resources/alphafold/output/AAP20891_1.fasta\n",
      "2025-02-09 12:18:57,226 - INFO - Running AlphaFold with command: source ~/anaconda3/etc/profile.d/conda.sh && conda activate alphafold_env && python /home/nab/Niklas/pyeed/src/pyeed/tools/resources/alphafold/docker_run.py --fasta_paths=/home/nab/Niklas/pyeed/docs/resources/alphafold/output/AAP20891_1.fasta --max_template_date=2022-01-01 --data_dir=/media/database/alphafold --output_dir=/home/nab/Niklas/pyeed/docs/resources/alphafold/output\n",
      "2025-02-09 12:56:43,434 - ERROR - AlphaFold stderr:\n",
      "I0209 12:18:57.794830 133202111862592 docker_run.py:143] Mounting /home/nab/Niklas/pyeed/docs/resources/alphafold/output -> /mnt/fasta_path_0\n",
      "I0209 12:18:57.794989 133202111862592 docker_run.py:143] Mounting /media/database/alphafold/uniref90 -> /mnt/uniref90_database_path\n",
      "I0209 12:18:57.795081 133202111862592 docker_run.py:143] Mounting /media/database/alphafold/mgnify -> /mnt/mgnify_database_path\n",
      "I0209 12:18:57.795150 133202111862592 docker_run.py:143] Mounting /media/database/alphafold -> /mnt/data_dir\n",
      "I0209 12:18:57.795215 133202111862592 docker_run.py:143] Mounting /media/database/alphafold/pdb_mmcif/mmcif_files -> /mnt/template_mmcif_dir\n",
      "I0209 12:18:57.795280 133202111862592 docker_run.py:143] Mounting /media/database/alphafold/pdb_mmcif -> /mnt/obsolete_pdbs_path\n",
      "I0209 12:18:57.795432 133202111862592 docker_run.py:143] Mounting /media/database/alphafold/pdb70 -> /mnt/pdb70_database_path\n",
      "I0209 12:18:57.795514 133202111862592 docker_run.py:143] Mounting /media/database/alphafold/uniref30 -> /mnt/uniref30_database_path\n",
      "I0209 12:18:57.795584 133202111862592 docker_run.py:143] Mounting /media/database/alphafold/bfd -> /mnt/bfd_database_path\n",
      "I0209 12:18:58.210450 133202111862592 docker_run.py:297] /bin/bash: /opt/conda/lib/libtinfo.so.6: no version information available (required by /bin/bash)\n",
      "I0209 12:19:01.228823 133202111862592 docker_run.py:297] I0209 12:19:01.227992 128704331829888 templates.py:858] Using precomputed obsolete pdbs /mnt/obsolete_pdbs_path/obsolete.dat.\n",
      "I0209 12:19:01.773952 133202111862592 docker_run.py:297] I0209 12:19:01.772986 128704331829888 xla_bridge.py:863] Unable to initialize backend 'rocm': NOT_FOUND: Could not find registered platform with name: \"rocm\". Available platform names are: CUDA\n",
      "I0209 12:19:01.774687 133202111862592 docker_run.py:297] I0209 12:19:01.774202 128704331829888 xla_bridge.py:863] Unable to initialize backend 'tpu': INTERNAL: Failed to open libtpu.so: libtpu.so: cannot open shared object file: No such file or directory\n",
      "I0209 12:19:07.194021 133202111862592 docker_run.py:297] I0209 12:19:07.192821 128704331829888 run_alphafold.py:524] Have 5 models: ['model_1_pred_0', 'model_2_pred_0', 'model_3_pred_0', 'model_4_pred_0', 'model_5_pred_0']\n",
      "I0209 12:19:07.194216 133202111862592 docker_run.py:297] I0209 12:19:07.193000 128704331829888 run_alphafold.py:538] Using random seed 1176757644469293568 for the data pipeline\n",
      "I0209 12:19:07.194303 133202111862592 docker_run.py:297] I0209 12:19:07.193229 128704331829888 run_alphafold.py:245] Predicting AAP20891_1\n",
      "I0209 12:19:07.194409 133202111862592 docker_run.py:297] I0209 12:19:07.193762 128704331829888 jackhmmer.py:133] Launching subprocess \"/usr/bin/jackhmmer -o /dev/null -A /tmp/tmpdxix475j/output.sto --noali --F1 0.0005 --F2 5e-05 --F3 5e-07 --incE 0.0001 -E 0.0001 --cpu 8 -N 1 /mnt/fasta_path_0/AAP20891_1.fasta /mnt/uniref90_database_path/uniref90.fasta\"\n",
      "I0209 12:19:07.196226 133202111862592 docker_run.py:297] I0209 12:19:07.195944 128704331829888 utils.py:36] Started Jackhmmer (uniref90.fasta) query\n",
      "I0209 12:26:52.677268 133202111862592 docker_run.py:297] I0209 12:26:52.675808 128704331829888 utils.py:40] Finished Jackhmmer (uniref90.fasta) query in 465.480 seconds\n",
      "I0209 12:26:52.894916 133202111862592 docker_run.py:297] I0209 12:26:52.894393 128704331829888 jackhmmer.py:133] Launching subprocess \"/usr/bin/jackhmmer -o /dev/null -A /tmp/tmptqe7udq4/output.sto --noali --F1 0.0005 --F2 5e-05 --F3 5e-07 --incE 0.0001 -E 0.0001 --cpu 8 -N 1 /mnt/fasta_path_0/AAP20891_1.fasta /mnt/mgnify_database_path/mgy_clusters_2022_05.fa\"\n",
      "I0209 12:26:52.895838 133202111862592 docker_run.py:297] I0209 12:26:52.895566 128704331829888 utils.py:36] Started Jackhmmer (mgy_clusters_2022_05.fa) query\n",
      "I0209 12:39:31.579277 133202111862592 docker_run.py:297] I0209 12:39:31.578708 128704331829888 utils.py:40] Finished Jackhmmer (mgy_clusters_2022_05.fa) query in 758.683 seconds\n",
      "I0209 12:39:33.533422 133202111862592 docker_run.py:297] I0209 12:39:33.532869 128704331829888 hhsearch.py:85] Launching subprocess \"/usr/bin/hhsearch -i /tmp/tmpo0o6h3es/query.a3m -o /tmp/tmpo0o6h3es/output.hhr -maxseq 1000000 -d /mnt/pdb70_database_path/pdb70\"\n",
      "I0209 12:39:33.534581 133202111862592 docker_run.py:297] I0209 12:39:33.534294 128704331829888 utils.py:36] Started HHsearch query\n",
      "I0209 12:40:02.849414 133202111862592 docker_run.py:297] I0209 12:40:02.848684 128704331829888 utils.py:40] Finished HHsearch query in 29.314 seconds\n",
      "I0209 12:40:03.607998 133202111862592 docker_run.py:297] I0209 12:40:03.607374 128704331829888 hhblits.py:128] Launching subprocess \"/usr/bin/hhblits -i /mnt/fasta_path_0/AAP20891_1.fasta -cpu 4 -oa3m /tmp/tmpde8m8uej/output.a3m -o /dev/null -n 3 -e 0.001 -maxseq 1000000 -realign_max 100000 -maxfilt 100000 -min_prefilter_hits 1000 -d /mnt/bfd_database_path/bfd_metaclust_clu_complete_id30_c90_final_seq.sorted_opt -d /mnt/uniref30_database_path/UniRef30_2021_03\"\n",
      "I0209 12:40:03.609346 133202111862592 docker_run.py:297] I0209 12:40:03.608979 128704331829888 utils.py:36] Started HHblits query\n",
      "I0209 12:48:30.964893 133202111862592 docker_run.py:297] I0209 12:48:30.930698 128704331829888 utils.py:40] Finished HHblits query in 507.321 seconds\n",
      "I0209 12:48:31.006231 133202111862592 docker_run.py:297] I0209 12:48:31.004925 128704331829888 templates.py:879] Searching for template for: MSIQHFRVALIPFFAAFCLPVFAHPETLVKVKDAEDQLGARVGYIELDLNSGKILESFRPEERFPMMSTFKVLLCGAVLSRVDAGQEQLGRRIHYSQNDLVEYSPVTEKHLTDGMTVRELCSAAITMSDNTAANLLLTTIGGPKELTAFLHNMGDHVTRLDRWEPELNEAIPNDERDTTMPAAMATTLRKLLTGELLTLASRQQLIDWMEADKVAGPLLRSALPAGWFIADKSGAGERGSRGIIAALGPDGKPSRIVVIYTTGSQATMDERNRQIAEIGASLIKHW\n",
      "I0209 12:48:31.187149 133202111862592 docker_run.py:297] I0209 12:48:31.186135 128704331829888 templates.py:267] Found an exact template match 4zj1_A.\n",
      "I0209 12:48:31.619367 133202111862592 docker_run.py:297] I0209 12:48:31.618804 128704331829888 templates.py:267] Found an exact template match 2p74_B.\n",
      "I0209 12:48:33.195153 133202111862592 docker_run.py:297] I0209 12:48:33.194629 128704331829888 templates.py:267] Found an exact template match 4bd0_A.\n",
      "I0209 12:48:33.352998 133202111862592 docker_run.py:297] I0209 12:48:33.352648 128704331829888 templates.py:267] Found an exact template match 6nfd_A.\n",
      "I0209 12:48:33.653642 133202111862592 docker_run.py:297] I0209 12:48:33.653137 128704331829888 templates.py:267] Found an exact template match 1m40_A.\n",
      "I0209 12:48:33.813061 133202111862592 docker_run.py:297] I0209 12:48:33.812606 128704331829888 templates.py:267] Found an exact template match 1n9b_A.\n",
      "I0209 12:48:34.047026 133202111862592 docker_run.py:297] I0209 12:48:34.046073 128704331829888 templates.py:267] Found an exact template match 2b5r_B.\n",
      "I0209 12:48:34.474168 133202111862592 docker_run.py:297] I0209 12:48:34.473685 128704331829888 templates.py:267] Found an exact template match 4ua6_A.\n",
      "I0209 12:48:34.564374 133202111862592 docker_run.py:297] I0209 12:48:34.564018 128704331829888 templates.py:267] Found an exact template match 1g6a_A.\n",
      "I0209 12:48:34.831888 133202111862592 docker_run.py:297] I0209 12:48:34.831412 128704331829888 templates.py:267] Found an exact template match 6afo_B.\n",
      "I0209 12:48:35.275108 133202111862592 docker_run.py:297] I0209 12:48:35.274749 128704331829888 templates.py:267] Found an exact template match 6td0_A.\n",
      "I0209 12:48:35.447641 133202111862592 docker_run.py:297] I0209 12:48:35.446554 128704331829888 templates.py:267] Found an exact template match 1o7e_B.\n",
      "I0209 12:48:35.686393 133202111862592 docker_run.py:297] I0209 12:48:35.685771 128704331829888 templates.py:267] Found an exact template match 6niq_A.\n",
      "I0209 12:48:35.832004 133202111862592 docker_run.py:297] I0209 12:48:35.831659 128704331829888 templates.py:267] Found an exact template match 4mbh_A.\n",
      "I0209 12:48:36.200996 133202111862592 docker_run.py:297] I0209 12:48:36.200606 128704331829888 templates.py:267] Found an exact template match 5ne2_B.\n",
      "I0209 12:48:36.430038 133202111862592 docker_run.py:297] I0209 12:48:36.427193 128704331829888 templates.py:267] Found an exact template match 6qwb_A.\n",
      "I0209 12:48:36.576209 133202111862592 docker_run.py:297] I0209 12:48:36.575323 128704331829888 templates.py:267] Found an exact template match 6c7a_A.\n",
      "I0209 12:48:36.806448 133202111862592 docker_run.py:297] I0209 12:48:36.805810 128704331829888 templates.py:286] Found a fuzzy sequence-only match 6dmh_A.\n",
      "I0209 12:48:37.264686 133202111862592 docker_run.py:297] I0209 12:48:37.264108 128704331829888 templates.py:267] Found an exact template match 4c75_D.\n",
      "I0209 12:48:37.393242 133202111862592 docker_run.py:297] I0209 12:48:37.392906 128704331829888 templates.py:267] Found an exact template match 6bn3_A.\n",
      "I0209 12:48:38.150960 133202111862592 docker_run.py:297] I0209 12:48:38.150416 128704331829888 pipeline.py:234] Uniref90 MSA size: 10000 sequences.\n",
      "I0209 12:48:38.151282 133202111862592 docker_run.py:297] I0209 12:48:38.150556 128704331829888 pipeline.py:235] BFD MSA size: 2460 sequences.\n",
      "I0209 12:48:38.151347 133202111862592 docker_run.py:297] I0209 12:48:38.150588 128704331829888 pipeline.py:236] MGnify MSA size: 501 sequences.\n",
      "I0209 12:48:38.151422 133202111862592 docker_run.py:297] I0209 12:48:38.150624 128704331829888 pipeline.py:237] Final (deduplicated) MSA size: 12900 sequences.\n",
      "I0209 12:48:38.151681 133202111862592 docker_run.py:297] I0209 12:48:38.150837 128704331829888 pipeline.py:239] Total number of templates (NB: this can include bad templates and is later filtered to top 4): 20.\n",
      "I0209 12:48:38.194027 133202111862592 docker_run.py:297] I0209 12:48:38.193551 128704331829888 run_alphafold.py:276] Running model model_1_pred_0 on AAP20891_1\n",
      "I0209 12:48:42.863350 133202111862592 docker_run.py:297] I0209 12:48:42.861231 128704331829888 model.py:165] Running predict with shape(feat) = {'aatype': (4, 286), 'residue_index': (4, 286), 'seq_length': (4,), 'template_aatype': (4, 4, 286), 'template_all_atom_masks': (4, 4, 286, 37), 'template_all_atom_positions': (4, 4, 286, 37, 3), 'template_sum_probs': (4, 4, 1), 'is_distillation': (4,), 'seq_mask': (4, 286), 'msa_mask': (4, 508, 286), 'msa_row_mask': (4, 508), 'random_crop_to_size_seed': (4, 2), 'template_mask': (4, 4), 'template_pseudo_beta': (4, 4, 286, 3), 'template_pseudo_beta_mask': (4, 4, 286), 'atom14_atom_exists': (4, 286, 14), 'residx_atom14_to_atom37': (4, 286, 14), 'residx_atom37_to_atom14': (4, 286, 37), 'atom37_atom_exists': (4, 286, 37), 'extra_msa': (4, 5120, 286), 'extra_msa_mask': (4, 5120, 286), 'extra_msa_row_mask': (4, 5120), 'bert_mask': (4, 508, 286), 'true_msa': (4, 508, 286), 'extra_has_deletion': (4, 5120, 286), 'extra_deletion_value': (4, 5120, 286), 'msa_feat': (4, 508, 286, 49), 'target_feat': (4, 286, 22)}\n",
      "I0209 12:50:49.352141 133202111862592 docker_run.py:297] I0209 12:50:49.350582 128704331829888 model.py:175] Output shape was {'distogram': {'bin_edges': (63,), 'logits': (286, 286, 64)}, 'experimentally_resolved': {'logits': (286, 37)}, 'masked_msa': {'logits': (508, 286, 23)}, 'predicted_lddt': {'logits': (286, 50)}, 'structure_module': {'final_atom_mask': (286, 37), 'final_atom_positions': (286, 37, 3)}, 'plddt': (286,), 'ranking_confidence': ()}\n",
      "I0209 12:50:49.352594 133202111862592 docker_run.py:297] I0209 12:50:49.350745 128704331829888 run_alphafold.py:288] Total JAX model model_1_pred_0 on AAP20891_1 predict time (includes compilation time, see --benchmark): 126.5s\n",
      "I0209 12:50:49.534061 133202111862592 docker_run.py:297] I0209 12:50:49.533301 128704331829888 run_alphafold.py:276] Running model model_2_pred_0 on AAP20891_1\n",
      "I0209 12:50:53.137300 133202111862592 docker_run.py:297] I0209 12:50:53.134411 128704331829888 model.py:165] Running predict with shape(feat) = {'aatype': (4, 286), 'residue_index': (4, 286), 'seq_length': (4,), 'template_aatype': (4, 4, 286), 'template_all_atom_masks': (4, 4, 286, 37), 'template_all_atom_positions': (4, 4, 286, 37, 3), 'template_sum_probs': (4, 4, 1), 'is_distillation': (4,), 'seq_mask': (4, 286), 'msa_mask': (4, 508, 286), 'msa_row_mask': (4, 508), 'random_crop_to_size_seed': (4, 2), 'template_mask': (4, 4), 'template_pseudo_beta': (4, 4, 286, 3), 'template_pseudo_beta_mask': (4, 4, 286), 'atom14_atom_exists': (4, 286, 14), 'residx_atom14_to_atom37': (4, 286, 14), 'residx_atom37_to_atom14': (4, 286, 37), 'atom37_atom_exists': (4, 286, 37), 'extra_msa': (4, 1024, 286), 'extra_msa_mask': (4, 1024, 286), 'extra_msa_row_mask': (4, 1024), 'bert_mask': (4, 508, 286), 'true_msa': (4, 508, 286), 'extra_has_deletion': (4, 1024, 286), 'extra_deletion_value': (4, 1024, 286), 'msa_feat': (4, 508, 286, 49), 'target_feat': (4, 286, 22)}\n",
      "I0209 12:52:26.653816 133202111862592 docker_run.py:297] I0209 12:52:26.652812 128704331829888 model.py:175] Output shape was {'distogram': {'bin_edges': (63,), 'logits': (286, 286, 64)}, 'experimentally_resolved': {'logits': (286, 37)}, 'masked_msa': {'logits': (508, 286, 23)}, 'predicted_lddt': {'logits': (286, 50)}, 'structure_module': {'final_atom_mask': (286, 37), 'final_atom_positions': (286, 37, 3)}, 'plddt': (286,), 'ranking_confidence': ()}\n",
      "I0209 12:52:26.653986 133202111862592 docker_run.py:297] I0209 12:52:26.652946 128704331829888 run_alphafold.py:288] Total JAX model model_2_pred_0 on AAP20891_1 predict time (includes compilation time, see --benchmark): 93.5s\n",
      "I0209 12:52:26.833158 133202111862592 docker_run.py:297] I0209 12:52:26.832517 128704331829888 run_alphafold.py:276] Running model model_3_pred_0 on AAP20891_1\n",
      "I0209 12:52:29.968823 133202111862592 docker_run.py:297] I0209 12:52:29.967889 128704331829888 model.py:165] Running predict with shape(feat) = {'aatype': (4, 286), 'residue_index': (4, 286), 'seq_length': (4,), 'is_distillation': (4,), 'seq_mask': (4, 286), 'msa_mask': (4, 512, 286), 'msa_row_mask': (4, 512), 'random_crop_to_size_seed': (4, 2), 'atom14_atom_exists': (4, 286, 14), 'residx_atom14_to_atom37': (4, 286, 14), 'residx_atom37_to_atom14': (4, 286, 37), 'atom37_atom_exists': (4, 286, 37), 'extra_msa': (4, 5120, 286), 'extra_msa_mask': (4, 5120, 286), 'extra_msa_row_mask': (4, 5120), 'bert_mask': (4, 512, 286), 'true_msa': (4, 512, 286), 'extra_has_deletion': (4, 5120, 286), 'extra_deletion_value': (4, 5120, 286), 'msa_feat': (4, 512, 286, 49), 'target_feat': (4, 286, 22)}\n",
      "I0209 12:53:48.996051 133202111862592 docker_run.py:297] I0209 12:53:48.995177 128704331829888 model.py:175] Output shape was {'distogram': {'bin_edges': (63,), 'logits': (286, 286, 64)}, 'experimentally_resolved': {'logits': (286, 37)}, 'masked_msa': {'logits': (512, 286, 23)}, 'predicted_lddt': {'logits': (286, 50)}, 'structure_module': {'final_atom_mask': (286, 37), 'final_atom_positions': (286, 37, 3)}, 'plddt': (286,), 'ranking_confidence': ()}\n",
      "I0209 12:53:48.996179 133202111862592 docker_run.py:297] I0209 12:53:48.995306 128704331829888 run_alphafold.py:288] Total JAX model model_3_pred_0 on AAP20891_1 predict time (includes compilation time, see --benchmark): 79.0s\n",
      "I0209 12:53:49.174313 133202111862592 docker_run.py:297] I0209 12:53:49.173727 128704331829888 run_alphafold.py:276] Running model model_4_pred_0 on AAP20891_1\n",
      "I0209 12:53:52.157123 133202111862592 docker_run.py:297] I0209 12:53:52.156084 128704331829888 model.py:165] Running predict with shape(feat) = {'aatype': (4, 286), 'residue_index': (4, 286), 'seq_length': (4,), 'is_distillation': (4,), 'seq_mask': (4, 286), 'msa_mask': (4, 512, 286), 'msa_row_mask': (4, 512), 'random_crop_to_size_seed': (4, 2), 'atom14_atom_exists': (4, 286, 14), 'residx_atom14_to_atom37': (4, 286, 14), 'residx_atom37_to_atom14': (4, 286, 37), 'atom37_atom_exists': (4, 286, 37), 'extra_msa': (4, 5120, 286), 'extra_msa_mask': (4, 5120, 286), 'extra_msa_row_mask': (4, 5120), 'bert_mask': (4, 512, 286), 'true_msa': (4, 512, 286), 'extra_has_deletion': (4, 5120, 286), 'extra_deletion_value': (4, 5120, 286), 'msa_feat': (4, 512, 286, 49), 'target_feat': (4, 286, 22)}\n",
      "I0209 12:55:07.543145 133202111862592 docker_run.py:297] I0209 12:55:07.542435 128704331829888 model.py:175] Output shape was {'distogram': {'bin_edges': (63,), 'logits': (286, 286, 64)}, 'experimentally_resolved': {'logits': (286, 37)}, 'masked_msa': {'logits': (512, 286, 23)}, 'predicted_lddt': {'logits': (286, 50)}, 'structure_module': {'final_atom_mask': (286, 37), 'final_atom_positions': (286, 37, 3)}, 'plddt': (286,), 'ranking_confidence': ()}\n",
      "I0209 12:55:07.543324 133202111862592 docker_run.py:297] I0209 12:55:07.542576 128704331829888 run_alphafold.py:288] Total JAX model model_4_pred_0 on AAP20891_1 predict time (includes compilation time, see --benchmark): 75.4s\n",
      "I0209 12:55:07.726988 133202111862592 docker_run.py:297] I0209 12:55:07.726579 128704331829888 run_alphafold.py:276] Running model model_5_pred_0 on AAP20891_1\n",
      "I0209 12:55:10.723475 133202111862592 docker_run.py:297] I0209 12:55:10.722320 128704331829888 model.py:165] Running predict with shape(feat) = {'aatype': (4, 286), 'residue_index': (4, 286), 'seq_length': (4,), 'is_distillation': (4,), 'seq_mask': (4, 286), 'msa_mask': (4, 512, 286), 'msa_row_mask': (4, 512), 'random_crop_to_size_seed': (4, 2), 'atom14_atom_exists': (4, 286, 14), 'residx_atom14_to_atom37': (4, 286, 14), 'residx_atom37_to_atom14': (4, 286, 37), 'atom37_atom_exists': (4, 286, 37), 'extra_msa': (4, 1024, 286), 'extra_msa_mask': (4, 1024, 286), 'extra_msa_row_mask': (4, 1024), 'bert_mask': (4, 512, 286), 'true_msa': (4, 512, 286), 'extra_has_deletion': (4, 1024, 286), 'extra_deletion_value': (4, 1024, 286), 'msa_feat': (4, 512, 286, 49), 'target_feat': (4, 286, 22)}\n",
      "I0209 12:56:24.505498 133202111862592 docker_run.py:297] I0209 12:56:24.504845 128704331829888 model.py:175] Output shape was {'distogram': {'bin_edges': (63,), 'logits': (286, 286, 64)}, 'experimentally_resolved': {'logits': (286, 37)}, 'masked_msa': {'logits': (512, 286, 23)}, 'predicted_lddt': {'logits': (286, 50)}, 'structure_module': {'final_atom_mask': (286, 37), 'final_atom_positions': (286, 37, 3)}, 'plddt': (286,), 'ranking_confidence': ()}\n",
      "I0209 12:56:24.505714 133202111862592 docker_run.py:297] I0209 12:56:24.504977 128704331829888 run_alphafold.py:288] Total JAX model model_5_pred_0 on AAP20891_1 predict time (includes compilation time, see --benchmark): 73.8s\n",
      "I0209 12:56:29.924700 133202111862592 docker_run.py:297] I0209 12:56:29.923331 128704331829888 amber_minimize.py:178] alterations info: {'nonstandard_residues': [], 'removed_heterogens': set(), 'missing_residues': {}, 'missing_heavy_atoms': {}, 'missing_terminals': {<Residue 285 (TRP) of chain 0>: ['OXT']}, 'Se_in_MET': [], 'removed_chains': {0: []}}\n",
      "I0209 12:56:30.122141 133202111862592 docker_run.py:297] I0209 12:56:30.121656 128704331829888 amber_minimize.py:408] Minimizing protein, attempt 1 of 100.\n",
      "I0209 12:56:30.439441 133202111862592 docker_run.py:297] I0209 12:56:30.439038 128704331829888 amber_minimize.py:69] Restraining 2212 / 4439 particles.\n",
      "I0209 12:56:32.885671 133202111862592 docker_run.py:297] I0209 12:56:32.884042 128704331829888 amber_minimize.py:178] alterations info: {'nonstandard_residues': [], 'removed_heterogens': set(), 'missing_residues': {}, 'missing_heavy_atoms': {}, 'missing_terminals': {}, 'Se_in_MET': [], 'removed_chains': {0: []}}\n",
      "I0209 12:56:35.878960 133202111862592 docker_run.py:297] I0209 12:56:35.878404 128704331829888 amber_minimize.py:500] Iteration completed: Einit 90002.51 Efinal -7195.49 Time 1.29 s num residue violations 0 num residue exclusions 0\n",
      "I0209 12:56:36.584167 133202111862592 docker_run.py:297] I0209 12:56:36.583163 128704331829888 run_alphafold.py:414] Final timings for AAP20891_1: {'features': 1770.96572804451, 'process_features_model_1_pred_0': 4.667158365249634, 'predict_and_compile_model_1_pred_0': 126.48990654945374, 'process_features_model_2_pred_0': 3.60086727142334, 'predict_and_compile_model_2_pred_0': 93.51866555213928, 'process_features_model_3_pred_0': 3.1351327896118164, 'predict_and_compile_model_3_pred_0': 79.02753925323486, 'process_features_model_4_pred_0': 2.9821181297302246, 'predict_and_compile_model_4_pred_0': 75.38662052154541, 'process_features_model_5_pred_0': 2.9954960346221924, 'predict_and_compile_model_5_pred_0': 73.78278589248657, 'relax_model_1_pred_0': 11.30461859703064}\n",
      "\n",
      "2025-02-09 12:56:43,483 - INFO - Looking for output structure at: /home/nab/Niklas/pyeed/docs/resources/alphafold/output/AAP20891_1_relaxed.pdb\n",
      "2025-02-09 12:56:43,485 - ERROR - Structure file not found: /home/nab/Niklas/pyeed/docs/resources/alphafold/output/AAP20891_1_relaxed.pdb\n"
     ]
    },
    {
     "ename": "FileNotFoundError",
     "evalue": "Structure file not found: /home/nab/Niklas/pyeed/docs/resources/alphafold/output/AAP20891_1_relaxed.pdb",
     "output_type": "error",
     "traceback": [
      "\u001b[0;31m---------------------------------------------------------------------------\u001b[0m",
      "\u001b[0;31mFileNotFoundError\u001b[0m                         Traceback (most recent call last)",
      "Cell \u001b[0;32mIn[7], line 1\u001b[0m\n\u001b[0;32m----> 1\u001b[0m \u001b[43malphafold_runner\u001b[49m\u001b[38;5;241;43m.\u001b[39;49m\u001b[43mrun_alphafold\u001b[49m\u001b[43m(\u001b[49m\u001b[43msequence\u001b[49m\u001b[38;5;241;43m=\u001b[39;49m\u001b[43msequence\u001b[49m\u001b[43m,\u001b[49m\u001b[43m \u001b[49m\u001b[43msequence_id\u001b[49m\u001b[38;5;241;43m=\u001b[39;49m\u001b[38;5;28;43mid\u001b[39;49m\u001b[43m)\u001b[49m\n",
      "File \u001b[0;32m~/Niklas/pyeed/src/pyeed/tools/alphafold2.py:106\u001b[0m, in \u001b[0;36mAlphaFoldRunner.run_alphafold\u001b[0;34m(self, sequence, sequence_id, max_template_date)\u001b[0m\n\u001b[1;32m    104\u001b[0m     error_msg \u001b[38;5;241m=\u001b[39m \u001b[38;5;124mf\u001b[39m\u001b[38;5;124m\"\u001b[39m\u001b[38;5;124mStructure file not found: \u001b[39m\u001b[38;5;132;01m{\u001b[39;00mstructure_path\u001b[38;5;132;01m}\u001b[39;00m\u001b[38;5;124m\"\u001b[39m\n\u001b[1;32m    105\u001b[0m     logger\u001b[38;5;241m.\u001b[39merror(error_msg)\n\u001b[0;32m--> 106\u001b[0m     \u001b[38;5;28;01mraise\u001b[39;00m \u001b[38;5;167;01mFileNotFoundError\u001b[39;00m(error_msg)\n\u001b[1;32m    108\u001b[0m logger\u001b[38;5;241m.\u001b[39minfo(\u001b[38;5;124mf\u001b[39m\u001b[38;5;124m\"\u001b[39m\u001b[38;5;124mSuccessfully generated structure at: \u001b[39m\u001b[38;5;132;01m{\u001b[39;00mstructure_path\u001b[38;5;132;01m}\u001b[39;00m\u001b[38;5;124m\"\u001b[39m)\n\u001b[1;32m    109\u001b[0m \u001b[38;5;28;01mreturn\u001b[39;00m {\u001b[38;5;124m\"\u001b[39m\u001b[38;5;124mstructure_file\u001b[39m\u001b[38;5;124m\"\u001b[39m: \u001b[38;5;28mstr\u001b[39m(structure_path)}\n",
      "\u001b[0;31mFileNotFoundError\u001b[0m: Structure file not found: /home/nab/Niklas/pyeed/docs/resources/alphafold/output/AAP20891_1_relaxed.pdb"
     ]
    }
   ],
   "source": [
    "alphafold_runner.run_alphafold(sequence=sequence, sequence_id=id)"
   ]
  },
  {
   "cell_type": "markdown",
   "metadata": {},
   "source": [
    "Attempts to run AlphaFold prediction on the input sequence. The output indicates that a FASTA file was created, but the execution encountered an error when trying to locate the output structure file.\n",
    "\n",
    "## Note\n",
    "The execution appears to have encountered an error when trying to find the output PDB file (`AAP20891_1_relaxed.pdb`). This might indicate an issue with the AlphaFold execution or output file generation."
   ]
  },
  {
   "cell_type": "code",
   "execution_count": null,
   "metadata": {},
   "outputs": [],
   "source": []
  }
 ],
 "metadata": {
  "kernelspec": {
   "display_name": "pyeed_niklas",
   "language": "python",
   "name": "python3"
  },
  "language_info": {
   "codemirror_mode": {
    "name": "ipython",
    "version": 3
   },
   "file_extension": ".py",
   "mimetype": "text/x-python",
   "name": "python",
   "nbconvert_exporter": "python",
   "pygments_lexer": "ipython3",
   "version": "3.12.8"
  }
 },
 "nbformat": 4,
 "nbformat_minor": 2
}
