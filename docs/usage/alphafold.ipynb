{
 "cells": [
  {
   "cell_type": "markdown",
   "metadata": {},
   "source": [
    "# AlphaFold Usage Example\n",
    "\n",
    "This notebook demonstrates how to use AlphaFold through the `pyeed` package interface.\n",
    "\n",
    "## Setup and Imports"
   ]
  },
  {
   "cell_type": "code",
   "execution_count": 1,
   "metadata": {},
   "outputs": [],
   "source": [
    "import os\n",
    "\n",
    "import logging\n",
    "from pyeed.tools.alphafold2 import AlphaFoldRunner"
   ]
  },
  {
   "cell_type": "code",
   "execution_count": 2,
   "metadata": {},
   "outputs": [],
   "source": [
    "logging.basicConfig(level=logging.INFO, format='%(asctime)s - %(levelname)s - %(message)s')\n",
    "LOGGER = logging.getLogger(__name__)"
   ]
  },
  {
   "cell_type": "markdown",
   "metadata": {},
   "source": [
    "Configures logging to display timestamped INFO-level messages.\n",
    "\n",
    "## Input Preparation"
   ]
  },
  {
   "cell_type": "code",
   "execution_count": 3,
   "metadata": {},
   "outputs": [],
   "source": [
    "id = 'AAP20891.1'\n",
    "sequence = 'MSIQHFRVALIPFFAAFCLPVFAHPETLVKVKDAEDQLGARVGYIELDLNSGKILESFRPEERFPMMSTFKVLLCGAVLSRVDAGQEQLGRRIHYSQNDLVEYSPVTEKHLTDGMTVRELCSAAITMSDNTAANLLLTTIGGPKELTAFLHNMGDHVTRLDRWEPELNEAIPNDERDTTMPAAMATTLRKLLTGELLTLASRQQLIDWMEADKVAGPLLRSALPAGWFIADKSGAGERGSRGIIAALGPDGKPSRIVVIYTTGSQATMDERNRQIAEIGASLIKHW'"
   ]
  },
  {
   "cell_type": "code",
   "execution_count": 4,
   "metadata": {},
   "outputs": [
    {
     "data": {
      "text/plain": [
       "286"
      ]
     },
     "execution_count": 4,
     "metadata": {},
     "output_type": "execute_result"
    }
   ],
   "source": [
    "len(sequence)"
   ]
  },
  {
   "cell_type": "markdown",
   "metadata": {},
   "source": [
    "Verifies the length of the input sequence (286 amino acids).\n",
    "\n",
    "## AlphaFold Configuration"
   ]
  },
  {
   "cell_type": "code",
   "execution_count": 5,
   "metadata": {},
   "outputs": [],
   "source": [
    "data_dir = '/media/database/alphafold' # the path to the downloaded alphafold data\n",
    "output_dir = os.path.join(os.path.dirname(os.getcwd()), \"resources\", \"alphafold\", \"output\")"
   ]
  },
  {
   "cell_type": "markdown",
   "metadata": {},
   "source": [
    "Sets up the paths for AlphaFold database and output directory.\n"
   ]
  },
  {
   "cell_type": "code",
   "execution_count": 6,
   "metadata": {},
   "outputs": [
    {
     "name": "stderr",
     "output_type": "stream",
     "text": [
      "2025-02-09 18:21:49,187 - INFO - GPU detected. AlphaFold will run on GPU.\n"
     ]
    }
   ],
   "source": [
    "alphafold_runner = AlphaFoldRunner(data_dir, output_dir)"
   ]
  },
  {
   "cell_type": "markdown",
   "metadata": {},
   "source": [
    "Initializes the AlphaFold runner with the specified directories. The system detected a GPU for computation.\n",
    "\n",
    "## Execution\n"
   ]
  },
  {
   "cell_type": "code",
   "execution_count": 7,
   "metadata": {},
   "outputs": [
    {
     "name": "stderr",
     "output_type": "stream",
     "text": [
      "2025-02-09 18:21:49,193 - INFO - Created FASTA file at: /home/nab/Niklas/pyeed/docs/resources/alphafold/output/AAP20891_1.fasta\n",
      "2025-02-09 18:21:49,194 - INFO - Running AlphaFold with command: source ~/anaconda3/etc/profile.d/conda.sh && conda activate alphafold_env && python /home/nab/Niklas/pyeed/src/pyeed/tools/resources/alphafold/docker_run.py --fasta_paths=/home/nab/Niklas/pyeed/docs/resources/alphafold/output/AAP20891_1.fasta --max_template_date=2022-01-01 --data_dir=/media/database/alphafold --output_dir=/home/nab/Niklas/pyeed/docs/resources/alphafold/output\n",
      "2025-02-09 18:59:25,222 - ERROR - AlphaFold stderr:\n",
      "I0209 18:21:49.823744 126234918065984 docker_run.py:143] Mounting /home/nab/Niklas/pyeed/docs/resources/alphafold/output -> /mnt/fasta_path_0\n",
      "I0209 18:21:49.823894 126234918065984 docker_run.py:143] Mounting /media/database/alphafold/uniref90 -> /mnt/uniref90_database_path\n",
      "I0209 18:21:49.823978 126234918065984 docker_run.py:143] Mounting /media/database/alphafold/mgnify -> /mnt/mgnify_database_path\n",
      "I0209 18:21:49.824042 126234918065984 docker_run.py:143] Mounting /media/database/alphafold -> /mnt/data_dir\n",
      "I0209 18:21:49.824100 126234918065984 docker_run.py:143] Mounting /media/database/alphafold/pdb_mmcif/mmcif_files -> /mnt/template_mmcif_dir\n",
      "I0209 18:21:49.824160 126234918065984 docker_run.py:143] Mounting /media/database/alphafold/pdb_mmcif -> /mnt/obsolete_pdbs_path\n",
      "I0209 18:21:49.824414 126234918065984 docker_run.py:143] Mounting /media/database/alphafold/pdb70 -> /mnt/pdb70_database_path\n",
      "I0209 18:21:49.824606 126234918065984 docker_run.py:143] Mounting /media/database/alphafold/uniref30 -> /mnt/uniref30_database_path\n",
      "I0209 18:21:49.824759 126234918065984 docker_run.py:143] Mounting /media/database/alphafold/bfd -> /mnt/bfd_database_path\n",
      "I0209 18:21:50.499799 126234918065984 docker_run.py:297] /bin/bash: /opt/conda/lib/libtinfo.so.6: no version information available (required by /bin/bash)\n",
      "I0209 18:21:54.122220 126234918065984 docker_run.py:297] I0209 18:21:54.121551 129414388114048 templates.py:858] Using precomputed obsolete pdbs /mnt/obsolete_pdbs_path/obsolete.dat.\n",
      "I0209 18:21:54.896348 126234918065984 docker_run.py:297] I0209 18:21:54.895152 129414388114048 xla_bridge.py:863] Unable to initialize backend 'rocm': NOT_FOUND: Could not find registered platform with name: \"rocm\". Available platform names are: CUDA\n",
      "I0209 18:21:54.896494 126234918065984 docker_run.py:297] I0209 18:21:54.896013 129414388114048 xla_bridge.py:863] Unable to initialize backend 'tpu': INTERNAL: Failed to open libtpu.so: libtpu.so: cannot open shared object file: No such file or directory\n",
      "I0209 18:22:00.123066 126234918065984 docker_run.py:297] I0209 18:22:00.122301 129414388114048 run_alphafold.py:524] Have 5 models: ['model_1_pred_0', 'model_2_pred_0', 'model_3_pred_0', 'model_4_pred_0', 'model_5_pred_0']\n",
      "I0209 18:22:00.123264 126234918065984 docker_run.py:297] I0209 18:22:00.122479 129414388114048 run_alphafold.py:538] Using random seed 1472682267336032100 for the data pipeline\n",
      "I0209 18:22:00.123352 126234918065984 docker_run.py:297] I0209 18:22:00.122714 129414388114048 run_alphafold.py:245] Predicting AAP20891_1\n",
      "I0209 18:22:00.123819 126234918065984 docker_run.py:297] I0209 18:22:00.123200 129414388114048 jackhmmer.py:133] Launching subprocess \"/usr/bin/jackhmmer -o /dev/null -A /tmp/tmpxc0kqa9t/output.sto --noali --F1 0.0005 --F2 5e-05 --F3 5e-07 --incE 0.0001 -E 0.0001 --cpu 8 -N 1 /mnt/fasta_path_0/AAP20891_1.fasta /mnt/uniref90_database_path/uniref90.fasta\"\n",
      "I0209 18:22:00.124192 126234918065984 docker_run.py:297] I0209 18:22:00.123989 129414388114048 utils.py:36] Started Jackhmmer (uniref90.fasta) query\n",
      "I0209 18:29:46.660077 126234918065984 docker_run.py:297] I0209 18:29:46.659375 129414388114048 utils.py:40] Finished Jackhmmer (uniref90.fasta) query in 466.535 seconds\n",
      "I0209 18:29:46.872978 126234918065984 docker_run.py:297] I0209 18:29:46.872399 129414388114048 jackhmmer.py:133] Launching subprocess \"/usr/bin/jackhmmer -o /dev/null -A /tmp/tmpy07gvq9o/output.sto --noali --F1 0.0005 --F2 5e-05 --F3 5e-07 --incE 0.0001 -E 0.0001 --cpu 8 -N 1 /mnt/fasta_path_0/AAP20891_1.fasta /mnt/mgnify_database_path/mgy_clusters_2022_05.fa\"\n",
      "I0209 18:29:46.873672 126234918065984 docker_run.py:297] I0209 18:29:46.873422 129414388114048 utils.py:36] Started Jackhmmer (mgy_clusters_2022_05.fa) query\n",
      "I0209 18:42:17.609159 126234918065984 docker_run.py:297] I0209 18:42:17.608636 129414388114048 utils.py:40] Finished Jackhmmer (mgy_clusters_2022_05.fa) query in 750.735 seconds\n",
      "I0209 18:42:19.588392 126234918065984 docker_run.py:297] I0209 18:42:19.587914 129414388114048 hhsearch.py:85] Launching subprocess \"/usr/bin/hhsearch -i /tmp/tmp1k92nh3b/query.a3m -o /tmp/tmp1k92nh3b/output.hhr -maxseq 1000000 -d /mnt/pdb70_database_path/pdb70\"\n",
      "I0209 18:42:19.589171 126234918065984 docker_run.py:297] I0209 18:42:19.588937 129414388114048 utils.py:36] Started HHsearch query\n",
      "I0209 18:42:48.892270 126234918065984 docker_run.py:297] I0209 18:42:48.891644 129414388114048 utils.py:40] Finished HHsearch query in 29.303 seconds\n",
      "I0209 18:42:49.653391 126234918065984 docker_run.py:297] I0209 18:42:49.652812 129414388114048 hhblits.py:128] Launching subprocess \"/usr/bin/hhblits -i /mnt/fasta_path_0/AAP20891_1.fasta -cpu 4 -oa3m /tmp/tmpj3pynfqf/output.a3m -o /dev/null -n 3 -e 0.001 -maxseq 1000000 -realign_max 100000 -maxfilt 100000 -min_prefilter_hits 1000 -d /mnt/bfd_database_path/bfd_metaclust_clu_complete_id30_c90_final_seq.sorted_opt -d /mnt/uniref30_database_path/UniRef30_2021_03\"\n",
      "I0209 18:42:49.654407 126234918065984 docker_run.py:297] I0209 18:42:49.654129 129414388114048 utils.py:36] Started HHblits query\n",
      "I0209 18:51:13.099540 126234918065984 docker_run.py:297] I0209 18:51:13.049138 129414388114048 utils.py:40] Finished HHblits query in 503.390 seconds\n",
      "I0209 18:51:13.235084 126234918065984 docker_run.py:297] I0209 18:51:13.232861 129414388114048 templates.py:879] Searching for template for: MSIQHFRVALIPFFAAFCLPVFAHPETLVKVKDAEDQLGARVGYIELDLNSGKILESFRPEERFPMMSTFKVLLCGAVLSRVDAGQEQLGRRIHYSQNDLVEYSPVTEKHLTDGMTVRELCSAAITMSDNTAANLLLTTIGGPKELTAFLHNMGDHVTRLDRWEPELNEAIPNDERDTTMPAAMATTLRKLLTGELLTLASRQQLIDWMEADKVAGPLLRSALPAGWFIADKSGAGERGSRGIIAALGPDGKPSRIVVIYTTGSQATMDERNRQIAEIGASLIKHW\n",
      "I0209 18:51:13.443433 126234918065984 docker_run.py:297] I0209 18:51:13.441954 129414388114048 templates.py:267] Found an exact template match 4zj1_A.\n",
      "I0209 18:51:13.919805 126234918065984 docker_run.py:297] I0209 18:51:13.919035 129414388114048 templates.py:267] Found an exact template match 2p74_B.\n",
      "I0209 18:51:15.502430 126234918065984 docker_run.py:297] I0209 18:51:15.501675 129414388114048 templates.py:267] Found an exact template match 4bd0_A.\n",
      "I0209 18:51:15.661102 126234918065984 docker_run.py:297] I0209 18:51:15.659892 129414388114048 templates.py:267] Found an exact template match 6nfd_A.\n",
      "I0209 18:51:15.969052 126234918065984 docker_run.py:297] I0209 18:51:15.968239 129414388114048 templates.py:267] Found an exact template match 1m40_A.\n",
      "I0209 18:51:16.131306 126234918065984 docker_run.py:297] I0209 18:51:16.130592 129414388114048 templates.py:267] Found an exact template match 1n9b_A.\n",
      "I0209 18:51:16.363438 126234918065984 docker_run.py:297] I0209 18:51:16.362271 129414388114048 templates.py:267] Found an exact template match 2b5r_B.\n",
      "I0209 18:51:16.789144 126234918065984 docker_run.py:297] I0209 18:51:16.788326 129414388114048 templates.py:267] Found an exact template match 4ua6_A.\n",
      "I0209 18:51:16.879354 126234918065984 docker_run.py:297] I0209 18:51:16.878310 129414388114048 templates.py:267] Found an exact template match 1g6a_A.\n",
      "I0209 18:51:17.147200 126234918065984 docker_run.py:297] I0209 18:51:17.146468 129414388114048 templates.py:267] Found an exact template match 6afo_B.\n",
      "I0209 18:51:17.594172 126234918065984 docker_run.py:297] I0209 18:51:17.592624 129414388114048 templates.py:267] Found an exact template match 6td0_A.\n",
      "I0209 18:51:17.764129 126234918065984 docker_run.py:297] I0209 18:51:17.763039 129414388114048 templates.py:267] Found an exact template match 1o7e_B.\n",
      "I0209 18:51:17.999657 126234918065984 docker_run.py:297] I0209 18:51:17.998758 129414388114048 templates.py:267] Found an exact template match 6niq_A.\n",
      "I0209 18:51:18.144142 126234918065984 docker_run.py:297] I0209 18:51:18.143428 129414388114048 templates.py:267] Found an exact template match 4mbh_A.\n",
      "I0209 18:51:18.514421 126234918065984 docker_run.py:297] I0209 18:51:18.513112 129414388114048 templates.py:267] Found an exact template match 5ne2_B.\n",
      "I0209 18:51:18.737822 126234918065984 docker_run.py:297] I0209 18:51:18.737295 129414388114048 templates.py:267] Found an exact template match 6qwb_A.\n",
      "I0209 18:51:18.885024 126234918065984 docker_run.py:297] I0209 18:51:18.884303 129414388114048 templates.py:267] Found an exact template match 6c7a_A.\n",
      "I0209 18:51:19.108935 126234918065984 docker_run.py:297] I0209 18:51:19.108240 129414388114048 templates.py:286] Found a fuzzy sequence-only match 6dmh_A.\n",
      "I0209 18:51:19.565951 126234918065984 docker_run.py:297] I0209 18:51:19.565258 129414388114048 templates.py:267] Found an exact template match 4c75_D.\n",
      "I0209 18:51:19.695087 126234918065984 docker_run.py:297] I0209 18:51:19.694348 129414388114048 templates.py:267] Found an exact template match 6bn3_A.\n",
      "I0209 18:51:20.471373 126234918065984 docker_run.py:297] I0209 18:51:20.470418 129414388114048 pipeline.py:234] Uniref90 MSA size: 10000 sequences.\n",
      "I0209 18:51:20.471764 126234918065984 docker_run.py:297] I0209 18:51:20.470559 129414388114048 pipeline.py:235] BFD MSA size: 2460 sequences.\n",
      "I0209 18:51:20.471865 126234918065984 docker_run.py:297] I0209 18:51:20.470590 129414388114048 pipeline.py:236] MGnify MSA size: 501 sequences.\n",
      "I0209 18:51:20.471951 126234918065984 docker_run.py:297] I0209 18:51:20.470622 129414388114048 pipeline.py:237] Final (deduplicated) MSA size: 12900 sequences.\n",
      "I0209 18:51:20.472341 126234918065984 docker_run.py:297] I0209 18:51:20.470838 129414388114048 pipeline.py:239] Total number of templates (NB: this can include bad templates and is later filtered to top 4): 20.\n",
      "I0209 18:51:20.525065 126234918065984 docker_run.py:297] I0209 18:51:20.524172 129414388114048 run_alphafold.py:276] Running model model_1_pred_0 on AAP20891_1\n",
      "I0209 18:51:25.273778 126234918065984 docker_run.py:297] I0209 18:51:25.271720 129414388114048 model.py:165] Running predict with shape(feat) = {'aatype': (4, 286), 'residue_index': (4, 286), 'seq_length': (4,), 'template_aatype': (4, 4, 286), 'template_all_atom_masks': (4, 4, 286, 37), 'template_all_atom_positions': (4, 4, 286, 37, 3), 'template_sum_probs': (4, 4, 1), 'is_distillation': (4,), 'seq_mask': (4, 286), 'msa_mask': (4, 508, 286), 'msa_row_mask': (4, 508), 'random_crop_to_size_seed': (4, 2), 'template_mask': (4, 4), 'template_pseudo_beta': (4, 4, 286, 3), 'template_pseudo_beta_mask': (4, 4, 286), 'atom14_atom_exists': (4, 286, 14), 'residx_atom14_to_atom37': (4, 286, 14), 'residx_atom37_to_atom14': (4, 286, 37), 'atom37_atom_exists': (4, 286, 37), 'extra_msa': (4, 5120, 286), 'extra_msa_mask': (4, 5120, 286), 'extra_msa_row_mask': (4, 5120), 'bert_mask': (4, 508, 286), 'true_msa': (4, 508, 286), 'extra_has_deletion': (4, 5120, 286), 'extra_deletion_value': (4, 5120, 286), 'msa_feat': (4, 508, 286, 49), 'target_feat': (4, 286, 22)}\n",
      "I0209 18:53:31.565129 126234918065984 docker_run.py:297] I0209 18:53:31.563400 129414388114048 model.py:175] Output shape was {'distogram': {'bin_edges': (63,), 'logits': (286, 286, 64)}, 'experimentally_resolved': {'logits': (286, 37)}, 'masked_msa': {'logits': (508, 286, 23)}, 'predicted_lddt': {'logits': (286, 50)}, 'structure_module': {'final_atom_mask': (286, 37), 'final_atom_positions': (286, 37, 3)}, 'plddt': (286,), 'ranking_confidence': ()}\n",
      "I0209 18:53:31.565434 126234918065984 docker_run.py:297] I0209 18:53:31.563578 129414388114048 run_alphafold.py:288] Total JAX model model_1_pred_0 on AAP20891_1 predict time (includes compilation time, see --benchmark): 126.3s\n",
      "I0209 18:53:31.764772 126234918065984 docker_run.py:297] I0209 18:53:31.764194 129414388114048 run_alphafold.py:276] Running model model_2_pred_0 on AAP20891_1\n",
      "I0209 18:53:35.338457 126234918065984 docker_run.py:297] I0209 18:53:35.335328 129414388114048 model.py:165] Running predict with shape(feat) = {'aatype': (4, 286), 'residue_index': (4, 286), 'seq_length': (4,), 'template_aatype': (4, 4, 286), 'template_all_atom_masks': (4, 4, 286, 37), 'template_all_atom_positions': (4, 4, 286, 37, 3), 'template_sum_probs': (4, 4, 1), 'is_distillation': (4,), 'seq_mask': (4, 286), 'msa_mask': (4, 508, 286), 'msa_row_mask': (4, 508), 'random_crop_to_size_seed': (4, 2), 'template_mask': (4, 4), 'template_pseudo_beta': (4, 4, 286, 3), 'template_pseudo_beta_mask': (4, 4, 286), 'atom14_atom_exists': (4, 286, 14), 'residx_atom14_to_atom37': (4, 286, 14), 'residx_atom37_to_atom14': (4, 286, 37), 'atom37_atom_exists': (4, 286, 37), 'extra_msa': (4, 1024, 286), 'extra_msa_mask': (4, 1024, 286), 'extra_msa_row_mask': (4, 1024), 'bert_mask': (4, 508, 286), 'true_msa': (4, 508, 286), 'extra_has_deletion': (4, 1024, 286), 'extra_deletion_value': (4, 1024, 286), 'msa_feat': (4, 508, 286, 49), 'target_feat': (4, 286, 22)}\n",
      "I0209 18:55:08.613217 126234918065984 docker_run.py:297] I0209 18:55:08.612550 129414388114048 model.py:175] Output shape was {'distogram': {'bin_edges': (63,), 'logits': (286, 286, 64)}, 'experimentally_resolved': {'logits': (286, 37)}, 'masked_msa': {'logits': (508, 286, 23)}, 'predicted_lddt': {'logits': (286, 50)}, 'structure_module': {'final_atom_mask': (286, 37), 'final_atom_positions': (286, 37, 3)}, 'plddt': (286,), 'ranking_confidence': ()}\n",
      "I0209 18:55:08.613392 126234918065984 docker_run.py:297] I0209 18:55:08.612682 129414388114048 run_alphafold.py:288] Total JAX model model_2_pred_0 on AAP20891_1 predict time (includes compilation time, see --benchmark): 93.3s\n",
      "I0209 18:55:08.796196 126234918065984 docker_run.py:297] I0209 18:55:08.795683 129414388114048 run_alphafold.py:276] Running model model_3_pred_0 on AAP20891_1\n",
      "I0209 18:55:11.976388 126234918065984 docker_run.py:297] I0209 18:55:11.975605 129414388114048 model.py:165] Running predict with shape(feat) = {'aatype': (4, 286), 'residue_index': (4, 286), 'seq_length': (4,), 'is_distillation': (4,), 'seq_mask': (4, 286), 'msa_mask': (4, 512, 286), 'msa_row_mask': (4, 512), 'random_crop_to_size_seed': (4, 2), 'atom14_atom_exists': (4, 286, 14), 'residx_atom14_to_atom37': (4, 286, 14), 'residx_atom37_to_atom14': (4, 286, 37), 'atom37_atom_exists': (4, 286, 37), 'extra_msa': (4, 5120, 286), 'extra_msa_mask': (4, 5120, 286), 'extra_msa_row_mask': (4, 5120), 'bert_mask': (4, 512, 286), 'true_msa': (4, 512, 286), 'extra_has_deletion': (4, 5120, 286), 'extra_deletion_value': (4, 5120, 286), 'msa_feat': (4, 512, 286, 49), 'target_feat': (4, 286, 22)}\n",
      "I0209 18:56:30.749872 126234918065984 docker_run.py:297] I0209 18:56:30.749186 129414388114048 model.py:175] Output shape was {'distogram': {'bin_edges': (63,), 'logits': (286, 286, 64)}, 'experimentally_resolved': {'logits': (286, 37)}, 'masked_msa': {'logits': (512, 286, 23)}, 'predicted_lddt': {'logits': (286, 50)}, 'structure_module': {'final_atom_mask': (286, 37), 'final_atom_positions': (286, 37, 3)}, 'plddt': (286,), 'ranking_confidence': ()}\n",
      "I0209 18:56:30.750071 126234918065984 docker_run.py:297] I0209 18:56:30.749317 129414388114048 run_alphafold.py:288] Total JAX model model_3_pred_0 on AAP20891_1 predict time (includes compilation time, see --benchmark): 78.8s\n",
      "I0209 18:56:30.932418 126234918065984 docker_run.py:297] I0209 18:56:30.931747 129414388114048 run_alphafold.py:276] Running model model_4_pred_0 on AAP20891_1\n",
      "I0209 18:56:34.075862 126234918065984 docker_run.py:297] I0209 18:56:34.074738 129414388114048 model.py:165] Running predict with shape(feat) = {'aatype': (4, 286), 'residue_index': (4, 286), 'seq_length': (4,), 'is_distillation': (4,), 'seq_mask': (4, 286), 'msa_mask': (4, 512, 286), 'msa_row_mask': (4, 512), 'random_crop_to_size_seed': (4, 2), 'atom14_atom_exists': (4, 286, 14), 'residx_atom14_to_atom37': (4, 286, 14), 'residx_atom37_to_atom14': (4, 286, 37), 'atom37_atom_exists': (4, 286, 37), 'extra_msa': (4, 5120, 286), 'extra_msa_mask': (4, 5120, 286), 'extra_msa_row_mask': (4, 5120), 'bert_mask': (4, 512, 286), 'true_msa': (4, 512, 286), 'extra_has_deletion': (4, 5120, 286), 'extra_deletion_value': (4, 5120, 286), 'msa_feat': (4, 512, 286, 49), 'target_feat': (4, 286, 22)}\n",
      "I0209 18:57:49.478633 126234918065984 docker_run.py:297] I0209 18:57:49.478027 129414388114048 model.py:175] Output shape was {'distogram': {'bin_edges': (63,), 'logits': (286, 286, 64)}, 'experimentally_resolved': {'logits': (286, 37)}, 'masked_msa': {'logits': (512, 286, 23)}, 'predicted_lddt': {'logits': (286, 50)}, 'structure_module': {'final_atom_mask': (286, 37), 'final_atom_positions': (286, 37, 3)}, 'plddt': (286,), 'ranking_confidence': ()}\n",
      "I0209 18:57:49.478832 126234918065984 docker_run.py:297] I0209 18:57:49.478156 129414388114048 run_alphafold.py:288] Total JAX model model_4_pred_0 on AAP20891_1 predict time (includes compilation time, see --benchmark): 75.4s\n",
      "I0209 18:57:49.663070 126234918065984 docker_run.py:297] I0209 18:57:49.662528 129414388114048 run_alphafold.py:276] Running model model_5_pred_0 on AAP20891_1\n",
      "I0209 18:57:52.800162 126234918065984 docker_run.py:297] I0209 18:57:52.799148 129414388114048 model.py:165] Running predict with shape(feat) = {'aatype': (4, 286), 'residue_index': (4, 286), 'seq_length': (4,), 'is_distillation': (4,), 'seq_mask': (4, 286), 'msa_mask': (4, 512, 286), 'msa_row_mask': (4, 512), 'random_crop_to_size_seed': (4, 2), 'atom14_atom_exists': (4, 286, 14), 'residx_atom14_to_atom37': (4, 286, 14), 'residx_atom37_to_atom14': (4, 286, 37), 'atom37_atom_exists': (4, 286, 37), 'extra_msa': (4, 1024, 286), 'extra_msa_mask': (4, 1024, 286), 'extra_msa_row_mask': (4, 1024), 'bert_mask': (4, 512, 286), 'true_msa': (4, 512, 286), 'extra_has_deletion': (4, 1024, 286), 'extra_deletion_value': (4, 1024, 286), 'msa_feat': (4, 512, 286, 49), 'target_feat': (4, 286, 22)}\n",
      "I0209 18:59:06.248019 126234918065984 docker_run.py:297] I0209 18:59:06.247377 129414388114048 model.py:175] Output shape was {'distogram': {'bin_edges': (63,), 'logits': (286, 286, 64)}, 'experimentally_resolved': {'logits': (286, 37)}, 'masked_msa': {'logits': (512, 286, 23)}, 'predicted_lddt': {'logits': (286, 50)}, 'structure_module': {'final_atom_mask': (286, 37), 'final_atom_positions': (286, 37, 3)}, 'plddt': (286,), 'ranking_confidence': ()}\n",
      "I0209 18:59:06.248191 126234918065984 docker_run.py:297] I0209 18:59:06.247525 129414388114048 run_alphafold.py:288] Total JAX model model_5_pred_0 on AAP20891_1 predict time (includes compilation time, see --benchmark): 73.4s\n",
      "I0209 18:59:11.661808 126234918065984 docker_run.py:297] I0209 18:59:11.660365 129414388114048 amber_minimize.py:178] alterations info: {'nonstandard_residues': [], 'removed_heterogens': set(), 'missing_residues': {}, 'missing_heavy_atoms': {}, 'missing_terminals': {<Residue 285 (TRP) of chain 0>: ['OXT']}, 'Se_in_MET': [], 'removed_chains': {0: []}}\n",
      "I0209 18:59:11.858800 126234918065984 docker_run.py:297] I0209 18:59:11.858058 129414388114048 amber_minimize.py:408] Minimizing protein, attempt 1 of 100.\n",
      "I0209 18:59:12.170496 126234918065984 docker_run.py:297] I0209 18:59:12.169910 129414388114048 amber_minimize.py:69] Restraining 2212 / 4439 particles.\n",
      "I0209 18:59:14.782054 126234918065984 docker_run.py:297] I0209 18:59:14.780544 129414388114048 amber_minimize.py:178] alterations info: {'nonstandard_residues': [], 'removed_heterogens': set(), 'missing_residues': {}, 'missing_heavy_atoms': {}, 'missing_terminals': {}, 'Se_in_MET': [], 'removed_chains': {0: []}}\n",
      "I0209 18:59:17.725336 126234918065984 docker_run.py:297] I0209 18:59:17.724404 129414388114048 amber_minimize.py:500] Iteration completed: Einit 67630.03 Efinal -7208.87 Time 1.44 s num residue violations 0 num residue exclusions 0\n",
      "I0209 18:59:18.429040 126234918065984 docker_run.py:297] I0209 18:59:18.428259 129414388114048 run_alphafold.py:414] Final timings for AAP20891_1: {'features': 1760.3612880706787, 'process_features_model_1_pred_0': 4.747036695480347, 'predict_and_compile_model_1_pred_0': 126.29224181175232, 'process_features_model_2_pred_0': 3.57088565826416, 'predict_and_compile_model_2_pred_0': 93.27748966217041, 'process_features_model_3_pred_0': 3.1796696186065674, 'predict_and_compile_model_3_pred_0': 78.77385020256042, 'process_features_model_4_pred_0': 3.142765522003174, 'predict_and_compile_model_4_pred_0': 75.4035313129425, 'process_features_model_5_pred_0': 3.1363840103149414, 'predict_and_compile_model_5_pred_0': 73.44848084449768, 'relax_model_1_pred_0': 11.401028394699097}\n",
      "\n"
     ]
    },
    {
     "data": {
      "text/plain": [
       "{}"
      ]
     },
     "execution_count": 7,
     "metadata": {},
     "output_type": "execute_result"
    }
   ],
   "source": [
    "alphafold_runner.run_alphafold(sequence=sequence, sequence_id=id)"
   ]
  },
  {
   "cell_type": "markdown",
   "metadata": {},
   "source": [
    "Attempts to run AlphaFold prediction on the input sequence. The output indicates that a FASTA file was created, but the execution encountered an error when trying to locate the output structure file.\n",
    "\n",
    "## Note\n",
    "The execution appears to have encountered an error when trying to find the output PDB file (`AAP20891_1_relaxed.pdb`). This might indicate an issue with the AlphaFold execution or output file generation."
   ]
  },
  {
   "cell_type": "code",
   "execution_count": null,
   "metadata": {},
   "outputs": [],
   "source": []
  }
 ],
 "metadata": {
  "kernelspec": {
   "display_name": "pyeed_niklas",
   "language": "python",
   "name": "python3"
  },
  "language_info": {
   "codemirror_mode": {
    "name": "ipython",
    "version": 3
   },
   "file_extension": ".py",
   "mimetype": "text/x-python",
   "name": "python",
   "nbconvert_exporter": "python",
   "pygments_lexer": "ipython3",
   "version": "3.12.8"
  }
 },
 "nbformat": 4,
 "nbformat_minor": 2
}
